{
 "cells": [
  {
   "cell_type": "markdown",
   "metadata": {},
   "source": [
    "# Plotting Styles:"
   ]
  },
  {
   "cell_type": "code",
   "execution_count": 1,
   "metadata": {},
   "outputs": [],
   "source": [
    "# TO CHANGE THE PLOT STYPE OF MATPLOTLIB, ADD THIS FUNCTION TO SCRIPT\n",
    "def useMyRC():\n",
    "    import matplotlib as mpl\n",
    "    mpl.rcParams.update(mpl.rcParamsDefault)\n",
    "    mpl.pyplot.style.use('fivethirtyeight') #bmh #ggplot #seaborn #fivethirtyeight\n",
    "    \n",
    "#     mpl.rcParams['lines.markersize'] = 8\n",
    "    mpl.rcParams['lines.linewidth'] = 1.5\n",
    "    mpl.rcParams.update({'figure.facecolor':'white'})#, 'axes.facecolor':'white'})\n",
    "#     mpl.rcParams['xtick.labelsize'] = 'medium'\n",
    "#     mpl.rcParams['ytick.labelsize'] = 'medium'\n",
    "#     mpl.rcParams['font.size'] = 16\n",
    "\n",
    "def resetRC():\n",
    "    import matplotlib as mpl\n",
    "    mpl.rcParams.update(mpl.rcParamsDefault)"
   ]
  },
  {
   "cell_type": "code",
   "execution_count": null,
   "metadata": {},
   "outputs": [],
   "source": [
    "resetRC()\n",
    "# useMyRC()"
   ]
  }
 ],
 "metadata": {
  "kernelspec": {
   "display_name": "Python 3",
   "language": "python",
   "name": "python3"
  },
  "language_info": {
   "codemirror_mode": {
    "name": "ipython",
    "version": 3
   },
   "file_extension": ".py",
   "mimetype": "text/x-python",
   "name": "python",
   "nbconvert_exporter": "python",
   "pygments_lexer": "ipython3",
   "version": "3.7.3"
  }
 },
 "nbformat": 4,
 "nbformat_minor": 2
}
