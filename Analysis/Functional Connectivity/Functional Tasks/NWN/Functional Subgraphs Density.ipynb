{
 "cells": [
  {
   "cell_type": "code",
   "execution_count": 1,
   "metadata": {},
   "outputs": [],
   "source": [
    "import sys\n",
    "sys.path.append('/import/silo2/aloe8475/Documents/edamame')"
   ]
  },
  {
   "cell_type": "code",
   "execution_count": 3,
   "metadata": {},
   "outputs": [],
   "source": [
    "from edamame import *\n",
    "import numpy as np\n",
    "import matplotlib.pyplot as plt\n",
    "from tqdm import tqdm_notebook\n",
    "import pickle \n",
    "import _pickle as cPickle\n",
    "import gzip\n",
    "from IPython.core.debugger import set_trace\n",
    "import bct\n",
    "import pandas as pd"
   ]
  },
  {
   "cell_type": "code",
   "execution_count": 4,
   "metadata": {},
   "outputs": [],
   "source": [
    "def compressed_pickle(obj, filename,protocol=-1):\n",
    "    with gzip.open(filename, 'wb') as f:\n",
    "        cPickle.dump(obj, f, protocol)\n",
    "def decompress_pickle(file):\n",
    "    with gzip.open(file, 'rb') as f:\n",
    "        loaded_object = cPickle.load(f,encoding=\"bytes\") #change this for python 2\n",
    "        return loaded_object"
   ]
  },
  {
   "cell_type": "code",
   "execution_count": 9,
   "metadata": {},
   "outputs": [],
   "source": [
    "dataLoc='/import/silo2/aloe8475/Documents/CODE/Data/Functional Connectivity/NWN Results/'"
   ]
  },
  {
   "cell_type": "code",
   "execution_count": 5,
   "metadata": {},
   "outputs": [
    {
     "name": "stdout",
     "output_type": "stream",
     "text": [
      "Loading NLT Voltage Sweep Results\n",
      "Loading MC Voltage Sweep Results\n",
      "Loading NWN Networks, MC and NLT Results\n"
     ]
    }
   ],
   "source": [
    "name='/import/silo2/aloe8475/Documents/CODE/Data/Functional Connectivity/DensityNWNs/VoltageSweep_DensityNetworks_NWN_NLT.pkl'\n",
    "print('Loading NLT Voltage Sweep Results')\n",
    "file = open(name, 'rb')\n",
    "[results] = pickle.load(file)\n",
    "\n",
    "name='/import/silo2/aloe8475/Documents/CODE/Data/Functional Connectivity/DensityNWNs/VoltageSweep_DensityNetworks_NWN_NKMAX_MC.pkl'\n",
    "print('Loading MC Voltage Sweep Results')\n",
    "file = open(name, 'rb')\n",
    "[results_MC,idx] = pickle.load(file)\n",
    "\n",
    "# name='/import/silo2/aloe8475/Documents/CODE/Analysis/Functional Connectivity/Functional Tasks/VaryingDensity300NW_NWN.pkl'\n",
    "name='/import/silo2/aloe8475/Documents/CODE/Analysis/Functional Connectivity/Functional Tasks/VaryingDensity300NWset2_NWN.pkl'\n",
    "print('Loading NWN Networks, MC and NLT Results')\n",
    "file = open(name, 'rb')\n",
    "[NWN] = pickle.load(file)\n",
    "\n"
   ]
  },
  {
   "cell_type": "code",
   "execution_count": 6,
   "metadata": {},
   "outputs": [],
   "source": [
    "#Global Variables\n",
    "onAmp=[0.2,0.5,0.75,1,1.25,1.5,1.75,2,3,5,10]\n",
    "volts=[1,3,7] #index of voltages we want to show\n",
    "voltNames=['0p2','0p5','0p75','1','1p25','1p5','1p75','2','3','5','10']\n",
    "numNWs=len(NWN)*len(NWN[0])"
   ]
  },
  {
   "cell_type": "code",
   "execution_count": 7,
   "metadata": {},
   "outputs": [],
   "source": [
    "#accuracy arrays\n",
    "results=np.array(results).reshape(11,numNWs)\n",
    "resultsMC=np.array(results_MC).reshape(11,numNWs)\n",
    "#Reshaped accuracy array\n",
    "newResults=results.reshape(11,20,10)\n",
    "newResultsMC=results_MC.reshape(11,20,10)"
   ]
  },
  {
   "cell_type": "code",
   "execution_count": 8,
   "metadata": {},
   "outputs": [],
   "source": [
    "#Standardized Accuracy\n",
    "asn_acc_new=(newResults-np.min(newResults))/(np.max(newResults)-np.min(newResults))\n",
    "asn_mc_new=(newResultsMC-np.min(newResultsMC))/(np.max(newResultsMC)-np.min(newResultsMC))"
   ]
  },
  {
   "cell_type": "code",
   "execution_count": 11,
   "metadata": {},
   "outputs": [
    {
     "data": {
      "application/vnd.jupyter.widget-view+json": {
       "model_id": "a1b3fc9ab4d847478c38a137c2d5eaad",
       "version_major": 2,
       "version_minor": 0
      },
      "text/plain": [
       "HBox(children=(IntProgress(value=0, max=20), HTML(value='')))"
      ]
     },
     "metadata": {},
     "output_type": "display_data"
    },
    {
     "name": "stdout",
     "output_type": "stream",
     "text": [
      "\n"
     ]
    }
   ],
   "source": [
    "avgDeg=[[] for i in range(len(NWN))]\n",
    "networks=[]\n",
    "for i in tqdm(range(len(NWN))):\n",
    "    A=[]\n",
    "    G=[]\n",
    "    for j in range(len(NWN[i])):\n",
    "        A=NWN[i][j]['adj_matrix']\n",
    "        G=nx.from_numpy_array(A)\n",
    "        avgDeg[i].append(np.mean(np.array(G.degree())[:,1]))\n",
    "        networks.append(NWN[i][j])"
   ]
  },
  {
   "cell_type": "code",
   "execution_count": 14,
   "metadata": {},
   "outputs": [
    {
     "data": {
      "application/vnd.jupyter.widget-view+json": {
       "model_id": "5578dcb94daf445fb5b22ed739dc1235",
       "version_major": 2,
       "version_minor": 0
      },
      "text/plain": [
       "HBox(children=(IntProgress(value=0, max=11), HTML(value='')))"
      ]
     },
     "metadata": {},
     "output_type": "display_data"
    },
    {
     "name": "stdout",
     "output_type": "stream",
     "text": [
      "\n"
     ]
    }
   ],
   "source": [
    "NWN_NLT_sims=[[] for i in range(len(newResults))]\n",
    "NWN_MC_sims=[[] for i in range(len(newResults))]\n",
    "j=0\n",
    "for volt in tqdm(range(len(newResults))):\n",
    "    for i in range(len(networks)):\n",
    "        name=dataLoc+'NWN_NLT_Simulation_Density_Network_'+str(i+1)+'_'+voltNames[volt]+'v.pkl'\n",
    "        name2=dataLoc+'NWNMC_Simulation_Density_Network_'+str(i+1)+'_'+voltNames[volt]+'v.pkl'\n",
    "        NWN_NLT_sims[j].append(decompress_pickle(name))\n",
    "        NWN_MC_sims[j].append(decompress_pickle(name2))\n",
    "    j=j+1"
   ]
  },
  {
   "cell_type": "code",
   "execution_count": 15,
   "metadata": {},
   "outputs": [],
   "source": [
    "def getWeightedGraph(sims,network,edgeList,numWires):#, this_TimeStamp = 0):\n",
    "#     edgeList = network['edge_list']\n",
    "    adjMat = np.zeros((numWires, numWires))\n",
    "#     set_trace()\n",
    "    adjMat[edgeList[:,0], edgeList[:,1]] = sims['JunctionConductance']#network.junctionSwitch[this_TimeStamp,:] #CHANGE THIS TO CONDUCTANCE THRESHOLD?\n",
    "    adjMat[edgeList[:,1], edgeList[:,0]] = sims['JunctionConductance']#network.junctionSwitch[this_TimeStamp,:] #CHANGE THIS TO CONDUCTANCE THRESHOLD?\n",
    "    WeightedGraph = nx.from_numpy_array(adjMat)\n",
    "    WeightedGraph=nx.DiGraph.to_undirected(WeightedGraph)\n",
    "    \n",
    "    return WeightedGraph"
   ]
  },
  {
   "cell_type": "code",
   "execution_count": 28,
   "metadata": {},
   "outputs": [],
   "source": [
    "NWN_NLT_sims=np.array(NWN_NLT_sims).reshape(11,20,10)\n",
    "NWN_MC_sims=np.array(NWN_MC_sims).reshape(11,20,10)"
   ]
  },
  {
   "cell_type": "code",
   "execution_count": 112,
   "metadata": {},
   "outputs": [
    {
     "data": {
      "application/vnd.jupyter.widget-view+json": {
       "model_id": "29407866814a4a44b081ce0755a34962",
       "version_major": 2,
       "version_minor": 0
      },
      "text/plain": [
       "HBox(children=(IntProgress(value=0, max=11), HTML(value='')))"
      ]
     },
     "metadata": {},
     "output_type": "display_data"
    },
    {
     "data": {
      "application/vnd.jupyter.widget-view+json": {
       "model_id": "69c1cab9990c4dd0a11582feed5aecb5",
       "version_major": 2,
       "version_minor": 0
      },
      "text/plain": [
       "HBox(children=(IntProgress(value=0, max=20), HTML(value='')))"
      ]
     },
     "metadata": {},
     "output_type": "display_data"
    },
    {
     "data": {
      "application/vnd.jupyter.widget-view+json": {
       "model_id": "7800d8da8e254044b3ec14ba39696e40",
       "version_major": 2,
       "version_minor": 0
      },
      "text/plain": [
       "HBox(children=(IntProgress(value=0, max=20), HTML(value='')))"
      ]
     },
     "metadata": {},
     "output_type": "display_data"
    },
    {
     "data": {
      "application/vnd.jupyter.widget-view+json": {
       "model_id": "a9bafe0ed0e04f4cb08d5f96b1315447",
       "version_major": 2,
       "version_minor": 0
      },
      "text/plain": [
       "HBox(children=(IntProgress(value=0, max=20), HTML(value='')))"
      ]
     },
     "metadata": {},
     "output_type": "display_data"
    },
    {
     "data": {
      "application/vnd.jupyter.widget-view+json": {
       "model_id": "e9226a4566024be6aee0a7d16db16551",
       "version_major": 2,
       "version_minor": 0
      },
      "text/plain": [
       "HBox(children=(IntProgress(value=0, max=20), HTML(value='')))"
      ]
     },
     "metadata": {},
     "output_type": "display_data"
    },
    {
     "data": {
      "application/vnd.jupyter.widget-view+json": {
       "model_id": "bfea9dda87fb454e84f4b970b2593d4d",
       "version_major": 2,
       "version_minor": 0
      },
      "text/plain": [
       "HBox(children=(IntProgress(value=0, max=20), HTML(value='')))"
      ]
     },
     "metadata": {},
     "output_type": "display_data"
    },
    {
     "data": {
      "application/vnd.jupyter.widget-view+json": {
       "model_id": "773ded0e5c76407cad81b88eb56beddf",
       "version_major": 2,
       "version_minor": 0
      },
      "text/plain": [
       "HBox(children=(IntProgress(value=0, max=20), HTML(value='')))"
      ]
     },
     "metadata": {},
     "output_type": "display_data"
    },
    {
     "data": {
      "application/vnd.jupyter.widget-view+json": {
       "model_id": "c1d18cad8a094200bc412a3c56c4c750",
       "version_major": 2,
       "version_minor": 0
      },
      "text/plain": [
       "HBox(children=(IntProgress(value=0, max=20), HTML(value='')))"
      ]
     },
     "metadata": {},
     "output_type": "display_data"
    },
    {
     "data": {
      "application/vnd.jupyter.widget-view+json": {
       "model_id": "4e94e746281b43b4b142c8e9a65300d7",
       "version_major": 2,
       "version_minor": 0
      },
      "text/plain": [
       "HBox(children=(IntProgress(value=0, max=20), HTML(value='')))"
      ]
     },
     "metadata": {},
     "output_type": "display_data"
    },
    {
     "data": {
      "application/vnd.jupyter.widget-view+json": {
       "model_id": "3b7fb541399e4d85a3697a478f299f32",
       "version_major": 2,
       "version_minor": 0
      },
      "text/plain": [
       "HBox(children=(IntProgress(value=0, max=20), HTML(value='')))"
      ]
     },
     "metadata": {},
     "output_type": "display_data"
    },
    {
     "data": {
      "application/vnd.jupyter.widget-view+json": {
       "model_id": "41abeed12277413592eb359e6f3618bc",
       "version_major": 2,
       "version_minor": 0
      },
      "text/plain": [
       "HBox(children=(IntProgress(value=0, max=20), HTML(value='')))"
      ]
     },
     "metadata": {},
     "output_type": "display_data"
    },
    {
     "data": {
      "application/vnd.jupyter.widget-view+json": {
       "model_id": "1a3d68e49ec54e1482773fe1d2cfbe2b",
       "version_major": 2,
       "version_minor": 0
      },
      "text/plain": [
       "HBox(children=(IntProgress(value=0, max=20), HTML(value='')))"
      ]
     },
     "metadata": {},
     "output_type": "display_data"
    }
   ],
   "source": [
    "sources=[[] for i in range(len(newResults))]\n",
    "drains=[[] for i in range(len(newResults))]\n",
    "sourcesMC=[[] for i in range(len(newResults))]\n",
    "drainsMC=[[] for i in range(len(newResults))]\n",
    "weightedSubGraph=[[] for i in range(len(newResults))]\n",
    "for i in tqdm(range(len(newResults))): #for each voltage\n",
    "    for j in tqdm(range(len(NWN))): #for each network\n",
    "        sim=NWN_NLT_sims[i][j][1] #use one sample network to show functional graph\n",
    "        network=NWN[j][1]['adj_matrix'] #use sample network to show functional graph\n",
    "        sources[i].append(sim['Source'])\n",
    "        drains[i].append(sim['Drain'])\n",
    "        OGgraph=nx.from_numpy_array(network).copy()\n",
    "        pos=nx.kamada_kawai_layout(OGgraph)\n",
    "        numWires=nx.from_numpy_array(network).number_of_nodes()\n",
    "        sim['JunctionResistance']=1/sim['JunctionConductance']\n",
    "        edgeList=np.array(list(nx.from_numpy_array(network).edges()))\n",
    "#         subGraph=getOnGraph(sim,network,edgeList,numWires)\n",
    "        weightedSubGraph[i].append(getWeightedGraph(sim,network,edgeList,numWires))"
   ]
  },
  {
   "cell_type": "code",
   "execution_count": 113,
   "metadata": {},
   "outputs": [],
   "source": [
    "weightedSubGraph=np.array(weightedSubGraph).reshape(11,20)"
   ]
  },
  {
   "cell_type": "code",
   "execution_count": 114,
   "metadata": {},
   "outputs": [],
   "source": [
    "maxWeightsNLT=[]\n",
    "minWeightsNLT=[]\n",
    "maxWeightsMC=[]\n",
    "minWeightsMC=[]\n",
    "for i in range(len(weightedSubGraph)):\n",
    "    weights=[]\n",
    "    weightsMin=[]\n",
    "    for j in range(len(weightedSubGraph[i])):\n",
    "        maxNW=np.argmax(newResults[i][j][1])\n",
    "        minNW=np.argmin(newResults[i][j][1])\n",
    "        G=weightedSubGraph[i][j]\n",
    "        edges=G.edges()\n",
    "        weights1=[G[u][v]['weight'] for u,v in edges]\n",
    "        weights.append([i * 1e6 for i in (weights1)])\n",
    "    maxWeightsNLT.append(np.max(np.hstack(weights)))\n",
    "    minWeightsNLT.append(np.min(np.hstack(weights)))\n",
    "    \n",
    "    weightsMC=[]\n",
    "    weights1MC=[]\n",
    "    for j in range(len(weightedSubGraph[i])):\n",
    "        maxNW=np.argmax(newResultsMC[i][j][1])\n",
    "        minNW=np.argmin(newResultsMC[i][j][1])\n",
    "        G=weightedSubGraph[i][j]\n",
    "        edges=G.edges()\n",
    "        weights1MC.append([G[u][v]['weight'] for u,v in edges])\n",
    "        weightsMC.append([i * 1e6 for i in (weights1MC[j])])\n",
    "    if weightsMC[0]:\n",
    "        maxWeightsMC.append(np.max(np.array(weightsMC)))\n",
    "        minWeightsMC.append(np.min(np.array(weightsMC)))\n",
    "\n",
    "# minWeightsNLT=np.min(minWeightsNLT)\n",
    "# maxWeightsNLT=np.max(maxWeightsNLT)"
   ]
  },
  {
   "cell_type": "code",
   "execution_count": null,
   "metadata": {},
   "outputs": [],
   "source": [
    "#### PLOT SUBGRAPHS + CURRENT OVERLAY\n",
    "#Max NLT\n",
    "fig, axes = plt.subplots(11,len(weightedSubGraph),figsize=(12,20))\n",
    "for i in tqdm(range(len(weightedSubGraph))): #for each network\n",
    "    for j in range(len(weightedSubGraph[i])):#For each voltage\n",
    "\n",
    "            #find top + bottom network\n",
    "        ax=axes[j][i]\n",
    "        G=weightedSubGraph[i][j]#current_new[i][j][maxNW]\n",
    "        edge_weights=nx.get_edge_attributes(G,'weight')\n",
    "        G.remove_edges_from((e for e, w in edge_weights.items() if w <1e-6)) \n",
    "        edges=G.edges()\n",
    "        weights=[G[u][v]['weight'] for u,v in edges]\n",
    "\n",
    "\n",
    "        OGgraph=nx.from_numpy_array(NWN[j][1]['adj_matrix'])\n",
    "        #draw OG graph\n",
    "        pos=nx.kamada_kawai_layout(OGgraph)\n",
    "        h=nx.draw_networkx_nodes(OGgraph,pos=pos,node_color='grey',node_size=10,ax=ax)\n",
    "        h.set_zorder(1)\n",
    "\n",
    "        if i == 0:\n",
    "            ax.set_ylabel(str(np.around(onAmp[j],2))+'V')\n",
    "        if j == 0:\n",
    "            ax.set_title(range(6)[i])\n",
    "        h2=nx.draw_networkx_edges(G,pos=pos,ax=ax,edge_color=weights,edge_cmap=plt.cm.inferno,edge_vmin=np.min(np.array(weights1)),edge_vmax=np.max(np.array(weights1)))\n",
    "    \n",
    "        if h2:\n",
    "            h2.set_norm(clrs.SymLogNorm(10))\n",
    "            h2.set_zorder(3)\n",
    "            \n",
    "        nx.draw_networkx_nodes(G,pos=pos,nodelist=sources[i][j],node_color='#3f9b0b',node_size=120,node_shape ='*',ax=ax)\n",
    "        nx.draw_networkx_nodes(G,pos=pos,nodelist=drains[i][j],node_color='#7e1e9c',node_size=120,node_shape ='*',ax=ax)\n",
    "        ax.set_frame_on(False)\n",
    "                \n",
    "        ax.set_yticks([])\n",
    "        ax.set_xticks([])\n",
    "\n"
   ]
  }
 ],
 "metadata": {
  "kernelspec": {
   "display_name": "Python 3",
   "language": "python",
   "name": "python3"
  },
  "language_info": {
   "codemirror_mode": {
    "name": "ipython",
    "version": 3
   },
   "file_extension": ".py",
   "mimetype": "text/x-python",
   "name": "python",
   "nbconvert_exporter": "python",
   "pygments_lexer": "ipython3",
   "version": "3.7.3"
  }
 },
 "nbformat": 4,
 "nbformat_minor": 2
}
