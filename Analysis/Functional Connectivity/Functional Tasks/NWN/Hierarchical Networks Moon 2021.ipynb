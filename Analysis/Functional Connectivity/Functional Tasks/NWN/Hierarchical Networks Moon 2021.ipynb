{
 "cells": [
  {
   "cell_type": "markdown",
   "id": "6213870d",
   "metadata": {},
   "source": [
    "Based on this paper https://doi.org/10.1088/2634-4386/ac1b75"
   ]
  },
  {
   "cell_type": "code",
   "execution_count": 1,
   "id": "bfd8923b",
   "metadata": {},
   "outputs": [],
   "source": [
    "import sys\n",
    "sys.path.append('/import/silo2/aloe8475/Documents/edamame')"
   ]
  },
  {
   "cell_type": "code",
   "execution_count": 27,
   "id": "f2a25480",
   "metadata": {},
   "outputs": [],
   "source": [
    "from scipy.io import loadmat, savemat\n",
    "import numpy as np\n",
    "import matplotlib.pyplot as plt\n",
    "from matplotlib import colors\n",
    "import networkx as nx\n",
    "from edamame import *\n",
    "from tqdm.notebook import tqdm\n",
    "import os\n",
    "import edamame.core.wires as wires\n",
    "from random import choice\n",
    "from IPython.core.debugger import set_trace\n",
    "import pickle \n",
    "import _pickle as cPickle\n",
    "import gzip\n",
    "\n",
    "def compressed_pickle(obj, filename,protocol=-1):\n",
    "    with gzip.open(filename, 'wb') as f:\n",
    "        cPickle.dump(obj, f, protocol)\n",
    "def decompress_pickle(file):\n",
    "    with gzip.open(file, 'rb') as f:\n",
    "        loaded_object = cPickle.load(f,encoding=\"bytes\") #change this for python 2\n",
    "        return loaded_object"
   ]
  },
  {
   "cell_type": "code",
   "execution_count": 9,
   "id": "21a4f502",
   "metadata": {},
   "outputs": [],
   "source": [
    "\n",
    "dataLoc='/import/silo2/aloe8475/Documents/CODE/Data/Functional Connectivity/Hierarchical Results/'\n",
    "saveFig='/import/silo2/aloe8475/Documents/CODE/Data/Figures/Functional Connectivity/'"
   ]
  },
  {
   "cell_type": "code",
   "execution_count": 10,
   "id": "1e63bc3d",
   "metadata": {},
   "outputs": [],
   "source": [
    "name2='/import/silo2/aloe8475/Documents/CODE/Data/Functional Connectivity/300nw_2_modules_separated_10sets_NWN.pkl'\n",
    "NWN_separate=decompress_pickle(name2)"
   ]
  },
  {
   "cell_type": "code",
   "execution_count": 11,
   "id": "68c0931a",
   "metadata": {},
   "outputs": [],
   "source": [
    "module=NWN_separate[0][0][1]"
   ]
  },
  {
   "cell_type": "code",
   "execution_count": null,
   "id": "9e4517ae",
   "metadata": {},
   "outputs": [],
   "source": [
    "a = module['G']\n",
    "\n",
    "\n",
    "# b = nx.union(a,a, rename=('a-', 'b-'))\n",
    "# b.add_edge('a-148', 'b-148')\n",
    "\n",
    "# plt.figure()\n",
    "# nx.draw_networkx(b,with_labels=True,node_size=500)\n",
    "\n",
    "# plt.figure()\n",
    "# a=nx.relabel_nodes(a, { n: str(n) if n==0 else 'c-'+str(n) for n in  a.nodes })\n",
    "# c = nx.union(a,b)\n",
    "# c.add_edge('c-114','b-114')\n",
    "# pos=nx.kamada_kawai_layout(c)\n",
    "# nx.draw_networkx(c,pos=pos,with_labels=True,node_size=500)\n",
    "# plt.show()"
   ]
  },
  {
   "cell_type": "markdown",
   "id": "1dccfc10",
   "metadata": {},
   "source": [
    "### MEMORY CAPACITY TASK (MC)"
   ]
  },
  {
   "cell_type": "code",
   "execution_count": null,
   "id": "8abea16f",
   "metadata": {},
   "outputs": [],
   "source": [
    "# FUNCTIONS\n",
    "def MC_k_new(network, k = 1, node_list=[], transient = 100):\n",
    "#     node_list=n_outs#len(node_list)\n",
    "    signal = network.stimulus[0].signal[transient:]\n",
    "    wire_voltage = network.wireVoltage[transient:]\n",
    "    T, N = wire_voltage.shape\n",
    "#     node_list = np.random.choice(range(0, N), n_outs, replace = False)\n",
    "    lhs = wire_voltage[k:,node_list]\n",
    "    rhs = signal[:-k]\n",
    "    try:\n",
    "        weight = np.linalg.lstsq(lhs, rhs, rcond = None)[0]\n",
    "        result = np.matmul(lhs, weight)\n",
    "        mc = (np.cov(rhs, result)[0,1])**2/(np.var(signal[k:])*np.var(result))\n",
    "        return mc\n",
    "    except:\n",
    "        return 0\n",
    "    \n",
    "def get_MC_Voltsweep(Graph,signal,amp = 2, dt = 0.01, dur = 1, n_outs = 100, init_state = None, return_sim = False,seed=42):\n",
    "    ampName=str(amp).replace('.','p')\n",
    "#     np.random.seed(seed)\n",
    "    stimulus=[]\n",
    "    stimulus.append(stimulus__(biasType='Custom',T=10,dt=dt,customSignal=signal))#signal_expand(np.random.random(1000)*2*amp-amp, dur)))\n",
    "    stimulus.append(stimulus__(biasType='Drain',T=10,dt=dt)) #we don't want this drain to be active during training\n",
    "    simRAND = runSim(connectivity__(graph=Graph), T = 10, dt = dt,\n",
    "                stimulus=stimulus,\n",
    "#                 biasType = 'Custom', customSignal = signal#signal_expand(np.random.random(1000)*2*amp-amp, dur), \n",
    "                junctionMode = 'tunneling', \n",
    "#                 electrodes=elecs[-2:],\n",
    "                contactMode = 'farthest',\n",
    "                findFirst=False, disable_tqdm=True)    \n",
    "    nodesList=[]\n",
    "    for i in range(len(Graph.nodes)):\n",
    "        nodesList.append(i)\n",
    "#     nodesList = np.array([i for i in Graph.nodes]) #if we want to measure from all nodes\n",
    "    \n",
    "#     results={'JunctionConductance':simRAND.junctionConductance[-1],'JunctionVoltage':simRAND.junctionVoltage[-1],'Switch':simRAND.junctionSwitch[-1],'Source':simRAND.sources[0:2],'Drain':simRAND.drains[0:2],'Signal':simRAND.stimulus,'conductance':simRAND.conductance}\n",
    "#     compressed_pickle(results,dataLoc+'_MC_Simulation_'+'_2modules_Rewired_Network_'+str(j+1)+'_'+str(k+1)+'_'+ampName+'v.pkl')\n",
    "\n",
    "    mcRAND = [MC_k_new(simRAND, m, node_list=nodesList) for m in range(dur, len(nodesList)*dur, dur)]\n",
    "    \n",
    "    if return_sim:\n",
    "        return np.sum(mcRAND), simRAND, Graph, nodesList\n",
    "    else:\n",
    "        return np.sum(mcRAND)\n",
    "    \n",
    "\n",
    "def get_MC_Voltsweep_deep(Graph,amp = 2, voltageInputs=[],elecs=[], dt = 0.01, dur = 1, n_outs = 100, init_state = None, return_sim = False,seed=42):\n",
    "    ampName=str(amp).replace('.','p')\n",
    "    np.random.seed(seed)\n",
    "    stimulus=[]\n",
    "    if elecs:\n",
    "        electrodes=elecs\n",
    "        contactMode='preSet'\n",
    "        for volt in voltageInputs:\n",
    "            stimulus.append(stimulus__(biasType='Custom',T=10,dt=dt,customSignal=volt))#signal_expand(np.random.random(1000)*2*volt-volt, dur)))\n",
    "        stimulus.append(stimulus__(biasType='Drain',T=10,dt=dt)) #we don't want this drain to be active during training\n",
    "    else:\n",
    "        electrodes=None\n",
    "        contactMode='farthest'\n",
    "        stimulus.append(stimulus__(biasType='Custom',T=10,dt=dt,customSignal=signal_expand((np.random.random(1000)*2*amp-amp), dur)))\n",
    "        stimulus.append(stimulus__(biasType='Drain',T=10,dt=dt)) #we don't want this drain to be active during training\n",
    "    \n",
    "    simRAND = runSim(connectivity__(graph=Graph), T = 10, dt = dt,\n",
    "                stimulus=stimulus,\n",
    "#                 biasType = 'Custom', customSignal = signal_expand(np.random.random(1000)*2*amp-amp, dur), \n",
    "                junctionMode = 'tunneling', \n",
    "                electrodes=electrodes,\n",
    "                contactMode = contactMode,\n",
    "                findFirst=False, disable_tqdm=True)    \n",
    "    nodesList=[]\n",
    "    for i in range(len(Graph.nodes)):\n",
    "        nodesList.append(i)\n",
    "#     nodesList = np.array([i for i in Graph.nodes]) #if we want to measure from all nodes\n",
    "    \n",
    "#     results={'JunctionConductance':simRAND.junctionConductance[-1],'JunctionVoltage':simRAND.junctionVoltage[-1],'Switch':simRAND.junctionSwitch[-1],'Source':simRAND.sources[0:2],'Drain':simRAND.drains[0:2],'Signal':simRAND.stimulus,'conductance':simRAND.conductance}\n",
    "#     compressed_pickle(results,dataLoc+'_MC_Simulation_'+'_2modules_Rewired_Network_'+str(j+1)+'_'+str(k+1)+'_'+ampName+'v.pkl')\n",
    "\n",
    "    mcRAND = [MC_k_new(simRAND, m, node_list=nodesList) for m in range(dur, len(nodesList)*dur, dur)]\n",
    "    \n",
    "    if return_sim:\n",
    "        return np.sum(mcRAND), simRAND, Graph, nodesList\n",
    "    else:\n",
    "        return np.sum(mcRAND)"
   ]
  },
  {
   "cell_type": "code",
   "execution_count": 239,
   "id": "66362b9b",
   "metadata": {},
   "outputs": [
    {
     "data": {
      "application/vnd.jupyter.widget-view+json": {
       "model_id": "e31d98cf73f84d2cba450ed94b9df346",
       "version_major": 2,
       "version_minor": 0
      },
      "text/plain": [
       "HBox(children=(FloatProgress(value=0.0), HTML(value='')))"
      ]
     },
     "metadata": {},
     "output_type": "display_data"
    },
    {
     "name": "stdout",
     "output_type": "stream",
     "text": [
      "\n"
     ]
    }
   ],
   "source": [
    "#SINGLE NETWORK:\n",
    "\n",
    "numRep=100#number of repeats\n",
    "seeds=np.random.randint(1000,size=numRep) #random seeds\n",
    "MC_single=np.zeros(numRep)\n",
    "for i in tqdm(range(numRep)):\n",
    "    MC_single[i],sim_single,G,node_list=get_MC_Voltsweep(a,amp=2,return_sim=True,seed=seeds[i])"
   ]
  },
  {
   "cell_type": "code",
   "execution_count": 240,
   "id": "ac06e03b",
   "metadata": {},
   "outputs": [
    {
     "name": "stdout",
     "output_type": "stream",
     "text": [
      "7.468066703924522\n"
     ]
    },
    {
     "data": {
      "text/plain": [
       "13.015578578206078"
      ]
     },
     "execution_count": 240,
     "metadata": {},
     "output_type": "execute_result"
    }
   ],
   "source": [
    "print(np.std(MC_single))\n",
    "np.mean(MC_single)"
   ]
  },
  {
   "cell_type": "code",
   "execution_count": 238,
   "id": "7d624c21",
   "metadata": {},
   "outputs": [
    {
     "name": "stdout",
     "output_type": "stream",
     "text": [
      "7.505754367017882\n"
     ]
    },
    {
     "data": {
      "text/plain": [
       "13.228458606502226"
      ]
     },
     "execution_count": 238,
     "metadata": {},
     "output_type": "execute_result"
    }
   ],
   "source": [
    "print(np.std(MC_single))\n",
    "np.mean(MC_single)"
   ]
  },
  {
   "cell_type": "code",
   "execution_count": 273,
   "id": "d681228b",
   "metadata": {
    "scrolled": true
   },
   "outputs": [
    {
     "data": {
      "application/vnd.jupyter.widget-view+json": {
       "model_id": "821111c371b145e3af5f03f9935adffd",
       "version_major": 2,
       "version_minor": 0
      },
      "text/plain": [
       "HBox(children=(FloatProgress(value=0.0), HTML(value='')))"
      ]
     },
     "metadata": {},
     "output_type": "display_data"
    },
    {
     "name": "stdout",
     "output_type": "stream",
     "text": [
      "67.92852106789746\n",
      "9.482952115462645\n",
      "65.42397324975369\n",
      "30.243052768292806\n",
      "58.64129090651578\n",
      "58.83104991576349\n",
      "4.061460219684862\n",
      "6.001595679866405\n",
      "15.489246784786385\n",
      "50.64241839826893\n",
      "8.643435068952368\n",
      "28.19921717290258\n",
      "52.86858247754792\n",
      "49.00831697405513\n",
      "12.282836045274152\n",
      "7.838880159686495\n",
      "70.48280446718519\n",
      "43.76820215363127\n",
      "13.402576990152077\n",
      "67.13655842902358\n",
      "46.09616136361893\n",
      "45.521355876473564\n",
      "53.26190780580927\n",
      "66.48959245544202\n",
      "48.03687844848794\n",
      "4.994323388535214\n",
      "72.4803182129534\n",
      "21.63937507506738\n",
      "10.582872984190962\n",
      "56.620072930135905\n",
      "18.55448042940755\n",
      "59.68542307533647\n",
      "39.07065887956772\n",
      "38.30697490842002\n",
      "17.099097692441887\n",
      "18.910787174983913\n",
      "54.03793736146523\n",
      "66.96009439987154\n",
      "35.355118114874955\n",
      "50.837944435762985\n",
      "13.916479481426746\n",
      "41.406022173784265\n",
      "14.588372055610641\n",
      "56.8927720496541\n",
      "62.760439489836145\n",
      "16.567461481331932\n",
      "10.934808591822595\n",
      "10.60608654470357\n",
      "25.190798201936406\n",
      "2.246185995026247\n",
      "68.27636947497341\n",
      "13.446412809163245\n",
      "55.1152234902697\n",
      "32.63832192913037\n",
      "24.898562613888945\n",
      "23.14453046497579\n",
      "16.096333836942495\n",
      "20.543677428803452\n",
      "62.929250794155834\n",
      "22.550133845583062\n",
      "69.26713255525112\n",
      "16.741414463929324\n",
      "47.38915523901046\n",
      "40.27483028948504\n",
      "22.505832181009136\n",
      "23.767522817112216\n",
      "10.206186284696845\n",
      "31.597357433243314\n",
      "40.27483155028172\n",
      "59.6854227415221\n",
      "13.542635053621085\n",
      "30.20211493942602\n",
      "59.56555424317616\n",
      "57.601067039895284\n",
      "57.2002945783609\n",
      "14.477413568378397\n",
      "69.84613384490682\n",
      "68.33690740267582\n",
      "48.85984573752455\n",
      "10.27776176234574\n",
      "40.34279449871359\n",
      "12.499257745274509\n",
      "20.909018397597002\n",
      "45.52135943897218\n",
      "64.87233411607667\n",
      "19.597440757504273\n",
      "13.542635028787469\n",
      "65.04536199184673\n",
      "5.256193625918771\n",
      "7.247442900108073\n",
      "52.80257184113725\n",
      "70.4828027703732\n",
      "12.637591130831744\n",
      "16.19062470243216\n",
      "60.12686564128705\n",
      "46.87080915985434\n",
      "70.036445746764\n",
      "62.00128524156046\n",
      "58.65755473609707\n",
      "34.584258496068045\n",
      "\n"
     ]
    }
   ],
   "source": [
    "# WIDE NETWORKS:\n",
    "sim_wide=[None]*3\n",
    "MC_wide=[None]*3\n",
    "MC_final_wide=[]\n",
    "amp=2\n",
    "for i in tqdm(range(numRep)):\n",
    "    #generate signals:\n",
    "    np.random.seed(seeds[i])\n",
    "    signal=signal_expand(np.random.random(1000)*2*amp-amp, dur)\n",
    "    MC_wide[0],sim_wide[0],G,node_list=get_MC_Voltsweep(a,signal,amp=amp,return_sim=True)\n",
    "    MC_wide[1],sim_wide[1],G,node_list=get_MC_Voltsweep(a,signal,amp=amp,return_sim=True)\n",
    "    MC_wide[2],sim_wide[2],G,node_list=get_MC_Voltsweep(a,signal,amp=amp,return_sim=True)\n",
    "    dur = 1\n",
    "    mc=[]\n",
    "    node_list=node_list*3\n",
    "    for k in (range(dur, len(node_list)*dur, dur)):\n",
    "        transient = 100\n",
    "        signal = np.hstack((sim_wide[0].stimulus[0].signal[transient:],sim_wide[1].stimulus[0].signal[transient:],sim_wide[2].stimulus[0].signal[transient:]))\n",
    "        wire_voltage = np.vstack((sim_wide[0].wireVoltage[transient:],sim_wide[1].wireVoltage[transient:],sim_wide[2].wireVoltage[transient:]))\n",
    "        T, N = wire_voltage.shape\n",
    "        #     node_list = np.random.choice(range(0, N), n_outs, replace = False)\n",
    "        lhs = wire_voltage[k:,node_list]\n",
    "        rhs = signal[:-k]\n",
    "\n",
    "        weight = np.linalg.lstsq(lhs, rhs, rcond = None)[0] #output weights (voltage) and input (voltage) using least squares regression\n",
    "        result = np.matmul(lhs, weight)\n",
    "        mc.append((np.cov(rhs, result)[0,1])**2/(np.var(signal[k:])*np.var(result)))\n",
    "    print(np.sum(mc))\n",
    "    MC_final_wide.append(np.sum(mc))"
   ]
  },
  {
   "cell_type": "code",
   "execution_count": 275,
   "id": "e95a2b4a",
   "metadata": {},
   "outputs": [
    {
     "name": "stdout",
     "output_type": "stream",
     "text": [
      "21.835875019535507\n"
     ]
    },
    {
     "data": {
      "text/plain": [
       "37.105106505036254"
      ]
     },
     "execution_count": 275,
     "metadata": {},
     "output_type": "execute_result"
    }
   ],
   "source": [
    "print(np.std(MC_final_wide))\n",
    "np.mean(MC_final_wide)"
   ]
  },
  {
   "cell_type": "code",
   "execution_count": 283,
   "id": "882698b4",
   "metadata": {},
   "outputs": [
    {
     "data": {
      "application/vnd.jupyter.widget-view+json": {
       "model_id": "02a34d59f743418f9d8b9de0ca53bd37",
       "version_major": 2,
       "version_minor": 0
      },
      "text/plain": [
       "HBox(children=(FloatProgress(value=0.0), HTML(value='')))"
      ]
     },
     "metadata": {},
     "output_type": "display_data"
    },
    {
     "name": "stdout",
     "output_type": "stream",
     "text": [
      "25.678128065760504\n",
      "6.492546302610975\n",
      "23.69065444631299\n",
      "15.23132034060098\n",
      "29.432485970988296\n",
      "22.821011309412654\n",
      "3.4483387381162447\n",
      "4.6237010323796435\n",
      "9.354901741173705\n",
      "19.813195903511158\n",
      "7.428860752839322\n",
      "13.627502394927618\n",
      "21.208931009552636\n",
      "20.84199042427342\n",
      "8.478469465212655\n",
      "7.154640353128128\n",
      "25.564897174830342\n",
      "18.44193060444508\n",
      "9.084385993550637\n",
      "26.099927199064275\n",
      "19.41073436941005\n",
      "19.959611650174686\n",
      "23.469106862441617\n",
      "25.6828852410833\n",
      "19.855250274367805\n",
      "3.823606923329991\n",
      "26.696535070292434\n",
      "11.146314760652668\n",
      "7.139535812657128\n",
      "22.578557793513134\n",
      "10.042292840350495\n",
      "22.90994403137373\n",
      "24.970668215617472\n",
      "15.94674430777556\n",
      "9.806540266259429\n",
      "9.413065353869273\n",
      "22.697022681594383\n",
      "24.390093224008364\n",
      "15.679211477460097\n",
      "20.643559399816017\n",
      "8.980871667108659\n",
      "17.446112289470722\n",
      "10.13233187579516\n",
      "22.203085537485457\n",
      "24.860685604937974\n",
      "8.92368668816231\n",
      "8.36098054831851\n",
      "7.416503375870379\n",
      "13.36612997431913\n",
      "1.8339323584545646\n",
      "25.283630051659767\n",
      "8.631372743109523\n",
      "22.679499284663045\n",
      "15.246275593996064\n",
      "14.324744338992275\n",
      "12.499550126885708\n",
      "9.088077554336042\n",
      "10.958626577484486\n",
      "23.86665430455254\n",
      "11.501092343801979\n",
      "25.620196655300884\n",
      "10.00010904396018\n",
      "19.21500889644777\n",
      "17.973076888450755\n",
      "10.80839289118304\n",
      "12.54376044594747\n",
      "7.6738078344343705\n",
      "15.267087606325028\n",
      "17.973076820846522\n",
      "22.90994402098421\n",
      "9.44422462316227\n",
      "14.26711864123661\n",
      "22.455546659625718\n",
      "21.948983039526077\n",
      "21.243456289189062\n",
      "9.357597714210426\n",
      "24.96202928780979\n",
      "26.9878021187233\n",
      "20.80396148930945\n",
      "6.682889421753613\n",
      "19.545620997136954\n",
      "8.070363450175128\n",
      "10.739543027686128\n",
      "19.95961112393072\n",
      "24.277008787227953\n",
      "11.034344997145668\n",
      "9.444224673030151\n",
      "24.502930855953714\n",
      "4.012534805001807\n",
      "5.033564799605902\n",
      "22.26472589904202\n",
      "25.56489746267325\n",
      "8.503309947421263\n",
      "11.083138295290027\n",
      "24.70692148238065\n",
      "19.55297812254341\n",
      "25.827754730220313\n",
      "24.269286076229537\n",
      "23.059659974939525\n",
      "15.424106829985545\n",
      "\n"
     ]
    }
   ],
   "source": [
    "#DEEP NETWORKS:\n",
    "\n",
    "sim_deep=[None]*3\n",
    "MC_deep=[None]*3\n",
    "MC_final_deep=[]\n",
    "numInputs=10 \n",
    "\n",
    "#3 sub reservoirs with 10 INPUTS\n",
    "for i in tqdm(range(numRep)):\n",
    "    \n",
    "    MC_deep[0],sim_deep[0],G,node_list=get_MC_Voltsweep_deep(a,amp=2,return_sim=True,seed=seeds[i])\n",
    "    \n",
    "    #list of all wires\n",
    "    temp=list(range(len(sim_deep[0].wireVoltage.T)))\n",
    "    #remove wires that are sources or drains:\n",
    "    for j in range(len(sim_deep[0].sources)):\n",
    "        temp.remove(sim_deep[0].sources[j])\n",
    "    temp.remove(sim_deep[0].drains[0])\n",
    "    sampleIdx=np.random.choice(temp,10,replace=False)\n",
    "\n",
    "    wireVoltages=[]\n",
    "    for idx in sampleIdx:\n",
    "        wireVoltages.append(sim_deep[0].wireVoltage.T[idx])\n",
    "    drains=sim_deep[0].drains[0]\n",
    "    electrodes=list(np.hstack((sampleIdx,drains)))\n",
    "\n",
    "    MC_deep[1],sim_deep[1],G,node_list=get_MC_Voltsweep_deep(a,amp=2,voltageInputs=wireVoltages,elecs=electrodes,return_sim=True,seed=seeds[i])\n",
    "    \n",
    "    #list of all wires\n",
    "    temp=list(range(len(sim_deep[1].wireVoltage.T)))\n",
    "    #remove wires that are sources or drains:\n",
    "    for j in range(len(sim_deep[1].sources)):\n",
    "        temp.remove(sim_deep[1].sources[j])\n",
    "    temp.remove(sim_deep[1].drains[0])\n",
    "    sampleIdx=np.random.choice(temp,10,replace=False)\n",
    "    \n",
    "    wireVoltages=[]\n",
    "    for idx in sampleIdx:\n",
    "        wireVoltages.append(sim_deep[1].wireVoltage.T[idx])\n",
    "    drains=sim_deep[1].drains[0]\n",
    "    electrodes=list(np.hstack((sampleIdx,drains)))\n",
    "    \n",
    "    MC_deep[2],sim_deep[2],G,node_list=get_MC_Voltsweep_deep(a,amp=2,voltageInputs=wireVoltages,elecs=electrodes,return_sim=True,seed=seeds[i])\n",
    "    \n",
    "    node_list=node_list*3\n",
    "    \n",
    "    dur = 1\n",
    "    mc=[]\n",
    "    for k in (range(dur, len(node_list)*dur, dur)):\n",
    "\n",
    "        signal = np.hstack((sim_deep[0].stimulus[0].signal[transient:],sim_deep[0].stimulus[0].signal[transient:],sim_deep[0].stimulus[0].signal[transient:])) #reconstruct only the ORIGINAL signal\n",
    "        wire_voltage = np.vstack((sim_deep[0].wireVoltage[transient:],sim_deep[1].wireVoltage[transient:],sim_deep[2].wireVoltage[transient:]))\n",
    "        T, N = wire_voltage.shape\n",
    "        #     node_list = np.random.choice(range(0, N), n_outs, replace = False)\n",
    "        lhs = wire_voltage[k:,node_list]\n",
    "        rhs = signal[:-k]\n",
    "\n",
    "        weight = np.linalg.lstsq(lhs, rhs, rcond = None)[0] #output weights (voltage) and input (voltage) using least squares regression\n",
    "        result = np.matmul(lhs, weight)\n",
    "        mc.append((np.cov(rhs, result)[0,1])**2/(np.var(signal[k:])*np.var(result)))\n",
    "    print(np.sum(mc))\n",
    "    MC_final_deep.append(np.sum(mc))"
   ]
  },
  {
   "cell_type": "code",
   "execution_count": 284,
   "id": "ddf63015",
   "metadata": {},
   "outputs": [
    {
     "name": "stdout",
     "output_type": "stream",
     "text": [
      "7.187487992088258\n"
     ]
    },
    {
     "data": {
      "text/plain": [
       "16.27397539344189"
      ]
     },
     "execution_count": 284,
     "metadata": {},
     "output_type": "execute_result"
    }
   ],
   "source": [
    "print(np.std(MC_final_deep))\n",
    "np.mean(MC_final_deep)"
   ]
  },
  {
   "cell_type": "code",
   "execution_count": null,
   "id": "52a72b28",
   "metadata": {},
   "outputs": [
    {
     "data": {
      "application/vnd.jupyter.widget-view+json": {
       "model_id": "3271325dfdf34a58a9bd3f266fd2534c",
       "version_major": 2,
       "version_minor": 0
      },
      "text/plain": [
       "HBox(children=(FloatProgress(value=0.0), HTML(value='')))"
      ]
     },
     "metadata": {},
     "output_type": "display_data"
    },
    {
     "name": "stdout",
     "output_type": "stream",
     "text": [
      "30.744073304140926\n",
      "8.522507673522723\n",
      "31.359583735017708\n",
      "25.879808075096882\n",
      "42.37643316110764\n",
      "31.08335135577393\n",
      "3.5162061741082713\n",
      "5.236521101502133\n",
      "14.190315562429204\n",
      "33.75411340648597\n",
      "8.841532213611874\n",
      "24.053682805913024\n",
      "29.963947550461018\n",
      "34.5665570339658\n",
      "12.997386990484731\n",
      "7.675216450107435\n",
      "32.78663498930202\n",
      "30.767062026213818\n",
      "14.13159582836595\n",
      "35.41523830417724\n",
      "32.43577532640345\n"
     ]
    }
   ],
   "source": [
    "#DEEP NETWORKS:\n",
    "\n",
    "sim_deep_50=[None]*3\n",
    "MC_deep_50=[None]*3\n",
    "MC_final_deep_50=[]\n",
    "numInputs=50\n",
    "\n",
    "#3 sub reservoirs with 50 INPUTS\n",
    "for i in tqdm(range(numRep)):\n",
    "    \n",
    "    MC_deep_50[0],sim_deep_50[0],G,node_list=get_MC_Voltsweep_deep(a,amp=2,return_sim=True,seed=seeds[i])\n",
    "    \n",
    "    #list of all wires\n",
    "    temp=list(range(len(sim_deep_50[0].wireVoltage.T)))\n",
    "    #remove wires that are sources or drains:\n",
    "    for j in range(len(sim_deep_50[0].sources)):\n",
    "        temp.remove(sim_deep_50[0].sources[j])\n",
    "    temp.remove(sim_deep_50[0].drains[0])\n",
    "    sampleIdx=np.random.choice(temp,numInputs,replace=False)\n",
    "\n",
    "    wireVoltages=[]\n",
    "    for idx in sampleIdx:\n",
    "        wireVoltages.append(sim_deep_50[0].wireVoltage.T[idx])\n",
    "    drains=sim_deep_50[0].drains[0]\n",
    "    electrodes=list(np.hstack((sampleIdx,drains)))\n",
    "\n",
    "    MC_deep_50[1],sim_deep_50[1],G,node_list=get_MC_Voltsweep_deep(a,amp=2,voltageInputs=wireVoltages,elecs=electrodes,return_sim=True,seed=seeds[i])\n",
    "    \n",
    "    #list of all wires\n",
    "    temp=list(range(len(sim_deep_50[1].wireVoltage.T)))\n",
    "    #remove wires that are sources or drains:\n",
    "    for j in range(len(sim_deep_50[1].sources)):\n",
    "        temp.remove(sim_deep_50[1].sources[j])\n",
    "    temp.remove(sim_deep_50[1].drains[0])\n",
    "    sampleIdx=np.random.choice(temp,numInputs,replace=False)\n",
    "    \n",
    "    wireVoltages=[]\n",
    "    for idx in sampleIdx:\n",
    "        wireVoltages.append(sim_deep_50[1].wireVoltage.T[idx])\n",
    "    drains=sim_deep_50[1].drains[0]\n",
    "    electrodes=list(np.hstack((sampleIdx,drains)))\n",
    "    \n",
    "    MC_deep_50[2],sim_deep_50[2],G,node_list=get_MC_Voltsweep_deep(a,amp=2,voltageInputs=wireVoltages,elecs=electrodes,return_sim=True,seed=seeds[i])\n",
    "    \n",
    "    node_list=node_list*3\n",
    "    \n",
    "    dur = 1\n",
    "    mc=[]\n",
    "    for k in (range(dur, len(node_list)*dur, dur)):\n",
    "\n",
    "        signal = np.hstack((sim_deep_50[0].stimulus[0].signal[transient:],sim_deep_50[0].stimulus[0].signal[transient:],sim_deep_50[0].stimulus[0].signal[transient:])) #reconstruct only the ORIGINAL signal\n",
    "        wire_voltage = np.vstack((sim_deep_50[0].wireVoltage[transient:],sim_deep_50[1].wireVoltage[transient:],sim_deep_50[2].wireVoltage[transient:]))\n",
    "        T, N = wire_voltage.shape\n",
    "        #     node_list = np.random.choice(range(0, N), n_outs, replace = False)\n",
    "        lhs = wire_voltage[k:,node_list]\n",
    "        rhs = signal[:-k]\n",
    "\n",
    "        weight = np.linalg.lstsq(lhs, rhs, rcond = None)[0] #output weights (voltage) and input (voltage) using least squares regression\n",
    "        result = np.matmul(lhs, weight)\n",
    "        mc.append((np.cov(rhs, result)[0,1])**2/(np.var(signal[k:])*np.var(result)))\n",
    "    print(np.sum(mc))\n",
    "    MC_final_deep_50.append(np.sum(mc))"
   ]
  },
  {
   "cell_type": "code",
   "execution_count": null,
   "id": "758379ea",
   "metadata": {},
   "outputs": [],
   "source": [
    "print(np.std(MC_final_deep_50))\n",
    "np.mean(MC_final_deep_50)"
   ]
  },
  {
   "cell_type": "code",
   "execution_count": 278,
   "id": "55a70aa5",
   "metadata": {},
   "outputs": [],
   "source": [
    "stds=np.hstack((np.std(MC_single),np.std(MC_final_wide),np.std(MC_final_deep)))"
   ]
  },
  {
   "cell_type": "code",
   "execution_count": 279,
   "id": "4e3de769",
   "metadata": {},
   "outputs": [],
   "source": [
    "import pandas as pd\n",
    "df=pd.DataFrame({'Single':{'Mean':np.mean(MC_single)},'Wide':{'Mean':np.mean(MC_final_wide)},'Deep':{'Mean':np.mean(MC_final_deep)}})"
   ]
  },
  {
   "cell_type": "code",
   "execution_count": 281,
   "id": "89563232",
   "metadata": {},
   "outputs": [
    {
     "data": {
      "text/plain": [
       "Text(0, 0.5, 'MC')"
      ]
     },
     "execution_count": 281,
     "metadata": {},
     "output_type": "execute_result"
    },
    {
     "data": {
      "image/png": "[encoded data removed]",
      "text/plain": [
       "<Figure size 720x576 with 1 Axes>"
      ]
     },
     "metadata": {
      "needs_background": "light"
     },
     "output_type": "display_data"
    }
   ],
   "source": [
    "fig,ax=plt.subplots(1,figsize=(10,8))\n",
    "plt.bar(np.arange(df.shape[1]), df.mean(), yerr=stds, capsize=6)\n",
    "ax.set_xticks(np.arange(df.shape[1]))\n",
    "ax.set_xticklabels(['Shallow','Wide','Deep (10 inputs)'])\n",
    "ax.set_ylabel('MC')"
   ]
  },
  {
   "cell_type": "markdown",
   "id": "18696283",
   "metadata": {},
   "source": [
    "### NARMA TASK"
   ]
  },
  {
   "cell_type": "code",
   "execution_count": null,
   "id": "a78edd25",
   "metadata": {},
   "outputs": [],
   "source": [
    "def get_NARMA_deep(Graph,amp = 2, u=[], voltageInputs=[],elecs=[], dt = 0.01, dur = 1, hist = 30, shift = 2,n_outs = 100, init_state = None, return_sim = False,seed=42):\n",
    "    ampName=str(amp).replace('.','p')\n",
    "    np.random.seed(seed)\n",
    "    stimulus=[]\n",
    "    \n",
    "    N = Graph.number_of_nodes#Connectivity.number_of_wires\n",
    "    \n",
    "    if elecs:\n",
    "        electrodes=elecs\n",
    "        contactMode='preSet'\n",
    "        for volt in voltageInputs:\n",
    "            stimulus.append(stimulus__(biasType='Custom',T=10,dt=dt,customSignal=volt))#signal_expand(np.random.random(1000)*2*volt-volt, dur)))\n",
    "        stimulus.append(stimulus__(biasType='Drain',T=10,dt=dt)) #we don't want this drain to be active during training\n",
    "    else:\n",
    "        electrodes=None\n",
    "        contactMode='farthest'\n",
    "        y = np.zeros(len(u))\n",
    "        stimulus.append(stimulus__(biasType='Custom',T=10,dt=dt,customSignal=u))#signal_expand((np.random.random(1000)*2*amp-amp), dur)))\n",
    "        stimulus.append(stimulus__(biasType='Drain',T=10,dt=dt)) #we don't want this drain to be active during training\n",
    "    \n",
    "    for i in range(hist, len(u)):\n",
    "#         y[i] = 0.2*y[i-1] + 0.004*y[i-1]*np.sum(y[i-hist:i]) + 1.5*u[i-hist]*u[i-1] + 0.001\n",
    "#         y[i] = 0.1*y[i-1] + 0.004*y[i-1]*np.sum(y[i-hist:i]) + 2*u[i-hist]*u[i-1] + 0.1\n",
    "        y[i] = 0.01*y[i-1] + 0.0004*y[i-1]*np.sum(y[i-hist:i]) + 1.5*u[i-hist]*u[i-1] + shift    \n",
    "    \n",
    "    wire_voltage = simRAND.wireVoltage\n",
    "#     node_list = np.random.choice(range(0, N), n_outs, replace = False)\n",
    "    node_list=[]\n",
    "    for i in range(len(Graph.nodes)):\n",
    "        node_list.append(i)\n",
    "\n",
    "    k = 200\n",
    "    lhs = wire_voltage[k:,node_list]\n",
    "    rhs = y[k:]\n",
    "    weight = np.linalg.lstsq(lhs, rhs, rcond = None)[0]\n",
    "    result = np.matmul(lhs, weight)\n",
    "    acc = 1-getRNMSE(result, rhs)\n",
    "    \n",
    "    if return_sim:\n",
    "        return acc, simRAND, u, node_list\n",
    "    else:\n",
    "        return acc, u, node_list"
   ]
  },
  {
   "cell_type": "code",
   "execution_count": null,
   "id": "6799dd32",
   "metadata": {},
   "outputs": [],
   "source": [
    "amp=2;dur=1;hist=30,shift=2;\n",
    "u = signal_expand(np.random.random(1000)*amp, dur)\n",
    "for i in tqdm(range(numRep)):\n",
    "\n",
    "    NARMA_deep[0],simNARMA_deep[0],u,node_list=get_NARMA_deep(a,u=u,amp=amp,return_sim=True,seed=seeds[i])\n",
    "\n",
    "    #list of all wires\n",
    "    temp=list(range(len(simNARMA_deep[0].wireVoltage.T)))\n",
    "    #remove wires that are sources or drains:\n",
    "    for j in range(len(simNARMA_deep[0].sources)):\n",
    "        temp.remove(simNARMA_deep[0].sources[j])\n",
    "    temp.remove(simNARMA_deep[0].drains[0])\n",
    "    sampleIdx=np.random.choice(temp,numInputs,replace=False)\n",
    "\n",
    "    wireVoltages=[]\n",
    "    for idx in sampleIdx:\n",
    "        wireVoltages.append(simNARMA_deep[0].wireVoltage.T[idx])\n",
    "    drains=simNARMA_deep[0].drains[0]\n",
    "    electrodes=list(np.hstack((sampleIdx,drains)))\n",
    "\n",
    "    NARMA_deep[1],simNARMA_deep[1],u,node_list=get_NARMA_deep(a,u=u,amp=amp,voltageInputs=wireVoltages,elecs=electrodes,return_sim=True,seed=seeds[i])\n",
    "\n",
    "    #list of all wires\n",
    "    temp=list(range(len(simNARMA_deep[1].wireVoltage.T)))\n",
    "    #remove wires that are sources or drains:\n",
    "    for j in range(len(simNARMA_deep[1].sources)):\n",
    "        temp.remove(simNARMA_deep[1].sources[j])\n",
    "    temp.remove(simNARMA_deep[1].drains[0])\n",
    "    sampleIdx=np.random.choice(temp,numInputs,replace=False)\n",
    "\n",
    "    wireVoltages=[]\n",
    "    for idx in sampleIdx:\n",
    "        wireVoltages.append(simNARMA_deep[1].wireVoltage.T[idx])\n",
    "    drains=simNARMA_deep[1].drains[0]\n",
    "    electrodes=list(np.hstack((sampleIdx,drains)))\n",
    "\n",
    "    NARMA_deep[2],simNARMA_deep[2],u,node_list=get_NARMA_deep(a,u=u,amp=amp,voltageInputs=wireVoltages,elecs=electrodes,return_sim=True,seed=seeds[i])\n",
    "\n",
    "    wire_voltage = np.vstack((simNARMA_deep[0].wireVoltage[transient:],simNARMA_deep[1].wireVoltage[transient:],simNARMA_deep[2].wireVoltage[transient:]))\n",
    "    node_list=node_list*3\n",
    "    for i in range(hist, len(u)):\n",
    "#         y[i] = 0.2*y[i-1] + 0.004*y[i-1]*np.sum(y[i-hist:i]) + 1.5*u[i-hist]*u[i-1] + 0.001\n",
    "#         y[i] = 0.1*y[i-1] + 0.004*y[i-1]*np.sum(y[i-hist:i]) + 2*u[i-hist]*u[i-1] + 0.1\n",
    "        y[i] = 0.01*y[i-1] + 0.0004*y[i-1]*np.sum(y[i-hist:i]) + 1.5*u[i-hist]*u[i-1] + shift       \n",
    "    k = 200\n",
    "    lhs = wire_voltage[k:,node_list]\n",
    "    rhs = y[k:]\n",
    "    weight = np.linalg.lstsq(lhs, rhs, rcond = None)[0]\n",
    "    result = np.matmul(lhs, weight)\n",
    "    NARMA_deep_final.append(1-getRNMSE(result, rhs))\n"
   ]
  },
  {
   "cell_type": "code",
   "execution_count": null,
   "id": "2f0151aa",
   "metadata": {},
   "outputs": [],
   "source": []
  },
  {
   "cell_type": "code",
   "execution_count": null,
   "id": "2e1fad78",
   "metadata": {},
   "outputs": [],
   "source": []
  },
  {
   "cell_type": "code",
   "execution_count": null,
   "id": "a4d0e349",
   "metadata": {},
   "outputs": [],
   "source": []
  },
  {
   "cell_type": "code",
   "execution_count": null,
   "id": "3f01232f",
   "metadata": {},
   "outputs": [],
   "source": []
  },
  {
   "cell_type": "markdown",
   "id": "e6325f77",
   "metadata": {},
   "source": [
    "### MACKEY-GLASS TIME-SERIES"
   ]
  },
  {
   "cell_type": "code",
   "execution_count": null,
   "id": "3c9e229d",
   "metadata": {},
   "outputs": [],
   "source": [
    "def get_MG(Connectivity, amp = 1, \n",
    "          dt = 0.01, dur = 1, \n",
    "          hist = 20, shift = 2,\n",
    "          n_outs = 10, init_state = None, \n",
    "          return_sim = False):\n",
    "#     np.random.seed()\n",
    "    N = Connectivity.number_of_wires\n",
    "    y = mkg_generator(1000, 100*dt, 50)\n",
    "    temp_sim = runSim(Connectivity, T = 1000*dt, dt = dt,\n",
    "                start_state =  init_state,\n",
    "                biasType = 'Custom', customSignal = y, \n",
    "                junctionMode = 'tunneling', \n",
    "                contactMode = 'farthest',\n",
    "                findFirst=False, disable_tqdm=True)\n",
    "    \n",
    "    wire_voltage = temp_sim.wireVoltage\n",
    "    node_list = np.random.choice(range(0, N), n_outs, replace = False)\n",
    "    lhs = wire_voltage[:-hist,node_list]\n",
    "    rhs = y[hist:]\n",
    "    weight = np.linalg.lstsq(lhs, rhs, rcond = None)[0]\n",
    "    result = np.matmul(lhs, weight)\n",
    "    acc = 1-getRNMSE(result, rhs)\n",
    "    \n",
    "\n",
    "    if return_sim:\n",
    "        return acc, temp_sim\n",
    "    else:\n",
    "        return acc"
   ]
  }
 ],
 "metadata": {
  "kernelspec": {
   "display_name": "Python 3",
   "language": "python",
   "name": "python3"
  },
  "language_info": {
   "codemirror_mode": {
    "name": "ipython",
    "version": 3
   },
   "file_extension": ".py",
   "mimetype": "text/x-python",
   "name": "python",
   "nbconvert_exporter": "python",
   "pygments_lexer": "ipython3",
   "version": "3.8.5"
  }
 },
 "nbformat": 4,
 "nbformat_minor": 5
}
