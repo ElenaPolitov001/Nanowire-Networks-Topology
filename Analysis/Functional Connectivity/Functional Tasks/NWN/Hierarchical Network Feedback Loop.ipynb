{
 "cells": [
  {
   "cell_type": "code",
   "execution_count": 1,
   "metadata": {},
   "outputs": [],
   "source": [
    "import sys\n",
    "sys.path.append('/import/silo2/aloe8475/Documents/edamame')"
   ]
  },
  {
   "cell_type": "code",
   "execution_count": 2,
   "metadata": {},
   "outputs": [],
   "source": [
    "from scipy.io import loadmat, savemat\n",
    "import numpy as np\n",
    "import matplotlib.pyplot as plt\n",
    "from matplotlib import colors\n",
    "import networkx as nx\n",
    "from edamame import *\n",
    "from tqdm.notebook import tqdm\n",
    "import os\n",
    "import edamame.core.wires as wires\n",
    "from random import choice\n",
    "from IPython.core.debugger import set_trace\n",
    "import pickle \n",
    "import _pickle as cPickle\n",
    "import gzip\n",
    "\n",
    "def compressed_pickle(obj, filename,protocol=-1):\n",
    "    with gzip.open(filename, 'wb') as f:\n",
    "        cPickle.dump(obj, f, protocol)\n",
    "def decompress_pickle(file):\n",
    "    with gzip.open(file, 'rb') as f:\n",
    "        loaded_object = cPickle.load(f,encoding=\"bytes\") #change this for python 2\n",
    "        return loaded_object"
   ]
  },
  {
   "cell_type": "code",
   "execution_count": 3,
   "metadata": {},
   "outputs": [],
   "source": [
    "density=0.10\n",
    "densityName=str(density).replace('.','p')\n",
    "\n",
    "dataLoc='/import/silo2/aloe8475/Documents/Data/Functional Connectivity/Hierarchical Networks/Deep NWN Hierarchy/Density '+\"{:.2f}\".format(density)+'/'\n",
    "saveFig='/import/silo2/aloe8475/Documents/Data/Figures/Functional Connectivity/'"
   ]
  },
  {
   "cell_type": "code",
   "execution_count": 4,
   "metadata": {},
   "outputs": [],
   "source": [
    "import glob\n",
    "#Load all files in folder:\n",
    "mat_files = glob.glob(dataLoc+'*.mat')\n",
    "mat_files=sorted(mat_files)\n",
    "# List for stroring all the data\n",
    "alldata = []\n",
    "\n",
    "# Iterate mat files\n",
    "for fname in mat_files:\n",
    "    # Load mat file data into data.\n",
    "    data = loadmat(fname)\n",
    "\n",
    "    # Append data to the list\n",
    "    alldata.append(data)\n",
    "\n",
    "subres=alldata[:10] #first 10 networks are 100nw \n",
    "res=alldata[-10:] #last 10 networks are 300nw\n"
   ]
  },
  {
   "cell_type": "code",
   "execution_count": 5,
   "metadata": {},
   "outputs": [],
   "source": [
    "a=[]\n",
    "b=[]\n",
    "for i in range(len(subres)):\n",
    "    subres[i]['G']=nx.from_numpy_array(subres[i]['adj_matrix'])\n",
    "    res[i]['G']=nx.from_numpy_array(res[i]['adj_matrix'])\n",
    "    a.append(subres[i]['G'])\n",
    "    b.append(res[i]['G'])\n",
    "    \n",
    "# res=loadmat(dataLoc+'asn_nw_00302_nj_01492_seed_042_avl_10.00_disp_01.00_lx_41.00_ly_41.00.mat')#edamame.core.generate_network(300,dispersion=125,mean_length=100,this_seed=42) #300 nodes, 15000 edges\n",
    "    \n",
    "#edamame.core.generate_network(100,dispersion=110,mean_length=100,this_seed=42) #100 nodes, 450 edges"
   ]
  },
  {
   "cell_type": "code",
   "execution_count": 6,
   "metadata": {},
   "outputs": [],
   "source": [
    "# Global Function:\n",
    "def addSubReservoir(graph,sim,numInputs=10,signal=[],amp=2,seed=42,removeSources=False,analysisType=[],state=None):\n",
    "    \n",
    "    temp=list(range(len(sim.wireVoltage.T)))\n",
    "    if removeSources:\n",
    "        for j in range(len(sim.sources)):\n",
    "            temp.remove(sim.sources[j]) \n",
    "    if sim.drains[0] in temp:\n",
    "        temp.remove(sim.drains[0])\n",
    "\n",
    "    sampleIdx=np.random.choice(temp,numInputs,replace=False)\n",
    "\n",
    "    wireVoltages=sim.wireVoltage[:,sampleIdx]\n",
    "    drains=sim.drains[0]\n",
    "    electrodes=list(np.hstack((sampleIdx,drains)))\n",
    "    \n",
    "    if analysisType=='MG':\n",
    "        new_sim,node_list,state=get_MG_deep(graph,amp=amp,signal=signal,voltageInputs=wireVoltages.T,elecs=electrodes,init_state=state,return_sim=True,seed=seed)\n",
    "    elif analysisType=='NARMA':\n",
    "        new_sim,node_list,state=get_NARMA_deep(graph,amp=amp,signal=signal,voltageInputs=wireVoltages.T,elecs=electrodes,init_state=state,return_sim=True,seed=seed)\n",
    "    elif analysisType=='MC':\n",
    "        new_sim,node_list,state=get_MC_deep(graph,amp=amp,signal=signal,voltageInputs=wireVoltages.T,elecs=electrodes,init_state=state,return_sim=True,seed=seed)\n",
    "\n",
    "    return new_sim,node_list,state"
   ]
  },
  {
   "cell_type": "code",
   "execution_count": 7,
   "metadata": {},
   "outputs": [],
   "source": [
    "# FUNCTIONS\n",
    "def MC_k_new(network, k = 1, node_list=[], transient = 100):\n",
    "#     node_list=n_outs#len(node_list)\n",
    "    signal = network.stimulus[0].signal[transient:]\n",
    "    wire_voltage = network.wireVoltage[transient:]\n",
    "    T, N = wire_voltage.shape\n",
    "#     node_list = np.random.choice(range(0, N), n_outs, replace = False)\n",
    "    lhs = wire_voltage[k:,node_list]\n",
    "    rhs = signal[:-k]\n",
    "    try:\n",
    "        weight = np.linalg.lstsq(lhs, rhs, rcond = None)[0]\n",
    "        result = np.matmul(lhs, weight)\n",
    "        mc = (np.cov(rhs, result)[0,1])**2/(np.var(signal[k:])*np.var(result))\n",
    "        return mc\n",
    "    except:\n",
    "        return 0\n",
    "\n",
    "def get_MC_deep(Graph,amp = 2,signal=[],voltageInputs=[],elecs=[], dt = 0.01, dur = 1, n_outs = 100, init_state = None, return_sim = False,seed=42):\n",
    "    ampName=str(amp).replace('.','p')\n",
    "    np.random.seed(seed)\n",
    "    stimulus=[]\n",
    "    if elecs:\n",
    "        electrodes=elecs\n",
    "        contactMode='preSet'\n",
    "        for volt in voltageInputs:\n",
    "            stimulus.append(stimulus__(biasType='Custom',T=10,dt=dt,customSignal=volt))#signal_expand(np.random.random(1000)*2*volt-volt, dur)))\n",
    "        stimulus.append(stimulus__(biasType='Drain',T=10,dt=dt)) #we don't want this drain to be active during training\n",
    "    else:\n",
    "        electrodes=None\n",
    "        contactMode='farthest'\n",
    "        stimulus.append(stimulus__(biasType='Custom',T=10,dt=dt,customSignal=signal_expand((np.random.random(1000)*2*amp-amp), dur)))\n",
    "        stimulus.append(stimulus__(biasType='Drain',T=10,dt=dt)) #we don't want this drain to be active during training\n",
    "    \n",
    "    simRAND = runSim(connectivity__(graph=Graph), T = 10, dt = dt,\n",
    "                stimulus=stimulus,\n",
    "#                 biasType = 'Custom', customSignal = signal_expand(np.random.random(1000)*2*amp-amp, dur), \n",
    "                junctionMode = 'tunneling', \n",
    "                electrodes=electrodes,\n",
    "                contactMode = contactMode,\n",
    "                findFirst=False, disable_tqdm=True)\n",
    "    state=getJunctionState(simRAND,-2)\n",
    "    \n",
    "    nodesList=[]\n",
    "    for i in range(len(Graph.nodes)):\n",
    "        nodesList.append(i)\n",
    "\n",
    "    mcRAND = [MC_k_new(simRAND, m, node_list=nodesList) for m in range(dur, len(nodesList)*dur, dur)]\n",
    "    \n",
    "    if return_sim:\n",
    "        return simRAND, nodesList,state\n",
    "    else:\n",
    "        return nodesList"
   ]
  },
  {
   "cell_type": "code",
   "execution_count": 8,
   "metadata": {},
   "outputs": [],
   "source": [
    "numRep=10#number of repeats\n",
    "seeds=np.random.randint(1000,size=numRep) #random seeds"
   ]
  },
  {
   "cell_type": "code",
   "execution_count": 9,
   "metadata": {},
   "outputs": [],
   "source": [
    "#DEEP NETWORKS:\n",
    "def runDeepMC(a,numInputs,numRep):\n",
    "    simMC_deep=[None]*3\n",
    "    MC_final_deep=[]\n",
    "    transient = 99\n",
    "    amp = 2\n",
    "    #3 sub reservoirs with 10 INPUTS\n",
    "    MC_final_deep=[]\n",
    "\n",
    "    for i in tqdm(range(len(a))):\n",
    "\n",
    "        for j in tqdm(range(numRep)):\n",
    "        \n",
    "            simMC_deep[0],node_list=get_MC_deep(a[i],amp=amp,return_sim=True,seed=seeds[j])\n",
    "\n",
    "            simMC_deep[1],node_list=addSubReservoir(a[i],simMC_deep[0],\n",
    "                                                numInputs,\n",
    "                                                amp=amp,seed=seeds[j],\n",
    "                                                analysisType='MC')\n",
    "        \n",
    "            simMC_deep[2],node_list=addSubReservoir(a[i],simMC_deep[1],\n",
    "                                                numInputs,\n",
    "                                                amp=amp,seed=seeds[j],\n",
    "                                                removeSources=True,analysisType='MC')\n",
    "            \n",
    "            node_list=node_list*3\n",
    "\n",
    "            dur = 1\n",
    "            mc=[]\n",
    "            for k in (range(dur, len(node_list)*dur, dur)):\n",
    "                signal = (simMC_deep[0].stimulus[0].signal[transient:])#,simMC_deep[0].stimulus[0].simMC_deep[transient:],sim_deep[0].stimulus[0].signal[transient:])) #reconstruct only the ORIGINAL signal\n",
    "                wire_voltage = np.hstack((simMC_deep[0].wireVoltage[transient:],simMC_deep[1].wireVoltage[transient:],simMC_deep[2].wireVoltage[transient:]))\n",
    "                #     T, N = wire_voltage.shape\n",
    "                #     node_list = np.random.choice(range(0, N), n_outs, replace = False)\n",
    "                lhs = wire_voltage[k:,:]\n",
    "                rhs = signal[:-k]\n",
    "                weight = np.linalg.lstsq(lhs, rhs, rcond = None)[0] #output weights (voltage) and input (voltage) using least squares regression\n",
    "                result = np.matmul(lhs, weight)\n",
    "\n",
    "                mc.append((np.cov(rhs, result)[0,1])**2/(np.var(signal[k:])*np.var(result)))\n",
    "\n",
    "            print(np.sum(mc))\n",
    "            MC_final_deep.append(np.sum(mc))\n",
    "    return MC_final_deep"
   ]
  },
  {
   "cell_type": "code",
   "execution_count": 10,
   "metadata": {},
   "outputs": [],
   "source": [
    "def runLoopMC(a,numInputs,numRep):\n",
    "    simMC_loop=[None]*3\n",
    "    MC_final_loop=[]\n",
    "    transient = 99\n",
    "    amp = 2\n",
    "    #3 sub reservoirs with 10 INPUTS\n",
    "    MC_final_deep=[]\n",
    "\n",
    "    for i in tqdm(range(len(a))):\n",
    "\n",
    "        for j in tqdm(range(numRep)):\n",
    "        \n",
    "            simMC_loop[0],node_list,state1=get_MC_deep(a[i],amp=amp,return_sim=True,seed=seeds[j])\n",
    "            \n",
    "            simMC_loop[1],node_list,state2=addSubReservoir(a[i],simMC_loop[0],\n",
    "                                                numInputs, state=state1,\n",
    "                                                amp=amp,seed=seeds[j],\n",
    "                                                analysisType='MC')\n",
    "        \n",
    "            simMC_loop[2],node_list,state3=addSubReservoir(a[i],simMC_loop[1],\n",
    "                                                numInputs,state=state2,\n",
    "                                                amp=amp,seed=seeds[j],\n",
    "                                                removeSources=True,analysisType='MC')\n",
    "            \n",
    "            node_list=node_list*3\n",
    "\n",
    "            dur = 1\n",
    "            mc=[]\n",
    "            for k in (range(dur, len(node_list)*dur, dur)):\n",
    "                signal = (simMC_loop[0].stimulus[0].signal[transient:])#,simMC_deep[0].stimulus[0].simMC_deep[transient:],sim_deep[0].stimulus[0].signal[transient:])) #reconstruct only the ORIGINAL signal\n",
    "                wire_voltage = np.hstack((simMC_loop[0].wireVoltage[transient:],simMC_loop[1].wireVoltage[transient:],simMC_loop[2].wireVoltage[transient:]))\n",
    "                #     T, N = wire_voltage.shape\n",
    "                #     node_list = np.random.choice(range(0, N), n_outs, replace = False)\n",
    "                lhs = wire_voltage[k:,:]\n",
    "                rhs = signal[:-k]\n",
    "                weight = np.linalg.lstsq(lhs, rhs, rcond = None)[0] #output weights (voltage) and input (voltage) using least squares regression\n",
    "                result = np.matmul(lhs, weight)\n",
    "\n",
    "                mc.append((np.cov(rhs, result)[0,1])**2/(np.var(signal[k:])*np.var(result)))\n",
    "\n",
    "            print(np.sum(mc))\n",
    "            MC_final_loop.append(np.sum(mc))\n",
    "    return MC_final_loop"
   ]
  },
  {
   "cell_type": "code",
   "execution_count": 70,
   "metadata": {
    "scrolled": true
   },
   "outputs": [
    {
     "data": {
      "application/vnd.jupyter.widget-view+json": {
       "model_id": "d39bbdd8a04748df9ee8d31c0770b4d2",
       "version_major": 2,
       "version_minor": 0
      },
      "text/plain": [
       "HBox(children=(FloatProgress(value=0.0, max=10.0), HTML(value='')))"
      ]
     },
     "metadata": {},
     "output_type": "display_data"
    },
    {
     "data": {
      "application/vnd.jupyter.widget-view+json": {
       "model_id": "39a9c878852642a197c268295c860a1d",
       "version_major": 2,
       "version_minor": 0
      },
      "text/plain": [
       "HBox(children=(FloatProgress(value=0.0, max=10.0), HTML(value='')))"
      ]
     },
     "metadata": {},
     "output_type": "display_data"
    },
    {
     "name": "stdout",
     "output_type": "stream",
     "text": [
      "23.433636319806645\n",
      "29.688213137561757\n",
      "93.24848046145937\n",
      "87.65776161742389\n",
      "64.8837357905993\n",
      "101.59766437978284\n",
      "83.48767761644257\n",
      "43.455383106330835\n",
      "108.20510762157201\n",
      "90.34836421328666\n",
      "\n"
     ]
    },
    {
     "data": {
      "application/vnd.jupyter.widget-view+json": {
       "model_id": "3861c5e071d64019a1046d448de527ed",
       "version_major": 2,
       "version_minor": 0
      },
      "text/plain": [
       "HBox(children=(FloatProgress(value=0.0, max=10.0), HTML(value='')))"
      ]
     },
     "metadata": {},
     "output_type": "display_data"
    },
    {
     "name": "stdout",
     "output_type": "stream",
     "text": [
      "20.295977297171476\n",
      "67.48678501874411\n",
      "69.02264015175936\n",
      "92.01120728922523\n",
      "35.53255068177391\n",
      "23.000714075479152\n",
      "92.04243586414327\n",
      "33.85115435453282\n",
      "122.24220177534602\n",
      "117.25236985727364\n",
      "\n"
     ]
    },
    {
     "data": {
      "application/vnd.jupyter.widget-view+json": {
       "model_id": "2c75205ef74a44f38e2cd27d3bd359e0",
       "version_major": 2,
       "version_minor": 0
      },
      "text/plain": [
       "HBox(children=(FloatProgress(value=0.0, max=10.0), HTML(value='')))"
      ]
     },
     "metadata": {},
     "output_type": "display_data"
    },
    {
     "name": "stdout",
     "output_type": "stream",
     "text": [
      "19.915459793113108\n",
      "27.62644766286293\n",
      "33.68536074196131\n",
      "94.69680097759029\n",
      "37.40769027666552\n",
      "23.468266768815337\n",
      "29.584097704070263\n",
      "28.299534998003892\n",
      "115.37749286351725\n",
      "106.85210214571056\n",
      "\n"
     ]
    },
    {
     "data": {
      "application/vnd.jupyter.widget-view+json": {
       "model_id": "0c21593c1b7e42a3a4124a25c57e0514",
       "version_major": 2,
       "version_minor": 0
      },
      "text/plain": [
       "HBox(children=(FloatProgress(value=0.0, max=10.0), HTML(value='')))"
      ]
     },
     "metadata": {},
     "output_type": "display_data"
    },
    {
     "name": "stdout",
     "output_type": "stream",
     "text": [
      "11.556777487381831\n",
      "17.505075119972105\n",
      "102.13623608853773\n",
      "69.51633205817474\n",
      "18.629072372523687\n",
      "13.671603190293872\n",
      "73.71128293100875\n",
      "27.780974539451577\n",
      "125.20630827364903\n",
      "109.09450360863795\n",
      "\n"
     ]
    },
    {
     "data": {
      "application/vnd.jupyter.widget-view+json": {
       "model_id": "8abcfbc7adb1422c93ef3d991e3dbe11",
       "version_major": 2,
       "version_minor": 0
      },
      "text/plain": [
       "HBox(children=(FloatProgress(value=0.0, max=10.0), HTML(value='')))"
      ]
     },
     "metadata": {},
     "output_type": "display_data"
    },
    {
     "name": "stdout",
     "output_type": "stream",
     "text": [
      "16.45084957877415\n",
      "20.91192055372072\n",
      "38.14118436785652\n",
      "78.65011731751726\n",
      "21.152158571065808\n",
      "17.245823527604\n",
      "64.20468580147053\n",
      "20.8643587757089\n",
      "116.0823229124538\n",
      "106.73659000638702\n",
      "\n"
     ]
    },
    {
     "data": {
      "application/vnd.jupyter.widget-view+json": {
       "model_id": "79fc63f4fe39468cbef6d80170f353a8",
       "version_major": 2,
       "version_minor": 0
      },
      "text/plain": [
       "HBox(children=(FloatProgress(value=0.0, max=10.0), HTML(value='')))"
      ]
     },
     "metadata": {},
     "output_type": "display_data"
    },
    {
     "name": "stdout",
     "output_type": "stream",
     "text": [
      "20.123422372679972\n",
      "43.7519469838831\n",
      "94.6044197510723\n",
      "87.60564995091103\n",
      "39.50001098918029\n",
      "79.47649902050551\n",
      "67.41781673588827\n",
      "41.753709077725134\n",
      "103.36232781479737\n",
      "78.04027083917407\n",
      "\n"
     ]
    },
    {
     "data": {
      "application/vnd.jupyter.widget-view+json": {
       "model_id": "ddde9e19c34648ff9261e8649844083e",
       "version_major": 2,
       "version_minor": 0
      },
      "text/plain": [
       "HBox(children=(FloatProgress(value=0.0, max=10.0), HTML(value='')))"
      ]
     },
     "metadata": {},
     "output_type": "display_data"
    },
    {
     "name": "stdout",
     "output_type": "stream",
     "text": [
      "12.468327837524695\n",
      "18.150138314845584\n",
      "76.4031889258918\n",
      "83.89545969885374\n",
      "16.70850412572452\n",
      "14.27076017397241\n",
      "68.2567811495299\n",
      "18.269519136290782\n",
      "98.60025579204037\n",
      "74.304898287864\n",
      "\n"
     ]
    },
    {
     "data": {
      "application/vnd.jupyter.widget-view+json": {
       "model_id": "70eecbe453024ccc9543826e226568c9",
       "version_major": 2,
       "version_minor": 0
      },
      "text/plain": [
       "HBox(children=(FloatProgress(value=0.0, max=10.0), HTML(value='')))"
      ]
     },
     "metadata": {},
     "output_type": "display_data"
    },
    {
     "name": "stdout",
     "output_type": "stream",
     "text": [
      "13.432280825307371\n",
      "18.033153599106267\n",
      "83.48377308452416\n",
      "66.90869061850853\n",
      "28.797962070552078\n",
      "46.5023799913276\n",
      "65.67299076323269\n",
      "38.29886325329782\n",
      "109.35352922914656\n",
      "85.1692655171117\n",
      "\n"
     ]
    },
    {
     "data": {
      "application/vnd.jupyter.widget-view+json": {
       "model_id": "7f1648846d36420ead468ab2fdef3ffb",
       "version_major": 2,
       "version_minor": 0
      },
      "text/plain": [
       "HBox(children=(FloatProgress(value=0.0, max=10.0), HTML(value='')))"
      ]
     },
     "metadata": {},
     "output_type": "display_data"
    },
    {
     "name": "stdout",
     "output_type": "stream",
     "text": [
      "12.4944432226444\n",
      "4.663175488292325\n",
      "26.04849546182169\n",
      "78.24147636031688\n",
      "16.270646725749565\n",
      "14.021203893934665\n",
      "57.15880991144464\n",
      "14.210982828784697\n",
      "103.62395759868042\n",
      "88.23719170150672\n",
      "\n"
     ]
    },
    {
     "data": {
      "application/vnd.jupyter.widget-view+json": {
       "model_id": "e79e0c3743f844d5b02dc8d3f3802a19",
       "version_major": 2,
       "version_minor": 0
      },
      "text/plain": [
       "HBox(children=(FloatProgress(value=0.0, max=10.0), HTML(value='')))"
      ]
     },
     "metadata": {},
     "output_type": "display_data"
    },
    {
     "name": "stdout",
     "output_type": "stream",
     "text": [
      "12.303226621808726\n",
      "15.105625720775437\n",
      "29.18929838819173\n",
      "65.40771415394234\n",
      "37.88876781058616\n",
      "52.311693278020854\n",
      "17.991184918102114\n",
      "22.019945350189396\n",
      "113.00825232418762\n",
      "87.9620400055734\n",
      "\n",
      "\n"
     ]
    },
    {
     "data": {
      "application/vnd.jupyter.widget-view+json": {
       "model_id": "79d8c60b5abc4265ae1cb44c8dd0d14e",
       "version_major": 2,
       "version_minor": 0
      },
      "text/plain": [
       "HBox(children=(FloatProgress(value=0.0, max=10.0), HTML(value='')))"
      ]
     },
     "metadata": {},
     "output_type": "display_data"
    },
    {
     "data": {
      "application/vnd.jupyter.widget-view+json": {
       "model_id": "7f7e2e3afe194ae78b4062240c9f8860",
       "version_major": 2,
       "version_minor": 0
      },
      "text/plain": [
       "HBox(children=(FloatProgress(value=0.0, max=10.0), HTML(value='')))"
      ]
     },
     "metadata": {},
     "output_type": "display_data"
    },
    {
     "name": "stdout",
     "output_type": "stream",
     "text": [
      "22.267025986478618\n",
      "27.936510743647165\n",
      "108.47779484242295\n",
      "103.3033333524589\n",
      "70.03565492707789\n",
      "93.23853142002861\n",
      "81.79413331376084\n",
      "42.14467722851829\n",
      "112.00268501074893\n",
      "86.28509809224923\n",
      "\n"
     ]
    },
    {
     "data": {
      "application/vnd.jupyter.widget-view+json": {
       "model_id": "636bf99014324194b06586695c740ac1",
       "version_major": 2,
       "version_minor": 0
      },
      "text/plain": [
       "HBox(children=(FloatProgress(value=0.0, max=10.0), HTML(value='')))"
      ]
     },
     "metadata": {},
     "output_type": "display_data"
    },
    {
     "name": "stdout",
     "output_type": "stream",
     "text": [
      "20.051238976538322\n",
      "62.227532508397545\n",
      "83.77159941024071\n",
      "74.37533490144017\n",
      "41.524229740691766\n",
      "22.695008932581818\n",
      "89.47091036031334\n",
      "33.99427420507418\n",
      "115.07667317247379\n",
      "81.38576078229451\n",
      "\n"
     ]
    },
    {
     "data": {
      "application/vnd.jupyter.widget-view+json": {
       "model_id": "b552f0b4132d40269a47a6c2bb87b750",
       "version_major": 2,
       "version_minor": 0
      },
      "text/plain": [
       "HBox(children=(FloatProgress(value=0.0, max=10.0), HTML(value='')))"
      ]
     },
     "metadata": {},
     "output_type": "display_data"
    },
    {
     "name": "stdout",
     "output_type": "stream",
     "text": [
      "19.757629898215868\n",
      "25.931527408667684\n",
      "32.58253261914294\n",
      "93.8486062337492\n",
      "31.408239189448352\n",
      "26.174224557746577\n",
      "26.03975731764908\n",
      "30.16841292333246\n",
      "118.24517739452233\n",
      "99.7480919002241\n",
      "\n"
     ]
    },
    {
     "data": {
      "application/vnd.jupyter.widget-view+json": {
       "model_id": "ec3edb7aed3a4244b556dd0cbfeb1f39",
       "version_major": 2,
       "version_minor": 0
      },
      "text/plain": [
       "HBox(children=(FloatProgress(value=0.0, max=10.0), HTML(value='')))"
      ]
     },
     "metadata": {},
     "output_type": "display_data"
    },
    {
     "name": "stdout",
     "output_type": "stream",
     "text": [
      "13.326851752722327\n",
      "16.223500672140737\n",
      "94.55136631162446\n",
      "83.74811456130503\n",
      "19.731949391887365\n",
      "13.975723167798165\n",
      "83.58006822114012\n",
      "32.71971833486836\n",
      "117.03931692562212\n",
      "99.21863567308066\n",
      "\n"
     ]
    },
    {
     "data": {
      "application/vnd.jupyter.widget-view+json": {
       "model_id": "075a6eb0379e47e48aab5682775b7bcb",
       "version_major": 2,
       "version_minor": 0
      },
      "text/plain": [
       "HBox(children=(FloatProgress(value=0.0, max=10.0), HTML(value='')))"
      ]
     },
     "metadata": {},
     "output_type": "display_data"
    },
    {
     "name": "stdout",
     "output_type": "stream",
     "text": [
      "14.265508379924622\n",
      "20.646933032226826\n",
      "30.172403867963865\n",
      "102.29915764908418\n",
      "20.85996142794086\n",
      "16.912608358694058\n",
      "73.48256754381647\n",
      "21.72027398758684\n",
      "116.67921714469199\n",
      "111.57478562718363\n",
      "\n"
     ]
    },
    {
     "data": {
      "application/vnd.jupyter.widget-view+json": {
       "model_id": "71382357b7ea4a9cb1ddf3c3eddfe71f",
       "version_major": 2,
       "version_minor": 0
      },
      "text/plain": [
       "HBox(children=(FloatProgress(value=0.0, max=10.0), HTML(value='')))"
      ]
     },
     "metadata": {},
     "output_type": "display_data"
    },
    {
     "name": "stdout",
     "output_type": "stream",
     "text": [
      "20.338092640674986\n",
      "60.892806972839224\n",
      "83.77772108565534\n",
      "87.9304353849554\n",
      "43.41729820386678\n",
      "83.73350149357671\n",
      "58.46271611200695\n",
      "50.09359111308203\n",
      "110.77949473655623\n",
      "71.60192940814972\n",
      "\n"
     ]
    },
    {
     "data": {
      "application/vnd.jupyter.widget-view+json": {
       "model_id": "7f032e681d4c4f5ca27066ab0573e383",
       "version_major": 2,
       "version_minor": 0
      },
      "text/plain": [
       "HBox(children=(FloatProgress(value=0.0, max=10.0), HTML(value='')))"
      ]
     },
     "metadata": {},
     "output_type": "display_data"
    },
    {
     "name": "stdout",
     "output_type": "stream",
     "text": [
      "11.526449425101035\n",
      "15.235683979988686\n",
      "89.10839084205864\n",
      "63.72303001379108\n",
      "18.55506158931353\n",
      "14.206642032364709\n",
      "72.15240632842911\n",
      "17.366883816234832\n",
      "101.23124570754538\n",
      "99.85148133833171\n",
      "\n"
     ]
    },
    {
     "data": {
      "application/vnd.jupyter.widget-view+json": {
       "model_id": "93e38dfc88db41cb846508689186739a",
       "version_major": 2,
       "version_minor": 0
      },
      "text/plain": [
       "HBox(children=(FloatProgress(value=0.0, max=10.0), HTML(value='')))"
      ]
     },
     "metadata": {},
     "output_type": "display_data"
    },
    {
     "name": "stdout",
     "output_type": "stream",
     "text": [
      "11.606220694540767\n",
      "17.49143814943589\n",
      "73.30835205115761\n",
      "72.67240170157116\n",
      "32.8809876823727\n",
      "44.37053807921214\n",
      "60.427701425313955\n",
      "36.650503509371916\n",
      "100.15503671349495\n",
      "94.66796355314229\n",
      "\n"
     ]
    },
    {
     "data": {
      "application/vnd.jupyter.widget-view+json": {
       "model_id": "cf0f001d0e3341b29ea53d73341a124c",
       "version_major": 2,
       "version_minor": 0
      },
      "text/plain": [
       "HBox(children=(FloatProgress(value=0.0, max=10.0), HTML(value='')))"
      ]
     },
     "metadata": {},
     "output_type": "display_data"
    },
    {
     "name": "stdout",
     "output_type": "stream",
     "text": [
      "12.144491133294391\n",
      "4.576977058602099\n",
      "28.831844452374412\n",
      "75.40778507525859\n",
      "15.551621452672892\n",
      "11.244682492381159\n",
      "53.57054940557835\n",
      "14.167756011569427\n",
      "84.24497953036715\n",
      "89.2419742203608\n",
      "\n"
     ]
    },
    {
     "data": {
      "application/vnd.jupyter.widget-view+json": {
       "model_id": "d22f14c7c86c4a729d657570cd778863",
       "version_major": 2,
       "version_minor": 0
      },
      "text/plain": [
       "HBox(children=(FloatProgress(value=0.0, max=10.0), HTML(value='')))"
      ]
     },
     "metadata": {},
     "output_type": "display_data"
    },
    {
     "name": "stdout",
     "output_type": "stream",
     "text": [
      "11.895028920175303\n",
      "15.230273738960282\n",
      "30.4249204806265\n",
      "67.0739858218555\n",
      "27.24613274141739\n",
      "61.52636304065665\n",
      "18.105194353994307\n",
      "23.487460735642152\n",
      "109.05140394639999\n",
      "92.06659604988252\n",
      "\n",
      "\n"
     ]
    }
   ],
   "source": [
    "MC_final_loop10=runLoopMC(a,10,numRep)\n",
    "MC_final_loop20=runLoopMC(a,20,numRep)"
   ]
  },
  {
   "cell_type": "code",
   "execution_count": 71,
   "metadata": {
    "scrolled": true
   },
   "outputs": [
    {
     "name": "stdout",
     "output_type": "stream",
     "text": [
      "35.257613002860715\n"
     ]
    },
    {
     "data": {
      "text/plain": [
       "55.45680419339238"
      ]
     },
     "execution_count": 71,
     "metadata": {},
     "output_type": "execute_result"
    }
   ],
   "source": [
    "print(np.std(MC_final_loop10))\n",
    "np.mean(MC_final_loop10)\n"
   ]
  },
  {
   "cell_type": "code",
   "execution_count": 72,
   "metadata": {},
   "outputs": [
    {
     "name": "stdout",
     "output_type": "stream",
     "text": [
      "35.03010351276409\n"
     ]
    },
    {
     "data": {
      "text/plain": [
       "55.41996895827644"
      ]
     },
     "execution_count": 72,
     "metadata": {},
     "output_type": "execute_result"
    }
   ],
   "source": [
    "print(np.std(MC_final_loop20))\n",
    "np.mean(MC_final_loop20)"
   ]
  },
  {
   "cell_type": "code",
   "execution_count": 73,
   "metadata": {},
   "outputs": [],
   "source": [
    "import pandas as pd\n",
    "df=pd.DataFrame({'Loop 10':{'Mean':np.mean(MC_final_loop10),'STD':np.std(MC_final_loop10)},'Loop 20':{'Mean':np.mean(MC_final_loop20),'STD':np.std(MC_final_loop20)}})"
   ]
  },
  {
   "cell_type": "code",
   "execution_count": 74,
   "metadata": {},
   "outputs": [],
   "source": [
    "df.to_pickle(dataLoc+densityName+\"loopMC.pkl\")"
   ]
  },
  {
   "cell_type": "code",
   "execution_count": 30,
   "metadata": {},
   "outputs": [],
   "source": [
    "## Load all densities:\n",
    "densities=[0.10,0.20,0.30]\n",
    "dfMC=[None]*3\n",
    "dfMG=[None]*3\n",
    "\n",
    "for i in range(len(densities)):\n",
    "    density=densities[i]\n",
    "    densityName=str(density).replace('.','p')\n",
    "    loadLoc='/import/silo2/aloe8475/Documents/Data/Functional Connectivity/Hierarchical Networks/Deep NWN Hierarchy/Density '+\"{:.2f}\".format(density)+'/'\n",
    "    dfMC[i]=(pd.read_pickle(loadLoc+densityName+'MC.pkl'))\n",
    "    dfMG[i]=(pd.read_pickle(loadLoc+densityName+'MG.pkl'))"
   ]
  },
  {
   "cell_type": "code",
   "execution_count": 75,
   "metadata": {},
   "outputs": [],
   "source": [
    "frames=[dfMC[2],df]"
   ]
  },
  {
   "cell_type": "code",
   "execution_count": 76,
   "metadata": {},
   "outputs": [],
   "source": [
    "dfMC[2]=pd.concat(frames,axis=1)"
   ]
  },
  {
   "cell_type": "code",
   "execution_count": 77,
   "metadata": {},
   "outputs": [
    {
     "data": {
      "text/html": [
       "<div>\n",
       "<style scoped>\n",
       "    .dataframe tbody tr th:only-of-type {\n",
       "        vertical-align: middle;\n",
       "    }\n",
       "\n",
       "    .dataframe tbody tr th {\n",
       "        vertical-align: top;\n",
       "    }\n",
       "\n",
       "    .dataframe thead th {\n",
       "        text-align: right;\n",
       "    }\n",
       "</style>\n",
       "<table border=\"1\" class=\"dataframe\">\n",
       "  <thead>\n",
       "    <tr style=\"text-align: right;\">\n",
       "      <th></th>\n",
       "      <th>Single</th>\n",
       "      <th>Wide</th>\n",
       "      <th>Deep 10</th>\n",
       "      <th>Deep 20</th>\n",
       "      <th>Loop 10</th>\n",
       "      <th>Loop 20</th>\n",
       "    </tr>\n",
       "  </thead>\n",
       "  <tbody>\n",
       "    <tr>\n",
       "      <th>Mean</th>\n",
       "      <td>34.766853</td>\n",
       "      <td>30.052743</td>\n",
       "      <td>63.361596</td>\n",
       "      <td>60.850480</td>\n",
       "      <td>55.456804</td>\n",
       "      <td>55.419969</td>\n",
       "    </tr>\n",
       "    <tr>\n",
       "      <th>STD</th>\n",
       "      <td>38.126399</td>\n",
       "      <td>14.556018</td>\n",
       "      <td>39.481952</td>\n",
       "      <td>37.321249</td>\n",
       "      <td>35.257613</td>\n",
       "      <td>35.030104</td>\n",
       "    </tr>\n",
       "  </tbody>\n",
       "</table>\n",
       "</div>"
      ],
      "text/plain": [
       "         Single       Wide    Deep 10    Deep 20    Loop 10    Loop 20\n",
       "Mean  34.766853  30.052743  63.361596  60.850480  55.456804  55.419969\n",
       "STD   38.126399  14.556018  39.481952  37.321249  35.257613  35.030104"
      ]
     },
     "execution_count": 77,
     "metadata": {},
     "output_type": "execute_result"
    }
   ],
   "source": [
    "dfMC[2]"
   ]
  },
  {
   "cell_type": "code",
   "execution_count": 78,
   "metadata": {},
   "outputs": [],
   "source": [
    "dfMC[2].to_pickle(dataLoc+densityName+\"loopMC.pkl\")"
   ]
  },
  {
   "cell_type": "code",
   "execution_count": 81,
   "metadata": {},
   "outputs": [
    {
     "data": {
      "image/png": "[encoded data removed]",
      "text/plain": [
       "<Figure size 800x600 with 1 Axes>"
      ]
     },
     "metadata": {},
     "output_type": "display_data"
    },
    {
     "data": {
      "image/png": "[encoded data removed]",
      "text/plain": [
       "<Figure size 800x600 with 1 Axes>"
      ]
     },
     "metadata": {},
     "output_type": "display_data"
    }
   ],
   "source": [
    "N = dfMC[0].shape[1]\n",
    "\n",
    "ind = np.arange(N)\n",
    "fig,ax=plt.subplots(1,figsize=(8,6))\n",
    "plt.rcParams['pdf.fonttype'] = 42\n",
    "width = 0.27\n",
    "rects1 = ax.bar(ind, dfMC[0].loc['Mean',:],width, yerr=dfMC[0].loc['STD',:], color='r')\n",
    "rects2 = ax.bar(ind+width, dfMC[1].loc['Mean',:],width, yerr=dfMC[1].loc['STD',:],  color='b')\n",
    "rects3 = ax.bar(ind+width*2, dfMC[2].loc['Mean',:], width, yerr=dfMC[2].loc['STD',:], color='g')\n",
    "ax.legend( (rects1[0], rects2[0], rects3[0]), ('Density 0.1', 'Density 0.2', 'Density 0.3') )\n",
    "\n",
    "# plt.bar(np.arange(unpickled_df[0].shape[1]),unpickled_df[0].mean(), yerr=stds, capsize=6)\n",
    "ax.set_xticks(ind+width)\n",
    "# ax.set_title('MC Task')\n",
    "ax.set_xlabel('Task Type')\n",
    "ax.set_xticklabels(['Shallow','Wide','Deep 10','Deep 20','Loop 10','Loop 20'])\n",
    "plt.title('Memory Capacity')\n",
    "ax.set_ylabel('MC')\n",
    "# ax.set_ylim([0.85,0.95])\n",
    "saveFig='/import/silo2/aloe8475/Documents/Data/Figures/Functional Connectivity/'\n",
    "plt.savefig(saveFig+\"Memory Capacity 3 Densities - Single vs Wide vs Deep vs Loop NWN.png\")\n",
    "plt.savefig(saveFig+\"Memory Capacity 3 Densities - Single vs Wide vs Deep vs Loop NWN.pdf\",format='pdf',dpi=300)\n",
    "plt.show()"
   ]
  },
  {
   "cell_type": "markdown",
   "metadata": {},
   "source": [
    "## Mackey-Glass"
   ]
  },
  {
   "cell_type": "code",
   "execution_count": 11,
   "metadata": {},
   "outputs": [],
   "source": [
    "def get_MG_deep(Graph, amp = 1, \n",
    "          dt = 0.01, dur = 1, \n",
    "          hist = 20, shift = 2,\n",
    "          n_outs = 10,signal=[], voltageInputs=[],elecs=[], \n",
    "          init_state = None, seed=42,\n",
    "          return_sim = False):    \n",
    "    \n",
    "    ampName=str(amp).replace('.','p')\n",
    "    np.random.seed(seed)\n",
    "    stimulus=[]\n",
    "#     y = np.zeros(len(signal))\n",
    "    N = Graph.number_of_nodes#Connectivity.number_of_wires\n",
    "\n",
    "    if elecs:\n",
    "        electrodes=elecs\n",
    "        contactMode='preSet'\n",
    "#         set_trace()\n",
    "        for volt in voltageInputs:\n",
    "            stimulus.append(stimulus__(biasType='Custom',T=30,dt=dt,customSignal=volt))#signal_expand(np.random.random(1000)*2*volt-volt, dur)))\n",
    "        stimulus.append(stimulus__(biasType='Drain',T=30,dt=dt)) #we don't want this drain to be active during training\n",
    "    else:\n",
    "        electrodes=None\n",
    "        contactMode='farthest'\n",
    "        stimulus.append(stimulus__(biasType='Custom',T=30,dt=dt,customSignal=signal))#signal_expand((np.random.random(1000)*2*amp-amp), dur)))\n",
    "        stimulus.append(stimulus__(biasType='Drain',T=30,dt=dt)) #we don't want this drain to be active during training\n",
    "    \n",
    "    simRAND = runSim(connectivity__(graph=Graph), T = 30, dt = dt,\n",
    "#                 start_state =  init_state,\n",
    "                stimulus=stimulus,\n",
    "#                 biasType = 'Custom', customSignal = u, \n",
    "                junctionMode = 'tunneling', \n",
    "                contactMode = contactMode,\n",
    "                electrodes=electrodes,\n",
    "                findFirst=False, disable_tqdm=True)\n",
    "    \n",
    "    state=getJunctionState(simRAND,-2)\n",
    "    \n",
    "    node_list=[]\n",
    "    for i in range(len(Graph.nodes)):\n",
    "        node_list.append(i)\n",
    "\n",
    "\n",
    "    if return_sim:\n",
    "        return simRAND, node_list,state\n",
    "    else:\n",
    "        return u, node_list\n",
    "    "
   ]
  },
  {
   "cell_type": "code",
   "execution_count": 13,
   "metadata": {},
   "outputs": [],
   "source": [
    "#DEEP NETWORKS:\n",
    "def runLoopMG(a,numInputs):\n",
    "    simMG_loop=[None]*3\n",
    "    amp=2;dur=1;hist=20;shift=0.1;dt=0.01\n",
    "    #3 sub reservoirs with 10 INPUTS\n",
    "    MG_final_loop = []\n",
    "    for i in tqdm(range(len(a))): #for each network\n",
    "        np.random.seed(seeds[i])\n",
    "        y = mkg_generator(3000, 100*dt, 25)\n",
    "        \n",
    "        #sub-res 1\n",
    "        simMG_loop[0],node_list,state1=get_MG_deep(a[i],signal=y,amp=amp,return_sim=True,seed=seeds[i])\n",
    "        \n",
    "    #list of all wires\n",
    "        simMG_loop[1],node_list,state2=addSubReservoir(a[i],simMG_loop[0],\n",
    "                                                numInputs,signal=y,\n",
    "                                                state=state1,\n",
    "                                                amp=amp,seed=seeds[i],\n",
    "                                                analysisType='MG')\n",
    "        \n",
    "        simMG_loop[2],node_list,state3=addSubReservoir(a[i],simMG_loop[1],\n",
    "                                                numInputs,signal=y,\n",
    "                                                state=state2,\n",
    "                                                amp=amp,seed=seeds[i],\n",
    "                                                removeSources=True,analysisType='MG')\n",
    "\n",
    "        #Combine outputs\n",
    "        wire_voltage = np.hstack((simMG_loop[0].wireVoltage,simMG_loop[1].wireVoltage,simMG_loop[2].wireVoltage))\n",
    "        \n",
    "        lhs = wire_voltage[:-hist,:]\n",
    "        \n",
    "        rhs = y[hist:]\n",
    "        weight = np.linalg.lstsq(lhs, rhs, rcond = None)[0]\n",
    "        result = np.matmul(lhs, weight)\n",
    "        \n",
    "        MG_final_loop.append(1-getRNMSE(result, rhs))\n",
    "        print(MG_final_loop[i])\n",
    "#         break;\n",
    "    return MG_final_loop"
   ]
  },
  {
   "cell_type": "code",
   "execution_count": 14,
   "metadata": {},
   "outputs": [
    {
     "data": {
      "application/vnd.jupyter.widget-view+json": {
       "model_id": "e147eb6f4f334443a14cd6c30091d9e3",
       "version_major": 2,
       "version_minor": 0
      },
      "text/plain": [
       "HBox(children=(FloatProgress(value=0.0, max=10.0), HTML(value='')))"
      ]
     },
     "metadata": {},
     "output_type": "display_data"
    },
    {
     "name": "stdout",
     "output_type": "stream",
     "text": [
      "0.663360307557868\n",
      "0.6958162359661461\n",
      "0.6636858014838788\n",
      "0.6651542722666761\n",
      "0.6186962260155875\n",
      "0.7175842889087581\n",
      "0.6249309394228962\n",
      "0.6956825342288331\n",
      "0.6406207033305582\n",
      "0.6811501045050871\n",
      "\n"
     ]
    },
    {
     "data": {
      "application/vnd.jupyter.widget-view+json": {
       "model_id": "dff41b83c98747199076333080aa5f31",
       "version_major": 2,
       "version_minor": 0
      },
      "text/plain": [
       "HBox(children=(FloatProgress(value=0.0, max=10.0), HTML(value='')))"
      ]
     },
     "metadata": {},
     "output_type": "display_data"
    },
    {
     "name": "stdout",
     "output_type": "stream",
     "text": [
      "0.6611131519305404\n",
      "0.6850801954342538\n",
      "0.6434589670301829\n",
      "0.6569933252035222\n",
      "0.6208264313685542\n",
      "0.6896819170979488\n",
      "0.634715475031219\n",
      "0.6673849129311679\n",
      "0.6222661688644355\n",
      "0.6576845036598404\n",
      "\n"
     ]
    }
   ],
   "source": [
    "#10 different networks\n",
    "MG_final_loop10=runLoopMG(a,10)\n",
    "MG_final_loop20=runLoopMG(a,20)\n"
   ]
  },
  {
   "cell_type": "code",
   "execution_count": 16,
   "metadata": {
    "scrolled": true
   },
   "outputs": [
    {
     "name": "stdout",
     "output_type": "stream",
     "text": [
      "0.030393294294855603\n"
     ]
    },
    {
     "data": {
      "text/plain": [
       "0.666668141368629"
      ]
     },
     "execution_count": 16,
     "metadata": {},
     "output_type": "execute_result"
    }
   ],
   "source": [
    "print(np.std(MG_final_loop10))\n",
    "np.mean(MG_final_loop10)\n"
   ]
  },
  {
   "cell_type": "code",
   "execution_count": 17,
   "metadata": {},
   "outputs": [
    {
     "name": "stdout",
     "output_type": "stream",
     "text": [
      "0.022543138473644638\n"
     ]
    },
    {
     "data": {
      "text/plain": [
       "0.6539205048551665"
      ]
     },
     "execution_count": 17,
     "metadata": {},
     "output_type": "execute_result"
    }
   ],
   "source": [
    "print(np.std(MG_final_loop20))\n",
    "np.mean(MG_final_loop20)"
   ]
  },
  {
   "cell_type": "code",
   "execution_count": 153,
   "metadata": {},
   "outputs": [],
   "source": [
    "import pandas as pd\n",
    "df=pd.DataFrame({'Loop 10':{'Mean':np.mean(MG_final_loop10),'STD':np.std(MG_final_loop10)},'Loop 20':{'Mean':np.mean(MG_final_loop20),'STD':np.std(MG_final_loop20)}})"
   ]
  },
  {
   "cell_type": "code",
   "execution_count": 154,
   "metadata": {},
   "outputs": [],
   "source": [
    "df.to_pickle(dataLoc+densityName+\"loopMG.pkl\")"
   ]
  },
  {
   "cell_type": "code",
   "execution_count": 155,
   "metadata": {},
   "outputs": [
    {
     "data": {
      "text/html": [
       "<div>\n",
       "<style scoped>\n",
       "    .dataframe tbody tr th:only-of-type {\n",
       "        vertical-align: middle;\n",
       "    }\n",
       "\n",
       "    .dataframe tbody tr th {\n",
       "        vertical-align: top;\n",
       "    }\n",
       "\n",
       "    .dataframe thead th {\n",
       "        text-align: right;\n",
       "    }\n",
       "</style>\n",
       "<table border=\"1\" class=\"dataframe\">\n",
       "  <thead>\n",
       "    <tr style=\"text-align: right;\">\n",
       "      <th></th>\n",
       "      <th>Loop 10</th>\n",
       "      <th>Loop 20</th>\n",
       "    </tr>\n",
       "  </thead>\n",
       "  <tbody>\n",
       "    <tr>\n",
       "      <th>Mean</th>\n",
       "      <td>0.646458</td>\n",
       "      <td>0.633155</td>\n",
       "    </tr>\n",
       "    <tr>\n",
       "      <th>STD</th>\n",
       "      <td>0.021056</td>\n",
       "      <td>0.022084</td>\n",
       "    </tr>\n",
       "  </tbody>\n",
       "</table>\n",
       "</div>"
      ],
      "text/plain": [
       "       Loop 10   Loop 20\n",
       "Mean  0.646458  0.633155\n",
       "STD   0.021056  0.022084"
      ]
     },
     "execution_count": 155,
     "metadata": {},
     "output_type": "execute_result"
    }
   ],
   "source": [
    "df"
   ]
  },
  {
   "cell_type": "code",
   "execution_count": 170,
   "metadata": {},
   "outputs": [],
   "source": [
    "## Load all densities:\n",
    "densities=[0.10,0.20,0.30]\n",
    "dfMC=[None]*3\n",
    "dfMG=[None]*3\n",
    "\n",
    "for i in range(len(densities)):\n",
    "    density=densities[i]\n",
    "    densityName=str(density).replace('.','p')\n",
    "    loadLoc='/import/silo2/aloe8475/Documents/Data/Functional Connectivity/Hierarchical Networks/Deep NWN Hierarchy/Density '+\"{:.2f}\".format(density)+'/'\n",
    "    dfMG[i]=(pd.read_pickle(loadLoc+densityName+'loopMG.pkl'))"
   ]
  },
  {
   "cell_type": "code",
   "execution_count": 166,
   "metadata": {},
   "outputs": [],
   "source": [
    "frames=[dfMG[0],df]"
   ]
  },
  {
   "cell_type": "code",
   "execution_count": 167,
   "metadata": {},
   "outputs": [],
   "source": [
    "dfMG[0]=pd.concat(frames,axis=1)"
   ]
  },
  {
   "cell_type": "code",
   "execution_count": 169,
   "metadata": {},
   "outputs": [],
   "source": [
    "density=0.10\n",
    "densityName=str(density).replace('.','p')\n",
    "dfMG[0].to_pickle(dataLoc+densityName+\"loopMG.pkl\")"
   ]
  },
  {
   "cell_type": "code",
   "execution_count": 171,
   "metadata": {
    "scrolled": true
   },
   "outputs": [
    {
     "data": {
      "image/png": "[encoded data removed]",
      "text/plain": [
       "<Figure size 800x600 with 1 Axes>"
      ]
     },
     "metadata": {},
     "output_type": "display_data"
    },
    {
     "data": {
      "image/png": "[encoded data removed]",
      "text/plain": [
       "<Figure size 800x600 with 1 Axes>"
      ]
     },
     "metadata": {},
     "output_type": "display_data"
    },
    {
     "data": {
      "image/png": "[encoded data removed]",
      "text/plain": [
       "<Figure size 800x600 with 1 Axes>"
      ]
     },
     "metadata": {},
     "output_type": "display_data"
    },
    {
     "data": {
      "image/png": "[encoded data removed]",
      "text/plain": [
       "<Figure size 800x600 with 1 Axes>"
      ]
     },
     "metadata": {},
     "output_type": "display_data"
    },
    {
     "data": {
      "image/png": "[encoded data removed]",
      "text/plain": [
       "<Figure size 800x600 with 1 Axes>"
      ]
     },
     "metadata": {},
     "output_type": "display_data"
    },
    {
     "data": {
      "image/png": "[encoded data removed]",
      "text/plain": [
       "<Figure size 800x600 with 1 Axes>"
      ]
     },
     "metadata": {},
     "output_type": "display_data"
    }
   ],
   "source": [
    "N = dfMG[0].shape[1]\n",
    "ind = np.arange(N)\n",
    "fig,ax=plt.subplots(1,figsize=(8,6))\n",
    "plt.rcParams['pdf.fonttype'] = 42\n",
    "width = 0.27\n",
    "rects1 = ax.bar(ind, dfMG[0].loc['Mean',:],width, yerr=dfMG[0].loc['STD',:], color='r')\n",
    "rects2 = ax.bar(ind+width, dfMG[1].loc['Mean',:],width, yerr=dfMG[1].loc['STD',:],  color='b')\n",
    "rects3 = ax.bar(ind+width*2, dfMG[2].loc['Mean',:], width, yerr=dfMG[2].loc['STD',:], color='g')\n",
    "ax.legend( (rects1[0], rects2[0], rects3[0]), ('Density 0.1', 'Density 0.2', 'Density 0.3') )\n",
    "\n",
    "# plt.bar(np.arange(unpickled_df[0].shape[1]),unpickled_df[0].mean(), yerr=stds, capsize=6)\n",
    "ax.set_xticks(ind+width)\n",
    "# ax.set_title('MC Task')\n",
    "ax.set_xlabel('Task Type')\n",
    "ax.set_xticklabels(['Shallow','Wide','Deep 10','Deep 20','Loop 10','Loop 20'])\n",
    "plt.title('Mackey-Glass tau = 18')\n",
    "ax.set_ylabel('1-RNMSE')\n",
    "ax.set_ylim([0.5,0.75])\n",
    "saveFig='/import/silo2/aloe8475/Documents/Data/Figures/Functional Connectivity/'\n",
    "plt.savefig(saveFig+\"Mackey-Glass 3 Densities - Single vs Wide vs Deep vs Loop NWN.png\")\n",
    "plt.savefig(saveFig+\"Mackey-Glass 3 Densities - Single vs Wide vs Deep vs Loop NWN.pdf\",format='pdf',dpi=300)\n",
    "\n",
    "plt.show()"
   ]
  },
  {
   "cell_type": "code",
   "execution_count": 15,
   "metadata": {},
   "outputs": [],
   "source": [
    "#DEEP NETWORKS:\n",
    "def runDeepMG(a,numInputs):\n",
    "    simMG_loop=[None]*3\n",
    "    amp=2;dur=1;hist=20;shift=0.1;dt=0.01\n",
    "    #3 sub reservoirs with 10 INPUTS\n",
    "    MG_final_loop = []\n",
    "    for i in tqdm(range(len(a))): #for each network\n",
    "        np.random.seed(seeds[i])\n",
    "        y = mkg_generator(3000, 100*dt, 25)\n",
    "        \n",
    "        #sub-res 1\n",
    "        simMG_loop[0],node_list,state1=get_MG_deep(a[i],signal=y,amp=amp,return_sim=True,seed=seeds[i])\n",
    "        \n",
    "    #list of all wires\n",
    "        simMG_loop[1],node_list,state2=addSubReservoir(a[i],simMG_loop[0],\n",
    "                                                numInputs,signal=y,\n",
    "                                                state=None,\n",
    "                                                amp=amp,seed=seeds[i],\n",
    "                                                analysisType='MG')\n",
    "        \n",
    "        simMG_loop[2],node_list,state3=addSubReservoir(a[i],simMG_loop[1],\n",
    "                                                numInputs,signal=y,\n",
    "                                                state=None,\n",
    "                                                amp=amp,seed=seeds[i],\n",
    "                                                removeSources=True,analysisType='MG')\n",
    "\n",
    "        #Combine outputs\n",
    "        wire_voltage = np.hstack((simMG_loop[0].wireVoltage,simMG_loop[1].wireVoltage,simMG_loop[2].wireVoltage))\n",
    "        \n",
    "        lhs = wire_voltage[:-hist,:]\n",
    "        \n",
    "        rhs = y[hist:]\n",
    "        weight = np.linalg.lstsq(lhs, rhs, rcond = None)[0]\n",
    "        result = np.matmul(lhs, weight)\n",
    "        \n",
    "        MG_final_loop.append(1-getRNMSE(result, rhs))\n",
    "        print(MG_final_loop[i])\n",
    "#         break;\n",
    "    return MG_final_loop"
   ]
  },
  {
   "cell_type": "code",
   "execution_count": 18,
   "metadata": {},
   "outputs": [
    {
     "data": {
      "application/vnd.jupyter.widget-view+json": {
       "model_id": "0a41f46e9da145728f2e6bcc925adb88",
       "version_major": 2,
       "version_minor": 0
      },
      "text/plain": [
       "HBox(children=(FloatProgress(value=0.0, max=10.0), HTML(value='')))"
      ]
     },
     "metadata": {},
     "output_type": "display_data"
    },
    {
     "name": "stdout",
     "output_type": "stream",
     "text": [
      "0.6633603113361626\n",
      "0.6958162360431098\n",
      "0.6636858014838788\n",
      "0.6651542815278715\n",
      "0.6186962260155875\n",
      "0.7175842889087581\n",
      "0.6249309499311699\n",
      "0.6956825334677339\n",
      "0.6406207040058984\n",
      "0.6811501020981627\n",
      "\n"
     ]
    },
    {
     "data": {
      "application/vnd.jupyter.widget-view+json": {
       "model_id": "75bc977bce374d9187b0c43ca666fd4c",
       "version_major": 2,
       "version_minor": 0
      },
      "text/plain": [
       "HBox(children=(FloatProgress(value=0.0, max=10.0), HTML(value='')))"
      ]
     },
     "metadata": {},
     "output_type": "display_data"
    },
    {
     "name": "stdout",
     "output_type": "stream",
     "text": [
      "0.6611131519305404\n",
      "0.6850801867181403\n",
      "0.6434589670301829\n",
      "0.6569933252035222\n",
      "0.6208264313685542\n",
      "0.6896819100612872\n",
      "0.6347154741864005\n",
      "0.6673849129311679\n",
      "0.6222661688644355\n",
      "0.6576845110902052\n",
      "\n"
     ]
    }
   ],
   "source": [
    "#10 different networks\n",
    "MG_final_deep10=runDeepMG(a,10)\n",
    "MG_final_deep20=runDeepMG(a,20)\n"
   ]
  },
  {
   "cell_type": "code",
   "execution_count": 19,
   "metadata": {
    "scrolled": true
   },
   "outputs": [
    {
     "name": "stdout",
     "output_type": "stream",
     "text": [
      "0.030393292526730606\n"
     ]
    },
    {
     "data": {
      "text/plain": [
       "0.6666681434818333"
      ]
     },
     "execution_count": 19,
     "metadata": {},
     "output_type": "execute_result"
    }
   ],
   "source": [
    "print(np.std(MG_final_deep10))\n",
    "np.mean(MG_final_deep10)\n"
   ]
  },
  {
   "cell_type": "code",
   "execution_count": 20,
   "metadata": {},
   "outputs": [
    {
     "name": "stdout",
     "output_type": "stream",
     "text": [
      "0.022543136348653726\n"
     ]
    },
    {
     "data": {
      "text/plain": [
       "0.6539205039384437"
      ]
     },
     "execution_count": 20,
     "metadata": {},
     "output_type": "execute_result"
    }
   ],
   "source": [
    "print(np.std(MG_final_deep20))\n",
    "np.mean(MG_final_deep20)"
   ]
  },
  {
   "cell_type": "code",
   "execution_count": null,
   "metadata": {},
   "outputs": [],
   "source": []
  }
 ],
 "metadata": {
  "kernelspec": {
   "display_name": "Python 3",
   "language": "python",
   "name": "python3"
  },
  "language_info": {
   "codemirror_mode": {
    "name": "ipython",
    "version": 3
   },
   "file_extension": ".py",
   "mimetype": "text/x-python",
   "name": "python",
   "nbconvert_exporter": "python",
   "pygments_lexer": "ipython3",
   "version": "3.8.5"
  }
 },
 "nbformat": 4,
 "nbformat_minor": 2
}
