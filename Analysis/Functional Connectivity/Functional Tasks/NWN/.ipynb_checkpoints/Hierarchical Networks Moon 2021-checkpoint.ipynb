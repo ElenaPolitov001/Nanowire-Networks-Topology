{
 "cells": [
  {
   "cell_type": "markdown",
   "id": "3e5132b6",
   "metadata": {},
   "source": [
    "Based on this paper https://doi.org/10.1088/2634-4386/ac1b75"
   ]
  },
  {
   "cell_type": "code",
   "execution_count": 1,
   "id": "f177b00d",
   "metadata": {},
   "outputs": [],
   "source": [
    "import sys\n",
    "sys.path.append('/import/silo2/aloe8475/Documents/edamame')"
   ]
  },
  {
   "cell_type": "code",
   "execution_count": 27,
   "id": "083831e6",
   "metadata": {},
   "outputs": [],
   "source": [
    "from scipy.io import loadmat, savemat\n",
    "import numpy as np\n",
    "import matplotlib.pyplot as plt\n",
    "from matplotlib import colors\n",
    "import networkx as nx\n",
    "from edamame import *\n",
    "from tqdm.notebook import tqdm\n",
    "import os\n",
    "import edamame.core.wires as wires\n",
    "from random import choice\n",
    "from IPython.core.debugger import set_trace\n",
    "import pickle \n",
    "import _pickle as cPickle\n",
    "import gzip\n",
    "\n",
    "def compressed_pickle(obj, filename,protocol=-1):\n",
    "    with gzip.open(filename, 'wb') as f:\n",
    "        cPickle.dump(obj, f, protocol)\n",
    "def decompress_pickle(file):\n",
    "    with gzip.open(file, 'rb') as f:\n",
    "        loaded_object = cPickle.load(f,encoding=\"bytes\") #change this for python 2\n",
    "        return loaded_object"
   ]
  },
  {
   "cell_type": "code",
   "execution_count": 9,
   "id": "fb9268f0",
   "metadata": {},
   "outputs": [],
   "source": [
    "\n",
    "dataLoc='/import/silo2/aloe8475/Documents/CODE/Data/Functional Connectivity/Hierarchical Results/'\n",
    "saveFig='/import/silo2/aloe8475/Documents/CODE/Data/Figures/Functional Connectivity/'"
   ]
  },
  {
   "cell_type": "code",
   "execution_count": 506,
   "id": "caab984e",
   "metadata": {},
   "outputs": [
    {
     "name": "stderr",
     "output_type": "stream",
     "text": [
      "2021-09-14 13:33:25,833:INFO:Detecting junctions\n",
      "2021-09-14 13:33:26,020:INFO:Finished detecting junctions\n",
      "2021-09-14 13:33:26,045:INFO:The returned network has 3347 junctions.\n"
     ]
    }
   ],
   "source": [
    "subres=edamame.core.generate_network(100,dispersion=25,mean_length=100,this_seed=42) #100 nodes, 3300 edges\n",
    "#edamame.core.generate_network(100,dispersion=110,mean_length=100,this_seed=42) #100 nodes, 450 edges"
   ]
  },
  {
   "cell_type": "code",
   "execution_count": 508,
   "id": "c721fab5",
   "metadata": {},
   "outputs": [],
   "source": [
    "np.random.seed(42)"
   ]
  },
  {
   "cell_type": "code",
   "execution_count": 510,
   "id": "5e0b3e9a",
   "metadata": {},
   "outputs": [
    {
     "name": "stderr",
     "output_type": "stream",
     "text": [
      "2021-09-14 13:33:45,104:INFO:Detecting junctions\n",
      "2021-09-14 13:33:46,713:INFO:Finished detecting junctions\n",
      "2021-09-14 13:33:46,822:INFO:The returned network has 15066 junctions.\n"
     ]
    }
   ],
   "source": [
    "res=edamame.core.generate_network(300,dispersion=50,mean_length=100,this_seed=42) #300 nodes, 15000 edges\n",
    "#edamame.core.generate_network(300,dispersion=125,mean_length=100,this_seed=42) #300 nodes, 3500 edges"
   ]
  },
  {
   "cell_type": "code",
   "execution_count": 511,
   "id": "8d87f028",
   "metadata": {},
   "outputs": [],
   "source": [
    "# name2='/import/silo2/aloe8475/Documents/CODE/Data/Functional Connectivity/300nw_2_modules_separated_10sets_NWN.pkl'\n",
    "# NWN_separate=decompress_pickle(name2)"
   ]
  },
  {
   "cell_type": "code",
   "execution_count": 512,
   "id": "9f12b64b",
   "metadata": {},
   "outputs": [],
   "source": [
    "# module=NWN_separate[0][0][1]"
   ]
  },
  {
   "cell_type": "code",
   "execution_count": 513,
   "id": "4a4dff9f",
   "metadata": {},
   "outputs": [],
   "source": [
    "a = subres['G']\n",
    "b=res['G']\n",
    "\n",
    "# b = nx.union(a,a, rename=('a-', 'b-'))\n",
    "# b.add_edge('a-148', 'b-148')\n",
    "\n",
    "# plt.figure()\n",
    "# nx.draw_networkx(b,with_labels=True,node_size=500)\n",
    "\n",
    "# plt.figure()\n",
    "# a=nx.relabel_nodes(a, { n: str(n) if n==0 else 'c-'+str(n) for n in  a.nodes })\n",
    "# c = nx.union(a,b)\n",
    "# c.add_edge('c-114','b-114')\n",
    "# pos=nx.kamada_kawai_layout(c)\n",
    "# nx.draw_networkx(c,pos=pos,with_labels=True,node_size=500)\n",
    "# plt.show()"
   ]
  },
  {
   "cell_type": "markdown",
   "id": "9d0302c0",
   "metadata": {},
   "source": [
    "### MEMORY CAPACITY TASK (MC)"
   ]
  },
  {
   "cell_type": "code",
   "execution_count": 514,
   "id": "523c9ead",
   "metadata": {},
   "outputs": [],
   "source": [
    "# FUNCTIONS\n",
    "def MC_k_new(network, k = 1, node_list=[], transient = 100):\n",
    "#     node_list=n_outs#len(node_list)\n",
    "    signal = network.stimulus[0].signal[transient:]\n",
    "    wire_voltage = network.wireVoltage[transient:]\n",
    "    T, N = wire_voltage.shape\n",
    "#     node_list = np.random.choice(range(0, N), n_outs, replace = False)\n",
    "    lhs = wire_voltage[k:,node_list]\n",
    "    rhs = signal[:-k]\n",
    "    try:\n",
    "        weight = np.linalg.lstsq(lhs, rhs, rcond = None)[0]\n",
    "        result = np.matmul(lhs, weight)\n",
    "        mc = (np.cov(rhs, result)[0,1])**2/(np.var(signal[k:])*np.var(result))\n",
    "        return mc\n",
    "    except:\n",
    "        return 0\n",
    "    \n",
    "def get_MC_Voltsweep(Graph,signal,amp = 2, dt = 0.01, dur = 1, n_outs = 100, init_state = None, return_sim = False,seed=42):\n",
    "    ampName=str(amp).replace('.','p')\n",
    "#     np.random.seed(seed)\n",
    "    stimulus=[]\n",
    "    stimulus.append(stimulus__(biasType='Custom',T=10,dt=dt,customSignal=signal))#signal_expand(np.random.random(1000)*2*amp-amp, dur)))\n",
    "    stimulus.append(stimulus__(biasType='Drain',T=10,dt=dt)) #we don't want this drain to be active during training\n",
    "    simRAND = runSim(connectivity__(graph=Graph), T = 10, dt = dt,\n",
    "                stimulus=stimulus,\n",
    "#                 biasType = 'Custom', customSignal = signal#signal_expand(np.random.random(1000)*2*amp-amp, dur), \n",
    "                junctionMode = 'tunneling', \n",
    "#                 electrodes=elecs[-2:],\n",
    "                contactMode = 'farthest',\n",
    "                findFirst=False, disable_tqdm=True)    \n",
    "    nodesList=[]\n",
    "    for i in range(len(Graph.nodes)):\n",
    "        nodesList.append(i)\n",
    "#     nodesList = np.array([i for i in Graph.nodes]) #if we want to measure from all nodes\n",
    "    \n",
    "#     results={'JunctionConductance':simRAND.junctionConductance[-1],'JunctionVoltage':simRAND.junctionVoltage[-1],'Switch':simRAND.junctionSwitch[-1],'Source':simRAND.sources[0:2],'Drain':simRAND.drains[0:2],'Signal':simRAND.stimulus,'conductance':simRAND.conductance}\n",
    "#     compressed_pickle(results,dataLoc+'_MC_Simulation_'+'_2modules_Rewired_Network_'+str(j+1)+'_'+str(k+1)+'_'+ampName+'v.pkl')\n",
    "\n",
    "    mcRAND = [MC_k_new(simRAND, m, node_list=nodesList) for m in range(dur, len(nodesList)*dur, dur)]\n",
    "    \n",
    "    if return_sim:\n",
    "        return np.sum(mcRAND), simRAND, Graph, nodesList\n",
    "    else:\n",
    "        return np.sum(mcRAND)\n",
    "    \n",
    "\n",
    "def get_MC_Voltsweep_deep(Graph,amp = 2, voltageInputs=[],elecs=[], dt = 0.01, dur = 1, n_outs = 100, init_state = None, return_sim = False,seed=42):\n",
    "    ampName=str(amp).replace('.','p')\n",
    "    np.random.seed(seed)\n",
    "    stimulus=[]\n",
    "    if elecs:\n",
    "        electrodes=elecs\n",
    "        contactMode='preSet'\n",
    "        for volt in voltageInputs:\n",
    "            stimulus.append(stimulus__(biasType='Custom',T=10,dt=dt,customSignal=volt))#signal_expand(np.random.random(1000)*2*volt-volt, dur)))\n",
    "        stimulus.append(stimulus__(biasType='Drain',T=10,dt=dt)) #we don't want this drain to be active during training\n",
    "    else:\n",
    "        electrodes=None\n",
    "        contactMode='farthest'\n",
    "        stimulus.append(stimulus__(biasType='Custom',T=10,dt=dt,customSignal=signal_expand((np.random.random(1000)*2*amp-amp), dur)))\n",
    "        stimulus.append(stimulus__(biasType='Drain',T=10,dt=dt)) #we don't want this drain to be active during training\n",
    "    \n",
    "    simRAND = runSim(connectivity__(graph=Graph), T = 10, dt = dt,\n",
    "                stimulus=stimulus,\n",
    "#                 biasType = 'Custom', customSignal = signal_expand(np.random.random(1000)*2*amp-amp, dur), \n",
    "                junctionMode = 'tunneling', \n",
    "                electrodes=electrodes,\n",
    "                contactMode = contactMode,\n",
    "                findFirst=False, disable_tqdm=True)    \n",
    "    nodesList=[]\n",
    "    for i in range(len(Graph.nodes)):\n",
    "        nodesList.append(i)\n",
    "#     nodesList = np.array([i for i in Graph.nodes]) #if we want to measure from all nodes\n",
    "    \n",
    "#     results={'JunctionConductance':simRAND.junctionConductance[-1],'JunctionVoltage':simRAND.junctionVoltage[-1],'Switch':simRAND.junctionSwitch[-1],'Source':simRAND.sources[0:2],'Drain':simRAND.drains[0:2],'Signal':simRAND.stimulus,'conductance':simRAND.conductance}\n",
    "#     compressed_pickle(results,dataLoc+'_MC_Simulation_'+'_2modules_Rewired_Network_'+str(j+1)+'_'+str(k+1)+'_'+ampName+'v.pkl')\n",
    "\n",
    "    mcRAND = [MC_k_new(simRAND, m, node_list=nodesList) for m in range(dur, len(nodesList)*dur, dur)]\n",
    "    \n",
    "    if return_sim:\n",
    "        return np.sum(mcRAND), simRAND, Graph, nodesList\n",
    "    else:\n",
    "        return np.sum(mcRAND)"
   ]
  },
  {
   "cell_type": "code",
   "execution_count": 515,
   "id": "14a87e30",
   "metadata": {},
   "outputs": [
    {
     "data": {
      "application/vnd.jupyter.widget-view+json": {
       "model_id": "25f2e2360a1f4210a8e6db4f46883c55",
       "version_major": 2,
       "version_minor": 0
      },
      "text/plain": [
       "HBox(children=(FloatProgress(value=0.0), HTML(value='')))"
      ]
     },
     "metadata": {},
     "output_type": "display_data"
    },
    {
     "name": "stdout",
     "output_type": "stream",
     "text": [
      "\n"
     ]
    }
   ],
   "source": [
    "#SINGLE NETWORK:\n",
    "\n",
    "numRep=100#number of repeats\n",
    "seeds=np.random.randint(1000,size=numRep) #random seeds\n",
    "MC_single=np.zeros(numRep)\n",
    "for i in tqdm(range(numRep)):\n",
    "    MC_single[i],sim_single,G,node_list=get_MC_Voltsweep_deep(b,amp=2,return_sim=True,seed=seeds[i])"
   ]
  },
  {
   "cell_type": "code",
   "execution_count": 516,
   "id": "fcbeb90d",
   "metadata": {},
   "outputs": [
    {
     "name": "stdout",
     "output_type": "stream",
     "text": [
      "5.7441631795683\n"
     ]
    },
    {
     "data": {
      "text/plain": [
       "120.62528431167357"
      ]
     },
     "execution_count": 516,
     "metadata": {},
     "output_type": "execute_result"
    }
   ],
   "source": [
    "print(np.std(MC_single))\n",
    "np.mean(MC_single)"
   ]
  },
  {
   "cell_type": "code",
   "execution_count": 517,
   "id": "8b3ca846",
   "metadata": {
    "scrolled": true
   },
   "outputs": [
    {
     "data": {
      "application/vnd.jupyter.widget-view+json": {
       "model_id": "487e0161b9a04c5594cc263170e49fe1",
       "version_major": 2,
       "version_minor": 0
      },
      "text/plain": [
       "HBox(children=(FloatProgress(value=0.0), HTML(value='')))"
      ]
     },
     "metadata": {},
     "output_type": "display_data"
    },
    {
     "name": "stdout",
     "output_type": "stream",
     "text": [
      "34.67958747582213\n",
      "32.751378441115804\n",
      "32.562330586631674\n",
      "33.06440973243195\n",
      "32.156723815493464\n",
      "34.40499776037311\n",
      "34.768409995599136\n",
      "34.47344214860337\n",
      "33.73272745398156\n",
      "34.04378220430837\n",
      "35.74374392862197\n",
      "31.785239082779334\n",
      "33.86209328133505\n",
      "33.85623624008463\n",
      "31.72216292784318\n",
      "34.48876566965497\n",
      "33.10926011137069\n",
      "35.833894987655384\n",
      "34.97038090490568\n",
      "31.211691227690814\n",
      "30.85881483315766\n",
      "31.559358051476906\n",
      "32.2648723249122\n",
      "31.229759864429596\n",
      "33.4533136050268\n",
      "33.71694518835616\n",
      "33.97966193274047\n",
      "33.996418683715206\n",
      "33.10105448301412\n",
      "33.79651699684764\n",
      "35.32019229278582\n",
      "34.45637170095029\n",
      "31.6450768466512\n",
      "33.6918666951336\n",
      "33.76846678098816\n",
      "33.76743575867771\n",
      "33.77866042352298\n",
      "34.73012841830626\n",
      "33.76182811951551\n",
      "34.209812785495714\n",
      "32.460032262170444\n",
      "30.99341853614481\n",
      "34.04562659458725\n",
      "31.062632378065928\n",
      "34.631938180185884\n",
      "34.05042935222743\n",
      "33.73183831379953\n",
      "33.33437918598352\n",
      "32.423714070178036\n",
      "33.93145382322102\n",
      "33.76743575492514\n",
      "32.65775519277253\n",
      "33.76182811951551\n",
      "33.19893154035429\n",
      "33.91938027097167\n",
      "33.14530965915633\n",
      "34.85923557106\n",
      "33.85177383134376\n",
      "35.628044377159625\n",
      "33.9744953040924\n",
      "32.925446340031435\n",
      "31.37312220807091\n",
      "33.85177383134384\n",
      "32.61695753146844\n",
      "32.76041140227453\n",
      "31.42722404038863\n",
      "34.04562659458725\n",
      "34.67078845562223\n",
      "34.33115719095925\n",
      "33.0644097324319\n",
      "34.39808321889032\n",
      "32.73281199012829\n",
      "35.326781458087176\n",
      "34.85531054004335\n",
      "34.26208478446666\n",
      "33.15385636153257\n",
      "34.97038090490568\n",
      "34.755553051576655\n",
      "32.35730420231398\n",
      "33.78255282757425\n",
      "34.165848422557225\n",
      "34.159401881658454\n",
      "32.03651209620732\n",
      "33.35056158635044\n",
      "34.15036019334825\n",
      "34.20849257447057\n",
      "34.22924742272268\n",
      "24.379308238080412\n",
      "35.03852963702269\n",
      "32.67664579308363\n",
      "34.38468230759493\n",
      "32.39094164709706\n",
      "33.10105448301412\n",
      "32.860039768747235\n",
      "34.63091273148484\n",
      "35.320192292783716\n",
      "34.015936610151\n",
      "31.60660125771272\n",
      "34.71012054047799\n",
      "34.750348561141145\n",
      "\n"
     ]
    }
   ],
   "source": [
    "# WIDE NETWORKS:\n",
    "sim_wide=[None]*3\n",
    "MC_wide=[None]*3\n",
    "MC_final_wide=[]\n",
    "amp=2\n",
    "for i in tqdm(range(numRep)):\n",
    "    #generate signals:\n",
    "    np.random.seed(seeds[i])\n",
    "    signal=signal_expand(np.random.random(1000)*2*amp-amp, dur)\n",
    "    MC_wide[0],sim_wide[0],G,node_list=get_MC_Voltsweep(a,signal,amp=amp,return_sim=True)\n",
    "    MC_wide[1],sim_wide[1],G,node_list=get_MC_Voltsweep(a,signal,amp=amp,return_sim=True)\n",
    "    MC_wide[2],sim_wide[2],G,node_list=get_MC_Voltsweep(a,signal,amp=amp,return_sim=True)\n",
    "    dur = 1\n",
    "    mc=[]\n",
    "    node_list=node_list*3\n",
    "    for k in (range(dur, len(node_list)*dur, dur)):\n",
    "        transient = 100\n",
    "        signal = np.hstack((sim_wide[0].stimulus[0].signal[transient:],sim_wide[1].stimulus[0].signal[transient:],sim_wide[2].stimulus[0].signal[transient:]))\n",
    "        wire_voltage = np.vstack((sim_wide[0].wireVoltage[transient:],sim_wide[1].wireVoltage[transient:],sim_wide[2].wireVoltage[transient:]))\n",
    "        T, N = wire_voltage.shape\n",
    "        #     node_list = np.random.choice(range(0, N), n_outs, replace = False)\n",
    "        lhs = wire_voltage[k:,node_list]\n",
    "        rhs = signal[:-k]\n",
    "\n",
    "        weight = np.linalg.lstsq(lhs, rhs, rcond = None)[0] #output weights (voltage) and input (voltage) using least squares regression\n",
    "        result = np.matmul(lhs, weight)\n",
    "        mc.append((np.cov(rhs, result)[0,1])**2/(np.var(signal[k:])*np.var(result)))\n",
    "    print(np.sum(mc))\n",
    "    MC_final_wide.append(np.sum(mc))"
   ]
  },
  {
   "cell_type": "code",
   "execution_count": 518,
   "id": "3fa2db5e",
   "metadata": {},
   "outputs": [
    {
     "name": "stdout",
     "output_type": "stream",
     "text": [
      "1.4730019121960287\n"
     ]
    },
    {
     "data": {
      "text/plain": [
       "33.47564840792325"
      ]
     },
     "execution_count": 518,
     "metadata": {},
     "output_type": "execute_result"
    }
   ],
   "source": [
    "print(np.std(MC_final_wide))\n",
    "np.mean(MC_final_wide)"
   ]
  },
  {
   "cell_type": "code",
   "execution_count": null,
   "id": "b5102f63",
   "metadata": {
    "scrolled": true
   },
   "outputs": [
    {
     "data": {
      "application/vnd.jupyter.widget-view+json": {
       "model_id": "df997997e7eb45878c76dfe2cafd2721",
       "version_major": 2,
       "version_minor": 0
      },
      "text/plain": [
       "HBox(children=(FloatProgress(value=0.0), HTML(value='')))"
      ]
     },
     "metadata": {},
     "output_type": "display_data"
    },
    {
     "name": "stdout",
     "output_type": "stream",
     "text": [
      "11.869053244929898\n",
      "11.546827266518832\n",
      "12.00924013987727\n",
      "12.395757385653155\n",
      "12.066478262507232\n",
      "12.265579722631902\n",
      "11.472153400192632\n",
      "11.90595848922132\n",
      "12.032847763501078\n",
      "11.96143168760167\n",
      "11.90502556769029\n",
      "11.834937756266644\n",
      "11.918718510988054\n",
      "11.944321515203958\n",
      "12.077891249456307\n",
      "12.288917046809326\n",
      "12.24252619526186\n",
      "12.260808400983935\n",
      "12.22177301305635\n",
      "12.050530273782268\n",
      "12.114498177056031\n",
      "11.724127701484402\n",
      "11.876103516051275\n",
      "11.97382382618728\n",
      "11.37028283084215\n",
      "12.353703014603408\n",
      "12.011706585688447\n",
      "12.098978236993442\n",
      "11.896558549100043\n",
      "11.958106778589377\n",
      "11.650392009991538\n",
      "12.05899989991631\n",
      "11.835404471408937\n",
      "12.190805807450717\n",
      "12.306143515216398\n",
      "11.907675850908138\n",
      "11.982863868540027\n",
      "11.82167516458843\n",
      "11.926008789404479\n",
      "11.872669899062481\n",
      "11.856418025171276\n",
      "11.830615420108355\n",
      "11.887369424938374\n",
      "11.928360094068001\n",
      "11.934541649186864\n",
      "12.184878237306464\n",
      "11.973169393586351\n",
      "12.068754541617967\n",
      "12.053688492296805\n",
      "11.899157579824145\n",
      "11.907675850908138\n",
      "11.804816219984371\n",
      "11.926008789404479\n",
      "12.08266901206633\n",
      "11.806523455750048\n",
      "11.474407080961278\n",
      "12.107789745737005\n",
      "11.976298248852647\n",
      "12.002362930721482\n",
      "11.951291975990337\n"
     ]
    }
   ],
   "source": [
    "#DEEP NETWORKS:\n",
    "\n",
    "sim_deep=[None]*3\n",
    "MC_deep=[None]*3\n",
    "MC_final_deep=[]\n",
    "numInputs=10 \n",
    "\n",
    "#3 sub reservoirs with 10 INPUTS\n",
    "for i in tqdm(range(numRep)):\n",
    "    \n",
    "    MC_deep[0],sim_deep[0],G,node_list=get_MC_Voltsweep_deep(a,amp=2,return_sim=True,seed=seeds[i])\n",
    "    \n",
    "    #list of all wires\n",
    "    temp=list(range(len(sim_deep[0].wireVoltage.T)))\n",
    "    #remove wires that are sources or drains:\n",
    "    for j in range(len(sim_deep[0].sources)):\n",
    "        temp.remove(sim_deep[0].sources[j])\n",
    "    temp.remove(sim_deep[0].drains[0])\n",
    "    sampleIdx=np.random.choice(temp,10,replace=False)\n",
    "\n",
    "    wireVoltages=[]\n",
    "    for idx in sampleIdx:\n",
    "        wireVoltages.append(sim_deep[0].wireVoltage.T[idx])\n",
    "    drains=sim_deep[0].drains[0]\n",
    "    electrodes=list(np.hstack((sampleIdx,drains)))\n",
    "\n",
    "    MC_deep[1],sim_deep[1],G,node_list=get_MC_Voltsweep_deep(a,amp=2,voltageInputs=wireVoltages,elecs=electrodes,return_sim=True,seed=seeds[i])\n",
    "    \n",
    "    #list of all wires\n",
    "    temp=list(range(len(sim_deep[1].wireVoltage.T)))\n",
    "    #remove wires that are sources or drains:\n",
    "    for j in range(len(sim_deep[1].sources)):\n",
    "        temp.remove(sim_deep[1].sources[j])\n",
    "    temp.remove(sim_deep[1].drains[0])\n",
    "    sampleIdx=np.random.choice(temp,10,replace=False)\n",
    "    \n",
    "    wireVoltages=[]\n",
    "    for idx in sampleIdx:\n",
    "        wireVoltages.append(sim_deep[1].wireVoltage.T[idx])\n",
    "    drains=sim_deep[1].drains[0]\n",
    "    electrodes=list(np.hstack((sampleIdx,drains)))\n",
    "    \n",
    "    MC_deep[2],sim_deep[2],G,node_list=get_MC_Voltsweep_deep(a,amp=2,voltageInputs=wireVoltages,elecs=electrodes,return_sim=True,seed=seeds[i])\n",
    "    \n",
    "    node_list=node_list*3\n",
    "    \n",
    "    dur = 1\n",
    "    mc=[]\n",
    "    for k in (range(dur, len(node_list)*dur, dur)):\n",
    "\n",
    "        signal = np.hstack((sim_deep[0].stimulus[0].signal[transient:],sim_deep[0].stimulus[0].signal[transient:],sim_deep[0].stimulus[0].signal[transient:])) #reconstruct only the ORIGINAL signal\n",
    "        wire_voltage = np.vstack((sim_deep[0].wireVoltage[transient:],sim_deep[1].wireVoltage[transient:],sim_deep[2].wireVoltage[transient:]))\n",
    "        T, N = wire_voltage.shape\n",
    "        #     node_list = np.random.choice(range(0, N), n_outs, replace = False)\n",
    "        lhs = wire_voltage[k:,node_list]\n",
    "        rhs = signal[:-k]\n",
    "\n",
    "        weight = np.linalg.lstsq(lhs, rhs, rcond = None)[0] #output weights (voltage) and input (voltage) using least squares regression\n",
    "        result = np.matmul(lhs, weight)\n",
    "        mc.append((np.cov(rhs, result)[0,1])**2/(np.var(signal[k:])*np.var(result)))\n",
    "    print(np.sum(mc))\n",
    "    MC_final_deep.append(np.sum(mc))"
   ]
  },
  {
   "cell_type": "code",
   "execution_count": null,
   "id": "26912858",
   "metadata": {},
   "outputs": [],
   "source": [
    "print(np.std(MC_final_deep))\n",
    "np.mean(MC_final_deep)"
   ]
  },
  {
   "cell_type": "code",
   "execution_count": null,
   "id": "d50f3662",
   "metadata": {
    "scrolled": true
   },
   "outputs": [],
   "source": [
    "#DEEP NETWORKS: 50 wires\n",
    "\n",
    "sim_deep_50=[None]*3\n",
    "MC_deep_50=[None]*3\n",
    "MC_final_deep_50=[]\n",
    "numInputs=50\n",
    "\n",
    "#3 sub reservoirs with 50 INPUTS\n",
    "for i in tqdm(range(numRep)):\n",
    "    \n",
    "    MC_deep_50[0],sim_deep_50[0],G,node_list=get_MC_Voltsweep_deep(a,amp=2,return_sim=True,seed=seeds[i])\n",
    "    \n",
    "    #list of all wires\n",
    "    temp=list(range(len(sim_deep_50[0].wireVoltage.T)))\n",
    "    #remove wires that are sources or drains:\n",
    "    for j in range(len(sim_deep_50[0].sources)):\n",
    "        temp.remove(sim_deep_50[0].sources[j])\n",
    "    temp.remove(sim_deep_50[0].drains[0])\n",
    "    sampleIdx=np.random.choice(temp,numInputs,replace=False)\n",
    "\n",
    "    wireVoltages=[]\n",
    "    for idx in sampleIdx:\n",
    "        wireVoltages.append(sim_deep_50[0].wireVoltage.T[idx])\n",
    "    drains=sim_deep_50[0].drains[0]\n",
    "    electrodes=list(np.hstack((sampleIdx,drains)))\n",
    "\n",
    "    MC_deep_50[1],sim_deep_50[1],G,node_list=get_MC_Voltsweep_deep(a,amp=2,voltageInputs=wireVoltages,elecs=electrodes,return_sim=True,seed=seeds[i])\n",
    "    \n",
    "    #list of all wires\n",
    "    temp=list(range(len(sim_deep_50[1].wireVoltage.T)))\n",
    "    #remove wires that are sources or drains:\n",
    "#     for j in range(len(sim_deep_50[1].sources)):\n",
    "#         temp.remove(sim_deep_50[1].sources[j])\n",
    "    temp.remove(sim_deep_50[1].drains[0])\n",
    "    sampleIdx=np.random.choice(temp,numInputs,replace=False)\n",
    "    \n",
    "    wireVoltages=[]\n",
    "    for idx in sampleIdx:\n",
    "        wireVoltages.append(sim_deep_50[1].wireVoltage.T[idx])\n",
    "    drains=sim_deep_50[1].drains[0]\n",
    "    electrodes=list(np.hstack((sampleIdx,drains)))\n",
    "    \n",
    "    MC_deep_50[2],sim_deep_50[2],G,node_list=get_MC_Voltsweep_deep(a,amp=2,voltageInputs=wireVoltages,elecs=electrodes,return_sim=True,seed=seeds[i])\n",
    "    \n",
    "    node_list=node_list*3\n",
    "    \n",
    "    dur = 1\n",
    "    mc=[]\n",
    "    for k in (range(dur, len(node_list)*dur, dur)):\n",
    "\n",
    "        signal = np.hstack((sim_deep_50[0].stimulus[0].signal[transient:],sim_deep_50[0].stimulus[0].signal[transient:],sim_deep_50[0].stimulus[0].signal[transient:])) #reconstruct only the ORIGINAL signal\n",
    "        wire_voltage = np.vstack((sim_deep_50[0].wireVoltage[transient:],sim_deep_50[1].wireVoltage[transient:],sim_deep_50[2].wireVoltage[transient:]))\n",
    "        T, N = wire_voltage.shape\n",
    "        #     node_list = np.random.choice(range(0, N), n_outs, replace = False)\n",
    "        lhs = wire_voltage[k:,node_list]\n",
    "        rhs = signal[:-k]\n",
    "\n",
    "        weight = np.linalg.lstsq(lhs, rhs, rcond = None)[0] #output weights (voltage) and input (voltage) using least squares regression\n",
    "        result = np.matmul(lhs, weight)\n",
    "        mc.append((np.cov(rhs, result)[0,1])**2/(np.var(signal[k:])*np.var(result)))\n",
    "    print(np.sum(mc))\n",
    "    MC_final_deep_50.append(np.sum(mc))"
   ]
  },
  {
   "cell_type": "code",
   "execution_count": null,
   "id": "ca909ae3",
   "metadata": {},
   "outputs": [],
   "source": [
    "print(np.std(MC_final_deep_50))\n",
    "np.mean(MC_final_deep_50)"
   ]
  },
  {
   "cell_type": "code",
   "execution_count": null,
   "id": "f5d7e502",
   "metadata": {
    "scrolled": true
   },
   "outputs": [],
   "source": [
    "#DEEP NETWORKS: 100 wires\n",
    "\n",
    "sim_deep_100=[None]*3\n",
    "MC_deep_100=[None]*3\n",
    "MC_final_deep_100=[]\n",
    "numInputs=98\n",
    "\n",
    "#3 sub reservoirs with 50 INPUTS\n",
    "for i in tqdm(range(numRep)):\n",
    "    \n",
    "    MC_deep_100[0],sim_deep_100[0],G,node_list=get_MC_Voltsweep_deep(a,amp=2,return_sim=True,seed=seeds[i])\n",
    "    \n",
    "    #list of all wires\n",
    "    temp=list(range(len(sim_deep_100[0].wireVoltage.T)))\n",
    "    #remove wires that are sources or drains:\n",
    "    for j in range(len(sim_deep_100[0].sources)):\n",
    "        temp.remove(sim_deep_100[0].sources[j])\n",
    "    temp.remove(sim_deep_100[0].drains[0])\n",
    "    sampleIdx=np.random.choice(temp,numInputs,replace=False)\n",
    "\n",
    "    wireVoltages=[]\n",
    "    for idx in sampleIdx:\n",
    "        wireVoltages.append(sim_deep_100[0].wireVoltage.T[idx])\n",
    "    drains=sim_deep_100[0].drains[0]\n",
    "    electrodes=list(np.hstack((sampleIdx,drains)))\n",
    "\n",
    "    sim_deep_100[1],sim_deep_100[1],G,node_list=get_MC_Voltsweep_deep(a,amp=2,voltageInputs=wireVoltages,elecs=electrodes,return_sim=True,seed=seeds[i])\n",
    "    \n",
    "    #list of all wires\n",
    "    temp=list(range(len(sim_deep_100[1].wireVoltage.T)))\n",
    "    #remove wires that are sources or drains:\n",
    "#     for j in range(len(sim_deep_50[1].sources)):\n",
    "#         temp.remove(sim_deep_50[1].sources[j])\n",
    "    temp.remove(sim_deep_50[1].drains[0])\n",
    "    sampleIdx=np.random.choice(temp,numInputs,replace=False)\n",
    "    \n",
    "    wireVoltages=[]\n",
    "    for idx in sampleIdx:\n",
    "        wireVoltages.append(sim_deep_100[1].wireVoltage.T[idx])\n",
    "    drains=sim_deep_100[1].drains[0]\n",
    "    electrodes=list(np.hstack((sampleIdx,drains)))\n",
    "    \n",
    "    sim_deep_100[2],sim_deep_100[2],G,node_list=get_MC_Voltsweep_deep(a,amp=2,voltageInputs=wireVoltages,elecs=electrodes,return_sim=True,seed=seeds[i])\n",
    "    \n",
    "    node_list=node_list*3\n",
    "    \n",
    "    dur = 1\n",
    "    mc=[]\n",
    "    for k in (range(dur, len(node_list)*dur, dur)):\n",
    "\n",
    "        signal = np.hstack((sim_deep_100[0].stimulus[0].signal[transient:],sim_deep_100[0].stimulus[0].signal[transient:],sim_deep_100[0].stimulus[0].signal[transient:])) #reconstruct only the ORIGINAL signal\n",
    "        wire_voltage = np.vstack((sim_deep_100[0].wireVoltage[transient:],sim_deep_100[1].wireVoltage[transient:],sim_deep_100[2].wireVoltage[transient:]))\n",
    "        T, N = wire_voltage.shape\n",
    "        #     node_list = np.random.choice(range(0, N), n_outs, replace = False)\n",
    "        lhs = wire_voltage[k:,node_list]\n",
    "        rhs = signal[:-k]\n",
    "\n",
    "        weight = np.linalg.lstsq(lhs, rhs, rcond = None)[0] #output weights (voltage) and input (voltage) using least squares regression\n",
    "        result = np.matmul(lhs, weight)\n",
    "        mc.append((np.cov(rhs, result)[0,1])**2/(np.var(signal[k:])*np.var(result)))\n",
    "    print(np.sum(mc))\n",
    "    MC_final_deep_100.append(np.sum(mc))"
   ]
  },
  {
   "cell_type": "code",
   "execution_count": null,
   "id": "83720f1c",
   "metadata": {},
   "outputs": [],
   "source": [
    "print(np.std(MC_final_deep_100))\n",
    "np.mean(MC_final_deep_100)"
   ]
  },
  {
   "cell_type": "code",
   "execution_count": null,
   "id": "a898823a",
   "metadata": {},
   "outputs": [],
   "source": [
    "stds=np.hstack((np.std(MC_single),np.std(MC_final_wide),np.std(MC_final_deep),np.std(MC_final_deep_50),np.std(MC_final_deep_100)))"
   ]
  },
  {
   "cell_type": "code",
   "execution_count": null,
   "id": "c8e6c790",
   "metadata": {},
   "outputs": [],
   "source": [
    "import pandas as pd\n",
    "df=pd.DataFrame({'Single':{'Mean':np.mean(MC_single)},'Wide':{'Mean':np.mean(MC_final_wide)},'Deep 10':{'Mean':np.mean(MC_final_deep)},'Deep 50':{'Mean':np.mean(MC_final_deep_50)},'Deep 100':{'Mean':np.mean(MC_final_deep_100)}})"
   ]
  },
  {
   "cell_type": "code",
   "execution_count": null,
   "id": "d0a52c8d",
   "metadata": {},
   "outputs": [],
   "source": [
    "fig,ax=plt.subplots(1,figsize=(10,8))\n",
    "plt.bar(np.arange(df.shape[1]), df.mean(), yerr=stds, capsize=6)\n",
    "ax.set_xticks(np.arange(df.shape[1]))\n",
    "ax.set_title('MC Task')\n",
    "ax.set_xticklabels(['Shallow','Wide','Deep 10','Deep 50','Deep 100'])\n",
    "ax.set_ylabel('MC')\n",
    "saveFig='/import/silo2/aloe8475/Documents/Data/Figures/Functional Connectivity/'\n",
    "plt.savefig(saveFig+\"MC_10s_2V - 300nodes_8000edges_shallow vs 100nodes_1600_edges_wide_deep.png\")\n"
   ]
  },
  {
   "cell_type": "markdown",
   "id": "acbf201c",
   "metadata": {},
   "source": [
    "### NARMA TASK"
   ]
  },
  {
   "cell_type": "code",
   "execution_count": 362,
   "id": "840c77e3",
   "metadata": {},
   "outputs": [],
   "source": [
    "def get_NARMA_deep(Graph,amp = 2, u=[], voltageInputs=[],elecs=[], dt = 0.01, dur = 1, hist = 9, shift = 2,n_outs = 100, init_state = None, return_sim = False,seed=42):\n",
    "    ampName=str(amp).replace('.','p')\n",
    "    np.random.seed(seed)\n",
    "    stimulus=[]\n",
    "    y = np.zeros(len(u))\n",
    "    N = Graph.number_of_nodes#Connectivity.number_of_wires\n",
    "\n",
    "    if elecs:\n",
    "        electrodes=elecs\n",
    "        contactMode='preSet'\n",
    "        for volt in voltageInputs:\n",
    "            stimulus.append(stimulus__(biasType='Custom',T=10,dt=dt,customSignal=volt))#signal_expand(np.random.random(1000)*2*volt-volt, dur)))\n",
    "        stimulus.append(stimulus__(biasType='Drain',T=10,dt=dt)) #we don't want this drain to be active during training\n",
    "    else:\n",
    "        electrodes=None\n",
    "        contactMode='farthest'\n",
    "        stimulus.append(stimulus__(biasType='Custom',T=10,dt=dt,customSignal=u))#signal_expand((np.random.random(1000)*2*amp-amp), dur)))\n",
    "        stimulus.append(stimulus__(biasType='Drain',T=10,dt=dt)) #we don't want this drain to be active during training\n",
    "    \n",
    "    for i in range(hist, len(u)):\n",
    "        y[i] = 0.3*y[i-1] + 0.05*y[i-1]*np.sum(y[i-hist:i]) + 1.5*u[i-hist]*u[i-1] + 0.1\n",
    "#         y[i] = 0.1*y[i-1] + 0.004*y[i-1]*np.sum(y[i-hist:i]) + 2*u[i-hist]*u[i-1] + 0.1\n",
    "#         y[i] = 0.01*y[i-1] + 0.0004*y[i-1]*np.sum(y[i-hist:i]) + 1.5*u[i-hist]*u[i-1] + shift    \n",
    "    \n",
    "    simRAND = runSim(connectivity__(graph=Graph), T = 10, dt = dt,\n",
    "#                 start_state =  init_state,\n",
    "                stimulus=stimulus,\n",
    "#                 biasType = 'Custom', customSignal = u, \n",
    "                junctionMode = 'tunneling', \n",
    "                contactMode = contactMode,\n",
    "                electrodes=electrodes,\n",
    "                findFirst=False, disable_tqdm=True)\n",
    "    \n",
    "    \n",
    "    wire_voltage = simRAND.wireVoltage\n",
    "#     node_list = np.random.choice(range(0, N), n_outs, replace = False)\n",
    "    node_list=[]\n",
    "    for i in range(len(Graph.nodes)):\n",
    "        node_list.append(i)\n",
    "\n",
    "    k = 200\n",
    "    lhs = wire_voltage[k:,node_list]\n",
    "    rhs = y[k:]\n",
    "    weight = np.linalg.lstsq(lhs, rhs, rcond = None)[0]\n",
    "    result = np.matmul(lhs, weight)\n",
    "    acc = 1-getRNMSE(result, rhs)\n",
    "    \n",
    "    if return_sim:\n",
    "        return acc, simRAND, u, node_list\n",
    "    else:\n",
    "        return acc, u, node_list"
   ]
  },
  {
   "cell_type": "code",
   "execution_count": 363,
   "id": "61069030",
   "metadata": {},
   "outputs": [
    {
     "data": {
      "application/vnd.jupyter.widget-view+json": {
       "model_id": "fa8c4367803f4b758f23cca320ad3868",
       "version_major": 2,
       "version_minor": 0
      },
      "text/plain": [
       "HBox(children=(FloatProgress(value=0.0), HTML(value='')))"
      ]
     },
     "metadata": {},
     "output_type": "display_data"
    },
    {
     "name": "stdout",
     "output_type": "stream",
     "text": [
      "\n"
     ]
    }
   ],
   "source": [
    "#SINGLE NETWORK:\n",
    "amp=2;dur=1;histv=30;shift=2;\n",
    "numRep=100#number of repeats\n",
    "NARMA_single=np.zeros(numRep)\n",
    "for i in tqdm(range(numRep)):\n",
    "    np.random.seed(seeds[i])\n",
    "    u = signal_expand(np.random.random(1000)*amp, dur)\n",
    "    NARMA_single[i],simNARMA_single,G,node_list=get_NARMA_deep(a,u=u,amp=amp,return_sim=True,seed=seeds[i])"
   ]
  },
  {
   "cell_type": "code",
   "execution_count": 364,
   "id": "4ae8c210",
   "metadata": {},
   "outputs": [
    {
     "name": "stdout",
     "output_type": "stream",
     "text": [
      "0.012004678619578012\n"
     ]
    },
    {
     "data": {
      "text/plain": [
       "0.4748472513692101"
      ]
     },
     "execution_count": 364,
     "metadata": {},
     "output_type": "execute_result"
    }
   ],
   "source": [
    "print(np.std(NARMA_single))\n",
    "np.mean(NARMA_single)"
   ]
  },
  {
   "cell_type": "code",
   "execution_count": 366,
   "id": "944427f5",
   "metadata": {
    "scrolled": true
   },
   "outputs": [
    {
     "data": {
      "application/vnd.jupyter.widget-view+json": {
       "model_id": "e48a6ebe647d465998e18b574cb0668f",
       "version_major": 2,
       "version_minor": 0
      },
      "text/plain": [
       "HBox(children=(FloatProgress(value=0.0), HTML(value='')))"
      ]
     },
     "metadata": {},
     "output_type": "display_data"
    },
    {
     "name": "stdout",
     "output_type": "stream",
     "text": [
      "0.4304335313397222\n",
      "0.4205899323062361\n",
      "0.4103238516852018\n",
      "0.4300547744672958\n",
      "0.41828100964767223\n",
      "0.435501520291241\n",
      "0.4386349307406687\n",
      "0.41324460428321597\n",
      "0.413436818785634\n",
      "0.4209377938220997\n",
      "0.4220812480558638\n",
      "0.4337618840455627\n",
      "0.42957191510466386\n",
      "0.433667258714862\n",
      "0.4210232306618992\n",
      "0.43799477182679614\n",
      "0.43505931738659054\n",
      "0.43415462133274596\n",
      "0.426430563704542\n",
      "0.4085981081182496\n",
      "0.41622324301096103\n",
      "0.4269570088695709\n",
      "0.4143608968661595\n",
      "0.4240037048407589\n",
      "0.4161430783966682\n",
      "0.428460810858022\n",
      "0.42884538883623136\n",
      "0.4246085398167997\n",
      "0.41682909261878553\n",
      "0.4182464781200046\n",
      "0.4156661665062892\n",
      "0.42782902705644044\n",
      "0.4334919701502804\n",
      "0.42865438726999383\n",
      "0.4146904597680502\n",
      "0.42576288588461786\n",
      "0.43737590967597106\n",
      "0.43469522855289966\n",
      "0.42850248703447447\n",
      "0.42587477972374355\n",
      "0.40552365519740463\n",
      "0.42836423318462613\n",
      "0.42365341430542913\n",
      "0.4176607447872528\n",
      "0.4203023414190046\n",
      "0.42764924531493376\n",
      "0.43958203298681087\n",
      "0.43194950736348137\n",
      "0.42916854323009457\n",
      "0.4359093985186113\n",
      "0.40841933599532776\n",
      "0.40760012702084714\n",
      "0.42795438573108247\n",
      "0.4173932818233822\n",
      "0.41703955437217943\n",
      "0.4261378064451091\n",
      "0.4336990525685892\n",
      "0.4292335515144512\n",
      "0.4240521264209357\n",
      "0.43617161829009776\n",
      "0.43141450100384326\n",
      "0.4308034995381381\n",
      "0.41834624851094204\n",
      "0.43157265135460565\n",
      "0.42095352722306345\n",
      "0.4204541243490896\n",
      "0.4230747112338744\n",
      "0.4225344109547128\n",
      "0.43157265129154254\n",
      "0.42782902705644044\n",
      "0.42919320174448183\n",
      "0.42584869729805297\n",
      "0.431728817148225\n",
      "0.43219103027394734\n",
      "0.4244841245336446\n",
      "0.4308228690007544\n",
      "0.4254705905643148\n",
      "0.43705920378866747\n",
      "0.4191875009381968\n",
      "0.42522598779838705\n",
      "0.4235797854694975\n",
      "0.42716874250382486\n",
      "0.4242594688332836\n",
      "0.4269570088695709\n",
      "0.43017136063227457\n",
      "0.4259506326394129\n",
      "0.42919320174448183\n",
      "0.4186388626474217\n",
      "0.42571958057804693\n",
      "0.4159193434404507\n",
      "0.42273829021888154\n",
      "0.43505931743436177\n",
      "0.413576986751487\n",
      "0.424099074443382\n",
      "0.42350942197219954\n",
      "0.42296905039000543\n",
      "0.43449908401747905\n",
      "0.4256680578221318\n",
      "0.42971006582925786\n",
      "0.43345588766835863\n",
      "\n"
     ]
    }
   ],
   "source": [
    "# WIDE NETWORKS:\n",
    "amp=2;dur=1;histv=9;shift=2;\n",
    "\n",
    "simNARMA_wide=[None]*3\n",
    "NARMA_wide=[None]*3\n",
    "NARMA_final_wide=[]\n",
    "amp=2\n",
    "for i in tqdm(range(numRep)):\n",
    "    np.random.seed(seeds[i])\n",
    "    u = signal_expand(np.random.random(1000)*amp, dur)\n",
    "\n",
    "    #generate signals:\n",
    "    np.random.seed(seeds[i])\n",
    "    NARMA_wide[0],simNARMA_wide[0],G,node_list=get_NARMA_deep(a,u=u,amp=amp,return_sim=True,seed=seeds[i])\n",
    "    NARMA_wide[1],simNARMA_wide[1],G,node_list=get_NARMA_deep(a,u=u,amp=amp,return_sim=True,seed=seeds[i])\n",
    "    NARMA_wide[2],simNARMA_wide[2],G,node_list=get_NARMA_deep(a,u=u,amp=amp,return_sim=True,seed=seeds[i])\n",
    "    \n",
    "    wire_voltage = np.vstack((simNARMA_deep[0].wireVoltage,simNARMA_deep[1].wireVoltage,simNARMA_deep[2].wireVoltage))\n",
    "    node_list=node_list*3\n",
    "    \n",
    "    y = np.zeros(len(u))\n",
    "    for j in range(histv, len(u)):\n",
    "        y[i] = 0.3*y[i-1] + 0.05*y[i-1]*np.sum(y[i-hist:i]) + 1.5*u[i-hist]*u[i-1] + 0.1\n",
    "#         y[i] = 0.1*y[i-1] + 0.004*y[i-1]*np.sum(y[i-hist:i]) + 2*u[i-hist]*u[i-1] + 0.1\n",
    "#         y[j] = 0.01*y[j-1] + 0.0004*y[j-1]*np.sum(y[j-histv:j]) + 1.5*u[j-histv]*u[j-1] + shift       \n",
    "    y=np.hstack([y]*3)\n",
    "    k = 200\n",
    "    lhs = wire_voltage[k:,node_list]\n",
    "    rhs = y[k:]\n",
    "    weight = np.linalg.lstsq(lhs, rhs, rcond = None)[0]\n",
    "    result = np.matmul(lhs, weight)\n",
    "    NARMA_final_wide.append(1-getRNMSE(result, rhs))\n",
    "    print(NARMA_final_wide[i])"
   ]
  },
  {
   "cell_type": "code",
   "execution_count": 367,
   "id": "9ef5cc9c",
   "metadata": {},
   "outputs": [
    {
     "name": "stdout",
     "output_type": "stream",
     "text": [
      "0.0075389539375145635\n"
     ]
    },
    {
     "data": {
      "text/plain": [
       "0.42541077786177867"
      ]
     },
     "execution_count": 367,
     "metadata": {},
     "output_type": "execute_result"
    }
   ],
   "source": [
    "print(np.std(NARMA_final_wide))\n",
    "np.mean(NARMA_final_wide)"
   ]
  },
  {
   "cell_type": "code",
   "execution_count": 371,
   "id": "81d9589e",
   "metadata": {
    "scrolled": true
   },
   "outputs": [
    {
     "data": {
      "application/vnd.jupyter.widget-view+json": {
       "model_id": "97caa4aa22524d69b496226234e8f81c",
       "version_major": 2,
       "version_minor": 0
      },
      "text/plain": [
       "HBox(children=(FloatProgress(value=0.0), HTML(value='')))"
      ]
     },
     "metadata": {},
     "output_type": "display_data"
    },
    {
     "name": "stdout",
     "output_type": "stream",
     "text": [
      "0.4326258836837562\n",
      "0.41918557594229056\n",
      "0.4415029965187356\n",
      "0.42638270049182103\n",
      "0.43612650291604926\n",
      "0.44161373874337473\n",
      "0.43731693669374616\n",
      "0.42284190055765536\n",
      "0.42431357651098767\n",
      "0.4436177141871701\n",
      "0.43965867195379726\n",
      "0.4295953609727706\n",
      "0.4430656948168269\n",
      "0.43981378547568384\n",
      "0.4204394164799993\n",
      "0.4274139834372348\n",
      "0.4286826342377309\n",
      "0.43659130509244204\n",
      "0.4057700670682004\n",
      "0.4423737352955104\n",
      "0.42288797083366936\n",
      "0.41718754306516637\n",
      "0.41800701128421425\n",
      "0.4328608794612312\n",
      "0.4118615410266794\n",
      "0.43996781630294224\n",
      "0.4225831500639098\n",
      "0.41582082840627976\n",
      "0.4263918410127754\n",
      "0.41814317780910804\n",
      "0.43234904675901753\n",
      "0.43749168748873757\n",
      "0.4327567082110956\n",
      "0.45061924552000365\n",
      "0.4251736259431199\n",
      "0.4240229817680925\n",
      "0.42553262998904173\n",
      "0.41503293671911357\n",
      "0.4115712389081705\n",
      "0.44087927493123547\n",
      "0.4213201678077251\n",
      "0.43045204647833635\n",
      "0.4187674989377915\n",
      "0.43809419934461014\n",
      "0.46176494961030223\n",
      "0.40960683945985343\n",
      "0.4391824842698836\n",
      "0.43227022663127845\n",
      "0.425475326112403\n",
      "0.43383240322678485\n",
      "0.4205012273877955\n",
      "0.417555988936272\n",
      "0.4367534877828252\n",
      "0.42456994189872654\n",
      "0.4271029714580229\n",
      "0.42356904934233375\n",
      "0.4341883557796329\n",
      "0.43879235010079354\n",
      "0.4222425855462868\n",
      "0.43807903200122267\n",
      "0.43094510961206367\n",
      "0.4385578917552615\n",
      "0.4360660574803442\n",
      "0.41654214971317916\n",
      "0.4435607716190114\n",
      "0.4298282452913532\n",
      "0.425491901457118\n",
      "0.4242507653837978\n",
      "0.41654214971317916\n",
      "0.4374916875852657\n",
      "0.4276617180437786\n",
      "0.4441324046260192\n",
      "0.433239828725991\n",
      "0.41692389527046825\n",
      "0.433004415180128\n",
      "0.4284894183029676\n",
      "0.43158129895258557\n",
      "0.450999013970799\n",
      "0.43064982292696086\n",
      "0.4420770817927039\n",
      "0.4319011367734875\n",
      "0.4350124146151444\n",
      "0.4206760194257658\n",
      "0.41718754308642125\n",
      "0.4250239072466222\n",
      "0.43854344074558804\n",
      "0.4276617180437786\n",
      "0.4322914127806333\n",
      "0.4334300215098541\n",
      "0.43410392817200594\n",
      "0.4331364268263931\n",
      "0.42868263913833193\n",
      "0.4339940516009043\n",
      "0.4358603682915304\n",
      "0.4251739048460864\n",
      "0.42897356233881623\n",
      "0.42435384980678215\n",
      "0.42748176779087743\n",
      "0.43813440933053394\n",
      "0.43245622380884596\n",
      "\n"
     ]
    }
   ],
   "source": [
    "amp=2;dur=1;histv=9;shift=2;\n",
    "NARMA_deep=[None]*3\n",
    "simNARMA_deep=[None]*3\n",
    "NARMA_deep_final=[]\n",
    "numInputs=10\n",
    "for i in tqdm(range(numRep)):\n",
    "    np.random.seed(seeds[i])\n",
    "    u = signal_expand(np.random.random(1000)*amp, dur)\n",
    "    NARMA_deep[0],simNARMA_deep[0],u,node_list=get_NARMA_deep(a,u=u,amp=amp,return_sim=True,seed=seeds[i])\n",
    "\n",
    "    #list of all wires\n",
    "    temp=list(range(len(simNARMA_deep[0].wireVoltage.T)))\n",
    "    #remove wires that are sources or drains:\n",
    "    for j in range(len(simNARMA_deep[0].sources)):\n",
    "        temp.remove(simNARMA_deep[0].sources[j])\n",
    "    temp.remove(simNARMA_deep[0].drains[0])\n",
    "    sampleIdx=np.random.choice(temp,numInputs,replace=False)\n",
    "\n",
    "    wireVoltages=[]\n",
    "    for idx in sampleIdx:\n",
    "        wireVoltages.append(simNARMA_deep[0].wireVoltage.T[idx])\n",
    "    drains=simNARMA_deep[0].drains[0]\n",
    "    electrodes=list(np.hstack((sampleIdx,drains)))\n",
    "\n",
    "    NARMA_deep[1],simNARMA_deep[1],u,node_list=get_NARMA_deep(a,u=u,amp=amp,voltageInputs=wireVoltages,elecs=electrodes,return_sim=True,seed=seeds[i])\n",
    "\n",
    "    #list of all wires\n",
    "    temp=list(range(len(simNARMA_deep[1].wireVoltage.T)))\n",
    "    #remove wires that are sources or drains:\n",
    "    for j in range(len(simNARMA_deep[1].sources)):\n",
    "        temp.remove(simNARMA_deep[1].sources[j])\n",
    "    temp.remove(simNARMA_deep[1].drains[0])\n",
    "    sampleIdx=np.random.choice(temp,numInputs,replace=False)\n",
    "\n",
    "    wireVoltages=[]\n",
    "    for idx in sampleIdx:\n",
    "        wireVoltages.append(simNARMA_deep[1].wireVoltage.T[idx])\n",
    "    drains=simNARMA_deep[1].drains[0]\n",
    "    electrodes=list(np.hstack((sampleIdx,drains)))\n",
    "\n",
    "    NARMA_deep[2],simNARMA_deep[2],u,node_list=get_NARMA_deep(a,u=u,amp=amp,voltageInputs=wireVoltages,elecs=electrodes,return_sim=True,seed=seeds[i])\n",
    "\n",
    "    wire_voltage = np.vstack((simNARMA_deep[0].wireVoltage,simNARMA_deep[1].wireVoltage,simNARMA_deep[2].wireVoltage))\n",
    "    node_list=node_list*3\n",
    "    \n",
    "    y = np.zeros(len(u))\n",
    "    for j in range(histv, len(u)):\n",
    "        y[i] = 0.3*y[i-1] + 0.05*y[i-1]*np.sum(y[i-hist:i]) + 1.5*u[i-hist]*u[i-1] + 0.1\n",
    "#         y[i] = 0.1*y[i-1] + 0.004*y[i-1]*np.sum(y[i-hist:i]) + 2*u[i-hist]*u[i-1] + 0.1\n",
    "#         y[j] = 0.01*y[j-1] + 0.0004*y[j-1]*np.sum(y[j-histv:j]) + 1.5*u[j-histv]*u[j-1] + shift       \n",
    "    y=np.hstack([y]*3)\n",
    "    k = 200\n",
    "    lhs = wire_voltage[k:,node_list]\n",
    "    rhs = y[k:]\n",
    "    weight = np.linalg.lstsq(lhs, rhs, rcond = None)[0]\n",
    "    result = np.matmul(lhs, weight)\n",
    "    NARMA_deep_final.append(1-getRNMSE(result, rhs))\n",
    "    print(NARMA_deep_final[i])"
   ]
  },
  {
   "cell_type": "code",
   "execution_count": 372,
   "id": "620b69ca",
   "metadata": {},
   "outputs": [
    {
     "name": "stdout",
     "output_type": "stream",
     "text": [
      "0.009614049323947209\n"
     ]
    },
    {
     "data": {
      "text/plain": [
       "0.42996308822273654"
      ]
     },
     "execution_count": 372,
     "metadata": {},
     "output_type": "execute_result"
    }
   ],
   "source": [
    "print(np.std(NARMA_deep_final))\n",
    "np.mean(NARMA_deep_final)"
   ]
  },
  {
   "cell_type": "code",
   "execution_count": 399,
   "id": "66f08f28",
   "metadata": {
    "scrolled": true
   },
   "outputs": [
    {
     "data": {
      "application/vnd.jupyter.widget-view+json": {
       "model_id": "a03e83697f3c4614bc5bda37df9796cc",
       "version_major": 2,
       "version_minor": 0
      },
      "text/plain": [
       "HBox(children=(FloatProgress(value=0.0), HTML(value='')))"
      ]
     },
     "metadata": {},
     "output_type": "display_data"
    },
    {
     "name": "stdout",
     "output_type": "stream",
     "text": [
      "0.4383771573773817\n",
      "0.41881814170997844\n",
      "0.44718052354974347\n",
      "0.43044254198306664\n",
      "0.4371681537564537\n",
      "0.44338252244994947\n",
      "0.44291128932614376\n",
      "0.42384780021244983\n",
      "0.4340006818270423\n",
      "0.45209374262152724\n",
      "0.4431905433272838\n",
      "0.4327330843102103\n",
      "0.44474431047904284\n",
      "0.44990755351251643\n",
      "0.4226981040820229\n",
      "0.437158573234678\n",
      "0.43052939220547193\n",
      "0.4419428545998748\n",
      "0.41325040594067075\n",
      "0.446055040290258\n",
      "0.446035369332624\n",
      "0.44380316567588696\n",
      "0.42387228136497157\n",
      "0.43719699953454083\n",
      "0.42106720352261495\n",
      "0.4480364768129288\n",
      "0.43195152988751107\n",
      "0.4362425410280675\n",
      "0.42734270670526486\n",
      "0.4252869682947261\n",
      "0.43871990130736016\n",
      "0.44214855378441\n",
      "0.43525383706832266\n",
      "0.4733016969091557\n",
      "0.42931598314106634\n",
      "0.4264833719219593\n",
      "0.4338048936185259\n",
      "0.4192560999800522\n",
      "0.41626217697194023\n",
      "0.45127786484933086\n",
      "0.4246363927727228\n",
      "0.43530726000599584\n",
      "0.4247108179516823\n",
      "0.44212903896583267\n",
      "0.4629536025688008\n",
      "0.42148825718943084\n",
      "0.44326215308999606\n",
      "0.4374853637779612\n",
      "0.430076493490255\n",
      "0.43983362698104256\n",
      "0.42352443438537946\n",
      "0.4202794132337718\n",
      "0.44011214705535695\n",
      "0.4296571669027288\n",
      "0.4369007689007882\n",
      "0.42764322013719847\n",
      "0.4390283573345145\n",
      "0.4449586860765513\n",
      "0.4275421342653365\n",
      "0.44367010759523706\n",
      "0.43675672951964406\n",
      "0.4463090660336745\n",
      "0.43995565315891305\n",
      "0.4200652294645275\n",
      "0.45411217558349426\n",
      "0.43954137409936844\n",
      "0.4337267016080908\n",
      "0.43102230249566553\n",
      "0.4200652305814405\n",
      "0.44214855378441\n",
      "0.4305772843843393\n",
      "0.447144545071019\n",
      "0.4381037610999148\n",
      "0.427066853420607\n",
      "0.44485488979485244\n",
      "0.43056161708385543\n",
      "0.4373607625498669\n",
      "0.4562648869054954\n",
      "0.4299123219989318\n",
      "0.4642148867250667\n",
      "0.4421399888639731\n",
      "0.44184394180755737\n",
      "0.4251136750492859\n",
      "0.44380316567588696\n",
      "0.42878857216000177\n",
      "0.43984453937923873\n",
      "0.4305772843843393\n",
      "0.43603439104648634\n",
      "0.43683374189022584\n",
      "0.44022035035014484\n",
      "0.44787667401232845\n",
      "0.43052939220547193\n",
      "0.43686636261020917\n",
      "0.4445752037754539\n",
      "0.4297174827556949\n",
      "0.4379746296962631\n",
      "0.4286203553893436\n",
      "0.43300685289885743\n",
      "0.4471841267212088\n",
      "0.438923927156016\n",
      "\n"
     ]
    }
   ],
   "source": [
    "amp=2;dur=1;histv=9;shift=2;\n",
    "NARMA_deep_50=[None]*3\n",
    "simNARMA_deep_50=[None]*3\n",
    "NARMA_deep_final_50=[]\n",
    "numInputs=50\n",
    "for i in tqdm(range(numRep)):\n",
    "    np.random.seed(seeds[i])\n",
    "    u = signal_expand(np.random.random(1000)*amp, dur)\n",
    "    NARMA_deep_50[0],simNARMA_deep_50[0],u,node_list=get_NARMA_deep(a,u=u,amp=amp,return_sim=True,seed=seeds[i])\n",
    "\n",
    "    #list of all wires\n",
    "    temp=list(range(len(simNARMA_deep_50[0].wireVoltage.T)))\n",
    "    #remove wires that are sources or drains:\n",
    "    for j in range(len(simNARMA_deep_50[0].sources)):\n",
    "        temp.remove(simNARMA_deep_50[0].sources[j])\n",
    "    temp.remove(simNARMA_deep_50[0].drains[0])\n",
    "    sampleIdx=np.random.choice(temp,numInputs,replace=False)\n",
    "\n",
    "    wireVoltages=[]\n",
    "    for idx in sampleIdx:\n",
    "        wireVoltages.append(simNARMA_deep_50[0].wireVoltage.T[idx])\n",
    "    drains=simNARMA_deep[0].drains[0]\n",
    "    electrodes=list(np.hstack((sampleIdx,drains)))\n",
    "\n",
    "    NARMA_deep_50[1],simNARMA_deep_50[1],u,node_list=get_NARMA_deep(a,u=u,amp=amp,voltageInputs=wireVoltages,elecs=electrodes,return_sim=True,seed=seeds[i])\n",
    "\n",
    "    #list of all wires\n",
    "    temp=list(range(len(simNARMA_deep_50[1].wireVoltage.T)))\n",
    "    #remove wires that are sources or drains:\n",
    "#     for j in range(len(simNARMA_deep_50[1].sources)):\n",
    "#         temp.remove(simNARMA_deep_50[1].sources[j])\n",
    "    temp.remove(simNARMA_deep_50[1].drains[0])\n",
    "    sampleIdx=np.random.choice(temp,numInputs,replace=False)\n",
    "\n",
    "    wireVoltages=[]\n",
    "    for idx in sampleIdx:\n",
    "        wireVoltages.append(simNARMA_deep_50[1].wireVoltage.T[idx])\n",
    "    drains=simNARMA_deep_50[1].drains[0]\n",
    "    electrodes=list(np.hstack((sampleIdx,drains)))\n",
    "\n",
    "    NARMA_deep_50[2],simNARMA_deep_50[2],u,node_list=get_NARMA_deep(a,u=u,amp=amp,voltageInputs=wireVoltages,elecs=electrodes,return_sim=True,seed=seeds[i])\n",
    "\n",
    "    wire_voltage = np.vstack((simNARMA_deep_50[0].wireVoltage,simNARMA_deep_50[1].wireVoltage,simNARMA_deep_50[2].wireVoltage))\n",
    "    node_list=node_list*3\n",
    "    \n",
    "    y = np.zeros(len(u))\n",
    "    for j in range(histv, len(u)):\n",
    "        y[i] = 0.3*y[i-1] + 0.05*y[i-1]*np.sum(y[i-hist:i]) + 1.5*u[i-hist]*u[i-1] + 0.1\n",
    "#         y[i] = 0.1*y[i-1] + 0.004*y[i-1]*np.sum(y[i-hist:i]) + 2*u[i-hist]*u[i-1] + 0.1\n",
    "#         y[j] = 0.01*y[j-1] + 0.0004*y[j-1]*np.sum(y[j-histv:j]) + 1.5*u[j-histv]*u[j-1] + shift       \n",
    "    y=np.hstack([y]*3)\n",
    "    k = 200\n",
    "    lhs = wire_voltage[k:,node_list]\n",
    "    rhs = y[k:]\n",
    "    weight = np.linalg.lstsq(lhs, rhs, rcond = None)[0]\n",
    "    result = np.matmul(lhs, weight)\n",
    "    NARMA_deep_final_50.append(1-getRNMSE(result, rhs))\n",
    "    print(NARMA_deep_final_50[i])"
   ]
  },
  {
   "cell_type": "code",
   "execution_count": 400,
   "id": "2a6a24f4",
   "metadata": {
    "scrolled": true
   },
   "outputs": [
    {
     "name": "stdout",
     "output_type": "stream",
     "text": [
      "0.01052650898716963\n"
     ]
    },
    {
     "data": {
      "text/plain": [
       "0.4364253096437878"
      ]
     },
     "execution_count": 400,
     "metadata": {},
     "output_type": "execute_result"
    }
   ],
   "source": [
    "print(np.std(NARMA_deep_final_50))\n",
    "np.mean(NARMA_deep_final_50)"
   ]
  },
  {
   "cell_type": "code",
   "execution_count": 407,
   "id": "4049a487",
   "metadata": {
    "scrolled": true
   },
   "outputs": [
    {
     "data": {
      "application/vnd.jupyter.widget-view+json": {
       "model_id": "355427a6808c49c48e54e2a796b90377",
       "version_major": 2,
       "version_minor": 0
      },
      "text/plain": [
       "HBox(children=(FloatProgress(value=0.0), HTML(value='')))"
      ]
     },
     "metadata": {},
     "output_type": "display_data"
    },
    {
     "name": "stdout",
     "output_type": "stream",
     "text": [
      "0.45379346187121117\n",
      "0.447054539391622\n",
      "0.45702903711958165\n",
      "0.4405643723899383\n",
      "0.46195836424450687\n",
      "0.4585445839434784\n",
      "0.4645722969391721\n",
      "0.44050222318190757\n",
      "0.44233986351404697\n",
      "0.46656678479132374\n",
      "0.4612782566841773\n",
      "0.45214626740518293\n",
      "0.45835377412875133\n",
      "0.4646626593651614\n",
      "0.44450687974251724\n",
      "0.4432985567389116\n",
      "0.4515456057889399\n",
      "0.4603379784736822\n",
      "0.42928052216369084\n",
      "0.45756181556080866\n",
      "0.44603537041238017\n",
      "0.4438031645432683\n",
      "0.44637421734576477\n",
      "0.45817711917125536\n",
      "0.4273671213587392\n",
      "0.46319874104842995\n",
      "0.4408963438064186\n",
      "0.4362425723470933\n",
      "0.446920841012032\n",
      "0.44482547188390653\n",
      "0.4601015139590863\n",
      "0.46661739643772226\n",
      "0.46102767761847663\n",
      "0.47330171506113705\n",
      "0.44135466798323963\n",
      "0.44874093888075317\n",
      "0.44448274471021443\n",
      "0.4294811998556428\n",
      "0.4360659684569078\n",
      "0.46180796238066246\n",
      "0.4454319353050866\n",
      "0.444532369282726\n",
      "0.4390190502541975\n",
      "0.46640752294693744\n",
      "0.48873124043409066\n",
      "0.43490072970109883\n",
      "0.46721331216773787\n",
      "0.45327768115338984\n",
      "0.45456063060354823\n",
      "0.4508297741569274\n",
      "0.4381202716201543\n",
      "0.44277383419875094\n",
      "0.4546238844526981\n",
      "0.44750837633520013\n",
      "0.4401855399123972\n",
      "0.44564113020681484\n",
      "0.45988857090892077\n",
      "0.4632054841405282\n",
      "0.4373391206079167\n",
      "0.4621091972087198\n",
      "0.453043978908816\n",
      "0.45670839285085163\n",
      "0.453012355835688\n",
      "0.44006851605464525\n",
      "0.47333417552678847\n",
      "0.44693744065398766\n",
      "0.4364235785272207\n",
      "0.44395937611070135\n",
      "0.4400685120760056\n",
      "0.4666173510724655\n",
      "0.45198787240970684\n",
      "0.4662137666449939\n",
      "0.4461915548356521\n",
      "0.44251372593237837\n",
      "0.46876896698077697\n",
      "0.44859583957372606\n",
      "0.460220886159997\n",
      "0.4736331854404352\n",
      "0.4476646638752826\n",
      "0.46526090779901996\n",
      "0.4554708356447692\n",
      "0.45665989796196904\n",
      "0.4451305432811422\n",
      "0.4438031394624695\n",
      "0.44367380778049403\n",
      "0.449871632370093\n",
      "0.45198787240970684\n",
      "0.4557623531945778\n",
      "0.4612533521672758\n",
      "0.4527826738099281\n",
      "0.4618432121219813\n",
      "0.4515456096116851\n",
      "0.45819418833668324\n",
      "0.45613487153355003\n",
      "0.4455346574476404\n",
      "0.4508545656925945\n",
      "0.4356482998543785\n",
      "0.44388281098601556\n",
      "0.4646162924551519\n",
      "0.4492031463015712\n",
      "\n"
     ]
    }
   ],
   "source": [
    "amp=2;dur=1;histv=9;shift=2;\n",
    "NARMA_deep_100=[None]*3\n",
    "simNARMA_deep_100=[None]*3\n",
    "NARMA_deep_final_100=[]\n",
    "numInputs=100\n",
    "for i in tqdm(range(numRep)):\n",
    "    np.random.seed(seeds[i])\n",
    "    u = signal_expand(np.random.random(1000)*amp, dur)\n",
    "    simNARMA_deep_100[0],simNARMA_deep_100[0],u,node_list=get_NARMA_deep(a,u=u,amp=amp,return_sim=True,seed=seeds[i])\n",
    "\n",
    "    #list of all wires\n",
    "    temp=list(range(len(simNARMA_deep_100[0].wireVoltage.T)))\n",
    "    #remove wires that are sources or drains:\n",
    "    for j in range(len(simNARMA_deep_100[0].sources)):\n",
    "        temp.remove(simNARMA_deep_100[0].sources[j])\n",
    "    temp.remove(simNARMA_deep_100[0].drains[0])\n",
    "    sampleIdx=np.random.choice(temp,numInputs,replace=False)\n",
    "\n",
    "    wireVoltages=[]\n",
    "    for idx in sampleIdx:\n",
    "        wireVoltages.append(simNARMA_deep_100[0].wireVoltage.T[idx])\n",
    "    drains=simNARMA_deep_100[0].drains[0]\n",
    "    electrodes=list(np.hstack((sampleIdx,drains)))\n",
    "\n",
    "    NARMA_deep_100[1],simNARMA_deep_100[1],u,node_list=get_NARMA_deep(a,u=u,amp=amp,voltageInputs=wireVoltages,elecs=electrodes,return_sim=True,seed=seeds[i])\n",
    "\n",
    "    #list of all wires\n",
    "    temp=list(range(len(simNARMA_deep_100[1].wireVoltage.T)))\n",
    "    #remove wires that are sources or drains:\n",
    "#     for j in range(len(simNARMA_deep[1].sources)):\n",
    "#         temp.remove(simNARMA_deep_50[1].sources[j])\n",
    "    temp.remove(simNARMA_deep_100[1].drains[0])\n",
    "    sampleIdx=np.random.choice(temp,numInputs,replace=False)\n",
    "\n",
    "    wireVoltages=[]\n",
    "    for idx in sampleIdx:\n",
    "        wireVoltages.append(simNARMA_deep_100[1].wireVoltage.T[idx])\n",
    "    drains=simNARMA_deep_50[1].drains[0]\n",
    "    electrodes=list(np.hstack((sampleIdx,drains)))\n",
    "\n",
    "    NARMA_deep_100[2],simNARMA_deep_100[2],u,node_list=get_NARMA_deep(a,u=u,amp=amp,voltageInputs=wireVoltages,elecs=electrodes,return_sim=True,seed=seeds[i])\n",
    "\n",
    "    wire_voltage = np.vstack((simNARMA_deep_100[0].wireVoltage,simNARMA_deep_100[1].wireVoltage,simNARMA_deep_100[2].wireVoltage))\n",
    "    node_list=node_list*3\n",
    "    \n",
    "    y = np.zeros(len(u))\n",
    "    for j in range(histv, len(u)):\n",
    "        y[i] = 0.3*y[i-1] + 0.05*y[i-1]*np.sum(y[i-hist:i]) + 1.5*u[i-hist]*u[i-1] + 0.1\n",
    "#         y[i] = 0.1*y[i-1] + 0.004*y[i-1]*np.sum(y[i-hist:i]) + 2*u[i-hist]*u[i-1] + 0.1\n",
    "#         y[j] = 0.01*y[j-1] + 0.0004*y[j-1]*np.sum(y[j-histv:j]) + 1.5*u[j-histv]*u[j-1] + shift       \n",
    "    y=np.hstack([y]*3)\n",
    "    k = 200\n",
    "    lhs = wire_voltage[k:,node_list]\n",
    "    rhs = y[k:]\n",
    "    weight = np.linalg.lstsq(lhs, rhs, rcond = None)[0]\n",
    "    result = np.matmul(lhs, weight)\n",
    "    NARMA_deep_final_100.append(1-getRNMSE(result, rhs))\n",
    "    print(NARMA_deep_final_100[i])"
   ]
  },
  {
   "cell_type": "code",
   "execution_count": 408,
   "id": "a19b12e8",
   "metadata": {},
   "outputs": [
    {
     "name": "stdout",
     "output_type": "stream",
     "text": [
      "0.011038784405497099\n"
     ]
    },
    {
     "data": {
      "text/plain": [
       "0.45184099057002397"
      ]
     },
     "execution_count": 408,
     "metadata": {},
     "output_type": "execute_result"
    }
   ],
   "source": [
    "print(np.std(NARMA_deep_final_100))\n",
    "np.mean(NARMA_deep_final_100)"
   ]
  },
  {
   "cell_type": "code",
   "execution_count": 409,
   "id": "c6f17c54",
   "metadata": {},
   "outputs": [],
   "source": [
    "stdsNARMA=np.hstack((np.std(NARMA_single),np.std(NARMA_final_wide),np.std(NARMA_deep_final),np.std(NARMA_deep_final_50),np.std(NARMA_deep_final_100)))"
   ]
  },
  {
   "cell_type": "code",
   "execution_count": 410,
   "id": "81cf1d36",
   "metadata": {},
   "outputs": [],
   "source": [
    "import pandas as pd\n",
    "df=pd.DataFrame({'Single':{'Mean':np.mean(NARMA_single)},'Wide':{'Mean':np.mean(NARMA_final_wide)},'Deep 10':{'Mean':np.mean(NARMA_deep_final)},'Deep 50':{'Mean':np.mean(NARMA_deep_final_50)},'Deep 100':{'Mean':np.mean(NARMA_deep_final_100)}})"
   ]
  },
  {
   "cell_type": "code",
   "execution_count": 411,
   "id": "b45c4a1d",
   "metadata": {},
   "outputs": [
    {
     "data": {
      "text/html": [
       "<div>\n",
       "<style scoped>\n",
       "    .dataframe tbody tr th:only-of-type {\n",
       "        vertical-align: middle;\n",
       "    }\n",
       "\n",
       "    .dataframe tbody tr th {\n",
       "        vertical-align: top;\n",
       "    }\n",
       "\n",
       "    .dataframe thead th {\n",
       "        text-align: right;\n",
       "    }\n",
       "</style>\n",
       "<table border=\"1\" class=\"dataframe\">\n",
       "  <thead>\n",
       "    <tr style=\"text-align: right;\">\n",
       "      <th></th>\n",
       "      <th>Single</th>\n",
       "      <th>Wide</th>\n",
       "      <th>Deep 10</th>\n",
       "      <th>Deep 50</th>\n",
       "      <th>Deep 100</th>\n",
       "    </tr>\n",
       "  </thead>\n",
       "  <tbody>\n",
       "    <tr>\n",
       "      <th>Mean</th>\n",
       "      <td>0.474847</td>\n",
       "      <td>0.425411</td>\n",
       "      <td>0.429963</td>\n",
       "      <td>0.436425</td>\n",
       "      <td>0.451841</td>\n",
       "    </tr>\n",
       "  </tbody>\n",
       "</table>\n",
       "</div>"
      ],
      "text/plain": [
       "        Single      Wide   Deep 10   Deep 50  Deep 100\n",
       "Mean  0.474847  0.425411  0.429963  0.436425  0.451841"
      ]
     },
     "execution_count": 411,
     "metadata": {},
     "output_type": "execute_result"
    }
   ],
   "source": [
    "df"
   ]
  },
  {
   "cell_type": "code",
   "execution_count": 412,
   "id": "bf4f6325",
   "metadata": {},
   "outputs": [
    {
     "data": {
      "text/plain": [
       "Text(0, 0.5, 'NARMA Accuracy')"
      ]
     },
     "execution_count": 412,
     "metadata": {},
     "output_type": "execute_result"
    },
    {
     "data": {
      "image/png": "[encoded data removed]",
      "text/plain": [
       "<Figure size 720x576 with 1 Axes>"
      ]
     },
     "metadata": {
      "needs_background": "light"
     },
     "output_type": "display_data"
    }
   ],
   "source": [
    "fig,ax=plt.subplots(1,figsize=(10,8))\n",
    "plt.bar(np.arange(df.shape[1]), df.mean(), yerr=stdsNARMA, capsize=6)\n",
    "ax.set_xticks(np.arange(df.shape[1]))\n",
    "ax.set_xticklabels(['Shallow','Wide','Deep 10','Deep 50','Deep 100'])\n",
    "ax.set_ylabel('NARMA Accuracy')"
   ]
  },
  {
   "cell_type": "markdown",
   "id": "0dd1952a",
   "metadata": {},
   "source": [
    "### MACKEY-GLASS TIME-SERIES"
   ]
  },
  {
   "cell_type": "code",
   "execution_count": null,
   "id": "d8869a20",
   "metadata": {},
   "outputs": [],
   "source": [
    "def get_MG(Connectivity, amp = 1, \n",
    "          dt = 0.01, dur = 1, \n",
    "          hist = 20, shift = 2,\n",
    "          n_outs = 10, init_state = None, \n",
    "          return_sim = False):\n",
    "#     np.random.seed()\n",
    "    N = Connectivity.number_of_wires\n",
    "    y = mkg_generator(1000, 100*dt, 50)\n",
    "    temp_sim = runSim(Connectivity, T = 1000*dt, dt = dt,\n",
    "                start_state =  init_state,\n",
    "                biasType = 'Custom', customSignal = y, \n",
    "                junctionMode = 'tunneling', \n",
    "                contactMode = 'farthest',\n",
    "                findFirst=False, disable_tqdm=True)\n",
    "    \n",
    "    wire_voltage = temp_sim.wireVoltage\n",
    "    node_list = np.random.choice(range(0, N), n_outs, replace = False)\n",
    "    lhs = wire_voltage[:-hist,node_list]\n",
    "    rhs = y[hist:]\n",
    "    weight = np.linalg.lstsq(lhs, rhs, rcond = None)[0]\n",
    "    result = np.matmul(lhs, weight)\n",
    "    acc = 1-getRNMSE(result, rhs)\n",
    "    \n",
    "\n",
    "    if return_sim:\n",
    "        return acc, temp_sim\n",
    "    else:\n",
    "        return acc"
   ]
  }
 ],
 "metadata": {
  "kernelspec": {
   "display_name": "Python 3",
   "language": "python",
   "name": "python3"
  },
  "language_info": {
   "codemirror_mode": {
    "name": "ipython",
    "version": 3
   },
   "file_extension": ".py",
   "mimetype": "text/x-python",
   "name": "python",
   "nbconvert_exporter": "python",
   "pygments_lexer": "ipython3",
   "version": "3.8.5"
  }
 },
 "nbformat": 4,
 "nbformat_minor": 5
}
