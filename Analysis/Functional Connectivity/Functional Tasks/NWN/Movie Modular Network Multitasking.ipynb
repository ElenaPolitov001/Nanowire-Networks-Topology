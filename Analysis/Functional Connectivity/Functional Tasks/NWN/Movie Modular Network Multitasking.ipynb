{
 "cells": [
  {
   "cell_type": "code",
   "execution_count": 1,
   "metadata": {},
   "outputs": [],
   "source": [
    "import sys\n",
    "sys.path.append('/import/silo2/aloe8475/Documents/edamame')"
   ]
  },
  {
   "cell_type": "code",
   "execution_count": 56,
   "metadata": {},
   "outputs": [],
   "source": [
    "from scipy.io import loadmat, savemat\n",
    "from matplotlib.ticker import LogFormatter \n",
    "\n",
    "import numpy as np\n",
    "import matplotlib.pyplot as plt\n",
    "from matplotlib import colors\n",
    "import networkx as nx\n",
    "from edamame import *\n",
    "from tqdm import tqdm_notebook as tqdm\n",
    "import os\n",
    "import edamame.core.wires as wires\n",
    "from IPython.core.debugger import set_trace\n",
    "# import nct\n",
    "import bct\n",
    "import pandas as pd\n",
    "\n",
    "import pickle \n",
    "import _pickle as cPickle\n",
    "import gzip\n",
    "import matplotlib.colors as clrs\n",
    "\n",
    "\n",
    "def compressed_pickle(obj, filename,protocol=-1):\n",
    "    with gzip.open(filename, 'wb') as f:\n",
    "        cPickle.dump(obj, f, protocol)\n",
    "def decompress_pickle(file):\n",
    "    with gzip.open(file, 'rb') as f:\n",
    "        loaded_object = cPickle.load(f,encoding=\"bytes\") #change this for python 2\n",
    "        return loaded_object"
   ]
  },
  {
   "cell_type": "code",
   "execution_count": 3,
   "metadata": {},
   "outputs": [],
   "source": [
    "def connected_component_subgraphs(G):\n",
    "    for c in nx.connected_components(G):\n",
    "        yield G.subgraph(c)"
   ]
  },
  {
   "cell_type": "code",
   "execution_count": 4,
   "metadata": {},
   "outputs": [],
   "source": [
    "dataLoc='/import/silo2/aloe8475/Documents/CODE/Data/Functional Connectivity/ModularNWNs/VSweep/'\n",
    "saveFig='/import/silo2/aloe8475/Documents/CODE/Data/Figures/Functional Connectivity/'"
   ]
  },
  {
   "cell_type": "code",
   "execution_count": 5,
   "metadata": {},
   "outputs": [],
   "source": [
    "name='/import/silo2/aloe8475/Documents/CODE/Data/Functional Connectivity/300nw_2_modules_10sets_NWN.pkl'\n",
    "NWN=decompress_pickle(name)\n",
    "name2='/import/silo2/aloe8475/Documents/CODE/Data/Functional Connectivity/300nw_2_modules_separated_10sets_NWN.pkl'\n",
    "NWN_separate=decompress_pickle(name2)"
   ]
  },
  {
   "cell_type": "code",
   "execution_count": 25,
   "metadata": {
    "scrolled": true
   },
   "outputs": [
    {
     "data": {
      "application/vnd.jupyter.widget-view+json": {
       "model_id": "cbebc361755a409099dc4eeb71e8fcda",
       "version_major": 2,
       "version_minor": 0
      },
      "text/plain": [
       "HBox(children=(IntProgress(value=0, max=6), HTML(value='')))"
      ]
     },
     "metadata": {},
     "output_type": "display_data"
    },
    {
     "name": "stdout",
     "output_type": "stream",
     "text": [
      "\n"
     ]
    },
    {
     "data": {
      "application/vnd.jupyter.widget-view+json": {
       "model_id": "bd7972c56f384c4181641972ba9a570c",
       "version_major": 2,
       "version_minor": 0
      },
      "text/plain": [
       "HBox(children=(IntProgress(value=0, max=6), HTML(value='')))"
      ]
     },
     "metadata": {},
     "output_type": "display_data"
    },
    {
     "name": "stdout",
     "output_type": "stream",
     "text": [
      "\n"
     ]
    },
    {
     "data": {
      "application/vnd.jupyter.widget-view+json": {
       "model_id": "dd828dffc9fd458f908d7a369113e78a",
       "version_major": 2,
       "version_minor": 0
      },
      "text/plain": [
       "HBox(children=(IntProgress(value=0, max=6), HTML(value='')))"
      ]
     },
     "metadata": {},
     "output_type": "display_data"
    },
    {
     "name": "stdout",
     "output_type": "stream",
     "text": [
      "\n"
     ]
    },
    {
     "data": {
      "application/vnd.jupyter.widget-view+json": {
       "model_id": "10c664fe389544a6ba7934be952d588e",
       "version_major": 2,
       "version_minor": 0
      },
      "text/plain": [
       "HBox(children=(IntProgress(value=0, max=6), HTML(value='')))"
      ]
     },
     "metadata": {},
     "output_type": "display_data"
    },
    {
     "name": "stdout",
     "output_type": "stream",
     "text": [
      "\n"
     ]
    },
    {
     "data": {
      "application/vnd.jupyter.widget-view+json": {
       "model_id": "f51da8f98f1946f3b9ba410367564808",
       "version_major": 2,
       "version_minor": 0
      },
      "text/plain": [
       "HBox(children=(IntProgress(value=0, max=6), HTML(value='')))"
      ]
     },
     "metadata": {},
     "output_type": "display_data"
    },
    {
     "name": "stdout",
     "output_type": "stream",
     "text": [
      "\n"
     ]
    },
    {
     "data": {
      "application/vnd.jupyter.widget-view+json": {
       "model_id": "93727288b2ac43be973efaac8754a413",
       "version_major": 2,
       "version_minor": 0
      },
      "text/plain": [
       "HBox(children=(IntProgress(value=0, max=6), HTML(value='')))"
      ]
     },
     "metadata": {},
     "output_type": "display_data"
    },
    {
     "name": "stdout",
     "output_type": "stream",
     "text": [
      "\n"
     ]
    },
    {
     "data": {
      "application/vnd.jupyter.widget-view+json": {
       "model_id": "733943958b944c56a9eb4b26f0febe99",
       "version_major": 2,
       "version_minor": 0
      },
      "text/plain": [
       "HBox(children=(IntProgress(value=0, max=6), HTML(value='')))"
      ]
     },
     "metadata": {},
     "output_type": "display_data"
    },
    {
     "name": "stdout",
     "output_type": "stream",
     "text": [
      "\n"
     ]
    },
    {
     "data": {
      "application/vnd.jupyter.widget-view+json": {
       "model_id": "e7b5bb433d6e4386bc030b9f3bfc0344",
       "version_major": 2,
       "version_minor": 0
      },
      "text/plain": [
       "HBox(children=(IntProgress(value=0, max=6), HTML(value='')))"
      ]
     },
     "metadata": {},
     "output_type": "display_data"
    },
    {
     "name": "stdout",
     "output_type": "stream",
     "text": [
      "\n"
     ]
    },
    {
     "data": {
      "application/vnd.jupyter.widget-view+json": {
       "model_id": "ff98d3056a71459a9d993155670378b9",
       "version_major": 2,
       "version_minor": 0
      },
      "text/plain": [
       "HBox(children=(IntProgress(value=0, max=6), HTML(value='')))"
      ]
     },
     "metadata": {},
     "output_type": "display_data"
    },
    {
     "name": "stdout",
     "output_type": "stream",
     "text": [
      "\n"
     ]
    },
    {
     "data": {
      "application/vnd.jupyter.widget-view+json": {
       "model_id": "7b34e5fec5414534921650a8ab680dee",
       "version_major": 2,
       "version_minor": 0
      },
      "text/plain": [
       "HBox(children=(IntProgress(value=0, max=6), HTML(value='')))"
      ]
     },
     "metadata": {},
     "output_type": "display_data"
    },
    {
     "name": "stdout",
     "output_type": "stream",
     "text": [
      "\n"
     ]
    }
   ],
   "source": [
    "graph=[[] for i in range(len(NWN))]\n",
    "adjMat=[[] for i in range(len(NWN))]\n",
    "\n",
    "for nw in range(len(NWN)):\n",
    "    nwnGraph=NWN[nw][5]['G']\n",
    "    numNWs=6\n",
    "    nws=np.linspace(0,8,6)\n",
    "\n",
    "    #Loop through rewiring from completely modular to completely integrated\n",
    "    for i in tqdm(range(numNWs)):\n",
    "        if i == 0:\n",
    "            graph[nw].append((nwnGraph.copy()))\n",
    "            currGraph=graph[nw][i]\n",
    "        else:\n",
    "            currGraph=graph[nw][i-1].copy()\n",
    "        temp=[]\n",
    "        temp=nx.double_edge_swap(currGraph,nswap=int(np.exp(nws[i])),max_tries=10000,seed=10)\n",
    "        temp.remove_edges_from(list(nx.selfloop_edges(temp)))\n",
    "        if i > 0:\n",
    "            graph[nw].append(max(connected_component_subgraphs(temp), key=len))\n",
    "        adjMat[nw].append(nx.adjacency_matrix(graph[nw][i]))"
   ]
  },
  {
   "cell_type": "code",
   "execution_count": 24,
   "metadata": {},
   "outputs": [],
   "source": [
    "#sep graphs:\n",
    "\n",
    "graphNLT=[]\n",
    "graphMC=[]\n",
    "for j in range(10):\n",
    "    temp=decompress_pickle(dataLoc+'NWN_Network_2modules_separated_10sets_'+str(j+1)+'.pkl')\n",
    "    Connectivity1=temp[0]\n",
    "    Connectivity2=temp[1]\n",
    "    graphNLT.append(nx.from_numpy_matrix(Connectivity1.adj_matrix))\n",
    "    graphMC.append(nx.from_numpy_matrix(Connectivity2.adj_matrix))\n"
   ]
  },
  {
   "cell_type": "code",
   "execution_count": 6,
   "metadata": {},
   "outputs": [],
   "source": [
    "#2 Electrodes\n",
    "electrodes=[[73,115,173,264],[88,38,229,282],[64,123,193,240],[149,24,247,217],[128,138,190,216],[134,137,236,230],[71,104,191,242],[122,97,187,202],[57,2,166,169],[2,11,215,236]]\n",
    "electrodes_separate=[[73,115,173-150,264-150],[88,38,229-150,282-150],[64,123,193-150,240-150],[149,24,247-150,217-150],[128,138,190-150,216-150],[134,137,236-150,230-150],[71,104,191-150,242-150],[122,97,187-150,202-150],[57,2,166-150,169-150],[2,11,215-150,236-150]]\n",
    "\n",
    "#4 Electrodes\n",
    "# electrodes=[25,22,295,288]#[117, 98, 171, 168]## Electrodes in each module"
   ]
  },
  {
   "cell_type": "code",
   "execution_count": 71,
   "metadata": {},
   "outputs": [],
   "source": [
    "temp=loadmat(dataLoc+'Module Data Modular NWNs.mat')\n",
    "module1=temp['Mod1']\n",
    "module2=temp['Mod2']"
   ]
  },
  {
   "cell_type": "code",
   "execution_count": 8,
   "metadata": {},
   "outputs": [],
   "source": [
    "### RUN TASKS"
   ]
  },
  {
   "cell_type": "code",
   "execution_count": 14,
   "metadata": {},
   "outputs": [],
   "source": [
    "onAmp=[0.2,0.5,0.75,1,1.25,1.5,1.75,2,3,5,10]#np.linspace(0,10,201)\n",
    "voltNames=['0p2','0p5','0p75','1','1p25','1p5','1p75','2','3','5','10']"
   ]
  },
  {
   "cell_type": "code",
   "execution_count": 10,
   "metadata": {},
   "outputs": [],
   "source": [
    "def MC_k_new(network, k = 1, node_list=[], transient = 100):\n",
    "#     node_list=n_outs#len(node_list)\n",
    "    signal = network.stimulus[0].signal[transient:]\n",
    "    wire_voltage = network.wireVoltage[transient:]\n",
    "    T, N = wire_voltage.shape\n",
    "#     node_list = np.random.choice(range(0, N), n_outs, replace = False)\n",
    "    \n",
    "    lhs = wire_voltage[k:,node_list]\n",
    "    rhs = signal[:-k]\n",
    "    try:\n",
    "        weight = np.linalg.lstsq(lhs, rhs, rcond = None)[0]\n",
    "        result = np.matmul(lhs, weight)\n",
    "        mc = (np.cov(rhs, result)[0,1])**2/(np.var(signal[k:])*np.var(result))\n",
    "        return mc\n",
    "    except:\n",
    "        return 0"
   ]
  },
  {
   "cell_type": "code",
   "execution_count": 11,
   "metadata": {},
   "outputs": [],
   "source": [
    "def nonLinearTrans_specificNodes(network, targetType, nodesList, repeats = 1):\n",
    "    \"\"\"\n",
    "    targetType can be DoubleFrequency and all other possible biasType.\n",
    "    wireVoltage[T,N] can also be the first positional parameter.\n",
    "    \"\"\"\n",
    "    from edamame.core.simSettings import stimulus__\n",
    "\n",
    "    if targetType == 'DoubleFrequency':\n",
    "        target = stimulus__(network.stimulus[0].biasType, network.TimeVector, f = 2*network.stimulus[0].f).signal\n",
    "    else:\n",
    "        target = stimulus__(targetType, network.TimeVector, f = network.stimulus[0].f).signal\n",
    "        \n",
    "    wireVoltage = network.wireVoltage    \n",
    "    T, N = wireVoltage.shape\n",
    "    output = dict()\n",
    "    accuracy = np.zeros(repeats)\n",
    "    weight = np.zeros((repeats, len(nodesList)+1))\n",
    "    result = np.zeros((repeats, T))\n",
    "    \n",
    "    for i in range(repeats):\n",
    "        lhs = np.hstack((np.ones((T, 1)), wireVoltage[:,nodesList]))\n",
    "        weight[i,:] = np.linalg.lstsq(lhs, target, rcond = None)[0]\n",
    "        result[i,:] = np.dot(lhs, weight[i,:])\n",
    "        accuracy[i] = 1-getRNMSE(result[i,:], target)\n",
    "        \n",
    "    output['weight'] = np.mean(weight, axis = 0)\n",
    "    output['result'] = np.mean(result, axis = 0)\n",
    "    output['accuracy'] = np.mean(accuracy)\n",
    "    output['target'] = target\n",
    "    \n",
    "    return output "
   ]
  },
  {
   "cell_type": "code",
   "execution_count": 19,
   "metadata": {},
   "outputs": [
    {
     "ename": "NameError",
     "evalue": "name 'seed' is not defined",
     "output_type": "error",
     "traceback": [
      "\u001b[0;31m---------------------------------------------------------------------------\u001b[0m",
      "\u001b[0;31mNameError\u001b[0m                                 Traceback (most recent call last)",
      "\u001b[0;32m<ipython-input-19-27a3608bfce6>\u001b[0m in \u001b[0;36m<module>\u001b[0;34m\u001b[0m\n\u001b[0;32m----> 1\u001b[0;31m \u001b[0mseed\u001b[0m\u001b[0;34m\u001b[0m\u001b[0;34m\u001b[0m\u001b[0m\n\u001b[0m",
      "\u001b[0;31mNameError\u001b[0m: name 'seed' is not defined"
     ]
    }
   ],
   "source": [
    "seed"
   ]
  },
  {
   "cell_type": "code",
   "execution_count": 20,
   "metadata": {},
   "outputs": [],
   "source": [
    "def get_MC_and_NLT(j,k,elecs,module1,module2,seed=[],noiseOn=False,saveTimeSeries=False,amp = 2, dt = 0.01, dur = 1, n_outs = 100, init_state = None, return_sim = False):\n",
    "    ampName=str(amp).replace('.','p')\n",
    "    f=0.5\n",
    "\n",
    "    Connectivity=decompress_pickle(dataLoc+'NWN_Network_2modules_Rewired_'+str(j+1)+'_'+str(k+1)+'.pkl')\n",
    "    Graph= nx.from_numpy_matrix(Connectivity.adj_matrix)\n",
    "    \n",
    "    np.random.seed(seed)\n",
    "    \n",
    "    stimulus=[]\n",
    "    stimulus.append(stimulus__(biasType='AC',onAmp=amp,TimeVector=np.arange(0,10,dt),f=f))\n",
    "    stimulus.append(stimulus__(biasType='Drain',TimeVector=np.arange(0,10,dt))) #we don't want this drain to be active during training\n",
    "    stimulus.append(stimulus__(biasType='Custom',TimeVector=np.arange(0,10,dt),customSignal=signal_expand(np.random.random(1000)*2*amp-amp, dur)))\n",
    "    stimulus.append(stimulus__(biasType='Drain',TimeVector=np.arange(0,10,dt))) #we don't want this drain to be active during training\n",
    "    #White noise\n",
    "    if noiseOn:\n",
    "        noise=[gauss(0.0, 1.0) for i in range(1000)]\n",
    "        stimulus.append(stimulus__(biasType='Custom',TimeVector=np.arange(0,10,dt),customSignal=signal_expand(noise, dur)))\n",
    "    \n",
    "    simRAND = runSim(connectivity__(graph=Graph), T = 10, dt = dt,\n",
    "                start_state =  init_state,\n",
    "                stimulus=stimulus,\n",
    "                onAmp=amp,\n",
    "                junctionMode = 'tunneling', \n",
    "                contactMode = 'preSet',\n",
    "                electrodes=elecs,\n",
    "                findFirst=False, disable_tqdm=True)\n",
    "    \n",
    "#     print(len(simRAND.junctionConductance))\n",
    "    output={'JunctionConductance':simRAND.junctionConductance,'JunctionVoltage':simRAND.junctionVoltage,'Switch':simRAND.junctionSwitch,'Source':simRAND.sources[0:2],'Drain':simRAND.drains[0:2],'Signal':simRAND.stimulus}\n",
    "    if saveTimeSeries==True:\n",
    "        compressed_pickle(output,dataLoc+'NLT+MC_MultitaskingFullTimeSeries_seed10_'+'REWIRED_'+str(j+1)+'_'+str(k+1)+'_'+ampName+'v.pkl')\n",
    "\n",
    "    nodesList=[]\n",
    "    if elecs[2] in module1[k][0]:   #if the MC electrode is in module one, we only want to sample from those nodes\n",
    "        nodesList=module1[k][0] #only want nodes in first module\n",
    "    else:\n",
    "        nodesList=module2[k][0]\n",
    "        \n",
    "    mcRAND = [MC_k_new(simRAND, l, node_list=nodesList) for l in range(dur, len(nodesList)*dur, dur)]\n",
    "    \n",
    "    nodesList=[]\n",
    "    if elecs[0] in module1[k][0]:   #if the NLT electrode is in module one, we only want to sample from those nodes\n",
    "        nodesList=module1[k][0] #only want nodes in first module\n",
    "    else:\n",
    "        nodesList=module2[k][0]\n",
    "    \n",
    "    nwSqu =[None]*len(nodesList)\n",
    "\n",
    "    countK=0\n",
    "\n",
    "    ResultSqu = nonLinearTrans_specificNodes(simRAND,'Square',nodesList, repeats=50) #simulation, type of signal, number of nodes to sample from, number of linear regression repetitions (take avg)\n",
    "    nwSqu=ResultSqu['accuracy']\n",
    "    \n",
    "    if return_sim:\n",
    "        return np.sum(mcRAND), simRAND, nwSqu\n",
    "    else:\n",
    "        return np.sum(mcRAND),nwSqu"
   ]
  },
  {
   "cell_type": "code",
   "execution_count": 497,
   "metadata": {
    "scrolled": true
   },
   "outputs": [
    {
     "data": {
      "application/vnd.jupyter.widget-view+json": {
       "model_id": "e0150ecab38740b8998b86fc37a61bf4",
       "version_major": 2,
       "version_minor": 0
      },
      "text/plain": [
       "HBox(children=(IntProgress(value=0, max=10), HTML(value='')))"
      ]
     },
     "metadata": {},
     "output_type": "display_data"
    }
   ],
   "source": [
    "noiseOn=False #Add white noise?\n",
    "\n",
    "if noiseOn:\n",
    "    elecs=electrodesNoise\n",
    "else:\n",
    "    elecs=electrodes\n",
    "initMCNLT=[[] for i in range(10)]\n",
    "seed=np.arange(10,21) #10 different seeds\n",
    "for nTimes in tqdm(range(10)): #for 10 times\n",
    "    if nTimes==9:\n",
    "        saveTimeSeries=True\n",
    "    else:\n",
    "        saveTimeSeries=False\n",
    "    for i in (range(len(onAmp))): #for each voltage\n",
    "        for j in range(len(graph)): #for each network\n",
    "            for k in [0,5]: #for each modularity (integrated or segregated only)\n",
    "                initMCNLT[nTimes].append(inputPacker(get_MC_and_NLT,j,k,electrodes[j],module1[j],module2[j],seed=seed[nTimes],noiseOn=noiseOn,amp=onAmp[i],saveTimeSeries=saveTimeSeries))"
   ]
  },
  {
   "cell_type": "code",
   "execution_count": 498,
   "metadata": {},
   "outputs": [
    {
     "data": {
      "text/plain": [
       "(103.01170494746175, 0.6864189623129097)"
      ]
     },
     "execution_count": 498,
     "metadata": {},
     "output_type": "execute_result"
    }
   ],
   "source": [
    "get_MC_and_NLT(5,5,electrodes[5],module1[5],module2[5],seed=seed[0],noiseOn=noiseOn,amp=onAmp[4])"
   ]
  },
  {
   "cell_type": "code",
   "execution_count": 500,
   "metadata": {
    "scrolled": true
   },
   "outputs": [
    {
     "data": {
      "application/vnd.jupyter.widget-view+json": {
       "model_id": "08d6f533b6734cc795a6b0afd410aa70",
       "version_major": 2,
       "version_minor": 0
      },
      "text/plain": [
       "HBox(children=(IntProgress(value=0, max=10), HTML(value='')))"
      ]
     },
     "metadata": {},
     "output_type": "display_data"
    },
    {
     "data": {
      "application/vnd.jupyter.widget-view+json": {
       "model_id": "0a0f0d06623248fb8a1deba3a13c6007",
       "version_major": 2,
       "version_minor": 0
      },
      "text/plain": [
       "HBox(children=(IntProgress(value=0, max=220), HTML(value='')))"
      ]
     },
     "metadata": {},
     "output_type": "display_data"
    },
    {
     "data": {
      "application/vnd.jupyter.widget-view+json": {
       "model_id": "def9d27ca8da4df990f3735af0829676",
       "version_major": 2,
       "version_minor": 0
      },
      "text/plain": [
       "HBox(children=(IntProgress(value=0, max=220), HTML(value='')))"
      ]
     },
     "metadata": {},
     "output_type": "display_data"
    },
    {
     "data": {
      "application/vnd.jupyter.widget-view+json": {
       "model_id": "0399a8dcc44b420c9264c803e18bf5e5",
       "version_major": 2,
       "version_minor": 0
      },
      "text/plain": [
       "HBox(children=(IntProgress(value=0, max=220), HTML(value='')))"
      ]
     },
     "metadata": {},
     "output_type": "display_data"
    },
    {
     "data": {
      "application/vnd.jupyter.widget-view+json": {
       "model_id": "0504346b19a74c7d8424ab3d570cf808",
       "version_major": 2,
       "version_minor": 0
      },
      "text/plain": [
       "HBox(children=(IntProgress(value=0, max=220), HTML(value='')))"
      ]
     },
     "metadata": {},
     "output_type": "display_data"
    },
    {
     "data": {
      "application/vnd.jupyter.widget-view+json": {
       "model_id": "223a882b0f2747deb4638dd4a2ecc337",
       "version_major": 2,
       "version_minor": 0
      },
      "text/plain": [
       "HBox(children=(IntProgress(value=0, max=220), HTML(value='')))"
      ]
     },
     "metadata": {},
     "output_type": "display_data"
    },
    {
     "data": {
      "application/vnd.jupyter.widget-view+json": {
       "model_id": "e2e36c7f46024053ad7f27bafe465c78",
       "version_major": 2,
       "version_minor": 0
      },
      "text/plain": [
       "HBox(children=(IntProgress(value=0, max=220), HTML(value='')))"
      ]
     },
     "metadata": {},
     "output_type": "display_data"
    },
    {
     "data": {
      "application/vnd.jupyter.widget-view+json": {
       "model_id": "49a6c2f9c1b540929775167df3b94ad6",
       "version_major": 2,
       "version_minor": 0
      },
      "text/plain": [
       "HBox(children=(IntProgress(value=0, max=220), HTML(value='')))"
      ]
     },
     "metadata": {},
     "output_type": "display_data"
    },
    {
     "data": {
      "application/vnd.jupyter.widget-view+json": {
       "model_id": "d8c4e405ba644d3da05cf76aa3d22ae8",
       "version_major": 2,
       "version_minor": 0
      },
      "text/plain": [
       "HBox(children=(IntProgress(value=0, max=220), HTML(value='')))"
      ]
     },
     "metadata": {},
     "output_type": "display_data"
    },
    {
     "data": {
      "application/vnd.jupyter.widget-view+json": {
       "model_id": "a37f226974d946f3a3dd2dc6a9ae490d",
       "version_major": 2,
       "version_minor": 0
      },
      "text/plain": [
       "HBox(children=(IntProgress(value=0, max=220), HTML(value='')))"
      ]
     },
     "metadata": {},
     "output_type": "display_data"
    },
    {
     "data": {
      "application/vnd.jupyter.widget-view+json": {
       "model_id": "a3d320e3ad174578aa7a0ecbf8bf0adb",
       "version_major": 2,
       "version_minor": 0
      },
      "text/plain": [
       "HBox(children=(IntProgress(value=0, max=220), HTML(value='')))"
      ]
     },
     "metadata": {},
     "output_type": "display_data"
    }
   ],
   "source": [
    "#Run\n",
    "resultMCNLT=[None]*10\n",
    "for i in tqdm(range(10)):\n",
    "    resultMCNLT[i]=(para_run(get_MC_and_NLT,initMCNLT[i],nCPU=10,start_method='fork'))"
   ]
  },
  {
   "cell_type": "code",
   "execution_count": null,
   "metadata": {},
   "outputs": [],
   "source": [
    "# [MC,NLT]=decompress_pickle(dataLoc+'MovieDataMC+NLT.pkl')"
   ]
  },
  {
   "cell_type": "code",
   "execution_count": 501,
   "metadata": {},
   "outputs": [
    {
     "data": {
      "text/plain": [
       "[<matplotlib.lines.Line2D at 0x7fe28ceb4908>,\n",
       " <matplotlib.lines.Line2D at 0x7fe28ceb4a58>,\n",
       " <matplotlib.lines.Line2D at 0x7fe28ceb4ba8>,\n",
       " <matplotlib.lines.Line2D at 0x7fe28ceb4cf8>,\n",
       " <matplotlib.lines.Line2D at 0x7fe28ceb4e48>,\n",
       " <matplotlib.lines.Line2D at 0x7fe28ceb4f98>,\n",
       " <matplotlib.lines.Line2D at 0x7fe28ce82128>,\n",
       " <matplotlib.lines.Line2D at 0x7fe28ce82278>,\n",
       " <matplotlib.lines.Line2D at 0x7fe28ce823c8>,\n",
       " <matplotlib.lines.Line2D at 0x7fe28ce82518>]"
      ]
     },
     "execution_count": 501,
     "metadata": {},
     "output_type": "execute_result"
    },
    {
     "data": {
      "image/png": "[encoded data removed]",
      "text/plain": [
       "<Figure size 432x288 with 1 Axes>"
      ]
     },
     "metadata": {
      "needs_background": "light"
     },
     "output_type": "display_data"
    }
   ],
   "source": [
    "plt.plot(np.array(resultMCNLT[:]).T[1])"
   ]
  },
  {
   "cell_type": "code",
   "execution_count": 9,
   "metadata": {},
   "outputs": [],
   "source": [
    "[MC_same,NLT_same]=decompress_pickle(dataLoc+'MC+NLT_RewiredModularityResults_seed10')"
   ]
  },
  {
   "cell_type": "code",
   "execution_count": 10,
   "metadata": {},
   "outputs": [],
   "source": [
    "NLT_same=NLT_same.reshape(11,60)\n",
    "MC_same=MC_same.reshape(11,60)"
   ]
  },
  {
   "cell_type": "code",
   "execution_count": 11,
   "metadata": {},
   "outputs": [],
   "source": [
    "NLT_same=np.fliplr(NLT_same)\n",
    "MC_same=np.fliplr(MC_same)"
   ]
  },
  {
   "cell_type": "code",
   "execution_count": 12,
   "metadata": {},
   "outputs": [],
   "source": [
    "NLT_same=NLT_same.reshape(11,10,6)\n",
    "MC_same=MC_same.reshape(11,10,6)"
   ]
  },
  {
   "cell_type": "code",
   "execution_count": 15,
   "metadata": {},
   "outputs": [
    {
     "data": {
      "application/vnd.jupyter.widget-view+json": {
       "model_id": "ddf28d10903d409f948e5168297cf62a",
       "version_major": 2,
       "version_minor": 0
      },
      "text/plain": [
       "HBox(children=(IntProgress(value=0, max=11), HTML(value='')))"
      ]
     },
     "metadata": {},
     "output_type": "display_data"
    },
    {
     "name": "stdout",
     "output_type": "stream",
     "text": [
      "\n"
     ]
    }
   ],
   "source": [
    "MultiTask_sims=[[[] for j in range(len(NWN))] for i in range(len(onAmp))]\n",
    "for volt in tqdm(range(len(onAmp))):\n",
    "    for i in range(len(NWN)):\n",
    "        for j in [0,5]: #for each modularity (integrated or segregated only)\n",
    "            name2=dataLoc+'NLT+MC_Electrodes_seed10_'+'REWIRED_'+str(i+1)+'_'+str(j+1)+'_'+voltNames[volt]+'v.pkl'\n",
    "            MultiTask_sims[volt][i].append(decompress_pickle(name2))"
   ]
  },
  {
   "cell_type": "code",
   "execution_count": 17,
   "metadata": {},
   "outputs": [
    {
     "data": {
      "application/vnd.jupyter.widget-view+json": {
       "model_id": "c5aadeb96a5c4403a68dbbf84fdc97cf",
       "version_major": 2,
       "version_minor": 0
      },
      "text/plain": [
       "HBox(children=(IntProgress(value=0, max=11), HTML(value='')))"
      ]
     },
     "metadata": {},
     "output_type": "display_data"
    },
    {
     "name": "stdout",
     "output_type": "stream",
     "text": [
      "\n"
     ]
    }
   ],
   "source": [
    "MC_sep=[[[] for j in range(len(NWN))] for i in range(len(onAmp))]\n",
    "for volt in tqdm(range(len(onAmp))):\n",
    "    for i in range(len(NWN)):\n",
    "        name2=dataLoc+'MC_ElectrodesSeparated_seed10_'+'2modules_Rewired_Network_'+str(i+1)+'_'+voltNames[volt]+'v.pkl'\n",
    "        MC_sep[volt][i].append(decompress_pickle(name2))"
   ]
  },
  {
   "cell_type": "code",
   "execution_count": 18,
   "metadata": {},
   "outputs": [
    {
     "data": {
      "application/vnd.jupyter.widget-view+json": {
       "model_id": "67c68c6c31ef4c31a7787ca476dbb408",
       "version_major": 2,
       "version_minor": 0
      },
      "text/plain": [
       "HBox(children=(IntProgress(value=0, max=11), HTML(value='')))"
      ]
     },
     "metadata": {},
     "output_type": "display_data"
    },
    {
     "name": "stdout",
     "output_type": "stream",
     "text": [
      "\n"
     ]
    }
   ],
   "source": [
    "NLT_sep=[[[] for j in range(len(NWN))] for i in range(len(onAmp))]\n",
    "for volt in tqdm(range(len(onAmp))):\n",
    "    for i in range(len(NWN)):\n",
    "        name2=dataLoc+'NLT_ElectrodesSeparated_seed10_'+'2modules_Rewired_Network_'+str(i+1)+'_'+voltNames[volt]+'v.pkl'\n",
    "        NLT_sep[volt][i].append(decompress_pickle(name2))"
   ]
  },
  {
   "cell_type": "code",
   "execution_count": 29,
   "metadata": {},
   "outputs": [],
   "source": [
    "# MC=np.mean(MC,axis=0)\n",
    "# NLT=np.mean(NLT,axis=0)"
   ]
  },
  {
   "cell_type": "code",
   "execution_count": 30,
   "metadata": {},
   "outputs": [],
   "source": [
    "# MC=np.array(np.double(MC)).reshape(11,20)\n",
    "# NLT=np.array(np.double(NLT)).reshape(11,20)"
   ]
  },
  {
   "cell_type": "code",
   "execution_count": 31,
   "metadata": {},
   "outputs": [],
   "source": [
    "# compressed_pickle([MC,NLT],dataLoc+'MovieDataMC+NLT.pkl')"
   ]
  },
  {
   "cell_type": "code",
   "execution_count": 32,
   "metadata": {},
   "outputs": [],
   "source": [
    "# MC=np.array(np.double(MC)).reshape(11,2,10)\n",
    "# NLT=np.array(np.double(NLT)).reshape(11,2,10)"
   ]
  },
  {
   "cell_type": "code",
   "execution_count": 16,
   "metadata": {},
   "outputs": [
    {
     "data": {
      "image/png": "[encoded data removed]",
      "text/plain": [
       "<Figure size 720x576 with 1 Axes>"
      ]
     },
     "metadata": {
      "needs_background": "light"
     },
     "output_type": "display_data"
    }
   ],
   "source": [
    "plt.figure(figsize=(10,8))\n",
    "plt.imshow(np.mean(MC_same,axis=1),aspect='auto')\n",
    "for (j,i),label in np.ndenumerate((np.mean(MC_same,axis=1))):\n",
    "    plt.text(i,j,np.around(label,2),ha='center',va='center',color='k')"
   ]
  },
  {
   "cell_type": "code",
   "execution_count": 34,
   "metadata": {},
   "outputs": [
    {
     "data": {
      "image/png": "[encoded data removed]",
      "text/plain": [
       "<Figure size 720x576 with 1 Axes>"
      ]
     },
     "metadata": {
      "needs_background": "light"
     },
     "output_type": "display_data"
    }
   ],
   "source": [
    "plt.figure(figsize=(10,8))\n",
    "plt.imshow(np.mean(NLT_same,axis=1),aspect='auto')\n",
    "for (j,i),label in np.ndenumerate((np.mean(NLT_same,axis=1))):\n",
    "    plt.text(i,j,np.around(label,2),ha='center',va='center',color='k')"
   ]
  },
  {
   "cell_type": "code",
   "execution_count": 362,
   "metadata": {},
   "outputs": [
    {
     "data": {
      "application/vnd.jupyter.widget-view+json": {
       "model_id": "",
       "version_major": 2,
       "version_minor": 0
      },
      "text/plain": [
       "HBox(children=(IntProgress(value=0, max=11), HTML(value='')))"
      ]
     },
     "metadata": {},
     "output_type": "display_data"
    }
   ],
   "source": [
    "# MultiTask_sims_lastTimeframe=[[[] for j in range(len(NWN))] for i in range(len(onAmp))]\n",
    "# for volt in tqdm(range(len(onAmp))):\n",
    "#     for i in range(len(NWN)):\n",
    "#         for j in range(numNWs): #for each modularity (integrated or segregated only)\n",
    "#             name2=dataLoc+'NLT+MC_Electrodes_seed10_'+'REWIREDNetworkComparison_'+str(i+1)+'_'+str(j+1)+'_'+voltNames[volt]+'v.pkl'\n",
    "#             MultiTask_sims_lastTimeframe[volt][i].append(decompress_pickle(name2))"
   ]
  },
  {
   "cell_type": "code",
   "execution_count": 29,
   "metadata": {},
   "outputs": [
    {
     "data": {
      "text/plain": [
       "[<matplotlib.lines.Line2D at 0x7fe9e8ed7da0>]"
      ]
     },
     "execution_count": 29,
     "metadata": {},
     "output_type": "execute_result"
    },
    {
     "data": {
      "image/png": "[encoded data removed]",
      "text/plain": [
       "<Figure size 432x288 with 1 Axes>"
      ]
     },
     "metadata": {
      "needs_background": "light"
     },
     "output_type": "display_data"
    }
   ],
   "source": [
    "plt.plot(MultiTask_sims[5][0][0]['JunctionConductance'][550]-MultiTask_sims[5][0][0]['JunctionConductance'][500])"
   ]
  },
  {
   "cell_type": "code",
   "execution_count": 19,
   "metadata": {},
   "outputs": [],
   "source": [
    "def getWeightedGraph(sims,network,edgeList,numWires,time):#, this_TimeStamp = 0):\n",
    "#     edgeList = network['edge_list']\n",
    "    adjMat = np.zeros((numWires, numWires))\n",
    "#     set_trace()\n",
    "    adjMat[edgeList[:,0], edgeList[:,1]] = sims['JunctionConductance'][time]#network.junctionSwitch[this_TimeStamp,:] #CHANGE THIS TO CONDUCTANCE THRESHOLD?\n",
    "    adjMat[edgeList[:,1], edgeList[:,0]] = sims['JunctionConductance'][time]#network.junctionSwitch[this_TimeStamp,:] #CHANGE THIS TO CONDUCTANCE THRESHOLD?\n",
    "    WeightedGraph = nx.from_numpy_array(adjMat)\n",
    "    WeightedGraph=nx.DiGraph.to_undirected(WeightedGraph)\n",
    "    \n",
    "    return WeightedGraph"
   ]
  },
  {
   "cell_type": "code",
   "execution_count": 20,
   "metadata": {},
   "outputs": [],
   "source": [
    "from IPython.display import clear_output"
   ]
  },
  {
   "cell_type": "code",
   "execution_count": 21,
   "metadata": {},
   "outputs": [],
   "source": [
    "def image_draw_sep(nwnum,newOnAmp,minWeights,maxWeights,time,task):\n",
    "#     ax.clear()\n",
    "\n",
    "    if task == 'NLT':\n",
    "        sim=NLT_sep[newOnAmp][nwnum][0]\n",
    "        graph=graphNLT[nwnum]\n",
    "    elif task == 'MC':\n",
    "        sim=MC_sep[newOnAmp][nwnum][0]\n",
    "        graph=graphMC[nwnum]\n",
    "    else:\n",
    "        print('NLT or MC tasks only')\n",
    "        \n",
    "    if time == 0:\n",
    "        sys.stdout.flush()\n",
    "        sys.stdout.write(\"\\b\" * (1000+1)) # return to start of line, after '['\n",
    "    sys.stdout.write('\\r'+str(np.around((time/1000)*100,2))+'%')\n",
    "    sys.stdout.flush()\n",
    "    #use sample network to show functional graph\n",
    "    network=np.array(nx.adjacency_matrix(graph).todense()) \n",
    "    sources=sim['Source']\n",
    "    drains=sim['Drain']\n",
    "    OGgraph=graph.copy()\n",
    "    pos=nx.kamada_kawai_layout(OGgraph)\n",
    "    numWires=graph.number_of_nodes()\n",
    "    edgeList=np.array(list(graph.edges()))\n",
    "    weightedSubGraph=getWeightedGraph(sim,network,edgeList,numWires,time)\n",
    "            \n",
    "    #Draw:\n",
    "    G=weightedSubGraph\n",
    "    edge_weights=nx.get_edge_attributes(G,'weight')\n",
    "    G.remove_edges_from((e for e, w in edge_weights.items() if w <1e-6)) \n",
    "    edges=G.edges()\n",
    "    weights=[G[u][v]['weight'] for u,v in edges]\n",
    "    \n",
    "    #draw OG graph\n",
    "    pos=nx.kamada_kawai_layout(OGgraph)\n",
    "    h=nx.draw_networkx_nodes(OGgraph,pos=pos,node_color='grey',node_size=10,ax=ax)\n",
    "    h.set_zorder(1)\n",
    "\n",
    "    h2=nx.draw_networkx_edges(G,pos=pos,ax=ax,edge_color=weights,edge_cmap=plt.cm.inferno,edge_vmin=minWeights,edge_vmax=maxWeights)\n",
    "    if h2:\n",
    "        h2.set_norm(clrs.SymLogNorm(10))\n",
    "        h2.set_zorder(3)\n",
    "#             if j == 10 and i == 6:\n",
    "#                 plt.colorbar(h2)\n",
    "    nx.draw_networkx_nodes(G,pos=pos,nodelist=sources,node_color='#3f9b0b',node_size=120,node_shape ='*',ax=ax)\n",
    "    nx.draw_networkx_nodes(G,pos=pos,nodelist=drains,node_color='#7e1e9c',node_size=120,node_shape ='*',ax=ax)\n",
    "    ax.set_frame_on(False)\n",
    "\n",
    "    ax.set_yticks([])\n",
    "    ax.set_xticks([])"
   ]
  },
  {
   "cell_type": "code",
   "execution_count": 84,
   "metadata": {},
   "outputs": [],
   "source": [
    "def image_draw(nwnum,newOnAmp,mod,minWeights,maxWeights,time):\n",
    "#     ax.clear()\n",
    "    if time == 0:\n",
    "        sys.stdout.flush()\n",
    "        sys.stdout.write(\"\\b\" * (1000+1)) # return to start of line, after '['\n",
    "    sys.stdout.write('\\r'+str(np.around((time/1000)*100,2))+'%')\n",
    "    sys.stdout.flush()\n",
    "    #use sample network to show functional graph\n",
    "    sim=MultiTask_sims[newOnAmp][nwnum][mod]\n",
    "    if mod == 1:\n",
    "        graphmod=5\n",
    "    else:\n",
    "        graphmod=0\n",
    "    network=np.array(nx.adjacency_matrix(graph[nwnum][graphmod]).todense()) \n",
    "    sources=sim['Source']\n",
    "    drains=sim['Drain']\n",
    "    OGgraph=graph[nwnum][graphmod].copy()\n",
    "    pos=nx.kamada_kawai_layout(OGgraph)\n",
    "    numWires=graph[nwnum][graphmod].number_of_nodes()\n",
    "    edgeList=np.array(list(graph[nwnum][graphmod].edges()))\n",
    "    weightedSubGraph=getWeightedGraph(sim,network,edgeList,numWires,time)\n",
    "\n",
    "#     maxNW=np.argmax(MultiTask_sims[newOnAmp][nwnum][mod])\n",
    "#     minNW=np.argmin(MultiTask_sims[newOnAmp][nwnum][mod])\n",
    "#     G=weightedSubGraph\n",
    "#     edges=G.edges()\n",
    "#     weights1=[G[u][v]['weight'] for u,v in edges]\n",
    "            \n",
    "    #Draw:\n",
    "    G=weightedSubGraph\n",
    "    edge_weights=nx.get_edge_attributes(G,'weight')\n",
    "    G.remove_edges_from((e for e, w in edge_weights.items() if w <1e-6)) \n",
    "    edges=G.edges()\n",
    "    weights=[G[u][v]['weight'] for u,v in edges]\n",
    "    \n",
    "    #draw OG graph\n",
    "    pos=nx.kamada_kawai_layout(OGgraph)\n",
    "    h=nx.draw_networkx_nodes(OGgraph,pos=pos,node_color='grey',node_size=10,ax=ax)\n",
    "    h.set_zorder(1)\n",
    "\n",
    "    h2=nx.draw_networkx_edges(G,pos=pos,ax=ax,edge_color=weights,edge_cmap=plt.cm.inferno,edge_vmin=minWeights,edge_vmax=maxWeights)\n",
    "    if h2:\n",
    "        h2.set_norm(clrs.SymLogNorm(10))\n",
    "        h2.set_zorder(3)\n",
    "#             if j == 10 and i == 6:\n",
    "\n",
    "    nx.draw_networkx_nodes(G,pos=pos,nodelist=sources,node_color='#3f9b0b',node_size=120,node_shape ='*',ax=ax)\n",
    "    nx.draw_networkx_nodes(G,pos=pos,nodelist=drains,node_color='#7e1e9c',node_size=120,node_shape ='*',ax=ax)\n",
    "    ax.set_frame_on(False)\n",
    "\n",
    "    ax.set_yticks([])\n",
    "    ax.set_xticks([])\n"
   ]
  },
  {
   "cell_type": "code",
   "execution_count": 81,
   "metadata": {},
   "outputs": [
    {
     "data": {
      "text/plain": [
       "0"
      ]
     },
     "execution_count": 81,
     "metadata": {},
     "output_type": "execute_result"
    }
   ],
   "source": [
    "time"
   ]
  },
  {
   "cell_type": "code",
   "execution_count": 83,
   "metadata": {},
   "outputs": [
    {
     "name": "stdout",
     "output_type": "stream",
     "text": [
      "10.0%"
     ]
    },
    {
     "data": {
      "image/png": "[encoded data removed]",
      "text/plain": [
       "<Figure size 432x288 with 3 Axes>"
      ]
     },
     "metadata": {
      "needs_background": "light"
     },
     "output_type": "display_data"
    }
   ],
   "source": [
    "fig,ax=plt.subplots(1)\n",
    "image_draw(1,2,1,1e-7,1e-4,999)\n",
    "image_draw(1,2,1,1e-7,1e-4,100)\n",
    "\n",
    "plt.show()"
   ]
  },
  {
   "cell_type": "code",
   "execution_count": 50,
   "metadata": {},
   "outputs": [],
   "source": [
    "import matplotlib\n",
    "from matplotlib import animation\n",
    "from PIL import Image"
   ]
  },
  {
   "cell_type": "code",
   "execution_count": 182,
   "metadata": {
    "scrolled": true
   },
   "outputs": [
    {
     "name": "stdout",
     "output_type": "stream",
     "text": [
      "\b\b\b\b\b\b\b\b\b\b\b\b\b\b\b\b\b\b\b\b\b\b\b\b\b\b\b\b\b\b\b\b\b\b\b\b\b\b\b\b\b\b\b\b\b\b\b\b\b\b\b\b\b\b\b\b\b\b\b\b\b\b\b\b\b\b\b\b\b\b\b\b\b\b\b\b\b\b\b\b\b\b\b\b\b\b\b\b\b\b\b\b\b\b\b\b\b\b\b\b\b\b\b\b\b\b\b\b\b\b\b\b\b\b\b\b\b\b\b\b\b\b\b\b\b\b\b\b\b\b\b\b\b\b\b\b\b\b\b\b\b\b\b\b\b\b\b\b\b\b\b\b\b\b\b\b\b\b\b\b\b\b\b\b\b\b\b\b\b\b\b\b\b\b\b\b\b\b\b\b\b\b\b\b\b\b\b\b\b\b\b\b\b\b\b\b\b\b\b\b\b\b\b\b\b\b\b\b\b\b\b\b\b\b\b\b\b\b\b\b\b\b\b\b\b\b\b\b\b\b\b\b\b\b\b\b\b\b\b\b\b\b\b\b\b\b\b\b\b\b\b\b\b\b\b\b\b\b\b\b\b\b\b\b\b\b\b\b\b\b\b\b\b\b\b\b\b\b\b\b\b\b\b\b\b\b\b\b\b\b\b\b\b\b\b\b\b\b\b\b\b\b\b\b\b\b\b\b\b\b\b\b\b\b\b\b\b\b\b\b\b\b\b\b\b\b\b\b\b\b\b\b\b\b\b\b\b\b\b\b\b\b\b\b\b\b\b\b\b\b\b\b\b\b\b\b\b\b\b\b\b\b\b\b\b\b\b\b\b\b\b\b\b\b\b\b\b\b\b\b\b\b\b\b\b\b\b\b\b\b\b\b\b\b\b\b\b\b\b\b\b\b\b\b\b\b\b\b\b\b\b\b\b\b\b\b\b\b\b\b\b\b\b\b\b\b\b\b\b\b\b\b\b\b\b\b\b\b\b\b\b\b\b\b\b\b\b\b\b\b\b\b\b\b\b\b\b\b\b\b\b\b\b\b\b\b\b\b\b\b\b\b\b\b\b\b\b\b\b\b\b\b\b\b\b\b\b\b\b\b\b\b\b\b\b\b\b\b\b\b\b\b\b\b\b\b\b\b\b\b\b\b\b\b\b\b\b\b\b\b\b\b\b\b\b\b\b\b\b\b\b\b\b\b\b\b\b\b\b\b\b\b\b\b\b\b\b\b\b\b\b\b\b\b\b\b\b\b\b\b\b\b\b\b\b\b\b\b\b\b\b\b\b\b\b\b\b\b\b\b\b\b\b\b\b\b\b\b\b\b\b\b\b\b\b\b\b\b\b\b\b\b\b\b\b\b\b\b\b\b\b\b\b\b\b\b\b\b\b\b\b\b\b\b\b\b\b\b\b\b\b\b\b\b\b\b\b\b\b\b\b\b\b\b\b\b\b\b\b\b\b\b\b\b\b\b\b\b\b\b\b\b\b\b\b\b\b\b\b\b\b\b\b\b\b\b\b\b\b\b\b\b\b\b\b\b\b\b\b\b\b\b\b\b\b\b\b\b\b\b\b\b\b\b\b\b\b\b\b\b\b\b\b\b\b\b\b\b\b\b\b\b\b\b\b\b\b\b\b\b\b\b\b\b\b\b\b\b\b\b\b\b\b\b\b\b\b\b\b\b\b\b\b\b\b\b\b\b\b\b\b\b\b\b\b\b\b\b\b\b\b\b\b\b\b\b\b\b\b\b\b\b\b\b\b\b\b\b\b\b\b\b\b\b\b\b\b\b\b\b\b\b\b\b\b\b\b\b\b\b\b\b\b\b\b\b\b\b\b\b\b\b\b\b\b\b\b\b\b\b\b\b\b\b\b\b\b\b\b\b\b\b\b\b\b\b\b\b\b\b\b\b\b\b\b\b\b\b\b\b\b\b\b\b\b\b\b\b\b\b\b\b\b\b\b\b\b\b\b\b\b\b\b\b\b\b\b\b\b\b\b\b\b\b\b\b\b\b\b\b\b\b\b\b\b\b\b\b\b\b\b\b\b\b\b\b\b\b\b\b\b\b\b\b\b\b\b\b\b\b\b\b\b\b\b\b\b\b\b\b\b\b\b\b\b\b\b\b\b\b\b\b\b\b\b\b\b\b\b\b\b\b\b\b\b\b\b\b\b\b\b\b\b\b\b\b\b\b\b\b\b\b\b\b\b\b\b\b\b\b\b\b\b\b\b\b\b\b\b\b\b\r",
      "0.0%"
     ]
    },
    {
     "data": {
      "image/png": "[encoded data removed]",
      "text/plain": [
       "<Figure size 500x400 with 3 Axes>"
      ]
     },
     "metadata": {
      "needs_background": "light"
     },
     "output_type": "display_data"
    }
   ],
   "source": [
    "#Generate Movie \n",
    "\n",
    "nwnum=1\n",
    "newOnAmp=4 #[1,3,4]\n",
    "mod=0\n",
    "time=0\n",
    "minWeights=1e-7\n",
    "maxWeights=1e-4\n",
    "\n",
    "f,[ax,cax] = plt.subplots(1,2, gridspec_kw={\"width_ratios\":[50,1]},frameon=False, figsize=(5, 4), dpi=100)\n",
    "canvas_width, canvas_height = f.canvas.get_width_height()\n",
    "ax.axis('off')\n",
    "cax.axis('off')\n",
    "\n",
    "#This is a dirty work around for a colorbar\n",
    "clrplt=np.linspace(minWeights,maxWeights,2).reshape(2,1)\n",
    "img=cax.imshow(clrplt,cmap=plt.cm.inferno,norm=clrs.LogNorm())\n",
    "cax.set_visible(False)\n",
    "formatter = LogFormatter(10, labelOnlyBase=False) \n",
    "plt.colorbar(img,ax=cax,cmap=plt.cm.inferno,fraction=2, pad=0.04,format=formatter)\n",
    "\n",
    "def animate(time): #animate\n",
    "    image_draw(nwnum,newOnAmp,mod,minVal,maxVal,time) #nwnum,newOnAmp,mod\n",
    "anim = animation.FuncAnimation(f, animate, frames=range(1000)[::2], interval=100, repeat=False)"
   ]
  },
  {
   "cell_type": "code",
   "execution_count": 165,
   "metadata": {},
   "outputs": [],
   "source": []
  },
  {
   "cell_type": "code",
   "execution_count": 131,
   "metadata": {},
   "outputs": [
    {
     "name": "stdout",
     "output_type": "stream",
     "text": [
      "\b\b\b\b\b\b\b\b\b\b\b\b\b\b\b\b\b\b\b\b\b\b\b\b\b\b\b\b\b\b\b\b\b\b\b\b\b\b\b\b\b\b\b\b\b\b\b\b\b\b\b\b\b\b\b\b\b\b\b\b\b\b\b\b\b\b\b\b\b\b\b\b\b\b\b\b\b\b\b\b\b\b\b\b\b\b\b\b\b\b\b\b\b\b\b\b\b\b\b\b\b\b\b\b\b\b\b\b\b\b\b\b\b\b\b\b\b\b\b\b\b\b\b\b\b\b\b\b\b\b\b\b\b\b\b\b\b\b\b\b\b\b\b\b\b\b\b\b\b\b\b\b\b\b\b\b\b\b\b\b\b\b\b\b\b\b\b\b\b\b\b\b\b\b\b\b\b\b\b\b\b\b\b\b\b\b\b\b\b\b\b\b\b\b\b\b\b\b\b\b\b\b\b\b\b\b\b\b\b\b\b\b\b\b\b\b\b\b\b\b\b\b\b\b\b\b\b\b\b\b\b\b\b\b\b\b\b\b\b\b\b\b\b\b\b\b\b\b\b\b\b\b\b\b\b\b\b\b\b\b\b\b\b\b\b\b\b\b\b\b\b\b\b\b\b\b\b\b\b\b\b\b\b\b\b\b\b\b\b\b\b\b\b\b\b\b\b\b\b\b\b\b\b\b\b\b\b\b\b\b\b\b\b\b\b\b\b\b\b\b\b\b\b\b\b\b\b\b\b\b\b\b\b\b\b\b\b\b\b\b\b\b\b\b\b\b\b\b\b\b\b\b\b\b\b\b\b\b\b\b\b\b\b\b\b\b\b\b\b\b\b\b\b\b\b\b\b\b\b\b\b\b\b\b\b\b\b\b\b\b\b\b\b\b\b\b\b\b\b\b\b\b\b\b\b\b\b\b\b\b\b\b\b\b\b\b\b\b\b\b\b\b\b\b\b\b\b\b\b\b\b\b\b\b\b\b\b\b\b\b\b\b\b\b\b\b\b\b\b\b\b\b\b\b\b\b\b\b\b\b\b\b\b\b\b\b\b\b\b\b\b\b\b\b\b\b\b\b\b\b\b\b\b\b\b\b\b\b\b\b\b\b\b\b\b\b\b\b\b\b\b\b\b\b\b\b\b\b\b\b\b\b\b\b\b\b\b\b\b\b\b\b\b\b\b\b\b\b\b\b\b\b\b\b\b\b\b\b\b\b\b\b\b\b\b\b\b\b\b\b\b\b\b\b\b\b\b\b\b\b\b\b\b\b\b\b\b\b\b\b\b\b\b\b\b\b\b\b\b\b\b\b\b\b\b\b\b\b\b\b\b\b\b\b\b\b\b\b\b\b\b\b\b\b\b\b\b\b\b\b\b\b\b\b\b\b\b\b\b\b\b\b\b\b\b\b\b\b\b\b\b\b\b\b\b\b\b\b\b\b\b\b\b\b\b\b\b\b\b\b\b\b\b\b\b\b\b\b\b\b\b\b\b\b\b\b\b\b\b\b\b\b\b\b\b\b\b\b\b\b\b\b\b\b\b\b\b\b\b\b\b\b\b\b\b\b\b\b\b\b\b\b\b\b\b\b\b\b\b\b\b\b\b\b\b\b\b\b\b\b\b\b\b\b\b\b\b\b\b\b\b\b\b\b\b\b\b\b\b\b\b\b\b\b\b\b\b\b\b\b\b\b\b\b\b\b\b\b\b\b\b\b\b\b\b\b\b\b\b\b\b\b\b\b\b\b\b\b\b\b\b\b\b\b\b\b\b\b\b\b\b\b\b\b\b\b\b\b\b\b\b\b\b\b\b\b\b\b\b\b\b\b\b\b\b\b\b\b\b\b\b\b\b\b\b\b\b\b\b\b\b\b\b\b\b\b\b\b\b\b\b\b\b\b\b\b\b\b\b\b\b\b\b\b\b\b\b\b\b\b\b\b\b\b\b\b\b\b\b\b\b\b\b\b\b\b\b\b\b\b\b\b\b\b\b\b\b\b\b\b\b\b\b\b\b\b\b\b\b\b\b\b\b\b\b\b\b\b\b\b\b\b\b\b\b\b\b\b\b\b\b\b\b\b\b\b\b\b\b\b\b\b\b\b\b\b\b\b\b\b\b\b\b\b\b\b\b\b\b\b\b\b\b\b\b\b\b\b\b\b\b\b\b\b\b\b\b\b\b\b\b\b\b\b\b\b\b\b\b\b\b\b\b\b\b\b\b\b\b\b\b\b\b\b\b\b\b\b\b\b\b\r",
      "0.0%"
     ]
    },
    {
     "data": {
      "image/png": "[encoded data removed]",
      "text/plain": [
       "<Figure size 500x400 with 1 Axes>"
      ]
     },
     "metadata": {},
     "output_type": "display_data"
    }
   ],
   "source": [
    "#Generate Movie SEPARATED\n",
    "task='MC'\n",
    "nwnum=1\n",
    "newOnAmp=3 #[1,3,4]\n",
    "mod=1\n",
    "time=0\n",
    "\n",
    "f = plt.figure(frameon=False, figsize=(5, 4), dpi=100)\n",
    "canvas_width, canvas_height = f.canvas.get_width_height()\n",
    "ax = f.add_axes([0, 0, 1, 1])\n",
    "ax.axis('off')\n",
    "# image=image_draw(nwnum,newOnAmp,mod,1e-6,1e-4,time)\n",
    "# plt.show()\n",
    "def animate(time):\n",
    "    image_draw_sep(nwnum,newOnAmp,1e-7,1e-4,time,task) #nwnum,newOnAmp,mod\n",
    "   \n",
    "anim = animation.FuncAnimation(f, animate, frames=range(1000)[::2], interval=100, repeat=False)"
   ]
  },
  {
   "cell_type": "code",
   "execution_count": 132,
   "metadata": {},
   "outputs": [
    {
     "name": "stderr",
     "output_type": "stream",
     "text": [
      "2021-04-14 11:41:22,552:INFO:Animation.save using <class 'matplotlib.animation.PillowWriter'>\n"
     ]
    },
    {
     "name": "stdout",
     "output_type": "stream",
     "text": [
      "99.8%"
     ]
    }
   ],
   "source": [
    "matplotlib.rcParams['animation.embed_limit'] = 2**64\n",
    "# s=anim.to_jshtml(fps=30)\n",
    "anim.save(saveFig+'nw'+str(nwnum)+'_Separated'+'_animation_'+task+'_'+voltNames[newOnAmp]+'v.gif', writer=animation.PillowWriter(fps=30))\n"
   ]
  },
  {
   "cell_type": "code",
   "execution_count": 183,
   "metadata": {},
   "outputs": [
    {
     "name": "stderr",
     "output_type": "stream",
     "text": [
      "2021-06-11 11:32:15,500:INFO:Animation.save using <class 'matplotlib.animation.PillowWriter'>\n"
     ]
    },
    {
     "name": "stdout",
     "output_type": "stream",
     "text": [
      "99.8%"
     ]
    }
   ],
   "source": [
    "#Unseparated\n",
    "matplotlib.rcParams['animation.embed_limit'] = 2**64\n",
    "anim.save(saveFig+'nw'+str(nwnum)+'_animation_'+voltNames[newOnAmp]+'v.gif', writer=animation.PillowWriter(fps=30))"
   ]
  },
  {
   "cell_type": "code",
   "execution_count": 110,
   "metadata": {},
   "outputs": [],
   "source": [
    "#Separated\n",
    "with open(saveFig+'nw'+str(nwnum)+'_Separated'+'_animation_'+task+'_'+voltNames[newOnAmp]+'v.html', \"w\") as f:\n",
    "    f.write(s)"
   ]
  },
  {
   "cell_type": "code",
   "execution_count": null,
   "metadata": {},
   "outputs": [],
   "source": []
  }
 ],
 "metadata": {
  "kernelspec": {
   "display_name": "Python 3",
   "language": "python",
   "name": "python3"
  },
  "language_info": {
   "codemirror_mode": {
    "name": "ipython",
    "version": 3
   },
   "file_extension": ".py",
   "mimetype": "text/x-python",
   "name": "python",
   "nbconvert_exporter": "python",
   "pygments_lexer": "ipython3",
   "version": "3.8.5"
  }
 },
 "nbformat": 4,
 "nbformat_minor": 2
}
