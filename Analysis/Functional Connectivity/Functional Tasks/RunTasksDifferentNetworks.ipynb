{
 "cells": [
  {
   "cell_type": "markdown",
   "metadata": {},
   "source": [
    "# Functional Comparison of ASN with WS and C. Elegans"
   ]
  },
  {
   "cell_type": "markdown",
   "metadata": {},
   "source": [
    "This notebook generates 24 different ASN networks with 300 nodes, each of which has differing parameters (Average Path length, Wire Dispersion and Centroid Dispersion). \n",
    "\n",
    "We then find the average degree for each ASN network, and use that as 2k to generate corresponding grid-like, small-world and random Watts-Strogatz networks.\n",
    "\n",
    "We also load a sample C. Elegans network for comparison."
   ]
  },
  {
   "cell_type": "code",
   "execution_count": 1,
   "metadata": {},
   "outputs": [
    {
     "name": "stdout",
     "output_type": "stream",
     "text": [
      "C:\\Users\\aloe8475\\Dropbox (Sydney Uni)\\Data\\ASN_simulation\\Python\\edamame\n"
     ]
    }
   ],
   "source": [
    "cd \"C:\\Users\\aloe8475\\Dropbox (Sydney Uni)\\Data\\ASN_simulation\\Python\\edamame\""
   ]
  },
  {
   "cell_type": "code",
   "execution_count": 2,
   "metadata": {},
   "outputs": [],
   "source": [
    "from scipy.io import loadmat, savemat\n",
    "import numpy as np\n",
    "import matplotlib.pyplot as plt\n",
    "from matplotlib import colors\n",
    "import seaborn as sns\n",
    "import datetime\n",
    "import networkx as nx\n",
    "from edamame import *\n",
    "from tqdm import tqdm_notebook\n",
    "import os\n",
    "import edamame.core.wires as wires\n",
    "from random import choice\n",
    "import warnings\n",
    "from IPython.core.debugger import set_trace\n",
    "import nct\n",
    "import bct\n",
    "\n",
    "warnings.filterwarnings('ignore')"
   ]
  },
  {
   "cell_type": "markdown",
   "metadata": {},
   "source": [
    "## Generate 300nw ASN + C. Elegans:"
   ]
  },
  {
   "cell_type": "code",
   "execution_count": 3,
   "metadata": {},
   "outputs": [],
   "source": [
    "cElegans=loadmat(r\"C:\\Users\\aloe8475\\Documents\\PhD\\GitHub\\CODE\\Data\\Organic Networks Connectomes\\celegans277neurons.mat\")"
   ]
  },
  {
   "cell_type": "code",
   "execution_count": 4,
   "metadata": {},
   "outputs": [],
   "source": [
    "#set up dictionary for celegans:\n",
    "Elegans={'adj_matrix':[],'G':[],'Accuracy':{'Linear Transformation':[],'Mackey Glass':[],'MNIST':[]},'Graph Theory':{'Small World':[],'Modularity':[],'CCoeff':[],'MZ':[],'PCoeff':[],'PL':[]}}"
   ]
  },
  {
   "cell_type": "code",
   "execution_count": null,
   "metadata": {},
   "outputs": [],
   "source": [
    "elegansMat=cElegans['celegans277matrix']\n",
    "elegansGraph = nx.from_numpy_array(elegansMat)\n",
    "Elegans['adj_matrix']=elegansMat\n",
    "Elegans['G']=elegansGraph"
   ]
  },
  {
   "cell_type": "code",
   "execution_count": 5,
   "metadata": {},
   "outputs": [
    {
     "data": {
      "text/plain": [
       "<function edamame.core.wires.generate_wires_distribution(number_of_wires=1500, wire_av_length=14.0, wire_dispersion=5.0, centroid_dispersion=1200.0, gennorm_shape=5, Lx=3000.0, Ly=3000.0, this_seed=None)>"
      ]
     },
     "execution_count": 5,
     "metadata": {},
     "output_type": "execute_result"
    }
   ],
   "source": [
    "wires.generate_wires_distribution"
   ]
  },
  {
   "cell_type": "code",
   "execution_count": 6,
   "metadata": {},
   "outputs": [],
   "source": [
    "#Set Paramaters for network generation: Centroid Dispersion, Wire Dispersion + Length of Wires\n",
    "this_seed=1779#np.random.randint(10000)#5772\n",
    "params={'Centroid':np.arange(100,400,50),'Wire Dispersion':[1.0, 2.5, 5.0, 7.5, 10.0, 25.0, 50.0, 75.0, 100.0, 250.0],'Length':np.arange(100,300,25)}\n",
    "numNetworks=len(params['Centroid'])+len(params['Wire Dispersion'])+len(params['Length']) #all parameters)\n",
    "ASN300=[None]*numNetworks\n",
    "\n",
    "#Generate networks based on params \n",
    "for i in range(numNetworks):\n",
    "    #loop through different parameter sets:\n",
    "    if i < len(params['Centroid']):\n",
    "        ASN300[i]=wires.generate_wires_distribution(300,this_seed=this_seed,wire_dispersion=10,centroid_dispersion=params['Centroid'][i],wire_av_length=100)\n",
    "        count = 0\n",
    "        while ASN300[i]==None: #make sure the networks aren't empty\n",
    "            count=count+1\n",
    "            randSeed2=np.random.randint(count,100000) #size = number of networks of each size\n",
    "            ASN300[i]=wires.generate_wires_distribution(300,wire_dispersion=10,centroid_dispersion=params['Centroid'][i],this_seed=randSeed2,wire_av_length=100)#, max_iters=2)\n",
    "    elif i >= len(params['Centroid']) and i < len(params['Centroid'])+len(params['Wire Dispersion']):\n",
    "        ASN300[i]=wires.generate_wires_distribution(300,this_seed=this_seed,centroid_dispersion=350,wire_dispersion=params['Wire Dispersion'][i-len(params['Centroid'])],wire_av_length=100)\n",
    "        count = 0;\n",
    "        while ASN300[i]==None: #make sure the networks aren't empty\n",
    "            count=count+1\n",
    "            randSeed2=np.random.randint(count,100000) #size = number of networks of each size\n",
    "            ASN300[i]=wires.generate_wires_distribution(300,centroid_dispersion=350,wire_dispersion=params['Wire Dispersion'][i-6],this_seed=randSeed2,wire_av_length=100)#, max_iters=2)\n",
    "                    \n",
    "    else:\n",
    "        ASN300[i]=wires.generate_wires_distribution(300,this_seed=this_seed,centroid_dispersion=350,wire_dispersion=10,wire_av_length=params['Length'][i-(len(params['Centroid'])+len(params['Wire Dispersion']))],)\n",
    "        count = 0;\n",
    "        while ASN300[i]==None: #make sure the networks aren't empty\n",
    "            count=count+1\n",
    "            randSeed2=np.random.randint(count,100000) #size = number of networks of each size\n",
    "            ASN300[i]=wires.generate_wires_distribution(300,centroid_dispersion=350,wire_dispersion=10,wire_av_length=params['Length'][i-16],this_seed=randSeed2)#, max_iters=2) "
   ]
  },
  {
   "cell_type": "code",
   "execution_count": null,
   "metadata": {},
   "outputs": [],
   "source": [
    "#set up accuracy dictionary for ASN\n",
    "for i in range(len(ASN300)):\n",
    "    ASN300[i].update({'Accuracy':{'Linear Transformation':[],'Mackey Glass':[],'MNIST':[]}})"
   ]
  },
  {
   "cell_type": "code",
   "execution_count": 7,
   "metadata": {},
   "outputs": [
    {
     "data": {
      "text/plain": [
       "1779"
      ]
     },
     "execution_count": 7,
     "metadata": {},
     "output_type": "execute_result"
    }
   ],
   "source": [
    "this_seed"
   ]
  },
  {
   "cell_type": "code",
   "execution_count": 8,
   "metadata": {},
   "outputs": [],
   "source": [
    "# this_seed2=700\n",
    "# ASN100=edamame.core.generateNetwork(100,this_seed=this_seed2)\n",
    "def connected_component_subgraphs(G):\n",
    "    for c in nx.connected_components(G):\n",
    "        yield G.subgraph(c)"
   ]
  },
  {
   "cell_type": "code",
   "execution_count": 9,
   "metadata": {},
   "outputs": [],
   "source": [
    "#Select Largest Components\n",
    "def select_largest_component_new(wires_dict):\n",
    "    \"\"\"\n",
    "    Find and select largest connected component of the original graph G.\n",
    "    Throws away unconnected components and updates all the keys in wires_dict \n",
    "    \"\"\"\n",
    "#     def connected_component_subgraphs(G):\n",
    "#         for c in nx.connected_components(G):\n",
    "#             yield G.subgraph(c)\n",
    "    \n",
    "    wires_dict['G'] = max(connected_component_subgraphs(wires_dict['G']), key=len)\n",
    "#     set_trace()\n",
    "    nw = len(wires_dict['G'].nodes())\n",
    "    nj = len(wires_dict['G'].edges())   \n",
    "    \n",
    "    logging.info(\"The largest component has %5d nodes and %6d edges\", nw, nj)\n",
    "\n",
    "    # Replace values in the dictionary\n",
    "    wires_dict['number_of_wires']     = nw\n",
    "    wires_dict['number_of_junctions'] = nj\n",
    "    wires_dict['xa'] = wires_dict['xa'][wires_dict['G'].nodes()] \n",
    "    wires_dict['ya'] = wires_dict['ya'][wires_dict['G'].nodes()] \n",
    "    wires_dict['xb'] = wires_dict['xb'][wires_dict['G'].nodes()] \n",
    "    wires_dict['yb'] = wires_dict['yb'][wires_dict['G'].nodes()]\n",
    "    wires_dict['xc'] = wires_dict['xc'][wires_dict['G'].nodes()] \n",
    "    wires_dict['yc'] = wires_dict['yc'][wires_dict['G'].nodes()]\n",
    " \n",
    "    # Keep old edge_list\n",
    "    old_edge_list = [(ii, kk) for ii, kk in  zip(wires_dict['edge_list'][:, 0], wires_dict['edge_list'][:, 1])]\n",
    "    # Remove old edge list\n",
    "    wires_dict = wires.remove_key(wires_dict, 'edge_list') \n",
    "    # Save indices of intersections in the old graph\n",
    "    ind_dict = {key:value for value,key in enumerate(old_edge_list)}\n",
    "    new_edge_list = sorted([kk if kk[0] < kk[1] else (kk[1], kk[0]) for kk in wires_dict['G'].edges()], key=lambda x: x[0])\n",
    "    # Find intersection between the two sets\n",
    "    inter = set(ind_dict).intersection(new_edge_list)\n",
    "    # Retrieve edge indices/positions from the old list\n",
    "    edges_idx = [ind_dict[idx] for idx in inter]\n",
    "       \n",
    "    # These have length equal to number of junctions -- only get the ones we need\n",
    "    wires_dict['xi'] = wires_dict['xi'][edges_idx] \n",
    "    wires_dict['yi'] = wires_dict['yi'][edges_idx] \n",
    "    \n",
    "    # Get contiguous numbering of nodes\n",
    "    # Build node mapping \n",
    "    node_mapping    = {key:value for value, key in enumerate(sorted(wires_dict['G'].nodes()))}\n",
    "    # This  step also renames edges list\n",
    "    wires_dict['G'] =  nx.relabel_nodes(wires_dict['G'] , node_mapping)\n",
    "\n",
    "    # Swap node vertices if vertex 0 is larger than vertex 1, then sort by first element\n",
    "    wires_dict['edge_list'] = np.asarray(sorted([kk if kk[0] < kk[1] else (kk[1], kk[0]) for kk in wires_dict['G'].edges()], key=lambda x: x[0]))\n",
    "    \n",
    "    # Save adjacency matrix of new graph\n",
    "    wires_dict = wires.remove_key(wires_dict, 'adj_matrix') \n",
    "    wires_dict = wires.generate_adj_matrix(wires_dict)\n",
    "\n",
    "    wire_distances = wires.cdist(np.array([wires_dict['xc'], wires_dict['yc']]).T, np.array([wires_dict['xc'], wires_dict['yc']]).T, metric='euclidean')    \n",
    "    wires_dict['wire_distances'] = wire_distances\n",
    "\n",
    "    return wires_dict "
   ]
  },
  {
   "cell_type": "code",
   "execution_count": 13,
   "metadata": {},
   "outputs": [
    {
     "name": "stderr",
     "output_type": "stream",
     "text": [
      "2020-03-11 14:50:51,057:INFO:Detecting junctions\n"
     ]
    },
    {
     "name": "stdout",
     "output_type": "stream",
     "text": [
      "Network 0\n"
     ]
    },
    {
     "name": "stderr",
     "output_type": "stream",
     "text": [
      "2020-03-11 14:50:51,811:INFO:Finished detecting junctions\n",
      "2020-03-11 14:50:51,847:INFO:The largest component has   300 nodes and   5766 edges\n",
      "2020-03-11 14:50:51,899:INFO:Detecting junctions\n"
     ]
    },
    {
     "name": "stdout",
     "output_type": "stream",
     "text": [
      "Network 1\n"
     ]
    },
    {
     "name": "stderr",
     "output_type": "stream",
     "text": [
      "2020-03-11 14:50:52,589:INFO:Finished detecting junctions\n",
      "2020-03-11 14:50:52,616:INFO:The largest component has   299 nodes and   2696 edges\n",
      "2020-03-11 14:50:52,646:INFO:Detecting junctions\n"
     ]
    },
    {
     "name": "stdout",
     "output_type": "stream",
     "text": [
      "Network 2\n"
     ]
    },
    {
     "name": "stderr",
     "output_type": "stream",
     "text": [
      "2020-03-11 14:50:53,291:INFO:Finished detecting junctions\n",
      "2020-03-11 14:50:53,304:INFO:The largest component has   295 nodes and   1556 edges\n",
      "2020-03-11 14:50:53,325:INFO:Detecting junctions\n"
     ]
    },
    {
     "name": "stdout",
     "output_type": "stream",
     "text": [
      "Network 3\n"
     ]
    },
    {
     "name": "stderr",
     "output_type": "stream",
     "text": [
      "2020-03-11 14:50:53,930:INFO:Finished detecting junctions\n",
      "2020-03-11 14:50:53,940:INFO:The largest component has   288 nodes and   1012 edges\n",
      "2020-03-11 14:50:53,955:INFO:Detecting junctions\n"
     ]
    },
    {
     "name": "stdout",
     "output_type": "stream",
     "text": [
      "Network 4\n"
     ]
    },
    {
     "name": "stderr",
     "output_type": "stream",
     "text": [
      "2020-03-11 14:50:54,447:INFO:Finished detecting junctions\n",
      "2020-03-11 14:50:54,455:INFO:The largest component has   262 nodes and    660 edges\n",
      "2020-03-11 14:50:54,467:INFO:Detecting junctions\n"
     ]
    },
    {
     "name": "stdout",
     "output_type": "stream",
     "text": [
      "Network 5\n"
     ]
    },
    {
     "name": "stderr",
     "output_type": "stream",
     "text": [
      "2020-03-11 14:50:54,835:INFO:Finished detecting junctions\n",
      "2020-03-11 14:50:54,840:INFO:The largest component has   224 nodes and    452 edges\n",
      "2020-03-11 14:50:54,849:INFO:Detecting junctions\n"
     ]
    },
    {
     "name": "stdout",
     "output_type": "stream",
     "text": [
      "Network 6\n"
     ]
    },
    {
     "name": "stderr",
     "output_type": "stream",
     "text": [
      "2020-03-11 14:50:55,271:INFO:Finished detecting junctions\n",
      "2020-03-11 14:50:55,277:INFO:The largest component has   241 nodes and    485 edges\n",
      "2020-03-11 14:50:55,287:INFO:Detecting junctions\n"
     ]
    },
    {
     "name": "stdout",
     "output_type": "stream",
     "text": [
      "Network 7\n"
     ]
    },
    {
     "name": "stderr",
     "output_type": "stream",
     "text": [
      "2020-03-11 14:50:55,698:INFO:Finished detecting junctions\n",
      "2020-03-11 14:50:55,704:INFO:The largest component has   241 nodes and    486 edges\n",
      "2020-03-11 14:50:55,713:INFO:Detecting junctions\n"
     ]
    },
    {
     "name": "stdout",
     "output_type": "stream",
     "text": [
      "Network 8\n"
     ]
    },
    {
     "name": "stderr",
     "output_type": "stream",
     "text": [
      "2020-03-11 14:50:56,125:INFO:Finished detecting junctions\n",
      "2020-03-11 14:50:56,131:INFO:The largest component has   238 nodes and    477 edges\n",
      "2020-03-11 14:50:56,141:INFO:Detecting junctions\n"
     ]
    },
    {
     "name": "stdout",
     "output_type": "stream",
     "text": [
      "Network 9\n"
     ]
    },
    {
     "name": "stderr",
     "output_type": "stream",
     "text": [
      "2020-03-11 14:50:56,542:INFO:Finished detecting junctions\n",
      "2020-03-11 14:50:56,551:INFO:The largest component has   238 nodes and    471 edges\n",
      "2020-03-11 14:50:56,561:INFO:Detecting junctions\n"
     ]
    },
    {
     "name": "stdout",
     "output_type": "stream",
     "text": [
      "Network 10\n"
     ]
    },
    {
     "name": "stderr",
     "output_type": "stream",
     "text": [
      "2020-03-11 14:50:56,935:INFO:Finished detecting junctions\n",
      "2020-03-11 14:50:56,941:INFO:The largest component has   224 nodes and    452 edges\n",
      "2020-03-11 14:50:56,951:INFO:Detecting junctions\n"
     ]
    },
    {
     "name": "stdout",
     "output_type": "stream",
     "text": [
      "Network 11\n"
     ]
    },
    {
     "name": "stderr",
     "output_type": "stream",
     "text": [
      "2020-03-11 14:50:57,314:INFO:Finished detecting junctions\n",
      "2020-03-11 14:50:57,320:INFO:The largest component has   224 nodes and    440 edges\n",
      "2020-03-11 14:50:57,329:INFO:Detecting junctions\n"
     ]
    },
    {
     "name": "stdout",
     "output_type": "stream",
     "text": [
      "Network 12\n"
     ]
    },
    {
     "name": "stderr",
     "output_type": "stream",
     "text": [
      "2020-03-11 14:50:57,558:INFO:Finished detecting junctions\n",
      "2020-03-11 14:50:57,563:INFO:The largest component has   179 nodes and    361 edges\n",
      "2020-03-11 14:50:57,570:INFO:Detecting junctions\n"
     ]
    },
    {
     "name": "stdout",
     "output_type": "stream",
     "text": [
      "Network 13\n"
     ]
    },
    {
     "name": "stderr",
     "output_type": "stream",
     "text": [
      "2020-03-11 14:50:57,922:INFO:Finished detecting junctions\n",
      "2020-03-11 14:50:57,927:INFO:The largest component has   223 nodes and    434 edges\n",
      "2020-03-11 14:50:57,936:INFO:Detecting junctions\n"
     ]
    },
    {
     "name": "stdout",
     "output_type": "stream",
     "text": [
      "Network 14\n"
     ]
    },
    {
     "name": "stderr",
     "output_type": "stream",
     "text": [
      "2020-03-11 14:50:58,234:INFO:Finished detecting junctions\n",
      "2020-03-11 14:50:58,238:INFO:The largest component has   201 nodes and    396 edges\n",
      "2020-03-11 14:50:58,246:INFO:Detecting junctions\n",
      "2020-03-11 14:50:58,345:INFO:Finished detecting junctions\n",
      "2020-03-11 14:50:58,349:INFO:The largest component has   111 nodes and    390 edges\n",
      "2020-03-11 14:50:58,355:INFO:Detecting junctions\n"
     ]
    },
    {
     "name": "stdout",
     "output_type": "stream",
     "text": [
      "Network 15\n",
      "Network 16\n"
     ]
    },
    {
     "name": "stderr",
     "output_type": "stream",
     "text": [
      "2020-03-11 14:50:58,709:INFO:Finished detecting junctions\n",
      "2020-03-11 14:50:58,715:INFO:The largest component has   224 nodes and    452 edges\n",
      "2020-03-11 14:50:58,724:INFO:Detecting junctions\n"
     ]
    },
    {
     "name": "stdout",
     "output_type": "stream",
     "text": [
      "Network 17\n"
     ]
    },
    {
     "name": "stderr",
     "output_type": "stream",
     "text": [
      "2020-03-11 14:50:59,247:INFO:Finished detecting junctions\n",
      "2020-03-11 14:50:59,256:INFO:The largest component has   266 nodes and    785 edges\n",
      "2020-03-11 14:50:59,271:INFO:Detecting junctions\n"
     ]
    },
    {
     "name": "stdout",
     "output_type": "stream",
     "text": [
      "Network 18\n"
     ]
    },
    {
     "name": "stderr",
     "output_type": "stream",
     "text": [
      "2020-03-11 14:50:59,898:INFO:Finished detecting junctions\n",
      "2020-03-11 14:50:59,908:INFO:The largest component has   291 nodes and   1160 edges\n",
      "2020-03-11 14:50:59,926:INFO:Detecting junctions\n"
     ]
    },
    {
     "name": "stdout",
     "output_type": "stream",
     "text": [
      "Network 19\n"
     ]
    },
    {
     "name": "stderr",
     "output_type": "stream",
     "text": [
      "2020-03-11 14:51:00,577:INFO:Finished detecting junctions\n",
      "2020-03-11 14:51:00,598:INFO:The largest component has   295 nodes and   1542 edges\n",
      "2020-03-11 14:51:00,618:INFO:Detecting junctions\n"
     ]
    },
    {
     "name": "stdout",
     "output_type": "stream",
     "text": [
      "Network 20\n"
     ]
    },
    {
     "name": "stderr",
     "output_type": "stream",
     "text": [
      "2020-03-11 14:51:01,284:INFO:Finished detecting junctions\n",
      "2020-03-11 14:51:01,300:INFO:The largest component has   295 nodes and   2013 edges\n",
      "2020-03-11 14:51:01,318:INFO:Detecting junctions\n"
     ]
    },
    {
     "name": "stdout",
     "output_type": "stream",
     "text": [
      "Network 21\n"
     ]
    },
    {
     "name": "stderr",
     "output_type": "stream",
     "text": [
      "2020-03-11 14:51:02,015:INFO:Finished detecting junctions\n",
      "2020-03-11 14:51:02,034:INFO:The largest component has   299 nodes and   2533 edges\n",
      "2020-03-11 14:51:02,061:INFO:Detecting junctions\n"
     ]
    },
    {
     "name": "stdout",
     "output_type": "stream",
     "text": [
      "Network 22\n"
     ]
    },
    {
     "name": "stderr",
     "output_type": "stream",
     "text": [
      "2020-03-11 14:51:02,769:INFO:Finished detecting junctions\n",
      "2020-03-11 14:51:02,794:INFO:The largest component has   300 nodes and   3106 edges\n",
      "2020-03-11 14:51:02,826:INFO:Detecting junctions\n"
     ]
    },
    {
     "name": "stdout",
     "output_type": "stream",
     "text": [
      "Network 23\n"
     ]
    },
    {
     "name": "stderr",
     "output_type": "stream",
     "text": [
      "2020-03-11 14:51:03,550:INFO:Finished detecting junctions\n",
      "2020-03-11 14:51:03,575:INFO:The largest component has   300 nodes and   3725 edges\n"
     ]
    }
   ],
   "source": [
    "# nwEdges100=np.array(np.sum(ASN100['adj_matrix'])/2)\n",
    "\n",
    "#Detect junctions, create adj matrix and graph, and store number of junctions\n",
    "nwEdges300=[None]*len(ASN300)\n",
    "for i in range(len(ASN300)):\n",
    "    print('Network ' + str(i))\n",
    "    ASN300[i]=wires.detect_junctions(ASN300[i])\n",
    "    ASN300[i]=wires.generate_adj_matrix(ASN300[i])\n",
    "    ASN300[i]=wires.generate_graph(ASN300[i])\n",
    "    ASN300[i]=select_largest_component_new(ASN300[i])\n",
    "    nwEdges300[i]=np.array(np.sum(ASN300[i]['adj_matrix'])/2)"
   ]
  },
  {
   "cell_type": "code",
   "execution_count": 14,
   "metadata": {},
   "outputs": [],
   "source": [
    "avgDegree300=[None]*len(nwEdges300)\n",
    "for i in range(len(nwEdges300)):\n",
    "    avgDegree300[i]=nwEdges300[i]/300\n",
    "# avgDegree100=nwEdges100/100"
   ]
  },
  {
   "cell_type": "code",
   "execution_count": 15,
   "metadata": {},
   "outputs": [],
   "source": [
    "# fwASN100=nx.floyd_warshall_numpy(ASN100['G'])\n",
    "fwASN300=[None]*len(ASN300)\n",
    "for i in range(len(ASN300)):\n",
    "    fwASN300[i]=nx.floyd_warshall_numpy(ASN300[i]['G'])"
   ]
  },
  {
   "cell_type": "markdown",
   "metadata": {},
   "source": [
    "## Generate WS: "
   ]
  },
  {
   "cell_type": "code",
   "execution_count": 16,
   "metadata": {},
   "outputs": [],
   "source": [
    "# ws100=[]\n",
    "ws300=[[None]*2 for i in range(len(ASN300))]\n",
    "this_seed=np.random.randint(1000) #595\n",
    "for i in range(len(ASN300)):\n",
    "    for beta in range(2):\n",
    "#           print(str(i)+' '+str(beta))\n",
    "#         ws100.append(nx.watts_strogatz_graph(100,int(np.round(avgDegree100)),beta,seed=this_seed))\n",
    "        if np.round(avgDegree300[i]) < 1.5:\n",
    "            k=2\n",
    "        else:\n",
    "            k=int(np.round(avgDegree300[i]))\n",
    "        temp=nx.watts_strogatz_graph(300,k,beta,seed=this_seed)\n",
    "        ws300[i][beta]=max(connected_component_subgraphs(temp), key=len)"
   ]
  },
  {
   "cell_type": "code",
   "execution_count": null,
   "metadata": {},
   "outputs": [],
   "source": [
    "#set up accuracy dictionary for WS\n",
    "for i in range(len(ws300)):\n",
    "    ws300[i].update({'Accuracy':{'Linear Transformation':[],'Mackey Glass':[],'MNIST':[]}})"
   ]
  },
  {
   "cell_type": "code",
   "execution_count": 17,
   "metadata": {},
   "outputs": [],
   "source": [
    "#export adj matrices to calculate small worldness in matlab:\n",
    "adj_mats={\"AdjMat\":[]}\n",
    "for i in range(len(ASN300)):\n",
    "    adj_mats['AdjMat'].append(ASN300[i]['adj_matrix'])\n",
    "savemat(r'C:\\Users\\aloe8475\\Documents\\PhD\\GitHub\\CODE\\Analysis\\Functional Connectivity\\Functional Tasks\\300nwASN.mat',adj_mats)"
   ]
  },
  {
   "cell_type": "markdown",
   "metadata": {},
   "source": [
    "## Graph Theory Measures:"
   ]
  },
  {
   "cell_type": "markdown",
   "metadata": {},
   "source": [
    "### ASN"
   ]
  },
  {
   "cell_type": "code",
   "execution_count": 18,
   "metadata": {},
   "outputs": [],
   "source": [
    "for i in range(len(ASN300)):\n",
    "    ASN300[i].update({'Graph Theory':{'Small World':[],'Modularity':[],'CCoeff':[],'MZ':[],'PCoeff':[],'PL':[]}})"
   ]
  },
  {
   "cell_type": "code",
   "execution_count": 19,
   "metadata": {},
   "outputs": [],
   "source": [
    "# Small Worldness: \n",
    "# ------------------------------------\n",
    "# CALCULATED IN MATLAB: smallworldness.m \n",
    "# found in C:\\Users\\aloe8475\\Documents\\PhD\\GitHub\\CODE\\Analysis\\Functional Connectivity\\Functional Tasks\n",
    "# ------------------------------------\n",
    "temp=loadmat(r'C:\\Users\\aloe8475\\Documents\\PhD\\GitHub\\CODE\\Analysis\\Functional Connectivity\\Functional Tasks\\300nwASN_smallworld.mat')\n",
    "smallworld=temp['smallworld'][0]\n",
    "del temp"
   ]
  },
  {
   "cell_type": "code",
   "execution_count": 20,
   "metadata": {},
   "outputs": [],
   "source": [
    "# Modularity, PCoeff, Small Worldness & MZ:\n",
    "ci = [None]*len(ASN300)\n",
    "pcoeff= [None]*len(ASN300)\n",
    "mz= [None]*len(ASN300)\n",
    "\n",
    "for i in range(len(ASN300)):\n",
    "    ci[i],q=nct.community_louvain(ASN300[i]['adj_matrix'])\n",
    "    pcoeff[i]=bct.participation_coef(ASN300[i]['adj_matrix'],ci[i])\n",
    "    mz[i]=bct.module_degree_zscore(ASN300[i]['adj_matrix'],ci[i])\n",
    "    ASN300[i]['Graph Theory']['Modularity']=ci[i]\n",
    "    ASN300[i]['Graph Theory']['PCoeff']=pcoeff[i]\n",
    "    ASN300[i]['Graph Theory']['MZ']=mz[i]\n",
    "    ASN300[i]['Graph Theory']['Small World']=smallworld[i]"
   ]
  },
  {
   "cell_type": "code",
   "execution_count": 21,
   "metadata": {},
   "outputs": [
    {
     "data": {
      "image/png": "[encoded data removed]",
      "text/plain": [
       "<Figure size 1080x1080 with 25 Axes>"
      ]
     },
     "metadata": {
      "needs_background": "light"
     },
     "output_type": "display_data"
    }
   ],
   "source": [
    "#Plot Participation Coefficient vs MZ\n",
    "fig1=plt.figure(figsize=(15,15))\n",
    "\n",
    "ax=[None]*24\n",
    "axBig = fig1.add_subplot(111)\n",
    "axBig.set_yticklabels([])\n",
    "axBig.set_xticklabels([])\n",
    "axBig.set_frame_on(False)\n",
    "plt.title('300nw ASN Network')\n",
    "plt.xlabel('PCoeff',fontsize=30,labelpad=15)\n",
    "plt.ylabel('MZ',fontsize=30,labelpad=15)\n",
    "for i in range(len(ax)):\n",
    "    ax[i]=fig1.add_subplot(6, 4, i+1)\n",
    "    plt.scatter(pcoeff[i],mz[i])\n",
    "    plt.text(0.7,-3.7,'SW:'+\"{0:.2f}\".format(smallworld[i]))\n",
    "    ax[i].set_ylim(-4,4)\n",
    "    ax[i].set_xlim(0,1)"
   ]
  },
  {
   "cell_type": "markdown",
   "metadata": {},
   "source": [
    "### C. Elegans"
   ]
  },
  {
   "cell_type": "code",
   "execution_count": 22,
   "metadata": {},
   "outputs": [],
   "source": [
    "#Small world calculated on C Elegans Matrix in smallworld.m in MATLAB\n",
    "temp=loadmat(r'C:\\Users\\aloe8475\\Documents\\PhD\\GitHub\\CODE\\Analysis\\Functional Connectivity\\Functional Tasks\\cElegans_smallworld.mat')\n",
    "smallworld=temp['cElegansSW'][0]\n",
    "del temp"
   ]
  },
  {
   "cell_type": "code",
   "execution_count": 29,
   "metadata": {},
   "outputs": [],
   "source": [
    "# Modularity, PCoeff, Small Worldness & MZ:\n",
    "ci = []\n",
    "pcoeff= []\n",
    "mz= []\n",
    "\n",
    "ci,q=nct.community_louvain(elegansMat)\n",
    "pcoeff=bct.participation_coef(elegansMat,ci)\n",
    "mz=bct.module_degree_zscore(elegansMat,ci)\n",
    "Elegans['Graph Theory']['MZ']=mz\n",
    "Elegans['Graph Theory']['PCoeff']=pcoeff\n",
    "Elegans['Graph Theory']['Modularity']=ci\n",
    "Elegans['Graph Theory']['Small World']=smallworld"
   ]
  },
  {
   "cell_type": "code",
   "execution_count": 42,
   "metadata": {},
   "outputs": [
    {
     "data": {
      "text/plain": [
       "(0, 1)"
      ]
     },
     "execution_count": 42,
     "metadata": {},
     "output_type": "execute_result"
    },
    {
     "data": {
      "image/png": "[encoded data removed]",
      "text/plain": [
       "<Figure size 1080x1080 with 1 Axes>"
      ]
     },
     "metadata": {
      "needs_background": "light"
     },
     "output_type": "display_data"
    }
   ],
   "source": [
    "fig1=plt.figure(figsize=(15,15))\n",
    "\n",
    "plt.title('300nw ASN Network')\n",
    "plt.xlabel('PCoeff',fontsize=30,labelpad=15)\n",
    "plt.ylabel('MZ',fontsize=30,labelpad=15)\n",
    "plt.scatter(pcoeff,mz)\n",
    "plt.text(0.7,-3.7,'SW:'+\"{0:.2f}\".format(smallworld[0]),fontsize=15)\n",
    "plt.ylim(-4,4)\n",
    "plt.xlim(0,1)"
   ]
  },
  {
   "cell_type": "markdown",
   "metadata": {},
   "source": [
    "# Task 1: Linear  Transformation"
   ]
  },
  {
   "cell_type": "code",
   "execution_count": 28,
   "metadata": {},
   "outputs": [],
   "source": [
    "#Regression\n",
    "def NOKEVregression(target,absV): \n",
    "    inputx=np.vstack((np.ones(len(target)),absV)).T\n",
    "    a1=np.linalg.lstsq(inputx,target)\n",
    "    return a1"
   ]
  },
  {
   "cell_type": "markdown",
   "metadata": {},
   "source": [
    "## ASN Networks:"
   ]
  },
  {
   "cell_type": "code",
   "execution_count": 105,
   "metadata": {},
   "outputs": [
    {
     "name": "stderr",
     "output_type": "stream",
     "text": [
      "\r",
      "Running Simulation :   0%|                                                                    | 0/5000 [00:00<?, ?it/s]"
     ]
    },
    {
     "name": "stdout",
     "output_type": "stream",
     "text": [
      "Network 0\n"
     ]
    },
    {
     "name": "stderr",
     "output_type": "stream",
     "text": [
      "Running Simulation : 100%|████████████████████████████████████████████████████████| 5000/5000 [00:06<00:00, 731.72it/s]\n",
      "2020-03-11 14:40:58,421:INFO:First current path [3, 270, 186, 50, 26, 110] formed at time = 0.539 s.\n",
      "Running Simulation :   2%|█                                                         | 89/5000 [00:00<00:05, 860.60it/s]"
     ]
    },
    {
     "name": "stdout",
     "output_type": "stream",
     "text": [
      "Network 1\n"
     ]
    },
    {
     "name": "stderr",
     "output_type": "stream",
     "text": [
      "Running Simulation : 100%|████████████████████████████████████████████████████████| 5000/5000 [00:06<00:00, 833.26it/s]\n",
      "2020-03-11 14:41:04,892:INFO:First current path [202, 225, 68, 52, 222, 235, 133, 69, 81, 271, 132] formed at time = 0.877 s.\n",
      "Running Simulation :   2%|▉                                                         | 82/5000 [00:00<00:06, 814.06it/s]"
     ]
    },
    {
     "name": "stdout",
     "output_type": "stream",
     "text": [
      "Network 2\n"
     ]
    },
    {
     "name": "stderr",
     "output_type": "stream",
     "text": [
      "Running Simulation : 100%|███████████████████████████████████████████████████████| 5000/5000 [00:04<00:00, 1044.33it/s]\n",
      "2020-03-11 14:41:09,827:INFO:First current path [97, 281, 262, 116, 250, 196, 34, 99, 79, 68, 288, 201, 181] formed at time = 0.52 s.\n",
      "Running Simulation :   2%|█                                                         | 90/5000 [00:00<00:05, 893.48it/s]"
     ]
    },
    {
     "name": "stdout",
     "output_type": "stream",
     "text": [
      "Network 3\n"
     ]
    },
    {
     "name": "stderr",
     "output_type": "stream",
     "text": [
      "Running Simulation : 100%|███████████████████████████████████████████████████████| 5000/5000 [00:04<00:00, 1102.64it/s]\n",
      "2020-03-11 14:41:14,578:INFO:First current path [147, 177, 150, 223, 239, 136, 117, 154, 191, 113, 137, 267, 159, 66, 281, 196, 218, 204, 28, 109, 55] formed at time = 0.837 s.\n",
      "Running Simulation :   3%|█▍                                                      | 133/5000 [00:00<00:03, 1320.37it/s]"
     ]
    },
    {
     "name": "stdout",
     "output_type": "stream",
     "text": [
      "Network 4\n"
     ]
    },
    {
     "name": "stderr",
     "output_type": "stream",
     "text": [
      "Running Simulation : 100%|███████████████████████████████████████████████████████| 5000/5000 [00:03<00:00, 1251.32it/s]\n",
      "2020-03-11 14:41:18,666:INFO:First current path [74, 213, 41, 252, 101, 98, 87, 143, 178, 6, 102, 175, 173, 192, 26, 179, 168, 54, 155, 134, 27, 139, 165, 136, 127] formed at time = 0.632 s.\n",
      "Running Simulation :   3%|█▌                                                      | 143/5000 [00:00<00:03, 1419.64it/s]"
     ]
    },
    {
     "name": "stdout",
     "output_type": "stream",
     "text": [
      "Network 5\n"
     ]
    },
    {
     "name": "stderr",
     "output_type": "stream",
     "text": [
      "Running Simulation : 100%|███████████████████████████████████████████████████████| 5000/5000 [00:03<00:00, 1517.91it/s]\n",
      "2020-03-11 14:41:22,045:INFO:First current path [204, 191, 199, 40, 178, 78, 58, 84, 74, 121, 150, 185, 5, 88, 112, 147, 207, 177, 104, 86, 81, 102, 218, 8, 94, 108, 10, 33, 152, 27] formed at time = 0.75 s.\n",
      "Running Simulation :   2%|▉                                                         | 81/5000 [00:00<00:06, 796.21it/s]"
     ]
    },
    {
     "name": "stdout",
     "output_type": "stream",
     "text": [
      "Network 6\n"
     ]
    },
    {
     "name": "stderr",
     "output_type": "stream",
     "text": [
      "Running Simulation : 100%|███████████████████████████████████████████████████████| 5000/5000 [00:03<00:00, 1339.17it/s]\n",
      "2020-03-11 14:41:25,847:INFO:First current path [150, 125, 105, 24, 121, 19, 141, 48, 216, 116, 18, 94, 188, 185, 175, 223, 159, 92, 5, 201, 162, 129, 78, 88, 138, 25, 50, 107, 190, 215, 207, 60, 212, 172, 137, 208] formed at time = 0.67 s.\n",
      "Running Simulation :   3%|█▍                                                      | 127/5000 [00:00<00:03, 1260.78it/s]"
     ]
    },
    {
     "name": "stdout",
     "output_type": "stream",
     "text": [
      "Network 7\n"
     ]
    },
    {
     "name": "stderr",
     "output_type": "stream",
     "text": [
      "Running Simulation : 100%|███████████████████████████████████████████████████████| 5000/5000 [00:03<00:00, 1391.75it/s]\n",
      "2020-03-11 14:41:29,646:INFO:Unfortunately, no current path is formed in simulation time.\n",
      "Running Simulation :   3%|█▋                                                      | 153/5000 [00:00<00:03, 1518.90it/s]"
     ]
    },
    {
     "name": "stdout",
     "output_type": "stream",
     "text": [
      "Unfortunately, only 0 current paths found in simulation time.\n",
      "Network 8\n"
     ]
    },
    {
     "name": "stderr",
     "output_type": "stream",
     "text": [
      "Running Simulation : 100%|███████████████████████████████████████████████████████| 5000/5000 [00:03<00:00, 1345.29it/s]\n",
      "2020-03-11 14:41:34,281:INFO:Unfortunately, no current path is formed in simulation time.\n",
      "Running Simulation :   3%|█▌                                                      | 139/5000 [00:00<00:03, 1389.40it/s]"
     ]
    },
    {
     "name": "stdout",
     "output_type": "stream",
     "text": [
      "Unfortunately, only 0 current paths found in simulation time.\n",
      "Network 9\n"
     ]
    },
    {
     "name": "stderr",
     "output_type": "stream",
     "text": [
      "Running Simulation : 100%|███████████████████████████████████████████████████████| 5000/5000 [00:03<00:00, 1417.60it/s]\n",
      "2020-03-11 14:41:38,585:INFO:Unfortunately, no current path is formed in simulation time.\n",
      "Running Simulation :   2%|█▎                                                      | 121/5000 [00:00<00:04, 1201.26it/s]"
     ]
    },
    {
     "name": "stdout",
     "output_type": "stream",
     "text": [
      "Unfortunately, only 0 current paths found in simulation time.\n",
      "Network 10\n"
     ]
    },
    {
     "name": "stderr",
     "output_type": "stream",
     "text": [
      "Running Simulation : 100%|███████████████████████████████████████████████████████| 5000/5000 [00:03<00:00, 1572.42it/s]\n",
      "2020-03-11 14:41:41,842:INFO:First current path [204, 191, 199, 40, 178, 78, 58, 84, 74, 121, 150, 185, 5, 88, 112, 147, 207, 177, 104, 86, 81, 102, 218, 8, 94, 108, 10, 33, 152, 27] formed at time = 0.75 s.\n",
      "Running Simulation :   3%|█▉                                                      | 169/5000 [00:00<00:02, 1677.76it/s]"
     ]
    },
    {
     "name": "stdout",
     "output_type": "stream",
     "text": [
      "Network 11\n"
     ]
    },
    {
     "name": "stderr",
     "output_type": "stream",
     "text": [
      "Running Simulation : 100%|███████████████████████████████████████████████████████| 5000/5000 [00:03<00:00, 1590.95it/s]\n",
      "2020-03-11 14:41:45,695:INFO:Unfortunately, no current path is formed in simulation time.\n",
      "Running Simulation :   4%|██                                                      | 184/5000 [00:00<00:02, 1826.65it/s]"
     ]
    },
    {
     "name": "stdout",
     "output_type": "stream",
     "text": [
      "Unfortunately, only 0 current paths found in simulation time.\n",
      "Network 12\n"
     ]
    },
    {
     "name": "stderr",
     "output_type": "stream",
     "text": [
      "Running Simulation : 100%|███████████████████████████████████████████████████████| 5000/5000 [00:02<00:00, 2081.67it/s]\n",
      "2020-03-11 14:41:48,145:INFO:First current path [58, 5, 137, 111, 68, 118, 31, 91, 173, 2, 120, 79, 35, 146, 6, 64, 55, 127, 144, 172, 156] formed at time = 0.764 s.\n",
      "Running Simulation :   3%|█▋                                                      | 154/5000 [00:00<00:03, 1535.28it/s]"
     ]
    },
    {
     "name": "stdout",
     "output_type": "stream",
     "text": [
      "Network 13\n"
     ]
    },
    {
     "name": "stderr",
     "output_type": "stream",
     "text": [
      "Running Simulation : 100%|███████████████████████████████████████████████████████| 5000/5000 [00:03<00:00, 1464.12it/s]\n",
      "2020-03-11 14:41:51,618:INFO:First current path [79, 83, 166, 50, 11, 55, 74, 106, 84, 30, 98, 68, 186, 192, 22, 9, 178, 8, 201, 37] formed at time = 0.716 s.\n",
      "Running Simulation :   4%|██                                                      | 180/5000 [00:00<00:02, 1786.95it/s]"
     ]
    },
    {
     "name": "stdout",
     "output_type": "stream",
     "text": [
      "Network 14\n"
     ]
    },
    {
     "name": "stderr",
     "output_type": "stream",
     "text": [
      "Running Simulation : 100%|███████████████████████████████████████████████████████| 5000/5000 [00:02<00:00, 1688.95it/s]\n",
      "2020-03-11 14:41:54,633:INFO:First current path [79, 130, 118, 149, 106, 157, 121, 133, 38, 128, 122, 158, 87, 136, 199] formed at time = 0.575 s.\n",
      "Running Simulation :  14%|███████▌                                                | 679/5000 [00:00<00:01, 3391.40it/s]"
     ]
    },
    {
     "name": "stdout",
     "output_type": "stream",
     "text": [
      "Network 15\n"
     ]
    },
    {
     "name": "stderr",
     "output_type": "stream",
     "text": [
      "Running Simulation : 100%|███████████████████████████████████████████████████████| 5000/5000 [00:01<00:00, 3498.11it/s]\n",
      "2020-03-11 14:41:56,092:INFO:First current path [2, 26, 37, 33, 49, 45] formed at time = 0.319 s.\n",
      "Running Simulation :   3%|█▌                                                      | 139/5000 [00:00<00:03, 1379.93it/s]"
     ]
    },
    {
     "name": "stdout",
     "output_type": "stream",
     "text": [
      "Network 16\n"
     ]
    },
    {
     "name": "stderr",
     "output_type": "stream",
     "text": [
      "Running Simulation : 100%|███████████████████████████████████████████████████████| 5000/5000 [00:03<00:00, 1441.35it/s]\n",
      "2020-03-11 14:41:59,637:INFO:First current path [204, 191, 199, 40, 178, 78, 58, 84, 74, 121, 150, 185, 5, 88, 112, 147, 207, 177, 104, 86, 81, 102, 218, 8, 94, 108, 10, 33, 152, 27] formed at time = 0.75 s.\n",
      "Running Simulation :   3%|█▍                                                      | 130/5000 [00:00<00:03, 1290.57it/s]"
     ]
    },
    {
     "name": "stdout",
     "output_type": "stream",
     "text": [
      "Network 17\n"
     ]
    },
    {
     "name": "stderr",
     "output_type": "stream",
     "text": [
      "Running Simulation : 100%|███████████████████████████████████████████████████████| 5000/5000 [00:04<00:00, 1135.93it/s]\n",
      "2020-03-11 14:42:04,143:INFO:First current path [129, 138, 167, 141, 207, 221, 85, 127, 108, 52, 115, 180, 224, 185, 197, 25, 253, 3, 101, 98] formed at time = 0.735 s.\n",
      "Running Simulation :   3%|█▍                                                      | 132/5000 [00:00<00:04, 1141.96it/s]"
     ]
    },
    {
     "name": "stdout",
     "output_type": "stream",
     "text": [
      "Network 18\n"
     ]
    },
    {
     "name": "stderr",
     "output_type": "stream",
     "text": [
      "Running Simulation : 100%|███████████████████████████████████████████████████████| 5000/5000 [00:04<00:00, 1017.23it/s]\n",
      "2020-03-11 14:42:09,186:INFO:First current path [149, 179, 152, 225, 195, 35, 236, 15, 165, 287, 32, 191, 173, 12, 89, 145, 196] formed at time = 0.638 s.\n",
      "Running Simulation :   2%|█▏                                                      | 106/5000 [00:00<00:04, 1056.26it/s]"
     ]
    },
    {
     "name": "stdout",
     "output_type": "stream",
     "text": [
      "Network 19\n"
     ]
    },
    {
     "name": "stderr",
     "output_type": "stream",
     "text": [
      "Running Simulation : 100%|███████████████████████████████████████████████████████| 5000/5000 [00:04<00:00, 1040.46it/s]\n",
      "2020-03-11 14:42:14,173:INFO:First current path [97, 281, 253, 132, 62, 98, 196, 117, 142, 273, 186, 288, 201, 181] formed at time = 0.568 s.\n",
      "Running Simulation :   2%|█▎                                                      | 117/5000 [00:00<00:04, 1056.72it/s]"
     ]
    },
    {
     "name": "stdout",
     "output_type": "stream",
     "text": [
      "Network 20\n"
     ]
    },
    {
     "name": "stderr",
     "output_type": "stream",
     "text": [
      "Running Simulation : 100%|████████████████████████████████████████████████████████| 5000/5000 [00:05<00:00, 983.18it/s]\n",
      "2020-03-11 14:42:19,443:INFO:First current path [57, 84, 39, 175, 150, 166, 250, 116, 231, 281, 97] formed at time = 0.463 s.\n",
      "Running Simulation :   2%|▉                                                         | 81/5000 [00:00<00:06, 807.60it/s]"
     ]
    },
    {
     "name": "stdout",
     "output_type": "stream",
     "text": [
      "Network 21\n"
     ]
    },
    {
     "name": "stderr",
     "output_type": "stream",
     "text": [
      "Running Simulation : 100%|████████████████████████████████████████████████████████| 5000/5000 [00:05<00:00, 937.44it/s]\n",
      "2020-03-11 14:42:25,047:INFO:First current path [132, 271, 209, 81, 152, 116, 253, 134, 76, 84, 57, 182] formed at time = 0.64 s.\n",
      "Running Simulation :   2%|█                                                         | 90/5000 [00:00<00:05, 893.47it/s]"
     ]
    },
    {
     "name": "stdout",
     "output_type": "stream",
     "text": [
      "Network 22\n"
     ]
    },
    {
     "name": "stderr",
     "output_type": "stream",
     "text": [
      "Running Simulation : 100%|████████████████████████████████████████████████████████| 5000/5000 [00:05<00:00, 844.15it/s]\n",
      "2020-03-11 14:42:31,295:INFO:First current path [58, 65, 179, 21, 161, 116, 126, 272, 132] formed at time = 0.655 s.\n",
      "Running Simulation :   2%|▉                                                         | 83/5000 [00:00<00:06, 781.73it/s]"
     ]
    },
    {
     "name": "stdout",
     "output_type": "stream",
     "text": [
      "Network 23\n"
     ]
    },
    {
     "name": "stderr",
     "output_type": "stream",
     "text": [
      "Running Simulation : 100%|████████████████████████████████████████████████████████| 5000/5000 [00:05<00:00, 838.31it/s]\n",
      "2020-03-11 14:42:39,717:INFO:Unfortunately, no current path is formed in simulation time.\n"
     ]
    },
    {
     "name": "stdout",
     "output_type": "stream",
     "text": [
      "Unfortunately, only 0 current paths found in simulation time.\n"
     ]
    }
   ],
   "source": [
    "#Instantiate Variables       \n",
    "stimulus=[[],[]]\n",
    "accSqu=[]\n",
    "#    accTri=[]\n",
    "#    accSaw=[]\n",
    "#    accDbl=[]\n",
    "maxSqu=[]\n",
    "#    maxTri=[]\n",
    "#    maxSaw=[]\n",
    "#    maxDbl=[]\n",
    "dt = 1e-2\n",
    "f=0.5\n",
    "Time=5\n",
    "onAmp=[1.5,2,4,4,6,6,8,6,6,6,6,6,4,4,4,4,6,4,4,4,4,3,2,1.5]\n",
    "\n",
    "#Choose Electrode Pattern\n",
    "for i in range(len(onAmp)):\n",
    "    stimulus[0].append((stimulus__(biasType='AC',onAmp=onAmp[i],TimeVector=np.arange(0,Time,dt),f=f)))\n",
    "    stimulus[1].append((stimulus__(biasType='Drain',TimeVector=np.arange(0,Time,dt)))) #we don't want this drain to be active during training\n",
    "    \n",
    "#Initialise Output Variables\n",
    "period=[]\n",
    "TimeVector=[]\n",
    "voltage=[]\n",
    "conductance=[]\n",
    "switches=[]\n",
    "results=[None]*len(ASN300)\n",
    "# Voltage=[None]*len(ASN300)\n",
    "# Switches=[None]*len(ASN300)\n",
    "\n",
    "\n",
    "nwSqu = [None]*len(ASN300)\n",
    "\n",
    "#Run Simulations\n",
    "for i in range(len(ASN300)): #for each network\n",
    "    print('Network ' + str(i))\n",
    "    #Run Simulations\n",
    "#     results=[]\n",
    "    # Connectivity=connectivity__('700nw_14533junctions.mat')\n",
    "    stimulus2 = [item for item in stimulus] #go through each list in the list and find the ith item\n",
    "#     set_trace()\n",
    "    results[i]=runSim(connectivity__(wires_dict=ASN300[i]),stimulus=stimulus2, contactMode='farthest', T = Time, dt = 0.001, onAmp = onAmp[i], biasType='AC',f=f,junctionMode='tunneling')\n",
    "    #wires_dict=newNetworkTest[chosenNetwork])\n",
    "    results[i].frequency=f\n",
    "    results[i].dt=0.001\n",
    "    period=1/f\n",
    "\n",
    "    TimeVector=results[i].TimeVector\n",
    "    voltage=results[i].wireVoltage\n",
    "    conductance=results[i].conductance\n",
    "    switches=results[i].junctionSwitch\n",
    "\n",
    "    stepNodes=len(ASN300[i])-1 #first use all nodes\n",
    "    sizes2=len(ASN300[i])\n",
    "    nwOutputs = [None]* int(sizes2/stepNodes)\n",
    "            \n",
    "    outputNodes2=[]\n",
    "\n",
    "    for k in range(stepNodes,sizes2+1,stepNodes): #stepping up nodes\n",
    "        np.random.seed(69)\n",
    "\n",
    "        outputNodes2.append(voltage[:,np.random.choice(len(voltage[0,:]),size=k,replace=False)]) #take all the times (:) for a random j nodes\n",
    "\n",
    "        nwOutputs=outputNodes2 #Length of nwOutputs is k (list)\n",
    "\n",
    "    target1=[None]*len(nwOutputs)\n",
    "    target2=[None]*len(nwOutputs)\n",
    "    target3=[None]*len(nwOutputs)\n",
    "    target4=[None]*len(nwOutputs)\n",
    "    target5=[None]*len(nwOutputs)\n",
    "\n",
    "    for j in range(len(nwOutputs)):\n",
    "        target1[j] = (onAmp[i] * (-np.sign(TimeVector % period - period/2)))\n",
    "        target2[j] = (4*onAmp[i]/period * abs((TimeVector-period/4) % period - period/2) - onAmp[i])\n",
    "        target3[j] = (onAmp[i]/period * (TimeVector % period))\n",
    "        target4[j] = (onAmp[i]*np.sin(4*np.pi*(1/period)*TimeVector))\n",
    "\n",
    "\n",
    "#        nwTri     = np.zeros(len(nwOutputs))\n",
    "#        nwSaw     = np.zeros(len(nwOutputs))\n",
    "#        nwDbl     = np.zeros(len(nwOutputs))\n",
    "#     nwMG      = [[None]*networksLoad,[None]*len(nwOutputs[0])]\n",
    "\n",
    "    ResultSqu=[]\n",
    "#        ResultTri=[]\n",
    "#        ResultSaw=[]\n",
    "    accuracy=[]\n",
    "#        accuracyTri=[]\n",
    "#        accuracySaw=[]\n",
    "#        accuracyDbl=[]\n",
    "    output=[]\n",
    "    mSqu=[]\n",
    "#        mTri=[]\n",
    "#        mSaw=[]\n",
    "#        mDbl=[]\n",
    "\n",
    "    for j in range(len(nwOutputs)): #for each output\n",
    "        ResultSqu=NOKEVregression(target1[j],nwOutputs[j].T)[0]\n",
    "        outputx=np.vstack((np.ones(len(target1[j])),nwOutputs[j].T)).T\n",
    "        temp=np.dot(outputx,ResultSqu)\n",
    "        MSE=np.mean((target1[j]-temp)**2)\n",
    "        rnMSE=np.sqrt(np.sum((target1[j]-temp)**2)/np.sum((target1[j])**2))\n",
    "        nwSqu[i]=(1 - rnMSE)\n",
    "#         set_trace()"
   ]
  },
  {
   "cell_type": "code",
   "execution_count": 111,
   "metadata": {},
   "outputs": [
    {
     "data": {
      "image/png": "[encoded data removed]",
      "text/plain": [
       "<Figure size 1080x1080 with 25 Axes>"
      ]
     },
     "metadata": {
      "needs_background": "light"
     },
     "output_type": "display_data"
    }
   ],
   "source": [
    "#network junctions switches:\n",
    "fig1=plt.figure(figsize=(15,15))\n",
    "ax=[None]*24\n",
    "axBig = fig1.add_subplot(111)\n",
    "axBig.set_frame_on(False)\n",
    "axBig.set_yticklabels([])\n",
    "axBig.set_xticklabels([])\n",
    "plt.xlabel('Time',fontsize=30,labelpad=15)\n",
    "plt.ylabel('Num On Switches',fontsize=30,labelpad=15)\n",
    "for i in range(24):\n",
    "    ax[i]=fig1.add_subplot(6, 4, i+1)\n",
    "    plt.plot(np.sum(results[i].junctionSwitch,1))"
   ]
  },
  {
   "cell_type": "code",
   "execution_count": 114,
   "metadata": {},
   "outputs": [],
   "source": [
    "#Linear Transform Accuracies:\n",
    "for i in range(len(ASN300)):\n",
    "    ASN300[i]['Accuracy']['Linear Transformation']=nwSqu[i]"
   ]
  },
  {
   "cell_type": "markdown",
   "metadata": {},
   "source": [
    "## WS Networks"
   ]
  },
  {
   "cell_type": "code",
   "execution_count": null,
   "metadata": {},
   "outputs": [
    {
     "name": "stderr",
     "output_type": "stream",
     "text": [
      "\r",
      "Running Simulation :   0%|                                                                    | 0/5000 [00:00<?, ?it/s]"
     ]
    },
    {
     "name": "stdout",
     "output_type": "stream",
     "text": [
      "Network 0\n",
      "Grid\n"
     ]
    },
    {
     "name": "stderr",
     "output_type": "stream",
     "text": [
      "Running Simulation : 100%|████████████████████████████████████████████████████████| 5000/5000 [00:08<00:00, 623.88it/s]\n",
      "2020-03-11 15:00:00,414:INFO:Unfortunately, no current path is formed in simulation time.\n",
      "Running Simulation :   2%|█                                                         | 91/5000 [00:00<00:05, 904.45it/s]"
     ]
    },
    {
     "name": "stdout",
     "output_type": "stream",
     "text": [
      "Unfortunately, only 0 current paths found in simulation time.\n",
      "Random\n"
     ]
    },
    {
     "name": "stderr",
     "output_type": "stream",
     "text": [
      "Running Simulation : 100%|████████████████████████████████████████████████████████| 5000/5000 [00:05<00:00, 929.13it/s]\n",
      "2020-03-11 15:00:05,920:INFO:First current path [0, 4, 126, 8] formed at time = 0.33 s.\n",
      "Running Simulation :   2%|█▏                                                       | 100/5000 [00:00<00:04, 999.77it/s]"
     ]
    },
    {
     "name": "stdout",
     "output_type": "stream",
     "text": [
      "Network 1\n",
      "Grid\n"
     ]
    },
    {
     "name": "stderr",
     "output_type": "stream",
     "text": [
      "Running Simulation : 100%|████████████████████████████████████████████████████████| 5000/5000 [00:05<00:00, 987.71it/s]\n",
      "2020-03-11 15:00:11,606:INFO:Unfortunately, no current path is formed in simulation time.\n",
      "Running Simulation :   1%|▋                                                         | 59/5000 [00:00<00:08, 579.98it/s]"
     ]
    },
    {
     "name": "stdout",
     "output_type": "stream",
     "text": [
      "Unfortunately, only 0 current paths found in simulation time.\n",
      "Random\n"
     ]
    },
    {
     "name": "stderr",
     "output_type": "stream",
     "text": [
      "Running Simulation : 100%|████████████████████████████████████████████████████████| 5000/5000 [00:05<00:00, 977.44it/s]\n",
      "2020-03-11 15:00:16,832:INFO:First current path [18, 162, 170, 287, 26, 143] formed at time = 0.447 s.\n",
      "Running Simulation :   2%|█▏                                                      | 110/5000 [00:00<00:04, 1092.02it/s]"
     ]
    },
    {
     "name": "stdout",
     "output_type": "stream",
     "text": [
      "Network 2\n",
      "Grid\n"
     ]
    },
    {
     "name": "stderr",
     "output_type": "stream",
     "text": [
      "Running Simulation : 100%|███████████████████████████████████████████████████████| 5000/5000 [00:04<00:00, 1057.38it/s]\n",
      "2020-03-11 15:00:21,822:INFO:Unfortunately, no current path is formed in simulation time.\n",
      "Running Simulation :   2%|█▏                                                       | 101/5000 [00:00<00:04, 992.84it/s]"
     ]
    },
    {
     "name": "stdout",
     "output_type": "stream",
     "text": [
      "Unfortunately, only 0 current paths found in simulation time.\n",
      "Random\n"
     ]
    },
    {
     "name": "stderr",
     "output_type": "stream",
     "text": [
      "Running Simulation : 100%|███████████████████████████████████████████████████████| 5000/5000 [00:04<00:00, 1082.49it/s]\n",
      "2020-03-11 15:00:26,527:INFO:First current path [0, 220, 69, 225, 38, 271, 103, 298] formed at time = 0.36 s.\n",
      "Running Simulation :   2%|█▏                                                      | 106/5000 [00:00<00:04, 1052.31it/s]"
     ]
    },
    {
     "name": "stdout",
     "output_type": "stream",
     "text": [
      "Network 3\n",
      "Grid\n"
     ]
    },
    {
     "name": "stderr",
     "output_type": "stream",
     "text": [
      "Running Simulation : 100%|███████████████████████████████████████████████████████| 5000/5000 [00:04<00:00, 1173.40it/s]\n",
      "2020-03-11 15:00:31,021:INFO:Unfortunately, no current path is formed in simulation time.\n",
      "Running Simulation :   0%|                                                                    | 0/5000 [00:00<?, ?it/s]"
     ]
    },
    {
     "name": "stdout",
     "output_type": "stream",
     "text": [
      "Unfortunately, only 0 current paths found in simulation time.\n",
      "Random\n"
     ]
    },
    {
     "name": "stderr",
     "output_type": "stream",
     "text": [
      "Running Simulation : 100%|███████████████████████████████████████████████████████| 5000/5000 [00:04<00:00, 1014.35it/s]\n",
      "2020-03-11 15:00:36,045:INFO:Unfortunately, no current path is formed in simulation time.\n"
     ]
    },
    {
     "name": "stdout",
     "output_type": "stream",
     "text": [
      "Unfortunately, only 0 current paths found in simulation time.\n"
     ]
    },
    {
     "name": "stderr",
     "output_type": "stream",
     "text": [
      "Running Simulation :   2%|▉                                                         | 78/5000 [00:00<00:07, 692.71it/s]"
     ]
    },
    {
     "name": "stdout",
     "output_type": "stream",
     "text": [
      "Network 4\n",
      "Grid\n"
     ]
    },
    {
     "name": "stderr",
     "output_type": "stream",
     "text": [
      "Running Simulation : 100%|███████████████████████████████████████████████████████| 5000/5000 [00:04<00:00, 1105.28it/s]\n",
      "2020-03-11 15:00:41,063:INFO:Unfortunately, no current path is formed in simulation time.\n",
      "Running Simulation :   3%|█▍                                                      | 130/5000 [00:00<00:04, 1150.86it/s]"
     ]
    },
    {
     "name": "stdout",
     "output_type": "stream",
     "text": [
      "Unfortunately, only 0 current paths found in simulation time.\n",
      "Random\n"
     ]
    },
    {
     "name": "stderr",
     "output_type": "stream",
     "text": [
      "Running Simulation : 100%|████████████████████████████████████████████████████████| 5000/5000 [00:05<00:00, 986.50it/s]\n",
      "2020-03-11 15:00:46,226:INFO:Unfortunately, no current path is formed in simulation time.\n"
     ]
    },
    {
     "name": "stdout",
     "output_type": "stream",
     "text": [
      "Unfortunately, only 0 current paths found in simulation time.\n",
      "Network 5\n",
      "Grid\n"
     ]
    },
    {
     "name": "stderr",
     "output_type": "stream",
     "text": [
      "Running Simulation : 100%|███████████████████████████████████████████████████████| 5000/5000 [00:04<00:00, 1112.44it/s]\n",
      "2020-03-11 15:00:50,949:INFO:Unfortunately, no current path is formed in simulation time.\n",
      "Running Simulation :   2%|█▎                                                      | 114/5000 [00:00<00:04, 1131.74it/s]"
     ]
    },
    {
     "name": "stdout",
     "output_type": "stream",
     "text": [
      "Unfortunately, only 0 current paths found in simulation time.\n",
      "Random\n"
     ]
    },
    {
     "name": "stderr",
     "output_type": "stream",
     "text": [
      "Running Simulation : 100%|███████████████████████████████████████████████████████| 5000/5000 [00:04<00:00, 1130.21it/s]\n",
      "2020-03-11 15:00:55,444:INFO:First current path [105, 59, 255, 203, 233, 158, 250, 102, 41, 82, 100, 218, 109, 210, 205, 279, 276, 30, 182, 54, 32, 259, 228, 129, 187, 219, 47, 213, 108, 258, 197, 148, 288, 204, 293, 140, 113, 268, 97, 296, 178, 136, 160, 189, 88, 206, 7, 212] formed at time = 0.697 s.\n",
      "Running Simulation :   2%|█▏                                                      | 103/5000 [00:00<00:04, 1022.53it/s]"
     ]
    },
    {
     "name": "stdout",
     "output_type": "stream",
     "text": [
      "Network 6\n",
      "Grid\n"
     ]
    },
    {
     "name": "stderr",
     "output_type": "stream",
     "text": [
      "Running Simulation : 100%|███████████████████████████████████████████████████████| 5000/5000 [00:04<00:00, 1070.14it/s]\n",
      "2020-03-11 15:01:00,374:INFO:Unfortunately, no current path is formed in simulation time.\n",
      "Running Simulation :   2%|█▏                                                      | 107/5000 [00:00<00:04, 1059.51it/s]"
     ]
    },
    {
     "name": "stdout",
     "output_type": "stream",
     "text": [
      "Unfortunately, only 0 current paths found in simulation time.\n",
      "Random\n"
     ]
    },
    {
     "name": "stderr",
     "output_type": "stream",
     "text": [
      "Running Simulation : 100%|███████████████████████████████████████████████████████| 5000/5000 [00:04<00:00, 1050.78it/s]\n",
      "2020-03-11 15:01:05,202:INFO:First current path [105, 59, 255, 203, 233, 158, 250, 102, 41, 82, 100, 218, 109, 210, 205, 279, 276, 30, 182, 54, 32, 259, 228, 129, 187, 219, 47, 213, 108, 258, 197, 148, 288, 204, 293, 140, 113, 268, 97, 296, 178, 136, 160, 189, 88, 206, 7, 212] formed at time = 0.697 s.\n",
      "Running Simulation :   2%|█▏                                                      | 111/5000 [00:00<00:04, 1077.74it/s]"
     ]
    },
    {
     "name": "stdout",
     "output_type": "stream",
     "text": [
      "Network 7\n",
      "Grid\n"
     ]
    },
    {
     "name": "stderr",
     "output_type": "stream",
     "text": [
      "Running Simulation : 100%|███████████████████████████████████████████████████████| 5000/5000 [00:04<00:00, 1041.23it/s]\n",
      "2020-03-11 15:01:10,287:INFO:Unfortunately, no current path is formed in simulation time.\n",
      "Running Simulation :   2%|█▏                                                        | 98/5000 [00:00<00:05, 977.87it/s]"
     ]
    },
    {
     "name": "stdout",
     "output_type": "stream",
     "text": [
      "Unfortunately, only 0 current paths found in simulation time.\n",
      "Random\n"
     ]
    },
    {
     "name": "stderr",
     "output_type": "stream",
     "text": [
      "Running Simulation : 100%|███████████████████████████████████████████████████████| 5000/5000 [00:04<00:00, 1145.53it/s]\n",
      "2020-03-11 15:01:14,721:INFO:First current path [105, 59, 255, 203, 233, 158, 250, 102, 41, 82, 100, 218, 109, 210, 205, 279, 276, 30, 182, 54, 32, 259, 228, 129, 187, 219, 47, 213, 108, 258, 197, 148, 288, 204, 293, 140, 113, 268, 97, 296, 178, 136, 160, 189, 88, 206, 7, 212] formed at time = 0.697 s.\n",
      "Running Simulation :   2%|█▎                                                      | 121/5000 [00:00<00:04, 1201.23it/s]"
     ]
    },
    {
     "name": "stdout",
     "output_type": "stream",
     "text": [
      "Network 8\n",
      "Grid\n"
     ]
    },
    {
     "name": "stderr",
     "output_type": "stream",
     "text": [
      "Running Simulation : 100%|███████████████████████████████████████████████████████| 5000/5000 [00:04<00:00, 1175.85it/s]\n",
      "2020-03-11 15:01:19,200:INFO:Unfortunately, no current path is formed in simulation time.\n",
      "Running Simulation :   2%|█▏                                                      | 110/5000 [00:00<00:04, 1093.70it/s]"
     ]
    },
    {
     "name": "stdout",
     "output_type": "stream",
     "text": [
      "Unfortunately, only 0 current paths found in simulation time.\n",
      "Random\n"
     ]
    },
    {
     "name": "stderr",
     "output_type": "stream",
     "text": [
      "Running Simulation : 100%|███████████████████████████████████████████████████████| 5000/5000 [00:04<00:00, 1191.15it/s]\n",
      "2020-03-11 15:01:23,465:INFO:First current path [105, 59, 255, 203, 233, 158, 250, 102, 41, 82, 100, 218, 109, 210, 205, 279, 276, 30, 182, 54, 32, 259, 228, 129, 187, 219, 47, 213, 108, 258, 197, 148, 288, 204, 293, 140, 113, 268, 97, 296, 178, 136, 160, 189, 88, 206, 7, 212] formed at time = 0.697 s.\n",
      "Running Simulation :   2%|█▎                                                      | 117/5000 [00:00<00:04, 1121.20it/s]"
     ]
    },
    {
     "name": "stdout",
     "output_type": "stream",
     "text": [
      "Network 9\n",
      "Grid\n"
     ]
    },
    {
     "name": "stderr",
     "output_type": "stream",
     "text": [
      "Running Simulation : 100%|███████████████████████████████████████████████████████| 5000/5000 [00:04<00:00, 1155.92it/s]\n",
      "2020-03-11 15:01:28,009:INFO:Unfortunately, no current path is formed in simulation time.\n",
      "Running Simulation :   2%|█▍                                                      | 124/5000 [00:00<00:03, 1231.01it/s]"
     ]
    },
    {
     "name": "stdout",
     "output_type": "stream",
     "text": [
      "Unfortunately, only 0 current paths found in simulation time.\n",
      "Random\n"
     ]
    },
    {
     "name": "stderr",
     "output_type": "stream",
     "text": [
      "Running Simulation : 100%|███████████████████████████████████████████████████████| 5000/5000 [00:04<00:00, 1094.80it/s]\n",
      "2020-03-11 15:01:32,643:INFO:First current path [105, 59, 255, 203, 233, 158, 250, 102, 41, 82, 100, 218, 109, 210, 205, 279, 276, 30, 182, 54, 32, 259, 228, 129, 187, 219, 47, 213, 108, 258, 197, 148, 288, 204, 293, 140, 113, 268, 97, 296, 178, 136, 160, 189, 88, 206, 7, 212] formed at time = 0.697 s.\n",
      "Running Simulation :   2%|█▍                                                      | 123/5000 [00:00<00:03, 1221.08it/s]"
     ]
    },
    {
     "name": "stdout",
     "output_type": "stream",
     "text": [
      "Network 10\n",
      "Grid\n"
     ]
    },
    {
     "name": "stderr",
     "output_type": "stream",
     "text": [
      "Running Simulation : 100%|███████████████████████████████████████████████████████| 5000/5000 [00:04<00:00, 1064.62it/s]\n",
      "2020-03-11 15:01:37,606:INFO:Unfortunately, no current path is formed in simulation time.\n",
      "Running Simulation :   2%|█▏                                                       | 100/5000 [00:00<00:04, 992.75it/s]"
     ]
    },
    {
     "name": "stdout",
     "output_type": "stream",
     "text": [
      "Unfortunately, only 0 current paths found in simulation time.\n",
      "Random\n"
     ]
    },
    {
     "name": "stderr",
     "output_type": "stream",
     "text": [
      "Running Simulation : 100%|███████████████████████████████████████████████████████| 5000/5000 [00:04<00:00, 1060.25it/s]\n",
      "2020-03-11 15:01:42,390:INFO:First current path [105, 59, 255, 203, 233, 158, 250, 102, 41, 82, 100, 218, 109, 210, 205, 279, 276, 30, 182, 54, 32, 259, 228, 129, 187, 219, 47, 213, 108, 258, 197, 148, 288, 204, 293, 140, 113, 268, 97, 296, 178, 136, 160, 189, 88, 206, 7, 212] formed at time = 0.697 s.\n",
      "Running Simulation :   2%|█▎                                                      | 118/5000 [00:00<00:04, 1171.44it/s]"
     ]
    },
    {
     "name": "stdout",
     "output_type": "stream",
     "text": [
      "Network 11\n",
      "Grid\n"
     ]
    },
    {
     "name": "stderr",
     "output_type": "stream",
     "text": [
      "Running Simulation : 100%|███████████████████████████████████████████████████████| 5000/5000 [00:04<00:00, 1141.15it/s]\n",
      "2020-03-11 15:01:47,019:INFO:Unfortunately, no current path is formed in simulation time.\n",
      "Running Simulation :   2%|█▎                                                      | 112/5000 [00:00<00:04, 1111.87it/s]"
     ]
    },
    {
     "name": "stdout",
     "output_type": "stream",
     "text": [
      "Unfortunately, only 0 current paths found in simulation time.\n",
      "Random\n"
     ]
    },
    {
     "name": "stderr",
     "output_type": "stream",
     "text": [
      "Running Simulation : 100%|███████████████████████████████████████████████████████| 5000/5000 [00:04<00:00, 1161.01it/s]\n",
      "2020-03-11 15:01:51,404:INFO:First current path [105, 59, 255, 203, 233, 158, 250, 102, 41, 82, 100, 218, 109, 210, 205, 279, 276, 30, 182, 54, 32, 259, 228, 129, 187, 219, 47, 213, 108, 258, 197, 148, 288, 204, 293, 140, 113, 268, 97, 296, 178, 136, 160, 189, 88, 206, 7, 212] formed at time = 0.697 s.\n",
      "Running Simulation :   2%|█▎                                                      | 118/5000 [00:00<00:04, 1171.44it/s]"
     ]
    },
    {
     "name": "stdout",
     "output_type": "stream",
     "text": [
      "Network 12\n",
      "Grid\n"
     ]
    },
    {
     "name": "stderr",
     "output_type": "stream",
     "text": [
      "Running Simulation : 100%|███████████████████████████████████████████████████████| 5000/5000 [00:04<00:00, 1175.70it/s]\n",
      "2020-03-11 15:01:55,900:INFO:Unfortunately, no current path is formed in simulation time.\n",
      "Running Simulation :   3%|█▍                                                      | 126/5000 [00:00<00:03, 1250.87it/s]"
     ]
    },
    {
     "name": "stdout",
     "output_type": "stream",
     "text": [
      "Unfortunately, only 0 current paths found in simulation time.\n",
      "Random\n"
     ]
    },
    {
     "name": "stderr",
     "output_type": "stream",
     "text": [
      "Running Simulation : 100%|███████████████████████████████████████████████████████| 5000/5000 [00:04<00:00, 1153.45it/s]\n",
      "2020-03-11 15:02:00,331:INFO:Unfortunately, no current path is formed in simulation time.\n"
     ]
    },
    {
     "name": "stdout",
     "output_type": "stream",
     "text": [
      "Unfortunately, only 0 current paths found in simulation time.\n",
      "Network 13\n",
      "Grid\n"
     ]
    },
    {
     "name": "stderr",
     "output_type": "stream",
     "text": [
      "Running Simulation : 100%|███████████████████████████████████████████████████████| 5000/5000 [00:04<00:00, 1090.43it/s]\n",
      "2020-03-11 15:02:05,170:INFO:Unfortunately, no current path is formed in simulation time.\n",
      "Running Simulation :   3%|█▍                                                      | 129/5000 [00:00<00:04, 1137.29it/s]"
     ]
    },
    {
     "name": "stdout",
     "output_type": "stream",
     "text": [
      "Unfortunately, only 0 current paths found in simulation time.\n",
      "Random\n"
     ]
    },
    {
     "name": "stderr",
     "output_type": "stream",
     "text": [
      "Running Simulation : 100%|███████████████████████████████████████████████████████| 5000/5000 [00:04<00:00, 1204.66it/s]\n",
      "2020-03-11 15:02:09,407:INFO:Unfortunately, no current path is formed in simulation time.\n"
     ]
    },
    {
     "name": "stdout",
     "output_type": "stream",
     "text": [
      "Unfortunately, only 0 current paths found in simulation time.\n",
      "Network 14\n",
      "Grid\n"
     ]
    },
    {
     "name": "stderr",
     "output_type": "stream",
     "text": [
      "Running Simulation : 100%|███████████████████████████████████████████████████████| 5000/5000 [00:04<00:00, 1195.84it/s]\n",
      "2020-03-11 15:02:13,822:INFO:Unfortunately, no current path is formed in simulation time.\n",
      "Running Simulation :   2%|▉                                                         | 85/5000 [00:00<00:05, 843.86it/s]"
     ]
    },
    {
     "name": "stdout",
     "output_type": "stream",
     "text": [
      "Unfortunately, only 0 current paths found in simulation time.\n",
      "Random\n"
     ]
    },
    {
     "name": "stderr",
     "output_type": "stream",
     "text": [
      "Running Simulation : 100%|████████████████████████████████████████████████████████| 5000/5000 [00:05<00:00, 927.17it/s]\n",
      "2020-03-11 15:02:19,319:INFO:Unfortunately, no current path is formed in simulation time.\n"
     ]
    },
    {
     "name": "stdout",
     "output_type": "stream",
     "text": [
      "Unfortunately, only 0 current paths found in simulation time.\n",
      "Network 15\n",
      "Grid\n"
     ]
    },
    {
     "name": "stderr",
     "output_type": "stream",
     "text": [
      "Running Simulation : 100%|███████████████████████████████████████████████████████| 5000/5000 [00:04<00:00, 1129.61it/s]\n",
      "2020-03-11 15:02:24,015:INFO:Unfortunately, no current path is formed in simulation time.\n",
      "Running Simulation :   2%|█▍                                                      | 124/5000 [00:00<00:03, 1231.01it/s]"
     ]
    },
    {
     "name": "stdout",
     "output_type": "stream",
     "text": [
      "Unfortunately, only 0 current paths found in simulation time.\n",
      "Random\n"
     ]
    },
    {
     "name": "stderr",
     "output_type": "stream",
     "text": [
      "Running Simulation : 100%|███████████████████████████████████████████████████████| 5000/5000 [00:04<00:00, 1218.27it/s]\n",
      "2020-03-11 15:02:28,215:INFO:Unfortunately, no current path is formed in simulation time.\n",
      "Running Simulation :   0%|                                                                    | 0/5000 [00:00<?, ?it/s]"
     ]
    },
    {
     "name": "stdout",
     "output_type": "stream",
     "text": [
      "Unfortunately, only 0 current paths found in simulation time.\n",
      "Network 16\n",
      "Grid\n"
     ]
    },
    {
     "name": "stderr",
     "output_type": "stream",
     "text": [
      "Running Simulation : 100%|███████████████████████████████████████████████████████| 5000/5000 [00:04<00:00, 1218.98it/s]\n",
      "2020-03-11 15:02:32,550:INFO:Unfortunately, no current path is formed in simulation time.\n",
      "Running Simulation :   2%|▉                                                         | 86/5000 [00:00<00:05, 853.76it/s]"
     ]
    },
    {
     "name": "stdout",
     "output_type": "stream",
     "text": [
      "Unfortunately, only 0 current paths found in simulation time.\n",
      "Random\n"
     ]
    },
    {
     "name": "stderr",
     "output_type": "stream",
     "text": [
      "Running Simulation :  27%|██████████████▉                                        | 1356/5000 [00:01<00:03, 1124.91it/s]"
     ]
    }
   ],
   "source": [
    "#Instantiate Variables       \n",
    "stimulus=[[],[]]\n",
    "accSqu=[]\n",
    "#    accTri=[]\n",
    "#    accSaw=[]\n",
    "#    accDbl=[]\n",
    "maxSqu=[]\n",
    "#    maxTri=[]\n",
    "#    maxSaw=[]\n",
    "#    maxDbl=[]\n",
    "dt = 1e-2\n",
    "f=0.5\n",
    "Time=5\n",
    "onAmp=[2,2,4,8,8,10,10,10,10,10,10,10,8,8,8,8,8,8,8,4,4,3,2,1.5]\n",
    "\n",
    "#Choose Electrode Pattern\n",
    "for i in range(len(onAmp)):\n",
    "    stimulus[0].append((stimulus__(biasType='AC',onAmp=onAmp[i],TimeVector=np.arange(0,Time,dt),f=f)))\n",
    "    stimulus[1].append((stimulus__(biasType='Drain',TimeVector=np.arange(0,Time,dt)))) #we don't want this drain to be active during training\n",
    "    \n",
    "#Initialise Output Variables\n",
    "period=[]\n",
    "TimeVector=[]\n",
    "voltage=[]\n",
    "conductance=[]\n",
    "switches=[]\n",
    "results_grid=[None]*len(ws300)\n",
    "results_rand=[None]*len(ws300)\n",
    "\n",
    "nwSqu_grid = [None]*len(ws300)\n",
    "nwSqu_rand = [None]*len(ws300)\n",
    "#        nwTri     = np.zeros(len(nwOutputs))\n",
    "#        nwSaw     = np.zeros(len(nwOutputs))\n",
    "#        nwDbl     = np.zeros(len(nwOutputs))\n",
    "#     nwMG      = [[None]*networksLoad,[None]*len(nwOutputs[0])]\n",
    "\n",
    "\n",
    "#Run Simulations\n",
    "for i in range(len(ws300)): #for each network\n",
    "    print('Network ' + str(i))\n",
    "    #Run Simulations\n",
    "#     results=[]\n",
    "    # Connectivity=connectivity__('700nw_14533junctions.mat')\n",
    "    stimulus2 = [item for item in stimulus] #go through each list in the list and find the ith item\n",
    "#     set_trace()\n",
    "    # GRID WS:\n",
    "    print('Grid')\n",
    "    results_grid[i]=runSim(connectivity__(graph=ws300[i][0]),stimulus=stimulus2, contactMode='farthest', T = Time, dt = 0.001, onAmp = onAmp[i], biasType='AC',f=f,junctionMode='tunneling')\n",
    "    # RANDOM WS:\n",
    "    print('Random')\n",
    "    results_rand[i]=runSim(connectivity__(graph=ws300[i][1]),stimulus=stimulus2, contactMode='farthest', T = Time, dt = 0.001, onAmp = onAmp[i], biasType='AC',f=f,junctionMode='tunneling')\n",
    "    # Small World WS:\n",
    "    # \n",
    "    \n",
    "    results_grid[i].frequency=f\n",
    "    results_rand[i].frequency=f\n",
    "    results_grid[i].dt=0.001\n",
    "    results_rand[i].dt=0.001\n",
    "    period=1/f\n",
    "\n",
    "    TimeVector_grid=results_grid[i].TimeVector\n",
    "    voltage_grid=results_grid[i].wireVoltage\n",
    "    conductance_grid=results_grid[i].conductance\n",
    "    switches_grid=results_grid[i].junctionSwitch\n",
    "    \n",
    "    TimeVector_rand=results_rand[i].TimeVector\n",
    "    voltage_rand=results_rand[i].wireVoltage\n",
    "    conductance_rand=results_rand[i].conductance\n",
    "    switches_rand=results_rand[i].junctionSwitch\n",
    "\n",
    "    stepNodes=len(ws300[i][0])-1 #first use all nodes\n",
    "    sizes2=len(ws300[i][0])\n",
    "    nwOutputs = [None]* int(sizes2/stepNodes)\n",
    "            \n",
    "    outputNodes2_grid=[]\n",
    "    outputNodes2_rand=[]\n",
    "    \n",
    "    for k in range(stepNodes,sizes2+1,stepNodes): #stepping up nodes\n",
    "        np.random.seed(69)\n",
    "\n",
    "        outputNodes2_grid.append(voltage_grid[:,np.random.choice(len(voltage_grid[0,:]),size=k,replace=False)]) #take all the times (:) for a random j nodes\n",
    "        outputNodes2_rand.append(voltage_rand[:,np.random.choice(len(voltage_rand[0,:]),size=k,replace=False)]) #take all the times (:) for a random j nodes\n",
    "        nwOutputs_grid=outputNodes2_grid #Length of nwOutputs is k (list)\n",
    "        nwOutputs_rand=outputNodes2_rand\n",
    "\n",
    "    target1=[None]*len(outputNodes2_rand)\n",
    "#     target2=[None]*len(nwOutputs)\n",
    "#     target3=[None]*len(nwOutputs)\n",
    "#     target4=[None]*len(nwOutputs)\n",
    "#     target5=[None]*len(nwOutputs)\n",
    "\n",
    "    for j in range(len(nwOutputs)):\n",
    "        target1[j] = (onAmp[i] * (-np.sign(TimeVector_grid % period - period/2)))\n",
    "#         target2[j] = (4*onAmp[i]/period * abs((TimeVector-period/4) % period - period/2) - onAmp[i])\n",
    "#         target3[j] = (onAmp[i]/period * (TimeVector % period))\n",
    "#         target4[j] = (onAmp[i]*np.sin(4*np.pi*(1/period)*TimeVector))\n",
    "\n",
    "    ResultSqu_grid=[]\n",
    "    ResultSqu_rand=[]\n",
    "#        ResultTri=[]\n",
    "#        ResultSaw=[]\n",
    "    accuracy=[]\n",
    "#        accuracyTri=[]\n",
    "#        accuracySaw=[]\n",
    "#        accuracyDbl=[]\n",
    "    output=[]\n",
    "\n",
    "    for j in range(len(nwOutputs_grid)): #for each output\n",
    "        ResultSqu_grid=NOKEVregression(target1[j],nwOutputs_grid[j].T)[0]\n",
    "        ResultSqu_rand=NOKEVregression(target1[j],nwOutputs_rand[j].T)[0]\n",
    "        \n",
    "        outputx_grid=np.vstack((np.ones(len(target1[j])),nwOutputs_grid[j].T)).T\n",
    "        outputx_rand=np.vstack((np.ones(len(target1[j])),nwOutputs_rand[j].T)).T\n",
    "        \n",
    "        temp=np.dot(outputx_grid,ResultSqu_grid)\n",
    "        temp2=np.dot(outputx_rand,ResultSqu_rand)\n",
    "        \n",
    "        MSE=np.mean((target1[j]-temp)**2)\n",
    "        MSE2=np.mean((target1[j]-temp2)**2)\n",
    "        \n",
    "        rnMSE=np.sqrt(np.sum((target1[j]-temp)**2)/np.sum((target1[j])**2))\n",
    "        rnMSE2=np.sqrt(np.sum((target1[j]-temp2)**2)/np.sum((target1[j])**2))\n",
    "        nwSqu_grid[i]=(1 - rnMSE)\n",
    "        nwSqu_rand[i]=(1 - rnMSE2)\n",
    "#         set_trace()"
   ]
  },
  {
   "cell_type": "markdown",
   "metadata": {},
   "source": [
    "### Unpacking Simulations (WS)"
   ]
  },
  {
   "cell_type": "code",
   "execution_count": 26,
   "metadata": {},
   "outputs": [
    {
     "ename": "NameError",
     "evalue": "name 'results_rand' is not defined",
     "output_type": "error",
     "traceback": [
      "\u001b[1;31m---------------------------------------------------------------------------\u001b[0m",
      "\u001b[1;31mNameError\u001b[0m                                 Traceback (most recent call last)",
      "\u001b[1;32m<ipython-input-26-36f4b3046e9d>\u001b[0m in \u001b[0;36m<module>\u001b[1;34m\u001b[0m\n\u001b[0;32m     11\u001b[0m \u001b[1;32mfor\u001b[0m \u001b[0mi\u001b[0m \u001b[1;32min\u001b[0m \u001b[0mrange\u001b[0m\u001b[1;33m(\u001b[0m\u001b[1;36m24\u001b[0m\u001b[1;33m)\u001b[0m\u001b[1;33m:\u001b[0m\u001b[1;33m\u001b[0m\u001b[1;33m\u001b[0m\u001b[0m\n\u001b[0;32m     12\u001b[0m     \u001b[0max\u001b[0m\u001b[1;33m[\u001b[0m\u001b[0mi\u001b[0m\u001b[1;33m]\u001b[0m\u001b[1;33m=\u001b[0m\u001b[0mfig1\u001b[0m\u001b[1;33m.\u001b[0m\u001b[0madd_subplot\u001b[0m\u001b[1;33m(\u001b[0m\u001b[1;36m6\u001b[0m\u001b[1;33m,\u001b[0m \u001b[1;36m4\u001b[0m\u001b[1;33m,\u001b[0m \u001b[0mi\u001b[0m\u001b[1;33m+\u001b[0m\u001b[1;36m1\u001b[0m\u001b[1;33m)\u001b[0m\u001b[1;33m\u001b[0m\u001b[1;33m\u001b[0m\u001b[0m\n\u001b[1;32m---> 13\u001b[1;33m     \u001b[0mplt\u001b[0m\u001b[1;33m.\u001b[0m\u001b[0mplot\u001b[0m\u001b[1;33m(\u001b[0m\u001b[0mnp\u001b[0m\u001b[1;33m.\u001b[0m\u001b[0msum\u001b[0m\u001b[1;33m(\u001b[0m\u001b[0mresults_rand\u001b[0m\u001b[1;33m[\u001b[0m\u001b[0mi\u001b[0m\u001b[1;33m]\u001b[0m\u001b[1;33m.\u001b[0m\u001b[0mjunctionSwitch\u001b[0m\u001b[1;33m,\u001b[0m\u001b[1;36m1\u001b[0m\u001b[1;33m)\u001b[0m\u001b[1;33m)\u001b[0m\u001b[1;33m\u001b[0m\u001b[1;33m\u001b[0m\u001b[0m\n\u001b[0m",
      "\u001b[1;31mNameError\u001b[0m: name 'results_rand' is not defined"
     ]
    },
    {
     "data": {
      "image/png": "[encoded data removed]",
      "text/plain": [
       "<Figure size 1080x1080 with 2 Axes>"
      ]
     },
     "metadata": {
      "needs_background": "light"
     },
     "output_type": "display_data"
    }
   ],
   "source": [
    "#network junctions switches:\n",
    "fig1=plt.figure(figsize=(15,15))\n",
    "plt.title('RANDOM')\n",
    "ax=[None]*24\n",
    "axBig = fig1.add_subplot(111)\n",
    "axBig.set_frame_on(False)\n",
    "axBig.set_yticklabels([])\n",
    "axBig.set_xticklabels([])\n",
    "plt.xlabel('Time',fontsize=30,labelpad=15)\n",
    "plt.ylabel('Num On Switches',fontsize=30,labelpad=15)\n",
    "for i in range(24):\n",
    "    ax[i]=fig1.add_subplot(6, 4, i+1)\n",
    "    plt.plot(np.sum(results_rand[i].junctionSwitch,1))"
   ]
  },
  {
   "cell_type": "code",
   "execution_count": 47,
   "metadata": {
    "scrolled": true
   },
   "outputs": [
    {
     "data": {
      "text/plain": [
       "Text(0, 0.5, 'Num On Switches')"
      ]
     },
     "execution_count": 47,
     "metadata": {},
     "output_type": "execute_result"
    },
    {
     "data": {
      "image/png": "[encoded data removed]",
      "text/plain": [
       "<Figure size 1080x1080 with 25 Axes>"
      ]
     },
     "metadata": {
      "needs_background": "light"
     },
     "output_type": "display_data"
    }
   ],
   "source": [
    "#network junctions switches:\n",
    "fig1=plt.figure(figsize=(15,15))\n",
    "plt.title('GRID')\n",
    "ax=[None]*24\n",
    "axBig = fig1.add_subplot(111)\n",
    "axBig.set_frame_on(False)\n",
    "axBig.set_yticklabels([])\n",
    "axBig.set_xticklabels([])\n",
    "plt.xlabel('Time',fontsize=30,labelpad=15)\n",
    "plt.ylabel('Num On Switches',fontsize=30,labelpad=15)\n",
    "for i in range(24):\n",
    "    ax[i]=fig1.add_subplot(6, 4, i+1)\n",
    "    plt.plot(np.sum(results_grid[i].junctionSwitch,1))"
   ]
  },
  {
   "cell_type": "code",
   "execution_count": 49,
   "metadata": {},
   "outputs": [
    {
     "data": {
      "text/plain": [
       "[0.6977258439119274,\n",
       " 0.6677484947384543,\n",
       " 0.6472371669830066,\n",
       " 0.5701893818177167,\n",
       " 0.5701893818177167,\n",
       " 0.5690727933432619,\n",
       " 0.5690727933432619,\n",
       " 0.5690727933432619,\n",
       " 0.5690727933432619,\n",
       " 0.5690727933432619,\n",
       " 0.5690727933432619,\n",
       " 0.5690727933432619,\n",
       " 0.5701893818177167,\n",
       " 0.5701893818177167,\n",
       " 0.5701893818177167,\n",
       " 0.5701893818177167,\n",
       " 0.5701893818177167,\n",
       " 0.5701893818177167,\n",
       " 0.6755374236941325,\n",
       " 0.6472371669830066,\n",
       " 0.6697755867643358,\n",
       " 0.6720607446485161,\n",
       " 0.6815123532940645,\n",
       " 0.6881710919871199]"
      ]
     },
     "execution_count": 49,
     "metadata": {},
     "output_type": "execute_result"
    }
   ],
   "source": [
    "nwSqu_grid"
   ]
  },
  {
   "cell_type": "code",
   "execution_count": 50,
   "metadata": {},
   "outputs": [
    {
     "data": {
      "text/plain": [
       "[0.7966455088699532,\n",
       " 0.8082163760606584,\n",
       " 0.7684570588868025,\n",
       " 0.5773964708345893,\n",
       " 0.5773964708345893,\n",
       " 0.5753480272208391,\n",
       " 0.5753480272208391,\n",
       " 0.5753480272208391,\n",
       " 0.5753480272208391,\n",
       " 0.5753480272208391,\n",
       " 0.5753480272208391,\n",
       " 0.5753480272208391,\n",
       " 0.5773964708345893,\n",
       " 0.5773964708345893,\n",
       " 0.5773964708345893,\n",
       " 0.5773964708345893,\n",
       " 0.5773964708345893,\n",
       " 0.5773964708345893,\n",
       " 0.7167819840055969,\n",
       " 0.7684570588868025,\n",
       " 0.7292591771615411,\n",
       " 0.7943827904356788,\n",
       " 0.7707247871170669,\n",
       " 0.8296225989223545]"
      ]
     },
     "execution_count": 50,
     "metadata": {},
     "output_type": "execute_result"
    }
   ],
   "source": [
    "nwSqu_rand"
   ]
  },
  {
   "cell_type": "markdown",
   "metadata": {},
   "source": [
    "## C. Elegans"
   ]
  },
  {
   "cell_type": "code",
   "execution_count": 53,
   "metadata": {},
   "outputs": [
    {
     "name": "stderr",
     "output_type": "stream",
     "text": [
      "Running Simulation :   2%|█▎                                                      | 119/5000 [00:00<00:04, 1181.71it/s]"
     ]
    },
    {
     "name": "stdout",
     "output_type": "stream",
     "text": [
      "Network C.Elegans\n"
     ]
    },
    {
     "name": "stderr",
     "output_type": "stream",
     "text": [
      "Running Simulation : 100%|███████████████████████████████████████████████████████| 5000/5000 [00:04<00:00, 1198.75it/s]\n",
      "2020-03-11 11:30:58,895:INFO:First current path [9, 38, 16, 169, 105, 98, 36] formed at time = 0.509 s.\n"
     ]
    }
   ],
   "source": [
    "#Instantiate Variables       \n",
    "stimulus=[[],[]]\n",
    "accSqu=[]\n",
    "#    accTri=[]\n",
    "#    accSaw=[]\n",
    "#    accDbl=[]\n",
    "maxSqu=[]\n",
    "#    maxTri=[]\n",
    "#    maxSaw=[]\n",
    "#    maxDbl=[]\n",
    "dt = 1e-2\n",
    "f=0.5\n",
    "Time=5\n",
    "onAmp=2#[1.5,2,4,4,4,6,6,6,6,6,6,6,4,4,4,4,6,4,4,4,4,3,2,1.5]\n",
    "\n",
    "#Choose Electrode Pattern\n",
    "\n",
    "stimulus[0].append((stimulus__(biasType='AC',onAmp=onAmp,TimeVector=np.arange(0,Time,dt),f=f)))\n",
    "stimulus[1].append((stimulus__(biasType='Drain',TimeVector=np.arange(0,Time,dt)))) #we don't want this drain to be active during training\n",
    "\n",
    "#Initialise Output Variables\n",
    "period=[]\n",
    "TimeVector=[]\n",
    "voltage=[]\n",
    "conductance=[]\n",
    "switches=[]\n",
    "results=[None]*len([elegansGraph])\n",
    "# Voltage=[None]*len(ASN300)\n",
    "# Switches=[None]*len(ASN300)\n",
    "\n",
    "\n",
    "nwSqu = [None]*len([elegansGraph])\n",
    "\n",
    "#Run Simulations\n",
    "# for i in range(len(ASN300)): #for each network\n",
    "print('Network C.Elegans')\n",
    "#Run Simulations\n",
    "#     results=[]\n",
    "# Connectivity=connectivity__('700nw_14533junctions.mat')\n",
    "stimulus2 = [item for item in stimulus] #go through each list in the list and find the ith item\n",
    "#     set_trace()\n",
    "results=runSim(connectivity__(graph=elegansGraph),stimulus=stimulus2, contactMode='farthest', T = Time, dt = 0.001, onAmp = onAmp, biasType='AC',f=f,junctionMode='tunneling')\n",
    "#wires_dict=newNetworkTest[chosenNetwork])\n",
    "results.frequency=f\n",
    "results.dt=0.001\n",
    "period=1/f\n",
    "\n",
    "TimeVector=results.TimeVector\n",
    "voltage=results.wireVoltage\n",
    "conductance=results.conductance\n",
    "switches=results.junctionSwitch\n",
    "\n",
    "stepNodes=len(elegansGraph)-1 #first use all nodes\n",
    "sizes2=len(elegansGraph)\n",
    "nwOutputs = [None]* int(sizes2/stepNodes)\n",
    "\n",
    "outputNodes2=[]\n",
    "\n",
    "for k in range(stepNodes,sizes2+1,stepNodes): #stepping up nodes\n",
    "    np.random.seed(69)\n",
    "\n",
    "    outputNodes2.append(voltage[:,np.random.choice(len(voltage[0,:]),size=k,replace=False)]) #take all the times (:) for a random j nodes\n",
    "\n",
    "    nwOutputs=outputNodes2 #Length of nwOutputs is k (list)\n",
    "\n",
    "target1=[None]*len(nwOutputs)\n",
    "#     target2=[None]*len(nwOutputs)\n",
    "#     target3=[None]*len(nwOutputs)\n",
    "#     target4=[None]*len(nwOutputs)\n",
    "#     target5=[None]*len(nwOutputs)\n",
    "\n",
    "for j in range(len(nwOutputs)):\n",
    "    target1[j] = (onAmp * (-np.sign(TimeVector % period - period/2)))\n",
    "#         target2[j] = (4*onAmp[i]/period * abs((TimeVector-period/4) % period - period/2) - onAmp[i])\n",
    "#         target3[j] = (onAmp[i]/period * (TimeVector % period))\n",
    "#         target4[j] = (onAmp[i]*np.sin(4*np.pi*(1/period)*TimeVector))\n",
    "\n",
    "\n",
    "#        nwTri     = np.zeros(len(nwOutputs))\n",
    "#        nwSaw     = np.zeros(len(nwOutputs))\n",
    "#        nwDbl     = np.zeros(len(nwOutputs))\n",
    "#     nwMG      = [[None]*networksLoad,[None]*len(nwOutputs[0])]\n",
    "\n",
    "ResultSqu=[]\n",
    "#        ResultTri=[]\n",
    "#        ResultSaw=[]\n",
    "accuracy=[]\n",
    "#        accuracyTri=[]\n",
    "#        accuracySaw=[]\n",
    "#        accuracyDbl=[]\n",
    "output=[]\n",
    "mSqu=[]\n",
    "#        mTri=[]\n",
    "#        mSaw=[]\n",
    "#        mDbl=[]\n",
    "\n",
    "for j in range(len(nwOutputs)): #for each output\n",
    "    ResultSqu=NOKEVregression(target1[j],nwOutputs[j].T)[0]\n",
    "    outputx=np.vstack((np.ones(len(target1[j])),nwOutputs[j].T)).T\n",
    "    temp=np.dot(outputx,ResultSqu)\n",
    "    MSE=np.mean((target1[j]-temp)**2)\n",
    "    rnMSE=np.sqrt(np.sum((target1[j]-temp)**2)/np.sum((target1[j])**2))\n",
    "    nwSqu=(1 - rnMSE)\n",
    "#         set_trace()"
   ]
  },
  {
   "cell_type": "code",
   "execution_count": 54,
   "metadata": {},
   "outputs": [
    {
     "data": {
      "text/plain": [
       "0.8120490161284999"
      ]
     },
     "execution_count": 54,
     "metadata": {},
     "output_type": "execute_result"
    }
   ],
   "source": [
    "nwSqu"
   ]
  },
  {
   "cell_type": "markdown",
   "metadata": {},
   "source": [
    "# Mackey Glass"
   ]
  },
  {
   "cell_type": "code",
   "execution_count": null,
   "metadata": {},
   "outputs": [],
   "source": [
    "def runForecastNew(connectivity, multi = 1, shift = 0, \n",
    "                training_ratio = 0.3, past_steps = 50,\n",
    "                cheat_period = 100, cheat_steps = 60,\n",
    "                save_fig = False,\n",
    "                disable_tqdm = False,inList = 0, outList=0):\n",
    "\n",
    "    N = connectivity.numOfWires\n",
    "    inList = inList#np.argsort(connectivity.xa)[0:20]\n",
    "    outList = outList#np.argsort(connectivity.xb)[::-1][0:20]\n",
    "    \n",
    "    theMat = np.zeros((N+2, N+2))\n",
    "    theMat[0:N, 0:N] = connectivity.adj_matrix\n",
    "    theMat[N, inList] = 1\n",
    "    theMat[inList, N] = 1\n",
    "    theMat[N+1, outList] = 1\n",
    "    theMat[outList, N+1] = 1\n",
    "    theGraph = nx.from_numpy_array(theMat)\n",
    "    \n",
    "    Connectivity = connectivity__(graph = theGraph)\n",
    "    # junctionList = [findJunctionIndex(Connectivity, N+1, i) for i in outList]\n",
    "    \n",
    "    SimulationOptions = simulationOptions__(dt = 1e-2, T = 100,\n",
    "                                        contactMode = 'preSet',\n",
    "                                        electrodes = [N, N+1])\n",
    "    signal = mkg_generator(10000, tau = 18, a = 0.2, b = 0.1, dt = 0.1)*multi+shift\n",
    "    SimulationOptions.stimulus[0] = stimulus__(biasType = 'Custom', TimeVector = SimulationOptions.TimeVector, customSignal = signal)\n",
    "    JunctionState = junctionState__(Connectivity.numOfJunctions, mode = 'binary', collapse = True)\n",
    "\n",
    "    sim1, weight1, measure1 = forecast(SimulationOptions, Connectivity, JunctionState,\n",
    "                                   training_ratio, past_steps, forecast_on = True, measure_type = 'voltage', \n",
    "                                   past_signal = True, pre_activate = False, \n",
    "                                   cheat_on = True, cheat_period = cheat_period, cheat_steps = cheat_steps,\n",
    "                                   update_weight = False, update_stepsize = 100, disable_tqdm = disable_tqdm)\n",
    "    \n",
    "    RNMSE = getRNMSE(sim1.forecast[sim1.predict_index]-shift, sim1.stimulus[0].signal[sim1.predict_index]-shift)\n",
    "    sim1.forecastParams = dict(numOfWires = sim1.numOfWires,\n",
    "                                numOfJunctions = sim1.numOfJunctions,\n",
    "                                multi = multi, shift = shift,\n",
    "                                training_ratio = training_ratio,\n",
    "                                past_steps = past_steps,\n",
    "                                cheat_period = cheat_period,\n",
    "                                forecast_steps = cheat_period - cheat_steps,\n",
    "                                cheat_steps = cheat_steps)\n",
    "    if save_fig and (RNMSE < 0.5):\n",
    "        plt.figure()\n",
    "        plotForecastPanel(sim1)\n",
    "        import time\n",
    "        filename = time.strftime(\"%Y-%m-%d-%H%M%S\") + '_RNMSE_' + str(np.round(RNMSE, 4)) + '.png'\n",
    "        plt.savefig(filename)\n",
    "    \n",
    "    logging.info(f'RNMSE = {RNMSE}')\n",
    "    return RNMSE\n"
   ]
  },
  {
   "cell_type": "code",
   "execution_count": null,
   "metadata": {},
   "outputs": [],
   "source": [
    "accuracy={'ASN300':[None]*len(ASN300),'Elegans':[],'WS Grid 300':[None]*len(ASN300),'WS Random 300':[None]*len(ASN300)}"
   ]
  },
  {
   "cell_type": "markdown",
   "metadata": {},
   "source": [
    "## 100nw & 300nw ASNs"
   ]
  },
  {
   "cell_type": "code",
   "execution_count": null,
   "metadata": {},
   "outputs": [],
   "source": [
    "ASN_con_300=[None]*len(ASN300)\n",
    "for i in range(len(ASN300)):\n",
    "    ASN_con_300[i]=connectivity__(wires_dict=ASN300[i])   \n",
    "# ASN_con_100=connectivity__(wires_dict=ASN100)   "
   ]
  },
  {
   "cell_type": "code",
   "execution_count": null,
   "metadata": {},
   "outputs": [],
   "source": [
    "mse300=[None]*len(ASN_con_300)\n",
    "for i in range(len(ASN_con_300)):\n",
    "    print('Network ' + str(i))\n",
    "    mse300[i]=runForecast(ASN_con_300[i], multi = 1, shift = 0, \n",
    "                    training_ratio = 0.3, past_steps = 50,\n",
    "                    cheat_period = 100, cheat_steps = 60,\n",
    "                    save_fig = False,\n",
    "                    disable_tqdm = False)"
   ]
  },
  {
   "cell_type": "code",
   "execution_count": null,
   "metadata": {},
   "outputs": [],
   "source": [
    "# mse100=runForecast(ASN_con_100, multi = 1, shift = 0, \n",
    "#                 training_ratio = 0.3, past_steps = 50,\n",
    "#                 cheat_period = 100, cheat_steps = 50,\n",
    "#                 save_fig = False,\n",
    "#                 disable_tqdm = False)"
   ]
  },
  {
   "cell_type": "code",
   "execution_count": null,
   "metadata": {},
   "outputs": [],
   "source": [
    "# accuracy['ASN100']=1-mse100\n",
    "for i in range(len(mse300)):\n",
    "    accuracy['ASN300'][i]=1-mse300[i]"
   ]
  },
  {
   "cell_type": "code",
   "execution_count": null,
   "metadata": {},
   "outputs": [],
   "source": [
    "#Find best performing network:\n",
    "best_params_nw=np.argsort(mse300) #sort by lowest MSE\n",
    "best_accuracies=np.array(accuracy['ASN300'])[np.array(best_params_nw)] #define best accuracies based on lowest MSE"
   ]
  },
  {
   "cell_type": "code",
   "execution_count": null,
   "metadata": {},
   "outputs": [],
   "source": [
    "sortedASN300=[]\n",
    "for nw in best_params_nw:\n",
    "    sortedASN300.append(ASN300[nw]) #make new list sorted by highest to lowest accuracy"
   ]
  },
  {
   "cell_type": "code",
   "execution_count": null,
   "metadata": {},
   "outputs": [],
   "source": [
    "best_accuracies"
   ]
  },
  {
   "cell_type": "code",
   "execution_count": null,
   "metadata": {},
   "outputs": [],
   "source": [
    "plt.figure(figsize=(10,10))\n",
    "nx.draw_networkx(sortedASN300[0]['G'])"
   ]
  },
  {
   "cell_type": "markdown",
   "metadata": {},
   "source": [
    "## C. Elegans"
   ]
  },
  {
   "cell_type": "code",
   "execution_count": null,
   "metadata": {},
   "outputs": [],
   "source": [
    "plt.figure(figsize=(10,10))\n",
    "nx.draw_networkx(elegansGraph)"
   ]
  },
  {
   "cell_type": "code",
   "execution_count": null,
   "metadata": {},
   "outputs": [],
   "source": [
    "mseElegans=runForecastNew(connectivity__(graph=elegansGraph), multi = 1, shift = 0, \n",
    "                training_ratio = 0.3, past_steps = 50,\n",
    "                cheat_period = 100, cheat_steps = 60,\n",
    "                save_fig = False,\n",
    "                disable_tqdm = False, inList=8, outList=245)"
   ]
  },
  {
   "cell_type": "code",
   "execution_count": null,
   "metadata": {},
   "outputs": [],
   "source": [
    "accuracy['Elegans']=1-mseElegans"
   ]
  },
  {
   "cell_type": "markdown",
   "metadata": {},
   "source": [
    "## Watts-Strogatz\n",
    "### Grid & Random"
   ]
  },
  {
   "cell_type": "code",
   "execution_count": null,
   "metadata": {},
   "outputs": [],
   "source": [
    "ws300[10][1].number_of_nodes()"
   ]
  },
  {
   "cell_type": "code",
   "execution_count": null,
   "metadata": {},
   "outputs": [],
   "source": [
    "plt.figure(figsize=(10,10))\n",
    "nx.draw_networkx(ws300[10][1])"
   ]
  },
  {
   "cell_type": "code",
   "execution_count": null,
   "metadata": {},
   "outputs": [],
   "source": [
    "# mseGrid100=runForecastNew(connectivity__(graph=ws100[0]), multi = 1, shift = 0, \n",
    "#                 training_ratio = 0.3, past_steps = 50,\n",
    "#                 cheat_period = 100, cheat_steps = 60,\n",
    "#                 save_fig = False,\n",
    "#                 disable_tqdm = False,inList=0,outList=75)"
   ]
  },
  {
   "cell_type": "code",
   "execution_count": null,
   "metadata": {},
   "outputs": [],
   "source": [
    "# mseRandom100=runForecastNew(connectivity__(graph=ws100[1]), multi = 1, shift = 0, \n",
    "#                 training_ratio = 0.3, past_steps = 50,\n",
    "#                 cheat_period = 100, cheat_steps = 50,\n",
    "#                 save_fig = False,\n",
    "#                 disable_tqdm = False,inList=54,outList=25)"
   ]
  },
  {
   "cell_type": "code",
   "execution_count": null,
   "metadata": {},
   "outputs": [],
   "source": [
    "mseGrid300=[None]*len(ws300)\n",
    "for i in range(len(ws300)):\n",
    "    print('Network ' + str(i))\n",
    "    numNodes=ws300[i][0].number_of_nodes()\n",
    "    mseGrid300[i]=runForecastNew(connectivity__(graph=ws300[i][0]), multi = 1, shift = 0, \n",
    "                    training_ratio = 0.3, past_steps = 50,\n",
    "                    cheat_period = 100, cheat_steps = 60,\n",
    "                    save_fig = False,\n",
    "                    disable_tqdm = False,inList=0,outList=int(numNodes/2))"
   ]
  },
  {
   "cell_type": "code",
   "execution_count": null,
   "metadata": {},
   "outputs": [],
   "source": [
    "mseRandom300=[None]*len(ws300)\n",
    "\n",
    "for i in range(len(ws300)):\n",
    "    adjmat=np.asarray(nx.adjacency_matrix(ws300[i][1]).todense())\n",
    "    electrodes=edamame.core.getFarthestpairing(adjmat)\n",
    "#     numNodes=ws300[i][1].number_of_nodes()\n",
    "    mseRandom300[i]=runForecastNew(connectivity__(graph=ws300[i][0]), multi = 1, shift = 0, \n",
    "                training_ratio = 0.3, past_steps = 50,\n",
    "                cheat_period = 100, cheat_steps = 60,\n",
    "                save_fig = False,\n",
    "                disable_tqdm = False,inList=electrodes[0],outList=electrodes[1])"
   ]
  },
  {
   "cell_type": "code",
   "execution_count": null,
   "metadata": {},
   "outputs": [],
   "source": [
    "#Find best performing networks: (Random)\n",
    "for i in range(len(mse300)):\n",
    "    accuracy['WS Random 300'][i]=1-mseRandom300[i]\n",
    "    \n",
    "best_params_random=np.argsort(mseRandom300) #sort by lowest MSE\n",
    "best_accuracies_random=np.array(accuracy['WS Random 300'])[np.array(best_params_random)] #define best accuracies based on lowest MSE\n",
    "\n",
    "sortedRandom=[]\n",
    "for nw in best_params_random:\n",
    "    sortedRandom.append(ws300[nw][1]) #make new list sorted by highest to lowest accuracy\n",
    "\n",
    "\n",
    "\n",
    "#Find best performing networks: (Grid)\n",
    "\n",
    "for i in range(len(mse300)):\n",
    "    accuracy['WS Grid 300'][i]=1-mseGrid300[i]\n",
    "    \n",
    "best_params_grid=np.argsort(mseGrid300) #sort by lowest MSE\n",
    "best_accuracies_grid=np.array(accuracy['WS Grid 300'])[np.array(best_params_grid)] #define best accuracies based on lowest MSE\n",
    "\n",
    "sortedGrid=[]\n",
    "for nw in best_params_grid:\n",
    "    sortedGrid.append(ws300[nw][1]) #make new list sorted by highest to lowest accuracy\n",
    "\n",
    "print('WS Grid Accuracies: ' + str(accuracy['WS Grid 300']))\n",
    "print('WS Random Accuracies: ' + str(accuracy['WS Random 300']))"
   ]
  },
  {
   "cell_type": "code",
   "execution_count": null,
   "metadata": {},
   "outputs": [],
   "source": [
    "best_params_grid"
   ]
  },
  {
   "cell_type": "code",
   "execution_count": null,
   "metadata": {},
   "outputs": [],
   "source": [
    "best_params_random"
   ]
  },
  {
   "cell_type": "code",
   "execution_count": null,
   "metadata": {},
   "outputs": [],
   "source": [
    "# accuracy['WS Grid 100']=1-mseGrid100\n",
    "# accuracy['WS Random 100']=1-mseRandom100\n",
    "for i in range(len(mseRandom300)):\n",
    "    accuracy['WS Grid 300'][i]=1-mseGrid300[i]\n",
    "    accuracy['WS Random 300'][i]=1-mseRandom300[i]"
   ]
  },
  {
   "cell_type": "code",
   "execution_count": null,
   "metadata": {},
   "outputs": [],
   "source": [
    "accuracy"
   ]
  },
  {
   "cell_type": "code",
   "execution_count": null,
   "metadata": {},
   "outputs": [],
   "source": [
    "plt.plot(accuracy['ASN300'],label='300nw ASN')\n",
    "plt.hlines(accuracy['Elegans'],xmin=0,xmax=23,label='C. Elegans')\n",
    "plt.plot(accuracy['WS Grid 300'],label='WS Grid')\n",
    "plt.plot(accuracy['WS Random 300'],label='WS Random')\n",
    "plt.yscale('log')\n",
    "plt.legend(loc='lower right')"
   ]
  },
  {
   "cell_type": "code",
   "execution_count": null,
   "metadata": {},
   "outputs": [],
   "source": []
  }
 ],
 "metadata": {
  "kernelspec": {
   "display_name": "Python 3",
   "language": "python",
   "name": "python3"
  },
  "language_info": {
   "codemirror_mode": {
    "name": "ipython",
    "version": 3
   },
   "file_extension": ".py",
   "mimetype": "text/x-python",
   "name": "python",
   "nbconvert_exporter": "python",
   "pygments_lexer": "ipython3",
   "version": "3.7.3"
  }
 },
 "nbformat": 4,
 "nbformat_minor": 4
}
