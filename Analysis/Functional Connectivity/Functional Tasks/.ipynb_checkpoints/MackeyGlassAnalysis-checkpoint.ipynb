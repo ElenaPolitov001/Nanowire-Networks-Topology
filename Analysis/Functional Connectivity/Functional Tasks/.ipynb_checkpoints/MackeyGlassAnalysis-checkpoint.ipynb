{
 "cells": [
  {
   "cell_type": "markdown",
   "metadata": {},
   "source": [
    "# Mackey Glass"
   ]
  },
  {
   "cell_type": "code",
   "execution_count": 1,
   "metadata": {},
   "outputs": [],
   "source": [
    "def runForecastNew(connectivity, multi = 1, shift = 0, \n",
    "                training_ratio = 0.3, past_steps = 50,\n",
    "                cheat_period = 100, cheat_steps = 60,\n",
    "                save_fig = False,\n",
    "                disable_tqdm = False,inList = 0, outList=0):\n",
    "\n",
    "    N = connectivity.numOfWires\n",
    "    inList = inList#np.argsort(connectivity.xa)[0:20]\n",
    "    outList = outList#np.argsort(connectivity.xb)[::-1][0:20]\n",
    "    \n",
    "    theMat = np.zeros((N+2, N+2))\n",
    "    theMat[0:N, 0:N] = connectivity.adj_matrix\n",
    "    theMat[N, inList] = 1\n",
    "    theMat[inList, N] = 1\n",
    "    theMat[N+1, outList] = 1\n",
    "    theMat[outList, N+1] = 1\n",
    "    theGraph = nx.from_numpy_array(theMat)\n",
    "    \n",
    "    Connectivity = connectivity__(graph = theGraph)\n",
    "    # junctionList = [findJunctionIndex(Connectivity, N+1, i) for i in outList]\n",
    "    \n",
    "    SimulationOptions = simulationOptions__(dt = 1e-2, T = 100,\n",
    "                                        contactMode = 'preSet',\n",
    "                                        electrodes = [N, N+1])\n",
    "    signal = mkg_generator(10000, tau = 18, a = 0.2, b = 0.1, dt = 0.1)*multi+shift\n",
    "    SimulationOptions.stimulus[0] = stimulus__(biasType = 'Custom', TimeVector = SimulationOptions.TimeVector, customSignal = signal)\n",
    "    JunctionState = junctionState__(Connectivity.numOfJunctions, mode = 'binary', collapse = True)\n",
    "\n",
    "    sim1, weight1, measure1 = forecast(SimulationOptions, Connectivity, JunctionState,\n",
    "                                   training_ratio, past_steps, forecast_on = True, measure_type = 'voltage', \n",
    "                                   past_signal = True, pre_activate = False, \n",
    "                                   cheat_on = True, cheat_period = cheat_period, cheat_steps = cheat_steps,\n",
    "                                   update_weight = False, update_stepsize = 100, disable_tqdm = disable_tqdm)\n",
    "    \n",
    "    RNMSE = getRNMSE(sim1.forecast[sim1.predict_index]-shift, sim1.stimulus[0].signal[sim1.predict_index]-shift)\n",
    "    sim1.forecastParams = dict(numOfWires = sim1.numOfWires,\n",
    "                                numOfJunctions = sim1.numOfJunctions,\n",
    "                                multi = multi, shift = shift,\n",
    "                                training_ratio = training_ratio,\n",
    "                                past_steps = past_steps,\n",
    "                                cheat_period = cheat_period,\n",
    "                                forecast_steps = cheat_period - cheat_steps,\n",
    "                                cheat_steps = cheat_steps)\n",
    "    if save_fig and (RNMSE < 0.5):\n",
    "        plt.figure()\n",
    "        plotForecastPanel(sim1)\n",
    "        import time\n",
    "        filename = time.strftime(\"%Y-%m-%d-%H%M%S\") + '_RNMSE_' + str(np.round(RNMSE, 4)) + '.png'\n",
    "        plt.savefig(filename)\n",
    "    \n",
    "    logging.info(f'RNMSE = {RNMSE}')\n",
    "    return RNMSE\n"
   ]
  },
  {
   "cell_type": "code",
   "execution_count": null,
   "metadata": {},
   "outputs": [],
   "source": [
    "accuracy={'ASN300':[None]*len(ASN300),'Elegans':[],'WS Grid 300':[None]*len(ASN300),'WS Random 300':[None]*len(ASN300)}"
   ]
  },
  {
   "cell_type": "code",
   "execution_count": null,
   "metadata": {},
   "outputs": [],
   "source": [
    "ASN_con_300=[None]*len(ASN300)\n",
    "for i in range(len(ASN300)):\n",
    "    ASN_con_300[i]=connectivity__(wires_dict=ASN300[i])   \n",
    "# ASN_con_100=connectivity__(wires_dict=ASN100)   "
   ]
  },
  {
   "cell_type": "code",
   "execution_count": null,
   "metadata": {},
   "outputs": [],
   "source": [
    "cheatSteps=range(10,61,10)\n",
    "mse300_cheat=[[None]*len(ASN_con_300) for i in range(len(cheatSteps))]\n",
    "\n",
    "for i in range(len(ASN_con_300)): #number of networks\n",
    "    for j in range(len(cheatSteps)): #number of cheat steps\n",
    "        print('Network ' + str(i))\n",
    "        print('Cheat Steps ' + str(cheatSteps[j]))        \n",
    "        #run forcast on network j for i cheat steps \n",
    "        mse300_cheat[j][i]=runForecast(ASN_con_300[i], multi = 1, shift = 0, \n",
    "                        training_ratio = 0.3, past_steps = 50,\n",
    "                        cheat_period = 100, cheat_steps = cheatSteps[j],\n",
    "                        save_fig = False,\n",
    "                        disable_tqdm = False)"
   ]
  },
  {
   "cell_type": "code",
   "execution_count": null,
   "metadata": {},
   "outputs": [],
   "source": [
    "accuracy['ASN300']=[[None]*len(ASN300) for i in range(len(cheatSteps))]\n",
    "for i in range(len(cheatSteps)):\n",
    "    for j in range(len(ASN300)):\n",
    "        if i==0:\n",
    "            ASN300[j]['Accuracy']['Mackey Glass']={'Cheat Steps':[],'Accuracy Value':[]}\n",
    "        print(str(cheatSteps[i]))\n",
    "        ASN300[j]['Accuracy']['Mackey Glass']['Cheat Steps'].append(cheatSteps[i])\n",
    "        accuracy['ASN300'][i][j]=1-mse300_cheat[i][j]\n",
    "        ASN300[j]['Accuracy']['Mackey Glass']['Accuracy Value'].append(1-mse300_cheat[i][j])\n",
    "# for i in range(len(cheatSteps)):\n",
    "#     for j in range(len(mse300_cheat[i])):\n",
    "#         accuracy['ASN300'][i][j]=1-mse300_cheat[i][j] #save for analysis\n",
    "\n",
    "#         ASN300[j]['Accuracy']['Mackey Glass']=accuracy['ASN300'][i][j] #save for plotting"
   ]
  },
  {
   "cell_type": "code",
   "execution_count": null,
   "metadata": {},
   "outputs": [],
   "source": [
    "#Find best performing network:\n",
    "best_params_nw=np.argsort(mse300_cheat) #sort by lowest MSE\n",
    "best_accuracies=[None]*len(mse300_cheat)\n",
    "for i in range(len(mse300_cheat)):\n",
    "    best_accuracies[i]=np.array(mse300_cheat[i])[np.array(best_params_nw[i])] #define best accuracies based on lowest MSE"
   ]
  },
  {
   "cell_type": "code",
   "execution_count": null,
   "metadata": {},
   "outputs": [],
   "source": [
    "#Plot accuracy vs number of cheat steps\n",
    "meanAcc=[]\n",
    "stdAcc=[]\n",
    "for i in range(len(cheatSteps)):\n",
    "    meanAcc.append(np.mean(accuracy['ASN300'][i]))\n",
    "    stdAcc.append(np.std(accuracy['ASN300'][i]))\n",
    "# plt.plot(meanAcc,'-o')\n",
    "plt.figure(figsize=(10,10))\n",
    "plt.errorbar(range(len(cheatSteps)),meanAcc,stdAcc, marker='^')\n",
    "plt.xticks(range(0,len(ASN300[0]['Accuracy']['Mackey Glass']['Cheat Steps']),1),labels=ASN300[0]['Accuracy']['Mackey Glass']['Cheat Steps'])\n",
    "plt.xlabel('Number of Cheat Steps')\n",
    "plt.ylabel('Average ASN300 Accuracy')\n",
    "plt.title('ASN 300 | Past Steps = 50 | Cheat Period = 100')\n",
    "# plt.yscale('log')\n",
    "plt.ylim([0, 1])"
   ]
  },
  {
   "cell_type": "code",
   "execution_count": null,
   "metadata": {},
   "outputs": [],
   "source": [
    "#Current and Communicability Matrices:\n",
    "commuMatASN_MG=[[None]*len(mse300_cheat) for i in range(len(mse300_cheat[0]))]\n",
    "currMatASN_MG=[None]*len(mse300_cheat) for i in range(len(mse300_cheat[0]))]\n",
    "for i in tqdm(range(len(mse300_cheat))): # for each cheat step\n",
    "    for j in range(len(mse300_cheat[i])): # for each network\n",
    "    commuMatASN_MG[j][i],currMatASN_MG[j][i]=commCurr(mse300_cheat[i][j])"
   ]
  },
  {
   "cell_type": "markdown",
   "metadata": {},
   "source": [
    "## C. Elegans"
   ]
  },
  {
   "cell_type": "code",
   "execution_count": null,
   "metadata": {},
   "outputs": [],
   "source": [
    "mseElegans=[]\n",
    "cheat_steps=[]\n",
    "#loop through cheat steps + see how accuracy changes\n",
    "for i in cheatSteps:\n",
    "    print('Cheat steps = ' + str(i))\n",
    "    mseElegans.append(runForecastNew(connectivity__(graph=elegansGraph), multi = 1, shift = 0, \n",
    "                    training_ratio = 0.3, past_steps = 50,\n",
    "                    cheat_period = 100, cheat_steps = i,\n",
    "                    save_fig = False,\n",
    "                    disable_tqdm = False, inList=8, outList=245))\n",
    "    cheat_steps.append(i)\n",
    "#change tau parameter for chaos"
   ]
  },
  {
   "cell_type": "code",
   "execution_count": null,
   "metadata": {},
   "outputs": [],
   "source": [
    "Elegans['Accuracy']['Mackey Glass']['Cheat Steps']=[]\n",
    "Elegans['Accuracy']['Mackey Glass']['Accuracy Value']=[]\n",
    "accuracy['Elegans']=[]\n",
    "Elegans_MG_accuracy=[[None]*len(Elegans) for i in range(len(cheatSteps))]\n",
    "\n",
    "for i in range(len(mseElegans)):\n",
    "    accuracy['Elegans']=1-mseElegans[i]\n",
    "    Elegans['Accuracy']['Mackey Glass']['Cheat Steps'].append(cheat_steps[i])\n",
    "    Elegans['Accuracy']['Mackey Glass']['Accuracy Value'].append(accuracy['Elegans'])\n",
    "    temp=Elegans['Accuracy']['Mackey Glass']['Accuracy Value'][i]\n",
    "    if temp < 0:\n",
    "        temp=0\n",
    "    Elegans_MG_accuracy[i]=temp"
   ]
  },
  {
   "cell_type": "code",
   "execution_count": 2,
   "metadata": {},
   "outputs": [
    {
     "ename": "NameError",
     "evalue": "name 'plt' is not defined",
     "output_type": "error",
     "traceback": [
      "\u001b[0;31m---------------------------------------------------------------------------\u001b[0m",
      "\u001b[0;31mNameError\u001b[0m                                 Traceback (most recent call last)",
      "\u001b[0;32m<ipython-input-2-89a26dc011d0>\u001b[0m in \u001b[0;36m<module>\u001b[0;34m\u001b[0m\n\u001b[1;32m      1\u001b[0m \u001b[0;31m#Plot accuracy vs number of cheat steps\u001b[0m\u001b[0;34m\u001b[0m\u001b[0;34m\u001b[0m\u001b[0;34m\u001b[0m\u001b[0m\n\u001b[0;32m----> 2\u001b[0;31m \u001b[0mplt\u001b[0m\u001b[0;34m.\u001b[0m\u001b[0mplot\u001b[0m\u001b[0;34m(\u001b[0m\u001b[0mElegans\u001b[0m\u001b[0;34m[\u001b[0m\u001b[0;34m'Accuracy'\u001b[0m\u001b[0;34m]\u001b[0m\u001b[0;34m[\u001b[0m\u001b[0;34m'Mackey Glass'\u001b[0m\u001b[0;34m]\u001b[0m\u001b[0;34m[\u001b[0m\u001b[0;34m'Accuracy Value'\u001b[0m\u001b[0;34m]\u001b[0m\u001b[0;34m)\u001b[0m\u001b[0;34m\u001b[0m\u001b[0;34m\u001b[0m\u001b[0m\n\u001b[0m\u001b[1;32m      3\u001b[0m \u001b[0mplt\u001b[0m\u001b[0;34m.\u001b[0m\u001b[0mxticks\u001b[0m\u001b[0;34m(\u001b[0m\u001b[0mrange\u001b[0m\u001b[0;34m(\u001b[0m\u001b[0;36m0\u001b[0m\u001b[0;34m,\u001b[0m\u001b[0mlen\u001b[0m\u001b[0;34m(\u001b[0m\u001b[0mElegans\u001b[0m\u001b[0;34m[\u001b[0m\u001b[0;34m'Accuracy'\u001b[0m\u001b[0;34m]\u001b[0m\u001b[0;34m[\u001b[0m\u001b[0;34m'Mackey Glass'\u001b[0m\u001b[0;34m]\u001b[0m\u001b[0;34m[\u001b[0m\u001b[0;34m'Cheat Steps'\u001b[0m\u001b[0;34m]\u001b[0m\u001b[0;34m)\u001b[0m\u001b[0;34m,\u001b[0m\u001b[0;36m1\u001b[0m\u001b[0;34m)\u001b[0m\u001b[0;34m,\u001b[0m\u001b[0mlabels\u001b[0m\u001b[0;34m=\u001b[0m\u001b[0mElegans\u001b[0m\u001b[0;34m[\u001b[0m\u001b[0;34m'Accuracy'\u001b[0m\u001b[0;34m]\u001b[0m\u001b[0;34m[\u001b[0m\u001b[0;34m'Mackey Glass'\u001b[0m\u001b[0;34m]\u001b[0m\u001b[0;34m[\u001b[0m\u001b[0;34m'Cheat Steps'\u001b[0m\u001b[0;34m]\u001b[0m\u001b[0;34m)\u001b[0m\u001b[0;34m\u001b[0m\u001b[0;34m\u001b[0m\u001b[0m\n\u001b[1;32m      4\u001b[0m \u001b[0mplt\u001b[0m\u001b[0;34m.\u001b[0m\u001b[0mxlabel\u001b[0m\u001b[0;34m(\u001b[0m\u001b[0;34m'Number of Cheat Steps'\u001b[0m\u001b[0;34m)\u001b[0m\u001b[0;34m\u001b[0m\u001b[0;34m\u001b[0m\u001b[0m\n\u001b[1;32m      5\u001b[0m \u001b[0mplt\u001b[0m\u001b[0;34m.\u001b[0m\u001b[0mylabel\u001b[0m\u001b[0;34m(\u001b[0m\u001b[0;34m'Mackey Glass Accuracy'\u001b[0m\u001b[0;34m)\u001b[0m\u001b[0;34m\u001b[0m\u001b[0;34m\u001b[0m\u001b[0m\n",
      "\u001b[0;31mNameError\u001b[0m: name 'plt' is not defined"
     ]
    }
   ],
   "source": [
    "#Plot accuracy vs number of cheat steps\n",
    "plt.plot(Elegans['Accuracy']['Mackey Glass']['Accuracy Value'])\n",
    "plt.xticks(range(0,len(Elegans['Accuracy']['Mackey Glass']['Cheat Steps']),1),labels=Elegans['Accuracy']['Mackey Glass']['Cheat Steps'])\n",
    "plt.xlabel('Number of Cheat Steps')\n",
    "plt.ylabel('Mackey Glass Accuracy')\n",
    "plt.title('C Elegans | Past Steps = 50 | Cheat Period = 100')"
   ]
  },
  {
   "cell_type": "markdown",
   "metadata": {},
   "source": [
    "## Watts-Strogatz\n",
    "### Grid & Random"
   ]
  },
  {
   "cell_type": "code",
   "execution_count": 3,
   "metadata": {},
   "outputs": [
    {
     "ename": "NameError",
     "evalue": "name 'ws300' is not defined",
     "output_type": "error",
     "traceback": [
      "\u001b[0;31m---------------------------------------------------------------------------\u001b[0m",
      "\u001b[0;31mNameError\u001b[0m                                 Traceback (most recent call last)",
      "\u001b[0;32m<ipython-input-3-c5c23a8a7a09>\u001b[0m in \u001b[0;36m<module>\u001b[0;34m\u001b[0m\n\u001b[1;32m      1\u001b[0m \u001b[0mcheatSteps\u001b[0m\u001b[0;34m=\u001b[0m\u001b[0mrange\u001b[0m\u001b[0;34m(\u001b[0m\u001b[0;36m10\u001b[0m\u001b[0;34m,\u001b[0m\u001b[0;36m61\u001b[0m\u001b[0;34m,\u001b[0m\u001b[0;36m10\u001b[0m\u001b[0;34m)\u001b[0m\u001b[0;34m\u001b[0m\u001b[0;34m\u001b[0m\u001b[0m\n\u001b[0;32m----> 2\u001b[0;31m \u001b[0mmse300_WS_Grid_cheat\u001b[0m\u001b[0;34m=\u001b[0m\u001b[0;34m[\u001b[0m\u001b[0;34m[\u001b[0m\u001b[0;32mNone\u001b[0m\u001b[0;34m]\u001b[0m\u001b[0;34m*\u001b[0m\u001b[0mlen\u001b[0m\u001b[0;34m(\u001b[0m\u001b[0mws300\u001b[0m\u001b[0;34m)\u001b[0m \u001b[0;32mfor\u001b[0m \u001b[0mi\u001b[0m \u001b[0;32min\u001b[0m \u001b[0mrange\u001b[0m\u001b[0;34m(\u001b[0m\u001b[0mlen\u001b[0m\u001b[0;34m(\u001b[0m\u001b[0mcheatSteps\u001b[0m\u001b[0;34m)\u001b[0m\u001b[0;34m)\u001b[0m\u001b[0;34m]\u001b[0m\u001b[0;34m\u001b[0m\u001b[0;34m\u001b[0m\u001b[0m\n\u001b[0m\u001b[1;32m      3\u001b[0m \u001b[0mnumNodes\u001b[0m\u001b[0;34m=\u001b[0m\u001b[0mlen\u001b[0m\u001b[0;34m(\u001b[0m\u001b[0mws300\u001b[0m\u001b[0;34m[\u001b[0m\u001b[0;36m0\u001b[0m\u001b[0;34m]\u001b[0m\u001b[0;34m[\u001b[0m\u001b[0;36m0\u001b[0m\u001b[0;34m]\u001b[0m\u001b[0;34m)\u001b[0m\u001b[0;34m\u001b[0m\u001b[0;34m\u001b[0m\u001b[0m\n\u001b[1;32m      4\u001b[0m \u001b[0;32mfor\u001b[0m \u001b[0mi\u001b[0m \u001b[0;32min\u001b[0m \u001b[0mrange\u001b[0m\u001b[0;34m(\u001b[0m\u001b[0mlen\u001b[0m\u001b[0;34m(\u001b[0m\u001b[0mws300\u001b[0m\u001b[0;34m)\u001b[0m\u001b[0;34m)\u001b[0m\u001b[0;34m:\u001b[0m \u001b[0;31m#number of cheat steps\u001b[0m\u001b[0;34m\u001b[0m\u001b[0;34m\u001b[0m\u001b[0m\n\u001b[1;32m      5\u001b[0m     \u001b[0madjmat\u001b[0m\u001b[0;34m=\u001b[0m\u001b[0mnp\u001b[0m\u001b[0;34m.\u001b[0m\u001b[0masarray\u001b[0m\u001b[0;34m(\u001b[0m\u001b[0mnx\u001b[0m\u001b[0;34m.\u001b[0m\u001b[0madjacency_matrix\u001b[0m\u001b[0;34m(\u001b[0m\u001b[0mws300\u001b[0m\u001b[0;34m[\u001b[0m\u001b[0mi\u001b[0m\u001b[0;34m]\u001b[0m\u001b[0;34m[\u001b[0m\u001b[0;36m0\u001b[0m\u001b[0;34m]\u001b[0m\u001b[0;34m)\u001b[0m\u001b[0;34m.\u001b[0m\u001b[0mtodense\u001b[0m\u001b[0;34m(\u001b[0m\u001b[0;34m)\u001b[0m\u001b[0;34m)\u001b[0m\u001b[0;34m\u001b[0m\u001b[0;34m\u001b[0m\u001b[0m\n",
      "\u001b[0;32m<ipython-input-3-c5c23a8a7a09>\u001b[0m in \u001b[0;36m<listcomp>\u001b[0;34m(.0)\u001b[0m\n\u001b[1;32m      1\u001b[0m \u001b[0mcheatSteps\u001b[0m\u001b[0;34m=\u001b[0m\u001b[0mrange\u001b[0m\u001b[0;34m(\u001b[0m\u001b[0;36m10\u001b[0m\u001b[0;34m,\u001b[0m\u001b[0;36m61\u001b[0m\u001b[0;34m,\u001b[0m\u001b[0;36m10\u001b[0m\u001b[0;34m)\u001b[0m\u001b[0;34m\u001b[0m\u001b[0;34m\u001b[0m\u001b[0m\n\u001b[0;32m----> 2\u001b[0;31m \u001b[0mmse300_WS_Grid_cheat\u001b[0m\u001b[0;34m=\u001b[0m\u001b[0;34m[\u001b[0m\u001b[0;34m[\u001b[0m\u001b[0;32mNone\u001b[0m\u001b[0;34m]\u001b[0m\u001b[0;34m*\u001b[0m\u001b[0mlen\u001b[0m\u001b[0;34m(\u001b[0m\u001b[0mws300\u001b[0m\u001b[0;34m)\u001b[0m \u001b[0;32mfor\u001b[0m \u001b[0mi\u001b[0m \u001b[0;32min\u001b[0m \u001b[0mrange\u001b[0m\u001b[0;34m(\u001b[0m\u001b[0mlen\u001b[0m\u001b[0;34m(\u001b[0m\u001b[0mcheatSteps\u001b[0m\u001b[0;34m)\u001b[0m\u001b[0;34m)\u001b[0m\u001b[0;34m]\u001b[0m\u001b[0;34m\u001b[0m\u001b[0;34m\u001b[0m\u001b[0m\n\u001b[0m\u001b[1;32m      3\u001b[0m \u001b[0mnumNodes\u001b[0m\u001b[0;34m=\u001b[0m\u001b[0mlen\u001b[0m\u001b[0;34m(\u001b[0m\u001b[0mws300\u001b[0m\u001b[0;34m[\u001b[0m\u001b[0;36m0\u001b[0m\u001b[0;34m]\u001b[0m\u001b[0;34m[\u001b[0m\u001b[0;36m0\u001b[0m\u001b[0;34m]\u001b[0m\u001b[0;34m)\u001b[0m\u001b[0;34m\u001b[0m\u001b[0;34m\u001b[0m\u001b[0m\n\u001b[1;32m      4\u001b[0m \u001b[0;32mfor\u001b[0m \u001b[0mi\u001b[0m \u001b[0;32min\u001b[0m \u001b[0mrange\u001b[0m\u001b[0;34m(\u001b[0m\u001b[0mlen\u001b[0m\u001b[0;34m(\u001b[0m\u001b[0mws300\u001b[0m\u001b[0;34m)\u001b[0m\u001b[0;34m)\u001b[0m\u001b[0;34m:\u001b[0m \u001b[0;31m#number of cheat steps\u001b[0m\u001b[0;34m\u001b[0m\u001b[0;34m\u001b[0m\u001b[0m\n\u001b[1;32m      5\u001b[0m     \u001b[0madjmat\u001b[0m\u001b[0;34m=\u001b[0m\u001b[0mnp\u001b[0m\u001b[0;34m.\u001b[0m\u001b[0masarray\u001b[0m\u001b[0;34m(\u001b[0m\u001b[0mnx\u001b[0m\u001b[0;34m.\u001b[0m\u001b[0madjacency_matrix\u001b[0m\u001b[0;34m(\u001b[0m\u001b[0mws300\u001b[0m\u001b[0;34m[\u001b[0m\u001b[0mi\u001b[0m\u001b[0;34m]\u001b[0m\u001b[0;34m[\u001b[0m\u001b[0;36m0\u001b[0m\u001b[0;34m]\u001b[0m\u001b[0;34m)\u001b[0m\u001b[0;34m.\u001b[0m\u001b[0mtodense\u001b[0m\u001b[0;34m(\u001b[0m\u001b[0;34m)\u001b[0m\u001b[0;34m)\u001b[0m\u001b[0;34m\u001b[0m\u001b[0;34m\u001b[0m\u001b[0m\n",
      "\u001b[0;31mNameError\u001b[0m: name 'ws300' is not defined"
     ]
    }
   ],
   "source": [
    "cheatSteps=range(10,61,10)\n",
    "mse300_WS_Grid_cheat=[[None]*len(ws300) for i in range(len(cheatSteps))]\n",
    "numNodes=len(ws300[0][0])\n",
    "for i in range(len(ws300)): #number of cheat steps\n",
    "    adjmat=np.asarray(nx.adjacency_matrix(ws300[i][0]).todense())\n",
    "    electrodes=edamame.core.getFarthestPairing(adjmat)\n",
    "    for j in range(len(cheatSteps)): #number of networks\n",
    "        print('Network ' + str(i))\n",
    "        print('Cheat Steps ' + str(cheatSteps[j]))        \n",
    "        #run forcast on network j for i cheat steps \n",
    "        mse300_WS_Grid_cheat[j][i]=runForecastNew(connectivity__(graph=ws300[i][0]), multi = 1, shift = 0, \n",
    "                        training_ratio = 0.3, past_steps = 50,\n",
    "                        cheat_period = 100, cheat_steps = cheatSteps[j],\n",
    "                        save_fig = False,\n",
    "                        disable_tqdm = False,inList=0,outList=int(numNodes/2))"
   ]
  },
  {
   "cell_type": "code",
   "execution_count": 4,
   "metadata": {},
   "outputs": [
    {
     "ename": "NameError",
     "evalue": "name 'ws300' is not defined",
     "output_type": "error",
     "traceback": [
      "\u001b[0;31m---------------------------------------------------------------------------\u001b[0m",
      "\u001b[0;31mNameError\u001b[0m                                 Traceback (most recent call last)",
      "\u001b[0;32m<ipython-input-4-321f7006755d>\u001b[0m in \u001b[0;36m<module>\u001b[0;34m\u001b[0m\n\u001b[1;32m      1\u001b[0m \u001b[0;31m# mseRandom300=[None]*len(ws300)\u001b[0m\u001b[0;34m\u001b[0m\u001b[0;34m\u001b[0m\u001b[0;34m\u001b[0m\u001b[0m\n\u001b[1;32m      2\u001b[0m \u001b[0mcheatSteps\u001b[0m\u001b[0;34m=\u001b[0m\u001b[0mrange\u001b[0m\u001b[0;34m(\u001b[0m\u001b[0;36m10\u001b[0m\u001b[0;34m,\u001b[0m\u001b[0;36m61\u001b[0m\u001b[0;34m,\u001b[0m\u001b[0;36m10\u001b[0m\u001b[0;34m)\u001b[0m\u001b[0;34m\u001b[0m\u001b[0;34m\u001b[0m\u001b[0m\n\u001b[0;32m----> 3\u001b[0;31m \u001b[0mmse300_WS_Random_cheat\u001b[0m\u001b[0;34m=\u001b[0m\u001b[0;34m[\u001b[0m\u001b[0;34m[\u001b[0m\u001b[0;32mNone\u001b[0m\u001b[0;34m]\u001b[0m\u001b[0;34m*\u001b[0m\u001b[0mlen\u001b[0m\u001b[0;34m(\u001b[0m\u001b[0mws300\u001b[0m\u001b[0;34m)\u001b[0m \u001b[0;32mfor\u001b[0m \u001b[0mi\u001b[0m \u001b[0;32min\u001b[0m \u001b[0mrange\u001b[0m\u001b[0;34m(\u001b[0m\u001b[0mlen\u001b[0m\u001b[0;34m(\u001b[0m\u001b[0mcheatSteps\u001b[0m\u001b[0;34m)\u001b[0m\u001b[0;34m)\u001b[0m\u001b[0;34m]\u001b[0m\u001b[0;34m\u001b[0m\u001b[0;34m\u001b[0m\u001b[0m\n\u001b[0m\u001b[1;32m      4\u001b[0m \u001b[0;34m\u001b[0m\u001b[0m\n\u001b[1;32m      5\u001b[0m \u001b[0;32mfor\u001b[0m \u001b[0mi\u001b[0m \u001b[0;32min\u001b[0m \u001b[0mrange\u001b[0m\u001b[0;34m(\u001b[0m\u001b[0mlen\u001b[0m\u001b[0;34m(\u001b[0m\u001b[0mws300\u001b[0m\u001b[0;34m)\u001b[0m\u001b[0;34m)\u001b[0m\u001b[0;34m:\u001b[0m \u001b[0;31m#number of cheat steps\u001b[0m\u001b[0;34m\u001b[0m\u001b[0;34m\u001b[0m\u001b[0m\n",
      "\u001b[0;32m<ipython-input-4-321f7006755d>\u001b[0m in \u001b[0;36m<listcomp>\u001b[0;34m(.0)\u001b[0m\n\u001b[1;32m      1\u001b[0m \u001b[0;31m# mseRandom300=[None]*len(ws300)\u001b[0m\u001b[0;34m\u001b[0m\u001b[0;34m\u001b[0m\u001b[0;34m\u001b[0m\u001b[0m\n\u001b[1;32m      2\u001b[0m \u001b[0mcheatSteps\u001b[0m\u001b[0;34m=\u001b[0m\u001b[0mrange\u001b[0m\u001b[0;34m(\u001b[0m\u001b[0;36m10\u001b[0m\u001b[0;34m,\u001b[0m\u001b[0;36m61\u001b[0m\u001b[0;34m,\u001b[0m\u001b[0;36m10\u001b[0m\u001b[0;34m)\u001b[0m\u001b[0;34m\u001b[0m\u001b[0;34m\u001b[0m\u001b[0m\n\u001b[0;32m----> 3\u001b[0;31m \u001b[0mmse300_WS_Random_cheat\u001b[0m\u001b[0;34m=\u001b[0m\u001b[0;34m[\u001b[0m\u001b[0;34m[\u001b[0m\u001b[0;32mNone\u001b[0m\u001b[0;34m]\u001b[0m\u001b[0;34m*\u001b[0m\u001b[0mlen\u001b[0m\u001b[0;34m(\u001b[0m\u001b[0mws300\u001b[0m\u001b[0;34m)\u001b[0m \u001b[0;32mfor\u001b[0m \u001b[0mi\u001b[0m \u001b[0;32min\u001b[0m \u001b[0mrange\u001b[0m\u001b[0;34m(\u001b[0m\u001b[0mlen\u001b[0m\u001b[0;34m(\u001b[0m\u001b[0mcheatSteps\u001b[0m\u001b[0;34m)\u001b[0m\u001b[0;34m)\u001b[0m\u001b[0;34m]\u001b[0m\u001b[0;34m\u001b[0m\u001b[0;34m\u001b[0m\u001b[0m\n\u001b[0m\u001b[1;32m      4\u001b[0m \u001b[0;34m\u001b[0m\u001b[0m\n\u001b[1;32m      5\u001b[0m \u001b[0;32mfor\u001b[0m \u001b[0mi\u001b[0m \u001b[0;32min\u001b[0m \u001b[0mrange\u001b[0m\u001b[0;34m(\u001b[0m\u001b[0mlen\u001b[0m\u001b[0;34m(\u001b[0m\u001b[0mws300\u001b[0m\u001b[0;34m)\u001b[0m\u001b[0;34m)\u001b[0m\u001b[0;34m:\u001b[0m \u001b[0;31m#number of cheat steps\u001b[0m\u001b[0;34m\u001b[0m\u001b[0;34m\u001b[0m\u001b[0m\n",
      "\u001b[0;31mNameError\u001b[0m: name 'ws300' is not defined"
     ]
    }
   ],
   "source": [
    "# mseRandom300=[None]*len(ws300)\n",
    "cheatSteps=range(10,61,10)\n",
    "mse300_WS_Random_cheat=[[None]*len(ws300) for i in range(len(cheatSteps))]\n",
    "\n",
    "for i in range(len(ws300)): #number of cheat steps\n",
    "    adjmat=np.asarray(nx.adjacency_matrix(ws300[i][1]).todense())\n",
    "    electrodes=edamame.core.getFarthestPairing(adjmat)\n",
    "    for j in range(len(cheatSteps)): #number of networks\n",
    "        print('Network ' + str(i+1))\n",
    "        print('Cheat Steps ' + str(cheatSteps[j]))        \n",
    "        #run forcast on network j for i cheat steps \n",
    "        mse300_WS_Random_cheat[j][i]=runForecastNew(connectivity__(graph=ws300[i][1]), multi = 1, shift = 0, \n",
    "                        training_ratio = 0.3, past_steps = 50,\n",
    "                        cheat_period = 100, cheat_steps = cheatSteps[j],\n",
    "                        save_fig = False,\n",
    "                        disable_tqdm = False, inList=electrodes[0],outList=electrodes[1])\n",
    "\n",
    "# #     numNodes=ws300[i][1].number_of_nodes()\n",
    "#     mseRandom300[i]=runForecastNew(connectivity__(graph=ws300[i][0]), multi = 1, shift = 0, \n",
    "#                 training_ratio = 0.3, past_steps = 50,\n",
    "#                 cheat_period = 100, cheat_steps = 60,\n",
    "#                 save_fig = False,\n",
    "#                 disable_tqdm = False,inList=electrodes[0],outList=electrodes[1])\n",
    "\n",
    "   "
   ]
  },
  {
   "cell_type": "code",
   "execution_count": 5,
   "metadata": {},
   "outputs": [
    {
     "ename": "NameError",
     "evalue": "name 'ws300' is not defined",
     "output_type": "error",
     "traceback": [
      "\u001b[0;31m---------------------------------------------------------------------------\u001b[0m",
      "\u001b[0;31mNameError\u001b[0m                                 Traceback (most recent call last)",
      "\u001b[0;32m<ipython-input-5-053b0b13c0bd>\u001b[0m in \u001b[0;36m<module>\u001b[0;34m\u001b[0m\n\u001b[0;32m----> 1\u001b[0;31m \u001b[0maccuracy\u001b[0m\u001b[0;34m[\u001b[0m\u001b[0;34m'WS Random 300'\u001b[0m\u001b[0;34m]\u001b[0m\u001b[0;34m=\u001b[0m\u001b[0;34m[\u001b[0m\u001b[0;34m[\u001b[0m\u001b[0;32mNone\u001b[0m\u001b[0;34m]\u001b[0m\u001b[0;34m*\u001b[0m\u001b[0mlen\u001b[0m\u001b[0;34m(\u001b[0m\u001b[0mws300\u001b[0m\u001b[0;34m)\u001b[0m \u001b[0;32mfor\u001b[0m \u001b[0mi\u001b[0m \u001b[0;32min\u001b[0m \u001b[0mrange\u001b[0m\u001b[0;34m(\u001b[0m\u001b[0mlen\u001b[0m\u001b[0;34m(\u001b[0m\u001b[0mcheatSteps\u001b[0m\u001b[0;34m)\u001b[0m\u001b[0;34m)\u001b[0m\u001b[0;34m]\u001b[0m\u001b[0;34m\u001b[0m\u001b[0;34m\u001b[0m\u001b[0m\n\u001b[0m\u001b[1;32m      2\u001b[0m \u001b[0;32mfor\u001b[0m \u001b[0mi\u001b[0m \u001b[0;32min\u001b[0m \u001b[0mrange\u001b[0m\u001b[0;34m(\u001b[0m\u001b[0mlen\u001b[0m\u001b[0;34m(\u001b[0m\u001b[0mcheatSteps\u001b[0m\u001b[0;34m)\u001b[0m\u001b[0;34m)\u001b[0m\u001b[0;34m:\u001b[0m\u001b[0;34m\u001b[0m\u001b[0;34m\u001b[0m\u001b[0m\n\u001b[1;32m      3\u001b[0m     \u001b[0;32mfor\u001b[0m \u001b[0mj\u001b[0m \u001b[0;32min\u001b[0m \u001b[0mrange\u001b[0m\u001b[0;34m(\u001b[0m\u001b[0mlen\u001b[0m\u001b[0;34m(\u001b[0m\u001b[0mws300\u001b[0m\u001b[0;34m)\u001b[0m\u001b[0;34m)\u001b[0m\u001b[0;34m:\u001b[0m\u001b[0;34m\u001b[0m\u001b[0;34m\u001b[0m\u001b[0m\n\u001b[1;32m      4\u001b[0m         \u001b[0;32mif\u001b[0m \u001b[0mi\u001b[0m\u001b[0;34m==\u001b[0m\u001b[0;36m0\u001b[0m\u001b[0;34m:\u001b[0m\u001b[0;34m\u001b[0m\u001b[0;34m\u001b[0m\u001b[0m\n\u001b[1;32m      5\u001b[0m             \u001b[0mWS_Random\u001b[0m\u001b[0;34m[\u001b[0m\u001b[0mj\u001b[0m\u001b[0;34m]\u001b[0m\u001b[0;34m[\u001b[0m\u001b[0;34m'Accuracy'\u001b[0m\u001b[0;34m]\u001b[0m\u001b[0;34m[\u001b[0m\u001b[0;34m'Mackey Glass'\u001b[0m\u001b[0;34m]\u001b[0m\u001b[0;34m=\u001b[0m\u001b[0;34m{\u001b[0m\u001b[0;34m'Cheat Steps'\u001b[0m\u001b[0;34m:\u001b[0m\u001b[0;34m[\u001b[0m\u001b[0;34m]\u001b[0m\u001b[0;34m,\u001b[0m\u001b[0;34m'Accuracy Value'\u001b[0m\u001b[0;34m:\u001b[0m\u001b[0;34m[\u001b[0m\u001b[0;34m]\u001b[0m\u001b[0;34m}\u001b[0m\u001b[0;34m\u001b[0m\u001b[0;34m\u001b[0m\u001b[0m\n",
      "\u001b[0;32m<ipython-input-5-053b0b13c0bd>\u001b[0m in \u001b[0;36m<listcomp>\u001b[0;34m(.0)\u001b[0m\n\u001b[0;32m----> 1\u001b[0;31m \u001b[0maccuracy\u001b[0m\u001b[0;34m[\u001b[0m\u001b[0;34m'WS Random 300'\u001b[0m\u001b[0;34m]\u001b[0m\u001b[0;34m=\u001b[0m\u001b[0;34m[\u001b[0m\u001b[0;34m[\u001b[0m\u001b[0;32mNone\u001b[0m\u001b[0;34m]\u001b[0m\u001b[0;34m*\u001b[0m\u001b[0mlen\u001b[0m\u001b[0;34m(\u001b[0m\u001b[0mws300\u001b[0m\u001b[0;34m)\u001b[0m \u001b[0;32mfor\u001b[0m \u001b[0mi\u001b[0m \u001b[0;32min\u001b[0m \u001b[0mrange\u001b[0m\u001b[0;34m(\u001b[0m\u001b[0mlen\u001b[0m\u001b[0;34m(\u001b[0m\u001b[0mcheatSteps\u001b[0m\u001b[0;34m)\u001b[0m\u001b[0;34m)\u001b[0m\u001b[0;34m]\u001b[0m\u001b[0;34m\u001b[0m\u001b[0;34m\u001b[0m\u001b[0m\n\u001b[0m\u001b[1;32m      2\u001b[0m \u001b[0;32mfor\u001b[0m \u001b[0mi\u001b[0m \u001b[0;32min\u001b[0m \u001b[0mrange\u001b[0m\u001b[0;34m(\u001b[0m\u001b[0mlen\u001b[0m\u001b[0;34m(\u001b[0m\u001b[0mcheatSteps\u001b[0m\u001b[0;34m)\u001b[0m\u001b[0;34m)\u001b[0m\u001b[0;34m:\u001b[0m\u001b[0;34m\u001b[0m\u001b[0;34m\u001b[0m\u001b[0m\n\u001b[1;32m      3\u001b[0m     \u001b[0;32mfor\u001b[0m \u001b[0mj\u001b[0m \u001b[0;32min\u001b[0m \u001b[0mrange\u001b[0m\u001b[0;34m(\u001b[0m\u001b[0mlen\u001b[0m\u001b[0;34m(\u001b[0m\u001b[0mws300\u001b[0m\u001b[0;34m)\u001b[0m\u001b[0;34m)\u001b[0m\u001b[0;34m:\u001b[0m\u001b[0;34m\u001b[0m\u001b[0;34m\u001b[0m\u001b[0m\n\u001b[1;32m      4\u001b[0m         \u001b[0;32mif\u001b[0m \u001b[0mi\u001b[0m\u001b[0;34m==\u001b[0m\u001b[0;36m0\u001b[0m\u001b[0;34m:\u001b[0m\u001b[0;34m\u001b[0m\u001b[0;34m\u001b[0m\u001b[0m\n\u001b[1;32m      5\u001b[0m             \u001b[0mWS_Random\u001b[0m\u001b[0;34m[\u001b[0m\u001b[0mj\u001b[0m\u001b[0;34m]\u001b[0m\u001b[0;34m[\u001b[0m\u001b[0;34m'Accuracy'\u001b[0m\u001b[0;34m]\u001b[0m\u001b[0;34m[\u001b[0m\u001b[0;34m'Mackey Glass'\u001b[0m\u001b[0;34m]\u001b[0m\u001b[0;34m=\u001b[0m\u001b[0;34m{\u001b[0m\u001b[0;34m'Cheat Steps'\u001b[0m\u001b[0;34m:\u001b[0m\u001b[0;34m[\u001b[0m\u001b[0;34m]\u001b[0m\u001b[0;34m,\u001b[0m\u001b[0;34m'Accuracy Value'\u001b[0m\u001b[0;34m:\u001b[0m\u001b[0;34m[\u001b[0m\u001b[0;34m]\u001b[0m\u001b[0;34m}\u001b[0m\u001b[0;34m\u001b[0m\u001b[0;34m\u001b[0m\u001b[0m\n",
      "\u001b[0;31mNameError\u001b[0m: name 'ws300' is not defined"
     ]
    }
   ],
   "source": [
    "accuracy['WS Random 300']=[[None]*len(ws300) for i in range(len(cheatSteps))]\n",
    "for i in range(len(cheatSteps)):\n",
    "    for j in range(len(ws300)):\n",
    "        if i==0:\n",
    "            WS_Random[j]['Accuracy']['Mackey Glass']={'Cheat Steps':[],'Accuracy Value':[]}\n",
    "        print(str(cheatSteps[i]))\n",
    "        WS_Random[j]['Accuracy']['Mackey Glass']['Cheat Steps'].append(cheatSteps[i])\n",
    "        accuracy['WS Random 300'][i][j]=1-mse300_WS_Random_cheat[i][j]\n",
    "        WS_Random[j]['Accuracy']['Mackey Glass']['Accuracy Value'].append(1-mse300_WS_Random_cheat[i][j])\n",
    "\n",
    "accuracy['WS Grid 300']=[[None]*len(ws300) for i in range(len(cheatSteps))]\n",
    "for i in range(len(cheatSteps)):\n",
    "    for j in range(len(ws300)):\n",
    "        if i==0:\n",
    "            WS_Grid[j]['Accuracy']['Mackey Glass']={'Cheat Steps':[],'Accuracy Value':[]}\n",
    "        print(str(cheatSteps[i]))\n",
    "        WS_Grid[j]['Accuracy']['Mackey Glass']['Cheat Steps'].append(cheatSteps[i])\n",
    "        accuracy['WS Grid 300'][i][j]=1-mse300_WS_Grid_cheat[i][j]\n",
    "        WS_Grid[j]['Accuracy']['Mackey Glass']['Accuracy Value'].append(1-mse300_WS_Grid_cheat[i][j])\n",
    "\n",
    "# for i in range(len(cheatSteps)):\n",
    "#     for j in range(len(mse300_cheat[i])):\n",
    "#         accuracy['ASN300'][i][j]=1-mse300_cheat[i][j] #save for analysis\n",
    "\n",
    "\n",
    "#         ASN300[j]['Accuracy']['Mackey Glass']=accuracy['ASN300'][i][j] #save for plotting"
   ]
  },
  {
   "cell_type": "code",
   "execution_count": null,
   "metadata": {},
   "outputs": [],
   "source": [
    "ASN_MG_accuracy=[[None]*len(ASN300) for i in range(len(cheatSteps))]\n",
    "for i in range(len(ASN300)):\n",
    "    temp=[]\n",
    "    for j in range(len(ASN300[i]['Accuracy']['Mackey Glass']['Accuracy Value'])):\n",
    "        temp=ASN300[i]['Accuracy']['Mackey Glass']['Accuracy Value'][j]\n",
    "        if temp < 0:\n",
    "            temp=0\n",
    "        if j == 0:\n",
    "            ASN_MG_accuracy[0][i]= temp\n",
    "        elif j == 1:\n",
    "            ASN_MG_accuracy[1][i]= temp\n",
    "        elif j == 2:\n",
    "            ASN_MG_accuracy[2][i]= temp\n",
    "        elif j == 3:\n",
    "            ASN_MG_accuracy[3][i]= temp\n",
    "        elif j == 4:\n",
    "            ASN_MG_accuracy[4][i]= temp\n",
    "        elif j == 5:\n",
    "            ASN_MG_accuracy[5][i]= temp"
   ]
  },
  {
   "cell_type": "code",
   "execution_count": 6,
   "metadata": {},
   "outputs": [
    {
     "ename": "NameError",
     "evalue": "name 'WS_Random' is not defined",
     "output_type": "error",
     "traceback": [
      "\u001b[0;31m---------------------------------------------------------------------------\u001b[0m",
      "\u001b[0;31mNameError\u001b[0m                                 Traceback (most recent call last)",
      "\u001b[0;32m<ipython-input-6-91696d784f03>\u001b[0m in \u001b[0;36m<module>\u001b[0;34m\u001b[0m\n\u001b[0;32m----> 1\u001b[0;31m \u001b[0mWS_MG_Randomaccuracy\u001b[0m\u001b[0;34m=\u001b[0m\u001b[0;34m[\u001b[0m\u001b[0;34m[\u001b[0m\u001b[0;32mNone\u001b[0m\u001b[0;34m]\u001b[0m\u001b[0;34m*\u001b[0m\u001b[0mlen\u001b[0m\u001b[0;34m(\u001b[0m\u001b[0mWS_Random\u001b[0m\u001b[0;34m)\u001b[0m \u001b[0;32mfor\u001b[0m \u001b[0mi\u001b[0m \u001b[0;32min\u001b[0m \u001b[0mrange\u001b[0m\u001b[0;34m(\u001b[0m\u001b[0mlen\u001b[0m\u001b[0;34m(\u001b[0m\u001b[0mcheatSteps\u001b[0m\u001b[0;34m)\u001b[0m\u001b[0;34m)\u001b[0m\u001b[0;34m]\u001b[0m\u001b[0;34m\u001b[0m\u001b[0;34m\u001b[0m\u001b[0m\n\u001b[0m\u001b[1;32m      2\u001b[0m \u001b[0;32mfor\u001b[0m \u001b[0mi\u001b[0m \u001b[0;32min\u001b[0m \u001b[0mrange\u001b[0m\u001b[0;34m(\u001b[0m\u001b[0mlen\u001b[0m\u001b[0;34m(\u001b[0m\u001b[0mASN300\u001b[0m\u001b[0;34m)\u001b[0m\u001b[0;34m)\u001b[0m\u001b[0;34m:\u001b[0m\u001b[0;34m\u001b[0m\u001b[0;34m\u001b[0m\u001b[0m\n\u001b[1;32m      3\u001b[0m     \u001b[0mtemp\u001b[0m\u001b[0;34m=\u001b[0m\u001b[0;34m[\u001b[0m\u001b[0;34m]\u001b[0m\u001b[0;34m\u001b[0m\u001b[0;34m\u001b[0m\u001b[0m\n\u001b[1;32m      4\u001b[0m     \u001b[0;32mfor\u001b[0m \u001b[0mj\u001b[0m \u001b[0;32min\u001b[0m \u001b[0mrange\u001b[0m\u001b[0;34m(\u001b[0m\u001b[0mlen\u001b[0m\u001b[0;34m(\u001b[0m\u001b[0mWS_Random\u001b[0m\u001b[0;34m[\u001b[0m\u001b[0mi\u001b[0m\u001b[0;34m]\u001b[0m\u001b[0;34m[\u001b[0m\u001b[0;34m'Accuracy'\u001b[0m\u001b[0;34m]\u001b[0m\u001b[0;34m[\u001b[0m\u001b[0;34m'Mackey Glass'\u001b[0m\u001b[0;34m]\u001b[0m\u001b[0;34m[\u001b[0m\u001b[0;34m'Accuracy Value'\u001b[0m\u001b[0;34m]\u001b[0m\u001b[0;34m)\u001b[0m\u001b[0;34m)\u001b[0m\u001b[0;34m:\u001b[0m\u001b[0;34m\u001b[0m\u001b[0;34m\u001b[0m\u001b[0m\n\u001b[1;32m      5\u001b[0m         \u001b[0mtemp\u001b[0m\u001b[0;34m=\u001b[0m\u001b[0mWS_Random\u001b[0m\u001b[0;34m[\u001b[0m\u001b[0mi\u001b[0m\u001b[0;34m]\u001b[0m\u001b[0;34m[\u001b[0m\u001b[0;34m'Accuracy'\u001b[0m\u001b[0;34m]\u001b[0m\u001b[0;34m[\u001b[0m\u001b[0;34m'Mackey Glass'\u001b[0m\u001b[0;34m]\u001b[0m\u001b[0;34m[\u001b[0m\u001b[0;34m'Accuracy Value'\u001b[0m\u001b[0;34m]\u001b[0m\u001b[0;34m[\u001b[0m\u001b[0mj\u001b[0m\u001b[0;34m]\u001b[0m\u001b[0;34m\u001b[0m\u001b[0;34m\u001b[0m\u001b[0m\n",
      "\u001b[0;32m<ipython-input-6-91696d784f03>\u001b[0m in \u001b[0;36m<listcomp>\u001b[0;34m(.0)\u001b[0m\n\u001b[0;32m----> 1\u001b[0;31m \u001b[0mWS_MG_Randomaccuracy\u001b[0m\u001b[0;34m=\u001b[0m\u001b[0;34m[\u001b[0m\u001b[0;34m[\u001b[0m\u001b[0;32mNone\u001b[0m\u001b[0;34m]\u001b[0m\u001b[0;34m*\u001b[0m\u001b[0mlen\u001b[0m\u001b[0;34m(\u001b[0m\u001b[0mWS_Random\u001b[0m\u001b[0;34m)\u001b[0m \u001b[0;32mfor\u001b[0m \u001b[0mi\u001b[0m \u001b[0;32min\u001b[0m \u001b[0mrange\u001b[0m\u001b[0;34m(\u001b[0m\u001b[0mlen\u001b[0m\u001b[0;34m(\u001b[0m\u001b[0mcheatSteps\u001b[0m\u001b[0;34m)\u001b[0m\u001b[0;34m)\u001b[0m\u001b[0;34m]\u001b[0m\u001b[0;34m\u001b[0m\u001b[0;34m\u001b[0m\u001b[0m\n\u001b[0m\u001b[1;32m      2\u001b[0m \u001b[0;32mfor\u001b[0m \u001b[0mi\u001b[0m \u001b[0;32min\u001b[0m \u001b[0mrange\u001b[0m\u001b[0;34m(\u001b[0m\u001b[0mlen\u001b[0m\u001b[0;34m(\u001b[0m\u001b[0mASN300\u001b[0m\u001b[0;34m)\u001b[0m\u001b[0;34m)\u001b[0m\u001b[0;34m:\u001b[0m\u001b[0;34m\u001b[0m\u001b[0;34m\u001b[0m\u001b[0m\n\u001b[1;32m      3\u001b[0m     \u001b[0mtemp\u001b[0m\u001b[0;34m=\u001b[0m\u001b[0;34m[\u001b[0m\u001b[0;34m]\u001b[0m\u001b[0;34m\u001b[0m\u001b[0;34m\u001b[0m\u001b[0m\n\u001b[1;32m      4\u001b[0m     \u001b[0;32mfor\u001b[0m \u001b[0mj\u001b[0m \u001b[0;32min\u001b[0m \u001b[0mrange\u001b[0m\u001b[0;34m(\u001b[0m\u001b[0mlen\u001b[0m\u001b[0;34m(\u001b[0m\u001b[0mWS_Random\u001b[0m\u001b[0;34m[\u001b[0m\u001b[0mi\u001b[0m\u001b[0;34m]\u001b[0m\u001b[0;34m[\u001b[0m\u001b[0;34m'Accuracy'\u001b[0m\u001b[0;34m]\u001b[0m\u001b[0;34m[\u001b[0m\u001b[0;34m'Mackey Glass'\u001b[0m\u001b[0;34m]\u001b[0m\u001b[0;34m[\u001b[0m\u001b[0;34m'Accuracy Value'\u001b[0m\u001b[0;34m]\u001b[0m\u001b[0;34m)\u001b[0m\u001b[0;34m)\u001b[0m\u001b[0;34m:\u001b[0m\u001b[0;34m\u001b[0m\u001b[0;34m\u001b[0m\u001b[0m\n\u001b[1;32m      5\u001b[0m         \u001b[0mtemp\u001b[0m\u001b[0;34m=\u001b[0m\u001b[0mWS_Random\u001b[0m\u001b[0;34m[\u001b[0m\u001b[0mi\u001b[0m\u001b[0;34m]\u001b[0m\u001b[0;34m[\u001b[0m\u001b[0;34m'Accuracy'\u001b[0m\u001b[0;34m]\u001b[0m\u001b[0;34m[\u001b[0m\u001b[0;34m'Mackey Glass'\u001b[0m\u001b[0;34m]\u001b[0m\u001b[0;34m[\u001b[0m\u001b[0;34m'Accuracy Value'\u001b[0m\u001b[0;34m]\u001b[0m\u001b[0;34m[\u001b[0m\u001b[0mj\u001b[0m\u001b[0;34m]\u001b[0m\u001b[0;34m\u001b[0m\u001b[0;34m\u001b[0m\u001b[0m\n",
      "\u001b[0;31mNameError\u001b[0m: name 'WS_Random' is not defined"
     ]
    }
   ],
   "source": [
    "WS_MG_Randomaccuracy=[[None]*len(WS_Random) for i in range(len(cheatSteps))]\n",
    "for i in range(len(ASN300)):\n",
    "    temp=[]\n",
    "    for j in range(len(WS_Random[i]['Accuracy']['Mackey Glass']['Accuracy Value'])):\n",
    "        temp=WS_Random[i]['Accuracy']['Mackey Glass']['Accuracy Value'][j]\n",
    "        if temp < 0:\n",
    "            temp=0\n",
    "        if j == 0:\n",
    "            WS_MG_Randomaccuracy[0][i]= temp\n",
    "        elif j == 1:\n",
    "            WS_MG_Randomaccuracy[1][i]= temp\n",
    "        elif j == 2:\n",
    "            WS_MG_Randomaccuracy[2][i]= temp\n",
    "        elif j == 3:\n",
    "            WS_MG_Randomaccuracy[3][i]= temp\n",
    "        elif j == 4:\n",
    "            WS_MG_Randomaccuracy[4][i]= temp\n",
    "        elif j == 5:\n",
    "            WS_MG_Randomaccuracy[5][i]= temp"
   ]
  },
  {
   "cell_type": "code",
   "execution_count": 7,
   "metadata": {},
   "outputs": [
    {
     "ename": "NameError",
     "evalue": "name 'WS_Grid' is not defined",
     "output_type": "error",
     "traceback": [
      "\u001b[0;31m---------------------------------------------------------------------------\u001b[0m",
      "\u001b[0;31mNameError\u001b[0m                                 Traceback (most recent call last)",
      "\u001b[0;32m<ipython-input-7-6a07c9329067>\u001b[0m in \u001b[0;36m<module>\u001b[0;34m\u001b[0m\n\u001b[0;32m----> 1\u001b[0;31m \u001b[0mWS_MG_Gridaccuracy\u001b[0m\u001b[0;34m=\u001b[0m\u001b[0;34m[\u001b[0m\u001b[0;34m[\u001b[0m\u001b[0;32mNone\u001b[0m\u001b[0;34m]\u001b[0m\u001b[0;34m*\u001b[0m\u001b[0mlen\u001b[0m\u001b[0;34m(\u001b[0m\u001b[0mWS_Grid\u001b[0m\u001b[0;34m)\u001b[0m \u001b[0;32mfor\u001b[0m \u001b[0mi\u001b[0m \u001b[0;32min\u001b[0m \u001b[0mrange\u001b[0m\u001b[0;34m(\u001b[0m\u001b[0mlen\u001b[0m\u001b[0;34m(\u001b[0m\u001b[0mcheatSteps\u001b[0m\u001b[0;34m)\u001b[0m\u001b[0;34m)\u001b[0m\u001b[0;34m]\u001b[0m\u001b[0;34m\u001b[0m\u001b[0;34m\u001b[0m\u001b[0m\n\u001b[0m\u001b[1;32m      2\u001b[0m \u001b[0;32mfor\u001b[0m \u001b[0mi\u001b[0m \u001b[0;32min\u001b[0m \u001b[0mrange\u001b[0m\u001b[0;34m(\u001b[0m\u001b[0mlen\u001b[0m\u001b[0;34m(\u001b[0m\u001b[0mASN300\u001b[0m\u001b[0;34m)\u001b[0m\u001b[0;34m)\u001b[0m\u001b[0;34m:\u001b[0m\u001b[0;34m\u001b[0m\u001b[0;34m\u001b[0m\u001b[0m\n\u001b[1;32m      3\u001b[0m     \u001b[0mtemp\u001b[0m\u001b[0;34m=\u001b[0m\u001b[0;34m[\u001b[0m\u001b[0;34m]\u001b[0m\u001b[0;34m\u001b[0m\u001b[0;34m\u001b[0m\u001b[0m\n\u001b[1;32m      4\u001b[0m     \u001b[0;32mfor\u001b[0m \u001b[0mj\u001b[0m \u001b[0;32min\u001b[0m \u001b[0mrange\u001b[0m\u001b[0;34m(\u001b[0m\u001b[0mlen\u001b[0m\u001b[0;34m(\u001b[0m\u001b[0mWS_Grid\u001b[0m\u001b[0;34m[\u001b[0m\u001b[0mi\u001b[0m\u001b[0;34m]\u001b[0m\u001b[0;34m[\u001b[0m\u001b[0;34m'Accuracy'\u001b[0m\u001b[0;34m]\u001b[0m\u001b[0;34m[\u001b[0m\u001b[0;34m'Mackey Glass'\u001b[0m\u001b[0;34m]\u001b[0m\u001b[0;34m[\u001b[0m\u001b[0;34m'Accuracy Value'\u001b[0m\u001b[0;34m]\u001b[0m\u001b[0;34m)\u001b[0m\u001b[0;34m)\u001b[0m\u001b[0;34m:\u001b[0m\u001b[0;34m\u001b[0m\u001b[0;34m\u001b[0m\u001b[0m\n\u001b[1;32m      5\u001b[0m         \u001b[0mtemp\u001b[0m\u001b[0;34m=\u001b[0m\u001b[0mWS_Grid\u001b[0m\u001b[0;34m[\u001b[0m\u001b[0mi\u001b[0m\u001b[0;34m]\u001b[0m\u001b[0;34m[\u001b[0m\u001b[0;34m'Accuracy'\u001b[0m\u001b[0;34m]\u001b[0m\u001b[0;34m[\u001b[0m\u001b[0;34m'Mackey Glass'\u001b[0m\u001b[0;34m]\u001b[0m\u001b[0;34m[\u001b[0m\u001b[0;34m'Accuracy Value'\u001b[0m\u001b[0;34m]\u001b[0m\u001b[0;34m[\u001b[0m\u001b[0mj\u001b[0m\u001b[0;34m]\u001b[0m\u001b[0;34m\u001b[0m\u001b[0;34m\u001b[0m\u001b[0m\n",
      "\u001b[0;32m<ipython-input-7-6a07c9329067>\u001b[0m in \u001b[0;36m<listcomp>\u001b[0;34m(.0)\u001b[0m\n\u001b[0;32m----> 1\u001b[0;31m \u001b[0mWS_MG_Gridaccuracy\u001b[0m\u001b[0;34m=\u001b[0m\u001b[0;34m[\u001b[0m\u001b[0;34m[\u001b[0m\u001b[0;32mNone\u001b[0m\u001b[0;34m]\u001b[0m\u001b[0;34m*\u001b[0m\u001b[0mlen\u001b[0m\u001b[0;34m(\u001b[0m\u001b[0mWS_Grid\u001b[0m\u001b[0;34m)\u001b[0m \u001b[0;32mfor\u001b[0m \u001b[0mi\u001b[0m \u001b[0;32min\u001b[0m \u001b[0mrange\u001b[0m\u001b[0;34m(\u001b[0m\u001b[0mlen\u001b[0m\u001b[0;34m(\u001b[0m\u001b[0mcheatSteps\u001b[0m\u001b[0;34m)\u001b[0m\u001b[0;34m)\u001b[0m\u001b[0;34m]\u001b[0m\u001b[0;34m\u001b[0m\u001b[0;34m\u001b[0m\u001b[0m\n\u001b[0m\u001b[1;32m      2\u001b[0m \u001b[0;32mfor\u001b[0m \u001b[0mi\u001b[0m \u001b[0;32min\u001b[0m \u001b[0mrange\u001b[0m\u001b[0;34m(\u001b[0m\u001b[0mlen\u001b[0m\u001b[0;34m(\u001b[0m\u001b[0mASN300\u001b[0m\u001b[0;34m)\u001b[0m\u001b[0;34m)\u001b[0m\u001b[0;34m:\u001b[0m\u001b[0;34m\u001b[0m\u001b[0;34m\u001b[0m\u001b[0m\n\u001b[1;32m      3\u001b[0m     \u001b[0mtemp\u001b[0m\u001b[0;34m=\u001b[0m\u001b[0;34m[\u001b[0m\u001b[0;34m]\u001b[0m\u001b[0;34m\u001b[0m\u001b[0;34m\u001b[0m\u001b[0m\n\u001b[1;32m      4\u001b[0m     \u001b[0;32mfor\u001b[0m \u001b[0mj\u001b[0m \u001b[0;32min\u001b[0m \u001b[0mrange\u001b[0m\u001b[0;34m(\u001b[0m\u001b[0mlen\u001b[0m\u001b[0;34m(\u001b[0m\u001b[0mWS_Grid\u001b[0m\u001b[0;34m[\u001b[0m\u001b[0mi\u001b[0m\u001b[0;34m]\u001b[0m\u001b[0;34m[\u001b[0m\u001b[0;34m'Accuracy'\u001b[0m\u001b[0;34m]\u001b[0m\u001b[0;34m[\u001b[0m\u001b[0;34m'Mackey Glass'\u001b[0m\u001b[0;34m]\u001b[0m\u001b[0;34m[\u001b[0m\u001b[0;34m'Accuracy Value'\u001b[0m\u001b[0;34m]\u001b[0m\u001b[0;34m)\u001b[0m\u001b[0;34m)\u001b[0m\u001b[0;34m:\u001b[0m\u001b[0;34m\u001b[0m\u001b[0;34m\u001b[0m\u001b[0m\n\u001b[1;32m      5\u001b[0m         \u001b[0mtemp\u001b[0m\u001b[0;34m=\u001b[0m\u001b[0mWS_Grid\u001b[0m\u001b[0;34m[\u001b[0m\u001b[0mi\u001b[0m\u001b[0;34m]\u001b[0m\u001b[0;34m[\u001b[0m\u001b[0;34m'Accuracy'\u001b[0m\u001b[0;34m]\u001b[0m\u001b[0;34m[\u001b[0m\u001b[0;34m'Mackey Glass'\u001b[0m\u001b[0;34m]\u001b[0m\u001b[0;34m[\u001b[0m\u001b[0;34m'Accuracy Value'\u001b[0m\u001b[0;34m]\u001b[0m\u001b[0;34m[\u001b[0m\u001b[0mj\u001b[0m\u001b[0;34m]\u001b[0m\u001b[0;34m\u001b[0m\u001b[0;34m\u001b[0m\u001b[0m\n",
      "\u001b[0;31mNameError\u001b[0m: name 'WS_Grid' is not defined"
     ]
    }
   ],
   "source": [
    "WS_MG_Gridaccuracy=[[None]*len(WS_Grid) for i in range(len(cheatSteps))]\n",
    "for i in range(len(ASN300)):\n",
    "    temp=[]\n",
    "    for j in range(len(WS_Grid[i]['Accuracy']['Mackey Glass']['Accuracy Value'])):\n",
    "        temp=WS_Grid[i]['Accuracy']['Mackey Glass']['Accuracy Value'][j]\n",
    "        if temp < 0:\n",
    "            temp=0\n",
    "        if j == 0:\n",
    "            WS_MG_Gridaccuracy[0][i]= temp\n",
    "        elif j == 1:\n",
    "            WS_MG_Gridaccuracy[1][i]= temp\n",
    "        elif j == 2:\n",
    "            WS_MG_Gridaccuracy[2][i]= temp\n",
    "        elif j == 3:\n",
    "            WS_MG_Gridaccuracy[3][i]= temp\n",
    "        elif j == 4:\n",
    "            WS_MG_Gridaccuracy[4][i]= temp\n",
    "        elif j == 5:\n",
    "            WS_MG_Gridaccuracy[5][i]= temp"
   ]
  },
  {
   "cell_type": "code",
   "execution_count": 8,
   "metadata": {},
   "outputs": [],
   "source": [
    "labels_MG=['10 Cheat Steps','20 Cheat Steps','30 Cheat Steps','40 Cheat Steps','50 Cheat Steps','60 Cheat Steps']"
   ]
  },
  {
   "cell_type": "code",
   "execution_count": null,
   "metadata": {},
   "outputs": [],
   "source": [
    "#MG Plot SmallWorldness:\n",
    "fig1=plt.figure(figsize=(15,15))\n",
    "ax=[None]*len(cheatSteps)\n",
    "axBig = fig1.add_subplot(111)\n",
    "axBig.set_frame_on(False)\n",
    "axBig.set_yticklabels([])\n",
    "axBig.set_xticklabels([])\n",
    "axBig.set_xticks([])\n",
    "axBig.set_yticks([])\n",
    "plt.xlabel('Small World Propensity',fontsize=30,labelpad=15)\n",
    "plt.ylabel('Accuracy',fontsize=30,labelpad=15)\n",
    "plt.title('Mackey Glass Performance',fontsize=30,pad=30)\n",
    "for i in range(len(ax)):\n",
    "    ax[i]=fig1.add_subplot(2, 3, i+1)\n",
    "    plt.scatter(smallworld,ASN_MG_accuracy[i],label='ASN',marker='s')\n",
    "    plt.scatter(smallworld_random,WS_MG_Randomaccuracy[i],label='WS Random',marker='o')\n",
    "    plt.scatter(smallworld_grid,WS_MG_Gridaccuracy[i],label='WS Grid',marker='o')\n",
    "    plt.scatter(Elegans['Graph Theory']['Small World'],Elegans_MG_accuracy[i],label='Elegans',marker='x')#,0,24,label='Elegans')\n",
    "    plt.title(str(labels_MG[i]))\n",
    "    plt.legend(loc='bottom right')\n",
    "    plt.ylim(0,1)\n",
    "\n",
    "#DOUBLE CHECK SMALL WORLDNESS \n",
    "    \n",
    "#      #Add correlation line\n",
    "      #  ASN300\n",
    "    x=np.array(ASNsw, dtype=np.float)\n",
    "    y=np.array(ASN_MG_accuracy[i], dtype=np.float)\n",
    "    idx = np.isfinite(x) & np.isfinite(y)\n",
    "    m, b = np.polyfit(x[idx],y[idx], 1)\n",
    "    X_plot = np.linspace(ax[i].get_xlim()[0],ax[i].get_xlim()[1],100)\n",
    "    plt.plot(X_plot, m*X_plot + b, '-')\n",
    "#      #WS Random\n",
    "#     x=np.array(WS_Randsw, dtype=np.float)\n",
    "#     y=np.array(WS_MG_Randomaccuracy[i], dtype=np.float)\n",
    "#     idx = np.isfinite(x) & np.isfinite(y)\n",
    "#     m, b = np.polyfit(x[idx],y[idx], 1)\n",
    "#     X_plot = np.linspace(ax[i].get_xlim()[0],ax[i].get_xlim()[1],100)\n",
    "#     plt.plot(X_plot, m*X_plot + b, '-')\n",
    "    \n",
    "#     x=np.array(WS_Gridsw, dtype=np.float)\n",
    "#     y=np.array(WS_MG_Gridaccuracy[i], dtype=np.float)\n",
    "#     idx = np.isfinite(x) & np.isfinite(y)\n",
    "#     m, b = np.polyfit(x[idx],y[idx], 1)\n",
    "#     X_plot = np.linspace(ax[i].get_xlim()[0],ax[i].get_xlim()[1],100)\n",
    "#     plt.plot(X_plot, m*X_plot + b, '-')\n",
    "    plt.savefig(r'C:\\Users\\aloe8475\\Documents\\PhD\\GitHub\\CODE\\Data\\Figures\\Functional Connectivity\\'Mackey Glass Accuracy vs Small World Prop.jpg')\n",
    "\n",
    "#     plt.savefig()"
   ]
  }
 ],
 "metadata": {
  "kernelspec": {
   "display_name": "Python 3",
   "language": "python",
   "name": "python3"
  },
  "language_info": {
   "codemirror_mode": {
    "name": "ipython",
    "version": 3
   },
   "file_extension": ".py",
   "mimetype": "text/x-python",
   "name": "python",
   "nbconvert_exporter": "python",
   "pygments_lexer": "ipython3",
   "version": "3.7.3"
  }
 },
 "nbformat": 4,
 "nbformat_minor": 2
}
