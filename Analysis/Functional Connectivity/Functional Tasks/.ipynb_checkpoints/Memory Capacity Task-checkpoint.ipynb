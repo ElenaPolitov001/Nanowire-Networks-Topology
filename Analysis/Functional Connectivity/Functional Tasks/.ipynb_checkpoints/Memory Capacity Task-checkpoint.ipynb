{
 "cells": [
  {
   "cell_type": "code",
   "execution_count": 1,
   "metadata": {
    "scrolled": false
   },
   "outputs": [
    {
     "name": "stdout",
     "output_type": "stream",
     "text": [
      "/suphys/aloe8475\n"
     ]
    }
   ],
   "source": [
    "cd \"/suphys/aloe8475\""
   ]
  },
  {
   "cell_type": "code",
   "execution_count": 2,
   "metadata": {},
   "outputs": [
    {
     "name": "stdout",
     "output_type": "stream",
     "text": [
      "/import/silo2/aloe8475/Documents/edamame\n"
     ]
    }
   ],
   "source": [
    "cd \"Documents/edamame\""
   ]
  },
  {
   "cell_type": "code",
   "execution_count": 3,
   "metadata": {},
   "outputs": [],
   "source": [
    "from scipy.io import loadmat, savemat\n",
    "import numpy as np\n",
    "import matplotlib.pyplot as plt\n",
    "from matplotlib import colors\n",
    "import datetime\n",
    "import networkx as nx\n",
    "from edamame import *\n",
    "from tqdm.notebook import tqdm_notebook\n",
    "import os\n",
    "import edamame.core.wires as wires\n",
    "from random import choice\n",
    "import warnings\n",
    "from IPython.core.debugger import set_trace\n",
    "import nct\n",
    "import bct\n",
    "\n",
    "#warnings.filterwarnings('ignore')"
   ]
  },
  {
   "cell_type": "code",
   "execution_count": 11,
   "metadata": {},
   "outputs": [],
   "source": [
    "import pickle \n",
    "import _pickle as cPickle\n",
    "import gzip\n",
    "def compressed_pickle(obj, filename,protocol=-1):\n",
    "    with gzip.open(filename, 'wb') as f:\n",
    "        cPickle.dump(obj, f, protocol)\n",
    "def decompress_pickle(file):\n",
    "    with gzip.open(file, 'rb') as f:\n",
    "        loaded_object = cPickle.load(f)\n",
    "        return loaded_object"
   ]
  },
  {
   "cell_type": "code",
   "execution_count": 5,
   "metadata": {},
   "outputs": [],
   "source": [
    "def get_MC_NWN(Connectivity,i,j, amp = 2, dt = 0.01, dur = 1, n_outs = 100, init_state = None, return_sim = False):\n",
    "    signal = signal_expand(np.random.random(1000)*2*amp-amp, dur)\n",
    "    simRAND = runSim(Connectivity, T = 10, dt = dt,\n",
    "                start_state =  init_state,\n",
    "                biasType = 'Custom', customSignal = signal, \n",
    "                junctionMode = 'tunneling', \n",
    "                contactMode = 'farthest',\n",
    "                findFirst=False, disable_tqdm=True)\n",
    "    print('Saving Simulations for Parameter ' +str(i+1) + ' Network ' + str(j+1))\n",
    "    results={'JunctionConductance':simRAND.junctionConductance[-1],'JunctionVoltage':simRAND.junctionVoltage[-1],'Switch':simRAND.junctionSwitch[-1],'Source':simRAND.sources[0],'conductance':simRAND.conductance,'Drain':simRAND.drains[0],'Signal':simRAND.stimulus}\n",
    "    compressed_pickle(results,'../../../Data/Functional Connectivity/NWN Results/MC_Simulation_'+str(amp)+'v_'+str(i+1)+'_'+str(j+1)+'.pkl')\n",
    "    mcRAND = [MC_k(simRAND, i, n_outs = n_outs) for i in range(dur, 101*dur, dur)]\n",
    "\n",
    "    if return_sim:\n",
    "        return np.sum(mcRAND), simRAND\n",
    "    else:\n",
    "        return np.sum(mcRAND)"
   ]
  },
  {
   "cell_type": "code",
   "execution_count": 6,
   "metadata": {},
   "outputs": [],
   "source": [
    "def get_MC_otherNetworks(Connectivity,i,nwType, amp = 2, dt = 0.01, dur = 1, n_outs = 100, init_state = None, return_sim = False):\n",
    "    signal = signal_expand(np.random.random(1000)*2*amp-amp, dur)\n",
    "    simRAND = runSim(Connectivity, T = 10, dt = dt,\n",
    "                start_state =  init_state,\n",
    "                biasType = 'Custom', customSignal = signal, \n",
    "                junctionMode = 'tunneling', \n",
    "                contactMode = 'farthest',\n",
    "                findFirst=False, disable_tqdm=True)\n",
    "    print('Saving Simulations for Parameter ' +str(i+1))\n",
    "    results={'JunctionConductance':simRAND.junctionConductance[-1],'JunctionVoltage':simRAND.junctionVoltage[-1],'Switch':simRAND.junctionSwitch[-1],'Source':simRAND.sources[0],'conductance':simRAND.conductance,'Drain':simRAND.drains[0],'Signal':simRAND.stimulus}\n",
    "    compressed_pickle(results,'../../../Data/Functional Connectivity/'+str(nwType)+' Results/'+str(nwType)+'_MC_Simulation_'+str(amp)+'v_'+str(i+1)+'.pkl')\n",
    "    mcRAND = [MC_k(simRAND, i, n_outs = n_outs) for i in range(dur, 101*dur, dur)]\n",
    "\n",
    "    if return_sim:\n",
    "        return np.sum(mcRAND), simRAND\n",
    "    else:\n",
    "        return np.sum(mcRAND)"
   ]
  },
  {
   "cell_type": "code",
   "execution_count": 7,
   "metadata": {},
   "outputs": [
    {
     "name": "stdout",
     "output_type": "stream",
     "text": [
      "/import/silo2/aloe8475/Documents/CODE/Analysis/Functional Connectivity/Functional Tasks\n"
     ]
    }
   ],
   "source": [
    "cd \"/import/silo2/aloe8475/Documents/CODE/Analysis/Functional Connectivity/Functional Tasks/\""
   ]
  },
  {
   "cell_type": "code",
   "execution_count": 8,
   "metadata": {},
   "outputs": [
    {
     "name": "stdout",
     "output_type": "stream",
     "text": [
      "Loading Networks\n"
     ]
    }
   ],
   "source": [
    "name='networks_LinearTransformation.pkl'\n",
    "print('Loading Networks')\n",
    "file = open(name, 'rb')\n",
    "#     [ASN300,cluster1,cluster2,cluster3,time_index,nodesList] = pickle.load(file)\n",
    "#     [ASN300,cluster1,cluster2,cluster3] = pickle.load(file)\n",
    "[ASN300] = pickle.load(file)\n"
   ]
  },
  {
   "cell_type": "code",
   "execution_count": 44,
   "metadata": {},
   "outputs": [],
   "source": [
    "# onAmp=[[] for i in range(len(ASN300))]\n",
    "# shortestPath=[[None]*10 for i in range(len(ASN300))]\n",
    "# for i in tqdm(range(len(ASN300))):\n",
    "#     for j in range(len(ASN300[i])):\n",
    "#         temp=getFarthestPairing(ASN300[i][j]['adj_matrix'])\n",
    "#         shortestPath[i][j]=nx.shortest_path_length(ASN300[i][j]['G'],temp[0],temp[1])\n",
    "#         onAmp[i].append(shortestPath[i][j]/5) #need to justify divide by 5 or come up with some other way"
   ]
  },
  {
   "cell_type": "code",
   "execution_count": 9,
   "metadata": {},
   "outputs": [],
   "source": [
    "init=[]\n",
    "for i in range(len(ASN300)):\n",
    "    for j in range(len(ASN300[i])):\n",
    "        amp=2#onAmp[i][j]\n",
    "        connectivity=connectivity__(wires_dict=ASN300[i][j])\n",
    "        init.append(inputPacker(get_MC_NWN,connectivity,i,j,amp))"
   ]
  },
  {
   "cell_type": "code",
   "execution_count": 10,
   "metadata": {
    "scrolled": true
   },
   "outputs": [
    {
     "data": {
      "application/vnd.jupyter.widget-view+json": {
       "model_id": "cba84f6f4c894d3b9f9b4542ca5bbf4d",
       "version_major": 2,
       "version_minor": 0
      },
      "text/plain": [
       "HBox(children=(FloatProgress(value=0.0, max=10.0), HTML(value='')))"
      ]
     },
     "metadata": {},
     "output_type": "display_data"
    },
    {
     "data": {
      "application/vnd.jupyter.widget-view+json": {
       "model_id": "93161afc49c445deac9b0231dce0a088",
       "version_major": 2,
       "version_minor": 0
      },
      "text/plain": [
       "HBox(children=(FloatProgress(value=0.0, max=300.0), HTML(value='')))"
      ]
     },
     "metadata": {},
     "output_type": "display_data"
    },
    {
     "name": "stdout",
     "output_type": "stream",
     "text": [
      "\n",
      "\n"
     ]
    },
    {
     "name": "stderr",
     "output_type": "stream",
     "text": [
      "2020-09-07 14:42:53,618:ERROR:Internal Python error in the inspect module.\n",
      "Below is the traceback from this internal error.\n",
      "\n",
      "\n",
      "KeyboardInterrupt\n",
      "\n"
     ]
    }
   ],
   "source": [
    "#Run this 10 times\n",
    "result=[]\n",
    "for i in tqdm(range(10)):\n",
    "    result.append(para_run(get_MC_NWN,init,nCPU=10))"
   ]
  },
  {
   "cell_type": "code",
   "execution_count": 52,
   "metadata": {},
   "outputs": [],
   "source": [
    "temp=np.vstack(result)"
   ]
  },
  {
   "cell_type": "code",
   "execution_count": 53,
   "metadata": {},
   "outputs": [
    {
     "data": {
      "text/plain": [
       "array([[10.08331972, 10.08331973, 10.08331951, ..., 10.08331939,\n",
       "        10.08331939, 10.08332011],\n",
       "       [10.14569096, 10.14569096, 10.14569096, ..., 10.14569096,\n",
       "        10.14569096, 10.14569096],\n",
       "       [10.15543687, 10.15543687, 10.15543687, ..., 10.15543687,\n",
       "        10.15543687, 10.15543687],\n",
       "       ...,\n",
       "       [11.12516201, 10.72611059, 10.36759839, ..., 10.40385268,\n",
       "        10.45638034,  5.20247769],\n",
       "       [10.38253277, 10.581485  , 10.2556523 , ..., 10.56043645,\n",
       "        10.56043645, 10.31322691],\n",
       "       [10.28882233, 10.10499944, 10.58774406, ..., 10.14175479,\n",
       "        10.52698535, 10.62501492]])"
      ]
     },
     "execution_count": 53,
     "metadata": {},
     "output_type": "execute_result"
    }
   ],
   "source": [
    "temp.T"
   ]
  },
  {
   "cell_type": "code",
   "execution_count": 54,
   "metadata": {},
   "outputs": [],
   "source": [
    "result2=np.mean(temp.T,axis=1)"
   ]
  },
  {
   "cell_type": "code",
   "execution_count": 55,
   "metadata": {},
   "outputs": [
    {
     "data": {
      "text/plain": [
       "array([10.08331965, 10.14569096, 10.15543687, 10.42336694, 10.48906894,\n",
       "       10.33605008, 10.5445294 , 10.36387419, 10.27586412, 10.41637329,\n",
       "        0.48152666,  1.70488644,  0.92477301,  6.98209713, 10.98353284,\n",
       "       10.80868992, 11.20602029, 11.40021653, 10.50789786, 10.42096313,\n",
       "        0.55116826,  2.81321723,  3.77628393,  8.80459202, 10.34595606,\n",
       "       10.5077322 , 10.32150843, 10.28724903, 10.71302006, 10.49211843,\n",
       "        0.57618033,  1.01442031,  2.19162213,  9.75414964, 10.28196836,\n",
       "       10.04601776, 10.41083102,  9.9141548 , 10.53414053, 10.4321581 ,\n",
       "        0.40055089,  0.7598546 ,  3.94523964,  1.05766391,  0.7027039 ,\n",
       "       10.25782794, 10.65768633, 10.28460745, 10.60139375, 10.8454489 ,\n",
       "        0.22121365,  0.26644597,  0.5200865 ,  2.41507337,  5.36045198,\n",
       "        6.97103007,  7.96985199,  9.44228168, 10.02557977, 10.42395691,\n",
       "        0.24738135,  0.46207366,  0.49701699,  0.39001129,  1.78208532,\n",
       "        5.58367175,  6.51327032,  9.10107748,  8.73369109, 10.64364779,\n",
       "        0.34487392,  1.30372017,  2.60335811,  6.50802632,  9.3851548 ,\n",
       "        2.86796844,  5.56508997,  6.28513194, 10.59818252,  0.36178792,\n",
       "        0.26132348,  1.03321474,  0.24166891,  1.24550865,  1.99937894,\n",
       "        1.94150877,  6.64980612,  8.000247  ,  9.38756333,  0.36204855,\n",
       "        0.12081019,  0.20647387,  0.63212967,  1.12984718,  0.67752302,\n",
       "        0.77937766,  1.12079852,  4.95112014,  7.24978847,  0.19922805,\n",
       "        5.29845393,  3.45024954,  0.2923854 ,  0.31925477,  0.63447277,\n",
       "        0.30469814,  0.34198823,  0.39069996,  0.20749109,  2.27915715,\n",
       "        5.29059129,  2.8848647 ,  1.54645748,  0.69235829,  1.12711222,\n",
       "        0.55119249,  0.32461439,  0.2948174 ,  4.62598305,  4.81673496,\n",
       "        4.06793837,  2.33238171,  2.58239607,  2.73967699,  0.67718348,\n",
       "        0.2424848 ,  0.19405036,  0.25701387,  2.99617095,  5.42258054,\n",
       "        5.33694593,  1.80353667,  2.18412553,  0.96753941,  0.44326081,\n",
       "        0.35532446,  0.31316351,  0.23066279,  3.5286409 ,  2.18472915,\n",
       "        5.68244205,  3.39634629,  2.26983018,  0.74139013,  0.61850775,\n",
       "        0.31057406,  0.23456311,  0.25173591,  0.19437963,  9.09935328,\n",
       "        8.26516368,  3.49377695,  1.96347435,  0.48632234,  3.59138562,\n",
       "        0.45356695,  0.57612925,  9.57743066,  1.67365241,  1.09138881,\n",
       "        6.70369055,  7.03080858,  3.03700795,  0.59196718,  0.29867132,\n",
       "        0.44797213,  2.41664395,  5.89338213,  2.09703863,  3.12463294,\n",
       "        4.34138443,  1.86940452,  5.44993613,  1.33524065,  2.16961284,\n",
       "        1.38245335,  1.59302072,  2.71006638,  2.13104676,  0.63324764,\n",
       "        9.13762871,  6.34103429,  3.80366373,  2.92680826,  5.11486513,\n",
       "        0.46689424,  2.72825852,  8.47981995,  1.86549915,  2.90611457,\n",
       "        6.50588583,  2.52768682,  2.73833504,  2.01535096,  6.16063908,\n",
       "        9.47719236,  5.54238811,  1.00672153,  1.59217298,  6.65001611,\n",
       "        0.23973911,  0.18318327,  0.23505964,  0.43201765,  0.27011858,\n",
       "        0.29150851,  0.24839524,  0.19438114,  0.28946687,  0.30252035,\n",
       "        0.28394704,  1.22795927,  0.87355031,  0.54860548,  0.37472566,\n",
       "        0.79104681,  0.60878897,  0.40695529,  0.50629342,  0.32028337,\n",
       "        0.616372  ,  1.20025168,  0.52463536,  1.65240332,  0.54198832,\n",
       "        0.40757005,  0.53076623,  1.36371195,  1.21200582,  1.90082768,\n",
       "        1.31889123,  0.76887738,  2.49041086,  1.14141002,  4.16358942,\n",
       "        2.93955166,  4.52590369,  3.6655822 ,  2.45558427,  5.93077833,\n",
       "        4.08923064,  4.04239843,  5.24747721,  3.81959226,  0.50455621,\n",
       "        1.81322006,  5.14640607,  7.17920997,  2.19112092,  5.91940303,\n",
       "        5.20223223,  2.42004261,  3.68693735,  6.50880344,  6.45873826,\n",
       "        4.63927495,  5.22696864,  5.3787769 ,  6.72264481,  5.51482025,\n",
       "        8.5139897 ,  4.56345173,  9.13262942,  8.91548109,  9.08511207,\n",
       "        5.79372869,  7.55108699,  9.41970322,  7.88119517,  9.27678221,\n",
       "        8.59458198,  8.11288973,  8.74796934,  7.83836529, 10.42213665,\n",
       "        8.42703411,  8.83918191, 10.39108226,  8.50404813,  9.70179859,\n",
       "        8.13664565, 10.61480064, 10.48135262, 10.3958608 ,  9.94397048,\n",
       "        9.94488478, 10.60743624, 10.50396258, 10.3933886 ,  8.77088975,\n",
       "       10.68454235, 10.42945479, 10.66565186, 10.56589342,  9.95602341,\n",
       "        9.96059652, 10.22883771, 10.02278433, 10.42316788, 10.32873668])"
      ]
     },
     "execution_count": 55,
     "metadata": {},
     "output_type": "execute_result"
    }
   ],
   "source": [
    "result2"
   ]
  },
  {
   "cell_type": "code",
   "execution_count": 56,
   "metadata": {
    "scrolled": true
   },
   "outputs": [],
   "source": [
    "name= r'/import/silo2/aloe8475/Documents/CODE/Data/Functional Connectivity/results_MemoryCapacity_'+str(amp)+'v_10Sims'\n",
    "compressed_pickle([result2],name)"
   ]
  },
  {
   "cell_type": "code",
   "execution_count": 57,
   "metadata": {},
   "outputs": [
    {
     "data": {
      "text/plain": [
       "'/import/silo2/aloe8475/Documents/CODE/Data/Functional Connectivity/results_MemoryCapacity_2v_10Sims'"
      ]
     },
     "execution_count": 57,
     "metadata": {},
     "output_type": "execute_result"
    }
   ],
   "source": [
    "name"
   ]
  },
  {
   "cell_type": "markdown",
   "metadata": {},
   "source": [
    "# Random & Grid Networks:"
   ]
  },
  {
   "cell_type": "code",
   "execution_count": 22,
   "metadata": {},
   "outputs": [
    {
     "name": "stdout",
     "output_type": "stream",
     "text": [
      "Loading WS\n",
      "Loaded\n"
     ]
    }
   ],
   "source": [
    "# name='WS_networks_LinearTransformation.pkl'\n",
    "name='WS_Allnetworks_LinearTransformation.pkl'\n",
    "print('Loading WS')\n",
    "file = open(name, 'rb')\n",
    "[WS_Grid,WS_Random] = pickle.load(file)\n",
    "print('Loaded')"
   ]
  },
  {
   "cell_type": "code",
   "execution_count": 23,
   "metadata": {},
   "outputs": [],
   "source": [
    "numRand=3\n",
    "onAmp_Rand=[]\n",
    "onAmp_Grid=[]\n",
    "for i in range(len(WS_Random)):\n",
    "    for j in range(numRand):\n",
    "        onAmp_Rand.append(WS_Random[i][j]['sp_amp'])\n",
    "        \n",
    "onAmp_Grid.append(WS_Grid['sp_amp'])"
   ]
  },
  {
   "cell_type": "code",
   "execution_count": 27,
   "metadata": {},
   "outputs": [
    {
     "data": {
      "text/plain": [
       "900"
      ]
     },
     "execution_count": 27,
     "metadata": {},
     "output_type": "execute_result"
    }
   ],
   "source": [
    "len(onAmp_Rand)"
   ]
  },
  {
   "cell_type": "code",
   "execution_count": 121,
   "metadata": {},
   "outputs": [
    {
     "data": {
      "application/vnd.jupyter.widget-view+json": {
       "model_id": "d69e4879d35c4c86896dae1c8a4b2471",
       "version_major": 2,
       "version_minor": 0
      },
      "text/plain": [
       "HBox(children=(IntProgress(value=0, max=300), HTML(value='')))"
      ]
     },
     "metadata": {},
     "output_type": "display_data"
    },
    {
     "name": "stderr",
     "output_type": "stream",
     "text": [
      "Exception ignored in: <function WeakSet.__init__.<locals>._remove at 0x7f3a60c86e18>\n",
      "Traceback (most recent call last):\n",
      "  File \"/suphys/aloe8475/anaconda3/lib/python3.7/_weakrefset.py\", line 38, in _remove\n",
      "    def _remove(item, selfref=ref(self)):\n",
      "KeyboardInterrupt\n"
     ]
    }
   ],
   "source": [
    "initRand=[]\n",
    "count=0\n",
    "for i in tqdm(range(len(WS_Random))):\n",
    "    for j in range(numRand):\n",
    "        amp=onAmp_Rand[count]\n",
    "        connectivity=connectivity__(graph=WS_Random[i][j]['G'])\n",
    "        initRand.append(inputPacker(get_MC,connectivity,amp))\n",
    "        count=count+1\n",
    "        \n",
    "initGrid=[]\n",
    "amp=onAmp_Grid\n",
    "connectivity=connectivity__(graph=WS_Grid['G'][0])\n",
    "initGrid.append(inputPacker(get_MC,connectivity,amp))"
   ]
  },
  {
   "cell_type": "code",
   "execution_count": 32,
   "metadata": {},
   "outputs": [
    {
     "data": {
      "application/vnd.jupyter.widget-view+json": {
       "model_id": "5d1ba4d842d240bdb2082c991333083d",
       "version_major": 2,
       "version_minor": 0
      },
      "text/plain": [
       "HBox(children=(IntProgress(value=0, max=10), HTML(value='')))"
      ]
     },
     "metadata": {},
     "output_type": "display_data"
    },
    {
     "data": {
      "application/vnd.jupyter.widget-view+json": {
       "model_id": "f8e08bf06b3b40be87d25518d86ad075",
       "version_major": 2,
       "version_minor": 0
      },
      "text/plain": [
       "HBox(children=(IntProgress(value=0, max=900), HTML(value='')))"
      ]
     },
     "metadata": {},
     "output_type": "display_data"
    },
    {
     "data": {
      "application/vnd.jupyter.widget-view+json": {
       "model_id": "c8986aac900246dfa2e7bb4f73397aab",
       "version_major": 2,
       "version_minor": 0
      },
      "text/plain": [
       "HBox(children=(IntProgress(value=0, max=1), HTML(value='')))"
      ]
     },
     "metadata": {},
     "output_type": "display_data"
    },
    {
     "data": {
      "application/vnd.jupyter.widget-view+json": {
       "model_id": "be1c0f33d3c241729abb248588912202",
       "version_major": 2,
       "version_minor": 0
      },
      "text/plain": [
       "HBox(children=(IntProgress(value=0, max=900), HTML(value='')))"
      ]
     },
     "metadata": {},
     "output_type": "display_data"
    },
    {
     "data": {
      "application/vnd.jupyter.widget-view+json": {
       "model_id": "7900d7ca09d94a2bbe26facf928c626c",
       "version_major": 2,
       "version_minor": 0
      },
      "text/plain": [
       "HBox(children=(IntProgress(value=0, max=1), HTML(value='')))"
      ]
     },
     "metadata": {},
     "output_type": "display_data"
    },
    {
     "data": {
      "application/vnd.jupyter.widget-view+json": {
       "model_id": "435ba0f34f544e229e72add5a12a3b8f",
       "version_major": 2,
       "version_minor": 0
      },
      "text/plain": [
       "HBox(children=(IntProgress(value=0, max=900), HTML(value='')))"
      ]
     },
     "metadata": {},
     "output_type": "display_data"
    },
    {
     "data": {
      "application/vnd.jupyter.widget-view+json": {
       "model_id": "6c1d4d61998b4f168594feaf49a6a420",
       "version_major": 2,
       "version_minor": 0
      },
      "text/plain": [
       "HBox(children=(IntProgress(value=0, max=1), HTML(value='')))"
      ]
     },
     "metadata": {},
     "output_type": "display_data"
    },
    {
     "data": {
      "application/vnd.jupyter.widget-view+json": {
       "model_id": "86f57ce9d53e4e7d8c15bbe775c40772",
       "version_major": 2,
       "version_minor": 0
      },
      "text/plain": [
       "HBox(children=(IntProgress(value=0, max=900), HTML(value='')))"
      ]
     },
     "metadata": {},
     "output_type": "display_data"
    },
    {
     "data": {
      "application/vnd.jupyter.widget-view+json": {
       "model_id": "cfda5018c9e44569b55a51b0239ab7a0",
       "version_major": 2,
       "version_minor": 0
      },
      "text/plain": [
       "HBox(children=(IntProgress(value=0, max=1), HTML(value='')))"
      ]
     },
     "metadata": {},
     "output_type": "display_data"
    },
    {
     "data": {
      "application/vnd.jupyter.widget-view+json": {
       "model_id": "096836b6cec948ab992d051d4218573f",
       "version_major": 2,
       "version_minor": 0
      },
      "text/plain": [
       "HBox(children=(IntProgress(value=0, max=900), HTML(value='')))"
      ]
     },
     "metadata": {},
     "output_type": "display_data"
    },
    {
     "data": {
      "application/vnd.jupyter.widget-view+json": {
       "model_id": "5c726434eb2e48619b4f61c18c94f0a3",
       "version_major": 2,
       "version_minor": 0
      },
      "text/plain": [
       "HBox(children=(IntProgress(value=0, max=1), HTML(value='')))"
      ]
     },
     "metadata": {},
     "output_type": "display_data"
    },
    {
     "data": {
      "application/vnd.jupyter.widget-view+json": {
       "model_id": "09d7f2ecda774d828d61109051f41f80",
       "version_major": 2,
       "version_minor": 0
      },
      "text/plain": [
       "HBox(children=(IntProgress(value=0, max=900), HTML(value='')))"
      ]
     },
     "metadata": {},
     "output_type": "display_data"
    },
    {
     "data": {
      "application/vnd.jupyter.widget-view+json": {
       "model_id": "ed6a330763bc4d2e838464f6c954b3b1",
       "version_major": 2,
       "version_minor": 0
      },
      "text/plain": [
       "HBox(children=(IntProgress(value=0, max=1), HTML(value='')))"
      ]
     },
     "metadata": {},
     "output_type": "display_data"
    },
    {
     "data": {
      "application/vnd.jupyter.widget-view+json": {
       "model_id": "d92d0155e93e452588bb065d31668204",
       "version_major": 2,
       "version_minor": 0
      },
      "text/plain": [
       "HBox(children=(IntProgress(value=0, max=900), HTML(value='')))"
      ]
     },
     "metadata": {},
     "output_type": "display_data"
    },
    {
     "data": {
      "application/vnd.jupyter.widget-view+json": {
       "model_id": "5880a38f240b497fbf6f323a5fed0817",
       "version_major": 2,
       "version_minor": 0
      },
      "text/plain": [
       "HBox(children=(IntProgress(value=0, max=1), HTML(value='')))"
      ]
     },
     "metadata": {},
     "output_type": "display_data"
    },
    {
     "data": {
      "application/vnd.jupyter.widget-view+json": {
       "model_id": "a7992055dea24fa28acfb856d770053b",
       "version_major": 2,
       "version_minor": 0
      },
      "text/plain": [
       "HBox(children=(IntProgress(value=0, max=900), HTML(value='')))"
      ]
     },
     "metadata": {},
     "output_type": "display_data"
    },
    {
     "data": {
      "application/vnd.jupyter.widget-view+json": {
       "model_id": "c643c88cbb3f424986f8d659b3f4b7c1",
       "version_major": 2,
       "version_minor": 0
      },
      "text/plain": [
       "HBox(children=(IntProgress(value=0, max=1), HTML(value='')))"
      ]
     },
     "metadata": {},
     "output_type": "display_data"
    },
    {
     "data": {
      "application/vnd.jupyter.widget-view+json": {
       "model_id": "60b7927a3aba4b12a44be649601af28f",
       "version_major": 2,
       "version_minor": 0
      },
      "text/plain": [
       "HBox(children=(IntProgress(value=0, max=900), HTML(value='')))"
      ]
     },
     "metadata": {},
     "output_type": "display_data"
    },
    {
     "data": {
      "application/vnd.jupyter.widget-view+json": {
       "model_id": "d656cc10ad474fc39a67d36f308f2f77",
       "version_major": 2,
       "version_minor": 0
      },
      "text/plain": [
       "HBox(children=(IntProgress(value=0, max=1), HTML(value='')))"
      ]
     },
     "metadata": {},
     "output_type": "display_data"
    },
    {
     "data": {
      "application/vnd.jupyter.widget-view+json": {
       "model_id": "723c9125d283458aac9efa3d3a0feb1b",
       "version_major": 2,
       "version_minor": 0
      },
      "text/plain": [
       "HBox(children=(IntProgress(value=0, max=900), HTML(value='')))"
      ]
     },
     "metadata": {},
     "output_type": "display_data"
    },
    {
     "data": {
      "application/vnd.jupyter.widget-view+json": {
       "model_id": "88cfdce4975b486e8d0206522b37a894",
       "version_major": 2,
       "version_minor": 0
      },
      "text/plain": [
       "HBox(children=(IntProgress(value=0, max=1), HTML(value='')))"
      ]
     },
     "metadata": {},
     "output_type": "display_data"
    }
   ],
   "source": [
    "#Run this 10 times\n",
    "resultRand=[]\n",
    "resultGrid=[]\n",
    "for i in tqdm(range(10)):\n",
    "    resultRand.append(para_run(get_MC,initRand,nCPU=10))\n",
    "    resultGrid.append(para_run(get_MC,initGrid,nCPU=10))"
   ]
  },
  {
   "cell_type": "code",
   "execution_count": 103,
   "metadata": {},
   "outputs": [],
   "source": [
    "temp=np.vstack(resultRand)\n",
    "# resultRandtemp=np.mean(temp,axis=0)\n",
    "resultRand2=np.mean(temp.T,axis=1)"
   ]
  },
  {
   "cell_type": "code",
   "execution_count": 119,
   "metadata": {},
   "outputs": [],
   "source": [
    "resultRand2=resultRand2.reshape(300,3)"
   ]
  },
  {
   "cell_type": "code",
   "execution_count": 111,
   "metadata": {},
   "outputs": [],
   "source": [
    "resultGrid2=np.mean(resultGrid)"
   ]
  },
  {
   "cell_type": "code",
   "execution_count": 120,
   "metadata": {},
   "outputs": [],
   "source": [
    "name= r'/import/silo2/aloe8475/Documents/CODE/Data/Functional Connectivity/resultsRand_MemoryCapacity_10Sims'\n",
    "compressed_pickle([resultRand2,resultGrid2],name)"
   ]
  },
  {
   "cell_type": "markdown",
   "metadata": {},
   "source": [
    "## Barabasi-Albert Scale Free Networks"
   ]
  },
  {
   "cell_type": "code",
   "execution_count": 8,
   "metadata": {},
   "outputs": [
    {
     "name": "stdout",
     "output_type": "stream",
     "text": [
      "Loading BA\n",
      "Loaded\n"
     ]
    }
   ],
   "source": [
    "# name='WS_networks_LinearTransformation.pkl'\n",
    "name='BA_Allnetworks_LinearTransformation.pkl'\n",
    "print('Loading BA')\n",
    "file = open(name, 'rb')\n",
    "[BA_scaleFree] = pickle.load(file)\n",
    "print('Loaded')"
   ]
  },
  {
   "cell_type": "code",
   "execution_count": 12,
   "metadata": {},
   "outputs": [],
   "source": [
    "# onAmp_BA=[]\n",
    "# for i in range(len(BA_scaleFree)):\n",
    "#     onAmp_BA.append(BA_scaleFree[i]['sp_amp'])\n",
    "        "
   ]
  },
  {
   "cell_type": "code",
   "execution_count": 13,
   "metadata": {},
   "outputs": [],
   "source": [
    "# initBA=[]\n",
    "# nwType='BA'\n",
    "# count=0\n",
    "# for i in tqdm(range(len(BA_scaleFree))):\n",
    "#     amp=2#onAmp_BA[count]\n",
    "#     connectivity=connectivity__(graph=BA_scaleFree[i]['G'])\n",
    "#     initBA.append(inputPacker(get_MC_otherNetworks,connectivity,i,nwType,amp))\n",
    "#     count=count+1\n"
   ]
  },
  {
   "cell_type": "code",
   "execution_count": 14,
   "metadata": {},
   "outputs": [],
   "source": [
    "# #Run this 10 times\n",
    "# resultBA=[]\n",
    "# for i in tqdm(range(10)):\n",
    "#     resultBA.append(para_run(get_MC_otherNetworks,initBA,nCPU=10,start_method='fork'))"
   ]
  },
  {
   "cell_type": "code",
   "execution_count": 22,
   "metadata": {},
   "outputs": [],
   "source": [
    "# name= r'/import/silo2/aloe8475/Documents/CODE/Data/Functional Connectivity/resultsBA_MemoryCapacity_10Sims'\n",
    "# resultBA2=decompress_pickle(name)[0]"
   ]
  },
  {
   "cell_type": "code",
   "execution_count": 23,
   "metadata": {},
   "outputs": [],
   "source": [
    "# temp=np.vstack(resultBA)\n",
    "# resultBA2=np.mean(temp.T,axis=1)"
   ]
  },
  {
   "cell_type": "code",
   "execution_count": 24,
   "metadata": {},
   "outputs": [],
   "source": [
    "# for i in range(len(BA_scaleFree)):\n",
    "#     BA_scaleFree[i]['Accuracy']['Memory Capacity']=resultBA2[i]"
   ]
  },
  {
   "cell_type": "code",
   "execution_count": 18,
   "metadata": {},
   "outputs": [],
   "source": [
    "# name= r'/import/silo2/aloe8475/Documents/CODE/Data/Functional Connectivity/resultsBA_MemoryCapacity_10Sims'\n",
    "# compressed_pickle([resultBA2],name)"
   ]
  },
  {
   "cell_type": "code",
   "execution_count": 31,
   "metadata": {},
   "outputs": [],
   "source": [
    "# def BA_Run(graph,onAmp,nodesList,i,nwType):\n",
    "#     stimulus=[[],[]]\n",
    "#     dt = 1e-2\n",
    "#     f=0.5\n",
    "#     Time=5\n",
    "#     stimulus[0]=(stimulus__(biasType='AC',onAmp=onAmp,TimeVector=np.arange(0,Time,dt),f=f))\n",
    "#     stimulus[1]=(stimulus__(biasType='Drain',TimeVector=np.arange(0,Time,dt))) #we don't want this drain to be active during training\n",
    "\n",
    "#     stimulus2 = [item for item in stimulus] #go through each list in the list and find the ith item\n",
    "\n",
    "#     simRAND=(runSim(connectivity__(graph=graph),stimulus=stimulus2, contactMode='farthest', T = Time, dt = dt, onAmp = onAmp, biasType='AC',f=f,junctionMode='tunneling'))\n",
    "#     results={'JunctionConductance':simRAND.junctionConductance[-1],'JunctionVoltage':simRAND.junctionVoltage[-1],'Switch':simRAND.junctionSwitch[-1],'Source':simRAND.sources[0],'conductance':simRAND.conductance,'Drain':simRAND.drains[0],'Signal':simRAND.stimulus}\n",
    "#     compressed_pickle(results,'../../../Data/Functional Connectivity/'+str(nwType)+' Results/'+str(nwType)+'_NLT_Simulation_'+str(onAmp)+'v_'+str(i+1)+'.pkl')\n",
    "    \n",
    "#     nwSqu=[None]*len(nodesList[i])\n",
    "#     countk=0\n",
    "#     for k in nodesList[i]: #loop through sets of nodes for regression     \n",
    "#         print('Running BA Network Regression: ' + str(k) + ' nodes')\n",
    "#         ResultSqu=[]\n",
    "#         ResultSqu = nonLinearTrans(simRAND,'Square',k, repeats=50) #simulation, type of signal, number of nodes to sample from, number of linear regression repetitions (take avg)\n",
    "#         nwSqu[countk]=(ResultSqu['accuracy'])\n",
    "#         countk=countk+1\n",
    "    \n",
    "#     accNetwork=nwSqu\n",
    "#     return accNetwork"
   ]
  },
  {
   "cell_type": "code",
   "execution_count": 32,
   "metadata": {},
   "outputs": [
    {
     "data": {
      "application/vnd.jupyter.widget-view+json": {
       "model_id": "94d1194126784235b08737b4cc14815e",
       "version_major": 2,
       "version_minor": 0
      },
      "text/plain": [
       "HBox(children=(FloatProgress(value=0.0, max=300.0), HTML(value='')))"
      ]
     },
     "metadata": {},
     "output_type": "display_data"
    },
    {
     "name": "stdout",
     "output_type": "stream",
     "text": [
      "\n"
     ]
    }
   ],
   "source": [
    "# nodesList=[None]*len(BA_scaleFree)\n",
    "# for i in tqdm(range(len(BA_scaleFree))):\n",
    "#     if len(BA_scaleFree[i]['G']) >= 250:\n",
    "#         nodesList[i]=[50,100,150,200,250,len(BA_scaleFree[i]['G'])]#range(50, len(ws300[i][0])+1,50)\n",
    "#     elif len(BA_scaleFree[i]['G']) >= 200 and len(BA_scaleFree[i]['G']) < 250:\n",
    "#         nodesList[i]=[50,100,150,200,len(BA_scaleFree[i]['G'])]#range(50, len(ws300[i][0])+1,50)  \n",
    "#     elif len(BA_scaleFree[i]['G']) >= 150 and len(BA_scaleFree[i]['G']) < 200:\n",
    "#         nodesList[i]=[50,100,150,len(BA_scaleFree[i]['G'])]#range(50, len(ws300[i][0])+1,50)  \n",
    "#     elif len(BA_scaleFree[i]['G']) >= 100 and len(BA_scaleFree[i]['G']) < 150:\n",
    "#         nodesList[i]=[50,100,len(BA_scaleFree[i]['G'])]#range(50, len(ws300[i][0])+1,50)"
   ]
  },
  {
   "cell_type": "code",
   "execution_count": 33,
   "metadata": {},
   "outputs": [],
   "source": [
    "# # results_grid=[]\n",
    "# # results_rand=[]\n",
    "# nwType='BA'\n",
    "# init=[]\n",
    "# for i in range(len(BA_scaleFree)):\n",
    "#     init.append(inputPacker(BA_Run,BA_scaleFree[i]['G'],2,nodesList,i,nwType))"
   ]
  },
  {
   "cell_type": "code",
   "execution_count": 47,
   "metadata": {},
   "outputs": [],
   "source": [
    "# #### parallel run simulations\n",
    "# result=para_run(BA_Run,init,nCPU=10,start_method='fork')"
   ]
  },
  {
   "cell_type": "code",
   "execution_count": 39,
   "metadata": {},
   "outputs": [],
   "source": [
    "# nltacc=[]\n",
    "# for i in range(len(result)):\n",
    "#     nltacc.append(np.max(result[i]))"
   ]
  },
  {
   "cell_type": "code",
   "execution_count": 45,
   "metadata": {},
   "outputs": [],
   "source": [
    "# for i in range(len(BA_scaleFree)):\n",
    "#     BA_scaleFree[i]['Accuracy']['Nonlinear Transformation']=result[i]\n",
    "#     BA_scaleFree[i]['Accuracy']['Linear Transformation']=[]"
   ]
  },
  {
   "cell_type": "code",
   "execution_count": 48,
   "metadata": {},
   "outputs": [
    {
     "data": {
      "text/plain": [
       "'/import/silo2/aloe8475/Documents/CODE/Analysis/Functional Connectivity/Functional Tasks'"
      ]
     },
     "execution_count": 48,
     "metadata": {},
     "output_type": "execute_result"
    }
   ],
   "source": [
    "pwd"
   ]
  },
  {
   "cell_type": "code",
   "execution_count": 49,
   "metadata": {},
   "outputs": [],
   "source": [
    "name=r'/import/silo2/aloe8475/Documents/CODE/Data/Functional Connectivity/BAnetworks_2VNonlinearTransformation+2VMC.pkl'\n",
    "with open(name, 'wb') as f:\n",
    "    pickle.dump([BA_scaleFree], f)"
   ]
  },
  {
   "cell_type": "markdown",
   "metadata": {},
   "source": [
    "## C. Elegans"
   ]
  },
  {
   "cell_type": "code",
   "execution_count": 17,
   "metadata": {},
   "outputs": [
    {
     "name": "stdout",
     "output_type": "stream",
     "text": [
      "Loading Elegans Networks\n",
      "Loaded\n"
     ]
    }
   ],
   "source": [
    "name='elegans_LinearTransformation.pkl'\n",
    "print('Loading Elegans Networks')\n",
    "file = open(name, 'rb')\n",
    "#     [ASN300,cluster1,cluster2,cluster3,time_index,nodesList] = pickle.load(file)\n",
    "#     [ASN300,cluster1,cluster2,cluster3] = pickle.load(file)\n",
    "[Elegans] = pickle.load(file)\n",
    "\n",
    "print('Loaded')"
   ]
  },
  {
   "cell_type": "code",
   "execution_count": 130,
   "metadata": {},
   "outputs": [],
   "source": [
    "# #On Amp as a function of shortestPath\n",
    "# onAmp=[]\n",
    "# shortestPathElegans=[]\n",
    "# temp=getFarthestPairing(Elegans['adj_matrix'])\n",
    "# shortestPathElegans=nx.shortest_path_length(Elegans['G'],temp[0],temp[1])\n",
    "# onAmpElegans=shortestPathElegans/5"
   ]
  },
  {
   "cell_type": "code",
   "execution_count": 18,
   "metadata": {},
   "outputs": [],
   "source": [
    "amp=2#onAmpElegans\n",
    "connectivity=connectivity__(graph=Elegans['G'])"
   ]
  },
  {
   "cell_type": "code",
   "execution_count": 19,
   "metadata": {},
   "outputs": [
    {
     "data": {
      "application/vnd.jupyter.widget-view+json": {
       "model_id": "7569ee85e13e438c863dec093a569744",
       "version_major": 2,
       "version_minor": 0
      },
      "text/plain": [
       "HBox(children=(IntProgress(value=0, max=10), HTML(value='')))"
      ]
     },
     "metadata": {},
     "output_type": "display_data"
    },
    {
     "name": "stdout",
     "output_type": "stream",
     "text": [
      "Saving Simulations for Parameter 1\n",
      "Saving Simulations for Parameter 2\n",
      "Saving Simulations for Parameter 3\n",
      "Saving Simulations for Parameter 4\n",
      "Saving Simulations for Parameter 5\n",
      "Saving Simulations for Parameter 6\n",
      "Saving Simulations for Parameter 7\n",
      "Saving Simulations for Parameter 8\n",
      "Saving Simulations for Parameter 9\n",
      "Saving Simulations for Parameter 10\n"
     ]
    }
   ],
   "source": [
    "#Run this 10 times\n",
    "nwType='Elegans'\n",
    "resultElegans=[]\n",
    "for i in tqdm(range(10)):\n",
    "    resultElegans.append(get_MC_otherNetworks(connectivity,i,nwType,amp))"
   ]
  },
  {
   "cell_type": "code",
   "execution_count": 20,
   "metadata": {},
   "outputs": [],
   "source": [
    "temp=np.vstack(resultElegans)\n",
    "resultElegans2=np.mean(temp.T,axis=1)"
   ]
  },
  {
   "cell_type": "code",
   "execution_count": 21,
   "metadata": {},
   "outputs": [],
   "source": [
    "name= r'/import/silo2/aloe8475/Documents/CODE/Data/Functional Connectivity/resultsElegans_MemoryCapacity_10Sims'\n",
    "compressed_pickle([resultElegans2],name)"
   ]
  },
  {
   "cell_type": "markdown",
   "metadata": {},
   "source": [
    "## Bipartite"
   ]
  },
  {
   "cell_type": "code",
   "execution_count": 22,
   "metadata": {},
   "outputs": [
    {
     "name": "stdout",
     "output_type": "stream",
     "text": [
      "Loading BP Networks\n",
      "Loaded\n"
     ]
    }
   ],
   "source": [
    "name='Barpartite_Allnetworks_LinearTransformation.pkl'\n",
    "print('Loading BP Networks')\n",
    "file = open(name, 'rb')\n",
    "#     [ASN300,cluster1,cluster2,cluster3,time_index,nodesList] = pickle.load(file)\n",
    "#     [ASN300,cluster1,cluster2,cluster3] = pickle.load(file)\n",
    "[crossbar] = pickle.load(file)\n",
    "\n",
    "print('Loaded')\n"
   ]
  },
  {
   "cell_type": "code",
   "execution_count": 7,
   "metadata": {},
   "outputs": [],
   "source": [
    "# temp=[]\n",
    "# shortestPath_crossbar=[]\n",
    "# onAmp_crossbar=[]\n",
    "\n",
    "# temp=[np.array([0,299])]#.append(getFarthestPairing(nx.adj_matrix(crossbar_graph).todense()))\n",
    "# shortestPath_crossbar=(nx.shortest_path_length(crossbar['G'],temp[0][0],temp[0][1]))\n",
    "# onAmp_crossbar=(shortestPath_crossbar/5)"
   ]
  },
  {
   "cell_type": "code",
   "execution_count": 23,
   "metadata": {},
   "outputs": [],
   "source": [
    "amp=2#onAmp_crossbar\n",
    "connectivity=connectivity__(graph=crossbar['G'])"
   ]
  },
  {
   "cell_type": "code",
   "execution_count": 25,
   "metadata": {},
   "outputs": [
    {
     "data": {
      "application/vnd.jupyter.widget-view+json": {
       "model_id": "3c5a44cf350d43b78ab02eaa10d90aa4",
       "version_major": 2,
       "version_minor": 0
      },
      "text/plain": [
       "HBox(children=(IntProgress(value=0, max=10), HTML(value='')))"
      ]
     },
     "metadata": {},
     "output_type": "display_data"
    },
    {
     "name": "stdout",
     "output_type": "stream",
     "text": [
      "Saving Simulations for Parameter 1\n",
      "Saving Simulations for Parameter 2\n",
      "Saving Simulations for Parameter 3\n",
      "Saving Simulations for Parameter 4\n",
      "Saving Simulations for Parameter 5\n",
      "Saving Simulations for Parameter 6\n",
      "Saving Simulations for Parameter 7\n",
      "Saving Simulations for Parameter 8\n",
      "Saving Simulations for Parameter 9\n",
      "Saving Simulations for Parameter 10\n"
     ]
    }
   ],
   "source": [
    "#Run this 10 times\n",
    "nwType='Barpartite'\n",
    "resultCrossbar=[]\n",
    "for i in tqdm(range(10)):\n",
    "    resultCrossbar.append(get_MC_otherNetworks(connectivity,i,nwType,amp))"
   ]
  },
  {
   "cell_type": "code",
   "execution_count": 26,
   "metadata": {},
   "outputs": [],
   "source": [
    "temp=np.vstack(resultCrossbar)\n",
    "resultCrossbar2=np.mean(temp.T,axis=1)"
   ]
  },
  {
   "cell_type": "code",
   "execution_count": 27,
   "metadata": {},
   "outputs": [],
   "source": [
    "name= r'/import/silo2/aloe8475/Documents/CODE/Data/Functional Connectivity/resultsBarpartite_MemoryCapacity_10Sims'\n",
    "compressed_pickle([resultCrossbar2],name)"
   ]
  },
  {
   "cell_type": "code",
   "execution_count": 28,
   "metadata": {},
   "outputs": [
    {
     "data": {
      "text/plain": [
       "array([0.25259359])"
      ]
     },
     "execution_count": 28,
     "metadata": {},
     "output_type": "execute_result"
    }
   ],
   "source": [
    "resultCrossbar2"
   ]
  },
  {
   "cell_type": "code",
   "execution_count": 30,
   "metadata": {},
   "outputs": [
    {
     "data": {
      "text/plain": [
       "array([0.25259359])"
      ]
     },
     "execution_count": 30,
     "metadata": {},
     "output_type": "execute_result"
    }
   ],
   "source": [
    "resultCrossbar2"
   ]
  },
  {
   "cell_type": "code",
   "execution_count": null,
   "metadata": {},
   "outputs": [],
   "source": []
  }
 ],
 "metadata": {
  "kernelspec": {
   "display_name": "Python 3",
   "language": "python",
   "name": "python3"
  },
  "language_info": {
   "codemirror_mode": {
    "name": "ipython",
    "version": 3
   },
   "file_extension": ".py",
   "mimetype": "text/x-python",
   "name": "python",
   "nbconvert_exporter": "python",
   "pygments_lexer": "ipython3",
   "version": "3.7.3"
  }
 },
 "nbformat": 4,
 "nbformat_minor": 2
}
