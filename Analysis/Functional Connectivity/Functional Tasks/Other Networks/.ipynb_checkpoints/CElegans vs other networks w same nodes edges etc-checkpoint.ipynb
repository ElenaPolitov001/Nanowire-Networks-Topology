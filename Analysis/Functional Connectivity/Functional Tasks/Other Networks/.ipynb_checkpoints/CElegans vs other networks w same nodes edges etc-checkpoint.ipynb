{
 "cells": [
  {
   "cell_type": "code",
   "execution_count": null,
   "metadata": {},
   "outputs": [],
   "source": [
    "import sys\n",
    "sys.path.append('/import/silo2/aloe8475/Documents/edamame')"
   ]
  },
  {
   "cell_type": "code",
   "execution_count": null,
   "metadata": {},
   "outputs": [],
   "source": [
    "from scipy.io import loadmat, savemat\n",
    "from scipy.stats import kurtosis, skew\n",
    "from scipy.spatial import distance\n",
    "import numpy as np\n",
    "import matplotlib.pyplot as plt\n",
    "from matplotlib import colors\n",
    "import datetime\n",
    "import networkx as nx\n",
    "from edamame import *\n",
    "from tqdm.notebook import tqdm\n",
    "import os\n",
    "import edamame.core.wires as wires\n",
    "from random import choice\n",
    "from IPython.core.debugger import set_trace\n",
    "# import nct\n",
    "import bct\n",
    "import pandas as pd\n",
    "\n",
    "import pickle \n",
    "import _pickle as cPickle\n",
    "import bz2\n",
    "\n",
    "def compressed_pickle(obj, filename,protocol=-1):\n",
    "    with gzip.open(filename, 'wb') as f:\n",
    "        cPickle.dump(obj, f, protocol)\n",
    "def decompress_pickle(file):\n",
    "    with gzip.open(file, 'rb') as f:\n",
    "        loaded_object = cPickle.load(f,encoding=\"bytes\") #change this for python 2\n",
    "        return loaded_object\n"
   ]
  },
  {
   "cell_type": "code",
   "execution_count": null,
   "metadata": {},
   "outputs": [],
   "source": [
    "def connected_component_subgraphs(G):\n",
    "    for c in nx.connected_components(G):\n",
    "        yield G.subgraph(c)"
   ]
  },
  {
   "cell_type": "code",
   "execution_count": null,
   "metadata": {},
   "outputs": [],
   "source": [
    "#Define Save Location\n",
    "saveLoc='/import/silo2/aloe8475/Documents/CODE/Data/Functional Connectivity/Network Comparison/'\n",
    "saveFig='/import/silo2/aloe8475/Documents/CODE/Data/Figures/Functional Connectivity/'\n",
    "saveResults='/import/silo2/aloe8475/Documents/CODE/Data/Functional Connectivity/'"
   ]
  },
  {
   "cell_type": "markdown",
   "metadata": {},
   "source": [
    "### Elegans:"
   ]
  },
  {
   "cell_type": "code",
   "execution_count": null,
   "metadata": {},
   "outputs": [],
   "source": [
    "#LOAD:\n",
    "name=r'/import/silo2/aloe8475/Documents/CODE/Analysis/Functional Connectivity/Functional Tasks/barpartite_LinearTransformation_2V.pkl'\n",
    "print('Loading Crossbar')\n",
    "file = open(name, 'rb')\n",
    "[crossbar] = pickle.load(file)\n",
    "name=r'/import/silo2/aloe8475/Documents/CODE/Analysis/Functional Connectivity/Functional Tasks/elegans_LinearTransformation_2V.pkl'\n",
    "print('Loading Elegans Networks')\n",
    "file = open(name, 'rb')\n",
    "[Elegans] = pickle.load(file)"
   ]
  },
  {
   "cell_type": "markdown",
   "metadata": {},
   "source": [
    "#### Run Tasks:"
   ]
  },
  {
   "cell_type": "code",
   "execution_count": null,
   "metadata": {},
   "outputs": [],
   "source": [
    "onAmp=[0.2,0.5,0.75,1,1.25,1.5,1.75,2,3,5,10]#np.linspace(0,10,201)"
   ]
  },
  {
   "cell_type": "code",
   "execution_count": null,
   "metadata": {},
   "outputs": [],
   "source": [
    "def nonLinearTrans_specificNodes(network, targetType, nodesList, repeats = 1,time=10,dt=1e-3):\n",
    "    \"\"\"\n",
    "    targetType can be DoubleFrequency and all other possible biasType.\n",
    "    wireVoltage[T,N] can also be the first positional parameter.\n",
    "    \"\"\"\n",
    "    from edamame.core.simSettings import stimulus__\n",
    "\n",
    "    if targetType == 'DoubleFrequency':\n",
    "        target = stimulus__(network.stimulus[0].biasType, network.TimeVector, f = 2*network.stimulus[0].f).signal\n",
    "    else:\n",
    "        target = stimulus__(targetType, dt=dt,T=time, f = network.stimulus[0].f).signal\n",
    "        \n",
    "    wireVoltage = network.wireVoltage    \n",
    "    T, N = wireVoltage.shape\n",
    "    output = dict()\n",
    "    accuracy = np.zeros(repeats)\n",
    "    weight = np.zeros((repeats, len(nodesList)+1))\n",
    "    result = np.zeros((repeats, T))\n",
    "    for i in range(repeats):\n",
    "        lhs = np.hstack((np.ones((T, 1)), wireVoltage[:,nodesList]))\n",
    "        weight[i,:] = np.linalg.lstsq(lhs, target, rcond = None)[0]\n",
    "#         set_trace()\n",
    "        result[i,:] = np.dot(lhs, weight[i,:])\n",
    "        accuracy[i] = 1-getRNMSE(result[i,:], target)\n",
    "        \n",
    "    output['weight'] = np.mean(weight, axis = 0)\n",
    "    output['result'] = np.mean(result, axis = 0)\n",
    "    output['accuracy'] = np.mean(accuracy)\n",
    "    output['target'] = target\n",
    "    \n",
    "    return output "
   ]
  },
  {
   "cell_type": "code",
   "execution_count": null,
   "metadata": {},
   "outputs": [],
   "source": [
    "def getNLT_Elegans(Graph=[],amp=2,nwType=[]):\n",
    "    stimulus=[[],[]]\n",
    "    dt = 1e-3\n",
    "    f=0.5\n",
    "    Time=10\n",
    "    \n",
    "    ampName=str(amp).replace('.','p')\n",
    "    dataLoc='/import/silo2/aloe8475/Documents/CODE/Data/Functional Connectivity/'+nwType+' Results/'\n",
    "\n",
    "    stimulus[0].append((stimulus__(biasType='AC',onAmp=amp,T=Time,dt=dt,f=f)))\n",
    "    stimulus[1].append((stimulus__(biasType='Drain',T=Time,dt=dt))) #we don't want this drain to be active during training\n",
    "\n",
    "    stimulus2 = [item[0] for item in stimulus] #go through each list in the list and find the ith item\n",
    "    results_minMax=runSim(connectivity__(graph=Graph),stimulus=stimulus2, contactMode='farthest', T = Time, dt = dt, onAmp = amp, biasType='AC',f=f,junctionMode='tunneling',findFirst=False)\n",
    "    results={'JunctionConductance':results_minMax.junctionConductance,'JunctionVoltage':results_minMax.junctionVoltage,'Switch':results_minMax.junctionSwitch,'Source':results_minMax.sources[0:2],'Drain':results_minMax.drains[0:2],'Signal':results_minMax.stimulus,'conductance':results_minMax.conductance}\n",
    "    set_trace()\n",
    "    compressed_pickle(results,dataLoc+'_NLT_Simulation_10sec'+'_Rewired'+nwType+'Networks_'+ampName+'v.pkl')\n",
    "    \n",
    "    nodesList= np.array([i for i in Graph.nodes])#only want all nodes\n",
    "\n",
    "    nwSqu =[None]*len(nodesList)\n",
    "    ResultSqu = nonLinearTrans_specificNodes(results_minMax,'Square',nodesList, repeats=50) #simulation, type of signal, number of nodes to sample from, number of linear regression repetitions (take avg)\n",
    "    nwSqu=ResultSqu['accuracy']\n",
    "\n",
    "    return nwSqu"
   ]
  },
  {
   "cell_type": "code",
   "execution_count": null,
   "metadata": {},
   "outputs": [],
   "source": [
    "def get_MC_Voltsweep_Elegans(Graph=[],amp = 2,nwType=[], dt = 0.01, dur = 1, n_outs = 100, init_state = None, return_sim = False):\n",
    "    ampName=str(amp).replace('.','p')\n",
    "    dataLoc='/import/silo2/aloe8475/Documents/CODE/Data/Functional Connectivity/'+nwType+' Results/'\n",
    "\n",
    "\n",
    "    signal = signal_expand(np.random.random(1000)*2*amp-amp, dur)\n",
    "    results_minMax = runSim(connectivity__(graph=Graph), T = 10, dt = dt,\n",
    "                start_state =  init_state,\n",
    "                biasType = 'Custom', customSignal = signal, \n",
    "                junctionMode = 'tunneling', \n",
    "                contactMode = 'farthest',\n",
    "                findFirst=False, disable_tqdm=True)\n",
    "    \n",
    "    results={'JunctionConductance':results_minMax.junctionConductance[-1],'JunctionVoltage':results_minMax.junctionVoltage[-1],'Switch':results_minMax.junctionSwitch[-1],'Source':results_minMax.sources[0:2],'Drain':results_minMax.drains[0:2],'Signal':results_minMax.stimulus,'conductance':results_minMax.conductance}\n",
    "    compressed_pickle(results,dataLoc+'_MC_Simulation_'+'_'+nwType+'Networks_'+ampName+'v.pkl')\n",
    "    \n",
    "    n_outs=len(Graph)\n",
    "    mcRAND = [MC_k(results_minMax, k, n_outs = n_outs) for k in range(dur, len(Graph)*dur, dur)]\n",
    "    \n",
    "    if return_sim:\n",
    "        return np.sum(mcRAND), results_minMax\n",
    "    else:\n",
    "        return np.sum(mcRAND)"
   ]
  },
  {
   "cell_type": "code",
   "execution_count": null,
   "metadata": {
    "scrolled": true
   },
   "outputs": [],
   "source": [
    "resultElegans=[]\n",
    "for amp in tqdm(onAmp):\n",
    "    resultElegans.append(getNLT_Elegans(Graph=Elegans['G'],amp=amp,nwType='Elegans'))"
   ]
  },
  {
   "cell_type": "code",
   "execution_count": null,
   "metadata": {
    "scrolled": true
   },
   "outputs": [],
   "source": [
    "resultMC_Elegans=[]\n",
    "for i in range(10):\n",
    "    temp=[]\n",
    "    \n",
    "    for amp in tqdm(onAmp):\n",
    "        temp.append(get_MC_Voltsweep_Elegans(Graph=Elegans['G'],amp=amp,nwType='Elegans'))\n",
    "    resultMC_Elegans.append(temp)\n"
   ]
  },
  {
   "cell_type": "markdown",
   "metadata": {},
   "source": [
    "#### Analyse Results:"
   ]
  },
  {
   "cell_type": "code",
   "execution_count": null,
   "metadata": {},
   "outputs": [],
   "source": [
    "dfElegans=pd.DataFrame(np.mean(resultElegans,axis=1))\n",
    "# dfElegansMC=pd.DataFrame(np.mean(resultMC_Elegans,axis=0))"
   ]
  },
  {
   "cell_type": "code",
   "execution_count": null,
   "metadata": {},
   "outputs": [],
   "source": [
    "plt.rcParams['pdf.fonttype'] = 42\n",
    "\n",
    "fig,axes=plt.subplots(1,1,figsize=(10,8))\n",
    "ax=axes\n",
    "ax.set_title('C Elegans Network ')\n",
    "a=ax.imshow(dfElegans,cmap=plt.cm.inferno,aspect='0.5',vmin=0.55,vmax=0.85)\n",
    "plt.colorbar(a,ax=ax,label='NLTavg')\n",
    "ax.set_ylabel('Voltage')\n",
    "ax.set_yticks(np.arange(0,len(onAmp)))\n",
    "ax.set_yticklabels(onAmp)\n",
    "\n",
    "for (j,i),label in np.ndenumerate(dfElegans):\n",
    "    ax.text(i,j,np.around(label,2),ha='center',va='center',color='k')\n",
    "    \n",
    "plt.savefig(saveFig+'cElegans_VSweep_AvgNLT_10sec_text.pdf',format='pdf',dpi=300)"
   ]
  },
  {
   "cell_type": "code",
   "execution_count": null,
   "metadata": {},
   "outputs": [],
   "source": [
    "plt.rcParams['pdf.fonttype'] = 42\n",
    "\n",
    "fig,axes=plt.subplots(1,1,figsize=(10,8))\n",
    "ax=axes\n",
    "ax.set_title('C Elegans Network ')\n",
    "a=ax.imshow(dfElegansMC,cmap=plt.cm.inferno,aspect='0.5',vmin=0,vmax=120)\n",
    "plt.colorbar(a,ax=ax,label='MCavg')\n",
    "ax.set_ylabel('Voltage')\n",
    "ax.set_yticks(np.arange(0,len(onAmp)))\n",
    "ax.set_yticklabels(onAmp)\n",
    "\n",
    "for (j,i),label in np.ndenumerate(dfElegansMC):\n",
    "    ax.text(i,j,np.around(label,2),ha='center',va='center',color='white')\n",
    "    \n",
    "plt.savefig(saveFig+'cElegans_VSweep_AvgMC_text.pdf',format='pdf',dpi=300)"
   ]
  },
  {
   "cell_type": "markdown",
   "metadata": {},
   "source": [
    "## Create/Load Other Networks similar to C Elegans:"
   ]
  },
  {
   "cell_type": "code",
   "execution_count": null,
   "metadata": {},
   "outputs": [],
   "source": [
    "elegansAvgDeg=np.mean(np.array([value for (node,value) in Elegans['G'].degree()])) #Avg Degree of C Elegans\n",
    "elegansEdges=Elegans['G'].number_of_edges()\n",
    "elegansNodes=Elegans['G'].number_of_nodes()\n",
    "elegansGraph=Elegans['G']"
   ]
  },
  {
   "cell_type": "markdown",
   "metadata": {},
   "source": [
    "### NWN"
   ]
  },
  {
   "cell_type": "code",
   "execution_count": null,
   "metadata": {},
   "outputs": [],
   "source": [
    "name='/import/silo2/aloe8475/Documents/CODE/Analysis/Functional Connectivity/Functional Tasks/VaryingDensity300NWset2_NWN.pkl'\n",
    "file = open(name, 'rb')\n",
    "[NWN] = pickle.load(file)\n",
    "Modular=False\n",
    "# name='/import/silo2/aloe8475/Documents/CODE/Data/Functional Connectivity/300nw_2_modules_10sets_NWN.pkl'\n",
    "# NWN=decompress_pickle(name)\n",
    "# Modular=True"
   ]
  },
  {
   "cell_type": "code",
   "execution_count": null,
   "metadata": {},
   "outputs": [],
   "source": [
    "networks=[]\n",
    "import glob\n",
    "import os\n",
    "path='/import/silo2/aloe8475/Documents/CODE/Analysis/Generate Networks/connectivity_data/'\n",
    "networks=[]\n",
    "files=glob.glob(path+'./*.mat')\n",
    "files.sort(key=os.path.basename) #sort by creation time (name works weirdly)\n",
    "for i in files:\n",
    "    networks.append(loadmat(i))"
   ]
  },
  {
   "cell_type": "code",
   "execution_count": null,
   "metadata": {},
   "outputs": [],
   "source": [
    "if Modular:\n",
    "    G=NWN[1][5]['G']"
   ]
  },
  {
   "cell_type": "code",
   "execution_count": null,
   "metadata": {},
   "outputs": [],
   "source": [
    "if not Modular:\n",
    "    networks2=[]\n",
    "    for i in range(len(NWN)):\n",
    "        for j in range(len(NWN[i])):\n",
    "            networks2.append(NWN[i][j])"
   ]
  },
  {
   "cell_type": "code",
   "execution_count": null,
   "metadata": {},
   "outputs": [],
   "source": [
    "if not Modular:\n",
    "    G2=[]\n",
    "    for i in tqdm(range(len(networks2))):\n",
    "        G2.append(nx.from_numpy_array(networks2[i]['adj_matrix']))\n",
    "    G1=[]\n",
    "    for i in range(len(networks)):\n",
    "        G1.append(nx.from_numpy_array(networks[i]['adj_matrix']))"
   ]
  },
  {
   "cell_type": "code",
   "execution_count": null,
   "metadata": {},
   "outputs": [],
   "source": [
    "G=[]\n",
    "G=G1\n",
    "G.append(G2[97])"
   ]
  },
  {
   "cell_type": "code",
   "execution_count": null,
   "metadata": {},
   "outputs": [],
   "source": [
    "if Modular:\n",
    "    nwnGraph=G#[97] #network with ~same avg degree as c elegans\n",
    "else:\n",
    "    nwnGraphs=G\n",
    "nwnAvgDeg=[];nwnEdges=[];nwnNodes=[];mod=[]\n",
    "for i in range(len(nwnGraphs)):\n",
    "    nwnAvgDeg.append(np.mean([val for (node,val) in nwnGraphs[i].degree()]))\n",
    "    nwnEdges.append(nwnGraphs[i].number_of_edges())\n",
    "    nwnNodes.append(nwnGraphs[i].number_of_nodes())\n",
    "    mod.append(bct.community_louvain(np.array(nx.adjacency_matrix(nwnGraphs[i]).todense()),gamma=1.1))"
   ]
  },
  {
   "cell_type": "code",
   "execution_count": null,
   "metadata": {},
   "outputs": [],
   "source": [
    "q=np.array(mod).T[1]"
   ]
  },
  {
   "cell_type": "code",
   "execution_count": null,
   "metadata": {},
   "outputs": [],
   "source": [
    "nwnGraph=(max(connected_component_subgraphs(nwnGraph), key=len))"
   ]
  },
  {
   "cell_type": "code",
   "execution_count": null,
   "metadata": {},
   "outputs": [],
   "source": [
    "pos=nx.kamada_kawai_layout(nwnGraphs[1])\n",
    "nx.draw(nwnGraphs[1],pos=pos)"
   ]
  },
  {
   "cell_type": "code",
   "execution_count": null,
   "metadata": {
    "scrolled": true
   },
   "outputs": [],
   "source": [
    "init=[]\n",
    "for amp in tqdm(onAmp):\n",
    "    for i in range(len(nwnGraphs)):\n",
    "        init.append(inputPacker(getNLT_Elegans,Graph=nwnGraphs[i],amp=amp,nwType='NWN'))"
   ]
  },
  {
   "cell_type": "code",
   "execution_count": null,
   "metadata": {
    "scrolled": true
   },
   "outputs": [],
   "source": [
    "resultNWN=para_run(getNLT_Elegans,init,nCPU=10,start_method='fork')"
   ]
  },
  {
   "cell_type": "code",
   "execution_count": null,
   "metadata": {},
   "outputs": [],
   "source": [
    "resultNWN=np.array(resultNWN).reshape(11,10)\n",
    "stdresultNWN=np.std(resultNWN,axis=1)/np.sqrt(10)\n",
    "avgresultNWN=np.mean(resultNWN,axis=1)"
   ]
  },
  {
   "cell_type": "code",
   "execution_count": null,
   "metadata": {},
   "outputs": [],
   "source": [
    "plt.plot(avgresultNWN)\n",
    "plt.fill_between(range(len(avgresultNWN)),avgresultNWN-stdresultNWN,avgresultNWN+stdresultNWN,alpha=0.4)"
   ]
  },
  {
   "cell_type": "code",
   "execution_count": null,
   "metadata": {},
   "outputs": [],
   "source": [
    "initMC=[]\n",
    "for amp in tqdm(onAmp):\n",
    "    for i in range(len(nwnGraphs)):\n",
    "        initMC.append(inputPacker(get_MC_Voltsweep_Elegans,Graph=nwnGraphs[i],amp=amp,nwType='NWN'))"
   ]
  },
  {
   "cell_type": "code",
   "execution_count": null,
   "metadata": {
    "scrolled": true
   },
   "outputs": [],
   "source": [
    "resultMC=[]\n",
    "for i in tqdm(range(10)):\n",
    "    resultMC.append(para_run(get_MC_Voltsweep_Elegans,initMC,nCPU=10,start_method='fork'))"
   ]
  },
  {
   "cell_type": "code",
   "execution_count": null,
   "metadata": {},
   "outputs": [],
   "source": [
    "resultMC2=np.mean(resultMC,axis=0)\n",
    "resultMC2std=np.std(resultMC,axis=0)/np.sqrt(10)"
   ]
  },
  {
   "cell_type": "code",
   "execution_count": null,
   "metadata": {},
   "outputs": [],
   "source": [
    "resultMC2=np.array(resultMC2).reshape(11,10)\n",
    "resultMC2std=np.array(resultMC2std).reshape(11,10)\n",
    "stdresultMCNWN=np.mean(resultMC2std,axis=1)\n",
    "avgresultMCNWN=np.mean(resultMC2,axis=1)"
   ]
  },
  {
   "cell_type": "code",
   "execution_count": null,
   "metadata": {},
   "outputs": [],
   "source": [
    "plt.plot(avgresultMCNWN)\n",
    "plt.fill_between(range(len(avgresultMCNWN)),avgresultMCNWN-stdresultMCNWN,avgresultMCNWN+stdresultMCNWN,alpha=0.4)"
   ]
  },
  {
   "cell_type": "code",
   "execution_count": null,
   "metadata": {},
   "outputs": [],
   "source": [
    "dfNWN=pd.DataFrame(resultNWN)\n",
    "# dfNWNMC=pd.DataFrame(resultMC2)"
   ]
  },
  {
   "cell_type": "code",
   "execution_count": null,
   "metadata": {},
   "outputs": [],
   "source": [
    "plt.rcParams['pdf.fonttype'] = 42\n",
    "\n",
    "fig,axes=plt.subplots(1,1,figsize=(10,8))\n",
    "ax=axes\n",
    "ax.set_title('NWN Network')\n",
    "a=ax.imshow(dfNWN,cmap=plt.cm.inferno,aspect='auto',vmin=0.55,vmax=0.85)\n",
    "plt.colorbar(a,ax=ax,label='NLTavg')\n",
    "ax.set_ylabel('Voltage')\n",
    "ax.set_yticks(np.arange(0,len(onAmp)))\n",
    "ax.set_yticklabels(onAmp)\n",
    "\n",
    "for (j,i),label in np.ndenumerate(dfNWN):\n",
    "    ax.text(i,j,np.around(label,2),ha='center',va='center',color='k')\n",
    "    \n",
    "plt.savefig(saveFig+'NWN_VSweep_AvgNLT_10sec_text.pdf',format='pdf',dpi=300)"
   ]
  },
  {
   "cell_type": "code",
   "execution_count": null,
   "metadata": {},
   "outputs": [],
   "source": [
    "plt.rcParams['pdf.fonttype'] = 42\n",
    "\n",
    "fig,axes=plt.subplots(1,1,figsize=(10,8))\n",
    "ax=axes\n",
    "ax.set_title('NWN Network')\n",
    "a=ax.imshow(dfNWNMC,cmap=plt.cm.inferno,aspect='auto',vmin=0,vmax=125)\n",
    "plt.colorbar(a,ax=ax,label='MCavg')\n",
    "ax.set_ylabel('Voltage')\n",
    "ax.set_yticks(np.arange(0,len(onAmp)))\n",
    "ax.set_yticklabels(onAmp)\n",
    "\n",
    "for (j,i),label in np.ndenumerate(dfNWNMC):\n",
    "    ax.text(i,j,np.around(label,2),ha='center',va='center',color='w')\n",
    "    \n",
    "plt.savefig(saveFig+'NWN_VSweep_AvgMC_10sec_text.pdf',format='pdf',dpi=300)"
   ]
  },
  {
   "cell_type": "code",
   "execution_count": null,
   "metadata": {},
   "outputs": [],
   "source": [
    "def connected_component_subgraphs(G):\n",
    "    for c in nx.connected_components(G):\n",
    "        yield G.subgraph(c)"
   ]
  },
  {
   "cell_type": "markdown",
   "metadata": {},
   "source": [
    "### Watts Strogatz"
   ]
  },
  {
   "cell_type": "code",
   "execution_count": null,
   "metadata": {},
   "outputs": [],
   "source": [
    "numNodes=nwnGraph.number_of_nodes()\n",
    "k=np.round(np.mean(np.array([i for i in nwnGraph.degree()])[:,1])) #rounded avg degree\n",
    "k=np.int(k)\n",
    "temp=(nx.watts_strogatz_graph(numNodes,k,p=0.17,seed=10))\n",
    "WS=(max(connected_component_subgraphs(temp), key=len))\n"
   ]
  },
  {
   "cell_type": "code",
   "execution_count": null,
   "metadata": {
    "scrolled": true
   },
   "outputs": [],
   "source": [
    "resultWS=[]\n",
    "for amp in tqdm(onAmp):\n",
    "    resultWS.append(getNLT_Elegans(Graph=WS,amp=amp,nwType='WS'))"
   ]
  },
  {
   "cell_type": "code",
   "execution_count": null,
   "metadata": {
    "scrolled": true
   },
   "outputs": [],
   "source": [
    "resultMC_WS=[]\n",
    "for i in range(10):\n",
    "    temp=[]\n",
    "    for amp in tqdm(onAmp):\n",
    "        temp.append(get_MC_Voltsweep_Elegans(Graph=WS,amp=amp,nwType='WS'))\n",
    "    resultMC_WS.append(temp)"
   ]
  },
  {
   "cell_type": "code",
   "execution_count": null,
   "metadata": {},
   "outputs": [],
   "source": [
    "dfWS=pd.DataFrame(np.mean(resultWS,axis=1))\n",
    "dfWSMC=pd.DataFrame(np.mean(resultMC_WS,axis=0))"
   ]
  },
  {
   "cell_type": "code",
   "execution_count": null,
   "metadata": {},
   "outputs": [],
   "source": [
    "plt.rcParams['pdf.fonttype'] = 42\n",
    "\n",
    "fig,axes=plt.subplots(1,1,figsize=(10,8))\n",
    "ax=axes\n",
    "ax.set_title('Watts Strogatz')\n",
    "a=ax.imshow(list(resultWS),cmap=plt.cm.inferno,aspect='0.5',vmin=0.55,vmax=0.85)\n",
    "plt.colorbar(a,ax=ax,label='NLTavg')\n",
    "ax.set_ylabel('Voltage')\n",
    "ax.set_yticks(np.arange(0,len(onAmp)))\n",
    "ax.set_yticklabels(onAmp)\n",
    "\n",
    "for (j,i),label in np.ndenumerate(resultWS):\n",
    "    ax.text(i,j,np.around(label,2),ha='center',va='center',color='white')\n",
    "    \n",
    "plt.savefig(saveFig+'WattsStrogatz_NEdgesSameAsElegans_VSweep_AvgNLT_text.pdf',format='pdf',dpi=300)"
   ]
  },
  {
   "cell_type": "code",
   "execution_count": null,
   "metadata": {},
   "outputs": [],
   "source": [
    "plt.rcParams['pdf.fonttype'] = 42\n",
    "\n",
    "fig,axes=plt.subplots(1,1,figsize=(10,8))\n",
    "ax=axes\n",
    "ax.set_title('Watts Strogatz')\n",
    "a=ax.imshow(dfWSMC,cmap=plt.cm.inferno,aspect='0.5',vmin=0,vmax=120)\n",
    "plt.colorbar(a,ax=ax,label='MCavg')\n",
    "ax.set_ylabel('Voltage')\n",
    "ax.set_yticks(np.arange(0,len(onAmp)))\n",
    "ax.set_yticklabels(onAmp)\n",
    "\n",
    "for (j,i),label in np.ndenumerate(dfWSMC):\n",
    "    ax.text(i,j,np.around(label,2),ha='center',va='center',color='white')\n",
    "    \n",
    "plt.savefig(saveFig+'WattsStrogatz_NEdgesSameAsElegans_VSweep_AvgMC_text.pdf',format='pdf',dpi=300)"
   ]
  },
  {
   "cell_type": "markdown",
   "metadata": {},
   "source": [
    "### Crossbar:"
   ]
  },
  {
   "cell_type": "code",
   "execution_count": null,
   "metadata": {},
   "outputs": [],
   "source": [
    "### If we want to Generate Crossbar:\n",
    "from networkx.algorithms import bipartite"
   ]
  },
  {
   "cell_type": "code",
   "execution_count": null,
   "metadata": {},
   "outputs": [],
   "source": [
    "# crossbar_graph=bipartite.generators.gnmk_random_graph(139,139,139**2,seed=10) #fully connected \n",
    "sparseCrossbar=[]\n",
    "for i in range(10):\n",
    "    sparseCrossbar.append(bipartite.generators.gnmk_random_graph(139,139,elegansEdges,seed=i)) #same edges as c elegans\n",
    "# top = nx.bipartite.sets(crossbar_graph)[0]\n",
    "# pos=nx.kamada_kawai_layout(crossbar_graph)"
   ]
  },
  {
   "cell_type": "code",
   "execution_count": null,
   "metadata": {},
   "outputs": [],
   "source": [
    "crossbarAvgDeg=np.mean(np.array([value for (node,value) in crossbar_graph.degree()]))\n",
    "crossbarEdges=crossbar_graph.number_of_edges()\n",
    "crossbarNodes=crossbar_graph.number_of_nodes()"
   ]
  },
  {
   "cell_type": "code",
   "execution_count": null,
   "metadata": {},
   "outputs": [],
   "source": [
    "crossbarEdges"
   ]
  },
  {
   "cell_type": "code",
   "execution_count": null,
   "metadata": {},
   "outputs": [],
   "source": [
    "nx.draw(crossbar_graph,pos=pos, node_color='r')\n",
    "nx.draw_networkx_nodes(crossbar_graph, nodelist=[102,169],pos=pos, node_color='g')"
   ]
  },
  {
   "cell_type": "code",
   "execution_count": null,
   "metadata": {
    "scrolled": true
   },
   "outputs": [],
   "source": [
    "resultCrossbar=[]\n",
    "for amp in tqdm(onAmp):\n",
    "    resultCrossbar.append(getNLT_Elegans(Graph=crossbar_graph,amp=amp,nwType='Barpartite'))"
   ]
  },
  {
   "cell_type": "code",
   "execution_count": null,
   "metadata": {},
   "outputs": [],
   "source": [
    "resultSparseCrossbar=[]\n",
    "for amp in tqdm(onAmp):\n",
    "    resultSparseCrossbar.append(getNLT_Elegans(Graph=sparseCrossbar,amp=amp,nwType='Barpartite'))"
   ]
  },
  {
   "cell_type": "code",
   "execution_count": null,
   "metadata": {
    "scrolled": false
   },
   "outputs": [],
   "source": [
    "init=[]\n",
    "for amp in tqdm(onAmp):\n",
    "    for i in range(len(sparseCrossbar)):\n",
    "        init.append(inputPacker(getNLT_Elegans,Graph=sparseCrossbar[i],amp=amp,nwType='Random'))"
   ]
  },
  {
   "cell_type": "code",
   "execution_count": null,
   "metadata": {
    "scrolled": true
   },
   "outputs": [],
   "source": [
    "resultSparseCrossbar=para_run(getNLT_Elegans,init,nCPU=10,start_method='fork')"
   ]
  },
  {
   "cell_type": "code",
   "execution_count": null,
   "metadata": {
    "scrolled": true
   },
   "outputs": [],
   "source": [
    "initMC=[]\n",
    "for amp in tqdm(onAmp):\n",
    "    for i in range(len(nwnGraphs)):\n",
    "        initMC.append(inputPacker(get_MC_Voltsweep_Elegans,Graph=sparseCrossbar[i],amp=amp,nwType='Random'))"
   ]
  },
  {
   "cell_type": "code",
   "execution_count": null,
   "metadata": {
    "scrolled": true
   },
   "outputs": [],
   "source": [
    "resultSparseCrossbar_MC=[]\n",
    "for i in tqdm(range(10)):\n",
    "    resultSparseCrossbar_MC.append(para_run(get_MC_Voltsweep_Elegans,initMC,nCPU=10,start_method='fork'))"
   ]
  },
  {
   "cell_type": "code",
   "execution_count": null,
   "metadata": {},
   "outputs": [],
   "source": [
    "resultSparseCrossbar=np.array(resultSparseCrossbar).reshape(11,10)\n",
    "stdresultSparseCrossbar=np.std(resultSparseCrossbar,axis=1)/np.sqrt(10)\n",
    "avgresultSparseCrossbar=np.mean(resultSparseCrossbar,axis=1)"
   ]
  },
  {
   "cell_type": "code",
   "execution_count": null,
   "metadata": {},
   "outputs": [],
   "source": [
    "plt.plot(avgresultSparseCrossbar)\n",
    "plt.fill_between(range(len(avgresultSparseCrossbar)),avgresultSparseCrossbar-stdresultSparseCrossbar,avgresultSparseCrossbar+stdresultSparseCrossbar,alpha=0.4)"
   ]
  },
  {
   "cell_type": "code",
   "execution_count": null,
   "metadata": {},
   "outputs": [],
   "source": [
    "resultSparseCrossbar_MC2=np.mean(resultSparseCrossbar_MC,axis=0)\n",
    "resultSparseCrossbar_stdMC=np.std(resultSparseCrossbar_MC,axis=0)/np.sqrt(10)"
   ]
  },
  {
   "cell_type": "code",
   "execution_count": null,
   "metadata": {},
   "outputs": [],
   "source": [
    "resultMCSparseCrossbar=np.array(resultSparseCrossbar_MC2).reshape(11,10)\n",
    "resultMCSparseCrossbarstd=np.array(resultSparseCrossbar_stdMC).reshape(11,10)\n",
    "stdresultMCSparseCrossbar=np.mean(resultMCSparseCrossbarstd,axis=1)\n",
    "avgresultMCSparseCrossbar=np.mean(resultMCSparseCrossbar,axis=1)"
   ]
  },
  {
   "cell_type": "code",
   "execution_count": null,
   "metadata": {
    "scrolled": false
   },
   "outputs": [],
   "source": [
    "resultMC_Crossbar=[]\n",
    "for i in range(10):\n",
    "    temp=[]\n",
    "    for amp in tqdm(onAmp):\n",
    "        temp.append(get_MC_Voltsweep_Elegans(Graph=crossbar_graph,amp=amp,nwType='Barpartite'))\n",
    "    resultMC_Crossbar.append(temp)"
   ]
  },
  {
   "cell_type": "code",
   "execution_count": null,
   "metadata": {},
   "outputs": [],
   "source": [
    "resultMC_SparseCrossbar=[]\n",
    "for i in range(10):\n",
    "    temp=[]\n",
    "    for amp in tqdm(onAmp):\n",
    "        temp.append(get_MC_Voltsweep_Elegans(Graph=sparseCrossbar,amp=amp,nwType='Barpartite'))\n",
    "    resultMC_SparseCrossbar.append(temp)"
   ]
  },
  {
   "cell_type": "code",
   "execution_count": null,
   "metadata": {},
   "outputs": [],
   "source": [
    "# dfCrossbar=pd.DataFrame(np.mean(resultCrossbar,axis=1))\n",
    "# dfCrossbarMC=pd.DataFrame(np.mean(resultMC_Crossbar,axis=0))\n",
    "\n",
    "dfSparseCrossbar=pd.DataFrame(np.mean(resultSparseCrossbar,axis=1))\n",
    "# dfSparseCrossbarMC=pd.DataFrame(np.mean(resultMC_SparseCrossbar,axis=0))"
   ]
  },
  {
   "cell_type": "code",
   "execution_count": null,
   "metadata": {},
   "outputs": [],
   "source": [
    "plt.rcParams['pdf.fonttype'] = 42\n",
    "\n",
    "fig,axes=plt.subplots(1,1,figsize=(10,8))\n",
    "ax=axes\n",
    "ax.set_title('Crossbar Network ')\n",
    "a=ax.imshow(dfSparseCrossbar,cmap=plt.cm.inferno,aspect='0.5',vmin=0.55,vmax=0.85)\n",
    "plt.colorbar(a,ax=ax,label='NLTavg')\n",
    "ax.set_ylabel('Voltage')\n",
    "ax.set_yticks(np.arange(0,len(onAmp)))\n",
    "ax.set_yticklabels(onAmp)\n",
    "\n",
    "for (j,i),label in np.ndenumerate(dfSparseCrossbar):\n",
    "    ax.text(i,j,np.around(label,2),ha='center',va='center',color='white')\n",
    "    \n",
    "plt.savefig(saveFig+'sparseBarpartite_NEdgesSameAsElegans_VSweep_AvgNLT_10sec_text.pdf',format='pdf',dpi=300)"
   ]
  },
  {
   "cell_type": "code",
   "execution_count": null,
   "metadata": {},
   "outputs": [],
   "source": [
    "plt.rcParams['pdf.fonttype'] = 42\n",
    "\n",
    "fig,axes=plt.subplots(1,1,figsize=(10,8))\n",
    "ax=axes\n",
    "ax.set_title('Crossbar Network')\n",
    "a=ax.imshow(dfSparseCrossbarMC,cmap=plt.cm.inferno,aspect='0.5',vmin=0,vmax=120)\n",
    "plt.colorbar(a,ax=ax,label='MCavg')\n",
    "ax.set_ylabel('Voltage')\n",
    "ax.set_yticks(np.arange(0,len(onAmp)))\n",
    "ax.set_yticklabels(onAmp)\n",
    "\n",
    "for (j,i),label in np.ndenumerate(dfSparseCrossbarMC):\n",
    "    ax.text(i,j,np.around(label,2),ha='center',va='center',color='white')\n",
    "    \n",
    "plt.savefig(saveFig+'sparseBarpartite_NEdgesSameAsElegans_VSweep_AvgMC_text.pdf',format='pdf',dpi=300)"
   ]
  },
  {
   "cell_type": "markdown",
   "metadata": {},
   "source": [
    "### ER Random"
   ]
  },
  {
   "cell_type": "code",
   "execution_count": null,
   "metadata": {},
   "outputs": [],
   "source": []
  },
  {
   "cell_type": "code",
   "execution_count": null,
   "metadata": {},
   "outputs": [],
   "source": [
    "# GENERATE RANDOM GRAPHS WITH SAME NUMBER OF NODES + EDGES\n",
    "temp=nx.dense_gnm_random_graph(OG.number_of_nodes(),OG.number_of_edges(),seed=10)\n",
    "while len(list(connected_component_subgraphs(temp))[0]) < len(OG):\n",
    "    temp=nx.dense_gnm_random_graph(OG.number_of_nodes(),OG.number_of_edges())\n",
    "erGraph=temp\n",
    "erGraph=max(connected_component_subgraphs(erGraph), key=len)\n",
    "adjMat1=np.array((nx.adjacency_matrix(erGraph)).todense())"
   ]
  },
  {
   "cell_type": "code",
   "execution_count": null,
   "metadata": {},
   "outputs": [],
   "source": [
    "erWiredGraph=[]\n",
    "adjMat2=[]\n",
    "for i in tqdm(range(len(nwnGraphs))):\n",
    "    OG=nwnGraphs[i].copy()\n",
    "    erWiredGraph.append(nx.double_edge_swap(OG,nswap=50000,max_tries=500000,seed=10))\n",
    "    erWiredGraph[i].remove_edges_from(list(nx.selfloop_edges(erWiredGraph[i])))\n",
    "    erWiredGraph[i]=max(connected_component_subgraphs(erWiredGraph[i]), key=len)\n",
    "    adjMat2.append(nx.adjacency_matrix(erWiredGraph[i]))"
   ]
  },
  {
   "cell_type": "code",
   "execution_count": null,
   "metadata": {
    "scrolled": true
   },
   "outputs": [],
   "source": [
    "# resultER=[]\n",
    "# for amp in tqdm(onAmp):\n",
    "#     resultER.append(getNLT_Elegans(Graph=erGraph,amp=amp,nwType='Random'))"
   ]
  },
  {
   "cell_type": "code",
   "execution_count": null,
   "metadata": {
    "scrolled": true
   },
   "outputs": [],
   "source": [
    "# resultERWIRED=[]\n",
    "# for amp in tqdm(onAmp):\n",
    "#     resultERWIRED.append(getNLT_Elegans(Graph=erWiredGraph,amp=amp,nwType='Random'))"
   ]
  },
  {
   "cell_type": "code",
   "execution_count": null,
   "metadata": {
    "scrolled": false
   },
   "outputs": [],
   "source": [
    "# resultMC_ER=[]\n",
    "# for i in range(10):\n",
    "#     temp=[]\n",
    "#     for amp in tqdm(onAmp):\n",
    "#         temp.append(get_MC_Voltsweep_Elegans(Graph=erGraph,amp=amp,nwType='Random'))\n",
    "#     resultMC_ER.append(temp)"
   ]
  },
  {
   "cell_type": "code",
   "execution_count": null,
   "metadata": {
    "scrolled": false
   },
   "outputs": [],
   "source": [
    "init=[]\n",
    "for amp in tqdm(onAmp):\n",
    "    for i in range(len(nwnGraphs)):\n",
    "        init.append(inputPacker(getNLT_Elegans,Graph=erWiredGraph[i],amp=amp,nwType='Random'))"
   ]
  },
  {
   "cell_type": "code",
   "execution_count": null,
   "metadata": {},
   "outputs": [
    {
     "name": "stderr",
     "output_type": "stream",
     "text": [
      "Running Simulation : 100%|██████████| 10000/10000 [00:25<00:00, 399.32it/s]\n"
     ]
    },
    {
     "name": "stdout",
     "output_type": "stream",
     "text": [
      "> \u001b[0;32m<ipython-input-77-b0628621e18b>\u001b[0m(17)\u001b[0;36mgetNLT_Elegans\u001b[0;34m()\u001b[0m\n",
      "\u001b[0;32m     15 \u001b[0;31m    \u001b[0mresults\u001b[0m\u001b[0;34m=\u001b[0m\u001b[0;34m{\u001b[0m\u001b[0;34m'JunctionConductance'\u001b[0m\u001b[0;34m:\u001b[0m\u001b[0mresults_minMax\u001b[0m\u001b[0;34m.\u001b[0m\u001b[0mjunctionConductance\u001b[0m\u001b[0;34m,\u001b[0m\u001b[0;34m'JunctionVoltage'\u001b[0m\u001b[0;34m:\u001b[0m\u001b[0mresults_minMax\u001b[0m\u001b[0;34m.\u001b[0m\u001b[0mjunctionVoltage\u001b[0m\u001b[0;34m,\u001b[0m\u001b[0;34m'Switch'\u001b[0m\u001b[0;34m:\u001b[0m\u001b[0mresults_minMax\u001b[0m\u001b[0;34m.\u001b[0m\u001b[0mjunctionSwitch\u001b[0m\u001b[0;34m,\u001b[0m\u001b[0;34m'Source'\u001b[0m\u001b[0;34m:\u001b[0m\u001b[0mresults_minMax\u001b[0m\u001b[0;34m.\u001b[0m\u001b[0msources\u001b[0m\u001b[0;34m[\u001b[0m\u001b[0;36m0\u001b[0m\u001b[0;34m:\u001b[0m\u001b[0;36m2\u001b[0m\u001b[0;34m]\u001b[0m\u001b[0;34m,\u001b[0m\u001b[0;34m'Drain'\u001b[0m\u001b[0;34m:\u001b[0m\u001b[0mresults_minMax\u001b[0m\u001b[0;34m.\u001b[0m\u001b[0mdrains\u001b[0m\u001b[0;34m[\u001b[0m\u001b[0;36m0\u001b[0m\u001b[0;34m:\u001b[0m\u001b[0;36m2\u001b[0m\u001b[0;34m]\u001b[0m\u001b[0;34m,\u001b[0m\u001b[0;34m'Signal'\u001b[0m\u001b[0;34m:\u001b[0m\u001b[0mresults_minMax\u001b[0m\u001b[0;34m.\u001b[0m\u001b[0mstimulus\u001b[0m\u001b[0;34m,\u001b[0m\u001b[0;34m'conductance'\u001b[0m\u001b[0;34m:\u001b[0m\u001b[0mresults_minMax\u001b[0m\u001b[0;34m.\u001b[0m\u001b[0mconductance\u001b[0m\u001b[0;34m}\u001b[0m\u001b[0;34m\u001b[0m\u001b[0;34m\u001b[0m\u001b[0m\n",
      "\u001b[0m\u001b[0;32m     16 \u001b[0;31m    \u001b[0mset_trace\u001b[0m\u001b[0;34m(\u001b[0m\u001b[0;34m)\u001b[0m\u001b[0;34m\u001b[0m\u001b[0;34m\u001b[0m\u001b[0m\n",
      "\u001b[0m\u001b[0;32m---> 17 \u001b[0;31m    \u001b[0mcompressed_pickle\u001b[0m\u001b[0;34m(\u001b[0m\u001b[0mresults\u001b[0m\u001b[0;34m,\u001b[0m\u001b[0mdataLoc\u001b[0m\u001b[0;34m+\u001b[0m\u001b[0;34m'_NLT_Simulation_10sec'\u001b[0m\u001b[0;34m+\u001b[0m\u001b[0;34m'_Rewired'\u001b[0m\u001b[0;34m+\u001b[0m\u001b[0mnwType\u001b[0m\u001b[0;34m+\u001b[0m\u001b[0;34m'Networks_'\u001b[0m\u001b[0;34m+\u001b[0m\u001b[0mampName\u001b[0m\u001b[0;34m+\u001b[0m\u001b[0;34m'v.pkl'\u001b[0m\u001b[0;34m)\u001b[0m\u001b[0;34m\u001b[0m\u001b[0;34m\u001b[0m\u001b[0m\n",
      "\u001b[0m\u001b[0;32m     18 \u001b[0;31m\u001b[0;34m\u001b[0m\u001b[0m\n",
      "\u001b[0m\u001b[0;32m     19 \u001b[0;31m    \u001b[0mnodesList\u001b[0m\u001b[0;34m=\u001b[0m \u001b[0mnp\u001b[0m\u001b[0;34m.\u001b[0m\u001b[0marray\u001b[0m\u001b[0;34m(\u001b[0m\u001b[0;34m[\u001b[0m\u001b[0mi\u001b[0m \u001b[0;32mfor\u001b[0m \u001b[0mi\u001b[0m \u001b[0;32min\u001b[0m \u001b[0mGraph\u001b[0m\u001b[0;34m.\u001b[0m\u001b[0mnodes\u001b[0m\u001b[0;34m]\u001b[0m\u001b[0;34m)\u001b[0m\u001b[0;31m#only want all nodes\u001b[0m\u001b[0;34m\u001b[0m\u001b[0;34m\u001b[0m\u001b[0m\n",
      "\u001b[0m\n",
      "ipdb> results\n",
      "{'JunctionConductance': array([[1.00000000e-07, 1.00000000e-07, 1.00000000e-07, ...,\n",
      "        1.00000000e-07, 1.00000000e-07, 1.00000000e-07],\n",
      "       [1.00000000e-07, 1.00000000e-07, 1.00000000e-07, ...,\n",
      "        1.00000000e-07, 1.00000000e-07, 1.00000000e-07],\n",
      "       [1.00000000e-07, 1.00000000e-07, 1.00000000e-07, ...,\n",
      "        1.00000000e-07, 1.00000000e-07, 1.00000000e-07],\n",
      "       ...,\n",
      "       [1.00000001e-07, 1.00000000e-07, 1.00000000e-07, ...,\n",
      "        1.00000000e-07, 1.00000009e-07, 1.00000000e-07],\n",
      "       [1.00000001e-07, 1.00000000e-07, 1.00000000e-07, ...,\n",
      "        1.00000000e-07, 1.00000009e-07, 1.00000000e-07],\n",
      "       [1.00000001e-07, 1.00000000e-07, 1.00000000e-07, ...,\n",
      "        1.00000000e-07, 1.00000009e-07, 1.00000000e-07]]), 'JunctionVoltage': array([[ 0.00000000e+00,  0.00000000e+00,  0.00000000e+00, ...,\n",
      "         0.00000000e+00,  0.00000000e+00,  0.00000000e+00],\n",
      "       [-1.84649901e-06,  5.96861645e-06, -9.35515766e-05, ...,\n",
      "        -4.78747367e-05,  2.59682944e-05,  3.83455520e-05],\n",
      "       [-3.69297980e-06,  1.19371740e-05, -1.87102230e-04, ...,\n",
      "        -9.57490009e-05,  5.19363325e-05,  7.66907255e-05],\n",
      "       ...,\n",
      "       [ 1.30107721e-03,  6.95361742e-04,  1.79361967e-03, ...,\n",
      "         1.21312131e-03,  4.96534579e-04,  3.12925245e-03],\n",
      "       [ 8.67323611e-04,  4.63542582e-04,  1.19581160e-03, ...,\n",
      "         8.08745553e-04,  3.31031386e-04,  2.08619259e-03],\n",
      "       [ 4.33637772e-04,  2.31757643e-04,  5.97961143e-04, ...,\n",
      "         4.04392622e-04,  1.65537549e-04,  1.04313564e-03]]), 'Switch': array([[False, False, False, ..., False, False, False],\n",
      "       [False, False, False, ..., False, False, False],\n",
      "       [False, False, False, ..., False, False, False],\n",
      "       ...,\n",
      "       [False, False, False, ..., False, False, False],\n",
      "       [False, False, False, ..., False, False, False],\n",
      "       [False, False, False, ..., False, False, False]]), 'Source': [], 'Drain': [2, 88], 'Signal': [<edamame.core.simSettings.stimulus__ object at 0x7f7473a09278>, <edamame.core.simSettings.stimulus__ object at 0x7f7473a09da0>], 'conductance': array([           nan, 3.44491474e-07, 3.44491474e-07, ...,\n",
      "       3.36050214e-04, 3.36050158e-04, 3.36049990e-04])}\n"
     ]
    }
   ],
   "source": [
    "getNLT_Elegans(Graph=erWiredGraph[0],amp=amp,nwType='Random')"
   ]
  },
  {
   "cell_type": "code",
   "execution_count": null,
   "metadata": {
    "scrolled": true
   },
   "outputs": [],
   "source": [
    "resultNWN_ERWIRED=para_run(getNLT_Elegans,init,nCPU=10,start_method='fork')"
   ]
  },
  {
   "cell_type": "code",
   "execution_count": null,
   "metadata": {},
   "outputs": [],
   "source": [
    "resultNWN_ERWIRED=np.array(resultNWN_ERWIRED).reshape(11,10)\n",
    "stdresultRewired=np.std(resultNWN_ERWIRED,axis=1)/np.sqrt(10)\n",
    "avgresultRewired=np.mean(resultNWN_ERWIRED,axis=1)"
   ]
  },
  {
   "cell_type": "code",
   "execution_count": null,
   "metadata": {},
   "outputs": [],
   "source": [
    "plt.plot(avgresultRewired)\n",
    "plt.fill_between(range(len(avgresultRewired)),avgresultRewired-stdresultRewired,avgresultRewired+stdresultRewired,alpha=0.4)"
   ]
  },
  {
   "cell_type": "code",
   "execution_count": null,
   "metadata": {
    "scrolled": true
   },
   "outputs": [],
   "source": [
    "initMC=[]\n",
    "for amp in tqdm(onAmp):\n",
    "    for i in range(len(nwnGraphs)):\n",
    "        initMC.append(inputPacker(get_MC_Voltsweep_Elegans,Graph=erWiredGraph[i],amp=amp,nwType='Random'))"
   ]
  },
  {
   "cell_type": "code",
   "execution_count": null,
   "metadata": {
    "scrolled": true
   },
   "outputs": [],
   "source": [
    "resultMC_ERWIRED=[]\n",
    "for i in tqdm(range(10)):\n",
    "    resultMC_ERWIRED.append(para_run(get_MC_Voltsweep_Elegans,initMC,nCPU=10,start_method='fork'))"
   ]
  },
  {
   "cell_type": "code",
   "execution_count": null,
   "metadata": {},
   "outputs": [],
   "source": [
    "resultMCRewired=np.mean(resultMC_ERWIRED,axis=0)\n",
    "resultMCRewiredStd=np.std(resultMC_ERWIRED,axis=0)/np.sqrt(10)"
   ]
  },
  {
   "cell_type": "code",
   "execution_count": null,
   "metadata": {},
   "outputs": [],
   "source": [
    "resultMCRewiredStd=np.array(resultMCRewiredStd).reshape(11,10)\n",
    "resultMCRewired=np.array(resultMCRewired).reshape(11,10)\n",
    "stdresultMCRewired=np.mean(resultMCRewiredStd,axis=1)\n",
    "avgresultMCRewired=np.mean(resultMCRewired,axis=1)"
   ]
  },
  {
   "cell_type": "code",
   "execution_count": null,
   "metadata": {},
   "outputs": [],
   "source": [
    "plt.plot(avgresultMCRewired)\n",
    "plt.fill_between(range(len(avgresultMCRewired)),avgresultMCRewired-stdresultMCRewired,avgresultMCRewired+stdresultMCRewired,alpha=0.4)"
   ]
  },
  {
   "cell_type": "code",
   "execution_count": null,
   "metadata": {},
   "outputs": [],
   "source": [
    "# dfER=pd.DataFrame(np.mean(resultER,axis=1))\n",
    "# dfERMC=pd.DataFrame(np.mean(resultMC_ER,axis=0))\n",
    "dfERWired=pd.DataFrame(np.mean(resultERWIRED,axis=1))\n",
    "# dfERWiredMC=pd.DataFrame(np.mean(resultMC_ERWIRED,axis=0))"
   ]
  },
  {
   "cell_type": "code",
   "execution_count": null,
   "metadata": {},
   "outputs": [],
   "source": [
    "plt.rcParams['pdf.fonttype'] = 42\n",
    "\n",
    "# fig,axes=plt.subplots(1,1,figsize=(10,8))\n",
    "# ax=axes\n",
    "# ax.set_title('ER Network ')\n",
    "# a=ax.imshow(dfER,cmap=plt.cm.inferno,aspect='0.5',vmin=0.55,vmax=0.85)\n",
    "# plt.colorbar(a,ax=ax,label='NLTavg')\n",
    "# ax.set_ylabel('Voltage')\n",
    "# ax.set_yticks(np.arange(0,len(onAmp)))\n",
    "# ax.set_yticklabels(onAmp)\n",
    "\n",
    "# for (j,i),label in np.ndenumerate(dfER):\n",
    "#     ax.text(i,j,np.around(label,2),ha='center',va='center',color='white')\n",
    "    \n",
    "# plt.savefig(saveFig+'RandomER_VSweep_AvgNLT_text.pdf',format='pdf',dpi=300)\n",
    "\n",
    "fig,axes=plt.subplots(1,1,figsize=(10,8))\n",
    "ax=axes\n",
    "ax.set_title('ER Rewired Network ')\n",
    "a=ax.imshow(dfERWired,cmap=plt.cm.inferno,aspect='0.5',vmin=0.55,vmax=0.85)\n",
    "plt.colorbar(a,ax=ax,label='NLTavg')\n",
    "ax.set_ylabel('Voltage')\n",
    "ax.set_yticks(np.arange(0,len(onAmp)))\n",
    "ax.set_yticklabels(onAmp)\n",
    "\n",
    "for (j,i),label in np.ndenumerate(dfERWired):\n",
    "    ax.text(i,j,np.around(label,2),ha='center',va='center',color='white')\n",
    "    \n",
    "plt.savefig(saveFig+'RandomERWired_VSweep_AvgNLT_10sec_text.pdf',format='pdf',dpi=300)"
   ]
  },
  {
   "cell_type": "code",
   "execution_count": null,
   "metadata": {},
   "outputs": [],
   "source": [
    "plt.rcParams['pdf.fonttype'] = 42\n",
    "\n",
    "# fig,axes=plt.subplots(1,1,figsize=(10,8))\n",
    "# ax=axes\n",
    "# ax.set_title('ER Network ')\n",
    "# a=ax.imshow(dfERMC,cmap=plt.cm.inferno,aspect='0.5',vmin=0,vmax=120)\n",
    "# plt.colorbar(a,ax=ax,label='MCavg')\n",
    "# ax.set_ylabel('Voltage')\n",
    "# ax.set_yticks(np.arange(0,len(onAmp)))\n",
    "# ax.set_yticklabels(onAmp)\n",
    "\n",
    "# for (j,i),label in np.ndenumerate(dfERMC):\n",
    "#     ax.text(i,j,np.around(label,2),ha='center',va='center',color='white')\n",
    "    \n",
    "# plt.savefig(saveFig+'randomER_VSweep_AvgMC_text.pdf',format='pdf',dpi=300)\n",
    "\n",
    "fig,axes=plt.subplots(1,1,figsize=(10,8))\n",
    "ax=axes\n",
    "ax.set_title('ER Rewired Network ')\n",
    "a=ax.imshow(dfERWiredMC,cmap=plt.cm.inferno,aspect='0.5',vmin=0,vmax=120)\n",
    "plt.colorbar(a,ax=ax,label='MCavg')\n",
    "ax.set_ylabel('Voltage')\n",
    "ax.set_yticks(np.arange(0,len(onAmp)))\n",
    "ax.set_yticklabels(onAmp)\n",
    "\n",
    "for (j,i),label in np.ndenumerate(dfERWiredMC):\n",
    "    ax.text(i,j,np.around(label,2),ha='center',va='center',color='white')\n",
    "    \n",
    "plt.savefig(saveFig+'RandomERWired_VSweep_AvgMC_text.pdf',format='pdf',dpi=300)"
   ]
  },
  {
   "cell_type": "code",
   "execution_count": null,
   "metadata": {},
   "outputs": [],
   "source": [
    "# resultMC_Elegans=np.mean(resultMC_Elegans,axis=0)\n",
    "# resultMC_NWN=np.mean(resultMC_NWN,axis=0)\n",
    "# resultMC_ER=np.mean(resultMC_ER,axis=0)\n",
    "# resultMC_ERWIRED=np.mean(resultMC_ERWIRED,axis=0)"
   ]
  },
  {
   "cell_type": "code",
   "execution_count": null,
   "metadata": {},
   "outputs": [],
   "source": [
    "### SAVE RESULTS:\n",
    "compressed_pickle([dfElegans,dfSparseCrossbar,dfERWired,dfNWN],saveResults+'AllNetworks_10secNLT_SameDensityAsElegans')\n",
    "# compressed_pickle([dfElegansMC,dfWSMC,dfCrossbarMC,dfSparseCrossbarMC,dfERMC,dfERWiredMC,dfNWNMC],saveResults+'AllNetworksMC_SameDensityAsElegans')"
   ]
  },
  {
   "cell_type": "code",
   "execution_count": null,
   "metadata": {},
   "outputs": [],
   "source": [
    "# [dfElegansMC,dfWSMC,dfCrossbarMC,dfSparseCrossbarMC,dfERMC,dfERWiredMC,dfNWNMC]=decompress_pickle(saveResults+'AllNetworksMC_SameDensityAsElegans')\n",
    "[dfElegans,dfSparseCrossbar,dfERWired,dfNWN]=decompress_pickle(saveResults+'AllNetworks_10secNLT_SameDensityAsElegans')\n"
   ]
  },
  {
   "cell_type": "markdown",
   "metadata": {},
   "source": [
    "## Compare Networks"
   ]
  },
  {
   "cell_type": "code",
   "execution_count": null,
   "metadata": {},
   "outputs": [],
   "source": [
    "top = nx.bipartite.sets(crossbar_graph)[0]\n",
    "top2 = nx.bipartite.sets(sparseCrossbar)[0]"
   ]
  },
  {
   "cell_type": "code",
   "execution_count": null,
   "metadata": {},
   "outputs": [],
   "source": [
    "fig,axes=plt.subplots(3,3,figsize=(10,12))\n",
    "\n",
    "axes[0][0].set_title('NWN')\n",
    "pos=nx.kamada_kawai_layout(nwnGraph)\n",
    "nx.draw(nwnGraph,pos=pos,node_size=20,ax=axes[0][0])\n",
    "\n",
    "axes[0][1].set_title('WS')\n",
    "pos=nx.kamada_kawai_layout(WS)\n",
    "nx.draw(WS,pos=pos,node_size=20,ax=axes[0][1])\n",
    "\n",
    "axes[0][2].set_title('Elegans')\n",
    "pos=nx.kamada_kawai_layout(Elegans['G'])\n",
    "nx.draw(Elegans['G'],pos=pos,node_size=20,ax=axes[0][2])\n",
    "\n",
    "axes[1][0].set_title('ER')\n",
    "pos=nx.kamada_kawai_layout(erGraph)\n",
    "nx.draw(erGraph,pos=pos,node_size=20,ax=axes[1][0])\n",
    "\n",
    "axes[1][1].set_title('NWN Rewired')\n",
    "pos=nx.kamada_kawai_layout(erWiredGraph)\n",
    "nx.draw(erWiredGraph,pos=pos,node_size=20,ax=axes[1][1])\n",
    "\n",
    "axes[1][2].set_title('Sparse Crossbar')\n",
    "pos=nx.bipartite_layout(sparseCrossbar,top2)\n",
    "nx.draw(sparseCrossbar,pos=pos,node_size=20,ax=axes[1][2])\n",
    "\n",
    "axes[2][0].set_title('Crossbar')\n",
    "pos=nx.bipartite_layout(crossbar_graph,top)\n",
    "nx.draw(crossbar_graph,pos=pos,node_size=20,ax=axes[2][0])\n",
    "\n",
    "\n",
    "plt.savefig(saveFig+'different_networks_same_nodes+edges.pdf',format='pdf',dpi=300)"
   ]
  },
  {
   "cell_type": "code",
   "execution_count": null,
   "metadata": {},
   "outputs": [],
   "source": []
  },
  {
   "cell_type": "markdown",
   "metadata": {},
   "source": [
    "### Difference between NETWORKS:"
   ]
  },
  {
   "cell_type": "code",
   "execution_count": null,
   "metadata": {},
   "outputs": [],
   "source": [
    "# import time\n",
    "# t = time.time()\n",
    "ciElegans,qElegans=bct.community_louvain(np.array(nx.adjacency_matrix(elegansGraph).todense()),gamma=1.1)\n",
    "# pcoeffElegans=bct.participation_coef(np.squeeze(np.array(nx.adjacency_matrix(elegansGraph).todense())),ciElegans)\n",
    "# mzElegans=bct.module_degree_zscore(np.squeeze(np.array(nx.adjacency_matrix(elegansGraph).todense())),ciElegans)\n",
    "clusteringElegans=nx.clustering(elegansGraph)\n",
    "diamElegans=nx.diameter(elegansGraph)\n",
    "# degElegans=[val for (nodes,val) in elegansGraph.degree()]\n",
    "# avgDegElegans=np.mean(degElegans)\n",
    "# SPLElegans=nx.shortest_path_length(Elegans['G'],source=getFarthestPairing(Elegans['adj_matrix'])[0],target=getFarthestPairing(Elegans['adj_matrix'])[1])\n",
    "# avgSPLElegans=nx.average_shortest_path_length(elegansGraph)\n",
    "# localEfficiencyElegans=nx.local_efficiency(elegansGraph)\n",
    "# globalEfficiencyElegans=nx.global_efficiency(elegansGraph)\n",
    "\n",
    "print('Elegans Finished')\n",
    "# elapsed = time.time() - t\n",
    "# print(elapsed)\n",
    "qNWN=np.zeros(len(nwnGraphs));clusteringNWN=[];diamNWN=[]\n",
    "for i in range(len(nwnGraphs)):\n",
    "    ciNWN,qNWN[i]=bct.community_louvain(np.array(nx.adjacency_matrix(nwnGraphs[i]).todense()),gamma=1.1)\n",
    "#     pcoeffNWN=bct.participation_coef(np.squeeze(np.array(nx.adjacency_matrix(nwnGraph).todense())),ciNWN)\n",
    "#     mzNWN=bct.module_degree_zscore(np.squeeze(np.array(nx.adjacency_matrix(nwnGraph).todense())),ciNWN)\n",
    "    clusteringNWN.append(nx.clustering(nwnGraphs[i]))\n",
    "    diamNWN.append(nx.diameter(nwnGraphs[i]))\n",
    "\n",
    "# degNWN=[val for (nodes,val) in nwnGraph.degree()]\n",
    "# avgDegNWN=np.mean(degNWN)\n",
    "# SPLNWN=nx.shortest_path_length(nwnGraph,source=getFarthestPairing(nx.adjacency_matrix(nwnGraph).todense())[0],target=getFarthestPairing(nx.adjacency_matrix(nwnGraph).todense())[1])\n",
    "# avgSPLNWN=nx.average_shortest_path_length(nwnGraph)\n",
    "# localEfficiencyNWN=nx.local_efficiency(nwnGraph)\n",
    "# globalEfficiencyNWN=nx.global_efficiency(nwnGraph)\n",
    "print('NWN Finished')\n",
    "\n",
    "# ciER,qER=bct.community_louvain(np.array(nx.adjacency_matrix(erGraph).todense()),gamma=1.1)\n",
    "# pcoeffER=bct.participation_coef(np.squeeze(np.array(nx.adjacency_matrix(erGraph).todense())),ciER)\n",
    "# mzER=bct.module_degree_zscore(np.squeeze(np.array(nx.adjacency_matrix(erGraph).todense())),ciER)\n",
    "# clusteringER=nx.clustering(erGraph)\n",
    "# degER=[val for (nodes,val) in erGraph.degree()]\n",
    "# avgDegER=np.mean(degER)\n",
    "# SPLER=nx.shortest_path_length(erGraph,source=getFarthestPairing(nx.adjacency_matrix(erGraph).todense())[0],target=getFarthestPairing(nx.adjacency_matrix(erGraph).todense())[1])\n",
    "# avgSPLER=nx.average_shortest_path_length(erGraph)\n",
    "# localEfficiencyER=nx.local_efficiency(erGraph)\n",
    "# globalEfficiencyER=nx.global_efficiency(erGraph)\n",
    "# print('ER Finished')\n",
    "qERWired=np.zeros(len(nwnGraphs));clusteringERWired=[];diamERWired=[]\n",
    "for i in range(len(nwnGraphs)):\n",
    "    ciERWired,qERWired[i]=bct.community_louvain(np.array(nx.adjacency_matrix(erWiredGraph[i]).todense()),gamma=1.1)\n",
    "    # pcoeffERWired=bct.participation_coef(np.squeeze(np.array(nx.adjacency_matrix(erWiredGraph).todense())),ciERWired)\n",
    "    # mzERWired=bct.module_degree_zscore(np.squeeze(np.array(nx.adjacency_matrix(erWiredGraph).todense())),ciERWired)\n",
    "    clusteringERWired.append(nx.clustering(erWiredGraph[i]))\n",
    "    diamERWired.append(nx.diameter(erWiredGraph[i]))\n",
    "                   \n",
    "# degERWired=[val for (nodes,val) in erWiredGraph.degree()]\n",
    "# avgDegERWired=np.mean(degERWired)\n",
    "# SPLERWired=nx.shortest_path_length(erWiredGraph,source=getFarthestPairing(nx.adjacency_matrix(erWiredGraph).todense())[0],target=getFarthestPairing(nx.adjacency_matrix(erWiredGraph).todense())[1])\n",
    "# avgSPLERWired=nx.average_shortest_path_length(erWiredGraph)\n",
    "# localEfficiencyERWired=nx.local_efficiency(erWiredGraph)\n",
    "# globalEfficiencyERWired=nx.global_efficiency(erWiredGraph)\n",
    "print('Rewired Finished')\n",
    "\n",
    "\n",
    "# ciCrossbar,qCrossbar=bct.community_louvain(np.array(nx.adjacency_matrix(crossbar_graph).todense()),gamma=1.1)\n",
    "# pcoeffCrossbar=bct.participation_coef(np.squeeze(np.array(nx.adjacency_matrix(crossbar_graph).todense())),ciCrossbar)\n",
    "# mzCrossbar=bct.module_degree_zscore(np.squeeze(np.array(nx.adjacency_matrix(crossbar_graph).todense())),ciCrossbar)\n",
    "# clusteringCrossbar=nx.clustering(crossbar_graph)\n",
    "# degCrossbar=[val for (nodes,val) in crossbar_graph.degree()]\n",
    "# avgDegCrossbar=np.mean(degCrossbar)\n",
    "# SPLCrossbar=nx.shortest_path_length(crossbar_graph,source=getFarthestPairing(nx.adjacency_matrix(crossbar_graph).todense())[0],target=getFarthestPairing(nx.adjacency_matrix(crossbar_graph).todense())[1])\n",
    "# avgSPLCrossbar=nx.average_shortest_path_length(crossbar_graph)\n",
    "# localEfficiencyCrossbar=nx.local_efficiency(crossbar_graph)\n",
    "# globalEfficiencyCrossbar=nx.global_efficiency(crossbar_graph)\n",
    "# print('Crossbar Finished')\n",
    "qSparseCrossbar=np.zeros(len(nwnGraphs));clusteringSparseCrossbar=[];diamSparseCrossbar=[]\n",
    "for i in range(len(nwnGraphs)):\n",
    "    ciSparseCrossbar,qSparseCrossbar[i]=bct.community_louvain(np.array(nx.adjacency_matrix(sparseCrossbar[i]).todense()),gamma=1.1)\n",
    "# pcoeffSparseCrossbar=bct.participation_coef(np.squeeze(np.array(nx.adjacency_matrix(sparseCrossbar).todense())),ciSparseCrossbar)\n",
    "# mzSparseCrossbar=bct.module_degree_zscore(np.squeeze(np.array(nx.adjacency_matrix(sparseCrossbar).todense())),ciSparseCrossbar)\n",
    "    clusteringSparseCrossbar.append(nx.clustering(sparseCrossbar[i]))\n",
    "    diamSparseCrossbar.append(nx.diameter(sparseCrossbar[i]))\n",
    "# degSparseCrossbar=[val for (nodes,val) in sparseCrossbar.degree()]\n",
    "# avgDegSparseCrossbar=np.mean(degSparseCrossbar)\n",
    "# SPLSparseCrossbar=nx.shortest_path_length(sparseCrossbar,source=getFarthestPairing(nx.adjacency_matrix(sparseCrossbar).todense())[0],target=getFarthestPairing(nx.adjacency_matrix(sparseCrossbar).todense())[1])\n",
    "# avgSPLSparseCrossbar=nx.average_shortest_path_length(sparseCrossbar)\n",
    "# localEfficiencySparseCrossbar=nx.local_efficiency(sparseCrossbar)\n",
    "# globalEfficiencySparseCrossbar=nx.global_efficiency(sparseCrossbar)\n",
    "print('Sparse Crossbar Finished')\n",
    "\n",
    "\n",
    "# ciWS,qWS=bct.community_louvain(np.array(nx.adjacency_matrix(WS).todense()),gamma=1.1)\n",
    "# pcoeffWS=bct.participation_coef(np.squeeze(np.array(nx.adjacency_matrix(WS).todense())),ciWS)\n",
    "# mzWS=bct.module_degree_zscore(np.squeeze(np.array(nx.adjacency_matrix(WS).todense())),ciWS)\n",
    "# clusteringWS=nx.clustering(WS)\n",
    "# degWS=[val for (nodes,val) in WS.degree()]\n",
    "# avgDegWS=np.mean(degWS)\n",
    "# SPLWS=nx.shortest_path_length(WS,source=getFarthestPairing(nx.adjacency_matrix(WS).todense())[0],target=getFarthestPairing(nx.adjacency_matrix(WS).todense())[1])\n",
    "# avgSPLWS=nx.average_shortest_path_length(WS)\n",
    "# localEfficiencyWS=nx.local_efficiency(WS)\n",
    "# globalEfficiencyWS=nx.global_efficiency(WS)\n",
    "# print('WS Finished')\n"
   ]
  },
  {
   "cell_type": "code",
   "execution_count": null,
   "metadata": {},
   "outputs": [],
   "source": [
    "clstrMeanNWN=[];clstrMeanSparseCross=[];clstrMeanRewired=[];\n",
    "for i in range(len(clusteringNWN)):\n",
    "    clstrMeanNWN.append(np.mean(list(clusteringNWN[i].values())))\n",
    "    clstrMeanSparseCross.append(np.mean(list(clusteringSparseCrossbar[i].values())))\n",
    "    clstrMeanRewired.append(np.mean(list(clusteringERWired[i].values())))"
   ]
  },
  {
   "cell_type": "code",
   "execution_count": null,
   "metadata": {},
   "outputs": [],
   "source": [
    "np.mean(tmp)"
   ]
  },
  {
   "cell_type": "markdown",
   "metadata": {},
   "source": [
    "#### SMALL WORLDNESS"
   ]
  },
  {
   "cell_type": "code",
   "execution_count": null,
   "metadata": {},
   "outputs": [],
   "source": [
    "nwnAdjMat=[];rewiredAdjMat=[];sparseCrossAdjMat=[]\n",
    "for i in range(len(nwnGraphs)):\n",
    "    nwnAdjMat.append(np.array(nx.adjacency_matrix(nwnGraphs[i]).todense()))\n",
    "    rewiredAdjMat.append(np.array(nx.adjacency_matrix(erWiredGraph[i]).todense()))\n",
    "    sparseCrossAdjMat.append(np.array(nx.adjacency_matrix(sparseCrossbar[i]).todense()))"
   ]
  },
  {
   "cell_type": "code",
   "execution_count": null,
   "metadata": {},
   "outputs": [],
   "source": [
    "AdjMat={'AdjMatElegans':np.array(nx.adjacency_matrix(elegansGraph).todense()),'AdjMatNWN':nwnAdjMat,'AdjMatRewired':rewiredAdjMat,'AdjMatSparseCrossbar':sparseCrossAdjMat}"
   ]
  },
  {
   "cell_type": "code",
   "execution_count": null,
   "metadata": {},
   "outputs": [],
   "source": [
    "savemat(saveLoc+'AllNetworks_AdjMats',AdjMat)"
   ]
  },
  {
   "cell_type": "code",
   "execution_count": null,
   "metadata": {},
   "outputs": [],
   "source": [
    "temp=loadmat('/import/silo2/aloe8475/Documents/CODE/Data/Functional Connectivity/WS Networks/AllNetworks_AdjMats_smallworld')\n",
    "temp2=loadmat('/import/silo2/aloe8475/Documents/CODE/Data/Functional Connectivity/Network Comparison/AllNetworks_AdjMats_smallworld')\n",
    "smallworld=temp2['smallworld']\n",
    "# smallworldNWN=temp['smallworld'][0][0]\n",
    "# smallworldWS=temp['smallworldWS'][0][0]\n",
    "smallworldElegans=temp['smallworldElegans'][0][0]\n",
    "# smallworldCrossbar=temp['smallworldCrossbar'][0][0]\n",
    "# smallworldSparseCrossbar=temp['smallworldSparseCrossbar'][0][0]\n",
    "# smallworldER=temp['smallworldER'][0][0]\n",
    "# smallworldRewired=temp['smallworldRewired'][0][0]"
   ]
  },
  {
   "cell_type": "code",
   "execution_count": null,
   "metadata": {},
   "outputs": [],
   "source": [
    "fig,axes=plt.subplots(3,3,figsize=(15,10))\n",
    "ax=axes[1][0]\n",
    "# ax.bar(1,np.mean(list(clusteringCrossbar.values())),label='Crossbar',color='green')\n",
    "ax.bar(1,np.mean(clstrMeanSparseCross),yerr=np.std(clstrMeanSparseCross),label='Sparse Crossbar',color='blue',capsize=10)\n",
    "# ax.bar(3,np.mean(list(clusteringER.values())),label='ER Random',color='blue')\n",
    "ax.bar(2,np.mean(clstrMeanRewired),yerr=np.std(clstrMeanRewired),label='Random Network',color='green',capsize=10)\n",
    "ax.bar(3,np.mean(list(clusteringElegans.values())),label='Elegans',color='orange',capsize=10)\n",
    "# ax.bar(6,np.mean(list(clusteringWS.values())),label='WS',color='k')\n",
    "ax.bar(4,np.mean(clstrMeanNWN),yerr=np.std(clstrMeanNWN),label='NWN',color='red',capsize=10)\n",
    "ax.set_xticks([1,2,3,4])\n",
    "ax.set_ylabel('Average Clustering')\n",
    "ax.set_xticklabels([])\n",
    "ax.set_xticklabels(['Crossbar','Sparse Crossbar','ER','NWN Rewired','Elegans','WS','NWN'],rotation=45)\n",
    "\n",
    "ax=axes[0][0]\n",
    "# ax.bar(1,np.mean(list(clusteringCrossbar.values())),label='Crossbar',color='green')\n",
    "ax.bar(1,np.mean(diamSparseCrossbar),yerr=np.std(diamSparseCrossbar),label='Sparse Crossbar',color='blue',capsize=10)\n",
    "# ax.bar(3,np.mean(list(clusteringER.values())),label='ER Random',color='blue')\n",
    "ax.bar(2,np.mean(diamERWired),yerr=np.std(diamERWired),label='Random Network',color='green',capsize=10)\n",
    "ax.bar(3,diamElegans,label='Elegans',color='orange',capsize=10)\n",
    "# ax.bar(6,np.mean(list(clusteringWS.values())),label='WS',color='k')\n",
    "ax.bar(4,np.mean(diamNWN),yerr=np.std(diamNWN),label='NWN',color='red',capsize=10)\n",
    "ax.set_xticks([1,2,3,4])\n",
    "ax.set_ylabel('Diameter')\n",
    "ax.set_xticklabels([])\n",
    "\n",
    "ax=axes[0][1]\n",
    "# ax.bar(1,np.mean(list(clusteringCrossbar.values())),label='Crossbar',color='green')\n",
    "ax.bar(1,np.mean(qSparseCrossbar),yerr=np.std(qSparseCrossbar),label='Sparse Crossbar',color='blue',capsize=10)\n",
    "# ax.bar(3,np.mean(list(clusteringER.values())),label='ER Random',color='blue')\n",
    "ax.bar(2,np.mean(qERWired),yerr=np.std(qERWired),label='Random Network',color='green',capsize=10)\n",
    "ax.bar(3,qElegans,label='Elegans',color='orange',capsize=10)\n",
    "# ax.bar(6,np.mean(list(clusteringWS.values())),label='WS',color='k')\n",
    "ax.bar(4,np.mean(qNWN),yerr=np.std(qNWN),label='NWN',color='red',capsize=10)\n",
    "ax.set_xticks([1,2,3,4])\n",
    "ax.set_ylabel('Q')\n",
    "ax.set_xticklabels([])\n",
    "\n",
    "ax=axes[1][1]\n",
    "# ax.bar(1,np.mean(list(clusteringCrossbar.values())),label='Crossbar',color='green')\n",
    "ax.bar(1,np.mean(smallworld[2]),yerr=np.std(smallworld[2]),label='Sparse Crossbar',color='blue',capsize=10)\n",
    "# ax.bar(3,np.mean(list(clusteringER.values())),label='ER Random',color='blue')\n",
    "ax.bar(2,np.mean(smallworld[1]),yerr=np.std(smallworld[1]),label='Random Network',color='green',capsize=10)\n",
    "ax.bar(3,smallworldElegans,label='Elegans',color='orange',capsize=10)\n",
    "# ax.bar(6,np.mean(list(clusteringWS.values())),label='WS',color='k')\n",
    "ax.bar(4,np.mean(smallworld[0]),yerr=np.std(smallworld[0]),label='NWN',color='red',capsize=10)\n",
    "ax.set_xticks([1,2,3,4])\n",
    "ax.set_ylabel('SWP')\n",
    "ax.set_xticklabels([])\n",
    "\n",
    "ax.set_xticklabels(['Crossbar','Sparse Crossbar','ER','NWN Rewired','Elegans','WS','NWN'],rotation=45)\n",
    "plt.savefig(saveFig+'GraphTheory+Elegans_NWN_ER_Crossbar_10Networks.pdf',format='pdf',dpi=300)"
   ]
  },
  {
   "cell_type": "code",
   "execution_count": null,
   "metadata": {},
   "outputs": [],
   "source": [
    "smallworldRewired"
   ]
  },
  {
   "cell_type": "code",
   "execution_count": null,
   "metadata": {},
   "outputs": [],
   "source": [
    "dfSparseCrossbar"
   ]
  },
  {
   "cell_type": "code",
   "execution_count": null,
   "metadata": {},
   "outputs": [],
   "source": [
    "# Crossbar_dict={'graph':crossbar_graph,'SW':smallworldCrossbar,'Mod':qCrossbar,'pcoeff':pcoeffCrossbar,'mz':mzCrossbar,'clustering':clusteringCrossbar,'degree':degCrossbar,'avgDeg':avgDegCrossbar,'localEfficiency':localEfficiencyCrossbar,'globalEfficiency':globalEfficiencyCrossbar,'NLT':dfCrossbar,'MC':dfCrossbarMC}\n",
    "SparseCrossbar_dict={'graph':sparseCrossbar,'SW':smallworldSparseCrossbar,'Mod':qSparseCrossbar,'pcoeff':pcoeffSparseCrossbar,'mz':mzSparseCrossbar,'clustering':clusteringSparseCrossbar,'degree':degSparseCrossbar,'avgDeg':avgDegSparseCrossbar,'localEfficiency':localEfficiencySparseCrossbar,'globalEfficiency':globalEfficiencySparseCrossbar,'NLT':dfSparseCrossbar,'MC':dfSparseCrossbarMC}\n",
    "Elegans_dict={'graph':elegansGraph,'SW':smallworldElegans,'Mod':qElegans,'pcoeff':pcoeffElegans,'mz':mzElegans,'clustering':clusteringElegans,'degree':degElegans,'avgDeg':avgDegElegans,'localEfficiency':localEfficiencyElegans,'globalEfficiency':globalEfficiencyElegans,'NLT':dfElegans,'MC':dfElegansMC}\n",
    "NWN_dict={'graph':nwnGraph,'SW':smallworldNWN,'Mod':qNWN,'pcoeff':pcoeffNWN,'mz':mzNWN,'clustering':clusteringNWN,'degree':degNWN,'avgDeg':avgDegNWN,'localEfficiency':localEfficiencyNWN,'globalEfficiency':globalEfficiencyNWN,'NLT':dfNWN,'MC':dfNWNMC}\n",
    "# WS_dict={'graph':WS,'SW':smallworldWS,'Mod':qWS,'pcoeff':pcoeffWS,'mz':mzWS,'clustering':clusteringWS,'degree':degWS,'avgDeg':avgDegWS,'localEfficiency':localEfficiencyWS,'globalEfficiency':globalEfficiencyWS,'NLT':dfWS,'MC':dfWSMC}\n",
    "# ER_dict={'graph':erGraph,'SW':smallworldER,'Mod':qER,'pcoeff':pcoeffER,'mz':mzER,'clustering':clusteringER,'degree':degER,'avgDeg':avgDegER,'localEfficiency':localEfficiencyER,'globalEfficiency':globalEfficiencyER,'NLT':dfER,'MC':dfERMC}\n",
    "Rewired_dict={'graph':erWiredGraph,'SW':smallworldRewired,'Mod':qERWired,'pcoeff':pcoeffERWired,'mz':mzERWired,'clustering':clusteringERWired,'degree':degERWired,'avgDeg':avgDegERWired,'localEfficiency':localEfficiencyERWired,'globalEfficiency':globalEfficiencyERWired,'NLT':dfERWired,'MC':dfERWiredMC}\n",
    "\n",
    "compressed_pickle([SparseCrossbar_dict,Elegans_dict,NWN_dict,Rewired_dict],saveResults+'NetworksComparisonDicts')"
   ]
  },
  {
   "cell_type": "code",
   "execution_count": null,
   "metadata": {},
   "outputs": [],
   "source": [
    "# Rewired_dict['NLT']=pd.DataFrame(resultERWIRED)\n",
    "# Rewired_dict['MC']=pd.DataFrame(resultMC_ERWIRED)\n",
    "\n",
    "# compressed_pickle([Crossbar_dict,SparseCrossbar_dict,Elegans_dict,NWN_dict,ER_dict,Rewired_dict,WS_dict],saveResults+'NetworksComparisonDicts')"
   ]
  },
  {
   "cell_type": "code",
   "execution_count": null,
   "metadata": {},
   "outputs": [],
   "source": []
  },
  {
   "cell_type": "code",
   "execution_count": null,
   "metadata": {},
   "outputs": [],
   "source": [
    "#UNPACK RESULTS\n",
    "[SparseCrossbar_dict,Elegans_dict,NWN_dict,Rewired_dict]=decompress_pickle(saveResults+'NetworksComparisonDicts')\n",
    "resultElegans=Elegans_dict['NLT'];resultNWN=NWN_dict['NLT'];resultERWIRED=Rewired_dict['NLT'];resultSparseCrossbar=SparseCrossbar_dict['NLT']\n",
    "resultMC_Elegans=Elegans_dict['MC'];resultMC_NWN=NWN_dict['MC'];resultMC_ERWIRED=Rewired_dict['MC'];resultMC_SparseCrossbar=SparseCrossbar_dict['MC']\n",
    "elegansGraph=Elegans_dict['graph'];nwnGraph=NWN_dict['graph'];erWiredGraph=Rewired_dict['graph'];sparseCrossbar=SparseCrossbar_dict['graph']"
   ]
  },
  {
   "cell_type": "code",
   "execution_count": null,
   "metadata": {},
   "outputs": [],
   "source": [
    "stdresultMCSparseCrossbar"
   ]
  },
  {
   "cell_type": "code",
   "execution_count": null,
   "metadata": {},
   "outputs": [],
   "source": [
    "fig,axes=plt.subplots(1,2,figsize=(10,4))\n",
    "ax=axes[0]\n",
    "ax.plot(avgresultNWN,'-o',label='NWN',color='red')\n",
    "ax.fill_between(range(len(avgresultNWN)),avgresultNWN-stdresultNWN,avgresultNWN+stdresultNWN,alpha=0.4,color='red')\n",
    "ax.plot(avgresultRewired,'-o',label='Random Network',color='green')\n",
    "ax.fill_between(range(len(avgresultRewired)),avgresultRewired-stdresultRewired,avgresultRewired+stdresultRewired,alpha=0.4,color='green')\n",
    "ax.plot(avgresultSparseCrossbar,'-o',label='Sparse Crossbar',color='blue')\n",
    "ax.fill_between(range(len(avgresultSparseCrossbar)),avgresultSparseCrossbar-stdresultSparseCrossbar,avgresultSparseCrossbar+stdresultSparseCrossbar,alpha=0.4,color='blue')\n",
    "\n",
    "ax.plot(resultElegans,'-o',label='Elegans',color='orange')\n",
    "\n",
    "# ax.plot(resultWS,'-o',label='WS',color='k')\n",
    "\n",
    "ax.set_xlabel('Voltage')\n",
    "ax.set_xticks(np.arange(0,len(onAmp)))\n",
    "ax.set_xticklabels(onAmp)\n",
    "ax.set_ylabel('NLT')\n",
    "ax.set_ylim([0.55,0.85])\n",
    "# ax.legend()\n",
    "\n",
    "ax=axes[1]\n",
    "# ax.plot(np.mean(resultMC_Crossbar,axis=0),'-o',label='Crossbar',color='green')\n",
    "ax.plot(avgresultMCNWN,'-o',label='NWN',color='red')\n",
    "ax.fill_between(range(len(avgresultMCNWN)),avgresultMCNWN-stdresultMCNWN,avgresultMCNWN+stdresultMCNWN,alpha=0.4,color='red')\n",
    "ax.plot(avgresultMCRewired,'-o',label='Random Network',color='green')\n",
    "ax.fill_between(range(len(avgresultMCRewired)),avgresultMCRewired-stdresultMCRewired,avgresultMCRewired+stdresultMCRewired,alpha=0.4,color='green')\n",
    "ax.plot(avgresultMCSparseCrossbar,'-o',label='Sparse Crossbar',color='blue')\n",
    "ax.fill_between(range(len(avgresultMCSparseCrossbar)),avgresultMCSparseCrossbar-stdresultMCSparseCrossbar,avgresultMCSparseCrossbar+stdresultMCSparseCrossbar,alpha=0.4,color='blue')\n",
    "\n",
    "ax.plot(resultMC_Elegans,'-o',label='Elegans',color='orange')\n",
    "\n",
    "# ax.plot(np.mean(resultMC_ER,axis=0),'-o',label='ER',color='blue')\n",
    "# ax.plot(np.mean(resultMC_WS,axis=0),'-o',label='WS',color='k')\n",
    "\n",
    "ax.set_xlabel('Voltage')\n",
    "ax.set_ylabel('MC')\n",
    "ax.set_xticks(np.arange(0,len(onAmp)))\n",
    "ax.set_xticklabels(onAmp)\n",
    "ax.legend()\n",
    "\n",
    "# plt.savefig(saveFig+'NetworkComparison_Elegans_NWN_ER_Crossbar_NLT+MC_10sec_300Nodes_2000Edges.pdf',format='pdf',dpi=300)"
   ]
  },
  {
   "cell_type": "code",
   "execution_count": null,
   "metadata": {},
   "outputs": [],
   "source": [
    "resultsNLT=np.array([np.array(resultElegans),np.array(resultSparseCrossbar),np.array(resultERWIRED),np.array(resultNWN)])\n",
    "resultsMC=np.array([np.array(resultMC_Elegans),np.array(resultMC_SparseCrossbar),np.array(resultMC_ERWIRED),np.array(resultMC_NWN)])"
   ]
  },
  {
   "cell_type": "code",
   "execution_count": null,
   "metadata": {},
   "outputs": [],
   "source": [
    "## NORMALIZED RESULTS:\n",
    "\n",
    "    \n",
    "maxMCval=np.max(np.max(resultsMC))\n",
    "maxNLTval=np.max(np.max(resultsNLT))\n",
    "minMCval=np.min(np.min(resultsMC))\n",
    "minNLTval=np.min(np.min(resultsNLT))\n",
    "\n",
    "dfMC_diffMax=[]\n",
    "dfNLT_diffMax=[]\n",
    "\n",
    "for j in range(len(onAmp)):\n",
    "    for i in range(len(resultsNLT)):\n",
    "        dfMC_diffMax.append(1-((maxMCval-resultsMC[i][j])/(maxMCval-minMCval)))\n",
    "    for i in range(len(resultsMC)):\n",
    "        dfNLT_diffMax.append(1-((maxNLTval-resultsNLT[i][j])/(maxNLTval-minNLTval)))\n"
   ]
  },
  {
   "cell_type": "code",
   "execution_count": null,
   "metadata": {},
   "outputs": [],
   "source": [
    "plt.plot(np.array(dfNLT_diffMax).reshape(11,4))"
   ]
  },
  {
   "cell_type": "code",
   "execution_count": null,
   "metadata": {},
   "outputs": [],
   "source": [
    "fig,axes=plt.subplots(3,3,figsize=(15,10))\n",
    "# ax=axes[0][0]\n",
    "# # ax.bar(1,SPLCrossbar,label='Crossbar',color='green')\n",
    "# ax.bar(2,SPLSparseCrossbar,label='Sparse Crossbar',color='tab:green')\n",
    "# # ax.bar(3,SPLER,label='ER Random',color='blue')\n",
    "# ax.bar(4,SPLERWired,label='ER Rewired Random',color='tab:red')\n",
    "# ax.bar(5,SPLElegans,label='Elegans',color='orange')\n",
    "# # ax.bar(6,SPLWS,label='WS',color='k')\n",
    "# ax.bar(7,SPLNWN,label='NWN',color='red')\n",
    "\n",
    "# ax.set_xticks([1,2,3,4,5,6,7])\n",
    "# ax.set_ylabel('Shortest Path (Source to Drain)')\n",
    "# ax.set_xticklabels([])\n",
    "\n",
    "ax=axes[0][0]\n",
    "# ax.bar(1,np.mean(list(clusteringCrossbar.values())),label='Crossbar',color='green')\n",
    "ax.bar(2,np.mean(list(clusteringSparseCrossbar.values())),label='Sparse Crossbar',color='tab:green')\n",
    "# ax.bar(3,np.mean(list(clusteringER.values())),label='ER Random',color='blue')\n",
    "ax.bar(4,np.mean(list(clusteringERWired.values())),label='ER Rewired Random',color='tab:red')\n",
    "ax.bar(5,np.mean(list(clusteringElegans.values())),label='Elegans',color='orange')\n",
    "# ax.bar(6,np.mean(list(clusteringWS.values())),label='WS',color='k')\n",
    "ax.bar(7,np.mean(list(clusteringNWN.values())),label='NWN',color='red')\n",
    "ax.set_xticks([1,2,3,4,5,6,7])\n",
    "ax.set_ylabel('Global Clustering')\n",
    "ax.set_xticklabels([])\n",
    "\n",
    "\n",
    "ax=axes[2][0]\n",
    "# ax.bar(1,np.mean(avgSPLCrossbar),label='Crossbar',color='green')\n",
    "ax.bar(2,np.mean(avgSPLSparseCrossbar),label='Sparse Crossbar',color='tab:green')\n",
    "# ax.bar(3,np.mean(avgSPLER),label='ER Random',color='blue')\n",
    "ax.bar(4,np.mean(avgSPLERWired),label='ER Rewired Random',color='tab:red')\n",
    "ax.bar(5,np.mean(avgSPLElegans),label='Elegans',color='orange')\n",
    "# ax.bar(6,np.mean(avgSPLWS),label='WS',color='k')\n",
    "ax.bar(7,np.mean(avgSPLNWN),label='NWN',color='red')\n",
    "ax.set_xticks([1,2,3,4,5,6,7])\n",
    "ax.set_ylabel('Avg SPL')\n",
    "\n",
    "ax.set_xticklabels(['Crossbar','Sparse Crossbar','ER','NWN Rewired','Elegans','WS','NWN'],rotation=45)\n",
    "\n",
    "ax=axes[0][1]\n",
    "# ax.bar(1,np.mean(Crossbar_dict['Mod']),label='Crossbar',color='green')\n",
    "ax.bar(2,np.mean(SparseCrossbar_dict['Mod']),label='Sparse Crossbar',color='tab:green')\n",
    "# ax.bar(3,np.mean(ER_dict['Mod']),label='ER Random',color='blue')\n",
    "ax.bar(4,np.mean(Rewired_dict['Mod']),label='ER Rewired Random',color='tab:red')\n",
    "ax.bar(5,np.mean(Elegans_dict['Mod']),label='Elegans',color='orange')\n",
    "# ax.bar(6,np.mean(WS_dict['Mod']),label='WS',color='k')\n",
    "ax.bar(7,np.mean(NWN_dict['Mod']),label='NWN',color='red')\n",
    "ax.set_xticks([1,2,3,4,5,6,7])\n",
    "ax.set_ylim(0,0.75)\n",
    "ax.set_ylabel('Modularity (q)')\n",
    "\n",
    "\n",
    "ax=axes[1][1]\n",
    "# ax.bar(1,np.mean(Crossbar_dict['SW']),label='Crossbar',color='green')\n",
    "ax.bar(2,np.mean(SparseCrossbar_dict['SW']),label='Sparse Crossbar',color='tab:green')\n",
    "# ax.bar(3,np.mean(ER_dict['SW']),label='ER Random',color='blue')\n",
    "ax.bar(4,np.mean(Rewired_dict['SW']),label='ER Rewired Random',color='tab:red')\n",
    "ax.bar(5,np.mean(Elegans_dict['SW']),label='Elegans',color='orange')\n",
    "# ax.bar(6,np.mean(WS_dict['SW']),label='WS',color='k')\n",
    "ax.bar(7,np.mean(NWN_dict['SW']),label='NWN',color='red')\n",
    "ax.set_xticks([1,2,3,4,5,6,7])\n",
    "ax.set_ylabel('Small World Propensity')\n",
    "\n",
    "ax.set_xticklabels(['Crossbar','Sparse Crossbar','ER','NWN Rewired','Elegans','WS','NWN'],rotation=45)\n",
    "\n",
    "\n",
    "ax=axes[0][2]\n",
    "ax.plot(resultElegans,'-o',label='Elegans',color='orange')\n",
    "ax.plot(resultNWN,'-o',label='NWN',color='red')\n",
    "ax.plot(resultERWIRED,'-o',label='NWN Rewired',color='tab:red')\n",
    "# ax.plot(resultER,'-o',label='ER',color='blue')\n",
    "# ax.plot(resultCrossbar,'-o',label='Crossbar',color='green')\n",
    "ax.plot(resultSparseCrossbar,'-o',label='Sparse Crossbar',color='tab:green')\n",
    "# ax.plot(resultWS,'-o',label='WS',color='k')\n",
    "\n",
    "ax.set_xlabel('Voltage')\n",
    "ax.set_xticks(np.arange(0,len(onAmp)))\n",
    "ax.set_xticklabels(onAmp)\n",
    "ax.set_ylabel('NLT')\n",
    "ax.set_ylim([0.55,0.85])\n",
    "\n",
    "ax=axes[1][2]\n",
    "# ax.plot(np.mean(resultMC_Crossbar,axis=0),'-o',label='Crossbar',color='green')\n",
    "ax.plot(resultMC_SparseCrossbar,'-o',label='Sparse Crossbar',color='tab:green')\n",
    "\n",
    "ax.plot(dfElegansMC,'-o',label='Elegans',color='orange')\n",
    "ax.plot(dfNWNMC,'-o',label='NWN',color='red')\n",
    "ax.plot(resultMC_ERWIRED,'-o',label='NWN Rewired',color='tab:red')\n",
    "# ax.plot(np.mean(resultMC_ER,axis=0),'-o',label='ER',color='blue')\n",
    "# ax.plot(np.mean(resultMC_WS,axis=0),'-o',label='WS',color='k')\n",
    "\n",
    "ax.set_xlabel('Voltage')\n",
    "ax.set_ylabel('MC')\n",
    "ax.set_xticks(np.arange(0,len(onAmp)))\n",
    "ax.set_xticklabels(onAmp)\n",
    "ax.legend()\n",
    "\n",
    "axes[2][1].axis('off')\n",
    "axes[2][2].axis('off')\n",
    "\n",
    "plt.savefig(saveFig+'GraphTheory+NetworkComparison_Elegans_NWN_ER_Crossbar_NLT+MC_10sec_300Nodes_2000Edges_AvgSPL.pdf',format='pdf',dpi=300)"
   ]
  },
  {
   "cell_type": "code",
   "execution_count": null,
   "metadata": {},
   "outputs": [],
   "source": [
    "onAmp[3]/SPLCrossbar"
   ]
  },
  {
   "cell_type": "code",
   "execution_count": null,
   "metadata": {},
   "outputs": [],
   "source": [
    "fig,axes=plt.subplots(1,1,figsize=(5,5))\n",
    "ax=axes\n",
    "ax.plot(1,(resultCrossbar[7]),'o',label='Crossbar',color='green')\n",
    "ax.plot(2,(resultSparseCrossbar[7]),'o',label='Sparse Crossbar',color='tab:green')\n",
    "ax.plot(3,(resultER[7]),'o',label='ER Random',color='blue')\n",
    "ax.plot(4,(resultERWIRED[7]),'o',label='ER Rewired Random',color='tab:blue')\n",
    "ax.plot(5,(resultElegans[7]),'o',label='Elegans',color='orange')\n",
    "ax.plot(6,(resultWS[7]),'o',label='WS',color='k')\n",
    "ax.plot(7,(resultNWN[7]),'o',label='NWN',color='red')\n",
    "\n",
    "ax.plot(1,(resultCrossbar[3]),'o',label='Crossbar',color='green',alpha=0.5)\n",
    "ax.plot(2,(resultSparseCrossbar[3]),'o',label='Sparse Crossbar',color='tab:green',alpha=0.5)\n",
    "ax.plot(3,(resultER[3]),'o',label='ER Random',color='blue',alpha=0.5)\n",
    "ax.plot(4,(resultERWIRED[3]),'o',label='ER Rewired Random',color='tab:blue',alpha=0.5)\n",
    "ax.plot(5,(resultElegans[3]),'o',label='Elegans',color='orange',alpha=0.5)\n",
    "ax.plot(6,(resultWS[3]),'o',label='WS',color='k',alpha=0.5)\n",
    "ax.plot(7,(resultNWN[3]),'o',label='NWN',color='red',alpha=0.5)\n",
    "\n",
    "ax.plot(1,(resultCrossbar[1]),'o',label='Crossbar',color='green',alpha=0.2)\n",
    "ax.plot(2,(resultSparseCrossbar[1]),'o',label='Sparse Crossbar',color='tab:green',alpha=0.2)\n",
    "ax.plot(3,(resultER[1]),'o',label='ER Random',color='blue',alpha=0.2)\n",
    "ax.plot(4,(resultERWIRED[1]),'o',label='ER Rewired Random',color='tab:blue',alpha=0.2)\n",
    "ax.plot(5,(resultElegans[1]),'o',label='Elegans',color='orange',alpha=0.2)\n",
    "ax.plot(6,(resultWS[1]),'o',label='WS',color='k',alpha=0.2)\n",
    "ax.plot(7,(resultNWN[1]),'o',label='NWN',color='red',alpha=0.2)\n",
    "\n",
    "# ax.set_ylim([0.55,0.85])\n",
    "ax.set_xticks([1,2,3,4,5,6,7])\n",
    "ax.set_ylabel('NLT')\n",
    "ax.set_xticklabels(['Crossbar','Sparse Crossbar','ER Random','ER Rewired Random','Elegans','WS','NWN'],rotation=45)"
   ]
  },
  {
   "cell_type": "code",
   "execution_count": null,
   "metadata": {},
   "outputs": [],
   "source": [
    "resultNWN"
   ]
  },
  {
   "cell_type": "code",
   "execution_count": null,
   "metadata": {},
   "outputs": [],
   "source": [
    "[avgSPLCrossbar,avgSPLSparseCrossbar,avgSPLER,avgSPLERWired,avgSPLElegans,avgSPLWS,avgSPLNWN]"
   ]
  },
  {
   "cell_type": "code",
   "execution_count": null,
   "metadata": {},
   "outputs": [],
   "source": [
    "[SPLCrossbar,SPLSparseCrossbar,SPLER,SPLERWired,SPLElegans,SPLWS,SPLNWN]"
   ]
  },
  {
   "cell_type": "code",
   "execution_count": null,
   "metadata": {},
   "outputs": [],
   "source": [
    "fig,axes=plt.subplots(3,4,figsize=(10,8),sharex=True,sharey=True)\n",
    "i=0\n",
    "fig.subplots_adjust(hspace=0.6)\n",
    "fig.subplots_adjust(wspace=0.3)\n",
    "for ax in tqdm(axes.flat):\n",
    "    if i < 11:\n",
    "        ax.set_title(str(onAmp[i]) + 'V') \n",
    "        ax.plot([avgSPLCrossbar,avgSPLSparseCrossbar,avgSPLER,avgSPLERWired,avgSPLElegans,avgSPLWS,avgSPLNWN],np.hstack([resultCrossbar[i],resultSparseCrossbar[i],resultER[i],resultERWIRED[i],resultElegans[i],resultWS[i],resultNWN[i]]),'o')#,vmin=0.55,vmax=0.85)\n",
    "        ax.set_xlabel('Average SPL')\n",
    "        ax.set_ylim([0.55,0.90])\n",
    "        ax.set_ylabel('NLT')\n",
    "#         ax.set_xlim([1,7])\n",
    "        ax.tick_params(axis='x', colors='tab:blue')\n",
    "        ax.xaxis.label.set_color('tab:blue')\n",
    "\n",
    "        ax2=ax.twiny()\n",
    "        ax2.plot([SPLCrossbar,SPLSparseCrossbar,SPLER,SPLERWired,SPLElegans,SPLWS,SPLNWN],[resultCrossbar[i],resultSparseCrossbar[i],resultER[i],resultERWIRED[i],resultElegans[i],resultWS[i],resultNWN[i]],'o',c='r')#,vmin=0.55,vmax=0.85)\n",
    "        ax2.set_xlabel('SPL (Source to Drain)')\n",
    "        ax2.set_ylim([0.55,0.90])\n",
    "#         ax2.set_xlim([3,15])\n",
    "        ax2.tick_params(axis='x', colors='red')\n",
    "        ax2.xaxis.label.set_color('red')\n",
    "\n",
    "    else:\n",
    "        ax.axis('off')\n",
    "    i=i+1\n",
    "# plt.savefig(saveLoc+'Avg SPL & Source-Drain SPL vs NLT - VSweep 300NWN Varying Modularity.pdf',format='pdf',dpi=300)"
   ]
  },
  {
   "cell_type": "code",
   "execution_count": null,
   "metadata": {},
   "outputs": [],
   "source": []
  },
  {
   "cell_type": "code",
   "execution_count": null,
   "metadata": {},
   "outputs": [],
   "source": []
  },
  {
   "cell_type": "markdown",
   "metadata": {},
   "source": [
    "### FUNCTIONAL CONNECTIVITY"
   ]
  },
  {
   "cell_type": "code",
   "execution_count": null,
   "metadata": {},
   "outputs": [],
   "source": [
    "voltNames=['0p2','0p5','0p75','1','1p25','1p5','1p75','2','3','5','10']\n",
    "nwNames4Load=['Elegans','SparseBarpartite','RewiredRandom','NWN']\n",
    "# graphs=[crossbar_graph,sparseCrossbar,erGraph,erWiredGraph,elegansGraph,WS,nwnGraph]\n",
    "nwNames4=['Elegans','SparseCrossbar','NWNRewired','NWN']\n",
    "graphs4=[elegansGraph,sparseCrossbar,erWiredGraph,nwnGraph]\n",
    "results=[resultElegans,resultMC_SparseCrossbar,resultERWIRED,resultNWN]\n",
    "resultsMC=[resultMC_Elegans,resultMC_SparseCrossbar,resultMC_ERWIRED,resultMC_NWN]"
   ]
  },
  {
   "cell_type": "code",
   "execution_count": null,
   "metadata": {},
   "outputs": [],
   "source": [
    "# dataLocNames=['Barpartite','Barpartite','Random','Random','Elegans','WS','NWN']\n",
    "dataLocNames4=['Elegans','Barpartite','Random','NWN']\n",
    "\n",
    "# dataLoc=[]\n",
    "# for i in range(len(dataLocNames)):\n",
    "#     dataLoc.append('/import/silo2/aloe8475/Documents/CODE/Data/Functional Connectivity/'+dataLocNames[i]+' Results/')\n",
    "\n",
    "dataLoc4=[]\n",
    "for i in range(len(dataLocNames4)):\n",
    "    dataLoc4.append('/import/silo2/aloe8475/Documents/CODE/Data/Functional Connectivity/'+dataLocNames4[i]+' Results/')\n",
    "\n",
    "# dataLocNWN='/import/silo2/aloe8475/Documents/CODE/Data/Functional Connectivity/NWN Results/'\n",
    "# dataLocWS='/import/silo2/aloe8475/Documents/CODE/Data/Functional Connectivity/WS Results/'\n",
    "# dataLocElegans='/import/silo2/aloe8475/Documents/CODE/Data/Functional Connectivity/Elegans Results/'"
   ]
  },
  {
   "cell_type": "code",
   "execution_count": null,
   "metadata": {},
   "outputs": [],
   "source": []
  },
  {
   "cell_type": "code",
   "execution_count": null,
   "metadata": {},
   "outputs": [],
   "source": [
    "NLT_sims=[[] for i in range(len(nwNames4Load))]\n",
    "MC_sims=[[] for i in range(len(nwNames4Load))]\n",
    "for i in range(len(nwNames4Load)):\n",
    "    for volt in tqdm(range(len(resultNWN)-1)):\n",
    "        name=dataLoc4[i]+'_NLT_Simulation_10sec'+'_'+nwNames4Load[i]+'Networks_'+voltNames[volt]+'v.pkl'\n",
    "#         name2=dataLoc4[i]+'_MC_Simulation_'+'_'+nwNames4Load[i]+'Networks_'+voltNames[volt]+'v.pkl'\n",
    "        NLT_sims[i].append(decompress_pickle(name))\n",
    "        MC_sims[i].append(decompress_pickle(name2))\n",
    "        \n",
    "# NWN_NLT_sims=[]\n",
    "# NWN_MC_sims=[]\n",
    "# for volt in tqdm(range(len(resultNWN))):\n",
    "#     name=dataLocNWN+'_NLT_Simulation_'+'_NWNNetworks_'+voltNames[volt]+'v.pkl'\n",
    "#     name2=dataLocNWN+'_MC_Simulation_'+'_NWNNetworks_'+voltNames[volt]+'v.pkl'\n",
    "#     NWN_NLT_sims.append(decompress_pickle(name))\n",
    "#     NWN_MC_sims.append(decompress_pickle(name2))"
   ]
  },
  {
   "cell_type": "code",
   "execution_count": null,
   "metadata": {},
   "outputs": [],
   "source": [
    "#Subgraph AdjMat\n",
    "\n",
    "#Threshold by conductance - when tunnelling becomes appreciable (offResistance * 10)\n",
    "\n",
    "# def getOnGraph(sims,network,edgeList,numWires):#, this_TimeStamp = 0):\n",
    "# #     edgeList = network['edge_list']\n",
    "#     adjMat = np.zeros((numWires, numWires))\n",
    "# #     set_trace()\n",
    "#     adjMat[edgeList[:,0], edgeList[:,1]] = (1/sims['JunctionResistance'][-1])>1e-06#network.junctionSwitch[this_TimeStamp,:] #CHANGE THIS TO CONDUCTANCE THRESHOLD?\n",
    "#     adjMat[edgeList[:,1], edgeList[:,0]] = (1/sims['JunctionResistance'][-1])>1e-06#network.junctionSwitch[this_TimeStamp,:] #CHANGE THIS TO CONDUCTANCE THRESHOLD?\n",
    "#     onGraph = nx.from_numpy_array(adjMat)\n",
    "#     onGraph=nx.DiGraph.to_undirected(onGraph)\n",
    "    \n",
    "#     return onGraph\n",
    "\n",
    "def getWeightedGraph(sims,network,edgeList,numWires):#, this_TimeStamp = 0):\n",
    "#     edgeList = network['edge_list']\n",
    "    adjMat = np.zeros((numWires, numWires))\n",
    "#     set_trace()\n",
    "    adjMat[edgeList[:,0], edgeList[:,1]] = sims['JunctionConductance'][-1]#network.junctionSwitch[this_TimeStamp,:] #CHANGE THIS TO CONDUCTANCE THRESHOLD?\n",
    "    adjMat[edgeList[:,1], edgeList[:,0]] = sims['JunctionConductance'][-1]#network.junctionSwitch[this_TimeStamp,:] #CHANGE THIS TO CONDUCTANCE THRESHOLD?\n",
    "    WeightedGraph = nx.from_numpy_array(adjMat)\n",
    "    WeightedGraph=nx.DiGraph.to_undirected(WeightedGraph)\n",
    "    \n",
    "    return WeightedGraph"
   ]
  },
  {
   "cell_type": "code",
   "execution_count": null,
   "metadata": {},
   "outputs": [],
   "source": [
    "sources=[[] for i in range(len(nwNames4))]\n",
    "drains=[[] for i in range(len(nwNames4))]\n",
    "sourcesMC=[[] for i in range(len(nwNames4))]\n",
    "drainsMC=[[] for i in range(len(nwNames4))]\n",
    "weightedSubGraph_NLT=[[] for i in range(len(nwNames4))]\n",
    "weightedSubGraph_MC=[[] for i in range(len(nwNames4))]\n",
    "for i in tqdm(range(len(nwNames4))):\n",
    "    for j in range(len(resultNWN)):\n",
    "            sim=NLT_sims[i][j]\n",
    "            graph=graphs4[i]\n",
    "            network=np.array(nx.adjacency_matrix(graph).todense())\n",
    "\n",
    "            sources[i].append(sim['Source'])\n",
    "            drains[i].append(sim['Drain'])\n",
    "            OGgraph=graph\n",
    "            pos=nx.kamada_kawai_layout(OGgraph)\n",
    "            numWires=graph.number_of_nodes()\n",
    "            sim['JunctionResistance']=1/sim['JunctionConductance'][-1]\n",
    "            edgeList=np.array(list(graph.edges()))\n",
    "    #         subGraph=getOnGraph(sim,network,edgeList,numWires)\n",
    "            weightedSubGraph_NLT[i].append(getWeightedGraph(sim,network,edgeList,numWires))\n",
    "    for j in range(len(resultNWN)):\n",
    "            sim=MC_sims[i][j]\n",
    "            graph=graphs4[i]\n",
    "            network=np.array(nx.adjacency_matrix(graph).todense())\n",
    "\n",
    "            sourcesMC[i].append(sim['Source'])\n",
    "            drainsMC[i].append(sim['Drain'])\n",
    "            OGgraph=graph\n",
    "            pos=nx.kamada_kawai_layout(OGgraph)\n",
    "            numWires=graph.number_of_nodes()\n",
    "            sim['JunctionResistance']=1/sim['JunctionConductance'][-1]\n",
    "            edgeList=np.array(list(graph.edges()))\n",
    "    #         subGraph=getOnGraph(sim,network,edgeList,numWires)\n",
    "            weightedSubGraph_MC[i].append(getWeightedGraph(sim,network,edgeList,numWires))"
   ]
  },
  {
   "cell_type": "code",
   "execution_count": null,
   "metadata": {},
   "outputs": [],
   "source": [
    "plt.figure(figsize=(20,3))\n",
    "plt.plot(sim['Signal'][0].signal,'-o')\n",
    "plt.xlim([0,200])"
   ]
  },
  {
   "cell_type": "code",
   "execution_count": null,
   "metadata": {},
   "outputs": [],
   "source": [
    "compressed_pickle([weightedSubGraph_MC,weightedSubGraph_NLT],saveLoc+'WeightedGraphsAllNWS_10sec')"
   ]
  },
  {
   "cell_type": "code",
   "execution_count": null,
   "metadata": {},
   "outputs": [],
   "source": [
    "[weightedSubGraph_MC,weightedSubGraph_NLT]=decompress_pickle(saveLoc+'WeightedGraphsAllNWS_10sec')"
   ]
  },
  {
   "cell_type": "code",
   "execution_count": null,
   "metadata": {},
   "outputs": [],
   "source": [
    "# sourcesMC=[]\n",
    "# drainsMC=[]\n",
    "# weightedSubGraphNWN_MC=[]\n",
    "# for k in tqdm(range(len(resultNWN))):\n",
    "#         sim=NWN_MC_sims[k]\n",
    "#         graph=nwnGraph\n",
    "#         network=np.array(nx.adjacency_matrix(graph).todense())\n",
    "    \n",
    "#         sourcesMC.append(sim['Source'])\n",
    "#         drainsMC.append(sim['Drain'])\n",
    "#         OGgraph=graph\n",
    "#         pos=nx.kamada_kawai_layout(OGgraph)\n",
    "#         numWires=graph.number_of_nodes()\n",
    "# #         sim['JunctionResistance']=1/sim['JunctionConductance']\n",
    "#         edgeList=np.array(list(graph.edges()))\n",
    "# #         subGraph=getOnGraph(sim,network,edgeList,numWires)\n",
    "#         weightedSubGraphNWN_MC.append(getWeightedGraph(sim,network,edgeList,numWires))"
   ]
  },
  {
   "cell_type": "code",
   "execution_count": null,
   "metadata": {},
   "outputs": [],
   "source": [
    "resultMC_Elegans2=np.mean(resultMC_Elegans,axis=0)"
   ]
  },
  {
   "cell_type": "code",
   "execution_count": null,
   "metadata": {},
   "outputs": [],
   "source": [
    "resultMC_WS2=np.mean(resultMC_WS,axis=0)"
   ]
  },
  {
   "cell_type": "code",
   "execution_count": null,
   "metadata": {},
   "outputs": [],
   "source": [
    "resultMC_NWN2=np.mean(resultMC_NWN,axis=0)"
   ]
  },
  {
   "cell_type": "code",
   "execution_count": null,
   "metadata": {},
   "outputs": [],
   "source": [
    "len(weightedSubGraph_NLT[0])"
   ]
  },
  {
   "cell_type": "code",
   "execution_count": null,
   "metadata": {},
   "outputs": [],
   "source": [
    "maxWeightsNLT=[]\n",
    "minWeightsNLT=[]\n",
    "maxWeightsMC=[]\n",
    "minWeightsMC=[]\n",
    "for i in range(len(weightedSubGraph_NLT)):\n",
    "    weights=[]\n",
    "    weightsMin=[]\n",
    "    for j in range(len(weightedSubGraph_NLT[i])):\n",
    "        maxNW=np.argmax(results[i][0][j])\n",
    "        minNW=np.argmin(results[i][0][j])\n",
    "        G=weightedSubGraph_NLT[i][j]\n",
    "        edges=G.edges()\n",
    "        weights1=[G[u][v]['weight'] for u,v in edges]\n",
    "        weights.append([i * 1e6 for i in (weights1)])\n",
    "    maxWeightsNLT.append(np.max(np.hstack(weights)))\n",
    "    minWeightsNLT.append(np.min(np.hstack(weights)))\n",
    "    \n",
    "    weightsMC=[]\n",
    "    weights1MC=[]\n",
    "    for j in range(len(weightedSubGraph_MC[i])):\n",
    "        maxNW=np.argmax(resultsMC[i][0][j])\n",
    "        minNW=np.argmin(resultsMC[i][0][j])\n",
    "        G=weightedSubGraph_MC[i][j]\n",
    "        edges=G.edges()\n",
    "        weights1MC.append([G[u][v]['weight'] for u,v in edges])\n",
    "        weightsMC.append([i * 1e6 for i in (weights1MC[j])])\n",
    "    if weightsMC[0]:\n",
    "        maxWeightsMC.append(np.max(np.array(weightsMC)))\n",
    "        minWeightsMC.append(np.min(np.array(weightsMC)))\n",
    "\n",
    "# minWeightsNLT=np.min(minWeightsNLT)\n",
    "# maxWeightsNLT=np.max(maxWeightsNLT)"
   ]
  },
  {
   "cell_type": "code",
   "execution_count": null,
   "metadata": {},
   "outputs": [],
   "source": [
    "minWeights=np.min(np.hstack(weights1))\n",
    "maxWeights=np.max(np.hstack(weights1))"
   ]
  },
  {
   "cell_type": "code",
   "execution_count": null,
   "metadata": {},
   "outputs": [],
   "source": [
    "import matplotlib.colors as clrs"
   ]
  },
  {
   "cell_type": "code",
   "execution_count": null,
   "metadata": {
    "scrolled": false
   },
   "outputs": [],
   "source": [
    "#### PLOT SUBGRAPHS + CURRENT OVERLAY\n",
    "#Max NLT\n",
    "fig, axes = plt.subplots(11,len(results),figsize=(15,30))\n",
    "#For each voltage,\n",
    "for i in tqdm(range(len(weightedSubGraph_NLT))):\n",
    "    for j in range(len(weightedSubGraph_NLT[i])):\n",
    "\n",
    "            #find top + bottom network\n",
    "        ax=axes[j][i]\n",
    "        G=weightedSubGraph_NLT[i][j]#current_new[i][j][maxNW]\n",
    "        edge_weights=nx.get_edge_attributes(G,'weight')\n",
    "        G.remove_edges_from((e for e, w in edge_weights.items() if w <1e-6)) #why did we choose 1e-6\n",
    "        edges=G.edges()\n",
    "    #         set_trace()\n",
    "        weights=[G[u][v]['weight'] for u,v in edges]\n",
    "#         weights=[w * 1e6 for w in (weights)]\n",
    "#         cNorm=clrs.SymLogNorm(10,vmin=minWeightsNLT,vmax=maxWeightsNLT)\n",
    "#         scalarMap = plt.cm.ScalarMappable(norm=cNorm, cmap=plt.cm.inferno)\n",
    "#         colorList=[]\n",
    "#         for k in range(len(weights)):\n",
    "#             colorVal = scalarMap.to_rgba(weights[k])\n",
    "#             colorList.append(colorVal)\n",
    "\n",
    "        OGgraph=graphs4[i]\n",
    "        #draw OG graph\n",
    "        if i==1:\n",
    "            top = nx.bipartite.sets(OGgraph)[0]\n",
    "            pos=nx.bipartite_layout(OGgraph,top)\n",
    "        else:\n",
    "            pos=nx.kamada_kawai_layout(OGgraph)\n",
    "        h=nx.draw_networkx_nodes(OGgraph,pos=pos,node_color='grey',node_size=10,ax=ax)\n",
    "        h.set_zorder(1)\n",
    "\n",
    "        if i == 0:\n",
    "            ax.set_ylabel(str(onAmp[j])+'V')\n",
    "        if j == 0:\n",
    "            ax.set_title(nwNames4[i])\n",
    "        h2=nx.draw_networkx_edges(G,pos=pos,ax=ax,edge_color=weights,edge_cmap=plt.cm.inferno,edge_vmin=minWeights,edge_vmax=maxWeights)\n",
    "    \n",
    "        if h2:\n",
    "            h2.set_norm(clrs.SymLogNorm(10))\n",
    "            h2.set_zorder(3)\n",
    "#             if j == 10 and i == 6:\n",
    "#                 plt.colorbar(h2)\n",
    "        nx.draw_networkx_nodes(G,pos=pos,nodelist=[sources[i][j][0]],node_color='#3f9b0b',node_size=120,node_shape ='*',ax=ax)\n",
    "        nx.draw_networkx_nodes(G,pos=pos,nodelist=[drains[i][j][0]],node_color='#7e1e9c',node_size=120,node_shape ='*',ax=ax)\n",
    "        ax.set_frame_on(False)\n",
    "           \n",
    "        ax.annotate('NLT = '+\"{0:.2f}\".format(results[i][0][j]),xy=(0.5,1),xycoords='axes fraction')\n",
    "        ax.set_yticks([])\n",
    "        ax.set_xticks([])\n",
    "\n",
    "    plt.savefig(saveFig+'VSweep 300NWN NetworkComparison_Elegans_NWN_ER_Crossbar - Current + Threshold Weighted Graphs 10sec_NLT.pdf',format='pdf',dpi=300)"
   ]
  },
  {
   "cell_type": "code",
   "execution_count": null,
   "metadata": {},
   "outputs": [],
   "source": [
    "#### PLOT SUBGRAPHS + CURRENT OVERLAY\n",
    "#Max NLT\n",
    "fig, axes = plt.subplots(11,len(results),figsize=(15,30))\n",
    "#For each voltage,\n",
    "for i in tqdm(range(len(weightedSubGraph_MC))):\n",
    "    for j in range(len(weightedSubGraph_MC[i])):\n",
    "\n",
    "            #find top + bottom network\n",
    "        ax=axes[j][i]\n",
    "        G=weightedSubGraph_MC[i][j]#current_new[i][j][maxNW]\n",
    "        edge_weights=nx.get_edge_attributes(G,'weight')\n",
    "        G.remove_edges_from((e for e, w in edge_weights.items() if w <1e-6))\n",
    "        edges=G.edges()\n",
    "    #         set_trace()\n",
    "        weights=[G[u][v]['weight'] for u,v in edges]\n",
    "#         weights=[w * 1e6 for w in (weights)]\n",
    "\n",
    "#         cNorm=clrs.SymLogNorm(10,vmin=minWeightsNLT,vmax=maxWeightsNLT)\n",
    "#         scalarMap = plt.cm.ScalarMappable(norm=cNorm, cmap=plt.cm.inferno)\n",
    "#         colorList=[]\n",
    "#         for k in range(len(weights)):\n",
    "#             colorVal = scalarMap.to_rgba(weights[k])\n",
    "#             colorList.append(colorVal)\n",
    "\n",
    "        OGgraph=graphs[i]\n",
    "        #draw OG graph\n",
    "        if i<2:\n",
    "            top = nx.bipartite.sets(OGgraph)[0]\n",
    "            pos=nx.bipartite_layout(OGgraph,top)\n",
    "        else:\n",
    "            pos=nx.kamada_kawai_layout(OGgraph)\n",
    "        h=nx.draw_networkx_nodes(OGgraph,pos=pos,node_color='grey',node_size=10,ax=ax)\n",
    "        h.set_zorder(1)\n",
    "\n",
    "        if i == 0:\n",
    "            ax.set_ylabel(str(onAmp[j])+'V')\n",
    "        if j == 0:\n",
    "            ax.set_title(nwNames[i])\n",
    "        h2=nx.draw_networkx_edges(G,pos=pos,ax=ax,edge_color=weights,edge_cmap=plt.cm.inferno,edge_vmin=np.min(np.array(weights1MC)),edge_vmax=np.max(np.array(weights1MC)))\n",
    "        if h2:\n",
    "            h2.set_norm(clrs.SymLogNorm(10))\n",
    "            h2.set_zorder(3)\n",
    "        nx.draw_networkx_nodes(G,pos=pos,nodelist=[sourcesMC[i][j][0]],node_color='#3f9b0b',node_size=120,node_shape ='*',ax=ax)\n",
    "        nx.draw_networkx_nodes(G,pos=pos,nodelist=[drainsMC[i][j][0]],node_color='#7e1e9c',node_size=120,node_shape ='*',ax=ax)\n",
    "        ax.set_frame_on(False)\n",
    "        ax.annotate('MC = '+\"{0:.2f}\".format(resultsMC[i][0][j]),xy=(0.5,1),xycoords='axes fraction')\n",
    "        ax.set_yticks([])\n",
    "        ax.set_xticks([])\n",
    "\n",
    "\n",
    "    plt.savefig(saveFig+'VSweep 300NWN NetworkComparison_Elegans_NWN_ER_Crossbar - Current + Threshold Weighted Graphs MC.pdf',format='pdf',dpi=300)"
   ]
  },
  {
   "cell_type": "code",
   "execution_count": null,
   "metadata": {},
   "outputs": [],
   "source": [
    "bins=np.histogram(np.hstack([degWS,degElegans,degNWN]), bins=40)[1] #get the bin edges\n",
    "\n",
    "plt.hist(degWS,bins=bins)\n",
    "plt.hist(degNWN,bins=bins,alpha=0.7)\n",
    "plt.hist(degElegans,bins=bins,alpha=0.7)\n"
   ]
  },
  {
   "cell_type": "markdown",
   "metadata": {},
   "source": [
    "### CONDUCTANCE"
   ]
  },
  {
   "cell_type": "code",
   "execution_count": null,
   "metadata": {},
   "outputs": [],
   "source": [
    "# fig,axes=plt.subplots(11,7,figsize=(15,30),sharex=True,sharey=True)\n",
    "# fig.subplots_adjust(hspace=.5)\n",
    "# fig.subplots_adjust(wspace=.3)\n",
    "\n",
    "# for i in tqdm(range(len(NLT_sims))):\n",
    "#     for j in range(len(NLT_sims[i])):\n",
    "        \n",
    "#         ax=axes[j][i]\n",
    "#         if j == 0:\n",
    "#             ax.set_title(nwNames[i])\n",
    "#         b=ax.semilogy(NLT_sims[i][j]['conductance'],c='tab:red')\n",
    "#         ax.text(0,7e-4,'NLT = '+\"{0:.2f}\".format(results[i][0][j]))\n",
    "#         ax.set_ylim([1e-8,1e-2])\n",
    "#         ax.set_ylabel('G')\n",
    "#         ax.set_xlabel('t')\n",
    "\n",
    "# plt.savefig(saveFig+'VSweep 300NWN Different Networks Conductance - NLT.pdf',format='pdf',dpi=300)\n",
    "\n",
    "fig,axes=plt.subplots(11,7,figsize=(15,30),sharex=True,sharey=True)\n",
    "fig.subplots_adjust(hspace=.5)\n",
    "fig.subplots_adjust(wspace=.3)\n",
    "\n",
    "for i in tqdm(range(len(MC_sims))):\n",
    "    for j in range(len(MC_sims[i])):\n",
    "        \n",
    "        ax=axes[j][i]\n",
    "        if j == 0:\n",
    "            ax.set_title(nwNames[i])\n",
    "        b=ax.semilogy(MC_sims[i][j]['conductance'],c='tab:red')\n",
    "        ax.text(0,7e-4,'MC = '+\"{0:.2f}\".format(resultsMC[i][0][j]))\n",
    "        ax.set_ylim([1e-8,1e-2])\n",
    "        ax.set_ylabel('G')\n",
    "        ax.set_xlabel('t')\n",
    "\n",
    "plt.savefig(saveFig+'VSweep 300NWN Different Networks Conductance - MC.pdf',format='pdf',dpi=300)"
   ]
  },
  {
   "cell_type": "markdown",
   "metadata": {},
   "source": [
    "### MULTITASK:"
   ]
  },
  {
   "cell_type": "code",
   "execution_count": null,
   "metadata": {},
   "outputs": [],
   "source": [
    "electrodes={'Elegans':[],'SparseCrossbar':[],'NWN':[],'NWNRewired':[]}\n",
    "electrodesNoise={'Elegans':[],'SparseCrossbar':[],'NWN':[],'NWNRewired':[]}"
   ]
  },
  {
   "cell_type": "code",
   "execution_count": null,
   "metadata": {},
   "outputs": [],
   "source": [
    "electrodes['Elegans']=[225,253,7,44]#[253,190,34,44]#,145]\n",
    "electrodes['SparseCrossbar']=[84,114,111,260]#[59,8,233,260]#,164]\n",
    "#Normal NWN\n",
    "# electrodes['NWN']=[138,194,48,140]#,253]#[165,97,252,140]#\n",
    "#Modular NWN\n",
    "electrodes['NWN']=[25,22,295,288]# Electrodes in each module #[25,167,132,249] # Electrodes on opposite ends\n",
    "electrodes['NWNRewired']=[168,22,6,149]#[183,185,23,59]#,103] #uncomment for extra noise"
   ]
  },
  {
   "cell_type": "code",
   "execution_count": null,
   "metadata": {},
   "outputs": [],
   "source": [
    "electrodesNoise['Elegans']=[253,190,34,44,276]\n",
    "electrodesNoise['SparseCrossbar']=[59,8,233,260,41]\n",
    "electrodesNoise['NWN']=[138,194,48,140,97]\n",
    "electrodesNoise['NWNRewired']=[183,185,23,59,165] #uncomment for extra noise"
   ]
  },
  {
   "cell_type": "code",
   "execution_count": null,
   "metadata": {},
   "outputs": [],
   "source": [
    "pos=nx.kamada_kawai_layout(elegansGraph)\n",
    "nx.draw(elegansGraph,pos=pos,with_labels=True,node_color='grey')\n",
    "nx.draw_networkx_nodes(elegansGraph,pos=pos,nodelist=[electrodes['Elegans'][0],electrodes['Elegans'][2]],node_color='green')\n",
    "nx.draw_networkx_nodes(elegansGraph,pos=pos,nodelist=[electrodes['Elegans'][1],electrodes['Elegans'][3]],node_color='red')"
   ]
  },
  {
   "cell_type": "code",
   "execution_count": null,
   "metadata": {},
   "outputs": [],
   "source": [
    "pos=nx.kamada_kawai_layout(nwnGraph)\n",
    "nx.draw(nwnGraph,pos=pos,with_labels=True,node_color='grey')\n",
    "nx.draw_networkx_nodes(nwnGraph,pos=pos,nodelist=[electrodes['NWN'][0],electrodes['NWN'][2]],node_color='green')\n",
    "nx.draw_networkx_nodes(nwnGraph,pos=pos,nodelist=[electrodes['NWN'][1],electrodes['NWN'][3]],node_color='red')"
   ]
  },
  {
   "cell_type": "code",
   "execution_count": null,
   "metadata": {},
   "outputs": [],
   "source": [
    "pos=nx.kamada_kawai_layout(erWiredGraph)\n",
    "nx.draw(erWiredGraph,pos=pos,with_labels=True,node_color='grey')\n",
    "nx.draw_networkx_nodes(erWiredGraph,pos=pos,nodelist=[electrodes['NWNRewired'][0],electrodes['NWNRewired'][2]],node_color='green')\n",
    "nx.draw_networkx_nodes(erWiredGraph,pos=pos,nodelist=[electrodes['NWNRewired'][1],electrodes['NWNRewired'][3]],node_color='red')"
   ]
  },
  {
   "cell_type": "code",
   "execution_count": null,
   "metadata": {},
   "outputs": [],
   "source": [
    "pos=nx.kamada_kawai_layout(sparseCrossbar)\n",
    "nx.draw(sparseCrossbar,pos=pos,with_labels=True,node_color='grey')\n",
    "nx.draw_networkx_nodes(sparseCrossbar,pos=pos,nodelist=[electrodes['SparseCrossbar'][0],electrodes['SparseCrossbar'][2]],node_color='green')\n",
    "nx.draw_networkx_nodes(sparseCrossbar,pos=pos,nodelist=[electrodes['SparseCrossbar'][1],electrodes['SparseCrossbar'][3]],node_color='red')"
   ]
  },
  {
   "cell_type": "code",
   "execution_count": null,
   "metadata": {},
   "outputs": [],
   "source": [
    "from random import gauss\n",
    "from pandas import Series"
   ]
  },
  {
   "cell_type": "code",
   "execution_count": null,
   "metadata": {},
   "outputs": [],
   "source": [
    "def MC_k_new(network, k = 1, node_list=[], transient = 100):\n",
    "#     node_list=n_outs#len(node_list)\n",
    "    signal = network.stimulus[0].signal[transient:]\n",
    "    wire_voltage = network.wireVoltage[transient:]\n",
    "    T, N = wire_voltage.shape\n",
    "#     node_list = np.random.choice(range(0, N), n_outs, replace = False)\n",
    "    \n",
    "    lhs = wire_voltage[k:,node_list]\n",
    "    rhs = signal[:-k]\n",
    "    try:\n",
    "        weight = np.linalg.lstsq(lhs, rhs, rcond = None)[0]\n",
    "        result = np.matmul(lhs, weight)\n",
    "        mc = (np.cov(rhs, result)[0,1])**2/(np.var(signal[k:])*np.var(result))\n",
    "        return mc\n",
    "    except:\n",
    "        return 0"
   ]
  },
  {
   "cell_type": "code",
   "execution_count": null,
   "metadata": {},
   "outputs": [],
   "source": [
    "def nonLinearTrans_specificNodes(network, targetType, nodesList, repeats = 1):\n",
    "    \"\"\"\n",
    "    targetType can be DoubleFrequency and all other possible biasType.\n",
    "    wireVoltage[T,N] can also be the first positional parameter.\n",
    "    \"\"\"\n",
    "    from edamame.core.simSettings import stimulus__\n",
    "\n",
    "    if targetType == 'DoubleFrequency':\n",
    "        target = stimulus__(network.stimulus[0].biasType, network.TimeVector, f = 2*network.stimulus[0].f).signal\n",
    "    else:\n",
    "        target = stimulus__(targetType, network.TimeVector, f = network.stimulus[0].f).signal\n",
    "        \n",
    "    wireVoltage = network.wireVoltage    \n",
    "    T, N = wireVoltage.shape\n",
    "    output = dict()\n",
    "    accuracy = np.zeros(repeats)\n",
    "    weight = np.zeros((repeats, len(nodesList)+1))\n",
    "    result = np.zeros((repeats, T))\n",
    "    \n",
    "    for i in range(repeats):\n",
    "        lhs = np.hstack((np.ones((T, 1)), wireVoltage[:,nodesList]))\n",
    "        weight[i,:] = np.linalg.lstsq(lhs, target, rcond = None)[0]\n",
    "        result[i,:] = np.dot(lhs, weight[i,:])\n",
    "        accuracy[i] = 1-getRNMSE(result[i,:], target)\n",
    "        \n",
    "    output['weight'] = np.mean(weight, axis = 0)\n",
    "    output['result'] = np.mean(result, axis = 0)\n",
    "    output['accuracy'] = np.mean(accuracy)\n",
    "    output['target'] = target\n",
    "    \n",
    "    return output "
   ]
  },
  {
   "cell_type": "code",
   "execution_count": null,
   "metadata": {},
   "outputs": [],
   "source": [
    "def get_MC_and_NLT(Graph,j,elecs,noiseOn=False,amp = 2, dt = 0.01, dur = 1, n_outs = 100, init_state = None, return_sim = False):\n",
    "    ampName=str(amp).replace('.','p')\n",
    "    f=0.5\n",
    "\n",
    "    stimulus=[]\n",
    "    stimulus.append(stimulus__(biasType='AC',onAmp=amp,TimeVector=np.arange(0,10,dt),f=f))\n",
    "    stimulus.append(stimulus__(biasType='Drain',TimeVector=np.arange(0,10,dt))) #we don't want this drain to be active during training\n",
    "    stimulus.append(stimulus__(biasType='Custom',TimeVector=np.arange(0,10,dt),customSignal=signal_expand(np.random.random(1000)*2*amp-amp, dur)))\n",
    "    stimulus.append(stimulus__(biasType='Drain',TimeVector=np.arange(0,10,dt))) #we don't want this drain to be active during training\n",
    "    #White noise\n",
    "    if noiseOn:\n",
    "        noise=[gauss(0.0, 1.0) for i in range(1000)]\n",
    "        stimulus.append(stimulus__(biasType='Custom',TimeVector=np.arange(0,10,dt),customSignal=signal_expand(noise, dur)))\n",
    "    \n",
    "    simRAND = runSim(connectivity__(graph=Graph), T = 10, dt = dt,\n",
    "                start_state =  init_state,\n",
    "                stimulus=stimulus,\n",
    "                onAmp=amp,\n",
    "                junctionMode = 'tunneling', \n",
    "                contactMode = 'preSet',\n",
    "                electrodes=elecs,\n",
    "                findFirst=False, disable_tqdm=True)\n",
    "\n",
    "    output={'JunctionConductance':simRAND.junctionConductance[-1],'JunctionVoltage':simRAND.junctionVoltage[-1],'Switch':simRAND.junctionSwitch[-1],'Source':simRAND.sources[0:2],'Drain':simRAND.drains[0:2],'Signal':simRAND.stimulus}\n",
    "    if noiseOn:\n",
    "        compressed_pickle(output,dataLoc4[j]+'NLT+MC+NOISE_Electrodes_'+'NetworkComparison_'+str(j+1)+'_'+ampName+'v.pkl')\n",
    "    else:\n",
    "        compressed_pickle(output,dataLoc4[j]+'NLT+MC_ElectrodesParallel_'+'NetworkComparison_'+str(j+1)+'_'+ampName+'v.pkl')\n",
    "\n",
    "   \n",
    "    nodesList = []\n",
    "\n",
    "    nodesList = np.array([i for i in Graph.nodes])\n",
    "    mcRAND = [MC_k_new(simRAND, l, node_list=nodesList) for l in range(dur, len(nodesList)*dur, dur)]\n",
    "    \n",
    "        \n",
    "    nwSqu =[None]*len(nodesList)\n",
    "\n",
    "    countK=0\n",
    "\n",
    "    ResultSqu = nonLinearTrans_specificNodes(simRAND,'Square',nodesList, repeats=50) #simulation, type of signal, number of nodes to sample from, number of linear regression repetitions (take avg)\n",
    "    nwSqu=ResultSqu['accuracy']\n",
    "    \n",
    "    if return_sim:\n",
    "        return np.sum(mcRAND), simRAND, nwSqu\n",
    "    else:\n",
    "        return np.sum(mcRAND),nwSqu"
   ]
  },
  {
   "cell_type": "code",
   "execution_count": null,
   "metadata": {},
   "outputs": [],
   "source": [
    "electrodes"
   ]
  },
  {
   "cell_type": "code",
   "execution_count": null,
   "metadata": {},
   "outputs": [],
   "source": [
    "nx.shortest_path_length(erWiredGraph,1,50)"
   ]
  },
  {
   "cell_type": "code",
   "execution_count": null,
   "metadata": {
    "scrolled": true
   },
   "outputs": [],
   "source": [
    "nx.shortest_path_length(erWiredGraph,electrodes['NWNRewired'][2],electrodes['NWNRewired'][3])"
   ]
  },
  {
   "cell_type": "code",
   "execution_count": null,
   "metadata": {},
   "outputs": [],
   "source": [
    "noiseOn=False #Add white noise?\n",
    "\n",
    "if noiseOn:\n",
    "    elecs=electrodesNoise\n",
    "else:\n",
    "    elecs=electrodes\n",
    "initMCNLT=[]\n",
    "for i in tqdm(range(len(onAmp))): #for each voltage\n",
    "    for j in range(len(graphs4)): #for each network type\n",
    "        initMCNLT.append(inputPacker(get_MC_and_NLT,graphs4[j],j,elecs=elecs[nwNames4[j]],noiseOn=noiseOn,amp=onAmp[i]))"
   ]
  },
  {
   "cell_type": "code",
   "execution_count": null,
   "metadata": {},
   "outputs": [],
   "source": [
    "get_MC_and_NLT(graphs4[3],3,elecs=elecs[nwNames4[3]],noiseOn=noiseOn,amp=onAmp[4])"
   ]
  },
  {
   "cell_type": "code",
   "execution_count": null,
   "metadata": {
    "scrolled": true
   },
   "outputs": [],
   "source": [
    "resultMCNLT=[None]*10\n",
    "for i in tqdm(range(10)):\n",
    "    resultMCNLT[i]=para_run(get_MC_and_NLT,initMCNLT,nCPU=10,start_method='fork')"
   ]
  },
  {
   "cell_type": "code",
   "execution_count": null,
   "metadata": {},
   "outputs": [],
   "source": [
    "MC=[]\n",
    "NLT=[]\n",
    "for i in range(len(resultMCNLT)):\n",
    "    MC.append(np.array(resultMCNLT[i]).T[0])\n",
    "    NLT.append(np.hstack(np.array(resultMCNLT[i]).T[1]))"
   ]
  },
  {
   "cell_type": "code",
   "execution_count": null,
   "metadata": {},
   "outputs": [],
   "source": [
    "MC=np.mean(MC,axis=0)\n",
    "NLT=np.mean(NLT,axis=0)"
   ]
  },
  {
   "cell_type": "code",
   "execution_count": null,
   "metadata": {},
   "outputs": [],
   "source": [
    "np.array(np.double(NLT)).reshape(11,4)"
   ]
  },
  {
   "cell_type": "code",
   "execution_count": null,
   "metadata": {},
   "outputs": [],
   "source": [
    "MC=np.array(np.double(MC)).reshape(11,4)\n",
    "NLT=np.array(np.double(NLT)).reshape(11,4)"
   ]
  },
  {
   "cell_type": "code",
   "execution_count": null,
   "metadata": {},
   "outputs": [],
   "source": [
    "cm1 = clrs.LinearSegmentedColormap.from_list(\"MyCmapName\",[\"y\",\"b\",\"r\",\"g\"])"
   ]
  },
  {
   "cell_type": "code",
   "execution_count": null,
   "metadata": {
    "scrolled": true
   },
   "outputs": [],
   "source": [
    "plt.rcParams['pdf.fonttype'] = 42\n",
    "\n",
    "fig,axes=plt.subplots(1,2,figsize=(10,4))\n",
    "fig.subplots_adjust(wspace=0.3)\n",
    "ax=axes[0]\n",
    "ax.set_title('NLT')\n",
    "a=ax.imshow(NLT,aspect='auto',cmap=plt.cm.inferno,vmin=0.55,vmax=0.8)\n",
    "ax.set_ylabel('V')\n",
    "ax.set_yticks(np.arange(0,11))\n",
    "ax.set_yticklabels(onAmp)\n",
    "ax.set_xticks([0,1,2,3])\n",
    "ax.set_xticklabels(nwNames4[0:],rotation=45)\n",
    "plt.colorbar(a,ax=ax,label='NLT')\n",
    "for (j,i),label in np.ndenumerate(NLT):\n",
    "    ax.text(i,j,np.around(label,2),ha='center',va='center',color='k')\n",
    "\n",
    "ax=axes[1]\n",
    "ax.set_title('MC')\n",
    "b=ax.imshow(MC,aspect='auto',cmap=plt.cm.inferno,vmin=0,vmax=250)\n",
    "ax.set_ylabel('V')\n",
    "ax.set_yticks(np.arange(0,11))\n",
    "ax.set_yticklabels(onAmp)\n",
    "ax.set_xticks([0,1,2,3])\n",
    "ax.set_xticklabels(nwNames4[0:],rotation=45)\n",
    "plt.colorbar(b,ax=ax,label='MC')\n",
    "for (j,i),label in np.ndenumerate(MC):\n",
    "    ax.text(i,j,np.around(label,2),ha='center',va='center',color='k')\n",
    "    \n",
    "# plt.savefig(saveFig+'Avg NLT+MC Same Sim allNodes - VSweep 300NWN Varying Modularity_2Modules.pdf',format='pdf',dpi=300)"
   ]
  },
  {
   "cell_type": "code",
   "execution_count": null,
   "metadata": {},
   "outputs": [],
   "source": [
    "plt.figure(figsize=(10,8))\n",
    "plt.scatter(NLT.T[0],(MC.T[0]),c='orange')\n",
    "plt.scatter((NLT.T[1]),(MC.T[1]),c='b')\n",
    "plt.scatter((NLT.T[2]),(MC.T[2]),c='r')\n",
    "plt.scatter((NLT.T[3]),(MC.T[3]),c='g')\n",
    "plt.xlabel('NLT')\n",
    "plt.ylabel('MC')\n",
    "plt.legend(nwNames4)\n",
    "\n",
    "plt.figure(figsize=(10,8))\n",
    "plt.scatter(np.max(NLT.T[0]),np.max(MC.T[0]),c='orange')\n",
    "plt.scatter(np.max(NLT.T[1]),np.max(MC.T[1]),c='b')\n",
    "plt.scatter(np.max(NLT.T[2]),np.max(MC.T[2]),c='r')\n",
    "plt.scatter(np.max(NLT.T[3]),np.max(MC.T[3]),c='g')\n",
    "plt.xlabel('NLT')\n",
    "plt.ylabel('MC')\n",
    "plt.legend(nwNames4)"
   ]
  },
  {
   "cell_type": "code",
   "execution_count": null,
   "metadata": {},
   "outputs": [],
   "source": [
    "maxMCval=np.max(MC)\n",
    "maxNLTval=np.max(NLT)"
   ]
  },
  {
   "cell_type": "code",
   "execution_count": null,
   "metadata": {},
   "outputs": [],
   "source": []
  },
  {
   "cell_type": "code",
   "execution_count": null,
   "metadata": {},
   "outputs": [],
   "source": [
    "#Calculate the difference between each network and the max possible performance\n",
    "\n",
    "dfMC_diffMax=[]\n",
    "for i in range(len(MC)):\n",
    "    dfMC_diffMax.append(maxMCval-MC[i])\n",
    "    \n",
    "dfNLT_diffMax=[]\n",
    "for i in range(len(NLT)):\n",
    "    dfNLT_diffMax.append(maxNLTval-NLT[i])\n"
   ]
  },
  {
   "cell_type": "code",
   "execution_count": null,
   "metadata": {},
   "outputs": [],
   "source": [
    "def normalize(column):\n",
    "    upper = column.max()\n",
    "    lower = column.min()\n",
    "    y = (column - lower)/(upper-lower)\n",
    "    return y"
   ]
  },
  {
   "cell_type": "code",
   "execution_count": null,
   "metadata": {},
   "outputs": [],
   "source": [
    "# a=normalize(pd.DataFrame(np.array(dfNLT_sumDiff)))\n",
    "# b=normalize(pd.DataFrame(np.array(dfMC_sumDiff)))\n",
    "a=normalize(np.array(dfNLT_diffMax))\n",
    "b=normalize(np.array(dfMC_diffMax))\n",
    "\n",
    "fig,axes=plt.subplots(1,2,figsize=(10,4))\n",
    "ax=axes[0]\n",
    "a1=ax.imshow(b,aspect='auto',cmap=plt.cm.viridis_r)\n",
    "cb=plt.colorbar(a1,ax=ax)\n",
    "cb.ax.invert_yaxis() \n",
    "ax.set_title('Normalized MC')\n",
    "ax.set_xticks([0,1,2,3])\n",
    "ax.set_xticklabels(nwNames4[0:],rotation=45)\n",
    "\n",
    "ax.set_ylabel('V')\n",
    "ax.set_yticks(range(0,11))\n",
    "ax.set_yticklabels(onAmp)\n",
    "cb.set_ticks(np.around(np.arange(0,1,step=0.2),1))\n",
    "cb.set_ticklabels(np.around(np.arange(0,1.1,0.2),1))\n",
    "\n",
    "\n",
    "\n",
    "for (j,i),label in np.ndenumerate(b):\n",
    "    ax.text(i,j,np.around(label,2),ha='center',va='center',color='k')\n",
    "\n",
    "\n",
    "ax=axes[1]\n",
    "b1=ax.imshow(a,aspect='auto',cmap=plt.cm.viridis_r)\n",
    "cb=plt.colorbar(b1,ax=ax)\n",
    "cb.ax.invert_yaxis() \n",
    "\n",
    "ax.set_title('Normalized NLT')\n",
    "ax.set_xticks([0,1,2,3])\n",
    "ax.set_xticklabels(nwNames4[0:],rotation=45)\n",
    "ax.set_ylabel('V')\n",
    "ax.set_yticks(range(0,11))\n",
    "ax.set_yticklabels(onAmp)\n",
    "cb.set_ticks(np.around(np.arange(0,1,step=0.2),1))\n",
    "cb.set_ticklabels(np.around(np.arange(0,1.1,0.2),1))\n",
    "\n",
    "\n",
    "for (j,i),label in np.ndenumerate(a):\n",
    "    ax.text(i,j,np.around(label,2),ha='center',va='center',color='k')\n",
    "\n",
    "plt.rcParams['pdf.fonttype'] = 42\n",
    "# plt.savefig(saveFig+'Normalized NLT and MC Max Diff allNodes - VSweep 300NWN Varying Modularity_2Modules.pdf',format='pdf',dpi=300)\n"
   ]
  },
  {
   "cell_type": "code",
   "execution_count": null,
   "metadata": {},
   "outputs": [],
   "source": [
    "normalizedDifferenceNLT_MC=(a+b)/2#/(a.T+b.T)\n",
    "# normalizedDifferenceMC_NLT=(b-a)#/(b.T+a.T)"
   ]
  },
  {
   "cell_type": "code",
   "execution_count": null,
   "metadata": {},
   "outputs": [],
   "source": [
    "import matplotlib.colors\n",
    "fig,ax=plt.subplots(1)\n",
    "plt.imshow(np.abs(normalizedDifferenceNLT_MC),aspect='auto',cmap=plt.cm.viridis_r)\n",
    "cb=plt.colorbar(label='Max Diff (NLT - MC) ',ax=ax)\n",
    "cb.ax.invert_yaxis() \n",
    "cb.set_ticks(np.arange(0,1,step=0.2))\n",
    "cb.set_ticklabels(np.arange(0,1.1,0.2))\n",
    "\n",
    "\n",
    "ax=plt.gca()\n",
    "ax.set_xticks(np.arange(0,4))\n",
    "# ax.set_xticklabels(['Integrated','1','2','3','4','Segregated','Separated'],rotation=45)\n",
    "ax.set_yticks(np.arange(0,11))\n",
    "ax.set_yticklabels(onAmp)\n",
    "ax.set_xticks([0,1,2,3])\n",
    "ax.set_xticklabels(nwNames4[0:],rotation=45)\n",
    "ax.set_ylabel('V')\n",
    "for (j,i),label in np.ndenumerate(np.abs(normalizedDifferenceNLT_MC)):\n",
    "    ax.text(i,j,np.around(label,2),ha='center',va='center',color='k')\n",
    "    \n",
    "\n",
    "plt.rcParams['pdf.fonttype'] = 42\n",
    "# plt.savefig(saveFig+'Normalized NLT + MC Max Diff allNodes - VSweep 300NWN Varying Modularity_2Modules.pdf',format='pdf',dpi=300,optimize=True)"
   ]
  },
  {
   "cell_type": "markdown",
   "metadata": {},
   "source": [
    "### Subgraph/Functional Analysis"
   ]
  },
  {
   "cell_type": "code",
   "execution_count": null,
   "metadata": {},
   "outputs": [],
   "source": [
    "MultiTask_sims=[[] for i in range(len(nwNames4))]\n",
    "for i in range(len(nwNames4)):\n",
    "    for volt in tqdm(range(len(NLT))):\n",
    "        name2=dataLoc4[i]+'NLT+MC_ElectrodesParallel_'+'NetworkComparison_'+str(i+1)+'_'+voltNames[volt]+'v.pkl'\n",
    "        MultiTask_sims[i].append(decompress_pickle(name2))"
   ]
  },
  {
   "cell_type": "code",
   "execution_count": null,
   "metadata": {},
   "outputs": [],
   "source": [
    "#Subgraph AdjMat\n",
    "\n",
    "#Threshold by conductance - when tunnelling becomes appreciable (offResistance * 10)\n",
    "\n",
    "# def getOnGraph(sims,network,edgeList,numWires):#, this_TimeStamp = 0):\n",
    "# #     edgeList = network['edge_list']\n",
    "#     adjMat = np.zeros((numWires, numWires))\n",
    "# #     set_trace()\n",
    "#     adjMat[edgeList[:,0], edgeList[:,1]] = (1/sims['JunctionResistance'])>1e-06#network.junctionSwitch[this_TimeStamp,:] #CHANGE THIS TO CONDUCTANCE THRESHOLD?\n",
    "#     adjMat[edgeList[:,1], edgeList[:,0]] = (1/sims['JunctionResistance'])>1e-06#network.junctionSwitch[this_TimeStamp,:] #CHANGE THIS TO CONDUCTANCE THRESHOLD?\n",
    "#     onGraph = nx.from_numpy_array(adjMat)\n",
    "#     onGraph=nx.DiGraph.to_undirected(onGraph)\n",
    "    \n",
    "#     return onGraph\n",
    "\n",
    "def getWeightedGraph(sims,network,edgeList,numWires):#, this_TimeStamp = 0):\n",
    "#     edgeList = network['edge_list']\n",
    "    adjMat = np.zeros((numWires, numWires))\n",
    "#     set_trace()\n",
    "    adjMat[edgeList[:,0], edgeList[:,1]] = sims['JunctionConductance']#network.junctionSwitch[this_TimeStamp,:] #CHANGE THIS TO CONDUCTANCE THRESHOLD?\n",
    "    adjMat[edgeList[:,1], edgeList[:,0]] = sims['JunctionConductance']#network.junctionSwitch[this_TimeStamp,:] #CHANGE THIS TO CONDUCTANCE THRESHOLD?\n",
    "    WeightedGraph = nx.from_numpy_array(adjMat)\n",
    "    WeightedGraph=nx.DiGraph.to_undirected(WeightedGraph)\n",
    "    \n",
    "    return WeightedGraph"
   ]
  },
  {
   "cell_type": "code",
   "execution_count": null,
   "metadata": {},
   "outputs": [],
   "source": [
    "networks4=[]\n",
    "for i in range(len(graphs4)):\n",
    "    networks4.append(np.array(nx.adjacency_matrix(graphs4[i]).todense()))"
   ]
  },
  {
   "cell_type": "code",
   "execution_count": null,
   "metadata": {},
   "outputs": [],
   "source": [
    "simulations4=np.array(MultiTask_sims).reshape(11,4)"
   ]
  },
  {
   "cell_type": "code",
   "execution_count": null,
   "metadata": {},
   "outputs": [],
   "source": [
    "len(nwNames4[0])"
   ]
  },
  {
   "cell_type": "code",
   "execution_count": null,
   "metadata": {},
   "outputs": [],
   "source": [
    "sources=[[] for i in range(len(nwNames4))]\n",
    "drains=[[] for i in range(len(nwNames4))]\n",
    "sourcesMC=[[] for i in range(len(nwNames4))]\n",
    "drainsMC=[[] for i in range(len(nwNames4))]\n",
    "weightedSubGraph=[[] for i in range(len(nwNames4))]\n",
    "for i in tqdm(range(len(nwNames4))):\n",
    "    for j in range(len(NLT)):\n",
    "            sim=MultiTask_sims[i][j]\n",
    "            graph=graphs4[i]\n",
    "            network=np.array(nx.adjacency_matrix(graph).todense())\n",
    "\n",
    "            sources[i].append(sim['Source'])\n",
    "            drains[i].append(sim['Drain'])\n",
    "            OGgraph=graph\n",
    "            pos=nx.kamada_kawai_layout(OGgraph)\n",
    "            numWires=graph.number_of_nodes()\n",
    "            sim['JunctionResistance']=1/sim['JunctionConductance']\n",
    "            edgeList=np.array(list(graph.edges()))\n",
    "    #         subGraph=getOnGraph(sim,network,edgeList,numWires)\n",
    "            weightedSubGraph[i].append(getWeightedGraph(sim,network,edgeList,numWires))"
   ]
  },
  {
   "cell_type": "code",
   "execution_count": null,
   "metadata": {},
   "outputs": [],
   "source": [
    "maxWeightsNLT=[]\n",
    "minWeightsNLT=[]\n",
    "maxWeightsMC=[]\n",
    "minWeightsMC=[]\n",
    "for i in range(len(weightedSubGraph)):\n",
    "    weights=[]\n",
    "    weightsMin=[]\n",
    "    for j in range(len(weightedSubGraph[i])):\n",
    "        maxNW=np.argmax(NLT[j][i])\n",
    "        minNW=np.argmin(NLT[j][i])\n",
    "        G=weightedSubGraph[i][j]\n",
    "        edges=G.edges()\n",
    "        weights1=[G[u][v]['weight'] for u,v in edges]\n",
    "        weights.append([i * 1e6 for i in (weights1)])\n",
    "    maxWeightsNLT.append(np.max(np.hstack(weights)))\n",
    "    minWeightsNLT.append(np.min(np.hstack(weights)))\n",
    "    \n",
    "    weightsMC=[]\n",
    "    weights1MC=[]\n",
    "    for j in range(len(weightedSubGraph[i])):\n",
    "        maxNW=np.argmax(MC[j][i])\n",
    "        minNW=np.argmin(MC[j][i])\n",
    "        G=weightedSubGraph[i][j]\n",
    "        edges=G.edges()\n",
    "        weights1MC.append([G[u][v]['weight'] for u,v in edges])\n",
    "        weightsMC.append([i * 1e6 for i in (weights1MC[j])])\n",
    "    if weightsMC[0]:\n",
    "        maxWeightsMC.append(np.max(np.array(weightsMC)))\n",
    "        minWeightsMC.append(np.min(np.array(weightsMC)))\n",
    "\n",
    "# minWeightsNLT=np.min(minWeightsNLT)\n",
    "# maxWeightsNLT=np.max(maxWeightsNLT)"
   ]
  },
  {
   "cell_type": "code",
   "execution_count": null,
   "metadata": {},
   "outputs": [],
   "source": [
    "#### PLOT SUBGRAPHS + CURRENT OVERLAY\n",
    "#Max NLT\n",
    "fig, axes = plt.subplots(11,len(NLT[0]),figsize=(10,30))\n",
    "for i in tqdm(range(len(weightedSubGraph))): #for each network\n",
    "    for j in range(len(weightedSubGraph[i])):#For each voltage\n",
    "\n",
    "            #find top + bottom network\n",
    "        ax=axes[j][i]\n",
    "        G=weightedSubGraph[i][j]#current_new[i][j][maxNW]\n",
    "        edge_weights=nx.get_edge_attributes(G,'weight')\n",
    "        G.remove_edges_from((e for e, w in edge_weights.items() if w <1e-6)) \n",
    "        edges=G.edges()\n",
    "    #         set_trace()\n",
    "        weights=[G[u][v]['weight'] for u,v in edges]\n",
    "#         weights=[w * 1e6 for w in (weights)]\n",
    "#         cNorm=clrs.SymLogNorm(10,vmin=minWeightsNLT,vmax=maxWeightsNLT)\n",
    "#         scalarMap = plt.cm.ScalarMappable(norm=cNorm, cmap=plt.cm.inferno)\n",
    "#         colorList=[]\n",
    "#         for k in range(len(weights)):\n",
    "#             colorVal = scalarMap.to_rgba(weights[k])\n",
    "#             colorList.append(colorVal)\n",
    "\n",
    "        OGgraph=graphs4[i]\n",
    "        #draw OG graph\n",
    "        if i==1:\n",
    "            top = nx.bipartite.sets(OGgraph)[0]\n",
    "            pos=nx.bipartite_layout(OGgraph,top)\n",
    "        else:\n",
    "            pos=nx.kamada_kawai_layout(OGgraph)\n",
    "        h=nx.draw_networkx_nodes(OGgraph,pos=pos,node_color='grey',node_size=10,ax=ax)\n",
    "        h.set_zorder(1)\n",
    "\n",
    "        if i == 0:\n",
    "            ax.set_ylabel(str(onAmp[j])+'V')\n",
    "        if j == 0:\n",
    "            ax.set_title(nwNames4[i])\n",
    "        h2=nx.draw_networkx_edges(G,pos=pos,ax=ax,edge_color=weights,edge_cmap=plt.cm.inferno,edge_vmin=np.min(np.array(weights1)),edge_vmax=np.max(np.array(weights1)))\n",
    "    \n",
    "        if h2:\n",
    "            h2.set_norm(clrs.SymLogNorm(10))\n",
    "            h2.set_zorder(3)\n",
    "#             if j == 10 and i == 6:\n",
    "#                 plt.colorbar(h2)\n",
    "        nx.draw_networkx_nodes(G,pos=pos,nodelist=sources[i][j],node_color='#3f9b0b',node_size=120,node_shape ='*',ax=ax)\n",
    "        nx.draw_networkx_nodes(G,pos=pos,nodelist=drains[i][j],node_color='#7e1e9c',node_size=120,node_shape ='*',ax=ax)\n",
    "        ax.set_frame_on(False)\n",
    "           \n",
    "        ax.annotate('NLT = '+\"{0:.2f}\".format(NLT[j][i]),xy=(0.5,1),xycoords='axes fraction')\n",
    "        ax.annotate('MC = '+\"{0:.2f}\".format(MC[j][i]),xy=(0.5,0.9),xycoords='axes fraction')\n",
    "        \n",
    "        ax.set_yticks([])\n",
    "        ax.set_xticks([])\n",
    "\n",
    "#     plt.savefig(saveFig+'VSweep 300NWN NetworkComparison_Elegans_NWN_ER_Crossbar - Current + Threshold Weighted Graphs NLT.pdf',format='pdf',dpi=300)"
   ]
  },
  {
   "cell_type": "code",
   "execution_count": null,
   "metadata": {},
   "outputs": [],
   "source": []
  },
  {
   "cell_type": "markdown",
   "metadata": {},
   "source": [
    "### Graph Theory For Weighted Network"
   ]
  },
  {
   "cell_type": "code",
   "execution_count": null,
   "metadata": {},
   "outputs": [],
   "source": [
    "ciElegansWeighted=[None]*11;qElegansWeighted=[None]*11;pcoeffElegansWeighted=[None]*11;mzElegansWeighted=[None]*11\n",
    "clusteringElegansWeighted=[None]*11;degElegansWeighted=[None]*11;avgDegElegansWeighted=[None]*11;SPLElegansWeighted=[None]*11\n",
    "avgSPLElegansWeighted=[None]*11;localEfficiencyElegansWeighted=[None]*11;globalEfficiencyElegansWeighted=[None]*11\n",
    "avgClusteringElegansWeighted=[None]*11\n",
    "\n",
    "ciSparseCrossbarWeighted=[None]*11;qSparseCrossbarWeighted=[None]*11;pcoeffSparseCrossbarWeighted=[None]*11;mzSparseCrossbarWeighted=[None]*11\n",
    "clusteringSparseCrossbarWeighted=[None]*11;degSparseCrossbarWeighted=[None]*11;avgDegSparseCrossbarWeighted=[None]*11\n",
    "SPLSparseCrossbarWeighted=[None]*11;avgSPLSparseCrossbarWeighted=[None]*11;localEfficiencySparseCrossbarWeighted=[None]*11;globalEfficiencySparseCrossbarWeighted=[None]*11\n",
    "avgClusteringSparseCrossbarWeighted=[None]*11\n",
    "\n",
    "ciNWNWeighted=[None]*11;qNWNWeighted=[None]*11;pcoeffNWNWeighted=[None]*11;mzNWNWeighted=[None]*11\n",
    "clusteringNWNWeighted=[None]*11;degNWNWeighted=[None]*11;avgDegNWNWeighted=[None]*11;SPLNWNWeighted=[None]*11;\n",
    "avgSPLNWNWeighted=[None]*11;localEfficiencyNWNWeighted=[None]*11;globalEfficiencyNWNWeighted=[None]*11\n",
    "avgClusteringNWNWeighted=[None]*11\n",
    "\n",
    "ciRewiredWeighted=[None]*11;qRewiredWeighted=[None]*11;pcoeffRewiredWeighted=[None]*11;mzRewiredWeighted=[None]*11\n",
    "clusteringRewiredWeighted=[None]*11;degRewiredWeighted=[None]*11;avgDegRewiredWeighted=[None]*11;SPLRewiredWeighted=[None]*11;\n",
    "avgSPLRewiredWeighted=[None]*11;localEfficiencyRewiredWeighted=[None]*11;globalEfficiencyRewiredWeighted=[None]*11\n",
    "avgClusteringRewiredWeighted=[None]*11\n",
    "\n",
    "for i in tqdm(range(len(onAmp))):\n",
    "    ciElegansWeighted[i],qElegansWeighted[i]=bct.community_louvain(np.array(nx.adjacency_matrix(weightedSubGraph[0][i]).todense()),gamma=1.1)\n",
    "    pcoeffElegansWeighted[i]=bct.participation_coef(np.squeeze(np.array(nx.adjacency_matrix(weightedSubGraph[0][i]).todense())),ciElegansWeighted[i])\n",
    "    mzElegansWeighted[i]=bct.module_degree_zscore(np.squeeze(np.array(nx.adjacency_matrix(weightedSubGraph[0][i]).todense())),ciElegansWeighted[i])\n",
    "    clusteringElegansWeighted[i]=nx.clustering(weightedSubGraph[0][i])\n",
    "    avgClusteringElegansWeighted[i]=np.mean(list(clusteringElegansWeighted[i].values()))\n",
    "    degElegansWeighted[i]=[val for (nodes,val) in weightedSubGraph[0][i].degree()]\n",
    "    avgDegElegansWeighted[i]=np.mean(degElegansWeighted[i])\n",
    "    AdjMat=nx.adjacency_matrix(weightedSubGraph[0][i]).todense()\n",
    "#     SPLElegansWeighted[i]=nx.shortest_path_length(weightedSubGraph[0][i],source=getFarthestPairing(AdjMat)[0],target=getFarthestPairing(AdjMat)[1])\n",
    "#     avgSPLElegansWeighted[i]=nx.average_shortest_path_length(weightedSubGraph[0][i])\n",
    "    localEfficiencyElegansWeighted[i]=nx.local_efficiency(weightedSubGraph[0][i])\n",
    "    globalEfficiencyElegansWeighted[i]=nx.global_efficiency(weightedSubGraph[0][i])\n",
    "\n",
    "    ciSparseCrossbarWeighted[i],qSparseCrossbarWeighted[i]=bct.community_louvain(np.array(nx.adjacency_matrix(weightedSubGraph[1][i]).todense()),gamma=1.1)\n",
    "    pcoeffSparseCrossbarWeighted[i]=bct.participation_coef(np.squeeze(np.array(nx.adjacency_matrix(weightedSubGraph[1][i]).todense())),ciSparseCrossbarWeighted[i])\n",
    "    mzSparseCrossbarWeighted[i]=bct.module_degree_zscore(np.squeeze(np.array(nx.adjacency_matrix(weightedSubGraph[1][i]).todense())),ciSparseCrossbarWeighted[i])\n",
    "    clusteringSparseCrossbarWeighted[i]=nx.clustering(weightedSubGraph[1][i])\n",
    "    avgClusteringSparseCrossbarWeighted[i]=np.mean(list(clusteringSparseCrossbarWeighted[i].values()))\n",
    "    degSparseCrossbarWeighted[i]=[val for (nodes,val) in weightedSubGraph[1][i].degree()]\n",
    "    avgDegSparseCrossbarWeighted[i]=np.mean(degSparseCrossbarWeighted[i])\n",
    "    AdjMat=nx.adjacency_matrix(weightedSubGraph[1][i]).todense()\n",
    "#     SPLElegansWeighted[i]=nx.shortest_path_length(weightedSubGraph[0][i],source=getFarthestPairing(AdjMat)[0],target=getFarthestPairing(AdjMat)[1])\n",
    "#     avgSPLElegansWeighted[i]=nx.average_shortest_path_length(weightedSubGraph[0][i])\n",
    "    localEfficiencySparseCrossbarWeighted[i]=nx.local_efficiency(weightedSubGraph[1][i])\n",
    "    globalEfficiencySparseCrossbarWeighted[i]=nx.global_efficiency(weightedSubGraph[1][i])\n",
    "\n",
    "    ciNWNWeighted[i],qNWNWeighted[i]=bct.community_louvain(np.array(nx.adjacency_matrix(weightedSubGraph[2][i]).todense()),gamma=1.1)\n",
    "    pcoeffNWNWeighted[i]=bct.participation_coef(np.squeeze(np.array(nx.adjacency_matrix(weightedSubGraph[2][i]).todense())),ciNWNWeighted[i])\n",
    "    mzNWNWeighted[i]=bct.module_degree_zscore(np.squeeze(np.array(nx.adjacency_matrix(weightedSubGraph[2][i]).todense())),ciNWNWeighted[i])\n",
    "    clusteringNWNWeighted[i]=nx.clustering(weightedSubGraph[2][i])\n",
    "    avgClusteringNWNWeighted[i]=np.mean(list(clusteringNWNWeighted[i].values()))\n",
    "    degNWNWeighted[i]=[val for (nodes,val) in weightedSubGraph[2][i].degree()]\n",
    "    avgDegNWNWeighted[i]=np.mean(degNWNWeighted[i])\n",
    "    AdjMat=nx.adjacency_matrix(weightedSubGraph[2][i]).todense()\n",
    "#     SPLElegansWeighted[i]=nx.shortest_path_length(weightedSubGraph[0][i],source=getFarthestPairing(AdjMat)[0],target=getFarthestPairing(AdjMat)[1])\n",
    "#     avgSPLElegansWeighted[i]=nx.average_shortest_path_length(weightedSubGraph[0][i])\n",
    "    localEfficiencyNWNWeighted[i]=nx.local_efficiency(weightedSubGraph[2][i])\n",
    "    globalEfficiencyNWNWeighted[i]=nx.global_efficiency(weightedSubGraph[2][i])\n",
    "\n",
    "    ciRewiredWeighted[i],qRewiredWeighted[i]=bct.community_louvain(np.array(nx.adjacency_matrix(weightedSubGraph[3][i]).todense()),gamma=1.1)\n",
    "    pcoeffRewiredWeighted[i]=bct.participation_coef(np.squeeze(np.array(nx.adjacency_matrix(weightedSubGraph[3][i]).todense())),ciRewiredWeighted[i])\n",
    "    mzRewiredWeighted[i]=bct.module_degree_zscore(np.squeeze(np.array(nx.adjacency_matrix(weightedSubGraph[3][i]).todense())),ciRewiredWeighted[i])\n",
    "    clusteringRewiredWeighted[i]=nx.clustering(weightedSubGraph[3][i])\n",
    "    avgClusteringRewiredWeighted[i]=np.mean(list(clusteringRewiredWeighted[i].values()))\n",
    "    degRewiredWeighted[i]=[val for (nodes,val) in weightedSubGraph[3][i].degree()]\n",
    "    avgDegRewiredWeighted[i]=np.mean(degRewiredWeighted[i])\n",
    "    AdjMat=nx.adjacency_matrix(weightedSubGraph[3][i]).todense()\n",
    "#     SPLElegansWeighted[i]=nx.shortest_path_length(weightedSubGraph[0][i],source=getFarthestPairing(AdjMat)[0],target=getFarthestPairing(AdjMat)[1])\n",
    "#     avgSPLElegansWeighted[i]=nx.average_shortest_path_length(weightedSubGraph[0][i])\n",
    "    localEfficiencyRewiredWeighted[i]=nx.local_efficiency(weightedSubGraph[3][i])\n",
    "    globalEfficiencyRewiredWeighted[i]=nx.global_efficiency(weightedSubGraph[3][i])\n"
   ]
  },
  {
   "cell_type": "code",
   "execution_count": null,
   "metadata": {},
   "outputs": [],
   "source": [
    "a=plt.scatter(qElegansWeighted,NLT.T[0])\n",
    "b=plt.scatter(qSparseCrossbarWeighted,NLT.T[1])\n",
    "c=plt.scatter(qNWNWeighted,NLT.T[2])\n",
    "d=plt.scatter(qRewiredWeighted,NLT.T[3])\n",
    "plt.ylabel('NLT')\n",
    "plt.xlabel('Weighted Modularity')\n",
    "plt.legend([a,b,c,d],nwNames4)"
   ]
  },
  {
   "cell_type": "code",
   "execution_count": null,
   "metadata": {},
   "outputs": [],
   "source": [
    "a=plt.scatter(avgClusteringElegansWeighted,NLT.T[0])\n",
    "b=plt.scatter(avgClusteringSparseCrossbarWeighted,NLT.T[1])\n",
    "c=plt.scatter(avgClusteringNWNWeighted,NLT.T[2])\n",
    "d=plt.scatter(avgClusteringRewiredWeighted,NLT.T[3])\n",
    "plt.ylabel('NLT')\n",
    "plt.xlabel('Weighted Avg Clustering')\n",
    "plt.legend([a,b,c,d],nwNames4)"
   ]
  },
  {
   "cell_type": "code",
   "execution_count": null,
   "metadata": {},
   "outputs": [],
   "source": [
    "a=plt.scatter(avgDegElegansWeighted,NLT.T[0])\n",
    "b=plt.scatter(avgDegSparseCrossbarWeighted,NLT.T[1])\n",
    "c=plt.scatter(avgDegNWNWeighted,NLT.T[2])\n",
    "d=plt.scatter(avgDegRewiredWeighted,NLT.T[3])\n",
    "plt.ylabel('NLT')\n",
    "plt.xlabel('Weighted Avg Degree')\n",
    "plt.legend([a,b,c,d],nwNames4)"
   ]
  },
  {
   "cell_type": "code",
   "execution_count": null,
   "metadata": {},
   "outputs": [],
   "source": []
  }
 ],
 "metadata": {
  "kernelspec": {
   "display_name": "Python 3",
   "language": "python",
   "name": "python3"
  }
 },
 "nbformat": 4,
 "nbformat_minor": 2
}
