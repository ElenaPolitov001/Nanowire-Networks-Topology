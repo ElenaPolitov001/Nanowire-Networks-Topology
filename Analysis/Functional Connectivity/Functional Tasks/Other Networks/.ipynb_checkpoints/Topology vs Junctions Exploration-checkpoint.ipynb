{
 "cells": [
  {
   "cell_type": "code",
   "execution_count": 85,
   "metadata": {},
   "outputs": [],
   "source": [
    "import sys\n",
    "sys.path.append('/import/silo2/aloe8475/Documents/edamame')"
   ]
  },
  {
   "cell_type": "code",
   "execution_count": 5,
   "metadata": {},
   "outputs": [],
   "source": [
    "from scipy.io import loadmat, savemat\n",
    "from scipy.stats import kurtosis, skew\n",
    "\n",
    "import numpy as np\n",
    "import matplotlib.pyplot as plt\n",
    "from matplotlib import colors\n",
    "import datetime\n",
    "import networkx as nx\n",
    "from edamame import *\n",
    "from tqdm.notebook import tqdm_notebook as tqdm\n",
    "import os\n",
    "import edamame.core.wires as wires\n",
    "from random import choice\n",
    "from IPython.core.debugger import set_trace\n",
    "# import nct\n",
    "import bct\n",
    "\n",
    "import pickle \n",
    "import _pickle as cPickle\n",
    "import gzip\n",
    "def compressed_pickle(obj, filename,protocol=-1):\n",
    "    with gzip.open(filename, 'wb') as f:\n",
    "        cPickle.dump(obj, f, protocol)\n",
    "def decompress_pickle(file):\n",
    "    with gzip.open(file, 'rb') as f:\n",
    "        loaded_object = cPickle.load(f)\n",
    "        return loaded_object"
   ]
  },
  {
   "cell_type": "code",
   "execution_count": 15,
   "metadata": {},
   "outputs": [],
   "source": [
    "dataLoc='/import/silo2/aloe8475/Documents/CODE/Data/Functional Connectivity/Hierarchical Results/VSweep/'\n",
    "saveFig='/import/silo2/aloe8475/Documents/CODE/Data/Figures/Functional Connectivity/'\n"
   ]
  },
  {
   "cell_type": "code",
   "execution_count": 224,
   "metadata": {},
   "outputs": [],
   "source": [
    "def nonLinearTrans_specificNodes(network, targetType, nodesList, repeats = 1,time=10,dt=1e-3):\n",
    "    \"\"\"\n",
    "    targetType can be DoubleFrequency and all other possible biasType.\n",
    "    wireVoltage[T,N] can also be the first positional parameter.\n",
    "    \"\"\"\n",
    "    from edamame.core.simSettings import stimulus__\n",
    "\n",
    "    if targetType == 'DoubleFrequency':\n",
    "        target = stimulus__(network.stimulus[0].biasType, network.TimeVector, f = 2*network.stimulus[0].f).signal\n",
    "    else:\n",
    "        target = stimulus__(targetType, dt=dt,T=time, f = network.stimulus[0].f).signal\n",
    "    wireVoltage = network.wireVoltage    \n",
    "    T, N = wireVoltage.shape\n",
    "    output = dict()\n",
    "    accuracy = np.zeros(repeats)\n",
    "    weight = np.zeros((repeats, len(nodesList)+1))\n",
    "    result = np.zeros((repeats, T))\n",
    "    for i in range(repeats):\n",
    "        lhs = np.hstack((np.ones((T, 1)), wireVoltage[:,nodesList]))\n",
    "        weight[i,:] = np.linalg.lstsq(lhs, target, rcond = None)[0]\n",
    "#         set_trace()\n",
    "        result[i,:] = np.dot(lhs, weight[i,:])\n",
    "        accuracy[i] = 1-getRNMSE(result[i,:], target)\n",
    "        \n",
    "    output['weight'] = np.mean(weight, axis = 0)\n",
    "    output['result'] = np.mean(result, axis = 0)\n",
    "    output['accuracy'] = np.mean(accuracy)\n",
    "    output['target'] = target\n",
    "    \n",
    "    return output "
   ]
  },
  {
   "cell_type": "code",
   "execution_count": 73,
   "metadata": {},
   "outputs": [],
   "source": [
    "def MC_k_new(network, k = 1, node_list=[], transient = 100):\n",
    "#     node_list=n_outs#len(node_list)\n",
    "    signal = network.stimulus[0].signal[transient:]\n",
    "    wire_voltage = network.wireVoltage[transient:]\n",
    "    T, N = wire_voltage.shape\n",
    "#     node_list = np.random.choice(range(0, N), n_outs, replace = False)\n",
    "    \n",
    "    lhs = wire_voltage[k:,node_list]\n",
    "    rhs = signal[:-k]\n",
    "    try:\n",
    "        weight = np.linalg.lstsq(lhs, rhs, rcond = None)[0]\n",
    "        result = np.matmul(lhs, weight)\n",
    "        mc = (np.cov(rhs, result)[0,1])**2/(np.var(signal[k:])*np.var(result))\n",
    "        return mc\n",
    "    except:\n",
    "        return 0"
   ]
  },
  {
   "cell_type": "code",
   "execution_count": 6,
   "metadata": {},
   "outputs": [],
   "source": [
    "def nonlineartransRewired(j,k,amp=2):\n",
    "    ampName=str(amp).replace('.','p')\n",
    "    Connectivity=decompress_pickle(dataLoc+'NWN_Network_Hierarchical_Rewired_'+str(j+1)+'_'+str(k+1)+'.pkl')\n",
    "    Graph= nx.from_numpy_matrix(Connectivity.adj_matrix)\n",
    "    \n",
    "    stimulus=[]\n",
    "    dt = 1e-3\n",
    "    f=0.5\n",
    "    Time=10\n",
    "\n",
    "    #Choose Electrode Pattern\n",
    "\n",
    "    stimulus.append((stimulus__(biasType='AC',onAmp=amp,T=Time,dt=dt,f=f)))\n",
    "    stimulus.append((stimulus__(biasType='Drain',T=Time,dt=dt))) #we don't want this drain to be active during training\n",
    "    \n",
    "    results_minMax=runSim(connectivity__(graph=Graph),stimulus=stimulus, contactMode='farthest',T = Time, dt = dt, onAmp = amp, biasType='AC',f=f,junctionMode='tunneling',findFirst=False)\n",
    "    \n",
    "#     results={'JunctionConductance':results_minMax.junctionConductance[-1],'JunctionVoltage':results_minMax.junctionVoltage[-1],'Switch':results_minMax.junctionSwitch[-1],'Source':results_minMax.sources[0:2],'Drain':results_minMax.drains[0:2],'Signal':results_minMax.stimulus,'conductance':results_minMax.conductance}\n",
    "#     compressed_pickle(results,dataLoc+'_NLT_Simulation_'+'_2modules_Rewired_Network_'+str(j+1)+'_'+str(k+1)+'_'+ampName+'v.pkl')\n",
    "\n",
    "    results_minMax.frequency=f\n",
    "    results_minMax.dt=dt\n",
    "    period=1/f\n",
    "    \n",
    "    nodesList = np.array([i for i in Graph.nodes]) #if we want to measure from all nodes\n",
    "    \n",
    "#     if elecs[0] in module1:   #if the NLT electrode is in module one, we only want to sample from those nodes\n",
    "#         nodesList=module1 #only want nodes in first module\n",
    "#     else:\n",
    "#         nodesList=module2\n",
    "        \n",
    "    ResultSqu = nonLinearTrans_specificNodes(results_minMax,'Square',nodesList, repeats=50) #simulation, type of signal, number of nodes to sample from, number of linear regression repetitions (take avg)\n",
    "    nwSqu=ResultSqu['accuracy']\n",
    "        \n",
    "    return nwSqu\n"
   ]
  },
  {
   "cell_type": "code",
   "execution_count": 251,
   "metadata": {},
   "outputs": [],
   "source": [
    "def get_MC_VoltsweepRewired(j,k,amp = 2, T=10, dt = 0.01, dur = 1, n_outs = 100, init_state = None, return_sim = False):\n",
    "    ampName=str(amp).replace('.','p')\n",
    "    \n",
    "    Connectivity=decompress_pickle(dataLoc+'NWN_Network_Hierarchical_Rewired_'+str(j+1)+'_'+str(k+1)+'.pkl')\n",
    "    Graph= nx.from_numpy_matrix(Connectivity.adj_matrix)\n",
    "    \n",
    "    stimulus=[]\n",
    "    stimulus.append(stimulus__(biasType='Custom',T=T,dt=1e-3,customSignal=signal_expand(np.random.random(int(T/dt))*2*amp-amp, dur)))\n",
    "    stimulus.append(stimulus__(biasType='Drain',T=T,dt=1e-3)) #we don't want this drain to be active during training\n",
    "    simRAND = runSim(connectivity__(graph=Graph), T = T, dt = 1e-3,\n",
    "                stimulus=stimulus,\n",
    "                biasType = 'Custom', customSignal = signal_expand(np.random.random(int(T/dt))*2*amp-amp, dur), \n",
    "                junctionMode = 'tunneling', \n",
    "#                 electrodes=elecs[-2:],\n",
    "                contactMode = 'farthest',\n",
    "                findFirst=False, disable_tqdm=False)    \n",
    "    \n",
    "    nodesList = np.array([i for i in Graph.nodes]) #if we want to measure from all nodes\n",
    "    \n",
    "#     results={'JunctionConductance':simRAND.junctionConductance[-1],'JunctionVoltage':simRAND.junctionVoltage[-1],'Switch':simRAND.junctionSwitch[-1],'Source':simRAND.sources[0:2],'Drain':simRAND.drains[0:2],'Signal':simRAND.stimulus,'conductance':simRAND.conductance}\n",
    "#     compressed_pickle(results,dataLoc+'_MC_Simulation_'+'_2modules_Rewired_Network_'+str(j+1)+'_'+str(k+1)+'_'+ampName+'v.pkl')\n",
    "\n",
    "    mcRAND = [MC_k_new(simRAND, m, node_list=nodesList) for m in range(dur, len(nodesList)*dur, dur)]\n",
    "    \n",
    "    if return_sim:\n",
    "        return np.sum(mcRAND), simRAND, Graph, dur\n",
    "    else:\n",
    "        return np.sum(mcRAND)"
   ]
  },
  {
   "cell_type": "code",
   "execution_count": 21,
   "metadata": {},
   "outputs": [],
   "source": [
    "temp=loadmat(dataLoc+'Rewired_Hierarchical_2x3.mat')\n",
    "adj=temp['adj']"
   ]
  },
  {
   "cell_type": "code",
   "execution_count": 28,
   "metadata": {},
   "outputs": [],
   "source": [
    "graph=[[None]*len(adj[0]) for i in range(len(adj))]\n",
    "for i in range(len(adj)):\n",
    "    for j in range(len(adj[i])):\n",
    "        graph[i][j]=nx.from_numpy_array(np.array(adj[i][j].todense()))"
   ]
  },
  {
   "cell_type": "code",
   "execution_count": 34,
   "metadata": {},
   "outputs": [
    {
     "data": {
      "application/vnd.jupyter.widget-view+json": {
       "model_id": "c902acec344240ca893b6466c2136fca",
       "version_major": 2,
       "version_minor": 0
      },
      "text/plain": [
       "  0%|          | 0/10 [00:00<?, ?it/s]"
      ]
     },
     "metadata": {},
     "output_type": "display_data"
    }
   ],
   "source": [
    "# avgSPL=[];SPLsource_drain=[]\n",
    "density=[]\n",
    "for i in tqdm(range(len(graph))):\n",
    "    for j in range(len(graph[i])):\n",
    "        density.append(nx.density(graph[i][j]))\n",
    "#         avgSPL.append(nx.average_shortest_path_length(graph[i][j]))\n",
    "#         elecs=getFarthestPairing(nx.adjacency_matrix(graph[i][j]).todense())\n",
    "#         SPLsource_drain.append(nx.shortest_path(graph[i][j],elecs[0],elecs[1]))"
   ]
  },
  {
   "cell_type": "code",
   "execution_count": 36,
   "metadata": {},
   "outputs": [],
   "source": [
    "SPLlength_source_drain=[]\n",
    "for i in range(len(SPLsource_drain)):\n",
    "    SPLlength_source_drain.append(len(SPLsource_drain[i]))\n",
    "SPLlength_source_drain=np.array(SPLlength_source_drain).reshape(10,6)\n",
    "avgSPL=np.array(avgSPL).reshape(10,6)\n",
    "density=np.array(density).reshape(10,6)"
   ]
  },
  {
   "cell_type": "code",
   "execution_count": 58,
   "metadata": {},
   "outputs": [
    {
     "data": {
      "text/plain": [
       "<matplotlib.colorbar.Colorbar at 0x7f852976a9e8>"
      ]
     },
     "execution_count": 58,
     "metadata": {},
     "output_type": "execute_result"
    },
    {
     "data": {
      "image/png": "[encoded data removed]",
      "text/plain": [
       "<Figure size 720x360 with 4 Axes>"
      ]
     },
     "metadata": {
      "needs_background": "light"
     },
     "output_type": "display_data"
    }
   ],
   "source": [
    "fig,axes=plt.subplots(1,2,figsize=(10,5))\n",
    "ax=axes[0]\n",
    "a=ax.imshow(SPLlength_source_drain,aspect='auto')\n",
    "ax.set_ylabel('Network ID')\n",
    "ax.set_xlabel('Hierarchical --> Random')\n",
    "\n",
    "plt.colorbar(a,label='Path Length Source to Drain',ax=ax)\n",
    "ax=axes[1]\n",
    "b=ax.imshow(avgSPL,aspect='auto')\n",
    "ax.set_ylabel('Network ID')\n",
    "ax.set_xlabel('Hierarchical --> Random')\n",
    "\n",
    "plt.colorbar(b,label='Avg Path Length',ax=ax)"
   ]
  },
  {
   "cell_type": "code",
   "execution_count": 90,
   "metadata": {},
   "outputs": [],
   "source": [
    "onAmp=[0.2,0.5,0.75,1,1.25,1.5,1.75,2,3,5,10]\n",
    "numNetworks=10"
   ]
  },
  {
   "cell_type": "code",
   "execution_count": 254,
   "metadata": {},
   "outputs": [
    {
     "data": {
      "application/vnd.jupyter.widget-view+json": {
       "model_id": "bc928bb73ff7466bb30aa2dd83fead11",
       "version_major": 2,
       "version_minor": 0
      },
      "text/plain": [
       "  0%|          | 0/11 [00:00<?, ?it/s]"
      ]
     },
     "metadata": {},
     "output_type": "display_data"
    }
   ],
   "source": [
    "dts=[0.01]\n",
    "initMC=[]\n",
    "for i in tqdm(range(len(onAmp))): #for each voltage\n",
    "    for j in range(numNetworks): #for each network\n",
    "        for k in [0,5]:#for no rewiring, or fully rewired  \n",
    "            for l in range(len(dts)):\n",
    "                initMC.append(inputPacker(get_MC_VoltsweepRewired,j,k,amp=onAmp[i],dt=dts[l],dur=int(dts[l]/1e-3)))"
   ]
  },
  {
   "cell_type": "code",
   "execution_count": 255,
   "metadata": {},
   "outputs": [
    {
     "name": "stderr",
     "output_type": "stream",
     "text": [
      "Running Simulation : 100%|██████████| 10000/10000 [01:54<00:00, 87.64it/s]\n"
     ]
    },
    {
     "data": {
      "text/plain": [
       "1.910224686025972"
      ]
     },
     "execution_count": 255,
     "metadata": {},
     "output_type": "execute_result"
    }
   ],
   "source": [
    "get_MC_VoltsweepRewired(*initMC[0])"
   ]
  },
  {
   "cell_type": "code",
   "execution_count": 91,
   "metadata": {
    "scrolled": true
   },
   "outputs": [
    {
     "data": {
      "application/vnd.jupyter.widget-view+json": {
       "model_id": "0734dbd298bc4d0fa3a59d48b4b0d225",
       "version_major": 2,
       "version_minor": 0
      },
      "text/plain": [
       "  0%|          | 0/10 [00:00<?, ?it/s]"
      ]
     },
     "metadata": {},
     "output_type": "display_data"
    },
    {
     "data": {
      "application/vnd.jupyter.widget-view+json": {
       "model_id": "adcd00bf5fac416a9624dc7fa45271f6",
       "version_major": 2,
       "version_minor": 0
      },
      "text/plain": [
       "  0%|          | 0/440 [00:00<?, ?it/s]"
      ]
     },
     "metadata": {},
     "output_type": "display_data"
    },
    {
     "data": {
      "application/vnd.jupyter.widget-view+json": {
       "model_id": "41d36939eb5e4a04926954dd14756b58",
       "version_major": 2,
       "version_minor": 0
      },
      "text/plain": [
       "  0%|          | 0/440 [00:00<?, ?it/s]"
      ]
     },
     "metadata": {},
     "output_type": "display_data"
    },
    {
     "data": {
      "application/vnd.jupyter.widget-view+json": {
       "model_id": "2a866cf0842b43dab874273cf67eafc5",
       "version_major": 2,
       "version_minor": 0
      },
      "text/plain": [
       "  0%|          | 0/440 [00:00<?, ?it/s]"
      ]
     },
     "metadata": {},
     "output_type": "display_data"
    },
    {
     "data": {
      "application/vnd.jupyter.widget-view+json": {
       "model_id": "2b98b4b2a7a04c51bf6bb62e2b428bf1",
       "version_major": 2,
       "version_minor": 0
      },
      "text/plain": [
       "  0%|          | 0/440 [00:00<?, ?it/s]"
      ]
     },
     "metadata": {},
     "output_type": "display_data"
    },
    {
     "data": {
      "application/vnd.jupyter.widget-view+json": {
       "model_id": "3aaaf4f9c4894ed0b8673acde2dd3275",
       "version_major": 2,
       "version_minor": 0
      },
      "text/plain": [
       "  0%|          | 0/440 [00:00<?, ?it/s]"
      ]
     },
     "metadata": {},
     "output_type": "display_data"
    },
    {
     "data": {
      "application/vnd.jupyter.widget-view+json": {
       "model_id": "28d678c0dcb54324b7ac0391f5541102",
       "version_major": 2,
       "version_minor": 0
      },
      "text/plain": [
       "  0%|          | 0/440 [00:00<?, ?it/s]"
      ]
     },
     "metadata": {},
     "output_type": "display_data"
    },
    {
     "data": {
      "application/vnd.jupyter.widget-view+json": {
       "model_id": "3a3ab88c1bfe46ea88c48297a478544b",
       "version_major": 2,
       "version_minor": 0
      },
      "text/plain": [
       "  0%|          | 0/440 [00:00<?, ?it/s]"
      ]
     },
     "metadata": {},
     "output_type": "display_data"
    },
    {
     "data": {
      "application/vnd.jupyter.widget-view+json": {
       "model_id": "ecb0ed15aa0843f2be2acc67ca717d47",
       "version_major": 2,
       "version_minor": 0
      },
      "text/plain": [
       "  0%|          | 0/440 [00:00<?, ?it/s]"
      ]
     },
     "metadata": {},
     "output_type": "display_data"
    },
    {
     "data": {
      "application/vnd.jupyter.widget-view+json": {
       "model_id": "2f88882820664fcfbcea93732ab01a09",
       "version_major": 2,
       "version_minor": 0
      },
      "text/plain": [
       "  0%|          | 0/440 [00:00<?, ?it/s]"
      ]
     },
     "metadata": {},
     "output_type": "display_data"
    },
    {
     "data": {
      "application/vnd.jupyter.widget-view+json": {
       "model_id": "07345e86583e48419aa348b0d3c95c82",
       "version_major": 2,
       "version_minor": 0
      },
      "text/plain": [
       "  0%|          | 0/440 [00:00<?, ?it/s]"
      ]
     },
     "metadata": {},
     "output_type": "display_data"
    }
   ],
   "source": [
    "resultMC=[]\n",
    "for i in tqdm(range(10)):\n",
    "    resultMC.append(para_run(get_MC_VoltsweepRewired,initMC,nCPU=10,start_method='fork'))"
   ]
  },
  {
   "cell_type": "code",
   "execution_count": 92,
   "metadata": {},
   "outputs": [],
   "source": [
    "compressed_pickle(resultMC,dataLoc+'DTexploration_data.pkl')"
   ]
  },
  {
   "cell_type": "code",
   "execution_count": 148,
   "metadata": {},
   "outputs": [],
   "source": [
    "avgResultMC=np.mean(resultMC,axis=0)"
   ]
  },
  {
   "cell_type": "code",
   "execution_count": 149,
   "metadata": {},
   "outputs": [],
   "source": [
    "avgResultMC=avgResultMC#dt, #mod, #nwnum, #voltage"
   ]
  },
  {
   "cell_type": "code",
   "execution_count": 173,
   "metadata": {},
   "outputs": [],
   "source": [
    "dt1=avgResultMC[::2]\n",
    "dt2=avgResultMC[1::2]"
   ]
  },
  {
   "cell_type": "code",
   "execution_count": 202,
   "metadata": {},
   "outputs": [],
   "source": [
    "dt2seg=dt2[::2].reshape(11,10)\n",
    "dt1seg=dt1[::2].reshape(11,10)\n",
    "dt2int=dt2[1::2].reshape(11,10)\n",
    "dt1int=dt1[1::2].reshape(11,10)"
   ]
  },
  {
   "cell_type": "code",
   "execution_count": 212,
   "metadata": {},
   "outputs": [
    {
     "data": {
      "text/plain": [
       "<matplotlib.colorbar.Colorbar at 0x7f852160ce10>"
      ]
     },
     "execution_count": 212,
     "metadata": {},
     "output_type": "execute_result"
    },
    {
     "data": {
      "image/png": "[encoded data removed]",
      "text/plain": [
       "<Figure size 432x288 with 2 Axes>"
      ]
     },
     "metadata": {
      "needs_background": "light"
     },
     "output_type": "display_data"
    }
   ],
   "source": [
    "plt.imshow(dt2seg,aspect='auto',vmin=0,vmax=500)\n",
    "plt.colorbar()"
   ]
  },
  {
   "cell_type": "code",
   "execution_count": 213,
   "metadata": {},
   "outputs": [
    {
     "data": {
      "text/plain": [
       "<matplotlib.colorbar.Colorbar at 0x7f85215ab908>"
      ]
     },
     "execution_count": 213,
     "metadata": {},
     "output_type": "execute_result"
    },
    {
     "data": {
      "image/png": "[encoded data removed]",
      "text/plain": [
       "<Figure size 432x288 with 2 Axes>"
      ]
     },
     "metadata": {
      "needs_background": "light"
     },
     "output_type": "display_data"
    }
   ],
   "source": [
    "plt.imshow(dt2int,aspect='auto',vmin=0,vmax=500)\n",
    "plt.colorbar()"
   ]
  },
  {
   "cell_type": "code",
   "execution_count": 214,
   "metadata": {},
   "outputs": [
    {
     "data": {
      "text/plain": [
       "<matplotlib.colorbar.Colorbar at 0x7f85214ca400>"
      ]
     },
     "execution_count": 214,
     "metadata": {},
     "output_type": "execute_result"
    },
    {
     "data": {
      "image/png": "[encoded data removed]",
      "text/plain": [
       "<Figure size 432x288 with 2 Axes>"
      ]
     },
     "metadata": {
      "needs_background": "light"
     },
     "output_type": "display_data"
    }
   ],
   "source": [
    "plt.imshow(dt1seg,aspect='auto',vmin=0,vmax=500)\n",
    "plt.colorbar()"
   ]
  },
  {
   "cell_type": "code",
   "execution_count": 216,
   "metadata": {},
   "outputs": [
    {
     "data": {
      "text/plain": [
       "<matplotlib.colorbar.Colorbar at 0x7f85213809b0>"
      ]
     },
     "execution_count": 216,
     "metadata": {},
     "output_type": "execute_result"
    },
    {
     "data": {
      "image/png": "[encoded data removed]",
      "text/plain": [
       "<Figure size 432x288 with 2 Axes>"
      ]
     },
     "metadata": {
      "needs_background": "light"
     },
     "output_type": "display_data"
    }
   ],
   "source": [
    "plt.imshow(dt1int,aspect='auto',vmin=0,vmax=500)\n",
    "plt.colorbar()"
   ]
  },
  {
   "cell_type": "code",
   "execution_count": null,
   "metadata": {},
   "outputs": [],
   "source": []
  }
 ],
 "metadata": {
  "kernelspec": {
   "display_name": "Python 3",
   "language": "python",
   "name": "python3"
  },
  "language_info": {
   "codemirror_mode": {
    "name": "ipython",
    "version": 3
   },
   "file_extension": ".py",
   "mimetype": "text/x-python",
   "name": "python",
   "nbconvert_exporter": "python",
   "pygments_lexer": "ipython3",
   "version": "3.7.3"
  }
 },
 "nbformat": 4,
 "nbformat_minor": 2
}
