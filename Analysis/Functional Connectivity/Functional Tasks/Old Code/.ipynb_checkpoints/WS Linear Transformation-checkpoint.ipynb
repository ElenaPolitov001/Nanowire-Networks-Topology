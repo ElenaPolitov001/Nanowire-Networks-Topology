{
 "cells": [
  {
   "cell_type": "code",
   "execution_count": 2,
   "metadata": {},
   "outputs": [
    {
     "name": "stdout",
     "output_type": "stream",
     "text": [
      "/suphys/aloe8475\n"
     ]
    }
   ],
   "source": [
    "cd \"/suphys/aloe8475\"\n"
   ]
  },
  {
   "cell_type": "code",
   "execution_count": 3,
   "metadata": {},
   "outputs": [
    {
     "name": "stdout",
     "output_type": "stream",
     "text": [
      "/import/silo2/aloe8475/Documents/edamame\n"
     ]
    }
   ],
   "source": [
    "cd \"Documents/edamame\""
   ]
  },
  {
   "cell_type": "code",
   "execution_count": 4,
   "metadata": {},
   "outputs": [],
   "source": [
    "from scipy.io import loadmat, savemat\n",
    "import numpy as np\n",
    "import matplotlib.pyplot as plt\n",
    "from matplotlib import colors\n",
    "import datetime\n",
    "import networkx as nx\n",
    "from edamame import *\n",
    "from tqdm import tqdm_notebook\n",
    "import os\n",
    "import edamame.core.wires as wires\n",
    "from random import choice\n",
    "import warnings\n",
    "from IPython.core.debugger import set_trace\n",
    "import nct\n",
    "import bct\n",
    "\n",
    "#warnings.filterwarnings('ignore')"
   ]
  },
  {
   "cell_type": "code",
   "execution_count": 5,
   "metadata": {},
   "outputs": [],
   "source": [
    "import pickle \n",
    "import _pickle as cPickle\n",
    "import gzip\n",
    "def compressed_pickle(obj, filename,protocol=-1):\n",
    "    with gzip.open(filename, 'wb') as f:\n",
    "        cPickle.dump(obj, f, protocol)"
   ]
  },
  {
   "cell_type": "code",
   "execution_count": 6,
   "metadata": {},
   "outputs": [],
   "source": [
    "# this_seed2=700\n",
    "def connected_component_subgraphs(G):\n",
    "    for c in nx.connected_components(G):\n",
    "        yield G.subgraph(c)"
   ]
  },
  {
   "cell_type": "code",
   "execution_count": 7,
   "metadata": {},
   "outputs": [],
   "source": [
    "#Select Largest Components\n",
    "def select_largest_component_new(wires_dict):\n",
    "    \"\"\"\n",
    "    Find and select largest connected component of the original graph G.\n",
    "    Throws away unconnected components and updates all the keys in wires_dict \n",
    "    \"\"\"\n",
    "#     def connected_component_subgraphs(G):\n",
    "#         for c in nx.connected_components(G):\n",
    "#             yield G.subgraph(c)\n",
    "    \n",
    "    wires_dict['G'] = max(connected_component_subgraphs(wires_dict['G']), key=len)\n",
    "#     set_trace()\n",
    "    nw = len(wires_dict['G'].nodes())\n",
    "    nj = len(wires_dict['G'].edges())   \n",
    "    \n",
    "    logging.info(\"The largest component has %5d nodes and %6d edges\", nw, nj)\n",
    "\n",
    "    # Replace values in the dictionary\n",
    "    wires_dict['number_of_wires']     = nw\n",
    "    wires_dict['number_of_junctions'] = nj\n",
    "    wires_dict['xa'] = wires_dict['xa'][wires_dict['G'].nodes()] \n",
    "    wires_dict['ya'] = wires_dict['ya'][wires_dict['G'].nodes()] \n",
    "    wires_dict['xb'] = wires_dict['xb'][wires_dict['G'].nodes()] \n",
    "    wires_dict['yb'] = wires_dict['yb'][wires_dict['G'].nodes()]\n",
    "    wires_dict['xc'] = wires_dict['xc'][wires_dict['G'].nodes()] \n",
    "    wires_dict['yc'] = wires_dict['yc'][wires_dict['G'].nodes()]\n",
    " \n",
    "    # Keep old edge_list\n",
    "    old_edge_list = [(ii, kk) for ii, kk in  zip(wires_dict['edge_list'][:, 0], wires_dict['edge_list'][:, 1])]\n",
    "    # Remove old edge list\n",
    "    wires_dict = wires.remove_key(wires_dict, 'edge_list') \n",
    "    # Save indices of intersections in the old graph\n",
    "    ind_dict = {key:value for value,key in enumerate(old_edge_list)}\n",
    "    new_edge_list = sorted([kk if kk[0] < kk[1] else (kk[1], kk[0]) for kk in wires_dict['G'].edges()], key=lambda x: x[0])\n",
    "    # Find intersection between the two sets\n",
    "    inter = set(ind_dict).intersection(new_edge_list)\n",
    "    # Retrieve edge indices/positions from the old list\n",
    "    edges_idx = [ind_dict[idx] for idx in inter]\n",
    "       \n",
    "    # These have length equal to number of junctions -- only get the ones we need\n",
    "    wires_dict['xi'] = wires_dict['xi'][edges_idx] \n",
    "    wires_dict['yi'] = wires_dict['yi'][edges_idx] \n",
    "    \n",
    "    # Get contiguous numbering of nodes\n",
    "    # Build node mapping \n",
    "    node_mapping    = {key:value for value, key in enumerate(sorted(wires_dict['G'].nodes()))}\n",
    "    # This  step also renames edges list\n",
    "    wires_dict['G'] =  nx.relabel_nodes(wires_dict['G'] , node_mapping)\n",
    "\n",
    "    # Swap node vertices if vertex 0 is larger than vertex 1, then sort by first element\n",
    "    wires_dict['edge_list'] = np.asarray(sorted([kk if kk[0] < kk[1] else (kk[1], kk[0]) for kk in wires_dict['G'].edges()], key=lambda x: x[0]))\n",
    "    \n",
    "    # Save adjacency matrix of new graph\n",
    "    wires_dict = wires.remove_key(wires_dict, 'adj_matrix') \n",
    "    wires_dict = wires.generate_adj_matrix(wires_dict)\n",
    "\n",
    "    wire_distances = wires.cdist(np.array([wires_dict['xc'], wires_dict['yc']]).T, np.array([wires_dict['xc'], wires_dict['yc']]).T, metric='euclidean')    \n",
    "    wires_dict['wire_distances'] = wire_distances\n",
    "\n",
    "    return wires_dict "
   ]
  },
  {
   "cell_type": "code",
   "execution_count": 8,
   "metadata": {},
   "outputs": [
    {
     "name": "stdout",
     "output_type": "stream",
     "text": [
      "/import/silo2/aloe8475/Documents/CODE/Analysis/Functional Connectivity/Functional Tasks\n"
     ]
    }
   ],
   "source": [
    "cd \"/import/silo2/aloe8475/Documents/CODE/Analysis/Functional Connectivity/Functional Tasks/\""
   ]
  },
  {
   "cell_type": "code",
   "execution_count": 9,
   "metadata": {},
   "outputs": [],
   "source": [
    "data=loadmat('avgDegreeVals_allASN.mat')\n",
    "avgDeg=data['avgdeg'][0]\n",
    "\n",
    "numNodes=data['numNodes'][0]"
   ]
  },
  {
   "cell_type": "code",
   "execution_count": 10,
   "metadata": {},
   "outputs": [],
   "source": [
    "ResultSqu_Grid=[None]*len(avgDeg)\n",
    "ResultSqu_Random=[None]*len(avgDeg)"
   ]
  },
  {
   "cell_type": "code",
   "execution_count": 11,
   "metadata": {},
   "outputs": [
    {
     "name": "stdout",
     "output_type": "stream",
     "text": [
      "Loading WS\n",
      "Loaded\n"
     ]
    }
   ],
   "source": [
    "name='/import/silo2/aloe8475/Documents/CODE/Analysis/Functional Connectivity/Functional Tasks/WS_Allnetworks_LinearTransformation.pkl'\n",
    "if (os.path.isfile(name)): #if we haven't saved the file\n",
    "    print('Loading WS')\n",
    "    file = open(name, 'rb')\n",
    "    [WS_Grid,WS_Random] = pickle.load(file)\n",
    "    print('Loaded')\n",
    "else:\n",
    "    print('WS Analysis has not been done')"
   ]
  },
  {
   "cell_type": "code",
   "execution_count": 12,
   "metadata": {},
   "outputs": [],
   "source": [
    "numRand=3\n",
    "if (not os.path.isfile(name)): #if we haven't saved the file\n",
    "#get seed from previous networks:\n",
    "    name='WS_Allnetworks_LinearTransformation.pkl'\n",
    "    file = open(name, 'rb')\n",
    "    #     [ASN300,cluster1,cluster2,cluster3,time_index,nodesList] = pickle.load(file)\n",
    "    #     [ASN300,cluster1,cluster2,cluster3] = pickle.load(file)\n",
    "    [WS_Grid,WS_Random] = pickle.load(file)\n",
    "    seed=[]\n",
    "\n",
    "    seed2=[[None]*numRand for i in range(len(WS_Random))]\n",
    "    for i in range(len(WS_Random)):\n",
    "        for j in range(numRand):\n",
    "            if j == 0:\n",
    "                seed2[i][j]=(WS_Random[i][j]['seed'])\n",
    "            else:\n",
    "                seed2[i][j]=np.random.randint(10000)"
   ]
  },
  {
   "cell_type": "code",
   "execution_count": 13,
   "metadata": {},
   "outputs": [],
   "source": [
    "if (not os.path.isfile(name)): #if we haven't saved the file\n",
    "\n",
    "    #create watts strogatz graphs:\n",
    "    random=[[None]*3 for i in range(len(WS_Random))]\n",
    "    temp2=[[None]*numRand for i in range(len(WS_Random))]\n",
    "    grid=[]\n",
    "    temp=[]\n",
    "    for i in range(len(avgDeg)):\n",
    "        k=int(np.round(avgDeg[i]))\n",
    "\n",
    "        #loop 3 times with different random seed\n",
    "        for j in range(numRand):\n",
    "            temp2[i][j]=(nx.watts_strogatz_graph(numNodes[i],2*k,1,seed=seed2[i][j]))\n",
    "            random[i][j]=(max(connected_component_subgraphs(temp2[i][j]), key=len))     \n",
    "\n",
    "    temp.append(nx.watts_strogatz_graph(300,4,0,seed=seed2[0][0])) #proper grid (avg degree = 2)\n",
    "        #     temp.append(nx.watts_strogatz_graph(numNodes[i],2*k,0,seed=seed[i])) #ring lattice with k avg degree\n",
    "    grid.append(max(connected_component_subgraphs(temp[0]), key=len))\n",
    "else:\n",
    "    random=[[None]*3 for i in range(len(WS_Random))]\n",
    "    for i in range(len(avgDeg)):\n",
    "        for j in range(numRand):\n",
    "            random[i][j]=WS_Random[i][j]['G']\n",
    "    grid=WS_Grid['G']"
   ]
  },
  {
   "cell_type": "code",
   "execution_count": 14,
   "metadata": {},
   "outputs": [],
   "source": [
    "# nx.draw(grid[0],pos=nx.kamada_kawai_layout(grid[0]),node_size=5)\n",
    "# nx.draw_networkx_edges(grid[0],pos=nx.kamada_kawai_layout(grid[0]))"
   ]
  },
  {
   "cell_type": "code",
   "execution_count": 16,
   "metadata": {},
   "outputs": [
    {
     "data": {
      "application/vnd.jupyter.widget-view+json": {
       "model_id": "bb2f3d54b8d9474a93416d142dc29668",
       "version_major": 2,
       "version_minor": 0
      },
      "text/plain": [
       "HBox(children=(IntProgress(value=0, max=300), HTML(value='')))"
      ]
     },
     "metadata": {},
     "output_type": "display_data"
    }
   ],
   "source": [
    "temp_rand=[[None]*3 for i in range(len(WS_Random))]\n",
    "temp=[]\n",
    "shortestPath_Grid=[]\n",
    "shortestPath_Random=[[None]*3 for i in range(len(WS_Random))]\n",
    "onAmp_Grid=[]\n",
    "onAmp_Random=[[None]*3 for i in range(len(WS_Random))]\n",
    "\n",
    "for i in tqdm(range(len(avgDeg))):\n",
    "    for j in range(numRand):\n",
    "        temp_rand[i][j]=(getFarthestPairing(nx.adj_matrix(random[i][j]).todense()))\n",
    "        shortestPath_Random[i][j]=(nx.shortest_path_length(random[i][j],temp_rand[i][j][0],temp_rand[i][j][1]))\n",
    "        onAmp_Random[i][j]=(shortestPath_Random[i][j]/5)\n",
    "        \n",
    "temp.append(getFarthestPairing(nx.adj_matrix(grid[0]).todense()))\n",
    "shortestPath_Grid.append(nx.shortest_path_length(grid[0],temp[0][0],temp[0][1]))\n",
    "onAmp_Grid.append(shortestPath_Grid[0]/5)"
   ]
  },
  {
   "cell_type": "code",
   "execution_count": 17,
   "metadata": {},
   "outputs": [],
   "source": [
    "# seed[105]=np.random.randint(10000)"
   ]
  },
  {
   "cell_type": "code",
   "execution_count": 18,
   "metadata": {},
   "outputs": [],
   "source": [
    "if (not os.path.isfile(name)): #if we haven't saved the file\n",
    "\n",
    "    WS_Grid=[]\n",
    "    WS_Random=[[None]*numRand for i in range(len(avgDeg))]\n",
    "    for i in range(len(avgDeg)):\n",
    "        for j in range(numRand):\n",
    "            WS_Random[i][j]={'seed':[],'adj_matrix':[],'G':[],'Accuracy':{'Linear Transformation':[],'Mackey Glass':[],'MNIST':[]},'Graph Theory':{'Small World':[],'Modularity':[],'CCoeff':[],'MZ':[],'PCoeff':[],'PL':[]}}\n",
    "    WS_Grid={'seed':[],'adj_matrix':[],'G':[],'Accuracy':{'Linear Transformation':[],'Mackey Glass':[],'MNIST':[]},'Graph Theory':{'Small World':[],'Modularity':[],'CCoeff':[],'MZ':[],'PCoeff':[],'PL':[]}}"
   ]
  },
  {
   "cell_type": "code",
   "execution_count": 19,
   "metadata": {},
   "outputs": [],
   "source": [
    "# WS:\n",
    "if (not os.path.isfile(name)): #if we haven't saved the file\n",
    "    WS_Grid['seed']=seed\n",
    "    WS_Grid['sp_amp']=onAmp_Grid\n",
    "    for i in tqdm(range(len(WS_Random))):\n",
    "        for j in range(numRand):\n",
    "            WS_Random[i][j]['seed']=seed2[i][j]\n",
    "            WS_Random[i][j]['sp_amp']=onAmp_Random[i][j]\n",
    "    name='WS_Allnetworks_LinearTransformation.pkl'\n",
    "    print('Saving WS')\n",
    "    with open(name, 'wb') as f:\n",
    "        pickle.dump([WS_Grid,WS_Random], f)   "
   ]
  },
  {
   "cell_type": "code",
   "execution_count": 20,
   "metadata": {},
   "outputs": [],
   "source": [
    "def WS_Run(grid,random,onAmp_Grid,onAmp_Random,nodesList,nodesList_Grid,WS_Grid,WS_Random,i):\n",
    "    stimulus=[[],[]]\n",
    "    stimulus_Rand=[[[],[]] for j in range(len(random[0]))]\n",
    "    stimulus2_Rand=[None]*len(random[0])\n",
    "    results_rand=[]\n",
    "    nwSqu_Random=[]\n",
    "    dt = 1e-2\n",
    "    f=0.5\n",
    "    Time=5\n",
    "    stimulus[0]=(stimulus__(biasType='AC',onAmp=onAmp_Grid[0],TimeVector=np.arange(0,Time,dt),f=f))\n",
    "    stimulus[1]=(stimulus__(biasType='Drain',TimeVector=np.arange(0,Time,dt))) #we don't want this drain to be active during training\n",
    "    for j in range(len(random[0])):\n",
    "        stimulus_Rand[j][0]=(stimulus__(biasType='AC',onAmp=onAmp_Random[i][j],TimeVector=np.arange(0,Time,dt),f=f))\n",
    "        stimulus_Rand[j][1]=(stimulus__(biasType='Drain',TimeVector=np.arange(0,Time,dt))) #we don't want this drain to be active during training\n",
    "        stimulus2_Rand[j]=[item for item in stimulus_Rand[j]]\n",
    "        \n",
    "    stimulus2 = [item for item in stimulus] #go through each list in the list and find the ith item\n",
    "\n",
    "    results_grid=(runSim(connectivity__(graph=grid[0]),stimulus=stimulus2, contactMode='farthest', T = Time, dt = dt, onAmp = onAmp_Grid[0], biasType='AC',f=f,junctionMode='tunneling'))\n",
    "    conductance=[]\n",
    "    for j in range(len(random[0])):\n",
    "        results_rand.append(runSim(connectivity__(graph=random[i][j]),stimulus=stimulus2_Rand[j], contactMode='farthest', T = Time, dt = dt, onAmp = onAmp_Random[i][j], biasType='AC',f=f,junctionMode='tunneling'))\n",
    "        nwSqu_Random.append([None]*len(nodesList[j][i]))\n",
    "        conductance.append(results_rand[j].conductance)\n",
    "    nwSqu_Grid=[None]*len(nodesList_Grid)\n",
    "    \n",
    "    for j in range(len(random[0])):\n",
    "        countk=0\n",
    "        for k in nodesList[j][i]: #loop through sets of nodes for regression\n",
    "            print('Running Random Network Regression: ' + str(k) + ' nodes')\n",
    "            ResultSqu_Random=[]\n",
    "            ResultSqu_Random= nonLinearTrans(results_rand[j],'Square',k, repeats=50) #simulation, type of signal, number of nodes to sample from, number of linear regression repetitions (take avg)\n",
    "            nwSqu_Random[j][countk]=(ResultSqu_Random['accuracy'])\n",
    "            countk=countk+1\n",
    "            if k == nodesList[j][i][-1]: #if k is equal to the largest node sampling\n",
    "                WS_Random[i][j]['Accuracy']['Linear Transformation']=[]\n",
    "                WS_Random[i][j]['Accuracy']['Linear Transformation'].append(nwSqu_Random[j])\n",
    "    #             print(WS_Random[i]['Accuracy']['Linear Transformation'])\n",
    "            else:\n",
    "                WS_Random[i][j]['Accuracy']['Linear Transformation']=[None]\n",
    "    countk=0\n",
    "    \n",
    "    for k in nodesList_Grid:     \n",
    "        print('Running Grid Network Regression: ' + str(k) + ' nodes')\n",
    "        ResultSqu_Grid=[]\n",
    "        ResultSqu_Grid = nonLinearTrans(results_grid,'Square',k, repeats=50) #simulation, type of signal, number of nodes to sample from, number of linear regression repetitions (take avg)\n",
    "        nwSqu_Grid[countk]=(ResultSqu_Grid['accuracy'])\n",
    "        countk=countk+1\n",
    "        if k == nodesList[0][i][-1]: #if k is equal to the largest node sampling\n",
    "            WS_Grid['Accuracy']['Linear Transformation']=[]\n",
    "            WS_Grid['Accuracy']['Linear Transformation'].append(nwSqu_Grid)\n",
    "#             print(WS_Grid[i]['Accuracy']['Linear Transformation'])\n",
    "        else:\n",
    "            WS_Grid['Accuracy']['Linear Transformation']=[None]\n",
    "    \n",
    "    accGrid=nwSqu_Grid\n",
    "    accRandom=nwSqu_Random\n",
    "    \n",
    "    name= r'/import/silo2/aloe8475/Documents/CODE/Data/Functional Connectivity/conductance_RandomNonLinearTransformation_'+str(i)\n",
    "    compressed_pickle([conductance],name)\n",
    "    return accGrid,accRandom,WS_Grid,WS_Random"
   ]
  },
  {
   "cell_type": "code",
   "execution_count": 21,
   "metadata": {},
   "outputs": [
    {
     "data": {
      "application/vnd.jupyter.widget-view+json": {
       "model_id": "4b5f2fc6f1df45eda5c44aa1461d2f7a",
       "version_major": 2,
       "version_minor": 0
      },
      "text/plain": [
       "HBox(children=(IntProgress(value=0, max=300), HTML(value='')))"
      ]
     },
     "metadata": {},
     "output_type": "display_data"
    }
   ],
   "source": [
    "nodesList=[[None]*len(avgDeg) for i in range(numRand)]\n",
    "for i in tqdm(range(len(avgDeg))):\n",
    "    for j in range(numRand): #grid, random\n",
    "        if len(random[i][j]) >= 250:\n",
    "            nodesList[j][i]=[50,100,150,200,250,len(random[i][j])]#range(50, len(ws300[i][0])+1,50)\n",
    "        elif len(random[i][j]) >= 200 and len(random[i][j]) < 250:\n",
    "            nodesList[j][i]=[50,100,150,200,len(random[i][j])]#range(50, len(ws300[i][0])+1,50)  \n",
    "        elif len(random[i][j]) >= 150 and len(random[i][j]) < 200:\n",
    "            nodesList[j][i]=[50,100,150,len(random[i][j])]#range(50, len(ws300[i][0])+1,50)  \n",
    "        elif len(random[i][j]) >= 100 and len(random[i][j]) < 150:\n",
    "            nodesList[j][i]=[50,100,len(random[i][j])]#range(50, len(ws300[i][0])+1,50)\n",
    "\n",
    "if len(grid[0]) >= 250:\n",
    "    nodesList_Grid=[50,100,150,200,250,len(grid[0])]#range(50, len(ws300[i][0])+1,50)\n",
    "elif len(grid[0]) >= 200 and len(grid[0]) < 250:\n",
    "    nodesList_Grid=[50,100,150,200,len(grid[0])]#range(50, len(ws300[i][0])+1,50)  \n",
    "elif len(grid[0]) >= 150 and len(grid[0]) < 200:\n",
    "    nodesList_Grid=[50,100,150,len(grid[0])]#range(50, len(ws300[i][0])+1,50)  \n",
    "elif len(grid[0]) >= 100 and len(grid[0]) < 150:\n",
    "    nodesList_Grid=[50,100,len(grid[0])]#range(50, len(ws300[i][0])+1,50)"
   ]
  },
  {
   "cell_type": "code",
   "execution_count": 22,
   "metadata": {},
   "outputs": [],
   "source": [
    "if ( os.path.isfile(name)): #if we haven't saved the file\n",
    "\n",
    "    # results_grid=[]\n",
    "    # results_rand=[]\n",
    "    init=[]\n",
    "    for i in range(len(avgDeg)):\n",
    "       init.append(inputPacker(WS_Run,grid,random,onAmp_Grid,onAmp_Random,nodesList,nodesList_Grid,WS_Grid,WS_Random,i))"
   ]
  },
  {
   "cell_type": "code",
   "execution_count": 23,
   "metadata": {},
   "outputs": [
    {
     "data": {
      "application/vnd.jupyter.widget-view+json": {
       "model_id": "e8697c7a4a654abeb42a770d9998ca9c",
       "version_major": 2,
       "version_minor": 0
      },
      "text/plain": [
       "HBox(children=(IntProgress(value=0, max=300), HTML(value='')))"
      ]
     },
     "metadata": {},
     "output_type": "display_data"
    },
    {
     "name": "stderr",
     "output_type": "stream",
     "text": [
      "2020-06-22 16:03:10,487:INFO:First current path [0, 2, 4, 6, 8, 10, 12, 14, 16, 18, 20, 22, 24, 26, 28, 30, 32, 34, 36, 38, 40, 42, 44, 46, 48, 50, 52, 54, 56, 58, 60, 62, 64, 66, 68, 70, 72, 74, 76, 78, 80, 82, 84, 86, 88, 90, 92, 94, 96, 98, 100, 102, 104, 106, 108, 110, 112, 114, 116, 118, 120, 122, 124, 126, 128, 130, 132, 134, 136, 138, 140, 142, 144, 146, 148, 150] formed at time = 0.75 s.\n"
     ]
    },
    {
     "data": {
      "application/vnd.jupyter.widget-view+json": {
       "model_id": "68993afc26dc4a63a5ac4525b4e049bb",
       "version_major": 2,
       "version_minor": 0
      },
      "text/plain": [
       "HBox(children=(IntProgress(value=0, description='Running Simulation ', max=500, style=ProgressStyle(descriptio…"
      ]
     },
     "metadata": {},
     "output_type": "display_data"
    },
    {
     "name": "stderr",
     "output_type": "stream",
     "text": [
      "2020-06-22 16:03:12,262:INFO:First current path [0, 23, 48, 16] formed at time = 0.75 s.\n"
     ]
    },
    {
     "data": {
      "application/vnd.jupyter.widget-view+json": {
       "model_id": "e52ca11bf3ec4fb5adb5c2efef1865ba",
       "version_major": 2,
       "version_minor": 0
      },
      "text/plain": [
       "HBox(children=(IntProgress(value=0, description='Running Simulation ', max=500, style=ProgressStyle(descriptio…"
      ]
     },
     "metadata": {},
     "output_type": "display_data"
    },
    {
     "name": "stderr",
     "output_type": "stream",
     "text": [
      "2020-06-22 16:03:13,980:INFO:First current path [0, 84, 51, 3] formed at time = 0.75 s.\n"
     ]
    },
    {
     "data": {
      "application/vnd.jupyter.widget-view+json": {
       "model_id": "67cf12337ea94f5b91eab52a47203f39",
       "version_major": 2,
       "version_minor": 0
      },
      "text/plain": [
       "HBox(children=(IntProgress(value=0, description='Running Simulation ', max=500, style=ProgressStyle(descriptio…"
      ]
     },
     "metadata": {},
     "output_type": "display_data"
    },
    {
     "name": "stderr",
     "output_type": "stream",
     "text": [
      "2020-06-22 16:03:15,691:INFO:First current path [0, 89, 26, 6] formed at time = 0.75 s.\n"
     ]
    },
    {
     "name": "stdout",
     "output_type": "stream",
     "text": [
      "Running Random Network Regression: 50 nodes\n",
      "Running Random Network Regression: 100 nodes\n",
      "Running Random Network Regression: 150 nodes\n",
      "Running Random Network Regression: 200 nodes\n",
      "Running Random Network Regression: 250 nodes\n",
      "Running Random Network Regression: 299 nodes\n",
      "Running Random Network Regression: 50 nodes\n",
      "Running Random Network Regression: 100 nodes\n",
      "Running Random Network Regression: 150 nodes\n",
      "Running Random Network Regression: 200 nodes\n",
      "Running Random Network Regression: 250 nodes\n",
      "Running Random Network Regression: 299 nodes\n",
      "Running Random Network Regression: 50 nodes\n",
      "Running Random Network Regression: 100 nodes\n",
      "Running Random Network Regression: 150 nodes\n",
      "Running Random Network Regression: 200 nodes\n"
     ]
    },
    {
     "name": "stderr",
     "output_type": "stream",
     "text": [
      "2020-06-22 16:03:23,040:INFO:First current path [0, 2, 4, 6, 8, 10, 12, 14, 16, 18, 20, 22, 24, 26, 28, 30, 32, 34, 36, 38, 40, 42, 44, 46, 48, 50, 52, 54, 56, 58, 60, 62, 64, 66, 68, 70, 72, 74, 76, 78, 80, 82, 84, 86, 88, 90, 92, 94, 96, 98, 100, 102, 104, 106, 108, 110, 112, 114, 116, 118, 120, 122, 124, 126, 128, 130, 132, 134, 136, 138, 140, 142, 144, 146, 148, 150] formed at time = 0.75 s.\n"
     ]
    },
    {
     "data": {
      "application/vnd.jupyter.widget-view+json": {
       "model_id": "50f1fa4278e04c86acdbde54b7f4ae68",
       "version_major": 2,
       "version_minor": 0
      },
      "text/plain": [
       "HBox(children=(IntProgress(value=0, description='Running Simulation ', max=500, style=ProgressStyle(descriptio…"
      ]
     },
     "metadata": {},
     "output_type": "display_data"
    },
    {
     "name": "stdout",
     "output_type": "stream",
     "text": [
      "Running Random Network Regression: 250 nodes\n",
      "Running Random Network Regression: 299 nodes\n"
     ]
    },
    {
     "name": "stderr",
     "output_type": "stream",
     "text": [
      "2020-06-22 16:03:25,325:INFO:First current path [0, 44, 133, 18] formed at time = 0.75 s.\n"
     ]
    },
    {
     "name": "stdout",
     "output_type": "stream",
     "text": [
      "Running Grid Network Regression: 50 nodes\n"
     ]
    },
    {
     "data": {
      "application/vnd.jupyter.widget-view+json": {
       "model_id": "13ee35125ff043a681b3ec83816b6ccb",
       "version_major": 2,
       "version_minor": 0
      },
      "text/plain": [
       "HBox(children=(IntProgress(value=0, description='Running Simulation ', max=500, style=ProgressStyle(descriptio…"
      ]
     },
     "metadata": {},
     "output_type": "display_data"
    },
    {
     "name": "stdout",
     "output_type": "stream",
     "text": [
      "Running Grid Network Regression: 100 nodes\n",
      "Running Grid Network Regression: 150 nodes\n",
      "Running Grid Network Regression: 200 nodes\n",
      "Running Grid Network Regression: 250 nodes\n",
      "Running Grid Network Regression: 300 nodes\n"
     ]
    },
    {
     "name": "stderr",
     "output_type": "stream",
     "text": [
      "2020-06-22 16:03:27,375:INFO:First current path [0, 1, 87, 9] formed at time = 0.75 s.\n"
     ]
    },
    {
     "data": {
      "application/vnd.jupyter.widget-view+json": {
       "model_id": "3dab812064f340c1b80d5038c14c2066",
       "version_major": 2,
       "version_minor": 0
      },
      "text/plain": [
       "HBox(children=(IntProgress(value=0, description='Running Simulation ', max=500, style=ProgressStyle(descriptio…"
      ]
     },
     "metadata": {},
     "output_type": "display_data"
    },
    {
     "name": "stderr",
     "output_type": "stream",
     "text": [
      "2020-06-22 16:03:29,423:INFO:First current path [0, 75, 290, 47] formed at time = 0.75 s.\n"
     ]
    },
    {
     "name": "stdout",
     "output_type": "stream",
     "text": [
      "Running Random Network Regression: 50 nodes\n",
      "Running Random Network Regression: 100 nodes\n",
      "Running Random Network Regression: 150 nodes\n",
      "Running Random Network Regression: 200 nodes\n",
      "Running Random Network Regression: 250 nodes\n",
      "Running Random Network Regression: 300 nodes\n",
      "Running Random Network Regression: 50 nodes\n",
      "Running Random Network Regression: 100 nodes\n"
     ]
    },
    {
     "ename": "AttributeError",
     "evalue": "'list' object has no attribute 'conductance'",
     "output_type": "error",
     "traceback": [
      "\u001b[0;31m---------------------------------------------------------------------------\u001b[0m",
      "\u001b[0;31mRemoteTraceback\u001b[0m                           Traceback (most recent call last)",
      "\u001b[0;31mRemoteTraceback\u001b[0m: \n\"\"\"\nTraceback (most recent call last):\n  File \"/suphys/aloe8475/anaconda3/lib/python3.7/multiprocessing/pool.py\", line 121, in worker\n    result = (True, func(*args, **kwds))\n  File \"/suphys/aloe8475/anaconda3/lib/python3.7/multiprocessing/pool.py\", line 47, in starmapstar\n    return list(itertools.starmap(args[0], args[1]))\n  File \"<ipython-input-20-37ec2a022d00>\", line 58, in WS_Run\n    compressed_pickle([results_rand.conductance],name)\nAttributeError: 'list' object has no attribute 'conductance'\n\"\"\"",
      "\nThe above exception was the direct cause of the following exception:\n",
      "\u001b[0;31mAttributeError\u001b[0m                            Traceback (most recent call last)",
      "\u001b[0;32m<ipython-input-23-1a368e7d06fc>\u001b[0m in \u001b[0;36m<module>\u001b[0;34m\u001b[0m\n\u001b[1;32m      2\u001b[0m \u001b[0;34m\u001b[0m\u001b[0m\n\u001b[1;32m      3\u001b[0m     \u001b[0;31m#### parallel run simulations\u001b[0m\u001b[0;34m\u001b[0m\u001b[0;34m\u001b[0m\u001b[0;34m\u001b[0m\u001b[0m\n\u001b[0;32m----> 4\u001b[0;31m     \u001b[0mresult\u001b[0m\u001b[0;34m=\u001b[0m\u001b[0mpara_run\u001b[0m\u001b[0;34m(\u001b[0m\u001b[0mWS_Run\u001b[0m\u001b[0;34m,\u001b[0m\u001b[0minit\u001b[0m\u001b[0;34m,\u001b[0m\u001b[0mnCPU\u001b[0m\u001b[0;34m=\u001b[0m\u001b[0;36m10\u001b[0m\u001b[0;34m)\u001b[0m\u001b[0;34m\u001b[0m\u001b[0;34m\u001b[0m\u001b[0m\n\u001b[0m",
      "\u001b[0;32m/import/silo2/aloe8475/Documents/edamame/edamame/utils/tools.py\u001b[0m in \u001b[0;36mpara_run\u001b[0;34m(func, init_list, nCPU, desc, disable_tqdm)\u001b[0m\n\u001b[1;32m     57\u001b[0m                            \u001b[0mtotal\u001b[0m \u001b[0;34m=\u001b[0m \u001b[0mlen\u001b[0m\u001b[0;34m(\u001b[0m\u001b[0minit_list\u001b[0m\u001b[0;34m)\u001b[0m\u001b[0;34m,\u001b[0m\u001b[0;34m\u001b[0m\u001b[0;34m\u001b[0m\u001b[0m\n\u001b[1;32m     58\u001b[0m                            \u001b[0mdesc\u001b[0m \u001b[0;34m=\u001b[0m \u001b[0mdesc\u001b[0m\u001b[0;34m,\u001b[0m\u001b[0;34m\u001b[0m\u001b[0;34m\u001b[0m\u001b[0m\n\u001b[0;32m---> 59\u001b[0;31m                            disable = disable_tqdm))\n\u001b[0m\u001b[1;32m     60\u001b[0m     \u001b[0mpool\u001b[0m\u001b[0;34m.\u001b[0m\u001b[0mclose\u001b[0m\u001b[0;34m(\u001b[0m\u001b[0;34m)\u001b[0m\u001b[0;34m\u001b[0m\u001b[0;34m\u001b[0m\u001b[0m\n\u001b[1;32m     61\u001b[0m     \u001b[0;32mreturn\u001b[0m \u001b[0mresult\u001b[0m\u001b[0;34m\u001b[0m\u001b[0;34m\u001b[0m\u001b[0m\n",
      "\u001b[0;32m~/anaconda3/lib/python3.7/site-packages/tqdm/_tqdm_notebook.py\u001b[0m in \u001b[0;36m__iter__\u001b[0;34m(self, *args, **kwargs)\u001b[0m\n\u001b[1;32m    219\u001b[0m     \u001b[0;32mdef\u001b[0m \u001b[0m__iter__\u001b[0m\u001b[0;34m(\u001b[0m\u001b[0mself\u001b[0m\u001b[0;34m,\u001b[0m \u001b[0;34m*\u001b[0m\u001b[0margs\u001b[0m\u001b[0;34m,\u001b[0m \u001b[0;34m**\u001b[0m\u001b[0mkwargs\u001b[0m\u001b[0;34m)\u001b[0m\u001b[0;34m:\u001b[0m\u001b[0;34m\u001b[0m\u001b[0;34m\u001b[0m\u001b[0m\n\u001b[1;32m    220\u001b[0m         \u001b[0;32mtry\u001b[0m\u001b[0;34m:\u001b[0m\u001b[0;34m\u001b[0m\u001b[0;34m\u001b[0m\u001b[0m\n\u001b[0;32m--> 221\u001b[0;31m             \u001b[0;32mfor\u001b[0m \u001b[0mobj\u001b[0m \u001b[0;32min\u001b[0m \u001b[0msuper\u001b[0m\u001b[0;34m(\u001b[0m\u001b[0mtqdm_notebook\u001b[0m\u001b[0;34m,\u001b[0m \u001b[0mself\u001b[0m\u001b[0;34m)\u001b[0m\u001b[0;34m.\u001b[0m\u001b[0m__iter__\u001b[0m\u001b[0;34m(\u001b[0m\u001b[0;34m*\u001b[0m\u001b[0margs\u001b[0m\u001b[0;34m,\u001b[0m \u001b[0;34m**\u001b[0m\u001b[0mkwargs\u001b[0m\u001b[0;34m)\u001b[0m\u001b[0;34m:\u001b[0m\u001b[0;34m\u001b[0m\u001b[0;34m\u001b[0m\u001b[0m\n\u001b[0m\u001b[1;32m    222\u001b[0m                 \u001b[0;31m# return super(tqdm...) will not catch exception\u001b[0m\u001b[0;34m\u001b[0m\u001b[0;34m\u001b[0m\u001b[0;34m\u001b[0m\u001b[0m\n\u001b[1;32m    223\u001b[0m                 \u001b[0;32myield\u001b[0m \u001b[0mobj\u001b[0m\u001b[0;34m\u001b[0m\u001b[0;34m\u001b[0m\u001b[0m\n",
      "\u001b[0;32m~/anaconda3/lib/python3.7/site-packages/tqdm/_tqdm.py\u001b[0m in \u001b[0;36m__iter__\u001b[0;34m(self)\u001b[0m\n\u001b[1;32m   1020\u001b[0m                 \"\"\"), fp_write=getattr(self.fp, 'write', sys.stderr.write))\n\u001b[1;32m   1021\u001b[0m \u001b[0;34m\u001b[0m\u001b[0m\n\u001b[0;32m-> 1022\u001b[0;31m             \u001b[0;32mfor\u001b[0m \u001b[0mobj\u001b[0m \u001b[0;32min\u001b[0m \u001b[0miterable\u001b[0m\u001b[0;34m:\u001b[0m\u001b[0;34m\u001b[0m\u001b[0;34m\u001b[0m\u001b[0m\n\u001b[0m\u001b[1;32m   1023\u001b[0m                 \u001b[0;32myield\u001b[0m \u001b[0mobj\u001b[0m\u001b[0;34m\u001b[0m\u001b[0;34m\u001b[0m\u001b[0m\n\u001b[1;32m   1024\u001b[0m                 \u001b[0;31m# Update and possibly print the progressbar.\u001b[0m\u001b[0;34m\u001b[0m\u001b[0;34m\u001b[0m\u001b[0;34m\u001b[0m\u001b[0m\n",
      "\u001b[0;32m/import/silo2/aloe8475/Documents/edamame/edamame/utils/tools.py\u001b[0m in \u001b[0;36m<genexpr>\u001b[0;34m(.0)\u001b[0m\n\u001b[1;32m     34\u001b[0m             \u001b[0mresult\u001b[0m\u001b[0;34m.\u001b[0m\u001b[0m_set_length\u001b[0m\u001b[0;34m\u001b[0m\u001b[0;34m\u001b[0m\u001b[0m\n\u001b[1;32m     35\u001b[0m         ))\n\u001b[0;32m---> 36\u001b[0;31m     \u001b[0;32mreturn\u001b[0m \u001b[0;34m(\u001b[0m\u001b[0mitem\u001b[0m \u001b[0;32mfor\u001b[0m \u001b[0mchunk\u001b[0m \u001b[0;32min\u001b[0m \u001b[0mresult\u001b[0m \u001b[0;32mfor\u001b[0m \u001b[0mitem\u001b[0m \u001b[0;32min\u001b[0m \u001b[0mchunk\u001b[0m\u001b[0;34m)\u001b[0m\u001b[0;34m\u001b[0m\u001b[0;34m\u001b[0m\u001b[0m\n\u001b[0m\u001b[1;32m     37\u001b[0m \u001b[0;34m\u001b[0m\u001b[0m\n\u001b[1;32m     38\u001b[0m \u001b[0mmpp\u001b[0m\u001b[0;34m.\u001b[0m\u001b[0mPool\u001b[0m\u001b[0;34m.\u001b[0m\u001b[0mistarmap\u001b[0m \u001b[0;34m=\u001b[0m \u001b[0mistarmap\u001b[0m\u001b[0;34m\u001b[0m\u001b[0;34m\u001b[0m\u001b[0m\n",
      "\u001b[0;32m~/anaconda3/lib/python3.7/multiprocessing/pool.py\u001b[0m in \u001b[0;36mnext\u001b[0;34m(self, timeout)\u001b[0m\n\u001b[1;32m    746\u001b[0m         \u001b[0;32mif\u001b[0m \u001b[0msuccess\u001b[0m\u001b[0;34m:\u001b[0m\u001b[0;34m\u001b[0m\u001b[0;34m\u001b[0m\u001b[0m\n\u001b[1;32m    747\u001b[0m             \u001b[0;32mreturn\u001b[0m \u001b[0mvalue\u001b[0m\u001b[0;34m\u001b[0m\u001b[0;34m\u001b[0m\u001b[0m\n\u001b[0;32m--> 748\u001b[0;31m         \u001b[0;32mraise\u001b[0m \u001b[0mvalue\u001b[0m\u001b[0;34m\u001b[0m\u001b[0;34m\u001b[0m\u001b[0m\n\u001b[0m\u001b[1;32m    749\u001b[0m \u001b[0;34m\u001b[0m\u001b[0m\n\u001b[1;32m    750\u001b[0m     \u001b[0m__next__\u001b[0m \u001b[0;34m=\u001b[0m \u001b[0mnext\u001b[0m                    \u001b[0;31m# XXX\u001b[0m\u001b[0;34m\u001b[0m\u001b[0;34m\u001b[0m\u001b[0m\n",
      "\u001b[0;31mAttributeError\u001b[0m: 'list' object has no attribute 'conductance'"
     ]
    }
   ],
   "source": [
    "if ( os.path.isfile(name)): #if we haven't saved the file\n",
    "\n",
    "    #### parallel run simulations\n",
    "    result=para_run(WS_Run,init,nCPU=10)"
   ]
  },
  {
   "cell_type": "code",
   "execution_count": 43,
   "metadata": {},
   "outputs": [],
   "source": [
    "if (not os.path.isfile(name)): #if we haven't saved the file\n",
    "\n",
    "    for i in range(len(result)):\n",
    "        for j in range(numRand):\n",
    "            WS_Random[i][j]['Accuracy']['Linear Transformation']=[ii[1] for ii in result][i][j]\n",
    "    WS_Grid['Accuracy']['Linear Transformation']=[ii[0] for ii in result][i]\n"
   ]
  },
  {
   "cell_type": "code",
   "execution_count": 44,
   "metadata": {},
   "outputs": [],
   "source": [
    "if (not os.path.isfile(name)): #if we haven't saved the file\n",
    "    #export adj matrices to calculate small worldness in matlab:\n",
    "    adj_mats={\"AdjMat_Grid\":[],\"AdjMat_Random\":[]}\n",
    "    for i in tqdm(range(len(WS_Random))):\n",
    "        for j in range(numRand):\n",
    "            adj_mats['AdjMat_Random'].append(dict(random=nx.adj_matrix(random[i][j]).todense()))\n",
    "            WS_Random[i][j]['adj_matrix']=nx.adj_matrix(random[i][j]).todense()\n",
    "\n",
    "    adj_mats['AdjMat_Grid']=(dict(grid=nx.adj_matrix(grid[0]).todense()))\n",
    "    WS_Grid['adj_matrix']=nx.adj_matrix(grid[0]).todense()\n",
    "\n",
    "    savemat('/import/silo2/aloe8475/Documents/CODE/Data/Functional Connectivity/300_WS_AllASN.mat',adj_mats)"
   ]
  },
  {
   "cell_type": "code",
   "execution_count": 45,
   "metadata": {},
   "outputs": [
    {
     "name": "stdout",
     "output_type": "stream",
     "text": [
      "/import/silo2/aloe8475/Documents/CODE/Data/Functional Connectivity\n"
     ]
    }
   ],
   "source": [
    "cd \"/import/silo2/aloe8475/Documents/CODE/Data/Functional Connectivity/\""
   ]
  },
  {
   "cell_type": "code",
   "execution_count": 46,
   "metadata": {},
   "outputs": [],
   "source": [
    "smallworld_ws={'Grid':[],'Random':[]}\n",
    "# temp=loadmat(r'300_WS_smallworld.mat')\n",
    "temp=loadmat(r'300_WS_AllASN_smallworld.mat')\n",
    "smallworld_ws['Grid']=temp['smallworld_grid']\n",
    "smallworld_ws['Random']=temp['smallworld_random']\n",
    "del temp"
   ]
  },
  {
   "cell_type": "code",
   "execution_count": 47,
   "metadata": {},
   "outputs": [
    {
     "data": {
      "text/plain": [
       "array([[0.29289322]])"
      ]
     },
     "execution_count": 47,
     "metadata": {},
     "output_type": "execute_result"
    }
   ],
   "source": [
    "smallworld_ws['Grid']"
   ]
  },
  {
   "cell_type": "code",
   "execution_count": 48,
   "metadata": {},
   "outputs": [
    {
     "name": "stdout",
     "output_type": "stream",
     "text": [
      "/import/silo2/aloe8475/Documents/CODE/Analysis/Functional Connectivity/Functional Tasks\n"
     ]
    }
   ],
   "source": [
    "cd \"/import/silo2/aloe8475/Documents/CODE/Analysis/Functional Connectivity/Functional Tasks/\""
   ]
  },
  {
   "cell_type": "code",
   "execution_count": 49,
   "metadata": {},
   "outputs": [],
   "source": [
    "smallworld_ws['Random']=smallworld_ws['Random'].reshape(300,3)"
   ]
  },
  {
   "cell_type": "code",
   "execution_count": 50,
   "metadata": {},
   "outputs": [],
   "source": [
    "if (not os.path.isfile(name)): #if we haven't saved the file\n",
    "    # WS:\n",
    "    ci = []\n",
    "    pcoeff= []\n",
    "    mz= []\n",
    "    clustering = []\n",
    "    ci,q=nct.community_louvain(np.squeeze(np.asarray(WS_Grid['adj_matrix'])))\n",
    "    pcoeff=bct.participation_coef(np.squeeze(np.asarray(WS_Grid['adj_matrix'])),ci)\n",
    "    mz=bct.module_degree_zscore(np.squeeze(np.asarray(WS_Grid['adj_matrix'])),ci)\n",
    "    WS_Grid['G']=grid\n",
    "    clustering=nx.clustering(WS_Grid['G'][0])\n",
    "    WS_Grid['Graph Theory']['PL']=dict(nx.all_pairs_shortest_path_length(WS_Grid['G'][0]))\n",
    "    WS_Grid['Graph Theory']['Modularity']=ci\n",
    "    WS_Grid['Graph Theory']['Modularity Score']=q\n",
    "    WS_Grid['Graph Theory']['PCoeff']=pcoeff\n",
    "    WS_Grid['Graph Theory']['MZ']=mz\n",
    "    WS_Grid['Graph Theory']['Small World']=smallworld_ws['Grid'][0][0]\n",
    "    WS_Grid['Graph Theory']['CCoeff']=clustering\n",
    "    WS_Grid['Graph Theory']['Degree']=nx.degree(WS_Grid['G'][0])\n",
    "    WS_Grid['Graph Theory']['AvgPL']=nx.average_shortest_path_length(WS_Grid['G'][0])\n",
    "\n",
    "    ci = []\n",
    "    pcoeff= []\n",
    "    mz= []\n",
    "    clustering = []\n",
    "    count1=0\n",
    "    count2=0\n",
    "    count3=0   \n",
    "    for i in tqdm(range(len(WS_Random))):\n",
    "        for j in range(numRand):\n",
    "            ci,q=nct.community_louvain(np.squeeze(np.asarray(WS_Random[i][j]['adj_matrix'])))\n",
    "            pcoeff=bct.participation_coef(np.squeeze(np.asarray(WS_Random[i][j]['adj_matrix'])),ci)\n",
    "            mz=bct.module_degree_zscore(np.squeeze(np.asarray(WS_Random[i][j]['adj_matrix'])),ci)\n",
    "            WS_Random[i][j]['G']=random[i][j]\n",
    "            clustering=nx.clustering(WS_Random[i][j]['G'])\n",
    "            WS_Random[i][j]['Graph Theory']['PL']=dict(nx.all_pairs_shortest_path_length(WS_Random[i][j]['G']))\n",
    "            WS_Random[i][j]['Graph Theory']['Modularity']=ci\n",
    "            WS_Random[i][j]['Graph Theory']['Modularity Score']=q\n",
    "            WS_Random[i][j]['Graph Theory']['PCoeff']=pcoeff\n",
    "            WS_Random[i][j]['Graph Theory']['MZ']=mz\n",
    "            WS_Random[i][j]['Graph Theory']['Small World']=smallworld_ws['Random'][i][j]\n",
    "            WS_Random[i][j]['Graph Theory']['CCoeff']=clustering\n",
    "            WS_Random[i][j]['Graph Theory']['Degree']=nx.degree(WS_Random[i][j]['G'])\n",
    "            WS_Random[i][j]['Graph Theory']['AvgPL']=nx.average_shortest_path_length(WS_Random[i][j]['G'])    \n",
    "\n",
    "    name='WS_Allnetworks_LinearTransformation.pkl'\n",
    "    print('Saving WS')\n",
    "    with open(name, 'wb') as f:\n",
    "        pickle.dump([WS_Grid,WS_Random], f) "
   ]
  },
  {
   "cell_type": "markdown",
   "metadata": {},
   "source": [
    "# Scale-Free Barabasi-Albert Networks:"
   ]
  },
  {
   "cell_type": "code",
   "execution_count": 51,
   "metadata": {},
   "outputs": [],
   "source": [
    "BA_scaleFree=[None]*len(avgDeg)\n",
    "for i in range(len(avgDeg)):\n",
    "    BA_scaleFree[i]={'seed':[],'adj_matrix':[],'G':[],'Accuracy':{'Linear Transformation':[],'Mackey Glass':[],'MNIST':[]},'Graph Theory':{'Small World':[],'Modularity':[],'CCoeff':[],'MZ':[],'PCoeff':[],'PL':[]}}"
   ]
  },
  {
   "cell_type": "code",
   "execution_count": 75,
   "metadata": {},
   "outputs": [],
   "source": [
    "temp=[]\n",
    "scaleFree=[]\n",
    "for i in range(len(avgDeg)):\n",
    "    k=int(np.round(avgDeg[i]))\n",
    "    temp.append(nx.barabasi_albert_graph(numNodes[i],k,seed=WS_Random[i][0]['seed']))\n",
    "    scaleFree.append(max(connected_component_subgraphs(temp[i]), key=len))"
   ]
  },
  {
   "cell_type": "code",
   "execution_count": 97,
   "metadata": {},
   "outputs": [
    {
     "data": {
      "application/vnd.jupyter.widget-view+json": {
       "model_id": "8d61e39ea0fb44d8877e5069b35dd821",
       "version_major": 2,
       "version_minor": 0
      },
      "text/plain": [
       "HBox(children=(IntProgress(value=0, max=300), HTML(value='')))"
      ]
     },
     "metadata": {},
     "output_type": "display_data"
    }
   ],
   "source": [
    "temp=[]\n",
    "shortestPath_BA=[]\n",
    "onAmp_BA=[]\n",
    "\n",
    "for i in tqdm(range(len(avgDeg))):\n",
    "    temp.append(getFarthestPairing(nx.adj_matrix(scaleFree[i]).todense()))\n",
    "    shortestPath_BA.append(nx.shortest_path_length(scaleFree[i],temp[i][0],temp[i][1]))\n",
    "    onAmp_BA.append(shortestPath_BA[i]/5)"
   ]
  },
  {
   "cell_type": "code",
   "execution_count": 99,
   "metadata": {},
   "outputs": [
    {
     "data": {
      "application/vnd.jupyter.widget-view+json": {
       "model_id": "2f722714b686472e82104031dc502419",
       "version_major": 2,
       "version_minor": 0
      },
      "text/plain": [
       "HBox(children=(IntProgress(value=0, max=300), HTML(value='')))"
      ]
     },
     "metadata": {},
     "output_type": "display_data"
    },
    {
     "name": "stdout",
     "output_type": "stream",
     "text": [
      "Saving BA\n",
      "Finished Saving\n"
     ]
    }
   ],
   "source": [
    "# WS:\n",
    "for i in tqdm(range(len(BA_scaleFree))):\n",
    "    BA_scaleFree[i]['seed']=WS_Random[i][0]['seed']\n",
    "    BA_scaleFree[i]['sp_amp']=onAmp_BA[i]\n",
    "name='BA_Allnetworks_LinearTransformation.pkl'\n",
    "print('Saving BA')\n",
    "with open(name, 'wb') as f:\n",
    "    pickle.dump([BA_scaleFree], f)   \n",
    "print('Finished Saving')\n"
   ]
  },
  {
   "cell_type": "code",
   "execution_count": 100,
   "metadata": {},
   "outputs": [
    {
     "data": {
      "application/vnd.jupyter.widget-view+json": {
       "model_id": "e503f42e8bd34ccaaf3f3d5bf91351f5",
       "version_major": 2,
       "version_minor": 0
      },
      "text/plain": [
       "HBox(children=(IntProgress(value=0, max=300), HTML(value='')))"
      ]
     },
     "metadata": {},
     "output_type": "display_data"
    }
   ],
   "source": [
    "nodesList=[None]*len(avgDeg)\n",
    "for i in tqdm(range(len(avgDeg))):\n",
    "    if len(scaleFree[i]) >= 250:\n",
    "        nodesList[i]=[50,100,150,200,250,len(scaleFree[i])]#range(50, len(ws300[i][0])+1,50)\n",
    "    elif len(scaleFree[i]) >= 200 and len(scaleFree[i]) < 250:\n",
    "        nodesList[i]=[50,100,150,200,len(scaleFree[i])]#range(50, len(ws300[i][0])+1,50)  \n",
    "    elif len(scaleFree[i]) >= 150 and len(scaleFree[i]) < 200:\n",
    "        nodesList[i]=[50,100,150,len(scaleFree[i])]#range(50, len(ws300[i][0])+1,50)  \n",
    "    elif len(scaleFree[i]) >= 100 and len(scaleFree[i]) < 150:\n",
    "        nodesList[i]=[50,100,len(scaleFree[i])]#range(50, len(ws300[i][0])+1,50)"
   ]
  },
  {
   "cell_type": "code",
   "execution_count": 101,
   "metadata": {},
   "outputs": [],
   "source": [
    "def BA_Run(graph,onAmp,nodesList,network,i):\n",
    "    stimulus=[[],[]]\n",
    "    dt = 1e-2\n",
    "    f=0.5\n",
    "    Time=5\n",
    "    stimulus[0]=(stimulus__(biasType='AC',onAmp=onAmp[i],TimeVector=np.arange(0,Time,dt),f=f))\n",
    "    stimulus[1]=(stimulus__(biasType='Drain',TimeVector=np.arange(0,Time,dt))) #we don't want this drain to be active during training\n",
    "\n",
    "    stimulus2 = [item for item in stimulus] #go through each list in the list and find the ith item\n",
    "\n",
    "    results_grid=(runSim(connectivity__(graph=graph[i]),stimulus=stimulus2, contactMode='farthest', T = Time, dt = dt, onAmp = onAmp[i], biasType='AC',f=f,junctionMode='tunneling'))\n",
    "#     period=1/f\n",
    "    \n",
    "    nwSqu=[None]*len(nodesList[i])\n",
    "    countk=0\n",
    "    for k in nodesList[i]: #loop through sets of nodes for regression     \n",
    "        print('Running BA Network Regression: ' + str(k) + ' nodes')\n",
    "        ResultSqu=[]\n",
    "        ResultSqu = nonLinearTrans(results_grid,'Square',k, repeats=50) #simulation, type of signal, number of nodes to sample from, number of linear regression repetitions (take avg)\n",
    "        nwSqu[countk]=(ResultSqu['accuracy'])\n",
    "        countk=countk+1\n",
    "        if k == nodesList[i][-1]: #if k is equal to the largest node sampling\n",
    "            network[i]['Accuracy']['Linear Transformation']=[]\n",
    "            network[i]['Accuracy']['Linear Transformation'].append(nwSqu)\n",
    "#             print(WS_Grid[i]['Accuracy']['Linear Transformation'])\n",
    "        else:\n",
    "            network[i]['Accuracy']['Linear Transformation']=[None]\n",
    "    \n",
    "    accNetwork=nwSqu\n",
    "    return accNetwork,network"
   ]
  },
  {
   "cell_type": "code",
   "execution_count": 102,
   "metadata": {},
   "outputs": [],
   "source": [
    "# results_grid=[]\n",
    "# results_rand=[]\n",
    "init=[]\n",
    "for i in range(len(avgDeg)):\n",
    "   init.append(inputPacker(BA_Run,scaleFree,onAmp_BA,nodesList,BA_scaleFree,i))"
   ]
  },
  {
   "cell_type": "code",
   "execution_count": 103,
   "metadata": {},
   "outputs": [
    {
     "data": {
      "application/vnd.jupyter.widget-view+json": {
       "model_id": "86cef45791bf4c5988814d1e42551d89",
       "version_major": 2,
       "version_minor": 0
      },
      "text/plain": [
       "HBox(children=(IntProgress(value=0, max=300), HTML(value='')))"
      ]
     },
     "metadata": {},
     "output_type": "display_data"
    },
    {
     "name": "stderr",
     "output_type": "stream",
     "text": [
      "2020-06-17 14:43:41,499:INFO:First current path [250, 103, 240, 222, 293] formed at time = 0.78 s.\n"
     ]
    },
    {
     "name": "stdout",
     "output_type": "stream",
     "text": [
      "Running BA Network Regression: 50 nodes\n",
      "Running BA Network Regression: 100 nodes\n",
      "Running BA Network Regression: 150 nodes\n",
      "Running BA Network Regression: 200 nodes\n",
      "Running BA Network Regression: 250 nodes\n"
     ]
    },
    {
     "name": "stderr",
     "output_type": "stream",
     "text": [
      "2020-06-17 14:43:42,838:INFO:First current path [1, 59, 239, 112] formed at time = 0.75 s.\n"
     ]
    },
    {
     "name": "stdout",
     "output_type": "stream",
     "text": [
      "Running BA Network Regression: 50 nodes\n",
      "Running BA Network Regression: 100 nodes\n"
     ]
    },
    {
     "name": "stderr",
     "output_type": "stream",
     "text": [
      "2020-06-17 14:43:43,020:INFO:First current path [0, 23, 160, 254] formed at time = 0.76 s.\n"
     ]
    },
    {
     "name": "stdout",
     "output_type": "stream",
     "text": [
      "Running BA Network Regression: 50 nodes\n",
      "Running BA Network Regression: 150 nodes\n",
      "Running BA Network Regression: 100 nodes\n",
      "Running BA Network Regression: 150 nodes\n",
      "Running BA Network Regression: 200 nodes\n",
      "Running BA Network Regression: 299 nodes\n",
      "Running BA Network Regression: 200 nodes\n",
      "Running BA Network Regression: 250 nodes\n"
     ]
    },
    {
     "name": "stderr",
     "output_type": "stream",
     "text": [
      "2020-06-17 14:43:44,275:INFO:First current path [14, 66, 242, 216] formed at time = 0.76 s.\n"
     ]
    },
    {
     "name": "stdout",
     "output_type": "stream",
     "text": [
      "Running BA Network Regression: 50 nodes\n",
      "Running BA Network Regression: 250 nodes\n",
      "Running BA Network Regression: 100 nodes\n",
      "Running BA Network Regression: 150 nodes\n",
      "Running BA Network Regression: 200 nodes\n",
      "Running BA Network Regression: 300 nodes\n"
     ]
    },
    {
     "name": "stderr",
     "output_type": "stream",
     "text": [
      "2020-06-17 14:43:45,137:INFO:First current path [176, 191, 287, 210] formed at time = 0.76 s.\n"
     ]
    },
    {
     "name": "stdout",
     "output_type": "stream",
     "text": [
      "Running BA Network Regression: 50 nodes\n"
     ]
    },
    {
     "name": "stderr",
     "output_type": "stream",
     "text": [
      "2020-06-17 14:43:45,153:INFO:First current path [280, 273, 231, 277] formed at time = 0.76 s.\n"
     ]
    },
    {
     "name": "stdout",
     "output_type": "stream",
     "text": [
      "Running BA Network Regression: 50 nodes\n",
      "Running BA Network Regression: 300 nodes\n",
      "Running BA Network Regression: 100 nodes\n",
      "Running BA Network Regression: 100 nodes\n",
      "Running BA Network Regression: 150 nodes\n",
      "Running BA Network Regression: 150 nodes\n",
      "Running BA Network Regression: 250 nodes\n"
     ]
    },
    {
     "name": "stderr",
     "output_type": "stream",
     "text": [
      "2020-06-17 14:43:45,460:INFO:First current path [0, 44, 2] formed at time = 0.75 s.\n"
     ]
    },
    {
     "name": "stdout",
     "output_type": "stream",
     "text": [
      "Running BA Network Regression: 50 nodes\n",
      "Running BA Network Regression: 100 nodes\n",
      "Running BA Network Regression: 200 nodes\n",
      "Running BA Network Regression: 150 nodes\n",
      "Running BA Network Regression: 200 nodes\n"
     ]
    },
    {
     "data": {
      "application/vnd.jupyter.widget-view+json": {
       "model_id": "516bf1c0f10c4d11ad1c83310a8050c8",
       "version_major": 2,
       "version_minor": 0
      },
      "text/plain": [
       "HBox(children=(IntProgress(value=0, description='Running Simulation ', max=500, style=ProgressStyle(descriptio…"
      ]
     },
     "metadata": {},
     "output_type": "display_data"
    },
    {
     "name": "stdout",
     "output_type": "stream",
     "text": [
      "Running BA Network Regression: 200 nodes\n",
      "Running BA Network Regression: 250 nodes\n",
      "Running BA Network Regression: 300 nodes\n",
      "Running BA Network Regression: 250 nodes\n",
      "Running BA Network Regression: 250 nodes\n"
     ]
    },
    {
     "data": {
      "application/vnd.jupyter.widget-view+json": {
       "model_id": "3ad1f75859264643abbf117ac63e10af",
       "version_major": 2,
       "version_minor": 0
      },
      "text/plain": [
       "HBox(children=(IntProgress(value=0, description='Running Simulation ', max=500, style=ProgressStyle(descriptio…"
      ]
     },
     "metadata": {},
     "output_type": "display_data"
    },
    {
     "name": "stderr",
     "output_type": "stream",
     "text": [
      "2020-06-17 14:43:47,006:INFO:First current path [0, 56, 2] formed at time = 0.75 s.\n"
     ]
    },
    {
     "name": "stdout",
     "output_type": "stream",
     "text": [
      "Running BA Network Regression: 50 nodes\n",
      "Running BA Network Regression: 300 nodes\n"
     ]
    },
    {
     "name": "stderr",
     "output_type": "stream",
     "text": [
      "2020-06-17 14:43:47,058:INFO:First current path [0, 52, 2] formed at time = 0.75 s.\n"
     ]
    },
    {
     "name": "stdout",
     "output_type": "stream",
     "text": [
      "Running BA Network Regression: 50 nodes\n",
      "Running BA Network Regression: 100 nodes\n",
      "Running BA Network Regression: 300 nodes\n"
     ]
    },
    {
     "name": "stderr",
     "output_type": "stream",
     "text": [
      "2020-06-17 14:43:47,117:INFO:First current path [105, 65, 123, 124, 290] formed at time = 0.77 s.\n"
     ]
    },
    {
     "name": "stdout",
     "output_type": "stream",
     "text": [
      "Running BA Network Regression: 50 nodes\n",
      "Running BA Network Regression: 100 nodes\n",
      "Running BA Network Regression: 100 nodes\n",
      "Running BA Network Regression: 150 nodes\n",
      "Running BA Network Regression: 150 nodes\n",
      "Running BA Network Regression: 150 nodes\n",
      "Running BA Network Regression: 300 nodes\n"
     ]
    },
    {
     "name": "stderr",
     "output_type": "stream",
     "text": [
      "2020-06-17 14:43:47,514:INFO:First current path [0, 65, 2] formed at time = 0.75 s.\n"
     ]
    },
    {
     "name": "stdout",
     "output_type": "stream",
     "text": [
      "Running BA Network Regression: 50 nodes\n"
     ]
    },
    {
     "data": {
      "application/vnd.jupyter.widget-view+json": {
       "model_id": "5346d01174514499a7e5fa217749ded2",
       "version_major": 2,
       "version_minor": 0
      },
      "text/plain": [
       "HBox(children=(IntProgress(value=0, description='Running Simulation ', max=500, style=ProgressStyle(descriptio…"
      ]
     },
     "metadata": {},
     "output_type": "display_data"
    },
    {
     "name": "stdout",
     "output_type": "stream",
     "text": [
      "Running BA Network Regression: 200 nodes\n",
      "Running BA Network Regression: 100 nodes\n",
      "Running BA Network Regression: 200 nodes\n",
      "Running BA Network Regression: 200 nodes\n",
      "Running BA Network Regression: 150 nodes\n",
      "Running BA Network Regression: 200 nodes\n",
      "Running BA Network Regression: 250 nodes\n",
      "Running BA Network Regression: 250 nodes\n"
     ]
    },
    {
     "name": "stderr",
     "output_type": "stream",
     "text": [
      "2020-06-17 14:43:48,305:INFO:First current path [0, 92, 62, 231] formed at time = 0.75 s.\n"
     ]
    },
    {
     "name": "stdout",
     "output_type": "stream",
     "text": [
      "Running BA Network Regression: 50 nodes\n",
      "Running BA Network Regression: 250 nodes\n",
      "Running BA Network Regression: 100 nodes\n"
     ]
    },
    {
     "data": {
      "application/vnd.jupyter.widget-view+json": {
       "model_id": "1e9268cb24b94f4a8355941d93149a9d",
       "version_major": 2,
       "version_minor": 0
      },
      "text/plain": [
       "HBox(children=(IntProgress(value=0, description='Running Simulation ', max=500, style=ProgressStyle(descriptio…"
      ]
     },
     "metadata": {},
     "output_type": "display_data"
    },
    {
     "name": "stdout",
     "output_type": "stream",
     "text": [
      "Running BA Network Regression: 150 nodes\n",
      "Running BA Network Regression: 250 nodes\n",
      "Running BA Network Regression: 300 nodes\n",
      "Running BA Network Regression: 300 nodes\n",
      "Running BA Network Regression: 200 nodes\n"
     ]
    },
    {
     "name": "stderr",
     "output_type": "stream",
     "text": [
      "2020-06-17 14:43:49,114:INFO:First current path [1, 219, 108, 148] formed at time = 0.75 s.\n"
     ]
    },
    {
     "name": "stdout",
     "output_type": "stream",
     "text": [
      "Running BA Network Regression: 50 nodes\n",
      "Running BA Network Regression: 298 nodes\n",
      "Running BA Network Regression: 100 nodes\n",
      "Running BA Network Regression: 300 nodes\n",
      "Running BA Network Regression: 150 nodes\n",
      "Running BA Network Regression: 250 nodes\n",
      "Running BA Network Regression: 200 nodes\n"
     ]
    },
    {
     "name": "stderr",
     "output_type": "stream",
     "text": [
      "2020-06-17 14:43:50,164:INFO:First current path [3, 85, 181, 161] formed at time = 0.76 s.\n"
     ]
    },
    {
     "name": "stdout",
     "output_type": "stream",
     "text": [
      "Running BA Network Regression: 50 nodes\n",
      "Running BA Network Regression: 100 nodes\n",
      "Running BA Network Regression: 250 nodes\n",
      "Running BA Network Regression: 300 nodes\n",
      "Running BA Network Regression: 150 nodes\n",
      "Running BA Network Regression: 200 nodes\n",
      "Running BA Network Regression: 300 nodes\n"
     ]
    },
    {
     "data": {
      "application/vnd.jupyter.widget-view+json": {
       "model_id": "122337c479b44687954a695c5aef0fd2",
       "version_major": 2,
       "version_minor": 0
      },
      "text/plain": [
       "HBox(children=(IntProgress(value=0, description='Running Simulation ', max=500, style=ProgressStyle(descriptio…"
      ]
     },
     "metadata": {},
     "output_type": "display_data"
    },
    {
     "name": "stdout",
     "output_type": "stream",
     "text": [
      "Running BA Network Regression: 250 nodes\n"
     ]
    },
    {
     "data": {
      "application/vnd.jupyter.widget-view+json": {
       "model_id": "273894e9258242d0806bec2826ef729d",
       "version_major": 2,
       "version_minor": 0
      },
      "text/plain": [
       "HBox(children=(IntProgress(value=0, description='Running Simulation ', max=500, style=ProgressStyle(descriptio…"
      ]
     },
     "metadata": {},
     "output_type": "display_data"
    },
    {
     "data": {
      "application/vnd.jupyter.widget-view+json": {
       "model_id": "965fefc5ab934beeb6708be6f764781b",
       "version_major": 2,
       "version_minor": 0
      },
      "text/plain": [
       "HBox(children=(IntProgress(value=0, description='Running Simulation ', max=500, style=ProgressStyle(descriptio…"
      ]
     },
     "metadata": {},
     "output_type": "display_data"
    },
    {
     "name": "stdout",
     "output_type": "stream",
     "text": [
      "Running BA Network Regression: 300 nodes\n"
     ]
    },
    {
     "data": {
      "application/vnd.jupyter.widget-view+json": {
       "model_id": "756f542080404541b70f71734da4284b",
       "version_major": 2,
       "version_minor": 0
      },
      "text/plain": [
       "HBox(children=(IntProgress(value=0, description='Running Simulation ', max=500, style=ProgressStyle(descriptio…"
      ]
     },
     "metadata": {},
     "output_type": "display_data"
    },
    {
     "name": "stderr",
     "output_type": "stream",
     "text": [
      "2020-06-17 14:43:53,092:INFO:First current path [0, 69, 285, 299] formed at time = 0.75 s.\n"
     ]
    },
    {
     "name": "stdout",
     "output_type": "stream",
     "text": [
      "Running BA Network Regression: 50 nodes\n",
      "Running BA Network Regression: 100 nodes\n",
      "Running BA Network Regression: 150 nodes\n",
      "Running BA Network Regression: 200 nodes\n"
     ]
    },
    {
     "name": "stderr",
     "output_type": "stream",
     "text": [
      "2020-06-17 14:43:53,984:INFO:First current path [220, 164, 277, 272] formed at time = 0.77 s.\n"
     ]
    },
    {
     "name": "stdout",
     "output_type": "stream",
     "text": [
      "Running BA Network Regression: 50 nodes\n",
      "Running BA Network Regression: 100 nodes\n"
     ]
    },
    {
     "name": "stderr",
     "output_type": "stream",
     "text": [
      "2020-06-17 14:43:54,156:INFO:First current path [273, 195, 183, 286] formed at time = 0.76 s.\n"
     ]
    },
    {
     "name": "stdout",
     "output_type": "stream",
     "text": [
      "Running BA Network Regression: 50 nodes\n",
      "Running BA Network Regression: 100 nodes\n",
      "Running BA Network Regression: 150 nodes\n",
      "Running BA Network Regression: 250 nodes\n",
      "Running BA Network Regression: 150 nodes\n",
      "Running BA Network Regression: 200 nodes\n"
     ]
    },
    {
     "name": "stderr",
     "output_type": "stream",
     "text": [
      "2020-06-17 14:43:54,619:INFO:First current path [22, 205, 142, 199] formed at time = 0.76 s.\n"
     ]
    },
    {
     "name": "stdout",
     "output_type": "stream",
     "text": [
      "Running BA Network Regression: 50 nodes\n"
     ]
    },
    {
     "data": {
      "application/vnd.jupyter.widget-view+json": {
       "model_id": "db7a7bb98179417b8cfcb5fc3c21eb25",
       "version_major": 2,
       "version_minor": 0
      },
      "text/plain": [
       "HBox(children=(IntProgress(value=0, description='Running Simulation ', max=500, style=ProgressStyle(descriptio…"
      ]
     },
     "metadata": {},
     "output_type": "display_data"
    },
    {
     "name": "stdout",
     "output_type": "stream",
     "text": [
      "Running BA Network Regression: 100 nodes\n",
      "Running BA Network Regression: 200 nodes\n"
     ]
    },
    {
     "data": {
      "application/vnd.jupyter.widget-view+json": {
       "model_id": "67121a1871ff4b24a427649e8e25e44e",
       "version_major": 2,
       "version_minor": 0
      },
      "text/plain": [
       "HBox(children=(IntProgress(value=0, description='Running Simulation ', max=500, style=ProgressStyle(descriptio…"
      ]
     },
     "metadata": {},
     "output_type": "display_data"
    },
    {
     "name": "stdout",
     "output_type": "stream",
     "text": [
      "Running BA Network Regression: 150 nodes\n"
     ]
    },
    {
     "data": {
      "application/vnd.jupyter.widget-view+json": {
       "model_id": "509ed87c0b8644ed9b7478e85b8ee3b8",
       "version_major": 2,
       "version_minor": 0
      },
      "text/plain": [
       "HBox(children=(IntProgress(value=0, description='Running Simulation ', max=500, style=ProgressStyle(descriptio…"
      ]
     },
     "metadata": {},
     "output_type": "display_data"
    },
    {
     "name": "stdout",
     "output_type": "stream",
     "text": [
      "Running BA Network Regression: 250 nodes\n",
      "Running BA Network Regression: 300 nodes\n",
      "Running BA Network Regression: 200 nodes\n",
      "Running BA Network Regression: 250 nodes\n",
      "Running BA Network Regression: 250 nodes\n"
     ]
    },
    {
     "data": {
      "application/vnd.jupyter.widget-view+json": {
       "model_id": "767e03393e5941828da62cac285b21a2",
       "version_major": 2,
       "version_minor": 0
      },
      "text/plain": [
       "HBox(children=(IntProgress(value=0, description='Running Simulation ', max=500, style=ProgressStyle(descriptio…"
      ]
     },
     "metadata": {},
     "output_type": "display_data"
    },
    {
     "name": "stdout",
     "output_type": "stream",
     "text": [
      "Running BA Network Regression: 300 nodes\n",
      "Running BA Network Regression: 300 nodes\n"
     ]
    },
    {
     "name": "stderr",
     "output_type": "stream",
     "text": [
      "2020-06-17 14:43:56,361:INFO:First current path [3, 85, 31, 213, 209] formed at time = 0.75 s.\n"
     ]
    },
    {
     "name": "stdout",
     "output_type": "stream",
     "text": [
      "Running BA Network Regression: 50 nodes\n",
      "Running BA Network Regression: 100 nodes\n"
     ]
    },
    {
     "name": "stderr",
     "output_type": "stream",
     "text": [
      "2020-06-17 14:43:56,587:INFO:First current path [0, 47, 2] formed at time = 0.75 s.\n"
     ]
    },
    {
     "name": "stdout",
     "output_type": "stream",
     "text": [
      "Running BA Network Regression: 50 nodes\n",
      "Running BA Network Regression: 150 nodes\n",
      "Running BA Network Regression: 300 nodes\n",
      "Running BA Network Regression: 100 nodes\n",
      "Running BA Network Regression: 150 nodes\n"
     ]
    },
    {
     "name": "stderr",
     "output_type": "stream",
     "text": [
      "2020-06-17 14:43:56,863:INFO:First current path [0, 50, 2] formed at time = 0.75 s.\n"
     ]
    },
    {
     "name": "stdout",
     "output_type": "stream",
     "text": [
      "Running BA Network Regression: 50 nodes\n",
      "Running BA Network Regression: 100 nodes\n",
      "Running BA Network Regression: 200 nodes\n",
      "Running BA Network Regression: 150 nodes\n",
      "Running BA Network Regression: 200 nodes\n"
     ]
    },
    {
     "data": {
      "application/vnd.jupyter.widget-view+json": {
       "model_id": "c74ddab9206e4845a787f159731bbe2c",
       "version_major": 2,
       "version_minor": 0
      },
      "text/plain": [
       "HBox(children=(IntProgress(value=0, description='Running Simulation ', max=500, style=ProgressStyle(descriptio…"
      ]
     },
     "metadata": {},
     "output_type": "display_data"
    },
    {
     "name": "stderr",
     "output_type": "stream",
     "text": [
      "2020-06-17 14:43:57,276:INFO:First current path [173, 199, 30, 25, 263] formed at time = 0.77 s.\n"
     ]
    },
    {
     "name": "stdout",
     "output_type": "stream",
     "text": [
      "Running BA Network Regression: 50 nodes\n"
     ]
    },
    {
     "data": {
      "application/vnd.jupyter.widget-view+json": {
       "model_id": "dbcdad9489e44edfb78f276523fdffc7",
       "version_major": 2,
       "version_minor": 0
      },
      "text/plain": [
       "HBox(children=(IntProgress(value=0, description='Running Simulation ', max=500, style=ProgressStyle(descriptio…"
      ]
     },
     "metadata": {},
     "output_type": "display_data"
    },
    {
     "name": "stdout",
     "output_type": "stream",
     "text": [
      "Running BA Network Regression: 100 nodes\n",
      "Running BA Network Regression: 200 nodes\n",
      "Running BA Network Regression: 250 nodes\n",
      "Running BA Network Regression: 150 nodes\n",
      "Running BA Network Regression: 250 nodes\n",
      "Running BA Network Regression: 250 nodes\n"
     ]
    },
    {
     "data": {
      "application/vnd.jupyter.widget-view+json": {
       "model_id": "99f4a6347c1c447f8d84da563cb3830c",
       "version_major": 2,
       "version_minor": 0
      },
      "text/plain": [
       "HBox(children=(IntProgress(value=0, description='Running Simulation ', max=500, style=ProgressStyle(descriptio…"
      ]
     },
     "metadata": {},
     "output_type": "display_data"
    },
    {
     "name": "stdout",
     "output_type": "stream",
     "text": [
      "Running BA Network Regression: 200 nodes\n",
      "Running BA Network Regression: 292 nodes\n"
     ]
    },
    {
     "data": {
      "application/vnd.jupyter.widget-view+json": {
       "model_id": "6a545aae295a4c6fa8777ad2d5ea4d4a",
       "version_major": 2,
       "version_minor": 0
      },
      "text/plain": [
       "HBox(children=(IntProgress(value=0, description='Running Simulation ', max=500, style=ProgressStyle(descriptio…"
      ]
     },
     "metadata": {},
     "output_type": "display_data"
    },
    {
     "name": "stdout",
     "output_type": "stream",
     "text": [
      "Running BA Network Regression: 300 nodes\n",
      "Running BA Network Regression: 250 nodes\n",
      "Running BA Network Regression: 300 nodes\n"
     ]
    },
    {
     "name": "stderr",
     "output_type": "stream",
     "text": [
      "2020-06-17 14:43:58,796:INFO:First current path [1, 92, 192, 296] formed at time = 0.75 s.\n"
     ]
    },
    {
     "name": "stdout",
     "output_type": "stream",
     "text": [
      "Running BA Network Regression: 50 nodes\n",
      "Running BA Network Regression: 100 nodes\n"
     ]
    },
    {
     "name": "stderr",
     "output_type": "stream",
     "text": [
      "2020-06-17 14:43:58,963:INFO:First current path [3, 132, 148, 153] formed at time = 0.76 s.\n"
     ]
    },
    {
     "name": "stdout",
     "output_type": "stream",
     "text": [
      "Running BA Network Regression: 50 nodes\n"
     ]
    },
    {
     "data": {
      "application/vnd.jupyter.widget-view+json": {
       "model_id": "1ceb15f9770541acbe091eda6bd1a42c",
       "version_major": 2,
       "version_minor": 0
      },
      "text/plain": [
       "HBox(children=(IntProgress(value=0, description='Running Simulation ', max=500, style=ProgressStyle(descriptio…"
      ]
     },
     "metadata": {},
     "output_type": "display_data"
    },
    {
     "name": "stdout",
     "output_type": "stream",
     "text": [
      "Running BA Network Regression: 100 nodes\n",
      "Running BA Network Regression: 150 nodes\n",
      "Running BA Network Regression: 150 nodes\n",
      "Running BA Network Regression: 300 nodes\n"
     ]
    },
    {
     "name": "stderr",
     "output_type": "stream",
     "text": [
      "2020-06-17 14:43:59,400:INFO:First current path [0, 10, 130, 79] formed at time = 0.75 s.\n"
     ]
    },
    {
     "name": "stdout",
     "output_type": "stream",
     "text": [
      "Running BA Network Regression: 50 nodes\n",
      "Running BA Network Regression: 200 nodes\n",
      "Running BA Network Regression: 100 nodes\n",
      "Running BA Network Regression: 200 nodes\n"
     ]
    },
    {
     "data": {
      "application/vnd.jupyter.widget-view+json": {
       "model_id": "9ffff86f1773422dae8eae951d3da5f4",
       "version_major": 2,
       "version_minor": 0
      },
      "text/plain": [
       "HBox(children=(IntProgress(value=0, description='Running Simulation ', max=500, style=ProgressStyle(descriptio…"
      ]
     },
     "metadata": {},
     "output_type": "display_data"
    },
    {
     "name": "stdout",
     "output_type": "stream",
     "text": [
      "Running BA Network Regression: 150 nodes\n",
      "Running BA Network Regression: 250 nodes\n",
      "Running BA Network Regression: 200 nodes\n"
     ]
    },
    {
     "name": "stderr",
     "output_type": "stream",
     "text": [
      "2020-06-17 14:44:00,079:INFO:First current path [69, 93, 251, 299] formed at time = 0.76 s.\n"
     ]
    },
    {
     "name": "stdout",
     "output_type": "stream",
     "text": [
      "Running BA Network Regression: 50 nodes\n",
      "Running BA Network Regression: 250 nodes\n",
      "Running BA Network Regression: 100 nodes\n"
     ]
    },
    {
     "data": {
      "application/vnd.jupyter.widget-view+json": {
       "model_id": "90ad081fb65f4e37833633c57d775a5b",
       "version_major": 2,
       "version_minor": 0
      },
      "text/plain": [
       "HBox(children=(IntProgress(value=0, description='Running Simulation ', max=500, style=ProgressStyle(descriptio…"
      ]
     },
     "metadata": {},
     "output_type": "display_data"
    },
    {
     "name": "stdout",
     "output_type": "stream",
     "text": [
      "Running BA Network Regression: 150 nodes\n",
      "Running BA Network Regression: 250 nodes\n",
      "Running BA Network Regression: 200 nodes\n"
     ]
    },
    {
     "name": "stderr",
     "output_type": "stream",
     "text": [
      "2020-06-17 14:44:00,835:INFO:First current path [132, 182, 230, 223] formed at time = 0.76 s.\n"
     ]
    },
    {
     "name": "stdout",
     "output_type": "stream",
     "text": [
      "Running BA Network Regression: 50 nodes\n"
     ]
    },
    {
     "data": {
      "application/vnd.jupyter.widget-view+json": {
       "model_id": "273361aef3a74125a98f4b6040f3e360",
       "version_major": 2,
       "version_minor": 0
      },
      "text/plain": [
       "HBox(children=(IntProgress(value=0, description='Running Simulation ', max=500, style=ProgressStyle(descriptio…"
      ]
     },
     "metadata": {},
     "output_type": "display_data"
    },
    {
     "name": "stdout",
     "output_type": "stream",
     "text": [
      "Running BA Network Regression: 300 nodes\n",
      "Running BA Network Regression: 100 nodes\n",
      "Running BA Network Regression: 300 nodes\n",
      "Running BA Network Regression: 150 nodes\n",
      "Running BA Network Regression: 250 nodes\n"
     ]
    },
    {
     "name": "stderr",
     "output_type": "stream",
     "text": [
      "2020-06-17 14:44:01,323:INFO:First current path [160, 204, 238, 278] formed at time = 0.76 s.\n"
     ]
    },
    {
     "name": "stdout",
     "output_type": "stream",
     "text": [
      "Running BA Network Regression: 50 nodes\n",
      "Running BA Network Regression: 100 nodes\n",
      "Running BA Network Regression: 200 nodes\n",
      "Running BA Network Regression: 300 nodes\n",
      "Running BA Network Regression: 150 nodes\n",
      "Running BA Network Regression: 200 nodes\n",
      "Running BA Network Regression: 250 nodes\n"
     ]
    },
    {
     "name": "stderr",
     "output_type": "stream",
     "text": [
      "2020-06-17 14:44:02,032:INFO:First current path [0, 40, 2] formed at time = 0.75 s.\n"
     ]
    },
    {
     "name": "stdout",
     "output_type": "stream",
     "text": [
      "Running BA Network Regression: 50 nodes\n",
      "Running BA Network Regression: 100 nodes\n",
      "Running BA Network Regression: 300 nodes\n",
      "Running BA Network Regression: 150 nodes\n"
     ]
    },
    {
     "data": {
      "application/vnd.jupyter.widget-view+json": {
       "model_id": "7a46f9fe444c4fd6bc3968448be09628",
       "version_major": 2,
       "version_minor": 0
      },
      "text/plain": [
       "HBox(children=(IntProgress(value=0, description='Running Simulation ', max=500, style=ProgressStyle(descriptio…"
      ]
     },
     "metadata": {},
     "output_type": "display_data"
    },
    {
     "name": "stdout",
     "output_type": "stream",
     "text": [
      "Running BA Network Regression: 250 nodes\n",
      "Running BA Network Regression: 200 nodes\n"
     ]
    },
    {
     "name": "stderr",
     "output_type": "stream",
     "text": [
      "2020-06-17 14:44:02,688:INFO:First current path [0, 44, 2] formed at time = 0.75 s.\n"
     ]
    },
    {
     "name": "stdout",
     "output_type": "stream",
     "text": [
      "Running BA Network Regression: 50 nodes\n",
      "Running BA Network Regression: 100 nodes\n",
      "Running BA Network Regression: 300 nodes\n",
      "Running BA Network Regression: 150 nodes\n"
     ]
    },
    {
     "data": {
      "application/vnd.jupyter.widget-view+json": {
       "model_id": "2344747a81f24b6bb244ef6cf4a451df",
       "version_major": 2,
       "version_minor": 0
      },
      "text/plain": [
       "HBox(children=(IntProgress(value=0, description='Running Simulation ', max=500, style=ProgressStyle(descriptio…"
      ]
     },
     "metadata": {},
     "output_type": "display_data"
    },
    {
     "name": "stdout",
     "output_type": "stream",
     "text": [
      "Running BA Network Regression: 250 nodes\n",
      "Running BA Network Regression: 200 nodes\n",
      "Running BA Network Regression: 300 nodes\n"
     ]
    },
    {
     "name": "stderr",
     "output_type": "stream",
     "text": [
      "2020-06-17 14:44:03,680:INFO:First current path [165, 74, 22, 169, 148, 288] formed at time = 0.77 s.\n"
     ]
    },
    {
     "name": "stdout",
     "output_type": "stream",
     "text": [
      "Running BA Network Regression: 50 nodes\n",
      "Running BA Network Regression: 250 nodes\n",
      "Running BA Network Regression: 300 nodes\n",
      "Running BA Network Regression: 100 nodes\n",
      "Running BA Network Regression: 150 nodes\n"
     ]
    },
    {
     "data": {
      "application/vnd.jupyter.widget-view+json": {
       "model_id": "e88b1aa52a41468090d782cbcb240150",
       "version_major": 2,
       "version_minor": 0
      },
      "text/plain": [
       "HBox(children=(IntProgress(value=0, description='Running Simulation ', max=500, style=ProgressStyle(descriptio…"
      ]
     },
     "metadata": {},
     "output_type": "display_data"
    },
    {
     "name": "stdout",
     "output_type": "stream",
     "text": [
      "Running BA Network Regression: 200 nodes\n"
     ]
    },
    {
     "name": "stderr",
     "output_type": "stream",
     "text": [
      "2020-06-17 14:44:04,466:INFO:First current path [0, 8, 24, 129, 174] formed at time = 0.83 s.\n"
     ]
    },
    {
     "name": "stdout",
     "output_type": "stream",
     "text": [
      "Running BA Network Regression: 50 nodes\n",
      "Running BA Network Regression: 300 nodes\n",
      "Running BA Network Regression: 100 nodes\n",
      "Running BA Network Regression: 150 nodes\n",
      "Running BA Network Regression: 250 nodes\n",
      "Running BA Network Regression: 200 nodes\n"
     ]
    },
    {
     "data": {
      "application/vnd.jupyter.widget-view+json": {
       "model_id": "dd489ef0d23b4a30a3b12aa9da919b90",
       "version_major": 2,
       "version_minor": 0
      },
      "text/plain": [
       "HBox(children=(IntProgress(value=0, description='Running Simulation ', max=500, style=ProgressStyle(descriptio…"
      ]
     },
     "metadata": {},
     "output_type": "display_data"
    },
    {
     "name": "stdout",
     "output_type": "stream",
     "text": [
      "Running BA Network Regression: 295 nodes\n",
      "Running BA Network Regression: 250 nodes\n"
     ]
    },
    {
     "name": "stderr",
     "output_type": "stream",
     "text": [
      "2020-06-17 14:44:05,795:INFO:First current path [0, 18, 296, 89] formed at time = 0.75 s.\n"
     ]
    },
    {
     "name": "stdout",
     "output_type": "stream",
     "text": [
      "Running BA Network Regression: 50 nodes\n",
      "Running BA Network Regression: 100 nodes\n"
     ]
    },
    {
     "data": {
      "application/vnd.jupyter.widget-view+json": {
       "model_id": "db89359c0fff49cb85c67a8909879bd5",
       "version_major": 2,
       "version_minor": 0
      },
      "text/plain": [
       "HBox(children=(IntProgress(value=0, description='Running Simulation ', max=500, style=ProgressStyle(descriptio…"
      ]
     },
     "metadata": {},
     "output_type": "display_data"
    },
    {
     "data": {
      "application/vnd.jupyter.widget-view+json": {
       "model_id": "9e5a45aea8bc4c008abe1e2b49719d24",
       "version_major": 2,
       "version_minor": 0
      },
      "text/plain": [
       "HBox(children=(IntProgress(value=0, description='Running Simulation ', max=500, style=ProgressStyle(descriptio…"
      ]
     },
     "metadata": {},
     "output_type": "display_data"
    },
    {
     "name": "stdout",
     "output_type": "stream",
     "text": [
      "Running BA Network Regression: 150 nodes\n",
      "Running BA Network Regression: 200 nodes\n",
      "Running BA Network Regression: 299 nodes\n"
     ]
    },
    {
     "data": {
      "application/vnd.jupyter.widget-view+json": {
       "model_id": "9a5a20ea441b4f2f88ab963b812ecb1f",
       "version_major": 2,
       "version_minor": 0
      },
      "text/plain": [
       "HBox(children=(IntProgress(value=0, description='Running Simulation ', max=500, style=ProgressStyle(descriptio…"
      ]
     },
     "metadata": {},
     "output_type": "display_data"
    },
    {
     "name": "stdout",
     "output_type": "stream",
     "text": [
      "Running BA Network Regression: 250 nodes\n"
     ]
    },
    {
     "name": "stderr",
     "output_type": "stream",
     "text": [
      "2020-06-17 14:44:07,183:INFO:First current path [0, 138, 129, 238] formed at time = 0.75 s.\n"
     ]
    },
    {
     "name": "stdout",
     "output_type": "stream",
     "text": [
      "Running BA Network Regression: 50 nodes\n",
      "Running BA Network Regression: 100 nodes\n"
     ]
    },
    {
     "data": {
      "application/vnd.jupyter.widget-view+json": {
       "model_id": "cc4ac7bd121c43c49b33a5f78a0a047d",
       "version_major": 2,
       "version_minor": 0
      },
      "text/plain": [
       "HBox(children=(IntProgress(value=0, description='Running Simulation ', max=500, style=ProgressStyle(descriptio…"
      ]
     },
     "metadata": {},
     "output_type": "display_data"
    },
    {
     "name": "stdout",
     "output_type": "stream",
     "text": [
      "Running BA Network Regression: 150 nodes\n"
     ]
    },
    {
     "name": "stderr",
     "output_type": "stream",
     "text": [
      "2020-06-17 14:44:07,614:INFO:First current path [2, 139, 282, 247] formed at time = 0.75 s.\n"
     ]
    },
    {
     "name": "stdout",
     "output_type": "stream",
     "text": [
      "Running BA Network Regression: 50 nodes\n",
      "Running BA Network Regression: 100 nodes\n"
     ]
    },
    {
     "name": "stderr",
     "output_type": "stream",
     "text": [
      "2020-06-17 14:44:07,839:INFO:First current path [4, 81, 216, 229] formed at time = 0.75 s.\n"
     ]
    },
    {
     "name": "stdout",
     "output_type": "stream",
     "text": [
      "Running BA Network Regression: 50 nodes\n"
     ]
    },
    {
     "data": {
      "application/vnd.jupyter.widget-view+json": {
       "model_id": "dd07092f078746749af8a55866ee1788",
       "version_major": 2,
       "version_minor": 0
      },
      "text/plain": [
       "HBox(children=(IntProgress(value=0, description='Running Simulation ', max=500, style=ProgressStyle(descriptio…"
      ]
     },
     "metadata": {},
     "output_type": "display_data"
    },
    {
     "name": "stdout",
     "output_type": "stream",
     "text": [
      "Running BA Network Regression: 200 nodes\n",
      "Running BA Network Regression: 150 nodes\n",
      "Running BA Network Regression: 297 nodes\n",
      "Running BA Network Regression: 100 nodes\n",
      "Running BA Network Regression: 150 nodes\n",
      "Running BA Network Regression: 200 nodes\n"
     ]
    },
    {
     "data": {
      "application/vnd.jupyter.widget-view+json": {
       "model_id": "6a15e6c8477a4026ad3dccc8d49bfc5b",
       "version_major": 2,
       "version_minor": 0
      },
      "text/plain": [
       "HBox(children=(IntProgress(value=0, description='Running Simulation ', max=500, style=ProgressStyle(descriptio…"
      ]
     },
     "metadata": {},
     "output_type": "display_data"
    },
    {
     "name": "stdout",
     "output_type": "stream",
     "text": [
      "Running BA Network Regression: 250 nodes\n",
      "Running BA Network Regression: 200 nodes\n"
     ]
    },
    {
     "name": "stderr",
     "output_type": "stream",
     "text": [
      "2020-06-17 14:44:08,752:INFO:First current path [4, 291, 55, 195] formed at time = 0.76 s.\n"
     ]
    },
    {
     "name": "stdout",
     "output_type": "stream",
     "text": [
      "Running BA Network Regression: 50 nodes\n"
     ]
    },
    {
     "data": {
      "application/vnd.jupyter.widget-view+json": {
       "model_id": "1b89d2b57ffa4ceb8ed4940e0c2056fc",
       "version_major": 2,
       "version_minor": 0
      },
      "text/plain": [
       "HBox(children=(IntProgress(value=0, description='Running Simulation ', max=500, style=ProgressStyle(descriptio…"
      ]
     },
     "metadata": {},
     "output_type": "display_data"
    },
    {
     "name": "stdout",
     "output_type": "stream",
     "text": [
      "Running BA Network Regression: 250 nodes\n",
      "Running BA Network Regression: 100 nodes\n",
      "Running BA Network Regression: 150 nodes\n",
      "Running BA Network Regression: 250 nodes\n"
     ]
    },
    {
     "data": {
      "application/vnd.jupyter.widget-view+json": {
       "model_id": "45b5fc5e66534680a8f44599d4ccbf62",
       "version_major": 2,
       "version_minor": 0
      },
      "text/plain": [
       "HBox(children=(IntProgress(value=0, description='Running Simulation ', max=500, style=ProgressStyle(descriptio…"
      ]
     },
     "metadata": {},
     "output_type": "display_data"
    },
    {
     "name": "stderr",
     "output_type": "stream",
     "text": [
      "2020-06-17 14:44:09,277:INFO:First current path [7, 148, 188, 103] formed at time = 0.79 s.\n"
     ]
    },
    {
     "name": "stdout",
     "output_type": "stream",
     "text": [
      "Running BA Network Regression: 50 nodes\n",
      "Running BA Network Regression: 299 nodes\n",
      "Running BA Network Regression: 200 nodes\n",
      "Running BA Network Regression: 100 nodes\n"
     ]
    },
    {
     "name": "stderr",
     "output_type": "stream",
     "text": [
      "2020-06-17 14:44:09,517:INFO:First current path [261, 166, 255, 112, 107, 230] formed at time = 0.77 s.\n"
     ]
    },
    {
     "name": "stdout",
     "output_type": "stream",
     "text": [
      "Running BA Network Regression: 50 nodes\n",
      "Running BA Network Regression: 150 nodes\n",
      "Running BA Network Regression: 100 nodes\n",
      "Running BA Network Regression: 299 nodes\n"
     ]
    },
    {
     "name": "stderr",
     "output_type": "stream",
     "text": [
      "2020-06-17 14:44:09,715:INFO:First current path [147, 26, 280, 290] formed at time = 0.76 s.\n"
     ]
    },
    {
     "name": "stdout",
     "output_type": "stream",
     "text": [
      "Running BA Network Regression: 50 nodes\n"
     ]
    },
    {
     "data": {
      "application/vnd.jupyter.widget-view+json": {
       "model_id": "e12144c963084525a2199fe14c1ef0c8",
       "version_major": 2,
       "version_minor": 0
      },
      "text/plain": [
       "HBox(children=(IntProgress(value=0, description='Running Simulation ', max=500, style=ProgressStyle(descriptio…"
      ]
     },
     "metadata": {},
     "output_type": "display_data"
    },
    {
     "name": "stdout",
     "output_type": "stream",
     "text": [
      "Running BA Network Regression: 150 nodes\n",
      "Running BA Network Regression: 100 nodes\n",
      "Running BA Network Regression: 250 nodes\n",
      "Running BA Network Regression: 200 nodes\n",
      "Running BA Network Regression: 300 nodes\n",
      "Running BA Network Regression: 150 nodes\n",
      "Running BA Network Regression: 200 nodes\n",
      "Running BA Network Regression: 200 nodes\n"
     ]
    },
    {
     "name": "stderr",
     "output_type": "stream",
     "text": [
      "2020-06-17 14:44:10,383:INFO:First current path [23, 72, 268, 122, 260] formed at time = 0.76 s.\n"
     ]
    },
    {
     "name": "stdout",
     "output_type": "stream",
     "text": [
      "Running BA Network Regression: 50 nodes\n",
      "Running BA Network Regression: 100 nodes\n",
      "Running BA Network Regression: 250 nodes\n"
     ]
    },
    {
     "name": "stderr",
     "output_type": "stream",
     "text": [
      "2020-06-17 14:44:10,499:INFO:First current path [223, 52, 219, 297] formed at time = 0.76 s.\n"
     ]
    },
    {
     "name": "stdout",
     "output_type": "stream",
     "text": [
      "Running BA Network Regression: 50 nodes\n",
      "Running BA Network Regression: 100 nodes\n",
      "Running BA Network Regression: 250 nodes\n",
      "Running BA Network Regression: 150 nodes\n",
      "Running BA Network Regression: 300 nodes\n",
      "Running BA Network Regression: 150 nodes\n",
      "Running BA Network Regression: 250 nodes\n",
      "Running BA Network Regression: 200 nodes\n",
      "Running BA Network Regression: 200 nodes\n"
     ]
    },
    {
     "name": "stderr",
     "output_type": "stream",
     "text": [
      "2020-06-17 14:44:11,109:INFO:First current path [126, 227, 122, 125, 179] formed at time = 0.76 s.\n"
     ]
    },
    {
     "name": "stdout",
     "output_type": "stream",
     "text": [
      "Running BA Network Regression: 50 nodes\n",
      "Running BA Network Regression: 100 nodes\n"
     ]
    },
    {
     "data": {
      "application/vnd.jupyter.widget-view+json": {
       "model_id": "6a3734f8ff8d4983b5b2fb971e267435",
       "version_major": 2,
       "version_minor": 0
      },
      "text/plain": [
       "HBox(children=(IntProgress(value=0, description='Running Simulation ', max=500, style=ProgressStyle(descriptio…"
      ]
     },
     "metadata": {},
     "output_type": "display_data"
    },
    {
     "name": "stdout",
     "output_type": "stream",
     "text": [
      "Running BA Network Regression: 300 nodes\n",
      "Running BA Network Regression: 279 nodes\n",
      "Running BA Network Regression: 150 nodes\n",
      "Running BA Network Regression: 250 nodes\n",
      "Running BA Network Regression: 250 nodes\n",
      "Running BA Network Regression: 300 nodes\n",
      "Running BA Network Regression: 200 nodes\n"
     ]
    },
    {
     "data": {
      "application/vnd.jupyter.widget-view+json": {
       "model_id": "7eb33f0359ac44d09f27cacea1f8ba2c",
       "version_major": 2,
       "version_minor": 0
      },
      "text/plain": [
       "HBox(children=(IntProgress(value=0, description='Running Simulation ', max=500, style=ProgressStyle(descriptio…"
      ]
     },
     "metadata": {},
     "output_type": "display_data"
    },
    {
     "name": "stdout",
     "output_type": "stream",
     "text": [
      "Running BA Network Regression: 294 nodes\n",
      "Running BA Network Regression: 250 nodes\n",
      "Running BA Network Regression: 300 nodes\n"
     ]
    },
    {
     "data": {
      "application/vnd.jupyter.widget-view+json": {
       "model_id": "8df3fc169aed452ea784983290d271c4",
       "version_major": 2,
       "version_minor": 0
      },
      "text/plain": [
       "HBox(children=(IntProgress(value=0, description='Running Simulation ', max=500, style=ProgressStyle(descriptio…"
      ]
     },
     "metadata": {},
     "output_type": "display_data"
    },
    {
     "name": "stderr",
     "output_type": "stream",
     "text": [
      "2020-06-17 14:44:12,705:INFO:First current path [0, 11, 122, 110] formed at time = 0.76 s.\n"
     ]
    },
    {
     "name": "stdout",
     "output_type": "stream",
     "text": [
      "Running BA Network Regression: 50 nodes\n",
      "Running BA Network Regression: 100 nodes\n",
      "Running BA Network Regression: 150 nodes\n",
      "Running BA Network Regression: 299 nodes\n"
     ]
    },
    {
     "data": {
      "application/vnd.jupyter.widget-view+json": {
       "model_id": "ad27f2ad82a14480b34cefb1e7d7b751",
       "version_major": 2,
       "version_minor": 0
      },
      "text/plain": [
       "HBox(children=(IntProgress(value=0, description='Running Simulation ', max=500, style=ProgressStyle(descriptio…"
      ]
     },
     "metadata": {},
     "output_type": "display_data"
    },
    {
     "name": "stdout",
     "output_type": "stream",
     "text": [
      "Running BA Network Regression: 200 nodes\n"
     ]
    },
    {
     "name": "stderr",
     "output_type": "stream",
     "text": [
      "2020-06-17 14:44:13,447:INFO:First current path [0, 61, 228, 242] formed at time = 0.75 s.\n"
     ]
    },
    {
     "name": "stdout",
     "output_type": "stream",
     "text": [
      "Running BA Network Regression: 50 nodes\n",
      "Running BA Network Regression: 100 nodes\n",
      "Running BA Network Regression: 150 nodes\n",
      "Running BA Network Regression: 250 nodes\n",
      "Running BA Network Regression: 200 nodes\n"
     ]
    },
    {
     "name": "stderr",
     "output_type": "stream",
     "text": [
      "2020-06-17 14:44:14,125:INFO:First current path [0, 146, 267, 206] formed at time = 0.75 s.\n"
     ]
    },
    {
     "name": "stdout",
     "output_type": "stream",
     "text": [
      "Running BA Network Regression: 50 nodes\n",
      "Running BA Network Regression: 100 nodes\n"
     ]
    },
    {
     "data": {
      "application/vnd.jupyter.widget-view+json": {
       "model_id": "92c80fbc96ed49c290abe42c45803fde",
       "version_major": 2,
       "version_minor": 0
      },
      "text/plain": [
       "HBox(children=(IntProgress(value=0, description='Running Simulation ', max=500, style=ProgressStyle(descriptio…"
      ]
     },
     "metadata": {},
     "output_type": "display_data"
    },
    {
     "name": "stdout",
     "output_type": "stream",
     "text": [
      "Running BA Network Regression: 150 nodes\n",
      "Running BA Network Regression: 250 nodes\n",
      "Running BA Network Regression: 300 nodes\n"
     ]
    },
    {
     "name": "stderr",
     "output_type": "stream",
     "text": [
      "2020-06-17 14:44:14,711:INFO:First current path [2, 214, 297, 252] formed at time = 0.75 s.\n"
     ]
    },
    {
     "name": "stdout",
     "output_type": "stream",
     "text": [
      "Running BA Network Regression: 50 nodes\n",
      "Running BA Network Regression: 200 nodes\n"
     ]
    },
    {
     "data": {
      "application/vnd.jupyter.widget-view+json": {
       "model_id": "1b136abe7a22444e9d963740ba376c12",
       "version_major": 2,
       "version_minor": 0
      },
      "text/plain": [
       "HBox(children=(IntProgress(value=0, description='Running Simulation ', max=500, style=ProgressStyle(descriptio…"
      ]
     },
     "metadata": {},
     "output_type": "display_data"
    },
    {
     "name": "stdout",
     "output_type": "stream",
     "text": [
      "Running BA Network Regression: 100 nodes\n"
     ]
    },
    {
     "data": {
      "application/vnd.jupyter.widget-view+json": {
       "model_id": "d45c9593e5a940a2bf03d176e524344f",
       "version_major": 2,
       "version_minor": 0
      },
      "text/plain": [
       "HBox(children=(IntProgress(value=0, description='Running Simulation ', max=500, style=ProgressStyle(descriptio…"
      ]
     },
     "metadata": {},
     "output_type": "display_data"
    },
    {
     "name": "stdout",
     "output_type": "stream",
     "text": [
      "Running BA Network Regression: 150 nodes\n",
      "Running BA Network Regression: 200 nodes\n",
      "Running BA Network Regression: 250 nodes\n",
      "Running BA Network Regression: 300 nodes\n",
      "Running BA Network Regression: 250 nodes\n"
     ]
    },
    {
     "data": {
      "application/vnd.jupyter.widget-view+json": {
       "model_id": "82e6ca5b4834469b9188271eb86efb77",
       "version_major": 2,
       "version_minor": 0
      },
      "text/plain": [
       "HBox(children=(IntProgress(value=0, description='Running Simulation ', max=500, style=ProgressStyle(descriptio…"
      ]
     },
     "metadata": {},
     "output_type": "display_data"
    },
    {
     "name": "stderr",
     "output_type": "stream",
     "text": [
      "2020-06-17 14:44:16,101:INFO:First current path [7, 79, 160, 278] formed at time = 0.76 s.\n"
     ]
    },
    {
     "name": "stdout",
     "output_type": "stream",
     "text": [
      "Running BA Network Regression: 50 nodes\n",
      "Running BA Network Regression: 100 nodes\n",
      "Running BA Network Regression: 300 nodes\n",
      "Running BA Network Regression: 150 nodes\n"
     ]
    },
    {
     "name": "stderr",
     "output_type": "stream",
     "text": [
      "2020-06-17 14:44:16,441:INFO:First current path [2, 131, 74, 244] formed at time = 0.76 s.\n"
     ]
    },
    {
     "name": "stdout",
     "output_type": "stream",
     "text": [
      "Running BA Network Regression: 50 nodes\n",
      "Running BA Network Regression: 100 nodes\n"
     ]
    },
    {
     "data": {
      "application/vnd.jupyter.widget-view+json": {
       "model_id": "a1a740717dab4174b93658592166c9dd",
       "version_major": 2,
       "version_minor": 0
      },
      "text/plain": [
       "HBox(children=(IntProgress(value=0, description='Running Simulation ', max=500, style=ProgressStyle(descriptio…"
      ]
     },
     "metadata": {},
     "output_type": "display_data"
    },
    {
     "name": "stdout",
     "output_type": "stream",
     "text": [
      "Running BA Network Regression: 200 nodes\n",
      "Running BA Network Regression: 150 nodes\n"
     ]
    },
    {
     "name": "stderr",
     "output_type": "stream",
     "text": [
      "2020-06-17 14:44:16,770:INFO:First current path [9, 234, 283, 216] formed at time = 0.76 s.\n"
     ]
    },
    {
     "name": "stdout",
     "output_type": "stream",
     "text": [
      "Running BA Network Regression: 50 nodes\n",
      "Running BA Network Regression: 300 nodes\n",
      "Running BA Network Regression: 100 nodes\n",
      "Running BA Network Regression: 150 nodes\n",
      "Running BA Network Regression: 200 nodes\n",
      "Running BA Network Regression: 250 nodes\n"
     ]
    },
    {
     "name": "stderr",
     "output_type": "stream",
     "text": [
      "2020-06-17 14:44:17,323:INFO:First current path [277, 190, 29, 294, 224, 288] formed at time = 0.76 s.\n"
     ]
    },
    {
     "name": "stdout",
     "output_type": "stream",
     "text": [
      "Running BA Network Regression: 50 nodes\n",
      "Running BA Network Regression: 200 nodes\n",
      "Running BA Network Regression: 100 nodes\n",
      "Running BA Network Regression: 150 nodes\n",
      "Running BA Network Regression: 250 nodes\n"
     ]
    },
    {
     "name": "stderr",
     "output_type": "stream",
     "text": [
      "2020-06-17 14:44:17,782:INFO:First current path [60, 36, 28, 273, 158, 280] formed at time = 0.77 s.\n"
     ]
    },
    {
     "name": "stdout",
     "output_type": "stream",
     "text": [
      "Running BA Network Regression: 50 nodes\n",
      "Running BA Network Regression: 100 nodes\n",
      "Running BA Network Regression: 200 nodes\n",
      "Running BA Network Regression: 250 nodes\n",
      "Running BA Network Regression: 150 nodes\n",
      "Running BA Network Regression: 300 nodes\n"
     ]
    },
    {
     "data": {
      "application/vnd.jupyter.widget-view+json": {
       "model_id": "651760f415f94c64b15f79392f8c2079",
       "version_major": 2,
       "version_minor": 0
      },
      "text/plain": [
       "HBox(children=(IntProgress(value=0, description='Running Simulation ', max=500, style=ProgressStyle(descriptio…"
      ]
     },
     "metadata": {},
     "output_type": "display_data"
    },
    {
     "name": "stdout",
     "output_type": "stream",
     "text": [
      "Running BA Network Regression: 200 nodes\n",
      "Running BA Network Regression: 250 nodes\n",
      "Running BA Network Regression: 300 nodes\n"
     ]
    },
    {
     "data": {
      "application/vnd.jupyter.widget-view+json": {
       "model_id": "0d2abc8de7d84beaa63b93f6ba0bd314",
       "version_major": 2,
       "version_minor": 0
      },
      "text/plain": [
       "HBox(children=(IntProgress(value=0, description='Running Simulation ', max=500, style=ProgressStyle(descriptio…"
      ]
     },
     "metadata": {},
     "output_type": "display_data"
    },
    {
     "name": "stdout",
     "output_type": "stream",
     "text": [
      "Running BA Network Regression: 300 nodes\n",
      "Running BA Network Regression: 250 nodes\n"
     ]
    },
    {
     "data": {
      "application/vnd.jupyter.widget-view+json": {
       "model_id": "a6f25d2a04ae42f5bc8def2fe2006023",
       "version_major": 2,
       "version_minor": 0
      },
      "text/plain": [
       "HBox(children=(IntProgress(value=0, description='Running Simulation ', max=500, style=ProgressStyle(descriptio…"
      ]
     },
     "metadata": {},
     "output_type": "display_data"
    },
    {
     "name": "stdout",
     "output_type": "stream",
     "text": [
      "Running BA Network Regression: 295 nodes\n",
      "Running BA Network Regression: 281 nodes\n"
     ]
    },
    {
     "name": "stderr",
     "output_type": "stream",
     "text": [
      "2020-06-17 14:44:19,754:INFO:First current path [227, 124, 15, 252, 278] formed at time = 0.76 s.\n"
     ]
    },
    {
     "name": "stdout",
     "output_type": "stream",
     "text": [
      "Running BA Network Regression: 50 nodes\n"
     ]
    },
    {
     "data": {
      "application/vnd.jupyter.widget-view+json": {
       "model_id": "266c6eb4675d4c409fdd666d83000233",
       "version_major": 2,
       "version_minor": 0
      },
      "text/plain": [
       "HBox(children=(IntProgress(value=0, description='Running Simulation ', max=500, style=ProgressStyle(descriptio…"
      ]
     },
     "metadata": {},
     "output_type": "display_data"
    },
    {
     "name": "stdout",
     "output_type": "stream",
     "text": [
      "Running BA Network Regression: 100 nodes\n",
      "Running BA Network Regression: 150 nodes\n"
     ]
    },
    {
     "name": "stderr",
     "output_type": "stream",
     "text": [
      "2020-06-17 14:44:20,129:INFO:First current path [2, 6, 4, 154, 206] formed at time = 0.88 s.\n"
     ]
    },
    {
     "name": "stdout",
     "output_type": "stream",
     "text": [
      "Running BA Network Regression: 50 nodes\n",
      "Running BA Network Regression: 100 nodes\n",
      "Running BA Network Regression: 150 nodes\n",
      "Running BA Network Regression: 200 nodes\n"
     ]
    },
    {
     "name": "stderr",
     "output_type": "stream",
     "text": [
      "2020-06-17 14:44:20,564:INFO:First current path [275, 180, 91, 93, 242] formed at time = 0.79 s.\n"
     ]
    },
    {
     "name": "stdout",
     "output_type": "stream",
     "text": [
      "Running BA Network Regression: 50 nodes\n",
      "Running BA Network Regression: 100 nodes\n",
      "Running BA Network Regression: 200 nodes\n",
      "Running BA Network Regression: 150 nodes\n",
      "Running BA Network Regression: 250 nodes\n",
      "Running BA Network Regression: 200 nodes\n",
      "Running BA Network Regression: 250 nodes\n"
     ]
    },
    {
     "name": "stderr",
     "output_type": "stream",
     "text": [
      "2020-06-17 14:44:21,444:INFO:First current path [0, 37, 236, 276] formed at time = 0.75 s.\n"
     ]
    },
    {
     "name": "stdout",
     "output_type": "stream",
     "text": [
      "Running BA Network Regression: 50 nodes\n",
      "Running BA Network Regression: 100 nodes\n",
      "Running BA Network Regression: 150 nodes\n"
     ]
    },
    {
     "data": {
      "application/vnd.jupyter.widget-view+json": {
       "model_id": "7816602b01994f559d70e3a1b9a5dfda",
       "version_major": 2,
       "version_minor": 0
      },
      "text/plain": [
       "HBox(children=(IntProgress(value=0, description='Running Simulation ', max=500, style=ProgressStyle(descriptio…"
      ]
     },
     "metadata": {},
     "output_type": "display_data"
    },
    {
     "name": "stdout",
     "output_type": "stream",
     "text": [
      "Running BA Network Regression: 250 nodes\n"
     ]
    },
    {
     "data": {
      "application/vnd.jupyter.widget-view+json": {
       "model_id": "e191f9682329445390c04336c483baa2",
       "version_major": 2,
       "version_minor": 0
      },
      "text/plain": [
       "HBox(children=(IntProgress(value=0, description='Running Simulation ', max=500, style=ProgressStyle(descriptio…"
      ]
     },
     "metadata": {},
     "output_type": "display_data"
    },
    {
     "name": "stdout",
     "output_type": "stream",
     "text": [
      "Running BA Network Regression: 299 nodes\n"
     ]
    },
    {
     "data": {
      "application/vnd.jupyter.widget-view+json": {
       "model_id": "60b68271b2fe4716869de201b5f6b53b",
       "version_major": 2,
       "version_minor": 0
      },
      "text/plain": [
       "HBox(children=(IntProgress(value=0, description='Running Simulation ', max=500, style=ProgressStyle(descriptio…"
      ]
     },
     "metadata": {},
     "output_type": "display_data"
    },
    {
     "name": "stdout",
     "output_type": "stream",
     "text": [
      "Running BA Network Regression: 298 nodes\n",
      "Running BA Network Regression: 200 nodes\n",
      "Running BA Network Regression: 250 nodes\n",
      "Running BA Network Regression: 300 nodes\n"
     ]
    },
    {
     "name": "stderr",
     "output_type": "stream",
     "text": [
      "2020-06-17 14:44:23,586:INFO:First current path [5, 50, 223, 122] formed at time = 0.76 s.\n"
     ]
    },
    {
     "name": "stdout",
     "output_type": "stream",
     "text": [
      "Running BA Network Regression: 50 nodes\n"
     ]
    },
    {
     "name": "stderr",
     "output_type": "stream",
     "text": [
      "2020-06-17 14:44:23,610:INFO:First current path [2, 74, 288, 238] formed at time = 0.75 s.\n"
     ]
    },
    {
     "name": "stdout",
     "output_type": "stream",
     "text": [
      "Running BA Network Regression: 50 nodes\n",
      "Running BA Network Regression: 300 nodes\n",
      "Running BA Network Regression: 100 nodes\n",
      "Running BA Network Regression: 100 nodes\n"
     ]
    },
    {
     "name": "stderr",
     "output_type": "stream",
     "text": [
      "2020-06-17 14:44:23,849:INFO:First current path [9, 45, 116, 260] formed at time = 0.76 s.\n"
     ]
    },
    {
     "name": "stdout",
     "output_type": "stream",
     "text": [
      "Running BA Network Regression: 50 nodes\n",
      "Running BA Network Regression: 150 nodes\n",
      "Running BA Network Regression: 150 nodes\n",
      "Running BA Network Regression: 100 nodes\n",
      "Running BA Network Regression: 150 nodes\n",
      "Running BA Network Regression: 200 nodes\n",
      "Running BA Network Regression: 200 nodes\n",
      "Running BA Network Regression: 200 nodes\n",
      "Running BA Network Regression: 250 nodes\n",
      "Running BA Network Regression: 250 nodes\n",
      "Running BA Network Regression: 250 nodes\n"
     ]
    },
    {
     "data": {
      "application/vnd.jupyter.widget-view+json": {
       "model_id": "fcdd0b115beb4b659b005e95b449b534",
       "version_major": 2,
       "version_minor": 0
      },
      "text/plain": [
       "HBox(children=(IntProgress(value=0, description='Running Simulation ', max=500, style=ProgressStyle(descriptio…"
      ]
     },
     "metadata": {},
     "output_type": "display_data"
    },
    {
     "name": "stdout",
     "output_type": "stream",
     "text": [
      "Running BA Network Regression: 300 nodes\n",
      "Running BA Network Regression: 300 nodes\n",
      "Running BA Network Regression: 300 nodes\n"
     ]
    },
    {
     "data": {
      "application/vnd.jupyter.widget-view+json": {
       "model_id": "94f6120b2fc14251aaf66c391355c42c",
       "version_major": 2,
       "version_minor": 0
      },
      "text/plain": [
       "HBox(children=(IntProgress(value=0, description='Running Simulation ', max=500, style=ProgressStyle(descriptio…"
      ]
     },
     "metadata": {},
     "output_type": "display_data"
    },
    {
     "name": "stderr",
     "output_type": "stream",
     "text": [
      "2020-06-17 14:44:27,146:INFO:First current path [4, 72, 274, 221] formed at time = 0.76 s.\n"
     ]
    },
    {
     "name": "stdout",
     "output_type": "stream",
     "text": [
      "Running BA Network Regression: 50 nodes\n",
      "Running BA Network Regression: 100 nodes\n"
     ]
    },
    {
     "data": {
      "application/vnd.jupyter.widget-view+json": {
       "model_id": "0296589bbde34b4ab10d53e0a9f88e12",
       "version_major": 2,
       "version_minor": 0
      },
      "text/plain": [
       "HBox(children=(IntProgress(value=0, description='Running Simulation ', max=500, style=ProgressStyle(descriptio…"
      ]
     },
     "metadata": {},
     "output_type": "display_data"
    },
    {
     "data": {
      "application/vnd.jupyter.widget-view+json": {
       "model_id": "b083b379fdde439eb7d5f1c0edde6d98",
       "version_major": 2,
       "version_minor": 0
      },
      "text/plain": [
       "HBox(children=(IntProgress(value=0, description='Running Simulation ', max=500, style=ProgressStyle(descriptio…"
      ]
     },
     "metadata": {},
     "output_type": "display_data"
    },
    {
     "name": "stdout",
     "output_type": "stream",
     "text": [
      "Running BA Network Regression: 150 nodes\n",
      "Running BA Network Regression: 200 nodes\n"
     ]
    },
    {
     "name": "stderr",
     "output_type": "stream",
     "text": [
      "2020-06-17 14:44:28,023:INFO:First current path [268, 103, 13, 93, 146, 212] formed at time = 0.79 s.\n"
     ]
    },
    {
     "name": "stdout",
     "output_type": "stream",
     "text": [
      "Running BA Network Regression: 50 nodes\n",
      "Running BA Network Regression: 100 nodes\n",
      "Running BA Network Regression: 250 nodes\n",
      "Running BA Network Regression: 150 nodes\n"
     ]
    },
    {
     "name": "stderr",
     "output_type": "stream",
     "text": [
      "2020-06-17 14:44:28,360:INFO:First current path [208, 145, 30, 4, 215, 103, 125, 237] formed at time = 0.76 s.\n"
     ]
    },
    {
     "name": "stdout",
     "output_type": "stream",
     "text": [
      "Running BA Network Regression: 50 nodes\n",
      "Running BA Network Regression: 100 nodes\n"
     ]
    },
    {
     "data": {
      "application/vnd.jupyter.widget-view+json": {
       "model_id": "60d5d95b1f6241f98496c35d64ab824d",
       "version_major": 2,
       "version_minor": 0
      },
      "text/plain": [
       "HBox(children=(IntProgress(value=0, description='Running Simulation ', max=500, style=ProgressStyle(descriptio…"
      ]
     },
     "metadata": {},
     "output_type": "display_data"
    },
    {
     "name": "stderr",
     "output_type": "stream",
     "text": [
      "2020-06-17 14:44:28,581:INFO:First current path [29, 59, 8, 113, 230] formed at time = 0.76 s.\n"
     ]
    },
    {
     "name": "stdout",
     "output_type": "stream",
     "text": [
      "Running BA Network Regression: 50 nodes\n",
      "Running BA Network Regression: 150 nodes\n",
      "Running BA Network Regression: 200 nodes\n",
      "Running BA Network Regression: 100 nodes\n",
      "Running BA Network Regression: 150 nodes\n",
      "Running BA Network Regression: 200 nodes\n",
      "Running BA Network Regression: 250 nodes\n",
      "Running BA Network Regression: 300 nodes\n",
      "Running BA Network Regression: 200 nodes\n",
      "Running BA Network Regression: 250 nodes\n",
      "Running BA Network Regression: 250 nodes\n"
     ]
    },
    {
     "name": "stderr",
     "output_type": "stream",
     "text": [
      "2020-06-17 14:44:29,902:INFO:First current path [0, 28, 117, 168] formed at time = 0.75 s.\n"
     ]
    },
    {
     "name": "stdout",
     "output_type": "stream",
     "text": [
      "Running BA Network Regression: 50 nodes\n",
      "Running BA Network Regression: 293 nodes\n",
      "Running BA Network Regression: 100 nodes\n",
      "Running BA Network Regression: 278 nodes\n",
      "Running BA Network Regression: 150 nodes\n"
     ]
    },
    {
     "data": {
      "application/vnd.jupyter.widget-view+json": {
       "model_id": "243852ed1f124d1da7957b31b081a0d6",
       "version_major": 2,
       "version_minor": 0
      },
      "text/plain": [
       "HBox(children=(IntProgress(value=0, description='Running Simulation ', max=500, style=ProgressStyle(descriptio…"
      ]
     },
     "metadata": {},
     "output_type": "display_data"
    },
    {
     "data": {
      "application/vnd.jupyter.widget-view+json": {
       "model_id": "6da1f05a3b1e422ab4403dd0b635e07d",
       "version_major": 2,
       "version_minor": 0
      },
      "text/plain": [
       "HBox(children=(IntProgress(value=0, description='Running Simulation ', max=500, style=ProgressStyle(descriptio…"
      ]
     },
     "metadata": {},
     "output_type": "display_data"
    },
    {
     "name": "stdout",
     "output_type": "stream",
     "text": [
      "Running BA Network Regression: 200 nodes\n",
      "Running BA Network Regression: 294 nodes\n"
     ]
    },
    {
     "data": {
      "application/vnd.jupyter.widget-view+json": {
       "model_id": "49d6eb73cc1b4a7ca3ba4cb98aa35fb4",
       "version_major": 2,
       "version_minor": 0
      },
      "text/plain": [
       "HBox(children=(IntProgress(value=0, description='Running Simulation ', max=500, style=ProgressStyle(descriptio…"
      ]
     },
     "metadata": {},
     "output_type": "display_data"
    },
    {
     "data": {
      "application/vnd.jupyter.widget-view+json": {
       "model_id": "043bcebf20a24d5ea890507d8b9c981a",
       "version_major": 2,
       "version_minor": 0
      },
      "text/plain": [
       "HBox(children=(IntProgress(value=0, description='Running Simulation ', max=500, style=ProgressStyle(descriptio…"
      ]
     },
     "metadata": {},
     "output_type": "display_data"
    },
    {
     "name": "stdout",
     "output_type": "stream",
     "text": [
      "Running BA Network Regression: 250 nodes\n"
     ]
    },
    {
     "data": {
      "application/vnd.jupyter.widget-view+json": {
       "model_id": "4ffd35b640a7453fbfa98d3157408dc0",
       "version_major": 2,
       "version_minor": 0
      },
      "text/plain": [
       "HBox(children=(IntProgress(value=0, description='Running Simulation ', max=500, style=ProgressStyle(descriptio…"
      ]
     },
     "metadata": {},
     "output_type": "display_data"
    },
    {
     "name": "stderr",
     "output_type": "stream",
     "text": [
      "2020-06-17 14:44:31,514:INFO:First current path [169, 45, 15, 135, 264] formed at time = 0.76 s.\n"
     ]
    },
    {
     "name": "stdout",
     "output_type": "stream",
     "text": [
      "Running BA Network Regression: 50 nodes\n",
      "Running BA Network Regression: 100 nodes\n",
      "Running BA Network Regression: 150 nodes\n"
     ]
    },
    {
     "name": "stderr",
     "output_type": "stream",
     "text": [
      "2020-06-17 14:44:31,898:INFO:First current path [0, 186, 173, 238] formed at time = 0.75 s.\n"
     ]
    },
    {
     "name": "stdout",
     "output_type": "stream",
     "text": [
      "Running BA Network Regression: 50 nodes\n",
      "Running BA Network Regression: 298 nodes\n",
      "Running BA Network Regression: 100 nodes\n",
      "Running BA Network Regression: 200 nodes\n",
      "Running BA Network Regression: 150 nodes\n"
     ]
    },
    {
     "name": "stderr",
     "output_type": "stream",
     "text": [
      "2020-06-17 14:44:32,334:INFO:First current path [0, 14, 201, 268] formed at time = 0.76 s.\n"
     ]
    },
    {
     "name": "stdout",
     "output_type": "stream",
     "text": [
      "Running BA Network Regression: 50 nodes\n",
      "Running BA Network Regression: 100 nodes\n"
     ]
    },
    {
     "data": {
      "application/vnd.jupyter.widget-view+json": {
       "model_id": "ef64e7325f464ee8abb09dc867a0131c",
       "version_major": 2,
       "version_minor": 0
      },
      "text/plain": [
       "HBox(children=(IntProgress(value=0, description='Running Simulation ', max=500, style=ProgressStyle(descriptio…"
      ]
     },
     "metadata": {},
     "output_type": "display_data"
    },
    {
     "name": "stdout",
     "output_type": "stream",
     "text": [
      "Running BA Network Regression: 200 nodes\n",
      "Running BA Network Regression: 150 nodes\n"
     ]
    },
    {
     "name": "stderr",
     "output_type": "stream",
     "text": [
      "2020-06-17 14:44:32,670:INFO:First current path [0, 38, 299, 214] formed at time = 0.76 s.\n"
     ]
    },
    {
     "name": "stdout",
     "output_type": "stream",
     "text": [
      "Running BA Network Regression: 50 nodes\n",
      "Running BA Network Regression: 250 nodes\n",
      "Running BA Network Regression: 100 nodes\n"
     ]
    },
    {
     "name": "stderr",
     "output_type": "stream",
     "text": [
      "2020-06-17 14:44:32,777:INFO:First current path [1, 272, 166, 129] formed at time = 0.75 s.\n"
     ]
    },
    {
     "name": "stdout",
     "output_type": "stream",
     "text": [
      "Running BA Network Regression: 50 nodes\n",
      "Running BA Network Regression: 100 nodes\n",
      "Running BA Network Regression: 150 nodes\n",
      "Running BA Network Regression: 200 nodes\n",
      "Running BA Network Regression: 150 nodes\n",
      "Running BA Network Regression: 250 nodes\n"
     ]
    },
    {
     "data": {
      "application/vnd.jupyter.widget-view+json": {
       "model_id": "122a920e3104457d9106f941ad42c530",
       "version_major": 2,
       "version_minor": 0
      },
      "text/plain": [
       "HBox(children=(IntProgress(value=0, description='Running Simulation ', max=500, style=ProgressStyle(descriptio…"
      ]
     },
     "metadata": {},
     "output_type": "display_data"
    },
    {
     "name": "stdout",
     "output_type": "stream",
     "text": [
      "Running BA Network Regression: 200 nodes\n",
      "Running BA Network Regression: 200 nodes\n",
      "Running BA Network Regression: 296 nodes\n",
      "Running BA Network Regression: 250 nodes\n",
      "Running BA Network Regression: 250 nodes\n",
      "Running BA Network Regression: 299 nodes\n",
      "Running BA Network Regression: 250 nodes\n"
     ]
    },
    {
     "data": {
      "application/vnd.jupyter.widget-view+json": {
       "model_id": "e24189c64c66485c81ee18f97d501882",
       "version_major": 2,
       "version_minor": 0
      },
      "text/plain": [
       "HBox(children=(IntProgress(value=0, description='Running Simulation ', max=500, style=ProgressStyle(descriptio…"
      ]
     },
     "metadata": {},
     "output_type": "display_data"
    },
    {
     "name": "stderr",
     "output_type": "stream",
     "text": [
      "2020-06-17 14:44:34,288:INFO:First current path [0, 68, 281, 298] formed at time = 0.75 s.\n"
     ]
    },
    {
     "name": "stdout",
     "output_type": "stream",
     "text": [
      "Running BA Network Regression: 50 nodes\n",
      "Running BA Network Regression: 100 nodes\n"
     ]
    },
    {
     "name": "stderr",
     "output_type": "stream",
     "text": [
      "2020-06-17 14:44:34,410:INFO:First current path [57, 19, 263, 237, 240, 253] formed at time = 0.77 s.\n"
     ]
    },
    {
     "name": "stdout",
     "output_type": "stream",
     "text": [
      "Running BA Network Regression: 50 nodes\n",
      "Running BA Network Regression: 300 nodes\n",
      "Running BA Network Regression: 100 nodes\n",
      "Running BA Network Regression: 150 nodes\n",
      "Running BA Network Regression: 300 nodes\n",
      "Running BA Network Regression: 150 nodes\n"
     ]
    },
    {
     "data": {
      "application/vnd.jupyter.widget-view+json": {
       "model_id": "85e2efde251647888ebf76d9c72727d7",
       "version_major": 2,
       "version_minor": 0
      },
      "text/plain": [
       "HBox(children=(IntProgress(value=0, description='Running Simulation ', max=500, style=ProgressStyle(descriptio…"
      ]
     },
     "metadata": {},
     "output_type": "display_data"
    },
    {
     "name": "stdout",
     "output_type": "stream",
     "text": [
      "Running BA Network Regression: 200 nodes\n",
      "Running BA Network Regression: 300 nodes\n",
      "Running BA Network Regression: 200 nodes\n"
     ]
    },
    {
     "data": {
      "application/vnd.jupyter.widget-view+json": {
       "model_id": "3ecac554003f4176af11c1d2a553f692",
       "version_major": 2,
       "version_minor": 0
      },
      "text/plain": [
       "HBox(children=(IntProgress(value=0, description='Running Simulation ', max=500, style=ProgressStyle(descriptio…"
      ]
     },
     "metadata": {},
     "output_type": "display_data"
    },
    {
     "data": {
      "application/vnd.jupyter.widget-view+json": {
       "model_id": "cffaa046cb374d7eac9906cd47ccc723",
       "version_major": 2,
       "version_minor": 0
      },
      "text/plain": [
       "HBox(children=(IntProgress(value=0, description='Running Simulation ', max=500, style=ProgressStyle(descriptio…"
      ]
     },
     "metadata": {},
     "output_type": "display_data"
    },
    {
     "name": "stderr",
     "output_type": "stream",
     "text": [
      "2020-06-17 14:44:35,433:INFO:First current path [61, 41, 48, 104, 160] formed at time = 0.76 s.\n"
     ]
    },
    {
     "name": "stdout",
     "output_type": "stream",
     "text": [
      "Running BA Network Regression: 50 nodes\n",
      "Running BA Network Regression: 250 nodes\n",
      "Running BA Network Regression: 100 nodes\n",
      "Running BA Network Regression: 250 nodes\n",
      "Running BA Network Regression: 150 nodes\n",
      "Running BA Network Regression: 200 nodes\n"
     ]
    },
    {
     "data": {
      "application/vnd.jupyter.widget-view+json": {
       "model_id": "1d3e12ee2783482c981c7f9fd5f6242b",
       "version_major": 2,
       "version_minor": 0
      },
      "text/plain": [
       "HBox(children=(IntProgress(value=0, description='Running Simulation ', max=500, style=ProgressStyle(descriptio…"
      ]
     },
     "metadata": {},
     "output_type": "display_data"
    },
    {
     "name": "stderr",
     "output_type": "stream",
     "text": [
      "2020-06-17 14:44:36,196:INFO:First current path [145, 207, 97, 170, 284] formed at time = 0.77 s.\n"
     ]
    },
    {
     "name": "stdout",
     "output_type": "stream",
     "text": [
      "Running BA Network Regression: 50 nodes\n",
      "Running BA Network Regression: 100 nodes\n",
      "Running BA Network Regression: 286 nodes\n",
      "Running BA Network Regression: 300 nodes\n"
     ]
    },
    {
     "name": "stderr",
     "output_type": "stream",
     "text": [
      "2020-06-17 14:44:36,429:INFO:First current path [231, 184, 40, 291, 295] formed at time = 0.77 s.\n"
     ]
    },
    {
     "name": "stdout",
     "output_type": "stream",
     "text": [
      "Running BA Network Regression: 50 nodes\n",
      "Running BA Network Regression: 150 nodes\n",
      "Running BA Network Regression: 100 nodes\n",
      "Running BA Network Regression: 250 nodes\n",
      "Running BA Network Regression: 150 nodes\n"
     ]
    },
    {
     "data": {
      "application/vnd.jupyter.widget-view+json": {
       "model_id": "ae1a2cad2c9e45fe99dbcdabc33878f9",
       "version_major": 2,
       "version_minor": 0
      },
      "text/plain": [
       "HBox(children=(IntProgress(value=0, description='Running Simulation ', max=500, style=ProgressStyle(descriptio…"
      ]
     },
     "metadata": {},
     "output_type": "display_data"
    },
    {
     "name": "stdout",
     "output_type": "stream",
     "text": [
      "Running BA Network Regression: 200 nodes\n"
     ]
    },
    {
     "name": "stderr",
     "output_type": "stream",
     "text": [
      "2020-06-17 14:44:36,834:INFO:First current path [242, 206, 0, 54, 209] formed at time = 0.77 s.\n"
     ]
    },
    {
     "name": "stdout",
     "output_type": "stream",
     "text": [
      "Running BA Network Regression: 50 nodes\n",
      "Running BA Network Regression: 100 nodes\n",
      "Running BA Network Regression: 200 nodes\n",
      "Running BA Network Regression: 150 nodes\n",
      "Running BA Network Regression: 250 nodes\n",
      "Running BA Network Regression: 291 nodes\n",
      "Running BA Network Regression: 200 nodes\n"
     ]
    },
    {
     "name": "stderr",
     "output_type": "stream",
     "text": [
      "2020-06-17 14:44:37,609:INFO:First current path [0, 132, 176, 248] formed at time = 0.75 s.\n"
     ]
    },
    {
     "name": "stdout",
     "output_type": "stream",
     "text": [
      "Running BA Network Regression: 50 nodes\n",
      "Running BA Network Regression: 100 nodes\n",
      "Running BA Network Regression: 250 nodes\n",
      "Running BA Network Regression: 150 nodes\n",
      "Running BA Network Regression: 250 nodes\n",
      "Running BA Network Regression: 296 nodes\n",
      "Running BA Network Regression: 200 nodes\n"
     ]
    },
    {
     "name": "stderr",
     "output_type": "stream",
     "text": [
      "2020-06-17 14:44:38,234:INFO:First current path [0, 213, 117, 247] formed at time = 0.75 s.\n"
     ]
    },
    {
     "name": "stdout",
     "output_type": "stream",
     "text": [
      "Running BA Network Regression: 50 nodes\n",
      "Running BA Network Regression: 100 nodes\n"
     ]
    },
    {
     "data": {
      "application/vnd.jupyter.widget-view+json": {
       "model_id": "83ac3442a38a4ccdb30641460f5eae7b",
       "version_major": 2,
       "version_minor": 0
      },
      "text/plain": [
       "HBox(children=(IntProgress(value=0, description='Running Simulation ', max=500, style=ProgressStyle(descriptio…"
      ]
     },
     "metadata": {},
     "output_type": "display_data"
    },
    {
     "data": {
      "application/vnd.jupyter.widget-view+json": {
       "model_id": "ff62d531ddaf451dafd04cb1e1fe0480",
       "version_major": 2,
       "version_minor": 0
      },
      "text/plain": [
       "HBox(children=(IntProgress(value=0, description='Running Simulation ', max=500, style=ProgressStyle(descriptio…"
      ]
     },
     "metadata": {},
     "output_type": "display_data"
    },
    {
     "name": "stdout",
     "output_type": "stream",
     "text": [
      "Running BA Network Regression: 150 nodes\n",
      "Running BA Network Regression: 300 nodes\n",
      "Running BA Network Regression: 250 nodes\n",
      "Running BA Network Regression: 200 nodes\n",
      "Running BA Network Regression: 300 nodes\n",
      "Running BA Network Regression: 250 nodes\n"
     ]
    },
    {
     "data": {
      "application/vnd.jupyter.widget-view+json": {
       "model_id": "25f1f7fcc1104a9aa7f9d63a0b6c646d",
       "version_major": 2,
       "version_minor": 0
      },
      "text/plain": [
       "HBox(children=(IntProgress(value=0, description='Running Simulation ', max=500, style=ProgressStyle(descriptio…"
      ]
     },
     "metadata": {},
     "output_type": "display_data"
    },
    {
     "name": "stdout",
     "output_type": "stream",
     "text": [
      "Running BA Network Regression: 297 nodes\n"
     ]
    },
    {
     "data": {
      "application/vnd.jupyter.widget-view+json": {
       "model_id": "1222fa77d33e4bfe8ada618893680ee2",
       "version_major": 2,
       "version_minor": 0
      },
      "text/plain": [
       "HBox(children=(IntProgress(value=0, description='Running Simulation ', max=500, style=ProgressStyle(descriptio…"
      ]
     },
     "metadata": {},
     "output_type": "display_data"
    },
    {
     "name": "stderr",
     "output_type": "stream",
     "text": [
      "2020-06-17 14:44:39,944:INFO:First current path [0, 16, 160, 265] formed at time = 0.76 s.\n"
     ]
    },
    {
     "name": "stdout",
     "output_type": "stream",
     "text": [
      "Running BA Network Regression: 50 nodes\n",
      "Running BA Network Regression: 100 nodes\n"
     ]
    },
    {
     "name": "stderr",
     "output_type": "stream",
     "text": [
      "2020-06-17 14:44:40,053:INFO:First current path [1, 189, 97, 68] formed at time = 0.76 s.\n"
     ]
    },
    {
     "name": "stdout",
     "output_type": "stream",
     "text": [
      "Running BA Network Regression: 50 nodes\n"
     ]
    },
    {
     "data": {
      "application/vnd.jupyter.widget-view+json": {
       "model_id": "58776d54a1484f4a8704686fa6732197",
       "version_major": 2,
       "version_minor": 0
      },
      "text/plain": [
       "HBox(children=(IntProgress(value=0, description='Running Simulation ', max=500, style=ProgressStyle(descriptio…"
      ]
     },
     "metadata": {},
     "output_type": "display_data"
    },
    {
     "name": "stdout",
     "output_type": "stream",
     "text": [
      "Running BA Network Regression: 100 nodes\n",
      "Running BA Network Regression: 150 nodes\n",
      "Running BA Network Regression: 150 nodes\n",
      "Running BA Network Regression: 300 nodes\n",
      "Running BA Network Regression: 200 nodes\n",
      "Running BA Network Regression: 200 nodes\n"
     ]
    },
    {
     "name": "stderr",
     "output_type": "stream",
     "text": [
      "2020-06-17 14:44:40,657:INFO:First current path [53, 33, 183, 46, 163, 179] formed at time = 0.76 s.\n"
     ]
    },
    {
     "name": "stdout",
     "output_type": "stream",
     "text": [
      "Running BA Network Regression: 50 nodes\n",
      "Running BA Network Regression: 100 nodes\n",
      "Running BA Network Regression: 150 nodes\n"
     ]
    },
    {
     "name": "stderr",
     "output_type": "stream",
     "text": [
      "2020-06-17 14:44:41,034:INFO:First current path [89, 43, 0, 86, 114, 175] formed at time = 0.77 s.\n"
     ]
    },
    {
     "name": "stdout",
     "output_type": "stream",
     "text": [
      "Running BA Network Regression: 50 nodes\n",
      "Running BA Network Regression: 100 nodes\n",
      "Running BA Network Regression: 250 nodes\n",
      "Running BA Network Regression: 200 nodes\n",
      "Running BA Network Regression: 250 nodes\n",
      "Running BA Network Regression: 150 nodes\n"
     ]
    },
    {
     "name": "stderr",
     "output_type": "stream",
     "text": [
      "2020-06-17 14:44:41,340:INFO:First current path [177, 89, 0, 78, 155, 239] formed at time = 0.76 s.\n"
     ]
    },
    {
     "name": "stdout",
     "output_type": "stream",
     "text": [
      "Running BA Network Regression: 50 nodes\n",
      "Running BA Network Regression: 100 nodes\n"
     ]
    },
    {
     "data": {
      "application/vnd.jupyter.widget-view+json": {
       "model_id": "3e19fd6079f54dc491f1368e6b489f70",
       "version_major": 2,
       "version_minor": 0
      },
      "text/plain": [
       "HBox(children=(IntProgress(value=0, description='Running Simulation ', max=500, style=ProgressStyle(descriptio…"
      ]
     },
     "metadata": {},
     "output_type": "display_data"
    },
    {
     "name": "stdout",
     "output_type": "stream",
     "text": [
      "Running BA Network Regression: 150 nodes\n",
      "Running BA Network Regression: 200 nodes\n",
      "Running BA Network Regression: 250 nodes\n",
      "Running BA Network Regression: 200 nodes\n",
      "Running BA Network Regression: 300 nodes\n",
      "Running BA Network Regression: 250 nodes\n",
      "Running BA Network Regression: 299 nodes\n",
      "Running BA Network Regression: 250 nodes\n"
     ]
    },
    {
     "data": {
      "application/vnd.jupyter.widget-view+json": {
       "model_id": "a42f8b0e720b4ba69558249f9b378d42",
       "version_major": 2,
       "version_minor": 0
      },
      "text/plain": [
       "HBox(children=(IntProgress(value=0, description='Running Simulation ', max=500, style=ProgressStyle(descriptio…"
      ]
     },
     "metadata": {},
     "output_type": "display_data"
    },
    {
     "name": "stdout",
     "output_type": "stream",
     "text": [
      "Running BA Network Regression: 285 nodes\n"
     ]
    },
    {
     "name": "stderr",
     "output_type": "stream",
     "text": [
      "2020-06-17 14:44:42,912:INFO:First current path [23, 291, 182, 136, 270] formed at time = 0.76 s.\n"
     ]
    },
    {
     "name": "stdout",
     "output_type": "stream",
     "text": [
      "Running BA Network Regression: 50 nodes\n",
      "Running BA Network Regression: 280 nodes\n",
      "Running BA Network Regression: 100 nodes\n",
      "Running BA Network Regression: 150 nodes\n",
      "Running BA Network Regression: 293 nodes\n"
     ]
    },
    {
     "data": {
      "application/vnd.jupyter.widget-view+json": {
       "model_id": "96c997d8f8cf4983bd666ae1687f7ed6",
       "version_major": 2,
       "version_minor": 0
      },
      "text/plain": [
       "HBox(children=(IntProgress(value=0, description='Running Simulation ', max=500, style=ProgressStyle(descriptio…"
      ]
     },
     "metadata": {},
     "output_type": "display_data"
    },
    {
     "data": {
      "application/vnd.jupyter.widget-view+json": {
       "model_id": "29e9ce93a4c34b1cb41cf9eb56602e44",
       "version_major": 2,
       "version_minor": 0
      },
      "text/plain": [
       "HBox(children=(IntProgress(value=0, description='Running Simulation ', max=500, style=ProgressStyle(descriptio…"
      ]
     },
     "metadata": {},
     "output_type": "display_data"
    },
    {
     "name": "stdout",
     "output_type": "stream",
     "text": [
      "Running BA Network Regression: 200 nodes\n"
     ]
    },
    {
     "name": "stderr",
     "output_type": "stream",
     "text": [
      "2020-06-17 14:44:43,929:INFO:First current path [95, 86, 20, 144, 289] formed at time = 0.76 s.\n"
     ]
    },
    {
     "name": "stdout",
     "output_type": "stream",
     "text": [
      "Running BA Network Regression: 50 nodes\n",
      "Running BA Network Regression: 100 nodes\n"
     ]
    },
    {
     "data": {
      "application/vnd.jupyter.widget-view+json": {
       "model_id": "38e4c22abe2846d48d1e4ad23a1e8ae0",
       "version_major": 2,
       "version_minor": 0
      },
      "text/plain": [
       "HBox(children=(IntProgress(value=0, description='Running Simulation ', max=500, style=ProgressStyle(descriptio…"
      ]
     },
     "metadata": {},
     "output_type": "display_data"
    },
    {
     "name": "stdout",
     "output_type": "stream",
     "text": [
      "Running BA Network Regression: 250 nodes\n"
     ]
    },
    {
     "data": {
      "application/vnd.jupyter.widget-view+json": {
       "model_id": "69478330e1654ee793fa9e0d3389ac9c",
       "version_major": 2,
       "version_minor": 0
      },
      "text/plain": [
       "HBox(children=(IntProgress(value=0, description='Running Simulation ', max=500, style=ProgressStyle(descriptio…"
      ]
     },
     "metadata": {},
     "output_type": "display_data"
    },
    {
     "name": "stdout",
     "output_type": "stream",
     "text": [
      "Running BA Network Regression: 150 nodes\n",
      "Running BA Network Regression: 200 nodes\n",
      "Running BA Network Regression: 298 nodes\n"
     ]
    },
    {
     "name": "stderr",
     "output_type": "stream",
     "text": [
      "2020-06-17 14:44:44,889:INFO:First current path [227, 124, 61, 180, 295] formed at time = 0.76 s.\n"
     ]
    },
    {
     "name": "stdout",
     "output_type": "stream",
     "text": [
      "Running BA Network Regression: 50 nodes\n"
     ]
    },
    {
     "name": "stderr",
     "output_type": "stream",
     "text": [
      "2020-06-17 14:44:44,961:INFO:First current path [0, 12, 292, 170] formed at time = 0.75 s.\n"
     ]
    },
    {
     "name": "stdout",
     "output_type": "stream",
     "text": [
      "Running BA Network Regression: 50 nodes\n",
      "Running BA Network Regression: 100 nodes\n",
      "Running BA Network Regression: 100 nodes\n",
      "Running BA Network Regression: 250 nodes\n",
      "Running BA Network Regression: 150 nodes\n",
      "Running BA Network Regression: 150 nodes\n",
      "Running BA Network Regression: 200 nodes\n",
      "Running BA Network Regression: 200 nodes\n"
     ]
    },
    {
     "name": "stderr",
     "output_type": "stream",
     "text": [
      "2020-06-17 14:44:45,631:INFO:First current path [0, 38, 253, 90] formed at time = 0.75 s.\n"
     ]
    },
    {
     "name": "stdout",
     "output_type": "stream",
     "text": [
      "Running BA Network Regression: 50 nodes\n"
     ]
    },
    {
     "name": "stderr",
     "output_type": "stream",
     "text": [
      "2020-06-17 14:44:45,661:INFO:First current path [0, 40, 210, 263] formed at time = 0.76 s.\n"
     ]
    },
    {
     "name": "stdout",
     "output_type": "stream",
     "text": [
      "Running BA Network Regression: 50 nodes\n",
      "Running BA Network Regression: 100 nodes\n"
     ]
    },
    {
     "data": {
      "application/vnd.jupyter.widget-view+json": {
       "model_id": "77c85ad10cb747de9eb84bd848867a3e",
       "version_major": 2,
       "version_minor": 0
      },
      "text/plain": [
       "HBox(children=(IntProgress(value=0, description='Running Simulation ', max=500, style=ProgressStyle(descriptio…"
      ]
     },
     "metadata": {},
     "output_type": "display_data"
    },
    {
     "name": "stdout",
     "output_type": "stream",
     "text": [
      "Running BA Network Regression: 100 nodes\n"
     ]
    },
    {
     "data": {
      "application/vnd.jupyter.widget-view+json": {
       "model_id": "f5778e877a354511a24a237f8bdf8f6f",
       "version_major": 2,
       "version_minor": 0
      },
      "text/plain": [
       "HBox(children=(IntProgress(value=0, description='Running Simulation ', max=500, style=ProgressStyle(descriptio…"
      ]
     },
     "metadata": {},
     "output_type": "display_data"
    },
    {
     "name": "stdout",
     "output_type": "stream",
     "text": [
      "Running BA Network Regression: 150 nodes\n",
      "Running BA Network Regression: 299 nodes\n",
      "Running BA Network Regression: 150 nodes\n",
      "Running BA Network Regression: 250 nodes\n",
      "Running BA Network Regression: 250 nodes\n",
      "Running BA Network Regression: 200 nodes\n",
      "Running BA Network Regression: 200 nodes\n",
      "Running BA Network Regression: 250 nodes\n",
      "Running BA Network Regression: 250 nodes\n",
      "Running BA Network Regression: 300 nodes\n"
     ]
    },
    {
     "name": "stderr",
     "output_type": "stream",
     "text": [
      "2020-06-17 14:44:47,008:INFO:First current path [79, 21, 42, 46, 26, 157, 241] formed at time = 0.76 s.\n"
     ]
    },
    {
     "name": "stdout",
     "output_type": "stream",
     "text": [
      "Running BA Network Regression: 50 nodes\n"
     ]
    },
    {
     "data": {
      "application/vnd.jupyter.widget-view+json": {
       "model_id": "0e0d4e29557c4ab3adf6afed7af0e524",
       "version_major": 2,
       "version_minor": 0
      },
      "text/plain": [
       "HBox(children=(IntProgress(value=0, description='Running Simulation ', max=500, style=ProgressStyle(descriptio…"
      ]
     },
     "metadata": {},
     "output_type": "display_data"
    },
    {
     "name": "stdout",
     "output_type": "stream",
     "text": [
      "Running BA Network Regression: 300 nodes\n"
     ]
    },
    {
     "data": {
      "application/vnd.jupyter.widget-view+json": {
       "model_id": "fd0a9ae4ee884e3393cc1266f8a3d88d",
       "version_major": 2,
       "version_minor": 0
      },
      "text/plain": [
       "HBox(children=(IntProgress(value=0, description='Running Simulation ', max=500, style=ProgressStyle(descriptio…"
      ]
     },
     "metadata": {},
     "output_type": "display_data"
    },
    {
     "name": "stdout",
     "output_type": "stream",
     "text": [
      "Running BA Network Regression: 100 nodes\n",
      "Running BA Network Regression: 150 nodes\n"
     ]
    },
    {
     "name": "stderr",
     "output_type": "stream",
     "text": [
      "2020-06-17 14:44:47,381:INFO:First current path [2, 36, 65, 295] formed at time = 0.76 s.\n"
     ]
    },
    {
     "name": "stdout",
     "output_type": "stream",
     "text": [
      "Running BA Network Regression: 50 nodes\n",
      "Running BA Network Regression: 100 nodes\n",
      "Running BA Network Regression: 200 nodes\n",
      "Running BA Network Regression: 150 nodes\n",
      "Running BA Network Regression: 300 nodes\n"
     ]
    },
    {
     "data": {
      "application/vnd.jupyter.widget-view+json": {
       "model_id": "84037bd1854e44cb98e2a108a944c988",
       "version_major": 2,
       "version_minor": 0
      },
      "text/plain": [
       "HBox(children=(IntProgress(value=0, description='Running Simulation ', max=500, style=ProgressStyle(descriptio…"
      ]
     },
     "metadata": {},
     "output_type": "display_data"
    },
    {
     "data": {
      "application/vnd.jupyter.widget-view+json": {
       "model_id": "38e2763f8c0f4fbcb5bd96fafaae2e61",
       "version_major": 2,
       "version_minor": 0
      },
      "text/plain": [
       "HBox(children=(IntProgress(value=0, description='Running Simulation ', max=500, style=ProgressStyle(descriptio…"
      ]
     },
     "metadata": {},
     "output_type": "display_data"
    },
    {
     "name": "stdout",
     "output_type": "stream",
     "text": [
      "Running BA Network Regression: 300 nodes\n",
      "Running BA Network Regression: 250 nodes\n",
      "Running BA Network Regression: 200 nodes\n"
     ]
    },
    {
     "name": "stderr",
     "output_type": "stream",
     "text": [
      "2020-06-17 14:44:48,274:INFO:First current path [49, 22, 4, 23, 169, 174] formed at time = 0.76 s.\n"
     ]
    },
    {
     "name": "stdout",
     "output_type": "stream",
     "text": [
      "Running BA Network Regression: 50 nodes\n"
     ]
    },
    {
     "name": "stderr",
     "output_type": "stream",
     "text": [
      "2020-06-17 14:44:48,282:INFO:First current path [261, 48, 38, 25, 117, 195] formed at time = 0.76 s.\n"
     ]
    },
    {
     "name": "stdout",
     "output_type": "stream",
     "text": [
      "Running BA Network Regression: 50 nodes\n",
      "Running BA Network Regression: 100 nodes\n",
      "Running BA Network Regression: 100 nodes\n",
      "Running BA Network Regression: 150 nodes\n",
      "Running BA Network Regression: 150 nodes\n",
      "Running BA Network Regression: 250 nodes\n",
      "Running BA Network Regression: 279 nodes\n",
      "Running BA Network Regression: 200 nodes\n",
      "Running BA Network Regression: 200 nodes\n"
     ]
    },
    {
     "data": {
      "application/vnd.jupyter.widget-view+json": {
       "model_id": "b23c35f850f74bdd9d1abd0c86f599ac",
       "version_major": 2,
       "version_minor": 0
      },
      "text/plain": [
       "HBox(children=(IntProgress(value=0, description='Running Simulation ', max=500, style=ProgressStyle(descriptio…"
      ]
     },
     "metadata": {},
     "output_type": "display_data"
    },
    {
     "name": "stderr",
     "output_type": "stream",
     "text": [
      "2020-06-17 14:44:49,064:INFO:First current path [231, 217, 25, 13, 152, 257] formed at time = 0.78 s.\n"
     ]
    },
    {
     "name": "stdout",
     "output_type": "stream",
     "text": [
      "Running BA Network Regression: 50 nodes\n"
     ]
    },
    {
     "name": "stderr",
     "output_type": "stream",
     "text": [
      "2020-06-17 14:44:49,138:INFO:First current path [85, 114, 0, 155, 215] formed at time = 0.76 s.\n"
     ]
    },
    {
     "name": "stdout",
     "output_type": "stream",
     "text": [
      "Running BA Network Regression: 50 nodes\n",
      "Running BA Network Regression: 100 nodes\n",
      "Running BA Network Regression: 100 nodes\n",
      "Running BA Network Regression: 250 nodes\n",
      "Running BA Network Regression: 150 nodes\n",
      "Running BA Network Regression: 250 nodes\n",
      "Running BA Network Regression: 150 nodes\n",
      "Running BA Network Regression: 300 nodes\n"
     ]
    },
    {
     "data": {
      "application/vnd.jupyter.widget-view+json": {
       "model_id": "3cad150550f84ed087fed12f6d8695a8",
       "version_major": 2,
       "version_minor": 0
      },
      "text/plain": [
       "HBox(children=(IntProgress(value=0, description='Running Simulation ', max=500, style=ProgressStyle(descriptio…"
      ]
     },
     "metadata": {},
     "output_type": "display_data"
    },
    {
     "name": "stdout",
     "output_type": "stream",
     "text": [
      "Running BA Network Regression: 200 nodes\n",
      "Running BA Network Regression: 200 nodes\n",
      "Running BA Network Regression: 285 nodes\n"
     ]
    },
    {
     "data": {
      "application/vnd.jupyter.widget-view+json": {
       "model_id": "195bf44c574d47c29516c5996169ede8",
       "version_major": 2,
       "version_minor": 0
      },
      "text/plain": [
       "HBox(children=(IntProgress(value=0, description='Running Simulation ', max=500, style=ProgressStyle(descriptio…"
      ]
     },
     "metadata": {},
     "output_type": "display_data"
    },
    {
     "name": "stdout",
     "output_type": "stream",
     "text": [
      "Running BA Network Regression: 295 nodes\n",
      "Running BA Network Regression: 250 nodes\n"
     ]
    },
    {
     "name": "stderr",
     "output_type": "stream",
     "text": [
      "2020-06-17 14:44:50,220:INFO:First current path [94, 76, 54, 182, 253] formed at time = 0.76 s.\n"
     ]
    },
    {
     "name": "stdout",
     "output_type": "stream",
     "text": [
      "Running BA Network Regression: 50 nodes\n",
      "Running BA Network Regression: 250 nodes\n",
      "Running BA Network Regression: 100 nodes\n",
      "Running BA Network Regression: 150 nodes\n",
      "Running BA Network Regression: 200 nodes\n",
      "Running BA Network Regression: 285 nodes\n"
     ]
    },
    {
     "name": "stderr",
     "output_type": "stream",
     "text": [
      "2020-06-17 14:44:50,998:INFO:First current path [251, 102, 76, 258, 289] formed at time = 0.78 s.\n"
     ]
    },
    {
     "name": "stdout",
     "output_type": "stream",
     "text": [
      "Running BA Network Regression: 50 nodes\n",
      "Running BA Network Regression: 100 nodes\n",
      "Running BA Network Regression: 295 nodes\n",
      "Running BA Network Regression: 150 nodes\n",
      "Running BA Network Regression: 250 nodes\n"
     ]
    },
    {
     "data": {
      "application/vnd.jupyter.widget-view+json": {
       "model_id": "a63c6b2863a643ef9206800c5c5d57dd",
       "version_major": 2,
       "version_minor": 0
      },
      "text/plain": [
       "HBox(children=(IntProgress(value=0, description='Running Simulation ', max=500, style=ProgressStyle(descriptio…"
      ]
     },
     "metadata": {},
     "output_type": "display_data"
    },
    {
     "name": "stderr",
     "output_type": "stream",
     "text": [
      "2020-06-17 14:44:51,542:INFO:First current path [0, 19, 182, 115] formed at time = 0.76 s.\n"
     ]
    },
    {
     "name": "stdout",
     "output_type": "stream",
     "text": [
      "Running BA Network Regression: 50 nodes\n",
      "Running BA Network Regression: 100 nodes\n",
      "Running BA Network Regression: 200 nodes\n",
      "Running BA Network Regression: 150 nodes\n"
     ]
    },
    {
     "data": {
      "application/vnd.jupyter.widget-view+json": {
       "model_id": "d7d5eae061014c6d89999dd955c1d168",
       "version_major": 2,
       "version_minor": 0
      },
      "text/plain": [
       "HBox(children=(IntProgress(value=0, description='Running Simulation ', max=500, style=ProgressStyle(descriptio…"
      ]
     },
     "metadata": {},
     "output_type": "display_data"
    },
    {
     "name": "stdout",
     "output_type": "stream",
     "text": [
      "Running BA Network Regression: 200 nodes\n",
      "Running BA Network Regression: 300 nodes\n",
      "Running BA Network Regression: 250 nodes\n"
     ]
    },
    {
     "data": {
      "application/vnd.jupyter.widget-view+json": {
       "model_id": "ca6a28b089a24f9393edffa414756101",
       "version_major": 2,
       "version_minor": 0
      },
      "text/plain": [
       "HBox(children=(IntProgress(value=0, description='Running Simulation ', max=500, style=ProgressStyle(descriptio…"
      ]
     },
     "metadata": {},
     "output_type": "display_data"
    },
    {
     "name": "stdout",
     "output_type": "stream",
     "text": [
      "Running BA Network Regression: 250 nodes\n"
     ]
    },
    {
     "name": "stderr",
     "output_type": "stream",
     "text": [
      "2020-06-17 14:44:52,962:INFO:First current path [1, 114, 172, 158] formed at time = 0.75 s.\n"
     ]
    },
    {
     "name": "stdout",
     "output_type": "stream",
     "text": [
      "Running BA Network Regression: 50 nodes\n"
     ]
    },
    {
     "name": "stderr",
     "output_type": "stream",
     "text": [
      "2020-06-17 14:44:52,964:INFO:First current path [68, 174, 19, 18, 30, 257] formed at time = 0.77 s.\n"
     ]
    },
    {
     "name": "stdout",
     "output_type": "stream",
     "text": [
      "Running BA Network Regression: 50 nodes\n"
     ]
    },
    {
     "data": {
      "application/vnd.jupyter.widget-view+json": {
       "model_id": "809292c313d1487dab9065e1b96002a1",
       "version_major": 2,
       "version_minor": 0
      },
      "text/plain": [
       "HBox(children=(IntProgress(value=0, description='Running Simulation ', max=500, style=ProgressStyle(descriptio…"
      ]
     },
     "metadata": {},
     "output_type": "display_data"
    },
    {
     "name": "stdout",
     "output_type": "stream",
     "text": [
      "Running BA Network Regression: 100 nodes\n",
      "Running BA Network Regression: 100 nodes\n",
      "Running BA Network Regression: 299 nodes\n",
      "Running BA Network Regression: 150 nodes\n",
      "Running BA Network Regression: 150 nodes\n",
      "Running BA Network Regression: 200 nodes\n",
      "Running BA Network Regression: 300 nodes\n",
      "Running BA Network Regression: 200 nodes\n"
     ]
    },
    {
     "data": {
      "application/vnd.jupyter.widget-view+json": {
       "model_id": "a2d24cc473f94c39a9967cf083a8f81d",
       "version_major": 2,
       "version_minor": 0
      },
      "text/plain": [
       "HBox(children=(IntProgress(value=0, description='Running Simulation ', max=500, style=ProgressStyle(descriptio…"
      ]
     },
     "metadata": {},
     "output_type": "display_data"
    },
    {
     "data": {
      "application/vnd.jupyter.widget-view+json": {
       "model_id": "9895519de02e43d5bdfd5e6ad299f1a6",
       "version_major": 2,
       "version_minor": 0
      },
      "text/plain": [
       "HBox(children=(IntProgress(value=0, description='Running Simulation ', max=500, style=ProgressStyle(descriptio…"
      ]
     },
     "metadata": {},
     "output_type": "display_data"
    },
    {
     "name": "stderr",
     "output_type": "stream",
     "text": [
      "2020-06-17 14:44:53,900:INFO:First current path [0, 15, 209, 235] formed at time = 0.76 s.\n"
     ]
    },
    {
     "name": "stdout",
     "output_type": "stream",
     "text": [
      "Running BA Network Regression: 50 nodes\n",
      "Running BA Network Regression: 100 nodes\n",
      "Running BA Network Regression: 250 nodes\n",
      "Running BA Network Regression: 250 nodes\n",
      "Running BA Network Regression: 150 nodes\n"
     ]
    },
    {
     "name": "stderr",
     "output_type": "stream",
     "text": [
      "2020-06-17 14:44:54,376:INFO:First current path [0, 182, 203, 77] formed at time = 0.75 s.\n"
     ]
    },
    {
     "name": "stdout",
     "output_type": "stream",
     "text": [
      "Running BA Network Regression: 50 nodes\n",
      "Running BA Network Regression: 100 nodes\n",
      "Running BA Network Regression: 200 nodes\n",
      "Running BA Network Regression: 150 nodes\n",
      "Running BA Network Regression: 279 nodes\n"
     ]
    },
    {
     "name": "stderr",
     "output_type": "stream",
     "text": [
      "2020-06-17 14:44:55,030:INFO:First current path [49, 223, 11, 114, 225] formed at time = 0.77 s.\n"
     ]
    },
    {
     "name": "stdout",
     "output_type": "stream",
     "text": [
      "Running BA Network Regression: 200 nodes\n",
      "Running BA Network Regression: 50 nodes\n",
      "Running BA Network Regression: 300 nodes\n",
      "Running BA Network Regression: 100 nodes\n",
      "Running BA Network Regression: 250 nodes\n"
     ]
    },
    {
     "name": "stderr",
     "output_type": "stream",
     "text": [
      "2020-06-17 14:44:55,143:INFO:First current path [0, 14, 187, 206] formed at time = 0.76 s.\n"
     ]
    },
    {
     "name": "stdout",
     "output_type": "stream",
     "text": [
      "Running BA Network Regression: 50 nodes\n",
      "Running BA Network Regression: 100 nodes\n",
      "Running BA Network Regression: 150 nodes\n"
     ]
    },
    {
     "data": {
      "application/vnd.jupyter.widget-view+json": {
       "model_id": "17ab5e4b4df2487a99f69166e82202b1",
       "version_major": 2,
       "version_minor": 0
      },
      "text/plain": [
       "HBox(children=(IntProgress(value=0, description='Running Simulation ', max=500, style=ProgressStyle(descriptio…"
      ]
     },
     "metadata": {},
     "output_type": "display_data"
    },
    {
     "name": "stdout",
     "output_type": "stream",
     "text": [
      "Running BA Network Regression: 150 nodes\n",
      "Running BA Network Regression: 250 nodes\n",
      "Running BA Network Regression: 200 nodes\n",
      "Running BA Network Regression: 200 nodes\n",
      "Running BA Network Regression: 300 nodes\n",
      "Running BA Network Regression: 250 nodes\n"
     ]
    },
    {
     "data": {
      "application/vnd.jupyter.widget-view+json": {
       "model_id": "c618fa571c9a49d9b2eed62482f1c3a3",
       "version_major": 2,
       "version_minor": 0
      },
      "text/plain": [
       "HBox(children=(IntProgress(value=0, description='Running Simulation ', max=500, style=ProgressStyle(descriptio…"
      ]
     },
     "metadata": {},
     "output_type": "display_data"
    },
    {
     "name": "stdout",
     "output_type": "stream",
     "text": [
      "Running BA Network Regression: 250 nodes\n"
     ]
    },
    {
     "data": {
      "application/vnd.jupyter.widget-view+json": {
       "model_id": "8f0bd4138a964d30a018e3e83754042c",
       "version_major": 2,
       "version_minor": 0
      },
      "text/plain": [
       "HBox(children=(IntProgress(value=0, description='Running Simulation ', max=500, style=ProgressStyle(descriptio…"
      ]
     },
     "metadata": {},
     "output_type": "display_data"
    },
    {
     "name": "stdout",
     "output_type": "stream",
     "text": [
      "Running BA Network Regression: 296 nodes\n"
     ]
    },
    {
     "name": "stderr",
     "output_type": "stream",
     "text": [
      "2020-06-17 14:44:56,693:INFO:First current path [37, 2, 5, 261, 215] formed at time = 0.76 s.\n"
     ]
    },
    {
     "name": "stdout",
     "output_type": "stream",
     "text": [
      "Running BA Network Regression: 50 nodes\n",
      "Running BA Network Regression: 100 nodes\n",
      "Running BA Network Regression: 150 nodes\n"
     ]
    },
    {
     "data": {
      "application/vnd.jupyter.widget-view+json": {
       "model_id": "38f53c9aae59428bab84c3621d5d61cb",
       "version_major": 2,
       "version_minor": 0
      },
      "text/plain": [
       "HBox(children=(IntProgress(value=0, description='Running Simulation ', max=500, style=ProgressStyle(descriptio…"
      ]
     },
     "metadata": {},
     "output_type": "display_data"
    },
    {
     "name": "stdout",
     "output_type": "stream",
     "text": [
      "Running BA Network Regression: 299 nodes\n",
      "Running BA Network Regression: 300 nodes\n",
      "Running BA Network Regression: 200 nodes\n"
     ]
    },
    {
     "data": {
      "application/vnd.jupyter.widget-view+json": {
       "model_id": "120e1342e9f946e18b53b0f66a4aea29",
       "version_major": 2,
       "version_minor": 0
      },
      "text/plain": [
       "HBox(children=(IntProgress(value=0, description='Running Simulation ', max=500, style=ProgressStyle(descriptio…"
      ]
     },
     "metadata": {},
     "output_type": "display_data"
    },
    {
     "name": "stderr",
     "output_type": "stream",
     "text": [
      "2020-06-17 14:44:57,541:INFO:First current path [196, 83, 69, 90, 271, 262] formed at time = 0.77 s.\n"
     ]
    },
    {
     "name": "stdout",
     "output_type": "stream",
     "text": [
      "Running BA Network Regression: 50 nodes\n",
      "Running BA Network Regression: 100 nodes\n"
     ]
    },
    {
     "name": "stderr",
     "output_type": "stream",
     "text": [
      "2020-06-17 14:44:57,761:INFO:First current path [60, 11, 4, 114, 240, 274] formed at time = 0.76 s.\n"
     ]
    },
    {
     "name": "stdout",
     "output_type": "stream",
     "text": [
      "Running BA Network Regression: 50 nodes\n",
      "Running BA Network Regression: 150 nodes\n",
      "Running BA Network Regression: 100 nodes\n",
      "Running BA Network Regression: 250 nodes\n"
     ]
    },
    {
     "data": {
      "application/vnd.jupyter.widget-view+json": {
       "model_id": "2a608ba4a75646f5b8f8079041a1a1a5",
       "version_major": 2,
       "version_minor": 0
      },
      "text/plain": [
       "HBox(children=(IntProgress(value=0, description='Running Simulation ', max=500, style=ProgressStyle(descriptio…"
      ]
     },
     "metadata": {},
     "output_type": "display_data"
    },
    {
     "data": {
      "application/vnd.jupyter.widget-view+json": {
       "model_id": "ea119913069d47659c9a71edb994753b",
       "version_major": 2,
       "version_minor": 0
      },
      "text/plain": [
       "HBox(children=(IntProgress(value=0, description='Running Simulation ', max=500, style=ProgressStyle(descriptio…"
      ]
     },
     "metadata": {},
     "output_type": "display_data"
    },
    {
     "name": "stdout",
     "output_type": "stream",
     "text": [
      "Running BA Network Regression: 150 nodes\n",
      "Running BA Network Regression: 200 nodes\n"
     ]
    },
    {
     "name": "stderr",
     "output_type": "stream",
     "text": [
      "2020-06-17 14:44:58,137:INFO:First current path [28, 62, 42, 44, 143, 158] formed at time = 0.76 s.\n"
     ]
    },
    {
     "name": "stdout",
     "output_type": "stream",
     "text": [
      "Running BA Network Regression: 50 nodes\n",
      "Running BA Network Regression: 100 nodes\n",
      "Running BA Network Regression: 200 nodes\n",
      "Running BA Network Regression: 150 nodes\n"
     ]
    },
    {
     "name": "stderr",
     "output_type": "stream",
     "text": [
      "2020-06-17 14:44:58,530:INFO:First current path [51, 26, 23, 12, 198, 257] formed at time = 0.76 s.\n"
     ]
    },
    {
     "name": "stdout",
     "output_type": "stream",
     "text": [
      "Running BA Network Regression: 50 nodes\n",
      "Running BA Network Regression: 100 nodes\n",
      "Running BA Network Regression: 293 nodes\n",
      "Running BA Network Regression: 250 nodes\n",
      "Running BA Network Regression: 200 nodes\n",
      "Running BA Network Regression: 250 nodes\n",
      "Running BA Network Regression: 150 nodes\n"
     ]
    },
    {
     "name": "stderr",
     "output_type": "stream",
     "text": [
      "2020-06-17 14:44:59,059:INFO:First current path [87, 16, 50, 0, 114, 170, 223] formed at time = 0.76 s.\n"
     ]
    },
    {
     "name": "stdout",
     "output_type": "stream",
     "text": [
      "Running BA Network Regression: 50 nodes\n",
      "Running BA Network Regression: 200 nodes\n",
      "Running BA Network Regression: 100 nodes\n",
      "Running BA Network Regression: 250 nodes\n",
      "Running BA Network Regression: 150 nodes\n"
     ]
    },
    {
     "name": "stderr",
     "output_type": "stream",
     "text": [
      "2020-06-17 14:44:59,460:INFO:First current path [0, 12, 235, 124] formed at time = 0.76 s.\n"
     ]
    },
    {
     "name": "stdout",
     "output_type": "stream",
     "text": [
      "Running BA Network Regression: 50 nodes\n",
      "Running BA Network Regression: 289 nodes\n",
      "Running BA Network Regression: 100 nodes\n",
      "Running BA Network Regression: 297 nodes\n",
      "Running BA Network Regression: 200 nodes\n",
      "Running BA Network Regression: 250 nodes\n",
      "Running BA Network Regression: 150 nodes\n"
     ]
    },
    {
     "data": {
      "application/vnd.jupyter.widget-view+json": {
       "model_id": "41b9f60ce2854e53b66a09cbe3360ff5",
       "version_major": 2,
       "version_minor": 0
      },
      "text/plain": [
       "HBox(children=(IntProgress(value=0, description='Running Simulation ', max=500, style=ProgressStyle(descriptio…"
      ]
     },
     "metadata": {},
     "output_type": "display_data"
    },
    {
     "name": "stdout",
     "output_type": "stream",
     "text": [
      "Running BA Network Regression: 282 nodes\n",
      "Running BA Network Regression: 200 nodes\n",
      "Running BA Network Regression: 250 nodes\n"
     ]
    },
    {
     "data": {
      "application/vnd.jupyter.widget-view+json": {
       "model_id": "58afff7c999e4a0590abd9ef81f085e3",
       "version_major": 2,
       "version_minor": 0
      },
      "text/plain": [
       "HBox(children=(IntProgress(value=0, description='Running Simulation ', max=500, style=ProgressStyle(descriptio…"
      ]
     },
     "metadata": {},
     "output_type": "display_data"
    },
    {
     "name": "stdout",
     "output_type": "stream",
     "text": [
      "Running BA Network Regression: 279 nodes\n",
      "Running BA Network Regression: 250 nodes\n",
      "Running BA Network Regression: 277 nodes\n"
     ]
    },
    {
     "name": "stderr",
     "output_type": "stream",
     "text": [
      "2020-06-17 14:45:01,164:INFO:First current path [0, 24, 88, 237] formed at time = 0.76 s.\n"
     ]
    },
    {
     "name": "stdout",
     "output_type": "stream",
     "text": [
      "Running BA Network Regression: 50 nodes\n",
      "Running BA Network Regression: 100 nodes\n",
      "Running BA Network Regression: 150 nodes\n",
      "Running BA Network Regression: 300 nodes\n"
     ]
    },
    {
     "data": {
      "application/vnd.jupyter.widget-view+json": {
       "model_id": "e8ed5bcf4df6466eba651534e0dbf6f3",
       "version_major": 2,
       "version_minor": 0
      },
      "text/plain": [
       "HBox(children=(IntProgress(value=0, description='Running Simulation ', max=500, style=ProgressStyle(descriptio…"
      ]
     },
     "metadata": {},
     "output_type": "display_data"
    },
    {
     "name": "stderr",
     "output_type": "stream",
     "text": [
      "2020-06-17 14:45:01,715:INFO:First current path [0, 120, 77, 67] formed at time = 0.75 s.\n"
     ]
    },
    {
     "name": "stdout",
     "output_type": "stream",
     "text": [
      "Running BA Network Regression: 50 nodes\n",
      "Running BA Network Regression: 200 nodes\n",
      "Running BA Network Regression: 100 nodes\n",
      "Running BA Network Regression: 150 nodes\n"
     ]
    },
    {
     "data": {
      "application/vnd.jupyter.widget-view+json": {
       "model_id": "26511a7c14e54457a588f388b8915274",
       "version_major": 2,
       "version_minor": 0
      },
      "text/plain": [
       "HBox(children=(IntProgress(value=0, description='Running Simulation ', max=500, style=ProgressStyle(descriptio…"
      ]
     },
     "metadata": {},
     "output_type": "display_data"
    },
    {
     "name": "stdout",
     "output_type": "stream",
     "text": [
      "Running BA Network Regression: 200 nodes\n",
      "Running BA Network Regression: 250 nodes\n"
     ]
    },
    {
     "data": {
      "application/vnd.jupyter.widget-view+json": {
       "model_id": "7e84b6a3b4194f84bd391fa23b6e1d0a",
       "version_major": 2,
       "version_minor": 0
      },
      "text/plain": [
       "HBox(children=(IntProgress(value=0, description='Running Simulation ', max=500, style=ProgressStyle(descriptio…"
      ]
     },
     "metadata": {},
     "output_type": "display_data"
    },
    {
     "name": "stderr",
     "output_type": "stream",
     "text": [
      "2020-06-17 14:45:02,750:INFO:First current path [59, 127, 23, 154, 210] formed at time = 0.77 s.\n"
     ]
    },
    {
     "name": "stdout",
     "output_type": "stream",
     "text": [
      "Running BA Network Regression: 50 nodes\n",
      "Running BA Network Regression: 250 nodes\n",
      "Running BA Network Regression: 100 nodes\n",
      "Running BA Network Regression: 150 nodes\n"
     ]
    },
    {
     "data": {
      "application/vnd.jupyter.widget-view+json": {
       "model_id": "453f4b123b1247f2841cd742a1991760",
       "version_major": 2,
       "version_minor": 0
      },
      "text/plain": [
       "HBox(children=(IntProgress(value=0, description='Running Simulation ', max=500, style=ProgressStyle(descriptio…"
      ]
     },
     "metadata": {},
     "output_type": "display_data"
    },
    {
     "name": "stdout",
     "output_type": "stream",
     "text": [
      "Running BA Network Regression: 294 nodes\n"
     ]
    },
    {
     "name": "stderr",
     "output_type": "stream",
     "text": [
      "2020-06-17 14:45:03,293:INFO:First current path [29, 122, 102, 284, 263] formed at time = 0.76 s.\n"
     ]
    },
    {
     "name": "stdout",
     "output_type": "stream",
     "text": [
      "Running BA Network Regression: 50 nodes\n",
      "Running BA Network Regression: 200 nodes\n",
      "Running BA Network Regression: 100 nodes\n",
      "Running BA Network Regression: 150 nodes\n",
      "Running BA Network Regression: 300 nodes\n"
     ]
    },
    {
     "data": {
      "application/vnd.jupyter.widget-view+json": {
       "model_id": "e9aaead7afcb4025865b9b9e041e08ae",
       "version_major": 2,
       "version_minor": 0
      },
      "text/plain": [
       "HBox(children=(IntProgress(value=0, description='Running Simulation ', max=500, style=ProgressStyle(descriptio…"
      ]
     },
     "metadata": {},
     "output_type": "display_data"
    },
    {
     "name": "stdout",
     "output_type": "stream",
     "text": [
      "Running BA Network Regression: 250 nodes\n",
      "Running BA Network Regression: 200 nodes\n"
     ]
    },
    {
     "name": "stderr",
     "output_type": "stream",
     "text": [
      "2020-06-17 14:45:03,927:INFO:First current path [280, 113, 27, 272, 245, 277] formed at time = 0.79 s.\n"
     ]
    },
    {
     "name": "stdout",
     "output_type": "stream",
     "text": [
      "Running BA Network Regression: 50 nodes\n",
      "Running BA Network Regression: 100 nodes\n",
      "Running BA Network Regression: 150 nodes\n"
     ]
    },
    {
     "data": {
      "application/vnd.jupyter.widget-view+json": {
       "model_id": "2b15536bf27a4e8594c360d7a6fc1248",
       "version_major": 2,
       "version_minor": 0
      },
      "text/plain": [
       "HBox(children=(IntProgress(value=0, description='Running Simulation ', max=500, style=ProgressStyle(descriptio…"
      ]
     },
     "metadata": {},
     "output_type": "display_data"
    },
    {
     "name": "stderr",
     "output_type": "stream",
     "text": [
      "2020-06-17 14:45:04,290:INFO:First current path [173, 121, 24, 115, 76, 169] formed at time = 0.78 s.\n"
     ]
    },
    {
     "name": "stdout",
     "output_type": "stream",
     "text": [
      "Running BA Network Regression: 50 nodes\n",
      "Running BA Network Regression: 100 nodes\n",
      "Running BA Network Regression: 250 nodes\n",
      "Running BA Network Regression: 200 nodes\n",
      "Running BA Network Regression: 150 nodes\n",
      "Running BA Network Regression: 299 nodes\n"
     ]
    },
    {
     "name": "stderr",
     "output_type": "stream",
     "text": [
      "2020-06-17 14:45:04,828:INFO:First current path [57, 14, 4, 95, 252, 269] formed at time = 0.76 s.\n"
     ]
    },
    {
     "name": "stdout",
     "output_type": "stream",
     "text": [
      "Running BA Network Regression: 50 nodes\n"
     ]
    },
    {
     "data": {
      "application/vnd.jupyter.widget-view+json": {
       "model_id": "208846b4ad3c4056a8a05233a8d0317d",
       "version_major": 2,
       "version_minor": 0
      },
      "text/plain": [
       "HBox(children=(IntProgress(value=0, description='Running Simulation ', max=500, style=ProgressStyle(descriptio…"
      ]
     },
     "metadata": {},
     "output_type": "display_data"
    },
    {
     "name": "stdout",
     "output_type": "stream",
     "text": [
      "Running BA Network Regression: 200 nodes\n",
      "Running BA Network Regression: 100 nodes\n",
      "Running BA Network Regression: 250 nodes\n",
      "Running BA Network Regression: 150 nodes\n",
      "Running BA Network Regression: 297 nodes\n",
      "Running BA Network Regression: 250 nodes\n"
     ]
    },
    {
     "name": "stderr",
     "output_type": "stream",
     "text": [
      "2020-06-17 14:45:05,349:INFO:First current path [42, 23, 24, 2, 125, 179, 227] formed at time = 0.76 s.\n"
     ]
    },
    {
     "name": "stdout",
     "output_type": "stream",
     "text": [
      "Running BA Network Regression: 50 nodes\n",
      "Running BA Network Regression: 200 nodes\n",
      "Running BA Network Regression: 100 nodes\n",
      "Running BA Network Regression: 150 nodes\n",
      "Running BA Network Regression: 295 nodes\n",
      "Running BA Network Regression: 200 nodes\n",
      "Running BA Network Regression: 250 nodes\n"
     ]
    },
    {
     "data": {
      "application/vnd.jupyter.widget-view+json": {
       "model_id": "4265865f0c9d43ada72e4ec0ffce94a5",
       "version_major": 2,
       "version_minor": 0
      },
      "text/plain": [
       "HBox(children=(IntProgress(value=0, description='Running Simulation ', max=500, style=ProgressStyle(descriptio…"
      ]
     },
     "metadata": {},
     "output_type": "display_data"
    },
    {
     "name": "stdout",
     "output_type": "stream",
     "text": [
      "Running BA Network Regression: 288 nodes\n"
     ]
    },
    {
     "name": "stderr",
     "output_type": "stream",
     "text": [
      "2020-06-17 14:45:06,323:INFO:First current path [1, 48, 230, 131] formed at time = 0.75 s.\n"
     ]
    },
    {
     "name": "stdout",
     "output_type": "stream",
     "text": [
      "Running BA Network Regression: 50 nodes\n",
      "Running BA Network Regression: 250 nodes\n",
      "Running BA Network Regression: 100 nodes\n"
     ]
    },
    {
     "data": {
      "application/vnd.jupyter.widget-view+json": {
       "model_id": "9f18729000c345f0b6c6d11ee5b6f5f3",
       "version_major": 2,
       "version_minor": 0
      },
      "text/plain": [
       "HBox(children=(IntProgress(value=0, description='Running Simulation ', max=500, style=ProgressStyle(descriptio…"
      ]
     },
     "metadata": {},
     "output_type": "display_data"
    },
    {
     "name": "stdout",
     "output_type": "stream",
     "text": [
      "Running BA Network Regression: 150 nodes\n"
     ]
    },
    {
     "data": {
      "application/vnd.jupyter.widget-view+json": {
       "model_id": "9d7cd7b9df0548b8b411c4b56edef228",
       "version_major": 2,
       "version_minor": 0
      },
      "text/plain": [
       "HBox(children=(IntProgress(value=0, description='Running Simulation ', max=500, style=ProgressStyle(descriptio…"
      ]
     },
     "metadata": {},
     "output_type": "display_data"
    },
    {
     "name": "stdout",
     "output_type": "stream",
     "text": [
      "Running BA Network Regression: 283 nodes\n",
      "Running BA Network Regression: 200 nodes\n",
      "Running BA Network Regression: 280 nodes\n"
     ]
    },
    {
     "name": "stderr",
     "output_type": "stream",
     "text": [
      "2020-06-17 14:45:07,421:INFO:First current path [0, 194, 289, 209] formed at time = 0.75 s.\n"
     ]
    },
    {
     "name": "stdout",
     "output_type": "stream",
     "text": [
      "Running BA Network Regression: 50 nodes\n",
      "Running BA Network Regression: 100 nodes\n",
      "Running BA Network Regression: 250 nodes\n",
      "Running BA Network Regression: 150 nodes\n"
     ]
    },
    {
     "name": "stderr",
     "output_type": "stream",
     "text": [
      "2020-06-17 14:45:07,996:INFO:First current path [235, 164, 21, 151, 293] formed at time = 0.78 s.\n"
     ]
    },
    {
     "name": "stdout",
     "output_type": "stream",
     "text": [
      "Running BA Network Regression: 50 nodes\n"
     ]
    },
    {
     "name": "stderr",
     "output_type": "stream",
     "text": [
      "2020-06-17 14:45:08,002:INFO:First current path [101, 75, 22, 60, 262] formed at time = 0.77 s.\n"
     ]
    },
    {
     "name": "stdout",
     "output_type": "stream",
     "text": [
      "Running BA Network Regression: 50 nodes\n",
      "Running BA Network Regression: 200 nodes\n",
      "Running BA Network Regression: 100 nodes\n",
      "Running BA Network Regression: 100 nodes\n",
      "Running BA Network Regression: 150 nodes\n",
      "Running BA Network Regression: 150 nodes\n",
      "Running BA Network Regression: 299 nodes\n"
     ]
    },
    {
     "data": {
      "application/vnd.jupyter.widget-view+json": {
       "model_id": "a24d5abd7b70433a8b75e550d9ccd2d5",
       "version_major": 2,
       "version_minor": 0
      },
      "text/plain": [
       "HBox(children=(IntProgress(value=0, description='Running Simulation ', max=500, style=ProgressStyle(descriptio…"
      ]
     },
     "metadata": {},
     "output_type": "display_data"
    },
    {
     "name": "stdout",
     "output_type": "stream",
     "text": [
      "Running BA Network Regression: 200 nodes\n",
      "Running BA Network Regression: 200 nodes\n",
      "Running BA Network Regression: 250 nodes\n"
     ]
    },
    {
     "data": {
      "application/vnd.jupyter.widget-view+json": {
       "model_id": "8aa09a44fc4b417e9a8a622d18fc8353",
       "version_major": 2,
       "version_minor": 0
      },
      "text/plain": [
       "HBox(children=(IntProgress(value=0, description='Running Simulation ', max=500, style=ProgressStyle(descriptio…"
      ]
     },
     "metadata": {},
     "output_type": "display_data"
    },
    {
     "name": "stdout",
     "output_type": "stream",
     "text": [
      "Running BA Network Regression: 250 nodes\n",
      "Running BA Network Regression: 250 nodes\n",
      "Running BA Network Regression: 300 nodes\n"
     ]
    },
    {
     "data": {
      "application/vnd.jupyter.widget-view+json": {
       "model_id": "d66f9b4330124c6d9d09dd9aeca5c3d4",
       "version_major": 2,
       "version_minor": 0
      },
      "text/plain": [
       "HBox(children=(IntProgress(value=0, description='Running Simulation ', max=500, style=ProgressStyle(descriptio…"
      ]
     },
     "metadata": {},
     "output_type": "display_data"
    },
    {
     "name": "stderr",
     "output_type": "stream",
     "text": [
      "2020-06-17 14:45:09,808:INFO:First current path [86, 65, 90, 50, 228] formed at time = 0.77 s.\n"
     ]
    },
    {
     "name": "stdout",
     "output_type": "stream",
     "text": [
      "Running BA Network Regression: 50 nodes\n",
      "Running BA Network Regression: 100 nodes\n",
      "Running BA Network Regression: 300 nodes\n"
     ]
    },
    {
     "name": "stderr",
     "output_type": "stream",
     "text": [
      "2020-06-17 14:45:10,047:INFO:First current path [36, 17, 37, 236, 269] formed at time = 0.76 s.\n"
     ]
    },
    {
     "name": "stdout",
     "output_type": "stream",
     "text": [
      "Running BA Network Regression: 50 nodes\n",
      "Running BA Network Regression: 150 nodes\n",
      "Running BA Network Regression: 300 nodes\n",
      "Running BA Network Regression: 100 nodes\n"
     ]
    },
    {
     "data": {
      "application/vnd.jupyter.widget-view+json": {
       "model_id": "ff83ad22d75b4953bfe9e2de5a230759",
       "version_major": 2,
       "version_minor": 0
      },
      "text/plain": [
       "HBox(children=(IntProgress(value=0, description='Running Simulation ', max=500, style=ProgressStyle(descriptio…"
      ]
     },
     "metadata": {},
     "output_type": "display_data"
    },
    {
     "name": "stdout",
     "output_type": "stream",
     "text": [
      "Running BA Network Regression: 150 nodes\n",
      "Running BA Network Regression: 200 nodes\n",
      "Running BA Network Regression: 200 nodes\n"
     ]
    },
    {
     "data": {
      "application/vnd.jupyter.widget-view+json": {
       "model_id": "21552c04a00f4fe9a8d25fe40edd97d0",
       "version_major": 2,
       "version_minor": 0
      },
      "text/plain": [
       "HBox(children=(IntProgress(value=0, description='Running Simulation ', max=500, style=ProgressStyle(descriptio…"
      ]
     },
     "metadata": {},
     "output_type": "display_data"
    },
    {
     "name": "stdout",
     "output_type": "stream",
     "text": [
      "Running BA Network Regression: 250 nodes\n"
     ]
    },
    {
     "name": "stderr",
     "output_type": "stream",
     "text": [
      "2020-06-17 14:45:11,040:INFO:First current path [288, 268, 211, 4, 181, 216] formed at time = 0.76 s.\n"
     ]
    },
    {
     "name": "stdout",
     "output_type": "stream",
     "text": [
      "Running BA Network Regression: 50 nodes\n"
     ]
    },
    {
     "data": {
      "application/vnd.jupyter.widget-view+json": {
       "model_id": "98caf278032446dbb9dfda1053c9247d",
       "version_major": 2,
       "version_minor": 0
      },
      "text/plain": [
       "HBox(children=(IntProgress(value=0, description='Running Simulation ', max=500, style=ProgressStyle(descriptio…"
      ]
     },
     "metadata": {},
     "output_type": "display_data"
    },
    {
     "name": "stdout",
     "output_type": "stream",
     "text": [
      "Running BA Network Regression: 100 nodes\n",
      "Running BA Network Regression: 250 nodes\n",
      "Running BA Network Regression: 150 nodes\n"
     ]
    },
    {
     "name": "stderr",
     "output_type": "stream",
     "text": [
      "2020-06-17 14:45:11,505:INFO:First current path [279, 150, 97, 40, 134, 238] formed at time = 0.77 s.\n"
     ]
    },
    {
     "name": "stdout",
     "output_type": "stream",
     "text": [
      "Running BA Network Regression: 50 nodes\n",
      "Running BA Network Regression: 100 nodes\n",
      "Running BA Network Regression: 200 nodes\n",
      "Running BA Network Regression: 296 nodes\n",
      "Running BA Network Regression: 150 nodes\n"
     ]
    },
    {
     "name": "stderr",
     "output_type": "stream",
     "text": [
      "2020-06-17 14:45:11,834:INFO:First current path [57, 29, 10, 21, 58, 244] formed at time = 0.77 s.\n"
     ]
    },
    {
     "name": "stdout",
     "output_type": "stream",
     "text": [
      "Running BA Network Regression: 50 nodes\n",
      "Running BA Network Regression: 100 nodes\n",
      "Running BA Network Regression: 297 nodes\n",
      "Running BA Network Regression: 200 nodes\n"
     ]
    },
    {
     "data": {
      "application/vnd.jupyter.widget-view+json": {
       "model_id": "8265a71bfe834d029b02da92c050751f",
       "version_major": 2,
       "version_minor": 0
      },
      "text/plain": [
       "HBox(children=(IntProgress(value=0, description='Running Simulation ', max=500, style=ProgressStyle(descriptio…"
      ]
     },
     "metadata": {},
     "output_type": "display_data"
    },
    {
     "name": "stdout",
     "output_type": "stream",
     "text": [
      "Running BA Network Regression: 150 nodes\n",
      "Running BA Network Regression: 250 nodes\n"
     ]
    },
    {
     "name": "stderr",
     "output_type": "stream",
     "text": [
      "2020-06-17 14:45:12,230:INFO:First current path [77, 30, 34, 75, 137, 258] formed at time = 0.79 s.\n"
     ]
    },
    {
     "name": "stdout",
     "output_type": "stream",
     "text": [
      "Running BA Network Regression: 50 nodes\n",
      "Running BA Network Regression: 100 nodes\n",
      "Running BA Network Regression: 200 nodes\n",
      "Running BA Network Regression: 150 nodes\n"
     ]
    },
    {
     "data": {
      "application/vnd.jupyter.widget-view+json": {
       "model_id": "68c6bc25d9af4cad802526c0b4d7e1ea",
       "version_major": 2,
       "version_minor": 0
      },
      "text/plain": [
       "HBox(children=(IntProgress(value=0, description='Running Simulation ', max=500, style=ProgressStyle(descriptio…"
      ]
     },
     "metadata": {},
     "output_type": "display_data"
    },
    {
     "name": "stdout",
     "output_type": "stream",
     "text": [
      "Running BA Network Regression: 250 nodes\n",
      "Running BA Network Regression: 200 nodes\n",
      "Running BA Network Regression: 250 nodes\n",
      "Running BA Network Regression: 292 nodes\n"
     ]
    },
    {
     "data": {
      "application/vnd.jupyter.widget-view+json": {
       "model_id": "ba687dafbeda4978a3f1c9529e96e7af",
       "version_major": 2,
       "version_minor": 0
      },
      "text/plain": [
       "HBox(children=(IntProgress(value=0, description='Running Simulation ', max=500, style=ProgressStyle(descriptio…"
      ]
     },
     "metadata": {},
     "output_type": "display_data"
    },
    {
     "name": "stdout",
     "output_type": "stream",
     "text": [
      "Running BA Network Regression: 250 nodes\n",
      "Running BA Network Regression: 286 nodes\n"
     ]
    },
    {
     "name": "stderr",
     "output_type": "stream",
     "text": [
      "2020-06-17 14:45:13,511:INFO:First current path [0, 65, 136, 122] formed at time = 0.75 s.\n"
     ]
    },
    {
     "name": "stdout",
     "output_type": "stream",
     "text": [
      "Running BA Network Regression: 50 nodes\n",
      "Running BA Network Regression: 100 nodes\n",
      "Running BA Network Regression: 283 nodes\n"
     ]
    },
    {
     "data": {
      "application/vnd.jupyter.widget-view+json": {
       "model_id": "e76afca6698a4485b7403604dc52d2ab",
       "version_major": 2,
       "version_minor": 0
      },
      "text/plain": [
       "HBox(children=(IntProgress(value=0, description='Running Simulation ', max=500, style=ProgressStyle(descriptio…"
      ]
     },
     "metadata": {},
     "output_type": "display_data"
    },
    {
     "name": "stdout",
     "output_type": "stream",
     "text": [
      "Running BA Network Regression: 150 nodes\n"
     ]
    },
    {
     "name": "stderr",
     "output_type": "stream",
     "text": [
      "2020-06-17 14:45:13,930:INFO:First current path [187, 98, 219, 251, 276] formed at time = 0.78 s.\n"
     ]
    },
    {
     "name": "stdout",
     "output_type": "stream",
     "text": [
      "Running BA Network Regression: 50 nodes\n",
      "Running BA Network Regression: 100 nodes\n",
      "Running BA Network Regression: 279 nodes\n",
      "Running BA Network Regression: 200 nodes\n",
      "Running BA Network Regression: 150 nodes\n"
     ]
    },
    {
     "data": {
      "application/vnd.jupyter.widget-view+json": {
       "model_id": "894c3b60b68f4bcd8c764033d1bfa611",
       "version_major": 2,
       "version_minor": 0
      },
      "text/plain": [
       "HBox(children=(IntProgress(value=0, description='Running Simulation ', max=500, style=ProgressStyle(descriptio…"
      ]
     },
     "metadata": {},
     "output_type": "display_data"
    },
    {
     "name": "stdout",
     "output_type": "stream",
     "text": [
      "Running BA Network Regression: 200 nodes\n"
     ]
    },
    {
     "name": "stderr",
     "output_type": "stream",
     "text": [
      "2020-06-17 14:45:14,666:INFO:First current path [0, 14, 146, 211] formed at time = 0.76 s.\n"
     ]
    },
    {
     "name": "stdout",
     "output_type": "stream",
     "text": [
      "Running BA Network Regression: 50 nodes\n",
      "Running BA Network Regression: 250 nodes\n",
      "Running BA Network Regression: 100 nodes\n"
     ]
    },
    {
     "data": {
      "application/vnd.jupyter.widget-view+json": {
       "model_id": "925a419ba4fd4ea3978d3dc2ff0c7365",
       "version_major": 2,
       "version_minor": 0
      },
      "text/plain": [
       "HBox(children=(IntProgress(value=0, description='Running Simulation ', max=500, style=ProgressStyle(descriptio…"
      ]
     },
     "metadata": {},
     "output_type": "display_data"
    },
    {
     "name": "stdout",
     "output_type": "stream",
     "text": [
      "Running BA Network Regression: 150 nodes\n",
      "Running BA Network Regression: 250 nodes\n"
     ]
    },
    {
     "name": "stderr",
     "output_type": "stream",
     "text": [
      "2020-06-17 14:45:15,144:INFO:First current path [270, 37, 144, 260, 215] formed at time = 0.78 s.\n"
     ]
    },
    {
     "name": "stdout",
     "output_type": "stream",
     "text": [
      "Running BA Network Regression: 50 nodes\n",
      "Running BA Network Regression: 100 nodes\n",
      "Running BA Network Regression: 200 nodes\n",
      "Running BA Network Regression: 150 nodes\n",
      "Running BA Network Regression: 300 nodes\n"
     ]
    },
    {
     "data": {
      "application/vnd.jupyter.widget-view+json": {
       "model_id": "98eec9678839466a91de730dc86c0abf",
       "version_major": 2,
       "version_minor": 0
      },
      "text/plain": [
       "HBox(children=(IntProgress(value=0, description='Running Simulation ', max=500, style=ProgressStyle(descriptio…"
      ]
     },
     "metadata": {},
     "output_type": "display_data"
    },
    {
     "name": "stdout",
     "output_type": "stream",
     "text": [
      "Running BA Network Regression: 200 nodes\n",
      "Running BA Network Regression: 250 nodes\n"
     ]
    },
    {
     "name": "stderr",
     "output_type": "stream",
     "text": [
      "2020-06-17 14:45:15,871:INFO:First current path [62, 101, 23, 187, 197] formed at time = 0.76 s.\n"
     ]
    },
    {
     "name": "stdout",
     "output_type": "stream",
     "text": [
      "Running BA Network Regression: 50 nodes\n",
      "Running BA Network Regression: 298 nodes\n",
      "Running BA Network Regression: 100 nodes\n"
     ]
    },
    {
     "name": "stderr",
     "output_type": "stream",
     "text": [
      "2020-06-17 14:45:16,123:INFO:First current path [25, 6, 0, 168, 207] formed at time = 0.77 s.\n"
     ]
    },
    {
     "name": "stdout",
     "output_type": "stream",
     "text": [
      "Running BA Network Regression: 50 nodes\n",
      "Running BA Network Regression: 150 nodes\n",
      "Running BA Network Regression: 100 nodes\n",
      "Running BA Network Regression: 250 nodes\n",
      "Running BA Network Regression: 150 nodes\n",
      "Running BA Network Regression: 200 nodes\n",
      "Running BA Network Regression: 300 nodes\n"
     ]
    },
    {
     "data": {
      "application/vnd.jupyter.widget-view+json": {
       "model_id": "fdc3b1bb229a40c1b86f197d3c752de9",
       "version_major": 2,
       "version_minor": 0
      },
      "text/plain": [
       "HBox(children=(IntProgress(value=0, description='Running Simulation ', max=500, style=ProgressStyle(descriptio…"
      ]
     },
     "metadata": {},
     "output_type": "display_data"
    },
    {
     "name": "stdout",
     "output_type": "stream",
     "text": [
      "Running BA Network Regression: 200 nodes\n"
     ]
    },
    {
     "name": "stderr",
     "output_type": "stream",
     "text": [
      "2020-06-17 14:45:16,880:INFO:First current path [29, 59, 170, 138, 272] formed at time = 0.76 s.\n"
     ]
    },
    {
     "name": "stdout",
     "output_type": "stream",
     "text": [
      "Running BA Network Regression: 50 nodes\n",
      "Running BA Network Regression: 100 nodes\n"
     ]
    },
    {
     "data": {
      "application/vnd.jupyter.widget-view+json": {
       "model_id": "739cf6b1153641bb8edea1c673d2fb90",
       "version_major": 2,
       "version_minor": 0
      },
      "text/plain": [
       "HBox(children=(IntProgress(value=0, description='Running Simulation ', max=500, style=ProgressStyle(descriptio…"
      ]
     },
     "metadata": {},
     "output_type": "display_data"
    },
    {
     "name": "stdout",
     "output_type": "stream",
     "text": [
      "Running BA Network Regression: 250 nodes\n",
      "Running BA Network Regression: 150 nodes\n",
      "Running BA Network Regression: 296 nodes\n",
      "Running BA Network Regression: 250 nodes\n"
     ]
    },
    {
     "data": {
      "application/vnd.jupyter.widget-view+json": {
       "model_id": "cc23aa8162ed40d59ebc6a7116102879",
       "version_major": 2,
       "version_minor": 0
      },
      "text/plain": [
       "HBox(children=(IntProgress(value=0, description='Running Simulation ', max=500, style=ProgressStyle(descriptio…"
      ]
     },
     "metadata": {},
     "output_type": "display_data"
    },
    {
     "name": "stdout",
     "output_type": "stream",
     "text": [
      "Running BA Network Regression: 200 nodes\n"
     ]
    },
    {
     "data": {
      "application/vnd.jupyter.widget-view+json": {
       "model_id": "fcfc0b126b224fe9a6eadfe3ba3a3281",
       "version_major": 2,
       "version_minor": 0
      },
      "text/plain": [
       "HBox(children=(IntProgress(value=0, description='Running Simulation ', max=500, style=ProgressStyle(descriptio…"
      ]
     },
     "metadata": {},
     "output_type": "display_data"
    },
    {
     "name": "stdout",
     "output_type": "stream",
     "text": [
      "Running BA Network Regression: 298 nodes\n"
     ]
    },
    {
     "name": "stderr",
     "output_type": "stream",
     "text": [
      "2020-06-17 14:45:17,903:INFO:First current path [49, 205, 3, 9, 209, 248] formed at time = 0.77 s.\n"
     ]
    },
    {
     "name": "stdout",
     "output_type": "stream",
     "text": [
      "Running BA Network Regression: 50 nodes\n",
      "Running BA Network Regression: 100 nodes\n",
      "Running BA Network Regression: 250 nodes\n",
      "Running BA Network Regression: 292 nodes\n"
     ]
    },
    {
     "name": "stderr",
     "output_type": "stream",
     "text": [
      "2020-06-17 14:45:18,126:INFO:First current path [93, 66, 6, 16, 181, 269] formed at time = 0.77 s.\n"
     ]
    },
    {
     "name": "stdout",
     "output_type": "stream",
     "text": [
      "Running BA Network Regression: 50 nodes\n",
      "Running BA Network Regression: 150 nodes\n",
      "Running BA Network Regression: 100 nodes\n",
      "Running BA Network Regression: 150 nodes\n",
      "Running BA Network Regression: 200 nodes\n",
      "Running BA Network Regression: 200 nodes\n",
      "Running BA Network Regression: 282 nodes\n"
     ]
    },
    {
     "name": "stderr",
     "output_type": "stream",
     "text": [
      "2020-06-17 14:45:18,916:INFO:First current path [0, 51, 77, 72] formed at time = 0.75 s.\n"
     ]
    },
    {
     "name": "stdout",
     "output_type": "stream",
     "text": [
      "Running BA Network Regression: 50 nodes\n",
      "Running BA Network Regression: 250 nodes\n"
     ]
    },
    {
     "name": "stderr",
     "output_type": "stream",
     "text": [
      "2020-06-17 14:45:18,968:INFO:First current path [61, 118, 119, 41, 217, 220] formed at time = 0.76 s.\n"
     ]
    },
    {
     "name": "stdout",
     "output_type": "stream",
     "text": [
      "Running BA Network Regression: 50 nodes\n",
      "Running BA Network Regression: 100 nodes\n"
     ]
    },
    {
     "data": {
      "application/vnd.jupyter.widget-view+json": {
       "model_id": "86875e9feb43489288f72dca28f1ac69",
       "version_major": 2,
       "version_minor": 0
      },
      "text/plain": [
       "HBox(children=(IntProgress(value=0, description='Running Simulation ', max=500, style=ProgressStyle(descriptio…"
      ]
     },
     "metadata": {},
     "output_type": "display_data"
    },
    {
     "name": "stdout",
     "output_type": "stream",
     "text": [
      "Running BA Network Regression: 100 nodes\n",
      "Running BA Network Regression: 150 nodes\n",
      "Running BA Network Regression: 150 nodes\n",
      "Running BA Network Regression: 250 nodes\n"
     ]
    },
    {
     "data": {
      "application/vnd.jupyter.widget-view+json": {
       "model_id": "fb7fe754171a4fcd97c6c8ad16017e87",
       "version_major": 2,
       "version_minor": 0
      },
      "text/plain": [
       "HBox(children=(IntProgress(value=0, description='Running Simulation ', max=500, style=ProgressStyle(descriptio…"
      ]
     },
     "metadata": {},
     "output_type": "display_data"
    },
    {
     "name": "stdout",
     "output_type": "stream",
     "text": [
      "Running BA Network Regression: 200 nodes\n",
      "Running BA Network Regression: 200 nodes\n",
      "Running BA Network Regression: 287 nodes\n"
     ]
    },
    {
     "data": {
      "application/vnd.jupyter.widget-view+json": {
       "model_id": "53491c15913f45869e7d82cdbf985d80",
       "version_major": 2,
       "version_minor": 0
      },
      "text/plain": [
       "HBox(children=(IntProgress(value=0, description='Running Simulation ', max=500, style=ProgressStyle(descriptio…"
      ]
     },
     "metadata": {},
     "output_type": "display_data"
    },
    {
     "name": "stdout",
     "output_type": "stream",
     "text": [
      "Running BA Network Regression: 283 nodes\n",
      "Running BA Network Regression: 250 nodes\n"
     ]
    },
    {
     "data": {
      "application/vnd.jupyter.widget-view+json": {
       "model_id": "8a1f498c51f1455dba0e0d98221ebaad",
       "version_major": 2,
       "version_minor": 0
      },
      "text/plain": [
       "HBox(children=(IntProgress(value=0, description='Running Simulation ', max=500, style=ProgressStyle(descriptio…"
      ]
     },
     "metadata": {},
     "output_type": "display_data"
    },
    {
     "name": "stdout",
     "output_type": "stream",
     "text": [
      "Running BA Network Regression: 250 nodes\n"
     ]
    },
    {
     "name": "stderr",
     "output_type": "stream",
     "text": [
      "2020-06-17 14:45:20,466:INFO:First current path [188, 222, 70, 149, 223] formed at time = 0.77 s.\n"
     ]
    },
    {
     "name": "stdout",
     "output_type": "stream",
     "text": [
      "Running BA Network Regression: 50 nodes\n",
      "Running BA Network Regression: 100 nodes\n"
     ]
    },
    {
     "data": {
      "application/vnd.jupyter.widget-view+json": {
       "model_id": "f9d1de17feec4c6487103ca0f07a78e5",
       "version_major": 2,
       "version_minor": 0
      },
      "text/plain": [
       "HBox(children=(IntProgress(value=0, description='Running Simulation ', max=500, style=ProgressStyle(descriptio…"
      ]
     },
     "metadata": {},
     "output_type": "display_data"
    },
    {
     "name": "stdout",
     "output_type": "stream",
     "text": [
      "Running BA Network Regression: 150 nodes\n"
     ]
    },
    {
     "name": "stderr",
     "output_type": "stream",
     "text": [
      "2020-06-17 14:45:20,747:INFO:First current path [249, 225, 9, 98, 284] formed at time = 0.77 s.\n"
     ]
    },
    {
     "name": "stdout",
     "output_type": "stream",
     "text": [
      "Running BA Network Regression: 50 nodes\n",
      "Running BA Network Regression: 284 nodes\n",
      "Running BA Network Regression: 100 nodes\n",
      "Running BA Network Regression: 300 nodes\n",
      "Running BA Network Regression: 150 nodes\n",
      "Running BA Network Regression: 200 nodes\n"
     ]
    },
    {
     "data": {
      "application/vnd.jupyter.widget-view+json": {
       "model_id": "d0aeff3d007448cb924656fb45f047b4",
       "version_major": 2,
       "version_minor": 0
      },
      "text/plain": [
       "HBox(children=(IntProgress(value=0, description='Running Simulation ', max=500, style=ProgressStyle(descriptio…"
      ]
     },
     "metadata": {},
     "output_type": "display_data"
    },
    {
     "name": "stderr",
     "output_type": "stream",
     "text": [
      "2020-06-17 14:45:21,216:INFO:First current path [5, 240, 3, 56, 273] formed at time = 0.76 s.\n"
     ]
    },
    {
     "name": "stdout",
     "output_type": "stream",
     "text": [
      "Running BA Network Regression: 50 nodes\n",
      "Running BA Network Regression: 100 nodes\n",
      "Running BA Network Regression: 200 nodes\n",
      "Running BA Network Regression: 150 nodes\n"
     ]
    },
    {
     "name": "stderr",
     "output_type": "stream",
     "text": [
      "2020-06-17 14:45:21,566:INFO:First current path [0, 65, 298, 149] formed at time = 0.75 s.\n"
     ]
    },
    {
     "name": "stdout",
     "output_type": "stream",
     "text": [
      "Running BA Network Regression: 50 nodes\n",
      "Running BA Network Regression: 100 nodes\n",
      "Running BA Network Regression: 250 nodes\n"
     ]
    },
    {
     "data": {
      "application/vnd.jupyter.widget-view+json": {
       "model_id": "24ce3838a7ab4558863f48c80ba35635",
       "version_major": 2,
       "version_minor": 0
      },
      "text/plain": [
       "HBox(children=(IntProgress(value=0, description='Running Simulation ', max=500, style=ProgressStyle(descriptio…"
      ]
     },
     "metadata": {},
     "output_type": "display_data"
    },
    {
     "name": "stdout",
     "output_type": "stream",
     "text": [
      "Running BA Network Regression: 200 nodes\n",
      "Running BA Network Regression: 150 nodes\n"
     ]
    },
    {
     "name": "stderr",
     "output_type": "stream",
     "text": [
      "2020-06-17 14:45:21,848:INFO:First current path [24, 22, 18, 158, 286] formed at time = 0.77 s.\n"
     ]
    },
    {
     "name": "stdout",
     "output_type": "stream",
     "text": [
      "Running BA Network Regression: 50 nodes\n",
      "Running BA Network Regression: 250 nodes\n",
      "Running BA Network Regression: 100 nodes\n",
      "Running BA Network Regression: 150 nodes\n",
      "Running BA Network Regression: 200 nodes\n"
     ]
    },
    {
     "data": {
      "application/vnd.jupyter.widget-view+json": {
       "model_id": "03830d612aa04fe99561a094bafc482d",
       "version_major": 2,
       "version_minor": 0
      },
      "text/plain": [
       "HBox(children=(IntProgress(value=0, description='Running Simulation ', max=500, style=ProgressStyle(descriptio…"
      ]
     },
     "metadata": {},
     "output_type": "display_data"
    },
    {
     "name": "stdout",
     "output_type": "stream",
     "text": [
      "Running BA Network Regression: 250 nodes\n"
     ]
    },
    {
     "name": "stderr",
     "output_type": "stream",
     "text": [
      "2020-06-17 14:45:22,343:INFO:First current path [274, 182, 159, 33, 111, 237] formed at time = 0.76 s.\n"
     ]
    },
    {
     "name": "stdout",
     "output_type": "stream",
     "text": [
      "Running BA Network Regression: 50 nodes\n",
      "Running BA Network Regression: 100 nodes\n",
      "Running BA Network Regression: 200 nodes\n",
      "Running BA Network Regression: 300 nodes\n",
      "Running BA Network Regression: 150 nodes\n",
      "Running BA Network Regression: 298 nodes\n",
      "Running BA Network Regression: 250 nodes\n"
     ]
    },
    {
     "data": {
      "application/vnd.jupyter.widget-view+json": {
       "model_id": "45ec68a8e7654f289d0820f146824270",
       "version_major": 2,
       "version_minor": 0
      },
      "text/plain": [
       "HBox(children=(IntProgress(value=0, description='Running Simulation ', max=500, style=ProgressStyle(descriptio…"
      ]
     },
     "metadata": {},
     "output_type": "display_data"
    },
    {
     "name": "stderr",
     "output_type": "stream",
     "text": [
      "2020-06-17 14:45:22,883:INFO:First current path [237, 180, 69, 82, 167, 207] formed at time = 0.77 s.\n"
     ]
    },
    {
     "name": "stdout",
     "output_type": "stream",
     "text": [
      "Running BA Network Regression: 50 nodes\n",
      "Running BA Network Regression: 200 nodes\n",
      "Running BA Network Regression: 100 nodes\n",
      "Running BA Network Regression: 250 nodes\n",
      "Running BA Network Regression: 298 nodes\n",
      "Running BA Network Regression: 150 nodes\n",
      "Running BA Network Regression: 250 nodes\n",
      "Running BA Network Regression: 200 nodes\n"
     ]
    },
    {
     "name": "stderr",
     "output_type": "stream",
     "text": [
      "2020-06-17 14:45:23,460:INFO:First current path [45, 236, 21, 146, 164, 255] formed at time = 0.76 s.\n"
     ]
    },
    {
     "name": "stdout",
     "output_type": "stream",
     "text": [
      "Running BA Network Regression: 50 nodes\n",
      "Running BA Network Regression: 100 nodes\n",
      "Running BA Network Regression: 300 nodes\n",
      "Running BA Network Regression: 150 nodes\n",
      "Running BA Network Regression: 294 nodes\n",
      "Running BA Network Regression: 250 nodes\n"
     ]
    },
    {
     "name": "stderr",
     "output_type": "stream",
     "text": [
      "2020-06-17 14:45:23,977:INFO:First current path [78, 74, 10, 0, 43, 101, 225] formed at time = 0.76 s.\n"
     ]
    },
    {
     "name": "stdout",
     "output_type": "stream",
     "text": [
      "Running BA Network Regression: 50 nodes\n",
      "Running BA Network Regression: 200 nodes\n",
      "Running BA Network Regression: 100 nodes\n"
     ]
    },
    {
     "data": {
      "application/vnd.jupyter.widget-view+json": {
       "model_id": "6b5d3407c8ad48b18b9c897b1ec70b9a",
       "version_major": 2,
       "version_minor": 0
      },
      "text/plain": [
       "HBox(children=(IntProgress(value=0, description='Running Simulation ', max=500, style=ProgressStyle(descriptio…"
      ]
     },
     "metadata": {},
     "output_type": "display_data"
    },
    {
     "name": "stdout",
     "output_type": "stream",
     "text": [
      "Running BA Network Regression: 292 nodes\n",
      "Running BA Network Regression: 150 nodes\n",
      "Running BA Network Regression: 200 nodes\n",
      "Running BA Network Regression: 250 nodes\n",
      "Running BA Network Regression: 279 nodes\n",
      "Running BA Network Regression: 250 nodes\n"
     ]
    },
    {
     "data": {
      "application/vnd.jupyter.widget-view+json": {
       "model_id": "95c624559c3d4d5c9b410eeb8927fc40",
       "version_major": 2,
       "version_minor": 0
      },
      "text/plain": [
       "HBox(children=(IntProgress(value=0, description='Running Simulation ', max=500, style=ProgressStyle(descriptio…"
      ]
     },
     "metadata": {},
     "output_type": "display_data"
    },
    {
     "name": "stderr",
     "output_type": "stream",
     "text": [
      "2020-06-17 14:45:25,277:INFO:First current path [57, 224, 45, 25, 61, 133, 264] formed at time = 0.76 s.\n"
     ]
    },
    {
     "name": "stdout",
     "output_type": "stream",
     "text": [
      "Running BA Network Regression: 50 nodes\n",
      "Running BA Network Regression: 289 nodes\n",
      "Running BA Network Regression: 100 nodes\n",
      "Running BA Network Regression: 150 nodes\n"
     ]
    },
    {
     "data": {
      "application/vnd.jupyter.widget-view+json": {
       "model_id": "6aab9f0ecc7c47a2b891aa911453dfd4",
       "version_major": 2,
       "version_minor": 0
      },
      "text/plain": [
       "HBox(children=(IntProgress(value=0, description='Running Simulation ', max=500, style=ProgressStyle(descriptio…"
      ]
     },
     "metadata": {},
     "output_type": "display_data"
    },
    {
     "name": "stdout",
     "output_type": "stream",
     "text": [
      "Running BA Network Regression: 281 nodes\n",
      "Running BA Network Regression: 200 nodes\n"
     ]
    },
    {
     "data": {
      "application/vnd.jupyter.widget-view+json": {
       "model_id": "a2177cc6359f4b38a88f6e0355b6203b",
       "version_major": 2,
       "version_minor": 0
      },
      "text/plain": [
       "HBox(children=(IntProgress(value=0, description='Running Simulation ', max=500, style=ProgressStyle(descriptio…"
      ]
     },
     "metadata": {},
     "output_type": "display_data"
    },
    {
     "name": "stdout",
     "output_type": "stream",
     "text": [
      "Running BA Network Regression: 250 nodes\n"
     ]
    },
    {
     "name": "stderr",
     "output_type": "stream",
     "text": [
      "2020-06-17 14:45:26,595:INFO:First current path [0, 17, 181, 232] formed at time = 0.76 s.\n"
     ]
    },
    {
     "name": "stdout",
     "output_type": "stream",
     "text": [
      "Running BA Network Regression: 50 nodes\n",
      "Running BA Network Regression: 100 nodes\n",
      "Running BA Network Regression: 150 nodes\n"
     ]
    },
    {
     "data": {
      "application/vnd.jupyter.widget-view+json": {
       "model_id": "06e314153a5e4d44b6b8c9be97c15c6f",
       "version_major": 2,
       "version_minor": 0
      },
      "text/plain": [
       "HBox(children=(IntProgress(value=0, description='Running Simulation ', max=500, style=ProgressStyle(descriptio…"
      ]
     },
     "metadata": {},
     "output_type": "display_data"
    },
    {
     "name": "stdout",
     "output_type": "stream",
     "text": [
      "Running BA Network Regression: 279 nodes\n"
     ]
    },
    {
     "name": "stderr",
     "output_type": "stream",
     "text": [
      "2020-06-17 14:45:27,007:INFO:First current path [0, 11, 146, 161] formed at time = 0.75 s.\n"
     ]
    },
    {
     "name": "stdout",
     "output_type": "stream",
     "text": [
      "Running BA Network Regression: 50 nodes\n",
      "Running BA Network Regression: 100 nodes\n",
      "Running BA Network Regression: 200 nodes\n",
      "Running BA Network Regression: 150 nodes\n",
      "Running BA Network Regression: 200 nodes\n"
     ]
    },
    {
     "name": "stderr",
     "output_type": "stream",
     "text": [
      "2020-06-17 14:45:27,634:INFO:First current path [62, 70, 22, 207, 158] formed at time = 0.76 s.\n"
     ]
    },
    {
     "name": "stdout",
     "output_type": "stream",
     "text": [
      "Running BA Network Regression: 50 nodes\n",
      "Running BA Network Regression: 100 nodes\n",
      "Running BA Network Regression: 250 nodes\n"
     ]
    },
    {
     "data": {
      "application/vnd.jupyter.widget-view+json": {
       "model_id": "79eb072c592e451d93baf119204597a1",
       "version_major": 2,
       "version_minor": 0
      },
      "text/plain": [
       "HBox(children=(IntProgress(value=0, description='Running Simulation ', max=500, style=ProgressStyle(descriptio…"
      ]
     },
     "metadata": {},
     "output_type": "display_data"
    },
    {
     "name": "stdout",
     "output_type": "stream",
     "text": [
      "Running BA Network Regression: 150 nodes\n",
      "Running BA Network Regression: 250 nodes\n",
      "Running BA Network Regression: 200 nodes\n"
     ]
    },
    {
     "name": "stderr",
     "output_type": "stream",
     "text": [
      "2020-06-17 14:45:28,312:INFO:First current path [40, 185, 3, 103, 205] formed at time = 0.77 s.\n"
     ]
    },
    {
     "name": "stdout",
     "output_type": "stream",
     "text": [
      "Running BA Network Regression: 50 nodes\n",
      "Running BA Network Regression: 100 nodes\n"
     ]
    },
    {
     "data": {
      "application/vnd.jupyter.widget-view+json": {
       "model_id": "8ea7aebb73284d5c82464f68b17a13de",
       "version_major": 2,
       "version_minor": 0
      },
      "text/plain": [
       "HBox(children=(IntProgress(value=0, description='Running Simulation ', max=500, style=ProgressStyle(descriptio…"
      ]
     },
     "metadata": {},
     "output_type": "display_data"
    },
    {
     "name": "stdout",
     "output_type": "stream",
     "text": [
      "Running BA Network Regression: 150 nodes\n",
      "Running BA Network Regression: 300 nodes\n",
      "Running BA Network Regression: 250 nodes\n",
      "Running BA Network Regression: 200 nodes\n",
      "Running BA Network Regression: 300 nodes\n"
     ]
    },
    {
     "name": "stderr",
     "output_type": "stream",
     "text": [
      "2020-06-17 14:45:29,120:INFO:First current path [12, 168, 40, 66, 267] formed at time = 0.77 s.\n"
     ]
    },
    {
     "name": "stdout",
     "output_type": "stream",
     "text": [
      "Running BA Network Regression: 50 nodes\n",
      "Running BA Network Regression: 100 nodes\n"
     ]
    },
    {
     "data": {
      "application/vnd.jupyter.widget-view+json": {
       "model_id": "546ae35d33c6404bb919b24dc025248b",
       "version_major": 2,
       "version_minor": 0
      },
      "text/plain": [
       "HBox(children=(IntProgress(value=0, description='Running Simulation ', max=500, style=ProgressStyle(descriptio…"
      ]
     },
     "metadata": {},
     "output_type": "display_data"
    },
    {
     "data": {
      "application/vnd.jupyter.widget-view+json": {
       "model_id": "0aa92806ee0341239c1b9ff29485fbf0",
       "version_major": 2,
       "version_minor": 0
      },
      "text/plain": [
       "HBox(children=(IntProgress(value=0, description='Running Simulation ', max=500, style=ProgressStyle(descriptio…"
      ]
     },
     "metadata": {},
     "output_type": "display_data"
    },
    {
     "name": "stdout",
     "output_type": "stream",
     "text": [
      "Running BA Network Regression: 150 nodes\n",
      "Running BA Network Regression: 250 nodes\n",
      "Running BA Network Regression: 297 nodes\n",
      "Running BA Network Regression: 200 nodes\n"
     ]
    },
    {
     "name": "stderr",
     "output_type": "stream",
     "text": [
      "2020-06-17 14:45:29,806:INFO:First current path [205, 66, 190, 177, 150, 275] formed at time = 0.78 s.\n"
     ]
    },
    {
     "name": "stdout",
     "output_type": "stream",
     "text": [
      "Running BA Network Regression: 50 nodes\n",
      "Running BA Network Regression: 100 nodes\n",
      "Running BA Network Regression: 150 nodes\n"
     ]
    },
    {
     "data": {
      "application/vnd.jupyter.widget-view+json": {
       "model_id": "153c8ca7f33b42baab880702db2ad6fb",
       "version_major": 2,
       "version_minor": 0
      },
      "text/plain": [
       "HBox(children=(IntProgress(value=0, description='Running Simulation ', max=500, style=ProgressStyle(descriptio…"
      ]
     },
     "metadata": {},
     "output_type": "display_data"
    },
    {
     "name": "stdout",
     "output_type": "stream",
     "text": [
      "Running BA Network Regression: 250 nodes\n",
      "Running BA Network Regression: 300 nodes\n"
     ]
    },
    {
     "name": "stderr",
     "output_type": "stream",
     "text": [
      "2020-06-17 14:45:30,356:INFO:First current path [65, 35, 5, 57, 111, 262] formed at time = 0.77 s.\n"
     ]
    },
    {
     "name": "stdout",
     "output_type": "stream",
     "text": [
      "Running BA Network Regression: 50 nodes\n",
      "Running BA Network Regression: 200 nodes\n"
     ]
    },
    {
     "name": "stderr",
     "output_type": "stream",
     "text": [
      "2020-06-17 14:45:30,414:INFO:First current path [98, 44, 5, 118, 179, 204] formed at time = 0.77 s.\n"
     ]
    },
    {
     "name": "stdout",
     "output_type": "stream",
     "text": [
      "Running BA Network Regression: 50 nodes\n",
      "Running BA Network Regression: 100 nodes\n",
      "Running BA Network Regression: 100 nodes\n",
      "Running BA Network Regression: 150 nodes\n",
      "Running BA Network Regression: 150 nodes\n"
     ]
    },
    {
     "data": {
      "application/vnd.jupyter.widget-view+json": {
       "model_id": "a250fde8369f4e7aa668fea67fd88d81",
       "version_major": 2,
       "version_minor": 0
      },
      "text/plain": [
       "HBox(children=(IntProgress(value=0, description='Running Simulation ', max=500, style=ProgressStyle(descriptio…"
      ]
     },
     "metadata": {},
     "output_type": "display_data"
    },
    {
     "name": "stdout",
     "output_type": "stream",
     "text": [
      "Running BA Network Regression: 250 nodes\n",
      "Running BA Network Regression: 200 nodes\n",
      "Running BA Network Regression: 200 nodes\n",
      "Running BA Network Regression: 294 nodes\n"
     ]
    },
    {
     "data": {
      "application/vnd.jupyter.widget-view+json": {
       "model_id": "1e1a19132eec413b9b9e3a92b5ed0bb9",
       "version_major": 2,
       "version_minor": 0
      },
      "text/plain": [
       "HBox(children=(IntProgress(value=0, description='Running Simulation ', max=500, style=ProgressStyle(descriptio…"
      ]
     },
     "metadata": {},
     "output_type": "display_data"
    },
    {
     "name": "stdout",
     "output_type": "stream",
     "text": [
      "Running BA Network Regression: 250 nodes\n",
      "Running BA Network Regression: 250 nodes\n"
     ]
    },
    {
     "data": {
      "application/vnd.jupyter.widget-view+json": {
       "model_id": "88f3bac0744d453393b6a6598349112c",
       "version_major": 2,
       "version_minor": 0
      },
      "text/plain": [
       "HBox(children=(IntProgress(value=0, description='Running Simulation ', max=500, style=ProgressStyle(descriptio…"
      ]
     },
     "metadata": {},
     "output_type": "display_data"
    },
    {
     "name": "stdout",
     "output_type": "stream",
     "text": [
      "Running BA Network Regression: 292 nodes\n"
     ]
    },
    {
     "name": "stderr",
     "output_type": "stream",
     "text": [
      "2020-06-17 14:45:31,711:INFO:First current path [0, 246, 254, 180] formed at time = 0.76 s.\n"
     ]
    },
    {
     "name": "stdout",
     "output_type": "stream",
     "text": [
      "Running BA Network Regression: 50 nodes\n",
      "Running BA Network Regression: 100 nodes\n",
      "Running BA Network Regression: 150 nodes\n",
      "Running BA Network Regression: 279 nodes\n"
     ]
    },
    {
     "name": "stderr",
     "output_type": "stream",
     "text": [
      "2020-06-17 14:45:32,202:INFO:First current path [172, 97, 54, 286, 185] formed at time = 0.78 s.\n"
     ]
    },
    {
     "name": "stdout",
     "output_type": "stream",
     "text": [
      "Running BA Network Regression: 50 nodes\n",
      "Running BA Network Regression: 279 nodes\n",
      "Running BA Network Regression: 100 nodes\n",
      "Running BA Network Regression: 200 nodes\n"
     ]
    },
    {
     "data": {
      "application/vnd.jupyter.widget-view+json": {
       "model_id": "141e13479efc4d42aa0dbe20df5b0bc9",
       "version_major": 2,
       "version_minor": 0
      },
      "text/plain": [
       "HBox(children=(IntProgress(value=0, description='Running Simulation ', max=500, style=ProgressStyle(descriptio…"
      ]
     },
     "metadata": {},
     "output_type": "display_data"
    },
    {
     "name": "stdout",
     "output_type": "stream",
     "text": [
      "Running BA Network Regression: 150 nodes\n"
     ]
    },
    {
     "name": "stderr",
     "output_type": "stream",
     "text": [
      "2020-06-17 14:45:32,524:INFO:First current path [198, 257, 26, 49, 277] formed at time = 0.78 s.\n"
     ]
    },
    {
     "name": "stdout",
     "output_type": "stream",
     "text": [
      "Running BA Network Regression: 50 nodes\n",
      "Running BA Network Regression: 100 nodes\n",
      "Running BA Network Regression: 150 nodes\n",
      "Running BA Network Regression: 200 nodes\n",
      "Running BA Network Regression: 250 nodes\n"
     ]
    },
    {
     "name": "stderr",
     "output_type": "stream",
     "text": [
      "2020-06-17 14:45:32,899:INFO:First current path [0, 175, 60, 147, 218] formed at time = 0.77 s.\n"
     ]
    },
    {
     "name": "stdout",
     "output_type": "stream",
     "text": [
      "Running BA Network Regression: 50 nodes\n",
      "Running BA Network Regression: 100 nodes\n"
     ]
    },
    {
     "data": {
      "application/vnd.jupyter.widget-view+json": {
       "model_id": "efbda62d78b5408b8e53c7b408d95ea7",
       "version_major": 2,
       "version_minor": 0
      },
      "text/plain": [
       "HBox(children=(IntProgress(value=0, description='Running Simulation ', max=500, style=ProgressStyle(descriptio…"
      ]
     },
     "metadata": {},
     "output_type": "display_data"
    },
    {
     "data": {
      "application/vnd.jupyter.widget-view+json": {
       "model_id": "d7fbdfbd583444589527a1883a851e1c",
       "version_major": 2,
       "version_minor": 0
      },
      "text/plain": [
       "HBox(children=(IntProgress(value=0, description='Running Simulation ', max=500, style=ProgressStyle(descriptio…"
      ]
     },
     "metadata": {},
     "output_type": "display_data"
    },
    {
     "name": "stdout",
     "output_type": "stream",
     "text": [
      "Running BA Network Regression: 200 nodes\n",
      "Running BA Network Regression: 150 nodes\n",
      "Running BA Network Regression: 250 nodes\n",
      "Running BA Network Regression: 200 nodes\n",
      "Running BA Network Regression: 250 nodes\n",
      "Running BA Network Regression: 300 nodes\n"
     ]
    },
    {
     "name": "stderr",
     "output_type": "stream",
     "text": [
      "2020-06-17 14:45:33,778:INFO:First current path [116, 135, 7, 179, 291] formed at time = 0.76 s.\n"
     ]
    },
    {
     "name": "stdout",
     "output_type": "stream",
     "text": [
      "Running BA Network Regression: 50 nodes\n",
      "Running BA Network Regression: 100 nodes\n",
      "Running BA Network Regression: 250 nodes\n",
      "Running BA Network Regression: 150 nodes\n",
      "Running BA Network Regression: 297 nodes\n"
     ]
    },
    {
     "data": {
      "application/vnd.jupyter.widget-view+json": {
       "model_id": "71a0ca5fe6d3488483ba0f670c334931",
       "version_major": 2,
       "version_minor": 0
      },
      "text/plain": [
       "HBox(children=(IntProgress(value=0, description='Running Simulation ', max=500, style=ProgressStyle(descriptio…"
      ]
     },
     "metadata": {},
     "output_type": "display_data"
    },
    {
     "name": "stderr",
     "output_type": "stream",
     "text": [
      "2020-06-17 14:45:34,221:INFO:First current path [3, 107, 42, 95, 274] formed at time = 0.76 s.\n"
     ]
    },
    {
     "name": "stdout",
     "output_type": "stream",
     "text": [
      "Running BA Network Regression: 50 nodes\n",
      "Running BA Network Regression: 100 nodes\n",
      "Running BA Network Regression: 200 nodes\n",
      "Running BA Network Regression: 150 nodes\n"
     ]
    },
    {
     "name": "stderr",
     "output_type": "stream",
     "text": [
      "2020-06-17 14:45:34,499:INFO:First current path [222, 76, 34, 167, 235] formed at time = 0.77 s.\n"
     ]
    },
    {
     "name": "stdout",
     "output_type": "stream",
     "text": [
      "Running BA Network Regression: 50 nodes\n",
      "Running BA Network Regression: 294 nodes\n",
      "Running BA Network Regression: 100 nodes\n"
     ]
    },
    {
     "data": {
      "application/vnd.jupyter.widget-view+json": {
       "model_id": "65744ab977254a399c0a19b68ce1c4fd",
       "version_major": 2,
       "version_minor": 0
      },
      "text/plain": [
       "HBox(children=(IntProgress(value=0, description='Running Simulation ', max=500, style=ProgressStyle(descriptio…"
      ]
     },
     "metadata": {},
     "output_type": "display_data"
    },
    {
     "name": "stdout",
     "output_type": "stream",
     "text": [
      "Running BA Network Regression: 150 nodes\n",
      "Running BA Network Regression: 296 nodes\n",
      "Running BA Network Regression: 200 nodes\n"
     ]
    },
    {
     "data": {
      "application/vnd.jupyter.widget-view+json": {
       "model_id": "62ebd4232e4f479fbbb6e0f0377de1fb",
       "version_major": 2,
       "version_minor": 0
      },
      "text/plain": [
       "HBox(children=(IntProgress(value=0, description='Running Simulation ', max=500, style=ProgressStyle(descriptio…"
      ]
     },
     "metadata": {},
     "output_type": "display_data"
    },
    {
     "name": "stdout",
     "output_type": "stream",
     "text": [
      "Running BA Network Regression: 250 nodes\n",
      "Running BA Network Regression: 200 nodes\n",
      "Running BA Network Regression: 250 nodes\n"
     ]
    },
    {
     "name": "stderr",
     "output_type": "stream",
     "text": [
      "2020-06-17 14:45:35,382:INFO:First current path [193, 172, 13, 60, 161, 272] formed at time = 0.76 s.\n"
     ]
    },
    {
     "name": "stdout",
     "output_type": "stream",
     "text": [
      "Running BA Network Regression: 50 nodes\n",
      "Running BA Network Regression: 100 nodes\n"
     ]
    },
    {
     "data": {
      "application/vnd.jupyter.widget-view+json": {
       "model_id": "3a97f4f1915b4d4fa321ae540825456f",
       "version_major": 2,
       "version_minor": 0
      },
      "text/plain": [
       "HBox(children=(IntProgress(value=0, description='Running Simulation ', max=500, style=ProgressStyle(descriptio…"
      ]
     },
     "metadata": {},
     "output_type": "display_data"
    },
    {
     "name": "stdout",
     "output_type": "stream",
     "text": [
      "Running BA Network Regression: 150 nodes\n",
      "Running BA Network Regression: 250 nodes\n",
      "Running BA Network Regression: 297 nodes\n"
     ]
    },
    {
     "name": "stderr",
     "output_type": "stream",
     "text": [
      "2020-06-17 14:45:35,838:INFO:First current path [3, 44, 37, 79, 151] formed at time = 0.75 s.\n"
     ]
    },
    {
     "name": "stdout",
     "output_type": "stream",
     "text": [
      "Running BA Network Regression: 50 nodes\n",
      "Running BA Network Regression: 100 nodes\n",
      "Running BA Network Regression: 200 nodes\n",
      "Running BA Network Regression: 281 nodes\n",
      "Running BA Network Regression: 150 nodes\n"
     ]
    },
    {
     "data": {
      "application/vnd.jupyter.widget-view+json": {
       "model_id": "ba961f469e5e40d59d876460c320697d",
       "version_major": 2,
       "version_minor": 0
      },
      "text/plain": [
       "HBox(children=(IntProgress(value=0, description='Running Simulation ', max=500, style=ProgressStyle(descriptio…"
      ]
     },
     "metadata": {},
     "output_type": "display_data"
    },
    {
     "name": "stderr",
     "output_type": "stream",
     "text": [
      "2020-06-17 14:45:36,257:INFO:First current path [0, 12, 174, 261] formed at time = 0.76 s.\n"
     ]
    },
    {
     "name": "stdout",
     "output_type": "stream",
     "text": [
      "Running BA Network Regression: 50 nodes\n",
      "Running BA Network Regression: 100 nodes\n",
      "Running BA Network Regression: 200 nodes\n",
      "Running BA Network Regression: 250 nodes\n",
      "Running BA Network Regression: 299 nodes\n",
      "Running BA Network Regression: 150 nodes\n",
      "Running BA Network Regression: 200 nodes\n",
      "Running BA Network Regression: 250 nodes\n"
     ]
    },
    {
     "name": "stderr",
     "output_type": "stream",
     "text": [
      "2020-06-17 14:45:37,017:INFO:First current path [0, 62, 173, 241] formed at time = 0.75 s.\n"
     ]
    },
    {
     "name": "stdout",
     "output_type": "stream",
     "text": [
      "Running BA Network Regression: 50 nodes\n",
      "Running BA Network Regression: 100 nodes\n",
      "Running BA Network Regression: 281 nodes\n",
      "Running BA Network Regression: 150 nodes\n",
      "Running BA Network Regression: 250 nodes\n"
     ]
    },
    {
     "name": "stderr",
     "output_type": "stream",
     "text": [
      "2020-06-17 14:45:37,528:INFO:First current path [58, 25, 94, 275, 278] formed at time = 0.76 s.\n"
     ]
    },
    {
     "name": "stdout",
     "output_type": "stream",
     "text": [
      "Running BA Network Regression: 50 nodes\n",
      "Running BA Network Regression: 100 nodes\n",
      "Running BA Network Regression: 200 nodes\n",
      "Running BA Network Regression: 279 nodes\n",
      "Running BA Network Regression: 150 nodes\n"
     ]
    },
    {
     "data": {
      "application/vnd.jupyter.widget-view+json": {
       "model_id": "496ecbf5480a43339f0647ad66e890c5",
       "version_major": 2,
       "version_minor": 0
      },
      "text/plain": [
       "HBox(children=(IntProgress(value=0, description='Running Simulation ', max=500, style=ProgressStyle(descriptio…"
      ]
     },
     "metadata": {},
     "output_type": "display_data"
    },
    {
     "name": "stdout",
     "output_type": "stream",
     "text": [
      "Running BA Network Regression: 200 nodes\n",
      "Running BA Network Regression: 250 nodes\n",
      "Running BA Network Regression: 300 nodes\n"
     ]
    },
    {
     "data": {
      "application/vnd.jupyter.widget-view+json": {
       "model_id": "b298a990771b4831947b6c5921e53d50",
       "version_major": 2,
       "version_minor": 0
      },
      "text/plain": [
       "HBox(children=(IntProgress(value=0, description='Running Simulation ', max=500, style=ProgressStyle(descriptio…"
      ]
     },
     "metadata": {},
     "output_type": "display_data"
    },
    {
     "name": "stdout",
     "output_type": "stream",
     "text": [
      "Running BA Network Regression: 250 nodes\n"
     ]
    },
    {
     "data": {
      "application/vnd.jupyter.widget-view+json": {
       "model_id": "2182a9663362469f954dfed583413003",
       "version_major": 2,
       "version_minor": 0
      },
      "text/plain": [
       "HBox(children=(IntProgress(value=0, description='Running Simulation ', max=500, style=ProgressStyle(descriptio…"
      ]
     },
     "metadata": {},
     "output_type": "display_data"
    },
    {
     "name": "stdout",
     "output_type": "stream",
     "text": [
      "Running BA Network Regression: 297 nodes\n"
     ]
    },
    {
     "data": {
      "application/vnd.jupyter.widget-view+json": {
       "model_id": "d43dfd7fa3684b6e8e53b77602505ccb",
       "version_major": 2,
       "version_minor": 0
      },
      "text/plain": [
       "HBox(children=(IntProgress(value=0, description='Running Simulation ', max=500, style=ProgressStyle(descriptio…"
      ]
     },
     "metadata": {},
     "output_type": "display_data"
    },
    {
     "data": {
      "application/vnd.jupyter.widget-view+json": {
       "model_id": "3fbd86aacbe74875bf9346fc9d97b660",
       "version_major": 2,
       "version_minor": 0
      },
      "text/plain": [
       "HBox(children=(IntProgress(value=0, description='Running Simulation ', max=500, style=ProgressStyle(descriptio…"
      ]
     },
     "metadata": {},
     "output_type": "display_data"
    },
    {
     "name": "stderr",
     "output_type": "stream",
     "text": [
      "2020-06-17 14:45:39,427:INFO:First current path [58, 108, 8, 204, 215] formed at time = 0.77 s.\n"
     ]
    },
    {
     "name": "stdout",
     "output_type": "stream",
     "text": [
      "Running BA Network Regression: 50 nodes\n",
      "Running BA Network Regression: 100 nodes\n",
      "Running BA Network Regression: 285 nodes\n",
      "Running BA Network Regression: 150 nodes\n"
     ]
    },
    {
     "name": "stderr",
     "output_type": "stream",
     "text": [
      "2020-06-17 14:45:39,846:INFO:First current path [0, 13, 121, 197] formed at time = 0.75 s.\n"
     ]
    },
    {
     "name": "stdout",
     "output_type": "stream",
     "text": [
      "Running BA Network Regression: 50 nodes\n",
      "Running BA Network Regression: 100 nodes\n",
      "Running BA Network Regression: 200 nodes\n",
      "Running BA Network Regression: 150 nodes\n"
     ]
    },
    {
     "name": "stderr",
     "output_type": "stream",
     "text": [
      "2020-06-17 14:45:40,149:INFO:First current path [115, 29, 2, 254, 245] formed at time = 0.77 s.\n"
     ]
    },
    {
     "name": "stdout",
     "output_type": "stream",
     "text": [
      "Running BA Network Regression: 50 nodes\n",
      "Running BA Network Regression: 100 nodes\n",
      "Running BA Network Regression: 150 nodes\n",
      "Running BA Network Regression: 200 nodes\n"
     ]
    },
    {
     "name": "stderr",
     "output_type": "stream",
     "text": [
      "2020-06-17 14:45:40,460:INFO:First current path [56, 247, 84, 203, 231] formed at time = 0.75 s.\n"
     ]
    },
    {
     "name": "stdout",
     "output_type": "stream",
     "text": [
      "Running BA Network Regression: 50 nodes\n",
      "Running BA Network Regression: 100 nodes\n",
      "Running BA Network Regression: 250 nodes\n"
     ]
    },
    {
     "name": "stderr",
     "output_type": "stream",
     "text": [
      "2020-06-17 14:45:40,620:INFO:First current path [134, 84, 7, 122, 242] formed at time = 0.76 s.\n"
     ]
    },
    {
     "name": "stdout",
     "output_type": "stream",
     "text": [
      "Running BA Network Regression: 50 nodes\n",
      "Running BA Network Regression: 100 nodes\n",
      "Running BA Network Regression: 150 nodes\n",
      "Running BA Network Regression: 200 nodes\n",
      "Running BA Network Regression: 150 nodes\n",
      "Running BA Network Regression: 250 nodes\n",
      "Running BA Network Regression: 200 nodes\n",
      "Running BA Network Regression: 200 nodes\n",
      "Running BA Network Regression: 250 nodes\n",
      "Running BA Network Regression: 289 nodes\n",
      "Running BA Network Regression: 250 nodes\n"
     ]
    },
    {
     "data": {
      "application/vnd.jupyter.widget-view+json": {
       "model_id": "b34e88503c3341e7aea7b044479b280a",
       "version_major": 2,
       "version_minor": 0
      },
      "text/plain": [
       "HBox(children=(IntProgress(value=0, description='Running Simulation ', max=500, style=ProgressStyle(descriptio…"
      ]
     },
     "metadata": {},
     "output_type": "display_data"
    },
    {
     "name": "stdout",
     "output_type": "stream",
     "text": [
      "Running BA Network Regression: 250 nodes\n",
      "Running BA Network Regression: 293 nodes\n",
      "Running BA Network Regression: 287 nodes\n"
     ]
    },
    {
     "data": {
      "application/vnd.jupyter.widget-view+json": {
       "model_id": "de87f123fc9c4eb0a901f51a6633fac8",
       "version_major": 2,
       "version_minor": 0
      },
      "text/plain": [
       "HBox(children=(IntProgress(value=0, description='Running Simulation ', max=500, style=ProgressStyle(descriptio…"
      ]
     },
     "metadata": {},
     "output_type": "display_data"
    },
    {
     "name": "stdout",
     "output_type": "stream",
     "text": [
      "Running BA Network Regression: 287 nodes\n",
      "Running BA Network Regression: 290 nodes\n"
     ]
    },
    {
     "name": "stderr",
     "output_type": "stream",
     "text": [
      "2020-06-17 14:45:42,808:INFO:First current path [5, 4, 77, 122, 256] formed at time = 0.78 s.\n"
     ]
    },
    {
     "name": "stdout",
     "output_type": "stream",
     "text": [
      "Running BA Network Regression: 50 nodes\n",
      "Running BA Network Regression: 100 nodes\n",
      "Running BA Network Regression: 150 nodes\n"
     ]
    },
    {
     "data": {
      "application/vnd.jupyter.widget-view+json": {
       "model_id": "a2d29574c1d04f50a22dfb0aa3acdc31",
       "version_major": 2,
       "version_minor": 0
      },
      "text/plain": [
       "HBox(children=(IntProgress(value=0, description='Running Simulation ', max=500, style=ProgressStyle(descriptio…"
      ]
     },
     "metadata": {},
     "output_type": "display_data"
    },
    {
     "name": "stdout",
     "output_type": "stream",
     "text": [
      "Running BA Network Regression: 200 nodes\n"
     ]
    },
    {
     "name": "stderr",
     "output_type": "stream",
     "text": [
      "2020-06-17 14:45:43,424:INFO:First current path [271, 189, 34, 7, 92, 254] formed at time = 0.76 s.\n"
     ]
    },
    {
     "name": "stdout",
     "output_type": "stream",
     "text": [
      "Running BA Network Regression: 50 nodes\n",
      "Running BA Network Regression: 100 nodes\n",
      "Running BA Network Regression: 150 nodes\n"
     ]
    },
    {
     "data": {
      "application/vnd.jupyter.widget-view+json": {
       "model_id": "e76918a46e0f46fb91a3d91cf11da5e0",
       "version_major": 2,
       "version_minor": 0
      },
      "text/plain": [
       "HBox(children=(IntProgress(value=0, description='Running Simulation ', max=500, style=ProgressStyle(descriptio…"
      ]
     },
     "metadata": {},
     "output_type": "display_data"
    },
    {
     "name": "stdout",
     "output_type": "stream",
     "text": [
      "Running BA Network Regression: 250 nodes\n",
      "Running BA Network Regression: 200 nodes\n"
     ]
    },
    {
     "data": {
      "application/vnd.jupyter.widget-view+json": {
       "model_id": "012a6456c7174a38b774ab0a4082d3ac",
       "version_major": 2,
       "version_minor": 0
      },
      "text/plain": [
       "HBox(children=(IntProgress(value=0, description='Running Simulation ', max=500, style=ProgressStyle(descriptio…"
      ]
     },
     "metadata": {},
     "output_type": "display_data"
    },
    {
     "name": "stdout",
     "output_type": "stream",
     "text": [
      "Running BA Network Regression: 250 nodes\n"
     ]
    },
    {
     "name": "stderr",
     "output_type": "stream",
     "text": [
      "2020-06-17 14:45:44,532:INFO:First current path [187, 142, 38, 276, 290] formed at time = 0.76 s.\n"
     ]
    },
    {
     "name": "stdout",
     "output_type": "stream",
     "text": [
      "Running BA Network Regression: 50 nodes\n"
     ]
    },
    {
     "data": {
      "application/vnd.jupyter.widget-view+json": {
       "model_id": "f2f766a02a79480db0aed26a595cf555",
       "version_major": 2,
       "version_minor": 0
      },
      "text/plain": [
       "HBox(children=(IntProgress(value=0, description='Running Simulation ', max=500, style=ProgressStyle(descriptio…"
      ]
     },
     "metadata": {},
     "output_type": "display_data"
    },
    {
     "name": "stdout",
     "output_type": "stream",
     "text": [
      "Running BA Network Regression: 100 nodes\n",
      "Running BA Network Regression: 281 nodes\n",
      "Running BA Network Regression: 150 nodes\n"
     ]
    },
    {
     "data": {
      "application/vnd.jupyter.widget-view+json": {
       "model_id": "fba5afaf2b4a43fb9773607ee6b3e359",
       "version_major": 2,
       "version_minor": 0
      },
      "text/plain": [
       "HBox(children=(IntProgress(value=0, description='Running Simulation ', max=500, style=ProgressStyle(descriptio…"
      ]
     },
     "metadata": {},
     "output_type": "display_data"
    },
    {
     "data": {
      "application/vnd.jupyter.widget-view+json": {
       "model_id": "bf6e7d9ad7a94eda9e2c380b0c159d7c",
       "version_major": 2,
       "version_minor": 0
      },
      "text/plain": [
       "HBox(children=(IntProgress(value=0, description='Running Simulation ', max=500, style=ProgressStyle(descriptio…"
      ]
     },
     "metadata": {},
     "output_type": "display_data"
    },
    {
     "name": "stdout",
     "output_type": "stream",
     "text": [
      "Running BA Network Regression: 200 nodes\n"
     ]
    },
    {
     "name": "stderr",
     "output_type": "stream",
     "text": [
      "2020-06-17 14:45:45,184:INFO:First current path [209, 88, 78, 204, 281] formed at time = 0.76 s.\n"
     ]
    },
    {
     "name": "stdout",
     "output_type": "stream",
     "text": [
      "Running BA Network Regression: 50 nodes\n",
      "Running BA Network Regression: 100 nodes\n",
      "Running BA Network Regression: 288 nodes\n",
      "Running BA Network Regression: 150 nodes\n"
     ]
    },
    {
     "name": "stderr",
     "output_type": "stream",
     "text": [
      "2020-06-17 14:45:45,467:INFO:First current path [27, 134, 56, 168, 243] formed at time = 0.76 s.\n"
     ]
    },
    {
     "name": "stdout",
     "output_type": "stream",
     "text": [
      "Running BA Network Regression: 50 nodes\n",
      "Running BA Network Regression: 100 nodes\n",
      "Running BA Network Regression: 250 nodes\n",
      "Running BA Network Regression: 150 nodes\n",
      "Running BA Network Regression: 200 nodes\n"
     ]
    },
    {
     "name": "stderr",
     "output_type": "stream",
     "text": [
      "2020-06-17 14:45:45,909:INFO:First current path [0, 38, 87, 81] formed at time = 0.75 s.\n"
     ]
    },
    {
     "name": "stdout",
     "output_type": "stream",
     "text": [
      "Running BA Network Regression: 50 nodes\n",
      "Running BA Network Regression: 100 nodes\n",
      "Running BA Network Regression: 200 nodes\n",
      "Running BA Network Regression: 150 nodes\n"
     ]
    },
    {
     "name": "stderr",
     "output_type": "stream",
     "text": [
      "2020-06-17 14:45:46,178:INFO:First current path [2, 205, 156, 265, 109] formed at time = 0.75 s.\n"
     ]
    },
    {
     "name": "stdout",
     "output_type": "stream",
     "text": [
      "Running BA Network Regression: 50 nodes\n",
      "Running BA Network Regression: 100 nodes\n"
     ]
    },
    {
     "data": {
      "application/vnd.jupyter.widget-view+json": {
       "model_id": "f6f46df36716403c9c5627e7d8335275",
       "version_major": 2,
       "version_minor": 0
      },
      "text/plain": [
       "HBox(children=(IntProgress(value=0, description='Running Simulation ', max=500, style=ProgressStyle(descriptio…"
      ]
     },
     "metadata": {},
     "output_type": "display_data"
    },
    {
     "name": "stdout",
     "output_type": "stream",
     "text": [
      "Running BA Network Regression: 250 nodes\n"
     ]
    },
    {
     "name": "stderr",
     "output_type": "stream",
     "text": [
      "2020-06-17 14:45:46,377:INFO:First current path [3, 188, 41, 35, 205] formed at time = 0.76 s.\n"
     ]
    },
    {
     "name": "stdout",
     "output_type": "stream",
     "text": [
      "Running BA Network Regression: 50 nodes\n",
      "Running BA Network Regression: 150 nodes\n",
      "Running BA Network Regression: 100 nodes\n",
      "Running BA Network Regression: 200 nodes\n",
      "Running BA Network Regression: 296 nodes\n",
      "Running BA Network Regression: 250 nodes\n",
      "Running BA Network Regression: 150 nodes\n"
     ]
    },
    {
     "data": {
      "application/vnd.jupyter.widget-view+json": {
       "model_id": "370f49f39c9247b5910ba1e412d1ed2b",
       "version_major": 2,
       "version_minor": 0
      },
      "text/plain": [
       "HBox(children=(IntProgress(value=0, description='Running Simulation ', max=500, style=ProgressStyle(descriptio…"
      ]
     },
     "metadata": {},
     "output_type": "display_data"
    },
    {
     "name": "stdout",
     "output_type": "stream",
     "text": [
      "Running BA Network Regression: 200 nodes\n",
      "Running BA Network Regression: 200 nodes\n",
      "Running BA Network Regression: 250 nodes\n",
      "Running BA Network Regression: 291 nodes\n",
      "Running BA Network Regression: 250 nodes\n",
      "Running BA Network Regression: 284 nodes\n"
     ]
    },
    {
     "name": "stderr",
     "output_type": "stream",
     "text": [
      "2020-06-17 14:45:47,421:INFO:First current path [45, 145, 15, 29, 133] formed at time = 0.77 s.\n"
     ]
    },
    {
     "name": "stdout",
     "output_type": "stream",
     "text": [
      "Running BA Network Regression: 50 nodes\n",
      "Running BA Network Regression: 250 nodes\n",
      "Running BA Network Regression: 100 nodes\n",
      "Running BA Network Regression: 150 nodes\n",
      "Running BA Network Regression: 294 nodes\n",
      "Running BA Network Regression: 200 nodes\n"
     ]
    },
    {
     "data": {
      "application/vnd.jupyter.widget-view+json": {
       "model_id": "a8be91ec5c414deab9f9a8a821cdfe7e",
       "version_major": 2,
       "version_minor": 0
      },
      "text/plain": [
       "HBox(children=(IntProgress(value=0, description='Running Simulation ', max=500, style=ProgressStyle(descriptio…"
      ]
     },
     "metadata": {},
     "output_type": "display_data"
    },
    {
     "name": "stdout",
     "output_type": "stream",
     "text": [
      "Running BA Network Regression: 284 nodes\n",
      "Running BA Network Regression: 290 nodes\n",
      "Unfortunately, only 0 current paths found in simulation time.\n"
     ]
    },
    {
     "name": "stderr",
     "output_type": "stream",
     "text": [
      "2020-06-17 14:45:48,564:INFO:Unfortunately, no current path is formed in simulation time.\n"
     ]
    },
    {
     "name": "stdout",
     "output_type": "stream",
     "text": [
      "Running BA Network Regression: 50 nodes\n",
      "Running BA Network Regression: 250 nodes\n",
      "Running BA Network Regression: 100 nodes\n"
     ]
    },
    {
     "data": {
      "application/vnd.jupyter.widget-view+json": {
       "model_id": "dc1fbdcf12a04ca0907b78a2ed4e8c5a",
       "version_major": 2,
       "version_minor": 0
      },
      "text/plain": [
       "HBox(children=(IntProgress(value=0, description='Running Simulation ', max=500, style=ProgressStyle(descriptio…"
      ]
     },
     "metadata": {},
     "output_type": "display_data"
    },
    {
     "name": "stdout",
     "output_type": "stream",
     "text": [
      "Running BA Network Regression: 150 nodes\n"
     ]
    },
    {
     "data": {
      "application/vnd.jupyter.widget-view+json": {
       "model_id": "d40f445abad74323b560bb367a475828",
       "version_major": 2,
       "version_minor": 0
      },
      "text/plain": [
       "HBox(children=(IntProgress(value=0, description='Running Simulation ', max=500, style=ProgressStyle(descriptio…"
      ]
     },
     "metadata": {},
     "output_type": "display_data"
    },
    {
     "data": {
      "application/vnd.jupyter.widget-view+json": {
       "model_id": "7e86c0d7c695485a87ec5cc028c2ec2e",
       "version_major": 2,
       "version_minor": 0
      },
      "text/plain": [
       "HBox(children=(IntProgress(value=0, description='Running Simulation ', max=500, style=ProgressStyle(descriptio…"
      ]
     },
     "metadata": {},
     "output_type": "display_data"
    },
    {
     "name": "stdout",
     "output_type": "stream",
     "text": [
      "Running BA Network Regression: 200 nodes\n"
     ]
    },
    {
     "name": "stderr",
     "output_type": "stream",
     "text": [
      "2020-06-17 14:45:49,173:INFO:First current path [2, 94, 44, 95, 207] formed at time = 0.78 s.\n"
     ]
    },
    {
     "name": "stdout",
     "output_type": "stream",
     "text": [
      "Running BA Network Regression: 50 nodes\n",
      "Running BA Network Regression: 100 nodes\n",
      "Running BA Network Regression: 282 nodes\n",
      "Running BA Network Regression: 150 nodes\n"
     ]
    },
    {
     "data": {
      "application/vnd.jupyter.widget-view+json": {
       "model_id": "18837e61d4884bc08bac29dd0138a6ea",
       "version_major": 2,
       "version_minor": 0
      },
      "text/plain": [
       "HBox(children=(IntProgress(value=0, description='Running Simulation ', max=500, style=ProgressStyle(descriptio…"
      ]
     },
     "metadata": {},
     "output_type": "display_data"
    },
    {
     "name": "stdout",
     "output_type": "stream",
     "text": [
      "Running BA Network Regression: 250 nodes\n"
     ]
    },
    {
     "name": "stderr",
     "output_type": "stream",
     "text": [
      "2020-06-17 14:45:49,705:INFO:First current path [43, 42, 157, 104, 273, 197] formed at time = 0.76 s.\n"
     ]
    },
    {
     "name": "stdout",
     "output_type": "stream",
     "text": [
      "Running BA Network Regression: 50 nodes\n",
      "Running BA Network Regression: 200 nodes\n",
      "Running BA Network Regression: 100 nodes\n",
      "Running BA Network Regression: 150 nodes\n"
     ]
    },
    {
     "name": "stderr",
     "output_type": "stream",
     "text": [
      "2020-06-17 14:45:50,249:INFO:First current path [139, 122, 73, 279, 237] formed at time = 0.76 s.\n"
     ]
    },
    {
     "name": "stdout",
     "output_type": "stream",
     "text": [
      "Running BA Network Regression: 50 nodes\n",
      "Running BA Network Regression: 200 nodes\n",
      "Running BA Network Regression: 250 nodes\n",
      "Running BA Network Regression: 100 nodes\n",
      "Running BA Network Regression: 283 nodes\n"
     ]
    },
    {
     "name": "stderr",
     "output_type": "stream",
     "text": [
      "2020-06-17 14:45:50,473:INFO:First current path [0, 116, 182, 68] formed at time = 0.75 s.\n"
     ]
    },
    {
     "name": "stdout",
     "output_type": "stream",
     "text": [
      "Running BA Network Regression: 50 nodes\n",
      "Running BA Network Regression: 150 nodes\n",
      "Running BA Network Regression: 100 nodes\n"
     ]
    },
    {
     "data": {
      "application/vnd.jupyter.widget-view+json": {
       "model_id": "27d2f741aada422889668cd15892b80d",
       "version_major": 2,
       "version_minor": 0
      },
      "text/plain": [
       "HBox(children=(IntProgress(value=0, description='Running Simulation ', max=500, style=ProgressStyle(descriptio…"
      ]
     },
     "metadata": {},
     "output_type": "display_data"
    },
    {
     "name": "stdout",
     "output_type": "stream",
     "text": [
      "Running BA Network Regression: 150 nodes\n"
     ]
    },
    {
     "name": "stderr",
     "output_type": "stream",
     "text": [
      "2020-06-17 14:45:50,765:INFO:First current path [62, 10, 24, 129, 160] formed at time = 0.76 s.\n"
     ]
    },
    {
     "name": "stdout",
     "output_type": "stream",
     "text": [
      "Running BA Network Regression: 50 nodes\n",
      "Running BA Network Regression: 250 nodes\n",
      "Running BA Network Regression: 100 nodes\n",
      "Running BA Network Regression: 200 nodes\n",
      "Running BA Network Regression: 150 nodes\n",
      "Running BA Network Regression: 200 nodes\n",
      "Running BA Network Regression: 278 nodes\n"
     ]
    },
    {
     "data": {
      "application/vnd.jupyter.widget-view+json": {
       "model_id": "3ce55320e5154053b0ecc628906e4e37",
       "version_major": 2,
       "version_minor": 0
      },
      "text/plain": [
       "HBox(children=(IntProgress(value=0, description='Running Simulation ', max=500, style=ProgressStyle(descriptio…"
      ]
     },
     "metadata": {},
     "output_type": "display_data"
    },
    {
     "name": "stdout",
     "output_type": "stream",
     "text": [
      "Running BA Network Regression: 200 nodes\n",
      "Running BA Network Regression: 250 nodes\n",
      "Running BA Network Regression: 278 nodes\n",
      "Running BA Network Regression: 250 nodes\n",
      "Running BA Network Regression: 250 nodes\n"
     ]
    },
    {
     "name": "stderr",
     "output_type": "stream",
     "text": [
      "2020-06-17 14:45:52,000:INFO:First current path [0, 9, 267, 65] formed at time = 0.76 s.\n"
     ]
    },
    {
     "name": "stdout",
     "output_type": "stream",
     "text": [
      "Running BA Network Regression: 50 nodes\n",
      "Running BA Network Regression: 100 nodes\n",
      "Running BA Network Regression: 290 nodes\n",
      "Running BA Network Regression: 150 nodes\n"
     ]
    },
    {
     "data": {
      "application/vnd.jupyter.widget-view+json": {
       "model_id": "b097b3cbb66b4aa19e0b9acd6eca3efc",
       "version_major": 2,
       "version_minor": 0
      },
      "text/plain": [
       "HBox(children=(IntProgress(value=0, description='Running Simulation ', max=500, style=ProgressStyle(descriptio…"
      ]
     },
     "metadata": {},
     "output_type": "display_data"
    },
    {
     "data": {
      "application/vnd.jupyter.widget-view+json": {
       "model_id": "86317951a4ec4d8cb79e65829a831a88",
       "version_major": 2,
       "version_minor": 0
      },
      "text/plain": [
       "HBox(children=(IntProgress(value=0, description='Running Simulation ', max=500, style=ProgressStyle(descriptio…"
      ]
     },
     "metadata": {},
     "output_type": "display_data"
    },
    {
     "name": "stdout",
     "output_type": "stream",
     "text": [
      "Running BA Network Regression: 289 nodes\n"
     ]
    },
    {
     "name": "stderr",
     "output_type": "stream",
     "text": [
      "2020-06-17 14:45:52,517:INFO:First current path [34, 195, 5, 211, 284] formed at time = 0.76 s.\n"
     ]
    },
    {
     "name": "stdout",
     "output_type": "stream",
     "text": [
      "Running BA Network Regression: 50 nodes\n",
      "Running BA Network Regression: 200 nodes\n",
      "Running BA Network Regression: 100 nodes\n",
      "Running BA Network Regression: 286 nodes\n",
      "Running BA Network Regression: 150 nodes\n"
     ]
    },
    {
     "data": {
      "application/vnd.jupyter.widget-view+json": {
       "model_id": "ab1b00cf4fce4d9f9e43b0a0f81c0d5e",
       "version_major": 2,
       "version_minor": 0
      },
      "text/plain": [
       "HBox(children=(IntProgress(value=0, description='Running Simulation ', max=500, style=ProgressStyle(descriptio…"
      ]
     },
     "metadata": {},
     "output_type": "display_data"
    },
    {
     "data": {
      "application/vnd.jupyter.widget-view+json": {
       "model_id": "543844ffe78049368b0db349647b2c0b",
       "version_major": 2,
       "version_minor": 0
      },
      "text/plain": [
       "HBox(children=(IntProgress(value=0, description='Running Simulation ', max=500, style=ProgressStyle(descriptio…"
      ]
     },
     "metadata": {},
     "output_type": "display_data"
    },
    {
     "name": "stdout",
     "output_type": "stream",
     "text": [
      "Running BA Network Regression: 250 nodes\n",
      "Running BA Network Regression: 200 nodes\n"
     ]
    },
    {
     "name": "stderr",
     "output_type": "stream",
     "text": [
      "2020-06-17 14:45:53,479:INFO:First current path [0, 47, 2, 217, 228] formed at time = 0.76 s.\n"
     ]
    },
    {
     "name": "stdout",
     "output_type": "stream",
     "text": [
      "Running BA Network Regression: 50 nodes\n"
     ]
    },
    {
     "data": {
      "application/vnd.jupyter.widget-view+json": {
       "model_id": "48b2eb07f29d42f3ae4f01ecf5a1a8a6",
       "version_major": 2,
       "version_minor": 0
      },
      "text/plain": [
       "HBox(children=(IntProgress(value=0, description='Running Simulation ', max=500, style=ProgressStyle(descriptio…"
      ]
     },
     "metadata": {},
     "output_type": "display_data"
    },
    {
     "name": "stdout",
     "output_type": "stream",
     "text": [
      "Running BA Network Regression: 100 nodes\n"
     ]
    },
    {
     "name": "stderr",
     "output_type": "stream",
     "text": [
      "2020-06-17 14:45:53,617:INFO:First current path [233, 243, 145, 247, 275] formed at time = 0.77 s.\n"
     ]
    },
    {
     "name": "stdout",
     "output_type": "stream",
     "text": [
      "Running BA Network Regression: 50 nodes\n",
      "Running BA Network Regression: 250 nodes\n",
      "Running BA Network Regression: 100 nodes\n",
      "Running BA Network Regression: 150 nodes\n",
      "Running BA Network Regression: 288 nodes\n",
      "Running BA Network Regression: 150 nodes\n"
     ]
    },
    {
     "name": "stderr",
     "output_type": "stream",
     "text": [
      "2020-06-17 14:45:54,014:INFO:First current path [67, 69, 171, 187, 257] formed at time = 0.77 s.\n"
     ]
    },
    {
     "name": "stdout",
     "output_type": "stream",
     "text": [
      "Running BA Network Regression: 50 nodes\n",
      "Running BA Network Regression: 200 nodes\n",
      "Running BA Network Regression: 100 nodes\n",
      "Running BA Network Regression: 200 nodes\n",
      "Running BA Network Regression: 150 nodes\n"
     ]
    },
    {
     "name": "stderr",
     "output_type": "stream",
     "text": [
      "2020-06-17 14:45:54,382:INFO:First current path [0, 39, 187, 209] formed at time = 0.75 s.\n"
     ]
    },
    {
     "name": "stdout",
     "output_type": "stream",
     "text": [
      "Running BA Network Regression: 50 nodes\n",
      "Running BA Network Regression: 285 nodes\n",
      "Running BA Network Regression: 100 nodes\n",
      "Running BA Network Regression: 250 nodes\n",
      "Running BA Network Regression: 200 nodes\n",
      "Running BA Network Regression: 150 nodes\n"
     ]
    },
    {
     "data": {
      "application/vnd.jupyter.widget-view+json": {
       "model_id": "b7def91057174979ba6e8d4bb02dc9fc",
       "version_major": 2,
       "version_minor": 0
      },
      "text/plain": [
       "HBox(children=(IntProgress(value=0, description='Running Simulation ', max=500, style=ProgressStyle(descriptio…"
      ]
     },
     "metadata": {},
     "output_type": "display_data"
    },
    {
     "name": "stderr",
     "output_type": "stream",
     "text": [
      "2020-06-17 14:45:54,750:INFO:First current path [116, 113, 17, 75, 231] formed at time = 0.76 s.\n"
     ]
    },
    {
     "name": "stdout",
     "output_type": "stream",
     "text": [
      "Running BA Network Regression: 50 nodes\n",
      "Running BA Network Regression: 250 nodes\n",
      "Running BA Network Regression: 100 nodes\n",
      "Running BA Network Regression: 200 nodes\n",
      "Running BA Network Regression: 150 nodes\n"
     ]
    },
    {
     "data": {
      "application/vnd.jupyter.widget-view+json": {
       "model_id": "97f436aa220845afa52cf172672a88f7",
       "version_major": 2,
       "version_minor": 0
      },
      "text/plain": [
       "HBox(children=(IntProgress(value=0, description='Running Simulation ', max=500, style=ProgressStyle(descriptio…"
      ]
     },
     "metadata": {},
     "output_type": "display_data"
    },
    {
     "name": "stdout",
     "output_type": "stream",
     "text": [
      "Running BA Network Regression: 250 nodes\n",
      "Running BA Network Regression: 278 nodes\n",
      "Running BA Network Regression: 200 nodes\n",
      "Running BA Network Regression: 250 nodes\n",
      "Running BA Network Regression: 278 nodes\n",
      "Running BA Network Regression: 250 nodes\n"
     ]
    },
    {
     "name": "stderr",
     "output_type": "stream",
     "text": [
      "2020-06-17 14:45:55,974:INFO:First current path [2, 66, 46, 101, 259] formed at time = 0.76 s.\n"
     ]
    },
    {
     "name": "stdout",
     "output_type": "stream",
     "text": [
      "Running BA Network Regression: 50 nodes\n",
      "Running BA Network Regression: 283 nodes\n",
      "Running BA Network Regression: 100 nodes\n"
     ]
    },
    {
     "data": {
      "application/vnd.jupyter.widget-view+json": {
       "model_id": "f22bc55011874e4582a93620a541b62f",
       "version_major": 2,
       "version_minor": 0
      },
      "text/plain": [
       "HBox(children=(IntProgress(value=0, description='Running Simulation ', max=500, style=ProgressStyle(descriptio…"
      ]
     },
     "metadata": {},
     "output_type": "display_data"
    },
    {
     "name": "stdout",
     "output_type": "stream",
     "text": [
      "Running BA Network Regression: 150 nodes\n",
      "Running BA Network Regression: 289 nodes\n"
     ]
    },
    {
     "name": "stderr",
     "output_type": "stream",
     "text": [
      "2020-06-17 14:45:56,358:INFO:First current path [45, 31, 6, 215, 208] formed at time = 0.78 s.\n"
     ]
    },
    {
     "name": "stdout",
     "output_type": "stream",
     "text": [
      "Running BA Network Regression: 50 nodes\n",
      "Running BA Network Regression: 100 nodes\n"
     ]
    },
    {
     "data": {
      "application/vnd.jupyter.widget-view+json": {
       "model_id": "b834bb258f3448549a316c322d491ce5",
       "version_major": 2,
       "version_minor": 0
      },
      "text/plain": [
       "HBox(children=(IntProgress(value=0, description='Running Simulation ', max=500, style=ProgressStyle(descriptio…"
      ]
     },
     "metadata": {},
     "output_type": "display_data"
    },
    {
     "name": "stdout",
     "output_type": "stream",
     "text": [
      "Running BA Network Regression: 200 nodes\n",
      "Running BA Network Regression: 150 nodes\n",
      "Running BA Network Regression: 280 nodes\n",
      "Running BA Network Regression: 200 nodes\n",
      "Running BA Network Regression: 250 nodes\n"
     ]
    },
    {
     "data": {
      "application/vnd.jupyter.widget-view+json": {
       "model_id": "871d77652e66402e88de4e54ded84d38",
       "version_major": 2,
       "version_minor": 0
      },
      "text/plain": [
       "HBox(children=(IntProgress(value=0, description='Running Simulation ', max=500, style=ProgressStyle(descriptio…"
      ]
     },
     "metadata": {},
     "output_type": "display_data"
    },
    {
     "name": "stderr",
     "output_type": "stream",
     "text": [
      "2020-06-17 14:45:57,357:INFO:First current path [235, 127, 58, 146, 106, 221] formed at time = 0.77 s.\n"
     ]
    },
    {
     "name": "stdout",
     "output_type": "stream",
     "text": [
      "Running BA Network Regression: 50 nodes\n",
      "Running BA Network Regression: 100 nodes\n",
      "Running BA Network Regression: 250 nodes\n",
      "Running BA Network Regression: 150 nodes\n"
     ]
    },
    {
     "name": "stderr",
     "output_type": "stream",
     "text": [
      "2020-06-17 14:45:57,650:INFO:First current path [60, 36, 69, 70, 59, 52, 139] formed at time = 0.77 s.\n"
     ]
    },
    {
     "name": "stdout",
     "output_type": "stream",
     "text": [
      "Running BA Network Regression: 50 nodes\n",
      "Running BA Network Regression: 100 nodes\n",
      "Running BA Network Regression: 150 nodes\n",
      "Running BA Network Regression: 286 nodes\n",
      "Running BA Network Regression: 200 nodes\n",
      "Running BA Network Regression: 200 nodes\n"
     ]
    },
    {
     "data": {
      "application/vnd.jupyter.widget-view+json": {
       "model_id": "3e4dd3eaef2149b0b67b08f3dea15b7a",
       "version_major": 2,
       "version_minor": 0
      },
      "text/plain": [
       "HBox(children=(IntProgress(value=0, description='Running Simulation ', max=500, style=ProgressStyle(descriptio…"
      ]
     },
     "metadata": {},
     "output_type": "display_data"
    },
    {
     "name": "stdout",
     "output_type": "stream",
     "text": [
      "Running BA Network Regression: 282 nodes\n",
      "Running BA Network Regression: 250 nodes\n"
     ]
    },
    {
     "name": "stderr",
     "output_type": "stream",
     "text": [
      "2020-06-17 14:45:58,562:INFO:First current path [0, 31, 184, 227] formed at time = 0.75 s.\n"
     ]
    },
    {
     "name": "stdout",
     "output_type": "stream",
     "text": [
      "Running BA Network Regression: 50 nodes\n",
      "Running BA Network Regression: 100 nodes\n",
      "Running BA Network Regression: 250 nodes\n"
     ]
    },
    {
     "data": {
      "application/vnd.jupyter.widget-view+json": {
       "model_id": "d228373aaab84902ad813a6df1c300b7",
       "version_major": 2,
       "version_minor": 0
      },
      "text/plain": [
       "HBox(children=(IntProgress(value=0, description='Running Simulation ', max=500, style=ProgressStyle(descriptio…"
      ]
     },
     "metadata": {},
     "output_type": "display_data"
    },
    {
     "name": "stdout",
     "output_type": "stream",
     "text": [
      "Running BA Network Regression: 150 nodes\n",
      "Running BA Network Regression: 200 nodes\n"
     ]
    },
    {
     "data": {
      "application/vnd.jupyter.widget-view+json": {
       "model_id": "c74998f7653b4b528c6544883d14a9c1",
       "version_major": 2,
       "version_minor": 0
      },
      "text/plain": [
       "HBox(children=(IntProgress(value=0, description='Running Simulation ', max=500, style=ProgressStyle(descriptio…"
      ]
     },
     "metadata": {},
     "output_type": "display_data"
    },
    {
     "name": "stdout",
     "output_type": "stream",
     "text": [
      "Running BA Network Regression: 279 nodes\n"
     ]
    },
    {
     "name": "stderr",
     "output_type": "stream",
     "text": [
      "2020-06-17 14:45:59,365:INFO:First current path [47, 30, 10, 8, 232, 92, 263] formed at time = 0.8 s.\n"
     ]
    },
    {
     "name": "stdout",
     "output_type": "stream",
     "text": [
      "Running BA Network Regression: 50 nodes\n",
      "Running BA Network Regression: 285 nodes\n",
      "Running BA Network Regression: 100 nodes\n",
      "Running BA Network Regression: 150 nodes\n",
      "Running BA Network Regression: 250 nodes\n"
     ]
    },
    {
     "name": "stderr",
     "output_type": "stream",
     "text": [
      "2020-06-17 14:45:59,759:INFO:First current path [52, 166, 25, 114, 68, 161] formed at time = 0.76 s.\n"
     ]
    },
    {
     "name": "stdout",
     "output_type": "stream",
     "text": [
      "Running BA Network Regression: 50 nodes\n",
      "Running BA Network Regression: 100 nodes\n"
     ]
    },
    {
     "data": {
      "application/vnd.jupyter.widget-view+json": {
       "model_id": "8ee899980a1e4d38817e2e827f5a1315",
       "version_major": 2,
       "version_minor": 0
      },
      "text/plain": [
       "HBox(children=(IntProgress(value=0, description='Running Simulation ', max=500, style=ProgressStyle(descriptio…"
      ]
     },
     "metadata": {},
     "output_type": "display_data"
    },
    {
     "name": "stdout",
     "output_type": "stream",
     "text": [
      "Running BA Network Regression: 200 nodes\n",
      "Running BA Network Regression: 150 nodes\n",
      "Running BA Network Regression: 200 nodes\n"
     ]
    },
    {
     "name": "stderr",
     "output_type": "stream",
     "text": [
      "2020-06-17 14:46:00,339:INFO:First current path [70, 69, 42, 41, 134, 278] formed at time = 0.76 s.\n"
     ]
    },
    {
     "name": "stdout",
     "output_type": "stream",
     "text": [
      "Running BA Network Regression: 50 nodes\n",
      "Running BA Network Regression: 250 nodes\n",
      "Running BA Network Regression: 100 nodes\n",
      "Running BA Network Regression: 285 nodes\n",
      "Running BA Network Regression: 150 nodes\n"
     ]
    },
    {
     "data": {
      "application/vnd.jupyter.widget-view+json": {
       "model_id": "d1e172d3b6134243828889af34033337",
       "version_major": 2,
       "version_minor": 0
      },
      "text/plain": [
       "HBox(children=(IntProgress(value=0, description='Running Simulation ', max=500, style=ProgressStyle(descriptio…"
      ]
     },
     "metadata": {},
     "output_type": "display_data"
    },
    {
     "data": {
      "application/vnd.jupyter.widget-view+json": {
       "model_id": "d2cc088e1bc64fa8b4c9f58ac688c5c0",
       "version_major": 2,
       "version_minor": 0
      },
      "text/plain": [
       "HBox(children=(IntProgress(value=0, description='Running Simulation ', max=500, style=ProgressStyle(descriptio…"
      ]
     },
     "metadata": {},
     "output_type": "display_data"
    },
    {
     "name": "stdout",
     "output_type": "stream",
     "text": [
      "Running BA Network Regression: 250 nodes\n",
      "Running BA Network Regression: 200 nodes\n"
     ]
    },
    {
     "name": "stderr",
     "output_type": "stream",
     "text": [
      "2020-06-17 14:46:01,001:INFO:First current path [53, 16, 205, 98, 148, 203] formed at time = 0.76 s.\n"
     ]
    },
    {
     "name": "stdout",
     "output_type": "stream",
     "text": [
      "Running BA Network Regression: 50 nodes\n",
      "Running BA Network Regression: 100 nodes\n",
      "Running BA Network Regression: 285 nodes\n"
     ]
    },
    {
     "data": {
      "application/vnd.jupyter.widget-view+json": {
       "model_id": "742eaa3c60664c9b9777632ba74b7dab",
       "version_major": 2,
       "version_minor": 0
      },
      "text/plain": [
       "HBox(children=(IntProgress(value=0, description='Running Simulation ', max=500, style=ProgressStyle(descriptio…"
      ]
     },
     "metadata": {},
     "output_type": "display_data"
    },
    {
     "name": "stdout",
     "output_type": "stream",
     "text": [
      "Running BA Network Regression: 150 nodes\n",
      "Running BA Network Regression: 250 nodes\n",
      "Running BA Network Regression: 200 nodes\n"
     ]
    },
    {
     "data": {
      "application/vnd.jupyter.widget-view+json": {
       "model_id": "5746b95a0bef4926ae438749990b0042",
       "version_major": 2,
       "version_minor": 0
      },
      "text/plain": [
       "HBox(children=(IntProgress(value=0, description='Running Simulation ', max=500, style=ProgressStyle(descriptio…"
      ]
     },
     "metadata": {},
     "output_type": "display_data"
    },
    {
     "name": "stdout",
     "output_type": "stream",
     "text": [
      "Running BA Network Regression: 280 nodes\n"
     ]
    },
    {
     "name": "stderr",
     "output_type": "stream",
     "text": [
      "2020-06-17 14:46:01,786:INFO:First current path [50, 62, 198, 87, 1, 63, 189] formed at time = 0.76 s.\n"
     ]
    },
    {
     "name": "stdout",
     "output_type": "stream",
     "text": [
      "Running BA Network Regression: 50 nodes\n",
      "Running BA Network Regression: 100 nodes\n"
     ]
    },
    {
     "name": "stderr",
     "output_type": "stream",
     "text": [
      "2020-06-17 14:46:02,013:INFO:First current path [66, 51, 168, 121, 149, 251] formed at time = 0.76 s.\n"
     ]
    },
    {
     "name": "stdout",
     "output_type": "stream",
     "text": [
      "Running BA Network Regression: 50 nodes\n",
      "Running BA Network Regression: 150 nodes\n",
      "Running BA Network Regression: 250 nodes\n",
      "Running BA Network Regression: 100 nodes\n",
      "Running BA Network Regression: 282 nodes\n"
     ]
    },
    {
     "name": "stderr",
     "output_type": "stream",
     "text": [
      "2020-06-17 14:46:02,280:INFO:First current path [54, 15, 4, 1, 98, 175, 204] formed at time = 0.76 s.\n"
     ]
    },
    {
     "name": "stdout",
     "output_type": "stream",
     "text": [
      "Running BA Network Regression: 150 nodes\n",
      "Running BA Network Regression: 50 nodes\n",
      "Running BA Network Regression: 200 nodes\n",
      "Running BA Network Regression: 100 nodes\n"
     ]
    },
    {
     "data": {
      "application/vnd.jupyter.widget-view+json": {
       "model_id": "9e63b3450a5e461daeb53bc08bb38697",
       "version_major": 2,
       "version_minor": 0
      },
      "text/plain": [
       "HBox(children=(IntProgress(value=0, description='Running Simulation ', max=500, style=ProgressStyle(descriptio…"
      ]
     },
     "metadata": {},
     "output_type": "display_data"
    },
    {
     "name": "stdout",
     "output_type": "stream",
     "text": [
      "Running BA Network Regression: 150 nodes\n",
      "Running BA Network Regression: 200 nodes\n"
     ]
    },
    {
     "name": "stderr",
     "output_type": "stream",
     "text": [
      "2020-06-17 14:46:02,649:INFO:First current path [181, 84, 22, 13, 102, 139, 71, 180] formed at time = 0.79 s.\n"
     ]
    },
    {
     "name": "stdout",
     "output_type": "stream",
     "text": [
      "Running BA Network Regression: 50 nodes\n",
      "Running BA Network Regression: 100 nodes\n",
      "Running BA Network Regression: 280 nodes\n",
      "Running BA Network Regression: 250 nodes\n"
     ]
    },
    {
     "data": {
      "application/vnd.jupyter.widget-view+json": {
       "model_id": "898fce524a394101ad84fdd014dd28cb",
       "version_major": 2,
       "version_minor": 0
      },
      "text/plain": [
       "HBox(children=(IntProgress(value=0, description='Running Simulation ', max=500, style=ProgressStyle(descriptio…"
      ]
     },
     "metadata": {},
     "output_type": "display_data"
    },
    {
     "name": "stdout",
     "output_type": "stream",
     "text": [
      "Running BA Network Regression: 200 nodes\n",
      "Running BA Network Regression: 150 nodes\n",
      "Running BA Network Regression: 250 nodes\n",
      "Running BA Network Regression: 200 nodes\n",
      "Running BA Network Regression: 250 nodes\n",
      "Running BA Network Regression: 280 nodes\n",
      "Running BA Network Regression: 250 nodes\n"
     ]
    },
    {
     "name": "stderr",
     "output_type": "stream",
     "text": [
      "2020-06-17 14:46:03,795:INFO:First current path [255, 248, 33, 183, 279, 218] formed at time = 0.76 s.\n"
     ]
    },
    {
     "name": "stdout",
     "output_type": "stream",
     "text": [
      "Running BA Network Regression: 50 nodes\n"
     ]
    },
    {
     "data": {
      "application/vnd.jupyter.widget-view+json": {
       "model_id": "a4db8873abc74439beea4a3b4ea4536c",
       "version_major": 2,
       "version_minor": 0
      },
      "text/plain": [
       "HBox(children=(IntProgress(value=0, description='Running Simulation ', max=500, style=ProgressStyle(descriptio…"
      ]
     },
     "metadata": {},
     "output_type": "display_data"
    },
    {
     "name": "stdout",
     "output_type": "stream",
     "text": [
      "Running BA Network Regression: 283 nodes\n",
      "Running BA Network Regression: 100 nodes\n"
     ]
    },
    {
     "name": "stderr",
     "output_type": "stream",
     "text": [
      "2020-06-17 14:46:03,942:INFO:First current path [79, 48, 8, 4, 18, 118, 238] formed at time = 0.76 s.\n"
     ]
    },
    {
     "name": "stdout",
     "output_type": "stream",
     "text": [
      "Running BA Network Regression: 50 nodes\n",
      "Running BA Network Regression: 279 nodes\n",
      "Running BA Network Regression: 100 nodes\n",
      "Running BA Network Regression: 150 nodes\n",
      "Running BA Network Regression: 150 nodes\n"
     ]
    },
    {
     "data": {
      "application/vnd.jupyter.widget-view+json": {
       "model_id": "998c0246078b49dea0f426d15844ee15",
       "version_major": 2,
       "version_minor": 0
      },
      "text/plain": [
       "HBox(children=(IntProgress(value=0, description='Running Simulation ', max=500, style=ProgressStyle(descriptio…"
      ]
     },
     "metadata": {},
     "output_type": "display_data"
    },
    {
     "name": "stdout",
     "output_type": "stream",
     "text": [
      "Running BA Network Regression: 278 nodes\n",
      "Running BA Network Regression: 200 nodes\n",
      "Running BA Network Regression: 200 nodes\n"
     ]
    },
    {
     "data": {
      "application/vnd.jupyter.widget-view+json": {
       "model_id": "54cbfefba32848488fe57a9cb89feb93",
       "version_major": 2,
       "version_minor": 0
      },
      "text/plain": [
       "HBox(children=(IntProgress(value=0, description='Running Simulation ', max=500, style=ProgressStyle(descriptio…"
      ]
     },
     "metadata": {},
     "output_type": "display_data"
    },
    {
     "name": "stdout",
     "output_type": "stream",
     "text": [
      "Running BA Network Regression: 250 nodes\n",
      "Running BA Network Regression: 250 nodes\n"
     ]
    },
    {
     "data": {
      "application/vnd.jupyter.widget-view+json": {
       "model_id": "f377cd4d319e4f79851342ff2bd729d5",
       "version_major": 2,
       "version_minor": 0
      },
      "text/plain": [
       "HBox(children=(IntProgress(value=0, description='Running Simulation ', max=500, style=ProgressStyle(descriptio…"
      ]
     },
     "metadata": {},
     "output_type": "display_data"
    },
    {
     "name": "stderr",
     "output_type": "stream",
     "text": [
      "2020-06-17 14:46:05,111:INFO:First current path [262, 261, 12, 34, 66, 294] formed at time = 0.78 s.\n"
     ]
    },
    {
     "name": "stdout",
     "output_type": "stream",
     "text": [
      "Running BA Network Regression: 50 nodes\n",
      "Running BA Network Regression: 100 nodes\n",
      "Running BA Network Regression: 150 nodes\n"
     ]
    },
    {
     "data": {
      "application/vnd.jupyter.widget-view+json": {
       "model_id": "3c1cc4e7b2104e099d46e64034905af3",
       "version_major": 2,
       "version_minor": 0
      },
      "text/plain": [
       "HBox(children=(IntProgress(value=0, description='Running Simulation ', max=500, style=ProgressStyle(descriptio…"
      ]
     },
     "metadata": {},
     "output_type": "display_data"
    },
    {
     "name": "stderr",
     "output_type": "stream",
     "text": [
      "2020-06-17 14:46:05,532:INFO:First current path [64, 93, 42, 50, 138, 193] formed at time = 0.76 s.\n"
     ]
    },
    {
     "name": "stdout",
     "output_type": "stream",
     "text": [
      "Running BA Network Regression: 50 nodes\n",
      "Running BA Network Regression: 100 nodes\n",
      "Running BA Network Regression: 280 nodes\n",
      "Running BA Network Regression: 293 nodes\n",
      "Running BA Network Regression: 200 nodes\n",
      "Running BA Network Regression: 150 nodes\n"
     ]
    },
    {
     "name": "stderr",
     "output_type": "stream",
     "text": [
      "2020-06-17 14:46:05,816:INFO:First current path [186, 154, 276, 122, 63, 176] formed at time = 0.82 s.\n"
     ]
    },
    {
     "name": "stdout",
     "output_type": "stream",
     "text": [
      "Running BA Network Regression: 50 nodes\n",
      "Running BA Network Regression: 100 nodes\n",
      "Running BA Network Regression: 150 nodes\n",
      "Running BA Network Regression: 200 nodes\n"
     ]
    },
    {
     "name": "stderr",
     "output_type": "stream",
     "text": [
      "2020-06-17 14:46:06,144:INFO:First current path [261, 81, 24, 53, 130, 282] formed at time = 0.76 s.\n"
     ]
    },
    {
     "name": "stdout",
     "output_type": "stream",
     "text": [
      "Running BA Network Regression: 50 nodes\n",
      "Running BA Network Regression: 250 nodes\n",
      "Running BA Network Regression: 100 nodes\n",
      "Running BA Network Regression: 150 nodes\n",
      "Running BA Network Regression: 200 nodes\n",
      "Running BA Network Regression: 250 nodes\n"
     ]
    },
    {
     "data": {
      "application/vnd.jupyter.widget-view+json": {
       "model_id": "66ebc97de00844ddb7f05796a8290976",
       "version_major": 2,
       "version_minor": 0
      },
      "text/plain": [
       "HBox(children=(IntProgress(value=0, description='Running Simulation ', max=500, style=ProgressStyle(descriptio…"
      ]
     },
     "metadata": {},
     "output_type": "display_data"
    },
    {
     "name": "stderr",
     "output_type": "stream",
     "text": [
      "2020-06-17 14:46:06,705:INFO:First current path [265, 159, 6, 45, 183, 206] formed at time = 0.77 s.\n"
     ]
    },
    {
     "name": "stdout",
     "output_type": "stream",
     "text": [
      "Running BA Network Regression: 50 nodes\n",
      "Running BA Network Regression: 200 nodes\n",
      "Running BA Network Regression: 100 nodes\n",
      "Running BA Network Regression: 297 nodes\n",
      "Running BA Network Regression: 250 nodes\n",
      "Running BA Network Regression: 150 nodes\n"
     ]
    },
    {
     "data": {
      "application/vnd.jupyter.widget-view+json": {
       "model_id": "ca1163f11259461e9dc21df6e59357a8",
       "version_major": 2,
       "version_minor": 0
      },
      "text/plain": [
       "HBox(children=(IntProgress(value=0, description='Running Simulation ', max=500, style=ProgressStyle(descriptio…"
      ]
     },
     "metadata": {},
     "output_type": "display_data"
    },
    {
     "name": "stdout",
     "output_type": "stream",
     "text": [
      "Running BA Network Regression: 250 nodes\n"
     ]
    },
    {
     "data": {
      "application/vnd.jupyter.widget-view+json": {
       "model_id": "71aa9912faf04e0e920a32e7222273c3",
       "version_major": 2,
       "version_minor": 0
      },
      "text/plain": [
       "HBox(children=(IntProgress(value=0, description='Running Simulation ', max=500, style=ProgressStyle(descriptio…"
      ]
     },
     "metadata": {},
     "output_type": "display_data"
    },
    {
     "name": "stdout",
     "output_type": "stream",
     "text": [
      "Running BA Network Regression: 200 nodes\n",
      "Running BA Network Regression: 289 nodes\n",
      "Running BA Network Regression: 280 nodes\n",
      "Running BA Network Regression: 250 nodes\n"
     ]
    },
    {
     "name": "stderr",
     "output_type": "stream",
     "text": [
      "2020-06-17 14:46:07,811:INFO:First current path [235, 107, 9, 7, 221, 266] formed at time = 0.78 s.\n"
     ]
    },
    {
     "name": "stdout",
     "output_type": "stream",
     "text": [
      "Running BA Network Regression: 50 nodes\n",
      "Running BA Network Regression: 100 nodes\n"
     ]
    },
    {
     "data": {
      "application/vnd.jupyter.widget-view+json": {
       "model_id": "1b68115c084245f4bfda13099ba8b078",
       "version_major": 2,
       "version_minor": 0
      },
      "text/plain": [
       "HBox(children=(IntProgress(value=0, description='Running Simulation ', max=500, style=ProgressStyle(descriptio…"
      ]
     },
     "metadata": {},
     "output_type": "display_data"
    },
    {
     "name": "stdout",
     "output_type": "stream",
     "text": [
      "Running BA Network Regression: 294 nodes\n",
      "Running BA Network Regression: 150 nodes\n"
     ]
    },
    {
     "name": "stderr",
     "output_type": "stream",
     "text": [
      "2020-06-17 14:46:08,365:INFO:First current path [159, 14, 12, 193, 197, 257] formed at time = 0.78 s.\n"
     ]
    },
    {
     "name": "stdout",
     "output_type": "stream",
     "text": [
      "Running BA Network Regression: 50 nodes\n",
      "Running BA Network Regression: 200 nodes\n"
     ]
    },
    {
     "name": "stderr",
     "output_type": "stream",
     "text": [
      "2020-06-17 14:46:08,425:INFO:First current path [263, 161, 41, 163, 116, 195] formed at time = 0.77 s.\n"
     ]
    },
    {
     "name": "stdout",
     "output_type": "stream",
     "text": [
      "Running BA Network Regression: 50 nodes\n",
      "Running BA Network Regression: 100 nodes\n",
      "Running BA Network Regression: 100 nodes\n",
      "Running BA Network Regression: 289 nodes\n",
      "Running BA Network Regression: 150 nodes\n",
      "Running BA Network Regression: 150 nodes\n",
      "Running BA Network Regression: 250 nodes\n",
      "Running BA Network Regression: 200 nodes\n",
      "Running BA Network Regression: 200 nodes\n"
     ]
    },
    {
     "name": "stderr",
     "output_type": "stream",
     "text": [
      "2020-06-17 14:46:09,176:INFO:First current path [229, 59, 1, 25, 146, 199] formed at time = 0.77 s.\n"
     ]
    },
    {
     "name": "stdout",
     "output_type": "stream",
     "text": [
      "Running BA Network Regression: 50 nodes\n",
      "Running BA Network Regression: 100 nodes\n",
      "Running BA Network Regression: 150 nodes\n",
      "Running BA Network Regression: 250 nodes\n",
      "Running BA Network Regression: 250 nodes\n",
      "Running BA Network Regression: 286 nodes\n"
     ]
    },
    {
     "data": {
      "application/vnd.jupyter.widget-view+json": {
       "model_id": "fbb604cdf38b40dc983395421150bb46",
       "version_major": 2,
       "version_minor": 0
      },
      "text/plain": [
       "HBox(children=(IntProgress(value=0, description='Running Simulation ', max=500, style=ProgressStyle(descriptio…"
      ]
     },
     "metadata": {},
     "output_type": "display_data"
    },
    {
     "name": "stdout",
     "output_type": "stream",
     "text": [
      "Running BA Network Regression: 200 nodes\n",
      "Running BA Network Regression: 279 nodes\n",
      "Running BA Network Regression: 250 nodes\n",
      "Running BA Network Regression: 290 nodes\n"
     ]
    },
    {
     "data": {
      "application/vnd.jupyter.widget-view+json": {
       "model_id": "ba1971c5a00143bdbf17d4d90f437a6e",
       "version_major": 2,
       "version_minor": 0
      },
      "text/plain": [
       "HBox(children=(IntProgress(value=0, description='Running Simulation ', max=500, style=ProgressStyle(descriptio…"
      ]
     },
     "metadata": {},
     "output_type": "display_data"
    },
    {
     "data": {
      "application/vnd.jupyter.widget-view+json": {
       "model_id": "5a641a5f4b004c39883bb7a6cfce21fc",
       "version_major": 2,
       "version_minor": 0
      },
      "text/plain": [
       "HBox(children=(IntProgress(value=0, description='Running Simulation ', max=500, style=ProgressStyle(descriptio…"
      ]
     },
     "metadata": {},
     "output_type": "display_data"
    },
    {
     "data": {
      "application/vnd.jupyter.widget-view+json": {
       "model_id": "0a014ae66515451f83f780ae375ce74c",
       "version_major": 2,
       "version_minor": 0
      },
      "text/plain": [
       "HBox(children=(IntProgress(value=0, description='Running Simulation ', max=500, style=ProgressStyle(descriptio…"
      ]
     },
     "metadata": {},
     "output_type": "display_data"
    },
    {
     "name": "stderr",
     "output_type": "stream",
     "text": [
      "2020-06-17 14:46:11,012:INFO:First current path [1, 13, 118, 194, 173] formed at time = 0.77 s.\n"
     ]
    },
    {
     "name": "stdout",
     "output_type": "stream",
     "text": [
      "Running BA Network Regression: 50 nodes\n",
      "Running BA Network Regression: 100 nodes\n",
      "Running BA Network Regression: 288 nodes\n",
      "Running BA Network Regression: 150 nodes\n",
      "Running BA Network Regression: 200 nodes\n"
     ]
    },
    {
     "name": "stderr",
     "output_type": "stream",
     "text": [
      "2020-06-17 14:46:11,666:INFO:First current path [30, 13, 138, 223, 248] formed at time = 0.76 s.\n"
     ]
    },
    {
     "name": "stdout",
     "output_type": "stream",
     "text": [
      "Running BA Network Regression: 50 nodes\n",
      "Running BA Network Regression: 100 nodes\n",
      "Running BA Network Regression: 150 nodes\n"
     ]
    },
    {
     "name": "stderr",
     "output_type": "stream",
     "text": [
      "2020-06-17 14:46:11,935:INFO:First current path [33, 17, 5, 44, 251] formed at time = 0.76 s.\n"
     ]
    },
    {
     "name": "stdout",
     "output_type": "stream",
     "text": [
      "Running BA Network Regression: 50 nodes\n",
      "Running BA Network Regression: 100 nodes\n"
     ]
    },
    {
     "name": "stderr",
     "output_type": "stream",
     "text": [
      "2020-06-17 14:46:12,041:INFO:First current path [0, 58, 10, 157, 258] formed at time = 0.75 s.\n"
     ]
    },
    {
     "name": "stdout",
     "output_type": "stream",
     "text": [
      "Running BA Network Regression: 50 nodes\n"
     ]
    },
    {
     "data": {
      "application/vnd.jupyter.widget-view+json": {
       "model_id": "86bfb92a58444a46832c23aa2ac02d39",
       "version_major": 2,
       "version_minor": 0
      },
      "text/plain": [
       "HBox(children=(IntProgress(value=0, description='Running Simulation ', max=500, style=ProgressStyle(descriptio…"
      ]
     },
     "metadata": {},
     "output_type": "display_data"
    },
    {
     "name": "stdout",
     "output_type": "stream",
     "text": [
      "Running BA Network Regression: 100 nodes\n",
      "Running BA Network Regression: 250 nodes\n",
      "Running BA Network Regression: 150 nodes\n",
      "Running BA Network Regression: 200 nodes\n",
      "Running BA Network Regression: 150 nodes\n"
     ]
    },
    {
     "data": {
      "application/vnd.jupyter.widget-view+json": {
       "model_id": "c4867715c57f4162bc05ff8a8ab82dee",
       "version_major": 2,
       "version_minor": 0
      },
      "text/plain": [
       "HBox(children=(IntProgress(value=0, description='Running Simulation ', max=500, style=ProgressStyle(descriptio…"
      ]
     },
     "metadata": {},
     "output_type": "display_data"
    },
    {
     "name": "stdout",
     "output_type": "stream",
     "text": [
      "Running BA Network Regression: 200 nodes\n",
      "Running BA Network Regression: 200 nodes\n",
      "Running BA Network Regression: 250 nodes\n",
      "Running BA Network Regression: 296 nodes\n",
      "Running BA Network Regression: 250 nodes\n",
      "Running BA Network Regression: 250 nodes\n"
     ]
    },
    {
     "data": {
      "application/vnd.jupyter.widget-view+json": {
       "model_id": "408e9abb93554a63845809735af8d1ae",
       "version_major": 2,
       "version_minor": 0
      },
      "text/plain": [
       "HBox(children=(IntProgress(value=0, description='Running Simulation ', max=500, style=ProgressStyle(descriptio…"
      ]
     },
     "metadata": {},
     "output_type": "display_data"
    },
    {
     "name": "stderr",
     "output_type": "stream",
     "text": [
      "2020-06-17 14:46:13,495:INFO:First current path [82, 66, 204, 60, 202] formed at time = 0.77 s.\n"
     ]
    },
    {
     "name": "stdout",
     "output_type": "stream",
     "text": [
      "Running BA Network Regression: 50 nodes\n",
      "Running BA Network Regression: 100 nodes\n",
      "Running BA Network Regression: 296 nodes\n"
     ]
    },
    {
     "name": "stderr",
     "output_type": "stream",
     "text": [
      "2020-06-17 14:46:13,746:INFO:First current path [2, 5, 0, 218, 103] formed at time = 0.94 s.\n"
     ]
    },
    {
     "name": "stdout",
     "output_type": "stream",
     "text": [
      "Running BA Network Regression: 50 nodes\n",
      "Running BA Network Regression: 150 nodes\n",
      "Running BA Network Regression: 100 nodes\n",
      "Running BA Network Regression: 291 nodes\n",
      "Running BA Network Regression: 291 nodes\n"
     ]
    },
    {
     "data": {
      "application/vnd.jupyter.widget-view+json": {
       "model_id": "8471d61f775747c3909d50b90e36858d",
       "version_major": 2,
       "version_minor": 0
      },
      "text/plain": [
       "HBox(children=(IntProgress(value=0, description='Running Simulation ', max=500, style=ProgressStyle(descriptio…"
      ]
     },
     "metadata": {},
     "output_type": "display_data"
    },
    {
     "name": "stdout",
     "output_type": "stream",
     "text": [
      "Running BA Network Regression: 150 nodes\n",
      "Running BA Network Regression: 200 nodes\n"
     ]
    },
    {
     "data": {
      "application/vnd.jupyter.widget-view+json": {
       "model_id": "8f2ac72e06e444e989f47dd28f5bb69a",
       "version_major": 2,
       "version_minor": 0
      },
      "text/plain": [
       "HBox(children=(IntProgress(value=0, description='Running Simulation ', max=500, style=ProgressStyle(descriptio…"
      ]
     },
     "metadata": {},
     "output_type": "display_data"
    },
    {
     "name": "stdout",
     "output_type": "stream",
     "text": [
      "Running BA Network Regression: 200 nodes\n"
     ]
    },
    {
     "name": "stderr",
     "output_type": "stream",
     "text": [
      "2020-06-17 14:46:14,463:INFO:First current path [32, 38, 31, 186, 213] formed at time = 0.76 s.\n"
     ]
    },
    {
     "name": "stdout",
     "output_type": "stream",
     "text": [
      "Running BA Network Regression: 50 nodes\n",
      "Running BA Network Regression: 100 nodes\n",
      "Running BA Network Regression: 250 nodes\n",
      "Running BA Network Regression: 150 nodes\n"
     ]
    },
    {
     "data": {
      "application/vnd.jupyter.widget-view+json": {
       "model_id": "3782573a6dc34b83951b44cd7a0cf26f",
       "version_major": 2,
       "version_minor": 0
      },
      "text/plain": [
       "HBox(children=(IntProgress(value=0, description='Running Simulation ', max=500, style=ProgressStyle(descriptio…"
      ]
     },
     "metadata": {},
     "output_type": "display_data"
    },
    {
     "name": "stdout",
     "output_type": "stream",
     "text": [
      "Running BA Network Regression: 250 nodes\n",
      "Running BA Network Regression: 200 nodes\n"
     ]
    },
    {
     "name": "stderr",
     "output_type": "stream",
     "text": [
      "2020-06-17 14:46:15,347:INFO:First current path [26, 104, 112, 130, 247] formed at time = 0.76 s.\n"
     ]
    },
    {
     "name": "stdout",
     "output_type": "stream",
     "text": [
      "Running BA Network Regression: 50 nodes\n",
      "Running BA Network Regression: 100 nodes\n"
     ]
    },
    {
     "name": "stderr",
     "output_type": "stream",
     "text": [
      "2020-06-17 14:46:15,494:INFO:First current path [29, 57, 169, 186, 243] formed at time = 0.76 s.\n"
     ]
    },
    {
     "name": "stdout",
     "output_type": "stream",
     "text": [
      "Running BA Network Regression: 50 nodes\n",
      "Running BA Network Regression: 299 nodes\n",
      "Running BA Network Regression: 100 nodes\n",
      "Running BA Network Regression: 150 nodes\n",
      "Running BA Network Regression: 250 nodes\n",
      "Running BA Network Regression: 295 nodes\n",
      "Running BA Network Regression: 150 nodes\n"
     ]
    },
    {
     "data": {
      "application/vnd.jupyter.widget-view+json": {
       "model_id": "99eeabc527bc4029842aec4bf86c6847",
       "version_major": 2,
       "version_minor": 0
      },
      "text/plain": [
       "HBox(children=(IntProgress(value=0, description='Running Simulation ', max=500, style=ProgressStyle(descriptio…"
      ]
     },
     "metadata": {},
     "output_type": "display_data"
    },
    {
     "name": "stdout",
     "output_type": "stream",
     "text": [
      "Running BA Network Regression: 200 nodes\n"
     ]
    },
    {
     "data": {
      "application/vnd.jupyter.widget-view+json": {
       "model_id": "55ff315d9cc04b1a8a5ad5148bd76b3b",
       "version_major": 2,
       "version_minor": 0
      },
      "text/plain": [
       "HBox(children=(IntProgress(value=0, description='Running Simulation ', max=500, style=ProgressStyle(descriptio…"
      ]
     },
     "metadata": {},
     "output_type": "display_data"
    },
    {
     "name": "stdout",
     "output_type": "stream",
     "text": [
      "Running BA Network Regression: 200 nodes\n"
     ]
    },
    {
     "name": "stderr",
     "output_type": "stream",
     "text": [
      "2020-06-17 14:46:16,122:INFO:First current path [17, 73, 134, 184, 245] formed at time = 0.77 s.\n"
     ]
    },
    {
     "name": "stdout",
     "output_type": "stream",
     "text": [
      "Running BA Network Regression: 50 nodes\n",
      "Running BA Network Regression: 100 nodes\n",
      "Running BA Network Regression: 150 nodes\n",
      "Running BA Network Regression: 292 nodes\n"
     ]
    },
    {
     "data": {
      "application/vnd.jupyter.widget-view+json": {
       "model_id": "d4c9a72262224267a45cc9ac0f39be41",
       "version_major": 2,
       "version_minor": 0
      },
      "text/plain": [
       "HBox(children=(IntProgress(value=0, description='Running Simulation ', max=500, style=ProgressStyle(descriptio…"
      ]
     },
     "metadata": {},
     "output_type": "display_data"
    },
    {
     "name": "stdout",
     "output_type": "stream",
     "text": [
      "Running BA Network Regression: 250 nodes\n",
      "Running BA Network Regression: 250 nodes\n"
     ]
    },
    {
     "data": {
      "application/vnd.jupyter.widget-view+json": {
       "model_id": "38ce2811612d44b7a4806fbb8ae9de0d",
       "version_major": 2,
       "version_minor": 0
      },
      "text/plain": [
       "HBox(children=(IntProgress(value=0, description='Running Simulation ', max=500, style=ProgressStyle(descriptio…"
      ]
     },
     "metadata": {},
     "output_type": "display_data"
    },
    {
     "name": "stdout",
     "output_type": "stream",
     "text": [
      "Running BA Network Regression: 200 nodes\n"
     ]
    },
    {
     "name": "stderr",
     "output_type": "stream",
     "text": [
      "2020-06-17 14:46:17,275:INFO:First current path [87, 86, 15, 179, 286] formed at time = 0.76 s.\n"
     ]
    },
    {
     "name": "stdout",
     "output_type": "stream",
     "text": [
      "Running BA Network Regression: 50 nodes\n",
      "Running BA Network Regression: 291 nodes\n",
      "Running BA Network Regression: 250 nodes\n",
      "Running BA Network Regression: 100 nodes\n",
      "Running BA Network Regression: 285 nodes\n"
     ]
    },
    {
     "name": "stderr",
     "output_type": "stream",
     "text": [
      "2020-06-17 14:46:17,491:INFO:First current path [152, 213, 2, 171, 265] formed at time = 0.78 s.\n"
     ]
    },
    {
     "name": "stdout",
     "output_type": "stream",
     "text": [
      "Running BA Network Regression: 50 nodes\n",
      "Running BA Network Regression: 150 nodes\n",
      "Running BA Network Regression: 100 nodes\n",
      "Running BA Network Regression: 150 nodes\n",
      "Running BA Network Regression: 200 nodes\n"
     ]
    },
    {
     "name": "stderr",
     "output_type": "stream",
     "text": [
      "2020-06-17 14:46:17,921:INFO:First current path [71, 39, 14, 123, 220] formed at time = 0.76 s.\n"
     ]
    },
    {
     "name": "stdout",
     "output_type": "stream",
     "text": [
      "Running BA Network Regression: 50 nodes\n",
      "Running BA Network Regression: 100 nodes\n",
      "Running BA Network Regression: 200 nodes\n"
     ]
    },
    {
     "name": "stderr",
     "output_type": "stream",
     "text": [
      "2020-06-17 14:46:18,128:INFO:First current path [134, 176, 28, 0, 285] formed at time = 0.77 s.\n"
     ]
    },
    {
     "name": "stdout",
     "output_type": "stream",
     "text": [
      "Running BA Network Regression: 50 nodes\n",
      "Running BA Network Regression: 285 nodes\n",
      "Running BA Network Regression: 150 nodes\n",
      "Running BA Network Regression: 100 nodes\n"
     ]
    },
    {
     "data": {
      "application/vnd.jupyter.widget-view+json": {
       "model_id": "e2ba276940d845dda03246f86af4dc8c",
       "version_major": 2,
       "version_minor": 0
      },
      "text/plain": [
       "HBox(children=(IntProgress(value=0, description='Running Simulation ', max=500, style=ProgressStyle(descriptio…"
      ]
     },
     "metadata": {},
     "output_type": "display_data"
    },
    {
     "name": "stdout",
     "output_type": "stream",
     "text": [
      "Running BA Network Regression: 150 nodes\n",
      "Running BA Network Regression: 250 nodes\n",
      "Running BA Network Regression: 200 nodes\n"
     ]
    },
    {
     "data": {
      "application/vnd.jupyter.widget-view+json": {
       "model_id": "4e71a4227992454c86235a84cfafb8e8",
       "version_major": 2,
       "version_minor": 0
      },
      "text/plain": [
       "HBox(children=(IntProgress(value=0, description='Running Simulation ', max=500, style=ProgressStyle(descriptio…"
      ]
     },
     "metadata": {},
     "output_type": "display_data"
    },
    {
     "name": "stdout",
     "output_type": "stream",
     "text": [
      "Running BA Network Regression: 250 nodes\n",
      "Running BA Network Regression: 200 nodes\n"
     ]
    },
    {
     "data": {
      "application/vnd.jupyter.widget-view+json": {
       "model_id": "ff9386f6a188473b8e71e70ea69d84c1",
       "version_major": 2,
       "version_minor": 0
      },
      "text/plain": [
       "HBox(children=(IntProgress(value=0, description='Running Simulation ', max=500, style=ProgressStyle(descriptio…"
      ]
     },
     "metadata": {},
     "output_type": "display_data"
    },
    {
     "name": "stdout",
     "output_type": "stream",
     "text": [
      "Running BA Network Regression: 250 nodes\n"
     ]
    },
    {
     "data": {
      "application/vnd.jupyter.widget-view+json": {
       "model_id": "6e981910dcdb4ad9af3da951bc818875",
       "version_major": 2,
       "version_minor": 0
      },
      "text/plain": [
       "HBox(children=(IntProgress(value=0, description='Running Simulation ', max=500, style=ProgressStyle(descriptio…"
      ]
     },
     "metadata": {},
     "output_type": "display_data"
    },
    {
     "name": "stdout",
     "output_type": "stream",
     "text": [
      "Running BA Network Regression: 300 nodes\n",
      "Running BA Network Regression: 250 nodes\n",
      "Running BA Network Regression: 297 nodes\n"
     ]
    },
    {
     "name": "stderr",
     "output_type": "stream",
     "text": [
      "2020-06-17 14:46:19,536:INFO:First current path [135, 231, 8, 59, 283] formed at time = 0.76 s.\n"
     ]
    },
    {
     "name": "stdout",
     "output_type": "stream",
     "text": [
      "Running BA Network Regression: 50 nodes\n",
      "Running BA Network Regression: 100 nodes\n",
      "Running BA Network Regression: 150 nodes\n"
     ]
    },
    {
     "data": {
      "application/vnd.jupyter.widget-view+json": {
       "model_id": "c80582bb13834df1b0075f5b98fb06c6",
       "version_major": 2,
       "version_minor": 0
      },
      "text/plain": [
       "HBox(children=(IntProgress(value=0, description='Running Simulation ', max=500, style=ProgressStyle(descriptio…"
      ]
     },
     "metadata": {},
     "output_type": "display_data"
    },
    {
     "name": "stdout",
     "output_type": "stream",
     "text": [
      "Running BA Network Regression: 300 nodes\n"
     ]
    },
    {
     "name": "stderr",
     "output_type": "stream",
     "text": [
      "2020-06-17 14:46:19,985:INFO:First current path [111, 5, 7, 100, 222] formed at time = 0.76 s.\n"
     ]
    },
    {
     "name": "stdout",
     "output_type": "stream",
     "text": [
      "Running BA Network Regression: 50 nodes\n",
      "Running BA Network Regression: 100 nodes\n",
      "Running BA Network Regression: 297 nodes\n",
      "Running BA Network Regression: 200 nodes\n",
      "Running BA Network Regression: 150 nodes\n"
     ]
    },
    {
     "name": "stderr",
     "output_type": "stream",
     "text": [
      "2020-06-17 14:46:20,468:INFO:First current path [166, 88, 14, 274, 260] formed at time = 0.77 s.\n"
     ]
    },
    {
     "name": "stdout",
     "output_type": "stream",
     "text": [
      "Running BA Network Regression: 50 nodes\n",
      "Running BA Network Regression: 100 nodes\n",
      "Running BA Network Regression: 200 nodes\n",
      "Running BA Network Regression: 250 nodes\n",
      "Running BA Network Regression: 150 nodes\n",
      "Running BA Network Regression: 200 nodes\n"
     ]
    },
    {
     "data": {
      "application/vnd.jupyter.widget-view+json": {
       "model_id": "8a551fe3b5da41b58f87966337d44a60",
       "version_major": 2,
       "version_minor": 0
      },
      "text/plain": [
       "HBox(children=(IntProgress(value=0, description='Running Simulation ', max=500, style=ProgressStyle(descriptio…"
      ]
     },
     "metadata": {},
     "output_type": "display_data"
    },
    {
     "name": "stderr",
     "output_type": "stream",
     "text": [
      "2020-06-17 14:46:21,136:INFO:First current path [67, 34, 4, 201, 270] formed at time = 0.76 s.\n"
     ]
    },
    {
     "name": "stdout",
     "output_type": "stream",
     "text": [
      "Running BA Network Regression: 50 nodes\n",
      "Running BA Network Regression: 250 nodes\n",
      "Running BA Network Regression: 100 nodes\n"
     ]
    },
    {
     "data": {
      "application/vnd.jupyter.widget-view+json": {
       "model_id": "9cb91600bcd2416b811201d2908623d6",
       "version_major": 2,
       "version_minor": 0
      },
      "text/plain": [
       "HBox(children=(IntProgress(value=0, description='Running Simulation ', max=500, style=ProgressStyle(descriptio…"
      ]
     },
     "metadata": {},
     "output_type": "display_data"
    },
    {
     "name": "stdout",
     "output_type": "stream",
     "text": [
      "Running BA Network Regression: 150 nodes\n",
      "Running BA Network Regression: 296 nodes\n"
     ]
    },
    {
     "name": "stderr",
     "output_type": "stream",
     "text": [
      "2020-06-17 14:46:21,664:INFO:First current path [1, 150, 14, 94, 272] formed at time = 0.76 s.\n"
     ]
    },
    {
     "name": "stdout",
     "output_type": "stream",
     "text": [
      "Running BA Network Regression: 50 nodes\n",
      "Running BA Network Regression: 250 nodes\n",
      "Running BA Network Regression: 100 nodes\n",
      "Running BA Network Regression: 200 nodes\n",
      "Running BA Network Regression: 150 nodes\n",
      "Running BA Network Regression: 298 nodes\n",
      "Running BA Network Regression: 200 nodes\n",
      "Running BA Network Regression: 250 nodes\n"
     ]
    },
    {
     "data": {
      "application/vnd.jupyter.widget-view+json": {
       "model_id": "307df0818e0c4119b23ca11dd6a0c67c",
       "version_major": 2,
       "version_minor": 0
      },
      "text/plain": [
       "HBox(children=(IntProgress(value=0, description='Running Simulation ', max=500, style=ProgressStyle(descriptio…"
      ]
     },
     "metadata": {},
     "output_type": "display_data"
    },
    {
     "name": "stdout",
     "output_type": "stream",
     "text": [
      "Running BA Network Regression: 296 nodes\n"
     ]
    },
    {
     "name": "stderr",
     "output_type": "stream",
     "text": [
      "2020-06-17 14:46:22,580:INFO:First current path [271, 161, 62, 284, 211] formed at time = 0.77 s.\n"
     ]
    },
    {
     "name": "stdout",
     "output_type": "stream",
     "text": [
      "Running BA Network Regression: 50 nodes\n",
      "Running BA Network Regression: 100 nodes\n"
     ]
    },
    {
     "name": "stderr",
     "output_type": "stream",
     "text": [
      "2020-06-17 14:46:22,730:INFO:First current path [147, 211, 72, 134, 254] formed at time = 0.76 s.\n"
     ]
    },
    {
     "name": "stdout",
     "output_type": "stream",
     "text": [
      "Running BA Network Regression: 50 nodes\n",
      "Running BA Network Regression: 100 nodes\n",
      "Running BA Network Regression: 250 nodes\n",
      "Running BA Network Regression: 150 nodes\n"
     ]
    },
    {
     "data": {
      "application/vnd.jupyter.widget-view+json": {
       "model_id": "942e84d5087f42938e88120d2be031e6",
       "version_major": 2,
       "version_minor": 0
      },
      "text/plain": [
       "HBox(children=(IntProgress(value=0, description='Running Simulation ', max=500, style=ProgressStyle(descriptio…"
      ]
     },
     "metadata": {},
     "output_type": "display_data"
    },
    {
     "name": "stdout",
     "output_type": "stream",
     "text": [
      "Running BA Network Regression: 150 nodes\n",
      "Running BA Network Regression: 293 nodes\n",
      "Running BA Network Regression: 200 nodes\n",
      "Running BA Network Regression: 200 nodes\n"
     ]
    },
    {
     "data": {
      "application/vnd.jupyter.widget-view+json": {
       "model_id": "8d2d2c395cda41b0b5ae5afcd3bf54c9",
       "version_major": 2,
       "version_minor": 0
      },
      "text/plain": [
       "HBox(children=(IntProgress(value=0, description='Running Simulation ', max=500, style=ProgressStyle(descriptio…"
      ]
     },
     "metadata": {},
     "output_type": "display_data"
    },
    {
     "name": "stdout",
     "output_type": "stream",
     "text": [
      "Running BA Network Regression: 295 nodes\n"
     ]
    },
    {
     "name": "stderr",
     "output_type": "stream",
     "text": [
      "2020-06-17 14:46:23,828:INFO:First current path [0, 85, 43, 45] formed at time = 0.75 s.\n"
     ]
    },
    {
     "name": "stdout",
     "output_type": "stream",
     "text": [
      "Running BA Network Regression: 50 nodes\n",
      "Running BA Network Regression: 250 nodes\n",
      "Running BA Network Regression: 100 nodes\n",
      "Running BA Network Regression: 250 nodes\n"
     ]
    },
    {
     "data": {
      "application/vnd.jupyter.widget-view+json": {
       "model_id": "cee0fb0b31084208b48806e59ce10aa8",
       "version_major": 2,
       "version_minor": 0
      },
      "text/plain": [
       "HBox(children=(IntProgress(value=0, description='Running Simulation ', max=500, style=ProgressStyle(descriptio…"
      ]
     },
     "metadata": {},
     "output_type": "display_data"
    },
    {
     "name": "stdout",
     "output_type": "stream",
     "text": [
      "Running BA Network Regression: 150 nodes\n"
     ]
    },
    {
     "name": "stderr",
     "output_type": "stream",
     "text": [
      "2020-06-17 14:46:24,273:INFO:First current path [0, 21, 244, 102] formed at time = 0.75 s.\n"
     ]
    },
    {
     "name": "stdout",
     "output_type": "stream",
     "text": [
      "Running BA Network Regression: 50 nodes\n",
      "Running BA Network Regression: 100 nodes\n",
      "Running BA Network Regression: 200 nodes\n",
      "Running BA Network Regression: 150 nodes\n",
      "Running BA Network Regression: 299 nodes\n",
      "Running BA Network Regression: 297 nodes\n"
     ]
    },
    {
     "data": {
      "application/vnd.jupyter.widget-view+json": {
       "model_id": "e4226705e46e4ca8b3e37910168a580a",
       "version_major": 2,
       "version_minor": 0
      },
      "text/plain": [
       "HBox(children=(IntProgress(value=0, description='Running Simulation ', max=500, style=ProgressStyle(descriptio…"
      ]
     },
     "metadata": {},
     "output_type": "display_data"
    },
    {
     "name": "stdout",
     "output_type": "stream",
     "text": [
      "Running BA Network Regression: 200 nodes\n"
     ]
    },
    {
     "name": "stderr",
     "output_type": "stream",
     "text": [
      "2020-06-17 14:46:24,977:INFO:First current path [252, 30, 43, 154, 247] formed at time = 0.79 s.\n"
     ]
    },
    {
     "name": "stdout",
     "output_type": "stream",
     "text": [
      "Running BA Network Regression: 50 nodes\n",
      "Running BA Network Regression: 250 nodes\n",
      "Running BA Network Regression: 100 nodes\n",
      "Running BA Network Regression: 150 nodes\n"
     ]
    },
    {
     "name": "stderr",
     "output_type": "stream",
     "text": [
      "2020-06-17 14:46:25,345:INFO:First current path [0, 148, 41, 37] formed at time = 0.75 s.\n"
     ]
    },
    {
     "name": "stdout",
     "output_type": "stream",
     "text": [
      "Running BA Network Regression: 50 nodes\n"
     ]
    },
    {
     "data": {
      "application/vnd.jupyter.widget-view+json": {
       "model_id": "8fedb3e85e37415c89faf969a0f51c7f",
       "version_major": 2,
       "version_minor": 0
      },
      "text/plain": [
       "HBox(children=(IntProgress(value=0, description='Running Simulation ', max=500, style=ProgressStyle(descriptio…"
      ]
     },
     "metadata": {},
     "output_type": "display_data"
    },
    {
     "name": "stdout",
     "output_type": "stream",
     "text": [
      "Running BA Network Regression: 100 nodes\n",
      "Running BA Network Regression: 250 nodes\n",
      "Running BA Network Regression: 150 nodes\n",
      "Running BA Network Regression: 200 nodes\n",
      "Running BA Network Regression: 299 nodes\n",
      "Running BA Network Regression: 200 nodes\n"
     ]
    },
    {
     "data": {
      "application/vnd.jupyter.widget-view+json": {
       "model_id": "037e0068642f4f47a456318eefc3e94a",
       "version_major": 2,
       "version_minor": 0
      },
      "text/plain": [
       "HBox(children=(IntProgress(value=0, description='Running Simulation ', max=500, style=ProgressStyle(descriptio…"
      ]
     },
     "metadata": {},
     "output_type": "display_data"
    },
    {
     "name": "stdout",
     "output_type": "stream",
     "text": [
      "Running BA Network Regression: 250 nodes\n"
     ]
    },
    {
     "name": "stderr",
     "output_type": "stream",
     "text": [
      "2020-06-17 14:46:26,308:INFO:First current path [0, 52, 66, 81] formed at time = 0.75 s.\n"
     ]
    },
    {
     "name": "stdout",
     "output_type": "stream",
     "text": [
      "Running BA Network Regression: 50 nodes\n",
      "Running BA Network Regression: 299 nodes\n",
      "Running BA Network Regression: 100 nodes\n"
     ]
    },
    {
     "data": {
      "application/vnd.jupyter.widget-view+json": {
       "model_id": "2c6f3efcbc374360a9c75b709e851903",
       "version_major": 2,
       "version_minor": 0
      },
      "text/plain": [
       "HBox(children=(IntProgress(value=0, description='Running Simulation ', max=500, style=ProgressStyle(descriptio…"
      ]
     },
     "metadata": {},
     "output_type": "display_data"
    },
    {
     "name": "stdout",
     "output_type": "stream",
     "text": [
      "Running BA Network Regression: 250 nodes\n",
      "Running BA Network Regression: 150 nodes\n"
     ]
    },
    {
     "data": {
      "application/vnd.jupyter.widget-view+json": {
       "model_id": "199627b4182c4933a402056f7156c093",
       "version_major": 2,
       "version_minor": 0
      },
      "text/plain": [
       "HBox(children=(IntProgress(value=0, description='Running Simulation ', max=500, style=ProgressStyle(descriptio…"
      ]
     },
     "metadata": {},
     "output_type": "display_data"
    },
    {
     "name": "stderr",
     "output_type": "stream",
     "text": [
      "2020-06-17 14:46:26,877:INFO:First current path [244, 168, 61, 112, 238] formed at time = 0.78 s.\n"
     ]
    },
    {
     "name": "stdout",
     "output_type": "stream",
     "text": [
      "Running BA Network Regression: 50 nodes\n",
      "Running BA Network Regression: 200 nodes\n",
      "Running BA Network Regression: 100 nodes\n",
      "Running BA Network Regression: 300 nodes\n",
      "Running BA Network Regression: 150 nodes\n",
      "Running BA Network Regression: 299 nodes\n"
     ]
    },
    {
     "name": "stderr",
     "output_type": "stream",
     "text": [
      "2020-06-17 14:46:27,540:INFO:First current path [294, 154, 9, 253, 264] formed at time = 0.78 s.\n"
     ]
    },
    {
     "name": "stdout",
     "output_type": "stream",
     "text": [
      "Running BA Network Regression: 50 nodes\n",
      "Running BA Network Regression: 200 nodes\n",
      "Running BA Network Regression: 250 nodes\n",
      "Running BA Network Regression: 100 nodes\n",
      "Running BA Network Regression: 150 nodes\n"
     ]
    },
    {
     "name": "stderr",
     "output_type": "stream",
     "text": [
      "2020-06-17 14:46:27,928:INFO:First current path [242, 103, 2, 74, 261] formed at time = 0.78 s.\n"
     ]
    },
    {
     "name": "stdout",
     "output_type": "stream",
     "text": [
      "Running BA Network Regression: 50 nodes\n",
      "Running BA Network Regression: 100 nodes\n"
     ]
    },
    {
     "name": "stderr",
     "output_type": "stream",
     "text": [
      "2020-06-17 14:46:28,169:INFO:First current path [0, 25, 59, 62] formed at time = 0.75 s.\n"
     ]
    },
    {
     "name": "stdout",
     "output_type": "stream",
     "text": [
      "Running BA Network Regression: 50 nodes\n",
      "Running BA Network Regression: 250 nodes\n",
      "Running BA Network Regression: 150 nodes\n",
      "Running BA Network Regression: 200 nodes\n",
      "Running BA Network Regression: 100 nodes\n",
      "Running BA Network Regression: 150 nodes\n",
      "Running BA Network Regression: 299 nodes\n",
      "Running BA Network Regression: 200 nodes\n"
     ]
    },
    {
     "data": {
      "application/vnd.jupyter.widget-view+json": {
       "model_id": "7275ccae3c1d4d0e9598dd3832638a97",
       "version_major": 2,
       "version_minor": 0
      },
      "text/plain": [
       "HBox(children=(IntProgress(value=0, description='Running Simulation ', max=500, style=ProgressStyle(descriptio…"
      ]
     },
     "metadata": {},
     "output_type": "display_data"
    },
    {
     "name": "stdout",
     "output_type": "stream",
     "text": [
      "Running BA Network Regression: 200 nodes\n",
      "Running BA Network Regression: 250 nodes\n"
     ]
    },
    {
     "data": {
      "application/vnd.jupyter.widget-view+json": {
       "model_id": "b5ffc5c6f502406792e2382f72f99e0d",
       "version_major": 2,
       "version_minor": 0
      },
      "text/plain": [
       "HBox(children=(IntProgress(value=0, description='Running Simulation ', max=500, style=ProgressStyle(descriptio…"
      ]
     },
     "metadata": {},
     "output_type": "display_data"
    },
    {
     "name": "stdout",
     "output_type": "stream",
     "text": [
      "Running BA Network Regression: 300 nodes\n",
      "Running BA Network Regression: 250 nodes\n"
     ]
    },
    {
     "data": {
      "application/vnd.jupyter.widget-view+json": {
       "model_id": "664b966bd95e4c2db5ea1e91f7ee5f61",
       "version_major": 2,
       "version_minor": 0
      },
      "text/plain": [
       "HBox(children=(IntProgress(value=0, description='Running Simulation ', max=500, style=ProgressStyle(descriptio…"
      ]
     },
     "metadata": {},
     "output_type": "display_data"
    },
    {
     "name": "stdout",
     "output_type": "stream",
     "text": [
      "Running BA Network Regression: 250 nodes\n",
      "Running BA Network Regression: 298 nodes\n",
      "Running BA Network Regression: 296 nodes\n"
     ]
    },
    {
     "data": {
      "application/vnd.jupyter.widget-view+json": {
       "model_id": "d06367978b694b4393be3340188ec80e",
       "version_major": 2,
       "version_minor": 0
      },
      "text/plain": [
       "HBox(children=(IntProgress(value=0, description='Running Simulation ', max=500, style=ProgressStyle(descriptio…"
      ]
     },
     "metadata": {},
     "output_type": "display_data"
    },
    {
     "name": "stdout",
     "output_type": "stream",
     "text": [
      "Running BA Network Regression: 299 nodes\n"
     ]
    },
    {
     "name": "stderr",
     "output_type": "stream",
     "text": [
      "2020-06-17 14:46:30,252:INFO:First current path [0, 37, 282, 234] formed at time = 0.75 s.\n"
     ]
    },
    {
     "name": "stdout",
     "output_type": "stream",
     "text": [
      "Running BA Network Regression: 50 nodes\n",
      "Running BA Network Regression: 100 nodes\n"
     ]
    },
    {
     "name": "stderr",
     "output_type": "stream",
     "text": [
      "2020-06-17 14:46:30,487:INFO:First current path [0, 47, 197, 201] formed at time = 0.75 s.\n"
     ]
    },
    {
     "name": "stdout",
     "output_type": "stream",
     "text": [
      "Running BA Network Regression: 50 nodes\n",
      "Running BA Network Regression: 150 nodes\n",
      "Running BA Network Regression: 100 nodes\n",
      "Running BA Network Regression: 150 nodes\n"
     ]
    },
    {
     "name": "stderr",
     "output_type": "stream",
     "text": [
      "2020-06-17 14:46:30,767:INFO:First current path [0, 11, 277, 224] formed at time = 0.76 s.\n"
     ]
    },
    {
     "name": "stdout",
     "output_type": "stream",
     "text": [
      "Running BA Network Regression: 50 nodes\n",
      "Running BA Network Regression: 100 nodes\n",
      "Running BA Network Regression: 200 nodes\n",
      "Running BA Network Regression: 150 nodes\n"
     ]
    },
    {
     "data": {
      "application/vnd.jupyter.widget-view+json": {
       "model_id": "303667bbe49349c796af43c2e2f4076f",
       "version_major": 2,
       "version_minor": 0
      },
      "text/plain": [
       "HBox(children=(IntProgress(value=0, description='Running Simulation ', max=500, style=ProgressStyle(descriptio…"
      ]
     },
     "metadata": {},
     "output_type": "display_data"
    },
    {
     "name": "stdout",
     "output_type": "stream",
     "text": [
      "Running BA Network Regression: 200 nodes\n",
      "Running BA Network Regression: 200 nodes\n",
      "Running BA Network Regression: 250 nodes\n"
     ]
    },
    {
     "data": {
      "application/vnd.jupyter.widget-view+json": {
       "model_id": "05eac829066b44de80c8e0ed92163415",
       "version_major": 2,
       "version_minor": 0
      },
      "text/plain": [
       "HBox(children=(IntProgress(value=0, description='Running Simulation ', max=500, style=ProgressStyle(descriptio…"
      ]
     },
     "metadata": {},
     "output_type": "display_data"
    },
    {
     "name": "stderr",
     "output_type": "stream",
     "text": [
      "2020-06-17 14:46:31,668:INFO:First current path [0, 50, 264, 103] formed at time = 0.75 s.\n"
     ]
    },
    {
     "name": "stdout",
     "output_type": "stream",
     "text": [
      "Running BA Network Regression: 50 nodes\n",
      "Running BA Network Regression: 250 nodes\n",
      "Running BA Network Regression: 100 nodes\n",
      "Running BA Network Regression: 150 nodes\n",
      "Running BA Network Regression: 250 nodes\n",
      "Running BA Network Regression: 200 nodes\n",
      "Running BA Network Regression: 300 nodes\n",
      "Running BA Network Regression: 298 nodes\n"
     ]
    },
    {
     "name": "stderr",
     "output_type": "stream",
     "text": [
      "2020-06-17 14:46:32,525:INFO:First current path [0, 78, 202, 266] formed at time = 0.76 s.\n"
     ]
    },
    {
     "name": "stdout",
     "output_type": "stream",
     "text": [
      "Running BA Network Regression: 50 nodes\n",
      "Running BA Network Regression: 100 nodes\n",
      "Running BA Network Regression: 150 nodes\n",
      "Running BA Network Regression: 300 nodes\n",
      "Running BA Network Regression: 250 nodes\n"
     ]
    },
    {
     "name": "stderr",
     "output_type": "stream",
     "text": [
      "2020-06-17 14:46:33,097:INFO:First current path [0, 13, 242, 249] formed at time = 0.76 s.\n"
     ]
    },
    {
     "name": "stdout",
     "output_type": "stream",
     "text": [
      "Running BA Network Regression: 50 nodes\n",
      "Running BA Network Regression: 200 nodes\n",
      "Running BA Network Regression: 100 nodes\n",
      "Running BA Network Regression: 150 nodes\n"
     ]
    },
    {
     "data": {
      "application/vnd.jupyter.widget-view+json": {
       "model_id": "d898cf6dbcc54911b0e75eebe01afe32",
       "version_major": 2,
       "version_minor": 0
      },
      "text/plain": [
       "HBox(children=(IntProgress(value=0, description='Running Simulation ', max=500, style=ProgressStyle(descriptio…"
      ]
     },
     "metadata": {},
     "output_type": "display_data"
    },
    {
     "data": {
      "application/vnd.jupyter.widget-view+json": {
       "model_id": "f84c4d17d5074fe383777e8c6a915f0a",
       "version_major": 2,
       "version_minor": 0
      },
      "text/plain": [
       "HBox(children=(IntProgress(value=0, description='Running Simulation ', max=500, style=ProgressStyle(descriptio…"
      ]
     },
     "metadata": {},
     "output_type": "display_data"
    },
    {
     "name": "stdout",
     "output_type": "stream",
     "text": [
      "Running BA Network Regression: 200 nodes\n",
      "Running BA Network Regression: 300 nodes\n",
      "Running BA Network Regression: 250 nodes\n"
     ]
    },
    {
     "data": {
      "application/vnd.jupyter.widget-view+json": {
       "model_id": "b52fbc28564c4331a6ca18def1201065",
       "version_major": 2,
       "version_minor": 0
      },
      "text/plain": [
       "HBox(children=(IntProgress(value=0, description='Running Simulation ', max=500, style=ProgressStyle(descriptio…"
      ]
     },
     "metadata": {},
     "output_type": "display_data"
    },
    {
     "name": "stdout",
     "output_type": "stream",
     "text": [
      "Running BA Network Regression: 250 nodes\n",
      "Running BA Network Regression: 300 nodes\n"
     ]
    },
    {
     "name": "stderr",
     "output_type": "stream",
     "text": [
      "2020-06-17 14:46:34,976:INFO:First current path [0, 101, 148, 153] formed at time = 0.75 s.\n"
     ]
    },
    {
     "name": "stdout",
     "output_type": "stream",
     "text": [
      "Running BA Network Regression: 50 nodes\n",
      "Running BA Network Regression: 100 nodes\n"
     ]
    },
    {
     "name": "stderr",
     "output_type": "stream",
     "text": [
      "2020-06-17 14:46:35,056:INFO:First current path [0, 10, 227, 162] formed at time = 0.75 s.\n"
     ]
    },
    {
     "name": "stdout",
     "output_type": "stream",
     "text": [
      "Running BA Network Regression: 50 nodes\n"
     ]
    },
    {
     "data": {
      "application/vnd.jupyter.widget-view+json": {
       "model_id": "3ec6d0a61d584efe8e258dd01c2b80ab",
       "version_major": 2,
       "version_minor": 0
      },
      "text/plain": [
       "HBox(children=(IntProgress(value=0, description='Running Simulation ', max=500, style=ProgressStyle(descriptio…"
      ]
     },
     "metadata": {},
     "output_type": "display_data"
    },
    {
     "name": "stdout",
     "output_type": "stream",
     "text": [
      "Running BA Network Regression: 100 nodes\n",
      "Running BA Network Regression: 300 nodes\n",
      "Running BA Network Regression: 150 nodes\n"
     ]
    },
    {
     "name": "stderr",
     "output_type": "stream",
     "text": [
      "2020-06-17 14:46:35,259:INFO:First current path [0, 18, 98, 162] formed at time = 0.76 s.\n"
     ]
    },
    {
     "name": "stdout",
     "output_type": "stream",
     "text": [
      "Running BA Network Regression: 50 nodes\n",
      "Running BA Network Regression: 150 nodes\n",
      "Running BA Network Regression: 100 nodes\n",
      "Running BA Network Regression: 150 nodes\n",
      "Running BA Network Regression: 200 nodes\n",
      "Running BA Network Regression: 200 nodes\n",
      "Running BA Network Regression: 200 nodes\n"
     ]
    },
    {
     "data": {
      "application/vnd.jupyter.widget-view+json": {
       "model_id": "8d70c47d0344430cb7884387b7856a31",
       "version_major": 2,
       "version_minor": 0
      },
      "text/plain": [
       "HBox(children=(IntProgress(value=0, description='Running Simulation ', max=500, style=ProgressStyle(descriptio…"
      ]
     },
     "metadata": {},
     "output_type": "display_data"
    },
    {
     "data": {
      "application/vnd.jupyter.widget-view+json": {
       "model_id": "dd07f22c4bbd4661880dae749911e5ed",
       "version_major": 2,
       "version_minor": 0
      },
      "text/plain": [
       "HBox(children=(IntProgress(value=0, description='Running Simulation ', max=500, style=ProgressStyle(descriptio…"
      ]
     },
     "metadata": {},
     "output_type": "display_data"
    },
    {
     "name": "stdout",
     "output_type": "stream",
     "text": [
      "Running BA Network Regression: 250 nodes\n",
      "Running BA Network Regression: 250 nodes\n"
     ]
    },
    {
     "data": {
      "application/vnd.jupyter.widget-view+json": {
       "model_id": "0543f040ff204ce3a07c7c8a802c4cae",
       "version_major": 2,
       "version_minor": 0
      },
      "text/plain": [
       "HBox(children=(IntProgress(value=0, description='Running Simulation ', max=500, style=ProgressStyle(descriptio…"
      ]
     },
     "metadata": {},
     "output_type": "display_data"
    },
    {
     "name": "stdout",
     "output_type": "stream",
     "text": [
      "Running BA Network Regression: 250 nodes\n"
     ]
    },
    {
     "name": "stderr",
     "output_type": "stream",
     "text": [
      "2020-06-17 14:46:36,584:INFO:First current path [0, 11, 201, 158] formed at time = 0.75 s.\n"
     ]
    },
    {
     "name": "stdout",
     "output_type": "stream",
     "text": [
      "Running BA Network Regression: 50 nodes\n",
      "Running BA Network Regression: 100 nodes\n",
      "Running BA Network Regression: 150 nodes\n"
     ]
    },
    {
     "data": {
      "application/vnd.jupyter.widget-view+json": {
       "model_id": "053679c672d44e40863bb564f14d4372",
       "version_major": 2,
       "version_minor": 0
      },
      "text/plain": [
       "HBox(children=(IntProgress(value=0, description='Running Simulation ', max=500, style=ProgressStyle(descriptio…"
      ]
     },
     "metadata": {},
     "output_type": "display_data"
    },
    {
     "name": "stdout",
     "output_type": "stream",
     "text": [
      "Running BA Network Regression: 299 nodes\n",
      "Running BA Network Regression: 299 nodes\n",
      "Running BA Network Regression: 200 nodes\n",
      "Running BA Network Regression: 299 nodes\n"
     ]
    },
    {
     "data": {
      "application/vnd.jupyter.widget-view+json": {
       "model_id": "ccf4b05f1ee0481fbf6f163d44478cca",
       "version_major": 2,
       "version_minor": 0
      },
      "text/plain": [
       "HBox(children=(IntProgress(value=0, description='Running Simulation ', max=500, style=ProgressStyle(descriptio…"
      ]
     },
     "metadata": {},
     "output_type": "display_data"
    },
    {
     "name": "stderr",
     "output_type": "stream",
     "text": [
      "2020-06-17 14:46:37,596:INFO:First current path [1, 182, 285, 156] formed at time = 0.75 s.\n"
     ]
    },
    {
     "name": "stdout",
     "output_type": "stream",
     "text": [
      "Running BA Network Regression: 50 nodes\n",
      "Running BA Network Regression: 100 nodes\n"
     ]
    },
    {
     "name": "stderr",
     "output_type": "stream",
     "text": [
      "2020-06-17 14:46:37,696:INFO:First current path [0, 241, 266, 186] formed at time = 0.75 s.\n"
     ]
    },
    {
     "name": "stdout",
     "output_type": "stream",
     "text": [
      "Running BA Network Regression: 50 nodes\n",
      "Running BA Network Regression: 250 nodes\n",
      "Running BA Network Regression: 100 nodes\n",
      "Running BA Network Regression: 150 nodes\n"
     ]
    },
    {
     "name": "stderr",
     "output_type": "stream",
     "text": [
      "2020-06-17 14:46:37,903:INFO:First current path [1, 120, 187, 282] formed at time = 0.75 s.\n"
     ]
    },
    {
     "name": "stdout",
     "output_type": "stream",
     "text": [
      "Running BA Network Regression: 50 nodes\n",
      "Running BA Network Regression: 150 nodes\n",
      "Running BA Network Regression: 100 nodes\n"
     ]
    },
    {
     "data": {
      "application/vnd.jupyter.widget-view+json": {
       "model_id": "9a795cde937f4ba98ae5a9d936cb43fb",
       "version_major": 2,
       "version_minor": 0
      },
      "text/plain": [
       "HBox(children=(IntProgress(value=0, description='Running Simulation ', max=500, style=ProgressStyle(descriptio…"
      ]
     },
     "metadata": {},
     "output_type": "display_data"
    },
    {
     "name": "stdout",
     "output_type": "stream",
     "text": [
      "Running BA Network Regression: 150 nodes\n",
      "Running BA Network Regression: 200 nodes\n",
      "Running BA Network Regression: 200 nodes\n"
     ]
    },
    {
     "name": "stderr",
     "output_type": "stream",
     "text": [
      "2020-06-17 14:46:38,405:INFO:First current path [0, 40, 83, 274] formed at time = 0.76 s.\n"
     ]
    },
    {
     "name": "stdout",
     "output_type": "stream",
     "text": [
      "Running BA Network Regression: 50 nodes\n",
      "Running BA Network Regression: 100 nodes\n",
      "Running BA Network Regression: 200 nodes\n",
      "Running BA Network Regression: 300 nodes\n",
      "Running BA Network Regression: 150 nodes\n",
      "Running BA Network Regression: 250 nodes\n",
      "Running BA Network Regression: 250 nodes\n"
     ]
    },
    {
     "name": "stderr",
     "output_type": "stream",
     "text": [
      "2020-06-17 14:46:38,953:INFO:First current path [0, 14, 276, 271] formed at time = 0.76 s.\n"
     ]
    },
    {
     "name": "stdout",
     "output_type": "stream",
     "text": [
      "Running BA Network Regression: 50 nodes\n",
      "Running BA Network Regression: 200 nodes\n",
      "Running BA Network Regression: 100 nodes\n",
      "Running BA Network Regression: 250 nodes\n",
      "Running BA Network Regression: 150 nodes\n"
     ]
    },
    {
     "name": "stderr",
     "output_type": "stream",
     "text": [
      "2020-06-17 14:46:39,537:INFO:First current path [1, 37, 213, 235] formed at time = 0.75 s.\n"
     ]
    },
    {
     "name": "stdout",
     "output_type": "stream",
     "text": [
      "Running BA Network Regression: 50 nodes\n",
      "Running BA Network Regression: 200 nodes\n",
      "Running BA Network Regression: 100 nodes\n",
      "Running BA Network Regression: 300 nodes\n",
      "Running BA Network Regression: 250 nodes\n"
     ]
    },
    {
     "data": {
      "application/vnd.jupyter.widget-view+json": {
       "model_id": "2ace753db75e4edeb943dd1f7757b9c4",
       "version_major": 2,
       "version_minor": 0
      },
      "text/plain": [
       "HBox(children=(IntProgress(value=0, description='Running Simulation ', max=500, style=ProgressStyle(descriptio…"
      ]
     },
     "metadata": {},
     "output_type": "display_data"
    },
    {
     "name": "stdout",
     "output_type": "stream",
     "text": [
      "Running BA Network Regression: 299 nodes\n",
      "Running BA Network Regression: 150 nodes\n"
     ]
    },
    {
     "data": {
      "application/vnd.jupyter.widget-view+json": {
       "model_id": "367c601bf2094b59b8559dd99405870d",
       "version_major": 2,
       "version_minor": 0
      },
      "text/plain": [
       "HBox(children=(IntProgress(value=0, description='Running Simulation ', max=500, style=ProgressStyle(descriptio…"
      ]
     },
     "metadata": {},
     "output_type": "display_data"
    },
    {
     "name": "stdout",
     "output_type": "stream",
     "text": [
      "Running BA Network Regression: 300 nodes\n",
      "Running BA Network Regression: 250 nodes\n",
      "Running BA Network Regression: 200 nodes\n"
     ]
    },
    {
     "data": {
      "application/vnd.jupyter.widget-view+json": {
       "model_id": "0f7082001a994a71bab59e7f00ad46af",
       "version_major": 2,
       "version_minor": 0
      },
      "text/plain": [
       "HBox(children=(IntProgress(value=0, description='Running Simulation ', max=500, style=ProgressStyle(descriptio…"
      ]
     },
     "metadata": {},
     "output_type": "display_data"
    },
    {
     "name": "stdout",
     "output_type": "stream",
     "text": [
      "Running BA Network Regression: 300 nodes\n",
      "Running BA Network Regression: 250 nodes\n"
     ]
    },
    {
     "data": {
      "application/vnd.jupyter.widget-view+json": {
       "model_id": "bad87d3012bd425d9be131e1507829b3",
       "version_major": 2,
       "version_minor": 0
      },
      "text/plain": [
       "HBox(children=(IntProgress(value=0, description='Running Simulation ', max=500, style=ProgressStyle(descriptio…"
      ]
     },
     "metadata": {},
     "output_type": "display_data"
    },
    {
     "name": "stdout",
     "output_type": "stream",
     "text": [
      "Running BA Network Regression: 299 nodes\n"
     ]
    },
    {
     "name": "stderr",
     "output_type": "stream",
     "text": [
      "2020-06-17 14:46:41,163:INFO:First current path [0, 75, 174, 172] formed at time = 0.75 s.\n"
     ]
    },
    {
     "name": "stdout",
     "output_type": "stream",
     "text": [
      "Running BA Network Regression: 50 nodes\n",
      "Running BA Network Regression: 100 nodes\n",
      "Running BA Network Regression: 150 nodes\n"
     ]
    },
    {
     "name": "stderr",
     "output_type": "stream",
     "text": [
      "2020-06-17 14:46:41,452:INFO:First current path [0, 21, 94, 193] formed at time = 0.76 s.\n"
     ]
    },
    {
     "name": "stdout",
     "output_type": "stream",
     "text": [
      "Running BA Network Regression: 50 nodes\n",
      "Running BA Network Regression: 100 nodes\n",
      "Running BA Network Regression: 300 nodes\n"
     ]
    },
    {
     "name": "stderr",
     "output_type": "stream",
     "text": [
      "2020-06-17 14:46:41,681:INFO:First current path [0, 32, 199, 259] formed at time = 0.76 s.\n"
     ]
    },
    {
     "name": "stdout",
     "output_type": "stream",
     "text": [
      "Running BA Network Regression: 50 nodes\n",
      "Running BA Network Regression: 150 nodes\n",
      "Running BA Network Regression: 100 nodes\n",
      "Running BA Network Regression: 200 nodes\n",
      "Running BA Network Regression: 150 nodes\n",
      "Running BA Network Regression: 200 nodes\n",
      "Running BA Network Regression: 200 nodes\n"
     ]
    },
    {
     "data": {
      "application/vnd.jupyter.widget-view+json": {
       "model_id": "eead9bd725fb4b9285f8364b3fe94929",
       "version_major": 2,
       "version_minor": 0
      },
      "text/plain": [
       "HBox(children=(IntProgress(value=0, description='Running Simulation ', max=500, style=ProgressStyle(descriptio…"
      ]
     },
     "metadata": {},
     "output_type": "display_data"
    },
    {
     "name": "stderr",
     "output_type": "stream",
     "text": [
      "2020-06-17 14:46:42,372:INFO:First current path [0, 15, 263, 185] formed at time = 0.76 s.\n"
     ]
    },
    {
     "name": "stdout",
     "output_type": "stream",
     "text": [
      "Running BA Network Regression: 50 nodes\n",
      "Running BA Network Regression: 250 nodes\n",
      "Running BA Network Regression: 100 nodes\n"
     ]
    },
    {
     "data": {
      "application/vnd.jupyter.widget-view+json": {
       "model_id": "dae0c6ee2aa744649c683aada10a7405",
       "version_major": 2,
       "version_minor": 0
      },
      "text/plain": [
       "HBox(children=(IntProgress(value=0, description='Running Simulation ', max=500, style=ProgressStyle(descriptio…"
      ]
     },
     "metadata": {},
     "output_type": "display_data"
    },
    {
     "name": "stdout",
     "output_type": "stream",
     "text": [
      "Running BA Network Regression: 150 nodes\n",
      "Running BA Network Regression: 250 nodes\n"
     ]
    },
    {
     "data": {
      "application/vnd.jupyter.widget-view+json": {
       "model_id": "9a28642d25204f5c9fce976748dfdbfe",
       "version_major": 2,
       "version_minor": 0
      },
      "text/plain": [
       "HBox(children=(IntProgress(value=0, description='Running Simulation ', max=500, style=ProgressStyle(descriptio…"
      ]
     },
     "metadata": {},
     "output_type": "display_data"
    },
    {
     "name": "stdout",
     "output_type": "stream",
     "text": [
      "Running BA Network Regression: 250 nodes\n",
      "Running BA Network Regression: 200 nodes\n",
      "Running BA Network Regression: 300 nodes\n",
      "Running BA Network Regression: 298 nodes\n",
      "Running BA Network Regression: 250 nodes\n",
      "Running BA Network Regression: 300 nodes\n"
     ]
    },
    {
     "name": "stderr",
     "output_type": "stream",
     "text": [
      "2020-06-17 14:46:44,015:INFO:First current path [0, 82, 172, 218] formed at time = 0.75 s.\n"
     ]
    },
    {
     "name": "stdout",
     "output_type": "stream",
     "text": [
      "Running BA Network Regression: 50 nodes\n"
     ]
    },
    {
     "name": "stderr",
     "output_type": "stream",
     "text": [
      "2020-06-17 14:46:44,097:INFO:First current path [1, 24, 221, 280] formed at time = 0.75 s.\n"
     ]
    },
    {
     "name": "stdout",
     "output_type": "stream",
     "text": [
      "Running BA Network Regression: 50 nodes\n",
      "Running BA Network Regression: 100 nodes\n",
      "Running BA Network Regression: 100 nodes\n",
      "Running BA Network Regression: 150 nodes\n",
      "Running BA Network Regression: 150 nodes\n"
     ]
    },
    {
     "name": "stderr",
     "output_type": "stream",
     "text": [
      "2020-06-17 14:46:44,431:INFO:First current path [5, 25, 245, 183] formed at time = 0.76 s.\n"
     ]
    },
    {
     "name": "stdout",
     "output_type": "stream",
     "text": [
      "Running BA Network Regression: 50 nodes\n",
      "Running BA Network Regression: 100 nodes\n"
     ]
    },
    {
     "data": {
      "application/vnd.jupyter.widget-view+json": {
       "model_id": "9999737556ef41bcb3e431d355857fb5",
       "version_major": 2,
       "version_minor": 0
      },
      "text/plain": [
       "HBox(children=(IntProgress(value=0, description='Running Simulation ', max=500, style=ProgressStyle(descriptio…"
      ]
     },
     "metadata": {},
     "output_type": "display_data"
    },
    {
     "name": "stdout",
     "output_type": "stream",
     "text": [
      "Running BA Network Regression: 300 nodes\n",
      "Running BA Network Regression: 150 nodes\n",
      "Running BA Network Regression: 200 nodes\n",
      "Running BA Network Regression: 200 nodes\n",
      "Running BA Network Regression: 200 nodes\n",
      "Running BA Network Regression: 250 nodes\n"
     ]
    },
    {
     "data": {
      "application/vnd.jupyter.widget-view+json": {
       "model_id": "5b9cc4ad1b314399bd847e668b251af2",
       "version_major": 2,
       "version_minor": 0
      },
      "text/plain": [
       "HBox(children=(IntProgress(value=0, description='Running Simulation ', max=500, style=ProgressStyle(descriptio…"
      ]
     },
     "metadata": {},
     "output_type": "display_data"
    },
    {
     "name": "stdout",
     "output_type": "stream",
     "text": [
      "Running BA Network Regression: 250 nodes\n",
      "Running BA Network Regression: 250 nodes\n"
     ]
    },
    {
     "data": {
      "application/vnd.jupyter.widget-view+json": {
       "model_id": "2be5bb882e6f4cf0bb94013373b74632",
       "version_major": 2,
       "version_minor": 0
      },
      "text/plain": [
       "HBox(children=(IntProgress(value=0, description='Running Simulation ', max=500, style=ProgressStyle(descriptio…"
      ]
     },
     "metadata": {},
     "output_type": "display_data"
    },
    {
     "data": {
      "application/vnd.jupyter.widget-view+json": {
       "model_id": "f097fb72ecf44a9b84231cdbb750c14a",
       "version_major": 2,
       "version_minor": 0
      },
      "text/plain": [
       "HBox(children=(IntProgress(value=0, description='Running Simulation ', max=500, style=ProgressStyle(descriptio…"
      ]
     },
     "metadata": {},
     "output_type": "display_data"
    },
    {
     "name": "stderr",
     "output_type": "stream",
     "text": [
      "2020-06-17 14:46:46,078:INFO:First current path [0, 124, 75, 133] formed at time = 0.75 s.\n"
     ]
    },
    {
     "name": "stdout",
     "output_type": "stream",
     "text": [
      "Running BA Network Regression: 50 nodes\n",
      "Running BA Network Regression: 100 nodes\n",
      "Running BA Network Regression: 300 nodes\n",
      "Running BA Network Regression: 300 nodes\n",
      "Running BA Network Regression: 150 nodes\n",
      "Running BA Network Regression: 300 nodes\n"
     ]
    },
    {
     "data": {
      "application/vnd.jupyter.widget-view+json": {
       "model_id": "ccaa2c64c63945dab54a0b6c140a1914",
       "version_major": 2,
       "version_minor": 0
      },
      "text/plain": [
       "HBox(children=(IntProgress(value=0, description='Running Simulation ', max=500, style=ProgressStyle(descriptio…"
      ]
     },
     "metadata": {},
     "output_type": "display_data"
    },
    {
     "name": "stdout",
     "output_type": "stream",
     "text": [
      "Running BA Network Regression: 200 nodes\n"
     ]
    },
    {
     "name": "stderr",
     "output_type": "stream",
     "text": [
      "2020-06-17 14:46:46,984:INFO:First current path [0, 93, 187, 264] formed at time = 0.75 s.\n"
     ]
    },
    {
     "name": "stdout",
     "output_type": "stream",
     "text": [
      "Running BA Network Regression: 50 nodes\n",
      "Running BA Network Regression: 100 nodes\n",
      "Running BA Network Regression: 150 nodes\n",
      "Running BA Network Regression: 250 nodes\n"
     ]
    },
    {
     "name": "stderr",
     "output_type": "stream",
     "text": [
      "2020-06-17 14:46:47,624:INFO:First current path [1, 31, 189, 204] formed at time = 0.75 s.\n"
     ]
    },
    {
     "name": "stdout",
     "output_type": "stream",
     "text": [
      "Running BA Network Regression: 50 nodes\n",
      "Running BA Network Regression: 200 nodes\n",
      "Running BA Network Regression: 100 nodes\n"
     ]
    },
    {
     "name": "stderr",
     "output_type": "stream",
     "text": [
      "2020-06-17 14:46:47,711:INFO:First current path [0, 36, 188, 240] formed at time = 0.75 s.\n"
     ]
    },
    {
     "name": "stdout",
     "output_type": "stream",
     "text": [
      "Running BA Network Regression: 50 nodes\n",
      "Running BA Network Regression: 100 nodes\n"
     ]
    },
    {
     "data": {
      "application/vnd.jupyter.widget-view+json": {
       "model_id": "91ed5c733dc144889ae197bb1ef6f4ea",
       "version_major": 2,
       "version_minor": 0
      },
      "text/plain": [
       "HBox(children=(IntProgress(value=0, description='Running Simulation ', max=500, style=ProgressStyle(descriptio…"
      ]
     },
     "metadata": {},
     "output_type": "display_data"
    },
    {
     "name": "stdout",
     "output_type": "stream",
     "text": [
      "Running BA Network Regression: 150 nodes\n",
      "Running BA Network Regression: 150 nodes\n",
      "Running BA Network Regression: 300 nodes\n",
      "Running BA Network Regression: 250 nodes\n",
      "Running BA Network Regression: 200 nodes\n"
     ]
    },
    {
     "data": {
      "application/vnd.jupyter.widget-view+json": {
       "model_id": "cf4dc5a13f914ab4b8ca12649ed6cd99",
       "version_major": 2,
       "version_minor": 0
      },
      "text/plain": [
       "HBox(children=(IntProgress(value=0, description='Running Simulation ', max=500, style=ProgressStyle(descriptio…"
      ]
     },
     "metadata": {},
     "output_type": "display_data"
    },
    {
     "name": "stderr",
     "output_type": "stream",
     "text": [
      "2020-06-17 14:46:48,301:INFO:First current path [3, 19, 155, 285] formed at time = 0.76 s.\n"
     ]
    },
    {
     "name": "stdout",
     "output_type": "stream",
     "text": [
      "Running BA Network Regression: 50 nodes\n",
      "Running BA Network Regression: 200 nodes\n",
      "Running BA Network Regression: 100 nodes\n"
     ]
    },
    {
     "data": {
      "application/vnd.jupyter.widget-view+json": {
       "model_id": "bde0281dc4df4dad95a09fb93d2da156",
       "version_major": 2,
       "version_minor": 0
      },
      "text/plain": [
       "HBox(children=(IntProgress(value=0, description='Running Simulation ', max=500, style=ProgressStyle(descriptio…"
      ]
     },
     "metadata": {},
     "output_type": "display_data"
    },
    {
     "name": "stdout",
     "output_type": "stream",
     "text": [
      "Running BA Network Regression: 150 nodes\n",
      "Running BA Network Regression: 250 nodes\n",
      "Running BA Network Regression: 250 nodes\n",
      "Running BA Network Regression: 200 nodes\n",
      "Running BA Network Regression: 299 nodes\n"
     ]
    },
    {
     "name": "stderr",
     "output_type": "stream",
     "text": [
      "2020-06-17 14:46:49,403:INFO:First current path [1, 26, 252, 256] formed at time = 0.76 s.\n"
     ]
    },
    {
     "name": "stdout",
     "output_type": "stream",
     "text": [
      "Running BA Network Regression: 50 nodes\n",
      "Running BA Network Regression: 100 nodes\n",
      "Running BA Network Regression: 250 nodes\n",
      "Running BA Network Regression: 150 nodes\n",
      "Running BA Network Regression: 300 nodes\n",
      "Running BA Network Regression: 300 nodes\n"
     ]
    },
    {
     "data": {
      "application/vnd.jupyter.widget-view+json": {
       "model_id": "337b5794570640329de56fe70e22821b",
       "version_major": 2,
       "version_minor": 0
      },
      "text/plain": [
       "HBox(children=(IntProgress(value=0, description='Running Simulation ', max=500, style=ProgressStyle(descriptio…"
      ]
     },
     "metadata": {},
     "output_type": "display_data"
    },
    {
     "name": "stderr",
     "output_type": "stream",
     "text": [
      "2020-06-17 14:46:49,946:INFO:First current path [1, 109, 119, 125] formed at time = 0.75 s.\n"
     ]
    },
    {
     "name": "stdout",
     "output_type": "stream",
     "text": [
      "Running BA Network Regression: 50 nodes\n",
      "Running BA Network Regression: 100 nodes\n",
      "Running BA Network Regression: 200 nodes\n"
     ]
    },
    {
     "name": "stderr",
     "output_type": "stream",
     "text": [
      "2020-06-17 14:46:50,033:INFO:First current path [2, 46, 287, 231] formed at time = 0.76 s.\n"
     ]
    },
    {
     "name": "stdout",
     "output_type": "stream",
     "text": [
      "Running BA Network Regression: 50 nodes\n",
      "Running BA Network Regression: 100 nodes\n",
      "Running BA Network Regression: 150 nodes\n"
     ]
    },
    {
     "data": {
      "application/vnd.jupyter.widget-view+json": {
       "model_id": "786ec99e2ce9492f929bf8435dc99a8a",
       "version_major": 2,
       "version_minor": 0
      },
      "text/plain": [
       "HBox(children=(IntProgress(value=0, description='Running Simulation ', max=500, style=ProgressStyle(descriptio…"
      ]
     },
     "metadata": {},
     "output_type": "display_data"
    },
    {
     "name": "stdout",
     "output_type": "stream",
     "text": [
      "Running BA Network Regression: 150 nodes\n",
      "Running BA Network Regression: 200 nodes\n",
      "Running BA Network Regression: 300 nodes\n",
      "Running BA Network Regression: 250 nodes\n",
      "Running BA Network Regression: 200 nodes\n"
     ]
    },
    {
     "data": {
      "application/vnd.jupyter.widget-view+json": {
       "model_id": "e5650cd86e644f138a9145a6f18c54e8",
       "version_major": 2,
       "version_minor": 0
      },
      "text/plain": [
       "HBox(children=(IntProgress(value=0, description='Running Simulation ', max=500, style=ProgressStyle(descriptio…"
      ]
     },
     "metadata": {},
     "output_type": "display_data"
    },
    {
     "name": "stdout",
     "output_type": "stream",
     "text": [
      "Running BA Network Regression: 250 nodes\n",
      "Running BA Network Regression: 250 nodes\n",
      "Running BA Network Regression: 300 nodes\n"
     ]
    },
    {
     "name": "stderr",
     "output_type": "stream",
     "text": [
      "2020-06-17 14:46:51,571:INFO:First current path [0, 89, 96, 127] formed at time = 0.76 s.\n"
     ]
    },
    {
     "name": "stdout",
     "output_type": "stream",
     "text": [
      "Running BA Network Regression: 50 nodes\n",
      "Running BA Network Regression: 100 nodes\n",
      "Running BA Network Regression: 150 nodes\n"
     ]
    },
    {
     "name": "stderr",
     "output_type": "stream",
     "text": [
      "2020-06-17 14:46:51,897:INFO:First current path [5, 91, 84, 227] formed at time = 0.76 s.\n"
     ]
    },
    {
     "name": "stdout",
     "output_type": "stream",
     "text": [
      "Running BA Network Regression: 50 nodes\n",
      "Running BA Network Regression: 300 nodes\n",
      "Running BA Network Regression: 100 nodes\n",
      "Running BA Network Regression: 150 nodes\n",
      "Running BA Network Regression: 200 nodes\n",
      "Running BA Network Regression: 300 nodes\n",
      "Running BA Network Regression: 200 nodes\n"
     ]
    },
    {
     "data": {
      "application/vnd.jupyter.widget-view+json": {
       "model_id": "aa696cddc07c4c7b916cb69bbc8efd47",
       "version_major": 2,
       "version_minor": 0
      },
      "text/plain": [
       "HBox(children=(IntProgress(value=0, description='Running Simulation ', max=500, style=ProgressStyle(descriptio…"
      ]
     },
     "metadata": {},
     "output_type": "display_data"
    },
    {
     "name": "stderr",
     "output_type": "stream",
     "text": [
      "2020-06-17 14:46:52,608:INFO:First current path [2, 50, 146, 283] formed at time = 0.75 s.\n"
     ]
    },
    {
     "name": "stdout",
     "output_type": "stream",
     "text": [
      "Running BA Network Regression: 50 nodes\n",
      "Running BA Network Regression: 100 nodes\n",
      "Running BA Network Regression: 250 nodes\n",
      "Running BA Network Regression: 150 nodes\n"
     ]
    },
    {
     "data": {
      "application/vnd.jupyter.widget-view+json": {
       "model_id": "f46f126d28ea445784d6bb4e3c0e8ce2",
       "version_major": 2,
       "version_minor": 0
      },
      "text/plain": [
       "HBox(children=(IntProgress(value=0, description='Running Simulation ', max=500, style=ProgressStyle(descriptio…"
      ]
     },
     "metadata": {},
     "output_type": "display_data"
    },
    {
     "name": "stdout",
     "output_type": "stream",
     "text": [
      "Running BA Network Regression: 250 nodes\n"
     ]
    },
    {
     "data": {
      "application/vnd.jupyter.widget-view+json": {
       "model_id": "ca7fd67d0022432aad42575158141566",
       "version_major": 2,
       "version_minor": 0
      },
      "text/plain": [
       "HBox(children=(IntProgress(value=0, description='Running Simulation ', max=500, style=ProgressStyle(descriptio…"
      ]
     },
     "metadata": {},
     "output_type": "display_data"
    },
    {
     "name": "stdout",
     "output_type": "stream",
     "text": [
      "Running BA Network Regression: 200 nodes\n",
      "Running BA Network Regression: 300 nodes\n"
     ]
    },
    {
     "data": {
      "application/vnd.jupyter.widget-view+json": {
       "model_id": "b5abe33bdc0d4854ada980de850e178e",
       "version_major": 2,
       "version_minor": 0
      },
      "text/plain": [
       "HBox(children=(IntProgress(value=0, description='Running Simulation ', max=500, style=ProgressStyle(descriptio…"
      ]
     },
     "metadata": {},
     "output_type": "display_data"
    },
    {
     "name": "stdout",
     "output_type": "stream",
     "text": [
      "Running BA Network Regression: 250 nodes\n",
      "Running BA Network Regression: 300 nodes\n"
     ]
    },
    {
     "name": "stderr",
     "output_type": "stream",
     "text": [
      "2020-06-17 14:46:54,367:INFO:First current path [0, 30, 179, 233] formed at time = 0.76 s.\n"
     ]
    },
    {
     "name": "stdout",
     "output_type": "stream",
     "text": [
      "Running BA Network Regression: 50 nodes\n",
      "Running BA Network Regression: 100 nodes\n",
      "Running BA Network Regression: 150 nodes\n"
     ]
    },
    {
     "name": "stderr",
     "output_type": "stream",
     "text": [
      "2020-06-17 14:46:54,704:INFO:First current path [0, 26, 276, 287] formed at time = 0.75 s.\n"
     ]
    },
    {
     "name": "stdout",
     "output_type": "stream",
     "text": [
      "Running BA Network Regression: 50 nodes\n",
      "Running BA Network Regression: 100 nodes\n",
      "Running BA Network Regression: 300 nodes\n"
     ]
    },
    {
     "data": {
      "application/vnd.jupyter.widget-view+json": {
       "model_id": "c43929281cd14153a2ecc9ce0f561a54",
       "version_major": 2,
       "version_minor": 0
      },
      "text/plain": [
       "HBox(children=(IntProgress(value=0, description='Running Simulation ', max=500, style=ProgressStyle(descriptio…"
      ]
     },
     "metadata": {},
     "output_type": "display_data"
    },
    {
     "name": "stdout",
     "output_type": "stream",
     "text": [
      "Running BA Network Regression: 150 nodes\n",
      "Running BA Network Regression: 200 nodes\n"
     ]
    },
    {
     "name": "stderr",
     "output_type": "stream",
     "text": [
      "2020-06-17 14:46:55,076:INFO:First current path [2, 71, 221, 299] formed at time = 0.75 s.\n"
     ]
    },
    {
     "name": "stdout",
     "output_type": "stream",
     "text": [
      "Running BA Network Regression: 50 nodes\n",
      "Running BA Network Regression: 100 nodes\n"
     ]
    },
    {
     "data": {
      "application/vnd.jupyter.widget-view+json": {
       "model_id": "5c6f993af7ac40e1b6af361fef115e1b",
       "version_major": 2,
       "version_minor": 0
      },
      "text/plain": [
       "HBox(children=(IntProgress(value=0, description='Running Simulation ', max=500, style=ProgressStyle(descriptio…"
      ]
     },
     "metadata": {},
     "output_type": "display_data"
    },
    {
     "name": "stdout",
     "output_type": "stream",
     "text": [
      "Running BA Network Regression: 200 nodes\n",
      "Running BA Network Regression: 150 nodes\n"
     ]
    },
    {
     "data": {
      "application/vnd.jupyter.widget-view+json": {
       "model_id": "82b54e9e9da04be29b5eb65f4c80f01a",
       "version_major": 2,
       "version_minor": 0
      },
      "text/plain": [
       "HBox(children=(IntProgress(value=0, description='Running Simulation ', max=500, style=ProgressStyle(descriptio…"
      ]
     },
     "metadata": {},
     "output_type": "display_data"
    },
    {
     "name": "stderr",
     "output_type": "stream",
     "text": [
      "2020-06-17 14:46:55,602:INFO:First current path [0, 73, 220, 264] formed at time = 0.75 s.\n"
     ]
    },
    {
     "name": "stdout",
     "output_type": "stream",
     "text": [
      "Running BA Network Regression: 50 nodes\n",
      "Running BA Network Regression: 250 nodes\n",
      "Running BA Network Regression: 100 nodes\n",
      "Running BA Network Regression: 200 nodes\n",
      "Running BA Network Regression: 150 nodes\n",
      "Running BA Network Regression: 250 nodes\n",
      "Running BA Network Regression: 200 nodes\n",
      "Running BA Network Regression: 250 nodes\n",
      "Running BA Network Regression: 300 nodes\n"
     ]
    },
    {
     "name": "stderr",
     "output_type": "stream",
     "text": [
      "2020-06-17 14:46:56,573:INFO:First current path [2, 293, 235, 264] formed at time = 0.75 s.\n"
     ]
    },
    {
     "name": "stdout",
     "output_type": "stream",
     "text": [
      "Running BA Network Regression: 50 nodes\n",
      "Running BA Network Regression: 100 nodes\n",
      "Running BA Network Regression: 300 nodes\n",
      "Running BA Network Regression: 150 nodes\n",
      "Running BA Network Regression: 250 nodes\n"
     ]
    },
    {
     "data": {
      "application/vnd.jupyter.widget-view+json": {
       "model_id": "8dba19269479483eb3c1cfb0b5157511",
       "version_major": 2,
       "version_minor": 0
      },
      "text/plain": [
       "HBox(children=(IntProgress(value=0, description='Running Simulation ', max=500, style=ProgressStyle(descriptio…"
      ]
     },
     "metadata": {},
     "output_type": "display_data"
    },
    {
     "name": "stderr",
     "output_type": "stream",
     "text": [
      "2020-06-17 14:46:57,053:INFO:First current path [9, 131, 294, 207] formed at time = 0.75 s.\n"
     ]
    },
    {
     "name": "stdout",
     "output_type": "stream",
     "text": [
      "Running BA Network Regression: 50 nodes\n"
     ]
    },
    {
     "data": {
      "application/vnd.jupyter.widget-view+json": {
       "model_id": "6ebc85e239da40828628d73213df757e",
       "version_major": 2,
       "version_minor": 0
      },
      "text/plain": [
       "HBox(children=(IntProgress(value=0, description='Running Simulation ', max=500, style=ProgressStyle(descriptio…"
      ]
     },
     "metadata": {},
     "output_type": "display_data"
    },
    {
     "name": "stdout",
     "output_type": "stream",
     "text": [
      "Running BA Network Regression: 100 nodes\n"
     ]
    },
    {
     "name": "stderr",
     "output_type": "stream",
     "text": [
      "2020-06-17 14:46:57,153:INFO:First current path [7, 226, 223, 161] formed at time = 0.75 s.\n"
     ]
    },
    {
     "name": "stdout",
     "output_type": "stream",
     "text": [
      "Running BA Network Regression: 50 nodes\n",
      "Running BA Network Regression: 300 nodes\n",
      "Running BA Network Regression: 200 nodes\n"
     ]
    },
    {
     "data": {
      "application/vnd.jupyter.widget-view+json": {
       "model_id": "f47a14a7d7ce4601bc7e5f48492a4476",
       "version_major": 2,
       "version_minor": 0
      },
      "text/plain": [
       "HBox(children=(IntProgress(value=0, description='Running Simulation ', max=500, style=ProgressStyle(descriptio…"
      ]
     },
     "metadata": {},
     "output_type": "display_data"
    },
    {
     "name": "stdout",
     "output_type": "stream",
     "text": [
      "Running BA Network Regression: 100 nodes\n",
      "Running BA Network Regression: 150 nodes\n",
      "Running BA Network Regression: 150 nodes\n",
      "Running BA Network Regression: 200 nodes\n",
      "Running BA Network Regression: 200 nodes\n",
      "Running BA Network Regression: 250 nodes\n",
      "Running BA Network Regression: 300 nodes\n",
      "Running BA Network Regression: 250 nodes\n",
      "Running BA Network Regression: 250 nodes\n"
     ]
    },
    {
     "name": "stderr",
     "output_type": "stream",
     "text": [
      "2020-06-17 14:46:58,607:INFO:First current path [4, 126, 289, 259] formed at time = 0.76 s.\n"
     ]
    },
    {
     "name": "stdout",
     "output_type": "stream",
     "text": [
      "Running BA Network Regression: 50 nodes\n",
      "Running BA Network Regression: 300 nodes\n",
      "Running BA Network Regression: 100 nodes\n"
     ]
    },
    {
     "data": {
      "application/vnd.jupyter.widget-view+json": {
       "model_id": "0b65324982fa4625b673e10e9b2d27a1",
       "version_major": 2,
       "version_minor": 0
      },
      "text/plain": [
       "HBox(children=(IntProgress(value=0, description='Running Simulation ', max=500, style=ProgressStyle(descriptio…"
      ]
     },
     "metadata": {},
     "output_type": "display_data"
    },
    {
     "name": "stderr",
     "output_type": "stream",
     "text": [
      "2020-06-17 14:46:58,867:INFO:First current path [3, 63, 146, 233] formed at time = 0.76 s.\n"
     ]
    },
    {
     "name": "stdout",
     "output_type": "stream",
     "text": [
      "Running BA Network Regression: 50 nodes\n",
      "Running BA Network Regression: 150 nodes\n"
     ]
    },
    {
     "name": "stderr",
     "output_type": "stream",
     "text": [
      "2020-06-17 14:46:58,885:INFO:First current path [4, 70, 95, 256] formed at time = 0.76 s.\n"
     ]
    },
    {
     "name": "stdout",
     "output_type": "stream",
     "text": [
      "Running BA Network Regression: 50 nodes\n",
      "Running BA Network Regression: 100 nodes\n",
      "Running BA Network Regression: 100 nodes\n",
      "Running BA Network Regression: 299 nodes\n",
      "Running BA Network Regression: 150 nodes\n",
      "Running BA Network Regression: 150 nodes\n",
      "Running BA Network Regression: 300 nodes\n",
      "Running BA Network Regression: 200 nodes\n",
      "Running BA Network Regression: 200 nodes\n",
      "Running BA Network Regression: 200 nodes\n",
      "Running BA Network Regression: 250 nodes\n",
      "Running BA Network Regression: 250 nodes\n"
     ]
    },
    {
     "data": {
      "application/vnd.jupyter.widget-view+json": {
       "model_id": "4458139b6bcc46f9837538c740b83269",
       "version_major": 2,
       "version_minor": 0
      },
      "text/plain": [
       "HBox(children=(IntProgress(value=0, description='Running Simulation ', max=500, style=ProgressStyle(descriptio…"
      ]
     },
     "metadata": {},
     "output_type": "display_data"
    },
    {
     "name": "stdout",
     "output_type": "stream",
     "text": [
      "Running BA Network Regression: 250 nodes\n"
     ]
    },
    {
     "name": "stderr",
     "output_type": "stream",
     "text": [
      "2020-06-17 14:47:00,529:INFO:First current path [10, 27, 245, 263] formed at time = 0.76 s.\n"
     ]
    },
    {
     "name": "stdout",
     "output_type": "stream",
     "text": [
      "Running BA Network Regression: 50 nodes\n",
      "Running BA Network Regression: 100 nodes\n",
      "Running BA Network Regression: 300 nodes\n",
      "Running BA Network Regression: 150 nodes\n"
     ]
    },
    {
     "data": {
      "application/vnd.jupyter.widget-view+json": {
       "model_id": "cde507e8565947e6a64a2f8be1cf0abd",
       "version_major": 2,
       "version_minor": 0
      },
      "text/plain": [
       "HBox(children=(IntProgress(value=0, description='Running Simulation ', max=500, style=ProgressStyle(descriptio…"
      ]
     },
     "metadata": {},
     "output_type": "display_data"
    },
    {
     "name": "stdout",
     "output_type": "stream",
     "text": [
      "Running BA Network Regression: 300 nodes\n",
      "Running BA Network Regression: 300 nodes\n",
      "Running BA Network Regression: 200 nodes\n"
     ]
    },
    {
     "data": {
      "application/vnd.jupyter.widget-view+json": {
       "model_id": "bf5943c41c9c4696bf54e029741737e8",
       "version_major": 2,
       "version_minor": 0
      },
      "text/plain": [
       "HBox(children=(IntProgress(value=0, description='Running Simulation ', max=500, style=ProgressStyle(descriptio…"
      ]
     },
     "metadata": {},
     "output_type": "display_data"
    },
    {
     "data": {
      "application/vnd.jupyter.widget-view+json": {
       "model_id": "2c2d66bac2274113a4247f05c76e5dcb",
       "version_major": 2,
       "version_minor": 0
      },
      "text/plain": [
       "HBox(children=(IntProgress(value=0, description='Running Simulation ', max=500, style=ProgressStyle(descriptio…"
      ]
     },
     "metadata": {},
     "output_type": "display_data"
    },
    {
     "name": "stdout",
     "output_type": "stream",
     "text": [
      "Running BA Network Regression: 250 nodes\n"
     ]
    },
    {
     "name": "stderr",
     "output_type": "stream",
     "text": [
      "2020-06-17 14:47:01,794:INFO:First current path [3, 177, 183, 209] formed at time = 0.75 s.\n"
     ]
    },
    {
     "name": "stdout",
     "output_type": "stream",
     "text": [
      "Running BA Network Regression: 50 nodes\n",
      "Running BA Network Regression: 100 nodes\n",
      "Running BA Network Regression: 150 nodes\n",
      "Running BA Network Regression: 200 nodes\n"
     ]
    },
    {
     "name": "stderr",
     "output_type": "stream",
     "text": [
      "2020-06-17 14:47:02,613:INFO:First current path [1, 276, 65, 114] formed at time = 0.76 s.\n"
     ]
    },
    {
     "name": "stdout",
     "output_type": "stream",
     "text": [
      "Running BA Network Regression: 50 nodes\n",
      "Running BA Network Regression: 300 nodes\n",
      "Running BA Network Regression: 100 nodes\n",
      "Running BA Network Regression: 250 nodes\n",
      "Running BA Network Regression: 150 nodes\n"
     ]
    },
    {
     "name": "stderr",
     "output_type": "stream",
     "text": [
      "2020-06-17 14:47:03,067:INFO:First current path [4, 102, 99, 233] formed at time = 0.76 s.\n"
     ]
    },
    {
     "name": "stdout",
     "output_type": "stream",
     "text": [
      "Running BA Network Regression: 50 nodes\n",
      "Running BA Network Regression: 100 nodes\n"
     ]
    },
    {
     "name": "stderr",
     "output_type": "stream",
     "text": [
      "2020-06-17 14:47:03,192:INFO:First current path [4, 28, 184, 223] formed at time = 0.76 s.\n"
     ]
    },
    {
     "name": "stdout",
     "output_type": "stream",
     "text": [
      "Running BA Network Regression: 50 nodes\n",
      "Running BA Network Regression: 100 nodes\n",
      "Running BA Network Regression: 200 nodes\n"
     ]
    },
    {
     "data": {
      "application/vnd.jupyter.widget-view+json": {
       "model_id": "cdf87fe798df464993a9aa3494a006ec",
       "version_major": 2,
       "version_minor": 0
      },
      "text/plain": [
       "HBox(children=(IntProgress(value=0, description='Running Simulation ', max=500, style=ProgressStyle(descriptio…"
      ]
     },
     "metadata": {},
     "output_type": "display_data"
    },
    {
     "name": "stdout",
     "output_type": "stream",
     "text": [
      "Running BA Network Regression: 150 nodes\n",
      "Running BA Network Regression: 150 nodes\n",
      "Running BA Network Regression: 200 nodes\n",
      "Running BA Network Regression: 300 nodes\n",
      "Running BA Network Regression: 200 nodes\n",
      "Running BA Network Regression: 250 nodes\n",
      "Running BA Network Regression: 250 nodes\n",
      "Running BA Network Regression: 250 nodes\n",
      "Running BA Network Regression: 300 nodes\n"
     ]
    },
    {
     "name": "stderr",
     "output_type": "stream",
     "text": [
      "2020-06-17 14:47:04,864:INFO:First current path [6, 163, 156, 254] formed at time = 0.75 s.\n"
     ]
    },
    {
     "name": "stdout",
     "output_type": "stream",
     "text": [
      "Running BA Network Regression: 50 nodes\n",
      "Running BA Network Regression: 100 nodes\n",
      "Running BA Network Regression: 300 nodes\n",
      "Running BA Network Regression: 300 nodes\n",
      "Running BA Network Regression: 150 nodes\n",
      "Running BA Network Regression: 200 nodes\n",
      "Running BA Network Regression: 250 nodes\n",
      "Running BA Network Regression: 300 nodes\n"
     ]
    }
   ],
   "source": [
    "#### parallel run simulations\n",
    "result=para_run(BA_Run,init,nCPU=10)\n"
   ]
  },
  {
   "cell_type": "code",
   "execution_count": 104,
   "metadata": {},
   "outputs": [],
   "source": [
    "for i in range(len(result)):\n",
    "    BA_scaleFree[i]['Accuracy']['Linear Transformation']=[ii[0] for ii in result][i]"
   ]
  },
  {
   "cell_type": "code",
   "execution_count": 135,
   "metadata": {},
   "outputs": [
    {
     "data": {
      "application/vnd.jupyter.widget-view+json": {
       "model_id": "b32fcaff60cc4fdc877ebede77113d94",
       "version_major": 2,
       "version_minor": 0
      },
      "text/plain": [
       "HBox(children=(IntProgress(value=0, max=300), HTML(value='')))"
      ]
     },
     "metadata": {},
     "output_type": "display_data"
    }
   ],
   "source": [
    "#export adj matrices to calculate small worldness in matlab:\n",
    "adj_mats={\"AdjMat_BA\":[]}\n",
    "for i in tqdm(range(len(BA_scaleFree))):\n",
    "    adj_mats['AdjMat_BA'].append(dict(ba=nx.adj_matrix(scaleFree[i]).todense()))\n",
    "    BA_scaleFree[i]['adj_matrix']=nx.adj_matrix(scaleFree[i]).todense()\n",
    "savemat('/import/silo2/aloe8475/Documents/CODE/Data/Functional Connectivity/300_BA_AllASN.mat',adj_mats)"
   ]
  },
  {
   "cell_type": "code",
   "execution_count": 136,
   "metadata": {},
   "outputs": [
    {
     "name": "stdout",
     "output_type": "stream",
     "text": [
      "/import/silo2/aloe8475/Documents/CODE/Data/Functional Connectivity\n"
     ]
    }
   ],
   "source": [
    "cd \"/import/silo2/aloe8475/Documents/CODE/Data/Functional Connectivity/\""
   ]
  },
  {
   "cell_type": "code",
   "execution_count": 137,
   "metadata": {},
   "outputs": [],
   "source": [
    "# temp=loadmat(r'300_WS_smallworld.mat')\n",
    "temp=loadmat(r'300_BA_AllASN_smallworld.mat')\n",
    "smallworld_ba=temp['smallworld_ba']\n",
    "del temp"
   ]
  },
  {
   "cell_type": "code",
   "execution_count": 138,
   "metadata": {},
   "outputs": [
    {
     "name": "stdout",
     "output_type": "stream",
     "text": [
      "/import/silo2/aloe8475/Documents/CODE/Analysis/Functional Connectivity/Functional Tasks\n"
     ]
    }
   ],
   "source": [
    "cd \"/import/silo2/aloe8475/Documents/CODE/Analysis/Functional Connectivity/Functional Tasks/\""
   ]
  },
  {
   "cell_type": "code",
   "execution_count": 139,
   "metadata": {},
   "outputs": [
    {
     "data": {
      "application/vnd.jupyter.widget-view+json": {
       "model_id": "3e5b0741e4d14fc695ea229e054da610",
       "version_major": 2,
       "version_minor": 0
      },
      "text/plain": [
       "HBox(children=(IntProgress(value=0, max=300), HTML(value='')))"
      ]
     },
     "metadata": {},
     "output_type": "display_data"
    },
    {
     "ename": "KeyboardInterrupt",
     "evalue": "",
     "output_type": "error",
     "traceback": [
      "\u001b[0;31m---------------------------------------------------------------------------\u001b[0m",
      "\u001b[0;31mKeyboardInterrupt\u001b[0m                         Traceback (most recent call last)",
      "\u001b[0;32m<ipython-input-139-f899d880b4d5>\u001b[0m in \u001b[0;36m<module>\u001b[0;34m\u001b[0m\n\u001b[1;32m     10\u001b[0m     \u001b[0mBA_scaleFree\u001b[0m\u001b[0;34m[\u001b[0m\u001b[0mi\u001b[0m\u001b[0;34m]\u001b[0m\u001b[0;34m[\u001b[0m\u001b[0;34m'G'\u001b[0m\u001b[0;34m]\u001b[0m\u001b[0;34m=\u001b[0m\u001b[0mscaleFree\u001b[0m\u001b[0;34m[\u001b[0m\u001b[0mi\u001b[0m\u001b[0;34m]\u001b[0m\u001b[0;34m\u001b[0m\u001b[0;34m\u001b[0m\u001b[0m\n\u001b[1;32m     11\u001b[0m     \u001b[0mclustering\u001b[0m\u001b[0;34m=\u001b[0m\u001b[0mnx\u001b[0m\u001b[0;34m.\u001b[0m\u001b[0mclustering\u001b[0m\u001b[0;34m(\u001b[0m\u001b[0mBA_scaleFree\u001b[0m\u001b[0;34m[\u001b[0m\u001b[0mi\u001b[0m\u001b[0;34m]\u001b[0m\u001b[0;34m[\u001b[0m\u001b[0;34m'G'\u001b[0m\u001b[0;34m]\u001b[0m\u001b[0;34m)\u001b[0m\u001b[0;34m\u001b[0m\u001b[0;34m\u001b[0m\u001b[0m\n\u001b[0;32m---> 12\u001b[0;31m     \u001b[0mBA_scaleFree\u001b[0m\u001b[0;34m[\u001b[0m\u001b[0mi\u001b[0m\u001b[0;34m]\u001b[0m\u001b[0;34m[\u001b[0m\u001b[0;34m'Graph Theory'\u001b[0m\u001b[0;34m]\u001b[0m\u001b[0;34m[\u001b[0m\u001b[0;34m'PL'\u001b[0m\u001b[0;34m]\u001b[0m\u001b[0;34m=\u001b[0m\u001b[0mdict\u001b[0m\u001b[0;34m(\u001b[0m\u001b[0mnx\u001b[0m\u001b[0;34m.\u001b[0m\u001b[0mall_pairs_shortest_path_length\u001b[0m\u001b[0;34m(\u001b[0m\u001b[0mBA_scaleFree\u001b[0m\u001b[0;34m[\u001b[0m\u001b[0mi\u001b[0m\u001b[0;34m]\u001b[0m\u001b[0;34m[\u001b[0m\u001b[0;34m'G'\u001b[0m\u001b[0;34m]\u001b[0m\u001b[0;34m)\u001b[0m\u001b[0;34m)\u001b[0m\u001b[0;34m\u001b[0m\u001b[0;34m\u001b[0m\u001b[0m\n\u001b[0m\u001b[1;32m     13\u001b[0m     \u001b[0mBA_scaleFree\u001b[0m\u001b[0;34m[\u001b[0m\u001b[0mi\u001b[0m\u001b[0;34m]\u001b[0m\u001b[0;34m[\u001b[0m\u001b[0;34m'Graph Theory'\u001b[0m\u001b[0;34m]\u001b[0m\u001b[0;34m[\u001b[0m\u001b[0;34m'Modularity'\u001b[0m\u001b[0;34m]\u001b[0m\u001b[0;34m=\u001b[0m\u001b[0mci\u001b[0m\u001b[0;34m\u001b[0m\u001b[0;34m\u001b[0m\u001b[0m\n\u001b[1;32m     14\u001b[0m     \u001b[0mBA_scaleFree\u001b[0m\u001b[0;34m[\u001b[0m\u001b[0mi\u001b[0m\u001b[0;34m]\u001b[0m\u001b[0;34m[\u001b[0m\u001b[0;34m'Graph Theory'\u001b[0m\u001b[0;34m]\u001b[0m\u001b[0;34m[\u001b[0m\u001b[0;34m'Modularity Score'\u001b[0m\u001b[0;34m]\u001b[0m\u001b[0;34m=\u001b[0m\u001b[0mq\u001b[0m\u001b[0;34m\u001b[0m\u001b[0;34m\u001b[0m\u001b[0m\n",
      "\u001b[0;32m~/anaconda3/lib/python3.7/site-packages/networkx/algorithms/shortest_paths/unweighted.py\u001b[0m in \u001b[0;36mall_pairs_shortest_path_length\u001b[0;34m(G, cutoff)\u001b[0m\n\u001b[1;32m    184\u001b[0m     \u001b[0;31m# TODO This can be trivially parallelized.\u001b[0m\u001b[0;34m\u001b[0m\u001b[0;34m\u001b[0m\u001b[0;34m\u001b[0m\u001b[0m\n\u001b[1;32m    185\u001b[0m     \u001b[0;32mfor\u001b[0m \u001b[0mn\u001b[0m \u001b[0;32min\u001b[0m \u001b[0mG\u001b[0m\u001b[0;34m:\u001b[0m\u001b[0;34m\u001b[0m\u001b[0;34m\u001b[0m\u001b[0m\n\u001b[0;32m--> 186\u001b[0;31m         \u001b[0;32myield\u001b[0m \u001b[0;34m(\u001b[0m\u001b[0mn\u001b[0m\u001b[0;34m,\u001b[0m \u001b[0mlength\u001b[0m\u001b[0;34m(\u001b[0m\u001b[0mG\u001b[0m\u001b[0;34m,\u001b[0m \u001b[0mn\u001b[0m\u001b[0;34m,\u001b[0m \u001b[0mcutoff\u001b[0m\u001b[0;34m=\u001b[0m\u001b[0mcutoff\u001b[0m\u001b[0;34m)\u001b[0m\u001b[0;34m)\u001b[0m\u001b[0;34m\u001b[0m\u001b[0;34m\u001b[0m\u001b[0m\n\u001b[0m\u001b[1;32m    187\u001b[0m \u001b[0;34m\u001b[0m\u001b[0m\n\u001b[1;32m    188\u001b[0m \u001b[0;34m\u001b[0m\u001b[0m\n",
      "\u001b[0;32m~/anaconda3/lib/python3.7/site-packages/networkx/algorithms/shortest_paths/unweighted.py\u001b[0m in \u001b[0;36msingle_source_shortest_path_length\u001b[0;34m(G, source, cutoff)\u001b[0m\n\u001b[1;32m     64\u001b[0m         \u001b[0mcutoff\u001b[0m \u001b[0;34m=\u001b[0m \u001b[0mfloat\u001b[0m\u001b[0;34m(\u001b[0m\u001b[0;34m'inf'\u001b[0m\u001b[0;34m)\u001b[0m\u001b[0;34m\u001b[0m\u001b[0;34m\u001b[0m\u001b[0m\n\u001b[1;32m     65\u001b[0m     \u001b[0mnextlevel\u001b[0m \u001b[0;34m=\u001b[0m \u001b[0;34m{\u001b[0m\u001b[0msource\u001b[0m\u001b[0;34m:\u001b[0m \u001b[0;36m1\u001b[0m\u001b[0;34m}\u001b[0m\u001b[0;34m\u001b[0m\u001b[0;34m\u001b[0m\u001b[0m\n\u001b[0;32m---> 66\u001b[0;31m     \u001b[0;32mreturn\u001b[0m \u001b[0mdict\u001b[0m\u001b[0;34m(\u001b[0m\u001b[0m_single_shortest_path_length\u001b[0m\u001b[0;34m(\u001b[0m\u001b[0mG\u001b[0m\u001b[0;34m.\u001b[0m\u001b[0madj\u001b[0m\u001b[0;34m,\u001b[0m \u001b[0mnextlevel\u001b[0m\u001b[0;34m,\u001b[0m \u001b[0mcutoff\u001b[0m\u001b[0;34m)\u001b[0m\u001b[0;34m)\u001b[0m\u001b[0;34m\u001b[0m\u001b[0;34m\u001b[0m\u001b[0m\n\u001b[0m\u001b[1;32m     67\u001b[0m \u001b[0;34m\u001b[0m\u001b[0m\n\u001b[1;32m     68\u001b[0m \u001b[0;34m\u001b[0m\u001b[0m\n",
      "\u001b[0;32m~/anaconda3/lib/python3.7/site-packages/networkx/algorithms/shortest_paths/unweighted.py\u001b[0m in \u001b[0;36m_single_shortest_path_length\u001b[0;34m(adj, firstlevel, cutoff)\u001b[0m\n\u001b[1;32m     90\u001b[0m             \u001b[0;32mif\u001b[0m \u001b[0mv\u001b[0m \u001b[0;32mnot\u001b[0m \u001b[0;32min\u001b[0m \u001b[0mseen\u001b[0m\u001b[0;34m:\u001b[0m\u001b[0;34m\u001b[0m\u001b[0;34m\u001b[0m\u001b[0m\n\u001b[1;32m     91\u001b[0m                 \u001b[0mseen\u001b[0m\u001b[0;34m[\u001b[0m\u001b[0mv\u001b[0m\u001b[0;34m]\u001b[0m \u001b[0;34m=\u001b[0m \u001b[0mlevel\u001b[0m  \u001b[0;31m# set the level of vertex v\u001b[0m\u001b[0;34m\u001b[0m\u001b[0;34m\u001b[0m\u001b[0m\n\u001b[0;32m---> 92\u001b[0;31m                 \u001b[0mnextlevel\u001b[0m\u001b[0;34m.\u001b[0m\u001b[0mupdate\u001b[0m\u001b[0;34m(\u001b[0m\u001b[0madj\u001b[0m\u001b[0;34m[\u001b[0m\u001b[0mv\u001b[0m\u001b[0;34m]\u001b[0m\u001b[0;34m)\u001b[0m  \u001b[0;31m# add neighbors of v\u001b[0m\u001b[0;34m\u001b[0m\u001b[0;34m\u001b[0m\u001b[0m\n\u001b[0m\u001b[1;32m     93\u001b[0m                 \u001b[0;32myield\u001b[0m \u001b[0;34m(\u001b[0m\u001b[0mv\u001b[0m\u001b[0;34m,\u001b[0m \u001b[0mlevel\u001b[0m\u001b[0;34m)\u001b[0m\u001b[0;34m\u001b[0m\u001b[0;34m\u001b[0m\u001b[0m\n\u001b[1;32m     94\u001b[0m         \u001b[0mlevel\u001b[0m \u001b[0;34m+=\u001b[0m \u001b[0;36m1\u001b[0m\u001b[0;34m\u001b[0m\u001b[0;34m\u001b[0m\u001b[0m\n",
      "\u001b[0;32m~/anaconda3/lib/python3.7/site-packages/networkx/classes/coreviews.py\u001b[0m in \u001b[0;36m__getitem__\u001b[0;34m(self, key)\u001b[0m\n\u001b[1;32m     52\u001b[0m \u001b[0;34m\u001b[0m\u001b[0m\n\u001b[1;32m     53\u001b[0m     \u001b[0;32mdef\u001b[0m \u001b[0m__getitem__\u001b[0m\u001b[0;34m(\u001b[0m\u001b[0mself\u001b[0m\u001b[0;34m,\u001b[0m \u001b[0mkey\u001b[0m\u001b[0;34m)\u001b[0m\u001b[0;34m:\u001b[0m\u001b[0;34m\u001b[0m\u001b[0;34m\u001b[0m\u001b[0m\n\u001b[0;32m---> 54\u001b[0;31m         \u001b[0;32mreturn\u001b[0m \u001b[0mself\u001b[0m\u001b[0;34m.\u001b[0m\u001b[0m_atlas\u001b[0m\u001b[0;34m[\u001b[0m\u001b[0mkey\u001b[0m\u001b[0;34m]\u001b[0m\u001b[0;34m\u001b[0m\u001b[0;34m\u001b[0m\u001b[0m\n\u001b[0m\u001b[1;32m     55\u001b[0m \u001b[0;34m\u001b[0m\u001b[0m\n\u001b[1;32m     56\u001b[0m     \u001b[0;32mdef\u001b[0m \u001b[0mcopy\u001b[0m\u001b[0;34m(\u001b[0m\u001b[0mself\u001b[0m\u001b[0;34m)\u001b[0m\u001b[0;34m:\u001b[0m\u001b[0;34m\u001b[0m\u001b[0;34m\u001b[0m\u001b[0m\n",
      "\u001b[0;32m~/anaconda3/lib/python3.7/site-packages/networkx/classes/coreviews.py\u001b[0m in \u001b[0;36m__getitem__\u001b[0;34m(self, key)\u001b[0m\n\u001b[1;32m    277\u001b[0m \u001b[0;34m\u001b[0m\u001b[0m\n\u001b[1;32m    278\u001b[0m     \u001b[0;32mdef\u001b[0m \u001b[0m__getitem__\u001b[0m\u001b[0;34m(\u001b[0m\u001b[0mself\u001b[0m\u001b[0;34m,\u001b[0m \u001b[0mkey\u001b[0m\u001b[0;34m)\u001b[0m\u001b[0;34m:\u001b[0m\u001b[0;34m\u001b[0m\u001b[0;34m\u001b[0m\u001b[0m\n\u001b[0;32m--> 279\u001b[0;31m         \u001b[0;32mif\u001b[0m \u001b[0mkey\u001b[0m \u001b[0;32min\u001b[0m \u001b[0mself\u001b[0m\u001b[0;34m.\u001b[0m\u001b[0m_atlas\u001b[0m \u001b[0;32mand\u001b[0m \u001b[0mself\u001b[0m\u001b[0;34m.\u001b[0m\u001b[0mNODE_OK\u001b[0m\u001b[0;34m(\u001b[0m\u001b[0mkey\u001b[0m\u001b[0;34m)\u001b[0m\u001b[0;34m:\u001b[0m\u001b[0;34m\u001b[0m\u001b[0;34m\u001b[0m\u001b[0m\n\u001b[0m\u001b[1;32m    280\u001b[0m             \u001b[0;32mreturn\u001b[0m \u001b[0mself\u001b[0m\u001b[0;34m.\u001b[0m\u001b[0m_atlas\u001b[0m\u001b[0;34m[\u001b[0m\u001b[0mkey\u001b[0m\u001b[0;34m]\u001b[0m\u001b[0;34m\u001b[0m\u001b[0;34m\u001b[0m\u001b[0m\n\u001b[1;32m    281\u001b[0m         \u001b[0;32mraise\u001b[0m \u001b[0mKeyError\u001b[0m\u001b[0;34m(\u001b[0m\u001b[0;34m\"Key {} not found\"\u001b[0m\u001b[0;34m.\u001b[0m\u001b[0mformat\u001b[0m\u001b[0;34m(\u001b[0m\u001b[0mkey\u001b[0m\u001b[0;34m)\u001b[0m\u001b[0;34m)\u001b[0m\u001b[0;34m\u001b[0m\u001b[0;34m\u001b[0m\u001b[0m\n",
      "\u001b[0;32m~/anaconda3/lib/python3.7/site-packages/networkx/classes/coreviews.py\u001b[0m in \u001b[0;36mnew_node_ok\u001b[0;34m(nbr)\u001b[0m\n\u001b[1;32m    321\u001b[0m         \u001b[0;32mif\u001b[0m \u001b[0mnode\u001b[0m \u001b[0;32min\u001b[0m \u001b[0mself\u001b[0m\u001b[0;34m.\u001b[0m\u001b[0m_atlas\u001b[0m \u001b[0;32mand\u001b[0m \u001b[0mself\u001b[0m\u001b[0;34m.\u001b[0m\u001b[0mNODE_OK\u001b[0m\u001b[0;34m(\u001b[0m\u001b[0mnode\u001b[0m\u001b[0;34m)\u001b[0m\u001b[0;34m:\u001b[0m\u001b[0;34m\u001b[0m\u001b[0;34m\u001b[0m\u001b[0m\n\u001b[1;32m    322\u001b[0m             \u001b[0;32mdef\u001b[0m \u001b[0mnew_node_ok\u001b[0m\u001b[0;34m(\u001b[0m\u001b[0mnbr\u001b[0m\u001b[0;34m)\u001b[0m\u001b[0;34m:\u001b[0m\u001b[0;34m\u001b[0m\u001b[0;34m\u001b[0m\u001b[0m\n\u001b[0;32m--> 323\u001b[0;31m                 \u001b[0;32mreturn\u001b[0m \u001b[0mself\u001b[0m\u001b[0;34m.\u001b[0m\u001b[0mNODE_OK\u001b[0m\u001b[0;34m(\u001b[0m\u001b[0mnbr\u001b[0m\u001b[0;34m)\u001b[0m \u001b[0;32mand\u001b[0m \u001b[0mself\u001b[0m\u001b[0;34m.\u001b[0m\u001b[0mEDGE_OK\u001b[0m\u001b[0;34m(\u001b[0m\u001b[0mnode\u001b[0m\u001b[0;34m,\u001b[0m \u001b[0mnbr\u001b[0m\u001b[0;34m)\u001b[0m\u001b[0;34m\u001b[0m\u001b[0;34m\u001b[0m\u001b[0m\n\u001b[0m\u001b[1;32m    324\u001b[0m             \u001b[0;32mreturn\u001b[0m \u001b[0mFilterAtlas\u001b[0m\u001b[0;34m(\u001b[0m\u001b[0mself\u001b[0m\u001b[0;34m.\u001b[0m\u001b[0m_atlas\u001b[0m\u001b[0;34m[\u001b[0m\u001b[0mnode\u001b[0m\u001b[0;34m]\u001b[0m\u001b[0;34m,\u001b[0m \u001b[0mnew_node_ok\u001b[0m\u001b[0;34m)\u001b[0m\u001b[0;34m\u001b[0m\u001b[0;34m\u001b[0m\u001b[0m\n\u001b[1;32m    325\u001b[0m         \u001b[0;32mraise\u001b[0m \u001b[0mKeyError\u001b[0m\u001b[0;34m(\u001b[0m\u001b[0;34m\"Key {} not found\"\u001b[0m\u001b[0;34m.\u001b[0m\u001b[0mformat\u001b[0m\u001b[0;34m(\u001b[0m\u001b[0mnode\u001b[0m\u001b[0;34m)\u001b[0m\u001b[0;34m)\u001b[0m\u001b[0;34m\u001b[0m\u001b[0;34m\u001b[0m\u001b[0m\n",
      "\u001b[0;31mKeyboardInterrupt\u001b[0m: "
     ]
    }
   ],
   "source": [
    "# WS:\n",
    "ci = []\n",
    "pcoeff= []\n",
    "mz= []\n",
    "clustering = []\n",
    "for i in tqdm(range(len(BA_scaleFree))):\n",
    "    ci,q=nct.community_louvain(np.squeeze(np.asarray(BA_scaleFree[i]['adj_matrix'])))\n",
    "    pcoeff=bct.participation_coef(np.squeeze(np.asarray(BA_scaleFree[i]['adj_matrix'])),ci)\n",
    "    mz=bct.module_degree_zscore(np.squeeze(np.asarray(BA_scaleFree[i]['adj_matrix'])),ci)\n",
    "    BA_scaleFree[i]['G']=scaleFree[i]\n",
    "    clustering=nx.clustering(BA_scaleFree[i]['G'])\n",
    "    BA_scaleFree[i]['Graph Theory']['PL']=dict(nx.all_pairs_shortest_path_length(BA_scaleFree[i]['G']))\n",
    "    BA_scaleFree[i]['Graph Theory']['Modularity']=ci\n",
    "    BA_scaleFree[i]['Graph Theory']['Modularity Score']=q\n",
    "    BA_scaleFree[i]['Graph Theory']['PCoeff']=pcoeff\n",
    "    BA_scaleFree[i]['Graph Theory']['MZ']=mz\n",
    "    BA_scaleFree[i]['Graph Theory']['Small World']=smallworld_ba[0][i]\n",
    "    BA_scaleFree[i]['Graph Theory']['CCoeff']=clustering\n",
    "    BA_scaleFree[i]['Graph Theory']['Degree']=nx.degree(BA_scaleFree[i]['G'])\n",
    "    BA_scaleFree[i]['Graph Theory']['AvgPL']=nx.average_shortest_path_length(BA_scaleFree[i]['G'])"
   ]
  },
  {
   "cell_type": "code",
   "execution_count": null,
   "metadata": {},
   "outputs": [],
   "source": [
    "name='BA_Allnetworks_LinearTransformation.pkl'\n",
    "print('Saving BA')\n",
    "with open(name, 'wb') as f:\n",
    "    pickle.dump([BA_scaleFree], f)  "
   ]
  },
  {
   "cell_type": "markdown",
   "metadata": {},
   "source": [
    "# Bipartite Memristor Crossbar Networks:"
   ]
  },
  {
   "cell_type": "code",
   "execution_count": 140,
   "metadata": {},
   "outputs": [],
   "source": [
    "from networkx.algorithms import bipartite\n",
    "#draw bipartite_layout using pos"
   ]
  },
  {
   "cell_type": "code",
   "execution_count": 141,
   "metadata": {},
   "outputs": [],
   "source": [
    "crossbar=[]\n",
    "crossbar={'seed':[],'adj_matrix':[],'G':[],'Accuracy':{'Linear Transformation':[],'Memory Capacity':[]},'Graph Theory':{'Small World':[],'Modularity':[],'CCoeff':[],'MZ':[],'PCoeff':[],'PL':[]}}"
   ]
  },
  {
   "cell_type": "code",
   "execution_count": 142,
   "metadata": {},
   "outputs": [],
   "source": [
    "crossbar_graph=bipartite.generators.gnmk_random_graph(150,150,150**2)\n",
    "top = nx.bipartite.sets(crossbar_graph)[0]\n",
    "pos=nx.bipartite_layout(crossbar_graph,top)"
   ]
  },
  {
   "cell_type": "code",
   "execution_count": 143,
   "metadata": {},
   "outputs": [
    {
     "data": {
      "text/plain": [
       "<matplotlib.collections.PathCollection at 0x7f2f58f1b748>"
      ]
     },
     "execution_count": 143,
     "metadata": {},
     "output_type": "execute_result"
    },
    {
     "data": {
      "image/png": "[encoded data removed]",
      "text/plain": [
       "<Figure size 432x288 with 1 Axes>"
      ]
     },
     "metadata": {},
     "output_type": "display_data"
    }
   ],
   "source": [
    "nx.draw(crossbar_graph,pos=pos, node_color='r')\n",
    "nx.draw_networkx_nodes(crossbar_graph, nodelist=[0,299],pos=pos, node_color='g')\n"
   ]
  },
  {
   "cell_type": "code",
   "execution_count": 144,
   "metadata": {},
   "outputs": [],
   "source": [
    "temp=[]\n",
    "shortestPath_crossbar=[]\n",
    "onAmp_crossbar=[]\n",
    "\n",
    "temp=[np.array([0,299])]#.append(getFarthestPairing(nx.adj_matrix(crossbar_graph).todense()))\n",
    "shortestPath_crossbar=(nx.shortest_path_length(crossbar_graph,temp[0][0],temp[0][1]))\n",
    "onAmp_crossbar=(shortestPath_crossbar/5)"
   ]
  },
  {
   "cell_type": "code",
   "execution_count": 145,
   "metadata": {},
   "outputs": [],
   "source": [
    "electrodes=temp"
   ]
  },
  {
   "cell_type": "code",
   "execution_count": 146,
   "metadata": {},
   "outputs": [],
   "source": [
    "nodesList=[50,100,150,200,250,len(crossbar_graph)]#range(50, len(ws300[i][0])+1,50)"
   ]
  },
  {
   "cell_type": "code",
   "execution_count": 147,
   "metadata": {},
   "outputs": [],
   "source": [
    "def crossbar_Run(graph,onAmp,nodesList,network,electrodes):\n",
    "    stimulus=[[],[]]\n",
    "    dt = 1e-2\n",
    "    f=0.5\n",
    "    Time=5\n",
    "    stimulus[0]=(stimulus__(biasType='AC',onAmp=onAmp,TimeVector=np.arange(0,Time,dt),f=f))\n",
    "    stimulus[1]=(stimulus__(biasType='Drain',TimeVector=np.arange(0,Time,dt))) #we don't want this drain to be active during training\n",
    "\n",
    "    stimulus2 = [item for item in stimulus] #go through each list in the list and find the ith item\n",
    "\n",
    "    results_grid=(runSim(connectivity__(graph=graph),stimulus=stimulus2, contactMode='preSet',electrodes=electrodes[0], T = Time, dt = dt, onAmp = onAmp, biasType='AC',f=f,junctionMode='tunneling'))\n",
    "#     period=1/f\n",
    "    \n",
    "    nwSqu=[None]*len(nodesList)\n",
    "    countk=0\n",
    "    for k in nodesList: #loop through sets of nodes for regression     \n",
    "        print('Running Crossbar Network Regression: ' + str(k) + ' nodes')\n",
    "        ResultSqu=[]\n",
    "        ResultSqu = nonLinearTrans(results_grid,'Square',k, repeats=50) #simulation, type of signal, number of nodes to sample from, number of linear regression repetitions (take avg)\n",
    "        nwSqu[countk]=(ResultSqu['accuracy'])\n",
    "        countk=countk+1\n",
    "        if k == nodesList[-1]: #if k is equal to the largest node sampling\n",
    "            network['Accuracy']['Linear Transformation']=[]\n",
    "            network['Accuracy']['Linear Transformation'].append(nwSqu)\n",
    "#             print(WS_Grid[i]['Accuracy']['Linear Transformation'])\n",
    "        else:\n",
    "            network['Accuracy']['Linear Transformation']=[None]\n",
    "    \n",
    "    accNetwork=nwSqu\n",
    "    return accNetwork,network,results_grid"
   ]
  },
  {
   "cell_type": "code",
   "execution_count": 148,
   "metadata": {},
   "outputs": [
    {
     "data": {
      "application/vnd.jupyter.widget-view+json": {
       "model_id": "2598ab85dc774f66aa41ba07c0cc96c5",
       "version_major": 2,
       "version_minor": 0
      },
      "text/plain": [
       "HBox(children=(IntProgress(value=0, description='Running Simulation ', max=500, style=ProgressStyle(descriptio…"
      ]
     },
     "metadata": {},
     "output_type": "display_data"
    },
    {
     "name": "stderr",
     "output_type": "stream",
     "text": [
      "2020-06-17 15:59:36,659:INFO:First current path [0, 299] formed at time = 0.75 s.\n"
     ]
    },
    {
     "name": "stdout",
     "output_type": "stream",
     "text": [
      "Running Crossbar Network Regression: 50 nodes\n",
      "Running Crossbar Network Regression: 100 nodes\n",
      "Running Crossbar Network Regression: 150 nodes\n",
      "Running Crossbar Network Regression: 200 nodes\n",
      "Running Crossbar Network Regression: 250 nodes\n",
      "Running Crossbar Network Regression: 300 nodes\n"
     ]
    }
   ],
   "source": [
    "# results_grid=[]\n",
    "# results_rand=[]\n",
    "results=crossbar_Run(crossbar_graph,onAmp_crossbar,nodesList,crossbar,electrodes)"
   ]
  },
  {
   "cell_type": "code",
   "execution_count": 149,
   "metadata": {},
   "outputs": [],
   "source": [
    "junctionsOn=[]\n",
    "for i in range(len(results[2].junctionSwitch)):\n",
    "    junctionsOn.append(np.sum(results[2].junctionSwitch[i]))"
   ]
  },
  {
   "cell_type": "code",
   "execution_count": 150,
   "metadata": {},
   "outputs": [
    {
     "data": {
      "text/plain": [
       "[<matplotlib.lines.Line2D at 0x7f2f57a1d898>]"
      ]
     },
     "execution_count": 150,
     "metadata": {},
     "output_type": "execute_result"
    },
    {
     "data": {
      "image/png": "[encoded data removed]",
      "text/plain": [
       "<Figure size 432x288 with 1 Axes>"
      ]
     },
     "metadata": {
      "needs_background": "light"
     },
     "output_type": "display_data"
    }
   ],
   "source": [
    "plt.plot(junctionsOn)"
   ]
  },
  {
   "cell_type": "code",
   "execution_count": 151,
   "metadata": {},
   "outputs": [
    {
     "data": {
      "text/plain": [
       "[<matplotlib.lines.Line2D at 0x7f2f58173c88>]"
      ]
     },
     "execution_count": 151,
     "metadata": {},
     "output_type": "execute_result"
    },
    {
     "data": {
      "image/png": "[encoded data removed]",
      "text/plain": [
       "<Figure size 432x288 with 1 Axes>"
      ]
     },
     "metadata": {
      "needs_background": "light"
     },
     "output_type": "display_data"
    }
   ],
   "source": [
    "plt.plot(results[2].conductance)"
   ]
  },
  {
   "cell_type": "code",
   "execution_count": 152,
   "metadata": {},
   "outputs": [
    {
     "data": {
      "text/plain": [
       "[0.6517092682124199,\n",
       " 0.6517092736439182,\n",
       " 0.6517092756900961,\n",
       " 0.6517092748550241,\n",
       " 0.6517092760040558,\n",
       " 0.6517092764158053]"
      ]
     },
     "execution_count": 152,
     "metadata": {},
     "output_type": "execute_result"
    }
   ],
   "source": [
    "results[0]"
   ]
  },
  {
   "cell_type": "code",
   "execution_count": 153,
   "metadata": {},
   "outputs": [],
   "source": [
    "crossbar['Accuracy']['Linear Transformation']=results[0]"
   ]
  },
  {
   "cell_type": "code",
   "execution_count": 155,
   "metadata": {},
   "outputs": [],
   "source": [
    "#export adj matrices to calculate small worldness in matlab:\n",
    "adj_mats={\"AdjMat_bipartite\":[]}\n",
    "adj_mats['AdjMat_bipartite'].append(dict(crossbar=nx.adj_matrix(crossbar_graph).todense()))\n",
    "crossbar['adj_matrix']=nx.adj_matrix(crossbar_graph).todense()\n",
    "savemat('/import/silo2/aloe8475/Documents/CODE/Data/Functional Connectivity/300_bapartite_AllASN.mat',adj_mats)"
   ]
  },
  {
   "cell_type": "code",
   "execution_count": 156,
   "metadata": {},
   "outputs": [],
   "source": [
    "# WS:\n",
    "ci = []\n",
    "pcoeff= []\n",
    "mz= []\n",
    "clustering = []\n",
    "ci,q=nct.community_louvain(np.squeeze(np.asarray(crossbar['adj_matrix'])))\n",
    "pcoeff=bct.participation_coef(np.squeeze(np.asarray(crossbar['adj_matrix'])),ci)\n",
    "mz=bct.module_degree_zscore(np.squeeze(np.asarray(crossbar['adj_matrix'])),ci)\n",
    "crossbar['G']=crossbar_graph\n",
    "clustering=nx.clustering(crossbar['G'])\n",
    "crossbar['Graph Theory']['PL']=dict(nx.all_pairs_shortest_path_length(crossbar['G']))\n",
    "crossbar['Graph Theory']['Modularity']=ci\n",
    "crossbar['Graph Theory']['Modularity Score']=q\n",
    "crossbar['Graph Theory']['PCoeff']=pcoeff\n",
    "crossbar['Graph Theory']['MZ']=mz\n",
    "crossbar['Graph Theory']['Small World']=0#smallworld_ba[0][i] #smallworld is 0 from matlab\n",
    "crossbar['Graph Theory']['CCoeff']=clustering\n",
    "crossbar['Graph Theory']['Degree']=nx.degree(crossbar['G'])\n",
    "crossbar['Graph Theory']['AvgPL']=nx.average_shortest_path_length(crossbar['G'])"
   ]
  },
  {
   "cell_type": "code",
   "execution_count": 157,
   "metadata": {},
   "outputs": [
    {
     "name": "stdout",
     "output_type": "stream",
     "text": [
      "Saving Barpartite\n"
     ]
    }
   ],
   "source": [
    "name='Barpartite_Allnetworks_LinearTransformation.pkl'\n",
    "print('Saving Barpartite')\n",
    "with open(name, 'wb') as f:\n",
    "    pickle.dump([crossbar], f)  "
   ]
  },
  {
   "cell_type": "code",
   "execution_count": null,
   "metadata": {},
   "outputs": [],
   "source": []
  }
 ],
 "metadata": {
  "kernelspec": {
   "display_name": "Python 3",
   "language": "python",
   "name": "python3"
  },
  "language_info": {
   "codemirror_mode": {
    "name": "ipython",
    "version": 3
   },
   "file_extension": ".py",
   "mimetype": "text/x-python",
   "name": "python",
   "nbconvert_exporter": "python",
   "pygments_lexer": "ipython3",
   "version": "3.7.3"
  }
 },
 "nbformat": 4,
 "nbformat_minor": 2
}
