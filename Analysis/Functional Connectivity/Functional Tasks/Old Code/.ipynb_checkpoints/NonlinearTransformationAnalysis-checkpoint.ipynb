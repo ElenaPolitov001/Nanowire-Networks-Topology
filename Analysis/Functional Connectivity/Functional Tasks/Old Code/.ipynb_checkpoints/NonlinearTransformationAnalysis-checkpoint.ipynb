{
 "cells": [
  {
   "cell_type": "markdown",
   "metadata": {},
   "source": [
    "# Functional Comparison of ASN with WS and C. Elegans"
   ]
  },
  {
   "cell_type": "markdown",
   "metadata": {},
   "source": [
    "This notebook generates 24 different ASN networks with 300 nodes, each of which has differing parameters (Average Path length, Wire Dispersion and Centroid Dispersion). \n",
    "\n",
    "We then find the average degree for each ASN network, and use that as 2k to generate corresponding grid-like, small-world and random Watts-Strogatz networks.\n",
    "\n",
    "We also load a sample C. Elegans network for comparison."
   ]
  },
  {
   "cell_type": "code",
   "execution_count": 1,
   "metadata": {},
   "outputs": [],
   "source": [
    "# !jupyter notebook --version\n",
    "# !python --version\n",
    "# !conda --version\n",
    "# # !jupyter trust RunTasksDifferentNetworks_MultipleNetworks.ipynb"
   ]
  },
  {
   "cell_type": "code",
   "execution_count": 1,
   "metadata": {
    "scrolled": true
   },
   "outputs": [
    {
     "name": "stdout",
     "output_type": "stream",
     "text": [
      "/suphys/aloe8475\n"
     ]
    }
   ],
   "source": [
    "cd"
   ]
  },
  {
   "cell_type": "code",
   "execution_count": 2,
   "metadata": {},
   "outputs": [
    {
     "name": "stdout",
     "output_type": "stream",
     "text": [
      "/import/silo2/aloe8475/Documents/edamame\n"
     ]
    }
   ],
   "source": [
    "cd \"Documents/edamame\""
   ]
  },
  {
   "cell_type": "code",
   "execution_count": 3,
   "metadata": {},
   "outputs": [],
   "source": [
    "from scipy.io import loadmat, savemat\n",
    "from scipy.stats import kurtosis\n",
    "\n",
    "import numpy as np\n",
    "import matplotlib.pyplot as plt\n",
    "from matplotlib import colors\n",
    "import datetime\n",
    "import networkx as nx\n",
    "from edamame import *\n",
    "from tqdm.notebook import tqdm_notebook\n",
    "import os\n",
    "import edamame.core.wires as wires\n",
    "from random import choice\n",
    "import warnings\n",
    "from IPython.core.debugger import set_trace\n",
    "import nct\n",
    "import bct\n",
    "\n",
    "#warnings.filterwarnings('ignore')"
   ]
  },
  {
   "cell_type": "markdown",
   "metadata": {},
   "source": [
    "## Functions:"
   ]
  },
  {
   "cell_type": "code",
   "execution_count": 4,
   "metadata": {},
   "outputs": [],
   "source": [
    "import pickle \n",
    "import _pickle as cPickle\n",
    "import gzip\n",
    "def compressed_pickle(obj, filename,protocol=-1):\n",
    "    with gzip.open(filename, 'wb') as f:\n",
    "        cPickle.dump(obj, f, protocol)"
   ]
  },
  {
   "cell_type": "code",
   "execution_count": 5,
   "metadata": {},
   "outputs": [],
   "source": [
    "def decompress_pickle(file):\n",
    "    with gzip.open(file, 'rb') as f:\n",
    "        loaded_object = cPickle.load(f)\n",
    "        return loaded_object"
   ]
  },
  {
   "cell_type": "code",
   "execution_count": 6,
   "metadata": {},
   "outputs": [],
   "source": [
    "# this_seed2=700\n",
    "def connected_component_subgraphs(G):\n",
    "    for c in nx.connected_components(G):\n",
    "        yield G.subgraph(c)"
   ]
  },
  {
   "cell_type": "code",
   "execution_count": 7,
   "metadata": {},
   "outputs": [],
   "source": [
    "#Select Largest Components\n",
    "def select_largest_component_new(wires_dict):\n",
    "    \"\"\"\n",
    "    Find and select largest connected component of the original graph G.\n",
    "    Throws away unconnected components and updates all the keys in wires_dict \n",
    "    \"\"\"\n",
    "#     def connected_component_subgraphs(G):\n",
    "#         for c in nx.connected_components(G):\n",
    "#             yield G.subgraph(c)\n",
    "    \n",
    "    wires_dict['G'] = max(connected_component_subgraphs(wires_dict['G']), key=len)\n",
    "#     set_trace()\n",
    "    nw = len(wires_dict['G'].nodes())\n",
    "    nj = len(wires_dict['G'].edges())   \n",
    "    \n",
    "    logging.info(\"The largest component has %5d nodes and %6d edges\", nw, nj)\n",
    "\n",
    "    # Replace values in the dictionary\n",
    "    wires_dict['number_of_wires']     = nw\n",
    "    wires_dict['number_of_junctions'] = nj\n",
    "    wires_dict['xa'] = wires_dict['xa'][wires_dict['G'].nodes()] \n",
    "    wires_dict['ya'] = wires_dict['ya'][wires_dict['G'].nodes()] \n",
    "    wires_dict['xb'] = wires_dict['xb'][wires_dict['G'].nodes()] \n",
    "    wires_dict['yb'] = wires_dict['yb'][wires_dict['G'].nodes()]\n",
    "    wires_dict['xc'] = wires_dict['xc'][wires_dict['G'].nodes()] \n",
    "    wires_dict['yc'] = wires_dict['yc'][wires_dict['G'].nodes()]\n",
    " \n",
    "    # Keep old edge_list\n",
    "    old_edge_list = [(ii, kk) for ii, kk in  zip(wires_dict['edge_list'][:, 0], wires_dict['edge_list'][:, 1])]\n",
    "    # Remove old edge list\n",
    "    wires_dict = wires.remove_key(wires_dict, 'edge_list') \n",
    "    # Save indices of intersections in the old graph\n",
    "    ind_dict = {key:value for value,key in enumerate(old_edge_list)}\n",
    "    new_edge_list = sorted([kk if kk[0] < kk[1] else (kk[1], kk[0]) for kk in wires_dict['G'].edges()], key=lambda x: x[0])\n",
    "    # Find intersection between the two sets\n",
    "    inter = set(ind_dict).intersection(new_edge_list)\n",
    "    # Retrieve edge indices/positions from the old list\n",
    "    edges_idx = [ind_dict[idx] for idx in inter]\n",
    "       \n",
    "    # These have length equal to number of junctions -- only get the ones we need\n",
    "    wires_dict['xi'] = wires_dict['xi'][edges_idx] \n",
    "    wires_dict['yi'] = wires_dict['yi'][edges_idx] \n",
    "    \n",
    "    # Get contiguous numbering of nodes\n",
    "    # Build node mapping \n",
    "    node_mapping    = {key:value for value, key in enumerate(sorted(wires_dict['G'].nodes()))}\n",
    "    # This  step also renames edges list\n",
    "    wires_dict['G'] =  nx.relabel_nodes(wires_dict['G'] , node_mapping)\n",
    "\n",
    "    # Swap node vertices if vertex 0 is larger than vertex 1, then sort by first element\n",
    "    wires_dict['edge_list'] = np.asarray(sorted([kk if kk[0] < kk[1] else (kk[1], kk[0]) for kk in wires_dict['G'].edges()], key=lambda x: x[0]))\n",
    "    \n",
    "    # Save adjacency matrix of new graph\n",
    "    wires_dict = wires.remove_key(wires_dict, 'adj_matrix') \n",
    "    wires_dict = wires.generate_adj_matrix(wires_dict)\n",
    "\n",
    "    wire_distances = wires.cdist(np.array([wires_dict['xc'], wires_dict['yc']]).T, np.array([wires_dict['xc'], wires_dict['yc']]).T, metric='euclidean')    \n",
    "    wires_dict['wire_distances'] = wire_distances\n",
    "\n",
    "    return wires_dict "
   ]
  },
  {
   "cell_type": "code",
   "execution_count": 9,
   "metadata": {},
   "outputs": [],
   "source": [
    "def community_layout(g, partition):\n",
    "    \"\"\"\n",
    "    Compute the layout for a modular graph.\n",
    "\n",
    "\n",
    "    Arguments:\n",
    "    ----------\n",
    "    g -- networkx.Graph or networkx.DiGraph instance\n",
    "        graph to plot\n",
    "\n",
    "    partition -- dict mapping int node -> int community\n",
    "        graph partitions\n",
    "\n",
    "\n",
    "    Returns:\n",
    "    --------\n",
    "    pos -- dict mapping int node -> (float x, float y)\n",
    "        node positions\n",
    "\n",
    "    \"\"\"\n",
    "\n",
    "    pos_communities = _position_communities(g, partition, scale=3.)\n",
    "\n",
    "    pos_nodes = _position_nodes(g, partition, scale=1.)\n",
    "\n",
    "    # combine positions\n",
    "    pos = dict()\n",
    "    for node in g.nodes():\n",
    "        pos[node] = pos_communities[node] + pos_nodes[node]\n",
    "\n",
    "    return pos\n",
    "\n",
    "def _position_communities(g, partition, **kwargs):\n",
    "\n",
    "    # create a weighted graph, in which each node corresponds to a community,\n",
    "    # and each edge weight to the number of edges between communities\n",
    "    between_community_edges = _find_between_community_edges(g, partition)\n",
    "\n",
    "    communities = set(partition.values())\n",
    "    hypergraph = nx.DiGraph()\n",
    "    hypergraph.add_nodes_from(communities)\n",
    "    for (ci, cj), edges in between_community_edges.items():\n",
    "        hypergraph.add_edge(ci, cj, weight=len(edges))\n",
    "\n",
    "    # find layout for communities\n",
    "    pos_communities = nx.spring_layout(hypergraph, **kwargs)\n",
    "\n",
    "    # set node positions to position of community\n",
    "    pos = dict()\n",
    "    for node, community in partition.items():\n",
    "        pos[node] = pos_communities[community]\n",
    "\n",
    "    return pos\n",
    "\n",
    "def _find_between_community_edges(g, partition):\n",
    "\n",
    "    edges = dict()\n",
    "\n",
    "    for (ni, nj) in g.edges():\n",
    "        ci = partition[ni]\n",
    "        cj = partition[nj]\n",
    "\n",
    "        if ci != cj:\n",
    "            try:\n",
    "                edges[(ci, cj)] += [(ni, nj)]\n",
    "            except KeyError:\n",
    "                edges[(ci, cj)] = [(ni, nj)]\n",
    "\n",
    "    return edges\n",
    "\n",
    "def _position_nodes(g, partition, **kwargs):\n",
    "    \"\"\"\n",
    "    Positions nodes within communities.\n",
    "    \"\"\"\n",
    "\n",
    "    communities = dict()\n",
    "    for node, community in partition.items():\n",
    "        try:\n",
    "            communities[community] += [node]\n",
    "        except KeyError:\n",
    "            communities[community] = [node]\n",
    "\n",
    "    pos = dict()\n",
    "    for ci, nodes in communities.items():\n",
    "        subgraph = g.subgraph(nodes)\n",
    "        pos_subgraph = nx.spring_layout(subgraph, **kwargs)\n",
    "        pos.update(pos_subgraph)\n",
    "\n",
    "    return pos"
   ]
  },
  {
   "cell_type": "markdown",
   "metadata": {},
   "source": [
    "## Load Structural Connectivity"
   ]
  },
  {
   "cell_type": "code",
   "execution_count": 10,
   "metadata": {},
   "outputs": [
    {
     "name": "stdout",
     "output_type": "stream",
     "text": [
      "/import/silo2/aloe8475/Documents/CODE/Analysis/Functional Connectivity/Functional Tasks\n"
     ]
    }
   ],
   "source": [
    "cd \"/import/silo2/aloe8475/Documents/CODE/Analysis/Functional Connectivity/Functional Tasks\""
   ]
  },
  {
   "cell_type": "markdown",
   "metadata": {},
   "source": [
    "### Elegans"
   ]
  },
  {
   "cell_type": "code",
   "execution_count": 13,
   "metadata": {},
   "outputs": [
    {
     "name": "stdout",
     "output_type": "stream",
     "text": [
      "Loading Elegans Networks\n",
      "Loaded\n"
     ]
    }
   ],
   "source": [
    "name='elegans_LinearTransformation.pkl'\n",
    "print('Loading Elegans Networks')\n",
    "file = open(name, 'rb')\n",
    "#     [ASN300,cluster1,cluster2,cluster3,time_index,nodesList] = pickle.load(file)\n",
    "#     [ASN300,cluster1,cluster2,cluster3] = pickle.load(file)\n",
    "[Elegans] = pickle.load(file)\n",
    "\n",
    "print('Loaded')"
   ]
  },
  {
   "cell_type": "code",
   "execution_count": 14,
   "metadata": {},
   "outputs": [],
   "source": [
    "elegansGraph=Elegans['G']"
   ]
  },
  {
   "cell_type": "code",
   "execution_count": 15,
   "metadata": {},
   "outputs": [],
   "source": [
    "#Small world calculated on C Elegans Matrix in smallworld.m in MATLAB\n",
    "temp=loadmat(r'cElegans_smallworld.mat')\n",
    "smallworld_elegans=temp['cElegansSW'][0]\n",
    "del temp"
   ]
  },
  {
   "cell_type": "markdown",
   "metadata": {},
   "source": [
    "### ASNs"
   ]
  },
  {
   "cell_type": "code",
   "execution_count": 9,
   "metadata": {},
   "outputs": [
    {
     "name": "stdout",
     "output_type": "stream",
     "text": [
      "/import/silo2/aloe8475/Documents/CODE/Analysis/Functional Connectivity/Functional Tasks\n"
     ]
    }
   ],
   "source": [
    "cd \"/import/silo2/aloe8475/Documents/CODE/Analysis/Functional Connectivity/Functional Tasks\""
   ]
  },
  {
   "cell_type": "code",
   "execution_count": 11,
   "metadata": {},
   "outputs": [],
   "source": [
    "# Small Worldness: \n",
    "# ------------------------------------\n",
    "# CALCULATED IN MATLAB: smallworldness.m \n",
    "# found in C:\\Users\\aloe8475\\Documents\\PhD\\GitHub\\CODE\\Analysis\\Functional Connectivity\\Functional Tasks\n",
    "# ------------------------------------\n",
    "temp=loadmat(r'300nwASN_multipleNetworks_smallworld.mat')\n",
    "smallworld=temp['smallworld']\n",
    "del temp"
   ]
  },
  {
   "cell_type": "code",
   "execution_count": 10,
   "metadata": {},
   "outputs": [
    {
     "name": "stdout",
     "output_type": "stream",
     "text": [
      "Loading Networks + Linear Transformation Results\n",
      "Loaded\n"
     ]
    }
   ],
   "source": [
    "name='networks_LinearTransformation.pkl'\n",
    "print('Loading Networks + Linear Transformation Results')\n",
    "file = open(name, 'rb')\n",
    "#     [ASN300,cluster1,cluster2,cluster3,time_index,nodesList] = pickle.load(file)\n",
    "#     [ASN300,cluster1,cluster2,cluster3] = pickle.load(file)\n",
    "[ASN300] = pickle.load(file)\n",
    "\n",
    "print('Loaded')"
   ]
  },
  {
   "cell_type": "code",
   "execution_count": 11,
   "metadata": {},
   "outputs": [
    {
     "ename": "KeyboardInterrupt",
     "evalue": "",
     "output_type": "error",
     "traceback": [
      "\u001b[0;31m---------------------------------------------------------------------------\u001b[0m",
      "\u001b[0;31mKeyError\u001b[0m                                  Traceback (most recent call last)",
      "\u001b[0;32m~/anaconda3/lib/python3.7/site-packages/IPython/lib/pretty.py\u001b[0m in \u001b[0;36mpretty\u001b[0;34m(self, obj)\u001b[0m\n\u001b[1;32m    373\u001b[0m             \u001b[0;32mtry\u001b[0m\u001b[0;34m:\u001b[0m\u001b[0;34m\u001b[0m\u001b[0;34m\u001b[0m\u001b[0m\n\u001b[0;32m--> 374\u001b[0;31m                 \u001b[0mprinter\u001b[0m \u001b[0;34m=\u001b[0m \u001b[0mself\u001b[0m\u001b[0;34m.\u001b[0m\u001b[0msingleton_pprinters\u001b[0m\u001b[0;34m[\u001b[0m\u001b[0mobj_id\u001b[0m\u001b[0;34m]\u001b[0m\u001b[0;34m\u001b[0m\u001b[0;34m\u001b[0m\u001b[0m\n\u001b[0m\u001b[1;32m    375\u001b[0m             \u001b[0;32mexcept\u001b[0m \u001b[0;34m(\u001b[0m\u001b[0mTypeError\u001b[0m\u001b[0;34m,\u001b[0m \u001b[0mKeyError\u001b[0m\u001b[0;34m)\u001b[0m\u001b[0;34m:\u001b[0m\u001b[0;34m\u001b[0m\u001b[0;34m\u001b[0m\u001b[0m\n",
      "\u001b[0;31mKeyError\u001b[0m: 93985471227008",
      "\nDuring handling of the above exception, another exception occurred:\n",
      "\u001b[0;31mKeyboardInterrupt\u001b[0m                         Traceback (most recent call last)",
      "\u001b[0;32m<ipython-input-11-1f60763a3efc>\u001b[0m in \u001b[0;36m<module>\u001b[0;34m\u001b[0m\n\u001b[0;32m----> 1\u001b[0;31m \u001b[0mASN300\u001b[0m\u001b[0;34m\u001b[0m\u001b[0;34m\u001b[0m\u001b[0m\n\u001b[0m",
      "\u001b[0;32m~/anaconda3/lib/python3.7/site-packages/IPython/core/displayhook.py\u001b[0m in \u001b[0;36m__call__\u001b[0;34m(self, result)\u001b[0m\n\u001b[1;32m    255\u001b[0m             \u001b[0mself\u001b[0m\u001b[0;34m.\u001b[0m\u001b[0mstart_displayhook\u001b[0m\u001b[0;34m(\u001b[0m\u001b[0;34m)\u001b[0m\u001b[0;34m\u001b[0m\u001b[0;34m\u001b[0m\u001b[0m\n\u001b[1;32m    256\u001b[0m             \u001b[0mself\u001b[0m\u001b[0;34m.\u001b[0m\u001b[0mwrite_output_prompt\u001b[0m\u001b[0;34m(\u001b[0m\u001b[0;34m)\u001b[0m\u001b[0;34m\u001b[0m\u001b[0;34m\u001b[0m\u001b[0m\n\u001b[0;32m--> 257\u001b[0;31m             \u001b[0mformat_dict\u001b[0m\u001b[0;34m,\u001b[0m \u001b[0mmd_dict\u001b[0m \u001b[0;34m=\u001b[0m \u001b[0mself\u001b[0m\u001b[0;34m.\u001b[0m\u001b[0mcompute_format_data\u001b[0m\u001b[0;34m(\u001b[0m\u001b[0mresult\u001b[0m\u001b[0;34m)\u001b[0m\u001b[0;34m\u001b[0m\u001b[0;34m\u001b[0m\u001b[0m\n\u001b[0m\u001b[1;32m    258\u001b[0m             \u001b[0mself\u001b[0m\u001b[0;34m.\u001b[0m\u001b[0mupdate_user_ns\u001b[0m\u001b[0;34m(\u001b[0m\u001b[0mresult\u001b[0m\u001b[0;34m)\u001b[0m\u001b[0;34m\u001b[0m\u001b[0;34m\u001b[0m\u001b[0m\n\u001b[1;32m    259\u001b[0m             \u001b[0mself\u001b[0m\u001b[0;34m.\u001b[0m\u001b[0mfill_exec_result\u001b[0m\u001b[0;34m(\u001b[0m\u001b[0mresult\u001b[0m\u001b[0;34m)\u001b[0m\u001b[0;34m\u001b[0m\u001b[0;34m\u001b[0m\u001b[0m\n",
      "\u001b[0;32m~/anaconda3/lib/python3.7/site-packages/IPython/core/displayhook.py\u001b[0m in \u001b[0;36mcompute_format_data\u001b[0;34m(self, result)\u001b[0m\n\u001b[1;32m    149\u001b[0m \u001b[0;34m\u001b[0m\u001b[0m\n\u001b[1;32m    150\u001b[0m         \"\"\"\n\u001b[0;32m--> 151\u001b[0;31m         \u001b[0;32mreturn\u001b[0m \u001b[0mself\u001b[0m\u001b[0;34m.\u001b[0m\u001b[0mshell\u001b[0m\u001b[0;34m.\u001b[0m\u001b[0mdisplay_formatter\u001b[0m\u001b[0;34m.\u001b[0m\u001b[0mformat\u001b[0m\u001b[0;34m(\u001b[0m\u001b[0mresult\u001b[0m\u001b[0;34m)\u001b[0m\u001b[0;34m\u001b[0m\u001b[0;34m\u001b[0m\u001b[0m\n\u001b[0m\u001b[1;32m    152\u001b[0m \u001b[0;34m\u001b[0m\u001b[0m\n\u001b[1;32m    153\u001b[0m     \u001b[0;31m# This can be set to True by the write_output_prompt method in a subclass\u001b[0m\u001b[0;34m\u001b[0m\u001b[0;34m\u001b[0m\u001b[0;34m\u001b[0m\u001b[0m\n",
      "\u001b[0;32m~/anaconda3/lib/python3.7/site-packages/IPython/core/formatters.py\u001b[0m in \u001b[0;36mformat\u001b[0;34m(self, obj, include, exclude)\u001b[0m\n\u001b[1;32m    178\u001b[0m             \u001b[0mmd\u001b[0m \u001b[0;34m=\u001b[0m \u001b[0;32mNone\u001b[0m\u001b[0;34m\u001b[0m\u001b[0;34m\u001b[0m\u001b[0m\n\u001b[1;32m    179\u001b[0m             \u001b[0;32mtry\u001b[0m\u001b[0;34m:\u001b[0m\u001b[0;34m\u001b[0m\u001b[0;34m\u001b[0m\u001b[0m\n\u001b[0;32m--> 180\u001b[0;31m                 \u001b[0mdata\u001b[0m \u001b[0;34m=\u001b[0m \u001b[0mformatter\u001b[0m\u001b[0;34m(\u001b[0m\u001b[0mobj\u001b[0m\u001b[0;34m)\u001b[0m\u001b[0;34m\u001b[0m\u001b[0;34m\u001b[0m\u001b[0m\n\u001b[0m\u001b[1;32m    181\u001b[0m             \u001b[0;32mexcept\u001b[0m\u001b[0;34m:\u001b[0m\u001b[0;34m\u001b[0m\u001b[0;34m\u001b[0m\u001b[0m\n\u001b[1;32m    182\u001b[0m                 \u001b[0;31m# FIXME: log the exception\u001b[0m\u001b[0;34m\u001b[0m\u001b[0;34m\u001b[0m\u001b[0;34m\u001b[0m\u001b[0m\n",
      "\u001b[0;32m</suphys/aloe8475/anaconda3/lib/python3.7/site-packages/decorator.py:decorator-gen-10>\u001b[0m in \u001b[0;36m__call__\u001b[0;34m(self, obj)\u001b[0m\n",
      "\u001b[0;32m~/anaconda3/lib/python3.7/site-packages/IPython/core/formatters.py\u001b[0m in \u001b[0;36mcatch_format_error\u001b[0;34m(method, self, *args, **kwargs)\u001b[0m\n\u001b[1;32m    222\u001b[0m     \u001b[0;34m\"\"\"show traceback on failed format call\"\"\"\u001b[0m\u001b[0;34m\u001b[0m\u001b[0;34m\u001b[0m\u001b[0m\n\u001b[1;32m    223\u001b[0m     \u001b[0;32mtry\u001b[0m\u001b[0;34m:\u001b[0m\u001b[0;34m\u001b[0m\u001b[0;34m\u001b[0m\u001b[0m\n\u001b[0;32m--> 224\u001b[0;31m         \u001b[0mr\u001b[0m \u001b[0;34m=\u001b[0m \u001b[0mmethod\u001b[0m\u001b[0;34m(\u001b[0m\u001b[0mself\u001b[0m\u001b[0;34m,\u001b[0m \u001b[0;34m*\u001b[0m\u001b[0margs\u001b[0m\u001b[0;34m,\u001b[0m \u001b[0;34m**\u001b[0m\u001b[0mkwargs\u001b[0m\u001b[0;34m)\u001b[0m\u001b[0;34m\u001b[0m\u001b[0;34m\u001b[0m\u001b[0m\n\u001b[0m\u001b[1;32m    225\u001b[0m     \u001b[0;32mexcept\u001b[0m \u001b[0mNotImplementedError\u001b[0m\u001b[0;34m:\u001b[0m\u001b[0;34m\u001b[0m\u001b[0;34m\u001b[0m\u001b[0m\n\u001b[1;32m    226\u001b[0m         \u001b[0;31m# don't warn on NotImplementedErrors\u001b[0m\u001b[0;34m\u001b[0m\u001b[0;34m\u001b[0m\u001b[0;34m\u001b[0m\u001b[0m\n",
      "\u001b[0;32m~/anaconda3/lib/python3.7/site-packages/IPython/core/formatters.py\u001b[0m in \u001b[0;36m__call__\u001b[0;34m(self, obj)\u001b[0m\n\u001b[1;32m    700\u001b[0m                 \u001b[0mtype_pprinters\u001b[0m\u001b[0;34m=\u001b[0m\u001b[0mself\u001b[0m\u001b[0;34m.\u001b[0m\u001b[0mtype_printers\u001b[0m\u001b[0;34m,\u001b[0m\u001b[0;34m\u001b[0m\u001b[0;34m\u001b[0m\u001b[0m\n\u001b[1;32m    701\u001b[0m                 deferred_pprinters=self.deferred_printers)\n\u001b[0;32m--> 702\u001b[0;31m             \u001b[0mprinter\u001b[0m\u001b[0;34m.\u001b[0m\u001b[0mpretty\u001b[0m\u001b[0;34m(\u001b[0m\u001b[0mobj\u001b[0m\u001b[0;34m)\u001b[0m\u001b[0;34m\u001b[0m\u001b[0;34m\u001b[0m\u001b[0m\n\u001b[0m\u001b[1;32m    703\u001b[0m             \u001b[0mprinter\u001b[0m\u001b[0;34m.\u001b[0m\u001b[0mflush\u001b[0m\u001b[0;34m(\u001b[0m\u001b[0;34m)\u001b[0m\u001b[0;34m\u001b[0m\u001b[0;34m\u001b[0m\u001b[0m\n\u001b[1;32m    704\u001b[0m             \u001b[0;32mreturn\u001b[0m \u001b[0mstream\u001b[0m\u001b[0;34m.\u001b[0m\u001b[0mgetvalue\u001b[0m\u001b[0;34m(\u001b[0m\u001b[0;34m)\u001b[0m\u001b[0;34m\u001b[0m\u001b[0;34m\u001b[0m\u001b[0m\n",
      "\u001b[0;32m~/anaconda3/lib/python3.7/site-packages/IPython/lib/pretty.py\u001b[0m in \u001b[0;36mpretty\u001b[0;34m(self, obj)\u001b[0m\n\u001b[1;32m    383\u001b[0m                 \u001b[0;32mif\u001b[0m \u001b[0mcls\u001b[0m \u001b[0;32min\u001b[0m \u001b[0mself\u001b[0m\u001b[0;34m.\u001b[0m\u001b[0mtype_pprinters\u001b[0m\u001b[0;34m:\u001b[0m\u001b[0;34m\u001b[0m\u001b[0;34m\u001b[0m\u001b[0m\n\u001b[1;32m    384\u001b[0m                     \u001b[0;31m# printer registered in self.type_pprinters\u001b[0m\u001b[0;34m\u001b[0m\u001b[0;34m\u001b[0m\u001b[0;34m\u001b[0m\u001b[0m\n\u001b[0;32m--> 385\u001b[0;31m                     \u001b[0;32mreturn\u001b[0m \u001b[0mself\u001b[0m\u001b[0;34m.\u001b[0m\u001b[0mtype_pprinters\u001b[0m\u001b[0;34m[\u001b[0m\u001b[0mcls\u001b[0m\u001b[0;34m]\u001b[0m\u001b[0;34m(\u001b[0m\u001b[0mobj\u001b[0m\u001b[0;34m,\u001b[0m \u001b[0mself\u001b[0m\u001b[0;34m,\u001b[0m \u001b[0mcycle\u001b[0m\u001b[0;34m)\u001b[0m\u001b[0;34m\u001b[0m\u001b[0;34m\u001b[0m\u001b[0m\n\u001b[0m\u001b[1;32m    386\u001b[0m                 \u001b[0;32melse\u001b[0m\u001b[0;34m:\u001b[0m\u001b[0;34m\u001b[0m\u001b[0;34m\u001b[0m\u001b[0m\n\u001b[1;32m    387\u001b[0m                     \u001b[0;31m# deferred printer\u001b[0m\u001b[0;34m\u001b[0m\u001b[0;34m\u001b[0m\u001b[0;34m\u001b[0m\u001b[0m\n",
      "\u001b[0;32m~/anaconda3/lib/python3.7/site-packages/IPython/lib/pretty.py\u001b[0m in \u001b[0;36minner\u001b[0;34m(obj, p, cycle)\u001b[0m\n\u001b[1;32m    561\u001b[0m                 \u001b[0mp\u001b[0m\u001b[0;34m.\u001b[0m\u001b[0mtext\u001b[0m\u001b[0;34m(\u001b[0m\u001b[0;34m','\u001b[0m\u001b[0;34m)\u001b[0m\u001b[0;34m\u001b[0m\u001b[0;34m\u001b[0m\u001b[0m\n\u001b[1;32m    562\u001b[0m                 \u001b[0mp\u001b[0m\u001b[0;34m.\u001b[0m\u001b[0mbreakable\u001b[0m\u001b[0;34m(\u001b[0m\u001b[0;34m)\u001b[0m\u001b[0;34m\u001b[0m\u001b[0;34m\u001b[0m\u001b[0m\n\u001b[0;32m--> 563\u001b[0;31m             \u001b[0mp\u001b[0m\u001b[0;34m.\u001b[0m\u001b[0mpretty\u001b[0m\u001b[0;34m(\u001b[0m\u001b[0mx\u001b[0m\u001b[0;34m)\u001b[0m\u001b[0;34m\u001b[0m\u001b[0;34m\u001b[0m\u001b[0m\n\u001b[0m\u001b[1;32m    564\u001b[0m         \u001b[0;32mif\u001b[0m \u001b[0mlen\u001b[0m\u001b[0;34m(\u001b[0m\u001b[0mobj\u001b[0m\u001b[0;34m)\u001b[0m \u001b[0;34m==\u001b[0m \u001b[0;36m1\u001b[0m \u001b[0;32mand\u001b[0m \u001b[0mtype\u001b[0m\u001b[0;34m(\u001b[0m\u001b[0mobj\u001b[0m\u001b[0;34m)\u001b[0m \u001b[0;32mis\u001b[0m \u001b[0mtuple\u001b[0m\u001b[0;34m:\u001b[0m\u001b[0;34m\u001b[0m\u001b[0;34m\u001b[0m\u001b[0m\n\u001b[1;32m    565\u001b[0m             \u001b[0;31m# Special case for 1-item tuples.\u001b[0m\u001b[0;34m\u001b[0m\u001b[0;34m\u001b[0m\u001b[0;34m\u001b[0m\u001b[0m\n",
      "\u001b[0;32m~/anaconda3/lib/python3.7/site-packages/IPython/lib/pretty.py\u001b[0m in \u001b[0;36mpretty\u001b[0;34m(self, obj)\u001b[0m\n\u001b[1;32m    383\u001b[0m                 \u001b[0;32mif\u001b[0m \u001b[0mcls\u001b[0m \u001b[0;32min\u001b[0m \u001b[0mself\u001b[0m\u001b[0;34m.\u001b[0m\u001b[0mtype_pprinters\u001b[0m\u001b[0;34m:\u001b[0m\u001b[0;34m\u001b[0m\u001b[0;34m\u001b[0m\u001b[0m\n\u001b[1;32m    384\u001b[0m                     \u001b[0;31m# printer registered in self.type_pprinters\u001b[0m\u001b[0;34m\u001b[0m\u001b[0;34m\u001b[0m\u001b[0;34m\u001b[0m\u001b[0m\n\u001b[0;32m--> 385\u001b[0;31m                     \u001b[0;32mreturn\u001b[0m \u001b[0mself\u001b[0m\u001b[0;34m.\u001b[0m\u001b[0mtype_pprinters\u001b[0m\u001b[0;34m[\u001b[0m\u001b[0mcls\u001b[0m\u001b[0;34m]\u001b[0m\u001b[0;34m(\u001b[0m\u001b[0mobj\u001b[0m\u001b[0;34m,\u001b[0m \u001b[0mself\u001b[0m\u001b[0;34m,\u001b[0m \u001b[0mcycle\u001b[0m\u001b[0;34m)\u001b[0m\u001b[0;34m\u001b[0m\u001b[0;34m\u001b[0m\u001b[0m\n\u001b[0m\u001b[1;32m    386\u001b[0m                 \u001b[0;32melse\u001b[0m\u001b[0;34m:\u001b[0m\u001b[0;34m\u001b[0m\u001b[0;34m\u001b[0m\u001b[0m\n\u001b[1;32m    387\u001b[0m                     \u001b[0;31m# deferred printer\u001b[0m\u001b[0;34m\u001b[0m\u001b[0;34m\u001b[0m\u001b[0;34m\u001b[0m\u001b[0m\n",
      "\u001b[0;32m~/anaconda3/lib/python3.7/site-packages/IPython/lib/pretty.py\u001b[0m in \u001b[0;36minner\u001b[0;34m(obj, p, cycle)\u001b[0m\n\u001b[1;32m    561\u001b[0m                 \u001b[0mp\u001b[0m\u001b[0;34m.\u001b[0m\u001b[0mtext\u001b[0m\u001b[0;34m(\u001b[0m\u001b[0;34m','\u001b[0m\u001b[0;34m)\u001b[0m\u001b[0;34m\u001b[0m\u001b[0;34m\u001b[0m\u001b[0m\n\u001b[1;32m    562\u001b[0m                 \u001b[0mp\u001b[0m\u001b[0;34m.\u001b[0m\u001b[0mbreakable\u001b[0m\u001b[0;34m(\u001b[0m\u001b[0;34m)\u001b[0m\u001b[0;34m\u001b[0m\u001b[0;34m\u001b[0m\u001b[0m\n\u001b[0;32m--> 563\u001b[0;31m             \u001b[0mp\u001b[0m\u001b[0;34m.\u001b[0m\u001b[0mpretty\u001b[0m\u001b[0;34m(\u001b[0m\u001b[0mx\u001b[0m\u001b[0;34m)\u001b[0m\u001b[0;34m\u001b[0m\u001b[0;34m\u001b[0m\u001b[0m\n\u001b[0m\u001b[1;32m    564\u001b[0m         \u001b[0;32mif\u001b[0m \u001b[0mlen\u001b[0m\u001b[0;34m(\u001b[0m\u001b[0mobj\u001b[0m\u001b[0;34m)\u001b[0m \u001b[0;34m==\u001b[0m \u001b[0;36m1\u001b[0m \u001b[0;32mand\u001b[0m \u001b[0mtype\u001b[0m\u001b[0;34m(\u001b[0m\u001b[0mobj\u001b[0m\u001b[0;34m)\u001b[0m \u001b[0;32mis\u001b[0m \u001b[0mtuple\u001b[0m\u001b[0;34m:\u001b[0m\u001b[0;34m\u001b[0m\u001b[0;34m\u001b[0m\u001b[0m\n\u001b[1;32m    565\u001b[0m             \u001b[0;31m# Special case for 1-item tuples.\u001b[0m\u001b[0;34m\u001b[0m\u001b[0;34m\u001b[0m\u001b[0;34m\u001b[0m\u001b[0m\n",
      "\u001b[0;32m~/anaconda3/lib/python3.7/site-packages/IPython/lib/pretty.py\u001b[0m in \u001b[0;36mpretty\u001b[0;34m(self, obj)\u001b[0m\n\u001b[1;32m    383\u001b[0m                 \u001b[0;32mif\u001b[0m \u001b[0mcls\u001b[0m \u001b[0;32min\u001b[0m \u001b[0mself\u001b[0m\u001b[0;34m.\u001b[0m\u001b[0mtype_pprinters\u001b[0m\u001b[0;34m:\u001b[0m\u001b[0;34m\u001b[0m\u001b[0;34m\u001b[0m\u001b[0m\n\u001b[1;32m    384\u001b[0m                     \u001b[0;31m# printer registered in self.type_pprinters\u001b[0m\u001b[0;34m\u001b[0m\u001b[0;34m\u001b[0m\u001b[0;34m\u001b[0m\u001b[0m\n\u001b[0;32m--> 385\u001b[0;31m                     \u001b[0;32mreturn\u001b[0m \u001b[0mself\u001b[0m\u001b[0;34m.\u001b[0m\u001b[0mtype_pprinters\u001b[0m\u001b[0;34m[\u001b[0m\u001b[0mcls\u001b[0m\u001b[0;34m]\u001b[0m\u001b[0;34m(\u001b[0m\u001b[0mobj\u001b[0m\u001b[0;34m,\u001b[0m \u001b[0mself\u001b[0m\u001b[0;34m,\u001b[0m \u001b[0mcycle\u001b[0m\u001b[0;34m)\u001b[0m\u001b[0;34m\u001b[0m\u001b[0;34m\u001b[0m\u001b[0m\n\u001b[0m\u001b[1;32m    386\u001b[0m                 \u001b[0;32melse\u001b[0m\u001b[0;34m:\u001b[0m\u001b[0;34m\u001b[0m\u001b[0;34m\u001b[0m\u001b[0m\n\u001b[1;32m    387\u001b[0m                     \u001b[0;31m# deferred printer\u001b[0m\u001b[0;34m\u001b[0m\u001b[0;34m\u001b[0m\u001b[0;34m\u001b[0m\u001b[0m\n",
      "\u001b[0;32m~/anaconda3/lib/python3.7/site-packages/IPython/lib/pretty.py\u001b[0m in \u001b[0;36minner\u001b[0;34m(obj, p, cycle)\u001b[0m\n\u001b[1;32m    618\u001b[0m             \u001b[0mp\u001b[0m\u001b[0;34m.\u001b[0m\u001b[0mpretty\u001b[0m\u001b[0;34m(\u001b[0m\u001b[0mkey\u001b[0m\u001b[0;34m)\u001b[0m\u001b[0;34m\u001b[0m\u001b[0;34m\u001b[0m\u001b[0m\n\u001b[1;32m    619\u001b[0m             \u001b[0mp\u001b[0m\u001b[0;34m.\u001b[0m\u001b[0mtext\u001b[0m\u001b[0;34m(\u001b[0m\u001b[0;34m': '\u001b[0m\u001b[0;34m)\u001b[0m\u001b[0;34m\u001b[0m\u001b[0;34m\u001b[0m\u001b[0m\n\u001b[0;32m--> 620\u001b[0;31m             \u001b[0mp\u001b[0m\u001b[0;34m.\u001b[0m\u001b[0mpretty\u001b[0m\u001b[0;34m(\u001b[0m\u001b[0mobj\u001b[0m\u001b[0;34m[\u001b[0m\u001b[0mkey\u001b[0m\u001b[0;34m]\u001b[0m\u001b[0;34m)\u001b[0m\u001b[0;34m\u001b[0m\u001b[0;34m\u001b[0m\u001b[0m\n\u001b[0m\u001b[1;32m    621\u001b[0m         \u001b[0mp\u001b[0m\u001b[0;34m.\u001b[0m\u001b[0mend_group\u001b[0m\u001b[0;34m(\u001b[0m\u001b[0mstep\u001b[0m\u001b[0;34m,\u001b[0m \u001b[0mend\u001b[0m\u001b[0;34m)\u001b[0m\u001b[0;34m\u001b[0m\u001b[0;34m\u001b[0m\u001b[0m\n\u001b[1;32m    622\u001b[0m     \u001b[0;32mreturn\u001b[0m \u001b[0minner\u001b[0m\u001b[0;34m\u001b[0m\u001b[0;34m\u001b[0m\u001b[0m\n",
      "\u001b[0;32m~/anaconda3/lib/python3.7/site-packages/IPython/lib/pretty.py\u001b[0m in \u001b[0;36mpretty\u001b[0;34m(self, obj)\u001b[0m\n\u001b[1;32m    383\u001b[0m                 \u001b[0;32mif\u001b[0m \u001b[0mcls\u001b[0m \u001b[0;32min\u001b[0m \u001b[0mself\u001b[0m\u001b[0;34m.\u001b[0m\u001b[0mtype_pprinters\u001b[0m\u001b[0;34m:\u001b[0m\u001b[0;34m\u001b[0m\u001b[0;34m\u001b[0m\u001b[0m\n\u001b[1;32m    384\u001b[0m                     \u001b[0;31m# printer registered in self.type_pprinters\u001b[0m\u001b[0;34m\u001b[0m\u001b[0;34m\u001b[0m\u001b[0;34m\u001b[0m\u001b[0m\n\u001b[0;32m--> 385\u001b[0;31m                     \u001b[0;32mreturn\u001b[0m \u001b[0mself\u001b[0m\u001b[0;34m.\u001b[0m\u001b[0mtype_pprinters\u001b[0m\u001b[0;34m[\u001b[0m\u001b[0mcls\u001b[0m\u001b[0;34m]\u001b[0m\u001b[0;34m(\u001b[0m\u001b[0mobj\u001b[0m\u001b[0;34m,\u001b[0m \u001b[0mself\u001b[0m\u001b[0;34m,\u001b[0m \u001b[0mcycle\u001b[0m\u001b[0;34m)\u001b[0m\u001b[0;34m\u001b[0m\u001b[0;34m\u001b[0m\u001b[0m\n\u001b[0m\u001b[1;32m    386\u001b[0m                 \u001b[0;32melse\u001b[0m\u001b[0;34m:\u001b[0m\u001b[0;34m\u001b[0m\u001b[0;34m\u001b[0m\u001b[0m\n\u001b[1;32m    387\u001b[0m                     \u001b[0;31m# deferred printer\u001b[0m\u001b[0;34m\u001b[0m\u001b[0;34m\u001b[0m\u001b[0;34m\u001b[0m\u001b[0m\n",
      "\u001b[0;32m~/anaconda3/lib/python3.7/site-packages/IPython/lib/pretty.py\u001b[0m in \u001b[0;36minner\u001b[0;34m(obj, p, cycle)\u001b[0m\n\u001b[1;32m    618\u001b[0m             \u001b[0mp\u001b[0m\u001b[0;34m.\u001b[0m\u001b[0mpretty\u001b[0m\u001b[0;34m(\u001b[0m\u001b[0mkey\u001b[0m\u001b[0;34m)\u001b[0m\u001b[0;34m\u001b[0m\u001b[0;34m\u001b[0m\u001b[0m\n\u001b[1;32m    619\u001b[0m             \u001b[0mp\u001b[0m\u001b[0;34m.\u001b[0m\u001b[0mtext\u001b[0m\u001b[0;34m(\u001b[0m\u001b[0;34m': '\u001b[0m\u001b[0;34m)\u001b[0m\u001b[0;34m\u001b[0m\u001b[0;34m\u001b[0m\u001b[0m\n\u001b[0;32m--> 620\u001b[0;31m             \u001b[0mp\u001b[0m\u001b[0;34m.\u001b[0m\u001b[0mpretty\u001b[0m\u001b[0;34m(\u001b[0m\u001b[0mobj\u001b[0m\u001b[0;34m[\u001b[0m\u001b[0mkey\u001b[0m\u001b[0;34m]\u001b[0m\u001b[0;34m)\u001b[0m\u001b[0;34m\u001b[0m\u001b[0;34m\u001b[0m\u001b[0m\n\u001b[0m\u001b[1;32m    621\u001b[0m         \u001b[0mp\u001b[0m\u001b[0;34m.\u001b[0m\u001b[0mend_group\u001b[0m\u001b[0;34m(\u001b[0m\u001b[0mstep\u001b[0m\u001b[0;34m,\u001b[0m \u001b[0mend\u001b[0m\u001b[0;34m)\u001b[0m\u001b[0;34m\u001b[0m\u001b[0;34m\u001b[0m\u001b[0m\n\u001b[1;32m    622\u001b[0m     \u001b[0;32mreturn\u001b[0m \u001b[0minner\u001b[0m\u001b[0;34m\u001b[0m\u001b[0;34m\u001b[0m\u001b[0m\n",
      "\u001b[0;32m~/anaconda3/lib/python3.7/site-packages/IPython/lib/pretty.py\u001b[0m in \u001b[0;36mpretty\u001b[0;34m(self, obj)\u001b[0m\n\u001b[1;32m    383\u001b[0m                 \u001b[0;32mif\u001b[0m \u001b[0mcls\u001b[0m \u001b[0;32min\u001b[0m \u001b[0mself\u001b[0m\u001b[0;34m.\u001b[0m\u001b[0mtype_pprinters\u001b[0m\u001b[0;34m:\u001b[0m\u001b[0;34m\u001b[0m\u001b[0;34m\u001b[0m\u001b[0m\n\u001b[1;32m    384\u001b[0m                     \u001b[0;31m# printer registered in self.type_pprinters\u001b[0m\u001b[0;34m\u001b[0m\u001b[0;34m\u001b[0m\u001b[0;34m\u001b[0m\u001b[0m\n\u001b[0;32m--> 385\u001b[0;31m                     \u001b[0;32mreturn\u001b[0m \u001b[0mself\u001b[0m\u001b[0;34m.\u001b[0m\u001b[0mtype_pprinters\u001b[0m\u001b[0;34m[\u001b[0m\u001b[0mcls\u001b[0m\u001b[0;34m]\u001b[0m\u001b[0;34m(\u001b[0m\u001b[0mobj\u001b[0m\u001b[0;34m,\u001b[0m \u001b[0mself\u001b[0m\u001b[0;34m,\u001b[0m \u001b[0mcycle\u001b[0m\u001b[0;34m)\u001b[0m\u001b[0;34m\u001b[0m\u001b[0;34m\u001b[0m\u001b[0m\n\u001b[0m\u001b[1;32m    386\u001b[0m                 \u001b[0;32melse\u001b[0m\u001b[0;34m:\u001b[0m\u001b[0;34m\u001b[0m\u001b[0;34m\u001b[0m\u001b[0m\n\u001b[1;32m    387\u001b[0m                     \u001b[0;31m# deferred printer\u001b[0m\u001b[0;34m\u001b[0m\u001b[0;34m\u001b[0m\u001b[0;34m\u001b[0m\u001b[0m\n",
      "\u001b[0;32m~/anaconda3/lib/python3.7/site-packages/IPython/lib/pretty.py\u001b[0m in \u001b[0;36minner\u001b[0;34m(obj, p, cycle)\u001b[0m\n\u001b[1;32m    618\u001b[0m             \u001b[0mp\u001b[0m\u001b[0;34m.\u001b[0m\u001b[0mpretty\u001b[0m\u001b[0;34m(\u001b[0m\u001b[0mkey\u001b[0m\u001b[0;34m)\u001b[0m\u001b[0;34m\u001b[0m\u001b[0;34m\u001b[0m\u001b[0m\n\u001b[1;32m    619\u001b[0m             \u001b[0mp\u001b[0m\u001b[0;34m.\u001b[0m\u001b[0mtext\u001b[0m\u001b[0;34m(\u001b[0m\u001b[0;34m': '\u001b[0m\u001b[0;34m)\u001b[0m\u001b[0;34m\u001b[0m\u001b[0;34m\u001b[0m\u001b[0m\n\u001b[0;32m--> 620\u001b[0;31m             \u001b[0mp\u001b[0m\u001b[0;34m.\u001b[0m\u001b[0mpretty\u001b[0m\u001b[0;34m(\u001b[0m\u001b[0mobj\u001b[0m\u001b[0;34m[\u001b[0m\u001b[0mkey\u001b[0m\u001b[0;34m]\u001b[0m\u001b[0;34m)\u001b[0m\u001b[0;34m\u001b[0m\u001b[0;34m\u001b[0m\u001b[0m\n\u001b[0m\u001b[1;32m    621\u001b[0m         \u001b[0mp\u001b[0m\u001b[0;34m.\u001b[0m\u001b[0mend_group\u001b[0m\u001b[0;34m(\u001b[0m\u001b[0mstep\u001b[0m\u001b[0;34m,\u001b[0m \u001b[0mend\u001b[0m\u001b[0;34m)\u001b[0m\u001b[0;34m\u001b[0m\u001b[0;34m\u001b[0m\u001b[0m\n\u001b[1;32m    622\u001b[0m     \u001b[0;32mreturn\u001b[0m \u001b[0minner\u001b[0m\u001b[0;34m\u001b[0m\u001b[0;34m\u001b[0m\u001b[0m\n",
      "\u001b[0;32m~/anaconda3/lib/python3.7/site-packages/IPython/lib/pretty.py\u001b[0m in \u001b[0;36mpretty\u001b[0;34m(self, obj)\u001b[0m\n\u001b[1;32m    383\u001b[0m                 \u001b[0;32mif\u001b[0m \u001b[0mcls\u001b[0m \u001b[0;32min\u001b[0m \u001b[0mself\u001b[0m\u001b[0;34m.\u001b[0m\u001b[0mtype_pprinters\u001b[0m\u001b[0;34m:\u001b[0m\u001b[0;34m\u001b[0m\u001b[0;34m\u001b[0m\u001b[0m\n\u001b[1;32m    384\u001b[0m                     \u001b[0;31m# printer registered in self.type_pprinters\u001b[0m\u001b[0;34m\u001b[0m\u001b[0;34m\u001b[0m\u001b[0;34m\u001b[0m\u001b[0m\n\u001b[0;32m--> 385\u001b[0;31m                     \u001b[0;32mreturn\u001b[0m \u001b[0mself\u001b[0m\u001b[0;34m.\u001b[0m\u001b[0mtype_pprinters\u001b[0m\u001b[0;34m[\u001b[0m\u001b[0mcls\u001b[0m\u001b[0;34m]\u001b[0m\u001b[0;34m(\u001b[0m\u001b[0mobj\u001b[0m\u001b[0;34m,\u001b[0m \u001b[0mself\u001b[0m\u001b[0;34m,\u001b[0m \u001b[0mcycle\u001b[0m\u001b[0;34m)\u001b[0m\u001b[0;34m\u001b[0m\u001b[0;34m\u001b[0m\u001b[0m\n\u001b[0m\u001b[1;32m    386\u001b[0m                 \u001b[0;32melse\u001b[0m\u001b[0;34m:\u001b[0m\u001b[0;34m\u001b[0m\u001b[0;34m\u001b[0m\u001b[0m\n\u001b[1;32m    387\u001b[0m                     \u001b[0;31m# deferred printer\u001b[0m\u001b[0;34m\u001b[0m\u001b[0;34m\u001b[0m\u001b[0;34m\u001b[0m\u001b[0m\n",
      "\u001b[0;32m~/anaconda3/lib/python3.7/site-packages/IPython/lib/pretty.py\u001b[0m in \u001b[0;36minner\u001b[0;34m(obj, p, cycle)\u001b[0m\n\u001b[1;32m    618\u001b[0m             \u001b[0mp\u001b[0m\u001b[0;34m.\u001b[0m\u001b[0mpretty\u001b[0m\u001b[0;34m(\u001b[0m\u001b[0mkey\u001b[0m\u001b[0;34m)\u001b[0m\u001b[0;34m\u001b[0m\u001b[0;34m\u001b[0m\u001b[0m\n\u001b[1;32m    619\u001b[0m             \u001b[0mp\u001b[0m\u001b[0;34m.\u001b[0m\u001b[0mtext\u001b[0m\u001b[0;34m(\u001b[0m\u001b[0;34m': '\u001b[0m\u001b[0;34m)\u001b[0m\u001b[0;34m\u001b[0m\u001b[0;34m\u001b[0m\u001b[0m\n\u001b[0;32m--> 620\u001b[0;31m             \u001b[0mp\u001b[0m\u001b[0;34m.\u001b[0m\u001b[0mpretty\u001b[0m\u001b[0;34m(\u001b[0m\u001b[0mobj\u001b[0m\u001b[0;34m[\u001b[0m\u001b[0mkey\u001b[0m\u001b[0;34m]\u001b[0m\u001b[0;34m)\u001b[0m\u001b[0;34m\u001b[0m\u001b[0;34m\u001b[0m\u001b[0m\n\u001b[0m\u001b[1;32m    621\u001b[0m         \u001b[0mp\u001b[0m\u001b[0;34m.\u001b[0m\u001b[0mend_group\u001b[0m\u001b[0;34m(\u001b[0m\u001b[0mstep\u001b[0m\u001b[0;34m,\u001b[0m \u001b[0mend\u001b[0m\u001b[0;34m)\u001b[0m\u001b[0;34m\u001b[0m\u001b[0;34m\u001b[0m\u001b[0m\n\u001b[1;32m    622\u001b[0m     \u001b[0;32mreturn\u001b[0m \u001b[0minner\u001b[0m\u001b[0;34m\u001b[0m\u001b[0;34m\u001b[0m\u001b[0m\n",
      "\u001b[0;32m~/anaconda3/lib/python3.7/site-packages/IPython/lib/pretty.py\u001b[0m in \u001b[0;36mpretty\u001b[0;34m(self, obj)\u001b[0m\n\u001b[1;32m    372\u001b[0m             \u001b[0;31m# First try to find registered singleton printers for the type.\u001b[0m\u001b[0;34m\u001b[0m\u001b[0;34m\u001b[0m\u001b[0;34m\u001b[0m\u001b[0m\n\u001b[1;32m    373\u001b[0m             \u001b[0;32mtry\u001b[0m\u001b[0;34m:\u001b[0m\u001b[0;34m\u001b[0m\u001b[0;34m\u001b[0m\u001b[0m\n\u001b[0;32m--> 374\u001b[0;31m                 \u001b[0mprinter\u001b[0m \u001b[0;34m=\u001b[0m \u001b[0mself\u001b[0m\u001b[0;34m.\u001b[0m\u001b[0msingleton_pprinters\u001b[0m\u001b[0;34m[\u001b[0m\u001b[0mobj_id\u001b[0m\u001b[0;34m]\u001b[0m\u001b[0;34m\u001b[0m\u001b[0;34m\u001b[0m\u001b[0m\n\u001b[0m\u001b[1;32m    375\u001b[0m             \u001b[0;32mexcept\u001b[0m \u001b[0;34m(\u001b[0m\u001b[0mTypeError\u001b[0m\u001b[0;34m,\u001b[0m \u001b[0mKeyError\u001b[0m\u001b[0;34m)\u001b[0m\u001b[0;34m:\u001b[0m\u001b[0;34m\u001b[0m\u001b[0;34m\u001b[0m\u001b[0m\n\u001b[1;32m    376\u001b[0m                 \u001b[0;32mpass\u001b[0m\u001b[0;34m\u001b[0m\u001b[0;34m\u001b[0m\u001b[0m\n",
      "\u001b[0;31mKeyboardInterrupt\u001b[0m: "
     ]
    }
   ],
   "source": [
    "ASN300"
   ]
  },
  {
   "cell_type": "markdown",
   "metadata": {},
   "source": [
    "# Task 1: Nonlinear  Transformation"
   ]
  },
  {
   "cell_type": "code",
   "execution_count": 13,
   "metadata": {},
   "outputs": [],
   "source": [
    "#Regression\n",
    "def NOKEVregression(target,absV): \n",
    "    inputx=np.vstack((np.ones(len(target)),absV)).T\n",
    "    a1=np.linalg.lstsq(inputx,target)\n",
    "    return a1"
   ]
  },
  {
   "cell_type": "code",
   "execution_count": 14,
   "metadata": {},
   "outputs": [],
   "source": [
    "#Subgraph AdjMat\n",
    "\n",
    "#Threshold by conductance - when tunnelling becomes appreciable (offResistance * 10)\n",
    "\n",
    "def getOnGraph(network, this_TimeStamp = 0):\n",
    "    edgeList = network.connectivity.edge_list\n",
    "    adjMat = np.zeros((network.numOfWires, network.numOfWires))\n",
    "#     set_trace()\n",
    "    adjMat[edgeList[:,0], edgeList[:,1]] = (1/network.junctionResistance[this_TimeStamp,:])>1e-06#network.junctionSwitch[this_TimeStamp,:] #CHANGE THIS TO CONDUCTANCE THRESHOLD?\n",
    "    adjMat[edgeList[:,1], edgeList[:,0]] = (1/network.junctionResistance[this_TimeStamp,:])>1e-06#network.junctionSwitch[this_TimeStamp,:] #CHANGE THIS TO CONDUCTANCE THRESHOLD?\n",
    "    onGraph = nx.from_numpy_array(adjMat)\n",
    "    onGraph=nx.DiGraph.to_undirected(onGraph)\n",
    "    \n",
    "    return onGraph"
   ]
  },
  {
   "cell_type": "code",
   "execution_count": 15,
   "metadata": {},
   "outputs": [],
   "source": [
    "def getSubGraphComm(network, this_TimeStamp = 0):\n",
    "    onGraph = getOnGraph(network, this_TimeStamp)\n",
    "    components = [i for i in nx.connected_components(onGraph)]\n",
    "    giant_component = components[np.argmax([len(i) for i in nx.connected_components(onGraph)])]\n",
    "    nodes = list(giant_component)\n",
    "    commMat = np.zeros((network.numOfWires, network.numOfWires))\n",
    "    subComm = nx.communicability(onGraph.subgraph(giant_component))\n",
    "    for i in nodes:\n",
    "        for j in nodes:\n",
    "            commMat[i,j] = subComm[i][j]\n",
    "    return commMat"
   ]
  },
  {
   "cell_type": "code",
   "execution_count": 16,
   "metadata": {},
   "outputs": [],
   "source": [
    "#Communicability + Current Matrices\n",
    "def commCurr(sim):\n",
    "    startTime=500\n",
    "    timeSteps=50\n",
    "    endTime=1500\n",
    "    time_index=[startTime,endTime,timeSteps]#]len(sim.junctionResistance),timeSteps]\n",
    "    currMat=[None]*len(range(startTime,endTime,timeSteps))#startTime,len(sim.junctionResistance),timeSteps))\n",
    "    nodesListFull=[None]*len(range(startTime,endTime,timeSteps))#startTime,len(sim.junctionResistance),timeSteps))\n",
    "    commu_Mat=[None]*len(range(startTime,endTime,timeSteps))#startTime,len(sim.junctionResistance),timeSteps))\n",
    "    new_currGraph=[None]*len(range(startTime,endTime,timeSteps))#startTime,len(sim.junctionResistance),timeSteps))\n",
    "    count = 0\n",
    "    for i in tqdm(range(startTime,endTime,timeSteps)):#startTime,len(sim.junctionResistance),timeSteps)): #for each timestep\n",
    "        currMat[count] = np.zeros((sim.numOfWires,sim.numOfWires))\n",
    "        edgeList = sim.connectivity.edge_list\n",
    "        currMat[count][edgeList[:,0], edgeList[:,1]] = sim.junctionVoltage[i,:]/sim.junctionResistance[i,:] #-1,:\n",
    "        currMat[count] = currMat[count] + currMat[count].T\n",
    "        currGraph = nx.from_numpy_array(currMat[count])\n",
    "        subGraph = getOnGraph(sim, this_TimeStamp=i)\n",
    "        commu_Mat[count]=getSubGraphComm(sim, this_TimeStamp=i)\n",
    "        \n",
    "        components = [j for j in nx.connected_components(subGraph)] #all connected nodes in subgraph\n",
    "\n",
    "        max_ind = np.argmax([len(j) for j in nx.connected_components(subGraph)])\n",
    "        currGraph = nx.subgraph(currGraph, components[max_ind])\n",
    "        new_currGraph[count] = currGraph\n",
    "        currMat[count] = np.array(nx.adjacency_matrix(new_currGraph[count]).todense())\n",
    "\n",
    "#         commu = nx.communicability(new_currGraph[count])\n",
    "#         commu_Edges[count]=commu\n",
    "#         subSize = len(currGraph)\n",
    "        nodesList=list(currGraph.nodes)\n",
    "        nodesListFull[count]=nodesList\n",
    "\n",
    "#         commu_Mat[count] = np.array([commu[k][j] for k in nodesList for j in nodesList]).reshape(subSize,subSize)\n",
    "        count = count+1\n",
    "        \n",
    "    return nodesListFull,commu_Mat, currMat, new_currGraph, time_index"
   ]
  },
  {
   "cell_type": "markdown",
   "metadata": {},
   "source": [
    "## ASN Networks:"
   ]
  },
  {
   "cell_type": "code",
   "execution_count": 17,
   "metadata": {},
   "outputs": [],
   "source": [
    "# onAmp=[[] for i in range(len(ASN300))]\n",
    "# shortestPath=[[None]*10 for i in range(len(ASN300))]\n",
    "# for i in tqdm(range(len(ASN300))):\n",
    "#     for j in range(len(ASN300[i])):\n",
    "#         temp=getFarthestPairing(ASN300[i][j]['adj_matrix'])\n",
    "#         shortestPath[i][j]=nx.shortest_path_length(ASN300[i][j]['G'],temp[0],temp[1])\n",
    "#         onAmp[i].append(shortestPath[i][j]/5) #need to justify divide by 5 or come up with some other way\n",
    "#         ASN300[i][j]['sp_amp']=onAmp[i][j]\n",
    "#         ASN300[i][j]['Graph Theory']['Shortest Path']=shortestPath[i][j]"
   ]
  },
  {
   "cell_type": "code",
   "execution_count": 20,
   "metadata": {
    "scrolled": true
   },
   "outputs": [],
   "source": [
    "def nonlineartrans(ASN300,onAmp,i,j,nodesList,stimulus,acc):\n",
    "    \n",
    "    dt = 1e-2\n",
    "    f=0.5\n",
    "    Time=5\n",
    "    period=1/f\n",
    "   #Instantiate Variables    \n",
    "    print('Running Linear Transformation Simulations')\n",
    "    print(i)\n",
    "    print(j)\n",
    "    dt = 1e-2\n",
    "    f=0.5\n",
    "    Time=5\n",
    "\n",
    "    #Choose Electrode Pattern\n",
    "    stimulus[0][i].append((stimulus__(biasType='AC',onAmp=onAmp,TimeVector=np.arange(0,Time,dt),f=f)))\n",
    "    stimulus[1][i].append((stimulus__(biasType='Drain',TimeVector=np.arange(0,Time,dt)))) #we don't want this drain to be active during training\n",
    "\n",
    "    #Initialise Output Variables\n",
    "    period=[]\n",
    "    TimeVector=[]\n",
    "    voltage=[]\n",
    "    conductance=[]\n",
    "    switches=[]\n",
    "    results_ASN=[]\n",
    "    #Run Simulations\n",
    "    print('Parameter ' + str(i+1), ', Network ' + str(j+1))\n",
    "    #Run Simulations\n",
    "#     results=[]\n",
    "    # Connectivity=connectivity__('700nw_14533junctions.mat')\n",
    "    stimulus2 = [item for item in stimulus] #go through each list in the list and find the ith item\n",
    "#     set_trace()\n",
    "    results_ASN=runSim(connectivity__(wires_dict=ASN300[i][j]),stimulus=stimulus2, contactMode='farthest', T = Time, dt = 0.001, onAmp = onAmp, biasType='AC',f=f,junctionMode='tunneling')\n",
    "    #wires_dict=newNetworkTest[chosenNetwork])\n",
    "    results_ASN.frequency=f\n",
    "    results_ASN.dt=0.001\n",
    "    print('Saving 10 Simulations for Network ' +str(i+1) + ' Parameter ' + str(j+1))\n",
    "    results={'JunctionConductance':results_ASN.junctionConductance[-1],'JunctionVoltage':results_ASN.junctionVoltage[-1],'WireVoltage':results_ASN.wireVoltage[-1],'Switch':results_ASN.junctionSwitch[-1],'Source':results_ASN.sources[0],'Drain':results_ASN.drains[0]}\n",
    "    compressed_pickle(results,'../../../Data/Functional Connectivity/NWN Results/NWN_NLT_Simulation_2VAmp_'+str(i+1)+'_'+str(j+1)+'.pkl')\n",
    "#     print('Saved')\n",
    "    period=1/f  \n",
    "\n",
    "    print('Regressing Parameter ' + str(i+1), ', Network ' + str(j+1))\n",
    "    TimeVector=results_ASN.TimeVector\n",
    "    voltage=results_ASN.wireVoltage\n",
    "    conductance=results_ASN.conductance\n",
    "    switches=results_ASN.junctionSwitch\n",
    "\n",
    "    target1= (onAmp * (-np.sign(TimeVector % period - period/2)))\n",
    "#             target2[j] = (4*onAmp[i]/period * abs((TimeVector-period/4) % period - period/2) - onAmp[i])\n",
    "#             target3[j] = (onAmp[i]/period * (TimeVector % period))\n",
    "#             target4[j] = (onAmp[i]*np.sin(4*np.pi*(1/period)*TimeVector))\n",
    "\n",
    "    if len(ASN300[i][j]['G']) >= 250:\n",
    "        nodesList[i][j]=[50,100,150,200,250,len(ASN300[i][j]['G'])]#range(50, len(ws300[i][0])+1,50)\n",
    "    elif len(ASN300[i][j]['G']) >= 200 and len(ASN300[i][j]['G']) < 250:\n",
    "        nodesList[i][j]=[50,100,150,200,len(ASN300[i][j]['G'])]#range(50, len(ws300[i][0])+1,50)  \n",
    "    elif len(ASN300[i][j]['G']) >= 150 and len(ASN300[i][j]['G']) < 200:\n",
    "        nodesList[i][j]=[50,100,150,len(ASN300[i][j]['G'])]#range(50, len(ws300[i][0])+1,50)  \n",
    "    elif len(ASN300[i][j]['G']) >= 100 and len(ASN300[i][j]['G']) < 150:\n",
    "        nodesList[i][j]=[50,100,len(ASN300[i][j]['G'])]#range(50, len(ws300[i][0])+1,50)\n",
    "    \n",
    "    nwSqu =[None]*len(nodesList[i][j])\n",
    "    countK=0\n",
    "\n",
    "    for k in nodesList[i][j]: #loop through sets of nodes for regression\n",
    "        print('Running Regression: ' + str(k) + ' nodes')\n",
    "        ResultSqu=[]\n",
    "        ResultSqu = nonLinearTrans(results_ASN,'Square',k, repeats=50) #simulation, type of signal, number of nodes to sample from, number of linear regression repetitions (take avg)\n",
    "        nwSqu[countK]=ResultSqu['accuracy']\n",
    "        ASN300[i][j]['Accuracy']['Linear Transformation'][countK]=nwSqu[countK]\n",
    "        countK=countK+1\n",
    "            #Save networks so we don't have to run this every time\n",
    "        \n",
    "    return nwSqu"
   ]
  },
  {
   "cell_type": "code",
   "execution_count": 26,
   "metadata": {},
   "outputs": [],
   "source": [
    "out=get_NLT(connectivity__(wires_dict=ASN300[1][0]),amp=5,return_sim=True)"
   ]
  },
  {
   "cell_type": "code",
   "execution_count": 31,
   "metadata": {},
   "outputs": [
    {
     "data": {
      "text/plain": [
       "50.0"
      ]
     },
     "execution_count": 31,
     "metadata": {},
     "output_type": "execute_result"
    }
   ],
   "source": [
    "(5/ASN300[1][0]['Graph Theory']['Shortest Path'])/0.01"
   ]
  },
  {
   "cell_type": "code",
   "execution_count": 28,
   "metadata": {},
   "outputs": [
    {
     "data": {
      "text/plain": [
       "[<matplotlib.lines.Line2D at 0x7fe5ac5baa20>]"
      ]
     },
     "execution_count": 28,
     "metadata": {},
     "output_type": "execute_result"
    },
    {
     "data": {
      "image/png": "[encoded data removed]",
      "text/plain": [
       "<Figure size 432x288 with 1 Axes>"
      ]
     },
     "metadata": {
      "needs_background": "light"
     },
     "output_type": "display_data"
    }
   ],
   "source": [
    "plt.plot(out[1].conductance)"
   ]
  },
  {
   "cell_type": "code",
   "execution_count": null,
   "metadata": {},
   "outputs": [],
   "source": [
    "nonlineartrans(ASN300[0][0],onAmp,i,j,nod)"
   ]
  },
  {
   "cell_type": "code",
   "execution_count": 21,
   "metadata": {},
   "outputs": [],
   "source": [
    "onAmp=2\n",
    "nodesList=[[None]*10 for i in range(len(ASN300))]\n",
    "stimulus=[[[] for i in range(len(ASN300))],[[] for i in range(len(ASN300))]]\n",
    "acc=[[None]*10 for i in range(len(ASN300))]\n",
    "init=[]\n",
    "for i in range(len(ASN300)):\n",
    "    for j in range(len(ASN300[i])):\n",
    "        init.append(inputPacker(nonlineartrans,ASN300,onAmp,i,j,nodesList,stimulus,acc))"
   ]
  },
  {
   "cell_type": "code",
   "execution_count": 22,
   "metadata": {
    "scrolled": true
   },
   "outputs": [
    {
     "data": {
      "application/vnd.jupyter.widget-view+json": {
       "model_id": "4d20ed7d79d64c1992335a45b3eff299",
       "version_major": 2,
       "version_minor": 0
      },
      "text/plain": [
       "HBox(children=(IntProgress(value=0, max=300), HTML(value='')))"
      ]
     },
     "metadata": {},
     "output_type": "display_data"
    },
    {
     "name": "stdout",
     "output_type": "stream",
     "text": [
      "Running Linear Transformation Simulations\n",
      "0\n",
      "0\n",
      "Parameter 1 , Network 1\n"
     ]
    },
    {
     "data": {
      "application/vnd.jupyter.widget-view+json": {
       "model_id": "b213691c02924a6681e0bfba115d4e5a",
       "version_major": 2,
       "version_minor": 0
      },
      "text/plain": [
       "HBox(children=(IntProgress(value=0, description='Running Simulation ', max=5000, style=ProgressStyle(descripti…"
      ]
     },
     "metadata": {},
     "output_type": "display_data"
    },
    {
     "name": "stdout",
     "output_type": "stream",
     "text": [
      "Running Linear Transformation Simulations\n",
      "0\n",
      "1\n",
      "Parameter 1 , Network 2\n"
     ]
    },
    {
     "data": {
      "application/vnd.jupyter.widget-view+json": {
       "model_id": "4e20b3a98491426898d5bde5ab6308b4",
       "version_major": 2,
       "version_minor": 0
      },
      "text/plain": [
       "HBox(children=(IntProgress(value=0, description='Running Simulation ', max=5000, style=ProgressStyle(descripti…"
      ]
     },
     "metadata": {},
     "output_type": "display_data"
    },
    {
     "name": "stdout",
     "output_type": "stream",
     "text": [
      "Running Linear Transformation Simulations\n",
      "0\n",
      "2\n",
      "Parameter 1 , Network 3\n"
     ]
    },
    {
     "data": {
      "application/vnd.jupyter.widget-view+json": {
       "model_id": "e449e5b5a5a3483585d42d37566b64e6",
       "version_major": 2,
       "version_minor": 0
      },
      "text/plain": [
       "HBox(children=(IntProgress(value=0, description='Running Simulation ', max=5000, style=ProgressStyle(descripti…"
      ]
     },
     "metadata": {},
     "output_type": "display_data"
    },
    {
     "name": "stdout",
     "output_type": "stream",
     "text": [
      "Running Linear Transformation Simulations\n",
      "0\n",
      "3\n",
      "Parameter 1 , Network 4\n"
     ]
    },
    {
     "data": {
      "application/vnd.jupyter.widget-view+json": {
       "model_id": "3962e55284984914bd966c1d0f4b9041",
       "version_major": 2,
       "version_minor": 0
      },
      "text/plain": [
       "HBox(children=(IntProgress(value=0, description='Running Simulation ', max=5000, style=ProgressStyle(descripti…"
      ]
     },
     "metadata": {},
     "output_type": "display_data"
    },
    {
     "name": "stdout",
     "output_type": "stream",
     "text": [
      "\n"
     ]
    },
    {
     "name": "stderr",
     "output_type": "stream",
     "text": [
      "2020-09-03 16:50:37,005:INFO:First current path [115, 273, 193, 157, 296, 42, 125, 73, 248, 83] formed at time = 0.695 s.\n"
     ]
    },
    {
     "name": "stdout",
     "output_type": "stream",
     "text": [
      "Saving 10 Simulations for Network 1 Parameter 1\n",
      "Regressing Parameter 1 , Network 1\n",
      "Running Regression: 50 nodes\n",
      "Running Regression: 100 nodes\n",
      "Running Regression: 150 nodes\n",
      "Running Linear Transformation Simulations\n",
      "0\n",
      "4\n",
      "Parameter 1 , Network 5\n"
     ]
    },
    {
     "data": {
      "application/vnd.jupyter.widget-view+json": {
       "model_id": "f9c6eb24f3a044b083deaee6373b4526",
       "version_major": 2,
       "version_minor": 0
      },
      "text/plain": [
       "HBox(children=(IntProgress(value=0, description='Running Simulation ', max=5000, style=ProgressStyle(descripti…"
      ]
     },
     "metadata": {},
     "output_type": "display_data"
    },
    {
     "name": "stdout",
     "output_type": "stream",
     "text": [
      "Running Regression: 200 nodes\n",
      "Running Linear Transformation Simulations\n",
      "0\n",
      "5\n",
      "Parameter 1 , Network 6\n",
      "\n",
      "Running Regression: 250 nodes\n"
     ]
    },
    {
     "data": {
      "application/vnd.jupyter.widget-view+json": {
       "model_id": "29316bffa6c04f23831843f460124360",
       "version_major": 2,
       "version_minor": 0
      },
      "text/plain": [
       "HBox(children=(IntProgress(value=0, description='Running Simulation ', max=5000, style=ProgressStyle(descripti…"
      ]
     },
     "metadata": {},
     "output_type": "display_data"
    },
    {
     "name": "stderr",
     "output_type": "stream",
     "text": [
      "2020-09-03 16:50:43,278:INFO:First current path [44, 108, 47, 2, 193, 127, 288, 139] formed at time = 0.589 s.\n"
     ]
    },
    {
     "name": "stdout",
     "output_type": "stream",
     "text": [
      "Saving 10 Simulations for Network 1 Parameter 2\n",
      "Regressing Parameter 1 , Network 2\n",
      "Running Regression: 50 nodes\n",
      "Running Regression: 100 nodes\n",
      "Running Regression: 150 nodes\n",
      "Running Regression: 200 nodes\n",
      "Running Regression: 299 nodes\n",
      "Running Linear Transformation Simulations\n",
      "0\n",
      "6\n",
      "Parameter 1 , Network 7\n"
     ]
    },
    {
     "data": {
      "application/vnd.jupyter.widget-view+json": {
       "model_id": "2800c899a76749b9aab4d17053f9b941",
       "version_major": 2,
       "version_minor": 0
      },
      "text/plain": [
       "HBox(children=(IntProgress(value=0, description='Running Simulation ', max=5000, style=ProgressStyle(descripti…"
      ]
     },
     "metadata": {},
     "output_type": "display_data"
    },
    {
     "name": "stdout",
     "output_type": "stream",
     "text": [
      "\n"
     ]
    },
    {
     "name": "stderr",
     "output_type": "stream",
     "text": [
      "2020-09-03 16:50:47,960:INFO:First current path [8, 169, 204, 68, 100, 72] formed at time = 0.446 s.\n"
     ]
    },
    {
     "name": "stdout",
     "output_type": "stream",
     "text": [
      "Saving 10 Simulations for Network 1 Parameter 3\n",
      "Regressing Parameter 1 , Network 3\n",
      "Running Regression: 50 nodes\n",
      "Running Regression: 100 nodes\n",
      "Running Regression: 250 nodes\n",
      "Running Regression: 150 nodes\n",
      "Running Linear Transformation Simulations\n",
      "0\n",
      "7\n",
      "Parameter 1 , Network 8\n"
     ]
    },
    {
     "data": {
      "application/vnd.jupyter.widget-view+json": {
       "model_id": "9eb8acbf5c02450284edde0e0284eea2",
       "version_major": 2,
       "version_minor": 0
      },
      "text/plain": [
       "HBox(children=(IntProgress(value=0, description='Running Simulation ', max=5000, style=ProgressStyle(descripti…"
      ]
     },
     "metadata": {},
     "output_type": "display_data"
    },
    {
     "name": "stdout",
     "output_type": "stream",
     "text": [
      "Running Regression: 200 nodes\n",
      "Running Regression: 300 nodes\n",
      "\n"
     ]
    },
    {
     "name": "stderr",
     "output_type": "stream",
     "text": [
      "2020-09-03 16:50:54,540:INFO:First current path [114, 62, 118, 282, 190, 145] formed at time = 0.449 s.\n"
     ]
    },
    {
     "name": "stdout",
     "output_type": "stream",
     "text": [
      "Saving 10 Simulations for Network 1 Parameter 4\n",
      "Regressing Parameter 1 , Network 4\n",
      "Running Regression: 50 nodes\n",
      "Running Regression: 250 nodes\n",
      "Running Regression: 100 nodes\n",
      "Running Linear Transformation Simulations\n",
      "0\n",
      "8\n",
      "Parameter 1 , Network 9\n"
     ]
    },
    {
     "data": {
      "application/vnd.jupyter.widget-view+json": {
       "model_id": "21578a4898e9475cb7391ace7dd1faa7",
       "version_major": 2,
       "version_minor": 0
      },
      "text/plain": [
       "HBox(children=(IntProgress(value=0, description='Running Simulation ', max=5000, style=ProgressStyle(descripti…"
      ]
     },
     "metadata": {},
     "output_type": "display_data"
    },
    {
     "name": "stdout",
     "output_type": "stream",
     "text": [
      "\n",
      "Running Regression: 150 nodes\n"
     ]
    },
    {
     "name": "stderr",
     "output_type": "stream",
     "text": [
      "2020-09-03 16:50:56,886:INFO:First current path [19, 61, 51, 152, 186] formed at time = 0.391 s.\n"
     ]
    },
    {
     "name": "stdout",
     "output_type": "stream",
     "text": [
      "Saving 10 Simulations for Network 1 Parameter 5\n",
      "Regressing Parameter 1 , Network 5\n",
      "Running Regression: 50 nodes\n",
      "Running Regression: 100 nodes\n",
      "Running Regression: 200 nodes\n",
      "Running Regression: 150 nodes\n",
      "Running Regression: 300 nodes\n",
      "Running Linear Transformation Simulations\n",
      "0\n",
      "9\n",
      "Parameter 1 , Network 10\n"
     ]
    },
    {
     "data": {
      "application/vnd.jupyter.widget-view+json": {
       "model_id": "de6de433819a4dabb19c426e04704ff5",
       "version_major": 2,
       "version_minor": 0
      },
      "text/plain": [
       "HBox(children=(IntProgress(value=0, description='Running Simulation ', max=5000, style=ProgressStyle(descripti…"
      ]
     },
     "metadata": {},
     "output_type": "display_data"
    },
    {
     "name": "stdout",
     "output_type": "stream",
     "text": [
      "Running Regression: 200 nodes\n",
      "\n",
      "Running Regression: 250 nodes\n"
     ]
    },
    {
     "name": "stderr",
     "output_type": "stream",
     "text": [
      "2020-09-03 16:51:02,036:INFO:First current path [48, 284, 150, 56, 103] formed at time = 0.395 s.\n"
     ]
    },
    {
     "name": "stdout",
     "output_type": "stream",
     "text": [
      "Saving 10 Simulations for Network 1 Parameter 6\n",
      "Regressing Parameter 1 , Network 6\n",
      "Running Regression: 50 nodes\n",
      "Running Regression: 100 nodes\n",
      "Running Regression: 150 nodes\n",
      "Running Linear Transformation Simulations\n",
      "1\n",
      "0\n",
      "Parameter 2 , Network 1\n"
     ]
    },
    {
     "data": {
      "application/vnd.jupyter.widget-view+json": {
       "model_id": "a3990eb98e954a36b3ca55c26aefb92c",
       "version_major": 2,
       "version_minor": 0
      },
      "text/plain": [
       "HBox(children=(IntProgress(value=0, description='Running Simulation ', max=5000, style=ProgressStyle(descripti…"
      ]
     },
     "metadata": {},
     "output_type": "display_data"
    },
    {
     "name": "stdout",
     "output_type": "stream",
     "text": [
      "Running Regression: 250 nodes\n",
      "Running Regression: 200 nodes\n",
      "Running Regression: 300 nodes\n",
      "\n"
     ]
    },
    {
     "name": "stderr",
     "output_type": "stream",
     "text": [
      "2020-09-03 16:51:07,271:INFO:First current path [1, 294, 57, 234] formed at time = 0.331 s.\n"
     ]
    },
    {
     "name": "stdout",
     "output_type": "stream",
     "text": [
      "Saving 10 Simulations for Network 1 Parameter 7\n",
      "Regressing Parameter 1 , Network 7\n",
      "Running Regression: 50 nodes\n",
      "Running Regression: 100 nodes\n",
      "Running Regression: 250 nodes\n",
      "Running Linear Transformation Simulations\n",
      "1\n",
      "1\n",
      "Parameter 2 , Network 2\n",
      "Running Regression: 300 nodes\n"
     ]
    },
    {
     "data": {
      "application/vnd.jupyter.widget-view+json": {
       "model_id": "d7ba4662b3de4fc98b41a1fa42f1c869",
       "version_major": 2,
       "version_minor": 0
      },
      "text/plain": [
       "HBox(children=(IntProgress(value=0, description='Running Simulation ', max=5000, style=ProgressStyle(descripti…"
      ]
     },
     "metadata": {},
     "output_type": "display_data"
    },
    {
     "name": "stdout",
     "output_type": "stream",
     "text": [
      "Running Regression: 150 nodes\n",
      "Running Regression: 200 nodes\n",
      "\n",
      "Running Linear Transformation Simulations\n",
      "1\n",
      "2\n",
      "Parameter 2 , Network 3\n"
     ]
    },
    {
     "data": {
      "application/vnd.jupyter.widget-view+json": {
       "model_id": "1ba7e4ef35744b378be05c453d0493ce",
       "version_major": 2,
       "version_minor": 0
      },
      "text/plain": [
       "HBox(children=(IntProgress(value=0, description='Running Simulation ', max=5000, style=ProgressStyle(descripti…"
      ]
     },
     "metadata": {},
     "output_type": "display_data"
    },
    {
     "name": "stdout",
     "output_type": "stream",
     "text": [
      "Running Regression: 300 nodes\n"
     ]
    },
    {
     "name": "stderr",
     "output_type": "stream",
     "text": [
      "2020-09-03 16:51:12,708:INFO:First current path [2, 92, 250, 225] formed at time = 0.331 s.\n"
     ]
    },
    {
     "name": "stdout",
     "output_type": "stream",
     "text": [
      "Saving 10 Simulations for Network 1 Parameter 8\n",
      "Regressing Parameter 1 , Network 8\n",
      "Running Regression: 50 nodes\n",
      "Running Regression: 100 nodes\n",
      "Running Regression: 250 nodes\n",
      "Running Regression: 150 nodes\n",
      "Running Regression: 200 nodes\n",
      "Running Linear Transformation Simulations\n",
      "1\n",
      "3\n",
      "Parameter 2 , Network 4\n"
     ]
    },
    {
     "data": {
      "application/vnd.jupyter.widget-view+json": {
       "model_id": "ae55e0e6902447699729e1282130bf62",
       "version_major": 2,
       "version_minor": 0
      },
      "text/plain": [
       "HBox(children=(IntProgress(value=0, description='Running Simulation ', max=5000, style=ProgressStyle(descripti…"
      ]
     },
     "metadata": {},
     "output_type": "display_data"
    },
    {
     "name": "stdout",
     "output_type": "stream",
     "text": [
      "\n",
      "\n",
      "Running Regression: 300 nodes\n"
     ]
    },
    {
     "name": "stderr",
     "output_type": "stream",
     "text": [
      "2020-09-03 16:51:18,602:INFO:First current path [35, 194, 43, 242, 284, 74, 212, 286, 190, 24, 67] formed at time = 0.824 s.\n"
     ]
    },
    {
     "name": "stdout",
     "output_type": "stream",
     "text": [
      "Saving 10 Simulations for Network 2 Parameter 1\n",
      "Regressing Parameter 2 , Network 1\n",
      "Running Regression: 50 nodes\n"
     ]
    },
    {
     "name": "stderr",
     "output_type": "stream",
     "text": [
      "2020-09-03 16:51:18,848:INFO:First current path [2, 102, 244, 72] formed at time = 0.335 s.\n"
     ]
    },
    {
     "name": "stdout",
     "output_type": "stream",
     "text": [
      "Saving 10 Simulations for Network 1 Parameter 9\n",
      "Regressing Parameter 1 , Network 9\n",
      "Running Regression: 50 nodes\n",
      "Running Regression: 100 nodes\n",
      "Running Regression: 100 nodes\n",
      "Running Regression: 250 nodes\n",
      "Running Regression: 150 nodes\n",
      "Running Regression: 150 nodes\n",
      "Running Linear Transformation Simulations\n",
      "1\n",
      "4\n",
      "Parameter 2 , Network 5\n"
     ]
    },
    {
     "data": {
      "application/vnd.jupyter.widget-view+json": {
       "model_id": "1003e3a8cd384ff4b2993bfdeb6f3374",
       "version_major": 2,
       "version_minor": 0
      },
      "text/plain": [
       "HBox(children=(IntProgress(value=0, description='Running Simulation ', max=5000, style=ProgressStyle(descripti…"
      ]
     },
     "metadata": {},
     "output_type": "display_data"
    },
    {
     "name": "stdout",
     "output_type": "stream",
     "text": [
      "Running Regression: 200 nodes\n",
      "Running Regression: 200 nodes\n",
      "\n"
     ]
    },
    {
     "name": "stderr",
     "output_type": "stream",
     "text": [
      "2020-09-03 16:51:24,831:INFO:First current path [4, 2, 145, 129] formed at time = 0.334 s.\n"
     ]
    },
    {
     "name": "stdout",
     "output_type": "stream",
     "text": [
      "Saving 10 Simulations for Network 1 Parameter 10\n",
      "\n",
      "Regressing Parameter 1 , Network 10\n",
      "Running Regression: 50 nodes\n",
      "Running Regression: 300 nodes\n"
     ]
    },
    {
     "name": "stderr",
     "output_type": "stream",
     "text": [
      "2020-09-03 16:51:25,100:INFO:First current path [6, 18, 107, 136, 130, 204, 255, 108] formed at time = 0.565 s.\n"
     ]
    },
    {
     "name": "stdout",
     "output_type": "stream",
     "text": [
      "Saving 10 Simulations for Network 2 Parameter 2\n",
      "Regressing Parameter 2 , Network 2\n",
      "Running Regression: 50 nodes\n",
      "Running Regression: 100 nodes\n",
      "Running Regression: 100 nodes\n",
      "Running Linear Transformation Simulations\n",
      "1\n",
      "5\n",
      "Parameter 2 , Network 6\n",
      "Running Regression: 250 nodes\n",
      "Running Regression: 250 nodes\n"
     ]
    },
    {
     "data": {
      "application/vnd.jupyter.widget-view+json": {
       "model_id": "3a3b700ee5874641ba8015b71693ffed",
       "version_major": 2,
       "version_minor": 0
      },
      "text/plain": [
       "HBox(children=(IntProgress(value=0, description='Running Simulation ', max=5000, style=ProgressStyle(descripti…"
      ]
     },
     "metadata": {},
     "output_type": "display_data"
    },
    {
     "name": "stdout",
     "output_type": "stream",
     "text": [
      "Running Regression: 150 nodes\n",
      "Running Regression: 150 nodes\n",
      "\n",
      "Running Regression: 200 nodes\n",
      "Running Regression: 200 nodes\n"
     ]
    },
    {
     "name": "stderr",
     "output_type": "stream",
     "text": [
      "2020-09-03 16:51:29,302:INFO:First current path [223, 108, 174, 114, 188, 66, 168, 287, 70] formed at time = 0.646 s.\n"
     ]
    },
    {
     "name": "stdout",
     "output_type": "stream",
     "text": [
      "Saving 10 Simulations for Network 2 Parameter 3\n",
      "Regressing Parameter 2 , Network 3\n",
      "Running Regression: 50 nodes\n",
      "Running Regression: 100 nodes\n",
      "Running Linear Transformation Simulations\n",
      "1\n",
      "6\n",
      "Parameter 2 , Network 7\n"
     ]
    },
    {
     "data": {
      "application/vnd.jupyter.widget-view+json": {
       "model_id": "34d03293b1944bf7821d681af9a1a804",
       "version_major": 2,
       "version_minor": 0
      },
      "text/plain": [
       "HBox(children=(IntProgress(value=0, description='Running Simulation ', max=5000, style=ProgressStyle(descripti…"
      ]
     },
     "metadata": {},
     "output_type": "display_data"
    },
    {
     "name": "stdout",
     "output_type": "stream",
     "text": [
      "Running Regression: 300 nodes\n",
      "Running Regression: 298 nodes\n",
      "Running Regression: 150 nodes\n",
      "Running Regression: 250 nodes\n",
      "Running Regression: 250 nodes\n",
      "Running Regression: 200 nodes\n",
      "\n"
     ]
    },
    {
     "name": "stderr",
     "output_type": "stream",
     "text": [
      "2020-09-03 16:51:35,382:INFO:First current path [14, 39, 254, 53, 238, 124] formed at time = 0.449 s.\n"
     ]
    },
    {
     "name": "stdout",
     "output_type": "stream",
     "text": [
      "Saving 10 Simulations for Network 2 Parameter 4\n",
      "Regressing Parameter 2 , Network 4\n",
      "Running Regression: 50 nodes\n",
      "Running Regression: 100 nodes\n",
      "Running Regression: 250 nodes\n",
      "Running Regression: 300 nodes\n",
      "Running Regression: 300 nodes\n",
      "Running Regression: 150 nodes\n",
      "Running Linear Transformation Simulations\n",
      "1\n",
      "7\n",
      "Parameter 2 , Network 8\n"
     ]
    },
    {
     "data": {
      "application/vnd.jupyter.widget-view+json": {
       "model_id": "311dce816f08476590c14f80588ad737",
       "version_major": 2,
       "version_minor": 0
      },
      "text/plain": [
       "HBox(children=(IntProgress(value=0, description='Running Simulation ', max=5000, style=ProgressStyle(descripti…"
      ]
     },
     "metadata": {},
     "output_type": "display_data"
    },
    {
     "name": "stdout",
     "output_type": "stream",
     "text": [
      "Running Regression: 200 nodes\n",
      "\n",
      "Running Regression: 300 nodes\n"
     ]
    },
    {
     "name": "stderr",
     "output_type": "stream",
     "text": [
      "2020-09-03 16:51:40,997:INFO:First current path [34, 257, 152, 55, 293, 194] formed at time = 0.454 s.\n"
     ]
    },
    {
     "name": "stdout",
     "output_type": "stream",
     "text": [
      "Saving 10 Simulations for Network 2 Parameter 5\n",
      "Regressing Parameter 2 , Network 5\n",
      "Running Regression: 50 nodes\n",
      "Running Regression: 100 nodes\n",
      "Running Linear Transformation Simulations\n",
      "1\n",
      "8\n",
      "Parameter 2 , Network 9\n"
     ]
    },
    {
     "data": {
      "application/vnd.jupyter.widget-view+json": {
       "model_id": "91ba0eaa17ad42b19be162e5d0f30250",
       "version_major": 2,
       "version_minor": 0
      },
      "text/plain": [
       "HBox(children=(IntProgress(value=0, description='Running Simulation ', max=5000, style=ProgressStyle(descripti…"
      ]
     },
     "metadata": {},
     "output_type": "display_data"
    },
    {
     "name": "stdout",
     "output_type": "stream",
     "text": [
      "Running Regression: 250 nodes\n",
      "Running Regression: 150 nodes\n",
      "\n"
     ]
    },
    {
     "name": "stderr",
     "output_type": "stream",
     "text": [
      "2020-09-03 16:51:44,390:INFO:First current path [0, 238, 294, 32, 239] formed at time = 0.39 s.\n"
     ]
    },
    {
     "name": "stdout",
     "output_type": "stream",
     "text": [
      "Saving 10 Simulations for Network 2 Parameter 6\n",
      "Regressing Parameter 2 , Network 6\n",
      "Running Regression: 50 nodes\n",
      "Running Regression: 200 nodes\n",
      "Running Regression: 100 nodes\n",
      "Running Linear Transformation Simulations\n",
      "1\n",
      "9\n",
      "Parameter 2 , Network 10\n",
      "Running Regression: 150 nodes\n"
     ]
    },
    {
     "data": {
      "application/vnd.jupyter.widget-view+json": {
       "model_id": "260cbbd9cecf4c7ebcdc4e52ae650a87",
       "version_major": 2,
       "version_minor": 0
      },
      "text/plain": [
       "HBox(children=(IntProgress(value=0, description='Running Simulation ', max=5000, style=ProgressStyle(descripti…"
      ]
     },
     "metadata": {},
     "output_type": "display_data"
    },
    {
     "name": "stdout",
     "output_type": "stream",
     "text": [
      "Running Regression: 300 nodes\n",
      "Running Regression: 250 nodes\n",
      "Running Regression: 200 nodes\n",
      "\n"
     ]
    },
    {
     "name": "stderr",
     "output_type": "stream",
     "text": [
      "2020-09-03 16:51:49,266:INFO:First current path [5, 174, 89, 237, 185] formed at time = 0.392 s.\n"
     ]
    },
    {
     "name": "stdout",
     "output_type": "stream",
     "text": [
      "Saving 10 Simulations for Network 2 Parameter 7\n",
      "Regressing Parameter 2 , Network 7\n",
      "Running Regression: 50 nodes\n",
      "Running Regression: 100 nodes\n",
      "Running Regression: 150 nodes\n",
      "Running Regression: 250 nodes\n",
      "Running Linear Transformation Simulations\n",
      "2\n",
      "0\n",
      "Parameter 3 , Network 1\n"
     ]
    },
    {
     "data": {
      "application/vnd.jupyter.widget-view+json": {
       "model_id": "8a26157120c3403f9737a9384d799079",
       "version_major": 2,
       "version_minor": 0
      },
      "text/plain": [
       "HBox(children=(IntProgress(value=0, description='Running Simulation ', max=5000, style=ProgressStyle(descripti…"
      ]
     },
     "metadata": {},
     "output_type": "display_data"
    },
    {
     "name": "stdout",
     "output_type": "stream",
     "text": [
      "Running Regression: 300 nodes\n",
      "Running Regression: 200 nodes\n",
      "Running Regression: 300 nodes\n",
      "Running Linear Transformation Simulations\n",
      "2\n",
      "1\n",
      "Parameter 3 , Network 2\n"
     ]
    },
    {
     "data": {
      "application/vnd.jupyter.widget-view+json": {
       "model_id": "766ad6eea68e4b12a2737c210065ae31",
       "version_major": 2,
       "version_minor": 0
      },
      "text/plain": [
       "HBox(children=(IntProgress(value=0, description='Running Simulation ', max=5000, style=ProgressStyle(descripti…"
      ]
     },
     "metadata": {},
     "output_type": "display_data"
    },
    {
     "name": "stdout",
     "output_type": "stream",
     "text": [
      "Running Regression: 250 nodes\n",
      "\n"
     ]
    },
    {
     "name": "stderr",
     "output_type": "stream",
     "text": [
      "2020-09-03 16:51:57,070:INFO:First current path [41, 78, 50, 75, 267] formed at time = 0.392 s.\n"
     ]
    },
    {
     "name": "stdout",
     "output_type": "stream",
     "text": [
      "Saving 10 Simulations for Network 2 Parameter 8\n",
      "Regressing Parameter 2 , Network 8\n",
      "Running Regression: 50 nodes\n",
      "Running Regression: 100 nodes\n",
      "Running Linear Transformation Simulations\n",
      "2\n",
      "2\n",
      "Parameter 3 , Network 3\n"
     ]
    },
    {
     "data": {
      "application/vnd.jupyter.widget-view+json": {
       "model_id": "4409f21151cb4f4cba4f46d1ab61d6f6",
       "version_major": 2,
       "version_minor": 0
      },
      "text/plain": [
       "HBox(children=(IntProgress(value=0, description='Running Simulation ', max=5000, style=ProgressStyle(descripti…"
      ]
     },
     "metadata": {},
     "output_type": "display_data"
    },
    {
     "name": "stdout",
     "output_type": "stream",
     "text": [
      "Running Regression: 150 nodes\n",
      "Running Regression: 200 nodes\n",
      "Running Regression: 300 nodes\n",
      "\n",
      "Running Linear Transformation Simulations\n",
      "2\n",
      "3\n",
      "Parameter 3 , Network 4\n"
     ]
    },
    {
     "name": "stderr",
     "output_type": "stream",
     "text": [
      "2020-09-03 16:52:03,026:INFO:First current path [0, 31, 147, 257] formed at time = 0.335 s.\n"
     ]
    },
    {
     "name": "stdout",
     "output_type": "stream",
     "text": [
      "Saving 10 Simulations for Network 2 Parameter 9\n"
     ]
    },
    {
     "data": {
      "application/vnd.jupyter.widget-view+json": {
       "model_id": "2fa32a1dfbe644e0be4d1d96677fce6d",
       "version_major": 2,
       "version_minor": 0
      },
      "text/plain": [
       "HBox(children=(IntProgress(value=0, description='Running Simulation ', max=5000, style=ProgressStyle(descripti…"
      ]
     },
     "metadata": {},
     "output_type": "display_data"
    },
    {
     "name": "stdout",
     "output_type": "stream",
     "text": [
      "Regressing Parameter 2 , Network 9\n",
      "Running Regression: 50 nodes\n",
      "Running Regression: 100 nodes\n",
      "Running Regression: 250 nodes\n",
      "\n",
      "Unfortunately, only 0 current paths found in simulation time.\n"
     ]
    },
    {
     "name": "stderr",
     "output_type": "stream",
     "text": [
      "2020-09-03 16:52:04,857:INFO:Unfortunately, no current path is formed in simulation time.\n"
     ]
    },
    {
     "name": "stdout",
     "output_type": "stream",
     "text": [
      "Saving 10 Simulations for Network 3 Parameter 1\n",
      "Running Regression: 150 nodes\n",
      "Regressing Parameter 3 , Network 1\n",
      "Running Regression: 50 nodes\n",
      "Running Regression: 100 nodes\n",
      "Running Linear Transformation Simulations\n",
      "2\n",
      "4\n",
      "Parameter 3 , Network 5\n",
      "\n"
     ]
    },
    {
     "data": {
      "application/vnd.jupyter.widget-view+json": {
       "model_id": "e6fb1767b21d45fe9db34297b247e79c",
       "version_major": 2,
       "version_minor": 0
      },
      "text/plain": [
       "HBox(children=(IntProgress(value=0, description='Running Simulation ', max=5000, style=ProgressStyle(descripti…"
      ]
     },
     "metadata": {},
     "output_type": "display_data"
    },
    {
     "name": "stdout",
     "output_type": "stream",
     "text": [
      "Running Regression: 150 nodes\n",
      "Running Regression: 200 nodes\n"
     ]
    },
    {
     "name": "stderr",
     "output_type": "stream",
     "text": [
      "2020-09-03 16:52:07,085:INFO:First current path [0, 175, 119, 182] formed at time = 0.332 s.\n"
     ]
    },
    {
     "name": "stdout",
     "output_type": "stream",
     "text": [
      "Saving 10 Simulations for Network 2 Parameter 10\n",
      "Regressing Parameter 2 , Network 10\n",
      "Running Regression: 50 nodes\n",
      "Running Regression: 100 nodes\n",
      "Running Regression: 300 nodes\n",
      "Running Regression: 150 nodes\n",
      "Running Regression: 200 nodes\n",
      "Running Regression: 250 nodes\n",
      "Running Regression: 200 nodes\n",
      "Running Linear Transformation Simulations\n",
      "2\n",
      "5\n",
      "Parameter 3 , Network 6\n"
     ]
    },
    {
     "data": {
      "application/vnd.jupyter.widget-view+json": {
       "model_id": "adb3bd31e77141a8a1e73fc5bbe51c2a",
       "version_major": 2,
       "version_minor": 0
      },
      "text/plain": [
       "HBox(children=(IntProgress(value=0, description='Running Simulation ', max=5000, style=ProgressStyle(descripti…"
      ]
     },
     "metadata": {},
     "output_type": "display_data"
    },
    {
     "name": "stdout",
     "output_type": "stream",
     "text": [
      "\n"
     ]
    },
    {
     "name": "stderr",
     "output_type": "stream",
     "text": [
      "2020-09-03 16:52:11,952:INFO:First current path [14, 178, 0, 292, 210, 175, 183, 179, 154, 221] formed at time = 0.74 s.\n"
     ]
    },
    {
     "name": "stdout",
     "output_type": "stream",
     "text": [
      "Saving 10 Simulations for Network 3 Parameter 2\n",
      "Regressing Parameter 3 , Network 2\n",
      "Running Regression: 50 nodes\n",
      "Running Regression: 250 nodes\n",
      "Running Regression: 100 nodes\n",
      "\n",
      "Running Regression: 150 nodes\n",
      "Running Regression: 250 nodes\n"
     ]
    },
    {
     "name": "stderr",
     "output_type": "stream",
     "text": [
      "2020-09-03 16:52:14,118:INFO:First current path [145, 155, 107, 249, 171, 26, 126, 40, 207, 102] formed at time = 0.789 s.\n"
     ]
    },
    {
     "name": "stdout",
     "output_type": "stream",
     "text": [
      "Saving 10 Simulations for Network 3 Parameter 3\n",
      "Regressing Parameter 3 , Network 3\n",
      "Running Regression: 50 nodes\n",
      "Running Regression: 100 nodes\n",
      "Running Regression: 300 nodes\n",
      "Running Linear Transformation Simulations\n",
      "2\n",
      "6\n",
      "Parameter 3 , Network 7\n"
     ]
    },
    {
     "data": {
      "application/vnd.jupyter.widget-view+json": {
       "model_id": "8aa317349b2a43f68cf1d3a55e14c50f",
       "version_major": 2,
       "version_minor": 0
      },
      "text/plain": [
       "HBox(children=(IntProgress(value=0, description='Running Simulation ', max=5000, style=ProgressStyle(descripti…"
      ]
     },
     "metadata": {},
     "output_type": "display_data"
    },
    {
     "name": "stdout",
     "output_type": "stream",
     "text": [
      "Running Regression: 200 nodes\n",
      "Running Regression: 150 nodes\n",
      "Running Regression: 292 nodes\n",
      "Running Regression: 200 nodes\n",
      "Running Regression: 300 nodes\n",
      "Running Regression: 250 nodes\n",
      "\n"
     ]
    },
    {
     "name": "stderr",
     "output_type": "stream",
     "text": [
      "2020-09-03 16:52:20,050:INFO:First current path [1, 278, 235, 223, 143, 92, 26] formed at time = 0.526 s.\n"
     ]
    },
    {
     "name": "stdout",
     "output_type": "stream",
     "text": [
      "Saving 10 Simulations for Network 3 Parameter 4\n",
      "Regressing Parameter 3 , Network 4\n",
      "Running Regression: 50 nodes\n",
      "Running Linear Transformation Simulations\n",
      "2\n",
      "7\n",
      "Parameter 3 , Network 8\n"
     ]
    },
    {
     "data": {
      "application/vnd.jupyter.widget-view+json": {
       "model_id": "be4a719a835243419fdf5f492648cc40",
       "version_major": 2,
       "version_minor": 0
      },
      "text/plain": [
       "HBox(children=(IntProgress(value=0, description='Running Simulation ', max=5000, style=ProgressStyle(descripti…"
      ]
     },
     "metadata": {},
     "output_type": "display_data"
    },
    {
     "name": "stdout",
     "output_type": "stream",
     "text": [
      "Running Regression: 100 nodes\n",
      "Running Regression: 250 nodes\n",
      "Running Regression: 150 nodes\n",
      "Running Regression: 300 nodes\n",
      "Running Regression: 200 nodes\n",
      "\n"
     ]
    },
    {
     "name": "stderr",
     "output_type": "stream",
     "text": [
      "2020-09-03 16:52:24,489:INFO:First current path [2, 160, 32, 191, 205, 21] formed at time = 0.45 s.\n"
     ]
    },
    {
     "name": "stdout",
     "output_type": "stream",
     "text": [
      "Saving 10 Simulations for Network 3 Parameter 5\n",
      "Regressing Parameter 3 , Network 5\n",
      "Running Regression: 50 nodes\n",
      "Running Regression: 100 nodes\n",
      "Running Regression: 300 nodes\n",
      "Running Regression: 150 nodes\n",
      "Running Linear Transformation Simulations\n",
      "2\n",
      "8\n",
      "Parameter 3 , Network 9\n"
     ]
    },
    {
     "data": {
      "application/vnd.jupyter.widget-view+json": {
       "model_id": "e4925d7aac7a47cd8d8d9251b60146a7",
       "version_major": 2,
       "version_minor": 0
      },
      "text/plain": [
       "HBox(children=(IntProgress(value=0, description='Running Simulation ', max=5000, style=ProgressStyle(descripti…"
      ]
     },
     "metadata": {},
     "output_type": "display_data"
    },
    {
     "name": "stdout",
     "output_type": "stream",
     "text": [
      "Running Regression: 250 nodes\n",
      "Running Regression: 200 nodes\n",
      "\n"
     ]
    },
    {
     "name": "stderr",
     "output_type": "stream",
     "text": [
      "2020-09-03 16:52:30,715:INFO:First current path [74, 53, 121, 224, 28, 241] formed at time = 0.446 s.\n"
     ]
    },
    {
     "name": "stdout",
     "output_type": "stream",
     "text": [
      "Saving 10 Simulations for Network 3 Parameter 6\n",
      "Regressing Parameter 3 , Network 6\n",
      "Running Regression: 50 nodes\n",
      "Running Regression: 100 nodes\n",
      "Running Regression: 300 nodes\n",
      "Running Regression: 250 nodes\n",
      "Running Linear Transformation Simulations\n",
      "2\n",
      "9\n",
      "Parameter 3 , Network 10\n"
     ]
    },
    {
     "data": {
      "application/vnd.jupyter.widget-view+json": {
       "model_id": "fcf5ae71cec6468287bd2a4a4da29232",
       "version_major": 2,
       "version_minor": 0
      },
      "text/plain": [
       "HBox(children=(IntProgress(value=0, description='Running Simulation ', max=5000, style=ProgressStyle(descripti…"
      ]
     },
     "metadata": {},
     "output_type": "display_data"
    },
    {
     "name": "stdout",
     "output_type": "stream",
     "text": [
      "Running Regression: 150 nodes\n",
      "\n"
     ]
    },
    {
     "name": "stderr",
     "output_type": "stream",
     "text": [
      "2020-09-03 16:52:33,311:INFO:First current path [60, 244, 299, 122, 234, 250] formed at time = 0.466 s.\n"
     ]
    },
    {
     "name": "stdout",
     "output_type": "stream",
     "text": [
      "Saving 10 Simulations for Network 3 Parameter 7\n",
      "Regressing Parameter 3 , Network 7\n",
      "Running Regression: 50 nodes\n",
      "Running Regression: 100 nodes\n",
      "Running Regression: 200 nodes\n",
      "Running Regression: 150 nodes\n",
      "Running Regression: 300 nodes\n",
      "Running Linear Transformation Simulations\n",
      "3\n",
      "0\n",
      "Parameter 4 , Network 1\n"
     ]
    },
    {
     "data": {
      "application/vnd.jupyter.widget-view+json": {
       "model_id": "d2de58c17ced45da95b8c30454ba43f9",
       "version_major": 2,
       "version_minor": 0
      },
      "text/plain": [
       "HBox(children=(IntProgress(value=0, description='Running Simulation ', max=5000, style=ProgressStyle(descripti…"
      ]
     },
     "metadata": {},
     "output_type": "display_data"
    },
    {
     "name": "stdout",
     "output_type": "stream",
     "text": [
      "Running Regression: 200 nodes\n",
      "Running Regression: 250 nodes\n",
      "\n"
     ]
    },
    {
     "name": "stderr",
     "output_type": "stream",
     "text": [
      "2020-09-03 16:52:38,776:INFO:First current path [2, 83, 231, 111, 123] formed at time = 0.394 s.\n"
     ]
    },
    {
     "name": "stdout",
     "output_type": "stream",
     "text": [
      "Saving 10 Simulations for Network 3 Parameter 8\n",
      "Regressing Parameter 3 , Network 8\n",
      "Running Regression: 50 nodes\n",
      "Running Regression: 100 nodes\n",
      "Running Regression: 250 nodes\n",
      "Running Regression: 150 nodes\n",
      "Running Linear Transformation Simulations\n",
      "3\n",
      "1\n",
      "Parameter 4 , Network 2\n"
     ]
    },
    {
     "data": {
      "application/vnd.jupyter.widget-view+json": {
       "model_id": "186d1d50fb0f43618c3920651b8c5a62",
       "version_major": 2,
       "version_minor": 0
      },
      "text/plain": [
       "HBox(children=(IntProgress(value=0, description='Running Simulation ', max=5000, style=ProgressStyle(descripti…"
      ]
     },
     "metadata": {},
     "output_type": "display_data"
    },
    {
     "name": "stdout",
     "output_type": "stream",
     "text": [
      "Running Regression: 300 nodes\n",
      "Running Regression: 200 nodes\n",
      "Running Linear Transformation Simulations\n",
      "3\n",
      "2\n",
      "Parameter 4 , Network 3\n"
     ]
    },
    {
     "data": {
      "application/vnd.jupyter.widget-view+json": {
       "model_id": "a743b73226104823b97ca0119ea73e64",
       "version_major": 2,
       "version_minor": 0
      },
      "text/plain": [
       "HBox(children=(IntProgress(value=0, description='Running Simulation ', max=5000, style=ProgressStyle(descripti…"
      ]
     },
     "metadata": {},
     "output_type": "display_data"
    },
    {
     "name": "stdout",
     "output_type": "stream",
     "text": [
      "Running Regression: 300 nodes\n",
      "Running Regression: 250 nodes\n",
      "\n"
     ]
    },
    {
     "name": "stderr",
     "output_type": "stream",
     "text": [
      "2020-09-03 16:52:46,712:INFO:First current path [55, 27, 65, 167, 102] formed at time = 0.393 s.\n"
     ]
    },
    {
     "name": "stdout",
     "output_type": "stream",
     "text": [
      "Saving 10 Simulations for Network 3 Parameter 9\n",
      "Regressing Parameter 3 , Network 9\n",
      "Running Regression: 50 nodes\n",
      "Running Regression: 100 nodes\n",
      "Running Linear Transformation Simulations\n",
      "3\n",
      "3\n",
      "Parameter 4 , Network 4\n",
      "Running Regression: 150 nodes\n"
     ]
    },
    {
     "data": {
      "application/vnd.jupyter.widget-view+json": {
       "model_id": "641792fab7ae4864ac9be7c8ad9194f2",
       "version_major": 2,
       "version_minor": 0
      },
      "text/plain": [
       "HBox(children=(IntProgress(value=0, description='Running Simulation ', max=5000, style=ProgressStyle(descripti…"
      ]
     },
     "metadata": {},
     "output_type": "display_data"
    },
    {
     "name": "stdout",
     "output_type": "stream",
     "text": [
      "\n",
      "Unfortunately, only 0 current paths found in simulation time.\n"
     ]
    },
    {
     "name": "stderr",
     "output_type": "stream",
     "text": [
      "2020-09-03 16:52:49,202:INFO:Unfortunately, no current path is formed in simulation time.\n"
     ]
    },
    {
     "name": "stdout",
     "output_type": "stream",
     "text": [
      "Saving 10 Simulations for Network 4 Parameter 1\n",
      "Regressing Parameter 4 , Network 1\n",
      "Running Regression: 50 nodes\n",
      "Running Regression: 100 nodes\n",
      "Running Regression: 300 nodes\n",
      "Running Regression: 200 nodes\n",
      "Running Regression: 150 nodes\n",
      "\n",
      "Running Linear Transformation Simulations\n",
      "3\n",
      "4\n",
      "Parameter 4 , Network 5\n"
     ]
    },
    {
     "data": {
      "application/vnd.jupyter.widget-view+json": {
       "model_id": "684cd8e608dd42dab8e3e438b1be4e6f",
       "version_major": 2,
       "version_minor": 0
      },
      "text/plain": [
       "HBox(children=(IntProgress(value=0, description='Running Simulation ', max=5000, style=ProgressStyle(descripti…"
      ]
     },
     "metadata": {},
     "output_type": "display_data"
    },
    {
     "name": "stderr",
     "output_type": "stream",
     "text": [
      "2020-09-03 16:52:52,671:INFO:First current path [1, 50, 73, 210] formed at time = 0.33 s.\n"
     ]
    },
    {
     "name": "stdout",
     "output_type": "stream",
     "text": [
      "Saving 10 Simulations for Network 3 Parameter 10\n",
      "Running Regression: 200 nodes\n",
      "Regressing Parameter 3 , Network 10\n",
      "Running Regression: 50 nodes\n",
      "Running Regression: 100 nodes\n",
      "Running Regression: 250 nodes\n",
      "Running Regression: 150 nodes\n",
      "Running Regression: 250 nodes\n",
      "\n",
      "Running Regression: 200 nodes\n",
      "Running Linear Transformation Simulations\n",
      "3\n",
      "5\n",
      "Parameter 4 , Network 6\n"
     ]
    },
    {
     "data": {
      "application/vnd.jupyter.widget-view+json": {
       "model_id": "21fcdf0ac0c345a7a9bbc0deb304cc89",
       "version_major": 2,
       "version_minor": 0
      },
      "text/plain": [
       "HBox(children=(IntProgress(value=0, description='Running Simulation ', max=5000, style=ProgressStyle(descripti…"
      ]
     },
     "metadata": {},
     "output_type": "display_data"
    },
    {
     "name": "stdout",
     "output_type": "stream",
     "text": [
      "Running Regression: 300 nodes\n",
      "Unfortunately, only 0 current paths found in simulation time.\n"
     ]
    },
    {
     "name": "stderr",
     "output_type": "stream",
     "text": [
      "2020-09-03 16:52:58,451:INFO:Unfortunately, no current path is formed in simulation time.\n"
     ]
    },
    {
     "name": "stdout",
     "output_type": "stream",
     "text": [
      "Saving 10 Simulations for Network 4 Parameter 2\n",
      "Regressing Parameter 4 , Network 2\n",
      "Running Regression: 50 nodes\n",
      "\n",
      "Running Regression: 100 nodes\n"
     ]
    },
    {
     "name": "stderr",
     "output_type": "stream",
     "text": [
      "2020-09-03 16:52:59,378:INFO:First current path [95, 59, 87, 164, 194, 58, 50, 103, 151] formed at time = 0.657 s.\n"
     ]
    },
    {
     "name": "stdout",
     "output_type": "stream",
     "text": [
      "Saving 10 Simulations for Network 4 Parameter 3\n",
      "Regressing Parameter 4 , Network 3\n",
      "Running Regression: 50 nodes\n",
      "Running Regression: 295 nodes\n",
      "Running Regression: 100 nodes\n",
      "Running Regression: 250 nodes\n",
      "Running Regression: 150 nodes\n",
      "Running Regression: 150 nodes\n",
      "Running Linear Transformation Simulations\n",
      "3\n",
      "6\n",
      "Parameter 4 , Network 7\n"
     ]
    },
    {
     "data": {
      "application/vnd.jupyter.widget-view+json": {
       "model_id": "f50985ed2cba4d6ea91009a424f185ad",
       "version_major": 2,
       "version_minor": 0
      },
      "text/plain": [
       "HBox(children=(IntProgress(value=0, description='Running Simulation ', max=5000, style=ProgressStyle(descripti…"
      ]
     },
     "metadata": {},
     "output_type": "display_data"
    },
    {
     "name": "stdout",
     "output_type": "stream",
     "text": [
      "Running Regression: 200 nodes\n",
      "Running Regression: 200 nodes\n",
      "\n",
      "Running Linear Transformation Simulations\n",
      "3\n",
      "7\n",
      "Parameter 4 , Network 8\n",
      "Running Regression: 300 nodes\n"
     ]
    },
    {
     "name": "stderr",
     "output_type": "stream",
     "text": [
      "2020-09-03 16:53:04,996:INFO:First current path [100, 298, 62, 115, 73, 17, 207, 33, 7] formed at time = 0.655 s.\n"
     ]
    },
    {
     "name": "stdout",
     "output_type": "stream",
     "text": [
      "Saving 10 Simulations for Network 4 Parameter 4\n",
      "Regressing Parameter 4 , Network 4\n",
      "Running Regression: 50 nodes\n",
      "Running Regression: 250 nodes\n"
     ]
    },
    {
     "data": {
      "application/vnd.jupyter.widget-view+json": {
       "model_id": "01f9d37ebc694d478cd1ca6d0c0e50c1",
       "version_major": 2,
       "version_minor": 0
      },
      "text/plain": [
       "HBox(children=(IntProgress(value=0, description='Running Simulation ', max=5000, style=ProgressStyle(descripti…"
      ]
     },
     "metadata": {},
     "output_type": "display_data"
    },
    {
     "name": "stdout",
     "output_type": "stream",
     "text": [
      "Running Regression: 100 nodes\n",
      "Running Regression: 250 nodes\n",
      "Running Regression: 150 nodes\n",
      "Running Regression: 200 nodes\n",
      "Running Regression: 299 nodes\n",
      "\n"
     ]
    },
    {
     "name": "stderr",
     "output_type": "stream",
     "text": [
      "2020-09-03 16:53:09,681:INFO:First current path [7, 21, 15, 103, 186, 149, 40] formed at time = 0.507 s.\n"
     ]
    },
    {
     "name": "stdout",
     "output_type": "stream",
     "text": [
      "Saving 10 Simulations for Network 4 Parameter 5\n",
      "Regressing Parameter 4 , Network 5\n",
      "Running Regression: 50 nodes\n",
      "Running Linear Transformation Simulations\n",
      "3\n",
      "8\n",
      "Parameter 4 , Network 9\n"
     ]
    },
    {
     "data": {
      "application/vnd.jupyter.widget-view+json": {
       "model_id": "68546e7458084fc9a7ae191e34fb6f60",
       "version_major": 2,
       "version_minor": 0
      },
      "text/plain": [
       "HBox(children=(IntProgress(value=0, description='Running Simulation ', max=5000, style=ProgressStyle(descripti…"
      ]
     },
     "metadata": {},
     "output_type": "display_data"
    },
    {
     "name": "stdout",
     "output_type": "stream",
     "text": [
      "Running Regression: 100 nodes\n",
      "Running Regression: 297 nodes\n",
      "Running Regression: 150 nodes\n",
      "Running Regression: 250 nodes\n",
      "Running Regression: 200 nodes\n",
      "Running Linear Transformation Simulations\n",
      "3\n",
      "9\n",
      "Parameter 4 , Network 10\n"
     ]
    },
    {
     "data": {
      "application/vnd.jupyter.widget-view+json": {
       "model_id": "b8e9d36352ff49e589b9ec05d10d8646",
       "version_major": 2,
       "version_minor": 0
      },
      "text/plain": [
       "HBox(children=(IntProgress(value=0, description='Running Simulation ', max=5000, style=ProgressStyle(descripti…"
      ]
     },
     "metadata": {},
     "output_type": "display_data"
    },
    {
     "name": "stdout",
     "output_type": "stream",
     "text": [
      "\n"
     ]
    },
    {
     "name": "stderr",
     "output_type": "stream",
     "text": [
      "2020-09-03 16:53:15,829:INFO:First current path [94, 59, 34, 251, 179, 173, 155] formed at time = 0.514 s.\n"
     ]
    },
    {
     "name": "stdout",
     "output_type": "stream",
     "text": [
      "Saving 10 Simulations for Network 4 Parameter 6\n",
      "Regressing Parameter 4 , Network 6\n",
      "Running Regression: 50 nodes\n",
      "Running Regression: 100 nodes\n",
      "Running Regression: 299 nodes\n",
      "Running Regression: 250 nodes\n",
      "Running Regression: 150 nodes\n",
      "Running Linear Transformation Simulations\n",
      "4\n",
      "0\n",
      "Parameter 5 , Network 1\n"
     ]
    },
    {
     "data": {
      "application/vnd.jupyter.widget-view+json": {
       "model_id": "4b19b32a53fa41faa633d85d2def0100",
       "version_major": 2,
       "version_minor": 0
      },
      "text/plain": [
       "HBox(children=(IntProgress(value=0, description='Running Simulation ', max=5000, style=ProgressStyle(descripti…"
      ]
     },
     "metadata": {},
     "output_type": "display_data"
    },
    {
     "name": "stdout",
     "output_type": "stream",
     "text": [
      "Running Regression: 200 nodes\n",
      "\n"
     ]
    },
    {
     "name": "stderr",
     "output_type": "stream",
     "text": [
      "2020-09-03 16:53:20,221:INFO:First current path [65, 16, 140, 14, 55, 97] formed at time = 0.449 s.\n"
     ]
    },
    {
     "name": "stdout",
     "output_type": "stream",
     "text": [
      "Saving 10 Simulations for Network 4 Parameter 7\n",
      "Regressing Parameter 4 , Network 7\n",
      "Running Regression: 50 nodes\n",
      "Running Regression: 100 nodes\n",
      "Running Regression: 299 nodes\n",
      "Running Regression: 150 nodes\n",
      "\n"
     ]
    },
    {
     "name": "stderr",
     "output_type": "stream",
     "text": [
      "2020-09-03 16:53:22,656:INFO:First current path [1, 128, 26, 48, 76] formed at time = 0.393 s.\n"
     ]
    },
    {
     "name": "stdout",
     "output_type": "stream",
     "text": [
      "Saving 10 Simulations for Network 4 Parameter 8\n",
      "Regressing Parameter 4 , Network 8\n",
      "Running Regression: 50 nodes\n",
      "Running Regression: 250 nodes\n",
      "Running Regression: 100 nodes\n",
      "Running Linear Transformation Simulations\n",
      "4\n",
      "1\n",
      "Parameter 5 , Network 2\n",
      "Running Regression: 200 nodes\n"
     ]
    },
    {
     "data": {
      "application/vnd.jupyter.widget-view+json": {
       "model_id": "cbe9c1d206c44870a7ecc351b8609e34",
       "version_major": 2,
       "version_minor": 0
      },
      "text/plain": [
       "HBox(children=(IntProgress(value=0, description='Running Simulation ', max=5000, style=ProgressStyle(descripti…"
      ]
     },
     "metadata": {},
     "output_type": "display_data"
    },
    {
     "name": "stdout",
     "output_type": "stream",
     "text": [
      "Running Regression: 150 nodes\n",
      "Running Regression: 200 nodes\n",
      "Running Regression: 250 nodes\n",
      "\n",
      "Running Regression: 300 nodes\n",
      "Running Linear Transformation Simulations\n",
      "4\n",
      "2\n",
      "Parameter 5 , Network 3\n"
     ]
    },
    {
     "data": {
      "application/vnd.jupyter.widget-view+json": {
       "model_id": "974b39a8d53742bfb95b3527688b35de",
       "version_major": 2,
       "version_minor": 0
      },
      "text/plain": [
       "HBox(children=(IntProgress(value=0, description='Running Simulation ', max=5000, style=ProgressStyle(descripti…"
      ]
     },
     "metadata": {},
     "output_type": "display_data"
    },
    {
     "name": "stderr",
     "output_type": "stream",
     "text": [
      "2020-09-03 16:53:28,032:INFO:First current path [10, 153, 224, 286, 281] formed at time = 0.393 s.\n"
     ]
    },
    {
     "name": "stdout",
     "output_type": "stream",
     "text": [
      "Saving 10 Simulations for Network 4 Parameter 9\n",
      "Regressing Parameter 4 , Network 9\n",
      "Running Regression: 50 nodes\n",
      "Running Regression: 100 nodes\n",
      "Running Regression: 250 nodes\n",
      "Running Regression: 150 nodes\n",
      "\n",
      "Unfortunately, only 0 current paths found in simulation time.\n"
     ]
    },
    {
     "name": "stderr",
     "output_type": "stream",
     "text": [
      "2020-09-03 16:53:31,469:INFO:Unfortunately, no current path is formed in simulation time.\n"
     ]
    },
    {
     "name": "stdout",
     "output_type": "stream",
     "text": [
      "Saving 10 Simulations for Network 5 Parameter 1\n",
      "Regressing Parameter 5 , Network 1\n",
      "Running Regression: 50 nodes\n",
      "Running Regression: 100 nodes\n",
      "Running Regression: 300 nodes\n",
      "Running Regression: 200 nodes\n",
      "Running Linear Transformation Simulations\n",
      "4\n",
      "3\n",
      "Parameter 5 , Network 4\n"
     ]
    },
    {
     "data": {
      "application/vnd.jupyter.widget-view+json": {
       "model_id": "668c68d330814b158663c618d6ca314e",
       "version_major": 2,
       "version_minor": 0
      },
      "text/plain": [
       "HBox(children=(IntProgress(value=0, description='Running Simulation ', max=5000, style=ProgressStyle(descripti…"
      ]
     },
     "metadata": {},
     "output_type": "display_data"
    },
    {
     "name": "stdout",
     "output_type": "stream",
     "text": [
      "\n"
     ]
    },
    {
     "name": "stderr",
     "output_type": "stream",
     "text": [
      "2020-09-03 16:53:32,854:INFO:First current path [18, 175, 133, 162, 288] formed at time = 0.394 s.\n"
     ]
    },
    {
     "name": "stdout",
     "output_type": "stream",
     "text": [
      "Saving 10 Simulations for Network 4 Parameter 10\n",
      "Regressing Parameter 4 , Network 10\n",
      "Running Regression: 50 nodes\n",
      "Running Regression: 150 nodes\n",
      "Running Regression: 100 nodes\n",
      "Running Regression: 150 nodes\n",
      "Running Regression: 300 nodes\n",
      "Running Regression: 200 nodes\n",
      "Running Regression: 250 nodes\n",
      "Running Linear Transformation Simulations\n",
      "4\n",
      "4\n",
      "Parameter 5 , Network 5\n"
     ]
    },
    {
     "data": {
      "application/vnd.jupyter.widget-view+json": {
       "model_id": "90e1b492c8cf4e4dbb22093c376bd03f",
       "version_major": 2,
       "version_minor": 0
      },
      "text/plain": [
       "HBox(children=(IntProgress(value=0, description='Running Simulation ', max=5000, style=ProgressStyle(descripti…"
      ]
     },
     "metadata": {},
     "output_type": "display_data"
    },
    {
     "name": "stdout",
     "output_type": "stream",
     "text": [
      "Running Regression: 200 nodes\n",
      "\n",
      "Unfortunately, only 0 current paths found in simulation time.\n"
     ]
    },
    {
     "name": "stderr",
     "output_type": "stream",
     "text": [
      "2020-09-03 16:53:38,157:INFO:Unfortunately, no current path is formed in simulation time.\n"
     ]
    },
    {
     "name": "stdout",
     "output_type": "stream",
     "text": [
      "Saving 10 Simulations for Network 5 Parameter 2\n",
      "Regressing Parameter 5 , Network 2\n",
      "Running Regression: 50 nodes\n",
      "Running Regression: 250 nodes\n",
      "Running Regression: 100 nodes\n",
      "Running Regression: 250 nodes\n",
      "Running Regression: 150 nodes\n",
      "Running Regression: 300 nodes\n",
      "Running Linear Transformation Simulations\n",
      "4\n",
      "5\n",
      "Parameter 5 , Network 6\n"
     ]
    },
    {
     "data": {
      "application/vnd.jupyter.widget-view+json": {
       "model_id": "4e037458bdf44104b9b8b8a1bde9581e",
       "version_major": 2,
       "version_minor": 0
      },
      "text/plain": [
       "HBox(children=(IntProgress(value=0, description='Running Simulation ', max=5000, style=ProgressStyle(descripti…"
      ]
     },
     "metadata": {},
     "output_type": "display_data"
    },
    {
     "name": "stdout",
     "output_type": "stream",
     "text": [
      "Running Regression: 200 nodes\n",
      "\n"
     ]
    },
    {
     "name": "stderr",
     "output_type": "stream",
     "text": [
      "2020-09-03 16:53:42,434:INFO:First current path [38, 206, 55, 130, 124, 32, 226, 139, 6, 48] formed at time = 0.684 s.\n"
     ]
    },
    {
     "name": "stdout",
     "output_type": "stream",
     "text": [
      "Saving 10 Simulations for Network 5 Parameter 3\n",
      "Regressing Parameter 5 , Network 3\n",
      "Running Regression: 50 nodes\n",
      "Running Regression: 100 nodes\n",
      "Running Regression: 279 nodes\n",
      "Running Regression: 150 nodes\n",
      "Running Regression: 300 nodes\n",
      "Running Linear Transformation Simulations\n",
      "4\n",
      "6\n",
      "Parameter 5 , Network 7\n"
     ]
    },
    {
     "data": {
      "application/vnd.jupyter.widget-view+json": {
       "model_id": "51aa2e4a920e4aaa8503ed0731fe0da2",
       "version_major": 2,
       "version_minor": 0
      },
      "text/plain": [
       "HBox(children=(IntProgress(value=0, description='Running Simulation ', max=5000, style=ProgressStyle(descripti…"
      ]
     },
     "metadata": {},
     "output_type": "display_data"
    },
    {
     "name": "stdout",
     "output_type": "stream",
     "text": [
      "Running Regression: 250 nodes\n",
      "Running Regression: 200 nodes\n",
      "\n"
     ]
    },
    {
     "name": "stderr",
     "output_type": "stream",
     "text": [
      "2020-09-03 16:53:47,984:INFO:First current path [75, 224, 289, 129, 167, 263, 114, 43, 121, 235] formed at time = 0.7 s.\n"
     ]
    },
    {
     "name": "stdout",
     "output_type": "stream",
     "text": [
      "Saving 10 Simulations for Network 5 Parameter 4\n",
      "Regressing Parameter 5 , Network 4\n",
      "Running Regression: 50 nodes\n",
      "Running Linear Transformation Simulations\n",
      "4\n",
      "7\n",
      "Parameter 5 , Network 8\n"
     ]
    },
    {
     "data": {
      "application/vnd.jupyter.widget-view+json": {
       "model_id": "90e88feea12d45bd8dbce68f63a3c6a0",
       "version_major": 2,
       "version_minor": 0
      },
      "text/plain": [
       "HBox(children=(IntProgress(value=0, description='Running Simulation ', max=5000, style=ProgressStyle(descripti…"
      ]
     },
     "metadata": {},
     "output_type": "display_data"
    },
    {
     "name": "stdout",
     "output_type": "stream",
     "text": [
      "Running Regression: 100 nodes\n",
      "Running Regression: 294 nodes\n",
      "Running Regression: 250 nodes\n",
      "Running Regression: 150 nodes\n",
      "Running Regression: 200 nodes\n",
      "\n"
     ]
    },
    {
     "name": "stderr",
     "output_type": "stream",
     "text": [
      "2020-09-03 16:53:52,466:INFO:First current path [245, 298, 285, 171, 22, 269, 14, 142, 96] formed at time = 0.636 s.\n"
     ]
    },
    {
     "name": "stdout",
     "output_type": "stream",
     "text": [
      "Saving 10 Simulations for Network 5 Parameter 5\n",
      "Regressing Parameter 5 , Network 5\n",
      "Running Regression: 50 nodes\n",
      "Running Regression: 100 nodes\n",
      "Running Linear Transformation Simulations\n",
      "4\n",
      "8\n",
      "Parameter 5 , Network 9\n"
     ]
    },
    {
     "data": {
      "application/vnd.jupyter.widget-view+json": {
       "model_id": "15709f8d01c64db2860982e98fe765b0",
       "version_major": 2,
       "version_minor": 0
      },
      "text/plain": [
       "HBox(children=(IntProgress(value=0, description='Running Simulation ', max=5000, style=ProgressStyle(descripti…"
      ]
     },
     "metadata": {},
     "output_type": "display_data"
    },
    {
     "name": "stdout",
     "output_type": "stream",
     "text": [
      "Running Regression: 299 nodes\n",
      "Running Regression: 150 nodes\n",
      "Running Regression: 250 nodes\n",
      "Running Regression: 200 nodes\n",
      "\n"
     ]
    },
    {
     "name": "stderr",
     "output_type": "stream",
     "text": [
      "2020-09-03 16:53:58,166:INFO:First current path [67, 247, 9, 240, 8, 181, 60] formed at time = 0.508 s.\n"
     ]
    },
    {
     "name": "stdout",
     "output_type": "stream",
     "text": [
      "Saving 10 Simulations for Network 5 Parameter 6\n",
      "Regressing Parameter 5 , Network 6\n",
      "Running Regression: 50 nodes\n",
      "Running Linear Transformation Simulations\n",
      "4\n",
      "9\n",
      "Parameter 5 , Network 10\n"
     ]
    },
    {
     "data": {
      "application/vnd.jupyter.widget-view+json": {
       "model_id": "b5188b85671d4036ba1a3e67d4ea0efd",
       "version_major": 2,
       "version_minor": 0
      },
      "text/plain": [
       "HBox(children=(IntProgress(value=0, description='Running Simulation ', max=5000, style=ProgressStyle(descripti…"
      ]
     },
     "metadata": {},
     "output_type": "display_data"
    },
    {
     "name": "stdout",
     "output_type": "stream",
     "text": [
      "Running Regression: 100 nodes\n",
      "Running Regression: 250 nodes\n",
      "Running Regression: 300 nodes\n",
      "Running Regression: 150 nodes\n",
      "Running Regression: 200 nodes\n",
      "Running Linear Transformation Simulations\n",
      "5\n",
      "0\n",
      "Parameter 6 , Network 1\n"
     ]
    },
    {
     "data": {
      "application/vnd.jupyter.widget-view+json": {
       "model_id": "516699fdf3714cb8a0a06d218d9e32a5",
       "version_major": 2,
       "version_minor": 0
      },
      "text/plain": [
       "HBox(children=(IntProgress(value=0, description='Running Simulation ', max=5000, style=ProgressStyle(descripti…"
      ]
     },
     "metadata": {},
     "output_type": "display_data"
    },
    {
     "name": "stdout",
     "output_type": "stream",
     "text": [
      "\n"
     ]
    },
    {
     "name": "stderr",
     "output_type": "stream",
     "text": [
      "2020-09-03 16:54:02,419:INFO:First current path [4, 35, 283, 242, 175, 85] formed at time = 0.45 s.\n"
     ]
    },
    {
     "name": "stdout",
     "output_type": "stream",
     "text": [
      "Saving 10 Simulations for Network 5 Parameter 7\n",
      "Regressing Parameter 5 , Network 7\n",
      "Running Regression: 50 nodes\n",
      "Running Regression: 100 nodes\n",
      "Running Regression: 300 nodes\n",
      "Running Regression: 150 nodes\n",
      "Running Regression: 250 nodes\n",
      "Running Regression: 200 nodes\n",
      "\n"
     ]
    },
    {
     "name": "stderr",
     "output_type": "stream",
     "text": [
      "2020-09-03 16:54:06,973:INFO:First current path [10, 201, 99, 233, 75, 122] formed at time = 0.453 s.\n"
     ]
    },
    {
     "name": "stdout",
     "output_type": "stream",
     "text": [
      "Saving 10 Simulations for Network 5 Parameter 8\n",
      "Regressing Parameter 5 , Network 8\n",
      "Running Regression: 50 nodes\n",
      "Running Linear Transformation Simulations\n",
      "5\n",
      "1\n",
      "Parameter 6 , Network 2\n"
     ]
    },
    {
     "data": {
      "application/vnd.jupyter.widget-view+json": {
       "model_id": "fb484427c52442589fea62fbf0ddf706",
       "version_major": 2,
       "version_minor": 0
      },
      "text/plain": [
       "HBox(children=(IntProgress(value=0, description='Running Simulation ', max=5000, style=ProgressStyle(descripti…"
      ]
     },
     "metadata": {},
     "output_type": "display_data"
    },
    {
     "name": "stdout",
     "output_type": "stream",
     "text": [
      "Running Regression: 100 nodes\n",
      "Running Regression: 150 nodes\n",
      "Running Regression: 250 nodes\n",
      "Running Regression: 300 nodes\n",
      "Running Linear Transformation Simulations\n",
      "5\n",
      "2\n",
      "Parameter 6 , Network 3\n"
     ]
    },
    {
     "data": {
      "application/vnd.jupyter.widget-view+json": {
       "model_id": "a98737b9d98342d1a1553031dee5be8b",
       "version_major": 2,
       "version_minor": 0
      },
      "text/plain": [
       "HBox(children=(IntProgress(value=0, description='Running Simulation ', max=5000, style=ProgressStyle(descripti…"
      ]
     },
     "metadata": {},
     "output_type": "display_data"
    },
    {
     "name": "stdout",
     "output_type": "stream",
     "text": [
      "Running Regression: 200 nodes\n",
      "\n"
     ]
    },
    {
     "name": "stderr",
     "output_type": "stream",
     "text": [
      "2020-09-03 16:54:13,002:INFO:First current path [3, 77, 32, 65, 5] formed at time = 0.392 s.\n"
     ]
    },
    {
     "name": "stdout",
     "output_type": "stream",
     "text": [
      "Saving 10 Simulations for Network 5 Parameter 9\n",
      "Regressing Parameter 5 , Network 9\n",
      "Running Regression: 50 nodes\n",
      "Running Regression: 100 nodes\n",
      "\n",
      "Running Regression: 300 nodes\n",
      "Unfortunately, only 0 current paths found in simulation time.\n"
     ]
    },
    {
     "name": "stderr",
     "output_type": "stream",
     "text": [
      "2020-09-03 16:54:13,870:INFO:Unfortunately, no current path is formed in simulation time.\n"
     ]
    },
    {
     "name": "stdout",
     "output_type": "stream",
     "text": [
      "Saving 10 Simulations for Network 6 Parameter 1\n",
      "Regressing Parameter 6 , Network 1\n",
      "Running Regression: 50 nodes\n",
      "Running Linear Transformation Simulations\n",
      "5\n",
      "3\n",
      "Parameter 6 , Network 4\n",
      "Running Regression: 250 nodes\n"
     ]
    },
    {
     "data": {
      "application/vnd.jupyter.widget-view+json": {
       "model_id": "9bf99a4bbabc4999b09be55300624528",
       "version_major": 2,
       "version_minor": 0
      },
      "text/plain": [
       "HBox(children=(IntProgress(value=0, description='Running Simulation ', max=5000, style=ProgressStyle(descripti…"
      ]
     },
     "metadata": {},
     "output_type": "display_data"
    },
    {
     "name": "stdout",
     "output_type": "stream",
     "text": [
      "Running Regression: 100 nodes\n",
      "Running Regression: 150 nodes\n",
      "Running Regression: 150 nodes\n",
      "\n"
     ]
    },
    {
     "name": "stderr",
     "output_type": "stream",
     "text": [
      "2020-09-03 16:54:16,927:INFO:First current path [0, 81, 52, 124, 118] formed at time = 0.391 s.\n"
     ]
    },
    {
     "name": "stdout",
     "output_type": "stream",
     "text": [
      "Saving 10 Simulations for Network 5 Parameter 10\n",
      "Regressing Parameter 5 , Network 10\n",
      "Running Regression: 50 nodes\n",
      "Running Regression: 200 nodes\n",
      "Running Regression: 200 nodes\n",
      "Running Regression: 100 nodes\n",
      "Running Linear Transformation Simulations\n",
      "5\n",
      "4\n",
      "Parameter 6 , Network 5\n"
     ]
    },
    {
     "data": {
      "application/vnd.jupyter.widget-view+json": {
       "model_id": "c6b3e24b35cb4f54ab95c3ed83195dca",
       "version_major": 2,
       "version_minor": 0
      },
      "text/plain": [
       "HBox(children=(IntProgress(value=0, description='Running Simulation ', max=5000, style=ProgressStyle(descripti…"
      ]
     },
     "metadata": {},
     "output_type": "display_data"
    },
    {
     "name": "stdout",
     "output_type": "stream",
     "text": [
      "Running Regression: 150 nodes\n",
      "Running Regression: 300 nodes\n",
      "Running Regression: 250 nodes\n",
      "Running Regression: 250 nodes\n",
      "Running Regression: 200 nodes\n",
      "\n",
      "Unfortunately, only 0 current paths found in simulation time.\n"
     ]
    },
    {
     "name": "stderr",
     "output_type": "stream",
     "text": [
      "2020-09-03 16:54:21,802:INFO:Unfortunately, no current path is formed in simulation time.\n"
     ]
    },
    {
     "name": "stdout",
     "output_type": "stream",
     "text": [
      "Saving 10 Simulations for Network 6 Parameter 2\n",
      "Regressing Parameter 6 , Network 2\n",
      "Running Regression: 50 nodes\n",
      "Running Regression: 100 nodes\n",
      "Running Linear Transformation Simulations\n",
      "5\n",
      "5\n",
      "Parameter 6 , Network 6\n"
     ]
    },
    {
     "data": {
      "application/vnd.jupyter.widget-view+json": {
       "model_id": "c957c01a4b264c00a8dcf40e5e6ea180",
       "version_major": 2,
       "version_minor": 0
      },
      "text/plain": [
       "HBox(children=(IntProgress(value=0, description='Running Simulation ', max=5000, style=ProgressStyle(descripti…"
      ]
     },
     "metadata": {},
     "output_type": "display_data"
    },
    {
     "name": "stdout",
     "output_type": "stream",
     "text": [
      "Running Regression: 150 nodes\n",
      "Running Regression: 281 nodes\n",
      "\n",
      "Unfortunately, only 0 current paths found in simulation time.\n"
     ]
    },
    {
     "name": "stderr",
     "output_type": "stream",
     "text": [
      "2020-09-03 16:54:24,685:INFO:Unfortunately, no current path is formed in simulation time.\n"
     ]
    },
    {
     "name": "stdout",
     "output_type": "stream",
     "text": [
      "Saving 10 Simulations for Network 6 Parameter 3\n",
      "Regressing Parameter 6 , Network 3\n",
      "Running Regression: 50 nodes\n",
      "Running Regression: 250 nodes\n",
      "Running Regression: 300 nodes\n",
      "Running Regression: 100 nodes\n",
      "Running Regression: 200 nodes\n",
      "Running Regression: 150 nodes\n",
      "Running Linear Transformation Simulations\n",
      "5\n",
      "6\n",
      "Parameter 6 , Network 7\n"
     ]
    },
    {
     "data": {
      "application/vnd.jupyter.widget-view+json": {
       "model_id": "26ae3e49f43f4c329b6e6aa01e8cd79e",
       "version_major": 2,
       "version_minor": 0
      },
      "text/plain": [
       "HBox(children=(IntProgress(value=0, description='Running Simulation ', max=5000, style=ProgressStyle(descripti…"
      ]
     },
     "metadata": {},
     "output_type": "display_data"
    },
    {
     "name": "stdout",
     "output_type": "stream",
     "text": [
      "Running Regression: 200 nodes\n",
      "Running Regression: 250 nodes\n",
      "\n",
      "Running Regression: 300 nodes\n",
      "Running Linear Transformation Simulations\n",
      "5\n",
      "7\n",
      "Parameter 6 , Network 8\n"
     ]
    },
    {
     "data": {
      "application/vnd.jupyter.widget-view+json": {
       "model_id": "3b30515bf8834ab7858d54de0794feda",
       "version_major": 2,
       "version_minor": 0
      },
      "text/plain": [
       "HBox(children=(IntProgress(value=0, description='Running Simulation ', max=5000, style=ProgressStyle(descripti…"
      ]
     },
     "metadata": {},
     "output_type": "display_data"
    },
    {
     "name": "stderr",
     "output_type": "stream",
     "text": [
      "2020-09-03 16:54:30,337:INFO:First current path [13, 93, 203, 273, 144, 136, 142, 150, 174, 239, 216] formed at time = 0.794 s.\n"
     ]
    },
    {
     "name": "stdout",
     "output_type": "stream",
     "text": [
      "Saving 10 Simulations for Network 6 Parameter 4\n",
      "Regressing Parameter 6 , Network 4\n",
      "Running Regression: 50 nodes\n",
      "Running Regression: 100 nodes\n",
      "Running Regression: 250 nodes\n",
      "Running Regression: 150 nodes\n",
      "Running Regression: 295 nodes\n",
      "\n",
      "Running Regression: 200 nodes\n",
      "Running Linear Transformation Simulations\n",
      "5\n",
      "8\n",
      "Parameter 6 , Network 9\n"
     ]
    },
    {
     "name": "stderr",
     "output_type": "stream",
     "text": [
      "2020-09-03 16:54:34,474:INFO:First current path [260, 30, 56, 133, 234, 120, 194, 74, 169] formed at time = 0.618 s.\n"
     ]
    },
    {
     "name": "stdout",
     "output_type": "stream",
     "text": [
      "Saving 10 Simulations for Network 6 Parameter 5\n",
      "Regressing Parameter 6 , Network 5\n",
      "Running Regression: 50 nodes\n"
     ]
    },
    {
     "data": {
      "application/vnd.jupyter.widget-view+json": {
       "model_id": "64f4eb3707a84af0896a890de4aeffd9",
       "version_major": 2,
       "version_minor": 0
      },
      "text/plain": [
       "HBox(children=(IntProgress(value=0, description='Running Simulation ', max=5000, style=ProgressStyle(descripti…"
      ]
     },
     "metadata": {},
     "output_type": "display_data"
    },
    {
     "name": "stdout",
     "output_type": "stream",
     "text": [
      "Running Regression: 100 nodes\n",
      "Running Regression: 298 nodes\n",
      "Running Regression: 150 nodes\n",
      "Running Regression: 250 nodes\n",
      "Running Linear Transformation Simulations\n",
      "5\n",
      "9\n",
      "Parameter 6 , Network 10\n",
      "Running Regression: 200 nodes\n"
     ]
    },
    {
     "data": {
      "application/vnd.jupyter.widget-view+json": {
       "model_id": "a717eb5a839b48cfb19f80c4b64a7f6a",
       "version_major": 2,
       "version_minor": 0
      },
      "text/plain": [
       "HBox(children=(IntProgress(value=0, description='Running Simulation ', max=5000, style=ProgressStyle(descripti…"
      ]
     },
     "metadata": {},
     "output_type": "display_data"
    },
    {
     "name": "stdout",
     "output_type": "stream",
     "text": [
      "\n"
     ]
    },
    {
     "name": "stderr",
     "output_type": "stream",
     "text": [
      "2020-09-03 16:54:39,950:INFO:First current path [7, 137, 95, 260, 261, 282, 228, 190] formed at time = 0.559 s.\n"
     ]
    },
    {
     "name": "stdout",
     "output_type": "stream",
     "text": [
      "Saving 10 Simulations for Network 6 Parameter 6\n",
      "Regressing Parameter 6 , Network 6\n",
      "Running Regression: 50 nodes\n",
      "Running Regression: 100 nodes\n",
      "Running Regression: 150 nodes\n",
      "Running Regression: 250 nodes\n",
      "Running Regression: 299 nodes\n",
      "Running Linear Transformation Simulations\n",
      "6\n",
      "0\n",
      "Parameter 7 , Network 1\n"
     ]
    },
    {
     "data": {
      "application/vnd.jupyter.widget-view+json": {
       "model_id": "4772104a6be64a5d99739150531342ef",
       "version_major": 2,
       "version_minor": 0
      },
      "text/plain": [
       "HBox(children=(IntProgress(value=0, description='Running Simulation ', max=5000, style=ProgressStyle(descripti…"
      ]
     },
     "metadata": {},
     "output_type": "display_data"
    },
    {
     "name": "stdout",
     "output_type": "stream",
     "text": [
      "\n",
      "Running Regression: 200 nodes\n"
     ]
    },
    {
     "name": "stderr",
     "output_type": "stream",
     "text": [
      "2020-09-03 16:54:43,837:INFO:First current path [63, 80, 220, 27, 22, 30, 14] formed at time = 0.514 s.\n"
     ]
    },
    {
     "name": "stdout",
     "output_type": "stream",
     "text": [
      "Saving 10 Simulations for Network 6 Parameter 7\n",
      "Regressing Parameter 6 , Network 7\n",
      "Running Regression: 50 nodes\n",
      "Running Regression: 100 nodes\n",
      "Running Regression: 150 nodes\n",
      "Running Regression: 300 nodes\n",
      "Running Linear Transformation Simulations\n",
      "6\n",
      "1\n",
      "Parameter 7 , Network 2\n"
     ]
    },
    {
     "data": {
      "application/vnd.jupyter.widget-view+json": {
       "model_id": "8075e20c462444a4a834dc14f85223de",
       "version_major": 2,
       "version_minor": 0
      },
      "text/plain": [
       "HBox(children=(IntProgress(value=0, description='Running Simulation ', max=5000, style=ProgressStyle(descripti…"
      ]
     },
     "metadata": {},
     "output_type": "display_data"
    },
    {
     "name": "stdout",
     "output_type": "stream",
     "text": [
      "Running Regression: 250 nodes\n",
      "\n",
      "Running Regression: 200 nodes\n"
     ]
    },
    {
     "name": "stderr",
     "output_type": "stream",
     "text": [
      "2020-09-03 16:54:48,132:INFO:First current path [27, 108, 183, 267, 201, 175, 62, 118] formed at time = 0.614 s.\n"
     ]
    },
    {
     "name": "stdout",
     "output_type": "stream",
     "text": [
      "Saving 10 Simulations for Network 6 Parameter 8\n",
      "Regressing Parameter 6 , Network 8\n",
      "Running Regression: 50 nodes\n",
      "Running Regression: 100 nodes\n",
      "Running Linear Transformation Simulations\n",
      "6\n",
      "2\n",
      "Parameter 7 , Network 3\n"
     ]
    },
    {
     "data": {
      "application/vnd.jupyter.widget-view+json": {
       "model_id": "bdb12000efa84f1ead3aee0ea1b29202",
       "version_major": 2,
       "version_minor": 0
      },
      "text/plain": [
       "HBox(children=(IntProgress(value=0, description='Running Simulation ', max=5000, style=ProgressStyle(descripti…"
      ]
     },
     "metadata": {},
     "output_type": "display_data"
    },
    {
     "name": "stdout",
     "output_type": "stream",
     "text": [
      "Running Regression: 150 nodes\n",
      "Running Regression: 250 nodes\n",
      "Running Regression: 300 nodes\n",
      "Running Regression: 200 nodes\n",
      "\n"
     ]
    },
    {
     "name": "stderr",
     "output_type": "stream",
     "text": [
      "2020-09-03 16:54:53,333:INFO:First current path [1, 165, 82, 104, 202, 188] formed at time = 0.454 s.\n"
     ]
    },
    {
     "name": "stdout",
     "output_type": "stream",
     "text": [
      "Saving 10 Simulations for Network 6 Parameter 9\n",
      "Regressing Parameter 6 , Network 9\n",
      "Running Regression: 50 nodes\n",
      "Running Linear Transformation Simulations\n",
      "6\n",
      "3\n",
      "Parameter 7 , Network 4\n"
     ]
    },
    {
     "data": {
      "application/vnd.jupyter.widget-view+json": {
       "model_id": "bdd1f791c64e48ea9db7c8fa5653347c",
       "version_major": 2,
       "version_minor": 0
      },
      "text/plain": [
       "HBox(children=(IntProgress(value=0, description='Running Simulation ', max=5000, style=ProgressStyle(descripti…"
      ]
     },
     "metadata": {},
     "output_type": "display_data"
    },
    {
     "name": "stdout",
     "output_type": "stream",
     "text": [
      "Running Regression: 100 nodes\n",
      "\n",
      "Unfortunately, only 0 current paths found in simulation time.\n"
     ]
    },
    {
     "name": "stderr",
     "output_type": "stream",
     "text": [
      "2020-09-03 16:54:54,217:INFO:Unfortunately, no current path is formed in simulation time.\n"
     ]
    },
    {
     "name": "stdout",
     "output_type": "stream",
     "text": [
      "Saving 10 Simulations for Network 7 Parameter 1\n",
      "Regressing Parameter 7 , Network 1\n",
      "Running Regression: 50 nodes\n",
      "Running Regression: 100 nodes\n",
      "Running Regression: 150 nodes\n",
      "Running Regression: 250 nodes\n",
      "Running Regression: 300 nodes\n",
      "Running Regression: 150 nodes\n",
      "Running Regression: 200 nodes\n",
      "\n"
     ]
    },
    {
     "name": "stderr",
     "output_type": "stream",
     "text": [
      "2020-09-03 16:54:57,740:INFO:First current path [105, 271, 101, 92, 80, 168] formed at time = 0.455 s.\n"
     ]
    },
    {
     "name": "stdout",
     "output_type": "stream",
     "text": [
      "Saving 10 Simulations for Network 6 Parameter 10\n",
      "Regressing Parameter 6 , Network 10\n",
      "Running Regression: 50 nodes\n",
      "Running Linear Transformation Simulations\n",
      "6\n",
      "4\n",
      "Parameter 7 , Network 5\n"
     ]
    },
    {
     "data": {
      "application/vnd.jupyter.widget-view+json": {
       "model_id": "ffef4fd4dc934a74b8273a0b9e08d1b5",
       "version_major": 2,
       "version_minor": 0
      },
      "text/plain": [
       "HBox(children=(IntProgress(value=0, description='Running Simulation ', max=5000, style=ProgressStyle(descripti…"
      ]
     },
     "metadata": {},
     "output_type": "display_data"
    },
    {
     "name": "stdout",
     "output_type": "stream",
     "text": [
      "Running Regression: 200 nodes\n",
      "Running Regression: 100 nodes\n",
      "Running Regression: 150 nodes\n",
      "Running Regression: 250 nodes\n",
      "Running Regression: 300 nodes\n",
      "\n",
      "Unfortunately, only 0 current paths found in simulation time.\n"
     ]
    },
    {
     "name": "stderr",
     "output_type": "stream",
     "text": [
      "2020-09-03 16:55:00,534:INFO:Unfortunately, no current path is formed in simulation time.\n"
     ]
    },
    {
     "name": "stdout",
     "output_type": "stream",
     "text": [
      "Saving 10 Simulations for Network 7 Parameter 2\n",
      "Regressing Parameter 7 , Network 2\n",
      "Running Regression: 50 nodes\n",
      "Running Regression: 100 nodes\n",
      "Running Regression: 250 nodes\n",
      "Running Regression: 200 nodes\n",
      "Running Regression: 150 nodes\n",
      "\n",
      "Unfortunately, only 0 current paths found in simulation time.\n"
     ]
    },
    {
     "name": "stderr",
     "output_type": "stream",
     "text": [
      "2020-09-03 16:55:03,001:INFO:Unfortunately, no current path is formed in simulation time.\n"
     ]
    },
    {
     "name": "stdout",
     "output_type": "stream",
     "text": [
      "Saving 10 Simulations for Network 7 Parameter 3\n",
      "Regressing Parameter 7 , Network 3\n",
      "Running Regression: 50 nodes\n",
      "Running Regression: 100 nodes\n",
      "Running Linear Transformation Simulations\n",
      "6\n",
      "5\n",
      "Parameter 7 , Network 6\n"
     ]
    },
    {
     "data": {
      "application/vnd.jupyter.widget-view+json": {
       "model_id": "6899e57734b64e24b59824c533db474e",
       "version_major": 2,
       "version_minor": 0
      },
      "text/plain": [
       "HBox(children=(IntProgress(value=0, description='Running Simulation ', max=5000, style=ProgressStyle(descripti…"
      ]
     },
     "metadata": {},
     "output_type": "display_data"
    },
    {
     "name": "stdout",
     "output_type": "stream",
     "text": [
      "Running Regression: 200 nodes\n",
      "Running Regression: 300 nodes\n",
      "Running Regression: 150 nodes\n",
      "Running Regression: 250 nodes\n",
      "Running Regression: 278 nodes\n",
      "Running Regression: 200 nodes\n",
      "Running Linear Transformation Simulations\n",
      "6\n",
      "6\n",
      "Parameter 7 , Network 7\n",
      "Running Regression: 250 nodes\n"
     ]
    },
    {
     "data": {
      "application/vnd.jupyter.widget-view+json": {
       "model_id": "7d1402f01e4a4e4ba082af59db085590",
       "version_major": 2,
       "version_minor": 0
      },
      "text/plain": [
       "HBox(children=(IntProgress(value=0, description='Running Simulation ', max=5000, style=ProgressStyle(descripti…"
      ]
     },
     "metadata": {},
     "output_type": "display_data"
    },
    {
     "name": "stdout",
     "output_type": "stream",
     "text": [
      "\n"
     ]
    },
    {
     "name": "stderr",
     "output_type": "stream",
     "text": [
      "2020-09-03 16:55:08,586:INFO:First current path [151, 103, 50, 53, 114, 37, 258, 259, 149, 96, 98] formed at time = 0.808 s.\n"
     ]
    },
    {
     "name": "stdout",
     "output_type": "stream",
     "text": [
      "Saving 10 Simulations for Network 7 Parameter 4\n",
      "Regressing Parameter 7 , Network 4\n",
      "Running Regression: 50 nodes\n",
      "Running Regression: 100 nodes\n",
      "Running Regression: 250 nodes\n",
      "Running Regression: 300 nodes\n",
      "Running Regression: 150 nodes\n",
      "Running Linear Transformation Simulations\n",
      "6\n",
      "7\n",
      "Parameter 7 , Network 8\n"
     ]
    },
    {
     "data": {
      "application/vnd.jupyter.widget-view+json": {
       "model_id": "52d78347d8034fb9b5f9d60ea27a09e9",
       "version_major": 2,
       "version_minor": 0
      },
      "text/plain": [
       "HBox(children=(IntProgress(value=0, description='Running Simulation ', max=5000, style=ProgressStyle(descripti…"
      ]
     },
     "metadata": {},
     "output_type": "display_data"
    },
    {
     "name": "stdout",
     "output_type": "stream",
     "text": [
      "Running Regression: 293 nodes\n",
      "Running Regression: 200 nodes\n",
      "\n"
     ]
    },
    {
     "name": "stderr",
     "output_type": "stream",
     "text": [
      "2020-09-03 16:55:13,422:INFO:First current path [7, 258, 168, 268, 260, 132, 102, 57, 64, 191] formed at time = 0.697 s.\n"
     ]
    },
    {
     "name": "stdout",
     "output_type": "stream",
     "text": [
      "Saving 10 Simulations for Network 7 Parameter 5\n",
      "Regressing Parameter 7 , Network 5\n",
      "Running Regression: 50 nodes\n",
      "Running Regression: 294 nodes\n",
      "Running Regression: 100 nodes\n",
      "Running Regression: 150 nodes\n",
      "Running Regression: 250 nodes\n",
      "Running Linear Transformation Simulations\n",
      "6\n",
      "8\n",
      "Parameter 7 , Network 9\n"
     ]
    },
    {
     "data": {
      "application/vnd.jupyter.widget-view+json": {
       "model_id": "077c5d8663474a8d805465243007c0ef",
       "version_major": 2,
       "version_minor": 0
      },
      "text/plain": [
       "HBox(children=(IntProgress(value=0, description='Running Simulation ', max=5000, style=ProgressStyle(descripti…"
      ]
     },
     "metadata": {},
     "output_type": "display_data"
    },
    {
     "name": "stdout",
     "output_type": "stream",
     "text": [
      "Running Regression: 200 nodes\n",
      "\n",
      "Running Regression: 296 nodes\n"
     ]
    },
    {
     "name": "stderr",
     "output_type": "stream",
     "text": [
      "2020-09-03 16:55:20,124:INFO:First current path [5, 158, 10, 175, 34, 122, 157, 167] formed at time = 0.555 s.\n"
     ]
    },
    {
     "name": "stdout",
     "output_type": "stream",
     "text": [
      "Saving 10 Simulations for Network 7 Parameter 6\n",
      "Regressing Parameter 7 , Network 6\n",
      "Running Regression: 50 nodes\n",
      "Running Regression: 250 nodes\n",
      "Running Linear Transformation Simulations\n",
      "6\n",
      "9\n",
      "Parameter 7 , Network 10\n",
      "Running Regression: 100 nodes\n"
     ]
    },
    {
     "data": {
      "application/vnd.jupyter.widget-view+json": {
       "model_id": "075a4c4aea8e45f7b5acb07ab4eb638c",
       "version_major": 2,
       "version_minor": 0
      },
      "text/plain": [
       "HBox(children=(IntProgress(value=0, description='Running Simulation ', max=5000, style=ProgressStyle(descripti…"
      ]
     },
     "metadata": {},
     "output_type": "display_data"
    },
    {
     "name": "stdout",
     "output_type": "stream",
     "text": [
      "Running Regression: 150 nodes\n",
      "\n",
      "Running Regression: 200 nodes\n"
     ]
    },
    {
     "name": "stderr",
     "output_type": "stream",
     "text": [
      "2020-09-03 16:55:24,166:INFO:First current path [185, 152, 244, 124, 122, 179, 297, 173, 155] formed at time = 0.647 s.\n"
     ]
    },
    {
     "name": "stdout",
     "output_type": "stream",
     "text": [
      "Saving 10 Simulations for Network 7 Parameter 7\n",
      "Regressing Parameter 7 , Network 7\n",
      "Running Regression: 50 nodes\n",
      "Running Regression: 100 nodes\n",
      "Running Regression: 298 nodes\n",
      "Running Linear Transformation Simulations\n",
      "7\n",
      "0\n",
      "Parameter 8 , Network 1\n"
     ]
    },
    {
     "data": {
      "application/vnd.jupyter.widget-view+json": {
       "model_id": "8b87d7f3349e49569d1437220928b322",
       "version_major": 2,
       "version_minor": 0
      },
      "text/plain": [
       "HBox(children=(IntProgress(value=0, description='Running Simulation ', max=5000, style=ProgressStyle(descripti…"
      ]
     },
     "metadata": {},
     "output_type": "display_data"
    },
    {
     "name": "stdout",
     "output_type": "stream",
     "text": [
      "Running Regression: 150 nodes\n",
      "Running Regression: 250 nodes\n",
      "\n",
      "Running Regression: 200 nodes\n"
     ]
    },
    {
     "name": "stderr",
     "output_type": "stream",
     "text": [
      "2020-09-03 16:55:28,262:INFO:First current path [50, 148, 266, 85, 29, 16, 114] formed at time = 0.503 s.\n"
     ]
    },
    {
     "name": "stdout",
     "output_type": "stream",
     "text": [
      "Saving 10 Simulations for Network 7 Parameter 8\n",
      "Regressing Parameter 7 , Network 8\n",
      "Running Regression: 50 nodes\n",
      "Running Regression: 100 nodes\n",
      "Running Linear Transformation Simulations\n",
      "7\n",
      "1\n",
      "Parameter 8 , Network 2\n"
     ]
    },
    {
     "data": {
      "application/vnd.jupyter.widget-view+json": {
       "model_id": "006db7b886a0472fb527e6324fc0b365",
       "version_major": 2,
       "version_minor": 0
      },
      "text/plain": [
       "HBox(children=(IntProgress(value=0, description='Running Simulation ', max=5000, style=ProgressStyle(descripti…"
      ]
     },
     "metadata": {},
     "output_type": "display_data"
    },
    {
     "name": "stdout",
     "output_type": "stream",
     "text": [
      "Running Regression: 150 nodes\n",
      "Running Regression: 250 nodes\n",
      "Running Regression: 299 nodes\n",
      "Running Regression: 200 nodes\n",
      "Running Linear Transformation Simulations\n",
      "7\n",
      "2\n",
      "Parameter 8 , Network 3\n"
     ]
    },
    {
     "data": {
      "application/vnd.jupyter.widget-view+json": {
       "model_id": "79bc69955f934e629121fb3ae31eb0a5",
       "version_major": 2,
       "version_minor": 0
      },
      "text/plain": [
       "HBox(children=(IntProgress(value=0, description='Running Simulation ', max=5000, style=ProgressStyle(descripti…"
      ]
     },
     "metadata": {},
     "output_type": "display_data"
    },
    {
     "name": "stdout",
     "output_type": "stream",
     "text": [
      "\n"
     ]
    },
    {
     "name": "stderr",
     "output_type": "stream",
     "text": [
      "2020-09-03 16:55:33,857:INFO:First current path [1, 9, 111, 216, 77, 271] formed at time = 0.449 s.\n"
     ]
    },
    {
     "name": "stdout",
     "output_type": "stream",
     "text": [
      "Saving 10 Simulations for Network 7 Parameter 9\n",
      "Regressing Parameter 7 , Network 9\n",
      "Running Regression: 50 nodes\n",
      "Running Regression: 100 nodes\n",
      "Running Regression: 250 nodes\n",
      "Running Regression: 150 nodes\n",
      "Running Regression: 300 nodes\n",
      "Running Linear Transformation Simulations\n",
      "7\n",
      "3\n",
      "Parameter 8 , Network 4\n"
     ]
    },
    {
     "data": {
      "application/vnd.jupyter.widget-view+json": {
       "model_id": "5ca7c70956674323b42d09dc0f888fdf",
       "version_major": 2,
       "version_minor": 0
      },
      "text/plain": [
       "HBox(children=(IntProgress(value=0, description='Running Simulation ', max=5000, style=ProgressStyle(descripti…"
      ]
     },
     "metadata": {},
     "output_type": "display_data"
    },
    {
     "name": "stdout",
     "output_type": "stream",
     "text": [
      "Running Regression: 200 nodes\n",
      "\n",
      "Unfortunately, only 0 current paths found in simulation time.\n"
     ]
    },
    {
     "name": "stderr",
     "output_type": "stream",
     "text": [
      "2020-09-03 16:55:37,914:INFO:Unfortunately, no current path is formed in simulation time.\n"
     ]
    },
    {
     "name": "stdout",
     "output_type": "stream",
     "text": [
      "Saving 10 Simulations for Network 8 Parameter 1\n",
      "Regressing Parameter 8 , Network 1\n",
      "Running Regression: 50 nodes\n",
      "Running Regression: 100 nodes\n",
      "\n"
     ]
    },
    {
     "name": "stderr",
     "output_type": "stream",
     "text": [
      "2020-09-03 16:55:39,174:INFO:First current path [13, 12, 173, 224, 230, 265] formed at time = 0.448 s.\n"
     ]
    },
    {
     "name": "stdout",
     "output_type": "stream",
     "text": [
      "Saving 10 Simulations for Network 7 Parameter 10\n",
      "Regressing Parameter 7 , Network 10\n",
      "Running Regression: 50 nodes\n",
      "Running Regression: 150 nodes\n",
      "Running Regression: 100 nodes\n",
      "Running Regression: 300 nodes\n",
      "Running Linear Transformation Simulations\n",
      "7\n",
      "4\n",
      "Parameter 8 , Network 5\n"
     ]
    },
    {
     "data": {
      "application/vnd.jupyter.widget-view+json": {
       "model_id": "f54bc586f7334bed97711e4119750a22",
       "version_major": 2,
       "version_minor": 0
      },
      "text/plain": [
       "HBox(children=(IntProgress(value=0, description='Running Simulation ', max=5000, style=ProgressStyle(descripti…"
      ]
     },
     "metadata": {},
     "output_type": "display_data"
    },
    {
     "name": "stdout",
     "output_type": "stream",
     "text": [
      "Running Regression: 250 nodes\n",
      "Running Regression: 150 nodes\n",
      "Running Regression: 200 nodes\n",
      "\n",
      "Unfortunately, only 0 current paths found in simulation time.\n"
     ]
    },
    {
     "name": "stderr",
     "output_type": "stream",
     "text": [
      "2020-09-03 16:55:43,233:INFO:Unfortunately, no current path is formed in simulation time.\n"
     ]
    },
    {
     "name": "stdout",
     "output_type": "stream",
     "text": [
      "Saving 10 Simulations for Network 8 Parameter 2\n",
      "Regressing Parameter 8 , Network 2\n",
      "Running Regression: 50 nodes\n",
      "Running Regression: 200 nodes\n",
      "Running Regression: 100 nodes\n",
      "Running Regression: 250 nodes\n",
      "Running Linear Transformation Simulations\n",
      "7\n",
      "5\n",
      "Parameter 8 , Network 6\n",
      "Running Regression: 150 nodes\n",
      "Running Regression: 300 nodes\n"
     ]
    },
    {
     "data": {
      "application/vnd.jupyter.widget-view+json": {
       "model_id": "59afe37c0e8f49d1ac0812828f13c645",
       "version_major": 2,
       "version_minor": 0
      },
      "text/plain": [
       "HBox(children=(IntProgress(value=0, description='Running Simulation ', max=5000, style=ProgressStyle(descripti…"
      ]
     },
     "metadata": {},
     "output_type": "display_data"
    },
    {
     "name": "stdout",
     "output_type": "stream",
     "text": [
      "\n",
      "Unfortunately, only 0 current paths found in simulation time.\n"
     ]
    },
    {
     "name": "stderr",
     "output_type": "stream",
     "text": [
      "2020-09-03 16:55:46,406:INFO:Unfortunately, no current path is formed in simulation time.\n"
     ]
    },
    {
     "name": "stdout",
     "output_type": "stream",
     "text": [
      "Saving 10 Simulations for Network 8 Parameter 3\n",
      "Regressing Parameter 8 , Network 3\n",
      "Running Regression: 50 nodes\n",
      "Running Regression: 100 nodes\n",
      "Running Regression: 250 nodes\n",
      "Running Regression: 200 nodes\n",
      "Running Regression: 150 nodes\n",
      "Running Regression: 286 nodes\n",
      "Running Linear Transformation Simulations\n",
      "7\n",
      "6\n",
      "Parameter 8 , Network 7\n"
     ]
    },
    {
     "data": {
      "application/vnd.jupyter.widget-view+json": {
       "model_id": "7459d80359204ac4ad49aaf6f954d281",
       "version_major": 2,
       "version_minor": 0
      },
      "text/plain": [
       "HBox(children=(IntProgress(value=0, description='Running Simulation ', max=5000, style=ProgressStyle(descripti…"
      ]
     },
     "metadata": {},
     "output_type": "display_data"
    },
    {
     "name": "stdout",
     "output_type": "stream",
     "text": [
      "Running Regression: 200 nodes\n",
      "Running Regression: 250 nodes\n",
      "\n"
     ]
    },
    {
     "name": "stderr",
     "output_type": "stream",
     "text": [
      "2020-09-03 16:55:51,612:INFO:First current path [13, 34, 61, 135, 82, 188, 183, 154, 153, 184] formed at time = 0.739 s.\n"
     ]
    },
    {
     "name": "stdout",
     "output_type": "stream",
     "text": [
      "Saving 10 Simulations for Network 8 Parameter 4\n",
      "Regressing Parameter 8 , Network 4\n",
      "Running Regression: 50 nodes\n",
      "Running Regression: 300 nodes\n",
      "Running Regression: 100 nodes\n",
      "Running Linear Transformation Simulations\n",
      "7\n",
      "7\n",
      "Parameter 8 , Network 8\n"
     ]
    },
    {
     "data": {
      "application/vnd.jupyter.widget-view+json": {
       "model_id": "56256cce130b44cdb4cbf38c116620d1",
       "version_major": 2,
       "version_minor": 0
      },
      "text/plain": [
       "HBox(children=(IntProgress(value=0, description='Running Simulation ', max=5000, style=ProgressStyle(descripti…"
      ]
     },
     "metadata": {},
     "output_type": "display_data"
    },
    {
     "name": "stdout",
     "output_type": "stream",
     "text": [
      "Running Regression: 250 nodes\n",
      "Running Regression: 150 nodes\n",
      "Running Regression: 291 nodes\n",
      "Running Regression: 200 nodes\n",
      "\n",
      "Running Linear Transformation Simulations\n",
      "7\n",
      "8\n",
      "Parameter 8 , Network 9\n"
     ]
    },
    {
     "data": {
      "application/vnd.jupyter.widget-view+json": {
       "model_id": "b56a9c2fa17f498299d20492cf41826b",
       "version_major": 2,
       "version_minor": 0
      },
      "text/plain": [
       "HBox(children=(IntProgress(value=0, description='Running Simulation ', max=5000, style=ProgressStyle(descripti…"
      ]
     },
     "metadata": {},
     "output_type": "display_data"
    },
    {
     "name": "stderr",
     "output_type": "stream",
     "text": [
      "2020-09-03 16:55:56,022:INFO:First current path [1, 164, 12, 272, 185, 187, 58, 197, 190] formed at time = 0.616 s.\n"
     ]
    },
    {
     "name": "stdout",
     "output_type": "stream",
     "text": [
      "Saving 10 Simulations for Network 8 Parameter 5\n",
      "Regressing Parameter 8 , Network 5\n",
      "Running Regression: 50 nodes\n",
      "Running Regression: 100 nodes\n",
      "Running Regression: 296 nodes\n",
      "Running Regression: 150 nodes\n",
      "Running Regression: 250 nodes\n",
      "Running Regression: 200 nodes\n",
      "Running Linear Transformation Simulations\n",
      "7\n",
      "9\n",
      "Parameter 8 , Network 10\n"
     ]
    },
    {
     "data": {
      "application/vnd.jupyter.widget-view+json": {
       "model_id": "aa41cf1628da4e51b9fd20071a431457",
       "version_major": 2,
       "version_minor": 0
      },
      "text/plain": [
       "HBox(children=(IntProgress(value=0, description='Running Simulation ', max=5000, style=ProgressStyle(descripti…"
      ]
     },
     "metadata": {},
     "output_type": "display_data"
    },
    {
     "name": "stdout",
     "output_type": "stream",
     "text": [
      "\n"
     ]
    },
    {
     "name": "stderr",
     "output_type": "stream",
     "text": [
      "2020-09-03 16:56:01,554:INFO:First current path [19, 29, 271, 0, 149, 17, 102, 63] formed at time = 0.56 s.\n"
     ]
    },
    {
     "name": "stdout",
     "output_type": "stream",
     "text": [
      "Saving 10 Simulations for Network 8 Parameter 6\n",
      "Regressing Parameter 8 , Network 6\n",
      "Running Regression: 50 nodes\n",
      "Running Regression: 100 nodes\n",
      "Running Regression: 250 nodes\n",
      "Running Regression: 150 nodes\n",
      "Running Regression: 300 nodes\n",
      "Running Linear Transformation Simulations\n",
      "8\n",
      "0\n",
      "Parameter 9 , Network 1\n"
     ]
    },
    {
     "data": {
      "application/vnd.jupyter.widget-view+json": {
       "model_id": "e56a96228cd84761b04145b05a3a7015",
       "version_major": 2,
       "version_minor": 0
      },
      "text/plain": [
       "HBox(children=(IntProgress(value=0, description='Running Simulation ', max=5000, style=ProgressStyle(descripti…"
      ]
     },
     "metadata": {},
     "output_type": "display_data"
    },
    {
     "name": "stdout",
     "output_type": "stream",
     "text": [
      "Running Regression: 200 nodes\n",
      "\n"
     ]
    },
    {
     "name": "stderr",
     "output_type": "stream",
     "text": [
      "2020-09-03 16:56:06,037:INFO:First current path [64, 284, 150, 278, 201, 267, 183, 108, 27] formed at time = 0.695 s.\n"
     ]
    },
    {
     "name": "stdout",
     "output_type": "stream",
     "text": [
      "Saving 10 Simulations for Network 8 Parameter 7\n",
      "Regressing Parameter 8 , Network 7\n",
      "Running Regression: 50 nodes\n",
      "Running Regression: 100 nodes\n",
      "Running Regression: 300 nodes\n",
      "Running Regression: 150 nodes\n",
      "Running Linear Transformation Simulations\n",
      "8\n",
      "1\n",
      "Parameter 9 , Network 2\n"
     ]
    },
    {
     "data": {
      "application/vnd.jupyter.widget-view+json": {
       "model_id": "980e058c2ac547cfb15d727d93a8899d",
       "version_major": 2,
       "version_minor": 0
      },
      "text/plain": [
       "HBox(children=(IntProgress(value=0, description='Running Simulation ', max=5000, style=ProgressStyle(descripti…"
      ]
     },
     "metadata": {},
     "output_type": "display_data"
    },
    {
     "name": "stdout",
     "output_type": "stream",
     "text": [
      "Running Regression: 250 nodes\n",
      "\n"
     ]
    },
    {
     "name": "stderr",
     "output_type": "stream",
     "text": [
      "2020-09-03 16:56:09,518:INFO:First current path [3, 297, 217, 193, 144, 100, 188] formed at time = 0.514 s.\n"
     ]
    },
    {
     "name": "stdout",
     "output_type": "stream",
     "text": [
      "Saving 10 Simulations for Network 8 Parameter 8\n",
      "Regressing Parameter 8 , Network 8\n",
      "Running Regression: 50 nodes\n",
      "Running Regression: 200 nodes\n",
      "Running Regression: 100 nodes\n",
      "Running Regression: 150 nodes\n",
      "\n",
      "Unfortunately, only 0 current paths found in simulation time.\n"
     ]
    },
    {
     "name": "stderr",
     "output_type": "stream",
     "text": [
      "2020-09-03 16:56:11,672:INFO:Unfortunately, no current path is formed in simulation time.\n"
     ]
    },
    {
     "name": "stdout",
     "output_type": "stream",
     "text": [
      "Saving 10 Simulations for Network 8 Parameter 10\n",
      "Regressing Parameter 8 , Network 10\n",
      "Running Regression: 50 nodes\n",
      "Running Linear Transformation Simulations\n",
      "8\n",
      "2\n",
      "Parameter 9 , Network 3\n"
     ]
    },
    {
     "data": {
      "application/vnd.jupyter.widget-view+json": {
       "model_id": "d79716eb73314eb4862c9d8416d2d3c8",
       "version_major": 2,
       "version_minor": 0
      },
      "text/plain": [
       "HBox(children=(IntProgress(value=0, description='Running Simulation ', max=5000, style=ProgressStyle(descripti…"
      ]
     },
     "metadata": {},
     "output_type": "display_data"
    },
    {
     "name": "stdout",
     "output_type": "stream",
     "text": [
      "Running Regression: 100 nodes\n",
      "Running Regression: 297 nodes\n",
      "Running Regression: 250 nodes\n",
      "Running Regression: 150 nodes\n",
      "\n",
      "Running Regression: 200 nodes\n"
     ]
    },
    {
     "name": "stderr",
     "output_type": "stream",
     "text": [
      "2020-09-03 16:56:14,053:INFO:First current path [111, 243, 258, 257, 42, 17, 66] formed at time = 0.53 s.\n"
     ]
    },
    {
     "name": "stdout",
     "output_type": "stream",
     "text": [
      "Saving 10 Simulations for Network 8 Parameter 9\n",
      "Regressing Parameter 8 , Network 9\n",
      "Running Regression: 50 nodes\n",
      "Running Regression: 100 nodes\n",
      "Running Regression: 200 nodes\n",
      "Running Linear Transformation Simulations\n",
      "8\n",
      "3\n",
      "Parameter 9 , Network 4\n",
      "Running Regression: 150 nodes\n"
     ]
    },
    {
     "data": {
      "application/vnd.jupyter.widget-view+json": {
       "model_id": "15621c5ea8654345a8a48fa06f3c4bfd",
       "version_major": 2,
       "version_minor": 0
      },
      "text/plain": [
       "HBox(children=(IntProgress(value=0, description='Running Simulation ', max=5000, style=ProgressStyle(descripti…"
      ]
     },
     "metadata": {},
     "output_type": "display_data"
    },
    {
     "name": "stdout",
     "output_type": "stream",
     "text": [
      "\n",
      "Unfortunately, only 0 current paths found in simulation time.\n"
     ]
    },
    {
     "name": "stderr",
     "output_type": "stream",
     "text": [
      "2020-09-03 16:56:16,807:INFO:Unfortunately, no current path is formed in simulation time.\n"
     ]
    },
    {
     "name": "stdout",
     "output_type": "stream",
     "text": [
      "Saving 10 Simulations for Network 9 Parameter 1\n",
      "Regressing Parameter 9 , Network 1\n",
      "Running Regression: 50 nodes\n",
      "Running Regression: 250 nodes\n",
      "Running Regression: 100 nodes\n",
      "Running Regression: 200 nodes\n",
      "Running Regression: 300 nodes\n",
      "Running Regression: 250 nodes\n",
      "Running Regression: 150 nodes\n",
      "Running Linear Transformation Simulations\n",
      "8\n",
      "4\n",
      "Parameter 9 , Network 5\n"
     ]
    },
    {
     "data": {
      "application/vnd.jupyter.widget-view+json": {
       "model_id": "2cd124c8a86048b19fa43d083a49f585",
       "version_major": 2,
       "version_minor": 0
      },
      "text/plain": [
       "HBox(children=(IntProgress(value=0, description='Running Simulation ', max=5000, style=ProgressStyle(descripti…"
      ]
     },
     "metadata": {},
     "output_type": "display_data"
    },
    {
     "name": "stdout",
     "output_type": "stream",
     "text": [
      "Running Regression: 250 nodes\n",
      "Running Regression: 200 nodes\n",
      "Running Regression: 300 nodes\n",
      "\n",
      "Unfortunately, only 0 current paths found in simulation time.\n"
     ]
    },
    {
     "name": "stderr",
     "output_type": "stream",
     "text": [
      "2020-09-03 16:56:22,472:INFO:Unfortunately, no current path is formed in simulation time.\n"
     ]
    },
    {
     "name": "stdout",
     "output_type": "stream",
     "text": [
      "Saving 10 Simulations for Network 9 Parameter 2\n",
      "Regressing Parameter 9 , Network 2\n",
      "Running Regression: 50 nodes\n",
      "Running Regression: 280 nodes\n",
      "Running Regression: 100 nodes\n",
      "Running Linear Transformation Simulations\n",
      "8\n",
      "5\n",
      "Parameter 9 , Network 6\n"
     ]
    },
    {
     "data": {
      "application/vnd.jupyter.widget-view+json": {
       "model_id": "66bff7ee7d0b4fd086fcd0f2c237ea8b",
       "version_major": 2,
       "version_minor": 0
      },
      "text/plain": [
       "HBox(children=(IntProgress(value=0, description='Running Simulation ', max=5000, style=ProgressStyle(descripti…"
      ]
     },
     "metadata": {},
     "output_type": "display_data"
    },
    {
     "name": "stdout",
     "output_type": "stream",
     "text": [
      "Running Regression: 150 nodes\n",
      "Running Regression: 250 nodes\n",
      "Running Regression: 299 nodes\n",
      "\n",
      "Unfortunately, only 0 current paths found in simulation time.\n"
     ]
    },
    {
     "name": "stderr",
     "output_type": "stream",
     "text": [
      "2020-09-03 16:56:25,471:INFO:Unfortunately, no current path is formed in simulation time.\n"
     ]
    },
    {
     "name": "stdout",
     "output_type": "stream",
     "text": [
      "Saving 10 Simulations for Network 9 Parameter 3\n",
      "Regressing Parameter 9 , Network 3\n",
      "Running Regression: 50 nodes\n",
      "Running Regression: 100 nodes\n",
      "Running Regression: 200 nodes\n",
      "Running Regression: 150 nodes\n",
      "Running Regression: 285 nodes\n",
      "Running Regression: 200 nodes\n",
      "Running Regression: 250 nodes\n",
      "Running Linear Transformation Simulations\n",
      "8\n",
      "6\n",
      "Parameter 9 , Network 7\n"
     ]
    },
    {
     "data": {
      "application/vnd.jupyter.widget-view+json": {
       "model_id": "4f61a3b33ec84f05b654092967d8ee99",
       "version_major": 2,
       "version_minor": 0
      },
      "text/plain": [
       "HBox(children=(IntProgress(value=0, description='Running Simulation ', max=5000, style=ProgressStyle(descripti…"
      ]
     },
     "metadata": {},
     "output_type": "display_data"
    },
    {
     "name": "stdout",
     "output_type": "stream",
     "text": [
      "\n",
      "Running Regression: 250 nodes\n",
      "Running Linear Transformation Simulations\n",
      "8\n",
      "7\n",
      "Parameter 9 , Network 8\n"
     ]
    },
    {
     "data": {
      "application/vnd.jupyter.widget-view+json": {
       "model_id": "100db92aae444884b569b5b21ded5e33",
       "version_major": 2,
       "version_minor": 0
      },
      "text/plain": [
       "HBox(children=(IntProgress(value=0, description='Running Simulation ', max=5000, style=ProgressStyle(descripti…"
      ]
     },
     "metadata": {},
     "output_type": "display_data"
    },
    {
     "name": "stdout",
     "output_type": "stream",
     "text": [
      "Running Regression: 293 nodes\n",
      "Unfortunately, only 0 current paths found in simulation time.\n"
     ]
    },
    {
     "name": "stderr",
     "output_type": "stream",
     "text": [
      "2020-09-03 16:56:33,999:INFO:Unfortunately, no current path is formed in simulation time.\n"
     ]
    },
    {
     "name": "stdout",
     "output_type": "stream",
     "text": [
      "Saving 10 Simulations for Network 9 Parameter 4\n",
      "Regressing Parameter 9 , Network 4\n",
      "Running Regression: 50 nodes\n",
      "\n",
      "Running Regression: 100 nodes\n"
     ]
    },
    {
     "name": "stderr",
     "output_type": "stream",
     "text": [
      "2020-09-03 16:56:34,957:INFO:First current path [121, 209, 198, 258, 244, 247, 0, 213, 3, 219] formed at time = 0.692 s.\n"
     ]
    },
    {
     "name": "stdout",
     "output_type": "stream",
     "text": [
      "Saving 10 Simulations for Network 9 Parameter 5\n",
      "Regressing Parameter 9 , Network 5\n",
      "Running Regression: 50 nodes\n",
      "Running Regression: 100 nodes\n",
      "Running Regression: 150 nodes\n",
      "Running Regression: 298 nodes\n",
      "Running Linear Transformation Simulations\n",
      "8\n",
      "8\n",
      "Parameter 9 , Network 9\n",
      "Running Regression: 150 nodes\n"
     ]
    },
    {
     "data": {
      "application/vnd.jupyter.widget-view+json": {
       "model_id": "9ed8d24c609f4d1fa14b41090ba0a7f2",
       "version_major": 2,
       "version_minor": 0
      },
      "text/plain": [
       "HBox(children=(IntProgress(value=0, description='Running Simulation ', max=5000, style=ProgressStyle(descripti…"
      ]
     },
     "metadata": {},
     "output_type": "display_data"
    },
    {
     "name": "stdout",
     "output_type": "stream",
     "text": [
      "Running Regression: 200 nodes\n",
      "Running Regression: 200 nodes\n",
      "\n"
     ]
    },
    {
     "name": "stderr",
     "output_type": "stream",
     "text": [
      "2020-09-03 16:56:39,452:INFO:First current path [119, 254, 61, 79, 128, 247, 258, 200, 100] formed at time = 0.672 s.\n"
     ]
    },
    {
     "name": "stdout",
     "output_type": "stream",
     "text": [
      "Saving 10 Simulations for Network 9 Parameter 6\n",
      "Regressing Parameter 9 , Network 6\n",
      "Running Regression: 50 nodes\n",
      "Running Regression: 100 nodes\n",
      "Running Linear Transformation Simulations\n",
      "8\n",
      "9\n",
      "Parameter 9 , Network 10\n"
     ]
    },
    {
     "data": {
      "application/vnd.jupyter.widget-view+json": {
       "model_id": "07cd308ea0fc4ac4aeb42e9e873ab813",
       "version_major": 2,
       "version_minor": 0
      },
      "text/plain": [
       "HBox(children=(IntProgress(value=0, description='Running Simulation ', max=5000, style=ProgressStyle(descripti…"
      ]
     },
     "metadata": {},
     "output_type": "display_data"
    },
    {
     "name": "stdout",
     "output_type": "stream",
     "text": [
      "Running Regression: 250 nodes\n",
      "Running Regression: 150 nodes\n",
      "Running Regression: 250 nodes\n",
      "Running Regression: 200 nodes\n",
      "\n",
      "Running Linear Transformation Simulations\n",
      "9\n",
      "0\n",
      "Parameter 10 , Network 1\n"
     ]
    },
    {
     "data": {
      "application/vnd.jupyter.widget-view+json": {
       "model_id": "32143ea4ed7c40ae91ddb32aa8034a45",
       "version_major": 2,
       "version_minor": 0
      },
      "text/plain": [
       "HBox(children=(IntProgress(value=0, description='Running Simulation ', max=5000, style=ProgressStyle(descripti…"
      ]
     },
     "metadata": {},
     "output_type": "display_data"
    },
    {
     "name": "stderr",
     "output_type": "stream",
     "text": [
      "2020-09-03 16:56:44,888:INFO:First current path [7, 288, 246, 74, 45, 138, 30, 237] formed at time = 0.572 s.\n"
     ]
    },
    {
     "name": "stdout",
     "output_type": "stream",
     "text": [
      "Saving 10 Simulations for Network 9 Parameter 7\n",
      "Regressing Parameter 9 , Network 7\n",
      "Running Regression: 50 nodes\n",
      "Running Regression: 299 nodes\n",
      "Running Regression: 100 nodes\n",
      "Running Regression: 250 nodes\n",
      "Running Regression: 300 nodes\n",
      "Running Regression: 150 nodes\n",
      "\n",
      "Running Regression: 200 nodes\n"
     ]
    },
    {
     "name": "stderr",
     "output_type": "stream",
     "text": [
      "2020-09-03 16:56:48,767:INFO:First current path [6, 284, 113, 81, 146, 35, 211] formed at time = 0.501 s.\n"
     ]
    },
    {
     "name": "stdout",
     "output_type": "stream",
     "text": [
      "Saving 10 Simulations for Network 9 Parameter 8\n",
      "Regressing Parameter 9 , Network 8\n",
      "Running Regression: 50 nodes\n",
      "Running Linear Transformation Simulations\n",
      "9\n",
      "1\n",
      "Parameter 10 , Network 2\n"
     ]
    },
    {
     "data": {
      "application/vnd.jupyter.widget-view+json": {
       "model_id": "beb6d5c7170646bb9022861e3a354bac",
       "version_major": 2,
       "version_minor": 0
      },
      "text/plain": [
       "HBox(children=(IntProgress(value=0, description='Running Simulation ', max=5000, style=ProgressStyle(descripti…"
      ]
     },
     "metadata": {},
     "output_type": "display_data"
    },
    {
     "name": "stdout",
     "output_type": "stream",
     "text": [
      "Running Regression: 100 nodes\n",
      "Running Regression: 300 nodes\n",
      "Running Regression: 150 nodes\n",
      "Running Regression: 250 nodes\n",
      "Running Linear Transformation Simulations\n",
      "9\n",
      "2\n",
      "Parameter 10 , Network 3\n"
     ]
    },
    {
     "data": {
      "application/vnd.jupyter.widget-view+json": {
       "model_id": "fc0582bd9a8d4f9087c4218be10d4012",
       "version_major": 2,
       "version_minor": 0
      },
      "text/plain": [
       "HBox(children=(IntProgress(value=0, description='Running Simulation ', max=5000, style=ProgressStyle(descripti…"
      ]
     },
     "metadata": {},
     "output_type": "display_data"
    },
    {
     "name": "stdout",
     "output_type": "stream",
     "text": [
      "Running Regression: 200 nodes\n",
      "\n",
      "Unfortunately, only 0 current paths found in simulation time.\n"
     ]
    },
    {
     "name": "stderr",
     "output_type": "stream",
     "text": [
      "2020-09-03 16:56:53,271:INFO:Unfortunately, no current path is formed in simulation time.\n"
     ]
    },
    {
     "name": "stdout",
     "output_type": "stream",
     "text": [
      "Saving 10 Simulations for Network 9 Parameter 10\n",
      "Regressing Parameter 9 , Network 10\n",
      "Running Regression: 50 nodes\n",
      "\n",
      "Running Regression: 100 nodes\n"
     ]
    },
    {
     "name": "stderr",
     "output_type": "stream",
     "text": [
      "2020-09-03 16:56:54,245:INFO:First current path [20, 244, 196, 67, 56, 80, 154] formed at time = 0.593 s.\n"
     ]
    },
    {
     "name": "stdout",
     "output_type": "stream",
     "text": [
      "Saving 10 Simulations for Network 9 Parameter 9\n",
      "Regressing Parameter 9 , Network 9\n",
      "Running Regression: 50 nodes\n",
      "Running Regression: 100 nodes\n",
      "Running Regression: 150 nodes\n",
      "Running Regression: 250 nodes\n",
      "Running Linear Transformation Simulations\n",
      "9\n",
      "3\n",
      "Parameter 10 , Network 4\n",
      "Running Regression: 150 nodes\n"
     ]
    },
    {
     "data": {
      "application/vnd.jupyter.widget-view+json": {
       "model_id": "f260df0f54154aaaa461ba2516ea3354",
       "version_major": 2,
       "version_minor": 0
      },
      "text/plain": [
       "HBox(children=(IntProgress(value=0, description='Running Simulation ', max=5000, style=ProgressStyle(descripti…"
      ]
     },
     "metadata": {},
     "output_type": "display_data"
    },
    {
     "name": "stdout",
     "output_type": "stream",
     "text": [
      "Running Regression: 300 nodes\n",
      "\n",
      "Running Regression: 200 nodes\n",
      "Unfortunately, only 0 current paths found in simulation time.\n"
     ]
    },
    {
     "name": "stderr",
     "output_type": "stream",
     "text": [
      "2020-09-03 16:56:56,658:INFO:Unfortunately, no current path is formed in simulation time.\n"
     ]
    },
    {
     "name": "stdout",
     "output_type": "stream",
     "text": [
      "Saving 10 Simulations for Network 10 Parameter 1\n",
      "Regressing Parameter 10 , Network 1\n",
      "Running Regression: 50 nodes\n",
      "Running Regression: 100 nodes\n",
      "Running Regression: 200 nodes\n",
      "Running Regression: 150 nodes\n",
      "Running Regression: 250 nodes\n",
      "Running Linear Transformation Simulations\n",
      "9\n",
      "4\n",
      "Parameter 10 , Network 5\n"
     ]
    },
    {
     "data": {
      "application/vnd.jupyter.widget-view+json": {
       "model_id": "c3de1bfd40b34ed8b3b267c0de4c7325",
       "version_major": 2,
       "version_minor": 0
      },
      "text/plain": [
       "HBox(children=(IntProgress(value=0, description='Running Simulation ', max=5000, style=ProgressStyle(descripti…"
      ]
     },
     "metadata": {},
     "output_type": "display_data"
    },
    {
     "name": "stdout",
     "output_type": "stream",
     "text": [
      "Running Regression: 300 nodes\n",
      "Running Regression: 200 nodes\n",
      "Running Regression: 250 nodes\n",
      "\n",
      "Unfortunately, only 0 current paths found in simulation time.\n"
     ]
    },
    {
     "name": "stderr",
     "output_type": "stream",
     "text": [
      "2020-09-03 16:57:02,826:INFO:Unfortunately, no current path is formed in simulation time.\n"
     ]
    },
    {
     "name": "stdout",
     "output_type": "stream",
     "text": [
      "Saving 10 Simulations for Network 10 Parameter 2\n",
      "Regressing Parameter 10 , Network 2\n",
      "Running Regression: 50 nodes\n",
      "Running Regression: 100 nodes\n",
      "Running Regression: 285 nodes\n",
      "Running Linear Transformation Simulations\n",
      "9\n",
      "5\n",
      "Parameter 10 , Network 6\n",
      "Running Regression: 250 nodes\n"
     ]
    },
    {
     "data": {
      "application/vnd.jupyter.widget-view+json": {
       "model_id": "2271c4eede664e2b8a9aec98a8fa1418",
       "version_major": 2,
       "version_minor": 0
      },
      "text/plain": [
       "HBox(children=(IntProgress(value=0, description='Running Simulation ', max=5000, style=ProgressStyle(descripti…"
      ]
     },
     "metadata": {},
     "output_type": "display_data"
    },
    {
     "name": "stdout",
     "output_type": "stream",
     "text": [
      "Running Regression: 150 nodes\n",
      "\n",
      "Unfortunately, only 0 current paths found in simulation time.\n"
     ]
    },
    {
     "name": "stderr",
     "output_type": "stream",
     "text": [
      "2020-09-03 16:57:05,643:INFO:Unfortunately, no current path is formed in simulation time.\n"
     ]
    },
    {
     "name": "stdout",
     "output_type": "stream",
     "text": [
      "Saving 10 Simulations for Network 10 Parameter 3\n",
      "Regressing Parameter 10 , Network 3\n",
      "Running Regression: 50 nodes\n",
      "Running Regression: 300 nodes\n",
      "Running Regression: 100 nodes\n",
      "Running Regression: 200 nodes\n",
      "Running Linear Transformation Simulations\n",
      "9\n",
      "6\n",
      "Parameter 10 , Network 7\n",
      "Running Regression: 150 nodes\n"
     ]
    },
    {
     "data": {
      "application/vnd.jupyter.widget-view+json": {
       "model_id": "5c28b16017624229a9fecab370f02b9e",
       "version_major": 2,
       "version_minor": 0
      },
      "text/plain": [
       "HBox(children=(IntProgress(value=0, description='Running Simulation ', max=5000, style=ProgressStyle(descripti…"
      ]
     },
     "metadata": {},
     "output_type": "display_data"
    },
    {
     "name": "stdout",
     "output_type": "stream",
     "text": [
      "Running Regression: 279 nodes\n",
      "Running Regression: 200 nodes\n",
      "\n",
      "Running Regression: 250 nodes\n"
     ]
    },
    {
     "name": "stderr",
     "output_type": "stream",
     "text": [
      "2020-09-03 16:57:10,221:INFO:First current path [101, 293, 277, 236, 128, 7, 186, 35, 89, 72, 88, 190] formed at time = 0.885 s.\n"
     ]
    },
    {
     "name": "stdout",
     "output_type": "stream",
     "text": [
      "Saving 10 Simulations for Network 10 Parameter 4\n",
      "Regressing Parameter 10 , Network 4\n",
      "Running Regression: 50 nodes\n",
      "Running Regression: 100 nodes\n",
      "Running Linear Transformation Simulations\n",
      "9\n",
      "7\n",
      "Parameter 10 , Network 8\n"
     ]
    },
    {
     "data": {
      "application/vnd.jupyter.widget-view+json": {
       "model_id": "6ee86a1adb2d4c89910936bda29dae1b",
       "version_major": 2,
       "version_minor": 0
      },
      "text/plain": [
       "HBox(children=(IntProgress(value=0, description='Running Simulation ', max=5000, style=ProgressStyle(descripti…"
      ]
     },
     "metadata": {},
     "output_type": "display_data"
    },
    {
     "name": "stdout",
     "output_type": "stream",
     "text": [
      "Running Regression: 150 nodes\n",
      "Running Regression: 250 nodes\n",
      "Running Regression: 200 nodes\n",
      "Running Regression: 285 nodes\n",
      "\n",
      "Running Linear Transformation Simulations\n",
      "9\n",
      "8\n",
      "Parameter 10 , Network 9\n"
     ]
    },
    {
     "data": {
      "application/vnd.jupyter.widget-view+json": {
       "model_id": "7c7dbc407c18475db1bbc99ca8a86ae2",
       "version_major": 2,
       "version_minor": 0
      },
      "text/plain": [
       "HBox(children=(IntProgress(value=0, description='Running Simulation ', max=5000, style=ProgressStyle(descripti…"
      ]
     },
     "metadata": {},
     "output_type": "display_data"
    },
    {
     "name": "stdout",
     "output_type": "stream",
     "text": [
      "Running Regression: 295 nodes\n",
      "Running Regression: 250 nodes\n",
      "Unfortunately, only 0 current paths found in simulation time.\n"
     ]
    },
    {
     "name": "stderr",
     "output_type": "stream",
     "text": [
      "2020-09-03 16:57:18,248:INFO:Unfortunately, no current path is formed in simulation time.\n"
     ]
    },
    {
     "name": "stdout",
     "output_type": "stream",
     "text": [
      "Saving 10 Simulations for Network 10 Parameter 5\n",
      "Regressing Parameter 10 , Network 5\n",
      "Running Regression: 50 nodes\n",
      "Running Regression: 100 nodes\n",
      "\n",
      "Running Regression: 150 nodes\n",
      "Running Linear Transformation Simulations\n",
      "9\n",
      "9\n",
      "Parameter 10 , Network 10\n"
     ]
    },
    {
     "data": {
      "application/vnd.jupyter.widget-view+json": {
       "model_id": "56724046f6d2413e9abb77ae529de515",
       "version_major": 2,
       "version_minor": 0
      },
      "text/plain": [
       "HBox(children=(IntProgress(value=0, description='Running Simulation ', max=5000, style=ProgressStyle(descripti…"
      ]
     },
     "metadata": {},
     "output_type": "display_data"
    },
    {
     "name": "stdout",
     "output_type": "stream",
     "text": [
      "Running Regression: 295 nodes\n",
      "Running Regression: 200 nodes\n",
      "\n"
     ]
    },
    {
     "name": "stderr",
     "output_type": "stream",
     "text": [
      "2020-09-03 16:57:22,887:INFO:First current path [179, 150, 37, 274, 67, 22, 281, 286, 45, 295] formed at time = 0.684 s.\n"
     ]
    },
    {
     "name": "stdout",
     "output_type": "stream",
     "text": [
      "Saving 10 Simulations for Network 10 Parameter 7\n",
      "Regressing Parameter 10 , Network 7\n",
      "Running Regression: 50 nodes\n",
      "Unfortunately, only 0 current paths found in simulation time.\n"
     ]
    },
    {
     "name": "stderr",
     "output_type": "stream",
     "text": [
      "2020-09-03 16:57:23,105:INFO:Unfortunately, no current path is formed in simulation time.\n"
     ]
    },
    {
     "name": "stdout",
     "output_type": "stream",
     "text": [
      "Saving 10 Simulations for Network 10 Parameter 6\n",
      "Regressing Parameter 10 , Network 6\n",
      "Running Regression: 50 nodes\n",
      "Running Regression: 100 nodes\n",
      "Running Regression: 100 nodes\n",
      "Running Regression: 150 nodes\n",
      "Running Regression: 150 nodes\n",
      "Running Regression: 250 nodes\n",
      "Running Linear Transformation Simulations\n",
      "10\n",
      "0\n",
      "Parameter 11 , Network 1\n"
     ]
    },
    {
     "data": {
      "application/vnd.jupyter.widget-view+json": {
       "model_id": "efabf268cca4476c9f82b84221d0cc6a",
       "version_major": 2,
       "version_minor": 0
      },
      "text/plain": [
       "HBox(children=(IntProgress(value=0, description='Running Simulation ', max=5000, style=ProgressStyle(descripti…"
      ]
     },
     "metadata": {},
     "output_type": "display_data"
    },
    {
     "name": "stdout",
     "output_type": "stream",
     "text": [
      "Running Regression: 200 nodes\n",
      "Running Regression: 200 nodes\n",
      "\n"
     ]
    },
    {
     "name": "stderr",
     "output_type": "stream",
     "text": [
      "2020-09-03 16:57:27,469:INFO:First current path [51, 213, 93, 8, 280, 19, 224, 79, 164] formed at time = 0.661 s.\n"
     ]
    },
    {
     "name": "stdout",
     "output_type": "stream",
     "text": [
      "Saving 10 Simulations for Network 10 Parameter 8\n",
      "Regressing Parameter 10 , Network 8\n",
      "Running Regression: 50 nodes\n",
      "Running Regression: 100 nodes\n",
      "Running Regression: 250 nodes\n",
      "Running Regression: 150 nodes\n",
      "Running Regression: 250 nodes\n",
      "Running Regression: 300 nodes\n",
      "Running Linear Transformation Simulations\n",
      "10\n",
      "1\n",
      "Parameter 11 , Network 2\n"
     ]
    },
    {
     "data": {
      "application/vnd.jupyter.widget-view+json": {
       "model_id": "4a7142c927e740ec86e8e526de183d5e",
       "version_major": 2,
       "version_minor": 0
      },
      "text/plain": [
       "HBox(children=(IntProgress(value=0, description='Running Simulation ', max=5000, style=ProgressStyle(descripti…"
      ]
     },
     "metadata": {},
     "output_type": "display_data"
    },
    {
     "name": "stdout",
     "output_type": "stream",
     "text": [
      "Running Regression: 200 nodes\n",
      "\n",
      "Unfortunately, only 0 current paths found in simulation time.\n"
     ]
    },
    {
     "name": "stderr",
     "output_type": "stream",
     "text": [
      "2020-09-03 16:57:32,019:INFO:Unfortunately, no current path is formed in simulation time.\n"
     ]
    },
    {
     "name": "stdout",
     "output_type": "stream",
     "text": [
      "Saving 10 Simulations for Network 10 Parameter 10\n",
      "Regressing Parameter 10 , Network 10\n",
      "Running Regression: 50 nodes\n",
      "\n"
     ]
    },
    {
     "name": "stderr",
     "output_type": "stream",
     "text": [
      "2020-09-03 16:57:32,548:INFO:First current path [155, 183, 245, 150, 190, 25, 137, 24] formed at time = 0.568 s.\n"
     ]
    },
    {
     "name": "stdout",
     "output_type": "stream",
     "text": [
      "Saving 10 Simulations for Network 10 Parameter 9\n",
      "Running Regression: 100 nodes\n",
      "Regressing Parameter 10 , Network 9\n",
      "Running Regression: 50 nodes\n",
      "Running Regression: 100 nodes\n",
      "Running Regression: 300 nodes\n",
      "Running Linear Transformation Simulations\n",
      "10\n",
      "2\n",
      "Parameter 11 , Network 3\n",
      "Running Regression: 299 nodes\n"
     ]
    },
    {
     "data": {
      "application/vnd.jupyter.widget-view+json": {
       "model_id": "3abe2cf069d7440689fefe3a0323251b",
       "version_major": 2,
       "version_minor": 0
      },
      "text/plain": [
       "HBox(children=(IntProgress(value=0, description='Running Simulation ', max=5000, style=ProgressStyle(descripti…"
      ]
     },
     "metadata": {},
     "output_type": "display_data"
    },
    {
     "name": "stdout",
     "output_type": "stream",
     "text": [
      "Running Regression: 150 nodes\n",
      "Running Regression: 150 nodes\n",
      "Running Regression: 250 nodes\n",
      "Running Regression: 200 nodes\n",
      "Running Regression: 200 nodes\n",
      "Running Linear Transformation Simulations\n",
      "10\n",
      "3\n",
      "Parameter 11 , Network 4\n"
     ]
    },
    {
     "data": {
      "application/vnd.jupyter.widget-view+json": {
       "model_id": "1af1e53039d44672acaa7b94906c3224",
       "version_major": 2,
       "version_minor": 0
      },
      "text/plain": [
       "HBox(children=(IntProgress(value=0, description='Running Simulation ', max=5000, style=ProgressStyle(descripti…"
      ]
     },
     "metadata": {},
     "output_type": "display_data"
    },
    {
     "name": "stdout",
     "output_type": "stream",
     "text": [
      "Running Regression: 250 nodes\n",
      "Running Regression: 300 nodes\n",
      "Running Regression: 250 nodes\n",
      "\n",
      "Running Linear Transformation Simulations\n",
      "10\n",
      "4\n",
      "Parameter 11 , Network 5\n"
     ]
    },
    {
     "data": {
      "application/vnd.jupyter.widget-view+json": {
       "model_id": "7541fb46ff974faf87c1b90a0b1b566a",
       "version_major": 2,
       "version_minor": 0
      },
      "text/plain": [
       "HBox(children=(IntProgress(value=0, description='Running Simulation ', max=5000, style=ProgressStyle(descripti…"
      ]
     },
     "metadata": {},
     "output_type": "display_data"
    },
    {
     "name": "stderr",
     "output_type": "stream",
     "text": [
      "2020-09-03 16:57:42,391:INFO:First current path [131, 193, 253, 242, 138, 218, 187, 31, 289] formed at time = 0.68 s.\n"
     ]
    },
    {
     "name": "stdout",
     "output_type": "stream",
     "text": [
      "Saving 10 Simulations for Network 11 Parameter 1\n",
      "Regressing Parameter 11 , Network 1\n",
      "Running Regression: 50 nodes\n",
      "Running Regression: 100 nodes\n",
      "Running Regression: 279 nodes\n",
      "Running Regression: 300 nodes\n",
      "Running Regression: 150 nodes\n",
      "\n"
     ]
    },
    {
     "name": "stderr",
     "output_type": "stream",
     "text": [
      "2020-09-03 16:57:45,559:INFO:First current path [33, 96, 217, 171, 167, 86, 227, 251, 67, 269] formed at time = 0.681 s.\n"
     ]
    },
    {
     "name": "stdout",
     "output_type": "stream",
     "text": [
      "Saving 10 Simulations for Network 11 Parameter 2\n",
      "Regressing Parameter 11 , Network 2\n",
      "Running Regression: 50 nodes\n",
      "Running Regression: 100 nodes\n",
      "Running Regression: 200 nodes\n",
      "Running Linear Transformation Simulations\n",
      "10\n",
      "5\n",
      "Parameter 11 , Network 6\n"
     ]
    },
    {
     "data": {
      "application/vnd.jupyter.widget-view+json": {
       "model_id": "d0b3b43a9f604dd28ecb4cdec0c5f706",
       "version_major": 2,
       "version_minor": 0
      },
      "text/plain": [
       "HBox(children=(IntProgress(value=0, description='Running Simulation ', max=5000, style=ProgressStyle(descripti…"
      ]
     },
     "metadata": {},
     "output_type": "display_data"
    },
    {
     "name": "stdout",
     "output_type": "stream",
     "text": [
      "Running Regression: 150 nodes\n",
      "\n",
      "Unfortunately, only 0 current paths found in simulation time.\n"
     ]
    },
    {
     "name": "stderr",
     "output_type": "stream",
     "text": [
      "2020-09-03 16:57:48,320:INFO:Unfortunately, no current path is formed in simulation time.\n"
     ]
    },
    {
     "name": "stdout",
     "output_type": "stream",
     "text": [
      "Saving 10 Simulations for Network 11 Parameter 3\n",
      "Regressing Parameter 11 , Network 3\n",
      "Running Regression: 50 nodes\n",
      "Running Regression: 100 nodes\n",
      "Running Regression: 200 nodes\n",
      "Running Regression: 250 nodes\n",
      "Running Regression: 150 nodes\n",
      "Running Linear Transformation Simulations\n",
      "10\n",
      "6\n",
      "Parameter 11 , Network 7\n"
     ]
    },
    {
     "data": {
      "application/vnd.jupyter.widget-view+json": {
       "model_id": "09d2822cc5fd4360a6ca9d7ecedaf8cd",
       "version_major": 2,
       "version_minor": 0
      },
      "text/plain": [
       "HBox(children=(IntProgress(value=0, description='Running Simulation ', max=5000, style=ProgressStyle(descripti…"
      ]
     },
     "metadata": {},
     "output_type": "display_data"
    },
    {
     "name": "stdout",
     "output_type": "stream",
     "text": [
      "Running Regression: 200 nodes\n",
      "Running Regression: 250 nodes\n",
      "\n",
      "Unfortunately, only 0 current paths found in simulation time.\n"
     ]
    },
    {
     "name": "stderr",
     "output_type": "stream",
     "text": [
      "2020-09-03 16:57:52,326:INFO:Unfortunately, no current path is formed in simulation time.\n"
     ]
    },
    {
     "name": "stdout",
     "output_type": "stream",
     "text": [
      "Saving 10 Simulations for Network 11 Parameter 4\n",
      "Regressing Parameter 11 , Network 4\n",
      "Running Regression: 50 nodes\n",
      "Running Regression: 100 nodes\n",
      "Running Regression: 150 nodes\n",
      "Running Linear Transformation Simulations\n",
      "10\n",
      "7\n",
      "Parameter 11 , Network 8\n"
     ]
    },
    {
     "data": {
      "application/vnd.jupyter.widget-view+json": {
       "model_id": "a83417c7eebd45acae46158524e371aa",
       "version_major": 2,
       "version_minor": 0
      },
      "text/plain": [
       "HBox(children=(IntProgress(value=0, description='Running Simulation ', max=5000, style=ProgressStyle(descripti…"
      ]
     },
     "metadata": {},
     "output_type": "display_data"
    },
    {
     "name": "stdout",
     "output_type": "stream",
     "text": [
      "Running Regression: 300 nodes\n",
      "Running Regression: 250 nodes\n",
      "\n",
      "Unfortunately, only 0 current paths found in simulation time.\n"
     ]
    },
    {
     "name": "stderr",
     "output_type": "stream",
     "text": [
      "2020-09-03 16:57:55,168:INFO:Unfortunately, no current path is formed in simulation time.\n"
     ]
    },
    {
     "name": "stdout",
     "output_type": "stream",
     "text": [
      "Saving 10 Simulations for Network 11 Parameter 5\n",
      "Regressing Parameter 11 , Network 5\n",
      "Running Regression: 50 nodes\n",
      "Running Regression: 100 nodes\n",
      "Running Regression: 200 nodes\n",
      "Running Regression: 296 nodes\n",
      "Running Regression: 150 nodes\n",
      "Running Regression: 250 nodes\n",
      "Running Regression: 200 nodes\n",
      "Running Linear Transformation Simulations\n",
      "10\n",
      "8\n",
      "Parameter 11 , Network 9\n"
     ]
    },
    {
     "data": {
      "application/vnd.jupyter.widget-view+json": {
       "model_id": "1cef2df7ed314dd293cf02448ea88757",
       "version_major": 2,
       "version_minor": 0
      },
      "text/plain": [
       "HBox(children=(IntProgress(value=0, description='Running Simulation ', max=5000, style=ProgressStyle(descripti…"
      ]
     },
     "metadata": {},
     "output_type": "display_data"
    },
    {
     "name": "stdout",
     "output_type": "stream",
     "text": [
      "Running Regression: 299 nodes\n",
      "\n",
      "Unfortunately, only 0 current paths found in simulation time.\n"
     ]
    },
    {
     "name": "stderr",
     "output_type": "stream",
     "text": [
      "2020-09-03 16:58:00,260:INFO:Unfortunately, no current path is formed in simulation time.\n"
     ]
    },
    {
     "name": "stdout",
     "output_type": "stream",
     "text": [
      "Saving 10 Simulations for Network 11 Parameter 6\n",
      "Regressing Parameter 11 , Network 6\n",
      "Running Regression: 50 nodes\n",
      "Running Regression: 100 nodes\n",
      "Running Regression: 150 nodes\n",
      "Running Regression: 250 nodes\n",
      "\n",
      "Unfortunately, only 0 current paths found in simulation time.\n"
     ]
    },
    {
     "name": "stderr",
     "output_type": "stream",
     "text": [
      "2020-09-03 16:58:02,502:INFO:Unfortunately, no current path is formed in simulation time.\n"
     ]
    },
    {
     "name": "stdout",
     "output_type": "stream",
     "text": [
      "Saving 10 Simulations for Network 11 Parameter 7\n",
      "Regressing Parameter 11 , Network 7\n",
      "Running Regression: 50 nodes\n",
      "Running Regression: 100 nodes\n",
      "Running Regression: 293 nodes\n",
      "Running Linear Transformation Simulations\n",
      "10\n",
      "9\n",
      "Parameter 11 , Network 10\n"
     ]
    },
    {
     "data": {
      "application/vnd.jupyter.widget-view+json": {
       "model_id": "f237a18440b04407bea2403a1ba0fa29",
       "version_major": 2,
       "version_minor": 0
      },
      "text/plain": [
       "HBox(children=(IntProgress(value=0, description='Running Simulation ', max=5000, style=ProgressStyle(descripti…"
      ]
     },
     "metadata": {},
     "output_type": "display_data"
    },
    {
     "name": "stdout",
     "output_type": "stream",
     "text": [
      "Running Regression: 200 nodes\n",
      "Running Regression: 150 nodes\n",
      "Running Regression: 200 nodes\n",
      "\n",
      "Unfortunately, only 0 current paths found in simulation time.\n"
     ]
    },
    {
     "name": "stderr",
     "output_type": "stream",
     "text": [
      "2020-09-03 16:58:06,116:INFO:Unfortunately, no current path is formed in simulation time.\n"
     ]
    },
    {
     "name": "stdout",
     "output_type": "stream",
     "text": [
      "Saving 10 Simulations for Network 11 Parameter 8\n",
      "Regressing Parameter 11 , Network 8\n",
      "Running Regression: 50 nodes\n",
      "Running Regression: 289 nodes\n",
      "Running Regression: 250 nodes\n",
      "Running Regression: 100 nodes\n",
      "Running Regression: 150 nodes\n",
      "Running Linear Transformation Simulations\n",
      "11\n",
      "0\n",
      "Parameter 12 , Network 1\n"
     ]
    },
    {
     "data": {
      "application/vnd.jupyter.widget-view+json": {
       "model_id": "e824fe0e08514e8799bb2684b5143c78",
       "version_major": 2,
       "version_minor": 0
      },
      "text/plain": [
       "HBox(children=(IntProgress(value=0, description='Running Simulation ', max=5000, style=ProgressStyle(descripti…"
      ]
     },
     "metadata": {},
     "output_type": "display_data"
    },
    {
     "name": "stdout",
     "output_type": "stream",
     "text": [
      "Running Regression: 250 nodes\n",
      "Running Regression: 200 nodes\n",
      "\n",
      "Unfortunately, only 0 current paths found in simulation time.\n"
     ]
    },
    {
     "name": "stderr",
     "output_type": "stream",
     "text": [
      "2020-09-03 16:58:10,791:INFO:Unfortunately, no current path is formed in simulation time.\n"
     ]
    },
    {
     "name": "stdout",
     "output_type": "stream",
     "text": [
      "Saving 10 Simulations for Network 11 Parameter 9\n",
      "Regressing Parameter 11 , Network 9\n",
      "Running Regression: 50 nodes\n",
      "Running Regression: 297 nodes\n",
      "Running Regression: 100 nodes\n",
      "Running Linear Transformation Simulations\n",
      "11\n",
      "1\n",
      "Parameter 12 , Network 2\n"
     ]
    },
    {
     "data": {
      "application/vnd.jupyter.widget-view+json": {
       "model_id": "fa1908f906084aaaa1df85817b8cc021",
       "version_major": 2,
       "version_minor": 0
      },
      "text/plain": [
       "HBox(children=(IntProgress(value=0, description='Running Simulation ', max=5000, style=ProgressStyle(descripti…"
      ]
     },
     "metadata": {},
     "output_type": "display_data"
    },
    {
     "name": "stdout",
     "output_type": "stream",
     "text": [
      "Running Regression: 150 nodes\n",
      "Running Regression: 250 nodes\n",
      "Running Regression: 282 nodes\n",
      "Running Regression: 200 nodes\n",
      "Running Linear Transformation Simulations\n",
      "11\n",
      "2\n",
      "Parameter 12 , Network 3\n"
     ]
    },
    {
     "data": {
      "application/vnd.jupyter.widget-view+json": {
       "model_id": "c740f5b212664b44826ec5985311334e",
       "version_major": 2,
       "version_minor": 0
      },
      "text/plain": [
       "HBox(children=(IntProgress(value=0, description='Running Simulation ', max=5000, style=ProgressStyle(descripti…"
      ]
     },
     "metadata": {},
     "output_type": "display_data"
    },
    {
     "name": "stdout",
     "output_type": "stream",
     "text": [
      "Running Regression: 279 nodes\n",
      "Running Regression: 250 nodes\n",
      "\n"
     ]
    },
    {
     "name": "stderr",
     "output_type": "stream",
     "text": [
      "2020-09-03 16:58:19,240:INFO:First current path [174, 10, 92, 16, 200, 95, 223, 275, 30, 153, 224] formed at time = 0.786 s.\n"
     ]
    },
    {
     "name": "stdout",
     "output_type": "stream",
     "text": [
      "Saving 10 Simulations for Network 11 Parameter 10\n",
      "Regressing Parameter 11 , Network 10\n",
      "Running Regression: 50 nodes\n",
      "Running Regression: 100 nodes\n",
      "Running Regression: 150 nodes\n",
      "Running Linear Transformation Simulations\n",
      "11\n",
      "3\n",
      "Parameter 12 , Network 4\n"
     ]
    },
    {
     "data": {
      "application/vnd.jupyter.widget-view+json": {
       "model_id": "b9c57518313349a89b3c69c9a5609bf9",
       "version_major": 2,
       "version_minor": 0
      },
      "text/plain": [
       "HBox(children=(IntProgress(value=0, description='Running Simulation ', max=5000, style=ProgressStyle(descripti…"
      ]
     },
     "metadata": {},
     "output_type": "display_data"
    },
    {
     "name": "stdout",
     "output_type": "stream",
     "text": [
      "Running Regression: 277 nodes\n",
      "\n",
      "Running Regression: 200 nodes\n"
     ]
    },
    {
     "name": "stderr",
     "output_type": "stream",
     "text": [
      "2020-09-03 16:58:23,250:INFO:First current path [72, 259, 86, 52, 219, 186, 146, 183, 261] formed at time = 0.632 s.\n"
     ]
    },
    {
     "name": "stdout",
     "output_type": "stream",
     "text": [
      "Saving 10 Simulations for Network 12 Parameter 1\n",
      "Regressing Parameter 12 , Network 1\n",
      "Running Regression: 50 nodes\n",
      "Running Regression: 100 nodes\n",
      "Running Linear Transformation Simulations\n",
      "11\n",
      "4\n",
      "Parameter 12 , Network 5\n"
     ]
    },
    {
     "data": {
      "application/vnd.jupyter.widget-view+json": {
       "model_id": "5038fe62928446a18cdb65312169e246",
       "version_major": 2,
       "version_minor": 0
      },
      "text/plain": [
       "HBox(children=(IntProgress(value=0, description='Running Simulation ', max=5000, style=ProgressStyle(descripti…"
      ]
     },
     "metadata": {},
     "output_type": "display_data"
    },
    {
     "name": "stdout",
     "output_type": "stream",
     "text": [
      "Running Regression: 150 nodes\n",
      "Running Regression: 250 nodes\n",
      "Running Regression: 200 nodes\n",
      "\n"
     ]
    },
    {
     "name": "stderr",
     "output_type": "stream",
     "text": [
      "2020-09-03 16:58:28,193:INFO:First current path [206, 244, 27, 238, 28, 181, 63, 31, 90, 149, 197] formed at time = 0.886 s.\n"
     ]
    },
    {
     "name": "stdout",
     "output_type": "stream",
     "text": [
      "Saving 10 Simulations for Network 12 Parameter 2\n",
      "Regressing Parameter 12 , Network 2\n",
      "Running Regression: 50 nodes\n",
      "Running Regression: 100 nodes\n",
      "Running Linear Transformation Simulations\n",
      "11\n",
      "5\n",
      "Parameter 12 , Network 6\n"
     ]
    },
    {
     "data": {
      "application/vnd.jupyter.widget-view+json": {
       "model_id": "2810b429eec340938c28bf1c2255458d",
       "version_major": 2,
       "version_minor": 0
      },
      "text/plain": [
       "HBox(children=(IntProgress(value=0, description='Running Simulation ', max=5000, style=ProgressStyle(descripti…"
      ]
     },
     "metadata": {},
     "output_type": "display_data"
    },
    {
     "name": "stdout",
     "output_type": "stream",
     "text": [
      "Running Regression: 150 nodes\n",
      "\n",
      "Running Regression: 250 nodes\n"
     ]
    },
    {
     "name": "stderr",
     "output_type": "stream",
     "text": [
      "2020-09-03 16:58:30,574:INFO:First current path [36, 46, 262, 26, 87, 172, 41, 182, 134, 121, 245, 275] formed at time = 0.916 s.\n"
     ]
    },
    {
     "name": "stdout",
     "output_type": "stream",
     "text": [
      "Saving 10 Simulations for Network 12 Parameter 3\n",
      "Regressing Parameter 12 , Network 3\n",
      "Running Regression: 50 nodes\n",
      "Running Regression: 300 nodes\n",
      "Running Regression: 100 nodes\n",
      "Running Regression: 200 nodes\n",
      "Running Regression: 150 nodes\n",
      "Running Linear Transformation Simulations\n",
      "11\n",
      "6\n",
      "Parameter 12 , Network 7\n"
     ]
    },
    {
     "data": {
      "application/vnd.jupyter.widget-view+json": {
       "model_id": "1f7638e5040242aabcf1b66a41626fdf",
       "version_major": 2,
       "version_minor": 0
      },
      "text/plain": [
       "HBox(children=(IntProgress(value=0, description='Running Simulation ', max=5000, style=ProgressStyle(descripti…"
      ]
     },
     "metadata": {},
     "output_type": "display_data"
    },
    {
     "name": "stdout",
     "output_type": "stream",
     "text": [
      "Running Regression: 200 nodes\n",
      "\n",
      "Running Regression: 250 nodes\n",
      "Unfortunately, only 0 current paths found in simulation time.\n"
     ]
    },
    {
     "name": "stderr",
     "output_type": "stream",
     "text": [
      "2020-09-03 16:58:34,769:INFO:Unfortunately, no current path is formed in simulation time.\n"
     ]
    },
    {
     "name": "stdout",
     "output_type": "stream",
     "text": [
      "Saving 10 Simulations for Network 12 Parameter 4\n",
      "Regressing Parameter 12 , Network 4\n",
      "Running Regression: 50 nodes\n",
      "Running Regression: 294 nodes\n",
      "Running Regression: 100 nodes\n",
      "Running Regression: 150 nodes\n",
      "Running Regression: 250 nodes\n",
      "Running Linear Transformation Simulations\n",
      "11\n",
      "7\n",
      "Parameter 12 , Network 8\n"
     ]
    },
    {
     "data": {
      "application/vnd.jupyter.widget-view+json": {
       "model_id": "ed17b1a061964599a5f91d469cc4a35d",
       "version_major": 2,
       "version_minor": 0
      },
      "text/plain": [
       "HBox(children=(IntProgress(value=0, description='Running Simulation ', max=5000, style=ProgressStyle(descripti…"
      ]
     },
     "metadata": {},
     "output_type": "display_data"
    },
    {
     "name": "stdout",
     "output_type": "stream",
     "text": [
      "\n",
      "Unfortunately, only 0 current paths found in simulation time.\n"
     ]
    },
    {
     "name": "stderr",
     "output_type": "stream",
     "text": [
      "2020-09-03 16:58:38,355:INFO:Unfortunately, no current path is formed in simulation time.\n"
     ]
    },
    {
     "name": "stdout",
     "output_type": "stream",
     "text": [
      "Saving 10 Simulations for Network 12 Parameter 5\n",
      "Regressing Parameter 12 , Network 5\n",
      "Running Regression: 50 nodes\n",
      "Running Regression: 200 nodes\n",
      "Running Regression: 100 nodes\n",
      "Running Regression: 300 nodes\n",
      "Running Regression: 150 nodes\n",
      "Running Regression: 250 nodes\n",
      "\n",
      "Running Regression: 299 nodes\n",
      "Unfortunately, only 0 current paths found in simulation time.\n"
     ]
    },
    {
     "name": "stderr",
     "output_type": "stream",
     "text": [
      "2020-09-03 16:58:41,848:INFO:Unfortunately, no current path is formed in simulation time.\n"
     ]
    },
    {
     "name": "stdout",
     "output_type": "stream",
     "text": [
      "Saving 10 Simulations for Network 12 Parameter 6\n",
      "Regressing Parameter 12 , Network 6\n",
      "Running Regression: 50 nodes\n",
      "Running Regression: 200 nodes\n",
      "Running Regression: 100 nodes\n",
      "Running Linear Transformation Simulations\n",
      "11\n",
      "8\n",
      "Parameter 12 , Network 9\n"
     ]
    },
    {
     "data": {
      "application/vnd.jupyter.widget-view+json": {
       "model_id": "a971fc78a44f4338a1ef69cecb2a465b",
       "version_major": 2,
       "version_minor": 0
      },
      "text/plain": [
       "HBox(children=(IntProgress(value=0, description='Running Simulation ', max=5000, style=ProgressStyle(descripti…"
      ]
     },
     "metadata": {},
     "output_type": "display_data"
    },
    {
     "name": "stdout",
     "output_type": "stream",
     "text": [
      "Running Regression: 150 nodes\n",
      "Running Regression: 250 nodes\n",
      "Running Regression: 200 nodes\n",
      "\n",
      "Running Regression: 297 nodes\n",
      "Unfortunately, only 0 current paths found in simulation time.\n"
     ]
    },
    {
     "name": "stderr",
     "output_type": "stream",
     "text": [
      "2020-09-03 16:58:45,785:INFO:Unfortunately, no current path is formed in simulation time.\n"
     ]
    },
    {
     "name": "stdout",
     "output_type": "stream",
     "text": [
      "Saving 10 Simulations for Network 12 Parameter 7\n",
      "Regressing Parameter 12 , Network 7\n",
      "Running Regression: 50 nodes\n",
      "Running Regression: 100 nodes\n",
      "Running Linear Transformation Simulations\n",
      "11\n",
      "9\n",
      "Parameter 12 , Network 10\n"
     ]
    },
    {
     "data": {
      "application/vnd.jupyter.widget-view+json": {
       "model_id": "5da928a19ec74797a5a248de97fb7609",
       "version_major": 2,
       "version_minor": 0
      },
      "text/plain": [
       "HBox(children=(IntProgress(value=0, description='Running Simulation ', max=5000, style=ProgressStyle(descripti…"
      ]
     },
     "metadata": {},
     "output_type": "display_data"
    },
    {
     "name": "stdout",
     "output_type": "stream",
     "text": [
      "Running Regression: 150 nodes\n",
      "Running Regression: 250 nodes\n",
      "Running Regression: 295 nodes\n",
      "Running Regression: 200 nodes\n",
      "\n",
      "Unfortunately, only 0 current paths found in simulation time.\n"
     ]
    },
    {
     "name": "stderr",
     "output_type": "stream",
     "text": [
      "2020-09-03 16:58:49,568:INFO:Unfortunately, no current path is formed in simulation time.\n"
     ]
    },
    {
     "name": "stdout",
     "output_type": "stream",
     "text": [
      "Saving 10 Simulations for Network 12 Parameter 8\n",
      "Regressing Parameter 12 , Network 8\n",
      "Running Regression: 50 nodes\n",
      "Running Regression: 100 nodes\n",
      "Running Linear Transformation Simulations\n",
      "12\n",
      "0\n",
      "Parameter 13 , Network 1\n"
     ]
    },
    {
     "data": {
      "application/vnd.jupyter.widget-view+json": {
       "model_id": "140fb37cf9da452d9f62630f709d6131",
       "version_major": 2,
       "version_minor": 0
      },
      "text/plain": [
       "HBox(children=(IntProgress(value=0, description='Running Simulation ', max=5000, style=ProgressStyle(descripti…"
      ]
     },
     "metadata": {},
     "output_type": "display_data"
    },
    {
     "name": "stdout",
     "output_type": "stream",
     "text": [
      "Running Regression: 150 nodes\n",
      "Running Regression: 288 nodes\n",
      "Running Regression: 250 nodes\n",
      "Running Regression: 200 nodes\n",
      "Running Linear Transformation Simulations\n",
      "12\n",
      "1\n",
      "Parameter 13 , Network 2\n"
     ]
    },
    {
     "data": {
      "application/vnd.jupyter.widget-view+json": {
       "model_id": "b2ebb88cfd834ee99e90c001b8463dc9",
       "version_major": 2,
       "version_minor": 0
      },
      "text/plain": [
       "HBox(children=(IntProgress(value=0, description='Running Simulation ', max=5000, style=ProgressStyle(descripti…"
      ]
     },
     "metadata": {},
     "output_type": "display_data"
    },
    {
     "name": "stdout",
     "output_type": "stream",
     "text": [
      "Running Regression: 250 nodes\n",
      "Running Regression: 283 nodes\n",
      "\n"
     ]
    },
    {
     "name": "stderr",
     "output_type": "stream",
     "text": [
      "2020-09-03 16:58:59,237:INFO:First current path [172, 80, 135, 12, 137, 44, 41, 40, 0] formed at time = 0.624 s.\n"
     ]
    },
    {
     "name": "stdout",
     "output_type": "stream",
     "text": [
      "Saving 10 Simulations for Network 12 Parameter 9\n",
      "Regressing Parameter 12 , Network 9\n",
      "Running Regression: 50 nodes\n",
      "Running Regression: 100 nodes\n",
      "Running Linear Transformation Simulations\n",
      "12\n",
      "2\n",
      "Parameter 13 , Network 3\n"
     ]
    },
    {
     "data": {
      "application/vnd.jupyter.widget-view+json": {
       "model_id": "6cd8f99d5a9345e58d672e61934286d9",
       "version_major": 2,
       "version_minor": 0
      },
      "text/plain": [
       "HBox(children=(IntProgress(value=0, description='Running Simulation ', max=5000, style=ProgressStyle(descripti…"
      ]
     },
     "metadata": {},
     "output_type": "display_data"
    },
    {
     "name": "stdout",
     "output_type": "stream",
     "text": [
      "Running Regression: 280 nodes\n",
      "Running Regression: 150 nodes\n",
      "\n"
     ]
    },
    {
     "name": "stderr",
     "output_type": "stream",
     "text": [
      "2020-09-03 16:59:01,266:INFO:First current path [41, 128, 171, 199, 215, 234, 206, 38, 9, 106] formed at time = 0.699 s.\n"
     ]
    },
    {
     "name": "stdout",
     "output_type": "stream",
     "text": [
      "Saving 10 Simulations for Network 12 Parameter 10\n",
      "Regressing Parameter 12 , Network 10\n",
      "Running Regression: 50 nodes\n",
      "Running Regression: 100 nodes\n",
      "Running Regression: 200 nodes\n",
      "Running Regression: 150 nodes\n",
      "Running Linear Transformation Simulations\n",
      "12\n",
      "3\n",
      "Parameter 13 , Network 4\n"
     ]
    },
    {
     "data": {
      "application/vnd.jupyter.widget-view+json": {
       "model_id": "4b3d6fea91a343f2a839fc1e947d1963",
       "version_major": 2,
       "version_minor": 0
      },
      "text/plain": [
       "HBox(children=(IntProgress(value=0, description='Running Simulation ', max=5000, style=ProgressStyle(descripti…"
      ]
     },
     "metadata": {},
     "output_type": "display_data"
    },
    {
     "name": "stdout",
     "output_type": "stream",
     "text": [
      "Running Regression: 200 nodes\n",
      "Running Regression: 250 nodes\n",
      "\n"
     ]
    },
    {
     "name": "stderr",
     "output_type": "stream",
     "text": [
      "2020-09-03 16:59:06,825:INFO:First current path [13, 69, 35, 175, 76, 67, 43, 236, 24] formed at time = 0.622 s.\n"
     ]
    },
    {
     "name": "stdout",
     "output_type": "stream",
     "text": [
      "Saving 10 Simulations for Network 13 Parameter 1\n",
      "Regressing Parameter 13 , Network 1\n",
      "Running Regression: 50 nodes\n",
      "Running Regression: 100 nodes\n",
      "Running Regression: 250 nodes\n",
      "Running Linear Transformation Simulations\n",
      "12\n",
      "4\n",
      "Parameter 13 , Network 5\n",
      "Running Regression: 150 nodes\n"
     ]
    },
    {
     "data": {
      "application/vnd.jupyter.widget-view+json": {
       "model_id": "dd5f18aabc924c8ba2ba025eec213c6a",
       "version_major": 2,
       "version_minor": 0
      },
      "text/plain": [
       "HBox(children=(IntProgress(value=0, description='Running Simulation ', max=5000, style=ProgressStyle(descripti…"
      ]
     },
     "metadata": {},
     "output_type": "display_data"
    },
    {
     "name": "stdout",
     "output_type": "stream",
     "text": [
      "Running Regression: 299 nodes\n",
      "\n",
      "Running Regression: 200 nodes\n"
     ]
    },
    {
     "name": "stderr",
     "output_type": "stream",
     "text": [
      "2020-09-03 16:59:10,789:INFO:First current path [125, 157, 210, 127, 46, 13, 156, 14, 70, 298, 184] formed at time = 0.767 s.\n"
     ]
    },
    {
     "name": "stdout",
     "output_type": "stream",
     "text": [
      "Saving 10 Simulations for Network 13 Parameter 2\n",
      "Regressing Parameter 13 , Network 2\n",
      "Running Regression: 50 nodes\n",
      "Running Regression: 100 nodes\n",
      "Running Regression: 300 nodes\n",
      "Running Regression: 150 nodes\n",
      "Running Linear Transformation Simulations\n",
      "12\n",
      "5\n",
      "Parameter 13 , Network 6\n"
     ]
    },
    {
     "data": {
      "application/vnd.jupyter.widget-view+json": {
       "model_id": "5698c0694712456b9fbbd0460ae0aa64",
       "version_major": 2,
       "version_minor": 0
      },
      "text/plain": [
       "HBox(children=(IntProgress(value=0, description='Running Simulation ', max=5000, style=ProgressStyle(descripti…"
      ]
     },
     "metadata": {},
     "output_type": "display_data"
    },
    {
     "name": "stdout",
     "output_type": "stream",
     "text": [
      "\n",
      "Running Regression: 250 nodes\n",
      "Running Regression: 200 nodes\n",
      "Unfortunately, only 0 current paths found in simulation time.\n"
     ]
    },
    {
     "name": "stderr",
     "output_type": "stream",
     "text": [
      "2020-09-03 16:59:15,824:INFO:Unfortunately, no current path is formed in simulation time.\n"
     ]
    },
    {
     "name": "stdout",
     "output_type": "stream",
     "text": [
      "Saving 10 Simulations for Network 13 Parameter 3\n",
      "Regressing Parameter 13 , Network 3\n",
      "Running Regression: 50 nodes\n",
      "Running Regression: 100 nodes\n",
      "Running Regression: 250 nodes\n",
      "Running Linear Transformation Simulations\n",
      "12\n",
      "6\n",
      "Parameter 13 , Network 7\n",
      "Running Regression: 150 nodes\n"
     ]
    },
    {
     "data": {
      "application/vnd.jupyter.widget-view+json": {
       "model_id": "61a8808ca8124e998450c374ca9fcc4f",
       "version_major": 2,
       "version_minor": 0
      },
      "text/plain": [
       "HBox(children=(IntProgress(value=0, description='Running Simulation ', max=5000, style=ProgressStyle(descripti…"
      ]
     },
     "metadata": {},
     "output_type": "display_data"
    },
    {
     "name": "stdout",
     "output_type": "stream",
     "text": [
      "\n",
      "Unfortunately, only 0 current paths found in simulation time.\n"
     ]
    },
    {
     "name": "stderr",
     "output_type": "stream",
     "text": [
      "2020-09-03 16:59:18,310:INFO:Unfortunately, no current path is formed in simulation time.\n"
     ]
    },
    {
     "name": "stdout",
     "output_type": "stream",
     "text": [
      "Saving 10 Simulations for Network 13 Parameter 4\n",
      "Regressing Parameter 13 , Network 4\n",
      "Running Regression: 50 nodes\n",
      "Running Regression: 300 nodes\n",
      "Running Regression: 100 nodes\n",
      "Running Regression: 200 nodes\n",
      "Running Regression: 150 nodes\n",
      "Running Linear Transformation Simulations\n",
      "12\n",
      "7\n",
      "Parameter 13 , Network 8\n"
     ]
    },
    {
     "data": {
      "application/vnd.jupyter.widget-view+json": {
       "model_id": "4ea37cf89f474772b7e39b67e0002874",
       "version_major": 2,
       "version_minor": 0
      },
      "text/plain": [
       "HBox(children=(IntProgress(value=0, description='Running Simulation ', max=5000, style=ProgressStyle(descripti…"
      ]
     },
     "metadata": {},
     "output_type": "display_data"
    },
    {
     "name": "stdout",
     "output_type": "stream",
     "text": [
      "Running Regression: 300 nodes\n",
      "\n",
      "Unfortunately, only 0 current paths found in simulation time.\n"
     ]
    },
    {
     "name": "stderr",
     "output_type": "stream",
     "text": [
      "2020-09-03 16:59:21,738:INFO:Unfortunately, no current path is formed in simulation time.\n"
     ]
    },
    {
     "name": "stdout",
     "output_type": "stream",
     "text": [
      "Saving 10 Simulations for Network 13 Parameter 5\n",
      "Regressing Parameter 13 , Network 5\n",
      "Running Regression: 50 nodes\n",
      "Running Regression: 200 nodes\n",
      "Running Regression: 100 nodes\n",
      "Running Regression: 250 nodes\n",
      "Running Regression: 150 nodes\n",
      "Running Regression: 250 nodes\n",
      "Running Regression: 200 nodes\n",
      "\n",
      "Running Linear Transformation Simulations\n",
      "12\n",
      "8\n",
      "Parameter 13 , Network 9\n",
      "Unfortunately, only 0 current paths found in simulation time.\n"
     ]
    },
    {
     "name": "stderr",
     "output_type": "stream",
     "text": [
      "2020-09-03 16:59:25,885:INFO:Unfortunately, no current path is formed in simulation time.\n"
     ]
    },
    {
     "name": "stdout",
     "output_type": "stream",
     "text": [
      "Saving 10 Simulations for Network 13 Parameter 6\n"
     ]
    },
    {
     "data": {
      "application/vnd.jupyter.widget-view+json": {
       "model_id": "d67008bee848459dbe50e6a4dbf304a5",
       "version_major": 2,
       "version_minor": 0
      },
      "text/plain": [
       "HBox(children=(IntProgress(value=0, description='Running Simulation ', max=5000, style=ProgressStyle(descripti…"
      ]
     },
     "metadata": {},
     "output_type": "display_data"
    },
    {
     "name": "stdout",
     "output_type": "stream",
     "text": [
      "Regressing Parameter 13 , Network 6\n",
      "Running Regression: 50 nodes\n",
      "Running Regression: 100 nodes\n",
      "Running Regression: 296 nodes\n",
      "Running Regression: 150 nodes\n",
      "Running Regression: 250 nodes\n",
      "Running Regression: 200 nodes\n",
      "\n",
      "Running Regression: 297 nodes\n",
      "Unfortunately, only 0 current paths found in simulation time.\n"
     ]
    },
    {
     "name": "stderr",
     "output_type": "stream",
     "text": [
      "2020-09-03 16:59:29,662:INFO:Unfortunately, no current path is formed in simulation time.\n"
     ]
    },
    {
     "name": "stdout",
     "output_type": "stream",
     "text": [
      "Saving 10 Simulations for Network 13 Parameter 7\n",
      "Regressing Parameter 13 , Network 7\n",
      "Running Regression: 50 nodes\n",
      "Running Linear Transformation Simulations\n",
      "12\n",
      "9\n",
      "Parameter 13 , Network 10\n"
     ]
    },
    {
     "data": {
      "application/vnd.jupyter.widget-view+json": {
       "model_id": "894f631f59814722a3a770e6e4e1053b",
       "version_major": 2,
       "version_minor": 0
      },
      "text/plain": [
       "HBox(children=(IntProgress(value=0, description='Running Simulation ', max=5000, style=ProgressStyle(descripti…"
      ]
     },
     "metadata": {},
     "output_type": "display_data"
    },
    {
     "name": "stdout",
     "output_type": "stream",
     "text": [
      "Running Regression: 100 nodes\n",
      "Running Regression: 150 nodes\n",
      "Running Regression: 250 nodes\n",
      "\n",
      "Unfortunately, only 0 current paths found in simulation time.\n"
     ]
    },
    {
     "name": "stderr",
     "output_type": "stream",
     "text": [
      "2020-09-03 16:59:32,299:INFO:Unfortunately, no current path is formed in simulation time.\n"
     ]
    },
    {
     "name": "stdout",
     "output_type": "stream",
     "text": [
      "Saving 10 Simulations for Network 13 Parameter 8\n",
      "Regressing Parameter 13 , Network 8\n",
      "Running Regression: 50 nodes\n",
      "Running Regression: 292 nodes\n",
      "Running Regression: 100 nodes\n",
      "Running Regression: 200 nodes\n",
      "Running Regression: 150 nodes\n",
      "Running Linear Transformation Simulations\n",
      "13\n",
      "0\n",
      "Parameter 14 , Network 1\n"
     ]
    },
    {
     "data": {
      "application/vnd.jupyter.widget-view+json": {
       "model_id": "75063b389e2d49c995c483cec27a2b44",
       "version_major": 2,
       "version_minor": 0
      },
      "text/plain": [
       "HBox(children=(IntProgress(value=0, description='Running Simulation ', max=5000, style=ProgressStyle(descripti…"
      ]
     },
     "metadata": {},
     "output_type": "display_data"
    },
    {
     "name": "stdout",
     "output_type": "stream",
     "text": [
      "Running Regression: 200 nodes\n",
      "Running Regression: 250 nodes\n",
      "Running Regression: 286 nodes\n",
      "Running Regression: 250 nodes\n",
      "Running Linear Transformation Simulations\n",
      "13\n",
      "1\n",
      "Parameter 14 , Network 2\n"
     ]
    },
    {
     "data": {
      "application/vnd.jupyter.widget-view+json": {
       "model_id": "6f39f96176c5449babe900fd00b0af3d",
       "version_major": 2,
       "version_minor": 0
      },
      "text/plain": [
       "HBox(children=(IntProgress(value=0, description='Running Simulation ', max=5000, style=ProgressStyle(descripti…"
      ]
     },
     "metadata": {},
     "output_type": "display_data"
    },
    {
     "name": "stdout",
     "output_type": "stream",
     "text": [
      "Running Regression: 283 nodes\n",
      "\n"
     ]
    },
    {
     "name": "stderr",
     "output_type": "stream",
     "text": [
      "2020-09-03 16:59:41,745:INFO:First current path [31, 47, 209, 36, 295, 102, 163, 152, 74] formed at time = 0.633 s.\n"
     ]
    },
    {
     "name": "stdout",
     "output_type": "stream",
     "text": [
      "Saving 10 Simulations for Network 13 Parameter 9\n",
      "Regressing Parameter 13 , Network 9\n",
      "Running Regression: 50 nodes\n",
      "Running Linear Transformation Simulations\n",
      "13\n",
      "2\n",
      "Parameter 14 , Network 3\n",
      "Running Regression: 100 nodes\n"
     ]
    },
    {
     "data": {
      "application/vnd.jupyter.widget-view+json": {
       "model_id": "7e8728d7be3848ccbbbb092b22206b25",
       "version_major": 2,
       "version_minor": 0
      },
      "text/plain": [
       "HBox(children=(IntProgress(value=0, description='Running Simulation ', max=5000, style=ProgressStyle(descripti…"
      ]
     },
     "metadata": {},
     "output_type": "display_data"
    },
    {
     "name": "stdout",
     "output_type": "stream",
     "text": [
      "Running Regression: 279 nodes\n",
      "Running Regression: 150 nodes\n",
      "\n"
     ]
    },
    {
     "name": "stderr",
     "output_type": "stream",
     "text": [
      "2020-09-03 16:59:44,454:INFO:First current path [10, 125, 276, 216, 148, 272, 281, 273, 114] formed at time = 0.618 s.\n"
     ]
    },
    {
     "name": "stdout",
     "output_type": "stream",
     "text": [
      "Saving 10 Simulations for Network 13 Parameter 10\n",
      "Regressing Parameter 13 , Network 10\n",
      "Running Regression: 50 nodes\n",
      "Running Regression: 100 nodes\n",
      "Running Regression: 200 nodes\n",
      "Running Regression: 150 nodes\n",
      "Running Linear Transformation Simulations\n",
      "13\n",
      "3\n",
      "Parameter 14 , Network 4\n"
     ]
    },
    {
     "data": {
      "application/vnd.jupyter.widget-view+json": {
       "model_id": "d1a706d7a5e048b9ba06d19deb21d7e4",
       "version_major": 2,
       "version_minor": 0
      },
      "text/plain": [
       "HBox(children=(IntProgress(value=0, description='Running Simulation ', max=5000, style=ProgressStyle(descripti…"
      ]
     },
     "metadata": {},
     "output_type": "display_data"
    },
    {
     "name": "stdout",
     "output_type": "stream",
     "text": [
      "Running Regression: 200 nodes\n",
      "Running Regression: 250 nodes\n",
      "Running Linear Transformation Simulations\n",
      "13\n",
      "4\n",
      "Parameter 14 , Network 5\n"
     ]
    },
    {
     "data": {
      "application/vnd.jupyter.widget-view+json": {
       "model_id": "beb079ddda0543bfb11ceabebb1e2e14",
       "version_major": 2,
       "version_minor": 0
      },
      "text/plain": [
       "HBox(children=(IntProgress(value=0, description='Running Simulation ', max=5000, style=ProgressStyle(descripti…"
      ]
     },
     "metadata": {},
     "output_type": "display_data"
    },
    {
     "name": "stdout",
     "output_type": "stream",
     "text": [
      "\n"
     ]
    },
    {
     "name": "stderr",
     "output_type": "stream",
     "text": [
      "2020-09-03 16:59:51,100:INFO:First current path [93, 223, 160, 218, 105, 40, 250, 276, 135] formed at time = 0.635 s.\n"
     ]
    },
    {
     "name": "stdout",
     "output_type": "stream",
     "text": [
      "Saving 10 Simulations for Network 14 Parameter 1\n",
      "Regressing Parameter 14 , Network 1\n",
      "Running Regression: 50 nodes\n",
      "Running Regression: 250 nodes\n",
      "Running Regression: 100 nodes\n",
      "Running Regression: 300 nodes\n",
      "Running Regression: 150 nodes\n",
      "\n"
     ]
    },
    {
     "name": "stderr",
     "output_type": "stream",
     "text": [
      "2020-09-03 16:59:54,070:INFO:First current path [30, 154, 107, 182, 56, 10, 206, 44, 143, 271] formed at time = 0.677 s.\n"
     ]
    },
    {
     "name": "stdout",
     "output_type": "stream",
     "text": [
      "Saving 10 Simulations for Network 14 Parameter 2\n",
      "Regressing Parameter 14 , Network 2\n",
      "Running Regression: 50 nodes\n",
      "Running Linear Transformation Simulations\n",
      "13\n",
      "5\n",
      "Parameter 14 , Network 6\n"
     ]
    },
    {
     "data": {
      "application/vnd.jupyter.widget-view+json": {
       "model_id": "e23157a53af74fb2ab77904f8bc23e05",
       "version_major": 2,
       "version_minor": 0
      },
      "text/plain": [
       "HBox(children=(IntProgress(value=0, description='Running Simulation ', max=5000, style=ProgressStyle(descripti…"
      ]
     },
     "metadata": {},
     "output_type": "display_data"
    },
    {
     "name": "stdout",
     "output_type": "stream",
     "text": [
      "Running Regression: 100 nodes\n",
      "Running Regression: 200 nodes\n",
      "\n",
      "Running Regression: 150 nodes\n",
      "Running Regression: 298 nodes\n",
      "Running Regression: 200 nodes\n",
      "Unfortunately, only 0 current paths found in simulation time.\n"
     ]
    },
    {
     "name": "stderr",
     "output_type": "stream",
     "text": [
      "2020-09-03 16:59:58,499:INFO:Unfortunately, no current path is formed in simulation time.\n"
     ]
    },
    {
     "name": "stdout",
     "output_type": "stream",
     "text": [
      "Saving 10 Simulations for Network 14 Parameter 3\n",
      "Regressing Parameter 14 , Network 3\n",
      "Running Regression: 50 nodes\n",
      "Running Regression: 250 nodes\n",
      "Running Linear Transformation Simulations\n",
      "13\n",
      "6\n",
      "Parameter 14 , Network 7\n",
      "Running Regression: 100 nodes\n"
     ]
    },
    {
     "data": {
      "application/vnd.jupyter.widget-view+json": {
       "model_id": "13216f23998a4aab9c6106e6349bf1f4",
       "version_major": 2,
       "version_minor": 0
      },
      "text/plain": [
       "HBox(children=(IntProgress(value=0, description='Running Simulation ', max=5000, style=ProgressStyle(descripti…"
      ]
     },
     "metadata": {},
     "output_type": "display_data"
    },
    {
     "name": "stdout",
     "output_type": "stream",
     "text": [
      "\n",
      "Unfortunately, only 0 current paths found in simulation time.\n"
     ]
    },
    {
     "name": "stderr",
     "output_type": "stream",
     "text": [
      "2020-09-03 16:59:59,935:INFO:Unfortunately, no current path is formed in simulation time.\n"
     ]
    },
    {
     "name": "stdout",
     "output_type": "stream",
     "text": [
      "Saving 10 Simulations for Network 14 Parameter 4\n",
      "Regressing Parameter 14 , Network 4\n",
      "Running Regression: 50 nodes\n",
      "Running Regression: 150 nodes\n",
      "Running Regression: 250 nodes\n",
      "Running Regression: 100 nodes\n",
      "Running Regression: 150 nodes\n",
      "Running Linear Transformation Simulations\n",
      "13\n",
      "7\n",
      "Parameter 14 , Network 8\n",
      "\n",
      "Running Regression: 200 nodes\n"
     ]
    },
    {
     "data": {
      "application/vnd.jupyter.widget-view+json": {
       "model_id": "342c94bfff27421683f39e7bddadee22",
       "version_major": 2,
       "version_minor": 0
      },
      "text/plain": [
       "HBox(children=(IntProgress(value=0, description='Running Simulation ', max=5000, style=ProgressStyle(descripti…"
      ]
     },
     "metadata": {},
     "output_type": "display_data"
    },
    {
     "name": "stdout",
     "output_type": "stream",
     "text": [
      "Unfortunately, only 0 current paths found in simulation time.\n"
     ]
    },
    {
     "name": "stderr",
     "output_type": "stream",
     "text": [
      "2020-09-03 17:00:02,366:INFO:Unfortunately, no current path is formed in simulation time.\n"
     ]
    },
    {
     "name": "stdout",
     "output_type": "stream",
     "text": [
      "Saving 10 Simulations for Network 14 Parameter 5\n",
      "Regressing Parameter 14 , Network 5\n",
      "Running Regression: 50 nodes\n",
      "Running Regression: 100 nodes\n",
      "Running Regression: 300 nodes\n",
      "Running Regression: 200 nodes\n",
      "Running Regression: 150 nodes\n",
      "Running Regression: 296 nodes\n",
      "Running Regression: 250 nodes\n",
      "Running Regression: 200 nodes\n",
      "Running Regression: 250 nodes\n",
      "\n",
      "Running Linear Transformation Simulations\n",
      "13\n",
      "8\n",
      "Parameter 14 , Network 9\n",
      "Unfortunately, only 0 current paths found in simulation time.\n"
     ]
    },
    {
     "name": "stderr",
     "output_type": "stream",
     "text": [
      "2020-09-03 17:00:07,235:INFO:Unfortunately, no current path is formed in simulation time.\n"
     ]
    },
    {
     "name": "stdout",
     "output_type": "stream",
     "text": [
      "Saving 10 Simulations for Network 14 Parameter 6\n",
      "Regressing Parameter 14 , Network 6\n",
      "Running Regression: 50 nodes\n"
     ]
    },
    {
     "data": {
      "application/vnd.jupyter.widget-view+json": {
       "model_id": "7c6d088c8dc0406782988a98401a4ee1",
       "version_major": 2,
       "version_minor": 0
      },
      "text/plain": [
       "HBox(children=(IntProgress(value=0, description='Running Simulation ', max=5000, style=ProgressStyle(descripti…"
      ]
     },
     "metadata": {},
     "output_type": "display_data"
    },
    {
     "name": "stdout",
     "output_type": "stream",
     "text": [
      "Running Regression: 100 nodes\n",
      "Running Regression: 250 nodes\n",
      "Running Regression: 150 nodes\n",
      "Running Regression: 298 nodes\n",
      "Running Regression: 200 nodes\n",
      "\n",
      "Unfortunately, only 0 current paths found in simulation time.\n"
     ]
    },
    {
     "name": "stderr",
     "output_type": "stream",
     "text": [
      "2020-09-03 17:00:11,319:INFO:Unfortunately, no current path is formed in simulation time.\n"
     ]
    },
    {
     "name": "stdout",
     "output_type": "stream",
     "text": [
      "Saving 10 Simulations for Network 14 Parameter 7\n",
      "Regressing Parameter 14 , Network 7\n",
      "Running Regression: 50 nodes\n",
      "Running Regression: 292 nodes\n",
      "Running Linear Transformation Simulations\n",
      "13\n",
      "9\n",
      "Parameter 14 , Network 10\n"
     ]
    },
    {
     "data": {
      "application/vnd.jupyter.widget-view+json": {
       "model_id": "1d662eb9dd104670b812d07856164a02",
       "version_major": 2,
       "version_minor": 0
      },
      "text/plain": [
       "HBox(children=(IntProgress(value=0, description='Running Simulation ', max=5000, style=ProgressStyle(descripti…"
      ]
     },
     "metadata": {},
     "output_type": "display_data"
    },
    {
     "name": "stdout",
     "output_type": "stream",
     "text": [
      "Running Regression: 100 nodes\n",
      "Running Regression: 150 nodes\n",
      "Running Regression: 282 nodes\n",
      "Running Regression: 250 nodes\n",
      "\n",
      "Unfortunately, only 0 current paths found in simulation time.\n"
     ]
    },
    {
     "name": "stderr",
     "output_type": "stream",
     "text": [
      "2020-09-03 17:00:14,235:INFO:Unfortunately, no current path is formed in simulation time.\n"
     ]
    },
    {
     "name": "stdout",
     "output_type": "stream",
     "text": [
      "Saving 10 Simulations for Network 14 Parameter 8\n",
      "Regressing Parameter 14 , Network 8\n",
      "Running Regression: 50 nodes\n",
      "Running Regression: 100 nodes\n",
      "Running Regression: 200 nodes\n",
      "Running Linear Transformation Simulations\n",
      "14\n",
      "0\n",
      "Parameter 15 , Network 1\n"
     ]
    },
    {
     "data": {
      "application/vnd.jupyter.widget-view+json": {
       "model_id": "4d2bf1f3b4114799818bca25fdde5ef2",
       "version_major": 2,
       "version_minor": 0
      },
      "text/plain": [
       "HBox(children=(IntProgress(value=0, description='Running Simulation ', max=5000, style=ProgressStyle(descripti…"
      ]
     },
     "metadata": {},
     "output_type": "display_data"
    },
    {
     "name": "stdout",
     "output_type": "stream",
     "text": [
      "Running Regression: 150 nodes\n",
      "Running Regression: 250 nodes\n",
      "Running Regression: 200 nodes\n",
      "Running Regression: 287 nodes\n",
      "Running Regression: 250 nodes\n",
      "Running Linear Transformation Simulations\n",
      "14\n",
      "1\n",
      "Parameter 15 , Network 2\n"
     ]
    },
    {
     "data": {
      "application/vnd.jupyter.widget-view+json": {
       "model_id": "d8cfc49c086e41328c3c65b31d51076c",
       "version_major": 2,
       "version_minor": 0
      },
      "text/plain": [
       "HBox(children=(IntProgress(value=0, description='Running Simulation ', max=5000, style=ProgressStyle(descripti…"
      ]
     },
     "metadata": {},
     "output_type": "display_data"
    },
    {
     "name": "stdout",
     "output_type": "stream",
     "text": [
      "Running Regression: 283 nodes\n",
      "\n"
     ]
    },
    {
     "name": "stderr",
     "output_type": "stream",
     "text": [
      "2020-09-03 17:00:22,907:INFO:First current path [70, 269, 190, 184, 227, 284, 17, 16, 181] formed at time = 0.618 s.\n"
     ]
    },
    {
     "name": "stdout",
     "output_type": "stream",
     "text": [
      "Saving 10 Simulations for Network 14 Parameter 9\n",
      "Regressing Parameter 14 , Network 9\n",
      "Running Regression: 50 nodes\n",
      "Running Regression: 100 nodes\n",
      "Running Linear Transformation Simulations\n",
      "14\n",
      "2\n",
      "Parameter 15 , Network 3\n",
      "Running Regression: 150 nodes\n"
     ]
    },
    {
     "data": {
      "application/vnd.jupyter.widget-view+json": {
       "model_id": "007c361d2d444d0c862d76a42154518c",
       "version_major": 2,
       "version_minor": 0
      },
      "text/plain": [
       "HBox(children=(IntProgress(value=0, description='Running Simulation ', max=5000, style=ProgressStyle(descripti…"
      ]
     },
     "metadata": {},
     "output_type": "display_data"
    },
    {
     "name": "stdout",
     "output_type": "stream",
     "text": [
      "Running Regression: 284 nodes\n",
      "\n",
      "Running Regression: 200 nodes\n"
     ]
    },
    {
     "name": "stderr",
     "output_type": "stream",
     "text": [
      "2020-09-03 17:00:26,664:INFO:First current path [251, 185, 40, 115, 53, 65, 146, 77, 130, 197, 97] formed at time = 0.809 s.\n"
     ]
    },
    {
     "name": "stdout",
     "output_type": "stream",
     "text": [
      "Saving 10 Simulations for Network 14 Parameter 10\n",
      "Regressing Parameter 14 , Network 10\n",
      "Running Regression: 50 nodes\n",
      "Running Regression: 100 nodes\n",
      "Running Regression: 150 nodes\n",
      "Running Linear Transformation Simulations\n",
      "14\n",
      "3\n",
      "Parameter 15 , Network 4\n"
     ]
    },
    {
     "data": {
      "application/vnd.jupyter.widget-view+json": {
       "model_id": "0787b3c0d32248caad31f5ffaf6189ae",
       "version_major": 2,
       "version_minor": 0
      },
      "text/plain": [
       "HBox(children=(IntProgress(value=0, description='Running Simulation ', max=5000, style=ProgressStyle(descripti…"
      ]
     },
     "metadata": {},
     "output_type": "display_data"
    },
    {
     "name": "stdout",
     "output_type": "stream",
     "text": [
      "Running Regression: 250 nodes\n",
      "Running Regression: 200 nodes\n",
      "\n"
     ]
    },
    {
     "name": "stderr",
     "output_type": "stream",
     "text": [
      "2020-09-03 17:00:31,800:INFO:First current path [290, 184, 183, 193, 195, 1, 257, 273, 283] formed at time = 0.633 s.\n"
     ]
    },
    {
     "name": "stdout",
     "output_type": "stream",
     "text": [
      "Saving 10 Simulations for Network 15 Parameter 1\n",
      "Regressing Parameter 15 , Network 1\n",
      "Running Regression: 50 nodes\n",
      "Running Regression: 100 nodes\n",
      "Running Linear Transformation Simulations\n",
      "14\n",
      "4\n",
      "Parameter 15 , Network 5\n"
     ]
    },
    {
     "data": {
      "application/vnd.jupyter.widget-view+json": {
       "model_id": "d279060da6be4de88c27efd2da4d7a98",
       "version_major": 2,
       "version_minor": 0
      },
      "text/plain": [
       "HBox(children=(IntProgress(value=0, description='Running Simulation ', max=5000, style=ProgressStyle(descripti…"
      ]
     },
     "metadata": {},
     "output_type": "display_data"
    },
    {
     "name": "stdout",
     "output_type": "stream",
     "text": [
      "Running Regression: 150 nodes\n",
      "Running Regression: 300 nodes\n",
      "Running Regression: 250 nodes\n",
      "Running Regression: 200 nodes\n",
      "\n"
     ]
    },
    {
     "name": "stderr",
     "output_type": "stream",
     "text": [
      "2020-09-03 17:00:35,805:INFO:First current path [16, 177, 212, 159, 131, 35, 150, 87, 151] formed at time = 0.647 s.\n"
     ]
    },
    {
     "name": "stdout",
     "output_type": "stream",
     "text": [
      "Saving 10 Simulations for Network 15 Parameter 2\n",
      "Regressing Parameter 15 , Network 2\n",
      "Running Regression: 50 nodes\n",
      "Running Regression: 100 nodes\n",
      "Running Linear Transformation Simulations\n",
      "14\n",
      "5\n",
      "Parameter 15 , Network 6\n"
     ]
    },
    {
     "data": {
      "application/vnd.jupyter.widget-view+json": {
       "model_id": "0d43d4f2473e47068d7241d188e3c247",
       "version_major": 2,
       "version_minor": 0
      },
      "text/plain": [
       "HBox(children=(IntProgress(value=0, description='Running Simulation ', max=5000, style=ProgressStyle(descripti…"
      ]
     },
     "metadata": {},
     "output_type": "display_data"
    },
    {
     "name": "stdout",
     "output_type": "stream",
     "text": [
      "Running Regression: 150 nodes\n",
      "\n",
      "Running Regression: 250 nodes\n",
      "Running Regression: 300 nodes\n"
     ]
    },
    {
     "name": "stderr",
     "output_type": "stream",
     "text": [
      "2020-09-03 17:00:38,262:INFO:First current path [29, 68, 184, 132, 127, 282, 270, 283, 229, 107, 9] formed at time = 0.764 s.\n"
     ]
    },
    {
     "name": "stdout",
     "output_type": "stream",
     "text": [
      "Saving 10 Simulations for Network 15 Parameter 3\n",
      "Regressing Parameter 15 , Network 3\n",
      "Running Regression: 50 nodes\n",
      "Running Regression: 100 nodes\n",
      "Running Regression: 200 nodes\n",
      "Running Regression: 150 nodes\n",
      "\n",
      "Unfortunately, only 0 current paths found in simulation time.\n"
     ]
    },
    {
     "name": "stderr",
     "output_type": "stream",
     "text": [
      "2020-09-03 17:00:41,828:INFO:Unfortunately, no current path is formed in simulation time.\n"
     ]
    },
    {
     "name": "stdout",
     "output_type": "stream",
     "text": [
      "Saving 10 Simulations for Network 15 Parameter 4\n",
      "Regressing Parameter 15 , Network 4\n",
      "Running Regression: 50 nodes\n",
      "Running Regression: 200 nodes\n",
      "Running Regression: 300 nodes\n",
      "Running Linear Transformation Simulations\n",
      "14\n",
      "6\n",
      "Parameter 15 , Network 7\n"
     ]
    },
    {
     "data": {
      "application/vnd.jupyter.widget-view+json": {
       "model_id": "01c31b5de7084d80953a989dac67c12b",
       "version_major": 2,
       "version_minor": 0
      },
      "text/plain": [
       "HBox(children=(IntProgress(value=0, description='Running Simulation ', max=5000, style=ProgressStyle(descripti…"
      ]
     },
     "metadata": {},
     "output_type": "display_data"
    },
    {
     "name": "stdout",
     "output_type": "stream",
     "text": [
      "Running Regression: 100 nodes\n",
      "Running Regression: 250 nodes\n",
      "Running Regression: 150 nodes\n",
      "Running Regression: 250 nodes\n",
      "Running Regression: 200 nodes\n",
      "\n",
      "Unfortunately, only 0 current paths found in simulation time.\n"
     ]
    },
    {
     "name": "stderr",
     "output_type": "stream",
     "text": [
      "2020-09-03 17:00:46,038:INFO:Unfortunately, no current path is formed in simulation time.\n"
     ]
    },
    {
     "name": "stdout",
     "output_type": "stream",
     "text": [
      "Saving 10 Simulations for Network 15 Parameter 5\n",
      "Regressing Parameter 15 , Network 5\n",
      "Running Regression: 50 nodes\n",
      "Running Linear Transformation Simulations\n",
      "14\n",
      "7\n",
      "Parameter 15 , Network 8\n"
     ]
    },
    {
     "data": {
      "application/vnd.jupyter.widget-view+json": {
       "model_id": "1eb9ff93b9424a66a891e519cf4066bc",
       "version_major": 2,
       "version_minor": 0
      },
      "text/plain": [
       "HBox(children=(IntProgress(value=0, description='Running Simulation ', max=5000, style=ProgressStyle(descripti…"
      ]
     },
     "metadata": {},
     "output_type": "display_data"
    },
    {
     "name": "stdout",
     "output_type": "stream",
     "text": [
      "Running Regression: 100 nodes\n",
      "Running Regression: 298 nodes\n",
      "Running Regression: 150 nodes\n",
      "Running Regression: 250 nodes\n",
      "\n",
      "Unfortunately, only 0 current paths found in simulation time.\n",
      "Running Regression: 298 nodes\n"
     ]
    },
    {
     "name": "stderr",
     "output_type": "stream",
     "text": [
      "2020-09-03 17:00:49,525:INFO:Unfortunately, no current path is formed in simulation time.\n"
     ]
    },
    {
     "name": "stdout",
     "output_type": "stream",
     "text": [
      "Saving 10 Simulations for Network 15 Parameter 6\n",
      "Regressing Parameter 15 , Network 6\n",
      "Running Regression: 50 nodes\n",
      "Running Regression: 200 nodes\n",
      "Running Regression: 100 nodes\n",
      "Running Regression: 150 nodes\n",
      "Running Linear Transformation Simulations\n",
      "14\n",
      "8\n",
      "Parameter 15 , Network 9\n"
     ]
    },
    {
     "data": {
      "application/vnd.jupyter.widget-view+json": {
       "model_id": "84b6dba0f378460a831fb57c5fde80c3",
       "version_major": 2,
       "version_minor": 0
      },
      "text/plain": [
       "HBox(children=(IntProgress(value=0, description='Running Simulation ', max=5000, style=ProgressStyle(descripti…"
      ]
     },
     "metadata": {},
     "output_type": "display_data"
    },
    {
     "name": "stdout",
     "output_type": "stream",
     "text": [
      "Running Regression: 250 nodes\n",
      "Running Regression: 294 nodes\n",
      "Running Regression: 200 nodes\n",
      "\n",
      "Unfortunately, only 0 current paths found in simulation time.\n"
     ]
    },
    {
     "name": "stderr",
     "output_type": "stream",
     "text": [
      "2020-09-03 17:00:54,986:INFO:Unfortunately, no current path is formed in simulation time.\n"
     ]
    },
    {
     "name": "stdout",
     "output_type": "stream",
     "text": [
      "Saving 10 Simulations for Network 15 Parameter 7\n",
      "Regressing Parameter 15 , Network 7\n",
      "Running Regression: 50 nodes\n",
      "Running Regression: 100 nodes\n",
      "Running Linear Transformation Simulations\n",
      "14\n",
      "9\n",
      "Parameter 15 , Network 10\n",
      "Running Regression: 250 nodes\n"
     ]
    },
    {
     "data": {
      "application/vnd.jupyter.widget-view+json": {
       "model_id": "43d3fb26eb5443fa9e2c98356854f7fb",
       "version_major": 2,
       "version_minor": 0
      },
      "text/plain": [
       "HBox(children=(IntProgress(value=0, description='Running Simulation ', max=5000, style=ProgressStyle(descripti…"
      ]
     },
     "metadata": {},
     "output_type": "display_data"
    },
    {
     "name": "stdout",
     "output_type": "stream",
     "text": [
      "Running Regression: 150 nodes\n",
      "Running Regression: 292 nodes\n",
      "\n",
      "Unfortunately, only 0 current paths found in simulation time.\n"
     ]
    },
    {
     "name": "stderr",
     "output_type": "stream",
     "text": [
      "2020-09-03 17:00:58,115:INFO:Unfortunately, no current path is formed in simulation time.\n"
     ]
    },
    {
     "name": "stdout",
     "output_type": "stream",
     "text": [
      "Saving 10 Simulations for Network 15 Parameter 8\n",
      "Regressing Parameter 15 , Network 8\n",
      "Running Regression: 50 nodes\n",
      "Running Regression: 200 nodes\n",
      "Running Regression: 100 nodes\n",
      "Running Linear Transformation Simulations\n",
      "15\n",
      "0\n",
      "Parameter 16 , Network 1\n",
      "Running Regression: 150 nodes\n"
     ]
    },
    {
     "data": {
      "application/vnd.jupyter.widget-view+json": {
       "model_id": "bb7cba0102ed4e86b18f7a4e3b649f70",
       "version_major": 2,
       "version_minor": 0
      },
      "text/plain": [
       "HBox(children=(IntProgress(value=0, description='Running Simulation ', max=5000, style=ProgressStyle(descripti…"
      ]
     },
     "metadata": {},
     "output_type": "display_data"
    },
    {
     "name": "stdout",
     "output_type": "stream",
     "text": [
      "Running Regression: 279 nodes\n",
      "Running Regression: 250 nodes\n",
      "Running Regression: 200 nodes\n",
      "\n",
      "Unfortunately, only 0 current paths found in simulation time.\n"
     ]
    },
    {
     "name": "stderr",
     "output_type": "stream",
     "text": [
      "2020-09-03 17:01:03,220:INFO:Unfortunately, no current path is formed in simulation time.\n"
     ]
    },
    {
     "name": "stdout",
     "output_type": "stream",
     "text": [
      "Saving 10 Simulations for Network 15 Parameter 9\n",
      "Regressing Parameter 15 , Network 9\n",
      "Running Regression: 50 nodes\n",
      "Running Regression: 100 nodes\n",
      "Running Regression: 250 nodes\n",
      "Running Linear Transformation Simulations\n",
      "15\n",
      "1\n",
      "Parameter 16 , Network 2\n"
     ]
    },
    {
     "data": {
      "application/vnd.jupyter.widget-view+json": {
       "model_id": "f0605e421b60466ca642fec130bc9b56",
       "version_major": 2,
       "version_minor": 0
      },
      "text/plain": [
       "HBox(children=(IntProgress(value=0, description='Running Simulation ', max=5000, style=ProgressStyle(descripti…"
      ]
     },
     "metadata": {},
     "output_type": "display_data"
    },
    {
     "name": "stdout",
     "output_type": "stream",
     "text": [
      "Running Regression: 150 nodes\n",
      "Running Regression: 289 nodes\n",
      "Running Regression: 200 nodes\n",
      "Running Linear Transformation Simulations\n",
      "15\n",
      "2\n",
      "Parameter 16 , Network 3\n"
     ]
    },
    {
     "data": {
      "application/vnd.jupyter.widget-view+json": {
       "model_id": "4a0ac3dca3f1415592f153ee6ed7ba76",
       "version_major": 2,
       "version_minor": 0
      },
      "text/plain": [
       "HBox(children=(IntProgress(value=0, description='Running Simulation ', max=5000, style=ProgressStyle(descripti…"
      ]
     },
     "metadata": {},
     "output_type": "display_data"
    },
    {
     "name": "stdout",
     "output_type": "stream",
     "text": [
      "Running Regression: 281 nodes\n",
      "Running Regression: 250 nodes\n",
      "\n"
     ]
    },
    {
     "name": "stderr",
     "output_type": "stream",
     "text": [
      "2020-09-03 17:01:11,375:INFO:First current path [0, 218, 295, 172, 84, 72, 151] formed at time = 0.517 s.\n"
     ]
    },
    {
     "name": "stdout",
     "output_type": "stream",
     "text": [
      "Saving 10 Simulations for Network 15 Parameter 10\n",
      "Regressing Parameter 15 , Network 10\n",
      "Running Regression: 50 nodes\n",
      "Running Regression: 100 nodes\n",
      "Running Linear Transformation Simulations\n",
      "15\n",
      "3\n",
      "Parameter 16 , Network 4\n"
     ]
    },
    {
     "data": {
      "application/vnd.jupyter.widget-view+json": {
       "model_id": "db2eb496b8214bff937f2fda56d9730e",
       "version_major": 2,
       "version_minor": 0
      },
      "text/plain": [
       "HBox(children=(IntProgress(value=0, description='Running Simulation ', max=5000, style=ProgressStyle(descripti…"
      ]
     },
     "metadata": {},
     "output_type": "display_data"
    },
    {
     "name": "stdout",
     "output_type": "stream",
     "text": [
      "Running Regression: 150 nodes\n",
      "Running Regression: 279 nodes\n",
      "Running Regression: 200 nodes\n",
      "\n"
     ]
    },
    {
     "name": "stderr",
     "output_type": "stream",
     "text": [
      "2020-09-03 17:01:16,027:INFO:First current path [28, 100, 36, 94, 297, 43, 92] formed at time = 0.503 s.\n"
     ]
    },
    {
     "name": "stdout",
     "output_type": "stream",
     "text": [
      "Saving 10 Simulations for Network 16 Parameter 1\n",
      "Regressing Parameter 16 , Network 1\n",
      "Running Regression: 50 nodes\n",
      "Running Linear Transformation Simulations\n",
      "15\n",
      "4\n",
      "Parameter 16 , Network 5\n"
     ]
    },
    {
     "data": {
      "application/vnd.jupyter.widget-view+json": {
       "model_id": "700e9b07ca584eda8fc564eb7f5bf77e",
       "version_major": 2,
       "version_minor": 0
      },
      "text/plain": [
       "HBox(children=(IntProgress(value=0, description='Running Simulation ', max=5000, style=ProgressStyle(descripti…"
      ]
     },
     "metadata": {},
     "output_type": "display_data"
    },
    {
     "name": "stdout",
     "output_type": "stream",
     "text": [
      "Running Regression: 100 nodes\n",
      "Running Regression: 150 nodes\n",
      "Running Regression: 250 nodes\n",
      "\n"
     ]
    },
    {
     "name": "stderr",
     "output_type": "stream",
     "text": [
      "2020-09-03 17:01:19,177:INFO:First current path [41, 210, 83, 110, 287, 290, 119, 194, 281] formed at time = 0.638 s.\n"
     ]
    },
    {
     "name": "stdout",
     "output_type": "stream",
     "text": [
      "Saving 10 Simulations for Network 16 Parameter 2\n",
      "Regressing Parameter 16 , Network 2\n",
      "Running Regression: 50 nodes\n",
      "Running Regression: 100 nodes\n",
      "Running Regression: 200 nodes\n",
      "Running Linear Transformation Simulations\n",
      "15\n",
      "5\n",
      "Parameter 16 , Network 6\n"
     ]
    },
    {
     "data": {
      "application/vnd.jupyter.widget-view+json": {
       "model_id": "45f99067c40b4bc8a923a8eda6a404c4",
       "version_major": 2,
       "version_minor": 0
      },
      "text/plain": [
       "HBox(children=(IntProgress(value=0, description='Running Simulation ', max=5000, style=ProgressStyle(descripti…"
      ]
     },
     "metadata": {},
     "output_type": "display_data"
    },
    {
     "name": "stdout",
     "output_type": "stream",
     "text": [
      "Running Regression: 150 nodes\n",
      "\n"
     ]
    },
    {
     "name": "stderr",
     "output_type": "stream",
     "text": [
      "2020-09-03 17:01:22,431:INFO:First current path [149, 65, 288, 246, 183, 22, 70, 140, 162, 242, 58] formed at time = 0.807 s.\n"
     ]
    },
    {
     "name": "stdout",
     "output_type": "stream",
     "text": [
      "Saving 10 Simulations for Network 16 Parameter 3\n",
      "Regressing Parameter 16 , Network 3\n",
      "Running Regression: 50 nodes\n",
      "Running Regression: 200 nodes\n",
      "Running Regression: 250 nodes\n",
      "Running Regression: 100 nodes\n",
      "Running Regression: 300 nodes\n",
      "Running Regression: 150 nodes\n",
      "Running Linear Transformation Simulations\n",
      "15\n",
      "6\n",
      "Parameter 16 , Network 7\n"
     ]
    },
    {
     "data": {
      "application/vnd.jupyter.widget-view+json": {
       "model_id": "4e384801329a47ce94337af3f42e803c",
       "version_major": 2,
       "version_minor": 0
      },
      "text/plain": [
       "HBox(children=(IntProgress(value=0, description='Running Simulation ', max=5000, style=ProgressStyle(descripti…"
      ]
     },
     "metadata": {},
     "output_type": "display_data"
    },
    {
     "name": "stdout",
     "output_type": "stream",
     "text": [
      "\n",
      "Running Regression: 250 nodes\n",
      "Running Regression: 200 nodes\n",
      "Unfortunately, only 0 current paths found in simulation time.\n"
     ]
    },
    {
     "name": "stderr",
     "output_type": "stream",
     "text": [
      "2020-09-03 17:01:26,698:INFO:Unfortunately, no current path is formed in simulation time.\n"
     ]
    },
    {
     "name": "stdout",
     "output_type": "stream",
     "text": [
      "Saving 10 Simulations for Network 16 Parameter 4\n",
      "Regressing Parameter 16 , Network 4\n",
      "Running Regression: 50 nodes\n",
      "Running Regression: 300 nodes\n",
      "Running Regression: 100 nodes\n",
      "Running Regression: 150 nodes\n",
      "Running Linear Transformation Simulations\n",
      "15\n",
      "7\n",
      "Parameter 16 , Network 8\n",
      "\n"
     ]
    },
    {
     "data": {
      "application/vnd.jupyter.widget-view+json": {
       "model_id": "3b3f8c3b3e634af38f418b4e62d48a3a",
       "version_major": 2,
       "version_minor": 0
      },
      "text/plain": [
       "HBox(children=(IntProgress(value=0, description='Running Simulation ', max=5000, style=ProgressStyle(descripti…"
      ]
     },
     "metadata": {},
     "output_type": "display_data"
    },
    {
     "name": "stdout",
     "output_type": "stream",
     "text": [
      "Running Regression: 250 nodes\n"
     ]
    },
    {
     "name": "stderr",
     "output_type": "stream",
     "text": [
      "2020-09-03 17:01:29,205:INFO:First current path [7, 68, 29, 186, 100, 168, 43, 258, 164, 265, 156] formed at time = 0.77 s.\n"
     ]
    },
    {
     "name": "stdout",
     "output_type": "stream",
     "text": [
      "Saving 10 Simulations for Network 16 Parameter 5\n",
      "Regressing Parameter 16 , Network 5\n",
      "Running Regression: 50 nodes\n",
      "Running Regression: 100 nodes\n",
      "Running Regression: 300 nodes\n",
      "Running Regression: 200 nodes\n",
      "Running Regression: 150 nodes\n",
      "\n",
      "Unfortunately, only 0 current paths found in simulation time.\n"
     ]
    },
    {
     "name": "stderr",
     "output_type": "stream",
     "text": [
      "2020-09-03 17:01:32,166:INFO:Unfortunately, no current path is formed in simulation time.\n"
     ]
    },
    {
     "name": "stdout",
     "output_type": "stream",
     "text": [
      "Saving 10 Simulations for Network 16 Parameter 6\n",
      "Regressing Parameter 16 , Network 6\n",
      "Running Regression: 50 nodes\n",
      "Running Regression: 100 nodes\n",
      "Running Regression: 200 nodes\n",
      "Running Regression: 250 nodes\n",
      "Running Regression: 297 nodes\n",
      "Running Linear Transformation Simulations\n",
      "15\n",
      "8\n",
      "Parameter 16 , Network 9\n",
      "Running Regression: 150 nodes\n"
     ]
    },
    {
     "data": {
      "application/vnd.jupyter.widget-view+json": {
       "model_id": "838999ffc0e6420685f8eb401f0f2541",
       "version_major": 2,
       "version_minor": 0
      },
      "text/plain": [
       "HBox(children=(IntProgress(value=0, description='Running Simulation ', max=5000, style=ProgressStyle(descripti…"
      ]
     },
     "metadata": {},
     "output_type": "display_data"
    },
    {
     "name": "stdout",
     "output_type": "stream",
     "text": [
      "Running Regression: 200 nodes\n",
      "Running Regression: 250 nodes\n",
      "\n",
      "Unfortunately, only 0 current paths found in simulation time.\n"
     ]
    },
    {
     "name": "stderr",
     "output_type": "stream",
     "text": [
      "2020-09-03 17:01:36,789:INFO:Unfortunately, no current path is formed in simulation time.\n"
     ]
    },
    {
     "name": "stdout",
     "output_type": "stream",
     "text": [
      "Saving 10 Simulations for Network 16 Parameter 7\n",
      "Regressing Parameter 16 , Network 7\n",
      "Running Regression: 50 nodes\n",
      "Running Regression: 100 nodes\n",
      "Running Regression: 294 nodes\n",
      "Running Linear Transformation Simulations\n",
      "15\n",
      "9\n",
      "Parameter 16 , Network 10\n",
      "Running Regression: 150 nodes\n"
     ]
    },
    {
     "data": {
      "application/vnd.jupyter.widget-view+json": {
       "model_id": "aadfc64d464b4577acd07e4e5c0ee7b3",
       "version_major": 2,
       "version_minor": 0
      },
      "text/plain": [
       "HBox(children=(IntProgress(value=0, description='Running Simulation ', max=5000, style=ProgressStyle(descripti…"
      ]
     },
     "metadata": {},
     "output_type": "display_data"
    },
    {
     "name": "stdout",
     "output_type": "stream",
     "text": [
      "Running Regression: 250 nodes\n",
      "Running Regression: 200 nodes\n",
      "Running Regression: 292 nodes\n",
      "Running Regression: 279 nodes\n",
      "Running Linear Transformation Simulations\n",
      "16\n",
      "0\n",
      "Parameter 17 , Network 1\n",
      "Running Regression: 250 nodes\n"
     ]
    },
    {
     "data": {
      "application/vnd.jupyter.widget-view+json": {
       "model_id": "d51b1d1f31714a70b10ba95e9962230c",
       "version_major": 2,
       "version_minor": 0
      },
      "text/plain": [
       "HBox(children=(IntProgress(value=0, description='Running Simulation ', max=5000, style=ProgressStyle(descripti…"
      ]
     },
     "metadata": {},
     "output_type": "display_data"
    },
    {
     "name": "stdout",
     "output_type": "stream",
     "text": [
      "\n"
     ]
    },
    {
     "name": "stderr",
     "output_type": "stream",
     "text": [
      "2020-09-03 17:01:44,782:INFO:First current path [1, 243, 184, 154, 66, 8, 30] formed at time = 0.508 s.\n"
     ]
    },
    {
     "name": "stdout",
     "output_type": "stream",
     "text": [
      "Saving 10 Simulations for Network 16 Parameter 8\n",
      "Regressing Parameter 16 , Network 8\n",
      "Running Regression: 50 nodes\n",
      "Running Regression: 100 nodes\n",
      "Running Regression: 150 nodes\n",
      "Running Linear Transformation Simulations\n",
      "16\n",
      "1\n",
      "Parameter 17 , Network 2\n",
      "Running Regression: 279 nodes\n"
     ]
    },
    {
     "data": {
      "application/vnd.jupyter.widget-view+json": {
       "model_id": "343c6d87dc844f879824f0d9123068f1",
       "version_major": 2,
       "version_minor": 0
      },
      "text/plain": [
       "HBox(children=(IntProgress(value=0, description='Running Simulation ', max=5000, style=ProgressStyle(descripti…"
      ]
     },
     "metadata": {},
     "output_type": "display_data"
    },
    {
     "name": "stdout",
     "output_type": "stream",
     "text": [
      "\n",
      "Running Regression: 200 nodes\n"
     ]
    },
    {
     "name": "stderr",
     "output_type": "stream",
     "text": [
      "2020-09-03 17:01:48,963:INFO:First current path [85, 42, 147, 228, 189, 226, 291, 215, 288, 294] formed at time = 0.739 s.\n"
     ]
    },
    {
     "name": "stdout",
     "output_type": "stream",
     "text": [
      "Saving 10 Simulations for Network 16 Parameter 9\n",
      "Regressing Parameter 16 , Network 9\n",
      "Running Regression: 50 nodes\n",
      "Running Regression: 100 nodes\n",
      "Running Regression: 150 nodes\n",
      "Running Regression: 250 nodes\n",
      "Running Linear Transformation Simulations\n",
      "16\n",
      "2\n",
      "Parameter 17 , Network 3\n"
     ]
    },
    {
     "data": {
      "application/vnd.jupyter.widget-view+json": {
       "model_id": "6af91c0b4d5c44c49486ff27c467218f",
       "version_major": 2,
       "version_minor": 0
      },
      "text/plain": [
       "HBox(children=(IntProgress(value=0, description='Running Simulation ', max=5000, style=ProgressStyle(descripti…"
      ]
     },
     "metadata": {},
     "output_type": "display_data"
    },
    {
     "name": "stdout",
     "output_type": "stream",
     "text": [
      "\n"
     ]
    },
    {
     "name": "stderr",
     "output_type": "stream",
     "text": [
      "2020-09-03 17:01:52,247:INFO:First current path [55, 241, 48, 179, 257, 183, 158, 223, 216] formed at time = 0.636 s.\n"
     ]
    },
    {
     "name": "stdout",
     "output_type": "stream",
     "text": [
      "Saving 10 Simulations for Network 16 Parameter 10\n",
      "Regressing Parameter 16 , Network 10\n",
      "Running Regression: 50 nodes\n",
      "Running Regression: 200 nodes\n",
      "Running Regression: 100 nodes\n",
      "Running Regression: 150 nodes\n",
      "Running Regression: 250 nodes\n",
      "Running Linear Transformation Simulations\n",
      "16\n",
      "3\n",
      "Parameter 17 , Network 4\n"
     ]
    },
    {
     "data": {
      "application/vnd.jupyter.widget-view+json": {
       "model_id": "4aa17e61d62e46c1b3f366d31f168d58",
       "version_major": 2,
       "version_minor": 0
      },
      "text/plain": [
       "HBox(children=(IntProgress(value=0, description='Running Simulation ', max=5000, style=ProgressStyle(descripti…"
      ]
     },
     "metadata": {},
     "output_type": "display_data"
    },
    {
     "name": "stdout",
     "output_type": "stream",
     "text": [
      "Running Regression: 200 nodes\n",
      "Running Regression: 300 nodes\n",
      "\n"
     ]
    },
    {
     "name": "stderr",
     "output_type": "stream",
     "text": [
      "2020-09-03 17:01:57,316:INFO:First current path [21, 143, 119, 208, 64, 196, 108] formed at time = 0.524 s.\n"
     ]
    },
    {
     "name": "stdout",
     "output_type": "stream",
     "text": [
      "Saving 10 Simulations for Network 17 Parameter 1\n",
      "Regressing Parameter 17 , Network 1\n",
      "Running Regression: 50 nodes\n",
      "Running Regression: 100 nodes\n",
      "Running Regression: 250 nodes\n",
      "Running Regression: 150 nodes\n",
      "Running Regression: 297 nodes\n",
      "Running Linear Transformation Simulations\n",
      "16\n",
      "4\n",
      "Parameter 17 , Network 5\n"
     ]
    },
    {
     "data": {
      "application/vnd.jupyter.widget-view+json": {
       "model_id": "d8ae8f1ab0c948cda7814c71f5dac88e",
       "version_major": 2,
       "version_minor": 0
      },
      "text/plain": [
       "HBox(children=(IntProgress(value=0, description='Running Simulation ', max=5000, style=ProgressStyle(descripti…"
      ]
     },
     "metadata": {},
     "output_type": "display_data"
    },
    {
     "name": "stdout",
     "output_type": "stream",
     "text": [
      "Running Regression: 200 nodes\n",
      "\n"
     ]
    },
    {
     "name": "stderr",
     "output_type": "stream",
     "text": [
      "2020-09-03 17:02:02,600:INFO:First current path [3, 292, 1, 115, 268, 111, 153] formed at time = 0.526 s.\n"
     ]
    },
    {
     "name": "stdout",
     "output_type": "stream",
     "text": [
      "Saving 10 Simulations for Network 17 Parameter 2\n",
      "Regressing Parameter 17 , Network 2\n",
      "Running Regression: 50 nodes\n",
      "Running Regression: 296 nodes\n",
      "Running Regression: 100 nodes\n",
      "Running Regression: 250 nodes\n",
      "Running Regression: 150 nodes\n",
      "Running Linear Transformation Simulations\n",
      "16\n",
      "5\n",
      "Parameter 17 , Network 6\n"
     ]
    },
    {
     "data": {
      "application/vnd.jupyter.widget-view+json": {
       "model_id": "82898af005ef49dbb063f116f7a820b4",
       "version_major": 2,
       "version_minor": 0
      },
      "text/plain": [
       "HBox(children=(IntProgress(value=0, description='Running Simulation ', max=5000, style=ProgressStyle(descripti…"
      ]
     },
     "metadata": {},
     "output_type": "display_data"
    },
    {
     "name": "stdout",
     "output_type": "stream",
     "text": [
      "\n"
     ]
    },
    {
     "name": "stderr",
     "output_type": "stream",
     "text": [
      "2020-09-03 17:02:06,080:INFO:First current path [134, 205, 75, 51, 202, 211, 63, 233, 84] formed at time = 0.64 s.\n"
     ]
    },
    {
     "name": "stdout",
     "output_type": "stream",
     "text": [
      "Saving 10 Simulations for Network 17 Parameter 3\n",
      "Regressing Parameter 17 , Network 3\n",
      "Running Regression: 50 nodes\n",
      "Running Regression: 200 nodes\n",
      "Running Regression: 100 nodes\n",
      "Running Regression: 150 nodes\n",
      "\n",
      "Running Regression: 294 nodes\n"
     ]
    },
    {
     "name": "stderr",
     "output_type": "stream",
     "text": [
      "2020-09-03 17:02:08,134:INFO:First current path [111, 189, 88, 245, 46, 148, 132, 86, 134, 125, 277] formed at time = 0.811 s.\n"
     ]
    },
    {
     "name": "stdout",
     "output_type": "stream",
     "text": [
      "Saving 10 Simulations for Network 17 Parameter 4\n",
      "Regressing Parameter 17 , Network 4\n",
      "Running Regression: 50 nodes\n",
      "Running Linear Transformation Simulations\n",
      "16\n",
      "6\n",
      "Parameter 17 , Network 7\n",
      "Running Regression: 100 nodes\n"
     ]
    },
    {
     "data": {
      "application/vnd.jupyter.widget-view+json": {
       "model_id": "0d10efd125cb45ae8220df9422052362",
       "version_major": 2,
       "version_minor": 0
      },
      "text/plain": [
       "HBox(children=(IntProgress(value=0, description='Running Simulation ', max=5000, style=ProgressStyle(descripti…"
      ]
     },
     "metadata": {},
     "output_type": "display_data"
    },
    {
     "name": "stdout",
     "output_type": "stream",
     "text": [
      "Running Regression: 250 nodes\n",
      "Running Regression: 200 nodes\n",
      "Running Regression: 150 nodes\n",
      "Running Regression: 200 nodes\n",
      "\n"
     ]
    },
    {
     "name": "stderr",
     "output_type": "stream",
     "text": [
      "2020-09-03 17:02:12,082:INFO:First current path [43, 139, 58, 130, 229, 120, 173, 2, 277, 82, 15] formed at time = 0.775 s.\n"
     ]
    },
    {
     "name": "stdout",
     "output_type": "stream",
     "text": [
      "Saving 10 Simulations for Network 17 Parameter 5\n",
      "Regressing Parameter 17 , Network 5\n",
      "Running Regression: 50 nodes\n",
      "Running Linear Transformation Simulations\n",
      "16\n",
      "7\n",
      "Parameter 17 , Network 8\n"
     ]
    },
    {
     "data": {
      "application/vnd.jupyter.widget-view+json": {
       "model_id": "b2d43b6fa882495980425d1ae48e5102",
       "version_major": 2,
       "version_minor": 0
      },
      "text/plain": [
       "HBox(children=(IntProgress(value=0, description='Running Simulation ', max=5000, style=ProgressStyle(descripti…"
      ]
     },
     "metadata": {},
     "output_type": "display_data"
    },
    {
     "name": "stdout",
     "output_type": "stream",
     "text": [
      "Running Regression: 100 nodes\n",
      "Running Regression: 250 nodes\n",
      "Running Regression: 150 nodes\n",
      "Running Regression: 299 nodes\n",
      "Running Regression: 250 nodes\n",
      "Running Regression: 200 nodes\n",
      "\n",
      "Running Linear Transformation Simulations\n",
      "16\n",
      "8\n",
      "Parameter 17 , Network 9\n",
      "Unfortunately, only 0 current paths found in simulation time.\n"
     ]
    },
    {
     "name": "stderr",
     "output_type": "stream",
     "text": [
      "2020-09-03 17:02:17,044:INFO:Unfortunately, no current path is formed in simulation time.\n"
     ]
    },
    {
     "name": "stdout",
     "output_type": "stream",
     "text": [
      "Saving 10 Simulations for Network 17 Parameter 6\n",
      "Regressing Parameter 17 , Network 6\n",
      "Running Regression: 50 nodes\n"
     ]
    },
    {
     "data": {
      "application/vnd.jupyter.widget-view+json": {
       "model_id": "92d0e03fdcdf4d2aaf7050932b631851",
       "version_major": 2,
       "version_minor": 0
      },
      "text/plain": [
       "HBox(children=(IntProgress(value=0, description='Running Simulation ', max=5000, style=ProgressStyle(descripti…"
      ]
     },
     "metadata": {},
     "output_type": "display_data"
    },
    {
     "name": "stdout",
     "output_type": "stream",
     "text": [
      "Running Regression: 297 nodes\n",
      "Running Regression: 100 nodes\n",
      "Running Regression: 150 nodes\n",
      "Running Regression: 250 nodes\n",
      "Running Regression: 281 nodes\n",
      "Running Regression: 200 nodes\n",
      "Running Linear Transformation Simulations\n",
      "16\n",
      "9\n",
      "Parameter 17 , Network 10\n"
     ]
    },
    {
     "data": {
      "application/vnd.jupyter.widget-view+json": {
       "model_id": "44830ba495264e2a8444f2c00f241f31",
       "version_major": 2,
       "version_minor": 0
      },
      "text/plain": [
       "HBox(children=(IntProgress(value=0, description='Running Simulation ', max=5000, style=ProgressStyle(descripti…"
      ]
     },
     "metadata": {},
     "output_type": "display_data"
    },
    {
     "name": "stdout",
     "output_type": "stream",
     "text": [
      "Running Regression: 279 nodes\n",
      "Running Regression: 250 nodes\n",
      "\n"
     ]
    },
    {
     "name": "stderr",
     "output_type": "stream",
     "text": [
      "2020-09-03 17:02:23,713:INFO:First current path [73, 205, 199, 68, 222, 179, 51, 114, 128] formed at time = 0.652 s.\n"
     ]
    },
    {
     "name": "stdout",
     "output_type": "stream",
     "text": [
      "Saving 10 Simulations for Network 17 Parameter 7\n",
      "Regressing Parameter 17 , Network 7\n",
      "Running Regression: 50 nodes\n",
      "Running Regression: 100 nodes\n",
      "Running Regression: 150 nodes\n",
      "Running Linear Transformation Simulations\n",
      "17\n",
      "0\n",
      "Parameter 18 , Network 1\n"
     ]
    },
    {
     "data": {
      "application/vnd.jupyter.widget-view+json": {
       "model_id": "21ffe3e1c542462da5eb8c7893493da1",
       "version_major": 2,
       "version_minor": 0
      },
      "text/plain": [
       "HBox(children=(IntProgress(value=0, description='Running Simulation ', max=5000, style=ProgressStyle(descripti…"
      ]
     },
     "metadata": {},
     "output_type": "display_data"
    },
    {
     "name": "stdout",
     "output_type": "stream",
     "text": [
      "\n",
      "Running Regression: 200 nodes\n"
     ]
    },
    {
     "name": "stderr",
     "output_type": "stream",
     "text": [
      "2020-09-03 17:02:27,357:INFO:First current path [37, 122, 187, 115, 14, 74, 283, 149] formed at time = 0.618 s.\n"
     ]
    },
    {
     "name": "stdout",
     "output_type": "stream",
     "text": [
      "Saving 10 Simulations for Network 17 Parameter 8\n",
      "Regressing Parameter 17 , Network 8\n",
      "Running Regression: 50 nodes\n",
      "Running Regression: 281 nodes\n",
      "Running Regression: 100 nodes\n",
      "Running Regression: 150 nodes\n",
      "Running Regression: 250 nodes\n",
      "\n",
      "Running Linear Transformation Simulations\n",
      "17\n",
      "1\n",
      "Parameter 18 , Network 2\n"
     ]
    },
    {
     "name": "stderr",
     "output_type": "stream",
     "text": [
      "2020-09-03 17:02:30,676:INFO:First current path [46, 62, 144, 95, 251, 128, 262, 196, 110] formed at time = 0.677 s.\n"
     ]
    },
    {
     "name": "stdout",
     "output_type": "stream",
     "text": [
      "Saving 10 Simulations for Network 17 Parameter 9\n",
      "Regressing Parameter 17 , Network 9\n",
      "Running Regression: 50 nodes\n"
     ]
    },
    {
     "data": {
      "application/vnd.jupyter.widget-view+json": {
       "model_id": "7695a7b52a414078a9acbf2dfc4e2069",
       "version_major": 2,
       "version_minor": 0
      },
      "text/plain": [
       "HBox(children=(IntProgress(value=0, description='Running Simulation ', max=5000, style=ProgressStyle(descripti…"
      ]
     },
     "metadata": {},
     "output_type": "display_data"
    },
    {
     "name": "stdout",
     "output_type": "stream",
     "text": [
      "Running Regression: 200 nodes\n",
      "Running Regression: 100 nodes\n",
      "Running Regression: 150 nodes\n",
      "Running Regression: 200 nodes\n",
      "Running Regression: 250 nodes\n",
      "Running Linear Transformation Simulations\n",
      "17\n",
      "2\n",
      "Parameter 18 , Network 3\n"
     ]
    },
    {
     "data": {
      "application/vnd.jupyter.widget-view+json": {
       "model_id": "ae8029615ac545f98cbafbc968fc7da3",
       "version_major": 2,
       "version_minor": 0
      },
      "text/plain": [
       "HBox(children=(IntProgress(value=0, description='Running Simulation ', max=5000, style=ProgressStyle(descripti…"
      ]
     },
     "metadata": {},
     "output_type": "display_data"
    },
    {
     "name": "stdout",
     "output_type": "stream",
     "text": [
      "Running Regression: 300 nodes\n",
      "\n"
     ]
    },
    {
     "name": "stderr",
     "output_type": "stream",
     "text": [
      "2020-09-03 17:02:36,141:INFO:First current path [128, 234, 72, 70, 277, 249, 230, 24, 278] formed at time = 0.638 s.\n"
     ]
    },
    {
     "name": "stdout",
     "output_type": "stream",
     "text": [
      "Saving 10 Simulations for Network 17 Parameter 10\n",
      "Regressing Parameter 17 , Network 10\n",
      "Running Regression: 50 nodes\n",
      "Running Regression: 100 nodes\n",
      "Running Regression: 250 nodes\n",
      "Running Regression: 150 nodes\n",
      "Running Regression: 297 nodes\n",
      "Running Linear Transformation Simulations\n",
      "17\n",
      "3\n",
      "Parameter 18 , Network 4\n"
     ]
    },
    {
     "data": {
      "application/vnd.jupyter.widget-view+json": {
       "model_id": "300e3b8351954186adda5dd0a73f4834",
       "version_major": 2,
       "version_minor": 0
      },
      "text/plain": [
       "HBox(children=(IntProgress(value=0, description='Running Simulation ', max=5000, style=ProgressStyle(descripti…"
      ]
     },
     "metadata": {},
     "output_type": "display_data"
    },
    {
     "name": "stdout",
     "output_type": "stream",
     "text": [
      "Running Regression: 200 nodes\n",
      "Running Regression: 285 nodes\n",
      "\n"
     ]
    },
    {
     "name": "stderr",
     "output_type": "stream",
     "text": [
      "2020-09-03 17:02:42,741:INFO:First current path [31, 165, 95, 102, 268, 71, 8] formed at time = 0.523 s.\n"
     ]
    },
    {
     "name": "stdout",
     "output_type": "stream",
     "text": [
      "Saving 10 Simulations for Network 18 Parameter 1\n",
      "Running Regression: 250 nodes\n",
      "Regressing Parameter 18 , Network 1\n",
      "Running Regression: 50 nodes\n",
      "Running Linear Transformation Simulations\n",
      "17\n",
      "4\n",
      "Parameter 18 , Network 5\n"
     ]
    },
    {
     "data": {
      "application/vnd.jupyter.widget-view+json": {
       "model_id": "372f9e5cbabb4e769d46faedd32ef106",
       "version_major": 2,
       "version_minor": 0
      },
      "text/plain": [
       "HBox(children=(IntProgress(value=0, description='Running Simulation ', max=5000, style=ProgressStyle(descripti…"
      ]
     },
     "metadata": {},
     "output_type": "display_data"
    },
    {
     "name": "stdout",
     "output_type": "stream",
     "text": [
      "Running Regression: 100 nodes\n",
      "Running Regression: 150 nodes\n",
      "\n"
     ]
    },
    {
     "name": "stderr",
     "output_type": "stream",
     "text": [
      "2020-09-03 17:02:44,825:INFO:First current path [120, 169, 62, 177, 2, 128, 254, 232, 271] formed at time = 0.65 s.\n"
     ]
    },
    {
     "name": "stdout",
     "output_type": "stream",
     "text": [
      "Saving 10 Simulations for Network 18 Parameter 2\n",
      "Regressing Parameter 18 , Network 2\n",
      "Running Regression: 50 nodes\n",
      "Running Regression: 100 nodes\n",
      "Running Regression: 150 nodes\n",
      "Running Regression: 200 nodes\n",
      "Running Regression: 289 nodes\n",
      "Running Linear Transformation Simulations\n",
      "17\n",
      "5\n",
      "Parameter 18 , Network 6\n"
     ]
    },
    {
     "data": {
      "application/vnd.jupyter.widget-view+json": {
       "model_id": "fc35c227b9124e2fb25b8a6c4f9c5e89",
       "version_major": 2,
       "version_minor": 0
      },
      "text/plain": [
       "HBox(children=(IntProgress(value=0, description='Running Simulation ', max=5000, style=ProgressStyle(descripti…"
      ]
     },
     "metadata": {},
     "output_type": "display_data"
    },
    {
     "name": "stdout",
     "output_type": "stream",
     "text": [
      "\n"
     ]
    },
    {
     "name": "stderr",
     "output_type": "stream",
     "text": [
      "2020-09-03 17:02:47,847:INFO:First current path [58, 133, 266, 143, 222, 209, 85, 167] formed at time = 0.565 s.\n"
     ]
    },
    {
     "name": "stdout",
     "output_type": "stream",
     "text": [
      "Saving 10 Simulations for Network 18 Parameter 3\n",
      "Regressing Parameter 18 , Network 3\n",
      "Running Regression: 50 nodes\n",
      "Running Regression: 100 nodes\n",
      "Running Regression: 200 nodes\n",
      "Running Regression: 150 nodes\n",
      "Running Regression: 250 nodes\n",
      "Running Regression: 250 nodes\n",
      "Running Regression: 200 nodes\n",
      "Running Linear Transformation Simulations\n",
      "17\n",
      "6\n",
      "Parameter 18 , Network 7\n"
     ]
    },
    {
     "data": {
      "application/vnd.jupyter.widget-view+json": {
       "model_id": "21178e0e476d4c349303dad18a4a9434",
       "version_major": 2,
       "version_minor": 0
      },
      "text/plain": [
       "HBox(children=(IntProgress(value=0, description='Running Simulation ', max=5000, style=ProgressStyle(descripti…"
      ]
     },
     "metadata": {},
     "output_type": "display_data"
    },
    {
     "name": "stdout",
     "output_type": "stream",
     "text": [
      "\n"
     ]
    },
    {
     "name": "stderr",
     "output_type": "stream",
     "text": [
      "2020-09-03 17:02:52,107:INFO:First current path [7, 50, 26, 249, 39, 127, 197, 190] formed at time = 0.611 s.\n"
     ]
    },
    {
     "name": "stdout",
     "output_type": "stream",
     "text": [
      "Saving 10 Simulations for Network 18 Parameter 4\n",
      "Regressing Parameter 18 , Network 4\n",
      "Running Regression: 50 nodes\n",
      "Running Regression: 100 nodes\n",
      "Running Regression: 150 nodes\n",
      "Running Regression: 293 nodes\n",
      "Running Regression: 250 nodes\n",
      "Running Linear Transformation Simulations\n",
      "17\n",
      "7\n",
      "Parameter 18 , Network 8\n",
      "\n"
     ]
    },
    {
     "data": {
      "application/vnd.jupyter.widget-view+json": {
       "model_id": "2f968a8cd56d404aa13601938b09e65d",
       "version_major": 2,
       "version_minor": 0
      },
      "text/plain": [
       "HBox(children=(IntProgress(value=0, description='Running Simulation ', max=5000, style=ProgressStyle(descripti…"
      ]
     },
     "metadata": {},
     "output_type": "display_data"
    },
    {
     "name": "stderr",
     "output_type": "stream",
     "text": [
      "2020-09-03 17:02:55,625:INFO:First current path [122, 239, 238, 57, 69, 136, 221, 83, 244, 181, 185] formed at time = 0.781 s.\n"
     ]
    },
    {
     "name": "stdout",
     "output_type": "stream",
     "text": [
      "Saving 10 Simulations for Network 18 Parameter 5\n",
      "Regressing Parameter 18 , Network 5\n",
      "Running Regression: 50 nodes\n",
      "Running Regression: 200 nodes\n",
      "Running Regression: 287 nodes\n",
      "Running Regression: 100 nodes\n",
      "Running Regression: 150 nodes\n",
      "Running Regression: 250 nodes\n",
      "Running Regression: 290 nodes\n",
      "Running Regression: 200 nodes\n",
      "\n"
     ]
    },
    {
     "name": "stderr",
     "output_type": "stream",
     "text": [
      "2020-09-03 17:03:00,015:INFO:First current path [15, 125, 22, 243, 245, 263, 143, 273, 242, 62] formed at time = 0.718 s.\n"
     ]
    },
    {
     "name": "stdout",
     "output_type": "stream",
     "text": [
      "Saving 10 Simulations for Network 18 Parameter 6\n",
      "Regressing Parameter 18 , Network 6\n",
      "Running Regression: 50 nodes\n",
      "Running Regression: 100 nodes\n",
      "Running Linear Transformation Simulations\n",
      "17\n",
      "8\n",
      "Parameter 18 , Network 9\n"
     ]
    },
    {
     "data": {
      "application/vnd.jupyter.widget-view+json": {
       "model_id": "e7b89ca472e6467a8cc84c9785c1ced8",
       "version_major": 2,
       "version_minor": 0
      },
      "text/plain": [
       "HBox(children=(IntProgress(value=0, description='Running Simulation ', max=5000, style=ProgressStyle(descripti…"
      ]
     },
     "metadata": {},
     "output_type": "display_data"
    },
    {
     "name": "stdout",
     "output_type": "stream",
     "text": [
      "Running Regression: 150 nodes\n",
      "Running Regression: 250 nodes\n",
      "Running Regression: 287 nodes\n",
      "Running Regression: 200 nodes\n",
      "Running Linear Transformation Simulations\n",
      "17\n",
      "9\n",
      "Parameter 18 , Network 10\n"
     ]
    },
    {
     "data": {
      "application/vnd.jupyter.widget-view+json": {
       "model_id": "e46906d744bd4844b9bf0d1d15b695e8",
       "version_major": 2,
       "version_minor": 0
      },
      "text/plain": [
       "HBox(children=(IntProgress(value=0, description='Running Simulation ', max=5000, style=ProgressStyle(descripti…"
      ]
     },
     "metadata": {},
     "output_type": "display_data"
    },
    {
     "name": "stdout",
     "output_type": "stream",
     "text": [
      "\n"
     ]
    },
    {
     "name": "stderr",
     "output_type": "stream",
     "text": [
      "2020-09-03 17:03:05,988:INFO:First current path [89, 224, 197, 286, 260, 295, 199, 238] formed at time = 0.586 s.\n"
     ]
    },
    {
     "name": "stdout",
     "output_type": "stream",
     "text": [
      "Saving 10 Simulations for Network 18 Parameter 7\n",
      "Regressing Parameter 18 , Network 7\n",
      "Running Regression: 50 nodes\n",
      "Running Regression: 250 nodes\n",
      "Running Regression: 100 nodes\n",
      "Running Regression: 288 nodes\n",
      "Running Regression: 150 nodes\n",
      "Running Linear Transformation Simulations\n",
      "18\n",
      "0\n",
      "Parameter 19 , Network 1\n",
      "\n"
     ]
    },
    {
     "data": {
      "application/vnd.jupyter.widget-view+json": {
       "model_id": "e10c8824d62d45c6a0bdc6a8221f8616",
       "version_major": 2,
       "version_minor": 0
      },
      "text/plain": [
       "HBox(children=(IntProgress(value=0, description='Running Simulation ', max=5000, style=ProgressStyle(descripti…"
      ]
     },
     "metadata": {},
     "output_type": "display_data"
    },
    {
     "name": "stdout",
     "output_type": "stream",
     "text": [
      "Running Regression: 200 nodes\n"
     ]
    },
    {
     "name": "stderr",
     "output_type": "stream",
     "text": [
      "2020-09-03 17:03:09,617:INFO:First current path [33, 52, 194, 2, 102, 140, 156, 151] formed at time = 0.562 s.\n"
     ]
    },
    {
     "name": "stdout",
     "output_type": "stream",
     "text": [
      "Saving 10 Simulations for Network 18 Parameter 8\n",
      "Regressing Parameter 18 , Network 8\n",
      "Running Regression: 50 nodes\n",
      "Running Regression: 100 nodes\n",
      "Running Regression: 281 nodes\n",
      "Running Regression: 150 nodes\n",
      "Running Regression: 250 nodes\n",
      "Running Regression: 200 nodes\n",
      "\n"
     ]
    },
    {
     "name": "stderr",
     "output_type": "stream",
     "text": [
      "2020-09-03 17:03:13,914:INFO:First current path [21, 154, 67, 7, 82, 194, 71, 77, 29] formed at time = 0.633 s.\n"
     ]
    },
    {
     "name": "stdout",
     "output_type": "stream",
     "text": [
      "Saving 10 Simulations for Network 18 Parameter 9\n",
      "Regressing Parameter 18 , Network 9\n",
      "Running Regression: 50 nodes\n",
      "Running Linear Transformation Simulations\n",
      "18\n",
      "1\n",
      "Parameter 19 , Network 2\n"
     ]
    },
    {
     "data": {
      "application/vnd.jupyter.widget-view+json": {
       "model_id": "7a5573c54bb148bca6eb6064ab245c9f",
       "version_major": 2,
       "version_minor": 0
      },
      "text/plain": [
       "HBox(children=(IntProgress(value=0, description='Running Simulation ', max=5000, style=ProgressStyle(descripti…"
      ]
     },
     "metadata": {},
     "output_type": "display_data"
    },
    {
     "name": "stdout",
     "output_type": "stream",
     "text": [
      "Running Regression: 100 nodes\n",
      "Running Regression: 150 nodes\n",
      "Running Regression: 250 nodes\n",
      "Running Regression: 296 nodes\n",
      "\n",
      "Running Regression: 200 nodes\n"
     ]
    },
    {
     "name": "stderr",
     "output_type": "stream",
     "text": [
      "2020-09-03 17:03:17,463:INFO:First current path [68, 243, 244, 73, 218, 268, 162, 28, 52, 77] formed at time = 0.696 s.\n"
     ]
    },
    {
     "name": "stdout",
     "output_type": "stream",
     "text": [
      "Saving 10 Simulations for Network 18 Parameter 10\n",
      "Regressing Parameter 18 , Network 10\n",
      "Running Regression: 50 nodes\n",
      "Running Linear Transformation Simulations\n",
      "18\n",
      "2\n",
      "Parameter 19 , Network 3\n"
     ]
    },
    {
     "data": {
      "application/vnd.jupyter.widget-view+json": {
       "model_id": "9dd2787dad2e4903b9c8ce623e1e9a3b",
       "version_major": 2,
       "version_minor": 0
      },
      "text/plain": [
       "HBox(children=(IntProgress(value=0, description='Running Simulation ', max=5000, style=ProgressStyle(descripti…"
      ]
     },
     "metadata": {},
     "output_type": "display_data"
    },
    {
     "name": "stdout",
     "output_type": "stream",
     "text": [
      "Running Regression: 100 nodes\n",
      "Running Regression: 150 nodes\n",
      "Running Regression: 250 nodes\n",
      "Running Regression: 291 nodes\n",
      "Running Regression: 200 nodes\n",
      "Running Linear Transformation Simulations\n",
      "18\n",
      "3\n",
      "Parameter 19 , Network 4\n"
     ]
    },
    {
     "data": {
      "application/vnd.jupyter.widget-view+json": {
       "model_id": "18229d78cb0646b6ac3f0cd0d5247ebe",
       "version_major": 2,
       "version_minor": 0
      },
      "text/plain": [
       "HBox(children=(IntProgress(value=0, description='Running Simulation ', max=5000, style=ProgressStyle(descripti…"
      ]
     },
     "metadata": {},
     "output_type": "display_data"
    },
    {
     "name": "stdout",
     "output_type": "stream",
     "text": [
      "Running Regression: 250 nodes\n",
      "\n"
     ]
    },
    {
     "name": "stderr",
     "output_type": "stream",
     "text": [
      "2020-09-03 17:03:24,378:INFO:First current path [8, 149, 4, 193, 24, 53] formed at time = 0.463 s.\n"
     ]
    },
    {
     "name": "stdout",
     "output_type": "stream",
     "text": [
      "Saving 10 Simulations for Network 19 Parameter 1\n",
      "Regressing Parameter 19 , Network 1\n",
      "Running Regression: 50 nodes\n",
      "Running Regression: 284 nodes\n",
      "Running Regression: 100 nodes\n",
      "Running Linear Transformation Simulations\n",
      "18\n",
      "4\n",
      "Parameter 19 , Network 5\n"
     ]
    },
    {
     "data": {
      "application/vnd.jupyter.widget-view+json": {
       "model_id": "54cf36d1f869463dab9becf9a67b0367",
       "version_major": 2,
       "version_minor": 0
      },
      "text/plain": [
       "HBox(children=(IntProgress(value=0, description='Running Simulation ', max=5000, style=ProgressStyle(descripti…"
      ]
     },
     "metadata": {},
     "output_type": "display_data"
    },
    {
     "name": "stdout",
     "output_type": "stream",
     "text": [
      "Running Regression: 150 nodes\n",
      "\n"
     ]
    },
    {
     "name": "stderr",
     "output_type": "stream",
     "text": [
      "2020-09-03 17:03:27,641:INFO:First current path [3, 30, 46, 41, 210, 212, 23] formed at time = 0.517 s.\n"
     ]
    },
    {
     "name": "stdout",
     "output_type": "stream",
     "text": [
      "Saving 10 Simulations for Network 19 Parameter 2\n",
      "Regressing Parameter 19 , Network 2\n",
      "Running Regression: 50 nodes\n",
      "Running Regression: 200 nodes\n",
      "Running Regression: 284 nodes\n",
      "Running Regression: 100 nodes\n",
      "Running Regression: 150 nodes\n",
      "\n"
     ]
    },
    {
     "name": "stderr",
     "output_type": "stream",
     "text": [
      "2020-09-03 17:03:30,369:INFO:First current path [18, 68, 3, 81, 42, 80, 45, 2, 236] formed at time = 0.658 s.\n"
     ]
    },
    {
     "name": "stdout",
     "output_type": "stream",
     "text": [
      "Saving 10 Simulations for Network 19 Parameter 3\n",
      "Regressing Parameter 19 , Network 3\n",
      "Running Regression: 50 nodes\n",
      "Running Linear Transformation Simulations\n",
      "18\n",
      "5\n",
      "Parameter 19 , Network 6\n",
      "Running Regression: 250 nodes\n"
     ]
    },
    {
     "data": {
      "application/vnd.jupyter.widget-view+json": {
       "model_id": "3b28652f1a184f508bfa4a1cbf3e82a0",
       "version_major": 2,
       "version_minor": 0
      },
      "text/plain": [
       "HBox(children=(IntProgress(value=0, description='Running Simulation ', max=5000, style=ProgressStyle(descripti…"
      ]
     },
     "metadata": {},
     "output_type": "display_data"
    },
    {
     "name": "stdout",
     "output_type": "stream",
     "text": [
      "Running Regression: 100 nodes\n",
      "Running Regression: 200 nodes\n",
      "Running Regression: 150 nodes\n",
      "Running Linear Transformation Simulations\n",
      "18\n",
      "6\n",
      "Parameter 19 , Network 7\n"
     ]
    },
    {
     "data": {
      "application/vnd.jupyter.widget-view+json": {
       "model_id": "eb18fd792957480bbb706a8bd789a43a",
       "version_major": 2,
       "version_minor": 0
      },
      "text/plain": [
       "HBox(children=(IntProgress(value=0, description='Running Simulation ', max=5000, style=ProgressStyle(descripti…"
      ]
     },
     "metadata": {},
     "output_type": "display_data"
    },
    {
     "name": "stdout",
     "output_type": "stream",
     "text": [
      "Running Regression: 200 nodes\n",
      "\n",
      "Running Regression: 250 nodes\n"
     ]
    },
    {
     "name": "stderr",
     "output_type": "stream",
     "text": [
      "2020-09-03 17:03:34,484:INFO:First current path [15, 207, 67, 175, 203, 112, 144, 162, 189] formed at time = 0.635 s.\n"
     ]
    },
    {
     "name": "stdout",
     "output_type": "stream",
     "text": [
      "Saving 10 Simulations for Network 19 Parameter 4\n",
      "Regressing Parameter 19 , Network 4\n",
      "Running Regression: 50 nodes\n",
      "Running Regression: 294 nodes\n",
      "Running Regression: 100 nodes\n",
      "Running Regression: 150 nodes\n",
      "Running Regression: 250 nodes\n",
      "\n"
     ]
    },
    {
     "name": "stderr",
     "output_type": "stream",
     "text": [
      "2020-09-03 17:03:37,235:INFO:First current path [14, 120, 45, 135, 152, 66, 216, 13] formed at time = 0.554 s.\n"
     ]
    },
    {
     "name": "stdout",
     "output_type": "stream",
     "text": [
      "Saving 10 Simulations for Network 19 Parameter 5\n",
      "Regressing Parameter 19 , Network 5\n",
      "Running Regression: 50 nodes\n",
      "Running Regression: 100 nodes\n",
      "Running Regression: 200 nodes\n",
      "Running Linear Transformation Simulations\n",
      "18\n",
      "7\n",
      "Parameter 19 , Network 8\n"
     ]
    },
    {
     "data": {
      "application/vnd.jupyter.widget-view+json": {
       "model_id": "e63cd72324fb4a11bd4adf6f65d4a496",
       "version_major": 2,
       "version_minor": 0
      },
      "text/plain": [
       "HBox(children=(IntProgress(value=0, description='Running Simulation ', max=5000, style=ProgressStyle(descripti…"
      ]
     },
     "metadata": {},
     "output_type": "display_data"
    },
    {
     "name": "stdout",
     "output_type": "stream",
     "text": [
      "Running Regression: 150 nodes\n",
      "Running Regression: 290 nodes\n",
      "Running Regression: 200 nodes\n",
      "Running Regression: 250 nodes\n",
      "Running Regression: 283 nodes\n",
      "\n",
      "Unfortunately, only 0 current paths found in simulation time.\n"
     ]
    },
    {
     "name": "stderr",
     "output_type": "stream",
     "text": [
      "2020-09-03 17:03:42,077:INFO:Unfortunately, no current path is formed in simulation time.\n"
     ]
    },
    {
     "name": "stdout",
     "output_type": "stream",
     "text": [
      "Saving 10 Simulations for Network 19 Parameter 6\n",
      "Regressing Parameter 19 , Network 6\n",
      "Running Regression: 50 nodes\n",
      "Running Regression: 100 nodes\n",
      "Running Linear Transformation Simulations\n",
      "18\n",
      "8\n",
      "Parameter 19 , Network 9\n"
     ]
    },
    {
     "data": {
      "application/vnd.jupyter.widget-view+json": {
       "model_id": "91dfdd2fb9c14494a1c073685158fa9e",
       "version_major": 2,
       "version_minor": 0
      },
      "text/plain": [
       "HBox(children=(IntProgress(value=0, description='Running Simulation ', max=5000, style=ProgressStyle(descripti…"
      ]
     },
     "metadata": {},
     "output_type": "display_data"
    },
    {
     "name": "stdout",
     "output_type": "stream",
     "text": [
      "Running Regression: 150 nodes\n",
      "Running Regression: 250 nodes\n",
      "Running Regression: 282 nodes\n",
      "Running Regression: 200 nodes\n",
      "\n"
     ]
    },
    {
     "name": "stderr",
     "output_type": "stream",
     "text": [
      "2020-09-03 17:03:47,918:INFO:First current path [257, 181, 15, 13, 248, 75, 174, 14] formed at time = 0.618 s.\n"
     ]
    },
    {
     "name": "stdout",
     "output_type": "stream",
     "text": [
      "Saving 10 Simulations for Network 19 Parameter 7\n",
      "Regressing Parameter 19 , Network 7\n",
      "Running Regression: 50 nodes\n",
      "Running Linear Transformation Simulations\n",
      "18\n",
      "9\n",
      "Parameter 19 , Network 10\n"
     ]
    },
    {
     "data": {
      "application/vnd.jupyter.widget-view+json": {
       "model_id": "24d104033e9741f68031489ad009b264",
       "version_major": 2,
       "version_minor": 0
      },
      "text/plain": [
       "HBox(children=(IntProgress(value=0, description='Running Simulation ', max=5000, style=ProgressStyle(descripti…"
      ]
     },
     "metadata": {},
     "output_type": "display_data"
    },
    {
     "name": "stdout",
     "output_type": "stream",
     "text": [
      "Running Regression: 278 nodes\n",
      "Running Regression: 100 nodes\n",
      "Running Regression: 250 nodes\n",
      "Running Regression: 150 nodes\n",
      "\n"
     ]
    },
    {
     "name": "stderr",
     "output_type": "stream",
     "text": [
      "2020-09-03 17:03:51,495:INFO:First current path [33, 204, 227, 114, 95, 247, 45] formed at time = 0.529 s.\n"
     ]
    },
    {
     "name": "stdout",
     "output_type": "stream",
     "text": [
      "Saving 10 Simulations for Network 19 Parameter 8\n",
      "Regressing Parameter 19 , Network 8\n",
      "Running Regression: 50 nodes\n",
      "Running Linear Transformation Simulations\n",
      "19\n",
      "0\n",
      "Parameter 20 , Network 1\n",
      "Running Regression: 200 nodes\n"
     ]
    },
    {
     "data": {
      "application/vnd.jupyter.widget-view+json": {
       "model_id": "d1a0f242fb414e229752bd673c7f18e3",
       "version_major": 2,
       "version_minor": 0
      },
      "text/plain": [
       "HBox(children=(IntProgress(value=0, description='Running Simulation ', max=5000, style=ProgressStyle(descripti…"
      ]
     },
     "metadata": {},
     "output_type": "display_data"
    },
    {
     "name": "stdout",
     "output_type": "stream",
     "text": [
      "Running Regression: 100 nodes\n",
      "Running Regression: 278 nodes\n",
      "Running Regression: 150 nodes\n",
      "Running Regression: 200 nodes\n",
      "Running Regression: 250 nodes\n",
      "Running Linear Transformation Simulations\n",
      "19\n",
      "1\n",
      "Parameter 20 , Network 2\n",
      "\n"
     ]
    },
    {
     "data": {
      "application/vnd.jupyter.widget-view+json": {
       "model_id": "f0c7dcda130f441d9332084a628585c2",
       "version_major": 2,
       "version_minor": 0
      },
      "text/plain": [
       "HBox(children=(IntProgress(value=0, description='Running Simulation ', max=5000, style=ProgressStyle(descripti…"
      ]
     },
     "metadata": {},
     "output_type": "display_data"
    },
    {
     "name": "stderr",
     "output_type": "stream",
     "text": [
      "2020-09-03 17:03:56,792:INFO:First current path [9, 239, 196, 179, 11, 283, 35, 47] formed at time = 0.567 s.\n"
     ]
    },
    {
     "name": "stdout",
     "output_type": "stream",
     "text": [
      "Saving 10 Simulations for Network 19 Parameter 9\n",
      "Regressing Parameter 19 , Network 9\n",
      "Running Regression: 50 nodes\n",
      "Running Regression: 100 nodes\n",
      "Running Regression: 250 nodes\n",
      "Running Regression: 150 nodes\n",
      "Running Regression: 289 nodes\n",
      "Running Linear Transformation Simulations\n",
      "19\n",
      "2\n",
      "Parameter 20 , Network 3\n",
      "Running Regression: 200 nodes\n"
     ]
    },
    {
     "data": {
      "application/vnd.jupyter.widget-view+json": {
       "model_id": "7b46ad1e13464808a2be081c7bd8247d",
       "version_major": 2,
       "version_minor": 0
      },
      "text/plain": [
       "HBox(children=(IntProgress(value=0, description='Running Simulation ', max=5000, style=ProgressStyle(descripti…"
      ]
     },
     "metadata": {},
     "output_type": "display_data"
    },
    {
     "name": "stdout",
     "output_type": "stream",
     "text": [
      "\n"
     ]
    },
    {
     "name": "stderr",
     "output_type": "stream",
     "text": [
      "2020-09-03 17:04:00,982:INFO:First current path [133, 240, 201, 0, 76, 87, 211, 158, 272] formed at time = 0.619 s.\n"
     ]
    },
    {
     "name": "stdout",
     "output_type": "stream",
     "text": [
      "Saving 10 Simulations for Network 19 Parameter 10\n",
      "Regressing Parameter 19 , Network 10\n",
      "Running Regression: 50 nodes\n",
      "Running Regression: 100 nodes\n",
      "Running Regression: 290 nodes\n",
      "Running Regression: 150 nodes\n",
      "Running Regression: 250 nodes\n",
      "Running Linear Transformation Simulations\n",
      "19\n",
      "3\n",
      "Parameter 20 , Network 4\n"
     ]
    },
    {
     "data": {
      "application/vnd.jupyter.widget-view+json": {
       "model_id": "3520b047822e4a0cbc8c4c1ff7dc9d74",
       "version_major": 2,
       "version_minor": 0
      },
      "text/plain": [
       "HBox(children=(IntProgress(value=0, description='Running Simulation ', max=5000, style=ProgressStyle(descripti…"
      ]
     },
     "metadata": {},
     "output_type": "display_data"
    },
    {
     "name": "stdout",
     "output_type": "stream",
     "text": [
      "Running Regression: 200 nodes\n",
      "\n"
     ]
    },
    {
     "name": "stderr",
     "output_type": "stream",
     "text": [
      "2020-09-03 17:04:06,523:INFO:First current path [81, 199, 86, 272, 275, 102, 220] formed at time = 0.52 s.\n"
     ]
    },
    {
     "name": "stdout",
     "output_type": "stream",
     "text": [
      "Saving 10 Simulations for Network 20 Parameter 1\n",
      "Regressing Parameter 20 , Network 1\n",
      "Running Regression: 50 nodes\n",
      "Running Regression: 286 nodes\n",
      "Running Regression: 100 nodes\n",
      "Running Regression: 250 nodes\n",
      "Running Linear Transformation Simulations\n",
      "19\n",
      "4\n",
      "Parameter 20 , Network 5\n"
     ]
    },
    {
     "data": {
      "application/vnd.jupyter.widget-view+json": {
       "model_id": "96ca71954bd24486b07da050ff6e4d17",
       "version_major": 2,
       "version_minor": 0
      },
      "text/plain": [
       "HBox(children=(IntProgress(value=0, description='Running Simulation ', max=5000, style=ProgressStyle(descripti…"
      ]
     },
     "metadata": {},
     "output_type": "display_data"
    },
    {
     "name": "stdout",
     "output_type": "stream",
     "text": [
      "Running Regression: 150 nodes\n",
      "\n"
     ]
    },
    {
     "name": "stderr",
     "output_type": "stream",
     "text": [
      "2020-09-03 17:04:09,747:INFO:First current path [183, 224, 201, 63, 157, 40, 72, 136] formed at time = 0.641 s.\n"
     ]
    },
    {
     "name": "stdout",
     "output_type": "stream",
     "text": [
      "Saving 10 Simulations for Network 20 Parameter 2\n",
      "Regressing Parameter 20 , Network 2\n",
      "Running Regression: 50 nodes\n",
      "Running Regression: 200 nodes\n",
      "Running Regression: 100 nodes\n",
      "Running Regression: 150 nodes\n",
      "Running Regression: 285 nodes\n",
      "Running Linear Transformation Simulations\n",
      "19\n",
      "5\n",
      "Parameter 20 , Network 6\n",
      "\n"
     ]
    },
    {
     "data": {
      "application/vnd.jupyter.widget-view+json": {
       "model_id": "707eb362c57f4f5b851995ae2806a24d",
       "version_major": 2,
       "version_minor": 0
      },
      "text/plain": [
       "HBox(children=(IntProgress(value=0, description='Running Simulation ', max=5000, style=ProgressStyle(descripti…"
      ]
     },
     "metadata": {},
     "output_type": "display_data"
    },
    {
     "name": "stderr",
     "output_type": "stream",
     "text": [
      "2020-09-03 17:04:12,783:INFO:First current path [158, 132, 134, 177, 15, 48, 11, 179, 275] formed at time = 0.633 s.\n"
     ]
    },
    {
     "name": "stdout",
     "output_type": "stream",
     "text": [
      "Saving 10 Simulations for Network 20 Parameter 3\n",
      "Running Regression: 250 nodes\n",
      "Regressing Parameter 20 , Network 3\n",
      "Running Regression: 50 nodes\n",
      "Running Regression: 100 nodes\n",
      "Running Regression: 200 nodes\n",
      "Running Regression: 150 nodes\n",
      "Running Linear Transformation Simulations\n",
      "19\n",
      "6\n",
      "Parameter 20 , Network 7\n"
     ]
    },
    {
     "data": {
      "application/vnd.jupyter.widget-view+json": {
       "model_id": "7ccb04185c6143ddad9735f16562108b",
       "version_major": 2,
       "version_minor": 0
      },
      "text/plain": [
       "HBox(children=(IntProgress(value=0, description='Running Simulation ', max=5000, style=ProgressStyle(descripti…"
      ]
     },
     "metadata": {},
     "output_type": "display_data"
    },
    {
     "name": "stdout",
     "output_type": "stream",
     "text": [
      "\n"
     ]
    },
    {
     "name": "stderr",
     "output_type": "stream",
     "text": [
      "2020-09-03 17:04:16,059:INFO:First current path [100, 156, 165, 235, 90, 149, 65, 78, 163] formed at time = 0.647 s.\n"
     ]
    },
    {
     "name": "stdout",
     "output_type": "stream",
     "text": [
      "Saving 10 Simulations for Network 20 Parameter 4\n",
      "Regressing Parameter 20 , Network 4\n",
      "Running Regression: 50 nodes\n",
      "Running Regression: 250 nodes\n",
      "Running Regression: 200 nodes\n",
      "Running Regression: 100 nodes\n",
      "Running Regression: 288 nodes\n",
      "Running Regression: 150 nodes\n",
      "Running Regression: 250 nodes\n",
      "Running Regression: 200 nodes\n",
      "Running Linear Transformation Simulations\n",
      "19\n",
      "7\n",
      "Parameter 20 , Network 8\n"
     ]
    },
    {
     "data": {
      "application/vnd.jupyter.widget-view+json": {
       "model_id": "5de7837b962b409c9b735a979c11e4d4",
       "version_major": 2,
       "version_minor": 0
      },
      "text/plain": [
       "HBox(children=(IntProgress(value=0, description='Running Simulation ', max=5000, style=ProgressStyle(descripti…"
      ]
     },
     "metadata": {},
     "output_type": "display_data"
    },
    {
     "name": "stdout",
     "output_type": "stream",
     "text": [
      "Running Regression: 278 nodes\n",
      "\n"
     ]
    },
    {
     "name": "stderr",
     "output_type": "stream",
     "text": [
      "2020-09-03 17:04:22,500:INFO:First current path [5, 240, 202, 110, 139, 115, 77] formed at time = 0.536 s.\n"
     ]
    },
    {
     "name": "stdout",
     "output_type": "stream",
     "text": [
      "Saving 10 Simulations for Network 20 Parameter 5\n",
      "Regressing Parameter 20 , Network 5\n",
      "Running Regression: 50 nodes\n",
      "Running Regression: 250 nodes\n",
      "Running Regression: 100 nodes\n",
      "Running Regression: 283 nodes\n",
      "Running Regression: 150 nodes\n",
      "Running Linear Transformation Simulations\n",
      "19\n",
      "8\n",
      "Parameter 20 , Network 9\n"
     ]
    },
    {
     "data": {
      "application/vnd.jupyter.widget-view+json": {
       "model_id": "3f111a2ddfb24edb9b740a442dc92857",
       "version_major": 2,
       "version_minor": 0
      },
      "text/plain": [
       "HBox(children=(IntProgress(value=0, description='Running Simulation ', max=5000, style=ProgressStyle(descripti…"
      ]
     },
     "metadata": {},
     "output_type": "display_data"
    },
    {
     "name": "stdout",
     "output_type": "stream",
     "text": [
      "\n"
     ]
    },
    {
     "name": "stderr",
     "output_type": "stream",
     "text": [
      "2020-09-03 17:04:25,215:INFO:First current path [22, 119, 47, 205, 256, 113, 66] formed at time = 0.51 s.\n"
     ]
    },
    {
     "name": "stdout",
     "output_type": "stream",
     "text": [
      "Saving 10 Simulations for Network 20 Parameter 6\n",
      "Regressing Parameter 20 , Network 6\n",
      "Running Regression: 50 nodes\n",
      "Running Regression: 100 nodes\n",
      "Running Regression: 200 nodes\n",
      "Running Regression: 150 nodes\n",
      "Running Regression: 278 nodes\n",
      "\n"
     ]
    },
    {
     "name": "stderr",
     "output_type": "stream",
     "text": [
      "2020-09-03 17:04:28,066:INFO:First current path [0, 21, 105, 243, 36, 67, 253] formed at time = 0.522 s.\n"
     ]
    },
    {
     "name": "stdout",
     "output_type": "stream",
     "text": [
      "Saving 10 Simulations for Network 20 Parameter 7\n",
      "Regressing Parameter 20 , Network 7\n",
      "Running Regression: 50 nodes\n",
      "Running Regression: 200 nodes\n",
      "Running Regression: 100 nodes\n",
      "Running Linear Transformation Simulations\n",
      "19\n",
      "9\n",
      "Parameter 20 , Network 10\n",
      "Running Regression: 250 nodes\n"
     ]
    },
    {
     "data": {
      "application/vnd.jupyter.widget-view+json": {
       "model_id": "8fccd08ac8664771bdfe2bff64d72e19",
       "version_major": 2,
       "version_minor": 0
      },
      "text/plain": [
       "HBox(children=(IntProgress(value=0, description='Running Simulation ', max=5000, style=ProgressStyle(descripti…"
      ]
     },
     "metadata": {},
     "output_type": "display_data"
    },
    {
     "name": "stdout",
     "output_type": "stream",
     "text": [
      "Running Regression: 150 nodes\n",
      "Running Regression: 250 nodes\n",
      "Running Regression: 200 nodes\n",
      "\n"
     ]
    },
    {
     "name": "stderr",
     "output_type": "stream",
     "text": [
      "2020-09-03 17:04:33,250:INFO:First current path [193, 70, 187, 68, 1, 19, 210, 241, 281] formed at time = 0.623 s.\n"
     ]
    },
    {
     "name": "stdout",
     "output_type": "stream",
     "text": [
      "Saving 10 Simulations for Network 20 Parameter 8\n",
      "Regressing Parameter 20 , Network 8\n",
      "Running Regression: 50 nodes\n",
      "Running Regression: 289 nodes\n",
      "Running Linear Transformation Simulations\n",
      "20\n",
      "0\n",
      "Parameter 21 , Network 1\n",
      "Running Regression: 100 nodes\n"
     ]
    },
    {
     "data": {
      "application/vnd.jupyter.widget-view+json": {
       "model_id": "3d6a095a3c334ce5af1cda20121fe775",
       "version_major": 2,
       "version_minor": 0
      },
      "text/plain": [
       "HBox(children=(IntProgress(value=0, description='Running Simulation ', max=5000, style=ProgressStyle(descripti…"
      ]
     },
     "metadata": {},
     "output_type": "display_data"
    },
    {
     "name": "stdout",
     "output_type": "stream",
     "text": [
      "Running Regression: 250 nodes\n",
      "Running Regression: 150 nodes\n",
      "Running Regression: 280 nodes\n",
      "Running Regression: 200 nodes\n",
      "\n"
     ]
    },
    {
     "name": "stderr",
     "output_type": "stream",
     "text": [
      "2020-09-03 17:04:37,327:INFO:First current path [201, 88, 120, 275, 102, 115, 252, 183, 47, 172] formed at time = 0.753 s.\n"
     ]
    },
    {
     "name": "stdout",
     "output_type": "stream",
     "text": [
      "Saving 10 Simulations for Network 20 Parameter 9\n",
      "Regressing Parameter 20 , Network 9\n",
      "Running Regression: 50 nodes\n",
      "Running Regression: 100 nodes\n",
      "Running Linear Transformation Simulations\n",
      "20\n",
      "1\n",
      "Parameter 21 , Network 2\n"
     ]
    },
    {
     "data": {
      "application/vnd.jupyter.widget-view+json": {
       "model_id": "f1b6bf05bd154b90a49712715f093a0d",
       "version_major": 2,
       "version_minor": 0
      },
      "text/plain": [
       "HBox(children=(IntProgress(value=0, description='Running Simulation ', max=5000, style=ProgressStyle(descripti…"
      ]
     },
     "metadata": {},
     "output_type": "display_data"
    },
    {
     "name": "stdout",
     "output_type": "stream",
     "text": [
      "Running Regression: 150 nodes\n",
      "Running Regression: 282 nodes\n",
      "Running Regression: 250 nodes\n",
      "Running Regression: 200 nodes\n",
      "Running Linear Transformation Simulations\n",
      "20\n",
      "2\n",
      "Parameter 21 , Network 3\n"
     ]
    },
    {
     "data": {
      "application/vnd.jupyter.widget-view+json": {
       "model_id": "82633da963874264a9175229f2b0f19e",
       "version_major": 2,
       "version_minor": 0
      },
      "text/plain": [
       "HBox(children=(IntProgress(value=0, description='Running Simulation ', max=5000, style=ProgressStyle(descripti…"
      ]
     },
     "metadata": {},
     "output_type": "display_data"
    },
    {
     "name": "stdout",
     "output_type": "stream",
     "text": [
      "\n",
      "Running Regression: 250 nodes\n"
     ]
    },
    {
     "name": "stderr",
     "output_type": "stream",
     "text": [
      "2020-09-03 17:04:43,516:INFO:First current path [21, 130, 119, 186, 140, 52, 267] formed at time = 0.532 s.\n"
     ]
    },
    {
     "name": "stdout",
     "output_type": "stream",
     "text": [
      "Saving 10 Simulations for Network 20 Parameter 10\n",
      "Regressing Parameter 20 , Network 10\n",
      "Running Regression: 50 nodes\n",
      "Running Regression: 100 nodes\n",
      "Running Regression: 286 nodes\n",
      "Running Regression: 150 nodes\n",
      "Running Linear Transformation Simulations\n",
      "20\n",
      "3\n",
      "Parameter 21 , Network 4\n"
     ]
    },
    {
     "data": {
      "application/vnd.jupyter.widget-view+json": {
       "model_id": "cd64d77f820d449ebe11601d2c82831f",
       "version_major": 2,
       "version_minor": 0
      },
      "text/plain": [
       "HBox(children=(IntProgress(value=0, description='Running Simulation ', max=5000, style=ProgressStyle(descripti…"
      ]
     },
     "metadata": {},
     "output_type": "display_data"
    },
    {
     "name": "stdout",
     "output_type": "stream",
     "text": [
      "\n",
      "Unfortunately, only 0 current paths found in simulation time.\n"
     ]
    },
    {
     "name": "stderr",
     "output_type": "stream",
     "text": [
      "2020-09-03 17:04:46,445:INFO:Unfortunately, no current path is formed in simulation time.\n"
     ]
    },
    {
     "name": "stdout",
     "output_type": "stream",
     "text": [
      "Saving 10 Simulations for Network 21 Parameter 1\n",
      "Regressing Parameter 21 , Network 1\n",
      "Running Regression: 50 nodes\n",
      "Running Regression: 100 nodes\n",
      "Running Regression: 200 nodes\n",
      "Running Regression: 279 nodes\n",
      "Running Regression: 150 nodes\n",
      "Running Linear Transformation Simulations\n",
      "20\n",
      "4\n",
      "Parameter 21 , Network 5\n"
     ]
    },
    {
     "data": {
      "application/vnd.jupyter.widget-view+json": {
       "model_id": "d1ba850295254680bfb1f733fcfc4e64",
       "version_major": 2,
       "version_minor": 0
      },
      "text/plain": [
       "HBox(children=(IntProgress(value=0, description='Running Simulation ', max=5000, style=ProgressStyle(descripti…"
      ]
     },
     "metadata": {},
     "output_type": "display_data"
    },
    {
     "name": "stdout",
     "output_type": "stream",
     "text": [
      "Running Regression: 250 nodes\n",
      "Running Regression: 200 nodes\n",
      "\n",
      "Unfortunately, only 0 current paths found in simulation time.\n"
     ]
    },
    {
     "name": "stderr",
     "output_type": "stream",
     "text": [
      "2020-09-03 17:04:51,004:INFO:Unfortunately, no current path is formed in simulation time.\n"
     ]
    },
    {
     "name": "stdout",
     "output_type": "stream",
     "text": [
      "Saving 10 Simulations for Network 21 Parameter 2\n",
      "Regressing Parameter 21 , Network 2\n",
      "Running Regression: 50 nodes\n",
      "Running Regression: 100 nodes\n",
      "\n",
      "Unfortunately, only 0 current paths found in simulation time.\n"
     ]
    },
    {
     "name": "stderr",
     "output_type": "stream",
     "text": [
      "2020-09-03 17:04:52,380:INFO:Unfortunately, no current path is formed in simulation time.\n"
     ]
    },
    {
     "name": "stdout",
     "output_type": "stream",
     "text": [
      "Saving 10 Simulations for Network 21 Parameter 3\n",
      "Regressing Parameter 21 , Network 3\n",
      "Running Regression: 50 nodes\n",
      "Running Regression: 150 nodes\n",
      "Running Regression: 100 nodes\n",
      "Running Regression: 250 nodes\n",
      "Running Linear Transformation Simulations\n",
      "20\n",
      "5\n",
      "Parameter 21 , Network 6\n"
     ]
    },
    {
     "data": {
      "application/vnd.jupyter.widget-view+json": {
       "model_id": "98fa318756a7463797edaf70109d34fc",
       "version_major": 2,
       "version_minor": 0
      },
      "text/plain": [
       "HBox(children=(IntProgress(value=0, description='Running Simulation ', max=5000, style=ProgressStyle(descripti…"
      ]
     },
     "metadata": {},
     "output_type": "display_data"
    },
    {
     "name": "stdout",
     "output_type": "stream",
     "text": [
      "Running Regression: 150 nodes\n",
      "Running Regression: 285 nodes\n",
      "Running Regression: 200 nodes\n",
      "Running Regression: 200 nodes\n",
      "\n",
      "Running Regression: 285 nodes\n",
      "Unfortunately, only 0 current paths found in simulation time.\n"
     ]
    },
    {
     "name": "stderr",
     "output_type": "stream",
     "text": [
      "2020-09-03 17:04:57,071:INFO:Unfortunately, no current path is formed in simulation time.\n"
     ]
    },
    {
     "name": "stdout",
     "output_type": "stream",
     "text": [
      "Saving 10 Simulations for Network 21 Parameter 4\n",
      "Regressing Parameter 21 , Network 4\n",
      "Running Regression: 50 nodes\n",
      "Running Regression: 250 nodes\n",
      "Running Regression: 100 nodes\n",
      "Running Linear Transformation Simulations\n",
      "20\n",
      "6\n",
      "Parameter 21 , Network 7\n"
     ]
    },
    {
     "data": {
      "application/vnd.jupyter.widget-view+json": {
       "model_id": "cc0db7a30fb34b6cb6b4d53bdfb2edba",
       "version_major": 2,
       "version_minor": 0
      },
      "text/plain": [
       "HBox(children=(IntProgress(value=0, description='Running Simulation ', max=5000, style=ProgressStyle(descripti…"
      ]
     },
     "metadata": {},
     "output_type": "display_data"
    },
    {
     "name": "stdout",
     "output_type": "stream",
     "text": [
      "Running Regression: 150 nodes\n",
      "Running Regression: 250 nodes\n",
      "Running Regression: 200 nodes\n",
      "\n",
      "Unfortunately, only 0 current paths found in simulation time.\n"
     ]
    },
    {
     "name": "stderr",
     "output_type": "stream",
     "text": [
      "2020-09-03 17:05:01,225:INFO:Unfortunately, no current path is formed in simulation time.\n"
     ]
    },
    {
     "name": "stdout",
     "output_type": "stream",
     "text": [
      "Saving 10 Simulations for Network 21 Parameter 5\n",
      "Regressing Parameter 21 , Network 5\n",
      "Running Regression: 50 nodes\n",
      "Running Linear Transformation Simulations\n",
      "20\n",
      "7\n",
      "Parameter 21 , Network 8\n",
      "Running Regression: 100 nodes\n"
     ]
    },
    {
     "data": {
      "application/vnd.jupyter.widget-view+json": {
       "model_id": "a303317772ec405692605af37d68f105",
       "version_major": 2,
       "version_minor": 0
      },
      "text/plain": [
       "HBox(children=(IntProgress(value=0, description='Running Simulation ', max=5000, style=ProgressStyle(descripti…"
      ]
     },
     "metadata": {},
     "output_type": "display_data"
    },
    {
     "name": "stdout",
     "output_type": "stream",
     "text": [
      "Running Regression: 285 nodes\n",
      "Running Regression: 150 nodes\n",
      "Running Regression: 280 nodes\n",
      "Running Regression: 250 nodes\n",
      "Running Regression: 200 nodes\n",
      "\n",
      "Unfortunately, only 0 current paths found in simulation time.\n"
     ]
    },
    {
     "name": "stderr",
     "output_type": "stream",
     "text": [
      "2020-09-03 17:05:05,337:INFO:Unfortunately, no current path is formed in simulation time.\n"
     ]
    },
    {
     "name": "stdout",
     "output_type": "stream",
     "text": [
      "Saving 10 Simulations for Network 21 Parameter 6\n",
      "Regressing Parameter 21 , Network 6\n",
      "Running Regression: 50 nodes\n",
      "Running Regression: 100 nodes\n",
      "Running Linear Transformation Simulations\n",
      "20\n",
      "8\n",
      "Parameter 21 , Network 9\n"
     ]
    },
    {
     "data": {
      "application/vnd.jupyter.widget-view+json": {
       "model_id": "bd5e1818e5e04638974b775b0c1f1d29",
       "version_major": 2,
       "version_minor": 0
      },
      "text/plain": [
       "HBox(children=(IntProgress(value=0, description='Running Simulation ', max=5000, style=ProgressStyle(descripti…"
      ]
     },
     "metadata": {},
     "output_type": "display_data"
    },
    {
     "name": "stdout",
     "output_type": "stream",
     "text": [
      "Running Regression: 150 nodes\n",
      "Running Regression: 250 nodes\n",
      "Running Regression: 282 nodes\n",
      "Running Regression: 200 nodes\n",
      "\n",
      "Unfortunately, only 0 current paths found in simulation time.\n"
     ]
    },
    {
     "name": "stderr",
     "output_type": "stream",
     "text": [
      "2020-09-03 17:05:09,300:INFO:Unfortunately, no current path is formed in simulation time.\n"
     ]
    },
    {
     "name": "stdout",
     "output_type": "stream",
     "text": [
      "Saving 10 Simulations for Network 21 Parameter 7\n",
      "Regressing Parameter 21 , Network 7\n",
      "Running Regression: 50 nodes\n",
      "Running Regression: 100 nodes\n",
      "Running Regression: 150 nodes\n",
      "Running Linear Transformation Simulations\n",
      "20\n",
      "9\n",
      "Parameter 21 , Network 10\n"
     ]
    },
    {
     "data": {
      "application/vnd.jupyter.widget-view+json": {
       "model_id": "81c33c63b0d24e5585228a7ecf58b9c0",
       "version_major": 2,
       "version_minor": 0
      },
      "text/plain": [
       "HBox(children=(IntProgress(value=0, description='Running Simulation ', max=5000, style=ProgressStyle(descripti…"
      ]
     },
     "metadata": {},
     "output_type": "display_data"
    },
    {
     "name": "stdout",
     "output_type": "stream",
     "text": [
      "Running Regression: 250 nodes\n",
      "Running Regression: 280 nodes\n",
      "\n",
      "Running Regression: 200 nodes\n",
      "Unfortunately, only 0 current paths found in simulation time.\n"
     ]
    },
    {
     "name": "stderr",
     "output_type": "stream",
     "text": [
      "2020-09-03 17:05:12,764:INFO:Unfortunately, no current path is formed in simulation time.\n"
     ]
    },
    {
     "name": "stdout",
     "output_type": "stream",
     "text": [
      "Saving 10 Simulations for Network 21 Parameter 8\n",
      "Regressing Parameter 21 , Network 8\n",
      "Running Regression: 50 nodes\n",
      "Running Regression: 100 nodes\n",
      "Running Regression: 150 nodes\n",
      "Running Linear Transformation Simulations\n",
      "21\n",
      "0\n",
      "Parameter 22 , Network 1\n"
     ]
    },
    {
     "data": {
      "application/vnd.jupyter.widget-view+json": {
       "model_id": "302106508adf4fb9b063b0bb5b74dcbb",
       "version_major": 2,
       "version_minor": 0
      },
      "text/plain": [
       "HBox(children=(IntProgress(value=0, description='Running Simulation ', max=5000, style=ProgressStyle(descripti…"
      ]
     },
     "metadata": {},
     "output_type": "display_data"
    },
    {
     "name": "stdout",
     "output_type": "stream",
     "text": [
      "Running Regression: 250 nodes\n",
      "Running Regression: 283 nodes\n",
      "Running Regression: 200 nodes\n",
      "\n",
      "Unfortunately, only 0 current paths found in simulation time.\n"
     ]
    },
    {
     "name": "stderr",
     "output_type": "stream",
     "text": [
      "2020-09-03 17:05:18,177:INFO:Unfortunately, no current path is formed in simulation time.\n"
     ]
    },
    {
     "name": "stdout",
     "output_type": "stream",
     "text": [
      "Saving 10 Simulations for Network 21 Parameter 9\n",
      "Regressing Parameter 21 , Network 9\n",
      "Running Regression: 50 nodes\n",
      "Running Regression: 100 nodes\n",
      "Running Regression: 250 nodes\n",
      "Running Regression: 150 nodes\n",
      "Running Linear Transformation Simulations\n",
      "21\n",
      "1\n",
      "Parameter 22 , Network 2\n",
      "Running Regression: 280 nodes\n"
     ]
    },
    {
     "data": {
      "application/vnd.jupyter.widget-view+json": {
       "model_id": "e2871d470df840fab176a0cdf88de10a",
       "version_major": 2,
       "version_minor": 0
      },
      "text/plain": [
       "HBox(children=(IntProgress(value=0, description='Running Simulation ', max=5000, style=ProgressStyle(descripti…"
      ]
     },
     "metadata": {},
     "output_type": "display_data"
    },
    {
     "name": "stdout",
     "output_type": "stream",
     "text": [
      "Running Regression: 200 nodes\n",
      "\n",
      "Unfortunately, only 0 current paths found in simulation time.\n"
     ]
    },
    {
     "name": "stderr",
     "output_type": "stream",
     "text": [
      "2020-09-03 17:05:22,395:INFO:Unfortunately, no current path is formed in simulation time.\n"
     ]
    },
    {
     "name": "stdout",
     "output_type": "stream",
     "text": [
      "Saving 10 Simulations for Network 21 Parameter 10\n",
      "Regressing Parameter 21 , Network 10\n",
      "Running Regression: 50 nodes\n",
      "Running Regression: 100 nodes\n",
      "Running Regression: 278 nodes\n",
      "Running Linear Transformation Simulations\n",
      "21\n",
      "2\n",
      "Parameter 22 , Network 3\n"
     ]
    },
    {
     "data": {
      "application/vnd.jupyter.widget-view+json": {
       "model_id": "6734cdf24c6d4e779f5b6a3f09ae5b90",
       "version_major": 2,
       "version_minor": 0
      },
      "text/plain": [
       "HBox(children=(IntProgress(value=0, description='Running Simulation ', max=5000, style=ProgressStyle(descripti…"
      ]
     },
     "metadata": {},
     "output_type": "display_data"
    },
    {
     "name": "stdout",
     "output_type": "stream",
     "text": [
      "Running Regression: 150 nodes\n",
      "Running Regression: 250 nodes\n",
      "Running Regression: 200 nodes\n",
      "Running Linear Transformation Simulations\n",
      "21\n",
      "3\n",
      "Parameter 22 , Network 4\n"
     ]
    },
    {
     "data": {
      "application/vnd.jupyter.widget-view+json": {
       "model_id": "9ec9ea0b7cea4352b9ba27ad48b4b3f9",
       "version_major": 2,
       "version_minor": 0
      },
      "text/plain": [
       "HBox(children=(IntProgress(value=0, description='Running Simulation ', max=5000, style=ProgressStyle(descripti…"
      ]
     },
     "metadata": {},
     "output_type": "display_data"
    },
    {
     "name": "stdout",
     "output_type": "stream",
     "text": [
      "\n",
      "Unfortunately, only 0 current paths found in simulation time.\n"
     ]
    },
    {
     "name": "stderr",
     "output_type": "stream",
     "text": [
      "2020-09-03 17:05:28,572:INFO:Unfortunately, no current path is formed in simulation time.\n"
     ]
    },
    {
     "name": "stdout",
     "output_type": "stream",
     "text": [
      "Saving 10 Simulations for Network 22 Parameter 1\n",
      "Regressing Parameter 22 , Network 1\n",
      "Running Regression: 50 nodes\n",
      "Running Regression: 250 nodes\n",
      "Running Regression: 279 nodes\n",
      "Running Regression: 100 nodes\n",
      "Running Regression: 150 nodes\n",
      "Running Regression: 200 nodes\n",
      "Running Linear Transformation Simulations\n",
      "21\n",
      "4\n",
      "Parameter 22 , Network 5\n"
     ]
    },
    {
     "data": {
      "application/vnd.jupyter.widget-view+json": {
       "model_id": "6a6ceb89d19846e892c62d13a037000d",
       "version_major": 2,
       "version_minor": 0
      },
      "text/plain": [
       "HBox(children=(IntProgress(value=0, description='Running Simulation ', max=5000, style=ProgressStyle(descripti…"
      ]
     },
     "metadata": {},
     "output_type": "display_data"
    },
    {
     "name": "stdout",
     "output_type": "stream",
     "text": [
      "\n",
      "Unfortunately, only 0 current paths found in simulation time.\n"
     ]
    },
    {
     "name": "stderr",
     "output_type": "stream",
     "text": [
      "2020-09-03 17:05:32,356:INFO:Unfortunately, no current path is formed in simulation time.\n"
     ]
    },
    {
     "name": "stdout",
     "output_type": "stream",
     "text": [
      "Saving 10 Simulations for Network 22 Parameter 2\n",
      "Regressing Parameter 22 , Network 2\n",
      "Running Regression: 50 nodes\n",
      "Running Regression: 100 nodes\n",
      "Running Regression: 280 nodes\n",
      "Running Regression: 150 nodes\n",
      "Running Regression: 250 nodes\n",
      "Running Linear Transformation Simulations\n",
      "21\n",
      "5\n",
      "Parameter 22 , Network 6\n"
     ]
    },
    {
     "data": {
      "application/vnd.jupyter.widget-view+json": {
       "model_id": "ad66f68a448642df9462830ffc95a824",
       "version_major": 2,
       "version_minor": 0
      },
      "text/plain": [
       "HBox(children=(IntProgress(value=0, description='Running Simulation ', max=5000, style=ProgressStyle(descripti…"
      ]
     },
     "metadata": {},
     "output_type": "display_data"
    },
    {
     "name": "stdout",
     "output_type": "stream",
     "text": [
      "Running Regression: 200 nodes\n",
      "\n",
      "Unfortunately, only 0 current paths found in simulation time.\n"
     ]
    },
    {
     "name": "stderr",
     "output_type": "stream",
     "text": [
      "2020-09-03 17:05:37,195:INFO:Unfortunately, no current path is formed in simulation time.\n"
     ]
    },
    {
     "name": "stdout",
     "output_type": "stream",
     "text": [
      "Saving 10 Simulations for Network 22 Parameter 3\n",
      "Regressing Parameter 22 , Network 3\n",
      "Running Regression: 50 nodes\n",
      "Running Regression: 100 nodes\n",
      "Running Regression: 293 nodes\n",
      "Running Regression: 150 nodes\n",
      "Running Regression: 250 nodes\n",
      "\n",
      "Unfortunately, only 0 current paths found in simulation time.\n"
     ]
    },
    {
     "name": "stderr",
     "output_type": "stream",
     "text": [
      "2020-09-03 17:05:40,495:INFO:Unfortunately, no current path is formed in simulation time.\n"
     ]
    },
    {
     "name": "stdout",
     "output_type": "stream",
     "text": [
      "Saving 10 Simulations for Network 22 Parameter 4\n",
      "Regressing Parameter 22 , Network 4\n",
      "Running Regression: 50 nodes\n",
      "Running Linear Transformation Simulations\n",
      "21\n",
      "6\n",
      "Parameter 22 , Network 7\n",
      "Running Regression: 100 nodes\n",
      "Running Regression: 200 nodes\n"
     ]
    },
    {
     "data": {
      "application/vnd.jupyter.widget-view+json": {
       "model_id": "c14c59b3bb4b4990a85a9d5fb447b1bf",
       "version_major": 2,
       "version_minor": 0
      },
      "text/plain": [
       "HBox(children=(IntProgress(value=0, description='Running Simulation ', max=5000, style=ProgressStyle(descripti…"
      ]
     },
     "metadata": {},
     "output_type": "display_data"
    },
    {
     "name": "stdout",
     "output_type": "stream",
     "text": [
      "Running Regression: 150 nodes\n",
      "Running Regression: 280 nodes\n",
      "Running Regression: 250 nodes\n",
      "Running Regression: 200 nodes\n",
      "\n",
      "Unfortunately, only 0 current paths found in simulation time.\n"
     ]
    },
    {
     "name": "stderr",
     "output_type": "stream",
     "text": [
      "2020-09-03 17:05:44,839:INFO:Unfortunately, no current path is formed in simulation time.\n"
     ]
    },
    {
     "name": "stdout",
     "output_type": "stream",
     "text": [
      "Saving 10 Simulations for Network 22 Parameter 5\n",
      "Running Linear Transformation Simulations\n",
      "Regressing Parameter 22 , Network 5\n",
      "21\n",
      "Running Regression: 50 nodes\n",
      "7\n",
      "Parameter 22 , Network 8\n"
     ]
    },
    {
     "data": {
      "application/vnd.jupyter.widget-view+json": {
       "model_id": "014a56d9898a4e6aa6d97bf52f248836",
       "version_major": 2,
       "version_minor": 0
      },
      "text/plain": [
       "HBox(children=(IntProgress(value=0, description='Running Simulation ', max=5000, style=ProgressStyle(descripti…"
      ]
     },
     "metadata": {},
     "output_type": "display_data"
    },
    {
     "name": "stdout",
     "output_type": "stream",
     "text": [
      "Running Regression: 100 nodes\n",
      "Running Regression: 150 nodes\n",
      "Running Regression: 250 nodes\n",
      "Running Regression: 297 nodes\n",
      "Running Linear Transformation Simulations\n",
      "21\n",
      "8\n",
      "Parameter 22 , Network 9\n"
     ]
    },
    {
     "data": {
      "application/vnd.jupyter.widget-view+json": {
       "model_id": "c69c1ec6cf9849e39a6dde1712934bcb",
       "version_major": 2,
       "version_minor": 0
      },
      "text/plain": [
       "HBox(children=(IntProgress(value=0, description='Running Simulation ', max=5000, style=ProgressStyle(descripti…"
      ]
     },
     "metadata": {},
     "output_type": "display_data"
    },
    {
     "name": "stdout",
     "output_type": "stream",
     "text": [
      "Running Regression: 200 nodes\n",
      "\n",
      "Unfortunately, only 0 current paths found in simulation time.\n"
     ]
    },
    {
     "name": "stderr",
     "output_type": "stream",
     "text": [
      "2020-09-03 17:05:49,615:INFO:Unfortunately, no current path is formed in simulation time.\n"
     ]
    },
    {
     "name": "stdout",
     "output_type": "stream",
     "text": [
      "Saving 10 Simulations for Network 22 Parameter 6\n",
      "Regressing Parameter 22 , Network 6\n",
      "Running Regression: 50 nodes\n",
      "Running Regression: 100 nodes\n",
      "Running Regression: 150 nodes\n",
      "Running Regression: 289 nodes\n",
      "Running Regression: 250 nodes\n",
      "Running Regression: 200 nodes\n",
      "Running Linear Transformation Simulations\n",
      "21\n",
      "9\n",
      "Parameter 22 , Network 10\n"
     ]
    },
    {
     "data": {
      "application/vnd.jupyter.widget-view+json": {
       "model_id": "6587dd9794f74375abb88bbfd7e16498",
       "version_major": 2,
       "version_minor": 0
      },
      "text/plain": [
       "HBox(children=(IntProgress(value=0, description='Running Simulation ', max=5000, style=ProgressStyle(descripti…"
      ]
     },
     "metadata": {},
     "output_type": "display_data"
    },
    {
     "name": "stdout",
     "output_type": "stream",
     "text": [
      "\n",
      "Unfortunately, only 0 current paths found in simulation time.\n"
     ]
    },
    {
     "name": "stderr",
     "output_type": "stream",
     "text": [
      "2020-09-03 17:05:53,718:INFO:Unfortunately, no current path is formed in simulation time.\n"
     ]
    },
    {
     "name": "stdout",
     "output_type": "stream",
     "text": [
      "Saving 10 Simulations for Network 22 Parameter 7\n",
      "Regressing Parameter 22 , Network 7\n",
      "Running Regression: 50 nodes\n",
      "Running Regression: 100 nodes\n",
      "Running Regression: 150 nodes\n",
      "Running Regression: 250 nodes\n",
      "Running Regression: 294 nodes\n",
      "\n",
      "Running Regression: 200 nodes\n",
      "Running Linear Transformation Simulations\n",
      "22\n",
      "0\n",
      "Parameter 23 , Network 1\n"
     ]
    },
    {
     "data": {
      "application/vnd.jupyter.widget-view+json": {
       "model_id": "e1aa7f67971041ad9d77d7610aeda7f8",
       "version_major": 2,
       "version_minor": 0
      },
      "text/plain": [
       "HBox(children=(IntProgress(value=0, description='Running Simulation ', max=5000, style=ProgressStyle(descripti…"
      ]
     },
     "metadata": {},
     "output_type": "display_data"
    },
    {
     "name": "stdout",
     "output_type": "stream",
     "text": [
      "Unfortunately, only 0 current paths found in simulation time.\n"
     ]
    },
    {
     "name": "stderr",
     "output_type": "stream",
     "text": [
      "2020-09-03 17:05:58,820:INFO:Unfortunately, no current path is formed in simulation time.\n"
     ]
    },
    {
     "name": "stdout",
     "output_type": "stream",
     "text": [
      "Saving 10 Simulations for Network 22 Parameter 8\n",
      "Regressing Parameter 22 , Network 8\n",
      "Running Regression: 50 nodes\n",
      "Running Regression: 100 nodes\n",
      "Running Regression: 289 nodes\n",
      "Running Regression: 250 nodes\n",
      "\n"
     ]
    },
    {
     "name": "stderr",
     "output_type": "stream",
     "text": [
      "2020-09-03 17:06:00,396:INFO:First current path [23, 225, 49, 271, 178, 73, 99, 181, 176, 150] formed at time = 0.693 s.\n"
     ]
    },
    {
     "name": "stdout",
     "output_type": "stream",
     "text": [
      "Saving 10 Simulations for Network 22 Parameter 9\n",
      "Regressing Parameter 22 , Network 9\n",
      "Running Regression: 50 nodes\n",
      "Running Regression: 150 nodes\n",
      "Running Regression: 100 nodes\n",
      "Running Regression: 150 nodes\n",
      "Running Linear Transformation Simulations\n",
      "22\n",
      "1\n",
      "Parameter 23 , Network 2\n",
      "Running Regression: 200 nodes\n"
     ]
    },
    {
     "data": {
      "application/vnd.jupyter.widget-view+json": {
       "model_id": "0f7497a554ff40afb1377d9e91c02dd7",
       "version_major": 2,
       "version_minor": 0
      },
      "text/plain": [
       "HBox(children=(IntProgress(value=0, description='Running Simulation ', max=5000, style=ProgressStyle(descripti…"
      ]
     },
     "metadata": {},
     "output_type": "display_data"
    },
    {
     "name": "stdout",
     "output_type": "stream",
     "text": [
      "Running Regression: 200 nodes\n",
      "Running Regression: 290 nodes\n",
      "Running Regression: 250 nodes\n",
      "\n",
      "Unfortunately, only 0 current paths found in simulation time.\n"
     ]
    },
    {
     "name": "stderr",
     "output_type": "stream",
     "text": [
      "2020-09-03 17:06:05,675:INFO:Unfortunately, no current path is formed in simulation time.\n"
     ]
    },
    {
     "name": "stdout",
     "output_type": "stream",
     "text": [
      "Saving 10 Simulations for Network 22 Parameter 10\n",
      "Regressing Parameter 22 , Network 10\n",
      "Running Regression: 50 nodes\n",
      "Running Regression: 100 nodes\n",
      "Running Linear Transformation Simulations\n",
      "22\n",
      "2\n",
      "Parameter 23 , Network 3\n"
     ]
    },
    {
     "data": {
      "application/vnd.jupyter.widget-view+json": {
       "model_id": "c86412139d5047028713db6814d2aa95",
       "version_major": 2,
       "version_minor": 0
      },
      "text/plain": [
       "HBox(children=(IntProgress(value=0, description='Running Simulation ', max=5000, style=ProgressStyle(descripti…"
      ]
     },
     "metadata": {},
     "output_type": "display_data"
    },
    {
     "name": "stdout",
     "output_type": "stream",
     "text": [
      "Running Regression: 250 nodes\n",
      "Running Regression: 150 nodes\n",
      "Running Regression: 200 nodes\n",
      "Running Regression: 286 nodes\n",
      "Running Linear Transformation Simulations\n",
      "22\n",
      "3\n",
      "Parameter 23 , Network 4\n"
     ]
    },
    {
     "data": {
      "application/vnd.jupyter.widget-view+json": {
       "model_id": "c194e26f5fdc4e1699e731c290476a93",
       "version_major": 2,
       "version_minor": 0
      },
      "text/plain": [
       "HBox(children=(IntProgress(value=0, description='Running Simulation ', max=5000, style=ProgressStyle(descripti…"
      ]
     },
     "metadata": {},
     "output_type": "display_data"
    },
    {
     "name": "stdout",
     "output_type": "stream",
     "text": [
      "Running Regression: 279 nodes\n",
      "\n",
      "Unfortunately, only 0 current paths found in simulation time.\n"
     ]
    },
    {
     "name": "stderr",
     "output_type": "stream",
     "text": [
      "2020-09-03 17:06:11,593:INFO:Unfortunately, no current path is formed in simulation time.\n"
     ]
    },
    {
     "name": "stdout",
     "output_type": "stream",
     "text": [
      "Saving 10 Simulations for Network 23 Parameter 1\n",
      "Regressing Parameter 23 , Network 1\n",
      "Running Regression: 50 nodes\n",
      "Running Regression: 250 nodes\n",
      "Running Regression: 100 nodes\n",
      "Running Regression: 150 nodes\n",
      "Running Linear Transformation Simulations\n",
      "22\n",
      "4\n",
      "Parameter 23 , Network 5\n"
     ]
    },
    {
     "data": {
      "application/vnd.jupyter.widget-view+json": {
       "model_id": "548b5cc3c77d4dcc8ad4df04575c1174",
       "version_major": 2,
       "version_minor": 0
      },
      "text/plain": [
       "HBox(children=(IntProgress(value=0, description='Running Simulation ', max=5000, style=ProgressStyle(descripti…"
      ]
     },
     "metadata": {},
     "output_type": "display_data"
    },
    {
     "name": "stdout",
     "output_type": "stream",
     "text": [
      "Running Regression: 200 nodes\n",
      "\n",
      "Running Regression: 288 nodes\n",
      "Unfortunately, only 0 current paths found in simulation time.\n"
     ]
    },
    {
     "name": "stderr",
     "output_type": "stream",
     "text": [
      "2020-09-03 17:06:16,444:INFO:Unfortunately, no current path is formed in simulation time.\n"
     ]
    },
    {
     "name": "stdout",
     "output_type": "stream",
     "text": [
      "Saving 10 Simulations for Network 23 Parameter 2\n",
      "Regressing Parameter 23 , Network 2\n",
      "Running Regression: 50 nodes\n",
      "Running Regression: 100 nodes\n",
      "Running Regression: 250 nodes\n",
      "Running Regression: 150 nodes\n",
      "Running Linear Transformation Simulations\n",
      "22\n",
      "5\n",
      "Parameter 23 , Network 6\n"
     ]
    },
    {
     "data": {
      "application/vnd.jupyter.widget-view+json": {
       "model_id": "32ae25d6f7c14ced8ae69f6af77212de",
       "version_major": 2,
       "version_minor": 0
      },
      "text/plain": [
       "HBox(children=(IntProgress(value=0, description='Running Simulation ', max=5000, style=ProgressStyle(descripti…"
      ]
     },
     "metadata": {},
     "output_type": "display_data"
    },
    {
     "name": "stdout",
     "output_type": "stream",
     "text": [
      "\n",
      "Unfortunately, only 0 current paths found in simulation time.\n"
     ]
    },
    {
     "name": "stderr",
     "output_type": "stream",
     "text": [
      "2020-09-03 17:06:20,094:INFO:Unfortunately, no current path is formed in simulation time.\n"
     ]
    },
    {
     "name": "stdout",
     "output_type": "stream",
     "text": [
      "Saving 10 Simulations for Network 23 Parameter 3\n",
      "Regressing Parameter 23 , Network 3\n",
      "Running Regression: 50 nodes\n",
      "Running Regression: 200 nodes\n",
      "Running Regression: 100 nodes\n",
      "Running Regression: 150 nodes\n",
      "Running Regression: 296 nodes\n",
      "Running Linear Transformation Simulations\n",
      "22\n",
      "6\n",
      "Parameter 23 , Network 7\n"
     ]
    },
    {
     "data": {
      "application/vnd.jupyter.widget-view+json": {
       "model_id": "9d5fb8737e0d466eaa5ae2b797139d23",
       "version_major": 2,
       "version_minor": 0
      },
      "text/plain": [
       "HBox(children=(IntProgress(value=0, description='Running Simulation ', max=5000, style=ProgressStyle(descripti…"
      ]
     },
     "metadata": {},
     "output_type": "display_data"
    },
    {
     "name": "stdout",
     "output_type": "stream",
     "text": [
      "Running Regression: 250 nodes\n",
      "\n",
      "Running Regression: 200 nodes\n",
      "Unfortunately, only 0 current paths found in simulation time.\n"
     ]
    },
    {
     "name": "stderr",
     "output_type": "stream",
     "text": [
      "2020-09-03 17:06:24,935:INFO:Unfortunately, no current path is formed in simulation time.\n"
     ]
    },
    {
     "name": "stdout",
     "output_type": "stream",
     "text": [
      "Saving 10 Simulations for Network 23 Parameter 4\n",
      "Regressing Parameter 23 , Network 4\n",
      "Running Regression: 50 nodes\n",
      "Running Regression: 100 nodes\n",
      "Running Regression: 150 nodes\n",
      "Running Regression: 250 nodes\n",
      "Running Linear Transformation Simulations\n",
      "22\n",
      "7\n",
      "Parameter 23 , Network 8\n",
      "Running Regression: 291 nodes\n"
     ]
    },
    {
     "data": {
      "application/vnd.jupyter.widget-view+json": {
       "model_id": "982f1c5954ac40baa5f352106a87ed3d",
       "version_major": 2,
       "version_minor": 0
      },
      "text/plain": [
       "HBox(children=(IntProgress(value=0, description='Running Simulation ', max=5000, style=ProgressStyle(descripti…"
      ]
     },
     "metadata": {},
     "output_type": "display_data"
    },
    {
     "name": "stdout",
     "output_type": "stream",
     "text": [
      "\n",
      "Running Regression: 200 nodes\n",
      "Unfortunately, only 0 current paths found in simulation time.\n"
     ]
    },
    {
     "name": "stderr",
     "output_type": "stream",
     "text": [
      "2020-09-03 17:06:30,484:INFO:Unfortunately, no current path is formed in simulation time.\n"
     ]
    },
    {
     "name": "stdout",
     "output_type": "stream",
     "text": [
      "Saving 10 Simulations for Network 23 Parameter 5\n",
      "Regressing Parameter 23 , Network 5\n",
      "Running Regression: 50 nodes\n",
      "Running Regression: 291 nodes\n",
      "Running Regression: 100 nodes\n",
      "Running Regression: 250 nodes\n",
      "Running Linear Transformation Simulations\n",
      "22\n",
      "8\n",
      "Parameter 23 , Network 9\n",
      "Running Regression: 150 nodes\n",
      "\n"
     ]
    },
    {
     "data": {
      "application/vnd.jupyter.widget-view+json": {
       "model_id": "2cb2b5198cee4a92bbe35118fbc9fc45",
       "version_major": 2,
       "version_minor": 0
      },
      "text/plain": [
       "HBox(children=(IntProgress(value=0, description='Running Simulation ', max=5000, style=ProgressStyle(descripti…"
      ]
     },
     "metadata": {},
     "output_type": "display_data"
    },
    {
     "name": "stdout",
     "output_type": "stream",
     "text": [
      "Unfortunately, only 0 current paths found in simulation time.\n"
     ]
    },
    {
     "name": "stderr",
     "output_type": "stream",
     "text": [
      "2020-09-03 17:06:32,478:INFO:Unfortunately, no current path is formed in simulation time.\n"
     ]
    },
    {
     "name": "stdout",
     "output_type": "stream",
     "text": [
      "Saving 10 Simulations for Network 23 Parameter 6\n",
      "Regressing Parameter 23 , Network 6\n",
      "Running Regression: 50 nodes\n",
      "Running Regression: 100 nodes\n",
      "Running Regression: 150 nodes\n",
      "Running Regression: 200 nodes\n",
      "Running Regression: 200 nodes\n",
      "\n",
      "Running Regression: 296 nodes\n"
     ]
    },
    {
     "name": "stderr",
     "output_type": "stream",
     "text": [
      "2020-09-03 17:06:36,199:INFO:First current path [84, 178, 114, 126, 29, 135, 271, 203, 34, 52, 10, 241] formed at time = 0.863 s.\n"
     ]
    },
    {
     "name": "stdout",
     "output_type": "stream",
     "text": [
      "Saving 10 Simulations for Network 23 Parameter 7\n",
      "Regressing Parameter 23 , Network 7\n",
      "Running Regression: 50 nodes\n",
      "Running Regression: 100 nodes\n",
      "Running Regression: 250 nodes\n",
      "Running Regression: 150 nodes\n",
      "Running Linear Transformation Simulations\n",
      "22\n",
      "9\n",
      "Parameter 23 , Network 10\n"
     ]
    },
    {
     "data": {
      "application/vnd.jupyter.widget-view+json": {
       "model_id": "3f2a0b46076647e0a93061f6d8ad5d6e",
       "version_major": 2,
       "version_minor": 0
      },
      "text/plain": [
       "HBox(children=(IntProgress(value=0, description='Running Simulation ', max=5000, style=ProgressStyle(descripti…"
      ]
     },
     "metadata": {},
     "output_type": "display_data"
    },
    {
     "name": "stdout",
     "output_type": "stream",
     "text": [
      "Running Regression: 250 nodes\n",
      "Running Regression: 200 nodes\n",
      "\n"
     ]
    },
    {
     "name": "stderr",
     "output_type": "stream",
     "text": [
      "2020-09-03 17:06:40,948:INFO:First current path [113, 224, 276, 221, 252, 25, 272, 26, 181, 192] formed at time = 0.696 s.\n"
     ]
    },
    {
     "name": "stdout",
     "output_type": "stream",
     "text": [
      "Saving 10 Simulations for Network 23 Parameter 8\n",
      "Regressing Parameter 23 , Network 8\n",
      "Running Regression: 50 nodes\n",
      "Running Regression: 100 nodes\n",
      "Running Regression: 299 nodes\n",
      "Running Linear Transformation Simulations\n",
      "23\n",
      "0\n",
      "Parameter 24 , Network 1\n"
     ]
    },
    {
     "data": {
      "application/vnd.jupyter.widget-view+json": {
       "model_id": "e8f17e299c2d4438a1e2ec4435823094",
       "version_major": 2,
       "version_minor": 0
      },
      "text/plain": [
       "HBox(children=(IntProgress(value=0, description='Running Simulation ', max=5000, style=ProgressStyle(descripti…"
      ]
     },
     "metadata": {},
     "output_type": "display_data"
    },
    {
     "name": "stdout",
     "output_type": "stream",
     "text": [
      "Running Regression: 295 nodes\n",
      "Running Regression: 150 nodes\n",
      "Running Regression: 250 nodes\n",
      "Running Regression: 200 nodes\n",
      "\n"
     ]
    },
    {
     "name": "stderr",
     "output_type": "stream",
     "text": [
      "2020-09-03 17:06:45,439:INFO:First current path [10, 117, 251, 246, 141, 73, 206, 92, 106] formed at time = 0.624 s.\n"
     ]
    },
    {
     "name": "stdout",
     "output_type": "stream",
     "text": [
      "Saving 10 Simulations for Network 23 Parameter 9\n",
      "Regressing Parameter 23 , Network 9\n",
      "Running Regression: 50 nodes\n",
      "Running Regression: 100 nodes\n",
      "Running Linear Transformation Simulations\n",
      "23\n",
      "1\n",
      "Parameter 24 , Network 2\n"
     ]
    },
    {
     "data": {
      "application/vnd.jupyter.widget-view+json": {
       "model_id": "cea0cba0b806462ea23bbee9a0e23ce4",
       "version_major": 2,
       "version_minor": 0
      },
      "text/plain": [
       "HBox(children=(IntProgress(value=0, description='Running Simulation ', max=5000, style=ProgressStyle(descripti…"
      ]
     },
     "metadata": {},
     "output_type": "display_data"
    },
    {
     "name": "stdout",
     "output_type": "stream",
     "text": [
      "Running Regression: 292 nodes\n",
      "Running Regression: 150 nodes\n",
      "Running Regression: 250 nodes\n",
      "Running Regression: 200 nodes\n",
      "Running Linear Transformation Simulations\n",
      "23\n",
      "2\n",
      "Parameter 24 , Network 3\n",
      "\n"
     ]
    },
    {
     "data": {
      "application/vnd.jupyter.widget-view+json": {
       "model_id": "01f5e8c437a44bf289dccac4fca80261",
       "version_major": 2,
       "version_minor": 0
      },
      "text/plain": [
       "HBox(children=(IntProgress(value=0, description='Running Simulation ', max=5000, style=ProgressStyle(descripti…"
      ]
     },
     "metadata": {},
     "output_type": "display_data"
    },
    {
     "name": "stderr",
     "output_type": "stream",
     "text": [
      "2020-09-03 17:06:50,844:INFO:First current path [22, 222, 23, 216, 26, 265, 201, 213, 204, 163] formed at time = 0.692 s.\n"
     ]
    },
    {
     "name": "stdout",
     "output_type": "stream",
     "text": [
      "Saving 10 Simulations for Network 23 Parameter 10\n",
      "Regressing Parameter 23 , Network 10\n",
      "Running Regression: 50 nodes\n",
      "Running Regression: 100 nodes\n",
      "Running Regression: 291 nodes\n",
      "Running Regression: 250 nodes\n",
      "Running Regression: 150 nodes\n",
      "Running Linear Transformation Simulations\n",
      "23\n",
      "3\n",
      "Parameter 24 , Network 4\n"
     ]
    },
    {
     "data": {
      "application/vnd.jupyter.widget-view+json": {
       "model_id": "aa1123738703491399f1e2eb21c3cc10",
       "version_major": 2,
       "version_minor": 0
      },
      "text/plain": [
       "HBox(children=(IntProgress(value=0, description='Running Simulation ', max=5000, style=ProgressStyle(descripti…"
      ]
     },
     "metadata": {},
     "output_type": "display_data"
    },
    {
     "name": "stdout",
     "output_type": "stream",
     "text": [
      "Running Regression: 200 nodes\n",
      "Running Regression: 285 nodes\n",
      "\n",
      "Running Linear Transformation Simulations\n",
      "23\n",
      "4\n",
      "Parameter 24 , Network 5\n",
      "Running Regression: 250 nodes\n"
     ]
    },
    {
     "data": {
      "application/vnd.jupyter.widget-view+json": {
       "model_id": "b16c7b60523647b081caf9511f0c014b",
       "version_major": 2,
       "version_minor": 0
      },
      "text/plain": [
       "HBox(children=(IntProgress(value=0, description='Running Simulation ', max=5000, style=ProgressStyle(descripti…"
      ]
     },
     "metadata": {},
     "output_type": "display_data"
    },
    {
     "name": "stdout",
     "output_type": "stream",
     "text": [
      "Unfortunately, only 0 current paths found in simulation time.\n"
     ]
    },
    {
     "name": "stderr",
     "output_type": "stream",
     "text": [
      "2020-09-03 17:06:59,425:INFO:Unfortunately, no current path is formed in simulation time.\n"
     ]
    },
    {
     "name": "stdout",
     "output_type": "stream",
     "text": [
      "Saving 10 Simulations for Network 24 Parameter 1\n",
      "Regressing Parameter 24 , Network 1\n",
      "Running Regression: 50 nodes\n",
      "Running Regression: 100 nodes\n",
      "Running Regression: 150 nodes\n",
      "\n",
      "Running Regression: 285 nodes\n",
      "Running Linear Transformation Simulations\n",
      "23\n",
      "5\n",
      "Parameter 24 , Network 6\n"
     ]
    },
    {
     "data": {
      "application/vnd.jupyter.widget-view+json": {
       "model_id": "b9b74a6fd40c466cbf3b05d720456edb",
       "version_major": 2,
       "version_minor": 0
      },
      "text/plain": [
       "HBox(children=(IntProgress(value=0, description='Running Simulation ', max=5000, style=ProgressStyle(descripti…"
      ]
     },
     "metadata": {},
     "output_type": "display_data"
    },
    {
     "name": "stdout",
     "output_type": "stream",
     "text": [
      "Running Regression: 200 nodes\n",
      "Unfortunately, only 0 current paths found in simulation time.\n"
     ]
    },
    {
     "name": "stderr",
     "output_type": "stream",
     "text": [
      "2020-09-03 17:07:03,185:INFO:Unfortunately, no current path is formed in simulation time.\n"
     ]
    },
    {
     "name": "stdout",
     "output_type": "stream",
     "text": [
      "Saving 10 Simulations for Network 24 Parameter 2\n",
      "Regressing Parameter 24 , Network 2\n",
      "Running Regression: 50 nodes\n",
      "Running Regression: 100 nodes\n",
      "\n",
      "Running Regression: 150 nodes\n"
     ]
    },
    {
     "name": "stderr",
     "output_type": "stream",
     "text": [
      "2020-09-03 17:07:05,152:INFO:First current path [56, 118, 273, 59, 247, 184, 74, 238, 60, 263, 219] formed at time = 0.791 s.\n"
     ]
    },
    {
     "name": "stdout",
     "output_type": "stream",
     "text": [
      "Saving 10 Simulations for Network 24 Parameter 3\n",
      "Regressing Parameter 24 , Network 3\n",
      "Running Regression: 50 nodes\n",
      "Running Regression: 100 nodes\n",
      "Running Regression: 250 nodes\n",
      "Running Linear Transformation Simulations\n",
      "23\n",
      "6\n",
      "Parameter 24 , Network 7\n"
     ]
    },
    {
     "data": {
      "application/vnd.jupyter.widget-view+json": {
       "model_id": "c5305748ec814a5e80d43974afe4034a",
       "version_major": 2,
       "version_minor": 0
      },
      "text/plain": [
       "HBox(children=(IntProgress(value=0, description='Running Simulation ', max=5000, style=ProgressStyle(descripti…"
      ]
     },
     "metadata": {},
     "output_type": "display_data"
    },
    {
     "name": "stdout",
     "output_type": "stream",
     "text": [
      "Running Regression: 150 nodes\n",
      "Running Regression: 200 nodes\n",
      "\n",
      "Running Regression: 200 nodes\n",
      "Running Regression: 250 nodes\n",
      "Running Regression: 300 nodes\n",
      "Running Linear Transformation Simulations\n",
      "23\n",
      "7\n",
      "Parameter 24 , Network 8\n"
     ]
    },
    {
     "data": {
      "application/vnd.jupyter.widget-view+json": {
       "model_id": "5537010cb1d54eb4b0f05d326a1abfae",
       "version_major": 2,
       "version_minor": 0
      },
      "text/plain": [
       "HBox(children=(IntProgress(value=0, description='Running Simulation ', max=5000, style=ProgressStyle(descripti…"
      ]
     },
     "metadata": {},
     "output_type": "display_data"
    },
    {
     "name": "stdout",
     "output_type": "stream",
     "text": [
      "\n",
      "Unfortunately, only 0 current paths found in simulation time.\n"
     ]
    },
    {
     "name": "stderr",
     "output_type": "stream",
     "text": [
      "2020-09-03 17:07:11,621:INFO:Unfortunately, no current path is formed in simulation time.\n"
     ]
    },
    {
     "name": "stdout",
     "output_type": "stream",
     "text": [
      "Saving 10 Simulations for Network 24 Parameter 4\n",
      "Regressing Parameter 24 , Network 4\n",
      "Running Regression: 50 nodes\n"
     ]
    },
    {
     "name": "stderr",
     "output_type": "stream",
     "text": [
      "2020-09-03 17:07:11,689:INFO:First current path [11, 54, 96, 110, 205, 77, 84, 254, 236, 140] formed at time = 0.681 s.\n"
     ]
    },
    {
     "name": "stdout",
     "output_type": "stream",
     "text": [
      "Saving 10 Simulations for Network 24 Parameter 5\n",
      "Running Regression: 250 nodes\n",
      "Regressing Parameter 24 , Network 5\n",
      "Running Regression: 50 nodes\n",
      "Running Regression: 100 nodes\n",
      "Running Regression: 100 nodes\n",
      "Running Regression: 150 nodes\n",
      "Running Regression: 150 nodes\n",
      "Running Linear Transformation Simulations\n",
      "23\n",
      "8\n",
      "Parameter 24 , Network 9\n"
     ]
    },
    {
     "data": {
      "application/vnd.jupyter.widget-view+json": {
       "model_id": "668238cdc8ec41ce897a23e47f21113f",
       "version_major": 2,
       "version_minor": 0
      },
      "text/plain": [
       "HBox(children=(IntProgress(value=0, description='Running Simulation ', max=5000, style=ProgressStyle(descripti…"
      ]
     },
     "metadata": {},
     "output_type": "display_data"
    },
    {
     "name": "stdout",
     "output_type": "stream",
     "text": [
      "Running Regression: 300 nodes\n",
      "Running Regression: 200 nodes\n",
      "Running Regression: 200 nodes\n",
      "Running Regression: 297 nodes\n",
      "\n"
     ]
    },
    {
     "name": "stderr",
     "output_type": "stream",
     "text": [
      "2020-09-03 17:07:16,827:INFO:First current path [56, 132, 12, 258, 28, 149, 150, 10, 75, 195, 113] formed at time = 0.824 s.\n"
     ]
    },
    {
     "name": "stdout",
     "output_type": "stream",
     "text": [
      "Saving 10 Simulations for Network 24 Parameter 6\n",
      "Regressing Parameter 24 , Network 6\n",
      "Running Regression: 50 nodes\n",
      "Running Regression: 100 nodes\n",
      "Running Regression: 150 nodes\n",
      "Running Regression: 250 nodes\n",
      "Running Regression: 250 nodes\n",
      "Running Linear Transformation Simulations\n",
      "23\n",
      "9\n",
      "Parameter 24 , Network 10\n"
     ]
    },
    {
     "data": {
      "application/vnd.jupyter.widget-view+json": {
       "model_id": "ce870e5d65414f9ea232262076682ab1",
       "version_major": 2,
       "version_minor": 0
      },
      "text/plain": [
       "HBox(children=(IntProgress(value=0, description='Running Simulation ', max=5000, style=ProgressStyle(descripti…"
      ]
     },
     "metadata": {},
     "output_type": "display_data"
    },
    {
     "name": "stdout",
     "output_type": "stream",
     "text": [
      "Running Regression: 200 nodes\n",
      "\n"
     ]
    },
    {
     "name": "stderr",
     "output_type": "stream",
     "text": [
      "2020-09-03 17:07:20,502:INFO:First current path [10, 104, 200, 270, 38, 19, 66, 171, 264] formed at time = 0.638 s.\n"
     ]
    },
    {
     "name": "stdout",
     "output_type": "stream",
     "text": [
      "Saving 10 Simulations for Network 24 Parameter 7\n",
      "Regressing Parameter 24 , Network 7\n",
      "Running Regression: 50 nodes\n",
      "Running Regression: 100 nodes\n",
      "Running Regression: 150 nodes\n",
      "Running Regression: 250 nodes\n",
      "Running Regression: 297 nodes\n",
      "Running Regression: 296 nodes\n",
      "Running Regression: 200 nodes\n",
      "\n",
      "Running Linear Transformation Simulations\n",
      "24\n",
      "0\n",
      "Parameter 25 , Network 1\n"
     ]
    },
    {
     "data": {
      "application/vnd.jupyter.widget-view+json": {
       "model_id": "6fecdf3a9ded409982db91df512f63d1",
       "version_major": 2,
       "version_minor": 0
      },
      "text/plain": [
       "HBox(children=(IntProgress(value=0, description='Running Simulation ', max=5000, style=ProgressStyle(descripti…"
      ]
     },
     "metadata": {},
     "output_type": "display_data"
    },
    {
     "name": "stderr",
     "output_type": "stream",
     "text": [
      "2020-09-03 17:07:24,911:INFO:First current path [22, 69, 250, 34, 178, 30, 209, 180, 53] formed at time = 0.697 s.\n"
     ]
    },
    {
     "name": "stdout",
     "output_type": "stream",
     "text": [
      "Saving 10 Simulations for Network 24 Parameter 8\n",
      "Regressing Parameter 24 , Network 8\n",
      "Running Regression: 50 nodes\n",
      "Running Regression: 100 nodes\n",
      "Running Regression: 150 nodes\n",
      "Running Regression: 296 nodes\n",
      "Running Regression: 250 nodes\n",
      "Running Regression: 200 nodes\n",
      "\n"
     ]
    },
    {
     "name": "stderr",
     "output_type": "stream",
     "text": [
      "2020-09-03 17:07:28,902:INFO:First current path [53, 60, 123, 91, 38, 16, 219, 120, 277] formed at time = 0.639 s.\n"
     ]
    },
    {
     "name": "stdout",
     "output_type": "stream",
     "text": [
      "Saving 10 Simulations for Network 24 Parameter 9\n",
      "Regressing Parameter 24 , Network 9\n",
      "Running Regression: 50 nodes\n",
      "Running Linear Transformation Simulations\n",
      "24\n",
      "1\n",
      "Parameter 25 , Network 2\n"
     ]
    },
    {
     "data": {
      "application/vnd.jupyter.widget-view+json": {
       "model_id": "e5f11ab0198e4dad9c59dba8fcd2634b",
       "version_major": 2,
       "version_minor": 0
      },
      "text/plain": [
       "HBox(children=(IntProgress(value=0, description='Running Simulation ', max=5000, style=ProgressStyle(descripti…"
      ]
     },
     "metadata": {},
     "output_type": "display_data"
    },
    {
     "name": "stdout",
     "output_type": "stream",
     "text": [
      "Running Regression: 100 nodes\n",
      "Running Regression: 150 nodes\n",
      "Running Regression: 250 nodes\n",
      "Running Regression: 298 nodes\n",
      "Running Linear Transformation Simulations\n",
      "24\n",
      "2\n",
      "Parameter 25 , Network 3\n",
      "Running Regression: 200 nodes\n"
     ]
    },
    {
     "data": {
      "application/vnd.jupyter.widget-view+json": {
       "model_id": "d245e93a1c774752bad3745b748377ac",
       "version_major": 2,
       "version_minor": 0
      },
      "text/plain": [
       "HBox(children=(IntProgress(value=0, description='Running Simulation ', max=5000, style=ProgressStyle(descripti…"
      ]
     },
     "metadata": {},
     "output_type": "display_data"
    },
    {
     "name": "stdout",
     "output_type": "stream",
     "text": [
      "\n"
     ]
    },
    {
     "name": "stderr",
     "output_type": "stream",
     "text": [
      "2020-09-03 17:07:34,645:INFO:First current path [28, 228, 37, 80, 263, 16, 155, 25] formed at time = 0.585 s.\n"
     ]
    },
    {
     "name": "stdout",
     "output_type": "stream",
     "text": [
      "Saving 10 Simulations for Network 24 Parameter 10\n",
      "Regressing Parameter 24 , Network 10\n",
      "Running Regression: 50 nodes\n",
      "Running Regression: 100 nodes\n",
      "Running Regression: 250 nodes\n",
      "Running Regression: 295 nodes\n",
      "Running Regression: 150 nodes\n",
      "Running Linear Transformation Simulations\n",
      "24\n",
      "3\n",
      "Parameter 25 , Network 4\n"
     ]
    },
    {
     "data": {
      "application/vnd.jupyter.widget-view+json": {
       "model_id": "a809fefa6e40498d8f1e8c9951f6e1ab",
       "version_major": 2,
       "version_minor": 0
      },
      "text/plain": [
       "HBox(children=(IntProgress(value=0, description='Running Simulation ', max=5000, style=ProgressStyle(descripti…"
      ]
     },
     "metadata": {},
     "output_type": "display_data"
    },
    {
     "name": "stdout",
     "output_type": "stream",
     "text": [
      "Running Regression: 200 nodes\n",
      "Running Regression: 293 nodes\n",
      "\n"
     ]
    },
    {
     "name": "stderr",
     "output_type": "stream",
     "text": [
      "2020-09-03 17:07:40,499:INFO:First current path [212, 148, 266, 186, 85, 192, 169, 129, 150, 109] formed at time = 0.689 s.\n"
     ]
    },
    {
     "name": "stdout",
     "output_type": "stream",
     "text": [
      "Saving 10 Simulations for Network 25 Parameter 1\n",
      "Regressing Parameter 25 , Network 1\n",
      "Running Regression: 50 nodes\n",
      "Running Linear Transformation Simulations\n",
      "24\n",
      "4\n",
      "Parameter 25 , Network 5\n"
     ]
    },
    {
     "data": {
      "application/vnd.jupyter.widget-view+json": {
       "model_id": "dcc749b432894ce681f966c2657bf967",
       "version_major": 2,
       "version_minor": 0
      },
      "text/plain": [
       "HBox(children=(IntProgress(value=0, description='Running Simulation ', max=5000, style=ProgressStyle(descripti…"
      ]
     },
     "metadata": {},
     "output_type": "display_data"
    },
    {
     "name": "stdout",
     "output_type": "stream",
     "text": [
      "Running Regression: 100 nodes\n",
      "Running Regression: 250 nodes\n",
      "Running Regression: 150 nodes\n",
      "Running Regression: 200 nodes\n",
      "\n",
      "Running Linear Transformation Simulations\n",
      "24\n",
      "5\n",
      "Parameter 25 , Network 6\n"
     ]
    },
    {
     "name": "stderr",
     "output_type": "stream",
     "text": [
      "2020-09-03 17:07:45,083:INFO:First current path [82, 229, 5, 254, 73, 294, 75, 148, 253] formed at time = 0.612 s.\n"
     ]
    },
    {
     "name": "stdout",
     "output_type": "stream",
     "text": [
      "Saving 10 Simulations for Network 25 Parameter 2\n",
      "Regressing Parameter 25 , Network 2\n",
      "Running Regression: 50 nodes\n"
     ]
    },
    {
     "data": {
      "application/vnd.jupyter.widget-view+json": {
       "model_id": "0a22d03aac2d4fbc88c67f94ffa4ac91",
       "version_major": 2,
       "version_minor": 0
      },
      "text/plain": [
       "HBox(children=(IntProgress(value=0, description='Running Simulation ', max=5000, style=ProgressStyle(descripti…"
      ]
     },
     "metadata": {},
     "output_type": "display_data"
    },
    {
     "name": "stdout",
     "output_type": "stream",
     "text": [
      "Running Regression: 297 nodes\n",
      "Running Regression: 100 nodes\n",
      "Running Regression: 150 nodes\n",
      "Running Regression: 250 nodes\n",
      "\n"
     ]
    },
    {
     "name": "stderr",
     "output_type": "stream",
     "text": [
      "2020-09-03 17:07:48,586:INFO:First current path [192, 292, 222, 176, 153, 195, 17, 168, 136, 99] formed at time = 0.696 s.\n"
     ]
    },
    {
     "name": "stdout",
     "output_type": "stream",
     "text": [
      "Saving 10 Simulations for Network 25 Parameter 3\n",
      "Regressing Parameter 25 , Network 3\n",
      "Running Regression: 50 nodes\n",
      "Running Regression: 200 nodes\n",
      "Running Regression: 100 nodes\n",
      "Running Linear Transformation Simulations\n",
      "24\n",
      "6\n",
      "Parameter 25 , Network 7\n"
     ]
    },
    {
     "data": {
      "application/vnd.jupyter.widget-view+json": {
       "model_id": "5ea0a7ee4f8241b398dad419bd81dbee",
       "version_major": 2,
       "version_minor": 0
      },
      "text/plain": [
       "HBox(children=(IntProgress(value=0, description='Running Simulation ', max=5000, style=ProgressStyle(descripti…"
      ]
     },
     "metadata": {},
     "output_type": "display_data"
    },
    {
     "name": "stdout",
     "output_type": "stream",
     "text": [
      "Running Regression: 150 nodes\n",
      "Running Regression: 299 nodes\n",
      "\n",
      "Running Regression: 250 nodes\n"
     ]
    },
    {
     "name": "stderr",
     "output_type": "stream",
     "text": [
      "2020-09-03 17:07:52,074:INFO:First current path [211, 259, 133, 156, 268, 172, 148, 89, 226, 8] formed at time = 0.728 s.\n"
     ]
    },
    {
     "name": "stdout",
     "output_type": "stream",
     "text": [
      "Saving 10 Simulations for Network 25 Parameter 4\n",
      "Regressing Parameter 25 , Network 4\n",
      "Running Regression: 50 nodes\n",
      "Running Regression: 200 nodes\n",
      "Running Regression: 100 nodes\n",
      "Running Linear Transformation Simulations\n",
      "24\n",
      "7\n",
      "Parameter 25 , Network 8\n"
     ]
    },
    {
     "data": {
      "application/vnd.jupyter.widget-view+json": {
       "model_id": "07b33bf01f7d4a85ab9587f93f835f89",
       "version_major": 2,
       "version_minor": 0
      },
      "text/plain": [
       "HBox(children=(IntProgress(value=0, description='Running Simulation ', max=5000, style=ProgressStyle(descripti…"
      ]
     },
     "metadata": {},
     "output_type": "display_data"
    },
    {
     "name": "stdout",
     "output_type": "stream",
     "text": [
      "Running Regression: 150 nodes\n",
      "Running Regression: 250 nodes\n",
      "Running Regression: 200 nodes\n",
      "\n"
     ]
    },
    {
     "name": "stderr",
     "output_type": "stream",
     "text": [
      "2020-09-03 17:07:56,537:INFO:First current path [83, 243, 218, 296, 191, 49, 176, 170, 72, 255, 177] formed at time = 0.794 s.\n"
     ]
    },
    {
     "name": "stdout",
     "output_type": "stream",
     "text": [
      "Saving 10 Simulations for Network 25 Parameter 5\n",
      "Regressing Parameter 25 , Network 5\n",
      "Running Regression: 50 nodes\n",
      "Running Regression: 299 nodes\n",
      "Running Regression: 100 nodes\n",
      "Running Linear Transformation Simulations\n",
      "24\n",
      "8\n",
      "Parameter 25 , Network 9\n",
      "Running Regression: 150 nodes\n"
     ]
    },
    {
     "data": {
      "application/vnd.jupyter.widget-view+json": {
       "model_id": "d8c5bc83ed374174931306385a5d7374",
       "version_major": 2,
       "version_minor": 0
      },
      "text/plain": [
       "HBox(children=(IntProgress(value=0, description='Running Simulation ', max=5000, style=ProgressStyle(descripti…"
      ]
     },
     "metadata": {},
     "output_type": "display_data"
    },
    {
     "name": "stdout",
     "output_type": "stream",
     "text": [
      "Running Regression: 250 nodes\n",
      "Running Regression: 299 nodes\n",
      "\n",
      "Running Regression: 200 nodes\n"
     ]
    },
    {
     "name": "stderr",
     "output_type": "stream",
     "text": [
      "2020-09-03 17:08:00,406:INFO:First current path [187, 247, 201, 299, 248, 50, 244, 78, 174, 245] formed at time = 0.699 s.\n"
     ]
    },
    {
     "name": "stdout",
     "output_type": "stream",
     "text": [
      "Saving 10 Simulations for Network 25 Parameter 6\n",
      "Regressing Parameter 25 , Network 6\n",
      "Running Regression: 50 nodes\n",
      "Running Regression: 100 nodes\n",
      "Running Regression: 150 nodes\n",
      "Running Linear Transformation Simulations\n",
      "24\n",
      "9\n",
      "Parameter 25 , Network 10\n"
     ]
    },
    {
     "data": {
      "application/vnd.jupyter.widget-view+json": {
       "model_id": "135346a912164db394afd1b32c572379",
       "version_major": 2,
       "version_minor": 0
      },
      "text/plain": [
       "HBox(children=(IntProgress(value=0, description='Running Simulation ', max=5000, style=ProgressStyle(descripti…"
      ]
     },
     "metadata": {},
     "output_type": "display_data"
    },
    {
     "name": "stdout",
     "output_type": "stream",
     "text": [
      "Running Regression: 250 nodes\n",
      "Running Regression: 299 nodes\n",
      "Running Regression: 200 nodes\n",
      "\n"
     ]
    },
    {
     "name": "stderr",
     "output_type": "stream",
     "text": [
      "2020-09-03 17:08:04,960:INFO:First current path [3, 91, 296, 217, 81, 27, 48, 96] formed at time = 0.581 s.\n"
     ]
    },
    {
     "name": "stdout",
     "output_type": "stream",
     "text": [
      "Saving 10 Simulations for Network 25 Parameter 7\n",
      "Regressing Parameter 25 , Network 7\n",
      "Running Regression: 50 nodes\n",
      "Running Regression: 100 nodes\n",
      "Running Regression: 250 nodes\n",
      "Running Regression: 150 nodes\n",
      "Running Linear Transformation Simulations\n",
      "25\n",
      "0\n",
      "Parameter 26 , Network 1\n"
     ]
    },
    {
     "data": {
      "application/vnd.jupyter.widget-view+json": {
       "model_id": "a2d0e160917547fc80ae52dc73d6d9de",
       "version_major": 2,
       "version_minor": 0
      },
      "text/plain": [
       "HBox(children=(IntProgress(value=0, description='Running Simulation ', max=5000, style=ProgressStyle(descripti…"
      ]
     },
     "metadata": {},
     "output_type": "display_data"
    },
    {
     "name": "stdout",
     "output_type": "stream",
     "text": [
      "\n",
      "Running Regression: 300 nodes\n"
     ]
    },
    {
     "name": "stderr",
     "output_type": "stream",
     "text": [
      "2020-09-03 17:08:08,101:INFO:First current path [7, 244, 34, 117, 1, 19, 17, 289] formed at time = 0.586 s.\n"
     ]
    },
    {
     "name": "stdout",
     "output_type": "stream",
     "text": [
      "Saving 10 Simulations for Network 25 Parameter 8\n",
      "Regressing Parameter 25 , Network 8\n",
      "Running Regression: 50 nodes\n",
      "Running Regression: 100 nodes\n",
      "Running Regression: 200 nodes\n",
      "Running Regression: 150 nodes\n",
      "Running Regression: 300 nodes\n",
      "Running Linear Transformation Simulations\n",
      "25\n",
      "1\n",
      "Parameter 26 , Network 2\n"
     ]
    },
    {
     "data": {
      "application/vnd.jupyter.widget-view+json": {
       "model_id": "38b731b8121243a28f5b84ac7bce47ca",
       "version_major": 2,
       "version_minor": 0
      },
      "text/plain": [
       "HBox(children=(IntProgress(value=0, description='Running Simulation ', max=5000, style=ProgressStyle(descripti…"
      ]
     },
     "metadata": {},
     "output_type": "display_data"
    },
    {
     "name": "stdout",
     "output_type": "stream",
     "text": [
      "Running Regression: 250 nodes\n",
      "Running Regression: 200 nodes\n",
      "\n"
     ]
    },
    {
     "name": "stderr",
     "output_type": "stream",
     "text": [
      "2020-09-03 17:08:13,393:INFO:First current path [87, 277, 35, 148, 201, 225, 2, 118, 43] formed at time = 0.677 s.\n"
     ]
    },
    {
     "name": "stdout",
     "output_type": "stream",
     "text": [
      "Saving 10 Simulations for Network 25 Parameter 9\n",
      "Regressing Parameter 25 , Network 9\n",
      "Running Regression: 50 nodes\n",
      "Running Regression: 100 nodes\n",
      "Running Regression: 250 nodes\n",
      "Running Regression: 150 nodes\n",
      "Running Linear Transformation Simulations\n",
      "25\n",
      "2\n",
      "Parameter 26 , Network 3\n"
     ]
    },
    {
     "data": {
      "application/vnd.jupyter.widget-view+json": {
       "model_id": "a393fba0e72643c8b477faa07eafcbfc",
       "version_major": 2,
       "version_minor": 0
      },
      "text/plain": [
       "HBox(children=(IntProgress(value=0, description='Running Simulation ', max=5000, style=ProgressStyle(descripti…"
      ]
     },
     "metadata": {},
     "output_type": "display_data"
    },
    {
     "name": "stdout",
     "output_type": "stream",
     "text": [
      "Running Regression: 299 nodes\n",
      "Running Regression: 200 nodes\n",
      "\n"
     ]
    },
    {
     "name": "stderr",
     "output_type": "stream",
     "text": [
      "2020-09-03 17:08:17,895:INFO:First current path [3, 70, 272, 270, 12, 264, 237, 295] formed at time = 0.565 s.\n"
     ]
    },
    {
     "name": "stdout",
     "output_type": "stream",
     "text": [
      "Saving 10 Simulations for Network 25 Parameter 10\n",
      "Regressing Parameter 25 , Network 10\n",
      "Running Regression: 50 nodes\n",
      "Running Regression: 100 nodes\n",
      "Running Linear Transformation Simulations\n",
      "25\n",
      "3\n",
      "Parameter 26 , Network 4\n"
     ]
    },
    {
     "data": {
      "application/vnd.jupyter.widget-view+json": {
       "model_id": "f25ff782a7f34197bf0e7f900afe3ad6",
       "version_major": 2,
       "version_minor": 0
      },
      "text/plain": [
       "HBox(children=(IntProgress(value=0, description='Running Simulation ', max=5000, style=ProgressStyle(descripti…"
      ]
     },
     "metadata": {},
     "output_type": "display_data"
    },
    {
     "name": "stdout",
     "output_type": "stream",
     "text": [
      "Running Regression: 296 nodes\n",
      "Running Regression: 150 nodes\n",
      "Running Regression: 250 nodes\n",
      "Running Regression: 200 nodes\n",
      "\n",
      "Running Linear Transformation Simulations\n",
      "25\n",
      "4\n",
      "Parameter 26 , Network 5\n"
     ]
    },
    {
     "data": {
      "application/vnd.jupyter.widget-view+json": {
       "model_id": "8f6f5d7ad5664994a3ab1b38a10c6445",
       "version_major": 2,
       "version_minor": 0
      },
      "text/plain": [
       "HBox(children=(IntProgress(value=0, description='Running Simulation ', max=5000, style=ProgressStyle(descripti…"
      ]
     },
     "metadata": {},
     "output_type": "display_data"
    },
    {
     "name": "stderr",
     "output_type": "stream",
     "text": [
      "2020-09-03 17:08:23,651:INFO:First current path [175, 151, 137, 44, 111, 292, 219, 185, 291] formed at time = 0.661 s.\n"
     ]
    },
    {
     "name": "stdout",
     "output_type": "stream",
     "text": [
      "Saving 10 Simulations for Network 26 Parameter 1\n",
      "Regressing Parameter 26 , Network 1\n",
      "Running Regression: 50 nodes\n",
      "Running Regression: 100 nodes\n",
      "Running Regression: 250 nodes\n",
      "Running Regression: 298 nodes\n",
      "Running Regression: 150 nodes\n",
      "\n"
     ]
    },
    {
     "name": "stderr",
     "output_type": "stream",
     "text": [
      "2020-09-03 17:08:26,835:INFO:First current path [88, 158, 218, 287, 16, 121, 290, 184, 10] formed at time = 0.625 s.\n"
     ]
    },
    {
     "name": "stdout",
     "output_type": "stream",
     "text": [
      "Saving 10 Simulations for Network 26 Parameter 2\n",
      "Regressing Parameter 26 , Network 2\n",
      "Running Regression: 50 nodes\n",
      "Running Regression: 200 nodes\n",
      "Running Regression: 100 nodes\n",
      "Running Linear Transformation Simulations\n",
      "25\n",
      "5\n",
      "Parameter 26 , Network 6\n"
     ]
    },
    {
     "data": {
      "application/vnd.jupyter.widget-view+json": {
       "model_id": "185fed4df27048a6bc9a1e0ea665ab7d",
       "version_major": 2,
       "version_minor": 0
      },
      "text/plain": [
       "HBox(children=(IntProgress(value=0, description='Running Simulation ', max=5000, style=ProgressStyle(descripti…"
      ]
     },
     "metadata": {},
     "output_type": "display_data"
    },
    {
     "name": "stdout",
     "output_type": "stream",
     "text": [
      "Running Regression: 150 nodes\n",
      "Running Regression: 299 nodes\n",
      "Running Regression: 250 nodes\n",
      "Running Regression: 200 nodes\n",
      "\n"
     ]
    },
    {
     "name": "stderr",
     "output_type": "stream",
     "text": [
      "2020-09-03 17:08:31,328:INFO:First current path [239, 174, 47, 281, 17, 61, 192, 262, 132, 96] formed at time = 0.708 s.\n"
     ]
    },
    {
     "name": "stdout",
     "output_type": "stream",
     "text": [
      "Saving 10 Simulations for Network 26 Parameter 3\n",
      "Regressing Parameter 26 , Network 3\n",
      "Running Regression: 50 nodes\n",
      "Running Regression: 100 nodes\n",
      "Running Linear Transformation Simulations\n",
      "25\n",
      "6\n",
      "Parameter 26 , Network 7\n"
     ]
    },
    {
     "data": {
      "application/vnd.jupyter.widget-view+json": {
       "model_id": "8f5765a5dd5f44709ee80c5adf83630b",
       "version_major": 2,
       "version_minor": 0
      },
      "text/plain": [
       "HBox(children=(IntProgress(value=0, description='Running Simulation ', max=5000, style=ProgressStyle(descripti…"
      ]
     },
     "metadata": {},
     "output_type": "display_data"
    },
    {
     "name": "stdout",
     "output_type": "stream",
     "text": [
      "Running Regression: 150 nodes\n",
      "Running Regression: 250 nodes\n",
      "Running Regression: 300 nodes\n",
      "\n",
      "Running Regression: 200 nodes\n"
     ]
    },
    {
     "name": "stderr",
     "output_type": "stream",
     "text": [
      "2020-09-03 17:08:35,221:INFO:First current path [128, 60, 95, 106, 164, 174, 169, 90, 76] formed at time = 0.628 s.\n"
     ]
    },
    {
     "name": "stdout",
     "output_type": "stream",
     "text": [
      "Saving 10 Simulations for Network 26 Parameter 4\n",
      "Regressing Parameter 26 , Network 4\n",
      "Running Regression: 50 nodes\n",
      "Running Regression: 100 nodes\n",
      "Running Linear Transformation Simulations\n",
      "25\n",
      "7\n",
      "Parameter 26 , Network 8\n"
     ]
    },
    {
     "data": {
      "application/vnd.jupyter.widget-view+json": {
       "model_id": "dac26e6dcea142e59e18456dae36a557",
       "version_major": 2,
       "version_minor": 0
      },
      "text/plain": [
       "HBox(children=(IntProgress(value=0, description='Running Simulation ', max=5000, style=ProgressStyle(descripti…"
      ]
     },
     "metadata": {},
     "output_type": "display_data"
    },
    {
     "name": "stdout",
     "output_type": "stream",
     "text": [
      "Running Regression: 150 nodes\n",
      "Running Regression: 250 nodes\n",
      "Running Regression: 298 nodes\n",
      "Running Regression: 200 nodes\n",
      "\n"
     ]
    },
    {
     "name": "stderr",
     "output_type": "stream",
     "text": [
      "2020-09-03 17:08:39,567:INFO:First current path [298, 252, 102, 110, 299, 168, 65, 209] formed at time = 0.559 s.\n"
     ]
    },
    {
     "name": "stdout",
     "output_type": "stream",
     "text": [
      "Saving 10 Simulations for Network 26 Parameter 5\n",
      "Regressing Parameter 26 , Network 5\n",
      "Running Regression: 50 nodes\n",
      "Running Regression: 100 nodes\n",
      "Running Regression: 150 nodes\n",
      "Running Linear Transformation Simulations\n",
      "25\n",
      "8\n",
      "Parameter 26 , Network 9\n"
     ]
    },
    {
     "data": {
      "application/vnd.jupyter.widget-view+json": {
       "model_id": "f4e16d4187804190b8c1cb3e9696cdde",
       "version_major": 2,
       "version_minor": 0
      },
      "text/plain": [
       "HBox(children=(IntProgress(value=0, description='Running Simulation ', max=5000, style=ProgressStyle(descripti…"
      ]
     },
     "metadata": {},
     "output_type": "display_data"
    },
    {
     "name": "stdout",
     "output_type": "stream",
     "text": [
      "Running Regression: 250 nodes\n",
      "Running Regression: 300 nodes\n",
      "Running Regression: 200 nodes\n",
      "\n"
     ]
    },
    {
     "name": "stderr",
     "output_type": "stream",
     "text": [
      "2020-09-03 17:08:43,900:INFO:First current path [10, 71, 107, 86, 281, 130, 117, 103] formed at time = 0.567 s.\n"
     ]
    },
    {
     "name": "stdout",
     "output_type": "stream",
     "text": [
      "Saving 10 Simulations for Network 26 Parameter 6\n",
      "Regressing Parameter 26 , Network 6\n",
      "Running Regression: 50 nodes\n",
      "Running Regression: 100 nodes\n",
      "Running Linear Transformation Simulations\n",
      "25\n",
      "9\n",
      "Parameter 26 , Network 10\n"
     ]
    },
    {
     "data": {
      "application/vnd.jupyter.widget-view+json": {
       "model_id": "b580dc632dc24e95957ec036976c27a4",
       "version_major": 2,
       "version_minor": 0
      },
      "text/plain": [
       "HBox(children=(IntProgress(value=0, description='Running Simulation ', max=5000, style=ProgressStyle(descripti…"
      ]
     },
     "metadata": {},
     "output_type": "display_data"
    },
    {
     "name": "stdout",
     "output_type": "stream",
     "text": [
      "Running Regression: 150 nodes\n",
      "Running Regression: 300 nodes\n",
      "Running Regression: 250 nodes\n",
      "Running Regression: 200 nodes\n",
      "\n"
     ]
    },
    {
     "name": "stderr",
     "output_type": "stream",
     "text": [
      "2020-09-03 17:08:48,313:INFO:First current path [7, 237, 146, 178, 160, 53, 32, 102] formed at time = 0.577 s.\n"
     ]
    },
    {
     "name": "stdout",
     "output_type": "stream",
     "text": [
      "Saving 10 Simulations for Network 26 Parameter 7\n",
      "Regressing Parameter 26 , Network 7\n",
      "Running Regression: 50 nodes\n",
      "Running Regression: 100 nodes\n",
      "Running Regression: 150 nodes\n",
      "Running Linear Transformation Simulations\n",
      "26\n",
      "0\n",
      "Parameter 27 , Network 1\n",
      "Running Regression: 250 nodes\n"
     ]
    },
    {
     "data": {
      "application/vnd.jupyter.widget-view+json": {
       "model_id": "b9095f1d5b9c4444b3902b25d94ab5c5",
       "version_major": 2,
       "version_minor": 0
      },
      "text/plain": [
       "HBox(children=(IntProgress(value=0, description='Running Simulation ', max=5000, style=ProgressStyle(descripti…"
      ]
     },
     "metadata": {},
     "output_type": "display_data"
    },
    {
     "name": "stdout",
     "output_type": "stream",
     "text": [
      "Running Regression: 300 nodes\n",
      "\n",
      "Running Regression: 200 nodes\n"
     ]
    },
    {
     "name": "stderr",
     "output_type": "stream",
     "text": [
      "2020-09-03 17:08:52,197:INFO:First current path [119, 44, 289, 176, 241, 181, 51, 129, 50] formed at time = 0.637 s.\n"
     ]
    },
    {
     "name": "stdout",
     "output_type": "stream",
     "text": [
      "Saving 10 Simulations for Network 26 Parameter 8\n",
      "Regressing Parameter 26 , Network 8\n",
      "Running Regression: 50 nodes\n",
      "Running Regression: 100 nodes\n",
      "Running Regression: 150 nodes\n",
      "Running Linear Transformation Simulations\n",
      "26\n",
      "1\n",
      "Parameter 27 , Network 2\n",
      "Running Regression: 250 nodes\n"
     ]
    },
    {
     "data": {
      "application/vnd.jupyter.widget-view+json": {
       "model_id": "62de5c449cd7479886942caf6af67325",
       "version_major": 2,
       "version_minor": 0
      },
      "text/plain": [
       "HBox(children=(IntProgress(value=0, description='Running Simulation ', max=5000, style=ProgressStyle(descripti…"
      ]
     },
     "metadata": {},
     "output_type": "display_data"
    },
    {
     "name": "stdout",
     "output_type": "stream",
     "text": [
      "Running Regression: 300 nodes\n",
      "Running Regression: 200 nodes\n",
      "\n"
     ]
    },
    {
     "name": "stderr",
     "output_type": "stream",
     "text": [
      "2020-09-03 17:08:57,493:INFO:First current path [29, 255, 47, 182, 249, 65, 177] formed at time = 0.525 s.\n"
     ]
    },
    {
     "name": "stdout",
     "output_type": "stream",
     "text": [
      "Saving 10 Simulations for Network 26 Parameter 9\n",
      "Regressing Parameter 26 , Network 9\n",
      "Running Regression: 50 nodes\n",
      "Running Regression: 100 nodes\n",
      "Running Linear Transformation Simulations\n",
      "26\n",
      "2\n",
      "Parameter 27 , Network 3\n"
     ]
    },
    {
     "data": {
      "application/vnd.jupyter.widget-view+json": {
       "model_id": "f93f618e810d4b1ca21e89c3a2f3c90e",
       "version_major": 2,
       "version_minor": 0
      },
      "text/plain": [
       "HBox(children=(IntProgress(value=0, description='Running Simulation ', max=5000, style=ProgressStyle(descripti…"
      ]
     },
     "metadata": {},
     "output_type": "display_data"
    },
    {
     "name": "stdout",
     "output_type": "stream",
     "text": [
      "Running Regression: 250 nodes\n",
      "Running Regression: 150 nodes\n",
      "Running Regression: 299 nodes\n",
      "\n"
     ]
    },
    {
     "name": "stderr",
     "output_type": "stream",
     "text": [
      "2020-09-03 17:09:00,804:INFO:First current path [0, 126, 25, 81, 8, 203, 145] formed at time = 0.51 s.\n"
     ]
    },
    {
     "name": "stdout",
     "output_type": "stream",
     "text": [
      "Saving 10 Simulations for Network 26 Parameter 10\n",
      "Regressing Parameter 26 , Network 10\n",
      "Running Regression: 50 nodes\n",
      "Running Regression: 100 nodes\n",
      "Running Regression: 200 nodes\n",
      "Running Linear Transformation Simulations\n",
      "26\n",
      "3\n",
      "Parameter 27 , Network 4\n",
      "Running Regression: 150 nodes\n"
     ]
    },
    {
     "data": {
      "application/vnd.jupyter.widget-view+json": {
       "model_id": "220998bb812f454f970c431f8d7b90f6",
       "version_major": 2,
       "version_minor": 0
      },
      "text/plain": [
       "HBox(children=(IntProgress(value=0, description='Running Simulation ', max=5000, style=ProgressStyle(descripti…"
      ]
     },
     "metadata": {},
     "output_type": "display_data"
    },
    {
     "name": "stdout",
     "output_type": "stream",
     "text": [
      "Running Regression: 299 nodes\n",
      "Running Regression: 200 nodes\n",
      "Running Regression: 250 nodes\n",
      "Running Linear Transformation Simulations\n",
      "26\n",
      "4\n",
      "Parameter 27 , Network 5\n"
     ]
    },
    {
     "data": {
      "application/vnd.jupyter.widget-view+json": {
       "model_id": "b94595dbe50747dc98de8216dbfa581c",
       "version_major": 2,
       "version_minor": 0
      },
      "text/plain": [
       "HBox(children=(IntProgress(value=0, description='Running Simulation ', max=5000, style=ProgressStyle(descripti…"
      ]
     },
     "metadata": {},
     "output_type": "display_data"
    },
    {
     "name": "stdout",
     "output_type": "stream",
     "text": [
      "Running Regression: 250 nodes\n",
      "\n"
     ]
    },
    {
     "name": "stderr",
     "output_type": "stream",
     "text": [
      "2020-09-03 17:09:08,258:INFO:First current path [3, 111, 150, 206, 239, 296, 79] formed at time = 0.507 s.\n"
     ]
    },
    {
     "name": "stdout",
     "output_type": "stream",
     "text": [
      "Saving 10 Simulations for Network 27 Parameter 1\n",
      "Regressing Parameter 27 , Network 1\n",
      "Running Regression: 50 nodes\n",
      "Running Regression: 100 nodes\n",
      "Running Regression: 299 nodes\n",
      "Running Regression: 150 nodes\n",
      "Running Linear Transformation Simulations\n",
      "26\n",
      "5\n",
      "Parameter 27 , Network 6\n"
     ]
    },
    {
     "data": {
      "application/vnd.jupyter.widget-view+json": {
       "model_id": "e5e05ef48aa84e17beb66083e12df8a2",
       "version_major": 2,
       "version_minor": 0
      },
      "text/plain": [
       "HBox(children=(IntProgress(value=0, description='Running Simulation ', max=5000, style=ProgressStyle(descripti…"
      ]
     },
     "metadata": {},
     "output_type": "display_data"
    },
    {
     "name": "stdout",
     "output_type": "stream",
     "text": [
      "\n",
      "Running Regression: 300 nodes\n",
      "Running Regression: 200 nodes\n"
     ]
    },
    {
     "name": "stderr",
     "output_type": "stream",
     "text": [
      "2020-09-03 17:09:12,504:INFO:First current path [92, 9, 186, 89, 121, 158, 67, 61, 225] formed at time = 0.698 s.\n"
     ]
    },
    {
     "name": "stdout",
     "output_type": "stream",
     "text": [
      "Saving 10 Simulations for Network 27 Parameter 2\n",
      "Regressing Parameter 27 , Network 2\n",
      "Running Regression: 50 nodes\n",
      "Running Regression: 100 nodes\n",
      "Running Regression: 150 nodes\n",
      "\n"
     ]
    },
    {
     "name": "stderr",
     "output_type": "stream",
     "text": [
      "2020-09-03 17:09:14,978:INFO:First current path [292, 282, 140, 112, 53, 160, 184, 281] formed at time = 0.572 s.\n"
     ]
    },
    {
     "name": "stdout",
     "output_type": "stream",
     "text": [
      "Saving 10 Simulations for Network 27 Parameter 3\n",
      "Regressing Parameter 27 , Network 3\n",
      "Running Regression: 50 nodes\n",
      "Running Linear Transformation Simulations\n",
      "26\n",
      "6\n",
      "Parameter 27 , Network 7\n",
      "Running Regression: 250 nodes\n"
     ]
    },
    {
     "data": {
      "application/vnd.jupyter.widget-view+json": {
       "model_id": "72c8f5c918694b4bac9be827b4cffcc9",
       "version_major": 2,
       "version_minor": 0
      },
      "text/plain": [
       "HBox(children=(IntProgress(value=0, description='Running Simulation ', max=5000, style=ProgressStyle(descripti…"
      ]
     },
     "metadata": {},
     "output_type": "display_data"
    },
    {
     "name": "stdout",
     "output_type": "stream",
     "text": [
      "Running Regression: 100 nodes\n",
      "Running Regression: 200 nodes\n",
      "Running Regression: 150 nodes\n",
      "\n",
      "Running Regression: 200 nodes\n",
      "Running Linear Transformation Simulations\n",
      "26\n",
      "7\n",
      "Parameter 27 , Network 8\n"
     ]
    },
    {
     "name": "stderr",
     "output_type": "stream",
     "text": [
      "2020-09-03 17:09:19,129:INFO:First current path [19, 160, 16, 128, 200, 73, 195] formed at time = 0.502 s.\n"
     ]
    },
    {
     "name": "stdout",
     "output_type": "stream",
     "text": [
      "Saving 10 Simulations for Network 27 Parameter 4\n",
      "Regressing Parameter 27 , Network 4\n",
      "Running Regression: 50 nodes\n"
     ]
    },
    {
     "data": {
      "application/vnd.jupyter.widget-view+json": {
       "model_id": "efde45a5039c454781de643588e9f5b1",
       "version_major": 2,
       "version_minor": 0
      },
      "text/plain": [
       "HBox(children=(IntProgress(value=0, description='Running Simulation ', max=5000, style=ProgressStyle(descripti…"
      ]
     },
     "metadata": {},
     "output_type": "display_data"
    },
    {
     "name": "stdout",
     "output_type": "stream",
     "text": [
      "Running Regression: 100 nodes\n",
      "Running Regression: 300 nodes\n",
      "Running Regression: 250 nodes\n",
      "Running Regression: 150 nodes\n",
      "Running Regression: 250 nodes\n",
      "Running Regression: 200 nodes\n",
      "Running Linear Transformation Simulations\n",
      "26\n",
      "8\n",
      "Parameter 27 , Network 9\n",
      "\n"
     ]
    },
    {
     "data": {
      "application/vnd.jupyter.widget-view+json": {
       "model_id": "cd262ffc3c00420187c4fe8773d65813",
       "version_major": 2,
       "version_minor": 0
      },
      "text/plain": [
       "HBox(children=(IntProgress(value=0, description='Running Simulation ', max=5000, style=ProgressStyle(descripti…"
      ]
     },
     "metadata": {},
     "output_type": "display_data"
    },
    {
     "name": "stderr",
     "output_type": "stream",
     "text": [
      "2020-09-03 17:09:23,735:INFO:First current path [5, 146, 170, 12, 16, 226, 27] formed at time = 0.504 s.\n"
     ]
    },
    {
     "name": "stdout",
     "output_type": "stream",
     "text": [
      "Saving 10 Simulations for Network 27 Parameter 5\n",
      "Regressing Parameter 27 , Network 5\n",
      "Running Regression: 50 nodes\n",
      "Running Regression: 100 nodes\n",
      "Running Regression: 300 nodes\n",
      "Running Regression: 150 nodes\n",
      "Running Regression: 250 nodes\n",
      "Running Regression: 299 nodes\n",
      "Running Linear Transformation Simulations\n",
      "26\n",
      "9\n",
      "Parameter 27 , Network 10\n",
      "Running Regression: 200 nodes\n",
      "\n"
     ]
    },
    {
     "data": {
      "application/vnd.jupyter.widget-view+json": {
       "model_id": "2f3659d057be4b279a4d73d325b1e72f",
       "version_major": 2,
       "version_minor": 0
      },
      "text/plain": [
       "HBox(children=(IntProgress(value=0, description='Running Simulation ', max=5000, style=ProgressStyle(descripti…"
      ]
     },
     "metadata": {},
     "output_type": "display_data"
    },
    {
     "name": "stderr",
     "output_type": "stream",
     "text": [
      "2020-09-03 17:09:28,241:INFO:First current path [60, 22, 272, 182, 201, 244, 105, 161] formed at time = 0.589 s.\n"
     ]
    },
    {
     "name": "stdout",
     "output_type": "stream",
     "text": [
      "Saving 10 Simulations for Network 27 Parameter 6\n",
      "Regressing Parameter 27 , Network 6\n",
      "Running Regression: 50 nodes\n",
      "Running Regression: 100 nodes\n",
      "Running Regression: 150 nodes\n",
      "Running Regression: 300 nodes\n",
      "\n",
      "Running Regression: 250 nodes\n"
     ]
    },
    {
     "name": "stderr",
     "output_type": "stream",
     "text": [
      "2020-09-03 17:09:31,256:INFO:First current path [230, 288, 174, 103, 153, 1, 82, 30] formed at time = 0.575 s.\n"
     ]
    },
    {
     "name": "stdout",
     "output_type": "stream",
     "text": [
      "Saving 10 Simulations for Network 27 Parameter 7\n",
      "Regressing Parameter 27 , Network 7\n",
      "Running Regression: 50 nodes\n",
      "Running Regression: 100 nodes\n",
      "Running Regression: 200 nodes\n",
      "Running Linear Transformation Simulations\n",
      "27\n",
      "0\n",
      "Parameter 28 , Network 1\n"
     ]
    },
    {
     "data": {
      "application/vnd.jupyter.widget-view+json": {
       "model_id": "b5a0554369084a2484be0c2df42a1293",
       "version_major": 2,
       "version_minor": 0
      },
      "text/plain": [
       "HBox(children=(IntProgress(value=0, description='Running Simulation ', max=5000, style=ProgressStyle(descripti…"
      ]
     },
     "metadata": {},
     "output_type": "display_data"
    },
    {
     "name": "stdout",
     "output_type": "stream",
     "text": [
      "Running Regression: 150 nodes\n",
      "Running Regression: 200 nodes\n",
      "\n",
      "Running Regression: 250 nodes\n"
     ]
    },
    {
     "name": "stderr",
     "output_type": "stream",
     "text": [
      "2020-09-03 17:09:35,454:INFO:First current path [74, 234, 50, 196, 150, 256, 11] formed at time = 0.526 s.\n"
     ]
    },
    {
     "name": "stdout",
     "output_type": "stream",
     "text": [
      "Saving 10 Simulations for Network 27 Parameter 8\n",
      "Regressing Parameter 27 , Network 8\n",
      "Running Regression: 50 nodes\n",
      "Running Regression: 299 nodes\n",
      "Running Regression: 100 nodes\n",
      "Running Regression: 150 nodes\n",
      "Running Linear Transformation Simulations\n",
      "27\n",
      "1\n",
      "Parameter 28 , Network 2\n"
     ]
    },
    {
     "data": {
      "application/vnd.jupyter.widget-view+json": {
       "model_id": "ffe3766239ec4f51bb1aeaa1545e4928",
       "version_major": 2,
       "version_minor": 0
      },
      "text/plain": [
       "HBox(children=(IntProgress(value=0, description='Running Simulation ', max=5000, style=ProgressStyle(descripti…"
      ]
     },
     "metadata": {},
     "output_type": "display_data"
    },
    {
     "name": "stdout",
     "output_type": "stream",
     "text": [
      "Running Regression: 250 nodes\n",
      "Running Regression: 200 nodes\n",
      "Running Regression: 300 nodes\n",
      "\n"
     ]
    },
    {
     "name": "stderr",
     "output_type": "stream",
     "text": [
      "2020-09-03 17:09:40,222:INFO:First current path [2, 225, 254, 209, 298, 204, 135] formed at time = 0.517 s.\n"
     ]
    },
    {
     "name": "stdout",
     "output_type": "stream",
     "text": [
      "Saving 10 Simulations for Network 27 Parameter 9\n",
      "Regressing Parameter 27 , Network 9\n",
      "Running Regression: 50 nodes\n",
      "Running Regression: 100 nodes\n",
      "Running Linear Transformation Simulations\n",
      "27\n",
      "2\n",
      "Parameter 28 , Network 3\n"
     ]
    },
    {
     "data": {
      "application/vnd.jupyter.widget-view+json": {
       "model_id": "0b6faee9663641af9e10eefc32ac52f3",
       "version_major": 2,
       "version_minor": 0
      },
      "text/plain": [
       "HBox(children=(IntProgress(value=0, description='Running Simulation ', max=5000, style=ProgressStyle(descripti…"
      ]
     },
     "metadata": {},
     "output_type": "display_data"
    },
    {
     "name": "stdout",
     "output_type": "stream",
     "text": [
      "Running Regression: 150 nodes\n",
      "Running Regression: 250 nodes\n",
      "Running Regression: 298 nodes\n",
      "\n",
      "Running Regression: 200 nodes\n"
     ]
    },
    {
     "name": "stderr",
     "output_type": "stream",
     "text": [
      "2020-09-03 17:09:44,386:INFO:First current path [7, 78, 230, 136, 74, 181] formed at time = 0.445 s.\n"
     ]
    },
    {
     "name": "stdout",
     "output_type": "stream",
     "text": [
      "Saving 10 Simulations for Network 27 Parameter 10\n",
      "Regressing Parameter 27 , Network 10\n",
      "Running Regression: 50 nodes\n",
      "Running Regression: 100 nodes\n",
      "Running Linear Transformation Simulations\n",
      "27\n",
      "3\n",
      "Parameter 28 , Network 4\n"
     ]
    },
    {
     "data": {
      "application/vnd.jupyter.widget-view+json": {
       "model_id": "3fc4a159849e4b7e9725c85543593158",
       "version_major": 2,
       "version_minor": 0
      },
      "text/plain": [
       "HBox(children=(IntProgress(value=0, description='Running Simulation ', max=5000, style=ProgressStyle(descripti…"
      ]
     },
     "metadata": {},
     "output_type": "display_data"
    },
    {
     "name": "stdout",
     "output_type": "stream",
     "text": [
      "Running Regression: 150 nodes\n",
      "Running Regression: 300 nodes\n",
      "Running Regression: 250 nodes\n",
      "Running Regression: 200 nodes\n",
      "Running Linear Transformation Simulations\n",
      "27\n",
      "4\n",
      "Parameter 28 , Network 5\n"
     ]
    },
    {
     "data": {
      "application/vnd.jupyter.widget-view+json": {
       "model_id": "3e781943e7c543e883fa0f68faafdc09",
       "version_major": 2,
       "version_minor": 0
      },
      "text/plain": [
       "HBox(children=(IntProgress(value=0, description='Running Simulation ', max=5000, style=ProgressStyle(descripti…"
      ]
     },
     "metadata": {},
     "output_type": "display_data"
    },
    {
     "name": "stdout",
     "output_type": "stream",
     "text": [
      "\n"
     ]
    },
    {
     "name": "stderr",
     "output_type": "stream",
     "text": [
      "2020-09-03 17:09:50,227:INFO:First current path [31, 135, 226, 254, 264, 227, 208] formed at time = 0.501 s.\n"
     ]
    },
    {
     "name": "stdout",
     "output_type": "stream",
     "text": [
      "Saving 10 Simulations for Network 28 Parameter 1\n",
      "Regressing Parameter 28 , Network 1\n",
      "Running Regression: 50 nodes\n",
      "Running Regression: 100 nodes\n",
      "Running Regression: 250 nodes\n",
      "Running Regression: 300 nodes\n",
      "Running Regression: 150 nodes\n",
      "Running Linear Transformation Simulations\n",
      "27\n",
      "5\n",
      "Parameter 28 , Network 6\n",
      "Running Regression: 200 nodes\n"
     ]
    },
    {
     "data": {
      "application/vnd.jupyter.widget-view+json": {
       "model_id": "093e8ed24f524f4589c2d435d7a2cd02",
       "version_major": 2,
       "version_minor": 0
      },
      "text/plain": [
       "HBox(children=(IntProgress(value=0, description='Running Simulation ', max=5000, style=ProgressStyle(descripti…"
      ]
     },
     "metadata": {},
     "output_type": "display_data"
    },
    {
     "name": "stdout",
     "output_type": "stream",
     "text": [
      "\n"
     ]
    },
    {
     "name": "stderr",
     "output_type": "stream",
     "text": [
      "2020-09-03 17:09:55,699:INFO:First current path [65, 261, 283, 218, 284, 37, 49] formed at time = 0.519 s.\n"
     ]
    },
    {
     "name": "stdout",
     "output_type": "stream",
     "text": [
      "Saving 10 Simulations for Network 28 Parameter 2\n",
      "Running Regression: 300 nodes\n",
      "Regressing Parameter 28 , Network 2\n",
      "Running Regression: 50 nodes\n",
      "Running Regression: 100 nodes\n",
      "Running Regression: 250 nodes\n",
      "Running Linear Transformation Simulations\n",
      "27\n",
      "6\n",
      "Parameter 28 , Network 7\n"
     ]
    },
    {
     "data": {
      "application/vnd.jupyter.widget-view+json": {
       "model_id": "0938259fc29348a69ac0a5ad0c0cc558",
       "version_major": 2,
       "version_minor": 0
      },
      "text/plain": [
       "HBox(children=(IntProgress(value=0, description='Running Simulation ', max=5000, style=ProgressStyle(descripti…"
      ]
     },
     "metadata": {},
     "output_type": "display_data"
    },
    {
     "name": "stdout",
     "output_type": "stream",
     "text": [
      "\n",
      "Running Regression: 150 nodes\n"
     ]
    },
    {
     "name": "stderr",
     "output_type": "stream",
     "text": [
      "2020-09-03 17:09:58,076:INFO:First current path [12, 255, 221, 260, 212, 47, 41] formed at time = 0.52 s.\n"
     ]
    },
    {
     "name": "stdout",
     "output_type": "stream",
     "text": [
      "Saving 10 Simulations for Network 28 Parameter 3\n",
      "Regressing Parameter 28 , Network 3\n",
      "Running Regression: 50 nodes\n",
      "Running Regression: 100 nodes\n",
      "Running Regression: 150 nodes\n",
      "Running Regression: 200 nodes\n",
      "Running Regression: 300 nodes\n",
      "Running Linear Transformation Simulations\n",
      "27\n",
      "7\n",
      "Parameter 28 , Network 8\n"
     ]
    },
    {
     "data": {
      "application/vnd.jupyter.widget-view+json": {
       "model_id": "1a33719fab984e3c851aed2875004503",
       "version_major": 2,
       "version_minor": 0
      },
      "text/plain": [
       "HBox(children=(IntProgress(value=0, description='Running Simulation ', max=5000, style=ProgressStyle(descripti…"
      ]
     },
     "metadata": {},
     "output_type": "display_data"
    },
    {
     "name": "stdout",
     "output_type": "stream",
     "text": [
      "Running Regression: 200 nodes\n",
      "\n"
     ]
    },
    {
     "name": "stderr",
     "output_type": "stream",
     "text": [
      "2020-09-03 17:10:02,284:INFO:First current path [7, 159, 201, 241, 43, 197, 57] formed at time = 0.5 s.\n"
     ]
    },
    {
     "name": "stdout",
     "output_type": "stream",
     "text": [
      "Saving 10 Simulations for Network 28 Parameter 4\n",
      "Regressing Parameter 28 , Network 4\n",
      "Running Regression: 50 nodes\n",
      "Running Regression: 100 nodes\n",
      "Running Regression: 250 nodes\n",
      "Running Regression: 150 nodes\n",
      "Running Regression: 250 nodes\n",
      "\n",
      "Running Regression: 200 nodes\n"
     ]
    },
    {
     "name": "stderr",
     "output_type": "stream",
     "text": [
      "2020-09-03 17:10:06,695:INFO:First current path [164, 32, 46, 149, 11, 186, 205] formed at time = 0.505 s.\n"
     ]
    },
    {
     "name": "stdout",
     "output_type": "stream",
     "text": [
      "Saving 10 Simulations for Network 28 Parameter 5\n",
      "Running Linear Transformation Simulations\n",
      "27\n",
      "8\n",
      "Parameter 28 , Network 9\n"
     ]
    },
    {
     "data": {
      "application/vnd.jupyter.widget-view+json": {
       "model_id": "9c8d42852d4242ac99eb93b285eef2a8",
       "version_major": 2,
       "version_minor": 0
      },
      "text/plain": [
       "HBox(children=(IntProgress(value=0, description='Running Simulation ', max=5000, style=ProgressStyle(descripti…"
      ]
     },
     "metadata": {},
     "output_type": "display_data"
    },
    {
     "name": "stdout",
     "output_type": "stream",
     "text": [
      "Regressing Parameter 28 , Network 5\n",
      "Running Regression: 50 nodes\n",
      "Running Regression: 100 nodes\n",
      "Running Regression: 300 nodes\n",
      "Running Regression: 150 nodes\n",
      "Running Regression: 300 nodes\n",
      "Running Regression: 250 nodes\n",
      "\n",
      "Running Regression: 200 nodes\n"
     ]
    },
    {
     "name": "stderr",
     "output_type": "stream",
     "text": [
      "2020-09-03 17:10:11,013:INFO:First current path [10, 285, 270, 294, 264, 251, 30] formed at time = 0.551 s.\n"
     ]
    },
    {
     "name": "stdout",
     "output_type": "stream",
     "text": [
      "Saving 10 Simulations for Network 28 Parameter 6\n",
      "Running Linear Transformation Simulations\n",
      "27\n",
      "9\n",
      "Parameter 28 , Network 10\n"
     ]
    },
    {
     "data": {
      "application/vnd.jupyter.widget-view+json": {
       "model_id": "c4cec661a177472ca6cb5b147f1f15bc",
       "version_major": 2,
       "version_minor": 0
      },
      "text/plain": [
       "HBox(children=(IntProgress(value=0, description='Running Simulation ', max=5000, style=ProgressStyle(descripti…"
      ]
     },
     "metadata": {},
     "output_type": "display_data"
    },
    {
     "name": "stdout",
     "output_type": "stream",
     "text": [
      "Regressing Parameter 28 , Network 6\n",
      "Running Regression: 50 nodes\n",
      "Running Regression: 100 nodes\n",
      "Running Regression: 150 nodes\n",
      "Running Regression: 300 nodes\n",
      "\n",
      "Running Regression: 250 nodes\n"
     ]
    },
    {
     "name": "stderr",
     "output_type": "stream",
     "text": [
      "2020-09-03 17:10:14,724:INFO:First current path [246, 251, 217, 200, 277, 155, 183] formed at time = 0.516 s.\n"
     ]
    },
    {
     "name": "stdout",
     "output_type": "stream",
     "text": [
      "Saving 10 Simulations for Network 28 Parameter 7\n",
      "Regressing Parameter 28 , Network 7\n",
      "Running Regression: 50 nodes\n",
      "Running Regression: 200 nodes\n",
      "Running Regression: 100 nodes\n",
      "Running Linear Transformation Simulations\n",
      "28\n",
      "0\n",
      "Parameter 29 , Network 1\n"
     ]
    },
    {
     "data": {
      "application/vnd.jupyter.widget-view+json": {
       "model_id": "2e458a965ed2418488efef35cbfa2fda",
       "version_major": 2,
       "version_minor": 0
      },
      "text/plain": [
       "HBox(children=(IntProgress(value=0, description='Running Simulation ', max=5000, style=ProgressStyle(descripti…"
      ]
     },
     "metadata": {},
     "output_type": "display_data"
    },
    {
     "name": "stdout",
     "output_type": "stream",
     "text": [
      "Running Regression: 150 nodes\n",
      "\n"
     ]
    },
    {
     "name": "stderr",
     "output_type": "stream",
     "text": [
      "2020-09-03 17:10:18,267:INFO:First current path [2, 105, 90, 227, 288, 230] formed at time = 0.449 s.\n"
     ]
    },
    {
     "name": "stdout",
     "output_type": "stream",
     "text": [
      "Saving 10 Simulations for Network 28 Parameter 8\n",
      "Regressing Parameter 28 , Network 8\n",
      "Running Regression: 50 nodes\n",
      "Running Regression: 250 nodes\n",
      "Running Regression: 200 nodes\n",
      "Running Regression: 100 nodes\n",
      "Running Regression: 299 nodes\n",
      "Running Linear Transformation Simulations\n",
      "28\n",
      "1\n",
      "Parameter 29 , Network 2\n",
      "Running Regression: 150 nodes\n"
     ]
    },
    {
     "data": {
      "application/vnd.jupyter.widget-view+json": {
       "model_id": "fc38898cadf2430e9841575319aebd8d",
       "version_major": 2,
       "version_minor": 0
      },
      "text/plain": [
       "HBox(children=(IntProgress(value=0, description='Running Simulation ', max=5000, style=ProgressStyle(descripti…"
      ]
     },
     "metadata": {},
     "output_type": "display_data"
    },
    {
     "name": "stdout",
     "output_type": "stream",
     "text": [
      "Running Regression: 250 nodes\n",
      "Running Regression: 200 nodes\n",
      "Running Regression: 300 nodes\n",
      "Running Linear Transformation Simulations\n",
      "28\n",
      "2\n",
      "Parameter 29 , Network 3\n"
     ]
    },
    {
     "data": {
      "application/vnd.jupyter.widget-view+json": {
       "model_id": "61e86f4cdd2c44a4abb5554cfe73b75a",
       "version_major": 2,
       "version_minor": 0
      },
      "text/plain": [
       "HBox(children=(IntProgress(value=0, description='Running Simulation ', max=5000, style=ProgressStyle(descripti…"
      ]
     },
     "metadata": {},
     "output_type": "display_data"
    },
    {
     "name": "stdout",
     "output_type": "stream",
     "text": [
      "\n"
     ]
    },
    {
     "name": "stderr",
     "output_type": "stream",
     "text": [
      "2020-09-03 17:10:24,876:INFO:First current path [228, 185, 160, 131, 147, 63, 5] formed at time = 0.526 s.\n"
     ]
    },
    {
     "name": "stdout",
     "output_type": "stream",
     "text": [
      "Saving 10 Simulations for Network 28 Parameter 9\n",
      "Regressing Parameter 28 , Network 9\n",
      "Running Regression: 50 nodes\n",
      "Running Regression: 250 nodes\n",
      "Running Regression: 100 nodes\n",
      "Running Regression: 300 nodes\n",
      "Running Regression: 150 nodes\n",
      "\n",
      "Running Linear Transformation Simulations\n",
      "28\n",
      "3\n",
      "Parameter 29 , Network 4\n"
     ]
    },
    {
     "data": {
      "application/vnd.jupyter.widget-view+json": {
       "model_id": "afc2b21f1bf741dbbbe6432ee44068d5",
       "version_major": 2,
       "version_minor": 0
      },
      "text/plain": [
       "HBox(children=(IntProgress(value=0, description='Running Simulation ', max=5000, style=ProgressStyle(descripti…"
      ]
     },
     "metadata": {},
     "output_type": "display_data"
    },
    {
     "name": "stderr",
     "output_type": "stream",
     "text": [
      "2020-09-03 17:10:28,251:INFO:First current path [1, 79, 170, 211, 163, 147] formed at time = 0.456 s.\n"
     ]
    },
    {
     "name": "stdout",
     "output_type": "stream",
     "text": [
      "Saving 10 Simulations for Network 28 Parameter 10\n",
      "Regressing Parameter 28 , Network 10\n",
      "Running Regression: 50 nodes\n",
      "Running Regression: 100 nodes\n",
      "Running Regression: 200 nodes\n",
      "Running Regression: 150 nodes\n",
      "Running Regression: 300 nodes\n",
      "Running Regression: 200 nodes\n",
      "Running Regression: 250 nodes\n",
      "Running Linear Transformation Simulations\n",
      "28\n",
      "4\n",
      "Parameter 29 , Network 5\n"
     ]
    },
    {
     "data": {
      "application/vnd.jupyter.widget-view+json": {
       "model_id": "8df639e8536b49128f6a385a61d3a97a",
       "version_major": 2,
       "version_minor": 0
      },
      "text/plain": [
       "HBox(children=(IntProgress(value=0, description='Running Simulation ', max=5000, style=ProgressStyle(descripti…"
      ]
     },
     "metadata": {},
     "output_type": "display_data"
    },
    {
     "name": "stdout",
     "output_type": "stream",
     "text": [
      "\n",
      "Running Regression: 250 nodes\n"
     ]
    },
    {
     "name": "stderr",
     "output_type": "stream",
     "text": [
      "2020-09-03 17:10:35,129:INFO:First current path [85, 220, 175, 186, 165, 139, 274] formed at time = 0.526 s.\n"
     ]
    },
    {
     "name": "stdout",
     "output_type": "stream",
     "text": [
      "Saving 10 Simulations for Network 29 Parameter 1\n",
      "Regressing Parameter 29 , Network 1\n",
      "Running Regression: 50 nodes\n",
      "Running Regression: 100 nodes\n",
      "Running Regression: 300 nodes\n",
      "Running Regression: 150 nodes\n",
      "Running Linear Transformation Simulations\n",
      "28\n",
      "5\n",
      "Parameter 29 , Network 6\n"
     ]
    },
    {
     "data": {
      "application/vnd.jupyter.widget-view+json": {
       "model_id": "17aba71b8ab94d73ada4c9922309e74b",
       "version_major": 2,
       "version_minor": 0
      },
      "text/plain": [
       "HBox(children=(IntProgress(value=0, description='Running Simulation ', max=5000, style=ProgressStyle(descripti…"
      ]
     },
     "metadata": {},
     "output_type": "display_data"
    },
    {
     "name": "stdout",
     "output_type": "stream",
     "text": [
      "\n"
     ]
    },
    {
     "name": "stderr",
     "output_type": "stream",
     "text": [
      "2020-09-03 17:10:38,216:INFO:First current path [1, 61, 204, 36, 223, 152] formed at time = 0.446 s.\n"
     ]
    },
    {
     "name": "stdout",
     "output_type": "stream",
     "text": [
      "Saving 10 Simulations for Network 29 Parameter 2\n",
      "Regressing Parameter 29 , Network 2\n",
      "Running Regression: 50 nodes\n",
      "Running Regression: 100 nodes\n",
      "Running Regression: 200 nodes\n",
      "Running Regression: 300 nodes\n",
      "Running Regression: 150 nodes\n",
      "Running Linear Transformation Simulations\n",
      "28\n",
      "6\n",
      "Parameter 29 , Network 7\n",
      "\n"
     ]
    },
    {
     "data": {
      "application/vnd.jupyter.widget-view+json": {
       "model_id": "45fca19db0504f1fb3c5c52efc5467a1",
       "version_major": 2,
       "version_minor": 0
      },
      "text/plain": [
       "HBox(children=(IntProgress(value=0, description='Running Simulation ', max=5000, style=ProgressStyle(descripti…"
      ]
     },
     "metadata": {},
     "output_type": "display_data"
    },
    {
     "name": "stderr",
     "output_type": "stream",
     "text": [
      "2020-09-03 17:10:41,322:INFO:First current path [120, 78, 204, 183, 130, 79, 288] formed at time = 0.511 s.\n"
     ]
    },
    {
     "name": "stdout",
     "output_type": "stream",
     "text": [
      "Saving 10 Simulations for Network 29 Parameter 3\n",
      "Regressing Parameter 29 , Network 3\n",
      "Running Regression: 50 nodes\n",
      "Running Regression: 100 nodes\n",
      "Running Regression: 250 nodes\n",
      "Running Regression: 200 nodes\n",
      "Running Regression: 150 nodes\n",
      "Running Linear Transformation Simulations\n",
      "28\n",
      "7\n",
      "Parameter 29 , Network 8\n"
     ]
    },
    {
     "data": {
      "application/vnd.jupyter.widget-view+json": {
       "model_id": "3bcec086ec50426f86073452c49053f2",
       "version_major": 2,
       "version_minor": 0
      },
      "text/plain": [
       "HBox(children=(IntProgress(value=0, description='Running Simulation ', max=5000, style=ProgressStyle(descripti…"
      ]
     },
     "metadata": {},
     "output_type": "display_data"
    },
    {
     "name": "stdout",
     "output_type": "stream",
     "text": [
      "Running Regression: 200 nodes\n",
      "\n"
     ]
    },
    {
     "name": "stderr",
     "output_type": "stream",
     "text": [
      "2020-09-03 17:10:45,838:INFO:First current path [7, 222, 13, 90, 64, 288] formed at time = 0.445 s.\n"
     ]
    },
    {
     "name": "stdout",
     "output_type": "stream",
     "text": [
      "Saving 10 Simulations for Network 29 Parameter 4\n",
      "Regressing Parameter 29 , Network 4\n",
      "Running Regression: 50 nodes\n",
      "Running Regression: 250 nodes\n",
      "Running Regression: 100 nodes\n",
      "Running Regression: 300 nodes\n",
      "Running Regression: 150 nodes\n",
      "Running Regression: 250 nodes\n",
      "Running Linear Transformation Simulations\n",
      "28\n",
      "8\n",
      "Parameter 29 , Network 9\n",
      "Running Regression: 200 nodes\n"
     ]
    },
    {
     "data": {
      "application/vnd.jupyter.widget-view+json": {
       "model_id": "c8339e8fa34844f1ba4bcde17389b783",
       "version_major": 2,
       "version_minor": 0
      },
      "text/plain": [
       "HBox(children=(IntProgress(value=0, description='Running Simulation ', max=5000, style=ProgressStyle(descripti…"
      ]
     },
     "metadata": {},
     "output_type": "display_data"
    },
    {
     "name": "stdout",
     "output_type": "stream",
     "text": [
      "\n"
     ]
    },
    {
     "name": "stderr",
     "output_type": "stream",
     "text": [
      "2020-09-03 17:10:50,447:INFO:First current path [2, 92, 33, 240, 120, 12] formed at time = 0.448 s.\n"
     ]
    },
    {
     "name": "stdout",
     "output_type": "stream",
     "text": [
      "Saving 10 Simulations for Network 29 Parameter 5\n",
      "Regressing Parameter 29 , Network 5\n",
      "Running Regression: 50 nodes\n",
      "Running Regression: 300 nodes\n",
      "Running Regression: 100 nodes\n",
      "Running Regression: 150 nodes\n",
      "Running Regression: 250 nodes\n",
      "Running Regression: 300 nodes\n",
      "Running Linear Transformation Simulations\n",
      "28\n",
      "9\n",
      "Parameter 29 , Network 10\n"
     ]
    },
    {
     "data": {
      "application/vnd.jupyter.widget-view+json": {
       "model_id": "663c6af5f7ff4ed990737e9c849cb17c",
       "version_major": 2,
       "version_minor": 0
      },
      "text/plain": [
       "HBox(children=(IntProgress(value=0, description='Running Simulation ', max=5000, style=ProgressStyle(descripti…"
      ]
     },
     "metadata": {},
     "output_type": "display_data"
    },
    {
     "name": "stdout",
     "output_type": "stream",
     "text": [
      "Running Regression: 200 nodes\n",
      "\n"
     ]
    },
    {
     "name": "stderr",
     "output_type": "stream",
     "text": [
      "2020-09-03 17:10:55,167:INFO:First current path [3, 196, 214, 84, 202, 2] formed at time = 0.445 s.\n"
     ]
    },
    {
     "name": "stdout",
     "output_type": "stream",
     "text": [
      "Saving 10 Simulations for Network 29 Parameter 6\n",
      "Regressing Parameter 29 , Network 6\n",
      "Running Regression: 50 nodes\n",
      "Running Regression: 100 nodes\n",
      "Running Regression: 150 nodes\n",
      "Running Regression: 300 nodes\n",
      "Running Regression: 250 nodes\n",
      "\n",
      "Running Linear Transformation Simulations\n",
      "29\n",
      "0\n",
      "Parameter 30 , Network 1\n"
     ]
    },
    {
     "name": "stderr",
     "output_type": "stream",
     "text": [
      "2020-09-03 17:10:58,445:INFO:First current path [43, 159, 176, 247, 101, 164] formed at time = 0.47 s.\n"
     ]
    },
    {
     "name": "stdout",
     "output_type": "stream",
     "text": [
      "Saving 10 Simulations for Network 29 Parameter 7\n",
      "Regressing Parameter 29 , Network 7\n",
      "Running Regression: 50 nodes\n"
     ]
    },
    {
     "data": {
      "application/vnd.jupyter.widget-view+json": {
       "model_id": "cbcecda8066248d39585ed8fb838702a",
       "version_major": 2,
       "version_minor": 0
      },
      "text/plain": [
       "HBox(children=(IntProgress(value=0, description='Running Simulation ', max=5000, style=ProgressStyle(descripti…"
      ]
     },
     "metadata": {},
     "output_type": "display_data"
    },
    {
     "name": "stdout",
     "output_type": "stream",
     "text": [
      "Running Regression: 200 nodes\n",
      "Running Regression: 100 nodes\n",
      "Running Regression: 150 nodes\n",
      "Running Regression: 250 nodes\n",
      "Running Regression: 200 nodes\n",
      "Running Regression: 300 nodes\n",
      "\n"
     ]
    },
    {
     "name": "stderr",
     "output_type": "stream",
     "text": [
      "2020-09-03 17:11:02,749:INFO:First current path [182, 166, 252, 81, 291, 205] formed at time = 0.45 s.\n"
     ]
    },
    {
     "name": "stdout",
     "output_type": "stream",
     "text": [
      "Saving 10 Simulations for Network 29 Parameter 8\n",
      "Regressing Parameter 29 , Network 8\n",
      "Running Regression: 50 nodes\n",
      "Running Regression: 100 nodes\n",
      "Running Linear Transformation Simulations\n",
      "29\n",
      "1\n",
      "Parameter 30 , Network 2\n"
     ]
    },
    {
     "data": {
      "application/vnd.jupyter.widget-view+json": {
       "model_id": "bdf4412ec73f4d2a8d822dee42d8242b",
       "version_major": 2,
       "version_minor": 0
      },
      "text/plain": [
       "HBox(children=(IntProgress(value=0, description='Running Simulation ', max=5000, style=ProgressStyle(descripti…"
      ]
     },
     "metadata": {},
     "output_type": "display_data"
    },
    {
     "name": "stdout",
     "output_type": "stream",
     "text": [
      "Running Regression: 150 nodes\n",
      "Running Regression: 250 nodes\n",
      "Running Regression: 300 nodes\n",
      "Running Regression: 200 nodes\n",
      "Running Linear Transformation Simulations\n",
      "29\n",
      "2\n",
      "Parameter 30 , Network 3\n"
     ]
    },
    {
     "data": {
      "application/vnd.jupyter.widget-view+json": {
       "model_id": "6fc06b8cf51d4f7ca26753b4a434541b",
       "version_major": 2,
       "version_minor": 0
      },
      "text/plain": [
       "HBox(children=(IntProgress(value=0, description='Running Simulation ', max=5000, style=ProgressStyle(descripti…"
      ]
     },
     "metadata": {},
     "output_type": "display_data"
    },
    {
     "name": "stdout",
     "output_type": "stream",
     "text": [
      "\n"
     ]
    },
    {
     "name": "stderr",
     "output_type": "stream",
     "text": [
      "2020-09-03 17:11:07,585:INFO:First current path [1, 190, 72, 135, 23, 138] formed at time = 0.451 s.\n"
     ]
    },
    {
     "name": "stdout",
     "output_type": "stream",
     "text": [
      "Saving 10 Simulations for Network 29 Parameter 9\n",
      "Regressing Parameter 29 , Network 9\n",
      "Running Regression: 50 nodes\n",
      "Running Regression: 100 nodes\n",
      "Running Regression: 150 nodes\n",
      "Running Regression: 250 nodes\n",
      "Running Regression: 300 nodes\n",
      "Running Linear Transformation Simulations\n",
      "29\n",
      "3\n",
      "Parameter 30 , Network 4\n"
     ]
    },
    {
     "data": {
      "application/vnd.jupyter.widget-view+json": {
       "model_id": "6263af63864d4b9fbc73a64b9fca3701",
       "version_major": 2,
       "version_minor": 0
      },
      "text/plain": [
       "HBox(children=(IntProgress(value=0, description='Running Simulation ', max=5000, style=ProgressStyle(descripti…"
      ]
     },
     "metadata": {},
     "output_type": "display_data"
    },
    {
     "name": "stdout",
     "output_type": "stream",
     "text": [
      "\n",
      "Running Regression: 200 nodes\n"
     ]
    },
    {
     "name": "stderr",
     "output_type": "stream",
     "text": [
      "2020-09-03 17:11:11,956:INFO:First current path [4, 106, 50, 103, 29, 232] formed at time = 0.451 s.\n"
     ]
    },
    {
     "name": "stdout",
     "output_type": "stream",
     "text": [
      "Saving 10 Simulations for Network 29 Parameter 10\n",
      "Regressing Parameter 29 , Network 10\n",
      "Running Regression: 50 nodes\n",
      "Running Regression: 100 nodes\n",
      "Running Regression: 150 nodes\n",
      "Running Regression: 300 nodes\n",
      "Running Regression: 250 nodes\n",
      "Running Linear Transformation Simulations\n",
      "29\n",
      "4\n",
      "Parameter 30 , Network 5\n"
     ]
    },
    {
     "data": {
      "application/vnd.jupyter.widget-view+json": {
       "model_id": "00ab2fc4e06a4e76bec3b448a0ae700d",
       "version_major": 2,
       "version_minor": 0
      },
      "text/plain": [
       "HBox(children=(IntProgress(value=0, description='Running Simulation ', max=5000, style=ProgressStyle(descripti…"
      ]
     },
     "metadata": {},
     "output_type": "display_data"
    },
    {
     "name": "stdout",
     "output_type": "stream",
     "text": [
      "Running Regression: 200 nodes\n",
      "\n"
     ]
    },
    {
     "name": "stderr",
     "output_type": "stream",
     "text": [
      "2020-09-03 17:11:17,836:INFO:First current path [24, 292, 111, 132, 228, 41] formed at time = 0.455 s.\n"
     ]
    },
    {
     "name": "stdout",
     "output_type": "stream",
     "text": [
      "Saving 10 Simulations for Network 30 Parameter 1\n",
      "Regressing Parameter 30 , Network 1\n",
      "Running Regression: 50 nodes\n",
      "Running Regression: 100 nodes\n",
      "Running Regression: 250 nodes\n",
      "Running Linear Transformation Simulations\n",
      "29\n",
      "5\n",
      "Parameter 30 , Network 6\n",
      "Running Regression: 300 nodes\n"
     ]
    },
    {
     "data": {
      "application/vnd.jupyter.widget-view+json": {
       "model_id": "ea971fcb7ca343739daeb5a253cbe72f",
       "version_major": 2,
       "version_minor": 0
      },
      "text/plain": [
       "HBox(children=(IntProgress(value=0, description='Running Simulation ', max=5000, style=ProgressStyle(descripti…"
      ]
     },
     "metadata": {},
     "output_type": "display_data"
    },
    {
     "name": "stdout",
     "output_type": "stream",
     "text": [
      "Running Regression: 150 nodes\n",
      "\n",
      "Running Regression: 200 nodes\n"
     ]
    },
    {
     "name": "stderr",
     "output_type": "stream",
     "text": [
      "2020-09-03 17:11:21,986:INFO:First current path [11, 262, 253, 154, 109, 87] formed at time = 0.446 s.\n"
     ]
    },
    {
     "name": "stdout",
     "output_type": "stream",
     "text": [
      "Saving 10 Simulations for Network 30 Parameter 2\n",
      "Regressing Parameter 30 , Network 2\n",
      "Running Regression: 50 nodes\n",
      "Running Regression: 100 nodes\n",
      "Running Regression: 299 nodes\n",
      "Running Regression: 150 nodes\n",
      "Running Linear Transformation Simulations\n",
      "29\n",
      "6\n",
      "Parameter 30 , Network 7\n"
     ]
    },
    {
     "data": {
      "application/vnd.jupyter.widget-view+json": {
       "model_id": "8aa537ab4d184bbba753ebb85dfe7c5d",
       "version_major": 2,
       "version_minor": 0
      },
      "text/plain": [
       "HBox(children=(IntProgress(value=0, description='Running Simulation ', max=5000, style=ProgressStyle(descripti…"
      ]
     },
     "metadata": {},
     "output_type": "display_data"
    },
    {
     "name": "stdout",
     "output_type": "stream",
     "text": [
      "Running Regression: 250 nodes\n",
      "\n"
     ]
    },
    {
     "name": "stderr",
     "output_type": "stream",
     "text": [
      "2020-09-03 17:11:25,565:INFO:First current path [7, 51, 81, 223, 263, 142] formed at time = 0.458 s.\n"
     ]
    },
    {
     "name": "stdout",
     "output_type": "stream",
     "text": [
      "Saving 10 Simulations for Network 30 Parameter 3\n",
      "Regressing Parameter 30 , Network 3\n",
      "Running Regression: 50 nodes\n",
      "Running Regression: 200 nodes\n",
      "Running Regression: 100 nodes\n",
      "Running Regression: 150 nodes\n",
      "Running Linear Transformation Simulations\n",
      "29\n",
      "7\n",
      "Parameter 30 , Network 8\n"
     ]
    },
    {
     "data": {
      "application/vnd.jupyter.widget-view+json": {
       "model_id": "84221d39f83f4f96ba268f37226fcbf7",
       "version_major": 2,
       "version_minor": 0
      },
      "text/plain": [
       "HBox(children=(IntProgress(value=0, description='Running Simulation ', max=5000, style=ProgressStyle(descripti…"
      ]
     },
     "metadata": {},
     "output_type": "display_data"
    },
    {
     "name": "stdout",
     "output_type": "stream",
     "text": [
      "Running Regression: 300 nodes\n",
      "\n",
      "Running Regression: 200 nodes\n",
      "Running Regression: 250 nodes\n"
     ]
    },
    {
     "name": "stderr",
     "output_type": "stream",
     "text": [
      "2020-09-03 17:11:29,642:INFO:First current path [7, 99, 280, 294, 68, 69] formed at time = 0.446 s.\n"
     ]
    },
    {
     "name": "stdout",
     "output_type": "stream",
     "text": [
      "Saving 10 Simulations for Network 30 Parameter 4\n",
      "Regressing Parameter 30 , Network 4\n",
      "Running Regression: 50 nodes\n",
      "Running Regression: 100 nodes\n",
      "Running Regression: 150 nodes\n",
      "Running Linear Transformation Simulations\n",
      "29\n",
      "8\n",
      "Parameter 30 , Network 9\n"
     ]
    },
    {
     "data": {
      "application/vnd.jupyter.widget-view+json": {
       "model_id": "c445e0fc99344aa2971fc7372e7a25de",
       "version_major": 2,
       "version_minor": 0
      },
      "text/plain": [
       "HBox(children=(IntProgress(value=0, description='Running Simulation ', max=5000, style=ProgressStyle(descripti…"
      ]
     },
     "metadata": {},
     "output_type": "display_data"
    },
    {
     "name": "stdout",
     "output_type": "stream",
     "text": [
      "Running Regression: 250 nodes\n",
      "Running Regression: 200 nodes\n",
      "\n",
      "Running Regression: 300 nodes\n"
     ]
    },
    {
     "name": "stderr",
     "output_type": "stream",
     "text": [
      "2020-09-03 17:11:34,508:INFO:First current path [28, 185, 128, 172, 0, 108] formed at time = 0.448 s.\n"
     ]
    },
    {
     "name": "stdout",
     "output_type": "stream",
     "text": [
      "Saving 10 Simulations for Network 30 Parameter 5\n",
      "Regressing Parameter 30 , Network 5\n",
      "Running Regression: 50 nodes\n",
      "Running Regression: 100 nodes\n",
      "Running Linear Transformation Simulations\n",
      "29\n",
      "9\n",
      "Parameter 30 , Network 10\n"
     ]
    },
    {
     "data": {
      "application/vnd.jupyter.widget-view+json": {
       "model_id": "a9bdab05aed1468b81ac34636f6c747d",
       "version_major": 2,
       "version_minor": 0
      },
      "text/plain": [
       "HBox(children=(IntProgress(value=0, description='Running Simulation ', max=5000, style=ProgressStyle(descripti…"
      ]
     },
     "metadata": {},
     "output_type": "display_data"
    },
    {
     "name": "stdout",
     "output_type": "stream",
     "text": [
      "Running Regression: 150 nodes\n",
      "Running Regression: 250 nodes\n",
      "\n",
      "Running Regression: 300 nodes\n"
     ]
    },
    {
     "name": "stderr",
     "output_type": "stream",
     "text": [
      "2020-09-03 17:11:37,563:INFO:First current path [16, 17, 199, 11, 257, 177] formed at time = 0.45 s.\n"
     ]
    },
    {
     "name": "stdout",
     "output_type": "stream",
     "text": [
      "Saving 10 Simulations for Network 30 Parameter 6\n",
      "Regressing Parameter 30 , Network 6\n",
      "Running Regression: 50 nodes\n",
      "Running Regression: 100 nodes\n",
      "Running Regression: 200 nodes\n",
      "Running Regression: 150 nodes\n",
      "Running Regression: 300 nodes\n",
      "Running Regression: 200 nodes\n",
      "Running Regression: 250 nodes\n",
      "\n"
     ]
    },
    {
     "name": "stderr",
     "output_type": "stream",
     "text": [
      "2020-09-03 17:11:42,251:INFO:First current path [77, 240, 138, 127, 145, 82] formed at time = 0.455 s.\n"
     ]
    },
    {
     "name": "stdout",
     "output_type": "stream",
     "text": [
      "Saving 10 Simulations for Network 30 Parameter 7\n",
      "Regressing Parameter 30 , Network 7\n",
      "Running Regression: 50 nodes\n",
      "Running Regression: 100 nodes\n",
      "Running Regression: 150 nodes\n",
      "Running Regression: 250 nodes\n",
      "\n",
      "Running Regression: 300 nodes\n",
      "Running Regression: 200 nodes\n"
     ]
    },
    {
     "name": "stderr",
     "output_type": "stream",
     "text": [
      "2020-09-03 17:11:45,961:INFO:First current path [195, 254, 54, 20, 283, 154] formed at time = 0.446 s.\n"
     ]
    },
    {
     "name": "stdout",
     "output_type": "stream",
     "text": [
      "Saving 10 Simulations for Network 30 Parameter 8\n",
      "Regressing Parameter 30 , Network 8\n",
      "Running Regression: 50 nodes\n",
      "Running Regression: 100 nodes\n",
      "Running Regression: 150 nodes\n",
      "Running Regression: 300 nodes\n",
      "Running Regression: 250 nodes\n",
      "Running Regression: 200 nodes\n",
      "\n"
     ]
    },
    {
     "name": "stderr",
     "output_type": "stream",
     "text": [
      "2020-09-03 17:11:50,359:INFO:First current path [1, 27, 162, 286, 147] formed at time = 0.39 s.\n"
     ]
    },
    {
     "name": "stdout",
     "output_type": "stream",
     "text": [
      "Saving 10 Simulations for Network 30 Parameter 9\n",
      "Regressing Parameter 30 , Network 9\n",
      "Running Regression: 50 nodes\n",
      "Running Regression: 100 nodes\n",
      "Running Regression: 150 nodes\n",
      "Running Regression: 250 nodes\n",
      "Running Regression: 300 nodes\n",
      "\n"
     ]
    },
    {
     "name": "stderr",
     "output_type": "stream",
     "text": [
      "2020-09-03 17:11:53,924:INFO:First current path [0, 175, 295, 177, 169] formed at time = 0.393 s.\n"
     ]
    },
    {
     "name": "stdout",
     "output_type": "stream",
     "text": [
      "Saving 10 Simulations for Network 30 Parameter 10\n",
      "Regressing Parameter 30 , Network 10\n",
      "Running Regression: 50 nodes\n",
      "Running Regression: 200 nodes\n",
      "Running Regression: 100 nodes\n",
      "Running Regression: 150 nodes\n",
      "Running Regression: 250 nodes\n",
      "Running Regression: 300 nodes\n",
      "Running Regression: 200 nodes\n",
      "Running Regression: 250 nodes\n",
      "Running Regression: 300 nodes\n",
      "Running Regression: 300 nodes\n",
      "\n"
     ]
    }
   ],
   "source": [
    "acc=para_run(nonlineartrans,init,nCPU=10)"
   ]
  },
  {
   "cell_type": "code",
   "execution_count": 25,
   "metadata": {},
   "outputs": [],
   "source": [
    "count=0\n",
    "for i in range(len(ASN300)):\n",
    "    for j in range(len(ASN300[i])):\n",
    "        ASN300[i][j]['Accuracy']['Linear Transformation']=acc[count]\n",
    "        count=count+1"
   ]
  },
  {
   "cell_type": "code",
   "execution_count": 26,
   "metadata": {},
   "outputs": [
    {
     "data": {
      "text/plain": [
       "'/import/silo2/aloe8475/Documents/CODE/Analysis/Functional Connectivity/Functional Tasks'"
      ]
     },
     "execution_count": 26,
     "metadata": {},
     "output_type": "execute_result"
    }
   ],
   "source": [
    "pwd"
   ]
  },
  {
   "cell_type": "code",
   "execution_count": 24,
   "metadata": {},
   "outputs": [],
   "source": [
    "name='networks_NoninearTransformation_2V.pkl'\n",
    "with open(name, 'wb') as f:\n",
    "    pickle.dump([ASN300], f)"
   ]
  },
  {
   "cell_type": "code",
   "execution_count": 30,
   "metadata": {},
   "outputs": [],
   "source": [
    "#Calculate nodesList\n",
    "nodesList=[[None]*10 for i in range(len(ASN300))]\n",
    "for i in range(len(ASN300)):\n",
    "    for j in range(len(ASN300[i])): #for each network:\n",
    "        if len(ASN300[i][j]['G']) >= 250:\n",
    "            nodesList[i][j]=[50,100,150,200,250,len(ASN300[i][j]['G'])]#range(50, len(ws300[i][0])+1,50)\n",
    "        elif len(ASN300[i][j]['G']) >= 200 and len(ASN300[i][j]['G']) < 250:\n",
    "            nodesList[i][j]=[50,100,150,200,len(ASN300[i][j]['G'])]#range(50, len(ws300[i][0])+1,50)  \n",
    "        elif len(ASN300[i][j]['G']) >= 150 and len(ASN300[i][j]['G']) < 200:\n",
    "            nodesList[i][j]=[50,100,150,len(ASN300[i][j]['G'])]#range(50, len(ws300[i][0])+1,50)  z\n",
    "        elif len(ASN300[i][j]['G']) >= 100 and len(ASN300[i][j]['G']) < 150:\n",
    "            nodesList[i][j]=[50,100,len(ASN300[i][j]['G'])]#range(50, len(ws300[i][0])+1,50)"
   ]
  },
  {
   "cell_type": "markdown",
   "metadata": {},
   "source": [
    "#### DO NOT DELETE COMMENTS BELOW"
   ]
  },
  {
   "cell_type": "code",
   "execution_count": 31,
   "metadata": {
    "scrolled": true
   },
   "outputs": [],
   "source": [
    "# #Current and Communicability Matrices:\n",
    "# if ( os.path.isfile(r'/import/silo2/aloe8475/Documents/CODE/Data/Functional Connectivity/simulations_LinearTransformation_29')):\n",
    "#     print('Running Communicability Analysis')\n",
    "#     time_index=[[None]*10 for i in range(len(ASN300))]\n",
    "#     junctions=[[None]*10 for i in range(len(ASN300))]\n",
    "#     sources=[[None]*10 for i in range(len(ASN300))]\n",
    "#     drains=[[None]*10 for i in range(len(ASN300))]\n",
    "#     count1=0\n",
    "#     count2=0\n",
    "#     count3=0\n",
    "#     for i in tqdm(range(len(ASN300))):\n",
    "#         check_memory()\n",
    "#         #load corresponding results_ASN file\n",
    "#         print('Loading Parameter ' + str(i+1) +' - All Networks')\n",
    "#         [results_ASN]=decompress_pickle(r'/import/silo2/aloe8475/Documents/CODE/Data/Functional Connectivity/simulations_LinearTransformation_'+str(i))\n",
    "#         print('Loaded Parameter ' + str(i+1) +' - All Networks')\n",
    "#         check_memory()\n",
    "#         for j in range(len(results_ASN)):\n",
    "#             print('Calculating COMM Matrix for Parameter ' + str(i+1) +', Network ' + str(j+1))\n",
    "#             nodesListASN_LT,commuMatASN_LT,currMatASN_LT,currGraphASN_LT,time_index[i][j]=commCurr(results_ASN[j]) #calculate communicability every 500 time steps for each network\n",
    "#             junctions[i][j]=results_ASN[j].junctionSwitch #save junction switch\n",
    "#             sources[i][j]=results_ASN[j].sources[0]\n",
    "#             drains[i][j]=results_ASN[j].drains[0]\n",
    "#               ASN300[i][j]['Graph Theory']['COMM Mat']=commuMatASN_LT\n",
    "#               ASN300[i][j]['Graph Theory']['Nodes List']=nodesListASN_LT\n",
    "#               ASN300[i][j][j]['Graph Theory']['Current Matrix']=currMatASN_LT\n",
    "#               ASN300[i][j][j]['Graph Theory']['Subgraph']=currGraphASN_LT\n",
    "\n",
    "\n",
    "#             if i < len(cluster1):\n",
    "#                 cluster1[count1][j]['Graph Theory']['COMM Mat']=commuMatASN_LT\n",
    "#                 cluster1[count1][j]['Graph Theory']['Nodes List']=nodesListASN_LT\n",
    "#                 cluster1[count1][j]['Graph Theory']['Current Matrix']=currMatASN_LT\n",
    "#                 cluster1[count1][j]['Graph Theory']['Subgraph']=currGraphASN_LT\n",
    "#                 if j == len(results_ASN)-1:\n",
    "#                     count1=count1+1\n",
    "#             elif i >= len(cluster1) and i < (len(cluster1) + len(cluster2)):\n",
    "#                 cluster2[count2][j]['Graph Theory']['COMM Mat']=commuMatASN_LT\n",
    "#                 cluster2[count2][j]['Graph Theory']['Nodes List']=nodesListASN_LT\n",
    "#                 cluster2[count2][j]['Graph Theory']['Current Matrix']=currMatASN_LT\n",
    "#                 cluster2[count2][j]['Graph Theory']['Subgraph']=currGraphASN_LT\n",
    "#                 if j == len(results_ASN)-1: \n",
    "#                     count2=count2+1\n",
    "#             else:\n",
    "#                 cluster3[count3][j]['Graph Theory']['COMM Mat']=commuMatASN_LT\n",
    "#                 cluster3[count3][j]['Graph Theory']['Nodes List']=nodesListASN_LT\n",
    "#                 cluster3[count3][j]['Graph Theory']['Current Matrix']=currMatASN_LT\n",
    "#                 cluster3[count3][j]['Graph Theory']['Subgraph']=currGraphASN_LT\n",
    "#                 if j == len(results_ASN)-1:                \n",
    "#                     count3=count3+1\n",
    "#         del results_ASN, commuMatASN_LT, nodesListASN_LT, currMatASN_LT, currGraphASN_LT\n",
    "        \n",
    "# else:\n",
    "#     print('Communicability Analysis Loaded')"
   ]
  },
  {
   "cell_type": "code",
   "execution_count": 32,
   "metadata": {},
   "outputs": [],
   "source": [
    "# #Save Communicability Matrices so we don't have to load it all again:\n",
    "# #Update pickle file:\n",
    "# # if ( os.path.isfile(r'C:/Users/61424/Documents/GitHub/CODE/Analysis/Functional Connectivity/Functional Tasks/networks_LinearTransformation.pkl')):\n",
    "# name='networks_LinearTransformation.pkl'\n",
    "# with open(name, 'wb') as f:\n",
    "#     pickle.dump([ASN300,cluster1,cluster2,cluster3,time_index,nodesList], f)"
   ]
  },
  {
   "cell_type": "code",
   "execution_count": 33,
   "metadata": {},
   "outputs": [],
   "source": [
    "# #network junctions switches:\n",
    "# fig1=plt.figure(figsize=(15,15))\n",
    "# ax=[None]*numNetworks\n",
    "# axBig = fig1.add_subplot(111)\n",
    "# axBig.set_frame_on(False)\n",
    "# axBig.set_yticklabels([])\n",
    "# axBig.set_xticklabels([])\n",
    "# plt.xlabel('Time',fontsize=30,labelpad=15)\n",
    "# plt.ylabel('Num On Switches',fontsize=30,labelpad=15)\n",
    "# count1=0\n",
    "# count2=0\n",
    "# count3=0\n",
    "\n",
    "# for i in range(numNetworks):\n",
    "#     ax[i]=fig1.add_subplot(numNetworks/4, numNetworks/6, i+1)\n",
    "#     fig1.subplots_adjust(hspace=.4)\n",
    "#     if i < len(cluster1):\n",
    "#         ax[i].set_title('Cluster 1 Network ' + str(count1+1),fontsize=15)\n",
    "#         count1=count1+1\n",
    "#     elif i >= len(cluster1) and i < (len(cluster1) + len(cluster2)):\n",
    "#         ax[i].set_title('Cluster 2 Network ' + str(count2+1),fontsize=15)\n",
    "#         count2=count2+1\n",
    "#     else:\n",
    "#         ax[i].set_title('Cluster 3 Network ' + str(count3+1),fontsize=15)\n",
    "#         count3=count3+1\n",
    "#     plt.plot(np.sum(junctions[i][j],1))\n",
    "#     #votlage as title "
   ]
  },
  {
   "cell_type": "code",
   "execution_count": 34,
   "metadata": {},
   "outputs": [],
   "source": [
    "# i=3000\n",
    "\n",
    "# sim=results_ASN[0]\n",
    "# subGraph=getOnGraph(sim,i)\n",
    "# components = [j for j in nx.connected_components(subGraph)] #all connected nodes in subgraph\n",
    "\n",
    "# currMat = np.zeros((sim.numOfWires,sim.numOfWires))\n",
    "# edgeList = sim.connectivity.edge_list\n",
    "# currMat[edgeList[:,0], edgeList[:,1]] = sim.junctionVoltage[i,:]/sim.junctionResistance[i,:] #-1,:\n",
    "# currMat = currMat + currMat.T\n",
    "# currGraph = nx.from_numpy_array(currMat)\n",
    "# subGraph = getOnGraph(sim, this_TimeStamp=i)\n",
    "\n",
    "# components = [j for j in nx.connected_components(subGraph)] #all connected nodes in subgraph\n",
    "\n",
    "# max_ind = np.argmax([len(j) for j in nx.connected_components(subGraph)])\n",
    "# currGraph = nx.subgraph(currGraph, components[max_ind])\n",
    "\n",
    "# commu = nx.communicability(currGraph)\n",
    "# commu_Edges=commu\n",
    "# subSize = len(currGraph)\n",
    "# nodesList=list(currGraph.nodes)\n",
    "# commu_Mat = np.array([commu[k][j] for k in nodesList for j in nodesList]).reshape(subSize,subSize)\n"
   ]
  },
  {
   "cell_type": "markdown",
   "metadata": {},
   "source": [
    "## C. Elegans"
   ]
  },
  {
   "cell_type": "code",
   "execution_count": 35,
   "metadata": {},
   "outputs": [],
   "source": [
    "#On Amp as a function of shortestPath\n",
    "onAmp=[]\n",
    "shortestPathElegans=[]\n",
    "temp=getFarthestPairing(Elegans['adj_matrix'])\n",
    "shortestPathElegans=nx.shortest_path_length(Elegans['G'],temp[0],temp[1])\n",
    "onAmpElegans=shortestPathElegans/5"
   ]
  },
  {
   "cell_type": "code",
   "execution_count": 41,
   "metadata": {},
   "outputs": [
    {
     "name": "stdout",
     "output_type": "stream",
     "text": [
      "Network C.Elegans\n"
     ]
    },
    {
     "data": {
      "application/vnd.jupyter.widget-view+json": {
       "model_id": "e2c74583ed3a4446bbd1d39bec540cfb",
       "version_major": 2,
       "version_minor": 0
      },
      "text/plain": [
       "HBox(children=(IntProgress(value=0, description='Running Simulation ', max=5000, style=ProgressStyle(descripti…"
      ]
     },
     "metadata": {},
     "output_type": "display_data"
    },
    {
     "name": "stdout",
     "output_type": "stream",
     "text": [
      "\n"
     ]
    },
    {
     "name": "stderr",
     "output_type": "stream",
     "text": [
      "2020-06-10 14:08:47,776:INFO:First current path [9, 38, 16, 169, 105, 98, 36] formed at time = 0.773 s.\n"
     ]
    },
    {
     "name": "stdout",
     "output_type": "stream",
     "text": [
      "Running Regression: 50 nodes\n",
      "Running Regression: 100 nodes\n",
      "Running Regression: 150 nodes\n",
      "Running Regression: 200 nodes\n",
      "Running Regression: 250 nodes\n",
      "Running Regression: 277 nodes\n"
     ]
    }
   ],
   "source": [
    "#Instantiate Variables       \n",
    "stimulus_E=[[],[]]\n",
    "accSqu=[]\n",
    "#    accTri=[]\n",
    "#    accSaw=[]\n",
    "#    accDbl=[]\n",
    "maxSqu=[]\n",
    "#    maxTri=[]\n",
    "#    maxSaw=[]\n",
    "#    maxDbl=[]\n",
    "dt = 1e-2\n",
    "f=0.5\n",
    "Time=5\n",
    "# onAmp=2#[1.5,2,4,4,4,6,6,6,6,6,6,6,4,4,4,4,6,4,4,4,4,3,2,1.5]\n",
    "\n",
    "#Choose Electrode Pattern\n",
    "\n",
    "stimulus_E[0].append((stimulus__(biasType='AC',onAmp=onAmpElegans,TimeVector=np.arange(0,Time,dt),f=f)))\n",
    "stimulus_E[1].append((stimulus__(biasType='Drain',TimeVector=np.arange(0,Time,dt)))) #we don't want this drain to be active during training\n",
    "\n",
    "#Initialise Output Variables\n",
    "period=[]\n",
    "TimeVector=[]\n",
    "voltage=[]\n",
    "conductance=[]\n",
    "switches=[]\n",
    "results=[None]*len([elegansGraph])\n",
    "# Voltage=[None]*len(ASN300)\n",
    "# Switches=[None]*len(ASN300)\n",
    "\n",
    "\n",
    "nwSqu = []*len([elegansGraph])\n",
    "\n",
    "#Run Simulations\n",
    "# for i in range(len(ASN300)): #for each network\n",
    "print('Network C.Elegans')\n",
    "#Run Simulations\n",
    "#     results=[]\n",
    "# Connectivity=connectivity__('700nw_14533junctions.mat')\n",
    "stimulus2 = [item for item in stimulus_E] #go through each list in the list and find the ith item\n",
    "#     set_trace()\n",
    "results=runSim(connectivity__(graph=elegansGraph),stimulus=stimulus2, contactMode='farthest', T = Time, dt = 0.001, onAmp = onAmpElegans, biasType='AC',f=f,junctionMode='tunneling')\n",
    "#wires_dict=newNetworkTest[chosenNetwork])\n",
    "results.frequency=f\n",
    "results.dt=0.001\n",
    "period=1/f\n",
    "\n",
    "TimeVector=results.TimeVector\n",
    "voltage=results.wireVoltage\n",
    "conductance=results.conductance\n",
    "switches=results.junctionSwitch\n",
    "\n",
    "stepNodes=len(elegansGraph)-1 #first use all nodes\n",
    "sizes2=len(elegansGraph)\n",
    "nwOutputs = [None]* int(sizes2/stepNodes)\n",
    "\n",
    "outputNodes2=[]\n",
    "\n",
    "for k in range(stepNodes,sizes2+1,stepNodes): #stepping up nodes\n",
    "    np.random.seed(69)\n",
    "\n",
    "    outputNodes2.append(voltage[:,np.random.choice(len(voltage[0,:]),size=k,replace=False)]) #take all the times (:) for a random j nodes\n",
    "\n",
    "    nwOutputs=outputNodes2 #Length of nwOutputs is k (list)\n",
    "\n",
    "target1=[None]*len(nwOutputs)\n",
    "#     target2=[None]*len(nwOutputs)\n",
    "#     target3=[None]*len(nwOutputs)\n",
    "#     target4=[None]*len(nwOutputs)\n",
    "#     target5=[None]*len(nwOutputs)\n",
    "\n",
    "for j in range(len(nwOutputs)):\n",
    "    target1[j] = (onAmpElegans * (-np.sign(TimeVector % period - period/2)))\n",
    "#         target2[j] = (4*onAmp[i]/period * abs((TimeVector-period/4) % period - period/2) - onAmp[i])\n",
    "#         target3[j] = (onAmp[i]/period * (TimeVector % period))\n",
    "#         target4[j] = (onAmp[i]*np.sin(4*np.pi*(1/period)*TimeVector))\n",
    "\n",
    "\n",
    "#        nwTri     = np.zeros(len(nwOutputs))\n",
    "#        nwSaw     = np.zeros(len(nwOutputs))\n",
    "#        nwDbl     = np.zeros(len(nwOutputs))\n",
    "#     nwMG      = [[None]*networksLoad,[None]*len(nwOutputs[0])]\n",
    "\n",
    "ResultSqu=[]\n",
    "#        ResultTri=[]\n",
    "#        ResultSaw=[]\n",
    "accuracy=[]\n",
    "#        accuracyTri=[]\n",
    "#        accuracySaw=[]\n",
    "#        accuracyDbl=[]\n",
    "output=[]\n",
    "mSqu=[]\n",
    "#        mTri=[]\n",
    "#        mSaw=[]\n",
    "#        mDbl=[]\n",
    "\n",
    "# RUN LINEAR TRANSFORMATION\n",
    "nodesListElegans=[50,100,150,200,250,len(Elegans['G'])]\n",
    "for j in nodesListElegans: #range(50, len(Elegans['G'])+1,50): #loop through sets of nodes \n",
    "    print('Running Regression: ' + str(j) + ' nodes')\n",
    "    \n",
    "    ResultSqu=nonLinearTrans(results,'Square',j, repeats=50) #NOKEVregression(target1[j],nwOutputs[j].T)[0]\n",
    "    \n",
    "    nwSqu.append(ResultSqu['accuracy'])#(1 - rnMSE)\n",
    "    \n",
    "    \n",
    "#THRESHOLD FOR COMMUNICABILITY MEASURE\n",
    "results=[results]\n",
    "# # From Matlab:\n",
    "# resistance=results.junctionResistance\n",
    "# for i in range(len(resistance)):\n",
    "#     if resistance[i]<10000:\n",
    "#         resistance[i][resistance[i]<10000]=1\n",
    "# else:\n",
    "#     resistance[i]=0"
   ]
  },
  {
   "cell_type": "code",
   "execution_count": 42,
   "metadata": {},
   "outputs": [
    {
     "name": "stdout",
     "output_type": "stream",
     "text": [
      "Loading Elegans Networks\n",
      "Loaded\n"
     ]
    }
   ],
   "source": [
    "if (not os.path.isfile('elegans_LinearTransformation.pkl')): #if we haven't saved the file\n",
    "    #Current and Communicability Matrices\n",
    "    commuMatElegans_LT=[None]*len(results)\n",
    "    currMatElegans_LT=[None]*len(results)\n",
    "    # for i in tqdm(range(len(results))):\n",
    "    nodesListElegans_LT,commuMatElegans_LT,currMatElegans_LT,new_currGraphElegans_LT,time_indexElegans=commCurr(results[0])\n",
    "\n",
    "    Elegans['Graph Theory']['COMM Mat']=commuMatElegans_LT\n",
    "    Elegans['Graph Theory']['Nodes List']=nodesListElegans_LT\n",
    "    Elegans['Graph Theory']['Current Matrix']=currMatElegans_LT\n",
    "    Elegans['Graph Theory']['Subgraph']=new_currGraphElegans_LT\n",
    "    Elegans['Accuracy']['Linear Transformation']=nwSqu\n",
    "    \n",
    "    #Save networks so we don't have to run this every time\n",
    "    print('Saving Elegans Networks')\n",
    "    name='elegans_LinearTransformation.pkl'\n",
    "    with open(name, 'wb') as f:\n",
    "        pickle.dump([Elegans], f)\n",
    "else:\n",
    "    name='elegans_LinearTransformation.pkl'\n",
    "    print('Loading Elegans Networks')\n",
    "    file = open(name, 'rb')\n",
    "#     [ASN300,cluster1,cluster2,cluster3,time_index,nodesList] = pickle.load(file)\n",
    "#     [ASN300,cluster1,cluster2,cluster3] = pickle.load(file)\n",
    "    [Elegans] = pickle.load(file)\n",
    "\n",
    "    print('Loaded')"
   ]
  },
  {
   "cell_type": "markdown",
   "metadata": {},
   "source": [
    "## Functional Connectivity"
   ]
  },
  {
   "cell_type": "markdown",
   "metadata": {},
   "source": [
    "### COMMUNICABILITY 12/05 - Need to fix"
   ]
  },
  {
   "cell_type": "code",
   "execution_count": null,
   "metadata": {
    "scrolled": true
   },
   "outputs": [],
   "source": [
    "#Assign weights to edges based on COMMUNICABILITY:\n",
    "\n",
    "#Cluster 1:\n",
    "G_C1=[]\n",
    "weights_C1=[]\n",
    "for i in range(len(cluster1)): #for each network\n",
    "    G_C1.append([None]*len(cluster1[i]['Graph Theory']['COMM Mat']))\n",
    "    weights_C1.append([None]*len(cluster1[i]['Graph Theory']['COMM Mat']))\n",
    "    for j in range(len(cluster1[i]['Graph Theory']['COMM Mat'])): #for each timestamp \n",
    "        G_C1[i][j]=cluster1[i]['Graph Theory']['Subgraph'][j]\n",
    "        weights_C1[i][j]=cluster1[i]['Graph Theory']['COMM Mat'][j]\n",
    "        for e in G_C1[i][j].edges(): #for each edge pairing\n",
    "            G_C1[i][j][e[0]][e[1]]['weight'] = weights_C1[i][j][e]\n",
    "            \n",
    "#Cluster 2:\n",
    "G_C2=[]\n",
    "weights_C2=[]\n",
    "for i in range(len(cluster2)): #for each network\n",
    "    G_C2.append([None]*len(cluster2[i]['Graph Theory']['COMM Mat']))\n",
    "    weights_C2.append([None]*len(cluster2[i]['Graph Theory']['COMM Mat']))\n",
    "    for j in range(len(cluster2[i]['Graph Theory']['COMM Mat'])): #for each timestamp \n",
    "        G_C2[i][j]=cluster2[i]['Graph Theory']['Subgraph'][j]\n",
    "        weights_C2[i][j]=cluster2[i]['Graph Theory']['COMM Mat'][j]\n",
    "        for e in G_C2[i][j].edges(): #for each edge pairing\n",
    "            G_C2[i][j][e[0]][e[1]]['weight'] = weights_C2[i][j][e]\n",
    "            \n",
    "#Cluster 3:\n",
    "G_C3=[]\n",
    "weights_C3=[]\n",
    "for i in range(len(cluster3)): #for each network\n",
    "    G_C3.append([None]*len(cluster3[i]['Graph Theory']['COMM Mat']))\n",
    "    weights_C3.append([None]*len(cluster3[i]['Graph Theory']['COMM Mat']))\n",
    "    for j in range(len(cluster3[i]['Graph Theory']['COMM Mat'])): #for each timestamp \n",
    "        G_C3[i][j]=cluster3[i]['Graph Theory']['Subgraph'][j]\n",
    "        weights_C3[i][j]=cluster3[i]['Graph Theory']['COMM Mat'][j]\n",
    "        for e in G_C3[i][j].edges(): #for each edge pairing\n",
    "            G_C3[i][j][e[0]][e[1]]['weight'] = weights_C3[i][j][e]\n",
    "            \n",
    "#C Elegans:\n",
    "G_E=[]\n",
    "weights_E=[]\n",
    "temp=[None]\n",
    "for i in range(len(temp)): #for each network\n",
    "    temp[i]=Elegans\n",
    "    G_E.append([None]*len(temp[i]['Graph Theory']['COMM Mat']))\n",
    "    weights_E.append([None]*len(temp[i]['Graph Theory']['COMM Mat']))\n",
    "    for j in range(len(temp[i]['Graph Theory']['COMM Mat'])): #for each timestamp \n",
    "        G_E[i][j]=temp[i]['Graph Theory']['Subgraph'][j]\n",
    "        weights_E[i][j]=temp[i]['Graph Theory']['COMM Mat'][j]\n",
    "        for e in G_E[i][j].edges(): #for each edge pairing\n",
    "            G_E[i][j][e[0]][e[1]]['weight'] = weights_E[i][j][e]"
   ]
  },
  {
   "cell_type": "code",
   "execution_count": null,
   "metadata": {},
   "outputs": [],
   "source": [
    "#Plot timeseries:\n",
    "fig=plt.figure()\n",
    "plt.plot(stimulus[0][0].signal)#Stimulus[electrode type][network number]\n",
    "plt.xticks(range(50,151,50),labels=range(500,1501,500))\n",
    "plt.axvline(50,linestyle='--',color='k')\n",
    "plt.axvline(150,linestyle='--',color='k')\n",
    "\n",
    "# PLOT SUBGRAPH ONLY:\n",
    "fig1=plt.figure(figsize=(15,20))\n",
    "# for i in range(len(cluster1)):\n",
    "ax=[None]*(len(cluster1[0]['Graph Theory']['COMM Mat']))\n",
    "\n",
    "#Find Maximum COMM\n",
    "vmax1=[]\n",
    "for i in range(len(G[0])):\n",
    "    if bool(nx.get_edge_attributes(G[0][i],'weight')):\n",
    "        edges,weights2 = zip(*nx.get_edge_attributes(G[0][i],'weight').items())\n",
    "        vmax1.append(max(weights2))\n",
    "    else:\n",
    "        weights2=[]\n",
    "        edges=[]\n",
    "    \n",
    "count1=0\n",
    "times=range(time_index[0][0],time_index[0][1],time_index[0][2])\n",
    "for j in range(len(cluster1[0]['Graph Theory']['COMM Mat'])): #for each timestamp\n",
    "    ax[j]=fig1.add_subplot(7,3, j+1)\n",
    "    ax[j].set_title('Cluster 1, NW 1, Timestamp ' + str(times[j]),fontsize=15)\n",
    "    if bool(nx.get_edge_attributes(G[0][j],'weight')):\n",
    "        edges,weights2 = zip(*nx.get_edge_attributes(G[0][j],'weight').items())\n",
    "    else:\n",
    "        weights2=[]\n",
    "        edges=[]\n",
    "        \n",
    "    posSub=nx.drawing.layout.kamada_kawai_layout(G[0][j])\n",
    "    # fig=plt.figure(figsize=(30,30))\n",
    "    cmap=plt.cm.autumn_r\n",
    "    vmin = 1\n",
    "    vmax=max(vmax1)\n",
    "    \n",
    "    #NORMALIZE WEIGHTS:\n",
    "    normalize=plt.Normalize(vmin = vmin, vmax=vmax)\n",
    "    colors=[cmap(normalize(value)) for value in weights2]\n",
    "    \n",
    "    nx.draw(G[0][j],posSub,node_color='k',edgelist=edges,edge_color=colors, width=2,edge_cmap=cmap)\n",
    "    sm = plt.cm.ScalarMappable(cmap=cmap, norm=plt.Normalize(vmin = vmin, vmax=vmax))\n",
    "    sm._A = []\n",
    "\n",
    "    plt.colorbar(sm)\n",
    "    \n",
    "    count1=count1+1"
   ]
  },
  {
   "cell_type": "code",
   "execution_count": null,
   "metadata": {},
   "outputs": [],
   "source": [
    "# #Plot timeseries:\n",
    "# fig=plt.figure()\n",
    "# plt.plot(stimulus[0][0].signal)#Stimulus[electrode type][network number]\n",
    "# plt.xticks(range(50,151,50),labels=range(500,1501,500))\n",
    "# plt.axvline(50,linestyle='--',color='k')\n",
    "# plt.axvline(150,linestyle='--',color='k')\n",
    "# # plt.xticks(range(0,501,50),labels=range(0,5001,500))\n",
    "\n",
    "G=[]\n",
    "clusterNum=3#'E' #CHANGE CLUSTER TO PLOT HERE, for elegans = 'E'\n",
    "if clusterNum==1:\n",
    "    G=G_C1\n",
    "    cluster=cluster1\n",
    "    accuracy=[[None]*len(cluster1accuracy) for i in range(len(cluster1accuracy[0]))]\n",
    "    for i in range(len(cluster1accuracy)):\n",
    "        for j in range(len(cluster1accuracy[i])):\n",
    "            accuracy[j][i]=cluster1accuracy[i][j]\n",
    "    count=0\n",
    "elif clusterNum==2:\n",
    "    G=G_C2\n",
    "    cluster=cluster2\n",
    "    accuracy=[[None]*len(cluster2accuracy) for i in range(len(cluster2accuracy[0]))]\n",
    "    for i in range(len(cluster2accuracy)):\n",
    "        for j in range(len(cluster2accuracy[i])):\n",
    "            accuracy[j][i]=cluster2accuracy[i][j]\n",
    "    count=len(cluster1)\n",
    "elif clusterNum==3:\n",
    "    G=G_C3\n",
    "    cluster=cluster3\n",
    "    accuracy=[[None]*len(cluster3accuracy) for i in range(len(cluster3accuracy[0]))]\n",
    "    for i in range(len(cluster3accuracy)):\n",
    "        for j in range(len(cluster3accuracy[i])):\n",
    "            accuracy[j][i]=cluster3accuracy[i][j]\n",
    "    count=len(cluster1)+len(cluster2)\n",
    "elif clusterNum=='E':\n",
    "    G=G_E\n",
    "    cluster=[None]\n",
    "    cluster[0]=Elegans\n",
    "    accuracy=Elegans['Accuracy']['Linear Transformation']\n",
    "\n",
    "    #Plot Figures\n",
    "fig=[None]*len(G)\n",
    "for i in tqdm(range(len(G))): #For Each Network\n",
    "    #initialise variables:\n",
    "    pos=[]\n",
    "    sm=[]\n",
    "    ax=[None]*(len(cluster[i]['Graph Theory']['COMM Mat']))\n",
    "    \n",
    "    #Find Maximum COMM\n",
    "    vmax1=[]\n",
    "    for j in range(len(G[i])):\n",
    "        if bool(nx.get_edge_attributes(G[i][j],'weight')):\n",
    "            edges,weights2 = zip(*nx.get_edge_attributes(G[i][j],'weight').items())\n",
    "            vmax1.append(max(weights2))\n",
    "        else:\n",
    "            weights2=[]\n",
    "            edges=[]\n",
    "\n",
    "    #PLOT NETWORK + COMMUNICABILITY OVERLAYED\n",
    "    fig[i]=plt.figure(figsize=(40,30))\n",
    "    pos=nx.drawing.layout.kamada_kawai_layout(cluster[i]['G'])\n",
    "    for j in range(len(cluster[i]['Graph Theory']['COMM Mat'])): #for each timestamp\n",
    "        colors=[]\n",
    "        ax[j]=fig[i].add_subplot(4,5, j+1) #CHANGE THIS FOR MORE/LESS TIMESTAMPS (rows, columns, subplot number)\n",
    "        ax[j].set_title('Cluster ' + str(clusterNum)+ ', NW ' + str(i+1) + ' Timestamp ' + str(times[j]),fontsize=20)\n",
    "        nx.draw_networkx(cluster[i]['G'],pos,edge_color='gray',alpha=0.1,with_labels=False,node_size=30)\n",
    "        colors=range(20)\n",
    "        cmap=plt.cm.autumn_r\n",
    "        vmin = 1\n",
    "        vmax=max(vmax1)\n",
    "\n",
    "        #NORMALIZE WEIGHTS:\n",
    "        normalize=plt.Normalize(vmin = vmin, vmax=vmax)\n",
    "        colors=[cmap(normalize(value)) for value in weights2]\n",
    "        if clusterNum=='E':\n",
    "            nx.draw_networkx(cluster[i]['G'],pos,nodelist=[results[i].sources[0]],node_color='g',edgelist=[],with_labels=False)\n",
    "            nx.draw_networkx(cluster[i]['G'],pos,nodelist=[results[i].drains[0]],node_color='r',edgelist=[],with_labels=False)\n",
    "        else:\n",
    "            nx.draw_networkx(cluster[i]['G'],pos,nodelist=[sources[count+i]],node_color='g',edgelist=[],with_labels=False)\n",
    "            nx.draw_networkx(cluster[i]['G'],pos,nodelist=[drains[count+i]],node_color='r',edgelist=[],with_labels=False)\n",
    "        nx.draw_networkx_edges(cluster[i]['G'],pos,edgelist=G[i][j].edges,edge_color=colors,alpha=0.8, width=3,edge_cmap=cmap)\n",
    "        sm = plt.cm.ScalarMappable(cmap=cmap, norm=plt.Normalize(vmin = vmin, vmax=vmax))\n",
    "        sm._A = []\n",
    "\n",
    "        cb=plt.colorbar(sm)\n",
    "        cb.set_label(label='Communicability', size='large', weight='bold')\n",
    "        \n",
    "        if j == 0:\n",
    "            if clusterNum == 'E':\n",
    "                plt.text(0.05,0.9,'Max LT Acc:'+\"{0:.2f}\".format(np.max(accuracy)),transform=ax[j].transAxes,fontsize=15) #this plots Smallworldness as text in a relative position on each subplot\n",
    "            else:\n",
    "                plt.text(0.05,0.9,'Max LT Acc:'+\"{0:.2f}\".format(np.nanmax(np.array(accuracy[i],dtype=float))),transform=ax[j].transAxes,fontsize=15) #this plots Smallworldness as text in a relative position on each subplot\n",
    "    if clusterNum=='E':\n",
    "        plt.savefig(r'C:\\Users\\61424\\Documents\\GitHub\\CODE\\Data\\Figures\\Functional Connectivity\\Communicability\\Communicability Conductance Subgraph Elegans.jpg')\n",
    "    else:\n",
    "        plt.savefig(r'C:\\Users\\61424\\Documents\\GitHub\\CODE\\Data\\Figures\\Functional Connectivity\\Communicability\\Communicability Conductance Subgraph Cluster '+ str(clusterNum) +' NW ' + str(i+1) + '.jpg')"
   ]
  }
 ],
 "metadata": {
  "kernelspec": {
   "display_name": "Python 3",
   "language": "python",
   "name": "python3"
  },
  "language_info": {
   "codemirror_mode": {
    "name": "ipython",
    "version": 3
   },
   "file_extension": ".py",
   "mimetype": "text/x-python",
   "name": "python",
   "nbconvert_exporter": "python",
   "pygments_lexer": "ipython3",
   "version": "3.7.3"
  }
 },
 "nbformat": 4,
 "nbformat_minor": 4
}
