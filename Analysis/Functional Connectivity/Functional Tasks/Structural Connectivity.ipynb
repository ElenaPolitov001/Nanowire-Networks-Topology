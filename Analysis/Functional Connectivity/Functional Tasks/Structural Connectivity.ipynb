{
 "cells": [
  {
   "cell_type": "code",
   "execution_count": 1,
   "metadata": {},
   "outputs": [],
   "source": [
    "import sys\n",
    "sys.path.append('/import/silo2/aloe8475/Documents/edamame')"
   ]
  },
  {
   "cell_type": "code",
   "execution_count": 2,
   "metadata": {},
   "outputs": [],
   "source": [
    "from scipy.io import loadmat, savemat\n",
    "from scipy.stats import kurtosis\n",
    "\n",
    "import numpy as np\n",
    "import matplotlib.pyplot as plt\n",
    "from matplotlib import colors\n",
    "import datetime\n",
    "import networkx as nx\n",
    "from edamame import *\n",
    "from tqdm import tqdm_notebook\n",
    "import os\n",
    "import edamame.core.wires as wires\n",
    "from random import choice\n",
    "import warnings\n",
    "from IPython.core.debugger import set_trace\n",
    "# import nct\n",
    "import bct\n",
    "\n",
    "#warnings.filterwarnings('ignore')"
   ]
  },
  {
   "cell_type": "code",
   "execution_count": 3,
   "metadata": {},
   "outputs": [],
   "source": [
    "import pickle \n",
    "import _pickle as cPickle\n",
    "import gzip\n",
    "def compressed_pickle(obj, filename,protocol=-1):\n",
    "    with gzip.open(filename, 'wb') as f:\n",
    "        cPickle.dump(obj, f, protocol)"
   ]
  },
  {
   "cell_type": "code",
   "execution_count": 4,
   "metadata": {},
   "outputs": [],
   "source": [
    "def decompress_pickle(file):\n",
    "    with gzip.open(file, 'rb') as f:\n",
    "        loaded_object = cPickle.load(f)\n",
    "        return loaded_object"
   ]
  },
  {
   "cell_type": "code",
   "execution_count": 5,
   "metadata": {},
   "outputs": [],
   "source": [
    "# this_seed2=700\n",
    "def connected_component_subgraphs(G):\n",
    "    for c in nx.connected_components(G):\n",
    "        yield G.subgraph(c)"
   ]
  },
  {
   "cell_type": "code",
   "execution_count": 6,
   "metadata": {},
   "outputs": [],
   "source": [
    "#Select Largest Components\n",
    "def select_largest_component_new(wires_dict):\n",
    "    \"\"\"\n",
    "    Find and select largest connected component of the original graph G.\n",
    "    Throws away unconnected components and updates all the keys in wires_dict \n",
    "    \"\"\"\n",
    "#     def connected_component_subgraphs(G):\n",
    "#         for c in nx.connected_components(G):\n",
    "#             yield G.subgraph(c)\n",
    "    \n",
    "    wires_dict['G'] = max(connected_component_subgraphs(wires_dict['G']), key=len)\n",
    "#     set_trace()\n",
    "    nw = len(wires_dict['G'].nodes())\n",
    "    nj = len(wires_dict['G'].edges())   \n",
    "    \n",
    "    logging.info(\"The largest component has %5d nodes and %6d edges\", nw, nj)\n",
    "\n",
    "    # Replace values in the dictionary\n",
    "    wires_dict['number_of_wires']     = nw\n",
    "    wires_dict['number_of_junctions'] = nj\n",
    "    wires_dict['xa'] = wires_dict['xa'][wires_dict['G'].nodes()] \n",
    "    wires_dict['ya'] = wires_dict['ya'][wires_dict['G'].nodes()] \n",
    "    wires_dict['xb'] = wires_dict['xb'][wires_dict['G'].nodes()] \n",
    "    wires_dict['yb'] = wires_dict['yb'][wires_dict['G'].nodes()]\n",
    "    wires_dict['xc'] = wires_dict['xc'][wires_dict['G'].nodes()] \n",
    "    wires_dict['yc'] = wires_dict['yc'][wires_dict['G'].nodes()]\n",
    " \n",
    "    # Keep old edge_list\n",
    "    old_edge_list = [(ii, kk) for ii, kk in  zip(wires_dict['edge_list'][:, 0], wires_dict['edge_list'][:, 1])]\n",
    "    # Remove old edge list\n",
    "    wires_dict = wires.remove_key(wires_dict, 'edge_list') \n",
    "    # Save indices of intersections in the old graph\n",
    "    ind_dict = {key:value for value,key in enumerate(old_edge_list)}\n",
    "    new_edge_list = sorted([kk if kk[0] < kk[1] else (kk[1], kk[0]) for kk in wires_dict['G'].edges()], key=lambda x: x[0])\n",
    "    # Find intersection between the two sets\n",
    "    inter = set(ind_dict).intersection(new_edge_list)\n",
    "    # Retrieve edge indices/positions from the old list\n",
    "    edges_idx = [ind_dict[idx] for idx in inter]\n",
    "       \n",
    "    # These have length equal to number of junctions -- only get the ones we need\n",
    "    wires_dict['xi'] = wires_dict['xi'][edges_idx] \n",
    "    wires_dict['yi'] = wires_dict['yi'][edges_idx] \n",
    "    \n",
    "    # Get contiguous numbering of nodes\n",
    "    # Build node mapping \n",
    "    node_mapping    = {key:value for value, key in enumerate(sorted(wires_dict['G'].nodes()))}\n",
    "    # This  step also renames edges list\n",
    "    wires_dict['G'] =  nx.relabel_nodes(wires_dict['G'] , node_mapping)\n",
    "\n",
    "    # Swap node vertices if vertex 0 is larger than vertex 1, then sort by first element\n",
    "    wires_dict['edge_list'] = np.asarray(sorted([kk if kk[0] < kk[1] else (kk[1], kk[0]) for kk in wires_dict['G'].edges()], key=lambda x: x[0]))\n",
    "    \n",
    "    # Save adjacency matrix of new graph\n",
    "    wires_dict = wires.remove_key(wires_dict, 'adj_matrix') \n",
    "    wires_dict = wires.generate_adj_matrix(wires_dict)\n",
    "\n",
    "    wire_distances = wires.cdist(np.array([wires_dict['xc'], wires_dict['yc']]).T, np.array([wires_dict['xc'], wires_dict['yc']]).T, metric='euclidean')    \n",
    "    wires_dict['wire_distances'] = wire_distances\n",
    "\n",
    "    return wires_dict "
   ]
  },
  {
   "cell_type": "code",
   "execution_count": 7,
   "metadata": {},
   "outputs": [],
   "source": [
    "def community_layout(g, partition):\n",
    "    \"\"\"\n",
    "    Compute the layout for a modular graph.\n",
    "\n",
    "\n",
    "    Arguments:\n",
    "    ----------\n",
    "    g -- networkx.Graph or networkx.DiGraph instance\n",
    "        graph to plot\n",
    "\n",
    "    partition -- dict mapping int node -> int community\n",
    "        graph partitions\n",
    "\n",
    "\n",
    "    Returns:\n",
    "    --------\n",
    "    pos -- dict mapping int node -> (float x, float y)\n",
    "        node positions\n",
    "\n",
    "    \"\"\"\n",
    "\n",
    "    pos_communities = _position_communities(g, partition, scale=3.)\n",
    "\n",
    "    pos_nodes = _position_nodes(g, partition, scale=1.)\n",
    "\n",
    "    # combine positions\n",
    "    pos = dict()\n",
    "    for node in g.nodes():\n",
    "        pos[node] = pos_communities[node] + pos_nodes[node]\n",
    "\n",
    "    return pos\n",
    "\n",
    "def _position_communities(g, partition, **kwargs):\n",
    "\n",
    "    # create a weighted graph, in which each node corresponds to a community,\n",
    "    # and each edge weight to the number of edges between communities\n",
    "    between_community_edges = _find_between_community_edges(g, partition)\n",
    "\n",
    "    communities = set(partition.values())\n",
    "    hypergraph = nx.DiGraph()\n",
    "    hypergraph.add_nodes_from(communities)\n",
    "    for (ci, cj), edges in between_community_edges.items():\n",
    "        hypergraph.add_edge(ci, cj, weight=len(edges))\n",
    "\n",
    "    # find layout for communities\n",
    "    pos_communities = nx.spring_layout(hypergraph, **kwargs)\n",
    "\n",
    "    # set node positions to position of community\n",
    "    pos = dict()\n",
    "    for node, community in partition.items():\n",
    "        pos[node] = pos_communities[community]\n",
    "\n",
    "    return pos\n",
    "\n",
    "def _find_between_community_edges(g, partition):\n",
    "\n",
    "    edges = dict()\n",
    "\n",
    "    for (ni, nj) in g.edges():\n",
    "        ci = partition[ni]\n",
    "        cj = partition[nj]\n",
    "\n",
    "        if ci != cj:\n",
    "            try:\n",
    "                edges[(ci, cj)] += [(ni, nj)]\n",
    "            except KeyError:\n",
    "                edges[(ci, cj)] = [(ni, nj)]\n",
    "\n",
    "    return edges\n",
    "\n",
    "def _position_nodes(g, partition, **kwargs):\n",
    "    \"\"\"\n",
    "    Positions nodes within communities.\n",
    "    \"\"\"\n",
    "\n",
    "    communities = dict()\n",
    "    for node, community in partition.items():\n",
    "        try:\n",
    "            communities[community] += [node]\n",
    "        except KeyError:\n",
    "            communities[community] = [node]\n",
    "\n",
    "    pos = dict()\n",
    "    for ci, nodes in communities.items():\n",
    "        subgraph = g.subgraph(nodes)\n",
    "        pos_subgraph = nx.spring_layout(subgraph, **kwargs)\n",
    "        pos.update(pos_subgraph)\n",
    "\n",
    "    return pos"
   ]
  },
  {
   "cell_type": "markdown",
   "metadata": {},
   "source": [
    "## Generate 300nw ASN + C. Elegans:"
   ]
  },
  {
   "cell_type": "code",
   "execution_count": 8,
   "metadata": {},
   "outputs": [],
   "source": [
    "# cElegans=loadmat(\"../CODE/Data/Organic Networks Connectomes/celegans277neurons.mat\")\n",
    "\n",
    "#     #C:\\Users\\aloe8475\\Documents\\PhD\\GitHub\\CODE\\Data\\Organic Networks Connectomes\\"
   ]
  },
  {
   "cell_type": "code",
   "execution_count": 9,
   "metadata": {},
   "outputs": [],
   "source": [
    "# #set up dictionary for celegans:\n",
    "# Elegans={'adj_matrix':[],'G':[],'Accuracy':{'Linear Transformation':[],'Memory Capacity':[]},'Graph Theory':{'Small World':[],'Modularity':[],'CCoeff':[],'MZ':[],'PCoeff':[],'PL':[]}}"
   ]
  },
  {
   "cell_type": "code",
   "execution_count": 10,
   "metadata": {},
   "outputs": [],
   "source": [
    "# elegansMat=cElegans['celegans277matrix']\n",
    "# elegansGraph = nx.from_numpy_array(elegansMat)\n",
    "# Elegans['adj_matrix']=elegansMat\n",
    "# Elegans['G']=elegansGraph"
   ]
  },
  {
   "cell_type": "code",
   "execution_count": 11,
   "metadata": {},
   "outputs": [],
   "source": [
    "# cd \"/import/silo2/aloe8475/Documents/CODE/Analysis/Functional Connectivity/Functional Tasks/\""
   ]
  },
  {
   "cell_type": "code",
   "execution_count": 12,
   "metadata": {},
   "outputs": [],
   "source": [
    "# # if (not os.path.isfile('networks_LinearTransformation.pkl')): #if we haven't saved the file\n",
    "# print('Creating Parameters')\n",
    "# #Set Paramaters for network generation: Centroid Dispersion, Wire Dispersion + Length of Wires\n",
    "# params={'Centroid':150,'Wire Dispersion':[1.0, 2.5, 5.0, 10.0, 25.0, 50.0, 75.0, 80.0, 100.0, 150.0],'Length':100}\n",
    "# numNetworks=1+len(params['Wire Dispersion'])+1 \n",
    "# NWN=[None]*100\n",
    "\n",
    "#     #loop through these:\n",
    "# centroid2=params['Centroid']\n",
    "# length2=params['Length']\n",
    "# disp2=params['Wire Dispersion']\n",
    "# for i in range(49):\n",
    "#     temp=params['Centroid']\n",
    "#     temp2=params['Length']\n",
    "#     temp3=params['Wire Dispersion']\n",
    "# #     length2=np.concatenate((length2,temp2))\n",
    "#     disp2=np.concatenate((disp2,temp3))\n",
    "# print('Parameters Saved')\n",
    "# # else:\n",
    "# # print('Parameters Loaded')"
   ]
  },
  {
   "cell_type": "markdown",
   "metadata": {},
   "source": [
    "### Generate Modular vs Integrated Networks:"
   ]
  },
  {
   "cell_type": "code",
   "execution_count": 8,
   "metadata": {
    "scrolled": true
   },
   "outputs": [
    {
     "name": "stderr",
     "output_type": "stream",
     "text": [
      "  0%|          | 0/10 [00:00<?, ?it/s]2021-06-18 15:03:20,505:INFO:Detecting junctions\n",
      "2021-06-18 15:03:20,597:INFO:Finished detecting junctions\n",
      "2021-06-18 15:03:20,604:INFO:The largest component has    75 nodes and    501 edges\n",
      "2021-06-18 15:03:20,615:INFO:Detecting junctions\n",
      "2021-06-18 15:03:20,708:INFO:Finished detecting junctions\n",
      "2021-06-18 15:03:20,715:INFO:The largest component has    75 nodes and    510 edges\n",
      "2021-06-18 15:03:20,725:INFO:Detecting junctions\n",
      "2021-06-18 15:03:20,817:INFO:Finished detecting junctions\n",
      "2021-06-18 15:03:20,824:INFO:The largest component has    75 nodes and    528 edges\n",
      "2021-06-18 15:03:20,835:INFO:Detecting junctions\n",
      "2021-06-18 15:03:20,929:INFO:Finished detecting junctions\n",
      "2021-06-18 15:03:20,936:INFO:The largest component has    75 nodes and    518 edges\n",
      " 10%|█         | 1/10 [00:00<00:03,  2.26it/s]2021-06-18 15:03:20,948:INFO:Detecting junctions\n",
      "2021-06-18 15:03:21,041:INFO:Finished detecting junctions\n",
      "2021-06-18 15:03:21,048:INFO:The largest component has    75 nodes and    541 edges\n",
      "2021-06-18 15:03:21,060:INFO:Detecting junctions\n",
      "2021-06-18 15:03:21,155:INFO:Finished detecting junctions\n",
      "2021-06-18 15:03:21,163:INFO:The largest component has    75 nodes and    669 edges\n",
      "2021-06-18 15:03:21,176:INFO:Detecting junctions\n",
      "2021-06-18 15:03:21,270:INFO:Finished detecting junctions\n",
      "2021-06-18 15:03:21,277:INFO:The largest component has    75 nodes and    587 edges\n",
      "2021-06-18 15:03:21,289:INFO:Detecting junctions\n",
      "2021-06-18 15:03:21,384:INFO:Finished detecting junctions\n",
      "2021-06-18 15:03:21,392:INFO:The largest component has    75 nodes and    552 edges\n",
      " 20%|██        | 2/10 [00:00<00:03,  2.22it/s]2021-06-18 15:03:21,404:INFO:Detecting junctions\n",
      "2021-06-18 15:03:21,497:INFO:Finished detecting junctions\n",
      "2021-06-18 15:03:21,504:INFO:The largest component has    75 nodes and    520 edges\n",
      "2021-06-18 15:03:21,516:INFO:Detecting junctions\n",
      "2021-06-18 15:03:21,606:INFO:Finished detecting junctions\n",
      "2021-06-18 15:03:21,613:INFO:The largest component has    75 nodes and    456 edges\n",
      "2021-06-18 15:03:21,623:INFO:Detecting junctions\n",
      "2021-06-18 15:03:21,716:INFO:Finished detecting junctions\n",
      "2021-06-18 15:03:21,723:INFO:The largest component has    75 nodes and    486 edges\n",
      "2021-06-18 15:03:21,733:INFO:Detecting junctions\n",
      "2021-06-18 15:03:21,826:INFO:Finished detecting junctions\n",
      "2021-06-18 15:03:21,833:INFO:The largest component has    75 nodes and    553 edges\n",
      " 30%|███       | 3/10 [00:01<00:03,  2.24it/s]2021-06-18 15:03:21,845:INFO:Detecting junctions\n",
      "2021-06-18 15:03:21,939:INFO:Finished detecting junctions\n",
      "2021-06-18 15:03:21,946:INFO:The largest component has    75 nodes and    587 edges\n",
      "2021-06-18 15:03:21,958:INFO:Detecting junctions\n",
      "2021-06-18 15:03:22,053:INFO:Finished detecting junctions\n",
      "2021-06-18 15:03:22,061:INFO:The largest component has    75 nodes and    580 edges\n",
      "2021-06-18 15:03:22,113:INFO:Detecting junctions\n",
      "2021-06-18 15:03:22,207:INFO:Finished detecting junctions\n",
      "2021-06-18 15:03:22,215:INFO:The largest component has    75 nodes and    514 edges\n",
      "2021-06-18 15:03:22,227:INFO:Detecting junctions\n",
      "2021-06-18 15:03:22,321:INFO:Finished detecting junctions\n",
      "2021-06-18 15:03:22,328:INFO:The largest component has    75 nodes and    536 edges\n",
      " 40%|████      | 4/10 [00:01<00:02,  2.15it/s]2021-06-18 15:03:22,340:INFO:Detecting junctions\n",
      "2021-06-18 15:03:22,434:INFO:Finished detecting junctions\n",
      "2021-06-18 15:03:22,442:INFO:The largest component has    75 nodes and    584 edges\n",
      "2021-06-18 15:03:22,454:INFO:Detecting junctions\n",
      "2021-06-18 15:03:22,547:INFO:Finished detecting junctions\n",
      "2021-06-18 15:03:22,554:INFO:The largest component has    75 nodes and    571 edges\n",
      "2021-06-18 15:03:22,566:INFO:Detecting junctions\n",
      "2021-06-18 15:03:22,660:INFO:Finished detecting junctions\n",
      "2021-06-18 15:03:22,667:INFO:The largest component has    75 nodes and    507 edges\n",
      "2021-06-18 15:03:22,678:INFO:Detecting junctions\n",
      "2021-06-18 15:03:22,770:INFO:Finished detecting junctions\n",
      "2021-06-18 15:03:22,776:INFO:The largest component has    75 nodes and    499 edges\n",
      " 50%|█████     | 5/10 [00:02<00:02,  2.18it/s]2021-06-18 15:03:22,788:INFO:Detecting junctions\n",
      "2021-06-18 15:03:22,883:INFO:Finished detecting junctions\n",
      "2021-06-18 15:03:22,891:INFO:The largest component has    75 nodes and    623 edges\n",
      "2021-06-18 15:03:22,904:INFO:Detecting junctions\n",
      "2021-06-18 15:03:23,000:INFO:Finished detecting junctions\n",
      "2021-06-18 15:03:23,006:INFO:The largest component has    75 nodes and    462 edges\n",
      "2021-06-18 15:03:23,017:INFO:Detecting junctions\n",
      "2021-06-18 15:03:23,109:INFO:Finished detecting junctions\n",
      "2021-06-18 15:03:23,116:INFO:The largest component has    75 nodes and    517 edges\n",
      "2021-06-18 15:03:23,127:INFO:Detecting junctions\n",
      "2021-06-18 15:03:23,219:INFO:Finished detecting junctions\n",
      "2021-06-18 15:03:23,226:INFO:The largest component has    75 nodes and    555 edges\n",
      " 60%|██████    | 6/10 [00:02<00:01,  2.19it/s]2021-06-18 15:03:23,239:INFO:Detecting junctions\n",
      "2021-06-18 15:03:23,331:INFO:Finished detecting junctions\n",
      "2021-06-18 15:03:23,338:INFO:The largest component has    75 nodes and    566 edges\n",
      "2021-06-18 15:03:23,350:INFO:Detecting junctions\n",
      "2021-06-18 15:03:23,440:INFO:Finished detecting junctions\n",
      "2021-06-18 15:03:23,447:INFO:The largest component has    75 nodes and    467 edges\n",
      "2021-06-18 15:03:23,457:INFO:Detecting junctions\n",
      "2021-06-18 15:03:23,550:INFO:Finished detecting junctions\n",
      "2021-06-18 15:03:23,558:INFO:The largest component has    75 nodes and    565 edges\n",
      "2021-06-18 15:03:23,570:INFO:Detecting junctions\n",
      "2021-06-18 15:03:23,665:INFO:Finished detecting junctions\n",
      "2021-06-18 15:03:23,672:INFO:The largest component has    75 nodes and    493 edges\n",
      " 70%|███████   | 7/10 [00:03<00:01,  2.21it/s]2021-06-18 15:03:23,684:INFO:Detecting junctions\n",
      "2021-06-18 15:03:23,781:INFO:Finished detecting junctions\n",
      "2021-06-18 15:03:23,788:INFO:The largest component has    75 nodes and    591 edges\n",
      "2021-06-18 15:03:23,800:INFO:Detecting junctions\n",
      "2021-06-18 15:03:23,895:INFO:Finished detecting junctions\n",
      "2021-06-18 15:03:23,902:INFO:The largest component has    75 nodes and    550 edges\n",
      "2021-06-18 15:03:23,913:INFO:Detecting junctions\n",
      "2021-06-18 15:03:24,005:INFO:Finished detecting junctions\n",
      "2021-06-18 15:03:24,013:INFO:The largest component has    75 nodes and    556 edges\n",
      "2021-06-18 15:03:24,023:INFO:Detecting junctions\n",
      "2021-06-18 15:03:24,119:INFO:Finished detecting junctions\n",
      "2021-06-18 15:03:24,128:INFO:The largest component has    75 nodes and    696 edges\n",
      " 80%|████████  | 8/10 [00:03<00:00,  2.20it/s]2021-06-18 15:03:24,142:INFO:Detecting junctions\n",
      "2021-06-18 15:03:24,235:INFO:Finished detecting junctions\n",
      "2021-06-18 15:03:24,242:INFO:The largest component has    75 nodes and    524 edges\n",
      "2021-06-18 15:03:24,253:INFO:Detecting junctions\n",
      "2021-06-18 15:03:24,347:INFO:Finished detecting junctions\n",
      "2021-06-18 15:03:24,354:INFO:The largest component has    75 nodes and    545 edges\n",
      "2021-06-18 15:03:24,365:INFO:Detecting junctions\n",
      "2021-06-18 15:03:24,461:INFO:Finished detecting junctions\n",
      "2021-06-18 15:03:24,468:INFO:The largest component has    75 nodes and    547 edges\n",
      "2021-06-18 15:03:24,480:INFO:Detecting junctions\n",
      "2021-06-18 15:03:24,573:INFO:Finished detecting junctions\n",
      "2021-06-18 15:03:24,580:INFO:The largest component has    75 nodes and    477 edges\n",
      " 90%|█████████ | 9/10 [00:04<00:00,  2.21it/s]2021-06-18 15:03:24,591:INFO:Detecting junctions\n",
      "2021-06-18 15:03:24,686:INFO:Finished detecting junctions\n",
      "2021-06-18 15:03:24,693:INFO:The largest component has    75 nodes and    533 edges\n",
      "2021-06-18 15:03:24,704:INFO:Detecting junctions\n",
      "2021-06-18 15:03:24,798:INFO:Finished detecting junctions\n",
      "2021-06-18 15:03:24,805:INFO:The largest component has    75 nodes and    558 edges\n",
      "2021-06-18 15:03:24,816:INFO:Detecting junctions\n",
      "2021-06-18 15:03:24,910:INFO:Finished detecting junctions\n",
      "2021-06-18 15:03:24,918:INFO:The largest component has    75 nodes and    582 edges\n",
      "2021-06-18 15:03:24,930:INFO:Detecting junctions\n",
      "2021-06-18 15:03:25,023:INFO:Finished detecting junctions\n",
      "2021-06-18 15:03:25,031:INFO:The largest component has    75 nodes and    561 edges\n",
      "100%|██████████| 10/10 [00:04<00:00,  2.20it/s]\n"
     ]
    }
   ],
   "source": [
    "numNWs=300\n",
    "numNetworks=10\n",
    "numModules=2\n",
    "density=6 #number of different density networks\n",
    "seeds=[321,220,313,26,429,58,1,963,1002]\n",
    "nw=[[[] for i in range(density)] for j in range(numNetworks)]\n",
    "seeds2=[[] for i in range(numNetworks)]\n",
    "for i in range(numNetworks):\n",
    "    for j in range(len(seeds)):\n",
    "        seeds2[i].append(np.random.randint(0,1000))\n",
    "for network in tqdm(range(numNetworks)):   \n",
    "    for j in range(density):\n",
    "        for i in range(numModules):\n",
    "            temp=wires.generate_wires_distribution(np.int(numNWs/numModules),this_seed=seeds[i]*seeds2[network][i],centroid_dispersion=700,wire_av_length=900,Lx=2000.0,Ly=2000.0)\n",
    "            temp=wires.detect_junctions(temp)\n",
    "            temp=wires.generate_adj_matrix(temp)\n",
    "            temp=wires.generate_graph(temp)\n",
    "            temp=select_largest_component_new(temp)\n",
    "            nw[network][j].append(temp)\n",
    "oldnw=nw"
   ]
  },
  {
   "cell_type": "code",
   "execution_count": 40,
   "metadata": {},
   "outputs": [],
   "source": [
    "# compressed_pickle(nw,'/import/silo2/aloe8475/Documents/CODE/Data/Functional Connectivity/300nw_4_modules_separated_10sets_NWN.pkl')"
   ]
  },
  {
   "cell_type": "code",
   "execution_count": 18,
   "metadata": {},
   "outputs": [],
   "source": [
    "nw=[]\n",
    "nw=oldnw"
   ]
  },
  {
   "cell_type": "code",
   "execution_count": 51,
   "metadata": {},
   "outputs": [
    {
     "data": {
      "application/vnd.jupyter.widget-view+json": {
       "model_id": "ed5cf09ddd89415e8105b8bccf70694c",
       "version_major": 2,
       "version_minor": 0
      },
      "text/plain": [
       "HBox(children=(IntProgress(value=0, max=10), HTML(value='')))"
      ]
     },
     "metadata": {},
     "output_type": "display_data"
    }
   ],
   "source": [
    "if numModules==4:\n",
    "    dist=np.linspace(0,1950,density)\n",
    "elif numModules==9:\n",
    "    dist=np.linspace(0,1400,density)\n",
    "elif numModules==2:\n",
    "#     dist=np.linspace(0,1750,density)\n",
    "    dist=np.linspace(0,2550,density)\n",
    "\n",
    "# nw=[]\n",
    "# nw=oldnw #if distance doesn't work, uncomment and run this\n",
    "\n",
    "if numModules==9:\n",
    "    for network in tqdm(range(numNetworks)):\n",
    "        for i in range(numModules):\n",
    "            for j in range(len(dist)):\n",
    "                if i == 1:\n",
    "                    nw[network][j][i]['ya']+=dist[j]\n",
    "                    nw[network][j][i]['yb']+=dist[j]\n",
    "                    nw[network][j][i]['yc']+=dist[j]\n",
    "                elif i==2:\n",
    "                    nw[network][j][i]['ya']+=dist[j]\n",
    "                    nw[network][j][i]['yb']+=dist[j]\n",
    "                    nw[network][j][i]['yc']+=dist[j]\n",
    "                    nw[network][j][i]['xc']+=dist[j]\n",
    "                    nw[network][j][i]['xa']+=dist[j]\n",
    "                    nw[network][j][i]['xb']+=dist[j]\n",
    "                elif i==3:\n",
    "                    nw[network][j][i]['xc']+=dist[j]\n",
    "                    nw[network][j][i]['xa']+=dist[j]\n",
    "                    nw[network][j][i]['xb']+=dist[j]\n",
    "                elif i ==4:\n",
    "                    nw[network][j][i]['yc']+=dist[j]*2\n",
    "                    nw[network][j][i]['ya']+=dist[j]*2\n",
    "                    nw[network][j][i]['yb']+=dist[j]*2\n",
    "                elif i == 5:\n",
    "                    nw[network][j][i]['xc']+=dist[j]*2\n",
    "                    nw[network][j][i]['xa']+=dist[j]*2\n",
    "                    nw[network][j][i]['xb']+=dist[j]*2\n",
    "                    nw[network][j][i]['yc']+=dist[j]*2\n",
    "                    nw[network][j][i]['ya']+=dist[j]*2\n",
    "                    nw[network][j][i]['yb']+=dist[j]*2\n",
    "                elif i == 6:\n",
    "                    nw[network][j][i]['xc']+=dist[j]*2\n",
    "                    nw[network][j][i]['xa']+=dist[j]*2\n",
    "                    nw[network][j][i]['xb']+=dist[j]*2\n",
    "                elif i == 7:\n",
    "                    nw[network][j][i]['xc']+=dist[j]*2\n",
    "                    nw[network][j][i]['xa']+=dist[j]*2\n",
    "                    nw[network][j][i]['xb']+=dist[j]*2\n",
    "                    nw[network][j][i]['ya']+=dist[j]\n",
    "                    nw[network][j][i]['yb']+=dist[j]\n",
    "                    nw[network][j][i]['yc']+=dist[j]\n",
    "                elif i == 8:\n",
    "                    nw[network][j][i]['ya']+=dist[j]*2\n",
    "                    nw[network][j][i]['yb']+=dist[j]*2\n",
    "                    nw[network][j][i]['yc']+=dist[j]*2\n",
    "                    nw[network][j][i]['xc']+=dist[j]\n",
    "                    nw[network][j][i]['xa']+=dist[j]\n",
    "                    nw[network][j][i]['xb']+=dist[j]\n",
    "elif numModules==2:\n",
    "    for network in tqdm(range(numNetworks)):\n",
    "        for i in range(numModules):\n",
    "            for j in range(len(dist)):\n",
    "                if i == 1:\n",
    "                    nw[network][j][i]['xc']+=dist[j]\n",
    "                    nw[network][j][i]['xa']+=dist[j]\n",
    "                    nw[network][j][i]['xb']+=dist[j]\n",
    "                    \n",
    "elif numModules==4:\n",
    "    for network in tqdm(range(numNetworks)):\n",
    "        for i in range(numModules):\n",
    "            for j in range(len(dist)):\n",
    "                if i == 1:\n",
    "                    nw[network][j][i]['ya']+=dist[j]\n",
    "                    nw[network][j][i]['yb']+=dist[j]\n",
    "                    nw[network][j][i]['yc']+=dist[j]\n",
    "                elif i==2:\n",
    "                    nw[network][j][i]['xa']+=dist[j]\n",
    "                    nw[network][j][i]['xb']+=dist[j]\n",
    "                    nw[network][j][i]['xc']+=dist[j]\n",
    "                elif i==3:\n",
    "                    nw[network][j][i]['ya']+=dist[j]\n",
    "                    nw[network][j][i]['yb']+=dist[j]\n",
    "                    nw[network][j][i]['yc']+=dist[j]\n",
    "                    nw[network][j][i]['xc']+=dist[j]\n",
    "                    nw[network][j][i]['xa']+=dist[j]\n",
    "                    nw[network][j][i]['xb']+=dist[j]"
   ]
  },
  {
   "cell_type": "code",
   "execution_count": 52,
   "metadata": {},
   "outputs": [],
   "source": [
    "def checkOutside(wires_dict):\n",
    "    xa, xb, ya, yb = wires_dict['xa'], wires_dict['xb'], wires_dict['ya'], wires_dict['yb']\n",
    "    Lx, Ly         = wires_dict['Lx'], wires_dict['Ly']\n",
    "    a = np.where(np.vstack([xa, xb, ya, yb]) < 0.0, True, False).sum(axis=0)\n",
    "    b = np.where(np.vstack([xa, xb]) > Lx, True, False).sum(axis=0)\n",
    "    c = np.where(np.vstack([ya, yb]) > Ly, True, False).sum(axis=0)\n",
    "\n",
    "    outside = a + b + c\n",
    "    wires_dict['outside'] = outside\n",
    "#     return outside"
   ]
  },
  {
   "cell_type": "code",
   "execution_count": 53,
   "metadata": {},
   "outputs": [],
   "source": [
    "combined = [[dict() for i in range(density)] for j in range(numNetworks)]"
   ]
  },
  {
   "cell_type": "code",
   "execution_count": 54,
   "metadata": {},
   "outputs": [],
   "source": [
    "for network in range(len(nw)):\n",
    "    xa=[[] for i in range(density)];xb=[[] for i in range(density)];xc=[[] for i in range(density)]\n",
    "    ya=[[] for i in range(density)];yb=[[] for i in range(density)];yc=[[] for i in range(density)]\n",
    "    for i in range(len(nw[network])):\n",
    "        for j in range(len(nw[network][i])):\n",
    "            xa[i].append(nw[network][i][j]['xa'])\n",
    "            xb[i].append(nw[network][i][j]['xb'])\n",
    "            ya[i].append(nw[network][i][j]['ya'])\n",
    "            yb[i].append(nw[network][i][j]['yb'])\n",
    "            xc[i].append(nw[network][i][j]['xc'])\n",
    "            yc[i].append(nw[network][i][j]['xc'])\n",
    "        combined[network][i]['xa']=np.hstack(xa[i])\n",
    "        combined[network][i]['xb']=np.hstack(xb[i])\n",
    "        combined[network][i]['xc']=np.hstack(xc[i])\n",
    "        combined[network][i]['ya']=np.hstack(ya[i])\n",
    "        combined[network][i]['yb']=np.hstack(yb[i])\n",
    "        combined[network][i]['yc']=np.hstack(yc[i])\n",
    "        combined[network][i]['number_of_wires']=len(combined[network][i]['xa'])\n",
    "        combined[network][i]['Lx']=dist[i]+nw[0][0][0]['length_x']\n",
    "        combined[network][i]['Ly']=dist[i]+nw[0][0][0]['length_y']\n",
    "        checkOutside(combined[network][i])"
   ]
  },
  {
   "cell_type": "code",
   "execution_count": 55,
   "metadata": {
    "scrolled": true
   },
   "outputs": [
    {
     "data": {
      "application/vnd.jupyter.widget-view+json": {
       "model_id": "ee13e79ccd434d0cb6369ef48582afb3",
       "version_major": 2,
       "version_minor": 0
      },
      "text/plain": [
       "HBox(children=(IntProgress(value=0, max=10), HTML(value='')))"
      ]
     },
     "metadata": {},
     "output_type": "display_data"
    },
    {
     "name": "stderr",
     "output_type": "stream",
     "text": [
      "2021-02-24 10:38:16,430:INFO:Detecting junctions\n",
      "2021-02-24 10:38:17,874:INFO:Finished detecting junctions\n",
      "2021-02-24 10:38:17,986:INFO:The largest component has   300 nodes and  12725 edges\n",
      "2021-02-24 10:38:18,108:INFO:Detecting junctions\n",
      "2021-02-24 10:38:19,518:INFO:Finished detecting junctions\n",
      "2021-02-24 10:38:19,619:INFO:The largest component has   300 nodes and  11532 edges\n",
      "2021-02-24 10:38:19,731:INFO:Detecting junctions\n",
      "2021-02-24 10:38:21,095:INFO:Finished detecting junctions\n",
      "2021-02-24 10:38:21,176:INFO:The largest component has   300 nodes and   9189 edges\n",
      "2021-02-24 10:38:21,266:INFO:Detecting junctions\n",
      "2021-02-24 10:38:22,588:INFO:Finished detecting junctions\n",
      "2021-02-24 10:38:22,654:INFO:The largest component has   300 nodes and   7273 edges\n",
      "2021-02-24 10:38:22,726:INFO:Detecting junctions\n",
      "2021-02-24 10:38:24,015:INFO:Finished detecting junctions\n",
      "2021-02-24 10:38:24,075:INFO:The largest component has   300 nodes and   6465 edges\n",
      "2021-02-24 10:38:24,141:INFO:Detecting junctions\n",
      "2021-02-24 10:38:25,420:INFO:Finished detecting junctions\n",
      "2021-02-24 10:38:25,478:INFO:The largest component has   300 nodes and   6327 edges\n",
      "2021-02-24 10:38:25,543:INFO:Detecting junctions\n",
      "2021-02-24 10:38:26,997:INFO:Finished detecting junctions\n",
      "2021-02-24 10:38:27,105:INFO:The largest component has   300 nodes and  12453 edges\n",
      "2021-02-24 10:38:27,298:INFO:Detecting junctions\n",
      "2021-02-24 10:38:28,740:INFO:Finished detecting junctions\n",
      "2021-02-24 10:38:28,843:INFO:The largest component has   300 nodes and  11733 edges\n",
      "2021-02-24 10:38:28,955:INFO:Detecting junctions\n",
      "2021-02-24 10:38:30,335:INFO:Finished detecting junctions\n",
      "2021-02-24 10:38:30,419:INFO:The largest component has   300 nodes and   9487 edges\n",
      "2021-02-24 10:38:30,511:INFO:Detecting junctions\n",
      "2021-02-24 10:38:31,841:INFO:Finished detecting junctions\n",
      "2021-02-24 10:38:31,907:INFO:The largest component has   300 nodes and   7299 edges\n",
      "2021-02-24 10:38:31,979:INFO:Detecting junctions\n",
      "2021-02-24 10:38:33,279:INFO:Finished detecting junctions\n",
      "2021-02-24 10:38:33,337:INFO:The largest component has   300 nodes and   6411 edges\n",
      "2021-02-24 10:38:33,403:INFO:Detecting junctions\n",
      "2021-02-24 10:38:34,690:INFO:Finished detecting junctions\n",
      "2021-02-24 10:38:34,746:INFO:The largest component has   300 nodes and   6228 edges\n",
      "2021-02-24 10:38:34,811:INFO:Detecting junctions\n",
      "2021-02-24 10:38:36,265:INFO:Finished detecting junctions\n",
      "2021-02-24 10:38:36,383:INFO:The largest component has   300 nodes and  13495 edges\n",
      "2021-02-24 10:38:36,510:INFO:Detecting junctions\n",
      "2021-02-24 10:38:37,949:INFO:Finished detecting junctions\n",
      "2021-02-24 10:38:38,060:INFO:The largest component has   300 nodes and  12748 edges\n",
      "2021-02-24 10:38:38,181:INFO:Detecting junctions\n",
      "2021-02-24 10:38:39,555:INFO:Finished detecting junctions\n",
      "2021-02-24 10:38:39,643:INFO:The largest component has   300 nodes and  10032 edges\n",
      "2021-02-24 10:38:39,741:INFO:Detecting junctions\n",
      "2021-02-24 10:38:41,063:INFO:Finished detecting junctions\n",
      "2021-02-24 10:38:41,132:INFO:The largest component has   300 nodes and   7677 edges\n",
      "2021-02-24 10:38:41,208:INFO:Detecting junctions\n",
      "2021-02-24 10:38:42,509:INFO:Finished detecting junctions\n",
      "2021-02-24 10:38:42,651:INFO:The largest component has   300 nodes and   6890 edges\n",
      "2021-02-24 10:38:42,722:INFO:Detecting junctions\n",
      "2021-02-24 10:38:44,009:INFO:Finished detecting junctions\n",
      "2021-02-24 10:38:44,070:INFO:The largest component has   300 nodes and   6783 edges\n",
      "2021-02-24 10:38:44,140:INFO:Detecting junctions\n",
      "2021-02-24 10:38:45,592:INFO:Finished detecting junctions\n",
      "2021-02-24 10:38:45,706:INFO:The largest component has   300 nodes and  13025 edges\n",
      "2021-02-24 10:38:45,829:INFO:Detecting junctions\n",
      "2021-02-24 10:38:47,254:INFO:Finished detecting junctions\n",
      "2021-02-24 10:38:47,357:INFO:The largest component has   300 nodes and  11820 edges\n",
      "2021-02-24 10:38:47,469:INFO:Detecting junctions\n",
      "2021-02-24 10:38:48,840:INFO:Finished detecting junctions\n",
      "2021-02-24 10:38:48,924:INFO:The largest component has   300 nodes and   9437 edges\n",
      "2021-02-24 10:38:49,015:INFO:Detecting junctions\n",
      "2021-02-24 10:38:50,350:INFO:Finished detecting junctions\n",
      "2021-02-24 10:38:50,416:INFO:The largest component has   300 nodes and   7457 edges\n",
      "2021-02-24 10:38:50,491:INFO:Detecting junctions\n",
      "2021-02-24 10:38:51,787:INFO:Finished detecting junctions\n",
      "2021-02-24 10:38:51,847:INFO:The largest component has   300 nodes and   6656 edges\n",
      "2021-02-24 10:38:51,915:INFO:Detecting junctions\n",
      "2021-02-24 10:38:53,203:INFO:Finished detecting junctions\n",
      "2021-02-24 10:38:53,262:INFO:The largest component has   300 nodes and   6493 edges\n",
      "2021-02-24 10:38:53,329:INFO:Detecting junctions\n",
      "2021-02-24 10:38:54,778:INFO:Finished detecting junctions\n",
      "2021-02-24 10:38:54,887:INFO:The largest component has   300 nodes and  12439 edges\n",
      "2021-02-24 10:38:55,005:INFO:Detecting junctions\n",
      "2021-02-24 10:38:56,510:INFO:Finished detecting junctions\n",
      "2021-02-24 10:38:56,612:INFO:The largest component has   300 nodes and  11583 edges\n",
      "2021-02-24 10:38:56,723:INFO:Detecting junctions\n",
      "2021-02-24 10:38:58,098:INFO:Finished detecting junctions\n",
      "2021-02-24 10:38:58,180:INFO:The largest component has   300 nodes and   9261 edges\n",
      "2021-02-24 10:38:58,270:INFO:Detecting junctions\n",
      "2021-02-24 10:38:59,594:INFO:Finished detecting junctions\n",
      "2021-02-24 10:38:59,660:INFO:The largest component has   300 nodes and   7303 edges\n",
      "2021-02-24 10:38:59,733:INFO:Detecting junctions\n",
      "2021-02-24 10:39:01,030:INFO:Finished detecting junctions\n",
      "2021-02-24 10:39:01,090:INFO:The largest component has   300 nodes and   6416 edges\n",
      "2021-02-24 10:39:01,155:INFO:Detecting junctions\n",
      "2021-02-24 10:39:02,444:INFO:Finished detecting junctions\n",
      "2021-02-24 10:39:02,500:INFO:The largest component has   300 nodes and   6269 edges\n",
      "2021-02-24 10:39:02,566:INFO:Detecting junctions\n",
      "2021-02-24 10:39:04,021:INFO:Finished detecting junctions\n",
      "2021-02-24 10:39:04,129:INFO:The largest component has   300 nodes and  12368 edges\n",
      "2021-02-24 10:39:04,246:INFO:Detecting junctions\n",
      "2021-02-24 10:39:05,675:INFO:Finished detecting junctions\n",
      "2021-02-24 10:39:05,776:INFO:The largest component has   300 nodes and  11248 edges\n",
      "2021-02-24 10:39:05,884:INFO:Detecting junctions\n",
      "2021-02-24 10:39:07,259:INFO:Finished detecting junctions\n",
      "2021-02-24 10:39:07,338:INFO:The largest component has   300 nodes and   8962 edges\n",
      "2021-02-24 10:39:07,426:INFO:Detecting junctions\n",
      "2021-02-24 10:39:08,753:INFO:Finished detecting junctions\n",
      "2021-02-24 10:39:08,815:INFO:The largest component has   300 nodes and   6952 edges\n",
      "2021-02-24 10:39:08,885:INFO:Detecting junctions\n",
      "2021-02-24 10:39:10,178:INFO:Finished detecting junctions\n",
      "2021-02-24 10:39:10,234:INFO:The largest component has   300 nodes and   6162 edges\n",
      "2021-02-24 10:39:10,298:INFO:Detecting junctions\n",
      "2021-02-24 10:39:11,586:INFO:Finished detecting junctions\n",
      "2021-02-24 10:39:11,644:INFO:The largest component has   300 nodes and   6055 edges\n",
      "2021-02-24 10:39:11,708:INFO:Detecting junctions\n",
      "2021-02-24 10:39:13,164:INFO:Finished detecting junctions\n",
      "2021-02-24 10:39:13,383:INFO:The largest component has   300 nodes and  13541 edges\n",
      "2021-02-24 10:39:13,513:INFO:Detecting junctions\n",
      "2021-02-24 10:39:14,938:INFO:Finished detecting junctions\n",
      "2021-02-24 10:39:15,043:INFO:The largest component has   300 nodes and  12006 edges\n",
      "2021-02-24 10:39:15,158:INFO:Detecting junctions\n",
      "2021-02-24 10:39:16,536:INFO:Finished detecting junctions\n",
      "2021-02-24 10:39:16,619:INFO:The largest component has   300 nodes and   9444 edges\n",
      "2021-02-24 10:39:16,710:INFO:Detecting junctions\n",
      "2021-02-24 10:39:18,036:INFO:Finished detecting junctions\n",
      "2021-02-24 10:39:18,105:INFO:The largest component has   300 nodes and   7561 edges\n",
      "2021-02-24 10:39:18,181:INFO:Detecting junctions\n",
      "2021-02-24 10:39:19,478:INFO:Finished detecting junctions\n",
      "2021-02-24 10:39:19,540:INFO:The largest component has   300 nodes and   6852 edges\n",
      "2021-02-24 10:39:19,610:INFO:Detecting junctions\n",
      "2021-02-24 10:39:20,900:INFO:Finished detecting junctions\n",
      "2021-02-24 10:39:20,961:INFO:The largest component has   300 nodes and   6737 edges\n",
      "2021-02-24 10:39:21,030:INFO:Detecting junctions\n",
      "2021-02-24 10:39:22,474:INFO:Finished detecting junctions\n",
      "2021-02-24 10:39:22,584:INFO:The largest component has   300 nodes and  12625 edges\n"
     ]
    },
    {
     "name": "stderr",
     "output_type": "stream",
     "text": [
      "2021-02-24 10:39:22,705:INFO:Detecting junctions\n",
      "2021-02-24 10:39:24,133:INFO:Finished detecting junctions\n",
      "2021-02-24 10:39:24,238:INFO:The largest component has   300 nodes and  12055 edges\n",
      "2021-02-24 10:39:24,354:INFO:Detecting junctions\n",
      "2021-02-24 10:39:25,729:INFO:Finished detecting junctions\n",
      "2021-02-24 10:39:25,814:INFO:The largest component has   300 nodes and   9744 edges\n",
      "2021-02-24 10:39:25,909:INFO:Detecting junctions\n",
      "2021-02-24 10:39:27,236:INFO:Finished detecting junctions\n",
      "2021-02-24 10:39:27,306:INFO:The largest component has   300 nodes and   7513 edges\n",
      "2021-02-24 10:39:27,381:INFO:Detecting junctions\n",
      "2021-02-24 10:39:28,670:INFO:Finished detecting junctions\n",
      "2021-02-24 10:39:28,729:INFO:The largest component has   300 nodes and   6504 edges\n",
      "2021-02-24 10:39:28,795:INFO:Detecting junctions\n",
      "2021-02-24 10:39:30,082:INFO:Finished detecting junctions\n",
      "2021-02-24 10:39:30,139:INFO:The largest component has   300 nodes and   6362 edges\n",
      "2021-02-24 10:39:30,206:INFO:Detecting junctions\n",
      "2021-02-24 10:39:31,770:INFO:Finished detecting junctions\n",
      "2021-02-24 10:39:31,889:INFO:The largest component has   300 nodes and  13487 edges\n",
      "2021-02-24 10:39:32,019:INFO:Detecting junctions\n",
      "2021-02-24 10:39:33,442:INFO:Finished detecting junctions\n",
      "2021-02-24 10:39:33,545:INFO:The largest component has   300 nodes and  11901 edges\n",
      "2021-02-24 10:39:33,659:INFO:Detecting junctions\n",
      "2021-02-24 10:39:35,029:INFO:Finished detecting junctions\n",
      "2021-02-24 10:39:35,114:INFO:The largest component has   300 nodes and   9332 edges\n",
      "2021-02-24 10:39:35,205:INFO:Detecting junctions\n",
      "2021-02-24 10:39:36,516:INFO:Finished detecting junctions\n",
      "2021-02-24 10:39:36,584:INFO:The largest component has   300 nodes and   7551 edges\n",
      "2021-02-24 10:39:36,659:INFO:Detecting junctions\n",
      "2021-02-24 10:39:37,954:INFO:Finished detecting junctions\n",
      "2021-02-24 10:39:38,016:INFO:The largest component has   300 nodes and   6844 edges\n",
      "2021-02-24 10:39:38,086:INFO:Detecting junctions\n",
      "2021-02-24 10:39:39,376:INFO:Finished detecting junctions\n",
      "2021-02-24 10:39:39,438:INFO:The largest component has   300 nodes and   6757 edges\n",
      "2021-02-24 10:39:39,508:INFO:Detecting junctions\n",
      "2021-02-24 10:39:40,960:INFO:Finished detecting junctions\n",
      "2021-02-24 10:39:41,078:INFO:The largest component has   300 nodes and  13187 edges\n",
      "2021-02-24 10:39:41,207:INFO:Detecting junctions\n",
      "2021-02-24 10:39:42,639:INFO:Finished detecting junctions\n",
      "2021-02-24 10:39:42,750:INFO:The largest component has   300 nodes and  12439 edges\n",
      "2021-02-24 10:39:42,871:INFO:Detecting junctions\n",
      "2021-02-24 10:39:44,246:INFO:Finished detecting junctions\n",
      "2021-02-24 10:39:44,334:INFO:The largest component has   300 nodes and   9954 edges\n",
      "2021-02-24 10:39:44,432:INFO:Detecting junctions\n",
      "2021-02-24 10:39:45,755:INFO:Finished detecting junctions\n",
      "2021-02-24 10:39:45,823:INFO:The largest component has   300 nodes and   7637 edges\n",
      "2021-02-24 10:39:45,901:INFO:Detecting junctions\n",
      "2021-02-24 10:39:47,192:INFO:Finished detecting junctions\n",
      "2021-02-24 10:39:47,342:INFO:The largest component has   300 nodes and   6698 edges\n",
      "2021-02-24 10:39:47,413:INFO:Detecting junctions\n",
      "2021-02-24 10:39:48,697:INFO:Finished detecting junctions\n",
      "2021-02-24 10:39:48,758:INFO:The largest component has   300 nodes and   6553 edges\n"
     ]
    }
   ],
   "source": [
    "for i in tqdm(range(len(combined))):\n",
    "    for j in range(len(combined[i])):\n",
    "        wires.detect_junctions(combined[i][j])\n",
    "        wires.generate_adj_matrix(combined[i][j])\n",
    "        wires.generate_graph(combined[i][j])\n",
    "        combined[i][j]=select_largest_component_new(combined[i][j])"
   ]
  },
  {
   "cell_type": "code",
   "execution_count": 56,
   "metadata": {},
   "outputs": [
    {
     "data": {
      "image/png": "[encoded data removed]",
      "text/plain": [
       "<Figure size 720x576 with 6 Axes>"
      ]
     },
     "metadata": {},
     "output_type": "display_data"
    }
   ],
   "source": [
    "fig,axes=plt.subplots(2,3,figsize=(10,8))\n",
    "network=1\n",
    "i = 0\n",
    "for ax in axes.flat:\n",
    "    pos=nx.kamada_kawai_layout(combined[network][i]['G'])\n",
    "    nx.draw(combined[network][i]['G'],pos=pos,ax=ax,node_size=5)\n",
    "    i=i+1"
   ]
  },
  {
   "cell_type": "code",
   "execution_count": 61,
   "metadata": {},
   "outputs": [
    {
     "data": {
      "text/plain": [
       "42.18"
      ]
     },
     "execution_count": 61,
     "metadata": {},
     "output_type": "execute_result"
    }
   ],
   "source": [
    "np.mean([deg for val,deg in combined[0][-1]['G'].degree()])"
   ]
  },
  {
   "cell_type": "code",
   "execution_count": 62,
   "metadata": {},
   "outputs": [],
   "source": [
    "compressed_pickle(combined,'/import/silo2/aloe8475/Documents/CODE/Data/Functional Connectivity/300nw_2_modules_avgDeg42_NWN.pkl')"
   ]
  },
  {
   "cell_type": "code",
   "execution_count": 118,
   "metadata": {},
   "outputs": [],
   "source": [
    "combined=decompress_pickle('/import/silo2/aloe8475/Documents/CODE/Data/Functional Connectivity/300nw_9_modules_10sets_NWN.pkl')"
   ]
  },
  {
   "cell_type": "code",
   "execution_count": 31,
   "metadata": {},
   "outputs": [],
   "source": [
    "NWN=combined"
   ]
  },
  {
   "cell_type": "code",
   "execution_count": 120,
   "metadata": {},
   "outputs": [],
   "source": [
    "NWN_sep=combined"
   ]
  },
  {
   "cell_type": "markdown",
   "metadata": {},
   "source": [
    "### Load NWNs from wires.py"
   ]
  },
  {
   "cell_type": "code",
   "execution_count": 9,
   "metadata": {},
   "outputs": [],
   "source": [
    "import glob\n",
    "import os\n",
    "path='/import/silo2/aloe8475/Documents/CODE/Analysis/Generate Networks/connectivity_data/'\n",
    "networks=[]\n",
    "files=glob.glob(path+'./*.mat')\n",
    "files.sort(key=os.path.basename) #sort by creation time (name works weirdly)\n",
    "for i in files:\n",
    "    networks.append(loadmat(i))\n"
   ]
  },
  {
   "cell_type": "code",
   "execution_count": 10,
   "metadata": {},
   "outputs": [
    {
     "data": {
      "text/plain": [
       "11.575418994413408"
      ]
     },
     "execution_count": 10,
     "metadata": {},
     "output_type": "execute_result"
    }
   ],
   "source": [
    "np.mean([i for j,i in nx.from_numpy_array(networks[1]['adj_matrix']).degree])"
   ]
  },
  {
   "cell_type": "code",
   "execution_count": 11,
   "metadata": {},
   "outputs": [],
   "source": [
    "compressed_pickle(networks,'/import/silo2/aloe8475/Documents/CODE/Data/Functional Connectivity/VaryingSize_SameDensity.pkl')"
   ]
  },
  {
   "cell_type": "code",
   "execution_count": 12,
   "metadata": {},
   "outputs": [
    {
     "data": {
      "text/plain": [
       "50"
      ]
     },
     "execution_count": 12,
     "metadata": {},
     "output_type": "execute_result"
    }
   ],
   "source": [
    "len(networks)"
   ]
  },
  {
   "cell_type": "code",
   "execution_count": 12,
   "metadata": {},
   "outputs": [],
   "source": [
    "# temp=[]\n",
    "# for i in range(20):\n",
    "#     idx1=i*10\n",
    "#     idx2=idx1+10\n",
    "#     if i==0:\n",
    "#         temp.append(NWN[i:10])\n",
    "#     else:\n",
    "#         temp.append(NWN[idx1:idx2])\n",
    "# NWN=[] \n",
    "# NWN=temp"
   ]
  },
  {
   "cell_type": "code",
   "execution_count": 516,
   "metadata": {},
   "outputs": [],
   "source": [
    "# temp=[]\n",
    "# pcoeff=[]\n",
    "# mz=[]\n",
    "# mod=[]\n",
    "# for i in range(len(NWN)):\n",
    "#     temp.append(np.mean(np.array(nx.from_numpy_matrix(NWN[i]['adj_matrix']).degree())[:,1]))\n",
    "#     ci,q=nct.community_louvain(NWN[i]['adj_matrix'])\n",
    "#     pcoeff.append(bct.participation_coef(NWN[i]['adj_matrix'],ci))\n",
    "#     mz.append(bct.module_degree_zscore(NWN[i]['adj_matrix'],ci))\n",
    "#     mod.append(q)"
   ]
  },
  {
   "cell_type": "markdown",
   "metadata": {},
   "source": [
    "# Graph Theory"
   ]
  },
  {
   "cell_type": "code",
   "execution_count": 11,
   "metadata": {},
   "outputs": [
    {
     "name": "stdout",
     "output_type": "stream",
     "text": [
      "Setting up Graph Theory\n"
     ]
    },
    {
     "ename": "KeyError",
     "evalue": "0",
     "output_type": "error",
     "traceback": [
      "\u001b[0;31m---------------------------------------------------------------------------\u001b[0m",
      "\u001b[0;31mKeyError\u001b[0m                                  Traceback (most recent call last)",
      "\u001b[0;32m<ipython-input-11-758472c0e37e>\u001b[0m in \u001b[0;36m<module>\u001b[0;34m\u001b[0m\n\u001b[1;32m      3\u001b[0m \u001b[0;32mfor\u001b[0m \u001b[0mi\u001b[0m \u001b[0;32min\u001b[0m \u001b[0mrange\u001b[0m\u001b[0;34m(\u001b[0m\u001b[0mlen\u001b[0m\u001b[0;34m(\u001b[0m\u001b[0mNWN\u001b[0m\u001b[0;34m)\u001b[0m\u001b[0;34m)\u001b[0m\u001b[0;34m:\u001b[0m\u001b[0;34m\u001b[0m\u001b[0;34m\u001b[0m\u001b[0m\n\u001b[1;32m      4\u001b[0m         \u001b[0;32mfor\u001b[0m \u001b[0mj\u001b[0m \u001b[0;32min\u001b[0m \u001b[0mrange\u001b[0m\u001b[0;34m(\u001b[0m\u001b[0mlen\u001b[0m\u001b[0;34m(\u001b[0m\u001b[0mNWN\u001b[0m\u001b[0;34m[\u001b[0m\u001b[0mi\u001b[0m\u001b[0;34m]\u001b[0m\u001b[0;34m)\u001b[0m\u001b[0;34m)\u001b[0m\u001b[0;34m:\u001b[0m\u001b[0;34m\u001b[0m\u001b[0;34m\u001b[0m\u001b[0m\n\u001b[0;32m----> 5\u001b[0;31m             \u001b[0mNWN\u001b[0m\u001b[0;34m[\u001b[0m\u001b[0mi\u001b[0m\u001b[0;34m]\u001b[0m\u001b[0;34m[\u001b[0m\u001b[0mj\u001b[0m\u001b[0;34m]\u001b[0m\u001b[0;34m.\u001b[0m\u001b[0mupdate\u001b[0m\u001b[0;34m(\u001b[0m\u001b[0;34m{\u001b[0m\u001b[0;34m'Graph Theory'\u001b[0m\u001b[0;34m:\u001b[0m\u001b[0;34m{\u001b[0m\u001b[0;34m'Small World'\u001b[0m\u001b[0;34m:\u001b[0m\u001b[0;34m[\u001b[0m\u001b[0;34m]\u001b[0m\u001b[0;34m,\u001b[0m\u001b[0;34m'Modularity'\u001b[0m\u001b[0;34m:\u001b[0m\u001b[0;34m[\u001b[0m\u001b[0;34m]\u001b[0m\u001b[0;34m,\u001b[0m\u001b[0;34m'CCoeff'\u001b[0m\u001b[0;34m:\u001b[0m\u001b[0;34m[\u001b[0m\u001b[0;34m]\u001b[0m\u001b[0;34m,\u001b[0m\u001b[0;34m'MZ'\u001b[0m\u001b[0;34m:\u001b[0m\u001b[0;34m[\u001b[0m\u001b[0;34m]\u001b[0m\u001b[0;34m,\u001b[0m\u001b[0;34m'PCoeff'\u001b[0m\u001b[0;34m:\u001b[0m\u001b[0;34m[\u001b[0m\u001b[0;34m]\u001b[0m\u001b[0;34m,\u001b[0m\u001b[0;34m'PL'\u001b[0m\u001b[0;34m:\u001b[0m\u001b[0;34m[\u001b[0m\u001b[0;34m]\u001b[0m\u001b[0;34m}\u001b[0m\u001b[0;34m}\u001b[0m\u001b[0;34m)\u001b[0m\u001b[0;34m\u001b[0m\u001b[0;34m\u001b[0m\u001b[0m\n\u001b[0m\u001b[1;32m      6\u001b[0m \u001b[0;31m# else:\u001b[0m\u001b[0;34m\u001b[0m\u001b[0;34m\u001b[0m\u001b[0;34m\u001b[0m\u001b[0m\n\u001b[1;32m      7\u001b[0m \u001b[0;31m# print('Graph Theory Already Loaded')\u001b[0m\u001b[0;34m\u001b[0m\u001b[0;34m\u001b[0m\u001b[0;34m\u001b[0m\u001b[0m\n",
      "\u001b[0;31mKeyError\u001b[0m: 0"
     ]
    }
   ],
   "source": [
    "# if (not os.path.isfile('networks_LinearTransformation.pkl')): #if we haven't saved the file\n",
    "print('Setting up Graph Theory')\n",
    "for i in range(len(NWN)):\n",
    "        for j in range(len(NWN[i])):\n",
    "            NWN[i][j].update({'Graph Theory':{'Small World':[],'Modularity':[],'CCoeff':[],'MZ':[],'PCoeff':[],'PL':[]}})\n",
    "# else:\n",
    "# print('Graph Theory Already Loaded')"
   ]
  },
  {
   "cell_type": "code",
   "execution_count": 33,
   "metadata": {},
   "outputs": [],
   "source": [
    "#export adj matrices to calculate small worldness in matlab:\n",
    "adj_mats={\"AdjMat\":[]}\n",
    "for i in range(len(NWN)):\n",
    "        for j in range(len(NWN[i])):\n",
    "            adj_mats['AdjMat'].append((NWN[i][j]['adj_matrix']))\n",
    "savemat('/import/silo2/aloe8475/Documents/CODE/Data/Functional Connectivity/300NW_9modules_10sets.mat',adj_mats)\n",
    "\n",
    "# savemat('/import/silo2/aloe8475/Documents/CODE/Data/Functional Connectivity/VaryingDensity300NWset2_NWN.mat',adj_mats)\n",
    "#C:\\Users\\aloe8475\\Documents\\PhD\\GitHub\\CODE\\Analysis\\Functional Connectivity\\Functional Tasks\\"
   ]
  },
  {
   "cell_type": "code",
   "execution_count": 53,
   "metadata": {},
   "outputs": [],
   "source": [
    "# Small Worldness: \n",
    "# ------------------------------------\n",
    "# CALCULATED IN MATLAB: smallworldness.m \n",
    "# found in C:\\Users\\aloe8475\\Documents\\PhD\\GitHub\\CODE\\Analysis\\Functional Connectivity\\Functional Tasks\n",
    "# ------------------------------------\n",
    "temp=loadmat(r'/import/silo2/aloe8475/Documents/CODE/Data/Functional Connectivity/ModularNWNs/300NW_2modules_10sets_smallworld.mat')\n",
    "\n",
    "# temp=loadmat(r'/import/silo2/aloe8475/Documents/CODE/Data/Functional Connectivity/VaryingDensity300NWset2_NWN_smallworld.mat')\n",
    "smallworld=temp['smallworld'][0]\n",
    "del temp"
   ]
  },
  {
   "cell_type": "code",
   "execution_count": 64,
   "metadata": {},
   "outputs": [],
   "source": [
    "smallworld=smallworld.reshape(10,6)"
   ]
  },
  {
   "cell_type": "code",
   "execution_count": 65,
   "metadata": {},
   "outputs": [
    {
     "data": {
      "text/plain": [
       "array([[0.64788937, 0.6503784 , 0.65735291, 0.66114128, 0.66161717,\n",
       "        0.63052794],\n",
       "       [0.64959936, 0.65384382, 0.66469714, 0.67475261, 0.67325107,\n",
       "        0.64854021],\n",
       "       [0.6510433 , 0.64083164, 0.64504226, 0.65255073, 0.65801911,\n",
       "        0.60083251],\n",
       "       [0.64106432, 0.63362336, 0.63456944, 0.63960395, 0.6500829 ,\n",
       "        0.64370523],\n",
       "       [0.6537725 , 0.66093229, 0.65131172, 0.66582357, 0.67148252,\n",
       "        0.65591206],\n",
       "       [0.65741448, 0.66165008, 0.66782158, 0.67469282, 0.68136969,\n",
       "        0.65702947],\n",
       "       [0.6477061 , 0.63533225, 0.64855527, 0.66122758, 0.65675376,\n",
       "        0.6404654 ],\n",
       "       [0.647322  , 0.65489671, 0.65320306, 0.6553853 , 0.66225976,\n",
       "        0.64045855],\n",
       "       [0.64625027, 0.64848556, 0.65357978, 0.66288485, 0.66748223,\n",
       "        0.65046471],\n",
       "       [0.64856075, 0.64964221, 0.65370319, 0.66376599, 0.65753617,\n",
       "        0.64435975]])"
      ]
     },
     "execution_count": 65,
     "metadata": {},
     "output_type": "execute_result"
    }
   ],
   "source": [
    "smallworld"
   ]
  },
  {
   "cell_type": "code",
   "execution_count": 34,
   "metadata": {},
   "outputs": [
    {
     "data": {
      "application/vnd.jupyter.widget-view+json": {
       "model_id": "48381871875f4d8d979a1e4a4f4e8191",
       "version_major": 2,
       "version_minor": 0
      },
      "text/plain": [
       "HBox(children=(IntProgress(value=0, max=10), HTML(value='')))"
      ]
     },
     "metadata": {},
     "output_type": "display_data"
    },
    {
     "name": "stdout",
     "output_type": "stream",
     "text": [
      "\n"
     ]
    }
   ],
   "source": [
    "# Modularity, PCoeff, Small Worldness & MZ:\n",
    "ci = []\n",
    "pcoeff= []\n",
    "mz= []\n",
    "clustering = []\n",
    "for i in tqdm(range(len(NWN))):\n",
    "    for j in range(len(NWN[i])):\n",
    "        #need to do louvain check with partition distance 16/10/2020\n",
    "        ci,q=bct.community_louvain(NWN[i][j]['adj_matrix'])\n",
    "        pcoeff=bct.participation_coef(NWN[i][j]['adj_matrix'],ci)\n",
    "        mz=bct.module_degree_zscore(NWN[i][j]['adj_matrix'],ci)\n",
    "        G=nx.from_numpy_matrix(NWN[i][j]['adj_matrix'])\n",
    "        clustering=nx.clustering(G)\n",
    "        NWN[i][j]['Graph Theory']['PL']=dict(nx.all_pairs_shortest_path_length(G))\n",
    "        NWN[i][j]['Graph Theory']['Modularity']=ci\n",
    "        NWN[i][j]['Graph Theory']['Modularity Score']=q\n",
    "        NWN[i][j]['Graph Theory']['PCoeff']=pcoeff\n",
    "        NWN[i][j]['Graph Theory']['MZ']=mz\n",
    "#         NWN[i][j]['Graph Theory']['Small World']=smallworld[i][j]\n",
    "        NWN[i][j]['Graph Theory']['CCoeff']=clustering\n",
    "        NWN[i][j]['Graph Theory']['Degree']=nx.degree(G)\n",
    "        NWN[i][j]['Graph Theory']['AvgPL']=nx.average_shortest_path_length(G)\n",
    "#Save networks so we don't have to run this every time\n",
    "# name='/import/silo2/aloe8475/Documents/CODE/Analysis/Functional Connectivity/Functional Tasks/VaryingDensity300NWset2_NWN.pkl'\n",
    "name='/import/silo2/aloe8475/Documents/CODE/Analysis/Functional Connectivity/Functional Tasks/300NW_9modules_10sets_NWN.pkl'\n",
    "\n",
    "with open(name, 'wb') as f:\n",
    "    pickle.dump([NWN], f)   "
   ]
  },
  {
   "cell_type": "code",
   "execution_count": 57,
   "metadata": {},
   "outputs": [
    {
     "ename": "NameError",
     "evalue": "name 'ASN300' is not defined",
     "output_type": "error",
     "traceback": [
      "\u001b[0;31m---------------------------------------------------------------------------\u001b[0m",
      "\u001b[0;31mNameError\u001b[0m                                 Traceback (most recent call last)",
      "\u001b[0;32m<ipython-input-57-eaab083b146c>\u001b[0m in \u001b[0;36m<module>\u001b[0;34m\u001b[0m\n\u001b[1;32m      5\u001b[0m \u001b[0mnodes\u001b[0m\u001b[0;34m=\u001b[0m\u001b[0;34m[\u001b[0m\u001b[0;34m]\u001b[0m\u001b[0;34m\u001b[0m\u001b[0;34m\u001b[0m\u001b[0m\n\u001b[1;32m      6\u001b[0m \u001b[0mavgPL\u001b[0m\u001b[0;34m=\u001b[0m\u001b[0;34m[\u001b[0m\u001b[0;34m]\u001b[0m\u001b[0;34m\u001b[0m\u001b[0;34m\u001b[0m\u001b[0m\n\u001b[0;32m----> 7\u001b[0;31m \u001b[0;32mfor\u001b[0m \u001b[0mi\u001b[0m \u001b[0;32min\u001b[0m \u001b[0mrange\u001b[0m\u001b[0;34m(\u001b[0m\u001b[0mlen\u001b[0m\u001b[0;34m(\u001b[0m\u001b[0mASN300\u001b[0m\u001b[0;34m)\u001b[0m\u001b[0;34m)\u001b[0m\u001b[0;34m:\u001b[0m\u001b[0;34m\u001b[0m\u001b[0;34m\u001b[0m\u001b[0m\n\u001b[0m\u001b[1;32m      8\u001b[0m     \u001b[0;32mfor\u001b[0m \u001b[0mj\u001b[0m \u001b[0;32min\u001b[0m \u001b[0mrange\u001b[0m\u001b[0;34m(\u001b[0m\u001b[0mlen\u001b[0m\u001b[0;34m(\u001b[0m\u001b[0mASN300\u001b[0m\u001b[0;34m[\u001b[0m\u001b[0mi\u001b[0m\u001b[0;34m]\u001b[0m\u001b[0;34m)\u001b[0m\u001b[0;34m)\u001b[0m\u001b[0;34m:\u001b[0m\u001b[0;34m\u001b[0m\u001b[0;34m\u001b[0m\u001b[0m\n\u001b[1;32m      9\u001b[0m         \u001b[0mjunctions\u001b[0m\u001b[0;34m.\u001b[0m\u001b[0mappend\u001b[0m\u001b[0;34m(\u001b[0m\u001b[0mASN300\u001b[0m\u001b[0;34m[\u001b[0m\u001b[0mi\u001b[0m\u001b[0;34m]\u001b[0m\u001b[0;34m[\u001b[0m\u001b[0mj\u001b[0m\u001b[0;34m]\u001b[0m\u001b[0;34m[\u001b[0m\u001b[0;34m'number_of_junctions'\u001b[0m\u001b[0;34m]\u001b[0m\u001b[0;34m)\u001b[0m\u001b[0;34m\u001b[0m\u001b[0;34m\u001b[0m\u001b[0m\n",
      "\u001b[0;31mNameError\u001b[0m: name 'ASN300' is not defined"
     ]
    }
   ],
   "source": [
    "#More Graph Theory:\n",
    "#Number of Junctions\n",
    "junctions=[]\n",
    "#Number of Nodes:\n",
    "nodes=[]\n",
    "avgPL=[]\n",
    "for i in range(len(ASN300)):\n",
    "    for j in range(len(ASN300[i])):\n",
    "        junctions.append(ASN300[i][j]['number_of_junctions'])\n",
    "        nodes.append(ASN300[i][j]['number_of_wires'])\n",
    "\n",
    "junctions=np.asarray(junctions)\n",
    "nodes=np.asarray(nodes)"
   ]
  },
  {
   "cell_type": "code",
   "execution_count": 8,
   "metadata": {},
   "outputs": [
    {
     "name": "stdout",
     "output_type": "stream",
     "text": [
      "/import/silo2/aloe8475/Documents/CODE/Data/Functional Connectivity\n"
     ]
    }
   ],
   "source": [
    "cd \"/import/silo2/aloe8475/Documents/CODE/Data/Functional Connectivity/\""
   ]
  },
  {
   "cell_type": "code",
   "execution_count": null,
   "metadata": {},
   "outputs": [],
   "source": [
    "# #Export Degree to matlab for BIC analysis\n",
    "\n",
    "# import scipy.stats as stats    \n",
    "# degree=[None]*300\n",
    "# pcoeff=[None]*300\n",
    "# mz=[None]*300\n",
    "# centrality=[None]*300\n",
    "# #Gamma, Exponential, WB, Power Law Fitting:\n",
    "# count=0\n",
    "# for i in range(len(ASN300)):\n",
    "#     for j in range(len(ASN300[i])):\n",
    "#         degree[count]=(list(dict(ASN300[i][j]['Graph Theory']['Degree']).values()))  \n",
    "#         pcoeff[count]=(list(ASN300[i][j]['Graph Theory']['PCoeff']))        \n",
    "#         centrality[count]=(list(nx.betweenness_centrality(ASN300[i][j]['G']).values()))  \n",
    "#         mz[count]=(list(ASN300[i][j]['Graph Theory']['MZ']))\n",
    "#         count+=1\n",
    "    \n",
    "# savemat('Degree.mat',{'pcoeff':pcoeff,'degree':degree,'maxIdx':max_idx_acc,'minIdx':min_idx_acc,'centrality':centrality,'mz':mz})\n"
   ]
  },
  {
   "cell_type": "markdown",
   "metadata": {},
   "source": [
    "## C. Elegans"
   ]
  },
  {
   "cell_type": "code",
   "execution_count": null,
   "metadata": {},
   "outputs": [],
   "source": [
    "#Small world calculated on C Elegans Matrix in smallworld.m in MATLAB\n",
    "temp=loadmat(r'cElegans_smallworld.mat')\n",
    "smallworld_elegans=temp['cElegansSW'][0]\n",
    "del temp"
   ]
  },
  {
   "cell_type": "code",
   "execution_count": null,
   "metadata": {},
   "outputs": [],
   "source": [
    "# Modularity, PCoeff, Small Worldness & MZ:\n",
    "if (not os.path.isfile('elegans_LinearTransformation.pkl')): #if we haven't saved the file\n",
    "    ci = []\n",
    "    pcoeff= []\n",
    "    mz= []\n",
    "\n",
    "    ci,q=nct.community_louvain(elegansMat)\n",
    "    pcoeff=bct.participation_coef(elegansMat,ci)\n",
    "    mz=bct.module_degree_zscore(elegansMat,ci)\n",
    "    Elegans['Graph Theory']['MZ']=mz\n",
    "    Elegans['Graph Theory']['PCoeff']=pcoeff\n",
    "    Elegans['Graph Theory']['Modularity']=ci\n",
    "    Elegans['Graph Theory']['Modularity Score']=q\n",
    "    Elegans['Graph Theory']['Small World']=smallworld_elegans\n",
    "    Elegans['Graph Theory']['PL']=dict(nx.all_pairs_shortest_path_length(elegansGraph))\n",
    "    Elegans['Graph Theory']['CCoeff']=nx.clustering(elegansGraph)\n",
    "    Elegans['Graph Theory']['Degree']=nx.degree(elegansGraph)\n",
    "\n",
    "   #Save networks so we don't have to run this every time\n",
    "    print('Saving Elegans Networks')\n",
    "    name='elegans_LinearTransformation.pkl'\n",
    "    with open(name, 'wb') as f:\n",
    "        pickle.dump([Elegans], f)\n",
    "\n",
    "else: #load pickle file + communicability matrix calculated in Linear Transformation section \n",
    "    name='elegans_LinearTransformation.pkl'\n",
    "    print('Loading Elegans Networks')\n",
    "    file = open(name, 'rb')\n",
    "#     [ASN300,cluster1,cluster2,cluster3,time_index,nodesList] = pickle.load(file)\n",
    "#     [ASN300,cluster1,cluster2,cluster3] = pickle.load(file)\n",
    "    [Elegans] = pickle.load(file)\n",
    "\n",
    "    print('Loaded')"
   ]
  },
  {
   "cell_type": "markdown",
   "metadata": {},
   "source": []
  },
  {
   "cell_type": "code",
   "execution_count": null,
   "metadata": {},
   "outputs": [],
   "source": []
  }
 ],
 "metadata": {
  "kernelspec": {
   "display_name": "Python 3",
   "language": "python",
   "name": "python3"
  },
  "language_info": {
   "codemirror_mode": {
    "name": "ipython",
    "version": 3
   },
   "file_extension": ".py",
   "mimetype": "text/x-python",
   "name": "python",
   "nbconvert_exporter": "python",
   "pygments_lexer": "ipython3",
   "version": "3.7.3"
  }
 },
 "nbformat": 4,
 "nbformat_minor": 2
}
