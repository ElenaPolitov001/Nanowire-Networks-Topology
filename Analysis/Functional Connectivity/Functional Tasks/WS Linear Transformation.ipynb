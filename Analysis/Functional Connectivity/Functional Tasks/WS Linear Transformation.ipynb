{
 "cells": [
  {
   "cell_type": "code",
   "execution_count": 2,
   "metadata": {},
   "outputs": [
    {
     "name": "stdout",
     "output_type": "stream",
     "text": [
      "/suphys/aloe8475\n"
     ]
    }
   ],
   "source": [
    "cd \"/suphys/aloe8475\"\n"
   ]
  },
  {
   "cell_type": "code",
   "execution_count": 3,
   "metadata": {},
   "outputs": [
    {
     "name": "stdout",
     "output_type": "stream",
     "text": [
      "/import/silo2/aloe8475/Documents/edamame\n"
     ]
    }
   ],
   "source": [
    "cd \"Documents/edamame\""
   ]
  },
  {
   "cell_type": "code",
   "execution_count": 4,
   "metadata": {},
   "outputs": [],
   "source": [
    "from scipy.io import loadmat, savemat\n",
    "import numpy as np\n",
    "import matplotlib.pyplot as plt\n",
    "from matplotlib import colors\n",
    "import datetime\n",
    "import networkx as nx\n",
    "from edamame import *\n",
    "from tqdm import tqdm_notebook\n",
    "import os\n",
    "import edamame.core.wires as wires\n",
    "from random import choice\n",
    "import warnings\n",
    "from IPython.core.debugger import set_trace\n",
    "import nct\n",
    "import bct\n",
    "\n",
    "#warnings.filterwarnings('ignore')"
   ]
  },
  {
   "cell_type": "code",
   "execution_count": 5,
   "metadata": {},
   "outputs": [],
   "source": [
    "import pickle \n",
    "import _pickle as cPickle\n",
    "import gzip\n",
    "def compressed_pickle(obj, filename,protocol=-1):\n",
    "    with gzip.open(filename, 'wb') as f:\n",
    "        cPickle.dump(obj, f, protocol)"
   ]
  },
  {
   "cell_type": "code",
   "execution_count": 6,
   "metadata": {},
   "outputs": [],
   "source": [
    "# this_seed2=700\n",
    "def connected_component_subgraphs(G):\n",
    "    for c in nx.connected_components(G):\n",
    "        yield G.subgraph(c)"
   ]
  },
  {
   "cell_type": "code",
   "execution_count": 7,
   "metadata": {},
   "outputs": [],
   "source": [
    "#Select Largest Components\n",
    "def select_largest_component_new(wires_dict):\n",
    "    \"\"\"\n",
    "    Find and select largest connected component of the original graph G.\n",
    "    Throws away unconnected components and updates all the keys in wires_dict \n",
    "    \"\"\"\n",
    "#     def connected_component_subgraphs(G):\n",
    "#         for c in nx.connected_components(G):\n",
    "#             yield G.subgraph(c)\n",
    "    \n",
    "    wires_dict['G'] = max(connected_component_subgraphs(wires_dict['G']), key=len)\n",
    "#     set_trace()\n",
    "    nw = len(wires_dict['G'].nodes())\n",
    "    nj = len(wires_dict['G'].edges())   \n",
    "    \n",
    "    logging.info(\"The largest component has %5d nodes and %6d edges\", nw, nj)\n",
    "\n",
    "    # Replace values in the dictionary\n",
    "    wires_dict['number_of_wires']     = nw\n",
    "    wires_dict['number_of_junctions'] = nj\n",
    "    wires_dict['xa'] = wires_dict['xa'][wires_dict['G'].nodes()] \n",
    "    wires_dict['ya'] = wires_dict['ya'][wires_dict['G'].nodes()] \n",
    "    wires_dict['xb'] = wires_dict['xb'][wires_dict['G'].nodes()] \n",
    "    wires_dict['yb'] = wires_dict['yb'][wires_dict['G'].nodes()]\n",
    "    wires_dict['xc'] = wires_dict['xc'][wires_dict['G'].nodes()] \n",
    "    wires_dict['yc'] = wires_dict['yc'][wires_dict['G'].nodes()]\n",
    " \n",
    "    # Keep old edge_list\n",
    "    old_edge_list = [(ii, kk) for ii, kk in  zip(wires_dict['edge_list'][:, 0], wires_dict['edge_list'][:, 1])]\n",
    "    # Remove old edge list\n",
    "    wires_dict = wires.remove_key(wires_dict, 'edge_list') \n",
    "    # Save indices of intersections in the old graph\n",
    "    ind_dict = {key:value for value,key in enumerate(old_edge_list)}\n",
    "    new_edge_list = sorted([kk if kk[0] < kk[1] else (kk[1], kk[0]) for kk in wires_dict['G'].edges()], key=lambda x: x[0])\n",
    "    # Find intersection between the two sets\n",
    "    inter = set(ind_dict).intersection(new_edge_list)\n",
    "    # Retrieve edge indices/positions from the old list\n",
    "    edges_idx = [ind_dict[idx] for idx in inter]\n",
    "       \n",
    "    # These have length equal to number of junctions -- only get the ones we need\n",
    "    wires_dict['xi'] = wires_dict['xi'][edges_idx] \n",
    "    wires_dict['yi'] = wires_dict['yi'][edges_idx] \n",
    "    \n",
    "    # Get contiguous numbering of nodes\n",
    "    # Build node mapping \n",
    "    node_mapping    = {key:value for value, key in enumerate(sorted(wires_dict['G'].nodes()))}\n",
    "    # This  step also renames edges list\n",
    "    wires_dict['G'] =  nx.relabel_nodes(wires_dict['G'] , node_mapping)\n",
    "\n",
    "    # Swap node vertices if vertex 0 is larger than vertex 1, then sort by first element\n",
    "    wires_dict['edge_list'] = np.asarray(sorted([kk if kk[0] < kk[1] else (kk[1], kk[0]) for kk in wires_dict['G'].edges()], key=lambda x: x[0]))\n",
    "    \n",
    "    # Save adjacency matrix of new graph\n",
    "    wires_dict = wires.remove_key(wires_dict, 'adj_matrix') \n",
    "    wires_dict = wires.generate_adj_matrix(wires_dict)\n",
    "\n",
    "    wire_distances = wires.cdist(np.array([wires_dict['xc'], wires_dict['yc']]).T, np.array([wires_dict['xc'], wires_dict['yc']]).T, metric='euclidean')    \n",
    "    wires_dict['wire_distances'] = wire_distances\n",
    "\n",
    "    return wires_dict "
   ]
  },
  {
   "cell_type": "code",
   "execution_count": 8,
   "metadata": {},
   "outputs": [
    {
     "name": "stdout",
     "output_type": "stream",
     "text": [
      "/import/silo2/aloe8475/Documents/CODE/Analysis/Functional Connectivity/Functional Tasks\n"
     ]
    }
   ],
   "source": [
    "cd \"/import/silo2/aloe8475/Documents/CODE/Analysis/Functional Connectivity/Functional Tasks/\""
   ]
  },
  {
   "cell_type": "code",
   "execution_count": 12,
   "metadata": {},
   "outputs": [],
   "source": [
    "data=loadmat('avgDegreeVals.mat')\n",
    "avgDeg=data['avgdeg'][0]\n",
    "\n",
    "numNodes=data['numNodes'][0]\n",
    "# [8.906040268456376,\n",
    "#  16.166666666666668,\n",
    "#  44.06666666666667,\n",
    "#  8.846153846153847,\n",
    "#  15.588628762541806,\n",
    "#  4.473118279569892,\n",
    "#  2.296028880866426,\n",
    "#  9.245674740484429,\n",
    "#  4.083044982698962,\n",
    "#  8.280575539568344]"
   ]
  },
  {
   "cell_type": "code",
   "execution_count": 14,
   "metadata": {},
   "outputs": [],
   "source": [
    "ResultSqu_Grid=[None]*10\n",
    "ResultSqu_Random=[None]*10"
   ]
  },
  {
   "cell_type": "code",
   "execution_count": 15,
   "metadata": {},
   "outputs": [],
   "source": [
    "seed=[]\n",
    "for i in range(len(avgDeg)):\n",
    "    seed.append(np.random.randint(10000))"
   ]
  },
  {
   "cell_type": "code",
   "execution_count": 16,
   "metadata": {},
   "outputs": [],
   "source": [
    "#create watts strogatz graphs:\n",
    "random=[]\n",
    "grid=[]\n",
    "temp=[]\n",
    "temp2=[]\n",
    "for i in range(len(avgDeg)):\n",
    "    k=int(np.round(avgDeg[i]))\n",
    "    temp2.append(nx.watts_strogatz_graph(numNodes[i],k,1,seed=seed[i]))\n",
    "    temp.append(nx.watts_strogatz_graph(numNodes[i],k,0,seed=seed[i]))\n",
    "    grid.append(max(connected_component_subgraphs(temp[i]), key=len))\n",
    "    random.append(max(connected_component_subgraphs(temp2[i]), key=len))"
   ]
  },
  {
   "cell_type": "code",
   "execution_count": 17,
   "metadata": {},
   "outputs": [
    {
     "data": {
      "text/plain": [
       "287"
      ]
     },
     "execution_count": 17,
     "metadata": {},
     "output_type": "execute_result"
    }
   ],
   "source": [
    "random[6].number_of_edges()"
   ]
  },
  {
   "cell_type": "code",
   "execution_count": 18,
   "metadata": {},
   "outputs": [],
   "source": [
    "temp_rand=[]\n",
    "temp=[]\n",
    "shortestPath_Grid=[]\n",
    "shortestPath_Random=[]\n",
    "onAmp_Grid=[]\n",
    "onAmp_Random=[]\n",
    "\n",
    "for i in range(len(avgDeg)):\n",
    "    temp_rand.append(getFarthestPairing(nx.adj_matrix(random[i]).todense()))\n",
    "    temp.append(getFarthestPairing(nx.adj_matrix(grid[i]).todense()))\n",
    "    shortestPath_Grid.append(nx.shortest_path_length(grid[i],temp[i][0],temp[i][1]))\n",
    "    shortestPath_Random.append(nx.shortest_path_length(random[i],temp_rand[i][0],temp_rand[i][1]))\n",
    "    onAmp_Grid.append(shortestPath_Grid[i]/5)\n",
    "    onAmp_Random.append(shortestPath_Random[i]/5)"
   ]
  },
  {
   "cell_type": "code",
   "execution_count": null,
   "metadata": {},
   "outputs": [
    {
     "data": {
      "application/vnd.jupyter.widget-view+json": {
       "model_id": "72857372d4fb4a8a9fb26e59180fde42",
       "version_major": 2,
       "version_minor": 0
      },
      "text/plain": [
       "HBox(children=(IntProgress(value=0, description='Running Simulation ', max=5000, style=ProgressStyle(descripti…"
      ]
     },
     "metadata": {},
     "output_type": "display_data"
    },
    {
     "name": "stderr",
     "output_type": "stream",
     "text": [
      "2020-05-18 15:56:30,161:INFO:First current path [0, 3, 7, 11, 15, 19, 23, 27, 31, 35, 39, 43, 47, 51, 55, 59, 63, 67, 71, 75, 79, 83, 87, 91, 95, 99, 103, 107, 111, 115, 119, 123, 127, 131, 135, 139, 143, 147, 150] formed at time = 0.743 s.\n"
     ]
    },
    {
     "name": "stdout",
     "output_type": "stream",
     "text": [
      "\n"
     ]
    },
    {
     "data": {
      "application/vnd.jupyter.widget-view+json": {
       "model_id": "29d4392d892d4e8da4167388e2dc7315",
       "version_major": 2,
       "version_minor": 0
      },
      "text/plain": [
       "HBox(children=(IntProgress(value=0, description='Running Simulation ', max=5000, style=ProgressStyle(descripti…"
      ]
     },
     "metadata": {},
     "output_type": "display_data"
    },
    {
     "name": "stderr",
     "output_type": "stream",
     "text": [
      "2020-05-18 15:56:46,810:INFO:First current path [17, 235, 189, 13, 278, 140] formed at time = 0.791 s.\n"
     ]
    },
    {
     "name": "stdout",
     "output_type": "stream",
     "text": [
      "\n"
     ]
    },
    {
     "data": {
      "application/vnd.jupyter.widget-view+json": {
       "model_id": "07ede0edbe5e43b5b12ecc7ae617dadb",
       "version_major": 2,
       "version_minor": 0
      },
      "text/plain": [
       "HBox(children=(IntProgress(value=0, description='Running Simulation ', max=5000, style=ProgressStyle(descripti…"
      ]
     },
     "metadata": {},
     "output_type": "display_data"
    },
    {
     "name": "stderr",
     "output_type": "stream",
     "text": [
      "2020-05-18 15:57:03,759:INFO:First current path [0, 5, 13, 21, 29, 37, 45, 53, 61, 69, 77, 85, 93, 101, 109, 117, 125, 133, 141, 146] formed at time = 0.751 s.\n"
     ]
    },
    {
     "name": "stdout",
     "output_type": "stream",
     "text": [
      "\n"
     ]
    },
    {
     "data": {
      "application/vnd.jupyter.widget-view+json": {
       "model_id": "919dcc50035746d89b4622230ed8f868",
       "version_major": 2,
       "version_minor": 0
      },
      "text/plain": [
       "HBox(children=(IntProgress(value=0, description='Running Simulation ', max=5000, style=ProgressStyle(descripti…"
      ]
     },
     "metadata": {},
     "output_type": "display_data"
    },
    {
     "name": "stderr",
     "output_type": "stream",
     "text": [
      "2020-05-18 15:57:16,041:INFO:First current path [141, 131, 102, 247, 19] formed at time = 0.772 s.\n"
     ]
    },
    {
     "name": "stdout",
     "output_type": "stream",
     "text": [
      "\n"
     ]
    },
    {
     "data": {
      "application/vnd.jupyter.widget-view+json": {
       "model_id": "e4cd3b5f8f2a44e581362d1b4309708d",
       "version_major": 2,
       "version_minor": 0
      },
      "text/plain": [
       "HBox(children=(IntProgress(value=0, description='Running Simulation ', max=5000, style=ProgressStyle(descripti…"
      ]
     },
     "metadata": {},
     "output_type": "display_data"
    },
    {
     "name": "stdout",
     "output_type": "stream",
     "text": [
      "\n"
     ]
    },
    {
     "name": "stderr",
     "output_type": "stream",
     "text": [
      "2020-05-18 15:57:34,823:INFO:First current path [0, 12, 34, 56, 78, 100, 122, 134] formed at time = 0.753 s.\n"
     ]
    },
    {
     "data": {
      "application/vnd.jupyter.widget-view+json": {
       "model_id": "eac1cb5594074dedad844fefb3db917e",
       "version_major": 2,
       "version_minor": 0
      },
      "text/plain": [
       "HBox(children=(IntProgress(value=0, description='Running Simulation ', max=5000, style=ProgressStyle(descripti…"
      ]
     },
     "metadata": {},
     "output_type": "display_data"
    }
   ],
   "source": [
    "stimulus=[[],[]]\n",
    "stimulus_Rand=[[],[]]\n",
    "results_grid=[]\n",
    "results_rand=[]\n",
    "\n",
    "for i in range(len(avgDeg)):\n",
    "    dt = 1e-2\n",
    "    f=0.5\n",
    "    Time=5\n",
    "    stimulus[0]=(stimulus__(biasType='AC',onAmp=onAmp_Grid[i],TimeVector=np.arange(0,Time,dt),f=f))\n",
    "    stimulus[1]=(stimulus__(biasType='Drain',TimeVector=np.arange(0,Time,dt))) #we don't want this drain to be active during training\n",
    "\n",
    "    stimulus_Rand[0]=(stimulus__(biasType='AC',onAmp=onAmp_Random[i],TimeVector=np.arange(0,Time,dt),f=f))\n",
    "    stimulus_Rand[1]=(stimulus__(biasType='Drain',TimeVector=np.arange(0,Time,dt))) #we don't want this drain to be active during training\n",
    "    stimulus2 = [item for item in stimulus] #go through each list in the list and find the ith item\n",
    "    stimulus2_Rand=[item for item in stimulus_Rand]\n",
    "\n",
    "    results_grid.append(runSim(connectivity__(graph=grid[i]),stimulus=stimulus2, contactMode='farthest', T = Time, dt = 0.001, onAmp = onAmp_Grid[i], biasType='AC',f=f,junctionMode='tunneling'))\n",
    "    results_rand.append(runSim(connectivity__(graph=random[i]),stimulus=stimulus2_Rand, contactMode='farthest', T = Time, dt = 0.001, onAmp = onAmp_Random[i], biasType='AC',f=f,junctionMode='tunneling'))\n",
    "    period=1/f"
   ]
  },
  {
   "cell_type": "code",
   "execution_count": 192,
   "metadata": {},
   "outputs": [],
   "source": [
    "WS_Grid=[None]*len(avgDeg)\n",
    "WS_Random=[None]*len(avgDeg)\n",
    "for i in range(len(avgDeg)):\n",
    "    WS_Grid[i]={'seed':[],'adj_matrix':[],'G':[],'Accuracy':{'Linear Transformation':[],'Mackey Glass':[],'MNIST':[]},'Graph Theory':{'Small World':[],'Modularity':[],'CCoeff':[],'MZ':[],'PCoeff':[],'PL':[]}}\n",
    "    WS_Random[i]={'seed':[],'adj_matrix':[],'G':[],'Accuracy':{'Linear Transformation':[],'Mackey Glass':[],'MNIST':[]},'Graph Theory':{'Small World':[],'Modularity':[],'CCoeff':[],'MZ':[],'PCoeff':[],'PL':[]}}"
   ]
  },
  {
   "cell_type": "code",
   "execution_count": 194,
   "metadata": {},
   "outputs": [
    {
     "data": {
      "application/vnd.jupyter.widget-view+json": {
       "model_id": "c25947d745cf44618e49b59a94b7bf3b",
       "version_major": 2,
       "version_minor": 0
      },
      "text/plain": [
       "HBox(children=(IntProgress(value=0, max=10), HTML(value='')))"
      ]
     },
     "metadata": {},
     "output_type": "display_data"
    }
   ],
   "source": [
    "nodesList=[[None]*len(avgDeg) for i in range(2)]\n",
    "for i in tqdm(range(len(avgDeg))):\n",
    "    for j in range(2): #grid, random\n",
    "        if j == 0:\n",
    "            if len(grid[i]) >= 250:\n",
    "                nodesList[j][i]=[50,100,150,200,250,len(grid[i])]#range(50, len(ws300[i][0])+1,50)\n",
    "            elif len(grid[i]) >= 200 and len(grid[i]) < 250:\n",
    "                nodesList[j][i]=[50,100,150,200,len(grid[i])]#range(50, len(ws300[i][0])+1,50)  \n",
    "            elif len(grid[i]) >= 150 and len(grid[i]) < 200:\n",
    "                nodesList[j][i]=[50,100,150,len(grid[i])]#range(50, len(ws300[i][0])+1,50)  \n",
    "            elif len(grid[i]) >= 100 and len(grid[i]) < 150:\n",
    "                nodesList[j][i]=[50,100,len(grid[i])]#range(50, len(ws300[i][0])+1,50)\n",
    "        else:\n",
    "            if len(random[i]) >= 250:\n",
    "                nodesList[j][i]=[50,100,150,200,250,len(random[i])]#range(50, len(ws300[i][0])+1,50)\n",
    "            elif len(random[i]) >= 200 and len(random[i]) < 250:\n",
    "                nodesList[j][i]=[50,100,150,200,len(random[i])]#range(50, len(ws300[i][0])+1,50)  \n",
    "            elif len(random[i]) >= 150 and len(random[i]) < 200:\n",
    "                nodesList[j][i]=[50,100,150,len(random[i])]#range(50, len(ws300[i][0])+1,50)  \n",
    "            elif len(random[i]) >= 100 and len(random[i]) < 150:\n",
    "                nodesList[j][i]=[50,100,len(random[i])]#range(50, len(ws300[i][0])+1,50)"
   ]
  },
  {
   "cell_type": "code",
   "execution_count": 203,
   "metadata": {},
   "outputs": [
    {
     "data": {
      "application/vnd.jupyter.widget-view+json": {
       "model_id": "25b4267307004687a1bec6b9a533d184",
       "version_major": 2,
       "version_minor": 0
      },
      "text/plain": [
       "HBox(children=(IntProgress(value=0, max=10), HTML(value='')))"
      ]
     },
     "metadata": {},
     "output_type": "display_data"
    },
    {
     "name": "stdout",
     "output_type": "stream",
     "text": [
      "Running Random Network Regression: 50 nodes\n",
      "Running Random Network Regression: 100 nodes\n",
      "Running Random Network Regression: 150 nodes\n",
      "Running Random Network Regression: 200 nodes\n",
      "Running Random Network Regression: 250 nodes\n",
      "Running Random Network Regression: 300 nodes\n",
      "[[0.6438537327018645, 0.7576049715506393, 0.7756619392197739, 0.7842916310828033, 0.7868175751836598, 0.7904795678316529]]\n",
      "Running Random Network Regression: 50 nodes\n",
      "Running Random Network Regression: 100 nodes\n",
      "Running Random Network Regression: 150 nodes\n",
      "Running Random Network Regression: 200 nodes\n",
      "Running Random Network Regression: 250 nodes\n",
      "Running Random Network Regression: 300 nodes\n",
      "[[0.6353957683162891, 0.6480427010683283, 0.6534908370267987, 0.6565611517238078, 0.6566798889320961, 0.65689463398104]]\n",
      "Running Random Network Regression: 50 nodes\n",
      "Running Random Network Regression: 100 nodes\n",
      "Running Random Network Regression: 150 nodes\n",
      "Running Random Network Regression: 200 nodes\n",
      "Running Random Network Regression: 250 nodes\n",
      "Running Random Network Regression: 300 nodes\n",
      "[[0.6863976746065106, 0.6893533814097605, 0.6897030207111747, 0.6898896335544714, 0.6900298704889215, 0.690161724197324]]\n",
      "Running Random Network Regression: 50 nodes\n",
      "Running Random Network Regression: 100 nodes\n",
      "Running Random Network Regression: 150 nodes\n",
      "Running Random Network Regression: 200 nodes\n",
      "Running Random Network Regression: 250 nodes\n",
      "Running Random Network Regression: 300 nodes\n",
      "[[0.6855775662555819, 0.6951486854525855, 0.6989350841476106, 0.7007352266677117, 0.7015646750578877, 0.7018715068603305]]\n",
      "Running Random Network Regression: 50 nodes\n",
      "Running Random Network Regression: 100 nodes\n",
      "Running Random Network Regression: 150 nodes\n",
      "Running Random Network Regression: 200 nodes\n",
      "Running Random Network Regression: 250 nodes\n",
      "Running Random Network Regression: 300 nodes\n",
      "[[0.6597455426464696, 0.7252391293199645, 0.7325277867323406, 0.7345367661681812, 0.7358183161886225, 0.7366012010309602]]\n",
      "Running Random Network Regression: 50 nodes\n",
      "Running Random Network Regression: 100 nodes\n",
      "Running Random Network Regression: 150 nodes\n",
      "Running Random Network Regression: 200 nodes\n",
      "Running Random Network Regression: 250 nodes\n",
      "Running Random Network Regression: 300 nodes\n",
      "[[0.7424014819946504, 0.7682894688467151, 0.7867460972688727, 0.7963311955889445, 0.801512278245945, 0.8034356645409424]]\n",
      "Running Random Network Regression: 50 nodes\n",
      "Running Random Network Regression: 100 nodes\n",
      "Running Random Network Regression: 150 nodes\n",
      "Running Random Network Regression: 200 nodes\n",
      "Running Random Network Regression: 250 nodes\n",
      "Running Random Network Regression: 300 nodes\n",
      "[[0.7180739895802642, 0.7476528925302719, 0.7538545473977092, 0.7593928677581114, 0.7659585811032942, 0.7702191212067145]]\n",
      "Running Random Network Regression: 50 nodes\n",
      "Running Random Network Regression: 100 nodes\n",
      "Running Random Network Regression: 150 nodes\n",
      "Running Random Network Regression: 200 nodes\n",
      "Running Random Network Regression: 250 nodes\n",
      "Running Random Network Regression: 300 nodes\n",
      "[[0.6359725822297821, 0.6481989463530387, 0.6531485011038108, 0.6559581778914502, 0.6568946339225821, 0.6568946339706717]]\n",
      "Running Random Network Regression: 50 nodes\n",
      "Running Random Network Regression: 100 nodes\n",
      "Running Random Network Regression: 150 nodes\n",
      "Running Random Network Regression: 200 nodes\n",
      "Running Random Network Regression: 250 nodes\n",
      "Running Random Network Regression: 300 nodes\n",
      "[[0.6797673698985502, 0.7322281211010393, 0.7864179266173356, 0.8090788957659776, 0.8243654429589905, 0.8276271536386949]]\n",
      "Running Random Network Regression: 50 nodes\n",
      "Running Random Network Regression: 100 nodes\n",
      "Running Random Network Regression: 150 nodes\n",
      "Running Random Network Regression: 200 nodes\n",
      "Running Random Network Regression: 250 nodes\n",
      "Running Random Network Regression: 300 nodes\n",
      "[[0.6858686790580839, 0.6953069248932158, 0.698871987227876, 0.7008274205167959, 0.7016350967109192, 0.7018715068603228]]\n",
      "Running Random Network Regression: 50 nodes\n",
      "Running Random Network Regression: 100 nodes\n",
      "Running Random Network Regression: 150 nodes\n",
      "Running Random Network Regression: 200 nodes\n",
      "Running Random Network Regression: 250 nodes\n",
      "Running Random Network Regression: 300 nodes\n",
      "[[0.7170678332323939, 0.7728374185102834, 0.7951036878063479, 0.8049285553508276, 0.8127869522803505, 0.8172641879763997]]\n",
      "Running Random Network Regression: 50 nodes\n",
      "Running Random Network Regression: 100 nodes\n",
      "Running Random Network Regression: 150 nodes\n",
      "Running Random Network Regression: 200 nodes\n",
      "Running Random Network Regression: 250 nodes\n",
      "Running Random Network Regression: 300 nodes\n",
      "[[0.5948249065129361, 0.6016905187233145, 0.6066722403574084, 0.6080945924468639, 0.6082108237726748, 0.6082177720586364]]\n",
      "Running Random Network Regression: 50 nodes\n",
      "Running Random Network Regression: 100 nodes\n",
      "Running Random Network Regression: 150 nodes\n",
      "Running Random Network Regression: 200 nodes\n",
      "Running Random Network Regression: 250 nodes\n",
      "Running Random Network Regression: 300 nodes\n",
      "[[0.5670699175505672, 0.5670699175505675, 0.5670699175505673, 0.5670699175505673, 0.5670699175505673, 0.5670699175505673]]\n",
      "Running Random Network Regression: 50 nodes\n",
      "Running Random Network Regression: 100 nodes\n",
      "Running Random Network Regression: 150 nodes\n",
      "Running Random Network Regression: 200 nodes\n",
      "Running Random Network Regression: 250 nodes\n",
      "Running Random Network Regression: 300 nodes\n",
      "[[0.5670507111660705, 0.5670507111660696, 0.5670507111660698, 0.5670507111660694, 0.5670507111660698, 0.5670507111660696]]\n",
      "Running Random Network Regression: 50 nodes\n",
      "Running Random Network Regression: 100 nodes\n",
      "Running Random Network Regression: 150 nodes\n",
      "Running Random Network Regression: 200 nodes\n",
      "Running Random Network Regression: 250 nodes\n",
      "Running Random Network Regression: 300 nodes\n",
      "[[0.6447500872375919, 0.7827718165655705, 0.7958220063562819, 0.807508507105792, 0.8172588957387947, 0.8236468015022114]]\n",
      "Running Random Network Regression: 50 nodes\n",
      "Running Random Network Regression: 100 nodes\n",
      "Running Random Network Regression: 150 nodes\n",
      "Running Random Network Regression: 200 nodes\n",
      "Running Random Network Regression: 250 nodes\n",
      "Running Random Network Regression: 300 nodes\n",
      "[[0.6358719872178039, 0.648225149237903, 0.6542650295297279, 0.6560446476087354, 0.6568946339918686, 0.6568946339701597]]\n",
      "Running Random Network Regression: 50 nodes\n",
      "Running Random Network Regression: 100 nodes\n",
      "Running Random Network Regression: 150 nodes\n",
      "Running Random Network Regression: 200 nodes\n",
      "Running Random Network Regression: 250 nodes\n",
      "Running Random Network Regression: 300 nodes\n",
      "[[0.711511730048199, 0.7501325159523085, 0.7595767624323154, 0.766897056238443, 0.7725696091177577, 0.7792856839582334]]\n",
      "Running Random Network Regression: 50 nodes\n",
      "Running Random Network Regression: 100 nodes\n",
      "Running Random Network Regression: 150 nodes\n",
      "Running Random Network Regression: 200 nodes\n",
      "Running Random Network Regression: 250 nodes\n",
      "Running Random Network Regression: 300 nodes\n",
      "[[0.5960363417108276, 0.603174055952256, 0.6058721899441085, 0.6077009666853946, 0.6082001389404593, 0.608217771798617]]\n",
      "Running Random Network Regression: 50 nodes\n",
      "Running Random Network Regression: 100 nodes\n",
      "Running Random Network Regression: 150 nodes\n",
      "Running Random Network Regression: 200 nodes\n",
      "Running Random Network Regression: 250 nodes\n",
      "Running Random Network Regression: 300 nodes\n",
      "[[0.7242230294551391, 0.8065788713935472, 0.8218697204851011, 0.8253342433052673, 0.827625685359329, 0.8290728994459748]]\n",
      "Running Random Network Regression: 50 nodes\n",
      "Running Random Network Regression: 100 nodes\n",
      "Running Random Network Regression: 150 nodes\n",
      "Running Random Network Regression: 200 nodes\n",
      "Running Random Network Regression: 250 nodes\n",
      "Running Random Network Regression: 300 nodes\n",
      "[[0.6350464646885203, 0.6479632222241908, 0.6529545084609452, 0.6566074953609546, 0.6568704967785095, 0.6568946339565988]]\n"
     ]
    }
   ],
   "source": [
    "for i in tqdm(range(len(avgDeg))):\n",
    "    nwSqu_Random=[None]*len(nodesList[1][i])\n",
    "    nwSqu_Grid=[None]*len(nodesList[0][i])\n",
    "    countk=0\n",
    "    for k in nodesList[1][i]: #loop through sets of nodes for regression\n",
    "        print('Running Random Network Regression: ' + str(k) + ' nodes')\n",
    "        ResultSqu_Random=[]\n",
    "        ResultSqu_Random = nonLinearTrans(results_rand[i],'Square',k, repeats=50) #simulation, type of signal, number of nodes to sample from, number of linear regression repetitions (take avg)\n",
    "        nwSqu_Random[countk]=(ResultSqu_Random['accuracy'])\n",
    "        countk=countk+1\n",
    "        if k == nodesList[j][i][-1]: #if k is equal to the largest node sampling\n",
    "            WS_Random[i]['Accuracy']['Linear Transformation']=[]\n",
    "            WS_Random[i]['Accuracy']['Linear Transformation'].append(nwSqu_Random)\n",
    "            print(WS_Random[i]['Accuracy']['Linear Transformation'])\n",
    "    countk=0\n",
    "    for k in nodesList[0][i]:     \n",
    "        print('Running Random Network Regression: ' + str(k) + ' nodes')\n",
    "        ResultSqu_Grid=[]\n",
    "        ResultSqu_Grid = nonLinearTrans(results_grid[i],'Square',k, repeats=50) #simulation, type of signal, number of nodes to sample from, number of linear regression repetitions (take avg)\n",
    "        nwSqu_Grid[countk]=(ResultSqu_Grid['accuracy'])\n",
    "        countk=countk+1\n",
    "        if k == nodesList[j][i][-1]: #if k is equal to the largest node sampling\n",
    "            WS_Grid[i]['Accuracy']['Linear Transformation']=[]\n",
    "            WS_Grid[i]['Accuracy']['Linear Transformation'].append(nwSqu_Grid)\n",
    "            print(WS_Grid[i]['Accuracy']['Linear Transformation'])"
   ]
  },
  {
   "cell_type": "code",
   "execution_count": 207,
   "metadata": {},
   "outputs": [
    {
     "name": "stdout",
     "output_type": "stream",
     "text": [
      "[[0.6353957683162891, 0.6480427010683283, 0.6534908370267987, 0.6565611517238078, 0.6566798889320961, 0.65689463398104]]\n",
      "[[0.6855775662555819, 0.6951486854525855, 0.6989350841476106, 0.7007352266677117, 0.7015646750578877, 0.7018715068603305]]\n",
      "[[0.7424014819946504, 0.7682894688467151, 0.7867460972688727, 0.7963311955889445, 0.801512278245945, 0.8034356645409424]]\n",
      "[[0.6359725822297821, 0.6481989463530387, 0.6531485011038108, 0.6559581778914502, 0.6568946339225821, 0.6568946339706717]]\n",
      "[[0.6858686790580839, 0.6953069248932158, 0.698871987227876, 0.7008274205167959, 0.7016350967109192, 0.7018715068603228]]\n",
      "[[0.5948249065129361, 0.6016905187233145, 0.6066722403574084, 0.6080945924468639, 0.6082108237726748, 0.6082177720586364]]\n",
      "[[0.5670507111660705, 0.5670507111660696, 0.5670507111660698, 0.5670507111660694, 0.5670507111660698, 0.5670507111660696]]\n",
      "[[0.6358719872178039, 0.648225149237903, 0.6542650295297279, 0.6560446476087354, 0.6568946339918686, 0.6568946339701597]]\n",
      "[[0.5960363417108276, 0.603174055952256, 0.6058721899441085, 0.6077009666853946, 0.6082001389404593, 0.608217771798617]]\n",
      "[[0.6350464646885203, 0.6479632222241908, 0.6529545084609452, 0.6566074953609546, 0.6568704967785095, 0.6568946339565988]]\n"
     ]
    }
   ],
   "source": [
    "for i in range(len(avgDeg)):\n",
    "    print(WS_Grid[i]['Accuracy']['Linear Transformation'])"
   ]
  },
  {
   "cell_type": "code",
   "execution_count": 208,
   "metadata": {},
   "outputs": [
    {
     "name": "stdout",
     "output_type": "stream",
     "text": [
      "[[0.6438537327018645, 0.7576049715506393, 0.7756619392197739, 0.7842916310828033, 0.7868175751836598, 0.7904795678316529]]\n",
      "[[0.6863976746065106, 0.6893533814097605, 0.6897030207111747, 0.6898896335544714, 0.6900298704889215, 0.690161724197324]]\n",
      "[[0.6597455426464696, 0.7252391293199645, 0.7325277867323406, 0.7345367661681812, 0.7358183161886225, 0.7366012010309602]]\n",
      "[[0.7180739895802642, 0.7476528925302719, 0.7538545473977092, 0.7593928677581114, 0.7659585811032942, 0.7702191212067145]]\n",
      "[[0.6797673698985502, 0.7322281211010393, 0.7864179266173356, 0.8090788957659776, 0.8243654429589905, 0.8276271536386949]]\n",
      "[[0.7170678332323939, 0.7728374185102834, 0.7951036878063479, 0.8049285553508276, 0.8127869522803505, 0.8172641879763997]]\n",
      "[[0.5670699175505672, 0.5670699175505675, 0.5670699175505673, 0.5670699175505673, 0.5670699175505673, 0.5670699175505673]]\n",
      "[[0.6447500872375919, 0.7827718165655705, 0.7958220063562819, 0.807508507105792, 0.8172588957387947, 0.8236468015022114]]\n",
      "[[0.711511730048199, 0.7501325159523085, 0.7595767624323154, 0.766897056238443, 0.7725696091177577, 0.7792856839582334]]\n",
      "[[0.7242230294551391, 0.8065788713935472, 0.8218697204851011, 0.8253342433052673, 0.827625685359329, 0.8290728994459748]]\n"
     ]
    }
   ],
   "source": [
    "for i in range(len(avgDeg)):\n",
    "    print(WS_Random[i]['Accuracy']['Linear Transformation'])"
   ]
  },
  {
   "cell_type": "code",
   "execution_count": 210,
   "metadata": {},
   "outputs": [],
   "source": [
    "#export adj matrices to calculate small worldness in matlab:\n",
    "adj_mats={\"AdjMat_Grid\":[],\"AdjMat_Random\":[]}\n",
    "for i in range(len(WS_Grid)):\n",
    "    adj_mats['AdjMat_Grid'].append(dict(grid=nx.adj_matrix(grid[i]).todense()))\n",
    "    adj_mats['AdjMat_Random'].append(dict(random=nx.adj_matrix(random[i]).todense()))\n",
    "    WS_Grid[i]['adj_matrix']=nx.adj_matrix(grid[i]).todense()\n",
    "    WS_Random[i]['adj_matrix']=nx.adj_matrix(random[i]).todense()\n",
    "savemat('/import/silo2/aloe8475/Documents/CODE/Data/Functional Connectivity/300_WS.mat',adj_mats)"
   ]
  },
  {
   "cell_type": "code",
   "execution_count": 218,
   "metadata": {},
   "outputs": [
    {
     "name": "stdout",
     "output_type": "stream",
     "text": [
      "/import/silo2/aloe8475/Documents/CODE/Data/Functional Connectivity\n"
     ]
    }
   ],
   "source": [
    "cd \"/import/silo2/aloe8475/Documents/CODE/Data/Functional Connectivity/\""
   ]
  },
  {
   "cell_type": "code",
   "execution_count": 219,
   "metadata": {},
   "outputs": [],
   "source": [
    "smallworld_ws={'Grid':[],'Random':[]}\n",
    "temp=loadmat(r'300_WS_smallworld.mat')\n",
    "smallworld_ws['Grid']=temp['smallworld_grid']\n",
    "smallworld_ws['Random']=temp['smallworld_random']\n",
    "del temp"
   ]
  },
  {
   "cell_type": "code",
   "execution_count": 220,
   "metadata": {},
   "outputs": [
    {
     "name": "stdout",
     "output_type": "stream",
     "text": [
      "/import/silo2/aloe8475/Documents/CODE/Analysis/Functional Connectivity/Functional Tasks\n"
     ]
    }
   ],
   "source": [
    "cd \"/import/silo2/aloe8475/Documents/CODE/Analysis/Functional Connectivity/Functional Tasks/\""
   ]
  },
  {
   "cell_type": "code",
   "execution_count": 232,
   "metadata": {},
   "outputs": [
    {
     "data": {
      "application/vnd.jupyter.widget-view+json": {
       "model_id": "5bd7bfc3b1d943609abbf4a5a1d65fb3",
       "version_major": 2,
       "version_minor": 0
      },
      "text/plain": [
       "HBox(children=(IntProgress(value=0, max=10), HTML(value='')))"
      ]
     },
     "metadata": {},
     "output_type": "display_data"
    },
    {
     "data": {
      "application/vnd.jupyter.widget-view+json": {
       "model_id": "1782fd31dd2944de8746fd4c33b6e5c6",
       "version_major": 2,
       "version_minor": 0
      },
      "text/plain": [
       "HBox(children=(IntProgress(value=0, max=10), HTML(value='')))"
      ]
     },
     "metadata": {},
     "output_type": "display_data"
    },
    {
     "name": "stdout",
     "output_type": "stream",
     "text": [
      "Saving WS\n"
     ]
    }
   ],
   "source": [
    "# WS:\n",
    "ci = []\n",
    "pcoeff= []\n",
    "mz= []\n",
    "clustering = []\n",
    "for i in tqdm(range(len(WS_Grid))):\n",
    "    ci,q=nct.community_louvain(np.squeeze(np.asarray(WS_Grid[i]['adj_matrix'])))\n",
    "    pcoeff=bct.participation_coef(np.squeeze(np.asarray(WS_Grid[i]['adj_matrix'])),ci)\n",
    "    mz=bct.module_degree_zscore(np.squeeze(np.asarray(WS_Grid[i]['adj_matrix'])),ci)\n",
    "    WS_Grid[i]['G']=grid[i]\n",
    "    clustering=nx.clustering(WS_Grid[i]['G'])\n",
    "    WS_Grid[i]['Graph Theory']['PL']=dict(nx.all_pairs_shortest_path_length(WS_Grid[i]['G']))\n",
    "    WS_Grid[i]['Graph Theory']['Modularity']=ci\n",
    "    WS_Grid[i]['Graph Theory']['Modularity Score']=q\n",
    "    WS_Grid[i]['Graph Theory']['PCoeff']=pcoeff\n",
    "    WS_Grid[i]['Graph Theory']['MZ']=mz\n",
    "    WS_Grid[i]['Graph Theory']['Small World']=smallworld_ws['Grid'][0][i]\n",
    "    WS_Grid[i]['Graph Theory']['CCoeff']=clustering\n",
    "    WS_Grid[i]['Graph Theory']['Degree']=nx.degree(WS_Grid[i]['G'])\n",
    "    WS_Grid[i]['Graph Theory']['AvgPL']=nx.average_shortest_path_length(WS_Grid[i]['G'])\n",
    "\n",
    "ci = []\n",
    "pcoeff= []\n",
    "mz= []\n",
    "clustering = []\n",
    "count1=0\n",
    "count2=0\n",
    "count3=0   \n",
    "for i in tqdm(range(len(WS_Random))):\n",
    "    ci,q=nct.community_louvain(np.squeeze(np.asarray(WS_Random[i]['adj_matrix'])))\n",
    "    pcoeff=bct.participation_coef(np.squeeze(np.asarray(WS_Random[i]['adj_matrix'])),ci)\n",
    "    mz=bct.module_degree_zscore(np.squeeze(np.asarray(WS_Random[i]['adj_matrix'])),ci)\n",
    "    WS_Random[i]['G']=random[i]\n",
    "    clustering=nx.clustering(WS_Random[i]['G'])\n",
    "    WS_Random[i]['Graph Theory']['PL']=dict(nx.all_pairs_shortest_path_length(WS_Random[i]['G']))\n",
    "    WS_Random[i]['Graph Theory']['Modularity']=ci\n",
    "    WS_Random[i]['Graph Theory']['Modularity Score']=q\n",
    "    WS_Random[i]['Graph Theory']['PCoeff']=pcoeff\n",
    "    WS_Random[i]['Graph Theory']['MZ']=mz\n",
    "    WS_Random[i]['Graph Theory']['Small World']=smallworld_ws['Random'][0][i]\n",
    "    WS_Random[i]['Graph Theory']['CCoeff']=clustering\n",
    "    WS_Random[i]['Graph Theory']['Degree']=nx.degree(WS_Random[i]['G'])\n",
    "    WS_Random[i]['Graph Theory']['AvgPL']=nx.average_shortest_path_length(WS_Random[i]['G'])    \n",
    "\n",
    "name='WS_networks_LinearTransformation.pkl'\n",
    "print('Saving WS')\n",
    "with open(name, 'wb') as f:\n",
    "    pickle.dump([WS_Grid,WS_Random], f)   "
   ]
  }
 ],
 "metadata": {
  "kernelspec": {
   "display_name": "Python 3",
   "language": "python",
   "name": "python3"
  },
  "language_info": {
   "codemirror_mode": {
    "name": "ipython",
    "version": 3
   },
   "file_extension": ".py",
   "mimetype": "text/x-python",
   "name": "python",
   "nbconvert_exporter": "python",
   "pygments_lexer": "ipython3",
   "version": "3.7.3"
  }
 },
 "nbformat": 4,
 "nbformat_minor": 2
}
