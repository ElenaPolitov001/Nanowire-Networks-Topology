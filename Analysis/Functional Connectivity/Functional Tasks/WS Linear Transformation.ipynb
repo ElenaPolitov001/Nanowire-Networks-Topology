{
 "cells": [
  {
   "cell_type": "code",
   "execution_count": 1,
   "metadata": {},
   "outputs": [
    {
     "name": "stdout",
     "output_type": "stream",
     "text": [
      "/suphys/aloe8475\n"
     ]
    }
   ],
   "source": [
    "cd \"/suphys/aloe8475\"\n"
   ]
  },
  {
   "cell_type": "code",
   "execution_count": 2,
   "metadata": {},
   "outputs": [
    {
     "name": "stdout",
     "output_type": "stream",
     "text": [
      "/import/silo2/aloe8475/Documents/edamame\n"
     ]
    }
   ],
   "source": [
    "cd \"Documents/edamame\""
   ]
  },
  {
   "cell_type": "code",
   "execution_count": 3,
   "metadata": {},
   "outputs": [],
   "source": [
    "from scipy.io import loadmat, savemat\n",
    "import numpy as np\n",
    "import matplotlib.pyplot as plt\n",
    "from matplotlib import colors\n",
    "import datetime\n",
    "import networkx as nx\n",
    "from edamame import *\n",
    "from tqdm import tqdm_notebook\n",
    "import os\n",
    "import edamame.core.wires as wires\n",
    "from random import choice\n",
    "import warnings\n",
    "from IPython.core.debugger import set_trace\n",
    "import nct\n",
    "import bct\n",
    "\n",
    "#warnings.filterwarnings('ignore')"
   ]
  },
  {
   "cell_type": "code",
   "execution_count": 4,
   "metadata": {},
   "outputs": [],
   "source": [
    "import pickle \n",
    "import _pickle as cPickle\n",
    "import gzip\n",
    "def compressed_pickle(obj, filename,protocol=-1):\n",
    "    with gzip.open(filename, 'wb') as f:\n",
    "        cPickle.dump(obj, f, protocol)"
   ]
  },
  {
   "cell_type": "code",
   "execution_count": 5,
   "metadata": {},
   "outputs": [],
   "source": [
    "# this_seed2=700\n",
    "def connected_component_subgraphs(G):\n",
    "    for c in nx.connected_components(G):\n",
    "        yield G.subgraph(c)"
   ]
  },
  {
   "cell_type": "code",
   "execution_count": 6,
   "metadata": {},
   "outputs": [],
   "source": [
    "#Select Largest Components\n",
    "def select_largest_component_new(wires_dict):\n",
    "    \"\"\"\n",
    "    Find and select largest connected component of the original graph G.\n",
    "    Throws away unconnected components and updates all the keys in wires_dict \n",
    "    \"\"\"\n",
    "#     def connected_component_subgraphs(G):\n",
    "#         for c in nx.connected_components(G):\n",
    "#             yield G.subgraph(c)\n",
    "    \n",
    "    wires_dict['G'] = max(connected_component_subgraphs(wires_dict['G']), key=len)\n",
    "#     set_trace()\n",
    "    nw = len(wires_dict['G'].nodes())\n",
    "    nj = len(wires_dict['G'].edges())   \n",
    "    \n",
    "    logging.info(\"The largest component has %5d nodes and %6d edges\", nw, nj)\n",
    "\n",
    "    # Replace values in the dictionary\n",
    "    wires_dict['number_of_wires']     = nw\n",
    "    wires_dict['number_of_junctions'] = nj\n",
    "    wires_dict['xa'] = wires_dict['xa'][wires_dict['G'].nodes()] \n",
    "    wires_dict['ya'] = wires_dict['ya'][wires_dict['G'].nodes()] \n",
    "    wires_dict['xb'] = wires_dict['xb'][wires_dict['G'].nodes()] \n",
    "    wires_dict['yb'] = wires_dict['yb'][wires_dict['G'].nodes()]\n",
    "    wires_dict['xc'] = wires_dict['xc'][wires_dict['G'].nodes()] \n",
    "    wires_dict['yc'] = wires_dict['yc'][wires_dict['G'].nodes()]\n",
    " \n",
    "    # Keep old edge_list\n",
    "    old_edge_list = [(ii, kk) for ii, kk in  zip(wires_dict['edge_list'][:, 0], wires_dict['edge_list'][:, 1])]\n",
    "    # Remove old edge list\n",
    "    wires_dict = wires.remove_key(wires_dict, 'edge_list') \n",
    "    # Save indices of intersections in the old graph\n",
    "    ind_dict = {key:value for value,key in enumerate(old_edge_list)}\n",
    "    new_edge_list = sorted([kk if kk[0] < kk[1] else (kk[1], kk[0]) for kk in wires_dict['G'].edges()], key=lambda x: x[0])\n",
    "    # Find intersection between the two sets\n",
    "    inter = set(ind_dict).intersection(new_edge_list)\n",
    "    # Retrieve edge indices/positions from the old list\n",
    "    edges_idx = [ind_dict[idx] for idx in inter]\n",
    "       \n",
    "    # These have length equal to number of junctions -- only get the ones we need\n",
    "    wires_dict['xi'] = wires_dict['xi'][edges_idx] \n",
    "    wires_dict['yi'] = wires_dict['yi'][edges_idx] \n",
    "    \n",
    "    # Get contiguous numbering of nodes\n",
    "    # Build node mapping \n",
    "    node_mapping    = {key:value for value, key in enumerate(sorted(wires_dict['G'].nodes()))}\n",
    "    # This  step also renames edges list\n",
    "    wires_dict['G'] =  nx.relabel_nodes(wires_dict['G'] , node_mapping)\n",
    "\n",
    "    # Swap node vertices if vertex 0 is larger than vertex 1, then sort by first element\n",
    "    wires_dict['edge_list'] = np.asarray(sorted([kk if kk[0] < kk[1] else (kk[1], kk[0]) for kk in wires_dict['G'].edges()], key=lambda x: x[0]))\n",
    "    \n",
    "    # Save adjacency matrix of new graph\n",
    "    wires_dict = wires.remove_key(wires_dict, 'adj_matrix') \n",
    "    wires_dict = wires.generate_adj_matrix(wires_dict)\n",
    "\n",
    "    wire_distances = wires.cdist(np.array([wires_dict['xc'], wires_dict['yc']]).T, np.array([wires_dict['xc'], wires_dict['yc']]).T, metric='euclidean')    \n",
    "    wires_dict['wire_distances'] = wire_distances\n",
    "\n",
    "    return wires_dict "
   ]
  },
  {
   "cell_type": "code",
   "execution_count": 7,
   "metadata": {},
   "outputs": [
    {
     "name": "stdout",
     "output_type": "stream",
     "text": [
      "/import/silo2/aloe8475/Documents/CODE/Analysis/Functional Connectivity/Functional Tasks\n"
     ]
    }
   ],
   "source": [
    "cd \"/import/silo2/aloe8475/Documents/CODE/Analysis/Functional Connectivity/Functional Tasks/\""
   ]
  },
  {
   "cell_type": "code",
   "execution_count": 8,
   "metadata": {},
   "outputs": [],
   "source": [
    "data=loadmat('avgDegreeVals_allASN.mat')\n",
    "avgDeg=data['avgdeg'][0]\n",
    "\n",
    "numNodes=data['numNodes'][0]"
   ]
  },
  {
   "cell_type": "code",
   "execution_count": 9,
   "metadata": {},
   "outputs": [],
   "source": [
    "ResultSqu_Grid=[None]*len(avgDeg)\n",
    "ResultSqu_Random=[None]*len(avgDeg)"
   ]
  },
  {
   "cell_type": "code",
   "execution_count": 10,
   "metadata": {},
   "outputs": [],
   "source": [
    "# seed=[]\n",
    "# for i in range(len(avgDeg)):\n",
    "#     seed.append(np.random.randint(10000))"
   ]
  },
  {
   "cell_type": "code",
   "execution_count": 11,
   "metadata": {},
   "outputs": [],
   "source": [
    "#get seed from previous networks:\n",
    "name='WS_Allnetworks_LinearTransformation.pkl'\n",
    "file = open(name, 'rb')\n",
    "#     [ASN300,cluster1,cluster2,cluster3,time_index,nodesList] = pickle.load(file)\n",
    "#     [ASN300,cluster1,cluster2,cluster3] = pickle.load(file)\n",
    "[WS_Grid,WS_Random] = pickle.load(file)\n",
    "seed=[]\n",
    "for i in range(len(WS_Random)):\n",
    "    seed.append(WS_Random[i]['seed'])"
   ]
  },
  {
   "cell_type": "code",
   "execution_count": 12,
   "metadata": {},
   "outputs": [],
   "source": [
    "#create watts strogatz graphs:\n",
    "random=[]\n",
    "grid=[]\n",
    "temp=[]\n",
    "temp2=[]\n",
    "for i in range(len(avgDeg)):\n",
    "    k=int(np.round(avgDeg[i]))\n",
    "    temp2.append(nx.watts_strogatz_graph(numNodes[i],2*k,1,seed=seed[i]))\n",
    "    temp.append(nx.watts_strogatz_graph(numNodes[i],2*k,0,seed=seed[i]))\n",
    "    grid.append(max(connected_component_subgraphs(temp[i]), key=len))\n",
    "    random.append(max(connected_component_subgraphs(temp2[i]), key=len))"
   ]
  },
  {
   "cell_type": "code",
   "execution_count": 13,
   "metadata": {},
   "outputs": [
    {
     "data": {
      "application/vnd.jupyter.widget-view+json": {
       "model_id": "e68e3209973444f28ef26256c9355761",
       "version_major": 2,
       "version_minor": 0
      },
      "text/plain": [
       "HBox(children=(IntProgress(value=0, max=300), HTML(value='')))"
      ]
     },
     "metadata": {},
     "output_type": "display_data"
    },
    {
     "name": "stdout",
     "output_type": "stream",
     "text": [
      "\n"
     ]
    }
   ],
   "source": [
    "temp_rand=[]\n",
    "temp=[]\n",
    "shortestPath_Grid=[]\n",
    "shortestPath_Random=[]\n",
    "onAmp_Grid=[]\n",
    "onAmp_Random=[]\n",
    "\n",
    "for i in tqdm(range(len(avgDeg))):\n",
    "    temp_rand.append(getFarthestPairing(nx.adj_matrix(random[i]).todense()))\n",
    "    temp.append(getFarthestPairing(nx.adj_matrix(grid[i]).todense()))\n",
    "    shortestPath_Grid.append(nx.shortest_path_length(grid[i],temp[i][0],temp[i][1]))\n",
    "    shortestPath_Random.append(nx.shortest_path_length(random[i],temp_rand[i][0],temp_rand[i][1]))\n",
    "    onAmp_Grid.append(shortestPath_Grid[i]/5)\n",
    "    onAmp_Random.append(shortestPath_Random[i]/5)"
   ]
  },
  {
   "cell_type": "code",
   "execution_count": 14,
   "metadata": {},
   "outputs": [],
   "source": [
    "# seed[105]=np.random.randint(10000)"
   ]
  },
  {
   "cell_type": "code",
   "execution_count": 122,
   "metadata": {},
   "outputs": [],
   "source": [
    "WS_Grid=[None]*len(avgDeg)\n",
    "WS_Random=[None]*len(avgDeg)\n",
    "for i in range(len(avgDeg)):\n",
    "    WS_Grid[i]={'seed':[],'adj_matrix':[],'G':[],'Accuracy':{'Linear Transformation':[],'Mackey Glass':[],'MNIST':[]},'Graph Theory':{'Small World':[],'Modularity':[],'CCoeff':[],'MZ':[],'PCoeff':[],'PL':[]}}\n",
    "    WS_Random[i]={'seed':[],'adj_matrix':[],'G':[],'Accuracy':{'Linear Transformation':[],'Mackey Glass':[],'MNIST':[]},'Graph Theory':{'Small World':[],'Modularity':[],'CCoeff':[],'MZ':[],'PCoeff':[],'PL':[]}}"
   ]
  },
  {
   "cell_type": "code",
   "execution_count": 123,
   "metadata": {},
   "outputs": [
    {
     "data": {
      "application/vnd.jupyter.widget-view+json": {
       "model_id": "83528ef60a994ff99380fb832e7dc6f4",
       "version_major": 2,
       "version_minor": 0
      },
      "text/plain": [
       "HBox(children=(IntProgress(value=0, max=300), HTML(value='')))"
      ]
     },
     "metadata": {},
     "output_type": "display_data"
    },
    {
     "data": {
      "application/vnd.jupyter.widget-view+json": {
       "model_id": "a42515042d00494a8b7eba775291b0b6",
       "version_major": 2,
       "version_minor": 0
      },
      "text/plain": [
       "HBox(children=(IntProgress(value=0, max=300), HTML(value='')))"
      ]
     },
     "metadata": {},
     "output_type": "display_data"
    },
    {
     "name": "stdout",
     "output_type": "stream",
     "text": [
      "Saving WS\n"
     ]
    }
   ],
   "source": [
    "# WS:\n",
    "for i in tqdm(range(len(WS_Grid))):\n",
    "    WS_Grid[i]['seed']=seed[i]\n",
    "for i in tqdm(range(len(WS_Random))):\n",
    "    WS_Random[i]['seed']=seed[i]\n",
    "name='WS_Allnetworks_LinearTransformation.pkl'\n",
    "print('Saving WS')\n",
    "with open(name, 'wb') as f:\n",
    "    pickle.dump([WS_Grid,WS_Random], f)   "
   ]
  },
  {
   "cell_type": "code",
   "execution_count": 79,
   "metadata": {},
   "outputs": [],
   "source": [
    "def WS_Run(grid,random,onAmp_Grid,onAmp_Random,nodesList,WS_Grid,WS_Random,i):\n",
    "    stimulus=[[],[]]\n",
    "    stimulus_Rand=[[],[]]\n",
    "    dt = 1e-2\n",
    "    f=0.5\n",
    "    Time=5\n",
    "    stimulus[0]=(stimulus__(biasType='AC',onAmp=onAmp_Grid[i],TimeVector=np.arange(0,Time,dt),f=f))\n",
    "    stimulus[1]=(stimulus__(biasType='Drain',TimeVector=np.arange(0,Time,dt))) #we don't want this drain to be active during training\n",
    "\n",
    "    stimulus_Rand[0]=(stimulus__(biasType='AC',onAmp=onAmp_Random[i],TimeVector=np.arange(0,Time,dt),f=f))\n",
    "    stimulus_Rand[1]=(stimulus__(biasType='Drain',TimeVector=np.arange(0,Time,dt))) #we don't want this drain to be active during training\n",
    "    stimulus2 = [item for item in stimulus] #go through each list in the list and find the ith item\n",
    "    stimulus2_Rand=[item for item in stimulus_Rand]\n",
    "\n",
    "    results_grid=(runSim(connectivity__(graph=grid[i]),stimulus=stimulus2, contactMode='farthest', T = Time, dt = dt, onAmp = onAmp_Grid[i], biasType='AC',f=f,junctionMode='tunneling'))\n",
    "    results_rand=(runSim(connectivity__(graph=random[i]),stimulus=stimulus2_Rand, contactMode='farthest', T = Time, dt = dt, onAmp = onAmp_Random[i], biasType='AC',f=f,junctionMode='tunneling'))\n",
    "#     period=1/f\n",
    "    \n",
    "    nwSqu_Random=[None]*len(nodesList[1][i])\n",
    "    nwSqu_Grid=[None]*len(nodesList[0][i])\n",
    "    countk=0\n",
    "    for k in nodesList[1][i]: #loop through sets of nodes for regression\n",
    "        print('Running Random Network Regression: ' + str(k) + ' nodes')\n",
    "        ResultSqu_Random=[]\n",
    "        ResultSqu_Random = nonLinearTrans(results_rand,'Square',k, repeats=50) #simulation, type of signal, number of nodes to sample from, number of linear regression repetitions (take avg)\n",
    "        nwSqu_Random[countk]=(ResultSqu_Random['accuracy'])\n",
    "        countk=countk+1\n",
    "        if k == nodesList[1][i][-1]: #if k is equal to the largest node sampling\n",
    "            WS_Random[i]['Accuracy']['Linear Transformation']=[]\n",
    "            WS_Random[i]['Accuracy']['Linear Transformation'].append(nwSqu_Random)\n",
    "#             print(WS_Random[i]['Accuracy']['Linear Transformation'])\n",
    "        else:\n",
    "            WS_Random[i]['Accuracy']['Linear Transformation']=[None]\n",
    "    countk=0\n",
    "    for k in nodesList[0][i]:     \n",
    "        print('Running Grid Network Regression: ' + str(k) + ' nodes')\n",
    "        ResultSqu_Grid=[]\n",
    "        ResultSqu_Grid = nonLinearTrans(results_grid,'Square',k, repeats=50) #simulation, type of signal, number of nodes to sample from, number of linear regression repetitions (take avg)\n",
    "        nwSqu_Grid[countk]=(ResultSqu_Grid['accuracy'])\n",
    "        countk=countk+1\n",
    "        if k == nodesList[0][i][-1]: #if k is equal to the largest node sampling\n",
    "            WS_Grid[i]['Accuracy']['Linear Transformation']=[]\n",
    "            WS_Grid[i]['Accuracy']['Linear Transformation'].append(nwSqu_Grid)\n",
    "#             print(WS_Grid[i]['Accuracy']['Linear Transformation'])\n",
    "        else:\n",
    "            WS_Grid[i]['Accuracy']['Linear Transformation']=[None]\n",
    "    \n",
    "    accGrid=nwSqu_Grid\n",
    "    accRandom=nwSqu_Grid\n",
    "    return accGrid,accRandom,WS_Grid,WS_Random"
   ]
  },
  {
   "cell_type": "code",
   "execution_count": 80,
   "metadata": {},
   "outputs": [
    {
     "data": {
      "application/vnd.jupyter.widget-view+json": {
       "model_id": "8633a88332ec463aaeeee8e28930519f",
       "version_major": 2,
       "version_minor": 0
      },
      "text/plain": [
       "HBox(children=(IntProgress(value=0, max=300), HTML(value='')))"
      ]
     },
     "metadata": {},
     "output_type": "display_data"
    }
   ],
   "source": [
    "nodesList=[[None]*len(avgDeg) for i in range(2)]\n",
    "for i in tqdm(range(len(avgDeg))):\n",
    "    for j in range(2): #grid, random\n",
    "        if j == 0:\n",
    "            if len(grid[i]) >= 250:\n",
    "                nodesList[j][i]=[50,100,150,200,250,len(grid[i])]#range(50, len(ws300[i][0])+1,50)\n",
    "            elif len(grid[i]) >= 200 and len(grid[i]) < 250:\n",
    "                nodesList[j][i]=[50,100,150,200,len(grid[i])]#range(50, len(ws300[i][0])+1,50)  \n",
    "            elif len(grid[i]) >= 150 and len(grid[i]) < 200:\n",
    "                nodesList[j][i]=[50,100,150,len(grid[i])]#range(50, len(ws300[i][0])+1,50)  \n",
    "            elif len(grid[i]) >= 100 and len(grid[i]) < 150:\n",
    "                nodesList[j][i]=[50,100,len(grid[i])]#range(50, len(ws300[i][0])+1,50)\n",
    "        else:\n",
    "            if len(random[i]) >= 250:\n",
    "                nodesList[j][i]=[50,100,150,200,250,len(random[i])]#range(50, len(ws300[i][0])+1,50)\n",
    "            elif len(random[i]) >= 200 and len(random[i]) < 250:\n",
    "                nodesList[j][i]=[50,100,150,200,len(random[i])]#range(50, len(ws300[i][0])+1,50)  \n",
    "            elif len(random[i]) >= 150 and len(random[i]) < 200:\n",
    "                nodesList[j][i]=[50,100,150,len(random[i])]#range(50, len(ws300[i][0])+1,50)  \n",
    "            elif len(random[i]) >= 100 and len(random[i]) < 150:\n",
    "                nodesList[j][i]=[50,100,len(random[i])]#range(50, len(ws300[i][0])+1,50)"
   ]
  },
  {
   "cell_type": "code",
   "execution_count": 81,
   "metadata": {},
   "outputs": [],
   "source": [
    "# results_grid=[]\n",
    "# results_rand=[]\n",
    "init=[]\n",
    "for i in range(len(avgDeg)):\n",
    "   init.append(inputPacker(WS_Run,grid,random,onAmp_Grid,onAmp_Random,nodesList,WS_Grid,WS_Random,i))"
   ]
  },
  {
   "cell_type": "code",
   "execution_count": 82,
   "metadata": {
    "scrolled": true
   },
   "outputs": [
    {
     "data": {
      "application/vnd.jupyter.widget-view+json": {
       "model_id": "68397ca787924d51b5928feb2d41458e",
       "version_major": 2,
       "version_minor": 0
      },
      "text/plain": [
       "HBox(children=(IntProgress(value=0, max=300), HTML(value='')))"
      ]
     },
     "metadata": {},
     "output_type": "display_data"
    },
    {
     "name": "stderr",
     "output_type": "stream",
     "text": [
      "2020-05-22 13:28:51,151:INFO:First current path [0, 290, 281, 272, 263, 254, 245, 236, 227, 218, 209, 200, 191, 182, 173, 164, 155, 146] formed at time = 0.75 s.\n"
     ]
    },
    {
     "data": {
      "application/vnd.jupyter.widget-view+json": {
       "model_id": "70c3e4b538be497895db8ba347ef903a",
       "version_major": 2,
       "version_minor": 0
      },
      "text/plain": [
       "HBox(children=(IntProgress(value=0, description='Running Simulation ', max=500, style=ProgressStyle(descriptio…"
      ]
     },
     "metadata": {},
     "output_type": "display_data"
    },
    {
     "name": "stderr",
     "output_type": "stream",
     "text": [
      "2020-05-22 13:28:52,672:INFO:First current path [0, 7, 21, 35, 49, 63, 77, 91, 105, 118, 131, 142] formed at time = 0.76 s.\n",
      "2020-05-22 13:28:52,820:INFO:First current path [0, 23, 48, 16] formed at time = 0.75 s.\n"
     ]
    },
    {
     "name": "stdout",
     "output_type": "stream",
     "text": [
      "Running Random Network Regression: 50 nodes\n"
     ]
    },
    {
     "data": {
      "application/vnd.jupyter.widget-view+json": {
       "model_id": "82a0ed749324456e9924e860f70de196",
       "version_major": 2,
       "version_minor": 0
      },
      "text/plain": [
       "HBox(children=(IntProgress(value=0, description='Running Simulation ', max=500, style=ProgressStyle(descriptio…"
      ]
     },
     "metadata": {},
     "output_type": "display_data"
    },
    {
     "name": "stdout",
     "output_type": "stream",
     "text": [
      "Running Random Network Regression: 100 nodes\n",
      "Running Random Network Regression: 150 nodes\n"
     ]
    },
    {
     "name": "stderr",
     "output_type": "stream",
     "text": [
      "2020-05-22 13:28:53,355:INFO:First current path [0, 281, 261, 241, 221, 201, 181, 161, 142] formed at time = 0.75 s.\n"
     ]
    },
    {
     "name": "stdout",
     "output_type": "stream",
     "text": [
      "Running Random Network Regression: 200 nodes\n"
     ]
    },
    {
     "data": {
      "application/vnd.jupyter.widget-view+json": {
       "model_id": "7e59f2c170cb4fbb869acf4734cc6843",
       "version_major": 2,
       "version_minor": 0
      },
      "text/plain": [
       "HBox(children=(IntProgress(value=0, description='Running Simulation ', max=500, style=ProgressStyle(descriptio…"
      ]
     },
     "metadata": {},
     "output_type": "display_data"
    },
    {
     "name": "stdout",
     "output_type": "stream",
     "text": [
      "Running Random Network Regression: 250 nodes\n"
     ]
    },
    {
     "name": "stderr",
     "output_type": "stream",
     "text": [
      "2020-05-22 13:28:54,349:INFO:First current path [0, 10, 33, 56, 78, 100, 122, 140] formed at time = 0.76 s.\n",
      "2020-05-22 13:28:54,386:INFO:First current path [0, 44, 133, 18] formed at time = 0.75 s.\n"
     ]
    },
    {
     "name": "stdout",
     "output_type": "stream",
     "text": [
      "Running Random Network Regression: 50 nodes\n",
      "Running Random Network Regression: 100 nodes\n"
     ]
    },
    {
     "data": {
      "application/vnd.jupyter.widget-view+json": {
       "model_id": "956611055418449394c43d65f21eaf62",
       "version_major": 2,
       "version_minor": 0
      },
      "text/plain": [
       "HBox(children=(IntProgress(value=0, description='Running Simulation ', max=500, style=ProgressStyle(descriptio…"
      ]
     },
     "metadata": {},
     "output_type": "display_data"
    },
    {
     "name": "stdout",
     "output_type": "stream",
     "text": [
      "Running Random Network Regression: 150 nodes\n",
      "Running Random Network Regression: 299 nodes\n",
      "Running Random Network Regression: 200 nodes\n"
     ]
    },
    {
     "name": "stderr",
     "output_type": "stream",
     "text": [
      "2020-05-22 13:28:55,261:INFO:First current path [1, 53, 57, 207] formed at time = 0.76 s.\n"
     ]
    },
    {
     "name": "stdout",
     "output_type": "stream",
     "text": [
      "Running Random Network Regression: 50 nodes\n",
      "Running Random Network Regression: 100 nodes\n",
      "Running Random Network Regression: 150 nodes\n",
      "Running Random Network Regression: 250 nodes\n",
      "Running Random Network Regression: 200 nodes\n",
      "Running Grid Network Regression: 50 nodes\n",
      "Running Grid Network Regression: 100 nodes\n"
     ]
    },
    {
     "name": "stderr",
     "output_type": "stream",
     "text": [
      "2020-05-22 13:28:56,148:INFO:First current path [0, 16, 48, 80, 112, 130] formed at time = 0.77 s.\n"
     ]
    },
    {
     "name": "stdout",
     "output_type": "stream",
     "text": [
      "Running Grid Network Regression: 150 nodes\n"
     ]
    },
    {
     "name": "stderr",
     "output_type": "stream",
     "text": [
      "2020-05-22 13:28:56,348:INFO:First current path [10, 86, 193, 153] formed at time = 0.76 s.\n"
     ]
    },
    {
     "name": "stdout",
     "output_type": "stream",
     "text": [
      "Running Random Network Regression: 50 nodes\n"
     ]
    },
    {
     "data": {
      "application/vnd.jupyter.widget-view+json": {
       "model_id": "0b3152f7092e413dab168a3b33e38d97",
       "version_major": 2,
       "version_minor": 0
      },
      "text/plain": [
       "HBox(children=(IntProgress(value=0, description='Running Simulation ', max=500, style=ProgressStyle(descriptio…"
      ]
     },
     "metadata": {},
     "output_type": "display_data"
    },
    {
     "name": "stdout",
     "output_type": "stream",
     "text": [
      "Running Random Network Regression: 250 nodes\n",
      "Running Random Network Regression: 300 nodes\n",
      "Running Random Network Regression: 100 nodes\n",
      "Running Grid Network Regression: 200 nodes\n",
      "Running Random Network Regression: 150 nodes\n",
      "Running Random Network Regression: 200 nodes\n",
      "Running Grid Network Regression: 250 nodes\n"
     ]
    },
    {
     "name": "stderr",
     "output_type": "stream",
     "text": [
      "2020-05-22 13:28:57,180:INFO:First current path [0, 7, 44, 80, 115, 150] formed at time = 0.78 s.\n"
     ]
    },
    {
     "name": "stdout",
     "output_type": "stream",
     "text": [
      "Running Random Network Regression: 300 nodes\n"
     ]
    },
    {
     "data": {
      "application/vnd.jupyter.widget-view+json": {
       "model_id": "47bb30d00ec9483ca60160dd21d1c347",
       "version_major": 2,
       "version_minor": 0
      },
      "text/plain": [
       "HBox(children=(IntProgress(value=0, description='Running Simulation ', max=500, style=ProgressStyle(descriptio…"
      ]
     },
     "metadata": {},
     "output_type": "display_data"
    },
    {
     "name": "stdout",
     "output_type": "stream",
     "text": [
      "Running Random Network Regression: 250 nodes\n",
      "Running Grid Network Regression: 50 nodes\n",
      "Running Grid Network Regression: 100 nodes\n",
      "Running Grid Network Regression: 150 nodes\n",
      "Running Grid Network Regression: 299 nodes\n"
     ]
    },
    {
     "name": "stderr",
     "output_type": "stream",
     "text": [
      "2020-05-22 13:28:58,149:INFO:First current path [0, 62, 2] formed at time = 0.75 s.\n"
     ]
    },
    {
     "name": "stdout",
     "output_type": "stream",
     "text": [
      "Running Random Network Regression: 50 nodes\n",
      "Running Random Network Regression: 100 nodes\n",
      "Running Grid Network Regression: 200 nodes\n",
      "Running Random Network Regression: 300 nodes\n",
      "Running Random Network Regression: 150 nodes\n",
      "Running Grid Network Regression: 50 nodes\n",
      "Running Grid Network Regression: 100 nodes\n",
      "Running Grid Network Regression: 150 nodes\n",
      "Running Random Network Regression: 200 nodes\n"
     ]
    },
    {
     "name": "stderr",
     "output_type": "stream",
     "text": [
      "2020-05-22 13:28:58,797:INFO:First current path [0, 261, 217, 173, 134] formed at time = 0.76 s.\n"
     ]
    },
    {
     "name": "stdout",
     "output_type": "stream",
     "text": [
      "Running Grid Network Regression: 250 nodes\n",
      "Running Grid Network Regression: 200 nodes\n"
     ]
    },
    {
     "data": {
      "application/vnd.jupyter.widget-view+json": {
       "model_id": "48a2ca4e75a442e5abc9a6fb55f01b21",
       "version_major": 2,
       "version_minor": 0
      },
      "text/plain": [
       "HBox(children=(IntProgress(value=0, description='Running Simulation ', max=500, style=ProgressStyle(descriptio…"
      ]
     },
     "metadata": {},
     "output_type": "display_data"
    },
    {
     "name": "stdout",
     "output_type": "stream",
     "text": [
      "Running Random Network Regression: 250 nodes\n"
     ]
    },
    {
     "name": "stderr",
     "output_type": "stream",
     "text": [
      "2020-05-22 13:28:59,253:INFO:First current path [0, 5, 2] formed at time = 0.75 s.\n"
     ]
    },
    {
     "name": "stdout",
     "output_type": "stream",
     "text": [
      "Running Random Network Regression: 50 nodes\n",
      "Running Random Network Regression: 100 nodes\n",
      "Running Grid Network Regression: 50 nodes\n",
      "Running Random Network Regression: 150 nodes\n",
      "Running Grid Network Regression: 100 nodes\n",
      "Running Grid Network Regression: 250 nodes\n",
      "Running Grid Network Regression: 300 nodes\n",
      "Running Grid Network Regression: 150 nodes\n"
     ]
    },
    {
     "name": "stderr",
     "output_type": "stream",
     "text": [
      "2020-05-22 13:28:59,789:INFO:First current path [0, 2, 54, 106] formed at time = 0.78 s.\n"
     ]
    },
    {
     "name": "stdout",
     "output_type": "stream",
     "text": [
      "Running Random Network Regression: 200 nodes\n",
      "Running Random Network Regression: 300 nodes\n",
      "Running Grid Network Regression: 200 nodes\n"
     ]
    },
    {
     "data": {
      "application/vnd.jupyter.widget-view+json": {
       "model_id": "ef966023317149899adafbe1a4c5915e",
       "version_major": 2,
       "version_minor": 0
      },
      "text/plain": [
       "HBox(children=(IntProgress(value=0, description='Running Simulation ', max=500, style=ProgressStyle(descriptio…"
      ]
     },
     "metadata": {},
     "output_type": "display_data"
    },
    {
     "name": "stdout",
     "output_type": "stream",
     "text": [
      "Running Random Network Regression: 250 nodes\n",
      "Running Grid Network Regression: 300 nodes\n"
     ]
    },
    {
     "name": "stderr",
     "output_type": "stream",
     "text": [
      "2020-05-22 13:29:00,600:INFO:First current path [0, 2, 58, 114] formed at time = 0.78 s.\n"
     ]
    },
    {
     "name": "stdout",
     "output_type": "stream",
     "text": [
      "Running Grid Network Regression: 250 nodes\n"
     ]
    },
    {
     "name": "stderr",
     "output_type": "stream",
     "text": [
      "2020-05-22 13:29:00,955:INFO:First current path [0, 20, 3] formed at time = 0.75 s.\n"
     ]
    },
    {
     "name": "stdout",
     "output_type": "stream",
     "text": [
      "Running Random Network Regression: 50 nodes\n"
     ]
    },
    {
     "data": {
      "application/vnd.jupyter.widget-view+json": {
       "model_id": "94fa8268391d40a1b9ecb19fae952beb",
       "version_major": 2,
       "version_minor": 0
      },
      "text/plain": [
       "HBox(children=(IntProgress(value=0, description='Running Simulation ', max=500, style=ProgressStyle(descriptio…"
      ]
     },
     "metadata": {},
     "output_type": "display_data"
    },
    {
     "name": "stdout",
     "output_type": "stream",
     "text": [
      "Running Random Network Regression: 100 nodes\n",
      "Running Random Network Regression: 300 nodes\n",
      "Running Grid Network Regression: 50 nodes\n",
      "Running Grid Network Regression: 100 nodes\n",
      "Running Random Network Regression: 150 nodes\n",
      "Running Grid Network Regression: 150 nodes\n",
      "Running Grid Network Regression: 300 nodes\n",
      "Running Random Network Regression: 200 nodes\n",
      "Running Grid Network Regression: 200 nodes\n",
      "Running Random Network Regression: 250 nodes\n",
      "Running Grid Network Regression: 50 nodes\n",
      "Running Grid Network Regression: 100 nodes\n"
     ]
    },
    {
     "name": "stderr",
     "output_type": "stream",
     "text": [
      "2020-05-22 13:29:02,184:INFO:First current path [0, 235, 170, 132] formed at time = 0.77 s.\n",
      "2020-05-22 13:29:02,188:INFO:First current path [0, 7, 3] formed at time = 0.75 s.\n"
     ]
    },
    {
     "name": "stdout",
     "output_type": "stream",
     "text": [
      "Running Random Network Regression: 50 nodes\n",
      "Running Grid Network Regression: 250 nodes\n",
      "Running Random Network Regression: 100 nodes\n",
      "Running Grid Network Regression: 150 nodes\n",
      "Running Random Network Regression: 150 nodes\n"
     ]
    },
    {
     "data": {
      "application/vnd.jupyter.widget-view+json": {
       "model_id": "725d03e9511248618284ffdce423e066",
       "version_major": 2,
       "version_minor": 0
      },
      "text/plain": [
       "HBox(children=(IntProgress(value=0, description='Running Simulation ', max=500, style=ProgressStyle(descriptio…"
      ]
     },
     "metadata": {},
     "output_type": "display_data"
    },
    {
     "name": "stdout",
     "output_type": "stream",
     "text": [
      "Running Grid Network Regression: 200 nodes\n"
     ]
    },
    {
     "name": "stderr",
     "output_type": "stream",
     "text": [
      "2020-05-22 13:29:02,696:INFO:First current path [0, 4, 11, 18, 25, 32, 39, 46, 53, 60, 67, 74, 81, 88, 95, 102, 109, 116, 123, 130, 137, 144, 149] formed at time = 0.76 s.\n"
     ]
    },
    {
     "name": "stdout",
     "output_type": "stream",
     "text": [
      "Running Random Network Regression: 300 nodes\n",
      "Running Random Network Regression: 200 nodes\n"
     ]
    },
    {
     "data": {
      "application/vnd.jupyter.widget-view+json": {
       "model_id": "50f419524a5342b98a070565060fdd7d",
       "version_major": 2,
       "version_minor": 0
      },
      "text/plain": [
       "HBox(children=(IntProgress(value=0, description='Running Simulation ', max=500, style=ProgressStyle(descriptio…"
      ]
     },
     "metadata": {},
     "output_type": "display_data"
    },
    {
     "name": "stderr",
     "output_type": "stream",
     "text": [
      "2020-05-22 13:29:02,998:INFO:First current path [0, 1, 3] formed at time = 0.75 s.\n"
     ]
    },
    {
     "name": "stdout",
     "output_type": "stream",
     "text": [
      "Running Random Network Regression: 50 nodes\n",
      "Running Grid Network Regression: 300 nodes\n",
      "Running Random Network Regression: 100 nodes\n",
      "Running Grid Network Regression: 250 nodes\n",
      "Running Random Network Regression: 250 nodes\n",
      "Running Random Network Regression: 150 nodes\n",
      "Running Random Network Regression: 200 nodes\n",
      "Running Grid Network Regression: 50 nodes\n",
      "Running Grid Network Regression: 300 nodes\n",
      "Running Grid Network Regression: 100 nodes\n",
      "Running Random Network Regression: 300 nodes\n",
      "Running Random Network Regression: 250 nodes\n",
      "Running Grid Network Regression: 150 nodes\n"
     ]
    },
    {
     "data": {
      "application/vnd.jupyter.widget-view+json": {
       "model_id": "f6ecc0220554486abd77fc961ea27ba5",
       "version_major": 2,
       "version_minor": 0
      },
      "text/plain": [
       "HBox(children=(IntProgress(value=0, description='Running Simulation ', max=500, style=ProgressStyle(descriptio…"
      ]
     },
     "metadata": {},
     "output_type": "display_data"
    },
    {
     "name": "stderr",
     "output_type": "stream",
     "text": [
      "2020-05-22 13:29:04,255:INFO:First current path [11, 79, 132, 122, 177] formed at time = 0.76 s.\n"
     ]
    },
    {
     "name": "stdout",
     "output_type": "stream",
     "text": [
      "Running Random Network Regression: 50 nodes\n"
     ]
    },
    {
     "name": "stderr",
     "output_type": "stream",
     "text": [
      "2020-05-22 13:29:04,292:INFO:First current path [0, 6, 16, 26, 36, 46, 56, 66, 76, 86, 96, 106, 116, 126, 136, 142] formed at time = 0.76 s.\n"
     ]
    },
    {
     "name": "stdout",
     "output_type": "stream",
     "text": [
      "Running Random Network Regression: 100 nodes\n",
      "Running Grid Network Regression: 200 nodes\n"
     ]
    },
    {
     "data": {
      "application/vnd.jupyter.widget-view+json": {
       "model_id": "6bbf8ead7ec14b7e8e2dae05b0d3a32f",
       "version_major": 2,
       "version_minor": 0
      },
      "text/plain": [
       "HBox(children=(IntProgress(value=0, description='Running Simulation ', max=500, style=ProgressStyle(descriptio…"
      ]
     },
     "metadata": {},
     "output_type": "display_data"
    },
    {
     "name": "stdout",
     "output_type": "stream",
     "text": [
      "Running Random Network Regression: 150 nodes\n"
     ]
    },
    {
     "name": "stderr",
     "output_type": "stream",
     "text": [
      "2020-05-22 13:29:04,795:INFO:First current path [0, 6, 2] formed at time = 0.75 s.\n"
     ]
    },
    {
     "name": "stdout",
     "output_type": "stream",
     "text": [
      "Running Random Network Regression: 50 nodes\n",
      "Running Random Network Regression: 300 nodes\n",
      "Running Random Network Regression: 100 nodes\n",
      "Running Random Network Regression: 200 nodes\n",
      "Running Grid Network Regression: 250 nodes\n",
      "Running Random Network Regression: 150 nodes\n",
      "Running Grid Network Regression: 50 nodes\n",
      "Running Grid Network Regression: 100 nodes\n",
      "Running Grid Network Regression: 150 nodes\n",
      "Running Random Network Regression: 200 nodes\n",
      "Running Random Network Regression: 250 nodes\n",
      "Running Grid Network Regression: 200 nodes\n"
     ]
    },
    {
     "name": "stderr",
     "output_type": "stream",
     "text": [
      "2020-05-22 13:29:05,700:INFO:First current path [0, 7, 22, 37, 52, 67, 82, 96, 110, 124, 137] formed at time = 0.76 s.\n"
     ]
    },
    {
     "name": "stdout",
     "output_type": "stream",
     "text": [
      "Running Grid Network Regression: 300 nodes\n"
     ]
    },
    {
     "data": {
      "application/vnd.jupyter.widget-view+json": {
       "model_id": "e23058aa004b4174b2426d3b15393a35",
       "version_major": 2,
       "version_minor": 0
      },
      "text/plain": [
       "HBox(children=(IntProgress(value=0, description='Running Simulation ', max=500, style=ProgressStyle(descriptio…"
      ]
     },
     "metadata": {},
     "output_type": "display_data"
    },
    {
     "name": "stdout",
     "output_type": "stream",
     "text": [
      "Running Random Network Regression: 250 nodes\n"
     ]
    },
    {
     "data": {
      "application/vnd.jupyter.widget-view+json": {
       "model_id": "dce9c766941645efb8a6d3ff3fab7fd0",
       "version_major": 2,
       "version_minor": 0
      },
      "text/plain": [
       "HBox(children=(IntProgress(value=0, description='Running Simulation ', max=500, style=ProgressStyle(descriptio…"
      ]
     },
     "metadata": {},
     "output_type": "display_data"
    },
    {
     "name": "stdout",
     "output_type": "stream",
     "text": [
      "Running Grid Network Regression: 50 nodes\n"
     ]
    },
    {
     "name": "stderr",
     "output_type": "stream",
     "text": [
      "2020-05-22 13:29:05,920:INFO:First current path [0, 23, 162, 8] formed at time = 0.75 s.\n"
     ]
    },
    {
     "name": "stdout",
     "output_type": "stream",
     "text": [
      "Running Random Network Regression: 50 nodes\n",
      "Running Grid Network Regression: 100 nodes\n",
      "Running Random Network Regression: 100 nodes\n",
      "Running Grid Network Regression: 150 nodes\n",
      "Running Grid Network Regression: 250 nodes\n",
      "Running Random Network Regression: 150 nodes\n",
      "Running Random Network Regression: 298 nodes\n",
      "Running Grid Network Regression: 200 nodes\n",
      "Running Random Network Regression: 200 nodes\n"
     ]
    },
    {
     "data": {
      "application/vnd.jupyter.widget-view+json": {
       "model_id": "b0196c50809041288df2dc2b3f8e1f58",
       "version_major": 2,
       "version_minor": 0
      },
      "text/plain": [
       "HBox(children=(IntProgress(value=0, description='Running Simulation ', max=500, style=ProgressStyle(descriptio…"
      ]
     },
     "metadata": {},
     "output_type": "display_data"
    },
    {
     "name": "stdout",
     "output_type": "stream",
     "text": [
      "Running Random Network Regression: 300 nodes\n",
      "Running Grid Network Regression: 300 nodes\n",
      "Running Grid Network Regression: 250 nodes\n",
      "Running Random Network Regression: 250 nodes\n"
     ]
    },
    {
     "name": "stderr",
     "output_type": "stream",
     "text": [
      "2020-05-22 13:29:07,327:INFO:First current path [0, 9, 28, 47, 65, 83, 101, 119, 135] formed at time = 0.76 s.\n"
     ]
    },
    {
     "name": "stdout",
     "output_type": "stream",
     "text": [
      "Running Grid Network Regression: 50 nodes\n"
     ]
    },
    {
     "name": "stderr",
     "output_type": "stream",
     "text": [
      "2020-05-22 13:29:07,509:INFO:First current path [0, 27, 154, 40] formed at time = 0.75 s.\n"
     ]
    },
    {
     "name": "stdout",
     "output_type": "stream",
     "text": [
      "Running Random Network Regression: 50 nodes\n",
      "Running Grid Network Regression: 100 nodes\n"
     ]
    },
    {
     "data": {
      "application/vnd.jupyter.widget-view+json": {
       "model_id": "c61b8a47ee4b485ab4fb79fec3ed5381",
       "version_major": 2,
       "version_minor": 0
      },
      "text/plain": [
       "HBox(children=(IntProgress(value=0, description='Running Simulation ', max=500, style=ProgressStyle(descriptio…"
      ]
     },
     "metadata": {},
     "output_type": "display_data"
    },
    {
     "name": "stdout",
     "output_type": "stream",
     "text": [
      "Running Random Network Regression: 100 nodes\n",
      "Running Grid Network Regression: 150 nodes\n",
      "Running Grid Network Regression: 50 nodes\n",
      "Running Grid Network Regression: 300 nodes\n",
      "Running Random Network Regression: 150 nodes\n",
      "Running Grid Network Regression: 100 nodes\n",
      "Running Random Network Regression: 300 nodes\n",
      "Running Grid Network Regression: 150 nodes\n",
      "Running Grid Network Regression: 200 nodes\n",
      "Running Random Network Regression: 200 nodes\n"
     ]
    },
    {
     "name": "stderr",
     "output_type": "stream",
     "text": [
      "2020-05-22 13:29:08,195:INFO:First current path [0, 10, 33, 56, 78, 100, 122, 140] formed at time = 0.76 s.\n"
     ]
    },
    {
     "name": "stdout",
     "output_type": "stream",
     "text": [
      "Running Grid Network Regression: 200 nodes\n"
     ]
    },
    {
     "data": {
      "application/vnd.jupyter.widget-view+json": {
       "model_id": "9e83945f3d034ef78c61e5864c082638",
       "version_major": 2,
       "version_minor": 0
      },
      "text/plain": [
       "HBox(children=(IntProgress(value=0, description='Running Simulation ', max=500, style=ProgressStyle(descriptio…"
      ]
     },
     "metadata": {},
     "output_type": "display_data"
    },
    {
     "name": "stdout",
     "output_type": "stream",
     "text": [
      "Running Grid Network Regression: 250 nodes\n",
      "Running Random Network Regression: 250 nodes\n",
      "Running Grid Network Regression: 250 nodes\n"
     ]
    },
    {
     "data": {
      "application/vnd.jupyter.widget-view+json": {
       "model_id": "56837f263d654be596b412f18633938a",
       "version_major": 2,
       "version_minor": 0
      },
      "text/plain": [
       "HBox(children=(IntProgress(value=0, description='Running Simulation ', max=500, style=ProgressStyle(descriptio…"
      ]
     },
     "metadata": {},
     "output_type": "display_data"
    },
    {
     "name": "stdout",
     "output_type": "stream",
     "text": [
      "Running Grid Network Regression: 50 nodes\n",
      "Running Grid Network Regression: 100 nodes\n"
     ]
    },
    {
     "name": "stderr",
     "output_type": "stream",
     "text": [
      "2020-05-22 13:29:09,182:INFO:First current path [1, 102, 174, 146] formed at time = 0.75 s.\n"
     ]
    },
    {
     "name": "stdout",
     "output_type": "stream",
     "text": [
      "Running Random Network Regression: 50 nodes\n",
      "Running Random Network Regression: 100 nodes\n",
      "Running Grid Network Regression: 298 nodes\n",
      "Running Grid Network Regression: 150 nodes\n",
      "Running Random Network Regression: 150 nodes\n",
      "Running Random Network Regression: 300 nodes\n",
      "Running Grid Network Regression: 300 nodes\n",
      "Running Grid Network Regression: 200 nodes\n",
      "Running Random Network Regression: 200 nodes\n"
     ]
    },
    {
     "data": {
      "application/vnd.jupyter.widget-view+json": {
       "model_id": "af4aa48c485d407c889e9033060fd99e",
       "version_major": 2,
       "version_minor": 0
      },
      "text/plain": [
       "HBox(children=(IntProgress(value=0, description='Running Simulation ', max=500, style=ProgressStyle(descriptio…"
      ]
     },
     "metadata": {},
     "output_type": "display_data"
    },
    {
     "name": "stderr",
     "output_type": "stream",
     "text": [
      "2020-05-22 13:29:10,212:INFO:First current path [11, 151, 59, 287] formed at time = 0.77 s.\n"
     ]
    },
    {
     "name": "stdout",
     "output_type": "stream",
     "text": [
      "Running Random Network Regression: 50 nodes\n",
      "Running Grid Network Regression: 250 nodes\n",
      "Running Random Network Regression: 100 nodes\n",
      "Running Random Network Regression: 250 nodes\n"
     ]
    },
    {
     "name": "stderr",
     "output_type": "stream",
     "text": [
      "2020-05-22 13:29:10,470:INFO:First current path [0, 280, 251, 222, 193, 164, 147] formed at time = 0.76 s.\n"
     ]
    },
    {
     "name": "stdout",
     "output_type": "stream",
     "text": [
      "Running Random Network Regression: 150 nodes\n"
     ]
    },
    {
     "data": {
      "application/vnd.jupyter.widget-view+json": {
       "model_id": "36e55bf20c4c44fc9818ad6df4ed4a9f",
       "version_major": 2,
       "version_minor": 0
      },
      "text/plain": [
       "HBox(children=(IntProgress(value=0, description='Running Simulation ', max=500, style=ProgressStyle(descriptio…"
      ]
     },
     "metadata": {},
     "output_type": "display_data"
    },
    {
     "name": "stdout",
     "output_type": "stream",
     "text": [
      "Running Grid Network Regression: 50 nodes\n",
      "Running Random Network Regression: 200 nodes\n",
      "Running Grid Network Regression: 100 nodes\n",
      "Running Grid Network Regression: 150 nodes\n",
      "Running Grid Network Regression: 300 nodes\n",
      "Running Random Network Regression: 300 nodes\n",
      "Running Random Network Regression: 250 nodes\n",
      "Running Grid Network Regression: 200 nodes\n"
     ]
    },
    {
     "name": "stderr",
     "output_type": "stream",
     "text": [
      "2020-05-22 13:29:11,739:INFO:First current path [0, 266, 232, 197, 162, 142] formed at time = 0.77 s.\n"
     ]
    },
    {
     "data": {
      "application/vnd.jupyter.widget-view+json": {
       "model_id": "6212aea6b08f4e82874300dcf2f938fa",
       "version_major": 2,
       "version_minor": 0
      },
      "text/plain": [
       "HBox(children=(IntProgress(value=0, description='Running Simulation ', max=500, style=ProgressStyle(descriptio…"
      ]
     },
     "metadata": {},
     "output_type": "display_data"
    },
    {
     "name": "stdout",
     "output_type": "stream",
     "text": [
      "Running Grid Network Regression: 250 nodes\n",
      "Running Random Network Regression: 300 nodes\n"
     ]
    },
    {
     "name": "stderr",
     "output_type": "stream",
     "text": [
      "2020-05-22 13:29:12,373:INFO:First current path [0, 36, 2] formed at time = 0.75 s.\n"
     ]
    },
    {
     "name": "stdout",
     "output_type": "stream",
     "text": [
      "Running Random Network Regression: 50 nodes\n",
      "Running Grid Network Regression: 50 nodes\n",
      "Running Random Network Regression: 100 nodes\n",
      "Running Grid Network Regression: 100 nodes\n",
      "Running Random Network Regression: 150 nodes\n",
      "Running Grid Network Regression: 150 nodes\n"
     ]
    },
    {
     "data": {
      "application/vnd.jupyter.widget-view+json": {
       "model_id": "21eda5fbe159434cba5e39eb9ce7eef3",
       "version_major": 2,
       "version_minor": 0
      },
      "text/plain": [
       "HBox(children=(IntProgress(value=0, description='Running Simulation ', max=500, style=ProgressStyle(descriptio…"
      ]
     },
     "metadata": {},
     "output_type": "display_data"
    },
    {
     "name": "stdout",
     "output_type": "stream",
     "text": [
      "Running Grid Network Regression: 300 nodes\n",
      "Running Random Network Regression: 200 nodes\n",
      "Running Grid Network Regression: 200 nodes\n"
     ]
    },
    {
     "data": {
      "application/vnd.jupyter.widget-view+json": {
       "model_id": "44997dd158dc45b8b7274ff1ef287a45",
       "version_major": 2,
       "version_minor": 0
      },
      "text/plain": [
       "HBox(children=(IntProgress(value=0, description='Running Simulation ', max=500, style=ProgressStyle(descriptio…"
      ]
     },
     "metadata": {},
     "output_type": "display_data"
    },
    {
     "name": "stdout",
     "output_type": "stream",
     "text": [
      "Running Grid Network Regression: 50 nodes\n",
      "Running Grid Network Regression: 100 nodes\n",
      "Running Random Network Regression: 250 nodes\n",
      "Running Grid Network Regression: 250 nodes\n",
      "Running Grid Network Regression: 150 nodes\n"
     ]
    },
    {
     "name": "stderr",
     "output_type": "stream",
     "text": [
      "2020-05-22 13:29:13,752:INFO:First current path [0, 46, 4] formed at time = 0.75 s.\n"
     ]
    },
    {
     "name": "stdout",
     "output_type": "stream",
     "text": [
      "Running Random Network Regression: 50 nodes\n",
      "Running Random Network Regression: 100 nodes\n",
      "Running Grid Network Regression: 200 nodes\n",
      "Running Random Network Regression: 150 nodes\n"
     ]
    },
    {
     "data": {
      "application/vnd.jupyter.widget-view+json": {
       "model_id": "f6dfe4aed88a4f44a77767a08bea4484",
       "version_major": 2,
       "version_minor": 0
      },
      "text/plain": [
       "HBox(children=(IntProgress(value=0, description='Running Simulation ', max=500, style=ProgressStyle(descriptio…"
      ]
     },
     "metadata": {},
     "output_type": "display_data"
    },
    {
     "name": "stdout",
     "output_type": "stream",
     "text": [
      "Running Random Network Regression: 300 nodes\n",
      "Running Random Network Regression: 200 nodes\n",
      "Running Grid Network Regression: 300 nodes\n"
     ]
    },
    {
     "name": "stderr",
     "output_type": "stream",
     "text": [
      "2020-05-22 13:29:14,420:INFO:First current path [0, 3, 41, 78, 116] formed at time = 0.79 s.\n"
     ]
    },
    {
     "name": "stdout",
     "output_type": "stream",
     "text": [
      "Running Grid Network Regression: 250 nodes\n"
     ]
    },
    {
     "data": {
      "application/vnd.jupyter.widget-view+json": {
       "model_id": "d4f57a7521864501a837f5194fdd4c69",
       "version_major": 2,
       "version_minor": 0
      },
      "text/plain": [
       "HBox(children=(IntProgress(value=0, description='Running Simulation ', max=500, style=ProgressStyle(descriptio…"
      ]
     },
     "metadata": {},
     "output_type": "display_data"
    },
    {
     "data": {
      "application/vnd.jupyter.widget-view+json": {
       "model_id": "4fff512493a54e558de6ceaf40ed12b9",
       "version_major": 2,
       "version_minor": 0
      },
      "text/plain": [
       "HBox(children=(IntProgress(value=0, description='Running Simulation ', max=500, style=ProgressStyle(descriptio…"
      ]
     },
     "metadata": {},
     "output_type": "display_data"
    },
    {
     "name": "stdout",
     "output_type": "stream",
     "text": [
      "Running Random Network Regression: 250 nodes\n"
     ]
    },
    {
     "name": "stderr",
     "output_type": "stream",
     "text": [
      "2020-05-22 13:29:15,033:INFO:First current path [0, 254, 208, 161, 143] formed at time = 0.78 s.\n"
     ]
    },
    {
     "name": "stdout",
     "output_type": "stream",
     "text": [
      "Running Grid Network Regression: 50 nodes\n"
     ]
    },
    {
     "data": {
      "application/vnd.jupyter.widget-view+json": {
       "model_id": "33b48d5b66714bc097b6c8c2962ef12a",
       "version_major": 2,
       "version_minor": 0
      },
      "text/plain": [
       "HBox(children=(IntProgress(value=0, description='Running Simulation ', max=500, style=ProgressStyle(descriptio…"
      ]
     },
     "metadata": {},
     "output_type": "display_data"
    },
    {
     "name": "stdout",
     "output_type": "stream",
     "text": [
      "Running Grid Network Regression: 100 nodes\n",
      "Running Grid Network Regression: 300 nodes\n",
      "Running Grid Network Regression: 150 nodes\n",
      "Running Random Network Regression: 300 nodes\n",
      "Running Grid Network Regression: 200 nodes\n"
     ]
    },
    {
     "name": "stderr",
     "output_type": "stream",
     "text": [
      "2020-05-22 13:29:16,016:INFO:First current path [0, 2, 52, 102] formed at time = 0.78 s.\n",
      "2020-05-22 13:29:16,025:INFO:First current path [1, 4, 9, 14, 19, 24, 29, 34, 39, 44, 49, 54, 59, 64, 69, 74, 79, 84, 89, 94, 99, 104, 109, 114, 119, 124, 129, 134, 139, 144, 147] formed at time = 0.76 s.\n"
     ]
    },
    {
     "data": {
      "application/vnd.jupyter.widget-view+json": {
       "model_id": "f993417643d44ab9a870133243e45f70",
       "version_major": 2,
       "version_minor": 0
      },
      "text/plain": [
       "HBox(children=(IntProgress(value=0, description='Running Simulation ', max=500, style=ProgressStyle(descriptio…"
      ]
     },
     "metadata": {},
     "output_type": "display_data"
    },
    {
     "data": {
      "application/vnd.jupyter.widget-view+json": {
       "model_id": "24120ded7bcf485bbf3ec527136e8c1e",
       "version_major": 2,
       "version_minor": 0
      },
      "text/plain": [
       "HBox(children=(IntProgress(value=0, description='Running Simulation ', max=500, style=ProgressStyle(descriptio…"
      ]
     },
     "metadata": {},
     "output_type": "display_data"
    },
    {
     "data": {
      "application/vnd.jupyter.widget-view+json": {
       "model_id": "c9468418b2be49049c3c03254e34ff30",
       "version_major": 2,
       "version_minor": 0
      },
      "text/plain": [
       "HBox(children=(IntProgress(value=0, description='Running Simulation ', max=500, style=ProgressStyle(descriptio…"
      ]
     },
     "metadata": {},
     "output_type": "display_data"
    },
    {
     "name": "stdout",
     "output_type": "stream",
     "text": [
      "Running Grid Network Regression: 250 nodes\n"
     ]
    },
    {
     "name": "stderr",
     "output_type": "stream",
     "text": [
      "2020-05-22 13:29:16,574:INFO:First current path [0, 1, 5] formed at time = 0.75 s.\n"
     ]
    },
    {
     "name": "stdout",
     "output_type": "stream",
     "text": [
      "Running Random Network Regression: 50 nodes\n",
      "Running Random Network Regression: 100 nodes\n",
      "Running Grid Network Regression: 50 nodes\n",
      "Running Grid Network Regression: 100 nodes\n",
      "Running Random Network Regression: 150 nodes\n",
      "Running Grid Network Regression: 150 nodes\n",
      "Running Random Network Regression: 200 nodes\n"
     ]
    },
    {
     "name": "stderr",
     "output_type": "stream",
     "text": [
      "2020-05-22 13:29:17,262:INFO:First current path [0, 3, 2] formed at time = 0.75 s.\n"
     ]
    },
    {
     "name": "stdout",
     "output_type": "stream",
     "text": [
      "Running Random Network Regression: 50 nodes\n",
      "Running Grid Network Regression: 300 nodes\n",
      "Running Grid Network Regression: 200 nodes\n",
      "Running Random Network Regression: 100 nodes\n"
     ]
    },
    {
     "name": "stderr",
     "output_type": "stream",
     "text": [
      "2020-05-22 13:29:17,477:INFO:First current path [0, 157, 25, 126, 22] formed at time = 0.75 s.\n"
     ]
    },
    {
     "name": "stdout",
     "output_type": "stream",
     "text": [
      "Running Random Network Regression: 50 nodes\n",
      "Running Random Network Regression: 150 nodes\n",
      "Running Random Network Regression: 100 nodes\n"
     ]
    },
    {
     "name": "stderr",
     "output_type": "stream",
     "text": [
      "2020-05-22 13:29:17,576:INFO:First current path [0, 5, 13, 21, 29, 37, 45, 53, 61, 69, 77, 85, 93, 101, 109, 117, 125, 133, 141, 146] formed at time = 0.76 s.\n"
     ]
    },
    {
     "name": "stdout",
     "output_type": "stream",
     "text": [
      "Running Random Network Regression: 250 nodes\n",
      "Running Random Network Regression: 150 nodes\n"
     ]
    },
    {
     "data": {
      "application/vnd.jupyter.widget-view+json": {
       "model_id": "608207a48a914305ab2db6d8b06972c8",
       "version_major": 2,
       "version_minor": 0
      },
      "text/plain": [
       "HBox(children=(IntProgress(value=0, description='Running Simulation ', max=500, style=ProgressStyle(descriptio…"
      ]
     },
     "metadata": {},
     "output_type": "display_data"
    },
    {
     "name": "stdout",
     "output_type": "stream",
     "text": [
      "Running Random Network Regression: 200 nodes\n",
      "Running Grid Network Regression: 250 nodes\n",
      "Running Random Network Regression: 200 nodes\n",
      "Running Random Network Regression: 250 nodes\n",
      "Running Random Network Regression: 300 nodes\n"
     ]
    },
    {
     "name": "stderr",
     "output_type": "stream",
     "text": [
      "2020-05-22 13:29:18,401:INFO:First current path [0, 18, 3] formed at time = 0.75 s.\n"
     ]
    },
    {
     "name": "stdout",
     "output_type": "stream",
     "text": [
      "Running Random Network Regression: 50 nodes\n"
     ]
    },
    {
     "data": {
      "application/vnd.jupyter.widget-view+json": {
       "model_id": "18fe7453f106425c8bfc7c2fb46e6d2f",
       "version_major": 2,
       "version_minor": 0
      },
      "text/plain": [
       "HBox(children=(IntProgress(value=0, description='Running Simulation ', max=500, style=ProgressStyle(descriptio…"
      ]
     },
     "metadata": {},
     "output_type": "display_data"
    },
    {
     "name": "stdout",
     "output_type": "stream",
     "text": [
      "Running Random Network Regression: 100 nodes\n",
      "Running Random Network Regression: 250 nodes\n",
      "Running Grid Network Regression: 300 nodes\n",
      "Running Random Network Regression: 150 nodes\n",
      "Running Random Network Regression: 200 nodes\n",
      "Running Random Network Regression: 300 nodes\n"
     ]
    },
    {
     "name": "stderr",
     "output_type": "stream",
     "text": [
      "2020-05-22 13:29:19,183:INFO:First current path [0, 47, 210, 2] formed at time = 0.75 s.\n"
     ]
    },
    {
     "name": "stdout",
     "output_type": "stream",
     "text": [
      "Running Random Network Regression: 50 nodes\n",
      "Running Random Network Regression: 100 nodes\n",
      "Running Random Network Regression: 292 nodes\n",
      "Running Grid Network Regression: 50 nodes\n",
      "Running Random Network Regression: 150 nodes\n",
      "Running Grid Network Regression: 100 nodes\n",
      "Running Random Network Regression: 250 nodes\n",
      "Running Grid Network Regression: 150 nodes\n",
      "Running Random Network Regression: 200 nodes\n"
     ]
    },
    {
     "name": "stderr",
     "output_type": "stream",
     "text": [
      "2020-05-22 13:29:19,924:INFO:First current path [0, 6, 16, 26, 36, 46, 56, 66, 76, 86, 96, 106, 116, 126, 136, 142] formed at time = 0.76 s.\n"
     ]
    },
    {
     "name": "stdout",
     "output_type": "stream",
     "text": [
      "Running Grid Network Regression: 200 nodes\n"
     ]
    },
    {
     "data": {
      "application/vnd.jupyter.widget-view+json": {
       "model_id": "653cf6e2c7c44595b05384af26206089",
       "version_major": 2,
       "version_minor": 0
      },
      "text/plain": [
       "HBox(children=(IntProgress(value=0, description='Running Simulation ', max=500, style=ProgressStyle(descriptio…"
      ]
     },
     "metadata": {},
     "output_type": "display_data"
    },
    {
     "name": "stdout",
     "output_type": "stream",
     "text": [
      "Running Grid Network Regression: 50 nodes\n",
      "Running Grid Network Regression: 100 nodes\n",
      "Running Random Network Regression: 300 nodes\n",
      "Running Random Network Regression: 250 nodes\n",
      "Running Grid Network Regression: 150 nodes\n",
      "Running Grid Network Regression: 50 nodes\n",
      "Running Grid Network Regression: 250 nodes\n",
      "Running Grid Network Regression: 100 nodes\n",
      "Running Grid Network Regression: 200 nodes\n",
      "Running Grid Network Regression: 150 nodes\n"
     ]
    },
    {
     "data": {
      "application/vnd.jupyter.widget-view+json": {
       "model_id": "782907541258469f8d9c7a0eba4a29f1",
       "version_major": 2,
       "version_minor": 0
      },
      "text/plain": [
       "HBox(children=(IntProgress(value=0, description='Running Simulation ', max=500, style=ProgressStyle(descriptio…"
      ]
     },
     "metadata": {},
     "output_type": "display_data"
    },
    {
     "name": "stdout",
     "output_type": "stream",
     "text": [
      "Running Grid Network Regression: 200 nodes\n",
      "Running Random Network Regression: 300 nodes\n",
      "Running Grid Network Regression: 250 nodes\n",
      "Running Grid Network Regression: 300 nodes\n",
      "Running Grid Network Regression: 50 nodes\n",
      "Running Grid Network Regression: 100 nodes\n",
      "Running Grid Network Regression: 250 nodes\n"
     ]
    },
    {
     "name": "stderr",
     "output_type": "stream",
     "text": [
      "2020-05-22 13:29:21,631:INFO:First current path [0, 5, 231, 10] formed at time = 0.75 s.\n"
     ]
    },
    {
     "name": "stdout",
     "output_type": "stream",
     "text": [
      "Running Random Network Regression: 50 nodes\n",
      "Running Grid Network Regression: 150 nodes\n",
      "Running Random Network Regression: 100 nodes\n"
     ]
    },
    {
     "data": {
      "application/vnd.jupyter.widget-view+json": {
       "model_id": "557c25e6257a4693b79d2476afb29793",
       "version_major": 2,
       "version_minor": 0
      },
      "text/plain": [
       "HBox(children=(IntProgress(value=0, description='Running Simulation ', max=500, style=ProgressStyle(descriptio…"
      ]
     },
     "metadata": {},
     "output_type": "display_data"
    },
    {
     "name": "stdout",
     "output_type": "stream",
     "text": [
      "Running Random Network Regression: 150 nodes\n",
      "Running Grid Network Regression: 200 nodes\n",
      "Running Grid Network Regression: 300 nodes\n",
      "Running Random Network Regression: 200 nodes\n",
      "Running Grid Network Regression: 292 nodes\n",
      "Running Grid Network Regression: 50 nodes\n"
     ]
    },
    {
     "name": "stderr",
     "output_type": "stream",
     "text": [
      "2020-05-22 13:29:22,528:INFO:First current path [0, 7, 22, 37, 52, 67, 82, 96, 110, 124, 137] formed at time = 0.76 s.\n"
     ]
    },
    {
     "name": "stdout",
     "output_type": "stream",
     "text": [
      "Running Grid Network Regression: 250 nodes\n",
      "Running Grid Network Regression: 100 nodes\n"
     ]
    },
    {
     "data": {
      "application/vnd.jupyter.widget-view+json": {
       "model_id": "d15ba447fb2247f79ca82aaa3b3a2d64",
       "version_major": 2,
       "version_minor": 0
      },
      "text/plain": [
       "HBox(children=(IntProgress(value=0, description='Running Simulation ', max=500, style=ProgressStyle(descriptio…"
      ]
     },
     "metadata": {},
     "output_type": "display_data"
    },
    {
     "name": "stdout",
     "output_type": "stream",
     "text": [
      "Running Grid Network Regression: 150 nodes\n",
      "Running Random Network Regression: 250 nodes\n",
      "Running Grid Network Regression: 200 nodes\n",
      "Running Grid Network Regression: 300 nodes\n"
     ]
    },
    {
     "data": {
      "application/vnd.jupyter.widget-view+json": {
       "model_id": "d9b2cfc98bea4bacb101b637442cee19",
       "version_major": 2,
       "version_minor": 0
      },
      "text/plain": [
       "HBox(children=(IntProgress(value=0, description='Running Simulation ', max=500, style=ProgressStyle(descriptio…"
      ]
     },
     "metadata": {},
     "output_type": "display_data"
    },
    {
     "name": "stderr",
     "output_type": "stream",
     "text": [
      "2020-05-22 13:29:23,551:INFO:First current path [0, 9, 28, 47, 65, 83, 101, 119, 135] formed at time = 0.76 s.\n"
     ]
    },
    {
     "name": "stdout",
     "output_type": "stream",
     "text": [
      "Running Random Network Regression: 300 nodes\n",
      "Running Grid Network Regression: 250 nodes\n"
     ]
    },
    {
     "data": {
      "application/vnd.jupyter.widget-view+json": {
       "model_id": "2fa623ee4c8b479092e41f2c82756037",
       "version_major": 2,
       "version_minor": 0
      },
      "text/plain": [
       "HBox(children=(IntProgress(value=0, description='Running Simulation ', max=500, style=ProgressStyle(descriptio…"
      ]
     },
     "metadata": {},
     "output_type": "display_data"
    },
    {
     "name": "stderr",
     "output_type": "stream",
     "text": [
      "2020-05-22 13:29:24,344:INFO:First current path [0, 42, 57, 35] formed at time = 0.75 s.\n"
     ]
    },
    {
     "name": "stdout",
     "output_type": "stream",
     "text": [
      "Running Random Network Regression: 50 nodes\n",
      "Running Random Network Regression: 100 nodes\n",
      "Running Grid Network Regression: 300 nodes\n",
      "Running Random Network Regression: 150 nodes\n",
      "Running Grid Network Regression: 50 nodes\n",
      "Running Grid Network Regression: 100 nodes\n",
      "Running Random Network Regression: 200 nodes\n"
     ]
    },
    {
     "data": {
      "application/vnd.jupyter.widget-view+json": {
       "model_id": "41a71bd5f3f144f6b5142db4b56f7e0e",
       "version_major": 2,
       "version_minor": 0
      },
      "text/plain": [
       "HBox(children=(IntProgress(value=0, description='Running Simulation ', max=500, style=ProgressStyle(descriptio…"
      ]
     },
     "metadata": {},
     "output_type": "display_data"
    },
    {
     "name": "stdout",
     "output_type": "stream",
     "text": [
      "Running Grid Network Regression: 150 nodes\n"
     ]
    },
    {
     "name": "stderr",
     "output_type": "stream",
     "text": [
      "2020-05-22 13:29:25,093:INFO:First current path [0, 10, 33, 56, 78, 100, 122, 140] formed at time = 0.76 s.\n"
     ]
    },
    {
     "data": {
      "application/vnd.jupyter.widget-view+json": {
       "model_id": "0acbfbb2d3a94010a291bc31460660db",
       "version_major": 2,
       "version_minor": 0
      },
      "text/plain": [
       "HBox(children=(IntProgress(value=0, description='Running Simulation ', max=500, style=ProgressStyle(descriptio…"
      ]
     },
     "metadata": {},
     "output_type": "display_data"
    },
    {
     "name": "stderr",
     "output_type": "stream",
     "text": [
      "2020-05-22 13:29:25,435:INFO:First current path [0, 4, 281, 68] formed at time = 0.76 s.\n"
     ]
    },
    {
     "name": "stdout",
     "output_type": "stream",
     "text": [
      "Running Random Network Regression: 50 nodes\n",
      "Running Grid Network Regression: 200 nodes\n",
      "Running Random Network Regression: 100 nodes\n",
      "Running Random Network Regression: 250 nodes\n",
      "Running Random Network Regression: 150 nodes\n",
      "Running Random Network Regression: 200 nodes\n",
      "Running Grid Network Regression: 250 nodes\n"
     ]
    },
    {
     "data": {
      "application/vnd.jupyter.widget-view+json": {
       "model_id": "cc2266c7a21b438f97f19982d6175d6c",
       "version_major": 2,
       "version_minor": 0
      },
      "text/plain": [
       "HBox(children=(IntProgress(value=0, description='Running Simulation ', max=500, style=ProgressStyle(descriptio…"
      ]
     },
     "metadata": {},
     "output_type": "display_data"
    },
    {
     "name": "stdout",
     "output_type": "stream",
     "text": [
      "Running Random Network Regression: 300 nodes\n"
     ]
    },
    {
     "data": {
      "application/vnd.jupyter.widget-view+json": {
       "model_id": "a38697da3ffc454e84264f3a23707a78",
       "version_major": 2,
       "version_minor": 0
      },
      "text/plain": [
       "HBox(children=(IntProgress(value=0, description='Running Simulation ', max=500, style=ProgressStyle(descriptio…"
      ]
     },
     "metadata": {},
     "output_type": "display_data"
    },
    {
     "name": "stdout",
     "output_type": "stream",
     "text": [
      "Running Random Network Regression: 250 nodes\n"
     ]
    },
    {
     "name": "stderr",
     "output_type": "stream",
     "text": [
      "2020-05-22 13:29:26,665:INFO:First current path [0, 280, 251, 222, 193, 164, 147] formed at time = 0.76 s.\n"
     ]
    },
    {
     "name": "stdout",
     "output_type": "stream",
     "text": [
      "Running Grid Network Regression: 300 nodes\n"
     ]
    },
    {
     "data": {
      "application/vnd.jupyter.widget-view+json": {
       "model_id": "f7db8fe99d364ffb8df0bb2447f4e111",
       "version_major": 2,
       "version_minor": 0
      },
      "text/plain": [
       "HBox(children=(IntProgress(value=0, description='Running Simulation ', max=500, style=ProgressStyle(descriptio…"
      ]
     },
     "metadata": {},
     "output_type": "display_data"
    },
    {
     "name": "stderr",
     "output_type": "stream",
     "text": [
      "2020-05-22 13:29:27,147:INFO:First current path [6, 88, 78, 119] formed at time = 0.76 s.\n"
     ]
    },
    {
     "name": "stdout",
     "output_type": "stream",
     "text": [
      "Running Random Network Regression: 50 nodes\n",
      "Running Random Network Regression: 100 nodes\n",
      "Running Random Network Regression: 300 nodes\n",
      "Running Random Network Regression: 150 nodes\n",
      "Running Grid Network Regression: 50 nodes\n"
     ]
    },
    {
     "name": "stderr",
     "output_type": "stream",
     "text": [
      "2020-05-22 13:29:27,739:INFO:First current path [0, 16, 48, 80, 112, 130] formed at time = 0.77 s.\n"
     ]
    },
    {
     "name": "stdout",
     "output_type": "stream",
     "text": [
      "Running Grid Network Regression: 100 nodes\n",
      "Running Random Network Regression: 200 nodes\n",
      "Running Grid Network Regression: 150 nodes\n"
     ]
    },
    {
     "data": {
      "application/vnd.jupyter.widget-view+json": {
       "model_id": "6a00d99b8ab0416c8f79adedc1d80757",
       "version_major": 2,
       "version_minor": 0
      },
      "text/plain": [
       "HBox(children=(IntProgress(value=0, description='Running Simulation ', max=500, style=ProgressStyle(descriptio…"
      ]
     },
     "metadata": {},
     "output_type": "display_data"
    },
    {
     "name": "stdout",
     "output_type": "stream",
     "text": [
      "Running Random Network Regression: 250 nodes\n",
      "Running Grid Network Regression: 200 nodes\n"
     ]
    },
    {
     "name": "stderr",
     "output_type": "stream",
     "text": [
      "2020-05-22 13:29:28,319:INFO:First current path [0, 3, 43, 82, 122] formed at time = 0.79 s.\n"
     ]
    },
    {
     "name": "stdout",
     "output_type": "stream",
     "text": [
      "Running Grid Network Regression: 50 nodes\n"
     ]
    },
    {
     "name": "stderr",
     "output_type": "stream",
     "text": [
      "2020-05-22 13:29:28,590:INFO:First current path [0, 46, 2] formed at time = 0.75 s.\n"
     ]
    },
    {
     "name": "stdout",
     "output_type": "stream",
     "text": [
      "Running Random Network Regression: 50 nodes\n"
     ]
    },
    {
     "data": {
      "application/vnd.jupyter.widget-view+json": {
       "model_id": "d38bad4accdf4976b2d7bf056c24a891",
       "version_major": 2,
       "version_minor": 0
      },
      "text/plain": [
       "HBox(children=(IntProgress(value=0, description='Running Simulation ', max=500, style=ProgressStyle(descriptio…"
      ]
     },
     "metadata": {},
     "output_type": "display_data"
    },
    {
     "name": "stdout",
     "output_type": "stream",
     "text": [
      "Running Grid Network Regression: 100 nodes\n",
      "Running Random Network Regression: 100 nodes\n"
     ]
    },
    {
     "data": {
      "application/vnd.jupyter.widget-view+json": {
       "model_id": "116f90e9cfaf4617b70fadad77f2ae98",
       "version_major": 2,
       "version_minor": 0
      },
      "text/plain": [
       "HBox(children=(IntProgress(value=0, description='Running Simulation ', max=500, style=ProgressStyle(descriptio…"
      ]
     },
     "metadata": {},
     "output_type": "display_data"
    },
    {
     "name": "stdout",
     "output_type": "stream",
     "text": [
      "Running Grid Network Regression: 150 nodes\n",
      "Running Random Network Regression: 150 nodes\n",
      "Running Grid Network Regression: 250 nodes\n"
     ]
    },
    {
     "data": {
      "application/vnd.jupyter.widget-view+json": {
       "model_id": "4b481376538a4e67a3fb0730e4d35e10",
       "version_major": 2,
       "version_minor": 0
      },
      "text/plain": [
       "HBox(children=(IntProgress(value=0, description='Running Simulation ', max=500, style=ProgressStyle(descriptio…"
      ]
     },
     "metadata": {},
     "output_type": "display_data"
    },
    {
     "name": "stdout",
     "output_type": "stream",
     "text": [
      "Running Random Network Regression: 300 nodes\n",
      "Running Random Network Regression: 200 nodes\n",
      "Running Grid Network Regression: 200 nodes\n",
      "Running Random Network Regression: 250 nodes\n",
      "Running Grid Network Regression: 300 nodes\n"
     ]
    },
    {
     "name": "stderr",
     "output_type": "stream",
     "text": [
      "2020-05-22 13:29:29,775:INFO:First current path [0, 86, 2] formed at time = 0.75 s.\n"
     ]
    },
    {
     "name": "stdout",
     "output_type": "stream",
     "text": [
      "Running Random Network Regression: 50 nodes\n",
      "Running Grid Network Regression: 250 nodes\n",
      "Running Random Network Regression: 100 nodes\n",
      "Running Random Network Regression: 150 nodes\n"
     ]
    },
    {
     "name": "stderr",
     "output_type": "stream",
     "text": [
      "2020-05-22 13:29:30,131:INFO:First current path [0, 3, 7, 11, 15, 19, 23, 27, 31, 35, 39, 43, 47, 51, 55, 59, 63, 67, 71, 75, 79, 83, 87, 91, 95, 99, 103, 107, 111, 115, 119, 123, 127, 131, 135, 139, 143, 146] formed at time = 0.75 s.\n"
     ]
    },
    {
     "data": {
      "application/vnd.jupyter.widget-view+json": {
       "model_id": "ff344b2561884352a0b82d1deedcc06b",
       "version_major": 2,
       "version_minor": 0
      },
      "text/plain": [
       "HBox(children=(IntProgress(value=0, description='Running Simulation ', max=500, style=ProgressStyle(descriptio…"
      ]
     },
     "metadata": {},
     "output_type": "display_data"
    },
    {
     "name": "stdout",
     "output_type": "stream",
     "text": [
      "Running Grid Network Regression: 50 nodes\n"
     ]
    },
    {
     "data": {
      "application/vnd.jupyter.widget-view+json": {
       "model_id": "944deb0de7a24d90a646e01811d6bbef",
       "version_major": 2,
       "version_minor": 0
      },
      "text/plain": [
       "HBox(children=(IntProgress(value=0, description='Running Simulation ', max=500, style=ProgressStyle(descriptio…"
      ]
     },
     "metadata": {},
     "output_type": "display_data"
    },
    {
     "name": "stdout",
     "output_type": "stream",
     "text": [
      "Running Grid Network Regression: 100 nodes\n",
      "Running Random Network Regression: 200 nodes\n",
      "Running Random Network Regression: 300 nodes\n"
     ]
    },
    {
     "name": "stderr",
     "output_type": "stream",
     "text": [
      "2020-05-22 13:29:30,438:INFO:First current path [0, 5, 2] formed at time = 0.75 s.\n"
     ]
    },
    {
     "name": "stdout",
     "output_type": "stream",
     "text": [
      "Running Random Network Regression: 50 nodes\n",
      "Running Grid Network Regression: 150 nodes\n",
      "Running Random Network Regression: 100 nodes\n",
      "Running Grid Network Regression: 300 nodes\n"
     ]
    },
    {
     "name": "stderr",
     "output_type": "stream",
     "text": [
      "2020-05-22 13:29:30,681:INFO:First current path [0, 261, 217, 173, 134] formed at time = 0.76 s.\n"
     ]
    },
    {
     "name": "stdout",
     "output_type": "stream",
     "text": [
      "Running Random Network Regression: 150 nodes\n",
      "Running Grid Network Regression: 200 nodes\n",
      "Running Random Network Regression: 250 nodes\n"
     ]
    },
    {
     "data": {
      "application/vnd.jupyter.widget-view+json": {
       "model_id": "de1727050a3645be9c5442e5f3c8ffca",
       "version_major": 2,
       "version_minor": 0
      },
      "text/plain": [
       "HBox(children=(IntProgress(value=0, description='Running Simulation ', max=500, style=ProgressStyle(descriptio…"
      ]
     },
     "metadata": {},
     "output_type": "display_data"
    },
    {
     "name": "stdout",
     "output_type": "stream",
     "text": [
      "Running Random Network Regression: 200 nodes\n",
      "Running Grid Network Regression: 50 nodes\n",
      "Running Grid Network Regression: 250 nodes\n",
      "Running Grid Network Regression: 100 nodes\n"
     ]
    },
    {
     "name": "stderr",
     "output_type": "stream",
     "text": [
      "2020-05-22 13:29:31,480:INFO:First current path [0, 4, 10, 16, 22, 28, 34, 40, 46, 52, 58, 64, 70, 76, 82, 88, 94, 100, 106, 112, 118, 124, 130, 136, 142, 146] formed at time = 0.75 s.\n"
     ]
    },
    {
     "name": "stdout",
     "output_type": "stream",
     "text": [
      "Running Random Network Regression: 250 nodes\n"
     ]
    },
    {
     "name": "stderr",
     "output_type": "stream",
     "text": [
      "2020-05-22 13:29:31,563:INFO:First current path [12, 77, 120, 281, 69, 6] formed at time = 0.76 s.\n"
     ]
    },
    {
     "name": "stdout",
     "output_type": "stream",
     "text": [
      "Running Random Network Regression: 50 nodes\n",
      "Running Random Network Regression: 300 nodes\n"
     ]
    },
    {
     "data": {
      "application/vnd.jupyter.widget-view+json": {
       "model_id": "c75dcb1f84424675a2c46fbc84c0cf98",
       "version_major": 2,
       "version_minor": 0
      },
      "text/plain": [
       "HBox(children=(IntProgress(value=0, description='Running Simulation ', max=500, style=ProgressStyle(descriptio…"
      ]
     },
     "metadata": {},
     "output_type": "display_data"
    },
    {
     "name": "stdout",
     "output_type": "stream",
     "text": [
      "Running Random Network Regression: 100 nodes\n",
      "Running Grid Network Regression: 150 nodes\n",
      "Running Random Network Regression: 150 nodes\n",
      "Running Grid Network Regression: 200 nodes\n",
      "Running Random Network Regression: 200 nodes\n"
     ]
    },
    {
     "data": {
      "application/vnd.jupyter.widget-view+json": {
       "model_id": "d087a13d5d7f4613ba21dc02e87e3f46",
       "version_major": 2,
       "version_minor": 0
      },
      "text/plain": [
       "HBox(children=(IntProgress(value=0, description='Running Simulation ', max=500, style=ProgressStyle(descriptio…"
      ]
     },
     "metadata": {},
     "output_type": "display_data"
    },
    {
     "name": "stdout",
     "output_type": "stream",
     "text": [
      "Running Grid Network Regression: 300 nodes\n",
      "Running Random Network Regression: 300 nodes\n",
      "Running Grid Network Regression: 250 nodes\n",
      "Running Grid Network Regression: 50 nodes\n",
      "Running Random Network Regression: 250 nodes\n",
      "Running Grid Network Regression: 100 nodes\n"
     ]
    },
    {
     "name": "stderr",
     "output_type": "stream",
     "text": [
      "2020-05-22 13:29:32,813:INFO:First current path [0, 1, 4] formed at time = 0.75 s.\n"
     ]
    },
    {
     "name": "stdout",
     "output_type": "stream",
     "text": [
      "Running Random Network Regression: 50 nodes\n",
      "Running Grid Network Regression: 150 nodes\n",
      "Running Random Network Regression: 100 nodes\n"
     ]
    },
    {
     "name": "stderr",
     "output_type": "stream",
     "text": [
      "2020-05-22 13:29:33,029:INFO:First current path [1, 134, 217, 113, 201] formed at time = 0.76 s.\n"
     ]
    },
    {
     "name": "stdout",
     "output_type": "stream",
     "text": [
      "Running Random Network Regression: 50 nodes\n",
      "Running Random Network Regression: 150 nodes\n",
      "Running Random Network Regression: 100 nodes\n",
      "Running Grid Network Regression: 200 nodes\n",
      "Running Random Network Regression: 150 nodes\n",
      "Running Grid Network Regression: 50 nodes\n",
      "Running Random Network Regression: 200 nodes\n",
      "Running Grid Network Regression: 300 nodes\n",
      "Running Grid Network Regression: 100 nodes\n",
      "Running Random Network Regression: 295 nodes\n",
      "Running Grid Network Regression: 150 nodes\n"
     ]
    },
    {
     "name": "stderr",
     "output_type": "stream",
     "text": [
      "2020-05-22 13:29:33,625:INFO:First current path [0, 289, 280, 271, 262, 253, 244, 235, 226, 217, 208, 199, 190, 181, 172, 163, 154, 146] formed at time = 0.75 s.\n"
     ]
    },
    {
     "name": "stdout",
     "output_type": "stream",
     "text": [
      "Running Random Network Regression: 200 nodes\n",
      "Running Grid Network Regression: 250 nodes\n"
     ]
    },
    {
     "data": {
      "application/vnd.jupyter.widget-view+json": {
       "model_id": "b882be2e0d73458798b4e0549500ef7a",
       "version_major": 2,
       "version_minor": 0
      },
      "text/plain": [
       "HBox(children=(IntProgress(value=0, description='Running Simulation ', max=500, style=ProgressStyle(descriptio…"
      ]
     },
     "metadata": {},
     "output_type": "display_data"
    },
    {
     "name": "stdout",
     "output_type": "stream",
     "text": [
      "Running Random Network Regression: 250 nodes\n",
      "Running Grid Network Regression: 200 nodes\n",
      "Running Random Network Regression: 250 nodes\n"
     ]
    },
    {
     "data": {
      "application/vnd.jupyter.widget-view+json": {
       "model_id": "6c5a00fac4fb46e0bf0ce933fe9b4cbc",
       "version_major": 2,
       "version_minor": 0
      },
      "text/plain": [
       "HBox(children=(IntProgress(value=0, description='Running Simulation ', max=500, style=ProgressStyle(descriptio…"
      ]
     },
     "metadata": {},
     "output_type": "display_data"
    },
    {
     "name": "stdout",
     "output_type": "stream",
     "text": [
      "Running Grid Network Regression: 250 nodes\n",
      "Running Grid Network Regression: 300 nodes\n",
      "Running Grid Network Regression: 50 nodes\n",
      "Running Random Network Regression: 300 nodes\n"
     ]
    },
    {
     "data": {
      "application/vnd.jupyter.widget-view+json": {
       "model_id": "044e3047c25c4a64825babb2eb856975",
       "version_major": 2,
       "version_minor": 0
      },
      "text/plain": [
       "HBox(children=(IntProgress(value=0, description='Running Simulation ', max=500, style=ProgressStyle(descriptio…"
      ]
     },
     "metadata": {},
     "output_type": "display_data"
    },
    {
     "name": "stdout",
     "output_type": "stream",
     "text": [
      "Running Grid Network Regression: 100 nodes\n",
      "Running Grid Network Regression: 150 nodes\n",
      "Running Grid Network Regression: 200 nodes\n",
      "Running Random Network Regression: 299 nodes\n",
      "Running Grid Network Regression: 300 nodes\n"
     ]
    },
    {
     "name": "stderr",
     "output_type": "stream",
     "text": [
      "2020-05-22 13:29:35,263:INFO:First current path [0, 63, 164, 10] formed at time = 0.75 s.\n"
     ]
    },
    {
     "name": "stdout",
     "output_type": "stream",
     "text": [
      "Running Random Network Regression: 50 nodes\n",
      "Running Random Network Regression: 100 nodes\n",
      "Running Random Network Regression: 150 nodes\n",
      "Running Grid Network Regression: 50 nodes\n",
      "Running Grid Network Regression: 250 nodes\n",
      "Running Grid Network Regression: 100 nodes\n",
      "Running Grid Network Regression: 150 nodes\n",
      "Running Random Network Regression: 200 nodes\n"
     ]
    },
    {
     "name": "stderr",
     "output_type": "stream",
     "text": [
      "2020-05-22 13:29:35,883:INFO:First current path [0, 6, 18, 30, 42, 54, 66, 78, 90, 102, 114, 126, 138, 146] formed at time = 0.76 s.\n"
     ]
    },
    {
     "data": {
      "application/vnd.jupyter.widget-view+json": {
       "model_id": "d4a57b198b924839b456bb408383328e",
       "version_major": 2,
       "version_minor": 0
      },
      "text/plain": [
       "HBox(children=(IntProgress(value=0, description='Running Simulation ', max=500, style=ProgressStyle(descriptio…"
      ]
     },
     "metadata": {},
     "output_type": "display_data"
    },
    {
     "name": "stderr",
     "output_type": "stream",
     "text": [
      "2020-05-22 13:29:36,160:INFO:First current path [0, 8, 24, 40, 56, 72, 87, 102, 117, 132, 146] formed at time = 0.76 s.\n"
     ]
    },
    {
     "name": "stdout",
     "output_type": "stream",
     "text": [
      "Running Grid Network Regression: 200 nodes\n",
      "Running Grid Network Regression: 50 nodes\n"
     ]
    },
    {
     "data": {
      "application/vnd.jupyter.widget-view+json": {
       "model_id": "b4a868c912e047dab7e5eee4d21554f5",
       "version_major": 2,
       "version_minor": 0
      },
      "text/plain": [
       "HBox(children=(IntProgress(value=0, description='Running Simulation ', max=500, style=ProgressStyle(descriptio…"
      ]
     },
     "metadata": {},
     "output_type": "display_data"
    },
    {
     "name": "stdout",
     "output_type": "stream",
     "text": [
      "Running Grid Network Regression: 100 nodes\n"
     ]
    },
    {
     "data": {
      "application/vnd.jupyter.widget-view+json": {
       "model_id": "d5cb3ae71cbb4af6b499d5a47d06f3fe",
       "version_major": 2,
       "version_minor": 0
      },
      "text/plain": [
       "HBox(children=(IntProgress(value=0, description='Running Simulation ', max=500, style=ProgressStyle(descriptio…"
      ]
     },
     "metadata": {},
     "output_type": "display_data"
    },
    {
     "name": "stdout",
     "output_type": "stream",
     "text": [
      "Running Random Network Regression: 250 nodes\n",
      "Running Grid Network Regression: 295 nodes\n",
      "Running Grid Network Regression: 150 nodes\n",
      "Running Grid Network Regression: 250 nodes\n",
      "Running Grid Network Regression: 200 nodes\n",
      "Running Random Network Regression: 297 nodes\n",
      "Running Grid Network Regression: 250 nodes\n",
      "Running Grid Network Regression: 300 nodes\n"
     ]
    },
    {
     "name": "stderr",
     "output_type": "stream",
     "text": [
      "2020-05-22 13:29:37,684:INFO:First current path [0, 7, 74, 22] formed at time = 0.75 s.\n"
     ]
    },
    {
     "name": "stdout",
     "output_type": "stream",
     "text": [
      "Running Random Network Regression: 50 nodes\n",
      "Running Random Network Regression: 100 nodes\n",
      "Running Random Network Regression: 150 nodes\n"
     ]
    },
    {
     "name": "stderr",
     "output_type": "stream",
     "text": [
      "2020-05-22 13:29:38,005:INFO:First current path [0, 281, 261, 241, 221, 201, 181, 161, 142] formed at time = 0.75 s.\n",
      "2020-05-22 13:29:38,098:INFO:First current path [0, 267, 88, 20] formed at time = 0.75 s.\n"
     ]
    },
    {
     "name": "stdout",
     "output_type": "stream",
     "text": [
      "Running Random Network Regression: 50 nodes\n",
      "Running Random Network Regression: 100 nodes\n"
     ]
    },
    {
     "data": {
      "application/vnd.jupyter.widget-view+json": {
       "model_id": "4a4304d3b3ea4d28a065e10834461e13",
       "version_major": 2,
       "version_minor": 0
      },
      "text/plain": [
       "HBox(children=(IntProgress(value=0, description='Running Simulation ', max=500, style=ProgressStyle(descriptio…"
      ]
     },
     "metadata": {},
     "output_type": "display_data"
    },
    {
     "data": {
      "application/vnd.jupyter.widget-view+json": {
       "model_id": "0a1a84410dff4d8383c82c5f1130c853",
       "version_major": 2,
       "version_minor": 0
      },
      "text/plain": [
       "HBox(children=(IntProgress(value=0, description='Running Simulation ', max=500, style=ProgressStyle(descriptio…"
      ]
     },
     "metadata": {},
     "output_type": "display_data"
    },
    {
     "name": "stdout",
     "output_type": "stream",
     "text": [
      "Running Grid Network Regression: 299 nodes\n",
      "Running Random Network Regression: 200 nodes\n",
      "Running Random Network Regression: 150 nodes\n",
      "Running Grid Network Regression: 50 nodes\n"
     ]
    },
    {
     "data": {
      "application/vnd.jupyter.widget-view+json": {
       "model_id": "32d2dbc986ac4b74913a251e036019b5",
       "version_major": 2,
       "version_minor": 0
      },
      "text/plain": [
       "HBox(children=(IntProgress(value=0, description='Running Simulation ', max=500, style=ProgressStyle(descriptio…"
      ]
     },
     "metadata": {},
     "output_type": "display_data"
    },
    {
     "name": "stdout",
     "output_type": "stream",
     "text": [
      "Running Grid Network Regression: 100 nodes\n",
      "Running Grid Network Regression: 150 nodes\n",
      "Running Random Network Regression: 200 nodes\n",
      "Running Random Network Regression: 250 nodes\n",
      "Running Grid Network Regression: 200 nodes\n",
      "Running Random Network Regression: 250 nodes\n",
      "Running Grid Network Regression: 250 nodes\n",
      "Running Random Network Regression: 299 nodes\n"
     ]
    },
    {
     "name": "stderr",
     "output_type": "stream",
     "text": [
      "2020-05-22 13:29:39,812:INFO:First current path [0, 10, 32, 54, 75, 96, 117, 134] formed at time = 0.76 s.\n"
     ]
    },
    {
     "name": "stdout",
     "output_type": "stream",
     "text": [
      "Running Random Network Regression: 299 nodes\n",
      "Running Grid Network Regression: 297 nodes\n",
      "Running Grid Network Regression: 50 nodes\n",
      "Running Grid Network Regression: 100 nodes\n",
      "Running Grid Network Regression: 150 nodes\n",
      "Running Grid Network Regression: 50 nodes\n",
      "Running Grid Network Regression: 100 nodes\n",
      "Running Grid Network Regression: 200 nodes\n",
      "Running Grid Network Regression: 150 nodes\n"
     ]
    },
    {
     "data": {
      "application/vnd.jupyter.widget-view+json": {
       "model_id": "6e71ede11d994fa3b67fdaf268bf6a16",
       "version_major": 2,
       "version_minor": 0
      },
      "text/plain": [
       "HBox(children=(IntProgress(value=0, description='Running Simulation ', max=500, style=ProgressStyle(descriptio…"
      ]
     },
     "metadata": {},
     "output_type": "display_data"
    },
    {
     "data": {
      "application/vnd.jupyter.widget-view+json": {
       "model_id": "bf00e76427ee45cebb5ffd596da6d7f6",
       "version_major": 2,
       "version_minor": 0
      },
      "text/plain": [
       "HBox(children=(IntProgress(value=0, description='Running Simulation ', max=500, style=ProgressStyle(descriptio…"
      ]
     },
     "metadata": {},
     "output_type": "display_data"
    },
    {
     "data": {
      "application/vnd.jupyter.widget-view+json": {
       "model_id": "783be9a8e4d44ac19c814afbd52ad46d",
       "version_major": 2,
       "version_minor": 0
      },
      "text/plain": [
       "HBox(children=(IntProgress(value=0, description='Running Simulation ', max=500, style=ProgressStyle(descriptio…"
      ]
     },
     "metadata": {},
     "output_type": "display_data"
    },
    {
     "name": "stderr",
     "output_type": "stream",
     "text": [
      "2020-05-22 13:29:41,795:INFO:First current path [5, 144, 287, 21] formed at time = 0.76 s.\n"
     ]
    },
    {
     "name": "stdout",
     "output_type": "stream",
     "text": [
      "Running Random Network Regression: 50 nodes\n",
      "Running Random Network Regression: 100 nodes\n"
     ]
    },
    {
     "data": {
      "application/vnd.jupyter.widget-view+json": {
       "model_id": "6121b63cfac244899e5a8510a2fd2fc7",
       "version_major": 2,
       "version_minor": 0
      },
      "text/plain": [
       "HBox(children=(IntProgress(value=0, description='Running Simulation ', max=500, style=ProgressStyle(descriptio…"
      ]
     },
     "metadata": {},
     "output_type": "display_data"
    },
    {
     "name": "stdout",
     "output_type": "stream",
     "text": [
      "Running Grid Network Regression: 200 nodes\n"
     ]
    },
    {
     "name": "stderr",
     "output_type": "stream",
     "text": [
      "2020-05-22 13:29:41,995:INFO:First current path [0, 15, 43, 71, 99, 127, 142] formed at time = 0.76 s.\n"
     ]
    },
    {
     "name": "stdout",
     "output_type": "stream",
     "text": [
      "Running Random Network Regression: 150 nodes\n",
      "Running Grid Network Regression: 250 nodes\n"
     ]
    },
    {
     "data": {
      "application/vnd.jupyter.widget-view+json": {
       "model_id": "f5bac644c65244d7a65ac06cac69fbba",
       "version_major": 2,
       "version_minor": 0
      },
      "text/plain": [
       "HBox(children=(IntProgress(value=0, description='Running Simulation ', max=500, style=ProgressStyle(descriptio…"
      ]
     },
     "metadata": {},
     "output_type": "display_data"
    },
    {
     "name": "stdout",
     "output_type": "stream",
     "text": [
      "Running Random Network Regression: 200 nodes\n",
      "Running Grid Network Regression: 250 nodes\n",
      "Running Random Network Regression: 250 nodes\n",
      "Running Grid Network Regression: 299 nodes\n"
     ]
    },
    {
     "name": "stderr",
     "output_type": "stream",
     "text": [
      "2020-05-22 13:29:43,091:INFO:First current path [0, 3, 7, 11, 15, 19, 23, 27, 31, 35, 39, 43, 47, 51, 55, 59, 63, 67, 71, 75, 79, 83, 87, 91, 95, 99, 103, 107, 111, 115, 119, 123, 127, 131, 135, 138] formed at time = 0.75 s.\n"
     ]
    },
    {
     "data": {
      "application/vnd.jupyter.widget-view+json": {
       "model_id": "17317da5ad4f4b0cbe2a2694fe14e5eb",
       "version_major": 2,
       "version_minor": 0
      },
      "text/plain": [
       "HBox(children=(IntProgress(value=0, description='Running Simulation ', max=500, style=ProgressStyle(descriptio…"
      ]
     },
     "metadata": {},
     "output_type": "display_data"
    },
    {
     "name": "stdout",
     "output_type": "stream",
     "text": [
      "Running Grid Network Regression: 299 nodes\n"
     ]
    },
    {
     "name": "stderr",
     "output_type": "stream",
     "text": [
      "2020-05-22 13:29:43,439:INFO:First current path [0, 266, 232, 197, 162, 142] formed at time = 0.77 s.\n",
      "2020-05-22 13:29:43,456:INFO:First current path [0, 13, 43, 73, 103, 122] formed at time = 0.77 s.\n",
      "2020-05-22 13:29:43,535:INFO:First current path [4, 9, 90, 158] formed at time = 0.76 s.\n"
     ]
    },
    {
     "name": "stdout",
     "output_type": "stream",
     "text": [
      "Running Random Network Regression: 50 nodes\n",
      "Running Random Network Regression: 100 nodes\n"
     ]
    },
    {
     "data": {
      "application/vnd.jupyter.widget-view+json": {
       "model_id": "12a34eba8dd0401ab4bbb83e3d1a037c",
       "version_major": 2,
       "version_minor": 0
      },
      "text/plain": [
       "HBox(children=(IntProgress(value=0, description='Running Simulation ', max=500, style=ProgressStyle(descriptio…"
      ]
     },
     "metadata": {},
     "output_type": "display_data"
    },
    {
     "data": {
      "application/vnd.jupyter.widget-view+json": {
       "model_id": "57017fde53cf4e96bb6c2b0e1a98cbe7",
       "version_major": 2,
       "version_minor": 0
      },
      "text/plain": [
       "HBox(children=(IntProgress(value=0, description='Running Simulation ', max=500, style=ProgressStyle(descriptio…"
      ]
     },
     "metadata": {},
     "output_type": "display_data"
    },
    {
     "name": "stdout",
     "output_type": "stream",
     "text": [
      "Running Random Network Regression: 300 nodes\n",
      "Running Random Network Regression: 150 nodes\n"
     ]
    },
    {
     "name": "stderr",
     "output_type": "stream",
     "text": [
      "2020-05-22 13:29:44,026:INFO:First current path [84, 64, 290, 71] formed at time = 0.79 s.\n"
     ]
    },
    {
     "name": "stdout",
     "output_type": "stream",
     "text": [
      "Running Random Network Regression: 50 nodes\n",
      "Running Random Network Regression: 100 nodes\n",
      "Running Random Network Regression: 200 nodes\n",
      "Running Random Network Regression: 150 nodes\n"
     ]
    },
    {
     "name": "stderr",
     "output_type": "stream",
     "text": [
      "2020-05-22 13:29:44,460:INFO:First current path [70, 110, 267, 78, 208, 145] formed at time = 0.77 s.\n"
     ]
    },
    {
     "name": "stdout",
     "output_type": "stream",
     "text": [
      "Running Random Network Regression: 50 nodes\n",
      "Running Random Network Regression: 100 nodes\n",
      "Running Random Network Regression: 200 nodes\n",
      "Running Random Network Regression: 250 nodes\n",
      "Running Random Network Regression: 150 nodes\n",
      "Running Grid Network Regression: 50 nodes\n",
      "Running Grid Network Regression: 100 nodes\n",
      "Running Random Network Regression: 200 nodes\n",
      "Running Random Network Regression: 250 nodes\n",
      "Running Grid Network Regression: 150 nodes\n"
     ]
    },
    {
     "data": {
      "application/vnd.jupyter.widget-view+json": {
       "model_id": "93fc52c43e054fbb873594e0d726a53a",
       "version_major": 2,
       "version_minor": 0
      },
      "text/plain": [
       "HBox(children=(IntProgress(value=0, description='Running Simulation ', max=500, style=ProgressStyle(descriptio…"
      ]
     },
     "metadata": {},
     "output_type": "display_data"
    },
    {
     "name": "stderr",
     "output_type": "stream",
     "text": [
      "2020-05-22 13:29:45,478:INFO:First current path [0, 73, 2] formed at time = 0.75 s.\n"
     ]
    },
    {
     "name": "stdout",
     "output_type": "stream",
     "text": [
      "Running Random Network Regression: 50 nodes\n",
      "Running Grid Network Regression: 200 nodes\n",
      "Running Random Network Regression: 100 nodes\n"
     ]
    },
    {
     "name": "stderr",
     "output_type": "stream",
     "text": [
      "2020-05-22 13:29:45,557:INFO:First current path [0, 52, 2] formed at time = 0.75 s.\n"
     ]
    },
    {
     "name": "stdout",
     "output_type": "stream",
     "text": [
      "Running Random Network Regression: 50 nodes\n",
      "Running Random Network Regression: 300 nodes\n",
      "Running Random Network Regression: 100 nodes\n",
      "Running Random Network Regression: 250 nodes\n",
      "Running Random Network Regression: 150 nodes\n",
      "Running Random Network Regression: 150 nodes\n"
     ]
    },
    {
     "data": {
      "application/vnd.jupyter.widget-view+json": {
       "model_id": "40f5120cfb2f42998ab59499030acd38",
       "version_major": 2,
       "version_minor": 0
      },
      "text/plain": [
       "HBox(children=(IntProgress(value=0, description='Running Simulation ', max=500, style=ProgressStyle(descriptio…"
      ]
     },
     "metadata": {},
     "output_type": "display_data"
    },
    {
     "name": "stdout",
     "output_type": "stream",
     "text": [
      "Running Random Network Regression: 300 nodes\n",
      "Running Random Network Regression: 200 nodes\n",
      "Running Grid Network Regression: 250 nodes\n",
      "Running Random Network Regression: 200 nodes\n",
      "Running Random Network Regression: 279 nodes\n",
      "Running Random Network Regression: 250 nodes\n",
      "Running Random Network Regression: 250 nodes\n",
      "Running Grid Network Regression: 50 nodes\n"
     ]
    },
    {
     "name": "stderr",
     "output_type": "stream",
     "text": [
      "2020-05-22 13:29:46,880:INFO:First current path [0, 294, 287, 280, 273, 266, 259, 252, 245, 238, 231, 224, 217, 210, 203, 196, 189, 182, 175, 168, 161, 154, 149] formed at time = 0.75 s.\n"
     ]
    },
    {
     "name": "stdout",
     "output_type": "stream",
     "text": [
      "Running Grid Network Regression: 100 nodes\n",
      "Running Grid Network Regression: 300 nodes\n"
     ]
    },
    {
     "data": {
      "application/vnd.jupyter.widget-view+json": {
       "model_id": "1d0caa8531044a08a4d90fee765c6b01",
       "version_major": 2,
       "version_minor": 0
      },
      "text/plain": [
       "HBox(children=(IntProgress(value=0, description='Running Simulation ', max=500, style=ProgressStyle(descriptio…"
      ]
     },
     "metadata": {},
     "output_type": "display_data"
    },
    {
     "name": "stdout",
     "output_type": "stream",
     "text": [
      "Running Grid Network Regression: 150 nodes\n",
      "Running Grid Network Regression: 50 nodes\n"
     ]
    },
    {
     "data": {
      "application/vnd.jupyter.widget-view+json": {
       "model_id": "4e69a8ce643c4016ae44438967be9091",
       "version_major": 2,
       "version_minor": 0
      },
      "text/plain": [
       "HBox(children=(IntProgress(value=0, description='Running Simulation ', max=500, style=ProgressStyle(descriptio…"
      ]
     },
     "metadata": {},
     "output_type": "display_data"
    },
    {
     "name": "stdout",
     "output_type": "stream",
     "text": [
      "Running Grid Network Regression: 100 nodes\n"
     ]
    },
    {
     "name": "stderr",
     "output_type": "stream",
     "text": [
      "2020-05-22 13:29:47,237:INFO:First current path [0, 3, 8, 13, 18, 23, 28, 33, 38, 43, 48, 53, 58, 63, 68, 73, 78, 83, 88, 93, 98, 103, 108, 113, 118, 123, 128, 133, 138, 143, 147] formed at time = 0.76 s.\n"
     ]
    },
    {
     "name": "stdout",
     "output_type": "stream",
     "text": [
      "Running Random Network Regression: 300 nodes\n",
      "Running Grid Network Regression: 150 nodes\n",
      "Running Random Network Regression: 300 nodes\n"
     ]
    },
    {
     "data": {
      "application/vnd.jupyter.widget-view+json": {
       "model_id": "36e3433ed1694e29b49c27004a9895bb",
       "version_major": 2,
       "version_minor": 0
      },
      "text/plain": [
       "HBox(children=(IntProgress(value=0, description='Running Simulation ', max=500, style=ProgressStyle(descriptio…"
      ]
     },
     "metadata": {},
     "output_type": "display_data"
    },
    {
     "name": "stdout",
     "output_type": "stream",
     "text": [
      "Running Grid Network Regression: 200 nodes\n",
      "Running Grid Network Regression: 50 nodes\n",
      "Running Grid Network Regression: 100 nodes\n",
      "Running Grid Network Regression: 200 nodes\n",
      "Running Grid Network Regression: 150 nodes\n",
      "Running Grid Network Regression: 250 nodes\n",
      "Running Grid Network Regression: 200 nodes\n",
      "Running Grid Network Regression: 250 nodes\n"
     ]
    },
    {
     "data": {
      "application/vnd.jupyter.widget-view+json": {
       "model_id": "e3451ad7b0024904834d46758906a7e9",
       "version_major": 2,
       "version_minor": 0
      },
      "text/plain": [
       "HBox(children=(IntProgress(value=0, description='Running Simulation ', max=500, style=ProgressStyle(descriptio…"
      ]
     },
     "metadata": {},
     "output_type": "display_data"
    },
    {
     "name": "stdout",
     "output_type": "stream",
     "text": [
      "Running Grid Network Regression: 50 nodes\n",
      "Running Grid Network Regression: 50 nodes\n",
      "Running Grid Network Regression: 100 nodes\n"
     ]
    },
    {
     "name": "stderr",
     "output_type": "stream",
     "text": [
      "2020-05-22 13:29:48,445:INFO:First current path [14, 73, 134, 191, 230] formed at time = 0.76 s.\n"
     ]
    },
    {
     "name": "stdout",
     "output_type": "stream",
     "text": [
      "Running Random Network Regression: 50 nodes\n",
      "Running Grid Network Regression: 100 nodes\n",
      "Running Random Network Regression: 100 nodes\n"
     ]
    },
    {
     "name": "stderr",
     "output_type": "stream",
     "text": [
      "2020-05-22 13:29:48,547:INFO:First current path [0, 6, 16, 26, 36, 46, 56, 66, 76, 86, 96, 106, 116, 126, 136, 142] formed at time = 0.76 s.\n"
     ]
    },
    {
     "name": "stdout",
     "output_type": "stream",
     "text": [
      "Running Grid Network Regression: 150 nodes\n"
     ]
    },
    {
     "name": "stderr",
     "output_type": "stream",
     "text": [
      "2020-05-22 13:29:48,652:INFO:First current path [0, 19, 293, 205, 35] formed at time = 0.75 s.\n"
     ]
    },
    {
     "name": "stdout",
     "output_type": "stream",
     "text": [
      "Running Random Network Regression: 50 nodes\n",
      "Running Grid Network Regression: 250 nodes\n",
      "Running Grid Network Regression: 150 nodes\n",
      "Running Random Network Regression: 150 nodes\n"
     ]
    },
    {
     "data": {
      "application/vnd.jupyter.widget-view+json": {
       "model_id": "5cbbf10934034cae82e77de69c402e94",
       "version_major": 2,
       "version_minor": 0
      },
      "text/plain": [
       "HBox(children=(IntProgress(value=0, description='Running Simulation ', max=500, style=ProgressStyle(descriptio…"
      ]
     },
     "metadata": {},
     "output_type": "display_data"
    },
    {
     "name": "stdout",
     "output_type": "stream",
     "text": [
      "Running Random Network Regression: 100 nodes\n",
      "Running Grid Network Regression: 300 nodes\n",
      "Running Random Network Regression: 150 nodes\n",
      "Running Grid Network Regression: 200 nodes\n",
      "Running Grid Network Regression: 200 nodes\n",
      "Running Random Network Regression: 200 nodes\n"
     ]
    },
    {
     "data": {
      "application/vnd.jupyter.widget-view+json": {
       "model_id": "85746cbac0f54505b8422bffb1e37da7",
       "version_major": 2,
       "version_minor": 0
      },
      "text/plain": [
       "HBox(children=(IntProgress(value=0, description='Running Simulation ', max=500, style=ProgressStyle(descriptio…"
      ]
     },
     "metadata": {},
     "output_type": "display_data"
    },
    {
     "name": "stdout",
     "output_type": "stream",
     "text": [
      "Running Grid Network Regression: 300 nodes\n",
      "Running Random Network Regression: 200 nodes\n",
      "Running Grid Network Regression: 279 nodes\n",
      "Running Grid Network Regression: 250 nodes\n",
      "Running Grid Network Regression: 250 nodes\n",
      "Running Random Network Regression: 250 nodes\n",
      "Running Random Network Regression: 250 nodes\n"
     ]
    },
    {
     "name": "stderr",
     "output_type": "stream",
     "text": [
      "2020-05-22 13:29:49,783:INFO:First current path [0, 289, 277, 265, 253, 241, 229, 217, 205, 193, 181, 169, 157, 146] formed at time = 0.75 s.\n"
     ]
    },
    {
     "data": {
      "application/vnd.jupyter.widget-view+json": {
       "model_id": "5dd32cd995e54fac827c021996b533e6",
       "version_major": 2,
       "version_minor": 0
      },
      "text/plain": [
       "HBox(children=(IntProgress(value=0, description='Running Simulation ', max=500, style=ProgressStyle(descriptio…"
      ]
     },
     "metadata": {},
     "output_type": "display_data"
    },
    {
     "data": {
      "application/vnd.jupyter.widget-view+json": {
       "model_id": "b4d47b2e00464743a46ae86df343c3b3",
       "version_major": 2,
       "version_minor": 0
      },
      "text/plain": [
       "HBox(children=(IntProgress(value=0, description='Running Simulation ', max=500, style=ProgressStyle(descriptio…"
      ]
     },
     "metadata": {},
     "output_type": "display_data"
    },
    {
     "name": "stderr",
     "output_type": "stream",
     "text": [
      "2020-05-22 13:29:50,171:INFO:First current path [0, 81, 47, 8] formed at time = 0.75 s.\n"
     ]
    },
    {
     "name": "stdout",
     "output_type": "stream",
     "text": [
      "Running Random Network Regression: 50 nodes\n",
      "Running Random Network Regression: 100 nodes\n",
      "Running Grid Network Regression: 300 nodes\n",
      "Running Grid Network Regression: 300 nodes\n",
      "Running Random Network Regression: 150 nodes\n",
      "Running Random Network Regression: 299 nodes\n",
      "Running Random Network Regression: 294 nodes\n"
     ]
    },
    {
     "name": "stderr",
     "output_type": "stream",
     "text": [
      "2020-05-22 13:29:50,606:INFO:First current path [0, 8, 24, 40, 56, 72, 87, 102, 117, 132, 146] formed at time = 0.76 s.\n"
     ]
    },
    {
     "name": "stdout",
     "output_type": "stream",
     "text": [
      "Running Random Network Regression: 200 nodes\n"
     ]
    },
    {
     "data": {
      "application/vnd.jupyter.widget-view+json": {
       "model_id": "20d3aeb3dc9849cab35daed79bcb9697",
       "version_major": 2,
       "version_minor": 0
      },
      "text/plain": [
       "HBox(children=(IntProgress(value=0, description='Running Simulation ', max=500, style=ProgressStyle(descriptio…"
      ]
     },
     "metadata": {},
     "output_type": "display_data"
    },
    {
     "data": {
      "application/vnd.jupyter.widget-view+json": {
       "model_id": "5deccb49270c492d967803eff4cee02d",
       "version_major": 2,
       "version_minor": 0
      },
      "text/plain": [
       "HBox(children=(IntProgress(value=0, description='Running Simulation ', max=500, style=ProgressStyle(descriptio…"
      ]
     },
     "metadata": {},
     "output_type": "display_data"
    },
    {
     "name": "stdout",
     "output_type": "stream",
     "text": [
      "Running Random Network Regression: 250 nodes\n"
     ]
    },
    {
     "name": "stderr",
     "output_type": "stream",
     "text": [
      "2020-05-22 13:29:51,345:INFO:First current path [0, 8, 26, 44, 62, 79, 96, 113, 130, 146] formed at time = 0.76 s.\n",
      "2020-05-22 13:29:51,510:INFO:First current path [0, 40, 61, 9] formed at time = 0.75 s.\n"
     ]
    },
    {
     "name": "stdout",
     "output_type": "stream",
     "text": [
      "Running Random Network Regression: 50 nodes\n"
     ]
    },
    {
     "data": {
      "application/vnd.jupyter.widget-view+json": {
       "model_id": "260e7eccf7dd4e0d94fa915eda325ff2",
       "version_major": 2,
       "version_minor": 0
      },
      "text/plain": [
       "HBox(children=(IntProgress(value=0, description='Running Simulation ', max=500, style=ProgressStyle(descriptio…"
      ]
     },
     "metadata": {},
     "output_type": "display_data"
    },
    {
     "name": "stdout",
     "output_type": "stream",
     "text": [
      "Running Grid Network Regression: 50 nodes\n",
      "Running Random Network Regression: 100 nodes\n",
      "Running Grid Network Regression: 100 nodes\n",
      "Running Grid Network Regression: 50 nodes\n",
      "Running Grid Network Regression: 100 nodes\n",
      "Running Random Network Regression: 150 nodes\n",
      "Running Grid Network Regression: 150 nodes\n",
      "Running Grid Network Regression: 150 nodes\n",
      "Running Grid Network Regression: 200 nodes\n",
      "Running Random Network Regression: 200 nodes\n",
      "Running Random Network Regression: 300 nodes\n",
      "Running Grid Network Regression: 200 nodes\n"
     ]
    },
    {
     "name": "stderr",
     "output_type": "stream",
     "text": [
      "2020-05-22 13:29:52,440:INFO:First current path [0, 189, 81, 48] formed at time = 0.75 s.\n"
     ]
    },
    {
     "name": "stdout",
     "output_type": "stream",
     "text": [
      "Running Random Network Regression: 50 nodes\n",
      "Running Random Network Regression: 100 nodes\n"
     ]
    },
    {
     "data": {
      "application/vnd.jupyter.widget-view+json": {
       "model_id": "f7f5bbe1c80c4fc7a854c306e4e73383",
       "version_major": 2,
       "version_minor": 0
      },
      "text/plain": [
       "HBox(children=(IntProgress(value=0, description='Running Simulation ', max=500, style=ProgressStyle(descriptio…"
      ]
     },
     "metadata": {},
     "output_type": "display_data"
    },
    {
     "name": "stdout",
     "output_type": "stream",
     "text": [
      "Running Grid Network Regression: 250 nodes\n",
      "Running Random Network Regression: 250 nodes\n",
      "Running Random Network Regression: 150 nodes\n",
      "Running Grid Network Regression: 250 nodes\n"
     ]
    },
    {
     "name": "stderr",
     "output_type": "stream",
     "text": [
      "2020-05-22 13:29:52,835:INFO:First current path [0, 10, 32, 54, 75, 96, 117, 134] formed at time = 0.76 s.\n"
     ]
    },
    {
     "data": {
      "application/vnd.jupyter.widget-view+json": {
       "model_id": "6c8a686964374a1d8ad9558150aafc16",
       "version_major": 2,
       "version_minor": 0
      },
      "text/plain": [
       "HBox(children=(IntProgress(value=0, description='Running Simulation ', max=500, style=ProgressStyle(descriptio…"
      ]
     },
     "metadata": {},
     "output_type": "display_data"
    },
    {
     "name": "stdout",
     "output_type": "stream",
     "text": [
      "Running Random Network Regression: 200 nodes\n"
     ]
    },
    {
     "name": "stderr",
     "output_type": "stream",
     "text": [
      "2020-05-22 13:29:53,237:INFO:First current path [0, 26, 217, 102] formed at time = 0.76 s.\n"
     ]
    },
    {
     "name": "stdout",
     "output_type": "stream",
     "text": [
      "Running Random Network Regression: 50 nodes\n",
      "Running Grid Network Regression: 294 nodes\n",
      "Running Random Network Regression: 100 nodes\n",
      "Running Grid Network Regression: 50 nodes\n",
      "Running Grid Network Regression: 100 nodes\n",
      "Running Random Network Regression: 150 nodes\n",
      "Running Random Network Regression: 300 nodes\n",
      "Running Grid Network Regression: 150 nodes\n",
      "Running Random Network Regression: 250 nodes\n",
      "Running Grid Network Regression: 299 nodes\n",
      "Running Random Network Regression: 200 nodes\n",
      "Running Grid Network Regression: 200 nodes\n"
     ]
    },
    {
     "name": "stderr",
     "output_type": "stream",
     "text": [
      "2020-05-22 13:29:54,293:INFO:First current path [0, 14, 40, 66, 92, 118, 132] formed at time = 0.76 s.\n"
     ]
    },
    {
     "name": "stdout",
     "output_type": "stream",
     "text": [
      "Running Random Network Regression: 250 nodes\n",
      "Running Random Network Regression: 300 nodes\n"
     ]
    },
    {
     "data": {
      "application/vnd.jupyter.widget-view+json": {
       "model_id": "4a80746f3aeb4a4ba853d3a4f6ae4829",
       "version_major": 2,
       "version_minor": 0
      },
      "text/plain": [
       "HBox(children=(IntProgress(value=0, description='Running Simulation ', max=500, style=ProgressStyle(descriptio…"
      ]
     },
     "metadata": {},
     "output_type": "display_data"
    },
    {
     "data": {
      "application/vnd.jupyter.widget-view+json": {
       "model_id": "4c84a39e32f64e7cb9e020f97b887862",
       "version_major": 2,
       "version_minor": 0
      },
      "text/plain": [
       "HBox(children=(IntProgress(value=0, description='Running Simulation ', max=500, style=ProgressStyle(descriptio…"
      ]
     },
     "metadata": {},
     "output_type": "display_data"
    },
    {
     "name": "stdout",
     "output_type": "stream",
     "text": [
      "Running Grid Network Regression: 250 nodes\n",
      "Running Grid Network Regression: 50 nodes\n"
     ]
    },
    {
     "name": "stderr",
     "output_type": "stream",
     "text": [
      "2020-05-22 13:29:54,790:INFO:First current path [14, 162, 159, 54] formed at time = 0.76 s.\n"
     ]
    },
    {
     "name": "stdout",
     "output_type": "stream",
     "text": [
      "Running Random Network Regression: 50 nodes\n",
      "Running Random Network Regression: 100 nodes\n",
      "Running Grid Network Regression: 100 nodes\n",
      "Running Random Network Regression: 150 nodes\n",
      "Running Grid Network Regression: 150 nodes\n",
      "Running Random Network Regression: 300 nodes\n",
      "Running Random Network Regression: 200 nodes\n",
      "Running Grid Network Regression: 200 nodes\n",
      "Running Grid Network Regression: 300 nodes\n",
      "Running Grid Network Regression: 50 nodes\n"
     ]
    },
    {
     "data": {
      "application/vnd.jupyter.widget-view+json": {
       "model_id": "8b35438eb39e46d880aac0492af212a0",
       "version_major": 2,
       "version_minor": 0
      },
      "text/plain": [
       "HBox(children=(IntProgress(value=0, description='Running Simulation ', max=500, style=ProgressStyle(descriptio…"
      ]
     },
     "metadata": {},
     "output_type": "display_data"
    },
    {
     "name": "stdout",
     "output_type": "stream",
     "text": [
      "Running Grid Network Regression: 100 nodes\n"
     ]
    },
    {
     "data": {
      "application/vnd.jupyter.widget-view+json": {
       "model_id": "782e7c3d28664161958b9d27f377dbdb",
       "version_major": 2,
       "version_minor": 0
      },
      "text/plain": [
       "HBox(children=(IntProgress(value=0, description='Running Simulation ', max=500, style=ProgressStyle(descriptio…"
      ]
     },
     "metadata": {},
     "output_type": "display_data"
    },
    {
     "name": "stdout",
     "output_type": "stream",
     "text": [
      "Running Random Network Regression: 250 nodes\n",
      "Running Grid Network Regression: 150 nodes\n",
      "Running Grid Network Regression: 250 nodes\n"
     ]
    },
    {
     "name": "stderr",
     "output_type": "stream",
     "text": [
      "2020-05-22 13:29:56,152:INFO:First current path [0, 280, 251, 222, 193, 164, 147] formed at time = 0.76 s.\n"
     ]
    },
    {
     "name": "stdout",
     "output_type": "stream",
     "text": [
      "Running Grid Network Regression: 200 nodes\n"
     ]
    },
    {
     "name": "stderr",
     "output_type": "stream",
     "text": [
      "2020-05-22 13:29:56,375:INFO:First current path [190, 98, 99, 7] formed at time = 0.78 s.\n"
     ]
    },
    {
     "name": "stdout",
     "output_type": "stream",
     "text": [
      "Running Random Network Regression: 50 nodes\n"
     ]
    },
    {
     "data": {
      "application/vnd.jupyter.widget-view+json": {
       "model_id": "92d3af676e114550b3f4960106e5528b",
       "version_major": 2,
       "version_minor": 0
      },
      "text/plain": [
       "HBox(children=(IntProgress(value=0, description='Running Simulation ', max=500, style=ProgressStyle(descriptio…"
      ]
     },
     "metadata": {},
     "output_type": "display_data"
    },
    {
     "name": "stdout",
     "output_type": "stream",
     "text": [
      "Running Random Network Regression: 100 nodes\n",
      "Running Grid Network Regression: 50 nodes\n",
      "Running Grid Network Regression: 100 nodes\n",
      "Running Random Network Regression: 150 nodes\n",
      "Running Random Network Regression: 300 nodes\n",
      "Running Grid Network Regression: 150 nodes\n",
      "Running Grid Network Regression: 300 nodes\n",
      "Running Grid Network Regression: 250 nodes\n",
      "Running Random Network Regression: 200 nodes\n"
     ]
    },
    {
     "name": "stderr",
     "output_type": "stream",
     "text": [
      "2020-05-22 13:29:56,988:INFO:First current path [0, 278, 275, 272, 269, 266, 263, 260, 257, 254, 251, 248, 245, 242, 239, 236, 233, 230, 227, 224, 221, 218, 215, 212, 209, 206, 203, 200, 197, 194, 191, 188, 185, 182, 179, 176, 173, 170, 167, 164, 161, 158, 155, 152, 149, 146, 143, 140] formed at time = 0.75 s.\n",
      "2020-05-22 13:29:57,010:INFO:First current path [0, 3, 7, 11, 15, 19, 23, 27, 31, 35, 39, 43, 47, 51, 55, 59, 63, 67, 71, 75, 79, 83, 87, 91, 95, 99, 103, 107, 111, 115, 119, 123, 127, 131, 135, 139, 143, 146] formed at time = 0.75 s.\n"
     ]
    },
    {
     "name": "stdout",
     "output_type": "stream",
     "text": [
      "Running Grid Network Regression: 200 nodes\n"
     ]
    },
    {
     "data": {
      "application/vnd.jupyter.widget-view+json": {
       "model_id": "f1a5d5542dcc4177b9dc18634e9884b2",
       "version_major": 2,
       "version_minor": 0
      },
      "text/plain": [
       "HBox(children=(IntProgress(value=0, description='Running Simulation ', max=500, style=ProgressStyle(descriptio…"
      ]
     },
     "metadata": {},
     "output_type": "display_data"
    },
    {
     "data": {
      "application/vnd.jupyter.widget-view+json": {
       "model_id": "0919818090104153ac81abe4b096f77f",
       "version_major": 2,
       "version_minor": 0
      },
      "text/plain": [
       "HBox(children=(IntProgress(value=0, description='Running Simulation ', max=500, style=ProgressStyle(descriptio…"
      ]
     },
     "metadata": {},
     "output_type": "display_data"
    },
    {
     "data": {
      "application/vnd.jupyter.widget-view+json": {
       "model_id": "f075d3e944b247a9910334eddea1a9be",
       "version_major": 2,
       "version_minor": 0
      },
      "text/plain": [
       "HBox(children=(IntProgress(value=0, description='Running Simulation ', max=500, style=ProgressStyle(descriptio…"
      ]
     },
     "metadata": {},
     "output_type": "display_data"
    },
    {
     "name": "stdout",
     "output_type": "stream",
     "text": [
      "Running Random Network Regression: 250 nodes\n",
      "Running Grid Network Regression: 250 nodes\n",
      "Running Grid Network Regression: 300 nodes\n",
      "Running Grid Network Regression: 50 nodes\n",
      "Running Grid Network Regression: 100 nodes\n"
     ]
    },
    {
     "name": "stderr",
     "output_type": "stream",
     "text": [
      "2020-05-22 13:29:58,070:INFO:First current path [0, 39, 3] formed at time = 0.75 s.\n"
     ]
    },
    {
     "name": "stdout",
     "output_type": "stream",
     "text": [
      "Running Random Network Regression: 50 nodes\n",
      "Running Grid Network Regression: 150 nodes\n",
      "Running Random Network Regression: 100 nodes\n",
      "Running Random Network Regression: 300 nodes\n",
      "Running Random Network Regression: 150 nodes\n"
     ]
    },
    {
     "name": "stderr",
     "output_type": "stream",
     "text": [
      "2020-05-22 13:29:58,332:INFO:First current path [0, 123, 24, 232, 264, 21] formed at time = 0.75 s.\n"
     ]
    },
    {
     "name": "stdout",
     "output_type": "stream",
     "text": [
      "Running Random Network Regression: 50 nodes\n",
      "Running Random Network Regression: 100 nodes\n"
     ]
    },
    {
     "name": "stderr",
     "output_type": "stream",
     "text": [
      "2020-05-22 13:29:58,437:INFO:First current path [0, 4, 10, 16, 22, 28, 34, 40, 46, 52, 58, 64, 70, 76, 82, 88, 94, 100, 106, 112, 118, 124, 130, 136, 142, 146] formed at time = 0.75 s.\n"
     ]
    },
    {
     "name": "stdout",
     "output_type": "stream",
     "text": [
      "Running Grid Network Regression: 200 nodes\n"
     ]
    },
    {
     "name": "stderr",
     "output_type": "stream",
     "text": [
      "2020-05-22 13:29:58,484:INFO:First current path [9, 221, 193, 223, 16, 103] formed at time = 0.75 s.\n"
     ]
    },
    {
     "name": "stdout",
     "output_type": "stream",
     "text": [
      "Running Random Network Regression: 50 nodes\n",
      "Running Grid Network Regression: 300 nodes\n",
      "Running Random Network Regression: 100 nodes\n"
     ]
    },
    {
     "data": {
      "application/vnd.jupyter.widget-view+json": {
       "model_id": "cf2abb5e59cc47759739321a6f616491",
       "version_major": 2,
       "version_minor": 0
      },
      "text/plain": [
       "HBox(children=(IntProgress(value=0, description='Running Simulation ', max=500, style=ProgressStyle(descriptio…"
      ]
     },
     "metadata": {},
     "output_type": "display_data"
    },
    {
     "name": "stdout",
     "output_type": "stream",
     "text": [
      "Running Random Network Regression: 200 nodes\n",
      "Running Random Network Regression: 150 nodes\n",
      "Running Random Network Regression: 150 nodes\n",
      "Running Random Network Regression: 200 nodes\n",
      "Running Grid Network Regression: 250 nodes\n",
      "Running Random Network Regression: 250 nodes\n",
      "Running Random Network Regression: 200 nodes\n",
      "Running Grid Network Regression: 50 nodes\n",
      "Running Grid Network Regression: 100 nodes\n",
      "Running Random Network Regression: 250 nodes\n",
      "Running Random Network Regression: 250 nodes\n",
      "Running Grid Network Regression: 150 nodes\n",
      "Running Random Network Regression: 300 nodes\n",
      "Running Grid Network Regression: 300 nodes\n"
     ]
    },
    {
     "name": "stderr",
     "output_type": "stream",
     "text": [
      "2020-05-22 13:29:59,929:INFO:First current path [4, 109, 188, 135, 174] formed at time = 0.75 s.\n"
     ]
    },
    {
     "name": "stdout",
     "output_type": "stream",
     "text": [
      "Running Random Network Regression: 50 nodes\n",
      "Running Random Network Regression: 100 nodes\n",
      "Running Grid Network Regression: 200 nodes\n",
      "Running Random Network Regression: 150 nodes\n",
      "Running Random Network Regression: 281 nodes\n"
     ]
    },
    {
     "data": {
      "application/vnd.jupyter.widget-view+json": {
       "model_id": "082e990572ca4e4baf4a45ff055ff139",
       "version_major": 2,
       "version_minor": 0
      },
      "text/plain": [
       "HBox(children=(IntProgress(value=0, description='Running Simulation ', max=500, style=ProgressStyle(descriptio…"
      ]
     },
     "metadata": {},
     "output_type": "display_data"
    },
    {
     "name": "stdout",
     "output_type": "stream",
     "text": [
      "Running Random Network Regression: 295 nodes\n",
      "Running Random Network Regression: 200 nodes\n",
      "Running Grid Network Regression: 250 nodes\n",
      "Running Grid Network Regression: 50 nodes\n"
     ]
    },
    {
     "data": {
      "application/vnd.jupyter.widget-view+json": {
       "model_id": "d55bb13a6ccb4726aa59ee5de2f10435",
       "version_major": 2,
       "version_minor": 0
      },
      "text/plain": [
       "HBox(children=(IntProgress(value=0, description='Running Simulation ', max=500, style=ProgressStyle(descriptio…"
      ]
     },
     "metadata": {},
     "output_type": "display_data"
    },
    {
     "name": "stdout",
     "output_type": "stream",
     "text": [
      "Running Grid Network Regression: 100 nodes\n",
      "Running Grid Network Regression: 150 nodes\n",
      "Running Random Network Regression: 250 nodes\n",
      "Running Grid Network Regression: 50 nodes\n",
      "Running Grid Network Regression: 100 nodes\n",
      "Running Grid Network Regression: 300 nodes\n",
      "Running Grid Network Regression: 200 nodes\n",
      "Running Grid Network Regression: 150 nodes\n",
      "Running Grid Network Regression: 50 nodes\n",
      "Running Grid Network Regression: 100 nodes\n"
     ]
    },
    {
     "name": "stderr",
     "output_type": "stream",
     "text": [
      "2020-05-22 13:30:01,859:INFO:First current path [0, 290, 281, 272, 263, 254, 245, 236, 227, 218, 209, 200, 191, 182, 173, 164, 155, 146] formed at time = 0.75 s.\n"
     ]
    },
    {
     "name": "stdout",
     "output_type": "stream",
     "text": [
      "Running Grid Network Regression: 150 nodes\n",
      "Running Grid Network Regression: 200 nodes\n",
      "Running Random Network Regression: 298 nodes\n",
      "Running Grid Network Regression: 250 nodes\n"
     ]
    },
    {
     "data": {
      "application/vnd.jupyter.widget-view+json": {
       "model_id": "042bbdd572a642d89ad3fdebf715cdaf",
       "version_major": 2,
       "version_minor": 0
      },
      "text/plain": [
       "HBox(children=(IntProgress(value=0, description='Running Simulation ', max=500, style=ProgressStyle(descriptio…"
      ]
     },
     "metadata": {},
     "output_type": "display_data"
    },
    {
     "name": "stdout",
     "output_type": "stream",
     "text": [
      "Running Grid Network Regression: 200 nodes\n"
     ]
    },
    {
     "name": "stderr",
     "output_type": "stream",
     "text": [
      "2020-05-22 13:30:02,339:INFO:First current path [0, 6, 16, 26, 36, 46, 56, 66, 76, 86, 96, 106, 116, 126, 136, 142] formed at time = 0.76 s.\n"
     ]
    },
    {
     "name": "stdout",
     "output_type": "stream",
     "text": [
      "Running Grid Network Regression: 250 nodes\n"
     ]
    },
    {
     "data": {
      "application/vnd.jupyter.widget-view+json": {
       "model_id": "d9546d257680499292f2daeb436eb11d",
       "version_major": 2,
       "version_minor": 0
      },
      "text/plain": [
       "HBox(children=(IntProgress(value=0, description='Running Simulation ', max=500, style=ProgressStyle(descriptio…"
      ]
     },
     "metadata": {},
     "output_type": "display_data"
    },
    {
     "name": "stdout",
     "output_type": "stream",
     "text": [
      "Running Grid Network Regression: 250 nodes\n"
     ]
    },
    {
     "data": {
      "application/vnd.jupyter.widget-view+json": {
       "model_id": "3df64bd30639457d81aa6afa5ece3ba2",
       "version_major": 2,
       "version_minor": 0
      },
      "text/plain": [
       "HBox(children=(IntProgress(value=0, description='Running Simulation ', max=500, style=ProgressStyle(descriptio…"
      ]
     },
     "metadata": {},
     "output_type": "display_data"
    },
    {
     "name": "stdout",
     "output_type": "stream",
     "text": [
      "Running Grid Network Regression: 300 nodes\n",
      "Running Grid Network Regression: 50 nodes\n",
      "Running Grid Network Regression: 281 nodes\n",
      "Running Grid Network Regression: 100 nodes\n",
      "Running Grid Network Regression: 150 nodes\n"
     ]
    },
    {
     "name": "stderr",
     "output_type": "stream",
     "text": [
      "2020-05-22 13:30:03,530:INFO:First current path [0, 18, 179, 3] formed at time = 0.75 s.\n"
     ]
    },
    {
     "name": "stdout",
     "output_type": "stream",
     "text": [
      "Running Random Network Regression: 50 nodes\n",
      "Running Random Network Regression: 100 nodes\n",
      "Running Grid Network Regression: 295 nodes\n",
      "Running Random Network Regression: 150 nodes\n",
      "Running Grid Network Regression: 200 nodes\n"
     ]
    },
    {
     "name": "stderr",
     "output_type": "stream",
     "text": [
      "2020-05-22 13:30:04,008:INFO:First current path [0, 25, 256, 6] formed at time = 0.75 s.\n"
     ]
    },
    {
     "name": "stdout",
     "output_type": "stream",
     "text": [
      "Running Random Network Regression: 50 nodes\n",
      "Running Random Network Regression: 100 nodes\n",
      "Running Random Network Regression: 200 nodes\n",
      "Running Random Network Regression: 150 nodes\n"
     ]
    },
    {
     "name": "stderr",
     "output_type": "stream",
     "text": [
      "2020-05-22 13:30:04,285:INFO:First current path [0, 7, 20, 33, 46, 59, 72, 85, 98, 111, 124, 137, 145] formed at time = 0.76 s.\n"
     ]
    },
    {
     "data": {
      "application/vnd.jupyter.widget-view+json": {
       "model_id": "655f9a28bbc34eda91a92c538c5ef27e",
       "version_major": 2,
       "version_minor": 0
      },
      "text/plain": [
       "HBox(children=(IntProgress(value=0, description='Running Simulation ', max=500, style=ProgressStyle(descriptio…"
      ]
     },
     "metadata": {},
     "output_type": "display_data"
    },
    {
     "name": "stdout",
     "output_type": "stream",
     "text": [
      "Running Grid Network Regression: 250 nodes\n"
     ]
    },
    {
     "data": {
      "application/vnd.jupyter.widget-view+json": {
       "model_id": "8c939a2be81d47e6bd074937ef614aee",
       "version_major": 2,
       "version_minor": 0
      },
      "text/plain": [
       "HBox(children=(IntProgress(value=0, description='Running Simulation ', max=500, style=ProgressStyle(descriptio…"
      ]
     },
     "metadata": {},
     "output_type": "display_data"
    },
    {
     "name": "stdout",
     "output_type": "stream",
     "text": [
      "Running Random Network Regression: 200 nodes\n",
      "Running Random Network Regression: 250 nodes\n"
     ]
    },
    {
     "data": {
      "application/vnd.jupyter.widget-view+json": {
       "model_id": "bafa350dd3e440d7ac54b75bf177f7d8",
       "version_major": 2,
       "version_minor": 0
      },
      "text/plain": [
       "HBox(children=(IntProgress(value=0, description='Running Simulation ', max=500, style=ProgressStyle(descriptio…"
      ]
     },
     "metadata": {},
     "output_type": "display_data"
    },
    {
     "name": "stdout",
     "output_type": "stream",
     "text": [
      "Running Grid Network Regression: 298 nodes\n",
      "Running Random Network Regression: 250 nodes\n",
      "Running Random Network Regression: 299 nodes\n",
      "Running Random Network Regression: 300 nodes\n",
      "Running Grid Network Regression: 50 nodes\n",
      "Running Grid Network Regression: 100 nodes\n"
     ]
    },
    {
     "data": {
      "application/vnd.jupyter.widget-view+json": {
       "model_id": "d202159778f54e67b5c35e8a73ffae19",
       "version_major": 2,
       "version_minor": 0
      },
      "text/plain": [
       "HBox(children=(IntProgress(value=0, description='Running Simulation ', max=500, style=ProgressStyle(descriptio…"
      ]
     },
     "metadata": {},
     "output_type": "display_data"
    },
    {
     "name": "stdout",
     "output_type": "stream",
     "text": [
      "Running Grid Network Regression: 150 nodes\n",
      "Running Grid Network Regression: 50 nodes\n",
      "Running Grid Network Regression: 100 nodes\n",
      "Running Grid Network Regression: 200 nodes\n",
      "Running Grid Network Regression: 150 nodes\n"
     ]
    },
    {
     "name": "stderr",
     "output_type": "stream",
     "text": [
      "2020-05-22 13:30:07,341:INFO:First current path [0, 8, 24, 40, 56, 72, 87, 102, 117, 132, 146] formed at time = 0.76 s.\n",
      "2020-05-22 13:30:07,470:INFO:First current path [0, 36, 259, 10] formed at time = 0.75 s.\n"
     ]
    },
    {
     "name": "stdout",
     "output_type": "stream",
     "text": [
      "Running Random Network Regression: 50 nodes\n"
     ]
    },
    {
     "data": {
      "application/vnd.jupyter.widget-view+json": {
       "model_id": "1626935a8e054dc38f9c00cd8b36ec52",
       "version_major": 2,
       "version_minor": 0
      },
      "text/plain": [
       "HBox(children=(IntProgress(value=0, description='Running Simulation ', max=500, style=ProgressStyle(descriptio…"
      ]
     },
     "metadata": {},
     "output_type": "display_data"
    },
    {
     "name": "stdout",
     "output_type": "stream",
     "text": [
      "Running Random Network Regression: 100 nodes\n",
      "Running Grid Network Regression: 200 nodes\n",
      "Running Random Network Regression: 150 nodes\n",
      "Running Grid Network Regression: 250 nodes\n"
     ]
    },
    {
     "name": "stderr",
     "output_type": "stream",
     "text": [
      "2020-05-22 13:30:07,884:INFO:First current path [0, 9, 28, 47, 65, 83, 101, 119, 135] formed at time = 0.76 s.\n"
     ]
    },
    {
     "name": "stdout",
     "output_type": "stream",
     "text": [
      "Running Random Network Regression: 200 nodes\n"
     ]
    },
    {
     "data": {
      "application/vnd.jupyter.widget-view+json": {
       "model_id": "0042ec9ed5fb450a9abfd09adc7846a0",
       "version_major": 2,
       "version_minor": 0
      },
      "text/plain": [
       "HBox(children=(IntProgress(value=0, description='Running Simulation ', max=500, style=ProgressStyle(descriptio…"
      ]
     },
     "metadata": {},
     "output_type": "display_data"
    },
    {
     "data": {
      "application/vnd.jupyter.widget-view+json": {
       "model_id": "1c555e736d1345f0842560f497d48959",
       "version_major": 2,
       "version_minor": 0
      },
      "text/plain": [
       "HBox(children=(IntProgress(value=0, description='Running Simulation ', max=500, style=ProgressStyle(descriptio…"
      ]
     },
     "metadata": {},
     "output_type": "display_data"
    },
    {
     "name": "stdout",
     "output_type": "stream",
     "text": [
      "Running Grid Network Regression: 250 nodes\n"
     ]
    },
    {
     "name": "stderr",
     "output_type": "stream",
     "text": [
      "2020-05-22 13:30:08,428:INFO:First current path [0, 10, 32, 54, 75, 96, 117, 134] formed at time = 0.76 s.\n"
     ]
    },
    {
     "name": "stdout",
     "output_type": "stream",
     "text": [
      "Running Grid Network Regression: 299 nodes\n",
      "Running Random Network Regression: 250 nodes\n"
     ]
    },
    {
     "data": {
      "application/vnd.jupyter.widget-view+json": {
       "model_id": "6292e10c4def45b79710d5289b51ccd8",
       "version_major": 2,
       "version_minor": 0
      },
      "text/plain": [
       "HBox(children=(IntProgress(value=0, description='Running Simulation ', max=500, style=ProgressStyle(descriptio…"
      ]
     },
     "metadata": {},
     "output_type": "display_data"
    },
    {
     "data": {
      "application/vnd.jupyter.widget-view+json": {
       "model_id": "3027ac5ad4934e71b94978fdc14e5f57",
       "version_major": 2,
       "version_minor": 0
      },
      "text/plain": [
       "HBox(children=(IntProgress(value=0, description='Running Simulation ', max=500, style=ProgressStyle(descriptio…"
      ]
     },
     "metadata": {},
     "output_type": "display_data"
    },
    {
     "name": "stdout",
     "output_type": "stream",
     "text": [
      "Running Grid Network Regression: 300 nodes\n"
     ]
    },
    {
     "name": "stderr",
     "output_type": "stream",
     "text": [
      "2020-05-22 13:30:09,137:INFO:First current path [0, 195, 225, 40] formed at time = 0.75 s.\n"
     ]
    },
    {
     "name": "stdout",
     "output_type": "stream",
     "text": [
      "Running Random Network Regression: 50 nodes\n",
      "Running Random Network Regression: 100 nodes\n",
      "Running Random Network Regression: 300 nodes\n",
      "Running Random Network Regression: 150 nodes\n"
     ]
    },
    {
     "name": "stderr",
     "output_type": "stream",
     "text": [
      "2020-05-22 13:30:09,663:INFO:First current path [1, 0, 276, 274, 272, 270, 268, 266, 264, 262, 260, 258, 256, 254, 252, 250, 248, 246, 244, 242, 240, 238, 236, 234, 232, 230, 228, 226, 224, 222, 220, 218, 216, 214, 212, 210, 208, 206, 204, 202, 200, 198, 196, 194, 192, 190, 188, 186, 184, 182, 180, 178, 176, 174, 172, 170, 168, 166, 164, 162, 160, 158, 156, 154, 152, 150, 148, 146, 144, 142, 140] formed at time = 0.76 s.\n",
      "2020-05-22 13:30:09,693:INFO:First current path [0, 11, 35, 59, 82, 105, 128, 146] formed at time = 0.76 s.\n"
     ]
    },
    {
     "name": "stdout",
     "output_type": "stream",
     "text": [
      "Running Random Network Regression: 200 nodes\n"
     ]
    },
    {
     "name": "stderr",
     "output_type": "stream",
     "text": [
      "2020-05-22 13:30:09,774:INFO:First current path [0, 8, 100, 66] formed at time = 0.76 s.\n"
     ]
    },
    {
     "name": "stdout",
     "output_type": "stream",
     "text": [
      "Running Random Network Regression: 50 nodes\n"
     ]
    },
    {
     "data": {
      "application/vnd.jupyter.widget-view+json": {
       "model_id": "25bad3323c8b4e8b95193b2a8a1b3166",
       "version_major": 2,
       "version_minor": 0
      },
      "text/plain": [
       "HBox(children=(IntProgress(value=0, description='Running Simulation ', max=500, style=ProgressStyle(descriptio…"
      ]
     },
     "metadata": {},
     "output_type": "display_data"
    },
    {
     "data": {
      "application/vnd.jupyter.widget-view+json": {
       "model_id": "14979008191944f8a17ae164619c46ad",
       "version_major": 2,
       "version_minor": 0
      },
      "text/plain": [
       "HBox(children=(IntProgress(value=0, description='Running Simulation ', max=500, style=ProgressStyle(descriptio…"
      ]
     },
     "metadata": {},
     "output_type": "display_data"
    },
    {
     "name": "stdout",
     "output_type": "stream",
     "text": [
      "Running Random Network Regression: 100 nodes\n"
     ]
    },
    {
     "data": {
      "application/vnd.jupyter.widget-view+json": {
       "model_id": "d2398f85b0824854abff61b9acf2b117",
       "version_major": 2,
       "version_minor": 0
      },
      "text/plain": [
       "HBox(children=(IntProgress(value=0, description='Running Simulation ', max=500, style=ProgressStyle(descriptio…"
      ]
     },
     "metadata": {},
     "output_type": "display_data"
    },
    {
     "name": "stdout",
     "output_type": "stream",
     "text": [
      "Running Random Network Regression: 150 nodes\n",
      "Running Random Network Regression: 250 nodes\n",
      "Running Random Network Regression: 200 nodes\n"
     ]
    },
    {
     "name": "stderr",
     "output_type": "stream",
     "text": [
      "2020-05-22 13:30:10,420:INFO:First current path [19, 181, 76, 102] formed at time = 0.76 s.\n"
     ]
    },
    {
     "name": "stdout",
     "output_type": "stream",
     "text": [
      "Running Random Network Regression: 50 nodes\n",
      "Running Random Network Regression: 100 nodes\n",
      "Running Grid Network Regression: 50 nodes\n",
      "Running Grid Network Regression: 100 nodes\n",
      "Running Random Network Regression: 150 nodes\n",
      "Running Grid Network Regression: 150 nodes\n"
     ]
    },
    {
     "name": "stderr",
     "output_type": "stream",
     "text": [
      "2020-05-22 13:30:10,916:INFO:First current path [0, 43, 135, 59, 44, 5, 173, 11] formed at time = 0.76 s.\n"
     ]
    },
    {
     "name": "stdout",
     "output_type": "stream",
     "text": [
      "Running Random Network Regression: 50 nodes\n",
      "Running Random Network Regression: 250 nodes\n",
      "Running Random Network Regression: 100 nodes\n",
      "Running Random Network Regression: 200 nodes\n",
      "Running Grid Network Regression: 200 nodes\n"
     ]
    },
    {
     "name": "stderr",
     "output_type": "stream",
     "text": [
      "2020-05-22 13:30:11,186:INFO:First current path [0, 3, 7, 11, 15, 19, 23, 27, 31, 35, 39, 43, 47, 51, 55, 59, 63, 67, 71, 75, 79, 83, 87, 91, 95, 99, 103, 107, 111, 115, 119, 123, 127, 131, 135, 139, 143, 146] formed at time = 0.75 s.\n"
     ]
    },
    {
     "name": "stdout",
     "output_type": "stream",
     "text": [
      "Running Random Network Regression: 150 nodes\n",
      "Running Random Network Regression: 300 nodes\n"
     ]
    },
    {
     "data": {
      "application/vnd.jupyter.widget-view+json": {
       "model_id": "9c09fb5168524d5abc6b22548ca29044",
       "version_major": 2,
       "version_minor": 0
      },
      "text/plain": [
       "HBox(children=(IntProgress(value=0, description='Running Simulation ', max=500, style=ProgressStyle(descriptio…"
      ]
     },
     "metadata": {},
     "output_type": "display_data"
    },
    {
     "name": "stdout",
     "output_type": "stream",
     "text": [
      "Running Random Network Regression: 250 nodes\n",
      "Running Random Network Regression: 200 nodes\n"
     ]
    },
    {
     "name": "stderr",
     "output_type": "stream",
     "text": [
      "2020-05-22 13:30:11,669:INFO:First current path [27, 135, 244, 107] formed at time = 0.76 s.\n"
     ]
    },
    {
     "name": "stdout",
     "output_type": "stream",
     "text": [
      "Running Random Network Regression: 50 nodes\n",
      "Running Grid Network Regression: 250 nodes\n",
      "Running Random Network Regression: 100 nodes\n",
      "Running Random Network Regression: 300 nodes\n",
      "Running Random Network Regression: 150 nodes\n",
      "Running Random Network Regression: 250 nodes\n",
      "Running Random Network Regression: 200 nodes\n"
     ]
    },
    {
     "data": {
      "application/vnd.jupyter.widget-view+json": {
       "model_id": "868686994b694df5b959460e2b49856c",
       "version_major": 2,
       "version_minor": 0
      },
      "text/plain": [
       "HBox(children=(IntProgress(value=0, description='Running Simulation ', max=500, style=ProgressStyle(descriptio…"
      ]
     },
     "metadata": {},
     "output_type": "display_data"
    },
    {
     "name": "stdout",
     "output_type": "stream",
     "text": [
      "Running Random Network Regression: 300 nodes\n",
      "Running Grid Network Regression: 50 nodes\n",
      "Running Grid Network Regression: 100 nodes\n",
      "Running Grid Network Regression: 300 nodes\n"
     ]
    },
    {
     "name": "stderr",
     "output_type": "stream",
     "text": [
      "2020-05-22 13:30:12,764:INFO:First current path [41, 109, 190, 99, 114, 259] formed at time = 0.77 s.\n"
     ]
    },
    {
     "name": "stdout",
     "output_type": "stream",
     "text": [
      "Running Random Network Regression: 50 nodes\n",
      "Running Grid Network Regression: 150 nodes\n",
      "Running Random Network Regression: 250 nodes\n",
      "Running Random Network Regression: 100 nodes\n",
      "Running Random Network Regression: 278 nodes\n",
      "Running Grid Network Regression: 50 nodes\n",
      "Running Random Network Regression: 150 nodes\n",
      "Running Grid Network Regression: 100 nodes\n",
      "Running Grid Network Regression: 200 nodes\n",
      "Running Grid Network Regression: 150 nodes\n",
      "Running Random Network Regression: 200 nodes\n",
      "Running Grid Network Regression: 50 nodes\n",
      "Running Random Network Regression: 300 nodes\n",
      "Running Grid Network Regression: 100 nodes\n",
      "Running Grid Network Regression: 200 nodes\n"
     ]
    },
    {
     "name": "stderr",
     "output_type": "stream",
     "text": [
      "2020-05-22 13:30:13,738:INFO:First current path [1, 5, 12, 19, 26, 33, 40, 47, 54, 61, 68, 75, 82, 89, 96, 103, 110, 117, 124, 131, 138, 145, 149] formed at time = 0.76 s.\n"
     ]
    },
    {
     "name": "stdout",
     "output_type": "stream",
     "text": [
      "Running Grid Network Regression: 250 nodes\n",
      "Running Grid Network Regression: 150 nodes\n"
     ]
    },
    {
     "data": {
      "application/vnd.jupyter.widget-view+json": {
       "model_id": "18e6ae1f1be94422aaf1f8ef4f5edbe2",
       "version_major": 2,
       "version_minor": 0
      },
      "text/plain": [
       "HBox(children=(IntProgress(value=0, description='Running Simulation ', max=500, style=ProgressStyle(descriptio…"
      ]
     },
     "metadata": {},
     "output_type": "display_data"
    },
    {
     "name": "stdout",
     "output_type": "stream",
     "text": [
      "Running Random Network Regression: 250 nodes\n",
      "Running Grid Network Regression: 50 nodes\n",
      "Running Grid Network Regression: 100 nodes\n",
      "Running Grid Network Regression: 200 nodes\n"
     ]
    },
    {
     "data": {
      "application/vnd.jupyter.widget-view+json": {
       "model_id": "66d4f75f74d0458580f7365d4ac9fd63",
       "version_major": 2,
       "version_minor": 0
      },
      "text/plain": [
       "HBox(children=(IntProgress(value=0, description='Running Simulation ', max=500, style=ProgressStyle(descriptio…"
      ]
     },
     "metadata": {},
     "output_type": "display_data"
    },
    {
     "name": "stdout",
     "output_type": "stream",
     "text": [
      "Running Grid Network Regression: 250 nodes\n",
      "Running Grid Network Regression: 150 nodes\n",
      "Running Grid Network Regression: 200 nodes\n",
      "Running Grid Network Regression: 300 nodes\n",
      "Running Random Network Regression: 293 nodes\n",
      "Running Grid Network Regression: 250 nodes\n",
      "Running Grid Network Regression: 50 nodes\n",
      "Running Grid Network Regression: 100 nodes\n"
     ]
    },
    {
     "data": {
      "application/vnd.jupyter.widget-view+json": {
       "model_id": "4c186e80008b474da7deed04e551536f",
       "version_major": 2,
       "version_minor": 0
      },
      "text/plain": [
       "HBox(children=(IntProgress(value=0, description='Running Simulation ', max=500, style=ProgressStyle(descriptio…"
      ]
     },
     "metadata": {},
     "output_type": "display_data"
    },
    {
     "name": "stdout",
     "output_type": "stream",
     "text": [
      "Running Grid Network Regression: 250 nodes\n",
      "Running Grid Network Regression: 150 nodes\n",
      "Running Grid Network Regression: 300 nodes\n"
     ]
    },
    {
     "name": "stderr",
     "output_type": "stream",
     "text": [
      "2020-05-22 13:30:15,227:INFO:First current path [48, 7, 127, 34, 175] formed at time = 0.77 s.\n"
     ]
    },
    {
     "name": "stdout",
     "output_type": "stream",
     "text": [
      "Running Random Network Regression: 50 nodes\n"
     ]
    },
    {
     "data": {
      "application/vnd.jupyter.widget-view+json": {
       "model_id": "f2aed0670e2b42438058f4d5b02abef7",
       "version_major": 2,
       "version_minor": 0
      },
      "text/plain": [
       "HBox(children=(IntProgress(value=0, description='Running Simulation ', max=500, style=ProgressStyle(descriptio…"
      ]
     },
     "metadata": {},
     "output_type": "display_data"
    },
    {
     "name": "stdout",
     "output_type": "stream",
     "text": [
      "Running Random Network Regression: 100 nodes\n",
      "Running Grid Network Regression: 200 nodes\n"
     ]
    },
    {
     "name": "stderr",
     "output_type": "stream",
     "text": [
      "2020-05-22 13:30:15,473:INFO:First current path [0, 3, 8, 13, 18, 23, 28, 33, 38, 43, 48, 53, 58, 63, 68, 73, 78, 83, 88, 93, 98, 103, 108, 113, 118, 123, 128, 133, 138, 143, 147] formed at time = 0.76 s.\n"
     ]
    },
    {
     "name": "stdout",
     "output_type": "stream",
     "text": [
      "Running Random Network Regression: 150 nodes\n",
      "Running Grid Network Regression: 300 nodes\n"
     ]
    },
    {
     "data": {
      "application/vnd.jupyter.widget-view+json": {
       "model_id": "b637d7e2a12a48e689941163cc57e134",
       "version_major": 2,
       "version_minor": 0
      },
      "text/plain": [
       "HBox(children=(IntProgress(value=0, description='Running Simulation ', max=500, style=ProgressStyle(descriptio…"
      ]
     },
     "metadata": {},
     "output_type": "display_data"
    },
    {
     "name": "stdout",
     "output_type": "stream",
     "text": [
      "Running Grid Network Regression: 278 nodes\n",
      "Running Grid Network Regression: 50 nodes\n",
      "Running Random Network Regression: 200 nodes\n",
      "Running Grid Network Regression: 100 nodes\n",
      "Running Grid Network Regression: 250 nodes\n",
      "Running Grid Network Regression: 150 nodes\n",
      "Running Grid Network Regression: 200 nodes\n"
     ]
    },
    {
     "data": {
      "application/vnd.jupyter.widget-view+json": {
       "model_id": "ae4e1cfc4afe40cb9d806848b44bcc28",
       "version_major": 2,
       "version_minor": 0
      },
      "text/plain": [
       "HBox(children=(IntProgress(value=0, description='Running Simulation ', max=500, style=ProgressStyle(descriptio…"
      ]
     },
     "metadata": {},
     "output_type": "display_data"
    },
    {
     "name": "stderr",
     "output_type": "stream",
     "text": [
      "2020-05-22 13:30:16,405:INFO:First current path [0, 288, 277, 266, 255, 244, 233, 222, 211, 200, 189, 178, 167, 156, 145] formed at time = 0.75 s.\n"
     ]
    },
    {
     "name": "stdout",
     "output_type": "stream",
     "text": [
      "Running Random Network Regression: 250 nodes\n"
     ]
    },
    {
     "data": {
      "application/vnd.jupyter.widget-view+json": {
       "model_id": "7c66a5c3f2f74743b55f0558fc2d1b31",
       "version_major": 2,
       "version_minor": 0
      },
      "text/plain": [
       "HBox(children=(IntProgress(value=0, description='Running Simulation ', max=500, style=ProgressStyle(descriptio…"
      ]
     },
     "metadata": {},
     "output_type": "display_data"
    },
    {
     "name": "stderr",
     "output_type": "stream",
     "text": [
      "2020-05-22 13:30:16,645:INFO:First current path [0, 5, 14, 23, 32, 41, 50, 59, 68, 77, 86, 95, 104, 113, 122, 131, 140, 146] formed at time = 0.76 s.\n"
     ]
    },
    {
     "name": "stdout",
     "output_type": "stream",
     "text": [
      "Running Grid Network Regression: 300 nodes\n"
     ]
    },
    {
     "data": {
      "application/vnd.jupyter.widget-view+json": {
       "model_id": "cdd5c18a91a7445ba832f27affc010f5",
       "version_major": 2,
       "version_minor": 0
      },
      "text/plain": [
       "HBox(children=(IntProgress(value=0, description='Running Simulation ', max=500, style=ProgressStyle(descriptio…"
      ]
     },
     "metadata": {},
     "output_type": "display_data"
    },
    {
     "name": "stdout",
     "output_type": "stream",
     "text": [
      "Running Grid Network Regression: 250 nodes\n"
     ]
    },
    {
     "name": "stderr",
     "output_type": "stream",
     "text": [
      "2020-05-22 13:30:16,912:INFO:First current path [0, 17, 131, 191, 30] formed at time = 0.75 s.\n"
     ]
    },
    {
     "name": "stdout",
     "output_type": "stream",
     "text": [
      "Running Random Network Regression: 50 nodes\n",
      "Running Random Network Regression: 100 nodes\n",
      "Running Random Network Regression: 150 nodes\n"
     ]
    },
    {
     "data": {
      "application/vnd.jupyter.widget-view+json": {
       "model_id": "1046ba4d0e014319a57d13f36c06dffb",
       "version_major": 2,
       "version_minor": 0
      },
      "text/plain": [
       "HBox(children=(IntProgress(value=0, description='Running Simulation ', max=500, style=ProgressStyle(descriptio…"
      ]
     },
     "metadata": {},
     "output_type": "display_data"
    },
    {
     "name": "stdout",
     "output_type": "stream",
     "text": [
      "Running Random Network Regression: 296 nodes\n",
      "Running Random Network Regression: 200 nodes\n",
      "Running Grid Network Regression: 293 nodes\n"
     ]
    },
    {
     "name": "stderr",
     "output_type": "stream",
     "text": [
      "2020-05-22 13:30:17,831:INFO:First current path [0, 7, 21, 35, 49, 63, 77, 91, 105, 118, 131, 142] formed at time = 0.76 s.\n"
     ]
    },
    {
     "data": {
      "application/vnd.jupyter.widget-view+json": {
       "model_id": "9f257d192d5f4ed9929b8873635f8453",
       "version_major": 2,
       "version_minor": 0
      },
      "text/plain": [
       "HBox(children=(IntProgress(value=0, description='Running Simulation ', max=500, style=ProgressStyle(descriptio…"
      ]
     },
     "metadata": {},
     "output_type": "display_data"
    },
    {
     "name": "stderr",
     "output_type": "stream",
     "text": [
      "2020-05-22 13:30:18,056:INFO:First current path [0, 19, 266, 9] formed at time = 0.75 s.\n"
     ]
    },
    {
     "name": "stdout",
     "output_type": "stream",
     "text": [
      "Running Random Network Regression: 50 nodes\n",
      "Running Random Network Regression: 250 nodes\n",
      "Running Random Network Regression: 100 nodes\n"
     ]
    },
    {
     "name": "stderr",
     "output_type": "stream",
     "text": [
      "2020-05-22 13:30:18,206:INFO:First current path [0, 31, 270, 3] formed at time = 0.75 s.\n"
     ]
    },
    {
     "name": "stdout",
     "output_type": "stream",
     "text": [
      "Running Random Network Regression: 50 nodes\n",
      "Running Random Network Regression: 100 nodes\n",
      "Running Random Network Regression: 150 nodes\n",
      "Running Random Network Regression: 150 nodes\n",
      "Running Grid Network Regression: 50 nodes\n",
      "Running Grid Network Regression: 100 nodes\n",
      "Running Random Network Regression: 200 nodes\n"
     ]
    },
    {
     "name": "stderr",
     "output_type": "stream",
     "text": [
      "2020-05-22 13:30:18,813:INFO:First current path [0, 8, 24, 40, 56, 72, 87, 102, 117, 132, 146] formed at time = 0.76 s.\n"
     ]
    },
    {
     "name": "stdout",
     "output_type": "stream",
     "text": [
      "Running Random Network Regression: 200 nodes\n",
      "Running Grid Network Regression: 150 nodes\n",
      "Running Random Network Regression: 294 nodes\n"
     ]
    },
    {
     "data": {
      "application/vnd.jupyter.widget-view+json": {
       "model_id": "62562468065e465691cf63d9fcef3cca",
       "version_major": 2,
       "version_minor": 0
      },
      "text/plain": [
       "HBox(children=(IntProgress(value=0, description='Running Simulation ', max=500, style=ProgressStyle(descriptio…"
      ]
     },
     "metadata": {},
     "output_type": "display_data"
    },
    {
     "name": "stdout",
     "output_type": "stream",
     "text": [
      "Running Grid Network Regression: 200 nodes\n",
      "Running Random Network Regression: 250 nodes\n"
     ]
    },
    {
     "data": {
      "application/vnd.jupyter.widget-view+json": {
       "model_id": "ea956ab7d77f40f38476db492bb606e4",
       "version_major": 2,
       "version_minor": 0
      },
      "text/plain": [
       "HBox(children=(IntProgress(value=0, description='Running Simulation ', max=500, style=ProgressStyle(descriptio…"
      ]
     },
     "metadata": {},
     "output_type": "display_data"
    },
    {
     "name": "stdout",
     "output_type": "stream",
     "text": [
      "Running Random Network Regression: 250 nodes\n"
     ]
    },
    {
     "name": "stderr",
     "output_type": "stream",
     "text": [
      "2020-05-22 13:30:19,618:INFO:First current path [0, 181, 292, 12] formed at time = 0.75 s.\n"
     ]
    },
    {
     "name": "stdout",
     "output_type": "stream",
     "text": [
      "Running Random Network Regression: 50 nodes\n",
      "Running Random Network Regression: 100 nodes\n",
      "Running Grid Network Regression: 250 nodes\n",
      "Running Random Network Regression: 150 nodes\n",
      "Running Grid Network Regression: 50 nodes\n",
      "Running Grid Network Regression: 100 nodes\n",
      "Running Random Network Regression: 299 nodes\n",
      "Running Random Network Regression: 298 nodes\n",
      "Running Random Network Regression: 200 nodes\n",
      "Running Grid Network Regression: 150 nodes\n",
      "Running Grid Network Regression: 296 nodes\n",
      "Running Grid Network Regression: 200 nodes\n"
     ]
    },
    {
     "name": "stderr",
     "output_type": "stream",
     "text": [
      "2020-05-22 13:30:20,613:INFO:First current path [0, 39, 95, 64] formed at time = 0.75 s.\n"
     ]
    },
    {
     "name": "stdout",
     "output_type": "stream",
     "text": [
      "Running Random Network Regression: 50 nodes\n",
      "Running Random Network Regression: 100 nodes\n"
     ]
    },
    {
     "data": {
      "application/vnd.jupyter.widget-view+json": {
       "model_id": "28d411641b1f4df2974baa5caea6a1ff",
       "version_major": 2,
       "version_minor": 0
      },
      "text/plain": [
       "HBox(children=(IntProgress(value=0, description='Running Simulation ', max=500, style=ProgressStyle(descriptio…"
      ]
     },
     "metadata": {},
     "output_type": "display_data"
    },
    {
     "name": "stdout",
     "output_type": "stream",
     "text": [
      "Running Random Network Regression: 250 nodes\n",
      "Running Random Network Regression: 150 nodes\n"
     ]
    },
    {
     "name": "stderr",
     "output_type": "stream",
     "text": [
      "2020-05-22 13:30:20,882:INFO:First current path [0, 281, 261, 241, 221, 201, 181, 161, 142] formed at time = 0.75 s.\n"
     ]
    },
    {
     "name": "stdout",
     "output_type": "stream",
     "text": [
      "Running Grid Network Regression: 250 nodes\n"
     ]
    },
    {
     "data": {
      "application/vnd.jupyter.widget-view+json": {
       "model_id": "54337a6460c44581854bf709f9d5c162",
       "version_major": 2,
       "version_minor": 0
      },
      "text/plain": [
       "HBox(children=(IntProgress(value=0, description='Running Simulation ', max=500, style=ProgressStyle(descriptio…"
      ]
     },
     "metadata": {},
     "output_type": "display_data"
    },
    {
     "name": "stdout",
     "output_type": "stream",
     "text": [
      "Running Random Network Regression: 200 nodes\n",
      "Running Grid Network Regression: 50 nodes\n",
      "Running Grid Network Regression: 50 nodes\n",
      "Running Grid Network Regression: 100 nodes\n",
      "Running Grid Network Regression: 100 nodes\n",
      "Running Grid Network Regression: 150 nodes\n",
      "Running Grid Network Regression: 150 nodes\n",
      "Running Random Network Regression: 300 nodes\n",
      "Running Grid Network Regression: 294 nodes\n",
      "Running Random Network Regression: 250 nodes\n",
      "Running Grid Network Regression: 200 nodes\n",
      "Running Grid Network Regression: 200 nodes\n"
     ]
    },
    {
     "name": "stderr",
     "output_type": "stream",
     "text": [
      "2020-05-22 13:30:22,345:INFO:First current path [0, 9, 30, 51, 72, 92, 112, 132, 149] formed at time = 0.76 s.\n"
     ]
    },
    {
     "name": "stdout",
     "output_type": "stream",
     "text": [
      "Running Grid Network Regression: 250 nodes\n",
      "Running Grid Network Regression: 250 nodes\n"
     ]
    },
    {
     "data": {
      "application/vnd.jupyter.widget-view+json": {
       "model_id": "6e20e4302d6847f3a296e3587934d998",
       "version_major": 2,
       "version_minor": 0
      },
      "text/plain": [
       "HBox(children=(IntProgress(value=0, description='Running Simulation ', max=500, style=ProgressStyle(descriptio…"
      ]
     },
     "metadata": {},
     "output_type": "display_data"
    },
    {
     "name": "stdout",
     "output_type": "stream",
     "text": [
      "Running Random Network Regression: 300 nodes\n"
     ]
    },
    {
     "data": {
      "application/vnd.jupyter.widget-view+json": {
       "model_id": "321bb81eafbf4301a12345d5c032918d",
       "version_major": 2,
       "version_minor": 0
      },
      "text/plain": [
       "HBox(children=(IntProgress(value=0, description='Running Simulation ', max=500, style=ProgressStyle(descriptio…"
      ]
     },
     "metadata": {},
     "output_type": "display_data"
    },
    {
     "name": "stdout",
     "output_type": "stream",
     "text": [
      "Running Grid Network Regression: 50 nodes\n"
     ]
    },
    {
     "name": "stderr",
     "output_type": "stream",
     "text": [
      "2020-05-22 13:30:22,792:INFO:First current path [1, 99, 68, 270] formed at time = 0.76 s.\n"
     ]
    },
    {
     "name": "stdout",
     "output_type": "stream",
     "text": [
      "Running Random Network Regression: 50 nodes\n",
      "Running Grid Network Regression: 100 nodes\n",
      "Running Random Network Regression: 100 nodes\n",
      "Running Grid Network Regression: 150 nodes\n",
      "Running Random Network Regression: 150 nodes\n",
      "Running Grid Network Regression: 299 nodes\n",
      "Running Grid Network Regression: 298 nodes\n",
      "Running Grid Network Regression: 200 nodes\n",
      "Running Random Network Regression: 200 nodes\n",
      "Running Grid Network Regression: 50 nodes\n",
      "Running Grid Network Regression: 100 nodes\n"
     ]
    },
    {
     "name": "stderr",
     "output_type": "stream",
     "text": [
      "2020-05-22 13:30:23,911:INFO:First current path [0, 2, 5, 8, 11, 14, 17, 20, 23, 26, 29, 32, 35, 38, 41, 44, 47, 50, 53, 56, 59, 62, 65, 68, 71, 74, 77, 80, 83, 86, 89, 92, 95, 98, 101, 104, 107, 110, 113, 116, 119, 122, 125, 128, 131, 134, 137, 140, 143] formed at time = 0.76 s.\n"
     ]
    },
    {
     "name": "stdout",
     "output_type": "stream",
     "text": [
      "Running Grid Network Regression: 250 nodes\n",
      "Running Random Network Regression: 250 nodes\n"
     ]
    },
    {
     "data": {
      "application/vnd.jupyter.widget-view+json": {
       "model_id": "e9ccd1fd4fe841879afbdf05526c8820",
       "version_major": 2,
       "version_minor": 0
      },
      "text/plain": [
       "HBox(children=(IntProgress(value=0, description='Running Simulation ', max=500, style=ProgressStyle(descriptio…"
      ]
     },
     "metadata": {},
     "output_type": "display_data"
    },
    {
     "name": "stdout",
     "output_type": "stream",
     "text": [
      "Running Grid Network Regression: 150 nodes\n"
     ]
    },
    {
     "name": "stderr",
     "output_type": "stream",
     "text": [
      "2020-05-22 13:30:24,338:INFO:First current path [5, 30, 98, 124] formed at time = 0.76 s.\n"
     ]
    },
    {
     "name": "stdout",
     "output_type": "stream",
     "text": [
      "Running Random Network Regression: 50 nodes\n",
      "Running Random Network Regression: 100 nodes\n",
      "Running Grid Network Regression: 200 nodes\n",
      "Running Random Network Regression: 150 nodes\n"
     ]
    },
    {
     "data": {
      "application/vnd.jupyter.widget-view+json": {
       "model_id": "f16aaf891cec40839a5bf65fcb44a868",
       "version_major": 2,
       "version_minor": 0
      },
      "text/plain": [
       "HBox(children=(IntProgress(value=0, description='Running Simulation ', max=500, style=ProgressStyle(descriptio…"
      ]
     },
     "metadata": {},
     "output_type": "display_data"
    },
    {
     "name": "stdout",
     "output_type": "stream",
     "text": [
      "Running Grid Network Regression: 300 nodes\n",
      "Running Random Network Regression: 300 nodes\n",
      "Running Random Network Regression: 200 nodes\n",
      "Running Grid Network Regression: 250 nodes\n"
     ]
    },
    {
     "name": "stderr",
     "output_type": "stream",
     "text": [
      "2020-05-22 13:30:25,273:INFO:First current path [0, 32, 85, 44, 130, 38] formed at time = 0.76 s.\n"
     ]
    },
    {
     "name": "stdout",
     "output_type": "stream",
     "text": [
      "Running Random Network Regression: 50 nodes\n",
      "Running Random Network Regression: 100 nodes\n"
     ]
    },
    {
     "data": {
      "application/vnd.jupyter.widget-view+json": {
       "model_id": "2e8c79ce54204466a9a521f25e6be31b",
       "version_major": 2,
       "version_minor": 0
      },
      "text/plain": [
       "HBox(children=(IntProgress(value=0, description='Running Simulation ', max=500, style=ProgressStyle(descriptio…"
      ]
     },
     "metadata": {},
     "output_type": "display_data"
    },
    {
     "name": "stdout",
     "output_type": "stream",
     "text": [
      "Running Random Network Regression: 250 nodes\n",
      "Running Random Network Regression: 150 nodes\n",
      "Running Grid Network Regression: 300 nodes\n",
      "Running Random Network Regression: 200 nodes\n",
      "Running Grid Network Regression: 50 nodes\n"
     ]
    },
    {
     "name": "stderr",
     "output_type": "stream",
     "text": [
      "2020-05-22 13:30:25,979:INFO:First current path [1, 5, 12, 19, 26, 33, 40, 47, 54, 61, 68, 75, 82, 89, 96, 103, 110, 117, 124, 131, 138, 145, 149] formed at time = 0.76 s.\n"
     ]
    },
    {
     "name": "stdout",
     "output_type": "stream",
     "text": [
      "Running Grid Network Regression: 100 nodes\n"
     ]
    },
    {
     "data": {
      "application/vnd.jupyter.widget-view+json": {
       "model_id": "2bfa0e5873c14b3186ec6abfcdc132e8",
       "version_major": 2,
       "version_minor": 0
      },
      "text/plain": [
       "HBox(children=(IntProgress(value=0, description='Running Simulation ', max=500, style=ProgressStyle(descriptio…"
      ]
     },
     "metadata": {},
     "output_type": "display_data"
    },
    {
     "name": "stdout",
     "output_type": "stream",
     "text": [
      "Running Grid Network Regression: 150 nodes\n",
      "Running Random Network Regression: 300 nodes\n",
      "Running Random Network Regression: 250 nodes\n",
      "Running Grid Network Regression: 200 nodes\n"
     ]
    },
    {
     "name": "stderr",
     "output_type": "stream",
     "text": [
      "2020-05-22 13:30:26,710:INFO:First current path [0, 3, 8, 13, 18, 23, 28, 33, 38, 43, 48, 53, 58, 63, 68, 73, 78, 83, 88, 93, 98, 103, 108, 113, 118, 123, 128, 133, 138, 142] formed at time = 0.76 s.\n"
     ]
    },
    {
     "data": {
      "application/vnd.jupyter.widget-view+json": {
       "model_id": "60743ab787d74e758a43331627cff78b",
       "version_major": 2,
       "version_minor": 0
      },
      "text/plain": [
       "HBox(children=(IntProgress(value=0, description='Running Simulation ', max=500, style=ProgressStyle(descriptio…"
      ]
     },
     "metadata": {},
     "output_type": "display_data"
    },
    {
     "data": {
      "application/vnd.jupyter.widget-view+json": {
       "model_id": "1eb5a23f34114f28bd1dc2c08299b8f2",
       "version_major": 2,
       "version_minor": 0
      },
      "text/plain": [
       "HBox(children=(IntProgress(value=0, description='Running Simulation ', max=500, style=ProgressStyle(descriptio…"
      ]
     },
     "metadata": {},
     "output_type": "display_data"
    },
    {
     "name": "stdout",
     "output_type": "stream",
     "text": [
      "Running Grid Network Regression: 250 nodes\n",
      "Running Random Network Regression: 286 nodes\n"
     ]
    },
    {
     "data": {
      "application/vnd.jupyter.widget-view+json": {
       "model_id": "6dc87071560546c8b7c46258665f9388",
       "version_major": 2,
       "version_minor": 0
      },
      "text/plain": [
       "HBox(children=(IntProgress(value=0, description='Running Simulation ', max=500, style=ProgressStyle(descriptio…"
      ]
     },
     "metadata": {},
     "output_type": "display_data"
    },
    {
     "name": "stdout",
     "output_type": "stream",
     "text": [
      "Running Grid Network Regression: 50 nodes\n",
      "Running Grid Network Regression: 100 nodes\n"
     ]
    },
    {
     "name": "stderr",
     "output_type": "stream",
     "text": [
      "2020-05-22 13:30:27,514:INFO:First current path [9, 48, 222, 53, 115] formed at time = 0.76 s.\n"
     ]
    },
    {
     "name": "stdout",
     "output_type": "stream",
     "text": [
      "Running Random Network Regression: 50 nodes\n",
      "Running Random Network Regression: 100 nodes\n",
      "Running Grid Network Regression: 150 nodes\n",
      "Running Random Network Regression: 150 nodes\n",
      "Running Grid Network Regression: 200 nodes\n",
      "Running Grid Network Regression: 300 nodes\n",
      "Running Random Network Regression: 200 nodes\n"
     ]
    },
    {
     "name": "stderr",
     "output_type": "stream",
     "text": [
      "2020-05-22 13:30:28,201:INFO:First current path [0, 240, 192, 141, 9] formed at time = 0.75 s.\n"
     ]
    },
    {
     "name": "stdout",
     "output_type": "stream",
     "text": [
      "Running Random Network Regression: 50 nodes\n",
      "Running Grid Network Regression: 50 nodes\n",
      "Running Random Network Regression: 100 nodes\n"
     ]
    },
    {
     "name": "stderr",
     "output_type": "stream",
     "text": [
      "2020-05-22 13:30:28,323:INFO:First current path [0, 5, 13, 21, 29, 37, 45, 53, 61, 69, 77, 85, 93, 101, 109, 117, 125, 133, 141, 146] formed at time = 0.76 s.\n"
     ]
    },
    {
     "name": "stdout",
     "output_type": "stream",
     "text": [
      "Running Grid Network Regression: 100 nodes\n",
      "Running Random Network Regression: 150 nodes\n",
      "Running Grid Network Regression: 150 nodes\n"
     ]
    },
    {
     "data": {
      "application/vnd.jupyter.widget-view+json": {
       "model_id": "df7ad7651fa340f3be4fe51ef396846f",
       "version_major": 2,
       "version_minor": 0
      },
      "text/plain": [
       "HBox(children=(IntProgress(value=0, description='Running Simulation ', max=500, style=ProgressStyle(descriptio…"
      ]
     },
     "metadata": {},
     "output_type": "display_data"
    },
    {
     "name": "stdout",
     "output_type": "stream",
     "text": [
      "Running Grid Network Regression: 250 nodes\n",
      "Running Random Network Regression: 250 nodes\n",
      "Running Grid Network Regression: 200 nodes\n"
     ]
    },
    {
     "name": "stderr",
     "output_type": "stream",
     "text": [
      "2020-05-22 13:30:28,808:INFO:First current path [0, 5, 14, 23, 32, 41, 50, 59, 68, 77, 86, 95, 104, 113, 122, 131, 140, 146] formed at time = 0.76 s.\n"
     ]
    },
    {
     "name": "stdout",
     "output_type": "stream",
     "text": [
      "Running Random Network Regression: 200 nodes\n"
     ]
    },
    {
     "data": {
      "application/vnd.jupyter.widget-view+json": {
       "model_id": "1ded35b5aace4f89ac07b54f404d1421",
       "version_major": 2,
       "version_minor": 0
      },
      "text/plain": [
       "HBox(children=(IntProgress(value=0, description='Running Simulation ', max=500, style=ProgressStyle(descriptio…"
      ]
     },
     "metadata": {},
     "output_type": "display_data"
    },
    {
     "name": "stdout",
     "output_type": "stream",
     "text": [
      "Running Grid Network Regression: 250 nodes\n",
      "Running Random Network Regression: 250 nodes\n",
      "Running Grid Network Regression: 300 nodes\n"
     ]
    },
    {
     "data": {
      "application/vnd.jupyter.widget-view+json": {
       "model_id": "ae45e305aee244a3a0a34e2ac2e437ea",
       "version_major": 2,
       "version_minor": 0
      },
      "text/plain": [
       "HBox(children=(IntProgress(value=0, description='Running Simulation ', max=500, style=ProgressStyle(descriptio…"
      ]
     },
     "metadata": {},
     "output_type": "display_data"
    },
    {
     "name": "stdout",
     "output_type": "stream",
     "text": [
      "Running Random Network Regression: 296 nodes\n"
     ]
    },
    {
     "name": "stderr",
     "output_type": "stream",
     "text": [
      "2020-05-22 13:30:29,897:INFO:First current path [274, 43, 84, 220, 245] formed at time = 0.77 s.\n"
     ]
    },
    {
     "name": "stdout",
     "output_type": "stream",
     "text": [
      "Running Random Network Regression: 50 nodes\n",
      "Running Random Network Regression: 100 nodes\n",
      "Running Grid Network Regression: 286 nodes\n",
      "Running Random Network Regression: 291 nodes\n",
      "Running Random Network Regression: 150 nodes\n"
     ]
    },
    {
     "name": "stderr",
     "output_type": "stream",
     "text": [
      "2020-05-22 13:30:30,441:INFO:First current path [0, 28, 245, 6] formed at time = 0.75 s.\n"
     ]
    },
    {
     "name": "stdout",
     "output_type": "stream",
     "text": [
      "Running Random Network Regression: 50 nodes\n",
      "Running Random Network Regression: 100 nodes\n",
      "Running Random Network Regression: 200 nodes\n",
      "Running Random Network Regression: 150 nodes\n"
     ]
    },
    {
     "data": {
      "application/vnd.jupyter.widget-view+json": {
       "model_id": "1e6f349130944bdf830a52e29a170af6",
       "version_major": 2,
       "version_minor": 0
      },
      "text/plain": [
       "HBox(children=(IntProgress(value=0, description='Running Simulation ', max=500, style=ProgressStyle(descriptio…"
      ]
     },
     "metadata": {},
     "output_type": "display_data"
    },
    {
     "name": "stdout",
     "output_type": "stream",
     "text": [
      "Running Grid Network Regression: 50 nodes\n",
      "Running Grid Network Regression: 100 nodes\n",
      "Running Random Network Regression: 200 nodes\n"
     ]
    },
    {
     "name": "stderr",
     "output_type": "stream",
     "text": [
      "2020-05-22 13:30:31,119:INFO:First current path [0, 6, 18, 30, 42, 54, 66, 78, 90, 102, 114, 126, 138, 146] formed at time = 0.76 s.\n"
     ]
    },
    {
     "name": "stdout",
     "output_type": "stream",
     "text": [
      "Running Random Network Regression: 250 nodes\n",
      "Running Grid Network Regression: 150 nodes\n",
      "Running Grid Network Regression: 50 nodes\n",
      "Running Grid Network Regression: 100 nodes\n"
     ]
    },
    {
     "data": {
      "application/vnd.jupyter.widget-view+json": {
       "model_id": "45f18dcafa484efeb9936bf182725d03",
       "version_major": 2,
       "version_minor": 0
      },
      "text/plain": [
       "HBox(children=(IntProgress(value=0, description='Running Simulation ', max=500, style=ProgressStyle(descriptio…"
      ]
     },
     "metadata": {},
     "output_type": "display_data"
    },
    {
     "name": "stdout",
     "output_type": "stream",
     "text": [
      "Running Grid Network Regression: 150 nodes\n",
      "Running Grid Network Regression: 200 nodes\n",
      "Running Random Network Regression: 250 nodes\n",
      "Running Grid Network Regression: 200 nodes\n"
     ]
    },
    {
     "data": {
      "application/vnd.jupyter.widget-view+json": {
       "model_id": "3abbe84fccc54f45adec36fba44b6771",
       "version_major": 2,
       "version_minor": 0
      },
      "text/plain": [
       "HBox(children=(IntProgress(value=0, description='Running Simulation ', max=500, style=ProgressStyle(descriptio…"
      ]
     },
     "metadata": {},
     "output_type": "display_data"
    },
    {
     "name": "stdout",
     "output_type": "stream",
     "text": [
      "Running Grid Network Regression: 250 nodes\n",
      "Running Random Network Regression: 300 nodes\n",
      "Running Grid Network Regression: 250 nodes\n"
     ]
    },
    {
     "name": "stderr",
     "output_type": "stream",
     "text": [
      "2020-05-22 13:30:32,337:INFO:First current path [0, 7, 21, 35, 49, 63, 77, 91, 105, 118, 131, 142] formed at time = 0.76 s.\n"
     ]
    },
    {
     "name": "stdout",
     "output_type": "stream",
     "text": [
      "Running Random Network Regression: 300 nodes\n"
     ]
    },
    {
     "data": {
      "application/vnd.jupyter.widget-view+json": {
       "model_id": "a0cefab1239a40dc8e311408741a6ee1",
       "version_major": 2,
       "version_minor": 0
      },
      "text/plain": [
       "HBox(children=(IntProgress(value=0, description='Running Simulation ', max=500, style=ProgressStyle(descriptio…"
      ]
     },
     "metadata": {},
     "output_type": "display_data"
    },
    {
     "name": "stdout",
     "output_type": "stream",
     "text": [
      "Running Grid Network Regression: 296 nodes\n"
     ]
    },
    {
     "name": "stderr",
     "output_type": "stream",
     "text": [
      "2020-05-22 13:30:32,837:INFO:First current path [0, 19, 238, 3] formed at time = 0.75 s.\n"
     ]
    },
    {
     "name": "stdout",
     "output_type": "stream",
     "text": [
      "Running Random Network Regression: 50 nodes\n",
      "Running Random Network Regression: 100 nodes\n"
     ]
    },
    {
     "data": {
      "application/vnd.jupyter.widget-view+json": {
       "model_id": "901a7c0bc9b14106af8d7e2c4570528e",
       "version_major": 2,
       "version_minor": 0
      },
      "text/plain": [
       "HBox(children=(IntProgress(value=0, description='Running Simulation ', max=500, style=ProgressStyle(descriptio…"
      ]
     },
     "metadata": {},
     "output_type": "display_data"
    },
    {
     "name": "stdout",
     "output_type": "stream",
     "text": [
      "Running Grid Network Regression: 291 nodes\n",
      "Running Random Network Regression: 150 nodes\n",
      "Running Grid Network Regression: 50 nodes\n",
      "Running Grid Network Regression: 100 nodes\n",
      "Running Random Network Regression: 200 nodes\n"
     ]
    },
    {
     "name": "stderr",
     "output_type": "stream",
     "text": [
      "2020-05-22 13:30:33,457:INFO:First current path [0, 8, 24, 40, 56, 72, 87, 102, 117, 132, 146] formed at time = 0.76 s.\n"
     ]
    },
    {
     "name": "stdout",
     "output_type": "stream",
     "text": [
      "Running Grid Network Regression: 50 nodes\n",
      "Running Grid Network Regression: 100 nodes\n",
      "Running Grid Network Regression: 150 nodes\n"
     ]
    },
    {
     "data": {
      "application/vnd.jupyter.widget-view+json": {
       "model_id": "168b9e332d64467e866e0782008673af",
       "version_major": 2,
       "version_minor": 0
      },
      "text/plain": [
       "HBox(children=(IntProgress(value=0, description='Running Simulation ', max=500, style=ProgressStyle(descriptio…"
      ]
     },
     "metadata": {},
     "output_type": "display_data"
    },
    {
     "name": "stdout",
     "output_type": "stream",
     "text": [
      "Running Grid Network Regression: 150 nodes\n"
     ]
    },
    {
     "data": {
      "application/vnd.jupyter.widget-view+json": {
       "model_id": "3b548fda5d754c02b3e624101fb64bd6",
       "version_major": 2,
       "version_minor": 0
      },
      "text/plain": [
       "HBox(children=(IntProgress(value=0, description='Running Simulation ', max=500, style=ProgressStyle(descriptio…"
      ]
     },
     "metadata": {},
     "output_type": "display_data"
    },
    {
     "name": "stdout",
     "output_type": "stream",
     "text": [
      "Running Grid Network Regression: 200 nodes\n",
      "Running Random Network Regression: 250 nodes\n"
     ]
    },
    {
     "name": "stderr",
     "output_type": "stream",
     "text": [
      "2020-05-22 13:30:34,075:INFO:First current path [0, 183, 137, 39] formed at time = 0.75 s.\n"
     ]
    },
    {
     "name": "stdout",
     "output_type": "stream",
     "text": [
      "Running Random Network Regression: 50 nodes\n",
      "Running Grid Network Regression: 200 nodes\n",
      "Running Random Network Regression: 100 nodes\n",
      "Running Random Network Regression: 150 nodes\n",
      "Running Grid Network Regression: 250 nodes\n"
     ]
    },
    {
     "name": "stderr",
     "output_type": "stream",
     "text": [
      "2020-05-22 13:30:34,654:INFO:First current path [0, 8, 26, 44, 62, 79, 96, 113, 130, 146] formed at time = 0.76 s.\n"
     ]
    },
    {
     "name": "stdout",
     "output_type": "stream",
     "text": [
      "Running Random Network Regression: 200 nodes\n",
      "Running Grid Network Regression: 250 nodes\n"
     ]
    },
    {
     "data": {
      "application/vnd.jupyter.widget-view+json": {
       "model_id": "0b9deb0defcc4432b68d973ea0422ac2",
       "version_major": 2,
       "version_minor": 0
      },
      "text/plain": [
       "HBox(children=(IntProgress(value=0, description='Running Simulation ', max=500, style=ProgressStyle(descriptio…"
      ]
     },
     "metadata": {},
     "output_type": "display_data"
    },
    {
     "name": "stdout",
     "output_type": "stream",
     "text": [
      "Running Random Network Regression: 297 nodes\n"
     ]
    },
    {
     "name": "stderr",
     "output_type": "stream",
     "text": [
      "2020-05-22 13:30:35,036:INFO:First current path [0, 2, 5, 8, 11, 14, 17, 20, 23, 26, 29, 32, 35, 38, 41, 44, 47, 50, 53, 56, 59, 62, 65, 68, 71, 74, 77, 80, 83, 86, 89, 92, 95, 98, 101, 104, 107, 110, 113, 116, 119, 122, 125, 128, 131, 134, 137, 140] formed at time = 0.76 s.\n"
     ]
    },
    {
     "data": {
      "application/vnd.jupyter.widget-view+json": {
       "model_id": "dbdf0756579e47ae86954aa3546950c0",
       "version_major": 2,
       "version_minor": 0
      },
      "text/plain": [
       "HBox(children=(IntProgress(value=0, description='Running Simulation ', max=500, style=ProgressStyle(descriptio…"
      ]
     },
     "metadata": {},
     "output_type": "display_data"
    },
    {
     "data": {
      "application/vnd.jupyter.widget-view+json": {
       "model_id": "c5cfcf123f404b988e994905ac614084",
       "version_major": 2,
       "version_minor": 0
      },
      "text/plain": [
       "HBox(children=(IntProgress(value=0, description='Running Simulation ', max=500, style=ProgressStyle(descriptio…"
      ]
     },
     "metadata": {},
     "output_type": "display_data"
    },
    {
     "name": "stdout",
     "output_type": "stream",
     "text": [
      "Running Random Network Regression: 250 nodes\n"
     ]
    },
    {
     "name": "stderr",
     "output_type": "stream",
     "text": [
      "2020-05-22 13:30:35,267:INFO:First current path [0, 18, 39, 78] formed at time = 0.75 s.\n"
     ]
    },
    {
     "name": "stdout",
     "output_type": "stream",
     "text": [
      "Running Random Network Regression: 50 nodes\n",
      "Running Random Network Regression: 100 nodes\n",
      "Running Grid Network Regression: 300 nodes\n",
      "Running Random Network Regression: 150 nodes\n",
      "Running Grid Network Regression: 300 nodes\n",
      "Running Random Network Regression: 200 nodes\n",
      "Running Grid Network Regression: 50 nodes\n",
      "Running Random Network Regression: 300 nodes\n",
      "Running Grid Network Regression: 100 nodes\n"
     ]
    },
    {
     "name": "stderr",
     "output_type": "stream",
     "text": [
      "2020-05-22 13:30:36,279:INFO:First current path [0, 18, 214, 89, 273, 168] formed at time = 0.76 s.\n"
     ]
    },
    {
     "name": "stdout",
     "output_type": "stream",
     "text": [
      "Running Random Network Regression: 50 nodes\n",
      "Running Grid Network Regression: 150 nodes\n",
      "Running Random Network Regression: 100 nodes\n"
     ]
    },
    {
     "name": "stderr",
     "output_type": "stream",
     "text": [
      "2020-05-22 13:30:36,377:INFO:First current path [0, 283, 280, 277, 274, 271, 268, 265, 262, 259, 256, 253, 250, 247, 244, 241, 238, 235, 232, 229, 226, 223, 220, 217, 214, 211, 208, 205, 202, 199, 196, 193, 190, 187, 184, 181, 178, 175, 172, 169, 166, 163, 160, 157, 154, 151, 148, 145, 143] formed at time = 0.75 s.\n"
     ]
    },
    {
     "name": "stdout",
     "output_type": "stream",
     "text": [
      "Running Random Network Regression: 250 nodes\n"
     ]
    },
    {
     "data": {
      "application/vnd.jupyter.widget-view+json": {
       "model_id": "24c628e4000a4c9c805e52a57efc5c60",
       "version_major": 2,
       "version_minor": 0
      },
      "text/plain": [
       "HBox(children=(IntProgress(value=0, description='Running Simulation ', max=500, style=ProgressStyle(descriptio…"
      ]
     },
     "metadata": {},
     "output_type": "display_data"
    },
    {
     "name": "stderr",
     "output_type": "stream",
     "text": [
      "2020-05-22 13:30:36,531:INFO:First current path [0, 90, 69, 245] formed at time = 0.76 s.\n"
     ]
    },
    {
     "name": "stdout",
     "output_type": "stream",
     "text": [
      "Running Random Network Regression: 50 nodes\n",
      "Running Random Network Regression: 150 nodes\n",
      "Running Random Network Regression: 100 nodes\n",
      "Running Grid Network Regression: 200 nodes\n",
      "Running Random Network Regression: 150 nodes\n",
      "Running Random Network Regression: 200 nodes\n",
      "Running Random Network Regression: 200 nodes\n",
      "Running Grid Network Regression: 250 nodes\n",
      "Running Grid Network Regression: 50 nodes\n",
      "Running Random Network Regression: 300 nodes\n"
     ]
    },
    {
     "data": {
      "application/vnd.jupyter.widget-view+json": {
       "model_id": "7d0d0a43a0014531af8d4b6b483d7db9",
       "version_major": 2,
       "version_minor": 0
      },
      "text/plain": [
       "HBox(children=(IntProgress(value=0, description='Running Simulation ', max=500, style=ProgressStyle(descriptio…"
      ]
     },
     "metadata": {},
     "output_type": "display_data"
    },
    {
     "name": "stdout",
     "output_type": "stream",
     "text": [
      "Running Grid Network Regression: 100 nodes\n",
      "Running Random Network Regression: 250 nodes\n",
      "Running Grid Network Regression: 150 nodes\n",
      "Running Random Network Regression: 250 nodes\n"
     ]
    },
    {
     "name": "stderr",
     "output_type": "stream",
     "text": [
      "2020-05-22 13:30:37,783:INFO:First current path [277, 40, 124, 14, 248, 272, 158] formed at time = 0.77 s.\n"
     ]
    },
    {
     "name": "stdout",
     "output_type": "stream",
     "text": [
      "Running Random Network Regression: 50 nodes\n",
      "Running Random Network Regression: 100 nodes\n",
      "Running Grid Network Regression: 200 nodes\n",
      "Running Random Network Regression: 150 nodes\n",
      "Running Grid Network Regression: 297 nodes\n",
      "Running Random Network Regression: 280 nodes\n",
      "Running Random Network Regression: 299 nodes\n",
      "Running Random Network Regression: 200 nodes\n",
      "Running Grid Network Regression: 250 nodes\n",
      "Running Grid Network Regression: 50 nodes\n",
      "Running Grid Network Regression: 100 nodes\n"
     ]
    },
    {
     "name": "stderr",
     "output_type": "stream",
     "text": [
      "2020-05-22 13:30:38,617:INFO:First current path [0, 3, 7, 11, 15, 19, 23, 27, 31, 35, 39, 43, 47, 51, 55, 59, 63, 67, 71, 75, 79, 83, 87, 91, 95, 99, 103, 107, 111, 115, 119, 123, 127, 131, 135, 139, 143, 146] formed at time = 0.75 s.\n"
     ]
    },
    {
     "data": {
      "application/vnd.jupyter.widget-view+json": {
       "model_id": "56ae2e11c11b428b8b29c33045b5c639",
       "version_major": 2,
       "version_minor": 0
      },
      "text/plain": [
       "HBox(children=(IntProgress(value=0, description='Running Simulation ', max=500, style=ProgressStyle(descriptio…"
      ]
     },
     "metadata": {},
     "output_type": "display_data"
    },
    {
     "name": "stdout",
     "output_type": "stream",
     "text": [
      "Running Grid Network Regression: 150 nodes\n",
      "Running Random Network Regression: 250 nodes\n",
      "Running Grid Network Regression: 50 nodes\n",
      "Running Grid Network Regression: 200 nodes\n",
      "Running Grid Network Regression: 100 nodes\n",
      "Running Grid Network Regression: 300 nodes\n",
      "Running Grid Network Regression: 150 nodes\n"
     ]
    },
    {
     "data": {
      "application/vnd.jupyter.widget-view+json": {
       "model_id": "2f5ab02fe7e6429684b05875fdf4ca5d",
       "version_major": 2,
       "version_minor": 0
      },
      "text/plain": [
       "HBox(children=(IntProgress(value=0, description='Running Simulation ', max=500, style=ProgressStyle(descriptio…"
      ]
     },
     "metadata": {},
     "output_type": "display_data"
    },
    {
     "name": "stdout",
     "output_type": "stream",
     "text": [
      "Running Grid Network Regression: 50 nodes\n"
     ]
    },
    {
     "data": {
      "application/vnd.jupyter.widget-view+json": {
       "model_id": "7b57d60a53a74c3bbcea90b3a26c29eb",
       "version_major": 2,
       "version_minor": 0
      },
      "text/plain": [
       "HBox(children=(IntProgress(value=0, description='Running Simulation ', max=500, style=ProgressStyle(descriptio…"
      ]
     },
     "metadata": {},
     "output_type": "display_data"
    },
    {
     "name": "stdout",
     "output_type": "stream",
     "text": [
      "Running Grid Network Regression: 100 nodes\n",
      "Running Grid Network Regression: 200 nodes\n",
      "Running Grid Network Regression: 250 nodes\n",
      "Running Grid Network Regression: 150 nodes\n",
      "Running Random Network Regression: 285 nodes\n",
      "Running Grid Network Regression: 250 nodes\n",
      "Running Grid Network Regression: 200 nodes\n"
     ]
    },
    {
     "name": "stderr",
     "output_type": "stream",
     "text": [
      "2020-05-22 13:30:40,113:INFO:First current path [26, 250, 42, 23, 224, 193] formed at time = 0.76 s.\n"
     ]
    },
    {
     "name": "stdout",
     "output_type": "stream",
     "text": [
      "Running Random Network Regression: 50 nodes\n",
      "Running Random Network Regression: 100 nodes\n",
      "Running Random Network Regression: 150 nodes\n",
      "Running Grid Network Regression: 300 nodes\n",
      "Running Grid Network Regression: 250 nodes\n",
      "Running Random Network Regression: 200 nodes\n",
      "Running Grid Network Regression: 280 nodes\n",
      "Running Grid Network Regression: 50 nodes\n"
     ]
    },
    {
     "name": "stderr",
     "output_type": "stream",
     "text": [
      "2020-05-22 13:30:40,797:INFO:First current path [0, 294, 287, 280, 273, 266, 259, 252, 245, 238, 231, 224, 217, 210, 203, 196, 189, 182, 175, 168, 161, 154, 149] formed at time = 0.75 s.\n",
      "2020-05-22 13:30:40,848:INFO:First current path [0, 3, 8, 13, 18, 23, 28, 33, 38, 43, 48, 53, 58, 63, 68, 73, 78, 83, 88, 93, 98, 103, 108, 113, 118, 123, 128, 133, 138, 143, 147] formed at time = 0.76 s.\n"
     ]
    },
    {
     "name": "stdout",
     "output_type": "stream",
     "text": [
      "Running Grid Network Regression: 100 nodes\n"
     ]
    },
    {
     "data": {
      "application/vnd.jupyter.widget-view+json": {
       "model_id": "8fdaf9be91654864be93e96aa1fe54ea",
       "version_major": 2,
       "version_minor": 0
      },
      "text/plain": [
       "HBox(children=(IntProgress(value=0, description='Running Simulation ', max=500, style=ProgressStyle(descriptio…"
      ]
     },
     "metadata": {},
     "output_type": "display_data"
    },
    {
     "data": {
      "application/vnd.jupyter.widget-view+json": {
       "model_id": "625501be097444ae8d01ac03e3f14a7f",
       "version_major": 2,
       "version_minor": 0
      },
      "text/plain": [
       "HBox(children=(IntProgress(value=0, description='Running Simulation ', max=500, style=ProgressStyle(descriptio…"
      ]
     },
     "metadata": {},
     "output_type": "display_data"
    },
    {
     "name": "stdout",
     "output_type": "stream",
     "text": [
      "Running Grid Network Regression: 150 nodes\n",
      "Running Random Network Regression: 250 nodes\n",
      "Running Grid Network Regression: 200 nodes\n"
     ]
    },
    {
     "data": {
      "application/vnd.jupyter.widget-view+json": {
       "model_id": "14286af1777349d0b3056af76255c772",
       "version_major": 2,
       "version_minor": 0
      },
      "text/plain": [
       "HBox(children=(IntProgress(value=0, description='Running Simulation ', max=500, style=ProgressStyle(descriptio…"
      ]
     },
     "metadata": {},
     "output_type": "display_data"
    },
    {
     "name": "stdout",
     "output_type": "stream",
     "text": [
      "Running Grid Network Regression: 299 nodes\n",
      "Running Grid Network Regression: 250 nodes\n",
      "Running Random Network Regression: 293 nodes\n"
     ]
    },
    {
     "name": "stderr",
     "output_type": "stream",
     "text": [
      "2020-05-22 13:30:42,336:INFO:First current path [0, 81, 294, 22, 5] formed at time = 0.75 s.\n"
     ]
    },
    {
     "name": "stdout",
     "output_type": "stream",
     "text": [
      "Running Random Network Regression: 50 nodes\n"
     ]
    },
    {
     "name": "stderr",
     "output_type": "stream",
     "text": [
      "2020-05-22 13:30:42,380:INFO:First current path [67, 47, 131, 100, 173] formed at time = 0.77 s.\n"
     ]
    },
    {
     "name": "stdout",
     "output_type": "stream",
     "text": [
      "Running Random Network Regression: 50 nodes\n",
      "Running Random Network Regression: 100 nodes\n",
      "Running Random Network Regression: 100 nodes\n",
      "Running Random Network Regression: 150 nodes\n",
      "Running Random Network Regression: 150 nodes\n",
      "Running Grid Network Regression: 285 nodes\n"
     ]
    },
    {
     "name": "stderr",
     "output_type": "stream",
     "text": [
      "2020-05-22 13:30:42,772:INFO:First current path [0, 5, 13, 21, 29, 37, 45, 53, 61, 69, 77, 85, 93, 101, 109, 117, 125, 133, 141, 146] formed at time = 0.76 s.\n"
     ]
    },
    {
     "data": {
      "application/vnd.jupyter.widget-view+json": {
       "model_id": "29f84b9c308b4fa08c949d053992c6b0",
       "version_major": 2,
       "version_minor": 0
      },
      "text/plain": [
       "HBox(children=(IntProgress(value=0, description='Running Simulation ', max=500, style=ProgressStyle(descriptio…"
      ]
     },
     "metadata": {},
     "output_type": "display_data"
    },
    {
     "name": "stdout",
     "output_type": "stream",
     "text": [
      "Running Random Network Regression: 200 nodes\n",
      "Running Random Network Regression: 200 nodes\n",
      "Running Grid Network Regression: 50 nodes\n",
      "Running Grid Network Regression: 100 nodes\n"
     ]
    },
    {
     "data": {
      "application/vnd.jupyter.widget-view+json": {
       "model_id": "a69201835629427192e966ed2db70c32",
       "version_major": 2,
       "version_minor": 0
      },
      "text/plain": [
       "HBox(children=(IntProgress(value=0, description='Running Simulation ', max=500, style=ProgressStyle(descriptio…"
      ]
     },
     "metadata": {},
     "output_type": "display_data"
    },
    {
     "name": "stdout",
     "output_type": "stream",
     "text": [
      "Running Random Network Regression: 250 nodes\n",
      "Running Grid Network Regression: 150 nodes\n"
     ]
    },
    {
     "data": {
      "application/vnd.jupyter.widget-view+json": {
       "model_id": "85b35ef93c304411b7880f32c5d7b643",
       "version_major": 2,
       "version_minor": 0
      },
      "text/plain": [
       "HBox(children=(IntProgress(value=0, description='Running Simulation ', max=500, style=ProgressStyle(descriptio…"
      ]
     },
     "metadata": {},
     "output_type": "display_data"
    },
    {
     "name": "stdout",
     "output_type": "stream",
     "text": [
      "Running Random Network Regression: 250 nodes\n",
      "Running Grid Network Regression: 200 nodes\n"
     ]
    },
    {
     "name": "stderr",
     "output_type": "stream",
     "text": [
      "2020-05-22 13:30:44,386:INFO:First current path [11, 199, 167, 224, 286] formed at time = 0.78 s.\n"
     ]
    },
    {
     "name": "stdout",
     "output_type": "stream",
     "text": [
      "Running Random Network Regression: 50 nodes\n",
      "Running Random Network Regression: 298 nodes\n",
      "Running Grid Network Regression: 250 nodes\n",
      "Running Random Network Regression: 100 nodes\n",
      "Running Random Network Regression: 299 nodes\n",
      "Running Random Network Regression: 150 nodes\n"
     ]
    },
    {
     "name": "stderr",
     "output_type": "stream",
     "text": [
      "2020-05-22 13:30:44,976:INFO:First current path [0, 289, 277, 265, 253, 241, 229, 217, 205, 193, 181, 169, 157, 146] formed at time = 0.75 s.\n",
      "2020-05-22 13:30:45,050:INFO:First current path [0, 6, 16, 26, 36, 46, 56, 66, 76, 86, 96, 106, 116, 126, 136, 142] formed at time = 0.76 s.\n"
     ]
    },
    {
     "name": "stdout",
     "output_type": "stream",
     "text": [
      "Running Random Network Regression: 200 nodes\n"
     ]
    },
    {
     "data": {
      "application/vnd.jupyter.widget-view+json": {
       "model_id": "ff4e7120f68b4b27a7da27a445896c2c",
       "version_major": 2,
       "version_minor": 0
      },
      "text/plain": [
       "HBox(children=(IntProgress(value=0, description='Running Simulation ', max=500, style=ProgressStyle(descriptio…"
      ]
     },
     "metadata": {},
     "output_type": "display_data"
    },
    {
     "data": {
      "application/vnd.jupyter.widget-view+json": {
       "model_id": "cd0fd02bae09475f97f9e1047f053e73",
       "version_major": 2,
       "version_minor": 0
      },
      "text/plain": [
       "HBox(children=(IntProgress(value=0, description='Running Simulation ', max=500, style=ProgressStyle(descriptio…"
      ]
     },
     "metadata": {},
     "output_type": "display_data"
    },
    {
     "name": "stdout",
     "output_type": "stream",
     "text": [
      "Running Grid Network Regression: 293 nodes\n",
      "Running Grid Network Regression: 50 nodes\n",
      "Running Random Network Regression: 250 nodes\n",
      "Running Grid Network Regression: 100 nodes\n",
      "Running Grid Network Regression: 50 nodes\n",
      "Running Grid Network Regression: 150 nodes\n",
      "Running Grid Network Regression: 100 nodes\n",
      "Running Grid Network Regression: 150 nodes\n",
      "Running Grid Network Regression: 200 nodes\n",
      "Running Grid Network Regression: 200 nodes\n"
     ]
    },
    {
     "data": {
      "application/vnd.jupyter.widget-view+json": {
       "model_id": "ec58a8444ac743d0bf9a1807cb0df86f",
       "version_major": 2,
       "version_minor": 0
      },
      "text/plain": [
       "HBox(children=(IntProgress(value=0, description='Running Simulation ', max=500, style=ProgressStyle(descriptio…"
      ]
     },
     "metadata": {},
     "output_type": "display_data"
    },
    {
     "name": "stdout",
     "output_type": "stream",
     "text": [
      "Running Random Network Regression: 300 nodes\n"
     ]
    },
    {
     "name": "stderr",
     "output_type": "stream",
     "text": [
      "2020-05-22 13:30:46,675:INFO:First current path [0, 65, 142, 7] formed at time = 0.75 s.\n"
     ]
    },
    {
     "name": "stdout",
     "output_type": "stream",
     "text": [
      "Running Random Network Regression: 50 nodes\n"
     ]
    },
    {
     "name": "stderr",
     "output_type": "stream",
     "text": [
      "2020-05-22 13:30:46,696:INFO:First current path [0, 29, 157, 6] formed at time = 0.75 s.\n"
     ]
    },
    {
     "name": "stdout",
     "output_type": "stream",
     "text": [
      "Running Random Network Regression: 50 nodes\n",
      "Running Grid Network Regression: 250 nodes\n",
      "Running Random Network Regression: 100 nodes\n",
      "Running Random Network Regression: 100 nodes\n",
      "Running Random Network Regression: 150 nodes\n",
      "Running Random Network Regression: 150 nodes\n",
      "Running Grid Network Regression: 250 nodes\n",
      "Running Random Network Regression: 200 nodes\n",
      "Running Random Network Regression: 200 nodes\n"
     ]
    },
    {
     "data": {
      "application/vnd.jupyter.widget-view+json": {
       "model_id": "1ca0bb126191495ca57c1534c56bc4a1",
       "version_major": 2,
       "version_minor": 0
      },
      "text/plain": [
       "HBox(children=(IntProgress(value=0, description='Running Simulation ', max=500, style=ProgressStyle(descriptio…"
      ]
     },
     "metadata": {},
     "output_type": "display_data"
    },
    {
     "name": "stdout",
     "output_type": "stream",
     "text": [
      "Running Grid Network Regression: 298 nodes\n",
      "Running Grid Network Regression: 299 nodes\n",
      "Running Random Network Regression: 250 nodes\n",
      "Running Random Network Regression: 250 nodes\n",
      "Running Grid Network Regression: 50 nodes\n",
      "Running Grid Network Regression: 100 nodes\n"
     ]
    },
    {
     "name": "stderr",
     "output_type": "stream",
     "text": [
      "2020-05-22 13:30:47,997:INFO:First current path [0, 7, 21, 35, 49, 63, 77, 91, 105, 118, 131, 142] formed at time = 0.76 s.\n"
     ]
    },
    {
     "data": {
      "application/vnd.jupyter.widget-view+json": {
       "model_id": "6e30a42a3bcd4665be94088d25e42469",
       "version_major": 2,
       "version_minor": 0
      },
      "text/plain": [
       "HBox(children=(IntProgress(value=0, description='Running Simulation ', max=500, style=ProgressStyle(descriptio…"
      ]
     },
     "metadata": {},
     "output_type": "display_data"
    },
    {
     "name": "stdout",
     "output_type": "stream",
     "text": [
      "Running Grid Network Regression: 150 nodes\n"
     ]
    },
    {
     "data": {
      "application/vnd.jupyter.widget-view+json": {
       "model_id": "5909f6df7bad44aab998a38d7f947320",
       "version_major": 2,
       "version_minor": 0
      },
      "text/plain": [
       "HBox(children=(IntProgress(value=0, description='Running Simulation ', max=500, style=ProgressStyle(descriptio…"
      ]
     },
     "metadata": {},
     "output_type": "display_data"
    },
    {
     "name": "stdout",
     "output_type": "stream",
     "text": [
      "Running Grid Network Regression: 200 nodes\n",
      "Running Random Network Regression: 300 nodes\n",
      "Running Random Network Regression: 300 nodes\n"
     ]
    },
    {
     "name": "stderr",
     "output_type": "stream",
     "text": [
      "2020-05-22 13:30:48,823:INFO:First current path [0, 8, 24, 40, 56, 72, 87, 102, 117, 132, 146] formed at time = 0.76 s.\n"
     ]
    },
    {
     "data": {
      "application/vnd.jupyter.widget-view+json": {
       "model_id": "83a0c69f786748779cd18048836f709e",
       "version_major": 2,
       "version_minor": 0
      },
      "text/plain": [
       "HBox(children=(IntProgress(value=0, description='Running Simulation ', max=500, style=ProgressStyle(descriptio…"
      ]
     },
     "metadata": {},
     "output_type": "display_data"
    },
    {
     "data": {
      "application/vnd.jupyter.widget-view+json": {
       "model_id": "a8e501da137941229747bf145e62620f",
       "version_major": 2,
       "version_minor": 0
      },
      "text/plain": [
       "HBox(children=(IntProgress(value=0, description='Running Simulation ', max=500, style=ProgressStyle(descriptio…"
      ]
     },
     "metadata": {},
     "output_type": "display_data"
    },
    {
     "name": "stdout",
     "output_type": "stream",
     "text": [
      "Running Grid Network Regression: 250 nodes\n"
     ]
    },
    {
     "name": "stderr",
     "output_type": "stream",
     "text": [
      "2020-05-22 13:30:49,178:INFO:First current path [0, 283, 280, 277, 274, 271, 268, 265, 262, 259, 256, 253, 250, 247, 244, 241, 238, 235, 232, 229, 226, 223, 220, 217, 214, 211, 208, 205, 202, 199, 196, 193, 190, 187, 184, 181, 178, 175, 172, 169, 166, 163, 160, 157, 154, 151, 148, 145, 143] formed at time = 0.75 s.\n"
     ]
    },
    {
     "data": {
      "application/vnd.jupyter.widget-view+json": {
       "model_id": "5c92d6458b404cd492ef500db414c3a1",
       "version_major": 2,
       "version_minor": 0
      },
      "text/plain": [
       "HBox(children=(IntProgress(value=0, description='Running Simulation ', max=500, style=ProgressStyle(descriptio…"
      ]
     },
     "metadata": {},
     "output_type": "display_data"
    },
    {
     "name": "stderr",
     "output_type": "stream",
     "text": [
      "2020-05-22 13:30:49,758:INFO:First current path [0, 213, 185, 54] formed at time = 0.75 s.\n"
     ]
    },
    {
     "name": "stdout",
     "output_type": "stream",
     "text": [
      "Running Random Network Regression: 50 nodes\n",
      "Running Grid Network Regression: 50 nodes\n",
      "Running Random Network Regression: 100 nodes\n",
      "Running Grid Network Regression: 50 nodes\n",
      "Running Grid Network Regression: 300 nodes\n",
      "Running Grid Network Regression: 100 nodes\n",
      "Running Grid Network Regression: 100 nodes\n",
      "Running Random Network Regression: 150 nodes\n",
      "Running Grid Network Regression: 150 nodes\n",
      "Running Grid Network Regression: 150 nodes\n"
     ]
    },
    {
     "name": "stderr",
     "output_type": "stream",
     "text": [
      "2020-05-22 13:30:50,162:INFO:First current path [0, 2, 4, 6, 8, 10, 12, 14, 16, 18, 20, 22, 24, 26, 28, 30, 32, 34, 36, 38, 40, 42, 44, 46, 48, 50, 52, 54, 56, 58, 60, 62, 64, 66, 68, 70, 72, 74, 76, 78, 80, 82, 84, 86, 88, 90, 92, 94, 96, 98, 100, 102, 104, 106, 108, 110, 112, 114, 116, 118, 120, 122, 124, 126, 128, 130, 132, 134, 136, 138, 140] formed at time = 0.75 s.\n"
     ]
    },
    {
     "data": {
      "application/vnd.jupyter.widget-view+json": {
       "model_id": "e8197e250936432383ab3fe84b937df5",
       "version_major": 2,
       "version_minor": 0
      },
      "text/plain": [
       "HBox(children=(IntProgress(value=0, description='Running Simulation ', max=500, style=ProgressStyle(descriptio…"
      ]
     },
     "metadata": {},
     "output_type": "display_data"
    },
    {
     "name": "stdout",
     "output_type": "stream",
     "text": [
      "Running Random Network Regression: 200 nodes\n",
      "Running Grid Network Regression: 200 nodes\n"
     ]
    },
    {
     "data": {
      "application/vnd.jupyter.widget-view+json": {
       "model_id": "66e629e70ddb4eaa86a69294db321465",
       "version_major": 2,
       "version_minor": 0
      },
      "text/plain": [
       "HBox(children=(IntProgress(value=0, description='Running Simulation ', max=500, style=ProgressStyle(descriptio…"
      ]
     },
     "metadata": {},
     "output_type": "display_data"
    },
    {
     "name": "stdout",
     "output_type": "stream",
     "text": [
      "Running Grid Network Regression: 200 nodes\n"
     ]
    },
    {
     "name": "stderr",
     "output_type": "stream",
     "text": [
      "2020-05-22 13:30:50,564:INFO:First current path [57, 114, 166, 183, 1, 239, 47] formed at time = 0.76 s.\n"
     ]
    },
    {
     "name": "stdout",
     "output_type": "stream",
     "text": [
      "Running Random Network Regression: 50 nodes\n"
     ]
    },
    {
     "name": "stderr",
     "output_type": "stream",
     "text": [
      "2020-05-22 13:30:50,591:INFO:First current path [0, 29, 160, 20] formed at time = 0.75 s.\n"
     ]
    },
    {
     "name": "stdout",
     "output_type": "stream",
     "text": [
      "Running Random Network Regression: 50 nodes\n",
      "Running Random Network Regression: 100 nodes\n",
      "Running Random Network Regression: 100 nodes\n",
      "Running Random Network Regression: 150 nodes\n",
      "Running Random Network Regression: 150 nodes\n",
      "Running Random Network Regression: 250 nodes\n",
      "Running Grid Network Regression: 250 nodes\n",
      "Running Grid Network Regression: 250 nodes\n",
      "Running Random Network Regression: 200 nodes\n",
      "Running Random Network Regression: 200 nodes\n"
     ]
    },
    {
     "name": "stderr",
     "output_type": "stream",
     "text": [
      "2020-05-22 13:30:51,413:INFO:First current path [135, 9, 178, 175, 171, 200, 155, 138, 219] formed at time = 0.77 s.\n"
     ]
    },
    {
     "name": "stdout",
     "output_type": "stream",
     "text": [
      "Running Random Network Regression: 50 nodes\n",
      "Running Random Network Regression: 100 nodes\n"
     ]
    },
    {
     "name": "stderr",
     "output_type": "stream",
     "text": [
      "2020-05-22 13:30:51,634:INFO:First current path [0, 3, 7, 11, 15, 19, 23, 27, 31, 35, 39, 43, 47, 51, 55, 59, 63, 67, 71, 75, 79, 83, 87, 91, 95, 99, 103, 107, 111, 115, 119, 123, 127, 131, 135, 139, 142] formed at time = 0.75 s.\n"
     ]
    },
    {
     "name": "stdout",
     "output_type": "stream",
     "text": [
      "Running Random Network Regression: 150 nodes\n",
      "Running Random Network Regression: 250 nodes\n",
      "Running Random Network Regression: 250 nodes\n"
     ]
    },
    {
     "data": {
      "application/vnd.jupyter.widget-view+json": {
       "model_id": "40206615ad91479fada39bfd4671aae8",
       "version_major": 2,
       "version_minor": 0
      },
      "text/plain": [
       "HBox(children=(IntProgress(value=0, description='Running Simulation ', max=500, style=ProgressStyle(descriptio…"
      ]
     },
     "metadata": {},
     "output_type": "display_data"
    },
    {
     "name": "stdout",
     "output_type": "stream",
     "text": [
      "Running Random Network Regression: 300 nodes\n",
      "Running Grid Network Regression: 300 nodes\n",
      "Running Grid Network Regression: 300 nodes\n",
      "Running Random Network Regression: 200 nodes\n",
      "Running Random Network Regression: 250 nodes\n",
      "Running Random Network Regression: 300 nodes\n",
      "Running Random Network Regression: 285 nodes\n"
     ]
    },
    {
     "data": {
      "application/vnd.jupyter.widget-view+json": {
       "model_id": "61c91325dd1d4b6ca6dc5a8f8bed8f17",
       "version_major": 2,
       "version_minor": 0
      },
      "text/plain": [
       "HBox(children=(IntProgress(value=0, description='Running Simulation ', max=500, style=ProgressStyle(descriptio…"
      ]
     },
     "metadata": {},
     "output_type": "display_data"
    },
    {
     "name": "stderr",
     "output_type": "stream",
     "text": [
      "2020-05-22 13:30:52,965:INFO:First current path [93, 33, 181, 5, 42, 90] formed at time = 0.78 s.\n"
     ]
    },
    {
     "name": "stdout",
     "output_type": "stream",
     "text": [
      "Running Random Network Regression: 50 nodes\n",
      "Running Random Network Regression: 100 nodes\n",
      "Running Grid Network Regression: 50 nodes\n",
      "Running Grid Network Regression: 100 nodes\n",
      "Running Random Network Regression: 279 nodes\n",
      "Running Random Network Regression: 150 nodes\n",
      "Running Grid Network Regression: 150 nodes\n",
      "Running Random Network Regression: 200 nodes\n",
      "Running Grid Network Regression: 50 nodes\n",
      "Running Grid Network Regression: 100 nodes\n",
      "Running Grid Network Regression: 50 nodes\n",
      "Running Grid Network Regression: 200 nodes\n",
      "Running Grid Network Regression: 100 nodes\n",
      "Running Grid Network Regression: 150 nodes\n"
     ]
    },
    {
     "name": "stderr",
     "output_type": "stream",
     "text": [
      "2020-05-22 13:30:53,946:INFO:First current path [0, 3, 7, 11, 15, 19, 23, 27, 31, 35, 39, 43, 47, 51, 55, 59, 63, 67, 71, 75, 79, 83, 87, 91, 95, 99, 103, 107, 111, 115, 119, 123, 127, 131, 135, 139, 143, 146] formed at time = 0.75 s.\n"
     ]
    },
    {
     "name": "stdout",
     "output_type": "stream",
     "text": [
      "Running Grid Network Regression: 150 nodes\n",
      "Running Random Network Regression: 250 nodes\n"
     ]
    },
    {
     "data": {
      "application/vnd.jupyter.widget-view+json": {
       "model_id": "7c20728ae042432195192d300d09a06a",
       "version_major": 2,
       "version_minor": 0
      },
      "text/plain": [
       "HBox(children=(IntProgress(value=0, description='Running Simulation ', max=500, style=ProgressStyle(descriptio…"
      ]
     },
     "metadata": {},
     "output_type": "display_data"
    },
    {
     "name": "stdout",
     "output_type": "stream",
     "text": [
      "Running Grid Network Regression: 200 nodes\n",
      "Running Grid Network Regression: 50 nodes\n",
      "Running Grid Network Regression: 100 nodes\n"
     ]
    },
    {
     "data": {
      "application/vnd.jupyter.widget-view+json": {
       "model_id": "afce773bbccb4c15a180016534bcfe8c",
       "version_major": 2,
       "version_minor": 0
      },
      "text/plain": [
       "HBox(children=(IntProgress(value=0, description='Running Simulation ', max=500, style=ProgressStyle(descriptio…"
      ]
     },
     "metadata": {},
     "output_type": "display_data"
    },
    {
     "name": "stdout",
     "output_type": "stream",
     "text": [
      "Running Grid Network Regression: 200 nodes\n",
      "Running Grid Network Regression: 250 nodes\n",
      "Running Grid Network Regression: 150 nodes\n",
      "Running Grid Network Regression: 250 nodes\n",
      "Running Grid Network Regression: 200 nodes\n",
      "Running Random Network Regression: 285 nodes\n",
      "Running Grid Network Regression: 250 nodes\n",
      "Running Grid Network Regression: 300 nodes\n",
      "Running Grid Network Regression: 250 nodes\n",
      "Running Grid Network Regression: 285 nodes\n"
     ]
    },
    {
     "name": "stderr",
     "output_type": "stream",
     "text": [
      "2020-05-22 13:30:55,433:INFO:First current path [19, 192, 280, 220, 239, 147] formed at time = 0.76 s.\n"
     ]
    },
    {
     "name": "stdout",
     "output_type": "stream",
     "text": [
      "Running Random Network Regression: 50 nodes\n",
      "Running Random Network Regression: 100 nodes\n"
     ]
    },
    {
     "data": {
      "application/vnd.jupyter.widget-view+json": {
       "model_id": "443bb3bda87d459c87a1dcb7f5080609",
       "version_major": 2,
       "version_minor": 0
      },
      "text/plain": [
       "HBox(children=(IntProgress(value=0, description='Running Simulation ', max=500, style=ProgressStyle(descriptio…"
      ]
     },
     "metadata": {},
     "output_type": "display_data"
    },
    {
     "name": "stderr",
     "output_type": "stream",
     "text": [
      "2020-05-22 13:30:55,588:INFO:First current path [0, 4, 10, 16, 22, 28, 34, 40, 46, 52, 58, 64, 70, 76, 82, 88, 94, 100, 106, 112, 118, 124, 130, 136, 142, 146] formed at time = 0.75 s.\n"
     ]
    },
    {
     "name": "stdout",
     "output_type": "stream",
     "text": [
      "Running Grid Network Regression: 300 nodes\n",
      "Running Random Network Regression: 150 nodes\n"
     ]
    },
    {
     "data": {
      "application/vnd.jupyter.widget-view+json": {
       "model_id": "18a49b3c9f9f4ede8b1ed01876cc57d0",
       "version_major": 2,
       "version_minor": 0
      },
      "text/plain": [
       "HBox(children=(IntProgress(value=0, description='Running Simulation ', max=500, style=ProgressStyle(descriptio…"
      ]
     },
     "metadata": {},
     "output_type": "display_data"
    },
    {
     "name": "stdout",
     "output_type": "stream",
     "text": [
      "Running Grid Network Regression: 50 nodes\n",
      "Running Grid Network Regression: 100 nodes\n",
      "Running Grid Network Regression: 279 nodes\n",
      "Running Random Network Regression: 200 nodes\n",
      "Running Grid Network Regression: 150 nodes\n",
      "Running Grid Network Regression: 200 nodes\n",
      "Running Random Network Regression: 250 nodes\n"
     ]
    },
    {
     "name": "stderr",
     "output_type": "stream",
     "text": [
      "2020-05-22 13:30:56,866:INFO:First current path [0, 4, 11, 18, 25, 32, 39, 46, 53, 60, 67, 74, 81, 88, 95, 102, 109, 116, 123, 130, 137, 144, 149] formed at time = 0.76 s.\n"
     ]
    },
    {
     "name": "stdout",
     "output_type": "stream",
     "text": [
      "Running Grid Network Regression: 250 nodes\n"
     ]
    },
    {
     "data": {
      "application/vnd.jupyter.widget-view+json": {
       "model_id": "96302122bc4e430a9ddf1d01756ecedb",
       "version_major": 2,
       "version_minor": 0
      },
      "text/plain": [
       "HBox(children=(IntProgress(value=0, description='Running Simulation ', max=500, style=ProgressStyle(descriptio…"
      ]
     },
     "metadata": {},
     "output_type": "display_data"
    },
    {
     "name": "stderr",
     "output_type": "stream",
     "text": [
      "2020-05-22 13:30:57,115:INFO:First current path [0, 190, 127, 51, 285] formed at time = 0.75 s.\n"
     ]
    },
    {
     "name": "stdout",
     "output_type": "stream",
     "text": [
      "Running Random Network Regression: 50 nodes\n",
      "Running Random Network Regression: 100 nodes\n",
      "Running Random Network Regression: 150 nodes\n",
      "Running Random Network Regression: 295 nodes\n"
     ]
    },
    {
     "data": {
      "application/vnd.jupyter.widget-view+json": {
       "model_id": "cfc59543cd5240feb3b4d3a175d75db9",
       "version_major": 2,
       "version_minor": 0
      },
      "text/plain": [
       "HBox(children=(IntProgress(value=0, description='Running Simulation ', max=500, style=ProgressStyle(descriptio…"
      ]
     },
     "metadata": {},
     "output_type": "display_data"
    },
    {
     "name": "stdout",
     "output_type": "stream",
     "text": [
      "Running Grid Network Regression: 285 nodes\n",
      "Running Random Network Regression: 200 nodes\n"
     ]
    },
    {
     "data": {
      "application/vnd.jupyter.widget-view+json": {
       "model_id": "3009d3518455415d849f59fecaec1dba",
       "version_major": 2,
       "version_minor": 0
      },
      "text/plain": [
       "HBox(children=(IntProgress(value=0, description='Running Simulation ', max=500, style=ProgressStyle(descriptio…"
      ]
     },
     "metadata": {},
     "output_type": "display_data"
    },
    {
     "name": "stdout",
     "output_type": "stream",
     "text": [
      "Running Random Network Regression: 250 nodes\n"
     ]
    },
    {
     "name": "stderr",
     "output_type": "stream",
     "text": [
      "2020-05-22 13:30:58,412:INFO:First current path [10, 214, 273, 68, 6] formed at time = 0.76 s.\n"
     ]
    },
    {
     "name": "stdout",
     "output_type": "stream",
     "text": [
      "Running Random Network Regression: 50 nodes\n",
      "Running Random Network Regression: 100 nodes\n",
      "Running Grid Network Regression: 50 nodes\n",
      "Running Grid Network Regression: 100 nodes\n",
      "Running Random Network Regression: 150 nodes\n",
      "Running Grid Network Regression: 150 nodes\n"
     ]
    },
    {
     "name": "stderr",
     "output_type": "stream",
     "text": [
      "2020-05-22 13:30:58,919:INFO:First current path [0, 290, 281, 272, 263, 254, 245, 236, 227, 218, 209, 200, 191, 182, 173, 164, 155, 146] formed at time = 0.75 s.\n"
     ]
    },
    {
     "name": "stdout",
     "output_type": "stream",
     "text": [
      "Running Random Network Regression: 200 nodes\n"
     ]
    },
    {
     "data": {
      "application/vnd.jupyter.widget-view+json": {
       "model_id": "20facbdcb28649a0a35059814ead7429",
       "version_major": 2,
       "version_minor": 0
      },
      "text/plain": [
       "HBox(children=(IntProgress(value=0, description='Running Simulation ', max=500, style=ProgressStyle(descriptio…"
      ]
     },
     "metadata": {},
     "output_type": "display_data"
    },
    {
     "name": "stdout",
     "output_type": "stream",
     "text": [
      "Running Random Network Regression: 295 nodes\n",
      "Running Grid Network Regression: 200 nodes\n"
     ]
    },
    {
     "name": "stderr",
     "output_type": "stream",
     "text": [
      "2020-05-22 13:30:59,253:INFO:First current path [0, 6, 16, 26, 36, 46, 56, 66, 76, 86, 96, 106, 116, 126, 136, 142] formed at time = 0.76 s.\n"
     ]
    },
    {
     "data": {
      "application/vnd.jupyter.widget-view+json": {
       "model_id": "7b28a52dd4d54b3e8814d4e37f4def84",
       "version_major": 2,
       "version_minor": 0
      },
      "text/plain": [
       "HBox(children=(IntProgress(value=0, description='Running Simulation ', max=500, style=ProgressStyle(descriptio…"
      ]
     },
     "metadata": {},
     "output_type": "display_data"
    },
    {
     "data": {
      "application/vnd.jupyter.widget-view+json": {
       "model_id": "0ab1a1ae3e724e948787848106629660",
       "version_major": 2,
       "version_minor": 0
      },
      "text/plain": [
       "HBox(children=(IntProgress(value=0, description='Running Simulation ', max=500, style=ProgressStyle(descriptio…"
      ]
     },
     "metadata": {},
     "output_type": "display_data"
    },
    {
     "name": "stdout",
     "output_type": "stream",
     "text": [
      "Running Random Network Regression: 250 nodes\n",
      "Running Grid Network Regression: 250 nodes\n",
      "Running Grid Network Regression: 50 nodes\n",
      "Running Grid Network Regression: 100 nodes\n"
     ]
    },
    {
     "name": "stderr",
     "output_type": "stream",
     "text": [
      "2020-05-22 13:31:00,510:INFO:First current path [0, 24, 52, 2] formed at time = 0.75 s.\n"
     ]
    },
    {
     "name": "stdout",
     "output_type": "stream",
     "text": [
      "Running Random Network Regression: 50 nodes\n",
      "Running Grid Network Regression: 150 nodes\n",
      "Running Grid Network Regression: 295 nodes\n",
      "Running Random Network Regression: 300 nodes\n",
      "Running Random Network Regression: 100 nodes\n"
     ]
    },
    {
     "name": "stderr",
     "output_type": "stream",
     "text": [
      "2020-05-22 13:31:00,782:INFO:First current path [0, 7, 20, 33, 46, 59, 72, 85, 98, 111, 124, 137, 145] formed at time = 0.76 s.\n"
     ]
    },
    {
     "name": "stdout",
     "output_type": "stream",
     "text": [
      "Running Random Network Regression: 150 nodes\n",
      "Running Grid Network Regression: 200 nodes\n"
     ]
    },
    {
     "data": {
      "application/vnd.jupyter.widget-view+json": {
       "model_id": "ad80fc95b9064e0190746b6a01fdadc8",
       "version_major": 2,
       "version_minor": 0
      },
      "text/plain": [
       "HBox(children=(IntProgress(value=0, description='Running Simulation ', max=500, style=ProgressStyle(descriptio…"
      ]
     },
     "metadata": {},
     "output_type": "display_data"
    },
    {
     "name": "stderr",
     "output_type": "stream",
     "text": [
      "2020-05-22 13:31:01,000:INFO:First current path [0, 20, 129, 11] formed at time = 0.75 s.\n"
     ]
    },
    {
     "name": "stdout",
     "output_type": "stream",
     "text": [
      "Running Random Network Regression: 50 nodes\n",
      "Running Random Network Regression: 100 nodes\n",
      "Running Random Network Regression: 200 nodes\n",
      "Running Random Network Regression: 150 nodes\n",
      "Running Grid Network Regression: 250 nodes\n",
      "Running Random Network Regression: 200 nodes\n",
      "Running Random Network Regression: 250 nodes\n",
      "Running Grid Network Regression: 50 nodes\n"
     ]
    },
    {
     "data": {
      "application/vnd.jupyter.widget-view+json": {
       "model_id": "a40e1c3caee5446fbe6be49129f38106",
       "version_major": 2,
       "version_minor": 0
      },
      "text/plain": [
       "HBox(children=(IntProgress(value=0, description='Running Simulation ', max=500, style=ProgressStyle(descriptio…"
      ]
     },
     "metadata": {},
     "output_type": "display_data"
    },
    {
     "name": "stdout",
     "output_type": "stream",
     "text": [
      "Running Grid Network Regression: 100 nodes\n",
      "Running Grid Network Regression: 150 nodes\n",
      "Running Random Network Regression: 250 nodes\n",
      "Running Grid Network Regression: 295 nodes\n",
      "Running Grid Network Regression: 200 nodes\n",
      "Running Random Network Regression: 299 nodes\n"
     ]
    },
    {
     "name": "stderr",
     "output_type": "stream",
     "text": [
      "2020-05-22 13:31:02,543:INFO:First current path [0, 76, 144, 8] formed at time = 0.75 s.\n"
     ]
    },
    {
     "name": "stdout",
     "output_type": "stream",
     "text": [
      "Running Random Network Regression: 50 nodes\n",
      "Running Random Network Regression: 100 nodes\n",
      "Running Random Network Regression: 150 nodes\n",
      "Running Grid Network Regression: 250 nodes\n",
      "Running Random Network Regression: 300 nodes\n",
      "Running Random Network Regression: 200 nodes\n"
     ]
    },
    {
     "data": {
      "application/vnd.jupyter.widget-view+json": {
       "model_id": "5d877baa4ed1476a831cf2f11db6ee83",
       "version_major": 2,
       "version_minor": 0
      },
      "text/plain": [
       "HBox(children=(IntProgress(value=0, description='Running Simulation ', max=500, style=ProgressStyle(descriptio…"
      ]
     },
     "metadata": {},
     "output_type": "display_data"
    },
    {
     "name": "stderr",
     "output_type": "stream",
     "text": [
      "2020-05-22 13:31:03,326:INFO:First current path [0, 7, 21, 35, 49, 63, 77, 91, 105, 118, 131, 142] formed at time = 0.76 s.\n"
     ]
    },
    {
     "data": {
      "application/vnd.jupyter.widget-view+json": {
       "model_id": "5664b8a6dfb64fdf92f0a0a6b18cd2bb",
       "version_major": 2,
       "version_minor": 0
      },
      "text/plain": [
       "HBox(children=(IntProgress(value=0, description='Running Simulation ', max=500, style=ProgressStyle(descriptio…"
      ]
     },
     "metadata": {},
     "output_type": "display_data"
    },
    {
     "data": {
      "application/vnd.jupyter.widget-view+json": {
       "model_id": "c54c39133986468e8ce187e30d1b30cf",
       "version_major": 2,
       "version_minor": 0
      },
      "text/plain": [
       "HBox(children=(IntProgress(value=0, description='Running Simulation ', max=500, style=ProgressStyle(descriptio…"
      ]
     },
     "metadata": {},
     "output_type": "display_data"
    },
    {
     "name": "stdout",
     "output_type": "stream",
     "text": [
      "Running Grid Network Regression: 50 nodes\n",
      "Running Random Network Regression: 250 nodes\n",
      "Running Grid Network Regression: 100 nodes\n",
      "Running Grid Network Regression: 300 nodes\n",
      "Running Grid Network Regression: 150 nodes\n",
      "Running Grid Network Regression: 50 nodes\n",
      "Running Grid Network Regression: 200 nodes\n",
      "Running Grid Network Regression: 100 nodes\n"
     ]
    },
    {
     "name": "stderr",
     "output_type": "stream",
     "text": [
      "2020-05-22 13:31:04,409:INFO:First current path [0, 277, 274, 271, 268, 265, 262, 259, 256, 253, 250, 247, 244, 241, 238, 235, 232, 229, 226, 223, 220, 217, 214, 211, 208, 205, 202, 199, 196, 193, 190, 187, 184, 181, 178, 175, 172, 169, 166, 163, 160, 157, 154, 151, 148, 145, 142, 140] formed at time = 0.75 s.\n"
     ]
    },
    {
     "name": "stdout",
     "output_type": "stream",
     "text": [
      "Running Grid Network Regression: 150 nodes\n",
      "Running Random Network Regression: 300 nodes\n"
     ]
    },
    {
     "data": {
      "application/vnd.jupyter.widget-view+json": {
       "model_id": "15cfdeaa791a48c294cc8ffefcd1f377",
       "version_major": 2,
       "version_minor": 0
      },
      "text/plain": [
       "HBox(children=(IntProgress(value=0, description='Running Simulation ', max=500, style=ProgressStyle(descriptio…"
      ]
     },
     "metadata": {},
     "output_type": "display_data"
    },
    {
     "name": "stdout",
     "output_type": "stream",
     "text": [
      "Running Grid Network Regression: 250 nodes\n",
      "Running Grid Network Regression: 200 nodes\n"
     ]
    },
    {
     "name": "stderr",
     "output_type": "stream",
     "text": [
      "2020-05-22 13:31:04,916:INFO:First current path [0, 6, 17, 28, 39, 50, 61, 72, 83, 94, 105, 116, 127, 138, 145] formed at time = 0.76 s.\n",
      "2020-05-22 13:31:05,022:INFO:First current path [0, 29, 73, 10] formed at time = 0.75 s.\n"
     ]
    },
    {
     "name": "stdout",
     "output_type": "stream",
     "text": [
      "Running Random Network Regression: 50 nodes\n"
     ]
    },
    {
     "data": {
      "application/vnd.jupyter.widget-view+json": {
       "model_id": "200eb480e4ee4628a792a9a24be89e77",
       "version_major": 2,
       "version_minor": 0
      },
      "text/plain": [
       "HBox(children=(IntProgress(value=0, description='Running Simulation ', max=500, style=ProgressStyle(descriptio…"
      ]
     },
     "metadata": {},
     "output_type": "display_data"
    },
    {
     "name": "stdout",
     "output_type": "stream",
     "text": [
      "Running Random Network Regression: 100 nodes\n",
      "Running Random Network Regression: 150 nodes\n",
      "Running Grid Network Regression: 250 nodes\n"
     ]
    },
    {
     "data": {
      "application/vnd.jupyter.widget-view+json": {
       "model_id": "9f68e3781b0b4eb780de3c9800273558",
       "version_major": 2,
       "version_minor": 0
      },
      "text/plain": [
       "HBox(children=(IntProgress(value=0, description='Running Simulation ', max=500, style=ProgressStyle(descriptio…"
      ]
     },
     "metadata": {},
     "output_type": "display_data"
    },
    {
     "name": "stdout",
     "output_type": "stream",
     "text": [
      "Running Grid Network Regression: 299 nodes\n",
      "Running Random Network Regression: 200 nodes\n",
      "Running Grid Network Regression: 50 nodes\n"
     ]
    },
    {
     "name": "stderr",
     "output_type": "stream",
     "text": [
      "2020-05-22 13:31:05,662:INFO:First current path [0, 48, 137, 217, 232, 169] formed at time = 0.76 s.\n"
     ]
    },
    {
     "name": "stdout",
     "output_type": "stream",
     "text": [
      "Running Random Network Regression: 50 nodes\n",
      "Running Grid Network Regression: 100 nodes\n",
      "Running Random Network Regression: 100 nodes\n",
      "Running Grid Network Regression: 150 nodes\n",
      "Running Random Network Regression: 150 nodes\n",
      "Running Random Network Regression: 250 nodes\n",
      "Running Grid Network Regression: 300 nodes\n",
      "Running Grid Network Regression: 200 nodes\n",
      "Running Random Network Regression: 200 nodes\n"
     ]
    },
    {
     "name": "stderr",
     "output_type": "stream",
     "text": [
      "2020-05-22 13:31:06,559:INFO:First current path [0, 85, 229, 4] formed at time = 0.75 s.\n"
     ]
    },
    {
     "name": "stdout",
     "output_type": "stream",
     "text": [
      "Running Random Network Regression: 50 nodes\n",
      "Running Random Network Regression: 100 nodes\n",
      "Running Grid Network Regression: 250 nodes\n"
     ]
    },
    {
     "name": "stderr",
     "output_type": "stream",
     "text": [
      "2020-05-22 13:31:06,767:INFO:First current path [0, 5, 14, 23, 32, 41, 50, 59, 68, 77, 86, 95, 104, 113, 122, 131, 140, 146] formed at time = 0.76 s.\n"
     ]
    },
    {
     "data": {
      "application/vnd.jupyter.widget-view+json": {
       "model_id": "6d6820c666d441889e5ec70f036de94d",
       "version_major": 2,
       "version_minor": 0
      },
      "text/plain": [
       "HBox(children=(IntProgress(value=0, description='Running Simulation ', max=500, style=ProgressStyle(descriptio…"
      ]
     },
     "metadata": {},
     "output_type": "display_data"
    },
    {
     "name": "stdout",
     "output_type": "stream",
     "text": [
      "Running Random Network Regression: 250 nodes\n",
      "Running Random Network Regression: 150 nodes\n"
     ]
    },
    {
     "data": {
      "application/vnd.jupyter.widget-view+json": {
       "model_id": "f0dce87ce70a46f3a0a6747e99426d8e",
       "version_major": 2,
       "version_minor": 0
      },
      "text/plain": [
       "HBox(children=(IntProgress(value=0, description='Running Simulation ', max=500, style=ProgressStyle(descriptio…"
      ]
     },
     "metadata": {},
     "output_type": "display_data"
    },
    {
     "name": "stdout",
     "output_type": "stream",
     "text": [
      "Running Random Network Regression: 300 nodes\n",
      "Running Random Network Regression: 200 nodes\n",
      "Running Grid Network Regression: 300 nodes\n",
      "Running Random Network Regression: 279 nodes\n",
      "Running Random Network Regression: 250 nodes\n"
     ]
    },
    {
     "name": "stderr",
     "output_type": "stream",
     "text": [
      "2020-05-22 13:31:08,101:INFO:First current path [0, 294, 287, 280, 273, 266, 259, 252, 245, 238, 231, 224, 217, 210, 203, 196, 189, 182, 175, 168, 161, 154, 149] formed at time = 0.75 s.\n"
     ]
    },
    {
     "name": "stdout",
     "output_type": "stream",
     "text": [
      "Running Grid Network Regression: 50 nodes\n",
      "Running Grid Network Regression: 100 nodes\n"
     ]
    },
    {
     "data": {
      "application/vnd.jupyter.widget-view+json": {
       "model_id": "97e8e4eec33048ba965665d668f0738e",
       "version_major": 2,
       "version_minor": 0
      },
      "text/plain": [
       "HBox(children=(IntProgress(value=0, description='Running Simulation ', max=500, style=ProgressStyle(descriptio…"
      ]
     },
     "metadata": {},
     "output_type": "display_data"
    },
    {
     "name": "stderr",
     "output_type": "stream",
     "text": [
      "2020-05-22 13:31:08,288:INFO:First current path [0, 151, 291, 8] formed at time = 0.75 s.\n"
     ]
    },
    {
     "name": "stdout",
     "output_type": "stream",
     "text": [
      "Running Random Network Regression: 50 nodes\n",
      "Running Random Network Regression: 100 nodes\n",
      "Running Grid Network Regression: 150 nodes\n",
      "Running Grid Network Regression: 50 nodes\n"
     ]
    },
    {
     "data": {
      "application/vnd.jupyter.widget-view+json": {
       "model_id": "6590ae7334414d32a426103d947a1052",
       "version_major": 2,
       "version_minor": 0
      },
      "text/plain": [
       "HBox(children=(IntProgress(value=0, description='Running Simulation ', max=500, style=ProgressStyle(descriptio…"
      ]
     },
     "metadata": {},
     "output_type": "display_data"
    },
    {
     "name": "stdout",
     "output_type": "stream",
     "text": [
      "Running Random Network Regression: 300 nodes\n",
      "Running Random Network Regression: 150 nodes\n",
      "Running Grid Network Regression: 100 nodes\n",
      "Running Grid Network Regression: 150 nodes\n",
      "Running Grid Network Regression: 200 nodes\n",
      "Running Random Network Regression: 200 nodes\n",
      "Running Grid Network Regression: 200 nodes\n"
     ]
    },
    {
     "data": {
      "application/vnd.jupyter.widget-view+json": {
       "model_id": "4feff51ab4c642ac83a815b4094e7d63",
       "version_major": 2,
       "version_minor": 0
      },
      "text/plain": [
       "HBox(children=(IntProgress(value=0, description='Running Simulation ', max=500, style=ProgressStyle(descriptio…"
      ]
     },
     "metadata": {},
     "output_type": "display_data"
    },
    {
     "name": "stdout",
     "output_type": "stream",
     "text": [
      "Running Grid Network Regression: 250 nodes\n",
      "Running Random Network Regression: 250 nodes\n",
      "Running Grid Network Regression: 250 nodes\n"
     ]
    },
    {
     "name": "stderr",
     "output_type": "stream",
     "text": [
      "2020-05-22 13:31:09,651:INFO:First current path [26, 3, 108, 290, 218] formed at time = 0.77 s.\n"
     ]
    },
    {
     "name": "stdout",
     "output_type": "stream",
     "text": [
      "Running Random Network Regression: 50 nodes\n",
      "Running Grid Network Regression: 50 nodes\n",
      "Running Random Network Regression: 100 nodes\n",
      "Running Grid Network Regression: 100 nodes\n"
     ]
    },
    {
     "name": "stderr",
     "output_type": "stream",
     "text": [
      "2020-05-22 13:31:09,794:INFO:First current path [0, 3, 8, 13, 18, 23, 28, 33, 38, 43, 48, 53, 58, 63, 68, 73, 78, 83, 88, 93, 98, 103, 108, 113, 118, 123, 128, 133, 138, 143, 147] formed at time = 0.76 s.\n"
     ]
    },
    {
     "name": "stdout",
     "output_type": "stream",
     "text": [
      "Running Random Network Regression: 150 nodes\n"
     ]
    },
    {
     "data": {
      "application/vnd.jupyter.widget-view+json": {
       "model_id": "a200557ddf28479997f48adda9b8a62c",
       "version_major": 2,
       "version_minor": 0
      },
      "text/plain": [
       "HBox(children=(IntProgress(value=0, description='Running Simulation ', max=500, style=ProgressStyle(descriptio…"
      ]
     },
     "metadata": {},
     "output_type": "display_data"
    },
    {
     "name": "stdout",
     "output_type": "stream",
     "text": [
      "Running Grid Network Regression: 150 nodes\n",
      "Running Grid Network Regression: 300 nodes\n",
      "Running Random Network Regression: 296 nodes\n",
      "Running Random Network Regression: 200 nodes\n",
      "Running Grid Network Regression: 200 nodes\n",
      "Running Grid Network Regression: 279 nodes\n"
     ]
    },
    {
     "name": "stderr",
     "output_type": "stream",
     "text": [
      "2020-05-22 13:31:10,366:INFO:First current path [0, 3, 7, 11, 15, 19, 23, 27, 31, 35, 39, 43, 47, 51, 55, 59, 63, 67, 71, 75, 79, 83, 87, 91, 95, 99, 103, 107, 111, 115, 119, 123, 127, 131, 135, 139, 142] formed at time = 0.75 s.\n"
     ]
    },
    {
     "data": {
      "application/vnd.jupyter.widget-view+json": {
       "model_id": "a493e09f152245b187c03a3d42e38f64",
       "version_major": 2,
       "version_minor": 0
      },
      "text/plain": [
       "HBox(children=(IntProgress(value=0, description='Running Simulation ', max=500, style=ProgressStyle(descriptio…"
      ]
     },
     "metadata": {},
     "output_type": "display_data"
    },
    {
     "name": "stdout",
     "output_type": "stream",
     "text": [
      "Running Grid Network Regression: 250 nodes\n",
      "Running Random Network Regression: 250 nodes\n"
     ]
    },
    {
     "data": {
      "application/vnd.jupyter.widget-view+json": {
       "model_id": "2db83ab2171a45d8a16957dca2aabcce",
       "version_major": 2,
       "version_minor": 0
      },
      "text/plain": [
       "HBox(children=(IntProgress(value=0, description='Running Simulation ', max=500, style=ProgressStyle(descriptio…"
      ]
     },
     "metadata": {},
     "output_type": "display_data"
    },
    {
     "name": "stderr",
     "output_type": "stream",
     "text": [
      "2020-05-22 13:31:11,235:INFO:First current path [0, 34, 65, 181, 10] formed at time = 0.75 s.\n"
     ]
    },
    {
     "name": "stdout",
     "output_type": "stream",
     "text": [
      "Running Random Network Regression: 50 nodes\n",
      "Running Random Network Regression: 100 nodes\n",
      "Running Grid Network Regression: 50 nodes\n",
      "Running Grid Network Regression: 100 nodes\n",
      "Running Random Network Regression: 150 nodes\n",
      "Running Grid Network Regression: 300 nodes\n",
      "Running Grid Network Regression: 150 nodes\n",
      "Running Random Network Regression: 299 nodes\n"
     ]
    },
    {
     "name": "stderr",
     "output_type": "stream",
     "text": [
      "2020-05-22 13:31:11,778:INFO:First current path [18, 57, 9, 121, 266, 203] formed at time = 0.76 s.\n"
     ]
    },
    {
     "name": "stdout",
     "output_type": "stream",
     "text": [
      "Running Random Network Regression: 50 nodes\n",
      "Running Random Network Regression: 200 nodes\n",
      "Running Random Network Regression: 100 nodes\n",
      "Running Grid Network Regression: 200 nodes\n",
      "Running Random Network Regression: 150 nodes\n",
      "Running Random Network Regression: 250 nodes\n"
     ]
    },
    {
     "name": "stderr",
     "output_type": "stream",
     "text": [
      "2020-05-22 13:31:12,432:INFO:First current path [0, 295, 292, 289, 286, 283, 280, 277, 274, 271, 268, 265, 262, 259, 256, 253, 250, 247, 244, 241, 238, 235, 232, 229, 226, 223, 220, 217, 214, 211, 208, 205, 202, 199, 196, 193, 190, 187, 184, 181, 178, 175, 172, 169, 166, 163, 160, 157, 154, 151, 149] formed at time = 0.75 s.\n"
     ]
    },
    {
     "name": "stdout",
     "output_type": "stream",
     "text": [
      "Running Random Network Regression: 200 nodes\n",
      "Running Grid Network Regression: 250 nodes\n"
     ]
    },
    {
     "data": {
      "application/vnd.jupyter.widget-view+json": {
       "model_id": "bcab589a43f9414eb9d09faf43f2f8a1",
       "version_major": 2,
       "version_minor": 0
      },
      "text/plain": [
       "HBox(children=(IntProgress(value=0, description='Running Simulation ', max=500, style=ProgressStyle(descriptio…"
      ]
     },
     "metadata": {},
     "output_type": "display_data"
    },
    {
     "name": "stdout",
     "output_type": "stream",
     "text": [
      "Running Grid Network Regression: 50 nodes\n",
      "Running Grid Network Regression: 100 nodes\n",
      "Running Random Network Regression: 250 nodes\n",
      "Running Random Network Regression: 293 nodes\n",
      "Running Grid Network Regression: 150 nodes\n",
      "Running Grid Network Regression: 296 nodes\n"
     ]
    },
    {
     "data": {
      "application/vnd.jupyter.widget-view+json": {
       "model_id": "2c64e29d5ba14e93aebe99a24a009a96",
       "version_major": 2,
       "version_minor": 0
      },
      "text/plain": [
       "HBox(children=(IntProgress(value=0, description='Running Simulation ', max=500, style=ProgressStyle(descriptio…"
      ]
     },
     "metadata": {},
     "output_type": "display_data"
    },
    {
     "name": "stdout",
     "output_type": "stream",
     "text": [
      "Running Grid Network Regression: 200 nodes\n"
     ]
    },
    {
     "data": {
      "application/vnd.jupyter.widget-view+json": {
       "model_id": "b23f15975ffb4ca1b541586608bfde4d",
       "version_major": 2,
       "version_minor": 0
      },
      "text/plain": [
       "HBox(children=(IntProgress(value=0, description='Running Simulation ', max=500, style=ProgressStyle(descriptio…"
      ]
     },
     "metadata": {},
     "output_type": "display_data"
    },
    {
     "name": "stdout",
     "output_type": "stream",
     "text": [
      "Running Random Network Regression: 289 nodes\n"
     ]
    },
    {
     "name": "stderr",
     "output_type": "stream",
     "text": [
      "2020-05-22 13:31:13,903:INFO:First current path [260, 108, 276, 272, 43, 45, 102] formed at time = 0.78 s.\n"
     ]
    },
    {
     "name": "stdout",
     "output_type": "stream",
     "text": [
      "Running Random Network Regression: 50 nodes\n",
      "Running Random Network Regression: 100 nodes\n",
      "Running Grid Network Regression: 250 nodes\n",
      "Running Grid Network Regression: 50 nodes\n",
      "Running Grid Network Regression: 100 nodes\n",
      "Running Random Network Regression: 150 nodes\n",
      "Running Grid Network Regression: 150 nodes\n",
      "Running Random Network Regression: 200 nodes\n"
     ]
    },
    {
     "name": "stderr",
     "output_type": "stream",
     "text": [
      "2020-05-22 13:31:14,629:INFO:First current path [0, 2, 5, 8, 11, 14, 17, 20, 23, 26, 29, 32, 35, 38, 41, 44, 47, 50, 53, 56, 59, 62, 65, 68, 71, 74, 77, 80, 83, 86, 89, 92, 95, 98, 101, 104, 107, 110, 113, 116, 119, 122, 125, 128, 131, 134, 137, 140] formed at time = 0.76 s.\n"
     ]
    },
    {
     "name": "stdout",
     "output_type": "stream",
     "text": [
      "Running Grid Network Regression: 200 nodes\n"
     ]
    },
    {
     "data": {
      "application/vnd.jupyter.widget-view+json": {
       "model_id": "f20e4d7573984eeb82ee2ac4c2960b54",
       "version_major": 2,
       "version_minor": 0
      },
      "text/plain": [
       "HBox(children=(IntProgress(value=0, description='Running Simulation ', max=500, style=ProgressStyle(descriptio…"
      ]
     },
     "metadata": {},
     "output_type": "display_data"
    },
    {
     "name": "stderr",
     "output_type": "stream",
     "text": [
      "2020-05-22 13:31:14,808:INFO:First current path [0, 277, 274, 271, 268, 265, 262, 259, 256, 253, 250, 247, 244, 241, 238, 235, 232, 229, 226, 223, 220, 217, 214, 211, 208, 205, 202, 199, 196, 193, 190, 187, 184, 181, 178, 175, 172, 169, 166, 163, 160, 157, 154, 151, 148, 145, 142, 140] formed at time = 0.75 s.\n"
     ]
    },
    {
     "name": "stdout",
     "output_type": "stream",
     "text": [
      "Running Grid Network Regression: 299 nodes\n"
     ]
    },
    {
     "data": {
      "application/vnd.jupyter.widget-view+json": {
       "model_id": "e9d0373054834b94849c9954e866e768",
       "version_major": 2,
       "version_minor": 0
      },
      "text/plain": [
       "HBox(children=(IntProgress(value=0, description='Running Simulation ', max=500, style=ProgressStyle(descriptio…"
      ]
     },
     "metadata": {},
     "output_type": "display_data"
    },
    {
     "name": "stdout",
     "output_type": "stream",
     "text": [
      "Running Grid Network Regression: 50 nodes\n",
      "Running Grid Network Regression: 100 nodes\n",
      "Running Random Network Regression: 250 nodes\n",
      "Running Grid Network Regression: 250 nodes\n",
      "Running Grid Network Regression: 150 nodes\n",
      "Running Grid Network Regression: 200 nodes\n"
     ]
    },
    {
     "name": "stderr",
     "output_type": "stream",
     "text": [
      "2020-05-22 13:31:15,872:INFO:First current path [0, 98, 209, 273, 168, 64] formed at time = 0.75 s.\n"
     ]
    },
    {
     "name": "stdout",
     "output_type": "stream",
     "text": [
      "Running Random Network Regression: 50 nodes\n",
      "Running Random Network Regression: 297 nodes\n",
      "Running Random Network Regression: 100 nodes\n"
     ]
    },
    {
     "data": {
      "application/vnd.jupyter.widget-view+json": {
       "model_id": "ac390b87662b4fd8831f03294e9cfc5b",
       "version_major": 2,
       "version_minor": 0
      },
      "text/plain": [
       "HBox(children=(IntProgress(value=0, description='Running Simulation ', max=500, style=ProgressStyle(descriptio…"
      ]
     },
     "metadata": {},
     "output_type": "display_data"
    },
    {
     "name": "stdout",
     "output_type": "stream",
     "text": [
      "Running Grid Network Regression: 293 nodes\n"
     ]
    },
    {
     "name": "stderr",
     "output_type": "stream",
     "text": [
      "2020-05-22 13:31:16,066:INFO:First current path [0, 12, 11, 198, 265, 180] formed at time = 0.76 s.\n"
     ]
    },
    {
     "name": "stdout",
     "output_type": "stream",
     "text": [
      "Running Random Network Regression: 50 nodes\n",
      "Running Grid Network Regression: 250 nodes\n",
      "Running Random Network Regression: 150 nodes\n",
      "Running Random Network Regression: 100 nodes\n",
      "Running Random Network Regression: 150 nodes\n",
      "Running Random Network Regression: 200 nodes\n",
      "Running Random Network Regression: 200 nodes\n",
      "Running Grid Network Regression: 289 nodes\n",
      "Running Grid Network Regression: 50 nodes\n",
      "Running Random Network Regression: 250 nodes\n",
      "Running Grid Network Regression: 100 nodes\n"
     ]
    },
    {
     "name": "stderr",
     "output_type": "stream",
     "text": [
      "2020-05-22 13:31:17,054:INFO:First current path [0, 2, 4, 6, 8, 10, 12, 14, 16, 18, 20, 22, 24, 26, 28, 30, 32, 34, 36, 38, 40, 42, 44, 46, 48, 50, 52, 54, 56, 58, 60, 62, 64, 66, 68, 70, 72, 74, 76, 78, 80, 82, 84, 86, 88, 90, 92, 94, 96, 98, 100, 102, 104, 106, 108, 110, 112, 114, 116, 118, 120, 122, 124, 126, 128, 130, 132, 134, 136, 138] formed at time = 0.75 s.\n"
     ]
    },
    {
     "data": {
      "application/vnd.jupyter.widget-view+json": {
       "model_id": "361e9e380d264fcf8321c15ebbd6c400",
       "version_major": 2,
       "version_minor": 0
      },
      "text/plain": [
       "HBox(children=(IntProgress(value=0, description='Running Simulation ', max=500, style=ProgressStyle(descriptio…"
      ]
     },
     "metadata": {},
     "output_type": "display_data"
    },
    {
     "data": {
      "application/vnd.jupyter.widget-view+json": {
       "model_id": "b0f91b2b31a14308bc5d4ebf7bce4873",
       "version_major": 2,
       "version_minor": 0
      },
      "text/plain": [
       "HBox(children=(IntProgress(value=0, description='Running Simulation ', max=500, style=ProgressStyle(descriptio…"
      ]
     },
     "metadata": {},
     "output_type": "display_data"
    },
    {
     "name": "stdout",
     "output_type": "stream",
     "text": [
      "Running Random Network Regression: 250 nodes\n",
      "Running Grid Network Regression: 150 nodes\n",
      "Running Grid Network Regression: 200 nodes\n",
      "Running Random Network Regression: 282 nodes\n",
      "Running Random Network Regression: 279 nodes\n",
      "Running Grid Network Regression: 250 nodes\n"
     ]
    },
    {
     "name": "stderr",
     "output_type": "stream",
     "text": [
      "2020-05-22 13:31:18,270:INFO:First current path [2, 19, 212, 73, 267, 151, 266, 150] formed at time = 0.76 s.\n"
     ]
    },
    {
     "name": "stdout",
     "output_type": "stream",
     "text": [
      "Running Random Network Regression: 50 nodes\n",
      "Running Random Network Regression: 100 nodes\n",
      "Running Random Network Regression: 150 nodes\n"
     ]
    },
    {
     "name": "stderr",
     "output_type": "stream",
     "text": [
      "2020-05-22 13:31:18,569:INFO:First current path [0, 6, 16, 26, 36, 46, 56, 66, 76, 86, 96, 106, 116, 126, 136, 142] formed at time = 0.76 s.\n"
     ]
    },
    {
     "data": {
      "application/vnd.jupyter.widget-view+json": {
       "model_id": "ca2dfb4e34a344bb90af54ca014c98fe",
       "version_major": 2,
       "version_minor": 0
      },
      "text/plain": [
       "HBox(children=(IntProgress(value=0, description='Running Simulation ', max=500, style=ProgressStyle(descriptio…"
      ]
     },
     "metadata": {},
     "output_type": "display_data"
    },
    {
     "name": "stdout",
     "output_type": "stream",
     "text": [
      "Running Grid Network Regression: 50 nodes\n",
      "Running Random Network Regression: 200 nodes\n",
      "Running Grid Network Regression: 297 nodes\n",
      "Running Grid Network Regression: 100 nodes\n"
     ]
    },
    {
     "data": {
      "application/vnd.jupyter.widget-view+json": {
       "model_id": "676baed6ba044022bd77aed25a1ee909",
       "version_major": 2,
       "version_minor": 0
      },
      "text/plain": [
       "HBox(children=(IntProgress(value=0, description='Running Simulation ', max=500, style=ProgressStyle(descriptio…"
      ]
     },
     "metadata": {},
     "output_type": "display_data"
    },
    {
     "name": "stdout",
     "output_type": "stream",
     "text": [
      "Running Grid Network Regression: 50 nodes\n",
      "Running Grid Network Regression: 100 nodes\n",
      "Running Grid Network Regression: 150 nodes\n"
     ]
    },
    {
     "data": {
      "application/vnd.jupyter.widget-view+json": {
       "model_id": "25cc95f04ce744d0a0369b22d93378f3",
       "version_major": 2,
       "version_minor": 0
      },
      "text/plain": [
       "HBox(children=(IntProgress(value=0, description='Running Simulation ', max=500, style=ProgressStyle(descriptio…"
      ]
     },
     "metadata": {},
     "output_type": "display_data"
    },
    {
     "name": "stdout",
     "output_type": "stream",
     "text": [
      "Running Grid Network Regression: 150 nodes\n",
      "Running Random Network Regression: 250 nodes\n",
      "Running Grid Network Regression: 200 nodes\n",
      "Running Grid Network Regression: 200 nodes\n",
      "Running Grid Network Regression: 250 nodes\n",
      "Running Grid Network Regression: 250 nodes\n",
      "Running Random Network Regression: 277 nodes\n"
     ]
    },
    {
     "name": "stderr",
     "output_type": "stream",
     "text": [
      "2020-05-22 13:31:20,171:INFO:First current path [0, 5, 100, 14] formed at time = 0.75 s.\n"
     ]
    },
    {
     "name": "stdout",
     "output_type": "stream",
     "text": [
      "Running Random Network Regression: 50 nodes\n",
      "Running Random Network Regression: 100 nodes\n"
     ]
    },
    {
     "name": "stderr",
     "output_type": "stream",
     "text": [
      "2020-05-22 13:31:20,251:INFO:First current path [0, 6, 17, 28, 39, 50, 61, 72, 83, 94, 105, 116, 127, 138, 145] formed at time = 0.76 s.\n"
     ]
    },
    {
     "data": {
      "application/vnd.jupyter.widget-view+json": {
       "model_id": "0cc568e91cf7478a8b7206674312ac90",
       "version_major": 2,
       "version_minor": 0
      },
      "text/plain": [
       "HBox(children=(IntProgress(value=0, description='Running Simulation ', max=500, style=ProgressStyle(descriptio…"
      ]
     },
     "metadata": {},
     "output_type": "display_data"
    },
    {
     "name": "stdout",
     "output_type": "stream",
     "text": [
      "Running Random Network Regression: 150 nodes\n"
     ]
    },
    {
     "name": "stderr",
     "output_type": "stream",
     "text": [
      "2020-05-22 13:31:20,539:INFO:First current path [0, 5, 14, 23, 32, 41, 50, 59, 68, 77, 86, 95, 104, 113, 122, 131, 140, 146] formed at time = 0.76 s.\n"
     ]
    },
    {
     "name": "stdout",
     "output_type": "stream",
     "text": [
      "Running Grid Network Regression: 282 nodes\n"
     ]
    },
    {
     "data": {
      "application/vnd.jupyter.widget-view+json": {
       "model_id": "305ed6881f984610b55c4a993fa0e597",
       "version_major": 2,
       "version_minor": 0
      },
      "text/plain": [
       "HBox(children=(IntProgress(value=0, description='Running Simulation ', max=500, style=ProgressStyle(descriptio…"
      ]
     },
     "metadata": {},
     "output_type": "display_data"
    },
    {
     "name": "stdout",
     "output_type": "stream",
     "text": [
      "Running Random Network Regression: 200 nodes\n",
      "Running Grid Network Regression: 279 nodes\n",
      "Running Grid Network Regression: 50 nodes\n",
      "Running Grid Network Regression: 100 nodes\n",
      "Running Grid Network Regression: 150 nodes\n",
      "Running Random Network Regression: 250 nodes\n",
      "Running Grid Network Regression: 200 nodes\n",
      "Running Grid Network Regression: 250 nodes\n",
      "Running Random Network Regression: 300 nodes\n"
     ]
    },
    {
     "name": "stderr",
     "output_type": "stream",
     "text": [
      "2020-05-22 13:31:22,157:INFO:First current path [0, 37, 164, 14] formed at time = 0.75 s.\n"
     ]
    },
    {
     "name": "stdout",
     "output_type": "stream",
     "text": [
      "Running Random Network Regression: 50 nodes\n"
     ]
    },
    {
     "data": {
      "application/vnd.jupyter.widget-view+json": {
       "model_id": "caa708e451f840398075ea5633d609c7",
       "version_major": 2,
       "version_minor": 0
      },
      "text/plain": [
       "HBox(children=(IntProgress(value=0, description='Running Simulation ', max=500, style=ProgressStyle(descriptio…"
      ]
     },
     "metadata": {},
     "output_type": "display_data"
    },
    {
     "name": "stdout",
     "output_type": "stream",
     "text": [
      "Running Random Network Regression: 100 nodes\n"
     ]
    },
    {
     "name": "stderr",
     "output_type": "stream",
     "text": [
      "2020-05-22 13:31:22,387:INFO:First current path [0, 26, 123, 7] formed at time = 0.75 s.\n"
     ]
    },
    {
     "name": "stdout",
     "output_type": "stream",
     "text": [
      "Running Random Network Regression: 50 nodes\n",
      "Running Random Network Regression: 150 nodes\n",
      "Running Random Network Regression: 100 nodes\n",
      "Running Random Network Regression: 150 nodes\n",
      "Running Random Network Regression: 200 nodes\n",
      "Running Grid Network Regression: 277 nodes\n",
      "Running Random Network Regression: 200 nodes\n"
     ]
    },
    {
     "data": {
      "application/vnd.jupyter.widget-view+json": {
       "model_id": "47e7caf93b0e4d29a6448ebe0edf2571",
       "version_major": 2,
       "version_minor": 0
      },
      "text/plain": [
       "HBox(children=(IntProgress(value=0, description='Running Simulation ', max=500, style=ProgressStyle(descriptio…"
      ]
     },
     "metadata": {},
     "output_type": "display_data"
    },
    {
     "name": "stdout",
     "output_type": "stream",
     "text": [
      "Running Grid Network Regression: 50 nodes\n",
      "Running Random Network Regression: 250 nodes\n",
      "Running Grid Network Regression: 100 nodes\n",
      "Running Random Network Regression: 250 nodes\n"
     ]
    },
    {
     "name": "stderr",
     "output_type": "stream",
     "text": [
      "2020-05-22 13:31:23,530:INFO:First current path [0, 4, 10, 16, 22, 28, 34, 40, 46, 52, 58, 64, 70, 76, 82, 88, 94, 100, 106, 112, 118, 124, 130, 136, 142, 146] formed at time = 0.75 s.\n"
     ]
    },
    {
     "name": "stdout",
     "output_type": "stream",
     "text": [
      "Running Grid Network Regression: 150 nodes\n"
     ]
    },
    {
     "data": {
      "application/vnd.jupyter.widget-view+json": {
       "model_id": "4ebb57260d2347d6b3da9e3ebb177f6a",
       "version_major": 2,
       "version_minor": 0
      },
      "text/plain": [
       "HBox(children=(IntProgress(value=0, description='Running Simulation ', max=500, style=ProgressStyle(descriptio…"
      ]
     },
     "metadata": {},
     "output_type": "display_data"
    },
    {
     "name": "stdout",
     "output_type": "stream",
     "text": [
      "Running Grid Network Regression: 200 nodes\n"
     ]
    },
    {
     "data": {
      "application/vnd.jupyter.widget-view+json": {
       "model_id": "076cec984d3b4687b2757e53cc3ddd52",
       "version_major": 2,
       "version_minor": 0
      },
      "text/plain": [
       "HBox(children=(IntProgress(value=0, description='Running Simulation ', max=500, style=ProgressStyle(descriptio…"
      ]
     },
     "metadata": {},
     "output_type": "display_data"
    },
    {
     "name": "stdout",
     "output_type": "stream",
     "text": [
      "Running Random Network Regression: 300 nodes\n"
     ]
    },
    {
     "name": "stderr",
     "output_type": "stream",
     "text": [
      "2020-05-22 13:31:24,325:INFO:First current path [0, 292, 287, 282, 277, 272, 267, 262, 257, 252, 247, 242, 237, 232, 227, 222, 217, 212, 207, 202, 197, 192, 187, 182, 177, 172, 167, 162, 157, 152, 147] formed at time = 0.75 s.\n"
     ]
    },
    {
     "name": "stdout",
     "output_type": "stream",
     "text": [
      "Running Random Network Regression: 294 nodes\n",
      "Running Grid Network Regression: 250 nodes\n"
     ]
    },
    {
     "data": {
      "application/vnd.jupyter.widget-view+json": {
       "model_id": "b554a595fd20410592813918d535a44a",
       "version_major": 2,
       "version_minor": 0
      },
      "text/plain": [
       "HBox(children=(IntProgress(value=0, description='Running Simulation ', max=500, style=ProgressStyle(descriptio…"
      ]
     },
     "metadata": {},
     "output_type": "display_data"
    },
    {
     "name": "stderr",
     "output_type": "stream",
     "text": [
      "2020-05-22 13:31:25,053:INFO:First current path [0, 38, 114, 266, 129] formed at time = 0.76 s.\n"
     ]
    },
    {
     "name": "stdout",
     "output_type": "stream",
     "text": [
      "Running Random Network Regression: 50 nodes\n",
      "Running Random Network Regression: 100 nodes\n",
      "Running Grid Network Regression: 50 nodes\n",
      "Running Random Network Regression: 150 nodes\n",
      "Running Grid Network Regression: 300 nodes\n"
     ]
    },
    {
     "name": "stderr",
     "output_type": "stream",
     "text": [
      "2020-05-22 13:31:25,352:INFO:First current path [0, 3, 7, 11, 15, 19, 23, 27, 31, 35, 39, 43, 47, 51, 55, 59, 63, 67, 71, 75, 79, 83, 87, 91, 95, 99, 103, 107, 111, 115, 119, 123, 127, 131, 135, 139, 143, 146] formed at time = 0.75 s.\n"
     ]
    },
    {
     "name": "stdout",
     "output_type": "stream",
     "text": [
      "Running Grid Network Regression: 100 nodes\n",
      "Running Grid Network Regression: 50 nodes\n"
     ]
    },
    {
     "data": {
      "application/vnd.jupyter.widget-view+json": {
       "model_id": "a023e4191e6d40e39e5c58e0551b0a60",
       "version_major": 2,
       "version_minor": 0
      },
      "text/plain": [
       "HBox(children=(IntProgress(value=0, description='Running Simulation ', max=500, style=ProgressStyle(descriptio…"
      ]
     },
     "metadata": {},
     "output_type": "display_data"
    },
    {
     "name": "stdout",
     "output_type": "stream",
     "text": [
      "Running Grid Network Regression: 100 nodes\n",
      "Running Grid Network Regression: 150 nodes\n",
      "Running Random Network Regression: 200 nodes\n",
      "Running Grid Network Regression: 150 nodes\n"
     ]
    },
    {
     "name": "stderr",
     "output_type": "stream",
     "text": [
      "2020-05-22 13:31:25,845:INFO:First current path [0, 89, 111, 283, 90] formed at time = 0.75 s.\n"
     ]
    },
    {
     "name": "stdout",
     "output_type": "stream",
     "text": [
      "Running Random Network Regression: 50 nodes\n",
      "Running Random Network Regression: 100 nodes\n",
      "Running Grid Network Regression: 200 nodes\n",
      "Running Grid Network Regression: 200 nodes\n",
      "Running Random Network Regression: 150 nodes\n"
     ]
    },
    {
     "data": {
      "application/vnd.jupyter.widget-view+json": {
       "model_id": "35cdbb3aaa824249951f92a18a8a216b",
       "version_major": 2,
       "version_minor": 0
      },
      "text/plain": [
       "HBox(children=(IntProgress(value=0, description='Running Simulation ', max=500, style=ProgressStyle(descriptio…"
      ]
     },
     "metadata": {},
     "output_type": "display_data"
    },
    {
     "name": "stdout",
     "output_type": "stream",
     "text": [
      "Running Random Network Regression: 250 nodes\n",
      "Running Random Network Regression: 200 nodes\n",
      "Running Grid Network Regression: 250 nodes\n",
      "Running Grid Network Regression: 250 nodes\n"
     ]
    },
    {
     "data": {
      "application/vnd.jupyter.widget-view+json": {
       "model_id": "9407c4588ba04e8b8264e6da119b361c",
       "version_major": 2,
       "version_minor": 0
      },
      "text/plain": [
       "HBox(children=(IntProgress(value=0, description='Running Simulation ', max=500, style=ProgressStyle(descriptio…"
      ]
     },
     "metadata": {},
     "output_type": "display_data"
    },
    {
     "name": "stderr",
     "output_type": "stream",
     "text": [
      "2020-05-22 13:31:26,841:INFO:First current path [14, 119, 112, 75, 105, 27] formed at time = 0.76 s.\n"
     ]
    },
    {
     "name": "stdout",
     "output_type": "stream",
     "text": [
      "Running Random Network Regression: 50 nodes\n",
      "Running Random Network Regression: 100 nodes\n",
      "Running Random Network Regression: 250 nodes\n",
      "Running Random Network Regression: 299 nodes\n",
      "Running Random Network Regression: 150 nodes\n"
     ]
    },
    {
     "name": "stderr",
     "output_type": "stream",
     "text": [
      "2020-05-22 13:31:27,325:INFO:First current path [0, 3, 7, 11, 15, 19, 23, 27, 31, 35, 39, 43, 47, 51, 55, 59, 63, 67, 71, 75, 79, 83, 87, 91, 95, 99, 103, 107, 111, 115, 119, 123, 127, 131, 135, 139, 142] formed at time = 0.75 s.\n"
     ]
    },
    {
     "name": "stdout",
     "output_type": "stream",
     "text": [
      "Running Grid Network Regression: 300 nodes\n",
      "Running Grid Network Regression: 294 nodes\n",
      "Running Random Network Regression: 200 nodes\n"
     ]
    },
    {
     "data": {
      "application/vnd.jupyter.widget-view+json": {
       "model_id": "1df711979d4e4df497167beddc909e46",
       "version_major": 2,
       "version_minor": 0
      },
      "text/plain": [
       "HBox(children=(IntProgress(value=0, description='Running Simulation ', max=500, style=ProgressStyle(descriptio…"
      ]
     },
     "metadata": {},
     "output_type": "display_data"
    },
    {
     "name": "stdout",
     "output_type": "stream",
     "text": [
      "Running Random Network Regression: 297 nodes\n"
     ]
    },
    {
     "name": "stderr",
     "output_type": "stream",
     "text": [
      "2020-05-22 13:31:27,841:INFO:First current path [0, 2, 5, 8, 11, 14, 17, 20, 23, 26, 29, 32, 35, 38, 41, 44, 47, 50, 53, 56, 59, 62, 65, 68, 71, 74, 77, 80, 83, 86, 89, 92, 95, 98, 101, 104, 107, 110, 113, 116, 119, 122, 125, 128, 131, 134, 137, 140] formed at time = 0.76 s.\n"
     ]
    },
    {
     "data": {
      "application/vnd.jupyter.widget-view+json": {
       "model_id": "61f2b8210f13473f9459e8d3ed4444df",
       "version_major": 2,
       "version_minor": 0
      },
      "text/plain": [
       "HBox(children=(IntProgress(value=0, description='Running Simulation ', max=500, style=ProgressStyle(descriptio…"
      ]
     },
     "metadata": {},
     "output_type": "display_data"
    },
    {
     "name": "stdout",
     "output_type": "stream",
     "text": [
      "Running Random Network Regression: 250 nodes\n"
     ]
    },
    {
     "data": {
      "application/vnd.jupyter.widget-view+json": {
       "model_id": "4a0e26420ce049aca85c7c14b41d13e9",
       "version_major": 2,
       "version_minor": 0
      },
      "text/plain": [
       "HBox(children=(IntProgress(value=0, description='Running Simulation ', max=500, style=ProgressStyle(descriptio…"
      ]
     },
     "metadata": {},
     "output_type": "display_data"
    },
    {
     "name": "stdout",
     "output_type": "stream",
     "text": [
      "Running Grid Network Regression: 50 nodes\n",
      "Running Grid Network Regression: 100 nodes\n",
      "Running Grid Network Regression: 150 nodes\n"
     ]
    },
    {
     "name": "stderr",
     "output_type": "stream",
     "text": [
      "2020-05-22 13:31:28,701:INFO:First current path [20, 14, 203, 48, 41, 198] formed at time = 0.76 s.\n"
     ]
    },
    {
     "name": "stdout",
     "output_type": "stream",
     "text": [
      "Running Random Network Regression: 50 nodes\n",
      "Running Grid Network Regression: 200 nodes\n",
      "Running Grid Network Regression: 50 nodes\n",
      "Running Random Network Regression: 100 nodes\n",
      "Running Random Network Regression: 295 nodes\n",
      "Running Grid Network Regression: 100 nodes\n",
      "Running Random Network Regression: 150 nodes\n",
      "Running Grid Network Regression: 150 nodes\n"
     ]
    },
    {
     "name": "stderr",
     "output_type": "stream",
     "text": [
      "2020-05-22 13:31:29,185:INFO:First current path [0, 28, 76, 23, 14, 21] formed at time = 0.75 s.\n"
     ]
    },
    {
     "name": "stdout",
     "output_type": "stream",
     "text": [
      "Running Random Network Regression: 50 nodes\n"
     ]
    },
    {
     "name": "stderr",
     "output_type": "stream",
     "text": [
      "2020-05-22 13:31:29,238:INFO:First current path [0, 2, 4, 6, 8, 10, 12, 14, 16, 18, 20, 22, 24, 26, 28, 30, 32, 34, 36, 38, 40, 42, 44, 46, 48, 50, 52, 54, 56, 58, 60, 62, 64, 66, 68, 70, 72, 74, 76, 78, 80, 82, 84, 86, 88, 90, 92, 94, 96, 98, 100, 102, 104, 106, 108, 110, 112, 114, 116, 118, 120, 122, 124, 126, 128, 130, 132, 134, 136, 138, 140] formed at time = 0.75 s.\n"
     ]
    },
    {
     "name": "stdout",
     "output_type": "stream",
     "text": [
      "Running Random Network Regression: 100 nodes\n",
      "Running Random Network Regression: 200 nodes\n",
      "Running Grid Network Regression: 250 nodes\n",
      "Running Grid Network Regression: 200 nodes\n"
     ]
    },
    {
     "data": {
      "application/vnd.jupyter.widget-view+json": {
       "model_id": "54487de7d7e241b39463e9da4a9687cd",
       "version_major": 2,
       "version_minor": 0
      },
      "text/plain": [
       "HBox(children=(IntProgress(value=0, description='Running Simulation ', max=500, style=ProgressStyle(descriptio…"
      ]
     },
     "metadata": {},
     "output_type": "display_data"
    },
    {
     "name": "stdout",
     "output_type": "stream",
     "text": [
      "Running Random Network Regression: 150 nodes\n",
      "Running Random Network Regression: 200 nodes\n",
      "Running Random Network Regression: 250 nodes\n",
      "Running Grid Network Regression: 250 nodes\n",
      "Running Grid Network Regression: 50 nodes\n",
      "Running Grid Network Regression: 100 nodes\n"
     ]
    },
    {
     "data": {
      "application/vnd.jupyter.widget-view+json": {
       "model_id": "880d952ad539418591e61f4172f1f588",
       "version_major": 2,
       "version_minor": 0
      },
      "text/plain": [
       "HBox(children=(IntProgress(value=0, description='Running Simulation ', max=500, style=ProgressStyle(descriptio…"
      ]
     },
     "metadata": {},
     "output_type": "display_data"
    },
    {
     "name": "stdout",
     "output_type": "stream",
     "text": [
      "Running Grid Network Regression: 299 nodes\n",
      "Running Grid Network Regression: 150 nodes\n",
      "Running Random Network Regression: 250 nodes\n",
      "Running Grid Network Regression: 200 nodes\n"
     ]
    },
    {
     "name": "stderr",
     "output_type": "stream",
     "text": [
      "2020-05-22 13:31:30,477:INFO:First current path [0, 216, 277, 228, 273, 192, 32, 242] formed at time = 0.75 s.\n"
     ]
    },
    {
     "name": "stdout",
     "output_type": "stream",
     "text": [
      "Running Random Network Regression: 50 nodes\n",
      "Running Random Network Regression: 100 nodes\n",
      "Running Random Network Regression: 288 nodes\n",
      "Running Grid Network Regression: 297 nodes\n",
      "Running Random Network Regression: 150 nodes\n",
      "Running Grid Network Regression: 250 nodes\n",
      "Running Random Network Regression: 283 nodes\n",
      "Running Random Network Regression: 200 nodes\n"
     ]
    },
    {
     "name": "stderr",
     "output_type": "stream",
     "text": [
      "2020-05-22 13:31:31,449:INFO:First current path [0, 288, 277, 266, 255, 244, 233, 222, 211, 200, 189, 178, 167, 156, 145] formed at time = 0.75 s.\n"
     ]
    },
    {
     "name": "stdout",
     "output_type": "stream",
     "text": [
      "Running Random Network Regression: 250 nodes\n"
     ]
    },
    {
     "data": {
      "application/vnd.jupyter.widget-view+json": {
       "model_id": "ec6dd887774540738db8e7caef92fe9b",
       "version_major": 2,
       "version_minor": 0
      },
      "text/plain": [
       "HBox(children=(IntProgress(value=0, description='Running Simulation ', max=500, style=ProgressStyle(descriptio…"
      ]
     },
     "metadata": {},
     "output_type": "display_data"
    },
    {
     "name": "stdout",
     "output_type": "stream",
     "text": [
      "Running Grid Network Regression: 50 nodes\n",
      "Running Grid Network Regression: 100 nodes\n",
      "Running Grid Network Regression: 295 nodes\n",
      "Running Grid Network Regression: 150 nodes\n",
      "Running Grid Network Regression: 50 nodes\n",
      "Running Grid Network Regression: 100 nodes\n",
      "Running Grid Network Regression: 200 nodes\n",
      "Running Grid Network Regression: 150 nodes\n"
     ]
    },
    {
     "data": {
      "application/vnd.jupyter.widget-view+json": {
       "model_id": "db77e33fa13e497caca6ddfedf62b01a",
       "version_major": 2,
       "version_minor": 0
      },
      "text/plain": [
       "HBox(children=(IntProgress(value=0, description='Running Simulation ', max=500, style=ProgressStyle(descriptio…"
      ]
     },
     "metadata": {},
     "output_type": "display_data"
    },
    {
     "name": "stdout",
     "output_type": "stream",
     "text": [
      "Running Random Network Regression: 280 nodes\n",
      "Running Grid Network Regression: 200 nodes\n",
      "Running Grid Network Regression: 250 nodes\n"
     ]
    },
    {
     "data": {
      "application/vnd.jupyter.widget-view+json": {
       "model_id": "33a69f08b00a4b148a42a2dee9a6be57",
       "version_major": 2,
       "version_minor": 0
      },
      "text/plain": [
       "HBox(children=(IntProgress(value=0, description='Running Simulation ', max=500, style=ProgressStyle(descriptio…"
      ]
     },
     "metadata": {},
     "output_type": "display_data"
    },
    {
     "name": "stdout",
     "output_type": "stream",
     "text": [
      "Running Grid Network Regression: 250 nodes\n"
     ]
    },
    {
     "name": "stderr",
     "output_type": "stream",
     "text": [
      "2020-05-22 13:31:33,139:INFO:First current path [0, 84, 125, 5] formed at time = 0.75 s.\n"
     ]
    },
    {
     "name": "stdout",
     "output_type": "stream",
     "text": [
      "Running Random Network Regression: 50 nodes\n",
      "Running Random Network Regression: 100 nodes\n",
      "Running Grid Network Regression: 50 nodes\n",
      "Running Grid Network Regression: 100 nodes\n",
      "Running Random Network Regression: 150 nodes\n",
      "Running Grid Network Regression: 288 nodes\n",
      "Running Grid Network Regression: 150 nodes\n"
     ]
    },
    {
     "data": {
      "application/vnd.jupyter.widget-view+json": {
       "model_id": "59d86a181a0e4ff3bbd60e0b2bfe45c5",
       "version_major": 2,
       "version_minor": 0
      },
      "text/plain": [
       "HBox(children=(IntProgress(value=0, description='Running Simulation ', max=500, style=ProgressStyle(descriptio…"
      ]
     },
     "metadata": {},
     "output_type": "display_data"
    },
    {
     "name": "stderr",
     "output_type": "stream",
     "text": [
      "2020-05-22 13:31:33,637:INFO:First current path [0, 5, 13, 21, 29, 37, 45, 53, 61, 69, 77, 85, 93, 101, 109, 117, 125, 133, 141, 146] formed at time = 0.76 s.\n"
     ]
    },
    {
     "name": "stdout",
     "output_type": "stream",
     "text": [
      "Running Random Network Regression: 200 nodes\n"
     ]
    },
    {
     "data": {
      "application/vnd.jupyter.widget-view+json": {
       "model_id": "b373bba6e14f4ced89d2fdfda238d809",
       "version_major": 2,
       "version_minor": 0
      },
      "text/plain": [
       "HBox(children=(IntProgress(value=0, description='Running Simulation ', max=500, style=ProgressStyle(descriptio…"
      ]
     },
     "metadata": {},
     "output_type": "display_data"
    },
    {
     "name": "stdout",
     "output_type": "stream",
     "text": [
      "Running Grid Network Regression: 200 nodes\n",
      "Running Grid Network Regression: 283 nodes\n"
     ]
    },
    {
     "name": "stderr",
     "output_type": "stream",
     "text": [
      "2020-05-22 13:31:34,160:INFO:First current path [0, 6, 16, 26, 36, 46, 56, 66, 76, 86, 96, 106, 116, 126, 136, 142] formed at time = 0.76 s.\n"
     ]
    },
    {
     "name": "stdout",
     "output_type": "stream",
     "text": [
      "Running Random Network Regression: 250 nodes\n",
      "Running Grid Network Regression: 250 nodes\n"
     ]
    },
    {
     "data": {
      "application/vnd.jupyter.widget-view+json": {
       "model_id": "df07985da5a0434482ff83971ed969ef",
       "version_major": 2,
       "version_minor": 0
      },
      "text/plain": [
       "HBox(children=(IntProgress(value=0, description='Running Simulation ', max=500, style=ProgressStyle(descriptio…"
      ]
     },
     "metadata": {},
     "output_type": "display_data"
    },
    {
     "name": "stderr",
     "output_type": "stream",
     "text": [
      "2020-05-22 13:31:34,929:INFO:First current path [0, 4, 11, 18, 25, 32, 39, 46, 53, 60, 67, 74, 81, 88, 95, 102, 109, 116, 123, 130, 137, 144, 149] formed at time = 0.76 s.\n"
     ]
    },
    {
     "name": "stdout",
     "output_type": "stream",
     "text": [
      "Running Grid Network Regression: 280 nodes\n",
      "Running Random Network Regression: 299 nodes\n"
     ]
    },
    {
     "data": {
      "application/vnd.jupyter.widget-view+json": {
       "model_id": "6c8dd46c861b479ea7712b85dade28dd",
       "version_major": 2,
       "version_minor": 0
      },
      "text/plain": [
       "HBox(children=(IntProgress(value=0, description='Running Simulation ', max=500, style=ProgressStyle(descriptio…"
      ]
     },
     "metadata": {},
     "output_type": "display_data"
    },
    {
     "name": "stderr",
     "output_type": "stream",
     "text": [
      "2020-05-22 13:31:35,211:INFO:First current path [0, 23, 186, 4] formed at time = 0.75 s.\n"
     ]
    },
    {
     "name": "stdout",
     "output_type": "stream",
     "text": [
      "Running Random Network Regression: 50 nodes\n",
      "Running Random Network Regression: 100 nodes\n",
      "Running Random Network Regression: 150 nodes\n"
     ]
    },
    {
     "data": {
      "application/vnd.jupyter.widget-view+json": {
       "model_id": "eeb02a09217043ad89bfd854104e8e58",
       "version_major": 2,
       "version_minor": 0
      },
      "text/plain": [
       "HBox(children=(IntProgress(value=0, description='Running Simulation ', max=500, style=ProgressStyle(descriptio…"
      ]
     },
     "metadata": {},
     "output_type": "display_data"
    },
    {
     "name": "stderr",
     "output_type": "stream",
     "text": [
      "2020-05-22 13:31:35,802:INFO:First current path [0, 25, 38, 11] formed at time = 0.75 s.\n"
     ]
    },
    {
     "name": "stdout",
     "output_type": "stream",
     "text": [
      "Running Random Network Regression: 50 nodes\n",
      "Running Random Network Regression: 200 nodes\n",
      "Running Random Network Regression: 100 nodes\n",
      "Running Random Network Regression: 150 nodes\n",
      "Running Grid Network Regression: 50 nodes\n",
      "Running Grid Network Regression: 100 nodes\n",
      "Running Random Network Regression: 200 nodes\n",
      "Running Random Network Regression: 250 nodes\n"
     ]
    },
    {
     "name": "stderr",
     "output_type": "stream",
     "text": [
      "2020-05-22 13:31:36,523:INFO:First current path [4, 134, 32, 147, 115] formed at time = 0.76 s.\n"
     ]
    },
    {
     "name": "stdout",
     "output_type": "stream",
     "text": [
      "Running Random Network Regression: 50 nodes\n",
      "Running Grid Network Regression: 150 nodes\n",
      "Running Random Network Regression: 100 nodes\n",
      "Running Random Network Regression: 150 nodes\n"
     ]
    },
    {
     "name": "stderr",
     "output_type": "stream",
     "text": [
      "2020-05-22 13:31:36,810:INFO:First current path [0, 4, 10, 16, 22, 28, 34, 40, 46, 52, 58, 64, 70, 76, 82, 88, 94, 100, 106, 112, 118, 124, 130, 136, 142, 146] formed at time = 0.75 s.\n"
     ]
    },
    {
     "name": "stdout",
     "output_type": "stream",
     "text": [
      "Running Grid Network Regression: 200 nodes\n"
     ]
    },
    {
     "data": {
      "application/vnd.jupyter.widget-view+json": {
       "model_id": "28f5313376014d09b6a81b8c9f296cc4",
       "version_major": 2,
       "version_minor": 0
      },
      "text/plain": [
       "HBox(children=(IntProgress(value=0, description='Running Simulation ', max=500, style=ProgressStyle(descriptio…"
      ]
     },
     "metadata": {},
     "output_type": "display_data"
    },
    {
     "name": "stdout",
     "output_type": "stream",
     "text": [
      "Running Random Network Regression: 250 nodes\n",
      "Running Random Network Regression: 200 nodes\n",
      "Running Random Network Regression: 300 nodes\n",
      "Running Grid Network Regression: 250 nodes\n"
     ]
    },
    {
     "data": {
      "application/vnd.jupyter.widget-view+json": {
       "model_id": "ae0b555fd6a746cca3308bf9b1a26e87",
       "version_major": 2,
       "version_minor": 0
      },
      "text/plain": [
       "HBox(children=(IntProgress(value=0, description='Running Simulation ', max=500, style=ProgressStyle(descriptio…"
      ]
     },
     "metadata": {},
     "output_type": "display_data"
    },
    {
     "name": "stdout",
     "output_type": "stream",
     "text": [
      "Running Random Network Regression: 250 nodes\n",
      "Running Random Network Regression: 300 nodes\n"
     ]
    },
    {
     "data": {
      "application/vnd.jupyter.widget-view+json": {
       "model_id": "aeec81486cd7460fbc49b759e3a1c573",
       "version_major": 2,
       "version_minor": 0
      },
      "text/plain": [
       "HBox(children=(IntProgress(value=0, description='Running Simulation ', max=500, style=ProgressStyle(descriptio…"
      ]
     },
     "metadata": {},
     "output_type": "display_data"
    },
    {
     "name": "stderr",
     "output_type": "stream",
     "text": [
      "2020-05-22 13:31:38,303:INFO:First current path [2, 186, 161, 243, 57] formed at time = 0.75 s.\n"
     ]
    },
    {
     "name": "stdout",
     "output_type": "stream",
     "text": [
      "Running Random Network Regression: 50 nodes\n",
      "Running Grid Network Regression: 299 nodes\n",
      "Running Random Network Regression: 100 nodes\n",
      "Running Grid Network Regression: 50 nodes\n",
      "Running Grid Network Regression: 100 nodes\n",
      "Running Random Network Regression: 150 nodes\n",
      "Running Random Network Regression: 300 nodes\n",
      "Running Grid Network Regression: 150 nodes\n"
     ]
    },
    {
     "name": "stderr",
     "output_type": "stream",
     "text": [
      "2020-05-22 13:31:38,838:INFO:First current path [0, 292, 287, 282, 277, 272, 267, 262, 257, 252, 247, 242, 237, 232, 227, 222, 217, 212, 207, 202, 197, 192, 187, 182, 177, 172, 167, 162, 157, 152, 147] formed at time = 0.75 s.\n"
     ]
    },
    {
     "name": "stdout",
     "output_type": "stream",
     "text": [
      "Running Random Network Regression: 200 nodes\n"
     ]
    },
    {
     "data": {
      "application/vnd.jupyter.widget-view+json": {
       "model_id": "51ddfbd840aa4488b1eb9ac4d9c7398c",
       "version_major": 2,
       "version_minor": 0
      },
      "text/plain": [
       "HBox(children=(IntProgress(value=0, description='Running Simulation ', max=500, style=ProgressStyle(descriptio…"
      ]
     },
     "metadata": {},
     "output_type": "display_data"
    },
    {
     "name": "stdout",
     "output_type": "stream",
     "text": [
      "Running Grid Network Regression: 50 nodes\n"
     ]
    },
    {
     "data": {
      "application/vnd.jupyter.widget-view+json": {
       "model_id": "98e47bd6c9d843508f3f8c49e917e2bf",
       "version_major": 2,
       "version_minor": 0
      },
      "text/plain": [
       "HBox(children=(IntProgress(value=0, description='Running Simulation ', max=500, style=ProgressStyle(descriptio…"
      ]
     },
     "metadata": {},
     "output_type": "display_data"
    },
    {
     "name": "stdout",
     "output_type": "stream",
     "text": [
      "Running Grid Network Regression: 200 nodes\n",
      "Running Grid Network Regression: 100 nodes\n",
      "Running Grid Network Regression: 150 nodes\n"
     ]
    },
    {
     "name": "stderr",
     "output_type": "stream",
     "text": [
      "2020-05-22 13:31:39,457:INFO:First current path [0, 3, 7, 11, 15, 19, 23, 27, 31, 35, 39, 43, 47, 51, 55, 59, 63, 67, 71, 75, 79, 83, 87, 91, 95, 99, 103, 107, 111, 115, 119, 123, 127, 131, 135, 139, 143, 146] formed at time = 0.75 s.\n"
     ]
    },
    {
     "name": "stdout",
     "output_type": "stream",
     "text": [
      "Running Random Network Regression: 250 nodes\n"
     ]
    },
    {
     "data": {
      "application/vnd.jupyter.widget-view+json": {
       "model_id": "29110ecdde644089bf670819e7a77cf1",
       "version_major": 2,
       "version_minor": 0
      },
      "text/plain": [
       "HBox(children=(IntProgress(value=0, description='Running Simulation ', max=500, style=ProgressStyle(descriptio…"
      ]
     },
     "metadata": {},
     "output_type": "display_data"
    },
    {
     "name": "stdout",
     "output_type": "stream",
     "text": [
      "Running Grid Network Regression: 250 nodes\n",
      "Running Grid Network Regression: 200 nodes\n",
      "Running Grid Network Regression: 50 nodes\n",
      "Running Grid Network Regression: 100 nodes\n",
      "Running Grid Network Regression: 150 nodes\n",
      "Running Grid Network Regression: 250 nodes\n"
     ]
    },
    {
     "name": "stderr",
     "output_type": "stream",
     "text": [
      "2020-05-22 13:31:40,247:INFO:First current path [0, 3, 7, 11, 15, 19, 23, 27, 31, 35, 39, 43, 47, 51, 55, 59, 63, 67, 71, 75, 79, 83, 87, 91, 95, 99, 103, 107, 111, 115, 119, 123, 127, 131, 135, 139, 142] formed at time = 0.75 s.\n"
     ]
    },
    {
     "data": {
      "application/vnd.jupyter.widget-view+json": {
       "model_id": "ad543b0e881346cd8bd2e069e901dd6b",
       "version_major": 2,
       "version_minor": 0
      },
      "text/plain": [
       "HBox(children=(IntProgress(value=0, description='Running Simulation ', max=500, style=ProgressStyle(descriptio…"
      ]
     },
     "metadata": {},
     "output_type": "display_data"
    },
    {
     "name": "stdout",
     "output_type": "stream",
     "text": [
      "Running Random Network Regression: 296 nodes\n"
     ]
    },
    {
     "name": "stderr",
     "output_type": "stream",
     "text": [
      "2020-05-22 13:31:40,343:INFO:First current path [0, 38, 24, 102, 16] formed at time = 0.75 s.\n"
     ]
    },
    {
     "name": "stdout",
     "output_type": "stream",
     "text": [
      "Running Random Network Regression: 50 nodes\n"
     ]
    },
    {
     "data": {
      "application/vnd.jupyter.widget-view+json": {
       "model_id": "af227b321a3c4dac9e7882535a040aa5",
       "version_major": 2,
       "version_minor": 0
      },
      "text/plain": [
       "HBox(children=(IntProgress(value=0, description='Running Simulation ', max=500, style=ProgressStyle(descriptio…"
      ]
     },
     "metadata": {},
     "output_type": "display_data"
    },
    {
     "name": "stdout",
     "output_type": "stream",
     "text": [
      "Running Grid Network Regression: 200 nodes\n",
      "Running Random Network Regression: 100 nodes\n",
      "Running Grid Network Regression: 300 nodes\n",
      "Running Random Network Regression: 150 nodes\n"
     ]
    },
    {
     "name": "stderr",
     "output_type": "stream",
     "text": [
      "2020-05-22 13:31:40,851:INFO:First current path [120, 233, 84, 259, 62, 271] formed at time = 0.77 s.\n"
     ]
    },
    {
     "name": "stdout",
     "output_type": "stream",
     "text": [
      "Running Random Network Regression: 50 nodes\n",
      "Running Random Network Regression: 100 nodes\n",
      "Running Random Network Regression: 200 nodes\n",
      "Running Grid Network Regression: 250 nodes\n",
      "Running Grid Network Regression: 300 nodes\n",
      "Running Random Network Regression: 150 nodes\n",
      "Running Grid Network Regression: 50 nodes\n"
     ]
    },
    {
     "name": "stderr",
     "output_type": "stream",
     "text": [
      "2020-05-22 13:31:41,399:INFO:First current path [0, 2, 5, 8, 11, 14, 17, 20, 23, 26, 29, 32, 35, 38, 41, 44, 47, 50, 53, 56, 59, 62, 65, 68, 71, 74, 77, 80, 83, 86, 89, 92, 95, 98, 101, 104, 107, 110, 113, 116, 119, 122, 125, 128, 131, 134, 137, 140] formed at time = 0.76 s.\n"
     ]
    },
    {
     "name": "stdout",
     "output_type": "stream",
     "text": [
      "Running Random Network Regression: 200 nodes\n",
      "Running Grid Network Regression: 100 nodes\n",
      "Running Random Network Regression: 250 nodes\n"
     ]
    },
    {
     "data": {
      "application/vnd.jupyter.widget-view+json": {
       "model_id": "522581aef0e54351bbf505e46f336088",
       "version_major": 2,
       "version_minor": 0
      },
      "text/plain": [
       "HBox(children=(IntProgress(value=0, description='Running Simulation ', max=500, style=ProgressStyle(descriptio…"
      ]
     },
     "metadata": {},
     "output_type": "display_data"
    },
    {
     "name": "stderr",
     "output_type": "stream",
     "text": [
      "2020-05-22 13:31:41,551:INFO:First current path [44, 63, 210, 178, 8, 181] formed at time = 0.77 s.\n"
     ]
    },
    {
     "name": "stdout",
     "output_type": "stream",
     "text": [
      "Running Random Network Regression: 50 nodes\n",
      "Running Random Network Regression: 100 nodes\n",
      "Running Grid Network Regression: 150 nodes\n",
      "Running Grid Network Regression: 300 nodes\n",
      "Running Random Network Regression: 150 nodes\n"
     ]
    },
    {
     "data": {
      "application/vnd.jupyter.widget-view+json": {
       "model_id": "0f0201bb35f544a3a2da4a55cefd1197",
       "version_major": 2,
       "version_minor": 0
      },
      "text/plain": [
       "HBox(children=(IntProgress(value=0, description='Running Simulation ', max=500, style=ProgressStyle(descriptio…"
      ]
     },
     "metadata": {},
     "output_type": "display_data"
    },
    {
     "name": "stdout",
     "output_type": "stream",
     "text": [
      "Running Grid Network Regression: 200 nodes\n",
      "Running Random Network Regression: 250 nodes\n",
      "Running Random Network Regression: 200 nodes\n",
      "Running Random Network Regression: 297 nodes\n",
      "Running Grid Network Regression: 250 nodes\n"
     ]
    },
    {
     "name": "stderr",
     "output_type": "stream",
     "text": [
      "2020-05-22 13:31:42,728:INFO:First current path [1, 5, 147, 176, 121, 29] formed at time = 0.76 s.\n"
     ]
    },
    {
     "name": "stdout",
     "output_type": "stream",
     "text": [
      "Running Random Network Regression: 50 nodes\n",
      "Running Random Network Regression: 250 nodes\n",
      "Running Random Network Regression: 292 nodes\n",
      "Running Random Network Regression: 100 nodes\n",
      "Running Random Network Regression: 150 nodes\n"
     ]
    },
    {
     "name": "stderr",
     "output_type": "stream",
     "text": [
      "2020-05-22 13:31:43,083:INFO:First current path [0, 277, 274, 271, 268, 265, 262, 259, 256, 253, 250, 247, 244, 241, 238, 235, 232, 229, 226, 223, 220, 217, 214, 211, 208, 205, 202, 199, 196, 193, 190, 187, 184, 181, 178, 175, 172, 169, 166, 163, 160, 157, 154, 151, 148, 145, 142, 140] formed at time = 0.75 s.\n"
     ]
    },
    {
     "data": {
      "application/vnd.jupyter.widget-view+json": {
       "model_id": "b81edbd608b64d18a52bac3a3ea440ea",
       "version_major": 2,
       "version_minor": 0
      },
      "text/plain": [
       "HBox(children=(IntProgress(value=0, description='Running Simulation ', max=500, style=ProgressStyle(descriptio…"
      ]
     },
     "metadata": {},
     "output_type": "display_data"
    },
    {
     "name": "stdout",
     "output_type": "stream",
     "text": [
      "Running Grid Network Regression: 296 nodes\n",
      "Running Random Network Regression: 200 nodes\n",
      "Running Grid Network Regression: 50 nodes\n",
      "Running Grid Network Regression: 100 nodes\n",
      "Running Random Network Regression: 286 nodes\n",
      "Running Grid Network Regression: 150 nodes\n",
      "Running Grid Network Regression: 50 nodes\n",
      "Running Random Network Regression: 250 nodes\n",
      "Running Grid Network Regression: 100 nodes\n",
      "Running Grid Network Regression: 200 nodes\n",
      "Running Grid Network Regression: 150 nodes\n"
     ]
    },
    {
     "data": {
      "application/vnd.jupyter.widget-view+json": {
       "model_id": "fc9eac008eb04b8bab68afaa9795126e",
       "version_major": 2,
       "version_minor": 0
      },
      "text/plain": [
       "HBox(children=(IntProgress(value=0, description='Running Simulation ', max=500, style=ProgressStyle(descriptio…"
      ]
     },
     "metadata": {},
     "output_type": "display_data"
    },
    {
     "name": "stderr",
     "output_type": "stream",
     "text": [
      "2020-05-22 13:31:44,381:INFO:First current path [76, 40, 136, 11, 172, 231, 167] formed at time = 0.77 s.\n"
     ]
    },
    {
     "name": "stdout",
     "output_type": "stream",
     "text": [
      "Running Random Network Regression: 50 nodes\n",
      "Running Grid Network Regression: 200 nodes\n",
      "Running Random Network Regression: 100 nodes\n",
      "Running Grid Network Regression: 250 nodes\n",
      "Running Grid Network Regression: 50 nodes\n",
      "Running Random Network Regression: 150 nodes\n",
      "Running Grid Network Regression: 100 nodes\n",
      "Running Random Network Regression: 283 nodes\n"
     ]
    },
    {
     "data": {
      "application/vnd.jupyter.widget-view+json": {
       "model_id": "0fa6d41b180546c7b61206e9ab168041",
       "version_major": 2,
       "version_minor": 0
      },
      "text/plain": [
       "HBox(children=(IntProgress(value=0, description='Running Simulation ', max=500, style=ProgressStyle(descriptio…"
      ]
     },
     "metadata": {},
     "output_type": "display_data"
    },
    {
     "name": "stdout",
     "output_type": "stream",
     "text": [
      "Running Grid Network Regression: 250 nodes\n",
      "Running Grid Network Regression: 150 nodes\n",
      "Running Random Network Regression: 200 nodes\n",
      "Running Grid Network Regression: 200 nodes\n",
      "Running Grid Network Regression: 297 nodes\n"
     ]
    },
    {
     "data": {
      "application/vnd.jupyter.widget-view+json": {
       "model_id": "12b34a57965a4f6e8e52252e904004a1",
       "version_major": 2,
       "version_minor": 0
      },
      "text/plain": [
       "HBox(children=(IntProgress(value=0, description='Running Simulation ', max=500, style=ProgressStyle(descriptio…"
      ]
     },
     "metadata": {},
     "output_type": "display_data"
    },
    {
     "name": "stdout",
     "output_type": "stream",
     "text": [
      "Running Grid Network Regression: 292 nodes\n",
      "Running Random Network Regression: 250 nodes\n"
     ]
    },
    {
     "name": "stderr",
     "output_type": "stream",
     "text": [
      "2020-05-22 13:31:45,702:INFO:First current path [0, 6, 16, 26, 36, 46, 56, 66, 76, 86, 96, 106, 116, 126, 136, 142] formed at time = 0.76 s.\n"
     ]
    },
    {
     "name": "stdout",
     "output_type": "stream",
     "text": [
      "Running Grid Network Regression: 50 nodes\n",
      "Running Grid Network Regression: 250 nodes\n",
      "Running Grid Network Regression: 100 nodes\n"
     ]
    },
    {
     "data": {
      "application/vnd.jupyter.widget-view+json": {
       "model_id": "a750ea86b4ef4dde960e13ee277c1d83",
       "version_major": 2,
       "version_minor": 0
      },
      "text/plain": [
       "HBox(children=(IntProgress(value=0, description='Running Simulation ', max=500, style=ProgressStyle(descriptio…"
      ]
     },
     "metadata": {},
     "output_type": "display_data"
    },
    {
     "name": "stdout",
     "output_type": "stream",
     "text": [
      "Running Grid Network Regression: 150 nodes\n"
     ]
    },
    {
     "name": "stderr",
     "output_type": "stream",
     "text": [
      "2020-05-22 13:31:46,136:INFO:First current path [0, 290, 282, 274, 266, 258, 250, 242, 234, 226, 218, 210, 202, 194, 186, 178, 170, 162, 154, 146] formed at time = 0.75 s.\n"
     ]
    },
    {
     "name": "stdout",
     "output_type": "stream",
     "text": [
      "Running Grid Network Regression: 200 nodes\n"
     ]
    },
    {
     "data": {
      "application/vnd.jupyter.widget-view+json": {
       "model_id": "6b6c1d79e7fc4870aef9604409cfbe58",
       "version_major": 2,
       "version_minor": 0
      },
      "text/plain": [
       "HBox(children=(IntProgress(value=0, description='Running Simulation ', max=500, style=ProgressStyle(descriptio…"
      ]
     },
     "metadata": {},
     "output_type": "display_data"
    },
    {
     "data": {
      "application/vnd.jupyter.widget-view+json": {
       "model_id": "2ee262e38dfa474583a8185d9665974f",
       "version_major": 2,
       "version_minor": 0
      },
      "text/plain": [
       "HBox(children=(IntProgress(value=0, description='Running Simulation ', max=500, style=ProgressStyle(descriptio…"
      ]
     },
     "metadata": {},
     "output_type": "display_data"
    },
    {
     "name": "stdout",
     "output_type": "stream",
     "text": [
      "Running Random Network Regression: 279 nodes\n",
      "Running Grid Network Regression: 286 nodes\n",
      "Running Grid Network Regression: 250 nodes\n"
     ]
    },
    {
     "name": "stderr",
     "output_type": "stream",
     "text": [
      "2020-05-22 13:31:46,911:INFO:First current path [0, 6, 17, 28, 39, 50, 61, 72, 83, 94, 105, 116, 127, 138, 145] formed at time = 0.76 s.\n"
     ]
    },
    {
     "data": {
      "application/vnd.jupyter.widget-view+json": {
       "model_id": "3bbd9e07d4f644f8894eeea50220206c",
       "version_major": 2,
       "version_minor": 0
      },
      "text/plain": [
       "HBox(children=(IntProgress(value=0, description='Running Simulation ', max=500, style=ProgressStyle(descriptio…"
      ]
     },
     "metadata": {},
     "output_type": "display_data"
    },
    {
     "name": "stderr",
     "output_type": "stream",
     "text": [
      "2020-05-22 13:31:47,356:INFO:First current path [0, 8, 41, 7] formed at time = 0.75 s.\n"
     ]
    },
    {
     "name": "stdout",
     "output_type": "stream",
     "text": [
      "Running Random Network Regression: 50 nodes\n",
      "Running Random Network Regression: 100 nodes\n",
      "Running Grid Network Regression: 50 nodes\n",
      "Running Grid Network Regression: 283 nodes\n",
      "Running Grid Network Regression: 100 nodes\n",
      "Running Random Network Regression: 150 nodes\n",
      "Running Grid Network Regression: 150 nodes\n"
     ]
    },
    {
     "name": "stderr",
     "output_type": "stream",
     "text": [
      "2020-05-22 13:31:47,734:INFO:First current path [130, 40, 170, 271, 47] formed at time = 0.77 s.\n"
     ]
    },
    {
     "name": "stdout",
     "output_type": "stream",
     "text": [
      "Running Random Network Regression: 50 nodes\n"
     ]
    },
    {
     "name": "stderr",
     "output_type": "stream",
     "text": [
      "2020-05-22 13:31:47,748:INFO:First current path [0, 289, 281, 273, 265, 257, 249, 241, 233, 225, 217, 209, 201, 193, 185, 177, 169, 161, 153, 146] formed at time = 0.75 s.\n"
     ]
    },
    {
     "name": "stdout",
     "output_type": "stream",
     "text": [
      "Running Random Network Regression: 100 nodes\n"
     ]
    },
    {
     "data": {
      "application/vnd.jupyter.widget-view+json": {
       "model_id": "f07241f39afa4a1facfcbb1f78ea7a93",
       "version_major": 2,
       "version_minor": 0
      },
      "text/plain": [
       "HBox(children=(IntProgress(value=0, description='Running Simulation ', max=500, style=ProgressStyle(descriptio…"
      ]
     },
     "metadata": {},
     "output_type": "display_data"
    },
    {
     "data": {
      "application/vnd.jupyter.widget-view+json": {
       "model_id": "ec3894d957834b329b7ce243ef5d7614",
       "version_major": 2,
       "version_minor": 0
      },
      "text/plain": [
       "HBox(children=(IntProgress(value=0, description='Running Simulation ', max=500, style=ProgressStyle(descriptio…"
      ]
     },
     "metadata": {},
     "output_type": "display_data"
    },
    {
     "name": "stdout",
     "output_type": "stream",
     "text": [
      "Running Random Network Regression: 200 nodes\n",
      "Running Random Network Regression: 150 nodes\n",
      "Running Grid Network Regression: 200 nodes\n",
      "Running Random Network Regression: 200 nodes\n",
      "Running Random Network Regression: 250 nodes\n",
      "Running Grid Network Regression: 250 nodes\n"
     ]
    },
    {
     "name": "stderr",
     "output_type": "stream",
     "text": [
      "2020-05-22 13:31:48,564:INFO:First current path [0, 7, 77, 8] formed at time = 0.75 s.\n"
     ]
    },
    {
     "name": "stdout",
     "output_type": "stream",
     "text": [
      "Running Random Network Regression: 50 nodes\n",
      "Running Random Network Regression: 100 nodes\n",
      "Running Random Network Regression: 150 nodes\n",
      "Running Random Network Regression: 250 nodes\n"
     ]
    },
    {
     "name": "stderr",
     "output_type": "stream",
     "text": [
      "2020-05-22 13:31:49,097:INFO:First current path [0, 4, 10, 16, 22, 28, 34, 40, 46, 52, 58, 64, 70, 76, 82, 88, 94, 100, 106, 112, 118, 124, 130, 136, 142, 146] formed at time = 0.75 s.\n"
     ]
    },
    {
     "name": "stdout",
     "output_type": "stream",
     "text": [
      "Running Random Network Regression: 200 nodes\n"
     ]
    },
    {
     "data": {
      "application/vnd.jupyter.widget-view+json": {
       "model_id": "3ac4a52d75914fc69f4d1bc273529339",
       "version_major": 2,
       "version_minor": 0
      },
      "text/plain": [
       "HBox(children=(IntProgress(value=0, description='Running Simulation ', max=500, style=ProgressStyle(descriptio…"
      ]
     },
     "metadata": {},
     "output_type": "display_data"
    },
    {
     "name": "stdout",
     "output_type": "stream",
     "text": [
      "Running Random Network Regression: 300 nodes\n"
     ]
    },
    {
     "name": "stderr",
     "output_type": "stream",
     "text": [
      "2020-05-22 13:31:49,306:INFO:First current path [294, 67, 178, 238, 165] formed at time = 0.78 s.\n"
     ]
    },
    {
     "name": "stdout",
     "output_type": "stream",
     "text": [
      "Running Random Network Regression: 50 nodes\n",
      "Running Grid Network Regression: 279 nodes\n",
      "Running Random Network Regression: 100 nodes\n"
     ]
    },
    {
     "data": {
      "application/vnd.jupyter.widget-view+json": {
       "model_id": "3a5b09dfd2824becb58a446383d46331",
       "version_major": 2,
       "version_minor": 0
      },
      "text/plain": [
       "HBox(children=(IntProgress(value=0, description='Running Simulation ', max=500, style=ProgressStyle(descriptio…"
      ]
     },
     "metadata": {},
     "output_type": "display_data"
    },
    {
     "name": "stdout",
     "output_type": "stream",
     "text": [
      "Running Random Network Regression: 150 nodes\n",
      "Running Random Network Regression: 250 nodes\n",
      "Running Random Network Regression: 298 nodes\n",
      "Running Random Network Regression: 200 nodes\n",
      "Running Grid Network Regression: 50 nodes\n",
      "Running Grid Network Regression: 100 nodes\n",
      "Running Random Network Regression: 250 nodes\n",
      "Running Grid Network Regression: 150 nodes\n",
      "Running Random Network Regression: 300 nodes\n"
     ]
    },
    {
     "name": "stderr",
     "output_type": "stream",
     "text": [
      "2020-05-22 13:31:50,703:INFO:First current path [3, 39, 156, 13, 136] formed at time = 0.76 s.\n"
     ]
    },
    {
     "name": "stdout",
     "output_type": "stream",
     "text": [
      "Running Random Network Regression: 50 nodes\n"
     ]
    },
    {
     "name": "stderr",
     "output_type": "stream",
     "text": [
      "2020-05-22 13:31:50,746:INFO:First current path [1, 4, 9, 14, 19, 24, 29, 34, 39, 44, 49, 54, 59, 64, 69, 74, 79, 84, 89, 94, 99, 104, 109, 114, 119, 124, 129, 134, 139, 144, 147] formed at time = 0.76 s.\n"
     ]
    },
    {
     "name": "stdout",
     "output_type": "stream",
     "text": [
      "Running Random Network Regression: 100 nodes\n"
     ]
    },
    {
     "data": {
      "application/vnd.jupyter.widget-view+json": {
       "model_id": "5a1d5ed4511e4d0dbdcc53af4621f64a",
       "version_major": 2,
       "version_minor": 0
      },
      "text/plain": [
       "HBox(children=(IntProgress(value=0, description='Running Simulation ', max=500, style=ProgressStyle(descriptio…"
      ]
     },
     "metadata": {},
     "output_type": "display_data"
    },
    {
     "name": "stdout",
     "output_type": "stream",
     "text": [
      "Running Random Network Regression: 150 nodes\n",
      "Running Grid Network Regression: 200 nodes\n",
      "Running Grid Network Regression: 50 nodes\n",
      "Running Grid Network Regression: 100 nodes\n",
      "Running Random Network Regression: 200 nodes\n",
      "Running Grid Network Regression: 150 nodes\n",
      "Running Random Network Regression: 296 nodes\n",
      "Running Grid Network Regression: 250 nodes\n",
      "Running Grid Network Regression: 200 nodes\n",
      "Running Grid Network Regression: 50 nodes\n",
      "Running Random Network Regression: 250 nodes\n",
      "Running Grid Network Regression: 100 nodes\n"
     ]
    },
    {
     "data": {
      "application/vnd.jupyter.widget-view+json": {
       "model_id": "3e9fb84dcecc4c60ae80f82784270cd4",
       "version_major": 2,
       "version_minor": 0
      },
      "text/plain": [
       "HBox(children=(IntProgress(value=0, description='Running Simulation ', max=500, style=ProgressStyle(descriptio…"
      ]
     },
     "metadata": {},
     "output_type": "display_data"
    },
    {
     "name": "stdout",
     "output_type": "stream",
     "text": [
      "Running Grid Network Regression: 150 nodes\n"
     ]
    },
    {
     "name": "stderr",
     "output_type": "stream",
     "text": [
      "2020-05-22 13:31:52,190:INFO:First current path [0, 150, 98, 199, 40] formed at time = 0.75 s.\n"
     ]
    },
    {
     "name": "stdout",
     "output_type": "stream",
     "text": [
      "Running Random Network Regression: 50 nodes\n",
      "Running Random Network Regression: 100 nodes\n",
      "Running Grid Network Regression: 250 nodes\n",
      "Running Random Network Regression: 150 nodes\n"
     ]
    },
    {
     "data": {
      "application/vnd.jupyter.widget-view+json": {
       "model_id": "278dcf837cf14bf2852282f11fcd43c6",
       "version_major": 2,
       "version_minor": 0
      },
      "text/plain": [
       "HBox(children=(IntProgress(value=0, description='Running Simulation ', max=500, style=ProgressStyle(descriptio…"
      ]
     },
     "metadata": {},
     "output_type": "display_data"
    },
    {
     "name": "stdout",
     "output_type": "stream",
     "text": [
      "Running Grid Network Regression: 300 nodes\n",
      "Running Grid Network Regression: 200 nodes\n",
      "Running Grid Network Regression: 50 nodes\n",
      "Running Random Network Regression: 298 nodes\n",
      "Running Random Network Regression: 200 nodes\n",
      "Running Grid Network Regression: 100 nodes\n",
      "Running Grid Network Regression: 150 nodes\n",
      "Running Grid Network Regression: 250 nodes\n"
     ]
    },
    {
     "data": {
      "application/vnd.jupyter.widget-view+json": {
       "model_id": "c1f522c0138046ebaa105a6a036a94d3",
       "version_major": 2,
       "version_minor": 0
      },
      "text/plain": [
       "HBox(children=(IntProgress(value=0, description='Running Simulation ', max=500, style=ProgressStyle(descriptio…"
      ]
     },
     "metadata": {},
     "output_type": "display_data"
    },
    {
     "name": "stdout",
     "output_type": "stream",
     "text": [
      "Running Grid Network Regression: 298 nodes\n"
     ]
    },
    {
     "name": "stderr",
     "output_type": "stream",
     "text": [
      "2020-05-22 13:31:53,234:INFO:First current path [1, 4, 9, 14, 19, 24, 29, 34, 39, 44, 49, 54, 59, 64, 69, 74, 79, 84, 89, 94, 99, 104, 109, 114, 119, 124, 129, 134, 139, 142] formed at time = 0.76 s.\n"
     ]
    },
    {
     "name": "stdout",
     "output_type": "stream",
     "text": [
      "Running Random Network Regression: 250 nodes\n",
      "Running Grid Network Regression: 200 nodes\n"
     ]
    },
    {
     "data": {
      "application/vnd.jupyter.widget-view+json": {
       "model_id": "e179b3759e054ff5a82fb87a581c14fc",
       "version_major": 2,
       "version_minor": 0
      },
      "text/plain": [
       "HBox(children=(IntProgress(value=0, description='Running Simulation ', max=500, style=ProgressStyle(descriptio…"
      ]
     },
     "metadata": {},
     "output_type": "display_data"
    },
    {
     "name": "stderr",
     "output_type": "stream",
     "text": [
      "2020-05-22 13:31:53,643:INFO:First current path [0, 284, 281, 278, 275, 272, 269, 266, 263, 260, 257, 254, 251, 248, 245, 242, 239, 236, 233, 230, 227, 224, 221, 218, 215, 212, 209, 206, 203, 200, 197, 194, 191, 188, 185, 182, 179, 176, 173, 170, 167, 164, 161, 158, 155, 152, 149, 146, 143] formed at time = 0.75 s.\n"
     ]
    },
    {
     "data": {
      "application/vnd.jupyter.widget-view+json": {
       "model_id": "23216bc3a5a24d6aa3e77da0a1cfe961",
       "version_major": 2,
       "version_minor": 0
      },
      "text/plain": [
       "HBox(children=(IntProgress(value=0, description='Running Simulation ', max=500, style=ProgressStyle(descriptio…"
      ]
     },
     "metadata": {},
     "output_type": "display_data"
    },
    {
     "name": "stdout",
     "output_type": "stream",
     "text": [
      "Running Grid Network Regression: 300 nodes\n",
      "Running Grid Network Regression: 250 nodes\n",
      "Running Grid Network Regression: 50 nodes\n",
      "Running Grid Network Regression: 100 nodes\n",
      "Running Random Network Regression: 292 nodes\n"
     ]
    },
    {
     "data": {
      "application/vnd.jupyter.widget-view+json": {
       "model_id": "c85ec6660d774ce399810bbb22d5ecb8",
       "version_major": 2,
       "version_minor": 0
      },
      "text/plain": [
       "HBox(children=(IntProgress(value=0, description='Running Simulation ', max=500, style=ProgressStyle(descriptio…"
      ]
     },
     "metadata": {},
     "output_type": "display_data"
    },
    {
     "name": "stderr",
     "output_type": "stream",
     "text": [
      "2020-05-22 13:31:54,202:INFO:First current path [0, 2, 5, 8, 11, 14, 17, 20, 23, 26, 29, 32, 35, 38, 41, 44, 47, 50, 53, 56, 59, 62, 65, 68, 71, 74, 77, 80, 83, 86, 89, 92, 95, 98, 101, 104, 107, 110, 113, 116, 119, 122, 125, 128, 131, 134, 137, 140] formed at time = 0.76 s.\n"
     ]
    },
    {
     "name": "stdout",
     "output_type": "stream",
     "text": [
      "Running Grid Network Regression: 150 nodes\n"
     ]
    },
    {
     "data": {
      "application/vnd.jupyter.widget-view+json": {
       "model_id": "fa1bee5b3d6a480c88bf80d9cb400487",
       "version_major": 2,
       "version_minor": 0
      },
      "text/plain": [
       "HBox(children=(IntProgress(value=0, description='Running Simulation ', max=500, style=ProgressStyle(descriptio…"
      ]
     },
     "metadata": {},
     "output_type": "display_data"
    },
    {
     "name": "stdout",
     "output_type": "stream",
     "text": [
      "Running Grid Network Regression: 200 nodes\n"
     ]
    },
    {
     "name": "stderr",
     "output_type": "stream",
     "text": [
      "2020-05-22 13:31:54,544:INFO:First current path [0, 32, 42, 225, 89] formed at time = 0.76 s.\n"
     ]
    },
    {
     "name": "stdout",
     "output_type": "stream",
     "text": [
      "Running Random Network Regression: 50 nodes\n",
      "Running Random Network Regression: 100 nodes\n",
      "Running Grid Network Regression: 296 nodes\n",
      "Running Random Network Regression: 150 nodes\n"
     ]
    },
    {
     "name": "stderr",
     "output_type": "stream",
     "text": [
      "2020-05-22 13:31:54,949:INFO:First current path [0, 47, 203, 139, 277, 15] formed at time = 0.75 s.\n"
     ]
    },
    {
     "name": "stdout",
     "output_type": "stream",
     "text": [
      "Running Random Network Regression: 50 nodes\n"
     ]
    },
    {
     "data": {
      "application/vnd.jupyter.widget-view+json": {
       "model_id": "8be5c779f683437e9193141e44ec70c0",
       "version_major": 2,
       "version_minor": 0
      },
      "text/plain": [
       "HBox(children=(IntProgress(value=0, description='Running Simulation ', max=500, style=ProgressStyle(descriptio…"
      ]
     },
     "metadata": {},
     "output_type": "display_data"
    },
    {
     "name": "stdout",
     "output_type": "stream",
     "text": [
      "Running Random Network Regression: 100 nodes\n",
      "Running Grid Network Regression: 250 nodes\n",
      "Running Random Network Regression: 200 nodes\n",
      "Running Grid Network Regression: 50 nodes\n",
      "Running Random Network Regression: 150 nodes\n",
      "Running Grid Network Regression: 100 nodes\n"
     ]
    },
    {
     "name": "stderr",
     "output_type": "stream",
     "text": [
      "2020-05-22 13:31:55,278:INFO:First current path [1, 3, 6, 9, 12, 15, 18, 21, 24, 27, 30, 33, 36, 39, 42, 45, 48, 51, 54, 57, 60, 63, 66, 69, 72, 75, 78, 81, 84, 87, 90, 93, 96, 99, 102, 105, 108, 111, 114, 117, 120, 123, 126, 129, 132, 135, 138, 141, 143] formed at time = 0.75 s.\n"
     ]
    },
    {
     "data": {
      "application/vnd.jupyter.widget-view+json": {
       "model_id": "b9ddaba4ce53495ba6cafa5f1934eef4",
       "version_major": 2,
       "version_minor": 0
      },
      "text/plain": [
       "HBox(children=(IntProgress(value=0, description='Running Simulation ', max=500, style=ProgressStyle(descriptio…"
      ]
     },
     "metadata": {},
     "output_type": "display_data"
    },
    {
     "name": "stdout",
     "output_type": "stream",
     "text": [
      "Running Grid Network Regression: 150 nodes\n"
     ]
    },
    {
     "name": "stderr",
     "output_type": "stream",
     "text": [
      "2020-05-22 13:31:55,498:INFO:First current path [1, 175, 16, 202, 24, 45] formed at time = 0.75 s.\n"
     ]
    },
    {
     "name": "stdout",
     "output_type": "stream",
     "text": [
      "Running Random Network Regression: 50 nodes\n",
      "Running Random Network Regression: 200 nodes\n",
      "Running Random Network Regression: 100 nodes\n",
      "Running Random Network Regression: 250 nodes\n",
      "Running Grid Network Regression: 200 nodes\n",
      "Running Random Network Regression: 150 nodes\n",
      "Running Grid Network Regression: 298 nodes\n",
      "Running Random Network Regression: 250 nodes\n",
      "Running Random Network Regression: 200 nodes\n",
      "Running Grid Network Regression: 250 nodes\n"
     ]
    },
    {
     "name": "stderr",
     "output_type": "stream",
     "text": [
      "2020-05-22 13:31:56,366:INFO:First current path [0, 6, 16, 26, 36, 46, 56, 66, 76, 86, 96, 106, 116, 126, 136, 142] formed at time = 0.76 s.\n"
     ]
    },
    {
     "data": {
      "application/vnd.jupyter.widget-view+json": {
       "model_id": "338d5e45efea4d209cf129085cdf8627",
       "version_major": 2,
       "version_minor": 0
      },
      "text/plain": [
       "HBox(children=(IntProgress(value=0, description='Running Simulation ', max=500, style=ProgressStyle(descriptio…"
      ]
     },
     "metadata": {},
     "output_type": "display_data"
    },
    {
     "name": "stdout",
     "output_type": "stream",
     "text": [
      "Running Random Network Regression: 282 nodes\n"
     ]
    },
    {
     "data": {
      "application/vnd.jupyter.widget-view+json": {
       "model_id": "45c1c64d03e64d28a1e0eb72425c91e5",
       "version_major": 2,
       "version_minor": 0
      },
      "text/plain": [
       "HBox(children=(IntProgress(value=0, description='Running Simulation ', max=500, style=ProgressStyle(descriptio…"
      ]
     },
     "metadata": {},
     "output_type": "display_data"
    },
    {
     "name": "stderr",
     "output_type": "stream",
     "text": [
      "2020-05-22 13:31:56,603:INFO:First current path [121, 106, 65, 246, 233, 214, 18] formed at time = 0.76 s.\n"
     ]
    },
    {
     "name": "stdout",
     "output_type": "stream",
     "text": [
      "Running Random Network Regression: 50 nodes\n",
      "Running Random Network Regression: 250 nodes\n",
      "Running Random Network Regression: 100 nodes\n",
      "Running Random Network Regression: 150 nodes\n",
      "Running Random Network Regression: 287 nodes\n",
      "Running Grid Network Regression: 292 nodes\n",
      "Running Random Network Regression: 200 nodes\n",
      "Running Random Network Regression: 283 nodes\n",
      "Running Grid Network Regression: 50 nodes\n",
      "Running Grid Network Regression: 100 nodes\n",
      "Running Grid Network Regression: 150 nodes\n",
      "Running Random Network Regression: 250 nodes\n"
     ]
    },
    {
     "name": "stderr",
     "output_type": "stream",
     "text": [
      "2020-05-22 13:31:57,803:INFO:First current path [0, 5, 13, 21, 29, 37, 45, 53, 61, 69, 77, 85, 93, 101, 109, 117, 125, 133, 141, 146] formed at time = 0.76 s.\n"
     ]
    },
    {
     "name": "stdout",
     "output_type": "stream",
     "text": [
      "Running Grid Network Regression: 50 nodes\n"
     ]
    },
    {
     "name": "stderr",
     "output_type": "stream",
     "text": [
      "2020-05-22 13:31:57,946:INFO:First current path [0, 27, 199, 15] formed at time = 0.75 s.\n"
     ]
    },
    {
     "name": "stdout",
     "output_type": "stream",
     "text": [
      "Running Random Network Regression: 50 nodes\n"
     ]
    },
    {
     "data": {
      "application/vnd.jupyter.widget-view+json": {
       "model_id": "c78ccd164d924b72b573a008fdcf4584",
       "version_major": 2,
       "version_minor": 0
      },
      "text/plain": [
       "HBox(children=(IntProgress(value=0, description='Running Simulation ', max=500, style=ProgressStyle(descriptio…"
      ]
     },
     "metadata": {},
     "output_type": "display_data"
    },
    {
     "name": "stdout",
     "output_type": "stream",
     "text": [
      "Running Grid Network Regression: 100 nodes\n",
      "Running Random Network Regression: 100 nodes\n",
      "Running Grid Network Regression: 200 nodes\n",
      "Running Grid Network Regression: 150 nodes\n",
      "Running Random Network Regression: 150 nodes\n",
      "Running Grid Network Regression: 200 nodes\n",
      "Running Grid Network Regression: 250 nodes\n",
      "Running Grid Network Regression: 50 nodes\n",
      "Running Random Network Regression: 200 nodes\n",
      "Running Random Network Regression: 284 nodes\n",
      "Running Grid Network Regression: 100 nodes\n",
      "Running Grid Network Regression: 150 nodes\n",
      "Running Grid Network Regression: 250 nodes\n",
      "Running Grid Network Regression: 200 nodes\n",
      "Running Random Network Regression: 250 nodes\n"
     ]
    },
    {
     "data": {
      "application/vnd.jupyter.widget-view+json": {
       "model_id": "2301fbb9b92045a3a5600918e68a378e",
       "version_major": 2,
       "version_minor": 0
      },
      "text/plain": [
       "HBox(children=(IntProgress(value=0, description='Running Simulation ', max=500, style=ProgressStyle(descriptio…"
      ]
     },
     "metadata": {},
     "output_type": "display_data"
    },
    {
     "name": "stdout",
     "output_type": "stream",
     "text": [
      "Running Grid Network Regression: 282 nodes\n"
     ]
    },
    {
     "name": "stderr",
     "output_type": "stream",
     "text": [
      "2020-05-22 13:31:59,416:INFO:First current path [0, 2, 4, 11] formed at time = 0.75 s.\n"
     ]
    },
    {
     "name": "stdout",
     "output_type": "stream",
     "text": [
      "Running Random Network Regression: 50 nodes\n",
      "Running Random Network Regression: 100 nodes\n",
      "Running Grid Network Regression: 250 nodes\n",
      "Running Grid Network Regression: 50 nodes\n",
      "Running Grid Network Regression: 100 nodes\n",
      "Running Random Network Regression: 150 nodes\n",
      "Running Grid Network Regression: 287 nodes\n",
      "Running Grid Network Regression: 150 nodes\n",
      "Running Random Network Regression: 300 nodes\n",
      "Running Random Network Regression: 200 nodes\n",
      "Running Grid Network Regression: 200 nodes\n",
      "Running Grid Network Regression: 283 nodes\n"
     ]
    },
    {
     "name": "stderr",
     "output_type": "stream",
     "text": [
      "2020-05-22 13:32:00,531:INFO:First current path [0, 6, 17, 28, 39, 50, 61, 72, 83, 94, 105, 116, 127, 138, 145] formed at time = 0.76 s.\n"
     ]
    },
    {
     "name": "stdout",
     "output_type": "stream",
     "text": [
      "Running Grid Network Regression: 250 nodes\n",
      "Running Random Network Regression: 250 nodes\n"
     ]
    },
    {
     "data": {
      "application/vnd.jupyter.widget-view+json": {
       "model_id": "47ebdca1d48e48de85e28ac0c5dc502a",
       "version_major": 2,
       "version_minor": 0
      },
      "text/plain": [
       "HBox(children=(IntProgress(value=0, description='Running Simulation ', max=500, style=ProgressStyle(descriptio…"
      ]
     },
     "metadata": {},
     "output_type": "display_data"
    },
    {
     "data": {
      "application/vnd.jupyter.widget-view+json": {
       "model_id": "51df79609b814e5e902d1b3263863e93",
       "version_major": 2,
       "version_minor": 0
      },
      "text/plain": [
       "HBox(children=(IntProgress(value=0, description='Running Simulation ', max=500, style=ProgressStyle(descriptio…"
      ]
     },
     "metadata": {},
     "output_type": "display_data"
    },
    {
     "name": "stdout",
     "output_type": "stream",
     "text": [
      "Running Grid Network Regression: 50 nodes\n",
      "Running Grid Network Regression: 100 nodes\n",
      "Running Grid Network Regression: 284 nodes\n",
      "Running Grid Network Regression: 150 nodes\n",
      "Running Random Network Regression: 300 nodes\n"
     ]
    },
    {
     "data": {
      "application/vnd.jupyter.widget-view+json": {
       "model_id": "28e3ba4c5f0240be909739de451df67f",
       "version_major": 2,
       "version_minor": 0
      },
      "text/plain": [
       "HBox(children=(IntProgress(value=0, description='Running Simulation ', max=500, style=ProgressStyle(descriptio…"
      ]
     },
     "metadata": {},
     "output_type": "display_data"
    },
    {
     "name": "stdout",
     "output_type": "stream",
     "text": [
      "Running Grid Network Regression: 200 nodes\n",
      "Running Grid Network Regression: 250 nodes\n"
     ]
    },
    {
     "name": "stderr",
     "output_type": "stream",
     "text": [
      "2020-05-22 13:32:02,237:INFO:First current path [0, 2, 163, 20] formed at time = 0.75 s.\n"
     ]
    },
    {
     "name": "stdout",
     "output_type": "stream",
     "text": [
      "Running Random Network Regression: 50 nodes\n"
     ]
    },
    {
     "name": "stderr",
     "output_type": "stream",
     "text": [
      "2020-05-22 13:32:02,299:INFO:First current path [0, 290, 282, 274, 266, 258, 250, 242, 234, 226, 218, 210, 202, 194, 186, 178, 170, 162, 154, 146] formed at time = 0.75 s.\n"
     ]
    },
    {
     "name": "stdout",
     "output_type": "stream",
     "text": [
      "Running Random Network Regression: 100 nodes\n"
     ]
    },
    {
     "data": {
      "application/vnd.jupyter.widget-view+json": {
       "model_id": "fd154d28c9594ec9a3e77803f96fad63",
       "version_major": 2,
       "version_minor": 0
      },
      "text/plain": [
       "HBox(children=(IntProgress(value=0, description='Running Simulation ', max=500, style=ProgressStyle(descriptio…"
      ]
     },
     "metadata": {},
     "output_type": "display_data"
    },
    {
     "data": {
      "application/vnd.jupyter.widget-view+json": {
       "model_id": "a2e903ac3128466ab690251d80335b03",
       "version_major": 2,
       "version_minor": 0
      },
      "text/plain": [
       "HBox(children=(IntProgress(value=0, description='Running Simulation ', max=500, style=ProgressStyle(descriptio…"
      ]
     },
     "metadata": {},
     "output_type": "display_data"
    },
    {
     "name": "stdout",
     "output_type": "stream",
     "text": [
      "Running Random Network Regression: 150 nodes\n",
      "Running Grid Network Regression: 50 nodes\n",
      "Running Grid Network Regression: 100 nodes\n"
     ]
    },
    {
     "name": "stderr",
     "output_type": "stream",
     "text": [
      "2020-05-22 13:32:02,747:INFO:First current path [0, 4, 10, 16, 22, 28, 34, 40, 46, 52, 58, 64, 70, 76, 82, 88, 94, 100, 106, 112, 118, 124, 130, 136, 142, 146] formed at time = 0.75 s.\n"
     ]
    },
    {
     "name": "stdout",
     "output_type": "stream",
     "text": [
      "Running Grid Network Regression: 150 nodes\n",
      "Running Random Network Regression: 200 nodes\n"
     ]
    },
    {
     "data": {
      "application/vnd.jupyter.widget-view+json": {
       "model_id": "faae059d75b243a7abd5b84c44b8916b",
       "version_major": 2,
       "version_minor": 0
      },
      "text/plain": [
       "HBox(children=(IntProgress(value=0, description='Running Simulation ', max=500, style=ProgressStyle(descriptio…"
      ]
     },
     "metadata": {},
     "output_type": "display_data"
    },
    {
     "name": "stdout",
     "output_type": "stream",
     "text": [
      "Running Grid Network Regression: 300 nodes\n",
      "Running Grid Network Regression: 200 nodes\n",
      "Running Random Network Regression: 250 nodes\n"
     ]
    },
    {
     "data": {
      "application/vnd.jupyter.widget-view+json": {
       "model_id": "c0483a041ae641fb9d718ebe1aa46813",
       "version_major": 2,
       "version_minor": 0
      },
      "text/plain": [
       "HBox(children=(IntProgress(value=0, description='Running Simulation ', max=500, style=ProgressStyle(descriptio…"
      ]
     },
     "metadata": {},
     "output_type": "display_data"
    },
    {
     "name": "stderr",
     "output_type": "stream",
     "text": [
      "2020-05-22 13:32:03,695:INFO:First current path [0, 3, 8, 13, 18, 23, 28, 33, 38, 43, 48, 53, 58, 63, 68, 73, 78, 83, 88, 93, 98, 103, 108, 113, 118, 123, 128, 133, 138, 143, 147] formed at time = 0.76 s.\n"
     ]
    },
    {
     "name": "stdout",
     "output_type": "stream",
     "text": [
      "Running Grid Network Regression: 250 nodes\n"
     ]
    },
    {
     "name": "stderr",
     "output_type": "stream",
     "text": [
      "2020-05-22 13:32:03,836:INFO:First current path [256, 164, 294, 241, 66] formed at time = 0.76 s.\n"
     ]
    },
    {
     "name": "stdout",
     "output_type": "stream",
     "text": [
      "Running Random Network Regression: 50 nodes\n"
     ]
    },
    {
     "data": {
      "application/vnd.jupyter.widget-view+json": {
       "model_id": "1e3357530b354d4cbefb689f101df336",
       "version_major": 2,
       "version_minor": 0
      },
      "text/plain": [
       "HBox(children=(IntProgress(value=0, description='Running Simulation ', max=500, style=ProgressStyle(descriptio…"
      ]
     },
     "metadata": {},
     "output_type": "display_data"
    },
    {
     "name": "stdout",
     "output_type": "stream",
     "text": [
      "Running Random Network Regression: 100 nodes\n",
      "Running Random Network Regression: 150 nodes\n",
      "Running Random Network Regression: 300 nodes\n"
     ]
    },
    {
     "name": "stderr",
     "output_type": "stream",
     "text": [
      "2020-05-22 13:32:04,260:INFO:First current path [3, 138, 73, 198, 200] formed at time = 0.76 s.\n"
     ]
    },
    {
     "name": "stdout",
     "output_type": "stream",
     "text": [
      "Running Random Network Regression: 50 nodes\n",
      "Running Random Network Regression: 100 nodes\n",
      "Running Random Network Regression: 200 nodes\n",
      "Running Grid Network Regression: 300 nodes\n",
      "Running Random Network Regression: 150 nodes\n"
     ]
    },
    {
     "data": {
      "application/vnd.jupyter.widget-view+json": {
       "model_id": "d8cfd1ec66834cc7a0bfabf6c1fe7176",
       "version_major": 2,
       "version_minor": 0
      },
      "text/plain": [
       "HBox(children=(IntProgress(value=0, description='Running Simulation ', max=500, style=ProgressStyle(descriptio…"
      ]
     },
     "metadata": {},
     "output_type": "display_data"
    },
    {
     "name": "stderr",
     "output_type": "stream",
     "text": [
      "2020-05-22 13:32:04,898:INFO:First current path [0, 3, 7, 11, 15, 19, 23, 27, 31, 35, 39, 43, 47, 51, 55, 59, 63, 67, 71, 75, 79, 83, 87, 91, 95, 99, 103, 107, 111, 115, 119, 123, 127, 131, 135, 139, 143, 146] formed at time = 0.75 s.\n"
     ]
    },
    {
     "name": "stdout",
     "output_type": "stream",
     "text": [
      "Running Random Network Regression: 200 nodes\n"
     ]
    },
    {
     "data": {
      "application/vnd.jupyter.widget-view+json": {
       "model_id": "00f9a23916c34d869d18613ad5a52965",
       "version_major": 2,
       "version_minor": 0
      },
      "text/plain": [
       "HBox(children=(IntProgress(value=0, description='Running Simulation ', max=500, style=ProgressStyle(descriptio…"
      ]
     },
     "metadata": {},
     "output_type": "display_data"
    },
    {
     "name": "stdout",
     "output_type": "stream",
     "text": [
      "Running Random Network Regression: 250 nodes\n"
     ]
    },
    {
     "name": "stderr",
     "output_type": "stream",
     "text": [
      "2020-05-22 13:32:05,083:INFO:First current path [0, 7, 5, 214, 120] formed at time = 0.75 s.\n"
     ]
    },
    {
     "name": "stdout",
     "output_type": "stream",
     "text": [
      "Running Random Network Regression: 50 nodes\n",
      "Running Random Network Regression: 100 nodes\n",
      "Running Random Network Regression: 150 nodes\n",
      "Running Grid Network Regression: 50 nodes\n",
      "Running Random Network Regression: 250 nodes\n",
      "Running Grid Network Regression: 100 nodes\n",
      "Running Grid Network Regression: 150 nodes\n",
      "Running Random Network Regression: 200 nodes\n",
      "Running Random Network Regression: 298 nodes\n"
     ]
    },
    {
     "name": "stderr",
     "output_type": "stream",
     "text": [
      "2020-05-22 13:32:05,988:INFO:First current path [0, 3, 7, 11, 15, 19, 23, 27, 31, 35, 39, 43, 47, 51, 55, 59, 63, 67, 71, 75, 79, 83, 87, 91, 95, 99, 103, 107, 111, 115, 119, 123, 127, 131, 135, 138] formed at time = 0.75 s.\n"
     ]
    },
    {
     "name": "stdout",
     "output_type": "stream",
     "text": [
      "Running Grid Network Regression: 200 nodes\n"
     ]
    },
    {
     "data": {
      "application/vnd.jupyter.widget-view+json": {
       "model_id": "247d87f7193649d68ae1d715e6451fdb",
       "version_major": 2,
       "version_minor": 0
      },
      "text/plain": [
       "HBox(children=(IntProgress(value=0, description='Running Simulation ', max=500, style=ProgressStyle(descriptio…"
      ]
     },
     "metadata": {},
     "output_type": "display_data"
    },
    {
     "name": "stdout",
     "output_type": "stream",
     "text": [
      "Running Random Network Regression: 250 nodes\n"
     ]
    },
    {
     "name": "stderr",
     "output_type": "stream",
     "text": [
      "2020-05-22 13:32:06,359:INFO:First current path [112, 240, 219, 243, 190, 208] formed at time = 0.76 s.\n"
     ]
    },
    {
     "name": "stdout",
     "output_type": "stream",
     "text": [
      "Running Random Network Regression: 50 nodes\n",
      "Running Random Network Regression: 298 nodes\n",
      "Running Random Network Regression: 100 nodes\n",
      "Running Random Network Regression: 150 nodes\n",
      "Running Grid Network Regression: 250 nodes\n",
      "Running Random Network Regression: 200 nodes\n"
     ]
    },
    {
     "data": {
      "application/vnd.jupyter.widget-view+json": {
       "model_id": "ee883a5852d04d7aa1dd5d7e432bf45e",
       "version_major": 2,
       "version_minor": 0
      },
      "text/plain": [
       "HBox(children=(IntProgress(value=0, description='Running Simulation ', max=500, style=ProgressStyle(descriptio…"
      ]
     },
     "metadata": {},
     "output_type": "display_data"
    },
    {
     "name": "stdout",
     "output_type": "stream",
     "text": [
      "Running Random Network Regression: 294 nodes\n",
      "Running Grid Network Regression: 50 nodes\n",
      "Running Grid Network Regression: 100 nodes\n"
     ]
    },
    {
     "name": "stderr",
     "output_type": "stream",
     "text": [
      "2020-05-22 13:32:07,329:INFO:First current path [15, 2, 74, 90, 116, 174] formed at time = 0.79 s.\n"
     ]
    },
    {
     "name": "stdout",
     "output_type": "stream",
     "text": [
      "Running Random Network Regression: 50 nodes\n",
      "Running Random Network Regression: 100 nodes\n",
      "Running Grid Network Regression: 300 nodes\n",
      "Running Grid Network Regression: 150 nodes\n",
      "Running Random Network Regression: 250 nodes\n",
      "Running Random Network Regression: 150 nodes\n",
      "Running Grid Network Regression: 50 nodes\n",
      "Running Grid Network Regression: 100 nodes\n",
      "Running Grid Network Regression: 200 nodes\n",
      "Running Grid Network Regression: 150 nodes\n",
      "Running Random Network Regression: 200 nodes\n",
      "Running Grid Network Regression: 200 nodes\n",
      "Running Grid Network Regression: 50 nodes\n",
      "Running Grid Network Regression: 100 nodes\n",
      "Running Random Network Regression: 292 nodes\n"
     ]
    },
    {
     "data": {
      "application/vnd.jupyter.widget-view+json": {
       "model_id": "dccd95a77ed546ada4bc9646d92f9dc1",
       "version_major": 2,
       "version_minor": 0
      },
      "text/plain": [
       "HBox(children=(IntProgress(value=0, description='Running Simulation ', max=500, style=ProgressStyle(descriptio…"
      ]
     },
     "metadata": {},
     "output_type": "display_data"
    },
    {
     "name": "stderr",
     "output_type": "stream",
     "text": [
      "2020-05-22 13:32:08,394:INFO:First current path [0, 2, 5, 8, 11, 14, 17, 20, 23, 26, 29, 32, 35, 38, 41, 44, 47, 50, 53, 56, 59, 62, 65, 68, 71, 74, 77, 80, 83, 86, 89, 92, 95, 98, 101, 104, 107, 110, 113, 116, 119, 122, 125, 128, 131, 134, 137, 140, 143] formed at time = 0.76 s.\n"
     ]
    },
    {
     "name": "stdout",
     "output_type": "stream",
     "text": [
      "Running Grid Network Regression: 250 nodes\n",
      "Running Random Network Regression: 250 nodes\n"
     ]
    },
    {
     "data": {
      "application/vnd.jupyter.widget-view+json": {
       "model_id": "d26f00502cd649039909c9a67b79fdc1",
       "version_major": 2,
       "version_minor": 0
      },
      "text/plain": [
       "HBox(children=(IntProgress(value=0, description='Running Simulation ', max=500, style=ProgressStyle(descriptio…"
      ]
     },
     "metadata": {},
     "output_type": "display_data"
    },
    {
     "data": {
      "application/vnd.jupyter.widget-view+json": {
       "model_id": "10df81a5e42f4f14b1f18667ec1483ba",
       "version_major": 2,
       "version_minor": 0
      },
      "text/plain": [
       "HBox(children=(IntProgress(value=0, description='Running Simulation ', max=500, style=ProgressStyle(descriptio…"
      ]
     },
     "metadata": {},
     "output_type": "display_data"
    },
    {
     "name": "stdout",
     "output_type": "stream",
     "text": [
      "Running Grid Network Regression: 150 nodes\n",
      "Running Grid Network Regression: 250 nodes\n",
      "Running Grid Network Regression: 200 nodes\n",
      "Running Grid Network Regression: 298 nodes\n",
      "Running Random Network Regression: 279 nodes\n",
      "Running Grid Network Regression: 250 nodes\n",
      "Running Grid Network Regression: 50 nodes\n"
     ]
    },
    {
     "name": "stderr",
     "output_type": "stream",
     "text": [
      "2020-05-22 13:32:09,483:INFO:First current path [0, 2, 4, 6, 8, 10, 12, 14, 16, 18, 20, 22, 24, 26, 28, 30, 32, 34, 36, 38, 40, 42, 44, 46, 48, 50, 52, 54, 56, 58, 60, 62, 64, 66, 68, 70, 72, 74, 76, 78, 80, 82, 84, 86, 88, 90, 92, 94, 96, 98, 100, 102, 104, 106, 108, 110, 112, 114, 116, 118, 120, 122, 124, 126, 128, 130, 132, 134, 136, 138, 140] formed at time = 0.75 s.\n"
     ]
    },
    {
     "name": "stdout",
     "output_type": "stream",
     "text": [
      "Running Grid Network Regression: 100 nodes\n",
      "Running Grid Network Regression: 298 nodes\n"
     ]
    },
    {
     "data": {
      "application/vnd.jupyter.widget-view+json": {
       "model_id": "a070f6d13c244c449efd96141902a7fb",
       "version_major": 2,
       "version_minor": 0
      },
      "text/plain": [
       "HBox(children=(IntProgress(value=0, description='Running Simulation ', max=500, style=ProgressStyle(descriptio…"
      ]
     },
     "metadata": {},
     "output_type": "display_data"
    },
    {
     "name": "stderr",
     "output_type": "stream",
     "text": [
      "2020-05-22 13:32:09,628:INFO:First current path [0, 2, 4, 6, 8, 10, 12, 14, 16, 18, 20, 22, 24, 26, 28, 30, 32, 34, 36, 38, 40, 42, 44, 46, 48, 50, 52, 54, 56, 58, 60, 62, 64, 66, 68, 70, 72, 74, 76, 78, 80, 82, 84, 86, 88, 90, 92, 94, 96, 98, 100, 102, 104, 106, 108, 110, 112, 114, 116, 118, 120, 122, 124, 126, 128, 130, 132, 134, 136, 138, 140] formed at time = 0.75 s.\n"
     ]
    },
    {
     "name": "stdout",
     "output_type": "stream",
     "text": [
      "Running Grid Network Regression: 150 nodes\n"
     ]
    },
    {
     "name": "stderr",
     "output_type": "stream",
     "text": [
      "2020-05-22 13:32:09,733:INFO:First current path [154, 9, 45, 142, 135, 139, 249] formed at time = 0.78 s.\n"
     ]
    },
    {
     "name": "stdout",
     "output_type": "stream",
     "text": [
      "Running Random Network Regression: 50 nodes\n"
     ]
    },
    {
     "data": {
      "application/vnd.jupyter.widget-view+json": {
       "model_id": "d4648f5c63ff459687988895dd458169",
       "version_major": 2,
       "version_minor": 0
      },
      "text/plain": [
       "HBox(children=(IntProgress(value=0, description='Running Simulation ', max=500, style=ProgressStyle(descriptio…"
      ]
     },
     "metadata": {},
     "output_type": "display_data"
    },
    {
     "name": "stdout",
     "output_type": "stream",
     "text": [
      "Running Random Network Regression: 100 nodes\n",
      "Running Grid Network Regression: 200 nodes\n",
      "Running Random Network Regression: 150 nodes\n",
      "Running Grid Network Regression: 294 nodes\n"
     ]
    },
    {
     "data": {
      "application/vnd.jupyter.widget-view+json": {
       "model_id": "fd24b90d36ee4f75939f9a9f923cd85f",
       "version_major": 2,
       "version_minor": 0
      },
      "text/plain": [
       "HBox(children=(IntProgress(value=0, description='Running Simulation ', max=500, style=ProgressStyle(descriptio…"
      ]
     },
     "metadata": {},
     "output_type": "display_data"
    },
    {
     "name": "stdout",
     "output_type": "stream",
     "text": [
      "Running Grid Network Regression: 50 nodes\n",
      "Running Grid Network Regression: 100 nodes\n",
      "Running Random Network Regression: 200 nodes\n",
      "Running Grid Network Regression: 250 nodes\n",
      "Running Grid Network Regression: 150 nodes\n"
     ]
    },
    {
     "name": "stderr",
     "output_type": "stream",
     "text": [
      "2020-05-22 13:32:10,730:INFO:First current path [0, 113, 89, 16, 81, 241, 58, 55] formed at time = 0.76 s.\n"
     ]
    },
    {
     "name": "stdout",
     "output_type": "stream",
     "text": [
      "Running Random Network Regression: 50 nodes\n",
      "Running Random Network Regression: 100 nodes\n",
      "Running Grid Network Regression: 200 nodes\n"
     ]
    },
    {
     "name": "stderr",
     "output_type": "stream",
     "text": [
      "2020-05-22 13:32:10,892:INFO:First current path [223, 46, 14, 146, 125, 176, 189, 24, 257] formed at time = 0.75 s.\n"
     ]
    },
    {
     "name": "stdout",
     "output_type": "stream",
     "text": [
      "Running Random Network Regression: 50 nodes\n",
      "Running Random Network Regression: 250 nodes\n",
      "Running Random Network Regression: 100 nodes\n",
      "Running Random Network Regression: 150 nodes\n",
      "Running Random Network Regression: 150 nodes\n",
      "Running Grid Network Regression: 292 nodes\n",
      "Running Random Network Regression: 200 nodes\n",
      "Running Grid Network Regression: 250 nodes\n",
      "Running Random Network Regression: 200 nodes\n"
     ]
    },
    {
     "name": "stderr",
     "output_type": "stream",
     "text": [
      "2020-05-22 13:32:11,566:INFO:First current path [0, 6, 16, 26, 36, 46, 56, 66, 76, 86, 96, 106, 116, 126, 136, 142] formed at time = 0.76 s.\n"
     ]
    },
    {
     "data": {
      "application/vnd.jupyter.widget-view+json": {
       "model_id": "1c76992f77d547f295f11c19c5876ac5",
       "version_major": 2,
       "version_minor": 0
      },
      "text/plain": [
       "HBox(children=(IntProgress(value=0, description='Running Simulation ', max=500, style=ProgressStyle(descriptio…"
      ]
     },
     "metadata": {},
     "output_type": "display_data"
    },
    {
     "name": "stdout",
     "output_type": "stream",
     "text": [
      "Running Random Network Regression: 289 nodes\n",
      "Running Random Network Regression: 250 nodes\n",
      "Running Random Network Regression: 250 nodes\n",
      "Running Grid Network Regression: 279 nodes\n",
      "Running Random Network Regression: 279 nodes\n",
      "Running Grid Network Regression: 50 nodes\n",
      "Running Random Network Regression: 281 nodes\n"
     ]
    },
    {
     "data": {
      "application/vnd.jupyter.widget-view+json": {
       "model_id": "65c561df4565452f8f2eec20d55862dd",
       "version_major": 2,
       "version_minor": 0
      },
      "text/plain": [
       "HBox(children=(IntProgress(value=0, description='Running Simulation ', max=500, style=ProgressStyle(descriptio…"
      ]
     },
     "metadata": {},
     "output_type": "display_data"
    },
    {
     "name": "stdout",
     "output_type": "stream",
     "text": [
      "Running Grid Network Regression: 100 nodes\n",
      "Running Grid Network Regression: 150 nodes\n",
      "Running Grid Network Regression: 200 nodes\n",
      "Running Grid Network Regression: 50 nodes\n",
      "Running Grid Network Regression: 100 nodes\n",
      "Running Grid Network Regression: 150 nodes\n",
      "Running Grid Network Regression: 50 nodes\n",
      "Running Grid Network Regression: 250 nodes\n",
      "Running Grid Network Regression: 100 nodes\n"
     ]
    },
    {
     "data": {
      "application/vnd.jupyter.widget-view+json": {
       "model_id": "abc726fa2f484af3b635632eee26690e",
       "version_major": 2,
       "version_minor": 0
      },
      "text/plain": [
       "HBox(children=(IntProgress(value=0, description='Running Simulation ', max=500, style=ProgressStyle(descriptio…"
      ]
     },
     "metadata": {},
     "output_type": "display_data"
    },
    {
     "name": "stdout",
     "output_type": "stream",
     "text": [
      "Running Grid Network Regression: 150 nodes\n",
      "Running Grid Network Regression: 200 nodes\n"
     ]
    },
    {
     "name": "stderr",
     "output_type": "stream",
     "text": [
      "2020-05-22 13:32:14,190:INFO:First current path [0, 289, 277, 265, 253, 241, 229, 217, 205, 193, 181, 169, 157, 146] formed at time = 0.75 s.\n",
      "2020-05-22 13:32:14,299:INFO:First current path [0, 33, 280, 18] formed at time = 0.75 s.\n"
     ]
    },
    {
     "name": "stdout",
     "output_type": "stream",
     "text": [
      "Running Random Network Regression: 50 nodes\n",
      "Running Grid Network Regression: 200 nodes\n",
      "Running Random Network Regression: 100 nodes\n"
     ]
    },
    {
     "data": {
      "application/vnd.jupyter.widget-view+json": {
       "model_id": "ae8dfada861d4dc49bc6f9506635bd49",
       "version_major": 2,
       "version_minor": 0
      },
      "text/plain": [
       "HBox(children=(IntProgress(value=0, description='Running Simulation ', max=500, style=ProgressStyle(descriptio…"
      ]
     },
     "metadata": {},
     "output_type": "display_data"
    },
    {
     "name": "stdout",
     "output_type": "stream",
     "text": [
      "Running Grid Network Regression: 250 nodes\n",
      "Running Random Network Regression: 150 nodes\n",
      "Running Grid Network Regression: 289 nodes\n",
      "Running Grid Network Regression: 250 nodes\n",
      "Running Random Network Regression: 200 nodes\n"
     ]
    },
    {
     "data": {
      "application/vnd.jupyter.widget-view+json": {
       "model_id": "7f2e7f1142ca45b2b378ac3919d2e077",
       "version_major": 2,
       "version_minor": 0
      },
      "text/plain": [
       "HBox(children=(IntProgress(value=0, description='Running Simulation ', max=500, style=ProgressStyle(descriptio…"
      ]
     },
     "metadata": {},
     "output_type": "display_data"
    },
    {
     "name": "stdout",
     "output_type": "stream",
     "text": [
      "Running Grid Network Regression: 279 nodes\n"
     ]
    },
    {
     "name": "stderr",
     "output_type": "stream",
     "text": [
      "2020-05-22 13:32:15,240:INFO:First current path [0, 4, 10, 16, 22, 28, 34, 40, 46, 52, 58, 64, 70, 76, 82, 88, 94, 100, 106, 112, 118, 124, 130, 136, 142, 146] formed at time = 0.75 s.\n"
     ]
    },
    {
     "data": {
      "application/vnd.jupyter.widget-view+json": {
       "model_id": "9cd377568b2d49cda86d63ada13ead92",
       "version_major": 2,
       "version_minor": 0
      },
      "text/plain": [
       "HBox(children=(IntProgress(value=0, description='Running Simulation ', max=500, style=ProgressStyle(descriptio…"
      ]
     },
     "metadata": {},
     "output_type": "display_data"
    },
    {
     "name": "stdout",
     "output_type": "stream",
     "text": [
      "Running Random Network Regression: 250 nodes\n",
      "Running Grid Network Regression: 281 nodes\n"
     ]
    },
    {
     "name": "stderr",
     "output_type": "stream",
     "text": [
      "2020-05-22 13:32:15,868:INFO:First current path [0, 31, 150, 13] formed at time = 0.75 s.\n"
     ]
    },
    {
     "name": "stdout",
     "output_type": "stream",
     "text": [
      "Running Random Network Regression: 50 nodes\n",
      "Running Random Network Regression: 100 nodes\n",
      "Running Random Network Regression: 150 nodes\n",
      "Running Random Network Regression: 300 nodes\n",
      "Running Random Network Regression: 200 nodes\n"
     ]
    },
    {
     "name": "stderr",
     "output_type": "stream",
     "text": [
      "2020-05-22 13:32:16,545:INFO:First current path [0, 4, 10, 16, 22, 28, 34, 40, 46, 52, 58, 64, 70, 76, 82, 88, 94, 100, 106, 112, 118, 124, 130, 136, 142, 146] formed at time = 0.75 s.\n"
     ]
    },
    {
     "data": {
      "application/vnd.jupyter.widget-view+json": {
       "model_id": "5cfccfb3db9a462e9f44dce82c385cc4",
       "version_major": 2,
       "version_minor": 0
      },
      "text/plain": [
       "HBox(children=(IntProgress(value=0, description='Running Simulation ', max=500, style=ProgressStyle(descriptio…"
      ]
     },
     "metadata": {},
     "output_type": "display_data"
    },
    {
     "data": {
      "application/vnd.jupyter.widget-view+json": {
       "model_id": "3bf884b818a24deca3f2a941185b3fd4",
       "version_major": 2,
       "version_minor": 0
      },
      "text/plain": [
       "HBox(children=(IntProgress(value=0, description='Running Simulation ', max=500, style=ProgressStyle(descriptio…"
      ]
     },
     "metadata": {},
     "output_type": "display_data"
    },
    {
     "name": "stderr",
     "output_type": "stream",
     "text": [
      "2020-05-22 13:32:16,812:INFO:First current path [0, 2, 182, 89, 267] formed at time = 0.77 s.\n"
     ]
    },
    {
     "name": "stdout",
     "output_type": "stream",
     "text": [
      "Running Random Network Regression: 50 nodes\n",
      "Running Random Network Regression: 100 nodes\n",
      "Running Random Network Regression: 250 nodes\n",
      "Running Random Network Regression: 150 nodes\n",
      "Running Grid Network Regression: 50 nodes\n"
     ]
    },
    {
     "data": {
      "application/vnd.jupyter.widget-view+json": {
       "model_id": "5a6575278f784962b45d9a573883bef3",
       "version_major": 2,
       "version_minor": 0
      },
      "text/plain": [
       "HBox(children=(IntProgress(value=0, description='Running Simulation ', max=500, style=ProgressStyle(descriptio…"
      ]
     },
     "metadata": {},
     "output_type": "display_data"
    },
    {
     "name": "stdout",
     "output_type": "stream",
     "text": [
      "Running Grid Network Regression: 100 nodes\n",
      "Running Random Network Regression: 200 nodes\n",
      "Running Grid Network Regression: 150 nodes\n"
     ]
    },
    {
     "name": "stderr",
     "output_type": "stream",
     "text": [
      "2020-05-22 13:32:17,842:INFO:First current path [0, 3, 8, 13, 18, 23, 28, 33, 38, 43, 48, 53, 58, 63, 68, 73, 78, 83, 88, 93, 98, 103, 108, 113, 118, 123, 128, 133, 138, 143, 147] formed at time = 0.76 s.\n"
     ]
    },
    {
     "name": "stdout",
     "output_type": "stream",
     "text": [
      "Running Random Network Regression: 300 nodes\n",
      "Running Grid Network Regression: 200 nodes\n"
     ]
    },
    {
     "data": {
      "application/vnd.jupyter.widget-view+json": {
       "model_id": "a2dbaf08808041798ddf4b6a0d030e86",
       "version_major": 2,
       "version_minor": 0
      },
      "text/plain": [
       "HBox(children=(IntProgress(value=0, description='Running Simulation ', max=500, style=ProgressStyle(descriptio…"
      ]
     },
     "metadata": {},
     "output_type": "display_data"
    },
    {
     "name": "stdout",
     "output_type": "stream",
     "text": [
      "Running Random Network Regression: 250 nodes\n"
     ]
    },
    {
     "name": "stderr",
     "output_type": "stream",
     "text": [
      "2020-05-22 13:32:18,070:INFO:First current path [0, 5, 249, 169, 296] formed at time = 0.76 s.\n"
     ]
    },
    {
     "name": "stdout",
     "output_type": "stream",
     "text": [
      "Running Random Network Regression: 50 nodes\n",
      "Running Random Network Regression: 100 nodes\n",
      "Running Random Network Regression: 150 nodes\n"
     ]
    },
    {
     "data": {
      "application/vnd.jupyter.widget-view+json": {
       "model_id": "521cd2cab35341d880397856778a22fb",
       "version_major": 2,
       "version_minor": 0
      },
      "text/plain": [
       "HBox(children=(IntProgress(value=0, description='Running Simulation ', max=500, style=ProgressStyle(descriptio…"
      ]
     },
     "metadata": {},
     "output_type": "display_data"
    },
    {
     "name": "stdout",
     "output_type": "stream",
     "text": [
      "Running Grid Network Regression: 250 nodes\n"
     ]
    },
    {
     "name": "stderr",
     "output_type": "stream",
     "text": [
      "2020-05-22 13:32:18,585:INFO:First current path [0, 3, 7, 11, 15, 19, 23, 27, 31, 35, 39, 43, 47, 51, 55, 59, 63, 67, 71, 75, 79, 83, 87, 91, 95, 99, 103, 107, 111, 115, 119, 123, 127, 131, 135, 139, 143, 146] formed at time = 0.75 s.\n"
     ]
    },
    {
     "name": "stdout",
     "output_type": "stream",
     "text": [
      "Running Random Network Regression: 200 nodes\n"
     ]
    },
    {
     "data": {
      "application/vnd.jupyter.widget-view+json": {
       "model_id": "972974bac41d4e72855887675703ab8a",
       "version_major": 2,
       "version_minor": 0
      },
      "text/plain": [
       "HBox(children=(IntProgress(value=0, description='Running Simulation ', max=500, style=ProgressStyle(descriptio…"
      ]
     },
     "metadata": {},
     "output_type": "display_data"
    },
    {
     "name": "stdout",
     "output_type": "stream",
     "text": [
      "Running Random Network Regression: 300 nodes\n",
      "Running Grid Network Regression: 50 nodes\n",
      "Running Grid Network Regression: 100 nodes\n",
      "Running Random Network Regression: 250 nodes\n"
     ]
    },
    {
     "name": "stderr",
     "output_type": "stream",
     "text": [
      "2020-05-22 13:32:19,269:INFO:First current path [0, 29, 18, 169, 105] formed at time = 0.76 s.\n"
     ]
    },
    {
     "name": "stdout",
     "output_type": "stream",
     "text": [
      "Running Random Network Regression: 50 nodes\n",
      "Running Random Network Regression: 100 nodes\n",
      "Running Grid Network Regression: 300 nodes\n",
      "Running Grid Network Regression: 150 nodes\n"
     ]
    },
    {
     "data": {
      "application/vnd.jupyter.widget-view+json": {
       "model_id": "e222b604a7c143239c3b109e21a07bcd",
       "version_major": 2,
       "version_minor": 0
      },
      "text/plain": [
       "HBox(children=(IntProgress(value=0, description='Running Simulation ', max=500, style=ProgressStyle(descriptio…"
      ]
     },
     "metadata": {},
     "output_type": "display_data"
    },
    {
     "name": "stderr",
     "output_type": "stream",
     "text": [
      "2020-05-22 13:32:19,475:INFO:First current path [0, 277, 274, 271, 268, 265, 262, 259, 256, 253, 250, 247, 244, 241, 238, 235, 232, 229, 226, 223, 220, 217, 214, 211, 208, 205, 202, 199, 196, 193, 190, 187, 184, 181, 178, 175, 172, 169, 166, 163, 160, 157, 154, 151, 148, 145, 142, 140] formed at time = 0.75 s.\n"
     ]
    },
    {
     "name": "stdout",
     "output_type": "stream",
     "text": [
      "Running Random Network Regression: 150 nodes\n"
     ]
    },
    {
     "data": {
      "application/vnd.jupyter.widget-view+json": {
       "model_id": "d6c59e5ea3534b05bd778473aeb11114",
       "version_major": 2,
       "version_minor": 0
      },
      "text/plain": [
       "HBox(children=(IntProgress(value=0, description='Running Simulation ', max=500, style=ProgressStyle(descriptio…"
      ]
     },
     "metadata": {},
     "output_type": "display_data"
    },
    {
     "name": "stdout",
     "output_type": "stream",
     "text": [
      "Running Grid Network Regression: 200 nodes\n",
      "Running Random Network Regression: 200 nodes\n",
      "Running Grid Network Regression: 50 nodes\n"
     ]
    },
    {
     "name": "stderr",
     "output_type": "stream",
     "text": [
      "2020-05-22 13:32:19,983:INFO:First current path [6, 11, 275, 112, 2, 230] formed at time = 0.76 s.\n"
     ]
    },
    {
     "name": "stdout",
     "output_type": "stream",
     "text": [
      "Running Random Network Regression: 50 nodes\n",
      "Running Grid Network Regression: 100 nodes\n",
      "Running Random Network Regression: 100 nodes\n",
      "Running Random Network Regression: 297 nodes\n",
      "Running Grid Network Regression: 150 nodes\n",
      "Running Random Network Regression: 150 nodes\n",
      "Running Grid Network Regression: 250 nodes\n",
      "Running Random Network Regression: 250 nodes\n"
     ]
    },
    {
     "name": "stderr",
     "output_type": "stream",
     "text": [
      "2020-05-22 13:32:20,545:INFO:First current path [0, 277, 274, 271, 268, 265, 262, 259, 256, 253, 250, 247, 244, 241, 238, 235, 232, 229, 226, 223, 220, 217, 214, 211, 208, 205, 202, 199, 196, 193, 190, 187, 184, 181, 178, 175, 172, 169, 166, 163, 160, 157, 154, 151, 148, 145, 142, 140] formed at time = 0.75 s.\n"
     ]
    },
    {
     "name": "stdout",
     "output_type": "stream",
     "text": [
      "Running Grid Network Regression: 200 nodes\n",
      "Running Random Network Regression: 200 nodes\n"
     ]
    },
    {
     "data": {
      "application/vnd.jupyter.widget-view+json": {
       "model_id": "e05ae09f08f3495e8b91198486849620",
       "version_major": 2,
       "version_minor": 0
      },
      "text/plain": [
       "HBox(children=(IntProgress(value=0, description='Running Simulation ', max=500, style=ProgressStyle(descriptio…"
      ]
     },
     "metadata": {},
     "output_type": "display_data"
    },
    {
     "name": "stderr",
     "output_type": "stream",
     "text": [
      "2020-05-22 13:32:20,719:INFO:First current path [1, 150, 84, 105, 212, 77] formed at time = 0.75 s.\n"
     ]
    },
    {
     "name": "stdout",
     "output_type": "stream",
     "text": [
      "Running Random Network Regression: 50 nodes\n",
      "Running Random Network Regression: 100 nodes\n",
      "Running Random Network Regression: 150 nodes\n"
     ]
    },
    {
     "data": {
      "application/vnd.jupyter.widget-view+json": {
       "model_id": "360a814a27ef4940aae7693095865383",
       "version_major": 2,
       "version_minor": 0
      },
      "text/plain": [
       "HBox(children=(IntProgress(value=0, description='Running Simulation ', max=500, style=ProgressStyle(descriptio…"
      ]
     },
     "metadata": {},
     "output_type": "display_data"
    },
    {
     "name": "stdout",
     "output_type": "stream",
     "text": [
      "Running Grid Network Regression: 300 nodes\n",
      "Running Grid Network Regression: 250 nodes\n",
      "Running Random Network Regression: 250 nodes\n",
      "Running Grid Network Regression: 50 nodes\n",
      "Running Grid Network Regression: 100 nodes\n",
      "Running Random Network Regression: 294 nodes\n",
      "Running Random Network Regression: 200 nodes\n",
      "Running Grid Network Regression: 150 nodes\n",
      "Running Grid Network Regression: 200 nodes\n"
     ]
    },
    {
     "name": "stderr",
     "output_type": "stream",
     "text": [
      "2020-05-22 13:32:21,799:INFO:First current path [1, 239, 79, 277, 31, 27] formed at time = 0.75 s.\n"
     ]
    },
    {
     "name": "stdout",
     "output_type": "stream",
     "text": [
      "Running Random Network Regression: 50 nodes\n",
      "Running Random Network Regression: 250 nodes\n",
      "Running Random Network Regression: 100 nodes\n",
      "Running Random Network Regression: 292 nodes\n",
      "Running Grid Network Regression: 300 nodes\n",
      "Running Random Network Regression: 150 nodes\n",
      "Running Grid Network Regression: 250 nodes\n",
      "Running Grid Network Regression: 50 nodes\n",
      "Running Random Network Regression: 200 nodes\n"
     ]
    },
    {
     "data": {
      "application/vnd.jupyter.widget-view+json": {
       "model_id": "01a3fe5154b144b3abd8a995d62e12bc",
       "version_major": 2,
       "version_minor": 0
      },
      "text/plain": [
       "HBox(children=(IntProgress(value=0, description='Running Simulation ', max=500, style=ProgressStyle(descriptio…"
      ]
     },
     "metadata": {},
     "output_type": "display_data"
    },
    {
     "name": "stdout",
     "output_type": "stream",
     "text": [
      "Running Grid Network Regression: 100 nodes\n"
     ]
    },
    {
     "name": "stderr",
     "output_type": "stream",
     "text": [
      "2020-05-22 13:32:22,487:INFO:First current path [0, 6, 17, 28, 39, 50, 61, 72, 83, 94, 105, 116, 127, 138, 145] formed at time = 0.76 s.\n"
     ]
    },
    {
     "name": "stdout",
     "output_type": "stream",
     "text": [
      "Running Grid Network Regression: 150 nodes\n",
      "Running Random Network Regression: 279 nodes\n"
     ]
    },
    {
     "data": {
      "application/vnd.jupyter.widget-view+json": {
       "model_id": "4d5ce2fe2770427ebe9e23e71ec7dec2",
       "version_major": 2,
       "version_minor": 0
      },
      "text/plain": [
       "HBox(children=(IntProgress(value=0, description='Running Simulation ', max=500, style=ProgressStyle(descriptio…"
      ]
     },
     "metadata": {},
     "output_type": "display_data"
    },
    {
     "name": "stdout",
     "output_type": "stream",
     "text": [
      "Running Grid Network Regression: 200 nodes\n",
      "Running Random Network Regression: 250 nodes\n",
      "Running Grid Network Regression: 50 nodes\n",
      "Running Grid Network Regression: 100 nodes\n",
      "Running Grid Network Regression: 297 nodes\n",
      "Running Grid Network Regression: 150 nodes\n",
      "Running Grid Network Regression: 250 nodes\n",
      "Running Grid Network Regression: 200 nodes\n",
      "Running Grid Network Regression: 50 nodes\n",
      "Running Grid Network Regression: 100 nodes\n",
      "Running Random Network Regression: 279 nodes\n"
     ]
    },
    {
     "name": "stderr",
     "output_type": "stream",
     "text": [
      "2020-05-22 13:32:23,877:INFO:First current path [0, 4, 11, 18, 25, 32, 39, 46, 53, 60, 67, 74, 81, 88, 95, 102, 109, 116, 123, 130, 137, 144, 149] formed at time = 0.76 s.\n"
     ]
    },
    {
     "name": "stdout",
     "output_type": "stream",
     "text": [
      "Running Grid Network Regression: 150 nodes\n"
     ]
    },
    {
     "data": {
      "application/vnd.jupyter.widget-view+json": {
       "model_id": "7d26651aed8443caad6690ffc87bd04f",
       "version_major": 2,
       "version_minor": 0
      },
      "text/plain": [
       "HBox(children=(IntProgress(value=0, description='Running Simulation ', max=500, style=ProgressStyle(descriptio…"
      ]
     },
     "metadata": {},
     "output_type": "display_data"
    },
    {
     "name": "stdout",
     "output_type": "stream",
     "text": [
      "Running Grid Network Regression: 250 nodes\n",
      "Running Grid Network Regression: 294 nodes\n"
     ]
    },
    {
     "name": "stderr",
     "output_type": "stream",
     "text": [
      "2020-05-22 13:32:24,292:INFO:First current path [0, 17, 154, 7] formed at time = 0.75 s.\n"
     ]
    },
    {
     "name": "stdout",
     "output_type": "stream",
     "text": [
      "Running Random Network Regression: 50 nodes\n",
      "Running Grid Network Regression: 200 nodes\n",
      "Running Random Network Regression: 100 nodes\n",
      "Running Random Network Regression: 150 nodes\n",
      "Running Grid Network Regression: 50 nodes\n",
      "Running Grid Network Regression: 250 nodes\n",
      "Running Grid Network Regression: 100 nodes\n",
      "Running Grid Network Regression: 292 nodes\n",
      "Running Random Network Regression: 200 nodes\n",
      "Running Grid Network Regression: 150 nodes\n",
      "Running Grid Network Regression: 200 nodes\n",
      "Running Random Network Regression: 250 nodes\n"
     ]
    },
    {
     "name": "stderr",
     "output_type": "stream",
     "text": [
      "2020-05-22 13:32:25,456:INFO:First current path [24, 153, 44, 296, 135] formed at time = 0.77 s.\n"
     ]
    },
    {
     "name": "stdout",
     "output_type": "stream",
     "text": [
      "Running Random Network Regression: 50 nodes\n",
      "Running Random Network Regression: 100 nodes\n",
      "Running Grid Network Regression: 279 nodes\n",
      "Running Random Network Regression: 150 nodes\n",
      "Running Grid Network Regression: 250 nodes\n"
     ]
    },
    {
     "data": {
      "application/vnd.jupyter.widget-view+json": {
       "model_id": "7a55ee8d36194352909a6f1d63dab825",
       "version_major": 2,
       "version_minor": 0
      },
      "text/plain": [
       "HBox(children=(IntProgress(value=0, description='Running Simulation ', max=500, style=ProgressStyle(descriptio…"
      ]
     },
     "metadata": {},
     "output_type": "display_data"
    },
    {
     "name": "stdout",
     "output_type": "stream",
     "text": [
      "Running Random Network Regression: 200 nodes\n",
      "Running Random Network Regression: 300 nodes\n"
     ]
    },
    {
     "data": {
      "application/vnd.jupyter.widget-view+json": {
       "model_id": "076e9543764a4438b338bb7c3f4d65f4",
       "version_major": 2,
       "version_minor": 0
      },
      "text/plain": [
       "HBox(children=(IntProgress(value=0, description='Running Simulation ', max=500, style=ProgressStyle(descriptio…"
      ]
     },
     "metadata": {},
     "output_type": "display_data"
    },
    {
     "data": {
      "application/vnd.jupyter.widget-view+json": {
       "model_id": "bc69aa9be18e4d50bd7f99319caaf845",
       "version_major": 2,
       "version_minor": 0
      },
      "text/plain": [
       "HBox(children=(IntProgress(value=0, description='Running Simulation ', max=500, style=ProgressStyle(descriptio…"
      ]
     },
     "metadata": {},
     "output_type": "display_data"
    },
    {
     "name": "stdout",
     "output_type": "stream",
     "text": [
      "Running Grid Network Regression: 279 nodes\n",
      "Running Random Network Regression: 250 nodes\n"
     ]
    },
    {
     "name": "stderr",
     "output_type": "stream",
     "text": [
      "2020-05-22 13:32:27,188:INFO:First current path [0, 288, 280, 272, 264, 256, 248, 240, 232, 224, 216, 208, 200, 192, 184, 176, 168, 160, 152, 146] formed at time = 0.75 s.\n"
     ]
    },
    {
     "data": {
      "application/vnd.jupyter.widget-view+json": {
       "model_id": "7ae79f0d4d8b494287c1ecb5d54b65bd",
       "version_major": 2,
       "version_minor": 0
      },
      "text/plain": [
       "HBox(children=(IntProgress(value=0, description='Running Simulation ', max=500, style=ProgressStyle(descriptio…"
      ]
     },
     "metadata": {},
     "output_type": "display_data"
    },
    {
     "name": "stdout",
     "output_type": "stream",
     "text": [
      "Running Grid Network Regression: 50 nodes\n",
      "Running Grid Network Regression: 100 nodes\n"
     ]
    },
    {
     "name": "stderr",
     "output_type": "stream",
     "text": [
      "2020-05-22 13:32:27,515:INFO:First current path [0, 4, 10, 16, 22, 28, 34, 40, 46, 52, 58, 64, 70, 76, 82, 88, 94, 100, 106, 112, 118, 124, 130, 136, 142, 146] formed at time = 0.75 s.\n"
     ]
    },
    {
     "name": "stdout",
     "output_type": "stream",
     "text": [
      "Running Random Network Regression: 297 nodes\n"
     ]
    },
    {
     "data": {
      "application/vnd.jupyter.widget-view+json": {
       "model_id": "c6606199ccfa46dd9c545a0166b07e21",
       "version_major": 2,
       "version_minor": 0
      },
      "text/plain": [
       "HBox(children=(IntProgress(value=0, description='Running Simulation ', max=500, style=ProgressStyle(descriptio…"
      ]
     },
     "metadata": {},
     "output_type": "display_data"
    },
    {
     "name": "stdout",
     "output_type": "stream",
     "text": [
      "Running Grid Network Regression: 150 nodes\n"
     ]
    },
    {
     "name": "stderr",
     "output_type": "stream",
     "text": [
      "2020-05-22 13:32:27,899:INFO:First current path [0, 5, 13, 21, 29, 37, 45, 53, 61, 69, 77, 85, 93, 101, 109, 117, 125, 133, 141, 146] formed at time = 0.76 s.\n"
     ]
    },
    {
     "name": "stdout",
     "output_type": "stream",
     "text": [
      "Running Grid Network Regression: 200 nodes\n"
     ]
    },
    {
     "data": {
      "application/vnd.jupyter.widget-view+json": {
       "model_id": "54125c891694411d8d77632f333dc449",
       "version_major": 2,
       "version_minor": 0
      },
      "text/plain": [
       "HBox(children=(IntProgress(value=0, description='Running Simulation ', max=500, style=ProgressStyle(descriptio…"
      ]
     },
     "metadata": {},
     "output_type": "display_data"
    },
    {
     "data": {
      "application/vnd.jupyter.widget-view+json": {
       "model_id": "8542a05e4117468b93c36fb883a83b4b",
       "version_major": 2,
       "version_minor": 0
      },
      "text/plain": [
       "HBox(children=(IntProgress(value=0, description='Running Simulation ', max=500, style=ProgressStyle(descriptio…"
      ]
     },
     "metadata": {},
     "output_type": "display_data"
    },
    {
     "name": "stdout",
     "output_type": "stream",
     "text": [
      "Running Grid Network Regression: 250 nodes\n"
     ]
    },
    {
     "name": "stderr",
     "output_type": "stream",
     "text": [
      "2020-05-22 13:32:28,673:INFO:First current path [0, 31, 7, 2] formed at time = 0.75 s.\n"
     ]
    },
    {
     "name": "stdout",
     "output_type": "stream",
     "text": [
      "Running Random Network Regression: 50 nodes\n",
      "Running Random Network Regression: 100 nodes\n",
      "Running Grid Network Regression: 50 nodes\n",
      "Running Random Network Regression: 150 nodes\n",
      "Running Grid Network Regression: 100 nodes\n"
     ]
    },
    {
     "name": "stderr",
     "output_type": "stream",
     "text": [
      "2020-05-22 13:32:28,969:INFO:First current path [1, 75, 249, 275, 262] formed at time = 0.76 s.\n"
     ]
    },
    {
     "name": "stdout",
     "output_type": "stream",
     "text": [
      "Running Random Network Regression: 50 nodes\n",
      "Running Random Network Regression: 100 nodes\n",
      "Running Grid Network Regression: 150 nodes\n",
      "Running Random Network Regression: 150 nodes\n",
      "Running Random Network Regression: 200 nodes\n",
      "Running Grid Network Regression: 300 nodes\n",
      "Running Grid Network Regression: 200 nodes\n"
     ]
    },
    {
     "name": "stderr",
     "output_type": "stream",
     "text": [
      "2020-05-22 13:32:29,558:INFO:First current path [244, 55, 192, 160, 96] formed at time = 0.78 s.\n"
     ]
    },
    {
     "name": "stdout",
     "output_type": "stream",
     "text": [
      "Running Random Network Regression: 50 nodes\n",
      "Running Random Network Regression: 200 nodes\n",
      "Running Random Network Regression: 100 nodes\n",
      "Running Random Network Regression: 150 nodes\n",
      "Running Random Network Regression: 250 nodes\n"
     ]
    },
    {
     "name": "stderr",
     "output_type": "stream",
     "text": [
      "2020-05-22 13:32:29,858:INFO:First current path [0, 4, 11, 18, 25, 32, 39, 46, 53, 60, 67, 74, 81, 88, 95, 102, 109, 116, 123, 130, 137, 144, 149] formed at time = 0.76 s.\n"
     ]
    },
    {
     "data": {
      "application/vnd.jupyter.widget-view+json": {
       "model_id": "719df3188eec431a86b03716d8f6f918",
       "version_major": 2,
       "version_minor": 0
      },
      "text/plain": [
       "HBox(children=(IntProgress(value=0, description='Running Simulation ', max=500, style=ProgressStyle(descriptio…"
      ]
     },
     "metadata": {},
     "output_type": "display_data"
    },
    {
     "name": "stdout",
     "output_type": "stream",
     "text": [
      "Running Grid Network Regression: 250 nodes\n",
      "Running Random Network Regression: 250 nodes\n",
      "Running Random Network Regression: 200 nodes\n",
      "Running Random Network Regression: 294 nodes\n",
      "Running Random Network Regression: 250 nodes\n",
      "Running Grid Network Regression: 297 nodes\n"
     ]
    },
    {
     "data": {
      "application/vnd.jupyter.widget-view+json": {
       "model_id": "ed6ff670ca3b460396f9b1bf857b0b67",
       "version_major": 2,
       "version_minor": 0
      },
      "text/plain": [
       "HBox(children=(IntProgress(value=0, description='Running Simulation ', max=500, style=ProgressStyle(descriptio…"
      ]
     },
     "metadata": {},
     "output_type": "display_data"
    },
    {
     "name": "stdout",
     "output_type": "stream",
     "text": [
      "Running Random Network Regression: 296 nodes\n"
     ]
    },
    {
     "name": "stderr",
     "output_type": "stream",
     "text": [
      "2020-05-22 13:32:31,431:INFO:First current path [5, 66, 139, 185, 237] formed at time = 0.76 s.\n"
     ]
    },
    {
     "name": "stdout",
     "output_type": "stream",
     "text": [
      "Running Random Network Regression: 50 nodes\n",
      "Running Random Network Regression: 100 nodes\n",
      "Running Random Network Regression: 299 nodes\n",
      "Running Random Network Regression: 150 nodes\n",
      "Running Grid Network Regression: 50 nodes\n",
      "Running Grid Network Regression: 100 nodes\n"
     ]
    },
    {
     "data": {
      "application/vnd.jupyter.widget-view+json": {
       "model_id": "40afe419887647dcbe5e6e90d5d30d51",
       "version_major": 2,
       "version_minor": 0
      },
      "text/plain": [
       "HBox(children=(IntProgress(value=0, description='Running Simulation ', max=500, style=ProgressStyle(descriptio…"
      ]
     },
     "metadata": {},
     "output_type": "display_data"
    },
    {
     "name": "stdout",
     "output_type": "stream",
     "text": [
      "Running Grid Network Regression: 150 nodes\n",
      "Running Random Network Regression: 200 nodes\n"
     ]
    },
    {
     "data": {
      "application/vnd.jupyter.widget-view+json": {
       "model_id": "42ed67c789424571a2b64a306531019d",
       "version_major": 2,
       "version_minor": 0
      },
      "text/plain": [
       "HBox(children=(IntProgress(value=0, description='Running Simulation ', max=500, style=ProgressStyle(descriptio…"
      ]
     },
     "metadata": {},
     "output_type": "display_data"
    },
    {
     "name": "stdout",
     "output_type": "stream",
     "text": [
      "Running Grid Network Regression: 50 nodes\n",
      "Running Grid Network Regression: 100 nodes\n"
     ]
    },
    {
     "name": "stderr",
     "output_type": "stream",
     "text": [
      "2020-05-22 13:32:32,254:INFO:First current path [0, 3, 8, 13, 18, 23, 28, 33, 38, 43, 48, 53, 58, 63, 68, 73, 78, 83, 88, 93, 98, 103, 108, 113, 118, 123, 128, 133, 137] formed at time = 0.76 s.\n"
     ]
    },
    {
     "name": "stdout",
     "output_type": "stream",
     "text": [
      "Running Grid Network Regression: 200 nodes\n"
     ]
    },
    {
     "data": {
      "application/vnd.jupyter.widget-view+json": {
       "model_id": "2351b8101a5b49ec8bd4eb4d1ba713e6",
       "version_major": 2,
       "version_minor": 0
      },
      "text/plain": [
       "HBox(children=(IntProgress(value=0, description='Running Simulation ', max=500, style=ProgressStyle(descriptio…"
      ]
     },
     "metadata": {},
     "output_type": "display_data"
    },
    {
     "name": "stdout",
     "output_type": "stream",
     "text": [
      "Running Grid Network Regression: 150 nodes\n",
      "Running Random Network Regression: 250 nodes\n",
      "Running Grid Network Regression: 200 nodes\n"
     ]
    },
    {
     "data": {
      "application/vnd.jupyter.widget-view+json": {
       "model_id": "200d69aa8539458d822c9d65362a8cc9",
       "version_major": 2,
       "version_minor": 0
      },
      "text/plain": [
       "HBox(children=(IntProgress(value=0, description='Running Simulation ', max=500, style=ProgressStyle(descriptio…"
      ]
     },
     "metadata": {},
     "output_type": "display_data"
    },
    {
     "name": "stdout",
     "output_type": "stream",
     "text": [
      "Running Grid Network Regression: 50 nodes\n",
      "Running Grid Network Regression: 250 nodes\n",
      "Running Grid Network Regression: 100 nodes\n",
      "Running Grid Network Regression: 150 nodes\n"
     ]
    },
    {
     "name": "stderr",
     "output_type": "stream",
     "text": [
      "2020-05-22 13:32:33,158:INFO:First current path [0, 3, 7, 11, 15, 19, 23, 27, 31, 35, 39, 43, 47, 51, 55, 59, 63, 67, 71, 75, 79, 83, 87, 91, 95, 99, 103, 107, 111, 115, 119, 123, 127, 131, 135, 138] formed at time = 0.75 s.\n"
     ]
    },
    {
     "name": "stdout",
     "output_type": "stream",
     "text": [
      "Running Grid Network Regression: 250 nodes\n"
     ]
    },
    {
     "data": {
      "application/vnd.jupyter.widget-view+json": {
       "model_id": "726f61dbbbc342ec867646cc28a7b43b",
       "version_major": 2,
       "version_minor": 0
      },
      "text/plain": [
       "HBox(children=(IntProgress(value=0, description='Running Simulation ', max=500, style=ProgressStyle(descriptio…"
      ]
     },
     "metadata": {},
     "output_type": "display_data"
    },
    {
     "name": "stderr",
     "output_type": "stream",
     "text": [
      "2020-05-22 13:32:33,302:INFO:First current path [0, 3, 8, 13, 18, 23, 28, 33, 38, 43, 48, 53, 58, 63, 68, 73, 78, 83, 88, 93, 98, 103, 108, 113, 118, 123, 128, 133, 137] formed at time = 0.76 s.\n"
     ]
    },
    {
     "name": "stdout",
     "output_type": "stream",
     "text": [
      "Running Grid Network Regression: 200 nodes\n"
     ]
    },
    {
     "data": {
      "application/vnd.jupyter.widget-view+json": {
       "model_id": "e76f04fdb0e94b4bb29fccd5ff91cc0a",
       "version_major": 2,
       "version_minor": 0
      },
      "text/plain": [
       "HBox(children=(IntProgress(value=0, description='Running Simulation ', max=500, style=ProgressStyle(descriptio…"
      ]
     },
     "metadata": {},
     "output_type": "display_data"
    },
    {
     "name": "stdout",
     "output_type": "stream",
     "text": [
      "Running Random Network Regression: 297 nodes\n"
     ]
    },
    {
     "name": "stderr",
     "output_type": "stream",
     "text": [
      "2020-05-22 13:32:33,603:INFO:First current path [0, 17, 267, 142, 50] formed at time = 0.76 s.\n"
     ]
    },
    {
     "name": "stdout",
     "output_type": "stream",
     "text": [
      "Running Random Network Regression: 50 nodes\n",
      "Running Grid Network Regression: 294 nodes\n",
      "Running Random Network Regression: 100 nodes\n",
      "Running Random Network Regression: 150 nodes\n",
      "Running Grid Network Regression: 250 nodes\n",
      "Running Grid Network Regression: 296 nodes\n"
     ]
    },
    {
     "name": "stderr",
     "output_type": "stream",
     "text": [
      "2020-05-22 13:32:34,172:INFO:First current path [0, 6, 16, 26, 36, 46, 56, 66, 76, 86, 96, 106, 116, 126, 136, 142] formed at time = 0.76 s.\n"
     ]
    },
    {
     "name": "stdout",
     "output_type": "stream",
     "text": [
      "Running Random Network Regression: 200 nodes\n"
     ]
    },
    {
     "data": {
      "application/vnd.jupyter.widget-view+json": {
       "model_id": "0d2f768a257a4b288d9056440a85093e",
       "version_major": 2,
       "version_minor": 0
      },
      "text/plain": [
       "HBox(children=(IntProgress(value=0, description='Running Simulation ', max=500, style=ProgressStyle(descriptio…"
      ]
     },
     "metadata": {},
     "output_type": "display_data"
    },
    {
     "data": {
      "application/vnd.jupyter.widget-view+json": {
       "model_id": "0882dfe95e684eda93bae760f0959104",
       "version_major": 2,
       "version_minor": 0
      },
      "text/plain": [
       "HBox(children=(IntProgress(value=0, description='Running Simulation ', max=500, style=ProgressStyle(descriptio…"
      ]
     },
     "metadata": {},
     "output_type": "display_data"
    },
    {
     "name": "stderr",
     "output_type": "stream",
     "text": [
      "2020-05-22 13:32:34,475:INFO:First current path [79, 23, 161, 198, 230, 54] formed at time = 0.77 s.\n"
     ]
    },
    {
     "name": "stdout",
     "output_type": "stream",
     "text": [
      "Running Random Network Regression: 50 nodes\n",
      "Running Random Network Regression: 100 nodes\n"
     ]
    },
    {
     "name": "stderr",
     "output_type": "stream",
     "text": [
      "2020-05-22 13:32:34,606:INFO:First current path [0, 196, 23, 98, 92] formed at time = 0.75 s.\n"
     ]
    },
    {
     "name": "stdout",
     "output_type": "stream",
     "text": [
      "Running Random Network Regression: 50 nodes\n",
      "Running Grid Network Regression: 50 nodes\n",
      "Running Random Network Regression: 100 nodes\n",
      "Running Random Network Regression: 250 nodes\n",
      "Running Grid Network Regression: 100 nodes\n",
      "Running Random Network Regression: 150 nodes\n",
      "Running Grid Network Regression: 299 nodes\n",
      "Running Random Network Regression: 150 nodes\n",
      "Running Grid Network Regression: 150 nodes\n",
      "Running Random Network Regression: 200 nodes\n",
      "Running Random Network Regression: 200 nodes\n",
      "Running Grid Network Regression: 200 nodes\n",
      "Running Random Network Regression: 281 nodes\n",
      "Running Random Network Regression: 250 nodes\n",
      "Running Random Network Regression: 250 nodes\n"
     ]
    },
    {
     "name": "stderr",
     "output_type": "stream",
     "text": [
      "2020-05-22 13:32:35,785:INFO:First current path [0, 289, 280, 271, 262, 253, 244, 235, 226, 217, 208, 199, 190, 181, 172, 163, 154, 146] formed at time = 0.75 s.\n",
      "2020-05-22 13:32:35,804:INFO:First current path [0, 45, 206, 14] formed at time = 0.75 s.\n"
     ]
    },
    {
     "name": "stdout",
     "output_type": "stream",
     "text": [
      "Running Random Network Regression: 50 nodes\n",
      "Running Grid Network Regression: 250 nodes\n"
     ]
    },
    {
     "data": {
      "application/vnd.jupyter.widget-view+json": {
       "model_id": "f53a2a46537d4295bc6e96b1da7870ce",
       "version_major": 2,
       "version_minor": 0
      },
      "text/plain": [
       "HBox(children=(IntProgress(value=0, description='Running Simulation ', max=500, style=ProgressStyle(descriptio…"
      ]
     },
     "metadata": {},
     "output_type": "display_data"
    },
    {
     "name": "stdout",
     "output_type": "stream",
     "text": [
      "Running Random Network Regression: 100 nodes\n"
     ]
    },
    {
     "data": {
      "application/vnd.jupyter.widget-view+json": {
       "model_id": "66d8d905e1d14ed58e761924bea49edd",
       "version_major": 2,
       "version_minor": 0
      },
      "text/plain": [
       "HBox(children=(IntProgress(value=0, description='Running Simulation ', max=500, style=ProgressStyle(descriptio…"
      ]
     },
     "metadata": {},
     "output_type": "display_data"
    },
    {
     "name": "stdout",
     "output_type": "stream",
     "text": [
      "Running Random Network Regression: 150 nodes\n",
      "Running Random Network Regression: 200 nodes\n",
      "Running Grid Network Regression: 50 nodes\n",
      "Running Random Network Regression: 281 nodes\n",
      "Running Random Network Regression: 279 nodes\n",
      "Running Grid Network Regression: 100 nodes\n",
      "Running Grid Network Regression: 297 nodes\n",
      "Running Grid Network Regression: 150 nodes\n",
      "Running Random Network Regression: 250 nodes\n",
      "Running Grid Network Regression: 200 nodes\n"
     ]
    },
    {
     "name": "stderr",
     "output_type": "stream",
     "text": [
      "2020-05-22 13:32:37,109:INFO:First current path [0, 4, 10, 16, 22, 28, 34, 40, 46, 52, 58, 64, 70, 76, 82, 88, 94, 100, 106, 112, 118, 124, 130, 136, 140] formed at time = 0.75 s.\n"
     ]
    },
    {
     "data": {
      "application/vnd.jupyter.widget-view+json": {
       "model_id": "5ef4ba27799d46c9aeeed92290266250",
       "version_major": 2,
       "version_minor": 0
      },
      "text/plain": [
       "HBox(children=(IntProgress(value=0, description='Running Simulation ', max=500, style=ProgressStyle(descriptio…"
      ]
     },
     "metadata": {},
     "output_type": "display_data"
    },
    {
     "data": {
      "application/vnd.jupyter.widget-view+json": {
       "model_id": "3708c2f4242742b2be44a88525b0c587",
       "version_major": 2,
       "version_minor": 0
      },
      "text/plain": [
       "HBox(children=(IntProgress(value=0, description='Running Simulation ', max=500, style=ProgressStyle(descriptio…"
      ]
     },
     "metadata": {},
     "output_type": "display_data"
    },
    {
     "name": "stderr",
     "output_type": "stream",
     "text": [
      "2020-05-22 13:32:37,390:INFO:First current path [0, 98, 174, 10] formed at time = 0.75 s.\n"
     ]
    },
    {
     "name": "stdout",
     "output_type": "stream",
     "text": [
      "Running Random Network Regression: 50 nodes\n",
      "Running Random Network Regression: 100 nodes\n",
      "Running Grid Network Regression: 50 nodes\n",
      "Running Grid Network Regression: 50 nodes\n",
      "Running Grid Network Regression: 100 nodes\n",
      "Running Grid Network Regression: 100 nodes\n",
      "Running Grid Network Regression: 250 nodes\n",
      "Running Random Network Regression: 150 nodes\n",
      "Running Grid Network Regression: 150 nodes\n",
      "Running Grid Network Regression: 150 nodes\n",
      "Running Random Network Regression: 300 nodes\n",
      "Running Random Network Regression: 200 nodes\n",
      "Running Grid Network Regression: 200 nodes\n",
      "Running Grid Network Regression: 200 nodes\n",
      "Running Grid Network Regression: 281 nodes\n"
     ]
    },
    {
     "name": "stderr",
     "output_type": "stream",
     "text": [
      "2020-05-22 13:32:38,523:INFO:First current path [0, 4, 10, 16, 22, 28, 34, 40, 46, 52, 58, 64, 70, 76, 82, 88, 94, 100, 106, 112, 118, 124, 130, 136, 140] formed at time = 0.75 s.\n"
     ]
    },
    {
     "name": "stdout",
     "output_type": "stream",
     "text": [
      "Running Random Network Regression: 250 nodes\n"
     ]
    },
    {
     "name": "stderr",
     "output_type": "stream",
     "text": [
      "2020-05-22 13:32:38,630:INFO:First current path [2, 9, 119, 40, 189] formed at time = 0.76 s.\n"
     ]
    },
    {
     "name": "stdout",
     "output_type": "stream",
     "text": [
      "Running Random Network Regression: 50 nodes\n",
      "Running Grid Network Regression: 250 nodes\n",
      "Running Grid Network Regression: 250 nodes\n"
     ]
    },
    {
     "data": {
      "application/vnd.jupyter.widget-view+json": {
       "model_id": "525e82ab10e0473997be73c697f59467",
       "version_major": 2,
       "version_minor": 0
      },
      "text/plain": [
       "HBox(children=(IntProgress(value=0, description='Running Simulation ', max=500, style=ProgressStyle(descriptio…"
      ]
     },
     "metadata": {},
     "output_type": "display_data"
    },
    {
     "name": "stdout",
     "output_type": "stream",
     "text": [
      "Running Random Network Regression: 100 nodes\n",
      "Running Random Network Regression: 150 nodes\n",
      "Running Grid Network Regression: 50 nodes\n",
      "Running Grid Network Regression: 100 nodes\n",
      "Running Random Network Regression: 200 nodes\n",
      "Running Random Network Regression: 297 nodes\n",
      "Running Grid Network Regression: 150 nodes\n",
      "Running Grid Network Regression: 279 nodes\n",
      "Running Grid Network Regression: 281 nodes\n",
      "Running Grid Network Regression: 200 nodes\n",
      "Running Random Network Regression: 250 nodes\n"
     ]
    },
    {
     "name": "stderr",
     "output_type": "stream",
     "text": [
      "2020-05-22 13:32:40,022:INFO:First current path [2, 13, 204, 19, 30] formed at time = 0.76 s.\n"
     ]
    },
    {
     "name": "stdout",
     "output_type": "stream",
     "text": [
      "Running Random Network Regression: 50 nodes\n",
      "Running Random Network Regression: 100 nodes\n",
      "Running Random Network Regression: 150 nodes\n",
      "Running Grid Network Regression: 250 nodes\n",
      "Running Grid Network Regression: 50 nodes\n",
      "Running Grid Network Regression: 100 nodes\n"
     ]
    },
    {
     "data": {
      "application/vnd.jupyter.widget-view+json": {
       "model_id": "07e38d2bd9cd4aa6ab62c4a5b7cb9167",
       "version_major": 2,
       "version_minor": 0
      },
      "text/plain": [
       "HBox(children=(IntProgress(value=0, description='Running Simulation ', max=500, style=ProgressStyle(descriptio…"
      ]
     },
     "metadata": {},
     "output_type": "display_data"
    },
    {
     "name": "stdout",
     "output_type": "stream",
     "text": [
      "Running Random Network Regression: 200 nodes\n",
      "Running Grid Network Regression: 150 nodes\n",
      "Running Random Network Regression: 285 nodes\n",
      "Running Grid Network Regression: 200 nodes\n",
      "Running Grid Network Regression: 300 nodes\n"
     ]
    },
    {
     "data": {
      "application/vnd.jupyter.widget-view+json": {
       "model_id": "8d095c8f0b5d482483bf589939cb95fd",
       "version_major": 2,
       "version_minor": 0
      },
      "text/plain": [
       "HBox(children=(IntProgress(value=0, description='Running Simulation ', max=500, style=ProgressStyle(descriptio…"
      ]
     },
     "metadata": {},
     "output_type": "display_data"
    },
    {
     "name": "stdout",
     "output_type": "stream",
     "text": [
      "Running Random Network Regression: 250 nodes\n",
      "Running Grid Network Regression: 250 nodes\n",
      "Running Grid Network Regression: 50 nodes\n",
      "Running Grid Network Regression: 100 nodes\n"
     ]
    },
    {
     "name": "stderr",
     "output_type": "stream",
     "text": [
      "2020-05-22 13:32:41,982:INFO:First current path [0, 6, 18, 30, 42, 54, 66, 78, 90, 102, 114, 126, 138, 146] formed at time = 0.76 s.\n"
     ]
    },
    {
     "name": "stdout",
     "output_type": "stream",
     "text": [
      "Running Random Network Regression: 289 nodes\n",
      "Running Grid Network Regression: 150 nodes\n"
     ]
    },
    {
     "data": {
      "application/vnd.jupyter.widget-view+json": {
       "model_id": "3b135e2f2a4449ccbb54a8c807c6701c",
       "version_major": 2,
       "version_minor": 0
      },
      "text/plain": [
       "HBox(children=(IntProgress(value=0, description='Running Simulation ', max=500, style=ProgressStyle(descriptio…"
      ]
     },
     "metadata": {},
     "output_type": "display_data"
    },
    {
     "data": {
      "application/vnd.jupyter.widget-view+json": {
       "model_id": "987755251a634d88af843cbf5d77e3e6",
       "version_major": 2,
       "version_minor": 0
      },
      "text/plain": [
       "HBox(children=(IntProgress(value=0, description='Running Simulation ', max=500, style=ProgressStyle(descriptio…"
      ]
     },
     "metadata": {},
     "output_type": "display_data"
    },
    {
     "name": "stdout",
     "output_type": "stream",
     "text": [
      "Running Grid Network Regression: 297 nodes\n",
      "Running Grid Network Regression: 200 nodes\n"
     ]
    },
    {
     "name": "stderr",
     "output_type": "stream",
     "text": [
      "2020-05-22 13:32:42,418:INFO:First current path [0, 281, 274, 267, 260, 253, 246, 239, 232, 225, 218, 211, 204, 197, 190, 183, 176, 169, 162, 155, 148, 142] formed at time = 0.75 s.\n"
     ]
    },
    {
     "data": {
      "application/vnd.jupyter.widget-view+json": {
       "model_id": "84a0593b327a47d2be811cb75cb8ee88",
       "version_major": 2,
       "version_minor": 0
      },
      "text/plain": [
       "HBox(children=(IntProgress(value=0, description='Running Simulation ', max=500, style=ProgressStyle(descriptio…"
      ]
     },
     "metadata": {},
     "output_type": "display_data"
    },
    {
     "name": "stdout",
     "output_type": "stream",
     "text": [
      "Running Grid Network Regression: 250 nodes\n",
      "Running Grid Network Regression: 50 nodes\n",
      "Running Grid Network Regression: 100 nodes\n",
      "Running Grid Network Regression: 150 nodes\n"
     ]
    },
    {
     "name": "stderr",
     "output_type": "stream",
     "text": [
      "2020-05-22 13:32:43,368:INFO:First current path [0, 4, 11, 18, 25, 32, 39, 46, 53, 60, 67, 74, 81, 88, 95, 102, 109, 116, 123, 130, 137, 142] formed at time = 0.76 s.\n"
     ]
    },
    {
     "data": {
      "application/vnd.jupyter.widget-view+json": {
       "model_id": "5b6de3987ddc4762bad6110de3dcb156",
       "version_major": 2,
       "version_minor": 0
      },
      "text/plain": [
       "HBox(children=(IntProgress(value=0, description='Running Simulation ', max=500, style=ProgressStyle(descriptio…"
      ]
     },
     "metadata": {},
     "output_type": "display_data"
    },
    {
     "data": {
      "application/vnd.jupyter.widget-view+json": {
       "model_id": "80b4f7b11fe640a788ce50053751033d",
       "version_major": 2,
       "version_minor": 0
      },
      "text/plain": [
       "HBox(children=(IntProgress(value=0, description='Running Simulation ', max=500, style=ProgressStyle(descriptio…"
      ]
     },
     "metadata": {},
     "output_type": "display_data"
    },
    {
     "name": "stderr",
     "output_type": "stream",
     "text": [
      "2020-05-22 13:32:43,608:INFO:First current path [0, 35, 257, 32] formed at time = 0.75 s.\n"
     ]
    },
    {
     "name": "stdout",
     "output_type": "stream",
     "text": [
      "Running Random Network Regression: 50 nodes\n",
      "Running Grid Network Regression: 200 nodes\n",
      "Running Random Network Regression: 100 nodes\n",
      "Running Grid Network Regression: 285 nodes\n",
      "Running Random Network Regression: 150 nodes\n"
     ]
    },
    {
     "name": "stderr",
     "output_type": "stream",
     "text": [
      "2020-05-22 13:32:43,871:INFO:First current path [7, 72, 60, 258, 29] formed at time = 0.77 s.\n"
     ]
    },
    {
     "name": "stdout",
     "output_type": "stream",
     "text": [
      "Running Random Network Regression: 50 nodes\n",
      "Running Random Network Regression: 100 nodes\n",
      "Running Random Network Regression: 150 nodes\n",
      "Running Grid Network Regression: 250 nodes\n",
      "Running Random Network Regression: 200 nodes\n"
     ]
    },
    {
     "data": {
      "application/vnd.jupyter.widget-view+json": {
       "model_id": "c2a93620df434a3e809433f999b115b4",
       "version_major": 2,
       "version_minor": 0
      },
      "text/plain": [
       "HBox(children=(IntProgress(value=0, description='Running Simulation ', max=500, style=ProgressStyle(descriptio…"
      ]
     },
     "metadata": {},
     "output_type": "display_data"
    },
    {
     "name": "stdout",
     "output_type": "stream",
     "text": [
      "Running Random Network Regression: 200 nodes\n"
     ]
    },
    {
     "name": "stderr",
     "output_type": "stream",
     "text": [
      "2020-05-22 13:32:44,757:INFO:First current path [0, 4, 10, 16, 22, 28, 34, 40, 46, 52, 58, 64, 70, 76, 82, 88, 94, 100, 106, 112, 118, 124, 130, 136, 140] formed at time = 0.75 s.\n"
     ]
    },
    {
     "name": "stdout",
     "output_type": "stream",
     "text": [
      "Running Random Network Regression: 250 nodes\n"
     ]
    },
    {
     "name": "stderr",
     "output_type": "stream",
     "text": [
      "2020-05-22 13:32:44,805:INFO:First current path [17, 132, 234, 115, 214] formed at time = 0.76 s.\n"
     ]
    },
    {
     "name": "stdout",
     "output_type": "stream",
     "text": [
      "Running Random Network Regression: 50 nodes\n",
      "Running Random Network Regression: 100 nodes\n"
     ]
    },
    {
     "data": {
      "application/vnd.jupyter.widget-view+json": {
       "model_id": "c0853967dd4d4b5a85d3f6a70ec30204",
       "version_major": 2,
       "version_minor": 0
      },
      "text/plain": [
       "HBox(children=(IntProgress(value=0, description='Running Simulation ', max=500, style=ProgressStyle(descriptio…"
      ]
     },
     "metadata": {},
     "output_type": "display_data"
    },
    {
     "name": "stdout",
     "output_type": "stream",
     "text": [
      "Running Grid Network Regression: 289 nodes\n",
      "Running Random Network Regression: 150 nodes\n",
      "Running Random Network Regression: 250 nodes\n",
      "Running Random Network Regression: 200 nodes\n",
      "Running Random Network Regression: 293 nodes\n"
     ]
    },
    {
     "name": "stderr",
     "output_type": "stream",
     "text": [
      "2020-05-22 13:32:45,649:INFO:First current path [0, 3, 7, 11, 15, 19, 23, 27, 31, 35, 39, 43, 47, 51, 55, 59, 63, 67, 71, 75, 79, 83, 87, 91, 95, 99, 103, 107, 111, 115, 119, 123, 127, 131, 135, 139, 142] formed at time = 0.75 s.\n"
     ]
    },
    {
     "data": {
      "application/vnd.jupyter.widget-view+json": {
       "model_id": "cfcbd46b646e4acdad09a4b7753c982b",
       "version_major": 2,
       "version_minor": 0
      },
      "text/plain": [
       "HBox(children=(IntProgress(value=0, description='Running Simulation ', max=500, style=ProgressStyle(descriptio…"
      ]
     },
     "metadata": {},
     "output_type": "display_data"
    },
    {
     "name": "stdout",
     "output_type": "stream",
     "text": [
      "Running Random Network Regression: 287 nodes\n",
      "Running Random Network Regression: 250 nodes\n"
     ]
    },
    {
     "name": "stderr",
     "output_type": "stream",
     "text": [
      "2020-05-22 13:32:46,192:INFO:First current path [1, 39, 24, 9, 78] formed at time = 0.76 s.\n"
     ]
    },
    {
     "name": "stdout",
     "output_type": "stream",
     "text": [
      "Running Random Network Regression: 50 nodes\n",
      "Running Random Network Regression: 100 nodes\n",
      "Running Random Network Regression: 150 nodes\n",
      "Running Grid Network Regression: 50 nodes\n",
      "Running Random Network Regression: 200 nodes\n",
      "Running Grid Network Regression: 100 nodes\n",
      "Running Random Network Regression: 290 nodes\n",
      "Running Grid Network Regression: 150 nodes\n",
      "Running Grid Network Regression: 50 nodes\n"
     ]
    },
    {
     "name": "stderr",
     "output_type": "stream",
     "text": [
      "2020-05-22 13:32:47,132:INFO:First current path [161, 177, 245, 58, 129, 269] formed at time = 0.78 s.\n"
     ]
    },
    {
     "name": "stdout",
     "output_type": "stream",
     "text": [
      "Running Random Network Regression: 50 nodes\n"
     ]
    },
    {
     "data": {
      "application/vnd.jupyter.widget-view+json": {
       "model_id": "4d7a237c164d4b7ca511f21b9fc8fbd4",
       "version_major": 2,
       "version_minor": 0
      },
      "text/plain": [
       "HBox(children=(IntProgress(value=0, description='Running Simulation ', max=500, style=ProgressStyle(descriptio…"
      ]
     },
     "metadata": {},
     "output_type": "display_data"
    },
    {
     "name": "stdout",
     "output_type": "stream",
     "text": [
      "Running Grid Network Regression: 100 nodes\n",
      "Running Random Network Regression: 100 nodes\n",
      "Running Grid Network Regression: 150 nodes\n",
      "Running Random Network Regression: 150 nodes\n",
      "Running Grid Network Regression: 200 nodes\n",
      "Running Random Network Regression: 250 nodes\n"
     ]
    },
    {
     "data": {
      "application/vnd.jupyter.widget-view+json": {
       "model_id": "c75ded2bb8964fc9a28a8687cdc9a73a",
       "version_major": 2,
       "version_minor": 0
      },
      "text/plain": [
       "HBox(children=(IntProgress(value=0, description='Running Simulation ', max=500, style=ProgressStyle(descriptio…"
      ]
     },
     "metadata": {},
     "output_type": "display_data"
    },
    {
     "name": "stdout",
     "output_type": "stream",
     "text": [
      "Running Grid Network Regression: 200 nodes\n",
      "Running Random Network Regression: 200 nodes\n",
      "Running Grid Network Regression: 250 nodes\n",
      "Running Grid Network Regression: 50 nodes\n",
      "Running Grid Network Regression: 100 nodes\n",
      "Running Random Network Regression: 287 nodes\n",
      "Running Grid Network Regression: 250 nodes\n",
      "Running Random Network Regression: 250 nodes\n"
     ]
    },
    {
     "name": "stderr",
     "output_type": "stream",
     "text": [
      "2020-05-22 13:32:48,319:INFO:First current path [0, 3, 7, 11, 15, 19, 23, 27, 31, 35, 39, 43, 47, 51, 55, 59, 63, 67, 71, 75, 79, 83, 87, 91, 95, 99, 103, 107, 111, 115, 119, 123, 127, 131, 135, 138] formed at time = 0.75 s.\n"
     ]
    },
    {
     "name": "stdout",
     "output_type": "stream",
     "text": [
      "Running Grid Network Regression: 150 nodes\n"
     ]
    },
    {
     "data": {
      "application/vnd.jupyter.widget-view+json": {
       "model_id": "989552e5d8d04b56a654c31ab49dcc98",
       "version_major": 2,
       "version_minor": 0
      },
      "text/plain": [
       "HBox(children=(IntProgress(value=0, description='Running Simulation ', max=500, style=ProgressStyle(descriptio…"
      ]
     },
     "metadata": {},
     "output_type": "display_data"
    },
    {
     "name": "stdout",
     "output_type": "stream",
     "text": [
      "Running Grid Network Regression: 200 nodes\n"
     ]
    },
    {
     "name": "stderr",
     "output_type": "stream",
     "text": [
      "2020-05-22 13:32:48,779:INFO:First current path [0, 289, 281, 273, 265, 257, 249, 241, 233, 225, 217, 209, 201, 193, 185, 177, 169, 161, 153, 146] formed at time = 0.75 s.\n"
     ]
    },
    {
     "name": "stdout",
     "output_type": "stream",
     "text": [
      "Running Grid Network Regression: 293 nodes\n"
     ]
    },
    {
     "data": {
      "application/vnd.jupyter.widget-view+json": {
       "model_id": "2bf85bf74daa433e951288b0b794964a",
       "version_major": 2,
       "version_minor": 0
      },
      "text/plain": [
       "HBox(children=(IntProgress(value=0, description='Running Simulation ', max=500, style=ProgressStyle(descriptio…"
      ]
     },
     "metadata": {},
     "output_type": "display_data"
    },
    {
     "name": "stdout",
     "output_type": "stream",
     "text": [
      "Running Random Network Regression: 288 nodes\n",
      "Running Grid Network Regression: 287 nodes\n",
      "Running Grid Network Regression: 50 nodes\n",
      "Running Grid Network Regression: 250 nodes\n",
      "Running Grid Network Regression: 100 nodes\n"
     ]
    },
    {
     "data": {
      "application/vnd.jupyter.widget-view+json": {
       "model_id": "e8e13c47fc9d4cab8877544e9501c6e3",
       "version_major": 2,
       "version_minor": 0
      },
      "text/plain": [
       "HBox(children=(IntProgress(value=0, description='Running Simulation ', max=500, style=ProgressStyle(descriptio…"
      ]
     },
     "metadata": {},
     "output_type": "display_data"
    },
    {
     "name": "stdout",
     "output_type": "stream",
     "text": [
      "Running Grid Network Regression: 150 nodes\n"
     ]
    },
    {
     "name": "stderr",
     "output_type": "stream",
     "text": [
      "2020-05-22 13:32:49,634:INFO:First current path [32, 19, 1, 194, 60, 107] formed at time = 0.77 s.\n"
     ]
    },
    {
     "name": "stdout",
     "output_type": "stream",
     "text": [
      "Running Random Network Regression: 50 nodes\n",
      "Running Random Network Regression: 100 nodes\n",
      "Running Grid Network Regression: 200 nodes\n",
      "Running Random Network Regression: 150 nodes\n",
      "Running Grid Network Regression: 290 nodes\n",
      "Running Grid Network Regression: 50 nodes\n",
      "Running Grid Network Regression: 100 nodes\n",
      "Running Random Network Regression: 200 nodes\n",
      "Running Grid Network Regression: 250 nodes\n"
     ]
    },
    {
     "name": "stderr",
     "output_type": "stream",
     "text": [
      "2020-05-22 13:32:50,330:INFO:First current path [275, 57, 142, 94, 43] formed at time = 0.77 s.\n"
     ]
    },
    {
     "name": "stdout",
     "output_type": "stream",
     "text": [
      "Running Random Network Regression: 50 nodes\n",
      "Running Grid Network Regression: 150 nodes\n",
      "Running Random Network Regression: 100 nodes\n",
      "Running Random Network Regression: 150 nodes\n"
     ]
    },
    {
     "name": "stderr",
     "output_type": "stream",
     "text": [
      "2020-05-22 13:32:50,641:INFO:First current path [0, 5, 13, 21, 29, 37, 45, 53, 61, 69, 77, 85, 93, 101, 109, 117, 125, 133, 141, 146] formed at time = 0.76 s.\n"
     ]
    },
    {
     "name": "stdout",
     "output_type": "stream",
     "text": [
      "Running Grid Network Regression: 200 nodes\n",
      "Running Random Network Regression: 250 nodes\n"
     ]
    },
    {
     "data": {
      "application/vnd.jupyter.widget-view+json": {
       "model_id": "5bd68a1b527a4c2697356e93bd4147e1",
       "version_major": 2,
       "version_minor": 0
      },
      "text/plain": [
       "HBox(children=(IntProgress(value=0, description='Running Simulation ', max=500, style=ProgressStyle(descriptio…"
      ]
     },
     "metadata": {},
     "output_type": "display_data"
    },
    {
     "name": "stdout",
     "output_type": "stream",
     "text": [
      "Running Random Network Regression: 200 nodes\n",
      "Running Grid Network Regression: 287 nodes\n",
      "Running Grid Network Regression: 250 nodes\n"
     ]
    },
    {
     "data": {
      "application/vnd.jupyter.widget-view+json": {
       "model_id": "59d8084cb5734e1fa1c9f4d286354f1e",
       "version_major": 2,
       "version_minor": 0
      },
      "text/plain": [
       "HBox(children=(IntProgress(value=0, description='Running Simulation ', max=500, style=ProgressStyle(descriptio…"
      ]
     },
     "metadata": {},
     "output_type": "display_data"
    },
    {
     "name": "stdout",
     "output_type": "stream",
     "text": [
      "Running Random Network Regression: 250 nodes\n",
      "Running Random Network Regression: 281 nodes\n",
      "Running Grid Network Regression: 288 nodes\n"
     ]
    },
    {
     "name": "stderr",
     "output_type": "stream",
     "text": [
      "2020-05-22 13:32:52,146:INFO:First current path [0, 3, 8, 13, 18, 23, 28, 33, 38, 43, 48, 53, 58, 63, 68, 73, 78, 83, 88, 93, 98, 103, 108, 113, 118, 123, 128, 133, 138, 142] formed at time = 0.76 s.\n"
     ]
    },
    {
     "data": {
      "application/vnd.jupyter.widget-view+json": {
       "model_id": "b22b720efe5b4f97b9a925447800333b",
       "version_major": 2,
       "version_minor": 0
      },
      "text/plain": [
       "HBox(children=(IntProgress(value=0, description='Running Simulation ', max=500, style=ProgressStyle(descriptio…"
      ]
     },
     "metadata": {},
     "output_type": "display_data"
    },
    {
     "data": {
      "application/vnd.jupyter.widget-view+json": {
       "model_id": "85047e036e434a7597f57ce6927d6a8c",
       "version_major": 2,
       "version_minor": 0
      },
      "text/plain": [
       "HBox(children=(IntProgress(value=0, description='Running Simulation ', max=500, style=ProgressStyle(descriptio…"
      ]
     },
     "metadata": {},
     "output_type": "display_data"
    },
    {
     "name": "stdout",
     "output_type": "stream",
     "text": [
      "Running Random Network Regression: 296 nodes\n",
      "Running Grid Network Regression: 50 nodes\n",
      "Running Grid Network Regression: 100 nodes\n"
     ]
    },
    {
     "name": "stderr",
     "output_type": "stream",
     "text": [
      "2020-05-22 13:32:52,780:INFO:First current path [0, 17, 286, 7] formed at time = 0.75 s.\n"
     ]
    },
    {
     "name": "stdout",
     "output_type": "stream",
     "text": [
      "Running Random Network Regression: 50 nodes\n",
      "Running Random Network Regression: 100 nodes\n",
      "Running Grid Network Regression: 150 nodes\n",
      "Running Random Network Regression: 150 nodes\n",
      "Running Grid Network Regression: 200 nodes\n",
      "Running Random Network Regression: 200 nodes\n"
     ]
    },
    {
     "data": {
      "application/vnd.jupyter.widget-view+json": {
       "model_id": "425076e2a81a4ef190795095d611b37a",
       "version_major": 2,
       "version_minor": 0
      },
      "text/plain": [
       "HBox(children=(IntProgress(value=0, description='Running Simulation ', max=500, style=ProgressStyle(descriptio…"
      ]
     },
     "metadata": {},
     "output_type": "display_data"
    },
    {
     "name": "stderr",
     "output_type": "stream",
     "text": [
      "2020-05-22 13:32:53,502:INFO:First current path [0, 30, 245, 176, 166] formed at time = 0.76 s.\n"
     ]
    },
    {
     "name": "stdout",
     "output_type": "stream",
     "text": [
      "Running Random Network Regression: 50 nodes\n"
     ]
    },
    {
     "name": "stderr",
     "output_type": "stream",
     "text": [
      "2020-05-22 13:32:53,549:INFO:First current path [0, 3, 8, 13, 18, 23, 28, 33, 38, 43, 48, 53, 58, 63, 68, 73, 78, 83, 88, 93, 98, 103, 108, 113, 118, 123, 128, 133, 138, 142] formed at time = 0.76 s.\n"
     ]
    },
    {
     "name": "stdout",
     "output_type": "stream",
     "text": [
      "Running Random Network Regression: 100 nodes\n"
     ]
    },
    {
     "data": {
      "application/vnd.jupyter.widget-view+json": {
       "model_id": "23fdce0f227b4f91bc8841405417ad9b",
       "version_major": 2,
       "version_minor": 0
      },
      "text/plain": [
       "HBox(children=(IntProgress(value=0, description='Running Simulation ', max=500, style=ProgressStyle(descriptio…"
      ]
     },
     "metadata": {},
     "output_type": "display_data"
    },
    {
     "name": "stdout",
     "output_type": "stream",
     "text": [
      "Running Grid Network Regression: 50 nodes\n",
      "Running Random Network Regression: 150 nodes\n",
      "Running Grid Network Regression: 250 nodes\n",
      "Running Grid Network Regression: 100 nodes\n",
      "Running Random Network Regression: 250 nodes\n",
      "Running Grid Network Regression: 150 nodes\n",
      "Running Random Network Regression: 200 nodes\n",
      "Running Grid Network Regression: 200 nodes\n"
     ]
    },
    {
     "data": {
      "application/vnd.jupyter.widget-view+json": {
       "model_id": "75634658848b424d8aadd2beacfdbf0e",
       "version_major": 2,
       "version_minor": 0
      },
      "text/plain": [
       "HBox(children=(IntProgress(value=0, description='Running Simulation ', max=500, style=ProgressStyle(descriptio…"
      ]
     },
     "metadata": {},
     "output_type": "display_data"
    },
    {
     "name": "stdout",
     "output_type": "stream",
     "text": [
      "Running Grid Network Regression: 281 nodes\n",
      "Running Random Network Regression: 250 nodes\n",
      "Running Random Network Regression: 291 nodes\n"
     ]
    },
    {
     "name": "stderr",
     "output_type": "stream",
     "text": [
      "2020-05-22 13:32:54,784:INFO:First current path [0, 6, 16, 26, 36, 46, 56, 66, 76, 86, 96, 106, 116, 126, 136, 142] formed at time = 0.76 s.\n",
      "2020-05-22 13:32:54,863:INFO:First current path [0, 178, 100, 280, 64] formed at time = 0.75 s.\n"
     ]
    },
    {
     "name": "stdout",
     "output_type": "stream",
     "text": [
      "Running Random Network Regression: 50 nodes\n",
      "Running Grid Network Regression: 250 nodes\n",
      "Running Random Network Regression: 100 nodes\n"
     ]
    },
    {
     "data": {
      "application/vnd.jupyter.widget-view+json": {
       "model_id": "cfbfd79f3de44c0ab82fb1ee8d9dc652",
       "version_major": 2,
       "version_minor": 0
      },
      "text/plain": [
       "HBox(children=(IntProgress(value=0, description='Running Simulation ', max=500, style=ProgressStyle(descriptio…"
      ]
     },
     "metadata": {},
     "output_type": "display_data"
    },
    {
     "name": "stdout",
     "output_type": "stream",
     "text": [
      "Running Random Network Regression: 150 nodes\n",
      "Running Random Network Regression: 284 nodes\n",
      "Running Random Network Regression: 200 nodes\n"
     ]
    },
    {
     "name": "stderr",
     "output_type": "stream",
     "text": [
      "2020-05-22 13:32:55,703:INFO:First current path [1, 4, 10, 16, 22, 28, 34, 40, 46, 52, 58, 64, 70, 76, 82, 88, 94, 100, 106, 112, 118, 124, 130, 136, 142, 146] formed at time = 0.76 s.\n"
     ]
    },
    {
     "name": "stdout",
     "output_type": "stream",
     "text": [
      "Running Grid Network Regression: 296 nodes\n",
      "Running Grid Network Regression: 50 nodes\n"
     ]
    },
    {
     "data": {
      "application/vnd.jupyter.widget-view+json": {
       "model_id": "d8b09d67f5e248edbc058b861f9e529c",
       "version_major": 2,
       "version_minor": 0
      },
      "text/plain": [
       "HBox(children=(IntProgress(value=0, description='Running Simulation ', max=500, style=ProgressStyle(descriptio…"
      ]
     },
     "metadata": {},
     "output_type": "display_data"
    },
    {
     "name": "stdout",
     "output_type": "stream",
     "text": [
      "Running Grid Network Regression: 100 nodes\n",
      "Running Random Network Regression: 250 nodes\n",
      "Running Grid Network Regression: 150 nodes\n"
     ]
    },
    {
     "name": "stderr",
     "output_type": "stream",
     "text": [
      "2020-05-22 13:32:56,342:INFO:First current path [0, 14, 76, 7] formed at time = 0.75 s.\n"
     ]
    },
    {
     "name": "stdout",
     "output_type": "stream",
     "text": [
      "Running Random Network Regression: 50 nodes\n",
      "Running Random Network Regression: 100 nodes\n",
      "Running Grid Network Regression: 200 nodes\n",
      "Running Grid Network Regression: 50 nodes\n",
      "Running Grid Network Regression: 100 nodes\n",
      "Running Random Network Regression: 150 nodes\n",
      "Running Grid Network Regression: 150 nodes\n",
      "Running Random Network Regression: 284 nodes\n"
     ]
    },
    {
     "data": {
      "application/vnd.jupyter.widget-view+json": {
       "model_id": "1ec556021e5a4f3391f972fa973abbf1",
       "version_major": 2,
       "version_minor": 0
      },
      "text/plain": [
       "HBox(children=(IntProgress(value=0, description='Running Simulation ', max=500, style=ProgressStyle(descriptio…"
      ]
     },
     "metadata": {},
     "output_type": "display_data"
    },
    {
     "name": "stdout",
     "output_type": "stream",
     "text": [
      "Running Random Network Regression: 200 nodes\n",
      "Running Grid Network Regression: 250 nodes\n",
      "Running Grid Network Regression: 200 nodes\n"
     ]
    },
    {
     "name": "stderr",
     "output_type": "stream",
     "text": [
      "2020-05-22 13:32:57,215:INFO:First current path [3, 85, 206, 66, 122] formed at time = 0.76 s.\n"
     ]
    },
    {
     "name": "stdout",
     "output_type": "stream",
     "text": [
      "Running Random Network Regression: 50 nodes\n",
      "Running Random Network Regression: 100 nodes\n",
      "Running Random Network Regression: 150 nodes\n",
      "Running Random Network Regression: 250 nodes\n",
      "Running Grid Network Regression: 250 nodes\n",
      "Running Grid Network Regression: 50 nodes\n",
      "Running Random Network Regression: 200 nodes\n",
      "Running Grid Network Regression: 100 nodes\n",
      "Running Grid Network Regression: 291 nodes\n",
      "Running Grid Network Regression: 150 nodes\n"
     ]
    },
    {
     "name": "stderr",
     "output_type": "stream",
     "text": [
      "2020-05-22 13:32:58,132:INFO:First current path [0, 4, 10, 16, 22, 28, 34, 40, 46, 52, 58, 64, 70, 76, 82, 88, 94, 100, 106, 112, 118, 124, 130, 136, 140] formed at time = 0.75 s.\n"
     ]
    },
    {
     "name": "stdout",
     "output_type": "stream",
     "text": [
      "Running Grid Network Regression: 284 nodes\n"
     ]
    },
    {
     "data": {
      "application/vnd.jupyter.widget-view+json": {
       "model_id": "ddc38bf92eab4848af6b25a2199200b4",
       "version_major": 2,
       "version_minor": 0
      },
      "text/plain": [
       "HBox(children=(IntProgress(value=0, description='Running Simulation ', max=500, style=ProgressStyle(descriptio…"
      ]
     },
     "metadata": {},
     "output_type": "display_data"
    },
    {
     "name": "stdout",
     "output_type": "stream",
     "text": [
      "Running Grid Network Regression: 200 nodes\n",
      "Running Random Network Regression: 294 nodes\n",
      "Running Random Network Regression: 250 nodes\n",
      "Running Grid Network Regression: 250 nodes\n"
     ]
    },
    {
     "data": {
      "application/vnd.jupyter.widget-view+json": {
       "model_id": "ef046c051e7b4139be5d83aa4bb46612",
       "version_major": 2,
       "version_minor": 0
      },
      "text/plain": [
       "HBox(children=(IntProgress(value=0, description='Running Simulation ', max=500, style=ProgressStyle(descriptio…"
      ]
     },
     "metadata": {},
     "output_type": "display_data"
    },
    {
     "data": {
      "application/vnd.jupyter.widget-view+json": {
       "model_id": "505f6bc1ec8f493ca57866fcaaae066d",
       "version_major": 2,
       "version_minor": 0
      },
      "text/plain": [
       "HBox(children=(IntProgress(value=0, description='Running Simulation ', max=500, style=ProgressStyle(descriptio…"
      ]
     },
     "metadata": {},
     "output_type": "display_data"
    },
    {
     "name": "stdout",
     "output_type": "stream",
     "text": [
      "Running Random Network Regression: 290 nodes\n",
      "Running Grid Network Regression: 50 nodes\n",
      "Running Grid Network Regression: 284 nodes\n",
      "Running Grid Network Regression: 100 nodes\n"
     ]
    },
    {
     "name": "stderr",
     "output_type": "stream",
     "text": [
      "2020-05-22 13:32:59,528:INFO:First current path [3, 63, 41, 13, 133] formed at time = 0.75 s.\n"
     ]
    },
    {
     "name": "stdout",
     "output_type": "stream",
     "text": [
      "Running Random Network Regression: 50 nodes\n",
      "Running Random Network Regression: 100 nodes\n",
      "Running Grid Network Regression: 150 nodes\n",
      "Running Random Network Regression: 150 nodes\n",
      "Running Grid Network Regression: 200 nodes\n"
     ]
    },
    {
     "name": "stderr",
     "output_type": "stream",
     "text": [
      "2020-05-22 13:33:00,028:INFO:First current path [0, 3, 8, 13, 18, 23, 28, 33, 38, 43, 48, 53, 58, 63, 68, 73, 78, 83, 88, 93, 98, 103, 108, 113, 118, 123, 128, 133, 137] formed at time = 0.76 s.\n"
     ]
    },
    {
     "data": {
      "application/vnd.jupyter.widget-view+json": {
       "model_id": "11c89a01965543bf93526ff7761cf6bb",
       "version_major": 2,
       "version_minor": 0
      },
      "text/plain": [
       "HBox(children=(IntProgress(value=0, description='Running Simulation ', max=500, style=ProgressStyle(descriptio…"
      ]
     },
     "metadata": {},
     "output_type": "display_data"
    },
    {
     "data": {
      "application/vnd.jupyter.widget-view+json": {
       "model_id": "a8540872213e435daff8c213c94ac8da",
       "version_major": 2,
       "version_minor": 0
      },
      "text/plain": [
       "HBox(children=(IntProgress(value=0, description='Running Simulation ', max=500, style=ProgressStyle(descriptio…"
      ]
     },
     "metadata": {},
     "output_type": "display_data"
    },
    {
     "name": "stdout",
     "output_type": "stream",
     "text": [
      "Running Random Network Regression: 200 nodes\n"
     ]
    },
    {
     "name": "stderr",
     "output_type": "stream",
     "text": [
      "2020-05-22 13:33:00,267:INFO:First current path [1, 4, 9, 14, 19, 24, 29, 34, 39, 44, 49, 54, 59, 64, 69, 74, 79, 84, 89, 94, 99, 104, 109, 114, 119, 124, 129, 134, 139, 142] formed at time = 0.76 s.\n"
     ]
    },
    {
     "name": "stdout",
     "output_type": "stream",
     "text": [
      "Running Grid Network Regression: 50 nodes\n",
      "Running Grid Network Regression: 100 nodes\n"
     ]
    },
    {
     "data": {
      "application/vnd.jupyter.widget-view+json": {
       "model_id": "83b4f630d1e345c19d107b7d39c79238",
       "version_major": 2,
       "version_minor": 0
      },
      "text/plain": [
       "HBox(children=(IntProgress(value=0, description='Running Simulation ', max=500, style=ProgressStyle(descriptio…"
      ]
     },
     "metadata": {},
     "output_type": "display_data"
    },
    {
     "name": "stdout",
     "output_type": "stream",
     "text": [
      "Running Grid Network Regression: 150 nodes\n",
      "Running Grid Network Regression: 250 nodes\n",
      "Running Random Network Regression: 250 nodes\n",
      "Running Grid Network Regression: 200 nodes\n"
     ]
    },
    {
     "name": "stderr",
     "output_type": "stream",
     "text": [
      "2020-05-22 13:33:01,208:INFO:First current path [1, 3, 6, 9, 12, 15, 18, 21, 24, 27, 30, 33, 36, 39, 42, 45, 48, 51, 54, 57, 60, 63, 66, 69, 72, 75, 78, 81, 84, 87, 90, 93, 96, 99, 102, 105, 108, 111, 114, 117, 120, 123, 126, 129, 132, 135, 138, 140] formed at time = 0.75 s.\n",
      "2020-05-22 13:33:01,297:INFO:First current path [0, 3, 213, 41, 28] formed at time = 0.76 s.\n"
     ]
    },
    {
     "name": "stdout",
     "output_type": "stream",
     "text": [
      "Running Random Network Regression: 50 nodes\n",
      "Running Grid Network Regression: 250 nodes\n"
     ]
    },
    {
     "data": {
      "application/vnd.jupyter.widget-view+json": {
       "model_id": "06c0f8da7c4740d888b584e2dfe47fcf",
       "version_major": 2,
       "version_minor": 0
      },
      "text/plain": [
       "HBox(children=(IntProgress(value=0, description='Running Simulation ', max=500, style=ProgressStyle(descriptio…"
      ]
     },
     "metadata": {},
     "output_type": "display_data"
    },
    {
     "name": "stdout",
     "output_type": "stream",
     "text": [
      "Running Random Network Regression: 100 nodes\n",
      "Running Grid Network Regression: 294 nodes\n"
     ]
    },
    {
     "data": {
      "application/vnd.jupyter.widget-view+json": {
       "model_id": "a9e791c356744eaf923bc9693b4d5d0a",
       "version_major": 2,
       "version_minor": 0
      },
      "text/plain": [
       "HBox(children=(IntProgress(value=0, description='Running Simulation ', max=500, style=ProgressStyle(descriptio…"
      ]
     },
     "metadata": {},
     "output_type": "display_data"
    },
    {
     "name": "stdout",
     "output_type": "stream",
     "text": [
      "Running Random Network Regression: 283 nodes\n"
     ]
    },
    {
     "name": "stderr",
     "output_type": "stream",
     "text": [
      "2020-05-22 13:33:01,557:INFO:First current path [0, 19, 116, 3, 34] formed at time = 0.76 s.\n"
     ]
    },
    {
     "name": "stdout",
     "output_type": "stream",
     "text": [
      "Running Random Network Regression: 50 nodes\n",
      "Running Random Network Regression: 150 nodes\n",
      "Running Random Network Regression: 100 nodes\n",
      "Running Random Network Regression: 150 nodes\n",
      "Running Random Network Regression: 200 nodes\n",
      "Running Grid Network Regression: 290 nodes\n",
      "Running Random Network Regression: 200 nodes\n"
     ]
    },
    {
     "name": "stderr",
     "output_type": "stream",
     "text": [
      "2020-05-22 13:33:02,395:INFO:First current path [126, 46, 128, 240, 148, 235, 123] formed at time = 0.77 s.\n"
     ]
    },
    {
     "name": "stdout",
     "output_type": "stream",
     "text": [
      "Running Random Network Regression: 50 nodes\n",
      "Running Random Network Regression: 250 nodes\n",
      "Running Random Network Regression: 100 nodes\n",
      "Running Grid Network Regression: 50 nodes\n",
      "Running Grid Network Regression: 100 nodes\n",
      "Running Random Network Regression: 150 nodes\n",
      "Running Random Network Regression: 250 nodes\n"
     ]
    },
    {
     "data": {
      "application/vnd.jupyter.widget-view+json": {
       "model_id": "01dc821b755f435dbf30f1b0b48dbfc0",
       "version_major": 2,
       "version_minor": 0
      },
      "text/plain": [
       "HBox(children=(IntProgress(value=0, description='Running Simulation ', max=500, style=ProgressStyle(descriptio…"
      ]
     },
     "metadata": {},
     "output_type": "display_data"
    },
    {
     "name": "stderr",
     "output_type": "stream",
     "text": [
      "2020-05-22 13:33:02,757:INFO:First current path [0, 5, 14, 23, 32, 41, 50, 59, 68, 77, 86, 95, 104, 113, 122, 131, 137] formed at time = 0.76 s.\n"
     ]
    },
    {
     "name": "stdout",
     "output_type": "stream",
     "text": [
      "Running Grid Network Regression: 150 nodes\n"
     ]
    },
    {
     "data": {
      "application/vnd.jupyter.widget-view+json": {
       "model_id": "b41930a146564cebb6ff5fc1a06a58d6",
       "version_major": 2,
       "version_minor": 0
      },
      "text/plain": [
       "HBox(children=(IntProgress(value=0, description='Running Simulation ', max=500, style=ProgressStyle(descriptio…"
      ]
     },
     "metadata": {},
     "output_type": "display_data"
    },
    {
     "name": "stdout",
     "output_type": "stream",
     "text": [
      "Running Random Network Regression: 200 nodes\n",
      "Running Grid Network Regression: 200 nodes\n",
      "Running Random Network Regression: 278 nodes\n",
      "Running Random Network Regression: 282 nodes\n",
      "Running Random Network Regression: 250 nodes\n",
      "Running Grid Network Regression: 250 nodes\n"
     ]
    },
    {
     "name": "stderr",
     "output_type": "stream",
     "text": [
      "2020-05-22 13:33:04,028:INFO:First current path [0, 4, 11, 18, 25, 32, 39, 46, 53, 60, 67, 74, 81, 88, 95, 102, 109, 116, 123, 130, 137, 142] formed at time = 0.76 s.\n"
     ]
    },
    {
     "data": {
      "application/vnd.jupyter.widget-view+json": {
       "model_id": "8496fdf282e34effb61d625cab0badab",
       "version_major": 2,
       "version_minor": 0
      },
      "text/plain": [
       "HBox(children=(IntProgress(value=0, description='Running Simulation ', max=500, style=ProgressStyle(descriptio…"
      ]
     },
     "metadata": {},
     "output_type": "display_data"
    },
    {
     "name": "stdout",
     "output_type": "stream",
     "text": [
      "Running Grid Network Regression: 50 nodes\n",
      "Running Grid Network Regression: 100 nodes\n"
     ]
    },
    {
     "name": "stderr",
     "output_type": "stream",
     "text": [
      "2020-05-22 13:33:04,376:INFO:First current path [0, 80, 44, 5] formed at time = 0.75 s.\n"
     ]
    },
    {
     "name": "stdout",
     "output_type": "stream",
     "text": [
      "Running Random Network Regression: 50 nodes\n",
      "Running Random Network Regression: 278 nodes\n",
      "Running Random Network Regression: 100 nodes\n",
      "Running Grid Network Regression: 150 nodes\n",
      "Running Grid Network Regression: 283 nodes\n",
      "Running Grid Network Regression: 50 nodes\n",
      "Running Grid Network Regression: 100 nodes\n",
      "Running Random Network Regression: 150 nodes\n",
      "Running Grid Network Regression: 200 nodes\n",
      "Running Grid Network Regression: 150 nodes\n",
      "Running Random Network Regression: 200 nodes\n",
      "Running Grid Network Regression: 200 nodes\n",
      "Running Grid Network Regression: 250 nodes\n",
      "Running Grid Network Regression: 50 nodes\n",
      "Running Random Network Regression: 250 nodes\n",
      "Running Grid Network Regression: 100 nodes\n"
     ]
    },
    {
     "name": "stderr",
     "output_type": "stream",
     "text": [
      "2020-05-22 13:33:05,520:INFO:First current path [1, 206, 265, 57, 89] formed at time = 0.76 s.\n"
     ]
    },
    {
     "name": "stdout",
     "output_type": "stream",
     "text": [
      "Running Random Network Regression: 50 nodes\n",
      "Running Grid Network Regression: 250 nodes\n"
     ]
    },
    {
     "data": {
      "application/vnd.jupyter.widget-view+json": {
       "model_id": "dc461670c6ba4d6b915f625084262d65",
       "version_major": 2,
       "version_minor": 0
      },
      "text/plain": [
       "HBox(children=(IntProgress(value=0, description='Running Simulation ', max=500, style=ProgressStyle(descriptio…"
      ]
     },
     "metadata": {},
     "output_type": "display_data"
    },
    {
     "data": {
      "application/vnd.jupyter.widget-view+json": {
       "model_id": "f4524c3e8ab24831b19b7dc684d4c236",
       "version_major": 2,
       "version_minor": 0
      },
      "text/plain": [
       "HBox(children=(IntProgress(value=0, description='Running Simulation ', max=500, style=ProgressStyle(descriptio…"
      ]
     },
     "metadata": {},
     "output_type": "display_data"
    },
    {
     "name": "stdout",
     "output_type": "stream",
     "text": [
      "Running Random Network Regression: 100 nodes\n",
      "Running Grid Network Regression: 150 nodes\n",
      "Running Random Network Regression: 150 nodes\n",
      "Running Grid Network Regression: 200 nodes\n",
      "Running Grid Network Regression: 278 nodes\n",
      "Running Random Network Regression: 200 nodes\n",
      "Running Grid Network Regression: 282 nodes\n",
      "Running Random Network Regression: 289 nodes\n",
      "Running Grid Network Regression: 250 nodes\n"
     ]
    },
    {
     "data": {
      "application/vnd.jupyter.widget-view+json": {
       "model_id": "dd688baff23643f99f2970ee92721e0c",
       "version_major": 2,
       "version_minor": 0
      },
      "text/plain": [
       "HBox(children=(IntProgress(value=0, description='Running Simulation ', max=500, style=ProgressStyle(descriptio…"
      ]
     },
     "metadata": {},
     "output_type": "display_data"
    },
    {
     "name": "stdout",
     "output_type": "stream",
     "text": [
      "Running Random Network Regression: 250 nodes\n"
     ]
    },
    {
     "name": "stderr",
     "output_type": "stream",
     "text": [
      "2020-05-22 13:33:06,785:INFO:First current path [0, 281, 276, 271, 266, 261, 256, 251, 246, 241, 236, 231, 226, 221, 216, 211, 206, 201, 196, 191, 186, 181, 176, 171, 166, 161, 156, 151, 146, 142] formed at time = 0.75 s.\n",
      "2020-05-22 13:33:06,823:INFO:First current path [0, 4, 10, 16, 22, 28, 34, 40, 46, 52, 58, 64, 70, 76, 82, 88, 94, 100, 106, 112, 118, 124, 130, 136, 140] formed at time = 0.75 s.\n"
     ]
    },
    {
     "data": {
      "application/vnd.jupyter.widget-view+json": {
       "model_id": "106201f1da3742f8bf9696fac1bb17ae",
       "version_major": 2,
       "version_minor": 0
      },
      "text/plain": [
       "HBox(children=(IntProgress(value=0, description='Running Simulation ', max=500, style=ProgressStyle(descriptio…"
      ]
     },
     "metadata": {},
     "output_type": "display_data"
    },
    {
     "data": {
      "application/vnd.jupyter.widget-view+json": {
       "model_id": "2dbe36a7c12a4ef09db97381c3a127a3",
       "version_major": 2,
       "version_minor": 0
      },
      "text/plain": [
       "HBox(children=(IntProgress(value=0, description='Running Simulation ', max=500, style=ProgressStyle(descriptio…"
      ]
     },
     "metadata": {},
     "output_type": "display_data"
    },
    {
     "name": "stdout",
     "output_type": "stream",
     "text": [
      "Running Grid Network Regression: 278 nodes\n",
      "Running Grid Network Regression: 50 nodes\n",
      "Running Grid Network Regression: 100 nodes\n",
      "Running Grid Network Regression: 150 nodes\n",
      "Running Random Network Regression: 290 nodes\n",
      "Running Grid Network Regression: 200 nodes\n"
     ]
    },
    {
     "name": "stderr",
     "output_type": "stream",
     "text": [
      "2020-05-22 13:33:08,024:INFO:First current path [0, 5, 14, 23, 32, 41, 50, 59, 68, 77, 86, 95, 104, 113, 122, 131, 137] formed at time = 0.76 s.\n"
     ]
    },
    {
     "data": {
      "application/vnd.jupyter.widget-view+json": {
       "model_id": "d469abb6377f41b78f19742bfa9c8402",
       "version_major": 2,
       "version_minor": 0
      },
      "text/plain": [
       "HBox(children=(IntProgress(value=0, description='Running Simulation ', max=500, style=ProgressStyle(descriptio…"
      ]
     },
     "metadata": {},
     "output_type": "display_data"
    },
    {
     "data": {
      "application/vnd.jupyter.widget-view+json": {
       "model_id": "b05d17f42868414db898c04eb5ec938b",
       "version_major": 2,
       "version_minor": 0
      },
      "text/plain": [
       "HBox(children=(IntProgress(value=0, description='Running Simulation ', max=500, style=ProgressStyle(descriptio…"
      ]
     },
     "metadata": {},
     "output_type": "display_data"
    },
    {
     "name": "stderr",
     "output_type": "stream",
     "text": [
      "2020-05-22 13:33:08,202:INFO:First current path [0, 125, 227, 129, 91] formed at time = 0.75 s.\n"
     ]
    },
    {
     "name": "stdout",
     "output_type": "stream",
     "text": [
      "Running Random Network Regression: 50 nodes\n"
     ]
    },
    {
     "name": "stderr",
     "output_type": "stream",
     "text": [
      "2020-05-22 13:33:08,242:INFO:First current path [0, 209, 35, 202, 128] formed at time = 0.75 s.\n"
     ]
    },
    {
     "name": "stdout",
     "output_type": "stream",
     "text": [
      "Running Random Network Regression: 50 nodes\n",
      "Running Random Network Regression: 100 nodes\n",
      "Running Random Network Regression: 100 nodes\n",
      "Running Grid Network Regression: 250 nodes\n",
      "Running Random Network Regression: 150 nodes\n",
      "Running Random Network Regression: 150 nodes\n",
      "Running Grid Network Regression: 50 nodes\n",
      "Running Grid Network Regression: 100 nodes\n",
      "Running Random Network Regression: 200 nodes\n"
     ]
    },
    {
     "data": {
      "application/vnd.jupyter.widget-view+json": {
       "model_id": "fe2d964f95f84aab820ffe6aea76b3e9",
       "version_major": 2,
       "version_minor": 0
      },
      "text/plain": [
       "HBox(children=(IntProgress(value=0, description='Running Simulation ', max=500, style=ProgressStyle(descriptio…"
      ]
     },
     "metadata": {},
     "output_type": "display_data"
    },
    {
     "name": "stdout",
     "output_type": "stream",
     "text": [
      "Running Random Network Regression: 200 nodes\n",
      "Running Grid Network Regression: 150 nodes\n",
      "Running Grid Network Regression: 289 nodes\n"
     ]
    },
    {
     "name": "stderr",
     "output_type": "stream",
     "text": [
      "2020-05-22 13:33:09,301:INFO:First current path [0, 272, 264, 256, 248, 240, 232, 224, 216, 208, 200, 192, 184, 176, 168, 160, 152, 144, 138] formed at time = 0.75 s.\n"
     ]
    },
    {
     "name": "stdout",
     "output_type": "stream",
     "text": [
      "Running Grid Network Regression: 200 nodes\n",
      "Running Random Network Regression: 250 nodes\n",
      "Running Random Network Regression: 250 nodes\n"
     ]
    },
    {
     "data": {
      "application/vnd.jupyter.widget-view+json": {
       "model_id": "deb83477ecaa43d59d16f5abc172ed2c",
       "version_major": 2,
       "version_minor": 0
      },
      "text/plain": [
       "HBox(children=(IntProgress(value=0, description='Running Simulation ', max=500, style=ProgressStyle(descriptio…"
      ]
     },
     "metadata": {},
     "output_type": "display_data"
    },
    {
     "name": "stderr",
     "output_type": "stream",
     "text": [
      "2020-05-22 13:33:09,514:INFO:First current path [0, 15, 178, 3] formed at time = 0.75 s.\n"
     ]
    },
    {
     "name": "stdout",
     "output_type": "stream",
     "text": [
      "Running Random Network Regression: 50 nodes\n",
      "Running Random Network Regression: 100 nodes\n",
      "Running Random Network Regression: 150 nodes\n",
      "Running Grid Network Regression: 250 nodes\n"
     ]
    },
    {
     "name": "stderr",
     "output_type": "stream",
     "text": [
      "2020-05-22 13:33:10,023:INFO:First current path [0, 4, 10, 16, 22, 28, 34, 40, 46, 52, 58, 64, 70, 76, 82, 88, 94, 100, 106, 112, 118, 124, 130, 136, 140] formed at time = 0.75 s.\n"
     ]
    },
    {
     "name": "stdout",
     "output_type": "stream",
     "text": [
      "Running Random Network Regression: 200 nodes\n",
      "Running Random Network Regression: 285 nodes\n"
     ]
    },
    {
     "data": {
      "application/vnd.jupyter.widget-view+json": {
       "model_id": "0a3dbf764cce4c8dac07c32be193a3c8",
       "version_major": 2,
       "version_minor": 0
      },
      "text/plain": [
       "HBox(children=(IntProgress(value=0, description='Running Simulation ', max=500, style=ProgressStyle(descriptio…"
      ]
     },
     "metadata": {},
     "output_type": "display_data"
    },
    {
     "name": "stdout",
     "output_type": "stream",
     "text": [
      "Running Random Network Regression: 286 nodes\n"
     ]
    },
    {
     "data": {
      "application/vnd.jupyter.widget-view+json": {
       "model_id": "9603a8f6a4c34a1c9a0ad86a4e876019",
       "version_major": 2,
       "version_minor": 0
      },
      "text/plain": [
       "HBox(children=(IntProgress(value=0, description='Running Simulation ', max=500, style=ProgressStyle(descriptio…"
      ]
     },
     "metadata": {},
     "output_type": "display_data"
    },
    {
     "name": "stderr",
     "output_type": "stream",
     "text": [
      "2020-05-22 13:33:10,626:INFO:First current path [0, 28, 81, 8] formed at time = 0.75 s.\n"
     ]
    },
    {
     "name": "stdout",
     "output_type": "stream",
     "text": [
      "Running Random Network Regression: 50 nodes\n",
      "Running Random Network Regression: 250 nodes\n",
      "Running Grid Network Regression: 290 nodes\n",
      "Running Random Network Regression: 100 nodes\n",
      "Running Random Network Regression: 150 nodes\n",
      "Running Grid Network Regression: 50 nodes\n",
      "Running Random Network Regression: 200 nodes\n",
      "Running Grid Network Regression: 100 nodes\n",
      "Running Grid Network Regression: 50 nodes\n",
      "Running Grid Network Regression: 150 nodes\n",
      "Running Grid Network Regression: 100 nodes\n"
     ]
    },
    {
     "name": "stderr",
     "output_type": "stream",
     "text": [
      "2020-05-22 13:33:11,445:INFO:First current path [1, 80, 149, 280, 195] formed at time = 0.76 s.\n"
     ]
    },
    {
     "name": "stdout",
     "output_type": "stream",
     "text": [
      "Running Random Network Regression: 50 nodes\n",
      "Running Random Network Regression: 288 nodes\n",
      "Running Random Network Regression: 100 nodes\n",
      "Running Grid Network Regression: 150 nodes\n"
     ]
    },
    {
     "name": "stderr",
     "output_type": "stream",
     "text": [
      "2020-05-22 13:33:11,691:INFO:First current path [0, 3, 8, 13, 18, 23, 28, 33, 38, 43, 48, 53, 58, 63, 68, 73, 78, 83, 88, 93, 98, 103, 108, 113, 118, 123, 128, 133, 137] formed at time = 0.76 s.\n"
     ]
    },
    {
     "name": "stdout",
     "output_type": "stream",
     "text": [
      "Running Random Network Regression: 250 nodes\n",
      "Running Random Network Regression: 150 nodes\n",
      "Running Grid Network Regression: 200 nodes\n"
     ]
    },
    {
     "data": {
      "application/vnd.jupyter.widget-view+json": {
       "model_id": "f501128926314cf28fea2290543b63e3",
       "version_major": 2,
       "version_minor": 0
      },
      "text/plain": [
       "HBox(children=(IntProgress(value=0, description='Running Simulation ', max=500, style=ProgressStyle(descriptio…"
      ]
     },
     "metadata": {},
     "output_type": "display_data"
    },
    {
     "name": "stdout",
     "output_type": "stream",
     "text": [
      "Running Grid Network Regression: 200 nodes\n",
      "Running Random Network Regression: 200 nodes\n",
      "Running Grid Network Regression: 250 nodes\n"
     ]
    },
    {
     "data": {
      "application/vnd.jupyter.widget-view+json": {
       "model_id": "a7de843a910a431b8c1fef5e1ea3213e",
       "version_major": 2,
       "version_minor": 0
      },
      "text/plain": [
       "HBox(children=(IntProgress(value=0, description='Running Simulation ', max=500, style=ProgressStyle(descriptio…"
      ]
     },
     "metadata": {},
     "output_type": "display_data"
    },
    {
     "name": "stdout",
     "output_type": "stream",
     "text": [
      "Running Random Network Regression: 278 nodes\n",
      "Running Grid Network Regression: 250 nodes\n",
      "Running Grid Network Regression: 50 nodes\n",
      "Running Grid Network Regression: 100 nodes\n",
      "Running Random Network Regression: 250 nodes\n",
      "Running Grid Network Regression: 150 nodes\n"
     ]
    },
    {
     "name": "stderr",
     "output_type": "stream",
     "text": [
      "2020-05-22 13:33:12,980:INFO:First current path [0, 38, 111, 200, 76] formed at time = 0.75 s.\n"
     ]
    },
    {
     "name": "stdout",
     "output_type": "stream",
     "text": [
      "Running Random Network Regression: 50 nodes\n",
      "Running Grid Network Regression: 285 nodes\n",
      "Running Random Network Regression: 100 nodes\n",
      "Running Grid Network Regression: 200 nodes\n"
     ]
    },
    {
     "data": {
      "application/vnd.jupyter.widget-view+json": {
       "model_id": "006134567de94bb983477d5ca132664b",
       "version_major": 2,
       "version_minor": 0
      },
      "text/plain": [
       "HBox(children=(IntProgress(value=0, description='Running Simulation ', max=500, style=ProgressStyle(descriptio…"
      ]
     },
     "metadata": {},
     "output_type": "display_data"
    },
    {
     "name": "stdout",
     "output_type": "stream",
     "text": [
      "Running Random Network Regression: 150 nodes\n",
      "Running Grid Network Regression: 286 nodes\n",
      "Running Grid Network Regression: 50 nodes\n",
      "Running Grid Network Regression: 100 nodes\n",
      "Running Random Network Regression: 283 nodes\n",
      "Running Random Network Regression: 200 nodes\n"
     ]
    },
    {
     "name": "stderr",
     "output_type": "stream",
     "text": [
      "2020-05-22 13:33:13,651:INFO:First current path [0, 5, 14, 23, 32, 41, 50, 59, 68, 77, 86, 95, 104, 113, 122, 131, 137] formed at time = 0.76 s.\n"
     ]
    },
    {
     "name": "stdout",
     "output_type": "stream",
     "text": [
      "Running Grid Network Regression: 150 nodes\n",
      "Running Grid Network Regression: 250 nodes\n"
     ]
    },
    {
     "data": {
      "application/vnd.jupyter.widget-view+json": {
       "model_id": "758a2d411193443fb714a4a2bae51ae7",
       "version_major": 2,
       "version_minor": 0
      },
      "text/plain": [
       "HBox(children=(IntProgress(value=0, description='Running Simulation ', max=500, style=ProgressStyle(descriptio…"
      ]
     },
     "metadata": {},
     "output_type": "display_data"
    },
    {
     "name": "stdout",
     "output_type": "stream",
     "text": [
      "Running Grid Network Regression: 200 nodes\n",
      "Running Random Network Regression: 250 nodes\n"
     ]
    },
    {
     "name": "stderr",
     "output_type": "stream",
     "text": [
      "2020-05-22 13:33:14,390:INFO:First current path [0, 4, 11, 18, 25, 32, 39, 46, 53, 60, 67, 74, 81, 88, 95, 102, 109, 116, 123, 130, 135] formed at time = 0.76 s.\n"
     ]
    },
    {
     "data": {
      "application/vnd.jupyter.widget-view+json": {
       "model_id": "c4948f842c20420f903f38e01bdba508",
       "version_major": 2,
       "version_minor": 0
      },
      "text/plain": [
       "HBox(children=(IntProgress(value=0, description='Running Simulation ', max=500, style=ProgressStyle(descriptio…"
      ]
     },
     "metadata": {},
     "output_type": "display_data"
    },
    {
     "name": "stdout",
     "output_type": "stream",
     "text": [
      "Running Grid Network Regression: 250 nodes\n",
      "Running Grid Network Regression: 288 nodes\n",
      "Running Grid Network Regression: 50 nodes\n",
      "Running Grid Network Regression: 100 nodes\n",
      "Running Grid Network Regression: 150 nodes\n",
      "Running Random Network Regression: 278 nodes\n",
      "Running Grid Network Regression: 200 nodes\n"
     ]
    },
    {
     "name": "stderr",
     "output_type": "stream",
     "text": [
      "2020-05-22 13:33:15,189:INFO:First current path [0, 25, 197, 11] formed at time = 0.75 s.\n"
     ]
    },
    {
     "name": "stdout",
     "output_type": "stream",
     "text": [
      "Running Random Network Regression: 50 nodes\n",
      "Running Random Network Regression: 100 nodes\n",
      "Running Grid Network Regression: 278 nodes\n",
      "Running Random Network Regression: 150 nodes\n",
      "Running Grid Network Regression: 250 nodes\n"
     ]
    },
    {
     "name": "stderr",
     "output_type": "stream",
     "text": [
      "2020-05-22 13:33:15,765:INFO:First current path [53, 104, 214, 70, 242] formed at time = 0.76 s.\n"
     ]
    },
    {
     "name": "stdout",
     "output_type": "stream",
     "text": [
      "Running Random Network Regression: 50 nodes\n",
      "Running Random Network Regression: 200 nodes\n",
      "Running Grid Network Regression: 50 nodes\n",
      "Running Random Network Regression: 100 nodes\n",
      "Running Grid Network Regression: 100 nodes\n",
      "Running Random Network Regression: 150 nodes\n",
      "Running Grid Network Regression: 150 nodes\n",
      "Running Random Network Regression: 250 nodes\n",
      "Running Grid Network Regression: 200 nodes\n",
      "Running Random Network Regression: 200 nodes\n",
      "Running Grid Network Regression: 283 nodes\n",
      "Running Grid Network Regression: 250 nodes\n",
      "Running Random Network Regression: 250 nodes\n",
      "Running Random Network Regression: 289 nodes\n"
     ]
    },
    {
     "data": {
      "application/vnd.jupyter.widget-view+json": {
       "model_id": "d5dc8d91f28d4d45a686773fb0f93326",
       "version_major": 2,
       "version_minor": 0
      },
      "text/plain": [
       "HBox(children=(IntProgress(value=0, description='Running Simulation ', max=500, style=ProgressStyle(descriptio…"
      ]
     },
     "metadata": {},
     "output_type": "display_data"
    },
    {
     "name": "stdout",
     "output_type": "stream",
     "text": [
      "Running Grid Network Regression: 278 nodes\n",
      "Running Random Network Regression: 280 nodes\n"
     ]
    },
    {
     "data": {
      "application/vnd.jupyter.widget-view+json": {
       "model_id": "358cb96113874ff6b24fd09a29b9235a",
       "version_major": 2,
       "version_minor": 0
      },
      "text/plain": [
       "HBox(children=(IntProgress(value=0, description='Running Simulation ', max=500, style=ProgressStyle(descriptio…"
      ]
     },
     "metadata": {},
     "output_type": "display_data"
    },
    {
     "name": "stdout",
     "output_type": "stream",
     "text": [
      "Running Grid Network Regression: 50 nodes\n",
      "Running Grid Network Regression: 100 nodes\n",
      "Running Grid Network Regression: 150 nodes\n"
     ]
    },
    {
     "name": "stderr",
     "output_type": "stream",
     "text": [
      "2020-05-22 13:33:18,492:INFO:First current path [0, 4, 10, 16, 22, 28, 34, 40, 46, 52, 58, 64, 70, 76, 82, 88, 94, 100, 106, 112, 118, 124, 130, 136, 140] formed at time = 0.75 s.\n"
     ]
    },
    {
     "data": {
      "application/vnd.jupyter.widget-view+json": {
       "model_id": "64c45636351c4437854743b8bb0fd0aa",
       "version_major": 2,
       "version_minor": 0
      },
      "text/plain": [
       "HBox(children=(IntProgress(value=0, description='Running Simulation ', max=500, style=ProgressStyle(descriptio…"
      ]
     },
     "metadata": {},
     "output_type": "display_data"
    },
    {
     "name": "stdout",
     "output_type": "stream",
     "text": [
      "Running Grid Network Regression: 200 nodes\n",
      "Running Grid Network Regression: 50 nodes\n",
      "Running Grid Network Regression: 100 nodes\n",
      "Running Grid Network Regression: 150 nodes\n"
     ]
    },
    {
     "name": "stderr",
     "output_type": "stream",
     "text": [
      "2020-05-22 13:33:19,243:INFO:First current path [0, 3, 8, 13, 18, 23, 28, 33, 38, 43, 48, 53, 58, 63, 68, 73, 78, 83, 88, 93, 98, 103, 108, 113, 118, 123, 128, 133, 138, 142] formed at time = 0.76 s.\n"
     ]
    },
    {
     "name": "stdout",
     "output_type": "stream",
     "text": [
      "Running Grid Network Regression: 250 nodes\n"
     ]
    },
    {
     "data": {
      "application/vnd.jupyter.widget-view+json": {
       "model_id": "c3b0d85a3b124d31875fd6f9ffe62e81",
       "version_major": 2,
       "version_minor": 0
      },
      "text/plain": [
       "HBox(children=(IntProgress(value=0, description='Running Simulation ', max=500, style=ProgressStyle(descriptio…"
      ]
     },
     "metadata": {},
     "output_type": "display_data"
    },
    {
     "data": {
      "application/vnd.jupyter.widget-view+json": {
       "model_id": "d199b3c999ab4e7294a33506176a3c72",
       "version_major": 2,
       "version_minor": 0
      },
      "text/plain": [
       "HBox(children=(IntProgress(value=0, description='Running Simulation ', max=500, style=ProgressStyle(descriptio…"
      ]
     },
     "metadata": {},
     "output_type": "display_data"
    },
    {
     "name": "stdout",
     "output_type": "stream",
     "text": [
      "Running Grid Network Regression: 200 nodes\n"
     ]
    },
    {
     "name": "stderr",
     "output_type": "stream",
     "text": [
      "2020-05-22 13:33:19,820:INFO:First current path [3, 41, 182, 139, 120] formed at time = 0.76 s.\n"
     ]
    },
    {
     "name": "stdout",
     "output_type": "stream",
     "text": [
      "Running Random Network Regression: 50 nodes\n",
      "Running Random Network Regression: 100 nodes\n",
      "Running Random Network Regression: 150 nodes\n",
      "Running Grid Network Regression: 250 nodes\n",
      "Running Grid Network Regression: 289 nodes\n",
      "Running Random Network Regression: 200 nodes\n"
     ]
    },
    {
     "name": "stderr",
     "output_type": "stream",
     "text": [
      "2020-05-22 13:33:20,501:INFO:First current path [0, 3, 7, 11, 15, 19, 23, 27, 31, 35, 39, 43, 47, 51, 55, 59, 63, 67, 71, 75, 79, 83, 87, 91, 95, 99, 103, 107, 111, 115, 119, 123, 127, 131, 135, 138] formed at time = 0.75 s.\n"
     ]
    },
    {
     "data": {
      "application/vnd.jupyter.widget-view+json": {
       "model_id": "b5f03b0f8c18465d948591eb4355ec1b",
       "version_major": 2,
       "version_minor": 0
      },
      "text/plain": [
       "HBox(children=(IntProgress(value=0, description='Running Simulation ', max=500, style=ProgressStyle(descriptio…"
      ]
     },
     "metadata": {},
     "output_type": "display_data"
    },
    {
     "name": "stderr",
     "output_type": "stream",
     "text": [
      "2020-05-22 13:33:20,657:INFO:First current path [0, 10, 42, 109, 95] formed at time = 0.76 s.\n"
     ]
    },
    {
     "name": "stdout",
     "output_type": "stream",
     "text": [
      "Running Random Network Regression: 50 nodes\n",
      "Running Random Network Regression: 100 nodes\n",
      "Running Grid Network Regression: 280 nodes\n",
      "Running Random Network Regression: 150 nodes\n",
      "Running Random Network Regression: 250 nodes\n",
      "Running Random Network Regression: 200 nodes\n"
     ]
    },
    {
     "data": {
      "application/vnd.jupyter.widget-view+json": {
       "model_id": "ddc5644f09684aeb89f4920703f40e7b",
       "version_major": 2,
       "version_minor": 0
      },
      "text/plain": [
       "HBox(children=(IntProgress(value=0, description='Running Simulation ', max=500, style=ProgressStyle(descriptio…"
      ]
     },
     "metadata": {},
     "output_type": "display_data"
    },
    {
     "name": "stderr",
     "output_type": "stream",
     "text": [
      "2020-05-22 13:33:21,808:INFO:First current path [59, 49, 9, 151, 166, 174] formed at time = 0.76 s.\n"
     ]
    },
    {
     "name": "stdout",
     "output_type": "stream",
     "text": [
      "Running Random Network Regression: 50 nodes\n",
      "Running Random Network Regression: 250 nodes\n",
      "Running Random Network Regression: 282 nodes\n",
      "Running Random Network Regression: 100 nodes\n",
      "Running Random Network Regression: 150 nodes\n",
      "Running Random Network Regression: 200 nodes\n",
      "Running Random Network Regression: 286 nodes\n"
     ]
    },
    {
     "name": "stderr",
     "output_type": "stream",
     "text": [
      "2020-05-22 13:33:22,696:INFO:First current path [0, 6, 16, 26, 36, 46, 56, 66, 76, 86, 96, 106, 116, 126, 136, 142] formed at time = 0.76 s.\n"
     ]
    },
    {
     "data": {
      "application/vnd.jupyter.widget-view+json": {
       "model_id": "d888b50cd80b4720b333d33808f8b594",
       "version_major": 2,
       "version_minor": 0
      },
      "text/plain": [
       "HBox(children=(IntProgress(value=0, description='Running Simulation ', max=500, style=ProgressStyle(descriptio…"
      ]
     },
     "metadata": {},
     "output_type": "display_data"
    },
    {
     "data": {
      "application/vnd.jupyter.widget-view+json": {
       "model_id": "c5bbdb20c8a343708d4a2f7a73132f80",
       "version_major": 2,
       "version_minor": 0
      },
      "text/plain": [
       "HBox(children=(IntProgress(value=0, description='Running Simulation ', max=500, style=ProgressStyle(descriptio…"
      ]
     },
     "metadata": {},
     "output_type": "display_data"
    },
    {
     "name": "stdout",
     "output_type": "stream",
     "text": [
      "Running Grid Network Regression: 50 nodes\n",
      "Running Random Network Regression: 250 nodes\n",
      "Running Grid Network Regression: 100 nodes\n",
      "Running Grid Network Regression: 150 nodes\n",
      "Running Grid Network Regression: 200 nodes\n",
      "Running Grid Network Regression: 50 nodes\n",
      "Running Grid Network Regression: 100 nodes\n",
      "Running Random Network Regression: 279 nodes\n",
      "Running Grid Network Regression: 150 nodes\n"
     ]
    },
    {
     "name": "stderr",
     "output_type": "stream",
     "text": [
      "2020-05-22 13:33:24,023:INFO:First current path [0, 2, 4, 6, 8, 10, 12, 14, 16, 18, 20, 22, 24, 26, 28, 30, 32, 34, 36, 38, 40, 42, 44, 46, 48, 50, 52, 54, 56, 58, 60, 62, 64, 66, 68, 70, 72, 74, 76, 78, 80, 82, 84, 86, 88, 90, 92, 94, 96, 98, 100, 102, 104, 106, 108, 110, 112, 114, 116, 118, 120, 122, 124, 126, 128, 130, 132, 134, 136, 138, 140, 142] formed at time = 0.75 s.\n"
     ]
    },
    {
     "name": "stdout",
     "output_type": "stream",
     "text": [
      "Running Grid Network Regression: 250 nodes\n"
     ]
    },
    {
     "data": {
      "application/vnd.jupyter.widget-view+json": {
       "model_id": "27a9efeb1f724ca2910827815b837b2f",
       "version_major": 2,
       "version_minor": 0
      },
      "text/plain": [
       "HBox(children=(IntProgress(value=0, description='Running Simulation ', max=500, style=ProgressStyle(descriptio…"
      ]
     },
     "metadata": {},
     "output_type": "display_data"
    },
    {
     "name": "stdout",
     "output_type": "stream",
     "text": [
      "Running Grid Network Regression: 200 nodes\n"
     ]
    },
    {
     "name": "stderr",
     "output_type": "stream",
     "text": [
      "2020-05-22 13:33:24,255:INFO:First current path [0, 46, 29, 5] formed at time = 0.75 s.\n"
     ]
    },
    {
     "name": "stdout",
     "output_type": "stream",
     "text": [
      "Running Random Network Regression: 50 nodes\n",
      "Running Random Network Regression: 100 nodes\n",
      "Running Random Network Regression: 150 nodes\n"
     ]
    },
    {
     "data": {
      "application/vnd.jupyter.widget-view+json": {
       "model_id": "78ee077209174d2f8b5f73a35d2f03df",
       "version_major": 2,
       "version_minor": 0
      },
      "text/plain": [
       "HBox(children=(IntProgress(value=0, description='Running Simulation ', max=500, style=ProgressStyle(descriptio…"
      ]
     },
     "metadata": {},
     "output_type": "display_data"
    },
    {
     "data": {
      "application/vnd.jupyter.widget-view+json": {
       "model_id": "816a488609e94e778abe8191eb3cd129",
       "version_major": 2,
       "version_minor": 0
      },
      "text/plain": [
       "HBox(children=(IntProgress(value=0, description='Running Simulation ', max=500, style=ProgressStyle(descriptio…"
      ]
     },
     "metadata": {},
     "output_type": "display_data"
    },
    {
     "name": "stdout",
     "output_type": "stream",
     "text": [
      "Running Grid Network Regression: 250 nodes\n",
      "Running Grid Network Regression: 50 nodes\n",
      "Running Grid Network Regression: 282 nodes\n",
      "Running Random Network Regression: 200 nodes\n",
      "Running Grid Network Regression: 100 nodes\n",
      "Running Grid Network Regression: 150 nodes\n"
     ]
    },
    {
     "name": "stderr",
     "output_type": "stream",
     "text": [
      "2020-05-22 13:33:25,314:INFO:First current path [1, 164, 131, 51, 236, 250, 259, 193] formed at time = 0.76 s.\n"
     ]
    },
    {
     "name": "stdout",
     "output_type": "stream",
     "text": [
      "Running Random Network Regression: 50 nodes\n",
      "Running Grid Network Regression: 200 nodes\n",
      "Running Random Network Regression: 100 nodes\n",
      "Running Random Network Regression: 250 nodes\n",
      "Running Grid Network Regression: 286 nodes\n",
      "Running Random Network Regression: 150 nodes\n"
     ]
    },
    {
     "name": "stderr",
     "output_type": "stream",
     "text": [
      "2020-05-22 13:33:25,681:INFO:First current path [0, 2, 4, 6, 8, 10, 12, 14, 16, 18, 20, 22, 24, 26, 28, 30, 32, 34, 36, 38, 40, 42, 44, 46, 48, 50, 52, 54, 56, 58, 60, 62, 64, 66, 68, 70, 72, 74, 76, 78, 80, 82, 84, 86, 88, 90, 92, 94, 96, 98, 100, 102, 104, 106, 108, 110, 112, 114, 116, 118, 120, 122, 124, 126, 128, 130, 132, 134, 136, 138, 140, 142] formed at time = 0.75 s.\n"
     ]
    },
    {
     "data": {
      "application/vnd.jupyter.widget-view+json": {
       "model_id": "1640a052fa3c4dd397f2e1360a91046e",
       "version_major": 2,
       "version_minor": 0
      },
      "text/plain": [
       "HBox(children=(IntProgress(value=0, description='Running Simulation ', max=500, style=ProgressStyle(descriptio…"
      ]
     },
     "metadata": {},
     "output_type": "display_data"
    },
    {
     "name": "stderr",
     "output_type": "stream",
     "text": [
      "2020-05-22 13:33:25,835:INFO:First current path [0, 2, 5, 8, 11, 14, 17, 20, 23, 26, 29, 32, 35, 38, 41, 44, 47, 50, 53, 56, 59, 62, 65, 68, 71, 74, 77, 80, 83, 86, 89, 92, 95, 98, 101, 104, 107, 110, 113, 116, 119, 122, 125, 128, 131, 134, 137, 140] formed at time = 0.76 s.\n"
     ]
    },
    {
     "name": "stdout",
     "output_type": "stream",
     "text": [
      "Running Grid Network Regression: 250 nodes\n",
      "Running Random Network Regression: 200 nodes\n"
     ]
    },
    {
     "data": {
      "application/vnd.jupyter.widget-view+json": {
       "model_id": "d3b1391c4940424fade50cd68ff79979",
       "version_major": 2,
       "version_minor": 0
      },
      "text/plain": [
       "HBox(children=(IntProgress(value=0, description='Running Simulation ', max=500, style=ProgressStyle(descriptio…"
      ]
     },
     "metadata": {},
     "output_type": "display_data"
    },
    {
     "data": {
      "application/vnd.jupyter.widget-view+json": {
       "model_id": "f3df85bc19894d7c879716a1db240669",
       "version_major": 2,
       "version_minor": 0
      },
      "text/plain": [
       "HBox(children=(IntProgress(value=0, description='Running Simulation ', max=500, style=ProgressStyle(descriptio…"
      ]
     },
     "metadata": {},
     "output_type": "display_data"
    },
    {
     "name": "stdout",
     "output_type": "stream",
     "text": [
      "Running Random Network Regression: 285 nodes\n",
      "Running Random Network Regression: 250 nodes\n",
      "Running Grid Network Regression: 279 nodes\n"
     ]
    },
    {
     "name": "stderr",
     "output_type": "stream",
     "text": [
      "2020-05-22 13:33:26,992:INFO:First current path [5, 263, 42, 51, 12, 107, 259, 82] formed at time = 0.76 s.\n"
     ]
    },
    {
     "name": "stdout",
     "output_type": "stream",
     "text": [
      "Running Random Network Regression: 50 nodes\n",
      "Running Random Network Regression: 100 nodes\n"
     ]
    },
    {
     "name": "stderr",
     "output_type": "stream",
     "text": [
      "2020-05-22 13:33:27,078:INFO:First current path [0, 125, 25, 179, 107, 140] formed at time = 0.76 s.\n"
     ]
    },
    {
     "name": "stdout",
     "output_type": "stream",
     "text": [
      "Running Random Network Regression: 50 nodes\n",
      "Running Random Network Regression: 100 nodes\n",
      "Running Random Network Regression: 285 nodes\n",
      "Running Random Network Regression: 150 nodes\n",
      "Running Grid Network Regression: 50 nodes\n"
     ]
    },
    {
     "name": "stderr",
     "output_type": "stream",
     "text": [
      "2020-05-22 13:33:27,322:INFO:First current path [0, 2, 5, 8, 11, 14, 17, 20, 23, 26, 29, 32, 35, 38, 41, 44, 47, 50, 53, 56, 59, 62, 65, 68, 71, 74, 77, 80, 83, 86, 89, 92, 95, 98, 101, 104, 107, 110, 113, 116, 119, 122, 125, 128, 131, 134, 137, 140] formed at time = 0.76 s.\n"
     ]
    },
    {
     "name": "stdout",
     "output_type": "stream",
     "text": [
      "Running Random Network Regression: 150 nodes\n",
      "Running Grid Network Regression: 100 nodes\n"
     ]
    },
    {
     "data": {
      "application/vnd.jupyter.widget-view+json": {
       "model_id": "1174198b923f4622b60d37bc4088af3b",
       "version_major": 2,
       "version_minor": 0
      },
      "text/plain": [
       "HBox(children=(IntProgress(value=0, description='Running Simulation ', max=500, style=ProgressStyle(descriptio…"
      ]
     },
     "metadata": {},
     "output_type": "display_data"
    },
    {
     "data": {
      "application/vnd.jupyter.widget-view+json": {
       "model_id": "9cf9b75eb2964f5caec73b25afd1df5f",
       "version_major": 2,
       "version_minor": 0
      },
      "text/plain": [
       "HBox(children=(IntProgress(value=0, description='Running Simulation ', max=500, style=ProgressStyle(descriptio…"
      ]
     },
     "metadata": {},
     "output_type": "display_data"
    },
    {
     "name": "stdout",
     "output_type": "stream",
     "text": [
      "Running Grid Network Regression: 150 nodes\n",
      "Running Random Network Regression: 200 nodes\n",
      "Running Random Network Regression: 200 nodes\n",
      "Running Grid Network Regression: 200 nodes\n",
      "Running Random Network Regression: 250 nodes\n",
      "Running Random Network Regression: 250 nodes\n",
      "Running Grid Network Regression: 50 nodes\n",
      "Running Grid Network Regression: 100 nodes\n",
      "Running Grid Network Regression: 250 nodes\n"
     ]
    },
    {
     "name": "stderr",
     "output_type": "stream",
     "text": [
      "2020-05-22 13:33:28,535:INFO:First current path [0, 2, 5, 8, 11, 14, 17, 20, 23, 26, 29, 32, 35, 38, 41, 44, 47, 50, 53, 56, 59, 62, 65, 68, 71, 74, 77, 80, 83, 86, 89, 92, 95, 98, 101, 104, 107, 110, 113, 116, 119, 122, 125, 128, 131, 134, 137, 140] formed at time = 0.76 s.\n"
     ]
    },
    {
     "name": "stdout",
     "output_type": "stream",
     "text": [
      "Running Grid Network Regression: 150 nodes\n"
     ]
    },
    {
     "name": "stderr",
     "output_type": "stream",
     "text": [
      "2020-05-22 13:33:28,569:INFO:First current path [246, 55, 126, 214, 78, 208, 243] formed at time = 0.77 s.\n"
     ]
    },
    {
     "name": "stdout",
     "output_type": "stream",
     "text": [
      "Running Random Network Regression: 50 nodes\n",
      "Running Random Network Regression: 100 nodes\n"
     ]
    },
    {
     "data": {
      "application/vnd.jupyter.widget-view+json": {
       "model_id": "ce1a441aeb864f2892bb718ec6359e41",
       "version_major": 2,
       "version_minor": 0
      },
      "text/plain": [
       "HBox(children=(IntProgress(value=0, description='Running Simulation ', max=500, style=ProgressStyle(descriptio…"
      ]
     },
     "metadata": {},
     "output_type": "display_data"
    },
    {
     "data": {
      "application/vnd.jupyter.widget-view+json": {
       "model_id": "f55f22094d084359bc06245c4dddc4f1",
       "version_major": 2,
       "version_minor": 0
      },
      "text/plain": [
       "HBox(children=(IntProgress(value=0, description='Running Simulation ', max=500, style=ProgressStyle(descriptio…"
      ]
     },
     "metadata": {},
     "output_type": "display_data"
    },
    {
     "name": "stdout",
     "output_type": "stream",
     "text": [
      "Running Random Network Regression: 150 nodes\n",
      "Running Grid Network Regression: 200 nodes\n",
      "Running Random Network Regression: 285 nodes\n",
      "Running Random Network Regression: 280 nodes\n",
      "Running Random Network Regression: 200 nodes\n",
      "Running Grid Network Regression: 285 nodes\n",
      "Running Grid Network Regression: 250 nodes\n",
      "Running Random Network Regression: 250 nodes\n"
     ]
    },
    {
     "name": "stderr",
     "output_type": "stream",
     "text": [
      "2020-05-22 13:33:29,826:INFO:First current path [0, 47, 38, 201, 6, 34] formed at time = 0.75 s.\n"
     ]
    },
    {
     "name": "stdout",
     "output_type": "stream",
     "text": [
      "Running Random Network Regression: 50 nodes\n",
      "Running Random Network Regression: 100 nodes\n"
     ]
    },
    {
     "name": "stderr",
     "output_type": "stream",
     "text": [
      "2020-05-22 13:33:29,975:INFO:First current path [0, 2, 5, 8, 11, 14, 17, 20, 23, 26, 29, 32, 35, 38, 41, 44, 47, 50, 53, 56, 59, 62, 65, 68, 71, 74, 77, 80, 83, 86, 89, 92, 95, 98, 101, 104, 107, 110, 113, 116, 119, 122, 125, 128, 131, 134, 137, 140] formed at time = 0.76 s.\n"
     ]
    },
    {
     "name": "stdout",
     "output_type": "stream",
     "text": [
      "Running Grid Network Regression: 50 nodes\n",
      "Running Grid Network Regression: 50 nodes\n",
      "Running Grid Network Regression: 100 nodes\n",
      "Running Grid Network Regression: 100 nodes\n"
     ]
    },
    {
     "data": {
      "application/vnd.jupyter.widget-view+json": {
       "model_id": "2b3f43940ba54f5aad697fb8f5d8558f",
       "version_major": 2,
       "version_minor": 0
      },
      "text/plain": [
       "HBox(children=(IntProgress(value=0, description='Running Simulation ', max=500, style=ProgressStyle(descriptio…"
      ]
     },
     "metadata": {},
     "output_type": "display_data"
    },
    {
     "name": "stdout",
     "output_type": "stream",
     "text": [
      "Running Random Network Regression: 150 nodes\n",
      "Running Grid Network Regression: 285 nodes\n",
      "Running Grid Network Regression: 150 nodes\n",
      "Running Grid Network Regression: 150 nodes\n",
      "Running Random Network Regression: 200 nodes\n",
      "Running Grid Network Regression: 200 nodes\n",
      "Running Random Network Regression: 282 nodes\n",
      "Running Grid Network Regression: 200 nodes\n",
      "Running Random Network Regression: 250 nodes\n",
      "Running Grid Network Regression: 250 nodes\n",
      "Running Grid Network Regression: 250 nodes\n"
     ]
    },
    {
     "name": "stderr",
     "output_type": "stream",
     "text": [
      "2020-05-22 13:33:31,264:INFO:First current path [0, 278, 103, 80, 110, 212] formed at time = 0.75 s.\n"
     ]
    },
    {
     "name": "stdout",
     "output_type": "stream",
     "text": [
      "Running Random Network Regression: 50 nodes\n",
      "Running Random Network Regression: 100 nodes\n"
     ]
    },
    {
     "data": {
      "application/vnd.jupyter.widget-view+json": {
       "model_id": "706b0f4ec0a1448ab983dd64f3084bcf",
       "version_major": 2,
       "version_minor": 0
      },
      "text/plain": [
       "HBox(children=(IntProgress(value=0, description='Running Simulation ', max=500, style=ProgressStyle(descriptio…"
      ]
     },
     "metadata": {},
     "output_type": "display_data"
    },
    {
     "name": "stdout",
     "output_type": "stream",
     "text": [
      "Running Random Network Regression: 150 nodes\n",
      "Running Grid Network Regression: 50 nodes\n",
      "Running Grid Network Regression: 100 nodes\n",
      "Running Grid Network Regression: 280 nodes\n",
      "Running Random Network Regression: 280 nodes\n",
      "Running Grid Network Regression: 150 nodes\n",
      "Running Random Network Regression: 200 nodes\n",
      "Running Grid Network Regression: 285 nodes\n",
      "Running Grid Network Regression: 200 nodes\n"
     ]
    },
    {
     "data": {
      "application/vnd.jupyter.widget-view+json": {
       "model_id": "465d7804e33e434c85408a55cc82ce7a",
       "version_major": 2,
       "version_minor": 0
      },
      "text/plain": [
       "HBox(children=(IntProgress(value=0, description='Running Simulation ', max=500, style=ProgressStyle(descriptio…"
      ]
     },
     "metadata": {},
     "output_type": "display_data"
    },
    {
     "name": "stdout",
     "output_type": "stream",
     "text": [
      "Running Random Network Regression: 250 nodes\n"
     ]
    },
    {
     "name": "stderr",
     "output_type": "stream",
     "text": [
      "2020-05-22 13:33:32,562:INFO:First current path [0, 2, 4, 6, 8, 10, 12, 14, 16, 18, 20, 22, 24, 26, 28, 30, 32, 34, 36, 38, 40, 42, 44, 46, 48, 50, 52, 54, 56, 58, 60, 62, 64, 66, 68, 70, 72, 74, 76, 78, 80, 82, 84, 86, 88, 90, 92, 94, 96, 98, 100, 102, 104, 106, 108, 110, 112, 114, 116, 118, 120, 122, 124, 126, 128, 130, 132, 134, 136, 138, 140] formed at time = 0.75 s.\n"
     ]
    },
    {
     "name": "stdout",
     "output_type": "stream",
     "text": [
      "Running Grid Network Regression: 250 nodes\n"
     ]
    },
    {
     "data": {
      "application/vnd.jupyter.widget-view+json": {
       "model_id": "5de6ae9055e14aafbdcb2566d122a515",
       "version_major": 2,
       "version_minor": 0
      },
      "text/plain": [
       "HBox(children=(IntProgress(value=0, description='Running Simulation ', max=500, style=ProgressStyle(descriptio…"
      ]
     },
     "metadata": {},
     "output_type": "display_data"
    },
    {
     "name": "stdout",
     "output_type": "stream",
     "text": [
      "Running Grid Network Regression: 50 nodes\n",
      "Running Grid Network Regression: 100 nodes\n",
      "Running Grid Network Regression: 150 nodes\n",
      "Running Random Network Regression: 283 nodes\n"
     ]
    },
    {
     "data": {
      "application/vnd.jupyter.widget-view+json": {
       "model_id": "d35ae089148d4cdea71138f1c19bb23f",
       "version_major": 2,
       "version_minor": 0
      },
      "text/plain": [
       "HBox(children=(IntProgress(value=0, description='Running Simulation ', max=500, style=ProgressStyle(descriptio…"
      ]
     },
     "metadata": {},
     "output_type": "display_data"
    },
    {
     "name": "stdout",
     "output_type": "stream",
     "text": [
      "Running Grid Network Regression: 200 nodes\n",
      "Running Grid Network Regression: 282 nodes\n"
     ]
    },
    {
     "name": "stderr",
     "output_type": "stream",
     "text": [
      "2020-05-22 13:33:33,444:INFO:First current path [1, 0, 276, 274, 272, 270, 268, 266, 264, 262, 260, 258, 256, 254, 252, 250, 248, 246, 244, 242, 240, 238, 236, 234, 232, 230, 228, 226, 224, 222, 220, 218, 216, 214, 212, 210, 208, 206, 204, 202, 200, 198, 196, 194, 192, 190, 188, 186, 184, 182, 180, 178, 176, 174, 172, 170, 168, 166, 164, 162, 160, 158, 156, 154, 152, 150, 148, 146, 144, 142, 140] formed at time = 0.76 s.\n"
     ]
    },
    {
     "data": {
      "application/vnd.jupyter.widget-view+json": {
       "model_id": "abf03cecf19f42c8a13037ccacdc402b",
       "version_major": 2,
       "version_minor": 0
      },
      "text/plain": [
       "HBox(children=(IntProgress(value=0, description='Running Simulation ', max=500, style=ProgressStyle(descriptio…"
      ]
     },
     "metadata": {},
     "output_type": "display_data"
    },
    {
     "name": "stdout",
     "output_type": "stream",
     "text": [
      "Running Grid Network Regression: 250 nodes\n"
     ]
    },
    {
     "name": "stderr",
     "output_type": "stream",
     "text": [
      "2020-05-22 13:33:33,768:INFO:First current path [6, 4, 176, 100, 27, 150, 182, 46] formed at time = 0.76 s.\n"
     ]
    },
    {
     "name": "stdout",
     "output_type": "stream",
     "text": [
      "Running Random Network Regression: 50 nodes\n",
      "Running Random Network Regression: 100 nodes\n",
      "Running Random Network Regression: 150 nodes\n",
      "Running Grid Network Regression: 50 nodes\n",
      "Running Grid Network Regression: 100 nodes\n",
      "Running Grid Network Regression: 150 nodes\n",
      "Running Random Network Regression: 200 nodes\n",
      "Running Grid Network Regression: 280 nodes\n"
     ]
    },
    {
     "data": {
      "application/vnd.jupyter.widget-view+json": {
       "model_id": "50bd70bc8d3a4a49b3d538fbecc18a40",
       "version_major": 2,
       "version_minor": 0
      },
      "text/plain": [
       "HBox(children=(IntProgress(value=0, description='Running Simulation ', max=500, style=ProgressStyle(descriptio…"
      ]
     },
     "metadata": {},
     "output_type": "display_data"
    },
    {
     "name": "stderr",
     "output_type": "stream",
     "text": [
      "2020-05-22 13:33:34,640:INFO:First current path [0, 1, 141, 178, 62, 34, 174, 100] formed at time = 0.76 s.\n"
     ]
    },
    {
     "name": "stdout",
     "output_type": "stream",
     "text": [
      "Running Random Network Regression: 50 nodes\n",
      "Running Grid Network Regression: 200 nodes\n",
      "Running Random Network Regression: 100 nodes\n",
      "Running Random Network Regression: 250 nodes\n"
     ]
    },
    {
     "name": "stderr",
     "output_type": "stream",
     "text": [
      "2020-05-22 13:33:34,878:INFO:First current path [0, 2, 4, 6, 8, 10, 12, 14, 16, 18, 20, 22, 24, 26, 28, 30, 32, 34, 36, 38, 40, 42, 44, 46, 48, 50, 52, 54, 56, 58, 60, 62, 64, 66, 68, 70, 72, 74, 76, 78, 80, 82, 84, 86, 88, 90, 92, 94, 96, 98, 100, 102, 104, 106, 108, 110, 112, 114, 116, 118, 120, 122, 124, 126, 128, 130, 132, 134, 136, 138, 140] formed at time = 0.75 s.\n"
     ]
    },
    {
     "name": "stdout",
     "output_type": "stream",
     "text": [
      "Running Random Network Regression: 150 nodes\n"
     ]
    },
    {
     "data": {
      "application/vnd.jupyter.widget-view+json": {
       "model_id": "7398a3359ef342128c089498235981d3",
       "version_major": 2,
       "version_minor": 0
      },
      "text/plain": [
       "HBox(children=(IntProgress(value=0, description='Running Simulation ', max=500, style=ProgressStyle(descriptio…"
      ]
     },
     "metadata": {},
     "output_type": "display_data"
    },
    {
     "name": "stdout",
     "output_type": "stream",
     "text": [
      "Running Grid Network Regression: 250 nodes\n",
      "Running Random Network Regression: 200 nodes\n"
     ]
    },
    {
     "data": {
      "application/vnd.jupyter.widget-view+json": {
       "model_id": "f15f091d1cc04210a704c2c84eebf302",
       "version_major": 2,
       "version_minor": 0
      },
      "text/plain": [
       "HBox(children=(IntProgress(value=0, description='Running Simulation ', max=500, style=ProgressStyle(descriptio…"
      ]
     },
     "metadata": {},
     "output_type": "display_data"
    },
    {
     "name": "stdout",
     "output_type": "stream",
     "text": [
      "Running Random Network Regression: 280 nodes\n"
     ]
    },
    {
     "name": "stderr",
     "output_type": "stream",
     "text": [
      "2020-05-22 13:33:35,710:INFO:First current path [0, 2, 4, 6, 8, 10, 12, 14, 16, 18, 20, 22, 24, 26, 28, 30, 32, 34, 36, 38, 40, 42, 44, 46, 48, 50, 52, 54, 56, 58, 60, 62, 64, 66, 68, 70, 72, 74, 76, 78, 80, 82, 84, 86, 88, 90, 92, 94, 96, 98, 100, 102, 104, 106, 108, 110, 112, 114, 116, 118, 120, 122, 124, 126, 128, 130, 132, 134, 136, 138, 140] formed at time = 0.75 s.\n"
     ]
    },
    {
     "name": "stdout",
     "output_type": "stream",
     "text": [
      "Running Random Network Regression: 250 nodes\n"
     ]
    },
    {
     "data": {
      "application/vnd.jupyter.widget-view+json": {
       "model_id": "799ae9d7a97741d1b842efc338ce55a5",
       "version_major": 2,
       "version_minor": 0
      },
      "text/plain": [
       "HBox(children=(IntProgress(value=0, description='Running Simulation ', max=500, style=ProgressStyle(descriptio…"
      ]
     },
     "metadata": {},
     "output_type": "display_data"
    },
    {
     "name": "stdout",
     "output_type": "stream",
     "text": [
      "Running Grid Network Regression: 283 nodes\n"
     ]
    },
    {
     "name": "stderr",
     "output_type": "stream",
     "text": [
      "2020-05-22 13:33:36,118:INFO:First current path [4, 184, 166, 226, 248, 110, 81, 11] formed at time = 0.75 s.\n"
     ]
    },
    {
     "name": "stdout",
     "output_type": "stream",
     "text": [
      "Running Random Network Regression: 50 nodes\n",
      "Running Random Network Regression: 100 nodes\n",
      "Running Random Network Regression: 150 nodes\n",
      "Running Random Network Regression: 278 nodes\n",
      "Running Grid Network Regression: 50 nodes\n"
     ]
    },
    {
     "name": "stderr",
     "output_type": "stream",
     "text": [
      "2020-05-22 13:33:36,581:INFO:First current path [0, 3, 7, 11, 15, 19, 23, 27, 31, 35, 39, 43, 47, 51, 55, 59, 63, 67, 71, 75, 79, 83, 87, 91, 95, 99, 103, 107, 111, 115, 119, 123, 127, 131, 135, 139, 143, 146] formed at time = 0.75 s.\n"
     ]
    },
    {
     "name": "stdout",
     "output_type": "stream",
     "text": [
      "Running Grid Network Regression: 100 nodes\n",
      "Running Random Network Regression: 200 nodes\n"
     ]
    },
    {
     "data": {
      "application/vnd.jupyter.widget-view+json": {
       "model_id": "2572acc4e6844f319aa49b481248c5e6",
       "version_major": 2,
       "version_minor": 0
      },
      "text/plain": [
       "HBox(children=(IntProgress(value=0, description='Running Simulation ', max=500, style=ProgressStyle(descriptio…"
      ]
     },
     "metadata": {},
     "output_type": "display_data"
    },
    {
     "name": "stdout",
     "output_type": "stream",
     "text": [
      "Running Grid Network Regression: 150 nodes\n"
     ]
    },
    {
     "name": "stderr",
     "output_type": "stream",
     "text": [
      "2020-05-22 13:33:36,941:INFO:First current path [169, 176, 190, 229, 118, 22, 150, 70, 127] formed at time = 0.76 s.\n"
     ]
    },
    {
     "name": "stdout",
     "output_type": "stream",
     "text": [
      "Running Random Network Regression: 50 nodes\n",
      "Running Random Network Regression: 100 nodes\n",
      "Running Grid Network Regression: 200 nodes\n",
      "Running Random Network Regression: 250 nodes\n",
      "Running Random Network Regression: 150 nodes\n",
      "Running Grid Network Regression: 50 nodes\n",
      "Running Grid Network Regression: 100 nodes\n",
      "Running Random Network Regression: 200 nodes\n",
      "Running Grid Network Regression: 250 nodes\n",
      "Running Grid Network Regression: 150 nodes\n",
      "Running Grid Network Regression: 200 nodes\n",
      "Running Random Network Regression: 279 nodes\n"
     ]
    },
    {
     "data": {
      "application/vnd.jupyter.widget-view+json": {
       "model_id": "b948f4098cc5476a99e16de6ca032cad",
       "version_major": 2,
       "version_minor": 0
      },
      "text/plain": [
       "HBox(children=(IntProgress(value=0, description='Running Simulation ', max=500, style=ProgressStyle(descriptio…"
      ]
     },
     "metadata": {},
     "output_type": "display_data"
    },
    {
     "data": {
      "application/vnd.jupyter.widget-view+json": {
       "model_id": "79ac356001524658b7881348020f9f57",
       "version_major": 2,
       "version_minor": 0
      },
      "text/plain": [
       "HBox(children=(IntProgress(value=0, description='Running Simulation ', max=500, style=ProgressStyle(descriptio…"
      ]
     },
     "metadata": {},
     "output_type": "display_data"
    },
    {
     "name": "stderr",
     "output_type": "stream",
     "text": [
      "2020-05-22 13:33:38,084:INFO:First current path [80, 110, 15, 81, 251, 215] formed at time = 0.77 s.\n"
     ]
    },
    {
     "name": "stdout",
     "output_type": "stream",
     "text": [
      "Running Random Network Regression: 50 nodes\n",
      "Running Random Network Regression: 250 nodes\n",
      "Running Random Network Regression: 100 nodes\n",
      "Running Grid Network Regression: 280 nodes\n",
      "Running Random Network Regression: 150 nodes\n",
      "Running Grid Network Regression: 250 nodes\n",
      "Running Random Network Regression: 200 nodes\n",
      "Running Random Network Regression: 280 nodes\n",
      "Running Grid Network Regression: 50 nodes\n",
      "Running Grid Network Regression: 100 nodes\n"
     ]
    },
    {
     "name": "stderr",
     "output_type": "stream",
     "text": [
      "2020-05-22 13:33:39,194:INFO:First current path [0, 3, 7, 11, 15, 19, 23, 27, 31, 35, 39, 43, 47, 51, 55, 59, 63, 67, 71, 75, 79, 83, 87, 91, 95, 99, 103, 107, 111, 115, 119, 123, 127, 131, 135, 138] formed at time = 0.75 s.\n"
     ]
    },
    {
     "name": "stdout",
     "output_type": "stream",
     "text": [
      "Running Grid Network Regression: 150 nodes\n",
      "Running Grid Network Regression: 278 nodes\n",
      "Running Random Network Regression: 250 nodes\n"
     ]
    },
    {
     "data": {
      "application/vnd.jupyter.widget-view+json": {
       "model_id": "d6ab9a0890b04f019077b82b633e428c",
       "version_major": 2,
       "version_minor": 0
      },
      "text/plain": [
       "HBox(children=(IntProgress(value=0, description='Running Simulation ', max=500, style=ProgressStyle(descriptio…"
      ]
     },
     "metadata": {},
     "output_type": "display_data"
    },
    {
     "name": "stderr",
     "output_type": "stream",
     "text": [
      "2020-05-22 13:33:39,395:INFO:First current path [0, 3, 7, 11, 15, 19, 23, 27, 31, 35, 39, 43, 47, 51, 55, 59, 63, 67, 71, 75, 79, 83, 87, 91, 95, 99, 103, 107, 111, 115, 119, 123, 127, 131, 135, 139, 143, 146] formed at time = 0.75 s.\n"
     ]
    },
    {
     "data": {
      "application/vnd.jupyter.widget-view+json": {
       "model_id": "8e5a83ee5f5f4c6d898ba9d9102c8d10",
       "version_major": 2,
       "version_minor": 0
      },
      "text/plain": [
       "HBox(children=(IntProgress(value=0, description='Running Simulation ', max=500, style=ProgressStyle(descriptio…"
      ]
     },
     "metadata": {},
     "output_type": "display_data"
    },
    {
     "name": "stdout",
     "output_type": "stream",
     "text": [
      "Running Grid Network Regression: 200 nodes\n",
      "Running Grid Network Regression: 50 nodes\n",
      "Running Grid Network Regression: 100 nodes\n",
      "Running Random Network Regression: 293 nodes\n",
      "Running Grid Network Regression: 250 nodes\n",
      "Running Grid Network Regression: 150 nodes\n",
      "Running Grid Network Regression: 200 nodes\n"
     ]
    },
    {
     "name": "stderr",
     "output_type": "stream",
     "text": [
      "2020-05-22 13:33:40,498:INFO:First current path [75, 16, 21, 77, 204, 4] formed at time = 0.77 s.\n"
     ]
    },
    {
     "name": "stdout",
     "output_type": "stream",
     "text": [
      "Running Random Network Regression: 50 nodes\n",
      "Running Random Network Regression: 100 nodes\n"
     ]
    },
    {
     "data": {
      "application/vnd.jupyter.widget-view+json": {
       "model_id": "497e1178f8eb498980af81dc9863d029",
       "version_major": 2,
       "version_minor": 0
      },
      "text/plain": [
       "HBox(children=(IntProgress(value=0, description='Running Simulation ', max=500, style=ProgressStyle(descriptio…"
      ]
     },
     "metadata": {},
     "output_type": "display_data"
    },
    {
     "name": "stdout",
     "output_type": "stream",
     "text": [
      "Running Random Network Regression: 150 nodes\n",
      "Running Grid Network Regression: 279 nodes\n"
     ]
    },
    {
     "name": "stderr",
     "output_type": "stream",
     "text": [
      "2020-05-22 13:33:40,858:INFO:First current path [45, 119, 13, 252, 27, 242] formed at time = 0.76 s.\n"
     ]
    },
    {
     "name": "stdout",
     "output_type": "stream",
     "text": [
      "Running Random Network Regression: 50 nodes\n",
      "Running Random Network Regression: 100 nodes\n",
      "Running Grid Network Regression: 250 nodes\n",
      "Running Grid Network Regression: 50 nodes\n",
      "Running Random Network Regression: 200 nodes\n",
      "Running Random Network Regression: 150 nodes\n",
      "Running Grid Network Regression: 100 nodes\n",
      "Running Grid Network Regression: 150 nodes\n",
      "Running Random Network Regression: 200 nodes\n",
      "Running Random Network Regression: 250 nodes\n",
      "Running Grid Network Regression: 280 nodes\n",
      "Running Grid Network Regression: 200 nodes\n"
     ]
    },
    {
     "name": "stderr",
     "output_type": "stream",
     "text": [
      "2020-05-22 13:33:41,852:INFO:First current path [0, 2, 5, 8, 11, 14, 17, 20, 23, 26, 29, 32, 35, 38, 41, 44, 47, 50, 53, 56, 59, 62, 65, 68, 71, 74, 77, 80, 83, 86, 89, 92, 95, 98, 101, 104, 107, 110, 113, 116, 119, 122, 125, 128, 131, 134, 137, 140, 143] formed at time = 0.76 s.\n"
     ]
    },
    {
     "data": {
      "application/vnd.jupyter.widget-view+json": {
       "model_id": "09ef4d56d7a345f98aef9d09b56fb604",
       "version_major": 2,
       "version_minor": 0
      },
      "text/plain": [
       "HBox(children=(IntProgress(value=0, description='Running Simulation ', max=500, style=ProgressStyle(descriptio…"
      ]
     },
     "metadata": {},
     "output_type": "display_data"
    },
    {
     "name": "stdout",
     "output_type": "stream",
     "text": [
      "Running Random Network Regression: 250 nodes\n"
     ]
    },
    {
     "data": {
      "application/vnd.jupyter.widget-view+json": {
       "model_id": "d17ea67873ec4091a589796303f85052",
       "version_major": 2,
       "version_minor": 0
      },
      "text/plain": [
       "HBox(children=(IntProgress(value=0, description='Running Simulation ', max=500, style=ProgressStyle(descriptio…"
      ]
     },
     "metadata": {},
     "output_type": "display_data"
    },
    {
     "name": "stdout",
     "output_type": "stream",
     "text": [
      "Running Grid Network Regression: 250 nodes\n",
      "Running Random Network Regression: 280 nodes\n"
     ]
    },
    {
     "data": {
      "application/vnd.jupyter.widget-view+json": {
       "model_id": "dba580a6fd5e461aa71078d6968aa78e",
       "version_major": 2,
       "version_minor": 0
      },
      "text/plain": [
       "HBox(children=(IntProgress(value=0, description='Running Simulation ', max=500, style=ProgressStyle(descriptio…"
      ]
     },
     "metadata": {},
     "output_type": "display_data"
    },
    {
     "name": "stdout",
     "output_type": "stream",
     "text": [
      "Running Random Network Regression: 297 nodes\n",
      "Running Grid Network Regression: 293 nodes\n"
     ]
    },
    {
     "name": "stderr",
     "output_type": "stream",
     "text": [
      "2020-05-22 13:33:43,196:INFO:First current path [0, 152, 96, 117, 172, 165] formed at time = 0.75 s.\n"
     ]
    },
    {
     "name": "stdout",
     "output_type": "stream",
     "text": [
      "Running Random Network Regression: 50 nodes\n",
      "Running Random Network Regression: 100 nodes\n"
     ]
    },
    {
     "name": "stderr",
     "output_type": "stream",
     "text": [
      "2020-05-22 13:33:43,335:INFO:First current path [0, 3, 7, 11, 15, 19, 23, 27, 31, 35, 39, 43, 47, 51, 55, 59, 63, 67, 71, 75, 79, 83, 87, 91, 95, 99, 103, 107, 111, 115, 119, 123, 127, 131, 135, 139, 143, 146] formed at time = 0.75 s.\n"
     ]
    },
    {
     "name": "stdout",
     "output_type": "stream",
     "text": [
      "Running Random Network Regression: 150 nodes\n"
     ]
    },
    {
     "data": {
      "application/vnd.jupyter.widget-view+json": {
       "model_id": "5d02c4a5d2c34cad9e14898b06c9682e",
       "version_major": 2,
       "version_minor": 0
      },
      "text/plain": [
       "HBox(children=(IntProgress(value=0, description='Running Simulation ', max=500, style=ProgressStyle(descriptio…"
      ]
     },
     "metadata": {},
     "output_type": "display_data"
    },
    {
     "name": "stdout",
     "output_type": "stream",
     "text": [
      "Running Grid Network Regression: 50 nodes\n",
      "Running Grid Network Regression: 100 nodes\n",
      "Running Grid Network Regression: 150 nodes\n",
      "Running Random Network Regression: 200 nodes\n",
      "Running Grid Network Regression: 50 nodes\n",
      "Running Grid Network Regression: 100 nodes\n"
     ]
    },
    {
     "data": {
      "application/vnd.jupyter.widget-view+json": {
       "model_id": "1915cbc32c37449791a3c4af1158c6b4",
       "version_major": 2,
       "version_minor": 0
      },
      "text/plain": [
       "HBox(children=(IntProgress(value=0, description='Running Simulation ', max=500, style=ProgressStyle(descriptio…"
      ]
     },
     "metadata": {},
     "output_type": "display_data"
    },
    {
     "name": "stdout",
     "output_type": "stream",
     "text": [
      "Running Grid Network Regression: 200 nodes\n",
      "Running Grid Network Regression: 150 nodes\n",
      "Running Random Network Regression: 250 nodes\n",
      "Running Grid Network Regression: 200 nodes\n"
     ]
    },
    {
     "name": "stderr",
     "output_type": "stream",
     "text": [
      "2020-05-22 13:33:44,494:INFO:First current path [0, 3, 7, 11, 15, 19, 23, 27, 31, 35, 39, 43, 47, 51, 55, 59, 63, 67, 71, 75, 79, 83, 87, 91, 95, 99, 103, 107, 111, 115, 119, 123, 127, 131, 135, 139, 142] formed at time = 0.75 s.\n"
     ]
    },
    {
     "name": "stdout",
     "output_type": "stream",
     "text": [
      "Running Grid Network Regression: 250 nodes\n"
     ]
    },
    {
     "data": {
      "application/vnd.jupyter.widget-view+json": {
       "model_id": "1929530abcf541148146264594d94663",
       "version_major": 2,
       "version_minor": 0
      },
      "text/plain": [
       "HBox(children=(IntProgress(value=0, description='Running Simulation ', max=500, style=ProgressStyle(descriptio…"
      ]
     },
     "metadata": {},
     "output_type": "display_data"
    },
    {
     "name": "stderr",
     "output_type": "stream",
     "text": [
      "2020-05-22 13:33:44,725:INFO:First current path [14, 229, 25, 241, 27, 286] formed at time = 0.76 s.\n"
     ]
    },
    {
     "name": "stdout",
     "output_type": "stream",
     "text": [
      "Running Random Network Regression: 50 nodes\n",
      "Running Random Network Regression: 100 nodes\n",
      "Running Random Network Regression: 150 nodes\n",
      "Running Grid Network Regression: 250 nodes\n",
      "Running Random Network Regression: 289 nodes\n"
     ]
    },
    {
     "name": "stderr",
     "output_type": "stream",
     "text": [
      "2020-05-22 13:33:45,207:INFO:First current path [1, 3, 7, 11, 15, 19, 23, 27, 31, 35, 39, 43, 47, 51, 55, 59, 63, 67, 71, 75, 79, 83, 87, 91, 95, 99, 103, 107, 111, 115, 119, 123, 127, 131, 135, 139, 143, 146] formed at time = 0.76 s.\n"
     ]
    },
    {
     "data": {
      "application/vnd.jupyter.widget-view+json": {
       "model_id": "2eb93ea83c24486aa737380a917429d3",
       "version_major": 2,
       "version_minor": 0
      },
      "text/plain": [
       "HBox(children=(IntProgress(value=0, description='Running Simulation ', max=500, style=ProgressStyle(descriptio…"
      ]
     },
     "metadata": {},
     "output_type": "display_data"
    },
    {
     "name": "stdout",
     "output_type": "stream",
     "text": [
      "Running Random Network Regression: 200 nodes\n",
      "Running Grid Network Regression: 280 nodes\n"
     ]
    },
    {
     "data": {
      "application/vnd.jupyter.widget-view+json": {
       "model_id": "ef8e22a68330409f8fe8e7d87ce00d88",
       "version_major": 2,
       "version_minor": 0
      },
      "text/plain": [
       "HBox(children=(IntProgress(value=0, description='Running Simulation ', max=500, style=ProgressStyle(descriptio…"
      ]
     },
     "metadata": {},
     "output_type": "display_data"
    },
    {
     "name": "stdout",
     "output_type": "stream",
     "text": [
      "Running Grid Network Regression: 297 nodes\n"
     ]
    },
    {
     "name": "stderr",
     "output_type": "stream",
     "text": [
      "2020-05-22 13:33:45,857:INFO:First current path [39, 77, 26, 1, 191, 133] formed at time = 0.76 s.\n"
     ]
    },
    {
     "name": "stdout",
     "output_type": "stream",
     "text": [
      "Running Random Network Regression: 50 nodes\n",
      "Running Random Network Regression: 250 nodes\n",
      "Running Random Network Regression: 100 nodes\n",
      "Running Random Network Regression: 150 nodes\n",
      "Running Grid Network Regression: 50 nodes\n",
      "Running Grid Network Regression: 100 nodes\n",
      "Running Grid Network Regression: 150 nodes\n",
      "Running Random Network Regression: 200 nodes\n"
     ]
    },
    {
     "name": "stderr",
     "output_type": "stream",
     "text": [
      "2020-05-22 13:33:46,535:INFO:First current path [5, 143, 234, 248, 152, 195] formed at time = 0.76 s.\n"
     ]
    },
    {
     "name": "stdout",
     "output_type": "stream",
     "text": [
      "Running Random Network Regression: 50 nodes\n",
      "Running Random Network Regression: 100 nodes\n",
      "Running Grid Network Regression: 200 nodes\n",
      "Running Random Network Regression: 294 nodes\n",
      "Running Random Network Regression: 150 nodes\n",
      "Running Random Network Regression: 250 nodes\n"
     ]
    },
    {
     "name": "stderr",
     "output_type": "stream",
     "text": [
      "2020-05-22 13:33:47,007:INFO:First current path [0, 3, 7, 11, 15, 19, 23, 27, 31, 35, 39, 43, 47, 51, 55, 59, 63, 67, 71, 75, 79, 83, 87, 91, 95, 99, 103, 107, 111, 115, 119, 123, 127, 131, 135, 139, 142] formed at time = 0.75 s.\n"
     ]
    },
    {
     "data": {
      "application/vnd.jupyter.widget-view+json": {
       "model_id": "b5b5417f2c1a495dac42dcdfa134d6da",
       "version_major": 2,
       "version_minor": 0
      },
      "text/plain": [
       "HBox(children=(IntProgress(value=0, description='Running Simulation ', max=500, style=ProgressStyle(descriptio…"
      ]
     },
     "metadata": {},
     "output_type": "display_data"
    },
    {
     "name": "stdout",
     "output_type": "stream",
     "text": [
      "Running Random Network Regression: 200 nodes\n",
      "Running Grid Network Regression: 250 nodes\n",
      "Running Random Network Regression: 250 nodes\n",
      "Running Random Network Regression: 289 nodes\n",
      "Running Grid Network Regression: 50 nodes\n",
      "Running Grid Network Regression: 100 nodes\n",
      "Running Grid Network Regression: 289 nodes\n",
      "Running Grid Network Regression: 150 nodes\n"
     ]
    },
    {
     "data": {
      "application/vnd.jupyter.widget-view+json": {
       "model_id": "f1f061d48dba41d9b909779bc0439724",
       "version_major": 2,
       "version_minor": 0
      },
      "text/plain": [
       "HBox(children=(IntProgress(value=0, description='Running Simulation ', max=500, style=ProgressStyle(descriptio…"
      ]
     },
     "metadata": {},
     "output_type": "display_data"
    },
    {
     "name": "stderr",
     "output_type": "stream",
     "text": [
      "2020-05-22 13:33:48,472:INFO:First current path [19, 213, 198, 245, 165, 153] formed at time = 0.76 s.\n"
     ]
    },
    {
     "name": "stdout",
     "output_type": "stream",
     "text": [
      "Running Random Network Regression: 50 nodes\n",
      "Running Grid Network Regression: 200 nodes\n",
      "Running Random Network Regression: 290 nodes\n",
      "Running Random Network Regression: 100 nodes\n"
     ]
    },
    {
     "data": {
      "application/vnd.jupyter.widget-view+json": {
       "model_id": "879675ea21514304bf73bd0f11e7f184",
       "version_major": 2,
       "version_minor": 0
      },
      "text/plain": [
       "HBox(children=(IntProgress(value=0, description='Running Simulation ', max=500, style=ProgressStyle(descriptio…"
      ]
     },
     "metadata": {},
     "output_type": "display_data"
    },
    {
     "name": "stdout",
     "output_type": "stream",
     "text": [
      "Running Random Network Regression: 150 nodes\n"
     ]
    },
    {
     "data": {
      "application/vnd.jupyter.widget-view+json": {
       "model_id": "e0a827fe7c05437f87e7d49148853f20",
       "version_major": 2,
       "version_minor": 0
      },
      "text/plain": [
       "HBox(children=(IntProgress(value=0, description='Running Simulation ', max=500, style=ProgressStyle(descriptio…"
      ]
     },
     "metadata": {},
     "output_type": "display_data"
    },
    {
     "name": "stdout",
     "output_type": "stream",
     "text": [
      "Running Grid Network Regression: 50 nodes\n",
      "Running Grid Network Regression: 100 nodes\n",
      "Running Grid Network Regression: 250 nodes\n",
      "Running Random Network Regression: 200 nodes\n",
      "Running Grid Network Regression: 150 nodes\n",
      "Running Grid Network Regression: 200 nodes\n"
     ]
    },
    {
     "name": "stderr",
     "output_type": "stream",
     "text": [
      "2020-05-22 13:33:49,497:INFO:First current path [0, 3, 7, 11, 15, 19, 23, 27, 31, 35, 39, 43, 47, 51, 55, 59, 63, 67, 71, 75, 79, 83, 87, 91, 95, 99, 103, 107, 111, 115, 119, 123, 127, 131, 135, 138] formed at time = 0.75 s.\n"
     ]
    },
    {
     "name": "stdout",
     "output_type": "stream",
     "text": [
      "Running Grid Network Regression: 50 nodes\n",
      "Running Random Network Regression: 250 nodes\n",
      "Running Grid Network Regression: 100 nodes\n"
     ]
    },
    {
     "data": {
      "application/vnd.jupyter.widget-view+json": {
       "model_id": "9e841c674d1f4eb5a8db40d1afb588c2",
       "version_major": 2,
       "version_minor": 0
      },
      "text/plain": [
       "HBox(children=(IntProgress(value=0, description='Running Simulation ', max=500, style=ProgressStyle(descriptio…"
      ]
     },
     "metadata": {},
     "output_type": "display_data"
    },
    {
     "name": "stdout",
     "output_type": "stream",
     "text": [
      "Running Grid Network Regression: 294 nodes\n",
      "Running Grid Network Regression: 150 nodes\n"
     ]
    },
    {
     "name": "stderr",
     "output_type": "stream",
     "text": [
      "2020-05-22 13:33:49,798:INFO:First current path [0, 3, 7, 11, 15, 19, 23, 27, 31, 35, 39, 43, 47, 51, 55, 59, 63, 67, 71, 75, 79, 83, 87, 91, 95, 99, 103, 107, 111, 115, 119, 123, 127, 131, 135, 139, 142] formed at time = 0.75 s.\n"
     ]
    },
    {
     "data": {
      "application/vnd.jupyter.widget-view+json": {
       "model_id": "0c31f68b55f44052a7e09e0744c47895",
       "version_major": 2,
       "version_minor": 0
      },
      "text/plain": [
       "HBox(children=(IntProgress(value=0, description='Running Simulation ', max=500, style=ProgressStyle(descriptio…"
      ]
     },
     "metadata": {},
     "output_type": "display_data"
    },
    {
     "name": "stdout",
     "output_type": "stream",
     "text": [
      "Running Grid Network Regression: 250 nodes\n"
     ]
    },
    {
     "name": "stderr",
     "output_type": "stream",
     "text": [
      "2020-05-22 13:33:50,064:INFO:First current path [0, 3, 8, 13, 18, 23, 28, 33, 38, 43, 48, 53, 58, 63, 68, 73, 78, 83, 88, 93, 98, 103, 108, 113, 118, 123, 128, 133, 138, 143, 147] formed at time = 0.76 s.\n"
     ]
    },
    {
     "name": "stdout",
     "output_type": "stream",
     "text": [
      "Running Grid Network Regression: 200 nodes\n"
     ]
    },
    {
     "data": {
      "application/vnd.jupyter.widget-view+json": {
       "model_id": "0825c61043404ba89b514aa97c90fa0c",
       "version_major": 2,
       "version_minor": 0
      },
      "text/plain": [
       "HBox(children=(IntProgress(value=0, description='Running Simulation ', max=500, style=ProgressStyle(descriptio…"
      ]
     },
     "metadata": {},
     "output_type": "display_data"
    },
    {
     "data": {
      "application/vnd.jupyter.widget-view+json": {
       "model_id": "07cc1f4c60574948908e3c73eb1e7b19",
       "version_major": 2,
       "version_minor": 0
      },
      "text/plain": [
       "HBox(children=(IntProgress(value=0, description='Running Simulation ', max=500, style=ProgressStyle(descriptio…"
      ]
     },
     "metadata": {},
     "output_type": "display_data"
    },
    {
     "name": "stdout",
     "output_type": "stream",
     "text": [
      "Running Random Network Regression: 286 nodes\n",
      "Running Grid Network Regression: 250 nodes\n",
      "Running Grid Network Regression: 289 nodes\n"
     ]
    },
    {
     "name": "stderr",
     "output_type": "stream",
     "text": [
      "2020-05-22 13:33:50,784:INFO:First current path [71, 248, 105, 255, 207, 22] formed at time = 0.76 s.\n"
     ]
    },
    {
     "name": "stdout",
     "output_type": "stream",
     "text": [
      "Running Random Network Regression: 50 nodes\n",
      "Running Random Network Regression: 100 nodes\n",
      "Running Random Network Regression: 150 nodes\n"
     ]
    },
    {
     "name": "stderr",
     "output_type": "stream",
     "text": [
      "2020-05-22 13:33:51,141:INFO:First current path [59, 26, 72, 176, 277, 155] formed at time = 0.76 s.\n"
     ]
    },
    {
     "name": "stdout",
     "output_type": "stream",
     "text": [
      "Running Random Network Regression: 50 nodes\n",
      "Running Random Network Regression: 100 nodes\n",
      "Running Grid Network Regression: 290 nodes\n",
      "Running Random Network Regression: 200 nodes\n",
      "Running Random Network Regression: 150 nodes\n"
     ]
    },
    {
     "data": {
      "application/vnd.jupyter.widget-view+json": {
       "model_id": "4a3525de658b454abdb17922e4259dde",
       "version_major": 2,
       "version_minor": 0
      },
      "text/plain": [
       "HBox(children=(IntProgress(value=0, description='Running Simulation ', max=500, style=ProgressStyle(descriptio…"
      ]
     },
     "metadata": {},
     "output_type": "display_data"
    },
    {
     "name": "stdout",
     "output_type": "stream",
     "text": [
      "Running Grid Network Regression: 50 nodes\n"
     ]
    },
    {
     "name": "stderr",
     "output_type": "stream",
     "text": [
      "2020-05-22 13:33:51,487:INFO:First current path [0, 195, 30, 76, 17] formed at time = 0.75 s.\n"
     ]
    },
    {
     "name": "stdout",
     "output_type": "stream",
     "text": [
      "Running Random Network Regression: 50 nodes\n"
     ]
    },
    {
     "name": "stderr",
     "output_type": "stream",
     "text": [
      "2020-05-22 13:33:51,521:INFO:First current path [0, 3, 8, 13, 18, 23, 28, 33, 38, 43, 48, 53, 58, 63, 68, 73, 78, 83, 88, 93, 98, 103, 108, 113, 118, 123, 128, 133, 138, 142] formed at time = 0.76 s.\n"
     ]
    },
    {
     "name": "stdout",
     "output_type": "stream",
     "text": [
      "Running Grid Network Regression: 100 nodes\n",
      "Running Random Network Regression: 100 nodes\n"
     ]
    },
    {
     "data": {
      "application/vnd.jupyter.widget-view+json": {
       "model_id": "d68991bff3734a22b6180e93aef3cade",
       "version_major": 2,
       "version_minor": 0
      },
      "text/plain": [
       "HBox(children=(IntProgress(value=0, description='Running Simulation ', max=500, style=ProgressStyle(descriptio…"
      ]
     },
     "metadata": {},
     "output_type": "display_data"
    },
    {
     "name": "stdout",
     "output_type": "stream",
     "text": [
      "Running Grid Network Regression: 150 nodes\n",
      "Running Random Network Regression: 200 nodes\n",
      "Running Random Network Regression: 150 nodes\n",
      "Running Random Network Regression: 250 nodes\n",
      "Running Grid Network Regression: 200 nodes\n",
      "Running Random Network Regression: 200 nodes\n",
      "Running Random Network Regression: 250 nodes\n"
     ]
    },
    {
     "data": {
      "application/vnd.jupyter.widget-view+json": {
       "model_id": "a165a309c71f4188ae43f830019988a8",
       "version_major": 2,
       "version_minor": 0
      },
      "text/plain": [
       "HBox(children=(IntProgress(value=0, description='Running Simulation ', max=500, style=ProgressStyle(descriptio…"
      ]
     },
     "metadata": {},
     "output_type": "display_data"
    },
    {
     "name": "stdout",
     "output_type": "stream",
     "text": [
      "Running Grid Network Regression: 250 nodes\n",
      "Running Random Network Regression: 279 nodes\n",
      "Running Random Network Regression: 250 nodes\n"
     ]
    },
    {
     "name": "stderr",
     "output_type": "stream",
     "text": [
      "2020-05-22 13:33:52,703:INFO:First current path [0, 3, 8, 13, 18, 23, 28, 33, 38, 43, 48, 53, 58, 63, 68, 73, 78, 83, 88, 93, 98, 103, 108, 113, 118, 123, 128, 133, 138, 142] formed at time = 0.76 s.\n"
     ]
    },
    {
     "data": {
      "application/vnd.jupyter.widget-view+json": {
       "model_id": "482b884123684d7c96ff9f774a35f608",
       "version_major": 2,
       "version_minor": 0
      },
      "text/plain": [
       "HBox(children=(IntProgress(value=0, description='Running Simulation ', max=500, style=ProgressStyle(descriptio…"
      ]
     },
     "metadata": {},
     "output_type": "display_data"
    },
    {
     "name": "stderr",
     "output_type": "stream",
     "text": [
      "2020-05-22 13:33:53,007:INFO:First current path [0, 99, 84, 41, 32] formed at time = 0.75 s.\n"
     ]
    },
    {
     "name": "stdout",
     "output_type": "stream",
     "text": [
      "Running Random Network Regression: 50 nodes\n",
      "Running Random Network Regression: 100 nodes\n",
      "Running Random Network Regression: 288 nodes\n",
      "Running Random Network Regression: 150 nodes\n",
      "Running Grid Network Regression: 286 nodes\n",
      "Running Random Network Regression: 296 nodes\n",
      "Running Random Network Regression: 200 nodes\n",
      "Running Grid Network Regression: 50 nodes\n",
      "Running Grid Network Regression: 100 nodes\n"
     ]
    },
    {
     "name": "stderr",
     "output_type": "stream",
     "text": [
      "2020-05-22 13:33:53,810:INFO:First current path [0, 3, 8, 13, 18, 23, 28, 33, 38, 43, 48, 53, 58, 63, 68, 73, 78, 83, 88, 93, 98, 103, 108, 113, 118, 123, 128, 133, 138, 143, 147] formed at time = 0.76 s.\n"
     ]
    },
    {
     "data": {
      "application/vnd.jupyter.widget-view+json": {
       "model_id": "f582d91a6251484096064194d5819a8f",
       "version_major": 2,
       "version_minor": 0
      },
      "text/plain": [
       "HBox(children=(IntProgress(value=0, description='Running Simulation ', max=500, style=ProgressStyle(descriptio…"
      ]
     },
     "metadata": {},
     "output_type": "display_data"
    },
    {
     "name": "stdout",
     "output_type": "stream",
     "text": [
      "Running Grid Network Regression: 150 nodes\n"
     ]
    },
    {
     "name": "stderr",
     "output_type": "stream",
     "text": [
      "2020-05-22 13:33:54,213:INFO:First current path [0, 46, 213, 61, 30] formed at time = 0.75 s.\n"
     ]
    },
    {
     "name": "stdout",
     "output_type": "stream",
     "text": [
      "Running Random Network Regression: 50 nodes\n",
      "Running Random Network Regression: 250 nodes\n",
      "Running Grid Network Regression: 200 nodes\n",
      "Running Random Network Regression: 100 nodes\n",
      "Running Grid Network Regression: 50 nodes\n",
      "Running Grid Network Regression: 100 nodes\n",
      "Running Random Network Regression: 150 nodes\n",
      "Running Grid Network Regression: 150 nodes\n",
      "Running Grid Network Regression: 50 nodes\n",
      "Running Grid Network Regression: 100 nodes\n",
      "Running Grid Network Regression: 250 nodes\n",
      "Running Random Network Regression: 200 nodes\n",
      "Running Grid Network Regression: 150 nodes\n",
      "Running Grid Network Regression: 200 nodes\n",
      "Running Random Network Regression: 291 nodes\n",
      "Running Grid Network Regression: 200 nodes\n"
     ]
    },
    {
     "name": "stderr",
     "output_type": "stream",
     "text": [
      "2020-05-22 13:33:55,257:INFO:First current path [0, 121, 47, 292, 17] formed at time = 0.76 s.\n"
     ]
    },
    {
     "name": "stdout",
     "output_type": "stream",
     "text": [
      "Running Random Network Regression: 50 nodes\n",
      "Running Random Network Regression: 100 nodes\n"
     ]
    },
    {
     "data": {
      "application/vnd.jupyter.widget-view+json": {
       "model_id": "a6e4755d8761431fba0f262fe391f050",
       "version_major": 2,
       "version_minor": 0
      },
      "text/plain": [
       "HBox(children=(IntProgress(value=0, description='Running Simulation ', max=500, style=ProgressStyle(descriptio…"
      ]
     },
     "metadata": {},
     "output_type": "display_data"
    },
    {
     "name": "stdout",
     "output_type": "stream",
     "text": [
      "Running Random Network Regression: 250 nodes\n",
      "Running Grid Network Regression: 250 nodes\n",
      "Running Random Network Regression: 150 nodes\n",
      "Running Grid Network Regression: 279 nodes\n",
      "Running Grid Network Regression: 250 nodes\n",
      "Running Random Network Regression: 200 nodes\n"
     ]
    },
    {
     "data": {
      "application/vnd.jupyter.widget-view+json": {
       "model_id": "36f04607806948f0ab7123e340b2963a",
       "version_major": 2,
       "version_minor": 0
      },
      "text/plain": [
       "HBox(children=(IntProgress(value=0, description='Running Simulation ', max=500, style=ProgressStyle(descriptio…"
      ]
     },
     "metadata": {},
     "output_type": "display_data"
    },
    {
     "name": "stdout",
     "output_type": "stream",
     "text": [
      "Running Grid Network Regression: 50 nodes\n",
      "Running Grid Network Regression: 100 nodes\n",
      "Running Random Network Regression: 291 nodes\n",
      "Running Grid Network Regression: 288 nodes\n"
     ]
    },
    {
     "data": {
      "application/vnd.jupyter.widget-view+json": {
       "model_id": "f761e34e0d574568a1321c02e1f325ca",
       "version_major": 2,
       "version_minor": 0
      },
      "text/plain": [
       "HBox(children=(IntProgress(value=0, description='Running Simulation ', max=500, style=ProgressStyle(descriptio…"
      ]
     },
     "metadata": {},
     "output_type": "display_data"
    },
    {
     "name": "stdout",
     "output_type": "stream",
     "text": [
      "Running Grid Network Regression: 150 nodes\n",
      "Running Random Network Regression: 250 nodes\n",
      "Running Grid Network Regression: 296 nodes\n"
     ]
    },
    {
     "name": "stderr",
     "output_type": "stream",
     "text": [
      "2020-05-22 13:33:56,662:INFO:First current path [0, 291, 286, 281, 276, 271, 266, 261, 256, 251, 246, 241, 236, 231, 226, 221, 216, 211, 206, 201, 196, 191, 186, 181, 176, 171, 166, 161, 156, 151, 147] formed at time = 0.75 s.\n"
     ]
    },
    {
     "name": "stdout",
     "output_type": "stream",
     "text": [
      "Running Grid Network Regression: 200 nodes\n"
     ]
    },
    {
     "data": {
      "application/vnd.jupyter.widget-view+json": {
       "model_id": "8e63f878e7ac4ffa9be6ffca406d9c75",
       "version_major": 2,
       "version_minor": 0
      },
      "text/plain": [
       "HBox(children=(IntProgress(value=0, description='Running Simulation ', max=500, style=ProgressStyle(descriptio…"
      ]
     },
     "metadata": {},
     "output_type": "display_data"
    },
    {
     "name": "stdout",
     "output_type": "stream",
     "text": [
      "Running Grid Network Regression: 50 nodes\n",
      "Running Random Network Regression: 296 nodes\n",
      "Running Grid Network Regression: 250 nodes\n"
     ]
    },
    {
     "data": {
      "application/vnd.jupyter.widget-view+json": {
       "model_id": "86343680f3cb4b1ca709a1500c9f63dc",
       "version_major": 2,
       "version_minor": 0
      },
      "text/plain": [
       "HBox(children=(IntProgress(value=0, description='Running Simulation ', max=500, style=ProgressStyle(descriptio…"
      ]
     },
     "metadata": {},
     "output_type": "display_data"
    },
    {
     "name": "stdout",
     "output_type": "stream",
     "text": [
      "Running Grid Network Regression: 100 nodes\n"
     ]
    },
    {
     "name": "stderr",
     "output_type": "stream",
     "text": [
      "2020-05-22 13:33:57,360:INFO:First current path [1, 4, 9, 14, 19, 24, 29, 34, 39, 44, 49, 54, 59, 64, 69, 74, 79, 84, 89, 94, 99, 104, 109, 114, 119, 124, 129, 134, 139, 144, 147] formed at time = 0.76 s.\n"
     ]
    },
    {
     "name": "stdout",
     "output_type": "stream",
     "text": [
      "Running Grid Network Regression: 150 nodes\n"
     ]
    },
    {
     "data": {
      "application/vnd.jupyter.widget-view+json": {
       "model_id": "d715a3c111d44e3b952fb12559e0bdb3",
       "version_major": 2,
       "version_minor": 0
      },
      "text/plain": [
       "HBox(children=(IntProgress(value=0, description='Running Simulation ', max=500, style=ProgressStyle(descriptio…"
      ]
     },
     "metadata": {},
     "output_type": "display_data"
    },
    {
     "name": "stderr",
     "output_type": "stream",
     "text": [
      "2020-05-22 13:33:57,650:INFO:First current path [0, 4, 10, 16, 22, 28, 34, 40, 46, 52, 58, 64, 70, 76, 82, 88, 94, 100, 106, 112, 118, 124, 130, 136, 142, 146] formed at time = 0.75 s.\n"
     ]
    },
    {
     "name": "stdout",
     "output_type": "stream",
     "text": [
      "Running Grid Network Regression: 200 nodes\n"
     ]
    },
    {
     "data": {
      "application/vnd.jupyter.widget-view+json": {
       "model_id": "16b3d27655934fed84c16a5cb56109f3",
       "version_major": 2,
       "version_minor": 0
      },
      "text/plain": [
       "HBox(children=(IntProgress(value=0, description='Running Simulation ', max=500, style=ProgressStyle(descriptio…"
      ]
     },
     "metadata": {},
     "output_type": "display_data"
    },
    {
     "name": "stdout",
     "output_type": "stream",
     "text": [
      "Running Grid Network Regression: 291 nodes\n"
     ]
    },
    {
     "name": "stderr",
     "output_type": "stream",
     "text": [
      "2020-05-22 13:33:58,161:INFO:First current path [0, 267, 55, 100, 4] formed at time = 0.75 s.\n"
     ]
    },
    {
     "name": "stdout",
     "output_type": "stream",
     "text": [
      "Running Random Network Regression: 50 nodes\n",
      "Running Random Network Regression: 100 nodes\n",
      "Running Grid Network Regression: 250 nodes\n",
      "Running Grid Network Regression: 50 nodes\n",
      "Running Grid Network Regression: 100 nodes\n",
      "Running Random Network Regression: 150 nodes\n"
     ]
    },
    {
     "name": "stderr",
     "output_type": "stream",
     "text": [
      "2020-05-22 13:33:58,575:INFO:First current path [0, 3, 8, 13, 18, 23, 28, 33, 38, 43, 48, 53, 58, 63, 68, 73, 78, 83, 88, 93, 98, 103, 108, 113, 118, 123, 128, 133, 138, 142] formed at time = 0.76 s.\n"
     ]
    },
    {
     "name": "stdout",
     "output_type": "stream",
     "text": [
      "Running Grid Network Regression: 150 nodes\n"
     ]
    },
    {
     "data": {
      "application/vnd.jupyter.widget-view+json": {
       "model_id": "c9c1e36de2d045259bc30709d1d2d05f",
       "version_major": 2,
       "version_minor": 0
      },
      "text/plain": [
       "HBox(children=(IntProgress(value=0, description='Running Simulation ', max=500, style=ProgressStyle(descriptio…"
      ]
     },
     "metadata": {},
     "output_type": "display_data"
    },
    {
     "data": {
      "application/vnd.jupyter.widget-view+json": {
       "model_id": "cb496cb9478a4adba759ef22ec6b17a8",
       "version_major": 2,
       "version_minor": 0
      },
      "text/plain": [
       "HBox(children=(IntProgress(value=0, description='Running Simulation ', max=500, style=ProgressStyle(descriptio…"
      ]
     },
     "metadata": {},
     "output_type": "display_data"
    },
    {
     "name": "stderr",
     "output_type": "stream",
     "text": [
      "2020-05-22 13:33:58,786:INFO:First current path [0, 268, 155, 27, 63] formed at time = 0.75 s.\n"
     ]
    },
    {
     "name": "stdout",
     "output_type": "stream",
     "text": [
      "Running Random Network Regression: 50 nodes\n",
      "Running Random Network Regression: 200 nodes\n",
      "Running Random Network Regression: 100 nodes\n",
      "Running Grid Network Regression: 200 nodes\n",
      "Running Random Network Regression: 150 nodes\n",
      "Running Grid Network Regression: 291 nodes\n"
     ]
    },
    {
     "name": "stderr",
     "output_type": "stream",
     "text": [
      "2020-05-22 13:33:59,206:INFO:First current path [3, 85, 196, 117, 195] formed at time = 0.76 s.\n"
     ]
    },
    {
     "name": "stdout",
     "output_type": "stream",
     "text": [
      "Running Random Network Regression: 50 nodes\n",
      "Running Random Network Regression: 100 nodes\n",
      "Running Random Network Regression: 250 nodes\n",
      "Running Random Network Regression: 200 nodes\n",
      "Running Grid Network Regression: 250 nodes\n",
      "Running Random Network Regression: 150 nodes\n",
      "Running Random Network Regression: 200 nodes\n"
     ]
    },
    {
     "name": "stderr",
     "output_type": "stream",
     "text": [
      "2020-05-22 13:33:59,854:INFO:First current path [0, 281, 276, 271, 266, 261, 256, 251, 246, 241, 236, 231, 226, 221, 216, 211, 206, 201, 196, 191, 186, 181, 176, 171, 166, 161, 156, 151, 146, 142] formed at time = 0.75 s.\n"
     ]
    },
    {
     "name": "stdout",
     "output_type": "stream",
     "text": [
      "Running Random Network Regression: 250 nodes\n"
     ]
    },
    {
     "data": {
      "application/vnd.jupyter.widget-view+json": {
       "model_id": "f916d13a73124ad7864d62c5407cf385",
       "version_major": 2,
       "version_minor": 0
      },
      "text/plain": [
       "HBox(children=(IntProgress(value=0, description='Running Simulation ', max=500, style=ProgressStyle(descriptio…"
      ]
     },
     "metadata": {},
     "output_type": "display_data"
    },
    {
     "name": "stderr",
     "output_type": "stream",
     "text": [
      "2020-05-22 13:34:00,007:INFO:First current path [0, 159, 8, 177, 170] formed at time = 0.75 s.\n"
     ]
    },
    {
     "name": "stdout",
     "output_type": "stream",
     "text": [
      "Running Random Network Regression: 50 nodes\n"
     ]
    },
    {
     "data": {
      "application/vnd.jupyter.widget-view+json": {
       "model_id": "9508f35238bc42b4a2b35dbff8805807",
       "version_major": 2,
       "version_minor": 0
      },
      "text/plain": [
       "HBox(children=(IntProgress(value=0, description='Running Simulation ', max=500, style=ProgressStyle(descriptio…"
      ]
     },
     "metadata": {},
     "output_type": "display_data"
    },
    {
     "name": "stdout",
     "output_type": "stream",
     "text": [
      "Running Random Network Regression: 100 nodes\n",
      "Running Random Network Regression: 295 nodes\n",
      "Running Random Network Regression: 150 nodes\n",
      "Running Grid Network Regression: 296 nodes\n",
      "Running Random Network Regression: 250 nodes\n"
     ]
    },
    {
     "data": {
      "application/vnd.jupyter.widget-view+json": {
       "model_id": "1773192f279e44c2a76a022d1c20fd61",
       "version_major": 2,
       "version_minor": 0
      },
      "text/plain": [
       "HBox(children=(IntProgress(value=0, description='Running Simulation ', max=500, style=ProgressStyle(descriptio…"
      ]
     },
     "metadata": {},
     "output_type": "display_data"
    },
    {
     "name": "stdout",
     "output_type": "stream",
     "text": [
      "Running Random Network Regression: 200 nodes\n",
      "Running Random Network Regression: 292 nodes\n",
      "Running Random Network Regression: 250 nodes\n"
     ]
    },
    {
     "name": "stderr",
     "output_type": "stream",
     "text": [
      "2020-05-22 13:34:01,258:INFO:First current path [0, 281, 276, 271, 266, 261, 256, 251, 246, 241, 236, 231, 226, 221, 216, 211, 206, 201, 196, 191, 186, 181, 176, 171, 166, 161, 156, 151, 146, 142] formed at time = 0.75 s.\n",
      "2020-05-22 13:34:01,270:INFO:First current path [0, 8, 74, 186, 189] formed at time = 0.76 s.\n"
     ]
    },
    {
     "name": "stdout",
     "output_type": "stream",
     "text": [
      "Running Random Network Regression: 50 nodes\n",
      "Running Grid Network Regression: 50 nodes\n",
      "Running Random Network Regression: 299 nodes\n",
      "Running Random Network Regression: 100 nodes\n",
      "Running Grid Network Regression: 100 nodes\n"
     ]
    },
    {
     "data": {
      "application/vnd.jupyter.widget-view+json": {
       "model_id": "87f81c7b39f14878b92a575b605e9505",
       "version_major": 2,
       "version_minor": 0
      },
      "text/plain": [
       "HBox(children=(IntProgress(value=0, description='Running Simulation ', max=500, style=ProgressStyle(descriptio…"
      ]
     },
     "metadata": {},
     "output_type": "display_data"
    },
    {
     "name": "stdout",
     "output_type": "stream",
     "text": [
      "Running Random Network Regression: 150 nodes\n",
      "Running Grid Network Regression: 150 nodes\n",
      "Running Grid Network Regression: 200 nodes\n"
     ]
    },
    {
     "name": "stderr",
     "output_type": "stream",
     "text": [
      "2020-05-22 13:34:01,923:INFO:First current path [0, 4, 11, 18, 25, 32, 39, 46, 53, 60, 67, 74, 81, 88, 95, 102, 109, 116, 123, 130, 137, 144, 149] formed at time = 0.76 s.\n"
     ]
    },
    {
     "name": "stdout",
     "output_type": "stream",
     "text": [
      "Running Random Network Regression: 200 nodes\n",
      "Running Grid Network Regression: 50 nodes\n",
      "Running Grid Network Regression: 100 nodes\n"
     ]
    },
    {
     "data": {
      "application/vnd.jupyter.widget-view+json": {
       "model_id": "f46733b8838b42ae82f09630c6a1ff1e",
       "version_major": 2,
       "version_minor": 0
      },
      "text/plain": [
       "HBox(children=(IntProgress(value=0, description='Running Simulation ', max=500, style=ProgressStyle(descriptio…"
      ]
     },
     "metadata": {},
     "output_type": "display_data"
    },
    {
     "name": "stdout",
     "output_type": "stream",
     "text": [
      "Running Random Network Regression: 291 nodes\n",
      "Running Grid Network Regression: 150 nodes\n",
      "Running Grid Network Regression: 250 nodes\n",
      "Running Grid Network Regression: 200 nodes\n",
      "Running Random Network Regression: 250 nodes\n",
      "Running Grid Network Regression: 50 nodes\n",
      "Running Grid Network Regression: 100 nodes\n"
     ]
    },
    {
     "name": "stderr",
     "output_type": "stream",
     "text": [
      "2020-05-22 13:34:02,683:INFO:First current path [0, 20, 186, 258, 5] formed at time = 0.76 s.\n"
     ]
    },
    {
     "name": "stdout",
     "output_type": "stream",
     "text": [
      "Running Random Network Regression: 50 nodes\n",
      "Running Random Network Regression: 100 nodes\n",
      "Running Grid Network Regression: 150 nodes\n",
      "Running Grid Network Regression: 250 nodes\n",
      "Running Random Network Regression: 150 nodes\n",
      "Running Grid Network Regression: 200 nodes\n",
      "Running Grid Network Regression: 50 nodes\n",
      "Running Grid Network Regression: 295 nodes\n",
      "Running Grid Network Regression: 100 nodes\n",
      "Running Random Network Regression: 200 nodes\n",
      "Running Random Network Regression: 285 nodes\n",
      "Running Grid Network Regression: 150 nodes\n"
     ]
    },
    {
     "name": "stderr",
     "output_type": "stream",
     "text": [
      "2020-05-22 13:34:03,552:INFO:First current path [20, 67, 117, 0, 62] formed at time = 0.77 s.\n"
     ]
    },
    {
     "name": "stdout",
     "output_type": "stream",
     "text": [
      "Running Random Network Regression: 50 nodes\n",
      "Running Random Network Regression: 100 nodes\n",
      "Running Grid Network Regression: 292 nodes\n",
      "Running Grid Network Regression: 250 nodes\n",
      "Running Grid Network Regression: 200 nodes\n",
      "Running Random Network Regression: 250 nodes\n",
      "Running Random Network Regression: 150 nodes\n"
     ]
    },
    {
     "data": {
      "application/vnd.jupyter.widget-view+json": {
       "model_id": "84172e19456c457eb7c9648cfb6badfb",
       "version_major": 2,
       "version_minor": 0
      },
      "text/plain": [
       "HBox(children=(IntProgress(value=0, description='Running Simulation ', max=500, style=ProgressStyle(descriptio…"
      ]
     },
     "metadata": {},
     "output_type": "display_data"
    },
    {
     "data": {
      "application/vnd.jupyter.widget-view+json": {
       "model_id": "8da334273ca942a5a8d80317028cabcf",
       "version_major": 2,
       "version_minor": 0
      },
      "text/plain": [
       "HBox(children=(IntProgress(value=0, description='Running Simulation ', max=500, style=ProgressStyle(descriptio…"
      ]
     },
     "metadata": {},
     "output_type": "display_data"
    },
    {
     "name": "stdout",
     "output_type": "stream",
     "text": [
      "Running Random Network Regression: 200 nodes\n",
      "Running Grid Network Regression: 250 nodes\n",
      "Running Grid Network Regression: 50 nodes\n",
      "Running Grid Network Regression: 100 nodes\n",
      "Running Grid Network Regression: 299 nodes\n",
      "Running Random Network Regression: 285 nodes\n",
      "Running Grid Network Regression: 150 nodes\n"
     ]
    },
    {
     "data": {
      "application/vnd.jupyter.widget-view+json": {
       "model_id": "99a34a01cbcc41558b498bc3ed00d6cc",
       "version_major": 2,
       "version_minor": 0
      },
      "text/plain": [
       "HBox(children=(IntProgress(value=0, description='Running Simulation ', max=500, style=ProgressStyle(descriptio…"
      ]
     },
     "metadata": {},
     "output_type": "display_data"
    },
    {
     "name": "stdout",
     "output_type": "stream",
     "text": [
      "Running Random Network Regression: 250 nodes\n",
      "Running Grid Network Regression: 200 nodes\n",
      "Running Grid Network Regression: 291 nodes\n"
     ]
    },
    {
     "name": "stderr",
     "output_type": "stream",
     "text": [
      "2020-05-22 13:34:05,314:INFO:First current path [0, 4, 11, 18, 25, 32, 39, 46, 53, 60, 67, 74, 81, 88, 95, 102, 109, 116, 123, 130, 137, 144, 149] formed at time = 0.76 s.\n",
      "2020-05-22 13:34:05,388:INFO:First current path [0, 4, 10, 16, 22, 28, 34, 40, 46, 52, 58, 64, 70, 76, 82, 88, 94, 100, 106, 112, 118, 124, 130, 136, 142, 146] formed at time = 0.75 s.\n"
     ]
    },
    {
     "name": "stdout",
     "output_type": "stream",
     "text": [
      "Running Grid Network Regression: 250 nodes\n"
     ]
    },
    {
     "data": {
      "application/vnd.jupyter.widget-view+json": {
       "model_id": "cbd8ae82935546b58b740691042797da",
       "version_major": 2,
       "version_minor": 0
      },
      "text/plain": [
       "HBox(children=(IntProgress(value=0, description='Running Simulation ', max=500, style=ProgressStyle(descriptio…"
      ]
     },
     "metadata": {},
     "output_type": "display_data"
    },
    {
     "name": "stdout",
     "output_type": "stream",
     "text": [
      "Running Grid Network Regression: 50 nodes\n"
     ]
    },
    {
     "data": {
      "application/vnd.jupyter.widget-view+json": {
       "model_id": "9a4c1ddbb17a41319a5ac437a5f491bd",
       "version_major": 2,
       "version_minor": 0
      },
      "text/plain": [
       "HBox(children=(IntProgress(value=0, description='Running Simulation ', max=500, style=ProgressStyle(descriptio…"
      ]
     },
     "metadata": {},
     "output_type": "display_data"
    },
    {
     "data": {
      "application/vnd.jupyter.widget-view+json": {
       "model_id": "555764b2db914118a212748962cdf754",
       "version_major": 2,
       "version_minor": 0
      },
      "text/plain": [
       "HBox(children=(IntProgress(value=0, description='Running Simulation ', max=500, style=ProgressStyle(descriptio…"
      ]
     },
     "metadata": {},
     "output_type": "display_data"
    },
    {
     "name": "stdout",
     "output_type": "stream",
     "text": [
      "Running Grid Network Regression: 100 nodes\n",
      "Running Random Network Regression: 300 nodes\n",
      "Running Grid Network Regression: 150 nodes\n"
     ]
    },
    {
     "name": "stderr",
     "output_type": "stream",
     "text": [
      "2020-05-22 13:34:05,987:INFO:First current path [0, 4, 11, 18, 25, 32, 39, 46, 53, 60, 67, 74, 81, 88, 95, 102, 109, 116, 123, 130, 137, 144, 149] formed at time = 0.76 s.\n"
     ]
    },
    {
     "name": "stdout",
     "output_type": "stream",
     "text": [
      "Running Grid Network Regression: 200 nodes\n"
     ]
    },
    {
     "data": {
      "application/vnd.jupyter.widget-view+json": {
       "model_id": "811a842786144ae99d20e38fc703234f",
       "version_major": 2,
       "version_minor": 0
      },
      "text/plain": [
       "HBox(children=(IntProgress(value=0, description='Running Simulation ', max=500, style=ProgressStyle(descriptio…"
      ]
     },
     "metadata": {},
     "output_type": "display_data"
    },
    {
     "name": "stdout",
     "output_type": "stream",
     "text": [
      "Running Grid Network Regression: 285 nodes\n",
      "Running Grid Network Regression: 250 nodes\n"
     ]
    },
    {
     "name": "stderr",
     "output_type": "stream",
     "text": [
      "2020-05-22 13:34:06,864:INFO:First current path [21, 18, 215, 285, 276] formed at time = 0.77 s.\n"
     ]
    },
    {
     "name": "stdout",
     "output_type": "stream",
     "text": [
      "Running Random Network Regression: 50 nodes\n",
      "Running Grid Network Regression: 50 nodes\n"
     ]
    },
    {
     "name": "stderr",
     "output_type": "stream",
     "text": [
      "2020-05-22 13:34:06,900:INFO:First current path [1, 5, 12, 19, 26, 33, 40, 47, 54, 61, 68, 75, 82, 89, 96, 103, 110, 117, 124, 131, 138, 145, 149] formed at time = 0.76 s.\n",
      "2020-05-22 13:34:06,914:INFO:First current path [0, 206, 243, 89, 236] formed at time = 0.75 s.\n"
     ]
    },
    {
     "name": "stdout",
     "output_type": "stream",
     "text": [
      "Running Random Network Regression: 50 nodes\n",
      "Running Random Network Regression: 100 nodes\n",
      "Running Grid Network Regression: 100 nodes\n",
      "Running Random Network Regression: 100 nodes\n"
     ]
    },
    {
     "data": {
      "application/vnd.jupyter.widget-view+json": {
       "model_id": "2d47577103e640afb58e91c3bf3083ae",
       "version_major": 2,
       "version_minor": 0
      },
      "text/plain": [
       "HBox(children=(IntProgress(value=0, description='Running Simulation ', max=500, style=ProgressStyle(descriptio…"
      ]
     },
     "metadata": {},
     "output_type": "display_data"
    },
    {
     "name": "stdout",
     "output_type": "stream",
     "text": [
      "Running Random Network Regression: 150 nodes\n",
      "Running Grid Network Regression: 150 nodes\n",
      "Running Random Network Regression: 150 nodes\n"
     ]
    },
    {
     "data": {
      "application/vnd.jupyter.widget-view+json": {
       "model_id": "8c6b2fc931a3479bbd466722f6505767",
       "version_major": 2,
       "version_minor": 0
      },
      "text/plain": [
       "HBox(children=(IntProgress(value=0, description='Running Simulation ', max=500, style=ProgressStyle(descriptio…"
      ]
     },
     "metadata": {},
     "output_type": "display_data"
    },
    {
     "name": "stdout",
     "output_type": "stream",
     "text": [
      "Running Grid Network Regression: 285 nodes\n",
      "Running Random Network Regression: 200 nodes\n",
      "Running Grid Network Regression: 200 nodes\n",
      "Running Random Network Regression: 200 nodes\n"
     ]
    },
    {
     "name": "stderr",
     "output_type": "stream",
     "text": [
      "2020-05-22 13:34:07,602:INFO:First current path [11, 37, 176, 50, 268] formed at time = 0.77 s.\n"
     ]
    },
    {
     "name": "stdout",
     "output_type": "stream",
     "text": [
      "Running Random Network Regression: 50 nodes\n",
      "Running Random Network Regression: 100 nodes\n",
      "Running Random Network Regression: 150 nodes\n",
      "Running Grid Network Regression: 250 nodes\n",
      "Running Random Network Regression: 250 nodes\n",
      "Running Random Network Regression: 250 nodes\n",
      "Running Random Network Regression: 200 nodes\n"
     ]
    },
    {
     "name": "stderr",
     "output_type": "stream",
     "text": [
      "2020-05-22 13:34:08,507:INFO:First current path [4, 89, 112, 291, 73] formed at time = 0.76 s.\n"
     ]
    },
    {
     "name": "stdout",
     "output_type": "stream",
     "text": [
      "Running Random Network Regression: 50 nodes\n",
      "Running Random Network Regression: 100 nodes\n"
     ]
    },
    {
     "name": "stderr",
     "output_type": "stream",
     "text": [
      "2020-05-22 13:34:08,636:INFO:First current path [1, 5, 12, 19, 26, 33, 40, 47, 54, 61, 68, 75, 82, 89, 96, 103, 110, 117, 124, 131, 138, 145, 149] formed at time = 0.76 s.\n"
     ]
    },
    {
     "name": "stdout",
     "output_type": "stream",
     "text": [
      "Running Random Network Regression: 150 nodes\n"
     ]
    },
    {
     "data": {
      "application/vnd.jupyter.widget-view+json": {
       "model_id": "28486a41a7bb4a37bb9e7a5ee38ed0cd",
       "version_major": 2,
       "version_minor": 0
      },
      "text/plain": [
       "HBox(children=(IntProgress(value=0, description='Running Simulation ', max=500, style=ProgressStyle(descriptio…"
      ]
     },
     "metadata": {},
     "output_type": "display_data"
    },
    {
     "name": "stdout",
     "output_type": "stream",
     "text": [
      "Running Random Network Regression: 250 nodes\n",
      "Running Grid Network Regression: 300 nodes\n",
      "Running Random Network Regression: 300 nodes\n",
      "Running Random Network Regression: 297 nodes\n",
      "Running Random Network Regression: 200 nodes\n"
     ]
    },
    {
     "data": {
      "application/vnd.jupyter.widget-view+json": {
       "model_id": "2866b348c0d7408b86ea848d08dbcb7b",
       "version_major": 2,
       "version_minor": 0
      },
      "text/plain": [
       "HBox(children=(IntProgress(value=0, description='Running Simulation ', max=500, style=ProgressStyle(descriptio…"
      ]
     },
     "metadata": {},
     "output_type": "display_data"
    },
    {
     "name": "stdout",
     "output_type": "stream",
     "text": [
      "Running Random Network Regression: 250 nodes\n",
      "Running Random Network Regression: 297 nodes\n"
     ]
    },
    {
     "data": {
      "application/vnd.jupyter.widget-view+json": {
       "model_id": "621f9862ef524d2592bb0984e1cebe01",
       "version_major": 2,
       "version_minor": 0
      },
      "text/plain": [
       "HBox(children=(IntProgress(value=0, description='Running Simulation ', max=500, style=ProgressStyle(descriptio…"
      ]
     },
     "metadata": {},
     "output_type": "display_data"
    },
    {
     "name": "stdout",
     "output_type": "stream",
     "text": [
      "Running Grid Network Regression: 50 nodes\n",
      "Running Grid Network Regression: 50 nodes\n",
      "Running Grid Network Regression: 100 nodes\n",
      "Running Grid Network Regression: 100 nodes\n"
     ]
    },
    {
     "name": "stderr",
     "output_type": "stream",
     "text": [
      "2020-05-22 13:34:10,254:INFO:First current path [11, 143, 106, 32, 249] formed at time = 0.76 s.\n"
     ]
    },
    {
     "name": "stdout",
     "output_type": "stream",
     "text": [
      "Running Random Network Regression: 50 nodes\n",
      "Running Random Network Regression: 100 nodes\n",
      "Running Grid Network Regression: 150 nodes\n",
      "Running Grid Network Regression: 150 nodes\n",
      "Running Random Network Regression: 150 nodes\n",
      "Running Random Network Regression: 296 nodes\n",
      "Running Grid Network Regression: 200 nodes\n",
      "Running Grid Network Regression: 200 nodes\n"
     ]
    },
    {
     "name": "stderr",
     "output_type": "stream",
     "text": [
      "2020-05-22 13:34:10,892:INFO:First current path [0, 4, 11, 18, 25, 32, 39, 46, 53, 60, 67, 74, 81, 88, 95, 102, 109, 116, 123, 130, 137, 144, 149] formed at time = 0.76 s.\n"
     ]
    },
    {
     "name": "stdout",
     "output_type": "stream",
     "text": [
      "Running Random Network Regression: 200 nodes\n",
      "Running Grid Network Regression: 50 nodes\n",
      "Running Grid Network Regression: 100 nodes\n"
     ]
    },
    {
     "data": {
      "application/vnd.jupyter.widget-view+json": {
       "model_id": "7fe3018a4aaf4b2ebf2790e5b4c0b29d",
       "version_major": 2,
       "version_minor": 0
      },
      "text/plain": [
       "HBox(children=(IntProgress(value=0, description='Running Simulation ', max=500, style=ProgressStyle(descriptio…"
      ]
     },
     "metadata": {},
     "output_type": "display_data"
    },
    {
     "name": "stdout",
     "output_type": "stream",
     "text": [
      "Running Grid Network Regression: 150 nodes\n",
      "Running Grid Network Regression: 250 nodes\n",
      "Running Grid Network Regression: 250 nodes\n"
     ]
    },
    {
     "name": "stderr",
     "output_type": "stream",
     "text": [
      "2020-05-22 13:34:11,321:INFO:First current path [0, 4, 11, 18, 25, 32, 39, 46, 53, 60, 67, 74, 81, 88, 95, 102, 109, 116, 123, 130, 137, 142] formed at time = 0.76 s.\n"
     ]
    },
    {
     "data": {
      "application/vnd.jupyter.widget-view+json": {
       "model_id": "e84736216e804ac8ad763c88f88645b7",
       "version_major": 2,
       "version_minor": 0
      },
      "text/plain": [
       "HBox(children=(IntProgress(value=0, description='Running Simulation ', max=500, style=ProgressStyle(descriptio…"
      ]
     },
     "metadata": {},
     "output_type": "display_data"
    },
    {
     "name": "stdout",
     "output_type": "stream",
     "text": [
      "Running Random Network Regression: 250 nodes\n",
      "Running Grid Network Regression: 200 nodes\n"
     ]
    },
    {
     "data": {
      "application/vnd.jupyter.widget-view+json": {
       "model_id": "7975197cb1c74ea28553de189c7913bb",
       "version_major": 2,
       "version_minor": 0
      },
      "text/plain": [
       "HBox(children=(IntProgress(value=0, description='Running Simulation ', max=500, style=ProgressStyle(descriptio…"
      ]
     },
     "metadata": {},
     "output_type": "display_data"
    },
    {
     "name": "stdout",
     "output_type": "stream",
     "text": [
      "Running Grid Network Regression: 50 nodes\n",
      "Running Grid Network Regression: 100 nodes\n"
     ]
    },
    {
     "data": {
      "application/vnd.jupyter.widget-view+json": {
       "model_id": "e193b1122d424f59a55ad94f0164ce86",
       "version_major": 2,
       "version_minor": 0
      },
      "text/plain": [
       "HBox(children=(IntProgress(value=0, description='Running Simulation ', max=500, style=ProgressStyle(descriptio…"
      ]
     },
     "metadata": {},
     "output_type": "display_data"
    },
    {
     "name": "stdout",
     "output_type": "stream",
     "text": [
      "Running Grid Network Regression: 300 nodes\n",
      "Running Grid Network Regression: 150 nodes\n",
      "Running Grid Network Regression: 250 nodes\n",
      "Running Grid Network Regression: 297 nodes\n",
      "Running Grid Network Regression: 200 nodes\n"
     ]
    },
    {
     "name": "stderr",
     "output_type": "stream",
     "text": [
      "2020-05-22 13:34:12,429:INFO:First current path [4, 45, 268, 155, 7] formed at time = 0.77 s.\n"
     ]
    },
    {
     "name": "stdout",
     "output_type": "stream",
     "text": [
      "Running Random Network Regression: 50 nodes\n",
      "Running Random Network Regression: 296 nodes\n",
      "Running Random Network Regression: 100 nodes\n",
      "Running Random Network Regression: 150 nodes\n"
     ]
    },
    {
     "name": "stderr",
     "output_type": "stream",
     "text": [
      "2020-05-22 13:34:12,882:INFO:First current path [25, 163, 275, 128, 1] formed at time = 0.77 s.\n"
     ]
    },
    {
     "name": "stdout",
     "output_type": "stream",
     "text": [
      "Running Random Network Regression: 50 nodes\n"
     ]
    },
    {
     "name": "stderr",
     "output_type": "stream",
     "text": [
      "2020-05-22 13:34:12,906:INFO:First current path [0, 4, 10, 16, 22, 28, 34, 40, 46, 52, 58, 64, 70, 76, 82, 88, 94, 100, 106, 112, 118, 124, 130, 136, 142, 146] formed at time = 0.75 s.\n"
     ]
    },
    {
     "name": "stdout",
     "output_type": "stream",
     "text": [
      "Running Grid Network Regression: 250 nodes\n",
      "Running Grid Network Regression: 297 nodes\n",
      "Running Random Network Regression: 100 nodes\n"
     ]
    },
    {
     "data": {
      "application/vnd.jupyter.widget-view+json": {
       "model_id": "7b67efc8727948c987b3fec571b8e51b",
       "version_major": 2,
       "version_minor": 0
      },
      "text/plain": [
       "HBox(children=(IntProgress(value=0, description='Running Simulation ', max=500, style=ProgressStyle(descriptio…"
      ]
     },
     "metadata": {},
     "output_type": "display_data"
    },
    {
     "name": "stdout",
     "output_type": "stream",
     "text": [
      "Running Random Network Regression: 200 nodes\n",
      "Running Random Network Regression: 150 nodes\n"
     ]
    },
    {
     "data": {
      "application/vnd.jupyter.widget-view+json": {
       "model_id": "5f564818d783466ea418e8eedd0af983",
       "version_major": 2,
       "version_minor": 0
      },
      "text/plain": [
       "HBox(children=(IntProgress(value=0, description='Running Simulation ', max=500, style=ProgressStyle(descriptio…"
      ]
     },
     "metadata": {},
     "output_type": "display_data"
    },
    {
     "name": "stderr",
     "output_type": "stream",
     "text": [
      "2020-05-22 13:34:13,328:INFO:First current path [0, 4, 11, 18, 25, 32, 39, 46, 53, 60, 67, 74, 81, 88, 95, 102, 109, 116, 123, 130, 137, 144, 149] formed at time = 0.76 s.\n"
     ]
    },
    {
     "data": {
      "application/vnd.jupyter.widget-view+json": {
       "model_id": "77d8d9e0d44b4dc58f7523aa25abd003",
       "version_major": 2,
       "version_minor": 0
      },
      "text/plain": [
       "HBox(children=(IntProgress(value=0, description='Running Simulation ', max=500, style=ProgressStyle(descriptio…"
      ]
     },
     "metadata": {},
     "output_type": "display_data"
    },
    {
     "name": "stdout",
     "output_type": "stream",
     "text": [
      "Running Random Network Regression: 200 nodes\n",
      "Running Grid Network Regression: 50 nodes\n",
      "Running Random Network Regression: 250 nodes\n",
      "Running Grid Network Regression: 296 nodes\n",
      "Running Grid Network Regression: 100 nodes\n",
      "Running Grid Network Regression: 150 nodes\n"
     ]
    },
    {
     "data": {
      "application/vnd.jupyter.widget-view+json": {
       "model_id": "a3640dde8d30497eadb942b2a2c2b167",
       "version_major": 2,
       "version_minor": 0
      },
      "text/plain": [
       "HBox(children=(IntProgress(value=0, description='Running Simulation ', max=500, style=ProgressStyle(descriptio…"
      ]
     },
     "metadata": {},
     "output_type": "display_data"
    },
    {
     "name": "stdout",
     "output_type": "stream",
     "text": [
      "Running Random Network Regression: 250 nodes\n",
      "Running Grid Network Regression: 200 nodes\n"
     ]
    },
    {
     "name": "stderr",
     "output_type": "stream",
     "text": [
      "2020-05-22 13:34:14,406:INFO:First current path [1, 80, 176, 291, 117] formed at time = 0.76 s.\n"
     ]
    },
    {
     "name": "stdout",
     "output_type": "stream",
     "text": [
      "Running Random Network Regression: 50 nodes\n",
      "Running Random Network Regression: 100 nodes\n",
      "Running Random Network Regression: 298 nodes\n"
     ]
    },
    {
     "name": "stderr",
     "output_type": "stream",
     "text": [
      "2020-05-22 13:34:14,675:INFO:First current path [0, 290, 281, 272, 263, 254, 245, 236, 227, 218, 209, 200, 191, 182, 173, 164, 155, 146] formed at time = 0.75 s.\n"
     ]
    },
    {
     "name": "stdout",
     "output_type": "stream",
     "text": [
      "Running Grid Network Regression: 250 nodes\n",
      "Running Random Network Regression: 150 nodes\n"
     ]
    },
    {
     "data": {
      "application/vnd.jupyter.widget-view+json": {
       "model_id": "f209e166b03c458aa45d13b982a3e9ae",
       "version_major": 2,
       "version_minor": 0
      },
      "text/plain": [
       "HBox(children=(IntProgress(value=0, description='Running Simulation ', max=500, style=ProgressStyle(descriptio…"
      ]
     },
     "metadata": {},
     "output_type": "display_data"
    },
    {
     "name": "stderr",
     "output_type": "stream",
     "text": [
      "2020-05-22 13:34:14,865:INFO:First current path [1, 143, 166, 81, 139] formed at time = 0.76 s.\n"
     ]
    },
    {
     "name": "stdout",
     "output_type": "stream",
     "text": [
      "Running Random Network Regression: 50 nodes\n",
      "Running Random Network Regression: 295 nodes\n",
      "Running Random Network Regression: 100 nodes\n",
      "Running Random Network Regression: 200 nodes\n",
      "Running Random Network Regression: 150 nodes\n"
     ]
    },
    {
     "name": "stderr",
     "output_type": "stream",
     "text": [
      "2020-05-22 13:34:15,315:INFO:First current path [0, 290, 281, 272, 263, 254, 245, 236, 227, 218, 209, 200, 191, 182, 173, 164, 155, 146] formed at time = 0.75 s.\n"
     ]
    },
    {
     "data": {
      "application/vnd.jupyter.widget-view+json": {
       "model_id": "37631c41375f426682f864a93655f576",
       "version_major": 2,
       "version_minor": 0
      },
      "text/plain": [
       "HBox(children=(IntProgress(value=0, description='Running Simulation ', max=500, style=ProgressStyle(descriptio…"
      ]
     },
     "metadata": {},
     "output_type": "display_data"
    },
    {
     "name": "stdout",
     "output_type": "stream",
     "text": [
      "Running Random Network Regression: 200 nodes\n",
      "Running Grid Network Regression: 296 nodes\n",
      "Running Random Network Regression: 250 nodes\n",
      "Running Grid Network Regression: 50 nodes\n",
      "Running Grid Network Regression: 100 nodes\n",
      "Running Grid Network Regression: 150 nodes\n",
      "Running Grid Network Regression: 50 nodes\n",
      "Running Random Network Regression: 250 nodes\n"
     ]
    },
    {
     "data": {
      "application/vnd.jupyter.widget-view+json": {
       "model_id": "8ab9595b644948b39a28658a0897e961",
       "version_major": 2,
       "version_minor": 0
      },
      "text/plain": [
       "HBox(children=(IntProgress(value=0, description='Running Simulation ', max=500, style=ProgressStyle(descriptio…"
      ]
     },
     "metadata": {},
     "output_type": "display_data"
    },
    {
     "data": {
      "application/vnd.jupyter.widget-view+json": {
       "model_id": "7dc190222cbc48c3a55606d689827a6d",
       "version_major": 2,
       "version_minor": 0
      },
      "text/plain": [
       "HBox(children=(IntProgress(value=0, description='Running Simulation ', max=500, style=ProgressStyle(descriptio…"
      ]
     },
     "metadata": {},
     "output_type": "display_data"
    },
    {
     "name": "stdout",
     "output_type": "stream",
     "text": [
      "Running Grid Network Regression: 100 nodes\n",
      "Running Grid Network Regression: 200 nodes\n"
     ]
    },
    {
     "name": "stderr",
     "output_type": "stream",
     "text": [
      "2020-05-22 13:34:16,264:INFO:First current path [0, 121, 154, 2] formed at time = 0.75 s.\n"
     ]
    },
    {
     "name": "stdout",
     "output_type": "stream",
     "text": [
      "Running Random Network Regression: 50 nodes\n",
      "Running Grid Network Regression: 150 nodes\n",
      "Running Random Network Regression: 100 nodes\n",
      "Running Random Network Regression: 293 nodes\n",
      "Running Random Network Regression: 150 nodes\n",
      "Running Grid Network Regression: 200 nodes\n",
      "Running Grid Network Regression: 250 nodes\n"
     ]
    },
    {
     "name": "stderr",
     "output_type": "stream",
     "text": [
      "2020-05-22 13:34:16,823:INFO:First current path [0, 6, 16, 26, 36, 46, 56, 66, 76, 86, 96, 106, 116, 126, 136, 142] formed at time = 0.76 s.\n"
     ]
    },
    {
     "name": "stdout",
     "output_type": "stream",
     "text": [
      "Running Random Network Regression: 200 nodes\n",
      "Running Random Network Regression: 297 nodes\n"
     ]
    },
    {
     "data": {
      "application/vnd.jupyter.widget-view+json": {
       "model_id": "2e4274ab4872411095ba2b734bcc95e8",
       "version_major": 2,
       "version_minor": 0
      },
      "text/plain": [
       "HBox(children=(IntProgress(value=0, description='Running Simulation ', max=500, style=ProgressStyle(descriptio…"
      ]
     },
     "metadata": {},
     "output_type": "display_data"
    },
    {
     "name": "stdout",
     "output_type": "stream",
     "text": [
      "Running Grid Network Regression: 250 nodes\n",
      "Running Random Network Regression: 250 nodes\n",
      "Running Grid Network Regression: 50 nodes\n",
      "Running Grid Network Regression: 298 nodes\n"
     ]
    },
    {
     "name": "stderr",
     "output_type": "stream",
     "text": [
      "2020-05-22 13:34:17,529:INFO:First current path [0, 290, 281, 272, 263, 254, 245, 236, 227, 218, 209, 200, 191, 182, 173, 164, 155, 146] formed at time = 0.75 s.\n"
     ]
    },
    {
     "name": "stdout",
     "output_type": "stream",
     "text": [
      "Running Grid Network Regression: 100 nodes\n"
     ]
    },
    {
     "name": "stderr",
     "output_type": "stream",
     "text": [
      "2020-05-22 13:34:17,637:INFO:First current path [0, 2, 194, 7] formed at time = 0.75 s.\n"
     ]
    },
    {
     "name": "stdout",
     "output_type": "stream",
     "text": [
      "Running Random Network Regression: 50 nodes\n"
     ]
    },
    {
     "data": {
      "application/vnd.jupyter.widget-view+json": {
       "model_id": "82c531e1117042a88344b53c89ea9304",
       "version_major": 2,
       "version_minor": 0
      },
      "text/plain": [
       "HBox(children=(IntProgress(value=0, description='Running Simulation ', max=500, style=ProgressStyle(descriptio…"
      ]
     },
     "metadata": {},
     "output_type": "display_data"
    },
    {
     "name": "stdout",
     "output_type": "stream",
     "text": [
      "Running Random Network Regression: 100 nodes\n",
      "Running Grid Network Regression: 150 nodes\n",
      "Running Random Network Regression: 150 nodes\n",
      "Running Grid Network Regression: 295 nodes\n",
      "Running Grid Network Regression: 200 nodes\n",
      "Running Grid Network Regression: 50 nodes\n",
      "Running Grid Network Regression: 100 nodes\n",
      "Running Random Network Regression: 200 nodes\n",
      "Running Random Network Regression: 299 nodes\n",
      "Running Grid Network Regression: 150 nodes\n"
     ]
    },
    {
     "name": "stderr",
     "output_type": "stream",
     "text": [
      "2020-05-22 13:34:18,573:INFO:First current path [0, 20, 134, 5] formed at time = 0.75 s.\n"
     ]
    },
    {
     "name": "stdout",
     "output_type": "stream",
     "text": [
      "Running Random Network Regression: 50 nodes\n"
     ]
    },
    {
     "data": {
      "application/vnd.jupyter.widget-view+json": {
       "model_id": "c215a27a57f347aab5deecf77933f06f",
       "version_major": 2,
       "version_minor": 0
      },
      "text/plain": [
       "HBox(children=(IntProgress(value=0, description='Running Simulation ', max=500, style=ProgressStyle(descriptio…"
      ]
     },
     "metadata": {},
     "output_type": "display_data"
    },
    {
     "name": "stdout",
     "output_type": "stream",
     "text": [
      "Running Grid Network Regression: 250 nodes\n",
      "Running Random Network Regression: 100 nodes\n",
      "Running Grid Network Regression: 200 nodes\n",
      "Running Random Network Regression: 250 nodes\n",
      "Running Random Network Regression: 150 nodes\n"
     ]
    },
    {
     "data": {
      "application/vnd.jupyter.widget-view+json": {
       "model_id": "a11367bab6d7415db8911cc6e7898b2a",
       "version_major": 2,
       "version_minor": 0
      },
      "text/plain": [
       "HBox(children=(IntProgress(value=0, description='Running Simulation ', max=500, style=ProgressStyle(descriptio…"
      ]
     },
     "metadata": {},
     "output_type": "display_data"
    },
    {
     "name": "stdout",
     "output_type": "stream",
     "text": [
      "Running Random Network Regression: 200 nodes\n"
     ]
    },
    {
     "name": "stderr",
     "output_type": "stream",
     "text": [
      "2020-05-22 13:34:19,252:INFO:First current path [0, 35, 226, 4] formed at time = 0.75 s.\n"
     ]
    },
    {
     "name": "stdout",
     "output_type": "stream",
     "text": [
      "Running Random Network Regression: 50 nodes\n",
      "Running Grid Network Regression: 250 nodes\n",
      "Running Random Network Regression: 100 nodes\n",
      "Running Grid Network Regression: 50 nodes\n",
      "Running Grid Network Regression: 293 nodes\n",
      "Running Random Network Regression: 150 nodes\n",
      "Running Grid Network Regression: 100 nodes\n",
      "Running Random Network Regression: 299 nodes\n",
      "Running Grid Network Regression: 150 nodes\n",
      "Running Random Network Regression: 250 nodes\n",
      "Running Random Network Regression: 200 nodes\n"
     ]
    },
    {
     "name": "stderr",
     "output_type": "stream",
     "text": [
      "2020-05-22 13:34:20,011:INFO:First current path [0, 5, 14, 23, 32, 41, 50, 59, 68, 77, 86, 95, 104, 113, 122, 131, 140, 146] formed at time = 0.76 s.\n"
     ]
    },
    {
     "name": "stdout",
     "output_type": "stream",
     "text": [
      "Running Grid Network Regression: 200 nodes\n",
      "Running Grid Network Regression: 297 nodes\n"
     ]
    },
    {
     "data": {
      "application/vnd.jupyter.widget-view+json": {
       "model_id": "1886a938d3034dbdb833cb9a9ac997be",
       "version_major": 2,
       "version_minor": 0
      },
      "text/plain": [
       "HBox(children=(IntProgress(value=0, description='Running Simulation ', max=500, style=ProgressStyle(descriptio…"
      ]
     },
     "metadata": {},
     "output_type": "display_data"
    },
    {
     "name": "stdout",
     "output_type": "stream",
     "text": [
      "Running Random Network Regression: 250 nodes\n"
     ]
    },
    {
     "name": "stderr",
     "output_type": "stream",
     "text": [
      "2020-05-22 13:34:20,453:INFO:First current path [0, 5, 14, 23, 32, 41, 50, 59, 68, 77, 86, 95, 104, 113, 122, 131, 140, 146] formed at time = 0.76 s.\n"
     ]
    },
    {
     "name": "stdout",
     "output_type": "stream",
     "text": [
      "Running Grid Network Regression: 250 nodes\n"
     ]
    },
    {
     "data": {
      "application/vnd.jupyter.widget-view+json": {
       "model_id": "fcebcb9894884612898629e5cbbe8cc4",
       "version_major": 2,
       "version_minor": 0
      },
      "text/plain": [
       "HBox(children=(IntProgress(value=0, description='Running Simulation ', max=500, style=ProgressStyle(descriptio…"
      ]
     },
     "metadata": {},
     "output_type": "display_data"
    },
    {
     "name": "stdout",
     "output_type": "stream",
     "text": [
      "Running Random Network Regression: 299 nodes\n",
      "Running Grid Network Regression: 50 nodes\n",
      "Running Grid Network Regression: 100 nodes\n"
     ]
    },
    {
     "data": {
      "application/vnd.jupyter.widget-view+json": {
       "model_id": "39a33a0eb0d246f09f4161d5df5cab16",
       "version_major": 2,
       "version_minor": 0
      },
      "text/plain": [
       "HBox(children=(IntProgress(value=0, description='Running Simulation ', max=500, style=ProgressStyle(descriptio…"
      ]
     },
     "metadata": {},
     "output_type": "display_data"
    },
    {
     "name": "stdout",
     "output_type": "stream",
     "text": [
      "Running Grid Network Regression: 150 nodes\n",
      "Running Random Network Regression: 299 nodes\n",
      "Running Grid Network Regression: 200 nodes\n",
      "Running Grid Network Regression: 299 nodes\n"
     ]
    },
    {
     "data": {
      "application/vnd.jupyter.widget-view+json": {
       "model_id": "bccf8128d7324ad59f30404e456e2422",
       "version_major": 2,
       "version_minor": 0
      },
      "text/plain": [
       "HBox(children=(IntProgress(value=0, description='Running Simulation ', max=500, style=ProgressStyle(descriptio…"
      ]
     },
     "metadata": {},
     "output_type": "display_data"
    },
    {
     "name": "stderr",
     "output_type": "stream",
     "text": [
      "2020-05-22 13:34:21,585:INFO:First current path [0, 38, 155, 9] formed at time = 0.75 s.\n"
     ]
    },
    {
     "name": "stdout",
     "output_type": "stream",
     "text": [
      "Running Random Network Regression: 50 nodes\n",
      "Running Random Network Regression: 100 nodes\n",
      "Running Grid Network Regression: 50 nodes\n",
      "Running Grid Network Regression: 100 nodes\n",
      "Running Random Network Regression: 150 nodes\n",
      "Running Grid Network Regression: 250 nodes\n",
      "Running Grid Network Regression: 150 nodes\n"
     ]
    },
    {
     "name": "stderr",
     "output_type": "stream",
     "text": [
      "2020-05-22 13:34:22,045:INFO:First current path [0, 52, 66, 12] formed at time = 0.75 s.\n"
     ]
    },
    {
     "name": "stdout",
     "output_type": "stream",
     "text": [
      "Running Random Network Regression: 50 nodes\n",
      "Running Random Network Regression: 100 nodes\n",
      "Running Random Network Regression: 200 nodes\n"
     ]
    },
    {
     "name": "stderr",
     "output_type": "stream",
     "text": [
      "2020-05-22 13:34:22,251:INFO:First current path [0, 6, 16, 26, 36, 46, 56, 66, 76, 86, 96, 106, 116, 126, 136, 142] formed at time = 0.76 s.\n"
     ]
    },
    {
     "name": "stdout",
     "output_type": "stream",
     "text": [
      "Running Random Network Regression: 150 nodes\n"
     ]
    },
    {
     "data": {
      "application/vnd.jupyter.widget-view+json": {
       "model_id": "0a3832f20edb439c8ad0f51c4b34ed92",
       "version_major": 2,
       "version_minor": 0
      },
      "text/plain": [
       "HBox(children=(IntProgress(value=0, description='Running Simulation ', max=500, style=ProgressStyle(descriptio…"
      ]
     },
     "metadata": {},
     "output_type": "display_data"
    },
    {
     "name": "stdout",
     "output_type": "stream",
     "text": [
      "Running Grid Network Regression: 200 nodes\n",
      "Running Grid Network Regression: 50 nodes\n"
     ]
    },
    {
     "data": {
      "application/vnd.jupyter.widget-view+json": {
       "model_id": "9dcc8a8d264f49a2ad8026c1d8b3fa1f",
       "version_major": 2,
       "version_minor": 0
      },
      "text/plain": [
       "HBox(children=(IntProgress(value=0, description='Running Simulation ', max=500, style=ProgressStyle(descriptio…"
      ]
     },
     "metadata": {},
     "output_type": "display_data"
    },
    {
     "name": "stdout",
     "output_type": "stream",
     "text": [
      "Running Grid Network Regression: 100 nodes\n",
      "Running Random Network Regression: 200 nodes\n",
      "Running Grid Network Regression: 299 nodes\n",
      "Running Grid Network Regression: 150 nodes\n",
      "Running Random Network Regression: 250 nodes\n"
     ]
    },
    {
     "name": "stderr",
     "output_type": "stream",
     "text": [
      "2020-05-22 13:34:22,869:INFO:First current path [0, 289, 281, 273, 265, 257, 249, 241, 233, 225, 217, 209, 201, 193, 185, 177, 169, 161, 153, 146] formed at time = 0.75 s.\n"
     ]
    },
    {
     "name": "stdout",
     "output_type": "stream",
     "text": [
      "Running Grid Network Regression: 250 nodes\n"
     ]
    },
    {
     "data": {
      "application/vnd.jupyter.widget-view+json": {
       "model_id": "0e0e0b99df6748f58f7e860d2f2689d1",
       "version_major": 2,
       "version_minor": 0
      },
      "text/plain": [
       "HBox(children=(IntProgress(value=0, description='Running Simulation ', max=500, style=ProgressStyle(descriptio…"
      ]
     },
     "metadata": {},
     "output_type": "display_data"
    },
    {
     "name": "stdout",
     "output_type": "stream",
     "text": [
      "Running Grid Network Regression: 200 nodes\n",
      "Running Random Network Regression: 250 nodes\n",
      "Running Random Network Regression: 300 nodes\n",
      "Running Grid Network Regression: 250 nodes\n"
     ]
    },
    {
     "name": "stderr",
     "output_type": "stream",
     "text": [
      "2020-05-22 13:34:23,746:INFO:First current path [0, 5, 14, 23, 32, 41, 50, 59, 68, 77, 86, 95, 104, 113, 122, 131, 140, 146] formed at time = 0.76 s.\n"
     ]
    },
    {
     "name": "stdout",
     "output_type": "stream",
     "text": [
      "Running Grid Network Regression: 299 nodes\n"
     ]
    },
    {
     "data": {
      "application/vnd.jupyter.widget-view+json": {
       "model_id": "32abb80d78994a94a3808cfe9172181d",
       "version_major": 2,
       "version_minor": 0
      },
      "text/plain": [
       "HBox(children=(IntProgress(value=0, description='Running Simulation ', max=500, style=ProgressStyle(descriptio…"
      ]
     },
     "metadata": {},
     "output_type": "display_data"
    },
    {
     "name": "stderr",
     "output_type": "stream",
     "text": [
      "2020-05-22 13:34:24,041:INFO:First current path [0, 4, 163, 5] formed at time = 0.75 s.\n"
     ]
    },
    {
     "name": "stdout",
     "output_type": "stream",
     "text": [
      "Running Random Network Regression: 50 nodes\n",
      "Running Random Network Regression: 100 nodes\n",
      "Running Random Network Regression: 300 nodes\n",
      "Running Random Network Regression: 150 nodes\n"
     ]
    },
    {
     "name": "stderr",
     "output_type": "stream",
     "text": [
      "2020-05-22 13:34:24,505:INFO:First current path [0, 28, 62, 8] formed at time = 0.75 s.\n"
     ]
    },
    {
     "name": "stdout",
     "output_type": "stream",
     "text": [
      "Running Random Network Regression: 50 nodes\n",
      "Running Grid Network Regression: 299 nodes\n",
      "Running Random Network Regression: 100 nodes\n",
      "Running Random Network Regression: 200 nodes\n",
      "Running Random Network Regression: 150 nodes\n",
      "Running Grid Network Regression: 50 nodes\n",
      "Running Grid Network Regression: 100 nodes\n",
      "Running Grid Network Regression: 150 nodes\n",
      "Running Random Network Regression: 200 nodes\n",
      "Running Random Network Regression: 250 nodes\n"
     ]
    },
    {
     "data": {
      "application/vnd.jupyter.widget-view+json": {
       "model_id": "3a7cdf27da5d46018fffbc32208d03e8",
       "version_major": 2,
       "version_minor": 0
      },
      "text/plain": [
       "HBox(children=(IntProgress(value=0, description='Running Simulation ', max=500, style=ProgressStyle(descriptio…"
      ]
     },
     "metadata": {},
     "output_type": "display_data"
    },
    {
     "name": "stdout",
     "output_type": "stream",
     "text": [
      "Running Grid Network Regression: 50 nodes\n"
     ]
    },
    {
     "name": "stderr",
     "output_type": "stream",
     "text": [
      "2020-05-22 13:34:25,415:INFO:First current path [0, 32, 277, 6] formed at time = 0.75 s.\n"
     ]
    },
    {
     "name": "stdout",
     "output_type": "stream",
     "text": [
      "Running Random Network Regression: 50 nodes\n",
      "Running Grid Network Regression: 200 nodes\n",
      "Running Grid Network Regression: 100 nodes\n",
      "Running Random Network Regression: 100 nodes\n",
      "Running Grid Network Regression: 150 nodes\n",
      "Running Random Network Regression: 150 nodes\n",
      "Running Random Network Regression: 250 nodes\n"
     ]
    },
    {
     "data": {
      "application/vnd.jupyter.widget-view+json": {
       "model_id": "21b60e9c197f40bcb8add72a0bb515a4",
       "version_major": 2,
       "version_minor": 0
      },
      "text/plain": [
       "HBox(children=(IntProgress(value=0, description='Running Simulation ', max=500, style=ProgressStyle(descriptio…"
      ]
     },
     "metadata": {},
     "output_type": "display_data"
    },
    {
     "name": "stdout",
     "output_type": "stream",
     "text": [
      "Running Grid Network Regression: 200 nodes\n",
      "Running Grid Network Regression: 250 nodes\n",
      "Running Random Network Regression: 200 nodes\n",
      "Running Random Network Regression: 299 nodes\n"
     ]
    },
    {
     "data": {
      "application/vnd.jupyter.widget-view+json": {
       "model_id": "2088753519834e0c96b983c251705888",
       "version_major": 2,
       "version_minor": 0
      },
      "text/plain": [
       "HBox(children=(IntProgress(value=0, description='Running Simulation ', max=500, style=ProgressStyle(descriptio…"
      ]
     },
     "metadata": {},
     "output_type": "display_data"
    },
    {
     "name": "stdout",
     "output_type": "stream",
     "text": [
      "Running Random Network Regression: 296 nodes\n",
      "Running Grid Network Regression: 250 nodes\n",
      "Running Random Network Regression: 250 nodes\n"
     ]
    },
    {
     "name": "stderr",
     "output_type": "stream",
     "text": [
      "2020-05-22 13:34:26,658:INFO:First current path [0, 290, 281, 272, 263, 254, 245, 236, 227, 218, 209, 200, 191, 182, 173, 164, 155, 146] formed at time = 0.75 s.\n"
     ]
    },
    {
     "data": {
      "application/vnd.jupyter.widget-view+json": {
       "model_id": "83dc120a131c445f95ffe44667a070c3",
       "version_major": 2,
       "version_minor": 0
      },
      "text/plain": [
       "HBox(children=(IntProgress(value=0, description='Running Simulation ', max=500, style=ProgressStyle(descriptio…"
      ]
     },
     "metadata": {},
     "output_type": "display_data"
    },
    {
     "name": "stdout",
     "output_type": "stream",
     "text": [
      "Running Grid Network Regression: 300 nodes\n"
     ]
    },
    {
     "name": "stderr",
     "output_type": "stream",
     "text": [
      "2020-05-22 13:34:27,116:INFO:First current path [0, 6, 17, 28, 39, 50, 61, 72, 83, 94, 105, 116, 127, 138, 145] formed at time = 0.76 s.\n"
     ]
    },
    {
     "name": "stdout",
     "output_type": "stream",
     "text": [
      "Running Grid Network Regression: 50 nodes\n",
      "Running Grid Network Regression: 100 nodes\n"
     ]
    },
    {
     "data": {
      "application/vnd.jupyter.widget-view+json": {
       "model_id": "deb6672d6aa8486897b6f05337131c4c",
       "version_major": 2,
       "version_minor": 0
      },
      "text/plain": [
       "HBox(children=(IntProgress(value=0, description='Running Simulation ', max=500, style=ProgressStyle(descriptio…"
      ]
     },
     "metadata": {},
     "output_type": "display_data"
    },
    {
     "data": {
      "application/vnd.jupyter.widget-view+json": {
       "model_id": "a30e4f7e2499463fb90f14d56c6a9832",
       "version_major": 2,
       "version_minor": 0
      },
      "text/plain": [
       "HBox(children=(IntProgress(value=0, description='Running Simulation ', max=500, style=ProgressStyle(descriptio…"
      ]
     },
     "metadata": {},
     "output_type": "display_data"
    },
    {
     "name": "stdout",
     "output_type": "stream",
     "text": [
      "Running Grid Network Regression: 300 nodes\n",
      "Running Grid Network Regression: 150 nodes\n",
      "Running Random Network Regression: 298 nodes\n",
      "Running Grid Network Regression: 50 nodes\n",
      "Running Grid Network Regression: 100 nodes\n",
      "Running Grid Network Regression: 200 nodes\n"
     ]
    },
    {
     "name": "stderr",
     "output_type": "stream",
     "text": [
      "2020-05-22 13:34:27,865:INFO:First current path [0, 6, 17, 28, 39, 50, 61, 72, 83, 94, 105, 116, 127, 138, 145] formed at time = 0.76 s.\n"
     ]
    },
    {
     "name": "stdout",
     "output_type": "stream",
     "text": [
      "Running Grid Network Regression: 150 nodes\n"
     ]
    },
    {
     "data": {
      "application/vnd.jupyter.widget-view+json": {
       "model_id": "34984dd6bba74df7a157c02d972d0286",
       "version_major": 2,
       "version_minor": 0
      },
      "text/plain": [
       "HBox(children=(IntProgress(value=0, description='Running Simulation ', max=500, style=ProgressStyle(descriptio…"
      ]
     },
     "metadata": {},
     "output_type": "display_data"
    },
    {
     "data": {
      "application/vnd.jupyter.widget-view+json": {
       "model_id": "3dc201ad01d34243be90e80a8cf815ef",
       "version_major": 2,
       "version_minor": 0
      },
      "text/plain": [
       "HBox(children=(IntProgress(value=0, description='Running Simulation ', max=500, style=ProgressStyle(descriptio…"
      ]
     },
     "metadata": {},
     "output_type": "display_data"
    },
    {
     "name": "stdout",
     "output_type": "stream",
     "text": [
      "Running Grid Network Regression: 200 nodes\n"
     ]
    },
    {
     "name": "stderr",
     "output_type": "stream",
     "text": [
      "2020-05-22 13:34:28,277:INFO:First current path [0, 20, 222, 6] formed at time = 0.75 s.\n"
     ]
    },
    {
     "name": "stdout",
     "output_type": "stream",
     "text": [
      "Running Random Network Regression: 50 nodes\n",
      "Running Grid Network Regression: 250 nodes\n",
      "Running Random Network Regression: 100 nodes\n",
      "Running Random Network Regression: 150 nodes\n",
      "Running Grid Network Regression: 50 nodes\n",
      "Running Grid Network Regression: 100 nodes\n"
     ]
    },
    {
     "name": "stderr",
     "output_type": "stream",
     "text": [
      "2020-05-22 13:34:28,735:INFO:First current path [0, 6, 17, 28, 39, 50, 61, 72, 83, 94, 105, 116, 127, 138, 145] formed at time = 0.76 s.\n",
      "2020-05-22 13:34:28,785:INFO:First current path [0, 52, 268, 39] formed at time = 0.75 s.\n"
     ]
    },
    {
     "name": "stdout",
     "output_type": "stream",
     "text": [
      "Running Random Network Regression: 50 nodes\n",
      "Running Grid Network Regression: 250 nodes\n",
      "Running Random Network Regression: 200 nodes\n",
      "Running Random Network Regression: 100 nodes\n"
     ]
    },
    {
     "data": {
      "application/vnd.jupyter.widget-view+json": {
       "model_id": "cd518882a7244a92873ffc63129bf30c",
       "version_major": 2,
       "version_minor": 0
      },
      "text/plain": [
       "HBox(children=(IntProgress(value=0, description='Running Simulation ', max=500, style=ProgressStyle(descriptio…"
      ]
     },
     "metadata": {},
     "output_type": "display_data"
    },
    {
     "name": "stdout",
     "output_type": "stream",
     "text": [
      "Running Grid Network Regression: 150 nodes\n",
      "Running Random Network Regression: 150 nodes\n",
      "Running Grid Network Regression: 299 nodes\n",
      "Running Grid Network Regression: 200 nodes\n"
     ]
    },
    {
     "data": {
      "application/vnd.jupyter.widget-view+json": {
       "model_id": "ef44b831390346fdb255b745585e0fee",
       "version_major": 2,
       "version_minor": 0
      },
      "text/plain": [
       "HBox(children=(IntProgress(value=0, description='Running Simulation ', max=500, style=ProgressStyle(descriptio…"
      ]
     },
     "metadata": {},
     "output_type": "display_data"
    },
    {
     "name": "stdout",
     "output_type": "stream",
     "text": [
      "Running Random Network Regression: 200 nodes\n",
      "Running Random Network Regression: 250 nodes\n"
     ]
    },
    {
     "name": "stderr",
     "output_type": "stream",
     "text": [
      "2020-05-22 13:34:29,464:INFO:First current path [0, 289, 277, 265, 253, 241, 229, 217, 205, 193, 181, 169, 157, 146] formed at time = 0.75 s.\n",
      "2020-05-22 13:34:29,494:INFO:First current path [0, 104, 274, 13] formed at time = 0.75 s.\n"
     ]
    },
    {
     "name": "stdout",
     "output_type": "stream",
     "text": [
      "Running Random Network Regression: 50 nodes\n",
      "Running Random Network Regression: 100 nodes\n",
      "Running Grid Network Regression: 296 nodes\n"
     ]
    },
    {
     "data": {
      "application/vnd.jupyter.widget-view+json": {
       "model_id": "59038262cc6443f7b340cf2a5493dd67",
       "version_major": 2,
       "version_minor": 0
      },
      "text/plain": [
       "HBox(children=(IntProgress(value=0, description='Running Simulation ', max=500, style=ProgressStyle(descriptio…"
      ]
     },
     "metadata": {},
     "output_type": "display_data"
    },
    {
     "name": "stdout",
     "output_type": "stream",
     "text": [
      "Running Random Network Regression: 150 nodes\n",
      "Running Grid Network Regression: 250 nodes\n",
      "Running Random Network Regression: 250 nodes\n",
      "Running Random Network Regression: 200 nodes\n",
      "Running Random Network Regression: 299 nodes\n"
     ]
    },
    {
     "name": "stderr",
     "output_type": "stream",
     "text": [
      "2020-05-22 13:34:30,358:INFO:First current path [0, 20, 86, 35] formed at time = 0.75 s.\n"
     ]
    },
    {
     "name": "stdout",
     "output_type": "stream",
     "text": [
      "Running Random Network Regression: 50 nodes\n",
      "Running Random Network Regression: 100 nodes\n"
     ]
    },
    {
     "data": {
      "application/vnd.jupyter.widget-view+json": {
       "model_id": "bddd2c86d204401a97835283d29afaf1",
       "version_major": 2,
       "version_minor": 0
      },
      "text/plain": [
       "HBox(children=(IntProgress(value=0, description='Running Simulation ', max=500, style=ProgressStyle(descriptio…"
      ]
     },
     "metadata": {},
     "output_type": "display_data"
    },
    {
     "name": "stdout",
     "output_type": "stream",
     "text": [
      "Running Random Network Regression: 150 nodes\n",
      "Running Random Network Regression: 250 nodes\n",
      "Running Grid Network Regression: 298 nodes\n",
      "Running Random Network Regression: 300 nodes\n"
     ]
    },
    {
     "name": "stderr",
     "output_type": "stream",
     "text": [
      "2020-05-22 13:34:30,793:INFO:First current path [0, 6, 17, 28, 39, 50, 61, 72, 83, 94, 105, 116, 127, 138, 145] formed at time = 0.76 s.\n"
     ]
    },
    {
     "name": "stdout",
     "output_type": "stream",
     "text": [
      "Running Random Network Regression: 200 nodes\n"
     ]
    },
    {
     "data": {
      "application/vnd.jupyter.widget-view+json": {
       "model_id": "1e446fc55c9040f88fdd3bfa3d274795",
       "version_major": 2,
       "version_minor": 0
      },
      "text/plain": [
       "HBox(children=(IntProgress(value=0, description='Running Simulation ', max=500, style=ProgressStyle(descriptio…"
      ]
     },
     "metadata": {},
     "output_type": "display_data"
    },
    {
     "name": "stderr",
     "output_type": "stream",
     "text": [
      "2020-05-22 13:34:31,145:INFO:First current path [0, 22, 281, 25] formed at time = 0.75 s.\n"
     ]
    },
    {
     "name": "stdout",
     "output_type": "stream",
     "text": [
      "Running Random Network Regression: 50 nodes\n",
      "Running Random Network Regression: 100 nodes\n",
      "Running Grid Network Regression: 50 nodes\n",
      "Running Grid Network Regression: 100 nodes\n",
      "Running Random Network Regression: 150 nodes\n",
      "Running Random Network Regression: 298 nodes\n",
      "Running Random Network Regression: 250 nodes\n",
      "Running Grid Network Regression: 150 nodes\n",
      "Running Random Network Regression: 200 nodes\n",
      "Running Grid Network Regression: 200 nodes\n",
      "Running Grid Network Regression: 50 nodes\n",
      "Running Grid Network Regression: 100 nodes\n"
     ]
    },
    {
     "name": "stderr",
     "output_type": "stream",
     "text": [
      "2020-05-22 13:34:32,121:INFO:First current path [0, 289, 277, 265, 253, 241, 229, 217, 205, 193, 181, 169, 157, 146] formed at time = 0.75 s.\n"
     ]
    },
    {
     "name": "stdout",
     "output_type": "stream",
     "text": [
      "Running Grid Network Regression: 150 nodes\n"
     ]
    },
    {
     "data": {
      "application/vnd.jupyter.widget-view+json": {
       "model_id": "99228a845d734ca4b9e6bd59483a8beb",
       "version_major": 2,
       "version_minor": 0
      },
      "text/plain": [
       "HBox(children=(IntProgress(value=0, description='Running Simulation ', max=500, style=ProgressStyle(descriptio…"
      ]
     },
     "metadata": {},
     "output_type": "display_data"
    },
    {
     "name": "stdout",
     "output_type": "stream",
     "text": [
      "Running Random Network Regression: 250 nodes\n",
      "Running Random Network Regression: 300 nodes\n"
     ]
    },
    {
     "name": "stderr",
     "output_type": "stream",
     "text": [
      "2020-05-22 13:34:32,575:INFO:First current path [0, 4, 44, 11] formed at time = 0.75 s.\n"
     ]
    },
    {
     "name": "stdout",
     "output_type": "stream",
     "text": [
      "Running Random Network Regression: 50 nodes\n",
      "Running Grid Network Regression: 250 nodes\n",
      "Running Grid Network Regression: 200 nodes\n",
      "Running Random Network Regression: 100 nodes\n",
      "Running Grid Network Regression: 50 nodes\n",
      "Running Grid Network Regression: 100 nodes\n",
      "Running Random Network Regression: 150 nodes\n",
      "Running Grid Network Regression: 150 nodes\n",
      "Running Grid Network Regression: 250 nodes\n",
      "Running Random Network Regression: 200 nodes\n",
      "Running Random Network Regression: 300 nodes\n",
      "Running Grid Network Regression: 200 nodes\n",
      "Running Grid Network Regression: 299 nodes\n",
      "Running Grid Network Regression: 50 nodes\n",
      "Running Grid Network Regression: 100 nodes\n",
      "Running Random Network Regression: 250 nodes\n",
      "Running Grid Network Regression: 150 nodes\n",
      "Running Grid Network Regression: 250 nodes\n"
     ]
    },
    {
     "name": "stderr",
     "output_type": "stream",
     "text": [
      "2020-05-22 13:34:33,919:INFO:First current path [0, 27, 221, 6] formed at time = 0.75 s.\n"
     ]
    },
    {
     "name": "stdout",
     "output_type": "stream",
     "text": [
      "Running Random Network Regression: 50 nodes\n",
      "Running Random Network Regression: 100 nodes\n",
      "Running Grid Network Regression: 300 nodes\n"
     ]
    },
    {
     "data": {
      "application/vnd.jupyter.widget-view+json": {
       "model_id": "57c982a326da4552afb471298d30305e",
       "version_major": 2,
       "version_minor": 0
      },
      "text/plain": [
       "HBox(children=(IntProgress(value=0, description='Running Simulation ', max=500, style=ProgressStyle(descriptio…"
      ]
     },
     "metadata": {},
     "output_type": "display_data"
    },
    {
     "name": "stdout",
     "output_type": "stream",
     "text": [
      "Running Random Network Regression: 150 nodes\n",
      "Running Grid Network Regression: 200 nodes\n"
     ]
    },
    {
     "data": {
      "application/vnd.jupyter.widget-view+json": {
       "model_id": "0be7a5b2a8484bd689187e0ac9154d36",
       "version_major": 2,
       "version_minor": 0
      },
      "text/plain": [
       "HBox(children=(IntProgress(value=0, description='Running Simulation ', max=500, style=ProgressStyle(descriptio…"
      ]
     },
     "metadata": {},
     "output_type": "display_data"
    },
    {
     "name": "stdout",
     "output_type": "stream",
     "text": [
      "Running Grid Network Regression: 50 nodes\n",
      "Running Random Network Regression: 200 nodes\n",
      "Running Grid Network Regression: 100 nodes\n",
      "Running Random Network Regression: 300 nodes\n",
      "Running Grid Network Regression: 298 nodes\n",
      "Running Grid Network Regression: 150 nodes\n",
      "Running Grid Network Regression: 250 nodes\n"
     ]
    },
    {
     "data": {
      "application/vnd.jupyter.widget-view+json": {
       "model_id": "0047ba25f2c342839aadfac5cc7a8dfc",
       "version_major": 2,
       "version_minor": 0
      },
      "text/plain": [
       "HBox(children=(IntProgress(value=0, description='Running Simulation ', max=500, style=ProgressStyle(descriptio…"
      ]
     },
     "metadata": {},
     "output_type": "display_data"
    },
    {
     "name": "stdout",
     "output_type": "stream",
     "text": [
      "Running Random Network Regression: 250 nodes\n",
      "Running Grid Network Regression: 200 nodes\n"
     ]
    },
    {
     "name": "stderr",
     "output_type": "stream",
     "text": [
      "2020-05-22 13:34:35,579:INFO:First current path [0, 288, 277, 266, 255, 244, 233, 222, 211, 200, 189, 178, 167, 156, 145] formed at time = 0.75 s.\n"
     ]
    },
    {
     "name": "stdout",
     "output_type": "stream",
     "text": [
      "Running Grid Network Regression: 300 nodes\n",
      "Running Grid Network Regression: 250 nodes\n",
      "Running Grid Network Regression: 50 nodes\n"
     ]
    },
    {
     "data": {
      "application/vnd.jupyter.widget-view+json": {
       "model_id": "010219c3a3124706ab23d5130917635d",
       "version_major": 2,
       "version_minor": 0
      },
      "text/plain": [
       "HBox(children=(IntProgress(value=0, description='Running Simulation ', max=500, style=ProgressStyle(descriptio…"
      ]
     },
     "metadata": {},
     "output_type": "display_data"
    },
    {
     "name": "stderr",
     "output_type": "stream",
     "text": [
      "2020-05-22 13:34:35,838:INFO:First current path [0, 288, 277, 266, 255, 244, 233, 222, 211, 200, 189, 178, 167, 156, 145] formed at time = 0.75 s.\n"
     ]
    },
    {
     "name": "stdout",
     "output_type": "stream",
     "text": [
      "Running Grid Network Regression: 100 nodes\n",
      "Running Random Network Regression: 300 nodes\n"
     ]
    },
    {
     "data": {
      "application/vnd.jupyter.widget-view+json": {
       "model_id": "3464fafbf5a04ce9b0d42e1bf1747e77",
       "version_major": 2,
       "version_minor": 0
      },
      "text/plain": [
       "HBox(children=(IntProgress(value=0, description='Running Simulation ', max=500, style=ProgressStyle(descriptio…"
      ]
     },
     "metadata": {},
     "output_type": "display_data"
    },
    {
     "name": "stdout",
     "output_type": "stream",
     "text": [
      "Running Grid Network Regression: 150 nodes\n"
     ]
    },
    {
     "name": "stderr",
     "output_type": "stream",
     "text": [
      "2020-05-22 13:34:36,394:INFO:First current path [0, 6, 16, 26, 36, 46, 56, 66, 76, 86, 96, 106, 116, 126, 136, 142] formed at time = 0.76 s.\n"
     ]
    },
    {
     "name": "stdout",
     "output_type": "stream",
     "text": [
      "Running Grid Network Regression: 200 nodes\n"
     ]
    },
    {
     "data": {
      "application/vnd.jupyter.widget-view+json": {
       "model_id": "b9e4d67901e349b79bf78080874aff31",
       "version_major": 2,
       "version_minor": 0
      },
      "text/plain": [
       "HBox(children=(IntProgress(value=0, description='Running Simulation ', max=500, style=ProgressStyle(descriptio…"
      ]
     },
     "metadata": {},
     "output_type": "display_data"
    },
    {
     "name": "stdout",
     "output_type": "stream",
     "text": [
      "Running Grid Network Regression: 300 nodes\n",
      "Running Grid Network Regression: 250 nodes\n",
      "Running Grid Network Regression: 50 nodes\n"
     ]
    },
    {
     "name": "stderr",
     "output_type": "stream",
     "text": [
      "2020-05-22 13:34:37,339:INFO:First current path [0, 82, 184, 5] formed at time = 0.75 s.\n"
     ]
    },
    {
     "name": "stdout",
     "output_type": "stream",
     "text": [
      "Running Random Network Regression: 50 nodes\n",
      "Running Grid Network Regression: 100 nodes\n",
      "Running Random Network Regression: 100 nodes\n",
      "Running Grid Network Regression: 150 nodes\n",
      "Running Random Network Regression: 150 nodes\n"
     ]
    },
    {
     "name": "stderr",
     "output_type": "stream",
     "text": [
      "2020-05-22 13:34:37,607:INFO:First current path [0, 92, 132, 22] formed at time = 0.75 s.\n"
     ]
    },
    {
     "name": "stdout",
     "output_type": "stream",
     "text": [
      "Running Random Network Regression: 50 nodes\n",
      "Running Random Network Regression: 100 nodes\n",
      "Running Grid Network Regression: 300 nodes\n",
      "Running Random Network Regression: 150 nodes\n",
      "Running Grid Network Regression: 200 nodes\n",
      "Running Random Network Regression: 200 nodes\n"
     ]
    },
    {
     "name": "stderr",
     "output_type": "stream",
     "text": [
      "2020-05-22 13:34:38,129:INFO:First current path [0, 12, 36, 6] formed at time = 0.75 s.\n"
     ]
    },
    {
     "name": "stdout",
     "output_type": "stream",
     "text": [
      "Running Random Network Regression: 50 nodes\n",
      "Running Random Network Regression: 200 nodes\n",
      "Running Random Network Regression: 100 nodes\n"
     ]
    },
    {
     "data": {
      "application/vnd.jupyter.widget-view+json": {
       "model_id": "aa6c346d502f4ea8a1899ffb26cf37f6",
       "version_major": 2,
       "version_minor": 0
      },
      "text/plain": [
       "HBox(children=(IntProgress(value=0, description='Running Simulation ', max=500, style=ProgressStyle(descriptio…"
      ]
     },
     "metadata": {},
     "output_type": "display_data"
    },
    {
     "name": "stdout",
     "output_type": "stream",
     "text": [
      "Running Random Network Regression: 150 nodes\n",
      "Running Grid Network Regression: 250 nodes\n",
      "Running Random Network Regression: 250 nodes\n"
     ]
    },
    {
     "data": {
      "application/vnd.jupyter.widget-view+json": {
       "model_id": "26f5798edb0b4424aa1b9a19d2173d27",
       "version_major": 2,
       "version_minor": 0
      },
      "text/plain": [
       "HBox(children=(IntProgress(value=0, description='Running Simulation ', max=500, style=ProgressStyle(descriptio…"
      ]
     },
     "metadata": {},
     "output_type": "display_data"
    },
    {
     "name": "stdout",
     "output_type": "stream",
     "text": [
      "Running Random Network Regression: 200 nodes\n",
      "Running Random Network Regression: 250 nodes\n"
     ]
    },
    {
     "data": {
      "application/vnd.jupyter.widget-view+json": {
       "model_id": "327d1593167c45f4bac1d64d883d54c2",
       "version_major": 2,
       "version_minor": 0
      },
      "text/plain": [
       "HBox(children=(IntProgress(value=0, description='Running Simulation ', max=500, style=ProgressStyle(descriptio…"
      ]
     },
     "metadata": {},
     "output_type": "display_data"
    },
    {
     "name": "stdout",
     "output_type": "stream",
     "text": [
      "Running Random Network Regression: 250 nodes\n",
      "Running Grid Network Regression: 300 nodes\n",
      "Running Random Network Regression: 299 nodes\n",
      "Running Random Network Regression: 299 nodes\n"
     ]
    },
    {
     "data": {
      "application/vnd.jupyter.widget-view+json": {
       "model_id": "1d547aa07fa54a1e8d76256a99eed777",
       "version_major": 2,
       "version_minor": 0
      },
      "text/plain": [
       "HBox(children=(IntProgress(value=0, description='Running Simulation ', max=500, style=ProgressStyle(descriptio…"
      ]
     },
     "metadata": {},
     "output_type": "display_data"
    },
    {
     "name": "stderr",
     "output_type": "stream",
     "text": [
      "2020-05-22 13:34:39,750:INFO:First current path [0, 6, 16, 26, 36, 46, 56, 66, 76, 86, 96, 106, 116, 126, 136, 142] formed at time = 0.76 s.\n"
     ]
    },
    {
     "data": {
      "application/vnd.jupyter.widget-view+json": {
       "model_id": "8d38f28e7a6d4f21a1935311218e2442",
       "version_major": 2,
       "version_minor": 0
      },
      "text/plain": [
       "HBox(children=(IntProgress(value=0, description='Running Simulation ', max=500, style=ProgressStyle(descriptio…"
      ]
     },
     "metadata": {},
     "output_type": "display_data"
    },
    {
     "name": "stdout",
     "output_type": "stream",
     "text": [
      "Running Random Network Regression: 299 nodes\n"
     ]
    },
    {
     "name": "stderr",
     "output_type": "stream",
     "text": [
      "2020-05-22 13:34:40,131:INFO:First current path [0, 7, 22, 37, 52, 67, 82, 96, 110, 124, 137] formed at time = 0.76 s.\n"
     ]
    },
    {
     "data": {
      "application/vnd.jupyter.widget-view+json": {
       "model_id": "c487581487f840b2a1806611bfb7e5c4",
       "version_major": 2,
       "version_minor": 0
      },
      "text/plain": [
       "HBox(children=(IntProgress(value=0, description='Running Simulation ', max=500, style=ProgressStyle(descriptio…"
      ]
     },
     "metadata": {},
     "output_type": "display_data"
    },
    {
     "name": "stdout",
     "output_type": "stream",
     "text": [
      "Running Grid Network Regression: 50 nodes\n",
      "Running Grid Network Regression: 100 nodes\n"
     ]
    },
    {
     "name": "stderr",
     "output_type": "stream",
     "text": [
      "2020-05-22 13:34:40,527:INFO:First current path [0, 7, 21, 35, 49, 63, 77, 91, 105, 118, 131, 142] formed at time = 0.76 s.\n"
     ]
    },
    {
     "name": "stdout",
     "output_type": "stream",
     "text": [
      "Running Grid Network Regression: 50 nodes\n",
      "Running Grid Network Regression: 150 nodes\n"
     ]
    },
    {
     "data": {
      "application/vnd.jupyter.widget-view+json": {
       "model_id": "f4d24ae4be9c489a82e94ff543659398",
       "version_major": 2,
       "version_minor": 0
      },
      "text/plain": [
       "HBox(children=(IntProgress(value=0, description='Running Simulation ', max=500, style=ProgressStyle(descriptio…"
      ]
     },
     "metadata": {},
     "output_type": "display_data"
    },
    {
     "name": "stdout",
     "output_type": "stream",
     "text": [
      "Running Grid Network Regression: 100 nodes\n",
      "Running Grid Network Regression: 150 nodes\n",
      "Running Grid Network Regression: 200 nodes\n",
      "Running Grid Network Regression: 50 nodes\n"
     ]
    },
    {
     "name": "stderr",
     "output_type": "stream",
     "text": [
      "2020-05-22 13:34:41,208:INFO:First current path [0, 7, 21, 35, 49, 63, 77, 91, 105, 118, 131, 142] formed at time = 0.76 s.\n"
     ]
    },
    {
     "name": "stdout",
     "output_type": "stream",
     "text": [
      "Running Grid Network Regression: 100 nodes\n",
      "Running Grid Network Regression: 200 nodes\n"
     ]
    },
    {
     "data": {
      "application/vnd.jupyter.widget-view+json": {
       "model_id": "8e06a2dd4b6844778d4fa97b02e46a0c",
       "version_major": 2,
       "version_minor": 0
      },
      "text/plain": [
       "HBox(children=(IntProgress(value=0, description='Running Simulation ', max=500, style=ProgressStyle(descriptio…"
      ]
     },
     "metadata": {},
     "output_type": "display_data"
    },
    {
     "name": "stderr",
     "output_type": "stream",
     "text": [
      "2020-05-22 13:34:41,403:INFO:First current path [0, 181, 10, 9] formed at time = 0.75 s.\n"
     ]
    },
    {
     "name": "stdout",
     "output_type": "stream",
     "text": [
      "Running Random Network Regression: 50 nodes\n"
     ]
    },
    {
     "data": {
      "application/vnd.jupyter.widget-view+json": {
       "model_id": "26b1a89f23074e8bab2e3fdc87599582",
       "version_major": 2,
       "version_minor": 0
      },
      "text/plain": [
       "HBox(children=(IntProgress(value=0, description='Running Simulation ', max=500, style=ProgressStyle(descriptio…"
      ]
     },
     "metadata": {},
     "output_type": "display_data"
    },
    {
     "name": "stdout",
     "output_type": "stream",
     "text": [
      "Running Grid Network Regression: 150 nodes\n",
      "Running Random Network Regression: 100 nodes\n",
      "Running Grid Network Regression: 250 nodes\n",
      "Running Random Network Regression: 150 nodes\n",
      "Running Grid Network Regression: 200 nodes\n",
      "Running Grid Network Regression: 250 nodes\n"
     ]
    },
    {
     "name": "stderr",
     "output_type": "stream",
     "text": [
      "2020-05-22 13:34:41,927:INFO:First current path [0, 172, 168, 60] formed at time = 0.75 s.\n"
     ]
    },
    {
     "name": "stdout",
     "output_type": "stream",
     "text": [
      "Running Random Network Regression: 50 nodes\n",
      "Running Random Network Regression: 100 nodes\n",
      "Running Random Network Regression: 200 nodes\n",
      "Running Random Network Regression: 150 nodes\n"
     ]
    },
    {
     "name": "stderr",
     "output_type": "stream",
     "text": [
      "2020-05-22 13:34:42,305:INFO:First current path [0, 162, 245, 25] formed at time = 0.75 s.\n"
     ]
    },
    {
     "name": "stdout",
     "output_type": "stream",
     "text": [
      "Running Random Network Regression: 50 nodes\n",
      "Running Grid Network Regression: 250 nodes\n",
      "Running Random Network Regression: 100 nodes\n",
      "Running Grid Network Regression: 299 nodes\n",
      "Running Random Network Regression: 200 nodes\n",
      "Running Random Network Regression: 150 nodes\n"
     ]
    },
    {
     "data": {
      "application/vnd.jupyter.widget-view+json": {
       "model_id": "37076d16fec64f4aabc740f19864bfab",
       "version_major": 2,
       "version_minor": 0
      },
      "text/plain": [
       "HBox(children=(IntProgress(value=0, description='Running Simulation ', max=500, style=ProgressStyle(descriptio…"
      ]
     },
     "metadata": {},
     "output_type": "display_data"
    },
    {
     "name": "stdout",
     "output_type": "stream",
     "text": [
      "Running Random Network Regression: 250 nodes\n",
      "Running Grid Network Regression: 299 nodes\n",
      "Running Random Network Regression: 200 nodes\n"
     ]
    },
    {
     "name": "stderr",
     "output_type": "stream",
     "text": [
      "2020-05-22 13:34:42,920:INFO:First current path [0, 7, 21, 35, 49, 63, 77, 91, 105, 118, 131, 142] formed at time = 0.76 s.\n",
      "2020-05-22 13:34:43,009:INFO:First current path [0, 117, 276, 21] formed at time = 0.75 s.\n"
     ]
    },
    {
     "name": "stdout",
     "output_type": "stream",
     "text": [
      "Running Random Network Regression: 50 nodes\n",
      "Running Random Network Regression: 250 nodes\n",
      "Running Random Network Regression: 100 nodes\n"
     ]
    },
    {
     "data": {
      "application/vnd.jupyter.widget-view+json": {
       "model_id": "e2cfeadc9df944efba578a0dfb45d76b",
       "version_major": 2,
       "version_minor": 0
      },
      "text/plain": [
       "HBox(children=(IntProgress(value=0, description='Running Simulation ', max=500, style=ProgressStyle(descriptio…"
      ]
     },
     "metadata": {},
     "output_type": "display_data"
    },
    {
     "name": "stdout",
     "output_type": "stream",
     "text": [
      "Running Grid Network Regression: 299 nodes\n",
      "Running Random Network Regression: 150 nodes\n",
      "Running Random Network Regression: 300 nodes\n",
      "Running Random Network Regression: 250 nodes\n",
      "Running Random Network Regression: 200 nodes\n"
     ]
    },
    {
     "data": {
      "application/vnd.jupyter.widget-view+json": {
       "model_id": "d63629f088754753af7e1cecd5799803",
       "version_major": 2,
       "version_minor": 0
      },
      "text/plain": [
       "HBox(children=(IntProgress(value=0, description='Running Simulation ', max=500, style=ProgressStyle(descriptio…"
      ]
     },
     "metadata": {},
     "output_type": "display_data"
    },
    {
     "name": "stdout",
     "output_type": "stream",
     "text": [
      "Running Random Network Regression: 300 nodes\n"
     ]
    },
    {
     "name": "stderr",
     "output_type": "stream",
     "text": [
      "2020-05-22 13:34:44,044:INFO:First current path [0, 7, 21, 35, 49, 63, 77, 91, 105, 118, 131, 142] formed at time = 0.76 s.\n"
     ]
    },
    {
     "name": "stdout",
     "output_type": "stream",
     "text": [
      "Running Random Network Regression: 250 nodes\n"
     ]
    },
    {
     "data": {
      "application/vnd.jupyter.widget-view+json": {
       "model_id": "fae0eb8ed49349a1afffd5eb80d852c2",
       "version_major": 2,
       "version_minor": 0
      },
      "text/plain": [
       "HBox(children=(IntProgress(value=0, description='Running Simulation ', max=500, style=ProgressStyle(descriptio…"
      ]
     },
     "metadata": {},
     "output_type": "display_data"
    },
    {
     "name": "stdout",
     "output_type": "stream",
     "text": [
      "Running Random Network Regression: 300 nodes\n"
     ]
    },
    {
     "data": {
      "application/vnd.jupyter.widget-view+json": {
       "model_id": "f2fcbaee40e24091871ebca171cda0eb",
       "version_major": 2,
       "version_minor": 0
      },
      "text/plain": [
       "HBox(children=(IntProgress(value=0, description='Running Simulation ', max=500, style=ProgressStyle(descriptio…"
      ]
     },
     "metadata": {},
     "output_type": "display_data"
    },
    {
     "name": "stdout",
     "output_type": "stream",
     "text": [
      "Running Grid Network Regression: 50 nodes\n"
     ]
    },
    {
     "name": "stderr",
     "output_type": "stream",
     "text": [
      "2020-05-22 13:34:44,652:INFO:First current path [0, 49, 14, 23] formed at time = 0.75 s.\n"
     ]
    },
    {
     "name": "stdout",
     "output_type": "stream",
     "text": [
      "Running Random Network Regression: 50 nodes\n",
      "Running Grid Network Regression: 100 nodes\n",
      "Running Random Network Regression: 100 nodes\n",
      "Running Grid Network Regression: 150 nodes\n",
      "Running Random Network Regression: 150 nodes\n",
      "Running Random Network Regression: 299 nodes\n",
      "Running Grid Network Regression: 50 nodes\n"
     ]
    },
    {
     "name": "stderr",
     "output_type": "stream",
     "text": [
      "2020-05-22 13:34:45,079:INFO:First current path [0, 7, 21, 35, 49, 63, 77, 91, 105, 118, 131, 142] formed at time = 0.76 s.\n"
     ]
    },
    {
     "name": "stdout",
     "output_type": "stream",
     "text": [
      "Running Grid Network Regression: 100 nodes\n",
      "Running Random Network Regression: 200 nodes\n",
      "Running Grid Network Regression: 200 nodes\n"
     ]
    },
    {
     "data": {
      "application/vnd.jupyter.widget-view+json": {
       "model_id": "3845f0cb852548558cdefd1112283a68",
       "version_major": 2,
       "version_minor": 0
      },
      "text/plain": [
       "HBox(children=(IntProgress(value=0, description='Running Simulation ', max=500, style=ProgressStyle(descriptio…"
      ]
     },
     "metadata": {},
     "output_type": "display_data"
    },
    {
     "name": "stdout",
     "output_type": "stream",
     "text": [
      "Running Grid Network Regression: 150 nodes\n",
      "Running Grid Network Regression: 50 nodes\n",
      "Running Grid Network Regression: 100 nodes\n",
      "Running Grid Network Regression: 200 nodes\n"
     ]
    },
    {
     "data": {
      "application/vnd.jupyter.widget-view+json": {
       "model_id": "787e8b7deb784f568b694bc8730ed1ba",
       "version_major": 2,
       "version_minor": 0
      },
      "text/plain": [
       "HBox(children=(IntProgress(value=0, description='Running Simulation ', max=500, style=ProgressStyle(descriptio…"
      ]
     },
     "metadata": {},
     "output_type": "display_data"
    },
    {
     "name": "stderr",
     "output_type": "stream",
     "text": [
      "2020-05-22 13:34:45,803:INFO:First current path [0, 100, 202, 26] formed at time = 0.75 s.\n"
     ]
    },
    {
     "name": "stdout",
     "output_type": "stream",
     "text": [
      "Running Random Network Regression: 50 nodes\n",
      "Running Grid Network Regression: 150 nodes\n",
      "Running Random Network Regression: 250 nodes\n",
      "Running Grid Network Regression: 250 nodes\n",
      "Running Random Network Regression: 100 nodes\n"
     ]
    },
    {
     "name": "stderr",
     "output_type": "stream",
     "text": [
      "2020-05-22 13:34:45,983:INFO:First current path [0, 288, 276, 264, 252, 240, 228, 216, 204, 192, 180, 168, 156, 146] formed at time = 0.75 s.\n"
     ]
    },
    {
     "name": "stdout",
     "output_type": "stream",
     "text": [
      "Running Random Network Regression: 150 nodes\n"
     ]
    },
    {
     "data": {
      "application/vnd.jupyter.widget-view+json": {
       "model_id": "c1012f67e62a41fc9846fee89ab99e23",
       "version_major": 2,
       "version_minor": 0
      },
      "text/plain": [
       "HBox(children=(IntProgress(value=0, description='Running Simulation ', max=500, style=ProgressStyle(descriptio…"
      ]
     },
     "metadata": {},
     "output_type": "display_data"
    },
    {
     "name": "stdout",
     "output_type": "stream",
     "text": [
      "Running Grid Network Regression: 50 nodes\n",
      "Running Grid Network Regression: 200 nodes\n",
      "Running Grid Network Regression: 100 nodes\n",
      "Running Grid Network Regression: 250 nodes\n",
      "Running Random Network Regression: 200 nodes\n",
      "Running Grid Network Regression: 150 nodes\n",
      "Running Grid Network Regression: 300 nodes\n",
      "Running Random Network Regression: 300 nodes\n",
      "Running Grid Network Regression: 250 nodes\n",
      "Running Grid Network Regression: 200 nodes\n"
     ]
    },
    {
     "name": "stderr",
     "output_type": "stream",
     "text": [
      "2020-05-22 13:34:46,887:INFO:First current path [0, 114, 92, 13] formed at time = 0.75 s.\n"
     ]
    },
    {
     "name": "stdout",
     "output_type": "stream",
     "text": [
      "Running Random Network Regression: 50 nodes\n",
      "Running Random Network Regression: 100 nodes\n",
      "Running Random Network Regression: 250 nodes\n",
      "Running Random Network Regression: 150 nodes\n",
      "Running Grid Network Regression: 300 nodes\n"
     ]
    },
    {
     "name": "stderr",
     "output_type": "stream",
     "text": [
      "2020-05-22 13:34:47,339:INFO:First current path [0, 7, 20, 33, 46, 59, 72, 85, 98, 111, 124, 137, 145] formed at time = 0.76 s.\n"
     ]
    },
    {
     "name": "stdout",
     "output_type": "stream",
     "text": [
      "Running Grid Network Regression: 250 nodes\n",
      "Running Random Network Regression: 200 nodes\n"
     ]
    },
    {
     "data": {
      "application/vnd.jupyter.widget-view+json": {
       "model_id": "d76d3799907647b79abd23dcbbbea0ea",
       "version_major": 2,
       "version_minor": 0
      },
      "text/plain": [
       "HBox(children=(IntProgress(value=0, description='Running Simulation ', max=500, style=ProgressStyle(descriptio…"
      ]
     },
     "metadata": {},
     "output_type": "display_data"
    },
    {
     "name": "stdout",
     "output_type": "stream",
     "text": [
      "Running Grid Network Regression: 300 nodes\n"
     ]
    },
    {
     "name": "stderr",
     "output_type": "stream",
     "text": [
      "2020-05-22 13:34:47,709:INFO:First current path [0, 39, 214, 52] formed at time = 0.75 s.\n"
     ]
    },
    {
     "name": "stdout",
     "output_type": "stream",
     "text": [
      "Running Random Network Regression: 50 nodes\n"
     ]
    },
    {
     "data": {
      "application/vnd.jupyter.widget-view+json": {
       "model_id": "9466e017d1924386a6b13b8a20dec535",
       "version_major": 2,
       "version_minor": 0
      },
      "text/plain": [
       "HBox(children=(IntProgress(value=0, description='Running Simulation ', max=500, style=ProgressStyle(descriptio…"
      ]
     },
     "metadata": {},
     "output_type": "display_data"
    },
    {
     "name": "stdout",
     "output_type": "stream",
     "text": [
      "Running Random Network Regression: 100 nodes\n",
      "Running Random Network Regression: 299 nodes\n",
      "Running Grid Network Regression: 50 nodes\n",
      "Running Grid Network Regression: 100 nodes\n",
      "Running Random Network Regression: 150 nodes\n",
      "Running Random Network Regression: 250 nodes\n",
      "Running Grid Network Regression: 150 nodes\n",
      "Running Grid Network Regression: 299 nodes\n",
      "Running Random Network Regression: 200 nodes\n",
      "Running Grid Network Regression: 200 nodes\n"
     ]
    },
    {
     "data": {
      "application/vnd.jupyter.widget-view+json": {
       "model_id": "064a094d8eef4d538f25d95e0c72f380",
       "version_major": 2,
       "version_minor": 0
      },
      "text/plain": [
       "HBox(children=(IntProgress(value=0, description='Running Simulation ', max=500, style=ProgressStyle(descriptio…"
      ]
     },
     "metadata": {},
     "output_type": "display_data"
    },
    {
     "name": "stdout",
     "output_type": "stream",
     "text": [
      "Running Random Network Regression: 300 nodes\n",
      "Running Random Network Regression: 250 nodes\n",
      "Running Grid Network Regression: 50 nodes\n",
      "Running Grid Network Regression: 100 nodes\n"
     ]
    },
    {
     "name": "stderr",
     "output_type": "stream",
     "text": [
      "2020-05-22 13:34:49,090:INFO:First current path [0, 32, 122, 14] formed at time = 0.75 s.\n"
     ]
    },
    {
     "name": "stdout",
     "output_type": "stream",
     "text": [
      "Running Random Network Regression: 50 nodes\n",
      "Running Grid Network Regression: 250 nodes\n",
      "Running Random Network Regression: 100 nodes\n"
     ]
    },
    {
     "name": "stderr",
     "output_type": "stream",
     "text": [
      "2020-05-22 13:34:49,228:INFO:First current path [0, 7, 20, 33, 46, 59, 72, 85, 98, 111, 124, 137, 145] formed at time = 0.76 s.\n"
     ]
    },
    {
     "name": "stdout",
     "output_type": "stream",
     "text": [
      "Running Grid Network Regression: 150 nodes\n",
      "Running Random Network Regression: 150 nodes\n"
     ]
    },
    {
     "data": {
      "application/vnd.jupyter.widget-view+json": {
       "model_id": "ceddd01858374bc693d642fcd8da7462",
       "version_major": 2,
       "version_minor": 0
      },
      "text/plain": [
       "HBox(children=(IntProgress(value=0, description='Running Simulation ', max=500, style=ProgressStyle(descriptio…"
      ]
     },
     "metadata": {},
     "output_type": "display_data"
    },
    {
     "name": "stdout",
     "output_type": "stream",
     "text": [
      "Running Grid Network Regression: 200 nodes\n",
      "Running Random Network Regression: 200 nodes\n",
      "Running Random Network Regression: 298 nodes\n",
      "Running Grid Network Regression: 300 nodes\n",
      "Running Grid Network Regression: 50 nodes\n",
      "Running Grid Network Regression: 100 nodes\n",
      "Running Grid Network Regression: 250 nodes\n"
     ]
    },
    {
     "name": "stderr",
     "output_type": "stream",
     "text": [
      "2020-05-22 13:34:50,198:INFO:First current path [0, 7, 20, 33, 46, 59, 72, 85, 98, 111, 124, 137, 145] formed at time = 0.76 s.\n"
     ]
    },
    {
     "data": {
      "application/vnd.jupyter.widget-view+json": {
       "model_id": "44b78fbb5b3b4378b72354e195bab82c",
       "version_major": 2,
       "version_minor": 0
      },
      "text/plain": [
       "HBox(children=(IntProgress(value=0, description='Running Simulation ', max=500, style=ProgressStyle(descriptio…"
      ]
     },
     "metadata": {},
     "output_type": "display_data"
    },
    {
     "name": "stdout",
     "output_type": "stream",
     "text": [
      "Running Random Network Regression: 250 nodes\n",
      "Running Grid Network Regression: 150 nodes\n"
     ]
    },
    {
     "data": {
      "application/vnd.jupyter.widget-view+json": {
       "model_id": "fcc8d26790234043b8e36eca8aa7324a",
       "version_major": 2,
       "version_minor": 0
      },
      "text/plain": [
       "HBox(children=(IntProgress(value=0, description='Running Simulation ', max=500, style=ProgressStyle(descriptio…"
      ]
     },
     "metadata": {},
     "output_type": "display_data"
    },
    {
     "name": "stdout",
     "output_type": "stream",
     "text": [
      "Running Grid Network Regression: 200 nodes\n",
      "Running Grid Network Regression: 50 nodes\n"
     ]
    },
    {
     "name": "stderr",
     "output_type": "stream",
     "text": [
      "2020-05-22 13:34:50,919:INFO:First current path [0, 142, 139, 5] formed at time = 0.75 s.\n"
     ]
    },
    {
     "name": "stdout",
     "output_type": "stream",
     "text": [
      "Running Random Network Regression: 50 nodes\n",
      "Running Grid Network Regression: 299 nodes\n",
      "Running Grid Network Regression: 100 nodes\n",
      "Running Random Network Regression: 100 nodes\n",
      "Running Random Network Regression: 300 nodes\n",
      "Running Grid Network Regression: 150 nodes\n",
      "Running Random Network Regression: 150 nodes\n",
      "Running Grid Network Regression: 250 nodes\n"
     ]
    },
    {
     "data": {
      "application/vnd.jupyter.widget-view+json": {
       "model_id": "b30566865edd4340b077248ed5b21777",
       "version_major": 2,
       "version_minor": 0
      },
      "text/plain": [
       "HBox(children=(IntProgress(value=0, description='Running Simulation ', max=500, style=ProgressStyle(descriptio…"
      ]
     },
     "metadata": {},
     "output_type": "display_data"
    },
    {
     "name": "stdout",
     "output_type": "stream",
     "text": [
      "Running Random Network Regression: 200 nodes\n",
      "Running Grid Network Regression: 200 nodes\n"
     ]
    },
    {
     "name": "stderr",
     "output_type": "stream",
     "text": [
      "2020-05-22 13:34:51,717:INFO:First current path [0, 8, 24, 40, 56, 72, 87, 102, 117, 132, 146] formed at time = 0.76 s.\n",
      "2020-05-22 13:34:51,869:INFO:First current path [0, 193, 67, 39] formed at time = 0.75 s.\n"
     ]
    },
    {
     "name": "stdout",
     "output_type": "stream",
     "text": [
      "Running Random Network Regression: 50 nodes\n"
     ]
    },
    {
     "data": {
      "application/vnd.jupyter.widget-view+json": {
       "model_id": "4ee3947698e5487f85917cf581271a1f",
       "version_major": 2,
       "version_minor": 0
      },
      "text/plain": [
       "HBox(children=(IntProgress(value=0, description='Running Simulation ', max=500, style=ProgressStyle(descriptio…"
      ]
     },
     "metadata": {},
     "output_type": "display_data"
    },
    {
     "name": "stdout",
     "output_type": "stream",
     "text": [
      "Running Random Network Regression: 100 nodes\n",
      "Running Random Network Regression: 250 nodes\n",
      "Running Grid Network Regression: 250 nodes\n",
      "Running Grid Network Regression: 300 nodes\n",
      "Running Random Network Regression: 150 nodes\n",
      "Running Grid Network Regression: 50 nodes\n"
     ]
    },
    {
     "data": {
      "application/vnd.jupyter.widget-view+json": {
       "model_id": "2133cd258b4b4e4a8e678d9aa77e3178",
       "version_major": 2,
       "version_minor": 0
      },
      "text/plain": [
       "HBox(children=(IntProgress(value=0, description='Running Simulation ', max=500, style=ProgressStyle(descriptio…"
      ]
     },
     "metadata": {},
     "output_type": "display_data"
    },
    {
     "name": "stdout",
     "output_type": "stream",
     "text": [
      "Running Grid Network Regression: 100 nodes\n",
      "Running Random Network Regression: 200 nodes\n",
      "Running Grid Network Regression: 150 nodes\n",
      "Running Grid Network Regression: 200 nodes\n",
      "Running Random Network Regression: 300 nodes\n"
     ]
    },
    {
     "name": "stderr",
     "output_type": "stream",
     "text": [
      "2020-05-22 13:34:52,975:INFO:First current path [0, 8, 24, 40, 56, 72, 87, 102, 117, 132, 146] formed at time = 0.76 s.\n"
     ]
    },
    {
     "name": "stdout",
     "output_type": "stream",
     "text": [
      "Running Grid Network Regression: 298 nodes\n",
      "Running Random Network Regression: 250 nodes\n"
     ]
    },
    {
     "data": {
      "application/vnd.jupyter.widget-view+json": {
       "model_id": "5dbd8261a47a465fa03b518caf2dd3eb",
       "version_major": 2,
       "version_minor": 0
      },
      "text/plain": [
       "HBox(children=(IntProgress(value=0, description='Running Simulation ', max=500, style=ProgressStyle(descriptio…"
      ]
     },
     "metadata": {},
     "output_type": "display_data"
    },
    {
     "name": "stdout",
     "output_type": "stream",
     "text": [
      "Running Grid Network Regression: 250 nodes\n"
     ]
    },
    {
     "name": "stderr",
     "output_type": "stream",
     "text": [
      "2020-05-22 13:34:53,614:INFO:First current path [0, 50, 80, 5] formed at time = 0.75 s.\n"
     ]
    },
    {
     "name": "stdout",
     "output_type": "stream",
     "text": [
      "Running Random Network Regression: 50 nodes\n",
      "Running Random Network Regression: 100 nodes\n"
     ]
    },
    {
     "name": "stderr",
     "output_type": "stream",
     "text": [
      "2020-05-22 13:34:53,878:INFO:First current path [0, 8, 24, 40, 56, 72, 87, 102, 117, 132, 146] formed at time = 0.76 s.\n"
     ]
    },
    {
     "name": "stdout",
     "output_type": "stream",
     "text": [
      "Running Random Network Regression: 150 nodes\n"
     ]
    },
    {
     "data": {
      "application/vnd.jupyter.widget-view+json": {
       "model_id": "5380c730a1fe474ab40bbe4858e0cc22",
       "version_major": 2,
       "version_minor": 0
      },
      "text/plain": [
       "HBox(children=(IntProgress(value=0, description='Running Simulation ', max=500, style=ProgressStyle(descriptio…"
      ]
     },
     "metadata": {},
     "output_type": "display_data"
    },
    {
     "name": "stdout",
     "output_type": "stream",
     "text": [
      "Running Random Network Regression: 300 nodes\n",
      "Running Grid Network Regression: 50 nodes\n",
      "Running Random Network Regression: 200 nodes\n",
      "Running Grid Network Regression: 100 nodes\n",
      "Running Grid Network Regression: 300 nodes\n",
      "Running Grid Network Regression: 150 nodes\n",
      "Running Random Network Regression: 250 nodes\n",
      "Running Grid Network Regression: 200 nodes\n"
     ]
    },
    {
     "name": "stderr",
     "output_type": "stream",
     "text": [
      "2020-05-22 13:34:54,857:INFO:First current path [0, 295, 132, 129] formed at time = 0.75 s.\n"
     ]
    },
    {
     "name": "stdout",
     "output_type": "stream",
     "text": [
      "Running Random Network Regression: 50 nodes\n",
      "Running Random Network Regression: 100 nodes\n",
      "Running Random Network Regression: 150 nodes\n"
     ]
    },
    {
     "data": {
      "application/vnd.jupyter.widget-view+json": {
       "model_id": "735d8b41a8234e139b7a87b602e5f368",
       "version_major": 2,
       "version_minor": 0
      },
      "text/plain": [
       "HBox(children=(IntProgress(value=0, description='Running Simulation ', max=500, style=ProgressStyle(descriptio…"
      ]
     },
     "metadata": {},
     "output_type": "display_data"
    },
    {
     "name": "stdout",
     "output_type": "stream",
     "text": [
      "Running Grid Network Regression: 50 nodes\n",
      "Running Grid Network Regression: 100 nodes\n",
      "Running Grid Network Regression: 250 nodes\n",
      "Running Random Network Regression: 200 nodes\n",
      "Running Grid Network Regression: 150 nodes\n",
      "Running Random Network Regression: 300 nodes\n"
     ]
    },
    {
     "name": "stderr",
     "output_type": "stream",
     "text": [
      "2020-05-22 13:34:55,745:INFO:First current path [0, 244, 262, 101] formed at time = 0.75 s.\n"
     ]
    },
    {
     "name": "stdout",
     "output_type": "stream",
     "text": [
      "Running Random Network Regression: 50 nodes\n",
      "Running Random Network Regression: 100 nodes\n"
     ]
    },
    {
     "data": {
      "application/vnd.jupyter.widget-view+json": {
       "model_id": "b835e80caf044c25a6182f66adc5648d",
       "version_major": 2,
       "version_minor": 0
      },
      "text/plain": [
       "HBox(children=(IntProgress(value=0, description='Running Simulation ', max=500, style=ProgressStyle(descriptio…"
      ]
     },
     "metadata": {},
     "output_type": "display_data"
    },
    {
     "data": {
      "application/vnd.jupyter.widget-view+json": {
       "model_id": "83660944f46148f482f3ba8382be6648",
       "version_major": 2,
       "version_minor": 0
      },
      "text/plain": [
       "HBox(children=(IntProgress(value=0, description='Running Simulation ', max=500, style=ProgressStyle(descriptio…"
      ]
     },
     "metadata": {},
     "output_type": "display_data"
    },
    {
     "name": "stdout",
     "output_type": "stream",
     "text": [
      "Running Grid Network Regression: 200 nodes\n",
      "Running Random Network Regression: 150 nodes\n",
      "Running Random Network Regression: 250 nodes\n",
      "Running Grid Network Regression: 300 nodes\n",
      "Running Random Network Regression: 200 nodes\n",
      "Running Grid Network Regression: 250 nodes\n"
     ]
    },
    {
     "name": "stderr",
     "output_type": "stream",
     "text": [
      "2020-05-22 13:34:56,757:INFO:First current path [0, 8, 24, 40, 56, 72, 87, 102, 117, 132, 146] formed at time = 0.76 s.\n"
     ]
    },
    {
     "name": "stdout",
     "output_type": "stream",
     "text": [
      "Running Grid Network Regression: 50 nodes\n",
      "Running Random Network Regression: 300 nodes\n",
      "Running Grid Network Regression: 100 nodes\n",
      "Running Random Network Regression: 250 nodes\n"
     ]
    },
    {
     "data": {
      "application/vnd.jupyter.widget-view+json": {
       "model_id": "6775bb22f97544c2b7f27bb65f8f8e9a",
       "version_major": 2,
       "version_minor": 0
      },
      "text/plain": [
       "HBox(children=(IntProgress(value=0, description='Running Simulation ', max=500, style=ProgressStyle(descriptio…"
      ]
     },
     "metadata": {},
     "output_type": "display_data"
    },
    {
     "name": "stdout",
     "output_type": "stream",
     "text": [
      "Running Grid Network Regression: 150 nodes\n"
     ]
    },
    {
     "data": {
      "application/vnd.jupyter.widget-view+json": {
       "model_id": "435559be29d44cf2a2b9ade82759833b",
       "version_major": 2,
       "version_minor": 0
      },
      "text/plain": [
       "HBox(children=(IntProgress(value=0, description='Running Simulation ', max=500, style=ProgressStyle(descriptio…"
      ]
     },
     "metadata": {},
     "output_type": "display_data"
    },
    {
     "name": "stdout",
     "output_type": "stream",
     "text": [
      "Running Grid Network Regression: 300 nodes\n",
      "Running Grid Network Regression: 200 nodes\n"
     ]
    },
    {
     "name": "stderr",
     "output_type": "stream",
     "text": [
      "2020-05-22 13:34:57,425:INFO:First current path [0, 8, 24, 40, 56, 72, 87, 102, 117, 132, 146] formed at time = 0.76 s.\n",
      "2020-05-22 13:34:57,468:INFO:First current path [0, 8, 24, 40, 56, 72, 87, 102, 117, 132, 146] formed at time = 0.76 s.\n"
     ]
    },
    {
     "data": {
      "application/vnd.jupyter.widget-view+json": {
       "model_id": "be510ba15b964bd9b37948b7d8a3b6ed",
       "version_major": 2,
       "version_minor": 0
      },
      "text/plain": [
       "HBox(children=(IntProgress(value=0, description='Running Simulation ', max=500, style=ProgressStyle(descriptio…"
      ]
     },
     "metadata": {},
     "output_type": "display_data"
    },
    {
     "data": {
      "application/vnd.jupyter.widget-view+json": {
       "model_id": "648d646f308c47e98994ff51aeca8d42",
       "version_major": 2,
       "version_minor": 0
      },
      "text/plain": [
       "HBox(children=(IntProgress(value=0, description='Running Simulation ', max=500, style=ProgressStyle(descriptio…"
      ]
     },
     "metadata": {},
     "output_type": "display_data"
    },
    {
     "name": "stdout",
     "output_type": "stream",
     "text": [
      "Running Random Network Regression: 300 nodes\n",
      "Running Grid Network Regression: 100 nodes\n",
      "Running Grid Network Regression: 50 nodes\n",
      "Running Random Network Regression: 150 nodes\n",
      "Running Grid Network Regression: 300 nodes\n"
     ]
    },
    {
     "data": {
      "application/vnd.jupyter.widget-view+json": {
       "model_id": "e3aef3d7b3274e3aa299a536d648e754",
       "version_major": 2,
       "version_minor": 0
      },
      "text/plain": [
       "HBox(children=(IntProgress(value=0, description='Running Simulation ', max=500, style=ProgressStyle(descriptio…"
      ]
     },
     "metadata": {},
     "output_type": "display_data"
    },
    {
     "name": "stdout",
     "output_type": "stream",
     "text": [
      "Running Random Network Regression: 100 nodes\n",
      "Running Grid Network Regression: 200 nodes\n",
      "Running Random Network Regression: 50 nodes\n"
     ]
    },
    {
     "name": "stderr",
     "output_type": "stream",
     "text": [
      "2020-05-22 13:34:58,564:INFO:First current path [0, 71, 38, 127] formed at time = 0.75 s.\n",
      "2020-05-22 13:34:58,543:INFO:First current path [0, 8, 25, 42, 59, 75, 91, 107, 123, 138] formed at time = 0.76 s.\n"
     ]
    },
    {
     "data": {
      "application/vnd.jupyter.widget-view+json": {
       "model_id": "77c9a32f980c4979965c66ec4a8e2778",
       "version_major": 2,
       "version_minor": 0
      },
      "text/plain": [
       "HBox(children=(IntProgress(value=0, description='Running Simulation ', max=500, style=ProgressStyle(descriptio…"
      ]
     },
     "metadata": {},
     "output_type": "display_data"
    },
    {
     "name": "stdout",
     "output_type": "stream",
     "text": [
      "Running Grid Network Regression: 150 nodes\n",
      "Running Grid Network Regression: 100 nodes\n",
      "Running Grid Network Regression: 50 nodes\n",
      "Running Grid Network Regression: 250 nodes\n",
      "Running Grid Network Regression: 150 nodes\n",
      "Running Grid Network Regression: 250 nodes\n",
      "Running Random Network Regression: 200 nodes\n"
     ]
    },
    {
     "name": "stderr",
     "output_type": "stream",
     "text": [
      "2020-05-22 13:34:59,198:INFO:First current path [0, 127, 120, 65] formed at time = 0.75 s.\n"
     ]
    },
    {
     "name": "stdout",
     "output_type": "stream",
     "text": [
      "Running Random Network Regression: 50 nodes\n"
     ]
    },
    {
     "name": "stderr",
     "output_type": "stream",
     "text": [
      "2020-05-22 13:34:59,264:INFO:First current path [1, 112, 223, 26] formed at time = 0.75 s.\n"
     ]
    },
    {
     "name": "stdout",
     "output_type": "stream",
     "text": [
      "Running Random Network Regression: 50 nodes\n",
      "Running Random Network Regression: 100 nodes\n",
      "Running Random Network Regression: 100 nodes\n",
      "Running Random Network Regression: 150 nodes\n",
      "Running Random Network Regression: 150 nodes\n",
      "Running Grid Network Regression: 200 nodes\n",
      "Running Random Network Regression: 250 nodes\n"
     ]
    },
    {
     "name": "stderr",
     "output_type": "stream",
     "text": [
      "2020-05-22 13:34:59,748:INFO:First current path [0, 7, 22, 37, 52, 67, 82, 96, 110, 124, 137] formed at time = 0.76 s.\n"
     ]
    },
    {
     "name": "stdout",
     "output_type": "stream",
     "text": [
      "Running Random Network Regression: 200 nodes\n"
     ]
    },
    {
     "data": {
      "application/vnd.jupyter.widget-view+json": {
       "model_id": "dbd81717de6b45faabf5ab062f842609",
       "version_major": 2,
       "version_minor": 0
      },
      "text/plain": [
       "HBox(children=(IntProgress(value=0, description='Running Simulation ', max=500, style=ProgressStyle(descriptio…"
      ]
     },
     "metadata": {},
     "output_type": "display_data"
    },
    {
     "name": "stdout",
     "output_type": "stream",
     "text": [
      "Running Random Network Regression: 200 nodes\n"
     ]
    },
    {
     "data": {
      "application/vnd.jupyter.widget-view+json": {
       "model_id": "6fc791686a6c4eadbbee98fe9dfff850",
       "version_major": 2,
       "version_minor": 0
      },
      "text/plain": [
       "HBox(children=(IntProgress(value=0, description='Running Simulation ', max=500, style=ProgressStyle(descriptio…"
      ]
     },
     "metadata": {},
     "output_type": "display_data"
    },
    {
     "name": "stdout",
     "output_type": "stream",
     "text": [
      "Running Grid Network Regression: 300 nodes\n",
      "Running Grid Network Regression: 250 nodes\n",
      "Running Random Network Regression: 250 nodes\n"
     ]
    },
    {
     "name": "stderr",
     "output_type": "stream",
     "text": [
      "2020-05-22 13:35:00,320:INFO:First current path [0, 6, 272, 226] formed at time = 0.76 s.\n"
     ]
    },
    {
     "name": "stdout",
     "output_type": "stream",
     "text": [
      "Running Random Network Regression: 50 nodes\n",
      "Running Random Network Regression: 250 nodes\n",
      "Running Random Network Regression: 100 nodes\n",
      "Running Random Network Regression: 300 nodes\n",
      "Running Random Network Regression: 150 nodes\n",
      "Running Random Network Regression: 200 nodes\n",
      "Running Grid Network Regression: 300 nodes\n"
     ]
    },
    {
     "data": {
      "application/vnd.jupyter.widget-view+json": {
       "model_id": "a4d1eb81d10a470a887dc5a2a4fc2e0e",
       "version_major": 2,
       "version_minor": 0
      },
      "text/plain": [
       "HBox(children=(IntProgress(value=0, description='Running Simulation ', max=500, style=ProgressStyle(descriptio…"
      ]
     },
     "metadata": {},
     "output_type": "display_data"
    },
    {
     "name": "stdout",
     "output_type": "stream",
     "text": [
      "Running Random Network Regression: 300 nodes\n",
      "Running Random Network Regression: 299 nodes\n"
     ]
    },
    {
     "name": "stderr",
     "output_type": "stream",
     "text": [
      "2020-05-22 13:35:01,340:INFO:First current path [0, 8, 25, 42, 59, 75, 91, 107, 123, 138] formed at time = 0.76 s.\n"
     ]
    },
    {
     "name": "stdout",
     "output_type": "stream",
     "text": [
      "Running Random Network Regression: 250 nodes\n"
     ]
    },
    {
     "name": "stderr",
     "output_type": "stream",
     "text": [
      "2020-05-22 13:35:01,454:INFO:First current path [0, 44, 275, 24] formed at time = 0.75 s.\n"
     ]
    },
    {
     "name": "stdout",
     "output_type": "stream",
     "text": [
      "Running Random Network Regression: 50 nodes\n",
      "Running Random Network Regression: 100 nodes\n"
     ]
    },
    {
     "data": {
      "application/vnd.jupyter.widget-view+json": {
       "model_id": "361f192056b64cce83fc6943d2026fe7",
       "version_major": 2,
       "version_minor": 0
      },
      "text/plain": [
       "HBox(children=(IntProgress(value=0, description='Running Simulation ', max=500, style=ProgressStyle(descriptio…"
      ]
     },
     "metadata": {},
     "output_type": "display_data"
    },
    {
     "name": "stdout",
     "output_type": "stream",
     "text": [
      "Running Grid Network Regression: 50 nodes\n",
      "Running Random Network Regression: 150 nodes\n",
      "Running Grid Network Regression: 100 nodes\n",
      "Running Grid Network Regression: 150 nodes\n",
      "Running Random Network Regression: 200 nodes\n"
     ]
    },
    {
     "data": {
      "application/vnd.jupyter.widget-view+json": {
       "model_id": "a27b3f19fb3d4344bb3a2c183344dd2d",
       "version_major": 2,
       "version_minor": 0
      },
      "text/plain": [
       "HBox(children=(IntProgress(value=0, description='Running Simulation ', max=500, style=ProgressStyle(descriptio…"
      ]
     },
     "metadata": {},
     "output_type": "display_data"
    },
    {
     "name": "stdout",
     "output_type": "stream",
     "text": [
      "Running Random Network Regression: 300 nodes\n",
      "Running Grid Network Regression: 200 nodes\n",
      "Running Grid Network Regression: 50 nodes\n",
      "Running Grid Network Regression: 100 nodes\n",
      "Running Grid Network Regression: 50 nodes\n",
      "Running Grid Network Regression: 100 nodes\n",
      "Running Random Network Regression: 250 nodes\n"
     ]
    },
    {
     "name": "stderr",
     "output_type": "stream",
     "text": [
      "2020-05-22 13:35:02,541:INFO:First current path [0, 7, 22, 37, 52, 67, 82, 96, 110, 124, 137] formed at time = 0.76 s.\n"
     ]
    },
    {
     "name": "stdout",
     "output_type": "stream",
     "text": [
      "Running Grid Network Regression: 150 nodes\n",
      "Running Grid Network Regression: 150 nodes\n"
     ]
    },
    {
     "data": {
      "application/vnd.jupyter.widget-view+json": {
       "model_id": "ffd2921fb4594840b04948d1d5c5927c",
       "version_major": 2,
       "version_minor": 0
      },
      "text/plain": [
       "HBox(children=(IntProgress(value=0, description='Running Simulation ', max=500, style=ProgressStyle(descriptio…"
      ]
     },
     "metadata": {},
     "output_type": "display_data"
    },
    {
     "name": "stdout",
     "output_type": "stream",
     "text": [
      "Running Grid Network Regression: 250 nodes\n",
      "Running Grid Network Regression: 200 nodes\n",
      "Running Grid Network Regression: 200 nodes\n"
     ]
    },
    {
     "data": {
      "application/vnd.jupyter.widget-view+json": {
       "model_id": "d75019d2c6664216b0cb7816efd876f4",
       "version_major": 2,
       "version_minor": 0
      },
      "text/plain": [
       "HBox(children=(IntProgress(value=0, description='Running Simulation ', max=500, style=ProgressStyle(descriptio…"
      ]
     },
     "metadata": {},
     "output_type": "display_data"
    },
    {
     "name": "stderr",
     "output_type": "stream",
     "text": [
      "2020-05-22 13:35:03,163:INFO:First current path [0, 255, 253, 142] formed at time = 0.75 s.\n"
     ]
    },
    {
     "name": "stdout",
     "output_type": "stream",
     "text": [
      "Running Random Network Regression: 50 nodes\n",
      "Running Random Network Regression: 100 nodes\n",
      "Running Grid Network Regression: 50 nodes\n",
      "Running Random Network Regression: 300 nodes\n",
      "Running Grid Network Regression: 100 nodes\n",
      "Running Random Network Regression: 150 nodes\n",
      "Running Grid Network Regression: 250 nodes\n",
      "Running Grid Network Regression: 150 nodes\n",
      "Running Grid Network Regression: 250 nodes\n",
      "Running Grid Network Regression: 300 nodes\n"
     ]
    },
    {
     "name": "stderr",
     "output_type": "stream",
     "text": [
      "2020-05-22 13:35:03,681:INFO:First current path [0, 9, 28, 47, 65, 83, 101, 119, 135] formed at time = 0.76 s.\n"
     ]
    },
    {
     "name": "stdout",
     "output_type": "stream",
     "text": [
      "Running Random Network Regression: 200 nodes\n"
     ]
    },
    {
     "data": {
      "application/vnd.jupyter.widget-view+json": {
       "model_id": "b2cb57ce52654d22b59a3d36318687dd",
       "version_major": 2,
       "version_minor": 0
      },
      "text/plain": [
       "HBox(children=(IntProgress(value=0, description='Running Simulation ', max=500, style=ProgressStyle(descriptio…"
      ]
     },
     "metadata": {},
     "output_type": "display_data"
    },
    {
     "name": "stdout",
     "output_type": "stream",
     "text": [
      "Running Grid Network Regression: 200 nodes\n",
      "Running Random Network Regression: 250 nodes\n"
     ]
    },
    {
     "name": "stderr",
     "output_type": "stream",
     "text": [
      "2020-05-22 13:35:04,326:INFO:First current path [0, 186, 214, 22] formed at time = 0.75 s.\n"
     ]
    },
    {
     "name": "stdout",
     "output_type": "stream",
     "text": [
      "Running Random Network Regression: 50 nodes\n",
      "Running Grid Network Regression: 300 nodes\n",
      "Running Random Network Regression: 100 nodes\n",
      "Running Grid Network Regression: 299 nodes\n",
      "Running Grid Network Regression: 50 nodes\n",
      "Running Grid Network Regression: 250 nodes\n",
      "Running Grid Network Regression: 100 nodes\n",
      "Running Random Network Regression: 150 nodes\n"
     ]
    },
    {
     "name": "stderr",
     "output_type": "stream",
     "text": [
      "2020-05-22 13:35:04,677:INFO:First current path [0, 9, 28, 47, 65, 83, 101, 119, 135] formed at time = 0.76 s.\n"
     ]
    },
    {
     "name": "stdout",
     "output_type": "stream",
     "text": [
      "Running Grid Network Regression: 150 nodes\n"
     ]
    },
    {
     "data": {
      "application/vnd.jupyter.widget-view+json": {
       "model_id": "2810be23fa984a0fa1913636eb9a1d9c",
       "version_major": 2,
       "version_minor": 0
      },
      "text/plain": [
       "HBox(children=(IntProgress(value=0, description='Running Simulation ', max=500, style=ProgressStyle(descriptio…"
      ]
     },
     "metadata": {},
     "output_type": "display_data"
    },
    {
     "name": "stdout",
     "output_type": "stream",
     "text": [
      "Running Random Network Regression: 200 nodes\n",
      "Running Random Network Regression: 300 nodes\n",
      "Running Grid Network Regression: 200 nodes\n",
      "Running Grid Network Regression: 300 nodes\n",
      "Running Random Network Regression: 250 nodes\n"
     ]
    },
    {
     "name": "stderr",
     "output_type": "stream",
     "text": [
      "2020-05-22 13:35:05,546:INFO:First current path [1, 212, 221, 12] formed at time = 0.75 s.\n"
     ]
    },
    {
     "name": "stdout",
     "output_type": "stream",
     "text": [
      "Running Random Network Regression: 50 nodes\n"
     ]
    },
    {
     "data": {
      "application/vnd.jupyter.widget-view+json": {
       "model_id": "147ca28d6ec94f1aa9457e116e57b501",
       "version_major": 2,
       "version_minor": 0
      },
      "text/plain": [
       "HBox(children=(IntProgress(value=0, description='Running Simulation ', max=500, style=ProgressStyle(descriptio…"
      ]
     },
     "metadata": {},
     "output_type": "display_data"
    },
    {
     "name": "stdout",
     "output_type": "stream",
     "text": [
      "Running Random Network Regression: 100 nodes\n",
      "Running Grid Network Regression: 250 nodes\n",
      "Running Random Network Regression: 150 nodes\n",
      "Running Random Network Regression: 200 nodes\n",
      "Running Grid Network Regression: 50 nodes\n",
      "Running Grid Network Regression: 100 nodes\n",
      "Running Random Network Regression: 300 nodes\n"
     ]
    },
    {
     "data": {
      "application/vnd.jupyter.widget-view+json": {
       "model_id": "e2f4a3f409c54ee6877ed692b6e02dd6",
       "version_major": 2,
       "version_minor": 0
      },
      "text/plain": [
       "HBox(children=(IntProgress(value=0, description='Running Simulation ', max=500, style=ProgressStyle(descriptio…"
      ]
     },
     "metadata": {},
     "output_type": "display_data"
    },
    {
     "name": "stdout",
     "output_type": "stream",
     "text": [
      "Running Grid Network Regression: 150 nodes\n",
      "Running Grid Network Regression: 300 nodes\n"
     ]
    },
    {
     "name": "stderr",
     "output_type": "stream",
     "text": [
      "2020-05-22 13:35:06,516:INFO:First current path [2, 48, 18, 54] formed at time = 0.76 s.\n"
     ]
    },
    {
     "name": "stdout",
     "output_type": "stream",
     "text": [
      "Running Random Network Regression: 50 nodes\n",
      "Running Random Network Regression: 100 nodes\n",
      "Running Random Network Regression: 250 nodes\n",
      "Running Random Network Regression: 150 nodes\n",
      "Running Grid Network Regression: 200 nodes\n",
      "Running Random Network Regression: 200 nodes\n"
     ]
    },
    {
     "name": "stderr",
     "output_type": "stream",
     "text": [
      "2020-05-22 13:35:07,167:INFO:First current path [0, 9, 28, 47, 65, 83, 101, 119, 135] formed at time = 0.76 s.\n"
     ]
    },
    {
     "data": {
      "application/vnd.jupyter.widget-view+json": {
       "model_id": "871ae71c3f8846e8bd4ca3c0cae8de9d",
       "version_major": 2,
       "version_minor": 0
      },
      "text/plain": [
       "HBox(children=(IntProgress(value=0, description='Running Simulation ', max=500, style=ProgressStyle(descriptio…"
      ]
     },
     "metadata": {},
     "output_type": "display_data"
    },
    {
     "name": "stdout",
     "output_type": "stream",
     "text": [
      "Running Grid Network Regression: 250 nodes\n",
      "Running Random Network Regression: 300 nodes\n",
      "Running Grid Network Regression: 50 nodes\n",
      "Running Grid Network Regression: 100 nodes\n",
      "Running Random Network Regression: 250 nodes\n",
      "Running Grid Network Regression: 150 nodes\n"
     ]
    },
    {
     "name": "stderr",
     "output_type": "stream",
     "text": [
      "2020-05-22 13:35:07,988:INFO:First current path [0, 9, 28, 47, 65, 83, 101, 119, 135] formed at time = 0.76 s.\n"
     ]
    },
    {
     "name": "stdout",
     "output_type": "stream",
     "text": [
      "Running Grid Network Regression: 200 nodes\n"
     ]
    },
    {
     "data": {
      "application/vnd.jupyter.widget-view+json": {
       "model_id": "c60e0fd618ab4b59b59c9fa0c059f9c3",
       "version_major": 2,
       "version_minor": 0
      },
      "text/plain": [
       "HBox(children=(IntProgress(value=0, description='Running Simulation ', max=500, style=ProgressStyle(descriptio…"
      ]
     },
     "metadata": {},
     "output_type": "display_data"
    },
    {
     "name": "stdout",
     "output_type": "stream",
     "text": [
      "Running Grid Network Regression: 300 nodes\n"
     ]
    },
    {
     "data": {
      "application/vnd.jupyter.widget-view+json": {
       "model_id": "4457792947a34c73b44076302c710405",
       "version_major": 2,
       "version_minor": 0
      },
      "text/plain": [
       "HBox(children=(IntProgress(value=0, description='Running Simulation ', max=500, style=ProgressStyle(descriptio…"
      ]
     },
     "metadata": {},
     "output_type": "display_data"
    },
    {
     "name": "stdout",
     "output_type": "stream",
     "text": [
      "Running Random Network Regression: 300 nodes\n",
      "Running Grid Network Regression: 50 nodes\n",
      "Running Grid Network Regression: 100 nodes\n",
      "Running Grid Network Regression: 250 nodes\n",
      "Running Grid Network Regression: 150 nodes\n"
     ]
    },
    {
     "name": "stderr",
     "output_type": "stream",
     "text": [
      "2020-05-22 13:35:09,033:INFO:First current path [1, 210, 190, 35] formed at time = 0.75 s.\n"
     ]
    },
    {
     "name": "stdout",
     "output_type": "stream",
     "text": [
      "Running Random Network Regression: 50 nodes\n",
      "Running Random Network Regression: 100 nodes\n",
      "Running Grid Network Regression: 200 nodes\n",
      "Running Random Network Regression: 150 nodes\n"
     ]
    },
    {
     "data": {
      "application/vnd.jupyter.widget-view+json": {
       "model_id": "6100f3a9e4d24833b73b86d697259174",
       "version_major": 2,
       "version_minor": 0
      },
      "text/plain": [
       "HBox(children=(IntProgress(value=0, description='Running Simulation ', max=500, style=ProgressStyle(descriptio…"
      ]
     },
     "metadata": {},
     "output_type": "display_data"
    },
    {
     "name": "stdout",
     "output_type": "stream",
     "text": [
      "Running Grid Network Regression: 300 nodes\n",
      "Running Random Network Regression: 200 nodes\n",
      "Running Grid Network Regression: 50 nodes\n",
      "Running Grid Network Regression: 100 nodes\n",
      "Running Grid Network Regression: 250 nodes\n"
     ]
    },
    {
     "name": "stderr",
     "output_type": "stream",
     "text": [
      "2020-05-22 13:35:09,859:INFO:First current path [0, 8, 25, 42, 59, 75, 91, 107, 123, 138] formed at time = 0.76 s.\n",
      "2020-05-22 13:35:09,864:INFO:First current path [0, 101, 102, 61] formed at time = 0.76 s.\n"
     ]
    },
    {
     "name": "stdout",
     "output_type": "stream",
     "text": [
      "Running Random Network Regression: 50 nodes\n",
      "Running Grid Network Regression: 150 nodes\n",
      "Running Random Network Regression: 100 nodes\n"
     ]
    },
    {
     "data": {
      "application/vnd.jupyter.widget-view+json": {
       "model_id": "3600172c572945158c3f494e7056c14f",
       "version_major": 2,
       "version_minor": 0
      },
      "text/plain": [
       "HBox(children=(IntProgress(value=0, description='Running Simulation ', max=500, style=ProgressStyle(descriptio…"
      ]
     },
     "metadata": {},
     "output_type": "display_data"
    },
    {
     "name": "stdout",
     "output_type": "stream",
     "text": [
      "Running Random Network Regression: 250 nodes\n",
      "Running Random Network Regression: 150 nodes\n",
      "Running Grid Network Regression: 200 nodes\n"
     ]
    },
    {
     "data": {
      "application/vnd.jupyter.widget-view+json": {
       "model_id": "a46458cb5f9e43b2887aef584d9b05cd",
       "version_major": 2,
       "version_minor": 0
      },
      "text/plain": [
       "HBox(children=(IntProgress(value=0, description='Running Simulation ', max=500, style=ProgressStyle(descriptio…"
      ]
     },
     "metadata": {},
     "output_type": "display_data"
    },
    {
     "name": "stdout",
     "output_type": "stream",
     "text": [
      "Running Random Network Regression: 200 nodes\n",
      "Running Grid Network Regression: 300 nodes\n",
      "Running Grid Network Regression: 250 nodes\n",
      "Running Random Network Regression: 300 nodes\n"
     ]
    },
    {
     "name": "stderr",
     "output_type": "stream",
     "text": [
      "2020-05-22 13:35:10,976:INFO:First current path [0, 9, 28, 47, 65, 83, 101, 119, 135] formed at time = 0.76 s.\n"
     ]
    },
    {
     "name": "stdout",
     "output_type": "stream",
     "text": [
      "Running Random Network Regression: 250 nodes\n"
     ]
    },
    {
     "data": {
      "application/vnd.jupyter.widget-view+json": {
       "model_id": "ea650ae0598b4326b826418bf7b32a7f",
       "version_major": 2,
       "version_minor": 0
      },
      "text/plain": [
       "HBox(children=(IntProgress(value=0, description='Running Simulation ', max=500, style=ProgressStyle(descriptio…"
      ]
     },
     "metadata": {},
     "output_type": "display_data"
    },
    {
     "data": {
      "application/vnd.jupyter.widget-view+json": {
       "model_id": "c144110b9e524b2fa8378d3386286a07",
       "version_major": 2,
       "version_minor": 0
      },
      "text/plain": [
       "HBox(children=(IntProgress(value=0, description='Running Simulation ', max=500, style=ProgressStyle(descriptio…"
      ]
     },
     "metadata": {},
     "output_type": "display_data"
    },
    {
     "name": "stdout",
     "output_type": "stream",
     "text": [
      "Running Grid Network Regression: 300 nodes\n"
     ]
    },
    {
     "name": "stderr",
     "output_type": "stream",
     "text": [
      "2020-05-22 13:35:11,715:INFO:First current path [0, 2, 68, 285] formed at time = 0.76 s.\n"
     ]
    },
    {
     "name": "stdout",
     "output_type": "stream",
     "text": [
      "Running Random Network Regression: 50 nodes\n",
      "Running Random Network Regression: 100 nodes\n"
     ]
    },
    {
     "name": "stderr",
     "output_type": "stream",
     "text": [
      "2020-05-22 13:35:11,816:INFO:First current path [0, 8, 26, 44, 62, 79, 96, 113, 130, 146] formed at time = 0.76 s.\n"
     ]
    },
    {
     "name": "stdout",
     "output_type": "stream",
     "text": [
      "Running Random Network Regression: 300 nodes\n",
      "Running Random Network Regression: 150 nodes\n"
     ]
    },
    {
     "data": {
      "application/vnd.jupyter.widget-view+json": {
       "model_id": "e0c9d9512669444490227894b72ae55c",
       "version_major": 2,
       "version_minor": 0
      },
      "text/plain": [
       "HBox(children=(IntProgress(value=0, description='Running Simulation ', max=500, style=ProgressStyle(descriptio…"
      ]
     },
     "metadata": {},
     "output_type": "display_data"
    },
    {
     "name": "stdout",
     "output_type": "stream",
     "text": [
      "Running Grid Network Regression: 50 nodes\n",
      "Running Grid Network Regression: 100 nodes\n",
      "Running Random Network Regression: 200 nodes\n",
      "Running Grid Network Regression: 150 nodes\n",
      "Running Grid Network Regression: 200 nodes\n"
     ]
    },
    {
     "name": "stderr",
     "output_type": "stream",
     "text": [
      "2020-05-22 13:35:12,864:INFO:First current path [3, 112, 163, 262] formed at time = 0.75 s.\n"
     ]
    },
    {
     "name": "stdout",
     "output_type": "stream",
     "text": [
      "Running Random Network Regression: 50 nodes\n",
      "Running Random Network Regression: 250 nodes\n",
      "Running Random Network Regression: 100 nodes\n",
      "Running Grid Network Regression: 50 nodes\n",
      "Running Grid Network Regression: 100 nodes\n"
     ]
    },
    {
     "name": "stderr",
     "output_type": "stream",
     "text": [
      "2020-05-22 13:35:13,098:INFO:First current path [0, 9, 28, 47, 65, 83, 101, 119, 135] formed at time = 0.76 s.\n"
     ]
    },
    {
     "name": "stdout",
     "output_type": "stream",
     "text": [
      "Running Random Network Regression: 150 nodes\n",
      "Running Grid Network Regression: 250 nodes\n",
      "Running Grid Network Regression: 150 nodes\n"
     ]
    },
    {
     "data": {
      "application/vnd.jupyter.widget-view+json": {
       "model_id": "24233725225b4eda85b58f671bf6a896",
       "version_major": 2,
       "version_minor": 0
      },
      "text/plain": [
       "HBox(children=(IntProgress(value=0, description='Running Simulation ', max=500, style=ProgressStyle(descriptio…"
      ]
     },
     "metadata": {},
     "output_type": "display_data"
    },
    {
     "data": {
      "application/vnd.jupyter.widget-view+json": {
       "model_id": "f062f7b07cc64c5db4627725be15fcc4",
       "version_major": 2,
       "version_minor": 0
      },
      "text/plain": [
       "HBox(children=(IntProgress(value=0, description='Running Simulation ', max=500, style=ProgressStyle(descriptio…"
      ]
     },
     "metadata": {},
     "output_type": "display_data"
    },
    {
     "name": "stdout",
     "output_type": "stream",
     "text": [
      "Running Random Network Regression: 200 nodes\n",
      "Running Grid Network Regression: 200 nodes\n",
      "Running Random Network Regression: 300 nodes\n"
     ]
    },
    {
     "name": "stderr",
     "output_type": "stream",
     "text": [
      "2020-05-22 13:35:13,681:INFO:First current path [1, 34, 278, 124] formed at time = 0.76 s.\n"
     ]
    },
    {
     "name": "stdout",
     "output_type": "stream",
     "text": [
      "Running Random Network Regression: 50 nodes\n",
      "Running Random Network Regression: 100 nodes\n",
      "Running Random Network Regression: 150 nodes\n",
      "Running Random Network Regression: 250 nodes\n"
     ]
    },
    {
     "data": {
      "application/vnd.jupyter.widget-view+json": {
       "model_id": "df82faefc0e54e42b0e056a92b09b01f",
       "version_major": 2,
       "version_minor": 0
      },
      "text/plain": [
       "HBox(children=(IntProgress(value=0, description='Running Simulation ', max=500, style=ProgressStyle(descriptio…"
      ]
     },
     "metadata": {},
     "output_type": "display_data"
    },
    {
     "name": "stdout",
     "output_type": "stream",
     "text": [
      "Running Grid Network Regression: 300 nodes\n",
      "Running Grid Network Regression: 250 nodes\n",
      "Running Random Network Regression: 200 nodes\n",
      "Running Grid Network Regression: 50 nodes\n",
      "Running Random Network Regression: 250 nodes\n",
      "Running Random Network Regression: 300 nodes\n",
      "Running Grid Network Regression: 100 nodes\n"
     ]
    },
    {
     "name": "stderr",
     "output_type": "stream",
     "text": [
      "2020-05-22 13:35:14,877:INFO:First current path [0, 8, 26, 44, 62, 79, 96, 113, 130, 146] formed at time = 0.76 s.\n",
      "2020-05-22 13:35:15,002:INFO:First current path [2, 87, 63, 252] formed at time = 0.75 s.\n"
     ]
    },
    {
     "name": "stdout",
     "output_type": "stream",
     "text": [
      "Running Random Network Regression: 50 nodes\n",
      "Running Grid Network Regression: 150 nodes\n",
      "Running Grid Network Regression: 300 nodes\n",
      "Running Random Network Regression: 100 nodes\n"
     ]
    },
    {
     "data": {
      "application/vnd.jupyter.widget-view+json": {
       "model_id": "798ee5de63844b94b73e0a83be37d9fb",
       "version_major": 2,
       "version_minor": 0
      },
      "text/plain": [
       "HBox(children=(IntProgress(value=0, description='Running Simulation ', max=500, style=ProgressStyle(descriptio…"
      ]
     },
     "metadata": {},
     "output_type": "display_data"
    },
    {
     "data": {
      "application/vnd.jupyter.widget-view+json": {
       "model_id": "db6e41f751c348a7a608afc19a2a479f",
       "version_major": 2,
       "version_minor": 0
      },
      "text/plain": [
       "HBox(children=(IntProgress(value=0, description='Running Simulation ', max=500, style=ProgressStyle(descriptio…"
      ]
     },
     "metadata": {},
     "output_type": "display_data"
    },
    {
     "name": "stdout",
     "output_type": "stream",
     "text": [
      "Running Random Network Regression: 150 nodes\n",
      "Running Grid Network Regression: 200 nodes\n",
      "Running Random Network Regression: 200 nodes\n"
     ]
    },
    {
     "name": "stderr",
     "output_type": "stream",
     "text": [
      "2020-05-22 13:35:15,608:INFO:First current path [0, 9, 28, 47, 65, 83, 101, 119, 135] formed at time = 0.76 s.\n"
     ]
    },
    {
     "name": "stdout",
     "output_type": "stream",
     "text": [
      "Running Random Network Regression: 300 nodes\n"
     ]
    },
    {
     "data": {
      "application/vnd.jupyter.widget-view+json": {
       "model_id": "f37b0c3cb083414d898addfa65f78307",
       "version_major": 2,
       "version_minor": 0
      },
      "text/plain": [
       "HBox(children=(IntProgress(value=0, description='Running Simulation ', max=500, style=ProgressStyle(descriptio…"
      ]
     },
     "metadata": {},
     "output_type": "display_data"
    },
    {
     "name": "stdout",
     "output_type": "stream",
     "text": [
      "Running Grid Network Regression: 250 nodes\n",
      "Running Grid Network Regression: 50 nodes\n",
      "Running Grid Network Regression: 100 nodes\n",
      "Running Random Network Regression: 250 nodes\n",
      "Running Grid Network Regression: 150 nodes\n"
     ]
    },
    {
     "data": {
      "application/vnd.jupyter.widget-view+json": {
       "model_id": "27b0ae3f3c7d4730924bd0fa3217b4ec",
       "version_major": 2,
       "version_minor": 0
      },
      "text/plain": [
       "HBox(children=(IntProgress(value=0, description='Running Simulation ', max=500, style=ProgressStyle(descriptio…"
      ]
     },
     "metadata": {},
     "output_type": "display_data"
    },
    {
     "name": "stdout",
     "output_type": "stream",
     "text": [
      "Running Grid Network Regression: 200 nodes\n"
     ]
    },
    {
     "name": "stderr",
     "output_type": "stream",
     "text": [
      "2020-05-22 13:35:16,746:INFO:First current path [0, 10, 32, 54, 75, 96, 117, 134] formed at time = 0.76 s.\n",
      "2020-05-22 13:35:16,755:INFO:First current path [0, 182, 296, 169] formed at time = 0.75 s.\n"
     ]
    },
    {
     "name": "stdout",
     "output_type": "stream",
     "text": [
      "Running Random Network Regression: 50 nodes\n",
      "Running Grid Network Regression: 300 nodes\n",
      "Running Random Network Regression: 100 nodes\n",
      "Running Grid Network Regression: 50 nodes\n",
      "Running Random Network Regression: 300 nodes\n",
      "Running Grid Network Regression: 100 nodes\n"
     ]
    },
    {
     "data": {
      "application/vnd.jupyter.widget-view+json": {
       "model_id": "c65f2e4a8c484e3e9a3eb5c5581c87b3",
       "version_major": 2,
       "version_minor": 0
      },
      "text/plain": [
       "HBox(children=(IntProgress(value=0, description='Running Simulation ', max=500, style=ProgressStyle(descriptio…"
      ]
     },
     "metadata": {},
     "output_type": "display_data"
    },
    {
     "name": "stdout",
     "output_type": "stream",
     "text": [
      "Running Random Network Regression: 150 nodes\n",
      "Running Grid Network Regression: 150 nodes\n",
      "Running Grid Network Regression: 250 nodes\n",
      "Running Random Network Regression: 200 nodes\n",
      "Running Grid Network Regression: 200 nodes\n"
     ]
    },
    {
     "name": "stderr",
     "output_type": "stream",
     "text": [
      "2020-05-22 13:35:17,469:INFO:First current path [1, 30, 281, 154] formed at time = 0.76 s.\n"
     ]
    },
    {
     "name": "stdout",
     "output_type": "stream",
     "text": [
      "Running Random Network Regression: 50 nodes\n",
      "Running Random Network Regression: 100 nodes\n",
      "Running Random Network Regression: 150 nodes\n"
     ]
    },
    {
     "data": {
      "application/vnd.jupyter.widget-view+json": {
       "model_id": "70ad3d1e00f1404fb35ee74029d405cc",
       "version_major": 2,
       "version_minor": 0
      },
      "text/plain": [
       "HBox(children=(IntProgress(value=0, description='Running Simulation ', max=500, style=ProgressStyle(descriptio…"
      ]
     },
     "metadata": {},
     "output_type": "display_data"
    },
    {
     "name": "stdout",
     "output_type": "stream",
     "text": [
      "Running Random Network Regression: 250 nodes\n",
      "Running Grid Network Regression: 300 nodes\n",
      "Running Grid Network Regression: 250 nodes\n",
      "Running Random Network Regression: 200 nodes\n"
     ]
    },
    {
     "name": "stderr",
     "output_type": "stream",
     "text": [
      "2020-05-22 13:35:18,070:INFO:First current path [0, 281, 261, 241, 221, 201, 181, 161, 142] formed at time = 0.75 s.\n"
     ]
    },
    {
     "name": "stdout",
     "output_type": "stream",
     "text": [
      "Running Grid Network Regression: 50 nodes\n",
      "Running Grid Network Regression: 100 nodes\n"
     ]
    },
    {
     "data": {
      "application/vnd.jupyter.widget-view+json": {
       "model_id": "a49ed9c2aa8b4d6da5e91c309e70cb60",
       "version_major": 2,
       "version_minor": 0
      },
      "text/plain": [
       "HBox(children=(IntProgress(value=0, description='Running Simulation ', max=500, style=ProgressStyle(descriptio…"
      ]
     },
     "metadata": {},
     "output_type": "display_data"
    },
    {
     "name": "stdout",
     "output_type": "stream",
     "text": [
      "Running Grid Network Regression: 150 nodes\n",
      "Running Random Network Regression: 250 nodes\n",
      "Running Grid Network Regression: 200 nodes\n",
      "Running Random Network Regression: 300 nodes\n"
     ]
    },
    {
     "name": "stderr",
     "output_type": "stream",
     "text": [
      "2020-05-22 13:35:18,736:INFO:First current path [20, 74, 1, 271] formed at time = 0.77 s.\n"
     ]
    },
    {
     "name": "stdout",
     "output_type": "stream",
     "text": [
      "Running Random Network Regression: 50 nodes\n",
      "Running Random Network Regression: 100 nodes\n",
      "Running Grid Network Regression: 300 nodes\n",
      "Running Random Network Regression: 150 nodes\n",
      "Running Grid Network Regression: 250 nodes\n",
      "Running Random Network Regression: 200 nodes\n",
      "Running Random Network Regression: 299 nodes\n"
     ]
    },
    {
     "name": "stderr",
     "output_type": "stream",
     "text": [
      "2020-05-22 13:35:19,395:INFO:First current path [0, 10, 32, 54, 75, 96, 117, 134] formed at time = 0.76 s.\n"
     ]
    },
    {
     "name": "stdout",
     "output_type": "stream",
     "text": [
      "Running Random Network Regression: 250 nodes\n",
      "Running Grid Network Regression: 50 nodes\n"
     ]
    },
    {
     "name": "stderr",
     "output_type": "stream",
     "text": [
      "2020-05-22 13:35:19,974:INFO:First current path [2, 24, 106, 276] formed at time = 0.76 s.\n"
     ]
    },
    {
     "name": "stdout",
     "output_type": "stream",
     "text": [
      "Running Random Network Regression: 50 nodes\n",
      "Running Grid Network Regression: 100 nodes\n",
      "Running Random Network Regression: 100 nodes\n",
      "Running Grid Network Regression: 300 nodes\n",
      "Running Grid Network Regression: 150 nodes\n"
     ]
    },
    {
     "data": {
      "application/vnd.jupyter.widget-view+json": {
       "model_id": "9d377ddc38854fa29b033b9357b45b1d",
       "version_major": 2,
       "version_minor": 0
      },
      "text/plain": [
       "HBox(children=(IntProgress(value=0, description='Running Simulation ', max=500, style=ProgressStyle(descriptio…"
      ]
     },
     "metadata": {},
     "output_type": "display_data"
    },
    {
     "name": "stdout",
     "output_type": "stream",
     "text": [
      "Running Random Network Regression: 150 nodes\n"
     ]
    },
    {
     "data": {
      "application/vnd.jupyter.widget-view+json": {
       "model_id": "bff6ba6e869d4c25b34670ca27c6127f",
       "version_major": 2,
       "version_minor": 0
      },
      "text/plain": [
       "HBox(children=(IntProgress(value=0, description='Running Simulation ', max=500, style=ProgressStyle(descriptio…"
      ]
     },
     "metadata": {},
     "output_type": "display_data"
    },
    {
     "name": "stdout",
     "output_type": "stream",
     "text": [
      "Running Grid Network Regression: 50 nodes\n",
      "Running Grid Network Regression: 100 nodes\n",
      "Running Grid Network Regression: 200 nodes\n",
      "Running Random Network Regression: 200 nodes\n",
      "Running Random Network Regression: 300 nodes\n",
      "Running Grid Network Regression: 150 nodes\n",
      "Running Grid Network Regression: 200 nodes\n",
      "Running Random Network Regression: 250 nodes\n",
      "Running Grid Network Regression: 250 nodes\n",
      "Running Grid Network Regression: 250 nodes\n",
      "Running Grid Network Regression: 50 nodes\n",
      "Running Grid Network Regression: 100 nodes\n"
     ]
    },
    {
     "name": "stderr",
     "output_type": "stream",
     "text": [
      "2020-05-22 13:35:21,835:INFO:First current path [0, 10, 32, 54, 75, 96, 117, 134] formed at time = 0.76 s.\n"
     ]
    },
    {
     "name": "stdout",
     "output_type": "stream",
     "text": [
      "Running Random Network Regression: 300 nodes\n"
     ]
    },
    {
     "name": "stderr",
     "output_type": "stream",
     "text": [
      "2020-05-22 13:35:21,935:INFO:First current path [12, 54, 208, 198] formed at time = 0.77 s.\n"
     ]
    },
    {
     "name": "stdout",
     "output_type": "stream",
     "text": [
      "Running Random Network Regression: 50 nodes\n",
      "Running Grid Network Regression: 300 nodes\n",
      "Running Grid Network Regression: 150 nodes\n",
      "Running Random Network Regression: 100 nodes\n"
     ]
    },
    {
     "data": {
      "application/vnd.jupyter.widget-view+json": {
       "model_id": "11e7c55d1d2740e6ace80a024d606582",
       "version_major": 2,
       "version_minor": 0
      },
      "text/plain": [
       "HBox(children=(IntProgress(value=0, description='Running Simulation ', max=500, style=ProgressStyle(descriptio…"
      ]
     },
     "metadata": {},
     "output_type": "display_data"
    },
    {
     "name": "stdout",
     "output_type": "stream",
     "text": [
      "Running Random Network Regression: 150 nodes\n",
      "Running Grid Network Regression: 200 nodes\n"
     ]
    },
    {
     "data": {
      "application/vnd.jupyter.widget-view+json": {
       "model_id": "a480ad2b072748369b8225b5cc14bd1f",
       "version_major": 2,
       "version_minor": 0
      },
      "text/plain": [
       "HBox(children=(IntProgress(value=0, description='Running Simulation ', max=500, style=ProgressStyle(descriptio…"
      ]
     },
     "metadata": {},
     "output_type": "display_data"
    },
    {
     "name": "stdout",
     "output_type": "stream",
     "text": [
      "Running Grid Network Regression: 299 nodes\n",
      "Running Random Network Regression: 200 nodes\n",
      "Running Grid Network Regression: 250 nodes\n",
      "Running Grid Network Regression: 50 nodes\n",
      "Running Random Network Regression: 250 nodes\n",
      "Running Grid Network Regression: 100 nodes\n",
      "Running Grid Network Regression: 150 nodes\n",
      "Running Grid Network Regression: 200 nodes\n",
      "Running Grid Network Regression: 300 nodes\n"
     ]
    },
    {
     "name": "stderr",
     "output_type": "stream",
     "text": [
      "2020-05-22 13:35:23,763:INFO:First current path [7, 141, 55, 97] formed at time = 0.76 s.\n"
     ]
    },
    {
     "name": "stdout",
     "output_type": "stream",
     "text": [
      "Running Random Network Regression: 50 nodes\n",
      "Running Random Network Regression: 300 nodes\n",
      "Running Random Network Regression: 100 nodes\n"
     ]
    },
    {
     "name": "stderr",
     "output_type": "stream",
     "text": [
      "2020-05-22 13:35:23,989:INFO:First current path [0, 10, 32, 54, 75, 96, 117, 134] formed at time = 0.76 s.\n"
     ]
    },
    {
     "data": {
      "application/vnd.jupyter.widget-view+json": {
       "model_id": "1c19b2c77bc4428d8495376ea1106f0e",
       "version_major": 2,
       "version_minor": 0
      },
      "text/plain": [
       "HBox(children=(IntProgress(value=0, description='Running Simulation ', max=500, style=ProgressStyle(descriptio…"
      ]
     },
     "metadata": {},
     "output_type": "display_data"
    },
    {
     "name": "stdout",
     "output_type": "stream",
     "text": [
      "Running Random Network Regression: 150 nodes\n",
      "Running Grid Network Regression: 250 nodes\n"
     ]
    },
    {
     "data": {
      "application/vnd.jupyter.widget-view+json": {
       "model_id": "da1b21df2f8e4d008e820b8e8715b2a6",
       "version_major": 2,
       "version_minor": 0
      },
      "text/plain": [
       "HBox(children=(IntProgress(value=0, description='Running Simulation ', max=500, style=ProgressStyle(descriptio…"
      ]
     },
     "metadata": {},
     "output_type": "display_data"
    },
    {
     "name": "stdout",
     "output_type": "stream",
     "text": [
      "Running Random Network Regression: 200 nodes\n"
     ]
    },
    {
     "data": {
      "application/vnd.jupyter.widget-view+json": {
       "model_id": "83205563e4264dbc8d2fbfd95062fbdc",
       "version_major": 2,
       "version_minor": 0
      },
      "text/plain": [
       "HBox(children=(IntProgress(value=0, description='Running Simulation ', max=500, style=ProgressStyle(descriptio…"
      ]
     },
     "metadata": {},
     "output_type": "display_data"
    },
    {
     "name": "stdout",
     "output_type": "stream",
     "text": [
      "Running Random Network Regression: 250 nodes\n",
      "Running Grid Network Regression: 50 nodes\n",
      "Running Grid Network Regression: 100 nodes\n",
      "Running Grid Network Regression: 300 nodes\n",
      "Running Grid Network Regression: 150 nodes\n",
      "Running Grid Network Regression: 200 nodes\n"
     ]
    },
    {
     "name": "stderr",
     "output_type": "stream",
     "text": [
      "2020-05-22 13:35:25,578:INFO:First current path [0, 9, 30, 51, 72, 92, 112, 132, 149] formed at time = 0.76 s.\n"
     ]
    },
    {
     "name": "stdout",
     "output_type": "stream",
     "text": [
      "Running Random Network Regression: 300 nodes\n"
     ]
    },
    {
     "data": {
      "application/vnd.jupyter.widget-view+json": {
       "model_id": "8f7c428e25344d45b763e411370ed0bd",
       "version_major": 2,
       "version_minor": 0
      },
      "text/plain": [
       "HBox(children=(IntProgress(value=0, description='Running Simulation ', max=500, style=ProgressStyle(descriptio…"
      ]
     },
     "metadata": {},
     "output_type": "display_data"
    },
    {
     "name": "stderr",
     "output_type": "stream",
     "text": [
      "2020-05-22 13:35:25,935:INFO:First current path [8, 1, 53, 212] formed at time = 0.76 s.\n"
     ]
    },
    {
     "name": "stdout",
     "output_type": "stream",
     "text": [
      "Running Random Network Regression: 50 nodes\n",
      "Running Random Network Regression: 100 nodes\n",
      "Running Grid Network Regression: 250 nodes\n",
      "Running Random Network Regression: 150 nodes\n"
     ]
    },
    {
     "data": {
      "application/vnd.jupyter.widget-view+json": {
       "model_id": "fbb5dc50fe6f4b0aad55d9d459669305",
       "version_major": 2,
       "version_minor": 0
      },
      "text/plain": [
       "HBox(children=(IntProgress(value=0, description='Running Simulation ', max=500, style=ProgressStyle(descriptio…"
      ]
     },
     "metadata": {},
     "output_type": "display_data"
    },
    {
     "name": "stderr",
     "output_type": "stream",
     "text": [
      "2020-05-22 13:35:26,401:INFO:First current path [0, 9, 30, 51, 72, 92, 112, 132, 149] formed at time = 0.76 s.\n"
     ]
    },
    {
     "name": "stdout",
     "output_type": "stream",
     "text": [
      "Running Random Network Regression: 200 nodes\n"
     ]
    },
    {
     "data": {
      "application/vnd.jupyter.widget-view+json": {
       "model_id": "7a3f5c7c2c41450588e07519ee1b8595",
       "version_major": 2,
       "version_minor": 0
      },
      "text/plain": [
       "HBox(children=(IntProgress(value=0, description='Running Simulation ', max=500, style=ProgressStyle(descriptio…"
      ]
     },
     "metadata": {},
     "output_type": "display_data"
    },
    {
     "name": "stdout",
     "output_type": "stream",
     "text": [
      "Running Grid Network Regression: 50 nodes\n",
      "Running Grid Network Regression: 100 nodes\n",
      "Running Grid Network Regression: 300 nodes\n",
      "Running Grid Network Regression: 150 nodes\n",
      "Running Random Network Regression: 250 nodes\n",
      "Running Grid Network Regression: 200 nodes\n"
     ]
    },
    {
     "name": "stderr",
     "output_type": "stream",
     "text": [
      "2020-05-22 13:35:27,446:INFO:First current path [5, 17, 136, 226] formed at time = 0.76 s.\n"
     ]
    },
    {
     "name": "stdout",
     "output_type": "stream",
     "text": [
      "Running Random Network Regression: 50 nodes\n",
      "Running Random Network Regression: 100 nodes\n",
      "Running Random Network Regression: 150 nodes\n",
      "Running Grid Network Regression: 250 nodes\n",
      "Running Random Network Regression: 300 nodes\n"
     ]
    },
    {
     "data": {
      "application/vnd.jupyter.widget-view+json": {
       "model_id": "7b9dae7d14b54a0db0283d82232d765b",
       "version_major": 2,
       "version_minor": 0
      },
      "text/plain": [
       "HBox(children=(IntProgress(value=0, description='Running Simulation ', max=500, style=ProgressStyle(descriptio…"
      ]
     },
     "metadata": {},
     "output_type": "display_data"
    },
    {
     "name": "stderr",
     "output_type": "stream",
     "text": [
      "2020-05-22 13:35:27,978:INFO:First current path [0, 9, 30, 51, 72, 92, 112, 132, 149] formed at time = 0.76 s.\n"
     ]
    },
    {
     "name": "stdout",
     "output_type": "stream",
     "text": [
      "Running Random Network Regression: 200 nodes\n"
     ]
    },
    {
     "data": {
      "application/vnd.jupyter.widget-view+json": {
       "model_id": "f0fe14cba7b4494099255ae76920c899",
       "version_major": 2,
       "version_minor": 0
      },
      "text/plain": [
       "HBox(children=(IntProgress(value=0, description='Running Simulation ', max=500, style=ProgressStyle(descriptio…"
      ]
     },
     "metadata": {},
     "output_type": "display_data"
    },
    {
     "name": "stderr",
     "output_type": "stream",
     "text": [
      "2020-05-22 13:35:28,322:INFO:First current path [1, 3, 159, 136] formed at time = 0.76 s.\n"
     ]
    },
    {
     "name": "stdout",
     "output_type": "stream",
     "text": [
      "Running Random Network Regression: 50 nodes\n",
      "Running Random Network Regression: 100 nodes\n",
      "Running Random Network Regression: 250 nodes\n",
      "Running Random Network Regression: 150 nodes\n",
      "Running Grid Network Regression: 300 nodes\n",
      "Running Random Network Regression: 200 nodes\n",
      "Running Grid Network Regression: 50 nodes\n",
      "Running Grid Network Regression: 100 nodes\n",
      "Running Grid Network Regression: 150 nodes\n"
     ]
    },
    {
     "data": {
      "application/vnd.jupyter.widget-view+json": {
       "model_id": "84839713452a441dbffd20c7790df268",
       "version_major": 2,
       "version_minor": 0
      },
      "text/plain": [
       "HBox(children=(IntProgress(value=0, description='Running Simulation ', max=500, style=ProgressStyle(descriptio…"
      ]
     },
     "metadata": {},
     "output_type": "display_data"
    },
    {
     "name": "stdout",
     "output_type": "stream",
     "text": [
      "Running Random Network Regression: 300 nodes\n",
      "Running Random Network Regression: 250 nodes\n"
     ]
    },
    {
     "name": "stderr",
     "output_type": "stream",
     "text": [
      "2020-05-22 13:35:29,484:INFO:First current path [0, 9, 30, 51, 72, 92, 112, 132, 149] formed at time = 0.76 s.\n"
     ]
    },
    {
     "name": "stdout",
     "output_type": "stream",
     "text": [
      "Running Grid Network Regression: 200 nodes\n"
     ]
    },
    {
     "data": {
      "application/vnd.jupyter.widget-view+json": {
       "model_id": "cc7c09951d6b42118332c5c8f88b600d",
       "version_major": 2,
       "version_minor": 0
      },
      "text/plain": [
       "HBox(children=(IntProgress(value=0, description='Running Simulation ', max=500, style=ProgressStyle(descriptio…"
      ]
     },
     "metadata": {},
     "output_type": "display_data"
    },
    {
     "name": "stderr",
     "output_type": "stream",
     "text": [
      "2020-05-22 13:35:29,850:INFO:First current path [5, 262, 178, 92] formed at time = 0.76 s.\n"
     ]
    },
    {
     "name": "stdout",
     "output_type": "stream",
     "text": [
      "Running Random Network Regression: 50 nodes\n",
      "Running Random Network Regression: 100 nodes\n",
      "Running Grid Network Regression: 250 nodes\n",
      "Running Random Network Regression: 150 nodes\n",
      "Running Random Network Regression: 300 nodes\n",
      "Running Grid Network Regression: 50 nodes\n",
      "Running Random Network Regression: 200 nodes\n",
      "Running Grid Network Regression: 100 nodes\n",
      "Running Grid Network Regression: 150 nodes\n"
     ]
    },
    {
     "name": "stderr",
     "output_type": "stream",
     "text": [
      "2020-05-22 13:35:30,794:INFO:First current path [0, 9, 30, 51, 72, 92, 112, 132, 149] formed at time = 0.76 s.\n"
     ]
    },
    {
     "name": "stdout",
     "output_type": "stream",
     "text": [
      "Running Grid Network Regression: 300 nodes\n",
      "Running Random Network Regression: 250 nodes\n",
      "Running Grid Network Regression: 200 nodes\n"
     ]
    },
    {
     "data": {
      "application/vnd.jupyter.widget-view+json": {
       "model_id": "1c07ff3bcd2a4f53a9809d9b45dd3a8d",
       "version_major": 2,
       "version_minor": 0
      },
      "text/plain": [
       "HBox(children=(IntProgress(value=0, description='Running Simulation ', max=500, style=ProgressStyle(descriptio…"
      ]
     },
     "metadata": {},
     "output_type": "display_data"
    },
    {
     "name": "stdout",
     "output_type": "stream",
     "text": [
      "Running Grid Network Regression: 50 nodes\n",
      "Running Grid Network Regression: 100 nodes\n"
     ]
    },
    {
     "name": "stderr",
     "output_type": "stream",
     "text": [
      "2020-05-22 13:35:31,307:INFO:First current path [7, 73, 244, 208] formed at time = 0.75 s.\n"
     ]
    },
    {
     "name": "stdout",
     "output_type": "stream",
     "text": [
      "Running Random Network Regression: 50 nodes\n",
      "Running Random Network Regression: 100 nodes\n",
      "Running Grid Network Regression: 150 nodes\n",
      "Running Grid Network Regression: 250 nodes\n",
      "Running Random Network Regression: 150 nodes\n",
      "Running Random Network Regression: 300 nodes\n",
      "Running Grid Network Regression: 200 nodes\n",
      "Running Random Network Regression: 200 nodes\n",
      "Running Grid Network Regression: 300 nodes\n",
      "Running Grid Network Regression: 250 nodes\n",
      "Running Random Network Regression: 250 nodes\n"
     ]
    },
    {
     "name": "stderr",
     "output_type": "stream",
     "text": [
      "2020-05-22 13:35:32,653:INFO:First current path [5, 65, 206, 130] formed at time = 0.76 s.\n"
     ]
    },
    {
     "name": "stdout",
     "output_type": "stream",
     "text": [
      "Running Random Network Regression: 50 nodes\n",
      "Running Grid Network Regression: 50 nodes\n",
      "Running Random Network Regression: 100 nodes\n",
      "Running Grid Network Regression: 100 nodes\n",
      "Running Random Network Regression: 150 nodes\n",
      "Running Grid Network Regression: 150 nodes\n",
      "Running Grid Network Regression: 300 nodes\n",
      "Running Random Network Regression: 300 nodes\n",
      "Running Random Network Regression: 200 nodes\n",
      "Running Grid Network Regression: 200 nodes\n",
      "Running Random Network Regression: 250 nodes\n",
      "Running Grid Network Regression: 250 nodes\n",
      "Running Grid Network Regression: 50 nodes\n",
      "Running Grid Network Regression: 100 nodes\n",
      "Running Grid Network Regression: 150 nodes\n",
      "Running Random Network Regression: 300 nodes\n",
      "Running Grid Network Regression: 300 nodes\n",
      "Running Grid Network Regression: 200 nodes\n",
      "Running Grid Network Regression: 250 nodes\n",
      "Running Grid Network Regression: 50 nodes\n",
      "Running Grid Network Regression: 100 nodes\n",
      "Running Grid Network Regression: 150 nodes\n",
      "Running Grid Network Regression: 300 nodes\n",
      "Running Grid Network Regression: 200 nodes\n",
      "Running Grid Network Regression: 250 nodes\n",
      "Running Grid Network Regression: 300 nodes\n"
     ]
    }
   ],
   "source": [
    "#parallel run simulations\n",
    "result=para_run(WS_Run,init,nCPU=12)\n"
   ]
  },
  {
   "cell_type": "code",
   "execution_count": 135,
   "metadata": {},
   "outputs": [],
   "source": [
    "for i in range(len(result)):\n",
    "    WS_Grid[i]['Accuracy']['Linear Transformation']=[ii[0] for ii in result][i]\n",
    "    WS_Random[i]['Accuracy']['Linear Transformation']=[ii[1] for ii in result][i]"
   ]
  },
  {
   "cell_type": "code",
   "execution_count": 141,
   "metadata": {},
   "outputs": [
    {
     "data": {
      "application/vnd.jupyter.widget-view+json": {
       "model_id": "1955cc15506b43d2a98e6fd00d660a83",
       "version_major": 2,
       "version_minor": 0
      },
      "text/plain": [
       "HBox(children=(IntProgress(value=0, max=300), HTML(value='')))"
      ]
     },
     "metadata": {},
     "output_type": "display_data"
    }
   ],
   "source": [
    "#export adj matrices to calculate small worldness in matlab:\n",
    "adj_mats={\"AdjMat_Grid\":[],\"AdjMat_Random\":[]}\n",
    "for i in tqdm(range(len(WS_Grid))):\n",
    "    adj_mats['AdjMat_Grid'].append(dict(grid=nx.adj_matrix(grid[i]).todense()))\n",
    "    adj_mats['AdjMat_Random'].append(dict(random=nx.adj_matrix(random[i]).todense()))\n",
    "    WS_Grid[i]['adj_matrix']=nx.adj_matrix(grid[i]).todense()\n",
    "    WS_Random[i]['adj_matrix']=nx.adj_matrix(random[i]).todense()\n",
    "savemat('/import/silo2/aloe8475/Documents/CODE/Data/Functional Connectivity/300_WS_AllASN.mat',adj_mats)"
   ]
  },
  {
   "cell_type": "code",
   "execution_count": 143,
   "metadata": {},
   "outputs": [
    {
     "name": "stdout",
     "output_type": "stream",
     "text": [
      "/import/silo2/aloe8475/Documents/CODE/Data/Functional Connectivity\n"
     ]
    }
   ],
   "source": [
    "cd \"/import/silo2/aloe8475/Documents/CODE/Data/Functional Connectivity/\""
   ]
  },
  {
   "cell_type": "code",
   "execution_count": 144,
   "metadata": {},
   "outputs": [],
   "source": [
    "smallworld_ws={'Grid':[],'Random':[]}\n",
    "# temp=loadmat(r'300_WS_smallworld.mat')\n",
    "temp=loadmat(r'300_WS_AllASN_smallworld.mat')\n",
    "smallworld_ws['Grid']=temp['smallworld_grid']\n",
    "smallworld_ws['Random']=temp['smallworld_random']\n",
    "del temp"
   ]
  },
  {
   "cell_type": "code",
   "execution_count": 145,
   "metadata": {},
   "outputs": [
    {
     "name": "stdout",
     "output_type": "stream",
     "text": [
      "/import/silo2/aloe8475/Documents/CODE/Analysis/Functional Connectivity/Functional Tasks\n"
     ]
    }
   ],
   "source": [
    "cd \"/import/silo2/aloe8475/Documents/CODE/Analysis/Functional Connectivity/Functional Tasks/\""
   ]
  },
  {
   "cell_type": "code",
   "execution_count": null,
   "metadata": {},
   "outputs": [
    {
     "data": {
      "application/vnd.jupyter.widget-view+json": {
       "model_id": "16346188556347c49e33950d39f637fc",
       "version_major": 2,
       "version_minor": 0
      },
      "text/plain": [
       "HBox(children=(IntProgress(value=0, max=300), HTML(value='')))"
      ]
     },
     "metadata": {},
     "output_type": "display_data"
    }
   ],
   "source": [
    "# WS:\n",
    "ci = []\n",
    "pcoeff= []\n",
    "mz= []\n",
    "clustering = []\n",
    "for i in tqdm(range(len(WS_Grid))):\n",
    "    ci,q=nct.community_louvain(np.squeeze(np.asarray(WS_Grid[i]['adj_matrix'])))\n",
    "    pcoeff=bct.participation_coef(np.squeeze(np.asarray(WS_Grid[i]['adj_matrix'])),ci)\n",
    "    mz=bct.module_degree_zscore(np.squeeze(np.asarray(WS_Grid[i]['adj_matrix'])),ci)\n",
    "    WS_Grid[i]['G']=grid[i]\n",
    "    clustering=nx.clustering(WS_Grid[i]['G'])\n",
    "    WS_Grid[i]['Graph Theory']['PL']=dict(nx.all_pairs_shortest_path_length(WS_Grid[i]['G']))\n",
    "    WS_Grid[i]['Graph Theory']['Modularity']=ci\n",
    "    WS_Grid[i]['Graph Theory']['Modularity Score']=q\n",
    "    WS_Grid[i]['Graph Theory']['PCoeff']=pcoeff\n",
    "    WS_Grid[i]['Graph Theory']['MZ']=mz\n",
    "    WS_Grid[i]['Graph Theory']['Small World']=smallworld_ws['Grid'][0][i]\n",
    "    WS_Grid[i]['Graph Theory']['CCoeff']=clustering\n",
    "    WS_Grid[i]['Graph Theory']['Degree']=nx.degree(WS_Grid[i]['G'])\n",
    "    WS_Grid[i]['Graph Theory']['AvgPL']=nx.average_shortest_path_length(WS_Grid[i]['G'])\n",
    "\n",
    "ci = []\n",
    "pcoeff= []\n",
    "mz= []\n",
    "clustering = []\n",
    "count1=0\n",
    "count2=0\n",
    "count3=0   \n",
    "for i in tqdm(range(len(WS_Random))):\n",
    "    ci,q=nct.community_louvain(np.squeeze(np.asarray(WS_Random[i]['adj_matrix'])))\n",
    "    pcoeff=bct.participation_coef(np.squeeze(np.asarray(WS_Random[i]['adj_matrix'])),ci)\n",
    "    mz=bct.module_degree_zscore(np.squeeze(np.asarray(WS_Random[i]['adj_matrix'])),ci)\n",
    "    WS_Random[i]['G']=random[i]\n",
    "    clustering=nx.clustering(WS_Random[i]['G'])\n",
    "    WS_Random[i]['Graph Theory']['PL']=dict(nx.all_pairs_shortest_path_length(WS_Random[i]['G']))\n",
    "    WS_Random[i]['Graph Theory']['Modularity']=ci\n",
    "    WS_Random[i]['Graph Theory']['Modularity Score']=q\n",
    "    WS_Random[i]['Graph Theory']['PCoeff']=pcoeff\n",
    "    WS_Random[i]['Graph Theory']['MZ']=mz\n",
    "    WS_Random[i]['Graph Theory']['Small World']=smallworld_ws['Random'][0][i]\n",
    "    WS_Random[i]['Graph Theory']['CCoeff']=clustering\n",
    "    WS_Random[i]['Graph Theory']['Degree']=nx.degree(WS_Random[i]['G'])\n",
    "    WS_Random[i]['Graph Theory']['AvgPL']=nx.average_shortest_path_length(WS_Random[i]['G'])    \n",
    "\n",
    "name='WS_Allnetworks_LinearTransformation.pkl'\n",
    "print('Saving WS')\n",
    "with open(name, 'wb') as f:\n",
    "    pickle.dump([WS_Grid,WS_Random], f)   "
   ]
  },
  {
   "cell_type": "code",
   "execution_count": 248,
   "metadata": {},
   "outputs": [
    {
     "name": "stdout",
     "output_type": "stream",
     "text": [
      "0.6845246805652542\n",
      "0.7255613395828878\n",
      "0.7468681171415351\n",
      "0.7571770365915949\n",
      "0.7892507844001515\n",
      "0.7845780416845965\n",
      "0.8034356645410518\n",
      "0.8131583984307248\n",
      "0.8073213176754855\n",
      "0.7950913465755682\n",
      "0.6254715264795581\n",
      "0.7149951718888772\n",
      "0.72556133958294\n",
      "0.7762802766417038\n",
      "0.7571770365915884\n",
      "0.7461231878900189\n",
      "0.824315255225879\n",
      "0.812724150489894\n",
      "0.7863053972221798\n",
      "0.8185311149250077\n",
      "0.6054637523204425\n",
      "0.6568946339601802\n",
      "0.7149951718929696\n",
      "0.7255613395829186\n",
      "0.7762802766417063\n",
      "0.7571770365915859\n",
      "0.7461231878900334\n",
      "0.7892507844001533\n",
      "0.7946915793394408\n",
      "0.803435664541062\n",
      "0.6798640951246585\n",
      "0.6477455123543239\n",
      "0.6860579929155223\n",
      "0.7726359518011595\n",
      "0.7031423433752085\n",
      "0.7468681171415041\n",
      "0.7571770365915883\n",
      "0.7461231878900179\n",
      "0.7845128206299238\n",
      "0.8243152552258285\n",
      "0.6773166759267941\n",
      "0.6200479918823733\n",
      "0.6477455117359228\n",
      "0.7149951718901368\n",
      "0.7508479039362033\n",
      "0.7018715068603341\n",
      "0.7762802766417143\n",
      "0.7571770365915806\n",
      "0.7453659384252899\n",
      "0.7461231878900335\n",
      "0.5670507109225514\n",
      "0.6798640946491773\n",
      "0.6254715264826934\n",
      "0.6845246805898719\n",
      "0.7149951718783392\n",
      "0.7508479039355539\n",
      "0.701871506860337\n",
      "0.7762802766417086\n",
      "0.757177036591594\n",
      "0.7513732608350264\n",
      "None\n",
      "0.6933296395657084\n",
      "0.6200479918973238\n",
      "0.6189922907062875\n",
      "0.6454130601342359\n",
      "0.7113670462095272\n",
      "0.7255613395829102\n",
      "0.7018715068603042\n",
      "0.7468681171414967\n",
      "0.746868117141572\n",
      "None\n",
      "0.6837482221245347\n",
      "0.6189931590268742\n",
      "0.656894633979102\n",
      "0.6568946339765617\n",
      "0.7295711116403928\n",
      "0.7255613395828522\n",
      "0.7018715068603351\n",
      "0.7740976304723075\n",
      "0.5670507109225301\n",
      "0.567050710974015\n",
      "0.6933296393481188\n",
      "0.6201652682432196\n",
      "0.6477455116850376\n",
      "0.6568946339638861\n",
      "0.7149951718890089\n",
      "0.7508479039355364\n",
      "0.725561339582909\n",
      "0.7018715068603271\n",
      "0.5670507109740152\n",
      "0.5670507108962402\n",
      "0.6889057596392629\n",
      "0.6798640956806176\n",
      "0.6576594085564487\n",
      "0.6421432589209036\n",
      "0.6845246806141371\n",
      "0.7149951718786656\n",
      "0.7508479039358034\n",
      "0.7255613395829057\n",
      "None\n",
      "0.714995171885462\n",
      "0.6815446532659284\n",
      "0.6477455119203968\n",
      "0.6933296396160645\n",
      "0.691733475003309\n",
      "None\n",
      "0.567050710948447\n",
      "None\n",
      "None\n",
      "0.7149951718782759\n",
      "0.6971668482913081\n",
      "0.6568946339856174\n",
      "0.6477455113691457\n",
      "0.6861183767694815\n",
      "0.6798640948896071\n",
      "0.6043130124421378\n",
      "0.5670507109484535\n",
      "None\n",
      "0.7113670462088482\n",
      "0.6568946339474244\n",
      "0.714995171874118\n",
      "0.642143259021799\n",
      "0.618992290651713\n",
      "0.6861183767992257\n",
      "0.6054694458742557\n",
      "0.6207631315374016\n",
      "0.5670507109484533\n",
      "None\n",
      "0.7149951718801018\n",
      "0.6454130601341406\n",
      "0.7149951719092879\n",
      "0.6815446532488219\n",
      "0.6254715264850366\n",
      "0.605463752868102\n",
      "0.6206863874778085\n",
      "0.5670507109992222\n",
      "0.5670507109484533\n",
      "None\n",
      "0.7149951718951647\n",
      "0.6568946339671328\n",
      "0.7149951718946866\n",
      "0.6454130601344501\n",
      "0.6254715264707505\n",
      "0.6200479919145053\n",
      "0.6054637518035336\n",
      "0.6773166758339325\n",
      "None\n",
      "0.5670507109225511\n",
      "None\n",
      "0.7149951718766229\n",
      "0.7508479039367627\n",
      "0.6421432594618381\n",
      "0.6404375337672961\n",
      "0.6200479918869773\n",
      "0.6054637528681622\n",
      "None\n",
      "None\n",
      "0.7149951718752686\n",
      "0.6404375337076974\n",
      "0.6189922907681304\n",
      "0.6824077082583625\n",
      "0.6845246805813945\n",
      "0.640437533818325\n",
      "0.6843388442227587\n",
      "0.6773166758542328\n",
      "0.6843388443564236\n",
      "0.7149951718811698\n",
      "0.6860579929462232\n",
      "0.6419880335743923\n",
      "0.6588041233614459\n",
      "0.7614834891870391\n",
      "0.6487612572193276\n",
      "0.6187594979091521\n",
      "0.6487612567316045\n",
      "0.604300014285998\n",
      "0.6843388445179777\n",
      "0.6815446532250088\n",
      "0.682776227738715\n",
      "0.6064800612670223\n",
      "0.6064649576122724\n",
      "0.6971668482917269\n",
      "0.6187594978641906\n",
      "0.6575303808310796\n",
      "0.6206863874634814\n",
      "0.6204964122464811\n",
      "None\n",
      "0.6857872411331724\n",
      "0.6187594977477144\n",
      "0.6249417584048761\n",
      "0.6889057597524677\n",
      "0.6823785089402439\n",
      "0.6813242801373357\n",
      "0.6575303808313133\n",
      "0.6204964122526271\n",
      "0.6857872411860177\n",
      "0.6247576524533675\n",
      "0.6445495406277532\n",
      "0.6207631315644322\n",
      "0.6773166759146366\n",
      "0.7139921558433012\n",
      "None\n",
      "None\n",
      "0.5670507109225306\n",
      "None\n",
      "0.5670507109225307\n",
      "0.5670507109484535\n",
      "None\n",
      "None\n",
      "None\n",
      "0.5670507109225316\n",
      "0.6933296395526719\n",
      "0.6058626367709461\n",
      "0.686118376740762\n",
      "0.5670507110240761\n",
      "0.6200479918783779\n",
      "0.6917334749066981\n",
      "0.6203495568137302\n",
      "0.6207631315849989\n",
      "0.677316676174751\n",
      "0.6043073946901913\n",
      "0.6066357502694323\n",
      "0.6837482223874255\n",
      "0.6837482222001419\n",
      "0.6066357509319109\n",
      "0.6477455119863477\n",
      "0.6798640950041078\n",
      "0.6054641819447428\n",
      "0.6837482220328721\n",
      "0.6889057594442517\n",
      "0.6889057596025243\n",
      "0.6421432591571126\n",
      "0.642143259256526\n",
      "0.6404375338627821\n",
      "0.6404375339588775\n",
      "0.6189922906978316\n",
      "0.6189922907994204\n",
      "0.6254715264934508\n",
      "0.6576594083494386\n",
      "0.6468232738922788\n",
      "0.6404375338266799\n",
      "0.684524680585092\n",
      "0.6845246806162664\n",
      "0.7113670462100861\n",
      "0.6845246806034534\n",
      "0.6568946339722948\n",
      "0.6568946339669829\n",
      "0.7113670462092077\n",
      "0.6815446532339184\n",
      "0.6454130601392738\n",
      "0.684524680559691\n",
      "0.7149951718910902\n",
      "0.7111758929143085\n",
      "0.7149951718654437\n",
      "0.7508479039362203\n",
      "0.7149951718780472\n",
      "0.7508479039351893\n",
      "0.7113670462098439\n",
      "0.711367046209074\n",
      "0.7113670462090802\n",
      "0.7149951718817615\n",
      "0.7255613395828704\n",
      "0.7255613395828795\n",
      "0.746765265435852\n",
      "0.7255613395828674\n",
      "0.7467652654358578\n",
      "0.7255613395828847\n",
      "0.7384444104234734\n",
      "0.7508479039354126\n",
      "0.7508479039356477\n",
      "0.7508479039356475\n",
      "0.7018715068603192\n",
      "0.7018715068603203\n",
      "0.7018715068603218\n",
      "0.701871506860318\n",
      "0.7031423433751572\n",
      "0.7018715068603248\n",
      "0.7018715068603127\n",
      "0.7255613395829081\n",
      "0.701871506860325\n",
      "0.7255613395828489\n",
      "0.7762802766417061\n",
      "0.7762802766417117\n",
      "0.7762802766417098\n",
      "0.7762802766417098\n",
      "0.7018715068603302\n",
      "0.7762802766417108\n",
      "0.776280276641716\n",
      "0.7762802766417098\n",
      "0.7762802766417133\n",
      "0.7740976304723436\n",
      "0.7571770365915879\n",
      "0.7468681171415165\n",
      "0.75717703659159\n",
      "0.7571770365915824\n",
      "0.7571770365915903\n",
      "0.74686811714152\n",
      "0.7468681171414769\n",
      "0.7468681171414694\n",
      "0.7468681171415156\n",
      "0.746868117141525\n"
     ]
    }
   ],
   "source": [
    "for i in range(len(WS_Grid)):\n",
    "    print(np.max(WS_Grid[i]['Accuracy']['Linear Transformation']))"
   ]
  },
  {
   "cell_type": "code",
   "execution_count": null,
   "metadata": {},
   "outputs": [],
   "source": [
    "WS_Grid[0]"
   ]
  }
 ],
 "metadata": {
  "kernelspec": {
   "display_name": "Python 3",
   "language": "python",
   "name": "python3"
  },
  "language_info": {
   "codemirror_mode": {
    "name": "ipython",
    "version": 3
   },
   "file_extension": ".py",
   "mimetype": "text/x-python",
   "name": "python",
   "nbconvert_exporter": "python",
   "pygments_lexer": "ipython3",
   "version": "3.7.3"
  }
 },
 "nbformat": 4,
 "nbformat_minor": 2
}
