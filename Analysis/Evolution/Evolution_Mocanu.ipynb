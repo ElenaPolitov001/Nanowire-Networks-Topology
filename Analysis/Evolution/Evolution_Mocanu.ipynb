{
 "cells": [
  {
   "cell_type": "code",
   "execution_count": 1,
   "metadata": {},
   "outputs": [],
   "source": [
    "#Evolution of Random Networks into best performing networks \n",
    "\n",
    "#This idea is based on Mocanu et al 2018 Nature Comms\n",
    "\n",
    "#Do we see smallworld/sparse/scale-free topology in the best outcomes?\n"
   ]
  },
  {
   "cell_type": "code",
   "execution_count": 2,
   "metadata": {},
   "outputs": [],
   "source": [
    "#Imports:\n",
    "import sys\n",
    "sys.path.append('/import/silo2/aloe8475/Documents/edamame')\n",
    "\n",
    "from scipy.io import loadmat, savemat\n",
    "import numpy as np\n",
    "import matplotlib.pyplot as plt\n",
    "from matplotlib import colors as clrs\n",
    "import datetime\n",
    "import networkx as nx\n",
    "from edamame import *\n",
    "from tqdm import tqdm_notebook\n",
    "import os\n",
    "from random import choice\n",
    "from IPython.core.debugger import set_trace\n",
    "import bct\n",
    "import pandas as pd\n",
    "import pickle \n",
    "import _pickle as cPickle\n",
    "import gzip"
   ]
  },
  {
   "cell_type": "code",
   "execution_count": 3,
   "metadata": {},
   "outputs": [],
   "source": [
    "#Functions\n",
    "def compressed_pickle(obj, filename,protocol=-1):\n",
    "    with gzip.open(filename, 'wb') as f:\n",
    "        cPickle.dump(obj, f, protocol)\n",
    "def decompress_pickle(file):\n",
    "    with gzip.open(file, 'rb') as f:\n",
    "        loaded_object = cPickle.load(f,encoding=\"bytes\") #change this for python 2\n",
    "        return loaded_object\n",
    "    \n",
    "\n",
    "#Threshold by conductance - when tunnelling becomes appreciable (offResistance * 10)\n",
    "def getOnGraph(sims,network,edgeList,numWires):#, this_TimeStamp = 0):\n",
    "#     edgeList = network['edge_list']\n",
    "    adjMat = np.zeros((numWires, numWires))\n",
    "#     set_trace()\n",
    "    adjMat[edgeList[:,0], edgeList[:,1]] = (1/sims.junctionResistance[-1])>1e-06#network.junctionSwitch[this_TimeStamp,:] #CHANGE THIS TO CONDUCTANCE THRESHOLD?\n",
    "    adjMat[edgeList[:,1], edgeList[:,0]] = (1/sims.junctionResistance[-1])>1e-06#network.junctionSwitch[this_TimeStamp,:] #CHANGE THIS TO CONDUCTANCE THRESHOLD?\n",
    "    onGraph = nx.from_numpy_array(adjMat)\n",
    "    onGraph=nx.DiGraph.to_undirected(onGraph)\n",
    "    \n",
    "    return onGraph\n",
    "\n",
    "def getWeightedGraph(sims,network,edgeList,numWires):#, this_TimeStamp = 0):\n",
    "#     edgeList = network['edge_list']\n",
    "    adjMat = np.zeros((numWires, numWires))\n",
    "#     set_trace()\n",
    "    adjMat[edgeList[:,0], edgeList[:,1]] = sims.junctionConductance[-1]#network.junctionSwitch[this_TimeStamp,:] #CHANGE THIS TO CONDUCTANCE THRESHOLD?\n",
    "    adjMat[edgeList[:,1], edgeList[:,0]] = sims.junctionConductance[-1]#network.junctionSwitch[this_TimeStamp,:] #CHANGE THIS TO CONDUCTANCE THRESHOLD?\n",
    "    WeightedGraph = nx.from_numpy_array(adjMat)\n",
    "    WeightedGraph=nx.DiGraph.to_undirected(WeightedGraph)\n",
    "    \n",
    "    return WeightedGraph\n",
    "\n",
    "def connected_component_subgraphs(G):\n",
    "    for c in nx.connected_components(G):\n",
    "        yield G.subgraph(c)"
   ]
  },
  {
   "cell_type": "code",
   "execution_count": 4,
   "metadata": {},
   "outputs": [],
   "source": [
    "#Start with random network:\n",
    "def generateInitNetwork(p):\n",
    "    init_network=nx.erdos_renyi_graph(300,p)\n",
    "    return init_network"
   ]
  },
  {
   "cell_type": "code",
   "execution_count": 89,
   "metadata": {},
   "outputs": [],
   "source": [
    "#Run Task:\n",
    "\n",
    "def runNLT(adjMat,onAmp,i):\n",
    "\n",
    "    nwSqu=[]\n",
    "    results_minMax=[]\n",
    "    stimulus=[]\n",
    "    dt = 1e-3\n",
    "    f=0.5\n",
    "    Time=5\n",
    "    connectivity=connectivity__(adjMat=adjMat)\n",
    "    #Choose Electrode Pattern\n",
    "    \n",
    "    stimulus.append((stimulus__(biasType='AC',onAmp=onAmp,TimeVector=np.arange(0,Time,dt),f=f)))\n",
    "    stimulus.append((stimulus__(biasType='Drain',TimeVector=np.arange(0,Time,dt)))) #we don't want this drain to be active during training\n",
    "    \n",
    "    results_minMax=runSim(connectivity,stimulus=stimulus, contactMode='farthest',T = Time, dt = dt, onAmp = onAmp, biasType='AC',f=f,junctionMode='tunneling',findFirst=False)\n",
    "\n",
    "    #     results={'JunctionConductance':results_minMax.junctionConductance[-1],'JunctionVoltage':results_minMax.junctionVoltage[-1],'Switch':results_minMax.junctionSwitch[-1],'Source':results_minMax.sources[0:2],'Drain':results_minMax.drains[0:2],'Signal':results_minMax.stimulus}\n",
    "    #     compressed_pickle(results,dataLoc+'_NLT_Simulation_'+'_9modules_10sets_Network_'+str(j+1)+'_'+str(k+1)+'_'+ampName+'v.pkl')\n",
    "    nodesList=[np.size(adjMat[:,0])]\n",
    "    \n",
    "#     nodesList=[len(Graph)]#only want all nodes\n",
    "\n",
    "    nwSqu =[None]*len(nodesList)\n",
    "\n",
    "    countK=0\n",
    "    for k in nodesList: #loop through sets of nodes for regression\n",
    "        print('Running Regression: ' + str(k) + ' nodes')\n",
    "        ResultSqu=[]\n",
    "        ResultSqu = nonLinearTrans(results_minMax,'Square',k, repeats=50) #simulation, type of signal, number of nodes to sample from, number of linear regression repetitions (take avg)\n",
    "        nwSqu[countK]=ResultSqu['accuracy']\n",
    "        countK=countK+1\n",
    "        \n",
    "    return results_minMax,nwSqu\n",
    "\n"
   ]
  },
  {
   "cell_type": "code",
   "execution_count": 90,
   "metadata": {},
   "outputs": [],
   "source": [
    "# Calculate Functional Subgraph\n",
    "def functionalSubgraph(simulations,adjMat):\n",
    "    print('Calculating Subgraph')\n",
    "    current=[]\n",
    "    weightedSubGraph=[]\n",
    "    subGraph=[]\n",
    "    subgraph_idx=[]\n",
    "    subGraphNew=[]\n",
    "    currMat=[]\n",
    "\n",
    "    sim=simulations\n",
    "    network=adjMat\n",
    "    OGgraph=nx.from_numpy_array(adjMat)\n",
    "\n",
    "    sources=sim.sources\n",
    "    drains=sim.drains\n",
    "    pos=nx.kamada_kawai_layout(OGgraph)\n",
    "    \n",
    "    numWires= np.size(network[:,0])\n",
    "    edgeList = np.array(np.where(np.triu(network) == 1)).T\n",
    "#     edgeList=np.array(list(OGgraph.edges()))\n",
    "#     numWires=OGgraph.number_of_nodes()\n",
    "#     subGraph=getOnGraph(sim,network,edgeList,numWires)\n",
    "    weightedSubGraph=(getWeightedGraph(sim,network,edgeList,numWires))\n",
    "#     components = [j for j in nx.connected_components(subGraph)] #all connected nodes in subgraph\n",
    "\n",
    "#     currMat = np.zeros((numWires, numWires))\n",
    "#     currMat[edgeList[:,0], edgeList[:,1]] = sim.junctionVoltage[-1]/sim.junctionConductance[-1] #-1,:\n",
    "#     current=(nx.from_numpy_matrix(currMat)) #save current\n",
    "\n",
    "#     currMat = currMat + currMat.T\n",
    "#     currGraph = nx.from_numpy_array(currMat)\n",
    "    #         subGraph = getOnGraph(sim,network)#this_TimeStamp=i)\n",
    "\n",
    "#     components = [j for j in nx.connected_components(subGraph)] #all connected nodes in subgraph\n",
    "\n",
    "#     max_ind = np.argmax([len(j) for j in nx.connected_components(subGraph)]) #find max connected component\n",
    "#     currGraph = nx.subgraph(currGraph, components[max_ind]) #current + conductance\n",
    "#     subGraphNew = nx.subgraph(subGraph, components[max_ind]) #just conductance\n",
    "#     subgraph_idx=([node for node in currGraph.nodes()])\n",
    "#     subgraph=(subGraphNew) #save largest subgraph for each simulation\n",
    "\n",
    "#     subgraph_nodes=[node for node in currGraph.nodes()]\n",
    "    return weightedSubGraph,sources,drains"
   ]
  },
  {
   "cell_type": "code",
   "execution_count": 91,
   "metadata": {},
   "outputs": [],
   "source": [
    "#Find edge weights + remove those below a certain threshold\n",
    "def thresholdWeights(weightedSubGraph):\n",
    "    print('Removing Edges below Weight Threshold')\n",
    "    G=weightedSubGraph\n",
    "    edge_weights=nx.get_edge_attributes(G,'weight')\n",
    "    edges_to_be_removed=[e for e, w in edge_weights.items() if w <1e-6]\n",
    "    adjMat=np.array(nx.adjacency_matrix(weightedSubGraph).todense())\n",
    "    for e in edges_to_be_removed:\n",
    "        adjMat[e[0],e[1]]=0\n",
    "        adjMat[e[1],e[0]]=0\n",
    "        \n",
    "    return adjMat,edges_to_be_removed"
   ]
  },
  {
   "cell_type": "code",
   "execution_count": 92,
   "metadata": {},
   "outputs": [],
   "source": [
    "# pos=nx.kamada_kawai_layout(OG)\n",
    "# h=nx.draw_networkx_nodes(OG,pos=pos,node_color='grey',node_size=10)\n",
    "# h2=nx.draw_networkx_edges(G,pos=pos,edge_color='r',alpha=0.4)"
   ]
  },
  {
   "cell_type": "code",
   "execution_count": 93,
   "metadata": {},
   "outputs": [],
   "source": [
    "# Re-Add connections randomly\n",
    "\n",
    "#If there is no edge already existing, add edge and continue with i\n",
    "#otherwise loop through until no edge exists\n",
    "\n",
    "def newRandomEdges(OGAdjMat,adjMat,i):   \n",
    "    print('Adding New Edges')\n",
    "    fin = False\n",
    "    while not fin:\n",
    "        u = np.random.choice(range(300))\n",
    "        v = np.random.choice(range(300))\n",
    "        if adjMat[u,v]==0 and adjMat[v,u]==0: #if the edge doesn't exit, make a bidirectional edge\n",
    "            adjMat[u,v]=1\n",
    "            adjMat[v,u]=1\n",
    "        if int(np.sum(adjMat)/2)==int(np.sum(OGAdjMat)/2): #break out of loop if we have same number of edges as initial graph\n",
    "            G2=nx.from_numpy_array(adjMat)\n",
    "            G2.remove_edges_from(list(nx.selfloop_edges(G2))) #remove self loops\n",
    "            Gnew=max(connected_component_subgraphs(G2), key=len) #take largest connected component\n",
    "            adjMat=np.array(nx.adjacency_matrix(Gnew).todense())\n",
    "            if int(np.sum(adjMat)/2)==int(np.sum(OGAdjMat)/2): #break out of loop if we have same number of edges as initial graph\n",
    "                fin=True\n",
    "#     while not fin:\n",
    "#         u = np.random.choice(range(300))\n",
    "#         v = np.random.choice(range(300))\n",
    "#         if not G.has_edge(u,v):\n",
    "#             G2.add_edge(u, v)\n",
    "#             G2.add_edge(v, u)\n",
    "# #             components = [j for j in nx.connected_components(G2)]\n",
    "# #             max_ind=np.argmax([len(j) for j in nx.connected_components(G2)])\n",
    "# #             newG2=nx.subgraph(G2, components[max_ind])\n",
    "# #             print(newG2.number_of_edges()/Graph.number_of_edges()*100)\n",
    "#         else:\n",
    "#             continue\n",
    "#         if G2.number_of_edges()==Graph.number_of_edges(): #if we added same number of edges\n",
    "#             G2=Gnew.copy()\n",
    "            \n",
    "    print('New Graph Number of Edges =  ' + str(int(np.sum(adjMat)/2)))\n",
    "    print('Old Graph Number of Edges =  ' + str(int(np.sum(OGAdjMat)/2)))\n",
    "\n",
    "    return adjMat"
   ]
  },
  {
   "cell_type": "code",
   "execution_count": 94,
   "metadata": {
    "scrolled": true
   },
   "outputs": [
    {
     "data": {
      "application/vnd.jupyter.widget-view+json": {
       "model_id": "d4df1e7b71ca442d9d12eb62be767a60",
       "version_major": 2,
       "version_minor": 0
      },
      "text/plain": [
       "HBox(children=(IntProgress(value=0), HTML(value='')))"
      ]
     },
     "metadata": {},
     "output_type": "display_data"
    },
    {
     "data": {
      "application/vnd.jupyter.widget-view+json": {
       "model_id": "e6d03d9d0ad4445bb8ae3969e3e92e53",
       "version_major": 2,
       "version_minor": 0
      },
      "text/plain": [
       "HBox(children=(IntProgress(value=0, description='Running Simulation ', max=5000, style=ProgressStyle(descripti…"
      ]
     },
     "metadata": {},
     "output_type": "display_data"
    },
    {
     "name": "stdout",
     "output_type": "stream",
     "text": [
      "Running Regression: 300 nodes\n",
      "Calculating Subgraph\n",
      "Removing Edges below Weight Threshold\n",
      "Adding New Edges\n",
      "New Graph Number of Edges =  11195\n",
      "Old Graph Number of Edges =  11195\n",
      "[0.7742043519979412]\n"
     ]
    },
    {
     "data": {
      "application/vnd.jupyter.widget-view+json": {
       "model_id": "e69150f15697425e9e61fb1c15f2ed82",
       "version_major": 2,
       "version_minor": 0
      },
      "text/plain": [
       "HBox(children=(IntProgress(value=0, description='Running Simulation ', max=5000, style=ProgressStyle(descripti…"
      ]
     },
     "metadata": {},
     "output_type": "display_data"
    },
    {
     "name": "stdout",
     "output_type": "stream",
     "text": [
      "Running Regression: 300 nodes\n",
      "Calculating Subgraph\n",
      "Removing Edges below Weight Threshold\n",
      "Adding New Edges\n",
      "New Graph Number of Edges =  11195\n",
      "Old Graph Number of Edges =  11195\n",
      "[0.7253234277912972]\n"
     ]
    },
    {
     "data": {
      "application/vnd.jupyter.widget-view+json": {
       "model_id": "cbc34536f3a745509b191c67d20640a4",
       "version_major": 2,
       "version_minor": 0
      },
      "text/plain": [
       "HBox(children=(IntProgress(value=0, description='Running Simulation ', max=5000, style=ProgressStyle(descripti…"
      ]
     },
     "metadata": {},
     "output_type": "display_data"
    },
    {
     "name": "stdout",
     "output_type": "stream",
     "text": [
      "Running Regression: 300 nodes\n",
      "Calculating Subgraph\n",
      "Removing Edges below Weight Threshold\n",
      "Adding New Edges\n",
      "New Graph Number of Edges =  11195\n",
      "Old Graph Number of Edges =  11195\n",
      "[0.701848711991453]\n"
     ]
    },
    {
     "data": {
      "application/vnd.jupyter.widget-view+json": {
       "model_id": "ea5a86f6fd6d4f4aaaa0c2176cd32331",
       "version_major": 2,
       "version_minor": 0
      },
      "text/plain": [
       "HBox(children=(IntProgress(value=0, description='Running Simulation ', max=5000, style=ProgressStyle(descripti…"
      ]
     },
     "metadata": {},
     "output_type": "display_data"
    },
    {
     "name": "stdout",
     "output_type": "stream",
     "text": [
      "Running Regression: 300 nodes\n",
      "Calculating Subgraph\n",
      "Removing Edges below Weight Threshold\n",
      "Adding New Edges\n",
      "New Graph Number of Edges =  11195\n",
      "Old Graph Number of Edges =  11195\n",
      "[0.6680531933927111]\n"
     ]
    },
    {
     "data": {
      "application/vnd.jupyter.widget-view+json": {
       "model_id": "c0ead7a9f9ac402c84e4ef6a53697844",
       "version_major": 2,
       "version_minor": 0
      },
      "text/plain": [
       "HBox(children=(IntProgress(value=0, description='Running Simulation ', max=5000, style=ProgressStyle(descripti…"
      ]
     },
     "metadata": {},
     "output_type": "display_data"
    },
    {
     "name": "stdout",
     "output_type": "stream",
     "text": [
      "Running Regression: 300 nodes\n",
      "Calculating Subgraph\n",
      "Removing Edges below Weight Threshold\n",
      "Adding New Edges\n",
      "New Graph Number of Edges =  11195\n",
      "Old Graph Number of Edges =  11195\n",
      "[0.7244436838757372]\n"
     ]
    },
    {
     "data": {
      "application/vnd.jupyter.widget-view+json": {
       "model_id": "b610d00cdc7641c780bcc7b354deff20",
       "version_major": 2,
       "version_minor": 0
      },
      "text/plain": [
       "HBox(children=(IntProgress(value=0, description='Running Simulation ', max=5000, style=ProgressStyle(descripti…"
      ]
     },
     "metadata": {},
     "output_type": "display_data"
    },
    {
     "name": "stdout",
     "output_type": "stream",
     "text": [
      "Running Regression: 300 nodes\n",
      "Calculating Subgraph\n",
      "Removing Edges below Weight Threshold\n",
      "Adding New Edges\n",
      "New Graph Number of Edges =  11195\n",
      "Old Graph Number of Edges =  11195\n",
      "[0.7262560391779985]\n"
     ]
    },
    {
     "data": {
      "application/vnd.jupyter.widget-view+json": {
       "model_id": "851bd9f32b464edca60c4cc20621344a",
       "version_major": 2,
       "version_minor": 0
      },
      "text/plain": [
       "HBox(children=(IntProgress(value=0, description='Running Simulation ', max=5000, style=ProgressStyle(descripti…"
      ]
     },
     "metadata": {},
     "output_type": "display_data"
    },
    {
     "name": "stdout",
     "output_type": "stream",
     "text": [
      "Running Regression: 300 nodes\n",
      "Calculating Subgraph\n",
      "Removing Edges below Weight Threshold\n",
      "Adding New Edges\n",
      "New Graph Number of Edges =  11195\n",
      "Old Graph Number of Edges =  11195\n",
      "[0.671088337863361]\n"
     ]
    },
    {
     "data": {
      "application/vnd.jupyter.widget-view+json": {
       "model_id": "874eb96d6b4f4b268648c3f7520586c1",
       "version_major": 2,
       "version_minor": 0
      },
      "text/plain": [
       "HBox(children=(IntProgress(value=0, description='Running Simulation ', max=5000, style=ProgressStyle(descripti…"
      ]
     },
     "metadata": {},
     "output_type": "display_data"
    },
    {
     "name": "stdout",
     "output_type": "stream",
     "text": [
      "Running Regression: 300 nodes\n",
      "Calculating Subgraph\n",
      "Removing Edges below Weight Threshold\n",
      "Adding New Edges\n",
      "New Graph Number of Edges =  11195\n",
      "Old Graph Number of Edges =  11195\n",
      "[0.678562514527554]\n"
     ]
    },
    {
     "data": {
      "application/vnd.jupyter.widget-view+json": {
       "model_id": "dc5d429c657241548601e03bbd01caa6",
       "version_major": 2,
       "version_minor": 0
      },
      "text/plain": [
       "HBox(children=(IntProgress(value=0, description='Running Simulation ', max=5000, style=ProgressStyle(descripti…"
      ]
     },
     "metadata": {},
     "output_type": "display_data"
    },
    {
     "name": "stdout",
     "output_type": "stream",
     "text": [
      "Running Regression: 300 nodes\n",
      "Calculating Subgraph\n",
      "Removing Edges below Weight Threshold\n",
      "Adding New Edges\n",
      "New Graph Number of Edges =  11195\n",
      "Old Graph Number of Edges =  11195\n",
      "[0.6744123474419444]\n"
     ]
    },
    {
     "data": {
      "application/vnd.jupyter.widget-view+json": {
       "model_id": "a9c7c9e952d543f898d00a054f8ba706",
       "version_major": 2,
       "version_minor": 0
      },
      "text/plain": [
       "HBox(children=(IntProgress(value=0, description='Running Simulation ', max=5000, style=ProgressStyle(descripti…"
      ]
     },
     "metadata": {},
     "output_type": "display_data"
    },
    {
     "name": "stdout",
     "output_type": "stream",
     "text": [
      "Running Regression: 300 nodes\n",
      "Calculating Subgraph\n",
      "Removing Edges below Weight Threshold\n",
      "Adding New Edges\n",
      "New Graph Number of Edges =  11195\n",
      "Old Graph Number of Edges =  11195\n",
      "[0.6790770253937598]\n"
     ]
    },
    {
     "data": {
      "application/vnd.jupyter.widget-view+json": {
       "model_id": "4d107f9409c44bcd8278f1518bfe3fab",
       "version_major": 2,
       "version_minor": 0
      },
      "text/plain": [
       "HBox(children=(IntProgress(value=0, description='Running Simulation ', max=5000, style=ProgressStyle(descripti…"
      ]
     },
     "metadata": {},
     "output_type": "display_data"
    },
    {
     "name": "stdout",
     "output_type": "stream",
     "text": [
      "Running Regression: 300 nodes\n",
      "Calculating Subgraph\n",
      "Removing Edges below Weight Threshold\n",
      "Adding New Edges\n",
      "New Graph Number of Edges =  11195\n",
      "Old Graph Number of Edges =  11195\n",
      "[0.7749355192553696]\n"
     ]
    },
    {
     "data": {
      "application/vnd.jupyter.widget-view+json": {
       "model_id": "6c6c49d34f4d4e7aad6d20e9e2b9bce6",
       "version_major": 2,
       "version_minor": 0
      },
      "text/plain": [
       "HBox(children=(IntProgress(value=0, description='Running Simulation ', max=5000, style=ProgressStyle(descripti…"
      ]
     },
     "metadata": {},
     "output_type": "display_data"
    },
    {
     "name": "stdout",
     "output_type": "stream",
     "text": [
      "Running Regression: 300 nodes\n",
      "Calculating Subgraph\n",
      "Removing Edges below Weight Threshold\n",
      "Adding New Edges\n",
      "New Graph Number of Edges =  11195\n",
      "Old Graph Number of Edges =  11195\n",
      "[0.7422871119026627]\n"
     ]
    },
    {
     "data": {
      "application/vnd.jupyter.widget-view+json": {
       "model_id": "d60b5046d09c419b9416016537bd81eb",
       "version_major": 2,
       "version_minor": 0
      },
      "text/plain": [
       "HBox(children=(IntProgress(value=0, description='Running Simulation ', max=5000, style=ProgressStyle(descripti…"
      ]
     },
     "metadata": {},
     "output_type": "display_data"
    },
    {
     "name": "stdout",
     "output_type": "stream",
     "text": [
      "Running Regression: 300 nodes\n",
      "Calculating Subgraph\n",
      "Removing Edges below Weight Threshold\n",
      "Adding New Edges\n",
      "New Graph Number of Edges =  11195\n",
      "Old Graph Number of Edges =  11195\n",
      "[0.6871875179782256]\n"
     ]
    },
    {
     "data": {
      "application/vnd.jupyter.widget-view+json": {
       "model_id": "4204571e68c841ea986c4835b114cded",
       "version_major": 2,
       "version_minor": 0
      },
      "text/plain": [
       "HBox(children=(IntProgress(value=0, description='Running Simulation ', max=5000, style=ProgressStyle(descripti…"
      ]
     },
     "metadata": {},
     "output_type": "display_data"
    },
    {
     "name": "stdout",
     "output_type": "stream",
     "text": [
      "Running Regression: 300 nodes\n",
      "Calculating Subgraph\n",
      "Removing Edges below Weight Threshold\n",
      "Adding New Edges\n",
      "New Graph Number of Edges =  11195\n",
      "Old Graph Number of Edges =  11195\n",
      "[0.7842921071878173]\n"
     ]
    },
    {
     "data": {
      "application/vnd.jupyter.widget-view+json": {
       "model_id": "d1f3773714d4474ca4487e6b858fa18d",
       "version_major": 2,
       "version_minor": 0
      },
      "text/plain": [
       "HBox(children=(IntProgress(value=0, description='Running Simulation ', max=5000, style=ProgressStyle(descripti…"
      ]
     },
     "metadata": {},
     "output_type": "display_data"
    },
    {
     "name": "stdout",
     "output_type": "stream",
     "text": [
      "Running Regression: 300 nodes\n",
      "Calculating Subgraph\n",
      "Removing Edges below Weight Threshold\n",
      "Adding New Edges\n",
      "New Graph Number of Edges =  11195\n",
      "Old Graph Number of Edges =  11195\n",
      "[0.7219336807197624]\n"
     ]
    },
    {
     "data": {
      "application/vnd.jupyter.widget-view+json": {
       "model_id": "f8d3522474894a46b376dec7ede6196c",
       "version_major": 2,
       "version_minor": 0
      },
      "text/plain": [
       "HBox(children=(IntProgress(value=0, description='Running Simulation ', max=5000, style=ProgressStyle(descripti…"
      ]
     },
     "metadata": {},
     "output_type": "display_data"
    },
    {
     "name": "stdout",
     "output_type": "stream",
     "text": [
      "Running Regression: 300 nodes\n",
      "Calculating Subgraph\n",
      "Removing Edges below Weight Threshold\n",
      "Adding New Edges\n",
      "New Graph Number of Edges =  11195\n",
      "Old Graph Number of Edges =  11195\n",
      "[0.7802854938508151]\n"
     ]
    },
    {
     "data": {
      "application/vnd.jupyter.widget-view+json": {
       "model_id": "98e570e4ac26418da3dcc3932e472ae2",
       "version_major": 2,
       "version_minor": 0
      },
      "text/plain": [
       "HBox(children=(IntProgress(value=0, description='Running Simulation ', max=5000, style=ProgressStyle(descripti…"
      ]
     },
     "metadata": {},
     "output_type": "display_data"
    },
    {
     "name": "stdout",
     "output_type": "stream",
     "text": [
      "Running Regression: 300 nodes\n",
      "Calculating Subgraph\n",
      "Removing Edges below Weight Threshold\n",
      "Adding New Edges\n",
      "New Graph Number of Edges =  11195\n",
      "Old Graph Number of Edges =  11195\n",
      "[0.6773840286821347]\n"
     ]
    },
    {
     "data": {
      "application/vnd.jupyter.widget-view+json": {
       "model_id": "d5e2584aa4a9465e9fd7595fae828689",
       "version_major": 2,
       "version_minor": 0
      },
      "text/plain": [
       "HBox(children=(IntProgress(value=0, description='Running Simulation ', max=5000, style=ProgressStyle(descripti…"
      ]
     },
     "metadata": {},
     "output_type": "display_data"
    },
    {
     "name": "stdout",
     "output_type": "stream",
     "text": [
      "Running Regression: 300 nodes\n",
      "Calculating Subgraph\n",
      "Removing Edges below Weight Threshold\n",
      "Adding New Edges\n",
      "New Graph Number of Edges =  11195\n",
      "Old Graph Number of Edges =  11195\n",
      "[0.6903637547746792]\n"
     ]
    },
    {
     "data": {
      "application/vnd.jupyter.widget-view+json": {
       "model_id": "34a2236ab6634f6580db6bf26dbdc8ff",
       "version_major": 2,
       "version_minor": 0
      },
      "text/plain": [
       "HBox(children=(IntProgress(value=0, description='Running Simulation ', max=5000, style=ProgressStyle(descripti…"
      ]
     },
     "metadata": {},
     "output_type": "display_data"
    },
    {
     "name": "stdout",
     "output_type": "stream",
     "text": [
      "Running Regression: 300 nodes\n",
      "Calculating Subgraph\n",
      "Removing Edges below Weight Threshold\n",
      "Adding New Edges\n",
      "New Graph Number of Edges =  11195\n",
      "Old Graph Number of Edges =  11195\n",
      "[0.6704005230010686]\n"
     ]
    },
    {
     "data": {
      "application/vnd.jupyter.widget-view+json": {
       "model_id": "14cfb0d2e9fa48019ace9b65d91a32c9",
       "version_major": 2,
       "version_minor": 0
      },
      "text/plain": [
       "HBox(children=(IntProgress(value=0, description='Running Simulation ', max=5000, style=ProgressStyle(descripti…"
      ]
     },
     "metadata": {},
     "output_type": "display_data"
    },
    {
     "name": "stdout",
     "output_type": "stream",
     "text": [
      "Running Regression: 300 nodes\n",
      "Calculating Subgraph\n",
      "Removing Edges below Weight Threshold\n",
      "Adding New Edges\n",
      "New Graph Number of Edges =  11195\n",
      "Old Graph Number of Edges =  11195\n",
      "[0.6696593555038439]\n"
     ]
    },
    {
     "data": {
      "application/vnd.jupyter.widget-view+json": {
       "model_id": "fd3fcd7dc3ea4357ad5aacac292be07a",
       "version_major": 2,
       "version_minor": 0
      },
      "text/plain": [
       "HBox(children=(IntProgress(value=0, description='Running Simulation ', max=5000, style=ProgressStyle(descripti…"
      ]
     },
     "metadata": {},
     "output_type": "display_data"
    },
    {
     "name": "stdout",
     "output_type": "stream",
     "text": [
      "Running Regression: 300 nodes\n",
      "Calculating Subgraph\n",
      "Removing Edges below Weight Threshold\n",
      "Adding New Edges\n",
      "New Graph Number of Edges =  11195\n",
      "Old Graph Number of Edges =  11195\n",
      "[0.6882683018655047]\n"
     ]
    },
    {
     "data": {
      "application/vnd.jupyter.widget-view+json": {
       "model_id": "ae136467206a4c7d8cdebf692ed181b1",
       "version_major": 2,
       "version_minor": 0
      },
      "text/plain": [
       "HBox(children=(IntProgress(value=0, description='Running Simulation ', max=5000, style=ProgressStyle(descripti…"
      ]
     },
     "metadata": {},
     "output_type": "display_data"
    },
    {
     "name": "stdout",
     "output_type": "stream",
     "text": [
      "Running Regression: 300 nodes\n",
      "Calculating Subgraph\n",
      "Removing Edges below Weight Threshold\n",
      "Adding New Edges\n",
      "New Graph Number of Edges =  11195\n",
      "Old Graph Number of Edges =  11195\n",
      "[0.7177243043944992]\n"
     ]
    },
    {
     "data": {
      "application/vnd.jupyter.widget-view+json": {
       "model_id": "7f7772c9fb944e6792d96e8b9ef6cd58",
       "version_major": 2,
       "version_minor": 0
      },
      "text/plain": [
       "HBox(children=(IntProgress(value=0, description='Running Simulation ', max=5000, style=ProgressStyle(descripti…"
      ]
     },
     "metadata": {},
     "output_type": "display_data"
    },
    {
     "name": "stdout",
     "output_type": "stream",
     "text": [
      "Running Regression: 300 nodes\n",
      "Calculating Subgraph\n",
      "Removing Edges below Weight Threshold\n",
      "Adding New Edges\n",
      "New Graph Number of Edges =  11195\n",
      "Old Graph Number of Edges =  11195\n",
      "[0.7748644268401612]\n"
     ]
    },
    {
     "data": {
      "application/vnd.jupyter.widget-view+json": {
       "model_id": "2e30cdfde8434390a7cdad13a67c96d9",
       "version_major": 2,
       "version_minor": 0
      },
      "text/plain": [
       "HBox(children=(IntProgress(value=0, description='Running Simulation ', max=5000, style=ProgressStyle(descripti…"
      ]
     },
     "metadata": {},
     "output_type": "display_data"
    },
    {
     "name": "stdout",
     "output_type": "stream",
     "text": [
      "Running Regression: 300 nodes\n",
      "Calculating Subgraph\n",
      "Removing Edges below Weight Threshold\n",
      "Adding New Edges\n",
      "New Graph Number of Edges =  11195\n",
      "Old Graph Number of Edges =  11195\n",
      "[0.7260629064653695]\n"
     ]
    },
    {
     "data": {
      "application/vnd.jupyter.widget-view+json": {
       "model_id": "8db49530e1424c71b1fe6b0010a005e5",
       "version_major": 2,
       "version_minor": 0
      },
      "text/plain": [
       "HBox(children=(IntProgress(value=0, description='Running Simulation ', max=5000, style=ProgressStyle(descripti…"
      ]
     },
     "metadata": {},
     "output_type": "display_data"
    },
    {
     "name": "stdout",
     "output_type": "stream",
     "text": [
      "Running Regression: 300 nodes\n",
      "Calculating Subgraph\n",
      "Removing Edges below Weight Threshold\n",
      "Adding New Edges\n",
      "New Graph Number of Edges =  11195\n",
      "Old Graph Number of Edges =  11195\n",
      "[0.7518554953444092]\n"
     ]
    },
    {
     "data": {
      "application/vnd.jupyter.widget-view+json": {
       "model_id": "2be9631c80e643b49075d68e435ce492",
       "version_major": 2,
       "version_minor": 0
      },
      "text/plain": [
       "HBox(children=(IntProgress(value=0, description='Running Simulation ', max=5000, style=ProgressStyle(descripti…"
      ]
     },
     "metadata": {},
     "output_type": "display_data"
    },
    {
     "name": "stdout",
     "output_type": "stream",
     "text": [
      "Running Regression: 300 nodes\n",
      "Calculating Subgraph\n",
      "Removing Edges below Weight Threshold\n",
      "Adding New Edges\n",
      "New Graph Number of Edges =  11195\n",
      "Old Graph Number of Edges =  11195\n",
      "[0.7472962809818965]\n"
     ]
    },
    {
     "data": {
      "application/vnd.jupyter.widget-view+json": {
       "model_id": "5353401dd937403f8a33ff48ba035ccd",
       "version_major": 2,
       "version_minor": 0
      },
      "text/plain": [
       "HBox(children=(IntProgress(value=0, description='Running Simulation ', max=5000, style=ProgressStyle(descripti…"
      ]
     },
     "metadata": {},
     "output_type": "display_data"
    },
    {
     "name": "stdout",
     "output_type": "stream",
     "text": [
      "Running Regression: 300 nodes\n",
      "Calculating Subgraph\n",
      "Removing Edges below Weight Threshold\n",
      "Adding New Edges\n",
      "New Graph Number of Edges =  11195\n",
      "Old Graph Number of Edges =  11195\n",
      "[0.778624035094799]\n"
     ]
    },
    {
     "data": {
      "application/vnd.jupyter.widget-view+json": {
       "model_id": "c36ba4585b2340b5b08dbe931637d929",
       "version_major": 2,
       "version_minor": 0
      },
      "text/plain": [
       "HBox(children=(IntProgress(value=0, description='Running Simulation ', max=5000, style=ProgressStyle(descripti…"
      ]
     },
     "metadata": {},
     "output_type": "display_data"
    },
    {
     "name": "stdout",
     "output_type": "stream",
     "text": [
      "Running Regression: 300 nodes\n",
      "Calculating Subgraph\n",
      "Removing Edges below Weight Threshold\n",
      "Adding New Edges\n",
      "New Graph Number of Edges =  11195\n",
      "Old Graph Number of Edges =  11195\n",
      "[0.7649084808667233]\n"
     ]
    },
    {
     "data": {
      "application/vnd.jupyter.widget-view+json": {
       "model_id": "9226533ee57747aca23538218ceec2a1",
       "version_major": 2,
       "version_minor": 0
      },
      "text/plain": [
       "HBox(children=(IntProgress(value=0, description='Running Simulation ', max=5000, style=ProgressStyle(descripti…"
      ]
     },
     "metadata": {},
     "output_type": "display_data"
    },
    {
     "name": "stdout",
     "output_type": "stream",
     "text": [
      "Running Regression: 300 nodes\n",
      "Calculating Subgraph\n",
      "Removing Edges below Weight Threshold\n",
      "Adding New Edges\n",
      "New Graph Number of Edges =  11195\n",
      "Old Graph Number of Edges =  11195\n",
      "[0.7784109820458782]\n"
     ]
    },
    {
     "data": {
      "application/vnd.jupyter.widget-view+json": {
       "model_id": "1aa1c6a5989a466487cc00cc8a6997d1",
       "version_major": 2,
       "version_minor": 0
      },
      "text/plain": [
       "HBox(children=(IntProgress(value=0, description='Running Simulation ', max=5000, style=ProgressStyle(descripti…"
      ]
     },
     "metadata": {},
     "output_type": "display_data"
    },
    {
     "name": "stdout",
     "output_type": "stream",
     "text": [
      "Running Regression: 300 nodes\n",
      "Calculating Subgraph\n",
      "Removing Edges below Weight Threshold\n",
      "Adding New Edges\n",
      "New Graph Number of Edges =  11195\n",
      "Old Graph Number of Edges =  11195\n",
      "[0.6803548722181637]\n"
     ]
    },
    {
     "data": {
      "application/vnd.jupyter.widget-view+json": {
       "model_id": "21a6ba7a61934fbeb7e688b9f9c86d49",
       "version_major": 2,
       "version_minor": 0
      },
      "text/plain": [
       "HBox(children=(IntProgress(value=0, description='Running Simulation ', max=5000, style=ProgressStyle(descripti…"
      ]
     },
     "metadata": {},
     "output_type": "display_data"
    },
    {
     "name": "stdout",
     "output_type": "stream",
     "text": [
      "Running Regression: 300 nodes\n",
      "Calculating Subgraph\n",
      "Removing Edges below Weight Threshold\n",
      "Adding New Edges\n",
      "New Graph Number of Edges =  11195\n",
      "Old Graph Number of Edges =  11195\n",
      "[0.6835008477845309]\n"
     ]
    },
    {
     "data": {
      "application/vnd.jupyter.widget-view+json": {
       "model_id": "a392a274cb86415bb65926829c22376b",
       "version_major": 2,
       "version_minor": 0
      },
      "text/plain": [
       "HBox(children=(IntProgress(value=0, description='Running Simulation ', max=5000, style=ProgressStyle(descripti…"
      ]
     },
     "metadata": {},
     "output_type": "display_data"
    },
    {
     "name": "stdout",
     "output_type": "stream",
     "text": [
      "Running Regression: 300 nodes\n",
      "Calculating Subgraph\n",
      "Removing Edges below Weight Threshold\n",
      "Adding New Edges\n",
      "New Graph Number of Edges =  11195\n",
      "Old Graph Number of Edges =  11195\n",
      "[0.7408700912141702]\n"
     ]
    },
    {
     "data": {
      "application/vnd.jupyter.widget-view+json": {
       "model_id": "73d59b63333f436783e69cf25350ad7e",
       "version_major": 2,
       "version_minor": 0
      },
      "text/plain": [
       "HBox(children=(IntProgress(value=0, description='Running Simulation ', max=5000, style=ProgressStyle(descripti…"
      ]
     },
     "metadata": {},
     "output_type": "display_data"
    },
    {
     "name": "stdout",
     "output_type": "stream",
     "text": [
      "Running Regression: 300 nodes\n",
      "Calculating Subgraph\n",
      "Removing Edges below Weight Threshold\n",
      "Adding New Edges\n",
      "New Graph Number of Edges =  11195\n",
      "Old Graph Number of Edges =  11195\n",
      "[0.7733979878912861]\n"
     ]
    },
    {
     "data": {
      "application/vnd.jupyter.widget-view+json": {
       "model_id": "61a025436d9645b1a66cc857d86c936f",
       "version_major": 2,
       "version_minor": 0
      },
      "text/plain": [
       "HBox(children=(IntProgress(value=0, description='Running Simulation ', max=5000, style=ProgressStyle(descripti…"
      ]
     },
     "metadata": {},
     "output_type": "display_data"
    },
    {
     "name": "stdout",
     "output_type": "stream",
     "text": [
      "Running Regression: 300 nodes\n",
      "Calculating Subgraph\n",
      "Removing Edges below Weight Threshold\n",
      "Adding New Edges\n",
      "New Graph Number of Edges =  11195\n",
      "Old Graph Number of Edges =  11195\n",
      "[0.7671444265165469]\n"
     ]
    },
    {
     "data": {
      "application/vnd.jupyter.widget-view+json": {
       "model_id": "0ae49549617d40d587f5e0eb505ce4d9",
       "version_major": 2,
       "version_minor": 0
      },
      "text/plain": [
       "HBox(children=(IntProgress(value=0, description='Running Simulation ', max=5000, style=ProgressStyle(descripti…"
      ]
     },
     "metadata": {},
     "output_type": "display_data"
    },
    {
     "name": "stdout",
     "output_type": "stream",
     "text": [
      "Running Regression: 300 nodes\n",
      "Calculating Subgraph\n",
      "Removing Edges below Weight Threshold\n",
      "Adding New Edges\n",
      "New Graph Number of Edges =  11195\n",
      "Old Graph Number of Edges =  11195\n",
      "[0.6764335575522715]\n"
     ]
    },
    {
     "data": {
      "application/vnd.jupyter.widget-view+json": {
       "model_id": "3f76829624014fec94655911a300c9a5",
       "version_major": 2,
       "version_minor": 0
      },
      "text/plain": [
       "HBox(children=(IntProgress(value=0, description='Running Simulation ', max=5000, style=ProgressStyle(descripti…"
      ]
     },
     "metadata": {},
     "output_type": "display_data"
    },
    {
     "name": "stdout",
     "output_type": "stream",
     "text": [
      "Running Regression: 300 nodes\n",
      "Calculating Subgraph\n",
      "Removing Edges below Weight Threshold\n",
      "Adding New Edges\n",
      "New Graph Number of Edges =  11195\n",
      "Old Graph Number of Edges =  11195\n",
      "[0.6758079580891139]\n"
     ]
    },
    {
     "data": {
      "application/vnd.jupyter.widget-view+json": {
       "model_id": "46ff8081d6c646269710bd59ceaba5d5",
       "version_major": 2,
       "version_minor": 0
      },
      "text/plain": [
       "HBox(children=(IntProgress(value=0, description='Running Simulation ', max=5000, style=ProgressStyle(descripti…"
      ]
     },
     "metadata": {},
     "output_type": "display_data"
    },
    {
     "name": "stdout",
     "output_type": "stream",
     "text": [
      "Running Regression: 300 nodes\n",
      "Calculating Subgraph\n",
      "Removing Edges below Weight Threshold\n",
      "Adding New Edges\n",
      "New Graph Number of Edges =  11195\n",
      "Old Graph Number of Edges =  11195\n",
      "[0.6801258623372769]\n"
     ]
    },
    {
     "data": {
      "application/vnd.jupyter.widget-view+json": {
       "model_id": "9db294bd6cc54b279c183ccc06d3abf6",
       "version_major": 2,
       "version_minor": 0
      },
      "text/plain": [
       "HBox(children=(IntProgress(value=0, description='Running Simulation ', max=5000, style=ProgressStyle(descripti…"
      ]
     },
     "metadata": {},
     "output_type": "display_data"
    },
    {
     "name": "stdout",
     "output_type": "stream",
     "text": [
      "Running Regression: 300 nodes\n",
      "Calculating Subgraph\n",
      "Removing Edges below Weight Threshold\n",
      "Adding New Edges\n",
      "New Graph Number of Edges =  11195\n",
      "Old Graph Number of Edges =  11195\n",
      "[0.7641153029241168]\n"
     ]
    },
    {
     "data": {
      "application/vnd.jupyter.widget-view+json": {
       "model_id": "533dcba2ec5e450d87e144dfe0877722",
       "version_major": 2,
       "version_minor": 0
      },
      "text/plain": [
       "HBox(children=(IntProgress(value=0, description='Running Simulation ', max=5000, style=ProgressStyle(descripti…"
      ]
     },
     "metadata": {},
     "output_type": "display_data"
    },
    {
     "name": "stdout",
     "output_type": "stream",
     "text": [
      "Running Regression: 300 nodes\n",
      "Calculating Subgraph\n",
      "Removing Edges below Weight Threshold\n",
      "Adding New Edges\n",
      "New Graph Number of Edges =  11195\n",
      "Old Graph Number of Edges =  11195\n",
      "[0.699297148319605]\n"
     ]
    },
    {
     "data": {
      "application/vnd.jupyter.widget-view+json": {
       "model_id": "9ae8f04e105748c88afa1f8876020734",
       "version_major": 2,
       "version_minor": 0
      },
      "text/plain": [
       "HBox(children=(IntProgress(value=0, description='Running Simulation ', max=5000, style=ProgressStyle(descripti…"
      ]
     },
     "metadata": {},
     "output_type": "display_data"
    },
    {
     "name": "stdout",
     "output_type": "stream",
     "text": [
      "Running Regression: 300 nodes\n",
      "Calculating Subgraph\n",
      "Removing Edges below Weight Threshold\n",
      "Adding New Edges\n",
      "New Graph Number of Edges =  11195\n",
      "Old Graph Number of Edges =  11195\n",
      "[0.7242933505528171]\n"
     ]
    },
    {
     "data": {
      "application/vnd.jupyter.widget-view+json": {
       "model_id": "90cba90825dd42f098451b18f52f6edd",
       "version_major": 2,
       "version_minor": 0
      },
      "text/plain": [
       "HBox(children=(IntProgress(value=0, description='Running Simulation ', max=5000, style=ProgressStyle(descripti…"
      ]
     },
     "metadata": {},
     "output_type": "display_data"
    },
    {
     "name": "stdout",
     "output_type": "stream",
     "text": [
      "Running Regression: 300 nodes\n",
      "Calculating Subgraph\n",
      "Removing Edges below Weight Threshold\n",
      "Adding New Edges\n",
      "New Graph Number of Edges =  11195\n",
      "Old Graph Number of Edges =  11195\n",
      "[0.6774730436868972]\n"
     ]
    },
    {
     "data": {
      "application/vnd.jupyter.widget-view+json": {
       "model_id": "a9c1cbf704304c47827a0d09edad36a3",
       "version_major": 2,
       "version_minor": 0
      },
      "text/plain": [
       "HBox(children=(IntProgress(value=0, description='Running Simulation ', max=5000, style=ProgressStyle(descripti…"
      ]
     },
     "metadata": {},
     "output_type": "display_data"
    },
    {
     "name": "stdout",
     "output_type": "stream",
     "text": [
      "Running Regression: 300 nodes\n",
      "Calculating Subgraph\n",
      "Removing Edges below Weight Threshold\n",
      "Adding New Edges\n",
      "New Graph Number of Edges =  11195\n",
      "Old Graph Number of Edges =  11195\n",
      "[0.683530881572935]\n"
     ]
    },
    {
     "data": {
      "application/vnd.jupyter.widget-view+json": {
       "model_id": "0d4de21fe20e47909a04fd78087b2124",
       "version_major": 2,
       "version_minor": 0
      },
      "text/plain": [
       "HBox(children=(IntProgress(value=0, description='Running Simulation ', max=5000, style=ProgressStyle(descripti…"
      ]
     },
     "metadata": {},
     "output_type": "display_data"
    },
    {
     "name": "stdout",
     "output_type": "stream",
     "text": [
      "Running Regression: 300 nodes\n",
      "Calculating Subgraph\n",
      "Removing Edges below Weight Threshold\n",
      "Adding New Edges\n",
      "New Graph Number of Edges =  11195\n",
      "Old Graph Number of Edges =  11195\n",
      "[0.7740903420508067]\n"
     ]
    },
    {
     "data": {
      "application/vnd.jupyter.widget-view+json": {
       "model_id": "98dfaca5ad8e4a6bb0c76c6ae4cc8d3d",
       "version_major": 2,
       "version_minor": 0
      },
      "text/plain": [
       "HBox(children=(IntProgress(value=0, description='Running Simulation ', max=5000, style=ProgressStyle(descripti…"
      ]
     },
     "metadata": {},
     "output_type": "display_data"
    },
    {
     "name": "stdout",
     "output_type": "stream",
     "text": [
      "Running Regression: 300 nodes\n",
      "Calculating Subgraph\n",
      "Removing Edges below Weight Threshold\n",
      "Adding New Edges\n",
      "New Graph Number of Edges =  11195\n",
      "Old Graph Number of Edges =  11195\n",
      "[0.7818689871665764]\n"
     ]
    },
    {
     "data": {
      "application/vnd.jupyter.widget-view+json": {
       "model_id": "137e554d57a64a9786c12c81de081542",
       "version_major": 2,
       "version_minor": 0
      },
      "text/plain": [
       "HBox(children=(IntProgress(value=0, description='Running Simulation ', max=5000, style=ProgressStyle(descripti…"
      ]
     },
     "metadata": {},
     "output_type": "display_data"
    },
    {
     "name": "stdout",
     "output_type": "stream",
     "text": [
      "Running Regression: 300 nodes\n",
      "Calculating Subgraph\n",
      "Removing Edges below Weight Threshold\n",
      "Adding New Edges\n",
      "New Graph Number of Edges =  11195\n",
      "Old Graph Number of Edges =  11195\n",
      "[0.7628467902902579]\n"
     ]
    },
    {
     "data": {
      "application/vnd.jupyter.widget-view+json": {
       "model_id": "9e2c56f715c7408a883faadad5bddc03",
       "version_major": 2,
       "version_minor": 0
      },
      "text/plain": [
       "HBox(children=(IntProgress(value=0, description='Running Simulation ', max=5000, style=ProgressStyle(descripti…"
      ]
     },
     "metadata": {},
     "output_type": "display_data"
    },
    {
     "name": "stdout",
     "output_type": "stream",
     "text": [
      "Running Regression: 300 nodes\n",
      "Calculating Subgraph\n",
      "Removing Edges below Weight Threshold\n",
      "Adding New Edges\n",
      "New Graph Number of Edges =  11195\n",
      "Old Graph Number of Edges =  11195\n",
      "[0.6733536226222075]\n"
     ]
    },
    {
     "data": {
      "application/vnd.jupyter.widget-view+json": {
       "model_id": "b941789bb0ca4b6c999a93bf7088e48f",
       "version_major": 2,
       "version_minor": 0
      },
      "text/plain": [
       "HBox(children=(IntProgress(value=0, description='Running Simulation ', max=5000, style=ProgressStyle(descripti…"
      ]
     },
     "metadata": {},
     "output_type": "display_data"
    },
    {
     "name": "stdout",
     "output_type": "stream",
     "text": [
      "Running Regression: 300 nodes\n",
      "Calculating Subgraph\n",
      "Removing Edges below Weight Threshold\n",
      "Adding New Edges\n",
      "New Graph Number of Edges =  11195\n",
      "Old Graph Number of Edges =  11195\n",
      "[0.7703729335304397]\n"
     ]
    },
    {
     "data": {
      "application/vnd.jupyter.widget-view+json": {
       "model_id": "aaf83f8a4f5745a6af2579064fb0ffd9",
       "version_major": 2,
       "version_minor": 0
      },
      "text/plain": [
       "HBox(children=(IntProgress(value=0, description='Running Simulation ', max=5000, style=ProgressStyle(descripti…"
      ]
     },
     "metadata": {},
     "output_type": "display_data"
    },
    {
     "name": "stdout",
     "output_type": "stream",
     "text": [
      "Running Regression: 300 nodes\n",
      "Calculating Subgraph\n",
      "Removing Edges below Weight Threshold\n",
      "Adding New Edges\n",
      "New Graph Number of Edges =  11195\n",
      "Old Graph Number of Edges =  11195\n",
      "[0.6749964815290089]\n"
     ]
    },
    {
     "data": {
      "application/vnd.jupyter.widget-view+json": {
       "model_id": "1ec2eeee8de744e2a39bafd896590c35",
       "version_major": 2,
       "version_minor": 0
      },
      "text/plain": [
       "HBox(children=(IntProgress(value=0, description='Running Simulation ', max=5000, style=ProgressStyle(descripti…"
      ]
     },
     "metadata": {},
     "output_type": "display_data"
    },
    {
     "name": "stdout",
     "output_type": "stream",
     "text": [
      "Running Regression: 300 nodes\n",
      "Calculating Subgraph\n",
      "Removing Edges below Weight Threshold\n",
      "Adding New Edges\n",
      "New Graph Number of Edges =  11195\n",
      "Old Graph Number of Edges =  11195\n",
      "[0.735268469457897]\n"
     ]
    },
    {
     "data": {
      "application/vnd.jupyter.widget-view+json": {
       "model_id": "1c6477acaef3421a9fd35c032db453fa",
       "version_major": 2,
       "version_minor": 0
      },
      "text/plain": [
       "HBox(children=(IntProgress(value=0, description='Running Simulation ', max=5000, style=ProgressStyle(descripti…"
      ]
     },
     "metadata": {},
     "output_type": "display_data"
    },
    {
     "name": "stdout",
     "output_type": "stream",
     "text": [
      "Running Regression: 300 nodes\n",
      "Calculating Subgraph\n",
      "Removing Edges below Weight Threshold\n",
      "Adding New Edges\n",
      "New Graph Number of Edges =  11195\n",
      "Old Graph Number of Edges =  11195\n",
      "[0.6788053537473195]\n"
     ]
    },
    {
     "data": {
      "application/vnd.jupyter.widget-view+json": {
       "model_id": "5498f410bafb4ce3ba8a1bfeca9d1151",
       "version_major": 2,
       "version_minor": 0
      },
      "text/plain": [
       "HBox(children=(IntProgress(value=0, description='Running Simulation ', max=5000, style=ProgressStyle(descripti…"
      ]
     },
     "metadata": {},
     "output_type": "display_data"
    },
    {
     "name": "stdout",
     "output_type": "stream",
     "text": [
      "Running Regression: 300 nodes\n",
      "Calculating Subgraph\n",
      "Removing Edges below Weight Threshold\n",
      "Adding New Edges\n",
      "New Graph Number of Edges =  11195\n",
      "Old Graph Number of Edges =  11195\n",
      "[0.7627288983212372]\n"
     ]
    },
    {
     "data": {
      "application/vnd.jupyter.widget-view+json": {
       "model_id": "39ee6a51b5954425a45d4fd17bc47f8d",
       "version_major": 2,
       "version_minor": 0
      },
      "text/plain": [
       "HBox(children=(IntProgress(value=0, description='Running Simulation ', max=5000, style=ProgressStyle(descripti…"
      ]
     },
     "metadata": {},
     "output_type": "display_data"
    },
    {
     "name": "stdout",
     "output_type": "stream",
     "text": [
      "Running Regression: 300 nodes\n",
      "Calculating Subgraph\n",
      "Removing Edges below Weight Threshold\n",
      "Adding New Edges\n",
      "New Graph Number of Edges =  11195\n",
      "Old Graph Number of Edges =  11195\n",
      "[0.7697860437846639]\n"
     ]
    },
    {
     "data": {
      "application/vnd.jupyter.widget-view+json": {
       "model_id": "ea7116752f494ee6902c7324fbf92906",
       "version_major": 2,
       "version_minor": 0
      },
      "text/plain": [
       "HBox(children=(IntProgress(value=0, description='Running Simulation ', max=5000, style=ProgressStyle(descripti…"
      ]
     },
     "metadata": {},
     "output_type": "display_data"
    },
    {
     "name": "stdout",
     "output_type": "stream",
     "text": [
      "Running Regression: 300 nodes\n",
      "Calculating Subgraph\n",
      "Removing Edges below Weight Threshold\n",
      "Adding New Edges\n",
      "New Graph Number of Edges =  11195\n",
      "Old Graph Number of Edges =  11195\n",
      "[0.7075640194270977]\n"
     ]
    },
    {
     "data": {
      "application/vnd.jupyter.widget-view+json": {
       "model_id": "63ec35769dd64f83a0c08f9e29294dcd",
       "version_major": 2,
       "version_minor": 0
      },
      "text/plain": [
       "HBox(children=(IntProgress(value=0, description='Running Simulation ', max=5000, style=ProgressStyle(descripti…"
      ]
     },
     "metadata": {},
     "output_type": "display_data"
    },
    {
     "name": "stdout",
     "output_type": "stream",
     "text": [
      "Running Regression: 300 nodes\n",
      "Calculating Subgraph\n",
      "Removing Edges below Weight Threshold\n",
      "Adding New Edges\n",
      "New Graph Number of Edges =  11195\n",
      "Old Graph Number of Edges =  11195\n",
      "[0.7414320301807353]\n"
     ]
    },
    {
     "data": {
      "application/vnd.jupyter.widget-view+json": {
       "model_id": "33c76d54eef74d2694646a7a26e12365",
       "version_major": 2,
       "version_minor": 0
      },
      "text/plain": [
       "HBox(children=(IntProgress(value=0, description='Running Simulation ', max=5000, style=ProgressStyle(descripti…"
      ]
     },
     "metadata": {},
     "output_type": "display_data"
    },
    {
     "name": "stdout",
     "output_type": "stream",
     "text": [
      "Running Regression: 300 nodes\n",
      "Calculating Subgraph\n",
      "Removing Edges below Weight Threshold\n",
      "Adding New Edges\n",
      "New Graph Number of Edges =  11195\n",
      "Old Graph Number of Edges =  11195\n",
      "[0.6710547786585107]\n"
     ]
    },
    {
     "data": {
      "application/vnd.jupyter.widget-view+json": {
       "model_id": "7cf60b64accf4e19aa84597653e78518",
       "version_major": 2,
       "version_minor": 0
      },
      "text/plain": [
       "HBox(children=(IntProgress(value=0, description='Running Simulation ', max=5000, style=ProgressStyle(descripti…"
      ]
     },
     "metadata": {},
     "output_type": "display_data"
    },
    {
     "name": "stdout",
     "output_type": "stream",
     "text": [
      "Running Regression: 300 nodes\n",
      "Calculating Subgraph\n",
      "Removing Edges below Weight Threshold\n",
      "Adding New Edges\n",
      "New Graph Number of Edges =  11195\n",
      "Old Graph Number of Edges =  11195\n",
      "[0.6846018329601293]\n"
     ]
    },
    {
     "data": {
      "application/vnd.jupyter.widget-view+json": {
       "model_id": "3e21b5bc6c06447096dfa3dc840e727a",
       "version_major": 2,
       "version_minor": 0
      },
      "text/plain": [
       "HBox(children=(IntProgress(value=0, description='Running Simulation ', max=5000, style=ProgressStyle(descripti…"
      ]
     },
     "metadata": {},
     "output_type": "display_data"
    },
    {
     "name": "stdout",
     "output_type": "stream",
     "text": [
      "Running Regression: 300 nodes\n",
      "Calculating Subgraph\n",
      "Removing Edges below Weight Threshold\n",
      "Adding New Edges\n",
      "New Graph Number of Edges =  11195\n",
      "Old Graph Number of Edges =  11195\n",
      "[0.6819855111727589]\n"
     ]
    },
    {
     "data": {
      "application/vnd.jupyter.widget-view+json": {
       "model_id": "3965fa616d5a423f91799248a01e6e89",
       "version_major": 2,
       "version_minor": 0
      },
      "text/plain": [
       "HBox(children=(IntProgress(value=0, description='Running Simulation ', max=5000, style=ProgressStyle(descripti…"
      ]
     },
     "metadata": {},
     "output_type": "display_data"
    },
    {
     "name": "stdout",
     "output_type": "stream",
     "text": [
      "Running Regression: 300 nodes\n",
      "Calculating Subgraph\n",
      "Removing Edges below Weight Threshold\n",
      "Adding New Edges\n",
      "New Graph Number of Edges =  11195\n",
      "Old Graph Number of Edges =  11195\n",
      "[0.7394796806900555]\n"
     ]
    },
    {
     "data": {
      "application/vnd.jupyter.widget-view+json": {
       "model_id": "ae039d0796084ecc99520cc74e245d5d",
       "version_major": 2,
       "version_minor": 0
      },
      "text/plain": [
       "HBox(children=(IntProgress(value=0, description='Running Simulation ', max=5000, style=ProgressStyle(descripti…"
      ]
     },
     "metadata": {},
     "output_type": "display_data"
    },
    {
     "name": "stdout",
     "output_type": "stream",
     "text": [
      "Running Regression: 300 nodes\n",
      "Calculating Subgraph\n",
      "Removing Edges below Weight Threshold\n",
      "Adding New Edges\n",
      "New Graph Number of Edges =  11195\n",
      "Old Graph Number of Edges =  11195\n",
      "[0.7791500322654672]\n"
     ]
    },
    {
     "data": {
      "application/vnd.jupyter.widget-view+json": {
       "model_id": "b2061ce52960440fa17098d4ba27a731",
       "version_major": 2,
       "version_minor": 0
      },
      "text/plain": [
       "HBox(children=(IntProgress(value=0, description='Running Simulation ', max=5000, style=ProgressStyle(descripti…"
      ]
     },
     "metadata": {},
     "output_type": "display_data"
    },
    {
     "name": "stdout",
     "output_type": "stream",
     "text": [
      "Running Regression: 300 nodes\n",
      "Calculating Subgraph\n",
      "Removing Edges below Weight Threshold\n",
      "Adding New Edges\n",
      "New Graph Number of Edges =  11195\n",
      "Old Graph Number of Edges =  11195\n",
      "[0.6757508475105115]\n"
     ]
    },
    {
     "data": {
      "application/vnd.jupyter.widget-view+json": {
       "model_id": "76fd63c362134a41be8530299c2e5055",
       "version_major": 2,
       "version_minor": 0
      },
      "text/plain": [
       "HBox(children=(IntProgress(value=0, description='Running Simulation ', max=5000, style=ProgressStyle(descripti…"
      ]
     },
     "metadata": {},
     "output_type": "display_data"
    },
    {
     "name": "stdout",
     "output_type": "stream",
     "text": [
      "Running Regression: 300 nodes\n",
      "Calculating Subgraph\n",
      "Removing Edges below Weight Threshold\n",
      "Adding New Edges\n",
      "New Graph Number of Edges =  11195\n",
      "Old Graph Number of Edges =  11195\n",
      "[0.7215578002696441]\n"
     ]
    },
    {
     "data": {
      "application/vnd.jupyter.widget-view+json": {
       "model_id": "ca5709b6ae7d488a92f4e6497109a83e",
       "version_major": 2,
       "version_minor": 0
      },
      "text/plain": [
       "HBox(children=(IntProgress(value=0, description='Running Simulation ', max=5000, style=ProgressStyle(descripti…"
      ]
     },
     "metadata": {},
     "output_type": "display_data"
    },
    {
     "name": "stdout",
     "output_type": "stream",
     "text": [
      "Running Regression: 300 nodes\n",
      "Calculating Subgraph\n",
      "Removing Edges below Weight Threshold\n",
      "Adding New Edges\n",
      "New Graph Number of Edges =  11195\n",
      "Old Graph Number of Edges =  11195\n",
      "[0.6886876444403173]\n"
     ]
    },
    {
     "data": {
      "application/vnd.jupyter.widget-view+json": {
       "model_id": "0271ecd76dfe40c0b762a93165acbc91",
       "version_major": 2,
       "version_minor": 0
      },
      "text/plain": [
       "HBox(children=(IntProgress(value=0, description='Running Simulation ', max=5000, style=ProgressStyle(descripti…"
      ]
     },
     "metadata": {},
     "output_type": "display_data"
    },
    {
     "name": "stdout",
     "output_type": "stream",
     "text": [
      "Running Regression: 300 nodes\n",
      "Calculating Subgraph\n",
      "Removing Edges below Weight Threshold\n",
      "Adding New Edges\n",
      "New Graph Number of Edges =  11195\n",
      "Old Graph Number of Edges =  11195\n",
      "[0.7300026039208259]\n"
     ]
    },
    {
     "data": {
      "application/vnd.jupyter.widget-view+json": {
       "model_id": "74d160d1094a4a2ead4529a4bc2a7864",
       "version_major": 2,
       "version_minor": 0
      },
      "text/plain": [
       "HBox(children=(IntProgress(value=0, description='Running Simulation ', max=5000, style=ProgressStyle(descripti…"
      ]
     },
     "metadata": {},
     "output_type": "display_data"
    },
    {
     "name": "stdout",
     "output_type": "stream",
     "text": [
      "Running Regression: 300 nodes\n",
      "Calculating Subgraph\n",
      "Removing Edges below Weight Threshold\n",
      "Adding New Edges\n",
      "New Graph Number of Edges =  11195\n",
      "Old Graph Number of Edges =  11195\n",
      "[0.7773951805596855]\n"
     ]
    },
    {
     "data": {
      "application/vnd.jupyter.widget-view+json": {
       "model_id": "adf778316ac54835847ce0ff4373a621",
       "version_major": 2,
       "version_minor": 0
      },
      "text/plain": [
       "HBox(children=(IntProgress(value=0, description='Running Simulation ', max=5000, style=ProgressStyle(descripti…"
      ]
     },
     "metadata": {},
     "output_type": "display_data"
    },
    {
     "name": "stdout",
     "output_type": "stream",
     "text": [
      "Running Regression: 300 nodes\n",
      "Calculating Subgraph\n",
      "Removing Edges below Weight Threshold\n",
      "Adding New Edges\n",
      "New Graph Number of Edges =  11195\n",
      "Old Graph Number of Edges =  11195\n",
      "[0.727362837866197]\n"
     ]
    },
    {
     "data": {
      "application/vnd.jupyter.widget-view+json": {
       "model_id": "70e71dda98124441ab66f373865f612c",
       "version_major": 2,
       "version_minor": 0
      },
      "text/plain": [
       "HBox(children=(IntProgress(value=0, description='Running Simulation ', max=5000, style=ProgressStyle(descripti…"
      ]
     },
     "metadata": {},
     "output_type": "display_data"
    },
    {
     "name": "stdout",
     "output_type": "stream",
     "text": [
      "Running Regression: 300 nodes\n",
      "Calculating Subgraph\n",
      "Removing Edges below Weight Threshold\n",
      "Adding New Edges\n",
      "New Graph Number of Edges =  11195\n",
      "Old Graph Number of Edges =  11195\n",
      "[0.689372623811239]\n"
     ]
    },
    {
     "data": {
      "application/vnd.jupyter.widget-view+json": {
       "model_id": "1bf15e83636b411ea007d4822b536968",
       "version_major": 2,
       "version_minor": 0
      },
      "text/plain": [
       "HBox(children=(IntProgress(value=0, description='Running Simulation ', max=5000, style=ProgressStyle(descripti…"
      ]
     },
     "metadata": {},
     "output_type": "display_data"
    },
    {
     "name": "stdout",
     "output_type": "stream",
     "text": [
      "Running Regression: 300 nodes\n",
      "Calculating Subgraph\n",
      "Removing Edges below Weight Threshold\n",
      "Adding New Edges\n",
      "New Graph Number of Edges =  11195\n",
      "Old Graph Number of Edges =  11195\n",
      "[0.7330813282881695]\n"
     ]
    },
    {
     "data": {
      "application/vnd.jupyter.widget-view+json": {
       "model_id": "675671b26a0b410cbdd723c10130cf71",
       "version_major": 2,
       "version_minor": 0
      },
      "text/plain": [
       "HBox(children=(IntProgress(value=0, description='Running Simulation ', max=5000, style=ProgressStyle(descripti…"
      ]
     },
     "metadata": {},
     "output_type": "display_data"
    },
    {
     "name": "stdout",
     "output_type": "stream",
     "text": [
      "Running Regression: 300 nodes\n",
      "Calculating Subgraph\n",
      "Removing Edges below Weight Threshold\n",
      "Adding New Edges\n",
      "New Graph Number of Edges =  11195\n",
      "Old Graph Number of Edges =  11195\n",
      "[0.6786736722283251]\n"
     ]
    },
    {
     "data": {
      "application/vnd.jupyter.widget-view+json": {
       "model_id": "5a52c88f2b964c86a77e06eb7a0dba25",
       "version_major": 2,
       "version_minor": 0
      },
      "text/plain": [
       "HBox(children=(IntProgress(value=0, description='Running Simulation ', max=5000, style=ProgressStyle(descripti…"
      ]
     },
     "metadata": {},
     "output_type": "display_data"
    },
    {
     "name": "stdout",
     "output_type": "stream",
     "text": [
      "Running Regression: 300 nodes\n",
      "Calculating Subgraph\n",
      "Removing Edges below Weight Threshold\n",
      "Adding New Edges\n",
      "New Graph Number of Edges =  11195\n",
      "Old Graph Number of Edges =  11195\n",
      "[0.730566443294732]\n"
     ]
    },
    {
     "data": {
      "application/vnd.jupyter.widget-view+json": {
       "model_id": "00d79284bee44261a36cf73f27dede70",
       "version_major": 2,
       "version_minor": 0
      },
      "text/plain": [
       "HBox(children=(IntProgress(value=0, description='Running Simulation ', max=5000, style=ProgressStyle(descripti…"
      ]
     },
     "metadata": {},
     "output_type": "display_data"
    },
    {
     "name": "stdout",
     "output_type": "stream",
     "text": [
      "Running Regression: 300 nodes\n",
      "Calculating Subgraph\n",
      "Removing Edges below Weight Threshold\n",
      "Adding New Edges\n",
      "New Graph Number of Edges =  11195\n",
      "Old Graph Number of Edges =  11195\n",
      "[0.6805307326386943]\n"
     ]
    },
    {
     "data": {
      "application/vnd.jupyter.widget-view+json": {
       "model_id": "2788499f686648d3848726d59f1f49bd",
       "version_major": 2,
       "version_minor": 0
      },
      "text/plain": [
       "HBox(children=(IntProgress(value=0, description='Running Simulation ', max=5000, style=ProgressStyle(descripti…"
      ]
     },
     "metadata": {},
     "output_type": "display_data"
    },
    {
     "name": "stdout",
     "output_type": "stream",
     "text": [
      "Running Regression: 300 nodes\n",
      "Calculating Subgraph\n",
      "Removing Edges below Weight Threshold\n",
      "Adding New Edges\n",
      "New Graph Number of Edges =  11195\n",
      "Old Graph Number of Edges =  11195\n",
      "[0.7681271051573613]\n"
     ]
    },
    {
     "data": {
      "application/vnd.jupyter.widget-view+json": {
       "model_id": "d6f6762956474ecf8c75af1a8a5d2e43",
       "version_major": 2,
       "version_minor": 0
      },
      "text/plain": [
       "HBox(children=(IntProgress(value=0, description='Running Simulation ', max=5000, style=ProgressStyle(descripti…"
      ]
     },
     "metadata": {},
     "output_type": "display_data"
    },
    {
     "name": "stdout",
     "output_type": "stream",
     "text": [
      "Running Regression: 300 nodes\n",
      "Calculating Subgraph\n",
      "Removing Edges below Weight Threshold\n",
      "Adding New Edges\n",
      "New Graph Number of Edges =  11195\n",
      "Old Graph Number of Edges =  11195\n",
      "[0.7086913398649876]\n"
     ]
    },
    {
     "data": {
      "application/vnd.jupyter.widget-view+json": {
       "model_id": "9356663078b94db18056656b5be0bf14",
       "version_major": 2,
       "version_minor": 0
      },
      "text/plain": [
       "HBox(children=(IntProgress(value=0, description='Running Simulation ', max=5000, style=ProgressStyle(descripti…"
      ]
     },
     "metadata": {},
     "output_type": "display_data"
    },
    {
     "name": "stdout",
     "output_type": "stream",
     "text": [
      "Running Regression: 300 nodes\n",
      "Calculating Subgraph\n",
      "Removing Edges below Weight Threshold\n",
      "Adding New Edges\n",
      "New Graph Number of Edges =  11195\n",
      "Old Graph Number of Edges =  11195\n",
      "[0.7315234792328869]\n"
     ]
    },
    {
     "data": {
      "application/vnd.jupyter.widget-view+json": {
       "model_id": "ccbecc322c304134bc39c12876a1ca8a",
       "version_major": 2,
       "version_minor": 0
      },
      "text/plain": [
       "HBox(children=(IntProgress(value=0, description='Running Simulation ', max=5000, style=ProgressStyle(descripti…"
      ]
     },
     "metadata": {},
     "output_type": "display_data"
    },
    {
     "name": "stdout",
     "output_type": "stream",
     "text": [
      "Running Regression: 300 nodes\n",
      "Calculating Subgraph\n",
      "Removing Edges below Weight Threshold\n",
      "Adding New Edges\n",
      "New Graph Number of Edges =  11195\n",
      "Old Graph Number of Edges =  11195\n",
      "[0.776389743307349]\n"
     ]
    },
    {
     "data": {
      "application/vnd.jupyter.widget-view+json": {
       "model_id": "600d9168c2be46b58a48b6d5c1b2dd99",
       "version_major": 2,
       "version_minor": 0
      },
      "text/plain": [
       "HBox(children=(IntProgress(value=0, description='Running Simulation ', max=5000, style=ProgressStyle(descripti…"
      ]
     },
     "metadata": {},
     "output_type": "display_data"
    },
    {
     "name": "stdout",
     "output_type": "stream",
     "text": [
      "Running Regression: 300 nodes\n",
      "Calculating Subgraph\n",
      "Removing Edges below Weight Threshold\n",
      "Adding New Edges\n",
      "New Graph Number of Edges =  11195\n",
      "Old Graph Number of Edges =  11195\n",
      "[0.7764795817603379]\n"
     ]
    },
    {
     "data": {
      "application/vnd.jupyter.widget-view+json": {
       "model_id": "4a64d46a80714fce82e43563dc5e9a6f",
       "version_major": 2,
       "version_minor": 0
      },
      "text/plain": [
       "HBox(children=(IntProgress(value=0, description='Running Simulation ', max=5000, style=ProgressStyle(descripti…"
      ]
     },
     "metadata": {},
     "output_type": "display_data"
    },
    {
     "name": "stdout",
     "output_type": "stream",
     "text": [
      "Running Regression: 300 nodes\n",
      "Calculating Subgraph\n",
      "Removing Edges below Weight Threshold\n",
      "Adding New Edges\n",
      "New Graph Number of Edges =  11195\n",
      "Old Graph Number of Edges =  11195\n",
      "[0.774874584130695]\n"
     ]
    },
    {
     "data": {
      "application/vnd.jupyter.widget-view+json": {
       "model_id": "38814672f6d145e0a458b64fe4b9dc32",
       "version_major": 2,
       "version_minor": 0
      },
      "text/plain": [
       "HBox(children=(IntProgress(value=0, description='Running Simulation ', max=5000, style=ProgressStyle(descripti…"
      ]
     },
     "metadata": {},
     "output_type": "display_data"
    },
    {
     "name": "stdout",
     "output_type": "stream",
     "text": [
      "Running Regression: 300 nodes\n",
      "Calculating Subgraph\n",
      "Removing Edges below Weight Threshold\n",
      "Adding New Edges\n",
      "New Graph Number of Edges =  11195\n",
      "Old Graph Number of Edges =  11195\n",
      "[0.7646421265318211]\n"
     ]
    },
    {
     "data": {
      "application/vnd.jupyter.widget-view+json": {
       "model_id": "a77a4dd9406b4be8a58ba50ca86d9bd8",
       "version_major": 2,
       "version_minor": 0
      },
      "text/plain": [
       "HBox(children=(IntProgress(value=0, description='Running Simulation ', max=5000, style=ProgressStyle(descripti…"
      ]
     },
     "metadata": {},
     "output_type": "display_data"
    },
    {
     "name": "stdout",
     "output_type": "stream",
     "text": [
      "Running Regression: 300 nodes\n",
      "Calculating Subgraph\n",
      "Removing Edges below Weight Threshold\n",
      "Adding New Edges\n",
      "New Graph Number of Edges =  11195\n",
      "Old Graph Number of Edges =  11195\n",
      "[0.7712307008406146]\n"
     ]
    },
    {
     "data": {
      "application/vnd.jupyter.widget-view+json": {
       "model_id": "b9b8112e42304e26b5d4b41a299bd6e7",
       "version_major": 2,
       "version_minor": 0
      },
      "text/plain": [
       "HBox(children=(IntProgress(value=0, description='Running Simulation ', max=5000, style=ProgressStyle(descripti…"
      ]
     },
     "metadata": {},
     "output_type": "display_data"
    },
    {
     "name": "stdout",
     "output_type": "stream",
     "text": [
      "Running Regression: 300 nodes\n",
      "Calculating Subgraph\n",
      "Removing Edges below Weight Threshold\n",
      "Adding New Edges\n",
      "New Graph Number of Edges =  11195\n",
      "Old Graph Number of Edges =  11195\n",
      "[0.6759767140820422]\n"
     ]
    },
    {
     "data": {
      "application/vnd.jupyter.widget-view+json": {
       "model_id": "e4b547bee23f4f2bbdd92054a5e8cad2",
       "version_major": 2,
       "version_minor": 0
      },
      "text/plain": [
       "HBox(children=(IntProgress(value=0, description='Running Simulation ', max=5000, style=ProgressStyle(descripti…"
      ]
     },
     "metadata": {},
     "output_type": "display_data"
    },
    {
     "name": "stdout",
     "output_type": "stream",
     "text": [
      "Running Regression: 300 nodes\n",
      "Calculating Subgraph\n",
      "Removing Edges below Weight Threshold\n",
      "Adding New Edges\n",
      "New Graph Number of Edges =  11195\n",
      "Old Graph Number of Edges =  11195\n",
      "[0.7206632265241811]\n"
     ]
    },
    {
     "data": {
      "application/vnd.jupyter.widget-view+json": {
       "model_id": "01161eddd1184e7196f4276e7be2c8e0",
       "version_major": 2,
       "version_minor": 0
      },
      "text/plain": [
       "HBox(children=(IntProgress(value=0, description='Running Simulation ', max=5000, style=ProgressStyle(descripti…"
      ]
     },
     "metadata": {},
     "output_type": "display_data"
    },
    {
     "name": "stdout",
     "output_type": "stream",
     "text": [
      "Running Regression: 300 nodes\n",
      "Calculating Subgraph\n",
      "Removing Edges below Weight Threshold\n",
      "Adding New Edges\n",
      "New Graph Number of Edges =  11195\n",
      "Old Graph Number of Edges =  11195\n",
      "[0.6761012903168693]\n"
     ]
    },
    {
     "data": {
      "application/vnd.jupyter.widget-view+json": {
       "model_id": "6119b676677540e88290f6cb8a06c286",
       "version_major": 2,
       "version_minor": 0
      },
      "text/plain": [
       "HBox(children=(IntProgress(value=0, description='Running Simulation ', max=5000, style=ProgressStyle(descripti…"
      ]
     },
     "metadata": {},
     "output_type": "display_data"
    },
    {
     "name": "stdout",
     "output_type": "stream",
     "text": [
      "Running Regression: 300 nodes\n",
      "Calculating Subgraph\n",
      "Removing Edges below Weight Threshold\n",
      "Adding New Edges\n",
      "New Graph Number of Edges =  11195\n",
      "Old Graph Number of Edges =  11195\n",
      "[0.7051419944082816]\n"
     ]
    },
    {
     "data": {
      "application/vnd.jupyter.widget-view+json": {
       "model_id": "58006611a14f40eaace48aa0193ba41a",
       "version_major": 2,
       "version_minor": 0
      },
      "text/plain": [
       "HBox(children=(IntProgress(value=0, description='Running Simulation ', max=5000, style=ProgressStyle(descripti…"
      ]
     },
     "metadata": {},
     "output_type": "display_data"
    },
    {
     "name": "stdout",
     "output_type": "stream",
     "text": [
      "Running Regression: 300 nodes\n",
      "Calculating Subgraph\n",
      "Removing Edges below Weight Threshold\n",
      "Adding New Edges\n",
      "New Graph Number of Edges =  11195\n",
      "Old Graph Number of Edges =  11195\n",
      "[0.6859364803567299]\n"
     ]
    },
    {
     "data": {
      "application/vnd.jupyter.widget-view+json": {
       "model_id": "eee009610c7f404784d852a7099f8eb7",
       "version_major": 2,
       "version_minor": 0
      },
      "text/plain": [
       "HBox(children=(IntProgress(value=0, description='Running Simulation ', max=5000, style=ProgressStyle(descripti…"
      ]
     },
     "metadata": {},
     "output_type": "display_data"
    },
    {
     "name": "stdout",
     "output_type": "stream",
     "text": [
      "Running Regression: 300 nodes\n",
      "Calculating Subgraph\n",
      "Removing Edges below Weight Threshold\n",
      "Adding New Edges\n",
      "New Graph Number of Edges =  11195\n",
      "Old Graph Number of Edges =  11195\n",
      "[0.726056343279478]\n"
     ]
    },
    {
     "data": {
      "application/vnd.jupyter.widget-view+json": {
       "model_id": "21cbfefe53b147f39986fb289df04a1e",
       "version_major": 2,
       "version_minor": 0
      },
      "text/plain": [
       "HBox(children=(IntProgress(value=0, description='Running Simulation ', max=5000, style=ProgressStyle(descripti…"
      ]
     },
     "metadata": {},
     "output_type": "display_data"
    },
    {
     "name": "stdout",
     "output_type": "stream",
     "text": [
      "Running Regression: 300 nodes\n",
      "Calculating Subgraph\n",
      "Removing Edges below Weight Threshold\n",
      "Adding New Edges\n",
      "New Graph Number of Edges =  11195\n",
      "Old Graph Number of Edges =  11195\n",
      "[0.7936331689853031]\n"
     ]
    },
    {
     "data": {
      "application/vnd.jupyter.widget-view+json": {
       "model_id": "d680a85229c447c7929aa7813fab3594",
       "version_major": 2,
       "version_minor": 0
      },
      "text/plain": [
       "HBox(children=(IntProgress(value=0, description='Running Simulation ', max=5000, style=ProgressStyle(descripti…"
      ]
     },
     "metadata": {},
     "output_type": "display_data"
    },
    {
     "name": "stdout",
     "output_type": "stream",
     "text": [
      "Running Regression: 300 nodes\n",
      "Calculating Subgraph\n",
      "Removing Edges below Weight Threshold\n",
      "Adding New Edges\n",
      "New Graph Number of Edges =  11195\n",
      "Old Graph Number of Edges =  11195\n",
      "[0.6694627276725239]\n"
     ]
    },
    {
     "data": {
      "application/vnd.jupyter.widget-view+json": {
       "model_id": "e6790df57f6c44e88a953edc937bc187",
       "version_major": 2,
       "version_minor": 0
      },
      "text/plain": [
       "HBox(children=(IntProgress(value=0, description='Running Simulation ', max=5000, style=ProgressStyle(descripti…"
      ]
     },
     "metadata": {},
     "output_type": "display_data"
    },
    {
     "name": "stdout",
     "output_type": "stream",
     "text": [
      "Running Regression: 300 nodes\n",
      "Calculating Subgraph\n",
      "Removing Edges below Weight Threshold\n",
      "Adding New Edges\n",
      "New Graph Number of Edges =  11195\n",
      "Old Graph Number of Edges =  11195\n",
      "[0.6752338420774933]\n"
     ]
    },
    {
     "data": {
      "application/vnd.jupyter.widget-view+json": {
       "model_id": "c597cfa2f53d459aaed9a6e55aaaae8b",
       "version_major": 2,
       "version_minor": 0
      },
      "text/plain": [
       "HBox(children=(IntProgress(value=0, description='Running Simulation ', max=5000, style=ProgressStyle(descripti…"
      ]
     },
     "metadata": {},
     "output_type": "display_data"
    },
    {
     "name": "stdout",
     "output_type": "stream",
     "text": [
      "Running Regression: 300 nodes\n",
      "Calculating Subgraph\n",
      "Removing Edges below Weight Threshold\n",
      "Adding New Edges\n",
      "New Graph Number of Edges =  11195\n",
      "Old Graph Number of Edges =  11195\n",
      "[0.6794050016325559]\n"
     ]
    },
    {
     "data": {
      "application/vnd.jupyter.widget-view+json": {
       "model_id": "65fb9967bcfe460299b8886ee6d2cc44",
       "version_major": 2,
       "version_minor": 0
      },
      "text/plain": [
       "HBox(children=(IntProgress(value=0, description='Running Simulation ', max=5000, style=ProgressStyle(descripti…"
      ]
     },
     "metadata": {},
     "output_type": "display_data"
    },
    {
     "name": "stdout",
     "output_type": "stream",
     "text": [
      "Running Regression: 300 nodes\n",
      "Calculating Subgraph\n",
      "Removing Edges below Weight Threshold\n",
      "Adding New Edges\n",
      "New Graph Number of Edges =  11195\n",
      "Old Graph Number of Edges =  11195\n",
      "[0.6688539634109777]\n"
     ]
    },
    {
     "data": {
      "application/vnd.jupyter.widget-view+json": {
       "model_id": "cad9bafd08334d84bf6fabe748be4ab3",
       "version_major": 2,
       "version_minor": 0
      },
      "text/plain": [
       "HBox(children=(IntProgress(value=0, description='Running Simulation ', max=5000, style=ProgressStyle(descripti…"
      ]
     },
     "metadata": {},
     "output_type": "display_data"
    },
    {
     "name": "stdout",
     "output_type": "stream",
     "text": [
      "Running Regression: 300 nodes\n",
      "Calculating Subgraph\n",
      "Removing Edges below Weight Threshold\n",
      "Adding New Edges\n",
      "New Graph Number of Edges =  11195\n",
      "Old Graph Number of Edges =  11195\n",
      "[0.6721768990273306]\n"
     ]
    },
    {
     "data": {
      "application/vnd.jupyter.widget-view+json": {
       "model_id": "75032467fd0b4f3e850af44cdebc47d2",
       "version_major": 2,
       "version_minor": 0
      },
      "text/plain": [
       "HBox(children=(IntProgress(value=0, description='Running Simulation ', max=5000, style=ProgressStyle(descripti…"
      ]
     },
     "metadata": {},
     "output_type": "display_data"
    },
    {
     "name": "stdout",
     "output_type": "stream",
     "text": [
      "Running Regression: 300 nodes\n",
      "Calculating Subgraph\n",
      "Removing Edges below Weight Threshold\n",
      "Adding New Edges\n",
      "New Graph Number of Edges =  11195\n",
      "Old Graph Number of Edges =  11195\n",
      "[0.6784974485078746]\n"
     ]
    },
    {
     "data": {
      "application/vnd.jupyter.widget-view+json": {
       "model_id": "a5373b322b9c4d219bc9b8b1cbc9868b",
       "version_major": 2,
       "version_minor": 0
      },
      "text/plain": [
       "HBox(children=(IntProgress(value=0, description='Running Simulation ', max=5000, style=ProgressStyle(descripti…"
      ]
     },
     "metadata": {},
     "output_type": "display_data"
    },
    {
     "name": "stdout",
     "output_type": "stream",
     "text": [
      "Running Regression: 300 nodes\n",
      "Calculating Subgraph\n",
      "Removing Edges below Weight Threshold\n",
      "Adding New Edges\n",
      "New Graph Number of Edges =  11195\n",
      "Old Graph Number of Edges =  11195\n",
      "[0.6877852821667151]\n"
     ]
    },
    {
     "data": {
      "application/vnd.jupyter.widget-view+json": {
       "model_id": "77459a7eb04e4ad7ae965186a678a2f8",
       "version_major": 2,
       "version_minor": 0
      },
      "text/plain": [
       "HBox(children=(IntProgress(value=0, description='Running Simulation ', max=5000, style=ProgressStyle(descripti…"
      ]
     },
     "metadata": {},
     "output_type": "display_data"
    },
    {
     "name": "stdout",
     "output_type": "stream",
     "text": [
      "Running Regression: 300 nodes\n",
      "Calculating Subgraph\n",
      "Removing Edges below Weight Threshold\n",
      "Adding New Edges\n",
      "New Graph Number of Edges =  11195\n",
      "Old Graph Number of Edges =  11195\n",
      "[0.7778306748173227]\n"
     ]
    },
    {
     "data": {
      "application/vnd.jupyter.widget-view+json": {
       "model_id": "163cd2f7484f41d2a101320fcda60a5e",
       "version_major": 2,
       "version_minor": 0
      },
      "text/plain": [
       "HBox(children=(IntProgress(value=0, description='Running Simulation ', max=5000, style=ProgressStyle(descripti…"
      ]
     },
     "metadata": {},
     "output_type": "display_data"
    },
    {
     "name": "stdout",
     "output_type": "stream",
     "text": [
      "Running Regression: 300 nodes\n",
      "Calculating Subgraph\n",
      "Removing Edges below Weight Threshold\n",
      "Adding New Edges\n",
      "New Graph Number of Edges =  11195\n",
      "Old Graph Number of Edges =  11195\n",
      "[0.7742015116243437]\n"
     ]
    },
    {
     "data": {
      "application/vnd.jupyter.widget-view+json": {
       "model_id": "35256416007445068c0225ee5906fcf2",
       "version_major": 2,
       "version_minor": 0
      },
      "text/plain": [
       "HBox(children=(IntProgress(value=0, description='Running Simulation ', max=5000, style=ProgressStyle(descripti…"
      ]
     },
     "metadata": {},
     "output_type": "display_data"
    },
    {
     "name": "stdout",
     "output_type": "stream",
     "text": [
      "Running Regression: 300 nodes\n",
      "Calculating Subgraph\n",
      "Removing Edges below Weight Threshold\n",
      "Adding New Edges\n",
      "New Graph Number of Edges =  11195\n",
      "Old Graph Number of Edges =  11195\n",
      "[0.7267276054775871]\n"
     ]
    },
    {
     "data": {
      "application/vnd.jupyter.widget-view+json": {
       "model_id": "1107ca659c22412eaa8edaf321c4486e",
       "version_major": 2,
       "version_minor": 0
      },
      "text/plain": [
       "HBox(children=(IntProgress(value=0, description='Running Simulation ', max=5000, style=ProgressStyle(descripti…"
      ]
     },
     "metadata": {},
     "output_type": "display_data"
    },
    {
     "name": "stdout",
     "output_type": "stream",
     "text": [
      "Running Regression: 300 nodes\n",
      "Calculating Subgraph\n",
      "Removing Edges below Weight Threshold\n",
      "Adding New Edges\n",
      "New Graph Number of Edges =  11195\n",
      "Old Graph Number of Edges =  11195\n",
      "[0.7726185285123668]\n"
     ]
    },
    {
     "data": {
      "application/vnd.jupyter.widget-view+json": {
       "model_id": "bdbd5d39a787428fb6ba5d2dd4388aa9",
       "version_major": 2,
       "version_minor": 0
      },
      "text/plain": [
       "HBox(children=(IntProgress(value=0, description='Running Simulation ', max=5000, style=ProgressStyle(descripti…"
      ]
     },
     "metadata": {},
     "output_type": "display_data"
    },
    {
     "name": "stdout",
     "output_type": "stream",
     "text": [
      "Running Regression: 300 nodes\n",
      "Calculating Subgraph\n",
      "Removing Edges below Weight Threshold\n",
      "Adding New Edges\n",
      "New Graph Number of Edges =  11195\n",
      "Old Graph Number of Edges =  11195\n",
      "[0.6739084806473096]\n"
     ]
    },
    {
     "data": {
      "application/vnd.jupyter.widget-view+json": {
       "model_id": "81820f4c38a24172a175a9cad28c2b39",
       "version_major": 2,
       "version_minor": 0
      },
      "text/plain": [
       "HBox(children=(IntProgress(value=0, description='Running Simulation ', max=5000, style=ProgressStyle(descripti…"
      ]
     },
     "metadata": {},
     "output_type": "display_data"
    },
    {
     "name": "stdout",
     "output_type": "stream",
     "text": [
      "Running Regression: 300 nodes\n",
      "Calculating Subgraph\n",
      "Removing Edges below Weight Threshold\n",
      "Adding New Edges\n",
      "New Graph Number of Edges =  11195\n",
      "Old Graph Number of Edges =  11195\n",
      "[0.6739506772922101]\n"
     ]
    },
    {
     "data": {
      "application/vnd.jupyter.widget-view+json": {
       "model_id": "dce2d0677b3e4a7f85ac158a197266b9",
       "version_major": 2,
       "version_minor": 0
      },
      "text/plain": [
       "HBox(children=(IntProgress(value=0, description='Running Simulation ', max=5000, style=ProgressStyle(descripti…"
      ]
     },
     "metadata": {},
     "output_type": "display_data"
    },
    {
     "name": "stdout",
     "output_type": "stream",
     "text": [
      "Running Regression: 300 nodes\n",
      "Calculating Subgraph\n",
      "Removing Edges below Weight Threshold\n",
      "Adding New Edges\n",
      "New Graph Number of Edges =  11195\n",
      "Old Graph Number of Edges =  11195\n",
      "[0.7816605662458618]\n"
     ]
    },
    {
     "data": {
      "application/vnd.jupyter.widget-view+json": {
       "model_id": "64c3ad84db7d4c47a27b3c8f96bf567d",
       "version_major": 2,
       "version_minor": 0
      },
      "text/plain": [
       "HBox(children=(IntProgress(value=0, description='Running Simulation ', max=5000, style=ProgressStyle(descripti…"
      ]
     },
     "metadata": {},
     "output_type": "display_data"
    },
    {
     "name": "stdout",
     "output_type": "stream",
     "text": [
      "Running Regression: 300 nodes\n",
      "Calculating Subgraph\n",
      "Removing Edges below Weight Threshold\n"
     ]
    }
   ],
   "source": [
    "p = 0.25#np.random.uniform(0,1) #set this to probability of random connections value\n",
    "onAmp=0.75 #set voltage\n",
    "\n",
    "generations=100\n",
    "initGraph=generateInitNetwork(p)\n",
    "initAdjMat=np.array(nx.adjacency_matrix(initGraph).todense())\n",
    "adjMat=[None]*generations\n",
    "accuracy=[None]*generations\n",
    "for i in tqdm(range(generations)):\n",
    "    G=[]\n",
    "    weights=[]\n",
    "    weighedSubGraph=[]\n",
    "    simulations=[]\n",
    "    newGraph=[]\n",
    "    temp=[]\n",
    "    if i == 0:\n",
    "        simulations,accuracy[i]=runNLT(initAdjMat,onAmp,i)\n",
    "        weightedSubGraph,sources,drains=functionalSubgraph(simulations,initAdjMat)\n",
    "        newAdjMat,edges_to_be_removed=thresholdWeights(weightedSubGraph)\n",
    "        adjMat[i]=newRandomEdges(initAdjMat,newAdjMat,i) \n",
    "    else:\n",
    "        print(accuracy[i-1])\n",
    "        simulations,accuracy[i]=runNLT(adjMat[i-1],onAmp,i)\n",
    "        weightedSubGraph,sources,drains=functionalSubgraph(simulations,adjMat[i-1])\n",
    "        newAdjMat,edges_to_be_removed=thresholdWeights(weightedSubGraph)\n",
    "        if i < generations-1: #the last set we don't want new random edges\n",
    "            adjMat[i]=newRandomEdges(adjMat[i-1],newAdjMat,i) \n",
    "        else:\n",
    "            adjMat[i]=newAdjMat"
   ]
  },
  {
   "cell_type": "code",
   "execution_count": 102,
   "metadata": {},
   "outputs": [],
   "source": [
    "b=[j for i,j in nx.degree(nx.from_numpy_array(initAdjMat))]"
   ]
  },
  {
   "cell_type": "code",
   "execution_count": 95,
   "metadata": {},
   "outputs": [],
   "source": [
    "a=[j for i,j in nx.degree(nx.from_numpy_array(newAdjMat))]"
   ]
  },
  {
   "cell_type": "code",
   "execution_count": 103,
   "metadata": {},
   "outputs": [
    {
     "data": {
      "text/plain": [
       "(array([ 4., 17., 37., 63., 61., 51., 43., 14.,  8.,  2.]),\n",
       " array([55. , 59.3, 63.6, 67.9, 72.2, 76.5, 80.8, 85.1, 89.4, 93.7, 98. ]),\n",
       " <a list of 10 Patch objects>)"
      ]
     },
     "execution_count": 103,
     "metadata": {},
     "output_type": "execute_result"
    },
    {
     "data": {
      "image/png": "[encoded data removed]",
      "text/plain": [
       "<Figure size 432x288 with 1 Axes>"
      ]
     },
     "metadata": {
      "needs_background": "light"
     },
     "output_type": "display_data"
    }
   ],
   "source": [
    "plt.hist(a)\n",
    "plt.hist(b)"
   ]
  },
  {
   "cell_type": "code",
   "execution_count": 104,
   "metadata": {},
   "outputs": [
    {
     "data": {
      "image/png": "[encoded data removed]",
      "text/plain": [
       "<Figure size 432x288 with 1 Axes>"
      ]
     },
     "metadata": {},
     "output_type": "display_data"
    }
   ],
   "source": [
    "pos=nx.kamada_kawai_layout(nx.from_numpy_array(initAdjMat))\n",
    "nx.draw(nx.from_numpy_array(initAdjMat),pos=pos)"
   ]
  },
  {
   "cell_type": "code",
   "execution_count": 111,
   "metadata": {},
   "outputs": [
    {
     "data": {
      "text/plain": [
       "<matplotlib.collections.LineCollection at 0x7f6214a35b38>"
      ]
     },
     "execution_count": 111,
     "metadata": {},
     "output_type": "execute_result"
    },
    {
     "data": {
      "image/png": "[encoded data removed]",
      "text/plain": [
       "<Figure size 432x288 with 1 Axes>"
      ]
     },
     "metadata": {
      "needs_background": "light"
     },
     "output_type": "display_data"
    }
   ],
   "source": [
    "pos=nx.kamada_kawai_layout(nx.from_numpy_array(initAdjMat))\n",
    "nx.draw_networkx_nodes(nx.from_numpy_array(initAdjMat),pos=pos,size=10)\n",
    "nx.draw_networkx_edges(nx.from_numpy_array(newAdjMat),pos=pos,edge_color='orange')"
   ]
  },
  {
   "cell_type": "code",
   "execution_count": null,
   "metadata": {},
   "outputs": [],
   "source": []
  }
 ],
 "metadata": {
  "kernelspec": {
   "display_name": "Python 3",
   "language": "python",
   "name": "python3"
  },
  "language_info": {
   "codemirror_mode": {
    "name": "ipython",
    "version": 3
   },
   "file_extension": ".py",
   "mimetype": "text/x-python",
   "name": "python",
   "nbconvert_exporter": "python",
   "pygments_lexer": "ipython3",
   "version": "3.7.3"
  }
 },
 "nbformat": 4,
 "nbformat_minor": 2
}
