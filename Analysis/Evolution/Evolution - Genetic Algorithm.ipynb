{
 "cells": [
  {
   "cell_type": "code",
   "execution_count": 4,
   "metadata": {},
   "outputs": [],
   "source": [
    "#Imports:\n",
    "import sys\n",
    "sys.path.append('/import/silo2/aloe8475/Documents/edamame')\n",
    "\n",
    "from scipy.io import loadmat, savemat\n",
    "import numpy as np\n",
    "import matplotlib.pyplot as plt\n",
    "from matplotlib import colors as clrs\n",
    "import datetime\n",
    "import networkx as nx\n",
    "from edamame import *\n",
    "from tqdm import tqdm_notebook\n",
    "import os\n",
    "from random import choice\n",
    "from IPython.core.debugger import set_trace\n",
    "import bct\n",
    "import pandas as pd\n",
    "import pickle \n",
    "import _pickle as cPickle\n",
    "import gzip"
   ]
  },
  {
   "cell_type": "code",
   "execution_count": 5,
   "metadata": {},
   "outputs": [],
   "source": [
    "#Functions\n",
    "def compressed_pickle(obj, filename,protocol=-1):\n",
    "    with gzip.open(filename, 'wb') as f:\n",
    "        cPickle.dump(obj, f, protocol)\n",
    "def decompress_pickle(file):\n",
    "    with gzip.open(file, 'rb') as f:\n",
    "        loaded_object = cPickle.load(f,encoding=\"bytes\") #change this for python 2\n",
    "        return loaded_object\n",
    "    \n",
    "\n",
    "#Threshold by conductance - when tunnelling becomes appreciable (offResistance * 10)\n",
    "def getOnGraph(sims,network,edgeList,numWires):#, this_TimeStamp = 0):\n",
    "#     edgeList = network['edge_list']\n",
    "    adjMat = np.zeros((numWires, numWires))\n",
    "#     set_trace()\n",
    "    adjMat[edgeList[:,0], edgeList[:,1]] = (1/sims.junctionResistance[-1])>1e-06#network.junctionSwitch[this_TimeStamp,:] #CHANGE THIS TO CONDUCTANCE THRESHOLD?\n",
    "    adjMat[edgeList[:,1], edgeList[:,0]] = (1/sims.junctionResistance[-1])>1e-06#network.junctionSwitch[this_TimeStamp,:] #CHANGE THIS TO CONDUCTANCE THRESHOLD?\n",
    "    onGraph = nx.from_numpy_array(adjMat)\n",
    "    onGraph=nx.DiGraph.to_undirected(onGraph)\n",
    "    \n",
    "    return onGraph\n",
    "\n",
    "def getWeightedGraph(sims,network,edgeList,numWires):#, this_TimeStamp = 0):\n",
    "#     edgeList = network['edge_list']\n",
    "    adjMat = np.zeros((numWires, numWires))\n",
    "#     set_trace()\n",
    "    adjMat[edgeList[:,0], edgeList[:,1]] = sims.junctionConductance[-1]#network.junctionSwitch[this_TimeStamp,:] #CHANGE THIS TO CONDUCTANCE THRESHOLD?\n",
    "    adjMat[edgeList[:,1], edgeList[:,0]] = sims.junctionConductance[-1]#network.junctionSwitch[this_TimeStamp,:] #CHANGE THIS TO CONDUCTANCE THRESHOLD?\n",
    "    WeightedGraph = nx.from_numpy_array(adjMat)\n",
    "    WeightedGraph=nx.DiGraph.to_undirected(WeightedGraph)\n",
    "    \n",
    "    return WeightedGraph\n",
    "\n",
    "def connected_component_subgraphs(G):\n",
    "    for c in nx.connected_components(G):\n",
    "        yield G.subgraph(c)"
   ]
  },
  {
   "cell_type": "code",
   "execution_count": 6,
   "metadata": {},
   "outputs": [],
   "source": [
    "#Start with random network:\n",
    "def generateInitPopulation(p,popSize):\n",
    "    pop=[]\n",
    "    for i in range(popSize):\n",
    "        pop.append(np.array(nx.adjacency_matrix(nx.erdos_renyi_graph(300,p)).todense()))\n",
    "    return pop"
   ]
  },
  {
   "cell_type": "code",
   "execution_count": 7,
   "metadata": {},
   "outputs": [],
   "source": [
    "#Run Task:\n",
    "\n",
    "def runNLT(adjMat,onAmp,i):\n",
    "\n",
    "    nwSqu=[]\n",
    "    results_minMax=[]\n",
    "    stimulus=[]\n",
    "    dt = 1e-3\n",
    "    f=0.5\n",
    "    Time=5\n",
    "    connectivity=connectivity__(adjMat=adjMat)\n",
    "    #Choose Electrode Pattern\n",
    "    \n",
    "    stimulus.append((stimulus__(biasType='AC',onAmp=onAmp,TimeVector=np.arange(0,Time,dt),f=f)))\n",
    "    stimulus.append((stimulus__(biasType='Drain',TimeVector=np.arange(0,Time,dt)))) #we don't want this drain to be active during training\n",
    "    \n",
    "    results_minMax=runSim(connectivity,stimulus=stimulus, contactMode='farthest',T = Time, dt = dt, onAmp = onAmp, biasType='AC',f=f,junctionMode='tunneling',findFirst=False)\n",
    "\n",
    "    #     results={'JunctionConductance':results_minMax.junctionConductance[-1],'JunctionVoltage':results_minMax.junctionVoltage[-1],'Switch':results_minMax.junctionSwitch[-1],'Source':results_minMax.sources[0:2],'Drain':results_minMax.drains[0:2],'Signal':results_minMax.stimulus}\n",
    "    #     compressed_pickle(results,dataLoc+'_NLT_Simulation_'+'_9modules_10sets_Network_'+str(j+1)+'_'+str(k+1)+'_'+ampName+'v.pkl')\n",
    "    nodesList=[np.size(adjMat[:,0])]\n",
    "    \n",
    "#     nodesList=[len(Graph)]#only want all nodes\n",
    "\n",
    "    nwSqu =[None]*len(nodesList)\n",
    "\n",
    "    countK=0\n",
    "    for k in nodesList: #loop through sets of nodes for regression\n",
    "        print('Running Regression: ' + str(k) + ' nodes')\n",
    "        ResultSqu=[]\n",
    "        ResultSqu = nonLinearTrans(results_minMax,'Square',k, repeats=50) #simulation, type of signal, number of nodes to sample from, number of linear regression repetitions (take avg)\n",
    "        nwSqu[countK]=ResultSqu['accuracy']\n",
    "        countK=countK+1\n",
    "        \n",
    "    return results_minMax,nwSqu"
   ]
  },
  {
   "cell_type": "code",
   "execution_count": 8,
   "metadata": {},
   "outputs": [],
   "source": [
    "# Calculate Functional Subgraph\n",
    "def functionalSubgraph(simulations,adjMat):\n",
    "    print('Calculating Weights')\n",
    "    current=[]\n",
    "    weightedSubGraph=[]\n",
    "    subGraph=[]\n",
    "    subgraph_idx=[]\n",
    "    subGraphNew=[]\n",
    "    currMat=[]\n",
    "\n",
    "    sim=simulations\n",
    "    network=adjMat\n",
    "    OGgraph=nx.from_numpy_array(adjMat)\n",
    "\n",
    "    sources=sim.sources\n",
    "    drains=sim.drains\n",
    "    pos=nx.kamada_kawai_layout(OGgraph)\n",
    "    \n",
    "    numWires= np.size(network[:,0])\n",
    "    edgeList = np.array(np.where(np.triu(network) == 1)).T\n",
    "\n",
    "    weightedSubGraph=(getWeightedGraph(sim,network,edgeList,numWires))\n",
    "\n",
    "    return weightedSubGraph,sources,drains"
   ]
  },
  {
   "cell_type": "code",
   "execution_count": 9,
   "metadata": {},
   "outputs": [],
   "source": [
    "def evaluateWinner(NLT1,NLT2,nw1,nw2):\n",
    "    if NLT1>=NLT2:\n",
    "        winner=nw1\n",
    "        loser=nw2\n",
    "        winnerName='NW1'\n",
    "        loserName='NW2'\n",
    "    else:\n",
    "        winner=nw2\n",
    "        loser=nw1\n",
    "        winnerName='NW2'\n",
    "        loserName='NW1'\n",
    "    return winner,loser,winnerName,loserName"
   ]
  },
  {
   "cell_type": "code",
   "execution_count": 10,
   "metadata": {},
   "outputs": [],
   "source": [
    "def infect(winner,loser,infect_rate):\n",
    "    def infect_choice(infect_rate):\n",
    "        ans=np.random.random() <= infect_rate\n",
    "        return ans\n",
    "    if infect_choice(infect_rate):\n",
    "        infected_outcome=1\n",
    "        print('Performing Infection')\n",
    "        #choose a random number of nodes and edges of winner and replace loser with them:\n",
    "        \n",
    "        loser=winner\n",
    "    else:\n",
    "        infected_outcome=0\n",
    "        print('No Infection This Generation')\n",
    "    return loser,infected_outcome"
   ]
  },
  {
   "cell_type": "code",
   "execution_count": 37,
   "metadata": {},
   "outputs": [],
   "source": [
    "#Find edge weights + remove those below a certain threshold\n",
    "def mutate(adjMat,mutation_rate,mutation_amount):\n",
    "    \n",
    "    G=nx.from_numpy_array(adjMat)\n",
    "    \n",
    "    newAdjMat=adjMat.copy()\n",
    "\n",
    "    def mutate_choice(mutation_rate):\n",
    "        ans=np.random.random() <= mutation_rate\n",
    "        return ans\n",
    "    \n",
    "    if mutate_choice(mutation_rate):\n",
    "        print('Mutating Chosen Network')\n",
    "        edge_weights=nx.get_edge_attributes(G,'weight')\n",
    "        edges_to_mutate=[e for e, w in edge_weights.items() if w >1e-6]\n",
    "        num_edges_to_mutate=int(len(edges_to_mutate)*mutation_amount)\n",
    "        #choose random edges:\n",
    "        edges_to_mutate_final=[]\n",
    "        for i in np.random.choice(len(edges_to_mutate),num_edges_to_mutate):\n",
    "            edges_to_mutate_final.append(edges_to_mutate[i])\n",
    "        \n",
    "        #do we add or remove edges? 50/50 chance\n",
    "        \n",
    "        mutationType=np.random.randint(2)\n",
    "        if mutationType==0: #remove edges\n",
    "            print('Removing Edges')\n",
    "            for e in edges_to_mutate_final:\n",
    "                    newAdjMat[e[0],e[1]]=0\n",
    "                    newAdjMat[e[1],e[0]]=0\n",
    "                                        \n",
    "        elif mutationType==1: #add edges\n",
    "            temp2=np.random.randint(len(edges_to_mutate))\n",
    "            print('Adding Edges')\n",
    "            for e in edges_to_mutate_final:\n",
    "                if adjMat[e[0],edges_to_mutate[temp2][0]] == 0:#choose one of the edges to mutate and add a random edge to another edge, if that edge doesn't exist\n",
    "                    newAdjMat[e[0],edges_to_mutate[temp2][0]] == 1\n",
    "                    newAdjMat[edges_to_mutate[temp2][0],e[0]] == 1                    \n",
    "    else:\n",
    "        print('No Mutation This Generation')\n",
    "    return newAdjMat"
   ]
  },
  {
   "cell_type": "code",
   "execution_count": 12,
   "metadata": {},
   "outputs": [],
   "source": [
    "def generateInitPopFit(population,onAmp):\n",
    "    NLTpop=[None]*len(population)\n",
    "    for i in range(len(population)):\n",
    "        sim,NLTpop[i]=(runNLT(population[i],onAmp,i))\n",
    "    return NLTpop"
   ]
  },
  {
   "cell_type": "code",
   "execution_count": 45,
   "metadata": {},
   "outputs": [
    {
     "data": {
      "application/vnd.jupyter.widget-view+json": {
       "model_id": "23eff176966b4af781c503840f027e6c",
       "version_major": 2,
       "version_minor": 0
      },
      "text/plain": [
       "HBox(children=(IntProgress(value=0, description='Running Simulation ', max=5000, style=ProgressStyle(descripti…"
      ]
     },
     "metadata": {},
     "output_type": "display_data"
    },
    {
     "name": "stdout",
     "output_type": "stream",
     "text": [
      "Running Regression: 300 nodes\n"
     ]
    },
    {
     "data": {
      "application/vnd.jupyter.widget-view+json": {
       "model_id": "e52526f2ce1c47f5adabbe67562f35eb",
       "version_major": 2,
       "version_minor": 0
      },
      "text/plain": [
       "HBox(children=(IntProgress(value=0, description='Running Simulation ', max=5000, style=ProgressStyle(descripti…"
      ]
     },
     "metadata": {},
     "output_type": "display_data"
    },
    {
     "name": "stdout",
     "output_type": "stream",
     "text": [
      "Running Regression: 300 nodes\n"
     ]
    },
    {
     "data": {
      "application/vnd.jupyter.widget-view+json": {
       "model_id": "a657939598984183be3739c830239b89",
       "version_major": 2,
       "version_minor": 0
      },
      "text/plain": [
       "HBox(children=(IntProgress(value=0, description='Running Simulation ', max=5000, style=ProgressStyle(descripti…"
      ]
     },
     "metadata": {},
     "output_type": "display_data"
    },
    {
     "name": "stdout",
     "output_type": "stream",
     "text": [
      "Running Regression: 300 nodes\n"
     ]
    },
    {
     "data": {
      "application/vnd.jupyter.widget-view+json": {
       "model_id": "b36c03a4bd7a4ce08831fc7d4c72d7f6",
       "version_major": 2,
       "version_minor": 0
      },
      "text/plain": [
       "HBox(children=(IntProgress(value=0, description='Running Simulation ', max=5000, style=ProgressStyle(descripti…"
      ]
     },
     "metadata": {},
     "output_type": "display_data"
    },
    {
     "name": "stdout",
     "output_type": "stream",
     "text": [
      "Running Regression: 300 nodes\n"
     ]
    },
    {
     "data": {
      "application/vnd.jupyter.widget-view+json": {
       "model_id": "0745ba01f0474fdeb4b31f079a5b80a2",
       "version_major": 2,
       "version_minor": 0
      },
      "text/plain": [
       "HBox(children=(IntProgress(value=0, description='Running Simulation ', max=5000, style=ProgressStyle(descripti…"
      ]
     },
     "metadata": {},
     "output_type": "display_data"
    },
    {
     "name": "stdout",
     "output_type": "stream",
     "text": [
      "Running Regression: 300 nodes\n"
     ]
    },
    {
     "data": {
      "application/vnd.jupyter.widget-view+json": {
       "model_id": "f8367475dbfb417f9883b9f134df7da5",
       "version_major": 2,
       "version_minor": 0
      },
      "text/plain": [
       "HBox(children=(IntProgress(value=0, description='Running Simulation ', max=5000, style=ProgressStyle(descripti…"
      ]
     },
     "metadata": {},
     "output_type": "display_data"
    },
    {
     "name": "stdout",
     "output_type": "stream",
     "text": [
      "Running Regression: 300 nodes\n"
     ]
    },
    {
     "data": {
      "application/vnd.jupyter.widget-view+json": {
       "model_id": "0e2fc7230c024a20b8a862bc4231ebdc",
       "version_major": 2,
       "version_minor": 0
      },
      "text/plain": [
       "HBox(children=(IntProgress(value=0, description='Running Simulation ', max=5000, style=ProgressStyle(descripti…"
      ]
     },
     "metadata": {},
     "output_type": "display_data"
    },
    {
     "name": "stdout",
     "output_type": "stream",
     "text": [
      "Running Regression: 300 nodes\n"
     ]
    },
    {
     "data": {
      "application/vnd.jupyter.widget-view+json": {
       "model_id": "57cbe344eb0e4c72ab8b62ae5d09f0d9",
       "version_major": 2,
       "version_minor": 0
      },
      "text/plain": [
       "HBox(children=(IntProgress(value=0, description='Running Simulation ', max=5000, style=ProgressStyle(descripti…"
      ]
     },
     "metadata": {},
     "output_type": "display_data"
    },
    {
     "name": "stdout",
     "output_type": "stream",
     "text": [
      "Running Regression: 300 nodes\n"
     ]
    },
    {
     "data": {
      "application/vnd.jupyter.widget-view+json": {
       "model_id": "c04be9e781f54a7eb9ecbb0f69177fbe",
       "version_major": 2,
       "version_minor": 0
      },
      "text/plain": [
       "HBox(children=(IntProgress(value=0, description='Running Simulation ', max=5000, style=ProgressStyle(descripti…"
      ]
     },
     "metadata": {},
     "output_type": "display_data"
    },
    {
     "name": "stdout",
     "output_type": "stream",
     "text": [
      "Running Regression: 300 nodes\n"
     ]
    },
    {
     "data": {
      "application/vnd.jupyter.widget-view+json": {
       "model_id": "4a30728a3f6e49bda166b30038ed3c3c",
       "version_major": 2,
       "version_minor": 0
      },
      "text/plain": [
       "HBox(children=(IntProgress(value=0, description='Running Simulation ', max=5000, style=ProgressStyle(descripti…"
      ]
     },
     "metadata": {},
     "output_type": "display_data"
    },
    {
     "name": "stdout",
     "output_type": "stream",
     "text": [
      "Running Regression: 300 nodes\n"
     ]
    }
   ],
   "source": [
    "#Set up GA\n",
    "mutation_rate=0.3\n",
    "mutation_amount=0.25\n",
    "infect_rate=0.4\n",
    "p = 0.25#np.random.uniform(0,1) #set this to probability of random connections value\n",
    "onAmp=0.75 #set voltage\n",
    "popSize=10\n",
    "generations=100\n",
    "\n",
    "population=generateInitPopulation(p,popSize)\n",
    "NLTpop=generateInitPopFit(population,onAmp)\n",
    "OGNLTpop=NLTpop.copy() #save copy for comparison"
   ]
  },
  {
   "cell_type": "code",
   "execution_count": 42,
   "metadata": {},
   "outputs": [
    {
     "name": "stdout",
     "output_type": "stream",
     "text": [
      "Generation 1\n",
      "Performing Infection\n",
      "No Mutation This Generation\n"
     ]
    },
    {
     "data": {
      "application/vnd.jupyter.widget-view+json": {
       "model_id": "c3cc0ff786fb40d096e6eef6c06b9092",
       "version_major": 2,
       "version_minor": 0
      },
      "text/plain": [
       "HBox(children=(IntProgress(value=0, description='Running Simulation ', max=5000, style=ProgressStyle(descripti…"
      ]
     },
     "metadata": {},
     "output_type": "display_data"
    },
    {
     "name": "stdout",
     "output_type": "stream",
     "text": [
      "Running Regression: 300 nodes\n",
      "0.6769817349892853\n",
      "Generation 2\n",
      "Performing Infection\n",
      "No Mutation This Generation\n"
     ]
    },
    {
     "data": {
      "application/vnd.jupyter.widget-view+json": {
       "model_id": "5b077f34e75f4af39d5b37db60e385d8",
       "version_major": 2,
       "version_minor": 0
      },
      "text/plain": [
       "HBox(children=(IntProgress(value=0, description='Running Simulation ', max=5000, style=ProgressStyle(descripti…"
      ]
     },
     "metadata": {},
     "output_type": "display_data"
    },
    {
     "name": "stdout",
     "output_type": "stream",
     "text": [
      "Running Regression: 300 nodes\n",
      "0.6769817349892853\n",
      "Generation 3\n",
      "No Infection This Generation\n",
      "No Mutation This Generation\n"
     ]
    },
    {
     "data": {
      "application/vnd.jupyter.widget-view+json": {
       "model_id": "1c2782035e8c4ec388fffc9c3281d066",
       "version_major": 2,
       "version_minor": 0
      },
      "text/plain": [
       "HBox(children=(IntProgress(value=0, description='Running Simulation ', max=5000, style=ProgressStyle(descripti…"
      ]
     },
     "metadata": {},
     "output_type": "display_data"
    },
    {
     "name": "stdout",
     "output_type": "stream",
     "text": [
      "Running Regression: 300 nodes\n",
      "0.6769817349892853\n",
      "Generation 4\n",
      "Performing Infection\n",
      "No Mutation This Generation\n"
     ]
    },
    {
     "data": {
      "application/vnd.jupyter.widget-view+json": {
       "model_id": "843b92c526264707bf14d1950633a33b",
       "version_major": 2,
       "version_minor": 0
      },
      "text/plain": [
       "HBox(children=(IntProgress(value=0, description='Running Simulation ', max=5000, style=ProgressStyle(descripti…"
      ]
     },
     "metadata": {},
     "output_type": "display_data"
    },
    {
     "name": "stdout",
     "output_type": "stream",
     "text": [
      "Running Regression: 300 nodes\n",
      "0.6769817349892853\n",
      "Generation 5\n",
      "No Infection This Generation\n",
      "No Mutation This Generation\n"
     ]
    },
    {
     "data": {
      "application/vnd.jupyter.widget-view+json": {
       "model_id": "ae883f9da4184ed3be88b72f8e2befc4",
       "version_major": 2,
       "version_minor": 0
      },
      "text/plain": [
       "HBox(children=(IntProgress(value=0, description='Running Simulation ', max=5000, style=ProgressStyle(descripti…"
      ]
     },
     "metadata": {},
     "output_type": "display_data"
    },
    {
     "name": "stdout",
     "output_type": "stream",
     "text": [
      "Running Regression: 300 nodes\n",
      "0.6777824498917425\n",
      "Generation 6\n",
      "No Infection This Generation\n",
      "No Mutation This Generation\n"
     ]
    },
    {
     "data": {
      "application/vnd.jupyter.widget-view+json": {
       "model_id": "16f01a42a1954010ad0d21c2c5ceb971",
       "version_major": 2,
       "version_minor": 0
      },
      "text/plain": [
       "HBox(children=(IntProgress(value=0, description='Running Simulation ', max=5000, style=ProgressStyle(descripti…"
      ]
     },
     "metadata": {},
     "output_type": "display_data"
    },
    {
     "name": "stdout",
     "output_type": "stream",
     "text": [
      "Running Regression: 300 nodes\n",
      "0.6777824727258591\n",
      "Generation 7\n",
      "No Infection This Generation\n",
      "No Mutation This Generation\n"
     ]
    },
    {
     "data": {
      "application/vnd.jupyter.widget-view+json": {
       "model_id": "0df8ebefc4d54b57b52fba70bd2a6479",
       "version_major": 2,
       "version_minor": 0
      },
      "text/plain": [
       "HBox(children=(IntProgress(value=0, description='Running Simulation ', max=5000, style=ProgressStyle(descripti…"
      ]
     },
     "metadata": {},
     "output_type": "display_data"
    },
    {
     "name": "stdout",
     "output_type": "stream",
     "text": [
      "Running Regression: 300 nodes\n",
      "0.6777824727258591\n",
      "Generation 8\n",
      "No Infection This Generation\n",
      "No Mutation This Generation\n"
     ]
    },
    {
     "data": {
      "application/vnd.jupyter.widget-view+json": {
       "model_id": "03f99bb783df4a2a8c5ff625eb4dab95",
       "version_major": 2,
       "version_minor": 0
      },
      "text/plain": [
       "HBox(children=(IntProgress(value=0, description='Running Simulation ', max=5000, style=ProgressStyle(descripti…"
      ]
     },
     "metadata": {},
     "output_type": "display_data"
    },
    {
     "name": "stdout",
     "output_type": "stream",
     "text": [
      "Running Regression: 300 nodes\n",
      "0.6777824727258591\n",
      "Generation 9\n",
      "Performing Infection\n",
      "No Mutation This Generation\n"
     ]
    },
    {
     "data": {
      "application/vnd.jupyter.widget-view+json": {
       "model_id": "0abef79e31c94879a52d8b6ab64d4ef0",
       "version_major": 2,
       "version_minor": 0
      },
      "text/plain": [
       "HBox(children=(IntProgress(value=0, description='Running Simulation ', max=5000, style=ProgressStyle(descripti…"
      ]
     },
     "metadata": {},
     "output_type": "display_data"
    },
    {
     "name": "stdout",
     "output_type": "stream",
     "text": [
      "Running Regression: 300 nodes\n",
      "0.6777824727258591\n",
      "Generation 10\n",
      "Performing Infection\n",
      "No Mutation This Generation\n"
     ]
    },
    {
     "data": {
      "application/vnd.jupyter.widget-view+json": {
       "model_id": "0f2b764ecdb546e581764bc68922fafd",
       "version_major": 2,
       "version_minor": 0
      },
      "text/plain": [
       "HBox(children=(IntProgress(value=0, description='Running Simulation ', max=5000, style=ProgressStyle(descripti…"
      ]
     },
     "metadata": {},
     "output_type": "display_data"
    },
    {
     "name": "stdout",
     "output_type": "stream",
     "text": [
      "Running Regression: 300 nodes\n",
      "0.6777824727258591\n",
      "Generation 11\n",
      "No Infection This Generation\n",
      "No Mutation This Generation\n"
     ]
    },
    {
     "data": {
      "application/vnd.jupyter.widget-view+json": {
       "model_id": "df0e432829494c4191a26fef97c9b473",
       "version_major": 2,
       "version_minor": 0
      },
      "text/plain": [
       "HBox(children=(IntProgress(value=0, description='Running Simulation ', max=5000, style=ProgressStyle(descripti…"
      ]
     },
     "metadata": {},
     "output_type": "display_data"
    },
    {
     "name": "stdout",
     "output_type": "stream",
     "text": [
      "Running Regression: 300 nodes\n",
      "0.6777824727258591\n",
      "Generation 12\n",
      "Performing Infection\n",
      "Mutating Chosen Network\n",
      "Adding Edges\n"
     ]
    },
    {
     "data": {
      "application/vnd.jupyter.widget-view+json": {
       "model_id": "c31c3a6dff294255934a43a89f354c2f",
       "version_major": 2,
       "version_minor": 0
      },
      "text/plain": [
       "HBox(children=(IntProgress(value=0, description='Running Simulation ', max=5000, style=ProgressStyle(descripti…"
      ]
     },
     "metadata": {},
     "output_type": "display_data"
    },
    {
     "name": "stdout",
     "output_type": "stream",
     "text": [
      "Running Regression: 300 nodes\n",
      "0.6777824727258591\n",
      "Generation 13\n",
      "Performing Infection\n",
      "No Mutation This Generation\n"
     ]
    },
    {
     "data": {
      "application/vnd.jupyter.widget-view+json": {
       "model_id": "a62bb1509ae640c9967d4d78e4c94aa5",
       "version_major": 2,
       "version_minor": 0
      },
      "text/plain": [
       "HBox(children=(IntProgress(value=0, description='Running Simulation ', max=5000, style=ProgressStyle(descripti…"
      ]
     },
     "metadata": {},
     "output_type": "display_data"
    },
    {
     "name": "stdout",
     "output_type": "stream",
     "text": [
      "Running Regression: 300 nodes\n",
      "0.6777824727258591\n",
      "Generation 14\n",
      "Performing Infection\n",
      "No Mutation This Generation\n"
     ]
    },
    {
     "data": {
      "application/vnd.jupyter.widget-view+json": {
       "model_id": "931f91d689464e4e862c6b79fd79f562",
       "version_major": 2,
       "version_minor": 0
      },
      "text/plain": [
       "HBox(children=(IntProgress(value=0, description='Running Simulation ', max=5000, style=ProgressStyle(descripti…"
      ]
     },
     "metadata": {},
     "output_type": "display_data"
    },
    {
     "name": "stdout",
     "output_type": "stream",
     "text": [
      "Running Regression: 300 nodes\n",
      "0.6777824727258591\n",
      "Generation 15\n",
      "No Infection This Generation\n",
      "Mutating Chosen Network\n",
      "Adding Edges\n"
     ]
    },
    {
     "data": {
      "application/vnd.jupyter.widget-view+json": {
       "model_id": "461c8416d9c04a8fbc41a29184b3b825",
       "version_major": 2,
       "version_minor": 0
      },
      "text/plain": [
       "HBox(children=(IntProgress(value=0, description='Running Simulation ', max=5000, style=ProgressStyle(descripti…"
      ]
     },
     "metadata": {},
     "output_type": "display_data"
    },
    {
     "name": "stdout",
     "output_type": "stream",
     "text": [
      "Running Regression: 300 nodes\n",
      "0.6777824614786506\n",
      "Generation 16\n",
      "No Infection This Generation\n",
      "No Mutation This Generation\n"
     ]
    },
    {
     "data": {
      "application/vnd.jupyter.widget-view+json": {
       "model_id": "e428724f208041bab9a47e1f7f21eee0",
       "version_major": 2,
       "version_minor": 0
      },
      "text/plain": [
       "HBox(children=(IntProgress(value=0, description='Running Simulation ', max=5000, style=ProgressStyle(descripti…"
      ]
     },
     "metadata": {},
     "output_type": "display_data"
    },
    {
     "name": "stdout",
     "output_type": "stream",
     "text": [
      "Running Regression: 300 nodes\n",
      "0.6777824614786506\n",
      "Generation 17\n",
      "No Infection This Generation\n",
      "No Mutation This Generation\n"
     ]
    },
    {
     "data": {
      "application/vnd.jupyter.widget-view+json": {
       "model_id": "272af5ef79a746fcb51e5607751da07e",
       "version_major": 2,
       "version_minor": 0
      },
      "text/plain": [
       "HBox(children=(IntProgress(value=0, description='Running Simulation ', max=5000, style=ProgressStyle(descripti…"
      ]
     },
     "metadata": {},
     "output_type": "display_data"
    },
    {
     "name": "stdout",
     "output_type": "stream",
     "text": [
      "Running Regression: 300 nodes\n",
      "0.6777824614786506\n",
      "Generation 18\n",
      "No Infection This Generation\n",
      "No Mutation This Generation\n"
     ]
    },
    {
     "data": {
      "application/vnd.jupyter.widget-view+json": {
       "model_id": "a6e9232895944b2281e49ff566e80eec",
       "version_major": 2,
       "version_minor": 0
      },
      "text/plain": [
       "HBox(children=(IntProgress(value=0, description='Running Simulation ', max=5000, style=ProgressStyle(descripti…"
      ]
     },
     "metadata": {},
     "output_type": "display_data"
    },
    {
     "name": "stdout",
     "output_type": "stream",
     "text": [
      "Running Regression: 300 nodes\n",
      "0.6777824614786506\n",
      "Generation 19\n",
      "No Infection This Generation\n",
      "No Mutation This Generation\n"
     ]
    },
    {
     "data": {
      "application/vnd.jupyter.widget-view+json": {
       "model_id": "c32da20e3130471da1b101279a0b9d65",
       "version_major": 2,
       "version_minor": 0
      },
      "text/plain": [
       "HBox(children=(IntProgress(value=0, description='Running Simulation ', max=5000, style=ProgressStyle(descripti…"
      ]
     },
     "metadata": {},
     "output_type": "display_data"
    },
    {
     "name": "stdout",
     "output_type": "stream",
     "text": [
      "Running Regression: 300 nodes\n",
      "0.6777824614786506\n",
      "Generation 20\n",
      "Performing Infection\n",
      "No Mutation This Generation\n"
     ]
    },
    {
     "data": {
      "application/vnd.jupyter.widget-view+json": {
       "model_id": "7c05924e8f294f46bbd198b4250455ae",
       "version_major": 2,
       "version_minor": 0
      },
      "text/plain": [
       "HBox(children=(IntProgress(value=0, description='Running Simulation ', max=5000, style=ProgressStyle(descripti…"
      ]
     },
     "metadata": {},
     "output_type": "display_data"
    },
    {
     "name": "stdout",
     "output_type": "stream",
     "text": [
      "Running Regression: 300 nodes\n",
      "0.6777824614786506\n",
      "Generation 21\n",
      "Performing Infection\n",
      "No Mutation This Generation\n"
     ]
    },
    {
     "data": {
      "application/vnd.jupyter.widget-view+json": {
       "model_id": "de0fad103d4843c99984f6fa5c046876",
       "version_major": 2,
       "version_minor": 0
      },
      "text/plain": [
       "HBox(children=(IntProgress(value=0, description='Running Simulation ', max=5000, style=ProgressStyle(descripti…"
      ]
     },
     "metadata": {},
     "output_type": "display_data"
    },
    {
     "name": "stdout",
     "output_type": "stream",
     "text": [
      "Running Regression: 300 nodes\n",
      "0.6777824614786506\n",
      "Generation 22\n",
      "Performing Infection\n",
      "Mutating Chosen Network\n",
      "Removing Edges\n"
     ]
    },
    {
     "data": {
      "application/vnd.jupyter.widget-view+json": {
       "model_id": "631611bfd8f84aab9a69808087d86b84",
       "version_major": 2,
       "version_minor": 0
      },
      "text/plain": [
       "HBox(children=(IntProgress(value=0, description='Running Simulation ', max=5000, style=ProgressStyle(descripti…"
      ]
     },
     "metadata": {},
     "output_type": "display_data"
    },
    {
     "name": "stdout",
     "output_type": "stream",
     "text": [
      "Running Regression: 300 nodes\n",
      "0.6777824614786506\n",
      "Generation 23\n",
      "Performing Infection\n",
      "No Mutation This Generation\n"
     ]
    },
    {
     "data": {
      "application/vnd.jupyter.widget-view+json": {
       "model_id": "328f5f4dc8d546079a31a476dd86dbee",
       "version_major": 2,
       "version_minor": 0
      },
      "text/plain": [
       "HBox(children=(IntProgress(value=0, description='Running Simulation ', max=5000, style=ProgressStyle(descripti…"
      ]
     },
     "metadata": {},
     "output_type": "display_data"
    },
    {
     "name": "stdout",
     "output_type": "stream",
     "text": [
      "Running Regression: 300 nodes\n",
      "0.6777824614786506\n",
      "Generation 24\n",
      "No Infection This Generation\n",
      "Mutating Chosen Network\n",
      "Removing Edges\n"
     ]
    },
    {
     "data": {
      "application/vnd.jupyter.widget-view+json": {
       "model_id": "4efa8cf113484da985202bd5ad59a8d6",
       "version_major": 2,
       "version_minor": 0
      },
      "text/plain": [
       "HBox(children=(IntProgress(value=0, description='Running Simulation ', max=5000, style=ProgressStyle(descripti…"
      ]
     },
     "metadata": {},
     "output_type": "display_data"
    },
    {
     "name": "stdout",
     "output_type": "stream",
     "text": [
      "Running Regression: 300 nodes\n",
      "0.6777824614786506\n",
      "Generation 25\n",
      "No Infection This Generation\n",
      "Mutating Chosen Network\n",
      "Adding Edges\n"
     ]
    },
    {
     "data": {
      "application/vnd.jupyter.widget-view+json": {
       "model_id": "c7f320e88d8c497c8b37d1a7f4a7fc0a",
       "version_major": 2,
       "version_minor": 0
      },
      "text/plain": [
       "HBox(children=(IntProgress(value=0, description='Running Simulation ', max=5000, style=ProgressStyle(descripti…"
      ]
     },
     "metadata": {},
     "output_type": "display_data"
    },
    {
     "name": "stdout",
     "output_type": "stream",
     "text": [
      "Running Regression: 300 nodes\n",
      "0.6777824614786506\n",
      "Generation 26\n",
      "No Infection This Generation\n",
      "No Mutation This Generation\n"
     ]
    },
    {
     "data": {
      "application/vnd.jupyter.widget-view+json": {
       "model_id": "aac6184eebd44c899bd510b90ba519dc",
       "version_major": 2,
       "version_minor": 0
      },
      "text/plain": [
       "HBox(children=(IntProgress(value=0, description='Running Simulation ', max=5000, style=ProgressStyle(descripti…"
      ]
     },
     "metadata": {},
     "output_type": "display_data"
    },
    {
     "name": "stdout",
     "output_type": "stream",
     "text": [
      "Running Regression: 300 nodes\n",
      "0.6777824614786506\n",
      "Generation 27\n",
      "Performing Infection\n",
      "No Mutation This Generation\n"
     ]
    },
    {
     "data": {
      "application/vnd.jupyter.widget-view+json": {
       "model_id": "d82ce175419749fa966730c6cba0dcca",
       "version_major": 2,
       "version_minor": 0
      },
      "text/plain": [
       "HBox(children=(IntProgress(value=0, description='Running Simulation ', max=5000, style=ProgressStyle(descripti…"
      ]
     },
     "metadata": {},
     "output_type": "display_data"
    },
    {
     "name": "stdout",
     "output_type": "stream",
     "text": [
      "Running Regression: 300 nodes\n",
      "0.6777824614786506\n",
      "Generation 28\n",
      "No Infection This Generation\n",
      "Mutating Chosen Network\n",
      "Removing Edges\n"
     ]
    },
    {
     "data": {
      "application/vnd.jupyter.widget-view+json": {
       "model_id": "07f181eaa6854a0c87fb2bad47cf4a76",
       "version_major": 2,
       "version_minor": 0
      },
      "text/plain": [
       "HBox(children=(IntProgress(value=0, description='Running Simulation ', max=5000, style=ProgressStyle(descripti…"
      ]
     },
     "metadata": {},
     "output_type": "display_data"
    },
    {
     "name": "stdout",
     "output_type": "stream",
     "text": [
      "Running Regression: 300 nodes\n",
      "0.6789740621879815\n",
      "Generation 29\n",
      "No Infection This Generation\n",
      "No Mutation This Generation\n"
     ]
    },
    {
     "data": {
      "application/vnd.jupyter.widget-view+json": {
       "model_id": "5cf10a9b5754474a8bc9ee33dc948100",
       "version_major": 2,
       "version_minor": 0
      },
      "text/plain": [
       "HBox(children=(IntProgress(value=0, description='Running Simulation ', max=5000, style=ProgressStyle(descripti…"
      ]
     },
     "metadata": {},
     "output_type": "display_data"
    },
    {
     "name": "stdout",
     "output_type": "stream",
     "text": [
      "Running Regression: 300 nodes\n",
      "0.6789740621879815\n",
      "Generation 30\n",
      "No Infection This Generation\n",
      "No Mutation This Generation\n"
     ]
    },
    {
     "data": {
      "application/vnd.jupyter.widget-view+json": {
       "model_id": "227d90b1dd58438dbbfb5eb11872c602",
       "version_major": 2,
       "version_minor": 0
      },
      "text/plain": [
       "HBox(children=(IntProgress(value=0, description='Running Simulation ', max=5000, style=ProgressStyle(descripti…"
      ]
     },
     "metadata": {},
     "output_type": "display_data"
    },
    {
     "name": "stdout",
     "output_type": "stream",
     "text": [
      "Running Regression: 300 nodes\n",
      "0.6789740235753271\n",
      "Generation 31\n",
      "Performing Infection\n",
      "No Mutation This Generation\n"
     ]
    },
    {
     "data": {
      "application/vnd.jupyter.widget-view+json": {
       "model_id": "65196eba65c34af9af8b95966429c858",
       "version_major": 2,
       "version_minor": 0
      },
      "text/plain": [
       "HBox(children=(IntProgress(value=0, description='Running Simulation ', max=5000, style=ProgressStyle(descripti…"
      ]
     },
     "metadata": {},
     "output_type": "display_data"
    },
    {
     "name": "stdout",
     "output_type": "stream",
     "text": [
      "Running Regression: 300 nodes\n",
      "0.6789740235753271\n",
      "Generation 32\n",
      "No Infection This Generation\n",
      "Mutating Chosen Network\n",
      "Adding Edges\n"
     ]
    },
    {
     "data": {
      "application/vnd.jupyter.widget-view+json": {
       "model_id": "2227b75c72bf4a978904b7b33e16a90c",
       "version_major": 2,
       "version_minor": 0
      },
      "text/plain": [
       "HBox(children=(IntProgress(value=0, description='Running Simulation ', max=5000, style=ProgressStyle(descripti…"
      ]
     },
     "metadata": {},
     "output_type": "display_data"
    },
    {
     "name": "stdout",
     "output_type": "stream",
     "text": [
      "Running Regression: 300 nodes\n",
      "0.6789740235753271\n",
      "Generation 33\n",
      "No Infection This Generation\n",
      "Mutating Chosen Network\n",
      "Adding Edges\n"
     ]
    },
    {
     "data": {
      "application/vnd.jupyter.widget-view+json": {
       "model_id": "15a0357ddb80443c8b796570d7d453d2",
       "version_major": 2,
       "version_minor": 0
      },
      "text/plain": [
       "HBox(children=(IntProgress(value=0, description='Running Simulation ', max=5000, style=ProgressStyle(descripti…"
      ]
     },
     "metadata": {},
     "output_type": "display_data"
    },
    {
     "name": "stdout",
     "output_type": "stream",
     "text": [
      "Running Regression: 300 nodes\n",
      "0.6789740235753271\n",
      "Generation 34\n",
      "Performing Infection\n",
      "No Mutation This Generation\n"
     ]
    },
    {
     "data": {
      "application/vnd.jupyter.widget-view+json": {
       "model_id": "39188f67ece249ee8649dd6f90804081",
       "version_major": 2,
       "version_minor": 0
      },
      "text/plain": [
       "HBox(children=(IntProgress(value=0, description='Running Simulation ', max=5000, style=ProgressStyle(descripti…"
      ]
     },
     "metadata": {},
     "output_type": "display_data"
    },
    {
     "name": "stdout",
     "output_type": "stream",
     "text": [
      "Running Regression: 300 nodes\n",
      "0.6789740235753271\n",
      "Generation 35\n",
      "Performing Infection\n",
      "Mutating Chosen Network\n",
      "Removing Edges\n"
     ]
    },
    {
     "data": {
      "application/vnd.jupyter.widget-view+json": {
       "model_id": "ca36ebb737b64ae8bb8690515d539b56",
       "version_major": 2,
       "version_minor": 0
      },
      "text/plain": [
       "HBox(children=(IntProgress(value=0, description='Running Simulation ', max=5000, style=ProgressStyle(descripti…"
      ]
     },
     "metadata": {},
     "output_type": "display_data"
    },
    {
     "name": "stdout",
     "output_type": "stream",
     "text": [
      "Running Regression: 300 nodes\n",
      "0.6789740235753271\n",
      "Generation 36\n",
      "Performing Infection\n",
      "No Mutation This Generation\n"
     ]
    },
    {
     "data": {
      "application/vnd.jupyter.widget-view+json": {
       "model_id": "832cfb7a6ff0461e937642fb53549456",
       "version_major": 2,
       "version_minor": 0
      },
      "text/plain": [
       "HBox(children=(IntProgress(value=0, description='Running Simulation ', max=5000, style=ProgressStyle(descripti…"
      ]
     },
     "metadata": {},
     "output_type": "display_data"
    },
    {
     "name": "stdout",
     "output_type": "stream",
     "text": [
      "Running Regression: 300 nodes\n",
      "0.6789740235753271\n",
      "Generation 37\n",
      "Performing Infection\n",
      "No Mutation This Generation\n"
     ]
    },
    {
     "data": {
      "application/vnd.jupyter.widget-view+json": {
       "model_id": "f1c9898428bf47b4bb5b0e8c0406685d",
       "version_major": 2,
       "version_minor": 0
      },
      "text/plain": [
       "HBox(children=(IntProgress(value=0, description='Running Simulation ', max=5000, style=ProgressStyle(descripti…"
      ]
     },
     "metadata": {},
     "output_type": "display_data"
    },
    {
     "name": "stdout",
     "output_type": "stream",
     "text": [
      "Running Regression: 300 nodes\n",
      "0.6789740235753271\n",
      "Generation 38\n",
      "No Infection This Generation\n",
      "No Mutation This Generation\n"
     ]
    },
    {
     "data": {
      "application/vnd.jupyter.widget-view+json": {
       "model_id": "409a3d055f2f47299c6e1df6b297b682",
       "version_major": 2,
       "version_minor": 0
      },
      "text/plain": [
       "HBox(children=(IntProgress(value=0, description='Running Simulation ', max=5000, style=ProgressStyle(descripti…"
      ]
     },
     "metadata": {},
     "output_type": "display_data"
    },
    {
     "name": "stdout",
     "output_type": "stream",
     "text": [
      "Running Regression: 300 nodes\n",
      "0.6789740235753271\n",
      "Generation 39\n",
      "No Infection This Generation\n",
      "Mutating Chosen Network\n",
      "Adding Edges\n"
     ]
    },
    {
     "data": {
      "application/vnd.jupyter.widget-view+json": {
       "model_id": "0f4e43e8b1c248e29513aae16088fa16",
       "version_major": 2,
       "version_minor": 0
      },
      "text/plain": [
       "HBox(children=(IntProgress(value=0, description='Running Simulation ', max=5000, style=ProgressStyle(descripti…"
      ]
     },
     "metadata": {},
     "output_type": "display_data"
    },
    {
     "name": "stdout",
     "output_type": "stream",
     "text": [
      "Running Regression: 300 nodes\n",
      "0.6777824531782373\n",
      "Generation 40\n",
      "No Infection This Generation\n",
      "No Mutation This Generation\n"
     ]
    },
    {
     "data": {
      "application/vnd.jupyter.widget-view+json": {
       "model_id": "7d4e55e9c7fd420896906bf76fb570ed",
       "version_major": 2,
       "version_minor": 0
      },
      "text/plain": [
       "HBox(children=(IntProgress(value=0, description='Running Simulation ', max=5000, style=ProgressStyle(descripti…"
      ]
     },
     "metadata": {},
     "output_type": "display_data"
    },
    {
     "name": "stdout",
     "output_type": "stream",
     "text": [
      "Running Regression: 300 nodes\n",
      "0.6777824531782373\n",
      "Generation 41\n",
      "Performing Infection\n",
      "No Mutation This Generation\n"
     ]
    },
    {
     "data": {
      "application/vnd.jupyter.widget-view+json": {
       "model_id": "b445a72e6b6b478d9f9a8bc0e76216c0",
       "version_major": 2,
       "version_minor": 0
      },
      "text/plain": [
       "HBox(children=(IntProgress(value=0, description='Running Simulation ', max=5000, style=ProgressStyle(descripti…"
      ]
     },
     "metadata": {},
     "output_type": "display_data"
    },
    {
     "name": "stdout",
     "output_type": "stream",
     "text": [
      "Running Regression: 300 nodes\n",
      "0.6777824531782373\n",
      "Generation 42\n",
      "Performing Infection\n",
      "No Mutation This Generation\n"
     ]
    },
    {
     "data": {
      "application/vnd.jupyter.widget-view+json": {
       "model_id": "fe34f18beb224126aded5b5d1b6030a3",
       "version_major": 2,
       "version_minor": 0
      },
      "text/plain": [
       "HBox(children=(IntProgress(value=0, description='Running Simulation ', max=5000, style=ProgressStyle(descripti…"
      ]
     },
     "metadata": {},
     "output_type": "display_data"
    },
    {
     "name": "stdout",
     "output_type": "stream",
     "text": [
      "Running Regression: 300 nodes\n",
      "0.6777824531782373\n",
      "Generation 43\n",
      "No Infection This Generation\n",
      "Mutating Chosen Network\n",
      "Adding Edges\n"
     ]
    },
    {
     "data": {
      "application/vnd.jupyter.widget-view+json": {
       "model_id": "2d1f5f56e8774c9ab793d3d2f2f062d2",
       "version_major": 2,
       "version_minor": 0
      },
      "text/plain": [
       "HBox(children=(IntProgress(value=0, description='Running Simulation ', max=5000, style=ProgressStyle(descripti…"
      ]
     },
     "metadata": {},
     "output_type": "display_data"
    },
    {
     "name": "stdout",
     "output_type": "stream",
     "text": [
      "Running Regression: 300 nodes\n",
      "0.6777824531782373\n",
      "Generation 44\n",
      "No Infection This Generation\n",
      "No Mutation This Generation\n"
     ]
    },
    {
     "data": {
      "application/vnd.jupyter.widget-view+json": {
       "model_id": "81e42ef95b2b4604ba47d45c21d7afd2",
       "version_major": 2,
       "version_minor": 0
      },
      "text/plain": [
       "HBox(children=(IntProgress(value=0, description='Running Simulation ', max=5000, style=ProgressStyle(descripti…"
      ]
     },
     "metadata": {},
     "output_type": "display_data"
    },
    {
     "name": "stdout",
     "output_type": "stream",
     "text": [
      "Running Regression: 300 nodes\n",
      "0.67778245478836\n",
      "Generation 45\n",
      "No Infection This Generation\n",
      "Mutating Chosen Network\n",
      "Removing Edges\n"
     ]
    },
    {
     "data": {
      "application/vnd.jupyter.widget-view+json": {
       "model_id": "f9e5f5dbf63b4cc3b24859d8ea3e13c1",
       "version_major": 2,
       "version_minor": 0
      },
      "text/plain": [
       "HBox(children=(IntProgress(value=0, description='Running Simulation ', max=5000, style=ProgressStyle(descripti…"
      ]
     },
     "metadata": {},
     "output_type": "display_data"
    },
    {
     "name": "stdout",
     "output_type": "stream",
     "text": [
      "Running Regression: 300 nodes\n",
      "0.67778245478836\n",
      "Generation 46\n",
      "Performing Infection\n",
      "No Mutation This Generation\n"
     ]
    },
    {
     "data": {
      "application/vnd.jupyter.widget-view+json": {
       "model_id": "40f7ee859f7b4b1db5671479c4fd2528",
       "version_major": 2,
       "version_minor": 0
      },
      "text/plain": [
       "HBox(children=(IntProgress(value=0, description='Running Simulation ', max=5000, style=ProgressStyle(descripti…"
      ]
     },
     "metadata": {},
     "output_type": "display_data"
    },
    {
     "name": "stdout",
     "output_type": "stream",
     "text": [
      "Running Regression: 300 nodes\n",
      "0.67778245478836\n",
      "Generation 47\n",
      "Performing Infection\n",
      "No Mutation This Generation\n"
     ]
    },
    {
     "data": {
      "application/vnd.jupyter.widget-view+json": {
       "model_id": "89c6df99edf2456f98ff2781a550f2b5",
       "version_major": 2,
       "version_minor": 0
      },
      "text/plain": [
       "HBox(children=(IntProgress(value=0, description='Running Simulation ', max=5000, style=ProgressStyle(descripti…"
      ]
     },
     "metadata": {},
     "output_type": "display_data"
    },
    {
     "name": "stdout",
     "output_type": "stream",
     "text": [
      "Running Regression: 300 nodes\n",
      "0.67778245478836\n",
      "Generation 48\n",
      "Performing Infection\n",
      "No Mutation This Generation\n"
     ]
    },
    {
     "data": {
      "application/vnd.jupyter.widget-view+json": {
       "model_id": "0f992cc5cb8a4609b966e69b41cf336f",
       "version_major": 2,
       "version_minor": 0
      },
      "text/plain": [
       "HBox(children=(IntProgress(value=0, description='Running Simulation ', max=5000, style=ProgressStyle(descripti…"
      ]
     },
     "metadata": {},
     "output_type": "display_data"
    },
    {
     "name": "stdout",
     "output_type": "stream",
     "text": [
      "Running Regression: 300 nodes\n",
      "0.67778245478836\n",
      "Generation 49\n",
      "Performing Infection\n",
      "No Mutation This Generation\n"
     ]
    },
    {
     "data": {
      "application/vnd.jupyter.widget-view+json": {
       "model_id": "e00fd724da764be39618ddad26ab2d93",
       "version_major": 2,
       "version_minor": 0
      },
      "text/plain": [
       "HBox(children=(IntProgress(value=0, description='Running Simulation ', max=5000, style=ProgressStyle(descripti…"
      ]
     },
     "metadata": {},
     "output_type": "display_data"
    },
    {
     "name": "stdout",
     "output_type": "stream",
     "text": [
      "Running Regression: 300 nodes\n",
      "0.67778245478836\n",
      "Generation 50\n",
      "No Infection This Generation\n",
      "No Mutation This Generation\n"
     ]
    },
    {
     "data": {
      "application/vnd.jupyter.widget-view+json": {
       "model_id": "c0f9484ad9c44b5ea9c8cf8cf0837fdf",
       "version_major": 2,
       "version_minor": 0
      },
      "text/plain": [
       "HBox(children=(IntProgress(value=0, description='Running Simulation ', max=5000, style=ProgressStyle(descripti…"
      ]
     },
     "metadata": {},
     "output_type": "display_data"
    },
    {
     "name": "stdout",
     "output_type": "stream",
     "text": [
      "Running Regression: 300 nodes\n",
      "0.677782454749197\n",
      "Generation 51\n",
      "No Infection This Generation\n",
      "No Mutation This Generation\n"
     ]
    },
    {
     "data": {
      "application/vnd.jupyter.widget-view+json": {
       "model_id": "0c41fc8c6d9a4d1281a7f1217805c2fd",
       "version_major": 2,
       "version_minor": 0
      },
      "text/plain": [
       "HBox(children=(IntProgress(value=0, description='Running Simulation ', max=5000, style=ProgressStyle(descripti…"
      ]
     },
     "metadata": {},
     "output_type": "display_data"
    },
    {
     "name": "stdout",
     "output_type": "stream",
     "text": [
      "Running Regression: 300 nodes\n",
      "0.6777824496246277\n",
      "Generation 52\n",
      "No Infection This Generation\n",
      "Mutating Chosen Network\n",
      "Adding Edges\n"
     ]
    },
    {
     "data": {
      "application/vnd.jupyter.widget-view+json": {
       "model_id": "52b0ec8998e64383b8e5fa5581673955",
       "version_major": 2,
       "version_minor": 0
      },
      "text/plain": [
       "HBox(children=(IntProgress(value=0, description='Running Simulation ', max=5000, style=ProgressStyle(descripti…"
      ]
     },
     "metadata": {},
     "output_type": "display_data"
    },
    {
     "name": "stdout",
     "output_type": "stream",
     "text": [
      "Running Regression: 300 nodes\n",
      "0.6777824496246277\n",
      "Generation 53\n",
      "Performing Infection\n",
      "No Mutation This Generation\n"
     ]
    },
    {
     "data": {
      "application/vnd.jupyter.widget-view+json": {
       "model_id": "7c2eb2387e9a46359b3218c4b9611db8",
       "version_major": 2,
       "version_minor": 0
      },
      "text/plain": [
       "HBox(children=(IntProgress(value=0, description='Running Simulation ', max=5000, style=ProgressStyle(descripti…"
      ]
     },
     "metadata": {},
     "output_type": "display_data"
    },
    {
     "name": "stdout",
     "output_type": "stream",
     "text": [
      "Running Regression: 300 nodes\n",
      "0.6777824496246277\n",
      "Generation 54\n",
      "No Infection This Generation\n",
      "No Mutation This Generation\n"
     ]
    },
    {
     "data": {
      "application/vnd.jupyter.widget-view+json": {
       "model_id": "17a85e19f8ee430c8cbff1d60ece7bff",
       "version_major": 2,
       "version_minor": 0
      },
      "text/plain": [
       "HBox(children=(IntProgress(value=0, description='Running Simulation ', max=5000, style=ProgressStyle(descripti…"
      ]
     },
     "metadata": {},
     "output_type": "display_data"
    },
    {
     "name": "stdout",
     "output_type": "stream",
     "text": [
      "Running Regression: 300 nodes\n",
      "0.6777824583741233\n",
      "Generation 55\n",
      "No Infection This Generation\n",
      "Mutating Chosen Network\n",
      "Adding Edges\n"
     ]
    },
    {
     "data": {
      "application/vnd.jupyter.widget-view+json": {
       "model_id": "4ec53f48b1a94da9a13232bd1fe274a7",
       "version_major": 2,
       "version_minor": 0
      },
      "text/plain": [
       "HBox(children=(IntProgress(value=0, description='Running Simulation ', max=5000, style=ProgressStyle(descripti…"
      ]
     },
     "metadata": {},
     "output_type": "display_data"
    },
    {
     "name": "stdout",
     "output_type": "stream",
     "text": [
      "Running Regression: 300 nodes\n",
      "0.6777824583741233\n",
      "Generation 56\n",
      "No Infection This Generation\n",
      "No Mutation This Generation\n"
     ]
    },
    {
     "data": {
      "application/vnd.jupyter.widget-view+json": {
       "model_id": "c08ddf5ade4e4f48b67965c7f6b58637",
       "version_major": 2,
       "version_minor": 0
      },
      "text/plain": [
       "HBox(children=(IntProgress(value=0, description='Running Simulation ', max=5000, style=ProgressStyle(descripti…"
      ]
     },
     "metadata": {},
     "output_type": "display_data"
    },
    {
     "name": "stdout",
     "output_type": "stream",
     "text": [
      "Running Regression: 300 nodes\n",
      "0.6777824583741233\n",
      "Generation 57\n",
      "Performing Infection\n",
      "Mutating Chosen Network\n",
      "Adding Edges\n"
     ]
    },
    {
     "data": {
      "application/vnd.jupyter.widget-view+json": {
       "model_id": "ca96a2fa30234af5bda53e316de4ae6b",
       "version_major": 2,
       "version_minor": 0
      },
      "text/plain": [
       "HBox(children=(IntProgress(value=0, description='Running Simulation ', max=5000, style=ProgressStyle(descripti…"
      ]
     },
     "metadata": {},
     "output_type": "display_data"
    },
    {
     "name": "stdout",
     "output_type": "stream",
     "text": [
      "Running Regression: 300 nodes\n",
      "0.6777824583741233\n",
      "Generation 58\n",
      "No Infection This Generation\n",
      "No Mutation This Generation\n"
     ]
    },
    {
     "data": {
      "application/vnd.jupyter.widget-view+json": {
       "model_id": "c64225a33eba4abaaa8a1e197c1ab626",
       "version_major": 2,
       "version_minor": 0
      },
      "text/plain": [
       "HBox(children=(IntProgress(value=0, description='Running Simulation ', max=5000, style=ProgressStyle(descripti…"
      ]
     },
     "metadata": {},
     "output_type": "display_data"
    },
    {
     "name": "stdout",
     "output_type": "stream",
     "text": [
      "Running Regression: 300 nodes\n",
      "0.6777824583741233\n",
      "Generation 59\n",
      "No Infection This Generation\n",
      "No Mutation This Generation\n"
     ]
    },
    {
     "data": {
      "application/vnd.jupyter.widget-view+json": {
       "model_id": "ff8636d92bf64e0c8efd70580b4f5af3",
       "version_major": 2,
       "version_minor": 0
      },
      "text/plain": [
       "HBox(children=(IntProgress(value=0, description='Running Simulation ', max=5000, style=ProgressStyle(descripti…"
      ]
     },
     "metadata": {},
     "output_type": "display_data"
    },
    {
     "name": "stdout",
     "output_type": "stream",
     "text": [
      "Running Regression: 300 nodes\n",
      "0.6777824583741233\n",
      "Generation 60\n",
      "Performing Infection\n",
      "No Mutation This Generation\n"
     ]
    },
    {
     "data": {
      "application/vnd.jupyter.widget-view+json": {
       "model_id": "f2c7bf7bfbb84c519170debcbd51b143",
       "version_major": 2,
       "version_minor": 0
      },
      "text/plain": [
       "HBox(children=(IntProgress(value=0, description='Running Simulation ', max=5000, style=ProgressStyle(descripti…"
      ]
     },
     "metadata": {},
     "output_type": "display_data"
    },
    {
     "name": "stdout",
     "output_type": "stream",
     "text": [
      "Running Regression: 300 nodes\n",
      "0.6777824583741233\n",
      "Generation 61\n",
      "No Infection This Generation\n",
      "Mutating Chosen Network\n",
      "Removing Edges\n"
     ]
    },
    {
     "data": {
      "application/vnd.jupyter.widget-view+json": {
       "model_id": "1fe4b54f66534d00ac4c292c47903a5f",
       "version_major": 2,
       "version_minor": 0
      },
      "text/plain": [
       "HBox(children=(IntProgress(value=0, description='Running Simulation ', max=5000, style=ProgressStyle(descripti…"
      ]
     },
     "metadata": {},
     "output_type": "display_data"
    },
    {
     "name": "stdout",
     "output_type": "stream",
     "text": [
      "Running Regression: 300 nodes\n",
      "0.678974021142348\n",
      "Generation 62\n",
      "No Infection This Generation\n",
      "Mutating Chosen Network\n",
      "Adding Edges\n"
     ]
    },
    {
     "data": {
      "application/vnd.jupyter.widget-view+json": {
       "model_id": "5008b7d1c2ed465da2938f3d2507da91",
       "version_major": 2,
       "version_minor": 0
      },
      "text/plain": [
       "HBox(children=(IntProgress(value=0, description='Running Simulation ', max=5000, style=ProgressStyle(descripti…"
      ]
     },
     "metadata": {},
     "output_type": "display_data"
    },
    {
     "name": "stdout",
     "output_type": "stream",
     "text": [
      "Running Regression: 300 nodes\n",
      "0.678974021142348\n",
      "Generation 63\n",
      "Performing Infection\n",
      "No Mutation This Generation\n"
     ]
    },
    {
     "data": {
      "application/vnd.jupyter.widget-view+json": {
       "model_id": "7abc9ac0595642e0852e286ebb357b22",
       "version_major": 2,
       "version_minor": 0
      },
      "text/plain": [
       "HBox(children=(IntProgress(value=0, description='Running Simulation ', max=5000, style=ProgressStyle(descripti…"
      ]
     },
     "metadata": {},
     "output_type": "display_data"
    },
    {
     "name": "stdout",
     "output_type": "stream",
     "text": [
      "Running Regression: 300 nodes\n",
      "0.678974021142348\n",
      "Generation 64\n",
      "No Infection This Generation\n",
      "No Mutation This Generation\n"
     ]
    },
    {
     "data": {
      "application/vnd.jupyter.widget-view+json": {
       "model_id": "78bd775f95df4ba8a84bae46a06f52c1",
       "version_major": 2,
       "version_minor": 0
      },
      "text/plain": [
       "HBox(children=(IntProgress(value=0, description='Running Simulation ', max=5000, style=ProgressStyle(descripti…"
      ]
     },
     "metadata": {},
     "output_type": "display_data"
    },
    {
     "name": "stdout",
     "output_type": "stream",
     "text": [
      "Running Regression: 300 nodes\n",
      "0.678974021142348\n",
      "Generation 65\n",
      "No Infection This Generation\n",
      "No Mutation This Generation\n"
     ]
    },
    {
     "data": {
      "application/vnd.jupyter.widget-view+json": {
       "model_id": "9cc3aa96ba37491dad58bab6657c77aa",
       "version_major": 2,
       "version_minor": 0
      },
      "text/plain": [
       "HBox(children=(IntProgress(value=0, description='Running Simulation ', max=5000, style=ProgressStyle(descripti…"
      ]
     },
     "metadata": {},
     "output_type": "display_data"
    },
    {
     "name": "stdout",
     "output_type": "stream",
     "text": [
      "Running Regression: 300 nodes\n",
      "0.6777824525782247\n",
      "Generation 66\n",
      "Performing Infection\n",
      "No Mutation This Generation\n"
     ]
    },
    {
     "data": {
      "application/vnd.jupyter.widget-view+json": {
       "model_id": "3871aba5ff384fa0b6adf5d645aeb46f",
       "version_major": 2,
       "version_minor": 0
      },
      "text/plain": [
       "HBox(children=(IntProgress(value=0, description='Running Simulation ', max=5000, style=ProgressStyle(descripti…"
      ]
     },
     "metadata": {},
     "output_type": "display_data"
    },
    {
     "name": "stdout",
     "output_type": "stream",
     "text": [
      "Running Regression: 300 nodes\n",
      "0.6777824525782247\n",
      "Generation 67\n",
      "No Infection This Generation\n",
      "Mutating Chosen Network\n",
      "Removing Edges\n"
     ]
    },
    {
     "data": {
      "application/vnd.jupyter.widget-view+json": {
       "model_id": "9df101e612644ce0ade1de14b2de980a",
       "version_major": 2,
       "version_minor": 0
      },
      "text/plain": [
       "HBox(children=(IntProgress(value=0, description='Running Simulation ', max=5000, style=ProgressStyle(descripti…"
      ]
     },
     "metadata": {},
     "output_type": "display_data"
    },
    {
     "name": "stdout",
     "output_type": "stream",
     "text": [
      "Running Regression: 300 nodes\n",
      "0.678974021142348\n",
      "Generation 68\n",
      "No Infection This Generation\n",
      "No Mutation This Generation\n"
     ]
    },
    {
     "data": {
      "application/vnd.jupyter.widget-view+json": {
       "model_id": "c93f5723ae164699b8cdd07473ff3e3d",
       "version_major": 2,
       "version_minor": 0
      },
      "text/plain": [
       "HBox(children=(IntProgress(value=0, description='Running Simulation ', max=5000, style=ProgressStyle(descripti…"
      ]
     },
     "metadata": {},
     "output_type": "display_data"
    },
    {
     "name": "stdout",
     "output_type": "stream",
     "text": [
      "Running Regression: 300 nodes\n",
      "0.6777824507688357\n",
      "Generation 69\n",
      "Performing Infection\n",
      "Mutating Chosen Network\n",
      "Adding Edges\n"
     ]
    },
    {
     "data": {
      "application/vnd.jupyter.widget-view+json": {
       "model_id": "7dad9c075d7742878d383bc807ce97fd",
       "version_major": 2,
       "version_minor": 0
      },
      "text/plain": [
       "HBox(children=(IntProgress(value=0, description='Running Simulation ', max=5000, style=ProgressStyle(descripti…"
      ]
     },
     "metadata": {},
     "output_type": "display_data"
    },
    {
     "name": "stdout",
     "output_type": "stream",
     "text": [
      "Running Regression: 300 nodes\n",
      "0.6777824507688357\n",
      "Generation 70\n",
      "No Infection This Generation\n",
      "Mutating Chosen Network\n",
      "Removing Edges\n"
     ]
    },
    {
     "data": {
      "application/vnd.jupyter.widget-view+json": {
       "model_id": "ca356cbf50c24ac1ab23001f42f40e0d",
       "version_major": 2,
       "version_minor": 0
      },
      "text/plain": [
       "HBox(children=(IntProgress(value=0, description='Running Simulation ', max=5000, style=ProgressStyle(descripti…"
      ]
     },
     "metadata": {},
     "output_type": "display_data"
    },
    {
     "name": "stdout",
     "output_type": "stream",
     "text": [
      "Running Regression: 300 nodes\n",
      "0.6777824507688357\n",
      "Generation 71\n",
      "Performing Infection\n",
      "No Mutation This Generation\n"
     ]
    },
    {
     "data": {
      "application/vnd.jupyter.widget-view+json": {
       "model_id": "ba4b71cb86e242ceb8c3d62f0af81b80",
       "version_major": 2,
       "version_minor": 0
      },
      "text/plain": [
       "HBox(children=(IntProgress(value=0, description='Running Simulation ', max=5000, style=ProgressStyle(descripti…"
      ]
     },
     "metadata": {},
     "output_type": "display_data"
    },
    {
     "name": "stdout",
     "output_type": "stream",
     "text": [
      "Running Regression: 300 nodes\n",
      "0.6777824507688357\n",
      "Generation 72\n",
      "No Infection This Generation\n",
      "No Mutation This Generation\n"
     ]
    },
    {
     "data": {
      "application/vnd.jupyter.widget-view+json": {
       "model_id": "b38fdfdb00b842cdb1fee3a2a244414d",
       "version_major": 2,
       "version_minor": 0
      },
      "text/plain": [
       "HBox(children=(IntProgress(value=0, description='Running Simulation ', max=5000, style=ProgressStyle(descripti…"
      ]
     },
     "metadata": {},
     "output_type": "display_data"
    },
    {
     "name": "stdout",
     "output_type": "stream",
     "text": [
      "Running Regression: 300 nodes\n",
      "0.6777824507688357\n",
      "Generation 73\n",
      "Performing Infection\n",
      "Mutating Chosen Network\n",
      "Removing Edges\n"
     ]
    },
    {
     "data": {
      "application/vnd.jupyter.widget-view+json": {
       "model_id": "d37419201c7d4fe79dc8da25b751c36e",
       "version_major": 2,
       "version_minor": 0
      },
      "text/plain": [
       "HBox(children=(IntProgress(value=0, description='Running Simulation ', max=5000, style=ProgressStyle(descripti…"
      ]
     },
     "metadata": {},
     "output_type": "display_data"
    },
    {
     "name": "stdout",
     "output_type": "stream",
     "text": [
      "Running Regression: 300 nodes\n",
      "0.6777824507688357\n",
      "Generation 74\n",
      "No Infection This Generation\n",
      "Mutating Chosen Network\n",
      "Removing Edges\n"
     ]
    },
    {
     "data": {
      "application/vnd.jupyter.widget-view+json": {
       "model_id": "63615645f7b74cf9bae749911286469e",
       "version_major": 2,
       "version_minor": 0
      },
      "text/plain": [
       "HBox(children=(IntProgress(value=0, description='Running Simulation ', max=5000, style=ProgressStyle(descripti…"
      ]
     },
     "metadata": {},
     "output_type": "display_data"
    },
    {
     "name": "stdout",
     "output_type": "stream",
     "text": [
      "Running Regression: 300 nodes\n",
      "0.6777824507688357\n",
      "Generation 75\n",
      "No Infection This Generation\n",
      "No Mutation This Generation\n"
     ]
    },
    {
     "data": {
      "application/vnd.jupyter.widget-view+json": {
       "model_id": "61893b4abcc844dca1ea59845e253fd7",
       "version_major": 2,
       "version_minor": 0
      },
      "text/plain": [
       "HBox(children=(IntProgress(value=0, description='Running Simulation ', max=5000, style=ProgressStyle(descripti…"
      ]
     },
     "metadata": {},
     "output_type": "display_data"
    },
    {
     "name": "stdout",
     "output_type": "stream",
     "text": [
      "Running Regression: 300 nodes\n",
      "0.6777824507688357\n",
      "Generation 76\n",
      "No Infection This Generation\n",
      "No Mutation This Generation\n"
     ]
    },
    {
     "data": {
      "application/vnd.jupyter.widget-view+json": {
       "model_id": "d2dc6472fa3a440387f5444b00659e3e",
       "version_major": 2,
       "version_minor": 0
      },
      "text/plain": [
       "HBox(children=(IntProgress(value=0, description='Running Simulation ', max=5000, style=ProgressStyle(descripti…"
      ]
     },
     "metadata": {},
     "output_type": "display_data"
    },
    {
     "name": "stdout",
     "output_type": "stream",
     "text": [
      "Running Regression: 300 nodes\n",
      "0.6777824521796727\n",
      "Generation 77\n",
      "Performing Infection\n",
      "Mutating Chosen Network\n",
      "Removing Edges\n"
     ]
    },
    {
     "data": {
      "application/vnd.jupyter.widget-view+json": {
       "model_id": "a82d6b58afcc468593bd729c9a17361d",
       "version_major": 2,
       "version_minor": 0
      },
      "text/plain": [
       "HBox(children=(IntProgress(value=0, description='Running Simulation ', max=5000, style=ProgressStyle(descripti…"
      ]
     },
     "metadata": {},
     "output_type": "display_data"
    },
    {
     "name": "stdout",
     "output_type": "stream",
     "text": [
      "Running Regression: 300 nodes\n",
      "0.6777824521796727\n",
      "Generation 78\n",
      "Performing Infection\n",
      "No Mutation This Generation\n"
     ]
    },
    {
     "data": {
      "application/vnd.jupyter.widget-view+json": {
       "model_id": "a97f9aca44504bb6934f294063aae735",
       "version_major": 2,
       "version_minor": 0
      },
      "text/plain": [
       "HBox(children=(IntProgress(value=0, description='Running Simulation ', max=5000, style=ProgressStyle(descripti…"
      ]
     },
     "metadata": {},
     "output_type": "display_data"
    },
    {
     "name": "stdout",
     "output_type": "stream",
     "text": [
      "Running Regression: 300 nodes\n",
      "0.6777824521796727\n",
      "Generation 79\n",
      "No Infection This Generation\n",
      "Mutating Chosen Network\n",
      "Removing Edges\n"
     ]
    },
    {
     "data": {
      "application/vnd.jupyter.widget-view+json": {
       "model_id": "a6bf40499cba436ab2bfd666a590e298",
       "version_major": 2,
       "version_minor": 0
      },
      "text/plain": [
       "HBox(children=(IntProgress(value=0, description='Running Simulation ', max=5000, style=ProgressStyle(descripti…"
      ]
     },
     "metadata": {},
     "output_type": "display_data"
    },
    {
     "name": "stdout",
     "output_type": "stream",
     "text": [
      "Running Regression: 300 nodes\n",
      "0.678974021142348\n",
      "Generation 80\n",
      "Performing Infection\n",
      "Mutating Chosen Network\n",
      "Adding Edges\n"
     ]
    },
    {
     "data": {
      "application/vnd.jupyter.widget-view+json": {
       "model_id": "9b4d3b5aea7f4d2aa4088beba0bdd17e",
       "version_major": 2,
       "version_minor": 0
      },
      "text/plain": [
       "HBox(children=(IntProgress(value=0, description='Running Simulation ', max=5000, style=ProgressStyle(descripti…"
      ]
     },
     "metadata": {},
     "output_type": "display_data"
    },
    {
     "name": "stdout",
     "output_type": "stream",
     "text": [
      "Running Regression: 300 nodes\n",
      "0.678974021142348\n",
      "Generation 81\n",
      "No Infection This Generation\n",
      "No Mutation This Generation\n"
     ]
    },
    {
     "data": {
      "application/vnd.jupyter.widget-view+json": {
       "model_id": "a79873b4b22a4a7bad171970d71f8404",
       "version_major": 2,
       "version_minor": 0
      },
      "text/plain": [
       "HBox(children=(IntProgress(value=0, description='Running Simulation ', max=5000, style=ProgressStyle(descripti…"
      ]
     },
     "metadata": {},
     "output_type": "display_data"
    },
    {
     "name": "stdout",
     "output_type": "stream",
     "text": [
      "Running Regression: 300 nodes\n",
      "0.6789740667890014\n",
      "Generation 82\n",
      "No Infection This Generation\n",
      "No Mutation This Generation\n"
     ]
    },
    {
     "data": {
      "application/vnd.jupyter.widget-view+json": {
       "model_id": "d91fa3d09bd34a7baed2a4d0076078cb",
       "version_major": 2,
       "version_minor": 0
      },
      "text/plain": [
       "HBox(children=(IntProgress(value=0, description='Running Simulation ', max=5000, style=ProgressStyle(descripti…"
      ]
     },
     "metadata": {},
     "output_type": "display_data"
    },
    {
     "name": "stdout",
     "output_type": "stream",
     "text": [
      "Running Regression: 300 nodes\n",
      "0.6789740667890014\n",
      "Generation 83\n",
      "No Infection This Generation\n",
      "No Mutation This Generation\n"
     ]
    },
    {
     "data": {
      "application/vnd.jupyter.widget-view+json": {
       "model_id": "0975c7aa690b49f4bf002c394a495fe7",
       "version_major": 2,
       "version_minor": 0
      },
      "text/plain": [
       "HBox(children=(IntProgress(value=0, description='Running Simulation ', max=5000, style=ProgressStyle(descripti…"
      ]
     },
     "metadata": {},
     "output_type": "display_data"
    },
    {
     "name": "stdout",
     "output_type": "stream",
     "text": [
      "Running Regression: 300 nodes\n",
      "0.6789740667890014\n",
      "Generation 84\n",
      "No Infection This Generation\n",
      "No Mutation This Generation\n"
     ]
    },
    {
     "data": {
      "application/vnd.jupyter.widget-view+json": {
       "model_id": "89f1a63fca42448d9d88aaaea266b8d2",
       "version_major": 2,
       "version_minor": 0
      },
      "text/plain": [
       "HBox(children=(IntProgress(value=0, description='Running Simulation ', max=5000, style=ProgressStyle(descripti…"
      ]
     },
     "metadata": {},
     "output_type": "display_data"
    },
    {
     "name": "stdout",
     "output_type": "stream",
     "text": [
      "Running Regression: 300 nodes\n",
      "0.6777824548533186\n",
      "Generation 85\n",
      "No Infection This Generation\n",
      "No Mutation This Generation\n"
     ]
    },
    {
     "data": {
      "application/vnd.jupyter.widget-view+json": {
       "model_id": "3b3d32ac49814e98ae7b5a54faa4db5b",
       "version_major": 2,
       "version_minor": 0
      },
      "text/plain": [
       "HBox(children=(IntProgress(value=0, description='Running Simulation ', max=5000, style=ProgressStyle(descripti…"
      ]
     },
     "metadata": {},
     "output_type": "display_data"
    },
    {
     "name": "stdout",
     "output_type": "stream",
     "text": [
      "Running Regression: 300 nodes\n",
      "0.6777824548533186\n",
      "Generation 86\n",
      "Performing Infection\n",
      "No Mutation This Generation\n"
     ]
    },
    {
     "data": {
      "application/vnd.jupyter.widget-view+json": {
       "model_id": "8cdccdd9d22b4ddd937b7e19c308866f",
       "version_major": 2,
       "version_minor": 0
      },
      "text/plain": [
       "HBox(children=(IntProgress(value=0, description='Running Simulation ', max=5000, style=ProgressStyle(descripti…"
      ]
     },
     "metadata": {},
     "output_type": "display_data"
    },
    {
     "name": "stdout",
     "output_type": "stream",
     "text": [
      "Running Regression: 300 nodes\n",
      "0.6777824548533186\n",
      "Generation 87\n",
      "No Infection This Generation\n",
      "Mutating Chosen Network\n",
      "Removing Edges\n"
     ]
    },
    {
     "data": {
      "application/vnd.jupyter.widget-view+json": {
       "model_id": "769c5d0b09e54b709f2e396feeba287d",
       "version_major": 2,
       "version_minor": 0
      },
      "text/plain": [
       "HBox(children=(IntProgress(value=0, description='Running Simulation ', max=5000, style=ProgressStyle(descripti…"
      ]
     },
     "metadata": {},
     "output_type": "display_data"
    },
    {
     "name": "stdout",
     "output_type": "stream",
     "text": [
      "Running Regression: 300 nodes\n",
      "0.6777824548533186\n",
      "Generation 88\n",
      "Performing Infection\n",
      "Mutating Chosen Network\n",
      "Removing Edges\n"
     ]
    },
    {
     "data": {
      "application/vnd.jupyter.widget-view+json": {
       "model_id": "c5909c72a4984b23b600252e1beed46d",
       "version_major": 2,
       "version_minor": 0
      },
      "text/plain": [
       "HBox(children=(IntProgress(value=0, description='Running Simulation ', max=5000, style=ProgressStyle(descripti…"
      ]
     },
     "metadata": {},
     "output_type": "display_data"
    },
    {
     "name": "stdout",
     "output_type": "stream",
     "text": [
      "Running Regression: 300 nodes\n",
      "0.6777824548533186\n",
      "Generation 89\n",
      "No Infection This Generation\n",
      "Mutating Chosen Network\n",
      "Removing Edges\n"
     ]
    },
    {
     "data": {
      "application/vnd.jupyter.widget-view+json": {
       "model_id": "b8911e9140f04b43bb9d74ccaecf9aae",
       "version_major": 2,
       "version_minor": 0
      },
      "text/plain": [
       "HBox(children=(IntProgress(value=0, description='Running Simulation ', max=5000, style=ProgressStyle(descripti…"
      ]
     },
     "metadata": {},
     "output_type": "display_data"
    },
    {
     "name": "stdout",
     "output_type": "stream",
     "text": [
      "Running Regression: 300 nodes\n",
      "0.6777824548533186\n",
      "Generation 90\n",
      "Performing Infection\n",
      "No Mutation This Generation\n"
     ]
    },
    {
     "data": {
      "application/vnd.jupyter.widget-view+json": {
       "model_id": "bfc81961ac7647529d1aeba1c82686ee",
       "version_major": 2,
       "version_minor": 0
      },
      "text/plain": [
       "HBox(children=(IntProgress(value=0, description='Running Simulation ', max=5000, style=ProgressStyle(descripti…"
      ]
     },
     "metadata": {},
     "output_type": "display_data"
    },
    {
     "name": "stdout",
     "output_type": "stream",
     "text": [
      "Running Regression: 300 nodes\n",
      "0.6777824548533186\n",
      "Generation 91\n",
      "No Infection This Generation\n",
      "No Mutation This Generation\n"
     ]
    },
    {
     "data": {
      "application/vnd.jupyter.widget-view+json": {
       "model_id": "46e11cdf6cf0487faeda83695749f10a",
       "version_major": 2,
       "version_minor": 0
      },
      "text/plain": [
       "HBox(children=(IntProgress(value=0, description='Running Simulation ', max=5000, style=ProgressStyle(descripti…"
      ]
     },
     "metadata": {},
     "output_type": "display_data"
    },
    {
     "name": "stdout",
     "output_type": "stream",
     "text": [
      "Running Regression: 300 nodes\n",
      "0.6777824500772128\n",
      "Generation 92\n",
      "Performing Infection\n",
      "No Mutation This Generation\n"
     ]
    },
    {
     "data": {
      "application/vnd.jupyter.widget-view+json": {
       "model_id": "a25aa6b5eb76464293c1ca9417227999",
       "version_major": 2,
       "version_minor": 0
      },
      "text/plain": [
       "HBox(children=(IntProgress(value=0, description='Running Simulation ', max=5000, style=ProgressStyle(descripti…"
      ]
     },
     "metadata": {},
     "output_type": "display_data"
    },
    {
     "name": "stdout",
     "output_type": "stream",
     "text": [
      "Running Regression: 300 nodes\n",
      "0.6777824500772128\n",
      "Generation 93\n",
      "Performing Infection\n",
      "No Mutation This Generation\n"
     ]
    },
    {
     "data": {
      "application/vnd.jupyter.widget-view+json": {
       "model_id": "07a7d37824654c2eb4b50f50dc85ebc3",
       "version_major": 2,
       "version_minor": 0
      },
      "text/plain": [
       "HBox(children=(IntProgress(value=0, description='Running Simulation ', max=5000, style=ProgressStyle(descripti…"
      ]
     },
     "metadata": {},
     "output_type": "display_data"
    },
    {
     "name": "stdout",
     "output_type": "stream",
     "text": [
      "Running Regression: 300 nodes\n",
      "0.6777824500772128\n",
      "Generation 94\n",
      "Performing Infection\n",
      "Mutating Chosen Network\n",
      "Removing Edges\n"
     ]
    },
    {
     "data": {
      "application/vnd.jupyter.widget-view+json": {
       "model_id": "3e86e191daed4fa593cd5aa745cd0435",
       "version_major": 2,
       "version_minor": 0
      },
      "text/plain": [
       "HBox(children=(IntProgress(value=0, description='Running Simulation ', max=5000, style=ProgressStyle(descripti…"
      ]
     },
     "metadata": {},
     "output_type": "display_data"
    },
    {
     "name": "stdout",
     "output_type": "stream",
     "text": [
      "Running Regression: 300 nodes\n",
      "0.6777824500772128\n",
      "Generation 95\n",
      "Performing Infection\n",
      "No Mutation This Generation\n"
     ]
    },
    {
     "data": {
      "application/vnd.jupyter.widget-view+json": {
       "model_id": "6f991bcb3f8046999af376370523e8f6",
       "version_major": 2,
       "version_minor": 0
      },
      "text/plain": [
       "HBox(children=(IntProgress(value=0, description='Running Simulation ', max=5000, style=ProgressStyle(descripti…"
      ]
     },
     "metadata": {},
     "output_type": "display_data"
    },
    {
     "name": "stdout",
     "output_type": "stream",
     "text": [
      "Running Regression: 300 nodes\n",
      "0.6777824500772128\n",
      "Generation 96\n",
      "Performing Infection\n",
      "No Mutation This Generation\n"
     ]
    },
    {
     "data": {
      "application/vnd.jupyter.widget-view+json": {
       "model_id": "8aa3402c61764f27b39830a0199afd7a",
       "version_major": 2,
       "version_minor": 0
      },
      "text/plain": [
       "HBox(children=(IntProgress(value=0, description='Running Simulation ', max=5000, style=ProgressStyle(descripti…"
      ]
     },
     "metadata": {},
     "output_type": "display_data"
    },
    {
     "name": "stdout",
     "output_type": "stream",
     "text": [
      "Running Regression: 300 nodes\n",
      "0.6777824500772128\n",
      "Generation 97\n",
      "No Infection This Generation\n",
      "No Mutation This Generation\n"
     ]
    },
    {
     "data": {
      "application/vnd.jupyter.widget-view+json": {
       "model_id": "223cddc3fd7244bcb9f7edf5517a2132",
       "version_major": 2,
       "version_minor": 0
      },
      "text/plain": [
       "HBox(children=(IntProgress(value=0, description='Running Simulation ', max=5000, style=ProgressStyle(descripti…"
      ]
     },
     "metadata": {},
     "output_type": "display_data"
    },
    {
     "name": "stdout",
     "output_type": "stream",
     "text": [
      "Running Regression: 300 nodes\n",
      "0.6777824505145817\n",
      "Generation 98\n",
      "No Infection This Generation\n",
      "No Mutation This Generation\n"
     ]
    },
    {
     "data": {
      "application/vnd.jupyter.widget-view+json": {
       "model_id": "ec392edac49b49c0bbaee331c49302fd",
       "version_major": 2,
       "version_minor": 0
      },
      "text/plain": [
       "HBox(children=(IntProgress(value=0, description='Running Simulation ', max=5000, style=ProgressStyle(descripti…"
      ]
     },
     "metadata": {},
     "output_type": "display_data"
    },
    {
     "name": "stdout",
     "output_type": "stream",
     "text": [
      "Running Regression: 300 nodes\n",
      "0.6777824505145817\n",
      "Generation 99\n",
      "Performing Infection\n",
      "Mutating Chosen Network\n",
      "Adding Edges\n"
     ]
    },
    {
     "data": {
      "application/vnd.jupyter.widget-view+json": {
       "model_id": "c330e35017f84d82b887d618b4808a06",
       "version_major": 2,
       "version_minor": 0
      },
      "text/plain": [
       "HBox(children=(IntProgress(value=0, description='Running Simulation ', max=5000, style=ProgressStyle(descripti…"
      ]
     },
     "metadata": {},
     "output_type": "display_data"
    },
    {
     "name": "stdout",
     "output_type": "stream",
     "text": [
      "Running Regression: 300 nodes\n",
      "0.6777824505145817\n",
      "Generation 100\n",
      "No Infection This Generation\n",
      "Mutating Chosen Network\n",
      "Removing Edges\n"
     ]
    },
    {
     "data": {
      "application/vnd.jupyter.widget-view+json": {
       "model_id": "7af531be886240ee99b98430c0fc7d97",
       "version_major": 2,
       "version_minor": 0
      },
      "text/plain": [
       "HBox(children=(IntProgress(value=0, description='Running Simulation ', max=5000, style=ProgressStyle(descripti…"
      ]
     },
     "metadata": {},
     "output_type": "display_data"
    },
    {
     "name": "stdout",
     "output_type": "stream",
     "text": [
      "Running Regression: 300 nodes\n",
      "0.6777824505145817\n"
     ]
    }
   ],
   "source": [
    "# RUN GA\n",
    "nwChoice=[]\n",
    "i=0\n",
    "while i < generations:\n",
    "    print('Generation ' + str(i+1))\n",
    "    chosen_networks=np.random.choice(len(population),2)\n",
    "    nwChoice.append(chosen_networks)\n",
    "    nw1=population[chosen_networks[0]]\n",
    "    nw2=population[chosen_networks[1]]\n",
    "    \n",
    "    NLT1=NLTpop[chosen_networks[0]]\n",
    "    NLT2=NLTpop[chosen_networks[1]]\n",
    "    \n",
    "    winner,loser,winnerName,loserName=evaluateWinner(NLT1,NLT2,nw1,nw2)\n",
    "    \n",
    "    if winnerName == 'NW1':\n",
    "        winnerIDX=chosen_networks[0]\n",
    "        loserIDX=chosen_networks[1]\n",
    "    else:\n",
    "        winnerIDX=chosen_networks[1]\n",
    "        loserIDX=chosen_networks[0]\n",
    "        \n",
    "    loser,infected_outcome=infect(winner,loser,infect_rate)\n",
    "    \n",
    "    child=mutate(loser,mutation_rate,mutation_amount)\n",
    "    \n",
    "    SIMc,NLTc=runNLT(child,onAmp,i)\n",
    "    \n",
    "    if infected_outcome==1:\n",
    "        loserIDX=winnerIDX\n",
    "    NLTpop[loserIDX]=NLTc\n",
    "    \n",
    "    print(np.min(NLTpop))\n",
    "    \n",
    "    i=i+1"
   ]
  },
  {
   "cell_type": "code",
   "execution_count": 43,
   "metadata": {},
   "outputs": [
    {
     "data": {
      "text/plain": [
       "[[0.7772673623626909],\n",
       " [0.8059706412210297],\n",
       " [0.7769686638689499],\n",
       " [0.8032432193733243],\n",
       " [0.6789740963808163],\n",
       " [0.7231871508550938],\n",
       " [0.7819181215828261],\n",
       " [0.6777824505145817],\n",
       " [0.7826770017214231],\n",
       " [0.8090711384696507]]"
      ]
     },
     "execution_count": 43,
     "metadata": {},
     "output_type": "execute_result"
    }
   ],
   "source": [
    "NLTpop"
   ]
  },
  {
   "cell_type": "code",
   "execution_count": 44,
   "metadata": {},
   "outputs": [
    {
     "data": {
      "text/plain": [
       "[[0.7772673623626909],\n",
       " [0.8059706412210297],\n",
       " [0.7769686638689499],\n",
       " [0.8032432193733243],\n",
       " [0.6789740963808163],\n",
       " [0.7231871508550938],\n",
       " [0.7819181215828261],\n",
       " [0.6777824505145817],\n",
       " [0.7826770017214231],\n",
       " [0.8090711384696507]]"
      ]
     },
     "execution_count": 44,
     "metadata": {},
     "output_type": "execute_result"
    }
   ],
   "source": [
    "OGNLTpop"
   ]
  },
  {
   "cell_type": "markdown",
   "metadata": {},
   "source": [
    "TO DO:\n",
    "- Repeat with Modules:\n",
    "    - Instead of replacing the entire network with the the winner in the INFECT section, we replace 1 module with 1 module from the winner\n",
    "    - Instead of mutating the entire network, set mutation rates for within module and between module edges "
   ]
  },
  {
   "cell_type": "code",
   "execution_count": null,
   "metadata": {},
   "outputs": [],
   "source": []
  }
 ],
 "metadata": {
  "kernelspec": {
   "display_name": "Python 3",
   "language": "python",
   "name": "python3"
  },
  "language_info": {
   "codemirror_mode": {
    "name": "ipython",
    "version": 3
   },
   "file_extension": ".py",
   "mimetype": "text/x-python",
   "name": "python",
   "nbconvert_exporter": "python",
   "pygments_lexer": "ipython3",
   "version": "3.7.3"
  }
 },
 "nbformat": 4,
 "nbformat_minor": 2
}
