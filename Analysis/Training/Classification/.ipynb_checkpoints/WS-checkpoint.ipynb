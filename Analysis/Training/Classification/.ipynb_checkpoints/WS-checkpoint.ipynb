{
 "cells": [
  {
   "cell_type": "code",
   "execution_count": 1,
   "metadata": {},
   "outputs": [
    {
     "name": "stdout",
     "output_type": "stream",
     "text": [
      "C:\\Users\\aloe8475\\Dropbox (Sydney Uni)\\Data\\ASN_simulation\\Python\\ASN\n"
     ]
    }
   ],
   "source": [
    "cd \"C:/Users/aloe8475/Dropbox (Sydney Uni)/Data/ASN_simulation/Python/ASN\""
   ]
  },
  {
   "cell_type": "code",
   "execution_count": 2,
   "metadata": {},
   "outputs": [],
   "source": [
    "from scipy.io import loadmat, savemat\n",
    "import numpy as np\n",
    "import matplotlib.pyplot as plt\n",
    "import seaborn as sns\n",
    "import datetime\n",
    "import networkx as nx\n",
    "from utils import *\n",
    "from draw.draw_graph import draw_graph\n",
    "\n",
    "import warnings\n",
    "warnings.filterwarnings('ignore')"
   ]
  },
  {
   "cell_type": "code",
   "execution_count": 29,
   "metadata": {},
   "outputs": [],
   "source": [
    "aa = loadmat(r'C:\\Users\\aloe8475\\Documents\\PhD\\GitHub\\CODE\\Data\\Explore Analysis\\Ordered+Random Data\\WSAdj.mat')\n",
    "path=(r\"C:\\Users\\aloe8475\\Documents\\PhD\\GitHub\\CODE\\Data\\Explore Analysis\\Ordered+Random Data\")"
   ]
  },
  {
   "cell_type": "code",
   "execution_count": 13,
   "metadata": {},
   "outputs": [],
   "source": [
    "betas=[None]*3\n",
    "beta0=[None]*1\n",
    "beta05=[None]*1\n",
    "beta1=[None]*1\n",
    "sim=[None]*3\n",
    "G=[None]*3\n",
    "COMM=[None]*3\n",
    "COMM_mat=[None]*3\n"
   ]
  },
  {
   "cell_type": "code",
   "execution_count": 14,
   "metadata": {},
   "outputs": [],
   "source": [
    "    beta0[0] = np.array(aa['WS'][0][0].todense())\n",
    "    beta05[0]= np.array(aa['WS'][0][1].todense())\n",
    "    beta1[0]=np.array(aa['WS'][0][2].todense())"
   ]
  },
  {
   "cell_type": "code",
   "execution_count": 15,
   "metadata": {},
   "outputs": [],
   "source": [
    "betas=beta0+beta05+beta1"
   ]
  },
  {
   "cell_type": "code",
   "execution_count": 16,
   "metadata": {},
   "outputs": [
    {
     "data": {
      "text/plain": [
       "array([[0., 1., 1., ..., 1., 1., 1.],\n",
       "       [1., 0., 1., ..., 0., 1., 1.],\n",
       "       [1., 1., 0., ..., 0., 0., 1.],\n",
       "       ...,\n",
       "       [1., 0., 0., ..., 0., 1., 1.],\n",
       "       [1., 1., 0., ..., 1., 0., 1.],\n",
       "       [1., 1., 1., ..., 1., 1., 0.]])"
      ]
     },
     "execution_count": 16,
     "metadata": {},
     "output_type": "execute_result"
    }
   ],
   "source": [
    "betas[0]"
   ]
  },
  {
   "cell_type": "code",
   "execution_count": 159,
   "metadata": {},
   "outputs": [],
   "source": [
    "#Subgraph AdjMat\n",
    "def getOnGraph(network, this_TimeStamp = 0):\n",
    "    edgeList = network.connectivity.edge_list\n",
    "    adjMat = np.zeros((network.numOfWires, network.numOfWires))\n",
    "    adjMat[edgeList[:,0], edgeList[:,1]] = network.junctionSwitch[this_TimeStamp,:]\n",
    "    adjMat[edgeList[:,1], edgeList[:,0]] = network.junctionSwitch[this_TimeStamp,:]\n",
    "    onGraph = nx.from_numpy_array(adjMat)\n",
    "    \n",
    "    return onGraph"
   ]
  },
  {
   "cell_type": "code",
   "execution_count": 123,
   "metadata": {},
   "outputs": [
    {
     "data": {
      "text/plain": [
       "array([[0., 0., 0., ..., 0., 0., 0.],\n",
       "       [0., 0., 0., ..., 0., 0., 0.],\n",
       "       [0., 0., 0., ..., 0., 0., 0.],\n",
       "       ...,\n",
       "       [0., 0., 0., ..., 0., 0., 0.],\n",
       "       [0., 0., 0., ..., 0., 0., 0.],\n",
       "       [0., 0., 0., ..., 0., 0., 0.]])"
      ]
     },
     "execution_count": 123,
     "metadata": {},
     "output_type": "execute_result"
    }
   ],
   "source": [
    "betas"
   ]
  },
  {
   "cell_type": "code",
   "execution_count": 124,
   "metadata": {
    "scrolled": false
   },
   "outputs": [
    {
     "name": "stderr",
     "output_type": "stream",
     "text": [
      "Running Simulation : 100%|███████████████████████████████████████████████████████| 2000/2000 [00:00<00:00, 4696.45it/s]\n",
      "Running Simulation : 100%|███████████████████████████████████████████████████████| 2000/2000 [00:00<00:00, 4630.94it/s]\n",
      "Running Simulation : 100%|███████████████████████████████████████████████████████| 2000/2000 [00:00<00:00, 4786.04it/s]\n"
     ]
    }
   ],
   "source": [
    "for i in range(len(betas)):\n",
    "# for i in range(1,2):\n",
    "    sim[i] = defaultSimulation(connectivity__(adjMat=betas[i]), T = 2, biasType = 'DC', onAmp = 1, findFirst = False)\n",
    "#     elif i % 4 == 1:\n",
    "#         sim[i] = defaultSimulation(connectivity__(adjMat=betas[i]), T = 2, biasType = 'DC', onAmp = 1, contactMode='preSet',electrodes=[43, 137], findFirst = False)\n",
    "#     elif i % 4 == 2:\n",
    "#         sim[i] = defaultSimulation(connectivity__(adjMat=betas[i]), T = 2, biasType = 'DC', onAmp = 1, contactMode='preSet',electrodes=[15, 135], findFirst = False)\n",
    "#     elif i % 4 ==3:\n",
    "#         sim[i] = defaultSimulation(connectivity__(adjMat=betas[i]), T = 2, biasType = 'DC', onAmp = 1, contactMode='preSet',electrodes=[37, 373], findFirst = False)\n",
    "    \n",
    "#     G[i] = nx.from_numpy_array(getOnGraph(sim[i],1999))\n",
    "    G = nx.from_numpy_array(getOnGraph(sim[i],1999))\n",
    "    components = [i for i in nx.connected_components(G)]\n",
    "    max_ind = np.argmax([len(i) for i in nx.connected_components(G)])\n",
    "    GG = nx.subgraph(G, components[max_ind])\n",
    "    subMat = nx.from_numpy_array(nx.adjacency_matrix(GG).todense())\n",
    "    #Find Communicability\n",
    "    COMM[i]=nx.communicability(subMat)\n",
    "    subSize = len(subMat)\n",
    "    COMM_mat[i] = np.array([COMM[i][k][j] for k in range(subSize) for j in range(subSize)]).reshape(subSize,subSize)"
   ]
  },
  {
   "cell_type": "code",
   "execution_count": 190,
   "metadata": {},
   "outputs": [],
   "source": [
    "currMat = np.zeros((100,100))\n",
    "edgeList = sim[0].connectivity.edge_list\n",
    "currMat[edgeList[:,0], edgeList[:,1]] = sim[0].junctionVoltage[-1,:]/sim[0].junctionResistance[-1,:]\n",
    "currMat = currMat + currMat.T\n",
    "currGraph = nx.from_numpy_array(currMat)\n",
    "subGraph = getOnGraph(sim[0], 1999)\n",
    "\n",
    "components = [i for i in nx.connected_components(subGraph)]\n",
    "\n",
    "max_ind = np.argmax([len(i) for i in nx.connected_components(subGraph)])\n",
    "currGraph = nx.subgraph(currGraph, components[max_ind])\n",
    "currGraph = nx.from_numpy_array(nx.adjacency_matrix(currGraph).todense())\n",
    "currMat = np.array(nx.adjacency_matrix(currGraph).todense())\n",
    "\n",
    "commu = nx.communicability(currGraph)\n",
    "subSize = len(currGraph)\n",
    "commu_Mat = np.array([commu[k][j] for k in range(subSize) for j in range(subSize)]).reshape(subSize,subSize)"
   ]
  },
  {
   "cell_type": "code",
   "execution_count": 198,
   "metadata": {},
   "outputs": [],
   "source": [
    "currMat1 = np.zeros((100,100))\n",
    "edgeList = sim[1].connectivity.edge_list\n",
    "currMat1[edgeList[:,0], edgeList[:,1]] = sim[1].junctionVoltage[-1,:]/sim[1].junctionResistance[-1,:]\n",
    "currMat1 = currMat1 + currMat1.T\n",
    "currGraph1 = nx.from_numpy_array(currMat1)\n",
    "subGraph1 = getOnGraph(sim[1], 1999)\n",
    "\n",
    "components = [i for i in nx.connected_components(subGraph1)]\n",
    "\n",
    "max_ind = np.argmax([len(i) for i in nx.connected_components(subGraph1)])\n",
    "currGraph1 = nx.subGraph1(currGraph1, components[max_ind])\n",
    "currGraph1 = nx.from_numpy_array(nx.adjacency_matrix(currGraph1).todense())\n",
    "currMat1 = np.array(nx.adjacency_matrix(currGraph1).todense())\n",
    "\n",
    "commu1 = nx.communicability(currGraph1)\n",
    "subSize1 = len(currGraph1)\n",
    "commu_Mat1 = np.array([commu1[k][j] for k in range(subSize) for j in range(subSize)]).reshape(subSize,subSize)"
   ]
  },
  {
   "cell_type": "code",
   "execution_count": 200,
   "metadata": {},
   "outputs": [
    {
     "data": {
      "text/plain": [
       "(29, 29)"
      ]
     },
     "execution_count": 200,
     "metadata": {},
     "output_type": "execute_result"
    }
   ],
   "source": [
    "commu_Mat1.shape"
   ]
  },
  {
   "cell_type": "code",
   "execution_count": null,
   "metadata": {},
   "outputs": [],
   "source": [
    "[currMat!=0]"
   ]
  },
  {
   "cell_type": "code",
   "execution_count": 192,
   "metadata": {},
   "outputs": [
    {
     "ename": "ValueError",
     "evalue": "x and y must be the same size",
     "output_type": "error",
     "traceback": [
      "\u001b[1;31m---------------------------------------------------------------------------\u001b[0m",
      "\u001b[1;31mValueError\u001b[0m                                Traceback (most recent call last)",
      "\u001b[1;32m<ipython-input-192-eabe57d5c60d>\u001b[0m in \u001b[0;36m<module>\u001b[1;34m\u001b[0m\n\u001b[1;32m----> 1\u001b[1;33m \u001b[0mplt\u001b[0m\u001b[1;33m.\u001b[0m\u001b[0mscatter\u001b[0m\u001b[1;33m(\u001b[0m\u001b[1;33m[\u001b[0m\u001b[0mcommu_Mat\u001b[0m\u001b[1;33m,\u001b[0m \u001b[0mcommu_Mat1\u001b[0m\u001b[1;33m]\u001b[0m\u001b[1;33m,\u001b[0m \u001b[1;33m[\u001b[0m\u001b[0mcurrMat\u001b[0m\u001b[1;33m,\u001b[0m \u001b[0mcurrMat1\u001b[0m\u001b[1;33m]\u001b[0m\u001b[1;33m)\u001b[0m\u001b[1;33m\u001b[0m\u001b[1;33m\u001b[0m\u001b[0m\n\u001b[0m\u001b[0;32m      2\u001b[0m \u001b[0mplt\u001b[0m\u001b[1;33m.\u001b[0m\u001b[0mylim\u001b[0m\u001b[1;33m(\u001b[0m\u001b[1;36m0\u001b[0m\u001b[1;33m,\u001b[0m\u001b[1;36m0.00001\u001b[0m\u001b[1;33m)\u001b[0m\u001b[1;33m\u001b[0m\u001b[1;33m\u001b[0m\u001b[0m\n",
      "\u001b[1;32m~\\AppData\\Local\\Continuum\\anaconda3\\lib\\site-packages\\matplotlib\\pyplot.py\u001b[0m in \u001b[0;36mscatter\u001b[1;34m(x, y, s, c, marker, cmap, norm, vmin, vmax, alpha, linewidths, verts, edgecolors, data, **kwargs)\u001b[0m\n\u001b[0;32m   2860\u001b[0m         \u001b[0mvmin\u001b[0m\u001b[1;33m=\u001b[0m\u001b[0mvmin\u001b[0m\u001b[1;33m,\u001b[0m \u001b[0mvmax\u001b[0m\u001b[1;33m=\u001b[0m\u001b[0mvmax\u001b[0m\u001b[1;33m,\u001b[0m \u001b[0malpha\u001b[0m\u001b[1;33m=\u001b[0m\u001b[0malpha\u001b[0m\u001b[1;33m,\u001b[0m \u001b[0mlinewidths\u001b[0m\u001b[1;33m=\u001b[0m\u001b[0mlinewidths\u001b[0m\u001b[1;33m,\u001b[0m\u001b[1;33m\u001b[0m\u001b[1;33m\u001b[0m\u001b[0m\n\u001b[0;32m   2861\u001b[0m         verts=verts, edgecolors=edgecolors, **({\"data\": data} if data\n\u001b[1;32m-> 2862\u001b[1;33m         is not None else {}), **kwargs)\n\u001b[0m\u001b[0;32m   2863\u001b[0m     \u001b[0msci\u001b[0m\u001b[1;33m(\u001b[0m\u001b[0m__ret\u001b[0m\u001b[1;33m)\u001b[0m\u001b[1;33m\u001b[0m\u001b[1;33m\u001b[0m\u001b[0m\n\u001b[0;32m   2864\u001b[0m     \u001b[1;32mreturn\u001b[0m \u001b[0m__ret\u001b[0m\u001b[1;33m\u001b[0m\u001b[1;33m\u001b[0m\u001b[0m\n",
      "\u001b[1;32m~\\AppData\\Local\\Continuum\\anaconda3\\lib\\site-packages\\matplotlib\\__init__.py\u001b[0m in \u001b[0;36minner\u001b[1;34m(ax, data, *args, **kwargs)\u001b[0m\n\u001b[0;32m   1808\u001b[0m                         \u001b[1;34m\"the Matplotlib list!)\"\u001b[0m \u001b[1;33m%\u001b[0m \u001b[1;33m(\u001b[0m\u001b[0mlabel_namer\u001b[0m\u001b[1;33m,\u001b[0m \u001b[0mfunc\u001b[0m\u001b[1;33m.\u001b[0m\u001b[0m__name__\u001b[0m\u001b[1;33m)\u001b[0m\u001b[1;33m,\u001b[0m\u001b[1;33m\u001b[0m\u001b[1;33m\u001b[0m\u001b[0m\n\u001b[0;32m   1809\u001b[0m                         RuntimeWarning, stacklevel=2)\n\u001b[1;32m-> 1810\u001b[1;33m             \u001b[1;32mreturn\u001b[0m \u001b[0mfunc\u001b[0m\u001b[1;33m(\u001b[0m\u001b[0max\u001b[0m\u001b[1;33m,\u001b[0m \u001b[1;33m*\u001b[0m\u001b[0margs\u001b[0m\u001b[1;33m,\u001b[0m \u001b[1;33m**\u001b[0m\u001b[0mkwargs\u001b[0m\u001b[1;33m)\u001b[0m\u001b[1;33m\u001b[0m\u001b[1;33m\u001b[0m\u001b[0m\n\u001b[0m\u001b[0;32m   1811\u001b[0m \u001b[1;33m\u001b[0m\u001b[0m\n\u001b[0;32m   1812\u001b[0m         inner.__doc__ = _add_data_doc(inner.__doc__,\n",
      "\u001b[1;32m~\\AppData\\Local\\Continuum\\anaconda3\\lib\\site-packages\\matplotlib\\axes\\_axes.py\u001b[0m in \u001b[0;36mscatter\u001b[1;34m(self, x, y, s, c, marker, cmap, norm, vmin, vmax, alpha, linewidths, verts, edgecolors, **kwargs)\u001b[0m\n\u001b[0;32m   4180\u001b[0m         \u001b[0my\u001b[0m \u001b[1;33m=\u001b[0m \u001b[0mnp\u001b[0m\u001b[1;33m.\u001b[0m\u001b[0mma\u001b[0m\u001b[1;33m.\u001b[0m\u001b[0mravel\u001b[0m\u001b[1;33m(\u001b[0m\u001b[0my\u001b[0m\u001b[1;33m)\u001b[0m\u001b[1;33m\u001b[0m\u001b[1;33m\u001b[0m\u001b[0m\n\u001b[0;32m   4181\u001b[0m         \u001b[1;32mif\u001b[0m \u001b[0mx\u001b[0m\u001b[1;33m.\u001b[0m\u001b[0msize\u001b[0m \u001b[1;33m!=\u001b[0m \u001b[0my\u001b[0m\u001b[1;33m.\u001b[0m\u001b[0msize\u001b[0m\u001b[1;33m:\u001b[0m\u001b[1;33m\u001b[0m\u001b[1;33m\u001b[0m\u001b[0m\n\u001b[1;32m-> 4182\u001b[1;33m             \u001b[1;32mraise\u001b[0m \u001b[0mValueError\u001b[0m\u001b[1;33m(\u001b[0m\u001b[1;34m\"x and y must be the same size\"\u001b[0m\u001b[1;33m)\u001b[0m\u001b[1;33m\u001b[0m\u001b[1;33m\u001b[0m\u001b[0m\n\u001b[0m\u001b[0;32m   4183\u001b[0m \u001b[1;33m\u001b[0m\u001b[0m\n\u001b[0;32m   4184\u001b[0m         \u001b[1;32mif\u001b[0m \u001b[0ms\u001b[0m \u001b[1;32mis\u001b[0m \u001b[1;32mNone\u001b[0m\u001b[1;33m:\u001b[0m\u001b[1;33m\u001b[0m\u001b[1;33m\u001b[0m\u001b[0m\n",
      "\u001b[1;31mValueError\u001b[0m: x and y must be the same size"
     ]
    },
    {
     "data": {
      "image/png": "[encoded data removed]",
      "text/plain": [
       "<Figure size 432x288 with 1 Axes>"
      ]
     },
     "metadata": {
      "needs_background": "light"
     },
     "output_type": "display_data"
    }
   ],
   "source": [
    "plt.scatter([commu_Mat, commu_Mat1], [currMat, currMat1])\n",
    "plt.ylim(0,0.00001)"
   ]
  },
  {
   "cell_type": "code",
   "execution_count": 188,
   "metadata": {},
   "outputs": [
    {
     "data": {
      "text/plain": [
       "(0, 1e-05)"
      ]
     },
     "execution_count": 188,
     "metadata": {},
     "output_type": "execute_result"
    },
    {
     "data": {
      "image/png": "[encoded data removed]",
      "text/plain": [
       "<Figure size 432x288 with 1 Axes>"
      ]
     },
     "metadata": {
      "needs_background": "light"
     },
     "output_type": "display_data"
    }
   ],
   "source": [
    "plt.scatter(commu_Mat[currMat!=0], currMat[currMat!=0])\n",
    "plt.ylim(0,0.00001)"
   ]
  },
  {
   "cell_type": "code",
   "execution_count": 20,
   "metadata": {
    "scrolled": true
   },
   "outputs": [
    {
     "data": {
      "text/plain": [
       "<matplotlib.image.AxesImage at 0x1c9f0830cc0>"
      ]
     },
     "execution_count": 20,
     "metadata": {},
     "output_type": "execute_result"
    },
    {
     "data": {
      "image/png": "[encoded data removed]",
      "text/plain": [
       "<Figure size 432x288 with 1 Axes>"
      ]
     },
     "metadata": {
      "needs_background": "light"
     },
     "output_type": "display_data"
    }
   ],
   "source": [
    "plt.imshow(COMM_mat[1])"
   ]
  },
  {
   "cell_type": "code",
   "execution_count": 31,
   "metadata": {},
   "outputs": [],
   "source": [
    "savemat(path+\"/WattsStrogatz_COMM.mat\",dict(COMM=commu_Mat, Currs=currMat))"
   ]
  },
  {
   "cell_type": "code",
   "execution_count": 35,
   "metadata": {},
   "outputs": [
    {
     "data": {
      "text/plain": [
       "4.663526932218632e-06"
      ]
     },
     "execution_count": 35,
     "metadata": {},
     "output_type": "execute_result"
    }
   ],
   "source": [
    "sim[0]."
   ]
  },
  {
   "cell_type": "code",
   "execution_count": null,
   "metadata": {},
   "outputs": [],
   "source": []
  }
 ],
 "metadata": {
  "kernelspec": {
   "display_name": "Python 3",
   "language": "python",
   "name": "python3"
  },
  "language_info": {
   "codemirror_mode": {
    "name": "ipython",
    "version": 3
   },
   "file_extension": ".py",
   "mimetype": "text/x-python",
   "name": "python",
   "nbconvert_exporter": "python",
   "pygments_lexer": "ipython3",
   "version": "3.7.3"
  }
 },
 "nbformat": 4,
 "nbformat_minor": 2
}
