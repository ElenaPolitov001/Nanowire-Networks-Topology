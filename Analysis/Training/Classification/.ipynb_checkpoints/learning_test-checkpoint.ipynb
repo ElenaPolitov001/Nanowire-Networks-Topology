{
 "cells": [
  {
   "cell_type": "code",
   "execution_count": 53,
   "metadata": {},
   "outputs": [],
   "source": [
    "from scipy.io import loadmat\n",
    "import numpy as np\n",
    "import matplotlib.pyplot as plt\n",
    "import seaborn as sns\n",
    "import datetime\n",
    "\n",
    "from itertools import permutations \n",
    "from sklearn.model_selection import train_test_split, GridSearchCV\n",
    "from sklearn.svm import SVC\n",
    "from sklearn.discriminant_analysis import LinearDiscriminantAnalysis\n",
    "from sklearn.linear_model import LogisticRegression\n",
    "from sklearn.tree import DecisionTreeClassifier\n",
    "from sklearn.neighbors import KNeighborsClassifier\n",
    "from sklearn.ensemble import RandomForestClassifier\n",
    "from sklearn.preprocessing import StandardScaler, Normalizer"
   ]
  },
  {
   "cell_type": "code",
   "execution_count": 54,
   "metadata": {},
   "outputs": [],
   "source": [
    "# # Define Paths\n",
    "\n",
    "# train_num='1'\n",
    "# test_num='7'\n",
    "# num_nanowires='100'\n",
    "# Time = '30'\n",
    "# test_type='LDA' #LDA\n",
    "# kernel_type='linear' #linear, rbf - kernel options for SVM\n",
    "# date_of_training='14'\n",
    "# date_of_testing='14'\n",
    "\n",
    "# multi_class=1 #CHANGE HERE FOR MULTI-CLASS LDA/SVM (1 = yes, 0 = no)\n",
    "# if multi_class:\n",
    "#     m='_multi-class_YES'\n",
    "# else:\n",
    "#     m='_multi-class_NO'\n",
    "\n",
    "# # path=\"C:/Users/aloe8475/Documents/PhD/GitHub/CODE/Adrian's Code/NETWORK_sims_2/Saved Networks/Simulations Only/Python Data/\"\n",
    "\n",
    "# #     save_path='C:/Users/aloe8475/Documents/PhD/GitHub/CODE/Data/Figures/' + test_type + '/Python LDA/'\n",
    "# else:\n",
    "#     save_path='C:/Users/aloe8475/Documents/PhD/GitHub/CODE/Data/Figures/' + test_type + '/'\n",
    "\n",
    "# #Train with a testing file:\n",
    "# # filename_train = path + 'Net_Sx_20_NoW100_03_25-2019_11_23_38_Zdenka_Square_1SimsOnly_10_Sec_4Electrodes_Vmax_0.5_Testing Simulation_' + train_num + '_' + date_of_training + '-Jun-2019_ForPython.mat'\n",
    "\n",
    "# #Train with normal file:\n",
    "# filename_train = path + 'Net_Sx_20_NoW100_03_25-2019_11_23_38_Zdenka_Square_1SimsOnly_10_Sec_4Electrodes_Vmax_0.5_Training Simulation_' + train_num + '_' + date_of_training + '-Jun-2019_ForPython.mat'\n",
    "# filename_train_save= test_type+'_Training Simulation_'+ train_num + '_' + Time + '_Sec_' + num_nanowires +'nw_' + date_of_training + '-Jun-2019' \n",
    "\n",
    "# #Test with training file:\n",
    "# # filename_test = path + 'Net_Sx_20_NoW100_03_25-2019_11_23_38_Zdenka_Square_1SimsOnly_10_Sec_4Electrodes_Vmax_0.5_Training Simulation_' + test_num + '_' + date_of_testing + '-Jun-2019_ForPython.mat'\n",
    "\n",
    "# #Test with normal file\n",
    "# filename_test = path+ 'Net_Sx_20_NoW100_03_25-2019_11_23_38_Zdenka_Square_1SimsOnly_10_Sec_4Electrodes_Vmax_0.5_Testing Simulation_' + test_num +'_14-Jun-2019_ForPython.mat'\n",
    "\n",
    "# if test_type == 'SVM':\n",
    "#     filename_test_save= test_type+'_'+kernel_type+'_kernel'+'_Testing Simulation_' + test_num +'_' + Time + '_Sec_' + num_nanowires + 'nw_' + date_of_testing + '-Jun-2019' \n",
    "# else:\n",
    "#     filename_test_save= test_type+'_Testing Simulation_' + test_num +'_' + Time + '_Sec_' + num_nanowires + 'nw_' + date_of_testing + '-Jun-2019' \n",
    "\n",
    "# # filename = 'Alon_Code/Data/Testing/Extracted_test_2.mat'"
   ]
  },
  {
   "cell_type": "code",
   "execution_count": 55,
   "metadata": {},
   "outputs": [],
   "source": [
    "# Load Samples for Early/Mid/Late/Never\n",
    "\n",
    "path= r\"C:/Users/aloe8475/Dropbox (Sydney Uni)/Data/ASN_simulation/Python/ASN/data/Uncollapsed/\"\n",
    "\n",
    "classifier = loadmat(path+'emln.mat')['bang']\n",
    "pairinglist=loadmat(path+'ElecPos.mat')['elecPos']-1\n",
    "pairinglist[0,:] = np.array([4,17])\n",
    "pairinglist[80,:] = np.array([22, 80])\n",
    "pairinglist[81,:] = np.array([99, 81])\n",
    "\n",
    "\n"
   ]
  },
  {
   "cell_type": "code",
   "execution_count": 56,
   "metadata": {},
   "outputs": [],
   "source": [
    "early = np.where(classifier[0] == 0)[0]\n",
    "mid = np.where(classifier[0] == 1)[0]\n",
    "late = np.where(classifier[0] == 2)[0]\n",
    "never = np.where(classifier[0] == 3)[0]\n",
    "\n",
    "sep=[50, 500, 1000]"
   ]
  },
  {
   "cell_type": "code",
   "execution_count": 57,
   "metadata": {},
   "outputs": [],
   "source": [
    "earlyRand=np.random.choice(early,1)[0]\n",
    "midRand=np.random.choice(mid,1)[0]\n",
    "lateRand=np.random.choice(late,1)[0]\n",
    "neverRand=np.random.choice(never,1)[0]"
   ]
  },
  {
   "cell_type": "code",
   "execution_count": 58,
   "metadata": {},
   "outputs": [],
   "source": [
    "earlyPair=pairinglist[earlyRand]\n",
    "midPair=pairinglist[midRand]\n",
    "latePair=pairinglist[lateRand]\n",
    "neverPair=pairinglist[neverRand]"
   ]
  },
  {
   "cell_type": "code",
   "execution_count": 59,
   "metadata": {},
   "outputs": [],
   "source": [
    "randPairings = [earlyPair, midPair, latePair, neverPair]"
   ]
  },
  {
   "cell_type": "code",
   "execution_count": 60,
   "metadata": {},
   "outputs": [
    {
     "name": "stdout",
     "output_type": "stream",
     "text": [
      "(array([54, 42], dtype=uint8), array([47, 33], dtype=uint8), array([ 1, 88], dtype=uint8))\n",
      "(array([54, 42], dtype=uint8), array([47, 33], dtype=uint8), array([75, 76], dtype=uint8))\n",
      "(array([54, 42], dtype=uint8), array([ 1, 88], dtype=uint8), array([47, 33], dtype=uint8))\n",
      "(array([54, 42], dtype=uint8), array([ 1, 88], dtype=uint8), array([75, 76], dtype=uint8))\n",
      "(array([54, 42], dtype=uint8), array([75, 76], dtype=uint8), array([47, 33], dtype=uint8))\n",
      "(array([54, 42], dtype=uint8), array([75, 76], dtype=uint8), array([ 1, 88], dtype=uint8))\n",
      "(array([47, 33], dtype=uint8), array([54, 42], dtype=uint8), array([ 1, 88], dtype=uint8))\n",
      "(array([47, 33], dtype=uint8), array([54, 42], dtype=uint8), array([75, 76], dtype=uint8))\n",
      "(array([47, 33], dtype=uint8), array([ 1, 88], dtype=uint8), array([54, 42], dtype=uint8))\n",
      "(array([47, 33], dtype=uint8), array([ 1, 88], dtype=uint8), array([75, 76], dtype=uint8))\n",
      "(array([47, 33], dtype=uint8), array([75, 76], dtype=uint8), array([54, 42], dtype=uint8))\n",
      "(array([47, 33], dtype=uint8), array([75, 76], dtype=uint8), array([ 1, 88], dtype=uint8))\n",
      "(array([ 1, 88], dtype=uint8), array([54, 42], dtype=uint8), array([47, 33], dtype=uint8))\n",
      "(array([ 1, 88], dtype=uint8), array([54, 42], dtype=uint8), array([75, 76], dtype=uint8))\n",
      "(array([ 1, 88], dtype=uint8), array([47, 33], dtype=uint8), array([54, 42], dtype=uint8))\n",
      "(array([ 1, 88], dtype=uint8), array([47, 33], dtype=uint8), array([75, 76], dtype=uint8))\n",
      "(array([ 1, 88], dtype=uint8), array([75, 76], dtype=uint8), array([54, 42], dtype=uint8))\n",
      "(array([ 1, 88], dtype=uint8), array([75, 76], dtype=uint8), array([47, 33], dtype=uint8))\n",
      "(array([75, 76], dtype=uint8), array([54, 42], dtype=uint8), array([47, 33], dtype=uint8))\n",
      "(array([75, 76], dtype=uint8), array([54, 42], dtype=uint8), array([ 1, 88], dtype=uint8))\n",
      "(array([75, 76], dtype=uint8), array([47, 33], dtype=uint8), array([54, 42], dtype=uint8))\n",
      "(array([75, 76], dtype=uint8), array([47, 33], dtype=uint8), array([ 1, 88], dtype=uint8))\n",
      "(array([75, 76], dtype=uint8), array([ 1, 88], dtype=uint8), array([54, 42], dtype=uint8))\n",
      "(array([75, 76], dtype=uint8), array([ 1, 88], dtype=uint8), array([47, 33], dtype=uint8))\n",
      "(50, 500, 1000)\n",
      "(50, 1000, 500)\n",
      "(500, 50, 1000)\n",
      "(500, 1000, 50)\n",
      "(1000, 50, 500)\n",
      "(1000, 500, 50)\n"
     ]
    }
   ],
   "source": [
    "sperm = [i for i in permutations([0,1,2,3],3)]\n",
    "(randPairings[sperm[0][0]], randPairings[sperm[0][1]] ,randPairings[sperm[0][2]])\n",
    "\n",
    "for i in range(len(sperm)):\n",
    "    print((randPairings[sperm[i][0]],randPairings[sperm[i][1]],randPairings[sperm[i][2]]))\n",
    "    \n",
    "spermTime = [i for i in permutations([0,1,2],3)]\n",
    "(sep[spermTime[0][0]], sep[spermTime[0][1]])\n",
    "\n",
    "for i in range(len(spermTime)):\n",
    "    print((sep[spermTime[i][0]], sep[spermTime[i][1]], sep[spermTime[i][2]]))"
   ]
  },
  {
   "cell_type": "code",
   "execution_count": 61,
   "metadata": {},
   "outputs": [
    {
     "data": {
      "text/plain": [
       "[(0, 1, 2), (0, 2, 1), (1, 0, 2), (1, 2, 0), (2, 0, 1), (2, 1, 0)]"
      ]
     },
     "execution_count": 61,
     "metadata": {},
     "output_type": "execute_result"
    }
   ],
   "source": [
    "spermTime"
   ]
  },
  {
   "cell_type": "code",
   "execution_count": null,
   "metadata": {},
   "outputs": [],
   "source": []
  },
  {
   "cell_type": "code",
   "execution_count": 62,
   "metadata": {},
   "outputs": [
    {
     "data": {
      "text/plain": [
       "1000"
      ]
     },
     "execution_count": 62,
     "metadata": {},
     "output_type": "execute_result"
    }
   ],
   "source": [
    "sep[spermTime[0][2]]"
   ]
  },
  {
   "cell_type": "code",
   "execution_count": 65,
   "metadata": {
    "scrolled": true
   },
   "outputs": [
    {
     "name": "stdout",
     "output_type": "stream",
     "text": [
      "[54 42] [47 33] [ 1 88]\n"
     ]
    },
    {
     "ename": "NameError",
     "evalue": "name 'VSource1_Test' is not defined",
     "output_type": "error",
     "traceback": [
      "\u001b[1;31m---------------------------------------------------------------------------\u001b[0m",
      "\u001b[1;31mNameError\u001b[0m                                 Traceback (most recent call last)",
      "\u001b[1;32m<ipython-input-65-5ea781ac3d1c>\u001b[0m in \u001b[0;36m<module>\u001b[1;34m\u001b[0m\n\u001b[0;32m      4\u001b[0m     \u001b[0msimNum_Test2\u001b[0m\u001b[1;33m=\u001b[0m\u001b[0mrandPairings\u001b[0m\u001b[1;33m[\u001b[0m\u001b[0msperm\u001b[0m\u001b[1;33m[\u001b[0m\u001b[0mi\u001b[0m\u001b[1;33m]\u001b[0m\u001b[1;33m[\u001b[0m\u001b[1;36m2\u001b[0m\u001b[1;33m]\u001b[0m\u001b[1;33m]\u001b[0m\u001b[1;33m\u001b[0m\u001b[1;33m\u001b[0m\u001b[0m\n\u001b[0;32m      5\u001b[0m     \u001b[0mprint\u001b[0m\u001b[1;33m(\u001b[0m\u001b[0msimNum_Train\u001b[0m\u001b[1;33m,\u001b[0m \u001b[0msimNum_Test1\u001b[0m\u001b[1;33m,\u001b[0m \u001b[0msimNum_Test2\u001b[0m\u001b[1;33m)\u001b[0m\u001b[1;33m\u001b[0m\u001b[1;33m\u001b[0m\u001b[0m\n\u001b[1;32m----> 6\u001b[1;33m     \u001b[0mplotTimeSeries\u001b[0m\u001b[1;33m(\u001b[0m\u001b[0mVSource1_Test\u001b[0m\u001b[1;33m,\u001b[0m\u001b[0mVSource1_Train\u001b[0m\u001b[1;33m,\u001b[0m\u001b[0mIDrain1_Train\u001b[0m\u001b[1;33m,\u001b[0m\u001b[0mIDrain1_Test\u001b[0m\u001b[1;33m,\u001b[0m\u001b[0mIDrain2_Test\u001b[0m\u001b[1;33m,\u001b[0m\u001b[0mVSource2_Test\u001b[0m\u001b[1;33m)\u001b[0m\u001b[1;33m\u001b[0m\u001b[1;33m\u001b[0m\u001b[0m\n\u001b[0m",
      "\u001b[1;31mNameError\u001b[0m: name 'VSource1_Test' is not defined"
     ]
    }
   ],
   "source": [
    "for i in range(len(sperm)):\n",
    "    simNum_Train=randPairings[sperm[i][0]]\n",
    "    simNum_Test1=randPairings[sperm[i][1]]\n",
    "    simNum_Test2=randPairings[sperm[i][2]]\n",
    "    print(simNum_Train, simNum_Test1, simNum_Test2)\n",
    "    plotTimeSeries(VSource1_Test,VSource1_Train,IDrain1_Train,IDrain1_Test,IDrain2_Test,VSource2_Test)\n"
   ]
  },
  {
   "cell_type": "code",
   "execution_count": 66,
   "metadata": {},
   "outputs": [
    {
     "ename": "NameError",
     "evalue": "name 'trainTest' is not defined",
     "output_type": "error",
     "traceback": [
      "\u001b[1;31m---------------------------------------------------------------------------\u001b[0m",
      "\u001b[1;31mNameError\u001b[0m                                 Traceback (most recent call last)",
      "\u001b[1;32m<ipython-input-66-7306eeae958d>\u001b[0m in \u001b[0;36m<module>\u001b[1;34m\u001b[0m\n\u001b[0;32m      1\u001b[0m \u001b[1;32mfor\u001b[0m \u001b[0mi\u001b[0m \u001b[1;32min\u001b[0m \u001b[0mrange\u001b[0m\u001b[1;33m(\u001b[0m\u001b[0mlen\u001b[0m\u001b[1;33m(\u001b[0m\u001b[0msperm\u001b[0m\u001b[1;33m)\u001b[0m\u001b[1;33m)\u001b[0m\u001b[1;33m:\u001b[0m\u001b[1;33m\u001b[0m\u001b[1;33m\u001b[0m\u001b[0m\n\u001b[1;32m----> 2\u001b[1;33m     \u001b[0mtrainTest\u001b[0m\u001b[1;33m(\u001b[0m\u001b[0mVSource1_Test\u001b[0m\u001b[1;33m,\u001b[0m\u001b[0mVSource1_Train\u001b[0m\u001b[1;33m,\u001b[0m\u001b[0mIDrain1_Train\u001b[0m\u001b[1;33m,\u001b[0m\u001b[0mIDrain1_Test\u001b[0m\u001b[1;33m,\u001b[0m\u001b[0mIDrain2_Test\u001b[0m\u001b[1;33m,\u001b[0m\u001b[0mVSource2_Test\u001b[0m\u001b[1;33m)\u001b[0m\u001b[1;33m\u001b[0m\u001b[1;33m\u001b[0m\u001b[0m\n\u001b[0m",
      "\u001b[1;31mNameError\u001b[0m: name 'trainTest' is not defined"
     ]
    }
   ],
   "source": [
    "for i in range(len(sperm)):\n",
    "    trainTest(VSource1_Test,VSource1_Train,IDrain1_Train,IDrain1_Test,IDrain2_Test,VSource2_Test)"
   ]
  },
  {
   "cell_type": "code",
   "execution_count": 64,
   "metadata": {
    "scrolled": true
   },
   "outputs": [],
   "source": [
    "# Explore\n",
    "def plotTimeSeries(VSource1_Test,VSource1_Train,IDrain1_Train,IDrain1_Test,IDrain2_Test,VSource2_Test):\n",
    "    fig, axes = plt.subplots(1, 2, figsize=(16, 4))\n",
    "\n",
    "    axes[0].plot(VSource1_Train.ravel(), label = 'VSource Train'); axes[0].plot(VSource1_Test.ravel(), label = 'VSource Test'); axes[0].plot(VSource2_Test.ravel(), label = 'VSource Test2')\n",
    "    axes[0].set_title(\"Input to device - Target for learning (y)\"); axes[0].set_xlabel('Time'); axes[0].set_ylabel('V')\n",
    "    axes[0].legend()\n",
    "    axes[1].plot(IDrain1_Train.ravel(), label = 'IDrain Train'); axes[1].plot(IDrain1_Test.ravel(), label = 'IDrain Test'); axes[1].plot(IDrain2_Test.ravel(), label = 'IDrain Test2')\n",
    "    axes[1].set_title(\"Output of device - Features for learning (X)\"); axes[1].set_xlabel('Time'); axes[1].set_ylabel('A')\n",
    "    axes[1].legend()\n",
    "\n",
    "    # fig.savefig(save_path + filename_train_save + m + '_Training_Parameters_'+datetime.datetime.now().strftime(\"%Y-%m-%d\") +'.jpg')\n",
    "    # fig.savefig(save_path + filename_train_save + m +'_Training_Parameters_'+datetime.datetime.now().strftime(\"%Y-%m-%d\") +'.eps')\n",
    "    return axes"
   ]
  },
  {
   "cell_type": "code",
   "execution_count": 67,
   "metadata": {},
   "outputs": [],
   "source": [
    "def trainTest(IDrain1_Train,VSource1_Train,IDrain2_Test,VSource2_Test,IDrain1_Test,VSource1_Test, sep, spermTime, randPairings, sperm):\n",
    "# Split the data\n",
    "    clf=[]\n",
    "    for i in range(len(spermTime)):\n",
    "        sep_Train=sep[spermTime[i][0]]\n",
    "        sep_Test1=sep[spermTime[i][1]]\n",
    "        sep_Test2=sep[spermTime[i][2]]\n",
    "        \n",
    "        \n",
    "# LOAD DATA        \n",
    "#     sep_Train=[]\n",
    "#     sep_Test1=[]\n",
    "#     sep_Test2=[]\n",
    "\n",
    "#     for i in range(len(spermTime)):\n",
    "#         sep_Train.append([sep[spermTime[i][0]]])\n",
    "#         sep_Test1.append([sep[spermTime[i][1]]])\n",
    "#         sep_Test2.append([sep[spermTime[i][2]]])\n",
    "\n",
    "        file_train=[]\n",
    "        file_test1=[]\n",
    "        file_test2=[]\n",
    "        # for i in range(100):\n",
    "    # file_train.append(loadmat(path+'source_'+str(pairinglist[i,0])+'_drain_'+str(pairinglist[i,1]))['sep_' + str(sep_Train)])\n",
    "    # file_test1.append(loadmat(path+'source_'+str(pairinglist[i,0])+'_drain_'+str(pairinglist[i,1]))['sep_' + str(sep_Test1)])\n",
    "    # file_test2.append(loadmat(path+'source_'+str(pairinglist[i,0])+'_drain_'+str(pairinglist[i,1]))['sep_' + str(sep_Test2)])\n",
    "        file_train.append(loadmat(path+'source_'+str(randPairings[sperm[0][0]][0])+'_drain_'+str(randPairings[sperm[0][0]][1]))['sep_' + str(sep_Train)])\n",
    "        file_test1.append(loadmat(path+'source_'+str(randPairings[sperm[0][1]][0])+'_drain_'+str(randPairings[sperm[0][1]][1]))['sep_' + str(sep_Test1)])\n",
    "        file_test2.append(loadmat(path+'source_'+str(randPairings[sperm[0][2]][0])+'_drain_'+str(randPairings[sperm[0][2]][1]))['sep_' + str(sep_Test2)])\n",
    "\n",
    "        # Load the Training data\n",
    "        # Load Early/Mid/Late/Never\n",
    "        IDrain1_Train=file_train[0][0][0]['IDrain1']\n",
    "        VSource1_Train=file_train[0][0][0]['VSource1']\n",
    "        # Load other combo\n",
    "        IDrain1_Test=file_test1[0][0][0]['IDrain1']\n",
    "        VSource1_Test=file_test1[0][0][0]['VSource1']\n",
    "        IDrain2_Test=file_test2[0][0][0]['IDrain1']\n",
    "        VSource2_Test=file_test2[0][0][0]['VSource1']\n",
    "        # IDrain = data['IDrain']#.todense()\n",
    "        # VSource = data['VSource']\n",
    "        # IDrain1_Train=IDrain[:,0].todense()\n",
    "        # IDrain2_Train=IDrain[:,1].todense()\n",
    "        # VSource1_Train=VSource[:,0]\n",
    "        # VSource2_Train=VSource[:,1\n",
    "\n",
    "        start_time = 0\n",
    "        # X = np.hstack([IDrain1_Train, IDrain2_Train])[start_time:]\n",
    "        X = IDrain1_Train[start_time:].reshape(-1,1)\n",
    "\n",
    "        y = VSource1_Train[start_time:].reshape(-1,1)\n",
    "        y = (y == np.nanmax(y))\n",
    "\n",
    "        X_Test=IDrain1_Test[start_time:].reshape(-1,1)\n",
    "        X_Test2=IDrain2_Test[start_time:].reshape(-1,1)\n",
    "        y_Test=VSource1_Test[start_time:].reshape(-1,1)\n",
    "        y_Test = (y_Test == np.nanmax(y_Test))\n",
    "        y_Test2=VSource2_Test[start_time:].reshape(-1,1)\n",
    "        y_Test2 = (y_Test == np.nanmax(y_Test2))\n",
    "\n",
    "        # y2 = VSource2_Train[start_time:].ravel()\n",
    "        # y2 = (y2 == np.nanmax(y2)) * 2\n",
    "        # if multi_class:\n",
    "        #     y = y + y2\n",
    "\n",
    "        # # X[:,1] = X[:,1] / X[:,0]\n",
    "        # scalar = StandardScaler()\n",
    "        # # scalar = Normalizer(norm = 'l2')\n",
    "        # X = scalar.fit_transform(X)\n",
    "        # # # X = (X - X.mean(axis = 0)) / X.std(axis = 0)\n",
    "        # # # X = (X - X.mean(axis = 0)) / X.std(axis = 0)\n",
    "        # # # X = (X - X.mean(axis = 1)) / X.std(axis = 1)\n",
    "        # # X = np.asarray(X) * 1\n",
    "\n",
    "        # # sns.kdeplot(X[:,0][y], X[:,1][y])\n",
    "        # # sns.kdeplot(X[:,0][~y], X[:,1][~y])\n",
    "        # fig, axes = plt.subplots(1, 2, figsize=(16, 4))\n",
    "\n",
    "        # axes[0].scatter(X[:,0], X[:,1], c = y, marker = 'x', cmap = 'Set1', alpha = 0.1);\n",
    "\n",
    "        # axes[1].plot(X[:,0], label = 'IDrain1'); axes[1].plot(X[:,1], label = 'IDrain2')\n",
    "        # axes[1].set_title(\"Output of device - Features for learning (X)\"); axes[1].set_xlabel('Time'); axes[1].set_ylabel('A')\n",
    "        # axes[1].legend()\n",
    "        # Training\n",
    "        # X_train, X_test, y_train, y_test = train_test_split(X, y, test_size = 0, random_state = 0)\n",
    "\n",
    "        # if test_type=='SVM':\n",
    "        # clf = SVC(kernel = 'linear', C = 1, probability = True).fit(X, y) #change kernel here\n",
    "        # elif test_type=='LDA':\n",
    "        clf.append(LinearDiscriminantAnalysis().fit(X, y))\n",
    "        # clf = RandomForestClassifier().fit(X_train, y_train)\n",
    "\n",
    "        y_pred = clf.predict(X_Test2)\n",
    "\n",
    "        y_pred2 = clf.predict(X_Test)\n",
    "\n",
    "        print('Test 1 accuracy:', clf.score(X_Test, y_Test), '| Time Delay:', sep_Test1, '| Test Class:', classifier[0][simNum_Test1], '| Train Class:',  classifier[0][simNum_Train])\n",
    "        print('Test 2 accuracy:', clf.score(X_Test2, y_Test2), '| Time Delay:', sep_Test2, '| Test Class:', classifier[0][simNum_Test2], '| Train Class:',  classifier[0][simNum_Train])\n",
    "        return clf"
   ]
  },
  {
   "cell_type": "code",
   "execution_count": 83,
   "metadata": {},
   "outputs": [
    {
     "data": {
      "text/plain": [
       "array([68, 67], dtype=uint8)"
      ]
     },
     "execution_count": 83,
     "metadata": {},
     "output_type": "execute_result"
    }
   ],
   "source": []
  },
  {
   "cell_type": "code",
   "execution_count": null,
   "metadata": {},
   "outputs": [],
   "source": []
  },
  {
   "cell_type": "code",
   "execution_count": null,
   "metadata": {},
   "outputs": [],
   "source": []
  },
  {
   "cell_type": "code",
   "execution_count": null,
   "metadata": {},
   "outputs": [],
   "source": []
  },
  {
   "cell_type": "code",
   "execution_count": null,
   "metadata": {},
   "outputs": [],
   "source": []
  },
  {
   "cell_type": "code",
   "execution_count": null,
   "metadata": {},
   "outputs": [],
   "source": []
  },
  {
   "cell_type": "code",
   "execution_count": null,
   "metadata": {},
   "outputs": [],
   "source": []
  },
  {
   "cell_type": "code",
   "execution_count": null,
   "metadata": {},
   "outputs": [],
   "source": []
  },
  {
   "cell_type": "code",
   "execution_count": null,
   "metadata": {},
   "outputs": [],
   "source": []
  },
  {
   "cell_type": "code",
   "execution_count": null,
   "metadata": {},
   "outputs": [],
   "source": []
  },
  {
   "cell_type": "code",
   "execution_count": 264,
   "metadata": {},
   "outputs": [],
   "source": [
    "# y_pred"
   ]
  },
  {
   "cell_type": "code",
   "execution_count": 265,
   "metadata": {},
   "outputs": [],
   "source": [
    "# clf.predict_proba(X_test)"
   ]
  },
  {
   "cell_type": "code",
   "execution_count": 147,
   "metadata": {},
   "outputs": [],
   "source": [
    "# Plot\n",
    "def make_meshgrid(x, y, h=.02):\n",
    "    x_min, x_max = x.min() - 1, x.max() + 1\n",
    "    y_min, y_max = y.min() - 1, y.max() + 1\n",
    "    xx, yy = np.meshgrid(np.arange(x_min, x_max, h), np.arange(y_min, y_max, h))\n",
    "    return xx, yy\n",
    "\n",
    "def plot_contours(ax, clf, xx, yy, **params):\n",
    "    Z = clf.predict(np.c_[xx.ravel(), yy.ravel()])\n",
    "    Z = Z.reshape(xx.shape)\n",
    "    out = ax.contourf(xx, yy, Z, **params)\n",
    "    return out"
   ]
  },
  {
   "cell_type": "code",
   "execution_count": 148,
   "metadata": {},
   "outputs": [
    {
     "data": {
      "image/png": "[encoded data removed]",
      "text/plain": [
       "<Figure size 432x288 with 1 Axes>"
      ]
     },
     "metadata": {
      "needs_background": "light"
     },
     "output_type": "display_data"
    }
   ],
   "source": [
    "X0, X1 = X[:, 0], X[:, 1]\n",
    "xx, yy = make_meshgrid(X0, X1)\n",
    "\n",
    "fig, ax = plt.subplots()\n",
    "plot_contours(ax, clf, xx, yy, cmap=plt.cm.coolwarm, alpha=0.8)\n",
    "ax.scatter(X0, X1, c=y, cmap=plt.cm.coolwarm, s=20, edgecolors='k')\n",
    "\n",
    "fig.savefig(save_path + filename_train_save + m + '_Training_Classification_' +datetime.datetime.now().strftime(\"%Y-%m-%d\") +'.jpg')\n",
    "fig.savefig(save_path + filename_train_save + m + '_Training_Classification_' +datetime.datetime.now().strftime(\"%Y-%m-%d\") +'.eps')\n"
   ]
  },
  {
   "cell_type": "code",
   "execution_count": 149,
   "metadata": {},
   "outputs": [],
   "source": [
    "# Load the test data\n",
    "data_test = loadmat(filename_test)"
   ]
  },
  {
   "cell_type": "code",
   "execution_count": 150,
   "metadata": {},
   "outputs": [],
   "source": [
    "IDrain = data_test['IDrain']#.todense()\n",
    "VSource = data_test['VSource']\n",
    "IDrain1_Test=IDrain[:,0].todense()\n",
    "IDrain2_Test=IDrain[:,1].todense()\n",
    "VSource1_Test=VSource[:,0]\n",
    "VSource2_Test=VSource[:,1]"
   ]
  },
  {
   "cell_type": "code",
   "execution_count": 151,
   "metadata": {},
   "outputs": [],
   "source": [
    "new_start_time = 0\n",
    "X_test = np.hstack([IDrain1_Test, IDrain2_Test])[new_start_time:]\n",
    "\n",
    "# X[:,1] = X[:,1] / X[:,0]\n",
    "X_test = scalar.transform(X_test)\n",
    "# scalar = Normalizer(norm = 'l1')\n",
    "# X_test = scalar.transform(X_test)\n",
    "# X_test = (X_test - X_test[start_time:].mean(axis = 0)) / X_test[start_time:].std(axis = 0)\n",
    "# X_test = (X_test - X_test.mean(axis = 1)) / X_test.std(axis = 1)\n",
    "\n",
    "# X_test = (X_test - X_test.mean(axis = 0)) / X_test.std(axis = 0)\n",
    "# X = (X - X.mean(axis = 1)) / X.std(axis = 1)\n",
    "X_test = np.asarray(X_test) * 1\n",
    "\n",
    "y = VSource1_Test[new_start_time:].ravel()\n",
    "y = (y == y.max())\n",
    "y2 = VSource2_Test[new_start_time:].ravel()\n",
    "y2 = (y2 == np.nanmax(y2)) * 2\n",
    "if multi_class:\n",
    "    y_test = y + y2\n",
    "\n",
    "y_pred = clf.predict(X_test)"
   ]
  },
  {
   "cell_type": "code",
   "execution_count": 152,
   "metadata": {},
   "outputs": [
    {
     "data": {
      "image/png": "[encoded data removed]",
      "text/plain": [
       "<Figure size 432x288 with 1 Axes>"
      ]
     },
     "metadata": {
      "needs_background": "light"
     },
     "output_type": "display_data"
    }
   ],
   "source": [
    "X0, X1 = X_test[:, 0], X_test[:, 1]\n",
    "xx, yy = make_meshgrid(X0, X1)\n",
    "\n",
    "fig, ax = plt.subplots()\n",
    "plot_contours(ax, clf, xx, yy, cmap=plt.cm.coolwarm, alpha=0.8)\n",
    "ax.scatter(X0, X1, c=y_test, cmap=plt.cm.coolwarm, s=20, edgecolors='k')\n",
    "\n",
    "fig.savefig(save_path + filename_train_save + '_' + filename_test_save + m +  '_Testing_Classification_' +datetime.datetime.now().strftime(\"%Y-%m-%d\") +'.jpg')\n",
    "fig.savefig(save_path + filename_train_save + '_' + filename_test_save + m + '_Testing_Classification_' +datetime.datetime.now().strftime(\"%Y-%m-%d\") +'.eps')"
   ]
  },
  {
   "cell_type": "code",
   "execution_count": 153,
   "metadata": {
    "scrolled": true
   },
   "outputs": [
    {
     "data": {
      "image/png": "[encoded data removed]",
      "text/plain": [
       "<Figure size 1152x288 with 2 Axes>"
      ]
     },
     "metadata": {
      "needs_background": "light"
     },
     "output_type": "display_data"
    }
   ],
   "source": [
    "# Explore\n",
    "fig, axes = plt.subplots(1, 2, figsize=(16, 4))\n",
    "\n",
    "axes[0].plot(VSource1_Test, label = 'VSource1'); axes[0].plot(VSource2_Test, label = 'VSource2')\n",
    "axes[0].set_title(\"Input to device - Target for learning (y)\"); axes[0].set_xlabel('Time'); axes[0].set_ylabel('V')\n",
    "axes[0].legend()\n",
    "axes[1].plot(IDrain1_Test, label = 'IDrain1'); axes[1].plot(IDrain2_Test, label = 'IDrain2')\n",
    "axes[1].set_title(\"Output of device - Features for learning (X)\"); axes[1].set_xlabel('Time'); axes[1].set_ylabel('A')\n",
    "axes[1].legend()\n",
    "\n",
    "fig.savefig(save_path + filename_train_save + '_' + filename_test_save + m + '_Testing_Parameters_' +datetime.datetime.now().strftime(\"%Y-%m-%d\") +'.jpg')\n",
    "fig.savefig(save_path + filename_train_save + '_' + filename_test_save + m + '_Testing_Parameters_' +datetime.datetime.now().strftime(\"%Y-%m-%d\") +'.eps')"
   ]
  },
  {
   "cell_type": "code",
   "execution_count": 154,
   "metadata": {},
   "outputs": [
    {
     "data": {
      "image/png": "[encoded data removed]",
      "text/plain": [
       "<Figure size 432x288 with 1 Axes>"
      ]
     },
     "metadata": {
      "needs_background": "light"
     },
     "output_type": "display_data"
    }
   ],
   "source": [
    "plt.plot(y_pred == 1, label = 'VSource1')\n",
    "plt.plot(y_pred == 2, label = 'VSource2')\n",
    "plt.plot(VSource1_Test, label = 'VSource1_actual')\n",
    "plt.plot(VSource2_Test, label = 'VSource2_actual')\n",
    "plt.legend()\n",
    "plt.savefig(save_path + filename_train_save + '_' + filename_test_save + '_' + test_type + m +  '_Prediction_' +datetime.datetime.now().strftime(\"%Y-%m-%d\") +'.jpg')\n",
    "plt.savefig(save_path + filename_train_save + '_' + filename_test_save + '_' + test_type + m + '_Prediction_' +datetime.datetime.now().strftime(\"%Y-%m-%d\") +'.eps')"
   ]
  },
  {
   "cell_type": "code",
   "execution_count": null,
   "metadata": {},
   "outputs": [],
   "source": []
  },
  {
   "cell_type": "code",
   "execution_count": null,
   "metadata": {},
   "outputs": [],
   "source": []
  },
  {
   "cell_type": "code",
   "execution_count": null,
   "metadata": {},
   "outputs": [],
   "source": []
  },
  {
   "cell_type": "code",
   "execution_count": null,
   "metadata": {},
   "outputs": [],
   "source": []
  }
 ],
 "metadata": {
  "kernelspec": {
   "display_name": "Python 3",
   "language": "python",
   "name": "python3"
  },
  "language_info": {
   "codemirror_mode": {
    "name": "ipython",
    "version": 3
   },
   "file_extension": ".py",
   "mimetype": "text/x-python",
   "name": "python",
   "nbconvert_exporter": "python",
   "pygments_lexer": "ipython3",
   "version": "3.7.3"
  }
 },
 "nbformat": 4,
 "nbformat_minor": 2
}
