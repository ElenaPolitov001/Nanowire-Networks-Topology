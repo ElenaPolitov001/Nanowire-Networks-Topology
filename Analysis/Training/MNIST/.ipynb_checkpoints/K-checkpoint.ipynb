{
 "cells": [
  {
   "cell_type": "code",
   "execution_count": 1,
   "metadata": {},
   "outputs": [],
   "source": [
    "import sys\n",
    "sys.path.append('/import/silo2/aloe8475/Documents/edamame')"
   ]
  },
  {
   "cell_type": "code",
   "execution_count": 24,
   "metadata": {},
   "outputs": [],
   "source": [
    "import numpy as np\n",
    "import matplotlib.pyplot as plt\n",
    "import networkx as nx\n",
    "from edamame import *\n",
    "from edamame.core.simulate import simCore\n",
    "from edamame.analysis.InfoTheory import *\n",
    "from tqdm.notebook import tqdm as tqdm\n",
    "import pickle\n",
    "import _pickle as cPickle\n",
    "from dask.distributed import Client"
   ]
  },
  {
   "cell_type": "code",
   "execution_count": 25,
   "metadata": {},
   "outputs": [],
   "source": [
    "import gzip\n",
    "\n",
    "def compressed_pickle(obj, filename,protocol=-1):\n",
    "    with gzip.open(filename, 'wb') as f:\n",
    "        cPickle.dump(obj, f, protocol)\n",
    "def decompress_pickle(file):\n",
    "    with gzip.open(file, 'rb') as f:\n",
    "        loaded_object = cPickle.load(f,encoding=\"bytes\") #change this for python 2\n",
    "        return loaded_object"
   ]
  },
  {
   "cell_type": "code",
   "execution_count": 3,
   "metadata": {},
   "outputs": [],
   "source": [
    "useMyRC()\n",
    "from matplotlib.colors import LogNorm"
   ]
  },
  {
   "cell_type": "code",
   "execution_count": 4,
   "metadata": {},
   "outputs": [],
   "source": [
    "from scipy.io import loadmat"
   ]
  },
  {
   "cell_type": "code",
   "execution_count": 5,
   "metadata": {},
   "outputs": [],
   "source": [
    "from sklearn.naive_bayes import GaussianNB, MultinomialNB, CategoricalNB, BernoulliNB\n",
    "from sklearn.neighbors import KNeighborsClassifier\n",
    "from sklearn.tree import DecisionTreeClassifier\n",
    "from sklearn.discriminant_analysis import LinearDiscriminantAnalysis as LDA\n",
    "from sklearn.discriminant_analysis import QuadraticDiscriminantAnalysis as QDA"
   ]
  },
  {
   "cell_type": "code",
   "execution_count": 6,
   "metadata": {},
   "outputs": [],
   "source": [
    "client = Client('127.0.0.1:58786')\n",
    "client"
   ]
  },
  {
   "cell_type": "code",
   "execution_count": 7,
   "metadata": {},
   "outputs": [],
   "source": [
    "dataLoc='/import/silo2/aloe8475/Documents/CODE/Analysis/Training/MNIST/data/'"
   ]
  },
  {
   "cell_type": "code",
   "execution_count": 8,
   "metadata": {},
   "outputs": [
    {
     "data": {
      "text/plain": [
       "'/import/silo2/aloe8475/Documents/CODE/Analysis/Training/MNIST'"
      ]
     },
     "execution_count": 8,
     "metadata": {},
     "output_type": "execute_result"
    }
   ],
   "source": [
    "pwd"
   ]
  },
  {
   "cell_type": "code",
   "execution_count": 14,
   "metadata": {},
   "outputs": [],
   "source": [
    "#Load MNIST\n",
    "data = loadmat(dataLoc+'mnist.mat')\n",
    "#Noisy MNIST\n",
    "ndata = loadmat(dataLoc+'mnist-with-awgn.mat')"
   ]
  },
  {
   "cell_type": "code",
   "execution_count": 26,
   "metadata": {},
   "outputs": [],
   "source": [
    "#Load Networks:\n",
    "name='/import/silo2/aloe8475/Documents/CODE/Data/Functional Connectivity/300nw_2_modules_10sets_NWN.pkl'\n",
    "NWN=decompress_pickle(name)"
   ]
  },
  {
   "cell_type": "code",
   "execution_count": 33,
   "metadata": {},
   "outputs": [],
   "source": [
    "graph=NWN[0][-1]['G']"
   ]
  },
  {
   "cell_type": "code",
   "execution_count": 34,
   "metadata": {},
   "outputs": [
    {
     "data": {
      "application/vnd.jupyter.widget-view+json": {
       "model_id": "a5904184e3974a17a4e513f35d16356f",
       "version_major": 2,
       "version_minor": 0
      },
      "text/plain": [
       "  0%|          | 0/20000 [00:00<?, ?it/s]"
      ]
     },
     "metadata": {},
     "output_type": "display_data"
    }
   ],
   "source": [
    "np.random.seed(18800)\n",
    "n_train = 10000\n",
    "n_test = 10000\n",
    "n_im = n_train + n_test\n",
    "# n_pix = n_im * 28**2\n",
    "dt = 1\n",
    "\n",
    "train_id = np.random.choice(range(60000), n_train, False)\n",
    "# train_id = np.arange(10000)\n",
    "test_id  = np.random.choice(range(10000), n_test, False)\n",
    "\n",
    "trainX_raw  = data['trainX'][train_id]\n",
    "# trainXT = np.transpose(trainX_raw.reshape(-1, 28, 28), (0,2,1))\n",
    "trainY  = data['trainY'].reshape(-1)[train_id]\n",
    "\n",
    "testX_raw   = data['testX'][test_id]\n",
    "# testXT  = np.transpose(testX_raw.reshape(-1, 28, 28), (0,2,1))\n",
    "testY   = data['testY'].reshape(-1)[test_id]\n",
    "\n",
    "kdm = 5 #size of kernel\n",
    "n_scan = (29-kdm)**2\n",
    "n_row = 29-kdm\n",
    "\n",
    "stream_raw = np.vstack((trainX_raw, testX_raw))\n",
    "stream = np.zeros((n_im, (29-kdm)**2, kdm**2))\n",
    "for i in tqdm(range(n_im)):\n",
    "    stream[i,:] = kernel_scan(stream_raw[i].reshape(28,28), (kdm, kdm)).reshape(-1, kdm**2)\n",
    "    \n",
    "# a, b =4, -2\n",
    "# signals = a/255 * stream.reshape(-1, kdm**2) + b\n",
    "# length = signals.shape[0]\n",
    "\n",
    "# Connectivity = connectivity__('500nw_9905junctions')\n",
    "# Connectivity = connectivity__('200nw_1213junctions')\n",
    "Connectivity = connectivity__(graph=NWN[0][-1]['G'])\n",
    "electrodes = np.random.choice(range(Connectivity.numOfWires), kdm**2 + 1, False)"
   ]
  },
  {
   "cell_type": "code",
   "execution_count": 24,
   "metadata": {},
   "outputs": [],
   "source": [
    "def run_MNIST(con, kdm, electrodes, stream_in, j):\n",
    "    a, b = 1, -0.3\n",
    "    dt = 1 \n",
    "    npc = stream_in.shape[0]\n",
    "    \n",
    "    signals = a/255 * stream_in.reshape(-1, kdm**2) + b\n",
    "    length = signals.shape[0]\n",
    "#     electrodes = np.random.choice(range(con.numOfWires), kdm**2 + 1, False)\n",
    "    n_im = stream_in.shape[0]\n",
    "    n_scan = (29-kdm)**2\n",
    "    n_row = 29-kdm\n",
    "    \n",
    "    stimulus = []\n",
    "    for i in range(kdm**2):\n",
    "        stimulus.append(stimulus__('Custom', T = length*dt, dt = dt, \n",
    "                                   customSignal = signals[:,i]))\n",
    "    \n",
    "    sim = runSim(con, T = length*dt, \n",
    "                 lite_mode = True,\n",
    "                 dt = dt, \n",
    "                 start_state = None,\n",
    "                 stimulus = stimulus,\n",
    "                 junctionMode = 'tunneling', \n",
    "                 contactMode = 'preSet', electrodes = electrodes,\n",
    "                 findFirst=False, disable_tqdm=False)\n",
    "    \n",
    "\n",
    "    read = sim.electrodeCurrent[:,:-1].reshape(n_im, n_row, n_row, kdm**2)\n",
    "    r0 = np.max(read, axis = 2).reshape(n_im, -1)\n",
    "    r1 = np.max(read, axis = 1).reshape(n_im, -1)\n",
    "#     return np.hstack((r0, r1))\n",
    "    pkl_save(read, f'/project/NASN/rzhu/temp/k={kdm}_temp_{int(j/npc)}.pkl')\n",
    "    return None\n",
    "    \n",
    "\n",
    "#     read = sim.electrodeCurrent[:,:-1].reshape(n_im, n_row, n_row, kdm, kdm)\n",
    "#     return read[:,:,:,range(kdm), range(kdm)].reshape(n_im, -1)\n",
    "#     read = sim.electrodeCurrent[:,:-1].reshape(n_im, n_row, n_row, kdm**2)\n",
    "#     return np.max(read, axis = 2).reshape(n_im, -1)"
   ]
  },
  {
   "cell_type": "code",
   "execution_count": 25,
   "metadata": {},
   "outputs": [],
   "source": [
    "def LDA_test(X, Y, test_X, test_Y, sub_sample = 1, return_map = False):\n",
    "    from sklearn.discriminant_analysis import LinearDiscriminantAnalysis as LDA\n",
    "    model = LDA(solver = 'lsqr', shrinkage = 'auto')\n",
    "    model.fit(X[:,::sub_sample], Y)\n",
    "    # result = model.predict(test_X[:,::sub_sample])\n",
    "    acc = model.score(test_X, test_Y)\n",
    "    if return_map:\n",
    "        result = model.predict(test_X)\n",
    "        sz = np.max(testY)+1\n",
    "        fit_map = np.zeros((sz,sz))\n",
    "        for i in range(len(result)):\n",
    "            fit_map[testY[i], result[i]] += 1\n",
    "        return acc, fit_map\n",
    "    else:\n",
    "        return acc"
   ]
  },
  {
   "cell_type": "code",
   "execution_count": null,
   "metadata": {},
   "outputs": [
    {
     "data": {
      "application/vnd.jupyter.widget-view+json": {
       "model_id": "d5a69b23446c4902854508fe20900566",
       "version_major": 2,
       "version_minor": 0
      },
      "text/plain": [
       "HBox(children=(FloatProgress(value=0.0, max=400.0), HTML(value='')))"
      ]
     },
     "metadata": {},
     "output_type": "display_data"
    }
   ],
   "source": [
    "npc = 50\n",
    "\n",
    "init_list = [inputPacker(run_MNIST, Connectivity,kdm, electrodes, stream[i:i+npc], i) for i in range(0, n_im, npc)]\n",
    "results = para_run(run_MNIST, init_list, dask_client = client, batch_size = 100, temp_path = '/project/NASN/rzhu/temp/')"
   ]
  },
  {
   "cell_type": "code",
   "execution_count": 15,
   "metadata": {},
   "outputs": [
    {
     "data": {
      "text/plain": [
       "(12000, 1200)"
      ]
     },
     "execution_count": 15,
     "metadata": {},
     "output_type": "execute_result"
    }
   ],
   "source": [
    "results.shape"
   ]
  },
  {
   "cell_type": "code",
   "execution_count": 27,
   "metadata": {},
   "outputs": [
    {
     "data": {
      "application/vnd.jupyter.widget-view+json": {
       "model_id": "6e6b85c94f7644f6a1bcb7641f515e62",
       "version_major": 2,
       "version_minor": 0
      },
      "text/plain": [
       "HBox(children=(FloatProgress(value=0.0, max=400.0), HTML(value='')))"
      ]
     },
     "metadata": {},
     "output_type": "display_data"
    },
    {
     "name": "stdout",
     "output_type": "stream",
     "text": [
      "\n"
     ]
    }
   ],
   "source": [
    "# results = np.zeros((12000, 24*24*25))\n",
    "\n",
    "kdm = 5\n",
    "n_row = 29-kdm\n",
    "\n",
    "for i in tqdm(range(int(n_im/npc))):\n",
    "    temp = pkl_load(f'/project/NASN/rzhu/temp/k={kdm}_temp_{i}.pkl').reshape(npc, n_row, n_row, kdm, kdm)\n",
    "    \n",
    "    temp = temp.reshape(npc, n_row, n_row, kdm**2)\n",
    "    haha = []\n",
    "    for j in range(len(temp)):\n",
    "        for k in range(kdm**2):\n",
    "            r0 = np.max(temp[j,:,:,k], axis = 1)\n",
    "            r1 = np.min(temp[j,:,:,k], axis = 1)\n",
    "#             r1 = abs(np.linalg.eigvals(temp[j,:,:,k]))\n",
    "#             r1 = temp[j,range(n_row), range(n_row), k]\n",
    "            haha.append(np.append(r0, r1))\n",
    "        \n",
    "    r = np.array(haha).reshape(npc, -1)\n",
    "    if i == 0:\n",
    "        results = np.zeros((n_im, r.shape[1]))\n",
    "    results[npc*i:npc*i+npc] = r\n",
    "#     break"
   ]
  },
  {
   "cell_type": "code",
   "execution_count": 28,
   "metadata": {},
   "outputs": [
    {
     "data": {
      "text/plain": [
       "(20000, 1200)"
      ]
     },
     "execution_count": 28,
     "metadata": {},
     "output_type": "execute_result"
    }
   ],
   "source": [
    "results.shape"
   ]
  },
  {
   "cell_type": "code",
   "execution_count": 17,
   "metadata": {},
   "outputs": [],
   "source": [
    "results = np.array(results).reshape(n_im, -1)"
   ]
  },
  {
   "cell_type": "code",
   "execution_count": 29,
   "metadata": {},
   "outputs": [
    {
     "data": {
      "text/plain": [
       "0.9527"
      ]
     },
     "execution_count": 29,
     "metadata": {},
     "output_type": "execute_result"
    }
   ],
   "source": [
    "curr_train = results[:n_train, :] \n",
    "curr_test = results[n_train:, :]\n",
    "LDA_test(curr_train, trainY, curr_test, testY)"
   ]
  },
  {
   "cell_type": "code",
   "execution_count": null,
   "metadata": {},
   "outputs": [],
   "source": []
  },
  {
   "cell_type": "code",
   "execution_count": null,
   "metadata": {},
   "outputs": [],
   "source": []
  },
  {
   "cell_type": "code",
   "execution_count": null,
   "metadata": {},
   "outputs": [],
   "source": []
  },
  {
   "cell_type": "code",
   "execution_count": 30,
   "metadata": {},
   "outputs": [
    {
     "data": {
      "application/vnd.jupyter.widget-view+json": {
       "model_id": "4f9ffafa5b96467f8e1fd1c725654bc5",
       "version_major": 2,
       "version_minor": 0
      },
      "text/plain": [
       "HBox(children=(FloatProgress(value=0.0, max=13.0), HTML(value='')))"
      ]
     },
     "metadata": {},
     "output_type": "display_data"
    },
    {
     "name": "stdout",
     "output_type": "stream",
     "text": [
      "\n"
     ]
    }
   ],
   "source": [
    "sample_size = np.array([10, 20, 30, 60, 100, 200, 300, 600, 1000, 2000, 3000, 6000, 10000])\n",
    "acc = np.zeros(len(sample_size))\n",
    "iters = 10\n",
    "acc = np.zeros((len(sample_size), iters))\n",
    "for i, sz in enumerate(tqdm(sample_size)):\n",
    "    for j in range(iters):\n",
    "        sampling = np.random.choice(range(n_train), sz, False)\n",
    "        shuffle = np.random.choice(range(n_test), n_test, False)\n",
    "        curr_train = results[sampling, :] \n",
    "        curr_test = results[n_train:, :]\n",
    "        acc[i,j] = LDA_test(curr_train, trainY[sampling], curr_test[shuffle], testY[shuffle])\n",
    "#     break"
   ]
  },
  {
   "cell_type": "code",
   "execution_count": 31,
   "metadata": {},
   "outputs": [
    {
     "data": {
      "text/plain": [
       "array([[0.2762, 0.2583, 0.1827, 0.2524, 0.0941, 0.27  , 0.1814, 0.3687,\n",
       "        0.293 , 0.1871],\n",
       "       [0.3784, 0.3386, 0.4396, 0.452 , 0.3992, 0.3331, 0.3999, 0.4413,\n",
       "        0.3541, 0.4404],\n",
       "       [0.5369, 0.4536, 0.516 , 0.5705, 0.5407, 0.4875, 0.5553, 0.5696,\n",
       "        0.5206, 0.5553],\n",
       "       [0.6939, 0.6785, 0.665 , 0.6804, 0.7199, 0.7164, 0.6577, 0.6443,\n",
       "        0.6483, 0.6834],\n",
       "       [0.7759, 0.7751, 0.7679, 0.7696, 0.7837, 0.7548, 0.7977, 0.7821,\n",
       "        0.7318, 0.7733],\n",
       "       [0.8707, 0.8272, 0.8555, 0.8541, 0.8625, 0.8708, 0.8506, 0.8482,\n",
       "        0.8588, 0.8445],\n",
       "       [0.8867, 0.8894, 0.8794, 0.8796, 0.8731, 0.8689, 0.8663, 0.8974,\n",
       "        0.8935, 0.8777],\n",
       "       [0.9002, 0.9044, 0.9086, 0.9079, 0.9126, 0.9002, 0.9267, 0.9144,\n",
       "        0.912 , 0.8943],\n",
       "       [0.9308, 0.9339, 0.9248, 0.9295, 0.9333, 0.9302, 0.9264, 0.9275,\n",
       "        0.9295, 0.9221],\n",
       "       [0.935 , 0.9379, 0.9384, 0.9354, 0.9381, 0.9342, 0.9355, 0.9366,\n",
       "        0.9418, 0.9396],\n",
       "       [0.9399, 0.9433, 0.9453, 0.9424, 0.9427, 0.9449, 0.9432, 0.942 ,\n",
       "        0.9416, 0.9459],\n",
       "       [0.9494, 0.9495, 0.9494, 0.9501, 0.9476, 0.9482, 0.9493, 0.9505,\n",
       "        0.9507, 0.9503],\n",
       "       [0.9527, 0.9527, 0.9527, 0.9527, 0.9527, 0.9527, 0.9527, 0.9527,\n",
       "        0.9527, 0.9527]])"
      ]
     },
     "execution_count": 31,
     "metadata": {},
     "output_type": "execute_result"
    }
   ],
   "source": [
    "acc"
   ]
  },
  {
   "cell_type": "code",
   "execution_count": 32,
   "metadata": {},
   "outputs": [
    {
     "data": {
      "text/plain": [
       "Text(0, 0.5, 'Accuracy (%)')"
      ]
     },
     "execution_count": 32,
     "metadata": {},
     "output_type": "execute_result"
    },
    {
     "data": {
      "image/png": "[encoded data removed]",
      "text/plain": [
       "<Figure size 640x480 with 1 Axes>"
      ]
     },
     "metadata": {},
     "output_type": "display_data"
    }
   ],
   "source": [
    "plot_with_err(100*acc, xdata = sample_size, axis = 1, ls = '-')\n",
    "plt.scatter(sample_size, 100*np.mean(acc, axis = 1), c= 'r', marker = 'o', s = 50)\n",
    "plt.xlim(5, 2e4)\n",
    "plt.ylim(10, 100)\n",
    "plt.xscale('log')\n",
    "plt.xlabel('Train size')\n",
    "plt.ylabel('Accuracy (%)')"
   ]
  },
  {
   "cell_type": "code",
   "execution_count": 10,
   "metadata": {},
   "outputs": [],
   "source": [
    "def iterate(kdm):\n",
    "    # np.random.seed(18800)\n",
    "    n_train = 10000\n",
    "    n_test = 10000\n",
    "    npc = 10\n",
    "    dt = 1\n",
    "    \n",
    "    n_im = n_train + n_test\n",
    "    n_scan = (29-kdm)**2\n",
    "    n_row = 29-kdm\n",
    "\n",
    "    train_id = np.random.choice(range(60000), n_train, False)\n",
    "    test_id  = np.random.choice(range(10000), n_test, False)\n",
    "\n",
    "    trainX_raw  = data['trainX'][train_id]\n",
    "    # trainXT = np.transpose(trainX_raw.reshape(-1, 28, 28), (0,2,1))\n",
    "    trainY  = data['trainY'].reshape(-1)[train_id]\n",
    "\n",
    "    testX_raw   = data['testX'][test_id]\n",
    "    # testXT  = np.transpose(testX_raw.reshape(-1, 28, 28), (0,2,1))\n",
    "    testY   = data['testY'].reshape(-1)[test_id]\n",
    "\n",
    "    stream_raw = np.vstack((trainX_raw, testX_raw))\n",
    "    stream = np.zeros((n_im, (29-kdm)**2, kdm**2))\n",
    "    for i in range(n_im):\n",
    "        stream[i,:] = kernel_scan(stream_raw[i].reshape(28,28), (kdm, kdm)).reshape(-1, kdm**2)\n",
    "\n",
    "#     a, b = 1, -0.3\n",
    "#     signals = a/255 * stream.reshape(-1, kdm**2) + b\n",
    "#     length = signals.shape[0]\n",
    "\n",
    "    Connectivity = connectivity__('200nw_1213junctions')\n",
    "#     Connectivity = connectivity__('500nw_9905junctions')\n",
    "    electrodes = np.random.choice(range(Connectivity.numOfWires), kdm**2 + 1, False)\n",
    "    init_list = [inputPacker(run_MNIST, Connectivity, kdm, electrodes, stream[i:i+npc], i) for i in range(0, n_im, npc)]\n",
    "    \n",
    "    results = para_run(run_MNIST, init_list, dask_client = client, disable_tqdm = False)\n",
    "    bb = np.stack(results).reshape(n_im, -1)\n",
    "    curr_train = bb[:n_train, :] \n",
    "    curr_test = bb[n_train:, :]\n",
    "    \n",
    "    score = LDA_test(curr_train, trainY, curr_test, testY)\n",
    "    return score"
   ]
  },
  {
   "cell_type": "code",
   "execution_count": 13,
   "metadata": {},
   "outputs": [
    {
     "data": {
      "application/vnd.jupyter.widget-view+json": {
       "model_id": "1eb3846783b049e2ba6d21a348f6c161",
       "version_major": 2,
       "version_minor": 0
      },
      "text/plain": [
       "HBox(children=(FloatProgress(value=0.0, max=2000.0), HTML(value='')))"
      ]
     },
     "metadata": {},
     "output_type": "display_data"
    },
    {
     "name": "stdout",
     "output_type": "stream",
     "text": [
      "\n"
     ]
    }
   ],
   "source": [
    "aa = iterate(13)"
   ]
  },
  {
   "cell_type": "code",
   "execution_count": 17,
   "metadata": {},
   "outputs": [
    {
     "data": {
      "text/plain": [
       "0.98"
      ]
     },
     "execution_count": 17,
     "metadata": {},
     "output_type": "execute_result"
    }
   ],
   "source": [
    "aa"
   ]
  },
  {
   "cell_type": "code",
   "execution_count": 11,
   "metadata": {},
   "outputs": [
    {
     "data": {
      "application/vnd.jupyter.widget-view+json": {
       "model_id": "f5f24fadfdef4782b3e4455e5e63c747",
       "version_major": 2,
       "version_minor": 0
      },
      "text/plain": [
       "HBox(children=(FloatProgress(value=0.0, max=4.0), HTML(value='')))"
      ]
     },
     "metadata": {},
     "output_type": "display_data"
    },
    {
     "data": {
      "application/vnd.jupyter.widget-view+json": {
       "model_id": "b31b46cb4cdb4bd2a2a36fbc2c1e1440",
       "version_major": 2,
       "version_minor": 0
      },
      "text/plain": [
       "HBox(children=(FloatProgress(value=0.0, max=2000.0), HTML(value='')))"
      ]
     },
     "metadata": {},
     "output_type": "display_data"
    },
    {
     "name": "stdout",
     "output_type": "stream",
     "text": [
      "\n"
     ]
    },
    {
     "data": {
      "application/vnd.jupyter.widget-view+json": {
       "model_id": "9b0556c4483344b5be566db8ce8f4e06",
       "version_major": 2,
       "version_minor": 0
      },
      "text/plain": [
       "HBox(children=(FloatProgress(value=0.0, max=2000.0), HTML(value='')))"
      ]
     },
     "metadata": {},
     "output_type": "display_data"
    },
    {
     "name": "stdout",
     "output_type": "stream",
     "text": [
      "\n"
     ]
    },
    {
     "data": {
      "application/vnd.jupyter.widget-view+json": {
       "model_id": "192bc94c6aa3481e879d6c07bf7e8232",
       "version_major": 2,
       "version_minor": 0
      },
      "text/plain": [
       "HBox(children=(FloatProgress(value=0.0, max=2000.0), HTML(value='')))"
      ]
     },
     "metadata": {},
     "output_type": "display_data"
    },
    {
     "name": "stdout",
     "output_type": "stream",
     "text": [
      "\n"
     ]
    },
    {
     "data": {
      "application/vnd.jupyter.widget-view+json": {
       "model_id": "2049aa87c2954f82ab98483666c7690e",
       "version_major": 2,
       "version_minor": 0
      },
      "text/plain": [
       "HBox(children=(FloatProgress(value=0.0, max=2000.0), HTML(value='')))"
      ]
     },
     "metadata": {},
     "output_type": "display_data"
    },
    {
     "name": "stdout",
     "output_type": "stream",
     "text": [
      "\n",
      "\n"
     ]
    }
   ],
   "source": [
    "Ks = [13]\n",
    "iters = 4\n",
    "accs = np.zeros((len(Ks), iters))\n",
    "\n",
    "pbar = tqdm(total = len(Ks)*iters)\n",
    "for i, kdm in enumerate(Ks):\n",
    "    for j in range(iters):\n",
    "        accs[i,j] = iterate(kdm)\n",
    "        pbar.update(1)\n",
    "pbar.close()"
   ]
  },
  {
   "cell_type": "code",
   "execution_count": 33,
   "metadata": {},
   "outputs": [],
   "source": [
    "accs = np.zeros((6, 5))"
   ]
  },
  {
   "cell_type": "code",
   "execution_count": 34,
   "metadata": {},
   "outputs": [],
   "source": [
    "accs[0] = np.array([0.9191, 0.9289, 0.9341, 0.9096, 0.9259])"
   ]
  },
  {
   "cell_type": "code",
   "execution_count": 35,
   "metadata": {},
   "outputs": [],
   "source": [
    "accs[1] = np.array([0.9621,0.9621,0.9616,0.9623,0.9634])"
   ]
  },
  {
   "cell_type": "code",
   "execution_count": 36,
   "metadata": {},
   "outputs": [],
   "source": [
    "accs[2] = np.array([0.9751,0.9771,0.9736,0.9746,0.975])"
   ]
  },
  {
   "cell_type": "code",
   "execution_count": 37,
   "metadata": {},
   "outputs": [],
   "source": [
    "accs[3] = np.array([0.9759,0.9789,0.9791,0.9791,0.9786])"
   ]
  },
  {
   "cell_type": "code",
   "execution_count": 38,
   "metadata": {},
   "outputs": [],
   "source": [
    "accs[4] = np.array([0.9761,0.9768,0.9788,0.9805,0.9796])"
   ]
  },
  {
   "cell_type": "code",
   "execution_count": 39,
   "metadata": {},
   "outputs": [],
   "source": [
    "accs[5] = np.array([0.98,0.9769,0.9769,0.9774,0.9781])"
   ]
  },
  {
   "cell_type": "code",
   "execution_count": 40,
   "metadata": {},
   "outputs": [
    {
     "data": {
      "text/plain": [
       "Text(0, 0.5, 'Accuracy (%)')"
      ]
     },
     "execution_count": 40,
     "metadata": {},
     "output_type": "execute_result"
    },
    {
     "data": {
      "image/png": "[encoded data removed]",
      "text/plain": [
       "<Figure size 640x480 with 1 Axes>"
      ]
     },
     "metadata": {},
     "output_type": "display_data"
    }
   ],
   "source": [
    "X = np.arange(3, 15, 2)\n",
    "plot_with_err(100*accs,xdata = X, axis = 1)\n",
    "plt.scatter(X, 100*np.mean(accs, axis = 1), c = 'r', s = 80)\n",
    "\n",
    "plt.xticks(X)\n",
    "plt.xlabel(r'$\\kappa$')\n",
    "plt.ylabel('Accuracy (%)')"
   ]
  },
  {
   "cell_type": "code",
   "execution_count": 54,
   "metadata": {},
   "outputs": [
    {
     "data": {
      "text/plain": [
       "Text(-0.15, 1.1, 'b')"
      ]
     },
     "execution_count": 54,
     "metadata": {},
     "output_type": "execute_result"
    },
    {
     "data": {
      "image/png": "[encoded data removed]",
      "text/plain": [
       "<Figure size 640x240 with 2 Axes>"
      ]
     },
     "metadata": {},
     "output_type": "display_data"
    }
   ],
   "source": [
    "fig, axes = plt.subplots(1,2, figsize = (8, 3))\n",
    "\n",
    "plot_with_err(100*acc, xdata = sample_size, axis = 1, ls = '-', ax = axes[0])\n",
    "axes[0].scatter(sample_size, 100*np.mean(acc, axis = 1), c= 'r', marker = 'o', s = 50)\n",
    "axes[0].set_xlim(5, 2e4)\n",
    "axes[0].set_ylim(10, 100)\n",
    "axes[0].set_xscale('log')\n",
    "axes[0].set_yticks(np.arange(10, 101, 30))\n",
    "axes[0].set_xlabel('Train size')\n",
    "axes[0].set_ylabel('Accuracy (%)')\n",
    "\n",
    "\n",
    "X = np.arange(3, 15, 2)\n",
    "plot_with_err(100*accs,xdata = X, axis = 1, ax = axes[1])\n",
    "axes[1].scatter(X, 100*np.mean(accs, axis = 1), c = 'r', s = 80)\n",
    "\n",
    "axes[1].set_xticks(X)\n",
    "axes[1].set_yticks(np.arange(91,100,2))\n",
    "\n",
    "axes[1].set_xlabel(r'$\\kappa$')\n",
    "\n",
    "# axes[1].set_ylabel('Accuracy (%)')\n",
    "\n",
    "from string import ascii_lowercase\n",
    "\n",
    "axes[0].text(-0.3, 1.1, ascii_lowercase[0], transform=axes[0].transAxes, \n",
    "            size=20, weight='bold')\n",
    "\n",
    "axes[1].text(-0.15, 1.1, ascii_lowercase[1], transform=axes[1].transAxes, \n",
    "            size=20, weight='bold')"
   ]
  },
  {
   "cell_type": "code",
   "execution_count": null,
   "metadata": {},
   "outputs": [],
   "source": []
  }
 ],
 "metadata": {
  "kernelspec": {
   "display_name": "Python 3",
   "language": "python",
   "name": "python3"
  },
  "language_info": {
   "codemirror_mode": {
    "name": "ipython",
    "version": 3
   },
   "file_extension": ".py",
   "mimetype": "text/x-python",
   "name": "python",
   "nbconvert_exporter": "python",
   "pygments_lexer": "ipython3",
   "version": "3.7.3"
  }
 },
 "nbformat": 4,
 "nbformat_minor": 4
}
