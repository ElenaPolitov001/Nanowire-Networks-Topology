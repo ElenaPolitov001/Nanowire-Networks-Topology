{
 "cells": [
  {
   "cell_type": "code",
   "execution_count": 1,
   "metadata": {},
   "outputs": [],
   "source": [
    "import sys\n",
    "sys.path.append('/import/silo2/aloe8475/Documents/edamame')"
   ]
  },
  {
   "cell_type": "code",
   "execution_count": 3,
   "metadata": {},
   "outputs": [],
   "source": [
    "from scipy.io import loadmat, savemat\n",
    "from scipy import signal\n",
    "from edamame import * \n",
    "import numpy as np\n",
    "import matplotlib.pyplot as plt\n",
    "from matplotlib import colors\n",
    "import networkx as nx\n",
    "from tqdm.notebook import tqdm_notebook as tqdm\n",
    "import os\n",
    "from IPython.core.debugger import set_trace\n",
    "import matplotlib.colors as clrs\n"
   ]
  },
  {
   "cell_type": "code",
   "execution_count": 4,
   "metadata": {},
   "outputs": [
    {
     "name": "stderr",
     "output_type": "stream",
     "text": [
      "2021-06-17 13:20:18,168:INFO:Detecting junctions\n",
      "2021-06-17 13:20:19,587:INFO:Finished detecting junctions\n",
      "2021-06-17 13:20:19,624:INFO:The returned network has 3937 junctions.\n"
     ]
    }
   ],
   "source": [
    "this_seed=8639#np.random.randint(10000)\n",
    "Network=edamame.core.generate_network(300,dispersion=235,mean_length=200,this_seed=this_seed)\n",
    "connectivity=connectivity__(wires_dict=Network)\n",
    "\n",
    "xa=connectivity.xa\n",
    "xb=connectivity.xb\n",
    "ya=connectivity.ya\n",
    "yb=connectivity.yb\n"
   ]
  },
  {
   "cell_type": "code",
   "execution_count": 22,
   "metadata": {},
   "outputs": [],
   "source": [
    "#Create 7x7 Digit \n",
    "x1 = np.zeros((7,7)); x2 = np.zeros((7,7));\n",
    "#Create digit 1\n",
    "x1[:,3]=1;x1[0,2]=1;x1[-1,2]=1;x1[-1,4]=1\n",
    "#Create digit 2\n",
    "x2[-1,:]=1;x2[0,1:-1]=1;x2[3,1:-1]=1;x2[1,0]=1;x2[1:3,-1]=1;x2[-3:-1,0]=1\n"
   ]
  },
  {
   "cell_type": "code",
   "execution_count": 33,
   "metadata": {},
   "outputs": [],
   "source": [
    "#how to create inList, outList?"
   ]
  },
  {
   "cell_type": "code",
   "execution_count": 29,
   "metadata": {},
   "outputs": [
    {
     "ename": "NameError",
     "evalue": "name 'inList' is not defined",
     "output_type": "error",
     "traceback": [
      "\u001b[0;31m---------------------------------------------------------------------------\u001b[0m",
      "\u001b[0;31mNameError\u001b[0m                                 Traceback (most recent call last)",
      "\u001b[0;32m<ipython-input-29-271740bd1b78>\u001b[0m in \u001b[0;36m<module>\u001b[0;34m\u001b[0m\n\u001b[1;32m     10\u001b[0m     \u001b[0msti\u001b[0m\u001b[0;34m.\u001b[0m\u001b[0mappend\u001b[0m\u001b[0;34m(\u001b[0m\u001b[0mstimulus__\u001b[0m\u001b[0;34m(\u001b[0m\u001b[0;34m'Drain'\u001b[0m\u001b[0;34m,\u001b[0m \u001b[0mT\u001b[0m\u001b[0;34m=\u001b[0m\u001b[0mT\u001b[0m\u001b[0;34m,\u001b[0m\u001b[0mdt\u001b[0m\u001b[0;34m=\u001b[0m\u001b[0mdt\u001b[0m\u001b[0;34m)\u001b[0m\u001b[0;34m)\u001b[0m\u001b[0;34m\u001b[0m\u001b[0;34m\u001b[0m\u001b[0m\n\u001b[1;32m     11\u001b[0m sim = runSim(connectivity, contactMode = 'preSet', \n\u001b[0;32m---> 12\u001b[0;31m              \u001b[0melectrodes\u001b[0m \u001b[0;34m=\u001b[0m \u001b[0mnp\u001b[0m\u001b[0;34m.\u001b[0m\u001b[0mappend\u001b[0m\u001b[0;34m(\u001b[0m\u001b[0minList\u001b[0m\u001b[0;34m,\u001b[0m \u001b[0moutList\u001b[0m\u001b[0;34m)\u001b[0m\u001b[0;34m,\u001b[0m\u001b[0;34m\u001b[0m\u001b[0;34m\u001b[0m\u001b[0m\n\u001b[0m\u001b[1;32m     13\u001b[0m              \u001b[0mT\u001b[0m \u001b[0;34m=\u001b[0m \u001b[0mT\u001b[0m\u001b[0;34m,\u001b[0m \u001b[0mdt\u001b[0m \u001b[0;34m=\u001b[0m \u001b[0mdt\u001b[0m\u001b[0;34m,\u001b[0m \u001b[0mstimulus\u001b[0m \u001b[0;34m=\u001b[0m \u001b[0msti\u001b[0m\u001b[0;34m,\u001b[0m \u001b[0mfindFirst\u001b[0m \u001b[0;34m=\u001b[0m \u001b[0;32mFalse\u001b[0m\u001b[0;34m,\u001b[0m\u001b[0;34m\u001b[0m\u001b[0;34m\u001b[0m\u001b[0m\n\u001b[1;32m     14\u001b[0m              start_state = None, disable_tqdm = True)\n",
      "\u001b[0;31mNameError\u001b[0m: name 'inList' is not defined"
     ]
    }
   ],
   "source": [
    "T = 0.7\n",
    "dt=0.01\n",
    "n_features=10\n",
    "pick_points = np.linspace(0, T*100, n_features, endpoint = False, dtype = int)\n",
    "temp_signal = x1.reshape(7,7)\n",
    "sti = []\n",
    "for i in range(7):\n",
    "    sti.append(stimulus__('Custom', T=T,dt=dt, customSignal = signal_expand(np.array([temp_signal[i,:], temp_signal[:,i]]).reshape(-1))))\n",
    "for i in range(2):\n",
    "    sti.append(stimulus__('Drain', T=T,dt=dt))\n",
    "sim = runSim(connectivity, contactMode = 'preSet', \n",
    "             electrodes = np.append(inList, outList), \n",
    "             T = T, dt = dt, stimulus = sti, findFirst = False, \n",
    "             start_state = None, disable_tqdm = True)\n",
    "return sim.electrodeCurrent[pick_points,8:10].reshape(-1)"
   ]
  },
  {
   "cell_type": "code",
   "execution_count": null,
   "metadata": {},
   "outputs": [],
   "source": []
  }
 ],
 "metadata": {
  "kernelspec": {
   "display_name": "Python 3",
   "language": "python",
   "name": "python3"
  },
  "language_info": {
   "codemirror_mode": {
    "name": "ipython",
    "version": 3
   },
   "file_extension": ".py",
   "mimetype": "text/x-python",
   "name": "python",
   "nbconvert_exporter": "python",
   "pygments_lexer": "ipython3",
   "version": "3.7.3"
  }
 },
 "nbformat": 4,
 "nbformat_minor": 2
}
