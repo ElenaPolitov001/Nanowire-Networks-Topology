{
 "cells": [
  {
   "cell_type": "code",
   "execution_count": 1,
   "metadata": {},
   "outputs": [],
   "source": [
    "import sys\n",
    "sys.path.append('/import/silo2/aloe8475/Documents/edamame')"
   ]
  },
  {
   "cell_type": "code",
   "execution_count": 2,
   "metadata": {},
   "outputs": [],
   "source": [
    "from scipy.io import loadmat, savemat\n",
    "from scipy import signal\n",
    "from edamame import * \n",
    "import numpy as np\n",
    "import matplotlib.pyplot as plt\n",
    "from matplotlib import colors\n",
    "import networkx as nx\n",
    "from tqdm import tqdm_notebook as tqdm\n",
    "import os\n",
    "from IPython.core.debugger import set_trace\n",
    "import matplotlib.colors as clrs\n"
   ]
  },
  {
   "cell_type": "code",
   "execution_count": 3,
   "metadata": {
    "scrolled": true
   },
   "outputs": [
    {
     "name": "stderr",
     "output_type": "stream",
     "text": [
      "2021-04-27 13:36:04,644:INFO:Detecting junctions\n",
      "2021-04-27 13:36:06,039:INFO:Finished detecting junctions\n",
      "2021-04-27 13:36:06,085:INFO:The returned network has 5114 junctions.\n"
     ]
    }
   ],
   "source": [
    "#Generate Network\n",
    "this_seed=8637#np.random.randint(10000)\n",
    "Network=edamame.core.generate_network(300,this_seed=this_seed)"
   ]
  },
  {
   "cell_type": "code",
   "execution_count": 4,
   "metadata": {},
   "outputs": [],
   "source": [
    "connectivity=connectivity__(wires_dict=Network)"
   ]
  },
  {
   "cell_type": "markdown",
   "metadata": {},
   "source": [
    "Initialise Input Electrodes + Target Electrodes"
   ]
  },
  {
   "cell_type": "code",
   "execution_count": 20,
   "metadata": {},
   "outputs": [],
   "source": [
    "# FUNCTIONS\n",
    "def pattern(pattern_type):\n",
    "    if pattern_type == 1:\n",
    "        training_list=[0,2,4,9,10,11] #drains, then sources\n",
    "    elif pattern_type == 2:\n",
    "        training_list=[4,7,8,9,10,11] #drains, then sources\n",
    "    elif pattern_type == 3:\n",
    "        training_list=[0,4,8,9,10,11] #drains, then sources\n",
    "    return training_list\n",
    "\n",
    "def boolPattern(pattern_type,amp):\n",
    "    if pattern_type == 1:\n",
    "        boolTargets=np.array([amp,0,amp,0,amp,0,0,0,0]).astype(bool)\n",
    "    elif pattern_type == 2:\n",
    "        boolTargets=np.array([0,0,0,0,amp,0,0,amp,amp]).astype(bool)\n",
    "    elif pattern_type == 3:\n",
    "        boolTargets=np.array([amp,0,0,0,amp,0,0,0,amp]).astype(bool)\n",
    "    return boolTargets\n",
    "\n",
    "def runTraining(connectivity,training_stimulus,numTraining,T=1,electrodes=[]):\n",
    "    training_state=[None]*numTraining #network state for training   \n",
    "    training_sims=[None]*numTraining\n",
    "    for i in range(numTraining):\n",
    "        if i > 0:\n",
    "            training_sims[i]=runSim(connectivity, start_state=training_state[i-1], stimulus=training_stimulus,T=T, contactMode='preSet', electrodes=electrodes, findFirst=False,collapse=True,disable_tqdm=True)\n",
    "        else:\n",
    "            training_sims[i]=runSim(connectivity, stimulus=training_stimulus, contactMode='preSet',T=T, electrodes=electrodes, findFirst=False,collapse=True,disable_tqdm=True)\n",
    "\n",
    "    #save state of training sim to start from there in next training sim\n",
    "    training_state[i]=getJunctionState(training_sims[i])\n",
    "    return training_sims[i],training_state[i]\n",
    "\n",
    "def runTesting(connectivity,training_state,testing_stimulus,onAmp=1,dt=0.001,f=0.5,T=1,electrodes=[]):\n",
    "    testing_sims=runSim(connectivity, start_state=training_state, stimulus=testing_stimulus, contactMode='preSet', electrodes=electrodes,T=T, onAmp=onAmp, dt=dt, f=f, findFirst=False,collapse=True,disable_tqdm=True)\n",
    "    testing_state=getJunctionState(testing_sims)\n",
    "    return testing_sims,testing_state\n",
    "\n",
    "\n",
    "def drains_assign(testing_sims,training_sims,b_training,b_testing,num_drain_training,drainAndSourceTargets):\n",
    "\n",
    "    #Compare training current output of target drains (open) with testing current output of target drains (open)\n",
    "    drain_training={'Target':[None]*num_drain_training, 'Non-Target':[None]*(num_drain_testing-num_drain_training)}\n",
    "    drain_testing={'Target':[None]*num_drain_training, 'Non-Target':[None]*(num_drain_testing-num_drain_training)}\n",
    "    \n",
    "    for i in range((num_drain_training)):\n",
    "        #Target Drains: \n",
    "        temp=b_testing[drainAndSourceTargets]\n",
    "        drain_training['Target'][i]=wireCurrentTimeSeries(training_sims, temp[i])\n",
    "        drain_testing['Target'][i]=wireCurrentTimeSeries(testing_sims, temp[i])\n",
    "    #Compare training current output of non-target drains (closed) with testing current output of non-target drains (open)\n",
    "    #Non-Target Drains: \n",
    "    for i in range((num_drain_testing-num_drain_training)):\n",
    "        temp2=b_testing[~drainAndSourceTargets][:-3]\n",
    "        drain_training['Non-Target'][i]=wireCurrentTimeSeries(training_sims, temp2[i])\n",
    "        drain_testing['Non-Target'][i]=wireCurrentTimeSeries(testing_sims, temp2[i])\n",
    "        \n",
    "    return drain_training, drain_testing\n",
    "\n",
    "def cross_correlate(drain_testing):\n",
    "    sclistTarget=[None]*len(drain_testing['Target'])\n",
    "    sclistNonTarget=[None]*len(drain_testing['Non-Target'])\n",
    "    # DOT PRODUCT CROSS CORRLATION\n",
    "    for i in range(len(drain_testing['Target'])): #for number of training sessions\n",
    "        a=drain_training['Target'][i][:500].reshape(-1)\n",
    "        b=drain_testing['Target'][i].reshape(-1)\n",
    "        #take the first 500 seconds of training signal and compare to testing signal\n",
    "        sclistTarget[i]=np.dot(a,b) \n",
    "\n",
    "    for i in range(len(drain_testing['Non-Target'])): #for number of training sessions\n",
    "        a=drain_training['Non-Target'][i][:500].reshape(-1)\n",
    "        b=drain_testing['Non-Target'][i].reshape(-1)\n",
    "        #take the first 500 seconds of training signal and compare to testing signal\n",
    "        sclistNonTarget[i]=np.dot(a,b)\n",
    "    \n",
    "    return sclistTarget,sclistNonTarget\n",
    "\n",
    "\n",
    "def calc_grid(boolTargets):\n",
    "    grid = np.zeros(9)\n",
    "\n",
    "    gridTarget=[i for i, x in enumerate(boolTargets) if x] #find target electrodes\n",
    "    gridNonTarget=[i for i, x in enumerate(boolTargets) if ~x] #find non-target electrodes\n",
    "\n",
    "    grid[gridTarget] = sclistTarget #find crosscorrelation values of target electrodes\n",
    "    grid[gridNonTarget] = sclistNonTarget #find crosscorrelation values of non-target electrodes\n",
    "\n",
    "    grid=(grid.reshape(3,3))\n",
    "\n",
    "    return grid\n",
    "def calc_normal_grid(boolTargets,maxOrigGrid,minOrigGrid,meanOrigGrid,grid):\n",
    "    normalizedGrid=[]\n",
    "    for i in range(len(grid)):\n",
    "        normalizedGrid.append((grid[i]-meanOrigGrid)/(maxOrigGrid-minOrigGrid))\n",
    "    normalizedGrid=np.array(normalizedGrid).reshape(-1)\n",
    "    return normalizedGrid\n",
    "\n",
    "def plot_grid(grid,boolTargets):\n",
    "    #Plot cross-correlation grid: \n",
    "    fig1 = plt.figure(figsize=(11,11))\n",
    "    ax1=fig1.add_subplot(1, 2, 1)\n",
    "    ax1.title.set_text('Output Dot Products')\n",
    "    plt.imshow(grid,interpolation='none',cmap='plasma')#norm=clrs.LogNorm())\n",
    "    plt.colorbar(shrink=0.5)\n",
    "\n",
    "    ax2=fig1.add_subplot(1, 2, 2)\n",
    "    ax2.title.set_text('Target')\n",
    "    plt.imshow((boolTargets.reshape(3,3)).astype(int),interpolation='none',cmap='plasma')\n",
    "    plt.colorbar(shrink=0.5)\n",
    "\n",
    "    #Remove Tick Labels\n",
    "    fig1.axes[0].get_xaxis().set_ticklabels([])\n",
    "    fig1.axes[0].get_yaxis().set_ticklabels([])\n",
    "    fig1.axes[2].get_xaxis().set_ticklabels([])\n",
    "    fig1.axes[2].get_yaxis().set_ticklabels([])\n",
    "    \n",
    "\n",
    "def changeVoltage(drain_training,boolTargets,normalizedGrid,threshold,onAmp=1,dt=0.001,f=0.5,T=1):\n",
    "    \n",
    "    for i in range(len(normalizedGrid[boolTargets])):\n",
    "        if normalizedGrid[boolTargets][i]<threshold: # if the output voltages for the targets are less than the threshold\n",
    "#             set_trace()\n",
    "            training_stimulus[-3:][i].signal=training_stimulus[-3:][i].signal*1.05#=(stimulus__(biasType='DC',onAmp=onAmp[i]*1.05,TimeVector=np.arange(0,T,dt),f=f)) #increase voltage by 5%\n",
    "            training_stimulus[-3:][i].onAmp=training_stimulus[-3:][i].onAmp*1.05    \n",
    "            print('Input Electrode ' + str(i+1) + ' Increased by 5%')\n",
    "    \n",
    "    count=0\n",
    "    whichElectrodes=np.argwhere(normalizedGrid[~boolTargets]>threshold)\n",
    "    if len(whichElectrodes)!=0:\n",
    "        for i in whichElectrodes:\n",
    "    #         if normalizedGrid[~boolTargets][i]>threshold: #if the output voltages for the targets are more than the threshold\n",
    "            testing_stimulus[:-3][i]=(stimulus__(biasType='DC',onAmp=0.1,TimeVector=np.arange(0,T,dt),f=f)) #decrease voltage by 5%\n",
    "            print('Output Electrode ' + str(count) + ' Changed to 0.1')\n",
    "    return training_stimulus\n"
   ]
  },
  {
   "cell_type": "code",
   "execution_count": 6,
   "metadata": {},
   "outputs": [],
   "source": [
    "#Initialise Training + Testing:\n",
    "numSessions=2\n",
    "numTraining = 1 #how many training simulations to run per session\n",
    "numTesting = 1\n",
    "\n",
    "#Testing and Training patterns: \n",
    "# 9 drains, 3 sources\n",
    "b_testing=np.array([194, 230, 79, 34, 127, 169, 133, 264, 91, 272,117, 148])#edamame.core.getBoundaryPairing(connectivity,9)\n",
    "b_training=b_testing[:]\n",
    "\n",
    "pattern_type=1 # CHANGE PATTERN TYPE\n",
    "num_source_training=3\n",
    "num_drain_training=3\n",
    "\n",
    "training_list = pattern(pattern_type)\n",
    "\n",
    "# Open Electrodes for testing\n",
    "testing_list=[0,1,2,3,4,5,6,7,8,9,10,11]#Drains then sources\n",
    "\n",
    "num_source_testing=num_source_training\n",
    "num_drain_testing=len(testing_list)-num_source_testing\n",
    "\n",
    "b_testing=b_testing[testing_list]\n",
    "b_training=b_training[training_list]"
   ]
  },
  {
   "cell_type": "code",
   "execution_count": 7,
   "metadata": {},
   "outputs": [
    {
     "data": {
      "text/plain": [
       "3"
      ]
     },
     "execution_count": 7,
     "metadata": {},
     "output_type": "execute_result"
    }
   ],
   "source": [
    "num_drain_training"
   ]
  },
  {
   "cell_type": "code",
   "execution_count": 8,
   "metadata": {},
   "outputs": [],
   "source": [
    "#Initialise stimulus:\n",
    "onAmp_training = 1 #amplitude for training\n",
    "onAmp_testing=0.2 #amplitude for testing\n",
    "signal_time = 0.5\n",
    "rest_time = 0.5\n",
    "rest_between_training=30\n",
    "run_time=signal_time+rest_time\n",
    "dt = 0.001\n",
    "f= 0.5\n",
    "\n",
    "training_stimulus = []\n",
    "testing_stimulus = []\n",
    "resting_stimulus=[]\n",
    "training_sims=[None]*numTraining\n",
    "testing_sims=[None]*numTesting\n",
    "testing_state=[None]*numTesting\n",
    "resting_sims=[None]*(numSessions-1) #rest between sessions\n",
    "\n",
    "#TRAINING STIMULUS\n",
    "# ONLY DRAINS WITH CORRESPONDING STIMULUS SOURCE ARE ACTIVE\n",
    "#Drains: \n",
    "for i in range(num_drain_training):\n",
    "    #DRAIN WITHOUT REST\n",
    "    training_stimulus.append((stimulus__(biasType='Drain',TimeVector=np.arange(0,run_time,dt))))\n",
    "#     resting_stimulus.append((stimulus__(biasType='Drain',TimeVector=np.arange(0,rest_between_training,dt))))\n",
    "\n",
    "#Sources\n",
    "for i in range(num_source_training):\n",
    "    #SOURCE WITHOUT REST\n",
    "    training_stimulus.append((stimulus__(biasType='DC',onAmp=onAmp_training,TimeVector=np.arange(0,run_time,dt),f=f)))\n",
    "    \n",
    "    #ADD REST AT THE END\n",
    "#     training_stimulus[(num_drain_training)+i].signal=np.concatenate([np.array(stimulus__(biasType='DC',onAmp=onAmp_training,TimeVector=np.arange(0,signal_time,dt),f=f).signal), np.array([0.005]*int(rest_time/dt))]) \n",
    "    \n",
    "#     REST BETWEEN SESSIONS\n",
    "#     resting_stimulus.append((stimulus__(biasType='DC',onAmp=0.0001,TimeVector=np.arange(0,rest_between_training,dt),f=f)))\n",
    "\n",
    "\n",
    "#CONVERT TO BOOLEAN FOR TARGET PATTERN:\n",
    "boolTargets=boolPattern(pattern_type,onAmp_training)\n",
    "drainAndSourceTargets=np.hstack((boolTargets,np.zeros(num_source_training).astype(bool)))"
   ]
  },
  {
   "cell_type": "code",
   "execution_count": 9,
   "metadata": {},
   "outputs": [
    {
     "data": {
      "text/plain": [
       "<matplotlib.image.AxesImage at 0x7f15a4388b00>"
      ]
     },
     "execution_count": 9,
     "metadata": {},
     "output_type": "execute_result"
    },
    {
     "data": {
      "image/png": "[encoded data removed]",
      "text/plain": [
       "<Figure size 432x288 with 1 Axes>"
      ]
     },
     "metadata": {
      "needs_background": "light"
     },
     "output_type": "display_data"
    }
   ],
   "source": [
    "#Show target\n",
    "plt.imshow((boolTargets.reshape(3,3)).astype(int),interpolation='none',cmap='plasma')"
   ]
  },
  {
   "cell_type": "markdown",
   "metadata": {},
   "source": [
    "## TRAINING"
   ]
  },
  {
   "cell_type": "code",
   "execution_count": 10,
   "metadata": {},
   "outputs": [],
   "source": [
    "#Run Training\n",
    "training_sims,training_state=runTraining(connectivity,training_stimulus,numTraining,T=run_time,electrodes=b_training)"
   ]
  },
  {
   "cell_type": "code",
   "execution_count": 11,
   "metadata": {},
   "outputs": [],
   "source": [
    "nontargetElectrodes=list(set(testing_list) - set(training_list))\n",
    "targetElectrodes=list(set(testing_list) - (set(testing_list) - set(training_list)))\n",
    "inputElectrodes=targetElectrodes[-num_source_training:]\n",
    "targetElectrodes=targetElectrodes[:-num_source_training]#remove source electrodes"
   ]
  },
  {
   "cell_type": "code",
   "execution_count": 12,
   "metadata": {},
   "outputs": [],
   "source": [
    "# #Visualise Training Electrode Positions\n",
    "# draw_graph(training_sims, time = 0.99, figsize=(10,10),colorbar=True)\n",
    "# G = nx.from_numpy_array(training_sims.connectivity.adj_matrix)\n",
    "# pos=nx.kamada_kawai_layout(G)\n",
    "# #highlight input, target and output nodes:\n",
    "# nx.draw_networkx_nodes(G,pos=pos,nodelist=list(b_testing[targetElectrodes]),node_color='#840000',edgecolors=None)\n",
    "# nx.draw_networkx_nodes(G,pos=pos,nodelist=list(b_testing[nontargetElectrodes]),node_color='k',edgecolors=None)\n",
    "# nx.draw_networkx_nodes(G,pos=pos,nodelist=list(b_testing[inputElectrodes]),node_color='g',edgecolors=None)"
   ]
  },
  {
   "cell_type": "markdown",
   "metadata": {},
   "source": [
    "## TESTING"
   ]
  },
  {
   "cell_type": "code",
   "execution_count": 13,
   "metadata": {},
   "outputs": [],
   "source": [
    "#TESTING STIMULUS:\n",
    "testing_stimulus=[]\n",
    "#Drains: \n",
    "for i in range(num_drain_testing):\n",
    "    testing_stimulus.append((stimulus__(biasType='DC',onAmp=0,TimeVector=np.arange(0,signal_time,dt))))\n",
    "#Sources\n",
    "for i in range(num_source_testing):\n",
    "    testing_stimulus.append((stimulus__(biasType='DC',onAmp=onAmp_testing,TimeVector=np.arange(0,signal_time,dt),f=f)))"
   ]
  },
  {
   "cell_type": "code",
   "execution_count": 14,
   "metadata": {},
   "outputs": [],
   "source": [
    "#Run Test\n",
    "resting_state=[]\n",
    "\n",
    "#Run test by feeding in the network states after training epochs  \n",
    "testing_sims,testing_state=runTesting(connectivity,training_state,testing_stimulus,onAmp=onAmp_testing,dt=dt,f=f,T=signal_time,electrodes=b_testing)\n",
    "\n",
    "#     print(\"Rest \" + str(i+1))\n",
    "    #After we test, we want to let the network rest for 30 seconds before running more training epochs later\n",
    "#     resting_sims[i]=(runSim(connectivity, start_state=testing_state[-1], stimulus=resting_stimulus, contactMode='preSet', electrodes=b_training,T=rest_between_training, onAmp=onAmp_training, dt=dt, f=f, findFirst=False,collapse=True))\n",
    "#     resting_state.append(getJunctionState(resting_sims[i]))"
   ]
  },
  {
   "cell_type": "code",
   "execution_count": 15,
   "metadata": {},
   "outputs": [],
   "source": [
    "# #Visualise Training Electrode Positions\n",
    "# draw_graph(testing_sims, time = 0.49, figsize=(10,10),colorbar=True)\n",
    "# G = nx.from_numpy_array(training_sims.connectivity.adj_matrix)\n",
    "# pos=nx.kamada_kawai_layout(G)\n",
    "# #highlight input, target and output nodes:\n",
    "# nx.draw_networkx_nodes(G,pos=pos,nodelist=list(b_testing[targetElectrodes]),node_color='#840000',edgecolors=None)\n",
    "# nx.draw_networkx_nodes(G,pos=pos,nodelist=list(b_testing[nontargetElectrodes]),node_color='r',edgecolors=None)\n",
    "# nx.draw_networkx_nodes(G,pos=pos,nodelist=list(b_testing[inputElectrodes]),node_color='g',edgecolors=None)"
   ]
  },
  {
   "cell_type": "code",
   "execution_count": 16,
   "metadata": {},
   "outputs": [],
   "source": [
    "#Assign Data to Target and Non-Target\n",
    "drain_training,drain_testing=drains_assign(testing_sims,training_sims,b_training,b_testing,num_drain_training,drainAndSourceTargets)"
   ]
  },
  {
   "cell_type": "markdown",
   "metadata": {},
   "source": [
    "## Cross Correlation"
   ]
  },
  {
   "cell_type": "code",
   "execution_count": 17,
   "metadata": {},
   "outputs": [],
   "source": [
    "#CROSS CORRELATION:\n",
    "\n",
    "sclistTarget,sclistNonTarget=cross_correlate(drain_testing)\n",
    "    \n",
    "#Adrian Cross Correlation    \n",
    "# I_ave=[None]*numSessions\n",
    "# I_tar=[None]*numSessions\n",
    "# sclist[0],I_tar[0],I_ave[0]=cross_correlation_adrian(testing_sims[-1],boolTargets)"
   ]
  },
  {
   "cell_type": "code",
   "execution_count": 21,
   "metadata": {},
   "outputs": [
    {
     "data": {
      "image/png": "[encoded data removed]",
      "text/plain": [
       "<Figure size 792x792 with 4 Axes>"
      ]
     },
     "metadata": {
      "needs_background": "light"
     },
     "output_type": "display_data"
    }
   ],
   "source": [
    "grid=calc_grid(boolTargets)\n",
    "\n",
    "maxOrigGrid=(np.max(grid))\n",
    "minOrigGrid=(np.min(grid))\n",
    "meanOrigGrid=(np.mean(grid))\n",
    "normalized_grid=calc_normal_grid(boolTargets,maxOrigGrid,minOrigGrid,meanOrigGrid,grid)\n",
    "    \n",
    "plot_grid(grid,boolTargets)"
   ]
  },
  {
   "cell_type": "code",
   "execution_count": 22,
   "metadata": {},
   "outputs": [
    {
     "data": {
      "text/plain": [
       "array([ 0.83531579, -0.16448172,  0.04959618, -0.16461883,  0.1023385 ,\n",
       "       -0.16468371, -0.16468421, -0.16412325, -0.16465875])"
      ]
     },
     "execution_count": 22,
     "metadata": {},
     "output_type": "execute_result"
    }
   ],
   "source": [
    "normalized_grid"
   ]
  },
  {
   "cell_type": "code",
   "execution_count": 23,
   "metadata": {},
   "outputs": [
    {
     "data": {
      "text/plain": [
       "array([0.83531579, 0.04959618, 0.1023385 ])"
      ]
     },
     "execution_count": 23,
     "metadata": {},
     "output_type": "execute_result"
    }
   ],
   "source": [
    "#NORMALIZE GRID\n",
    "normalized_grid[boolTargets]"
   ]
  },
  {
   "cell_type": "markdown",
   "metadata": {},
   "source": [
    "After training and testing once, we want to change the input voltages based on the output:\n",
    "\n",
    "If the target is [1,0,0;0,1,0;0,0,1] but the output after training and testing is [1,0,0;0,1,0;0,1,1] for example, we want to reduce the  input voltages responsible for row 2 and 3\n"
   ]
  },
  {
   "cell_type": "code",
   "execution_count": 32,
   "metadata": {},
   "outputs": [
    {
     "name": "stdout",
     "output_type": "stream",
     "text": [
      "Input Electrode 1 Increased by 5%\n",
      "Input Electrode 2 Increased by 5%\n",
      "Input Electrode 3 Increased by 5%\n"
     ]
    }
   ],
   "source": [
    "## REPEAT - BUT INCREASE VOLTAGE OF STIMULUS IN ROW THAT WAS INCORRECT\n",
    "threshold=5#set threshold to 0.5\n",
    "training_stimulus=changeVoltage(drain_training,boolTargets,normalized_grid,threshold,onAmp=[(onAmp_training)]*3)"
   ]
  },
  {
   "cell_type": "code",
   "execution_count": 33,
   "metadata": {},
   "outputs": [],
   "source": [
    "newOnAmp=[]\n",
    "for i in range(len(training_stimulus)):\n",
    "    newOnAmp.append(training_stimulus[i].onAmp)"
   ]
  },
  {
   "cell_type": "code",
   "execution_count": 34,
   "metadata": {},
   "outputs": [
    {
     "data": {
      "text/plain": [
       "[1, 1, 1, 1.05, 1.2762815625000004, 1.2155062500000002]"
      ]
     },
     "execution_count": 34,
     "metadata": {},
     "output_type": "execute_result"
    }
   ],
   "source": [
    "newOnAmp"
   ]
  },
  {
   "cell_type": "markdown",
   "metadata": {},
   "source": [
    "## REPEAT TRAINING AND TESTING"
   ]
  },
  {
   "cell_type": "code",
   "execution_count": 35,
   "metadata": {},
   "outputs": [],
   "source": [
    "from IPython.display import clear_output"
   ]
  },
  {
   "cell_type": "code",
   "execution_count": 36,
   "metadata": {
    "scrolled": true
   },
   "outputs": [
    {
     "name": "stdout",
     "output_type": "stream",
     "text": [
      "1%\n",
      "Target Outputs [1.5581714  0.76880861 1.80914563]\n",
      "NonTarget Outputs [-0.164255   -0.16457459 -0.16468354 -0.16468419 -0.16463524 -0.16417316]\n",
      "Input Electrode 1 Increased by 5%\n",
      "Input Electrode 2 Increased by 5%\n",
      "Input Electrode 3 Increased by 5%\n",
      "Training Voltages [1, 1, 1, 1.05, 1.2762815625000004, 1.2155062500000002]\n",
      "2%\n",
      "Target Outputs [1.78201211 1.01085832 2.539387  ]\n",
      "NonTarget Outputs [-0.16419472 -0.16456706 -0.16468349 -0.16468419 -0.16455596 -0.16412732]\n",
      "Input Electrode 1 Increased by 5%\n",
      "Input Electrode 2 Increased by 5%\n",
      "Input Electrode 3 Increased by 5%\n",
      "Training Voltages [1, 1, 1, 1.1025, 1.3400956406250004, 1.2762815625000004]\n",
      "3%\n",
      "Target Outputs [1.87840375 1.1907722  3.21472197]\n",
      "NonTarget Outputs [-0.16411823 -0.16456459 -0.16468167 -0.16468419 -0.16344399 -0.16384245]\n",
      "Input Electrode 1 Increased by 5%\n",
      "Input Electrode 2 Increased by 5%\n",
      "Input Electrode 3 Increased by 5%\n",
      "Training Voltages [1, 1, 1, 1.1576250000000001, 1.4071004226562505, 1.3400956406250004]\n",
      "4%\n",
      "Target Outputs [2.05479403 1.4711318  4.18348753]\n",
      "NonTarget Outputs [-0.16071365 -0.16454617 -0.16468255 -0.16468419 -0.16331198 -0.16346254]\n",
      "Input Electrode 1 Increased by 5%\n",
      "Input Electrode 2 Increased by 5%\n",
      "Input Electrode 3 Increased by 5%\n",
      "Training Voltages [1, 1, 1, 1.2155062500000002, 1.477455443789063, 1.4071004226562505]\n",
      "5%\n",
      "Target Outputs [2.30194288 1.87095389 5.53152466]\n",
      "NonTarget Outputs [-0.15647042 -0.16468335 -0.16466913 -0.16468419 -0.16315795 -0.16204186]\n",
      "Input Electrode 1 Increased by 5%\n",
      "Input Electrode 2 Increased by 5%\n",
      "Training Voltages [1, 1, 1, 1.2762815625000004, 1.5513282159785162, 1.477455443789063]\n",
      "6%\n",
      "Target Outputs [2.46227642 2.10750606 6.52149974]\n",
      "NonTarget Outputs [-0.15758243 -0.1644361  -0.16468354 -0.1646842  -0.16346415 -0.16057872]\n",
      "Input Electrode 1 Increased by 5%\n",
      "Input Electrode 2 Increased by 5%\n",
      "Training Voltages [1, 1, 1, 1.3400956406250004, 1.628894626777442, 1.477455443789063]\n",
      "7%\n",
      "Target Outputs [2.52208408 2.32741118 7.88948704]\n",
      "NonTarget Outputs [-0.15787789 -0.1643692  -0.16467909 -0.16468418 -0.16313628 -0.15870502]\n",
      "Input Electrode 1 Increased by 5%\n",
      "Input Electrode 2 Increased by 5%\n",
      "Training Voltages [1, 1, 1, 1.4071004226562505, 1.7103393581163142, 1.477455443789063]\n",
      "8%\n",
      "Target Outputs [2.66291476 2.62263227 9.31535756]\n",
      "NonTarget Outputs [-0.15952604 -0.16434109 -0.16464604 -0.16468417 -0.16256927 -0.15686926]\n",
      "Input Electrode 1 Increased by 5%\n",
      "Input Electrode 2 Increased by 5%\n",
      "Training Voltages [1, 1, 1, 1.477455443789063, 1.79585632602213, 1.477455443789063]\n",
      "9%\n",
      "Target Outputs [ 2.86275259  3.04510603 11.29049204]\n",
      "NonTarget Outputs [-0.1618072  -0.16428158 -0.16462774 -0.16468416 -0.16159664 -0.16466884]\n",
      "Input Electrode 1 Increased by 5%\n",
      "Input Electrode 2 Increased by 5%\n",
      "Training Voltages [1, 1, 1, 1.5513282159785162, 1.8856491423232367, 1.477455443789063]\n",
      "10%\n",
      "Target Outputs [ 2.98220214  3.37412321 13.08336968]\n",
      "NonTarget Outputs [-0.16368303 -0.16424706 -0.16458424 -0.16468415 -0.16071576 -0.15442853]\n",
      "Input Electrode 1 Increased by 5%\n",
      "Input Electrode 2 Increased by 5%\n",
      "Training Voltages [1, 1, 1, 1.628894626777442, 1.9799315994393987, 1.477455443789063]\n",
      "11%\n",
      "Target Outputs [ 3.13303072  3.70638748 14.93812205]\n",
      "NonTarget Outputs [-0.16337537 -0.16422995 -0.16468244 -0.16468408 -0.1598752  -0.14859216]\n",
      "Input Electrode 1 Increased by 5%\n",
      "Input Electrode 2 Increased by 5%\n",
      "Training Voltages [1, 1, 1, 1.7103393581163142, 2.0789281794113688, 1.477455443789063]\n",
      "12%\n",
      "Target Outputs [ 3.34146351  4.22397569 17.37257245]\n",
      "NonTarget Outputs [-0.16302717 -0.16415421 -0.16468227 -0.1646841  -0.15929514 -0.14883462]\n",
      "Input Electrode 1 Increased by 5%\n",
      "Input Electrode 2 Increased by 5%\n",
      "Training Voltages [1, 1, 1, 1.79585632602213, 2.1828745883819374, 1.477455443789063]\n",
      "13%\n",
      "Target Outputs [ 3.49231189  4.50080573 18.36688289]\n",
      "NonTarget Outputs [-0.16251236 -0.16413999 -0.16441154 -0.16466684 -0.1591642  -0.14192808]\n",
      "Input Electrode 1 Increased by 5%\n",
      "Input Electrode 2 Increased by 5%\n",
      "Training Voltages [1, 1, 1, 1.8856491423232367, 2.2920183178010345, 1.477455443789063]\n",
      "14%\n",
      "Target Outputs [ 3.66787802  5.05785223 21.39564882]\n",
      "NonTarget Outputs [-0.16235664 -0.16358757 -0.1646821  -0.16466617 -0.14376817 -0.14028201]\n",
      "Input Electrode 1 Increased by 5%\n",
      "Training Voltages [1, 1, 1, 1.9799315994393987, 2.406619233691086, 1.477455443789063]\n",
      "15%\n",
      "Target Outputs [ 3.8175337   5.34147276 22.04408515]\n",
      "NonTarget Outputs [-0.16235264 -0.15923605 -0.16434965 -0.16465277 -0.13765044 -0.14021656]\n",
      "Input Electrode 1 Increased by 5%\n",
      "Training Voltages [1, 1, 1, 2.0789281794113688, 2.406619233691086, 1.477455443789063]\n",
      "16%\n",
      "Target Outputs [ 3.9091328   5.59492755 23.21686198]\n",
      "NonTarget Outputs [-0.16230352 -0.15701188 -0.1643391  -0.16464584 -0.1308656  -0.14015217]\n",
      "Input Electrode 1 Increased by 5%\n",
      "Training Voltages [1, 1, 1, 2.1828745883819374, 2.406619233691086, 1.477455443789063]\n",
      "17%\n",
      "Target Outputs [ 4.17472606  6.06275719 25.3266598 ]\n",
      "NonTarget Outputs [-0.15827697 -0.15146314 -0.16427506 -0.16465618 -0.11697291 -0.14049887]\n",
      "Input Electrode 1 Increased by 5%\n",
      "Training Voltages [1, 1, 1, 2.2920183178010345, 2.406619233691086, 1.477455443789063]\n",
      "18%\n",
      "Target Outputs [ 4.39336644  6.50065089 27.22909593]\n",
      "NonTarget Outputs [-0.1526476  -0.1432382  -0.16431713 -0.1646317  -0.09934553 -0.14302034]\n",
      "Input Electrode 1 Increased by 5%\n",
      "Training Voltages [1, 1, 1, 2.406619233691086, 2.406619233691086, 1.477455443789063]\n",
      "19%\n",
      "Target Outputs [ 4.47885069  6.66063327 28.30241249]\n",
      "NonTarget Outputs [-0.14874578 -0.1365925  -0.16418844 -0.16464387 -0.09028282 -0.13816474]\n",
      "Input Electrode 1 Increased by 5%\n",
      "Training Voltages [1, 1, 1, 2.5269501953756404, 2.406619233691086, 1.477455443789063]\n",
      "20%\n",
      "Target Outputs [ 4.6675666   7.0626677  29.99747386]\n",
      "NonTarget Outputs [-0.14631001 -0.12819129 -0.16427647 -0.16463183 -0.0819461  -0.1412786 ]\n",
      "Input Electrode 1 Increased by 5%\n",
      "Training Voltages [1, 1, 1, 2.6532977051444226, 2.406619233691086, 1.477455443789063]\n",
      "21%\n",
      "Target Outputs [ 4.83593506  7.42995282 31.54028357]\n",
      "NonTarget Outputs [-0.14427027 -0.12270835 -0.16390631 -0.16466186 -0.06431849 -0.14201037]\n",
      "Input Electrode 1 Increased by 5%\n",
      "Training Voltages [1, 1, 1, 2.785962590401644, 2.406619233691086, 1.477455443789063]\n",
      "22%\n",
      "Target Outputs [ 5.04211897  7.84288295 33.56171832]\n",
      "NonTarget Outputs [-0.1429064  -0.1135179  -0.16381411 -0.16465126 -0.0456338  -0.14716804]\n",
      "Training Voltages [1, 1, 1, 2.9252607199217264, 2.406619233691086, 1.477455443789063]\n"
     ]
    },
    {
     "data": {
      "image/png": "[encoded data removed]",
      "text/plain": [
       "<Figure size 792x792 with 4 Axes>"
      ]
     },
     "metadata": {
      "needs_background": "light"
     },
     "output_type": "display_data"
    }
   ],
   "source": [
    "count=0\n",
    "onAmps=[]\n",
    "numIterations=100\n",
    "normalized_grid2=[]\n",
    "grid2=[]\n",
    "for iters in range(100):\n",
    "    print(str(iters+1)+'%')\n",
    "    #Run training\n",
    "    training_sims,training_state=runTraining(connectivity,training_stimulus,numTraining,electrodes=b_training)\n",
    "    \n",
    "    #Run testing\n",
    "    testing_sims,testing_state=runTesting(connectivity,training_state,testing_stimulus,onAmp=onAmp_testing,dt=dt,f=f,T=signal_time,electrodes=b_testing)\n",
    "    \n",
    "    #Assign drains\n",
    "    drain_training,drain_testing=drains_assign(testing_sims,training_sims,b_training,b_testing,num_drain_training,drainAndSourceTargets)\n",
    "    \n",
    "    #Run Cross correlation\n",
    "    sclistTarget,sclistNonTarget=cross_correlate(drain_testing)\n",
    "    grid2.append(calc_grid(boolTargets))\n",
    "    normalized_grid2.append(calc_normal_grid(boolTargets,maxOrigGrid,minOrigGrid,meanOrigGrid,grid2[iters]))\n",
    "\n",
    "    print('Target Outputs ' + str(normalized_grid2[iters][boolTargets]))\n",
    "    print('NonTarget Outputs ' + str(normalized_grid2[iters][~boolTargets]))\n",
    "    #change voltage\n",
    "    newOnAmp=[]\n",
    "    for i in range(len(training_stimulus)):\n",
    "        newOnAmp.append(training_stimulus[i].onAmp)\n",
    "    training_stimulus=changeVoltage(drain_training,boolTargets,normalized_grid2[iters],threshold,T=run_time,onAmp=newOnAmp)\n",
    "    onAmps.append(newOnAmp)\n",
    "    print('Training Voltages ' + str(onAmps[iters]))\n",
    "\n",
    "    if np.array(normalized_grid2[iters]).reshape(-1)[boolTargets][0]>threshold and normalized_grid2[iters][boolTargets][1] >threshold and normalized_grid2[iters][boolTargets][2] >threshold:\n",
    "        break;\n",
    "        \n",
    "    if np.array(grid2[iters]).reshape(-1)[boolTargets][0]>5e-4 and np.array(grid2[iters]).reshape(-1)[boolTargets][0]>5e-4  and np.array(grid2[iters]).reshape(-1)[boolTargets][0]>5e-4 :\n",
    "        break;\n",
    "    \n",
    "    \n",
    "plot_grid(grid2[-1],boolTargets)   \n",
    "        "
   ]
  },
  {
   "cell_type": "code",
   "execution_count": 39,
   "metadata": {},
   "outputs": [
    {
     "data": {
      "text/plain": [
       "array([[3.19807483e-06, 1.33761988e-08, 4.91833434e-06],\n",
       "       [3.14269325e-08, 2.07151210e-05, 5.34460226e-10],\n",
       "       [2.02732675e-11, 7.31220823e-08, 1.07586572e-08]])"
      ]
     },
     "execution_count": 39,
     "metadata": {},
     "output_type": "execute_result"
    }
   ],
   "source": [
    "grid2[iters]"
   ]
  },
  {
   "cell_type": "code",
   "execution_count": 31,
   "metadata": {},
   "outputs": [
    {
     "data": {
      "text/plain": [
       "<matplotlib.legend.Legend at 0x7f9d61c7ff98>"
      ]
     },
     "execution_count": 31,
     "metadata": {},
     "output_type": "execute_result"
    },
    {
     "data": {
      "image/png": "[encoded data removed]",
      "text/plain": [
       "<Figure size 432x288 with 1 Axes>"
      ]
     },
     "metadata": {
      "needs_background": "light"
     },
     "output_type": "display_data"
    }
   ],
   "source": [
    "a=plt.plot(onAmps,'-x')\n",
    "plt.xlabel('Iterations')\n",
    "plt.ylabel('Voltage')\n",
    "plt.legend(a,['Target Drain 1','Target Drain 2','Target Drain 3','Source 1', 'Source 2', 'Source3'])"
   ]
  },
  {
   "cell_type": "code",
   "execution_count": 40,
   "metadata": {},
   "outputs": [
    {
     "data": {
      "text/plain": [
       "array([1.48541249e-10, 4.65964105e-11, 3.50268254e-13, 3.75505037e-14,\n",
       "       4.10824225e-10, 2.56797149e-11])"
      ]
     },
     "execution_count": 40,
     "metadata": {},
     "output_type": "execute_result"
    }
   ],
   "source": [
    "np.array(grid2[0]).reshape(-1)[~boolTargets]"
   ]
  },
  {
   "cell_type": "code",
   "execution_count": 39,
   "metadata": {},
   "outputs": [
    {
     "data": {
      "text/plain": [
       "array([4.49645618e-08, 1.01349037e-07, 4.14408659e-08, 1.37683660e-13,\n",
       "       1.97665248e-07, 8.26280082e-08])"
      ]
     },
     "execution_count": 39,
     "metadata": {},
     "output_type": "execute_result"
    }
   ],
   "source": [
    "np.array(grid2[-1]).reshape(-1)[~boolTargets]"
   ]
  },
  {
   "cell_type": "code",
   "execution_count": 43,
   "metadata": {},
   "outputs": [
    {
     "data": {
      "image/png": "[encoded data removed]",
      "text/plain": [
       "<Figure size 792x792 with 4 Axes>"
      ]
     },
     "metadata": {
      "needs_background": "light"
     },
     "output_type": "display_data"
    }
   ],
   "source": [
    "plot_grid(grid2[-1],boolTargets)   \n"
   ]
  },
  {
   "cell_type": "code",
   "execution_count": 42,
   "metadata": {},
   "outputs": [
    {
     "data": {
      "text/plain": [
       "array([ 0.15854191, -0.23782141, -0.24337975, -0.24303388,  0.47803823,\n",
       "       -0.24337916, -0.24337982, -0.18220631,  0.75662018])"
      ]
     },
     "execution_count": 42,
     "metadata": {},
     "output_type": "execute_result"
    }
   ],
   "source": [
    "normalized_grid2[iters]"
   ]
  },
  {
   "cell_type": "code",
   "execution_count": null,
   "metadata": {},
   "outputs": [],
   "source": [
    "# OLD METHOD"
   ]
  },
  {
   "cell_type": "code",
   "execution_count": 42,
   "metadata": {
    "scrolled": true
   },
   "outputs": [],
   "source": [
    "# #Run Training\n",
    "# training_state=[None]*numTraining #network state for training\n",
    "# testing_state=[None]*numTesting #network state for testing\n",
    "# for i in range(numTraining):\n",
    "#     print(\"Training \" + str(i+1))\n",
    "#     training_sims[i],training_state[i]=runTraining(connectivity,training_state,training_sims,onAmp=newOnAmp,dt=dt,f=f,T=run_time,electrodes=b_training)"
   ]
  },
  {
   "cell_type": "code",
   "execution_count": 43,
   "metadata": {},
   "outputs": [],
   "source": [
    "# #Run Test\n",
    "# resting_state=[]\n",
    "# for i in range(numTesting):\n",
    "#     print(\"Testing \" + str(i+1))\n",
    "#     #Run test by feeding in the network states after training epochs  \n",
    "#     testing_sims[i],testing_state[i]=runTesting(connectivity,training_state,testing_stimulus,onAmp=onAmp_testing,dt=dt,f=f,T=signal_time,electrodes=b_testing)"
   ]
  },
  {
   "cell_type": "code",
   "execution_count": 44,
   "metadata": {},
   "outputs": [],
   "source": [
    "# #CROSS CORRELATION:\n",
    "# sclistTarget,sclistNonTarget=cross_correlate(drain_testing)"
   ]
  },
  {
   "cell_type": "code",
   "execution_count": 45,
   "metadata": {},
   "outputs": [],
   "source": [
    "# normalized_grid,grid=plot_grid(boolTargets)"
   ]
  },
  {
   "cell_type": "code",
   "execution_count": 46,
   "metadata": {},
   "outputs": [],
   "source": [
    "# normalizedGrid[boolTargets]\n",
    "# normalizedGrid=np.array(normalizedGrid).reshape(-1)"
   ]
  },
  {
   "cell_type": "code",
   "execution_count": null,
   "metadata": {},
   "outputs": [],
   "source": []
  }
 ],
 "metadata": {
  "kernelspec": {
   "display_name": "Python 3",
   "language": "python",
   "name": "python3"
  },
  "language_info": {
   "codemirror_mode": {
    "name": "ipython",
    "version": 3
   },
   "file_extension": ".py",
   "mimetype": "text/x-python",
   "name": "python",
   "nbconvert_exporter": "python",
   "pygments_lexer": "ipython3",
   "version": "3.7.3"
  }
 },
 "nbformat": 4,
 "nbformat_minor": 2
}
