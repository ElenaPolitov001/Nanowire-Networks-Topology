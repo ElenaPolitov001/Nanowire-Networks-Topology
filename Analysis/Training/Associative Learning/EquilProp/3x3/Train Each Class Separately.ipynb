{
 "cells": [
  {
   "cell_type": "code",
   "execution_count": null,
   "id": "80e9ffc4",
   "metadata": {},
   "outputs": [],
   "source": []
  },
  {
   "cell_type": "code",
   "execution_count": null,
   "id": "d0156e81",
   "metadata": {},
   "outputs": [],
   "source": [
    "#Associative Learning with all training samples\n",
    "\n",
    "maxCurrent           = 1e-5\n",
    "numClasses=3\n",
    "onAmp = 0.1\n",
    "signalType='DC'\n",
    "run_time=1\n",
    "dt=0.01\n",
    "num_drain_training=3\n",
    "num_source_training=9\n",
    "t=[None]*numClasses\n",
    "sim=[None]*numClasses\n",
    "state=[None]*numClasses\n",
    "numTrainingSamples=8\n",
    "rest=[0]*9\n",
    "restDur=10\n",
    "trainOrder=np.array(range(numTrainingSamples))\n",
    "np.random.shuffle(trainOrder)\n",
    "\n",
    "#Run for each class:\n",
    "for classNum in tqdm(range(numClasses)):\n",
    "    targetClass   = classNum #'z','v','n'\n",
    "    target_values = allTargets[targetClass]\n",
    "    chosenDrain   = drain_pool[targetClass]\n",
    "    if len(elecDrain) == 3:\n",
    "        targetClassVals=[0,1,2]\n",
    "    else:\n",
    "        targetClassVals=[0,1,2,3]\n",
    "        target_values=np.hstack((target_values,0)) #add extra 0 for 4th drain that acts just to balance the network\n",
    "\n",
    "    trainingInputs  = inputs[targets==targetClassVals[targetClass]][:-2]\n",
    "    testingInputs   = inputs[targets==targetClassVals[targetClass]][-2:]\n",
    "    \n",
    "    #expand each value to run the number of timesteps:\n",
    "    newRow=np.zeros((len(trainingInputs),int(run_time/dt)+restDur,9))\n",
    "    count=0\n",
    "    for i in trainingInputs[trainOrder]:\n",
    "        for j in range(int(run_time/dt)+restDur):\n",
    "            if j < int(run_time/dt):\n",
    "                newRow[count][j]=i\n",
    "            else:\n",
    "                newRow[count][j]=rest\n",
    "        count=count+1\n",
    "    stimulus=np.concatenate(newRow,axis=0).T*onAmp\n",
    "\n",
    "    newSignal=[]\n",
    "    for i in range(num_drain_training):\n",
    "        newSignal.append(stimulus__(biasType='Drain',T=dt*stimulus.shape[1],dt=dt))\n",
    "    for i in range(len(stimulus)):\n",
    "        newSignal.append(stimulus__(biasType='Custom',onAmp=onAmp,T=dt*stimulus.shape[1],dt=dt,customSignal=stimulus[i]))\n",
    "#     set_trace()\n",
    "    sim[classNum] = getNWState_backprop(newSignal,None,drain_pool,sources,run_time=len(newSignal[0].signal)*dt)\n",
    "    t[classNum],v=calcOutputs(sim[classNum],sources,drain_pool)\n",
    "    \n",
    "    #if we want only one drain, use [chosenDrain] instead of drain_pool\n"
   ]
  }
 ],
 "metadata": {
  "kernelspec": {
   "display_name": "Python 3",
   "language": "python",
   "name": "python3"
  },
  "language_info": {
   "codemirror_mode": {
    "name": "ipython",
    "version": 3
   },
   "file_extension": ".py",
   "mimetype": "text/x-python",
   "name": "python",
   "nbconvert_exporter": "python",
   "pygments_lexer": "ipython3",
   "version": "3.8.5"
  }
 },
 "nbformat": 4,
 "nbformat_minor": 5
}
