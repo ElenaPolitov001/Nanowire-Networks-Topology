{
 "cells": [
  {
   "cell_type": "code",
   "execution_count": 12,
   "metadata": {
    "scrolled": true
   },
   "outputs": [
    {
     "name": "stdout",
     "output_type": "stream",
     "text": [
      "Network 698 Loaded\n",
      "Running\n"
     ]
    },
    {
     "data": {
      "application/vnd.jupyter.widget-view+json": {
       "model_id": "c52f4c7798914e4997d899375c5cad96",
       "version_major": 2,
       "version_minor": 0
      },
      "text/plain": [
       "  0%|          | 0/1 [00:00<?, ?it/s]"
      ]
     },
     "metadata": {},
     "output_type": "display_data"
    },
    {
     "name": "stdout",
     "output_type": "stream",
     "text": [
      "5e-06\n"
     ]
    },
    {
     "data": {
      "application/vnd.jupyter.widget-view+json": {
       "model_id": "a7643cd9c2f54c5ea58779c31fad49d3",
       "version_major": 2,
       "version_minor": 0
      },
      "text/plain": [
       "  0%|          | 0/1 [00:00<?, ?it/s]"
      ]
     },
     "metadata": {},
     "output_type": "display_data"
    },
    {
     "data": {
      "application/vnd.jupyter.widget-view+json": {
       "model_id": "8603a1d474864d0dbe7f7a9f80c3d74e",
       "version_major": 2,
       "version_minor": 0
      },
      "text/plain": [
       "Running Simulation :   0%|          | 0/200 [00:00<?, ?it/s]"
      ]
     },
     "metadata": {},
     "output_type": "display_data"
    },
    {
     "name": "stdout",
     "output_type": "stream",
     "text": [
      "Target:0\n",
      "Currents: [5.509270960956742e-06, -2.6608238412225533e-08]\n",
      "LimVal1:5e-06\n",
      "LimVal0:5e-06\n"
     ]
    },
    {
     "data": {
      "application/vnd.jupyter.widget-view+json": {
       "model_id": "15154d75b6b64a43a7608b223d98884f",
       "version_major": 2,
       "version_minor": 0
      },
      "text/plain": [
       "Running Simulation :   0%|          | 0/200 [00:00<?, ?it/s]"
      ]
     },
     "metadata": {},
     "output_type": "display_data"
    },
    {
     "name": "stdout",
     "output_type": "stream",
     "text": [
      "Target:0\n",
      "Currents: [6.096943036761762e-06, 5.776793735130099e-08]\n",
      "LimVal1:5e-06\n",
      "LimVal0:5e-06\n"
     ]
    },
    {
     "data": {
      "application/vnd.jupyter.widget-view+json": {
       "model_id": "eec193a4b3bf4cd8986d4aa366375c87",
       "version_major": 2,
       "version_minor": 0
      },
      "text/plain": [
       "Running Simulation :   0%|          | 0/200 [00:00<?, ?it/s]"
      ]
     },
     "metadata": {},
     "output_type": "display_data"
    },
    {
     "name": "stdout",
     "output_type": "stream",
     "text": [
      "Target:0\n",
      "Currents: [7.137708371643288e-06, 8.638941157243425e-08]\n",
      "LimVal1:5e-06\n",
      "LimVal0:5e-06\n"
     ]
    },
    {
     "data": {
      "application/vnd.jupyter.widget-view+json": {
       "model_id": "4a43de9459d3425eb5b37f05e50f7322",
       "version_major": 2,
       "version_minor": 0
      },
      "text/plain": [
       "Running Simulation :   0%|          | 0/200 [00:00<?, ?it/s]"
      ]
     },
     "metadata": {},
     "output_type": "display_data"
    },
    {
     "name": "stdout",
     "output_type": "stream",
     "text": [
      "Target:0\n",
      "Target: 0.0\n",
      "Accuracy: 1.0\n",
      "Currents: [4.957788404832962e-07, 1.3470343815956866e-08]\n",
      "LimVal1:5e-06\n",
      "LimVal0:5e-06\n"
     ]
    },
    {
     "data": {
      "application/vnd.jupyter.widget-view+json": {
       "model_id": "8ff5c3040f2a468a96b507b3acbf5de2",
       "version_major": 2,
       "version_minor": 0
      },
      "text/plain": [
       "Running Simulation :   0%|          | 0/200 [00:00<?, ?it/s]"
      ]
     },
     "metadata": {},
     "output_type": "display_data"
    },
    {
     "name": "stdout",
     "output_type": "stream",
     "text": [
      "Target:1\n",
      "Currents: [-6.318200396482207e-06, 8.821195340003691e-06]\n",
      "LimVal1:5e-06\n",
      "LimVal0:5e-06\n"
     ]
    },
    {
     "data": {
      "application/vnd.jupyter.widget-view+json": {
       "model_id": "9e95fc37e487479e821156cb3b186ea6",
       "version_major": 2,
       "version_minor": 0
      },
      "text/plain": [
       "Running Simulation :   0%|          | 0/200 [00:00<?, ?it/s]"
      ]
     },
     "metadata": {},
     "output_type": "display_data"
    },
    {
     "name": "stdout",
     "output_type": "stream",
     "text": [
      "Target:0\n",
      "Currents: [1.3753187873731751e-05, 2.236787633971315e-06]\n",
      "LimVal1:5e-06\n",
      "LimVal0:5e-06\n"
     ]
    },
    {
     "data": {
      "application/vnd.jupyter.widget-view+json": {
       "model_id": "bb6dd83a6b60442981e03eb98ac16ef0",
       "version_major": 2,
       "version_minor": 0
      },
      "text/plain": [
       "Running Simulation :   0%|          | 0/200 [00:00<?, ?it/s]"
      ]
     },
     "metadata": {},
     "output_type": "display_data"
    },
    {
     "name": "stdout",
     "output_type": "stream",
     "text": [
      "Target:1\n",
      "Currents: [1.4882794304095493e-05, 1.001141122328102e-05]\n",
      "LimVal1:5e-06\n",
      "LimVal0:5e-06\n"
     ]
    },
    {
     "data": {
      "application/vnd.jupyter.widget-view+json": {
       "model_id": "db6c2a4463f449e0b899008a1289c55d",
       "version_major": 2,
       "version_minor": 0
      },
      "text/plain": [
       "Running Simulation :   0%|          | 0/200 [00:00<?, ?it/s]"
      ]
     },
     "metadata": {},
     "output_type": "display_data"
    },
    {
     "name": "stdout",
     "output_type": "stream",
     "text": [
      "Target:1\n",
      "Target: 1.0\n",
      "Accuracy: 0.22\n",
      "Currents: [1.4769015953538683e-06, 2.2674384781642203e-06]\n",
      "LimVal1:7.500000000000001e-06\n",
      "LimVal0:3.7500000000000005e-06\n"
     ]
    },
    {
     "data": {
      "application/vnd.jupyter.widget-view+json": {
       "model_id": "8221e1f9c18144c883adb466c4b59af4",
       "version_major": 2,
       "version_minor": 0
      },
      "text/plain": [
       "Running Simulation :   0%|          | 0/200 [00:00<?, ?it/s]"
      ]
     },
     "metadata": {},
     "output_type": "display_data"
    },
    {
     "name": "stdout",
     "output_type": "stream",
     "text": [
      "Target:0\n",
      "Currents: [9.193241251783638e-06, 5.2290397398603115e-06]\n",
      "LimVal1:7.500000000000001e-06\n",
      "LimVal0:3.7500000000000005e-06\n"
     ]
    },
    {
     "data": {
      "application/vnd.jupyter.widget-view+json": {
       "model_id": "c3fde0dc20d44850896a1f726a367391",
       "version_major": 2,
       "version_minor": 0
      },
      "text/plain": [
       "Running Simulation :   0%|          | 0/200 [00:00<?, ?it/s]"
      ]
     },
     "metadata": {},
     "output_type": "display_data"
    },
    {
     "name": "stdout",
     "output_type": "stream",
     "text": [
      "Target:1\n",
      "Currents: [7.952059926016504e-06, 1.0723839362842047e-05]\n",
      "LimVal1:7.500000000000001e-06\n",
      "LimVal0:3.7500000000000005e-06\n"
     ]
    },
    {
     "data": {
      "application/vnd.jupyter.widget-view+json": {
       "model_id": "5786152db4fa4217967774e724fec25a",
       "version_major": 2,
       "version_minor": 0
      },
      "text/plain": [
       "Running Simulation :   0%|          | 0/200 [00:00<?, ?it/s]"
      ]
     },
     "metadata": {},
     "output_type": "display_data"
    },
    {
     "name": "stdout",
     "output_type": "stream",
     "text": [
      "Target:1\n",
      "Currents: [1.1985685532957427e-05, 9.564714577783901e-06]\n",
      "LimVal1:7.500000000000001e-06\n",
      "LimVal0:3.7500000000000005e-06\n"
     ]
    },
    {
     "data": {
      "application/vnd.jupyter.widget-view+json": {
       "model_id": "27f9a59163654689996719d94fbddd0f",
       "version_major": 2,
       "version_minor": 0
      },
      "text/plain": [
       "Running Simulation :   0%|          | 0/200 [00:00<?, ?it/s]"
      ]
     },
     "metadata": {},
     "output_type": "display_data"
    },
    {
     "name": "stdout",
     "output_type": "stream",
     "text": [
      "Target:0\n",
      "Target: 0.0\n",
      "Accuracy: 0.435\n",
      "Currents: [7.143406130726368e-07, 5.891074531904096e-07]\n",
      "LimVal1:6.250000000000001e-06\n",
      "LimVal0:6.250000000000001e-06\n"
     ]
    },
    {
     "data": {
      "application/vnd.jupyter.widget-view+json": {
       "model_id": "99c3877294c549c38823f3360f146279",
       "version_major": 2,
       "version_minor": 0
      },
      "text/plain": [
       "Running Simulation :   0%|          | 0/200 [00:00<?, ?it/s]"
      ]
     },
     "metadata": {},
     "output_type": "display_data"
    },
    {
     "name": "stdout",
     "output_type": "stream",
     "text": [
      "Target:1\n",
      "Currents: [1.2169200226011347e-05, 8.848563386702222e-06]\n",
      "LimVal1:6.250000000000001e-06\n",
      "LimVal0:6.250000000000001e-06\n"
     ]
    },
    {
     "data": {
      "application/vnd.jupyter.widget-view+json": {
       "model_id": "b6fd982ba01c49eba31329dff59cd6b3",
       "version_major": 2,
       "version_minor": 0
      },
      "text/plain": [
       "Running Simulation :   0%|          | 0/200 [00:00<?, ?it/s]"
      ]
     },
     "metadata": {},
     "output_type": "display_data"
    },
    {
     "name": "stdout",
     "output_type": "stream",
     "text": [
      "Target:0\n",
      "Currents: [7.636795453894439e-06, 9.952149392028142e-06]\n",
      "LimVal1:6.250000000000001e-06\n",
      "LimVal0:6.250000000000001e-06\n"
     ]
    },
    {
     "data": {
      "application/vnd.jupyter.widget-view+json": {
       "model_id": "6f1e965e47584e14aaf1b7c99895661b",
       "version_major": 2,
       "version_minor": 0
      },
      "text/plain": [
       "Running Simulation :   0%|          | 0/200 [00:00<?, ?it/s]"
      ]
     },
     "metadata": {},
     "output_type": "display_data"
    },
    {
     "name": "stdout",
     "output_type": "stream",
     "text": [
      "Target:1\n",
      "Currents: [1.3390659259466595e-05, 6.9599684732280625e-06]\n",
      "LimVal1:6.250000000000001e-06\n",
      "LimVal0:6.250000000000001e-06\n"
     ]
    },
    {
     "data": {
      "application/vnd.jupyter.widget-view+json": {
       "model_id": "f1c09e1423fa4b819b872a9c44d851ed",
       "version_major": 2,
       "version_minor": 0
      },
      "text/plain": [
       "Running Simulation :   0%|          | 0/200 [00:00<?, ?it/s]"
      ]
     },
     "metadata": {},
     "output_type": "display_data"
    },
    {
     "name": "stdout",
     "output_type": "stream",
     "text": [
      "Target:1\n",
      "Target: 1.0\n",
      "Accuracy: 0.6\n",
      "Currents: [1.8512408187857181e-06, 1.812910312930273e-06]\n",
      "LimVal1:8.750000000000001e-06\n",
      "LimVal0:5.000000000000001e-06\n"
     ]
    },
    {
     "data": {
      "application/vnd.jupyter.widget-view+json": {
       "model_id": "53e4398876134645933a4ae45f5e882d",
       "version_major": 2,
       "version_minor": 0
      },
      "text/plain": [
       "Running Simulation :   0%|          | 0/200 [00:00<?, ?it/s]"
      ]
     },
     "metadata": {},
     "output_type": "display_data"
    },
    {
     "name": "stdout",
     "output_type": "stream",
     "text": [
      "Target:0\n",
      "Currents: [5.64451924856163e-06, 6.921111688182603e-06]\n",
      "LimVal1:8.750000000000001e-06\n",
      "LimVal0:5.000000000000001e-06\n"
     ]
    },
    {
     "data": {
      "application/vnd.jupyter.widget-view+json": {
       "model_id": "31c9749bbdd84f93b5b7f69a952f2522",
       "version_major": 2,
       "version_minor": 0
      },
      "text/plain": [
       "Running Simulation :   0%|          | 0/200 [00:00<?, ?it/s]"
      ]
     },
     "metadata": {},
     "output_type": "display_data"
    },
    {
     "name": "stdout",
     "output_type": "stream",
     "text": [
      "Target:1\n",
      "Currents: [8.036967221926433e-06, 1.2786396629515231e-05]\n",
      "LimVal1:8.750000000000001e-06\n",
      "LimVal0:5.000000000000001e-06\n"
     ]
    },
    {
     "data": {
      "application/vnd.jupyter.widget-view+json": {
       "model_id": "da176361c2f445ddaae04633e37f3102",
       "version_major": 2,
       "version_minor": 0
      },
      "text/plain": [
       "Running Simulation :   0%|          | 0/200 [00:00<?, ?it/s]"
      ]
     },
     "metadata": {},
     "output_type": "display_data"
    },
    {
     "name": "stdout",
     "output_type": "stream",
     "text": [
      "Target:1\n",
      "Currents: [4.478458083172775e-06, 1.0503350639473797e-05]\n",
      "LimVal1:8.750000000000001e-06\n",
      "LimVal0:5.000000000000001e-06\n"
     ]
    },
    {
     "data": {
      "application/vnd.jupyter.widget-view+json": {
       "model_id": "0e29d8ed59be4b91a67bae7269b9aa42",
       "version_major": 2,
       "version_minor": 0
      },
      "text/plain": [
       "Running Simulation :   0%|          | 0/200 [00:00<?, ?it/s]"
      ]
     },
     "metadata": {},
     "output_type": "display_data"
    },
    {
     "name": "stdout",
     "output_type": "stream",
     "text": [
      "Target:0\n",
      "Target: 0.0\n",
      "Accuracy: 0.125\n",
      "Currents: [3.452693341588058e-07, 1.6238002232110659e-06]\n",
      "LimVal1:7.500000000000001e-06\n",
      "LimVal0:7.500000000000001e-06\n"
     ]
    },
    {
     "data": {
      "application/vnd.jupyter.widget-view+json": {
       "model_id": "82f06e17bbb54991aba2a6b92968ea79",
       "version_major": 2,
       "version_minor": 0
      },
      "text/plain": [
       "Running Simulation :   0%|          | 0/200 [00:00<?, ?it/s]"
      ]
     },
     "metadata": {},
     "output_type": "display_data"
    },
    {
     "name": "stdout",
     "output_type": "stream",
     "text": [
      "Target:1\n",
      "Currents: [1.4274184855413497e-05, 1.165074330785253e-05]\n",
      "LimVal1:7.500000000000001e-06\n",
      "LimVal0:7.500000000000001e-06\n"
     ]
    },
    {
     "data": {
      "application/vnd.jupyter.widget-view+json": {
       "model_id": "1926bd47e465428a83fcdfc285625e0b",
       "version_major": 2,
       "version_minor": 0
      },
      "text/plain": [
       "Running Simulation :   0%|          | 0/200 [00:00<?, ?it/s]"
      ]
     },
     "metadata": {},
     "output_type": "display_data"
    },
    {
     "name": "stdout",
     "output_type": "stream",
     "text": [
      "Target:0\n",
      "Currents: [7.616075550503489e-06, 4.117016417892559e-06]\n",
      "LimVal1:7.500000000000001e-06\n",
      "LimVal0:7.500000000000001e-06\n"
     ]
    },
    {
     "data": {
      "application/vnd.jupyter.widget-view+json": {
       "model_id": "a01918266ed847a28420b6bd8f74abf1",
       "version_major": 2,
       "version_minor": 0
      },
      "text/plain": [
       "Running Simulation :   0%|          | 0/200 [00:00<?, ?it/s]"
      ]
     },
     "metadata": {},
     "output_type": "display_data"
    },
    {
     "name": "stdout",
     "output_type": "stream",
     "text": [
      "Target:1\n",
      "Currents: [1.2786589762547559e-05, 7.854668611793682e-06]\n",
      "LimVal1:7.500000000000001e-06\n",
      "LimVal0:7.500000000000001e-06\n"
     ]
    },
    {
     "data": {
      "application/vnd.jupyter.widget-view+json": {
       "model_id": "c569e8c25c2e49b5b40c1e2967144f59",
       "version_major": 2,
       "version_minor": 0
      },
      "text/plain": [
       "Running Simulation :   0%|          | 0/200 [00:00<?, ?it/s]"
      ]
     },
     "metadata": {},
     "output_type": "display_data"
    },
    {
     "name": "stdout",
     "output_type": "stream",
     "text": [
      "Target:1\n",
      "Target: 1.0\n",
      "Accuracy: 0.375\n",
      "Currents: [1.9126321899780574e-06, 1.5786339106000396e-06]\n",
      "LimVal1:1e-05\n",
      "LimVal0:6.250000000000001e-06\n"
     ]
    },
    {
     "data": {
      "application/vnd.jupyter.widget-view+json": {
       "model_id": "922e6bb3d78e405cbaa331bfa236f799",
       "version_major": 2,
       "version_minor": 0
      },
      "text/plain": [
       "Running Simulation :   0%|          | 0/200 [00:00<?, ?it/s]"
      ]
     },
     "metadata": {},
     "output_type": "display_data"
    },
    {
     "name": "stdout",
     "output_type": "stream",
     "text": [
      "Target:1\n",
      "Currents: [1.5295099081824273e-05, 1.2736001974777344e-05]\n",
      "LimVal1:1e-05\n",
      "LimVal0:6.250000000000001e-06\n"
     ]
    },
    {
     "data": {
      "application/vnd.jupyter.widget-view+json": {
       "model_id": "13b3c21780e94773ae72062b4cb92c33",
       "version_major": 2,
       "version_minor": 0
      },
      "text/plain": [
       "Running Simulation :   0%|          | 0/200 [00:00<?, ?it/s]"
      ]
     },
     "metadata": {},
     "output_type": "display_data"
    },
    {
     "name": "stdout",
     "output_type": "stream",
     "text": [
      "Target:0\n",
      "Currents: [6.386503863679516e-06, 6.814403835974025e-06]\n",
      "LimVal1:1e-05\n",
      "LimVal0:6.250000000000001e-06\n"
     ]
    },
    {
     "data": {
      "application/vnd.jupyter.widget-view+json": {
       "model_id": "84702c59f71940169240fce6411bb66e",
       "version_major": 2,
       "version_minor": 0
      },
      "text/plain": [
       "Running Simulation :   0%|          | 0/200 [00:00<?, ?it/s]"
      ]
     },
     "metadata": {},
     "output_type": "display_data"
    },
    {
     "name": "stdout",
     "output_type": "stream",
     "text": [
      "Target:1\n",
      "Currents: [9.034636199124271e-06, 1.3643707407084856e-05]\n",
      "LimVal1:1e-05\n",
      "LimVal0:6.250000000000001e-06\n"
     ]
    },
    {
     "data": {
      "application/vnd.jupyter.widget-view+json": {
       "model_id": "8b35cf3b36ef4c3ebaf8edcf4cc79e79",
       "version_major": 2,
       "version_minor": 0
      },
      "text/plain": [
       "Running Simulation :   0%|          | 0/200 [00:00<?, ?it/s]"
      ]
     },
     "metadata": {},
     "output_type": "display_data"
    },
    {
     "name": "stdout",
     "output_type": "stream",
     "text": [
      "Target:1\n",
      "Target: 1.0\n",
      "Accuracy: 1.0\n",
      "Currents: [1.8338614965987026e-06, 1.8673946389698505e-06]\n",
      "LimVal1:1e-05\n",
      "LimVal0:6.250000000000001e-06\n"
     ]
    },
    {
     "data": {
      "application/vnd.jupyter.widget-view+json": {
       "model_id": "e8afad4d388b47609f471a5640c85c04",
       "version_major": 2,
       "version_minor": 0
      },
      "text/plain": [
       "Running Simulation :   0%|          | 0/200 [00:00<?, ?it/s]"
      ]
     },
     "metadata": {},
     "output_type": "display_data"
    },
    {
     "name": "stdout",
     "output_type": "stream",
     "text": [
      "Target:0\n",
      "Currents: [6.36186385332306e-06, 7.527649516113729e-06]\n",
      "LimVal1:1e-05\n",
      "LimVal0:6.250000000000001e-06\n"
     ]
    },
    {
     "data": {
      "application/vnd.jupyter.widget-view+json": {
       "model_id": "fe60af4e8a5f469098dcd52706ccb279",
       "version_major": 2,
       "version_minor": 0
      },
      "text/plain": [
       "Running Simulation :   0%|          | 0/200 [00:00<?, ?it/s]"
      ]
     },
     "metadata": {},
     "output_type": "display_data"
    },
    {
     "name": "stdout",
     "output_type": "stream",
     "text": [
      "Target:1\n",
      "Currents: [9.2108831810594e-06, 1.2800130780022983e-05]\n",
      "LimVal1:1e-05\n",
      "LimVal0:6.250000000000001e-06\n"
     ]
    },
    {
     "data": {
      "application/vnd.jupyter.widget-view+json": {
       "model_id": "605adc3e9e6b444cbcb52a9c467d461e",
       "version_major": 2,
       "version_minor": 0
      },
      "text/plain": [
       "Running Simulation :   0%|          | 0/200 [00:00<?, ?it/s]"
      ]
     },
     "metadata": {},
     "output_type": "display_data"
    },
    {
     "name": "stdout",
     "output_type": "stream",
     "text": [
      "Target:0\n",
      "Currents: [6.445673749439122e-06, 4.5092898854578855e-06]\n",
      "LimVal1:1e-05\n",
      "LimVal0:6.250000000000001e-06\n"
     ]
    },
    {
     "data": {
      "application/vnd.jupyter.widget-view+json": {
       "model_id": "e62d898491cd4bcc9d0f4c0238a29eb6",
       "version_major": 2,
       "version_minor": 0
      },
      "text/plain": [
       "Running Simulation :   0%|          | 0/200 [00:00<?, ?it/s]"
      ]
     },
     "metadata": {},
     "output_type": "display_data"
    },
    {
     "name": "stdout",
     "output_type": "stream",
     "text": [
      "Target:0\n",
      "Target: 0.0\n",
      "Accuracy: 0.135\n",
      "Currents: [3.4732000019608565e-07, 9.854219232598849e-07]\n",
      "LimVal1:8.750000000000001e-06\n",
      "LimVal0:8.750000000000001e-06\n"
     ]
    },
    {
     "data": {
      "application/vnd.jupyter.widget-view+json": {
       "model_id": "9ea04964c8c1411894879fcc3c23f363",
       "version_major": 2,
       "version_minor": 0
      },
      "text/plain": [
       "Running Simulation :   0%|          | 0/200 [00:00<?, ?it/s]"
      ]
     },
     "metadata": {},
     "output_type": "display_data"
    },
    {
     "name": "stdout",
     "output_type": "stream",
     "text": [
      "Target:1\n",
      "Currents: [1.438411579343266e-05, 1.2272638909779317e-05]\n",
      "LimVal1:8.750000000000001e-06\n",
      "LimVal0:8.750000000000001e-06\n"
     ]
    },
    {
     "data": {
      "application/vnd.jupyter.widget-view+json": {
       "model_id": "9064a8c673a74a67a3e05a94b53a19bd",
       "version_major": 2,
       "version_minor": 0
      },
      "text/plain": [
       "Running Simulation :   0%|          | 0/200 [00:00<?, ?it/s]"
      ]
     },
     "metadata": {},
     "output_type": "display_data"
    },
    {
     "name": "stdout",
     "output_type": "stream",
     "text": [
      "Target:1\n",
      "Currents: [7.346193669856178e-06, 1.1305765841618232e-05]\n",
      "LimVal1:8.750000000000001e-06\n",
      "LimVal0:8.750000000000001e-06\n"
     ]
    },
    {
     "data": {
      "application/vnd.jupyter.widget-view+json": {
       "model_id": "d9c45fdbe1c44a6ea5ac4a21b0319661",
       "version_major": 2,
       "version_minor": 0
      },
      "text/plain": [
       "Running Simulation :   0%|          | 0/200 [00:00<?, ?it/s]"
      ]
     },
     "metadata": {},
     "output_type": "display_data"
    },
    {
     "name": "stdout",
     "output_type": "stream",
     "text": [
      "Target:1\n",
      "Currents: [4.636301713429817e-06, 9.721781078628244e-06]\n",
      "LimVal1:8.750000000000001e-06\n",
      "LimVal0:8.750000000000001e-06\n"
     ]
    },
    {
     "data": {
      "application/vnd.jupyter.widget-view+json": {
       "model_id": "acc7a2969cc84a608f3e88dd3fc992c2",
       "version_major": 2,
       "version_minor": 0
      },
      "text/plain": [
       "Running Simulation :   0%|          | 0/200 [00:00<?, ?it/s]"
      ]
     },
     "metadata": {},
     "output_type": "display_data"
    },
    {
     "name": "stdout",
     "output_type": "stream",
     "text": [
      "Target:1\n",
      "Target: 1.0\n",
      "Accuracy: 0.77\n",
      "Currents: [1.8562437549460172e-06, 1.9340147598132832e-06]\n",
      "LimVal1:8.750000000000001e-06\n",
      "LimVal0:8.750000000000001e-06\n"
     ]
    },
    {
     "data": {
      "application/vnd.jupyter.widget-view+json": {
       "model_id": "803e9b2c3c574c76b9ec62ce1845bb77",
       "version_major": 2,
       "version_minor": 0
      },
      "text/plain": [
       "Running Simulation :   0%|          | 0/200 [00:00<?, ?it/s]"
      ]
     },
     "metadata": {},
     "output_type": "display_data"
    },
    {
     "name": "stdout",
     "output_type": "stream",
     "text": [
      "Target:0\n",
      "Currents: [8.847122338618679e-06, 6.057072665105283e-06]\n",
      "LimVal1:8.750000000000001e-06\n",
      "LimVal0:8.750000000000001e-06\n"
     ]
    },
    {
     "data": {
      "application/vnd.jupyter.widget-view+json": {
       "model_id": "f0859e2dfe0448c4b94918525dcb1900",
       "version_major": 2,
       "version_minor": 0
      },
      "text/plain": [
       "Running Simulation :   0%|          | 0/200 [00:00<?, ?it/s]"
      ]
     },
     "metadata": {},
     "output_type": "display_data"
    },
    {
     "name": "stdout",
     "output_type": "stream",
     "text": [
      "Target:1\n",
      "Currents: [1.6020621941176358e-05, 1.058444040644141e-05]\n",
      "LimVal1:8.750000000000001e-06\n",
      "LimVal0:8.750000000000001e-06\n"
     ]
    },
    {
     "data": {
      "application/vnd.jupyter.widget-view+json": {
       "model_id": "b932d74f64f042d286babff85895c45e",
       "version_major": 2,
       "version_minor": 0
      },
      "text/plain": [
       "Running Simulation :   0%|          | 0/200 [00:00<?, ?it/s]"
      ]
     },
     "metadata": {},
     "output_type": "display_data"
    },
    {
     "name": "stdout",
     "output_type": "stream",
     "text": [
      "Target:0\n",
      "Currents: [1.0855952118661565e-05, 9.304089016040234e-06]\n",
      "LimVal1:8.750000000000001e-06\n",
      "LimVal0:8.750000000000001e-06\n"
     ]
    },
    {
     "data": {
      "application/vnd.jupyter.widget-view+json": {
       "model_id": "e37fd11af3f54a3d8a6f568e2cff5548",
       "version_major": 2,
       "version_minor": 0
      },
      "text/plain": [
       "Running Simulation :   0%|          | 0/200 [00:00<?, ?it/s]"
      ]
     },
     "metadata": {},
     "output_type": "display_data"
    },
    {
     "name": "stdout",
     "output_type": "stream",
     "text": [
      "Target:0\n",
      "Target: 0.0\n",
      "Accuracy: 0.67\n",
      "Currents: [1.88408767546325e-06, 1.5425906715243064e-06]\n",
      "LimVal1:7.500000000000001e-06\n",
      "LimVal0:1.125e-05\n"
     ]
    },
    {
     "data": {
      "application/vnd.jupyter.widget-view+json": {
       "model_id": "799cde6759b7495da428b2831b9cdbcb",
       "version_major": 2,
       "version_minor": 0
      },
      "text/plain": [
       "Running Simulation :   0%|          | 0/200 [00:00<?, ?it/s]"
      ]
     },
     "metadata": {},
     "output_type": "display_data"
    },
    {
     "name": "stdout",
     "output_type": "stream",
     "text": [
      "Target:0\n",
      "Currents: [1.5072188753031379e-05, 1.2329065066081797e-05]\n",
      "LimVal1:7.500000000000001e-06\n",
      "LimVal0:1.125e-05\n"
     ]
    },
    {
     "data": {
      "application/vnd.jupyter.widget-view+json": {
       "model_id": "cfc0122e6c614dc5be8f9631e417c274",
       "version_major": 2,
       "version_minor": 0
      },
      "text/plain": [
       "Running Simulation :   0%|          | 0/200 [00:00<?, ?it/s]"
      ]
     },
     "metadata": {},
     "output_type": "display_data"
    },
    {
     "name": "stdout",
     "output_type": "stream",
     "text": [
      "Target:1\n",
      "Currents: [1.134129574803038e-05, 8.287907162979576e-06]\n",
      "LimVal1:7.500000000000001e-06\n",
      "LimVal0:1.125e-05\n"
     ]
    },
    {
     "data": {
      "application/vnd.jupyter.widget-view+json": {
       "model_id": "0cfb470f44754f9b9aa313d27aad9b67",
       "version_major": 2,
       "version_minor": 0
      },
      "text/plain": [
       "Running Simulation :   0%|          | 0/200 [00:00<?, ?it/s]"
      ]
     },
     "metadata": {},
     "output_type": "display_data"
    },
    {
     "name": "stdout",
     "output_type": "stream",
     "text": [
      "Target:0\n",
      "Currents: [1.1993376649258754e-05, 1.3358907497989117e-05]\n",
      "LimVal1:7.500000000000001e-06\n",
      "LimVal0:1.125e-05\n"
     ]
    },
    {
     "data": {
      "application/vnd.jupyter.widget-view+json": {
       "model_id": "8f76e5925c03498496c3b16798504d3e",
       "version_major": 2,
       "version_minor": 0
      },
      "text/plain": [
       "Running Simulation :   0%|          | 0/200 [00:00<?, ?it/s]"
      ]
     },
     "metadata": {},
     "output_type": "display_data"
    },
    {
     "name": "stdout",
     "output_type": "stream",
     "text": [
      "Target:0\n",
      "Target: 0.0\n",
      "Accuracy: 0.555\n",
      "Currents: [1.8511607329137538e-06, 1.4094854933136339e-06]\n",
      "LimVal1:6.250000000000001e-06\n",
      "LimVal0:1.375e-05\n"
     ]
    },
    {
     "data": {
      "application/vnd.jupyter.widget-view+json": {
       "model_id": "ed3ecfcd963e4acaad6a7392c7a09f93",
       "version_major": 2,
       "version_minor": 0
      },
      "text/plain": [
       "Running Simulation :   0%|          | 0/200 [00:00<?, ?it/s]"
      ]
     },
     "metadata": {},
     "output_type": "display_data"
    },
    {
     "name": "stdout",
     "output_type": "stream",
     "text": [
      "Target:1\n",
      "Currents: [4.2595582170515074e-06, 7.982521320655972e-06]\n",
      "LimVal1:6.250000000000001e-06\n",
      "LimVal0:1.375e-05\n"
     ]
    },
    {
     "data": {
      "application/vnd.jupyter.widget-view+json": {
       "model_id": "6c6db8aed40a457cb7d152a28243cef1",
       "version_major": 2,
       "version_minor": 0
      },
      "text/plain": [
       "Running Simulation :   0%|          | 0/200 [00:00<?, ?it/s]"
      ]
     },
     "metadata": {},
     "output_type": "display_data"
    },
    {
     "name": "stdout",
     "output_type": "stream",
     "text": [
      "Target:0\n",
      "Currents: [1.4516689442369526e-05, 1.0062282534134847e-05]\n",
      "LimVal1:6.250000000000001e-06\n",
      "LimVal0:1.375e-05\n"
     ]
    },
    {
     "data": {
      "application/vnd.jupyter.widget-view+json": {
       "model_id": "8fd697926b1b4de7b157d8899c4e6d0c",
       "version_major": 2,
       "version_minor": 0
      },
      "text/plain": [
       "Running Simulation :   0%|          | 0/200 [00:00<?, ?it/s]"
      ]
     },
     "metadata": {},
     "output_type": "display_data"
    },
    {
     "name": "stdout",
     "output_type": "stream",
     "text": [
      "Target:0\n",
      "Currents: [1.515791741075375e-05, 9.790010553481248e-06]\n",
      "LimVal1:6.250000000000001e-06\n",
      "LimVal0:1.375e-05\n"
     ]
    },
    {
     "data": {
      "application/vnd.jupyter.widget-view+json": {
       "model_id": "19505243fbad47f390604bd4c703b622",
       "version_major": 2,
       "version_minor": 0
      },
      "text/plain": [
       "Running Simulation :   0%|          | 0/200 [00:00<?, ?it/s]"
      ]
     },
     "metadata": {},
     "output_type": "display_data"
    },
    {
     "name": "stdout",
     "output_type": "stream",
     "text": [
      "Target:1\n",
      "Target: 1.0\n",
      "Accuracy: 0.405\n",
      "Currents: [1.984190423859073e-06, 2.4849598838530077e-06]\n",
      "LimVal1:8.750000000000001e-06\n",
      "LimVal0:1.25e-05\n"
     ]
    },
    {
     "data": {
      "application/vnd.jupyter.widget-view+json": {
       "model_id": "d4b83665ff3c4e459acebe2fd41847f8",
       "version_major": 2,
       "version_minor": 0
      },
      "text/plain": [
       "Running Simulation :   0%|          | 0/200 [00:00<?, ?it/s]"
      ]
     },
     "metadata": {},
     "output_type": "display_data"
    },
    {
     "name": "stdout",
     "output_type": "stream",
     "text": [
      "Target:1\n",
      "Currents: [1.5823793868579812e-05, 1.9846019004555866e-05]\n",
      "LimVal1:8.750000000000001e-06\n",
      "LimVal0:1.25e-05\n"
     ]
    },
    {
     "data": {
      "application/vnd.jupyter.widget-view+json": {
       "model_id": "cf3dc924872b4c23b40228b10c1cc5c7",
       "version_major": 2,
       "version_minor": 0
      },
      "text/plain": [
       "Running Simulation :   0%|          | 0/200 [00:00<?, ?it/s]"
      ]
     },
     "metadata": {},
     "output_type": "display_data"
    },
    {
     "name": "stdout",
     "output_type": "stream",
     "text": [
      "Target:0\n",
      "Currents: [1.4736448721965771e-05, 1.0466002612383105e-05]\n",
      "LimVal1:8.750000000000001e-06\n",
      "LimVal0:1.25e-05\n"
     ]
    },
    {
     "data": {
      "application/vnd.jupyter.widget-view+json": {
       "model_id": "2c52bfa3fa8e4fa2a1119ab1d50a8c16",
       "version_major": 2,
       "version_minor": 0
      },
      "text/plain": [
       "Running Simulation :   0%|          | 0/200 [00:00<?, ?it/s]"
      ]
     },
     "metadata": {},
     "output_type": "display_data"
    },
    {
     "name": "stdout",
     "output_type": "stream",
     "text": [
      "Target:0\n",
      "Currents: [1.4352623109974584e-05, 1.4961413377242877e-05]\n",
      "LimVal1:8.750000000000001e-06\n",
      "LimVal0:1.25e-05\n"
     ]
    },
    {
     "data": {
      "application/vnd.jupyter.widget-view+json": {
       "model_id": "8ddb1b729b84462d8bca20760a5706dd",
       "version_major": 2,
       "version_minor": 0
      },
      "text/plain": [
       "Running Simulation :   0%|          | 0/200 [00:00<?, ?it/s]"
      ]
     },
     "metadata": {},
     "output_type": "display_data"
    },
    {
     "name": "stdout",
     "output_type": "stream",
     "text": [
      "Target:1\n",
      "Target: 1.0\n",
      "Accuracy: 0.315\n",
      "Currents: [1.8157242236142252e-06, 1.5221465856056096e-06]\n",
      "LimVal1:1.125e-05\n",
      "LimVal0:1.125e-05\n"
     ]
    },
    {
     "data": {
      "application/vnd.jupyter.widget-view+json": {
       "model_id": "57e379abf4c9437d9fc549abdff86c55",
       "version_major": 2,
       "version_minor": 0
      },
      "text/plain": [
       "Running Simulation :   0%|          | 0/200 [00:00<?, ?it/s]"
      ]
     },
     "metadata": {},
     "output_type": "display_data"
    },
    {
     "name": "stdout",
     "output_type": "stream",
     "text": [
      "Target:0\n",
      "Currents: [1.1804013464699303e-05, 3.9555209765670925e-07]\n",
      "LimVal1:1.125e-05\n",
      "LimVal0:1.125e-05\n"
     ]
    },
    {
     "data": {
      "application/vnd.jupyter.widget-view+json": {
       "model_id": "d3d3365358994307bf4f76b148831bec",
       "version_major": 2,
       "version_minor": 0
      },
      "text/plain": [
       "Running Simulation :   0%|          | 0/200 [00:00<?, ?it/s]"
      ]
     },
     "metadata": {},
     "output_type": "display_data"
    },
    {
     "name": "stdout",
     "output_type": "stream",
     "text": [
      "Target:0\n",
      "Currents: [1.4247203386184253e-05, 1.2915264475299487e-05]\n",
      "LimVal1:1.125e-05\n",
      "LimVal0:1.125e-05\n"
     ]
    },
    {
     "data": {
      "application/vnd.jupyter.widget-view+json": {
       "model_id": "fc62f6f3c6a543969cc5d3b59aa576e6",
       "version_major": 2,
       "version_minor": 0
      },
      "text/plain": [
       "Running Simulation :   0%|          | 0/200 [00:00<?, ?it/s]"
      ]
     },
     "metadata": {},
     "output_type": "display_data"
    },
    {
     "name": "stdout",
     "output_type": "stream",
     "text": [
      "Target:1\n",
      "Currents: [1.3568430422835385e-05, 1.148982262643663e-05]\n",
      "LimVal1:1.125e-05\n",
      "LimVal0:1.125e-05\n"
     ]
    },
    {
     "data": {
      "application/vnd.jupyter.widget-view+json": {
       "model_id": "67df42cf084648a29a92abcc1c668348",
       "version_major": 2,
       "version_minor": 0
      },
      "text/plain": [
       "Running Simulation :   0%|          | 0/200 [00:00<?, ?it/s]"
      ]
     },
     "metadata": {},
     "output_type": "display_data"
    },
    {
     "name": "stdout",
     "output_type": "stream",
     "text": [
      "Target:0\n",
      "Target: 0.0\n",
      "Accuracy: 0.485\n",
      "Currents: [1.6484886665752486e-06, 1.5857049471036546e-06]\n",
      "LimVal1:1e-05\n",
      "LimVal0:1.375e-05\n"
     ]
    },
    {
     "data": {
      "application/vnd.jupyter.widget-view+json": {
       "model_id": "c63582c5d0184b7c8210c1a5ba55da7b",
       "version_major": 2,
       "version_minor": 0
      },
      "text/plain": [
       "Running Simulation :   0%|          | 0/200 [00:00<?, ?it/s]"
      ]
     },
     "metadata": {},
     "output_type": "display_data"
    },
    {
     "name": "stdout",
     "output_type": "stream",
     "text": [
      "Target:1\n",
      "Currents: [1.1056439160574265e-05, 1.3072819406786404e-05]\n",
      "LimVal1:1e-05\n",
      "LimVal0:1.375e-05\n"
     ]
    },
    {
     "data": {
      "application/vnd.jupyter.widget-view+json": {
       "model_id": "43dd0dfab9d044aa894b39c5d0954547",
       "version_major": 2,
       "version_minor": 0
      },
      "text/plain": [
       "Running Simulation :   0%|          | 0/200 [00:00<?, ?it/s]"
      ]
     },
     "metadata": {},
     "output_type": "display_data"
    },
    {
     "name": "stdout",
     "output_type": "stream",
     "text": [
      "Target:0\n",
      "Currents: [1.4439822590103843e-05, 1.0635180713591473e-05]\n",
      "LimVal1:1e-05\n",
      "LimVal0:1.375e-05\n"
     ]
    },
    {
     "data": {
      "application/vnd.jupyter.widget-view+json": {
       "model_id": "39cb2f8da8ee441a855905bdf5fe2899",
       "version_major": 2,
       "version_minor": 0
      },
      "text/plain": [
       "Running Simulation :   0%|          | 0/200 [00:00<?, ?it/s]"
      ]
     },
     "metadata": {},
     "output_type": "display_data"
    },
    {
     "name": "stdout",
     "output_type": "stream",
     "text": [
      "Target:1\n",
      "Currents: [1.062393676982418e-05, 1.218043216686765e-05]\n",
      "LimVal1:1e-05\n",
      "LimVal0:1.375e-05\n"
     ]
    },
    {
     "data": {
      "application/vnd.jupyter.widget-view+json": {
       "model_id": "90f4441d3ebb47d6afb4e5b74a35e1a3",
       "version_major": 2,
       "version_minor": 0
      },
      "text/plain": [
       "Running Simulation :   0%|          | 0/200 [00:00<?, ?it/s]"
      ]
     },
     "metadata": {},
     "output_type": "display_data"
    },
    {
     "name": "stdout",
     "output_type": "stream",
     "text": [
      "Target:1\n",
      "Target: 1.0\n",
      "Accuracy: 0.38\n",
      "Currents: [2.1848533769333963e-06, 2.3670302557244322e-06]\n",
      "LimVal1:1.25e-05\n",
      "LimVal0:1.25e-05\n"
     ]
    },
    {
     "data": {
      "application/vnd.jupyter.widget-view+json": {
       "model_id": "556406545a4e4d0ab5290a0333045827",
       "version_major": 2,
       "version_minor": 0
      },
      "text/plain": [
       "Running Simulation :   0%|          | 0/200 [00:00<?, ?it/s]"
      ]
     },
     "metadata": {},
     "output_type": "display_data"
    },
    {
     "name": "stdout",
     "output_type": "stream",
     "text": [
      "Target:0\n",
      "Currents: [1.6095079513290718e-05, 8.017868173979643e-06]\n",
      "LimVal1:1.25e-05\n",
      "LimVal0:1.25e-05\n"
     ]
    },
    {
     "data": {
      "application/vnd.jupyter.widget-view+json": {
       "model_id": "d44f8856d5ce4c20a5938abc45148a3c",
       "version_major": 2,
       "version_minor": 0
      },
      "text/plain": [
       "Running Simulation :   0%|          | 0/200 [00:00<?, ?it/s]"
      ]
     },
     "metadata": {},
     "output_type": "display_data"
    },
    {
     "name": "stdout",
     "output_type": "stream",
     "text": [
      "Target:1\n",
      "Currents: [1.5300888171132333e-05, 1.4038286724292688e-05]\n",
      "LimVal1:1.25e-05\n",
      "LimVal0:1.25e-05\n"
     ]
    },
    {
     "data": {
      "application/vnd.jupyter.widget-view+json": {
       "model_id": "559a6ce6832d4b028e9373e83de092c6",
       "version_major": 2,
       "version_minor": 0
      },
      "text/plain": [
       "Running Simulation :   0%|          | 0/200 [00:00<?, ?it/s]"
      ]
     },
     "metadata": {},
     "output_type": "display_data"
    },
    {
     "name": "stdout",
     "output_type": "stream",
     "text": [
      "Target:1\n",
      "Currents: [1.4862422794253915e-05, 1.4426070538252e-05]\n",
      "LimVal1:1.25e-05\n",
      "LimVal0:1.25e-05\n"
     ]
    },
    {
     "data": {
      "application/vnd.jupyter.widget-view+json": {
       "model_id": "48e9883ec30e4d349b1f611acbf4be73",
       "version_major": 2,
       "version_minor": 0
      },
      "text/plain": [
       "Running Simulation :   0%|          | 0/200 [00:00<?, ?it/s]"
      ]
     },
     "metadata": {},
     "output_type": "display_data"
    },
    {
     "name": "stdout",
     "output_type": "stream",
     "text": [
      "Target:0\n",
      "Target: 0.0\n",
      "Accuracy: 0.305\n",
      "Currents: [1.95221634288213e-06, 1.6914894369134395e-06]\n",
      "LimVal1:1.125e-05\n",
      "LimVal0:1.5e-05\n"
     ]
    },
    {
     "data": {
      "application/vnd.jupyter.widget-view+json": {
       "model_id": "cecb2f75f0a24d11aeda07d5abe5e319",
       "version_major": 2,
       "version_minor": 0
      },
      "text/plain": [
       "Running Simulation :   0%|          | 0/200 [00:00<?, ?it/s]"
      ]
     },
     "metadata": {},
     "output_type": "display_data"
    },
    {
     "name": "stdout",
     "output_type": "stream",
     "text": [
      "Target:1\n",
      "Currents: [1.0709082420151293e-05, 1.3605894951113816e-05]\n",
      "LimVal1:1.125e-05\n",
      "LimVal0:1.5e-05\n"
     ]
    },
    {
     "data": {
      "application/vnd.jupyter.widget-view+json": {
       "model_id": "7f476c51196f419484f44b225bd7e655",
       "version_major": 2,
       "version_minor": 0
      },
      "text/plain": [
       "Running Simulation :   0%|          | 0/200 [00:00<?, ?it/s]"
      ]
     },
     "metadata": {},
     "output_type": "display_data"
    },
    {
     "name": "stdout",
     "output_type": "stream",
     "text": [
      "Target:0\n",
      "Currents: [1.6517614053151935e-05, 1.1168838326966101e-05]\n",
      "LimVal1:1.125e-05\n",
      "LimVal0:1.5e-05\n"
     ]
    },
    {
     "data": {
      "application/vnd.jupyter.widget-view+json": {
       "model_id": "11c6712cb6ea426fa0d492d58a4ef4c4",
       "version_major": 2,
       "version_minor": 0
      },
      "text/plain": [
       "Running Simulation :   0%|          | 0/200 [00:00<?, ?it/s]"
      ]
     },
     "metadata": {},
     "output_type": "display_data"
    },
    {
     "name": "stdout",
     "output_type": "stream",
     "text": [
      "Target:1\n",
      "Currents: [1.0183398259458566e-05, 1.2674845424818195e-05]\n",
      "LimVal1:1.125e-05\n",
      "LimVal0:1.5e-05\n"
     ]
    },
    {
     "data": {
      "application/vnd.jupyter.widget-view+json": {
       "model_id": "5b3b5de2e8b746ef948cee9b714bc54c",
       "version_major": 2,
       "version_minor": 0
      },
      "text/plain": [
       "Running Simulation :   0%|          | 0/200 [00:00<?, ?it/s]"
      ]
     },
     "metadata": {},
     "output_type": "display_data"
    },
    {
     "name": "stdout",
     "output_type": "stream",
     "text": [
      "Target:1\n",
      "Target: 1.0\n",
      "Accuracy: 0.445\n",
      "Currents: [2.3024241276622296e-06, 2.4499939203066003e-06]\n",
      "LimVal1:1.375e-05\n",
      "LimVal0:1.375e-05\n"
     ]
    },
    {
     "data": {
      "application/vnd.jupyter.widget-view+json": {
       "model_id": "3b8ae997380346c4a8f9db69c7a08459",
       "version_major": 2,
       "version_minor": 0
      },
      "text/plain": [
       "Running Simulation :   0%|          | 0/200 [00:00<?, ?it/s]"
      ]
     },
     "metadata": {},
     "output_type": "display_data"
    },
    {
     "name": "stdout",
     "output_type": "stream",
     "text": [
      "Target:1\n",
      "Currents: [1.8469604738367556e-05, 1.9687811691005722e-05]\n",
      "LimVal1:1.375e-05\n",
      "LimVal0:1.375e-05\n"
     ]
    },
    {
     "data": {
      "application/vnd.jupyter.widget-view+json": {
       "model_id": "ce79f92595a94da7b2b2c1e1f8e803a0",
       "version_major": 2,
       "version_minor": 0
      },
      "text/plain": [
       "Running Simulation :   0%|          | 0/200 [00:00<?, ?it/s]"
      ]
     },
     "metadata": {},
     "output_type": "display_data"
    },
    {
     "name": "stdout",
     "output_type": "stream",
     "text": [
      "Target:0\n",
      "Currents: [1.6060115114465762e-05, 9.34602812713929e-06]\n",
      "LimVal1:1.375e-05\n",
      "LimVal0:1.375e-05\n"
     ]
    },
    {
     "data": {
      "application/vnd.jupyter.widget-view+json": {
       "model_id": "43a5c12a86b34229a6ce47e4fb0af0a8",
       "version_major": 2,
       "version_minor": 0
      },
      "text/plain": [
       "Running Simulation :   0%|          | 0/200 [00:00<?, ?it/s]"
      ]
     },
     "metadata": {},
     "output_type": "display_data"
    },
    {
     "name": "stdout",
     "output_type": "stream",
     "text": [
      "Target:0\n",
      "Currents: [1.4869197352025926e-05, 1.6993958874934133e-05]\n",
      "LimVal1:1.375e-05\n",
      "LimVal0:1.375e-05\n"
     ]
    },
    {
     "data": {
      "application/vnd.jupyter.widget-view+json": {
       "model_id": "cdf32be6c9e349a98333ae395330238e",
       "version_major": 2,
       "version_minor": 0
      },
      "text/plain": [
       "Running Simulation :   0%|          | 0/200 [00:00<?, ?it/s]"
      ]
     },
     "metadata": {},
     "output_type": "display_data"
    },
    {
     "ename": "KeyboardInterrupt",
     "evalue": "",
     "output_type": "error",
     "traceback": [
      "\u001b[0;31m---------------------------------------------------------------------------\u001b[0m",
      "\u001b[0;31mKeyboardInterrupt\u001b[0m                         Traceback (most recent call last)",
      "\u001b[0;32m/tmp/ipykernel_11283/3294811247.py\u001b[0m in \u001b[0;36m<module>\u001b[0;34m\u001b[0m\n\u001b[1;32m    750\u001b[0m         \u001b[0mprint\u001b[0m\u001b[0;34m(\u001b[0m\u001b[0mval\u001b[0m\u001b[0;34m)\u001b[0m\u001b[0;34m\u001b[0m\u001b[0;34m\u001b[0m\u001b[0m\n\u001b[1;32m    751\u001b[0m         \u001b[0;32mfor\u001b[0m \u001b[0mi\u001b[0m \u001b[0;32min\u001b[0m \u001b[0mtqdm\u001b[0m\u001b[0;34m(\u001b[0m\u001b[0mrange\u001b[0m\u001b[0;34m(\u001b[0m\u001b[0mnumRuns\u001b[0m\u001b[0;34m)\u001b[0m\u001b[0;34m)\u001b[0m\u001b[0;34m:\u001b[0m\u001b[0;34m\u001b[0m\u001b[0;34m\u001b[0m\u001b[0m\n\u001b[0;32m--> 752\u001b[0;31m             \u001b[0moutputs\u001b[0m\u001b[0;34m.\u001b[0m\u001b[0mappend\u001b[0m\u001b[0;34m(\u001b[0m\u001b[0mrunNBACK\u001b[0m\u001b[0;34m(\u001b[0m\u001b[0monAmp\u001b[0m\u001b[0;34m,\u001b[0m\u001b[0monAmpTest\u001b[0m\u001b[0;34m,\u001b[0m\u001b[0mdt\u001b[0m\u001b[0;34m,\u001b[0m\u001b[0mTlen\u001b[0m\u001b[0;34m,\u001b[0m\u001b[0mtimesteps\u001b[0m\u001b[0;34m,\u001b[0m\u001b[0mnumDT\u001b[0m\u001b[0;34m,\u001b[0m\u001b[0mrestDur\u001b[0m\u001b[0;34m,\u001b[0m\u001b[0mnbacks\u001b[0m\u001b[0;34m,\u001b[0m\u001b[0mmaxCurrent\u001b[0m\u001b[0;34m,\u001b[0m\u001b[0mval\u001b[0m\u001b[0;34m,\u001b[0m\u001b[0maccThresh\u001b[0m\u001b[0;34m,\u001b[0m\u001b[0mincreaseVal\u001b[0m\u001b[0;34m,\u001b[0m\u001b[0mdecreaseVal\u001b[0m\u001b[0;34m,\u001b[0m\u001b[0mseed\u001b[0m\u001b[0;34m=\u001b[0m\u001b[0mseeds\u001b[0m\u001b[0;34m[\u001b[0m\u001b[0mi\u001b[0m\u001b[0;34m]\u001b[0m\u001b[0;34m,\u001b[0m\u001b[0maccThreshold\u001b[0m\u001b[0;34m=\u001b[0m\u001b[0maccThreshold\u001b[0m\u001b[0;34m)\u001b[0m\u001b[0;34m)\u001b[0m\u001b[0;34m\u001b[0m\u001b[0;34m\u001b[0m\u001b[0m\n\u001b[0m\u001b[1;32m    753\u001b[0m     \u001b[0mprint\u001b[0m\u001b[0;34m(\u001b[0m\u001b[0;34m'Saving'\u001b[0m\u001b[0;34m)\u001b[0m\u001b[0;34m\u001b[0m\u001b[0;34m\u001b[0m\u001b[0m\n\u001b[1;32m    754\u001b[0m     \u001b[0;32mif\u001b[0m \u001b[0mnumRuns\u001b[0m\u001b[0;34m==\u001b[0m\u001b[0;36m1\u001b[0m\u001b[0;34m:\u001b[0m\u001b[0;34m\u001b[0m\u001b[0;34m\u001b[0m\u001b[0m\n",
      "\u001b[0;32m/tmp/ipykernel_11283/3294811247.py\u001b[0m in \u001b[0;36mrunNBACK\u001b[0;34m(onAmp, onAmpTest, dt, Tlen, timesteps, numDT, restDur, nbacks, maxCurrent, limVal, accThresh, increaseVal, decreaseVal, seed, accThreshold)\u001b[0m\n\u001b[1;32m    601\u001b[0m             \u001b[0msignalLen\u001b[0m\u001b[0;34m=\u001b[0m\u001b[0mlen\u001b[0m\u001b[0;34m(\u001b[0m\u001b[0mstimulus\u001b[0m\u001b[0;34m[\u001b[0m\u001b[0;36m0\u001b[0m\u001b[0;34m]\u001b[0m\u001b[0;34m.\u001b[0m\u001b[0msignal\u001b[0m\u001b[0;34m)\u001b[0m\u001b[0;34m\u001b[0m\u001b[0;34m\u001b[0m\u001b[0m\n\u001b[1;32m    602\u001b[0m \u001b[0;34m\u001b[0m\u001b[0m\n\u001b[0;32m--> 603\u001b[0;31m             \u001b[0msim\u001b[0m\u001b[0;34m[\u001b[0m\u001b[0mi\u001b[0m\u001b[0;34m]\u001b[0m\u001b[0;34m,\u001b[0m\u001b[0mnwState\u001b[0m \u001b[0;34m=\u001b[0m \u001b[0mgetNWState_backprop\u001b[0m\u001b[0;34m(\u001b[0m\u001b[0mstimulus\u001b[0m\u001b[0;34m,\u001b[0m\u001b[0mnwState\u001b[0m\u001b[0;34m,\u001b[0m\u001b[0mdrain_pool\u001b[0m\u001b[0;34m,\u001b[0m\u001b[0msources\u001b[0m\u001b[0;34m,\u001b[0m\u001b[0mtiming\u001b[0m\u001b[0;34m[\u001b[0m\u001b[0mi\u001b[0m\u001b[0;34m]\u001b[0m\u001b[0;34m,\u001b[0m\u001b[0mtmpTargets\u001b[0m\u001b[0;34m[\u001b[0m\u001b[0mi\u001b[0m\u001b[0;34m]\u001b[0m\u001b[0;34m.\u001b[0m\u001b[0mastype\u001b[0m\u001b[0;34m(\u001b[0m\u001b[0;34m'int'\u001b[0m\u001b[0;34m)\u001b[0m\u001b[0;34m,\u001b[0m\u001b[0mlimVal\u001b[0m\u001b[0;34m,\u001b[0m\u001b[0mlimVals0\u001b[0m\u001b[0;34m,\u001b[0m\u001b[0mlimVals1\u001b[0m\u001b[0;34m,\u001b[0m\u001b[0mrun_time\u001b[0m\u001b[0;34m=\u001b[0m\u001b[0mint\u001b[0m\u001b[0;34m(\u001b[0m\u001b[0msignalLen\u001b[0m\u001b[0;34m*\u001b[0m\u001b[0mdt\u001b[0m\u001b[0;34m)\u001b[0m\u001b[0;34m,\u001b[0m\u001b[0mdt\u001b[0m\u001b[0;34m=\u001b[0m\u001b[0mdt\u001b[0m\u001b[0;34m,\u001b[0m\u001b[0mdisable_tqdm\u001b[0m\u001b[0;34m=\u001b[0m\u001b[0;32mFalse\u001b[0m\u001b[0;34m)\u001b[0m\u001b[0;34m\u001b[0m\u001b[0;34m\u001b[0m\u001b[0m\n\u001b[0m\u001b[1;32m    604\u001b[0m \u001b[0;34m\u001b[0m\u001b[0m\n\u001b[1;32m    605\u001b[0m             \u001b[0msimVoltages\u001b[0m\u001b[0;34m[\u001b[0m\u001b[0mi\u001b[0m\u001b[0;34m]\u001b[0m\u001b[0;34m=\u001b[0m\u001b[0;34m(\u001b[0m\u001b[0msim\u001b[0m\u001b[0;34m[\u001b[0m\u001b[0mi\u001b[0m\u001b[0;34m]\u001b[0m\u001b[0;34m.\u001b[0m\u001b[0mwireVoltage\u001b[0m\u001b[0;34m)\u001b[0m\u001b[0;34m\u001b[0m\u001b[0;34m\u001b[0m\u001b[0m\n",
      "\u001b[0;32m/tmp/ipykernel_11283/3294811247.py\u001b[0m in \u001b[0;36mgetNWState_backprop\u001b[0;34m(training_stimulus, state, drains, sources, tmpTiming, tmpTargets, limVal, limVal0, limVal1, run_time, dt, disable_tqdm)\u001b[0m\n\u001b[1;32m    185\u001b[0m     \u001b[0meles\u001b[0m \u001b[0;34m=\u001b[0m \u001b[0mnp\u001b[0m\u001b[0;34m.\u001b[0m\u001b[0mappend\u001b[0m\u001b[0;34m(\u001b[0m\u001b[0mdrains\u001b[0m\u001b[0;34m,\u001b[0m \u001b[0msources\u001b[0m\u001b[0;34m)\u001b[0m \u001b[0;31m#all drains\u001b[0m\u001b[0;34m\u001b[0m\u001b[0;34m\u001b[0m\u001b[0m\n\u001b[1;32m    186\u001b[0m     \u001b[0;31m#     if len(eles) == num_drain_training + num_source_training:\u001b[0m\u001b[0;34m\u001b[0m\u001b[0;34m\u001b[0m\u001b[0;34m\u001b[0m\u001b[0m\n\u001b[0;32m--> 187\u001b[0;31m     training_sim,cost = runSim_backprop(connectivity, \n\u001b[0m\u001b[1;32m    188\u001b[0m                                    \u001b[0mstimulus\u001b[0m \u001b[0;34m=\u001b[0m \u001b[0mtraining_stimulus\u001b[0m\u001b[0;34m,\u001b[0m\u001b[0;34m\u001b[0m\u001b[0;34m\u001b[0m\u001b[0m\n\u001b[1;32m    189\u001b[0m                                    \u001b[0mjunctionMode\u001b[0m \u001b[0;34m=\u001b[0m \u001b[0;34m'tunneling'\u001b[0m\u001b[0;34m,\u001b[0m\u001b[0;34m\u001b[0m\u001b[0;34m\u001b[0m\u001b[0m\n",
      "\u001b[0;32m/tmp/ipykernel_11283/3294811247.py\u001b[0m in \u001b[0;36mrunSim_backprop\u001b[0;34m(Connectivity, junctionMode, collapse, criticalFlux, maxFlux, contactMode, electrodes, dt, T, stimulus, biasType, onTime, offTime, onAmp, offAmp, f, customSignal, start_state, lite_mode, save_steps, findFirst, disable_tqdm, freeze_wire, freeze_junction, freeze_TimeStamp, tmpTiming, tmpTargets, limVal, limVal0, limVal1)\u001b[0m\n\u001b[1;32m    276\u001b[0m                     freeze_TimeStamp = freeze_TimeStamp)\n\u001b[1;32m    277\u001b[0m \u001b[0;34m\u001b[0m\u001b[0m\n\u001b[0;32m--> 278\u001b[0;31m     \u001b[0mthis_realization\u001b[0m\u001b[0;34m,\u001b[0m\u001b[0mcost\u001b[0m \u001b[0;34m=\u001b[0m \u001b[0msimulateNetwork_backprop\u001b[0m\u001b[0;34m(\u001b[0m\u001b[0mSimulationOptions\u001b[0m\u001b[0;34m,\u001b[0m \u001b[0mConnectivity\u001b[0m\u001b[0;34m,\u001b[0m \u001b[0mJunctionState\u001b[0m\u001b[0;34m,\u001b[0m\u001b[0mtmpTiming\u001b[0m\u001b[0;34m,\u001b[0m\u001b[0mtmpTargets\u001b[0m\u001b[0;34m,\u001b[0m\u001b[0mlimVal\u001b[0m\u001b[0;34m,\u001b[0m\u001b[0mlimVal0\u001b[0m\u001b[0;34m,\u001b[0m\u001b[0mlimVal1\u001b[0m\u001b[0;34m,\u001b[0m\u001b[0mlite_mode\u001b[0m\u001b[0;34m,\u001b[0m \u001b[0mdisable_tqdm\u001b[0m\u001b[0;34m,\u001b[0m \u001b[0msave_steps\u001b[0m\u001b[0;34m,\u001b[0m \u001b[0;34m**\u001b[0m\u001b[0mkwdict\u001b[0m\u001b[0;34m)\u001b[0m\u001b[0;34m\u001b[0m\u001b[0;34m\u001b[0m\u001b[0m\n\u001b[0m\u001b[1;32m    279\u001b[0m \u001b[0;34m\u001b[0m\u001b[0m\n\u001b[1;32m    280\u001b[0m \u001b[0;31m#     finalIter=np.max(np.nonzero(this_realization.electrodeCurrent))\u001b[0m\u001b[0;34m\u001b[0m\u001b[0;34m\u001b[0m\u001b[0;34m\u001b[0m\u001b[0m\n",
      "\u001b[0;32m/tmp/ipykernel_11283/3294811247.py\u001b[0m in \u001b[0;36msimulateNetwork_backprop\u001b[0;34m(simulationOptions, connectivity, junctionState, tmpTiming, tmpTargets, limVoltage, limVal0, limVal1, lite_mode, disable_tqdm, save_steps, **kwargs)\u001b[0m\n\u001b[1;32m    379\u001b[0m \u001b[0;31m#         elif this_time > trainTime:\u001b[0m\u001b[0;34m\u001b[0m\u001b[0;34m\u001b[0m\u001b[0;34m\u001b[0m\u001b[0m\n\u001b[1;32m    380\u001b[0m \u001b[0;34m\u001b[0m\u001b[0m\n\u001b[0;32m--> 381\u001b[0;31m         \u001b[0msol\u001b[0m \u001b[0;34m=\u001b[0m \u001b[0msimCore\u001b[0m\u001b[0;34m(\u001b[0m\u001b[0mconnectivity\u001b[0m\u001b[0;34m,\u001b[0m \u001b[0mjunctionState\u001b[0m\u001b[0;34m,\u001b[0m \u001b[0mthis_stimulus\u001b[0m\u001b[0;34m,\u001b[0m \u001b[0melectrodes\u001b[0m\u001b[0;34m,\u001b[0m \u001b[0msimulationOptions\u001b[0m\u001b[0;34m.\u001b[0m\u001b[0mdt\u001b[0m\u001b[0;34m)\u001b[0m\u001b[0;34m\u001b[0m\u001b[0;34m\u001b[0m\u001b[0m\n\u001b[0m\u001b[1;32m    382\u001b[0m \u001b[0;34m\u001b[0m\u001b[0m\n\u001b[1;32m    383\u001b[0m         \u001b[0;32mif\u001b[0m \u001b[0mthis_time\u001b[0m \u001b[0;34m>=\u001b[0m \u001b[0mfreeze_TimeStamp\u001b[0m\u001b[0;34m:\u001b[0m\u001b[0;34m\u001b[0m\u001b[0;34m\u001b[0m\u001b[0m\n",
      "\u001b[0;32m/import/silo2/aloe8475/Documents/edamame/edamame/core/simulate.py\u001b[0m in \u001b[0;36msimCore\u001b[0;34m(connectivity, junctionState, this_stimulus, electrodes, dt, update_inside)\u001b[0m\n\u001b[1;32m     34\u001b[0m         \u001b[0mrhs\u001b[0m\u001b[0;34m[\u001b[0m\u001b[0mV\u001b[0m\u001b[0;34m+\u001b[0m\u001b[0mi\u001b[0m\u001b[0;34m]\u001b[0m \u001b[0;34m=\u001b[0m \u001b[0mthis_stimulus\u001b[0m\u001b[0;34m[\u001b[0m\u001b[0mi\u001b[0m\u001b[0;34m]\u001b[0m\u001b[0;34m\u001b[0m\u001b[0;34m\u001b[0m\u001b[0m\n\u001b[1;32m     35\u001b[0m \u001b[0;34m\u001b[0m\u001b[0m\n\u001b[0;32m---> 36\u001b[0;31m     \u001b[0msol\u001b[0m \u001b[0;34m=\u001b[0m \u001b[0mnp\u001b[0m\u001b[0;34m.\u001b[0m\u001b[0mlinalg\u001b[0m\u001b[0;34m.\u001b[0m\u001b[0msolve\u001b[0m\u001b[0;34m(\u001b[0m\u001b[0mlhs\u001b[0m\u001b[0;34m,\u001b[0m\u001b[0mrhs\u001b[0m\u001b[0;34m)\u001b[0m\u001b[0;34m\u001b[0m\u001b[0;34m\u001b[0m\u001b[0m\n\u001b[0m\u001b[1;32m     37\u001b[0m     \u001b[0mjunctionState\u001b[0m\u001b[0;34m.\u001b[0m\u001b[0mvoltage\u001b[0m \u001b[0;34m=\u001b[0m \u001b[0msol\u001b[0m\u001b[0;34m[\u001b[0m\u001b[0medgeList\u001b[0m\u001b[0;34m[\u001b[0m\u001b[0;34m:\u001b[0m\u001b[0;34m,\u001b[0m\u001b[0;36m0\u001b[0m\u001b[0;34m]\u001b[0m\u001b[0;34m]\u001b[0m \u001b[0;34m-\u001b[0m \u001b[0msol\u001b[0m\u001b[0;34m[\u001b[0m\u001b[0medgeList\u001b[0m\u001b[0;34m[\u001b[0m\u001b[0;34m:\u001b[0m\u001b[0;34m,\u001b[0m\u001b[0;36m1\u001b[0m\u001b[0;34m]\u001b[0m\u001b[0;34m]\u001b[0m\u001b[0;34m\u001b[0m\u001b[0;34m\u001b[0m\u001b[0m\n\u001b[1;32m     38\u001b[0m     \u001b[0;32mif\u001b[0m \u001b[0mupdate_inside\u001b[0m\u001b[0;34m:\u001b[0m\u001b[0;34m\u001b[0m\u001b[0;34m\u001b[0m\u001b[0m\n",
      "\u001b[0;32m<__array_function__ internals>\u001b[0m in \u001b[0;36msolve\u001b[0;34m(*args, **kwargs)\u001b[0m\n",
      "\u001b[0;32m~/anaconda3/envs/phd/lib/python3.8/site-packages/numpy/linalg/linalg.py\u001b[0m in \u001b[0;36msolve\u001b[0;34m(a, b)\u001b[0m\n\u001b[1;32m    391\u001b[0m     \u001b[0msignature\u001b[0m \u001b[0;34m=\u001b[0m \u001b[0;34m'DD->D'\u001b[0m \u001b[0;32mif\u001b[0m \u001b[0misComplexType\u001b[0m\u001b[0;34m(\u001b[0m\u001b[0mt\u001b[0m\u001b[0;34m)\u001b[0m \u001b[0;32melse\u001b[0m \u001b[0;34m'dd->d'\u001b[0m\u001b[0;34m\u001b[0m\u001b[0;34m\u001b[0m\u001b[0m\n\u001b[1;32m    392\u001b[0m     \u001b[0mextobj\u001b[0m \u001b[0;34m=\u001b[0m \u001b[0mget_linalg_error_extobj\u001b[0m\u001b[0;34m(\u001b[0m\u001b[0m_raise_linalgerror_singular\u001b[0m\u001b[0;34m)\u001b[0m\u001b[0;34m\u001b[0m\u001b[0;34m\u001b[0m\u001b[0m\n\u001b[0;32m--> 393\u001b[0;31m     \u001b[0mr\u001b[0m \u001b[0;34m=\u001b[0m \u001b[0mgufunc\u001b[0m\u001b[0;34m(\u001b[0m\u001b[0ma\u001b[0m\u001b[0;34m,\u001b[0m \u001b[0mb\u001b[0m\u001b[0;34m,\u001b[0m \u001b[0msignature\u001b[0m\u001b[0;34m=\u001b[0m\u001b[0msignature\u001b[0m\u001b[0;34m,\u001b[0m \u001b[0mextobj\u001b[0m\u001b[0;34m=\u001b[0m\u001b[0mextobj\u001b[0m\u001b[0;34m)\u001b[0m\u001b[0;34m\u001b[0m\u001b[0;34m\u001b[0m\u001b[0m\n\u001b[0m\u001b[1;32m    394\u001b[0m \u001b[0;34m\u001b[0m\u001b[0m\n\u001b[1;32m    395\u001b[0m     \u001b[0;32mreturn\u001b[0m \u001b[0mwrap\u001b[0m\u001b[0;34m(\u001b[0m\u001b[0mr\u001b[0m\u001b[0;34m.\u001b[0m\u001b[0mastype\u001b[0m\u001b[0;34m(\u001b[0m\u001b[0mresult_t\u001b[0m\u001b[0;34m,\u001b[0m \u001b[0mcopy\u001b[0m\u001b[0;34m=\u001b[0m\u001b[0;32mFalse\u001b[0m\u001b[0;34m)\u001b[0m\u001b[0;34m)\u001b[0m\u001b[0;34m\u001b[0m\u001b[0;34m\u001b[0m\u001b[0m\n",
      "\u001b[0;31mKeyboardInterrupt\u001b[0m: "
     ]
    }
   ],
   "source": [
    "#!/usr/bin/env python\n",
    "# coding: utf-8\n",
    "\n",
    "# In[ ]:\n",
    "\n",
    "\n",
    "\"\"\" \n",
    "\n",
    "Run Equilibrium Propagation / Backpropagation on Nanowire Networks for classification. \n",
    "\n",
    "Author: Alon Loeffler\n",
    "\n",
    "Required Files/Folders: learning_functions.py | edamame | asn_nw_00350_nj_01350_seed_1581_avl_10.00_disp_01.00_lx_50.00_ly_50.00.mat\n",
    "\n",
    "\"\"\"\n",
    "\n",
    "#IMPORTS:\n",
    "#Append path to Ruomin's Edamame Package (Nanowire Simulations)\n",
    "import sys\n",
    "import os\n",
    "\n",
    "sys.path.append('/import/silo2/aloe8475/Documents/edamame') #point to edamame locally\n",
    "sys.path.append('/import/silo2/aloe8475/Documents/CODE/Analysis/Training/Associative Learning/EquilProp') #point to edamame locally\n",
    "\n",
    "fileName='/import/silo2/aloe8475/Documents/Data/Associative Learning/Sparse Networks/asn_nw_00350_nj_01350_seed_1581_avl_10.00_disp_01.00_lx_50.00_ly_50.00'\n",
    "# fileName='/import/silo2/aloe8475/Documents/Data/Associative Learning/Sparse Networks/asn_nw_00698_nj_02582_seed_002_avl_10.00_disp_01.00_lx_75.00_ly_75.00'\n",
    "\n",
    "#point to network data path ^ \n",
    "\n",
    "saveFig='/import/silo2/aloe8475/Documents/Data/Figures/Equil Prop/' \n",
    "dataLoc='/import/silo2/aloe8475/Documents/Data/Associative Learning/EquilProp/'\n",
    "\n",
    "#import edamame (neuromorphic nanowire python package by Ruomin Zhu)\n",
    "from edamame import * \n",
    "import numpy as np\n",
    "import matplotlib.pyplot as plt\n",
    "import copy\n",
    "from scipy.io import loadmat, savemat\n",
    "import networkx as nx\n",
    "from tqdm.notebook import tqdm_notebook as tqdm\n",
    "from IPython.core.debugger import set_trace\n",
    "\n",
    "import pickle \n",
    "import _pickle as cPickle\n",
    "import gzip\n",
    "\n",
    "from learning_functions import genGridNW,point_on_line,dist,getWeightedGraph\n",
    "from learning_functions import calc_cost,setupStimulus,setupSourcesOnly,runTesting,getNWState,calcOutputs\n",
    "\n",
    "\" Create Inputs \"\n",
    "def createSimpleInputs(patternSize=3,numSamples=10,noise=False):\n",
    "    #SIMPLE ROW INPUTS:\n",
    "    np.random.seed(42)\n",
    "    \n",
    "    if patternSize==2:\n",
    "    #2x2 pattern:\n",
    "        orig_inputs=np.array((np.array([1,0,1,0]),np.array([0,1,0,1])))\n",
    "    elif patternSize==3:\n",
    "        #3x3 pattern:\n",
    "        orig_inputs=np.array((np.array([1,0,1,0,1,0,1,0,1]),np.array([0,1,0,1,1,1,0,1,0])))\n",
    "    orig_inputs=orig_inputs.astype('double')\n",
    "    samples=[[] for i in range(len(orig_inputs))]\n",
    "    new_inputs=np.array([orig_inputs]*numSamples)\n",
    "\n",
    "    #Pattern without Noise\n",
    "    NoNoiseInputs=[]\n",
    "    for targetClass in range(len(orig_inputs)):\n",
    "        NoNoiseInputs.append([int(i) for i in orig_inputs[targetClass]])\n",
    "#     set_trace()\n",
    "    #Make Noisy variants of simple patterns:\n",
    "    for i in range(len(orig_inputs)):\n",
    "        for j in range(numSamples):\n",
    "            randVals=np.random.randint(1,patternSize) #choose how many of the 3 sources will have noise\n",
    "            noiseVals=np.random.randint(patternSize, size=randVals)\n",
    "            temp=orig_inputs[i][orig_inputs[i]==1].astype('double')\n",
    "            if noise:\n",
    "                for val in noiseVals:\n",
    "                    temp[val]=np.double(np.random.random(1))\n",
    "            new_inputs[j][i][new_inputs[j][i]==1]=temp\n",
    "    #         samples[i].append(temp)\n",
    "    \n",
    "    #RESHAPE INPUTS INTO numSamplesx2\n",
    "    row1=[]\n",
    "    row2=[]\n",
    "    for i in range(len(new_inputs)):\n",
    "        row1.append(new_inputs[i][0])\n",
    "        row2.append(new_inputs[i][1])\n",
    "\n",
    "    inputs=np.array([row1,row2])\n",
    "    inputs=inputs.reshape(numSamples*2,orig_inputs.shape[1])\n",
    "    targets=np.zeros(numSamples*2)\n",
    "    targets[-numSamples:]=1\n",
    "\n",
    "    #change 0 volts to 0.05\n",
    "#     minVoltage=0.005\n",
    "#     inputs=inputs+minVoltage\n",
    "    \n",
    "    return inputs, targets,orig_inputs\n",
    "\n",
    "\" Load Networks \"\n",
    "def buildNetworks(fileName,ManualSources=True,numDrains=2,numSources=9):\n",
    "    #load data\n",
    "    nw=loadmat(fileName)\n",
    "    nwSize = nw['number_of_wires'][0][0]\n",
    "    print('Network '+str(nwSize)+ ' Loaded')\n",
    "#     this_seed=8639\n",
    "    Network=nw\n",
    "    connectivity=connectivity__(wires_dict=Network) \n",
    "\n",
    "    #fixing file structure from Matlab:\n",
    "    connectivity.avg_length=connectivity.avg_length[0][0]\n",
    "    connectivity.number_of_junctions=connectivity.number_of_junctions[0][0]\n",
    "    connectivity.centroid_dispersion=connectivity.centroid_dispersion[0][0]\n",
    "    connectivity.dispersion=connectivity.dispersion[0][0]\n",
    "    # connectivity.generating_number_of_wires=connectivity.generating_number_of_wires[0][0]\n",
    "    connectivity.gennorm_shape=connectivity.gennorm_shape[0][0]\n",
    "    connectivity.length_x=connectivity.length_x[0][0]\n",
    "    connectivity.length_y=connectivity.length_y[0][0]\n",
    "    connectivity.number_of_wires=connectivity.number_of_wires[0][0]\n",
    "    connectivity.numOfWires=connectivity.numOfWires[0][0]\n",
    "    connectivity.numOfJunctions=connectivity.numOfJunctions[0][0]\n",
    "    connectivity.theta=connectivity.theta[0][0]\n",
    "    connectivity.this_seed=connectivity.this_seed[0][0]\n",
    "    \n",
    "    #find x and y values of each end of each wire \n",
    "    xa=connectivity.xa[0]\n",
    "    xb=connectivity.xb[0]\n",
    "    ya=connectivity.ya[0]\n",
    "    yb=connectivity.yb[0]\n",
    "\n",
    "    #Pick Electrode placement/distance apart:\n",
    "    \n",
    "    #DRAINS\n",
    "    numDrains=3\n",
    "    ex=np.zeros(numDrains)*5#*15\n",
    "    if nwSize > 500:\n",
    "        eyVal=76\n",
    "    else:\n",
    "        eyVal= 51\n",
    "    ey=np.linspace(-1,eyVal,numDrains)#(-1,101,numDrains)\n",
    "\n",
    "    elecDrain=genGridNW(xa,xb,ya,yb,ex,ey) #generate drain locations in ex, ey coordinates\n",
    "\n",
    "\n",
    "    #IN A LINE:\n",
    "    if nwSize > 500:\n",
    "        exVal=75\n",
    "        eyVal = 74\n",
    "    else:\n",
    "        exVal=50\n",
    "        eyVal=49\n",
    "    ex=np.ones(numSources)*exVal#50\n",
    "    ey=np.linspace(-2,eyVal,numSources)#(-2,99,numSources)\n",
    "    \n",
    "    #IN A 3X3 GRID:\n",
    "    # middleNWx=int(connectivity.length_x/2)+1\n",
    "    # middleNWy=int(connectivity.length_y/2)-1\n",
    "    # distBwElecs=10\n",
    "    # ex=[middleNWx-distBwElecs,middleNWx-distBwElecs,middleNWx-distBwElecs,middleNWx,middleNWx,middleNWx,middleNWx+distBwElecs,middleNWx+distBwElecs,middleNWx+distBwElecs]\n",
    "    # ey=[middleNWy-distBwElecs,middleNWy,middleNWy+distBwElecs]*3\n",
    "\n",
    "    elecSource=genGridNW(xa,xb,ya,yb,ex,ey) #generate source locations in ex, ey coordinates\n",
    "\n",
    "\n",
    "    #Manual Source Placement:\n",
    "    if ManualSources:\n",
    "        if numSources==9:\n",
    "            if nwSize > 500:\n",
    "                elecSource=[678, 260, 491, 173, 628, 424, 301, 236, 483] #700nws\n",
    "            else:\n",
    "                elecSource=[23,320,194,74, 145, 317, 129, 34, 141] #350 nws\n",
    "\n",
    "        elif numSources == 4:\n",
    "            elecSource=[320,42,161,141]\n",
    "\n",
    "    elecDrain=elecDrain[[0,-1]]\n",
    "    \n",
    "    return connectivity,elecSource,elecDrain\n",
    "\n",
    "\n",
    "#ADD BACKPROP\n",
    "\n",
    "#This function runs each training epoch and saves the network state at the last timestep of that epoch   \n",
    "def getNWState_backprop(training_stimulus,state,drains,sources,tmpTiming,tmpTargets,limVal,limVal0,limVal1,run_time=2,dt=0.01,disable_tqdm=False):\n",
    "    eles = np.append(drains, sources) #all drains\n",
    "    #     if len(eles) == num_drain_training + num_source_training:\n",
    "    training_sim,cost = runSim_backprop(connectivity, \n",
    "                                   stimulus = training_stimulus,\n",
    "                                   junctionMode = 'tunneling',\n",
    "                                   dt = dt, T = run_time, \n",
    "                                   contactMode = 'preSet',\n",
    "                                   electrodes = eles,\n",
    "                                   findFirst = False,\n",
    "                                   start_state = state,\n",
    "                                   disable_tqdm=disable_tqdm,\n",
    "                                   collapse=False,tmpTiming=tmpTiming,tmpTargets=tmpTargets,\n",
    "                                   limVal=limVal,limVal0=limVal0,limVal1=limVal1)  \n",
    "    JS1 = getJunctionState(training_sim, -1) #save state\n",
    "    #     else: \n",
    "    #         print('Bless you Joel :)')\n",
    "    return training_sim,JS1   \n",
    "\n",
    "#Combine drain voltage change with runSim:\n",
    "def runSim_backprop(Connectivity, \n",
    "                    junctionMode='binary', collapse=False,\n",
    "                    criticalFlux=0.1, maxFlux=1.5e-1,\n",
    "                    contactMode='farthest', electrodes=None,\n",
    "                    dt=1e-3, T=10, \n",
    "                    stimulus = None,\n",
    "                    biasType = 'DC',\n",
    "                    onTime=0, offTime=50000000,\n",
    "                    onAmp=1, offAmp=0.005,\n",
    "                    f = 1, customSignal = None,\n",
    "                    start_state = None,\n",
    "                    lite_mode = False, save_steps = 1,\n",
    "                    findFirst = True,\n",
    "                    disable_tqdm = False,\n",
    "                    freeze_wire = None, freeze_junction = None, \n",
    "                    freeze_TimeStamp = None,tmpTiming=[],tmpTargets=[],\n",
    "                    limVal=0.5,limVal0=0.5,limVal1=0.5):\n",
    "\n",
    "    \"\"\"\n",
    "    For the case of multi electrodes, stimulus should be in parameters.\n",
    "    See help(stimulus__) for how to generate stimulus__ objects.\n",
    "    \"\"\"\n",
    "\n",
    "    SimulationOptions = simulationOptions__(dt = dt, T = T,\n",
    "                                            connectivity = Connectivity, \n",
    "                                            contactMode = contactMode,\n",
    "                                            electrodes = electrodes)\n",
    "\n",
    "    if ((contactMode == 'preSet') and (len(electrodes) > 2)) or stimulus is not None:\n",
    "        from sys import exit\n",
    "        if stimulus == None:\n",
    "            logging.warning(f'Multiple electrodes detected. Please input stimulus in parameters!')\n",
    "            exit()\n",
    "        if len(stimulus) < len(SimulationOptions.electrodes):\n",
    "            diff = len(SimulationOptions.electrodes) - len(stimulus)\n",
    "            for _ in range(diff):\n",
    "                stimulus.append(stimulus__('Drain', T = T, dt = dt))\n",
    "\n",
    "        if len(stimulus) > len(SimulationOptions.electrodes):\n",
    "            logging.warning(f'More stimulus than electrodes. Current setup has {len(SimulationOptions.electrodes)} electrodes!')\n",
    "            exit()\n",
    "            \n",
    "        if len(stimulus[0].signal) < len(SimulationOptions.TimeVector):\n",
    "            logging.warning(f'Stimulus length not correct, current time vector has length {len(SimulationOptions.TimeVector)}!')\n",
    "            exit()\n",
    "        SimulationOptions.stimulus = stimulus\n",
    "            \n",
    "    elif contactMode == 'boundary':\n",
    "        SimulationOptions.stimulus[:int(len(SimulationOptions.electrodes)/2)] = [stimulus__(biasType = biasType, \n",
    "                                                                                        T = T, dt = dt,\n",
    "                                                                                        onTime = onTime, offTime = offTime,\n",
    "                                                                                        onAmp = onAmp, offAmp = offAmp,\n",
    "                                                                                        f = f, customSignal= customSignal)\n",
    "                                                                                        for i in range(int(len(SimulationOptions.electrodes)/2))]\n",
    "    else:\n",
    "        SimulationOptions.stimulus[0] = stimulus__(biasType = biasType, \n",
    "                                                T = T, dt = dt,\n",
    "                                                onTime = onTime, offTime = offTime,\n",
    "                                                onAmp = onAmp, offAmp = offAmp,\n",
    "                                                    f = f, customSignal= customSignal)\n",
    "    if start_state == None: \n",
    "        JunctionState = junctionState__(Connectivity.numOfJunctions, \n",
    "                                    mode = junctionMode, collapse = collapse, \n",
    "                                    criticalFlux=criticalFlux, maxFlux = maxFlux)\n",
    "    else:\n",
    "        from copy import deepcopy\n",
    "        JunctionState = deepcopy(start_state)\n",
    "    \n",
    "    kwdict = dict()\n",
    "    if (freeze_wire != None) or (freeze_junction != None):\n",
    "        kwdict = dict(freeze_wire = freeze_wire,\n",
    "                    freeze_junction = freeze_junction, \n",
    "                    freeze_TimeStamp = freeze_TimeStamp)\n",
    "        \n",
    "    this_realization,cost = simulateNetwork_backprop(SimulationOptions, Connectivity, JunctionState,tmpTiming,tmpTargets,limVal,limVal0,limVal1,lite_mode, disable_tqdm, save_steps, **kwdict)\n",
    "    \n",
    "#     finalIter=np.max(np.nonzero(this_realization.electrodeCurrent))\n",
    "#     if finalIter < 199:\n",
    "#         this_realization.electrodeCurrent=this_realization.electrodeCurrent[:finalIter+1,:]\n",
    "#         this_realization.junctionVoltage=this_realization.junctionVoltage[:finalIter+1,:]\n",
    "#         this_realization.junctionConductance=this_realization.junctionConductance[:finalIter+1,:]\n",
    "#         this_realization.wireVoltage=this_realization.wireVoltage[:finalIter+1,:]\n",
    "#         this_realization.filamentState=this_realization.filamentState[:finalIter+1,:]\n",
    "#         this_realization.junctionSwitch=this_realization.junctionSwitch[:finalIter+1,:]\n",
    "        #final Iter = time , use that to find / save network state\n",
    "        \n",
    "        \n",
    "#         this_realization.TimeVector=this_realization.TimeVector[:finalIter+1,:]\n",
    "\n",
    "    #     remove zeros from simulations that ended early:\n",
    "#     this_realization.junctionCurrent\n",
    "    \n",
    "    if findFirst:\n",
    "        from edamame.analysis.GraphTheory import findCurrent\n",
    "        try:\n",
    "            activation = findCurrent(this_realization, 1)\n",
    "            logging.info(f'First current path {activation[0][0]} formed at time = {activation[1][0]} s.')\n",
    "        except:\n",
    "            logging.info('Unfortunately, no current path is formed in simulation time.')\n",
    "\n",
    "    return this_realization,cost\n",
    "\n",
    "def simulateNetwork_backprop(simulationOptions, connectivity, junctionState,tmpTiming,tmpTargets, limVoltage,limVal0,limVal1,lite_mode = False, disable_tqdm = False, save_steps = 1, **kwargs):\n",
    "    niterations = simulationOptions.NumOfIterations\n",
    "    electrodes = simulationOptions.electrodes\n",
    "    numOfElectrodes = len(electrodes)\n",
    "    E = connectivity.numOfJunctions\n",
    "    V = connectivity.numOfWires\n",
    "    edgeList = connectivity.edge_list\n",
    "#     onAmp     = simulationOptions.stimulus[3].onAmp\n",
    "    \n",
    "#     maxV      = onAmp *limVoltage\n",
    "    n         = num_drain_training #num of drains\n",
    "    cost      = []\n",
    "    beta      = 0.05\n",
    "    grad      = np.zeros((n)) #set gradients to zero for each epoch  \n",
    "\n",
    "    Network = network__()\n",
    "    sampling = np.arange(0, niterations, save_steps)\n",
    "    if lite_mode:\n",
    "        Network.connectivity = connectivity__(adjMat = connectivity.adj_matrix)\n",
    "        Network.filamentState = np.zeros((int(niterations/save_steps), E))\n",
    "        Network.wireVoltage = np.zeros((int(niterations/save_steps), V))\n",
    "        Network.electrodeCurrent = np.zeros((int(niterations/save_steps), numOfElectrodes))\n",
    "        Network.TimeVector = np.zeros(int(niterations/save_steps))\n",
    "    else:        \n",
    "        Network.connectivity = connectivity\n",
    "        Network.TimeVector = simulationOptions.TimeVector\n",
    "        Network.filamentState = np.zeros((niterations, E))\n",
    "        Network.junctionVoltage = np.zeros((niterations, E))\n",
    "        # Network.junctionResistance = np.zeros((niterations, E))\n",
    "        Network.junctionConductance = np.zeros((niterations, E))\n",
    "        Network.junctionSwitch = np.zeros((niterations, E), dtype = bool)\n",
    "        Network.wireVoltage = np.zeros((niterations, V))\n",
    "        Network.electrodeCurrent = np.zeros((niterations, numOfElectrodes))\n",
    "\n",
    "    Network.sources = []\n",
    "    Network.drains = []\n",
    "    for i in range(numOfElectrodes):\n",
    "        if np.mean(simulationOptions.stimulus[i].signal) != 0:\n",
    "            Network.sources.append(electrodes[i])\n",
    "        else:\n",
    "            Network.drains.append(electrodes[i])\n",
    "\n",
    "    if len(Network.drains) == 0:\n",
    "        Network.drains.append(electrodes[1])\n",
    "\n",
    "    if 'freeze_wire' in kwargs:\n",
    "        freeze_wire = kwargs['freeze_wire']\n",
    "        freeze_TimeStamp = kwargs['freeze_TimeStamp']\n",
    "    else:\n",
    "        freeze_TimeStamp = niterations + 1\n",
    "    \n",
    "    #Simulation Run:\n",
    "#     new_time=0\n",
    "    stopTrain=False\n",
    "    for this_time in tqdm(range(niterations), desc='Running Simulation ', disable = disable_tqdm): #each time step\n",
    "        if not stopTrain:\n",
    "            this_stimulus = np.array([i.signal[this_time] for i in simulationOptions.stimulus])\n",
    "\n",
    "        if tmpTiming[this_time]=='Train':\n",
    "#             print('--------')\n",
    "#             print('Training')\n",
    "#             print('--------\\n')\n",
    "            trainTime=True\n",
    "        elif tmpTiming[this_time]=='Test':\n",
    "#             print('--------')\n",
    "#             print('Testing')\n",
    "#             print('--------\\n') \n",
    "            trainTime=False\n",
    "\n",
    "        if trainTime and this_time > 0 and not stopTrain: #if we are training, change drain voltages, otherwise just use this_stimulus\n",
    "            this_stimulus[:num_drain_training]=new_stimulus \n",
    "\n",
    "#             print('in training '+str(this_time))\n",
    "#         elif this_time > trainTime:\n",
    "\n",
    "        sol = simCore(connectivity, junctionState, this_stimulus, electrodes, simulationOptions.dt)\n",
    "\n",
    "        if this_time >= freeze_TimeStamp:\n",
    "            others = np.setdiff1d(range(V), freeze_wire)\n",
    "            wireVoltage[others] = sol[others]\n",
    "        else:\n",
    "            wireVoltage = sol[0:V]\n",
    "\n",
    "        if lite_mode:\n",
    "            if this_time%save_steps == 0:\n",
    "                Network.wireVoltage[this_time//save_steps,:] = wireVoltage\n",
    "                Network.electrodeCurrent[this_time//save_steps,:] = sol[V:]\n",
    "                Network.filamentState[this_time//save_steps,:] = junctionState.filamentState\n",
    "                Network.TimeVector[this_time//save_steps] = simulationOptions.TimeVector[this_time]\n",
    "        else:\n",
    "            Network.wireVoltage[this_time,:] = wireVoltage\n",
    "            Network.electrodeCurrent[this_time,:] = sol[V:]\n",
    "            Network.filamentState[this_time,:] = junctionState.filamentState\n",
    "            Network.junctionVoltage[this_time,:] = junctionState.voltage\n",
    "            Network.junctionConductance[this_time,:] = junctionState.conductance\n",
    "            Network.junctionSwitch[this_time,:] = junctionState.OnOrOff\n",
    "\n",
    "        ## BackProp Implementation\n",
    "        y = Network.electrodeCurrent[this_time,:num_drain_training]\n",
    "        drainCurrents=y\n",
    "        if tmpTargets[this_time] != -1: #skip rest values\n",
    "            tarIdx=tmpTargets[this_time]\n",
    "            y = y/(maxCurrent[tarIdx]) # normalize  | | | how do we change max current to be not arbitrary? \n",
    "        # current method - run simulation before with just that drain and use current as maxCurrent\n",
    "\n",
    "            # change to threshold \n",
    "            d = allTargets[tarIdx]\n",
    "            dsig = this_stimulus[:num_drain_training]\n",
    "\n",
    "            #fixed max voltage\n",
    "            # compare y with threshold - if y is >= thresh, stop the training\n",
    "#             set_trace()\n",
    "\n",
    "            #vectorised implementation\n",
    "\n",
    "            cost.append(calc_cost(y,d))\n",
    "\n",
    "            if trainTime and not stopTrain: #if we are training, update beta\n",
    "                #Gradient without considering other electrodes:\n",
    "                if tarIdx==0:\n",
    "                    if drainCurrents[0]>=limVal0: #if greater or less than the target current, stop the simulation\n",
    "                        this_stimulus=np.zeros(len(this_stimulus))\n",
    "                        stopTrain=True\n",
    "                    else:\n",
    "                        stopTrain=False\n",
    "                        #instead of ending session, make everything 0V (inputs + drains)\n",
    "                        #make sure this doesn't last longer than filament decay length\n",
    "                elif tarIdx==1:\n",
    "                    if drainCurrents[1]>=limVal1: #if greater or less than the target current, stop simulation\n",
    "                        this_stimulus=np.zeros(len(this_stimulus))\n",
    "                        stopTrain=True\n",
    "                    else:\n",
    "                        stopTrain=False\n",
    "                        \n",
    "                grad=beta*(y-d) #y = current, d = target #e.g. [y1 vs (d1 = 1), y2 vs (d2 = 0), y3vs (d3 = 0)]\n",
    "\n",
    "                #dsig = old voltage drains, dsig2 = new voltage drains, onAmp = input voltage\n",
    "\n",
    "                dsig2=np.array(dsig.T+grad)\n",
    "#                     dsig2[0]=np.clip(dsig2[0],0,limVal0)\n",
    "#                     dsig2[1]=np.clip(dsig2[1],0,limVal1)\n",
    "\n",
    "                dsig2=np.clip(dsig2,-onAmp,onAmp) #set max and min voltages to less than inputs\n",
    "\n",
    "                new_stimulus=dsig2\n",
    "\n",
    "            else:\n",
    "                new_stimulus=this_stimulus[:num_drain_training]\n",
    "\n",
    "    print('Target:' + str(tarIdx))\n",
    "#     print('Voltage: '+ str(new_stimulus))\n",
    "    \n",
    "    Network.numOfWires = V\n",
    "    Network.numOfJunctions = E\n",
    "    Network.electrodes = simulationOptions.electrodes\n",
    "    if len(electrodes) <= 2:\n",
    "        Network.conductance = Network.electrodeCurrent[:,1]/simulationOptions.stimulus[0].signal[sampling]\n",
    "    if not lite_mode:\n",
    "        Network.stimulus = [simulationOptions.stimulus[i] for i in range(numOfElectrodes)]\n",
    "        Network.junctionResistance = 1/Network.junctionConductance\n",
    "        \n",
    "    return Network,cost\n",
    "\n",
    "\n",
    "\n",
    "def runNBACK(onAmp,onAmpTest,dt,Tlen,timesteps,numDT,restDur,nbacks=[],maxCurrent=[1e-5,1e-5],limVal=0.5,accThresh=0.5,increaseVal=0.5,decreaseVal=0.25,seed=42,accThreshold=False):\n",
    "    \"\"\"\n",
    "    n-back task:\n",
    "    input sample 1 with backprop, then sample 2 with backprop, then sample 1 again with reset drain voltages \n",
    "    n back here = 1, showing memory\n",
    "    \n",
    "    train sample x, test sample x + nback (e.g. nback = 2, sample = [s1 train,s2,s3,s1 test] )\n",
    "\n",
    "    increase n-back: \n",
    "    sample 1 with backprop, sample 2, sample 3... test sample 1 - n=2\n",
    "    \n",
    "    Things to test:\n",
    "    - if we increase input frequency (dt), do we see greater long term memory? (higher n-backs)\n",
    "    - if we decrease frequency, do we see greater short term memory? (lower n-backs)\n",
    "\n",
    "    \"\"\"  \n",
    "    \n",
    "    t           = [[None]*120 for i in range(len(nbacks))]\n",
    "    simVoltages = []\n",
    "    saveStim    = []\n",
    "    count=0\n",
    "    for nback in nbacks: #how many samples to \"remember\" in the past before testing\n",
    "        np.random.seed(seed)\n",
    "        \n",
    "        numTestingSamples= 40 #how many samples across all nback values\n",
    "        \n",
    "        #completely random order\n",
    "        orderTraining = np.random.choice(len(trainingInputs),size=len(trainingInputs),replace=False)\n",
    "        \n",
    "        orderTrainingLabels=traininglabels[orderTraining]\n",
    "        orderTrainingLabelsNBACK=orderTrainingLabels[::nback] #these are the testing labels - every i+nback training sample is what we're testing\n",
    "        orderTesting=[]\n",
    "        for label in orderTrainingLabelsNBACK: #for each training label in the random order:\n",
    "            orderTesting.append(np.random.choice(np.where(testinglabels==label)[0]))\n",
    "        orderTestingLabels=testinglabels[orderTesting]    \n",
    "        orderTestingNBACK=np.array(orderTesting)+len(orderTraining) #number of test per nback\n",
    "         #choose how many samples between testing samples:\n",
    "        i = nback\n",
    "        temp=[]\n",
    "        j=0\n",
    "        order=[None]*(len(orderTraining))\n",
    "        order[:len(orderTraining)]=orderTraining\n",
    "        while j<numTestingSamples: #for each testing sample \n",
    "            if i < len(order): #only if we are within the total number of training samples\n",
    "                order.insert(i, orderTesting[j]+len(orderTraining)) #insert testing sample at ith position\n",
    "            temp.append(i) #keep track number of inserts we made, make sure it == numTestingSamples\n",
    "            i += nback+1\n",
    "            j +=1\n",
    "        \n",
    "        \n",
    "        #remove excess training (i.e. with no testing sample)\n",
    "        sampleTimes=numDT*(nback+1)\n",
    "        newTrainingOrder=orderTraining[:sampleTimes-numTestingSamples]\n",
    "        orderTrainingLabels=orderTrainingLabels[:sampleTimes-numTestingSamples]\n",
    "        order=order[:sampleTimes]\n",
    "        \n",
    "        \n",
    "#         print(order)\n",
    "#         print(len(order))\n",
    "        #RUN SIM\n",
    "        N                   = orig_inputs.shape[1]\n",
    "        numClasses          = 2\n",
    "        signalType          ='DC'\n",
    "        num_drain_training  = 2\n",
    "        num_source_training = N\n",
    "        tmpSources          = [[] for i in range(len(order))]\n",
    "        tmpTargets          = [None]*len(order)\n",
    "        sim                 = [None]*len(order)\n",
    "        thresholdValues     = [None]*len(order)\n",
    "        cost                = [None]*len(order)\n",
    "        simVoltages         = [None]*len(order)\n",
    "        accuracy    = []\n",
    "        numTrainingSamples  = len(trainingInputs)\n",
    "        numTestingSamples   = len(testingInputs)\n",
    "        \n",
    "        timing=[]\n",
    "        allLabels=[]\n",
    "        limVals0 = limVal\n",
    "        limVals1 = limVal\n",
    "        \n",
    "        i=0\n",
    "        numTests = 0\n",
    "        nwState = None\n",
    "        for val in order: #this method loops through samples in the randomised training order\n",
    "            \n",
    "            #FOR EACH SAMPLE:\n",
    "            \n",
    "            #are we training or testing?\n",
    "            if val in orderTestingNBACK:\n",
    "                test=True\n",
    "                train=False\n",
    "            elif val in orderTraining:\n",
    "                test=False\n",
    "                train=True\n",
    "                \n",
    "            #define samples\n",
    "            if train: #if we're training\n",
    "                this_sample = trainingInputs[val].copy() #xs\n",
    "                this_label  = traininglabels[val] #ys\n",
    "                this_sample[this_sample>0.005]=this_sample[this_sample>0.005]*onAmp #tune voltage based on onAmp\n",
    "                timing.append('Train')\n",
    "\n",
    "            elif test: #if we're testing\n",
    "                this_sample = testingInputs[val-len(orderTraining)].copy() #xs\n",
    "                this_label  = testinglabels[val-len(orderTraining)] #ys\n",
    "                this_sample[this_sample>0.005]=this_sample[this_sample>0.005]*onAmpTest\n",
    "                timing.append('Test')\n",
    "\n",
    "#             targetClassVals=[0,1] \n",
    "\n",
    "            targetTmp = signal_expand(this_label,numDT) #number of timesteps per target\n",
    "            timing[i] = signal_expand(timing[i],numDT)\n",
    "        #     #array of nans:\n",
    "            tmpArray=np.empty(restDur)\n",
    "            tmpArray[:]=-1\n",
    "            targetTmp = np.append(targetTmp,tmpArray) #add rest #need to remove targets from rest\n",
    "            tmpTargets[i]=targetTmp \n",
    "            for j in range(len(this_sample)): #for each source electrode\n",
    "                tmp = signal_expand(this_sample[j],numDT)\n",
    "                tmp = np.append(tmp,np.zeros(restDur)) #add rest\n",
    "                tmpSources[i].append(tmp)\n",
    "            allLabels.append(this_label)\n",
    "            \n",
    "            stimulus=[]\n",
    "            for m in range(num_drain_training): #create stimulus for each drain electrode\n",
    "                stimulus.append(stimulus__(biasType='Drain',T=dt*len(tmpSources[i][m]),dt=dt))\n",
    "\n",
    "            for m in range(len(tmpSources[i])): #create stimulus for each source electrode\n",
    "                stimulus.append(stimulus__(biasType='Custom',T=dt*len(tmpSources[i][m]),dt=dt,customSignal=tmpSources[i][m]))\n",
    "            \n",
    "            signalLen=len(stimulus[0].signal) \n",
    "            \n",
    "            sim[i],nwState = getNWState_backprop(stimulus,nwState,drain_pool,sources,timing[i],tmpTargets[i].astype('int'),limVal,limVals0,limVals1,run_time=int(signalLen*dt),dt=dt,disable_tqdm=False)\n",
    "\n",
    "            simVoltages[i]=(sim[i].wireVoltage)\n",
    "            \n",
    "            t[count][i]=(calcOutputs(sim[i],sources,drain_pool))\n",
    "        \n",
    "            if test: #if we are testing\n",
    "                #calucalte accuracy\n",
    "                accThreshold=False\n",
    "                if accThreshold:\n",
    "                    #add threshold of difference to ensure accuracy:\n",
    "                    argmaxvals=np.argmax([t[count][i][0],t[count][i][1]],axis=0)\n",
    "\n",
    "                    for s in range(len(argmaxvals)):\n",
    "                        if abs(t[count][i][0][s]-t[count][i][1][s])>1e-6 and argmaxvals[s]==1:\n",
    "                            argmaxvals[s]=1\n",
    "                        elif abs(t[count][i][0][s]-t[count][i][1][s])<1e-6 and argmaxvals[s] == 1:\n",
    "                            argmaxvals[s]=0\n",
    "#                     accuracy.append(np.sum(argmaxvals==tmpTargets[testTimes])/len(tmpTargets[testTimes]))\n",
    "                    accuracy.append(np.sum(argmaxvals==tmpTargets[i-nback])/len(tmpTargets[i-nback]))\n",
    "                else:\n",
    "                    accuracy.append(np.sum(np.argmax([t[count][i][0],t[count][i][1]],axis=0)==tmpTargets[i-nback])/len(tmpTargets[i-nback]))\n",
    "                \n",
    "                if i >0:\n",
    "                    if accuracy[numTests]<=accThresh: #if the accuracy is less than or equal to chance\n",
    "                        if this_label==0: #drain 1\n",
    "                            limVals0=limVals0+increaseVal #update 'max current limit based on reinforcement'\n",
    "                            limVals1=limVals1-decreaseVal\n",
    "                        elif this_label==1: #drain 2\n",
    "                            limVals0=limVals0-decreaseVal\n",
    "                            limVals1=limVals1+increaseVal                           \n",
    "                \n",
    "                print('Target: ' + str(tmpTargets[i][0]))\n",
    "                print('Accuracy: '+ str(accuracy[numTests]))\n",
    "                numTests+=1\n",
    "                \n",
    "                \n",
    "            fval1=np.max(np.nonzero(t[count][i][0]))\n",
    "            fval2=np.max(np.nonzero(t[count][i][1]))\n",
    "            print('Currents: ' + str([t[count][i][0][fval1],t[count][i][1][fval2]]))\n",
    "            print(\"LimVal1:\" + str(limVals1)) #just a checking/debugging print\n",
    "            print(\"LimVal0:\" + str(limVals0)) #just a checking/debugging print\n",
    "\n",
    "            thresholdValues[i]=[limVals0,limVals1]\n",
    "            i+=1 \n",
    "        \n",
    "        count+=1\n",
    "    return t,thresholdValues,sim,stimulus,accuracy,tmpTargets,newTrainingOrder,orderTesting,order,orderTestingLabels,testTimes,trainTimes,numTestingSamples,allLabels,orderTrainingLabels\n",
    "\n",
    "def trainTestSplit(inputs,targets,targetClassVals=[0,1],numTestingPerClass=3,orig_inputs=[]):\n",
    "    trainingInputs  = np.array([inputs[targets==targetClassVals[0]][:-numTestingPerClass],inputs[targets==targetClassVals[1]][:-numTestingPerClass]]).reshape(-1,orig_inputs.shape[1])\n",
    "    testingInputs   = np.array([inputs[targets==targetClassVals[0]][-numTestingPerClass:],inputs[targets==targetClassVals[1]][-numTestingPerClass:]]).reshape(-1,orig_inputs.shape[1])\n",
    "    #Define Training and Testing labels\n",
    "    traininglabels=np.zeros(len(trainingInputs))\n",
    "    traininglabels[:int(len(trainingInputs)/2)]=0\n",
    "    traininglabels[int(len(trainingInputs)/2):int(len(trainingInputs)/2)*2]=1\n",
    "    # traininglabels[int(len(trainingInputs)/3)*2:]=2\n",
    "    traininglabels=traininglabels.astype(int)\n",
    "\n",
    "    testinglabels=np.zeros(len(testingInputs))\n",
    "    testinglabels[:int(len(testingInputs)/2)]=0\n",
    "    testinglabels[int(len(testingInputs)/2):int(len(testingInputs)/2)*2]=1\n",
    "    # testinglabels[int(len(testingInputs)/3)*2:]=2\n",
    "    testinglabels=testinglabels.astype(int)\n",
    "    \n",
    "    return trainingInputs,testingInputs,traininglabels,testinglabels\n",
    "\n",
    "\n",
    "#TASK SETUP\n",
    "\n",
    "#Automatically chosen electrodes vs manual picked\n",
    "ManualSources=True\n",
    "#Number of training samples\n",
    "numSamples=50\n",
    "\n",
    "#Pattern (2x2 or 3x3)\n",
    "patternSize= 3 #2 or 3\n",
    "#Number of source electrodes (4 for 2x2, 9 for 3x3)\n",
    "numSources=9 # 4 or 9\n",
    "\n",
    "num_drain_training=2\n",
    "allTargets=[[1,0],[0,1]]\n",
    "targetClassVals=[0,1]\n",
    "numTestingPerClass=10\n",
    "\n",
    "#Amplitude:\n",
    "onAmp = 2 #Voltage for Training\n",
    "onAmpTest = 0.25 #Voltage for Testing\n",
    "\n",
    "#Noise\n",
    "noisey=False\n",
    "\n",
    "#create networks\n",
    "connectivity,sources,drain_pool=buildNetworks(fileName,ManualSources,num_drain_training,numSources)\n",
    "\n",
    "#create samples\n",
    "inputs,targets,orig_inputs=createSimpleInputs(patternSize,numSamples,noisey) #pattern size (e.g 3x3 = 3), number of samples, noise\n",
    "\n",
    "#split samples to train test\n",
    "trainingInputs,testingInputs,traininglabels,testinglabels = trainTestSplit(inputs,targets,targetClassVals,numTestingPerClass,orig_inputs=orig_inputs)\n",
    "\n",
    "#Run n-back Task\n",
    "\n",
    "#Time Parameters\n",
    "dt=0.01\n",
    "Tlen = 200\n",
    "timesteps   = Tlen/dt\n",
    "numDT       = int(timesteps/len(inputs)) #number of timesteps per sample\n",
    "restDur=0\n",
    "\n",
    "accThreshold=False #do we want to force a minimum (arbitrary) difference between target and non-target drain for accuracy to be counted?\n",
    "\n",
    "#Other Variables\n",
    "maxCurrent = [1e-5,1e-5] #target\n",
    "threshCurrent = [5e-6,5e-6]\n",
    "nbacks         = [3]#range(1,5)\n",
    "numRuns        = 1\n",
    "sim            = [None]*numRuns\n",
    "stimuli        = [None]*numRuns\n",
    "accuracy       = [None]*numRuns\n",
    "\n",
    "trainingOrder = [None]*numRuns\n",
    "testingOrder = [None]*numRuns\n",
    "testingLabels  = [None]*numRuns\n",
    "trainingLabels  = [None]*numRuns\n",
    "order          = [None]*numRuns\n",
    "testTimes      = [None]*numRuns\n",
    "trainTimes      = [None]*numRuns\n",
    "targets        = [None]*numRuns\n",
    "numTestingSamples = [None]*numRuns\n",
    "allLabels      = [None]*numRuns\n",
    "seeds          =  np.array([4695])#np.random.choice(10000,size=numRuns,replace=False)\n",
    "\n",
    "limValues = [threshCurrent[0]]#[1e-6]#list(np.arange(0.05,1.05,0.05))  #if we want to loop through onAmp limit voltage percentage for drains\n",
    "increaseVal=threshCurrent[0]/2\n",
    "decreaseVal=threshCurrent[0]/4\n",
    "accThresh=0.7\n",
    "\n",
    "loadOnly=False\n",
    "\n",
    "\n",
    "if loadOnly == False:\n",
    "    print('Running')\n",
    "    meanAcc=[]\n",
    "    stdAcc=[]\n",
    "    outputs=[]\n",
    "    for val in tqdm(limValues):\n",
    "        print(val)\n",
    "        for i in tqdm(range(numRuns)):\n",
    "            outputs.append(runNBACK(onAmp,onAmpTest,dt,Tlen,timesteps,numDT,restDur,nbacks,maxCurrent,val,accThresh,increaseVal,decreaseVal,seed=seeds[i],accThreshold=accThreshold))\n",
    "    print('Saving')\n",
    "    if numRuns==1:\n",
    "        outputs=outputs[0]\n",
    "        t=outputs[0][0][:-1]\n",
    "        thresholds=outputs[1]\n",
    "        sim=outputs[2]\n",
    "        accuracy=outputs[4]\n",
    "        alltargets=outputs[5]\n",
    "        trainingOrder=outputs[6]\n",
    "        trainingLabels=outputs[-1]\n",
    "        testingLabels=outputs[9]\n",
    "        allLabels=outputs[-2]\n",
    "        numTestingSamples=outputs[-3]\n",
    "    else:\n",
    "        t = [None]*numRuns;thresholds=[None]*numRuns;sim=[None]*numRuns;accuracy=[None]*numRuns;alltargets=[None]*numRuns\n",
    "        trainingOrder=[None]*numRuns;trainingLabels=[None]*numRuns;testingLabels=[None]*numRuns;allLabels=[None]*numRuns\n",
    "        for run in range(numRuns):\n",
    "            t[run]=outputs[run][0][0][:-1]\n",
    "            thresholds[run]=outputs[run][1]\n",
    "            sim[run]=outputs[run][2]\n",
    "            accuracy[run]=outputs[run][4]\n",
    "            alltargets[run]=outputs[run][5]\n",
    "            trainingOrder[run]=outputs[run][6]\n",
    "            trainingLabels[run]=outputs[run][-1]\n",
    "            testingLabels[run]=outputs[run][9]\n",
    "            allLabels[run]=outputs[run][-2]\n",
    "            numTestingSamples=outputs[run][-3]\n",
    "\n",
    "    params={'Voltage':onAmp,'Test Voltage':onAmpTest,'Threshold Value':limValues,'Accuracy Threshold':accThresh,'ThreshIncrease':increaseVal,'ThreshDecrease':decreaseVal,'Random Seed':seeds,'Timesteps':Tlen,'Target Currents':maxCurrent,'dt':dt,'Num Samples':[119],'Num Trials':numRuns,'Noise':noisey}\n",
    "#     if patternSize==2:\n",
    "#         savemat(dataLoc+'nback'+str(nbacks[0])+'_data_350nw_1350nj_reinforcement_2x2_wLimThreshold_wAccThreshold.mat', {'Data':{'current':t,'threshold':thresholds, 'sim':sim,'accuracy':accuracy,'targets':alltargets,'training order':trainingOrder,'training labels':trainingLabels,'testing labels':testingLabels,'all labels':allLabels,'num test samples':numTestingSamples,'Parameters':params}})\n",
    "#     else:\n",
    "#         savemat(dataLoc+'nback'+str(nbacks[0])+'_data_350nw_1350nj_reinforcement_3x3_wLimThreshold_wAccThreshold.mat', {'Data':{'current':t,'threshold':thresholds, 'sim':sim,'accuracy':accuracy,'targets':alltargets,'training order':trainingOrder,'training labels':trainingLabels,'testing labels':testingLabels,'all labels':allLabels,'num test samples':numTestingSamples,'Parameters':params}})        \n",
    "#     savemat(dataLoc+'nback'+str(nbacks[0])+'_data_700nw_2545nj_reinforcement_3x3_wLimThreshold_wAccThreshold.mat', {'Data':{'current':t,'threshold':thresholds, 'sim':sim,'accuracy':accuracy,'targets':alltargets,'training order':trainingOrder,'training labels':trainingLabels,'testing labels':testingLabels,'all labels':allLabels,'num test samples':numTestingSamples,'Parameters':params}})        \n",
    "\n",
    "else:\n",
    "    print('Loading')\n",
    "    out=loadmat(dataLoc+'nback'+str(nbacks[0])+'_data_350nw_1350nj_reinforcement_2x2_wLimThreshold_wAccThreshold.mat')\n",
    "    out=out['Data'][0][0]\n",
    "    t=out[0]\n",
    "    thresholds=out[1]\n",
    "    sim=out[2][0]\n",
    "    accuracy=out[3][0]\n",
    "    alltargets=out[4]\n",
    "    trainingOrder=out[5][0]\n",
    "    trainingLabels=out[6][0]\n",
    "    testingLabels=out[7][0]\n",
    "    allLabels=out[8][0]\n",
    "    numTestingSamples=out[9][0][0]\n"
   ]
  },
  {
   "cell_type": "code",
   "execution_count": null,
   "metadata": {
    "scrolled": false
   },
   "outputs": [],
   "source": [
    "plt.plot(accuracy,'-o')\n",
    "plt.ylim([-0.1,1.1])"
   ]
  },
  {
   "cell_type": "code",
   "execution_count": 3,
   "metadata": {},
   "outputs": [],
   "source": [
    "spl=nx.shortest_path_length(nx.from_numpy_array(connectivity.adj_matrix),drain_pool[1],drain_pool[0])"
   ]
  },
  {
   "cell_type": "code",
   "execution_count": 329,
   "metadata": {},
   "outputs": [
    {
     "data": {
      "text/plain": [
       "array([0.125     , 0.1249344 , 0.12487201, 0.12481282, 0.12475681,\n",
       "       0.12470397, 0.1246543 , 0.12460779, 0.12456442, 0.12452418,\n",
       "       0.12448705, 0.12445205, 0.12440303, 0.12434597, 0.1243352 ,\n",
       "       0.12429562, 0.12425792, 0.12422072, 0.12417752, 0.12412574,\n",
       "       0.12406078, 0.12400551, 0.1239628 , 0.12393301, 0.12391637,\n",
       "       0.12390286, 0.12389043, 0.12388412, 0.12387994, 0.12390222,\n",
       "       0.12392435, 0.12394432, 0.12396214, 0.12396549, 0.12396787,\n",
       "       0.125     , 0.125     , 0.125     , 0.125     , 0.125     ,\n",
       "       0.125     , 0.125     , 0.125     , 0.125     , 0.125     ,\n",
       "       0.125     , 0.125     , 0.125     , 0.125     , 0.125     ,\n",
       "       0.125     , 0.125     , 0.125     , 0.125     , 0.125     ,\n",
       "       0.125     , 0.125     , 0.125     , 0.125     , 0.125     ,\n",
       "       0.125     , 0.125     , 0.125     , 0.125     , 0.125     ,\n",
       "       0.125     , 0.125     , 0.125     , 0.125     , 0.125     ,\n",
       "       0.125     , 0.125     , 0.125     , 0.125     , 0.125     ,\n",
       "       0.125     , 0.125     , 0.125     , 0.125     , 0.125     ,\n",
       "       0.125     , 0.125     , 0.125     , 0.125     , 0.125     ,\n",
       "       0.125     , 0.125     , 0.125     , 0.125     , 0.125     ,\n",
       "       0.125     , 0.125     , 0.125     , 0.125     , 0.125     ,\n",
       "       0.125     , 0.125     , 0.125     , 0.125     , 0.125     ,\n",
       "       0.125     , 0.125     , 0.125     , 0.125     , 0.125     ,\n",
       "       0.125     , 0.125     , 0.125     , 0.125     , 0.125     ,\n",
       "       0.125     , 0.125     , 0.125     , 0.125     , 0.125     ,\n",
       "       0.125     , 0.125     , 0.125     , 0.125     , 0.125     ,\n",
       "       0.125     , 0.125     , 0.125     , 0.125     , 0.125     ,\n",
       "       0.125     , 0.125     , 0.125     , 0.125     , 0.125     ,\n",
       "       0.125     , 0.125     , 0.125     , 0.125     , 0.125     ,\n",
       "       0.125     , 0.125     , 0.125     , 0.125     , 0.125     ,\n",
       "       0.125     , 0.125     , 0.125     , 0.125     , 0.125     ,\n",
       "       0.125     , 0.125     , 0.125     , 0.125     , 0.125     ,\n",
       "       0.125     , 0.125     , 0.125     , 0.125     , 0.125     ,\n",
       "       0.125     , 0.125     , 0.125     , 0.125     , 0.125     ,\n",
       "       0.125     , 0.125     , 0.125     , 0.125     , 0.125     ,\n",
       "       0.125     , 0.125     , 0.125     , 0.125     , 0.125     ,\n",
       "       0.125     , 0.125     , 0.125     , 0.125     , 0.125     ,\n",
       "       0.125     , 0.125     , 0.125     , 0.125     , 0.125     ,\n",
       "       0.125     , 0.125     , 0.125     , 0.125     , 0.125     ,\n",
       "       0.125     , 0.125     , 0.125     , 0.125     , 0.125     ,\n",
       "       0.125     , 0.125     , 0.125     , 0.125     , 0.125     ,\n",
       "       0.125     , 0.125     , 0.125     , 0.125     , 0.125     ])"
      ]
     },
     "execution_count": 329,
     "metadata": {},
     "output_type": "execute_result"
    }
   ],
   "source": [
    "((onAmp-sim[0].wireVoltage[:,drain_pool[0]])/spl)"
   ]
  },
  {
   "cell_type": "code",
   "execution_count": 216,
   "metadata": {},
   "outputs": [],
   "source": [
    "sampleTimes=numDT*(nbacks[0]+1)"
   ]
  },
  {
   "cell_type": "code",
   "execution_count": 217,
   "metadata": {},
   "outputs": [],
   "source": [
    "signalLen=200*len(alltargets)"
   ]
  },
  {
   "cell_type": "code",
   "execution_count": 218,
   "metadata": {},
   "outputs": [],
   "source": [
    "nback=nbacks[0]\n",
    "tmp=numDT*nback\n",
    "A=np.array(range(tmp,signalLen,int(tmp+numDT))) #training \n",
    "B=np.array(range(tmp+numDT,signalLen,int(tmp+numDT)))# testing\n",
    "c=[]\n",
    "for k in range(len(B)):\n",
    "    c.append(range(A[k],B[k]))\n",
    "testTimes=np.array(np.hstack(c))\n",
    "l=range(signalLen)\n",
    "trainTimes=np.array(np.hstack([m for m in l if m not in testTimes]))\n",
    "\n",
    "#test and train samples:\n",
    "testSamples=[]\n",
    "for i in range(-1,len(alltargets),3):\n",
    "    if i > 0:\n",
    "        testSamples.append(i)\n",
    "testSamples=np.array(testSamples)\n",
    "trainSamples = np.setdiff1d(np.array(range(len(alltargets))),testSamples)"
   ]
  },
  {
   "cell_type": "code",
   "execution_count": 219,
   "metadata": {},
   "outputs": [],
   "source": [
    "drain1=[];drain2=[]\n",
    "for i in range(len(t)-2):\n",
    "    drain1.append(t[i][0])\n",
    "    drain2.append(t[i][1])\n",
    "    \n",
    "drain1test=np.array(drain1)[testSamples]\n",
    "drain2test=np.array(drain2)[testSamples]\n",
    "\n",
    "targets=np.array(alltargets)[testSamples]"
   ]
  },
  {
   "cell_type": "code",
   "execution_count": 220,
   "metadata": {
    "scrolled": true
   },
   "outputs": [
    {
     "data": {
      "application/vnd.jupyter.widget-view+json": {
       "model_id": "722d185944254159afe09c9c20728a66",
       "version_major": 2,
       "version_minor": 0
      },
      "text/plain": [
       "  0%|          | 0/80 [00:00<?, ?it/s]"
      ]
     },
     "metadata": {},
     "output_type": "display_data"
    }
   ],
   "source": [
    "import pandas as pd\n",
    "# trainingLabels=allLabels #not sure about this\n",
    "nback=nbacks[0]\n",
    "thisTrainInputs=[[] for i in range(len(trainingLabels))]\n",
    "for trial in tqdm(range(len(trainingLabels))): #for each trial\n",
    "    #bin training samples\n",
    "    thisLabels=np.array(allLabels)\n",
    "    tmp=trainingInputs[trainingOrder]\n",
    "    \n",
    "    #plot training inputs that are to be tested:\n",
    "    count = 0\n",
    "    for inpt in tmp:\n",
    "        thisTrainInputs[count]=(inpt.reshape(-1,1))\n",
    "        count+=1\n",
    "    trainlabel=trainingLabels\n",
    "#     trainlabel=np.delete(trainlabel,np.arange(nback,trainlabel.size,nback+1))\n",
    "    trainlabel=np.array(trainlabel).reshape(-1, nback)\n",
    "    thisTestTime = testTimes\n",
    "    targetTimes = signal_expand(targets,numDT)\n",
    "    \n",
    "    currents=np.array(t)\n",
    "    thisTarget=targets\n",
    "    testlabel=testingLabels[:numTestingSamples]\n",
    "        \n",
    "    if nback == 2:    \n",
    "        #seperate to classes \n",
    "\n",
    "        c1c1notest=[0]\n",
    "        c1c2notest=[0]\n",
    "        c2c1notest=[0]\n",
    "        c2c2notest=[0]\n",
    "        count1=0\n",
    "        count2=0\n",
    "        c2count=[]\n",
    "        c1count=[]\n",
    "        classOrder=[]\n",
    "        targetClass=[]\n",
    "        for label in trainlabel:\n",
    "            if np.all(label == [0,0]):\n",
    "                classOrder.append('c1-c1')\n",
    "                targetClass.append(1)\n",
    "                count1+=1\n",
    "            elif np.all(label == [0,1]):\n",
    "                classOrder.append('c1-c2')\n",
    "                targetClass.append(1)\n",
    "                count1+=1\n",
    "            elif np.all(label == [1,1]):\n",
    "                classOrder.append('c2-c2')\n",
    "                targetClass.append(2)\n",
    "                count2+=1\n",
    "            elif np.all(label == [1,0]):\n",
    "                classOrder.append('c2-c1')\n",
    "                targetClass.append(2)\n",
    "                count2+=1\n",
    "            c2count.append(count2)\n",
    "            c1count.append(count1)\n",
    "       #count how many times the network has seen c1-c1,c1-c2/c2-c1,c2-c2 at each test point:\n",
    "        for i in range(len(trainlabel)):\n",
    "            a=np.sum(np.array_equiv(trainlabel[i],np.array([0,0])))\n",
    "            b=np.sum(np.array_equiv(trainlabel[i],np.array([0,1])))\n",
    "            c=np.sum(np.array_equiv(trainlabel[i],np.array([1,0])))\n",
    "            d=np.sum(np.array_equiv(trainlabel[i],np.array([1,1])))\n",
    "\n",
    "    #         set_trace()\n",
    "            c1c1notest.append(c1c1notest[i]+a)\n",
    "            c1c2notest.append(c1c2notest[i]+b)\n",
    "            c2c1notest.append(c2c1notest[i]+c)\n",
    "            c2c2notest.append(c2c2notest[i]+d)\n",
    "\n",
    "\n",
    "        #count how many times the network has seen c1/c2 at each test point:\n",
    "        count1notest=[]\n",
    "        count2notest=[]\n",
    "        temp1=trainlabel.reshape(-1)\n",
    "        for i in range(len(temp1)):\n",
    "            if i == 0:\n",
    "                count1notest.append(0)\n",
    "                count2notest.append(0)\n",
    "            if i % nback == 0 and i > 0:\n",
    "                count1notest.append(np.sum(temp1[:i]==0))\n",
    "                count2notest.append(np.sum(temp1[:i]==1))\n",
    "\n",
    "        count1plustest=[]\n",
    "        count2plustest=[]\n",
    "        temp1=thisLabels\n",
    "        n=nback+1\n",
    "        for i in range(len(temp1)):\n",
    "            if i == 0:\n",
    "                count1plustest.append(0)\n",
    "                count2plustest.append(0)\n",
    "            if i % n == 0 and i > 0: \n",
    "                count1plustest.append(np.sum(temp1[:i]==0))\n",
    "                count2plustest.append(np.sum(temp1[:i]==1))            \n",
    "\n",
    "        cumsumdiffnotest=np.array(count1notest)-np.array(count2notest)\n",
    "        cumsumdifftest=np.array(count1plustest)-np.array(count2plustest)    \n",
    "\n",
    "        if len(accuracy)!= len(targetClass):\n",
    "            temp=np.append(accuracy,np.nan)\n",
    "#         set_trace()\n",
    "        df=pd.DataFrame({'Class':np.array(targetClass),'Order':classOrder,'Trial':trial,\n",
    "                         'Accuracy':temp,'C1NoTest':count1notest,\n",
    "                         'C2NoTest':count2notest,'CountDiff':np.array(c2count)-np.array(c1count),\n",
    "                         'C1+Test':count1plustest,'C2+Test':count2plustest,'C1C1count':c1c1notest[1:],\n",
    "                         'C1C2count':c1c2notest[1:], 'C2C1count':c2c1notest[1:],'C2C2count':c2c2notest[1:],\n",
    "                        })\n",
    "   \n",
    "#     elif nback == 3:    \n",
    "\n",
    "#         count1=0\n",
    "#         count2=0\n",
    "#         c2count=[]\n",
    "#         c1count=[]\n",
    "#         classOrder=[]\n",
    "#         targetClass=[]\n",
    "#         for label in trainlabel:\n",
    "#             if np.all(label == [0,0,0]):\n",
    "#                 classOrder.append('c1-c1-c1')\n",
    "#                 targetClass.append(1)\n",
    "#                 count1+=1\n",
    "#             elif np.all(label == [0,1,0]):\n",
    "#                 classOrder.append('c1-c2-c1')\n",
    "#                 targetClass.append(1)\n",
    "#                 count1+=1\n",
    "#             elif np.all(label == [0,1,1]):\n",
    "#                 classOrder.append('c1-c2-c2')\n",
    "#                 targetClass.append(1)\n",
    "#                 count1+=1\n",
    "#             elif np.all(label == [0,0,1]):\n",
    "#                 classOrder.append('c1-c1-c2')\n",
    "#                 targetClass.append(1)\n",
    "#                 count1+=1   \n",
    "#             elif np.all(label == [1,1,1]):\n",
    "#                 classOrder.append('c2-c2-c2')\n",
    "#                 targetClass.append(2)\n",
    "#                 count2+=1\n",
    "#             elif np.all(label == [1,0,1]):\n",
    "#                 classOrder.append('c2-c1-c2')\n",
    "#                 targetClass.append(2)\n",
    "#                 count2+=1\n",
    "#             elif np.all(label == [1,1,0]):\n",
    "#                 classOrder.append('c2-c2-c1')\n",
    "#                 targetClass.append(2)\n",
    "#                 count2+=1\n",
    "#             elif np.all(label == [1,0,0]):\n",
    "#                 classOrder.append('c2-c1-c1')\n",
    "#                 targetClass.append(2)\n",
    "#                 count2+=1\n",
    "#             c2count.append(count2)\n",
    "#             c1count.append(count1)\n",
    "#        #count how many times the network has seen c1-c1,c1-c2/c2-c1,c2-c2 at each test point:\n",
    "#         c1c1c1notest=[0];c2c2c2notest=[0];\n",
    "#         c1c1c2notest=[0];c2c2c1notest=[0];\n",
    "#         c1c2c2notest=[0];c2c1c2notest=[0];\n",
    "#         c1c2c1notest=[0];c2c1c1notest=[0];\n",
    "        \n",
    "#         for i in range(len(trainlabel)):\n",
    "#             a1=np.sum(np.array_equiv(trainlabel[i],np.array([0,0,0])))\n",
    "#             b1=np.sum(np.array_equiv(trainlabel[i],np.array([0,0,1])))\n",
    "#             c1=np.sum(np.array_equiv(trainlabel[i],np.array([0,1,0])))\n",
    "#             d1=np.sum(np.array_equiv(trainlabel[i],np.array([0,1,1])))\n",
    "#             a2=np.sum(np.array_equiv(trainlabel[i],np.array([1,1,1])))\n",
    "#             b2=np.sum(np.array_equiv(trainlabel[i],np.array([1,0,1])))\n",
    "#             c2=np.sum(np.array_equiv(trainlabel[i],np.array([1,1,0])))\n",
    "#             d2=np.sum(np.array_equiv(trainlabel[i],np.array([1,0,0])))\n",
    "            \n",
    "#     #         set_trace()\n",
    "#             c1c1c1notest.append(c1c1c1notest[i]+a1)\n",
    "#             c1c1c2notest.append(c1c1c2notest[i]+b1)\n",
    "#             c1c2c1notest.append(c1c2c1notest[i]+c1)\n",
    "#             c1c2c2notest.append(c1c2c1notest[i]+d1)\n",
    "#             c2c2c2notest.append(c2c2c2notest[i]+a2)\n",
    "#             c2c1c2notest.append(c1c1c2notest[i]+b2)\n",
    "#             c2c2c1notest.append(c1c2c1notest[i]+c2)\n",
    "#             c2c1c1notest.append(c1c2c1notest[i]+d2)\n",
    "\n",
    "\n",
    "#         #count how many times the network has seen c1/c2 at each test point:\n",
    "#         count1notest=[]\n",
    "#         count2notest=[]\n",
    "#         temp1=trainlabel.reshape(-1)\n",
    "#         for i in range(len(temp1)):\n",
    "#             if i == 0:\n",
    "#                 count1notest.append(0)\n",
    "#                 count2notest.append(0)\n",
    "#             if i % nback == 0 and i > 0:\n",
    "#                 count1notest.append(np.sum(temp1[:i]==0))\n",
    "#                 count2notest.append(np.sum(temp1[:i]==1))\n",
    "\n",
    "#         count1plustest=[]\n",
    "#         count2plustest=[]\n",
    "#         temp1=thisLabels\n",
    "#         n=nback+1\n",
    "#         for i in range(len(temp1)):\n",
    "#             if i == 0:\n",
    "#                 count1plustest.append(0)\n",
    "#                 count2plustest.append(0)\n",
    "#             if i % n == 0 and i > 0: \n",
    "#                 count1plustest.append(np.sum(temp1[:i]==0))\n",
    "#                 count2plustest.append(np.sum(temp1[:i]==1))            \n",
    "\n",
    "#         cumsumdiffnotest=np.array(count1notest)-np.array(count2notest)\n",
    "#         cumsumdifftest=np.array(count1plustest)-np.array(count2plustest)    \n",
    "\n",
    "#         df=pd.DataFrame({'Class':np.array(targetClass),'Order':classOrder,'Trial':trial,\n",
    "#                          'Accuracy':temp,'C1NoTest':count1notest,\n",
    "#                          'C2NoTest':count2notest,'CountDiff':np.array(c2count)-np.array(c1count),\n",
    "#                          'C1+Test':count1plustest,'C2+Test':count2plustest,'C1C1C1count':c1c1c1notest[1:],\n",
    "#                          'C1C1C2count':c1c1c2notest[1:],'C1C2C2count':c1c2c2notest[1:],'C1C2C1count':c1c2c1notest[1:],\n",
    "#                          'C2C2C2count':c2c2c2notest[1:],'C2C2C1count':c2c2c1notest[1:],'C2C1C1count':c2c1c1notest[1:],\n",
    "#                          'C2C1C2count':c2c1c2notest[1:]\n",
    "#                         })\n",
    "    \n",
    "    \n",
    "    counts=[]\n",
    "    for i in range(len(df)):\n",
    "        counts.append(i)\n",
    "        \n",
    "    d = {'OrderVal':counts,'Train Time Start':((np.array(counts)+1)*numDT*3)-numDT*3,\n",
    "                     'Train Time End':((np.array(counts)+1)*numDT*3)-numDT-1,\n",
    "                     'Test Time Start':(np.array(counts)+1)*numDT*3-numDT,\n",
    "                     'Test Time End':(np.array(counts)+1)*numDT*3-1,}\n",
    "    df = df.join(pd.DataFrame(d, index=df.index))\n",
    "    \n",
    "#     if trial == 0:\n",
    "#         newdf=df\n",
    "#     else:\n",
    "#         newdf=newdf.append(df)\n",
    "#     newdf.index=range(len(newdf))"
   ]
  },
  {
   "cell_type": "code",
   "execution_count": 221,
   "metadata": {
    "scrolled": false
   },
   "outputs": [
    {
     "data": {
      "text/html": [
       "<div>\n",
       "<style scoped>\n",
       "    .dataframe tbody tr th:only-of-type {\n",
       "        vertical-align: middle;\n",
       "    }\n",
       "\n",
       "    .dataframe tbody tr th {\n",
       "        vertical-align: top;\n",
       "    }\n",
       "\n",
       "    .dataframe thead th {\n",
       "        text-align: right;\n",
       "    }\n",
       "</style>\n",
       "<table border=\"1\" class=\"dataframe\">\n",
       "  <thead>\n",
       "    <tr style=\"text-align: right;\">\n",
       "      <th></th>\n",
       "      <th>Class</th>\n",
       "      <th>Order</th>\n",
       "      <th>Trial</th>\n",
       "      <th>Accuracy</th>\n",
       "      <th>C1NoTest</th>\n",
       "      <th>C2NoTest</th>\n",
       "      <th>CountDiff</th>\n",
       "      <th>C1+Test</th>\n",
       "      <th>C2+Test</th>\n",
       "      <th>C1C1count</th>\n",
       "      <th>C1C2count</th>\n",
       "      <th>C2C1count</th>\n",
       "      <th>C2C2count</th>\n",
       "      <th>OrderVal</th>\n",
       "      <th>Train Time Start</th>\n",
       "      <th>Train Time End</th>\n",
       "      <th>Test Time Start</th>\n",
       "      <th>Test Time End</th>\n",
       "    </tr>\n",
       "  </thead>\n",
       "  <tbody>\n",
       "    <tr>\n",
       "      <th>0</th>\n",
       "      <td>2</td>\n",
       "      <td>c2-c2</td>\n",
       "      <td>79</td>\n",
       "      <td>1.00</td>\n",
       "      <td>0</td>\n",
       "      <td>0</td>\n",
       "      <td>1</td>\n",
       "      <td>0</td>\n",
       "      <td>0</td>\n",
       "      <td>0</td>\n",
       "      <td>0</td>\n",
       "      <td>0</td>\n",
       "      <td>1</td>\n",
       "      <td>0</td>\n",
       "      <td>0</td>\n",
       "      <td>199</td>\n",
       "      <td>200</td>\n",
       "      <td>299</td>\n",
       "    </tr>\n",
       "    <tr>\n",
       "      <th>1</th>\n",
       "      <td>2</td>\n",
       "      <td>c2-c1</td>\n",
       "      <td>79</td>\n",
       "      <td>1.00</td>\n",
       "      <td>0</td>\n",
       "      <td>2</td>\n",
       "      <td>2</td>\n",
       "      <td>0</td>\n",
       "      <td>3</td>\n",
       "      <td>0</td>\n",
       "      <td>0</td>\n",
       "      <td>1</td>\n",
       "      <td>1</td>\n",
       "      <td>1</td>\n",
       "      <td>300</td>\n",
       "      <td>499</td>\n",
       "      <td>500</td>\n",
       "      <td>599</td>\n",
       "    </tr>\n",
       "    <tr>\n",
       "      <th>2</th>\n",
       "      <td>1</td>\n",
       "      <td>c1-c1</td>\n",
       "      <td>79</td>\n",
       "      <td>1.00</td>\n",
       "      <td>1</td>\n",
       "      <td>3</td>\n",
       "      <td>1</td>\n",
       "      <td>1</td>\n",
       "      <td>5</td>\n",
       "      <td>1</td>\n",
       "      <td>0</td>\n",
       "      <td>1</td>\n",
       "      <td>1</td>\n",
       "      <td>2</td>\n",
       "      <td>600</td>\n",
       "      <td>799</td>\n",
       "      <td>800</td>\n",
       "      <td>899</td>\n",
       "    </tr>\n",
       "    <tr>\n",
       "      <th>3</th>\n",
       "      <td>2</td>\n",
       "      <td>c2-c1</td>\n",
       "      <td>79</td>\n",
       "      <td>1.00</td>\n",
       "      <td>3</td>\n",
       "      <td>3</td>\n",
       "      <td>2</td>\n",
       "      <td>4</td>\n",
       "      <td>5</td>\n",
       "      <td>1</td>\n",
       "      <td>0</td>\n",
       "      <td>2</td>\n",
       "      <td>1</td>\n",
       "      <td>3</td>\n",
       "      <td>900</td>\n",
       "      <td>1099</td>\n",
       "      <td>1100</td>\n",
       "      <td>1199</td>\n",
       "    </tr>\n",
       "    <tr>\n",
       "      <th>4</th>\n",
       "      <td>2</td>\n",
       "      <td>c2-c2</td>\n",
       "      <td>79</td>\n",
       "      <td>1.00</td>\n",
       "      <td>4</td>\n",
       "      <td>4</td>\n",
       "      <td>3</td>\n",
       "      <td>5</td>\n",
       "      <td>7</td>\n",
       "      <td>1</td>\n",
       "      <td>0</td>\n",
       "      <td>2</td>\n",
       "      <td>2</td>\n",
       "      <td>4</td>\n",
       "      <td>1200</td>\n",
       "      <td>1399</td>\n",
       "      <td>1400</td>\n",
       "      <td>1499</td>\n",
       "    </tr>\n",
       "    <tr>\n",
       "      <th>5</th>\n",
       "      <td>1</td>\n",
       "      <td>c1-c1</td>\n",
       "      <td>79</td>\n",
       "      <td>1.00</td>\n",
       "      <td>4</td>\n",
       "      <td>6</td>\n",
       "      <td>2</td>\n",
       "      <td>5</td>\n",
       "      <td>10</td>\n",
       "      <td>2</td>\n",
       "      <td>0</td>\n",
       "      <td>2</td>\n",
       "      <td>2</td>\n",
       "      <td>5</td>\n",
       "      <td>1500</td>\n",
       "      <td>1699</td>\n",
       "      <td>1700</td>\n",
       "      <td>1799</td>\n",
       "    </tr>\n",
       "    <tr>\n",
       "      <th>6</th>\n",
       "      <td>1</td>\n",
       "      <td>c1-c2</td>\n",
       "      <td>79</td>\n",
       "      <td>1.00</td>\n",
       "      <td>6</td>\n",
       "      <td>6</td>\n",
       "      <td>1</td>\n",
       "      <td>8</td>\n",
       "      <td>10</td>\n",
       "      <td>2</td>\n",
       "      <td>1</td>\n",
       "      <td>2</td>\n",
       "      <td>2</td>\n",
       "      <td>6</td>\n",
       "      <td>1800</td>\n",
       "      <td>1999</td>\n",
       "      <td>2000</td>\n",
       "      <td>2099</td>\n",
       "    </tr>\n",
       "    <tr>\n",
       "      <th>7</th>\n",
       "      <td>2</td>\n",
       "      <td>c2-c2</td>\n",
       "      <td>79</td>\n",
       "      <td>1.00</td>\n",
       "      <td>7</td>\n",
       "      <td>7</td>\n",
       "      <td>2</td>\n",
       "      <td>10</td>\n",
       "      <td>11</td>\n",
       "      <td>2</td>\n",
       "      <td>1</td>\n",
       "      <td>2</td>\n",
       "      <td>3</td>\n",
       "      <td>7</td>\n",
       "      <td>2100</td>\n",
       "      <td>2299</td>\n",
       "      <td>2300</td>\n",
       "      <td>2399</td>\n",
       "    </tr>\n",
       "    <tr>\n",
       "      <th>8</th>\n",
       "      <td>1</td>\n",
       "      <td>c1-c1</td>\n",
       "      <td>79</td>\n",
       "      <td>1.00</td>\n",
       "      <td>7</td>\n",
       "      <td>9</td>\n",
       "      <td>1</td>\n",
       "      <td>10</td>\n",
       "      <td>14</td>\n",
       "      <td>3</td>\n",
       "      <td>1</td>\n",
       "      <td>2</td>\n",
       "      <td>3</td>\n",
       "      <td>8</td>\n",
       "      <td>2400</td>\n",
       "      <td>2599</td>\n",
       "      <td>2600</td>\n",
       "      <td>2699</td>\n",
       "    </tr>\n",
       "    <tr>\n",
       "      <th>9</th>\n",
       "      <td>2</td>\n",
       "      <td>c2-c1</td>\n",
       "      <td>79</td>\n",
       "      <td>1.00</td>\n",
       "      <td>9</td>\n",
       "      <td>9</td>\n",
       "      <td>2</td>\n",
       "      <td>13</td>\n",
       "      <td>14</td>\n",
       "      <td>3</td>\n",
       "      <td>1</td>\n",
       "      <td>3</td>\n",
       "      <td>3</td>\n",
       "      <td>9</td>\n",
       "      <td>2700</td>\n",
       "      <td>2899</td>\n",
       "      <td>2900</td>\n",
       "      <td>2999</td>\n",
       "    </tr>\n",
       "    <tr>\n",
       "      <th>10</th>\n",
       "      <td>1</td>\n",
       "      <td>c1-c2</td>\n",
       "      <td>79</td>\n",
       "      <td>1.00</td>\n",
       "      <td>10</td>\n",
       "      <td>10</td>\n",
       "      <td>1</td>\n",
       "      <td>14</td>\n",
       "      <td>16</td>\n",
       "      <td>3</td>\n",
       "      <td>2</td>\n",
       "      <td>3</td>\n",
       "      <td>3</td>\n",
       "      <td>10</td>\n",
       "      <td>3000</td>\n",
       "      <td>3199</td>\n",
       "      <td>3200</td>\n",
       "      <td>3299</td>\n",
       "    </tr>\n",
       "    <tr>\n",
       "      <th>11</th>\n",
       "      <td>2</td>\n",
       "      <td>c2-c2</td>\n",
       "      <td>79</td>\n",
       "      <td>1.00</td>\n",
       "      <td>11</td>\n",
       "      <td>11</td>\n",
       "      <td>2</td>\n",
       "      <td>16</td>\n",
       "      <td>17</td>\n",
       "      <td>3</td>\n",
       "      <td>2</td>\n",
       "      <td>3</td>\n",
       "      <td>4</td>\n",
       "      <td>11</td>\n",
       "      <td>3300</td>\n",
       "      <td>3499</td>\n",
       "      <td>3500</td>\n",
       "      <td>3599</td>\n",
       "    </tr>\n",
       "    <tr>\n",
       "      <th>12</th>\n",
       "      <td>1</td>\n",
       "      <td>c1-c1</td>\n",
       "      <td>79</td>\n",
       "      <td>1.00</td>\n",
       "      <td>11</td>\n",
       "      <td>13</td>\n",
       "      <td>1</td>\n",
       "      <td>16</td>\n",
       "      <td>20</td>\n",
       "      <td>4</td>\n",
       "      <td>2</td>\n",
       "      <td>3</td>\n",
       "      <td>4</td>\n",
       "      <td>12</td>\n",
       "      <td>3600</td>\n",
       "      <td>3799</td>\n",
       "      <td>3800</td>\n",
       "      <td>3899</td>\n",
       "    </tr>\n",
       "    <tr>\n",
       "      <th>13</th>\n",
       "      <td>1</td>\n",
       "      <td>c1-c1</td>\n",
       "      <td>79</td>\n",
       "      <td>1.00</td>\n",
       "      <td>13</td>\n",
       "      <td>13</td>\n",
       "      <td>0</td>\n",
       "      <td>19</td>\n",
       "      <td>20</td>\n",
       "      <td>5</td>\n",
       "      <td>2</td>\n",
       "      <td>3</td>\n",
       "      <td>4</td>\n",
       "      <td>13</td>\n",
       "      <td>3900</td>\n",
       "      <td>4099</td>\n",
       "      <td>4100</td>\n",
       "      <td>4199</td>\n",
       "    </tr>\n",
       "    <tr>\n",
       "      <th>14</th>\n",
       "      <td>1</td>\n",
       "      <td>c1-c2</td>\n",
       "      <td>79</td>\n",
       "      <td>1.00</td>\n",
       "      <td>15</td>\n",
       "      <td>13</td>\n",
       "      <td>-1</td>\n",
       "      <td>22</td>\n",
       "      <td>20</td>\n",
       "      <td>5</td>\n",
       "      <td>3</td>\n",
       "      <td>3</td>\n",
       "      <td>4</td>\n",
       "      <td>14</td>\n",
       "      <td>4200</td>\n",
       "      <td>4399</td>\n",
       "      <td>4400</td>\n",
       "      <td>4499</td>\n",
       "    </tr>\n",
       "    <tr>\n",
       "      <th>15</th>\n",
       "      <td>2</td>\n",
       "      <td>c2-c2</td>\n",
       "      <td>79</td>\n",
       "      <td>1.00</td>\n",
       "      <td>16</td>\n",
       "      <td>14</td>\n",
       "      <td>0</td>\n",
       "      <td>24</td>\n",
       "      <td>21</td>\n",
       "      <td>5</td>\n",
       "      <td>3</td>\n",
       "      <td>3</td>\n",
       "      <td>5</td>\n",
       "      <td>15</td>\n",
       "      <td>4500</td>\n",
       "      <td>4699</td>\n",
       "      <td>4700</td>\n",
       "      <td>4799</td>\n",
       "    </tr>\n",
       "    <tr>\n",
       "      <th>16</th>\n",
       "      <td>1</td>\n",
       "      <td>c1-c1</td>\n",
       "      <td>79</td>\n",
       "      <td>1.00</td>\n",
       "      <td>16</td>\n",
       "      <td>16</td>\n",
       "      <td>-1</td>\n",
       "      <td>24</td>\n",
       "      <td>24</td>\n",
       "      <td>6</td>\n",
       "      <td>3</td>\n",
       "      <td>3</td>\n",
       "      <td>5</td>\n",
       "      <td>16</td>\n",
       "      <td>4800</td>\n",
       "      <td>4999</td>\n",
       "      <td>5000</td>\n",
       "      <td>5099</td>\n",
       "    </tr>\n",
       "    <tr>\n",
       "      <th>17</th>\n",
       "      <td>2</td>\n",
       "      <td>c2-c2</td>\n",
       "      <td>79</td>\n",
       "      <td>1.00</td>\n",
       "      <td>18</td>\n",
       "      <td>16</td>\n",
       "      <td>0</td>\n",
       "      <td>27</td>\n",
       "      <td>24</td>\n",
       "      <td>6</td>\n",
       "      <td>3</td>\n",
       "      <td>3</td>\n",
       "      <td>6</td>\n",
       "      <td>17</td>\n",
       "      <td>5100</td>\n",
       "      <td>5299</td>\n",
       "      <td>5300</td>\n",
       "      <td>5399</td>\n",
       "    </tr>\n",
       "    <tr>\n",
       "      <th>18</th>\n",
       "      <td>1</td>\n",
       "      <td>c1-c2</td>\n",
       "      <td>79</td>\n",
       "      <td>0.38</td>\n",
       "      <td>18</td>\n",
       "      <td>18</td>\n",
       "      <td>-1</td>\n",
       "      <td>27</td>\n",
       "      <td>27</td>\n",
       "      <td>6</td>\n",
       "      <td>4</td>\n",
       "      <td>3</td>\n",
       "      <td>6</td>\n",
       "      <td>18</td>\n",
       "      <td>5400</td>\n",
       "      <td>5599</td>\n",
       "      <td>5600</td>\n",
       "      <td>5699</td>\n",
       "    </tr>\n",
       "    <tr>\n",
       "      <th>19</th>\n",
       "      <td>2</td>\n",
       "      <td>c2-c1</td>\n",
       "      <td>79</td>\n",
       "      <td>0.97</td>\n",
       "      <td>19</td>\n",
       "      <td>19</td>\n",
       "      <td>0</td>\n",
       "      <td>29</td>\n",
       "      <td>28</td>\n",
       "      <td>6</td>\n",
       "      <td>4</td>\n",
       "      <td>4</td>\n",
       "      <td>6</td>\n",
       "      <td>19</td>\n",
       "      <td>5700</td>\n",
       "      <td>5899</td>\n",
       "      <td>5900</td>\n",
       "      <td>5999</td>\n",
       "    </tr>\n",
       "    <tr>\n",
       "      <th>20</th>\n",
       "      <td>1</td>\n",
       "      <td>c1-c2</td>\n",
       "      <td>79</td>\n",
       "      <td>1.00</td>\n",
       "      <td>20</td>\n",
       "      <td>20</td>\n",
       "      <td>-1</td>\n",
       "      <td>30</td>\n",
       "      <td>30</td>\n",
       "      <td>6</td>\n",
       "      <td>5</td>\n",
       "      <td>4</td>\n",
       "      <td>6</td>\n",
       "      <td>20</td>\n",
       "      <td>6000</td>\n",
       "      <td>6199</td>\n",
       "      <td>6200</td>\n",
       "      <td>6299</td>\n",
       "    </tr>\n",
       "    <tr>\n",
       "      <th>21</th>\n",
       "      <td>2</td>\n",
       "      <td>c2-c1</td>\n",
       "      <td>79</td>\n",
       "      <td>1.00</td>\n",
       "      <td>21</td>\n",
       "      <td>21</td>\n",
       "      <td>0</td>\n",
       "      <td>32</td>\n",
       "      <td>31</td>\n",
       "      <td>6</td>\n",
       "      <td>5</td>\n",
       "      <td>5</td>\n",
       "      <td>6</td>\n",
       "      <td>21</td>\n",
       "      <td>6300</td>\n",
       "      <td>6499</td>\n",
       "      <td>6500</td>\n",
       "      <td>6599</td>\n",
       "    </tr>\n",
       "    <tr>\n",
       "      <th>22</th>\n",
       "      <td>1</td>\n",
       "      <td>c1-c1</td>\n",
       "      <td>79</td>\n",
       "      <td>1.00</td>\n",
       "      <td>22</td>\n",
       "      <td>22</td>\n",
       "      <td>-1</td>\n",
       "      <td>33</td>\n",
       "      <td>33</td>\n",
       "      <td>7</td>\n",
       "      <td>5</td>\n",
       "      <td>5</td>\n",
       "      <td>6</td>\n",
       "      <td>22</td>\n",
       "      <td>6600</td>\n",
       "      <td>6799</td>\n",
       "      <td>6800</td>\n",
       "      <td>6899</td>\n",
       "    </tr>\n",
       "    <tr>\n",
       "      <th>23</th>\n",
       "      <td>2</td>\n",
       "      <td>c2-c1</td>\n",
       "      <td>79</td>\n",
       "      <td>0.93</td>\n",
       "      <td>24</td>\n",
       "      <td>22</td>\n",
       "      <td>0</td>\n",
       "      <td>36</td>\n",
       "      <td>33</td>\n",
       "      <td>7</td>\n",
       "      <td>5</td>\n",
       "      <td>6</td>\n",
       "      <td>6</td>\n",
       "      <td>23</td>\n",
       "      <td>6900</td>\n",
       "      <td>7099</td>\n",
       "      <td>7100</td>\n",
       "      <td>7199</td>\n",
       "    </tr>\n",
       "    <tr>\n",
       "      <th>24</th>\n",
       "      <td>1</td>\n",
       "      <td>c1-c2</td>\n",
       "      <td>79</td>\n",
       "      <td>1.00</td>\n",
       "      <td>25</td>\n",
       "      <td>23</td>\n",
       "      <td>-1</td>\n",
       "      <td>37</td>\n",
       "      <td>35</td>\n",
       "      <td>7</td>\n",
       "      <td>6</td>\n",
       "      <td>6</td>\n",
       "      <td>6</td>\n",
       "      <td>24</td>\n",
       "      <td>7200</td>\n",
       "      <td>7399</td>\n",
       "      <td>7400</td>\n",
       "      <td>7499</td>\n",
       "    </tr>\n",
       "    <tr>\n",
       "      <th>25</th>\n",
       "      <td>2</td>\n",
       "      <td>c2-c1</td>\n",
       "      <td>79</td>\n",
       "      <td>1.00</td>\n",
       "      <td>26</td>\n",
       "      <td>24</td>\n",
       "      <td>0</td>\n",
       "      <td>39</td>\n",
       "      <td>36</td>\n",
       "      <td>7</td>\n",
       "      <td>6</td>\n",
       "      <td>7</td>\n",
       "      <td>6</td>\n",
       "      <td>25</td>\n",
       "      <td>7500</td>\n",
       "      <td>7699</td>\n",
       "      <td>7700</td>\n",
       "      <td>7799</td>\n",
       "    </tr>\n",
       "    <tr>\n",
       "      <th>26</th>\n",
       "      <td>2</td>\n",
       "      <td>c2-c1</td>\n",
       "      <td>79</td>\n",
       "      <td>1.00</td>\n",
       "      <td>27</td>\n",
       "      <td>25</td>\n",
       "      <td>1</td>\n",
       "      <td>40</td>\n",
       "      <td>38</td>\n",
       "      <td>7</td>\n",
       "      <td>6</td>\n",
       "      <td>8</td>\n",
       "      <td>6</td>\n",
       "      <td>26</td>\n",
       "      <td>7800</td>\n",
       "      <td>7999</td>\n",
       "      <td>8000</td>\n",
       "      <td>8099</td>\n",
       "    </tr>\n",
       "    <tr>\n",
       "      <th>27</th>\n",
       "      <td>1</td>\n",
       "      <td>c1-c2</td>\n",
       "      <td>79</td>\n",
       "      <td>1.00</td>\n",
       "      <td>28</td>\n",
       "      <td>26</td>\n",
       "      <td>0</td>\n",
       "      <td>41</td>\n",
       "      <td>40</td>\n",
       "      <td>7</td>\n",
       "      <td>7</td>\n",
       "      <td>8</td>\n",
       "      <td>6</td>\n",
       "      <td>27</td>\n",
       "      <td>8100</td>\n",
       "      <td>8299</td>\n",
       "      <td>8300</td>\n",
       "      <td>8399</td>\n",
       "    </tr>\n",
       "    <tr>\n",
       "      <th>28</th>\n",
       "      <td>2</td>\n",
       "      <td>c2-c2</td>\n",
       "      <td>79</td>\n",
       "      <td>1.00</td>\n",
       "      <td>29</td>\n",
       "      <td>27</td>\n",
       "      <td>1</td>\n",
       "      <td>43</td>\n",
       "      <td>41</td>\n",
       "      <td>7</td>\n",
       "      <td>7</td>\n",
       "      <td>8</td>\n",
       "      <td>7</td>\n",
       "      <td>28</td>\n",
       "      <td>8400</td>\n",
       "      <td>8599</td>\n",
       "      <td>8600</td>\n",
       "      <td>8699</td>\n",
       "    </tr>\n",
       "    <tr>\n",
       "      <th>29</th>\n",
       "      <td>1</td>\n",
       "      <td>c1-c1</td>\n",
       "      <td>79</td>\n",
       "      <td>1.00</td>\n",
       "      <td>29</td>\n",
       "      <td>29</td>\n",
       "      <td>0</td>\n",
       "      <td>43</td>\n",
       "      <td>44</td>\n",
       "      <td>8</td>\n",
       "      <td>7</td>\n",
       "      <td>8</td>\n",
       "      <td>7</td>\n",
       "      <td>29</td>\n",
       "      <td>8700</td>\n",
       "      <td>8899</td>\n",
       "      <td>8900</td>\n",
       "      <td>8999</td>\n",
       "    </tr>\n",
       "    <tr>\n",
       "      <th>30</th>\n",
       "      <td>2</td>\n",
       "      <td>c2-c1</td>\n",
       "      <td>79</td>\n",
       "      <td>0.99</td>\n",
       "      <td>31</td>\n",
       "      <td>29</td>\n",
       "      <td>1</td>\n",
       "      <td>46</td>\n",
       "      <td>44</td>\n",
       "      <td>8</td>\n",
       "      <td>7</td>\n",
       "      <td>9</td>\n",
       "      <td>7</td>\n",
       "      <td>30</td>\n",
       "      <td>9000</td>\n",
       "      <td>9199</td>\n",
       "      <td>9200</td>\n",
       "      <td>9299</td>\n",
       "    </tr>\n",
       "    <tr>\n",
       "      <th>31</th>\n",
       "      <td>2</td>\n",
       "      <td>c2-c2</td>\n",
       "      <td>79</td>\n",
       "      <td>1.00</td>\n",
       "      <td>32</td>\n",
       "      <td>30</td>\n",
       "      <td>2</td>\n",
       "      <td>47</td>\n",
       "      <td>46</td>\n",
       "      <td>8</td>\n",
       "      <td>7</td>\n",
       "      <td>9</td>\n",
       "      <td>8</td>\n",
       "      <td>31</td>\n",
       "      <td>9300</td>\n",
       "      <td>9499</td>\n",
       "      <td>9500</td>\n",
       "      <td>9599</td>\n",
       "    </tr>\n",
       "    <tr>\n",
       "      <th>32</th>\n",
       "      <td>1</td>\n",
       "      <td>c1-c1</td>\n",
       "      <td>79</td>\n",
       "      <td>1.00</td>\n",
       "      <td>32</td>\n",
       "      <td>32</td>\n",
       "      <td>1</td>\n",
       "      <td>47</td>\n",
       "      <td>49</td>\n",
       "      <td>9</td>\n",
       "      <td>7</td>\n",
       "      <td>9</td>\n",
       "      <td>8</td>\n",
       "      <td>32</td>\n",
       "      <td>9600</td>\n",
       "      <td>9799</td>\n",
       "      <td>9800</td>\n",
       "      <td>9899</td>\n",
       "    </tr>\n",
       "    <tr>\n",
       "      <th>33</th>\n",
       "      <td>1</td>\n",
       "      <td>c1-c2</td>\n",
       "      <td>79</td>\n",
       "      <td>1.00</td>\n",
       "      <td>34</td>\n",
       "      <td>32</td>\n",
       "      <td>0</td>\n",
       "      <td>50</td>\n",
       "      <td>49</td>\n",
       "      <td>9</td>\n",
       "      <td>8</td>\n",
       "      <td>9</td>\n",
       "      <td>8</td>\n",
       "      <td>33</td>\n",
       "      <td>9900</td>\n",
       "      <td>10099</td>\n",
       "      <td>10100</td>\n",
       "      <td>10199</td>\n",
       "    </tr>\n",
       "    <tr>\n",
       "      <th>34</th>\n",
       "      <td>1</td>\n",
       "      <td>c1-c2</td>\n",
       "      <td>79</td>\n",
       "      <td>1.00</td>\n",
       "      <td>35</td>\n",
       "      <td>33</td>\n",
       "      <td>-1</td>\n",
       "      <td>52</td>\n",
       "      <td>50</td>\n",
       "      <td>9</td>\n",
       "      <td>9</td>\n",
       "      <td>9</td>\n",
       "      <td>8</td>\n",
       "      <td>34</td>\n",
       "      <td>10200</td>\n",
       "      <td>10399</td>\n",
       "      <td>10400</td>\n",
       "      <td>10499</td>\n",
       "    </tr>\n",
       "    <tr>\n",
       "      <th>35</th>\n",
       "      <td>2</td>\n",
       "      <td>c2-c1</td>\n",
       "      <td>79</td>\n",
       "      <td>1.00</td>\n",
       "      <td>36</td>\n",
       "      <td>34</td>\n",
       "      <td>0</td>\n",
       "      <td>54</td>\n",
       "      <td>51</td>\n",
       "      <td>9</td>\n",
       "      <td>9</td>\n",
       "      <td>10</td>\n",
       "      <td>8</td>\n",
       "      <td>35</td>\n",
       "      <td>10500</td>\n",
       "      <td>10699</td>\n",
       "      <td>10700</td>\n",
       "      <td>10799</td>\n",
       "    </tr>\n",
       "    <tr>\n",
       "      <th>36</th>\n",
       "      <td>2</td>\n",
       "      <td>c2-c1</td>\n",
       "      <td>79</td>\n",
       "      <td>1.00</td>\n",
       "      <td>37</td>\n",
       "      <td>35</td>\n",
       "      <td>1</td>\n",
       "      <td>55</td>\n",
       "      <td>53</td>\n",
       "      <td>9</td>\n",
       "      <td>9</td>\n",
       "      <td>11</td>\n",
       "      <td>8</td>\n",
       "      <td>36</td>\n",
       "      <td>10800</td>\n",
       "      <td>10999</td>\n",
       "      <td>11000</td>\n",
       "      <td>11099</td>\n",
       "    </tr>\n",
       "    <tr>\n",
       "      <th>37</th>\n",
       "      <td>2</td>\n",
       "      <td>c2-c2</td>\n",
       "      <td>79</td>\n",
       "      <td>1.00</td>\n",
       "      <td>38</td>\n",
       "      <td>36</td>\n",
       "      <td>2</td>\n",
       "      <td>56</td>\n",
       "      <td>55</td>\n",
       "      <td>9</td>\n",
       "      <td>9</td>\n",
       "      <td>11</td>\n",
       "      <td>9</td>\n",
       "      <td>37</td>\n",
       "      <td>11100</td>\n",
       "      <td>11299</td>\n",
       "      <td>11300</td>\n",
       "      <td>11399</td>\n",
       "    </tr>\n",
       "    <tr>\n",
       "      <th>38</th>\n",
       "      <td>2</td>\n",
       "      <td>c2-c1</td>\n",
       "      <td>79</td>\n",
       "      <td>0.00</td>\n",
       "      <td>38</td>\n",
       "      <td>38</td>\n",
       "      <td>3</td>\n",
       "      <td>56</td>\n",
       "      <td>58</td>\n",
       "      <td>9</td>\n",
       "      <td>9</td>\n",
       "      <td>12</td>\n",
       "      <td>9</td>\n",
       "      <td>38</td>\n",
       "      <td>11400</td>\n",
       "      <td>11599</td>\n",
       "      <td>11600</td>\n",
       "      <td>11699</td>\n",
       "    </tr>\n",
       "    <tr>\n",
       "      <th>39</th>\n",
       "      <td>1</td>\n",
       "      <td>c1-c2</td>\n",
       "      <td>79</td>\n",
       "      <td>NaN</td>\n",
       "      <td>39</td>\n",
       "      <td>39</td>\n",
       "      <td>2</td>\n",
       "      <td>57</td>\n",
       "      <td>60</td>\n",
       "      <td>9</td>\n",
       "      <td>10</td>\n",
       "      <td>12</td>\n",
       "      <td>9</td>\n",
       "      <td>39</td>\n",
       "      <td>11700</td>\n",
       "      <td>11899</td>\n",
       "      <td>11900</td>\n",
       "      <td>11999</td>\n",
       "    </tr>\n",
       "  </tbody>\n",
       "</table>\n",
       "</div>"
      ],
      "text/plain": [
       "    Class  Order  Trial  Accuracy  C1NoTest  C2NoTest  CountDiff  C1+Test  \\\n",
       "0       2  c2-c2     79      1.00         0         0          1        0   \n",
       "1       2  c2-c1     79      1.00         0         2          2        0   \n",
       "2       1  c1-c1     79      1.00         1         3          1        1   \n",
       "3       2  c2-c1     79      1.00         3         3          2        4   \n",
       "4       2  c2-c2     79      1.00         4         4          3        5   \n",
       "5       1  c1-c1     79      1.00         4         6          2        5   \n",
       "6       1  c1-c2     79      1.00         6         6          1        8   \n",
       "7       2  c2-c2     79      1.00         7         7          2       10   \n",
       "8       1  c1-c1     79      1.00         7         9          1       10   \n",
       "9       2  c2-c1     79      1.00         9         9          2       13   \n",
       "10      1  c1-c2     79      1.00        10        10          1       14   \n",
       "11      2  c2-c2     79      1.00        11        11          2       16   \n",
       "12      1  c1-c1     79      1.00        11        13          1       16   \n",
       "13      1  c1-c1     79      1.00        13        13          0       19   \n",
       "14      1  c1-c2     79      1.00        15        13         -1       22   \n",
       "15      2  c2-c2     79      1.00        16        14          0       24   \n",
       "16      1  c1-c1     79      1.00        16        16         -1       24   \n",
       "17      2  c2-c2     79      1.00        18        16          0       27   \n",
       "18      1  c1-c2     79      0.38        18        18         -1       27   \n",
       "19      2  c2-c1     79      0.97        19        19          0       29   \n",
       "20      1  c1-c2     79      1.00        20        20         -1       30   \n",
       "21      2  c2-c1     79      1.00        21        21          0       32   \n",
       "22      1  c1-c1     79      1.00        22        22         -1       33   \n",
       "23      2  c2-c1     79      0.93        24        22          0       36   \n",
       "24      1  c1-c2     79      1.00        25        23         -1       37   \n",
       "25      2  c2-c1     79      1.00        26        24          0       39   \n",
       "26      2  c2-c1     79      1.00        27        25          1       40   \n",
       "27      1  c1-c2     79      1.00        28        26          0       41   \n",
       "28      2  c2-c2     79      1.00        29        27          1       43   \n",
       "29      1  c1-c1     79      1.00        29        29          0       43   \n",
       "30      2  c2-c1     79      0.99        31        29          1       46   \n",
       "31      2  c2-c2     79      1.00        32        30          2       47   \n",
       "32      1  c1-c1     79      1.00        32        32          1       47   \n",
       "33      1  c1-c2     79      1.00        34        32          0       50   \n",
       "34      1  c1-c2     79      1.00        35        33         -1       52   \n",
       "35      2  c2-c1     79      1.00        36        34          0       54   \n",
       "36      2  c2-c1     79      1.00        37        35          1       55   \n",
       "37      2  c2-c2     79      1.00        38        36          2       56   \n",
       "38      2  c2-c1     79      0.00        38        38          3       56   \n",
       "39      1  c1-c2     79       NaN        39        39          2       57   \n",
       "\n",
       "    C2+Test  C1C1count  C1C2count  C2C1count  C2C2count  OrderVal  \\\n",
       "0         0          0          0          0          1         0   \n",
       "1         3          0          0          1          1         1   \n",
       "2         5          1          0          1          1         2   \n",
       "3         5          1          0          2          1         3   \n",
       "4         7          1          0          2          2         4   \n",
       "5        10          2          0          2          2         5   \n",
       "6        10          2          1          2          2         6   \n",
       "7        11          2          1          2          3         7   \n",
       "8        14          3          1          2          3         8   \n",
       "9        14          3          1          3          3         9   \n",
       "10       16          3          2          3          3        10   \n",
       "11       17          3          2          3          4        11   \n",
       "12       20          4          2          3          4        12   \n",
       "13       20          5          2          3          4        13   \n",
       "14       20          5          3          3          4        14   \n",
       "15       21          5          3          3          5        15   \n",
       "16       24          6          3          3          5        16   \n",
       "17       24          6          3          3          6        17   \n",
       "18       27          6          4          3          6        18   \n",
       "19       28          6          4          4          6        19   \n",
       "20       30          6          5          4          6        20   \n",
       "21       31          6          5          5          6        21   \n",
       "22       33          7          5          5          6        22   \n",
       "23       33          7          5          6          6        23   \n",
       "24       35          7          6          6          6        24   \n",
       "25       36          7          6          7          6        25   \n",
       "26       38          7          6          8          6        26   \n",
       "27       40          7          7          8          6        27   \n",
       "28       41          7          7          8          7        28   \n",
       "29       44          8          7          8          7        29   \n",
       "30       44          8          7          9          7        30   \n",
       "31       46          8          7          9          8        31   \n",
       "32       49          9          7          9          8        32   \n",
       "33       49          9          8          9          8        33   \n",
       "34       50          9          9          9          8        34   \n",
       "35       51          9          9         10          8        35   \n",
       "36       53          9          9         11          8        36   \n",
       "37       55          9          9         11          9        37   \n",
       "38       58          9          9         12          9        38   \n",
       "39       60          9         10         12          9        39   \n",
       "\n",
       "    Train Time Start  Train Time End  Test Time Start  Test Time End  \n",
       "0                  0             199              200            299  \n",
       "1                300             499              500            599  \n",
       "2                600             799              800            899  \n",
       "3                900            1099             1100           1199  \n",
       "4               1200            1399             1400           1499  \n",
       "5               1500            1699             1700           1799  \n",
       "6               1800            1999             2000           2099  \n",
       "7               2100            2299             2300           2399  \n",
       "8               2400            2599             2600           2699  \n",
       "9               2700            2899             2900           2999  \n",
       "10              3000            3199             3200           3299  \n",
       "11              3300            3499             3500           3599  \n",
       "12              3600            3799             3800           3899  \n",
       "13              3900            4099             4100           4199  \n",
       "14              4200            4399             4400           4499  \n",
       "15              4500            4699             4700           4799  \n",
       "16              4800            4999             5000           5099  \n",
       "17              5100            5299             5300           5399  \n",
       "18              5400            5599             5600           5699  \n",
       "19              5700            5899             5900           5999  \n",
       "20              6000            6199             6200           6299  \n",
       "21              6300            6499             6500           6599  \n",
       "22              6600            6799             6800           6899  \n",
       "23              6900            7099             7100           7199  \n",
       "24              7200            7399             7400           7499  \n",
       "25              7500            7699             7700           7799  \n",
       "26              7800            7999             8000           8099  \n",
       "27              8100            8299             8300           8399  \n",
       "28              8400            8599             8600           8699  \n",
       "29              8700            8899             8900           8999  \n",
       "30              9000            9199             9200           9299  \n",
       "31              9300            9499             9500           9599  \n",
       "32              9600            9799             9800           9899  \n",
       "33              9900           10099            10100          10199  \n",
       "34             10200           10399            10400          10499  \n",
       "35             10500           10699            10700          10799  \n",
       "36             10800           10999            11000          11099  \n",
       "37             11100           11299            11300          11399  \n",
       "38             11400           11599            11600          11699  \n",
       "39             11700           11899            11900          11999  "
      ]
     },
     "execution_count": 221,
     "metadata": {},
     "output_type": "execute_result"
    }
   ],
   "source": [
    "df"
   ]
  },
  {
   "cell_type": "code",
   "execution_count": 222,
   "metadata": {},
   "outputs": [],
   "source": [
    "# # #Save data for loading:\n",
    "# with open(dataLoc+'data_350nw_1350nj_reinforcement_2x2_wLimThreshold_wAccThreshold.pkl', 'wb') as f:\n",
    "#     pickle.dump(df, f)   \n",
    "# # #Save data for GLMFIT and Functional Analysis:\n",
    "# # savemat(dataLoc+'nback'+str(nback)+'_vt_target_350nw_1350nj_reinforcement_nback2.mat',{'Data':{'EdgeVoltage':vtj,'EdgeConductance':gtj,'EdgeCurrent':ctj,'NodeVoltage':vt,'Target':tar}})"
   ]
  },
  {
   "cell_type": "code",
   "execution_count": 223,
   "metadata": {},
   "outputs": [],
   "source": [
    "dfAccuracy = df.groupby('Order').agg([np.mean,np.std])\n",
    "dfAccuracy= dfAccuracy['Accuracy']"
   ]
  },
  {
   "cell_type": "code",
   "execution_count": 224,
   "metadata": {
    "scrolled": true
   },
   "outputs": [
    {
     "data": {
      "text/html": [
       "<div>\n",
       "<style scoped>\n",
       "    .dataframe tbody tr th:only-of-type {\n",
       "        vertical-align: middle;\n",
       "    }\n",
       "\n",
       "    .dataframe tbody tr th {\n",
       "        vertical-align: top;\n",
       "    }\n",
       "\n",
       "    .dataframe thead th {\n",
       "        text-align: right;\n",
       "    }\n",
       "</style>\n",
       "<table border=\"1\" class=\"dataframe\">\n",
       "  <thead>\n",
       "    <tr style=\"text-align: right;\">\n",
       "      <th></th>\n",
       "      <th>mean</th>\n",
       "      <th>std</th>\n",
       "    </tr>\n",
       "    <tr>\n",
       "      <th>Order</th>\n",
       "      <th></th>\n",
       "      <th></th>\n",
       "    </tr>\n",
       "  </thead>\n",
       "  <tbody>\n",
       "    <tr>\n",
       "      <th>c1-c1</th>\n",
       "      <td>1.000000</td>\n",
       "      <td>0.000000</td>\n",
       "    </tr>\n",
       "    <tr>\n",
       "      <th>c1-c2</th>\n",
       "      <td>0.931111</td>\n",
       "      <td>0.206667</td>\n",
       "    </tr>\n",
       "    <tr>\n",
       "      <th>c2-c1</th>\n",
       "      <td>0.907500</td>\n",
       "      <td>0.286551</td>\n",
       "    </tr>\n",
       "    <tr>\n",
       "      <th>c2-c2</th>\n",
       "      <td>1.000000</td>\n",
       "      <td>0.000000</td>\n",
       "    </tr>\n",
       "  </tbody>\n",
       "</table>\n",
       "</div>"
      ],
      "text/plain": [
       "           mean       std\n",
       "Order                    \n",
       "c1-c1  1.000000  0.000000\n",
       "c1-c2  0.931111  0.206667\n",
       "c2-c1  0.907500  0.286551\n",
       "c2-c2  1.000000  0.000000"
      ]
     },
     "execution_count": 224,
     "metadata": {},
     "output_type": "execute_result"
    }
   ],
   "source": [
    "dfAccuracy"
   ]
  },
  {
   "cell_type": "code",
   "execution_count": 225,
   "metadata": {},
   "outputs": [],
   "source": [
    "targetsNew=[]\n",
    "for t in alltargets:\n",
    "    targetsNew.append(int(t[0]))"
   ]
  },
  {
   "cell_type": "code",
   "execution_count": 226,
   "metadata": {},
   "outputs": [
    {
     "data": {
      "text/plain": [
       "119"
      ]
     },
     "execution_count": 226,
     "metadata": {},
     "output_type": "execute_result"
    }
   ],
   "source": [
    "len(targetsNew)"
   ]
  },
  {
   "cell_type": "code",
   "execution_count": 227,
   "metadata": {},
   "outputs": [],
   "source": [
    "sampleTimes=numDT*(nbacks[0]+1)"
   ]
  },
  {
   "cell_type": "code",
   "execution_count": 228,
   "metadata": {},
   "outputs": [
    {
     "data": {
      "text/plain": [
       "Text(0, 0.5, 'Accuracy')"
      ]
     },
     "execution_count": 228,
     "metadata": {},
     "output_type": "execute_result"
    },
    {
     "data": {
      "image/png": "[encoded data removed]",
      "text/plain": [
       "<Figure size 4500x2400 with 3 Axes>"
      ]
     },
     "metadata": {
      "needs_background": "light"
     },
     "output_type": "display_data"
    }
   ],
   "source": [
    "#Current Strength vs Accuracy:\n",
    "import seaborn as sns\n",
    "plt.rcParams['pdf.fonttype'] = 42\n",
    "\n",
    "\n",
    "fig,ax = plt.subplots(1,1, figsize=(15, 8), dpi=300)\n",
    "x=np.concatenate(drain1)\n",
    "p1=ax.plot(x,'b',alpha=0.5)\n",
    "p2=ax.plot(np.concatenate(drain2),'r',alpha=0.5)\n",
    "plt.legend([p1[0],p2[0]],['Drain 1','Drain 2'],loc='lower right',title='Current')\n",
    "\n",
    "\n",
    "if nback == 1:\n",
    "    xlimmax=830\n",
    "    vlinesStep=40\n",
    "    vlinesStart=30\n",
    "    dotpos=2\n",
    "\n",
    "if nback == 2:\n",
    "#     xlimmax=1230\n",
    "    vlinesStep=600\n",
    "    vlinesStart=500\n",
    "    dotpos=3\n",
    "elif nback == 3:\n",
    "    xlimmax=1630\n",
    "    vlinesStep=80\n",
    "    vlinesStart=70\n",
    "    dotpos=4\n",
    "    \n",
    "colrs=[]\n",
    "for val in targetsNew:\n",
    "    if val < 1:\n",
    "        colrs.append('C1')\n",
    "    else:\n",
    "        colrs.append('C2')    \n",
    "\n",
    "testColors=[]\n",
    "for i in colrs[::3]:\n",
    "    if i == 'C1':\n",
    "        testColors.append('b')\n",
    "    else:\n",
    "        testColors.append('r')\n",
    "        \n",
    "ax.set_xlabel('Time')\n",
    "ax.set_ylabel('Current')\n",
    "ax.set_xlim([-600,24400])\n",
    "\n",
    "ax.vlines(range(vlinesStart,len(x)-20,vlinesStep),np.min(x),np.max(x),linestyle='dashed',color=testColors,alpha=0.5)\n",
    "\n",
    "ax2=ax.twinx().twiny()\n",
    "ax2.scatter(list(range(3,120,3)),df['Accuracy'][:-1],c=testColors[:-1])\n",
    "ax2.set_ylim([-0.05,1.05])\n",
    "\n",
    "# ax2.set_xticklabels(np.array(range(0,121,20)))#np.round(np.array(range(vlinesStart,len(x)-20,vlinesStep))/39)-1)\n",
    "\n",
    "# testTimeVals=np.array(range(len(accuracy)))*dotpos+dotpos\n",
    "\n",
    "\n",
    "# ax2.scatter(x=range(vlinesStart,len(x)-20,vlinesStep),y=accuracy,c=testColors)\n",
    "\n",
    "ax2.set_xlabel('Sample Num')\n",
    "ax2.set_ylabel('Accuracy')\n",
    "# sns.scatterplot(x=testTimeVals,y='Accuracy',data=accuracy,hue=colrs[:-1],palette=['r','b'],ax=ax2)\n",
    "# ax2.legend(title='Accuracy',loc='lower left')\n",
    "# ax2.set_xlim([-20/20,(xlimmax+10)/20])\n",
    "# ax2.set_ylabel('Accuracy')\n",
    "\n",
    "# ax3=ax2.twinx()\n",
    "# p1=ax3.plot(testTimeVals[:-1],count1plustest[:-1],color='c',marker='x')\n",
    "# p2=ax3.plot(testTimeVals[:-1],count2plustest[:-1],color='m',marker='x')\n",
    "# ax3.set_xlim([-20/20,1240/20])\n",
    "\n",
    "# plt.vlines(range(3,testTimeVals.values[-1],3),0,1,linestyle='dashed',color='k',)\n",
    "# if patternSize==2:\n",
    "#     fig.savefig(saveFig+'350w_1350j_current_time_accuracy_nback2_2x2_reinforcement.pdf',format='pdf',dpi=300)\n",
    "# else:\n",
    "#     fig.savefig(saveFig+'350w_1350j_current_time_accuracy_nback2_3x3_manualsources_reinforcement.pdf',format='pdf',dpi=300)\n"
   ]
  },
  {
   "cell_type": "code",
   "execution_count": 231,
   "metadata": {
    "scrolled": true
   },
   "outputs": [
    {
     "data": {
      "text/plain": [
       "<matplotlib.legend.Legend at 0x7f51734341f0>"
      ]
     },
     "execution_count": 231,
     "metadata": {},
     "output_type": "execute_result"
    },
    {
     "data": {
      "image/png": "[encoded data removed]",
      "text/plain": [
       "<Figure size 1080x576 with 1 Axes>"
      ]
     },
     "metadata": {
      "needs_background": "light"
     },
     "output_type": "display_data"
    }
   ],
   "source": [
    "fig=plt.figure(figsize=(15,8))\n",
    "p1=plt.plot(np.array(thresholds)[:,0],c='b')\n",
    "p2=plt.plot(np.array(thresholds)[:,1],c='r')\n",
    "plt.xlabel('Samples')\n",
    "plt.ylabel('Voltage Threshold')\n",
    "plt.legend([p1[0],p2[0]],['Drain 1','Drain 2'],loc='lower right',title='Current')\n",
    "# if patternSize==2:\n",
    "#     fig.savefig(saveFig+'350w_1350j_current_time_accuracy_nback2_2x2_reinforcement_thresholdMultiplier.pdf',format='pdf',dpi=300)\n",
    "# else:\n",
    "#     fig.savefig(saveFig+'350w_1350j_current_time_accuracy_nback2_3x3_manualsources_reinforcement_thresholdMultiplier.pdf',format='pdf',dpi=300)\n"
   ]
  },
  {
   "cell_type": "code",
   "execution_count": 49,
   "metadata": {},
   "outputs": [
    {
     "data": {
      "image/png": "[encoded data removed]",
      "text/plain": [
       "<Figure size 1080x288 with 2 Axes>"
      ]
     },
     "metadata": {
      "needs_background": "light"
     },
     "output_type": "display_data"
    }
   ],
   "source": [
    "fig,ax=plt.subplots(1,figsize=(15,4))\n",
    "\n",
    "colrs=[]\n",
    "for val in df['Class']:\n",
    "    if val <= 1:\n",
    "        colrs.append('C1')\n",
    "    else:\n",
    "        colrs.append('C2')\n",
    "\n",
    "\n",
    "x=df['CountDiff']\n",
    "\n",
    "p1=ax.plot(range(len(x)),x,color='k')\n",
    "ax2=ax.twinx()\n",
    "\n",
    "sns.scatterplot(x='OrderVal',y='Accuracy',data=df,hue=colrs,palette=['r','b'],ax=ax2)\n",
    "ax.set_ylabel('C2 Count - C1 Count')\n",
    "\n",
    "z=df['OrderVal'].values\n",
    "y=df['Accuracy'].values\n",
    "for i, txt in enumerate(df['Order']):\n",
    "    ax2.annotate(txt, (z[i], y[i]))\n",
    "# p2=ax.plot(range(len(c1c2notest[1:])),c1c2notest[1:],color='b',marker='^')\n",
    "# ax.legend([p1[0],p2[0]],['C1-C1','C1-C2'],loc='best',title='CumCount')\n",
    "if patternSize==2:\n",
    "    fig.savefig(saveFig+'350w_1350j_classComparison_nback2_2x2_reinforcement.pdf',format='pdf',dpi=300)\n",
    "else:\n",
    "    fig.savefig(saveFig+'350w_1350j_classComparison_nback2_3x3_manualsources_reinforcement.pdf',format='pdf',dpi=300)\n"
   ]
  },
  {
   "cell_type": "code",
   "execution_count": 138,
   "metadata": {},
   "outputs": [
    {
     "data": {
      "text/plain": [
       "Text(0.5, 1.0, 'CumCount Class and Accuracy | With Test Values')"
      ]
     },
     "execution_count": 138,
     "metadata": {},
     "output_type": "execute_result"
    },
    {
     "data": {
      "image/png": "[encoded data removed]",
      "text/plain": [
       "<Figure size 1080x288 with 4 Axes>"
      ]
     },
     "metadata": {
      "needs_background": "light"
     },
     "output_type": "display_data"
    }
   ],
   "source": [
    "fig,axes=plt.subplots(1,2,figsize=(15,4))\n",
    "\n",
    "ax=axes[0]\n",
    "\n",
    "p1=ax.plot(range(len(count1notest[1:])),count1notest[1:],color='b',marker='x')\n",
    "p2=ax.plot(range(len(count2notest[1:])),count2notest[1:],color='r',marker='x')\n",
    "ax.legend([p1[0],p2[0]],['C1','C2'],loc='right',title='CumCount')\n",
    "\n",
    "ax.set_xlim([-0.75,18.75])\n",
    "ax.set_ylim([-1,70])\n",
    "ax.set_ylabel('CumCount')\n",
    "ax.set_xlabel('Test Sample #')\n",
    "\n",
    "ax.set_xticks(np.array(np.arange(0,len(count2notest[1:]),2)))\n",
    "\n",
    "ax.set_xticklabels(np.array(np.arange(0,len(count2notest[1:]),2))+1)\n",
    "ax2=ax.twinx()\n",
    "# plt.plot(temp,'o',c='k')\n",
    "\n",
    "colrs=[]\n",
    "for val in df['Class']:\n",
    "    if val <= 1:\n",
    "        colrs.append('C1')\n",
    "    else:\n",
    "        colrs.append('C2')\n",
    "        \n",
    "        \n",
    "sns.scatterplot(x='OrderVal',y='Accuracy',data=df,hue=colrs,palette=['b','r'],ax=ax2)\n",
    "# p3=plt.scatter(np.array(range(len(targetClass))),temp,marker='x',color=colrs,label=['C1','C2'])\n",
    "plt.legend(title='Accuracy',loc='lower right')\n",
    "ax2.set_title('CumCount Class and Accuracy | No Test Values')\n",
    "# plt.plot(np.array(targetClass)-1,'_')\n",
    "\n",
    "ax1=axes[1]\n",
    "p1=ax1.plot(range(len(count1plustest[1:])),count1plustest[1:],color='b',marker='x')\n",
    "p2=ax1.plot(range(len(count2plustest[1:])),count2plustest[1:],color='r',marker='x')\n",
    "ax1.legend([p1[0],p2[0]],['C1','C2'],loc='right',title='CumSum')\n",
    "ax1.set_xlim([-0.75,18.75])\n",
    "ax1.set_ylim([-1,70])\n",
    "ax1.set_ylabel('CumCount')\n",
    "ax1.set_xlabel('Test Sample #')\n",
    "\n",
    "ax1.set_xticks(np.array(np.arange(0,len(count2notest[1:]),2)))\n",
    "\n",
    "ax1.set_xticklabels(np.array(np.arange(0,len(count2notest[1:]),2))+1)\n",
    "ax3=ax1.twinx()\n",
    "      \n",
    "sns.scatterplot(x='OrderVal',y='Accuracy',data=df,hue=colrs,palette=['b','r'],ax=ax3)\n",
    "# p3=plt.scatter(np.array(range(len(targetClass))),temp,marker='x',color=colrs,label=['C1','C2'])\n",
    "ax3.legend(title='Accuracy',loc='lower right')\n",
    "ax3.set_title('CumCount Class and Accuracy | With Test Values')\n",
    "# plt.plot(np.array(targetClass)-1,'_')"
   ]
  },
  {
   "cell_type": "code",
   "execution_count": 139,
   "metadata": {},
   "outputs": [
    {
     "data": {
      "text/plain": [
       "Text(0.5, 1.0, 'CumCount Pairings and Accuracy | C2 Pairings')"
      ]
     },
     "execution_count": 139,
     "metadata": {},
     "output_type": "execute_result"
    },
    {
     "data": {
      "image/png": "[encoded data removed]",
      "text/plain": [
       "<Figure size 1080x288 with 4 Axes>"
      ]
     },
     "metadata": {
      "needs_background": "light"
     },
     "output_type": "display_data"
    }
   ],
   "source": [
    "import seaborn as sns\n",
    "\n",
    "fig,axes=plt.subplots(1,2,figsize=(15,4))\n",
    "\n",
    "ax=axes[0]\n",
    "\n",
    "p1=ax.plot(range(len(c1c1notest[1:])),c1c1notest[1:],color='b',marker='^')\n",
    "p2=ax.plot(range(len(c1c2notest[1:])),c1c2notest[1:],color='b',marker='x')\n",
    "ax.legend([p1[0],p2[0]],['C1-C1','C1-C2'],loc='best',title='CumCount')\n",
    "\n",
    "ax.set_xlim([-0.75,19.75])\n",
    "ax.set_ylim([-1,11])\n",
    "ax.set_ylabel('CumCount')\n",
    "ax.set_xlabel('Test Sample #')\n",
    "\n",
    "ax.set_xticks(np.array(np.arange(0,len(count2notest[1:]),2)))\n",
    "\n",
    "ax.set_xticklabels(np.array(np.arange(0,len(count2notest[1:]),2))+1)\n",
    "ax2=ax.twinx()\n",
    "# plt.plot(temp,'o',c='k')\n",
    "\n",
    "colrs=[]\n",
    "for val in df['Class']:\n",
    "    if val <= 1:\n",
    "        colrs.append('C1')\n",
    "    else:\n",
    "        colrs.append('C2')\n",
    "        \n",
    "        \n",
    "sns.scatterplot(x='OrderVal',y='Accuracy',data=df,hue=colrs,palette=['b','r'],ax=ax2)\n",
    "# p3=plt.scatter(np.array(range(len(targetClass))),temp,marker='x',color=colrs,label=['C1','C2'])\n",
    "plt.legend(title='Accuracy',loc='lower right')\n",
    "ax2.set_title('CumCount Pairings and Accuracy | C1 Pairings')\n",
    "# plt.plot(np.array(targetClass)-1,'_')\n",
    "\n",
    "ax1=axes[1]\n",
    "p3=ax1.plot(range(len(c2c1notest[1:])),c2c1notest[1:],color='r',marker='x')\n",
    "p4=ax1.plot(range(len(c2c2notest[1:])),c2c2notest[1:],color='r',marker='^')\n",
    "ax1.legend([p3[0],p4[0]],['C2-C1','C2-C2'],loc='best',title='CumCount')\n",
    "ax1.set_xlim([-0.75,19.75])\n",
    "ax1.set_ylim([-1,11])\n",
    "ax1.set_ylabel('CumCount')\n",
    "ax1.set_xlabel('Test Sample #')\n",
    "\n",
    "ax1.set_xticks(np.array(np.arange(0,len(count2notest[1:]),2)))\n",
    "\n",
    "ax1.set_xticklabels(np.array(np.arange(0,len(count2notest[1:]),2))+1)\n",
    "ax3=ax1.twinx()\n",
    "      \n",
    "sns.scatterplot(x='OrderVal',y='Accuracy',data=df,hue=colrs,palette=['b','r'],ax=ax3)\n",
    "# p3=plt.scatter(np.array(range(len(targetClass))),temp,marker='x',color=colrs,label=['C1','C2'])\n",
    "ax3.legend(title='Accuracy',loc='lower right')\n",
    "ax3.set_title('CumCount Pairings and Accuracy | C2 Pairings')\n",
    "# plt.plot(np.array(targetClass)-1,'_')"
   ]
  },
  {
   "cell_type": "code",
   "execution_count": null,
   "metadata": {},
   "outputs": [],
   "source": []
  }
 ],
 "metadata": {
  "kernelspec": {
   "display_name": "Python [conda env:phd]",
   "language": "python",
   "name": "conda-env-phd-py"
  },
  "language_info": {
   "codemirror_mode": {
    "name": "ipython",
    "version": 3
   },
   "file_extension": ".py",
   "mimetype": "text/x-python",
   "name": "python",
   "nbconvert_exporter": "python",
   "pygments_lexer": "ipython3",
   "version": "3.8.12"
  }
 },
 "nbformat": 4,
 "nbformat_minor": 2
}
