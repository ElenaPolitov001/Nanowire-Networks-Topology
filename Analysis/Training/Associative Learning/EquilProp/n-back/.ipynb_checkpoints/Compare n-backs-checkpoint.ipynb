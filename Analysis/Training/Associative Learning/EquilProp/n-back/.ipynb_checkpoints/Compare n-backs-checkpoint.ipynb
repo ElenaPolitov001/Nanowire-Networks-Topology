{
 "cells": [
  {
   "cell_type": "code",
   "execution_count": 19,
   "metadata": {
    "scrolled": true
   },
   "outputs": [
    {
     "name": "stdout",
     "output_type": "stream",
     "text": [
      "Network 698 Loaded\n",
      "Parameters:\n",
      "\n",
      "Train V: 0.3\n",
      "Test V: 0.1\n",
      "Pattern: 3x3\n"
     ]
    },
    {
     "data": {
      "application/vnd.jupyter.widget-view+json": {
       "model_id": "e253bd6ea51e41048cca678ce93d7263",
       "version_major": 2,
       "version_minor": 0
      },
      "text/plain": [
       "  0%|          | 0/1 [00:00<?, ?it/s]"
      ]
     },
     "metadata": {},
     "output_type": "display_data"
    },
    {
     "name": "stdout",
     "output_type": "stream",
     "text": [
      "5e-06\n"
     ]
    },
    {
     "data": {
      "application/vnd.jupyter.widget-view+json": {
       "model_id": "5f5d8442d78e4b398e7e22ea93ce99de",
       "version_major": 2,
       "version_minor": 0
      },
      "text/plain": [
       "  0%|          | 0/1 [00:00<?, ?it/s]"
      ]
     },
     "metadata": {},
     "output_type": "display_data"
    },
    {
     "data": {
      "application/vnd.jupyter.widget-view+json": {
       "model_id": "70762e71cdf14555a9e751fdac913fd8",
       "version_major": 2,
       "version_minor": 0
      },
      "text/plain": [
       "  0%|          | 0/279 [00:00<?, ?it/s]"
      ]
     },
     "metadata": {},
     "output_type": "display_data"
    },
    {
     "name": "stdout",
     "output_type": "stream",
     "text": [
      "\n",
      "Drain 1 Only\n"
     ]
    },
    {
     "data": {
      "application/vnd.jupyter.widget-view+json": {
       "model_id": "a9f2440289f047d0b35ff89979678fc9",
       "version_major": 2,
       "version_minor": 0
      },
      "text/plain": [
       "Running Simulation :   0%|          | 0/200 [00:00<?, ?it/s]"
      ]
     },
     "metadata": {},
     "output_type": "display_data"
    },
    {
     "name": "stdout",
     "output_type": "stream",
     "text": [
      "Target:0\n",
      "Final Target Drain Current: [7.256245955837891e-08]\n",
      "LimVal1:5e-06\n",
      "LimVal0:5e-06\n",
      "\n",
      "Drain 2 Only\n"
     ]
    },
    {
     "data": {
      "application/vnd.jupyter.widget-view+json": {
       "model_id": "51abbb8eee3f42138045874280ecadef",
       "version_major": 2,
       "version_minor": 0
      },
      "text/plain": [
       "Running Simulation :   0%|          | 0/200 [00:00<?, ?it/s]"
      ]
     },
     "metadata": {},
     "output_type": "display_data"
    },
    {
     "name": "stdout",
     "output_type": "stream",
     "text": [
      "Target:1\n",
      "Final Target Drain Current: [5.9403706306183755e-08]\n",
      "LimVal1:5e-06\n",
      "LimVal0:5e-06\n",
      "\n",
      "Drain 2 Only\n"
     ]
    },
    {
     "data": {
      "application/vnd.jupyter.widget-view+json": {
       "model_id": "2ac5f1bbf1404d3e8225b7d76f7774b1",
       "version_major": 2,
       "version_minor": 0
      },
      "text/plain": [
       "Running Simulation :   0%|          | 0/200 [00:00<?, ?it/s]"
      ]
     },
     "metadata": {},
     "output_type": "display_data"
    },
    {
     "name": "stdout",
     "output_type": "stream",
     "text": [
      "Target:1\n",
      "Final Target Drain Current: [4.014987865781931e-06]\n",
      "LimVal1:5e-06\n",
      "LimVal0:5e-06\n",
      "\n",
      "Drain 2 Only\n"
     ]
    },
    {
     "data": {
      "application/vnd.jupyter.widget-view+json": {
       "model_id": "00b15272032e4fd28355457fe3f42e0c",
       "version_major": 2,
       "version_minor": 0
      },
      "text/plain": [
       "Running Simulation :   0%|          | 0/200 [00:00<?, ?it/s]"
      ]
     },
     "metadata": {},
     "output_type": "display_data"
    },
    {
     "name": "stdout",
     "output_type": "stream",
     "text": [
      "Target:1\n",
      "Final Target Drain Current: [5.046856346338995e-06]\n",
      "LimVal1:5e-06\n",
      "LimVal0:5e-06\n",
      "\n",
      "Drain 2 Only\n"
     ]
    },
    {
     "data": {
      "application/vnd.jupyter.widget-view+json": {
       "model_id": "c70c6066f729467494e04fb70ad253d7",
       "version_major": 2,
       "version_minor": 0
      },
      "text/plain": [
       "Running Simulation :   0%|          | 0/200 [00:00<?, ?it/s]"
      ]
     },
     "metadata": {},
     "output_type": "display_data"
    },
    {
     "name": "stdout",
     "output_type": "stream",
     "text": [
      "Target:1\n",
      "Final Target Drain Current: [5.016769492619581e-06]\n",
      "LimVal1:5e-06\n",
      "LimVal0:5e-06\n",
      "\n",
      "Drain 2 Only\n"
     ]
    },
    {
     "data": {
      "application/vnd.jupyter.widget-view+json": {
       "model_id": "52d37699b3064bacbe5eff73fa5bab54",
       "version_major": 2,
       "version_minor": 0
      },
      "text/plain": [
       "Running Simulation :   0%|          | 0/200 [00:00<?, ?it/s]"
      ]
     },
     "metadata": {},
     "output_type": "display_data"
    },
    {
     "name": "stdout",
     "output_type": "stream",
     "text": [
      "Target:1\n",
      "Final Target Drain Current: [5.011977114374719e-06]\n",
      "LimVal1:5e-06\n",
      "LimVal0:5e-06\n",
      "\n",
      "Both Drains\n"
     ]
    },
    {
     "data": {
      "application/vnd.jupyter.widget-view+json": {
       "model_id": "d05f9b0587fb4404b209d81411e9f099",
       "version_major": 2,
       "version_minor": 0
      },
      "text/plain": [
       "Running Simulation :   0%|          | 0/200 [00:00<?, ?it/s]"
      ]
     },
     "metadata": {},
     "output_type": "display_data"
    },
    {
     "name": "stdout",
     "output_type": "stream",
     "text": [
      "Target:0\n",
      "Final Target Drain Current: [1.124096840753661e-09, 1.800366791529258e-07]\n",
      "Target: 0.0\n",
      "Accuracy: 0\n",
      "LimVal1:4.166666666666667e-06\n",
      "LimVal0:6.6666666666666675e-06\n",
      "\n",
      "Drain 2 Only\n"
     ]
    },
    {
     "data": {
      "application/vnd.jupyter.widget-view+json": {
       "model_id": "de53c2d9f8214dfca83efb9bd053cbb1",
       "version_major": 2,
       "version_minor": 0
      },
      "text/plain": [
       "Running Simulation :   0%|          | 0/200 [00:00<?, ?it/s]"
      ]
     },
     "metadata": {},
     "output_type": "display_data"
    },
    {
     "name": "stdout",
     "output_type": "stream",
     "text": [
      "Target:1\n",
      "Final Target Drain Current: [4.171031689631521e-06]\n",
      "LimVal1:4.166666666666667e-06\n",
      "LimVal0:6.6666666666666675e-06\n",
      "\n",
      "Drain 1 Only\n"
     ]
    },
    {
     "data": {
      "application/vnd.jupyter.widget-view+json": {
       "model_id": "755b16c71c3f4c0b9beb8d9e751d4b67",
       "version_major": 2,
       "version_minor": 0
      },
      "text/plain": [
       "Running Simulation :   0%|          | 0/200 [00:00<?, ?it/s]"
      ]
     },
     "metadata": {},
     "output_type": "display_data"
    },
    {
     "name": "stdout",
     "output_type": "stream",
     "text": [
      "Target:0\n",
      "Final Target Drain Current: [1.738681886875951e-07]\n",
      "LimVal1:4.166666666666667e-06\n",
      "LimVal0:6.6666666666666675e-06\n",
      "\n",
      "Drain 1 Only\n"
     ]
    },
    {
     "data": {
      "application/vnd.jupyter.widget-view+json": {
       "model_id": "827df5df848945c992325d05705d3227",
       "version_major": 2,
       "version_minor": 0
      },
      "text/plain": [
       "Running Simulation :   0%|          | 0/200 [00:00<?, ?it/s]"
      ]
     },
     "metadata": {},
     "output_type": "display_data"
    },
    {
     "name": "stdout",
     "output_type": "stream",
     "text": [
      "Target:0\n",
      "Final Target Drain Current: [5.919111804895512e-06]\n",
      "LimVal1:4.166666666666667e-06\n",
      "LimVal0:6.6666666666666675e-06\n",
      "\n",
      "Drain 1 Only\n"
     ]
    },
    {
     "data": {
      "application/vnd.jupyter.widget-view+json": {
       "model_id": "1a06fa23ae6443d9abe15b053e135657",
       "version_major": 2,
       "version_minor": 0
      },
      "text/plain": [
       "Running Simulation :   0%|          | 0/200 [00:00<?, ?it/s]"
      ]
     },
     "metadata": {},
     "output_type": "display_data"
    },
    {
     "name": "stdout",
     "output_type": "stream",
     "text": [
      "Target:0\n",
      "Final Target Drain Current: [6.681466500735436e-06]\n",
      "LimVal1:4.166666666666667e-06\n",
      "LimVal0:6.6666666666666675e-06\n",
      "\n",
      "Both Drains\n"
     ]
    },
    {
     "data": {
      "application/vnd.jupyter.widget-view+json": {
       "model_id": "7f16042aa4214a3d924bb0b79a0020b4",
       "version_major": 2,
       "version_minor": 0
      },
      "text/plain": [
       "Running Simulation :   0%|          | 0/200 [00:00<?, ?it/s]"
      ]
     },
     "metadata": {},
     "output_type": "display_data"
    },
    {
     "name": "stdout",
     "output_type": "stream",
     "text": [
      "Target:1\n",
      "Final Target Drain Current: [1.3590563645148354e-08, 2.9699171123629645e-08]\n",
      "Target: 1.0\n",
      "Accuracy: 1\n",
      "LimVal1:4.166666666666667e-06\n",
      "LimVal0:6.6666666666666675e-06\n",
      "\n",
      "Drain 1 Only\n"
     ]
    },
    {
     "data": {
      "application/vnd.jupyter.widget-view+json": {
       "model_id": "e8ac0458b53643679156c73c5b04f804",
       "version_major": 2,
       "version_minor": 0
      },
      "text/plain": [
       "Running Simulation :   0%|          | 0/200 [00:00<?, ?it/s]"
      ]
     },
     "metadata": {},
     "output_type": "display_data"
    },
    {
     "name": "stdout",
     "output_type": "stream",
     "text": [
      "Target:0\n",
      "Final Target Drain Current: [6.675083382124692e-06]\n",
      "LimVal1:4.166666666666667e-06\n",
      "LimVal0:6.6666666666666675e-06\n",
      "\n",
      "Both Drains\n"
     ]
    },
    {
     "data": {
      "application/vnd.jupyter.widget-view+json": {
       "model_id": "fab93751ebea4610b6583733c567f870",
       "version_major": 2,
       "version_minor": 0
      },
      "text/plain": [
       "Running Simulation :   0%|          | 0/200 [00:00<?, ?it/s]"
      ]
     },
     "metadata": {},
     "output_type": "display_data"
    },
    {
     "name": "stdout",
     "output_type": "stream",
     "text": [
      "Target:1\n",
      "Final Target Drain Current: [9.65871251960775e-09, 3.928303274420088e-09]\n",
      "Target: 1.0\n",
      "Accuracy: 0\n",
      "LimVal1:5.833333333333334e-06\n",
      "LimVal0:5.833333333333334e-06\n",
      "\n",
      "Drain 1 Only\n"
     ]
    },
    {
     "data": {
      "application/vnd.jupyter.widget-view+json": {
       "model_id": "4be80f284ae24e12be46a5243511dd80",
       "version_major": 2,
       "version_minor": 0
      },
      "text/plain": [
       "Running Simulation :   0%|          | 0/200 [00:00<?, ?it/s]"
      ]
     },
     "metadata": {},
     "output_type": "display_data"
    },
    {
     "name": "stdout",
     "output_type": "stream",
     "text": [
      "Target:0\n",
      "Final Target Drain Current: [5.836184168522099e-06]\n",
      "LimVal1:5.833333333333334e-06\n",
      "LimVal0:5.833333333333334e-06\n",
      "\n",
      "Drain 2 Only\n"
     ]
    },
    {
     "data": {
      "application/vnd.jupyter.widget-view+json": {
       "model_id": "43d12a31a9384fb1b25e140f3c04f790",
       "version_major": 2,
       "version_minor": 0
      },
      "text/plain": [
       "Running Simulation :   0%|          | 0/200 [00:00<?, ?it/s]"
      ]
     },
     "metadata": {},
     "output_type": "display_data"
    },
    {
     "name": "stdout",
     "output_type": "stream",
     "text": [
      "Target:1\n",
      "Final Target Drain Current: [5.88601610326776e-06]\n",
      "LimVal1:5.833333333333334e-06\n",
      "LimVal0:5.833333333333334e-06\n",
      "\n",
      "Drain 2 Only\n"
     ]
    },
    {
     "data": {
      "application/vnd.jupyter.widget-view+json": {
       "model_id": "607f843b5963436eb5b24c1b4569840b",
       "version_major": 2,
       "version_minor": 0
      },
      "text/plain": [
       "Running Simulation :   0%|          | 0/200 [00:00<?, ?it/s]"
      ]
     },
     "metadata": {},
     "output_type": "display_data"
    },
    {
     "name": "stdout",
     "output_type": "stream",
     "text": [
      "Target:1\n",
      "Final Target Drain Current: [6.124824104217535e-06]\n",
      "LimVal1:5.833333333333334e-06\n",
      "LimVal0:5.833333333333334e-06\n",
      "\n",
      "Drain 2 Only\n"
     ]
    },
    {
     "data": {
      "application/vnd.jupyter.widget-view+json": {
       "model_id": "27e98815a1ca44369317cef8e6d1f9e9",
       "version_major": 2,
       "version_minor": 0
      },
      "text/plain": [
       "Running Simulation :   0%|          | 0/200 [00:00<?, ?it/s]"
      ]
     },
     "metadata": {},
     "output_type": "display_data"
    },
    {
     "name": "stdout",
     "output_type": "stream",
     "text": [
      "Target:1\n",
      "Final Target Drain Current: [5.890622798693527e-06]\n",
      "LimVal1:5.833333333333334e-06\n",
      "LimVal0:5.833333333333334e-06\n",
      "\n",
      "Drain 2 Only\n"
     ]
    },
    {
     "data": {
      "application/vnd.jupyter.widget-view+json": {
       "model_id": "130c1029387a4b289f053af8659f023d",
       "version_major": 2,
       "version_minor": 0
      },
      "text/plain": [
       "Running Simulation :   0%|          | 0/200 [00:00<?, ?it/s]"
      ]
     },
     "metadata": {},
     "output_type": "display_data"
    },
    {
     "name": "stdout",
     "output_type": "stream",
     "text": [
      "Target:1\n",
      "Final Target Drain Current: [5.934113348121779e-06]\n",
      "LimVal1:5.833333333333334e-06\n",
      "LimVal0:5.833333333333334e-06\n",
      "\n",
      "Drain 2 Only\n"
     ]
    },
    {
     "data": {
      "application/vnd.jupyter.widget-view+json": {
       "model_id": "daf18f45a311408ba33b0a548514335f",
       "version_major": 2,
       "version_minor": 0
      },
      "text/plain": [
       "Running Simulation :   0%|          | 0/200 [00:00<?, ?it/s]"
      ]
     },
     "metadata": {},
     "output_type": "display_data"
    },
    {
     "name": "stdout",
     "output_type": "stream",
     "text": [
      "Target:1\n",
      "Final Target Drain Current: [5.898167834404208e-06]\n",
      "LimVal1:5.833333333333334e-06\n",
      "LimVal0:5.833333333333334e-06\n",
      "\n",
      "Both Drains\n"
     ]
    },
    {
     "data": {
      "application/vnd.jupyter.widget-view+json": {
       "model_id": "aa12d7b1a5c34429ae8de87eb179f7cd",
       "version_major": 2,
       "version_minor": 0
      },
      "text/plain": [
       "Running Simulation :   0%|          | 0/200 [00:00<?, ?it/s]"
      ]
     },
     "metadata": {},
     "output_type": "display_data"
    },
    {
     "name": "stdout",
     "output_type": "stream",
     "text": [
      "Target:0\n",
      "Final Target Drain Current: [1.6760372438134253e-09, 7.257008173448704e-09]\n",
      "Target: 0.0\n",
      "Accuracy: 0\n",
      "LimVal1:5e-06\n",
      "LimVal0:7.500000000000001e-06\n",
      "\n",
      "Drain 2 Only\n"
     ]
    },
    {
     "data": {
      "application/vnd.jupyter.widget-view+json": {
       "model_id": "c5f97d3db8cd43cf992fcf64aa41da81",
       "version_major": 2,
       "version_minor": 0
      },
      "text/plain": [
       "Running Simulation :   0%|          | 0/200 [00:00<?, ?it/s]"
      ]
     },
     "metadata": {},
     "output_type": "display_data"
    },
    {
     "name": "stdout",
     "output_type": "stream",
     "text": [
      "Target:1\n",
      "Final Target Drain Current: [5.030110578165246e-06]\n",
      "LimVal1:5e-06\n",
      "LimVal0:7.500000000000001e-06\n",
      "\n",
      "Drain 1 Only\n"
     ]
    },
    {
     "data": {
      "application/vnd.jupyter.widget-view+json": {
       "model_id": "7ddc24db56cb461e9f556f83dbb8e0c2",
       "version_major": 2,
       "version_minor": 0
      },
      "text/plain": [
       "Running Simulation :   0%|          | 0/200 [00:00<?, ?it/s]"
      ]
     },
     "metadata": {},
     "output_type": "display_data"
    },
    {
     "name": "stdout",
     "output_type": "stream",
     "text": [
      "Target:0\n",
      "Final Target Drain Current: [4.436639975319208e-06]\n",
      "LimVal1:5e-06\n",
      "LimVal0:7.500000000000001e-06\n",
      "\n",
      "Drain 1 Only\n"
     ]
    },
    {
     "data": {
      "application/vnd.jupyter.widget-view+json": {
       "model_id": "e4326a3969cb4d5ea5c4f7cc675c3c5b",
       "version_major": 2,
       "version_minor": 0
      },
      "text/plain": [
       "Running Simulation :   0%|          | 0/200 [00:00<?, ?it/s]"
      ]
     },
     "metadata": {},
     "output_type": "display_data"
    },
    {
     "name": "stdout",
     "output_type": "stream",
     "text": [
      "Target:0\n",
      "Final Target Drain Current: [7.516728622463119e-06]\n",
      "LimVal1:5e-06\n",
      "LimVal0:7.500000000000001e-06\n",
      "\n",
      "Drain 1 Only\n"
     ]
    },
    {
     "data": {
      "application/vnd.jupyter.widget-view+json": {
       "model_id": "a76b878fd8f34617a8998f98b54e9cd4",
       "version_major": 2,
       "version_minor": 0
      },
      "text/plain": [
       "Running Simulation :   0%|          | 0/200 [00:00<?, ?it/s]"
      ]
     },
     "metadata": {},
     "output_type": "display_data"
    },
    {
     "name": "stdout",
     "output_type": "stream",
     "text": [
      "Target:0\n",
      "Final Target Drain Current: [7.538301669392827e-06]\n",
      "LimVal1:5e-06\n",
      "LimVal0:7.500000000000001e-06\n",
      "\n",
      "Drain 1 Only\n"
     ]
    },
    {
     "data": {
      "application/vnd.jupyter.widget-view+json": {
       "model_id": "d8a2404bb27f43c5a2518256755e4f14",
       "version_major": 2,
       "version_minor": 0
      },
      "text/plain": [
       "Running Simulation :   0%|          | 0/200 [00:00<?, ?it/s]"
      ]
     },
     "metadata": {},
     "output_type": "display_data"
    },
    {
     "name": "stdout",
     "output_type": "stream",
     "text": [
      "Target:0\n",
      "Final Target Drain Current: [7.505572476898767e-06]\n",
      "LimVal1:5e-06\n",
      "LimVal0:7.500000000000001e-06\n",
      "\n",
      "Drain 1 Only\n"
     ]
    },
    {
     "data": {
      "application/vnd.jupyter.widget-view+json": {
       "model_id": "4c344725cb22423c8921674f27753de8",
       "version_major": 2,
       "version_minor": 0
      },
      "text/plain": [
       "Running Simulation :   0%|          | 0/200 [00:00<?, ?it/s]"
      ]
     },
     "metadata": {},
     "output_type": "display_data"
    },
    {
     "name": "stdout",
     "output_type": "stream",
     "text": [
      "Target:0\n",
      "Final Target Drain Current: [7.509465460856581e-06]\n",
      "LimVal1:5e-06\n",
      "LimVal0:7.500000000000001e-06\n",
      "\n",
      "Both Drains\n"
     ]
    },
    {
     "data": {
      "application/vnd.jupyter.widget-view+json": {
       "model_id": "e05dedcd8b6447dbaf32a6d794bdd201",
       "version_major": 2,
       "version_minor": 0
      },
      "text/plain": [
       "Running Simulation :   0%|          | 0/200 [00:00<?, ?it/s]"
      ]
     },
     "metadata": {},
     "output_type": "display_data"
    },
    {
     "name": "stdout",
     "output_type": "stream",
     "text": [
      "Target:1\n",
      "Final Target Drain Current: [8.592652254649303e-09, 1.6083913383862344e-09]\n",
      "Target: 1.0\n",
      "Accuracy: 0\n",
      "LimVal1:6.6666666666666675e-06\n",
      "LimVal0:6.6666666666666675e-06\n",
      "\n",
      "Drain 2 Only\n"
     ]
    },
    {
     "data": {
      "application/vnd.jupyter.widget-view+json": {
       "model_id": "0efb92aa9ee54caaa31e3ed93aeaa886",
       "version_major": 2,
       "version_minor": 0
      },
      "text/plain": [
       "Running Simulation :   0%|          | 0/200 [00:00<?, ?it/s]"
      ]
     },
     "metadata": {},
     "output_type": "display_data"
    },
    {
     "name": "stdout",
     "output_type": "stream",
     "text": [
      "Target:1\n",
      "Final Target Drain Current: [4.86369391474857e-06]\n",
      "LimVal1:6.6666666666666675e-06\n",
      "LimVal0:6.6666666666666675e-06\n",
      "\n",
      "Drain 1 Only\n"
     ]
    },
    {
     "data": {
      "application/vnd.jupyter.widget-view+json": {
       "model_id": "0b07c33b3a37492fa42be43ce020c70c",
       "version_major": 2,
       "version_minor": 0
      },
      "text/plain": [
       "Running Simulation :   0%|          | 0/200 [00:00<?, ?it/s]"
      ]
     },
     "metadata": {},
     "output_type": "display_data"
    },
    {
     "name": "stdout",
     "output_type": "stream",
     "text": [
      "Target:0\n",
      "Final Target Drain Current: [6.716094751303546e-06]\n",
      "LimVal1:6.6666666666666675e-06\n",
      "LimVal0:6.6666666666666675e-06\n",
      "\n",
      "Drain 1 Only\n"
     ]
    },
    {
     "data": {
      "application/vnd.jupyter.widget-view+json": {
       "model_id": "15a387618b3243df8775958fa80a1df4",
       "version_major": 2,
       "version_minor": 0
      },
      "text/plain": [
       "Running Simulation :   0%|          | 0/200 [00:00<?, ?it/s]"
      ]
     },
     "metadata": {},
     "output_type": "display_data"
    },
    {
     "name": "stdout",
     "output_type": "stream",
     "text": [
      "Target:0\n",
      "Final Target Drain Current: [6.735050400214829e-06]\n",
      "LimVal1:6.6666666666666675e-06\n",
      "LimVal0:6.6666666666666675e-06\n",
      "\n",
      "Drain 1 Only\n"
     ]
    },
    {
     "data": {
      "application/vnd.jupyter.widget-view+json": {
       "model_id": "f2ebf15ad9ca40a78f2467c4cc341d3c",
       "version_major": 2,
       "version_minor": 0
      },
      "text/plain": [
       "Running Simulation :   0%|          | 0/200 [00:00<?, ?it/s]"
      ]
     },
     "metadata": {},
     "output_type": "display_data"
    },
    {
     "name": "stdout",
     "output_type": "stream",
     "text": [
      "Target:0\n",
      "Final Target Drain Current: [6.688962053007609e-06]\n",
      "LimVal1:6.6666666666666675e-06\n",
      "LimVal0:6.6666666666666675e-06\n",
      "\n",
      "Drain 1 Only\n"
     ]
    },
    {
     "data": {
      "application/vnd.jupyter.widget-view+json": {
       "model_id": "3fba086f20444f5884ad7355cd41be1f",
       "version_major": 2,
       "version_minor": 0
      },
      "text/plain": [
       "Running Simulation :   0%|          | 0/200 [00:00<?, ?it/s]"
      ]
     },
     "metadata": {},
     "output_type": "display_data"
    },
    {
     "name": "stdout",
     "output_type": "stream",
     "text": [
      "Target:0\n",
      "Final Target Drain Current: [6.697675325223655e-06]\n",
      "LimVal1:6.6666666666666675e-06\n",
      "LimVal0:6.6666666666666675e-06\n",
      "\n",
      "Drain 1 Only\n"
     ]
    },
    {
     "data": {
      "application/vnd.jupyter.widget-view+json": {
       "model_id": "a1ce64ab310d4ce5bc30f048267b1def",
       "version_major": 2,
       "version_minor": 0
      },
      "text/plain": [
       "Running Simulation :   0%|          | 0/200 [00:00<?, ?it/s]"
      ]
     },
     "metadata": {},
     "output_type": "display_data"
    },
    {
     "name": "stdout",
     "output_type": "stream",
     "text": [
      "Target:0\n",
      "Final Target Drain Current: [6.6754422723835675e-06]\n",
      "LimVal1:6.6666666666666675e-06\n",
      "LimVal0:6.6666666666666675e-06\n",
      "\n",
      "Both Drains\n"
     ]
    },
    {
     "data": {
      "application/vnd.jupyter.widget-view+json": {
       "model_id": "f9793c40483e4b84a9967e070becaa2e",
       "version_major": 2,
       "version_minor": 0
      },
      "text/plain": [
       "Running Simulation :   0%|          | 0/200 [00:00<?, ?it/s]"
      ]
     },
     "metadata": {},
     "output_type": "display_data"
    },
    {
     "name": "stdout",
     "output_type": "stream",
     "text": [
      "Target:1\n",
      "Final Target Drain Current: [5.556225685903176e-09, 2.1605335784961997e-09]\n",
      "Target: 1.0\n",
      "Accuracy: 0\n",
      "LimVal1:8.333333333333334e-06\n",
      "LimVal0:5.833333333333334e-06\n",
      "\n",
      "Drain 1 Only\n"
     ]
    },
    {
     "data": {
      "application/vnd.jupyter.widget-view+json": {
       "model_id": "9c342b4206174b3b8837c3584d8c4f6a",
       "version_major": 2,
       "version_minor": 0
      },
      "text/plain": [
       "Running Simulation :   0%|          | 0/200 [00:00<?, ?it/s]"
      ]
     },
     "metadata": {},
     "output_type": "display_data"
    },
    {
     "name": "stdout",
     "output_type": "stream",
     "text": [
      "Target:0\n",
      "Final Target Drain Current: [5.884606878429404e-06]\n",
      "LimVal1:8.333333333333334e-06\n",
      "LimVal0:5.833333333333334e-06\n",
      "\n",
      "Drain 2 Only\n"
     ]
    },
    {
     "data": {
      "application/vnd.jupyter.widget-view+json": {
       "model_id": "9dc9a7d4aaee496ca2669958f6a4d180",
       "version_major": 2,
       "version_minor": 0
      },
      "text/plain": [
       "Running Simulation :   0%|          | 0/200 [00:00<?, ?it/s]"
      ]
     },
     "metadata": {},
     "output_type": "display_data"
    },
    {
     "name": "stdout",
     "output_type": "stream",
     "text": [
      "Target:1\n",
      "Final Target Drain Current: [4.876597812019007e-06]\n",
      "LimVal1:8.333333333333334e-06\n",
      "LimVal0:5.833333333333334e-06\n",
      "\n",
      "Drain 2 Only\n"
     ]
    },
    {
     "data": {
      "application/vnd.jupyter.widget-view+json": {
       "model_id": "67c4cf69ac5144bfa2a4f21eca173c33",
       "version_major": 2,
       "version_minor": 0
      },
      "text/plain": [
       "Running Simulation :   0%|          | 0/200 [00:00<?, ?it/s]"
      ]
     },
     "metadata": {},
     "output_type": "display_data"
    },
    {
     "name": "stdout",
     "output_type": "stream",
     "text": [
      "Target:1\n",
      "Final Target Drain Current: [8.376714658047936e-06]\n",
      "LimVal1:8.333333333333334e-06\n",
      "LimVal0:5.833333333333334e-06\n",
      "\n",
      "Drain 2 Only\n"
     ]
    },
    {
     "data": {
      "application/vnd.jupyter.widget-view+json": {
       "model_id": "c1e3e0093a914007b77d11af697c6e46",
       "version_major": 2,
       "version_minor": 0
      },
      "text/plain": [
       "Running Simulation :   0%|          | 0/200 [00:00<?, ?it/s]"
      ]
     },
     "metadata": {},
     "output_type": "display_data"
    },
    {
     "name": "stdout",
     "output_type": "stream",
     "text": [
      "Target:1\n",
      "Final Target Drain Current: [8.41048834393601e-06]\n",
      "LimVal1:8.333333333333334e-06\n",
      "LimVal0:5.833333333333334e-06\n",
      "\n",
      "Drain 2 Only\n"
     ]
    },
    {
     "data": {
      "application/vnd.jupyter.widget-view+json": {
       "model_id": "fdfa47389eb8435d86e89e2a6a05d17e",
       "version_major": 2,
       "version_minor": 0
      },
      "text/plain": [
       "Running Simulation :   0%|          | 0/200 [00:00<?, ?it/s]"
      ]
     },
     "metadata": {},
     "output_type": "display_data"
    },
    {
     "name": "stdout",
     "output_type": "stream",
     "text": [
      "Target:1\n",
      "Final Target Drain Current: [8.36761234493659e-06]\n",
      "LimVal1:8.333333333333334e-06\n",
      "LimVal0:5.833333333333334e-06\n",
      "\n",
      "Drain 2 Only\n"
     ]
    },
    {
     "data": {
      "application/vnd.jupyter.widget-view+json": {
       "model_id": "c0aa19b80099491297c917185a307ac5",
       "version_major": 2,
       "version_minor": 0
      },
      "text/plain": [
       "Running Simulation :   0%|          | 0/200 [00:00<?, ?it/s]"
      ]
     },
     "metadata": {},
     "output_type": "display_data"
    },
    {
     "name": "stdout",
     "output_type": "stream",
     "text": [
      "Target:1\n",
      "Final Target Drain Current: [8.353635775457308e-06]\n",
      "LimVal1:8.333333333333334e-06\n",
      "LimVal0:5.833333333333334e-06\n",
      "\n",
      "Both Drains\n"
     ]
    },
    {
     "data": {
      "application/vnd.jupyter.widget-view+json": {
       "model_id": "242ffcaa6d9a4605bd89209e0ee9ab87",
       "version_major": 2,
       "version_minor": 0
      },
      "text/plain": [
       "Running Simulation :   0%|          | 0/200 [00:00<?, ?it/s]"
      ]
     },
     "metadata": {},
     "output_type": "display_data"
    },
    {
     "name": "stdout",
     "output_type": "stream",
     "text": [
      "Target:0\n",
      "Final Target Drain Current: [1.3318362104172629e-09, 2.2461828343682326e-09]\n",
      "Target: 0.0\n",
      "Accuracy: 0\n",
      "LimVal1:7.5e-06\n",
      "LimVal0:7.500000000000001e-06\n",
      "\n",
      "Drain 2 Only\n"
     ]
    },
    {
     "data": {
      "application/vnd.jupyter.widget-view+json": {
       "model_id": "223ca785b79145919f7c6ed9ad7db44c",
       "version_major": 2,
       "version_minor": 0
      },
      "text/plain": [
       "Running Simulation :   0%|          | 0/200 [00:00<?, ?it/s]"
      ]
     },
     "metadata": {},
     "output_type": "display_data"
    },
    {
     "name": "stdout",
     "output_type": "stream",
     "text": [
      "Target:1\n",
      "Final Target Drain Current: [7.513448213526113e-06]\n",
      "LimVal1:7.5e-06\n",
      "LimVal0:7.500000000000001e-06\n",
      "\n",
      "Drain 1 Only\n"
     ]
    },
    {
     "data": {
      "application/vnd.jupyter.widget-view+json": {
       "model_id": "4c1ba68cca374e56b6dc631562ef790f",
       "version_major": 2,
       "version_minor": 0
      },
      "text/plain": [
       "Running Simulation :   0%|          | 0/200 [00:00<?, ?it/s]"
      ]
     },
     "metadata": {},
     "output_type": "display_data"
    },
    {
     "name": "stdout",
     "output_type": "stream",
     "text": [
      "Target:0\n",
      "Final Target Drain Current: [4.4181363384549384e-06]\n",
      "LimVal1:7.5e-06\n",
      "LimVal0:7.500000000000001e-06\n",
      "\n",
      "Drain 1 Only\n"
     ]
    },
    {
     "data": {
      "application/vnd.jupyter.widget-view+json": {
       "model_id": "91b5b8a2c48448068bce9ce15459f8b7",
       "version_major": 2,
       "version_minor": 0
      },
      "text/plain": [
       "Running Simulation :   0%|          | 0/200 [00:00<?, ?it/s]"
      ]
     },
     "metadata": {},
     "output_type": "display_data"
    },
    {
     "name": "stdout",
     "output_type": "stream",
     "text": [
      "Target:0\n",
      "Final Target Drain Current: [7.531982462073794e-06]\n",
      "LimVal1:7.5e-06\n",
      "LimVal0:7.500000000000001e-06\n",
      "\n",
      "Drain 1 Only\n"
     ]
    },
    {
     "data": {
      "application/vnd.jupyter.widget-view+json": {
       "model_id": "09b3c5da1d6b4e5fa05e7a3f0a685743",
       "version_major": 2,
       "version_minor": 0
      },
      "text/plain": [
       "Running Simulation :   0%|          | 0/200 [00:00<?, ?it/s]"
      ]
     },
     "metadata": {},
     "output_type": "display_data"
    },
    {
     "name": "stdout",
     "output_type": "stream",
     "text": [
      "Target:0\n",
      "Final Target Drain Current: [7.517835449224938e-06]\n",
      "LimVal1:7.5e-06\n",
      "LimVal0:7.500000000000001e-06\n",
      "\n",
      "Drain 1 Only\n"
     ]
    },
    {
     "data": {
      "application/vnd.jupyter.widget-view+json": {
       "model_id": "589717b758cd45cd91f57e8fc18da107",
       "version_major": 2,
       "version_minor": 0
      },
      "text/plain": [
       "Running Simulation :   0%|          | 0/200 [00:00<?, ?it/s]"
      ]
     },
     "metadata": {},
     "output_type": "display_data"
    },
    {
     "name": "stdout",
     "output_type": "stream",
     "text": [
      "Target:0\n",
      "Final Target Drain Current: [7.561403249013949e-06]\n",
      "LimVal1:7.5e-06\n",
      "LimVal0:7.500000000000001e-06\n",
      "\n",
      "Drain 1 Only\n"
     ]
    },
    {
     "data": {
      "application/vnd.jupyter.widget-view+json": {
       "model_id": "88cdb068ee034be9ae886546e05ad9f2",
       "version_major": 2,
       "version_minor": 0
      },
      "text/plain": [
       "Running Simulation :   0%|          | 0/200 [00:00<?, ?it/s]"
      ]
     },
     "metadata": {},
     "output_type": "display_data"
    },
    {
     "name": "stdout",
     "output_type": "stream",
     "text": [
      "Target:0\n",
      "Final Target Drain Current: [7.564079764148305e-06]\n",
      "LimVal1:7.5e-06\n",
      "LimVal0:7.500000000000001e-06\n",
      "\n",
      "Both Drains\n"
     ]
    },
    {
     "data": {
      "application/vnd.jupyter.widget-view+json": {
       "model_id": "d411123eee294a3bb4ed8a4f3eb65475",
       "version_major": 2,
       "version_minor": 0
      },
      "text/plain": [
       "Running Simulation :   0%|          | 0/200 [00:00<?, ?it/s]"
      ]
     },
     "metadata": {},
     "output_type": "display_data"
    },
    {
     "name": "stdout",
     "output_type": "stream",
     "text": [
      "Target:1\n",
      "Final Target Drain Current: [8.799654026304097e-09, 1.2610099022171688e-08]\n",
      "Target: 1.0\n",
      "Accuracy: 1\n",
      "LimVal1:7.5e-06\n",
      "LimVal0:7.500000000000001e-06\n",
      "\n",
      "Drain 1 Only\n"
     ]
    },
    {
     "data": {
      "application/vnd.jupyter.widget-view+json": {
       "model_id": "719d247a2bd747f297b5a280905d0ab4",
       "version_major": 2,
       "version_minor": 0
      },
      "text/plain": [
       "Running Simulation :   0%|          | 0/200 [00:00<?, ?it/s]"
      ]
     },
     "metadata": {},
     "output_type": "display_data"
    },
    {
     "name": "stdout",
     "output_type": "stream",
     "text": [
      "Target:0\n",
      "Final Target Drain Current: [7.53767847504446e-06]\n",
      "LimVal1:7.5e-06\n",
      "LimVal0:7.500000000000001e-06\n",
      "\n",
      "Drain 2 Only\n"
     ]
    },
    {
     "data": {
      "application/vnd.jupyter.widget-view+json": {
       "model_id": "84eebfe07ea348e9905258aaeaeef95b",
       "version_major": 2,
       "version_minor": 0
      },
      "text/plain": [
       "Running Simulation :   0%|          | 0/200 [00:00<?, ?it/s]"
      ]
     },
     "metadata": {},
     "output_type": "display_data"
    },
    {
     "name": "stdout",
     "output_type": "stream",
     "text": [
      "Target:1\n",
      "Final Target Drain Current: [4.518912890903199e-06]\n",
      "LimVal1:7.5e-06\n",
      "LimVal0:7.500000000000001e-06\n",
      "\n",
      "Drain 2 Only\n"
     ]
    },
    {
     "data": {
      "application/vnd.jupyter.widget-view+json": {
       "model_id": "733832a58c1c4388a78e48e80cf3889f",
       "version_major": 2,
       "version_minor": 0
      },
      "text/plain": [
       "Running Simulation :   0%|          | 0/200 [00:00<?, ?it/s]"
      ]
     },
     "metadata": {},
     "output_type": "display_data"
    },
    {
     "name": "stdout",
     "output_type": "stream",
     "text": [
      "Target:1\n",
      "Final Target Drain Current: [7.596140716988088e-06]\n",
      "LimVal1:7.5e-06\n",
      "LimVal0:7.500000000000001e-06\n",
      "\n",
      "Drain 2 Only\n"
     ]
    },
    {
     "data": {
      "application/vnd.jupyter.widget-view+json": {
       "model_id": "d2306dd909444cb1ba7b0a6abc619739",
       "version_major": 2,
       "version_minor": 0
      },
      "text/plain": [
       "Running Simulation :   0%|          | 0/200 [00:00<?, ?it/s]"
      ]
     },
     "metadata": {},
     "output_type": "display_data"
    },
    {
     "name": "stdout",
     "output_type": "stream",
     "text": [
      "Target:1\n",
      "Final Target Drain Current: [7.500252915131792e-06]\n",
      "LimVal1:7.5e-06\n",
      "LimVal0:7.500000000000001e-06\n",
      "\n",
      "Drain 2 Only\n"
     ]
    },
    {
     "data": {
      "application/vnd.jupyter.widget-view+json": {
       "model_id": "4bf2b082635a4377883d68e41a295df3",
       "version_major": 2,
       "version_minor": 0
      },
      "text/plain": [
       "Running Simulation :   0%|          | 0/200 [00:00<?, ?it/s]"
      ]
     },
     "metadata": {},
     "output_type": "display_data"
    },
    {
     "name": "stdout",
     "output_type": "stream",
     "text": [
      "Target:1\n",
      "Final Target Drain Current: [7.519280195550248e-06]\n",
      "LimVal1:7.5e-06\n",
      "LimVal0:7.500000000000001e-06\n",
      "\n",
      "Drain 2 Only\n"
     ]
    },
    {
     "data": {
      "application/vnd.jupyter.widget-view+json": {
       "model_id": "93956a0e4f9642b9bf35ee2c662d40f1",
       "version_major": 2,
       "version_minor": 0
      },
      "text/plain": [
       "Running Simulation :   0%|          | 0/200 [00:00<?, ?it/s]"
      ]
     },
     "metadata": {},
     "output_type": "display_data"
    },
    {
     "name": "stdout",
     "output_type": "stream",
     "text": [
      "Target:1\n",
      "Final Target Drain Current: [7.557268824332607e-06]\n",
      "LimVal1:7.5e-06\n",
      "LimVal0:7.500000000000001e-06\n",
      "\n",
      "Both Drains\n"
     ]
    },
    {
     "data": {
      "application/vnd.jupyter.widget-view+json": {
       "model_id": "264e8fd5785e4211b74cffdd70c29434",
       "version_major": 2,
       "version_minor": 0
      },
      "text/plain": [
       "Running Simulation :   0%|          | 0/200 [00:00<?, ?it/s]"
      ]
     },
     "metadata": {},
     "output_type": "display_data"
    },
    {
     "name": "stdout",
     "output_type": "stream",
     "text": [
      "Target:0\n",
      "Final Target Drain Current: [2.8140539473009012e-09, 8.993427945424272e-09]\n",
      "Target: 0.0\n",
      "Accuracy: 0\n",
      "LimVal1:6.666666666666667e-06\n",
      "LimVal0:9.166666666666668e-06\n",
      "\n",
      "Drain 2 Only\n"
     ]
    },
    {
     "data": {
      "application/vnd.jupyter.widget-view+json": {
       "model_id": "23f5022d648446b689a19b8a49568c3b",
       "version_major": 2,
       "version_minor": 0
      },
      "text/plain": [
       "Running Simulation :   0%|          | 0/200 [00:00<?, ?it/s]"
      ]
     },
     "metadata": {},
     "output_type": "display_data"
    },
    {
     "name": "stdout",
     "output_type": "stream",
     "text": [
      "Target:1\n",
      "Final Target Drain Current: [6.693301314269345e-06]\n",
      "LimVal1:6.666666666666667e-06\n",
      "LimVal0:9.166666666666668e-06\n",
      "\n",
      "Drain 1 Only\n"
     ]
    },
    {
     "data": {
      "application/vnd.jupyter.widget-view+json": {
       "model_id": "b0e453affc2248089619062cebe8a7c0",
       "version_major": 2,
       "version_minor": 0
      },
      "text/plain": [
       "Running Simulation :   0%|          | 0/200 [00:00<?, ?it/s]"
      ]
     },
     "metadata": {},
     "output_type": "display_data"
    },
    {
     "name": "stdout",
     "output_type": "stream",
     "text": [
      "Target:0\n",
      "Final Target Drain Current: [4.459290321865864e-06]\n",
      "LimVal1:6.666666666666667e-06\n",
      "LimVal0:9.166666666666668e-06\n",
      "\n",
      "Drain 1 Only\n"
     ]
    },
    {
     "data": {
      "application/vnd.jupyter.widget-view+json": {
       "model_id": "51f55a36b730456f8b5b52290a9a62cf",
       "version_major": 2,
       "version_minor": 0
      },
      "text/plain": [
       "Running Simulation :   0%|          | 0/200 [00:00<?, ?it/s]"
      ]
     },
     "metadata": {},
     "output_type": "display_data"
    },
    {
     "name": "stdout",
     "output_type": "stream",
     "text": [
      "Target:0\n",
      "Final Target Drain Current: [9.25185114978376e-06]\n",
      "LimVal1:6.666666666666667e-06\n",
      "LimVal0:9.166666666666668e-06\n",
      "\n",
      "Drain 1 Only\n"
     ]
    },
    {
     "data": {
      "application/vnd.jupyter.widget-view+json": {
       "model_id": "8a1af5961c004589a5d507e459b151b4",
       "version_major": 2,
       "version_minor": 0
      },
      "text/plain": [
       "Running Simulation :   0%|          | 0/200 [00:00<?, ?it/s]"
      ]
     },
     "metadata": {},
     "output_type": "display_data"
    },
    {
     "name": "stdout",
     "output_type": "stream",
     "text": [
      "Target:0\n",
      "Final Target Drain Current: [9.229418008402903e-06]\n",
      "LimVal1:6.666666666666667e-06\n",
      "LimVal0:9.166666666666668e-06\n",
      "\n",
      "Drain 1 Only\n"
     ]
    },
    {
     "data": {
      "application/vnd.jupyter.widget-view+json": {
       "model_id": "acd1369d7c7b44c99ad636bf9b7d593c",
       "version_major": 2,
       "version_minor": 0
      },
      "text/plain": [
       "Running Simulation :   0%|          | 0/200 [00:00<?, ?it/s]"
      ]
     },
     "metadata": {},
     "output_type": "display_data"
    },
    {
     "name": "stdout",
     "output_type": "stream",
     "text": [
      "Target:0\n",
      "Final Target Drain Current: [9.251496841501904e-06]\n",
      "LimVal1:6.666666666666667e-06\n",
      "LimVal0:9.166666666666668e-06\n",
      "\n",
      "Drain 1 Only\n"
     ]
    },
    {
     "data": {
      "application/vnd.jupyter.widget-view+json": {
       "model_id": "d87839ecf3fd4bd29923c3553db4996d",
       "version_major": 2,
       "version_minor": 0
      },
      "text/plain": [
       "Running Simulation :   0%|          | 0/200 [00:00<?, ?it/s]"
      ]
     },
     "metadata": {},
     "output_type": "display_data"
    },
    {
     "name": "stdout",
     "output_type": "stream",
     "text": [
      "Target:0\n",
      "Final Target Drain Current: [9.209217778632499e-06]\n",
      "LimVal1:6.666666666666667e-06\n",
      "LimVal0:9.166666666666668e-06\n",
      "\n",
      "Both Drains\n"
     ]
    },
    {
     "data": {
      "application/vnd.jupyter.widget-view+json": {
       "model_id": "397236d65a7045e09a1b870c96a7d411",
       "version_major": 2,
       "version_minor": 0
      },
      "text/plain": [
       "Running Simulation :   0%|          | 0/200 [00:00<?, ?it/s]"
      ]
     },
     "metadata": {},
     "output_type": "display_data"
    },
    {
     "name": "stdout",
     "output_type": "stream",
     "text": [
      "Target:1\n",
      "Final Target Drain Current: [3.5467845265482635e-09, 7.749086691150534e-09]\n",
      "Target: 1.0\n",
      "Accuracy: 1\n",
      "LimVal1:6.666666666666667e-06\n",
      "LimVal0:9.166666666666668e-06\n",
      "\n",
      "Drain 1 Only\n"
     ]
    },
    {
     "data": {
      "application/vnd.jupyter.widget-view+json": {
       "model_id": "ae49e228f6464f19919c6ddd9fbee0fa",
       "version_major": 2,
       "version_minor": 0
      },
      "text/plain": [
       "Running Simulation :   0%|          | 0/200 [00:00<?, ?it/s]"
      ]
     },
     "metadata": {},
     "output_type": "display_data"
    },
    {
     "name": "stdout",
     "output_type": "stream",
     "text": [
      "Target:0\n",
      "Final Target Drain Current: [9.239018822346467e-06]\n",
      "LimVal1:6.666666666666667e-06\n",
      "LimVal0:9.166666666666668e-06\n",
      "\n",
      "Drain 2 Only\n"
     ]
    },
    {
     "data": {
      "application/vnd.jupyter.widget-view+json": {
       "model_id": "752080fe516a4e6db6da4542d5f00353",
       "version_major": 2,
       "version_minor": 0
      },
      "text/plain": [
       "Running Simulation :   0%|          | 0/200 [00:00<?, ?it/s]"
      ]
     },
     "metadata": {},
     "output_type": "display_data"
    },
    {
     "name": "stdout",
     "output_type": "stream",
     "text": [
      "Target:1\n",
      "Final Target Drain Current: [4.606632164132021e-06]\n",
      "LimVal1:6.666666666666667e-06\n",
      "LimVal0:9.166666666666668e-06\n",
      "\n",
      "Drain 2 Only\n"
     ]
    },
    {
     "data": {
      "application/vnd.jupyter.widget-view+json": {
       "model_id": "5707919a971a4d1bb59ca3862551e928",
       "version_major": 2,
       "version_minor": 0
      },
      "text/plain": [
       "Running Simulation :   0%|          | 0/200 [00:00<?, ?it/s]"
      ]
     },
     "metadata": {},
     "output_type": "display_data"
    },
    {
     "name": "stdout",
     "output_type": "stream",
     "text": [
      "Target:1\n",
      "Final Target Drain Current: [6.704725117220038e-06]\n",
      "LimVal1:6.666666666666667e-06\n",
      "LimVal0:9.166666666666668e-06\n",
      "\n",
      "Drain 2 Only\n"
     ]
    },
    {
     "data": {
      "application/vnd.jupyter.widget-view+json": {
       "model_id": "2b81c0766ee74d71a1d58e1c00d9353c",
       "version_major": 2,
       "version_minor": 0
      },
      "text/plain": [
       "Running Simulation :   0%|          | 0/200 [00:00<?, ?it/s]"
      ]
     },
     "metadata": {},
     "output_type": "display_data"
    },
    {
     "name": "stdout",
     "output_type": "stream",
     "text": [
      "Target:1\n",
      "Final Target Drain Current: [6.686303515308702e-06]\n",
      "LimVal1:6.666666666666667e-06\n",
      "LimVal0:9.166666666666668e-06\n",
      "\n",
      "Drain 2 Only\n"
     ]
    },
    {
     "data": {
      "application/vnd.jupyter.widget-view+json": {
       "model_id": "2d51a3c35e45411fa37340b68f561730",
       "version_major": 2,
       "version_minor": 0
      },
      "text/plain": [
       "Running Simulation :   0%|          | 0/200 [00:00<?, ?it/s]"
      ]
     },
     "metadata": {},
     "output_type": "display_data"
    },
    {
     "name": "stdout",
     "output_type": "stream",
     "text": [
      "Target:1\n",
      "Final Target Drain Current: [6.685084113617376e-06]\n",
      "LimVal1:6.666666666666667e-06\n",
      "LimVal0:9.166666666666668e-06\n",
      "\n",
      "Drain 2 Only\n"
     ]
    },
    {
     "data": {
      "application/vnd.jupyter.widget-view+json": {
       "model_id": "96994448b70447f580d1cae91a83044b",
       "version_major": 2,
       "version_minor": 0
      },
      "text/plain": [
       "Running Simulation :   0%|          | 0/200 [00:00<?, ?it/s]"
      ]
     },
     "metadata": {},
     "output_type": "display_data"
    },
    {
     "name": "stdout",
     "output_type": "stream",
     "text": [
      "Target:1\n",
      "Final Target Drain Current: [6.6785899063422855e-06]\n",
      "LimVal1:6.666666666666667e-06\n",
      "LimVal0:9.166666666666668e-06\n",
      "\n",
      "Both Drains\n"
     ]
    },
    {
     "data": {
      "application/vnd.jupyter.widget-view+json": {
       "model_id": "da3e112ca98d49478d61e1e1f66df891",
       "version_major": 2,
       "version_minor": 0
      },
      "text/plain": [
       "Running Simulation :   0%|          | 0/200 [00:00<?, ?it/s]"
      ]
     },
     "metadata": {},
     "output_type": "display_data"
    },
    {
     "name": "stdout",
     "output_type": "stream",
     "text": [
      "Target:0\n",
      "Final Target Drain Current: [3.6034998194729447e-09, 7.740400658262366e-09]\n",
      "Target: 0.0\n",
      "Accuracy: 0\n",
      "LimVal1:5.833333333333333e-06\n",
      "LimVal0:1.0833333333333335e-05\n",
      "\n",
      "Drain 1 Only\n"
     ]
    },
    {
     "data": {
      "application/vnd.jupyter.widget-view+json": {
       "model_id": "9ee450c7950a4f69bc08d8d89009d24b",
       "version_major": 2,
       "version_minor": 0
      },
      "text/plain": [
       "Running Simulation :   0%|          | 0/200 [00:00<?, ?it/s]"
      ]
     },
     "metadata": {},
     "output_type": "display_data"
    },
    {
     "name": "stdout",
     "output_type": "stream",
     "text": [
      "Target:0\n",
      "Final Target Drain Current: [6.054060706176123e-06]\n",
      "LimVal1:5.833333333333333e-06\n",
      "LimVal0:1.0833333333333335e-05\n",
      "\n",
      "Drain 2 Only\n"
     ]
    },
    {
     "data": {
      "application/vnd.jupyter.widget-view+json": {
       "model_id": "53d498680f98487191798c6568c15b56",
       "version_major": 2,
       "version_minor": 0
      },
      "text/plain": [
       "Running Simulation :   0%|          | 0/200 [00:00<?, ?it/s]"
      ]
     },
     "metadata": {},
     "output_type": "display_data"
    },
    {
     "name": "stdout",
     "output_type": "stream",
     "text": [
      "Target:1\n",
      "Final Target Drain Current: [6.028747663125493e-06]\n",
      "LimVal1:5.833333333333333e-06\n",
      "LimVal0:1.0833333333333335e-05\n",
      "\n",
      "Drain 2 Only\n"
     ]
    },
    {
     "data": {
      "application/vnd.jupyter.widget-view+json": {
       "model_id": "476c6690daa4438a9a0b4e0edb9d536e",
       "version_major": 2,
       "version_minor": 0
      },
      "text/plain": [
       "Running Simulation :   0%|          | 0/200 [00:00<?, ?it/s]"
      ]
     },
     "metadata": {},
     "output_type": "display_data"
    },
    {
     "name": "stdout",
     "output_type": "stream",
     "text": [
      "Target:1\n",
      "Final Target Drain Current: [5.838215514586186e-06]\n",
      "LimVal1:5.833333333333333e-06\n",
      "LimVal0:1.0833333333333335e-05\n",
      "\n",
      "Drain 2 Only\n"
     ]
    },
    {
     "data": {
      "application/vnd.jupyter.widget-view+json": {
       "model_id": "1c546f85133442a88581d42d5d56a2db",
       "version_major": 2,
       "version_minor": 0
      },
      "text/plain": [
       "Running Simulation :   0%|          | 0/200 [00:00<?, ?it/s]"
      ]
     },
     "metadata": {},
     "output_type": "display_data"
    },
    {
     "name": "stdout",
     "output_type": "stream",
     "text": [
      "Target:1\n",
      "Final Target Drain Current: [5.875437866542312e-06]\n",
      "LimVal1:5.833333333333333e-06\n",
      "LimVal0:1.0833333333333335e-05\n",
      "\n",
      "Drain 2 Only\n"
     ]
    },
    {
     "data": {
      "application/vnd.jupyter.widget-view+json": {
       "model_id": "771e69e0f7474b99b3ef28e62169932f",
       "version_major": 2,
       "version_minor": 0
      },
      "text/plain": [
       "Running Simulation :   0%|          | 0/200 [00:00<?, ?it/s]"
      ]
     },
     "metadata": {},
     "output_type": "display_data"
    },
    {
     "name": "stdout",
     "output_type": "stream",
     "text": [
      "Target:1\n",
      "Final Target Drain Current: [5.856794702586957e-06]\n",
      "LimVal1:5.833333333333333e-06\n",
      "LimVal0:1.0833333333333335e-05\n",
      "\n",
      "Drain 2 Only\n"
     ]
    },
    {
     "data": {
      "application/vnd.jupyter.widget-view+json": {
       "model_id": "37acb3ff27684e13936b10ba1e2114dd",
       "version_major": 2,
       "version_minor": 0
      },
      "text/plain": [
       "Running Simulation :   0%|          | 0/200 [00:00<?, ?it/s]"
      ]
     },
     "metadata": {},
     "output_type": "display_data"
    },
    {
     "name": "stdout",
     "output_type": "stream",
     "text": [
      "Target:1\n",
      "Final Target Drain Current: [5.969227346334931e-06]\n",
      "LimVal1:5.833333333333333e-06\n",
      "LimVal0:1.0833333333333335e-05\n",
      "\n",
      "Both Drains\n"
     ]
    },
    {
     "data": {
      "application/vnd.jupyter.widget-view+json": {
       "model_id": "4a8f9ba2b536428ebb28c8ac336801c9",
       "version_major": 2,
       "version_minor": 0
      },
      "text/plain": [
       "Running Simulation :   0%|          | 0/200 [00:00<?, ?it/s]"
      ]
     },
     "metadata": {},
     "output_type": "display_data"
    },
    {
     "name": "stdout",
     "output_type": "stream",
     "text": [
      "Target:0\n",
      "Final Target Drain Current: [1.924229223565767e-09, 1.675906798915678e-08]\n",
      "Target: 0.0\n",
      "Accuracy: 0\n",
      "LimVal1:4.9999999999999996e-06\n",
      "LimVal0:1.2500000000000002e-05\n",
      "\n",
      "Drain 2 Only\n"
     ]
    },
    {
     "data": {
      "application/vnd.jupyter.widget-view+json": {
       "model_id": "fb2818be5ead4242b5ccfddee032c5ec",
       "version_major": 2,
       "version_minor": 0
      },
      "text/plain": [
       "Running Simulation :   0%|          | 0/200 [00:00<?, ?it/s]"
      ]
     },
     "metadata": {},
     "output_type": "display_data"
    },
    {
     "name": "stdout",
     "output_type": "stream",
     "text": [
      "Target:1\n",
      "Final Target Drain Current: [5.0215086078808945e-06]\n",
      "LimVal1:4.9999999999999996e-06\n",
      "LimVal0:1.2500000000000002e-05\n",
      "\n",
      "Both Drains\n"
     ]
    },
    {
     "data": {
      "application/vnd.jupyter.widget-view+json": {
       "model_id": "26b11ff6fc55452bbe776d1bbdaa9b62",
       "version_major": 2,
       "version_minor": 0
      },
      "text/plain": [
       "Running Simulation :   0%|          | 0/200 [00:00<?, ?it/s]"
      ]
     },
     "metadata": {},
     "output_type": "display_data"
    },
    {
     "name": "stdout",
     "output_type": "stream",
     "text": [
      "Target:0\n",
      "Final Target Drain Current: [1.7529736436825348e-09, 2.339026959193889e-08]\n",
      "Target: 0.0\n",
      "Accuracy: 0\n",
      "LimVal1:4.166666666666666e-06\n",
      "LimVal0:1.416666666666667e-05\n",
      "\n",
      "Drain 1 Only\n"
     ]
    },
    {
     "data": {
      "application/vnd.jupyter.widget-view+json": {
       "model_id": "1295662c579b48949b692f048708a2f5",
       "version_major": 2,
       "version_minor": 0
      },
      "text/plain": [
       "Running Simulation :   0%|          | 0/200 [00:00<?, ?it/s]"
      ]
     },
     "metadata": {},
     "output_type": "display_data"
    },
    {
     "name": "stdout",
     "output_type": "stream",
     "text": [
      "Target:0\n",
      "Final Target Drain Current: [4.557572088210222e-06]\n",
      "LimVal1:4.166666666666666e-06\n",
      "LimVal0:1.416666666666667e-05\n",
      "\n",
      "Drain 1 Only\n"
     ]
    },
    {
     "data": {
      "application/vnd.jupyter.widget-view+json": {
       "model_id": "ab9fda77ab4842638d0fc3aa15595d40",
       "version_major": 2,
       "version_minor": 0
      },
      "text/plain": [
       "Running Simulation :   0%|          | 0/200 [00:00<?, ?it/s]"
      ]
     },
     "metadata": {},
     "output_type": "display_data"
    },
    {
     "name": "stdout",
     "output_type": "stream",
     "text": [
      "Target:0\n",
      "Final Target Drain Current: [1.0236356753075811e-05]\n",
      "LimVal1:4.166666666666666e-06\n",
      "LimVal0:1.416666666666667e-05\n",
      "\n",
      "Drain 1 Only\n"
     ]
    },
    {
     "data": {
      "application/vnd.jupyter.widget-view+json": {
       "model_id": "4f74d427529e43928c872e7d37be171e",
       "version_major": 2,
       "version_minor": 0
      },
      "text/plain": [
       "Running Simulation :   0%|          | 0/200 [00:00<?, ?it/s]"
      ]
     },
     "metadata": {},
     "output_type": "display_data"
    },
    {
     "name": "stdout",
     "output_type": "stream",
     "text": [
      "Target:0\n",
      "Final Target Drain Current: [9.950156853514646e-06]\n",
      "LimVal1:4.166666666666666e-06\n",
      "LimVal0:1.416666666666667e-05\n",
      "\n",
      "Drain 1 Only\n"
     ]
    },
    {
     "data": {
      "application/vnd.jupyter.widget-view+json": {
       "model_id": "00ab8b6b09074d6bb80b8190a2db7ef8",
       "version_major": 2,
       "version_minor": 0
      },
      "text/plain": [
       "Running Simulation :   0%|          | 0/200 [00:00<?, ?it/s]"
      ]
     },
     "metadata": {},
     "output_type": "display_data"
    },
    {
     "name": "stdout",
     "output_type": "stream",
     "text": [
      "Target:0\n",
      "Final Target Drain Current: [1.000344538737547e-05]\n",
      "LimVal1:4.166666666666666e-06\n",
      "LimVal0:1.416666666666667e-05\n",
      "\n",
      "Both Drains\n"
     ]
    },
    {
     "data": {
      "application/vnd.jupyter.widget-view+json": {
       "model_id": "75a26442e91f4f0bb17f0b15bb1644a8",
       "version_major": 2,
       "version_minor": 0
      },
      "text/plain": [
       "Running Simulation :   0%|          | 0/200 [00:00<?, ?it/s]"
      ]
     },
     "metadata": {},
     "output_type": "display_data"
    },
    {
     "name": "stdout",
     "output_type": "stream",
     "text": [
      "Target:1\n",
      "Final Target Drain Current: [3.7217648262006055e-07, 7.010633285595976e-09]\n",
      "Target: 1.0\n",
      "Accuracy: 0\n",
      "LimVal1:5.833333333333333e-06\n",
      "LimVal0:1.3333333333333337e-05\n",
      "\n",
      "Drain 2 Only\n"
     ]
    },
    {
     "data": {
      "application/vnd.jupyter.widget-view+json": {
       "model_id": "44475d7c821044f3abf6e52361caf726",
       "version_major": 2,
       "version_minor": 0
      },
      "text/plain": [
       "Running Simulation :   0%|          | 0/200 [00:00<?, ?it/s]"
      ]
     },
     "metadata": {},
     "output_type": "display_data"
    },
    {
     "name": "stdout",
     "output_type": "stream",
     "text": [
      "Target:1\n",
      "Final Target Drain Current: [5.959225568714449e-06]\n",
      "LimVal1:5.833333333333333e-06\n",
      "LimVal0:1.3333333333333337e-05\n",
      "\n",
      "Drain 1 Only\n"
     ]
    },
    {
     "data": {
      "application/vnd.jupyter.widget-view+json": {
       "model_id": "7193185374ce4f279d341a9c5c4cbb40",
       "version_major": 2,
       "version_minor": 0
      },
      "text/plain": [
       "Running Simulation :   0%|          | 0/200 [00:00<?, ?it/s]"
      ]
     },
     "metadata": {},
     "output_type": "display_data"
    },
    {
     "name": "stdout",
     "output_type": "stream",
     "text": [
      "Target:0\n",
      "Final Target Drain Current: [1.0034355998113217e-05]\n",
      "LimVal1:5.833333333333333e-06\n",
      "LimVal0:1.3333333333333337e-05\n",
      "\n",
      "Drain 1 Only\n"
     ]
    },
    {
     "data": {
      "application/vnd.jupyter.widget-view+json": {
       "model_id": "44c79a594b58463c86b57823eeb48b5c",
       "version_major": 2,
       "version_minor": 0
      },
      "text/plain": [
       "Running Simulation :   0%|          | 0/200 [00:00<?, ?it/s]"
      ]
     },
     "metadata": {},
     "output_type": "display_data"
    },
    {
     "name": "stdout",
     "output_type": "stream",
     "text": [
      "Target:0\n",
      "Final Target Drain Current: [9.980635955546948e-06]\n",
      "LimVal1:5.833333333333333e-06\n",
      "LimVal0:1.3333333333333337e-05\n",
      "\n",
      "Drain 1 Only\n"
     ]
    },
    {
     "data": {
      "application/vnd.jupyter.widget-view+json": {
       "model_id": "56e0d8b8f25e456bbd2772fa646fe403",
       "version_major": 2,
       "version_minor": 0
      },
      "text/plain": [
       "Running Simulation :   0%|          | 0/200 [00:00<?, ?it/s]"
      ]
     },
     "metadata": {},
     "output_type": "display_data"
    },
    {
     "name": "stdout",
     "output_type": "stream",
     "text": [
      "Target:0\n",
      "Final Target Drain Current: [9.990924254585797e-06]\n",
      "LimVal1:5.833333333333333e-06\n",
      "LimVal0:1.3333333333333337e-05\n",
      "\n",
      "Drain 1 Only\n"
     ]
    },
    {
     "data": {
      "application/vnd.jupyter.widget-view+json": {
       "model_id": "67619674033f4e29893304212b90fd77",
       "version_major": 2,
       "version_minor": 0
      },
      "text/plain": [
       "Running Simulation :   0%|          | 0/200 [00:00<?, ?it/s]"
      ]
     },
     "metadata": {},
     "output_type": "display_data"
    },
    {
     "name": "stdout",
     "output_type": "stream",
     "text": [
      "Target:0\n",
      "Final Target Drain Current: [1.0000709650398674e-05]\n",
      "LimVal1:5.833333333333333e-06\n",
      "LimVal0:1.3333333333333337e-05\n",
      "\n",
      "Drain 1 Only\n"
     ]
    },
    {
     "data": {
      "application/vnd.jupyter.widget-view+json": {
       "model_id": "407f0fe4db6d4a44b69252465d62a74c",
       "version_major": 2,
       "version_minor": 0
      },
      "text/plain": [
       "Running Simulation :   0%|          | 0/200 [00:00<?, ?it/s]"
      ]
     },
     "metadata": {},
     "output_type": "display_data"
    },
    {
     "name": "stdout",
     "output_type": "stream",
     "text": [
      "Target:0\n",
      "Final Target Drain Current: [1.0001485193720109e-05]\n",
      "LimVal1:5.833333333333333e-06\n",
      "LimVal0:1.3333333333333337e-05\n",
      "\n",
      "Both Drains\n"
     ]
    },
    {
     "data": {
      "application/vnd.jupyter.widget-view+json": {
       "model_id": "ba9004523a7e49e693e5239b2f4f2911",
       "version_major": 2,
       "version_minor": 0
      },
      "text/plain": [
       "Running Simulation :   0%|          | 0/200 [00:00<?, ?it/s]"
      ]
     },
     "metadata": {},
     "output_type": "display_data"
    },
    {
     "name": "stdout",
     "output_type": "stream",
     "text": [
      "Target:1\n",
      "Final Target Drain Current: [4.908631562043667e-07, 1.2116153816258162e-08]\n",
      "Target: 1.0\n",
      "Accuracy: 0\n",
      "LimVal1:7.5e-06\n",
      "LimVal0:1.2500000000000004e-05\n",
      "\n",
      "Drain 1 Only\n"
     ]
    },
    {
     "data": {
      "application/vnd.jupyter.widget-view+json": {
       "model_id": "ba1545dabfe94d30978745400bfb6e46",
       "version_major": 2,
       "version_minor": 0
      },
      "text/plain": [
       "Running Simulation :   0%|          | 0/200 [00:00<?, ?it/s]"
      ]
     },
     "metadata": {},
     "output_type": "display_data"
    },
    {
     "name": "stdout",
     "output_type": "stream",
     "text": [
      "Target:0\n",
      "Final Target Drain Current: [1.000792189063949e-05]\n",
      "LimVal1:7.5e-06\n",
      "LimVal0:1.2500000000000004e-05\n",
      "\n",
      "Drain 2 Only\n"
     ]
    },
    {
     "data": {
      "application/vnd.jupyter.widget-view+json": {
       "model_id": "5eabe92661044ea9b9634937a315e4ab",
       "version_major": 2,
       "version_minor": 0
      },
      "text/plain": [
       "Running Simulation :   0%|          | 0/200 [00:00<?, ?it/s]"
      ]
     },
     "metadata": {},
     "output_type": "display_data"
    },
    {
     "name": "stdout",
     "output_type": "stream",
     "text": [
      "Target:1\n",
      "Final Target Drain Current: [7.540045782089127e-06]\n",
      "LimVal1:7.5e-06\n",
      "LimVal0:1.2500000000000004e-05\n",
      "\n",
      "Drain 2 Only\n"
     ]
    },
    {
     "data": {
      "application/vnd.jupyter.widget-view+json": {
       "model_id": "34a87a37ac474431b0dc2177a85619cb",
       "version_major": 2,
       "version_minor": 0
      },
      "text/plain": [
       "Running Simulation :   0%|          | 0/200 [00:00<?, ?it/s]"
      ]
     },
     "metadata": {},
     "output_type": "display_data"
    },
    {
     "name": "stdout",
     "output_type": "stream",
     "text": [
      "Target:1\n",
      "Final Target Drain Current: [7.539304178868627e-06]\n",
      "LimVal1:7.5e-06\n",
      "LimVal0:1.2500000000000004e-05\n",
      "\n",
      "Drain 2 Only\n"
     ]
    },
    {
     "data": {
      "application/vnd.jupyter.widget-view+json": {
       "model_id": "f7fd510883c74746aaf3b3a23b4a8601",
       "version_major": 2,
       "version_minor": 0
      },
      "text/plain": [
       "Running Simulation :   0%|          | 0/200 [00:00<?, ?it/s]"
      ]
     },
     "metadata": {},
     "output_type": "display_data"
    },
    {
     "name": "stdout",
     "output_type": "stream",
     "text": [
      "Target:1\n",
      "Final Target Drain Current: [7.5089798703111114e-06]\n",
      "LimVal1:7.5e-06\n",
      "LimVal0:1.2500000000000004e-05\n",
      "\n",
      "Drain 2 Only\n"
     ]
    },
    {
     "data": {
      "application/vnd.jupyter.widget-view+json": {
       "model_id": "a010346a4cce48dc93bc4e5f8583706a",
       "version_major": 2,
       "version_minor": 0
      },
      "text/plain": [
       "Running Simulation :   0%|          | 0/200 [00:00<?, ?it/s]"
      ]
     },
     "metadata": {},
     "output_type": "display_data"
    },
    {
     "name": "stdout",
     "output_type": "stream",
     "text": [
      "Target:1\n",
      "Final Target Drain Current: [7.538113544306504e-06]\n",
      "LimVal1:7.5e-06\n",
      "LimVal0:1.2500000000000004e-05\n",
      "\n",
      "Drain 2 Only\n"
     ]
    },
    {
     "data": {
      "application/vnd.jupyter.widget-view+json": {
       "model_id": "cdf5284495a04b829548151b66f1b757",
       "version_major": 2,
       "version_minor": 0
      },
      "text/plain": [
       "Running Simulation :   0%|          | 0/200 [00:00<?, ?it/s]"
      ]
     },
     "metadata": {},
     "output_type": "display_data"
    },
    {
     "name": "stdout",
     "output_type": "stream",
     "text": [
      "Target:1\n",
      "Final Target Drain Current: [7.580871217713473e-06]\n",
      "LimVal1:7.5e-06\n",
      "LimVal0:1.2500000000000004e-05\n",
      "\n",
      "Both Drains\n"
     ]
    },
    {
     "data": {
      "application/vnd.jupyter.widget-view+json": {
       "model_id": "a83b7b850ec74fc08128a0015c97ed5d",
       "version_major": 2,
       "version_minor": 0
      },
      "text/plain": [
       "Running Simulation :   0%|          | 0/200 [00:00<?, ?it/s]"
      ]
     },
     "metadata": {},
     "output_type": "display_data"
    },
    {
     "name": "stdout",
     "output_type": "stream",
     "text": [
      "Target:0\n",
      "Final Target Drain Current: [6.190034873298683e-07, 8.155563382269971e-07]\n",
      "Target: 0.0\n",
      "Accuracy: 1\n",
      "LimVal1:7.5e-06\n",
      "LimVal0:1.2500000000000004e-05\n",
      "\n",
      "Drain 1 Only\n"
     ]
    },
    {
     "data": {
      "application/vnd.jupyter.widget-view+json": {
       "model_id": "067d118d60724fe2b658b35c9e9e98f1",
       "version_major": 2,
       "version_minor": 0
      },
      "text/plain": [
       "Running Simulation :   0%|          | 0/200 [00:00<?, ?it/s]"
      ]
     },
     "metadata": {},
     "output_type": "display_data"
    },
    {
     "name": "stdout",
     "output_type": "stream",
     "text": [
      "Target:0\n",
      "Final Target Drain Current: [1.0070850548847296e-05]\n",
      "LimVal1:7.5e-06\n",
      "LimVal0:1.2500000000000004e-05\n",
      "\n",
      "Drain 2 Only\n"
     ]
    },
    {
     "data": {
      "application/vnd.jupyter.widget-view+json": {
       "model_id": "1dd39298e7554e83a4f223489ebd7cca",
       "version_major": 2,
       "version_minor": 0
      },
      "text/plain": [
       "Running Simulation :   0%|          | 0/200 [00:00<?, ?it/s]"
      ]
     },
     "metadata": {},
     "output_type": "display_data"
    },
    {
     "name": "stdout",
     "output_type": "stream",
     "text": [
      "Target:1\n",
      "Final Target Drain Current: [7.510369442078801e-06]\n",
      "LimVal1:7.5e-06\n",
      "LimVal0:1.2500000000000004e-05\n",
      "\n",
      "Drain 2 Only\n"
     ]
    },
    {
     "data": {
      "application/vnd.jupyter.widget-view+json": {
       "model_id": "d9680b5c041d487d89931ff817ac05a9",
       "version_major": 2,
       "version_minor": 0
      },
      "text/plain": [
       "Running Simulation :   0%|          | 0/200 [00:00<?, ?it/s]"
      ]
     },
     "metadata": {},
     "output_type": "display_data"
    },
    {
     "name": "stdout",
     "output_type": "stream",
     "text": [
      "Target:1\n",
      "Final Target Drain Current: [7.548097214260953e-06]\n",
      "LimVal1:7.5e-06\n",
      "LimVal0:1.2500000000000004e-05\n",
      "\n",
      "Drain 2 Only\n"
     ]
    },
    {
     "data": {
      "application/vnd.jupyter.widget-view+json": {
       "model_id": "3b427966eb1d499fadde2d69f4327d9e",
       "version_major": 2,
       "version_minor": 0
      },
      "text/plain": [
       "Running Simulation :   0%|          | 0/200 [00:00<?, ?it/s]"
      ]
     },
     "metadata": {},
     "output_type": "display_data"
    },
    {
     "name": "stdout",
     "output_type": "stream",
     "text": [
      "Target:1\n",
      "Final Target Drain Current: [7.770398568761547e-06]\n",
      "LimVal1:7.5e-06\n",
      "LimVal0:1.2500000000000004e-05\n",
      "\n",
      "Drain 2 Only\n"
     ]
    },
    {
     "data": {
      "application/vnd.jupyter.widget-view+json": {
       "model_id": "c352a2128d6140bfabb003138d310523",
       "version_major": 2,
       "version_minor": 0
      },
      "text/plain": [
       "Running Simulation :   0%|          | 0/200 [00:00<?, ?it/s]"
      ]
     },
     "metadata": {},
     "output_type": "display_data"
    },
    {
     "name": "stdout",
     "output_type": "stream",
     "text": [
      "Target:1\n",
      "Final Target Drain Current: [7.509538441084734e-06]\n",
      "LimVal1:7.5e-06\n",
      "LimVal0:1.2500000000000004e-05\n",
      "\n",
      "Drain 2 Only\n"
     ]
    },
    {
     "data": {
      "application/vnd.jupyter.widget-view+json": {
       "model_id": "dcd6b5e555ee403583ce44e5a2a5fed4",
       "version_major": 2,
       "version_minor": 0
      },
      "text/plain": [
       "Running Simulation :   0%|          | 0/200 [00:00<?, ?it/s]"
      ]
     },
     "metadata": {},
     "output_type": "display_data"
    },
    {
     "name": "stdout",
     "output_type": "stream",
     "text": [
      "Target:1\n",
      "Final Target Drain Current: [7.644824629320363e-06]\n",
      "LimVal1:7.5e-06\n",
      "LimVal0:1.2500000000000004e-05\n",
      "\n",
      "Both Drains\n"
     ]
    },
    {
     "data": {
      "application/vnd.jupyter.widget-view+json": {
       "model_id": "6d5dc3d1593244499d37e89b66550f38",
       "version_major": 2,
       "version_minor": 0
      },
      "text/plain": [
       "Running Simulation :   0%|          | 0/200 [00:00<?, ?it/s]"
      ]
     },
     "metadata": {},
     "output_type": "display_data"
    },
    {
     "name": "stdout",
     "output_type": "stream",
     "text": [
      "Target:0\n",
      "Final Target Drain Current: [1.6060329610138818e-08, 2.8024373990918313e-07]\n",
      "Target: 0.0\n",
      "Accuracy: 0\n",
      "LimVal1:6.666666666666667e-06\n",
      "LimVal0:1.4166666666666671e-05\n",
      "\n",
      "Drain 1 Only\n"
     ]
    },
    {
     "data": {
      "application/vnd.jupyter.widget-view+json": {
       "model_id": "23bf8c9b0017495e9821f3ba138f55c2",
       "version_major": 2,
       "version_minor": 0
      },
      "text/plain": [
       "Running Simulation :   0%|          | 0/200 [00:00<?, ?it/s]"
      ]
     },
     "metadata": {},
     "output_type": "display_data"
    },
    {
     "name": "stdout",
     "output_type": "stream",
     "text": [
      "Target:0\n",
      "Final Target Drain Current: [1.015663415818221e-05]\n",
      "LimVal1:6.666666666666667e-06\n",
      "LimVal0:1.4166666666666671e-05\n",
      "\n",
      "Drain 2 Only\n"
     ]
    },
    {
     "data": {
      "application/vnd.jupyter.widget-view+json": {
       "model_id": "4ccdbc48fc6a4902bc842567e1ca6071",
       "version_major": 2,
       "version_minor": 0
      },
      "text/plain": [
       "Running Simulation :   0%|          | 0/200 [00:00<?, ?it/s]"
      ]
     },
     "metadata": {},
     "output_type": "display_data"
    },
    {
     "name": "stdout",
     "output_type": "stream",
     "text": [
      "Target:1\n",
      "Final Target Drain Current: [6.774023795752642e-06]\n",
      "LimVal1:6.666666666666667e-06\n",
      "LimVal0:1.4166666666666671e-05\n",
      "\n",
      "Drain 2 Only\n"
     ]
    },
    {
     "data": {
      "application/vnd.jupyter.widget-view+json": {
       "model_id": "7893a86e85ed463789ebbd000f4e62f4",
       "version_major": 2,
       "version_minor": 0
      },
      "text/plain": [
       "Running Simulation :   0%|          | 0/200 [00:00<?, ?it/s]"
      ]
     },
     "metadata": {},
     "output_type": "display_data"
    },
    {
     "name": "stdout",
     "output_type": "stream",
     "text": [
      "Target:1\n",
      "Final Target Drain Current: [6.793823193848306e-06]\n",
      "LimVal1:6.666666666666667e-06\n",
      "LimVal0:1.4166666666666671e-05\n",
      "\n",
      "Drain 2 Only\n"
     ]
    },
    {
     "data": {
      "application/vnd.jupyter.widget-view+json": {
       "model_id": "11151a31cb054a19b2baa03ee291b900",
       "version_major": 2,
       "version_minor": 0
      },
      "text/plain": [
       "Running Simulation :   0%|          | 0/200 [00:00<?, ?it/s]"
      ]
     },
     "metadata": {},
     "output_type": "display_data"
    },
    {
     "name": "stdout",
     "output_type": "stream",
     "text": [
      "Target:1\n",
      "Final Target Drain Current: [6.888339514987885e-06]\n",
      "LimVal1:6.666666666666667e-06\n",
      "LimVal0:1.4166666666666671e-05\n",
      "\n",
      "Drain 2 Only\n"
     ]
    },
    {
     "data": {
      "application/vnd.jupyter.widget-view+json": {
       "model_id": "184aece03a4040af843680f1ebc04efc",
       "version_major": 2,
       "version_minor": 0
      },
      "text/plain": [
       "Running Simulation :   0%|          | 0/200 [00:00<?, ?it/s]"
      ]
     },
     "metadata": {},
     "output_type": "display_data"
    },
    {
     "name": "stdout",
     "output_type": "stream",
     "text": [
      "Target:1\n",
      "Final Target Drain Current: [6.677810676179679e-06]\n",
      "LimVal1:6.666666666666667e-06\n",
      "LimVal0:1.4166666666666671e-05\n",
      "\n",
      "Drain 2 Only\n"
     ]
    },
    {
     "data": {
      "application/vnd.jupyter.widget-view+json": {
       "model_id": "4891cf526b35404caa67a96726bee0f8",
       "version_major": 2,
       "version_minor": 0
      },
      "text/plain": [
       "Running Simulation :   0%|          | 0/200 [00:00<?, ?it/s]"
      ]
     },
     "metadata": {},
     "output_type": "display_data"
    },
    {
     "name": "stdout",
     "output_type": "stream",
     "text": [
      "Target:1\n",
      "Final Target Drain Current: [6.760092915999367e-06]\n",
      "LimVal1:6.666666666666667e-06\n",
      "LimVal0:1.4166666666666671e-05\n",
      "\n",
      "Both Drains\n"
     ]
    },
    {
     "data": {
      "application/vnd.jupyter.widget-view+json": {
       "model_id": "1e71500b6e454f5583f69229000cddbf",
       "version_major": 2,
       "version_minor": 0
      },
      "text/plain": [
       "Running Simulation :   0%|          | 0/200 [00:00<?, ?it/s]"
      ]
     },
     "metadata": {},
     "output_type": "display_data"
    },
    {
     "name": "stdout",
     "output_type": "stream",
     "text": [
      "Target:0\n",
      "Final Target Drain Current: [8.765901642487718e-09, 1.0591831401424792e-07]\n",
      "Target: 0.0\n",
      "Accuracy: 0\n",
      "LimVal1:5.833333333333333e-06\n",
      "LimVal0:1.5833333333333336e-05\n",
      "\n",
      "Drain 2 Only\n"
     ]
    },
    {
     "data": {
      "application/vnd.jupyter.widget-view+json": {
       "model_id": "8bf872beb77e4f909ad26620dde82fc3",
       "version_major": 2,
       "version_minor": 0
      },
      "text/plain": [
       "Running Simulation :   0%|          | 0/200 [00:00<?, ?it/s]"
      ]
     },
     "metadata": {},
     "output_type": "display_data"
    },
    {
     "name": "stdout",
     "output_type": "stream",
     "text": [
      "Target:1\n",
      "Final Target Drain Current: [5.925416349216967e-06]\n",
      "LimVal1:5.833333333333333e-06\n",
      "LimVal0:1.5833333333333336e-05\n",
      "\n",
      "Both Drains\n"
     ]
    },
    {
     "data": {
      "application/vnd.jupyter.widget-view+json": {
       "model_id": "353d6a58aa4f42c8ab99ea604d895e06",
       "version_major": 2,
       "version_minor": 0
      },
      "text/plain": [
       "Running Simulation :   0%|          | 0/200 [00:00<?, ?it/s]"
      ]
     },
     "metadata": {},
     "output_type": "display_data"
    },
    {
     "name": "stdout",
     "output_type": "stream",
     "text": [
      "Target:0\n",
      "Final Target Drain Current: [3.348998622025904e-09, 4.2323415718861545e-07]\n",
      "Target: 0.0\n",
      "Accuracy: 0\n",
      "LimVal1:4.9999999999999996e-06\n",
      "LimVal0:1.7500000000000002e-05\n",
      "\n",
      "Drain 1 Only\n"
     ]
    },
    {
     "data": {
      "application/vnd.jupyter.widget-view+json": {
       "model_id": "5e0c713b182e4e4387acef87b662ee51",
       "version_major": 2,
       "version_minor": 0
      },
      "text/plain": [
       "Running Simulation :   0%|          | 0/200 [00:00<?, ?it/s]"
      ]
     },
     "metadata": {},
     "output_type": "display_data"
    },
    {
     "name": "stdout",
     "output_type": "stream",
     "text": [
      "Target:0\n",
      "Final Target Drain Current: [7.07394173518096e-06]\n",
      "LimVal1:4.9999999999999996e-06\n",
      "LimVal0:1.7500000000000002e-05\n",
      "\n",
      "Drain 1 Only\n"
     ]
    },
    {
     "data": {
      "application/vnd.jupyter.widget-view+json": {
       "model_id": "fa3b2d6899b54df39e6e8986ceaeddb3",
       "version_major": 2,
       "version_minor": 0
      },
      "text/plain": [
       "Running Simulation :   0%|          | 0/200 [00:00<?, ?it/s]"
      ]
     },
     "metadata": {},
     "output_type": "display_data"
    },
    {
     "name": "stdout",
     "output_type": "stream",
     "text": [
      "Target:0\n",
      "Final Target Drain Current: [1.0312700494301132e-05]\n",
      "LimVal1:4.9999999999999996e-06\n",
      "LimVal0:1.7500000000000002e-05\n",
      "\n",
      "Drain 1 Only\n"
     ]
    },
    {
     "data": {
      "application/vnd.jupyter.widget-view+json": {
       "model_id": "6e1592ba88fe4ca4b33b2f900a90106d",
       "version_major": 2,
       "version_minor": 0
      },
      "text/plain": [
       "Running Simulation :   0%|          | 0/200 [00:00<?, ?it/s]"
      ]
     },
     "metadata": {},
     "output_type": "display_data"
    },
    {
     "name": "stdout",
     "output_type": "stream",
     "text": [
      "Target:0\n",
      "Final Target Drain Current: [9.953099636644192e-06]\n",
      "LimVal1:4.9999999999999996e-06\n",
      "LimVal0:1.7500000000000002e-05\n",
      "\n",
      "Drain 1 Only\n"
     ]
    },
    {
     "data": {
      "application/vnd.jupyter.widget-view+json": {
       "model_id": "612908dadf09408590b862e33c220641",
       "version_major": 2,
       "version_minor": 0
      },
      "text/plain": [
       "Running Simulation :   0%|          | 0/200 [00:00<?, ?it/s]"
      ]
     },
     "metadata": {},
     "output_type": "display_data"
    },
    {
     "name": "stdout",
     "output_type": "stream",
     "text": [
      "Target:0\n",
      "Final Target Drain Current: [1.0010603907971405e-05]\n",
      "LimVal1:4.9999999999999996e-06\n",
      "LimVal0:1.7500000000000002e-05\n",
      "\n",
      "Both Drains\n"
     ]
    },
    {
     "data": {
      "application/vnd.jupyter.widget-view+json": {
       "model_id": "ea5a5989f3814c708a4bb487623fa802",
       "version_major": 2,
       "version_minor": 0
      },
      "text/plain": [
       "Running Simulation :   0%|          | 0/200 [00:00<?, ?it/s]"
      ]
     },
     "metadata": {},
     "output_type": "display_data"
    },
    {
     "name": "stdout",
     "output_type": "stream",
     "text": [
      "Target:1\n",
      "Final Target Drain Current: [4.83234541072737e-07, 3.936724120497663e-09]\n",
      "Target: 1.0\n",
      "Accuracy: 0\n",
      "LimVal1:6.666666666666667e-06\n",
      "LimVal0:1.6666666666666667e-05\n",
      "\n",
      "Drain 2 Only\n"
     ]
    },
    {
     "data": {
      "application/vnd.jupyter.widget-view+json": {
       "model_id": "17e2518f68bf4c3fa4767f3e3fe195ed",
       "version_major": 2,
       "version_minor": 0
      },
      "text/plain": [
       "Running Simulation :   0%|          | 0/200 [00:00<?, ?it/s]"
      ]
     },
     "metadata": {},
     "output_type": "display_data"
    },
    {
     "name": "stdout",
     "output_type": "stream",
     "text": [
      "Target:1\n",
      "Final Target Drain Current: [6.690196604523872e-06]\n",
      "LimVal1:6.666666666666667e-06\n",
      "LimVal0:1.6666666666666667e-05\n",
      "\n",
      "Drain 1 Only\n"
     ]
    },
    {
     "data": {
      "application/vnd.jupyter.widget-view+json": {
       "model_id": "9773e574d15c4c58968d1d6e30df6e0a",
       "version_major": 2,
       "version_minor": 0
      },
      "text/plain": [
       "Running Simulation :   0%|          | 0/200 [00:00<?, ?it/s]"
      ]
     },
     "metadata": {},
     "output_type": "display_data"
    },
    {
     "name": "stdout",
     "output_type": "stream",
     "text": [
      "Target:0\n",
      "Final Target Drain Current: [1.001340575166906e-05]\n",
      "LimVal1:6.666666666666667e-06\n",
      "LimVal0:1.6666666666666667e-05\n",
      "\n",
      "Drain 1 Only\n"
     ]
    },
    {
     "data": {
      "application/vnd.jupyter.widget-view+json": {
       "model_id": "8d6fdab185a64469b0b528da52091cd6",
       "version_major": 2,
       "version_minor": 0
      },
      "text/plain": [
       "Running Simulation :   0%|          | 0/200 [00:00<?, ?it/s]"
      ]
     },
     "metadata": {},
     "output_type": "display_data"
    },
    {
     "name": "stdout",
     "output_type": "stream",
     "text": [
      "Target:0\n",
      "Final Target Drain Current: [9.997916851936551e-06]\n",
      "LimVal1:6.666666666666667e-06\n",
      "LimVal0:1.6666666666666667e-05\n",
      "\n",
      "Drain 1 Only\n"
     ]
    },
    {
     "data": {
      "application/vnd.jupyter.widget-view+json": {
       "model_id": "662d2b371c0d47d38a2debfe3dfee7f8",
       "version_major": 2,
       "version_minor": 0
      },
      "text/plain": [
       "Running Simulation :   0%|          | 0/200 [00:00<?, ?it/s]"
      ]
     },
     "metadata": {},
     "output_type": "display_data"
    },
    {
     "name": "stdout",
     "output_type": "stream",
     "text": [
      "Target:0\n",
      "Final Target Drain Current: [1.00032476414825e-05]\n",
      "LimVal1:6.666666666666667e-06\n",
      "LimVal0:1.6666666666666667e-05\n",
      "\n",
      "Drain 1 Only\n"
     ]
    },
    {
     "data": {
      "application/vnd.jupyter.widget-view+json": {
       "model_id": "407b9105cd854816b4109a493777e208",
       "version_major": 2,
       "version_minor": 0
      },
      "text/plain": [
       "Running Simulation :   0%|          | 0/200 [00:00<?, ?it/s]"
      ]
     },
     "metadata": {},
     "output_type": "display_data"
    },
    {
     "name": "stdout",
     "output_type": "stream",
     "text": [
      "Target:0\n",
      "Final Target Drain Current: [1.0005667297728796e-05]\n",
      "LimVal1:6.666666666666667e-06\n",
      "LimVal0:1.6666666666666667e-05\n",
      "\n",
      "Drain 1 Only\n"
     ]
    },
    {
     "data": {
      "application/vnd.jupyter.widget-view+json": {
       "model_id": "e8fb13a2f0654baabd1e711ac805ae61",
       "version_major": 2,
       "version_minor": 0
      },
      "text/plain": [
       "Running Simulation :   0%|          | 0/200 [00:00<?, ?it/s]"
      ]
     },
     "metadata": {},
     "output_type": "display_data"
    },
    {
     "name": "stdout",
     "output_type": "stream",
     "text": [
      "Target:0\n",
      "Final Target Drain Current: [1.0002078876688216e-05]\n",
      "LimVal1:6.666666666666667e-06\n",
      "LimVal0:1.6666666666666667e-05\n",
      "\n",
      "Both Drains\n"
     ]
    },
    {
     "data": {
      "application/vnd.jupyter.widget-view+json": {
       "model_id": "31224f5d0db640ad8a2b940967c012ce",
       "version_major": 2,
       "version_minor": 0
      },
      "text/plain": [
       "Running Simulation :   0%|          | 0/200 [00:00<?, ?it/s]"
      ]
     },
     "metadata": {},
     "output_type": "display_data"
    },
    {
     "name": "stdout",
     "output_type": "stream",
     "text": [
      "Target:1\n",
      "Final Target Drain Current: [6.102897074770406e-07, 6.620013543700695e-09]\n",
      "Target: 1.0\n",
      "Accuracy: 0\n",
      "LimVal1:8.333333333333334e-06\n",
      "LimVal0:1.5833333333333333e-05\n",
      "\n",
      "Drain 1 Only\n"
     ]
    },
    {
     "data": {
      "application/vnd.jupyter.widget-view+json": {
       "model_id": "0066557b26ad40e182dde9541011d986",
       "version_major": 2,
       "version_minor": 0
      },
      "text/plain": [
       "Running Simulation :   0%|          | 0/200 [00:00<?, ?it/s]"
      ]
     },
     "metadata": {},
     "output_type": "display_data"
    },
    {
     "name": "stdout",
     "output_type": "stream",
     "text": [
      "Target:0\n",
      "Final Target Drain Current: [1.000716273351068e-05]\n",
      "LimVal1:8.333333333333334e-06\n",
      "LimVal0:1.5833333333333333e-05\n",
      "\n",
      "Drain 2 Only\n"
     ]
    },
    {
     "data": {
      "application/vnd.jupyter.widget-view+json": {
       "model_id": "0a732b65d5f647d8b7cecbd255438419",
       "version_major": 2,
       "version_minor": 0
      },
      "text/plain": [
       "Running Simulation :   0%|          | 0/200 [00:00<?, ?it/s]"
      ]
     },
     "metadata": {},
     "output_type": "display_data"
    },
    {
     "name": "stdout",
     "output_type": "stream",
     "text": [
      "Target:1\n",
      "Final Target Drain Current: [8.357026630932206e-06]\n",
      "LimVal1:8.333333333333334e-06\n",
      "LimVal0:1.5833333333333333e-05\n",
      "\n",
      "Drain 2 Only\n"
     ]
    },
    {
     "data": {
      "application/vnd.jupyter.widget-view+json": {
       "model_id": "104af5193ee1409aad74d4f8b434731c",
       "version_major": 2,
       "version_minor": 0
      },
      "text/plain": [
       "Running Simulation :   0%|          | 0/200 [00:00<?, ?it/s]"
      ]
     },
     "metadata": {},
     "output_type": "display_data"
    },
    {
     "name": "stdout",
     "output_type": "stream",
     "text": [
      "Target:1\n",
      "Final Target Drain Current: [8.35535876377079e-06]\n",
      "LimVal1:8.333333333333334e-06\n",
      "LimVal0:1.5833333333333333e-05\n",
      "\n",
      "Drain 2 Only\n"
     ]
    },
    {
     "data": {
      "application/vnd.jupyter.widget-view+json": {
       "model_id": "197298bf01d046519645ed37dbe7df43",
       "version_major": 2,
       "version_minor": 0
      },
      "text/plain": [
       "Running Simulation :   0%|          | 0/200 [00:00<?, ?it/s]"
      ]
     },
     "metadata": {},
     "output_type": "display_data"
    },
    {
     "name": "stdout",
     "output_type": "stream",
     "text": [
      "Target:1\n",
      "Final Target Drain Current: [8.33909683909199e-06]\n",
      "LimVal1:8.333333333333334e-06\n",
      "LimVal0:1.5833333333333333e-05\n",
      "\n",
      "Drain 2 Only\n"
     ]
    },
    {
     "data": {
      "application/vnd.jupyter.widget-view+json": {
       "model_id": "15d1092519254006b60ded8a3b11caa2",
       "version_major": 2,
       "version_minor": 0
      },
      "text/plain": [
       "Running Simulation :   0%|          | 0/200 [00:00<?, ?it/s]"
      ]
     },
     "metadata": {},
     "output_type": "display_data"
    },
    {
     "name": "stdout",
     "output_type": "stream",
     "text": [
      "Target:1\n",
      "Final Target Drain Current: [8.42609499693897e-06]\n",
      "LimVal1:8.333333333333334e-06\n",
      "LimVal0:1.5833333333333333e-05\n",
      "\n",
      "Drain 2 Only\n"
     ]
    },
    {
     "data": {
      "application/vnd.jupyter.widget-view+json": {
       "model_id": "29d32d8b715749dda8593a1e3b8ad694",
       "version_major": 2,
       "version_minor": 0
      },
      "text/plain": [
       "Running Simulation :   0%|          | 0/200 [00:00<?, ?it/s]"
      ]
     },
     "metadata": {},
     "output_type": "display_data"
    },
    {
     "name": "stdout",
     "output_type": "stream",
     "text": [
      "Target:1\n",
      "Final Target Drain Current: [8.333583621724532e-06]\n",
      "LimVal1:8.333333333333334e-06\n",
      "LimVal0:1.5833333333333333e-05\n",
      "\n",
      "Both Drains\n"
     ]
    },
    {
     "data": {
      "application/vnd.jupyter.widget-view+json": {
       "model_id": "5e58a55d36134975951ee0d4b7755eaf",
       "version_major": 2,
       "version_minor": 0
      },
      "text/plain": [
       "Running Simulation :   0%|          | 0/200 [00:00<?, ?it/s]"
      ]
     },
     "metadata": {},
     "output_type": "display_data"
    },
    {
     "name": "stdout",
     "output_type": "stream",
     "text": [
      "Target:0\n",
      "Final Target Drain Current: [5.568280988570498e-07, 5.345698270803823e-07]\n",
      "Target: 0.0\n",
      "Accuracy: 1\n",
      "LimVal1:8.333333333333334e-06\n",
      "LimVal0:1.5833333333333333e-05\n",
      "\n",
      "Drain 1 Only\n"
     ]
    },
    {
     "data": {
      "application/vnd.jupyter.widget-view+json": {
       "model_id": "c7ac9cd1a241466995e4ca4392a38169",
       "version_major": 2,
       "version_minor": 0
      },
      "text/plain": [
       "Running Simulation :   0%|          | 0/200 [00:00<?, ?it/s]"
      ]
     },
     "metadata": {},
     "output_type": "display_data"
    },
    {
     "name": "stdout",
     "output_type": "stream",
     "text": [
      "Target:0\n",
      "Final Target Drain Current: [1.0045925864269998e-05]\n",
      "LimVal1:8.333333333333334e-06\n",
      "LimVal0:1.5833333333333333e-05\n",
      "\n",
      "Drain 2 Only\n"
     ]
    },
    {
     "data": {
      "application/vnd.jupyter.widget-view+json": {
       "model_id": "3752d3d09a414759a013747a9b99be2f",
       "version_major": 2,
       "version_minor": 0
      },
      "text/plain": [
       "Running Simulation :   0%|          | 0/200 [00:00<?, ?it/s]"
      ]
     },
     "metadata": {},
     "output_type": "display_data"
    },
    {
     "name": "stdout",
     "output_type": "stream",
     "text": [
      "Target:1\n",
      "Final Target Drain Current: [8.356805553068584e-06]\n",
      "LimVal1:8.333333333333334e-06\n",
      "LimVal0:1.5833333333333333e-05\n",
      "\n",
      "Drain 2 Only\n"
     ]
    },
    {
     "data": {
      "application/vnd.jupyter.widget-view+json": {
       "model_id": "db333baef79543c4b5a31765e55829bb",
       "version_major": 2,
       "version_minor": 0
      },
      "text/plain": [
       "Running Simulation :   0%|          | 0/200 [00:00<?, ?it/s]"
      ]
     },
     "metadata": {},
     "output_type": "display_data"
    },
    {
     "name": "stdout",
     "output_type": "stream",
     "text": [
      "Target:1\n",
      "Final Target Drain Current: [8.401577321499959e-06]\n",
      "LimVal1:8.333333333333334e-06\n",
      "LimVal0:1.5833333333333333e-05\n",
      "\n",
      "Drain 2 Only\n"
     ]
    },
    {
     "data": {
      "application/vnd.jupyter.widget-view+json": {
       "model_id": "b4db951ca75849509d46d25316529318",
       "version_major": 2,
       "version_minor": 0
      },
      "text/plain": [
       "Running Simulation :   0%|          | 0/200 [00:00<?, ?it/s]"
      ]
     },
     "metadata": {},
     "output_type": "display_data"
    },
    {
     "name": "stdout",
     "output_type": "stream",
     "text": [
      "Target:1\n",
      "Final Target Drain Current: [8.404470377573966e-06]\n",
      "LimVal1:8.333333333333334e-06\n",
      "LimVal0:1.5833333333333333e-05\n",
      "\n",
      "Drain 2 Only\n"
     ]
    },
    {
     "data": {
      "application/vnd.jupyter.widget-view+json": {
       "model_id": "2f98b3d6f63b4344a7d8f62f9975332d",
       "version_major": 2,
       "version_minor": 0
      },
      "text/plain": [
       "Running Simulation :   0%|          | 0/200 [00:00<?, ?it/s]"
      ]
     },
     "metadata": {},
     "output_type": "display_data"
    },
    {
     "name": "stdout",
     "output_type": "stream",
     "text": [
      "Target:1\n",
      "Final Target Drain Current: [8.438792902268722e-06]\n",
      "LimVal1:8.333333333333334e-06\n",
      "LimVal0:1.5833333333333333e-05\n",
      "\n",
      "Drain 2 Only\n"
     ]
    },
    {
     "data": {
      "application/vnd.jupyter.widget-view+json": {
       "model_id": "1717adecb7d9460aaa769e877faa9f74",
       "version_major": 2,
       "version_minor": 0
      },
      "text/plain": [
       "Running Simulation :   0%|          | 0/200 [00:00<?, ?it/s]"
      ]
     },
     "metadata": {},
     "output_type": "display_data"
    },
    {
     "name": "stdout",
     "output_type": "stream",
     "text": [
      "Target:1\n",
      "Final Target Drain Current: [8.430421152581434e-06]\n",
      "LimVal1:8.333333333333334e-06\n",
      "LimVal0:1.5833333333333333e-05\n",
      "\n",
      "Both Drains\n"
     ]
    },
    {
     "data": {
      "application/vnd.jupyter.widget-view+json": {
       "model_id": "6e2e836f76fd47e089e37f7d0b2b03f8",
       "version_major": 2,
       "version_minor": 0
      },
      "text/plain": [
       "Running Simulation :   0%|          | 0/200 [00:00<?, ?it/s]"
      ]
     },
     "metadata": {},
     "output_type": "display_data"
    },
    {
     "name": "stdout",
     "output_type": "stream",
     "text": [
      "Target:0\n",
      "Final Target Drain Current: [1.2815807207526981e-08, 3.2635239958141684e-07]\n",
      "Target: 0.0\n",
      "Accuracy: 0\n",
      "LimVal1:7.5e-06\n",
      "LimVal0:1.75e-05\n",
      "\n",
      "Drain 2 Only\n"
     ]
    },
    {
     "data": {
      "application/vnd.jupyter.widget-view+json": {
       "model_id": "ad4ac6c65895462998f14dc6c5f9ca28",
       "version_major": 2,
       "version_minor": 0
      },
      "text/plain": [
       "Running Simulation :   0%|          | 0/200 [00:00<?, ?it/s]"
      ]
     },
     "metadata": {},
     "output_type": "display_data"
    },
    {
     "name": "stdout",
     "output_type": "stream",
     "text": [
      "Target:1\n",
      "Final Target Drain Current: [7.524325465177642e-06]\n",
      "LimVal1:7.5e-06\n",
      "LimVal0:1.75e-05\n",
      "\n",
      "Drain 1 Only\n"
     ]
    },
    {
     "data": {
      "application/vnd.jupyter.widget-view+json": {
       "model_id": "17466c492e9940f69105e4ba20044b44",
       "version_major": 2,
       "version_minor": 0
      },
      "text/plain": [
       "Running Simulation :   0%|          | 0/200 [00:00<?, ?it/s]"
      ]
     },
     "metadata": {},
     "output_type": "display_data"
    },
    {
     "name": "stdout",
     "output_type": "stream",
     "text": [
      "Target:0\n",
      "Final Target Drain Current: [1.0221448041017543e-05]\n",
      "LimVal1:7.5e-06\n",
      "LimVal0:1.75e-05\n",
      "\n",
      "Drain 1 Only\n"
     ]
    },
    {
     "data": {
      "application/vnd.jupyter.widget-view+json": {
       "model_id": "a7bfde41861447bab7172748c3dd2fce",
       "version_major": 2,
       "version_minor": 0
      },
      "text/plain": [
       "Running Simulation :   0%|          | 0/200 [00:00<?, ?it/s]"
      ]
     },
     "metadata": {},
     "output_type": "display_data"
    },
    {
     "name": "stdout",
     "output_type": "stream",
     "text": [
      "Target:0\n",
      "Final Target Drain Current: [1.002285679745589e-05]\n",
      "LimVal1:7.5e-06\n",
      "LimVal0:1.75e-05\n",
      "\n",
      "Drain 1 Only\n"
     ]
    },
    {
     "data": {
      "application/vnd.jupyter.widget-view+json": {
       "model_id": "4fc3f2ae4de64845a89dc18f6c50f854",
       "version_major": 2,
       "version_minor": 0
      },
      "text/plain": [
       "Running Simulation :   0%|          | 0/200 [00:00<?, ?it/s]"
      ]
     },
     "metadata": {},
     "output_type": "display_data"
    },
    {
     "name": "stdout",
     "output_type": "stream",
     "text": [
      "Target:0\n",
      "Final Target Drain Current: [9.982609290324098e-06]\n",
      "LimVal1:7.5e-06\n",
      "LimVal0:1.75e-05\n",
      "\n",
      "Drain 1 Only\n"
     ]
    },
    {
     "data": {
      "application/vnd.jupyter.widget-view+json": {
       "model_id": "791a84b7a2e3419184b418af3c3a12a1",
       "version_major": 2,
       "version_minor": 0
      },
      "text/plain": [
       "Running Simulation :   0%|          | 0/200 [00:00<?, ?it/s]"
      ]
     },
     "metadata": {},
     "output_type": "display_data"
    },
    {
     "name": "stdout",
     "output_type": "stream",
     "text": [
      "Target:0\n",
      "Final Target Drain Current: [1.0001710340269207e-05]\n",
      "LimVal1:7.5e-06\n",
      "LimVal0:1.75e-05\n",
      "\n",
      "Drain 1 Only\n"
     ]
    },
    {
     "data": {
      "application/vnd.jupyter.widget-view+json": {
       "model_id": "f67b279adb134a758eb8f1c27498e503",
       "version_major": 2,
       "version_minor": 0
      },
      "text/plain": [
       "Running Simulation :   0%|          | 0/200 [00:00<?, ?it/s]"
      ]
     },
     "metadata": {},
     "output_type": "display_data"
    },
    {
     "name": "stdout",
     "output_type": "stream",
     "text": [
      "Target:0\n",
      "Final Target Drain Current: [1.000242957661876e-05]\n",
      "LimVal1:7.5e-06\n",
      "LimVal0:1.75e-05\n",
      "\n",
      "Both Drains\n"
     ]
    },
    {
     "data": {
      "application/vnd.jupyter.widget-view+json": {
       "model_id": "4ff53c544af146e69a23d21a67f2d397",
       "version_major": 2,
       "version_minor": 0
      },
      "text/plain": [
       "Running Simulation :   0%|          | 0/200 [00:00<?, ?it/s]"
      ]
     },
     "metadata": {},
     "output_type": "display_data"
    },
    {
     "name": "stdout",
     "output_type": "stream",
     "text": [
      "Target:1\n",
      "Final Target Drain Current: [6.921750602048658e-07, 2.479837741074265e-08]\n",
      "Target: 1.0\n",
      "Accuracy: 0\n",
      "LimVal1:9.166666666666666e-06\n",
      "LimVal0:1.6666666666666664e-05\n",
      "\n",
      "Drain 1 Only\n"
     ]
    },
    {
     "data": {
      "application/vnd.jupyter.widget-view+json": {
       "model_id": "ca068e88b06a4abf99ba2260c18139b9",
       "version_major": 2,
       "version_minor": 0
      },
      "text/plain": [
       "Running Simulation :   0%|          | 0/200 [00:00<?, ?it/s]"
      ]
     },
     "metadata": {},
     "output_type": "display_data"
    },
    {
     "name": "stdout",
     "output_type": "stream",
     "text": [
      "Target:0\n",
      "Final Target Drain Current: [1.0008848366826357e-05]\n",
      "LimVal1:9.166666666666666e-06\n",
      "LimVal0:1.6666666666666664e-05\n",
      "\n",
      "Drain 2 Only\n"
     ]
    },
    {
     "data": {
      "application/vnd.jupyter.widget-view+json": {
       "model_id": "e127eacc562c4b96a96b5157125db4d9",
       "version_major": 2,
       "version_minor": 0
      },
      "text/plain": [
       "Running Simulation :   0%|          | 0/200 [00:00<?, ?it/s]"
      ]
     },
     "metadata": {},
     "output_type": "display_data"
    },
    {
     "name": "stdout",
     "output_type": "stream",
     "text": [
      "Target:1\n",
      "Final Target Drain Current: [9.178828642581805e-06]\n",
      "LimVal1:9.166666666666666e-06\n",
      "LimVal0:1.6666666666666664e-05\n",
      "\n",
      "Drain 2 Only\n"
     ]
    },
    {
     "data": {
      "application/vnd.jupyter.widget-view+json": {
       "model_id": "3dec28dcd43248bb92145fc771948ea8",
       "version_major": 2,
       "version_minor": 0
      },
      "text/plain": [
       "Running Simulation :   0%|          | 0/200 [00:00<?, ?it/s]"
      ]
     },
     "metadata": {},
     "output_type": "display_data"
    },
    {
     "name": "stdout",
     "output_type": "stream",
     "text": [
      "Target:1\n",
      "Final Target Drain Current: [9.26273655839032e-06]\n",
      "LimVal1:9.166666666666666e-06\n",
      "LimVal0:1.6666666666666664e-05\n",
      "\n",
      "Drain 2 Only\n"
     ]
    },
    {
     "data": {
      "application/vnd.jupyter.widget-view+json": {
       "model_id": "b77e11dc43474aa48c2ad427b3b859d6",
       "version_major": 2,
       "version_minor": 0
      },
      "text/plain": [
       "Running Simulation :   0%|          | 0/200 [00:00<?, ?it/s]"
      ]
     },
     "metadata": {},
     "output_type": "display_data"
    },
    {
     "name": "stdout",
     "output_type": "stream",
     "text": [
      "Target:1\n",
      "Final Target Drain Current: [9.236198053495905e-06]\n",
      "LimVal1:9.166666666666666e-06\n",
      "LimVal0:1.6666666666666664e-05\n",
      "\n",
      "Drain 2 Only\n"
     ]
    },
    {
     "data": {
      "application/vnd.jupyter.widget-view+json": {
       "model_id": "3072cba828fa4c699982c781f1734abd",
       "version_major": 2,
       "version_minor": 0
      },
      "text/plain": [
       "Running Simulation :   0%|          | 0/200 [00:00<?, ?it/s]"
      ]
     },
     "metadata": {},
     "output_type": "display_data"
    },
    {
     "name": "stdout",
     "output_type": "stream",
     "text": [
      "Target:1\n",
      "Final Target Drain Current: [9.179098355157445e-06]\n",
      "LimVal1:9.166666666666666e-06\n",
      "LimVal0:1.6666666666666664e-05\n",
      "\n",
      "Drain 2 Only\n"
     ]
    },
    {
     "data": {
      "application/vnd.jupyter.widget-view+json": {
       "model_id": "62003e1e13f746a0aed9c3929e53f0de",
       "version_major": 2,
       "version_minor": 0
      },
      "text/plain": [
       "Running Simulation :   0%|          | 0/200 [00:00<?, ?it/s]"
      ]
     },
     "metadata": {},
     "output_type": "display_data"
    },
    {
     "name": "stdout",
     "output_type": "stream",
     "text": [
      "Target:1\n",
      "Final Target Drain Current: [9.255603257481546e-06]\n",
      "LimVal1:9.166666666666666e-06\n",
      "LimVal0:1.6666666666666664e-05\n",
      "\n",
      "Both Drains\n"
     ]
    },
    {
     "data": {
      "application/vnd.jupyter.widget-view+json": {
       "model_id": "87f2be126b884f9fbadebf507de97948",
       "version_major": 2,
       "version_minor": 0
      },
      "text/plain": [
       "Running Simulation :   0%|          | 0/200 [00:00<?, ?it/s]"
      ]
     },
     "metadata": {},
     "output_type": "display_data"
    },
    {
     "name": "stdout",
     "output_type": "stream",
     "text": [
      "Target:0\n",
      "Final Target Drain Current: [5.120619697530551e-07, 1.6308261418549498e-07]\n",
      "Target: 0.0\n",
      "Accuracy: 1\n",
      "LimVal1:9.166666666666666e-06\n",
      "LimVal0:1.6666666666666664e-05\n",
      "\n",
      "Both Drains\n"
     ]
    },
    {
     "data": {
      "application/vnd.jupyter.widget-view+json": {
       "model_id": "77f404d0474a4106b3bc2ea9d760446b",
       "version_major": 2,
       "version_minor": 0
      },
      "text/plain": [
       "Running Simulation :   0%|          | 0/200 [00:00<?, ?it/s]"
      ]
     },
     "metadata": {},
     "output_type": "display_data"
    },
    {
     "name": "stdout",
     "output_type": "stream",
     "text": [
      "Target:0\n",
      "Final Target Drain Current: [5.636690401666756e-07, 9.976147847296548e-07]\n",
      "Target: 0.0\n",
      "Accuracy: 0\n",
      "LimVal1:8.333333333333334e-06\n",
      "LimVal0:1.833333333333333e-05\n",
      "\n",
      "Drain 2 Only\n"
     ]
    },
    {
     "data": {
      "application/vnd.jupyter.widget-view+json": {
       "model_id": "73a3abdefe114cb1a711adce773669d7",
       "version_major": 2,
       "version_minor": 0
      },
      "text/plain": [
       "Running Simulation :   0%|          | 0/200 [00:00<?, ?it/s]"
      ]
     },
     "metadata": {},
     "output_type": "display_data"
    },
    {
     "name": "stdout",
     "output_type": "stream",
     "text": [
      "Target:1\n",
      "Final Target Drain Current: [8.473767523837272e-06]\n",
      "LimVal1:8.333333333333334e-06\n",
      "LimVal0:1.833333333333333e-05\n",
      "\n",
      "Drain 2 Only\n"
     ]
    },
    {
     "data": {
      "application/vnd.jupyter.widget-view+json": {
       "model_id": "1804a5b15f4d49b0a961bd497771adf7",
       "version_major": 2,
       "version_minor": 0
      },
      "text/plain": [
       "Running Simulation :   0%|          | 0/200 [00:00<?, ?it/s]"
      ]
     },
     "metadata": {},
     "output_type": "display_data"
    },
    {
     "name": "stdout",
     "output_type": "stream",
     "text": [
      "Target:1\n",
      "Final Target Drain Current: [8.42847270428562e-06]\n",
      "LimVal1:8.333333333333334e-06\n",
      "LimVal0:1.833333333333333e-05\n",
      "\n",
      "Drain 2 Only\n"
     ]
    },
    {
     "data": {
      "application/vnd.jupyter.widget-view+json": {
       "model_id": "59d489097efd487c9882d7949fde0027",
       "version_major": 2,
       "version_minor": 0
      },
      "text/plain": [
       "Running Simulation :   0%|          | 0/200 [00:00<?, ?it/s]"
      ]
     },
     "metadata": {},
     "output_type": "display_data"
    },
    {
     "name": "stdout",
     "output_type": "stream",
     "text": [
      "Target:1\n",
      "Final Target Drain Current: [8.485881442687261e-06]\n",
      "LimVal1:8.333333333333334e-06\n",
      "LimVal0:1.833333333333333e-05\n",
      "\n",
      "Drain 2 Only\n"
     ]
    },
    {
     "data": {
      "application/vnd.jupyter.widget-view+json": {
       "model_id": "76b7f8fa76674dfba52130be4df95aef",
       "version_major": 2,
       "version_minor": 0
      },
      "text/plain": [
       "Running Simulation :   0%|          | 0/200 [00:00<?, ?it/s]"
      ]
     },
     "metadata": {},
     "output_type": "display_data"
    },
    {
     "name": "stdout",
     "output_type": "stream",
     "text": [
      "Target:1\n",
      "Final Target Drain Current: [8.39006741382697e-06]\n",
      "LimVal1:8.333333333333334e-06\n",
      "LimVal0:1.833333333333333e-05\n",
      "\n",
      "Drain 2 Only\n"
     ]
    },
    {
     "data": {
      "application/vnd.jupyter.widget-view+json": {
       "model_id": "a504c4ce7c9945ea84efce8f490ef7dd",
       "version_major": 2,
       "version_minor": 0
      },
      "text/plain": [
       "Running Simulation :   0%|          | 0/200 [00:00<?, ?it/s]"
      ]
     },
     "metadata": {},
     "output_type": "display_data"
    },
    {
     "name": "stdout",
     "output_type": "stream",
     "text": [
      "Target:1\n",
      "Final Target Drain Current: [8.365753356030328e-06]\n",
      "LimVal1:8.333333333333334e-06\n",
      "LimVal0:1.833333333333333e-05\n",
      "\n",
      "Both Drains\n"
     ]
    },
    {
     "data": {
      "application/vnd.jupyter.widget-view+json": {
       "model_id": "3ca513648e2c460d8a8fdfbc00252906",
       "version_major": 2,
       "version_minor": 0
      },
      "text/plain": [
       "Running Simulation :   0%|          | 0/200 [00:00<?, ?it/s]"
      ]
     },
     "metadata": {},
     "output_type": "display_data"
    },
    {
     "name": "stdout",
     "output_type": "stream",
     "text": [
      "Target:0\n",
      "Final Target Drain Current: [1.2446513472411215e-09, 1.4007975104190258e-07]\n",
      "Target: 0.0\n",
      "Accuracy: 0\n",
      "LimVal1:7.5e-06\n",
      "LimVal0:1.9999999999999995e-05\n",
      "\n",
      "Drain 1 Only\n"
     ]
    },
    {
     "data": {
      "application/vnd.jupyter.widget-view+json": {
       "model_id": "ae371af4550f40f1888a69cf0c63ec45",
       "version_major": 2,
       "version_minor": 0
      },
      "text/plain": [
       "Running Simulation :   0%|          | 0/200 [00:00<?, ?it/s]"
      ]
     },
     "metadata": {},
     "output_type": "display_data"
    },
    {
     "name": "stdout",
     "output_type": "stream",
     "text": [
      "Target:0\n",
      "Final Target Drain Current: [5.0204323047374266e-06]\n",
      "LimVal1:7.5e-06\n",
      "LimVal0:1.9999999999999995e-05\n",
      "\n",
      "Drain 2 Only\n"
     ]
    },
    {
     "data": {
      "application/vnd.jupyter.widget-view+json": {
       "model_id": "05d6eb7a8e09475582b23e7a2fd1832f",
       "version_major": 2,
       "version_minor": 0
      },
      "text/plain": [
       "Running Simulation :   0%|          | 0/200 [00:00<?, ?it/s]"
      ]
     },
     "metadata": {},
     "output_type": "display_data"
    },
    {
     "name": "stdout",
     "output_type": "stream",
     "text": [
      "Target:1\n",
      "Final Target Drain Current: [7.5645862492805195e-06]\n",
      "LimVal1:7.5e-06\n",
      "LimVal0:1.9999999999999995e-05\n",
      "\n",
      "Drain 2 Only\n"
     ]
    },
    {
     "data": {
      "application/vnd.jupyter.widget-view+json": {
       "model_id": "f1501cc4a8d84ff8943e59d6ca4b7e51",
       "version_major": 2,
       "version_minor": 0
      },
      "text/plain": [
       "Running Simulation :   0%|          | 0/200 [00:00<?, ?it/s]"
      ]
     },
     "metadata": {},
     "output_type": "display_data"
    },
    {
     "name": "stdout",
     "output_type": "stream",
     "text": [
      "Target:1\n",
      "Final Target Drain Current: [7.630324335455186e-06]\n",
      "LimVal1:7.5e-06\n",
      "LimVal0:1.9999999999999995e-05\n",
      "\n",
      "Drain 2 Only\n"
     ]
    },
    {
     "data": {
      "application/vnd.jupyter.widget-view+json": {
       "model_id": "564b0e08e85f4740a825a3efab0b18d4",
       "version_major": 2,
       "version_minor": 0
      },
      "text/plain": [
       "Running Simulation :   0%|          | 0/200 [00:00<?, ?it/s]"
      ]
     },
     "metadata": {},
     "output_type": "display_data"
    },
    {
     "name": "stdout",
     "output_type": "stream",
     "text": [
      "Target:1\n",
      "Final Target Drain Current: [7.551144121858574e-06]\n",
      "LimVal1:7.5e-06\n",
      "LimVal0:1.9999999999999995e-05\n",
      "\n",
      "Drain 2 Only\n"
     ]
    },
    {
     "data": {
      "application/vnd.jupyter.widget-view+json": {
       "model_id": "3fda6b34b79640828d3b5db069b0609f",
       "version_major": 2,
       "version_minor": 0
      },
      "text/plain": [
       "Running Simulation :   0%|          | 0/200 [00:00<?, ?it/s]"
      ]
     },
     "metadata": {},
     "output_type": "display_data"
    },
    {
     "name": "stdout",
     "output_type": "stream",
     "text": [
      "Target:1\n",
      "Final Target Drain Current: [7.521829765560708e-06]\n",
      "LimVal1:7.5e-06\n",
      "LimVal0:1.9999999999999995e-05\n",
      "\n",
      "Drain 2 Only\n"
     ]
    },
    {
     "data": {
      "application/vnd.jupyter.widget-view+json": {
       "model_id": "47c4baeaffb04f6d95ce49c78045411f",
       "version_major": 2,
       "version_minor": 0
      },
      "text/plain": [
       "Running Simulation :   0%|          | 0/200 [00:00<?, ?it/s]"
      ]
     },
     "metadata": {},
     "output_type": "display_data"
    },
    {
     "name": "stdout",
     "output_type": "stream",
     "text": [
      "Target:1\n",
      "Final Target Drain Current: [7.519769893998918e-06]\n",
      "LimVal1:7.5e-06\n",
      "LimVal0:1.9999999999999995e-05\n",
      "\n",
      "Both Drains\n"
     ]
    },
    {
     "data": {
      "application/vnd.jupyter.widget-view+json": {
       "model_id": "a7308e7ede764fdb87098b6e241dd419",
       "version_major": 2,
       "version_minor": 0
      },
      "text/plain": [
       "Running Simulation :   0%|          | 0/200 [00:00<?, ?it/s]"
      ]
     },
     "metadata": {},
     "output_type": "display_data"
    },
    {
     "name": "stdout",
     "output_type": "stream",
     "text": [
      "Target:0\n",
      "Final Target Drain Current: [1.1707280737762224e-09, 3.6197651159683686e-08]\n",
      "Target: 0.0\n",
      "Accuracy: 0\n",
      "LimVal1:6.666666666666667e-06\n",
      "LimVal0:2.166666666666666e-05\n",
      "\n",
      "Drain 2 Only\n"
     ]
    },
    {
     "data": {
      "application/vnd.jupyter.widget-view+json": {
       "model_id": "ba78e07ee5d64f68ba06c659cb54747a",
       "version_major": 2,
       "version_minor": 0
      },
      "text/plain": [
       "Running Simulation :   0%|          | 0/200 [00:00<?, ?it/s]"
      ]
     },
     "metadata": {},
     "output_type": "display_data"
    },
    {
     "name": "stdout",
     "output_type": "stream",
     "text": [
      "Target:1\n",
      "Final Target Drain Current: [6.685654115801641e-06]\n",
      "LimVal1:6.666666666666667e-06\n",
      "LimVal0:2.166666666666666e-05\n",
      "\n",
      "Drain 1 Only\n"
     ]
    },
    {
     "data": {
      "application/vnd.jupyter.widget-view+json": {
       "model_id": "dd9514f9660d44d9b9c2d03de678910a",
       "version_major": 2,
       "version_minor": 0
      },
      "text/plain": [
       "Running Simulation :   0%|          | 0/200 [00:00<?, ?it/s]"
      ]
     },
     "metadata": {},
     "output_type": "display_data"
    },
    {
     "name": "stdout",
     "output_type": "stream",
     "text": [
      "Target:0\n",
      "Final Target Drain Current: [4.26156402050655e-06]\n",
      "LimVal1:6.666666666666667e-06\n",
      "LimVal0:2.166666666666666e-05\n",
      "\n",
      "Both Drains\n"
     ]
    },
    {
     "data": {
      "application/vnd.jupyter.widget-view+json": {
       "model_id": "ce0968cb69974e8f80c6c0977c3a02d0",
       "version_major": 2,
       "version_minor": 0
      },
      "text/plain": [
       "Running Simulation :   0%|          | 0/200 [00:00<?, ?it/s]"
      ]
     },
     "metadata": {},
     "output_type": "display_data"
    },
    {
     "name": "stdout",
     "output_type": "stream",
     "text": [
      "Target:0\n",
      "Final Target Drain Current: [6.69417734589927e-07, 1.7498521052521627e-07]\n",
      "Target: 0.0\n",
      "Accuracy: 1\n",
      "LimVal1:6.666666666666667e-06\n",
      "LimVal0:2.166666666666666e-05\n",
      "\n",
      "Drain 1 Only\n"
     ]
    },
    {
     "data": {
      "application/vnd.jupyter.widget-view+json": {
       "model_id": "a21eafb1556f439d9da94f2a797a5509",
       "version_major": 2,
       "version_minor": 0
      },
      "text/plain": [
       "Running Simulation :   0%|          | 0/200 [00:00<?, ?it/s]"
      ]
     },
     "metadata": {},
     "output_type": "display_data"
    },
    {
     "name": "stdout",
     "output_type": "stream",
     "text": [
      "Target:0\n",
      "Final Target Drain Current: [1.0401778869973804e-05]\n",
      "LimVal1:6.666666666666667e-06\n",
      "LimVal0:2.166666666666666e-05\n",
      "\n",
      "Drain 1 Only\n"
     ]
    },
    {
     "data": {
      "application/vnd.jupyter.widget-view+json": {
       "model_id": "01ea2628189f43a39266b0ab184e5dc5",
       "version_major": 2,
       "version_minor": 0
      },
      "text/plain": [
       "Running Simulation :   0%|          | 0/200 [00:00<?, ?it/s]"
      ]
     },
     "metadata": {},
     "output_type": "display_data"
    },
    {
     "name": "stdout",
     "output_type": "stream",
     "text": [
      "Target:0\n",
      "Final Target Drain Current: [9.971096301111645e-06]\n",
      "LimVal1:6.666666666666667e-06\n",
      "LimVal0:2.166666666666666e-05\n",
      "\n",
      "Drain 1 Only\n"
     ]
    },
    {
     "data": {
      "application/vnd.jupyter.widget-view+json": {
       "model_id": "1b465ee284b44072b05ecd3a1e7b65ee",
       "version_major": 2,
       "version_minor": 0
      },
      "text/plain": [
       "Running Simulation :   0%|          | 0/200 [00:00<?, ?it/s]"
      ]
     },
     "metadata": {},
     "output_type": "display_data"
    },
    {
     "name": "stdout",
     "output_type": "stream",
     "text": [
      "Target:0\n",
      "Final Target Drain Current: [1.0009843634089574e-05]\n",
      "LimVal1:6.666666666666667e-06\n",
      "LimVal0:2.166666666666666e-05\n",
      "\n",
      "Both Drains\n"
     ]
    },
    {
     "data": {
      "application/vnd.jupyter.widget-view+json": {
       "model_id": "114739ac49bd4877bc0cf96c2f5a7ddf",
       "version_major": 2,
       "version_minor": 0
      },
      "text/plain": [
       "Running Simulation :   0%|          | 0/200 [00:00<?, ?it/s]"
      ]
     },
     "metadata": {},
     "output_type": "display_data"
    },
    {
     "name": "stdout",
     "output_type": "stream",
     "text": [
      "Target:1\n",
      "Final Target Drain Current: [4.845183958003516e-07, 2.749366183219803e-09]\n",
      "Target: 1.0\n",
      "Accuracy: 0\n",
      "LimVal1:8.333333333333334e-06\n",
      "LimVal0:2.0833333333333326e-05\n",
      "\n",
      "Drain 1 Only\n"
     ]
    },
    {
     "data": {
      "application/vnd.jupyter.widget-view+json": {
       "model_id": "2724a776f0d644bbb1fbbb634fb2ca43",
       "version_major": 2,
       "version_minor": 0
      },
      "text/plain": [
       "Running Simulation :   0%|          | 0/200 [00:00<?, ?it/s]"
      ]
     },
     "metadata": {},
     "output_type": "display_data"
    },
    {
     "name": "stdout",
     "output_type": "stream",
     "text": [
      "Target:0\n",
      "Final Target Drain Current: [1.00118626044854e-05]\n",
      "LimVal1:8.333333333333334e-06\n",
      "LimVal0:2.0833333333333326e-05\n",
      "\n",
      "Drain 2 Only\n"
     ]
    },
    {
     "data": {
      "application/vnd.jupyter.widget-view+json": {
       "model_id": "aca675390d5d4bd1a023ef49bc2f5a76",
       "version_major": 2,
       "version_minor": 0
      },
      "text/plain": [
       "Running Simulation :   0%|          | 0/200 [00:00<?, ?it/s]"
      ]
     },
     "metadata": {},
     "output_type": "display_data"
    },
    {
     "name": "stdout",
     "output_type": "stream",
     "text": [
      "Target:1\n",
      "Final Target Drain Current: [8.366778911482941e-06]\n",
      "LimVal1:8.333333333333334e-06\n",
      "LimVal0:2.0833333333333326e-05\n",
      "\n",
      "Drain 2 Only\n"
     ]
    },
    {
     "data": {
      "application/vnd.jupyter.widget-view+json": {
       "model_id": "099c0a554773427e9a419f2b31956188",
       "version_major": 2,
       "version_minor": 0
      },
      "text/plain": [
       "Running Simulation :   0%|          | 0/200 [00:00<?, ?it/s]"
      ]
     },
     "metadata": {},
     "output_type": "display_data"
    },
    {
     "name": "stdout",
     "output_type": "stream",
     "text": [
      "Target:1\n",
      "Final Target Drain Current: [8.3782899287166e-06]\n",
      "LimVal1:8.333333333333334e-06\n",
      "LimVal0:2.0833333333333326e-05\n",
      "\n",
      "Drain 2 Only\n"
     ]
    },
    {
     "data": {
      "application/vnd.jupyter.widget-view+json": {
       "model_id": "c84bc69a8bed45c1ab2fc005b8c17e2b",
       "version_major": 2,
       "version_minor": 0
      },
      "text/plain": [
       "Running Simulation :   0%|          | 0/200 [00:00<?, ?it/s]"
      ]
     },
     "metadata": {},
     "output_type": "display_data"
    },
    {
     "name": "stdout",
     "output_type": "stream",
     "text": [
      "Target:1\n",
      "Final Target Drain Current: [8.375110665537452e-06]\n",
      "LimVal1:8.333333333333334e-06\n",
      "LimVal0:2.0833333333333326e-05\n",
      "\n",
      "Drain 2 Only\n"
     ]
    },
    {
     "data": {
      "application/vnd.jupyter.widget-view+json": {
       "model_id": "e09d2d0f6a2b498f8ea18b3b746503f6",
       "version_major": 2,
       "version_minor": 0
      },
      "text/plain": [
       "Running Simulation :   0%|          | 0/200 [00:00<?, ?it/s]"
      ]
     },
     "metadata": {},
     "output_type": "display_data"
    },
    {
     "name": "stdout",
     "output_type": "stream",
     "text": [
      "Target:1\n",
      "Final Target Drain Current: [8.403847025109568e-06]\n",
      "LimVal1:8.333333333333334e-06\n",
      "LimVal0:2.0833333333333326e-05\n",
      "\n",
      "Drain 2 Only\n"
     ]
    },
    {
     "data": {
      "application/vnd.jupyter.widget-view+json": {
       "model_id": "dafe38a9fef846228db561c49e39ddc1",
       "version_major": 2,
       "version_minor": 0
      },
      "text/plain": [
       "Running Simulation :   0%|          | 0/200 [00:00<?, ?it/s]"
      ]
     },
     "metadata": {},
     "output_type": "display_data"
    },
    {
     "name": "stdout",
     "output_type": "stream",
     "text": [
      "Target:1\n",
      "Final Target Drain Current: [8.342924770748091e-06]\n",
      "LimVal1:8.333333333333334e-06\n",
      "LimVal0:2.0833333333333326e-05\n",
      "\n",
      "Both Drains\n"
     ]
    },
    {
     "data": {
      "application/vnd.jupyter.widget-view+json": {
       "model_id": "84dd89250ef04fef9a7d06c29fd35c47",
       "version_major": 2,
       "version_minor": 0
      },
      "text/plain": [
       "Running Simulation :   0%|          | 0/200 [00:00<?, ?it/s]"
      ]
     },
     "metadata": {},
     "output_type": "display_data"
    },
    {
     "name": "stdout",
     "output_type": "stream",
     "text": [
      "Target:0\n",
      "Final Target Drain Current: [5.898048831532066e-07, 5.181058465252977e-07]\n",
      "Target: 0.0\n",
      "Accuracy: 1\n",
      "LimVal1:8.333333333333334e-06\n",
      "LimVal0:2.0833333333333326e-05\n",
      "\n",
      "Drain 1 Only\n"
     ]
    },
    {
     "data": {
      "application/vnd.jupyter.widget-view+json": {
       "model_id": "f3caba5bfdf041c28b9045614b0b165e",
       "version_major": 2,
       "version_minor": 0
      },
      "text/plain": [
       "Running Simulation :   0%|          | 0/200 [00:00<?, ?it/s]"
      ]
     },
     "metadata": {},
     "output_type": "display_data"
    },
    {
     "name": "stdout",
     "output_type": "stream",
     "text": [
      "Target:0\n",
      "Final Target Drain Current: [1.004699884336581e-05]\n",
      "LimVal1:8.333333333333334e-06\n",
      "LimVal0:2.0833333333333326e-05\n",
      "\n",
      "Drain 2 Only\n"
     ]
    },
    {
     "data": {
      "application/vnd.jupyter.widget-view+json": {
       "model_id": "6c983f53a3da42589caf9c8c89969ac1",
       "version_major": 2,
       "version_minor": 0
      },
      "text/plain": [
       "Running Simulation :   0%|          | 0/200 [00:00<?, ?it/s]"
      ]
     },
     "metadata": {},
     "output_type": "display_data"
    },
    {
     "name": "stdout",
     "output_type": "stream",
     "text": [
      "Target:1\n",
      "Final Target Drain Current: [8.547888532431062e-06]\n",
      "LimVal1:8.333333333333334e-06\n",
      "LimVal0:2.0833333333333326e-05\n",
      "\n",
      "Drain 2 Only\n"
     ]
    },
    {
     "data": {
      "application/vnd.jupyter.widget-view+json": {
       "model_id": "5893622b7f2b4067a1e8a137854c2e98",
       "version_major": 2,
       "version_minor": 0
      },
      "text/plain": [
       "Running Simulation :   0%|          | 0/200 [00:00<?, ?it/s]"
      ]
     },
     "metadata": {},
     "output_type": "display_data"
    },
    {
     "name": "stdout",
     "output_type": "stream",
     "text": [
      "Target:1\n",
      "Final Target Drain Current: [8.336023764462025e-06]\n",
      "LimVal1:8.333333333333334e-06\n",
      "LimVal0:2.0833333333333326e-05\n",
      "\n",
      "Drain 2 Only\n"
     ]
    },
    {
     "data": {
      "application/vnd.jupyter.widget-view+json": {
       "model_id": "3423e79948ba4babb8aef87bfdb6710b",
       "version_major": 2,
       "version_minor": 0
      },
      "text/plain": [
       "Running Simulation :   0%|          | 0/200 [00:00<?, ?it/s]"
      ]
     },
     "metadata": {},
     "output_type": "display_data"
    },
    {
     "name": "stdout",
     "output_type": "stream",
     "text": [
      "Target:1\n",
      "Final Target Drain Current: [8.356025082040194e-06]\n",
      "LimVal1:8.333333333333334e-06\n",
      "LimVal0:2.0833333333333326e-05\n",
      "\n",
      "Drain 2 Only\n"
     ]
    },
    {
     "data": {
      "application/vnd.jupyter.widget-view+json": {
       "model_id": "6788bbd57c0544bcab3706b8d1c55262",
       "version_major": 2,
       "version_minor": 0
      },
      "text/plain": [
       "Running Simulation :   0%|          | 0/200 [00:00<?, ?it/s]"
      ]
     },
     "metadata": {},
     "output_type": "display_data"
    },
    {
     "name": "stdout",
     "output_type": "stream",
     "text": [
      "Target:1\n",
      "Final Target Drain Current: [8.38057832987738e-06]\n",
      "LimVal1:8.333333333333334e-06\n",
      "LimVal0:2.0833333333333326e-05\n",
      "\n",
      "Drain 2 Only\n"
     ]
    },
    {
     "data": {
      "application/vnd.jupyter.widget-view+json": {
       "model_id": "a5f52d07bc314f22bb2041b26d842dad",
       "version_major": 2,
       "version_minor": 0
      },
      "text/plain": [
       "Running Simulation :   0%|          | 0/200 [00:00<?, ?it/s]"
      ]
     },
     "metadata": {},
     "output_type": "display_data"
    },
    {
     "name": "stdout",
     "output_type": "stream",
     "text": [
      "Target:1\n",
      "Final Target Drain Current: [8.345688369817913e-06]\n",
      "LimVal1:8.333333333333334e-06\n",
      "LimVal0:2.0833333333333326e-05\n",
      "\n",
      "Both Drains\n"
     ]
    },
    {
     "data": {
      "application/vnd.jupyter.widget-view+json": {
       "model_id": "1a7d3530d2074050b1813e7077d7e4a8",
       "version_major": 2,
       "version_minor": 0
      },
      "text/plain": [
       "Running Simulation :   0%|          | 0/200 [00:00<?, ?it/s]"
      ]
     },
     "metadata": {},
     "output_type": "display_data"
    },
    {
     "name": "stdout",
     "output_type": "stream",
     "text": [
      "Target:0\n",
      "Final Target Drain Current: [4.7298437555660034e-08, 2.585895017900088e-07]\n",
      "Target: 0.0\n",
      "Accuracy: 0\n",
      "LimVal1:7.5e-06\n",
      "LimVal0:2.249999999999999e-05\n",
      "\n",
      "Drain 2 Only\n"
     ]
    },
    {
     "data": {
      "application/vnd.jupyter.widget-view+json": {
       "model_id": "e500a73432354c2597d0bb30acd6e35e",
       "version_major": 2,
       "version_minor": 0
      },
      "text/plain": [
       "Running Simulation :   0%|          | 0/200 [00:00<?, ?it/s]"
      ]
     },
     "metadata": {},
     "output_type": "display_data"
    },
    {
     "name": "stdout",
     "output_type": "stream",
     "text": [
      "Target:1\n",
      "Final Target Drain Current: [7.507856152835686e-06]\n",
      "LimVal1:7.5e-06\n",
      "LimVal0:2.249999999999999e-05\n",
      "\n",
      "Drain 1 Only\n"
     ]
    },
    {
     "data": {
      "application/vnd.jupyter.widget-view+json": {
       "model_id": "4af7d60e3bbc4f6d90dbfa8f3b679a00",
       "version_major": 2,
       "version_minor": 0
      },
      "text/plain": [
       "Running Simulation :   0%|          | 0/200 [00:00<?, ?it/s]"
      ]
     },
     "metadata": {},
     "output_type": "display_data"
    },
    {
     "name": "stdout",
     "output_type": "stream",
     "text": [
      "Target:0\n",
      "Final Target Drain Current: [8.159471103008349e-06]\n",
      "LimVal1:7.5e-06\n",
      "LimVal0:2.249999999999999e-05\n",
      "\n",
      "Drain 1 Only\n"
     ]
    },
    {
     "data": {
      "application/vnd.jupyter.widget-view+json": {
       "model_id": "ae9ca015e00840e580a5bafcd64a65a8",
       "version_major": 2,
       "version_minor": 0
      },
      "text/plain": [
       "Running Simulation :   0%|          | 0/200 [00:00<?, ?it/s]"
      ]
     },
     "metadata": {},
     "output_type": "display_data"
    },
    {
     "name": "stdout",
     "output_type": "stream",
     "text": [
      "Target:0\n",
      "Final Target Drain Current: [1.0199229372087259e-05]\n",
      "LimVal1:7.5e-06\n",
      "LimVal0:2.249999999999999e-05\n",
      "\n",
      "Drain 1 Only\n"
     ]
    },
    {
     "data": {
      "application/vnd.jupyter.widget-view+json": {
       "model_id": "5df6e66e1bfc40d0a85a86a168876202",
       "version_major": 2,
       "version_minor": 0
      },
      "text/plain": [
       "Running Simulation :   0%|          | 0/200 [00:00<?, ?it/s]"
      ]
     },
     "metadata": {},
     "output_type": "display_data"
    },
    {
     "name": "stdout",
     "output_type": "stream",
     "text": [
      "Target:0\n",
      "Final Target Drain Current: [1.0014161199437917e-05]\n",
      "LimVal1:7.5e-06\n",
      "LimVal0:2.249999999999999e-05\n",
      "\n",
      "Drain 1 Only\n"
     ]
    },
    {
     "data": {
      "application/vnd.jupyter.widget-view+json": {
       "model_id": "254e5fd2154a4f68bcaec78df6d09198",
       "version_major": 2,
       "version_minor": 0
      },
      "text/plain": [
       "Running Simulation :   0%|          | 0/200 [00:00<?, ?it/s]"
      ]
     },
     "metadata": {},
     "output_type": "display_data"
    },
    {
     "name": "stdout",
     "output_type": "stream",
     "text": [
      "Target:0\n",
      "Final Target Drain Current: [1.0004575314258894e-05]\n",
      "LimVal1:7.5e-06\n",
      "LimVal0:2.249999999999999e-05\n",
      "\n",
      "Drain 1 Only\n"
     ]
    },
    {
     "data": {
      "application/vnd.jupyter.widget-view+json": {
       "model_id": "0c5ce2fc656c4c539e3379277a112de4",
       "version_major": 2,
       "version_minor": 0
      },
      "text/plain": [
       "Running Simulation :   0%|          | 0/200 [00:00<?, ?it/s]"
      ]
     },
     "metadata": {},
     "output_type": "display_data"
    },
    {
     "name": "stdout",
     "output_type": "stream",
     "text": [
      "Target:0\n",
      "Final Target Drain Current: [1.0005034431702996e-05]\n",
      "LimVal1:7.5e-06\n",
      "LimVal0:2.249999999999999e-05\n",
      "\n",
      "Both Drains\n"
     ]
    },
    {
     "data": {
      "application/vnd.jupyter.widget-view+json": {
       "model_id": "f261f4f6d11d463da0337953f68b8451",
       "version_major": 2,
       "version_minor": 0
      },
      "text/plain": [
       "Running Simulation :   0%|          | 0/200 [00:00<?, ?it/s]"
      ]
     },
     "metadata": {},
     "output_type": "display_data"
    },
    {
     "name": "stdout",
     "output_type": "stream",
     "text": [
      "Target:1\n",
      "Final Target Drain Current: [6.774149403258289e-07, 3.3484236532064823e-09]\n",
      "Target: 1.0\n",
      "Accuracy: 0\n",
      "LimVal1:9.166666666666666e-06\n",
      "LimVal0:2.1666666666666657e-05\n",
      "\n",
      "Drain 1 Only\n"
     ]
    },
    {
     "data": {
      "application/vnd.jupyter.widget-view+json": {
       "model_id": "ea98ac3df49941e7be231508338a54c5",
       "version_major": 2,
       "version_minor": 0
      },
      "text/plain": [
       "Running Simulation :   0%|          | 0/200 [00:00<?, ?it/s]"
      ]
     },
     "metadata": {},
     "output_type": "display_data"
    },
    {
     "name": "stdout",
     "output_type": "stream",
     "text": [
      "Target:0\n",
      "Final Target Drain Current: [1.0008147912255106e-05]\n",
      "LimVal1:9.166666666666666e-06\n",
      "LimVal0:2.1666666666666657e-05\n",
      "\n",
      "Drain 2 Only\n"
     ]
    },
    {
     "data": {
      "application/vnd.jupyter.widget-view+json": {
       "model_id": "dcdf9cf6bbc54d658708a99ff26eaa72",
       "version_major": 2,
       "version_minor": 0
      },
      "text/plain": [
       "Running Simulation :   0%|          | 0/200 [00:00<?, ?it/s]"
      ]
     },
     "metadata": {},
     "output_type": "display_data"
    },
    {
     "name": "stdout",
     "output_type": "stream",
     "text": [
      "Target:1\n",
      "Final Target Drain Current: [9.240612991666171e-06]\n",
      "LimVal1:9.166666666666666e-06\n",
      "LimVal0:2.1666666666666657e-05\n",
      "\n",
      "Drain 2 Only\n"
     ]
    },
    {
     "data": {
      "application/vnd.jupyter.widget-view+json": {
       "model_id": "baa933bc0f874ed18bef4d7dff1ddf39",
       "version_major": 2,
       "version_minor": 0
      },
      "text/plain": [
       "Running Simulation :   0%|          | 0/200 [00:00<?, ?it/s]"
      ]
     },
     "metadata": {},
     "output_type": "display_data"
    },
    {
     "name": "stdout",
     "output_type": "stream",
     "text": [
      "Target:1\n",
      "Final Target Drain Current: [9.241052985391873e-06]\n",
      "LimVal1:9.166666666666666e-06\n",
      "LimVal0:2.1666666666666657e-05\n",
      "\n",
      "Drain 2 Only\n"
     ]
    },
    {
     "data": {
      "application/vnd.jupyter.widget-view+json": {
       "model_id": "73c3633b3da5404aa4698fb87e192570",
       "version_major": 2,
       "version_minor": 0
      },
      "text/plain": [
       "Running Simulation :   0%|          | 0/200 [00:00<?, ?it/s]"
      ]
     },
     "metadata": {},
     "output_type": "display_data"
    },
    {
     "name": "stdout",
     "output_type": "stream",
     "text": [
      "Target:1\n",
      "Final Target Drain Current: [9.1966128957847e-06]\n",
      "LimVal1:9.166666666666666e-06\n",
      "LimVal0:2.1666666666666657e-05\n",
      "\n",
      "Drain 2 Only\n"
     ]
    },
    {
     "data": {
      "application/vnd.jupyter.widget-view+json": {
       "model_id": "950d93ce869b4b9995c509cb03682a84",
       "version_major": 2,
       "version_minor": 0
      },
      "text/plain": [
       "Running Simulation :   0%|          | 0/200 [00:00<?, ?it/s]"
      ]
     },
     "metadata": {},
     "output_type": "display_data"
    },
    {
     "name": "stdout",
     "output_type": "stream",
     "text": [
      "Target:1\n",
      "Final Target Drain Current: [9.20133450340104e-06]\n",
      "LimVal1:9.166666666666666e-06\n",
      "LimVal0:2.1666666666666657e-05\n",
      "\n",
      "Drain 2 Only\n"
     ]
    },
    {
     "data": {
      "application/vnd.jupyter.widget-view+json": {
       "model_id": "f189718739104de29262cc92a5782788",
       "version_major": 2,
       "version_minor": 0
      },
      "text/plain": [
       "Running Simulation :   0%|          | 0/200 [00:00<?, ?it/s]"
      ]
     },
     "metadata": {},
     "output_type": "display_data"
    },
    {
     "name": "stdout",
     "output_type": "stream",
     "text": [
      "Target:1\n",
      "Final Target Drain Current: [9.18940546327622e-06]\n",
      "LimVal1:9.166666666666666e-06\n",
      "LimVal0:2.1666666666666657e-05\n",
      "\n",
      "Both Drains\n"
     ]
    },
    {
     "data": {
      "application/vnd.jupyter.widget-view+json": {
       "model_id": "bd3ecd548fa8475d99e17c9c28359e11",
       "version_major": 2,
       "version_minor": 0
      },
      "text/plain": [
       "Running Simulation :   0%|          | 0/200 [00:00<?, ?it/s]"
      ]
     },
     "metadata": {},
     "output_type": "display_data"
    },
    {
     "name": "stdout",
     "output_type": "stream",
     "text": [
      "Target:0\n",
      "Final Target Drain Current: [5.999899195706294e-07, 1.0291719352026808e-07]\n",
      "Target: 0.0\n",
      "Accuracy: 1\n",
      "LimVal1:9.166666666666666e-06\n",
      "LimVal0:2.1666666666666657e-05\n",
      "\n",
      "Drain 2 Only\n"
     ]
    },
    {
     "data": {
      "application/vnd.jupyter.widget-view+json": {
       "model_id": "d5f51d75d9904d119ec3c79df28b476d",
       "version_major": 2,
       "version_minor": 0
      },
      "text/plain": [
       "Running Simulation :   0%|          | 0/200 [00:00<?, ?it/s]"
      ]
     },
     "metadata": {},
     "output_type": "display_data"
    },
    {
     "name": "stdout",
     "output_type": "stream",
     "text": [
      "Target:1\n",
      "Final Target Drain Current: [9.170768807767105e-06]\n",
      "LimVal1:9.166666666666666e-06\n",
      "LimVal0:2.1666666666666657e-05\n",
      "\n",
      "Drain 1 Only\n"
     ]
    },
    {
     "data": {
      "application/vnd.jupyter.widget-view+json": {
       "model_id": "18bab1cc1c7e46009ce5b82d25c20a48",
       "version_major": 2,
       "version_minor": 0
      },
      "text/plain": [
       "Running Simulation :   0%|          | 0/200 [00:00<?, ?it/s]"
      ]
     },
     "metadata": {},
     "output_type": "display_data"
    },
    {
     "name": "stdout",
     "output_type": "stream",
     "text": [
      "Target:0\n",
      "Final Target Drain Current: [1.003704471258063e-05]\n",
      "LimVal1:9.166666666666666e-06\n",
      "LimVal0:2.1666666666666657e-05\n",
      "\n",
      "Drain 1 Only\n"
     ]
    },
    {
     "data": {
      "application/vnd.jupyter.widget-view+json": {
       "model_id": "7ce1bcb516c046429822f7fe4f7035c2",
       "version_major": 2,
       "version_minor": 0
      },
      "text/plain": [
       "Running Simulation :   0%|          | 0/200 [00:00<?, ?it/s]"
      ]
     },
     "metadata": {},
     "output_type": "display_data"
    },
    {
     "name": "stdout",
     "output_type": "stream",
     "text": [
      "Target:0\n",
      "Final Target Drain Current: [1.0104068031888957e-05]\n",
      "LimVal1:9.166666666666666e-06\n",
      "LimVal0:2.1666666666666657e-05\n",
      "\n",
      "Drain 1 Only\n"
     ]
    },
    {
     "data": {
      "application/vnd.jupyter.widget-view+json": {
       "model_id": "6a45afe98d344d11a1f64f7ecc6d6097",
       "version_major": 2,
       "version_minor": 0
      },
      "text/plain": [
       "Running Simulation :   0%|          | 0/200 [00:00<?, ?it/s]"
      ]
     },
     "metadata": {},
     "output_type": "display_data"
    },
    {
     "name": "stdout",
     "output_type": "stream",
     "text": [
      "Target:0\n",
      "Final Target Drain Current: [9.981249115722306e-06]\n",
      "LimVal1:9.166666666666666e-06\n",
      "LimVal0:2.1666666666666657e-05\n",
      "\n",
      "Drain 1 Only\n"
     ]
    },
    {
     "data": {
      "application/vnd.jupyter.widget-view+json": {
       "model_id": "43c76a56849c42b5ac7af944ebcecd16",
       "version_major": 2,
       "version_minor": 0
      },
      "text/plain": [
       "Running Simulation :   0%|          | 0/200 [00:00<?, ?it/s]"
      ]
     },
     "metadata": {},
     "output_type": "display_data"
    },
    {
     "name": "stdout",
     "output_type": "stream",
     "text": [
      "Target:0\n",
      "Final Target Drain Current: [1.000331064290567e-05]\n",
      "LimVal1:9.166666666666666e-06\n",
      "LimVal0:2.1666666666666657e-05\n",
      "\n",
      "Drain 1 Only\n"
     ]
    },
    {
     "data": {
      "application/vnd.jupyter.widget-view+json": {
       "model_id": "b58fe00a1b6a498d8362294c2089e839",
       "version_major": 2,
       "version_minor": 0
      },
      "text/plain": [
       "Running Simulation :   0%|          | 0/200 [00:00<?, ?it/s]"
      ]
     },
     "metadata": {},
     "output_type": "display_data"
    },
    {
     "name": "stdout",
     "output_type": "stream",
     "text": [
      "Target:0\n",
      "Final Target Drain Current: [1.0001257847957802e-05]\n",
      "LimVal1:9.166666666666666e-06\n",
      "LimVal0:2.1666666666666657e-05\n",
      "\n",
      "Both Drains\n"
     ]
    },
    {
     "data": {
      "application/vnd.jupyter.widget-view+json": {
       "model_id": "117e5ad24a3a4fe1a7274968e632ea90",
       "version_major": 2,
       "version_minor": 0
      },
      "text/plain": [
       "Running Simulation :   0%|          | 0/200 [00:00<?, ?it/s]"
      ]
     },
     "metadata": {},
     "output_type": "display_data"
    },
    {
     "name": "stdout",
     "output_type": "stream",
     "text": [
      "Target:1\n",
      "Final Target Drain Current: [5.890159176934101e-07, 1.0310890705228992e-07]\n",
      "Target: 1.0\n",
      "Accuracy: 0\n",
      "LimVal1:1.0833333333333334e-05\n",
      "LimVal0:2.0833333333333322e-05\n",
      "\n",
      "Drain 1 Only\n"
     ]
    },
    {
     "data": {
      "application/vnd.jupyter.widget-view+json": {
       "model_id": "664485aeb98c484d873ce4c7e737e2b8",
       "version_major": 2,
       "version_minor": 0
      },
      "text/plain": [
       "Running Simulation :   0%|          | 0/200 [00:00<?, ?it/s]"
      ]
     },
     "metadata": {},
     "output_type": "display_data"
    },
    {
     "name": "stdout",
     "output_type": "stream",
     "text": [
      "Target:0\n",
      "Final Target Drain Current: [1.0006371141528962e-05]\n",
      "LimVal1:1.0833333333333334e-05\n",
      "LimVal0:2.0833333333333322e-05\n",
      "\n",
      "Drain 2 Only\n"
     ]
    },
    {
     "data": {
      "application/vnd.jupyter.widget-view+json": {
       "model_id": "8ff585d69cd2408d9c4cc588302ed41d",
       "version_major": 2,
       "version_minor": 0
      },
      "text/plain": [
       "Running Simulation :   0%|          | 0/200 [00:00<?, ?it/s]"
      ]
     },
     "metadata": {},
     "output_type": "display_data"
    },
    {
     "name": "stdout",
     "output_type": "stream",
     "text": [
      "Target:1\n",
      "Final Target Drain Current: [1.0277858300657989e-05]\n",
      "LimVal1:1.0833333333333334e-05\n",
      "LimVal0:2.0833333333333322e-05\n",
      "\n",
      "Drain 2 Only\n"
     ]
    },
    {
     "data": {
      "application/vnd.jupyter.widget-view+json": {
       "model_id": "d392f986dea047fbb94182fdccf65e38",
       "version_major": 2,
       "version_minor": 0
      },
      "text/plain": [
       "Running Simulation :   0%|          | 0/200 [00:00<?, ?it/s]"
      ]
     },
     "metadata": {},
     "output_type": "display_data"
    },
    {
     "name": "stdout",
     "output_type": "stream",
     "text": [
      "Target:1\n",
      "Final Target Drain Current: [1.0030697405045259e-05]\n",
      "LimVal1:1.0833333333333334e-05\n",
      "LimVal0:2.0833333333333322e-05\n",
      "\n",
      "Drain 2 Only\n"
     ]
    },
    {
     "data": {
      "application/vnd.jupyter.widget-view+json": {
       "model_id": "da5177407aeb43cd9dd66bb8deba7d84",
       "version_major": 2,
       "version_minor": 0
      },
      "text/plain": [
       "Running Simulation :   0%|          | 0/200 [00:00<?, ?it/s]"
      ]
     },
     "metadata": {},
     "output_type": "display_data"
    },
    {
     "name": "stdout",
     "output_type": "stream",
     "text": [
      "Target:1\n",
      "Final Target Drain Current: [9.98822347179635e-06]\n",
      "LimVal1:1.0833333333333334e-05\n",
      "LimVal0:2.0833333333333322e-05\n",
      "\n",
      "Drain 2 Only\n"
     ]
    },
    {
     "data": {
      "application/vnd.jupyter.widget-view+json": {
       "model_id": "bfb4449a914e423088353a8281ceec8b",
       "version_major": 2,
       "version_minor": 0
      },
      "text/plain": [
       "Running Simulation :   0%|          | 0/200 [00:00<?, ?it/s]"
      ]
     },
     "metadata": {},
     "output_type": "display_data"
    },
    {
     "name": "stdout",
     "output_type": "stream",
     "text": [
      "Target:1\n",
      "Final Target Drain Current: [9.96050565279273e-06]\n",
      "LimVal1:1.0833333333333334e-05\n",
      "LimVal0:2.0833333333333322e-05\n",
      "\n",
      "Drain 2 Only\n"
     ]
    },
    {
     "data": {
      "application/vnd.jupyter.widget-view+json": {
       "model_id": "10131a67ce764796beed531faed853e4",
       "version_major": 2,
       "version_minor": 0
      },
      "text/plain": [
       "Running Simulation :   0%|          | 0/200 [00:00<?, ?it/s]"
      ]
     },
     "metadata": {},
     "output_type": "display_data"
    },
    {
     "name": "stdout",
     "output_type": "stream",
     "text": [
      "Target:1\n",
      "Final Target Drain Current: [1.002480209862389e-05]\n",
      "LimVal1:1.0833333333333334e-05\n",
      "LimVal0:2.0833333333333322e-05\n",
      "\n",
      "Both Drains\n"
     ]
    },
    {
     "data": {
      "application/vnd.jupyter.widget-view+json": {
       "model_id": "96afefd8c39f4f489898342f9f7c63b8",
       "version_major": 2,
       "version_minor": 0
      },
      "text/plain": [
       "Running Simulation :   0%|          | 0/200 [00:00<?, ?it/s]"
      ]
     },
     "metadata": {},
     "output_type": "display_data"
    },
    {
     "name": "stdout",
     "output_type": "stream",
     "text": [
      "Target:0\n",
      "Final Target Drain Current: [6.012409701731208e-07, 3.159697576423148e-07]\n",
      "Target: 0.0\n",
      "Accuracy: 0\n",
      "LimVal1:1e-05\n",
      "LimVal0:2.2499999999999988e-05\n",
      "\n",
      "Drain 1 Only\n"
     ]
    },
    {
     "data": {
      "application/vnd.jupyter.widget-view+json": {
       "model_id": "6d1d8c65b2294d4cb1c2b57f66ec30c3",
       "version_major": 2,
       "version_minor": 0
      },
      "text/plain": [
       "Running Simulation :   0%|          | 0/200 [00:00<?, ?it/s]"
      ]
     },
     "metadata": {},
     "output_type": "display_data"
    },
    {
     "name": "stdout",
     "output_type": "stream",
     "text": [
      "Target:0\n",
      "Final Target Drain Current: [1.0113567768969057e-05]\n",
      "LimVal1:1e-05\n",
      "LimVal0:2.2499999999999988e-05\n",
      "\n",
      "Drain 2 Only\n"
     ]
    },
    {
     "data": {
      "application/vnd.jupyter.widget-view+json": {
       "model_id": "c8ca8258917c45959f00f97738fc5a34",
       "version_major": 2,
       "version_minor": 0
      },
      "text/plain": [
       "Running Simulation :   0%|          | 0/200 [00:00<?, ?it/s]"
      ]
     },
     "metadata": {},
     "output_type": "display_data"
    },
    {
     "name": "stdout",
     "output_type": "stream",
     "text": [
      "Target:1\n",
      "Final Target Drain Current: [1.0148868637634156e-05]\n",
      "LimVal1:1e-05\n",
      "LimVal0:2.2499999999999988e-05\n",
      "\n",
      "Drain 2 Only\n"
     ]
    },
    {
     "data": {
      "application/vnd.jupyter.widget-view+json": {
       "model_id": "967c6e0a2b704f7392b63771c1a01145",
       "version_major": 2,
       "version_minor": 0
      },
      "text/plain": [
       "Running Simulation :   0%|          | 0/200 [00:00<?, ?it/s]"
      ]
     },
     "metadata": {},
     "output_type": "display_data"
    },
    {
     "name": "stdout",
     "output_type": "stream",
     "text": [
      "Target:1\n",
      "Final Target Drain Current: [1.0034898708313092e-05]\n",
      "LimVal1:1e-05\n",
      "LimVal0:2.2499999999999988e-05\n",
      "\n",
      "Drain 2 Only\n"
     ]
    },
    {
     "data": {
      "application/vnd.jupyter.widget-view+json": {
       "model_id": "bb2b7f0de4914f24adda3d052f2d3324",
       "version_major": 2,
       "version_minor": 0
      },
      "text/plain": [
       "Running Simulation :   0%|          | 0/200 [00:00<?, ?it/s]"
      ]
     },
     "metadata": {},
     "output_type": "display_data"
    },
    {
     "name": "stdout",
     "output_type": "stream",
     "text": [
      "Target:1\n",
      "Final Target Drain Current: [1.0020450788729206e-05]\n",
      "LimVal1:1e-05\n",
      "LimVal0:2.2499999999999988e-05\n",
      "\n",
      "Drain 2 Only\n"
     ]
    },
    {
     "data": {
      "application/vnd.jupyter.widget-view+json": {
       "model_id": "8a5796ec8f0b441682eb151b4d666625",
       "version_major": 2,
       "version_minor": 0
      },
      "text/plain": [
       "Running Simulation :   0%|          | 0/200 [00:00<?, ?it/s]"
      ]
     },
     "metadata": {},
     "output_type": "display_data"
    },
    {
     "name": "stdout",
     "output_type": "stream",
     "text": [
      "Target:1\n",
      "Final Target Drain Current: [1.0035692639481521e-05]\n",
      "LimVal1:1e-05\n",
      "LimVal0:2.2499999999999988e-05\n",
      "\n",
      "Drain 2 Only\n"
     ]
    },
    {
     "data": {
      "application/vnd.jupyter.widget-view+json": {
       "model_id": "8b2a8c817f234933bb95deaba9918a23",
       "version_major": 2,
       "version_minor": 0
      },
      "text/plain": [
       "Running Simulation :   0%|          | 0/200 [00:00<?, ?it/s]"
      ]
     },
     "metadata": {},
     "output_type": "display_data"
    },
    {
     "name": "stdout",
     "output_type": "stream",
     "text": [
      "Target:1\n",
      "Final Target Drain Current: [1.0012250346248054e-05]\n",
      "LimVal1:1e-05\n",
      "LimVal0:2.2499999999999988e-05\n",
      "\n",
      "Both Drains\n"
     ]
    },
    {
     "data": {
      "application/vnd.jupyter.widget-view+json": {
       "model_id": "b67d5a06c9874adbb1584fce351dd046",
       "version_major": 2,
       "version_minor": 0
      },
      "text/plain": [
       "Running Simulation :   0%|          | 0/200 [00:00<?, ?it/s]"
      ]
     },
     "metadata": {},
     "output_type": "display_data"
    },
    {
     "name": "stdout",
     "output_type": "stream",
     "text": [
      "Target:0\n",
      "Final Target Drain Current: [2.0445973465034936e-07, 3.257173352144171e-07]\n",
      "Target: 0.0\n",
      "Accuracy: 0\n",
      "LimVal1:9.166666666666668e-06\n",
      "LimVal0:2.4166666666666653e-05\n",
      "\n",
      "Drain 1 Only\n"
     ]
    },
    {
     "data": {
      "application/vnd.jupyter.widget-view+json": {
       "model_id": "3e964f4a7bce43409cb4d71afbad7128",
       "version_major": 2,
       "version_minor": 0
      },
      "text/plain": [
       "Running Simulation :   0%|          | 0/200 [00:00<?, ?it/s]"
      ]
     },
     "metadata": {},
     "output_type": "display_data"
    },
    {
     "name": "stdout",
     "output_type": "stream",
     "text": [
      "Target:0\n",
      "Final Target Drain Current: [1.008920533820518e-05]\n",
      "LimVal1:9.166666666666668e-06\n",
      "LimVal0:2.4166666666666653e-05\n",
      "\n",
      "Drain 2 Only\n"
     ]
    },
    {
     "data": {
      "application/vnd.jupyter.widget-view+json": {
       "model_id": "de183b59b2f34ad881ad6c04090da8be",
       "version_major": 2,
       "version_minor": 0
      },
      "text/plain": [
       "Running Simulation :   0%|          | 0/200 [00:00<?, ?it/s]"
      ]
     },
     "metadata": {},
     "output_type": "display_data"
    },
    {
     "name": "stdout",
     "output_type": "stream",
     "text": [
      "Target:1\n",
      "Final Target Drain Current: [9.192677096388314e-06]\n",
      "LimVal1:9.166666666666668e-06\n",
      "LimVal0:2.4166666666666653e-05\n",
      "\n",
      "Drain 2 Only\n"
     ]
    },
    {
     "data": {
      "application/vnd.jupyter.widget-view+json": {
       "model_id": "dc134784fd4b440a91fba63c6fab821e",
       "version_major": 2,
       "version_minor": 0
      },
      "text/plain": [
       "Running Simulation :   0%|          | 0/200 [00:00<?, ?it/s]"
      ]
     },
     "metadata": {},
     "output_type": "display_data"
    },
    {
     "name": "stdout",
     "output_type": "stream",
     "text": [
      "Target:1\n",
      "Final Target Drain Current: [9.212734973408098e-06]\n",
      "LimVal1:9.166666666666668e-06\n",
      "LimVal0:2.4166666666666653e-05\n",
      "\n",
      "Drain 2 Only\n"
     ]
    },
    {
     "data": {
      "application/vnd.jupyter.widget-view+json": {
       "model_id": "8fab136116a344c681d318b9b8f08360",
       "version_major": 2,
       "version_minor": 0
      },
      "text/plain": [
       "Running Simulation :   0%|          | 0/200 [00:00<?, ?it/s]"
      ]
     },
     "metadata": {},
     "output_type": "display_data"
    },
    {
     "name": "stdout",
     "output_type": "stream",
     "text": [
      "Target:1\n",
      "Final Target Drain Current: [9.247535169642244e-06]\n",
      "LimVal1:9.166666666666668e-06\n",
      "LimVal0:2.4166666666666653e-05\n",
      "\n",
      "Drain 2 Only\n"
     ]
    },
    {
     "data": {
      "application/vnd.jupyter.widget-view+json": {
       "model_id": "1b058fce2c1443bbaa958ef1ec55cff6",
       "version_major": 2,
       "version_minor": 0
      },
      "text/plain": [
       "Running Simulation :   0%|          | 0/200 [00:00<?, ?it/s]"
      ]
     },
     "metadata": {},
     "output_type": "display_data"
    },
    {
     "name": "stdout",
     "output_type": "stream",
     "text": [
      "Target:1\n",
      "Final Target Drain Current: [9.313922659355799e-06]\n",
      "LimVal1:9.166666666666668e-06\n",
      "LimVal0:2.4166666666666653e-05\n",
      "\n",
      "Drain 2 Only\n"
     ]
    },
    {
     "data": {
      "application/vnd.jupyter.widget-view+json": {
       "model_id": "f33ff228c102410887f48ce703357caa",
       "version_major": 2,
       "version_minor": 0
      },
      "text/plain": [
       "Running Simulation :   0%|          | 0/200 [00:00<?, ?it/s]"
      ]
     },
     "metadata": {},
     "output_type": "display_data"
    },
    {
     "name": "stdout",
     "output_type": "stream",
     "text": [
      "Target:1\n",
      "Final Target Drain Current: [9.1788033919685e-06]\n",
      "LimVal1:9.166666666666668e-06\n",
      "LimVal0:2.4166666666666653e-05\n",
      "\n",
      "Both Drains\n"
     ]
    },
    {
     "data": {
      "application/vnd.jupyter.widget-view+json": {
       "model_id": "9a8ab58f1f9b4f7e84aae4fae6965123",
       "version_major": 2,
       "version_minor": 0
      },
      "text/plain": [
       "Running Simulation :   0%|          | 0/200 [00:00<?, ?it/s]"
      ]
     },
     "metadata": {},
     "output_type": "display_data"
    },
    {
     "name": "stdout",
     "output_type": "stream",
     "text": [
      "Target:0\n",
      "Final Target Drain Current: [6.44963927943975e-09, 1.8890471891128586e-08]\n",
      "Target: 0.0\n",
      "Accuracy: 0\n",
      "LimVal1:8.333333333333335e-06\n",
      "LimVal0:2.583333333333332e-05\n",
      "\n",
      "Drain 2 Only\n"
     ]
    },
    {
     "data": {
      "application/vnd.jupyter.widget-view+json": {
       "model_id": "5c6e9435d4584771ad409dff1fbffe5f",
       "version_major": 2,
       "version_minor": 0
      },
      "text/plain": [
       "Running Simulation :   0%|          | 0/200 [00:00<?, ?it/s]"
      ]
     },
     "metadata": {},
     "output_type": "display_data"
    },
    {
     "name": "stdout",
     "output_type": "stream",
     "text": [
      "Target:1\n",
      "Final Target Drain Current: [8.379220350263058e-06]\n",
      "LimVal1:8.333333333333335e-06\n",
      "LimVal0:2.583333333333332e-05\n",
      "\n",
      "Both Drains\n"
     ]
    },
    {
     "data": {
      "application/vnd.jupyter.widget-view+json": {
       "model_id": "a9939628552447b1b03cef4d7bf0c5ca",
       "version_major": 2,
       "version_minor": 0
      },
      "text/plain": [
       "Running Simulation :   0%|          | 0/200 [00:00<?, ?it/s]"
      ]
     },
     "metadata": {},
     "output_type": "display_data"
    },
    {
     "name": "stdout",
     "output_type": "stream",
     "text": [
      "Target:0\n",
      "Final Target Drain Current: [3.0021470599707043e-09, 2.991518475621632e-07]\n",
      "Target: 0.0\n",
      "Accuracy: 0\n",
      "LimVal1:7.500000000000002e-06\n",
      "LimVal0:2.7499999999999984e-05\n",
      "\n",
      "Drain 1 Only\n"
     ]
    },
    {
     "data": {
      "application/vnd.jupyter.widget-view+json": {
       "model_id": "22994a2f62cc48d1970a7b31e2d09f89",
       "version_major": 2,
       "version_minor": 0
      },
      "text/plain": [
       "Running Simulation :   0%|          | 0/200 [00:00<?, ?it/s]"
      ]
     },
     "metadata": {},
     "output_type": "display_data"
    },
    {
     "name": "stdout",
     "output_type": "stream",
     "text": [
      "Target:0\n",
      "Final Target Drain Current: [8.811221274033848e-06]\n",
      "LimVal1:7.500000000000002e-06\n",
      "LimVal0:2.7499999999999984e-05\n",
      "\n",
      "Drain 1 Only\n"
     ]
    },
    {
     "data": {
      "application/vnd.jupyter.widget-view+json": {
       "model_id": "17a603a10abb4dbfa9359d5c39a9d3a2",
       "version_major": 2,
       "version_minor": 0
      },
      "text/plain": [
       "Running Simulation :   0%|          | 0/200 [00:00<?, ?it/s]"
      ]
     },
     "metadata": {},
     "output_type": "display_data"
    },
    {
     "name": "stdout",
     "output_type": "stream",
     "text": [
      "Target:0\n",
      "Final Target Drain Current: [1.0138561175645483e-05]\n",
      "LimVal1:7.500000000000002e-06\n",
      "LimVal0:2.7499999999999984e-05\n",
      "\n",
      "Drain 1 Only\n"
     ]
    },
    {
     "data": {
      "application/vnd.jupyter.widget-view+json": {
       "model_id": "0083c08f95f54abc886d72223b2a9da1",
       "version_major": 2,
       "version_minor": 0
      },
      "text/plain": [
       "Running Simulation :   0%|          | 0/200 [00:00<?, ?it/s]"
      ]
     },
     "metadata": {},
     "output_type": "display_data"
    },
    {
     "name": "stdout",
     "output_type": "stream",
     "text": [
      "Target:0\n",
      "Final Target Drain Current: [1.0007982285008444e-05]\n",
      "LimVal1:7.500000000000002e-06\n",
      "LimVal0:2.7499999999999984e-05\n",
      "\n",
      "Drain 1 Only\n"
     ]
    },
    {
     "data": {
      "application/vnd.jupyter.widget-view+json": {
       "model_id": "cd627d0dd80c4b90a91620f2d3bbf2b6",
       "version_major": 2,
       "version_minor": 0
      },
      "text/plain": [
       "Running Simulation :   0%|          | 0/200 [00:00<?, ?it/s]"
      ]
     },
     "metadata": {},
     "output_type": "display_data"
    },
    {
     "name": "stdout",
     "output_type": "stream",
     "text": [
      "Target:0\n",
      "Final Target Drain Current: [1.0000169327697364e-05]\n",
      "LimVal1:7.500000000000002e-06\n",
      "LimVal0:2.7499999999999984e-05\n",
      "\n",
      "Both Drains\n"
     ]
    },
    {
     "data": {
      "application/vnd.jupyter.widget-view+json": {
       "model_id": "99e8c53c01dd481c90cae3713c596397",
       "version_major": 2,
       "version_minor": 0
      },
      "text/plain": [
       "Running Simulation :   0%|          | 0/200 [00:00<?, ?it/s]"
      ]
     },
     "metadata": {},
     "output_type": "display_data"
    },
    {
     "name": "stdout",
     "output_type": "stream",
     "text": [
      "Target:1\n",
      "Final Target Drain Current: [4.454524205058946e-07, 4.364804028109694e-09]\n",
      "Target: 1.0\n",
      "Accuracy: 0\n",
      "LimVal1:9.166666666666668e-06\n",
      "LimVal0:2.666666666666665e-05\n",
      "\n",
      "Drain 2 Only\n"
     ]
    },
    {
     "data": {
      "application/vnd.jupyter.widget-view+json": {
       "model_id": "fd4c03b2a72940869ed7068221c1fee3",
       "version_major": 2,
       "version_minor": 0
      },
      "text/plain": [
       "Running Simulation :   0%|          | 0/200 [00:00<?, ?it/s]"
      ]
     },
     "metadata": {},
     "output_type": "display_data"
    },
    {
     "name": "stdout",
     "output_type": "stream",
     "text": [
      "Target:1\n",
      "Final Target Drain Current: [9.242385102100805e-06]\n",
      "LimVal1:9.166666666666668e-06\n",
      "LimVal0:2.666666666666665e-05\n",
      "\n",
      "Drain 1 Only\n"
     ]
    },
    {
     "data": {
      "application/vnd.jupyter.widget-view+json": {
       "model_id": "b1a259f064044c6c80f778f4a6d28ab7",
       "version_major": 2,
       "version_minor": 0
      },
      "text/plain": [
       "Running Simulation :   0%|          | 0/200 [00:00<?, ?it/s]"
      ]
     },
     "metadata": {},
     "output_type": "display_data"
    },
    {
     "name": "stdout",
     "output_type": "stream",
     "text": [
      "Target:0\n",
      "Final Target Drain Current: [9.904470045338898e-06]\n",
      "LimVal1:9.166666666666668e-06\n",
      "LimVal0:2.666666666666665e-05\n",
      "\n",
      "Drain 1 Only\n"
     ]
    },
    {
     "data": {
      "application/vnd.jupyter.widget-view+json": {
       "model_id": "22ff8fd6abf745afba9b1bc16d4f95a8",
       "version_major": 2,
       "version_minor": 0
      },
      "text/plain": [
       "Running Simulation :   0%|          | 0/200 [00:00<?, ?it/s]"
      ]
     },
     "metadata": {},
     "output_type": "display_data"
    },
    {
     "name": "stdout",
     "output_type": "stream",
     "text": [
      "Target:0\n",
      "Final Target Drain Current: [9.955617798284319e-06]\n",
      "LimVal1:9.166666666666668e-06\n",
      "LimVal0:2.666666666666665e-05\n",
      "\n",
      "Drain 1 Only\n"
     ]
    },
    {
     "data": {
      "application/vnd.jupyter.widget-view+json": {
       "model_id": "c6ad807883454ffa854d9fd3016751b8",
       "version_major": 2,
       "version_minor": 0
      },
      "text/plain": [
       "Running Simulation :   0%|          | 0/200 [00:00<?, ?it/s]"
      ]
     },
     "metadata": {},
     "output_type": "display_data"
    },
    {
     "name": "stdout",
     "output_type": "stream",
     "text": [
      "Target:0\n",
      "Final Target Drain Current: [1.0002747373174238e-05]\n",
      "LimVal1:9.166666666666668e-06\n",
      "LimVal0:2.666666666666665e-05\n",
      "\n",
      "Drain 1 Only\n"
     ]
    },
    {
     "data": {
      "application/vnd.jupyter.widget-view+json": {
       "model_id": "5cec5f65ebd54b2897a2609dcb787324",
       "version_major": 2,
       "version_minor": 0
      },
      "text/plain": [
       "Running Simulation :   0%|          | 0/200 [00:00<?, ?it/s]"
      ]
     },
     "metadata": {},
     "output_type": "display_data"
    },
    {
     "name": "stdout",
     "output_type": "stream",
     "text": [
      "Target:0\n",
      "Final Target Drain Current: [1.0000685728391791e-05]\n",
      "LimVal1:9.166666666666668e-06\n",
      "LimVal0:2.666666666666665e-05\n",
      "\n",
      "Drain 1 Only\n"
     ]
    },
    {
     "data": {
      "application/vnd.jupyter.widget-view+json": {
       "model_id": "7e89f14988df48dea791784b7f61cdd4",
       "version_major": 2,
       "version_minor": 0
      },
      "text/plain": [
       "Running Simulation :   0%|          | 0/200 [00:00<?, ?it/s]"
      ]
     },
     "metadata": {},
     "output_type": "display_data"
    },
    {
     "name": "stdout",
     "output_type": "stream",
     "text": [
      "Target:0\n",
      "Final Target Drain Current: [1.0000598507936764e-05]\n",
      "LimVal1:9.166666666666668e-06\n",
      "LimVal0:2.666666666666665e-05\n",
      "\n",
      "Both Drains\n"
     ]
    },
    {
     "data": {
      "application/vnd.jupyter.widget-view+json": {
       "model_id": "f44d2b9b7cde41c8a2f87a1c1e080706",
       "version_major": 2,
       "version_minor": 0
      },
      "text/plain": [
       "Running Simulation :   0%|          | 0/200 [00:00<?, ?it/s]"
      ]
     },
     "metadata": {},
     "output_type": "display_data"
    },
    {
     "name": "stdout",
     "output_type": "stream",
     "text": [
      "Target:1\n",
      "Final Target Drain Current: [6.035358963578886e-07, 1.6784755704278788e-08]\n",
      "Target: 1.0\n",
      "Accuracy: 0\n",
      "LimVal1:1.0833333333333335e-05\n",
      "LimVal0:2.5833333333333315e-05\n",
      "\n",
      "Drain 1 Only\n"
     ]
    },
    {
     "data": {
      "application/vnd.jupyter.widget-view+json": {
       "model_id": "990a39568cdb4607825eb1e896d25dcc",
       "version_major": 2,
       "version_minor": 0
      },
      "text/plain": [
       "Running Simulation :   0%|          | 0/200 [00:00<?, ?it/s]"
      ]
     },
     "metadata": {},
     "output_type": "display_data"
    },
    {
     "name": "stdout",
     "output_type": "stream",
     "text": [
      "Target:0\n",
      "Final Target Drain Current: [1.0006278629426366e-05]\n",
      "LimVal1:1.0833333333333335e-05\n",
      "LimVal0:2.5833333333333315e-05\n",
      "\n",
      "Drain 2 Only\n"
     ]
    },
    {
     "data": {
      "application/vnd.jupyter.widget-view+json": {
       "model_id": "17363a6883b843a28ffdd5977ce65b1e",
       "version_major": 2,
       "version_minor": 0
      },
      "text/plain": [
       "Running Simulation :   0%|          | 0/200 [00:00<?, ?it/s]"
      ]
     },
     "metadata": {},
     "output_type": "display_data"
    },
    {
     "name": "stdout",
     "output_type": "stream",
     "text": [
      "Target:1\n",
      "Final Target Drain Current: [1.0007434889329198e-05]\n",
      "LimVal1:1.0833333333333335e-05\n",
      "LimVal0:2.5833333333333315e-05\n",
      "\n",
      "Drain 2 Only\n"
     ]
    },
    {
     "data": {
      "application/vnd.jupyter.widget-view+json": {
       "model_id": "859f529413b84f3e93b0e3f9bad37119",
       "version_major": 2,
       "version_minor": 0
      },
      "text/plain": [
       "Running Simulation :   0%|          | 0/200 [00:00<?, ?it/s]"
      ]
     },
     "metadata": {},
     "output_type": "display_data"
    },
    {
     "name": "stdout",
     "output_type": "stream",
     "text": [
      "Target:1\n",
      "Final Target Drain Current: [1.0021199756400626e-05]\n",
      "LimVal1:1.0833333333333335e-05\n",
      "LimVal0:2.5833333333333315e-05\n",
      "\n",
      "Drain 2 Only\n"
     ]
    },
    {
     "data": {
      "application/vnd.jupyter.widget-view+json": {
       "model_id": "332fa797db254c7e904f431f0df4aeb4",
       "version_major": 2,
       "version_minor": 0
      },
      "text/plain": [
       "Running Simulation :   0%|          | 0/200 [00:00<?, ?it/s]"
      ]
     },
     "metadata": {},
     "output_type": "display_data"
    },
    {
     "name": "stdout",
     "output_type": "stream",
     "text": [
      "Target:1\n",
      "Final Target Drain Current: [9.964918327531153e-06]\n",
      "LimVal1:1.0833333333333335e-05\n",
      "LimVal0:2.5833333333333315e-05\n",
      "\n",
      "Drain 2 Only\n"
     ]
    },
    {
     "data": {
      "application/vnd.jupyter.widget-view+json": {
       "model_id": "5cbf49cebb44437db5ffc84461214ac2",
       "version_major": 2,
       "version_minor": 0
      },
      "text/plain": [
       "Running Simulation :   0%|          | 0/200 [00:00<?, ?it/s]"
      ]
     },
     "metadata": {},
     "output_type": "display_data"
    },
    {
     "name": "stdout",
     "output_type": "stream",
     "text": [
      "Target:1\n",
      "Final Target Drain Current: [9.76688548964061e-06]\n",
      "LimVal1:1.0833333333333335e-05\n",
      "LimVal0:2.5833333333333315e-05\n",
      "\n",
      "Drain 2 Only\n"
     ]
    },
    {
     "data": {
      "application/vnd.jupyter.widget-view+json": {
       "model_id": "dfca73818d2144ac9991ef57acd21fc3",
       "version_major": 2,
       "version_minor": 0
      },
      "text/plain": [
       "Running Simulation :   0%|          | 0/200 [00:00<?, ?it/s]"
      ]
     },
     "metadata": {},
     "output_type": "display_data"
    },
    {
     "name": "stdout",
     "output_type": "stream",
     "text": [
      "Target:1\n",
      "Final Target Drain Current: [1.0019064965523631e-05]\n",
      "LimVal1:1.0833333333333335e-05\n",
      "LimVal0:2.5833333333333315e-05\n",
      "\n",
      "Both Drains\n"
     ]
    },
    {
     "data": {
      "application/vnd.jupyter.widget-view+json": {
       "model_id": "e240c524d3f646f08d180af79a3cd82a",
       "version_major": 2,
       "version_minor": 0
      },
      "text/plain": [
       "Running Simulation :   0%|          | 0/200 [00:00<?, ?it/s]"
      ]
     },
     "metadata": {},
     "output_type": "display_data"
    },
    {
     "name": "stdout",
     "output_type": "stream",
     "text": [
      "Target:0\n",
      "Final Target Drain Current: [5.769331188712679e-07, 3.978645422013474e-07]\n",
      "Target: 0.0\n",
      "Accuracy: 0\n",
      "LimVal1:1.0000000000000003e-05\n",
      "LimVal0:2.749999999999998e-05\n",
      "\n",
      "Drain 1 Only\n"
     ]
    },
    {
     "data": {
      "application/vnd.jupyter.widget-view+json": {
       "model_id": "47203ddb955e4f88a55989e2be1fab67",
       "version_major": 2,
       "version_minor": 0
      },
      "text/plain": [
       "Running Simulation :   0%|          | 0/200 [00:00<?, ?it/s]"
      ]
     },
     "metadata": {},
     "output_type": "display_data"
    },
    {
     "name": "stdout",
     "output_type": "stream",
     "text": [
      "Target:0\n",
      "Final Target Drain Current: [1.0056329740471368e-05]\n",
      "LimVal1:1.0000000000000003e-05\n",
      "LimVal0:2.749999999999998e-05\n",
      "\n",
      "Drain 2 Only\n"
     ]
    },
    {
     "data": {
      "application/vnd.jupyter.widget-view+json": {
       "model_id": "b94f90174b6c490994ca89441b2c8225",
       "version_major": 2,
       "version_minor": 0
      },
      "text/plain": [
       "Running Simulation :   0%|          | 0/200 [00:00<?, ?it/s]"
      ]
     },
     "metadata": {},
     "output_type": "display_data"
    },
    {
     "name": "stdout",
     "output_type": "stream",
     "text": [
      "Target:1\n",
      "Final Target Drain Current: [1.0229885148937253e-05]\n",
      "LimVal1:1.0000000000000003e-05\n",
      "LimVal0:2.749999999999998e-05\n",
      "\n",
      "Drain 2 Only\n"
     ]
    },
    {
     "data": {
      "application/vnd.jupyter.widget-view+json": {
       "model_id": "b288454eae634e5893f9ebe315cec5dc",
       "version_major": 2,
       "version_minor": 0
      },
      "text/plain": [
       "Running Simulation :   0%|          | 0/200 [00:00<?, ?it/s]"
      ]
     },
     "metadata": {},
     "output_type": "display_data"
    },
    {
     "name": "stdout",
     "output_type": "stream",
     "text": [
      "Target:1\n",
      "Final Target Drain Current: [1.0001924835390304e-05]\n",
      "LimVal1:1.0000000000000003e-05\n",
      "LimVal0:2.749999999999998e-05\n",
      "\n",
      "Drain 2 Only\n"
     ]
    },
    {
     "data": {
      "application/vnd.jupyter.widget-view+json": {
       "model_id": "ccef3eb5e63e4f3eb8f421703e28c881",
       "version_major": 2,
       "version_minor": 0
      },
      "text/plain": [
       "Running Simulation :   0%|          | 0/200 [00:00<?, ?it/s]"
      ]
     },
     "metadata": {},
     "output_type": "display_data"
    },
    {
     "name": "stdout",
     "output_type": "stream",
     "text": [
      "Target:1\n",
      "Final Target Drain Current: [1.001492815332758e-05]\n",
      "LimVal1:1.0000000000000003e-05\n",
      "LimVal0:2.749999999999998e-05\n",
      "\n",
      "Drain 2 Only\n"
     ]
    },
    {
     "data": {
      "application/vnd.jupyter.widget-view+json": {
       "model_id": "eb00d8a6ee734e4fa7fb6db951fd3b95",
       "version_major": 2,
       "version_minor": 0
      },
      "text/plain": [
       "Running Simulation :   0%|          | 0/200 [00:00<?, ?it/s]"
      ]
     },
     "metadata": {},
     "output_type": "display_data"
    },
    {
     "name": "stdout",
     "output_type": "stream",
     "text": [
      "Target:1\n",
      "Final Target Drain Current: [1.00302306552773e-05]\n",
      "LimVal1:1.0000000000000003e-05\n",
      "LimVal0:2.749999999999998e-05\n",
      "\n",
      "Drain 2 Only\n"
     ]
    },
    {
     "data": {
      "application/vnd.jupyter.widget-view+json": {
       "model_id": "16e03865cb0b43e08b3fbdf75ea4d09c",
       "version_major": 2,
       "version_minor": 0
      },
      "text/plain": [
       "Running Simulation :   0%|          | 0/200 [00:00<?, ?it/s]"
      ]
     },
     "metadata": {},
     "output_type": "display_data"
    },
    {
     "name": "stdout",
     "output_type": "stream",
     "text": [
      "Target:1\n",
      "Final Target Drain Current: [1.010297574015892e-05]\n",
      "LimVal1:1.0000000000000003e-05\n",
      "LimVal0:2.749999999999998e-05\n",
      "\n",
      "Both Drains\n"
     ]
    },
    {
     "data": {
      "application/vnd.jupyter.widget-view+json": {
       "model_id": "f6812cc9bd3849dc94f7254c418ddb28",
       "version_major": 2,
       "version_minor": 0
      },
      "text/plain": [
       "Running Simulation :   0%|          | 0/200 [00:00<?, ?it/s]"
      ]
     },
     "metadata": {},
     "output_type": "display_data"
    },
    {
     "name": "stdout",
     "output_type": "stream",
     "text": [
      "Target:0\n",
      "Final Target Drain Current: [5.558063210502515e-08, 4.1130455176362305e-07]\n",
      "Target: 0.0\n",
      "Accuracy: 0\n",
      "LimVal1:9.16666666666667e-06\n",
      "LimVal0:2.9166666666666646e-05\n",
      "\n",
      "Drain 1 Only\n"
     ]
    },
    {
     "data": {
      "application/vnd.jupyter.widget-view+json": {
       "model_id": "0186236257aa4934aee7963a0110ecce",
       "version_major": 2,
       "version_minor": 0
      },
      "text/plain": [
       "Running Simulation :   0%|          | 0/200 [00:00<?, ?it/s]"
      ]
     },
     "metadata": {},
     "output_type": "display_data"
    },
    {
     "name": "stdout",
     "output_type": "stream",
     "text": [
      "Target:0\n",
      "Final Target Drain Current: [1.0079292914902545e-05]\n",
      "LimVal1:9.16666666666667e-06\n",
      "LimVal0:2.9166666666666646e-05\n",
      "\n",
      "Drain 2 Only\n"
     ]
    },
    {
     "data": {
      "application/vnd.jupyter.widget-view+json": {
       "model_id": "6892f5edac19455ca70c2f47167828e3",
       "version_major": 2,
       "version_minor": 0
      },
      "text/plain": [
       "Running Simulation :   0%|          | 0/200 [00:00<?, ?it/s]"
      ]
     },
     "metadata": {},
     "output_type": "display_data"
    },
    {
     "name": "stdout",
     "output_type": "stream",
     "text": [
      "Target:1\n",
      "Final Target Drain Current: [9.261888432945191e-06]\n",
      "LimVal1:9.16666666666667e-06\n",
      "LimVal0:2.9166666666666646e-05\n",
      "\n",
      "Drain 2 Only\n"
     ]
    },
    {
     "data": {
      "application/vnd.jupyter.widget-view+json": {
       "model_id": "960edf0a7c2b474a9560e4a0612d1d50",
       "version_major": 2,
       "version_minor": 0
      },
      "text/plain": [
       "Running Simulation :   0%|          | 0/200 [00:00<?, ?it/s]"
      ]
     },
     "metadata": {},
     "output_type": "display_data"
    },
    {
     "name": "stdout",
     "output_type": "stream",
     "text": [
      "Target:1\n",
      "Final Target Drain Current: [9.202859250600854e-06]\n",
      "LimVal1:9.16666666666667e-06\n",
      "LimVal0:2.9166666666666646e-05\n",
      "\n",
      "Drain 2 Only\n"
     ]
    },
    {
     "data": {
      "application/vnd.jupyter.widget-view+json": {
       "model_id": "fbe6553eb0a747b486c7207c6409d85c",
       "version_major": 2,
       "version_minor": 0
      },
      "text/plain": [
       "Running Simulation :   0%|          | 0/200 [00:00<?, ?it/s]"
      ]
     },
     "metadata": {},
     "output_type": "display_data"
    },
    {
     "name": "stdout",
     "output_type": "stream",
     "text": [
      "Target:1\n",
      "Final Target Drain Current: [9.304905359204996e-06]\n",
      "LimVal1:9.16666666666667e-06\n",
      "LimVal0:2.9166666666666646e-05\n",
      "\n",
      "Drain 2 Only\n"
     ]
    },
    {
     "data": {
      "application/vnd.jupyter.widget-view+json": {
       "model_id": "d8a9867845d043f78f101bb9931d36ca",
       "version_major": 2,
       "version_minor": 0
      },
      "text/plain": [
       "Running Simulation :   0%|          | 0/200 [00:00<?, ?it/s]"
      ]
     },
     "metadata": {},
     "output_type": "display_data"
    },
    {
     "name": "stdout",
     "output_type": "stream",
     "text": [
      "Target:1\n",
      "Final Target Drain Current: [9.329315682373756e-06]\n",
      "LimVal1:9.16666666666667e-06\n",
      "LimVal0:2.9166666666666646e-05\n",
      "\n",
      "Drain 2 Only\n"
     ]
    },
    {
     "data": {
      "application/vnd.jupyter.widget-view+json": {
       "model_id": "4f864b273c2e47a6866bb0232a747d9a",
       "version_major": 2,
       "version_minor": 0
      },
      "text/plain": [
       "Running Simulation :   0%|          | 0/200 [00:00<?, ?it/s]"
      ]
     },
     "metadata": {},
     "output_type": "display_data"
    },
    {
     "name": "stdout",
     "output_type": "stream",
     "text": [
      "Target:1\n",
      "Final Target Drain Current: [9.275627006394242e-06]\n",
      "LimVal1:9.16666666666667e-06\n",
      "LimVal0:2.9166666666666646e-05\n",
      "\n",
      "Both Drains\n"
     ]
    },
    {
     "data": {
      "application/vnd.jupyter.widget-view+json": {
       "model_id": "3e3000c426be4478b1d7b78df9cd780c",
       "version_major": 2,
       "version_minor": 0
      },
      "text/plain": [
       "Running Simulation :   0%|          | 0/200 [00:00<?, ?it/s]"
      ]
     },
     "metadata": {},
     "output_type": "display_data"
    },
    {
     "name": "stdout",
     "output_type": "stream",
     "text": [
      "Target:0\n",
      "Final Target Drain Current: [7.283859657352437e-09, 1.4663925248285663e-08]\n",
      "Target: 0.0\n",
      "Accuracy: 0\n",
      "LimVal1:8.333333333333337e-06\n",
      "LimVal0:3.0833333333333315e-05\n",
      "\n",
      "Drain 1 Only\n"
     ]
    },
    {
     "data": {
      "application/vnd.jupyter.widget-view+json": {
       "model_id": "2b3bd16cb49347119ddb26240c4bd461",
       "version_major": 2,
       "version_minor": 0
      },
      "text/plain": [
       "Running Simulation :   0%|          | 0/200 [00:00<?, ?it/s]"
      ]
     },
     "metadata": {},
     "output_type": "display_data"
    },
    {
     "name": "stdout",
     "output_type": "stream",
     "text": [
      "Target:0\n",
      "Final Target Drain Current: [1.0229262208511143e-05]\n",
      "LimVal1:8.333333333333337e-06\n",
      "LimVal0:3.0833333333333315e-05\n",
      "\n",
      "Drain 2 Only\n"
     ]
    },
    {
     "data": {
      "application/vnd.jupyter.widget-view+json": {
       "model_id": "4aafab64775c43a68d2102e74a695a81",
       "version_major": 2,
       "version_minor": 0
      },
      "text/plain": [
       "Running Simulation :   0%|          | 0/200 [00:00<?, ?it/s]"
      ]
     },
     "metadata": {},
     "output_type": "display_data"
    },
    {
     "name": "stdout",
     "output_type": "stream",
     "text": [
      "Target:1\n",
      "Final Target Drain Current: [8.439408749683315e-06]\n",
      "LimVal1:8.333333333333337e-06\n",
      "LimVal0:3.0833333333333315e-05\n",
      "\n",
      "Drain 2 Only\n"
     ]
    },
    {
     "data": {
      "application/vnd.jupyter.widget-view+json": {
       "model_id": "81b7a65b493a4a518ed3c3d0a3af121c",
       "version_major": 2,
       "version_minor": 0
      },
      "text/plain": [
       "Running Simulation :   0%|          | 0/200 [00:00<?, ?it/s]"
      ]
     },
     "metadata": {},
     "output_type": "display_data"
    },
    {
     "name": "stdout",
     "output_type": "stream",
     "text": [
      "Target:1\n",
      "Final Target Drain Current: [8.374587788774018e-06]\n",
      "LimVal1:8.333333333333337e-06\n",
      "LimVal0:3.0833333333333315e-05\n",
      "\n",
      "Drain 2 Only\n"
     ]
    },
    {
     "data": {
      "application/vnd.jupyter.widget-view+json": {
       "model_id": "f8207d9648cc4382aa4370de814b070d",
       "version_major": 2,
       "version_minor": 0
      },
      "text/plain": [
       "Running Simulation :   0%|          | 0/200 [00:00<?, ?it/s]"
      ]
     },
     "metadata": {},
     "output_type": "display_data"
    },
    {
     "name": "stdout",
     "output_type": "stream",
     "text": [
      "Target:1\n",
      "Final Target Drain Current: [8.369010483971168e-06]\n",
      "LimVal1:8.333333333333337e-06\n",
      "LimVal0:3.0833333333333315e-05\n",
      "\n",
      "Drain 2 Only\n"
     ]
    },
    {
     "data": {
      "application/vnd.jupyter.widget-view+json": {
       "model_id": "dd41c38c42c949b7a00bd4219aeba16d",
       "version_major": 2,
       "version_minor": 0
      },
      "text/plain": [
       "Running Simulation :   0%|          | 0/200 [00:00<?, ?it/s]"
      ]
     },
     "metadata": {},
     "output_type": "display_data"
    },
    {
     "name": "stdout",
     "output_type": "stream",
     "text": [
      "Target:1\n",
      "Final Target Drain Current: [8.42464614678648e-06]\n",
      "LimVal1:8.333333333333337e-06\n",
      "LimVal0:3.0833333333333315e-05\n",
      "\n",
      "Drain 2 Only\n"
     ]
    },
    {
     "data": {
      "application/vnd.jupyter.widget-view+json": {
       "model_id": "0a855bb1a23b48c2ae9ee3fa55f09a21",
       "version_major": 2,
       "version_minor": 0
      },
      "text/plain": [
       "Running Simulation :   0%|          | 0/200 [00:00<?, ?it/s]"
      ]
     },
     "metadata": {},
     "output_type": "display_data"
    },
    {
     "name": "stdout",
     "output_type": "stream",
     "text": [
      "Target:1\n",
      "Final Target Drain Current: [8.347972102943011e-06]\n",
      "LimVal1:8.333333333333337e-06\n",
      "LimVal0:3.0833333333333315e-05\n",
      "\n",
      "Both Drains\n"
     ]
    },
    {
     "data": {
      "application/vnd.jupyter.widget-view+json": {
       "model_id": "a1534a0bfc3d4f9cace2830b5c833c4a",
       "version_major": 2,
       "version_minor": 0
      },
      "text/plain": [
       "Running Simulation :   0%|          | 0/200 [00:00<?, ?it/s]"
      ]
     },
     "metadata": {},
     "output_type": "display_data"
    },
    {
     "name": "stdout",
     "output_type": "stream",
     "text": [
      "Target:0\n",
      "Final Target Drain Current: [5.8730879788193016e-09, 3.392999700072031e-08]\n",
      "Target: 0.0\n",
      "Accuracy: 0\n",
      "LimVal1:7.500000000000004e-06\n",
      "LimVal0:3.2499999999999984e-05\n",
      "\n",
      "Drain 2 Only\n"
     ]
    },
    {
     "data": {
      "application/vnd.jupyter.widget-view+json": {
       "model_id": "5f612fe19818477ab2703cb5771e50fd",
       "version_major": 2,
       "version_minor": 0
      },
      "text/plain": [
       "Running Simulation :   0%|          | 0/200 [00:00<?, ?it/s]"
      ]
     },
     "metadata": {},
     "output_type": "display_data"
    },
    {
     "name": "stdout",
     "output_type": "stream",
     "text": [
      "Target:1\n",
      "Final Target Drain Current: [7.540749240924974e-06]\n",
      "LimVal1:7.500000000000004e-06\n",
      "LimVal0:3.2499999999999984e-05\n",
      "\n",
      "Drain 1 Only\n"
     ]
    },
    {
     "data": {
      "application/vnd.jupyter.widget-view+json": {
       "model_id": "cabe450a41a948679e3e5c9d16ee51c3",
       "version_major": 2,
       "version_minor": 0
      },
      "text/plain": [
       "Running Simulation :   0%|          | 0/200 [00:00<?, ?it/s]"
      ]
     },
     "metadata": {},
     "output_type": "display_data"
    },
    {
     "name": "stdout",
     "output_type": "stream",
     "text": [
      "Target:0\n",
      "Final Target Drain Current: [6.660519631593841e-06]\n",
      "LimVal1:7.500000000000004e-06\n",
      "LimVal0:3.2499999999999984e-05\n",
      "\n",
      "Drain 1 Only\n"
     ]
    },
    {
     "data": {
      "application/vnd.jupyter.widget-view+json": {
       "model_id": "e6ba7687bd844624a987052f1061e637",
       "version_major": 2,
       "version_minor": 0
      },
      "text/plain": [
       "Running Simulation :   0%|          | 0/200 [00:00<?, ?it/s]"
      ]
     },
     "metadata": {},
     "output_type": "display_data"
    },
    {
     "name": "stdout",
     "output_type": "stream",
     "text": [
      "Target:0\n",
      "Final Target Drain Current: [9.891318903235996e-06]\n",
      "LimVal1:7.500000000000004e-06\n",
      "LimVal0:3.2499999999999984e-05\n",
      "\n",
      "Drain 1 Only\n"
     ]
    },
    {
     "data": {
      "application/vnd.jupyter.widget-view+json": {
       "model_id": "75565126f69c41ff82d685648555a651",
       "version_major": 2,
       "version_minor": 0
      },
      "text/plain": [
       "Running Simulation :   0%|          | 0/200 [00:00<?, ?it/s]"
      ]
     },
     "metadata": {},
     "output_type": "display_data"
    },
    {
     "name": "stdout",
     "output_type": "stream",
     "text": [
      "Target:0\n",
      "Final Target Drain Current: [1.0000985306496834e-05]\n",
      "LimVal1:7.500000000000004e-06\n",
      "LimVal0:3.2499999999999984e-05\n",
      "\n",
      "Drain 1 Only\n"
     ]
    },
    {
     "data": {
      "application/vnd.jupyter.widget-view+json": {
       "model_id": "11e44120e1cb44c9ae28b0517762c0b6",
       "version_major": 2,
       "version_minor": 0
      },
      "text/plain": [
       "Running Simulation :   0%|          | 0/200 [00:00<?, ?it/s]"
      ]
     },
     "metadata": {},
     "output_type": "display_data"
    },
    {
     "name": "stdout",
     "output_type": "stream",
     "text": [
      "Target:0\n",
      "Final Target Drain Current: [1.0008883349017351e-05]\n",
      "LimVal1:7.500000000000004e-06\n",
      "LimVal0:3.2499999999999984e-05\n",
      "\n",
      "Drain 1 Only\n"
     ]
    },
    {
     "data": {
      "application/vnd.jupyter.widget-view+json": {
       "model_id": "e08bd13ea0d843f387346200d230f16b",
       "version_major": 2,
       "version_minor": 0
      },
      "text/plain": [
       "Running Simulation :   0%|          | 0/200 [00:00<?, ?it/s]"
      ]
     },
     "metadata": {},
     "output_type": "display_data"
    },
    {
     "name": "stdout",
     "output_type": "stream",
     "text": [
      "Target:0\n",
      "Final Target Drain Current: [1.0002529589994249e-05]\n",
      "LimVal1:7.500000000000004e-06\n",
      "LimVal0:3.2499999999999984e-05\n",
      "saving sim data\n"
     ]
    }
   ],
   "source": [
    "## !/usr/bin/env python\n",
    "# coding: utf-8\n",
    "\n",
    "# In[ ]:\n",
    "\n",
    "\n",
    "\"\"\" \n",
    "\n",
    "Run Equilibrium Propagation / Backpropagation on Nanowire Networks for classification. \n",
    "\n",
    "Author: Alon Loeffler\n",
    "\n",
    "Required Files/Folders: learning_functions.py | edamame | asn_nw_00350_nj_01350_seed_1581_avl_10.00_disp_01.00_lx_50.00_ly_50.00.mat\n",
    "\n",
    "\"\"\"\n",
    "\n",
    "#IMPORTS:\n",
    "#Append path to Ruomin's Edamame Package (Nanowire Simulations)\n",
    "import sys\n",
    "import os\n",
    "\n",
    "sys.path.append('/import/silo2/aloe8475/Documents/edamame') #point to edamame locally\n",
    "sys.path.append('/import/silo2/aloe8475/Documents/CODE/Analysis/Training/Associative Learning/EquilProp') #point to edamame locally\n",
    "\n",
    "#Choose which nw:\n",
    "nwChoice=700 #350 or 700\n",
    "\n",
    "if nwChoice == 350:\n",
    "    fileName='/import/silo2/aloe8475/Documents/Data/Associative Learning/Sparse Networks/asn_nw_00350_nj_01350_seed_1581_avl_10.00_disp_01.00_lx_50.00_ly_50.00'\n",
    "elif nwChoice == 700:\n",
    "    fileName='/import/silo2/aloe8475/Documents/Data/Associative Learning/Sparse Networks/asn_nw_00698_nj_02582_seed_002_avl_10.00_disp_01.00_lx_75.00_ly_75.00'\n",
    "\n",
    "#point to network data path ^ \n",
    "\n",
    "saveFig='/import/silo2/aloe8475/Documents/Data/Figures/Equil Prop/' \n",
    "dataLoc='/import/silo2/aloe8475/Documents/Data/Associative Learning/EquilProp/'\n",
    "\n",
    "#import edamame (neuromorphic nanowire python package by Ruomin Zhu)\n",
    "from edamame import * \n",
    "import numpy as np\n",
    "import matplotlib.pyplot as plt\n",
    "import copy\n",
    "from scipy.io import loadmat, savemat\n",
    "import networkx as nx\n",
    "from tqdm.notebook import tqdm_notebook as tqdm\n",
    "from IPython.core.debugger import set_trace\n",
    "\n",
    "import pickle \n",
    "import _pickle as cPickle\n",
    "import gzip\n",
    "\n",
    "from learning_functions import genGridNW,point_on_line,dist,getWeightedGraph\n",
    "from learning_functions import calc_cost,setupStimulus,setupSourcesOnly,runTesting,getNWState,calcOutputs\n",
    "\n",
    "\" Create Inputs \"\n",
    "def createSimpleInputs(patternSize=3,numSamples=10,noise=False):\n",
    "    #SIMPLE ROW INPUTS:\n",
    "    np.random.seed(42)\n",
    "    \n",
    "    if patternSize==2:\n",
    "    #2x2 pattern:\n",
    "        orig_inputs=np.array((np.array([1,0,1,0]),np.array([0,1,0,1])))\n",
    "    elif patternSize==3:\n",
    "        #3x3 pattern:\n",
    "        orig_inputs=np.array((np.array([1,0,1,0,0,1,0,0,0]),np.array([0,0,0,1,0,0,1,0,1])))\n",
    "    orig_inputs=orig_inputs.astype('double')\n",
    "    samples=[[] for i in range(len(orig_inputs))]\n",
    "    new_inputs=np.array([orig_inputs]*numSamples)\n",
    "\n",
    "    #Pattern without Noise\n",
    "    NoNoiseInputs=[]\n",
    "    for targetClass in range(len(orig_inputs)):\n",
    "        NoNoiseInputs.append([int(i) for i in orig_inputs[targetClass]])\n",
    "#     set_trace()\n",
    "    #Make Noisy variants of simple patterns:\n",
    "    for i in range(len(orig_inputs)):\n",
    "        for j in range(numSamples):\n",
    "            randVals=np.random.randint(1,patternSize) #choose how many of the 3 sources will have noise\n",
    "            noiseVals=np.random.randint(patternSize, size=randVals)\n",
    "            temp=orig_inputs[i][orig_inputs[i]==1].astype('double')\n",
    "            if noise:\n",
    "                for val in noiseVals:\n",
    "                    temp[val]=np.double(np.random.random(1))\n",
    "            new_inputs[j][i][new_inputs[j][i]==1]=temp\n",
    "    #         samples[i].append(temp)\n",
    "    \n",
    "    #RESHAPE INPUTS INTO numSamplesx2\n",
    "    row1=[]\n",
    "    row2=[]\n",
    "    for i in range(len(new_inputs)):\n",
    "        row1.append(new_inputs[i][0])\n",
    "        row2.append(new_inputs[i][1])\n",
    "\n",
    "    inputs=np.array([row1,row2])\n",
    "    inputs=inputs.reshape(numSamples*2,orig_inputs.shape[1])\n",
    "    targets=np.zeros(numSamples*2)\n",
    "    targets[-numSamples:]=1\n",
    "\n",
    "    #change 0 volts to 0.05\n",
    "#     minVoltage=0.005\n",
    "#     inputs=inputs+minVoltage\n",
    "    \n",
    "    return inputs, targets,orig_inputs\n",
    "\n",
    "\" Load Networks \"\n",
    "def buildNetworks(fileName,ManualSources=True,numDrains=2,numSources=9):\n",
    "    #load data\n",
    "    nw=loadmat(fileName)\n",
    "    nwSize = nw['number_of_wires'][0][0]\n",
    "    nwJunctions=nw['number_of_junctions'][0][0]\n",
    "    print('Network '+str(nwSize)+ ' Loaded')\n",
    "#     this_seed=8639\n",
    "    Network=nw\n",
    "    connectivity=connectivity__(wires_dict=Network) \n",
    "\n",
    "    #fixing file structure from Matlab:\n",
    "    connectivity.avg_length=connectivity.avg_length[0][0]\n",
    "    connectivity.number_of_junctions=connectivity.number_of_junctions[0][0]\n",
    "    connectivity.centroid_dispersion=connectivity.centroid_dispersion[0][0]\n",
    "    connectivity.dispersion=connectivity.dispersion[0][0]\n",
    "    # connectivity.generating_number_of_wires=connectivity.generating_number_of_wires[0][0]\n",
    "    connectivity.gennorm_shape=connectivity.gennorm_shape[0][0]\n",
    "    connectivity.length_x=connectivity.length_x[0][0]\n",
    "    connectivity.length_y=connectivity.length_y[0][0]\n",
    "    connectivity.number_of_wires=connectivity.number_of_wires[0][0]\n",
    "    connectivity.numOfWires=connectivity.numOfWires[0][0]\n",
    "    connectivity.numOfJunctions=connectivity.numOfJunctions[0][0]\n",
    "    connectivity.theta=connectivity.theta[0][0]\n",
    "    connectivity.this_seed=connectivity.this_seed[0][0]\n",
    "    \n",
    "    #find x and y values of each end of each wire \n",
    "    xa=connectivity.xa[0]\n",
    "    xb=connectivity.xb[0]\n",
    "    ya=connectivity.ya[0]\n",
    "    yb=connectivity.yb[0]\n",
    "\n",
    "    #Pick Electrode placement/distance apart:\n",
    "    \n",
    "    #DRAINS\n",
    "    numDrains=3\n",
    "    ex=np.zeros(numDrains)*5#*15\n",
    "    if nwSize > 500:\n",
    "        eyVal=76\n",
    "    else:\n",
    "        eyVal= 51\n",
    "    ey=np.linspace(-1,eyVal,numDrains)#(-1,101,numDrains)\n",
    "\n",
    "    elecDrain=genGridNW(xa,xb,ya,yb,ex,ey) #generate drain locations in ex, ey coordinates\n",
    "\n",
    "\n",
    "    #IN A LINE:\n",
    "    if nwSize > 500:\n",
    "        exVal=75\n",
    "        eyVal = 74\n",
    "    else:\n",
    "        exVal=50\n",
    "        eyVal=49\n",
    "    ex=np.ones(numSources)*exVal#50\n",
    "    ey=np.linspace(-2,eyVal,numSources)#(-2,99,numSources)\n",
    "    \n",
    "    #IN A 3X3 GRID:\n",
    "    # middleNWx=int(connectivity.length_x/2)+1\n",
    "    # middleNWy=int(connectivity.length_y/2)-1\n",
    "    # distBwElecs=10\n",
    "    # ex=[middleNWx-distBwElecs,middleNWx-distBwElecs,middleNWx-distBwElecs,middleNWx,middleNWx,middleNWx,middleNWx+distBwElecs,middleNWx+distBwElecs,middleNWx+distBwElecs]\n",
    "    # ey=[middleNWy-distBwElecs,middleNWy,middleNWy+distBwElecs]*3\n",
    "\n",
    "    elecSource=genGridNW(xa,xb,ya,yb,ex,ey) #generate source locations in ex, ey coordinates\n",
    "\n",
    "\n",
    "    #Manual Source Placement:\n",
    "    if ManualSources:\n",
    "        if numSources==9:\n",
    "            if nwSize > 500:\n",
    "                elecSource=[678, 260, 491, 173, 628, 424, 301, 236, 483] #700nws\n",
    "            else:\n",
    "                elecSource=[23,320,194,74, 145, 317, 129, 34, 141] #350 nws\n",
    "\n",
    "        elif numSources == 4:\n",
    "            elecSource=[320,42,161,141]\n",
    "\n",
    "    elecDrain=elecDrain[[0,-1]]\n",
    "    \n",
    "    return connectivity,elecSource,elecDrain,nwSize,nwJunctions\n",
    "\n",
    "\n",
    "#ADD BACKPROP\n",
    "\n",
    "#This function runs each training epoch and saves the network state at the last timestep of that epoch   \n",
    "def getNWState_backprop(training_stimulus,train,state,drains,sources,tmpTiming,tmpTargets,limVal,limVal0,limVal1,run_time=2,dt=0.01,disable_tqdm=False):\n",
    "    if train:\n",
    "        #remove non-target drain from simulation\n",
    "        target = tmpTargets[0]\n",
    "        if target == 0:\n",
    "            drains = drains[0]\n",
    "            print('\\nDrain 1 Only')\n",
    "        elif target == 1:\n",
    "            drains = drains[1]\n",
    "            print('\\nDrain 2 Only')\n",
    "    else:\n",
    "        print('\\nBoth Drains')\n",
    "    eles = np.append(drains, sources) #all drains\n",
    "    #     if len(eles) == num_drain_training + num_source_training:\n",
    "    training_sim,cost = runSim_backprop(connectivity, \n",
    "                                   stimulus = training_stimulus,\n",
    "                                   junctionMode = 'tunneling',\n",
    "                                   dt = dt, T = run_time, \n",
    "                                   contactMode = 'preSet',\n",
    "                                   electrodes = eles,\n",
    "                                   findFirst = False,\n",
    "                                   start_state = state,\n",
    "                                   disable_tqdm=disable_tqdm,\n",
    "                                   collapse=False,tmpTiming=tmpTiming,tmpTargets=tmpTargets,\n",
    "                                   limVal=limVal,limVal0=limVal0,limVal1=limVal1)  \n",
    "    JS1 = getJunctionState(training_sim, -1) #save state\n",
    "    #     else: \n",
    "    #         print('Bless you Joel :)')\n",
    "    return training_sim,JS1   \n",
    "\n",
    "#Combine drain voltage change with runSim:\n",
    "def runSim_backprop(Connectivity, \n",
    "                    junctionMode='binary', collapse=False,\n",
    "                    criticalFlux=0.1, maxFlux=1.5e-1,\n",
    "                    contactMode='farthest', electrodes=None,\n",
    "                    dt=1e-3, T=10, \n",
    "                    stimulus = None,\n",
    "                    biasType = 'DC',\n",
    "                    onTime=0, offTime=50000000,\n",
    "                    onAmp=1, offAmp=0.005,\n",
    "                    f = 1, customSignal = None,\n",
    "                    start_state = None,\n",
    "                    lite_mode = False, save_steps = 1,\n",
    "                    findFirst = True,\n",
    "                    disable_tqdm = False,\n",
    "                    freeze_wire = None, freeze_junction = None, \n",
    "                    freeze_TimeStamp = None,tmpTiming=[],tmpTargets=[],\n",
    "                    limVal=0.5,limVal0=0.5,limVal1=0.5):\n",
    "\n",
    "    \"\"\"\n",
    "    For the case of multi electrodes, stimulus should be in parameters.\n",
    "    See help(stimulus__) for how to generate stimulus__ objects.\n",
    "    \"\"\"\n",
    "\n",
    "    SimulationOptions = simulationOptions__(dt = dt, T = T,\n",
    "                                            connectivity = Connectivity, \n",
    "                                            contactMode = contactMode,\n",
    "                                            electrodes = electrodes)\n",
    "\n",
    "    if ((contactMode == 'preSet') and (len(electrodes) > 2)) or stimulus is not None:\n",
    "        from sys import exit\n",
    "        if stimulus == None:\n",
    "            logging.warning(f'Multiple electrodes detected. Please input stimulus in parameters!')\n",
    "            exit()\n",
    "        if len(stimulus) < len(SimulationOptions.electrodes):\n",
    "            diff = len(SimulationOptions.electrodes) - len(stimulus)\n",
    "            for _ in range(diff):\n",
    "                stimulus.append(stimulus__('Drain', T = T, dt = dt))\n",
    "\n",
    "        if len(stimulus) > len(SimulationOptions.electrodes):\n",
    "            logging.warning(f'More stimulus than electrodes. Current setup has {len(SimulationOptions.electrodes)} electrodes!')\n",
    "            exit()\n",
    "            \n",
    "        if len(stimulus[0].signal) < len(SimulationOptions.TimeVector):\n",
    "            logging.warning(f'Stimulus length not correct, current time vector has length {len(SimulationOptions.TimeVector)}!')\n",
    "            exit()\n",
    "        SimulationOptions.stimulus = stimulus\n",
    "            \n",
    "    elif contactMode == 'boundary':\n",
    "        SimulationOptions.stimulus[:int(len(SimulationOptions.electrodes)/2)] = [stimulus__(biasType = biasType, \n",
    "                                                                                        T = T, dt = dt,\n",
    "                                                                                        onTime = onTime, offTime = offTime,\n",
    "                                                                                        onAmp = onAmp, offAmp = offAmp,\n",
    "                                                                                        f = f, customSignal= customSignal)\n",
    "                                                                                        for i in range(int(len(SimulationOptions.electrodes)/2))]\n",
    "    else:\n",
    "        SimulationOptions.stimulus[0] = stimulus__(biasType = biasType, \n",
    "                                                T = T, dt = dt,\n",
    "                                                onTime = onTime, offTime = offTime,\n",
    "                                                onAmp = onAmp, offAmp = offAmp,\n",
    "                                                    f = f, customSignal= customSignal)\n",
    "    if start_state == None: \n",
    "        JunctionState = junctionState__(Connectivity.numOfJunctions, \n",
    "                                    mode = junctionMode, collapse = collapse, \n",
    "                                    criticalFlux=criticalFlux, maxFlux = maxFlux)\n",
    "    else:\n",
    "        from copy import deepcopy\n",
    "        JunctionState = deepcopy(start_state)\n",
    "    \n",
    "    kwdict = dict()\n",
    "    if (freeze_wire != None) or (freeze_junction != None):\n",
    "        kwdict = dict(freeze_wire = freeze_wire,\n",
    "                    freeze_junction = freeze_junction, \n",
    "                    freeze_TimeStamp = freeze_TimeStamp)\n",
    "        \n",
    "    this_realization,cost = simulateNetwork_backprop(SimulationOptions, Connectivity, JunctionState,tmpTiming,tmpTargets,limVal,limVal0,limVal1,lite_mode, disable_tqdm, save_steps, **kwdict)\n",
    "    \n",
    "#     finalIter=np.max(np.nonzero(this_realization.electrodeCurrent))\n",
    "#     if finalIter < 199:\n",
    "#         this_realization.electrodeCurrent=this_realization.electrodeCurrent[:finalIter+1,:]\n",
    "#         this_realization.junctionVoltage=this_realization.junctionVoltage[:finalIter+1,:]\n",
    "#         this_realization.junctionConductance=this_realization.junctionConductance[:finalIter+1,:]\n",
    "#         this_realization.wireVoltage=this_realization.wireVoltage[:finalIter+1,:]\n",
    "#         this_realization.filamentState=this_realization.filamentState[:finalIter+1,:]\n",
    "#         this_realization.junctionSwitch=this_realization.junctionSwitch[:finalIter+1,:]\n",
    "        #final Iter = time , use that to find / save network state\n",
    "        \n",
    "        \n",
    "#         this_realization.TimeVector=this_realization.TimeVector[:finalIter+1,:]\n",
    "\n",
    "    #     remove zeros from simulations that ended early:\n",
    "#     this_realization.junctionCurrent\n",
    "    \n",
    "    if findFirst:\n",
    "        from edamame.analysis.GraphTheory import findCurrent\n",
    "        try:\n",
    "            activation = findCurrent(this_realization, 1)\n",
    "            logging.info(f'First current path {activation[0][0]} formed at time = {activation[1][0]} s.')\n",
    "        except:\n",
    "            logging.info('Unfortunately, no current path is formed in simulation time.')\n",
    "\n",
    "    return this_realization,cost\n",
    "\n",
    "def simulateNetwork_backprop(simulationOptions, connectivity, junctionState,tmpTiming,tmpTargets, limVoltage,limVal0,limVal1,lite_mode = False, disable_tqdm = False, save_steps = 1, **kwargs):\n",
    "    niterations = simulationOptions.NumOfIterations\n",
    "    electrodes = simulationOptions.electrodes\n",
    "    numOfElectrodes = len(electrodes)\n",
    "    E = connectivity.numOfJunctions\n",
    "    V = connectivity.numOfWires\n",
    "    edgeList = connectivity.edge_list\n",
    "    cost      = []\n",
    "\n",
    "#     onAmp     = simulationOptions.stimulus[3].onAmp\n",
    "    \n",
    "#     maxV      = onAmp *limVoltage\n",
    "    \n",
    "    Network = network__()\n",
    "    sampling = np.arange(0, niterations, save_steps)\n",
    "    if lite_mode:\n",
    "        Network.connectivity = connectivity__(adjMat = connectivity.adj_matrix)\n",
    "        Network.filamentState = np.zeros((int(niterations/save_steps), E))\n",
    "        Network.wireVoltage = np.zeros((int(niterations/save_steps), V))\n",
    "        Network.electrodeCurrent = np.zeros((int(niterations/save_steps), numOfElectrodes))\n",
    "        Network.TimeVector = np.zeros(int(niterations/save_steps))\n",
    "    else:        \n",
    "        Network.connectivity = connectivity\n",
    "        Network.TimeVector = simulationOptions.TimeVector\n",
    "        Network.filamentState = np.zeros((niterations, E))\n",
    "        Network.junctionVoltage = np.zeros((niterations, E))\n",
    "        # Network.junctionResistance = np.zeros((niterations, E))\n",
    "        Network.junctionConductance = np.zeros((niterations, E))\n",
    "        Network.junctionSwitch = np.zeros((niterations, E), dtype = bool)\n",
    "        Network.wireVoltage = np.zeros((niterations, V))\n",
    "        Network.electrodeCurrent = np.zeros((niterations, numOfElectrodes))\n",
    "\n",
    "    Network.sources = []\n",
    "    Network.drains = []\n",
    "    for i in range(numOfElectrodes):\n",
    "        if np.mean(simulationOptions.stimulus[i].signal) != 0:\n",
    "            Network.sources.append(electrodes[i])\n",
    "        else:\n",
    "            Network.drains.append(electrodes[i])\n",
    "\n",
    "    if len(Network.drains) == 0:\n",
    "        Network.drains.append(electrodes[1])\n",
    "        \n",
    "    if 'freeze_wire' in kwargs:\n",
    "        freeze_wire = kwargs['freeze_wire']\n",
    "        freeze_TimeStamp = kwargs['freeze_TimeStamp']\n",
    "    else:\n",
    "        freeze_TimeStamp = niterations + 1\n",
    "    \n",
    "    #Simulation Run:\n",
    "#     new_time=0\n",
    "    stopTrain=False\n",
    "    for this_time in tqdm(range(niterations), desc='Running Simulation ', disable = disable_tqdm): #each time step\n",
    "#         print(stopTrain)\n",
    "        if not stopTrain:\n",
    "            this_stimulus = np.array([i.signal[this_time] for i in simulationOptions.stimulus])\n",
    "#         else:\n",
    "#             break\n",
    "        if tmpTiming[this_time]=='Train':\n",
    "#             print('--------')\n",
    "#             print('Training')\n",
    "#             print('--------\\n')\n",
    "            trainTime=True\n",
    "        elif tmpTiming[this_time]=='Test':\n",
    "#             print('--------')\n",
    "#             print('Testing')\n",
    "#             print('--------\\n') \n",
    "            trainTime=False\n",
    "\n",
    "        if trainTime and this_time > 0 and not stopTrain: #if we are training, change drain voltages, otherwise just use this_stimulus\n",
    "#             set_trace()\n",
    "            this_stimulus[:num_drain_training]=new_stimulus\n",
    "\n",
    "#             print('in training '+str(this_time))\n",
    "#         elif this_time > trainTime:\n",
    "\n",
    "        sol = simCore(connectivity, junctionState, this_stimulus, electrodes, simulationOptions.dt)\n",
    "\n",
    "        if this_time >= freeze_TimeStamp:\n",
    "            others = np.setdiff1d(range(V), freeze_wire)\n",
    "            wireVoltage[others] = sol[others]\n",
    "        else:\n",
    "            wireVoltage = sol[0:V]\n",
    "\n",
    "        if lite_mode:\n",
    "            if this_time%save_steps == 0:\n",
    "                Network.wireVoltage[this_time//save_steps,:] = wireVoltage\n",
    "                Network.electrodeCurrent[this_time//save_steps,:] = sol[V:]\n",
    "                Network.filamentState[this_time//save_steps,:] = junctionState.filamentState\n",
    "                Network.TimeVector[this_time//save_steps] = simulationOptions.TimeVector[this_time]\n",
    "        else:\n",
    "            Network.wireVoltage[this_time,:] = wireVoltage\n",
    "            Network.electrodeCurrent[this_time,:] = sol[V:]\n",
    "            Network.filamentState[this_time,:] = junctionState.filamentState\n",
    "            Network.junctionVoltage[this_time,:] = junctionState.voltage\n",
    "            Network.junctionConductance[this_time,:] = junctionState.conductance\n",
    "            Network.junctionSwitch[this_time,:] = junctionState.OnOrOff\n",
    "\n",
    "        ## BackProp Implementation\n",
    "        \n",
    "\n",
    "        if trainTime:\n",
    "#             set_trace()\n",
    "            n = num_drain_training #num of drains\n",
    "            y = Network.electrodeCurrent[this_time,:num_drain_training]\n",
    "        else:\n",
    "            n = num_drain_testing\n",
    "            y = Network.electrodeCurrent[this_time,:num_drain_testing]\n",
    "            \n",
    "        beta      = 0.05\n",
    "        grad      = np.zeros((n)) #set gradients to zero for each epoch  \n",
    "\n",
    "        \n",
    "        drainCurrents=y\n",
    "        if tmpTargets[this_time] != -1: #skip rest values\n",
    "            tarIdx=tmpTargets[this_time]\n",
    "            y = y/(maxCurrent[tarIdx]) # normalize  | | | how do we change max current to be not arbitrary? \n",
    "        # current method - run simulation before with just that drain and use current as maxCurrent\n",
    "\n",
    "            # change to threshold \n",
    "            d = 1 #allTargets[tarIdx]\n",
    "            if trainTime:\n",
    "                dsig = this_stimulus[:num_drain_training]\n",
    "            else:\n",
    "                dsig = this_stimulus[:num_drain_testing]\n",
    "\n",
    "            #fixed max voltage\n",
    "            # compare y with threshold - if y is >= thresh, stop the training\n",
    "#             set_trace()\n",
    "\n",
    "            #vectorised implementation\n",
    "\n",
    "            cost.append(calc_cost(y,d))\n",
    "\n",
    "            if trainTime and not stopTrain: #if we are training, update beta\n",
    "                #Gradient without considering other electrodes:\n",
    "                if tarIdx==0:\n",
    "                    if drainCurrents[0]>=limVal0: #if greater or less than the target current, stop the simulation\n",
    "                        this_stimulus=np.zeros(len(this_stimulus))\n",
    "                        stopTrain=True\n",
    "                    else:\n",
    "                        stopTrain=False\n",
    "                        #instead of ending session, make everything 0V (inputs + drains)\n",
    "                        #make sure this doesn't last longer than filament decay length\n",
    "                elif tarIdx==1:\n",
    "#                     set_trace()\n",
    "                    if drainCurrents[0]>=limVal1: #if greater or less than the target current, stop simulation\n",
    "                        this_stimulus=np.zeros(len(this_stimulus))\n",
    "                        stopTrain=True\n",
    "                    else:\n",
    "                        stopTrain=False\n",
    "                \n",
    "                if not stopTrain:        \n",
    "                    grad=beta*(y-d) #y = current, d = target #e.g. [y1 vs (d1 = 1), y2 vs (d2 = 0), y3vs (d3 = 0)]\n",
    "\n",
    "                    #dsig = old voltage drains, dsig2 = new voltage drains, onAmp = input voltage\n",
    "\n",
    "                    dsig2=np.array(dsig.T+grad)\n",
    "    #                     dsig2[0]=np.clip(dsig2[0],0,limVal0)\n",
    "    #                     dsig2[1]=np.clip(dsig2[1],0,limVal1)\n",
    "\n",
    "                    dsig2=np.clip(dsig2,-onAmp*0.9,onAmp*0.9) #set max and min voltages to less than inputs\n",
    "#                     set_trace()\n",
    "                    new_stimulus=dsig2\n",
    "\n",
    "            elif not trainTime:\n",
    "                new_stimulus=this_stimulus[:num_drain_testing]\n",
    "\n",
    "    print('Target:' + str(tarIdx))\n",
    "#     print('Voltage: '+ str(new_stimulus))\n",
    "    \n",
    "    Network.numOfWires = V\n",
    "    Network.numOfJunctions = E\n",
    "    Network.electrodes = simulationOptions.electrodes\n",
    "    if len(electrodes) <= 2:\n",
    "        Network.conductance = Network.electrodeCurrent[:,1]/simulationOptions.stimulus[0].signal[sampling]\n",
    "    if not lite_mode:\n",
    "        Network.stimulus = [simulationOptions.stimulus[i] for i in range(numOfElectrodes)]\n",
    "        Network.junctionResistance = 1/Network.junctionConductance\n",
    "    \n",
    "#     print(Network.electrodeCurrent[:,1])\n",
    "    return Network,cost\n",
    "\n",
    "\n",
    "\n",
    "def runNBACK(onAmp,onAmpTest,dt,Tlen,timesteps,numDT,restDur,nbacks=[],maxCurrent=[1e-5,1e-5],limVal=0.5,accThresh=0.5,increaseVal=0.5,decreaseVal=0.25,seed=42,accThreshold=False):\n",
    "    \"\"\"\n",
    "    n-back task:\n",
    "    input sample 1 with backprop, then sample 2 with backprop, then sample 1 again with reset drain voltages \n",
    "    n back here = 1, showing memory\n",
    "    \n",
    "    train sample x, test sample x + nback (e.g. nback = 2, sample = [s1 train,s2,s3,s1 test] )\n",
    "\n",
    "    increase n-back: \n",
    "    sample 1 with backprop, sample 2, sample 3... test sample 1 - n=2\n",
    "    \n",
    "    Things to test:\n",
    "    - if we increase input frequency (dt), do we see greater long term memory? (higher n-backs)\n",
    "    - if we decrease frequency, do we see greater short term memory? (lower n-backs)\n",
    "\n",
    "    \"\"\"  \n",
    "    \n",
    "    t           = [[None]*(40*(nbacks[0]+1)+1) for i in range(len(nbacks))]\n",
    "    simVoltages = []\n",
    "    saveStim    = []\n",
    "    count=0\n",
    "    for nback in nbacks: #how many samples to \"remember\" in the past before testing\n",
    "        np.random.seed(seed)\n",
    "        \n",
    "        numTestingSamples= 40 #how many testing samples\n",
    "        \n",
    "        #trainingInputs (actual input)\n",
    "        #traininglables (0 or 1)\n",
    "        c1samples=list(np.where(traininglabels==0)[0]) #all class 1 inputs\n",
    "        c2samples=list(np.where(traininglabels==1)[0]) #all class 2 inputs\n",
    "#         set_trace()\n",
    "        #hardest memory order:\n",
    "        orderTraining=[]\n",
    "        for test in range(numTestingSamples):\n",
    "            trainingSample1=np.random.randint(2)\n",
    "            if trainingSample1==0:\n",
    "                trainingSample1=np.random.choice(c1samples,1,replace=False)\n",
    "                c1samples.pop(np.where(c1samples==trainingSample1[0])[0][0])\n",
    "                trainingSampleRest=np.random.choice(c2samples,nback-1,replace=False)\n",
    "                for j in trainingSampleRest:\n",
    "                    c2samples.pop(np.where(c2samples==j)[0][0])\n",
    "            elif trainingSample1==1:\n",
    "                trainingSample1=np.random.choice(c2samples,1,replace=False)\n",
    "                c2samples.pop(np.where(c2samples==trainingSample1[0])[0][0])\n",
    "                trainingSampleRest=np.random.choice(c1samples,nback-1,replace=False)\n",
    "                for j in trainingSampleRest:\n",
    "                    c1samples.pop(np.where(c1samples==j)[0][0])    \n",
    "            orderTraining.append(np.hstack((np.array(trainingSample1),np.array(trainingSampleRest))))\n",
    "        orderTraining=np.hstack(orderTraining)\n",
    "\n",
    "        orderTrainingLabels=traininglabels[orderTraining]\n",
    "#         set_trace()\n",
    "        orderTrainingLabelsNBACK=orderTrainingLabels[::nback] #these are the testing labels - every i+nback training sample is what we're testing\n",
    "        orderTesting=[]\n",
    "        for label in orderTrainingLabelsNBACK: #for each training label in the random order:\n",
    "            orderTesting.append(np.random.choice(np.where(testinglabels==label)[0],replace=False))\n",
    "        orderTestingLabels=testinglabels[orderTesting]    \n",
    "        orderTestingNBACK=np.array(orderTesting)+len(orderTraining) #number of test per nback\n",
    "#          #choose how many samples between testing samples:\n",
    "        i = nback\n",
    "#         set_trace()\n",
    "        temp=[]\n",
    "        j=0\n",
    "        order=[None]*(len(orderTraining))\n",
    "        order[:len(orderTraining)]=orderTraining\n",
    "        while j<numTestingSamples: #for each testing sample \n",
    "            if i < len(order): #only if we are within the total number of training samples\n",
    "                order.insert(i, orderTesting[j]+len(orderTraining)) #insert testing sample at ith position\n",
    "            temp.append(i) #keep track number of inserts we made, make sure it == numTestingSamples\n",
    "            i += nback+1\n",
    "            j +=1\n",
    "        \n",
    "        #remove excess training (i.e. with no testing sample)\n",
    "        sampleTimes=numDT*(nback+1)\n",
    "        newTrainingOrder=orderTraining[:sampleTimes-numTestingSamples]\n",
    "        orderTrainingLabels=orderTrainingLabels[:sampleTimes-numTestingSamples]\n",
    "        order=order[:sampleTimes]\n",
    "        \n",
    "        \n",
    "#         print(order)\n",
    "#         print(len(order))\n",
    "        #RUN SIM\n",
    "        N                   = orig_inputs.shape[1]\n",
    "        numClasses          = 2\n",
    "        signalType          ='DC'\n",
    "#         num_drain_training  = 2\n",
    "        num_source_training = N\n",
    "        tmpSources          = [[] for i in range(len(order))]\n",
    "        tmpTargets          = [None]*len(order)\n",
    "        sim                 = [None]*len(order)\n",
    "        thresholdValues     = [None]*len(order)\n",
    "        cost                = [None]*len(order)\n",
    "        simVoltages         = [None]*len(order)\n",
    "        accuracy    = []\n",
    "        numTrainingSamples  = len(trainingInputs)\n",
    "        numTestingSamples   = len(testingInputs)\n",
    "        \n",
    "        timing=[]\n",
    "        allLabels=[]\n",
    "        limVals0 = limVal\n",
    "        limVals1 = limVal\n",
    "        \n",
    "        i=0\n",
    "        numTests = 0\n",
    "        nwState = None\n",
    "        for val in tqdm(order): #this method loops through samples in the randomised training order\n",
    "            \n",
    "            #FOR EACH SAMPLE:\n",
    "            \n",
    "            #are we training or testing?\n",
    "            if val in orderTestingNBACK:\n",
    "                test=True\n",
    "                train=False\n",
    "            elif val in orderTraining:\n",
    "                test=False\n",
    "                train=True\n",
    "                \n",
    "            #define samples\n",
    "            if train: #if we're training\n",
    "                this_sample = trainingInputs[val].copy() #xs\n",
    "                this_label  = traininglabels[val] #ys\n",
    "                this_sample[this_sample>0.005]=this_sample[this_sample>0.005]*onAmp #tune voltage based on onAmp\n",
    "                timing.append('Train')\n",
    "\n",
    "            elif test: #if we're testing\n",
    "                this_sample = testingInputs[val-len(orderTraining)].copy() #xs\n",
    "                this_label  = testinglabels[val-len(orderTraining)] #ys\n",
    "                this_sample[this_sample>0.005]=this_sample[this_sample>0.005]*onAmpTest #CHANGE THIS TO RAMP:\n",
    "                timing.append('Test')\n",
    "\n",
    "#             targetClassVals=[0,1] \n",
    "\n",
    "            targetTmp = signal_expand(this_label,numDT) #number of timesteps per target\n",
    "            timing[i] = signal_expand(timing[i],numDT)\n",
    "        #     #array of nans:\n",
    "            tmpArray=np.empty(restDur)\n",
    "            tmpArray[:]=-1\n",
    "            targetTmp = np.append(targetTmp,tmpArray) #add rest #need to remove targets from rest\n",
    "            tmpTargets[i]=targetTmp \n",
    "            rampV=np.linspace(0,onAmpTest,numDT)\n",
    "            for j in range(len(this_sample)): #for each source electrode\n",
    "                tmp = signal_expand(this_sample[j],numDT)\n",
    "#                 if test:\n",
    "#                     tmp = rampV#*tmp[tmp>0.005]\n",
    "                tmp = np.append(tmp,np.zeros(restDur)) #add rest\n",
    "                tmpSources[i].append(tmp)\n",
    "            allLabels.append(this_label)\n",
    "            \n",
    "            stimulus=[]\n",
    "            if train:\n",
    "                stimulus.append(stimulus__(biasType='Drain',T=dt*len(tmpSources[i][0]),dt=dt))\n",
    "\n",
    "            elif test:\n",
    "                for m in range(num_drain_testing): #create stimulus for each drain electrode\n",
    "#                     set_tra\n",
    "                    stimulus.append(stimulus__(biasType='Drain',T=dt*len(tmpSources[i][m]),dt=dt))\n",
    "\n",
    "            for m in range(len(tmpSources[i])): #create stimulus for each source electrode\n",
    "                stimulus.append(stimulus__(biasType='Custom',T=dt*len(tmpSources[i][m]),dt=dt,customSignal=tmpSources[i][m]))\n",
    "            \n",
    "            signalLen=Tlen#len(stimulus[0].signal) \n",
    "            \n",
    "            sim[i],nwState = getNWState_backprop(stimulus,train,nwState,drain_pool,sources,timing[i],tmpTargets[i].astype('int'),limVal,limVals0,limVals1,run_time=int(signalLen*dt),dt=dt,disable_tqdm=False)\n",
    "\n",
    "            simVoltages[i]=(sim[i].wireVoltage)\n",
    "#             set_trace()\n",
    "        \n",
    "            if test: #if we are testing\n",
    "                #ADRIAN ACCURACY METHOD\n",
    "#                 set_trace()\n",
    "                t[count][i]=(calcOutputs(sim[i],sources,drain_pool))\n",
    "                meanCurr0=(np.mean(t[count][i][0]))\n",
    "                meanCurr1=(np.mean(t[count][i][1]))\n",
    "#                 set_trace()\n",
    "                if tmpTargets[i][0] == 0:\n",
    "                    if meanCurr0>meanCurr1:\n",
    "                        accuracy.append(1)\n",
    "                    else:\n",
    "                        accuracy.append(0)\n",
    "                else:\n",
    "                    if meanCurr1>meanCurr0:\n",
    "                        accuracy.append(1)\n",
    "                    else:\n",
    "                        accuracy.append(0)\n",
    "                        \n",
    "                if i >0:\n",
    "                    if accuracy[numTests]==0: #if the training didn't work\n",
    "                        if this_label==0: #drain 1\n",
    "                            limVals0=limVals0+increaseVal #update 'max current limit based on reinforcement'\n",
    "                            limVals1=limVals1-decreaseVal\n",
    "                        elif this_label==1: #drain 2\n",
    "                            limVals0=limVals0-decreaseVal\n",
    "                            limVals1=limVals1+increaseVal   \n",
    "#                 #ALON ACCURACY METHOD\n",
    "#                 #calucalte accuracy\n",
    "#                 accThreshold=False\n",
    "#                 if accThreshold:\n",
    "#                     #add threshold of difference to ensure accuracy:\n",
    "#                     argmaxvals=np.argmax([t[count][i][0],t[count][i][1]],axis=0)\n",
    "#                     for s in range(len(argmaxvals)):\n",
    "#                         if abs(t[count][i][0][s]-t[count][i][1][s])>1e-6 and argmaxvals[s]==1:\n",
    "#                             argmaxvals[s]=1\n",
    "#                         elif abs(t[count][i][0][s]-t[count][i][1][s])<1e-6 and argmaxvals[s] == 1:\n",
    "#                             argmaxvals[s]=0\n",
    "# #                     accuracy.append(np.sum(argmaxvals==tmpTargets[testTimes])/len(tmpTargets[testTimes]))\n",
    "#                     accuracy.append(np.sum(argmaxvals==tmpTargets[i-nback])/len(tmpTargets[i-nback]))\n",
    "#                 else:\n",
    "#                     accuracy.append(np.sum(np.argmax([t[count][i][0],t[count][i][1]],axis=0)==tmpTargets[i-nback])/len(tmpTargets[i-nback]))\n",
    "#                 if i >0:\n",
    "#                     if accuracy[numTests]<= accThresh: #if the training didn't work\n",
    "#                         if this_label==0: #drain 1\n",
    "#                             limVals0=limVals0+increaseVal #update 'max current limit based on reinforcement'\n",
    "#                             limVals1=limVals1-decreaseVal\n",
    "#                         elif this_label==1: #drain 2\n",
    "#                             limVals0=limVals0-decreaseVal\n",
    "#                             limVals1=limVals1+increaseVal                           \n",
    "                mval1=np.max(np.nonzero(t[count][i][0]))\n",
    "                mval2=np.max(np.nonzero(t[count][i][1]))\n",
    "                print('Final Target Drain Current: ' + str([t[count][i][0][mval1],t[count][i][1][mval2]]))\n",
    "                print('Target: ' + str(tmpTargets[i][0]))\n",
    "                print('Accuracy: '+ str(accuracy[numTests]))\n",
    "                numTests+=1\n",
    "            else:\n",
    "#                 set_trace()\n",
    "                t[count][i]=(calcOutputs(sim[i],sources,[drain_pool[int(tmpTargets[i][0])]]))\n",
    "                mval1=np.max(np.nonzero(t[count][i][0]))\n",
    "                print('Final Target Drain Current: ' + str([t[count][i][0][mval1]]))\n",
    "#             mval2=np.max(np.nonzero(t[count][i][1]))\n",
    "            \n",
    "#             print('All Currents: ' + str([t[count][i][0],t[count][i][1]]))\n",
    "\n",
    "            print(\"LimVal1:\" + str(limVals1)) #just a checking/debugging print\n",
    "            print(\"LimVal0:\" + str(limVals0)) #just a checking/debugging print\n",
    "\n",
    "            thresholdValues[i]=[limVals0,limVals1]\n",
    "            i+=1 \n",
    "        \n",
    "        count+=1\n",
    "    return t,thresholdValues,sim,stimulus,accuracy,tmpTargets,newTrainingOrder,orderTesting,order,orderTestingLabels,testTimes,trainTimes,numTestingSamples,allLabels,orderTrainingLabels\n",
    "\n",
    "def trainTestSplit(inputs,targets,targetClassVals=[0,1],numTestingPerClass=3,orig_inputs=[]):\n",
    "    trainingInputs  = np.array([inputs[targets==targetClassVals[0]][:-numTestingPerClass],inputs[targets==targetClassVals[1]][:-numTestingPerClass]]).reshape(-1,orig_inputs.shape[1])\n",
    "    testingInputs   = np.array([inputs[targets==targetClassVals[0]][-numTestingPerClass:],inputs[targets==targetClassVals[1]][-numTestingPerClass:]]).reshape(-1,orig_inputs.shape[1])\n",
    "    #Define Training and Testing labels\n",
    "    traininglabels=np.zeros(len(trainingInputs))\n",
    "    traininglabels[:int(len(trainingInputs)/2)]=0\n",
    "    traininglabels[int(len(trainingInputs)/2):int(len(trainingInputs)/2)*2]=1\n",
    "    # traininglabels[int(len(trainingInputs)/3)*2:]=2\n",
    "    traininglabels=traininglabels.astype(int)\n",
    "\n",
    "    testinglabels=np.zeros(len(testingInputs))\n",
    "    testinglabels[:int(len(testingInputs)/2)]=0\n",
    "    testinglabels[int(len(testingInputs)/2):int(len(testingInputs)/2)*2]=1\n",
    "    # testinglabels[int(len(testingInputs)/3)*2:]=2\n",
    "    testinglabels=testinglabels.astype(int)\n",
    "    \n",
    "    return trainingInputs,testingInputs,traininglabels,testinglabels\n",
    "\n",
    "\n",
    "#TASK SETUP\n",
    "\n",
    "#Automatically chosen electrodes vs manual picked\n",
    "ManualSources=True\n",
    "#Number of training samples\n",
    "nbacks         = [6]#range(1,5)\n",
    "numSamples=(nbacks[0]*100)+1\n",
    "\n",
    "#Pattern (2x2 or 3x3)\n",
    "patternSize= 3 #2 or 3\n",
    "#Number of source electrodes (4 for 2x2, 9 for 3x3)\n",
    "numSources=9 # 4 or 9\n",
    "\n",
    "num_drain_training=1\n",
    "num_drain_testing=2\n",
    "allTargets=[[1,0],[0,1]]\n",
    "targetClassVals=[0,1]\n",
    "numTestingPerClass=20\n",
    "\n",
    "#Amplitude:\n",
    "onAmp = 0.3 #Voltage for Training\n",
    "onAmpTest = 0.1 #Voltage for Testing\n",
    "\n",
    "#Noise\n",
    "noisey=False\n",
    "\n",
    "#create networks\n",
    "connectivity,sources,drain_pool,nwSize,nwJunctions=buildNetworks(fileName,ManualSources,num_drain_training,numSources)\n",
    "\n",
    "#create samples\n",
    "inputs,targets,orig_inputs=createSimpleInputs(patternSize,numSamples,noisey) #pattern size (e.g 3x3 = 3), number of samples, noise\n",
    "\n",
    "#split samples to train test\n",
    "trainingInputs,testingInputs,traininglabels,testinglabels = trainTestSplit(inputs,targets,targetClassVals,numTestingPerClass,orig_inputs=orig_inputs)\n",
    "#Run n-back Task\n",
    "\n",
    "#Time Parameters\n",
    "dt=0.01\n",
    "Tlen = 200\n",
    "timesteps   = Tlen/dt\n",
    "numDT       = 200#int(timesteps/len(inputs)) #number of timesteps per sample\n",
    "restDur=0\n",
    "\n",
    "accThreshold=False #do we want to force a minimum (arbitrary) difference between target and non-target drain for accuracy to be counted?\n",
    "\n",
    "#Other Variables\n",
    "maxCurrent = [1e-5,1e-5] #target\n",
    "threshCurrent = [5e-6,5e-6]\n",
    "numRuns        = 1\n",
    "sim            = [None]*numRuns\n",
    "stimuli        = [None]*numRuns\n",
    "accuracy       = [None]*numRuns\n",
    "\n",
    "trainingOrder = [None]*numRuns\n",
    "testingOrder = [None]*numRuns\n",
    "testingLabels  = [None]*numRuns\n",
    "trainingLabels  = [None]*numRuns\n",
    "order          = [None]*numRuns\n",
    "testTimes      = [None]*numRuns\n",
    "trainTimes      = [None]*numRuns\n",
    "targets        = [None]*numRuns\n",
    "numTestingSamples = [None]*numRuns\n",
    "allLabels      = [None]*numRuns\n",
    "seeds          =  np.array([4690])#np.random.choice(10000,size=numRuns,replace=False)\n",
    "\n",
    "limValues = [threshCurrent[0]]#[1e-6]#list(np.arange(0.05,1.05,0.05))  #if we want to loop through onAmp limit voltage percentage for drains\n",
    "increaseVal=threshCurrent[0]/3\n",
    "decreaseVal=threshCurrent[0]/6\n",
    "accThresh=0.7\n",
    "\n",
    "loadOnly=False\n",
    "\n",
    "\n",
    "if loadOnly == False:\n",
    "    print('Parameters:\\n')\n",
    "    print('Train V: ' + str(onAmp))\n",
    "    print('Test V: ' + str(onAmpTest))\n",
    "    print('Pattern: ' + str(patternSize)+'x'+str(patternSize))\n",
    "    meanAcc=[]\n",
    "    stdAcc=[]\n",
    "    outputs=[]\n",
    "    for val in tqdm(limValues):\n",
    "        print(val)\n",
    "        for i in tqdm(range(numRuns)):\n",
    "            outputs.append(runNBACK(onAmp,onAmpTest,dt,Tlen,timesteps,numDT,restDur,nbacks,maxCurrent,val,accThresh,increaseVal,decreaseVal,seed=seeds[i],accThreshold=accThreshold))\n",
    "    if numRuns==1:\n",
    "        outputs=outputs[0]\n",
    "        t=outputs[0][0][:-1]\n",
    "        thresholds=outputs[1]\n",
    "        sim=outputs[2]\n",
    "        accuracy=outputs[4]\n",
    "        alltargets=outputs[5]\n",
    "        trainingOrder=outputs[6]\n",
    "        trainingLabels=outputs[-1]\n",
    "        testingLabels=outputs[9]\n",
    "        allLabels=outputs[-2]\n",
    "        numTestingSamples=outputs[-3]\n",
    "    else:\n",
    "        t = [None]*numRuns;thresholds=[None]*numRuns;sim=[None]*numRuns;accuracy=[None]*numRuns;alltargets=[None]*numRuns\n",
    "        trainingOrder=[None]*numRuns;trainingLabels=[None]*numRuns;testingLabels=[None]*numRuns;allLabels=[None]*numRuns\n",
    "        for run in range(numRuns):\n",
    "            t[run]=outputs[run][0][0][:-1]\n",
    "            thresholds[run]=outputs[run][1]\n",
    "            sim[run]=outputs[run][2]\n",
    "            accuracy[run]=outputs[run][4]\n",
    "            alltargets[run]=outputs[run][5]\n",
    "            trainingOrder[run]=outputs[run][6]\n",
    "            trainingLabels[run]=outputs[run][-1]\n",
    "            testingLabels[run]=outputs[run][9]\n",
    "            allLabels[run]=outputs[run][-2]\n",
    "            numTestingSamples=outputs[run][-3]\n",
    "\n",
    "    params={'Voltage':onAmp,'Test Voltage':onAmpTest,'Threshold Value':limValues,'Accuracy Threshold':accThresh,'ThreshIncrease':increaseVal,'ThreshDecrease':decreaseVal,'Random Seed':seeds,'Timesteps':Tlen,'Target Currents':maxCurrent,'dt':dt,'Num Samples':[119],'Num Trials':numRuns,'Noise':noisey}\n",
    "    print('saving sim data')\n",
    "#     if patternSize==2:\n",
    "#         saveName='data_'+str(nwSizes)+'nw_'+str(nwJunctions)+'nj_2x2_wThresh_Vtrn'+str(onAmp)+'_Vtst'+str(onAmpTest)+'_beta005_T200_oneDrainTrain_nback'+str(nbacks[0])+'_filament0.5'\n",
    "#         savemat(dataLoc+saveName+'.mat', {'Data':{'current':t,'threshold':thresholds, 'sim':sim,'accuracy':accuracy,'targets':alltargets,'training order':trainingOrder,'training labels':trainingLabels,'testing labels':testingLabels,'all labels':allLabels,'num test samples':numTestingSamples,'Parameters':params}},do_compression=True)\n",
    "#     else:\n",
    "#         saveName='data_'+str(nwSize)+'nw_'+str(nwJunctions)+'nj_3x3_wThresh_Vtrn'+str(onAmp)+'_Vtst'+str(onAmpTest)+'_beta005_T200_oneDrainTrain_nback'+str(nbacks[0])+'_filament0.5'\n",
    "#         savemat(dataLoc+saveName+'.mat', {'Data':{'current':t,'threshold':thresholds, 'sim':sim,'accuracy':accuracy,'targets':alltargets,'training order':trainingOrder,'training labels':trainingLabels,'testing labels':testingLabels,'all labels':allLabels,'num test samples':numTestingSamples,'Parameters':params}},do_compression=True,format='-v7.3')        \n",
    "# #     savemat(dataLoc+'nback'+str(nbacks[0])+'_data_700nw_2545nj_reinforcement_3x3_wLimThreshold_wAccThreshold.mat', {'Data':{'current':t,'threshold':thresholds, 'sim':sim,'accuracy':accuracy,'targets':alltargets,'training order':trainingOrder,'training labels':trainingLabels,'testing labels':testingLabels,'all labels':allLabels,'num test samples':numTestingSamples,'Parameters':params}})        \n",
    "#     print('saved')\n",
    "else:\n",
    "    print('Loading')\n",
    "    out=loadmat(dataLoc+'nback'+str(nbacks[0])+'_data_350nw_1350nj_reinforcement_2x2_wLimThreshold_wAccThreshold.mat')\n",
    "    out=out['Data'][0][0]\n",
    "    t=out[0]\n",
    "    thresholds=out[1]\n",
    "    sim=out[2][0]\n",
    "    accuracy=out[3][0]\n",
    "    alltargets=out[4]\n",
    "    trainingOrder=out[5][0]\n",
    "    trainingLabels=out[6][0]\n",
    "    testingLabels=out[7][0]\n",
    "    allLabels=out[8][0]\n",
    "    numTestingSamples=out[9][0][0]\n"
   ]
  },
  {
   "cell_type": "code",
   "execution_count": 20,
   "metadata": {},
   "outputs": [
    {
     "data": {
      "text/plain": [
       "(-0.1, 1.1)"
      ]
     },
     "execution_count": 20,
     "metadata": {},
     "output_type": "execute_result"
    },
    {
     "data": {
      "image/png": "[encoded data removed]",
      "text/plain": [
       "<Figure size 432x288 with 1 Axes>"
      ]
     },
     "metadata": {
      "needs_background": "light"
     },
     "output_type": "display_data"
    }
   ],
   "source": [
    "plt.plot(accuracy,'-o')\n",
    "plt.ylim([-0.1,1.1])"
   ]
  },
  {
   "cell_type": "code",
   "execution_count": 21,
   "metadata": {},
   "outputs": [
    {
     "data": {
      "text/plain": [
       "6"
      ]
     },
     "execution_count": 21,
     "metadata": {},
     "output_type": "execute_result"
    }
   ],
   "source": [
    "nbacks[0]"
   ]
  },
  {
   "cell_type": "code",
   "execution_count": 22,
   "metadata": {},
   "outputs": [],
   "source": [
    "savemat(dataLoc+'nback'+str(nbacks[0])+'_accuracy_b5.mat',{'Accuracy':accuracy})"
   ]
  },
  {
   "cell_type": "code",
   "execution_count": 33,
   "metadata": {},
   "outputs": [],
   "source": [
    "nbacks=[2,3,4,5,6]\n",
    "accuracies=[]\n",
    "for nback in nbacks:\n",
    "    accuracies.append(loadmat(dataLoc+'nback'+str(nback)+'_accuracy.mat')['Accuracy'][0])"
   ]
  },
  {
   "cell_type": "code",
   "execution_count": 34,
   "metadata": {},
   "outputs": [
    {
     "data": {
      "text/plain": [
       "<matplotlib.legend.Legend at 0x7f6ef07c8670>"
      ]
     },
     "execution_count": 34,
     "metadata": {},
     "output_type": "execute_result"
    },
    {
     "data": {
      "image/png": "[encoded data removed]",
      "text/plain": [
       "<Figure size 432x288 with 1 Axes>"
      ]
     },
     "metadata": {
      "needs_background": "light"
     },
     "output_type": "display_data"
    }
   ],
   "source": [
    "fig=plt.figure()\n",
    "i=0\n",
    "meanAcc=[]\n",
    "for a in accuracies:\n",
    "    meanAcc.append(np.mean(a[:40]))\n",
    "    plt.plot(a[:40],'-o',label=str(nbacks[i]))\n",
    "    i+=1\n",
    "plt.legend()"
   ]
  },
  {
   "cell_type": "code",
   "execution_count": 35,
   "metadata": {
    "scrolled": true
   },
   "outputs": [
    {
     "data": {
      "image/png": "[encoded data removed]",
      "text/plain": [
       "<Figure size 432x288 with 1 Axes>"
      ]
     },
     "metadata": {
      "needs_background": "light"
     },
     "output_type": "display_data"
    }
   ],
   "source": [
    "fig,ax=plt.subplots(1,1)\n",
    "plt.rcParams['pdf.fonttype'] = 42\n",
    "\n",
    "ax.set_title('NWN Working Memory Capacity | b = 0.5')\n",
    "ax.bar(range(len(meanAcc)),meanAcc,width=0.9,color=['r','g','c','b','m'])\n",
    "ax.set_xticklabels([1,2,3,4,5,6])\n",
    "ax.set_xlabel('n-back')\n",
    "ax.set_ylabel('Accuracy')\n",
    "ax.set_ylim([0,1])\n",
    "plt.savefig(saveFig+'698nw_2545nj_nback_Accuracy_b0p5.pdf',format='pdf',dpi=300)"
   ]
  },
  {
   "cell_type": "code",
   "execution_count": null,
   "metadata": {},
   "outputs": [],
   "source": []
  }
 ],
 "metadata": {
  "kernelspec": {
   "display_name": "Python [conda env:phd]",
   "language": "python",
   "name": "conda-env-phd-py"
  },
  "language_info": {
   "codemirror_mode": {
    "name": "ipython",
    "version": 3
   },
   "file_extension": ".py",
   "mimetype": "text/x-python",
   "name": "python",
   "nbconvert_exporter": "python",
   "pygments_lexer": "ipython3",
   "version": "3.8.12"
  }
 },
 "nbformat": 4,
 "nbformat_minor": 2
}
