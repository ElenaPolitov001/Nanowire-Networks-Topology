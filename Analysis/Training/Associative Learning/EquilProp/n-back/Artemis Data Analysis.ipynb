{
 "cells": [
  {
   "cell_type": "code",
   "execution_count": 1,
   "id": "2892fe5e",
   "metadata": {},
   "outputs": [
    {
     "name": "stderr",
     "output_type": "stream",
     "text": [
      "2022-05-31 12:46:42,461:INFO:Note: NumExpr detected 20 cores but \"NUMEXPR_MAX_THREADS\" not set, so enforcing safe limit of 8.\n"
     ]
    }
   ],
   "source": [
    "import sys\n",
    "import os\n",
    "\n",
    "sys.path.append('/import/silo2/aloe8475/Documents/edamame') #point to edamame locally\n",
    "sys.path.append('/import/silo2/aloe8475/Documents/CODE/Analysis/Training/Associative Learning/EquilProp') #point to edamame locally\n",
    "\n",
    "#Choose which nw:\n",
    "nwChoice=700 #350 or 700\n",
    "\n",
    "if nwChoice == 350:\n",
    "    fileName='/import/silo2/aloe8475/Documents/Data/Associative Learning/Sparse Networks/asn_nw_00350_nj_01350_seed_1581_avl_10.00_disp_01.00_lx_50.00_ly_50.00'\n",
    "elif nwChoice == 700:\n",
    "    fileName='/import/silo2/aloe8475/Documents/Data/Associative Learning/Sparse Networks/asn_nw_00698_nj_02582_seed_002_avl_10.00_disp_01.00_lx_75.00_ly_75.00'\n",
    "\n",
    "#point to network data path ^ \n",
    "\n",
    "saveFig='/import/silo2/aloe8475/Documents/Data/Figures/Equil Prop/' \n",
    "dataLoc='/import/silo2/aloe8475/Documents/Data/Associative Learning/EquilProp/'\n",
    "\n",
    "#import edamame (neuromorphic nanowire python package by Ruomin Zhu)\n",
    "from edamame import * \n",
    "import numpy as np\n",
    "import matplotlib.pyplot as plt\n",
    "import copy\n",
    "import networkx as nx\n",
    "from tqdm.notebook import tqdm_notebook as tqdm\n",
    "from IPython.core.debugger import set_trace\n",
    "import pandas as pd \n",
    "\n",
    "import pickle \n",
    "import _pickle as cPickle\n",
    "import gzip\n"
   ]
  },
  {
   "cell_type": "code",
   "execution_count": null,
   "id": "4da04c30",
   "metadata": {},
   "outputs": [],
   "source": [
    "artLoc='/import/silo2/aloe8475/Documents/Data/Associative Learning/EquilProp/Sim Results/artemis/'\n",
    "dataNoSim=[]\n",
    "\n",
    "for b in tqdm(['b0p1','b0p2','b0p5','b2','b5']):\n",
    "    saveName='698nw_2582nj_working_memory_nback_noReinforcement_7drains_data_'+b\n",
    "    with open(artLoc+saveName+'.pkl', 'rb') as f:\n",
    "        dataNoSim.append(pickle.load(f))"
   ]
  },
  {
   "cell_type": "code",
   "execution_count": null,
   "id": "eee80f29",
   "metadata": {},
   "outputs": [],
   "source": [
    "#LOAD EXPERIMENTAL DATA:\n",
    "loadLoc='/import/silo2/aloe8475/Documents/Data/Associative Learning/EquilProp/Adrian Results/'\n",
    "fileName='non_reinforcement_09_00_02_PD.csv'\n",
    "dataExp=pd.read_csv(loadLoc+fileName)"
   ]
  },
  {
   "cell_type": "code",
   "execution_count": 2,
   "id": "0130db7a",
   "metadata": {},
   "outputs": [
    {
     "ename": "NameError",
     "evalue": "name 'dataNoSim' is not defined",
     "output_type": "error",
     "traceback": [
      "\u001b[0;31m---------------------------------------------------------------------------\u001b[0m",
      "\u001b[0;31mNameError\u001b[0m                                 Traceback (most recent call last)",
      "\u001b[0;32m/tmp/ipykernel_47551/3291273941.py\u001b[0m in \u001b[0;36m<module>\u001b[0;34m\u001b[0m\n\u001b[0;32m----> 1\u001b[0;31m \u001b[0maccuracy\u001b[0m\u001b[0;34m=\u001b[0m\u001b[0mnp\u001b[0m\u001b[0;34m.\u001b[0m\u001b[0mzeros\u001b[0m\u001b[0;34m(\u001b[0m\u001b[0;34m[\u001b[0m\u001b[0mlen\u001b[0m\u001b[0;34m(\u001b[0m\u001b[0mdataNoSim\u001b[0m\u001b[0;34m)\u001b[0m\u001b[0;34m,\u001b[0m\u001b[0mlen\u001b[0m\u001b[0;34m(\u001b[0m\u001b[0mdataNoSim\u001b[0m\u001b[0;34m[\u001b[0m\u001b[0;36m0\u001b[0m\u001b[0;34m]\u001b[0m\u001b[0;34m)\u001b[0m\u001b[0;34m,\u001b[0m\u001b[0mlen\u001b[0m\u001b[0;34m(\u001b[0m\u001b[0mdataNoSim\u001b[0m\u001b[0;34m[\u001b[0m\u001b[0;36m0\u001b[0m\u001b[0;34m]\u001b[0m\u001b[0;34m[\u001b[0m\u001b[0;36m0\u001b[0m\u001b[0;34m]\u001b[0m\u001b[0;34m[\u001b[0m\u001b[0;36m3\u001b[0m\u001b[0;34m]\u001b[0m\u001b[0;34m)\u001b[0m\u001b[0;34m]\u001b[0m\u001b[0;34m)\u001b[0m\u001b[0;34m\u001b[0m\u001b[0;34m\u001b[0m\u001b[0m\n\u001b[0m\u001b[1;32m      2\u001b[0m \u001b[0;32mfor\u001b[0m \u001b[0mi\u001b[0m \u001b[0;32min\u001b[0m \u001b[0mrange\u001b[0m\u001b[0;34m(\u001b[0m\u001b[0mlen\u001b[0m\u001b[0;34m(\u001b[0m\u001b[0mdataNoSim\u001b[0m\u001b[0;34m)\u001b[0m\u001b[0;34m)\u001b[0m\u001b[0;34m:\u001b[0m\u001b[0;34m\u001b[0m\u001b[0;34m\u001b[0m\u001b[0m\n\u001b[1;32m      3\u001b[0m     \u001b[0;32mfor\u001b[0m \u001b[0mj\u001b[0m \u001b[0;32min\u001b[0m \u001b[0mrange\u001b[0m\u001b[0;34m(\u001b[0m\u001b[0mlen\u001b[0m\u001b[0;34m(\u001b[0m\u001b[0mdataNoSim\u001b[0m\u001b[0;34m[\u001b[0m\u001b[0mi\u001b[0m\u001b[0;34m]\u001b[0m\u001b[0;34m)\u001b[0m\u001b[0;34m)\u001b[0m\u001b[0;34m:\u001b[0m\u001b[0;34m\u001b[0m\u001b[0;34m\u001b[0m\u001b[0m\n\u001b[1;32m      4\u001b[0m         \u001b[0maccuracy\u001b[0m\u001b[0;34m[\u001b[0m\u001b[0mi\u001b[0m\u001b[0;34m]\u001b[0m\u001b[0;34m[\u001b[0m\u001b[0mj\u001b[0m\u001b[0;34m]\u001b[0m\u001b[0;34m=\u001b[0m\u001b[0mdataNoSim\u001b[0m\u001b[0;34m[\u001b[0m\u001b[0mi\u001b[0m\u001b[0;34m]\u001b[0m\u001b[0;34m[\u001b[0m\u001b[0mj\u001b[0m\u001b[0;34m]\u001b[0m\u001b[0;34m[\u001b[0m\u001b[0;36m3\u001b[0m\u001b[0;34m]\u001b[0m\u001b[0;34m\u001b[0m\u001b[0;34m\u001b[0m\u001b[0m\n",
      "\u001b[0;31mNameError\u001b[0m: name 'dataNoSim' is not defined"
     ]
    }
   ],
   "source": [
    "accuracy=np.zeros([len(dataNoSim),len(dataNoSim[0]),len(dataNoSim[0][0][3])])\n",
    "for i in range(len(dataNoSim)):\n",
    "    for j in range(len(dataNoSim[i])):\n",
    "        accuracy[i][j]=dataNoSim[i][j][3]"
   ]
  },
  {
   "cell_type": "code",
   "execution_count": null,
   "id": "7fe437d0",
   "metadata": {},
   "outputs": [],
   "source": [
    "nbackVals=np.zeros([len(dataNoSim),len(dataNoSim[0]),len(dataNoSim[0][0][3])])\n",
    "for i in range(len(dataNoSim)):\n",
    "    for j in range(len(dataNoSim[i])):\n",
    "        nbackVals[i][j]=np.hstack(np.argwhere(np.array(dataNoSim[i][j][7])==-1)-np.argwhere(np.array(dataNoSim[i][j][7])==0))"
   ]
  },
  {
   "cell_type": "code",
   "execution_count": null,
   "id": "f048538c",
   "metadata": {},
   "outputs": [],
   "source": [
    "import pandas as pd\n",
    "meanAcc=[];seAcc=[];numVals=[]\n",
    "for n in range(len(nbackVals)):\n",
    "    tmpMeanAcc=[];tmpSeAcc=[];tmpNumVals=[]\n",
    "    for i in range(len(nbackVals[n])):\n",
    "        tmp=nbackVals[n][i]\n",
    "        tmpNum=[];tmpAcc=[]\n",
    "        for j in range(1,nback+1):\n",
    "            tmpNum.append(np.sum(tmp==j))\n",
    "            tmpAcc.append(accuracy[n][i][tmp==j])\n",
    "#             tmpSeAcc.append(np.nanstd(accuracy[n][i][tmp==j])/np.sqrt(len(accuracy[n][i][tmp==j])))\n",
    "#         tmpAcc=np.hstack(tmpAcc)\n",
    "        tmpMeanAcc.append(pd.DataFrame(tmpAcc).mean(axis=1).values)\n",
    "        tmpSeAcc.append(pd.DataFrame(tmpAcc).std(axis=1).values/np.sqrt(len(tmpAcc)))\n",
    "#         tmpNumVals.append(tmpNum)\n",
    "    meanAcc.append(np.mean(tmpMeanAcc,axis=0))\n",
    "    seAcc.append(np.std(tmpMeanAcc,axis=0)/np.sqrt(len(tmpMeanAcc)))\n",
    "    numVals.append(tmpNumVals)"
   ]
  },
  {
   "cell_type": "code",
   "execution_count": null,
   "id": "f73554af",
   "metadata": {},
   "outputs": [],
   "source": [
    "plt.rcParams['pdf.fonttype'] = 42\n",
    "\n",
    "plt.figure(figsize=(10,8))\n",
    "nbacks=[1,2,3,4,5,6,7]#,8,9]\n",
    "for i in range(len(meanAcc)):\n",
    "    plt.plot(nbacks,meanAcc[i])\n",
    "    plt.fill_between(nbacks,meanAcc[i]+seAcc[i],meanAcc[i]-seAcc[i],alpha=0.7)\n",
    "plt.plot(nbacks,dataExp['Accuracy'],'--',c='k')\n",
    "plt.xlabel('n-back')\n",
    "plt.ylabel('Accuracy')\n",
    "plt.legend(['b = 0.1','b = 0.2','b = 0.5','b = 2','b = 5','Experimental'])\n",
    "\n",
    "# plt.savefig(saveFig+'698nw_2582nj_working_memory_no_reinforcement_nback7_b0p1_b5_wExperiment.pdf',format='pdf',dpi=300)"
   ]
  },
  {
   "cell_type": "code",
   "execution_count": null,
   "id": "44dfd52d",
   "metadata": {},
   "outputs": [],
   "source": []
  }
 ],
 "metadata": {
  "kernelspec": {
   "display_name": "Python 3 (ipykernel)",
   "language": "python",
   "name": "python3"
  },
  "language_info": {
   "codemirror_mode": {
    "name": "ipython",
    "version": 3
   },
   "file_extension": ".py",
   "mimetype": "text/x-python",
   "name": "python",
   "nbconvert_exporter": "python",
   "pygments_lexer": "ipython3",
   "version": "3.8.12"
  }
 },
 "nbformat": 4,
 "nbformat_minor": 5
}
