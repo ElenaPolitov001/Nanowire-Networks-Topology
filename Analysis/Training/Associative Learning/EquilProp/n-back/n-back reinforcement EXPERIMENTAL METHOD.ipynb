{
 "cells": [
  {
   "cell_type": "code",
   "execution_count": null,
   "metadata": {},
   "outputs": [],
   "source": [
    "#IMPLEMENT TASK WITH:\n",
    "# - Ramp testing (start at zero and increase to test threshold)\n",
    "# - Modified accuracy (whichever drain has higher current on average over testing time)\n",
    "# - ONLY ONE ACTIVE DRAIN AT A TIME - remove the non-target drain from the stimulus during training"
   ]
  },
  {
   "cell_type": "code",
   "execution_count": null,
   "metadata": {
    "scrolled": true
   },
   "outputs": [
    {
     "name": "stdout",
     "output_type": "stream",
     "text": [
      "Network 698 Loaded\n",
      "Parameters:\n",
      "\n",
      "Train V: 0.3\n",
      "Test V: 0.1\n",
      "Pattern: 2x2\n"
     ]
    },
    {
     "data": {
      "application/vnd.jupyter.widget-view+json": {
       "model_id": "f23c29f8d950486a829999161ac923b4",
       "version_major": 2,
       "version_minor": 0
      },
      "text/plain": [
       "  0%|          | 0/1 [00:00<?, ?it/s]"
      ]
     },
     "metadata": {},
     "output_type": "display_data"
    },
    {
     "name": "stdout",
     "output_type": "stream",
     "text": [
      "5e-06\n"
     ]
    },
    {
     "data": {
      "application/vnd.jupyter.widget-view+json": {
       "model_id": "a887ea21e63c42b0ad6dc44fc2ed96f0",
       "version_major": 2,
       "version_minor": 0
      },
      "text/plain": [
       "  0%|          | 0/1 [00:00<?, ?it/s]"
      ]
     },
     "metadata": {},
     "output_type": "display_data"
    },
    {
     "data": {
      "application/vnd.jupyter.widget-view+json": {
       "model_id": "cbc50a2d405342a7b05c1fc1a46d4f04",
       "version_major": 2,
       "version_minor": 0
      },
      "text/plain": [
       "  0%|          | 0/119 [00:00<?, ?it/s]"
      ]
     },
     "metadata": {},
     "output_type": "display_data"
    },
    {
     "name": "stdout",
     "output_type": "stream",
     "text": [
      "\n",
      "Drain 1 Only\n"
     ]
    },
    {
     "data": {
      "application/vnd.jupyter.widget-view+json": {
       "model_id": "754891c969914a22950b1295f650b6ea",
       "version_major": 2,
       "version_minor": 0
      },
      "text/plain": [
       "Running Simulation :   0%|          | 0/200 [00:00<?, ?it/s]"
      ]
     },
     "metadata": {},
     "output_type": "display_data"
    },
    {
     "name": "stdout",
     "output_type": "stream",
     "text": [
      "Target:0\n",
      "Final Target Drain Current: [5.276272952299051e-06]\n",
      "LimVal1:5e-06\n",
      "LimVal0:5e-06\n",
      "\n",
      "Drain 2 Only\n"
     ]
    },
    {
     "data": {
      "application/vnd.jupyter.widget-view+json": {
       "model_id": "9e189e1ba29f4df18c26af5f68da9388",
       "version_major": 2,
       "version_minor": 0
      },
      "text/plain": [
       "Running Simulation :   0%|          | 0/200 [00:00<?, ?it/s]"
      ]
     },
     "metadata": {},
     "output_type": "display_data"
    },
    {
     "name": "stdout",
     "output_type": "stream",
     "text": [
      "Target:1\n",
      "Final Target Drain Current: [6.615727826318818e-06]\n",
      "LimVal1:5e-06\n",
      "LimVal0:5e-06\n",
      "\n",
      "Both Drains\n"
     ]
    },
    {
     "data": {
      "application/vnd.jupyter.widget-view+json": {
       "model_id": "62181c22d2b946d9b289a29863bf172b",
       "version_major": 2,
       "version_minor": 0
      },
      "text/plain": [
       "Running Simulation :   0%|          | 0/200 [00:00<?, ?it/s]"
      ]
     },
     "metadata": {},
     "output_type": "display_data"
    },
    {
     "name": "stdout",
     "output_type": "stream",
     "text": [
      "Target:0\n",
      "Final Target Drain Current: [1.158740794747417e-06, 9.106048918232715e-09]\n",
      "Target: 0.0\n",
      "Accuracy: 1\n",
      "LimVal1:5e-06\n",
      "LimVal0:5e-06\n",
      "\n",
      "Drain 1 Only\n"
     ]
    },
    {
     "data": {
      "application/vnd.jupyter.widget-view+json": {
       "model_id": "c403dbc642bb4465b782158cb60f59ba",
       "version_major": 2,
       "version_minor": 0
      },
      "text/plain": [
       "Running Simulation :   0%|          | 0/200 [00:00<?, ?it/s]"
      ]
     },
     "metadata": {},
     "output_type": "display_data"
    },
    {
     "name": "stdout",
     "output_type": "stream",
     "text": [
      "Target:0\n",
      "Final Target Drain Current: [5.157027095893728e-06]\n",
      "LimVal1:5e-06\n",
      "LimVal0:5e-06\n",
      "\n",
      "Drain 2 Only\n"
     ]
    },
    {
     "data": {
      "application/vnd.jupyter.widget-view+json": {
       "model_id": "01eece2e509d44b9b078335515af7199",
       "version_major": 2,
       "version_minor": 0
      },
      "text/plain": [
       "Running Simulation :   0%|          | 0/200 [00:00<?, ?it/s]"
      ]
     },
     "metadata": {},
     "output_type": "display_data"
    },
    {
     "name": "stdout",
     "output_type": "stream",
     "text": [
      "Target:1\n",
      "Final Target Drain Current: [5.155284615989696e-06]\n",
      "LimVal1:5e-06\n",
      "LimVal0:5e-06\n",
      "\n",
      "Both Drains\n"
     ]
    },
    {
     "data": {
      "application/vnd.jupyter.widget-view+json": {
       "model_id": "d313995b315e40d499889cf4ce2e1cc8",
       "version_major": 2,
       "version_minor": 0
      },
      "text/plain": [
       "Running Simulation :   0%|          | 0/200 [00:00<?, ?it/s]"
      ]
     },
     "metadata": {},
     "output_type": "display_data"
    },
    {
     "name": "stdout",
     "output_type": "stream",
     "text": [
      "Target:0\n",
      "Final Target Drain Current: [1.191231629550208e-06, 1.0712114615685055e-08]\n",
      "Target: 0.0\n",
      "Accuracy: 1\n",
      "LimVal1:5e-06\n",
      "LimVal0:5e-06\n",
      "\n",
      "Drain 2 Only\n"
     ]
    },
    {
     "data": {
      "application/vnd.jupyter.widget-view+json": {
       "model_id": "486cfbb456894d8297e12db66e66f5e5",
       "version_major": 2,
       "version_minor": 0
      },
      "text/plain": [
       "Running Simulation :   0%|          | 0/200 [00:00<?, ?it/s]"
      ]
     },
     "metadata": {},
     "output_type": "display_data"
    },
    {
     "name": "stdout",
     "output_type": "stream",
     "text": [
      "Target:1\n",
      "Final Target Drain Current: [5.5259047680655504e-06]\n",
      "LimVal1:5e-06\n",
      "LimVal0:5e-06\n",
      "\n",
      "Drain 1 Only\n"
     ]
    },
    {
     "data": {
      "application/vnd.jupyter.widget-view+json": {
       "model_id": "ee8b15e9156c4d6b84136a8c58ade42e",
       "version_major": 2,
       "version_minor": 0
      },
      "text/plain": [
       "Running Simulation :   0%|          | 0/200 [00:00<?, ?it/s]"
      ]
     },
     "metadata": {},
     "output_type": "display_data"
    },
    {
     "name": "stdout",
     "output_type": "stream",
     "text": [
      "Target:0\n",
      "Final Target Drain Current: [5.163631896827055e-06]\n",
      "LimVal1:5e-06\n",
      "LimVal0:5e-06\n",
      "\n",
      "Both Drains\n"
     ]
    },
    {
     "data": {
      "application/vnd.jupyter.widget-view+json": {
       "model_id": "e7042bf46da44289b4704573f5d837b3",
       "version_major": 2,
       "version_minor": 0
      },
      "text/plain": [
       "Running Simulation :   0%|          | 0/200 [00:00<?, ?it/s]"
      ]
     },
     "metadata": {},
     "output_type": "display_data"
    },
    {
     "name": "stdout",
     "output_type": "stream",
     "text": [
      "Target:1\n",
      "Final Target Drain Current: [7.2934132250990525e-09, 1.7442728714882172e-06]\n",
      "Target: 1.0\n",
      "Accuracy: 1\n",
      "LimVal1:5e-06\n",
      "LimVal0:5e-06\n",
      "\n",
      "Drain 2 Only\n"
     ]
    },
    {
     "data": {
      "application/vnd.jupyter.widget-view+json": {
       "model_id": "0e19ad00e54f4c419727a08b2b55b735",
       "version_major": 2,
       "version_minor": 0
      },
      "text/plain": [
       "Running Simulation :   0%|          | 0/200 [00:00<?, ?it/s]"
      ]
     },
     "metadata": {},
     "output_type": "display_data"
    },
    {
     "name": "stdout",
     "output_type": "stream",
     "text": [
      "Target:1\n",
      "Final Target Drain Current: [5.233148695651692e-06]\n",
      "LimVal1:5e-06\n",
      "LimVal0:5e-06\n",
      "\n",
      "Drain 1 Only\n"
     ]
    },
    {
     "data": {
      "application/vnd.jupyter.widget-view+json": {
       "model_id": "64240d17b71740ab90c0b6ccff8da037",
       "version_major": 2,
       "version_minor": 0
      },
      "text/plain": [
       "Running Simulation :   0%|          | 0/200 [00:00<?, ?it/s]"
      ]
     },
     "metadata": {},
     "output_type": "display_data"
    },
    {
     "name": "stdout",
     "output_type": "stream",
     "text": [
      "Target:0\n",
      "Final Target Drain Current: [5.158404727194088e-06]\n",
      "LimVal1:5e-06\n",
      "LimVal0:5e-06\n",
      "\n",
      "Both Drains\n"
     ]
    },
    {
     "data": {
      "application/vnd.jupyter.widget-view+json": {
       "model_id": "ffc3ba9b6d40434fbbceca77bda76446",
       "version_major": 2,
       "version_minor": 0
      },
      "text/plain": [
       "Running Simulation :   0%|          | 0/200 [00:00<?, ?it/s]"
      ]
     },
     "metadata": {},
     "output_type": "display_data"
    },
    {
     "name": "stdout",
     "output_type": "stream",
     "text": [
      "Target:1\n",
      "Final Target Drain Current: [7.95309846386826e-09, 1.7441621634246511e-06]\n",
      "Target: 1.0\n",
      "Accuracy: 1\n",
      "LimVal1:5e-06\n",
      "LimVal0:5e-06\n",
      "\n",
      "Drain 2 Only\n"
     ]
    },
    {
     "data": {
      "application/vnd.jupyter.widget-view+json": {
       "model_id": "0005820ffd134964bab345634b3705f0",
       "version_major": 2,
       "version_minor": 0
      },
      "text/plain": [
       "Running Simulation :   0%|          | 0/200 [00:00<?, ?it/s]"
      ]
     },
     "metadata": {},
     "output_type": "display_data"
    },
    {
     "name": "stdout",
     "output_type": "stream",
     "text": [
      "Target:1\n",
      "Final Target Drain Current: [5.232615211146058e-06]\n",
      "LimVal1:5e-06\n",
      "LimVal0:5e-06\n",
      "\n",
      "Drain 1 Only\n"
     ]
    },
    {
     "data": {
      "application/vnd.jupyter.widget-view+json": {
       "model_id": "c806ab4d88774df3b2a44dbf17657db1",
       "version_major": 2,
       "version_minor": 0
      },
      "text/plain": [
       "Running Simulation :   0%|          | 0/200 [00:00<?, ?it/s]"
      ]
     },
     "metadata": {},
     "output_type": "display_data"
    },
    {
     "name": "stdout",
     "output_type": "stream",
     "text": [
      "Target:0\n",
      "Final Target Drain Current: [5.158480952397011e-06]\n",
      "LimVal1:5e-06\n",
      "LimVal0:5e-06\n",
      "\n",
      "Both Drains\n"
     ]
    },
    {
     "data": {
      "application/vnd.jupyter.widget-view+json": {
       "model_id": "d59d94d049524b85b4362eaa08541dd2",
       "version_major": 2,
       "version_minor": 0
      },
      "text/plain": [
       "Running Simulation :   0%|          | 0/200 [00:00<?, ?it/s]"
      ]
     },
     "metadata": {},
     "output_type": "display_data"
    },
    {
     "name": "stdout",
     "output_type": "stream",
     "text": [
      "Target:1\n",
      "Final Target Drain Current: [8.429819879155168e-09, 1.745923849344049e-06]\n",
      "Target: 1.0\n",
      "Accuracy: 1\n",
      "LimVal1:5e-06\n",
      "LimVal0:5e-06\n",
      "\n",
      "Drain 2 Only\n"
     ]
    },
    {
     "data": {
      "application/vnd.jupyter.widget-view+json": {
       "model_id": "fb34e0e4d7b3411fb6f7d38aff177763",
       "version_major": 2,
       "version_minor": 0
      },
      "text/plain": [
       "Running Simulation :   0%|          | 0/200 [00:00<?, ?it/s]"
      ]
     },
     "metadata": {},
     "output_type": "display_data"
    },
    {
     "name": "stdout",
     "output_type": "stream",
     "text": [
      "Target:1\n",
      "Final Target Drain Current: [5.237873243070122e-06]\n",
      "LimVal1:5e-06\n",
      "LimVal0:5e-06\n",
      "\n",
      "Drain 1 Only\n"
     ]
    },
    {
     "data": {
      "application/vnd.jupyter.widget-view+json": {
       "model_id": "df58f30b7b9149d383f11726d5c3eda3",
       "version_major": 2,
       "version_minor": 0
      },
      "text/plain": [
       "Running Simulation :   0%|          | 0/200 [00:00<?, ?it/s]"
      ]
     },
     "metadata": {},
     "output_type": "display_data"
    },
    {
     "name": "stdout",
     "output_type": "stream",
     "text": [
      "Target:0\n",
      "Final Target Drain Current: [5.163281609337427e-06]\n",
      "LimVal1:5e-06\n",
      "LimVal0:5e-06\n",
      "\n",
      "Both Drains\n"
     ]
    },
    {
     "data": {
      "application/vnd.jupyter.widget-view+json": {
       "model_id": "1edacca59ba74e79bd5a29478e3f4612",
       "version_major": 2,
       "version_minor": 0
      },
      "text/plain": [
       "Running Simulation :   0%|          | 0/200 [00:00<?, ?it/s]"
      ]
     },
     "metadata": {},
     "output_type": "display_data"
    },
    {
     "name": "stdout",
     "output_type": "stream",
     "text": [
      "Target:1\n",
      "Final Target Drain Current: [8.470329470184036e-09, 1.7463663506357448e-06]\n",
      "Target: 1.0\n",
      "Accuracy: 1\n",
      "LimVal1:5e-06\n",
      "LimVal0:5e-06\n",
      "\n",
      "Drain 1 Only\n"
     ]
    },
    {
     "data": {
      "application/vnd.jupyter.widget-view+json": {
       "model_id": "1f21db4963dd4ec0a33aaef1c2a8aee9",
       "version_major": 2,
       "version_minor": 0
      },
      "text/plain": [
       "Running Simulation :   0%|          | 0/200 [00:00<?, ?it/s]"
      ]
     },
     "metadata": {},
     "output_type": "display_data"
    },
    {
     "name": "stdout",
     "output_type": "stream",
     "text": [
      "Target:0\n",
      "Final Target Drain Current: [5.225767839128074e-06]\n",
      "LimVal1:5e-06\n",
      "LimVal0:5e-06\n",
      "\n",
      "Drain 2 Only\n"
     ]
    },
    {
     "data": {
      "application/vnd.jupyter.widget-view+json": {
       "model_id": "ed759def738a454f9fc3944c7b56193f",
       "version_major": 2,
       "version_minor": 0
      },
      "text/plain": [
       "Running Simulation :   0%|          | 0/200 [00:00<?, ?it/s]"
      ]
     },
     "metadata": {},
     "output_type": "display_data"
    },
    {
     "name": "stdout",
     "output_type": "stream",
     "text": [
      "Target:1\n",
      "Final Target Drain Current: [5.034962702138743e-06]\n",
      "LimVal1:5e-06\n",
      "LimVal0:5e-06\n",
      "\n",
      "Both Drains\n"
     ]
    },
    {
     "data": {
      "application/vnd.jupyter.widget-view+json": {
       "model_id": "a087dd49ee1b46faa5c15ee563683f81",
       "version_major": 2,
       "version_minor": 0
      },
      "text/plain": [
       "Running Simulation :   0%|          | 0/200 [00:00<?, ?it/s]"
      ]
     },
     "metadata": {},
     "output_type": "display_data"
    },
    {
     "name": "stdout",
     "output_type": "stream",
     "text": [
      "Target:0\n",
      "Final Target Drain Current: [1.202428896201868e-06, 7.188464346879105e-09]\n",
      "Target: 0.0\n",
      "Accuracy: 1\n",
      "LimVal1:5e-06\n",
      "LimVal0:5e-06\n",
      "\n",
      "Drain 1 Only\n"
     ]
    },
    {
     "data": {
      "application/vnd.jupyter.widget-view+json": {
       "model_id": "d3e0b83c9c4c4994ad9b9c998e6480d5",
       "version_major": 2,
       "version_minor": 0
      },
      "text/plain": [
       "Running Simulation :   0%|          | 0/200 [00:00<?, ?it/s]"
      ]
     },
     "metadata": {},
     "output_type": "display_data"
    },
    {
     "name": "stdout",
     "output_type": "stream",
     "text": [
      "Target:0\n",
      "Final Target Drain Current: [5.2653114964957985e-06]\n",
      "LimVal1:5e-06\n",
      "LimVal0:5e-06\n",
      "\n",
      "Drain 2 Only\n"
     ]
    },
    {
     "data": {
      "application/vnd.jupyter.widget-view+json": {
       "model_id": "cb32bbbdee344ffc8cbb8858ac64c7e9",
       "version_major": 2,
       "version_minor": 0
      },
      "text/plain": [
       "Running Simulation :   0%|          | 0/200 [00:00<?, ?it/s]"
      ]
     },
     "metadata": {},
     "output_type": "display_data"
    },
    {
     "name": "stdout",
     "output_type": "stream",
     "text": [
      "Target:1\n",
      "Final Target Drain Current: [5.15249036072482e-06]\n",
      "LimVal1:5e-06\n",
      "LimVal0:5e-06\n",
      "\n",
      "Both Drains\n"
     ]
    },
    {
     "data": {
      "application/vnd.jupyter.widget-view+json": {
       "model_id": "1f9a7c55b4f049ed870e376a4991e735",
       "version_major": 2,
       "version_minor": 0
      },
      "text/plain": [
       "Running Simulation :   0%|          | 0/200 [00:00<?, ?it/s]"
      ]
     },
     "metadata": {},
     "output_type": "display_data"
    },
    {
     "name": "stdout",
     "output_type": "stream",
     "text": [
      "Target:0\n",
      "Final Target Drain Current: [1.218212103670092e-06, 1.0834810134512574e-08]\n",
      "Target: 0.0\n",
      "Accuracy: 1\n",
      "LimVal1:5e-06\n",
      "LimVal0:5e-06\n",
      "\n",
      "Drain 1 Only\n"
     ]
    },
    {
     "data": {
      "application/vnd.jupyter.widget-view+json": {
       "model_id": "5bb7326c3dc64833bb5eb4d1251ccc52",
       "version_major": 2,
       "version_minor": 0
      },
      "text/plain": [
       "Running Simulation :   0%|          | 0/200 [00:00<?, ?it/s]"
      ]
     },
     "metadata": {},
     "output_type": "display_data"
    },
    {
     "name": "stdout",
     "output_type": "stream",
     "text": [
      "Target:0\n",
      "Final Target Drain Current: [5.3001918550233225e-06]\n",
      "LimVal1:5e-06\n",
      "LimVal0:5e-06\n",
      "\n",
      "Drain 2 Only\n"
     ]
    },
    {
     "data": {
      "application/vnd.jupyter.widget-view+json": {
       "model_id": "939a46c9810c463daff06c06827f85dc",
       "version_major": 2,
       "version_minor": 0
      },
      "text/plain": [
       "Running Simulation :   0%|          | 0/200 [00:00<?, ?it/s]"
      ]
     },
     "metadata": {},
     "output_type": "display_data"
    },
    {
     "name": "stdout",
     "output_type": "stream",
     "text": [
      "Target:1\n",
      "Final Target Drain Current: [5.689847089948147e-06]\n",
      "LimVal1:5e-06\n",
      "LimVal0:5e-06\n",
      "\n",
      "Both Drains\n"
     ]
    },
    {
     "data": {
      "application/vnd.jupyter.widget-view+json": {
       "model_id": "f82cc0482d6743dbb9d5798ddc49b6a7",
       "version_major": 2,
       "version_minor": 0
      },
      "text/plain": [
       "Running Simulation :   0%|          | 0/200 [00:00<?, ?it/s]"
      ]
     },
     "metadata": {},
     "output_type": "display_data"
    },
    {
     "name": "stdout",
     "output_type": "stream",
     "text": [
      "Target:0\n",
      "Final Target Drain Current: [1.2285459099908206e-06, 9.986816685548903e-09]\n",
      "Target: 0.0\n",
      "Accuracy: 1\n",
      "LimVal1:5e-06\n",
      "LimVal0:5e-06\n",
      "\n",
      "Drain 2 Only\n"
     ]
    },
    {
     "data": {
      "application/vnd.jupyter.widget-view+json": {
       "model_id": "cbd38db7c5624f35a6fc456b7fd7e249",
       "version_major": 2,
       "version_minor": 0
      },
      "text/plain": [
       "Running Simulation :   0%|          | 0/200 [00:00<?, ?it/s]"
      ]
     },
     "metadata": {},
     "output_type": "display_data"
    },
    {
     "name": "stdout",
     "output_type": "stream",
     "text": [
      "Target:1\n",
      "Final Target Drain Current: [5.21991993725744e-06]\n",
      "LimVal1:5e-06\n",
      "LimVal0:5e-06\n",
      "\n",
      "Drain 1 Only\n"
     ]
    },
    {
     "data": {
      "application/vnd.jupyter.widget-view+json": {
       "model_id": "3ca80b2fdf394eabb82a65688ef1b825",
       "version_major": 2,
       "version_minor": 0
      },
      "text/plain": [
       "Running Simulation :   0%|          | 0/200 [00:00<?, ?it/s]"
      ]
     },
     "metadata": {},
     "output_type": "display_data"
    },
    {
     "name": "stdout",
     "output_type": "stream",
     "text": [
      "Target:0\n",
      "Final Target Drain Current: [5.265065576964269e-06]\n",
      "LimVal1:5e-06\n",
      "LimVal0:5e-06\n",
      "\n",
      "Both Drains\n"
     ]
    },
    {
     "data": {
      "application/vnd.jupyter.widget-view+json": {
       "model_id": "6886946afa0046b7bc2efdf0f8a0d204",
       "version_major": 2,
       "version_minor": 0
      },
      "text/plain": [
       "Running Simulation :   0%|          | 0/200 [00:00<?, ?it/s]"
      ]
     },
     "metadata": {},
     "output_type": "display_data"
    },
    {
     "name": "stdout",
     "output_type": "stream",
     "text": [
      "Target:1\n",
      "Final Target Drain Current: [5.456794110440501e-09, 1.7237571720992818e-06]\n",
      "Target: 1.0\n",
      "Accuracy: 1\n",
      "LimVal1:5e-06\n",
      "LimVal0:5e-06\n",
      "\n",
      "Drain 1 Only\n"
     ]
    },
    {
     "data": {
      "application/vnd.jupyter.widget-view+json": {
       "model_id": "270daaa6e6814b42962100b15b132965",
       "version_major": 2,
       "version_minor": 0
      },
      "text/plain": [
       "Running Simulation :   0%|          | 0/200 [00:00<?, ?it/s]"
      ]
     },
     "metadata": {},
     "output_type": "display_data"
    },
    {
     "name": "stdout",
     "output_type": "stream",
     "text": [
      "Target:0\n",
      "Final Target Drain Current: [5.326424861176305e-06]\n",
      "LimVal1:5e-06\n",
      "LimVal0:5e-06\n",
      "\n",
      "Drain 2 Only\n"
     ]
    },
    {
     "data": {
      "application/vnd.jupyter.widget-view+json": {
       "model_id": "6267ed2739bd4b549bcf8e33b9024669",
       "version_major": 2,
       "version_minor": 0
      },
      "text/plain": [
       "Running Simulation :   0%|          | 0/200 [00:00<?, ?it/s]"
      ]
     },
     "metadata": {},
     "output_type": "display_data"
    },
    {
     "name": "stdout",
     "output_type": "stream",
     "text": [
      "Target:1\n",
      "Final Target Drain Current: [5.52946920244622e-06]\n",
      "LimVal1:5e-06\n",
      "LimVal0:5e-06\n",
      "\n",
      "Both Drains\n"
     ]
    },
    {
     "data": {
      "application/vnd.jupyter.widget-view+json": {
       "model_id": "b2aadbf64914468cbb9350f50f1a3f82",
       "version_major": 2,
       "version_minor": 0
      },
      "text/plain": [
       "Running Simulation :   0%|          | 0/200 [00:00<?, ?it/s]"
      ]
     },
     "metadata": {},
     "output_type": "display_data"
    },
    {
     "name": "stdout",
     "output_type": "stream",
     "text": [
      "Target:0\n",
      "Final Target Drain Current: [1.2291161781518004e-06, 9.85131581643388e-09]\n",
      "Target: 0.0\n",
      "Accuracy: 1\n",
      "LimVal1:5e-06\n",
      "LimVal0:5e-06\n",
      "\n",
      "Drain 2 Only\n"
     ]
    },
    {
     "data": {
      "application/vnd.jupyter.widget-view+json": {
       "model_id": "a397644962224391ad7e8d5f93ddd049",
       "version_major": 2,
       "version_minor": 0
      },
      "text/plain": [
       "Running Simulation :   0%|          | 0/200 [00:00<?, ?it/s]"
      ]
     },
     "metadata": {},
     "output_type": "display_data"
    },
    {
     "name": "stdout",
     "output_type": "stream",
     "text": [
      "Target:1\n",
      "Final Target Drain Current: [5.404595065605949e-06]\n",
      "LimVal1:5e-06\n",
      "LimVal0:5e-06\n",
      "\n",
      "Drain 1 Only\n"
     ]
    },
    {
     "data": {
      "application/vnd.jupyter.widget-view+json": {
       "model_id": "c8878eb3b6dc4990b636d942bb8d4a4b",
       "version_major": 2,
       "version_minor": 0
      },
      "text/plain": [
       "Running Simulation :   0%|          | 0/200 [00:00<?, ?it/s]"
      ]
     },
     "metadata": {},
     "output_type": "display_data"
    },
    {
     "name": "stdout",
     "output_type": "stream",
     "text": [
      "Target:0\n",
      "Final Target Drain Current: [5.293112855717034e-06]\n",
      "LimVal1:5e-06\n",
      "LimVal0:5e-06\n",
      "\n",
      "Both Drains\n"
     ]
    },
    {
     "data": {
      "application/vnd.jupyter.widget-view+json": {
       "model_id": "baeb122ca3094851b3083c93cc37b814",
       "version_major": 2,
       "version_minor": 0
      },
      "text/plain": [
       "Running Simulation :   0%|          | 0/200 [00:00<?, ?it/s]"
      ]
     },
     "metadata": {},
     "output_type": "display_data"
    },
    {
     "name": "stdout",
     "output_type": "stream",
     "text": [
      "Target:1\n",
      "Final Target Drain Current: [7.158059177338407e-09, 1.7316034722497281e-06]\n",
      "Target: 1.0\n",
      "Accuracy: 1\n",
      "LimVal1:5e-06\n",
      "LimVal0:5e-06\n",
      "\n",
      "Drain 2 Only\n"
     ]
    },
    {
     "data": {
      "application/vnd.jupyter.widget-view+json": {
       "model_id": "6335e00e64c14cb4995adea525189e7e",
       "version_major": 2,
       "version_minor": 0
      },
      "text/plain": [
       "Running Simulation :   0%|          | 0/200 [00:00<?, ?it/s]"
      ]
     },
     "metadata": {},
     "output_type": "display_data"
    },
    {
     "name": "stdout",
     "output_type": "stream",
     "text": [
      "Target:1\n",
      "Final Target Drain Current: [5.195055045067242e-06]\n",
      "LimVal1:5e-06\n",
      "LimVal0:5e-06\n",
      "\n",
      "Drain 1 Only\n"
     ]
    },
    {
     "data": {
      "application/vnd.jupyter.widget-view+json": {
       "model_id": "59000e2914f747258d0187a7ebc09bbe",
       "version_major": 2,
       "version_minor": 0
      },
      "text/plain": [
       "Running Simulation :   0%|          | 0/200 [00:00<?, ?it/s]"
      ]
     },
     "metadata": {},
     "output_type": "display_data"
    },
    {
     "name": "stdout",
     "output_type": "stream",
     "text": [
      "Target:0\n",
      "Final Target Drain Current: [5.284002974976017e-06]\n",
      "LimVal1:5e-06\n",
      "LimVal0:5e-06\n",
      "\n",
      "Both Drains\n"
     ]
    },
    {
     "data": {
      "application/vnd.jupyter.widget-view+json": {
       "model_id": "a217e983ceab4bb4b0690461c0e17956",
       "version_major": 2,
       "version_minor": 0
      },
      "text/plain": [
       "Running Simulation :   0%|          | 0/200 [00:00<?, ?it/s]"
      ]
     },
     "metadata": {},
     "output_type": "display_data"
    },
    {
     "name": "stdout",
     "output_type": "stream",
     "text": [
      "Target:1\n",
      "Final Target Drain Current: [7.821467395714648e-09, 1.7396160309804298e-06]\n",
      "Target: 1.0\n",
      "Accuracy: 1\n",
      "LimVal1:5e-06\n",
      "LimVal0:5e-06\n",
      "\n",
      "Drain 2 Only\n"
     ]
    },
    {
     "data": {
      "application/vnd.jupyter.widget-view+json": {
       "model_id": "a2d50cea12794915a56f4a4a1686bca3",
       "version_major": 2,
       "version_minor": 0
      },
      "text/plain": [
       "Running Simulation :   0%|          | 0/200 [00:00<?, ?it/s]"
      ]
     },
     "metadata": {},
     "output_type": "display_data"
    },
    {
     "name": "stdout",
     "output_type": "stream",
     "text": [
      "Target:1\n",
      "Final Target Drain Current: [5.218988965368723e-06]\n",
      "LimVal1:5e-06\n",
      "LimVal0:5e-06\n",
      "\n",
      "Drain 1 Only\n"
     ]
    },
    {
     "data": {
      "application/vnd.jupyter.widget-view+json": {
       "model_id": "d61bd00772d4451d89bc412f4d180cf3",
       "version_major": 2,
       "version_minor": 0
      },
      "text/plain": [
       "Running Simulation :   0%|          | 0/200 [00:00<?, ?it/s]"
      ]
     },
     "metadata": {},
     "output_type": "display_data"
    },
    {
     "name": "stdout",
     "output_type": "stream",
     "text": [
      "Target:0\n",
      "Final Target Drain Current: [5.2855769943824405e-06]\n",
      "LimVal1:5e-06\n",
      "LimVal0:5e-06\n",
      "\n",
      "Both Drains\n"
     ]
    },
    {
     "data": {
      "application/vnd.jupyter.widget-view+json": {
       "model_id": "050dd3b300b4444397a010899010254e",
       "version_major": 2,
       "version_minor": 0
      },
      "text/plain": [
       "Running Simulation :   0%|          | 0/200 [00:00<?, ?it/s]"
      ]
     },
     "metadata": {},
     "output_type": "display_data"
    },
    {
     "name": "stdout",
     "output_type": "stream",
     "text": [
      "Target:1\n",
      "Final Target Drain Current: [8.361302833032273e-09, 1.7455520489567101e-06]\n",
      "Target: 1.0\n",
      "Accuracy: 1\n",
      "LimVal1:5e-06\n",
      "LimVal0:5e-06\n",
      "\n",
      "Drain 2 Only\n"
     ]
    },
    {
     "data": {
      "application/vnd.jupyter.widget-view+json": {
       "model_id": "d2a74d54220548ad9f4f73143c48b04e",
       "version_major": 2,
       "version_minor": 0
      },
      "text/plain": [
       "Running Simulation :   0%|          | 0/200 [00:00<?, ?it/s]"
      ]
     },
     "metadata": {},
     "output_type": "display_data"
    },
    {
     "name": "stdout",
     "output_type": "stream",
     "text": [
      "Target:1\n",
      "Final Target Drain Current: [5.236829126830462e-06]\n",
      "LimVal1:5e-06\n",
      "LimVal0:5e-06\n",
      "\n",
      "Drain 1 Only\n"
     ]
    },
    {
     "data": {
      "application/vnd.jupyter.widget-view+json": {
       "model_id": "89f9d2c66f8e47c5b9de61a8333ce699",
       "version_major": 2,
       "version_minor": 0
      },
      "text/plain": [
       "Running Simulation :   0%|          | 0/200 [00:00<?, ?it/s]"
      ]
     },
     "metadata": {},
     "output_type": "display_data"
    },
    {
     "name": "stdout",
     "output_type": "stream",
     "text": [
      "Target:0\n",
      "Final Target Drain Current: [5.291948937441676e-06]\n",
      "LimVal1:5e-06\n",
      "LimVal0:5e-06\n",
      "\n",
      "Both Drains\n"
     ]
    },
    {
     "data": {
      "application/vnd.jupyter.widget-view+json": {
       "model_id": "9e15184b2ecf4864b28edebcfc5527ff",
       "version_major": 2,
       "version_minor": 0
      },
      "text/plain": [
       "Running Simulation :   0%|          | 0/200 [00:00<?, ?it/s]"
      ]
     },
     "metadata": {},
     "output_type": "display_data"
    },
    {
     "name": "stdout",
     "output_type": "stream",
     "text": [
      "Target:1\n",
      "Final Target Drain Current: [8.626965686018982e-09, 1.750030844741524e-06]\n",
      "Target: 1.0\n",
      "Accuracy: 1\n",
      "LimVal1:5e-06\n",
      "LimVal0:5e-06\n",
      "\n",
      "Drain 1 Only\n"
     ]
    },
    {
     "data": {
      "application/vnd.jupyter.widget-view+json": {
       "model_id": "957b12eec39a4a31967f5f5941d0f79b",
       "version_major": 2,
       "version_minor": 0
      },
      "text/plain": [
       "Running Simulation :   0%|          | 0/200 [00:00<?, ?it/s]"
      ]
     },
     "metadata": {},
     "output_type": "display_data"
    },
    {
     "name": "stdout",
     "output_type": "stream",
     "text": [
      "Target:0\n",
      "Final Target Drain Current: [5.390595091437378e-06]\n",
      "LimVal1:5e-06\n",
      "LimVal0:5e-06\n",
      "\n",
      "Drain 2 Only\n"
     ]
    },
    {
     "data": {
      "application/vnd.jupyter.widget-view+json": {
       "model_id": "6b3218df1cb44dc78b0cf5d309860f11",
       "version_major": 2,
       "version_minor": 0
      },
      "text/plain": [
       "Running Simulation :   0%|          | 0/200 [00:00<?, ?it/s]"
      ]
     },
     "metadata": {},
     "output_type": "display_data"
    },
    {
     "name": "stdout",
     "output_type": "stream",
     "text": [
      "Target:1\n",
      "Final Target Drain Current: [5.0421459699252155e-06]\n",
      "LimVal1:5e-06\n",
      "LimVal0:5e-06\n",
      "\n",
      "Both Drains\n"
     ]
    },
    {
     "data": {
      "application/vnd.jupyter.widget-view+json": {
       "model_id": "5a26eba702c140ca93129b15ba4898a2",
       "version_major": 2,
       "version_minor": 0
      },
      "text/plain": [
       "Running Simulation :   0%|          | 0/200 [00:00<?, ?it/s]"
      ]
     },
     "metadata": {},
     "output_type": "display_data"
    },
    {
     "name": "stdout",
     "output_type": "stream",
     "text": [
      "Target:0\n",
      "Final Target Drain Current: [1.2335572278112165e-06, 7.835345199750095e-09]\n",
      "Target: 0.0\n",
      "Accuracy: 1\n",
      "LimVal1:5e-06\n",
      "LimVal0:5e-06\n",
      "\n",
      "Drain 2 Only\n"
     ]
    },
    {
     "data": {
      "application/vnd.jupyter.widget-view+json": {
       "model_id": "a0349bd71a994f4ba735074210da6c44",
       "version_major": 2,
       "version_minor": 0
      },
      "text/plain": [
       "Running Simulation :   0%|          | 0/200 [00:00<?, ?it/s]"
      ]
     },
     "metadata": {},
     "output_type": "display_data"
    },
    {
     "name": "stdout",
     "output_type": "stream",
     "text": [
      "Target:1\n",
      "Final Target Drain Current: [5.361481366285138e-06]\n",
      "LimVal1:5e-06\n",
      "LimVal0:5e-06\n",
      "\n",
      "Drain 1 Only\n"
     ]
    },
    {
     "data": {
      "application/vnd.jupyter.widget-view+json": {
       "model_id": "bf0e3e3326e94e078e6094a1a8dbcc30",
       "version_major": 2,
       "version_minor": 0
      },
      "text/plain": [
       "Running Simulation :   0%|          | 0/200 [00:00<?, ?it/s]"
      ]
     },
     "metadata": {},
     "output_type": "display_data"
    },
    {
     "name": "stdout",
     "output_type": "stream",
     "text": [
      "Target:0\n",
      "Final Target Drain Current: [5.36211931844373e-06]\n",
      "LimVal1:5e-06\n",
      "LimVal0:5e-06\n",
      "\n",
      "Both Drains\n"
     ]
    },
    {
     "data": {
      "application/vnd.jupyter.widget-view+json": {
       "model_id": "574d7789ee6b46ab83916c6edd1ba0e2",
       "version_major": 2,
       "version_minor": 0
      },
      "text/plain": [
       "Running Simulation :   0%|          | 0/200 [00:00<?, ?it/s]"
      ]
     },
     "metadata": {},
     "output_type": "display_data"
    },
    {
     "name": "stdout",
     "output_type": "stream",
     "text": [
      "Target:1\n",
      "Final Target Drain Current: [8.748850604792913e-09, 1.7459275823054265e-06]\n",
      "Target: 1.0\n",
      "Accuracy: 1\n",
      "LimVal1:5e-06\n",
      "LimVal0:5e-06\n",
      "\n",
      "Drain 1 Only\n"
     ]
    },
    {
     "data": {
      "application/vnd.jupyter.widget-view+json": {
       "model_id": "8f592356545e4bffa0459378759e0251",
       "version_major": 2,
       "version_minor": 0
      },
      "text/plain": [
       "Running Simulation :   0%|          | 0/200 [00:00<?, ?it/s]"
      ]
     },
     "metadata": {},
     "output_type": "display_data"
    },
    {
     "name": "stdout",
     "output_type": "stream",
     "text": [
      "Target:0\n",
      "Final Target Drain Current: [5.033416273891164e-06]\n",
      "LimVal1:5e-06\n",
      "LimVal0:5e-06\n",
      "\n",
      "Drain 2 Only\n"
     ]
    },
    {
     "data": {
      "application/vnd.jupyter.widget-view+json": {
       "model_id": "7e06a9b916624e5384e55f7627644fe7",
       "version_major": 2,
       "version_minor": 0
      },
      "text/plain": [
       "Running Simulation :   0%|          | 0/200 [00:00<?, ?it/s]"
      ]
     },
     "metadata": {},
     "output_type": "display_data"
    },
    {
     "name": "stdout",
     "output_type": "stream",
     "text": [
      "Target:1\n",
      "Final Target Drain Current: [5.030175644986262e-06]\n",
      "LimVal1:5e-06\n",
      "LimVal0:5e-06\n",
      "\n",
      "Both Drains\n"
     ]
    },
    {
     "data": {
      "application/vnd.jupyter.widget-view+json": {
       "model_id": "3fdb5a1dd30943e3aa1060f54faf78ed",
       "version_major": 2,
       "version_minor": 0
      },
      "text/plain": [
       "Running Simulation :   0%|          | 0/200 [00:00<?, ?it/s]"
      ]
     },
     "metadata": {},
     "output_type": "display_data"
    },
    {
     "name": "stdout",
     "output_type": "stream",
     "text": [
      "Target:0\n",
      "Final Target Drain Current: [1.2195639404218584e-06, 7.560066874711384e-09]\n",
      "Target: 0.0\n",
      "Accuracy: 1\n",
      "LimVal1:5e-06\n",
      "LimVal0:5e-06\n",
      "\n",
      "Drain 2 Only\n"
     ]
    },
    {
     "data": {
      "application/vnd.jupyter.widget-view+json": {
       "model_id": "83cd06c65d39411b858438c58f2d359e",
       "version_major": 2,
       "version_minor": 0
      },
      "text/plain": [
       "Running Simulation :   0%|          | 0/200 [00:00<?, ?it/s]"
      ]
     },
     "metadata": {},
     "output_type": "display_data"
    },
    {
     "name": "stdout",
     "output_type": "stream",
     "text": [
      "Target:1\n",
      "Final Target Drain Current: [5.349558705865841e-06]\n",
      "LimVal1:5e-06\n",
      "LimVal0:5e-06\n",
      "\n",
      "Drain 1 Only\n"
     ]
    },
    {
     "data": {
      "application/vnd.jupyter.widget-view+json": {
       "model_id": "9c147107e1d942b2a968dcdbb4933c87",
       "version_major": 2,
       "version_minor": 0
      },
      "text/plain": [
       "Running Simulation :   0%|          | 0/200 [00:00<?, ?it/s]"
      ]
     },
     "metadata": {},
     "output_type": "display_data"
    },
    {
     "name": "stdout",
     "output_type": "stream",
     "text": [
      "Target:0\n",
      "Final Target Drain Current: [5.3612515574536736e-06]\n",
      "LimVal1:5e-06\n",
      "LimVal0:5e-06\n",
      "\n",
      "Both Drains\n"
     ]
    },
    {
     "data": {
      "application/vnd.jupyter.widget-view+json": {
       "model_id": "0d9418c0577842c88606659527b5de6e",
       "version_major": 2,
       "version_minor": 0
      },
      "text/plain": [
       "Running Simulation :   0%|          | 0/200 [00:00<?, ?it/s]"
      ]
     },
     "metadata": {},
     "output_type": "display_data"
    },
    {
     "name": "stdout",
     "output_type": "stream",
     "text": [
      "Target:1\n",
      "Final Target Drain Current: [8.573447902573804e-09, 1.746318702858569e-06]\n",
      "Target: 1.0\n",
      "Accuracy: 1\n",
      "LimVal1:5e-06\n",
      "LimVal0:5e-06\n",
      "\n",
      "Drain 2 Only\n"
     ]
    },
    {
     "data": {
      "application/vnd.jupyter.widget-view+json": {
       "model_id": "07eb4cfbdb5b4802916daf86c74c7a58",
       "version_major": 2,
       "version_minor": 0
      },
      "text/plain": [
       "Running Simulation :   0%|          | 0/200 [00:00<?, ?it/s]"
      ]
     },
     "metadata": {},
     "output_type": "display_data"
    },
    {
     "name": "stdout",
     "output_type": "stream",
     "text": [
      "Target:1\n",
      "Final Target Drain Current: [5.239302668326586e-06]\n",
      "LimVal1:5e-06\n",
      "LimVal0:5e-06\n",
      "\n",
      "Drain 1 Only\n"
     ]
    },
    {
     "data": {
      "application/vnd.jupyter.widget-view+json": {
       "model_id": "79cddc0f4fef4cbba72ce483a122c99e",
       "version_major": 2,
       "version_minor": 0
      },
      "text/plain": [
       "Running Simulation :   0%|          | 0/200 [00:00<?, ?it/s]"
      ]
     },
     "metadata": {},
     "output_type": "display_data"
    },
    {
     "name": "stdout",
     "output_type": "stream",
     "text": [
      "Target:0\n",
      "Final Target Drain Current: [5.364704523302509e-06]\n",
      "LimVal1:5e-06\n",
      "LimVal0:5e-06\n",
      "\n",
      "Both Drains\n"
     ]
    },
    {
     "data": {
      "application/vnd.jupyter.widget-view+json": {
       "model_id": "9e28228e329c45c5ae70e11fd6ac6847",
       "version_major": 2,
       "version_minor": 0
      },
      "text/plain": [
       "Running Simulation :   0%|          | 0/200 [00:00<?, ?it/s]"
      ]
     },
     "metadata": {},
     "output_type": "display_data"
    },
    {
     "name": "stdout",
     "output_type": "stream",
     "text": [
      "Target:1\n",
      "Final Target Drain Current: [8.752389582954482e-09, 1.7633778688938018e-06]\n",
      "Target: 1.0\n",
      "Accuracy: 1\n",
      "LimVal1:5e-06\n",
      "LimVal0:5e-06\n",
      "\n",
      "Drain 2 Only\n"
     ]
    },
    {
     "data": {
      "application/vnd.jupyter.widget-view+json": {
       "model_id": "40d7e2dc2e84460faa2f302db1bd4b4f",
       "version_major": 2,
       "version_minor": 0
      },
      "text/plain": [
       "Running Simulation :   0%|          | 0/200 [00:00<?, ?it/s]"
      ]
     },
     "metadata": {},
     "output_type": "display_data"
    },
    {
     "name": "stdout",
     "output_type": "stream",
     "text": [
      "Target:1\n",
      "Final Target Drain Current: [5.290639789610931e-06]\n",
      "LimVal1:5e-06\n",
      "LimVal0:5e-06\n",
      "\n",
      "Drain 1 Only\n"
     ]
    },
    {
     "data": {
      "application/vnd.jupyter.widget-view+json": {
       "model_id": "c7fc043d5d9a4967a80de6ae55f7a4a2",
       "version_major": 2,
       "version_minor": 0
      },
      "text/plain": [
       "Running Simulation :   0%|          | 0/200 [00:00<?, ?it/s]"
      ]
     },
     "metadata": {},
     "output_type": "display_data"
    },
    {
     "name": "stdout",
     "output_type": "stream",
     "text": [
      "Target:0\n",
      "Final Target Drain Current: [5.371157184037153e-06]\n",
      "LimVal1:5e-06\n",
      "LimVal0:5e-06\n",
      "\n",
      "Both Drains\n"
     ]
    },
    {
     "data": {
      "application/vnd.jupyter.widget-view+json": {
       "model_id": "0766ce20d3eb41568f5f6b4b1ad1bc8f",
       "version_major": 2,
       "version_minor": 0
      },
      "text/plain": [
       "Running Simulation :   0%|          | 0/200 [00:00<?, ?it/s]"
      ]
     },
     "metadata": {},
     "output_type": "display_data"
    },
    {
     "name": "stdout",
     "output_type": "stream",
     "text": [
      "Target:1\n",
      "Final Target Drain Current: [8.972494905712077e-09, 1.7932165280101217e-06]\n",
      "Target: 1.0\n",
      "Accuracy: 1\n",
      "LimVal1:5e-06\n",
      "LimVal0:5e-06\n",
      "\n",
      "Drain 2 Only\n"
     ]
    },
    {
     "data": {
      "application/vnd.jupyter.widget-view+json": {
       "model_id": "e818a12ef58f49059f58fa35bc6e89cd",
       "version_major": 2,
       "version_minor": 0
      },
      "text/plain": [
       "Running Simulation :   0%|          | 0/200 [00:00<?, ?it/s]"
      ]
     },
     "metadata": {},
     "output_type": "display_data"
    },
    {
     "name": "stdout",
     "output_type": "stream",
     "text": [
      "Target:1\n",
      "Final Target Drain Current: [5.380601745655008e-06]\n",
      "LimVal1:5e-06\n",
      "LimVal0:5e-06\n",
      "\n",
      "Drain 1 Only\n"
     ]
    },
    {
     "data": {
      "application/vnd.jupyter.widget-view+json": {
       "model_id": "9b2c4b5e536f406d85355be2b7be3e03",
       "version_major": 2,
       "version_minor": 0
      },
      "text/plain": [
       "Running Simulation :   0%|          | 0/200 [00:00<?, ?it/s]"
      ]
     },
     "metadata": {},
     "output_type": "display_data"
    },
    {
     "name": "stdout",
     "output_type": "stream",
     "text": [
      "Target:0\n",
      "Final Target Drain Current: [5.37885370914701e-06]\n",
      "LimVal1:5e-06\n",
      "LimVal0:5e-06\n",
      "\n",
      "Both Drains\n"
     ]
    },
    {
     "data": {
      "application/vnd.jupyter.widget-view+json": {
       "model_id": "98b35e18da2a476f8595246a8b591ee5",
       "version_major": 2,
       "version_minor": 0
      },
      "text/plain": [
       "Running Simulation :   0%|          | 0/200 [00:00<?, ?it/s]"
      ]
     },
     "metadata": {},
     "output_type": "display_data"
    }
   ],
   "source": [
    "## !/usr/bin/env python\n",
    "# coding: utf-8\n",
    "\n",
    "# In[ ]:\n",
    "\n",
    "\n",
    "\"\"\" \n",
    "\n",
    "\n",
    "Run Equilibrium Propagation / Backpropagation on Nanowire Networks for classification. \n",
    "\n",
    "Author: Alon Loeffler\n",
    "\n",
    "Required Files/Folders: learning_functions.py | edamame | asn_nw_00350_nj_01350_seed_1581_avl_10.00_disp_01.00_lx_50.00_ly_50.00.mat\n",
    "\n",
    "\"\"\"\n",
    "\n",
    "#IMPORTS:\n",
    "#Append path to Ruomin's Edamame Package (Nanowire Simulations)\n",
    "import sys\n",
    "import os\n",
    "\n",
    "sys.path.append('/import/silo2/aloe8475/Documents/edamame') #point to edamame locally\n",
    "sys.path.append('/import/silo2/aloe8475/Documents/CODE/Analysis/Training/Associative Learning/EquilProp') #point to edamame locally\n",
    "\n",
    "#Choose which nw:\n",
    "nwChoice=700 #350 or 700\n",
    "\n",
    "if nwChoice == 350:\n",
    "    fileName='/import/silo2/aloe8475/Documents/Data/Associative Learning/Sparse Networks/asn_nw_00350_nj_01350_seed_1581_avl_10.00_disp_01.00_lx_50.00_ly_50.00'\n",
    "elif nwChoice == 700:\n",
    "    fileName='/import/silo2/aloe8475/Documents/Data/Associative Learning/Sparse Networks/asn_nw_00698_nj_02582_seed_002_avl_10.00_disp_01.00_lx_75.00_ly_75.00'\n",
    "\n",
    "#point to network data path ^ \n",
    "\n",
    "saveFig='/import/silo2/aloe8475/Documents/Data/Figures/Equil Prop/' \n",
    "dataLoc='/import/silo2/aloe8475/Documents/Data/Associative Learning/EquilProp/'\n",
    "\n",
    "#import edamame (neuromorphic nanowire python package by Ruomin Zhu)\n",
    "from edamame import * \n",
    "import numpy as np\n",
    "import matplotlib.pyplot as plt\n",
    "import copy\n",
    "from scipy.io import loadmat, savemat\n",
    "import networkx as nx\n",
    "from tqdm.notebook import tqdm_notebook as tqdm\n",
    "from IPython.core.debugger import set_trace\n",
    "\n",
    "import pickle \n",
    "import _pickle as cPickle\n",
    "import gzip\n",
    "\n",
    "from learning_functions import genGridNW,point_on_line,dist,getWeightedGraph\n",
    "from learning_functions import calc_cost,setupStimulus,setupSourcesOnly,runTesting,getNWState,calcOutputs\n",
    "\n",
    "\" Create Inputs \"\n",
    "def createSimpleInputs(patternSize=3,numSamples=10,noise=False):\n",
    "    #SIMPLE ROW INPUTS:\n",
    "    np.random.seed(42)\n",
    "    \n",
    "    if patternSize==2:\n",
    "    #2x2 pattern:\n",
    "        orig_inputs=np.array((np.array([1,0,1,0]),np.array([0,1,0,1])))\n",
    "    elif patternSize==3:\n",
    "        #3x3 pattern:\n",
    "        #plus and cross:\n",
    "        orig_inputs=np.array((np.array([1,0,1,0,1,0,1,0,1]),np.array([0,1,0,1,1,1,0,1,0])))\n",
    "        #simpler patterns:\n",
    "#         orig_inputs=np.array((np.array([1,0,1,0,0,1,0,0,0]),np.array([0,0,0,1,0,0,1,0,1])))\n",
    "    orig_inputs=orig_inputs.astype('double')\n",
    "    samples=[[] for i in range(len(orig_inputs))]\n",
    "    new_inputs=np.array([orig_inputs]*numSamples)\n",
    "\n",
    "    #Pattern without Noise\n",
    "    NoNoiseInputs=[]\n",
    "    for targetClass in range(len(orig_inputs)):\n",
    "        NoNoiseInputs.append([int(i) for i in orig_inputs[targetClass]])\n",
    "#     set_trace()\n",
    "    #Make Noisy variants of simple patterns:\n",
    "    for i in range(len(orig_inputs)):\n",
    "        for j in range(numSamples):\n",
    "            randVals=np.random.randint(1,patternSize) #choose how many of the 3 sources will have noise\n",
    "            noiseVals=np.random.randint(patternSize, size=randVals)\n",
    "            temp=orig_inputs[i][orig_inputs[i]==1].astype('double')\n",
    "            if noise:\n",
    "                for val in noiseVals:\n",
    "                    temp[val]=np.double(np.random.random(1))\n",
    "            new_inputs[j][i][new_inputs[j][i]==1]=temp\n",
    "    #         samples[i].append(temp)\n",
    "    \n",
    "    #RESHAPE INPUTS INTO numSamplesx2\n",
    "    row1=[]\n",
    "    row2=[]\n",
    "    for i in range(len(new_inputs)):\n",
    "        row1.append(new_inputs[i][0])\n",
    "        row2.append(new_inputs[i][1])\n",
    "\n",
    "    inputs=np.array([row1,row2])\n",
    "    inputs=inputs.reshape(numSamples*2,orig_inputs.shape[1])\n",
    "    targets=np.zeros(numSamples*2)\n",
    "    targets[-numSamples:]=1\n",
    "\n",
    "    #change 0 volts to 0.05\n",
    "#     minVoltage=0.005\n",
    "#     inputs=inputs+minVoltage\n",
    "    \n",
    "    return inputs, targets,orig_inputs\n",
    "\n",
    "\" Load Networks \"\n",
    "def buildNetworks(fileName,ManualSources=True,numDrains=2,numSources=9):\n",
    "    #load data\n",
    "    nw=loadmat(fileName)\n",
    "    nwSize = nw['number_of_wires'][0][0]\n",
    "    nwJunctions=nw['number_of_junctions'][0][0]\n",
    "    print('Network '+str(nwSize)+ ' Loaded')\n",
    "#     this_seed=8639\n",
    "    Network=nw\n",
    "    connectivity=connectivity__(wires_dict=Network) \n",
    "\n",
    "    #fixing file structure from Matlab:\n",
    "    connectivity.avg_length=connectivity.avg_length[0][0]\n",
    "    connectivity.number_of_junctions=connectivity.number_of_junctions[0][0]\n",
    "    connectivity.centroid_dispersion=connectivity.centroid_dispersion[0][0]\n",
    "    connectivity.dispersion=connectivity.dispersion[0][0]\n",
    "    # connectivity.generating_number_of_wires=connectivity.generating_number_of_wires[0][0]\n",
    "    connectivity.gennorm_shape=connectivity.gennorm_shape[0][0]\n",
    "    connectivity.length_x=connectivity.length_x[0][0]\n",
    "    connectivity.length_y=connectivity.length_y[0][0]\n",
    "    connectivity.number_of_wires=connectivity.number_of_wires[0][0]\n",
    "    connectivity.numOfWires=connectivity.numOfWires[0][0]\n",
    "    connectivity.numOfJunctions=connectivity.numOfJunctions[0][0]\n",
    "    connectivity.theta=connectivity.theta[0][0]\n",
    "    connectivity.this_seed=connectivity.this_seed[0][0]\n",
    "    \n",
    "    #find x and y values of each end of each wire \n",
    "    xa=connectivity.xa[0]\n",
    "    xb=connectivity.xb[0]\n",
    "    ya=connectivity.ya[0]\n",
    "    yb=connectivity.yb[0]\n",
    "\n",
    "    #Pick Electrode placement/distance apart:\n",
    "    \n",
    "    #DRAINS\n",
    "    numDrains=3\n",
    "    ex=np.zeros(numDrains)*5#*15\n",
    "    if nwSize > 500:\n",
    "        eyVal=76\n",
    "    else:\n",
    "        eyVal= 51\n",
    "    ey=np.linspace(-1,eyVal,numDrains)#(-1,101,numDrains)\n",
    "\n",
    "    elecDrain=genGridNW(xa,xb,ya,yb,ex,ey) #generate drain locations in ex, ey coordinates\n",
    "\n",
    "\n",
    "    #IN A LINE:\n",
    "    if nwSize > 500:\n",
    "        exVal=75\n",
    "        eyVal = 74\n",
    "    else:\n",
    "        exVal=50\n",
    "        eyVal=49\n",
    "    ex=np.ones(numSources)*exVal#50\n",
    "    ey=np.linspace(-2,eyVal,numSources)#(-2,99,numSources)\n",
    "    \n",
    "    #IN A 3X3 GRID:\n",
    "    # middleNWx=int(connectivity.length_x/2)+1\n",
    "    # middleNWy=int(connectivity.length_y/2)-1\n",
    "    # distBwElecs=10\n",
    "    # ex=[middleNWx-distBwElecs,middleNWx-distBwElecs,middleNWx-distBwElecs,middleNWx,middleNWx,middleNWx,middleNWx+distBwElecs,middleNWx+distBwElecs,middleNWx+distBwElecs]\n",
    "    # ey=[middleNWy-distBwElecs,middleNWy,middleNWy+distBwElecs]*3\n",
    "\n",
    "    elecSource=genGridNW(xa,xb,ya,yb,ex,ey) #generate source locations in ex, ey coordinates\n",
    "\n",
    "\n",
    "    #Manual Source Placement:\n",
    "    if ManualSources:\n",
    "        if numSources==9:\n",
    "            if nwSize > 500:\n",
    "                elecSource=[678, 260, 491, 173, 628, 424, 301, 236, 483] #700nws\n",
    "            else:\n",
    "                elecSource=[23,320,194,74, 145, 317, 129, 34, 141] #350 nws\n",
    "\n",
    "        elif numSources == 4:\n",
    "            elecSource=[320,42,161,141]\n",
    "\n",
    "    elecDrain=elecDrain[[0,-1]]\n",
    "    \n",
    "    return connectivity,elecSource,elecDrain,nwSize,nwJunctions\n",
    "\n",
    "\n",
    "#ADD BACKPROP\n",
    "\n",
    "#This function runs each training epoch and saves the network state at the last timestep of that epoch   \n",
    "def getNWState_backprop(training_stimulus,train,state,drains,sources,tmpTiming,tmpTargets,limVal,limVal0,limVal1,run_time=2,dt=0.01,disable_tqdm=False):\n",
    "    if train:\n",
    "        #remove non-target drain from simulation\n",
    "        target = tmpTargets[0]\n",
    "        if target == 0:\n",
    "            drains = drains[0]\n",
    "            print('\\nDrain 1 Only')\n",
    "        elif target == 1:\n",
    "            drains = drains[1]\n",
    "            print('\\nDrain 2 Only')\n",
    "    else:\n",
    "        print('\\nBoth Drains')\n",
    "    eles = np.append(drains, sources) #all drains\n",
    "    #     if len(eles) == num_drain_training + num_source_training:\n",
    "    training_sim,cost = runSim_backprop(connectivity, \n",
    "                                   stimulus = training_stimulus,\n",
    "                                   junctionMode = 'tunneling',\n",
    "                                   dt = dt, T = run_time, \n",
    "                                   contactMode = 'preSet',\n",
    "                                   electrodes = eles,\n",
    "                                   findFirst = False,\n",
    "                                   start_state = state,\n",
    "                                   disable_tqdm=disable_tqdm,\n",
    "                                   collapse=False,tmpTiming=tmpTiming,tmpTargets=tmpTargets,\n",
    "                                   limVal=limVal,limVal0=limVal0,limVal1=limVal1)  \n",
    "    JS1 = getJunctionState(training_sim, -1) #save state\n",
    "    #     else: \n",
    "    #         print('Bless you Joel :)')\n",
    "    return training_sim,JS1   \n",
    "\n",
    "#Combine drain voltage change with runSim:\n",
    "def runSim_backprop(Connectivity, \n",
    "                    junctionMode='binary', collapse=False,\n",
    "                    criticalFlux=0.1, maxFlux=1.5e-1,\n",
    "                    contactMode='farthest', electrodes=None,\n",
    "                    dt=1e-3, T=10, \n",
    "                    stimulus = None,\n",
    "                    biasType = 'DC',\n",
    "                    onTime=0, offTime=50000000,\n",
    "                    onAmp=1, offAmp=0.005,\n",
    "                    f = 1, customSignal = None,\n",
    "                    start_state = None,\n",
    "                    lite_mode = False, save_steps = 1,\n",
    "                    findFirst = True,\n",
    "                    disable_tqdm = False,\n",
    "                    freeze_wire = None, freeze_junction = None, \n",
    "                    freeze_TimeStamp = None,tmpTiming=[],tmpTargets=[],\n",
    "                    limVal=0.5,limVal0=0.5,limVal1=0.5):\n",
    "\n",
    "    \"\"\"\n",
    "    For the case of multi electrodes, stimulus should be in parameters.\n",
    "    See help(stimulus__) for how to generate stimulus__ objects.\n",
    "    \"\"\"\n",
    "\n",
    "    SimulationOptions = simulationOptions__(dt = dt, T = T,\n",
    "                                            connectivity = Connectivity, \n",
    "                                            contactMode = contactMode,\n",
    "                                            electrodes = electrodes)\n",
    "\n",
    "    if ((contactMode == 'preSet') and (len(electrodes) > 2)) or stimulus is not None:\n",
    "        from sys import exit\n",
    "        if stimulus == None:\n",
    "            logging.warning(f'Multiple electrodes detected. Please input stimulus in parameters!')\n",
    "            exit()\n",
    "        if len(stimulus) < len(SimulationOptions.electrodes):\n",
    "            diff = len(SimulationOptions.electrodes) - len(stimulus)\n",
    "            for _ in range(diff):\n",
    "                stimulus.append(stimulus__('Drain', T = T, dt = dt))\n",
    "\n",
    "        if len(stimulus) > len(SimulationOptions.electrodes):\n",
    "            logging.warning(f'More stimulus than electrodes. Current setup has {len(SimulationOptions.electrodes)} electrodes!')\n",
    "            exit()\n",
    "            \n",
    "        if len(stimulus[0].signal) < len(SimulationOptions.TimeVector):\n",
    "            logging.warning(f'Stimulus length not correct, current time vector has length {len(SimulationOptions.TimeVector)}!')\n",
    "            exit()\n",
    "        SimulationOptions.stimulus = stimulus\n",
    "            \n",
    "    elif contactMode == 'boundary':\n",
    "        SimulationOptions.stimulus[:int(len(SimulationOptions.electrodes)/2)] = [stimulus__(biasType = biasType, \n",
    "                                                                                        T = T, dt = dt,\n",
    "                                                                                        onTime = onTime, offTime = offTime,\n",
    "                                                                                        onAmp = onAmp, offAmp = offAmp,\n",
    "                                                                                        f = f, customSignal= customSignal)\n",
    "                                                                                        for i in range(int(len(SimulationOptions.electrodes)/2))]\n",
    "    else:\n",
    "        SimulationOptions.stimulus[0] = stimulus__(biasType = biasType, \n",
    "                                                T = T, dt = dt,\n",
    "                                                onTime = onTime, offTime = offTime,\n",
    "                                                onAmp = onAmp, offAmp = offAmp,\n",
    "                                                    f = f, customSignal= customSignal)\n",
    "    if start_state == None: \n",
    "        JunctionState = junctionState__(Connectivity.numOfJunctions, \n",
    "                                    mode = junctionMode, collapse = collapse, \n",
    "                                    criticalFlux=criticalFlux, maxFlux = maxFlux)\n",
    "    else:\n",
    "        from copy import deepcopy\n",
    "        JunctionState = deepcopy(start_state)\n",
    "    \n",
    "    kwdict = dict()\n",
    "    if (freeze_wire != None) or (freeze_junction != None):\n",
    "        kwdict = dict(freeze_wire = freeze_wire,\n",
    "                    freeze_junction = freeze_junction, \n",
    "                    freeze_TimeStamp = freeze_TimeStamp)\n",
    "        \n",
    "    this_realization,cost = simulateNetwork_backprop(SimulationOptions, Connectivity, JunctionState,tmpTiming,tmpTargets,limVal,limVal0,limVal1,lite_mode, disable_tqdm, save_steps, **kwdict)\n",
    "    \n",
    "#     finalIter=np.max(np.nonzero(this_realization.electrodeCurrent))\n",
    "#     if finalIter < 199:\n",
    "#         this_realization.electrodeCurrent=this_realization.electrodeCurrent[:finalIter+1,:]\n",
    "#         this_realization.junctionVoltage=this_realization.junctionVoltage[:finalIter+1,:]\n",
    "#         this_realization.junctionConductance=this_realization.junctionConductance[:finalIter+1,:]\n",
    "#         this_realization.wireVoltage=this_realization.wireVoltage[:finalIter+1,:]\n",
    "#         this_realization.filamentState=this_realization.filamentState[:finalIter+1,:]\n",
    "#         this_realization.junctionSwitch=this_realization.junctionSwitch[:finalIter+1,:]\n",
    "        #final Iter = time , use that to find / save network state\n",
    "        \n",
    "        \n",
    "#         this_realization.TimeVector=this_realization.TimeVector[:finalIter+1,:]\n",
    "\n",
    "    #     remove zeros from simulations that ended early:\n",
    "#     this_realization.junctionCurrent\n",
    "    \n",
    "    if findFirst:\n",
    "        from edamame.analysis.GraphTheory import findCurrent\n",
    "        try:\n",
    "            activation = findCurrent(this_realization, 1)\n",
    "            logging.info(f'First current path {activation[0][0]} formed at time = {activation[1][0]} s.')\n",
    "        except:\n",
    "            logging.info('Unfortunately, no current path is formed in simulation time.')\n",
    "\n",
    "    return this_realization,cost\n",
    "\n",
    "def simulateNetwork_backprop(simulationOptions, connectivity, junctionState,tmpTiming,tmpTargets, limVoltage,limVal0,limVal1,lite_mode = False, disable_tqdm = False, save_steps = 1, **kwargs):\n",
    "    niterations = simulationOptions.NumOfIterations\n",
    "    electrodes = simulationOptions.electrodes\n",
    "    numOfElectrodes = len(electrodes)\n",
    "    E = connectivity.numOfJunctions\n",
    "    V = connectivity.numOfWires\n",
    "    edgeList = connectivity.edge_list\n",
    "    cost      = []\n",
    "\n",
    "#     onAmp     = simulationOptions.stimulus[3].onAmp\n",
    "    \n",
    "#     maxV      = onAmp *limVoltage\n",
    "    \n",
    "    Network = network__()\n",
    "    sampling = np.arange(0, niterations, save_steps)\n",
    "    if lite_mode:\n",
    "        Network.connectivity = connectivity__(adjMat = connectivity.adj_matrix)\n",
    "        Network.filamentState = np.zeros((int(niterations/save_steps), E))\n",
    "        Network.wireVoltage = np.zeros((int(niterations/save_steps), V))\n",
    "        Network.electrodeCurrent = np.zeros((int(niterations/save_steps), numOfElectrodes))\n",
    "        Network.TimeVector = np.zeros(int(niterations/save_steps))\n",
    "    else:        \n",
    "        Network.connectivity = connectivity\n",
    "        Network.TimeVector = simulationOptions.TimeVector\n",
    "        Network.filamentState = np.zeros((niterations, E))\n",
    "        Network.junctionVoltage = np.zeros((niterations, E))\n",
    "        # Network.junctionResistance = np.zeros((niterations, E))\n",
    "        Network.junctionConductance = np.zeros((niterations, E))\n",
    "        Network.junctionSwitch = np.zeros((niterations, E), dtype = bool)\n",
    "        Network.wireVoltage = np.zeros((niterations, V))\n",
    "        Network.electrodeCurrent = np.zeros((niterations, numOfElectrodes))\n",
    "\n",
    "    Network.sources = []\n",
    "    Network.drains = []\n",
    "    for i in range(numOfElectrodes):\n",
    "        if np.mean(simulationOptions.stimulus[i].signal) != 0:\n",
    "            Network.sources.append(electrodes[i])\n",
    "        else:\n",
    "            Network.drains.append(electrodes[i])\n",
    "\n",
    "    if len(Network.drains) == 0:\n",
    "        Network.drains.append(electrodes[1])\n",
    "        \n",
    "    if 'freeze_wire' in kwargs:\n",
    "        freeze_wire = kwargs['freeze_wire']\n",
    "        freeze_TimeStamp = kwargs['freeze_TimeStamp']\n",
    "    else:\n",
    "        freeze_TimeStamp = niterations + 1\n",
    "    \n",
    "    #Simulation Run:\n",
    "#     new_time=0\n",
    "    stopTrain=False\n",
    "    for this_time in tqdm(range(niterations), desc='Running Simulation ', disable = disable_tqdm): #each time step\n",
    "#         print(stopTrain)\n",
    "        if not stopTrain:\n",
    "            this_stimulus = np.array([i.signal[this_time] for i in simulationOptions.stimulus])\n",
    "#         else:\n",
    "#             break\n",
    "        if tmpTiming[this_time]=='Train':\n",
    "#             print('--------')\n",
    "#             print('Training')\n",
    "#             print('--------\\n')\n",
    "            trainTime=True\n",
    "        elif tmpTiming[this_time]=='Test':\n",
    "#             print('--------')\n",
    "#             print('Testing')\n",
    "#             print('--------\\n') \n",
    "            trainTime=False\n",
    "\n",
    "        if trainTime and this_time > 0 and not stopTrain: #if we are training, change drain voltages, otherwise just use this_stimulus\n",
    "#             set_trace()\n",
    "            this_stimulus[:num_drain_training]=new_stimulus\n",
    "\n",
    "#             print('in training '+str(this_time))\n",
    "#         elif this_time > trainTime:\n",
    "\n",
    "        sol = simCore(connectivity, junctionState, this_stimulus, electrodes, simulationOptions.dt)\n",
    "\n",
    "        if this_time >= freeze_TimeStamp:\n",
    "            others = np.setdiff1d(range(V), freeze_wire)\n",
    "            wireVoltage[others] = sol[others]\n",
    "        else:\n",
    "            wireVoltage = sol[0:V]\n",
    "\n",
    "        if lite_mode:\n",
    "            if this_time%save_steps == 0:\n",
    "                Network.wireVoltage[this_time//save_steps,:] = wireVoltage\n",
    "                Network.electrodeCurrent[this_time//save_steps,:] = sol[V:]\n",
    "                Network.filamentState[this_time//save_steps,:] = junctionState.filamentState\n",
    "                Network.TimeVector[this_time//save_steps] = simulationOptions.TimeVector[this_time]\n",
    "        else:\n",
    "            Network.wireVoltage[this_time,:] = wireVoltage\n",
    "            Network.electrodeCurrent[this_time,:] = sol[V:]\n",
    "            Network.filamentState[this_time,:] = junctionState.filamentState\n",
    "            Network.junctionVoltage[this_time,:] = junctionState.voltage\n",
    "            Network.junctionConductance[this_time,:] = junctionState.conductance\n",
    "            Network.junctionSwitch[this_time,:] = junctionState.OnOrOff\n",
    "\n",
    "        ## BackProp Implementation\n",
    "        \n",
    "\n",
    "        if trainTime:\n",
    "#             set_trace()\n",
    "            n = num_drain_training #num of drains\n",
    "            y = Network.electrodeCurrent[this_time,:num_drain_training]\n",
    "        else:\n",
    "            n = num_drain_testing\n",
    "            y = Network.electrodeCurrent[this_time,:num_drain_testing]\n",
    "            \n",
    "        beta      = 0.05\n",
    "        grad      = np.zeros((n)) #set gradients to zero for each epoch  \n",
    "\n",
    "        \n",
    "        drainCurrents=y\n",
    "        if tmpTargets[this_time] != -1: #skip rest values\n",
    "            tarIdx=tmpTargets[this_time]\n",
    "            y = y/(maxCurrent[tarIdx]) # normalize  | | | how do we change max current to be not arbitrary? \n",
    "        # current method - run simulation before with just that drain and use current as maxCurrent\n",
    "\n",
    "            # change to threshold \n",
    "            d = 1 #allTargets[tarIdx]\n",
    "            if trainTime:\n",
    "                dsig = this_stimulus[:num_drain_training]\n",
    "            else:\n",
    "                dsig = this_stimulus[:num_drain_testing]\n",
    "\n",
    "            #fixed max voltage\n",
    "            # compare y with threshold - if y is >= thresh, stop the training\n",
    "#             set_trace()\n",
    "\n",
    "            #vectorised implementation\n",
    "\n",
    "            cost.append(calc_cost(y,d))\n",
    "\n",
    "            if trainTime and not stopTrain: #if we are training, update beta\n",
    "                #Gradient without considering other electrodes:\n",
    "                if tarIdx==0:\n",
    "                    if drainCurrents[0]>=limVal0: #if greater or less than the target current, stop the simulation\n",
    "                        this_stimulus=np.zeros(len(this_stimulus))\n",
    "                        stopTrain=True\n",
    "                    else:\n",
    "                        stopTrain=False\n",
    "                        #instead of ending session, make everything 0V (inputs + drains)\n",
    "                        #make sure this doesn't last longer than filament decay length\n",
    "                elif tarIdx==1:\n",
    "#                     set_trace()\n",
    "                    if drainCurrents[0]>=limVal1: #if greater or less than the target current, stop simulation\n",
    "                        this_stimulus=np.zeros(len(this_stimulus))\n",
    "                        stopTrain=True\n",
    "                    else:\n",
    "                        stopTrain=False\n",
    "                \n",
    "                if not stopTrain:        \n",
    "                    grad=beta*(y-d) #y = current, d = target #e.g. [y1 vs (d1 = 1), y2 vs (d2 = 0), y3vs (d3 = 0)]\n",
    "\n",
    "                    #dsig = old voltage drains, dsig2 = new voltage drains, onAmp = input voltage\n",
    "\n",
    "                    dsig2=np.array(dsig.T+grad)\n",
    "    #                     dsig2[0]=np.clip(dsig2[0],0,limVal0)\n",
    "    #                     dsig2[1]=np.clip(dsig2[1],0,limVal1)\n",
    "\n",
    "                    dsig2=np.clip(dsig2,-onAmp*0.9,onAmp*0.9) #set max and min voltages to less than inputs\n",
    "#                     set_trace()\n",
    "                    new_stimulus=dsig2\n",
    "\n",
    "            elif not trainTime:\n",
    "                new_stimulus=this_stimulus[:num_drain_testing]\n",
    "\n",
    "    print('Target:' + str(tarIdx))\n",
    "#     print('Voltage: '+ str(new_stimulus))\n",
    "    \n",
    "    Network.numOfWires = V\n",
    "    Network.numOfJunctions = E\n",
    "    Network.electrodes = simulationOptions.electrodes\n",
    "    if len(electrodes) <= 2:\n",
    "        Network.conductance = Network.electrodeCurrent[:,1]/simulationOptions.stimulus[0].signal[sampling]\n",
    "    if not lite_mode:\n",
    "        Network.stimulus = [simulationOptions.stimulus[i] for i in range(numOfElectrodes)]\n",
    "        Network.junctionResistance = 1/Network.junctionConductance\n",
    "    \n",
    "#     print(Network.electrodeCurrent[:,1])\n",
    "    return Network,cost\n",
    "\n",
    "\n",
    "\n",
    "def runNBACK(onAmp,onAmpTest,dt,Tlen,timesteps,numDT,restDur,nbacks=[],maxCurrent=[1e-5,1e-5],limVal=0.5,accThresh=0.5,increaseVal=0.5,decreaseVal=0.25,seed=42,accThreshold=False):\n",
    "    \"\"\"\n",
    "    n-back task:\n",
    "    input sample 1 with backprop, then sample 2 with backprop, then sample 1 again with reset drain voltages \n",
    "    n back here = 1, showing memory\n",
    "    \n",
    "    train sample x, test sample x + nback (e.g. nback = 2, sample = [s1 train,s2,s3,s1 test] )\n",
    "\n",
    "    increase n-back: \n",
    "    sample 1 with backprop, sample 2, sample 3... test sample 1 - n=2\n",
    "    \n",
    "    Things to test:\n",
    "    - if we increase input frequency (dt), do we see greater long term memory? (higher n-backs)\n",
    "    - if we decrease frequency, do we see greater short term memory? (lower n-backs)\n",
    "\n",
    "    \"\"\"  \n",
    "    \n",
    "    t           = [[None]*(40*(nbacks[0]+1)+1) for i in range(len(nbacks))]\n",
    "    simVoltages = []\n",
    "    saveStim    = []\n",
    "    count=0\n",
    "    for nback in nbacks: #how many samples to \"remember\" in the past before testing\n",
    "        np.random.seed(seed)\n",
    "        \n",
    "        numTestingSamples= 40 #how many testing samples\n",
    "        \n",
    "        #trainingInputs (actual input)\n",
    "        #traininglables (0 or 1)\n",
    "        c1samples=list(np.where(traininglabels==0)[0]) #all class 1 inputs\n",
    "        c2samples=list(np.where(traininglabels==1)[0]) #all class 2 inputs\n",
    "\n",
    "        #hardest memory order:\n",
    "        orderTraining=[]\n",
    "        for test in range(numTestingSamples):\n",
    "            trainingSample1=np.random.randint(2)\n",
    "            if trainingSample1==0:\n",
    "                trainingSample1=np.random.choice(c1samples,1,replace=False)\n",
    "                c1samples.pop(np.where(c1samples==trainingSample1[0])[0][0])\n",
    "                trainingSampleRest=np.random.choice(c2samples,nback-1,replace=False)\n",
    "                for j in trainingSampleRest:\n",
    "                    c2samples.pop(np.where(c2samples==j)[0][0])\n",
    "            elif trainingSample1==1:\n",
    "                trainingSample1=np.random.choice(c2samples,1,replace=False)\n",
    "                c2samples.pop(np.where(c2samples==trainingSample1[0])[0][0])\n",
    "                trainingSampleRest=np.random.choice(c1samples,nback-1,replace=False)\n",
    "                for j in trainingSampleRest:\n",
    "                    c1samples.pop(np.where(c1samples==j)[0][0])    \n",
    "            orderTraining.append(np.hstack((np.array(trainingSample1),np.array(trainingSampleRest))))\n",
    "        orderTraining=np.hstack(orderTraining)\n",
    "\n",
    "        orderTrainingLabels=traininglabels[orderTraining]\n",
    "#         set_trace()\n",
    "        orderTrainingLabelsNBACK=orderTrainingLabels[::nback] #these are the testing labels - every i+nback training sample is what we're testing\n",
    "        orderTesting=[]\n",
    "        for label in orderTrainingLabelsNBACK: #for each training label in the random order:\n",
    "            orderTesting.append(np.random.choice(np.where(testinglabels==label)[0],replace=False))\n",
    "        orderTestingLabels=testinglabels[orderTesting]    \n",
    "        orderTestingNBACK=np.array(orderTesting)+np.max(c2samples) #number of test per nback#       \n",
    "\n",
    "#          #choose how many samples between testing samples:\n",
    "        i = nback\n",
    "#         set_trace()\n",
    "        temp=[]\n",
    "        j=0\n",
    "        order=[None]*(len(orderTraining))\n",
    "        order[:len(orderTraining)]=orderTraining\n",
    "        while j<numTestingSamples: #for each testing sample \n",
    "            if i < len(order): #only if we are within the total number of training samples\n",
    "                order.insert(i, orderTesting[j]+np.max(c2samples)) #insert testing sample at ith position\n",
    "            temp.append(i) #keep track number of inserts we made, make sure it == numTestingSamples\n",
    "            i += nback+1\n",
    "            j +=1\n",
    "        \n",
    "        #remove excess training (i.e. with no testing sample)\n",
    "        sampleTimes=numDT*(nback+1)\n",
    "        newTrainingOrder=orderTraining[:sampleTimes-numTestingSamples]\n",
    "        orderTrainingLabels=orderTrainingLabels[:sampleTimes-numTestingSamples]\n",
    "        order=order[:sampleTimes]\n",
    "        \n",
    "        \n",
    "#         print(order)\n",
    "#         print(len(order))\n",
    "        #RUN SIM\n",
    "        N                   = orig_inputs.shape[1]\n",
    "        numClasses          = 2\n",
    "        signalType          ='DC'\n",
    "#         num_drain_training  = 2\n",
    "        num_source_training = N\n",
    "        tmpSources          = [[] for i in range(len(order))]\n",
    "        tmpTargets          = [None]*len(order)\n",
    "        sim                 = [None]*len(order)\n",
    "        thresholdValues     = [None]*len(order)\n",
    "        cost                = [None]*len(order)\n",
    "        simVoltages         = [None]*len(order)\n",
    "        accuracy    = []\n",
    "        numTrainingSamples  = len(trainingInputs)\n",
    "        numTestingSamples   = len(testingInputs)\n",
    "        \n",
    "        timing=[]\n",
    "        allLabels=[]\n",
    "        limVals0 = limVal\n",
    "        limVals1 = limVal\n",
    "        \n",
    "        i=0\n",
    "        numTests = 0\n",
    "        nwState = None\n",
    "        for val in tqdm(order): #this method loops through samples in the randomised training order\n",
    "            \n",
    "            #FOR EACH SAMPLE:\n",
    "            \n",
    "            #are we training or testing?\n",
    "            if val in orderTestingNBACK:\n",
    "                test=True\n",
    "                train=False\n",
    "            elif val in orderTraining:\n",
    "                test=False\n",
    "                train=True\n",
    "                \n",
    "            #define samples\n",
    "            if train: #if we're training\n",
    "                this_sample = trainingInputs[val].copy() #xs\n",
    "                this_label  = traininglabels[val] #ys\n",
    "                this_sample[this_sample>0.005]=this_sample[this_sample>0.005]*onAmp #tune voltage based on onAmp\n",
    "                timing.append('Train')\n",
    "\n",
    "            elif test: #if we're testing\n",
    "                this_sample = testingInputs[val-np.max(c2samples)].copy() #xs\n",
    "                this_label  = testinglabels[val-np.max(c2samples)] #ys\n",
    "                this_sample[this_sample>0.005]=this_sample[this_sample>0.005]*onAmpTest #CHANGE THIS TO RAMP:\n",
    "                timing.append('Test')\n",
    "\n",
    "#             targetClassVals=[0,1] \n",
    "\n",
    "            targetTmp = signal_expand(this_label,numDT) #number of timesteps per target\n",
    "            timing[i] = signal_expand(timing[i],numDT)\n",
    "        #     #array of nans:\n",
    "            tmpArray=np.empty(restDur)\n",
    "            tmpArray[:]=-1\n",
    "            targetTmp = np.append(targetTmp,tmpArray) #add rest #need to remove targets from rest\n",
    "            tmpTargets[i]=targetTmp \n",
    "            rampV=np.linspace(0,onAmpTest,numDT)\n",
    "            for j in range(len(this_sample)): #for each source electrode\n",
    "                tmp = signal_expand(this_sample[j],numDT)\n",
    "#                 if test:\n",
    "#                     tmp = rampV#*tmp[tmp>0.005]\n",
    "                tmp = np.append(tmp,np.zeros(restDur)) #add rest\n",
    "                tmpSources[i].append(tmp)\n",
    "            allLabels.append(this_label)\n",
    "            \n",
    "            stimulus=[]\n",
    "            if train:\n",
    "                stimulus.append(stimulus__(biasType='Drain',T=dt*len(tmpSources[i][0]),dt=dt))\n",
    "\n",
    "            elif test:\n",
    "                for m in range(num_drain_testing): #create stimulus for each drain electrode\n",
    "#                     set_tra\n",
    "                    stimulus.append(stimulus__(biasType='Drain',T=dt*len(tmpSources[i][m]),dt=dt))\n",
    "\n",
    "            for m in range(len(tmpSources[i])): #create stimulus for each source electrode\n",
    "                stimulus.append(stimulus__(biasType='Custom',T=dt*len(tmpSources[i][m]),dt=dt,customSignal=tmpSources[i][m]))\n",
    "            \n",
    "            signalLen=Tlen#len(stimulus[0].signal) \n",
    "            \n",
    "            sim[i],nwState = getNWState_backprop(stimulus,train,nwState,drain_pool,sources,timing[i],tmpTargets[i].astype('int'),limVal,limVals0,limVals1,run_time=int(signalLen*dt),dt=dt,disable_tqdm=False)\n",
    "\n",
    "            simVoltages[i]=(sim[i].wireVoltage)\n",
    "#             set_trace()\n",
    "        \n",
    "            if test: #if we are testing\n",
    "                #ADRIAN ACCURACY METHOD\n",
    "#                 set_trace()\n",
    "                t[count][i]=(calcOutputs(sim[i],sources,drain_pool))\n",
    "                meanCurr0=(np.mean(t[count][i][0]))\n",
    "                meanCurr1=(np.mean(t[count][i][1]))\n",
    "#                 set_trace()\n",
    "                if tmpTargets[i][0] == 0:\n",
    "                    if meanCurr0>meanCurr1:\n",
    "                        accuracy.append(1)\n",
    "                    else:\n",
    "                        accuracy.append(0)\n",
    "                else:\n",
    "                    if meanCurr1>meanCurr0:\n",
    "                        accuracy.append(1)\n",
    "                    else:\n",
    "                        accuracy.append(0)\n",
    "                        \n",
    "                if i >0:\n",
    "                    if accuracy[numTests]==0: #if the training didn't work\n",
    "                        if this_label==0: #drain 1\n",
    "                            limVals0=limVals0+increaseVal #update 'max current limit based on reinforcement'\n",
    "                            limVals1=limVals1-decreaseVal\n",
    "                        elif this_label==1: #drain 2\n",
    "                            limVals0=limVals0-decreaseVal\n",
    "                            limVals1=limVals1+increaseVal   \n",
    "#                     \n",
    "                mval1=np.max(np.nonzero(t[count][i][0]))\n",
    "                mval2=np.max(np.nonzero(t[count][i][1]))\n",
    "                print('Final Target Drain Current: ' + str([t[count][i][0][mval1],t[count][i][1][mval2]]))\n",
    "                print('Target: ' + str(tmpTargets[i][0]))\n",
    "                print('Accuracy: '+ str(accuracy[numTests]))\n",
    "                numTests+=1\n",
    "            else:\n",
    "#                 set_trace()\n",
    "                t[count][i]=(calcOutputs(sim[i],sources,[drain_pool[int(tmpTargets[i][0])]]))\n",
    "                mval1=np.max(np.nonzero(t[count][i][0]))\n",
    "                print('Final Target Drain Current: ' + str([t[count][i][0][mval1]]))\n",
    "#             mval2=np.max(np.nonzero(t[count][i][1]))\n",
    "            \n",
    "#             print('All Currents: ' + str([t[count][i][0],t[count][i][1]]))\n",
    "\n",
    "            print(\"LimVal1:\" + str(limVals1)) #just a checking/debugging print\n",
    "            print(\"LimVal0:\" + str(limVals0)) #just a checking/debugging print\n",
    "\n",
    "            thresholdValues[i]=[limVals0,limVals1]\n",
    "            i+=1 \n",
    "        \n",
    "        count+=1\n",
    "    return t,thresholdValues,sim,stimulus,accuracy,tmpTargets,newTrainingOrder,orderTesting,order,orderTestingLabels,testTimes,trainTimes,numTestingSamples,allLabels,orderTrainingLabels\n",
    "\n",
    "def trainTestSplit(inputs,targets,targetClassVals=[0,1],numTestingPerClass=3,orig_inputs=[]):\n",
    "    trainingInputs  = np.array([inputs[targets==targetClassVals[0]][:-numTestingPerClass],inputs[targets==targetClassVals[1]][:-numTestingPerClass]]).reshape(-1,orig_inputs.shape[1])\n",
    "    testingInputs   = np.array([inputs[targets==targetClassVals[0]][-numTestingPerClass:],inputs[targets==targetClassVals[1]][-numTestingPerClass:]]).reshape(-1,orig_inputs.shape[1])\n",
    "    #Define Training and Testing labels\n",
    "    traininglabels=np.zeros(len(trainingInputs))\n",
    "    traininglabels[:int(len(trainingInputs)/2)]=0\n",
    "    traininglabels[int(len(trainingInputs)/2):int(len(trainingInputs)/2)*2]=1\n",
    "    # traininglabels[int(len(trainingInputs)/3)*2:]=2\n",
    "    traininglabels=traininglabels.astype(int)\n",
    "\n",
    "    testinglabels=np.zeros(len(testingInputs))\n",
    "    testinglabels[:int(len(testingInputs)/2)]=0\n",
    "    testinglabels[int(len(testingInputs)/2):int(len(testingInputs)/2)*2]=1\n",
    "    # testinglabels[int(len(testingInputs)/3)*2:]=2\n",
    "    testinglabels=testinglabels.astype(int)\n",
    "    \n",
    "    return trainingInputs,testingInputs,traininglabels,testinglabels\n",
    "\n",
    "\n",
    "#TASK SETUP\n",
    "\n",
    "#Automatically chosen electrodes vs manual picked\n",
    "ManualSources=True\n",
    "#Number of training samples\n",
    "nbacks         = [2]#range(1,5)\n",
    "numSamples=(nbacks[0]*100)+1\n",
    "\n",
    "#Pattern (2x2 or 3x3)\n",
    "patternSize= 2 #2 or 3\n",
    "#Number of source electrodes (4 for 2x2, 9 for 3x3)\n",
    "numSources=4 # 4 or 9\n",
    "\n",
    "num_drain_training=1\n",
    "num_drain_testing=2\n",
    "allTargets=[[1,0],[0,1]]\n",
    "targetClassVals=[0,1]\n",
    "numTestingPerClass=20\n",
    "\n",
    "#Amplitude:\n",
    "onAmp = 0.3 #Voltage for Training\n",
    "onAmpTest = 0.1 #Voltage for Testing\n",
    "\n",
    "#Noise\n",
    "noisey=False\n",
    "\n",
    "#create networks\n",
    "connectivity,sources,drain_pool,nwSize,nwJunctions=buildNetworks(fileName,ManualSources,num_drain_training,numSources)\n",
    "\n",
    "#create samples\n",
    "inputs,targets,orig_inputs=createSimpleInputs(patternSize,numSamples,noisey) #pattern size (e.g 3x3 = 3), number of samples, noise\n",
    "\n",
    "#split samples to train test\n",
    "trainingInputs,testingInputs,traininglabels,testinglabels = trainTestSplit(inputs,targets,targetClassVals,numTestingPerClass,orig_inputs=orig_inputs)\n",
    "#Run n-back Task\n",
    "\n",
    "#Time Parameters\n",
    "dt=0.01\n",
    "Tlen = 200\n",
    "timesteps   = Tlen/dt\n",
    "numDT       = 200#int(timesteps/len(inputs)) #number of timesteps per sample\n",
    "restDur=0\n",
    "\n",
    "accThreshold=False #do we want to force a minimum (arbitrary) difference between target and non-target drain for accuracy to be counted?\n",
    "\n",
    "#Other Variables\n",
    "maxCurrent = [1e-5,1e-5] #target\n",
    "threshCurrent = [5e-6,5e-6]\n",
    "numRuns        = 1\n",
    "sim            = [None]*numRuns\n",
    "stimuli        = [None]*numRuns\n",
    "accuracy       = [None]*numRuns\n",
    "\n",
    "trainingOrder = [None]*numRuns\n",
    "testingOrder = [None]*numRuns\n",
    "testingLabels  = [None]*numRuns\n",
    "trainingLabels  = [None]*numRuns\n",
    "order          = [None]*numRuns\n",
    "testTimes      = [None]*numRuns\n",
    "trainTimes      = [None]*numRuns\n",
    "targets        = [None]*numRuns\n",
    "numTestingSamples = [None]*numRuns\n",
    "allLabels      = [None]*numRuns\n",
    "seeds          =  np.random.choice(10000,size=numRuns,replace=False)\n",
    "\n",
    "limValues = [threshCurrent[0]]#[1e-6]#list(np.arange(0.05,1.05,0.05))  #if we want to loop through onAmp limit voltage percentage for drains\n",
    "increaseVal=threshCurrent[0]/3\n",
    "decreaseVal=threshCurrent[0]/6\n",
    "accThresh=0.7\n",
    "\n",
    "loadOnly=False\n",
    "\n",
    "\n",
    "filamentVal='0p5'\n",
    "\n",
    "if loadOnly == False:\n",
    "    print('Parameters:\\n')\n",
    "    print('Train V: ' + str(onAmp))\n",
    "    print('Test V: ' + str(onAmpTest))\n",
    "    print('Pattern: ' + str(patternSize)+'x'+str(patternSize))\n",
    "    #Run Sims\n",
    "    meanAcc=[]\n",
    "    stdAcc=[]\n",
    "    outputs=[]\n",
    "    for val in tqdm(limValues):\n",
    "        print(val)\n",
    "        for i in tqdm(range(numRuns)):\n",
    "            outputs.append(runNBACK(onAmp,onAmpTest,dt,Tlen,timesteps,numDT,restDur,nbacks,maxCurrent,val,accThresh,increaseVal,decreaseVal,seed=seeds[i],accThreshold=accThreshold))\n",
    "   \n",
    "    #Save Data\n",
    "    if numRuns==1:\n",
    "        outputs=outputs[0]\n",
    "        t=outputs[0][0][:-1]\n",
    "        thresholds=outputs[1]\n",
    "        sim=outputs[2]\n",
    "        accuracy=outputs[4]\n",
    "        alltargets=outputs[5]\n",
    "        trainingOrder=outputs[6]\n",
    "        trainingLabels=outputs[-1]\n",
    "        testingLabels=outputs[9]\n",
    "        allLabels=outputs[-2]\n",
    "        numTestingSamples=outputs[-3]\n",
    "    else:\n",
    "        if patternSize == 3:\n",
    "            saveName='data_'+str(nwSize)+'nw_'+str(nwJunctions)+'nj_3x3_wThresh_Vtrn'+str(onAmp)+'_Vtst'+str(onAmpTest)+'_T200_plus_cross_nback'+str(nbacks[0])+'_filament'+filamentVal+'_DataSimOnly'\n",
    "        elif patternSize == 2:\n",
    "            saveName='data_'+str(nwSize)+'nw_'+str(nwJunctions)+'nj_2x2_wThresh_Vtrn'+str(onAmp)+'_Vtst'+str(onAmpTest)+'_T200_plus_cross_nback'+str(nbacks[0])+'_filament'+filamentVal+'_DataSimOnly'\n",
    " \n",
    "        t = [None]*numRuns;thresholds=[None]*numRuns;sim=[None]*numRuns;accuracy=[None]*numRuns;alltargets=[None]*numRuns\n",
    "        trainingOrder=[None]*numRuns;trainingLabels=[None]*numRuns;testingLabels=[None]*numRuns;allLabels=[None]*numRuns\n",
    "        for run in range(numRuns):\n",
    "            t[run]=outputs[run][0][0][:-1]\n",
    "            thresholds[run]=outputs[run][1]\n",
    "            accuracy[run]=outputs[run][4]\n",
    "            alltargets[run]=outputs[run][5]\n",
    "            trainingOrder[run]=outputs[run][6]\n",
    "            trainingLabels[run]=outputs[run][-1]\n",
    "            testingLabels[run]=outputs[run][9]\n",
    "            allLabels[run]=outputs[run][-2]\n",
    "            numTestingSamples=outputs[run][-3]\n",
    "            simfiledata={}\n",
    "            simfiledata['sim']=outputs[run][2]\n",
    "            set_trace()\n",
    "            with open(dataLoc+'Sim Results/'+saveName+'.pkl', 'wb') as f:\n",
    "                pickle.dump([simfiledata], f) \n",
    "                \n",
    "    params={'Voltage':onAmp,'Test Voltage':onAmpTest,'Threshold Value':limValues,'Accuracy Threshold':accThresh,'ThreshIncrease':increaseVal,'ThreshDecrease':decreaseVal,'Random Seed':seeds,'Timesteps':Tlen,'Target Currents':maxCurrent,'dt':dt,'Num Samples':[119],'Num Trials':numRuns,'Noise':noisey}\n",
    "    print('saving sim data')\n",
    "    if patternSize == 3:\n",
    "        saveName='data_'+str(nwSize)+'nw_'+str(nwJunctions)+'nj_3x3_wThresh_Vtrn'+str(onAmp)+'_Vtst'+str(onAmpTest)+'_T200_plus_cross_nback'+str(nbacks[0])+'_filament'+filamentVal+'_DataNoSim'\n",
    "    elif patternSize == 2:\n",
    "        saveName='data_'+str(nwSize)+'nw_'+str(nwJunctions)+'nj_2x2_wThresh_Vtrn'+str(onAmp)+'_Vtst'+str(onAmpTest)+'_T200_plus_cross_nback'+str(nbacks[0])+'_filament'+filamentVal+'_DataNoSim'\n",
    "        \n",
    "    matfiledata={}\n",
    "    matfiledata['current']=t\n",
    "    matfiledata['threshold']=thresholds\n",
    "    matfiledata['accuracy']=accuracy\n",
    "    matfiledata['targets']=alltargets\n",
    "    matfiledata['training order']=trainingOrder\n",
    "    matfiledata['training labels']=trainingLabels\n",
    "    matfiledata['testing labels']=testingLabels\n",
    "    matfiledata['all labels']=allLabels\n",
    "    matfiledata['num test samples']=numTestingSamples\n",
    "    matfiledata['Parameters']=params\n",
    "\n",
    "    with open(dataLoc+'Sim Results/'+saveName+'.pkl', 'wb') as f:\n",
    "        pickle.dump([matfiledata], f) "
   ]
  },
  {
   "cell_type": "code",
   "execution_count": 53,
   "metadata": {
    "scrolled": false
   },
   "outputs": [
    {
     "data": {
      "text/plain": [
       "(-0.1, 1.1)"
      ]
     },
     "execution_count": 53,
     "metadata": {},
     "output_type": "execute_result"
    },
    {
     "data": {
      "image/png": "[encoded data removed]",
      "text/plain": [
       "<Figure size 432x288 with 1 Axes>"
      ]
     },
     "metadata": {
      "needs_background": "light"
     },
     "output_type": "display_data"
    }
   ],
   "source": [
    "plt.plot(accuracy,'-o')\n",
    "plt.ylim([-0.1,1.1])"
   ]
  },
  {
   "cell_type": "code",
   "execution_count": 4,
   "metadata": {},
   "outputs": [],
   "source": [
    "# savemat(dataLoc+'nback4_accuracy.mat',{'Accuracy':accuracy})"
   ]
  },
  {
   "cell_type": "code",
   "execution_count": 54,
   "metadata": {},
   "outputs": [
    {
     "data": {
      "text/plain": [
       "<matplotlib.legend.Legend at 0x7fd5b7a638e0>"
      ]
     },
     "execution_count": 54,
     "metadata": {},
     "output_type": "execute_result"
    },
    {
     "data": {
      "image/png": "[encoded data removed]",
      "text/plain": [
       "<Figure size 1080x576 with 1 Axes>"
      ]
     },
     "metadata": {
      "needs_background": "light"
     },
     "output_type": "display_data"
    }
   ],
   "source": [
    "fig=plt.figure(figsize=(15,8))\n",
    "p1=plt.plot(np.array(thresholds)[:,0],c='b')\n",
    "p2=plt.plot(np.array(thresholds)[:,1],c='r')\n",
    "plt.xlabel('Samples')\n",
    "plt.ylabel('Voltage Threshold')\n",
    "plt.legend([p1[0],p2[0]],['Drain 1','Drain 2'],loc='lower right',title='Current')\n",
    "# if patternSize==2:\n",
    "#     fig.savefig(saveFig+saveName+'_threshValues.pdf',format='pdf',dpi=300)\n",
    "# else:\n",
    "#     fig.savefig(saveFig+saveName+'_threshValues.pdf',format='pdf',dpi=300)"
   ]
  },
  {
   "cell_type": "code",
   "execution_count": 241,
   "metadata": {},
   "outputs": [
    {
     "data": {
      "text/plain": [
       "(39, 200)"
      ]
     },
     "execution_count": 241,
     "metadata": {},
     "output_type": "execute_result"
    }
   ],
   "source": [
    "targets.shape"
   ]
  },
  {
   "cell_type": "code",
   "execution_count": 253,
   "metadata": {},
   "outputs": [
    {
     "data": {
      "text/plain": [
       "array([0., 0., 0., 0., 0., 0., 0., 0., 0., 0., 0., 0., 0., 0., 0., 0., 0.,\n",
       "       0., 0., 0., 0., 0., 0., 0., 0., 0., 0., 0., 0., 0., 0., 0., 0., 0.,\n",
       "       0., 0., 0., 0., 0., 0., 0., 0., 0., 0., 0., 0., 0., 0., 0., 0., 0.,\n",
       "       0., 0., 0., 0., 0., 0., 0., 0., 0., 0., 0., 0., 0., 0., 0., 0., 0.,\n",
       "       0., 0., 0., 0., 0., 0., 0., 0., 0., 0., 0., 0., 0., 0., 0., 0., 0.,\n",
       "       0., 0., 0., 0., 0., 0., 0., 0., 0., 0., 0., 0., 0., 0., 0., 0., 0.,\n",
       "       0., 0., 0., 0., 0., 0., 0., 0., 0., 0., 0., 0., 0., 0., 0., 0., 0.,\n",
       "       0., 0., 0., 0., 0., 0., 0., 0., 0., 0., 0., 0., 0., 0., 0., 0., 0.,\n",
       "       0., 0., 0., 0., 0., 0., 0., 0., 0., 0., 0., 0., 0., 0., 0., 0., 0.,\n",
       "       0., 0., 0., 0., 0., 0., 0., 0., 0., 0., 0., 0., 0., 0., 0., 0., 0.,\n",
       "       0., 0., 0., 0., 0., 0., 0., 0., 0., 0., 0., 0., 0., 0., 0., 0., 0.,\n",
       "       0., 0., 0., 0., 0., 0., 0., 0., 0., 0., 0., 0., 0.])"
      ]
     },
     "execution_count": 253,
     "metadata": {},
     "output_type": "execute_result"
    }
   ],
   "source": []
  },
  {
   "cell_type": "code",
   "execution_count": 254,
   "metadata": {},
   "outputs": [],
   "source": [
    "#REACTION TIME:\n",
    "# jV=[]\n",
    "# jF=[]\n",
    "# jC=[]\n",
    "# activeSources=[]\n",
    "elecItrain=[];elecItest=[];inputSignal=[]\n",
    "drain1=[];drain2=[]\n",
    "t=0\n",
    "nback=nbacks[0]\n",
    "for i in range(len(sim)):\n",
    "#     jV.append(sim[i].junctionVoltage)   \n",
    "#     jF.append(sim[i].filamentState) #Junction Filament Negative\n",
    "#     jC.append(sim[i].junctionConductance)\n",
    "#     activeSources.append(sim[i].sources)\n",
    "    if sim[i].electrodeCurrent.shape[1] == 5:\n",
    "        tmp=sim[i].electrodeCurrent[:,0]\n",
    "        elecItrain.append(tmp)\n",
    "        if alltargets[i][0]==0:\n",
    "            drain1.append(tmp)\n",
    "            drain2.append([0]*tmp)\n",
    "        else:\n",
    "            drain2.append(tmp)\n",
    "            drain1.append([0]*tmp)\n",
    "    else: #only test:\n",
    "#         if len(elecItest[i]) < 600:\n",
    "        elecItest.append(sim[i].electrodeCurrent[:,:2])\n",
    "        drain1.append(elecItest[t][:,0])\n",
    "        drain2.append(elecItest[t][:,1])\n",
    "        t+=1\n",
    "        \n",
    "drain1=np.hstack(np.array(drain1))\n",
    "drain2=np.hstack(np.array(drain2))"
   ]
  },
  {
   "cell_type": "code",
   "execution_count": 250,
   "metadata": {},
   "outputs": [
    {
     "data": {
      "text/plain": [
       "3"
      ]
     },
     "execution_count": 250,
     "metadata": {},
     "output_type": "execute_result"
    }
   ],
   "source": [
    "i"
   ]
  },
  {
   "cell_type": "code",
   "execution_count": 255,
   "metadata": {},
   "outputs": [
    {
     "data": {
      "image/png": "[encoded data removed]",
      "text/plain": [
       "<Figure size 1080x720 with 1 Axes>"
      ]
     },
     "metadata": {
      "needs_background": "light"
     },
     "output_type": "display_data"
    }
   ],
   "source": [
    "plt.figure(figsize=(15,10))\n",
    "plt.plot(drain1)\n",
    "plt.plot(drain2)\n",
    "ax=plt.gca()\n"
   ]
  },
  {
   "cell_type": "code",
   "execution_count": 219,
   "metadata": {},
   "outputs": [],
   "source": [
    "sampleTimes=numDT*(nbacks[0]+1)\n",
    "signalLen=200*len(alltargets)"
   ]
  },
  {
   "cell_type": "code",
   "execution_count": 220,
   "metadata": {},
   "outputs": [
    {
     "data": {
      "text/plain": [
       "[2]"
      ]
     },
     "execution_count": 220,
     "metadata": {},
     "output_type": "execute_result"
    }
   ],
   "source": [
    "nbacks"
   ]
  },
  {
   "cell_type": "code",
   "execution_count": 221,
   "metadata": {},
   "outputs": [],
   "source": [
    "nback=nbacks[0]\n",
    "tmp=numDT*nback\n",
    "A=np.array(range(0,signalLen+1,int(tmp+numDT))) #training \n",
    "B=np.array(range(0+tmp,signalLen+1,int(tmp+numDT)))# testing\n",
    "c=[]\n",
    "for k in range(len(B)):\n",
    "    c.append(range(A[k],B[k]))\n",
    "testTimes=np.array(np.hstack(c))\n",
    "l=range(signalLen)\n",
    "trainTimes=np.array(np.hstack([m for m in l if m not in testTimes]))\n",
    "\n",
    "#test and train samples:\n",
    "testSamples=[]\n",
    "for i in range(-1,len(alltargets),nback+1):\n",
    "    if i > 0:\n",
    "        testSamples.append(i)\n",
    "testSamples=np.array(testSamples)\n",
    "trainSamples = np.setdiff1d(np.array(range(len(alltargets))),testSamples)"
   ]
  },
  {
   "cell_type": "code",
   "execution_count": 222,
   "metadata": {},
   "outputs": [],
   "source": [
    "targets=np.array(alltargets)[testSamples]"
   ]
  },
  {
   "cell_type": "code",
   "execution_count": 223,
   "metadata": {},
   "outputs": [
    {
     "data": {
      "application/vnd.jupyter.widget-view+json": {
       "model_id": "be8517d2ba8a47048f3de3808ed5cd8f",
       "version_major": 2,
       "version_minor": 0
      },
      "text/plain": [
       "  0%|          | 0/80 [00:00<?, ?it/s]"
      ]
     },
     "metadata": {},
     "output_type": "display_data"
    }
   ],
   "source": [
    "import pandas as pd\n",
    "# trainingLabels=allLabels #not sure about this\n",
    "nback=nbacks[0]\n",
    "thisTrainInputs=[[] for i in range(len(trainingLabels))]\n",
    "for trial in tqdm(range(len(trainingLabels))): #for each trial\n",
    "    #bin training samples\n",
    "    thisLabels=np.array(allLabels)\n",
    "    tmp=trainingInputs[trainingOrder]\n",
    "    \n",
    "    #plot training inputs that are to be tested:\n",
    "    count = 0\n",
    "    for inpt in tmp:\n",
    "        thisTrainInputs[count]=(inpt.reshape(-1,1))\n",
    "        count+=1\n",
    "    trainlabel=trainingLabels#[:-4]\n",
    "#     trainlabel=np.delete(trainlabel,np.arange(nback,trainlabel.size,nback+1))\n",
    "    trainlabel=np.array(trainlabel).reshape(-1, nback)\n",
    "    thisTestTime = testTimes\n",
    "    targetTimes = signal_expand(targets,numDT)\n",
    "    \n",
    "    currents=np.array(t)\n",
    "    thisTarget=targets\n",
    "    testlabel=testingLabels[:numTestingSamples]\n",
    "        \n",
    "    if nback == 2:    \n",
    "        #seperate to classes \n",
    "\n",
    "        c1c1notest=[0]\n",
    "        c1c2notest=[0]\n",
    "        c2c1notest=[0]\n",
    "        c2c2notest=[0]\n",
    "        count1=0\n",
    "        count2=0\n",
    "        c2count=[]\n",
    "        c1count=[]\n",
    "        classOrder=[]\n",
    "        targetClass=[]\n",
    "        for label in trainlabel:\n",
    "            if np.all(label == [0,0]):\n",
    "                classOrder.append('c1-c1')\n",
    "                targetClass.append(1)\n",
    "                count1+=1\n",
    "            elif np.all(label == [0,1]):\n",
    "                classOrder.append('c1-c2')\n",
    "                targetClass.append(1)\n",
    "                count1+=1\n",
    "            elif np.all(label == [1,1]):\n",
    "                classOrder.append('c2-c2')\n",
    "                targetClass.append(2)\n",
    "                count2+=1\n",
    "            elif np.all(label == [1,0]):\n",
    "                classOrder.append('c2-c1')\n",
    "                targetClass.append(2)\n",
    "                count2+=1\n",
    "            c2count.append(count2)\n",
    "            c1count.append(count1)\n",
    "       #count how many times the network has seen c1-c1,c1-c2/c2-c1,c2-c2 at each test point:\n",
    "        for i in range(len(trainlabel)):\n",
    "            a=np.sum(np.array_equiv(trainlabel[i],np.array([0,0])))\n",
    "            b=np.sum(np.array_equiv(trainlabel[i],np.array([0,1])))\n",
    "            c=np.sum(np.array_equiv(trainlabel[i],np.array([1,0])))\n",
    "            d=np.sum(np.array_equiv(trainlabel[i],np.array([1,1])))\n",
    "\n",
    "    #         set_trace()\n",
    "            c1c1notest.append(c1c1notest[i]+a)\n",
    "            c1c2notest.append(c1c2notest[i]+b)\n",
    "            c2c1notest.append(c2c1notest[i]+c)\n",
    "            c2c2notest.append(c2c2notest[i]+d)\n",
    "\n",
    "\n",
    "        #count how many times the network has seen c1/c2 at each test point:\n",
    "        count1notest=[]\n",
    "        count2notest=[]\n",
    "        temp1=trainlabel.reshape(-1)\n",
    "        for i in range(len(temp1)):\n",
    "            if i == 0:\n",
    "                count1notest.append(0)\n",
    "                count2notest.append(0)\n",
    "            if i % nback == 0 and i > 0:\n",
    "                count1notest.append(np.sum(temp1[:i]==0))\n",
    "                count2notest.append(np.sum(temp1[:i]==1))\n",
    "\n",
    "        count1plustest=[]\n",
    "        count2plustest=[]\n",
    "        temp1=thisLabels\n",
    "        n=nback+1\n",
    "        for i in range(len(temp1)):\n",
    "            if i == 0:\n",
    "                count1plustest.append(0)\n",
    "                count2plustest.append(0)\n",
    "            if i % n == 0 and i > 0: \n",
    "                count1plustest.append(np.sum(temp1[:i]==0))\n",
    "                count2plustest.append(np.sum(temp1[:i]==1))            \n",
    "\n",
    "        cumsumdiffnotest=np.array(count1notest)-np.array(count2notest)\n",
    "        cumsumdifftest=np.array(count1plustest)-np.array(count2plustest)    \n",
    "\n",
    "        if len(accuracy)!= len(targetClass):\n",
    "            temp=np.append(accuracy,np.nan)\n",
    "#         set_trace()\n",
    "        df=pd.DataFrame({'Class':np.array(targetClass),'Order':classOrder,'Trial':trial,\n",
    "                         'Accuracy':temp,'C1NoTest':count1notest,\n",
    "                         'C2NoTest':count2notest,'CountDiff':np.array(c2count)-np.array(c1count),\n",
    "                         'C1+Test':count1plustest,'C2+Test':count2plustest,'C1C1count':c1c1notest[1:],\n",
    "                         'C1C2count':c1c2notest[1:], 'C2C1count':c2c1notest[1:],'C2C2count':c2c2notest[1:],\n",
    "                        })\n",
    "   \n",
    "    elif nback == 3:    \n",
    "\n",
    "        count1=0\n",
    "        count2=0\n",
    "        c2count=[]\n",
    "        c1count=[]\n",
    "        classOrder=[]\n",
    "        targetClass=[]\n",
    "        for label in trainlabel:\n",
    "            if np.all(label == [0,0,0]):\n",
    "                classOrder.append('c1-c1-c1')\n",
    "                targetClass.append(1)\n",
    "                count1+=1\n",
    "            elif np.all(label == [0,1,0]):\n",
    "                classOrder.append('c1-c2-c1')\n",
    "                targetClass.append(1)\n",
    "                count1+=1\n",
    "            elif np.all(label == [0,1,1]):\n",
    "                classOrder.append('c1-c2-c2')\n",
    "                targetClass.append(1)\n",
    "                count1+=1\n",
    "            elif np.all(label == [0,0,1]):\n",
    "                classOrder.append('c1-c1-c2')\n",
    "                targetClass.append(1)\n",
    "                count1+=1   \n",
    "            elif np.all(label == [1,1,1]):\n",
    "                classOrder.append('c2-c2-c2')\n",
    "                targetClass.append(2)\n",
    "                count2+=1\n",
    "            elif np.all(label == [1,0,1]):\n",
    "                classOrder.append('c2-c1-c2')\n",
    "                targetClass.append(2)\n",
    "                count2+=1\n",
    "            elif np.all(label == [1,1,0]):\n",
    "                classOrder.append('c2-c2-c1')\n",
    "                targetClass.append(2)\n",
    "                count2+=1\n",
    "            elif np.all(label == [1,0,0]):\n",
    "                classOrder.append('c2-c1-c1')\n",
    "                targetClass.append(2)\n",
    "                count2+=1\n",
    "            c2count.append(count2)\n",
    "            c1count.append(count1)\n",
    "       #count how many times the network has seen c1-c1,c1-c2/c2-c1,c2-c2 at each test point:\n",
    "        c1c1c1notest=[0];c2c2c2notest=[0];\n",
    "        c1c1c2notest=[0];c2c2c1notest=[0];\n",
    "        c1c2c2notest=[0];c2c1c2notest=[0];\n",
    "        c1c2c1notest=[0];c2c1c1notest=[0];\n",
    "        \n",
    "        for i in range(len(trainlabel)):\n",
    "            a1=np.sum(np.array_equiv(trainlabel[i],np.array([0,0,0])))\n",
    "            b1=np.sum(np.array_equiv(trainlabel[i],np.array([0,0,1])))\n",
    "            c1=np.sum(np.array_equiv(trainlabel[i],np.array([0,1,0])))\n",
    "            d1=np.sum(np.array_equiv(trainlabel[i],np.array([0,1,1])))\n",
    "            a2=np.sum(np.array_equiv(trainlabel[i],np.array([1,1,1])))\n",
    "            b2=np.sum(np.array_equiv(trainlabel[i],np.array([1,0,1])))\n",
    "            c2=np.sum(np.array_equiv(trainlabel[i],np.array([1,1,0])))\n",
    "            d2=np.sum(np.array_equiv(trainlabel[i],np.array([1,0,0])))\n",
    "            \n",
    "    #         set_trace()\n",
    "            c1c1c1notest.append(c1c1c1notest[i]+a1)\n",
    "            c1c1c2notest.append(c1c1c2notest[i]+b1)\n",
    "            c1c2c1notest.append(c1c2c1notest[i]+c1)\n",
    "            c1c2c2notest.append(c1c2c1notest[i]+d1)\n",
    "            c2c2c2notest.append(c2c2c2notest[i]+a2)\n",
    "            c2c1c2notest.append(c1c1c2notest[i]+b2)\n",
    "            c2c2c1notest.append(c1c2c1notest[i]+c2)\n",
    "            c2c1c1notest.append(c1c2c1notest[i]+d2)\n",
    "\n",
    "\n",
    "        #count how many times the network has seen c1/c2 at each test point:\n",
    "        count1notest=[]\n",
    "        count2notest=[]\n",
    "        temp1=trainlabel.reshape(-1)\n",
    "        for i in range(len(temp1)):\n",
    "            if i == 0:\n",
    "                count1notest.append(0)\n",
    "                count2notest.append(0)\n",
    "            if i % nback == 0 and i > 0:\n",
    "                count1notest.append(np.sum(temp1[:i]==0))\n",
    "                count2notest.append(np.sum(temp1[:i]==1))\n",
    "\n",
    "        count1plustest=[]\n",
    "        count2plustest=[]\n",
    "        temp1=thisLabels\n",
    "        n=nback+1\n",
    "        for i in range(len(temp1)):\n",
    "            if i == 0:\n",
    "                count1plustest.append(0)\n",
    "                count2plustest.append(0)\n",
    "            if i % n == 0 and i > 0: \n",
    "                count1plustest.append(np.sum(temp1[:i]==0))\n",
    "                count2plustest.append(np.sum(temp1[:i]==1))            \n",
    "\n",
    "        cumsumdiffnotest=np.array(count1notest)-np.array(count2notest)\n",
    "        cumsumdifftest=np.array(count1plustest)-np.array(count2plustest)    \n",
    "#         set_trace()\n",
    "        df=pd.DataFrame({'Class':np.array(targetClass),'Order':classOrder,'Trial':trial,\n",
    "                         'Accuracy':accuracy,'C1NoTest':count1notest,\n",
    "                         'C2NoTest':count2notest,'CountDiff':np.array(c2count)-np.array(c1count),\n",
    "                         'C1+Test':count1plustest[:-1],'C2+Test':count2plustest[:-1],'C1C1C1count':c1c1c1notest[1:],\n",
    "                         'C1C1C2count':c1c1c2notest[1:],'C1C2C2count':c1c2c2notest[1:],'C1C2C1count':c1c2c1notest[1:],\n",
    "                         'C2C2C2count':c2c2c2notest[1:],'C2C2C1count':c2c2c1notest[1:],'C2C1C1count':c2c1c1notest[1:],\n",
    "                         'C2C1C2count':c2c1c2notest[1:]\n",
    "                        })\n",
    "    \n",
    "    \n",
    "    elif nback == 4:    \n",
    "\n",
    "        count1=0\n",
    "        count2=0\n",
    "        c2count=[]\n",
    "        c1count=[]\n",
    "        classOrder=[]\n",
    "        targetClass=[]\n",
    "        for label in trainlabel:\n",
    "            if np.all(label == [0,0,0,0]):\n",
    "                classOrder.append('c1-c1-c1-c1')\n",
    "                targetClass.append(1)\n",
    "                count1+=1\n",
    "            elif np.all(label == [0,0,0,1]):\n",
    "                classOrder.append('c1-c1-c1-c2')\n",
    "                targetClass.append(1)\n",
    "                count1+=1\n",
    "            elif np.all(label == [0,0,1,0]):\n",
    "                classOrder.append('c1-c1-c2-c1')\n",
    "                targetClass.append(1)\n",
    "                count1+=1\n",
    "            elif np.all(label == [0,1,0,0]):\n",
    "                classOrder.append('c1-c2-c1-c1')\n",
    "                targetClass.append(1)\n",
    "                count1+=1\n",
    "            elif np.all(label == [0,1,0,1]):\n",
    "                classOrder.append('c1-c2-c1-c2')\n",
    "                targetClass.append(1)\n",
    "                count1+=1\n",
    "            elif np.all(label == [0,1,1,0]):\n",
    "                classOrder.append('c1-c2-c2-c1')\n",
    "                targetClass.append(1)\n",
    "                count1+=1\n",
    "            elif np.all(label == [0,1,1,1]):\n",
    "                classOrder.append('c1-c2-c2-c2')\n",
    "                targetClass.append(1)\n",
    "                count1+=1\n",
    "            elif np.all(label == [0,0,1,1]):\n",
    "                classOrder.append('c1-c1-c2-c2')\n",
    "                targetClass.append(1)\n",
    "                count1+=1                                \n",
    "            elif np.all(label == [1,1,1,1]):\n",
    "                classOrder.append('c2-c2-c2-c2')\n",
    "                targetClass.append(2)\n",
    "                count2+=1\n",
    "            elif np.all(label == [1,1,1,0]):\n",
    "                classOrder.append('c2-c2-c2-c1')\n",
    "                targetClass.append(2)\n",
    "                count2+=1\n",
    "            elif np.all(label == [1,1,0,1]):\n",
    "                classOrder.append('c2-c2-c1-c2')\n",
    "                targetClass.append(2)\n",
    "                count2+=1\n",
    "            elif np.all(label == [1,0,1,1]):\n",
    "                classOrder.append('c2-c1-c2-c2')\n",
    "                targetClass.append(2)\n",
    "                count2+=1\n",
    "            elif np.all(label == [1,0,0,1]):\n",
    "                classOrder.append('c2-c1-c1-c2')\n",
    "                targetClass.append(2)\n",
    "                count2+=1\n",
    "            elif np.all(label == [1,0,1,0]):\n",
    "                classOrder.append('c2-c1-c2-c1')\n",
    "                targetClass.append(2)\n",
    "                count2+=1\n",
    "            elif np.all(label == [1,0,0,0]):\n",
    "                classOrder.append('c2-c1-c1-c1')\n",
    "                targetClass.append(2)\n",
    "                count2+=1\n",
    "            elif np.all(label == [1,1,0,0]):\n",
    "                classOrder.append('c2-c2-c1-c1')\n",
    "                targetClass.append(2)\n",
    "                count2+=1\n",
    "            c2count.append(count2)\n",
    "            c1count.append(count1)\n",
    "       #count how many times the network has seen c1-c1,c1-c2/c2-c1,c2-c2 at each test point:\n",
    "        c1c1c1c1notest=[0];c2c2c2c1notest=[0];\n",
    "        c1c1c1c2notest=[0];c2c2c2c2notest=[0];\n",
    "        c1c1c2c1notest=[0];c2c2c1c1notest=[0];\n",
    "        c1c1c2c2notest=[0];c2c2c1c2notest=[0];\n",
    "        c1c2c2c1notest=[0];c2c1c2c1notest=[0];\n",
    "        c1c2c2c2notest=[0];c2c1c2c2notest=[0];\n",
    "        c1c2c1c1notest=[0];c2c1c1c1notest=[0];\n",
    "        c1c2c1c2notest=[0];c2c1c1c2notest=[0];\n",
    "\n",
    "        for i in range(len(trainlabel)):\n",
    "            a1=np.sum(np.array_equiv(trainlabel[i],np.array([0,0,0,0])))\n",
    "            b1=np.sum(np.array_equiv(trainlabel[i],np.array([0,0,0,1])))\n",
    "            c1=np.sum(np.array_equiv(trainlabel[i],np.array([0,0,1,0])))\n",
    "            d1=np.sum(np.array_equiv(trainlabel[i],np.array([0,1,0,0])))\n",
    "            \n",
    "            e1=np.sum(np.array_equiv(trainlabel[i],np.array([0,0,1,1])))\n",
    "            f1=np.sum(np.array_equiv(trainlabel[i],np.array([0,1,0,1])))\n",
    "            g1=np.sum(np.array_equiv(trainlabel[i],np.array([0,1,1,0])))\n",
    "            h1=np.sum(np.array_equiv(trainlabel[i],np.array([0,1,1,1])))\n",
    "            \n",
    "            a2=np.sum(np.array_equiv(trainlabel[i],np.array([1,0,0,0])))\n",
    "            b2=np.sum(np.array_equiv(trainlabel[i],np.array([1,0,0,1])))\n",
    "            c2=np.sum(np.array_equiv(trainlabel[i],np.array([1,0,1,0])))\n",
    "            d2=np.sum(np.array_equiv(trainlabel[i],np.array([1,1,0,0])))\n",
    "            \n",
    "            e2=np.sum(np.array_equiv(trainlabel[i],np.array([1,1,1,0])))\n",
    "            f2=np.sum(np.array_equiv(trainlabel[i],np.array([1,1,0,1])))\n",
    "            g2=np.sum(np.array_equiv(trainlabel[i],np.array([1,0,1,1])))\n",
    "            h2=np.sum(np.array_equiv(trainlabel[i],np.array([1,1,1,1])))\n",
    "            \n",
    "    #         set_trace()\n",
    "            c1c1c1c1notest.append(c1c1c1c1notest[i]+a1)\n",
    "            c1c1c1c2notest.append(c1c1c1c1c1c2notestc2notest[i]+b1)\n",
    "            c1c1c2c1notest.append(c1c1c2c1notest[i]+c1)\n",
    "            c1c2c1c1notest.append(c1c2c1c1notest[i]+d1)\n",
    "            c1c1c2c2notest.append(c1c1c2c2notest[i]+e1)\n",
    "            c1c2c1c2notest.append(c1c2c1c2notest[i]+f1)\n",
    "            c1c2c2c1notest.append(c1c2c2c1notest[i]+g1)\n",
    "            c1c2c2c2notest.append(c1c2c2c2notest[i]+h1)\n",
    "            \n",
    "            c2c1c1c1notest.append(c2c1c1c1notest[i]+a2)\n",
    "            c2c1c1c2notest.append(c2c1c1c2notest[i]+b2)\n",
    "            c2c1c2c1notest.append(c2c1c2c1notest[i]+c2)\n",
    "            c2c2c1c1notest.append(c2c2c1c1notest[i]+d2)\n",
    "            c2c2c2c1notest.append(c2c2c2c1notest[i]+e2)\n",
    "            c2c2c1c2notest.append(c2c2c1c2notest[i]+f2)\n",
    "            c2c1c2c2notest.append(c2c1c2c2notest[i]+g2)\n",
    "            c2c2c2c2notest.append(c2c2c2c2notest[i]+h2)\n",
    "\n",
    "        #count how many times the network has seen c1/c2 at each test point:\n",
    "        count1notest=[]\n",
    "        count2notest=[]\n",
    "        temp1=trainlabel.reshape(-1)\n",
    "        for i in range(len(temp1)):\n",
    "            if i == 0:\n",
    "                count1notest.append(0)\n",
    "                count2notest.append(0)\n",
    "            if i % nback == 0 and i > 0:\n",
    "                count1notest.append(np.sum(temp1[:i]==0))\n",
    "                count2notest.append(np.sum(temp1[:i]==1))\n",
    "\n",
    "        count1plustest=[]\n",
    "        count2plustest=[]\n",
    "        temp1=thisLabels\n",
    "        n=nback+1\n",
    "        for i in range(len(temp1)):\n",
    "            if i == 0:\n",
    "                count1plustest.append(0)\n",
    "                count2plustest.append(0)\n",
    "            if i % n == 0 and i > 0: \n",
    "                count1plustest.append(np.sum(temp1[:i]==0))\n",
    "                count2plustest.append(np.sum(temp1[:i]==1))            \n",
    "\n",
    "        cumsumdiffnotest=np.array(count1notest)-np.array(count2notest)\n",
    "        cumsumdifftest=np.array(count1plustest)-np.array(count2plustest)    \n",
    "#         set_trace()\n",
    "        df=pd.DataFrame({'Class':np.array(targetClass),'Order':classOrder,'Trial':trial,\n",
    "                         'Accuracy':accuracy,'C1NoTest':count1notest,\n",
    "                         'C2NoTest':count2notest,'CountDiff':np.array(c2count)-np.array(c1count),\n",
    "                         'C1+Test':count1plustest[:-1],'C2+Test':count2plustest[:-1],'0000count':c1c1c1c1notest[1:],\n",
    "                         '0001count':c1c1c1c2notest[1:],'0010count':c1c1c2c1notest[1:],'0100count':c1c2c1c1notest[1:],\n",
    "                         '0011count':c1c1c2c2notest[1:],'0101count':c1c2c1c2notest[1:],'0110count':c1c2c2c1notest[1:],\n",
    "                         '0111':c1c2c2c2notest[1:],'1000count':c2c1c1c1notest[1:],\n",
    "                         '1001count':c2c1c1c2notest[1:],'1010count':c2c1c2c1notest[1:],'1100count':c2c2c1c1notest[1:],\n",
    "                         '1011count':c2c1c2c2notest[1:],'1101count':c2c2c1c2notest[1:],'1110count':c2c2c2c1notest[1:],\n",
    "                         '1111':c2c2c2c2notest[1:]                         \n",
    "                        })\n",
    "    \n",
    "    \n",
    "    counts=[]\n",
    "    for i in range(len(df)):\n",
    "        counts.append(i)\n",
    "        \n",
    "    d = {'OrderVal':counts,'Train Time Start':((np.array(counts)+1)*numDT*(nback+1))-numDT*(nback+1),\n",
    "                     'Train Time End':((np.array(counts)+1)*numDT*(nback+1))-numDT-1,\n",
    "                     'Test Time Start':((np.array(counts)+1)*numDT*(nback+1))-numDT,\n",
    "                     'Test Time End':((np.array(counts)+1))*numDT*(nback+1)-1,}\n",
    "    df = df.join(pd.DataFrame(d, index=df.index))\n",
    "    \n",
    "#     if trial == 0:\n",
    "#         newdf=df\n",
    "#     else:\n",
    "#         newdf=newdf.append(df)\n",
    "#     newdf.index=range(len(newdf))"
   ]
  },
  {
   "cell_type": "code",
   "execution_count": 224,
   "metadata": {},
   "outputs": [
    {
     "data": {
      "text/html": [
       "<div>\n",
       "<style scoped>\n",
       "    .dataframe tbody tr th:only-of-type {\n",
       "        vertical-align: middle;\n",
       "    }\n",
       "\n",
       "    .dataframe tbody tr th {\n",
       "        vertical-align: top;\n",
       "    }\n",
       "\n",
       "    .dataframe thead th {\n",
       "        text-align: right;\n",
       "    }\n",
       "</style>\n",
       "<table border=\"1\" class=\"dataframe\">\n",
       "  <thead>\n",
       "    <tr style=\"text-align: right;\">\n",
       "      <th></th>\n",
       "      <th>Class</th>\n",
       "      <th>Order</th>\n",
       "      <th>Trial</th>\n",
       "      <th>Accuracy</th>\n",
       "      <th>C1NoTest</th>\n",
       "      <th>C2NoTest</th>\n",
       "      <th>CountDiff</th>\n",
       "      <th>C1+Test</th>\n",
       "      <th>C2+Test</th>\n",
       "      <th>C1C1count</th>\n",
       "      <th>C1C2count</th>\n",
       "      <th>C2C1count</th>\n",
       "      <th>C2C2count</th>\n",
       "      <th>OrderVal</th>\n",
       "      <th>Train Time Start</th>\n",
       "      <th>Train Time End</th>\n",
       "      <th>Test Time Start</th>\n",
       "      <th>Test Time End</th>\n",
       "    </tr>\n",
       "  </thead>\n",
       "  <tbody>\n",
       "    <tr>\n",
       "      <th>0</th>\n",
       "      <td>1</td>\n",
       "      <td>c1-c2</td>\n",
       "      <td>79</td>\n",
       "      <td>1.0</td>\n",
       "      <td>0</td>\n",
       "      <td>0</td>\n",
       "      <td>-1</td>\n",
       "      <td>0</td>\n",
       "      <td>0</td>\n",
       "      <td>0</td>\n",
       "      <td>1</td>\n",
       "      <td>0</td>\n",
       "      <td>0</td>\n",
       "      <td>0</td>\n",
       "      <td>0</td>\n",
       "      <td>399</td>\n",
       "      <td>400</td>\n",
       "      <td>599</td>\n",
       "    </tr>\n",
       "    <tr>\n",
       "      <th>1</th>\n",
       "      <td>1</td>\n",
       "      <td>c1-c2</td>\n",
       "      <td>79</td>\n",
       "      <td>1.0</td>\n",
       "      <td>1</td>\n",
       "      <td>1</td>\n",
       "      <td>-2</td>\n",
       "      <td>2</td>\n",
       "      <td>1</td>\n",
       "      <td>0</td>\n",
       "      <td>2</td>\n",
       "      <td>0</td>\n",
       "      <td>0</td>\n",
       "      <td>1</td>\n",
       "      <td>600</td>\n",
       "      <td>999</td>\n",
       "      <td>1000</td>\n",
       "      <td>1199</td>\n",
       "    </tr>\n",
       "    <tr>\n",
       "      <th>2</th>\n",
       "      <td>2</td>\n",
       "      <td>c2-c1</td>\n",
       "      <td>79</td>\n",
       "      <td>1.0</td>\n",
       "      <td>2</td>\n",
       "      <td>2</td>\n",
       "      <td>-1</td>\n",
       "      <td>4</td>\n",
       "      <td>2</td>\n",
       "      <td>0</td>\n",
       "      <td>2</td>\n",
       "      <td>1</td>\n",
       "      <td>0</td>\n",
       "      <td>2</td>\n",
       "      <td>1200</td>\n",
       "      <td>1599</td>\n",
       "      <td>1600</td>\n",
       "      <td>1799</td>\n",
       "    </tr>\n",
       "    <tr>\n",
       "      <th>3</th>\n",
       "      <td>2</td>\n",
       "      <td>c2-c1</td>\n",
       "      <td>79</td>\n",
       "      <td>1.0</td>\n",
       "      <td>3</td>\n",
       "      <td>3</td>\n",
       "      <td>0</td>\n",
       "      <td>5</td>\n",
       "      <td>4</td>\n",
       "      <td>0</td>\n",
       "      <td>2</td>\n",
       "      <td>2</td>\n",
       "      <td>0</td>\n",
       "      <td>3</td>\n",
       "      <td>1800</td>\n",
       "      <td>2199</td>\n",
       "      <td>2200</td>\n",
       "      <td>2399</td>\n",
       "    </tr>\n",
       "    <tr>\n",
       "      <th>4</th>\n",
       "      <td>2</td>\n",
       "      <td>c2-c1</td>\n",
       "      <td>79</td>\n",
       "      <td>1.0</td>\n",
       "      <td>4</td>\n",
       "      <td>4</td>\n",
       "      <td>1</td>\n",
       "      <td>6</td>\n",
       "      <td>6</td>\n",
       "      <td>0</td>\n",
       "      <td>2</td>\n",
       "      <td>3</td>\n",
       "      <td>0</td>\n",
       "      <td>4</td>\n",
       "      <td>2400</td>\n",
       "      <td>2799</td>\n",
       "      <td>2800</td>\n",
       "      <td>2999</td>\n",
       "    </tr>\n",
       "    <tr>\n",
       "      <th>5</th>\n",
       "      <td>2</td>\n",
       "      <td>c2-c1</td>\n",
       "      <td>79</td>\n",
       "      <td>1.0</td>\n",
       "      <td>5</td>\n",
       "      <td>5</td>\n",
       "      <td>2</td>\n",
       "      <td>7</td>\n",
       "      <td>8</td>\n",
       "      <td>0</td>\n",
       "      <td>2</td>\n",
       "      <td>4</td>\n",
       "      <td>0</td>\n",
       "      <td>5</td>\n",
       "      <td>3000</td>\n",
       "      <td>3399</td>\n",
       "      <td>3400</td>\n",
       "      <td>3599</td>\n",
       "    </tr>\n",
       "    <tr>\n",
       "      <th>6</th>\n",
       "      <td>1</td>\n",
       "      <td>c1-c2</td>\n",
       "      <td>79</td>\n",
       "      <td>1.0</td>\n",
       "      <td>6</td>\n",
       "      <td>6</td>\n",
       "      <td>1</td>\n",
       "      <td>8</td>\n",
       "      <td>10</td>\n",
       "      <td>0</td>\n",
       "      <td>3</td>\n",
       "      <td>4</td>\n",
       "      <td>0</td>\n",
       "      <td>6</td>\n",
       "      <td>3600</td>\n",
       "      <td>3999</td>\n",
       "      <td>4000</td>\n",
       "      <td>4199</td>\n",
       "    </tr>\n",
       "    <tr>\n",
       "      <th>7</th>\n",
       "      <td>1</td>\n",
       "      <td>c1-c2</td>\n",
       "      <td>79</td>\n",
       "      <td>1.0</td>\n",
       "      <td>7</td>\n",
       "      <td>7</td>\n",
       "      <td>0</td>\n",
       "      <td>10</td>\n",
       "      <td>11</td>\n",
       "      <td>0</td>\n",
       "      <td>4</td>\n",
       "      <td>4</td>\n",
       "      <td>0</td>\n",
       "      <td>7</td>\n",
       "      <td>4200</td>\n",
       "      <td>4599</td>\n",
       "      <td>4600</td>\n",
       "      <td>4799</td>\n",
       "    </tr>\n",
       "    <tr>\n",
       "      <th>8</th>\n",
       "      <td>1</td>\n",
       "      <td>c1-c2</td>\n",
       "      <td>79</td>\n",
       "      <td>1.0</td>\n",
       "      <td>8</td>\n",
       "      <td>8</td>\n",
       "      <td>-1</td>\n",
       "      <td>12</td>\n",
       "      <td>12</td>\n",
       "      <td>0</td>\n",
       "      <td>5</td>\n",
       "      <td>4</td>\n",
       "      <td>0</td>\n",
       "      <td>8</td>\n",
       "      <td>4800</td>\n",
       "      <td>5199</td>\n",
       "      <td>5200</td>\n",
       "      <td>5399</td>\n",
       "    </tr>\n",
       "    <tr>\n",
       "      <th>9</th>\n",
       "      <td>2</td>\n",
       "      <td>c2-c1</td>\n",
       "      <td>79</td>\n",
       "      <td>1.0</td>\n",
       "      <td>9</td>\n",
       "      <td>9</td>\n",
       "      <td>0</td>\n",
       "      <td>14</td>\n",
       "      <td>13</td>\n",
       "      <td>0</td>\n",
       "      <td>5</td>\n",
       "      <td>5</td>\n",
       "      <td>0</td>\n",
       "      <td>9</td>\n",
       "      <td>5400</td>\n",
       "      <td>5799</td>\n",
       "      <td>5800</td>\n",
       "      <td>5999</td>\n",
       "    </tr>\n",
       "    <tr>\n",
       "      <th>10</th>\n",
       "      <td>1</td>\n",
       "      <td>c1-c2</td>\n",
       "      <td>79</td>\n",
       "      <td>1.0</td>\n",
       "      <td>10</td>\n",
       "      <td>10</td>\n",
       "      <td>-1</td>\n",
       "      <td>15</td>\n",
       "      <td>15</td>\n",
       "      <td>0</td>\n",
       "      <td>6</td>\n",
       "      <td>5</td>\n",
       "      <td>0</td>\n",
       "      <td>10</td>\n",
       "      <td>6000</td>\n",
       "      <td>6399</td>\n",
       "      <td>6400</td>\n",
       "      <td>6599</td>\n",
       "    </tr>\n",
       "    <tr>\n",
       "      <th>11</th>\n",
       "      <td>2</td>\n",
       "      <td>c2-c1</td>\n",
       "      <td>79</td>\n",
       "      <td>1.0</td>\n",
       "      <td>11</td>\n",
       "      <td>11</td>\n",
       "      <td>0</td>\n",
       "      <td>17</td>\n",
       "      <td>16</td>\n",
       "      <td>0</td>\n",
       "      <td>6</td>\n",
       "      <td>6</td>\n",
       "      <td>0</td>\n",
       "      <td>11</td>\n",
       "      <td>6600</td>\n",
       "      <td>6999</td>\n",
       "      <td>7000</td>\n",
       "      <td>7199</td>\n",
       "    </tr>\n",
       "    <tr>\n",
       "      <th>12</th>\n",
       "      <td>2</td>\n",
       "      <td>c2-c1</td>\n",
       "      <td>79</td>\n",
       "      <td>1.0</td>\n",
       "      <td>12</td>\n",
       "      <td>12</td>\n",
       "      <td>1</td>\n",
       "      <td>18</td>\n",
       "      <td>18</td>\n",
       "      <td>0</td>\n",
       "      <td>6</td>\n",
       "      <td>7</td>\n",
       "      <td>0</td>\n",
       "      <td>12</td>\n",
       "      <td>7200</td>\n",
       "      <td>7599</td>\n",
       "      <td>7600</td>\n",
       "      <td>7799</td>\n",
       "    </tr>\n",
       "    <tr>\n",
       "      <th>13</th>\n",
       "      <td>2</td>\n",
       "      <td>c2-c1</td>\n",
       "      <td>79</td>\n",
       "      <td>1.0</td>\n",
       "      <td>13</td>\n",
       "      <td>13</td>\n",
       "      <td>2</td>\n",
       "      <td>19</td>\n",
       "      <td>20</td>\n",
       "      <td>0</td>\n",
       "      <td>6</td>\n",
       "      <td>8</td>\n",
       "      <td>0</td>\n",
       "      <td>13</td>\n",
       "      <td>7800</td>\n",
       "      <td>8199</td>\n",
       "      <td>8200</td>\n",
       "      <td>8399</td>\n",
       "    </tr>\n",
       "    <tr>\n",
       "      <th>14</th>\n",
       "      <td>2</td>\n",
       "      <td>c2-c1</td>\n",
       "      <td>79</td>\n",
       "      <td>1.0</td>\n",
       "      <td>14</td>\n",
       "      <td>14</td>\n",
       "      <td>3</td>\n",
       "      <td>20</td>\n",
       "      <td>22</td>\n",
       "      <td>0</td>\n",
       "      <td>6</td>\n",
       "      <td>9</td>\n",
       "      <td>0</td>\n",
       "      <td>14</td>\n",
       "      <td>8400</td>\n",
       "      <td>8799</td>\n",
       "      <td>8800</td>\n",
       "      <td>8999</td>\n",
       "    </tr>\n",
       "    <tr>\n",
       "      <th>15</th>\n",
       "      <td>1</td>\n",
       "      <td>c1-c2</td>\n",
       "      <td>79</td>\n",
       "      <td>1.0</td>\n",
       "      <td>15</td>\n",
       "      <td>15</td>\n",
       "      <td>2</td>\n",
       "      <td>21</td>\n",
       "      <td>24</td>\n",
       "      <td>0</td>\n",
       "      <td>7</td>\n",
       "      <td>9</td>\n",
       "      <td>0</td>\n",
       "      <td>15</td>\n",
       "      <td>9000</td>\n",
       "      <td>9399</td>\n",
       "      <td>9400</td>\n",
       "      <td>9599</td>\n",
       "    </tr>\n",
       "    <tr>\n",
       "      <th>16</th>\n",
       "      <td>2</td>\n",
       "      <td>c2-c1</td>\n",
       "      <td>79</td>\n",
       "      <td>1.0</td>\n",
       "      <td>16</td>\n",
       "      <td>16</td>\n",
       "      <td>3</td>\n",
       "      <td>23</td>\n",
       "      <td>25</td>\n",
       "      <td>0</td>\n",
       "      <td>7</td>\n",
       "      <td>10</td>\n",
       "      <td>0</td>\n",
       "      <td>16</td>\n",
       "      <td>9600</td>\n",
       "      <td>9999</td>\n",
       "      <td>10000</td>\n",
       "      <td>10199</td>\n",
       "    </tr>\n",
       "    <tr>\n",
       "      <th>17</th>\n",
       "      <td>1</td>\n",
       "      <td>c1-c2</td>\n",
       "      <td>79</td>\n",
       "      <td>1.0</td>\n",
       "      <td>17</td>\n",
       "      <td>17</td>\n",
       "      <td>2</td>\n",
       "      <td>24</td>\n",
       "      <td>27</td>\n",
       "      <td>0</td>\n",
       "      <td>8</td>\n",
       "      <td>10</td>\n",
       "      <td>0</td>\n",
       "      <td>17</td>\n",
       "      <td>10200</td>\n",
       "      <td>10599</td>\n",
       "      <td>10600</td>\n",
       "      <td>10799</td>\n",
       "    </tr>\n",
       "    <tr>\n",
       "      <th>18</th>\n",
       "      <td>2</td>\n",
       "      <td>c2-c1</td>\n",
       "      <td>79</td>\n",
       "      <td>1.0</td>\n",
       "      <td>18</td>\n",
       "      <td>18</td>\n",
       "      <td>3</td>\n",
       "      <td>26</td>\n",
       "      <td>28</td>\n",
       "      <td>0</td>\n",
       "      <td>8</td>\n",
       "      <td>11</td>\n",
       "      <td>0</td>\n",
       "      <td>18</td>\n",
       "      <td>10800</td>\n",
       "      <td>11199</td>\n",
       "      <td>11200</td>\n",
       "      <td>11399</td>\n",
       "    </tr>\n",
       "    <tr>\n",
       "      <th>19</th>\n",
       "      <td>2</td>\n",
       "      <td>c2-c1</td>\n",
       "      <td>79</td>\n",
       "      <td>1.0</td>\n",
       "      <td>19</td>\n",
       "      <td>19</td>\n",
       "      <td>4</td>\n",
       "      <td>27</td>\n",
       "      <td>30</td>\n",
       "      <td>0</td>\n",
       "      <td>8</td>\n",
       "      <td>12</td>\n",
       "      <td>0</td>\n",
       "      <td>19</td>\n",
       "      <td>11400</td>\n",
       "      <td>11799</td>\n",
       "      <td>11800</td>\n",
       "      <td>11999</td>\n",
       "    </tr>\n",
       "    <tr>\n",
       "      <th>20</th>\n",
       "      <td>2</td>\n",
       "      <td>c2-c1</td>\n",
       "      <td>79</td>\n",
       "      <td>1.0</td>\n",
       "      <td>20</td>\n",
       "      <td>20</td>\n",
       "      <td>5</td>\n",
       "      <td>28</td>\n",
       "      <td>32</td>\n",
       "      <td>0</td>\n",
       "      <td>8</td>\n",
       "      <td>13</td>\n",
       "      <td>0</td>\n",
       "      <td>20</td>\n",
       "      <td>12000</td>\n",
       "      <td>12399</td>\n",
       "      <td>12400</td>\n",
       "      <td>12599</td>\n",
       "    </tr>\n",
       "    <tr>\n",
       "      <th>21</th>\n",
       "      <td>2</td>\n",
       "      <td>c2-c1</td>\n",
       "      <td>79</td>\n",
       "      <td>1.0</td>\n",
       "      <td>21</td>\n",
       "      <td>21</td>\n",
       "      <td>6</td>\n",
       "      <td>29</td>\n",
       "      <td>34</td>\n",
       "      <td>0</td>\n",
       "      <td>8</td>\n",
       "      <td>14</td>\n",
       "      <td>0</td>\n",
       "      <td>21</td>\n",
       "      <td>12600</td>\n",
       "      <td>12999</td>\n",
       "      <td>13000</td>\n",
       "      <td>13199</td>\n",
       "    </tr>\n",
       "    <tr>\n",
       "      <th>22</th>\n",
       "      <td>2</td>\n",
       "      <td>c2-c1</td>\n",
       "      <td>79</td>\n",
       "      <td>1.0</td>\n",
       "      <td>22</td>\n",
       "      <td>22</td>\n",
       "      <td>7</td>\n",
       "      <td>30</td>\n",
       "      <td>36</td>\n",
       "      <td>0</td>\n",
       "      <td>8</td>\n",
       "      <td>15</td>\n",
       "      <td>0</td>\n",
       "      <td>22</td>\n",
       "      <td>13200</td>\n",
       "      <td>13599</td>\n",
       "      <td>13600</td>\n",
       "      <td>13799</td>\n",
       "    </tr>\n",
       "    <tr>\n",
       "      <th>23</th>\n",
       "      <td>1</td>\n",
       "      <td>c1-c2</td>\n",
       "      <td>79</td>\n",
       "      <td>1.0</td>\n",
       "      <td>23</td>\n",
       "      <td>23</td>\n",
       "      <td>6</td>\n",
       "      <td>31</td>\n",
       "      <td>38</td>\n",
       "      <td>0</td>\n",
       "      <td>9</td>\n",
       "      <td>15</td>\n",
       "      <td>0</td>\n",
       "      <td>23</td>\n",
       "      <td>13800</td>\n",
       "      <td>14199</td>\n",
       "      <td>14200</td>\n",
       "      <td>14399</td>\n",
       "    </tr>\n",
       "    <tr>\n",
       "      <th>24</th>\n",
       "      <td>2</td>\n",
       "      <td>c2-c1</td>\n",
       "      <td>79</td>\n",
       "      <td>1.0</td>\n",
       "      <td>24</td>\n",
       "      <td>24</td>\n",
       "      <td>7</td>\n",
       "      <td>33</td>\n",
       "      <td>39</td>\n",
       "      <td>0</td>\n",
       "      <td>9</td>\n",
       "      <td>16</td>\n",
       "      <td>0</td>\n",
       "      <td>24</td>\n",
       "      <td>14400</td>\n",
       "      <td>14799</td>\n",
       "      <td>14800</td>\n",
       "      <td>14999</td>\n",
       "    </tr>\n",
       "    <tr>\n",
       "      <th>25</th>\n",
       "      <td>2</td>\n",
       "      <td>c2-c1</td>\n",
       "      <td>79</td>\n",
       "      <td>1.0</td>\n",
       "      <td>25</td>\n",
       "      <td>25</td>\n",
       "      <td>8</td>\n",
       "      <td>34</td>\n",
       "      <td>41</td>\n",
       "      <td>0</td>\n",
       "      <td>9</td>\n",
       "      <td>17</td>\n",
       "      <td>0</td>\n",
       "      <td>25</td>\n",
       "      <td>15000</td>\n",
       "      <td>15399</td>\n",
       "      <td>15400</td>\n",
       "      <td>15599</td>\n",
       "    </tr>\n",
       "    <tr>\n",
       "      <th>26</th>\n",
       "      <td>1</td>\n",
       "      <td>c1-c2</td>\n",
       "      <td>79</td>\n",
       "      <td>1.0</td>\n",
       "      <td>26</td>\n",
       "      <td>26</td>\n",
       "      <td>7</td>\n",
       "      <td>35</td>\n",
       "      <td>43</td>\n",
       "      <td>0</td>\n",
       "      <td>10</td>\n",
       "      <td>17</td>\n",
       "      <td>0</td>\n",
       "      <td>26</td>\n",
       "      <td>15600</td>\n",
       "      <td>15999</td>\n",
       "      <td>16000</td>\n",
       "      <td>16199</td>\n",
       "    </tr>\n",
       "    <tr>\n",
       "      <th>27</th>\n",
       "      <td>2</td>\n",
       "      <td>c2-c1</td>\n",
       "      <td>79</td>\n",
       "      <td>1.0</td>\n",
       "      <td>27</td>\n",
       "      <td>27</td>\n",
       "      <td>8</td>\n",
       "      <td>37</td>\n",
       "      <td>44</td>\n",
       "      <td>0</td>\n",
       "      <td>10</td>\n",
       "      <td>18</td>\n",
       "      <td>0</td>\n",
       "      <td>27</td>\n",
       "      <td>16200</td>\n",
       "      <td>16599</td>\n",
       "      <td>16600</td>\n",
       "      <td>16799</td>\n",
       "    </tr>\n",
       "    <tr>\n",
       "      <th>28</th>\n",
       "      <td>1</td>\n",
       "      <td>c1-c2</td>\n",
       "      <td>79</td>\n",
       "      <td>1.0</td>\n",
       "      <td>28</td>\n",
       "      <td>28</td>\n",
       "      <td>7</td>\n",
       "      <td>38</td>\n",
       "      <td>46</td>\n",
       "      <td>0</td>\n",
       "      <td>11</td>\n",
       "      <td>18</td>\n",
       "      <td>0</td>\n",
       "      <td>28</td>\n",
       "      <td>16800</td>\n",
       "      <td>17199</td>\n",
       "      <td>17200</td>\n",
       "      <td>17399</td>\n",
       "    </tr>\n",
       "    <tr>\n",
       "      <th>29</th>\n",
       "      <td>2</td>\n",
       "      <td>c2-c1</td>\n",
       "      <td>79</td>\n",
       "      <td>1.0</td>\n",
       "      <td>29</td>\n",
       "      <td>29</td>\n",
       "      <td>8</td>\n",
       "      <td>40</td>\n",
       "      <td>47</td>\n",
       "      <td>0</td>\n",
       "      <td>11</td>\n",
       "      <td>19</td>\n",
       "      <td>0</td>\n",
       "      <td>29</td>\n",
       "      <td>17400</td>\n",
       "      <td>17799</td>\n",
       "      <td>17800</td>\n",
       "      <td>17999</td>\n",
       "    </tr>\n",
       "    <tr>\n",
       "      <th>30</th>\n",
       "      <td>2</td>\n",
       "      <td>c2-c1</td>\n",
       "      <td>79</td>\n",
       "      <td>1.0</td>\n",
       "      <td>30</td>\n",
       "      <td>30</td>\n",
       "      <td>9</td>\n",
       "      <td>41</td>\n",
       "      <td>49</td>\n",
       "      <td>0</td>\n",
       "      <td>11</td>\n",
       "      <td>20</td>\n",
       "      <td>0</td>\n",
       "      <td>30</td>\n",
       "      <td>18000</td>\n",
       "      <td>18399</td>\n",
       "      <td>18400</td>\n",
       "      <td>18599</td>\n",
       "    </tr>\n",
       "    <tr>\n",
       "      <th>31</th>\n",
       "      <td>1</td>\n",
       "      <td>c1-c2</td>\n",
       "      <td>79</td>\n",
       "      <td>1.0</td>\n",
       "      <td>31</td>\n",
       "      <td>31</td>\n",
       "      <td>8</td>\n",
       "      <td>42</td>\n",
       "      <td>51</td>\n",
       "      <td>0</td>\n",
       "      <td>12</td>\n",
       "      <td>20</td>\n",
       "      <td>0</td>\n",
       "      <td>31</td>\n",
       "      <td>18600</td>\n",
       "      <td>18999</td>\n",
       "      <td>19000</td>\n",
       "      <td>19199</td>\n",
       "    </tr>\n",
       "    <tr>\n",
       "      <th>32</th>\n",
       "      <td>2</td>\n",
       "      <td>c2-c1</td>\n",
       "      <td>79</td>\n",
       "      <td>1.0</td>\n",
       "      <td>32</td>\n",
       "      <td>32</td>\n",
       "      <td>9</td>\n",
       "      <td>44</td>\n",
       "      <td>52</td>\n",
       "      <td>0</td>\n",
       "      <td>12</td>\n",
       "      <td>21</td>\n",
       "      <td>0</td>\n",
       "      <td>32</td>\n",
       "      <td>19200</td>\n",
       "      <td>19599</td>\n",
       "      <td>19600</td>\n",
       "      <td>19799</td>\n",
       "    </tr>\n",
       "    <tr>\n",
       "      <th>33</th>\n",
       "      <td>1</td>\n",
       "      <td>c1-c2</td>\n",
       "      <td>79</td>\n",
       "      <td>1.0</td>\n",
       "      <td>33</td>\n",
       "      <td>33</td>\n",
       "      <td>8</td>\n",
       "      <td>45</td>\n",
       "      <td>54</td>\n",
       "      <td>0</td>\n",
       "      <td>13</td>\n",
       "      <td>21</td>\n",
       "      <td>0</td>\n",
       "      <td>33</td>\n",
       "      <td>19800</td>\n",
       "      <td>20199</td>\n",
       "      <td>20200</td>\n",
       "      <td>20399</td>\n",
       "    </tr>\n",
       "    <tr>\n",
       "      <th>34</th>\n",
       "      <td>2</td>\n",
       "      <td>c2-c1</td>\n",
       "      <td>79</td>\n",
       "      <td>1.0</td>\n",
       "      <td>34</td>\n",
       "      <td>34</td>\n",
       "      <td>9</td>\n",
       "      <td>47</td>\n",
       "      <td>55</td>\n",
       "      <td>0</td>\n",
       "      <td>13</td>\n",
       "      <td>22</td>\n",
       "      <td>0</td>\n",
       "      <td>34</td>\n",
       "      <td>20400</td>\n",
       "      <td>20799</td>\n",
       "      <td>20800</td>\n",
       "      <td>20999</td>\n",
       "    </tr>\n",
       "    <tr>\n",
       "      <th>35</th>\n",
       "      <td>2</td>\n",
       "      <td>c2-c1</td>\n",
       "      <td>79</td>\n",
       "      <td>1.0</td>\n",
       "      <td>35</td>\n",
       "      <td>35</td>\n",
       "      <td>10</td>\n",
       "      <td>48</td>\n",
       "      <td>57</td>\n",
       "      <td>0</td>\n",
       "      <td>13</td>\n",
       "      <td>23</td>\n",
       "      <td>0</td>\n",
       "      <td>35</td>\n",
       "      <td>21000</td>\n",
       "      <td>21399</td>\n",
       "      <td>21400</td>\n",
       "      <td>21599</td>\n",
       "    </tr>\n",
       "    <tr>\n",
       "      <th>36</th>\n",
       "      <td>2</td>\n",
       "      <td>c2-c1</td>\n",
       "      <td>79</td>\n",
       "      <td>1.0</td>\n",
       "      <td>36</td>\n",
       "      <td>36</td>\n",
       "      <td>11</td>\n",
       "      <td>49</td>\n",
       "      <td>59</td>\n",
       "      <td>0</td>\n",
       "      <td>13</td>\n",
       "      <td>24</td>\n",
       "      <td>0</td>\n",
       "      <td>36</td>\n",
       "      <td>21600</td>\n",
       "      <td>21999</td>\n",
       "      <td>22000</td>\n",
       "      <td>22199</td>\n",
       "    </tr>\n",
       "    <tr>\n",
       "      <th>37</th>\n",
       "      <td>2</td>\n",
       "      <td>c2-c1</td>\n",
       "      <td>79</td>\n",
       "      <td>1.0</td>\n",
       "      <td>37</td>\n",
       "      <td>37</td>\n",
       "      <td>12</td>\n",
       "      <td>50</td>\n",
       "      <td>61</td>\n",
       "      <td>0</td>\n",
       "      <td>13</td>\n",
       "      <td>25</td>\n",
       "      <td>0</td>\n",
       "      <td>37</td>\n",
       "      <td>22200</td>\n",
       "      <td>22599</td>\n",
       "      <td>22600</td>\n",
       "      <td>22799</td>\n",
       "    </tr>\n",
       "    <tr>\n",
       "      <th>38</th>\n",
       "      <td>2</td>\n",
       "      <td>c2-c1</td>\n",
       "      <td>79</td>\n",
       "      <td>1.0</td>\n",
       "      <td>38</td>\n",
       "      <td>38</td>\n",
       "      <td>13</td>\n",
       "      <td>51</td>\n",
       "      <td>63</td>\n",
       "      <td>0</td>\n",
       "      <td>13</td>\n",
       "      <td>26</td>\n",
       "      <td>0</td>\n",
       "      <td>38</td>\n",
       "      <td>22800</td>\n",
       "      <td>23199</td>\n",
       "      <td>23200</td>\n",
       "      <td>23399</td>\n",
       "    </tr>\n",
       "    <tr>\n",
       "      <th>39</th>\n",
       "      <td>2</td>\n",
       "      <td>c2-c1</td>\n",
       "      <td>79</td>\n",
       "      <td>NaN</td>\n",
       "      <td>39</td>\n",
       "      <td>39</td>\n",
       "      <td>14</td>\n",
       "      <td>52</td>\n",
       "      <td>65</td>\n",
       "      <td>0</td>\n",
       "      <td>13</td>\n",
       "      <td>27</td>\n",
       "      <td>0</td>\n",
       "      <td>39</td>\n",
       "      <td>23400</td>\n",
       "      <td>23799</td>\n",
       "      <td>23800</td>\n",
       "      <td>23999</td>\n",
       "    </tr>\n",
       "  </tbody>\n",
       "</table>\n",
       "</div>"
      ],
      "text/plain": [
       "    Class  Order  Trial  Accuracy  C1NoTest  C2NoTest  CountDiff  C1+Test  \\\n",
       "0       1  c1-c2     79       1.0         0         0         -1        0   \n",
       "1       1  c1-c2     79       1.0         1         1         -2        2   \n",
       "2       2  c2-c1     79       1.0         2         2         -1        4   \n",
       "3       2  c2-c1     79       1.0         3         3          0        5   \n",
       "4       2  c2-c1     79       1.0         4         4          1        6   \n",
       "5       2  c2-c1     79       1.0         5         5          2        7   \n",
       "6       1  c1-c2     79       1.0         6         6          1        8   \n",
       "7       1  c1-c2     79       1.0         7         7          0       10   \n",
       "8       1  c1-c2     79       1.0         8         8         -1       12   \n",
       "9       2  c2-c1     79       1.0         9         9          0       14   \n",
       "10      1  c1-c2     79       1.0        10        10         -1       15   \n",
       "11      2  c2-c1     79       1.0        11        11          0       17   \n",
       "12      2  c2-c1     79       1.0        12        12          1       18   \n",
       "13      2  c2-c1     79       1.0        13        13          2       19   \n",
       "14      2  c2-c1     79       1.0        14        14          3       20   \n",
       "15      1  c1-c2     79       1.0        15        15          2       21   \n",
       "16      2  c2-c1     79       1.0        16        16          3       23   \n",
       "17      1  c1-c2     79       1.0        17        17          2       24   \n",
       "18      2  c2-c1     79       1.0        18        18          3       26   \n",
       "19      2  c2-c1     79       1.0        19        19          4       27   \n",
       "20      2  c2-c1     79       1.0        20        20          5       28   \n",
       "21      2  c2-c1     79       1.0        21        21          6       29   \n",
       "22      2  c2-c1     79       1.0        22        22          7       30   \n",
       "23      1  c1-c2     79       1.0        23        23          6       31   \n",
       "24      2  c2-c1     79       1.0        24        24          7       33   \n",
       "25      2  c2-c1     79       1.0        25        25          8       34   \n",
       "26      1  c1-c2     79       1.0        26        26          7       35   \n",
       "27      2  c2-c1     79       1.0        27        27          8       37   \n",
       "28      1  c1-c2     79       1.0        28        28          7       38   \n",
       "29      2  c2-c1     79       1.0        29        29          8       40   \n",
       "30      2  c2-c1     79       1.0        30        30          9       41   \n",
       "31      1  c1-c2     79       1.0        31        31          8       42   \n",
       "32      2  c2-c1     79       1.0        32        32          9       44   \n",
       "33      1  c1-c2     79       1.0        33        33          8       45   \n",
       "34      2  c2-c1     79       1.0        34        34          9       47   \n",
       "35      2  c2-c1     79       1.0        35        35         10       48   \n",
       "36      2  c2-c1     79       1.0        36        36         11       49   \n",
       "37      2  c2-c1     79       1.0        37        37         12       50   \n",
       "38      2  c2-c1     79       1.0        38        38         13       51   \n",
       "39      2  c2-c1     79       NaN        39        39         14       52   \n",
       "\n",
       "    C2+Test  C1C1count  C1C2count  C2C1count  C2C2count  OrderVal  \\\n",
       "0         0          0          1          0          0         0   \n",
       "1         1          0          2          0          0         1   \n",
       "2         2          0          2          1          0         2   \n",
       "3         4          0          2          2          0         3   \n",
       "4         6          0          2          3          0         4   \n",
       "5         8          0          2          4          0         5   \n",
       "6        10          0          3          4          0         6   \n",
       "7        11          0          4          4          0         7   \n",
       "8        12          0          5          4          0         8   \n",
       "9        13          0          5          5          0         9   \n",
       "10       15          0          6          5          0        10   \n",
       "11       16          0          6          6          0        11   \n",
       "12       18          0          6          7          0        12   \n",
       "13       20          0          6          8          0        13   \n",
       "14       22          0          6          9          0        14   \n",
       "15       24          0          7          9          0        15   \n",
       "16       25          0          7         10          0        16   \n",
       "17       27          0          8         10          0        17   \n",
       "18       28          0          8         11          0        18   \n",
       "19       30          0          8         12          0        19   \n",
       "20       32          0          8         13          0        20   \n",
       "21       34          0          8         14          0        21   \n",
       "22       36          0          8         15          0        22   \n",
       "23       38          0          9         15          0        23   \n",
       "24       39          0          9         16          0        24   \n",
       "25       41          0          9         17          0        25   \n",
       "26       43          0         10         17          0        26   \n",
       "27       44          0         10         18          0        27   \n",
       "28       46          0         11         18          0        28   \n",
       "29       47          0         11         19          0        29   \n",
       "30       49          0         11         20          0        30   \n",
       "31       51          0         12         20          0        31   \n",
       "32       52          0         12         21          0        32   \n",
       "33       54          0         13         21          0        33   \n",
       "34       55          0         13         22          0        34   \n",
       "35       57          0         13         23          0        35   \n",
       "36       59          0         13         24          0        36   \n",
       "37       61          0         13         25          0        37   \n",
       "38       63          0         13         26          0        38   \n",
       "39       65          0         13         27          0        39   \n",
       "\n",
       "    Train Time Start  Train Time End  Test Time Start  Test Time End  \n",
       "0                  0             399              400            599  \n",
       "1                600             999             1000           1199  \n",
       "2               1200            1599             1600           1799  \n",
       "3               1800            2199             2200           2399  \n",
       "4               2400            2799             2800           2999  \n",
       "5               3000            3399             3400           3599  \n",
       "6               3600            3999             4000           4199  \n",
       "7               4200            4599             4600           4799  \n",
       "8               4800            5199             5200           5399  \n",
       "9               5400            5799             5800           5999  \n",
       "10              6000            6399             6400           6599  \n",
       "11              6600            6999             7000           7199  \n",
       "12              7200            7599             7600           7799  \n",
       "13              7800            8199             8200           8399  \n",
       "14              8400            8799             8800           8999  \n",
       "15              9000            9399             9400           9599  \n",
       "16              9600            9999            10000          10199  \n",
       "17             10200           10599            10600          10799  \n",
       "18             10800           11199            11200          11399  \n",
       "19             11400           11799            11800          11999  \n",
       "20             12000           12399            12400          12599  \n",
       "21             12600           12999            13000          13199  \n",
       "22             13200           13599            13600          13799  \n",
       "23             13800           14199            14200          14399  \n",
       "24             14400           14799            14800          14999  \n",
       "25             15000           15399            15400          15599  \n",
       "26             15600           15999            16000          16199  \n",
       "27             16200           16599            16600          16799  \n",
       "28             16800           17199            17200          17399  \n",
       "29             17400           17799            17800          17999  \n",
       "30             18000           18399            18400          18599  \n",
       "31             18600           18999            19000          19199  \n",
       "32             19200           19599            19600          19799  \n",
       "33             19800           20199            20200          20399  \n",
       "34             20400           20799            20800          20999  \n",
       "35             21000           21399            21400          21599  \n",
       "36             21600           21999            22000          22199  \n",
       "37             22200           22599            22600          22799  \n",
       "38             22800           23199            23200          23399  \n",
       "39             23400           23799            23800          23999  "
      ]
     },
     "execution_count": 224,
     "metadata": {},
     "output_type": "execute_result"
    }
   ],
   "source": [
    "df"
   ]
  },
  {
   "cell_type": "code",
   "execution_count": 225,
   "metadata": {},
   "outputs": [],
   "source": [
    "# #Save data for loading:\n",
    "saveName='data_350nw_1350nj_2x2_T200_b0p5_nback2'\n",
    "with open(dataLoc+'Sim Results/'+saveName+'_df.pkl', 'wb') as f:\n",
    "    pickle.dump(df, f)   \n",
    "# #Save data for GLMFIT and Functional Analysis:\n",
    "# savemat(dataLoc+'nback'+str(nback)+'_vt_target_350nw_1350nj_reinforcement_nback2.mat',{'Data':{'EdgeVoltage':vtj,'EdgeConductance':gtj,'EdgeCurrent':ctj,'NodeVoltage':vt,'Target':tar}})"
   ]
  },
  {
   "cell_type": "code",
   "execution_count": 226,
   "metadata": {},
   "outputs": [
    {
     "data": {
      "text/plain": [
       "'data_350nw_1350nj_2x2_T200_b0p5_nback2'"
      ]
     },
     "execution_count": 226,
     "metadata": {},
     "output_type": "execute_result"
    }
   ],
   "source": [
    "saveName"
   ]
  },
  {
   "cell_type": "code",
   "execution_count": 227,
   "metadata": {},
   "outputs": [],
   "source": [
    "dfAccuracy = df.groupby('Order').agg([np.mean,np.std])\n",
    "dfAccuracy= dfAccuracy['Accuracy']"
   ]
  },
  {
   "cell_type": "code",
   "execution_count": 228,
   "metadata": {
    "scrolled": true
   },
   "outputs": [
    {
     "data": {
      "text/html": [
       "<div>\n",
       "<style scoped>\n",
       "    .dataframe tbody tr th:only-of-type {\n",
       "        vertical-align: middle;\n",
       "    }\n",
       "\n",
       "    .dataframe tbody tr th {\n",
       "        vertical-align: top;\n",
       "    }\n",
       "\n",
       "    .dataframe thead th {\n",
       "        text-align: right;\n",
       "    }\n",
       "</style>\n",
       "<table border=\"1\" class=\"dataframe\">\n",
       "  <thead>\n",
       "    <tr style=\"text-align: right;\">\n",
       "      <th></th>\n",
       "      <th>mean</th>\n",
       "      <th>std</th>\n",
       "    </tr>\n",
       "    <tr>\n",
       "      <th>Order</th>\n",
       "      <th></th>\n",
       "      <th></th>\n",
       "    </tr>\n",
       "  </thead>\n",
       "  <tbody>\n",
       "    <tr>\n",
       "      <th>c1-c2</th>\n",
       "      <td>1.0</td>\n",
       "      <td>0.0</td>\n",
       "    </tr>\n",
       "    <tr>\n",
       "      <th>c2-c1</th>\n",
       "      <td>1.0</td>\n",
       "      <td>0.0</td>\n",
       "    </tr>\n",
       "  </tbody>\n",
       "</table>\n",
       "</div>"
      ],
      "text/plain": [
       "       mean  std\n",
       "Order           \n",
       "c1-c2   1.0  0.0\n",
       "c2-c1   1.0  0.0"
      ]
     },
     "execution_count": 228,
     "metadata": {},
     "output_type": "execute_result"
    }
   ],
   "source": [
    "dfAccuracy"
   ]
  },
  {
   "cell_type": "code",
   "execution_count": 229,
   "metadata": {},
   "outputs": [],
   "source": [
    "targetsNew=targets[:,0]"
   ]
  },
  {
   "cell_type": "code",
   "execution_count": 230,
   "metadata": {},
   "outputs": [],
   "source": [
    "sampleTimes=numDT*(nbacks[0]+1)"
   ]
  },
  {
   "cell_type": "code",
   "execution_count": 231,
   "metadata": {},
   "outputs": [
    {
     "data": {
      "text/plain": [
       "array([1.36039381e-08, 1.72796528e-08, 2.09540145e-08, ...,\n",
       "       0.00000000e+00, 0.00000000e+00, 0.00000000e+00])"
      ]
     },
     "execution_count": 231,
     "metadata": {},
     "output_type": "execute_result"
    }
   ],
   "source": [
    "drain1"
   ]
  },
  {
   "cell_type": "code",
   "execution_count": 256,
   "metadata": {},
   "outputs": [
    {
     "data": {
      "image/png": "[encoded data removed]",
      "text/plain": [
       "<Figure size 4500x2400 with 3 Axes>"
      ]
     },
     "metadata": {
      "needs_background": "light"
     },
     "output_type": "display_data"
    }
   ],
   "source": [
    "#Current Strength vs Accuracy:\n",
    "import seaborn as sns\n",
    "plt.rcParams['pdf.fonttype'] = 42\n",
    "\n",
    "\n",
    "fig,ax = plt.subplots(1,1, figsize=(15, 8), dpi=300)\n",
    "x=(drain1)\n",
    "p1=ax.plot(x,'b',alpha=0.5)\n",
    "p2=ax.plot((drain2),'r',alpha=0.5)\n",
    "plt.legend([p1[0],p2[0]],['Drain 1','Drain 2'],loc='lower right',title='Current')\n",
    "\n",
    "\n",
    "if nback == 1:\n",
    "    xlimmax=830\n",
    "    vlinesStep=40\n",
    "    vlinesStart=30\n",
    "    dotpos=2\n",
    "\n",
    "if nback == 2:\n",
    "#     xlimmax=1230\n",
    "    vlinesStep=600\n",
    "    vlinesStart=500\n",
    "    dotpos=3\n",
    "elif nback == 3:\n",
    "    xlimmax=1630\n",
    "    vlinesStep=80\n",
    "    vlinesStart=70\n",
    "    dotpos=4\n",
    "    \n",
    "colrs=[]\n",
    "for val in targetsNew:\n",
    "    if val < 1:\n",
    "        colrs.append('C1')\n",
    "    else:\n",
    "        colrs.append('C2')    \n",
    "\n",
    "testColors=[]\n",
    "for i in colrs:\n",
    "    if i == 'C1':\n",
    "        testColors.append('b')\n",
    "    else:\n",
    "        testColors.append('r')\n",
    "        \n",
    "ax.set_xlabel('Time')\n",
    "ax.set_ylabel('Current')\n",
    "# ax.set_xlim([-600,24400])\n",
    "\n",
    "ax.vlines(range(vlinesStart,len(x),vlinesStep),np.min(drain2),np.max(drain2),linestyle='dashed',color=testColors,alpha=0.5)\n",
    "\n",
    "ax2=ax.twinx().twiny()\n",
    "ax2.scatter(list(range(0,len(targetsNew),1)),df['Accuracy'][:-1],c=testColors)\n",
    "ax2.set_ylim([-0.05,1.05])\n",
    "\n",
    "# ax2.set_xticklabels(np.array(range(0,121,20)))#np.round(np.array(range(vlinesStart,len(x)-20,vlinesStep))/39)-1)\n",
    "\n",
    "# testTimeVals=np.array(range(len(accuracy)))*dotpos+dotpos\n",
    "\n",
    "\n",
    "# ax2.scatter(x=range(vlinesStart,len(x)-20,vlinesStep),y=accuracy,c=testColors)\n",
    "\n",
    "ax2.set_xlabel('Sample Num')\n",
    "ax2.set_ylabel('Accuracy')\n",
    "# sns.scatterplot(x=testTimeVals,y='Accuracy',data=accuracy,hue=colrs[:-1],palette=['r','b'],ax=ax2)\n",
    "# ax2.legend(title='Accuracy',loc='lower left')\n",
    "# ax2.set_xlim([-20/20,(xlimmax+10)/20])\n",
    "# ax2.set_ylabel('Accuracy')\n",
    "\n",
    "# ax3=ax2.twinx()\n",
    "# p1=ax3.plot(testTimeVals[:-1],count1plustest[:-1],color='c',marker='x')\n",
    "# p2=ax3.plot(testTimeVals[:-1],count2plustest[:-1],color='m',marker='x')\n",
    "# ax3.set_xlim([-20/20,1240/20])\n",
    "\n",
    "# plt.vlines(range(3,testTimeVals.values[-1],3),0,1,linestyle='dashed',color='k',)\n",
    "# if patternSize==2:\n",
    "#     fig.savefig(saveFig+saveName+'.pdf',format='pdf',dpi=300)\n",
    "# else:\n",
    "fig.savefig(saveFig+'350w_1350j_current_time_accuracy_nback2_2x2_b0p5.pdf',format='pdf',dpi=300)\n"
   ]
  },
  {
   "cell_type": "code",
   "execution_count": 295,
   "metadata": {},
   "outputs": [
    {
     "data": {
      "image/png": "[encoded data removed]",
      "text/plain": [
       "<Figure size 432x288 with 1 Axes>"
      ]
     },
     "metadata": {
      "needs_background": "light"
     },
     "output_type": "display_data"
    }
   ],
   "source": [
    "tstart=600\n",
    "tend=1800\n",
    "dur=tend-tstart\n",
    "plt.plot(drain1[tstart:tend],label='Drain 1')\n",
    "plt.plot(drain2[tstart:tend],label='Drain 2')\n",
    "plt.hlines(np.array(thresholds)[:,0],0,dur,colors='black',linestyles='dashed',label='Threshold')\n",
    "ax=plt.gca()\n",
    "# ax.set_xticks(range(0,10))\n",
    "ax.set_xticklabels(range(tstart-200,tend+200,int(dur/6)))\n",
    "ax.set_xlabel('Timesteps')\n",
    "ax.set_ylabel('Current (A)')\n",
    "plt.legend()\n",
    "plt.savefig(saveFig+'350w_1350j_current_time_oneEpoch_nback2_2x2_b0p5.pdf',format='pdf')"
   ]
  },
  {
   "cell_type": "code",
   "execution_count": null,
   "metadata": {},
   "outputs": [],
   "source": []
  }
 ],
 "metadata": {
  "kernelspec": {
   "display_name": "Python [conda env:phd]",
   "language": "python",
   "name": "conda-env-phd-py"
  },
  "language_info": {
   "codemirror_mode": {
    "name": "ipython",
    "version": 3
   },
   "file_extension": ".py",
   "mimetype": "text/x-python",
   "name": "python",
   "nbconvert_exporter": "python",
   "pygments_lexer": "ipython3",
   "version": "3.8.12"
  }
 },
 "nbformat": 4,
 "nbformat_minor": 2
}
