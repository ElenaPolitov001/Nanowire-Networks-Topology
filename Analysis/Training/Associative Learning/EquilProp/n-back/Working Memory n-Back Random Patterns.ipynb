{
 "cells": [
  {
   "cell_type": "code",
   "execution_count": 1,
   "metadata": {},
   "outputs": [
    {
     "name": "stderr",
     "output_type": "stream",
     "text": [
      "2022-04-28 12:42:32,251:INFO:Note: NumExpr detected 20 cores but \"NUMEXPR_MAX_THREADS\" not set, so enforcing safe limit of 8.\n"
     ]
    }
   ],
   "source": [
    "import sys\n",
    "import os\n",
    "\n",
    "sys.path.append('/import/silo2/aloe8475/Documents/edamame') #point to edamame locally\n",
    "sys.path.append('/import/silo2/aloe8475/Documents/CODE/Analysis/Training/Associative Learning/EquilProp') #point to edamame locally\n",
    "\n",
    "#Choose which nw:\n",
    "nwChoice=700 #350 or 700\n",
    "\n",
    "if nwChoice == 350:\n",
    "    fileName='/import/silo2/aloe8475/Documents/Data/Associative Learning/Sparse Networks/asn_nw_00350_nj_01350_seed_1581_avl_10.00_disp_01.00_lx_50.00_ly_50.00'\n",
    "elif nwChoice == 700:\n",
    "    fileName='/import/silo2/aloe8475/Documents/Data/Associative Learning/Sparse Networks/asn_nw_00698_nj_02582_seed_002_avl_10.00_disp_01.00_lx_75.00_ly_75.00'\n",
    "\n",
    "#point to network data path ^ \n",
    "\n",
    "saveFig='/import/silo2/aloe8475/Documents/Data/Figures/Equil Prop/' \n",
    "dataLoc='/import/silo2/aloe8475/Documents/Data/Associative Learning/EquilProp/'\n",
    "\n",
    "#import edamame (neuromorphic nanowire python package by Ruomin Zhu)\n",
    "from edamame import * \n",
    "import numpy as np\n",
    "import matplotlib.pyplot as plt\n",
    "import copy\n",
    "from scipy.io import loadmat, savemat\n",
    "import networkx as nx\n",
    "from tqdm.notebook import tqdm_notebook as tqdm\n",
    "from IPython.core.debugger import set_trace\n",
    "\n",
    "import pickle \n",
    "import _pickle as cPickle\n",
    "import gzip\n",
    "\n",
    "from learning_functions import genGridNW,point_on_line,dist,getWeightedGraph\n",
    "from learning_functions import calc_cost,setupStimulus,setupSourcesOnly,runTesting,getNWState,calcOutputs\n",
    "\n",
    "\n",
    "\" Load Networks \"\n",
    "def buildNetworks(fileName,ManualSources=True,numDrains=2,numSources=9):\n",
    "    #load data\n",
    "    nw=loadmat(fileName)\n",
    "    nwSize = nw['number_of_wires'][0][0]\n",
    "    nwJunctions=nw['number_of_junctions'][0][0]\n",
    "    print('Network '+str(nwSize)+ ' Loaded')\n",
    "#     this_seed=8639\n",
    "    Network=nw\n",
    "    connectivity=connectivity__(wires_dict=Network) \n",
    "\n",
    "    #fixing file structure from Matlab:\n",
    "    connectivity.avg_length=connectivity.avg_length[0][0]\n",
    "    connectivity.number_of_junctions=connectivity.number_of_junctions[0][0]\n",
    "    connectivity.centroid_dispersion=connectivity.centroid_dispersion[0][0]\n",
    "    connectivity.dispersion=connectivity.dispersion[0][0]\n",
    "    # connectivity.generating_number_of_wires=connectivity.generating_number_of_wires[0][0]\n",
    "    connectivity.gennorm_shape=connectivity.gennorm_shape[0][0]\n",
    "    connectivity.length_x=connectivity.length_x[0][0]\n",
    "    connectivity.length_y=connectivity.length_y[0][0]\n",
    "    connectivity.number_of_wires=connectivity.number_of_wires[0][0]\n",
    "    connectivity.numOfWires=connectivity.numOfWires[0][0]\n",
    "    connectivity.numOfJunctions=connectivity.numOfJunctions[0][0]\n",
    "    connectivity.theta=connectivity.theta[0][0]\n",
    "    connectivity.this_seed=connectivity.this_seed[0][0]\n",
    "    \n",
    "    #find x and y values of each end of each wire \n",
    "    xa=connectivity.xa[0]\n",
    "    xb=connectivity.xb[0]\n",
    "    ya=connectivity.ya[0]\n",
    "    yb=connectivity.yb[0]\n",
    "\n",
    "    #Pick Electrode placement/distance apart:\n",
    "    \n",
    "    #DRAINS\n",
    "    numDrains=9\n",
    "    ex=np.zeros(numDrains)*5#*15\n",
    "    if nwSize > 500:\n",
    "        eyVal=76\n",
    "    else:\n",
    "        eyVal= 51\n",
    "    ey=np.linspace(-1,eyVal,numDrains)#(-1,101,numDrains)\n",
    "\n",
    "    elecDrain=genGridNW(xa,xb,ya,yb,ex,ey) #generate drain locations in ex, ey coordinates\n",
    "\n",
    "\n",
    "    #IN A LINE:\n",
    "    if nwSize > 500:\n",
    "        exVal=75\n",
    "        eyVal = 74\n",
    "    else:\n",
    "        exVal=50\n",
    "        eyVal=49\n",
    "    ex=np.ones(numSources)*exVal#50\n",
    "    ey=np.linspace(-2,eyVal,numSources)#(-2,99,numSources)\n",
    "    \n",
    "    #IN A 3X3 GRID:\n",
    "    # middleNWx=int(connectivity.length_x/2)+1\n",
    "    # middleNWy=int(connectivity.length_y/2)-1\n",
    "    # distBwElecs=10\n",
    "    # ex=[middleNWx-distBwElecs,middleNWx-distBwElecs,middleNWx-distBwElecs,middleNWx,middleNWx,middleNWx,middleNWx+distBwElecs,middleNWx+distBwElecs,middleNWx+distBwElecs]\n",
    "    # ey=[middleNWy-distBwElecs,middleNWy,middleNWy+distBwElecs]*3\n",
    "\n",
    "    elecSource=genGridNW(xa,xb,ya,yb,ex,ey) #generate source locations in ex, ey coordinates\n",
    "\n",
    "\n",
    "    #Manual Source Placement:\n",
    "    if ManualSources:\n",
    "        if numSources==9:\n",
    "            if nwSize > 500:\n",
    "                elecSource=[678, 260, 491, 173, 628, 424, 301, 236, 483] #700nws\n",
    "            else:\n",
    "                elecSource=[23,320,194,74, 145, 317, 129, 34, 141] #350 nws\n",
    "\n",
    "        elif numSources == 4:\n",
    "            elecSource=[320,42,161,141]\n",
    "\n",
    "#     elecDrain=elecDrain[[0,-1]]\n",
    "    \n",
    "    return connectivity,elecSource,elecDrain,nwSize,nwJunctions\n",
    "\n",
    "#Generate 9 random 3x3 patterns:\n",
    "def generatePatterns(numSamples=40):\n",
    "    pattern=[]\n",
    "    K = 3\n",
    "    N = 9\n",
    "    nback=9\n",
    "\n",
    "    arr=np.array([1]*K + [0] * (N-K))\n",
    "    for p in range(N):\n",
    "        np.random.shuffle(arr)\n",
    "        pattern.append(arr.copy())\n",
    "    target=pattern[0]\n",
    "    orig_inputs=np.array(pattern).astype('double')\n",
    "    targets=[1,2,3,4,5,6,7,8,9]\n",
    "    \n",
    "    return orig_inputs,targets\n",
    "\n",
    "#This function runs each training epoch and saves the network state at the last timestep of that epoch   \n",
    "def getNWState_backprop(training_stimulus,train,state,drains,sources,tmpTiming,tmpTargets,limVal,allVals,run_time=2,dt=0.01,disable_tqdm=False):\n",
    "    if train:\n",
    "        #remove non-target drain from simulation\n",
    "        target = tmpTargets[0]\n",
    "        drains=drains[target-1]\n",
    "        print('\\nDrain '+str(target)+ ' Only')\n",
    "\n",
    "    else:\n",
    "        print('\\nAll Drains')\n",
    "    eles = np.append(drains, sources) #all drains\n",
    "    #     if len(eles) == num_drain_training + num_source_training:\n",
    "    training_sim,cost = runSim_backprop(connectivity, \n",
    "                                   stimulus = training_stimulus,\n",
    "                                   junctionMode = 'tunneling',\n",
    "                                   dt = dt, T = run_time, \n",
    "                                   contactMode = 'preSet',\n",
    "                                   electrodes = eles,\n",
    "                                   findFirst = False,\n",
    "                                   start_state = state,\n",
    "                                   disable_tqdm=disable_tqdm,\n",
    "                                   collapse=False,tmpTiming=tmpTiming,tmpTargets=tmpTargets,\n",
    "                                   limVal=limVal,allVals=allVals)  \n",
    "    JS1 = getJunctionState(training_sim, -1) #save state\n",
    "    #     else: \n",
    "    #         print('Bless you Joel :)')\n",
    "    return training_sim,JS1   \n",
    "\n",
    "#Combine drain voltage change with runSim:\n",
    "def runSim_backprop(Connectivity, \n",
    "                    junctionMode='binary', collapse=False,\n",
    "                    criticalFlux=0.1, maxFlux=1.5e-1,\n",
    "                    contactMode='farthest', electrodes=None,\n",
    "                    dt=1e-3, T=10, \n",
    "                    stimulus = None,\n",
    "                    biasType = 'DC',\n",
    "                    onTime=0, offTime=50000000,\n",
    "                    onAmp=1, offAmp=0.005,\n",
    "                    f = 1, customSignal = None,\n",
    "                    start_state = None,\n",
    "                    lite_mode = False, save_steps = 1,\n",
    "                    findFirst = True,\n",
    "                    disable_tqdm = False,\n",
    "                    freeze_wire = None, freeze_junction = None, \n",
    "                    freeze_TimeStamp = None,tmpTiming=[],tmpTargets=[],\n",
    "                    limVal=0.5,allVals=[]):\n",
    "\n",
    "    \"\"\"\n",
    "    For the case of multi electrodes, stimulus should be in parameters.\n",
    "    See help(stimulus__) for how to generate stimulus__ objects.\n",
    "    \"\"\"\n",
    "\n",
    "    SimulationOptions = simulationOptions__(dt = dt, T = T,\n",
    "                                            connectivity = Connectivity, \n",
    "                                            contactMode = contactMode,\n",
    "                                            electrodes = electrodes)\n",
    "\n",
    "    if ((contactMode == 'preSet') and (len(electrodes) > 2)) or stimulus is not None:\n",
    "        from sys import exit\n",
    "        if stimulus == None:\n",
    "            logging.warning(f'Multiple electrodes detected. Please input stimulus in parameters!')\n",
    "            exit()\n",
    "        if len(stimulus) < len(SimulationOptions.electrodes):\n",
    "            diff = len(SimulationOptions.electrodes) - len(stimulus)\n",
    "            for _ in range(diff):\n",
    "                stimulus.append(stimulus__('Drain', T = T, dt = dt))\n",
    "\n",
    "        if len(stimulus) > len(SimulationOptions.electrodes):\n",
    "            logging.warning(f'More stimulus than electrodes. Current setup has {len(SimulationOptions.electrodes)} electrodes!')\n",
    "            exit()\n",
    "            \n",
    "        if len(stimulus[0].signal) < len(SimulationOptions.TimeVector):\n",
    "            logging.warning(f'Stimulus length not correct, current time vector has length {len(SimulationOptions.TimeVector)}!')\n",
    "            exit()\n",
    "        SimulationOptions.stimulus = stimulus\n",
    "            \n",
    "    elif contactMode == 'boundary':\n",
    "        SimulationOptions.stimulus[:int(len(SimulationOptions.electrodes)/2)] = [stimulus__(biasType = biasType, \n",
    "                                                                                        T = T, dt = dt,\n",
    "                                                                                        onTime = onTime, offTime = offTime,\n",
    "                                                                                        onAmp = onAmp, offAmp = offAmp,\n",
    "                                                                                        f = f, customSignal= customSignal)\n",
    "                                                                                        for i in range(int(len(SimulationOptions.electrodes)/2))]\n",
    "    else:\n",
    "        SimulationOptions.stimulus[0] = stimulus__(biasType = biasType, \n",
    "                                                T = T, dt = dt,\n",
    "                                                onTime = onTime, offTime = offTime,\n",
    "                                                onAmp = onAmp, offAmp = offAmp,\n",
    "                                                    f = f, customSignal= customSignal)\n",
    "    if start_state == None: \n",
    "        JunctionState = junctionState__(Connectivity.numOfJunctions, \n",
    "                                    mode = junctionMode, collapse = collapse, \n",
    "                                    criticalFlux=criticalFlux, maxFlux = maxFlux)\n",
    "    else:\n",
    "        from copy import deepcopy\n",
    "        JunctionState = deepcopy(start_state)\n",
    "    \n",
    "    kwdict = dict()\n",
    "    if (freeze_wire != None) or (freeze_junction != None):\n",
    "        kwdict = dict(freeze_wire = freeze_wire,\n",
    "                    freeze_junction = freeze_junction, \n",
    "                    freeze_TimeStamp = freeze_TimeStamp)\n",
    "        \n",
    "    this_realization,cost = simulateNetwork_backprop(SimulationOptions, Connectivity, JunctionState,tmpTiming,tmpTargets,limVal,allVals,lite_mode, disable_tqdm, save_steps, **kwdict)\n",
    "    \n",
    "    # if we stop simulation at theta, use this code. otherwise we reset voltages to 0 instead\n",
    "    \n",
    "#     finalIter=np.max(np.nonzero(this_realization.electrodeCurrent))\n",
    "#     if finalIter < 199:\n",
    "#         this_realization.electrodeCurrent=this_realization.electrodeCurrent[:finalIter+1,:]\n",
    "#         this_realization.junctionVoltage=this_realization.junctionVoltage[:finalIter+1,:]\n",
    "#         this_realization.junctionConductance=this_realization.junctionConductance[:finalIter+1,:]\n",
    "#         this_realization.wireVoltage=this_realization.wireVoltage[:finalIter+1,:]\n",
    "#         this_realization.filamentState=this_realization.filamentState[:finalIter+1,:]\n",
    "#         this_realization.junctionSwitch=this_realization.junctionSwitch[:finalIter+1,:]\n",
    "        #final Iter = time , use that to find / save network state\n",
    "        \n",
    "        \n",
    "#         this_realization.TimeVector=this_realization.TimeVector[:finalIter+1,:]\n",
    "\n",
    "    #     remove zeros from simulations that ended early:\n",
    "#     this_realization.junctionCurrent\n",
    "    \n",
    "    if findFirst:\n",
    "        from edamame.analysis.GraphTheory import findCurrent\n",
    "        try:\n",
    "            activation = findCurrent(this_realization, 1)\n",
    "            logging.info(f'First current path {activation[0][0]} formed at time = {activation[1][0]} s.')\n",
    "        except:\n",
    "            logging.info('Unfortunately, no current path is formed in simulation time.')\n",
    "\n",
    "    return this_realization,cost\n",
    "\n",
    "def simulateNetwork_backprop(simulationOptions, connectivity, junctionState,tmpTiming,tmpTargets, limVoltage,allVals,lite_mode = False, disable_tqdm = False, save_steps = 1, **kwargs):\n",
    "    niterations = simulationOptions.NumOfIterations\n",
    "    electrodes = simulationOptions.electrodes\n",
    "    numOfElectrodes = len(electrodes)\n",
    "    E = connectivity.numOfJunctions\n",
    "    V = connectivity.numOfWires\n",
    "    edgeList = connectivity.edge_list\n",
    "    cost      = []\n",
    "\n",
    "#     onAmp     = simulationOptions.stimulus[3].onAmp\n",
    "    \n",
    "#     maxV      = onAmp *limVoltage\n",
    "    \n",
    "    Network = network__()\n",
    "    sampling = np.arange(0, niterations, save_steps)\n",
    "    if lite_mode:\n",
    "        Network.connectivity = connectivity__(adjMat = connectivity.adj_matrix)\n",
    "        Network.filamentState = np.zeros((int(niterations/save_steps), E))\n",
    "        Network.wireVoltage = np.zeros((int(niterations/save_steps), V))\n",
    "        Network.electrodeCurrent = np.zeros((int(niterations/save_steps), numOfElectrodes))\n",
    "        Network.TimeVector = np.zeros(int(niterations/save_steps))\n",
    "    else:        \n",
    "        Network.connectivity = connectivity\n",
    "        Network.TimeVector = simulationOptions.TimeVector\n",
    "        Network.filamentState = np.zeros((niterations, E))\n",
    "        Network.junctionVoltage = np.zeros((niterations, E))\n",
    "        # Network.junctionResistance = np.zeros((niterations, E))\n",
    "        Network.junctionConductance = np.zeros((niterations, E))\n",
    "        Network.junctionSwitch = np.zeros((niterations, E), dtype = bool)\n",
    "        Network.wireVoltage = np.zeros((niterations, V))\n",
    "        Network.electrodeCurrent = np.zeros((niterations, numOfElectrodes))\n",
    "\n",
    "    Network.sources = []\n",
    "    Network.drains = []\n",
    "    for i in range(numOfElectrodes):\n",
    "        if np.mean(simulationOptions.stimulus[i].signal) != 0:\n",
    "            Network.sources.append(electrodes[i])\n",
    "        else:\n",
    "            Network.drains.append(electrodes[i])\n",
    "\n",
    "    if len(Network.drains) == 0:\n",
    "        Network.drains.append(electrodes[1])\n",
    "        \n",
    "    if 'freeze_wire' in kwargs:\n",
    "        freeze_wire = kwargs['freeze_wire']\n",
    "        freeze_TimeStamp = kwargs['freeze_TimeStamp']\n",
    "    else:\n",
    "        freeze_TimeStamp = niterations + 1\n",
    "    \n",
    "    \n",
    "    stopTrain=False\n",
    "    for this_time in tqdm(range(niterations), desc='Running Simulation ', disable = disable_tqdm): #each time step\n",
    "        if not stopTrain: #if training and reached theta or testing\n",
    "            this_stimulus = np.array([i.signal[this_time] for i in simulationOptions.stimulus])\n",
    "#         else:\n",
    "#             break\n",
    "        if tmpTiming[this_time]=='Train':\n",
    "            trainTime=True\n",
    "            \n",
    "        elif tmpTiming[this_time]=='Test':\n",
    "\n",
    "            trainTime=False\n",
    "\n",
    "        if trainTime and this_time > 0 and not stopTrain: #if we are training, change drain voltages, otherwise just use this_stimulus\n",
    "            \n",
    "            this_stimulus[:num_drain_training]=new_stimulus\n",
    "\n",
    "        #run sim   \n",
    "        sol = simCore(connectivity, junctionState, this_stimulus, electrodes, simulationOptions.dt)\n",
    "\n",
    "        if this_time >= freeze_TimeStamp:\n",
    "            others = np.setdiff1d(range(V), freeze_wire)\n",
    "            wireVoltage[others] = sol[others]\n",
    "        else:\n",
    "            wireVoltage = sol[0:V]\n",
    "\n",
    "        if lite_mode:\n",
    "            if this_time%save_steps == 0:\n",
    "                Network.wireVoltage[this_time//save_steps,:] = wireVoltage\n",
    "                Network.electrodeCurrent[this_time//save_steps,:] = sol[V:]\n",
    "                Network.filamentState[this_time//save_steps,:] = junctionState.filamentState\n",
    "                Network.TimeVector[this_time//save_steps] = simulationOptions.TimeVector[this_time]\n",
    "        else:\n",
    "            Network.wireVoltage[this_time,:] = wireVoltage\n",
    "            Network.electrodeCurrent[this_time,:] = sol[V:]\n",
    "            Network.filamentState[this_time,:] = junctionState.filamentState\n",
    "            Network.junctionVoltage[this_time,:] = junctionState.voltage\n",
    "            Network.junctionConductance[this_time,:] = junctionState.conductance\n",
    "            Network.junctionSwitch[this_time,:] = junctionState.OnOrOff\n",
    "\n",
    "        ## BackProp Implementation\n",
    "        if trainTime:\n",
    "            n = num_drain_training #num of drains\n",
    "            y = Network.electrodeCurrent[this_time,:num_drain_training]\n",
    "        else:\n",
    "            n = num_drain_testing\n",
    "            y = Network.electrodeCurrent[this_time,:num_drain_testing]\n",
    "            \n",
    "        beta      = 0.05 #learning rate\n",
    "        grad      = np.zeros((n)) #set gradients to zero for each epoch  \n",
    "        \n",
    "        drainCurrents=y #copy of current\n",
    "\n",
    "        if tmpTargets[this_time] != -2: #skip rest values\n",
    "            tarIdx=tmpTargets[this_time]\n",
    "            y = y/(maxCurrent) # normalize current\n",
    "\n",
    "            d = 1 #allTargets[tarIdx] #define target normalized current\n",
    "            if trainTime: \n",
    "                dsig = this_stimulus[:num_drain_training] #define new drain voltage\n",
    "            else:\n",
    "                dsig = this_stimulus[:num_drain_testing]\n",
    "                \n",
    "            #calc cost\n",
    "            cost.append(calc_cost(y,d))\n",
    "\n",
    "            if trainTime and not stopTrain: #if we are training, update beta\n",
    "                if drainCurrents[0]>=allVals[tarIdx-1]: #if greater or less than the target current\n",
    "                    this_stimulus=np.zeros(len(this_stimulus)) #make everything 0V (inputs + drains)\n",
    "                    stopTrain=True\n",
    "                else:\n",
    "                    stopTrain=False \n",
    "\n",
    "                \n",
    "                if not stopTrain:        \n",
    "                    grad=beta*(y-d) #y = current, d = target #e.g. [y1 vs (d1 = 1), y2 vs (d2 = 0), y3vs (d3 = 0)]\n",
    "\n",
    "                    #dsig = old voltage drains, dsig2 = new voltage drains, onAmp = input voltage\n",
    "\n",
    "                    dsig2=np.array(dsig.T+grad)\n",
    "\n",
    "                    dsig2=np.clip(dsig2,-onAmp*0.9,onAmp*0.9) #set max and min voltages to less than inputs\n",
    "\n",
    "                    new_stimulus=dsig2\n",
    "\n",
    "            elif not trainTime:\n",
    "                new_stimulus=this_stimulus[:num_drain_testing]\n",
    "\n",
    "    print('Target: 1')\n",
    "#     print('Voltage: '+ str(new_stimulus))\n",
    "    \n",
    "    Network.numOfWires = V\n",
    "    Network.numOfJunctions = E\n",
    "    Network.electrodes = simulationOptions.electrodes\n",
    "    if len(electrodes) <= 2:\n",
    "        Network.conductance = Network.electrodeCurrent[:,1]/simulationOptions.stimulus[0].signal[sampling]\n",
    "    if not lite_mode:\n",
    "        Network.stimulus = [simulationOptions.stimulus[i] for i in range(numOfElectrodes)]\n",
    "        Network.junctionResistance = 1/Network.junctionConductance\n",
    "    \n",
    "#     print(Network.electrodeCurrent[:,1])\n",
    "    return Network,cost\n",
    "\n",
    "\n",
    "\n",
    "def runNBACK(onAmp,onAmpTest,dt,Tlen,timesteps,numDT,restDur,nbacks=[],maxCurrent=[1e-5,1e-5],limVal=0.5,accThresh=0.5,increaseVal=0.5,decreaseVal=0.25,accThreshold=False,orderTraining=[]):\n",
    "    \"\"\"\n",
    "    n-back task:\n",
    "    input sample 1 with backprop, then sample 2 with backprop, then sample 1 again with reset drain voltages \n",
    "    n back here = 1, showing memory\n",
    "    \n",
    "    train sample x, test sample x + nback (e.g. nback = 2, sample = [s1 train,s2,s3,s1 test] )\n",
    "\n",
    "    increase n-back: \n",
    "    sample 1 with backprop, sample 2, sample 3... test sample 1 - n=2\n",
    "    \n",
    "    Things to test:\n",
    "    - if we increase input frequency (dt), do we see greater long term memory? (higher n-backs)\n",
    "    - if we decrease frequency, do we see greater short term memory? (lower n-backs)\n",
    "\n",
    "    \"\"\"  \n",
    "    \n",
    "    t           = [[None]*900 for i in range(len(nbacks))]\n",
    "    simVoltages = []\n",
    "    saveStim    = []\n",
    "    count=0\n",
    "    for nback in nbacks: #how many samples to \"remember\" in the past before testing\n",
    "       \n",
    "        numTestingSamples= numSamples #how many samples across all nback values\n",
    "                \n",
    "        #completely random order\n",
    "\n",
    "        orderTrainingLabelsNBACK=[1]*numSamples #these are the testing labels - every i+nback training sample is what we're testing\n",
    "        orderTesting=[]\n",
    "        for label in orderTrainingLabelsNBACK: #for each training label in the random order:\n",
    "            orderTesting.append(-1)\n",
    "\n",
    "        i = nback\n",
    "        order=list(orderTraining).copy()\n",
    "        numInserts=0\n",
    "        while numInserts < numSamples:\n",
    "            order.insert(i, -1)\n",
    "            i += nback+1\n",
    "            numInserts+=1\n",
    "        \n",
    "    \n",
    "        #remove excess training (i.e. with no testing sample)\n",
    "        sampleTimes=numDT*(nback+1)\n",
    "        newTrainingOrder=orderTraining[:sampleTimes-numTestingSamples]\n",
    "\n",
    "        order=order[:sampleTimes]        \n",
    "        #RUN SIM\n",
    "        numClasses          = 9\n",
    "        signalType          ='DC'\n",
    "        num_source_training = numSources\n",
    "        tmpSources          = [[] for i in range(len(order))]\n",
    "        tmpTargets          = [None]*len(order)\n",
    "        sim                 = [None]*len(order)\n",
    "        thresholdValues     = [None]*len(order)\n",
    "        cost                = [None]*len(order)\n",
    "        simVoltages         = [None]*len(order)\n",
    "        accuracy    = []\n",
    "        timing=[]\n",
    "        allLabels=[]\n",
    "        allVals=[limVal]*9\n",
    "        \n",
    "        i=0\n",
    "        numTests = 0\n",
    "        nwState = None\n",
    "        for val in tqdm(order): #this method loops through samples in the randomised training order\n",
    "            \n",
    "            #FOR EACH SAMPLE:\n",
    "            \n",
    "            #are we training or testing?\n",
    "            if val in orderTesting:\n",
    "                test=True\n",
    "                train=False\n",
    "                newval=0\n",
    "            elif val in orderTraining:\n",
    "                test=False\n",
    "                train=True\n",
    "                newval=val\n",
    "                print('Training \\n')\n",
    "                \n",
    "            #define samples\n",
    "            if train: #if we're training\n",
    "                this_sample = inputs[newval].copy()#trainingInputs[val].copy() #xs\n",
    "                this_label  = targets[newval] #ys\n",
    "                this_sample[this_sample>0.005]=this_sample[this_sample>0.005]*onAmp #tune voltage based on onAmp\n",
    "                timing.append('Train')\n",
    "\n",
    "            elif test: #if we're testing\n",
    "                this_sample = inputs[newval].copy() #xs\n",
    "                this_label  = targets[newval] #ys\n",
    "                this_sample[this_sample>0.005]=this_sample[this_sample>0.005]*onAmpTest #CHANGE THIS TO RAMP:\n",
    "                timing.append('Test')\n",
    "\n",
    "            targetTmp = signal_expand(this_label,numDT) #number of timesteps per target\n",
    "            timing[i] = signal_expand(timing[i],numDT)\n",
    "        #     #array of nans:\n",
    "            tmpArray=np.empty(restDur)\n",
    "            tmpArray[:]=-2\n",
    "            targetTmp = np.append(targetTmp,tmpArray) #add rest #need to remove targets from rest\n",
    "            tmpTargets[i]=targetTmp \n",
    "            rampV=np.linspace(0,onAmpTest,numDT)\n",
    "            for j in range(len(this_sample)): #for each source electrode\n",
    "                tmp = signal_expand(this_sample[j],numDT)\n",
    "                tmp = np.append(tmp,np.zeros(restDur)) #add rest\n",
    "                tmpSources[i].append(tmp)\n",
    "            allLabels.append(this_label)\n",
    "            stimulus=[]\n",
    "            if train:\n",
    "                stimulus.append(stimulus__(biasType='Drain',T=dt*len(tmpSources[i][0]),dt=dt))\n",
    "\n",
    "            elif test:\n",
    "                for m in range(num_drain_testing): #create stimulus for each drain electrode\n",
    "                    stimulus.append(stimulus__(biasType='Drain',T=dt*len(tmpSources[i][m]),dt=dt))\n",
    "\n",
    "            for m in range(len(tmpSources[i])): #create stimulus for each source electrode\n",
    "                stimulus.append(stimulus__(biasType='Custom',T=dt*len(tmpSources[i][m]),dt=dt,customSignal=tmpSources[i][m]))\n",
    "            \n",
    "            signalLen=Tlen#len(stimulus[0].signal) \n",
    "            sim[i],nwState = getNWState_backprop(stimulus,train,nwState,drain_pool,sources,timing[i],tmpTargets[i].astype('int'),limVal,allVals,run_time=int(signalLen*dt),dt=dt,disable_tqdm=False)\n",
    "\n",
    "            simVoltages[i]=(sim[i].wireVoltage)\n",
    "\n",
    "            print('Currents: ' + str(sim[i].electrodeCurrent[-1][0]))\n",
    "            \n",
    "            if test: #if we are testing\n",
    "                print('Testing \\n')\n",
    "                #ADRIAN ACCURACY METHOD\n",
    "                t[count][i]=(calcOutputs(sim[i],sources,drain_pool))\n",
    "                meanCurrAll=np.mean(t[count][i][0:],axis=1)\n",
    "\n",
    "                if np.argmax(meanCurrAll)==0:\n",
    "                    accuracy.append(1)\n",
    "                else:\n",
    "                    accuracy.append(0)\n",
    "                        \n",
    "                if i >0 and reinforcement:\n",
    "                    if accuracy[numTests]==0: #if the training didn't work\n",
    "                        allVals[0]=allVals[0]+increaseVal #update 'max current limit based on reinforcement'\n",
    "                        allVals[1]=allVals[1]-decreaseVal\n",
    "                        allVals[2]=allVals[2]-decreaseVal\n",
    "                        allVals[3]=allVals[3]-decreaseVal\n",
    "                        allVals[4]=allVals[4]-decreaseVal\n",
    "                        allVals[5]=allVals[5]-decreaseVal\n",
    "                        allVals[6]=allVals[6]-decreaseVal\n",
    "                        allVals[7]=allVals[7]-decreaseVal\n",
    "                        allVals[8]=allVals[8]-decreaseVal\n",
    "                        \n",
    "#                 #ALON ACCURACY METHOD\n",
    "#                 #calucalte accuracy\n",
    "#                 accThreshold=False\n",
    "#                 if accThreshold:\n",
    "#                     #add threshold of difference to ensure accuracy:\n",
    "#                     argmaxvals=np.argmax([t[count][i][0],t[count][i][1]],axis=0)\n",
    "#                     for s in range(len(argmaxvals)):\n",
    "#                         if abs(t[count][i][0][s]-t[count][i][1][s])>1e-6 and argmaxvals[s]==1:\n",
    "#                             argmaxvals[s]=1\n",
    "#                         elif abs(t[count][i][0][s]-t[count][i][1][s])<1e-6 and argmaxvals[s] == 1:\n",
    "#                             argmaxvals[s]=0\n",
    "# #                     accuracy.append(np.sum(argmaxvals==tmpTargets[testTimes])/len(tmpTargets[testTimes]))\n",
    "#                     accuracy.append(np.sum(argmaxvals==tmpTargets[i-nback])/len(tmpTargets[i-nback]))\n",
    "#                 else:\n",
    "#                     accuracy.append(np.sum(np.argmax([t[count][i][0],t[count][i][1]],axis=0)==tmpTargets[i-nback])/len(tmpTargets[i-nback]))\n",
    "#                 if i >0:\n",
    "#                     if accuracy[numTests]<= accThresh: #if the training didn't work\n",
    "#                         if this_label==0: #drain 1\n",
    "#                             limVals0=limVals0+increaseVal #update 'max current limit based on reinforcement'\n",
    "#                             limVals1=limVals1-decreaseVal\n",
    "#                         elif this_label==1: #drain 2\n",
    "#                             limVals0=limVals0-decreaseVal\n",
    "#                             limVals1=limVals1+increaseVal                           \n",
    "#                 mval1=np.max(np.nonzero(t[count][i][0]))\n",
    "#                 mval2=np.max(np.nonzero(t[count][i][1]))\n",
    "#                 print('Final Target Drain Current: ' + str([t[count][i][0][mval1],t[count][i][1][mval2]]))\n",
    "\n",
    "                print('Currents: ' +str(sim[i].electrodeCurrent[-1][:9]))\n",
    "                print('Target: ' + str(tmpTargets[i][0]))\n",
    "                print('Accuracy: '+ str(accuracy[numTests]))\n",
    "                print(\"New Target Threshold:\" + str(allVals[0])) #just a checking/debugging print\n",
    "                numTests+=1\n",
    "            else:\n",
    "                t[count][i]=(calcOutputs(sim[i],sources,[drain_pool[int(tmpTargets[i][0])-1]]))\n",
    "#             set_trace()\n",
    "            thresholdValues[i]=allVals.copy()\n",
    "            i+=1 \n",
    "        \n",
    "        count+=1\n",
    "    set_trace()\n",
    "    return t,thresholdValues,sim,stimulus,accuracy,tmpTargets,newTrainingOrder,orderTesting,order,testTimes,trainTimes,numTestingSamples"
   ]
  },
  {
   "cell_type": "code",
   "execution_count": null,
   "metadata": {
    "scrolled": true
   },
   "outputs": [
    {
     "name": "stdout",
     "output_type": "stream",
     "text": [
      "Network 698 Loaded\n",
      "Parameters:\n",
      "\n",
      "Train V: 0.3\n",
      "Test V: 0.1\n",
      "Pattern: 3x3\n"
     ]
    },
    {
     "data": {
      "application/vnd.jupyter.widget-view+json": {
       "model_id": "9333d05301c04f8cb3ddd495ec49c532",
       "version_major": 2,
       "version_minor": 0
      },
      "text/plain": [
       "  0%|          | 0/1 [00:00<?, ?it/s]"
      ]
     },
     "metadata": {},
     "output_type": "display_data"
    },
    {
     "name": "stdout",
     "output_type": "stream",
     "text": [
      "5e-06\n"
     ]
    },
    {
     "data": {
      "application/vnd.jupyter.widget-view+json": {
       "model_id": "f9eddfaed30a4ebe81ae00d5e5a62b27",
       "version_major": 2,
       "version_minor": 0
      },
      "text/plain": [
       "  0%|          | 0/1 [00:00<?, ?it/s]"
      ]
     },
     "metadata": {},
     "output_type": "display_data"
    },
    {
     "data": {
      "application/vnd.jupyter.widget-view+json": {
       "model_id": "61e78d4c265149a793173290dcd7ca5c",
       "version_major": 2,
       "version_minor": 0
      },
      "text/plain": [
       "  0%|          | 0/900 [00:00<?, ?it/s]"
      ]
     },
     "metadata": {},
     "output_type": "display_data"
    },
    {
     "name": "stdout",
     "output_type": "stream",
     "text": [
      "Training \n",
      "\n",
      "\n",
      "Drain 5 Only\n"
     ]
    },
    {
     "data": {
      "application/vnd.jupyter.widget-view+json": {
       "model_id": "f1d06ec8656d4bfc9dfa4bff3a5ed7e3",
       "version_major": 2,
       "version_minor": 0
      },
      "text/plain": [
       "Running Simulation :   0%|          | 0/200 [00:00<?, ?it/s]"
      ]
     },
     "metadata": {},
     "output_type": "display_data"
    },
    {
     "name": "stdout",
     "output_type": "stream",
     "text": [
      "Target: 1\n",
      "Currents: 1.2748044676033098e-07\n",
      "Training \n",
      "\n",
      "\n",
      "Drain 9 Only\n"
     ]
    },
    {
     "data": {
      "application/vnd.jupyter.widget-view+json": {
       "model_id": "017b17db26714bafb0fc36f644d5b70d",
       "version_major": 2,
       "version_minor": 0
      },
      "text/plain": [
       "Running Simulation :   0%|          | 0/200 [00:00<?, ?it/s]"
      ]
     },
     "metadata": {},
     "output_type": "display_data"
    },
    {
     "name": "stdout",
     "output_type": "stream",
     "text": [
      "Target: 1\n",
      "Currents: 1.1512620077360532e-07\n",
      "Training \n",
      "\n",
      "\n",
      "Drain 1 Only\n"
     ]
    },
    {
     "data": {
      "application/vnd.jupyter.widget-view+json": {
       "model_id": "3a5981a42bbe412ba9f7fafd975d74b2",
       "version_major": 2,
       "version_minor": 0
      },
      "text/plain": [
       "Running Simulation :   0%|          | 0/200 [00:00<?, ?it/s]"
      ]
     },
     "metadata": {},
     "output_type": "display_data"
    },
    {
     "name": "stdout",
     "output_type": "stream",
     "text": [
      "Target: 1\n",
      "Currents: 8.575317085641202e-08\n",
      "Training \n",
      "\n",
      "\n",
      "Drain 6 Only\n"
     ]
    },
    {
     "data": {
      "application/vnd.jupyter.widget-view+json": {
       "model_id": "438a93dfec1d4098a79cdf0e4b285176",
       "version_major": 2,
       "version_minor": 0
      },
      "text/plain": [
       "Running Simulation :   0%|          | 0/200 [00:00<?, ?it/s]"
      ]
     },
     "metadata": {},
     "output_type": "display_data"
    },
    {
     "name": "stdout",
     "output_type": "stream",
     "text": [
      "Target: 1\n",
      "Currents: 0.0\n",
      "Training \n",
      "\n",
      "\n",
      "Drain 3 Only\n"
     ]
    },
    {
     "data": {
      "application/vnd.jupyter.widget-view+json": {
       "model_id": "113c4995ad82478ba791f58f815ecf8c",
       "version_major": 2,
       "version_minor": 0
      },
      "text/plain": [
       "Running Simulation :   0%|          | 0/200 [00:00<?, ?it/s]"
      ]
     },
     "metadata": {},
     "output_type": "display_data"
    },
    {
     "name": "stdout",
     "output_type": "stream",
     "text": [
      "Target: 1\n",
      "Currents: 0.0\n",
      "Training \n",
      "\n",
      "\n",
      "Drain 8 Only\n"
     ]
    },
    {
     "data": {
      "application/vnd.jupyter.widget-view+json": {
       "model_id": "0a8458fecf6c4c1b91b29dab24505f4c",
       "version_major": 2,
       "version_minor": 0
      },
      "text/plain": [
       "Running Simulation :   0%|          | 0/200 [00:00<?, ?it/s]"
      ]
     },
     "metadata": {},
     "output_type": "display_data"
    },
    {
     "name": "stdout",
     "output_type": "stream",
     "text": [
      "Target: 1\n",
      "Currents: 0.0\n",
      "Training \n",
      "\n",
      "\n",
      "Drain 2 Only\n"
     ]
    },
    {
     "data": {
      "application/vnd.jupyter.widget-view+json": {
       "model_id": "1b86cc14e1094f10b82b400e0a399116",
       "version_major": 2,
       "version_minor": 0
      },
      "text/plain": [
       "Running Simulation :   0%|          | 0/200 [00:00<?, ?it/s]"
      ]
     },
     "metadata": {},
     "output_type": "display_data"
    },
    {
     "name": "stdout",
     "output_type": "stream",
     "text": [
      "Target: 1\n",
      "Currents: 0.0\n",
      "Training \n",
      "\n",
      "\n",
      "Drain 4 Only\n"
     ]
    },
    {
     "data": {
      "application/vnd.jupyter.widget-view+json": {
       "model_id": "14292543422449ef899b72384561675e",
       "version_major": 2,
       "version_minor": 0
      },
      "text/plain": [
       "Running Simulation :   0%|          | 0/200 [00:00<?, ?it/s]"
      ]
     },
     "metadata": {},
     "output_type": "display_data"
    },
    {
     "name": "stdout",
     "output_type": "stream",
     "text": [
      "Target: 1\n",
      "Currents: 0.0\n",
      "Training \n",
      "\n",
      "\n",
      "Drain 7 Only\n"
     ]
    },
    {
     "data": {
      "application/vnd.jupyter.widget-view+json": {
       "model_id": "bd116c3e22e84ef48a9a9bbf2db44020",
       "version_major": 2,
       "version_minor": 0
      },
      "text/plain": [
       "Running Simulation :   0%|          | 0/200 [00:00<?, ?it/s]"
      ]
     },
     "metadata": {},
     "output_type": "display_data"
    },
    {
     "name": "stdout",
     "output_type": "stream",
     "text": [
      "Target: 1\n",
      "Currents: 0.0\n",
      "\n",
      "All Drains\n"
     ]
    },
    {
     "data": {
      "application/vnd.jupyter.widget-view+json": {
       "model_id": "fe36139ecccf441fbaba3057694611a3",
       "version_major": 2,
       "version_minor": 0
      },
      "text/plain": [
       "Running Simulation :   0%|          | 0/200 [00:00<?, ?it/s]"
      ]
     },
     "metadata": {},
     "output_type": "display_data"
    },
    {
     "name": "stdout",
     "output_type": "stream",
     "text": [
      "Target: 1\n",
      "Currents: 2.9209441068159373e-09\n",
      "Testing \n",
      "\n",
      "Currents: [2.92094411e-09 1.54149685e-07 4.48376438e-07 1.35824150e-07\n",
      " 3.27548967e-09 2.48423060e-07 3.99299213e-07 9.24843862e-08\n",
      " 3.35264663e-09]\n",
      "Target: 1.0\n",
      "Accuracy: 0\n",
      "New Target Threshold:5.833333333333334e-06\n",
      "Training \n",
      "\n",
      "\n",
      "Drain 3 Only\n"
     ]
    },
    {
     "data": {
      "application/vnd.jupyter.widget-view+json": {
       "model_id": "a1a3d1cabb1446d59d7cff6f53186c8b",
       "version_major": 2,
       "version_minor": 0
      },
      "text/plain": [
       "Running Simulation :   0%|          | 0/200 [00:00<?, ?it/s]"
      ]
     },
     "metadata": {},
     "output_type": "display_data"
    },
    {
     "name": "stdout",
     "output_type": "stream",
     "text": [
      "Target: 1\n",
      "Currents: 0.0\n",
      "Training \n",
      "\n",
      "\n",
      "Drain 6 Only\n"
     ]
    },
    {
     "data": {
      "application/vnd.jupyter.widget-view+json": {
       "model_id": "97e471edb0db4da9b83f8382e6ef2de4",
       "version_major": 2,
       "version_minor": 0
      },
      "text/plain": [
       "Running Simulation :   0%|          | 0/200 [00:00<?, ?it/s]"
      ]
     },
     "metadata": {},
     "output_type": "display_data"
    },
    {
     "name": "stdout",
     "output_type": "stream",
     "text": [
      "Target: 1\n",
      "Currents: 0.0\n",
      "Training \n",
      "\n",
      "\n",
      "Drain 4 Only\n"
     ]
    },
    {
     "data": {
      "application/vnd.jupyter.widget-view+json": {
       "model_id": "39dbf3560502489695c173d5c3af73b5",
       "version_major": 2,
       "version_minor": 0
      },
      "text/plain": [
       "Running Simulation :   0%|          | 0/200 [00:00<?, ?it/s]"
      ]
     },
     "metadata": {},
     "output_type": "display_data"
    },
    {
     "name": "stdout",
     "output_type": "stream",
     "text": [
      "Target: 1\n",
      "Currents: 0.0\n",
      "Training \n",
      "\n",
      "\n",
      "Drain 5 Only\n"
     ]
    },
    {
     "data": {
      "application/vnd.jupyter.widget-view+json": {
       "model_id": "266ec18cf8124e52ac860cd70b28c8d8",
       "version_major": 2,
       "version_minor": 0
      },
      "text/plain": [
       "Running Simulation :   0%|          | 0/200 [00:00<?, ?it/s]"
      ]
     },
     "metadata": {},
     "output_type": "display_data"
    },
    {
     "name": "stdout",
     "output_type": "stream",
     "text": [
      "Target: 1\n",
      "Currents: 0.0\n",
      "Training \n",
      "\n",
      "\n",
      "Drain 9 Only\n"
     ]
    },
    {
     "data": {
      "application/vnd.jupyter.widget-view+json": {
       "model_id": "19ae96810c644f9d9ab42655b7ea6d45",
       "version_major": 2,
       "version_minor": 0
      },
      "text/plain": [
       "Running Simulation :   0%|          | 0/200 [00:00<?, ?it/s]"
      ]
     },
     "metadata": {},
     "output_type": "display_data"
    },
    {
     "name": "stdout",
     "output_type": "stream",
     "text": [
      "Target: 1\n",
      "Currents: 0.0\n",
      "Training \n",
      "\n",
      "\n",
      "Drain 8 Only\n"
     ]
    },
    {
     "data": {
      "application/vnd.jupyter.widget-view+json": {
       "model_id": "ff8d08b6cfdd4c95a749edff77e78dce",
       "version_major": 2,
       "version_minor": 0
      },
      "text/plain": [
       "Running Simulation :   0%|          | 0/200 [00:00<?, ?it/s]"
      ]
     },
     "metadata": {},
     "output_type": "display_data"
    },
    {
     "name": "stdout",
     "output_type": "stream",
     "text": [
      "Target: 1\n",
      "Currents: 0.0\n",
      "Training \n",
      "\n",
      "\n",
      "Drain 1 Only\n"
     ]
    },
    {
     "data": {
      "application/vnd.jupyter.widget-view+json": {
       "model_id": "a874d944eac94b45bf15cfe3cdb76b8b",
       "version_major": 2,
       "version_minor": 0
      },
      "text/plain": [
       "Running Simulation :   0%|          | 0/200 [00:00<?, ?it/s]"
      ]
     },
     "metadata": {},
     "output_type": "display_data"
    },
    {
     "name": "stdout",
     "output_type": "stream",
     "text": [
      "Target: 1\n",
      "Currents: 0.0\n",
      "Training \n",
      "\n",
      "\n",
      "Drain 2 Only\n"
     ]
    },
    {
     "data": {
      "application/vnd.jupyter.widget-view+json": {
       "model_id": "8f48e8aa5c784b07af62245936319e13",
       "version_major": 2,
       "version_minor": 0
      },
      "text/plain": [
       "Running Simulation :   0%|          | 0/200 [00:00<?, ?it/s]"
      ]
     },
     "metadata": {},
     "output_type": "display_data"
    },
    {
     "name": "stdout",
     "output_type": "stream",
     "text": [
      "Target: 1\n",
      "Currents: 0.0\n",
      "Training \n",
      "\n",
      "\n",
      "Drain 7 Only\n"
     ]
    },
    {
     "data": {
      "application/vnd.jupyter.widget-view+json": {
       "model_id": "0a7dbf24bda34379815763715db3fc8d",
       "version_major": 2,
       "version_minor": 0
      },
      "text/plain": [
       "Running Simulation :   0%|          | 0/200 [00:00<?, ?it/s]"
      ]
     },
     "metadata": {},
     "output_type": "display_data"
    },
    {
     "name": "stdout",
     "output_type": "stream",
     "text": [
      "Target: 1\n",
      "Currents: 0.0\n",
      "\n",
      "All Drains\n"
     ]
    },
    {
     "data": {
      "application/vnd.jupyter.widget-view+json": {
       "model_id": "9c576fe2483b42008e3ac4099e497801",
       "version_major": 2,
       "version_minor": 0
      },
      "text/plain": [
       "Running Simulation :   0%|          | 0/200 [00:00<?, ?it/s]"
      ]
     },
     "metadata": {},
     "output_type": "display_data"
    },
    {
     "name": "stdout",
     "output_type": "stream",
     "text": [
      "Target: 1\n",
      "Currents: 5.287172016822905e-07\n",
      "Testing \n",
      "\n",
      "Currents: [5.28717202e-07 1.38957495e-07 1.64786970e-07 1.46727148e-08\n",
      " 1.24636801e-08 2.46194006e-08 3.05843738e-07 4.17838214e-08\n",
      " 2.71717015e-07]\n",
      "Target: 1.0\n",
      "Accuracy: 1\n",
      "New Target Threshold:5.833333333333334e-06\n",
      "Training \n",
      "\n",
      "\n",
      "Drain 2 Only\n"
     ]
    },
    {
     "data": {
      "application/vnd.jupyter.widget-view+json": {
       "model_id": "4c87724b4d3c480da6b0b640c7ebc499",
       "version_major": 2,
       "version_minor": 0
      },
      "text/plain": [
       "Running Simulation :   0%|          | 0/200 [00:00<?, ?it/s]"
      ]
     },
     "metadata": {},
     "output_type": "display_data"
    },
    {
     "name": "stdout",
     "output_type": "stream",
     "text": [
      "Target: 1\n",
      "Currents: 0.0\n",
      "Training \n",
      "\n",
      "\n",
      "Drain 3 Only\n"
     ]
    },
    {
     "data": {
      "application/vnd.jupyter.widget-view+json": {
       "model_id": "d1dce4b717a5411e87866aa83a3707ee",
       "version_major": 2,
       "version_minor": 0
      },
      "text/plain": [
       "Running Simulation :   0%|          | 0/200 [00:00<?, ?it/s]"
      ]
     },
     "metadata": {},
     "output_type": "display_data"
    },
    {
     "name": "stdout",
     "output_type": "stream",
     "text": [
      "Target: 1\n",
      "Currents: 0.0\n",
      "Training \n",
      "\n",
      "\n",
      "Drain 9 Only\n"
     ]
    },
    {
     "data": {
      "application/vnd.jupyter.widget-view+json": {
       "model_id": "245504b4eb8d4afd976cc0242eed7273",
       "version_major": 2,
       "version_minor": 0
      },
      "text/plain": [
       "Running Simulation :   0%|          | 0/200 [00:00<?, ?it/s]"
      ]
     },
     "metadata": {},
     "output_type": "display_data"
    },
    {
     "name": "stdout",
     "output_type": "stream",
     "text": [
      "Target: 1\n",
      "Currents: 0.0\n",
      "Training \n",
      "\n",
      "\n",
      "Drain 7 Only\n"
     ]
    },
    {
     "data": {
      "application/vnd.jupyter.widget-view+json": {
       "model_id": "b05d0145afdc4089ab9e86d03923664c",
       "version_major": 2,
       "version_minor": 0
      },
      "text/plain": [
       "Running Simulation :   0%|          | 0/200 [00:00<?, ?it/s]"
      ]
     },
     "metadata": {},
     "output_type": "display_data"
    },
    {
     "name": "stdout",
     "output_type": "stream",
     "text": [
      "Target: 1\n",
      "Currents: 0.0\n",
      "Training \n",
      "\n",
      "\n",
      "Drain 1 Only\n"
     ]
    },
    {
     "data": {
      "application/vnd.jupyter.widget-view+json": {
       "model_id": "2ae123bf7c62413484b1acd088639a51",
       "version_major": 2,
       "version_minor": 0
      },
      "text/plain": [
       "Running Simulation :   0%|          | 0/200 [00:00<?, ?it/s]"
      ]
     },
     "metadata": {},
     "output_type": "display_data"
    },
    {
     "name": "stdout",
     "output_type": "stream",
     "text": [
      "Target: 1\n",
      "Currents: 0.0\n",
      "Training \n",
      "\n",
      "\n",
      "Drain 8 Only\n"
     ]
    },
    {
     "data": {
      "application/vnd.jupyter.widget-view+json": {
       "model_id": "f3dc7559b1df4531b65d86229742e0f5",
       "version_major": 2,
       "version_minor": 0
      },
      "text/plain": [
       "Running Simulation :   0%|          | 0/200 [00:00<?, ?it/s]"
      ]
     },
     "metadata": {},
     "output_type": "display_data"
    },
    {
     "name": "stdout",
     "output_type": "stream",
     "text": [
      "Target: 1\n",
      "Currents: 0.0\n",
      "Training \n",
      "\n",
      "\n",
      "Drain 6 Only\n"
     ]
    },
    {
     "data": {
      "application/vnd.jupyter.widget-view+json": {
       "model_id": "adebd94d02794b39b5f456e6826dbfb7",
       "version_major": 2,
       "version_minor": 0
      },
      "text/plain": [
       "Running Simulation :   0%|          | 0/200 [00:00<?, ?it/s]"
      ]
     },
     "metadata": {},
     "output_type": "display_data"
    },
    {
     "name": "stdout",
     "output_type": "stream",
     "text": [
      "Target: 1\n",
      "Currents: 0.0\n",
      "Training \n",
      "\n",
      "\n",
      "Drain 4 Only\n"
     ]
    },
    {
     "data": {
      "application/vnd.jupyter.widget-view+json": {
       "model_id": "521010bb37a1410dba0e891e113a2fbe",
       "version_major": 2,
       "version_minor": 0
      },
      "text/plain": [
       "Running Simulation :   0%|          | 0/200 [00:00<?, ?it/s]"
      ]
     },
     "metadata": {},
     "output_type": "display_data"
    },
    {
     "name": "stdout",
     "output_type": "stream",
     "text": [
      "Target: 1\n",
      "Currents: 0.0\n",
      "Training \n",
      "\n",
      "\n",
      "Drain 5 Only\n"
     ]
    },
    {
     "data": {
      "application/vnd.jupyter.widget-view+json": {
       "model_id": "8cca25b3c6464409a3e1fe5f56ebad2d",
       "version_major": 2,
       "version_minor": 0
      },
      "text/plain": [
       "Running Simulation :   0%|          | 0/200 [00:00<?, ?it/s]"
      ]
     },
     "metadata": {},
     "output_type": "display_data"
    },
    {
     "name": "stdout",
     "output_type": "stream",
     "text": [
      "Target: 1\n",
      "Currents: 0.0\n",
      "\n",
      "All Drains\n"
     ]
    },
    {
     "data": {
      "application/vnd.jupyter.widget-view+json": {
       "model_id": "a96f0dbc458948f48e26aebc51f41716",
       "version_major": 2,
       "version_minor": 0
      },
      "text/plain": [
       "Running Simulation :   0%|          | 0/200 [00:00<?, ?it/s]"
      ]
     },
     "metadata": {},
     "output_type": "display_data"
    },
    {
     "name": "stdout",
     "output_type": "stream",
     "text": [
      "Target: 1\n",
      "Currents: 3.078895349225898e-07\n",
      "Testing \n",
      "\n",
      "Currents: [3.07889535e-07 1.99130780e-08 5.73174672e-08 2.03459391e-07\n",
      " 9.28516755e-08 2.91090049e-07 3.11748287e-07 3.78004280e-08\n",
      " 2.73656615e-07]\n",
      "Target: 1.0\n",
      "Accuracy: 1\n",
      "New Target Threshold:5.833333333333334e-06\n",
      "Training \n",
      "\n",
      "\n",
      "Drain 9 Only\n"
     ]
    },
    {
     "data": {
      "application/vnd.jupyter.widget-view+json": {
       "model_id": "91d9030f5e9247818cb1350890fef782",
       "version_major": 2,
       "version_minor": 0
      },
      "text/plain": [
       "Running Simulation :   0%|          | 0/200 [00:00<?, ?it/s]"
      ]
     },
     "metadata": {},
     "output_type": "display_data"
    },
    {
     "name": "stdout",
     "output_type": "stream",
     "text": [
      "Target: 1\n",
      "Currents: 0.0\n",
      "Training \n",
      "\n",
      "\n",
      "Drain 5 Only\n"
     ]
    },
    {
     "data": {
      "application/vnd.jupyter.widget-view+json": {
       "model_id": "b114f9fd50d24041bca62c217a849cb0",
       "version_major": 2,
       "version_minor": 0
      },
      "text/plain": [
       "Running Simulation :   0%|          | 0/200 [00:00<?, ?it/s]"
      ]
     },
     "metadata": {},
     "output_type": "display_data"
    },
    {
     "name": "stdout",
     "output_type": "stream",
     "text": [
      "Target: 1\n",
      "Currents: 0.0\n",
      "Training \n",
      "\n",
      "\n",
      "Drain 6 Only\n"
     ]
    },
    {
     "data": {
      "application/vnd.jupyter.widget-view+json": {
       "model_id": "fd834bb99cfd47c4ab15a81328008fc3",
       "version_major": 2,
       "version_minor": 0
      },
      "text/plain": [
       "Running Simulation :   0%|          | 0/200 [00:00<?, ?it/s]"
      ]
     },
     "metadata": {},
     "output_type": "display_data"
    },
    {
     "name": "stdout",
     "output_type": "stream",
     "text": [
      "Target: 1\n",
      "Currents: 0.0\n",
      "Training \n",
      "\n",
      "\n",
      "Drain 3 Only\n"
     ]
    },
    {
     "data": {
      "application/vnd.jupyter.widget-view+json": {
       "model_id": "c5e6866d5a66446f926ca87c30416dc4",
       "version_major": 2,
       "version_minor": 0
      },
      "text/plain": [
       "Running Simulation :   0%|          | 0/200 [00:00<?, ?it/s]"
      ]
     },
     "metadata": {},
     "output_type": "display_data"
    },
    {
     "name": "stdout",
     "output_type": "stream",
     "text": [
      "Target: 1\n",
      "Currents: 0.0\n",
      "Training \n",
      "\n",
      "\n",
      "Drain 2 Only\n"
     ]
    },
    {
     "data": {
      "application/vnd.jupyter.widget-view+json": {
       "model_id": "16521c56202b433ba0646e9fd4cd8bc4",
       "version_major": 2,
       "version_minor": 0
      },
      "text/plain": [
       "Running Simulation :   0%|          | 0/200 [00:00<?, ?it/s]"
      ]
     },
     "metadata": {},
     "output_type": "display_data"
    },
    {
     "name": "stdout",
     "output_type": "stream",
     "text": [
      "Target: 1\n",
      "Currents: 0.0\n",
      "Training \n",
      "\n",
      "\n",
      "Drain 7 Only\n"
     ]
    },
    {
     "data": {
      "application/vnd.jupyter.widget-view+json": {
       "model_id": "09c503ee8c54413d998023419f1a24cd",
       "version_major": 2,
       "version_minor": 0
      },
      "text/plain": [
       "Running Simulation :   0%|          | 0/200 [00:00<?, ?it/s]"
      ]
     },
     "metadata": {},
     "output_type": "display_data"
    },
    {
     "name": "stdout",
     "output_type": "stream",
     "text": [
      "Target: 1\n",
      "Currents: 0.0\n",
      "Training \n",
      "\n",
      "\n",
      "Drain 1 Only\n"
     ]
    },
    {
     "data": {
      "application/vnd.jupyter.widget-view+json": {
       "model_id": "6b96ce2558f04fa8b84c67def67eed5d",
       "version_major": 2,
       "version_minor": 0
      },
      "text/plain": [
       "Running Simulation :   0%|          | 0/200 [00:00<?, ?it/s]"
      ]
     },
     "metadata": {},
     "output_type": "display_data"
    },
    {
     "name": "stdout",
     "output_type": "stream",
     "text": [
      "Target: 1\n",
      "Currents: 0.0\n",
      "Training \n",
      "\n",
      "\n",
      "Drain 8 Only\n"
     ]
    },
    {
     "data": {
      "application/vnd.jupyter.widget-view+json": {
       "model_id": "1ce896e09b414682b1ea79decf9e3e2b",
       "version_major": 2,
       "version_minor": 0
      },
      "text/plain": [
       "Running Simulation :   0%|          | 0/200 [00:00<?, ?it/s]"
      ]
     },
     "metadata": {},
     "output_type": "display_data"
    },
    {
     "name": "stdout",
     "output_type": "stream",
     "text": [
      "Target: 1\n",
      "Currents: 0.0\n",
      "Training \n",
      "\n",
      "\n",
      "Drain 4 Only\n"
     ]
    },
    {
     "data": {
      "application/vnd.jupyter.widget-view+json": {
       "model_id": "74c78205dc214507928af60d7a9aebb5",
       "version_major": 2,
       "version_minor": 0
      },
      "text/plain": [
       "Running Simulation :   0%|          | 0/200 [00:00<?, ?it/s]"
      ]
     },
     "metadata": {},
     "output_type": "display_data"
    },
    {
     "name": "stdout",
     "output_type": "stream",
     "text": [
      "Target: 1\n",
      "Currents: 0.0\n",
      "\n",
      "All Drains\n"
     ]
    },
    {
     "data": {
      "application/vnd.jupyter.widget-view+json": {
       "model_id": "2a2fcc5e05f04457bad248aba40aeaa9",
       "version_major": 2,
       "version_minor": 0
      },
      "text/plain": [
       "Running Simulation :   0%|          | 0/200 [00:00<?, ?it/s]"
      ]
     },
     "metadata": {},
     "output_type": "display_data"
    },
    {
     "name": "stdout",
     "output_type": "stream",
     "text": [
      "Target: 1\n",
      "Currents: 3.448032022667883e-07\n",
      "Testing \n",
      "\n",
      "Currents: [3.44803202e-07 2.80659707e-07 9.83190076e-08 3.60181523e-07\n",
      " 3.55341978e-09 6.81798585e-08 2.55165289e-07 7.20546631e-08\n",
      " 2.44657292e-07]\n",
      "Target: 1.0\n",
      "Accuracy: 0\n",
      "New Target Threshold:6.6666666666666675e-06\n",
      "Training \n",
      "\n",
      "\n",
      "Drain 8 Only\n"
     ]
    },
    {
     "data": {
      "application/vnd.jupyter.widget-view+json": {
       "model_id": "e3878543e7024b0c9d7e582ba704616e",
       "version_major": 2,
       "version_minor": 0
      },
      "text/plain": [
       "Running Simulation :   0%|          | 0/200 [00:00<?, ?it/s]"
      ]
     },
     "metadata": {},
     "output_type": "display_data"
    },
    {
     "name": "stdout",
     "output_type": "stream",
     "text": [
      "Target: 1\n",
      "Currents: 0.0\n",
      "Training \n",
      "\n",
      "\n",
      "Drain 1 Only\n"
     ]
    },
    {
     "data": {
      "application/vnd.jupyter.widget-view+json": {
       "model_id": "e34b8b770fbd41009a868204949d29d1",
       "version_major": 2,
       "version_minor": 0
      },
      "text/plain": [
       "Running Simulation :   0%|          | 0/200 [00:00<?, ?it/s]"
      ]
     },
     "metadata": {},
     "output_type": "display_data"
    },
    {
     "name": "stdout",
     "output_type": "stream",
     "text": [
      "Target: 1\n",
      "Currents: 0.0\n",
      "Training \n",
      "\n",
      "\n",
      "Drain 5 Only\n"
     ]
    },
    {
     "data": {
      "application/vnd.jupyter.widget-view+json": {
       "model_id": "9c6b6b649df942e3b535cde811f3cc7d",
       "version_major": 2,
       "version_minor": 0
      },
      "text/plain": [
       "Running Simulation :   0%|          | 0/200 [00:00<?, ?it/s]"
      ]
     },
     "metadata": {},
     "output_type": "display_data"
    },
    {
     "name": "stdout",
     "output_type": "stream",
     "text": [
      "Target: 1\n",
      "Currents: 0.0\n",
      "Training \n",
      "\n",
      "\n",
      "Drain 3 Only\n"
     ]
    },
    {
     "data": {
      "application/vnd.jupyter.widget-view+json": {
       "model_id": "348ac92b516946c188951a3cee8a0200",
       "version_major": 2,
       "version_minor": 0
      },
      "text/plain": [
       "Running Simulation :   0%|          | 0/200 [00:00<?, ?it/s]"
      ]
     },
     "metadata": {},
     "output_type": "display_data"
    },
    {
     "name": "stdout",
     "output_type": "stream",
     "text": [
      "Target: 1\n",
      "Currents: 0.0\n",
      "Training \n",
      "\n",
      "\n",
      "Drain 2 Only\n"
     ]
    },
    {
     "data": {
      "application/vnd.jupyter.widget-view+json": {
       "model_id": "ddd91da0c3704be59c2b51c39e74f1c7",
       "version_major": 2,
       "version_minor": 0
      },
      "text/plain": [
       "Running Simulation :   0%|          | 0/200 [00:00<?, ?it/s]"
      ]
     },
     "metadata": {},
     "output_type": "display_data"
    },
    {
     "name": "stdout",
     "output_type": "stream",
     "text": [
      "Target: 1\n",
      "Currents: 0.0\n",
      "Training \n",
      "\n",
      "\n",
      "Drain 6 Only\n"
     ]
    },
    {
     "data": {
      "application/vnd.jupyter.widget-view+json": {
       "model_id": "fdb4912bd8d143ad9dbc6b898b4b89ea",
       "version_major": 2,
       "version_minor": 0
      },
      "text/plain": [
       "Running Simulation :   0%|          | 0/200 [00:00<?, ?it/s]"
      ]
     },
     "metadata": {},
     "output_type": "display_data"
    },
    {
     "name": "stdout",
     "output_type": "stream",
     "text": [
      "Target: 1\n",
      "Currents: 0.0\n",
      "Training \n",
      "\n",
      "\n",
      "Drain 7 Only\n"
     ]
    },
    {
     "data": {
      "application/vnd.jupyter.widget-view+json": {
       "model_id": "506587c46da4489394820009e5552c36",
       "version_major": 2,
       "version_minor": 0
      },
      "text/plain": [
       "Running Simulation :   0%|          | 0/200 [00:00<?, ?it/s]"
      ]
     },
     "metadata": {},
     "output_type": "display_data"
    },
    {
     "name": "stdout",
     "output_type": "stream",
     "text": [
      "Target: 1\n",
      "Currents: 0.0\n",
      "Training \n",
      "\n",
      "\n",
      "Drain 9 Only\n"
     ]
    },
    {
     "data": {
      "application/vnd.jupyter.widget-view+json": {
       "model_id": "84ad338171e24f58a5e27668706e2882",
       "version_major": 2,
       "version_minor": 0
      },
      "text/plain": [
       "Running Simulation :   0%|          | 0/200 [00:00<?, ?it/s]"
      ]
     },
     "metadata": {},
     "output_type": "display_data"
    },
    {
     "name": "stdout",
     "output_type": "stream",
     "text": [
      "Target: 1\n",
      "Currents: 0.0\n",
      "Training \n",
      "\n",
      "\n",
      "Drain 4 Only\n"
     ]
    },
    {
     "data": {
      "application/vnd.jupyter.widget-view+json": {
       "model_id": "e566369d91174a67905d9905e5c3579f",
       "version_major": 2,
       "version_minor": 0
      },
      "text/plain": [
       "Running Simulation :   0%|          | 0/200 [00:00<?, ?it/s]"
      ]
     },
     "metadata": {},
     "output_type": "display_data"
    },
    {
     "name": "stdout",
     "output_type": "stream",
     "text": [
      "Target: 1\n",
      "Currents: 0.0\n",
      "\n",
      "All Drains\n"
     ]
    },
    {
     "data": {
      "application/vnd.jupyter.widget-view+json": {
       "model_id": "3f4477bd3bf34bed93e3f78bfdf607ae",
       "version_major": 2,
       "version_minor": 0
      },
      "text/plain": [
       "Running Simulation :   0%|          | 0/200 [00:00<?, ?it/s]"
      ]
     },
     "metadata": {},
     "output_type": "display_data"
    },
    {
     "name": "stdout",
     "output_type": "stream",
     "text": [
      "Target: 1\n",
      "Currents: 3.6834571669429206e-07\n",
      "Testing \n",
      "\n",
      "Currents: [3.68345717e-07 1.93052031e-08 2.68019754e-08 3.47215830e-07\n",
      " 4.33291552e-09 7.81802721e-08 3.08642953e-07 8.64582922e-09\n",
      " 2.87006069e-07]\n",
      "Target: 1.0\n",
      "Accuracy: 0\n",
      "New Target Threshold:7.500000000000001e-06\n",
      "Training \n",
      "\n",
      "\n",
      "Drain 7 Only\n"
     ]
    },
    {
     "data": {
      "application/vnd.jupyter.widget-view+json": {
       "model_id": "ff4f9b33edf1413687207861a7fdceb3",
       "version_major": 2,
       "version_minor": 0
      },
      "text/plain": [
       "Running Simulation :   0%|          | 0/200 [00:00<?, ?it/s]"
      ]
     },
     "metadata": {},
     "output_type": "display_data"
    },
    {
     "name": "stdout",
     "output_type": "stream",
     "text": [
      "Target: 1\n",
      "Currents: 0.0\n",
      "Training \n",
      "\n",
      "\n",
      "Drain 2 Only\n"
     ]
    },
    {
     "data": {
      "application/vnd.jupyter.widget-view+json": {
       "model_id": "d326d4e90bb34e21a77c1a28f81fa4ed",
       "version_major": 2,
       "version_minor": 0
      },
      "text/plain": [
       "Running Simulation :   0%|          | 0/200 [00:00<?, ?it/s]"
      ]
     },
     "metadata": {},
     "output_type": "display_data"
    },
    {
     "name": "stdout",
     "output_type": "stream",
     "text": [
      "Target: 1\n",
      "Currents: 0.0\n",
      "Training \n",
      "\n",
      "\n",
      "Drain 5 Only\n"
     ]
    },
    {
     "data": {
      "application/vnd.jupyter.widget-view+json": {
       "model_id": "65e5d34c5d384f38ab745c8c8b6a8aec",
       "version_major": 2,
       "version_minor": 0
      },
      "text/plain": [
       "Running Simulation :   0%|          | 0/200 [00:00<?, ?it/s]"
      ]
     },
     "metadata": {},
     "output_type": "display_data"
    },
    {
     "name": "stdout",
     "output_type": "stream",
     "text": [
      "Target: 1\n",
      "Currents: 0.0\n",
      "Training \n",
      "\n",
      "\n",
      "Drain 4 Only\n"
     ]
    },
    {
     "data": {
      "application/vnd.jupyter.widget-view+json": {
       "model_id": "d8d112994be24d8e89534a7e410685ab",
       "version_major": 2,
       "version_minor": 0
      },
      "text/plain": [
       "Running Simulation :   0%|          | 0/200 [00:00<?, ?it/s]"
      ]
     },
     "metadata": {},
     "output_type": "display_data"
    },
    {
     "name": "stdout",
     "output_type": "stream",
     "text": [
      "Target: 1\n",
      "Currents: 0.0\n",
      "Training \n",
      "\n",
      "\n",
      "Drain 3 Only\n"
     ]
    },
    {
     "data": {
      "application/vnd.jupyter.widget-view+json": {
       "model_id": "018b4e4a79a346d5a96904b66a0e4d50",
       "version_major": 2,
       "version_minor": 0
      },
      "text/plain": [
       "Running Simulation :   0%|          | 0/200 [00:00<?, ?it/s]"
      ]
     },
     "metadata": {},
     "output_type": "display_data"
    },
    {
     "name": "stdout",
     "output_type": "stream",
     "text": [
      "Target: 1\n",
      "Currents: 0.0\n",
      "Training \n",
      "\n",
      "\n",
      "Drain 9 Only\n"
     ]
    },
    {
     "data": {
      "application/vnd.jupyter.widget-view+json": {
       "model_id": "f7574af0ef2e4572afdcc5e5319f7883",
       "version_major": 2,
       "version_minor": 0
      },
      "text/plain": [
       "Running Simulation :   0%|          | 0/200 [00:00<?, ?it/s]"
      ]
     },
     "metadata": {},
     "output_type": "display_data"
    },
    {
     "name": "stdout",
     "output_type": "stream",
     "text": [
      "Target: 1\n",
      "Currents: 0.0\n",
      "Training \n",
      "\n",
      "\n",
      "Drain 6 Only\n"
     ]
    },
    {
     "data": {
      "application/vnd.jupyter.widget-view+json": {
       "model_id": "3def146fb0444a93b9830c90f5cbaf8b",
       "version_major": 2,
       "version_minor": 0
      },
      "text/plain": [
       "Running Simulation :   0%|          | 0/200 [00:00<?, ?it/s]"
      ]
     },
     "metadata": {},
     "output_type": "display_data"
    },
    {
     "name": "stdout",
     "output_type": "stream",
     "text": [
      "Target: 1\n",
      "Currents: 0.0\n",
      "Training \n",
      "\n",
      "\n",
      "Drain 1 Only\n"
     ]
    },
    {
     "data": {
      "application/vnd.jupyter.widget-view+json": {
       "model_id": "a92aeff48f1a4847b6c905dc7195b596",
       "version_major": 2,
       "version_minor": 0
      },
      "text/plain": [
       "Running Simulation :   0%|          | 0/200 [00:00<?, ?it/s]"
      ]
     },
     "metadata": {},
     "output_type": "display_data"
    },
    {
     "name": "stdout",
     "output_type": "stream",
     "text": [
      "Target: 1\n",
      "Currents: 0.0\n",
      "Training \n",
      "\n",
      "\n",
      "Drain 8 Only\n"
     ]
    },
    {
     "data": {
      "application/vnd.jupyter.widget-view+json": {
       "model_id": "b69efcd11c8343a4a038d1145c32cc73",
       "version_major": 2,
       "version_minor": 0
      },
      "text/plain": [
       "Running Simulation :   0%|          | 0/200 [00:00<?, ?it/s]"
      ]
     },
     "metadata": {},
     "output_type": "display_data"
    },
    {
     "name": "stdout",
     "output_type": "stream",
     "text": [
      "Target: 1\n",
      "Currents: 0.0\n",
      "\n",
      "All Drains\n"
     ]
    },
    {
     "data": {
      "application/vnd.jupyter.widget-view+json": {
       "model_id": "b99f04c4edad48d3a75b8688f5560f85",
       "version_major": 2,
       "version_minor": 0
      },
      "text/plain": [
       "Running Simulation :   0%|          | 0/200 [00:00<?, ?it/s]"
      ]
     },
     "metadata": {},
     "output_type": "display_data"
    },
    {
     "name": "stdout",
     "output_type": "stream",
     "text": [
      "Target: 1\n",
      "Currents: 6.340710460608534e-07\n",
      "Testing \n",
      "\n",
      "Currents: [6.34071046e-07 4.17475769e-08 3.24070043e-08 5.29037382e-08\n",
      " 5.58956623e-09 9.10368114e-08 4.64327446e-09 1.83231701e-07\n",
      " 2.90375219e-07]\n",
      "Target: 1.0\n",
      "Accuracy: 1\n",
      "New Target Threshold:7.500000000000001e-06\n",
      "Training \n",
      "\n",
      "\n",
      "Drain 5 Only\n"
     ]
    },
    {
     "data": {
      "application/vnd.jupyter.widget-view+json": {
       "model_id": "0a44fd6a4ad94e539b34cb2b26882742",
       "version_major": 2,
       "version_minor": 0
      },
      "text/plain": [
       "Running Simulation :   0%|          | 0/200 [00:00<?, ?it/s]"
      ]
     },
     "metadata": {},
     "output_type": "display_data"
    },
    {
     "name": "stdout",
     "output_type": "stream",
     "text": [
      "Target: 1\n",
      "Currents: 0.0\n",
      "Training \n",
      "\n",
      "\n",
      "Drain 8 Only\n"
     ]
    },
    {
     "data": {
      "application/vnd.jupyter.widget-view+json": {
       "model_id": "57c05f9dd6b741558e949a582fcf4784",
       "version_major": 2,
       "version_minor": 0
      },
      "text/plain": [
       "Running Simulation :   0%|          | 0/200 [00:00<?, ?it/s]"
      ]
     },
     "metadata": {},
     "output_type": "display_data"
    },
    {
     "name": "stdout",
     "output_type": "stream",
     "text": [
      "Target: 1\n",
      "Currents: 0.0\n",
      "Training \n",
      "\n",
      "\n",
      "Drain 1 Only\n"
     ]
    },
    {
     "data": {
      "application/vnd.jupyter.widget-view+json": {
       "model_id": "ef2dc870e7ce4b2a8b95e2830e1ad8e8",
       "version_major": 2,
       "version_minor": 0
      },
      "text/plain": [
       "Running Simulation :   0%|          | 0/200 [00:00<?, ?it/s]"
      ]
     },
     "metadata": {},
     "output_type": "display_data"
    },
    {
     "name": "stdout",
     "output_type": "stream",
     "text": [
      "Target: 1\n",
      "Currents: 0.0\n",
      "Training \n",
      "\n",
      "\n",
      "Drain 6 Only\n"
     ]
    },
    {
     "data": {
      "application/vnd.jupyter.widget-view+json": {
       "model_id": "2fadc735724e4da4acbc9b998c6e42e5",
       "version_major": 2,
       "version_minor": 0
      },
      "text/plain": [
       "Running Simulation :   0%|          | 0/200 [00:00<?, ?it/s]"
      ]
     },
     "metadata": {},
     "output_type": "display_data"
    },
    {
     "name": "stdout",
     "output_type": "stream",
     "text": [
      "Target: 1\n",
      "Currents: 0.0\n",
      "Training \n",
      "\n",
      "\n",
      "Drain 9 Only\n"
     ]
    },
    {
     "data": {
      "application/vnd.jupyter.widget-view+json": {
       "model_id": "23de953f86774450ad2ea940f5ad2232",
       "version_major": 2,
       "version_minor": 0
      },
      "text/plain": [
       "Running Simulation :   0%|          | 0/200 [00:00<?, ?it/s]"
      ]
     },
     "metadata": {},
     "output_type": "display_data"
    },
    {
     "name": "stdout",
     "output_type": "stream",
     "text": [
      "Target: 1\n",
      "Currents: 0.0\n",
      "Training \n",
      "\n",
      "\n",
      "Drain 2 Only\n"
     ]
    },
    {
     "data": {
      "application/vnd.jupyter.widget-view+json": {
       "model_id": "1a72291861e14087a1c9e59f552a54cf",
       "version_major": 2,
       "version_minor": 0
      },
      "text/plain": [
       "Running Simulation :   0%|          | 0/200 [00:00<?, ?it/s]"
      ]
     },
     "metadata": {},
     "output_type": "display_data"
    },
    {
     "name": "stdout",
     "output_type": "stream",
     "text": [
      "Target: 1\n",
      "Currents: 0.0\n",
      "Training \n",
      "\n",
      "\n",
      "Drain 7 Only\n"
     ]
    },
    {
     "data": {
      "application/vnd.jupyter.widget-view+json": {
       "model_id": "700d3e9cd27545dc900de6d2ebd00efe",
       "version_major": 2,
       "version_minor": 0
      },
      "text/plain": [
       "Running Simulation :   0%|          | 0/200 [00:00<?, ?it/s]"
      ]
     },
     "metadata": {},
     "output_type": "display_data"
    },
    {
     "name": "stdout",
     "output_type": "stream",
     "text": [
      "Target: 1\n",
      "Currents: 0.0\n",
      "Training \n",
      "\n",
      "\n",
      "Drain 4 Only\n"
     ]
    },
    {
     "data": {
      "application/vnd.jupyter.widget-view+json": {
       "model_id": "4885104fa82547b29e4e16d9ed0fe3ff",
       "version_major": 2,
       "version_minor": 0
      },
      "text/plain": [
       "Running Simulation :   0%|          | 0/200 [00:00<?, ?it/s]"
      ]
     },
     "metadata": {},
     "output_type": "display_data"
    },
    {
     "name": "stdout",
     "output_type": "stream",
     "text": [
      "Target: 1\n",
      "Currents: 0.0\n",
      "Training \n",
      "\n",
      "\n",
      "Drain 3 Only\n"
     ]
    },
    {
     "data": {
      "application/vnd.jupyter.widget-view+json": {
       "model_id": "e2da48a7e22e418a9019984f411317de",
       "version_major": 2,
       "version_minor": 0
      },
      "text/plain": [
       "Running Simulation :   0%|          | 0/200 [00:00<?, ?it/s]"
      ]
     },
     "metadata": {},
     "output_type": "display_data"
    },
    {
     "name": "stdout",
     "output_type": "stream",
     "text": [
      "Target: 1\n",
      "Currents: 0.0\n",
      "\n",
      "All Drains\n"
     ]
    },
    {
     "data": {
      "application/vnd.jupyter.widget-view+json": {
       "model_id": "84726b0822af4e0e8ff4b7d8ad97565f",
       "version_major": 2,
       "version_minor": 0
      },
      "text/plain": [
       "Running Simulation :   0%|          | 0/200 [00:00<?, ?it/s]"
      ]
     },
     "metadata": {},
     "output_type": "display_data"
    },
    {
     "name": "stdout",
     "output_type": "stream",
     "text": [
      "Target: 1\n",
      "Currents: 2.9352661462104e-07\n",
      "Testing \n",
      "\n",
      "Currents: [2.93526615e-07 2.87400026e-08 1.77990964e-07 2.39747629e-07\n",
      " 3.21961646e-09 2.20869471e-08 3.12296311e-07 6.65197840e-09\n",
      " 2.51822205e-07]\n",
      "Target: 1.0\n",
      "Accuracy: 1\n",
      "New Target Threshold:7.500000000000001e-06\n",
      "Training \n",
      "\n",
      "\n",
      "Drain 8 Only\n"
     ]
    },
    {
     "data": {
      "application/vnd.jupyter.widget-view+json": {
       "model_id": "5ae3157cd81f4b919d41bdf24e2c4408",
       "version_major": 2,
       "version_minor": 0
      },
      "text/plain": [
       "Running Simulation :   0%|          | 0/200 [00:00<?, ?it/s]"
      ]
     },
     "metadata": {},
     "output_type": "display_data"
    },
    {
     "name": "stdout",
     "output_type": "stream",
     "text": [
      "Target: 1\n",
      "Currents: 0.0\n",
      "Training \n",
      "\n",
      "\n",
      "Drain 5 Only\n"
     ]
    },
    {
     "data": {
      "application/vnd.jupyter.widget-view+json": {
       "model_id": "6bd7f5240f10481697eb6d69db2704bd",
       "version_major": 2,
       "version_minor": 0
      },
      "text/plain": [
       "Running Simulation :   0%|          | 0/200 [00:00<?, ?it/s]"
      ]
     },
     "metadata": {},
     "output_type": "display_data"
    },
    {
     "name": "stdout",
     "output_type": "stream",
     "text": [
      "Target: 1\n",
      "Currents: 0.0\n",
      "Training \n",
      "\n",
      "\n",
      "Drain 4 Only\n"
     ]
    },
    {
     "data": {
      "application/vnd.jupyter.widget-view+json": {
       "model_id": "f6d49129ebb146e9bdc9e9c376e123c4",
       "version_major": 2,
       "version_minor": 0
      },
      "text/plain": [
       "Running Simulation :   0%|          | 0/200 [00:00<?, ?it/s]"
      ]
     },
     "metadata": {},
     "output_type": "display_data"
    },
    {
     "name": "stdout",
     "output_type": "stream",
     "text": [
      "Target: 1\n",
      "Currents: 0.0\n",
      "Training \n",
      "\n",
      "\n",
      "Drain 3 Only\n"
     ]
    },
    {
     "data": {
      "application/vnd.jupyter.widget-view+json": {
       "model_id": "c502484a0d0a496da62fb4c709b01b4b",
       "version_major": 2,
       "version_minor": 0
      },
      "text/plain": [
       "Running Simulation :   0%|          | 0/200 [00:00<?, ?it/s]"
      ]
     },
     "metadata": {},
     "output_type": "display_data"
    },
    {
     "name": "stdout",
     "output_type": "stream",
     "text": [
      "Target: 1\n",
      "Currents: 0.0\n",
      "Training \n",
      "\n",
      "\n",
      "Drain 2 Only\n"
     ]
    },
    {
     "data": {
      "application/vnd.jupyter.widget-view+json": {
       "model_id": "ab6654354952451199c8ad89a8ed0e9c",
       "version_major": 2,
       "version_minor": 0
      },
      "text/plain": [
       "Running Simulation :   0%|          | 0/200 [00:00<?, ?it/s]"
      ]
     },
     "metadata": {},
     "output_type": "display_data"
    },
    {
     "name": "stdout",
     "output_type": "stream",
     "text": [
      "Target: 1\n",
      "Currents: 0.0\n",
      "Training \n",
      "\n",
      "\n",
      "Drain 1 Only\n"
     ]
    },
    {
     "data": {
      "application/vnd.jupyter.widget-view+json": {
       "model_id": "c9a57877ff6f439fb72334f77e1e28b2",
       "version_major": 2,
       "version_minor": 0
      },
      "text/plain": [
       "Running Simulation :   0%|          | 0/200 [00:00<?, ?it/s]"
      ]
     },
     "metadata": {},
     "output_type": "display_data"
    },
    {
     "name": "stdout",
     "output_type": "stream",
     "text": [
      "Target: 1\n",
      "Currents: 0.0\n",
      "Training \n",
      "\n",
      "\n",
      "Drain 6 Only\n"
     ]
    },
    {
     "data": {
      "application/vnd.jupyter.widget-view+json": {
       "model_id": "939c2dd26e664acea75126bfeed122ec",
       "version_major": 2,
       "version_minor": 0
      },
      "text/plain": [
       "Running Simulation :   0%|          | 0/200 [00:00<?, ?it/s]"
      ]
     },
     "metadata": {},
     "output_type": "display_data"
    },
    {
     "name": "stdout",
     "output_type": "stream",
     "text": [
      "Target: 1\n",
      "Currents: 0.0\n",
      "Training \n",
      "\n",
      "\n",
      "Drain 7 Only\n"
     ]
    },
    {
     "data": {
      "application/vnd.jupyter.widget-view+json": {
       "model_id": "22f13c086687480d94d1d953d97a74c4",
       "version_major": 2,
       "version_minor": 0
      },
      "text/plain": [
       "Running Simulation :   0%|          | 0/200 [00:00<?, ?it/s]"
      ]
     },
     "metadata": {},
     "output_type": "display_data"
    },
    {
     "name": "stdout",
     "output_type": "stream",
     "text": [
      "Target: 1\n",
      "Currents: 0.0\n",
      "Training \n",
      "\n",
      "\n",
      "Drain 9 Only\n"
     ]
    },
    {
     "data": {
      "application/vnd.jupyter.widget-view+json": {
       "model_id": "aad33f6771214ba2a035bfe0953539db",
       "version_major": 2,
       "version_minor": 0
      },
      "text/plain": [
       "Running Simulation :   0%|          | 0/200 [00:00<?, ?it/s]"
      ]
     },
     "metadata": {},
     "output_type": "display_data"
    },
    {
     "name": "stdout",
     "output_type": "stream",
     "text": [
      "Target: 1\n",
      "Currents: 0.0\n",
      "\n",
      "All Drains\n"
     ]
    },
    {
     "data": {
      "application/vnd.jupyter.widget-view+json": {
       "model_id": "0d01ec0400c94bcd81c4b0b202585acd",
       "version_major": 2,
       "version_minor": 0
      },
      "text/plain": [
       "Running Simulation :   0%|          | 0/200 [00:00<?, ?it/s]"
      ]
     },
     "metadata": {},
     "output_type": "display_data"
    },
    {
     "name": "stdout",
     "output_type": "stream",
     "text": [
      "Target: 1\n",
      "Currents: 5.113530753142443e-07\n",
      "Testing \n",
      "\n",
      "Currents: [5.11353075e-07 1.30712838e-07 1.93382041e-08 1.29928698e-08\n",
      " 2.65115873e-09 6.66822864e-08 3.10226323e-07 6.89647775e-09\n",
      " 2.54287231e-07]\n",
      "Target: 1.0\n",
      "Accuracy: 1\n",
      "New Target Threshold:7.500000000000001e-06\n",
      "Training \n",
      "\n",
      "\n",
      "Drain 3 Only\n"
     ]
    },
    {
     "data": {
      "application/vnd.jupyter.widget-view+json": {
       "model_id": "745ee0bc02fc4aada1c005dc50829301",
       "version_major": 2,
       "version_minor": 0
      },
      "text/plain": [
       "Running Simulation :   0%|          | 0/200 [00:00<?, ?it/s]"
      ]
     },
     "metadata": {},
     "output_type": "display_data"
    },
    {
     "name": "stdout",
     "output_type": "stream",
     "text": [
      "Target: 1\n",
      "Currents: 0.0\n",
      "Training \n",
      "\n",
      "\n",
      "Drain 7 Only\n"
     ]
    },
    {
     "data": {
      "application/vnd.jupyter.widget-view+json": {
       "model_id": "db8d6d2d08214390ac7eaa72fb92c1a8",
       "version_major": 2,
       "version_minor": 0
      },
      "text/plain": [
       "Running Simulation :   0%|          | 0/200 [00:00<?, ?it/s]"
      ]
     },
     "metadata": {},
     "output_type": "display_data"
    },
    {
     "name": "stdout",
     "output_type": "stream",
     "text": [
      "Target: 1\n",
      "Currents: 0.0\n",
      "Training \n",
      "\n",
      "\n",
      "Drain 2 Only\n"
     ]
    },
    {
     "data": {
      "application/vnd.jupyter.widget-view+json": {
       "model_id": "5c9867971970464a8adabc9d02edaf96",
       "version_major": 2,
       "version_minor": 0
      },
      "text/plain": [
       "Running Simulation :   0%|          | 0/200 [00:00<?, ?it/s]"
      ]
     },
     "metadata": {},
     "output_type": "display_data"
    },
    {
     "name": "stdout",
     "output_type": "stream",
     "text": [
      "Target: 1\n",
      "Currents: 0.0\n",
      "Training \n",
      "\n",
      "\n",
      "Drain 5 Only\n"
     ]
    },
    {
     "data": {
      "application/vnd.jupyter.widget-view+json": {
       "model_id": "dc512328e4444d7b81e48558b06f22d3",
       "version_major": 2,
       "version_minor": 0
      },
      "text/plain": [
       "Running Simulation :   0%|          | 0/200 [00:00<?, ?it/s]"
      ]
     },
     "metadata": {},
     "output_type": "display_data"
    },
    {
     "name": "stdout",
     "output_type": "stream",
     "text": [
      "Target: 1\n",
      "Currents: 0.0\n",
      "Training \n",
      "\n",
      "\n",
      "Drain 1 Only\n"
     ]
    },
    {
     "data": {
      "application/vnd.jupyter.widget-view+json": {
       "model_id": "88e06fe2a7974b10b9cc3ee90dadf99a",
       "version_major": 2,
       "version_minor": 0
      },
      "text/plain": [
       "Running Simulation :   0%|          | 0/200 [00:00<?, ?it/s]"
      ]
     },
     "metadata": {},
     "output_type": "display_data"
    },
    {
     "name": "stdout",
     "output_type": "stream",
     "text": [
      "Target: 1\n",
      "Currents: 0.0\n",
      "Training \n",
      "\n",
      "\n",
      "Drain 6 Only\n"
     ]
    },
    {
     "data": {
      "application/vnd.jupyter.widget-view+json": {
       "model_id": "4fa53c82f7ad4224a7a38278f29358e0",
       "version_major": 2,
       "version_minor": 0
      },
      "text/plain": [
       "Running Simulation :   0%|          | 0/200 [00:00<?, ?it/s]"
      ]
     },
     "metadata": {},
     "output_type": "display_data"
    },
    {
     "name": "stdout",
     "output_type": "stream",
     "text": [
      "Target: 1\n",
      "Currents: 0.0\n",
      "Training \n",
      "\n",
      "\n",
      "Drain 9 Only\n"
     ]
    },
    {
     "data": {
      "application/vnd.jupyter.widget-view+json": {
       "model_id": "64f4c11d8fad45adb7b2e4ceee8d2f89",
       "version_major": 2,
       "version_minor": 0
      },
      "text/plain": [
       "Running Simulation :   0%|          | 0/200 [00:00<?, ?it/s]"
      ]
     },
     "metadata": {},
     "output_type": "display_data"
    },
    {
     "name": "stdout",
     "output_type": "stream",
     "text": [
      "Target: 1\n",
      "Currents: 0.0\n",
      "Training \n",
      "\n",
      "\n",
      "Drain 8 Only\n"
     ]
    },
    {
     "data": {
      "application/vnd.jupyter.widget-view+json": {
       "model_id": "bbfaee267fef42fead4519d0e827943c",
       "version_major": 2,
       "version_minor": 0
      },
      "text/plain": [
       "Running Simulation :   0%|          | 0/200 [00:00<?, ?it/s]"
      ]
     },
     "metadata": {},
     "output_type": "display_data"
    },
    {
     "name": "stdout",
     "output_type": "stream",
     "text": [
      "Target: 1\n",
      "Currents: 0.0\n",
      "Training \n",
      "\n",
      "\n",
      "Drain 4 Only\n"
     ]
    },
    {
     "data": {
      "application/vnd.jupyter.widget-view+json": {
       "model_id": "4560bfc61f704a37b44a5717ca5324b3",
       "version_major": 2,
       "version_minor": 0
      },
      "text/plain": [
       "Running Simulation :   0%|          | 0/200 [00:00<?, ?it/s]"
      ]
     },
     "metadata": {},
     "output_type": "display_data"
    },
    {
     "name": "stdout",
     "output_type": "stream",
     "text": [
      "Target: 1\n",
      "Currents: 0.0\n",
      "\n",
      "All Drains\n"
     ]
    },
    {
     "data": {
      "application/vnd.jupyter.widget-view+json": {
       "model_id": "f96f34c2a8714b9c924511eaacd29bd1",
       "version_major": 2,
       "version_minor": 0
      },
      "text/plain": [
       "Running Simulation :   0%|          | 0/200 [00:00<?, ?it/s]"
      ]
     },
     "metadata": {},
     "output_type": "display_data"
    },
    {
     "name": "stdout",
     "output_type": "stream",
     "text": [
      "Target: 1\n",
      "Currents: 3.55830963941626e-07\n",
      "Testing \n",
      "\n",
      "Currents: [3.55830964e-07 2.39958758e-08 1.05071601e-08 2.15001169e-07\n",
      " 1.30390513e-08 4.44552538e-08 1.13577415e-08 9.50124280e-08\n",
      " 3.48998394e-07]\n",
      "Target: 1.0\n",
      "Accuracy: 1\n",
      "New Target Threshold:7.500000000000001e-06\n",
      "Training \n",
      "\n",
      "\n",
      "Drain 1 Only\n"
     ]
    },
    {
     "data": {
      "application/vnd.jupyter.widget-view+json": {
       "model_id": "466272f9b00f45348ecb53f62892ebb6",
       "version_major": 2,
       "version_minor": 0
      },
      "text/plain": [
       "Running Simulation :   0%|          | 0/200 [00:00<?, ?it/s]"
      ]
     },
     "metadata": {},
     "output_type": "display_data"
    },
    {
     "name": "stdout",
     "output_type": "stream",
     "text": [
      "Target: 1\n",
      "Currents: 0.0\n",
      "Training \n",
      "\n",
      "\n",
      "Drain 3 Only\n"
     ]
    },
    {
     "data": {
      "application/vnd.jupyter.widget-view+json": {
       "model_id": "6e6cdecf4f01425a9c3490feb0f64c07",
       "version_major": 2,
       "version_minor": 0
      },
      "text/plain": [
       "Running Simulation :   0%|          | 0/200 [00:00<?, ?it/s]"
      ]
     },
     "metadata": {},
     "output_type": "display_data"
    },
    {
     "name": "stdout",
     "output_type": "stream",
     "text": [
      "Target: 1\n",
      "Currents: 0.0\n",
      "Training \n",
      "\n",
      "\n",
      "Drain 4 Only\n"
     ]
    },
    {
     "data": {
      "application/vnd.jupyter.widget-view+json": {
       "model_id": "08fbe900a0cf47428a88b21143ab09ad",
       "version_major": 2,
       "version_minor": 0
      },
      "text/plain": [
       "Running Simulation :   0%|          | 0/200 [00:00<?, ?it/s]"
      ]
     },
     "metadata": {},
     "output_type": "display_data"
    },
    {
     "name": "stdout",
     "output_type": "stream",
     "text": [
      "Target: 1\n",
      "Currents: 0.0\n",
      "Training \n",
      "\n",
      "\n",
      "Drain 8 Only\n"
     ]
    },
    {
     "data": {
      "application/vnd.jupyter.widget-view+json": {
       "model_id": "30e4e11ac6ed49808aef068ffb139a30",
       "version_major": 2,
       "version_minor": 0
      },
      "text/plain": [
       "Running Simulation :   0%|          | 0/200 [00:00<?, ?it/s]"
      ]
     },
     "metadata": {},
     "output_type": "display_data"
    },
    {
     "name": "stdout",
     "output_type": "stream",
     "text": [
      "Target: 1\n",
      "Currents: 0.0\n",
      "Training \n",
      "\n",
      "\n",
      "Drain 5 Only\n"
     ]
    },
    {
     "data": {
      "application/vnd.jupyter.widget-view+json": {
       "model_id": "8ad9a9bb9f034300aa32495fe996a4b9",
       "version_major": 2,
       "version_minor": 0
      },
      "text/plain": [
       "Running Simulation :   0%|          | 0/200 [00:00<?, ?it/s]"
      ]
     },
     "metadata": {},
     "output_type": "display_data"
    },
    {
     "name": "stdout",
     "output_type": "stream",
     "text": [
      "Target: 1\n",
      "Currents: 0.0\n",
      "Training \n",
      "\n",
      "\n",
      "Drain 6 Only\n"
     ]
    },
    {
     "data": {
      "application/vnd.jupyter.widget-view+json": {
       "model_id": "070cb1675ac343868338c504b432e3e7",
       "version_major": 2,
       "version_minor": 0
      },
      "text/plain": [
       "Running Simulation :   0%|          | 0/200 [00:00<?, ?it/s]"
      ]
     },
     "metadata": {},
     "output_type": "display_data"
    },
    {
     "name": "stdout",
     "output_type": "stream",
     "text": [
      "Target: 1\n",
      "Currents: 0.0\n",
      "Training \n",
      "\n",
      "\n",
      "Drain 7 Only\n"
     ]
    },
    {
     "data": {
      "application/vnd.jupyter.widget-view+json": {
       "model_id": "261e3623dfd1461883a40d698727826e",
       "version_major": 2,
       "version_minor": 0
      },
      "text/plain": [
       "Running Simulation :   0%|          | 0/200 [00:00<?, ?it/s]"
      ]
     },
     "metadata": {},
     "output_type": "display_data"
    },
    {
     "name": "stdout",
     "output_type": "stream",
     "text": [
      "Target: 1\n",
      "Currents: 0.0\n",
      "Training \n",
      "\n",
      "\n",
      "Drain 2 Only\n"
     ]
    },
    {
     "data": {
      "application/vnd.jupyter.widget-view+json": {
       "model_id": "584a9ecea967431d949253232a42f28a",
       "version_major": 2,
       "version_minor": 0
      },
      "text/plain": [
       "Running Simulation :   0%|          | 0/200 [00:00<?, ?it/s]"
      ]
     },
     "metadata": {},
     "output_type": "display_data"
    },
    {
     "name": "stdout",
     "output_type": "stream",
     "text": [
      "Target: 1\n",
      "Currents: 0.0\n",
      "Training \n",
      "\n",
      "\n",
      "Drain 9 Only\n"
     ]
    },
    {
     "data": {
      "application/vnd.jupyter.widget-view+json": {
       "model_id": "a594ba348fdf45c08881dd0b50bdca5d",
       "version_major": 2,
       "version_minor": 0
      },
      "text/plain": [
       "Running Simulation :   0%|          | 0/200 [00:00<?, ?it/s]"
      ]
     },
     "metadata": {},
     "output_type": "display_data"
    },
    {
     "name": "stdout",
     "output_type": "stream",
     "text": [
      "Target: 1\n",
      "Currents: 0.0\n",
      "\n",
      "All Drains\n"
     ]
    },
    {
     "data": {
      "application/vnd.jupyter.widget-view+json": {
       "model_id": "611b6895820640f49fdfa2856ee51e5c",
       "version_major": 2,
       "version_minor": 0
      },
      "text/plain": [
       "Running Simulation :   0%|          | 0/200 [00:00<?, ?it/s]"
      ]
     },
     "metadata": {},
     "output_type": "display_data"
    },
    {
     "name": "stdout",
     "output_type": "stream",
     "text": [
      "Target: 1\n",
      "Currents: 3.3571481080104346e-07\n",
      "Testing \n",
      "\n",
      "Currents: [3.35714811e-07 2.78625479e-07 7.35462051e-09 1.32829928e-08\n",
      " 1.93853035e-08 5.64111292e-08 9.72834386e-08 1.52851060e-08\n",
      " 3.33546964e-07]\n",
      "Target: 1.0\n",
      "Accuracy: 1\n",
      "New Target Threshold:7.500000000000001e-06\n",
      "Training \n",
      "\n",
      "\n",
      "Drain 5 Only\n"
     ]
    },
    {
     "data": {
      "application/vnd.jupyter.widget-view+json": {
       "model_id": "67bd80d2778d40899ffc5c63ede0c636",
       "version_major": 2,
       "version_minor": 0
      },
      "text/plain": [
       "Running Simulation :   0%|          | 0/200 [00:00<?, ?it/s]"
      ]
     },
     "metadata": {},
     "output_type": "display_data"
    },
    {
     "name": "stdout",
     "output_type": "stream",
     "text": [
      "Target: 1\n",
      "Currents: 0.0\n",
      "Training \n",
      "\n",
      "\n",
      "Drain 9 Only\n"
     ]
    },
    {
     "data": {
      "application/vnd.jupyter.widget-view+json": {
       "model_id": "55dc86fb50294b4ca4880409fc7b9d0b",
       "version_major": 2,
       "version_minor": 0
      },
      "text/plain": [
       "Running Simulation :   0%|          | 0/200 [00:00<?, ?it/s]"
      ]
     },
     "metadata": {},
     "output_type": "display_data"
    },
    {
     "name": "stdout",
     "output_type": "stream",
     "text": [
      "Target: 1\n",
      "Currents: 0.0\n",
      "Training \n",
      "\n",
      "\n",
      "Drain 7 Only\n"
     ]
    },
    {
     "data": {
      "application/vnd.jupyter.widget-view+json": {
       "model_id": "84561621d82741f3a5db0ff79b5f5843",
       "version_major": 2,
       "version_minor": 0
      },
      "text/plain": [
       "Running Simulation :   0%|          | 0/200 [00:00<?, ?it/s]"
      ]
     },
     "metadata": {},
     "output_type": "display_data"
    },
    {
     "name": "stdout",
     "output_type": "stream",
     "text": [
      "Target: 1\n",
      "Currents: 0.0\n",
      "Training \n",
      "\n",
      "\n",
      "Drain 1 Only\n"
     ]
    },
    {
     "data": {
      "application/vnd.jupyter.widget-view+json": {
       "model_id": "b8adec3e42e1433ea26227725ba0f7bf",
       "version_major": 2,
       "version_minor": 0
      },
      "text/plain": [
       "Running Simulation :   0%|          | 0/200 [00:00<?, ?it/s]"
      ]
     },
     "metadata": {},
     "output_type": "display_data"
    },
    {
     "name": "stdout",
     "output_type": "stream",
     "text": [
      "Target: 1\n",
      "Currents: 0.0\n",
      "Training \n",
      "\n",
      "\n",
      "Drain 4 Only\n"
     ]
    },
    {
     "data": {
      "application/vnd.jupyter.widget-view+json": {
       "model_id": "b1a14b614d6248a590d55da808b6ff5e",
       "version_major": 2,
       "version_minor": 0
      },
      "text/plain": [
       "Running Simulation :   0%|          | 0/200 [00:00<?, ?it/s]"
      ]
     },
     "metadata": {},
     "output_type": "display_data"
    },
    {
     "name": "stdout",
     "output_type": "stream",
     "text": [
      "Target: 1\n",
      "Currents: 0.0\n",
      "Training \n",
      "\n",
      "\n",
      "Drain 6 Only\n"
     ]
    },
    {
     "data": {
      "application/vnd.jupyter.widget-view+json": {
       "model_id": "2dc31a6e3233475893df946fd7e72ca9",
       "version_major": 2,
       "version_minor": 0
      },
      "text/plain": [
       "Running Simulation :   0%|          | 0/200 [00:00<?, ?it/s]"
      ]
     },
     "metadata": {},
     "output_type": "display_data"
    },
    {
     "name": "stdout",
     "output_type": "stream",
     "text": [
      "Target: 1\n",
      "Currents: 0.0\n",
      "Training \n",
      "\n",
      "\n",
      "Drain 2 Only\n"
     ]
    },
    {
     "data": {
      "application/vnd.jupyter.widget-view+json": {
       "model_id": "a05f4b82661c4769830c5de4bea4fed3",
       "version_major": 2,
       "version_minor": 0
      },
      "text/plain": [
       "Running Simulation :   0%|          | 0/200 [00:00<?, ?it/s]"
      ]
     },
     "metadata": {},
     "output_type": "display_data"
    },
    {
     "name": "stdout",
     "output_type": "stream",
     "text": [
      "Target: 1\n",
      "Currents: 0.0\n",
      "Training \n",
      "\n",
      "\n",
      "Drain 8 Only\n"
     ]
    },
    {
     "data": {
      "application/vnd.jupyter.widget-view+json": {
       "model_id": "84cdb45a77e44d4aacc8f5ac9654d66e",
       "version_major": 2,
       "version_minor": 0
      },
      "text/plain": [
       "Running Simulation :   0%|          | 0/200 [00:00<?, ?it/s]"
      ]
     },
     "metadata": {},
     "output_type": "display_data"
    },
    {
     "name": "stdout",
     "output_type": "stream",
     "text": [
      "Target: 1\n",
      "Currents: 0.0\n",
      "Training \n",
      "\n",
      "\n",
      "Drain 3 Only\n"
     ]
    },
    {
     "data": {
      "application/vnd.jupyter.widget-view+json": {
       "model_id": "a15bb10c5f794448b298a73748b3182d",
       "version_major": 2,
       "version_minor": 0
      },
      "text/plain": [
       "Running Simulation :   0%|          | 0/200 [00:00<?, ?it/s]"
      ]
     },
     "metadata": {},
     "output_type": "display_data"
    },
    {
     "name": "stdout",
     "output_type": "stream",
     "text": [
      "Target: 1\n",
      "Currents: 0.0\n",
      "\n",
      "All Drains\n"
     ]
    },
    {
     "data": {
      "application/vnd.jupyter.widget-view+json": {
       "model_id": "647286bde9f94445b22692396f403669",
       "version_major": 2,
       "version_minor": 0
      },
      "text/plain": [
       "Running Simulation :   0%|          | 0/200 [00:00<?, ?it/s]"
      ]
     },
     "metadata": {},
     "output_type": "display_data"
    },
    {
     "name": "stdout",
     "output_type": "stream",
     "text": [
      "Target: 1\n",
      "Currents: 3.172299663055021e-07\n",
      "Testing \n",
      "\n",
      "Currents: [3.17229966e-07 4.78152607e-08 2.38427740e-07 2.43301123e-08\n",
      " 6.22796488e-09 5.04812530e-08 7.25749617e-09 1.11418922e-07\n",
      " 3.14177532e-07]\n",
      "Target: 1.0\n",
      "Accuracy: 1\n",
      "New Target Threshold:7.500000000000001e-06\n",
      "Training \n",
      "\n",
      "\n",
      "Drain 1 Only\n"
     ]
    },
    {
     "data": {
      "application/vnd.jupyter.widget-view+json": {
       "model_id": "b28ad47120974a0d8089438d76527b9b",
       "version_major": 2,
       "version_minor": 0
      },
      "text/plain": [
       "Running Simulation :   0%|          | 0/200 [00:00<?, ?it/s]"
      ]
     },
     "metadata": {},
     "output_type": "display_data"
    },
    {
     "name": "stdout",
     "output_type": "stream",
     "text": [
      "Target: 1\n",
      "Currents: 0.0\n",
      "Training \n",
      "\n",
      "\n",
      "Drain 5 Only\n"
     ]
    },
    {
     "data": {
      "application/vnd.jupyter.widget-view+json": {
       "model_id": "6659db98d2094fb69a4b46562ff528c2",
       "version_major": 2,
       "version_minor": 0
      },
      "text/plain": [
       "Running Simulation :   0%|          | 0/200 [00:00<?, ?it/s]"
      ]
     },
     "metadata": {},
     "output_type": "display_data"
    },
    {
     "name": "stdout",
     "output_type": "stream",
     "text": [
      "Target: 1\n",
      "Currents: 0.0\n",
      "Training \n",
      "\n",
      "\n",
      "Drain 3 Only\n"
     ]
    },
    {
     "data": {
      "application/vnd.jupyter.widget-view+json": {
       "model_id": "910e1cdf87774eb9a9b578721f1ee4c3",
       "version_major": 2,
       "version_minor": 0
      },
      "text/plain": [
       "Running Simulation :   0%|          | 0/200 [00:00<?, ?it/s]"
      ]
     },
     "metadata": {},
     "output_type": "display_data"
    },
    {
     "name": "stdout",
     "output_type": "stream",
     "text": [
      "Target: 1\n",
      "Currents: 0.0\n",
      "Training \n",
      "\n",
      "\n",
      "Drain 8 Only\n"
     ]
    },
    {
     "data": {
      "application/vnd.jupyter.widget-view+json": {
       "model_id": "13c6119f0e3a42699d1666de17463588",
       "version_major": 2,
       "version_minor": 0
      },
      "text/plain": [
       "Running Simulation :   0%|          | 0/200 [00:00<?, ?it/s]"
      ]
     },
     "metadata": {},
     "output_type": "display_data"
    },
    {
     "name": "stdout",
     "output_type": "stream",
     "text": [
      "Target: 1\n",
      "Currents: 0.0\n",
      "Training \n",
      "\n",
      "\n",
      "Drain 6 Only\n"
     ]
    },
    {
     "data": {
      "application/vnd.jupyter.widget-view+json": {
       "model_id": "6652385d31e840598e7784dceab82c27",
       "version_major": 2,
       "version_minor": 0
      },
      "text/plain": [
       "Running Simulation :   0%|          | 0/200 [00:00<?, ?it/s]"
      ]
     },
     "metadata": {},
     "output_type": "display_data"
    },
    {
     "name": "stdout",
     "output_type": "stream",
     "text": [
      "Target: 1\n",
      "Currents: 0.0\n",
      "Training \n",
      "\n",
      "\n",
      "Drain 2 Only\n"
     ]
    },
    {
     "data": {
      "application/vnd.jupyter.widget-view+json": {
       "model_id": "2a67e66320fd447ca268f1fd6f26aa31",
       "version_major": 2,
       "version_minor": 0
      },
      "text/plain": [
       "Running Simulation :   0%|          | 0/200 [00:00<?, ?it/s]"
      ]
     },
     "metadata": {},
     "output_type": "display_data"
    },
    {
     "name": "stdout",
     "output_type": "stream",
     "text": [
      "Target: 1\n",
      "Currents: 0.0\n",
      "Training \n",
      "\n",
      "\n",
      "Drain 9 Only\n"
     ]
    },
    {
     "data": {
      "application/vnd.jupyter.widget-view+json": {
       "model_id": "cf700967a999487c9e599706115564b0",
       "version_major": 2,
       "version_minor": 0
      },
      "text/plain": [
       "Running Simulation :   0%|          | 0/200 [00:00<?, ?it/s]"
      ]
     },
     "metadata": {},
     "output_type": "display_data"
    },
    {
     "name": "stdout",
     "output_type": "stream",
     "text": [
      "Target: 1\n",
      "Currents: 0.0\n",
      "Training \n",
      "\n",
      "\n",
      "Drain 7 Only\n"
     ]
    },
    {
     "data": {
      "application/vnd.jupyter.widget-view+json": {
       "model_id": "f0b10c90e9a740339a7e843e1fb324dd",
       "version_major": 2,
       "version_minor": 0
      },
      "text/plain": [
       "Running Simulation :   0%|          | 0/200 [00:00<?, ?it/s]"
      ]
     },
     "metadata": {},
     "output_type": "display_data"
    },
    {
     "name": "stdout",
     "output_type": "stream",
     "text": [
      "Target: 1\n",
      "Currents: 0.0\n",
      "Training \n",
      "\n",
      "\n",
      "Drain 4 Only\n"
     ]
    },
    {
     "data": {
      "application/vnd.jupyter.widget-view+json": {
       "model_id": "25b6f09639f349b597c04df50baf2cf5",
       "version_major": 2,
       "version_minor": 0
      },
      "text/plain": [
       "Running Simulation :   0%|          | 0/200 [00:00<?, ?it/s]"
      ]
     },
     "metadata": {},
     "output_type": "display_data"
    },
    {
     "name": "stdout",
     "output_type": "stream",
     "text": [
      "Target: 1\n",
      "Currents: 0.0\n",
      "\n",
      "All Drains\n"
     ]
    },
    {
     "data": {
      "application/vnd.jupyter.widget-view+json": {
       "model_id": "216e0fcf5add4f869d89a452ba2f10b8",
       "version_major": 2,
       "version_minor": 0
      },
      "text/plain": [
       "Running Simulation :   0%|          | 0/200 [00:00<?, ?it/s]"
      ]
     },
     "metadata": {},
     "output_type": "display_data"
    },
    {
     "name": "stdout",
     "output_type": "stream",
     "text": [
      "Target: 1\n",
      "Currents: 2.1422283723267557e-07\n",
      "Testing \n",
      "\n",
      "Currents: [2.14222837e-07 7.82344481e-08 1.59953071e-08 2.39653342e-07\n",
      " 4.73978952e-09 3.12386001e-08 2.90094214e-07 1.18759467e-08\n",
      " 2.85432288e-07]\n",
      "Target: 1.0\n",
      "Accuracy: 0\n",
      "New Target Threshold:8.333333333333334e-06\n",
      "Training \n",
      "\n",
      "\n",
      "Drain 2 Only\n"
     ]
    },
    {
     "data": {
      "application/vnd.jupyter.widget-view+json": {
       "model_id": "f714b34210234205bf6314e1242d2a9d",
       "version_major": 2,
       "version_minor": 0
      },
      "text/plain": [
       "Running Simulation :   0%|          | 0/200 [00:00<?, ?it/s]"
      ]
     },
     "metadata": {},
     "output_type": "display_data"
    },
    {
     "name": "stdout",
     "output_type": "stream",
     "text": [
      "Target: 1\n",
      "Currents: 0.0\n",
      "Training \n",
      "\n",
      "\n",
      "Drain 3 Only\n"
     ]
    },
    {
     "data": {
      "application/vnd.jupyter.widget-view+json": {
       "model_id": "c561acbfa40d4e4494f5abfb4c224305",
       "version_major": 2,
       "version_minor": 0
      },
      "text/plain": [
       "Running Simulation :   0%|          | 0/200 [00:00<?, ?it/s]"
      ]
     },
     "metadata": {},
     "output_type": "display_data"
    },
    {
     "name": "stdout",
     "output_type": "stream",
     "text": [
      "Target: 1\n",
      "Currents: 0.0\n",
      "Training \n",
      "\n",
      "\n",
      "Drain 7 Only\n"
     ]
    },
    {
     "data": {
      "application/vnd.jupyter.widget-view+json": {
       "model_id": "d09761bf8f5047d79ac4174dc909bdb9",
       "version_major": 2,
       "version_minor": 0
      },
      "text/plain": [
       "Running Simulation :   0%|          | 0/200 [00:00<?, ?it/s]"
      ]
     },
     "metadata": {},
     "output_type": "display_data"
    },
    {
     "name": "stdout",
     "output_type": "stream",
     "text": [
      "Target: 1\n",
      "Currents: 0.0\n",
      "Training \n",
      "\n",
      "\n",
      "Drain 4 Only\n"
     ]
    },
    {
     "data": {
      "application/vnd.jupyter.widget-view+json": {
       "model_id": "c7e4299cfb82412fae2aab32f005e0a5",
       "version_major": 2,
       "version_minor": 0
      },
      "text/plain": [
       "Running Simulation :   0%|          | 0/200 [00:00<?, ?it/s]"
      ]
     },
     "metadata": {},
     "output_type": "display_data"
    },
    {
     "name": "stdout",
     "output_type": "stream",
     "text": [
      "Target: 1\n",
      "Currents: 0.0\n",
      "Training \n",
      "\n",
      "\n",
      "Drain 8 Only\n"
     ]
    },
    {
     "data": {
      "application/vnd.jupyter.widget-view+json": {
       "model_id": "aada6a4b55e145de8dfdd15c0163f378",
       "version_major": 2,
       "version_minor": 0
      },
      "text/plain": [
       "Running Simulation :   0%|          | 0/200 [00:00<?, ?it/s]"
      ]
     },
     "metadata": {},
     "output_type": "display_data"
    },
    {
     "name": "stdout",
     "output_type": "stream",
     "text": [
      "Target: 1\n",
      "Currents: 0.0\n",
      "Training \n",
      "\n",
      "\n",
      "Drain 9 Only\n"
     ]
    },
    {
     "data": {
      "application/vnd.jupyter.widget-view+json": {
       "model_id": "699a6f01cb574e4aac3d9962850c8e4d",
       "version_major": 2,
       "version_minor": 0
      },
      "text/plain": [
       "Running Simulation :   0%|          | 0/200 [00:00<?, ?it/s]"
      ]
     },
     "metadata": {},
     "output_type": "display_data"
    },
    {
     "name": "stdout",
     "output_type": "stream",
     "text": [
      "Target: 1\n",
      "Currents: 0.0\n",
      "Training \n",
      "\n",
      "\n",
      "Drain 6 Only\n"
     ]
    },
    {
     "data": {
      "application/vnd.jupyter.widget-view+json": {
       "model_id": "ae7a23128ed848ecabfefa150ccb502e",
       "version_major": 2,
       "version_minor": 0
      },
      "text/plain": [
       "Running Simulation :   0%|          | 0/200 [00:00<?, ?it/s]"
      ]
     },
     "metadata": {},
     "output_type": "display_data"
    },
    {
     "name": "stdout",
     "output_type": "stream",
     "text": [
      "Target: 1\n",
      "Currents: 0.0\n",
      "Training \n",
      "\n",
      "\n",
      "Drain 1 Only\n"
     ]
    },
    {
     "data": {
      "application/vnd.jupyter.widget-view+json": {
       "model_id": "25ffaa44de7a4ff28d1fa5f24ff8b327",
       "version_major": 2,
       "version_minor": 0
      },
      "text/plain": [
       "Running Simulation :   0%|          | 0/200 [00:00<?, ?it/s]"
      ]
     },
     "metadata": {},
     "output_type": "display_data"
    },
    {
     "name": "stdout",
     "output_type": "stream",
     "text": [
      "Target: 1\n",
      "Currents: 0.0\n",
      "Training \n",
      "\n",
      "\n",
      "Drain 5 Only\n"
     ]
    },
    {
     "data": {
      "application/vnd.jupyter.widget-view+json": {
       "model_id": "2b21a296b5d34f3a99fcc6a2c2ed5151",
       "version_major": 2,
       "version_minor": 0
      },
      "text/plain": [
       "Running Simulation :   0%|          | 0/200 [00:00<?, ?it/s]"
      ]
     },
     "metadata": {},
     "output_type": "display_data"
    },
    {
     "name": "stdout",
     "output_type": "stream",
     "text": [
      "Target: 1\n",
      "Currents: 0.0\n",
      "\n",
      "All Drains\n"
     ]
    },
    {
     "data": {
      "application/vnd.jupyter.widget-view+json": {
       "model_id": "16e99e7946a24844af625a2ca43d468b",
       "version_major": 2,
       "version_minor": 0
      },
      "text/plain": [
       "Running Simulation :   0%|          | 0/200 [00:00<?, ?it/s]"
      ]
     },
     "metadata": {},
     "output_type": "display_data"
    },
    {
     "name": "stdout",
     "output_type": "stream",
     "text": [
      "Target: 1\n",
      "Currents: 5.70337930607884e-07\n",
      "Testing \n",
      "\n",
      "Currents: [5.70337931e-07 1.80692942e-07 1.10157314e-08 3.22561903e-08\n",
      " 1.24302699e-07 7.26130263e-08 8.83727580e-09 1.23393569e-08\n",
      " 3.20514631e-07]\n",
      "Target: 1.0\n",
      "Accuracy: 1\n",
      "New Target Threshold:8.333333333333334e-06\n",
      "Training \n",
      "\n",
      "\n",
      "Drain 6 Only\n"
     ]
    },
    {
     "data": {
      "application/vnd.jupyter.widget-view+json": {
       "model_id": "8453c33051044b22ae549fd982d9f766",
       "version_major": 2,
       "version_minor": 0
      },
      "text/plain": [
       "Running Simulation :   0%|          | 0/200 [00:00<?, ?it/s]"
      ]
     },
     "metadata": {},
     "output_type": "display_data"
    },
    {
     "name": "stdout",
     "output_type": "stream",
     "text": [
      "Target: 1\n",
      "Currents: 0.0\n",
      "Training \n",
      "\n",
      "\n",
      "Drain 5 Only\n"
     ]
    },
    {
     "data": {
      "application/vnd.jupyter.widget-view+json": {
       "model_id": "5977a24572814600bff0dbd6be560a37",
       "version_major": 2,
       "version_minor": 0
      },
      "text/plain": [
       "Running Simulation :   0%|          | 0/200 [00:00<?, ?it/s]"
      ]
     },
     "metadata": {},
     "output_type": "display_data"
    },
    {
     "name": "stdout",
     "output_type": "stream",
     "text": [
      "Target: 1\n",
      "Currents: 0.0\n",
      "Training \n",
      "\n",
      "\n",
      "Drain 2 Only\n"
     ]
    },
    {
     "data": {
      "application/vnd.jupyter.widget-view+json": {
       "model_id": "58d3f50c55af4984b60fdc6836f9b4a9",
       "version_major": 2,
       "version_minor": 0
      },
      "text/plain": [
       "Running Simulation :   0%|          | 0/200 [00:00<?, ?it/s]"
      ]
     },
     "metadata": {},
     "output_type": "display_data"
    },
    {
     "name": "stdout",
     "output_type": "stream",
     "text": [
      "Target: 1\n",
      "Currents: 0.0\n",
      "Training \n",
      "\n",
      "\n",
      "Drain 1 Only\n"
     ]
    },
    {
     "data": {
      "application/vnd.jupyter.widget-view+json": {
       "model_id": "382dd79a54df430b91db1f4127e91b3c",
       "version_major": 2,
       "version_minor": 0
      },
      "text/plain": [
       "Running Simulation :   0%|          | 0/200 [00:00<?, ?it/s]"
      ]
     },
     "metadata": {},
     "output_type": "display_data"
    },
    {
     "name": "stdout",
     "output_type": "stream",
     "text": [
      "Target: 1\n",
      "Currents: 0.0\n",
      "Training \n",
      "\n",
      "\n",
      "Drain 7 Only\n"
     ]
    },
    {
     "data": {
      "application/vnd.jupyter.widget-view+json": {
       "model_id": "1b86cbe616fe4a64855028b0382aeb4a",
       "version_major": 2,
       "version_minor": 0
      },
      "text/plain": [
       "Running Simulation :   0%|          | 0/200 [00:00<?, ?it/s]"
      ]
     },
     "metadata": {},
     "output_type": "display_data"
    },
    {
     "name": "stdout",
     "output_type": "stream",
     "text": [
      "Target: 1\n",
      "Currents: 0.0\n",
      "Training \n",
      "\n",
      "\n",
      "Drain 4 Only\n"
     ]
    },
    {
     "data": {
      "application/vnd.jupyter.widget-view+json": {
       "model_id": "d2192a7382a247d7bf19ef4ddc93c706",
       "version_major": 2,
       "version_minor": 0
      },
      "text/plain": [
       "Running Simulation :   0%|          | 0/200 [00:00<?, ?it/s]"
      ]
     },
     "metadata": {},
     "output_type": "display_data"
    },
    {
     "name": "stdout",
     "output_type": "stream",
     "text": [
      "Target: 1\n",
      "Currents: 0.0\n",
      "Training \n",
      "\n",
      "\n",
      "Drain 3 Only\n"
     ]
    },
    {
     "data": {
      "application/vnd.jupyter.widget-view+json": {
       "model_id": "be3a4fed824a4a7a886af8b5b275cb50",
       "version_major": 2,
       "version_minor": 0
      },
      "text/plain": [
       "Running Simulation :   0%|          | 0/200 [00:00<?, ?it/s]"
      ]
     },
     "metadata": {},
     "output_type": "display_data"
    },
    {
     "name": "stdout",
     "output_type": "stream",
     "text": [
      "Target: 1\n",
      "Currents: 0.0\n",
      "Training \n",
      "\n",
      "\n",
      "Drain 8 Only\n"
     ]
    },
    {
     "data": {
      "application/vnd.jupyter.widget-view+json": {
       "model_id": "f2f259130db8428881574557e3faa6b2",
       "version_major": 2,
       "version_minor": 0
      },
      "text/plain": [
       "Running Simulation :   0%|          | 0/200 [00:00<?, ?it/s]"
      ]
     },
     "metadata": {},
     "output_type": "display_data"
    },
    {
     "name": "stdout",
     "output_type": "stream",
     "text": [
      "Target: 1\n",
      "Currents: 0.0\n",
      "Training \n",
      "\n",
      "\n",
      "Drain 9 Only\n"
     ]
    },
    {
     "data": {
      "application/vnd.jupyter.widget-view+json": {
       "model_id": "f102ca0020f74b6aa3f54439ff92e305",
       "version_major": 2,
       "version_minor": 0
      },
      "text/plain": [
       "Running Simulation :   0%|          | 0/200 [00:00<?, ?it/s]"
      ]
     },
     "metadata": {},
     "output_type": "display_data"
    },
    {
     "name": "stdout",
     "output_type": "stream",
     "text": [
      "Target: 1\n",
      "Currents: 0.0\n",
      "\n",
      "All Drains\n"
     ]
    },
    {
     "data": {
      "application/vnd.jupyter.widget-view+json": {
       "model_id": "51de7b2f4c264cf3b24c69e30b380d45",
       "version_major": 2,
       "version_minor": 0
      },
      "text/plain": [
       "Running Simulation :   0%|          | 0/200 [00:00<?, ?it/s]"
      ]
     },
     "metadata": {},
     "output_type": "display_data"
    },
    {
     "name": "stdout",
     "output_type": "stream",
     "text": [
      "Target: 1\n",
      "Currents: 3.6621983754573745e-07\n",
      "Testing \n",
      "\n",
      "Currents: [3.66219838e-07 1.23438731e-08 5.13643175e-08 2.64007803e-08\n",
      " 4.83693583e-09 7.41357222e-09 1.70176035e-08 8.33587241e-08\n",
      " 3.48614762e-07]\n",
      "Target: 1.0\n",
      "Accuracy: 1\n",
      "New Target Threshold:8.333333333333334e-06\n",
      "Training \n",
      "\n",
      "\n",
      "Drain 6 Only\n"
     ]
    },
    {
     "data": {
      "application/vnd.jupyter.widget-view+json": {
       "model_id": "34321f3c73b74ccc9f6ce3d3691cf3a3",
       "version_major": 2,
       "version_minor": 0
      },
      "text/plain": [
       "Running Simulation :   0%|          | 0/200 [00:00<?, ?it/s]"
      ]
     },
     "metadata": {},
     "output_type": "display_data"
    },
    {
     "name": "stdout",
     "output_type": "stream",
     "text": [
      "Target: 1\n",
      "Currents: 0.0\n",
      "Training \n",
      "\n",
      "\n",
      "Drain 9 Only\n"
     ]
    },
    {
     "data": {
      "application/vnd.jupyter.widget-view+json": {
       "model_id": "b640537fc5764de787b22dae235235c6",
       "version_major": 2,
       "version_minor": 0
      },
      "text/plain": [
       "Running Simulation :   0%|          | 0/200 [00:00<?, ?it/s]"
      ]
     },
     "metadata": {},
     "output_type": "display_data"
    },
    {
     "name": "stdout",
     "output_type": "stream",
     "text": [
      "Target: 1\n",
      "Currents: 0.0\n",
      "Training \n",
      "\n",
      "\n",
      "Drain 7 Only\n"
     ]
    },
    {
     "data": {
      "application/vnd.jupyter.widget-view+json": {
       "model_id": "6987aa11011a477aa86c054dd1503b61",
       "version_major": 2,
       "version_minor": 0
      },
      "text/plain": [
       "Running Simulation :   0%|          | 0/200 [00:00<?, ?it/s]"
      ]
     },
     "metadata": {},
     "output_type": "display_data"
    },
    {
     "name": "stdout",
     "output_type": "stream",
     "text": [
      "Target: 1\n",
      "Currents: 0.0\n",
      "Training \n",
      "\n",
      "\n",
      "Drain 4 Only\n"
     ]
    },
    {
     "data": {
      "application/vnd.jupyter.widget-view+json": {
       "model_id": "b60bdecde2f948908a0cb6df6989fd66",
       "version_major": 2,
       "version_minor": 0
      },
      "text/plain": [
       "Running Simulation :   0%|          | 0/200 [00:00<?, ?it/s]"
      ]
     },
     "metadata": {},
     "output_type": "display_data"
    },
    {
     "name": "stdout",
     "output_type": "stream",
     "text": [
      "Target: 1\n",
      "Currents: 0.0\n",
      "Training \n",
      "\n",
      "\n",
      "Drain 3 Only\n"
     ]
    },
    {
     "data": {
      "application/vnd.jupyter.widget-view+json": {
       "model_id": "22ce2fea5b434c60a5da52295d31b8b8",
       "version_major": 2,
       "version_minor": 0
      },
      "text/plain": [
       "Running Simulation :   0%|          | 0/200 [00:00<?, ?it/s]"
      ]
     },
     "metadata": {},
     "output_type": "display_data"
    },
    {
     "name": "stdout",
     "output_type": "stream",
     "text": [
      "Target: 1\n",
      "Currents: 0.0\n",
      "Training \n",
      "\n",
      "\n",
      "Drain 8 Only\n"
     ]
    },
    {
     "data": {
      "application/vnd.jupyter.widget-view+json": {
       "model_id": "3783c89ed6fb460882c816a7c46c5f7c",
       "version_major": 2,
       "version_minor": 0
      },
      "text/plain": [
       "Running Simulation :   0%|          | 0/200 [00:00<?, ?it/s]"
      ]
     },
     "metadata": {},
     "output_type": "display_data"
    },
    {
     "name": "stdout",
     "output_type": "stream",
     "text": [
      "Target: 1\n",
      "Currents: 0.0\n",
      "Training \n",
      "\n",
      "\n",
      "Drain 5 Only\n"
     ]
    },
    {
     "data": {
      "application/vnd.jupyter.widget-view+json": {
       "model_id": "a76f9cb18e6a4bd0b96008db06307cea",
       "version_major": 2,
       "version_minor": 0
      },
      "text/plain": [
       "Running Simulation :   0%|          | 0/200 [00:00<?, ?it/s]"
      ]
     },
     "metadata": {},
     "output_type": "display_data"
    },
    {
     "name": "stdout",
     "output_type": "stream",
     "text": [
      "Target: 1\n",
      "Currents: 0.0\n",
      "Training \n",
      "\n",
      "\n",
      "Drain 1 Only\n"
     ]
    },
    {
     "data": {
      "application/vnd.jupyter.widget-view+json": {
       "model_id": "46b8c205124c4a928eb1d0827a9994ad",
       "version_major": 2,
       "version_minor": 0
      },
      "text/plain": [
       "Running Simulation :   0%|          | 0/200 [00:00<?, ?it/s]"
      ]
     },
     "metadata": {},
     "output_type": "display_data"
    },
    {
     "name": "stdout",
     "output_type": "stream",
     "text": [
      "Target: 1\n",
      "Currents: 0.0\n",
      "Training \n",
      "\n",
      "\n",
      "Drain 2 Only\n"
     ]
    },
    {
     "data": {
      "application/vnd.jupyter.widget-view+json": {
       "model_id": "03d2359a71f34089aba40a9be58d8063",
       "version_major": 2,
       "version_minor": 0
      },
      "text/plain": [
       "Running Simulation :   0%|          | 0/200 [00:00<?, ?it/s]"
      ]
     },
     "metadata": {},
     "output_type": "display_data"
    },
    {
     "name": "stdout",
     "output_type": "stream",
     "text": [
      "Target: 1\n",
      "Currents: 0.0\n",
      "\n",
      "All Drains\n"
     ]
    },
    {
     "data": {
      "application/vnd.jupyter.widget-view+json": {
       "model_id": "21d2569b26de409488297d216e0b76a8",
       "version_major": 2,
       "version_minor": 0
      },
      "text/plain": [
       "Running Simulation :   0%|          | 0/200 [00:00<?, ?it/s]"
      ]
     },
     "metadata": {},
     "output_type": "display_data"
    },
    {
     "name": "stdout",
     "output_type": "stream",
     "text": [
      "Target: 1\n",
      "Currents: 5.375272398244961e-07\n",
      "Testing \n",
      "\n",
      "Currents: [5.37527240e-07 2.36554329e-07 3.58305156e-08 2.16555357e-08\n",
      " 8.65610130e-08 1.77847349e-08 2.23306442e-08 4.81533471e-08\n",
      " 4.08378005e-08]\n",
      "Target: 1.0\n",
      "Accuracy: 1\n",
      "New Target Threshold:8.333333333333334e-06\n",
      "Training \n",
      "\n",
      "\n",
      "Drain 9 Only\n"
     ]
    },
    {
     "data": {
      "application/vnd.jupyter.widget-view+json": {
       "model_id": "fbde5ebb1efd4ea784865b002f1d2950",
       "version_major": 2,
       "version_minor": 0
      },
      "text/plain": [
       "Running Simulation :   0%|          | 0/200 [00:00<?, ?it/s]"
      ]
     },
     "metadata": {},
     "output_type": "display_data"
    },
    {
     "name": "stdout",
     "output_type": "stream",
     "text": [
      "Target: 1\n",
      "Currents: 0.0\n",
      "Training \n",
      "\n",
      "\n",
      "Drain 8 Only\n"
     ]
    },
    {
     "data": {
      "application/vnd.jupyter.widget-view+json": {
       "model_id": "52c1b5284e4f42daba26b5889c2ba0f2",
       "version_major": 2,
       "version_minor": 0
      },
      "text/plain": [
       "Running Simulation :   0%|          | 0/200 [00:00<?, ?it/s]"
      ]
     },
     "metadata": {},
     "output_type": "display_data"
    },
    {
     "name": "stdout",
     "output_type": "stream",
     "text": [
      "Target: 1\n",
      "Currents: 0.0\n",
      "Training \n",
      "\n",
      "\n",
      "Drain 1 Only\n"
     ]
    },
    {
     "data": {
      "application/vnd.jupyter.widget-view+json": {
       "model_id": "4a07af5b5e6e414e96a7e09b77734ef7",
       "version_major": 2,
       "version_minor": 0
      },
      "text/plain": [
       "Running Simulation :   0%|          | 0/200 [00:00<?, ?it/s]"
      ]
     },
     "metadata": {},
     "output_type": "display_data"
    },
    {
     "name": "stdout",
     "output_type": "stream",
     "text": [
      "Target: 1\n",
      "Currents: 0.0\n",
      "Training \n",
      "\n",
      "\n",
      "Drain 4 Only\n"
     ]
    },
    {
     "data": {
      "application/vnd.jupyter.widget-view+json": {
       "model_id": "f57c5284f4134bb1bfc4ebabf486d3d6",
       "version_major": 2,
       "version_minor": 0
      },
      "text/plain": [
       "Running Simulation :   0%|          | 0/200 [00:00<?, ?it/s]"
      ]
     },
     "metadata": {},
     "output_type": "display_data"
    },
    {
     "name": "stdout",
     "output_type": "stream",
     "text": [
      "Target: 1\n",
      "Currents: 0.0\n",
      "Training \n",
      "\n",
      "\n",
      "Drain 5 Only\n"
     ]
    },
    {
     "data": {
      "application/vnd.jupyter.widget-view+json": {
       "model_id": "f2eed0c85295463b98bcd52d725d4f56",
       "version_major": 2,
       "version_minor": 0
      },
      "text/plain": [
       "Running Simulation :   0%|          | 0/200 [00:00<?, ?it/s]"
      ]
     },
     "metadata": {},
     "output_type": "display_data"
    },
    {
     "name": "stdout",
     "output_type": "stream",
     "text": [
      "Target: 1\n",
      "Currents: 0.0\n",
      "Training \n",
      "\n",
      "\n",
      "Drain 6 Only\n"
     ]
    },
    {
     "data": {
      "application/vnd.jupyter.widget-view+json": {
       "model_id": "0763885253a04fe9bc8c90f02215f53e",
       "version_major": 2,
       "version_minor": 0
      },
      "text/plain": [
       "Running Simulation :   0%|          | 0/200 [00:00<?, ?it/s]"
      ]
     },
     "metadata": {},
     "output_type": "display_data"
    },
    {
     "name": "stdout",
     "output_type": "stream",
     "text": [
      "Target: 1\n",
      "Currents: 0.0\n",
      "Training \n",
      "\n",
      "\n",
      "Drain 2 Only\n"
     ]
    },
    {
     "data": {
      "application/vnd.jupyter.widget-view+json": {
       "model_id": "14a54733193343e5962ed37d6abd4c59",
       "version_major": 2,
       "version_minor": 0
      },
      "text/plain": [
       "Running Simulation :   0%|          | 0/200 [00:00<?, ?it/s]"
      ]
     },
     "metadata": {},
     "output_type": "display_data"
    },
    {
     "name": "stdout",
     "output_type": "stream",
     "text": [
      "Target: 1\n",
      "Currents: 0.0\n",
      "Training \n",
      "\n",
      "\n",
      "Drain 7 Only\n"
     ]
    },
    {
     "data": {
      "application/vnd.jupyter.widget-view+json": {
       "model_id": "daa3d19f916e42bc8b2b609799ab0b11",
       "version_major": 2,
       "version_minor": 0
      },
      "text/plain": [
       "Running Simulation :   0%|          | 0/200 [00:00<?, ?it/s]"
      ]
     },
     "metadata": {},
     "output_type": "display_data"
    },
    {
     "name": "stdout",
     "output_type": "stream",
     "text": [
      "Target: 1\n",
      "Currents: 0.0\n",
      "Training \n",
      "\n",
      "\n",
      "Drain 3 Only\n"
     ]
    },
    {
     "data": {
      "application/vnd.jupyter.widget-view+json": {
       "model_id": "392d72018ed445238f051616d8a65246",
       "version_major": 2,
       "version_minor": 0
      },
      "text/plain": [
       "Running Simulation :   0%|          | 0/200 [00:00<?, ?it/s]"
      ]
     },
     "metadata": {},
     "output_type": "display_data"
    },
    {
     "name": "stdout",
     "output_type": "stream",
     "text": [
      "Target: 1\n",
      "Currents: 0.0\n",
      "\n",
      "All Drains\n"
     ]
    },
    {
     "data": {
      "application/vnd.jupyter.widget-view+json": {
       "model_id": "fb7510e1cd0748f0a4c87f4839174f6c",
       "version_major": 2,
       "version_minor": 0
      },
      "text/plain": [
       "Running Simulation :   0%|          | 0/200 [00:00<?, ?it/s]"
      ]
     },
     "metadata": {},
     "output_type": "display_data"
    },
    {
     "name": "stdout",
     "output_type": "stream",
     "text": [
      "Target: 1\n",
      "Currents: 3.117968933388766e-07\n",
      "Testing \n",
      "\n",
      "Currents: [3.11796893e-07 1.30013344e-08 2.83936812e-07 1.68876725e-08\n",
      " 2.35600932e-08 5.87925264e-08 2.15293217e-07 7.82837080e-09\n",
      " 4.74093302e-09]\n",
      "Target: 1.0\n",
      "Accuracy: 1\n",
      "New Target Threshold:8.333333333333334e-06\n",
      "Training \n",
      "\n",
      "\n",
      "Drain 6 Only\n"
     ]
    },
    {
     "data": {
      "application/vnd.jupyter.widget-view+json": {
       "model_id": "a543a6374c62488fa09bad5e9b0b2a20",
       "version_major": 2,
       "version_minor": 0
      },
      "text/plain": [
       "Running Simulation :   0%|          | 0/200 [00:00<?, ?it/s]"
      ]
     },
     "metadata": {},
     "output_type": "display_data"
    },
    {
     "name": "stdout",
     "output_type": "stream",
     "text": [
      "Target: 1\n",
      "Currents: 0.0\n",
      "Training \n",
      "\n",
      "\n",
      "Drain 9 Only\n"
     ]
    },
    {
     "data": {
      "application/vnd.jupyter.widget-view+json": {
       "model_id": "b92cb41b680f4a0fbee7e6a9e6c795a3",
       "version_major": 2,
       "version_minor": 0
      },
      "text/plain": [
       "Running Simulation :   0%|          | 0/200 [00:00<?, ?it/s]"
      ]
     },
     "metadata": {},
     "output_type": "display_data"
    },
    {
     "name": "stdout",
     "output_type": "stream",
     "text": [
      "Target: 1\n",
      "Currents: 0.0\n",
      "Training \n",
      "\n",
      "\n",
      "Drain 5 Only\n"
     ]
    },
    {
     "data": {
      "application/vnd.jupyter.widget-view+json": {
       "model_id": "5d1a3712b7d94af6a39fb3e5f62c171e",
       "version_major": 2,
       "version_minor": 0
      },
      "text/plain": [
       "Running Simulation :   0%|          | 0/200 [00:00<?, ?it/s]"
      ]
     },
     "metadata": {},
     "output_type": "display_data"
    },
    {
     "name": "stdout",
     "output_type": "stream",
     "text": [
      "Target: 1\n",
      "Currents: 0.0\n",
      "Training \n",
      "\n",
      "\n",
      "Drain 7 Only\n"
     ]
    },
    {
     "data": {
      "application/vnd.jupyter.widget-view+json": {
       "model_id": "3a8b7611371d427ab04badc593b783e3",
       "version_major": 2,
       "version_minor": 0
      },
      "text/plain": [
       "Running Simulation :   0%|          | 0/200 [00:00<?, ?it/s]"
      ]
     },
     "metadata": {},
     "output_type": "display_data"
    },
    {
     "name": "stdout",
     "output_type": "stream",
     "text": [
      "Target: 1\n",
      "Currents: 0.0\n",
      "Training \n",
      "\n",
      "\n",
      "Drain 4 Only\n"
     ]
    },
    {
     "data": {
      "application/vnd.jupyter.widget-view+json": {
       "model_id": "1002ecad188643e696a781d1165d65f3",
       "version_major": 2,
       "version_minor": 0
      },
      "text/plain": [
       "Running Simulation :   0%|          | 0/200 [00:00<?, ?it/s]"
      ]
     },
     "metadata": {},
     "output_type": "display_data"
    },
    {
     "name": "stdout",
     "output_type": "stream",
     "text": [
      "Target: 1\n",
      "Currents: 0.0\n",
      "Training \n",
      "\n",
      "\n",
      "Drain 3 Only\n"
     ]
    },
    {
     "data": {
      "application/vnd.jupyter.widget-view+json": {
       "model_id": "b190054eb7194336b2fa3c53403930a2",
       "version_major": 2,
       "version_minor": 0
      },
      "text/plain": [
       "Running Simulation :   0%|          | 0/200 [00:00<?, ?it/s]"
      ]
     },
     "metadata": {},
     "output_type": "display_data"
    },
    {
     "name": "stdout",
     "output_type": "stream",
     "text": [
      "Target: 1\n",
      "Currents: 0.0\n",
      "Training \n",
      "\n",
      "\n",
      "Drain 8 Only\n"
     ]
    },
    {
     "data": {
      "application/vnd.jupyter.widget-view+json": {
       "model_id": "462b5a5698de46bab985795d292eba2f",
       "version_major": 2,
       "version_minor": 0
      },
      "text/plain": [
       "Running Simulation :   0%|          | 0/200 [00:00<?, ?it/s]"
      ]
     },
     "metadata": {},
     "output_type": "display_data"
    },
    {
     "name": "stdout",
     "output_type": "stream",
     "text": [
      "Target: 1\n",
      "Currents: 0.0\n",
      "Training \n",
      "\n",
      "\n",
      "Drain 2 Only\n"
     ]
    },
    {
     "data": {
      "application/vnd.jupyter.widget-view+json": {
       "model_id": "84f22b28cf034543816977bf80455176",
       "version_major": 2,
       "version_minor": 0
      },
      "text/plain": [
       "Running Simulation :   0%|          | 0/200 [00:00<?, ?it/s]"
      ]
     },
     "metadata": {},
     "output_type": "display_data"
    },
    {
     "name": "stdout",
     "output_type": "stream",
     "text": [
      "Target: 1\n",
      "Currents: 0.0\n",
      "Training \n",
      "\n",
      "\n",
      "Drain 1 Only\n"
     ]
    },
    {
     "data": {
      "application/vnd.jupyter.widget-view+json": {
       "model_id": "86aac8a227d741c19d56b00f48f99096",
       "version_major": 2,
       "version_minor": 0
      },
      "text/plain": [
       "Running Simulation :   0%|          | 0/200 [00:00<?, ?it/s]"
      ]
     },
     "metadata": {},
     "output_type": "display_data"
    },
    {
     "name": "stdout",
     "output_type": "stream",
     "text": [
      "Target: 1\n",
      "Currents: 0.0\n",
      "\n",
      "All Drains\n"
     ]
    },
    {
     "data": {
      "application/vnd.jupyter.widget-view+json": {
       "model_id": "fd224bd195624404abc0b0c40a7c94c7",
       "version_major": 2,
       "version_minor": 0
      },
      "text/plain": [
       "Running Simulation :   0%|          | 0/200 [00:00<?, ?it/s]"
      ]
     },
     "metadata": {},
     "output_type": "display_data"
    },
    {
     "name": "stdout",
     "output_type": "stream",
     "text": [
      "Target: 1\n",
      "Currents: 4.54461323730175e-07\n",
      "Testing \n",
      "\n",
      "Currents: [4.54461324e-07 4.19151089e-07 8.51241331e-08 3.73094794e-08\n",
      " 1.54588118e-08 1.80404852e-08 2.15008465e-08 8.48198476e-08\n",
      " 7.13554996e-09]\n",
      "Target: 1.0\n",
      "Accuracy: 1\n",
      "New Target Threshold:8.333333333333334e-06\n",
      "Training \n",
      "\n",
      "\n",
      "Drain 8 Only\n"
     ]
    },
    {
     "data": {
      "application/vnd.jupyter.widget-view+json": {
       "model_id": "7a7a04452d2f4fb4b3f1c2536f4959a4",
       "version_major": 2,
       "version_minor": 0
      },
      "text/plain": [
       "Running Simulation :   0%|          | 0/200 [00:00<?, ?it/s]"
      ]
     },
     "metadata": {},
     "output_type": "display_data"
    },
    {
     "name": "stdout",
     "output_type": "stream",
     "text": [
      "Target: 1\n",
      "Currents: 0.0\n",
      "Training \n",
      "\n",
      "\n",
      "Drain 1 Only\n"
     ]
    },
    {
     "data": {
      "application/vnd.jupyter.widget-view+json": {
       "model_id": "2fb7f76f031a40f48bdb796699f212fc",
       "version_major": 2,
       "version_minor": 0
      },
      "text/plain": [
       "Running Simulation :   0%|          | 0/200 [00:00<?, ?it/s]"
      ]
     },
     "metadata": {},
     "output_type": "display_data"
    },
    {
     "name": "stdout",
     "output_type": "stream",
     "text": [
      "Target: 1\n",
      "Currents: 0.0\n",
      "Training \n",
      "\n",
      "\n",
      "Drain 7 Only\n"
     ]
    },
    {
     "data": {
      "application/vnd.jupyter.widget-view+json": {
       "model_id": "a9a5a8f20c0f49ea886d01743cd6dec2",
       "version_major": 2,
       "version_minor": 0
      },
      "text/plain": [
       "Running Simulation :   0%|          | 0/200 [00:00<?, ?it/s]"
      ]
     },
     "metadata": {},
     "output_type": "display_data"
    },
    {
     "name": "stdout",
     "output_type": "stream",
     "text": [
      "Target: 1\n",
      "Currents: 0.0\n",
      "Training \n",
      "\n",
      "\n",
      "Drain 5 Only\n"
     ]
    },
    {
     "data": {
      "application/vnd.jupyter.widget-view+json": {
       "model_id": "14f1cc337bda49db86f3e1338782d77c",
       "version_major": 2,
       "version_minor": 0
      },
      "text/plain": [
       "Running Simulation :   0%|          | 0/200 [00:00<?, ?it/s]"
      ]
     },
     "metadata": {},
     "output_type": "display_data"
    },
    {
     "name": "stdout",
     "output_type": "stream",
     "text": [
      "Target: 1\n",
      "Currents: 0.0\n",
      "Training \n",
      "\n",
      "\n",
      "Drain 9 Only\n"
     ]
    },
    {
     "data": {
      "application/vnd.jupyter.widget-view+json": {
       "model_id": "b476c1d67c414ee3b964156d623ab11b",
       "version_major": 2,
       "version_minor": 0
      },
      "text/plain": [
       "Running Simulation :   0%|          | 0/200 [00:00<?, ?it/s]"
      ]
     },
     "metadata": {},
     "output_type": "display_data"
    },
    {
     "name": "stdout",
     "output_type": "stream",
     "text": [
      "Target: 1\n",
      "Currents: 0.0\n",
      "Training \n",
      "\n",
      "\n",
      "Drain 4 Only\n"
     ]
    },
    {
     "data": {
      "application/vnd.jupyter.widget-view+json": {
       "model_id": "f436db8a83274f3d99a2faf8848e5ad2",
       "version_major": 2,
       "version_minor": 0
      },
      "text/plain": [
       "Running Simulation :   0%|          | 0/200 [00:00<?, ?it/s]"
      ]
     },
     "metadata": {},
     "output_type": "display_data"
    },
    {
     "name": "stdout",
     "output_type": "stream",
     "text": [
      "Target: 1\n",
      "Currents: 0.0\n",
      "Training \n",
      "\n",
      "\n",
      "Drain 2 Only\n"
     ]
    },
    {
     "data": {
      "application/vnd.jupyter.widget-view+json": {
       "model_id": "a6984a5364194c78827cbc708fb09054",
       "version_major": 2,
       "version_minor": 0
      },
      "text/plain": [
       "Running Simulation :   0%|          | 0/200 [00:00<?, ?it/s]"
      ]
     },
     "metadata": {},
     "output_type": "display_data"
    },
    {
     "name": "stdout",
     "output_type": "stream",
     "text": [
      "Target: 1\n",
      "Currents: 0.0\n",
      "Training \n",
      "\n",
      "\n",
      "Drain 3 Only\n"
     ]
    },
    {
     "data": {
      "application/vnd.jupyter.widget-view+json": {
       "model_id": "8d64fac1132a430bb233781029ba9413",
       "version_major": 2,
       "version_minor": 0
      },
      "text/plain": [
       "Running Simulation :   0%|          | 0/200 [00:00<?, ?it/s]"
      ]
     },
     "metadata": {},
     "output_type": "display_data"
    },
    {
     "name": "stdout",
     "output_type": "stream",
     "text": [
      "Target: 1\n",
      "Currents: 0.0\n",
      "Training \n",
      "\n",
      "\n",
      "Drain 6 Only\n"
     ]
    },
    {
     "data": {
      "application/vnd.jupyter.widget-view+json": {
       "model_id": "b5d07663fb77459da8d25de908d497da",
       "version_major": 2,
       "version_minor": 0
      },
      "text/plain": [
       "Running Simulation :   0%|          | 0/200 [00:00<?, ?it/s]"
      ]
     },
     "metadata": {},
     "output_type": "display_data"
    },
    {
     "name": "stdout",
     "output_type": "stream",
     "text": [
      "Target: 1\n",
      "Currents: 0.0\n",
      "\n",
      "All Drains\n"
     ]
    },
    {
     "data": {
      "application/vnd.jupyter.widget-view+json": {
       "model_id": "bf7877ed05a14ad48e7f40aea5c819c7",
       "version_major": 2,
       "version_minor": 0
      },
      "text/plain": [
       "Running Simulation :   0%|          | 0/200 [00:00<?, ?it/s]"
      ]
     },
     "metadata": {},
     "output_type": "display_data"
    },
    {
     "name": "stdout",
     "output_type": "stream",
     "text": [
      "Target: 1\n",
      "Currents: 2.254765978081037e-07\n",
      "Testing \n",
      "\n",
      "Currents: [2.25476598e-07 6.42627769e-08 9.81037013e-08 2.95460042e-08\n",
      " 8.84496065e-09 2.21528650e-07 8.51655938e-08 7.62754040e-09\n",
      " 2.22380125e-08]\n",
      "Target: 1.0\n",
      "Accuracy: 1\n",
      "New Target Threshold:8.333333333333334e-06\n",
      "Training \n",
      "\n",
      "\n",
      "Drain 6 Only\n"
     ]
    },
    {
     "data": {
      "application/vnd.jupyter.widget-view+json": {
       "model_id": "81ec59ececf94f98ad0474ed81ee18be",
       "version_major": 2,
       "version_minor": 0
      },
      "text/plain": [
       "Running Simulation :   0%|          | 0/200 [00:00<?, ?it/s]"
      ]
     },
     "metadata": {},
     "output_type": "display_data"
    },
    {
     "name": "stdout",
     "output_type": "stream",
     "text": [
      "Target: 1\n",
      "Currents: 0.0\n",
      "Training \n",
      "\n",
      "\n",
      "Drain 3 Only\n"
     ]
    },
    {
     "data": {
      "application/vnd.jupyter.widget-view+json": {
       "model_id": "63d6736124f247099d05661c1c604f92",
       "version_major": 2,
       "version_minor": 0
      },
      "text/plain": [
       "Running Simulation :   0%|          | 0/200 [00:00<?, ?it/s]"
      ]
     },
     "metadata": {},
     "output_type": "display_data"
    },
    {
     "name": "stdout",
     "output_type": "stream",
     "text": [
      "Target: 1\n",
      "Currents: 0.0\n",
      "Training \n",
      "\n",
      "\n",
      "Drain 4 Only\n"
     ]
    },
    {
     "data": {
      "application/vnd.jupyter.widget-view+json": {
       "model_id": "b0a12b677ef94d42905be55418b45004",
       "version_major": 2,
       "version_minor": 0
      },
      "text/plain": [
       "Running Simulation :   0%|          | 0/200 [00:00<?, ?it/s]"
      ]
     },
     "metadata": {},
     "output_type": "display_data"
    },
    {
     "name": "stdout",
     "output_type": "stream",
     "text": [
      "Target: 1\n",
      "Currents: 0.0\n",
      "Training \n",
      "\n",
      "\n",
      "Drain 2 Only\n"
     ]
    },
    {
     "data": {
      "application/vnd.jupyter.widget-view+json": {
       "model_id": "7f0bdb174d534874ad74e52c30a8a413",
       "version_major": 2,
       "version_minor": 0
      },
      "text/plain": [
       "Running Simulation :   0%|          | 0/200 [00:00<?, ?it/s]"
      ]
     },
     "metadata": {},
     "output_type": "display_data"
    },
    {
     "name": "stdout",
     "output_type": "stream",
     "text": [
      "Target: 1\n",
      "Currents: 0.0\n",
      "Training \n",
      "\n",
      "\n",
      "Drain 8 Only\n"
     ]
    },
    {
     "data": {
      "application/vnd.jupyter.widget-view+json": {
       "model_id": "4c41d486e0e94376aa22c0ba73536167",
       "version_major": 2,
       "version_minor": 0
      },
      "text/plain": [
       "Running Simulation :   0%|          | 0/200 [00:00<?, ?it/s]"
      ]
     },
     "metadata": {},
     "output_type": "display_data"
    },
    {
     "name": "stdout",
     "output_type": "stream",
     "text": [
      "Target: 1\n",
      "Currents: 0.0\n",
      "Training \n",
      "\n",
      "\n",
      "Drain 5 Only\n"
     ]
    },
    {
     "data": {
      "application/vnd.jupyter.widget-view+json": {
       "model_id": "110b39604f854179bab1a8ec597882e5",
       "version_major": 2,
       "version_minor": 0
      },
      "text/plain": [
       "Running Simulation :   0%|          | 0/200 [00:00<?, ?it/s]"
      ]
     },
     "metadata": {},
     "output_type": "display_data"
    },
    {
     "name": "stdout",
     "output_type": "stream",
     "text": [
      "Target: 1\n",
      "Currents: 0.0\n",
      "Training \n",
      "\n",
      "\n",
      "Drain 7 Only\n"
     ]
    },
    {
     "data": {
      "application/vnd.jupyter.widget-view+json": {
       "model_id": "755bde7a7eb2480391b1db33dd45793b",
       "version_major": 2,
       "version_minor": 0
      },
      "text/plain": [
       "Running Simulation :   0%|          | 0/200 [00:00<?, ?it/s]"
      ]
     },
     "metadata": {},
     "output_type": "display_data"
    },
    {
     "name": "stdout",
     "output_type": "stream",
     "text": [
      "Target: 1\n",
      "Currents: 0.0\n",
      "Training \n",
      "\n",
      "\n",
      "Drain 1 Only\n"
     ]
    },
    {
     "data": {
      "application/vnd.jupyter.widget-view+json": {
       "model_id": "7be10ebb42f64cf7bb3f9c48b4c5907e",
       "version_major": 2,
       "version_minor": 0
      },
      "text/plain": [
       "Running Simulation :   0%|          | 0/200 [00:00<?, ?it/s]"
      ]
     },
     "metadata": {},
     "output_type": "display_data"
    },
    {
     "name": "stdout",
     "output_type": "stream",
     "text": [
      "Target: 1\n",
      "Currents: 0.0\n",
      "Training \n",
      "\n",
      "\n",
      "Drain 9 Only\n"
     ]
    },
    {
     "data": {
      "application/vnd.jupyter.widget-view+json": {
       "model_id": "a1f6c022f54e48bb9d3e0b358884a705",
       "version_major": 2,
       "version_minor": 0
      },
      "text/plain": [
       "Running Simulation :   0%|          | 0/200 [00:00<?, ?it/s]"
      ]
     },
     "metadata": {},
     "output_type": "display_data"
    },
    {
     "name": "stdout",
     "output_type": "stream",
     "text": [
      "Target: 1\n",
      "Currents: 0.0\n",
      "\n",
      "All Drains\n"
     ]
    },
    {
     "data": {
      "application/vnd.jupyter.widget-view+json": {
       "model_id": "265aa9cab189441f8b4ff50590013f45",
       "version_major": 2,
       "version_minor": 0
      },
      "text/plain": [
       "Running Simulation :   0%|          | 0/200 [00:00<?, ?it/s]"
      ]
     },
     "metadata": {},
     "output_type": "display_data"
    },
    {
     "name": "stdout",
     "output_type": "stream",
     "text": [
      "Target: 1\n",
      "Currents: 4.700450196716935e-07\n",
      "Testing \n",
      "\n",
      "Currents: [4.70045020e-07 3.75332990e-07 1.60148951e-08 1.17854287e-08\n",
      " 3.47377391e-08 1.05853286e-08 6.97917473e-08 1.90944841e-08\n",
      " 2.54330364e-07]\n",
      "Target: 1.0\n",
      "Accuracy: 1\n",
      "New Target Threshold:8.333333333333334e-06\n",
      "Training \n",
      "\n",
      "\n",
      "Drain 7 Only\n"
     ]
    },
    {
     "data": {
      "application/vnd.jupyter.widget-view+json": {
       "model_id": "832db2bf1af644fd96011609d4536ea9",
       "version_major": 2,
       "version_minor": 0
      },
      "text/plain": [
       "Running Simulation :   0%|          | 0/200 [00:00<?, ?it/s]"
      ]
     },
     "metadata": {},
     "output_type": "display_data"
    },
    {
     "name": "stdout",
     "output_type": "stream",
     "text": [
      "Target: 1\n",
      "Currents: 0.0\n",
      "Training \n",
      "\n",
      "\n",
      "Drain 5 Only\n"
     ]
    },
    {
     "data": {
      "application/vnd.jupyter.widget-view+json": {
       "model_id": "d6fdb6fb88534156adafca59553c6523",
       "version_major": 2,
       "version_minor": 0
      },
      "text/plain": [
       "Running Simulation :   0%|          | 0/200 [00:00<?, ?it/s]"
      ]
     },
     "metadata": {},
     "output_type": "display_data"
    },
    {
     "name": "stdout",
     "output_type": "stream",
     "text": [
      "Target: 1\n",
      "Currents: 0.0\n",
      "Training \n",
      "\n",
      "\n",
      "Drain 6 Only\n"
     ]
    },
    {
     "data": {
      "application/vnd.jupyter.widget-view+json": {
       "model_id": "a9e9651c518a40418ee56cc3f0070a3d",
       "version_major": 2,
       "version_minor": 0
      },
      "text/plain": [
       "Running Simulation :   0%|          | 0/200 [00:00<?, ?it/s]"
      ]
     },
     "metadata": {},
     "output_type": "display_data"
    },
    {
     "name": "stdout",
     "output_type": "stream",
     "text": [
      "Target: 1\n",
      "Currents: 0.0\n",
      "Training \n",
      "\n",
      "\n",
      "Drain 1 Only\n"
     ]
    },
    {
     "data": {
      "application/vnd.jupyter.widget-view+json": {
       "model_id": "9a331917568442a58079305c3ce0cc2a",
       "version_major": 2,
       "version_minor": 0
      },
      "text/plain": [
       "Running Simulation :   0%|          | 0/200 [00:00<?, ?it/s]"
      ]
     },
     "metadata": {},
     "output_type": "display_data"
    },
    {
     "name": "stdout",
     "output_type": "stream",
     "text": [
      "Target: 1\n",
      "Currents: 0.0\n",
      "Training \n",
      "\n",
      "\n",
      "Drain 4 Only\n"
     ]
    },
    {
     "data": {
      "application/vnd.jupyter.widget-view+json": {
       "model_id": "1dbe29aae5d8416d873512a29c973915",
       "version_major": 2,
       "version_minor": 0
      },
      "text/plain": [
       "Running Simulation :   0%|          | 0/200 [00:00<?, ?it/s]"
      ]
     },
     "metadata": {},
     "output_type": "display_data"
    },
    {
     "name": "stdout",
     "output_type": "stream",
     "text": [
      "Target: 1\n",
      "Currents: 0.0\n",
      "Training \n",
      "\n",
      "\n",
      "Drain 2 Only\n"
     ]
    },
    {
     "data": {
      "application/vnd.jupyter.widget-view+json": {
       "model_id": "12734d2435e04cdf9b3012d4d78436eb",
       "version_major": 2,
       "version_minor": 0
      },
      "text/plain": [
       "Running Simulation :   0%|          | 0/200 [00:00<?, ?it/s]"
      ]
     },
     "metadata": {},
     "output_type": "display_data"
    },
    {
     "name": "stdout",
     "output_type": "stream",
     "text": [
      "Target: 1\n",
      "Currents: 0.0\n",
      "Training \n",
      "\n",
      "\n",
      "Drain 3 Only\n"
     ]
    },
    {
     "data": {
      "application/vnd.jupyter.widget-view+json": {
       "model_id": "eda1e6ec0bdc42e28e6e1de9e08a700c",
       "version_major": 2,
       "version_minor": 0
      },
      "text/plain": [
       "Running Simulation :   0%|          | 0/200 [00:00<?, ?it/s]"
      ]
     },
     "metadata": {},
     "output_type": "display_data"
    },
    {
     "name": "stdout",
     "output_type": "stream",
     "text": [
      "Target: 1\n",
      "Currents: 0.0\n",
      "Training \n",
      "\n",
      "\n",
      "Drain 8 Only\n"
     ]
    },
    {
     "data": {
      "application/vnd.jupyter.widget-view+json": {
       "model_id": "bbfdedc20bba46e48ea5db3d73677c7c",
       "version_major": 2,
       "version_minor": 0
      },
      "text/plain": [
       "Running Simulation :   0%|          | 0/200 [00:00<?, ?it/s]"
      ]
     },
     "metadata": {},
     "output_type": "display_data"
    },
    {
     "name": "stdout",
     "output_type": "stream",
     "text": [
      "Target: 1\n",
      "Currents: 0.0\n",
      "Training \n",
      "\n",
      "\n",
      "Drain 9 Only\n"
     ]
    },
    {
     "data": {
      "application/vnd.jupyter.widget-view+json": {
       "model_id": "2c10b3adccb9434db29f99e91acb1a39",
       "version_major": 2,
       "version_minor": 0
      },
      "text/plain": [
       "Running Simulation :   0%|          | 0/200 [00:00<?, ?it/s]"
      ]
     },
     "metadata": {},
     "output_type": "display_data"
    },
    {
     "name": "stdout",
     "output_type": "stream",
     "text": [
      "Target: 1\n",
      "Currents: 0.0\n",
      "\n",
      "All Drains\n"
     ]
    },
    {
     "data": {
      "application/vnd.jupyter.widget-view+json": {
       "model_id": "eb8ed763c08a462081ee427929fd6d65",
       "version_major": 2,
       "version_minor": 0
      },
      "text/plain": [
       "Running Simulation :   0%|          | 0/200 [00:00<?, ?it/s]"
      ]
     },
     "metadata": {},
     "output_type": "display_data"
    },
    {
     "name": "stdout",
     "output_type": "stream",
     "text": [
      "Target: 1\n",
      "Currents: 3.8917403596626216e-07\n",
      "Testing \n",
      "\n",
      "Currents: [3.89174036e-07 1.71338051e-08 5.76229912e-08 1.75211451e-08\n",
      " 3.69012357e-09 1.06762559e-08 4.10012189e-09 1.16451609e-07\n",
      " 2.43233255e-07]\n",
      "Target: 1.0\n",
      "Accuracy: 1\n",
      "New Target Threshold:8.333333333333334e-06\n",
      "Training \n",
      "\n",
      "\n",
      "Drain 9 Only\n"
     ]
    },
    {
     "data": {
      "application/vnd.jupyter.widget-view+json": {
       "model_id": "16452d49187248cc989a0af0c77ca8c5",
       "version_major": 2,
       "version_minor": 0
      },
      "text/plain": [
       "Running Simulation :   0%|          | 0/200 [00:00<?, ?it/s]"
      ]
     },
     "metadata": {},
     "output_type": "display_data"
    },
    {
     "name": "stdout",
     "output_type": "stream",
     "text": [
      "Target: 1\n",
      "Currents: 0.0\n",
      "Training \n",
      "\n",
      "\n",
      "Drain 7 Only\n"
     ]
    },
    {
     "data": {
      "application/vnd.jupyter.widget-view+json": {
       "model_id": "742db4432eb14533b35609d6a1ed3409",
       "version_major": 2,
       "version_minor": 0
      },
      "text/plain": [
       "Running Simulation :   0%|          | 0/200 [00:00<?, ?it/s]"
      ]
     },
     "metadata": {},
     "output_type": "display_data"
    },
    {
     "name": "stdout",
     "output_type": "stream",
     "text": [
      "Target: 1\n",
      "Currents: 0.0\n",
      "Training \n",
      "\n",
      "\n",
      "Drain 8 Only\n"
     ]
    },
    {
     "data": {
      "application/vnd.jupyter.widget-view+json": {
       "model_id": "801f8e882bbd423abaf44c013b3db75d",
       "version_major": 2,
       "version_minor": 0
      },
      "text/plain": [
       "Running Simulation :   0%|          | 0/200 [00:00<?, ?it/s]"
      ]
     },
     "metadata": {},
     "output_type": "display_data"
    },
    {
     "name": "stdout",
     "output_type": "stream",
     "text": [
      "Target: 1\n",
      "Currents: 0.0\n",
      "Training \n",
      "\n",
      "\n",
      "Drain 1 Only\n"
     ]
    },
    {
     "data": {
      "application/vnd.jupyter.widget-view+json": {
       "model_id": "2450e50815974bfc849674910f5d75ca",
       "version_major": 2,
       "version_minor": 0
      },
      "text/plain": [
       "Running Simulation :   0%|          | 0/200 [00:00<?, ?it/s]"
      ]
     },
     "metadata": {},
     "output_type": "display_data"
    },
    {
     "name": "stdout",
     "output_type": "stream",
     "text": [
      "Target: 1\n",
      "Currents: 0.0\n",
      "Training \n",
      "\n",
      "\n",
      "Drain 6 Only\n"
     ]
    },
    {
     "data": {
      "application/vnd.jupyter.widget-view+json": {
       "model_id": "7a46b622812a4df6aa95e92bf3602cb0",
       "version_major": 2,
       "version_minor": 0
      },
      "text/plain": [
       "Running Simulation :   0%|          | 0/200 [00:00<?, ?it/s]"
      ]
     },
     "metadata": {},
     "output_type": "display_data"
    },
    {
     "name": "stdout",
     "output_type": "stream",
     "text": [
      "Target: 1\n",
      "Currents: 0.0\n",
      "Training \n",
      "\n",
      "\n",
      "Drain 4 Only\n"
     ]
    },
    {
     "data": {
      "application/vnd.jupyter.widget-view+json": {
       "model_id": "178fec50ac234cb081080426b5443ac0",
       "version_major": 2,
       "version_minor": 0
      },
      "text/plain": [
       "Running Simulation :   0%|          | 0/200 [00:00<?, ?it/s]"
      ]
     },
     "metadata": {},
     "output_type": "display_data"
    },
    {
     "name": "stdout",
     "output_type": "stream",
     "text": [
      "Target: 1\n",
      "Currents: 0.0\n",
      "Training \n",
      "\n",
      "\n",
      "Drain 5 Only\n"
     ]
    },
    {
     "data": {
      "application/vnd.jupyter.widget-view+json": {
       "model_id": "6a865c9fed63484e971a9d0a1fce12f1",
       "version_major": 2,
       "version_minor": 0
      },
      "text/plain": [
       "Running Simulation :   0%|          | 0/200 [00:00<?, ?it/s]"
      ]
     },
     "metadata": {},
     "output_type": "display_data"
    },
    {
     "name": "stdout",
     "output_type": "stream",
     "text": [
      "Target: 1\n",
      "Currents: 0.0\n",
      "Training \n",
      "\n",
      "\n",
      "Drain 2 Only\n"
     ]
    },
    {
     "data": {
      "application/vnd.jupyter.widget-view+json": {
       "model_id": "d86619d3453349c599421afbc5f04fa6",
       "version_major": 2,
       "version_minor": 0
      },
      "text/plain": [
       "Running Simulation :   0%|          | 0/200 [00:00<?, ?it/s]"
      ]
     },
     "metadata": {},
     "output_type": "display_data"
    },
    {
     "name": "stdout",
     "output_type": "stream",
     "text": [
      "Target: 1\n",
      "Currents: 0.0\n",
      "Training \n",
      "\n",
      "\n",
      "Drain 3 Only\n"
     ]
    },
    {
     "data": {
      "application/vnd.jupyter.widget-view+json": {
       "model_id": "f027c77795294deab07ce1e701993b2d",
       "version_major": 2,
       "version_minor": 0
      },
      "text/plain": [
       "Running Simulation :   0%|          | 0/200 [00:00<?, ?it/s]"
      ]
     },
     "metadata": {},
     "output_type": "display_data"
    },
    {
     "name": "stdout",
     "output_type": "stream",
     "text": [
      "Target: 1\n",
      "Currents: 0.0\n",
      "\n",
      "All Drains\n"
     ]
    },
    {
     "data": {
      "application/vnd.jupyter.widget-view+json": {
       "model_id": "6f24073273f34bec96df2b7b83e0a256",
       "version_major": 2,
       "version_minor": 0
      },
      "text/plain": [
       "Running Simulation :   0%|          | 0/200 [00:00<?, ?it/s]"
      ]
     },
     "metadata": {},
     "output_type": "display_data"
    },
    {
     "name": "stdout",
     "output_type": "stream",
     "text": [
      "Target: 1\n",
      "Currents: 3.709716411174912e-07\n",
      "Testing \n",
      "\n",
      "Currents: [3.70971641e-07 3.28425368e-08 2.03628178e-07 3.64229840e-08\n",
      " 2.45888109e-08 2.61595056e-08 8.72713821e-09 9.06574788e-09\n",
      " 3.08352229e-09]\n",
      "Target: 1.0\n",
      "Accuracy: 1\n",
      "New Target Threshold:8.333333333333334e-06\n",
      "Training \n",
      "\n",
      "\n",
      "Drain 1 Only\n"
     ]
    },
    {
     "data": {
      "application/vnd.jupyter.widget-view+json": {
       "model_id": "eb1346f5cdbf40cca664ad21965de38c",
       "version_major": 2,
       "version_minor": 0
      },
      "text/plain": [
       "Running Simulation :   0%|          | 0/200 [00:00<?, ?it/s]"
      ]
     },
     "metadata": {},
     "output_type": "display_data"
    },
    {
     "name": "stdout",
     "output_type": "stream",
     "text": [
      "Target: 1\n",
      "Currents: 0.0\n",
      "Training \n",
      "\n",
      "\n",
      "Drain 6 Only\n"
     ]
    },
    {
     "data": {
      "application/vnd.jupyter.widget-view+json": {
       "model_id": "aade6d0506734174909dca1684643d41",
       "version_major": 2,
       "version_minor": 0
      },
      "text/plain": [
       "Running Simulation :   0%|          | 0/200 [00:00<?, ?it/s]"
      ]
     },
     "metadata": {},
     "output_type": "display_data"
    },
    {
     "name": "stdout",
     "output_type": "stream",
     "text": [
      "Target: 1\n",
      "Currents: 0.0\n",
      "Training \n",
      "\n",
      "\n",
      "Drain 3 Only\n"
     ]
    },
    {
     "data": {
      "application/vnd.jupyter.widget-view+json": {
       "model_id": "8f22ef3bd7524859aee727173c5a2d58",
       "version_major": 2,
       "version_minor": 0
      },
      "text/plain": [
       "Running Simulation :   0%|          | 0/200 [00:00<?, ?it/s]"
      ]
     },
     "metadata": {},
     "output_type": "display_data"
    },
    {
     "name": "stdout",
     "output_type": "stream",
     "text": [
      "Target: 1\n",
      "Currents: 0.0\n",
      "Training \n",
      "\n",
      "\n",
      "Drain 4 Only\n"
     ]
    },
    {
     "data": {
      "application/vnd.jupyter.widget-view+json": {
       "model_id": "945516d9911246aa94e43a698ddafad3",
       "version_major": 2,
       "version_minor": 0
      },
      "text/plain": [
       "Running Simulation :   0%|          | 0/200 [00:00<?, ?it/s]"
      ]
     },
     "metadata": {},
     "output_type": "display_data"
    },
    {
     "name": "stdout",
     "output_type": "stream",
     "text": [
      "Target: 1\n",
      "Currents: 0.0\n",
      "Training \n",
      "\n",
      "\n",
      "Drain 2 Only\n"
     ]
    },
    {
     "data": {
      "application/vnd.jupyter.widget-view+json": {
       "model_id": "f0dc51fd312749fb85098d357035b8e3",
       "version_major": 2,
       "version_minor": 0
      },
      "text/plain": [
       "Running Simulation :   0%|          | 0/200 [00:00<?, ?it/s]"
      ]
     },
     "metadata": {},
     "output_type": "display_data"
    },
    {
     "name": "stdout",
     "output_type": "stream",
     "text": [
      "Target: 1\n",
      "Currents: 0.0\n",
      "Training \n",
      "\n",
      "\n",
      "Drain 8 Only\n"
     ]
    },
    {
     "data": {
      "application/vnd.jupyter.widget-view+json": {
       "model_id": "fae618d1e37644a0bdea6af395bd17b7",
       "version_major": 2,
       "version_minor": 0
      },
      "text/plain": [
       "Running Simulation :   0%|          | 0/200 [00:00<?, ?it/s]"
      ]
     },
     "metadata": {},
     "output_type": "display_data"
    },
    {
     "name": "stdout",
     "output_type": "stream",
     "text": [
      "Target: 1\n",
      "Currents: 0.0\n",
      "Training \n",
      "\n",
      "\n",
      "Drain 9 Only\n"
     ]
    },
    {
     "data": {
      "application/vnd.jupyter.widget-view+json": {
       "model_id": "4519ccc3099c416a9e332357e70f64c8",
       "version_major": 2,
       "version_minor": 0
      },
      "text/plain": [
       "Running Simulation :   0%|          | 0/200 [00:00<?, ?it/s]"
      ]
     },
     "metadata": {},
     "output_type": "display_data"
    },
    {
     "name": "stdout",
     "output_type": "stream",
     "text": [
      "Target: 1\n",
      "Currents: 0.0\n",
      "Training \n",
      "\n",
      "\n",
      "Drain 7 Only\n"
     ]
    },
    {
     "data": {
      "application/vnd.jupyter.widget-view+json": {
       "model_id": "90394b1dcde4431b9b26518a96381bb8",
       "version_major": 2,
       "version_minor": 0
      },
      "text/plain": [
       "Running Simulation :   0%|          | 0/200 [00:00<?, ?it/s]"
      ]
     },
     "metadata": {},
     "output_type": "display_data"
    },
    {
     "name": "stdout",
     "output_type": "stream",
     "text": [
      "Target: 1\n",
      "Currents: 0.0\n",
      "Training \n",
      "\n",
      "\n",
      "Drain 5 Only\n"
     ]
    },
    {
     "data": {
      "application/vnd.jupyter.widget-view+json": {
       "model_id": "c338a21e45dd4c1ba56d5db6a058cf4f",
       "version_major": 2,
       "version_minor": 0
      },
      "text/plain": [
       "Running Simulation :   0%|          | 0/200 [00:00<?, ?it/s]"
      ]
     },
     "metadata": {},
     "output_type": "display_data"
    },
    {
     "name": "stdout",
     "output_type": "stream",
     "text": [
      "Target: 1\n",
      "Currents: 0.0\n",
      "\n",
      "All Drains\n"
     ]
    },
    {
     "data": {
      "application/vnd.jupyter.widget-view+json": {
       "model_id": "ac294cdd88d540feb732f918051e36cd",
       "version_major": 2,
       "version_minor": 0
      },
      "text/plain": [
       "Running Simulation :   0%|          | 0/200 [00:00<?, ?it/s]"
      ]
     },
     "metadata": {},
     "output_type": "display_data"
    },
    {
     "name": "stdout",
     "output_type": "stream",
     "text": [
      "Target: 1\n",
      "Currents: 1.7497921489905118e-07\n",
      "Testing \n",
      "\n",
      "Currents: [1.74979215e-07 7.45476358e-09 1.03412817e-08 2.70527674e-08\n",
      " 1.60717145e-07 8.33163414e-09 1.81586364e-07 2.23889027e-08\n",
      " 5.87986786e-08]\n",
      "Target: 1.0\n",
      "Accuracy: 0\n",
      "New Target Threshold:9.166666666666666e-06\n",
      "Training \n",
      "\n",
      "\n",
      "Drain 9 Only\n"
     ]
    },
    {
     "data": {
      "application/vnd.jupyter.widget-view+json": {
       "model_id": "2da7133475c64b06972dabd1defe1303",
       "version_major": 2,
       "version_minor": 0
      },
      "text/plain": [
       "Running Simulation :   0%|          | 0/200 [00:00<?, ?it/s]"
      ]
     },
     "metadata": {},
     "output_type": "display_data"
    },
    {
     "name": "stdout",
     "output_type": "stream",
     "text": [
      "Target: 1\n",
      "Currents: 0.0\n",
      "Training \n",
      "\n",
      "\n",
      "Drain 6 Only\n"
     ]
    },
    {
     "data": {
      "application/vnd.jupyter.widget-view+json": {
       "model_id": "ab08cc61ca9245ec93ee2f3d2c06f7e3",
       "version_major": 2,
       "version_minor": 0
      },
      "text/plain": [
       "Running Simulation :   0%|          | 0/200 [00:00<?, ?it/s]"
      ]
     },
     "metadata": {},
     "output_type": "display_data"
    },
    {
     "name": "stdout",
     "output_type": "stream",
     "text": [
      "Target: 1\n",
      "Currents: 0.0\n",
      "Training \n",
      "\n",
      "\n",
      "Drain 5 Only\n"
     ]
    },
    {
     "data": {
      "application/vnd.jupyter.widget-view+json": {
       "model_id": "0b6e800906ba4512968da20889a8814c",
       "version_major": 2,
       "version_minor": 0
      },
      "text/plain": [
       "Running Simulation :   0%|          | 0/200 [00:00<?, ?it/s]"
      ]
     },
     "metadata": {},
     "output_type": "display_data"
    },
    {
     "name": "stdout",
     "output_type": "stream",
     "text": [
      "Target: 1\n",
      "Currents: 0.0\n",
      "Training \n",
      "\n",
      "\n",
      "Drain 8 Only\n"
     ]
    },
    {
     "data": {
      "application/vnd.jupyter.widget-view+json": {
       "model_id": "30b5c6c7832347b59da093b9219dda26",
       "version_major": 2,
       "version_minor": 0
      },
      "text/plain": [
       "Running Simulation :   0%|          | 0/200 [00:00<?, ?it/s]"
      ]
     },
     "metadata": {},
     "output_type": "display_data"
    },
    {
     "name": "stdout",
     "output_type": "stream",
     "text": [
      "Target: 1\n",
      "Currents: 0.0\n",
      "Training \n",
      "\n",
      "\n",
      "Drain 2 Only\n"
     ]
    },
    {
     "data": {
      "application/vnd.jupyter.widget-view+json": {
       "model_id": "04fd504503b64da2941c05fe3080f853",
       "version_major": 2,
       "version_minor": 0
      },
      "text/plain": [
       "Running Simulation :   0%|          | 0/200 [00:00<?, ?it/s]"
      ]
     },
     "metadata": {},
     "output_type": "display_data"
    },
    {
     "name": "stdout",
     "output_type": "stream",
     "text": [
      "Target: 1\n",
      "Currents: 0.0\n",
      "Training \n",
      "\n",
      "\n",
      "Drain 3 Only\n"
     ]
    },
    {
     "data": {
      "application/vnd.jupyter.widget-view+json": {
       "model_id": "e8e38bc3ed6d49a8a936216071961fa9",
       "version_major": 2,
       "version_minor": 0
      },
      "text/plain": [
       "Running Simulation :   0%|          | 0/200 [00:00<?, ?it/s]"
      ]
     },
     "metadata": {},
     "output_type": "display_data"
    },
    {
     "name": "stdout",
     "output_type": "stream",
     "text": [
      "Target: 1\n",
      "Currents: 0.0\n",
      "Training \n",
      "\n",
      "\n",
      "Drain 4 Only\n"
     ]
    },
    {
     "data": {
      "application/vnd.jupyter.widget-view+json": {
       "model_id": "70ce0b4e6fb84de7bd9b74b18660a7eb",
       "version_major": 2,
       "version_minor": 0
      },
      "text/plain": [
       "Running Simulation :   0%|          | 0/200 [00:00<?, ?it/s]"
      ]
     },
     "metadata": {},
     "output_type": "display_data"
    },
    {
     "name": "stdout",
     "output_type": "stream",
     "text": [
      "Target: 1\n",
      "Currents: 0.0\n",
      "Training \n",
      "\n",
      "\n",
      "Drain 7 Only\n"
     ]
    },
    {
     "data": {
      "application/vnd.jupyter.widget-view+json": {
       "model_id": "4edfb7366ebb43069c35a620f73bbd76",
       "version_major": 2,
       "version_minor": 0
      },
      "text/plain": [
       "Running Simulation :   0%|          | 0/200 [00:00<?, ?it/s]"
      ]
     },
     "metadata": {},
     "output_type": "display_data"
    },
    {
     "name": "stdout",
     "output_type": "stream",
     "text": [
      "Target: 1\n",
      "Currents: 0.0\n",
      "Training \n",
      "\n",
      "\n",
      "Drain 1 Only\n"
     ]
    },
    {
     "data": {
      "application/vnd.jupyter.widget-view+json": {
       "model_id": "26519b8cd850400d858263e31b927ad1",
       "version_major": 2,
       "version_minor": 0
      },
      "text/plain": [
       "Running Simulation :   0%|          | 0/200 [00:00<?, ?it/s]"
      ]
     },
     "metadata": {},
     "output_type": "display_data"
    },
    {
     "name": "stdout",
     "output_type": "stream",
     "text": [
      "Target: 1\n",
      "Currents: 0.0\n",
      "\n",
      "All Drains\n"
     ]
    },
    {
     "data": {
      "application/vnd.jupyter.widget-view+json": {
       "model_id": "715b5877e4504cb1bc4f059b6b2df5b3",
       "version_major": 2,
       "version_minor": 0
      },
      "text/plain": [
       "Running Simulation :   0%|          | 0/200 [00:00<?, ?it/s]"
      ]
     },
     "metadata": {},
     "output_type": "display_data"
    },
    {
     "name": "stdout",
     "output_type": "stream",
     "text": [
      "Target: 1\n",
      "Currents: 4.2071986168463793e-07\n",
      "Testing \n",
      "\n",
      "Currents: [4.20719862e-07 5.26201867e-07 1.13971059e-07 8.37487756e-08\n",
      " 1.16454181e-08 1.26119291e-08 1.69321955e-07 1.14322889e-08\n",
      " 2.77791252e-09]\n",
      "Target: 1.0\n",
      "Accuracy: 0\n",
      "New Target Threshold:9.999999999999999e-06\n",
      "Training \n",
      "\n",
      "\n",
      "Drain 1 Only\n"
     ]
    },
    {
     "data": {
      "application/vnd.jupyter.widget-view+json": {
       "model_id": "82e72e2046e343c0b720aa016769d54b",
       "version_major": 2,
       "version_minor": 0
      },
      "text/plain": [
       "Running Simulation :   0%|          | 0/200 [00:00<?, ?it/s]"
      ]
     },
     "metadata": {},
     "output_type": "display_data"
    },
    {
     "name": "stdout",
     "output_type": "stream",
     "text": [
      "Target: 1\n",
      "Currents: 0.0\n",
      "Training \n",
      "\n",
      "\n",
      "Drain 4 Only\n"
     ]
    },
    {
     "data": {
      "application/vnd.jupyter.widget-view+json": {
       "model_id": "06beb9e342a94f4dabfc70e5efe7beca",
       "version_major": 2,
       "version_minor": 0
      },
      "text/plain": [
       "Running Simulation :   0%|          | 0/200 [00:00<?, ?it/s]"
      ]
     },
     "metadata": {},
     "output_type": "display_data"
    },
    {
     "name": "stdout",
     "output_type": "stream",
     "text": [
      "Target: 1\n",
      "Currents: 0.0\n",
      "Training \n",
      "\n",
      "\n",
      "Drain 5 Only\n"
     ]
    },
    {
     "data": {
      "application/vnd.jupyter.widget-view+json": {
       "model_id": "2766518b243341c58c17c3c1c2f3bada",
       "version_major": 2,
       "version_minor": 0
      },
      "text/plain": [
       "Running Simulation :   0%|          | 0/200 [00:00<?, ?it/s]"
      ]
     },
     "metadata": {},
     "output_type": "display_data"
    },
    {
     "name": "stdout",
     "output_type": "stream",
     "text": [
      "Target: 1\n",
      "Currents: 0.0\n",
      "Training \n",
      "\n",
      "\n",
      "Drain 7 Only\n"
     ]
    },
    {
     "data": {
      "application/vnd.jupyter.widget-view+json": {
       "model_id": "cb47e289da0b4565aef899279a0a7e68",
       "version_major": 2,
       "version_minor": 0
      },
      "text/plain": [
       "Running Simulation :   0%|          | 0/200 [00:00<?, ?it/s]"
      ]
     },
     "metadata": {},
     "output_type": "display_data"
    },
    {
     "name": "stdout",
     "output_type": "stream",
     "text": [
      "Target: 1\n",
      "Currents: 0.0\n",
      "Training \n",
      "\n",
      "\n",
      "Drain 3 Only\n"
     ]
    },
    {
     "data": {
      "application/vnd.jupyter.widget-view+json": {
       "model_id": "b022e80178f8489e9c863bf13d850db5",
       "version_major": 2,
       "version_minor": 0
      },
      "text/plain": [
       "Running Simulation :   0%|          | 0/200 [00:00<?, ?it/s]"
      ]
     },
     "metadata": {},
     "output_type": "display_data"
    },
    {
     "name": "stdout",
     "output_type": "stream",
     "text": [
      "Target: 1\n",
      "Currents: 0.0\n",
      "Training \n",
      "\n",
      "\n",
      "Drain 8 Only\n"
     ]
    },
    {
     "data": {
      "application/vnd.jupyter.widget-view+json": {
       "model_id": "918cbe90aa954c10820514ac8d585656",
       "version_major": 2,
       "version_minor": 0
      },
      "text/plain": [
       "Running Simulation :   0%|          | 0/200 [00:00<?, ?it/s]"
      ]
     },
     "metadata": {},
     "output_type": "display_data"
    },
    {
     "name": "stdout",
     "output_type": "stream",
     "text": [
      "Target: 1\n",
      "Currents: 0.0\n",
      "Training \n",
      "\n",
      "\n",
      "Drain 6 Only\n"
     ]
    },
    {
     "data": {
      "application/vnd.jupyter.widget-view+json": {
       "model_id": "ded15d55d810416587a1cf5647b546f7",
       "version_major": 2,
       "version_minor": 0
      },
      "text/plain": [
       "Running Simulation :   0%|          | 0/200 [00:00<?, ?it/s]"
      ]
     },
     "metadata": {},
     "output_type": "display_data"
    },
    {
     "name": "stdout",
     "output_type": "stream",
     "text": [
      "Target: 1\n",
      "Currents: 0.0\n",
      "Training \n",
      "\n",
      "\n",
      "Drain 9 Only\n"
     ]
    },
    {
     "data": {
      "application/vnd.jupyter.widget-view+json": {
       "model_id": "22f3a5eaeb154765aa97060bf70e531b",
       "version_major": 2,
       "version_minor": 0
      },
      "text/plain": [
       "Running Simulation :   0%|          | 0/200 [00:00<?, ?it/s]"
      ]
     },
     "metadata": {},
     "output_type": "display_data"
    },
    {
     "name": "stdout",
     "output_type": "stream",
     "text": [
      "Target: 1\n",
      "Currents: 0.0\n",
      "Training \n",
      "\n",
      "\n",
      "Drain 2 Only\n"
     ]
    },
    {
     "data": {
      "application/vnd.jupyter.widget-view+json": {
       "model_id": "c3c174e4c1c94f69a271499cf92a77ae",
       "version_major": 2,
       "version_minor": 0
      },
      "text/plain": [
       "Running Simulation :   0%|          | 0/200 [00:00<?, ?it/s]"
      ]
     },
     "metadata": {},
     "output_type": "display_data"
    },
    {
     "name": "stdout",
     "output_type": "stream",
     "text": [
      "Target: 1\n",
      "Currents: 0.0\n",
      "\n",
      "All Drains\n"
     ]
    },
    {
     "data": {
      "application/vnd.jupyter.widget-view+json": {
       "model_id": "f017597678d34fc485b8468cd5d2e96c",
       "version_major": 2,
       "version_minor": 0
      },
      "text/plain": [
       "Running Simulation :   0%|          | 0/200 [00:00<?, ?it/s]"
      ]
     },
     "metadata": {},
     "output_type": "display_data"
    },
    {
     "name": "stdout",
     "output_type": "stream",
     "text": [
      "Target: 1\n",
      "Currents: 4.909398500518891e-07\n",
      "Testing \n",
      "\n",
      "Currents: [4.90939850e-07 2.74333432e-08 2.13206389e-09 3.49739024e-09\n",
      " 2.86771641e-09 4.32238281e-08 7.72826040e-09 1.80025080e-08\n",
      " 8.47688413e-08]\n",
      "Target: 1.0\n",
      "Accuracy: 1\n",
      "New Target Threshold:9.999999999999999e-06\n",
      "Training \n",
      "\n",
      "\n",
      "Drain 9 Only\n"
     ]
    },
    {
     "data": {
      "application/vnd.jupyter.widget-view+json": {
       "model_id": "ad59ba44aaf84c01ae6cbf75438400bf",
       "version_major": 2,
       "version_minor": 0
      },
      "text/plain": [
       "Running Simulation :   0%|          | 0/200 [00:00<?, ?it/s]"
      ]
     },
     "metadata": {},
     "output_type": "display_data"
    },
    {
     "name": "stdout",
     "output_type": "stream",
     "text": [
      "Target: 1\n",
      "Currents: 0.0\n",
      "Training \n",
      "\n",
      "\n",
      "Drain 5 Only\n"
     ]
    },
    {
     "data": {
      "application/vnd.jupyter.widget-view+json": {
       "model_id": "9a0a1005024842568ebda920f9e23da1",
       "version_major": 2,
       "version_minor": 0
      },
      "text/plain": [
       "Running Simulation :   0%|          | 0/200 [00:00<?, ?it/s]"
      ]
     },
     "metadata": {},
     "output_type": "display_data"
    },
    {
     "name": "stdout",
     "output_type": "stream",
     "text": [
      "Target: 1\n",
      "Currents: 0.0\n",
      "Training \n",
      "\n",
      "\n",
      "Drain 1 Only\n"
     ]
    },
    {
     "data": {
      "application/vnd.jupyter.widget-view+json": {
       "model_id": "1d97a3770d3647c288a77a4970017baa",
       "version_major": 2,
       "version_minor": 0
      },
      "text/plain": [
       "Running Simulation :   0%|          | 0/200 [00:00<?, ?it/s]"
      ]
     },
     "metadata": {},
     "output_type": "display_data"
    },
    {
     "name": "stdout",
     "output_type": "stream",
     "text": [
      "Target: 1\n",
      "Currents: 0.0\n",
      "Training \n",
      "\n",
      "\n",
      "Drain 8 Only\n"
     ]
    },
    {
     "data": {
      "application/vnd.jupyter.widget-view+json": {
       "model_id": "9807f3f2c72b4d1ab7f4fc10568f2a17",
       "version_major": 2,
       "version_minor": 0
      },
      "text/plain": [
       "Running Simulation :   0%|          | 0/200 [00:00<?, ?it/s]"
      ]
     },
     "metadata": {},
     "output_type": "display_data"
    },
    {
     "name": "stdout",
     "output_type": "stream",
     "text": [
      "Target: 1\n",
      "Currents: 0.0\n",
      "Training \n",
      "\n",
      "\n",
      "Drain 3 Only\n"
     ]
    },
    {
     "data": {
      "application/vnd.jupyter.widget-view+json": {
       "model_id": "eacd1ea67c65498dacb85fb2a6f3ce98",
       "version_major": 2,
       "version_minor": 0
      },
      "text/plain": [
       "Running Simulation :   0%|          | 0/200 [00:00<?, ?it/s]"
      ]
     },
     "metadata": {},
     "output_type": "display_data"
    },
    {
     "name": "stdout",
     "output_type": "stream",
     "text": [
      "Target: 1\n",
      "Currents: 0.0\n",
      "Training \n",
      "\n",
      "\n",
      "Drain 7 Only\n"
     ]
    },
    {
     "data": {
      "application/vnd.jupyter.widget-view+json": {
       "model_id": "08f873c3072c407f88c73f80d381fded",
       "version_major": 2,
       "version_minor": 0
      },
      "text/plain": [
       "Running Simulation :   0%|          | 0/200 [00:00<?, ?it/s]"
      ]
     },
     "metadata": {},
     "output_type": "display_data"
    },
    {
     "name": "stdout",
     "output_type": "stream",
     "text": [
      "Target: 1\n",
      "Currents: 0.0\n",
      "Training \n",
      "\n",
      "\n",
      "Drain 2 Only\n"
     ]
    },
    {
     "data": {
      "application/vnd.jupyter.widget-view+json": {
       "model_id": "cf74b51616fe4b49b4dfac8159606398",
       "version_major": 2,
       "version_minor": 0
      },
      "text/plain": [
       "Running Simulation :   0%|          | 0/200 [00:00<?, ?it/s]"
      ]
     },
     "metadata": {},
     "output_type": "display_data"
    },
    {
     "name": "stdout",
     "output_type": "stream",
     "text": [
      "Target: 1\n",
      "Currents: 0.0\n",
      "Training \n",
      "\n",
      "\n",
      "Drain 6 Only\n"
     ]
    },
    {
     "data": {
      "application/vnd.jupyter.widget-view+json": {
       "model_id": "2b9817b780b6488cb2711953a999e201",
       "version_major": 2,
       "version_minor": 0
      },
      "text/plain": [
       "Running Simulation :   0%|          | 0/200 [00:00<?, ?it/s]"
      ]
     },
     "metadata": {},
     "output_type": "display_data"
    },
    {
     "name": "stdout",
     "output_type": "stream",
     "text": [
      "Target: 1\n",
      "Currents: 0.0\n",
      "Training \n",
      "\n",
      "\n",
      "Drain 4 Only\n"
     ]
    },
    {
     "data": {
      "application/vnd.jupyter.widget-view+json": {
       "model_id": "e68130663cda495992357ab8265d3a83",
       "version_major": 2,
       "version_minor": 0
      },
      "text/plain": [
       "Running Simulation :   0%|          | 0/200 [00:00<?, ?it/s]"
      ]
     },
     "metadata": {},
     "output_type": "display_data"
    },
    {
     "name": "stdout",
     "output_type": "stream",
     "text": [
      "Target: 1\n",
      "Currents: 0.0\n",
      "\n",
      "All Drains\n"
     ]
    },
    {
     "data": {
      "application/vnd.jupyter.widget-view+json": {
       "model_id": "0b8d7c1cbc6e4c5bb07e419479ccbdf4",
       "version_major": 2,
       "version_minor": 0
      },
      "text/plain": [
       "Running Simulation :   0%|          | 0/200 [00:00<?, ?it/s]"
      ]
     },
     "metadata": {},
     "output_type": "display_data"
    },
    {
     "name": "stdout",
     "output_type": "stream",
     "text": [
      "Target: 1\n",
      "Currents: 4.7095873491884693e-07\n",
      "Testing \n",
      "\n",
      "Currents: [4.70958735e-07 3.74898184e-08 3.29487172e-09 1.01543194e-07\n",
      " 3.40425070e-09 9.88351635e-08 3.34962520e-08 1.20163455e-08\n",
      " 2.71533362e-09]\n",
      "Target: 1.0\n",
      "Accuracy: 1\n",
      "New Target Threshold:9.999999999999999e-06\n",
      "Training \n",
      "\n",
      "\n",
      "Drain 8 Only\n"
     ]
    },
    {
     "data": {
      "application/vnd.jupyter.widget-view+json": {
       "model_id": "476b5b83f50c4516aaabfc0441775cc4",
       "version_major": 2,
       "version_minor": 0
      },
      "text/plain": [
       "Running Simulation :   0%|          | 0/200 [00:00<?, ?it/s]"
      ]
     },
     "metadata": {},
     "output_type": "display_data"
    },
    {
     "name": "stdout",
     "output_type": "stream",
     "text": [
      "Target: 1\n",
      "Currents: 0.0\n",
      "Training \n",
      "\n",
      "\n",
      "Drain 7 Only\n"
     ]
    },
    {
     "data": {
      "application/vnd.jupyter.widget-view+json": {
       "model_id": "30f8fe7a0c5a414d8d60cbec41714c74",
       "version_major": 2,
       "version_minor": 0
      },
      "text/plain": [
       "Running Simulation :   0%|          | 0/200 [00:00<?, ?it/s]"
      ]
     },
     "metadata": {},
     "output_type": "display_data"
    },
    {
     "name": "stdout",
     "output_type": "stream",
     "text": [
      "Target: 1\n",
      "Currents: 0.0\n",
      "Training \n",
      "\n",
      "\n",
      "Drain 6 Only\n"
     ]
    },
    {
     "data": {
      "application/vnd.jupyter.widget-view+json": {
       "model_id": "c71b1a54fba645dbae4296ec7da43d0f",
       "version_major": 2,
       "version_minor": 0
      },
      "text/plain": [
       "Running Simulation :   0%|          | 0/200 [00:00<?, ?it/s]"
      ]
     },
     "metadata": {},
     "output_type": "display_data"
    },
    {
     "name": "stdout",
     "output_type": "stream",
     "text": [
      "Target: 1\n",
      "Currents: 0.0\n",
      "Training \n",
      "\n",
      "\n",
      "Drain 2 Only\n"
     ]
    },
    {
     "data": {
      "application/vnd.jupyter.widget-view+json": {
       "model_id": "ac7b9e732a9c4855bf757a8d57600ee5",
       "version_major": 2,
       "version_minor": 0
      },
      "text/plain": [
       "Running Simulation :   0%|          | 0/200 [00:00<?, ?it/s]"
      ]
     },
     "metadata": {},
     "output_type": "display_data"
    },
    {
     "name": "stdout",
     "output_type": "stream",
     "text": [
      "Target: 1\n",
      "Currents: 0.0\n",
      "Training \n",
      "\n",
      "\n",
      "Drain 5 Only\n"
     ]
    },
    {
     "data": {
      "application/vnd.jupyter.widget-view+json": {
       "model_id": "12901edccea54d45aeb42f6368772072",
       "version_major": 2,
       "version_minor": 0
      },
      "text/plain": [
       "Running Simulation :   0%|          | 0/200 [00:00<?, ?it/s]"
      ]
     },
     "metadata": {},
     "output_type": "display_data"
    },
    {
     "name": "stdout",
     "output_type": "stream",
     "text": [
      "Target: 1\n",
      "Currents: 0.0\n",
      "Training \n",
      "\n",
      "\n",
      "Drain 4 Only\n"
     ]
    },
    {
     "data": {
      "application/vnd.jupyter.widget-view+json": {
       "model_id": "48e49f89a6854e8187a9820c1a21fd75",
       "version_major": 2,
       "version_minor": 0
      },
      "text/plain": [
       "Running Simulation :   0%|          | 0/200 [00:00<?, ?it/s]"
      ]
     },
     "metadata": {},
     "output_type": "display_data"
    },
    {
     "name": "stdout",
     "output_type": "stream",
     "text": [
      "Target: 1\n",
      "Currents: 0.0\n",
      "Training \n",
      "\n",
      "\n",
      "Drain 3 Only\n"
     ]
    },
    {
     "data": {
      "application/vnd.jupyter.widget-view+json": {
       "model_id": "777d0716c7c7432895260affba5f40ef",
       "version_major": 2,
       "version_minor": 0
      },
      "text/plain": [
       "Running Simulation :   0%|          | 0/200 [00:00<?, ?it/s]"
      ]
     },
     "metadata": {},
     "output_type": "display_data"
    },
    {
     "name": "stdout",
     "output_type": "stream",
     "text": [
      "Target: 1\n",
      "Currents: 0.0\n",
      "Training \n",
      "\n",
      "\n",
      "Drain 9 Only\n"
     ]
    },
    {
     "data": {
      "application/vnd.jupyter.widget-view+json": {
       "model_id": "cdb0bcfbece0425ba5394e7864cf74e3",
       "version_major": 2,
       "version_minor": 0
      },
      "text/plain": [
       "Running Simulation :   0%|          | 0/200 [00:00<?, ?it/s]"
      ]
     },
     "metadata": {},
     "output_type": "display_data"
    },
    {
     "name": "stdout",
     "output_type": "stream",
     "text": [
      "Target: 1\n",
      "Currents: 0.0\n",
      "Training \n",
      "\n",
      "\n",
      "Drain 1 Only\n"
     ]
    },
    {
     "data": {
      "application/vnd.jupyter.widget-view+json": {
       "model_id": "9230e9de50024f9c88e638cc61202259",
       "version_major": 2,
       "version_minor": 0
      },
      "text/plain": [
       "Running Simulation :   0%|          | 0/200 [00:00<?, ?it/s]"
      ]
     },
     "metadata": {},
     "output_type": "display_data"
    },
    {
     "name": "stdout",
     "output_type": "stream",
     "text": [
      "Target: 1\n",
      "Currents: 0.0\n",
      "\n",
      "All Drains\n"
     ]
    },
    {
     "data": {
      "application/vnd.jupyter.widget-view+json": {
       "model_id": "380a267f31294990b0c8f944a9c0473d",
       "version_major": 2,
       "version_minor": 0
      },
      "text/plain": [
       "Running Simulation :   0%|          | 0/200 [00:00<?, ?it/s]"
      ]
     },
     "metadata": {},
     "output_type": "display_data"
    },
    {
     "name": "stdout",
     "output_type": "stream",
     "text": [
      "Target: 1\n",
      "Currents: 4.51518195364425e-07\n",
      "Testing \n",
      "\n",
      "Currents: [4.51518195e-07 5.63877980e-07 1.94247512e-07 6.36057893e-08\n",
      " 2.47585419e-08 1.66011146e-08 8.03532390e-09 9.89764652e-09\n",
      " 1.19998855e-07]\n",
      "Target: 1.0\n",
      "Accuracy: 0\n",
      "New Target Threshold:1.0833333333333332e-05\n",
      "Training \n",
      "\n",
      "\n",
      "Drain 2 Only\n"
     ]
    },
    {
     "data": {
      "application/vnd.jupyter.widget-view+json": {
       "model_id": "c751852f6d634c28823f519a443fd784",
       "version_major": 2,
       "version_minor": 0
      },
      "text/plain": [
       "Running Simulation :   0%|          | 0/200 [00:00<?, ?it/s]"
      ]
     },
     "metadata": {},
     "output_type": "display_data"
    },
    {
     "name": "stdout",
     "output_type": "stream",
     "text": [
      "Target: 1\n",
      "Currents: 0.0\n",
      "Training \n",
      "\n",
      "\n",
      "Drain 3 Only\n"
     ]
    },
    {
     "data": {
      "application/vnd.jupyter.widget-view+json": {
       "model_id": "135a7853b2664622874326041b48c59b",
       "version_major": 2,
       "version_minor": 0
      },
      "text/plain": [
       "Running Simulation :   0%|          | 0/200 [00:00<?, ?it/s]"
      ]
     },
     "metadata": {},
     "output_type": "display_data"
    },
    {
     "name": "stdout",
     "output_type": "stream",
     "text": [
      "Target: 1\n",
      "Currents: 0.0\n",
      "Training \n",
      "\n",
      "\n",
      "Drain 8 Only\n"
     ]
    },
    {
     "data": {
      "application/vnd.jupyter.widget-view+json": {
       "model_id": "cf61443f27d94a72a39fc25d0cb468b5",
       "version_major": 2,
       "version_minor": 0
      },
      "text/plain": [
       "Running Simulation :   0%|          | 0/200 [00:00<?, ?it/s]"
      ]
     },
     "metadata": {},
     "output_type": "display_data"
    },
    {
     "name": "stdout",
     "output_type": "stream",
     "text": [
      "Target: 1\n",
      "Currents: 0.0\n",
      "Training \n",
      "\n",
      "\n",
      "Drain 9 Only\n"
     ]
    },
    {
     "data": {
      "application/vnd.jupyter.widget-view+json": {
       "model_id": "823b63b4ceed470d97e8fbbd6b98fc64",
       "version_major": 2,
       "version_minor": 0
      },
      "text/plain": [
       "Running Simulation :   0%|          | 0/200 [00:00<?, ?it/s]"
      ]
     },
     "metadata": {},
     "output_type": "display_data"
    },
    {
     "name": "stdout",
     "output_type": "stream",
     "text": [
      "Target: 1\n",
      "Currents: 0.0\n",
      "Training \n",
      "\n",
      "\n",
      "Drain 7 Only\n"
     ]
    },
    {
     "data": {
      "application/vnd.jupyter.widget-view+json": {
       "model_id": "f69881d339bd4d4b8f1e0e587a51c6cf",
       "version_major": 2,
       "version_minor": 0
      },
      "text/plain": [
       "Running Simulation :   0%|          | 0/200 [00:00<?, ?it/s]"
      ]
     },
     "metadata": {},
     "output_type": "display_data"
    },
    {
     "name": "stdout",
     "output_type": "stream",
     "text": [
      "Target: 1\n",
      "Currents: 0.0\n",
      "Training \n",
      "\n",
      "\n",
      "Drain 1 Only\n"
     ]
    },
    {
     "data": {
      "application/vnd.jupyter.widget-view+json": {
       "model_id": "76cf76693b2c4be9bf7e8ee6d41573fa",
       "version_major": 2,
       "version_minor": 0
      },
      "text/plain": [
       "Running Simulation :   0%|          | 0/200 [00:00<?, ?it/s]"
      ]
     },
     "metadata": {},
     "output_type": "display_data"
    },
    {
     "name": "stdout",
     "output_type": "stream",
     "text": [
      "Target: 1\n",
      "Currents: 1.003455574509071e-05\n",
      "Training \n",
      "\n",
      "\n",
      "Drain 6 Only\n"
     ]
    },
    {
     "data": {
      "application/vnd.jupyter.widget-view+json": {
       "model_id": "e54d6ee1a388439295bb4e5399361697",
       "version_major": 2,
       "version_minor": 0
      },
      "text/plain": [
       "Running Simulation :   0%|          | 0/200 [00:00<?, ?it/s]"
      ]
     },
     "metadata": {},
     "output_type": "display_data"
    },
    {
     "name": "stdout",
     "output_type": "stream",
     "text": [
      "Target: 1\n",
      "Currents: 0.0\n",
      "Training \n",
      "\n",
      "\n",
      "Drain 5 Only\n"
     ]
    },
    {
     "data": {
      "application/vnd.jupyter.widget-view+json": {
       "model_id": "000077da6c2b47b39d71550a6e8a9328",
       "version_major": 2,
       "version_minor": 0
      },
      "text/plain": [
       "Running Simulation :   0%|          | 0/200 [00:00<?, ?it/s]"
      ]
     },
     "metadata": {},
     "output_type": "display_data"
    },
    {
     "name": "stdout",
     "output_type": "stream",
     "text": [
      "Target: 1\n",
      "Currents: 0.0\n",
      "Training \n",
      "\n",
      "\n",
      "Drain 4 Only\n"
     ]
    },
    {
     "data": {
      "application/vnd.jupyter.widget-view+json": {
       "model_id": "8d9302dc59cd4ac29ddebc96d95129f2",
       "version_major": 2,
       "version_minor": 0
      },
      "text/plain": [
       "Running Simulation :   0%|          | 0/200 [00:00<?, ?it/s]"
      ]
     },
     "metadata": {},
     "output_type": "display_data"
    },
    {
     "name": "stdout",
     "output_type": "stream",
     "text": [
      "Target: 1\n",
      "Currents: 0.0\n",
      "\n",
      "All Drains\n"
     ]
    },
    {
     "data": {
      "application/vnd.jupyter.widget-view+json": {
       "model_id": "253f97201757487d86e36b2e936d51b8",
       "version_major": 2,
       "version_minor": 0
      },
      "text/plain": [
       "Running Simulation :   0%|          | 0/200 [00:00<?, ?it/s]"
      ]
     },
     "metadata": {},
     "output_type": "display_data"
    },
    {
     "name": "stdout",
     "output_type": "stream",
     "text": [
      "Target: 1\n",
      "Currents: 5.947999040828946e-07\n",
      "Testing \n",
      "\n",
      "Currents: [5.94799904e-07 5.23979473e-07 6.72974752e-09 8.34449096e-08\n",
      " 3.88417302e-08 6.84594239e-08 2.24535672e-08 1.02174454e-08\n",
      " 7.66194551e-09]\n",
      "Target: 1.0\n",
      "Accuracy: 1\n",
      "New Target Threshold:1.0833333333333332e-05\n",
      "Training \n",
      "\n",
      "\n",
      "Drain 3 Only\n"
     ]
    },
    {
     "data": {
      "application/vnd.jupyter.widget-view+json": {
       "model_id": "e69071598d7b4487a2b013a369729454",
       "version_major": 2,
       "version_minor": 0
      },
      "text/plain": [
       "Running Simulation :   0%|          | 0/200 [00:00<?, ?it/s]"
      ]
     },
     "metadata": {},
     "output_type": "display_data"
    },
    {
     "name": "stdout",
     "output_type": "stream",
     "text": [
      "Target: 1\n",
      "Currents: 0.0\n",
      "Training \n",
      "\n",
      "\n",
      "Drain 1 Only\n"
     ]
    },
    {
     "data": {
      "application/vnd.jupyter.widget-view+json": {
       "model_id": "584f586ffa0d4c29ab6d08f6934e222c",
       "version_major": 2,
       "version_minor": 0
      },
      "text/plain": [
       "Running Simulation :   0%|          | 0/200 [00:00<?, ?it/s]"
      ]
     },
     "metadata": {},
     "output_type": "display_data"
    },
    {
     "name": "stdout",
     "output_type": "stream",
     "text": [
      "Target: 1\n",
      "Currents: 1.0005360763933507e-05\n",
      "Training \n",
      "\n",
      "\n",
      "Drain 9 Only\n"
     ]
    },
    {
     "data": {
      "application/vnd.jupyter.widget-view+json": {
       "model_id": "92249da2249a4ff9a89d794cb9aa14ff",
       "version_major": 2,
       "version_minor": 0
      },
      "text/plain": [
       "Running Simulation :   0%|          | 0/200 [00:00<?, ?it/s]"
      ]
     },
     "metadata": {},
     "output_type": "display_data"
    },
    {
     "name": "stdout",
     "output_type": "stream",
     "text": [
      "Target: 1\n",
      "Currents: 0.0\n",
      "Training \n",
      "\n",
      "\n",
      "Drain 7 Only\n"
     ]
    },
    {
     "data": {
      "application/vnd.jupyter.widget-view+json": {
       "model_id": "7ac49639d67b46a69b4b4b1d7617ca93",
       "version_major": 2,
       "version_minor": 0
      },
      "text/plain": [
       "Running Simulation :   0%|          | 0/200 [00:00<?, ?it/s]"
      ]
     },
     "metadata": {},
     "output_type": "display_data"
    },
    {
     "name": "stdout",
     "output_type": "stream",
     "text": [
      "Target: 1\n",
      "Currents: 0.0\n",
      "Training \n",
      "\n",
      "\n",
      "Drain 4 Only\n"
     ]
    },
    {
     "data": {
      "application/vnd.jupyter.widget-view+json": {
       "model_id": "9ec0f60ca84740a2b78ca2a3d1466c8b",
       "version_major": 2,
       "version_minor": 0
      },
      "text/plain": [
       "Running Simulation :   0%|          | 0/200 [00:00<?, ?it/s]"
      ]
     },
     "metadata": {},
     "output_type": "display_data"
    },
    {
     "name": "stdout",
     "output_type": "stream",
     "text": [
      "Target: 1\n",
      "Currents: 0.0\n",
      "Training \n",
      "\n",
      "\n",
      "Drain 6 Only\n"
     ]
    },
    {
     "data": {
      "application/vnd.jupyter.widget-view+json": {
       "model_id": "2735b405e3dd4217a198ae32c87df61a",
       "version_major": 2,
       "version_minor": 0
      },
      "text/plain": [
       "Running Simulation :   0%|          | 0/200 [00:00<?, ?it/s]"
      ]
     },
     "metadata": {},
     "output_type": "display_data"
    },
    {
     "name": "stdout",
     "output_type": "stream",
     "text": [
      "Target: 1\n",
      "Currents: 0.0\n",
      "Training \n",
      "\n",
      "\n",
      "Drain 8 Only\n"
     ]
    },
    {
     "data": {
      "application/vnd.jupyter.widget-view+json": {
       "model_id": "ce97b0be8a6542f8bd88e59c34da4663",
       "version_major": 2,
       "version_minor": 0
      },
      "text/plain": [
       "Running Simulation :   0%|          | 0/200 [00:00<?, ?it/s]"
      ]
     },
     "metadata": {},
     "output_type": "display_data"
    },
    {
     "name": "stdout",
     "output_type": "stream",
     "text": [
      "Target: 1\n",
      "Currents: 0.0\n",
      "Training \n",
      "\n",
      "\n",
      "Drain 2 Only\n"
     ]
    },
    {
     "data": {
      "application/vnd.jupyter.widget-view+json": {
       "model_id": "539873011cd54976bddea156d7c62d25",
       "version_major": 2,
       "version_minor": 0
      },
      "text/plain": [
       "Running Simulation :   0%|          | 0/200 [00:00<?, ?it/s]"
      ]
     },
     "metadata": {},
     "output_type": "display_data"
    },
    {
     "name": "stdout",
     "output_type": "stream",
     "text": [
      "Target: 1\n",
      "Currents: 0.0\n",
      "Training \n",
      "\n",
      "\n",
      "Drain 5 Only\n"
     ]
    },
    {
     "data": {
      "application/vnd.jupyter.widget-view+json": {
       "model_id": "62fb35d9641a42a0b97cc2b1aa3b158d",
       "version_major": 2,
       "version_minor": 0
      },
      "text/plain": [
       "Running Simulation :   0%|          | 0/200 [00:00<?, ?it/s]"
      ]
     },
     "metadata": {},
     "output_type": "display_data"
    },
    {
     "name": "stdout",
     "output_type": "stream",
     "text": [
      "Target: 1\n",
      "Currents: 0.0\n",
      "\n",
      "All Drains\n"
     ]
    },
    {
     "data": {
      "application/vnd.jupyter.widget-view+json": {
       "model_id": "87568c2b225b4576a08a9f74a133d677",
       "version_major": 2,
       "version_minor": 0
      },
      "text/plain": [
       "Running Simulation :   0%|          | 0/200 [00:00<?, ?it/s]"
      ]
     },
     "metadata": {},
     "output_type": "display_data"
    },
    {
     "name": "stdout",
     "output_type": "stream",
     "text": [
      "Target: 1\n",
      "Currents: 3.8121210609378717e-07\n",
      "Testing \n",
      "\n",
      "Currents: [3.81212106e-07 3.06677806e-07 1.40952812e-09 1.53061435e-08\n",
      " 9.68287395e-08 4.06823887e-08 1.22641992e-08 5.31156734e-08\n",
      " 6.38378092e-09]\n",
      "Target: 1.0\n",
      "Accuracy: 1\n",
      "New Target Threshold:1.0833333333333332e-05\n",
      "Training \n",
      "\n",
      "\n",
      "Drain 8 Only\n"
     ]
    },
    {
     "data": {
      "application/vnd.jupyter.widget-view+json": {
       "model_id": "0edaff205a6b4f77923b1e8e6a85db5f",
       "version_major": 2,
       "version_minor": 0
      },
      "text/plain": [
       "Running Simulation :   0%|          | 0/200 [00:00<?, ?it/s]"
      ]
     },
     "metadata": {},
     "output_type": "display_data"
    },
    {
     "name": "stdout",
     "output_type": "stream",
     "text": [
      "Target: 1\n",
      "Currents: 0.0\n",
      "Training \n",
      "\n",
      "\n",
      "Drain 6 Only\n"
     ]
    },
    {
     "data": {
      "application/vnd.jupyter.widget-view+json": {
       "model_id": "2b2b159da9694774b9f4365267212659",
       "version_major": 2,
       "version_minor": 0
      },
      "text/plain": [
       "Running Simulation :   0%|          | 0/200 [00:00<?, ?it/s]"
      ]
     },
     "metadata": {},
     "output_type": "display_data"
    },
    {
     "name": "stdout",
     "output_type": "stream",
     "text": [
      "Target: 1\n",
      "Currents: 0.0\n",
      "Training \n",
      "\n",
      "\n",
      "Drain 3 Only\n"
     ]
    },
    {
     "data": {
      "application/vnd.jupyter.widget-view+json": {
       "model_id": "9222178901fc4cc5a67d570b18e748be",
       "version_major": 2,
       "version_minor": 0
      },
      "text/plain": [
       "Running Simulation :   0%|          | 0/200 [00:00<?, ?it/s]"
      ]
     },
     "metadata": {},
     "output_type": "display_data"
    },
    {
     "name": "stdout",
     "output_type": "stream",
     "text": [
      "Target: 1\n",
      "Currents: 0.0\n",
      "Training \n",
      "\n",
      "\n",
      "Drain 7 Only\n"
     ]
    },
    {
     "data": {
      "application/vnd.jupyter.widget-view+json": {
       "model_id": "2ee7b2990ce4486a8af5ee028f41ee95",
       "version_major": 2,
       "version_minor": 0
      },
      "text/plain": [
       "Running Simulation :   0%|          | 0/200 [00:00<?, ?it/s]"
      ]
     },
     "metadata": {},
     "output_type": "display_data"
    },
    {
     "name": "stdout",
     "output_type": "stream",
     "text": [
      "Target: 1\n",
      "Currents: 0.0\n",
      "Training \n",
      "\n",
      "\n",
      "Drain 2 Only\n"
     ]
    },
    {
     "data": {
      "application/vnd.jupyter.widget-view+json": {
       "model_id": "0296cc97a2684cdebd4b19e40ac0403f",
       "version_major": 2,
       "version_minor": 0
      },
      "text/plain": [
       "Running Simulation :   0%|          | 0/200 [00:00<?, ?it/s]"
      ]
     },
     "metadata": {},
     "output_type": "display_data"
    },
    {
     "name": "stdout",
     "output_type": "stream",
     "text": [
      "Target: 1\n",
      "Currents: 0.0\n",
      "Training \n",
      "\n",
      "\n",
      "Drain 4 Only\n"
     ]
    },
    {
     "data": {
      "application/vnd.jupyter.widget-view+json": {
       "model_id": "d674f09c489c4e3d9f47b92391c4f0b6",
       "version_major": 2,
       "version_minor": 0
      },
      "text/plain": [
       "Running Simulation :   0%|          | 0/200 [00:00<?, ?it/s]"
      ]
     },
     "metadata": {},
     "output_type": "display_data"
    },
    {
     "name": "stdout",
     "output_type": "stream",
     "text": [
      "Target: 1\n",
      "Currents: 0.0\n",
      "Training \n",
      "\n",
      "\n",
      "Drain 1 Only\n"
     ]
    },
    {
     "data": {
      "application/vnd.jupyter.widget-view+json": {
       "model_id": "5dc7c60952df40f9b4aa47aebeefed88",
       "version_major": 2,
       "version_minor": 0
      },
      "text/plain": [
       "Running Simulation :   0%|          | 0/200 [00:00<?, ?it/s]"
      ]
     },
     "metadata": {},
     "output_type": "display_data"
    },
    {
     "name": "stdout",
     "output_type": "stream",
     "text": [
      "Target: 1\n",
      "Currents: 1.0016866212538443e-05\n",
      "Training \n",
      "\n",
      "\n",
      "Drain 9 Only\n"
     ]
    },
    {
     "data": {
      "application/vnd.jupyter.widget-view+json": {
       "model_id": "944bcad60efa404f994297de7936dbc3",
       "version_major": 2,
       "version_minor": 0
      },
      "text/plain": [
       "Running Simulation :   0%|          | 0/200 [00:00<?, ?it/s]"
      ]
     },
     "metadata": {},
     "output_type": "display_data"
    },
    {
     "name": "stdout",
     "output_type": "stream",
     "text": [
      "Target: 1\n",
      "Currents: 0.0\n",
      "Training \n",
      "\n",
      "\n",
      "Drain 5 Only\n"
     ]
    },
    {
     "data": {
      "application/vnd.jupyter.widget-view+json": {
       "model_id": "0423c0dc068048e7bea787195cf5c23b",
       "version_major": 2,
       "version_minor": 0
      },
      "text/plain": [
       "Running Simulation :   0%|          | 0/200 [00:00<?, ?it/s]"
      ]
     },
     "metadata": {},
     "output_type": "display_data"
    },
    {
     "name": "stdout",
     "output_type": "stream",
     "text": [
      "Target: 1\n",
      "Currents: 0.0\n",
      "\n",
      "All Drains\n"
     ]
    },
    {
     "data": {
      "application/vnd.jupyter.widget-view+json": {
       "model_id": "8598b4030f7a468ba9a18ee7344e4a33",
       "version_major": 2,
       "version_minor": 0
      },
      "text/plain": [
       "Running Simulation :   0%|          | 0/200 [00:00<?, ?it/s]"
      ]
     },
     "metadata": {},
     "output_type": "display_data"
    },
    {
     "name": "stdout",
     "output_type": "stream",
     "text": [
      "Target: 1\n",
      "Currents: 6.639582075923718e-07\n",
      "Testing \n",
      "\n",
      "Currents: [6.63958208e-07 6.95622870e-07 1.46417332e-08 3.86729428e-08\n",
      " 8.95057296e-08 1.11119165e-08 1.40110522e-08 1.13921827e-08\n",
      " 7.75560117e-08]\n",
      "Target: 1.0\n",
      "Accuracy: 0\n",
      "New Target Threshold:1.1666666666666665e-05\n",
      "Training \n",
      "\n",
      "\n",
      "Drain 5 Only\n"
     ]
    },
    {
     "data": {
      "application/vnd.jupyter.widget-view+json": {
       "model_id": "016d379b4e604fdeaa354d0933d7aa70",
       "version_major": 2,
       "version_minor": 0
      },
      "text/plain": [
       "Running Simulation :   0%|          | 0/200 [00:00<?, ?it/s]"
      ]
     },
     "metadata": {},
     "output_type": "display_data"
    },
    {
     "name": "stdout",
     "output_type": "stream",
     "text": [
      "Target: 1\n",
      "Currents: 0.0\n",
      "Training \n",
      "\n",
      "\n",
      "Drain 4 Only\n"
     ]
    },
    {
     "data": {
      "application/vnd.jupyter.widget-view+json": {
       "model_id": "567b05be0c7341a8b378c3390f55d1b7",
       "version_major": 2,
       "version_minor": 0
      },
      "text/plain": [
       "Running Simulation :   0%|          | 0/200 [00:00<?, ?it/s]"
      ]
     },
     "metadata": {},
     "output_type": "display_data"
    },
    {
     "name": "stdout",
     "output_type": "stream",
     "text": [
      "Target: 1\n",
      "Currents: 0.0\n",
      "Training \n",
      "\n",
      "\n",
      "Drain 3 Only\n"
     ]
    },
    {
     "data": {
      "application/vnd.jupyter.widget-view+json": {
       "model_id": "ef0b5b31ff2e40aa92799d21ff2c6e98",
       "version_major": 2,
       "version_minor": 0
      },
      "text/plain": [
       "Running Simulation :   0%|          | 0/200 [00:00<?, ?it/s]"
      ]
     },
     "metadata": {},
     "output_type": "display_data"
    },
    {
     "name": "stdout",
     "output_type": "stream",
     "text": [
      "Target: 1\n",
      "Currents: 0.0\n",
      "Training \n",
      "\n",
      "\n",
      "Drain 7 Only\n"
     ]
    },
    {
     "data": {
      "application/vnd.jupyter.widget-view+json": {
       "model_id": "edf5eaea7b524350a6b9dffb60be4ed3",
       "version_major": 2,
       "version_minor": 0
      },
      "text/plain": [
       "Running Simulation :   0%|          | 0/200 [00:00<?, ?it/s]"
      ]
     },
     "metadata": {},
     "output_type": "display_data"
    },
    {
     "name": "stdout",
     "output_type": "stream",
     "text": [
      "Target: 1\n",
      "Currents: 0.0\n",
      "Training \n",
      "\n",
      "\n",
      "Drain 8 Only\n"
     ]
    },
    {
     "data": {
      "application/vnd.jupyter.widget-view+json": {
       "model_id": "1867504f35c44923866ccfc5e7ee2306",
       "version_major": 2,
       "version_minor": 0
      },
      "text/plain": [
       "Running Simulation :   0%|          | 0/200 [00:00<?, ?it/s]"
      ]
     },
     "metadata": {},
     "output_type": "display_data"
    },
    {
     "name": "stdout",
     "output_type": "stream",
     "text": [
      "Target: 1\n",
      "Currents: 0.0\n",
      "Training \n",
      "\n",
      "\n",
      "Drain 9 Only\n"
     ]
    },
    {
     "data": {
      "application/vnd.jupyter.widget-view+json": {
       "model_id": "585f91cfa6444e408d0a077f42dddede",
       "version_major": 2,
       "version_minor": 0
      },
      "text/plain": [
       "Running Simulation :   0%|          | 0/200 [00:00<?, ?it/s]"
      ]
     },
     "metadata": {},
     "output_type": "display_data"
    },
    {
     "name": "stdout",
     "output_type": "stream",
     "text": [
      "Target: 1\n",
      "Currents: 0.0\n",
      "Training \n",
      "\n",
      "\n",
      "Drain 1 Only\n"
     ]
    },
    {
     "data": {
      "application/vnd.jupyter.widget-view+json": {
       "model_id": "bbb255ea391c45d793639f7c0ef38cef",
       "version_major": 2,
       "version_minor": 0
      },
      "text/plain": [
       "Running Simulation :   0%|          | 0/200 [00:00<?, ?it/s]"
      ]
     },
     "metadata": {},
     "output_type": "display_data"
    },
    {
     "name": "stdout",
     "output_type": "stream",
     "text": [
      "Target: 1\n",
      "Currents: 1.000630319181611e-05\n",
      "Training \n",
      "\n",
      "\n",
      "Drain 6 Only\n"
     ]
    },
    {
     "data": {
      "application/vnd.jupyter.widget-view+json": {
       "model_id": "8e1c0144acaf43f6bcceee0787b7679c",
       "version_major": 2,
       "version_minor": 0
      },
      "text/plain": [
       "Running Simulation :   0%|          | 0/200 [00:00<?, ?it/s]"
      ]
     },
     "metadata": {},
     "output_type": "display_data"
    },
    {
     "name": "stdout",
     "output_type": "stream",
     "text": [
      "Target: 1\n",
      "Currents: 0.0\n",
      "Training \n",
      "\n",
      "\n",
      "Drain 2 Only\n"
     ]
    },
    {
     "data": {
      "application/vnd.jupyter.widget-view+json": {
       "model_id": "6a6548e80a0847fcadeb611f51a07b94",
       "version_major": 2,
       "version_minor": 0
      },
      "text/plain": [
       "Running Simulation :   0%|          | 0/200 [00:00<?, ?it/s]"
      ]
     },
     "metadata": {},
     "output_type": "display_data"
    },
    {
     "name": "stdout",
     "output_type": "stream",
     "text": [
      "Target: 1\n",
      "Currents: 0.0\n",
      "\n",
      "All Drains\n"
     ]
    },
    {
     "data": {
      "application/vnd.jupyter.widget-view+json": {
       "model_id": "660714280dd747efa2656d1d2d7a4028",
       "version_major": 2,
       "version_minor": 0
      },
      "text/plain": [
       "Running Simulation :   0%|          | 0/200 [00:00<?, ?it/s]"
      ]
     },
     "metadata": {},
     "output_type": "display_data"
    },
    {
     "name": "stdout",
     "output_type": "stream",
     "text": [
      "Target: 1\n",
      "Currents: 7.041004863415705e-07\n",
      "Testing \n",
      "\n",
      "Currents: [7.04100486e-07 7.41148906e-07 1.25573674e-08 1.23587988e-08\n",
      " 6.22283644e-09 5.81588588e-08 8.07928563e-09 1.07763950e-08\n",
      " 1.82716301e-08]\n",
      "Target: 1.0\n",
      "Accuracy: 0\n",
      "New Target Threshold:1.2499999999999997e-05\n",
      "Training \n",
      "\n",
      "\n",
      "Drain 5 Only\n"
     ]
    },
    {
     "data": {
      "application/vnd.jupyter.widget-view+json": {
       "model_id": "90cbafe3571149e28942d65cf89a5e2f",
       "version_major": 2,
       "version_minor": 0
      },
      "text/plain": [
       "Running Simulation :   0%|          | 0/200 [00:00<?, ?it/s]"
      ]
     },
     "metadata": {},
     "output_type": "display_data"
    },
    {
     "name": "stdout",
     "output_type": "stream",
     "text": [
      "Target: 1\n",
      "Currents: 0.0\n",
      "Training \n",
      "\n",
      "\n",
      "Drain 4 Only\n"
     ]
    },
    {
     "data": {
      "application/vnd.jupyter.widget-view+json": {
       "model_id": "9a59b1fb9fee4554b34f308353ecbe49",
       "version_major": 2,
       "version_minor": 0
      },
      "text/plain": [
       "Running Simulation :   0%|          | 0/200 [00:00<?, ?it/s]"
      ]
     },
     "metadata": {},
     "output_type": "display_data"
    },
    {
     "name": "stdout",
     "output_type": "stream",
     "text": [
      "Target: 1\n",
      "Currents: 0.0\n",
      "Training \n",
      "\n",
      "\n",
      "Drain 6 Only\n"
     ]
    },
    {
     "data": {
      "application/vnd.jupyter.widget-view+json": {
       "model_id": "d0f412eccbba41a596cbdd182be806cf",
       "version_major": 2,
       "version_minor": 0
      },
      "text/plain": [
       "Running Simulation :   0%|          | 0/200 [00:00<?, ?it/s]"
      ]
     },
     "metadata": {},
     "output_type": "display_data"
    },
    {
     "name": "stdout",
     "output_type": "stream",
     "text": [
      "Target: 1\n",
      "Currents: 0.0\n",
      "Training \n",
      "\n",
      "\n",
      "Drain 7 Only\n"
     ]
    },
    {
     "data": {
      "application/vnd.jupyter.widget-view+json": {
       "model_id": "60d58db5c372441e8d31178f33f16eaf",
       "version_major": 2,
       "version_minor": 0
      },
      "text/plain": [
       "Running Simulation :   0%|          | 0/200 [00:00<?, ?it/s]"
      ]
     },
     "metadata": {},
     "output_type": "display_data"
    },
    {
     "name": "stdout",
     "output_type": "stream",
     "text": [
      "Target: 1\n",
      "Currents: 0.0\n",
      "Training \n",
      "\n",
      "\n",
      "Drain 9 Only\n"
     ]
    },
    {
     "data": {
      "application/vnd.jupyter.widget-view+json": {
       "model_id": "88386f5e33924745ba97f0feb505ee08",
       "version_major": 2,
       "version_minor": 0
      },
      "text/plain": [
       "Running Simulation :   0%|          | 0/200 [00:00<?, ?it/s]"
      ]
     },
     "metadata": {},
     "output_type": "display_data"
    },
    {
     "name": "stdout",
     "output_type": "stream",
     "text": [
      "Target: 1\n",
      "Currents: 0.0\n",
      "Training \n",
      "\n",
      "\n",
      "Drain 3 Only\n"
     ]
    },
    {
     "data": {
      "application/vnd.jupyter.widget-view+json": {
       "model_id": "7c43e41b84134087ba94d8161cce7678",
       "version_major": 2,
       "version_minor": 0
      },
      "text/plain": [
       "Running Simulation :   0%|          | 0/200 [00:00<?, ?it/s]"
      ]
     },
     "metadata": {},
     "output_type": "display_data"
    },
    {
     "name": "stdout",
     "output_type": "stream",
     "text": [
      "Target: 1\n",
      "Currents: 0.0\n",
      "Training \n",
      "\n",
      "\n",
      "Drain 1 Only\n"
     ]
    },
    {
     "data": {
      "application/vnd.jupyter.widget-view+json": {
       "model_id": "b19ab9078908434491bcdc6d70ce9854",
       "version_major": 2,
       "version_minor": 0
      },
      "text/plain": [
       "Running Simulation :   0%|          | 0/200 [00:00<?, ?it/s]"
      ]
     },
     "metadata": {},
     "output_type": "display_data"
    },
    {
     "name": "stdout",
     "output_type": "stream",
     "text": [
      "Target: 1\n",
      "Currents: 1.0009676869724551e-05\n",
      "Training \n",
      "\n",
      "\n",
      "Drain 2 Only\n"
     ]
    },
    {
     "data": {
      "application/vnd.jupyter.widget-view+json": {
       "model_id": "c8f1e8ead04d49eb8c325319bb8df3b3",
       "version_major": 2,
       "version_minor": 0
      },
      "text/plain": [
       "Running Simulation :   0%|          | 0/200 [00:00<?, ?it/s]"
      ]
     },
     "metadata": {},
     "output_type": "display_data"
    },
    {
     "name": "stdout",
     "output_type": "stream",
     "text": [
      "Target: 1\n",
      "Currents: 0.0\n",
      "Training \n",
      "\n",
      "\n",
      "Drain 8 Only\n"
     ]
    },
    {
     "data": {
      "application/vnd.jupyter.widget-view+json": {
       "model_id": "2e9ff78aae0b4d30a496f83c9a2e931a",
       "version_major": 2,
       "version_minor": 0
      },
      "text/plain": [
       "Running Simulation :   0%|          | 0/200 [00:00<?, ?it/s]"
      ]
     },
     "metadata": {},
     "output_type": "display_data"
    },
    {
     "name": "stdout",
     "output_type": "stream",
     "text": [
      "Target: 1\n",
      "Currents: 0.0\n",
      "\n",
      "All Drains\n"
     ]
    },
    {
     "data": {
      "application/vnd.jupyter.widget-view+json": {
       "model_id": "25faf101be064af1b3ebbbe32114a167",
       "version_major": 2,
       "version_minor": 0
      },
      "text/plain": [
       "Running Simulation :   0%|          | 0/200 [00:00<?, ?it/s]"
      ]
     },
     "metadata": {},
     "output_type": "display_data"
    },
    {
     "name": "stdout",
     "output_type": "stream",
     "text": [
      "Target: 1\n",
      "Currents: 7.129963149691347e-07\n",
      "Testing \n",
      "\n",
      "Currents: [7.12996315e-07 7.28298896e-07 2.42836125e-08 1.05318117e-08\n",
      " 6.03172605e-09 1.35319625e-08 8.35424620e-09 8.10092211e-08\n",
      " 1.04993450e-08]\n",
      "Target: 1.0\n",
      "Accuracy: 0\n",
      "New Target Threshold:1.333333333333333e-05\n",
      "Training \n",
      "\n",
      "\n",
      "Drain 8 Only\n"
     ]
    },
    {
     "data": {
      "application/vnd.jupyter.widget-view+json": {
       "model_id": "9f091bc26b53427e8acfe5cfd59910ee",
       "version_major": 2,
       "version_minor": 0
      },
      "text/plain": [
       "Running Simulation :   0%|          | 0/200 [00:00<?, ?it/s]"
      ]
     },
     "metadata": {},
     "output_type": "display_data"
    },
    {
     "name": "stdout",
     "output_type": "stream",
     "text": [
      "Target: 1\n",
      "Currents: 0.0\n",
      "Training \n",
      "\n",
      "\n",
      "Drain 7 Only\n"
     ]
    },
    {
     "data": {
      "application/vnd.jupyter.widget-view+json": {
       "model_id": "ec0c65bcfd924069a2ece0de24cf8156",
       "version_major": 2,
       "version_minor": 0
      },
      "text/plain": [
       "Running Simulation :   0%|          | 0/200 [00:00<?, ?it/s]"
      ]
     },
     "metadata": {},
     "output_type": "display_data"
    },
    {
     "name": "stdout",
     "output_type": "stream",
     "text": [
      "Target: 1\n",
      "Currents: 0.0\n",
      "Training \n",
      "\n",
      "\n",
      "Drain 4 Only\n"
     ]
    },
    {
     "data": {
      "application/vnd.jupyter.widget-view+json": {
       "model_id": "f889cffab7fa4fa58e3ef39674b2e918",
       "version_major": 2,
       "version_minor": 0
      },
      "text/plain": [
       "Running Simulation :   0%|          | 0/200 [00:00<?, ?it/s]"
      ]
     },
     "metadata": {},
     "output_type": "display_data"
    },
    {
     "name": "stdout",
     "output_type": "stream",
     "text": [
      "Target: 1\n",
      "Currents: 0.0\n",
      "Training \n",
      "\n",
      "\n",
      "Drain 5 Only\n"
     ]
    },
    {
     "data": {
      "application/vnd.jupyter.widget-view+json": {
       "model_id": "6207abb92202494dba260fd8136b1694",
       "version_major": 2,
       "version_minor": 0
      },
      "text/plain": [
       "Running Simulation :   0%|          | 0/200 [00:00<?, ?it/s]"
      ]
     },
     "metadata": {},
     "output_type": "display_data"
    },
    {
     "name": "stdout",
     "output_type": "stream",
     "text": [
      "Target: 1\n",
      "Currents: 0.0\n",
      "Training \n",
      "\n",
      "\n",
      "Drain 3 Only\n"
     ]
    },
    {
     "data": {
      "application/vnd.jupyter.widget-view+json": {
       "model_id": "ccec59fbb0d44c72abfb0a2101006953",
       "version_major": 2,
       "version_minor": 0
      },
      "text/plain": [
       "Running Simulation :   0%|          | 0/200 [00:00<?, ?it/s]"
      ]
     },
     "metadata": {},
     "output_type": "display_data"
    },
    {
     "name": "stdout",
     "output_type": "stream",
     "text": [
      "Target: 1\n",
      "Currents: 0.0\n",
      "Training \n",
      "\n",
      "\n",
      "Drain 1 Only\n"
     ]
    },
    {
     "data": {
      "application/vnd.jupyter.widget-view+json": {
       "model_id": "38c4d5f270364dbe980bcb39a7a2894c",
       "version_major": 2,
       "version_minor": 0
      },
      "text/plain": [
       "Running Simulation :   0%|          | 0/200 [00:00<?, ?it/s]"
      ]
     },
     "metadata": {},
     "output_type": "display_data"
    },
    {
     "name": "stdout",
     "output_type": "stream",
     "text": [
      "Target: 1\n",
      "Currents: 1.0007557860316146e-05\n",
      "Training \n",
      "\n",
      "\n",
      "Drain 9 Only\n"
     ]
    },
    {
     "data": {
      "application/vnd.jupyter.widget-view+json": {
       "model_id": "880e0235a6254143ac2ddbdd2cba8278",
       "version_major": 2,
       "version_minor": 0
      },
      "text/plain": [
       "Running Simulation :   0%|          | 0/200 [00:00<?, ?it/s]"
      ]
     },
     "metadata": {},
     "output_type": "display_data"
    },
    {
     "name": "stdout",
     "output_type": "stream",
     "text": [
      "Target: 1\n",
      "Currents: 0.0\n",
      "Training \n",
      "\n",
      "\n",
      "Drain 2 Only\n"
     ]
    },
    {
     "data": {
      "application/vnd.jupyter.widget-view+json": {
       "model_id": "8aa6b47122b74bc884aeda4d40454572",
       "version_major": 2,
       "version_minor": 0
      },
      "text/plain": [
       "Running Simulation :   0%|          | 0/200 [00:00<?, ?it/s]"
      ]
     },
     "metadata": {},
     "output_type": "display_data"
    },
    {
     "name": "stdout",
     "output_type": "stream",
     "text": [
      "Target: 1\n",
      "Currents: 0.0\n",
      "Training \n",
      "\n",
      "\n",
      "Drain 6 Only\n"
     ]
    },
    {
     "data": {
      "application/vnd.jupyter.widget-view+json": {
       "model_id": "9a3048ec445141b298263d527886c92d",
       "version_major": 2,
       "version_minor": 0
      },
      "text/plain": [
       "Running Simulation :   0%|          | 0/200 [00:00<?, ?it/s]"
      ]
     },
     "metadata": {},
     "output_type": "display_data"
    },
    {
     "name": "stdout",
     "output_type": "stream",
     "text": [
      "Target: 1\n",
      "Currents: 0.0\n",
      "\n",
      "All Drains\n"
     ]
    },
    {
     "data": {
      "application/vnd.jupyter.widget-view+json": {
       "model_id": "cfa6588403db4e2fb8e2ed9aee4b443f",
       "version_major": 2,
       "version_minor": 0
      },
      "text/plain": [
       "Running Simulation :   0%|          | 0/200 [00:00<?, ?it/s]"
      ]
     },
     "metadata": {},
     "output_type": "display_data"
    },
    {
     "name": "stdout",
     "output_type": "stream",
     "text": [
      "Target: 1\n",
      "Currents: 6.46603956303683e-07\n",
      "Testing \n",
      "\n",
      "Currents: [6.46603956e-07 6.82155886e-07 1.21867550e-08 1.04836019e-08\n",
      " 7.45454911e-09 5.09326174e-08 4.13105558e-09 7.65924090e-09\n",
      " 1.72810949e-08]\n",
      "Target: 1.0\n",
      "Accuracy: 0\n",
      "New Target Threshold:1.4166666666666663e-05\n",
      "Training \n",
      "\n",
      "\n",
      "Drain 2 Only\n"
     ]
    },
    {
     "data": {
      "application/vnd.jupyter.widget-view+json": {
       "model_id": "6dd30880e4244e458ced7300b5a15f38",
       "version_major": 2,
       "version_minor": 0
      },
      "text/plain": [
       "Running Simulation :   0%|          | 0/200 [00:00<?, ?it/s]"
      ]
     },
     "metadata": {},
     "output_type": "display_data"
    },
    {
     "name": "stdout",
     "output_type": "stream",
     "text": [
      "Target: 1\n",
      "Currents: 0.0\n",
      "Training \n",
      "\n",
      "\n",
      "Drain 9 Only\n"
     ]
    },
    {
     "data": {
      "application/vnd.jupyter.widget-view+json": {
       "model_id": "503b05bdff474e3fa6462927582aa0ed",
       "version_major": 2,
       "version_minor": 0
      },
      "text/plain": [
       "Running Simulation :   0%|          | 0/200 [00:00<?, ?it/s]"
      ]
     },
     "metadata": {},
     "output_type": "display_data"
    },
    {
     "name": "stdout",
     "output_type": "stream",
     "text": [
      "Target: 1\n",
      "Currents: 0.0\n",
      "Training \n",
      "\n",
      "\n",
      "Drain 6 Only\n"
     ]
    },
    {
     "data": {
      "application/vnd.jupyter.widget-view+json": {
       "model_id": "c53fa7449c5542a3aa85384f67afd8b4",
       "version_major": 2,
       "version_minor": 0
      },
      "text/plain": [
       "Running Simulation :   0%|          | 0/200 [00:00<?, ?it/s]"
      ]
     },
     "metadata": {},
     "output_type": "display_data"
    },
    {
     "name": "stdout",
     "output_type": "stream",
     "text": [
      "Target: 1\n",
      "Currents: 0.0\n",
      "Training \n",
      "\n",
      "\n",
      "Drain 5 Only\n"
     ]
    },
    {
     "data": {
      "application/vnd.jupyter.widget-view+json": {
       "model_id": "ef19d2f1ee6c4dfebbb8086272bada75",
       "version_major": 2,
       "version_minor": 0
      },
      "text/plain": [
       "Running Simulation :   0%|          | 0/200 [00:00<?, ?it/s]"
      ]
     },
     "metadata": {},
     "output_type": "display_data"
    },
    {
     "name": "stdout",
     "output_type": "stream",
     "text": [
      "Target: 1\n",
      "Currents: 0.0\n",
      "Training \n",
      "\n",
      "\n",
      "Drain 8 Only\n"
     ]
    },
    {
     "data": {
      "application/vnd.jupyter.widget-view+json": {
       "model_id": "cca08f62106b4786a7006fe4ceb271d3",
       "version_major": 2,
       "version_minor": 0
      },
      "text/plain": [
       "Running Simulation :   0%|          | 0/200 [00:00<?, ?it/s]"
      ]
     },
     "metadata": {},
     "output_type": "display_data"
    },
    {
     "name": "stdout",
     "output_type": "stream",
     "text": [
      "Target: 1\n",
      "Currents: 0.0\n",
      "Training \n",
      "\n",
      "\n",
      "Drain 1 Only\n"
     ]
    },
    {
     "data": {
      "application/vnd.jupyter.widget-view+json": {
       "model_id": "c3bac78da04446a3a684e533dc858fa2",
       "version_major": 2,
       "version_minor": 0
      },
      "text/plain": [
       "Running Simulation :   0%|          | 0/200 [00:00<?, ?it/s]"
      ]
     },
     "metadata": {},
     "output_type": "display_data"
    },
    {
     "name": "stdout",
     "output_type": "stream",
     "text": [
      "Target: 1\n",
      "Currents: 1.0008030534573996e-05\n",
      "Training \n",
      "\n",
      "\n",
      "Drain 7 Only\n"
     ]
    },
    {
     "data": {
      "application/vnd.jupyter.widget-view+json": {
       "model_id": "b24c42ad016f42f898272a67bf62ef9d",
       "version_major": 2,
       "version_minor": 0
      },
      "text/plain": [
       "Running Simulation :   0%|          | 0/200 [00:00<?, ?it/s]"
      ]
     },
     "metadata": {},
     "output_type": "display_data"
    },
    {
     "name": "stdout",
     "output_type": "stream",
     "text": [
      "Target: 1\n",
      "Currents: 0.0\n",
      "Training \n",
      "\n",
      "\n",
      "Drain 3 Only\n"
     ]
    },
    {
     "data": {
      "application/vnd.jupyter.widget-view+json": {
       "model_id": "f156d7a709a0486e8886ee24eae91c79",
       "version_major": 2,
       "version_minor": 0
      },
      "text/plain": [
       "Running Simulation :   0%|          | 0/200 [00:00<?, ?it/s]"
      ]
     },
     "metadata": {},
     "output_type": "display_data"
    },
    {
     "name": "stdout",
     "output_type": "stream",
     "text": [
      "Target: 1\n",
      "Currents: 0.0\n",
      "Training \n",
      "\n",
      "\n",
      "Drain 4 Only\n"
     ]
    },
    {
     "data": {
      "application/vnd.jupyter.widget-view+json": {
       "model_id": "9276ed6d859145a1a7371bd938e62d96",
       "version_major": 2,
       "version_minor": 0
      },
      "text/plain": [
       "Running Simulation :   0%|          | 0/200 [00:00<?, ?it/s]"
      ]
     },
     "metadata": {},
     "output_type": "display_data"
    },
    {
     "name": "stdout",
     "output_type": "stream",
     "text": [
      "Target: 1\n",
      "Currents: 0.0\n",
      "\n",
      "All Drains\n"
     ]
    },
    {
     "data": {
      "application/vnd.jupyter.widget-view+json": {
       "model_id": "703f43ecd76242bcb001653a0aa2197b",
       "version_major": 2,
       "version_minor": 0
      },
      "text/plain": [
       "Running Simulation :   0%|          | 0/200 [00:00<?, ?it/s]"
      ]
     },
     "metadata": {},
     "output_type": "display_data"
    },
    {
     "name": "stdout",
     "output_type": "stream",
     "text": [
      "Target: 1\n",
      "Currents: 6.469066836363951e-07\n",
      "Testing \n",
      "\n",
      "Currents: [6.46906684e-07 6.81227802e-07 4.22045552e-08 2.10434587e-08\n",
      " 5.61819758e-09 1.10083576e-08 9.34708187e-09 6.17468358e-09\n",
      " 1.70528598e-09]\n",
      "Target: 1.0\n",
      "Accuracy: 0\n",
      "New Target Threshold:1.4999999999999995e-05\n",
      "Training \n",
      "\n",
      "\n",
      "Drain 6 Only\n"
     ]
    },
    {
     "data": {
      "application/vnd.jupyter.widget-view+json": {
       "model_id": "f230bf4d544a4e28ac3685016c60bc42",
       "version_major": 2,
       "version_minor": 0
      },
      "text/plain": [
       "Running Simulation :   0%|          | 0/200 [00:00<?, ?it/s]"
      ]
     },
     "metadata": {},
     "output_type": "display_data"
    },
    {
     "name": "stdout",
     "output_type": "stream",
     "text": [
      "Target: 1\n",
      "Currents: 0.0\n",
      "Training \n",
      "\n",
      "\n",
      "Drain 9 Only\n"
     ]
    },
    {
     "data": {
      "application/vnd.jupyter.widget-view+json": {
       "model_id": "155803a6258347409d70171da21e6797",
       "version_major": 2,
       "version_minor": 0
      },
      "text/plain": [
       "Running Simulation :   0%|          | 0/200 [00:00<?, ?it/s]"
      ]
     },
     "metadata": {},
     "output_type": "display_data"
    },
    {
     "name": "stdout",
     "output_type": "stream",
     "text": [
      "Target: 1\n",
      "Currents: 0.0\n",
      "Training \n",
      "\n",
      "\n",
      "Drain 7 Only\n"
     ]
    },
    {
     "data": {
      "application/vnd.jupyter.widget-view+json": {
       "model_id": "eef9447e22e54b6a9d06aceb8c889dbc",
       "version_major": 2,
       "version_minor": 0
      },
      "text/plain": [
       "Running Simulation :   0%|          | 0/200 [00:00<?, ?it/s]"
      ]
     },
     "metadata": {},
     "output_type": "display_data"
    },
    {
     "name": "stdout",
     "output_type": "stream",
     "text": [
      "Target: 1\n",
      "Currents: 0.0\n",
      "Training \n",
      "\n",
      "\n",
      "Drain 2 Only\n"
     ]
    },
    {
     "data": {
      "application/vnd.jupyter.widget-view+json": {
       "model_id": "780fbdda00374d8ebd90115957e805b1",
       "version_major": 2,
       "version_minor": 0
      },
      "text/plain": [
       "Running Simulation :   0%|          | 0/200 [00:00<?, ?it/s]"
      ]
     },
     "metadata": {},
     "output_type": "display_data"
    },
    {
     "name": "stdout",
     "output_type": "stream",
     "text": [
      "Target: 1\n",
      "Currents: 0.0\n",
      "Training \n",
      "\n",
      "\n",
      "Drain 8 Only\n"
     ]
    },
    {
     "data": {
      "application/vnd.jupyter.widget-view+json": {
       "model_id": "00ea190d359146e6ad11f889b549734b",
       "version_major": 2,
       "version_minor": 0
      },
      "text/plain": [
       "Running Simulation :   0%|          | 0/200 [00:00<?, ?it/s]"
      ]
     },
     "metadata": {},
     "output_type": "display_data"
    },
    {
     "name": "stdout",
     "output_type": "stream",
     "text": [
      "Target: 1\n",
      "Currents: 0.0\n",
      "Training \n",
      "\n",
      "\n",
      "Drain 4 Only\n"
     ]
    },
    {
     "data": {
      "application/vnd.jupyter.widget-view+json": {
       "model_id": "c5870c4d51d74c7a8dda9ab137cf19d7",
       "version_major": 2,
       "version_minor": 0
      },
      "text/plain": [
       "Running Simulation :   0%|          | 0/200 [00:00<?, ?it/s]"
      ]
     },
     "metadata": {},
     "output_type": "display_data"
    },
    {
     "name": "stdout",
     "output_type": "stream",
     "text": [
      "Target: 1\n",
      "Currents: 0.0\n",
      "Training \n",
      "\n",
      "\n",
      "Drain 3 Only\n"
     ]
    },
    {
     "data": {
      "application/vnd.jupyter.widget-view+json": {
       "model_id": "1f2dfb67e9174246bea4b209589b2935",
       "version_major": 2,
       "version_minor": 0
      },
      "text/plain": [
       "Running Simulation :   0%|          | 0/200 [00:00<?, ?it/s]"
      ]
     },
     "metadata": {},
     "output_type": "display_data"
    },
    {
     "name": "stdout",
     "output_type": "stream",
     "text": [
      "Target: 1\n",
      "Currents: 0.0\n",
      "Training \n",
      "\n",
      "\n",
      "Drain 5 Only\n"
     ]
    },
    {
     "data": {
      "application/vnd.jupyter.widget-view+json": {
       "model_id": "6f0d71d122db437c8f549a7e5b42fa22",
       "version_major": 2,
       "version_minor": 0
      },
      "text/plain": [
       "Running Simulation :   0%|          | 0/200 [00:00<?, ?it/s]"
      ]
     },
     "metadata": {},
     "output_type": "display_data"
    },
    {
     "name": "stdout",
     "output_type": "stream",
     "text": [
      "Target: 1\n",
      "Currents: 0.0\n",
      "Training \n",
      "\n",
      "\n",
      "Drain 1 Only\n"
     ]
    },
    {
     "data": {
      "application/vnd.jupyter.widget-view+json": {
       "model_id": "0ef90b45fb484fe9b7ddf615d599d8d3",
       "version_major": 2,
       "version_minor": 0
      },
      "text/plain": [
       "Running Simulation :   0%|          | 0/200 [00:00<?, ?it/s]"
      ]
     },
     "metadata": {},
     "output_type": "display_data"
    },
    {
     "name": "stdout",
     "output_type": "stream",
     "text": [
      "Target: 1\n",
      "Currents: 1.001444473739027e-05\n",
      "\n",
      "All Drains\n"
     ]
    },
    {
     "data": {
      "application/vnd.jupyter.widget-view+json": {
       "model_id": "93d2725839a544c0bda942f78cfe0f6a",
       "version_major": 2,
       "version_minor": 0
      },
      "text/plain": [
       "Running Simulation :   0%|          | 0/200 [00:00<?, ?it/s]"
      ]
     },
     "metadata": {},
     "output_type": "display_data"
    },
    {
     "name": "stdout",
     "output_type": "stream",
     "text": [
      "Target: 1\n",
      "Currents: 7.958404241087105e-07\n",
      "Testing \n",
      "\n",
      "Currents: [7.95840424e-07 8.46327159e-07 8.10602696e-09 1.11612119e-08\n",
      " 4.34564065e-09 9.40101409e-09 1.91320539e-09 3.76692205e-09\n",
      " 6.72448477e-10]\n",
      "Target: 1.0\n",
      "Accuracy: 0\n",
      "New Target Threshold:1.583333333333333e-05\n",
      "Training \n",
      "\n",
      "\n",
      "Drain 3 Only\n"
     ]
    },
    {
     "data": {
      "application/vnd.jupyter.widget-view+json": {
       "model_id": "b7bcc2819c214139b4e30e375ac8a440",
       "version_major": 2,
       "version_minor": 0
      },
      "text/plain": [
       "Running Simulation :   0%|          | 0/200 [00:00<?, ?it/s]"
      ]
     },
     "metadata": {},
     "output_type": "display_data"
    },
    {
     "name": "stdout",
     "output_type": "stream",
     "text": [
      "Target: 1\n",
      "Currents: 0.0\n",
      "Training \n",
      "\n",
      "\n",
      "Drain 5 Only\n"
     ]
    },
    {
     "data": {
      "application/vnd.jupyter.widget-view+json": {
       "model_id": "609348fe701c4b12875f01b20b46db87",
       "version_major": 2,
       "version_minor": 0
      },
      "text/plain": [
       "Running Simulation :   0%|          | 0/200 [00:00<?, ?it/s]"
      ]
     },
     "metadata": {},
     "output_type": "display_data"
    },
    {
     "name": "stdout",
     "output_type": "stream",
     "text": [
      "Target: 1\n",
      "Currents: 0.0\n",
      "Training \n",
      "\n",
      "\n",
      "Drain 8 Only\n"
     ]
    },
    {
     "data": {
      "application/vnd.jupyter.widget-view+json": {
       "model_id": "05d8d9f5b3b14d30b4de47f7ee0c2fb4",
       "version_major": 2,
       "version_minor": 0
      },
      "text/plain": [
       "Running Simulation :   0%|          | 0/200 [00:00<?, ?it/s]"
      ]
     },
     "metadata": {},
     "output_type": "display_data"
    },
    {
     "name": "stdout",
     "output_type": "stream",
     "text": [
      "Target: 1\n",
      "Currents: 0.0\n",
      "Training \n",
      "\n",
      "\n",
      "Drain 6 Only\n"
     ]
    },
    {
     "data": {
      "application/vnd.jupyter.widget-view+json": {
       "model_id": "b7a4c6e2c95546b28a9275913453f368",
       "version_major": 2,
       "version_minor": 0
      },
      "text/plain": [
       "Running Simulation :   0%|          | 0/200 [00:00<?, ?it/s]"
      ]
     },
     "metadata": {},
     "output_type": "display_data"
    },
    {
     "name": "stdout",
     "output_type": "stream",
     "text": [
      "Target: 1\n",
      "Currents: 0.0\n",
      "Training \n",
      "\n",
      "\n",
      "Drain 1 Only\n"
     ]
    },
    {
     "data": {
      "application/vnd.jupyter.widget-view+json": {
       "model_id": "6500ecaaf4774675a9d0b81ad59da84e",
       "version_major": 2,
       "version_minor": 0
      },
      "text/plain": [
       "Running Simulation :   0%|          | 0/200 [00:00<?, ?it/s]"
      ]
     },
     "metadata": {},
     "output_type": "display_data"
    },
    {
     "name": "stdout",
     "output_type": "stream",
     "text": [
      "Target: 1\n",
      "Currents: 1.0007936846336311e-05\n",
      "Training \n",
      "\n",
      "\n",
      "Drain 7 Only\n"
     ]
    },
    {
     "data": {
      "application/vnd.jupyter.widget-view+json": {
       "model_id": "426314b3188441fabebf92535f3dc019",
       "version_major": 2,
       "version_minor": 0
      },
      "text/plain": [
       "Running Simulation :   0%|          | 0/200 [00:00<?, ?it/s]"
      ]
     },
     "metadata": {},
     "output_type": "display_data"
    },
    {
     "name": "stdout",
     "output_type": "stream",
     "text": [
      "Target: 1\n",
      "Currents: 0.0\n",
      "Training \n",
      "\n",
      "\n",
      "Drain 2 Only\n"
     ]
    },
    {
     "data": {
      "application/vnd.jupyter.widget-view+json": {
       "model_id": "6164c71c5c4847a0a404828a669f97a2",
       "version_major": 2,
       "version_minor": 0
      },
      "text/plain": [
       "Running Simulation :   0%|          | 0/200 [00:00<?, ?it/s]"
      ]
     },
     "metadata": {},
     "output_type": "display_data"
    },
    {
     "name": "stdout",
     "output_type": "stream",
     "text": [
      "Target: 1\n",
      "Currents: 0.0\n",
      "Training \n",
      "\n",
      "\n",
      "Drain 9 Only\n"
     ]
    },
    {
     "data": {
      "application/vnd.jupyter.widget-view+json": {
       "model_id": "7d9835c2715a4889b82c8280454a6521",
       "version_major": 2,
       "version_minor": 0
      },
      "text/plain": [
       "Running Simulation :   0%|          | 0/200 [00:00<?, ?it/s]"
      ]
     },
     "metadata": {},
     "output_type": "display_data"
    },
    {
     "name": "stdout",
     "output_type": "stream",
     "text": [
      "Target: 1\n",
      "Currents: 0.0\n",
      "Training \n",
      "\n",
      "\n",
      "Drain 4 Only\n"
     ]
    },
    {
     "data": {
      "application/vnd.jupyter.widget-view+json": {
       "model_id": "7855d1b554e94e168538153fc353b1a4",
       "version_major": 2,
       "version_minor": 0
      },
      "text/plain": [
       "Running Simulation :   0%|          | 0/200 [00:00<?, ?it/s]"
      ]
     },
     "metadata": {},
     "output_type": "display_data"
    },
    {
     "name": "stdout",
     "output_type": "stream",
     "text": [
      "Target: 1\n",
      "Currents: 0.0\n",
      "\n",
      "All Drains\n"
     ]
    },
    {
     "data": {
      "application/vnd.jupyter.widget-view+json": {
       "model_id": "5753b356616843f4ae52f72f670d66ba",
       "version_major": 2,
       "version_minor": 0
      },
      "text/plain": [
       "Running Simulation :   0%|          | 0/200 [00:00<?, ?it/s]"
      ]
     },
     "metadata": {},
     "output_type": "display_data"
    },
    {
     "name": "stdout",
     "output_type": "stream",
     "text": [
      "Target: 1\n",
      "Currents: 5.74403028962957e-07\n",
      "Testing \n",
      "\n",
      "Currents: [5.74403029e-07 6.66472533e-07 6.06607140e-09 7.03975307e-09\n",
      " 3.82798976e-09 9.57991610e-09 1.93567639e-09 4.08753190e-09\n",
      " 7.22523124e-10]\n",
      "Target: 1.0\n",
      "Accuracy: 0\n",
      "New Target Threshold:1.6666666666666664e-05\n",
      "Training \n",
      "\n",
      "\n",
      "Drain 4 Only\n"
     ]
    },
    {
     "data": {
      "application/vnd.jupyter.widget-view+json": {
       "model_id": "49a5331cc9c1444292f9a5eec15b43be",
       "version_major": 2,
       "version_minor": 0
      },
      "text/plain": [
       "Running Simulation :   0%|          | 0/200 [00:00<?, ?it/s]"
      ]
     },
     "metadata": {},
     "output_type": "display_data"
    },
    {
     "name": "stdout",
     "output_type": "stream",
     "text": [
      "Target: 1\n",
      "Currents: 0.0\n",
      "Training \n",
      "\n",
      "\n",
      "Drain 8 Only\n"
     ]
    },
    {
     "data": {
      "application/vnd.jupyter.widget-view+json": {
       "model_id": "0f56851685e64f61b6486b8e3f4d7344",
       "version_major": 2,
       "version_minor": 0
      },
      "text/plain": [
       "Running Simulation :   0%|          | 0/200 [00:00<?, ?it/s]"
      ]
     },
     "metadata": {},
     "output_type": "display_data"
    },
    {
     "name": "stdout",
     "output_type": "stream",
     "text": [
      "Target: 1\n",
      "Currents: 0.0\n",
      "Training \n",
      "\n",
      "\n",
      "Drain 1 Only\n"
     ]
    },
    {
     "data": {
      "application/vnd.jupyter.widget-view+json": {
       "model_id": "2faaebe73ffa4e7ebab438bac9225c93",
       "version_major": 2,
       "version_minor": 0
      },
      "text/plain": [
       "Running Simulation :   0%|          | 0/200 [00:00<?, ?it/s]"
      ]
     },
     "metadata": {},
     "output_type": "display_data"
    },
    {
     "name": "stdout",
     "output_type": "stream",
     "text": [
      "Target: 1\n",
      "Currents: 1.0010372454061859e-05\n",
      "Training \n",
      "\n",
      "\n",
      "Drain 7 Only\n"
     ]
    },
    {
     "data": {
      "application/vnd.jupyter.widget-view+json": {
       "model_id": "9c4debf8b7bd4136b25a09f4fa1825a6",
       "version_major": 2,
       "version_minor": 0
      },
      "text/plain": [
       "Running Simulation :   0%|          | 0/200 [00:00<?, ?it/s]"
      ]
     },
     "metadata": {},
     "output_type": "display_data"
    },
    {
     "name": "stdout",
     "output_type": "stream",
     "text": [
      "Target: 1\n",
      "Currents: 0.0\n",
      "Training \n",
      "\n",
      "\n",
      "Drain 9 Only\n"
     ]
    },
    {
     "data": {
      "application/vnd.jupyter.widget-view+json": {
       "model_id": "92e3506fdf74457c807083233102adad",
       "version_major": 2,
       "version_minor": 0
      },
      "text/plain": [
       "Running Simulation :   0%|          | 0/200 [00:00<?, ?it/s]"
      ]
     },
     "metadata": {},
     "output_type": "display_data"
    },
    {
     "name": "stdout",
     "output_type": "stream",
     "text": [
      "Target: 1\n",
      "Currents: 0.0\n",
      "Training \n",
      "\n",
      "\n",
      "Drain 5 Only\n"
     ]
    },
    {
     "data": {
      "application/vnd.jupyter.widget-view+json": {
       "model_id": "9d16a49b224a4848b48e45c0eeca9af3",
       "version_major": 2,
       "version_minor": 0
      },
      "text/plain": [
       "Running Simulation :   0%|          | 0/200 [00:00<?, ?it/s]"
      ]
     },
     "metadata": {},
     "output_type": "display_data"
    },
    {
     "name": "stdout",
     "output_type": "stream",
     "text": [
      "Target: 1\n",
      "Currents: 0.0\n",
      "Training \n",
      "\n",
      "\n",
      "Drain 3 Only\n"
     ]
    },
    {
     "data": {
      "application/vnd.jupyter.widget-view+json": {
       "model_id": "c52115a60c20463d8c436702375ae793",
       "version_major": 2,
       "version_minor": 0
      },
      "text/plain": [
       "Running Simulation :   0%|          | 0/200 [00:00<?, ?it/s]"
      ]
     },
     "metadata": {},
     "output_type": "display_data"
    },
    {
     "name": "stdout",
     "output_type": "stream",
     "text": [
      "Target: 1\n",
      "Currents: 0.0\n",
      "Training \n",
      "\n",
      "\n",
      "Drain 2 Only\n"
     ]
    },
    {
     "data": {
      "application/vnd.jupyter.widget-view+json": {
       "model_id": "80eadfaf1a4042d1958de1d0faa329b9",
       "version_major": 2,
       "version_minor": 0
      },
      "text/plain": [
       "Running Simulation :   0%|          | 0/200 [00:00<?, ?it/s]"
      ]
     },
     "metadata": {},
     "output_type": "display_data"
    },
    {
     "name": "stdout",
     "output_type": "stream",
     "text": [
      "Target: 1\n",
      "Currents: 0.0\n",
      "Training \n",
      "\n",
      "\n",
      "Drain 6 Only\n"
     ]
    },
    {
     "data": {
      "application/vnd.jupyter.widget-view+json": {
       "model_id": "d9261c89214c446c83ed3c0deae442dc",
       "version_major": 2,
       "version_minor": 0
      },
      "text/plain": [
       "Running Simulation :   0%|          | 0/200 [00:00<?, ?it/s]"
      ]
     },
     "metadata": {},
     "output_type": "display_data"
    },
    {
     "name": "stdout",
     "output_type": "stream",
     "text": [
      "Target: 1\n",
      "Currents: 0.0\n",
      "\n",
      "All Drains\n"
     ]
    },
    {
     "data": {
      "application/vnd.jupyter.widget-view+json": {
       "model_id": "cd56a764b6b64ba39f6fad95b03210d6",
       "version_major": 2,
       "version_minor": 0
      },
      "text/plain": [
       "Running Simulation :   0%|          | 0/200 [00:00<?, ?it/s]"
      ]
     },
     "metadata": {},
     "output_type": "display_data"
    },
    {
     "name": "stdout",
     "output_type": "stream",
     "text": [
      "Target: 1\n",
      "Currents: 4.321593173333249e-07\n",
      "Testing \n",
      "\n",
      "Currents: [4.32159317e-07 5.47210366e-07 4.90805910e-09 5.57958578e-09\n",
      " 3.24116660e-09 9.42489865e-09 2.07595966e-09 4.48333205e-09\n",
      " 7.92470026e-10]\n",
      "Target: 1.0\n",
      "Accuracy: 0\n",
      "New Target Threshold:1.75e-05\n",
      "Training \n",
      "\n",
      "\n",
      "Drain 3 Only\n"
     ]
    },
    {
     "data": {
      "application/vnd.jupyter.widget-view+json": {
       "model_id": "353163056b41498f91c89257c6e57e88",
       "version_major": 2,
       "version_minor": 0
      },
      "text/plain": [
       "Running Simulation :   0%|          | 0/200 [00:00<?, ?it/s]"
      ]
     },
     "metadata": {},
     "output_type": "display_data"
    },
    {
     "name": "stdout",
     "output_type": "stream",
     "text": [
      "Target: 1\n",
      "Currents: 0.0\n",
      "Training \n",
      "\n",
      "\n",
      "Drain 8 Only\n"
     ]
    },
    {
     "data": {
      "application/vnd.jupyter.widget-view+json": {
       "model_id": "5358d0c010e940aeaadbdf6fef987472",
       "version_major": 2,
       "version_minor": 0
      },
      "text/plain": [
       "Running Simulation :   0%|          | 0/200 [00:00<?, ?it/s]"
      ]
     },
     "metadata": {},
     "output_type": "display_data"
    },
    {
     "name": "stdout",
     "output_type": "stream",
     "text": [
      "Target: 1\n",
      "Currents: 0.0\n",
      "Training \n",
      "\n",
      "\n",
      "Drain 4 Only\n"
     ]
    },
    {
     "data": {
      "application/vnd.jupyter.widget-view+json": {
       "model_id": "3cfcc7bdb5034e6c9fe32c49fe0e2683",
       "version_major": 2,
       "version_minor": 0
      },
      "text/plain": [
       "Running Simulation :   0%|          | 0/200 [00:00<?, ?it/s]"
      ]
     },
     "metadata": {},
     "output_type": "display_data"
    },
    {
     "name": "stdout",
     "output_type": "stream",
     "text": [
      "Target: 1\n",
      "Currents: 0.0\n",
      "Training \n",
      "\n",
      "\n",
      "Drain 1 Only\n"
     ]
    },
    {
     "data": {
      "application/vnd.jupyter.widget-view+json": {
       "model_id": "77634bc607e84bf6a4f809b6cda28cd6",
       "version_major": 2,
       "version_minor": 0
      },
      "text/plain": [
       "Running Simulation :   0%|          | 0/200 [00:00<?, ?it/s]"
      ]
     },
     "metadata": {},
     "output_type": "display_data"
    },
    {
     "name": "stdout",
     "output_type": "stream",
     "text": [
      "Target: 1\n",
      "Currents: 1.0012455815585919e-05\n",
      "Training \n",
      "\n",
      "\n",
      "Drain 5 Only\n"
     ]
    },
    {
     "data": {
      "application/vnd.jupyter.widget-view+json": {
       "model_id": "4e99b815d74c473aa64eda2d5aba3321",
       "version_major": 2,
       "version_minor": 0
      },
      "text/plain": [
       "Running Simulation :   0%|          | 0/200 [00:00<?, ?it/s]"
      ]
     },
     "metadata": {},
     "output_type": "display_data"
    },
    {
     "name": "stdout",
     "output_type": "stream",
     "text": [
      "Target: 1\n",
      "Currents: 0.0\n",
      "Training \n",
      "\n",
      "\n",
      "Drain 6 Only\n"
     ]
    },
    {
     "data": {
      "application/vnd.jupyter.widget-view+json": {
       "model_id": "8765a6ed0ca34be7849c539e9b1d9a04",
       "version_major": 2,
       "version_minor": 0
      },
      "text/plain": [
       "Running Simulation :   0%|          | 0/200 [00:00<?, ?it/s]"
      ]
     },
     "metadata": {},
     "output_type": "display_data"
    },
    {
     "name": "stdout",
     "output_type": "stream",
     "text": [
      "Target: 1\n",
      "Currents: 0.0\n",
      "Training \n",
      "\n",
      "\n",
      "Drain 7 Only\n"
     ]
    },
    {
     "data": {
      "application/vnd.jupyter.widget-view+json": {
       "model_id": "43b3fdaaa9484482aad8a942a8d81533",
       "version_major": 2,
       "version_minor": 0
      },
      "text/plain": [
       "Running Simulation :   0%|          | 0/200 [00:00<?, ?it/s]"
      ]
     },
     "metadata": {},
     "output_type": "display_data"
    },
    {
     "name": "stdout",
     "output_type": "stream",
     "text": [
      "Target: 1\n",
      "Currents: 0.0\n",
      "Training \n",
      "\n",
      "\n",
      "Drain 9 Only\n"
     ]
    },
    {
     "data": {
      "application/vnd.jupyter.widget-view+json": {
       "model_id": "d0385f881964479cbd673dbf4fb4c3c0",
       "version_major": 2,
       "version_minor": 0
      },
      "text/plain": [
       "Running Simulation :   0%|          | 0/200 [00:00<?, ?it/s]"
      ]
     },
     "metadata": {},
     "output_type": "display_data"
    },
    {
     "name": "stdout",
     "output_type": "stream",
     "text": [
      "Target: 1\n",
      "Currents: 0.0\n",
      "Training \n",
      "\n",
      "\n",
      "Drain 2 Only\n"
     ]
    },
    {
     "data": {
      "application/vnd.jupyter.widget-view+json": {
       "model_id": "bdad7215d7f04f6c8e13d9909f09ccc6",
       "version_major": 2,
       "version_minor": 0
      },
      "text/plain": [
       "Running Simulation :   0%|          | 0/200 [00:00<?, ?it/s]"
      ]
     },
     "metadata": {},
     "output_type": "display_data"
    },
    {
     "name": "stdout",
     "output_type": "stream",
     "text": [
      "Target: 1\n",
      "Currents: 0.0\n",
      "\n",
      "All Drains\n"
     ]
    },
    {
     "data": {
      "application/vnd.jupyter.widget-view+json": {
       "model_id": "b52b1bb54e154805ab604e7d16990dda",
       "version_major": 2,
       "version_minor": 0
      },
      "text/plain": [
       "Running Simulation :   0%|          | 0/200 [00:00<?, ?it/s]"
      ]
     },
     "metadata": {},
     "output_type": "display_data"
    },
    {
     "name": "stdout",
     "output_type": "stream",
     "text": [
      "Target: 1\n",
      "Currents: 5.42520116925635e-07\n",
      "Testing \n",
      "\n",
      "Currents: [5.42520117e-07 6.51572122e-07 5.78167862e-09 6.38730935e-09\n",
      " 3.61611472e-09 9.20153064e-09 1.94893309e-09 4.14899831e-09\n",
      " 7.33282641e-10]\n",
      "Target: 1.0\n",
      "Accuracy: 0\n",
      "New Target Threshold:1.8333333333333333e-05\n",
      "Training \n",
      "\n",
      "\n",
      "Drain 8 Only\n"
     ]
    },
    {
     "data": {
      "application/vnd.jupyter.widget-view+json": {
       "model_id": "4def7bc5e26e467faeb2bc6fc463c4e6",
       "version_major": 2,
       "version_minor": 0
      },
      "text/plain": [
       "Running Simulation :   0%|          | 0/200 [00:00<?, ?it/s]"
      ]
     },
     "metadata": {},
     "output_type": "display_data"
    },
    {
     "name": "stdout",
     "output_type": "stream",
     "text": [
      "Target: 1\n",
      "Currents: 0.0\n",
      "Training \n",
      "\n",
      "\n",
      "Drain 7 Only\n"
     ]
    },
    {
     "data": {
      "application/vnd.jupyter.widget-view+json": {
       "model_id": "cc4e56d142e94e63960afff8bbe1551f",
       "version_major": 2,
       "version_minor": 0
      },
      "text/plain": [
       "Running Simulation :   0%|          | 0/200 [00:00<?, ?it/s]"
      ]
     },
     "metadata": {},
     "output_type": "display_data"
    },
    {
     "name": "stdout",
     "output_type": "stream",
     "text": [
      "Target: 1\n",
      "Currents: 0.0\n",
      "Training \n",
      "\n",
      "\n",
      "Drain 6 Only\n"
     ]
    },
    {
     "data": {
      "application/vnd.jupyter.widget-view+json": {
       "model_id": "21c14fbdbc714e06b5ed849d22c07050",
       "version_major": 2,
       "version_minor": 0
      },
      "text/plain": [
       "Running Simulation :   0%|          | 0/200 [00:00<?, ?it/s]"
      ]
     },
     "metadata": {},
     "output_type": "display_data"
    },
    {
     "name": "stdout",
     "output_type": "stream",
     "text": [
      "Target: 1\n",
      "Currents: 0.0\n",
      "Training \n",
      "\n",
      "\n",
      "Drain 3 Only\n"
     ]
    },
    {
     "data": {
      "application/vnd.jupyter.widget-view+json": {
       "model_id": "66b3b7586b844363b168d0a832169d80",
       "version_major": 2,
       "version_minor": 0
      },
      "text/plain": [
       "Running Simulation :   0%|          | 0/200 [00:00<?, ?it/s]"
      ]
     },
     "metadata": {},
     "output_type": "display_data"
    },
    {
     "name": "stdout",
     "output_type": "stream",
     "text": [
      "Target: 1\n",
      "Currents: 0.0\n",
      "Training \n",
      "\n",
      "\n",
      "Drain 5 Only\n"
     ]
    },
    {
     "data": {
      "application/vnd.jupyter.widget-view+json": {
       "model_id": "cdfccc78b20747dca3af9b1f7e2b70e8",
       "version_major": 2,
       "version_minor": 0
      },
      "text/plain": [
       "Running Simulation :   0%|          | 0/200 [00:00<?, ?it/s]"
      ]
     },
     "metadata": {},
     "output_type": "display_data"
    },
    {
     "name": "stdout",
     "output_type": "stream",
     "text": [
      "Target: 1\n",
      "Currents: 0.0\n",
      "Training \n",
      "\n",
      "\n",
      "Drain 2 Only\n"
     ]
    },
    {
     "data": {
      "application/vnd.jupyter.widget-view+json": {
       "model_id": "008d7ab6262841678b0a45e6cc4d930d",
       "version_major": 2,
       "version_minor": 0
      },
      "text/plain": [
       "Running Simulation :   0%|          | 0/200 [00:00<?, ?it/s]"
      ]
     },
     "metadata": {},
     "output_type": "display_data"
    },
    {
     "name": "stdout",
     "output_type": "stream",
     "text": [
      "Target: 1\n",
      "Currents: 0.0\n",
      "Training \n",
      "\n",
      "\n",
      "Drain 1 Only\n"
     ]
    },
    {
     "data": {
      "application/vnd.jupyter.widget-view+json": {
       "model_id": "a04df7fbeda54697893e005d2b969446",
       "version_major": 2,
       "version_minor": 0
      },
      "text/plain": [
       "Running Simulation :   0%|          | 0/200 [00:00<?, ?it/s]"
      ]
     },
     "metadata": {},
     "output_type": "display_data"
    },
    {
     "name": "stdout",
     "output_type": "stream",
     "text": [
      "Target: 1\n",
      "Currents: 1.0020119710553377e-05\n",
      "Training \n",
      "\n",
      "\n",
      "Drain 4 Only\n"
     ]
    },
    {
     "data": {
      "application/vnd.jupyter.widget-view+json": {
       "model_id": "b85ddadf8e0b4f02b178a415d5b74d66",
       "version_major": 2,
       "version_minor": 0
      },
      "text/plain": [
       "Running Simulation :   0%|          | 0/200 [00:00<?, ?it/s]"
      ]
     },
     "metadata": {},
     "output_type": "display_data"
    },
    {
     "name": "stdout",
     "output_type": "stream",
     "text": [
      "Target: 1\n",
      "Currents: 0.0\n",
      "Training \n",
      "\n",
      "\n",
      "Drain 9 Only\n"
     ]
    },
    {
     "data": {
      "application/vnd.jupyter.widget-view+json": {
       "model_id": "6678ed0dbec74627a4287fd3e8b4309b",
       "version_major": 2,
       "version_minor": 0
      },
      "text/plain": [
       "Running Simulation :   0%|          | 0/200 [00:00<?, ?it/s]"
      ]
     },
     "metadata": {},
     "output_type": "display_data"
    },
    {
     "name": "stdout",
     "output_type": "stream",
     "text": [
      "Target: 1\n",
      "Currents: 0.0\n",
      "\n",
      "All Drains\n"
     ]
    },
    {
     "data": {
      "application/vnd.jupyter.widget-view+json": {
       "model_id": "90a67cad3deb4b97b9a59dfd20886fba",
       "version_major": 2,
       "version_minor": 0
      },
      "text/plain": [
       "Running Simulation :   0%|          | 0/200 [00:00<?, ?it/s]"
      ]
     },
     "metadata": {},
     "output_type": "display_data"
    },
    {
     "name": "stdout",
     "output_type": "stream",
     "text": [
      "Target: 1\n",
      "Currents: 7.421653775392004e-07\n",
      "Testing \n",
      "\n",
      "Currents: [7.42165378e-07 7.78869237e-07 6.20904371e-09 7.22991088e-09\n",
      " 4.11274236e-09 9.83601121e-09 1.89692910e-09 3.97467011e-09\n",
      " 7.02342640e-10]\n",
      "Target: 1.0\n",
      "Accuracy: 0\n",
      "New Target Threshold:1.9166666666666667e-05\n",
      "Training \n",
      "\n",
      "\n",
      "Drain 3 Only\n"
     ]
    },
    {
     "data": {
      "application/vnd.jupyter.widget-view+json": {
       "model_id": "527a190caeca44ae95ef41a093e2be73",
       "version_major": 2,
       "version_minor": 0
      },
      "text/plain": [
       "Running Simulation :   0%|          | 0/200 [00:00<?, ?it/s]"
      ]
     },
     "metadata": {},
     "output_type": "display_data"
    },
    {
     "name": "stdout",
     "output_type": "stream",
     "text": [
      "Target: 1\n",
      "Currents: 0.0\n",
      "Training \n",
      "\n",
      "\n",
      "Drain 8 Only\n"
     ]
    },
    {
     "data": {
      "application/vnd.jupyter.widget-view+json": {
       "model_id": "81bed125e31c491cbce5d34817ff2b64",
       "version_major": 2,
       "version_minor": 0
      },
      "text/plain": [
       "Running Simulation :   0%|          | 0/200 [00:00<?, ?it/s]"
      ]
     },
     "metadata": {},
     "output_type": "display_data"
    },
    {
     "name": "stdout",
     "output_type": "stream",
     "text": [
      "Target: 1\n",
      "Currents: 0.0\n",
      "Training \n",
      "\n",
      "\n",
      "Drain 1 Only\n"
     ]
    },
    {
     "data": {
      "application/vnd.jupyter.widget-view+json": {
       "model_id": "5450218be89d4b3ca4f4ca2d07310d2f",
       "version_major": 2,
       "version_minor": 0
      },
      "text/plain": [
       "Running Simulation :   0%|          | 0/200 [00:00<?, ?it/s]"
      ]
     },
     "metadata": {},
     "output_type": "display_data"
    },
    {
     "name": "stdout",
     "output_type": "stream",
     "text": [
      "Target: 1\n",
      "Currents: 1.0007843318907038e-05\n",
      "Training \n",
      "\n",
      "\n",
      "Drain 4 Only\n"
     ]
    },
    {
     "data": {
      "application/vnd.jupyter.widget-view+json": {
       "model_id": "98b88851c70c48e9b014be52e4decd21",
       "version_major": 2,
       "version_minor": 0
      },
      "text/plain": [
       "Running Simulation :   0%|          | 0/200 [00:00<?, ?it/s]"
      ]
     },
     "metadata": {},
     "output_type": "display_data"
    },
    {
     "name": "stdout",
     "output_type": "stream",
     "text": [
      "Target: 1\n",
      "Currents: 0.0\n",
      "Training \n",
      "\n",
      "\n",
      "Drain 5 Only\n"
     ]
    },
    {
     "data": {
      "application/vnd.jupyter.widget-view+json": {
       "model_id": "f8921c9b7ecb477fb0f0fc2c57712c1c",
       "version_major": 2,
       "version_minor": 0
      },
      "text/plain": [
       "Running Simulation :   0%|          | 0/200 [00:00<?, ?it/s]"
      ]
     },
     "metadata": {},
     "output_type": "display_data"
    },
    {
     "name": "stdout",
     "output_type": "stream",
     "text": [
      "Target: 1\n",
      "Currents: 0.0\n",
      "Training \n",
      "\n",
      "\n",
      "Drain 9 Only\n"
     ]
    },
    {
     "data": {
      "application/vnd.jupyter.widget-view+json": {
       "model_id": "5cec88ced8ba4a7fb4e8fc8bd26d390b",
       "version_major": 2,
       "version_minor": 0
      },
      "text/plain": [
       "Running Simulation :   0%|          | 0/200 [00:00<?, ?it/s]"
      ]
     },
     "metadata": {},
     "output_type": "display_data"
    },
    {
     "name": "stdout",
     "output_type": "stream",
     "text": [
      "Target: 1\n",
      "Currents: 0.0\n",
      "Training \n",
      "\n",
      "\n",
      "Drain 7 Only\n"
     ]
    },
    {
     "data": {
      "application/vnd.jupyter.widget-view+json": {
       "model_id": "027eda0a70444561b1426984c047b270",
       "version_major": 2,
       "version_minor": 0
      },
      "text/plain": [
       "Running Simulation :   0%|          | 0/200 [00:00<?, ?it/s]"
      ]
     },
     "metadata": {},
     "output_type": "display_data"
    },
    {
     "name": "stdout",
     "output_type": "stream",
     "text": [
      "Target: 1\n",
      "Currents: 0.0\n",
      "Training \n",
      "\n",
      "\n",
      "Drain 2 Only\n"
     ]
    },
    {
     "data": {
      "application/vnd.jupyter.widget-view+json": {
       "model_id": "8c2d4bba83154b92a12c29227984f478",
       "version_major": 2,
       "version_minor": 0
      },
      "text/plain": [
       "Running Simulation :   0%|          | 0/200 [00:00<?, ?it/s]"
      ]
     },
     "metadata": {},
     "output_type": "display_data"
    },
    {
     "name": "stdout",
     "output_type": "stream",
     "text": [
      "Target: 1\n",
      "Currents: 0.0\n",
      "Training \n",
      "\n",
      "\n",
      "Drain 6 Only\n"
     ]
    },
    {
     "data": {
      "application/vnd.jupyter.widget-view+json": {
       "model_id": "247b432f9f54462bae454526a7d30eb3",
       "version_major": 2,
       "version_minor": 0
      },
      "text/plain": [
       "Running Simulation :   0%|          | 0/200 [00:00<?, ?it/s]"
      ]
     },
     "metadata": {},
     "output_type": "display_data"
    },
    {
     "name": "stdout",
     "output_type": "stream",
     "text": [
      "Target: 1\n",
      "Currents: 0.0\n",
      "\n",
      "All Drains\n"
     ]
    },
    {
     "data": {
      "application/vnd.jupyter.widget-view+json": {
       "model_id": "6d930884f982415f903ad8c7214ec8df",
       "version_major": 2,
       "version_minor": 0
      },
      "text/plain": [
       "Running Simulation :   0%|          | 0/200 [00:00<?, ?it/s]"
      ]
     },
     "metadata": {},
     "output_type": "display_data"
    },
    {
     "name": "stdout",
     "output_type": "stream",
     "text": [
      "Target: 1\n",
      "Currents: 4.858587321672403e-07\n",
      "Testing \n",
      "\n",
      "Currents: [4.85858732e-07 5.73139690e-07 5.44254086e-09 6.21424806e-09\n",
      " 3.50252053e-09 9.25540743e-09 2.02797270e-09 4.35425842e-09\n",
      " 7.69616435e-10]\n",
      "Target: 1.0\n",
      "Accuracy: 0\n",
      "New Target Threshold:2e-05\n",
      "Training \n",
      "\n",
      "\n",
      "Drain 5 Only\n"
     ]
    },
    {
     "data": {
      "application/vnd.jupyter.widget-view+json": {
       "model_id": "88fb35c8d6b442968139cf1e9d9e74d3",
       "version_major": 2,
       "version_minor": 0
      },
      "text/plain": [
       "Running Simulation :   0%|          | 0/200 [00:00<?, ?it/s]"
      ]
     },
     "metadata": {},
     "output_type": "display_data"
    },
    {
     "name": "stdout",
     "output_type": "stream",
     "text": [
      "Target: 1\n",
      "Currents: 0.0\n",
      "Training \n",
      "\n",
      "\n",
      "Drain 4 Only\n"
     ]
    },
    {
     "data": {
      "application/vnd.jupyter.widget-view+json": {
       "model_id": "0812e0249ca74e6d872bbb7c163adbd6",
       "version_major": 2,
       "version_minor": 0
      },
      "text/plain": [
       "Running Simulation :   0%|          | 0/200 [00:00<?, ?it/s]"
      ]
     },
     "metadata": {},
     "output_type": "display_data"
    },
    {
     "name": "stdout",
     "output_type": "stream",
     "text": [
      "Target: 1\n",
      "Currents: 0.0\n",
      "Training \n",
      "\n",
      "\n",
      "Drain 6 Only\n"
     ]
    },
    {
     "data": {
      "application/vnd.jupyter.widget-view+json": {
       "model_id": "6848e2c7929f476cb6fa1b1cf420f43c",
       "version_major": 2,
       "version_minor": 0
      },
      "text/plain": [
       "Running Simulation :   0%|          | 0/200 [00:00<?, ?it/s]"
      ]
     },
     "metadata": {},
     "output_type": "display_data"
    },
    {
     "name": "stdout",
     "output_type": "stream",
     "text": [
      "Target: 1\n",
      "Currents: 0.0\n",
      "Training \n",
      "\n",
      "\n",
      "Drain 8 Only\n"
     ]
    },
    {
     "data": {
      "application/vnd.jupyter.widget-view+json": {
       "model_id": "3fd65215ee7f40a9b5b8400e3c67b3df",
       "version_major": 2,
       "version_minor": 0
      },
      "text/plain": [
       "Running Simulation :   0%|          | 0/200 [00:00<?, ?it/s]"
      ]
     },
     "metadata": {},
     "output_type": "display_data"
    },
    {
     "name": "stdout",
     "output_type": "stream",
     "text": [
      "Target: 1\n",
      "Currents: 0.0\n",
      "Training \n",
      "\n",
      "\n",
      "Drain 1 Only\n"
     ]
    },
    {
     "data": {
      "application/vnd.jupyter.widget-view+json": {
       "model_id": "f4306c8f725347fcb23a6dbd82dd542f",
       "version_major": 2,
       "version_minor": 0
      },
      "text/plain": [
       "Running Simulation :   0%|          | 0/200 [00:00<?, ?it/s]"
      ]
     },
     "metadata": {},
     "output_type": "display_data"
    },
    {
     "name": "stdout",
     "output_type": "stream",
     "text": [
      "Target: 1\n",
      "Currents: 1.0016971562758168e-05\n",
      "Training \n",
      "\n",
      "\n",
      "Drain 3 Only\n"
     ]
    },
    {
     "data": {
      "application/vnd.jupyter.widget-view+json": {
       "model_id": "40f7eeb1c0334e1f80724d87de982ac1",
       "version_major": 2,
       "version_minor": 0
      },
      "text/plain": [
       "Running Simulation :   0%|          | 0/200 [00:00<?, ?it/s]"
      ]
     },
     "metadata": {},
     "output_type": "display_data"
    },
    {
     "name": "stdout",
     "output_type": "stream",
     "text": [
      "Target: 1\n",
      "Currents: 0.0\n",
      "Training \n",
      "\n",
      "\n",
      "Drain 9 Only\n"
     ]
    },
    {
     "data": {
      "application/vnd.jupyter.widget-view+json": {
       "model_id": "7d956967e9bd4ba681f41b134a3fc01e",
       "version_major": 2,
       "version_minor": 0
      },
      "text/plain": [
       "Running Simulation :   0%|          | 0/200 [00:00<?, ?it/s]"
      ]
     },
     "metadata": {},
     "output_type": "display_data"
    },
    {
     "name": "stdout",
     "output_type": "stream",
     "text": [
      "Target: 1\n",
      "Currents: 0.0\n",
      "Training \n",
      "\n",
      "\n",
      "Drain 7 Only\n"
     ]
    },
    {
     "data": {
      "application/vnd.jupyter.widget-view+json": {
       "model_id": "e0f1afa34de6495590762d386e45637e",
       "version_major": 2,
       "version_minor": 0
      },
      "text/plain": [
       "Running Simulation :   0%|          | 0/200 [00:00<?, ?it/s]"
      ]
     },
     "metadata": {},
     "output_type": "display_data"
    },
    {
     "name": "stdout",
     "output_type": "stream",
     "text": [
      "Target: 1\n",
      "Currents: 0.0\n",
      "Training \n",
      "\n",
      "\n",
      "Drain 2 Only\n"
     ]
    },
    {
     "data": {
      "application/vnd.jupyter.widget-view+json": {
       "model_id": "d7ccb212e6694ee4b200e60fb2bf719d",
       "version_major": 2,
       "version_minor": 0
      },
      "text/plain": [
       "Running Simulation :   0%|          | 0/200 [00:00<?, ?it/s]"
      ]
     },
     "metadata": {},
     "output_type": "display_data"
    },
    {
     "name": "stdout",
     "output_type": "stream",
     "text": [
      "Target: 1\n",
      "Currents: 0.0\n",
      "\n",
      "All Drains\n"
     ]
    },
    {
     "data": {
      "application/vnd.jupyter.widget-view+json": {
       "model_id": "773c391b1bf44c658b41d3ab14ff06c8",
       "version_major": 2,
       "version_minor": 0
      },
      "text/plain": [
       "Running Simulation :   0%|          | 0/200 [00:00<?, ?it/s]"
      ]
     },
     "metadata": {},
     "output_type": "display_data"
    },
    {
     "name": "stdout",
     "output_type": "stream",
     "text": [
      "Target: 1\n",
      "Currents: 6.428134996406976e-07\n",
      "Testing \n",
      "\n",
      "Currents: [6.42813500e-07 7.01446451e-07 6.01124398e-09 6.83160183e-09\n",
      " 3.85835051e-09 9.55308166e-09 1.94368909e-09 4.11225677e-09\n",
      " 7.26734449e-10]\n",
      "Target: 1.0\n",
      "Accuracy: 0\n",
      "New Target Threshold:2.0833333333333336e-05\n",
      "Training \n",
      "\n",
      "\n",
      "Drain 6 Only\n"
     ]
    },
    {
     "data": {
      "application/vnd.jupyter.widget-view+json": {
       "model_id": "aef09fc830aa47bbbad0cbd572f8b7a6",
       "version_major": 2,
       "version_minor": 0
      },
      "text/plain": [
       "Running Simulation :   0%|          | 0/200 [00:00<?, ?it/s]"
      ]
     },
     "metadata": {},
     "output_type": "display_data"
    },
    {
     "name": "stdout",
     "output_type": "stream",
     "text": [
      "Target: 1\n",
      "Currents: 0.0\n",
      "Training \n",
      "\n",
      "\n",
      "Drain 8 Only\n"
     ]
    },
    {
     "data": {
      "application/vnd.jupyter.widget-view+json": {
       "model_id": "8e9b9dfeb4c94ef8be9b9f1d441ca3cb",
       "version_major": 2,
       "version_minor": 0
      },
      "text/plain": [
       "Running Simulation :   0%|          | 0/200 [00:00<?, ?it/s]"
      ]
     },
     "metadata": {},
     "output_type": "display_data"
    },
    {
     "name": "stdout",
     "output_type": "stream",
     "text": [
      "Target: 1\n",
      "Currents: 0.0\n",
      "Training \n",
      "\n",
      "\n",
      "Drain 2 Only\n"
     ]
    },
    {
     "data": {
      "application/vnd.jupyter.widget-view+json": {
       "model_id": "c203aa6c462d4ab8a9ddee6937cec6fb",
       "version_major": 2,
       "version_minor": 0
      },
      "text/plain": [
       "Running Simulation :   0%|          | 0/200 [00:00<?, ?it/s]"
      ]
     },
     "metadata": {},
     "output_type": "display_data"
    },
    {
     "name": "stdout",
     "output_type": "stream",
     "text": [
      "Target: 1\n",
      "Currents: 0.0\n",
      "Training \n",
      "\n",
      "\n",
      "Drain 9 Only\n"
     ]
    },
    {
     "data": {
      "application/vnd.jupyter.widget-view+json": {
       "model_id": "0753ba85124543d299fde1b37e5213a2",
       "version_major": 2,
       "version_minor": 0
      },
      "text/plain": [
       "Running Simulation :   0%|          | 0/200 [00:00<?, ?it/s]"
      ]
     },
     "metadata": {},
     "output_type": "display_data"
    },
    {
     "name": "stdout",
     "output_type": "stream",
     "text": [
      "Target: 1\n",
      "Currents: 0.0\n",
      "Training \n",
      "\n",
      "\n",
      "Drain 3 Only\n"
     ]
    },
    {
     "data": {
      "application/vnd.jupyter.widget-view+json": {
       "model_id": "bee39f450e9746f3809fe57c63821d73",
       "version_major": 2,
       "version_minor": 0
      },
      "text/plain": [
       "Running Simulation :   0%|          | 0/200 [00:00<?, ?it/s]"
      ]
     },
     "metadata": {},
     "output_type": "display_data"
    },
    {
     "name": "stdout",
     "output_type": "stream",
     "text": [
      "Target: 1\n",
      "Currents: 0.0\n",
      "Training \n",
      "\n",
      "\n",
      "Drain 4 Only\n"
     ]
    },
    {
     "data": {
      "application/vnd.jupyter.widget-view+json": {
       "model_id": "aefe0e7e09324f509a69e3cb820b94ea",
       "version_major": 2,
       "version_minor": 0
      },
      "text/plain": [
       "Running Simulation :   0%|          | 0/200 [00:00<?, ?it/s]"
      ]
     },
     "metadata": {},
     "output_type": "display_data"
    },
    {
     "name": "stdout",
     "output_type": "stream",
     "text": [
      "Target: 1\n",
      "Currents: 0.0\n",
      "Training \n",
      "\n",
      "\n",
      "Drain 7 Only\n"
     ]
    },
    {
     "data": {
      "application/vnd.jupyter.widget-view+json": {
       "model_id": "16893deff72045c9a4e5237a089e3672",
       "version_major": 2,
       "version_minor": 0
      },
      "text/plain": [
       "Running Simulation :   0%|          | 0/200 [00:00<?, ?it/s]"
      ]
     },
     "metadata": {},
     "output_type": "display_data"
    },
    {
     "name": "stdout",
     "output_type": "stream",
     "text": [
      "Target: 1\n",
      "Currents: 0.0\n",
      "Training \n",
      "\n",
      "\n",
      "Drain 1 Only\n"
     ]
    },
    {
     "data": {
      "application/vnd.jupyter.widget-view+json": {
       "model_id": "9ce2106859ef49a88f3889560edc6d1f",
       "version_major": 2,
       "version_minor": 0
      },
      "text/plain": [
       "Running Simulation :   0%|          | 0/200 [00:00<?, ?it/s]"
      ]
     },
     "metadata": {},
     "output_type": "display_data"
    },
    {
     "name": "stdout",
     "output_type": "stream",
     "text": [
      "Target: 1\n",
      "Currents: 1.002462303865917e-05\n",
      "Training \n",
      "\n",
      "\n",
      "Drain 5 Only\n"
     ]
    },
    {
     "data": {
      "application/vnd.jupyter.widget-view+json": {
       "model_id": "27e8f34d37944cb3a3893a6af63a7c80",
       "version_major": 2,
       "version_minor": 0
      },
      "text/plain": [
       "Running Simulation :   0%|          | 0/200 [00:00<?, ?it/s]"
      ]
     },
     "metadata": {},
     "output_type": "display_data"
    },
    {
     "name": "stdout",
     "output_type": "stream",
     "text": [
      "Target: 1\n",
      "Currents: 0.0\n",
      "\n",
      "All Drains\n"
     ]
    },
    {
     "data": {
      "application/vnd.jupyter.widget-view+json": {
       "model_id": "4d3d3f3cf2944ff79695aa2f2bdcaa76",
       "version_major": 2,
       "version_minor": 0
      },
      "text/plain": [
       "Running Simulation :   0%|          | 0/200 [00:00<?, ?it/s]"
      ]
     },
     "metadata": {},
     "output_type": "display_data"
    },
    {
     "name": "stdout",
     "output_type": "stream",
     "text": [
      "Target: 1\n",
      "Currents: 7.774163276160947e-07\n",
      "Testing \n",
      "\n",
      "Currents: [7.77416328e-07 8.16610204e-07 6.34275694e-09 7.33635801e-09\n",
      " 4.16344504e-09 9.46226981e-09 1.84402331e-09 3.84143591e-09\n",
      " 6.78759492e-10]\n",
      "Target: 1.0\n",
      "Accuracy: 0\n",
      "New Target Threshold:2.166666666666667e-05\n",
      "Training \n",
      "\n",
      "\n",
      "Drain 7 Only\n"
     ]
    },
    {
     "data": {
      "application/vnd.jupyter.widget-view+json": {
       "model_id": "95a06ccfdd1c4b72a26e48489fed482f",
       "version_major": 2,
       "version_minor": 0
      },
      "text/plain": [
       "Running Simulation :   0%|          | 0/200 [00:00<?, ?it/s]"
      ]
     },
     "metadata": {},
     "output_type": "display_data"
    },
    {
     "name": "stdout",
     "output_type": "stream",
     "text": [
      "Target: 1\n",
      "Currents: 0.0\n",
      "Training \n",
      "\n",
      "\n",
      "Drain 9 Only\n"
     ]
    },
    {
     "data": {
      "application/vnd.jupyter.widget-view+json": {
       "model_id": "b7b6c32188e64a2ba95dc76d3319938f",
       "version_major": 2,
       "version_minor": 0
      },
      "text/plain": [
       "Running Simulation :   0%|          | 0/200 [00:00<?, ?it/s]"
      ]
     },
     "metadata": {},
     "output_type": "display_data"
    },
    {
     "name": "stdout",
     "output_type": "stream",
     "text": [
      "Target: 1\n",
      "Currents: 0.0\n",
      "Training \n",
      "\n",
      "\n",
      "Drain 4 Only\n"
     ]
    },
    {
     "data": {
      "application/vnd.jupyter.widget-view+json": {
       "model_id": "f472ffb7889a444a9d8062da74e5b6f1",
       "version_major": 2,
       "version_minor": 0
      },
      "text/plain": [
       "Running Simulation :   0%|          | 0/200 [00:00<?, ?it/s]"
      ]
     },
     "metadata": {},
     "output_type": "display_data"
    },
    {
     "name": "stdout",
     "output_type": "stream",
     "text": [
      "Target: 1\n",
      "Currents: 0.0\n",
      "Training \n",
      "\n",
      "\n",
      "Drain 8 Only\n"
     ]
    },
    {
     "data": {
      "application/vnd.jupyter.widget-view+json": {
       "model_id": "2d26be15b5c04a0088d2de21be077f33",
       "version_major": 2,
       "version_minor": 0
      },
      "text/plain": [
       "Running Simulation :   0%|          | 0/200 [00:00<?, ?it/s]"
      ]
     },
     "metadata": {},
     "output_type": "display_data"
    },
    {
     "name": "stdout",
     "output_type": "stream",
     "text": [
      "Target: 1\n",
      "Currents: 0.0\n",
      "Training \n",
      "\n",
      "\n",
      "Drain 1 Only\n"
     ]
    },
    {
     "data": {
      "application/vnd.jupyter.widget-view+json": {
       "model_id": "d8a0a82bd8cf41bc85c7400a761e88b1",
       "version_major": 2,
       "version_minor": 0
      },
      "text/plain": [
       "Running Simulation :   0%|          | 0/200 [00:00<?, ?it/s]"
      ]
     },
     "metadata": {},
     "output_type": "display_data"
    },
    {
     "name": "stdout",
     "output_type": "stream",
     "text": [
      "Target: 1\n",
      "Currents: 1.0009263514640129e-05\n",
      "Training \n",
      "\n",
      "\n",
      "Drain 5 Only\n"
     ]
    },
    {
     "data": {
      "application/vnd.jupyter.widget-view+json": {
       "model_id": "69add4ff78754a4bbb6570dd70af796c",
       "version_major": 2,
       "version_minor": 0
      },
      "text/plain": [
       "Running Simulation :   0%|          | 0/200 [00:00<?, ?it/s]"
      ]
     },
     "metadata": {},
     "output_type": "display_data"
    },
    {
     "name": "stdout",
     "output_type": "stream",
     "text": [
      "Target: 1\n",
      "Currents: 0.0\n",
      "Training \n",
      "\n",
      "\n",
      "Drain 3 Only\n"
     ]
    },
    {
     "data": {
      "application/vnd.jupyter.widget-view+json": {
       "model_id": "3e18579dec724cf3aa035efd5264079a",
       "version_major": 2,
       "version_minor": 0
      },
      "text/plain": [
       "Running Simulation :   0%|          | 0/200 [00:00<?, ?it/s]"
      ]
     },
     "metadata": {},
     "output_type": "display_data"
    },
    {
     "name": "stdout",
     "output_type": "stream",
     "text": [
      "Target: 1\n",
      "Currents: 0.0\n",
      "Training \n",
      "\n",
      "\n",
      "Drain 2 Only\n"
     ]
    },
    {
     "data": {
      "application/vnd.jupyter.widget-view+json": {
       "model_id": "0e3c697e037f4c3580d64a01daa91be2",
       "version_major": 2,
       "version_minor": 0
      },
      "text/plain": [
       "Running Simulation :   0%|          | 0/200 [00:00<?, ?it/s]"
      ]
     },
     "metadata": {},
     "output_type": "display_data"
    },
    {
     "name": "stdout",
     "output_type": "stream",
     "text": [
      "Target: 1\n",
      "Currents: 0.0\n",
      "Training \n",
      "\n",
      "\n",
      "Drain 6 Only\n"
     ]
    },
    {
     "data": {
      "application/vnd.jupyter.widget-view+json": {
       "model_id": "66a313c871784ca7aad4711a034ff4ca",
       "version_major": 2,
       "version_minor": 0
      },
      "text/plain": [
       "Running Simulation :   0%|          | 0/200 [00:00<?, ?it/s]"
      ]
     },
     "metadata": {},
     "output_type": "display_data"
    },
    {
     "name": "stdout",
     "output_type": "stream",
     "text": [
      "Target: 1\n",
      "Currents: 0.0\n",
      "\n",
      "All Drains\n"
     ]
    },
    {
     "data": {
      "application/vnd.jupyter.widget-view+json": {
       "model_id": "cf4f6e41af09460d8902c20cd619b952",
       "version_major": 2,
       "version_minor": 0
      },
      "text/plain": [
       "Running Simulation :   0%|          | 0/200 [00:00<?, ?it/s]"
      ]
     },
     "metadata": {},
     "output_type": "display_data"
    },
    {
     "name": "stdout",
     "output_type": "stream",
     "text": [
      "Target: 1\n",
      "Currents: 6.284136725563964e-07\n",
      "Testing \n",
      "\n",
      "Currents: [6.28413673e-07 6.81142285e-07 6.04470759e-09 6.98125100e-09\n",
      " 3.92488749e-09 9.64465771e-09 1.95630829e-09 4.13653113e-09\n",
      " 7.31013537e-10]\n",
      "Target: 1.0\n",
      "Accuracy: 0\n",
      "New Target Threshold:2.2500000000000005e-05\n",
      "Training \n",
      "\n",
      "\n",
      "Drain 9 Only\n"
     ]
    },
    {
     "data": {
      "application/vnd.jupyter.widget-view+json": {
       "model_id": "d29bd1d4ac664352b42831182545cb7c",
       "version_major": 2,
       "version_minor": 0
      },
      "text/plain": [
       "Running Simulation :   0%|          | 0/200 [00:00<?, ?it/s]"
      ]
     },
     "metadata": {},
     "output_type": "display_data"
    },
    {
     "name": "stdout",
     "output_type": "stream",
     "text": [
      "Target: 1\n",
      "Currents: 0.0\n",
      "Training \n",
      "\n",
      "\n",
      "Drain 5 Only\n"
     ]
    },
    {
     "data": {
      "application/vnd.jupyter.widget-view+json": {
       "model_id": "b06b1ce0164744e880dc17020a7ddeb7",
       "version_major": 2,
       "version_minor": 0
      },
      "text/plain": [
       "Running Simulation :   0%|          | 0/200 [00:00<?, ?it/s]"
      ]
     },
     "metadata": {},
     "output_type": "display_data"
    },
    {
     "name": "stdout",
     "output_type": "stream",
     "text": [
      "Target: 1\n",
      "Currents: 0.0\n",
      "Training \n",
      "\n",
      "\n",
      "Drain 4 Only\n"
     ]
    },
    {
     "data": {
      "application/vnd.jupyter.widget-view+json": {
       "model_id": "e1192e01b05a48a1be07e38d98a97032",
       "version_major": 2,
       "version_minor": 0
      },
      "text/plain": [
       "Running Simulation :   0%|          | 0/200 [00:00<?, ?it/s]"
      ]
     },
     "metadata": {},
     "output_type": "display_data"
    },
    {
     "name": "stdout",
     "output_type": "stream",
     "text": [
      "Target: 1\n",
      "Currents: 0.0\n",
      "Training \n",
      "\n",
      "\n",
      "Drain 3 Only\n"
     ]
    },
    {
     "data": {
      "application/vnd.jupyter.widget-view+json": {
       "model_id": "923f0610918e4cbd8f2d56995cd75fd3",
       "version_major": 2,
       "version_minor": 0
      },
      "text/plain": [
       "Running Simulation :   0%|          | 0/200 [00:00<?, ?it/s]"
      ]
     },
     "metadata": {},
     "output_type": "display_data"
    },
    {
     "name": "stdout",
     "output_type": "stream",
     "text": [
      "Target: 1\n",
      "Currents: 0.0\n",
      "Training \n",
      "\n",
      "\n",
      "Drain 1 Only\n"
     ]
    },
    {
     "data": {
      "application/vnd.jupyter.widget-view+json": {
       "model_id": "7605e74a2f4644d3acdaa6025be3ac54",
       "version_major": 2,
       "version_minor": 0
      },
      "text/plain": [
       "Running Simulation :   0%|          | 0/200 [00:00<?, ?it/s]"
      ]
     },
     "metadata": {},
     "output_type": "display_data"
    },
    {
     "name": "stdout",
     "output_type": "stream",
     "text": [
      "Target: 1\n",
      "Currents: 1.0013224542077202e-05\n",
      "Training \n",
      "\n",
      "\n",
      "Drain 2 Only\n"
     ]
    },
    {
     "data": {
      "application/vnd.jupyter.widget-view+json": {
       "model_id": "96d0b4d4bfbb4e08858aecf16ce6a394",
       "version_major": 2,
       "version_minor": 0
      },
      "text/plain": [
       "Running Simulation :   0%|          | 0/200 [00:00<?, ?it/s]"
      ]
     },
     "metadata": {},
     "output_type": "display_data"
    },
    {
     "name": "stdout",
     "output_type": "stream",
     "text": [
      "Target: 1\n",
      "Currents: 0.0\n",
      "Training \n",
      "\n",
      "\n",
      "Drain 7 Only\n"
     ]
    },
    {
     "data": {
      "application/vnd.jupyter.widget-view+json": {
       "model_id": "e646dbce94e84862b1121e928f8e3432",
       "version_major": 2,
       "version_minor": 0
      },
      "text/plain": [
       "Running Simulation :   0%|          | 0/200 [00:00<?, ?it/s]"
      ]
     },
     "metadata": {},
     "output_type": "display_data"
    },
    {
     "name": "stdout",
     "output_type": "stream",
     "text": [
      "Target: 1\n",
      "Currents: 0.0\n",
      "Training \n",
      "\n",
      "\n",
      "Drain 8 Only\n"
     ]
    },
    {
     "data": {
      "application/vnd.jupyter.widget-view+json": {
       "model_id": "996c6ccf041b49e187bc7a85b0852636",
       "version_major": 2,
       "version_minor": 0
      },
      "text/plain": [
       "Running Simulation :   0%|          | 0/200 [00:00<?, ?it/s]"
      ]
     },
     "metadata": {},
     "output_type": "display_data"
    },
    {
     "name": "stdout",
     "output_type": "stream",
     "text": [
      "Target: 1\n",
      "Currents: 0.0\n",
      "Training \n",
      "\n",
      "\n",
      "Drain 6 Only\n"
     ]
    },
    {
     "data": {
      "application/vnd.jupyter.widget-view+json": {
       "model_id": "d1f6cb93fcce4527a268de02186646ad",
       "version_major": 2,
       "version_minor": 0
      },
      "text/plain": [
       "Running Simulation :   0%|          | 0/200 [00:00<?, ?it/s]"
      ]
     },
     "metadata": {},
     "output_type": "display_data"
    },
    {
     "name": "stdout",
     "output_type": "stream",
     "text": [
      "Target: 1\n",
      "Currents: 0.0\n",
      "\n",
      "All Drains\n"
     ]
    },
    {
     "data": {
      "application/vnd.jupyter.widget-view+json": {
       "model_id": "1adf439176b24008876522b58c034e94",
       "version_major": 2,
       "version_minor": 0
      },
      "text/plain": [
       "Running Simulation :   0%|          | 0/200 [00:00<?, ?it/s]"
      ]
     },
     "metadata": {},
     "output_type": "display_data"
    },
    {
     "name": "stdout",
     "output_type": "stream",
     "text": [
      "Target: 1\n",
      "Currents: 6.327291554845089e-07\n",
      "Testing \n",
      "\n",
      "Currents: [6.32729155e-07 6.87477547e-07 6.05791253e-09 6.95532301e-09\n",
      " 3.90404966e-09 9.60165371e-09 1.95513552e-09 4.13673225e-09\n",
      " 7.31056673e-10]\n",
      "Target: 1.0\n",
      "Accuracy: 0\n",
      "New Target Threshold:2.333333333333334e-05\n",
      "Training \n",
      "\n",
      "\n",
      "Drain 9 Only\n"
     ]
    },
    {
     "data": {
      "application/vnd.jupyter.widget-view+json": {
       "model_id": "43fef8377ad4483c81351d603eaa6ca0",
       "version_major": 2,
       "version_minor": 0
      },
      "text/plain": [
       "Running Simulation :   0%|          | 0/200 [00:00<?, ?it/s]"
      ]
     },
     "metadata": {},
     "output_type": "display_data"
    },
    {
     "name": "stdout",
     "output_type": "stream",
     "text": [
      "Target: 1\n",
      "Currents: 0.0\n",
      "Training \n",
      "\n",
      "\n",
      "Drain 4 Only\n"
     ]
    },
    {
     "data": {
      "application/vnd.jupyter.widget-view+json": {
       "model_id": "1f16d778cd504e459f445a9f74c78bdb",
       "version_major": 2,
       "version_minor": 0
      },
      "text/plain": [
       "Running Simulation :   0%|          | 0/200 [00:00<?, ?it/s]"
      ]
     },
     "metadata": {},
     "output_type": "display_data"
    },
    {
     "name": "stdout",
     "output_type": "stream",
     "text": [
      "Target: 1\n",
      "Currents: 0.0\n",
      "Training \n",
      "\n",
      "\n",
      "Drain 6 Only\n"
     ]
    },
    {
     "data": {
      "application/vnd.jupyter.widget-view+json": {
       "model_id": "c0ce4a64bbad416d950fa583e3a69808",
       "version_major": 2,
       "version_minor": 0
      },
      "text/plain": [
       "Running Simulation :   0%|          | 0/200 [00:00<?, ?it/s]"
      ]
     },
     "metadata": {},
     "output_type": "display_data"
    },
    {
     "name": "stdout",
     "output_type": "stream",
     "text": [
      "Target: 1\n",
      "Currents: 0.0\n",
      "Training \n",
      "\n",
      "\n",
      "Drain 8 Only\n"
     ]
    },
    {
     "data": {
      "application/vnd.jupyter.widget-view+json": {
       "model_id": "6731a7b6061b4737a7b53a8e5818604a",
       "version_major": 2,
       "version_minor": 0
      },
      "text/plain": [
       "Running Simulation :   0%|          | 0/200 [00:00<?, ?it/s]"
      ]
     },
     "metadata": {},
     "output_type": "display_data"
    },
    {
     "name": "stdout",
     "output_type": "stream",
     "text": [
      "Target: 1\n",
      "Currents: 0.0\n",
      "Training \n",
      "\n",
      "\n",
      "Drain 5 Only\n"
     ]
    },
    {
     "data": {
      "application/vnd.jupyter.widget-view+json": {
       "model_id": "1540f899041048b4af67540a18ee4c32",
       "version_major": 2,
       "version_minor": 0
      },
      "text/plain": [
       "Running Simulation :   0%|          | 0/200 [00:00<?, ?it/s]"
      ]
     },
     "metadata": {},
     "output_type": "display_data"
    },
    {
     "name": "stdout",
     "output_type": "stream",
     "text": [
      "Target: 1\n",
      "Currents: 0.0\n",
      "Training \n",
      "\n",
      "\n",
      "Drain 1 Only\n"
     ]
    },
    {
     "data": {
      "application/vnd.jupyter.widget-view+json": {
       "model_id": "47889d7af501427eb99fb65b8a335199",
       "version_major": 2,
       "version_minor": 0
      },
      "text/plain": [
       "Running Simulation :   0%|          | 0/200 [00:00<?, ?it/s]"
      ]
     },
     "metadata": {},
     "output_type": "display_data"
    },
    {
     "name": "stdout",
     "output_type": "stream",
     "text": [
      "Target: 1\n",
      "Currents: 1.0016636630347979e-05\n",
      "Training \n",
      "\n",
      "\n",
      "Drain 2 Only\n"
     ]
    },
    {
     "data": {
      "application/vnd.jupyter.widget-view+json": {
       "model_id": "debf795c46a74bba97097eacc96bcba2",
       "version_major": 2,
       "version_minor": 0
      },
      "text/plain": [
       "Running Simulation :   0%|          | 0/200 [00:00<?, ?it/s]"
      ]
     },
     "metadata": {},
     "output_type": "display_data"
    },
    {
     "name": "stdout",
     "output_type": "stream",
     "text": [
      "Target: 1\n",
      "Currents: 0.0\n",
      "Training \n",
      "\n",
      "\n",
      "Drain 7 Only\n"
     ]
    },
    {
     "data": {
      "application/vnd.jupyter.widget-view+json": {
       "model_id": "8b23eb51c4024577a4ed99c887409966",
       "version_major": 2,
       "version_minor": 0
      },
      "text/plain": [
       "Running Simulation :   0%|          | 0/200 [00:00<?, ?it/s]"
      ]
     },
     "metadata": {},
     "output_type": "display_data"
    },
    {
     "name": "stdout",
     "output_type": "stream",
     "text": [
      "Target: 1\n",
      "Currents: 0.0\n",
      "Training \n",
      "\n",
      "\n",
      "Drain 3 Only\n"
     ]
    },
    {
     "data": {
      "application/vnd.jupyter.widget-view+json": {
       "model_id": "6bfa56d05e7e4e52b4088d1bcdf3931a",
       "version_major": 2,
       "version_minor": 0
      },
      "text/plain": [
       "Running Simulation :   0%|          | 0/200 [00:00<?, ?it/s]"
      ]
     },
     "metadata": {},
     "output_type": "display_data"
    },
    {
     "name": "stdout",
     "output_type": "stream",
     "text": [
      "Target: 1\n",
      "Currents: 0.0\n",
      "\n",
      "All Drains\n"
     ]
    },
    {
     "data": {
      "application/vnd.jupyter.widget-view+json": {
       "model_id": "12c377ba5cd94a57997714628de62ce8",
       "version_major": 2,
       "version_minor": 0
      },
      "text/plain": [
       "Running Simulation :   0%|          | 0/200 [00:00<?, ?it/s]"
      ]
     },
     "metadata": {},
     "output_type": "display_data"
    },
    {
     "name": "stdout",
     "output_type": "stream",
     "text": [
      "Target: 1\n",
      "Currents: 6.924426184079275e-07\n",
      "Testing \n",
      "\n",
      "Currents: [6.92442618e-07 7.47433127e-07 6.13532282e-09 7.08811438e-09\n",
      " 4.00986260e-09 9.72563930e-09 1.93305832e-09 4.07018482e-09\n",
      " 7.19253390e-10]\n",
      "Target: 1.0\n",
      "Accuracy: 0\n",
      "New Target Threshold:2.4166666666666674e-05\n",
      "Training \n",
      "\n",
      "\n",
      "Drain 3 Only\n"
     ]
    },
    {
     "data": {
      "application/vnd.jupyter.widget-view+json": {
       "model_id": "90de93efe51b47428fb3b1b0bd5920f2",
       "version_major": 2,
       "version_minor": 0
      },
      "text/plain": [
       "Running Simulation :   0%|          | 0/200 [00:00<?, ?it/s]"
      ]
     },
     "metadata": {},
     "output_type": "display_data"
    },
    {
     "name": "stdout",
     "output_type": "stream",
     "text": [
      "Target: 1\n",
      "Currents: 0.0\n",
      "Training \n",
      "\n",
      "\n",
      "Drain 4 Only\n"
     ]
    },
    {
     "data": {
      "application/vnd.jupyter.widget-view+json": {
       "model_id": "17d4712e05db48ceaac0d2dde4472cc2",
       "version_major": 2,
       "version_minor": 0
      },
      "text/plain": [
       "Running Simulation :   0%|          | 0/200 [00:00<?, ?it/s]"
      ]
     },
     "metadata": {},
     "output_type": "display_data"
    },
    {
     "name": "stdout",
     "output_type": "stream",
     "text": [
      "Target: 1\n",
      "Currents: 0.0\n",
      "Training \n",
      "\n",
      "\n",
      "Drain 2 Only\n"
     ]
    },
    {
     "data": {
      "application/vnd.jupyter.widget-view+json": {
       "model_id": "ebef8a5a0d9f46e99f9dd0479a141d82",
       "version_major": 2,
       "version_minor": 0
      },
      "text/plain": [
       "Running Simulation :   0%|          | 0/200 [00:00<?, ?it/s]"
      ]
     },
     "metadata": {},
     "output_type": "display_data"
    },
    {
     "name": "stdout",
     "output_type": "stream",
     "text": [
      "Target: 1\n",
      "Currents: 0.0\n",
      "Training \n",
      "\n",
      "\n",
      "Drain 8 Only\n"
     ]
    },
    {
     "data": {
      "application/vnd.jupyter.widget-view+json": {
       "model_id": "cf243b71dbec4081b60610b593e17e42",
       "version_major": 2,
       "version_minor": 0
      },
      "text/plain": [
       "Running Simulation :   0%|          | 0/200 [00:00<?, ?it/s]"
      ]
     },
     "metadata": {},
     "output_type": "display_data"
    },
    {
     "name": "stdout",
     "output_type": "stream",
     "text": [
      "Target: 1\n",
      "Currents: 0.0\n",
      "Training \n",
      "\n",
      "\n",
      "Drain 1 Only\n"
     ]
    },
    {
     "data": {
      "application/vnd.jupyter.widget-view+json": {
       "model_id": "799dd13c3fd849b49dd8569052d9b60b",
       "version_major": 2,
       "version_minor": 0
      },
      "text/plain": [
       "Running Simulation :   0%|          | 0/200 [00:00<?, ?it/s]"
      ]
     },
     "metadata": {},
     "output_type": "display_data"
    },
    {
     "name": "stdout",
     "output_type": "stream",
     "text": [
      "Target: 1\n",
      "Currents: 1.0015427570280481e-05\n",
      "Training \n",
      "\n",
      "\n",
      "Drain 9 Only\n"
     ]
    },
    {
     "data": {
      "application/vnd.jupyter.widget-view+json": {
       "model_id": "86fa903bcdc1482a957c7456b23fc3e6",
       "version_major": 2,
       "version_minor": 0
      },
      "text/plain": [
       "Running Simulation :   0%|          | 0/200 [00:00<?, ?it/s]"
      ]
     },
     "metadata": {},
     "output_type": "display_data"
    },
    {
     "name": "stdout",
     "output_type": "stream",
     "text": [
      "Target: 1\n",
      "Currents: 0.0\n",
      "Training \n",
      "\n",
      "\n",
      "Drain 5 Only\n"
     ]
    },
    {
     "data": {
      "application/vnd.jupyter.widget-view+json": {
       "model_id": "4d109425abe44c608be4350342d85e13",
       "version_major": 2,
       "version_minor": 0
      },
      "text/plain": [
       "Running Simulation :   0%|          | 0/200 [00:00<?, ?it/s]"
      ]
     },
     "metadata": {},
     "output_type": "display_data"
    },
    {
     "name": "stdout",
     "output_type": "stream",
     "text": [
      "Target: 1\n",
      "Currents: 0.0\n",
      "Training \n",
      "\n",
      "\n",
      "Drain 6 Only\n"
     ]
    },
    {
     "data": {
      "application/vnd.jupyter.widget-view+json": {
       "model_id": "3543717b8b4e4b26be52be24735652a8",
       "version_major": 2,
       "version_minor": 0
      },
      "text/plain": [
       "Running Simulation :   0%|          | 0/200 [00:00<?, ?it/s]"
      ]
     },
     "metadata": {},
     "output_type": "display_data"
    },
    {
     "name": "stdout",
     "output_type": "stream",
     "text": [
      "Target: 1\n",
      "Currents: 0.0\n",
      "Training \n",
      "\n",
      "\n",
      "Drain 7 Only\n"
     ]
    },
    {
     "data": {
      "application/vnd.jupyter.widget-view+json": {
       "model_id": "de79c461043a452080cd5f3c5526382c",
       "version_major": 2,
       "version_minor": 0
      },
      "text/plain": [
       "Running Simulation :   0%|          | 0/200 [00:00<?, ?it/s]"
      ]
     },
     "metadata": {},
     "output_type": "display_data"
    },
    {
     "name": "stdout",
     "output_type": "stream",
     "text": [
      "Target: 1\n",
      "Currents: 0.0\n",
      "\n",
      "All Drains\n"
     ]
    },
    {
     "data": {
      "application/vnd.jupyter.widget-view+json": {
       "model_id": "e9e9af9aad3947e9b3115a6c05a727c0",
       "version_major": 2,
       "version_minor": 0
      },
      "text/plain": [
       "Running Simulation :   0%|          | 0/200 [00:00<?, ?it/s]"
      ]
     },
     "metadata": {},
     "output_type": "display_data"
    },
    {
     "name": "stdout",
     "output_type": "stream",
     "text": [
      "Target: 1\n",
      "Currents: 6.344326678097311e-07\n",
      "Testing \n",
      "\n",
      "Currents: [6.34432668e-07 6.88671604e-07 6.05124326e-09 6.94508269e-09\n",
      " 3.89696239e-09 9.58030131e-09 1.95695466e-09 4.14170600e-09\n",
      " 7.31934907e-10]\n",
      "Target: 1.0\n",
      "Accuracy: 0\n",
      "New Target Threshold:2.5000000000000008e-05\n",
      "Training \n",
      "\n",
      "\n",
      "Drain 2 Only\n"
     ]
    },
    {
     "data": {
      "application/vnd.jupyter.widget-view+json": {
       "model_id": "d8a53891f37c48a3a500f8667f2cdb89",
       "version_major": 2,
       "version_minor": 0
      },
      "text/plain": [
       "Running Simulation :   0%|          | 0/200 [00:00<?, ?it/s]"
      ]
     },
     "metadata": {},
     "output_type": "display_data"
    },
    {
     "name": "stdout",
     "output_type": "stream",
     "text": [
      "Target: 1\n",
      "Currents: 0.0\n",
      "Training \n",
      "\n",
      "\n",
      "Drain 7 Only\n"
     ]
    },
    {
     "data": {
      "application/vnd.jupyter.widget-view+json": {
       "model_id": "277b1608a73745cf82bdc3cc3f2851de",
       "version_major": 2,
       "version_minor": 0
      },
      "text/plain": [
       "Running Simulation :   0%|          | 0/200 [00:00<?, ?it/s]"
      ]
     },
     "metadata": {},
     "output_type": "display_data"
    },
    {
     "name": "stdout",
     "output_type": "stream",
     "text": [
      "Target: 1\n",
      "Currents: 0.0\n",
      "Training \n",
      "\n",
      "\n",
      "Drain 5 Only\n"
     ]
    },
    {
     "data": {
      "application/vnd.jupyter.widget-view+json": {
       "model_id": "e891fc2d040646fa87a0d331e697ad68",
       "version_major": 2,
       "version_minor": 0
      },
      "text/plain": [
       "Running Simulation :   0%|          | 0/200 [00:00<?, ?it/s]"
      ]
     },
     "metadata": {},
     "output_type": "display_data"
    },
    {
     "name": "stdout",
     "output_type": "stream",
     "text": [
      "Target: 1\n",
      "Currents: 0.0\n",
      "Training \n",
      "\n",
      "\n",
      "Drain 1 Only\n"
     ]
    },
    {
     "data": {
      "application/vnd.jupyter.widget-view+json": {
       "model_id": "1c9f9ef8de2f42cc80ccfeae73874db3",
       "version_major": 2,
       "version_minor": 0
      },
      "text/plain": [
       "Running Simulation :   0%|          | 0/200 [00:00<?, ?it/s]"
      ]
     },
     "metadata": {},
     "output_type": "display_data"
    },
    {
     "name": "stdout",
     "output_type": "stream",
     "text": [
      "Target: 1\n",
      "Currents: 1.0013038643504997e-05\n",
      "Training \n",
      "\n",
      "\n",
      "Drain 3 Only\n"
     ]
    },
    {
     "data": {
      "application/vnd.jupyter.widget-view+json": {
       "model_id": "82ba17e8d41a44e78cfb1ebbf2d70674",
       "version_major": 2,
       "version_minor": 0
      },
      "text/plain": [
       "Running Simulation :   0%|          | 0/200 [00:00<?, ?it/s]"
      ]
     },
     "metadata": {},
     "output_type": "display_data"
    },
    {
     "name": "stdout",
     "output_type": "stream",
     "text": [
      "Target: 1\n",
      "Currents: 0.0\n",
      "Training \n",
      "\n",
      "\n",
      "Drain 6 Only\n"
     ]
    },
    {
     "data": {
      "application/vnd.jupyter.widget-view+json": {
       "model_id": "1c89357f87dd4f099881268306a77360",
       "version_major": 2,
       "version_minor": 0
      },
      "text/plain": [
       "Running Simulation :   0%|          | 0/200 [00:00<?, ?it/s]"
      ]
     },
     "metadata": {},
     "output_type": "display_data"
    },
    {
     "name": "stdout",
     "output_type": "stream",
     "text": [
      "Target: 1\n",
      "Currents: 0.0\n",
      "Training \n",
      "\n",
      "\n",
      "Drain 9 Only\n"
     ]
    },
    {
     "data": {
      "application/vnd.jupyter.widget-view+json": {
       "model_id": "0c958f7bb6484ed480a28fef9ecf7c89",
       "version_major": 2,
       "version_minor": 0
      },
      "text/plain": [
       "Running Simulation :   0%|          | 0/200 [00:00<?, ?it/s]"
      ]
     },
     "metadata": {},
     "output_type": "display_data"
    },
    {
     "name": "stdout",
     "output_type": "stream",
     "text": [
      "Target: 1\n",
      "Currents: 0.0\n",
      "Training \n",
      "\n",
      "\n",
      "Drain 4 Only\n"
     ]
    },
    {
     "data": {
      "application/vnd.jupyter.widget-view+json": {
       "model_id": "a53ee10edf324c40983ee0d3a17a903d",
       "version_major": 2,
       "version_minor": 0
      },
      "text/plain": [
       "Running Simulation :   0%|          | 0/200 [00:00<?, ?it/s]"
      ]
     },
     "metadata": {},
     "output_type": "display_data"
    },
    {
     "name": "stdout",
     "output_type": "stream",
     "text": [
      "Target: 1\n",
      "Currents: 0.0\n",
      "Training \n",
      "\n",
      "\n",
      "Drain 8 Only\n"
     ]
    },
    {
     "data": {
      "application/vnd.jupyter.widget-view+json": {
       "model_id": "dd1774d6d1994dc4a7f7137abe1bd175",
       "version_major": 2,
       "version_minor": 0
      },
      "text/plain": [
       "Running Simulation :   0%|          | 0/200 [00:00<?, ?it/s]"
      ]
     },
     "metadata": {},
     "output_type": "display_data"
    },
    {
     "name": "stdout",
     "output_type": "stream",
     "text": [
      "Target: 1\n",
      "Currents: 0.0\n",
      "\n",
      "All Drains\n"
     ]
    },
    {
     "data": {
      "application/vnd.jupyter.widget-view+json": {
       "model_id": "24861f57b1764ebfb4a1baf647e9883b",
       "version_major": 2,
       "version_minor": 0
      },
      "text/plain": [
       "Running Simulation :   0%|          | 0/200 [00:00<?, ?it/s]"
      ]
     },
     "metadata": {},
     "output_type": "display_data"
    },
    {
     "name": "stdout",
     "output_type": "stream",
     "text": [
      "Target: 1\n",
      "Currents: 5.864292326596361e-07\n",
      "Testing \n",
      "\n",
      "Currents: [5.86429233e-07 6.29636513e-07 5.76572523e-09 6.69252365e-09\n",
      " 3.73768642e-09 9.49004401e-09 2.00880362e-09 4.28600264e-09\n",
      " 7.57496993e-10]\n",
      "Target: 1.0\n",
      "Accuracy: 0\n",
      "New Target Threshold:2.5833333333333342e-05\n",
      "Training \n",
      "\n",
      "\n",
      "Drain 1 Only\n"
     ]
    },
    {
     "data": {
      "application/vnd.jupyter.widget-view+json": {
       "model_id": "4f92ef270cb64f46acc6985216764226",
       "version_major": 2,
       "version_minor": 0
      },
      "text/plain": [
       "Running Simulation :   0%|          | 0/200 [00:00<?, ?it/s]"
      ]
     },
     "metadata": {},
     "output_type": "display_data"
    },
    {
     "name": "stdout",
     "output_type": "stream",
     "text": [
      "Target: 1\n",
      "Currents: 1.0017097594860622e-05\n",
      "Training \n",
      "\n",
      "\n",
      "Drain 3 Only\n"
     ]
    },
    {
     "data": {
      "application/vnd.jupyter.widget-view+json": {
       "model_id": "143deeb12b4d480687c2dcb7b39923ff",
       "version_major": 2,
       "version_minor": 0
      },
      "text/plain": [
       "Running Simulation :   0%|          | 0/200 [00:00<?, ?it/s]"
      ]
     },
     "metadata": {},
     "output_type": "display_data"
    },
    {
     "name": "stdout",
     "output_type": "stream",
     "text": [
      "Target: 1\n",
      "Currents: 0.0\n",
      "Training \n",
      "\n",
      "\n",
      "Drain 5 Only\n"
     ]
    },
    {
     "data": {
      "application/vnd.jupyter.widget-view+json": {
       "model_id": "a2c33abd20154641a2049b1fc087da0a",
       "version_major": 2,
       "version_minor": 0
      },
      "text/plain": [
       "Running Simulation :   0%|          | 0/200 [00:00<?, ?it/s]"
      ]
     },
     "metadata": {},
     "output_type": "display_data"
    },
    {
     "name": "stdout",
     "output_type": "stream",
     "text": [
      "Target: 1\n",
      "Currents: 0.0\n",
      "Training \n",
      "\n",
      "\n",
      "Drain 2 Only\n"
     ]
    },
    {
     "data": {
      "application/vnd.jupyter.widget-view+json": {
       "model_id": "9170462715fe4bc3b4816d9b13710306",
       "version_major": 2,
       "version_minor": 0
      },
      "text/plain": [
       "Running Simulation :   0%|          | 0/200 [00:00<?, ?it/s]"
      ]
     },
     "metadata": {},
     "output_type": "display_data"
    },
    {
     "name": "stdout",
     "output_type": "stream",
     "text": [
      "Target: 1\n",
      "Currents: 0.0\n",
      "Training \n",
      "\n",
      "\n",
      "Drain 4 Only\n"
     ]
    },
    {
     "data": {
      "application/vnd.jupyter.widget-view+json": {
       "model_id": "6a7fb016b7454de3b137235dafff247c",
       "version_major": 2,
       "version_minor": 0
      },
      "text/plain": [
       "Running Simulation :   0%|          | 0/200 [00:00<?, ?it/s]"
      ]
     },
     "metadata": {},
     "output_type": "display_data"
    },
    {
     "name": "stdout",
     "output_type": "stream",
     "text": [
      "Target: 1\n",
      "Currents: 0.0\n",
      "Training \n",
      "\n",
      "\n",
      "Drain 6 Only\n"
     ]
    },
    {
     "data": {
      "application/vnd.jupyter.widget-view+json": {
       "model_id": "484a517ed73d465ba7bf3b5bcd58e30e",
       "version_major": 2,
       "version_minor": 0
      },
      "text/plain": [
       "Running Simulation :   0%|          | 0/200 [00:00<?, ?it/s]"
      ]
     },
     "metadata": {},
     "output_type": "display_data"
    },
    {
     "name": "stdout",
     "output_type": "stream",
     "text": [
      "Target: 1\n",
      "Currents: 0.0\n",
      "Training \n",
      "\n",
      "\n",
      "Drain 9 Only\n"
     ]
    },
    {
     "data": {
      "application/vnd.jupyter.widget-view+json": {
       "model_id": "02a533e607b1465bad49a980d663f6a8",
       "version_major": 2,
       "version_minor": 0
      },
      "text/plain": [
       "Running Simulation :   0%|          | 0/200 [00:00<?, ?it/s]"
      ]
     },
     "metadata": {},
     "output_type": "display_data"
    },
    {
     "name": "stdout",
     "output_type": "stream",
     "text": [
      "Target: 1\n",
      "Currents: 0.0\n",
      "Training \n",
      "\n",
      "\n",
      "Drain 7 Only\n"
     ]
    },
    {
     "data": {
      "application/vnd.jupyter.widget-view+json": {
       "model_id": "e7ee9ee7bc1b44f8afbe28029e726c86",
       "version_major": 2,
       "version_minor": 0
      },
      "text/plain": [
       "Running Simulation :   0%|          | 0/200 [00:00<?, ?it/s]"
      ]
     },
     "metadata": {},
     "output_type": "display_data"
    },
    {
     "name": "stdout",
     "output_type": "stream",
     "text": [
      "Target: 1\n",
      "Currents: 0.0\n",
      "Training \n",
      "\n",
      "\n",
      "Drain 8 Only\n"
     ]
    },
    {
     "data": {
      "application/vnd.jupyter.widget-view+json": {
       "model_id": "0be2438827c34eb7b86685124ac074bf",
       "version_major": 2,
       "version_minor": 0
      },
      "text/plain": [
       "Running Simulation :   0%|          | 0/200 [00:00<?, ?it/s]"
      ]
     },
     "metadata": {},
     "output_type": "display_data"
    },
    {
     "name": "stdout",
     "output_type": "stream",
     "text": [
      "Target: 1\n",
      "Currents: 0.0\n",
      "\n",
      "All Drains\n"
     ]
    },
    {
     "data": {
      "application/vnd.jupyter.widget-view+json": {
       "model_id": "c83fa095ecbc451383e1117e2fc1c809",
       "version_major": 2,
       "version_minor": 0
      },
      "text/plain": [
       "Running Simulation :   0%|          | 0/200 [00:00<?, ?it/s]"
      ]
     },
     "metadata": {},
     "output_type": "display_data"
    },
    {
     "name": "stdout",
     "output_type": "stream",
     "text": [
      "Target: 1\n",
      "Currents: 3.6437028500089066e-07\n",
      "Testing \n",
      "\n",
      "Currents: [3.64370285e-07 4.26482827e-07 4.10115534e-09 4.89379751e-09\n",
      " 2.83170510e-09 9.06077367e-09 2.23087416e-09 4.90953590e-09\n",
      " 8.67954789e-10]\n",
      "Target: 1.0\n",
      "Accuracy: 0\n",
      "New Target Threshold:2.6666666666666677e-05\n",
      "Training \n",
      "\n",
      "\n",
      "Drain 5 Only\n"
     ]
    },
    {
     "data": {
      "application/vnd.jupyter.widget-view+json": {
       "model_id": "47a7f26b729a4c929698a6ab8fe94fb9",
       "version_major": 2,
       "version_minor": 0
      },
      "text/plain": [
       "Running Simulation :   0%|          | 0/200 [00:00<?, ?it/s]"
      ]
     },
     "metadata": {},
     "output_type": "display_data"
    },
    {
     "name": "stdout",
     "output_type": "stream",
     "text": [
      "Target: 1\n",
      "Currents: 0.0\n",
      "Training \n",
      "\n",
      "\n",
      "Drain 2 Only\n"
     ]
    },
    {
     "data": {
      "application/vnd.jupyter.widget-view+json": {
       "model_id": "91083a1110bc4f86b4616ef387bae26f",
       "version_major": 2,
       "version_minor": 0
      },
      "text/plain": [
       "Running Simulation :   0%|          | 0/200 [00:00<?, ?it/s]"
      ]
     },
     "metadata": {},
     "output_type": "display_data"
    },
    {
     "name": "stdout",
     "output_type": "stream",
     "text": [
      "Target: 1\n",
      "Currents: 0.0\n",
      "Training \n",
      "\n",
      "\n",
      "Drain 4 Only\n"
     ]
    },
    {
     "data": {
      "application/vnd.jupyter.widget-view+json": {
       "model_id": "d4863ef3285846d2bef6ee250f1225a5",
       "version_major": 2,
       "version_minor": 0
      },
      "text/plain": [
       "Running Simulation :   0%|          | 0/200 [00:00<?, ?it/s]"
      ]
     },
     "metadata": {},
     "output_type": "display_data"
    },
    {
     "name": "stdout",
     "output_type": "stream",
     "text": [
      "Target: 1\n",
      "Currents: 0.0\n",
      "Training \n",
      "\n",
      "\n",
      "Drain 3 Only\n"
     ]
    },
    {
     "data": {
      "application/vnd.jupyter.widget-view+json": {
       "model_id": "afab9d9b5c474be39d7d1b20ccc22cdf",
       "version_major": 2,
       "version_minor": 0
      },
      "text/plain": [
       "Running Simulation :   0%|          | 0/200 [00:00<?, ?it/s]"
      ]
     },
     "metadata": {},
     "output_type": "display_data"
    },
    {
     "name": "stdout",
     "output_type": "stream",
     "text": [
      "Target: 1\n",
      "Currents: 0.0\n",
      "Training \n",
      "\n",
      "\n",
      "Drain 7 Only\n"
     ]
    },
    {
     "data": {
      "application/vnd.jupyter.widget-view+json": {
       "model_id": "111c6a9fd9924b94834c18e17ce1d65d",
       "version_major": 2,
       "version_minor": 0
      },
      "text/plain": [
       "Running Simulation :   0%|          | 0/200 [00:00<?, ?it/s]"
      ]
     },
     "metadata": {},
     "output_type": "display_data"
    },
    {
     "name": "stdout",
     "output_type": "stream",
     "text": [
      "Target: 1\n",
      "Currents: 0.0\n",
      "Training \n",
      "\n",
      "\n",
      "Drain 1 Only\n"
     ]
    },
    {
     "data": {
      "application/vnd.jupyter.widget-view+json": {
       "model_id": "022b9998a6c8428a8e02c23f7efe459e",
       "version_major": 2,
       "version_minor": 0
      },
      "text/plain": [
       "Running Simulation :   0%|          | 0/200 [00:00<?, ?it/s]"
      ]
     },
     "metadata": {},
     "output_type": "display_data"
    },
    {
     "name": "stdout",
     "output_type": "stream",
     "text": [
      "Target: 1\n",
      "Currents: 1.0041085857162521e-05\n",
      "Training \n",
      "\n",
      "\n",
      "Drain 8 Only\n"
     ]
    },
    {
     "data": {
      "application/vnd.jupyter.widget-view+json": {
       "model_id": "7f61bff7d57c4a25958f2f6618667118",
       "version_major": 2,
       "version_minor": 0
      },
      "text/plain": [
       "Running Simulation :   0%|          | 0/200 [00:00<?, ?it/s]"
      ]
     },
     "metadata": {},
     "output_type": "display_data"
    },
    {
     "name": "stdout",
     "output_type": "stream",
     "text": [
      "Target: 1\n",
      "Currents: 0.0\n",
      "Training \n",
      "\n",
      "\n",
      "Drain 6 Only\n"
     ]
    },
    {
     "data": {
      "application/vnd.jupyter.widget-view+json": {
       "model_id": "79d0cc200b174d4290e4a0f25eb5e018",
       "version_major": 2,
       "version_minor": 0
      },
      "text/plain": [
       "Running Simulation :   0%|          | 0/200 [00:00<?, ?it/s]"
      ]
     },
     "metadata": {},
     "output_type": "display_data"
    },
    {
     "name": "stdout",
     "output_type": "stream",
     "text": [
      "Target: 1\n",
      "Currents: 0.0\n",
      "Training \n",
      "\n",
      "\n",
      "Drain 9 Only\n"
     ]
    },
    {
     "data": {
      "application/vnd.jupyter.widget-view+json": {
       "model_id": "1912a79cc70e402ab5ece2fd0437f1ca",
       "version_major": 2,
       "version_minor": 0
      },
      "text/plain": [
       "Running Simulation :   0%|          | 0/200 [00:00<?, ?it/s]"
      ]
     },
     "metadata": {},
     "output_type": "display_data"
    },
    {
     "name": "stdout",
     "output_type": "stream",
     "text": [
      "Target: 1\n",
      "Currents: 0.0\n",
      "\n",
      "All Drains\n"
     ]
    },
    {
     "data": {
      "application/vnd.jupyter.widget-view+json": {
       "model_id": "2ba9908b25c34e4f896581a0d0db81fe",
       "version_major": 2,
       "version_minor": 0
      },
      "text/plain": [
       "Running Simulation :   0%|          | 0/200 [00:00<?, ?it/s]"
      ]
     },
     "metadata": {},
     "output_type": "display_data"
    },
    {
     "name": "stdout",
     "output_type": "stream",
     "text": [
      "Target: 1\n",
      "Currents: 6.947532390463566e-07\n",
      "Testing \n",
      "\n",
      "Currents: [6.94753239e-07 7.54957938e-07 6.10653430e-09 7.06201380e-09\n",
      " 3.99656889e-09 9.78546890e-09 1.93218162e-09 4.07233428e-09\n",
      " 7.19645078e-10]\n",
      "Target: 1.0\n",
      "Accuracy: 0\n",
      "New Target Threshold:2.750000000000001e-05\n",
      "Training \n",
      "\n",
      "\n",
      "Drain 3 Only\n"
     ]
    },
    {
     "data": {
      "application/vnd.jupyter.widget-view+json": {
       "model_id": "91f936c08fc4467c881730b943107de2",
       "version_major": 2,
       "version_minor": 0
      },
      "text/plain": [
       "Running Simulation :   0%|          | 0/200 [00:00<?, ?it/s]"
      ]
     },
     "metadata": {},
     "output_type": "display_data"
    },
    {
     "name": "stdout",
     "output_type": "stream",
     "text": [
      "Target: 1\n",
      "Currents: 0.0\n",
      "Training \n",
      "\n",
      "\n",
      "Drain 9 Only\n"
     ]
    },
    {
     "data": {
      "application/vnd.jupyter.widget-view+json": {
       "model_id": "cbc6524b88024a92a4a6d1dd9a6ca0d9",
       "version_major": 2,
       "version_minor": 0
      },
      "text/plain": [
       "Running Simulation :   0%|          | 0/200 [00:00<?, ?it/s]"
      ]
     },
     "metadata": {},
     "output_type": "display_data"
    },
    {
     "name": "stdout",
     "output_type": "stream",
     "text": [
      "Target: 1\n",
      "Currents: 0.0\n",
      "Training \n",
      "\n",
      "\n",
      "Drain 7 Only\n"
     ]
    },
    {
     "data": {
      "application/vnd.jupyter.widget-view+json": {
       "model_id": "9c5d33ddf0c54d3ab8e5a9df65cde79c",
       "version_major": 2,
       "version_minor": 0
      },
      "text/plain": [
       "Running Simulation :   0%|          | 0/200 [00:00<?, ?it/s]"
      ]
     },
     "metadata": {},
     "output_type": "display_data"
    },
    {
     "name": "stdout",
     "output_type": "stream",
     "text": [
      "Target: 1\n",
      "Currents: 0.0\n",
      "Training \n",
      "\n",
      "\n",
      "Drain 8 Only\n"
     ]
    },
    {
     "data": {
      "application/vnd.jupyter.widget-view+json": {
       "model_id": "7cc46157d73c43f3a20d273a3d68b4e6",
       "version_major": 2,
       "version_minor": 0
      },
      "text/plain": [
       "Running Simulation :   0%|          | 0/200 [00:00<?, ?it/s]"
      ]
     },
     "metadata": {},
     "output_type": "display_data"
    },
    {
     "name": "stdout",
     "output_type": "stream",
     "text": [
      "Target: 1\n",
      "Currents: 0.0\n",
      "Training \n",
      "\n",
      "\n",
      "Drain 5 Only\n"
     ]
    },
    {
     "data": {
      "application/vnd.jupyter.widget-view+json": {
       "model_id": "ed03302e53974f4dbdcd2baf18f2e968",
       "version_major": 2,
       "version_minor": 0
      },
      "text/plain": [
       "Running Simulation :   0%|          | 0/200 [00:00<?, ?it/s]"
      ]
     },
     "metadata": {},
     "output_type": "display_data"
    },
    {
     "name": "stdout",
     "output_type": "stream",
     "text": [
      "Target: 1\n",
      "Currents: 0.0\n",
      "Training \n",
      "\n",
      "\n",
      "Drain 2 Only\n"
     ]
    },
    {
     "data": {
      "application/vnd.jupyter.widget-view+json": {
       "model_id": "9e0197aa3e4149319c56ad37c4298666",
       "version_major": 2,
       "version_minor": 0
      },
      "text/plain": [
       "Running Simulation :   0%|          | 0/200 [00:00<?, ?it/s]"
      ]
     },
     "metadata": {},
     "output_type": "display_data"
    },
    {
     "name": "stdout",
     "output_type": "stream",
     "text": [
      "Target: 1\n",
      "Currents: 0.0\n",
      "Training \n",
      "\n",
      "\n",
      "Drain 1 Only\n"
     ]
    },
    {
     "data": {
      "application/vnd.jupyter.widget-view+json": {
       "model_id": "cdad19bee2204b0e9d339013dac9661e",
       "version_major": 2,
       "version_minor": 0
      },
      "text/plain": [
       "Running Simulation :   0%|          | 0/200 [00:00<?, ?it/s]"
      ]
     },
     "metadata": {},
     "output_type": "display_data"
    },
    {
     "name": "stdout",
     "output_type": "stream",
     "text": [
      "Target: 1\n",
      "Currents: 1.0033936243094484e-05\n",
      "Training \n",
      "\n",
      "\n",
      "Drain 6 Only\n"
     ]
    },
    {
     "data": {
      "application/vnd.jupyter.widget-view+json": {
       "model_id": "aafbcb3c23ea42ce935cc4fca74eebc8",
       "version_major": 2,
       "version_minor": 0
      },
      "text/plain": [
       "Running Simulation :   0%|          | 0/200 [00:00<?, ?it/s]"
      ]
     },
     "metadata": {},
     "output_type": "display_data"
    },
    {
     "name": "stdout",
     "output_type": "stream",
     "text": [
      "Target: 1\n",
      "Currents: 0.0\n",
      "Training \n",
      "\n",
      "\n",
      "Drain 4 Only\n"
     ]
    },
    {
     "data": {
      "application/vnd.jupyter.widget-view+json": {
       "model_id": "41bc07dd897740e3b258d45719ad1d7d",
       "version_major": 2,
       "version_minor": 0
      },
      "text/plain": [
       "Running Simulation :   0%|          | 0/200 [00:00<?, ?it/s]"
      ]
     },
     "metadata": {},
     "output_type": "display_data"
    },
    {
     "name": "stdout",
     "output_type": "stream",
     "text": [
      "Target: 1\n",
      "Currents: 0.0\n",
      "\n",
      "All Drains\n"
     ]
    },
    {
     "data": {
      "application/vnd.jupyter.widget-view+json": {
       "model_id": "2ff80d18f5854125aabe6f92f3f722b5",
       "version_major": 2,
       "version_minor": 0
      },
      "text/plain": [
       "Running Simulation :   0%|          | 0/200 [00:00<?, ?it/s]"
      ]
     },
     "metadata": {},
     "output_type": "display_data"
    },
    {
     "name": "stdout",
     "output_type": "stream",
     "text": [
      "Target: 1\n",
      "Currents: 7.393495462508977e-07\n",
      "Testing \n",
      "\n",
      "Currents: [7.39349546e-07 7.87973899e-07 6.22081483e-09 7.29731404e-09\n",
      " 4.14304807e-09 9.78062080e-09 1.91329268e-09 4.00728415e-09\n",
      " 7.08091888e-10]\n",
      "Target: 1.0\n",
      "Accuracy: 0\n",
      "New Target Threshold:2.8333333333333346e-05\n",
      "Training \n",
      "\n",
      "\n",
      "Drain 1 Only\n"
     ]
    },
    {
     "data": {
      "application/vnd.jupyter.widget-view+json": {
       "model_id": "92fff53725374275a6fcaa8e3a7e6c72",
       "version_major": 2,
       "version_minor": 0
      },
      "text/plain": [
       "Running Simulation :   0%|          | 0/200 [00:00<?, ?it/s]"
      ]
     },
     "metadata": {},
     "output_type": "display_data"
    },
    {
     "name": "stdout",
     "output_type": "stream",
     "text": [
      "Target: 1\n",
      "Currents: 1.0004146874592066e-05\n",
      "Training \n",
      "\n",
      "\n",
      "Drain 5 Only\n"
     ]
    },
    {
     "data": {
      "application/vnd.jupyter.widget-view+json": {
       "model_id": "a9aec27bc4974020a13d8b9a0f8a9892",
       "version_major": 2,
       "version_minor": 0
      },
      "text/plain": [
       "Running Simulation :   0%|          | 0/200 [00:00<?, ?it/s]"
      ]
     },
     "metadata": {},
     "output_type": "display_data"
    },
    {
     "name": "stdout",
     "output_type": "stream",
     "text": [
      "Target: 1\n",
      "Currents: 0.0\n",
      "Training \n",
      "\n",
      "\n",
      "Drain 4 Only\n"
     ]
    },
    {
     "data": {
      "application/vnd.jupyter.widget-view+json": {
       "model_id": "150ebffb339b4236bc7152d4a3034b5a",
       "version_major": 2,
       "version_minor": 0
      },
      "text/plain": [
       "Running Simulation :   0%|          | 0/200 [00:00<?, ?it/s]"
      ]
     },
     "metadata": {},
     "output_type": "display_data"
    },
    {
     "name": "stdout",
     "output_type": "stream",
     "text": [
      "Target: 1\n",
      "Currents: 0.0\n",
      "Training \n",
      "\n",
      "\n",
      "Drain 3 Only\n"
     ]
    },
    {
     "data": {
      "application/vnd.jupyter.widget-view+json": {
       "model_id": "b27afb730c5d406c9004e1bc01fa0f18",
       "version_major": 2,
       "version_minor": 0
      },
      "text/plain": [
       "Running Simulation :   0%|          | 0/200 [00:00<?, ?it/s]"
      ]
     },
     "metadata": {},
     "output_type": "display_data"
    },
    {
     "name": "stdout",
     "output_type": "stream",
     "text": [
      "Target: 1\n",
      "Currents: 0.0\n",
      "Training \n",
      "\n",
      "\n",
      "Drain 7 Only\n"
     ]
    },
    {
     "data": {
      "application/vnd.jupyter.widget-view+json": {
       "model_id": "e2ae8ecdb11a4534a7562df85630fb51",
       "version_major": 2,
       "version_minor": 0
      },
      "text/plain": [
       "Running Simulation :   0%|          | 0/200 [00:00<?, ?it/s]"
      ]
     },
     "metadata": {},
     "output_type": "display_data"
    },
    {
     "name": "stdout",
     "output_type": "stream",
     "text": [
      "Target: 1\n",
      "Currents: 0.0\n",
      "Training \n",
      "\n",
      "\n",
      "Drain 9 Only\n"
     ]
    },
    {
     "data": {
      "application/vnd.jupyter.widget-view+json": {
       "model_id": "8bb97772a50f4bc38679c6df02cf39d1",
       "version_major": 2,
       "version_minor": 0
      },
      "text/plain": [
       "Running Simulation :   0%|          | 0/200 [00:00<?, ?it/s]"
      ]
     },
     "metadata": {},
     "output_type": "display_data"
    },
    {
     "name": "stdout",
     "output_type": "stream",
     "text": [
      "Target: 1\n",
      "Currents: 0.0\n",
      "Training \n",
      "\n",
      "\n",
      "Drain 2 Only\n"
     ]
    },
    {
     "data": {
      "application/vnd.jupyter.widget-view+json": {
       "model_id": "476a2decd5234071a478ed8a688bf54c",
       "version_major": 2,
       "version_minor": 0
      },
      "text/plain": [
       "Running Simulation :   0%|          | 0/200 [00:00<?, ?it/s]"
      ]
     },
     "metadata": {},
     "output_type": "display_data"
    },
    {
     "name": "stdout",
     "output_type": "stream",
     "text": [
      "Target: 1\n",
      "Currents: 0.0\n",
      "Training \n",
      "\n",
      "\n",
      "Drain 8 Only\n"
     ]
    },
    {
     "data": {
      "application/vnd.jupyter.widget-view+json": {
       "model_id": "0a470aaf7287459781ecb0fe2f618d7d",
       "version_major": 2,
       "version_minor": 0
      },
      "text/plain": [
       "Running Simulation :   0%|          | 0/200 [00:00<?, ?it/s]"
      ]
     },
     "metadata": {},
     "output_type": "display_data"
    },
    {
     "name": "stdout",
     "output_type": "stream",
     "text": [
      "Target: 1\n",
      "Currents: 0.0\n",
      "Training \n",
      "\n",
      "\n",
      "Drain 6 Only\n"
     ]
    },
    {
     "data": {
      "application/vnd.jupyter.widget-view+json": {
       "model_id": "096c271ccb8d424a8a53db6da847ecaa",
       "version_major": 2,
       "version_minor": 0
      },
      "text/plain": [
       "Running Simulation :   0%|          | 0/200 [00:00<?, ?it/s]"
      ]
     },
     "metadata": {},
     "output_type": "display_data"
    },
    {
     "name": "stdout",
     "output_type": "stream",
     "text": [
      "Target: 1\n",
      "Currents: 0.0\n",
      "\n",
      "All Drains\n"
     ]
    },
    {
     "data": {
      "application/vnd.jupyter.widget-view+json": {
       "model_id": "76b4b08dd0db48e89ac726862b267bea",
       "version_major": 2,
       "version_minor": 0
      },
      "text/plain": [
       "Running Simulation :   0%|          | 0/200 [00:00<?, ?it/s]"
      ]
     },
     "metadata": {},
     "output_type": "display_data"
    },
    {
     "name": "stdout",
     "output_type": "stream",
     "text": [
      "Target: 1\n",
      "Currents: 4.7345627552377436e-07\n",
      "Testing \n",
      "\n",
      "Currents: [4.73456276e-07 5.04587630e-07 4.38464469e-09 5.18451762e-09\n",
      " 2.93659578e-09 8.87403367e-09 2.20782720e-09 4.84826364e-09\n",
      " 8.57110071e-10]\n",
      "Target: 1.0\n",
      "Accuracy: 0\n",
      "New Target Threshold:2.916666666666668e-05\n",
      "Training \n",
      "\n",
      "\n",
      "Drain 1 Only\n"
     ]
    },
    {
     "data": {
      "application/vnd.jupyter.widget-view+json": {
       "model_id": "d4f2e91761b346b185a80b566cad2a55",
       "version_major": 2,
       "version_minor": 0
      },
      "text/plain": [
       "Running Simulation :   0%|          | 0/200 [00:00<?, ?it/s]"
      ]
     },
     "metadata": {},
     "output_type": "display_data"
    },
    {
     "name": "stdout",
     "output_type": "stream",
     "text": [
      "Target: 1\n",
      "Currents: 1.0017326584113962e-05\n",
      "Training \n",
      "\n",
      "\n",
      "Drain 7 Only\n"
     ]
    },
    {
     "data": {
      "application/vnd.jupyter.widget-view+json": {
       "model_id": "80d271ddc26d45f2b2cdfa1127d16f30",
       "version_major": 2,
       "version_minor": 0
      },
      "text/plain": [
       "Running Simulation :   0%|          | 0/200 [00:00<?, ?it/s]"
      ]
     },
     "metadata": {},
     "output_type": "display_data"
    },
    {
     "name": "stdout",
     "output_type": "stream",
     "text": [
      "Target: 1\n",
      "Currents: 0.0\n",
      "Training \n",
      "\n",
      "\n",
      "Drain 2 Only\n"
     ]
    },
    {
     "data": {
      "application/vnd.jupyter.widget-view+json": {
       "model_id": "03a962f1d20e4b6b8464ef62c20a85b3",
       "version_major": 2,
       "version_minor": 0
      },
      "text/plain": [
       "Running Simulation :   0%|          | 0/200 [00:00<?, ?it/s]"
      ]
     },
     "metadata": {},
     "output_type": "display_data"
    },
    {
     "name": "stdout",
     "output_type": "stream",
     "text": [
      "Target: 1\n",
      "Currents: 0.0\n",
      "Training \n",
      "\n",
      "\n",
      "Drain 8 Only\n"
     ]
    },
    {
     "data": {
      "application/vnd.jupyter.widget-view+json": {
       "model_id": "ca1bab2aeb0240fca3ec7e4378872719",
       "version_major": 2,
       "version_minor": 0
      },
      "text/plain": [
       "Running Simulation :   0%|          | 0/200 [00:00<?, ?it/s]"
      ]
     },
     "metadata": {},
     "output_type": "display_data"
    },
    {
     "name": "stdout",
     "output_type": "stream",
     "text": [
      "Target: 1\n",
      "Currents: 0.0\n",
      "Training \n",
      "\n",
      "\n",
      "Drain 9 Only\n"
     ]
    },
    {
     "data": {
      "application/vnd.jupyter.widget-view+json": {
       "model_id": "3ce9471b5ec34c509b1e8903e0086f1a",
       "version_major": 2,
       "version_minor": 0
      },
      "text/plain": [
       "Running Simulation :   0%|          | 0/200 [00:00<?, ?it/s]"
      ]
     },
     "metadata": {},
     "output_type": "display_data"
    },
    {
     "name": "stdout",
     "output_type": "stream",
     "text": [
      "Target: 1\n",
      "Currents: 0.0\n",
      "Training \n",
      "\n",
      "\n",
      "Drain 6 Only\n"
     ]
    },
    {
     "data": {
      "application/vnd.jupyter.widget-view+json": {
       "model_id": "0fbb33967cc14714b6bd0eae3c8d932f",
       "version_major": 2,
       "version_minor": 0
      },
      "text/plain": [
       "Running Simulation :   0%|          | 0/200 [00:00<?, ?it/s]"
      ]
     },
     "metadata": {},
     "output_type": "display_data"
    },
    {
     "name": "stdout",
     "output_type": "stream",
     "text": [
      "Target: 1\n",
      "Currents: 0.0\n",
      "Training \n",
      "\n",
      "\n",
      "Drain 5 Only\n"
     ]
    },
    {
     "data": {
      "application/vnd.jupyter.widget-view+json": {
       "model_id": "ef87b0dcef0d4b4494c357c7b4bed078",
       "version_major": 2,
       "version_minor": 0
      },
      "text/plain": [
       "Running Simulation :   0%|          | 0/200 [00:00<?, ?it/s]"
      ]
     },
     "metadata": {},
     "output_type": "display_data"
    },
    {
     "name": "stdout",
     "output_type": "stream",
     "text": [
      "Target: 1\n",
      "Currents: 0.0\n",
      "Training \n",
      "\n",
      "\n",
      "Drain 3 Only\n"
     ]
    },
    {
     "data": {
      "application/vnd.jupyter.widget-view+json": {
       "model_id": "516ffffcf5214cb1a28dab4483bb2af5",
       "version_major": 2,
       "version_minor": 0
      },
      "text/plain": [
       "Running Simulation :   0%|          | 0/200 [00:00<?, ?it/s]"
      ]
     },
     "metadata": {},
     "output_type": "display_data"
    },
    {
     "name": "stdout",
     "output_type": "stream",
     "text": [
      "Target: 1\n",
      "Currents: 0.0\n",
      "Training \n",
      "\n",
      "\n",
      "Drain 4 Only\n"
     ]
    },
    {
     "data": {
      "application/vnd.jupyter.widget-view+json": {
       "model_id": "ea343fcda9c046ccb7a9219539b9f270",
       "version_major": 2,
       "version_minor": 0
      },
      "text/plain": [
       "Running Simulation :   0%|          | 0/200 [00:00<?, ?it/s]"
      ]
     },
     "metadata": {},
     "output_type": "display_data"
    },
    {
     "name": "stdout",
     "output_type": "stream",
     "text": [
      "Target: 1\n",
      "Currents: 0.0\n",
      "\n",
      "All Drains\n"
     ]
    },
    {
     "data": {
      "application/vnd.jupyter.widget-view+json": {
       "model_id": "fb0a37215f174c5abab6ba3e9de9ebc2",
       "version_major": 2,
       "version_minor": 0
      },
      "text/plain": [
       "Running Simulation :   0%|          | 0/200 [00:00<?, ?it/s]"
      ]
     },
     "metadata": {},
     "output_type": "display_data"
    },
    {
     "name": "stdout",
     "output_type": "stream",
     "text": [
      "Target: 1\n",
      "Currents: 4.2102644806510834e-07\n",
      "Testing \n",
      "\n",
      "Currents: [4.21026448e-07 4.49780381e-07 4.21062143e-09 4.99333952e-09\n",
      " 2.84153727e-09 8.93471008e-09 2.24201524e-09 4.92151355e-09\n",
      " 8.70030829e-10]\n",
      "Target: 1.0\n",
      "Accuracy: 0\n",
      "New Target Threshold:3.0000000000000014e-05\n",
      "Training \n",
      "\n",
      "\n",
      "Drain 9 Only\n"
     ]
    },
    {
     "data": {
      "application/vnd.jupyter.widget-view+json": {
       "model_id": "0867a92d886b4ee6946ffee9a112097e",
       "version_major": 2,
       "version_minor": 0
      },
      "text/plain": [
       "Running Simulation :   0%|          | 0/200 [00:00<?, ?it/s]"
      ]
     },
     "metadata": {},
     "output_type": "display_data"
    },
    {
     "name": "stdout",
     "output_type": "stream",
     "text": [
      "Target: 1\n",
      "Currents: 0.0\n",
      "Training \n",
      "\n",
      "\n",
      "Drain 3 Only\n"
     ]
    },
    {
     "data": {
      "application/vnd.jupyter.widget-view+json": {
       "model_id": "20c4a6b4fcc54feca597ca0b1fc8a8e7",
       "version_major": 2,
       "version_minor": 0
      },
      "text/plain": [
       "Running Simulation :   0%|          | 0/200 [00:00<?, ?it/s]"
      ]
     },
     "metadata": {},
     "output_type": "display_data"
    },
    {
     "name": "stdout",
     "output_type": "stream",
     "text": [
      "Target: 1\n",
      "Currents: 0.0\n",
      "Training \n",
      "\n",
      "\n",
      "Drain 2 Only\n"
     ]
    },
    {
     "data": {
      "application/vnd.jupyter.widget-view+json": {
       "model_id": "45e7b72e5bf1447885616db9a7409bb4",
       "version_major": 2,
       "version_minor": 0
      },
      "text/plain": [
       "Running Simulation :   0%|          | 0/200 [00:00<?, ?it/s]"
      ]
     },
     "metadata": {},
     "output_type": "display_data"
    },
    {
     "name": "stdout",
     "output_type": "stream",
     "text": [
      "Target: 1\n",
      "Currents: 0.0\n",
      "Training \n",
      "\n",
      "\n",
      "Drain 1 Only\n"
     ]
    },
    {
     "data": {
      "application/vnd.jupyter.widget-view+json": {
       "model_id": "a8279f170a2749f58287381b5ecf4e56",
       "version_major": 2,
       "version_minor": 0
      },
      "text/plain": [
       "Running Simulation :   0%|          | 0/200 [00:00<?, ?it/s]"
      ]
     },
     "metadata": {},
     "output_type": "display_data"
    },
    {
     "name": "stdout",
     "output_type": "stream",
     "text": [
      "Target: 1\n",
      "Currents: 1.0034574310432301e-05\n",
      "Training \n",
      "\n",
      "\n",
      "Drain 7 Only\n"
     ]
    },
    {
     "data": {
      "application/vnd.jupyter.widget-view+json": {
       "model_id": "b9a20336535a4953b6da08d0d5a4484c",
       "version_major": 2,
       "version_minor": 0
      },
      "text/plain": [
       "Running Simulation :   0%|          | 0/200 [00:00<?, ?it/s]"
      ]
     },
     "metadata": {},
     "output_type": "display_data"
    },
    {
     "name": "stdout",
     "output_type": "stream",
     "text": [
      "Target: 1\n",
      "Currents: 0.0\n",
      "Training \n",
      "\n",
      "\n",
      "Drain 5 Only\n"
     ]
    },
    {
     "data": {
      "application/vnd.jupyter.widget-view+json": {
       "model_id": "d9dfc2d60e9a4bf1a9a22bf5ffc8005b",
       "version_major": 2,
       "version_minor": 0
      },
      "text/plain": [
       "Running Simulation :   0%|          | 0/200 [00:00<?, ?it/s]"
      ]
     },
     "metadata": {},
     "output_type": "display_data"
    },
    {
     "name": "stdout",
     "output_type": "stream",
     "text": [
      "Target: 1\n",
      "Currents: 0.0\n",
      "Training \n",
      "\n",
      "\n",
      "Drain 4 Only\n"
     ]
    },
    {
     "data": {
      "application/vnd.jupyter.widget-view+json": {
       "model_id": "e579980a170744b48fc7dec1a791f3ee",
       "version_major": 2,
       "version_minor": 0
      },
      "text/plain": [
       "Running Simulation :   0%|          | 0/200 [00:00<?, ?it/s]"
      ]
     },
     "metadata": {},
     "output_type": "display_data"
    },
    {
     "name": "stdout",
     "output_type": "stream",
     "text": [
      "Target: 1\n",
      "Currents: 0.0\n",
      "Training \n",
      "\n",
      "\n",
      "Drain 8 Only\n"
     ]
    },
    {
     "data": {
      "application/vnd.jupyter.widget-view+json": {
       "model_id": "828120a9ee5e4f2c9b76e75bb9195304",
       "version_major": 2,
       "version_minor": 0
      },
      "text/plain": [
       "Running Simulation :   0%|          | 0/200 [00:00<?, ?it/s]"
      ]
     },
     "metadata": {},
     "output_type": "display_data"
    },
    {
     "name": "stdout",
     "output_type": "stream",
     "text": [
      "Target: 1\n",
      "Currents: 0.0\n",
      "Training \n",
      "\n",
      "\n",
      "Drain 6 Only\n"
     ]
    },
    {
     "data": {
      "application/vnd.jupyter.widget-view+json": {
       "model_id": "ccaa3aae6e9e4724b9264f6029ca03df",
       "version_major": 2,
       "version_minor": 0
      },
      "text/plain": [
       "Running Simulation :   0%|          | 0/200 [00:00<?, ?it/s]"
      ]
     },
     "metadata": {},
     "output_type": "display_data"
    },
    {
     "name": "stdout",
     "output_type": "stream",
     "text": [
      "Target: 1\n",
      "Currents: 0.0\n",
      "\n",
      "All Drains\n"
     ]
    },
    {
     "data": {
      "application/vnd.jupyter.widget-view+json": {
       "model_id": "bb393d349bec46bd992fb3b41b244505",
       "version_major": 2,
       "version_minor": 0
      },
      "text/plain": [
       "Running Simulation :   0%|          | 0/200 [00:00<?, ?it/s]"
      ]
     },
     "metadata": {},
     "output_type": "display_data"
    },
    {
     "name": "stdout",
     "output_type": "stream",
     "text": [
      "Target: 1\n",
      "Currents: 6.245862028425427e-07\n",
      "Testing \n",
      "\n",
      "Currents: [6.24586203e-07 7.03145863e-07 5.99246383e-09 6.61446337e-09\n",
      " 3.67406475e-09 9.05207199e-09 1.95098850e-09 4.14822911e-09\n",
      " 7.33132840e-10]\n",
      "Target: 1.0\n",
      "Accuracy: 0\n",
      "New Target Threshold:3.083333333333335e-05\n",
      "Training \n",
      "\n",
      "\n",
      "Drain 7 Only\n"
     ]
    },
    {
     "data": {
      "application/vnd.jupyter.widget-view+json": {
       "model_id": "061cdfd956494534af5c39c17024b25d",
       "version_major": 2,
       "version_minor": 0
      },
      "text/plain": [
       "Running Simulation :   0%|          | 0/200 [00:00<?, ?it/s]"
      ]
     },
     "metadata": {},
     "output_type": "display_data"
    },
    {
     "name": "stdout",
     "output_type": "stream",
     "text": [
      "Target: 1\n",
      "Currents: 0.0\n",
      "Training \n",
      "\n",
      "\n",
      "Drain 5 Only\n"
     ]
    },
    {
     "data": {
      "application/vnd.jupyter.widget-view+json": {
       "model_id": "801f312a26544e2896f13617c118a92d",
       "version_major": 2,
       "version_minor": 0
      },
      "text/plain": [
       "Running Simulation :   0%|          | 0/200 [00:00<?, ?it/s]"
      ]
     },
     "metadata": {},
     "output_type": "display_data"
    },
    {
     "name": "stdout",
     "output_type": "stream",
     "text": [
      "Target: 1\n",
      "Currents: 0.0\n",
      "Training \n",
      "\n",
      "\n",
      "Drain 9 Only\n"
     ]
    },
    {
     "data": {
      "application/vnd.jupyter.widget-view+json": {
       "model_id": "c73f2a9609234d5a9efd68a0afb16345",
       "version_major": 2,
       "version_minor": 0
      },
      "text/plain": [
       "Running Simulation :   0%|          | 0/200 [00:00<?, ?it/s]"
      ]
     },
     "metadata": {},
     "output_type": "display_data"
    },
    {
     "name": "stdout",
     "output_type": "stream",
     "text": [
      "Target: 1\n",
      "Currents: 0.0\n",
      "Training \n",
      "\n",
      "\n",
      "Drain 2 Only\n"
     ]
    },
    {
     "data": {
      "application/vnd.jupyter.widget-view+json": {
       "model_id": "1ce94a317b1b4907bfb678167daeed95",
       "version_major": 2,
       "version_minor": 0
      },
      "text/plain": [
       "Running Simulation :   0%|          | 0/200 [00:00<?, ?it/s]"
      ]
     },
     "metadata": {},
     "output_type": "display_data"
    },
    {
     "name": "stdout",
     "output_type": "stream",
     "text": [
      "Target: 1\n",
      "Currents: 0.0\n",
      "Training \n",
      "\n",
      "\n",
      "Drain 1 Only\n"
     ]
    },
    {
     "data": {
      "application/vnd.jupyter.widget-view+json": {
       "model_id": "ed3e120db6ce4e52b05148eef09c2c72",
       "version_major": 2,
       "version_minor": 0
      },
      "text/plain": [
       "Running Simulation :   0%|          | 0/200 [00:00<?, ?it/s]"
      ]
     },
     "metadata": {},
     "output_type": "display_data"
    },
    {
     "name": "stdout",
     "output_type": "stream",
     "text": [
      "Target: 1\n",
      "Currents: 1.0030251455261775e-05\n",
      "Training \n",
      "\n",
      "\n",
      "Drain 6 Only\n"
     ]
    },
    {
     "data": {
      "application/vnd.jupyter.widget-view+json": {
       "model_id": "38e59485b4e848eb81f197acb159d729",
       "version_major": 2,
       "version_minor": 0
      },
      "text/plain": [
       "Running Simulation :   0%|          | 0/200 [00:00<?, ?it/s]"
      ]
     },
     "metadata": {},
     "output_type": "display_data"
    },
    {
     "name": "stdout",
     "output_type": "stream",
     "text": [
      "Target: 1\n",
      "Currents: 0.0\n",
      "Training \n",
      "\n",
      "\n",
      "Drain 8 Only\n"
     ]
    },
    {
     "data": {
      "application/vnd.jupyter.widget-view+json": {
       "model_id": "ea15fd7085a64b588bd6cd21096f9edb",
       "version_major": 2,
       "version_minor": 0
      },
      "text/plain": [
       "Running Simulation :   0%|          | 0/200 [00:00<?, ?it/s]"
      ]
     },
     "metadata": {},
     "output_type": "display_data"
    },
    {
     "name": "stdout",
     "output_type": "stream",
     "text": [
      "Target: 1\n",
      "Currents: 0.0\n",
      "Training \n",
      "\n",
      "\n",
      "Drain 4 Only\n"
     ]
    },
    {
     "data": {
      "application/vnd.jupyter.widget-view+json": {
       "model_id": "f6fe2d169eb548a28499c8585acca3e7",
       "version_major": 2,
       "version_minor": 0
      },
      "text/plain": [
       "Running Simulation :   0%|          | 0/200 [00:00<?, ?it/s]"
      ]
     },
     "metadata": {},
     "output_type": "display_data"
    },
    {
     "name": "stdout",
     "output_type": "stream",
     "text": [
      "Target: 1\n",
      "Currents: 0.0\n",
      "Training \n",
      "\n",
      "\n",
      "Drain 3 Only\n"
     ]
    },
    {
     "data": {
      "application/vnd.jupyter.widget-view+json": {
       "model_id": "a669454edd7c46b59a6c7c020aa3b50a",
       "version_major": 2,
       "version_minor": 0
      },
      "text/plain": [
       "Running Simulation :   0%|          | 0/200 [00:00<?, ?it/s]"
      ]
     },
     "metadata": {},
     "output_type": "display_data"
    },
    {
     "name": "stdout",
     "output_type": "stream",
     "text": [
      "Target: 1\n",
      "Currents: 0.0\n",
      "\n",
      "All Drains\n"
     ]
    },
    {
     "data": {
      "application/vnd.jupyter.widget-view+json": {
       "model_id": "3120c6d92b40444090ecb0a5c8f24ab4",
       "version_major": 2,
       "version_minor": 0
      },
      "text/plain": [
       "Running Simulation :   0%|          | 0/200 [00:00<?, ?it/s]"
      ]
     },
     "metadata": {},
     "output_type": "display_data"
    },
    {
     "name": "stdout",
     "output_type": "stream",
     "text": [
      "Target: 1\n",
      "Currents: 6.54271274640017e-07\n",
      "Testing \n",
      "\n",
      "Currents: [6.54271275e-07 7.26957575e-07 6.04298685e-09 6.83171221e-09\n",
      " 3.83273178e-09 9.31301546e-09 1.94793841e-09 4.12216403e-09\n",
      " 7.28482767e-10]\n",
      "Target: 1.0\n",
      "Accuracy: 0\n",
      "New Target Threshold:3.166666666666668e-05\n",
      "Training \n",
      "\n",
      "\n",
      "Drain 5 Only\n"
     ]
    },
    {
     "data": {
      "application/vnd.jupyter.widget-view+json": {
       "model_id": "3683f100412240cb9512c1afb68c4c9d",
       "version_major": 2,
       "version_minor": 0
      },
      "text/plain": [
       "Running Simulation :   0%|          | 0/200 [00:00<?, ?it/s]"
      ]
     },
     "metadata": {},
     "output_type": "display_data"
    },
    {
     "name": "stdout",
     "output_type": "stream",
     "text": [
      "Target: 1\n",
      "Currents: 0.0\n",
      "Training \n",
      "\n",
      "\n",
      "Drain 9 Only\n"
     ]
    },
    {
     "data": {
      "application/vnd.jupyter.widget-view+json": {
       "model_id": "13a9a3f176474c24b4c655e80da3065b",
       "version_major": 2,
       "version_minor": 0
      },
      "text/plain": [
       "Running Simulation :   0%|          | 0/200 [00:00<?, ?it/s]"
      ]
     },
     "metadata": {},
     "output_type": "display_data"
    },
    {
     "name": "stdout",
     "output_type": "stream",
     "text": [
      "Target: 1\n",
      "Currents: 0.0\n",
      "Training \n",
      "\n",
      "\n",
      "Drain 4 Only\n"
     ]
    },
    {
     "data": {
      "application/vnd.jupyter.widget-view+json": {
       "model_id": "63684fbfbcb44a3eb13b5d0d631e9c42",
       "version_major": 2,
       "version_minor": 0
      },
      "text/plain": [
       "Running Simulation :   0%|          | 0/200 [00:00<?, ?it/s]"
      ]
     },
     "metadata": {},
     "output_type": "display_data"
    },
    {
     "name": "stdout",
     "output_type": "stream",
     "text": [
      "Target: 1\n",
      "Currents: 0.0\n",
      "Training \n",
      "\n",
      "\n",
      "Drain 8 Only\n"
     ]
    },
    {
     "data": {
      "application/vnd.jupyter.widget-view+json": {
       "model_id": "383b952df4fc44878c31c418ac1171b7",
       "version_major": 2,
       "version_minor": 0
      },
      "text/plain": [
       "Running Simulation :   0%|          | 0/200 [00:00<?, ?it/s]"
      ]
     },
     "metadata": {},
     "output_type": "display_data"
    },
    {
     "name": "stdout",
     "output_type": "stream",
     "text": [
      "Target: 1\n",
      "Currents: 0.0\n",
      "Training \n",
      "\n",
      "\n",
      "Drain 7 Only\n"
     ]
    },
    {
     "data": {
      "application/vnd.jupyter.widget-view+json": {
       "model_id": "51d46d7a48ef40f4a901e97dbe235846",
       "version_major": 2,
       "version_minor": 0
      },
      "text/plain": [
       "Running Simulation :   0%|          | 0/200 [00:00<?, ?it/s]"
      ]
     },
     "metadata": {},
     "output_type": "display_data"
    },
    {
     "name": "stdout",
     "output_type": "stream",
     "text": [
      "Target: 1\n",
      "Currents: 0.0\n",
      "Training \n",
      "\n",
      "\n",
      "Drain 6 Only\n"
     ]
    },
    {
     "data": {
      "application/vnd.jupyter.widget-view+json": {
       "model_id": "8569db2f859f4c53a90492c289fb4619",
       "version_major": 2,
       "version_minor": 0
      },
      "text/plain": [
       "Running Simulation :   0%|          | 0/200 [00:00<?, ?it/s]"
      ]
     },
     "metadata": {},
     "output_type": "display_data"
    },
    {
     "name": "stdout",
     "output_type": "stream",
     "text": [
      "Target: 1\n",
      "Currents: 0.0\n",
      "Training \n",
      "\n",
      "\n",
      "Drain 2 Only\n"
     ]
    },
    {
     "data": {
      "application/vnd.jupyter.widget-view+json": {
       "model_id": "c30017611620408381abf5d17c714552",
       "version_major": 2,
       "version_minor": 0
      },
      "text/plain": [
       "Running Simulation :   0%|          | 0/200 [00:00<?, ?it/s]"
      ]
     },
     "metadata": {},
     "output_type": "display_data"
    },
    {
     "name": "stdout",
     "output_type": "stream",
     "text": [
      "Target: 1\n",
      "Currents: 0.0\n",
      "Training \n",
      "\n",
      "\n",
      "Drain 3 Only\n"
     ]
    },
    {
     "data": {
      "application/vnd.jupyter.widget-view+json": {
       "model_id": "fa1cc3f1db5b41dcb46fdc903801cd1d",
       "version_major": 2,
       "version_minor": 0
      },
      "text/plain": [
       "Running Simulation :   0%|          | 0/200 [00:00<?, ?it/s]"
      ]
     },
     "metadata": {},
     "output_type": "display_data"
    },
    {
     "name": "stdout",
     "output_type": "stream",
     "text": [
      "Target: 1\n",
      "Currents: 0.0\n",
      "Training \n",
      "\n",
      "\n",
      "Drain 1 Only\n"
     ]
    },
    {
     "data": {
      "application/vnd.jupyter.widget-view+json": {
       "model_id": "fdc716f20ee8483a9ef7e89d84d54685",
       "version_major": 2,
       "version_minor": 0
      },
      "text/plain": [
       "Running Simulation :   0%|          | 0/200 [00:00<?, ?it/s]"
      ]
     },
     "metadata": {},
     "output_type": "display_data"
    },
    {
     "name": "stdout",
     "output_type": "stream",
     "text": [
      "Target: 1\n",
      "Currents: 1.004376603610569e-05\n",
      "\n",
      "All Drains\n"
     ]
    },
    {
     "data": {
      "application/vnd.jupyter.widget-view+json": {
       "model_id": "ae2027e8e72d4c2db3c822ac396f2e66",
       "version_major": 2,
       "version_minor": 0
      },
      "text/plain": [
       "Running Simulation :   0%|          | 0/200 [00:00<?, ?it/s]"
      ]
     },
     "metadata": {},
     "output_type": "display_data"
    },
    {
     "name": "stdout",
     "output_type": "stream",
     "text": [
      "Target: 1\n",
      "Currents: 8.348449360319382e-07\n",
      "Testing \n",
      "\n",
      "Currents: [8.34844936e-07 8.58440450e-07 6.35794457e-09 7.43833648e-09\n",
      " 4.24482495e-09 9.20858149e-09 1.80616464e-09 3.73207904e-09\n",
      " 6.59365261e-10]\n",
      "Target: 1.0\n",
      "Accuracy: 0\n",
      "New Target Threshold:3.250000000000001e-05\n",
      "Training \n",
      "\n",
      "\n",
      "Drain 5 Only\n"
     ]
    },
    {
     "data": {
      "application/vnd.jupyter.widget-view+json": {
       "model_id": "971442095ca346e59f168565d06c9d53",
       "version_major": 2,
       "version_minor": 0
      },
      "text/plain": [
       "Running Simulation :   0%|          | 0/200 [00:00<?, ?it/s]"
      ]
     },
     "metadata": {},
     "output_type": "display_data"
    },
    {
     "name": "stdout",
     "output_type": "stream",
     "text": [
      "Target: 1\n",
      "Currents: 0.0\n",
      "Training \n",
      "\n",
      "\n",
      "Drain 2 Only\n"
     ]
    },
    {
     "data": {
      "application/vnd.jupyter.widget-view+json": {
       "model_id": "19ea2b13690747f199928501d1aaf9bf",
       "version_major": 2,
       "version_minor": 0
      },
      "text/plain": [
       "Running Simulation :   0%|          | 0/200 [00:00<?, ?it/s]"
      ]
     },
     "metadata": {},
     "output_type": "display_data"
    },
    {
     "name": "stdout",
     "output_type": "stream",
     "text": [
      "Target: 1\n",
      "Currents: 0.0\n",
      "Training \n",
      "\n",
      "\n",
      "Drain 1 Only\n"
     ]
    },
    {
     "data": {
      "application/vnd.jupyter.widget-view+json": {
       "model_id": "6773da9ac0eb4c998115cd118f3a89be",
       "version_major": 2,
       "version_minor": 0
      },
      "text/plain": [
       "Running Simulation :   0%|          | 0/200 [00:00<?, ?it/s]"
      ]
     },
     "metadata": {},
     "output_type": "display_data"
    },
    {
     "name": "stdout",
     "output_type": "stream",
     "text": [
      "Target: 1\n",
      "Currents: 1.0006020662599966e-05\n",
      "Training \n",
      "\n",
      "\n",
      "Drain 8 Only\n"
     ]
    },
    {
     "data": {
      "application/vnd.jupyter.widget-view+json": {
       "model_id": "87caf54d07524962a8d81c45ef9972c4",
       "version_major": 2,
       "version_minor": 0
      },
      "text/plain": [
       "Running Simulation :   0%|          | 0/200 [00:00<?, ?it/s]"
      ]
     },
     "metadata": {},
     "output_type": "display_data"
    },
    {
     "name": "stdout",
     "output_type": "stream",
     "text": [
      "Target: 1\n",
      "Currents: 0.0\n",
      "Training \n",
      "\n",
      "\n",
      "Drain 6 Only\n"
     ]
    },
    {
     "data": {
      "application/vnd.jupyter.widget-view+json": {
       "model_id": "e1c116252c9646a1b94e8ff7c82681fa",
       "version_major": 2,
       "version_minor": 0
      },
      "text/plain": [
       "Running Simulation :   0%|          | 0/200 [00:00<?, ?it/s]"
      ]
     },
     "metadata": {},
     "output_type": "display_data"
    },
    {
     "name": "stdout",
     "output_type": "stream",
     "text": [
      "Target: 1\n",
      "Currents: 0.0\n",
      "Training \n",
      "\n",
      "\n",
      "Drain 3 Only\n"
     ]
    },
    {
     "data": {
      "application/vnd.jupyter.widget-view+json": {
       "model_id": "6ca277e5c34040d08f84d6822d447722",
       "version_major": 2,
       "version_minor": 0
      },
      "text/plain": [
       "Running Simulation :   0%|          | 0/200 [00:00<?, ?it/s]"
      ]
     },
     "metadata": {},
     "output_type": "display_data"
    },
    {
     "name": "stdout",
     "output_type": "stream",
     "text": [
      "Target: 1\n",
      "Currents: 0.0\n",
      "Training \n",
      "\n",
      "\n",
      "Drain 7 Only\n"
     ]
    },
    {
     "data": {
      "application/vnd.jupyter.widget-view+json": {
       "model_id": "7fc21c208bd4497da212f44de84c25d9",
       "version_major": 2,
       "version_minor": 0
      },
      "text/plain": [
       "Running Simulation :   0%|          | 0/200 [00:00<?, ?it/s]"
      ]
     },
     "metadata": {},
     "output_type": "display_data"
    },
    {
     "name": "stdout",
     "output_type": "stream",
     "text": [
      "Target: 1\n",
      "Currents: 0.0\n",
      "Training \n",
      "\n",
      "\n",
      "Drain 4 Only\n"
     ]
    },
    {
     "data": {
      "application/vnd.jupyter.widget-view+json": {
       "model_id": "545af1725c2e42fcb22f13f1d7f0dc70",
       "version_major": 2,
       "version_minor": 0
      },
      "text/plain": [
       "Running Simulation :   0%|          | 0/200 [00:00<?, ?it/s]"
      ]
     },
     "metadata": {},
     "output_type": "display_data"
    },
    {
     "name": "stdout",
     "output_type": "stream",
     "text": [
      "Target: 1\n",
      "Currents: 0.0\n",
      "Training \n",
      "\n",
      "\n",
      "Drain 9 Only\n"
     ]
    },
    {
     "data": {
      "application/vnd.jupyter.widget-view+json": {
       "model_id": "b5cdebc51a52404a9324a4f5fc75aec6",
       "version_major": 2,
       "version_minor": 0
      },
      "text/plain": [
       "Running Simulation :   0%|          | 0/200 [00:00<?, ?it/s]"
      ]
     },
     "metadata": {},
     "output_type": "display_data"
    },
    {
     "name": "stdout",
     "output_type": "stream",
     "text": [
      "Target: 1\n",
      "Currents: 0.0\n",
      "\n",
      "All Drains\n"
     ]
    },
    {
     "data": {
      "application/vnd.jupyter.widget-view+json": {
       "model_id": "49a6c2a3e73f4c33ae34cf89de70c990",
       "version_major": 2,
       "version_minor": 0
      },
      "text/plain": [
       "Running Simulation :   0%|          | 0/200 [00:00<?, ?it/s]"
      ]
     },
     "metadata": {},
     "output_type": "display_data"
    },
    {
     "name": "stdout",
     "output_type": "stream",
     "text": [
      "Target: 1\n",
      "Currents: 6.126569242064968e-07\n",
      "Testing \n",
      "\n",
      "Currents: [6.12656924e-07 6.83754167e-07 5.96485811e-09 6.59089425e-09\n",
      " 3.63228334e-09 8.83393111e-09 1.95736476e-09 4.17242692e-09\n",
      " 7.37431797e-10]\n",
      "Target: 1.0\n",
      "Accuracy: 0\n",
      "New Target Threshold:3.333333333333334e-05\n",
      "Training \n",
      "\n",
      "\n",
      "Drain 4 Only\n"
     ]
    },
    {
     "data": {
      "application/vnd.jupyter.widget-view+json": {
       "model_id": "5f7e517aece34e3eb6e3f8a27bcbe8a2",
       "version_major": 2,
       "version_minor": 0
      },
      "text/plain": [
       "Running Simulation :   0%|          | 0/200 [00:00<?, ?it/s]"
      ]
     },
     "metadata": {},
     "output_type": "display_data"
    },
    {
     "name": "stdout",
     "output_type": "stream",
     "text": [
      "Target: 1\n",
      "Currents: 0.0\n",
      "Training \n",
      "\n",
      "\n",
      "Drain 2 Only\n"
     ]
    },
    {
     "data": {
      "application/vnd.jupyter.widget-view+json": {
       "model_id": "efa1e9c17c764eddb26c1d2c662be26e",
       "version_major": 2,
       "version_minor": 0
      },
      "text/plain": [
       "Running Simulation :   0%|          | 0/200 [00:00<?, ?it/s]"
      ]
     },
     "metadata": {},
     "output_type": "display_data"
    },
    {
     "name": "stdout",
     "output_type": "stream",
     "text": [
      "Target: 1\n",
      "Currents: 0.0\n",
      "Training \n",
      "\n",
      "\n",
      "Drain 5 Only\n"
     ]
    },
    {
     "data": {
      "application/vnd.jupyter.widget-view+json": {
       "model_id": "4c25ffd0adaa4c48b5d4fafc16944e91",
       "version_major": 2,
       "version_minor": 0
      },
      "text/plain": [
       "Running Simulation :   0%|          | 0/200 [00:00<?, ?it/s]"
      ]
     },
     "metadata": {},
     "output_type": "display_data"
    },
    {
     "name": "stdout",
     "output_type": "stream",
     "text": [
      "Target: 1\n",
      "Currents: 0.0\n",
      "Training \n",
      "\n",
      "\n",
      "Drain 7 Only\n"
     ]
    },
    {
     "data": {
      "application/vnd.jupyter.widget-view+json": {
       "model_id": "a0f5101ce49847598c73d5c58fbba605",
       "version_major": 2,
       "version_minor": 0
      },
      "text/plain": [
       "Running Simulation :   0%|          | 0/200 [00:00<?, ?it/s]"
      ]
     },
     "metadata": {},
     "output_type": "display_data"
    },
    {
     "name": "stdout",
     "output_type": "stream",
     "text": [
      "Target: 1\n",
      "Currents: 0.0\n",
      "Training \n",
      "\n",
      "\n",
      "Drain 8 Only\n"
     ]
    },
    {
     "data": {
      "application/vnd.jupyter.widget-view+json": {
       "model_id": "53407670845e4e85ad986b37591d3256",
       "version_major": 2,
       "version_minor": 0
      },
      "text/plain": [
       "Running Simulation :   0%|          | 0/200 [00:00<?, ?it/s]"
      ]
     },
     "metadata": {},
     "output_type": "display_data"
    },
    {
     "name": "stdout",
     "output_type": "stream",
     "text": [
      "Target: 1\n",
      "Currents: 0.0\n",
      "Training \n",
      "\n",
      "\n",
      "Drain 3 Only\n"
     ]
    },
    {
     "data": {
      "application/vnd.jupyter.widget-view+json": {
       "model_id": "0be1fc98074d42df82e3257783763d68",
       "version_major": 2,
       "version_minor": 0
      },
      "text/plain": [
       "Running Simulation :   0%|          | 0/200 [00:00<?, ?it/s]"
      ]
     },
     "metadata": {},
     "output_type": "display_data"
    },
    {
     "name": "stdout",
     "output_type": "stream",
     "text": [
      "Target: 1\n",
      "Currents: 0.0\n",
      "Training \n",
      "\n",
      "\n",
      "Drain 9 Only\n"
     ]
    },
    {
     "data": {
      "application/vnd.jupyter.widget-view+json": {
       "model_id": "a72bc4ab916f4eee804c77070d4d40db",
       "version_major": 2,
       "version_minor": 0
      },
      "text/plain": [
       "Running Simulation :   0%|          | 0/200 [00:00<?, ?it/s]"
      ]
     },
     "metadata": {},
     "output_type": "display_data"
    },
    {
     "name": "stdout",
     "output_type": "stream",
     "text": [
      "Target: 1\n",
      "Currents: 0.0\n",
      "Training \n",
      "\n",
      "\n",
      "Drain 1 Only\n"
     ]
    },
    {
     "data": {
      "application/vnd.jupyter.widget-view+json": {
       "model_id": "ef8779c55fcf409eba0e64b5191934e7",
       "version_major": 2,
       "version_minor": 0
      },
      "text/plain": [
       "Running Simulation :   0%|          | 0/200 [00:00<?, ?it/s]"
      ]
     },
     "metadata": {},
     "output_type": "display_data"
    },
    {
     "name": "stdout",
     "output_type": "stream",
     "text": [
      "Target: 1\n",
      "Currents: 1.0045014346499432e-05\n",
      "Training \n",
      "\n",
      "\n",
      "Drain 6 Only\n"
     ]
    },
    {
     "data": {
      "application/vnd.jupyter.widget-view+json": {
       "model_id": "4622e095ccc841628b9cf258c78f0f2f",
       "version_major": 2,
       "version_minor": 0
      },
      "text/plain": [
       "Running Simulation :   0%|          | 0/200 [00:00<?, ?it/s]"
      ]
     },
     "metadata": {},
     "output_type": "display_data"
    },
    {
     "name": "stdout",
     "output_type": "stream",
     "text": [
      "Target: 1\n",
      "Currents: 0.0\n",
      "\n",
      "All Drains\n"
     ]
    },
    {
     "data": {
      "application/vnd.jupyter.widget-view+json": {
       "model_id": "37e5a255507947df856e803bc0958de1",
       "version_major": 2,
       "version_minor": 0
      },
      "text/plain": [
       "Running Simulation :   0%|          | 0/200 [00:00<?, ?it/s]"
      ]
     },
     "metadata": {},
     "output_type": "display_data"
    },
    {
     "name": "stdout",
     "output_type": "stream",
     "text": [
      "Target: 1\n",
      "Currents: 7.835023705157581e-07\n",
      "Testing \n",
      "\n",
      "Currents: [7.83502371e-07 8.18425151e-07 6.24186739e-09 7.38574406e-09\n",
      " 4.20903744e-09 9.70731941e-09 1.88101629e-09 3.92241205e-09\n",
      " 6.93061304e-10]\n",
      "Target: 1.0\n",
      "Accuracy: 0\n",
      "New Target Threshold:3.416666666666667e-05\n",
      "Training \n",
      "\n",
      "\n",
      "Drain 6 Only\n"
     ]
    },
    {
     "data": {
      "application/vnd.jupyter.widget-view+json": {
       "model_id": "3d30247e755e40b780aabb1ebcebea27",
       "version_major": 2,
       "version_minor": 0
      },
      "text/plain": [
       "Running Simulation :   0%|          | 0/200 [00:00<?, ?it/s]"
      ]
     },
     "metadata": {},
     "output_type": "display_data"
    },
    {
     "name": "stdout",
     "output_type": "stream",
     "text": [
      "Target: 1\n",
      "Currents: 0.0\n",
      "Training \n",
      "\n",
      "\n",
      "Drain 4 Only\n"
     ]
    },
    {
     "data": {
      "application/vnd.jupyter.widget-view+json": {
       "model_id": "267208eae41b4e27af27bbcbff9da2e1",
       "version_major": 2,
       "version_minor": 0
      },
      "text/plain": [
       "Running Simulation :   0%|          | 0/200 [00:00<?, ?it/s]"
      ]
     },
     "metadata": {},
     "output_type": "display_data"
    },
    {
     "name": "stdout",
     "output_type": "stream",
     "text": [
      "Target: 1\n",
      "Currents: 0.0\n",
      "Training \n",
      "\n",
      "\n",
      "Drain 8 Only\n"
     ]
    },
    {
     "data": {
      "application/vnd.jupyter.widget-view+json": {
       "model_id": "cf2831704cea42b1ac7ffdf8d1123ad8",
       "version_major": 2,
       "version_minor": 0
      },
      "text/plain": [
       "Running Simulation :   0%|          | 0/200 [00:00<?, ?it/s]"
      ]
     },
     "metadata": {},
     "output_type": "display_data"
    },
    {
     "name": "stdout",
     "output_type": "stream",
     "text": [
      "Target: 1\n",
      "Currents: 0.0\n",
      "Training \n",
      "\n",
      "\n",
      "Drain 2 Only\n"
     ]
    },
    {
     "data": {
      "application/vnd.jupyter.widget-view+json": {
       "model_id": "04aab0d42b3647d6b27135ec1baa8e52",
       "version_major": 2,
       "version_minor": 0
      },
      "text/plain": [
       "Running Simulation :   0%|          | 0/200 [00:00<?, ?it/s]"
      ]
     },
     "metadata": {},
     "output_type": "display_data"
    },
    {
     "name": "stdout",
     "output_type": "stream",
     "text": [
      "Target: 1\n",
      "Currents: 0.0\n",
      "Training \n",
      "\n",
      "\n",
      "Drain 9 Only\n"
     ]
    },
    {
     "data": {
      "application/vnd.jupyter.widget-view+json": {
       "model_id": "447a02fd4b81466aa5809b8db4fbd2eb",
       "version_major": 2,
       "version_minor": 0
      },
      "text/plain": [
       "Running Simulation :   0%|          | 0/200 [00:00<?, ?it/s]"
      ]
     },
     "metadata": {},
     "output_type": "display_data"
    },
    {
     "name": "stdout",
     "output_type": "stream",
     "text": [
      "Target: 1\n",
      "Currents: 0.0\n",
      "Training \n",
      "\n",
      "\n",
      "Drain 1 Only\n"
     ]
    },
    {
     "data": {
      "application/vnd.jupyter.widget-view+json": {
       "model_id": "6cb3f42d462a469e96403fdbc87baf4e",
       "version_major": 2,
       "version_minor": 0
      },
      "text/plain": [
       "Running Simulation :   0%|          | 0/200 [00:00<?, ?it/s]"
      ]
     },
     "metadata": {},
     "output_type": "display_data"
    },
    {
     "name": "stdout",
     "output_type": "stream",
     "text": [
      "Target: 1\n",
      "Currents: 1.002342103324006e-05\n",
      "Training \n",
      "\n",
      "\n",
      "Drain 3 Only\n"
     ]
    },
    {
     "data": {
      "application/vnd.jupyter.widget-view+json": {
       "model_id": "5fbd249489c246d3993af7d0f1ea5c87",
       "version_major": 2,
       "version_minor": 0
      },
      "text/plain": [
       "Running Simulation :   0%|          | 0/200 [00:00<?, ?it/s]"
      ]
     },
     "metadata": {},
     "output_type": "display_data"
    },
    {
     "name": "stdout",
     "output_type": "stream",
     "text": [
      "Target: 1\n",
      "Currents: 0.0\n",
      "Training \n",
      "\n",
      "\n",
      "Drain 7 Only\n"
     ]
    },
    {
     "data": {
      "application/vnd.jupyter.widget-view+json": {
       "model_id": "cdc283505e804954929d12df3188c2d7",
       "version_major": 2,
       "version_minor": 0
      },
      "text/plain": [
       "Running Simulation :   0%|          | 0/200 [00:00<?, ?it/s]"
      ]
     },
     "metadata": {},
     "output_type": "display_data"
    },
    {
     "name": "stdout",
     "output_type": "stream",
     "text": [
      "Target: 1\n",
      "Currents: 0.0\n",
      "Training \n",
      "\n",
      "\n",
      "Drain 5 Only\n"
     ]
    },
    {
     "data": {
      "application/vnd.jupyter.widget-view+json": {
       "model_id": "3f01cf2904524570a9fadfb592380af3",
       "version_major": 2,
       "version_minor": 0
      },
      "text/plain": [
       "Running Simulation :   0%|          | 0/200 [00:00<?, ?it/s]"
      ]
     },
     "metadata": {},
     "output_type": "display_data"
    },
    {
     "name": "stdout",
     "output_type": "stream",
     "text": [
      "Target: 1\n",
      "Currents: 0.0\n",
      "\n",
      "All Drains\n"
     ]
    },
    {
     "data": {
      "application/vnd.jupyter.widget-view+json": {
       "model_id": "00e85efa726a40b5af8a968ac92bc7d8",
       "version_major": 2,
       "version_minor": 0
      },
      "text/plain": [
       "Running Simulation :   0%|          | 0/200 [00:00<?, ?it/s]"
      ]
     },
     "metadata": {},
     "output_type": "display_data"
    },
    {
     "name": "stdout",
     "output_type": "stream",
     "text": [
      "Target: 1\n",
      "Currents: 6.945478746972208e-07\n",
      "Testing \n",
      "\n",
      "Currents: [6.94547875e-07 7.59855559e-07 6.13326545e-09 7.13899495e-09\n",
      " 4.02919887e-09 9.62251787e-09 1.93710956e-09 4.07640374e-09\n",
      " 7.20345007e-10]\n",
      "Target: 1.0\n",
      "Accuracy: 0\n",
      "New Target Threshold:3.5000000000000004e-05\n",
      "Training \n",
      "\n",
      "\n",
      "Drain 8 Only\n"
     ]
    },
    {
     "data": {
      "application/vnd.jupyter.widget-view+json": {
       "model_id": "bc996f7f22bc4b0fbce92919881ba99a",
       "version_major": 2,
       "version_minor": 0
      },
      "text/plain": [
       "Running Simulation :   0%|          | 0/200 [00:00<?, ?it/s]"
      ]
     },
     "metadata": {},
     "output_type": "display_data"
    },
    {
     "name": "stdout",
     "output_type": "stream",
     "text": [
      "Target: 1\n",
      "Currents: 0.0\n",
      "Training \n",
      "\n",
      "\n",
      "Drain 1 Only\n"
     ]
    },
    {
     "data": {
      "application/vnd.jupyter.widget-view+json": {
       "model_id": "1adfc0c4abfa442eae4fabe550c73b7d",
       "version_major": 2,
       "version_minor": 0
      },
      "text/plain": [
       "Running Simulation :   0%|          | 0/200 [00:00<?, ?it/s]"
      ]
     },
     "metadata": {},
     "output_type": "display_data"
    },
    {
     "name": "stdout",
     "output_type": "stream",
     "text": [
      "Target: 1\n",
      "Currents: 1.0009122401748676e-05\n",
      "Training \n",
      "\n",
      "\n",
      "Drain 9 Only\n"
     ]
    },
    {
     "data": {
      "application/vnd.jupyter.widget-view+json": {
       "model_id": "920dfd0a39144f9b9c930d43b6a660a8",
       "version_major": 2,
       "version_minor": 0
      },
      "text/plain": [
       "Running Simulation :   0%|          | 0/200 [00:00<?, ?it/s]"
      ]
     },
     "metadata": {},
     "output_type": "display_data"
    },
    {
     "name": "stdout",
     "output_type": "stream",
     "text": [
      "Target: 1\n",
      "Currents: 0.0\n",
      "Training \n",
      "\n",
      "\n",
      "Drain 6 Only\n"
     ]
    },
    {
     "data": {
      "application/vnd.jupyter.widget-view+json": {
       "model_id": "f6fb82d2fdd24840aed7cf6b63d6faf0",
       "version_major": 2,
       "version_minor": 0
      },
      "text/plain": [
       "Running Simulation :   0%|          | 0/200 [00:00<?, ?it/s]"
      ]
     },
     "metadata": {},
     "output_type": "display_data"
    },
    {
     "name": "stdout",
     "output_type": "stream",
     "text": [
      "Target: 1\n",
      "Currents: 0.0\n",
      "Training \n",
      "\n",
      "\n",
      "Drain 7 Only\n"
     ]
    },
    {
     "data": {
      "application/vnd.jupyter.widget-view+json": {
       "model_id": "c75a04431f274cdd8f6803bb55460911",
       "version_major": 2,
       "version_minor": 0
      },
      "text/plain": [
       "Running Simulation :   0%|          | 0/200 [00:00<?, ?it/s]"
      ]
     },
     "metadata": {},
     "output_type": "display_data"
    },
    {
     "name": "stdout",
     "output_type": "stream",
     "text": [
      "Target: 1\n",
      "Currents: 0.0\n",
      "Training \n",
      "\n",
      "\n",
      "Drain 5 Only\n"
     ]
    },
    {
     "data": {
      "application/vnd.jupyter.widget-view+json": {
       "model_id": "6ef0e17c5a3f4d3292fba67d6e0fb0f4",
       "version_major": 2,
       "version_minor": 0
      },
      "text/plain": [
       "Running Simulation :   0%|          | 0/200 [00:00<?, ?it/s]"
      ]
     },
     "metadata": {},
     "output_type": "display_data"
    },
    {
     "name": "stdout",
     "output_type": "stream",
     "text": [
      "Target: 1\n",
      "Currents: 0.0\n",
      "Training \n",
      "\n",
      "\n",
      "Drain 2 Only\n"
     ]
    },
    {
     "data": {
      "application/vnd.jupyter.widget-view+json": {
       "model_id": "b571b11a28444628803ab893fa9a822f",
       "version_major": 2,
       "version_minor": 0
      },
      "text/plain": [
       "Running Simulation :   0%|          | 0/200 [00:00<?, ?it/s]"
      ]
     },
     "metadata": {},
     "output_type": "display_data"
    },
    {
     "name": "stdout",
     "output_type": "stream",
     "text": [
      "Target: 1\n",
      "Currents: 0.0\n",
      "Training \n",
      "\n",
      "\n",
      "Drain 3 Only\n"
     ]
    },
    {
     "data": {
      "application/vnd.jupyter.widget-view+json": {
       "model_id": "1e97dcbcaa9843ac8dc7cc5b925e902d",
       "version_major": 2,
       "version_minor": 0
      },
      "text/plain": [
       "Running Simulation :   0%|          | 0/200 [00:00<?, ?it/s]"
      ]
     },
     "metadata": {},
     "output_type": "display_data"
    },
    {
     "name": "stdout",
     "output_type": "stream",
     "text": [
      "Target: 1\n",
      "Currents: 0.0\n",
      "Training \n",
      "\n",
      "\n",
      "Drain 4 Only\n"
     ]
    },
    {
     "data": {
      "application/vnd.jupyter.widget-view+json": {
       "model_id": "879ffb984f9a457eb419583fee07abd8",
       "version_major": 2,
       "version_minor": 0
      },
      "text/plain": [
       "Running Simulation :   0%|          | 0/200 [00:00<?, ?it/s]"
      ]
     },
     "metadata": {},
     "output_type": "display_data"
    },
    {
     "name": "stdout",
     "output_type": "stream",
     "text": [
      "Target: 1\n",
      "Currents: 0.0\n",
      "\n",
      "All Drains\n"
     ]
    },
    {
     "data": {
      "application/vnd.jupyter.widget-view+json": {
       "model_id": "3cdd9089700d4d19980f393da9cff0f3",
       "version_major": 2,
       "version_minor": 0
      },
      "text/plain": [
       "Running Simulation :   0%|          | 0/200 [00:00<?, ?it/s]"
      ]
     },
     "metadata": {},
     "output_type": "display_data"
    },
    {
     "name": "stdout",
     "output_type": "stream",
     "text": [
      "Target: 1\n",
      "Currents: 5.183705115375551e-07\n",
      "Testing \n",
      "\n",
      "Currents: [5.18370512e-07 5.62104004e-07 5.17612818e-09 5.93792977e-09\n",
      " 3.28752766e-09 8.79560487e-09 2.08366278e-09 4.51692151e-09\n",
      " 7.98441355e-10]\n",
      "Target: 1.0\n",
      "Accuracy: 0\n",
      "New Target Threshold:3.5833333333333335e-05\n",
      "Training \n",
      "\n",
      "\n",
      "Drain 2 Only\n"
     ]
    },
    {
     "data": {
      "application/vnd.jupyter.widget-view+json": {
       "model_id": "2a7a7395f67c4123aa7780f59dba6383",
       "version_major": 2,
       "version_minor": 0
      },
      "text/plain": [
       "Running Simulation :   0%|          | 0/200 [00:00<?, ?it/s]"
      ]
     },
     "metadata": {},
     "output_type": "display_data"
    },
    {
     "name": "stdout",
     "output_type": "stream",
     "text": [
      "Target: 1\n",
      "Currents: 0.0\n",
      "Training \n",
      "\n",
      "\n",
      "Drain 9 Only\n"
     ]
    },
    {
     "data": {
      "application/vnd.jupyter.widget-view+json": {
       "model_id": "47f5c555caf74c34adee23ec7daee49a",
       "version_major": 2,
       "version_minor": 0
      },
      "text/plain": [
       "Running Simulation :   0%|          | 0/200 [00:00<?, ?it/s]"
      ]
     },
     "metadata": {},
     "output_type": "display_data"
    },
    {
     "name": "stdout",
     "output_type": "stream",
     "text": [
      "Target: 1\n",
      "Currents: 0.0\n",
      "Training \n",
      "\n",
      "\n",
      "Drain 4 Only\n"
     ]
    },
    {
     "data": {
      "application/vnd.jupyter.widget-view+json": {
       "model_id": "61bb9e22890c4b3fb8216ad927589fca",
       "version_major": 2,
       "version_minor": 0
      },
      "text/plain": [
       "Running Simulation :   0%|          | 0/200 [00:00<?, ?it/s]"
      ]
     },
     "metadata": {},
     "output_type": "display_data"
    },
    {
     "name": "stdout",
     "output_type": "stream",
     "text": [
      "Target: 1\n",
      "Currents: 0.0\n",
      "Training \n",
      "\n",
      "\n",
      "Drain 3 Only\n"
     ]
    },
    {
     "data": {
      "application/vnd.jupyter.widget-view+json": {
       "model_id": "a9868c0f26b04d2e9bbbda2f854290c1",
       "version_major": 2,
       "version_minor": 0
      },
      "text/plain": [
       "Running Simulation :   0%|          | 0/200 [00:00<?, ?it/s]"
      ]
     },
     "metadata": {},
     "output_type": "display_data"
    },
    {
     "name": "stdout",
     "output_type": "stream",
     "text": [
      "Target: 1\n",
      "Currents: 0.0\n",
      "Training \n",
      "\n",
      "\n",
      "Drain 7 Only\n"
     ]
    },
    {
     "data": {
      "application/vnd.jupyter.widget-view+json": {
       "model_id": "de3634ad43f74b9fa8b00e86c1ebe5e6",
       "version_major": 2,
       "version_minor": 0
      },
      "text/plain": [
       "Running Simulation :   0%|          | 0/200 [00:00<?, ?it/s]"
      ]
     },
     "metadata": {},
     "output_type": "display_data"
    },
    {
     "name": "stdout",
     "output_type": "stream",
     "text": [
      "Target: 1\n",
      "Currents: 0.0\n",
      "Training \n",
      "\n",
      "\n",
      "Drain 1 Only\n"
     ]
    },
    {
     "data": {
      "application/vnd.jupyter.widget-view+json": {
       "model_id": "6e9440a4311e4b04a39ddaf0e5fdd0ef",
       "version_major": 2,
       "version_minor": 0
      },
      "text/plain": [
       "Running Simulation :   0%|          | 0/200 [00:00<?, ?it/s]"
      ]
     },
     "metadata": {},
     "output_type": "display_data"
    },
    {
     "name": "stdout",
     "output_type": "stream",
     "text": [
      "Target: 1\n",
      "Currents: 1.00443916768827e-05\n",
      "Training \n",
      "\n",
      "\n",
      "Drain 6 Only\n"
     ]
    },
    {
     "data": {
      "application/vnd.jupyter.widget-view+json": {
       "model_id": "416c1cb48bbc4d61951e74a9b676b574",
       "version_major": 2,
       "version_minor": 0
      },
      "text/plain": [
       "Running Simulation :   0%|          | 0/200 [00:00<?, ?it/s]"
      ]
     },
     "metadata": {},
     "output_type": "display_data"
    },
    {
     "name": "stdout",
     "output_type": "stream",
     "text": [
      "Target: 1\n",
      "Currents: 0.0\n",
      "Training \n",
      "\n",
      "\n",
      "Drain 8 Only\n"
     ]
    },
    {
     "data": {
      "application/vnd.jupyter.widget-view+json": {
       "model_id": "f94b456415184fe9b4601d8b8a9580d1",
       "version_major": 2,
       "version_minor": 0
      },
      "text/plain": [
       "Running Simulation :   0%|          | 0/200 [00:00<?, ?it/s]"
      ]
     },
     "metadata": {},
     "output_type": "display_data"
    },
    {
     "name": "stdout",
     "output_type": "stream",
     "text": [
      "Target: 1\n",
      "Currents: 0.0\n",
      "Training \n",
      "\n",
      "\n",
      "Drain 5 Only\n"
     ]
    },
    {
     "data": {
      "application/vnd.jupyter.widget-view+json": {
       "model_id": "e4850708dc6f4eda93cafc9a899d42d3",
       "version_major": 2,
       "version_minor": 0
      },
      "text/plain": [
       "Running Simulation :   0%|          | 0/200 [00:00<?, ?it/s]"
      ]
     },
     "metadata": {},
     "output_type": "display_data"
    },
    {
     "name": "stdout",
     "output_type": "stream",
     "text": [
      "Target: 1\n",
      "Currents: 0.0\n",
      "\n",
      "All Drains\n"
     ]
    },
    {
     "data": {
      "application/vnd.jupyter.widget-view+json": {
       "model_id": "797f4597137f44628e3a04723dcd9bdd",
       "version_major": 2,
       "version_minor": 0
      },
      "text/plain": [
       "Running Simulation :   0%|          | 0/200 [00:00<?, ?it/s]"
      ]
     },
     "metadata": {},
     "output_type": "display_data"
    },
    {
     "name": "stdout",
     "output_type": "stream",
     "text": [
      "Target: 1\n",
      "Currents: 6.923429096098859e-07\n",
      "Testing \n",
      "\n",
      "Currents: [6.92342910e-07 7.61921308e-07 6.11254146e-09 7.03489152e-09\n",
      " 3.96221438e-09 9.57129860e-09 1.93850988e-09 4.09009409e-09\n",
      " 7.22790722e-10]\n",
      "Target: 1.0\n",
      "Accuracy: 0\n",
      "New Target Threshold:3.6666666666666666e-05\n",
      "Training \n",
      "\n",
      "\n",
      "Drain 6 Only\n"
     ]
    },
    {
     "data": {
      "application/vnd.jupyter.widget-view+json": {
       "model_id": "cbc276ae59a1469ba57740bcfce79cde",
       "version_major": 2,
       "version_minor": 0
      },
      "text/plain": [
       "Running Simulation :   0%|          | 0/200 [00:00<?, ?it/s]"
      ]
     },
     "metadata": {},
     "output_type": "display_data"
    },
    {
     "name": "stdout",
     "output_type": "stream",
     "text": [
      "Target: 1\n",
      "Currents: 0.0\n",
      "Training \n",
      "\n",
      "\n",
      "Drain 8 Only\n"
     ]
    },
    {
     "data": {
      "application/vnd.jupyter.widget-view+json": {
       "model_id": "6ce0a97d58f04315b4ada07de7b0babd",
       "version_major": 2,
       "version_minor": 0
      },
      "text/plain": [
       "Running Simulation :   0%|          | 0/200 [00:00<?, ?it/s]"
      ]
     },
     "metadata": {},
     "output_type": "display_data"
    },
    {
     "name": "stdout",
     "output_type": "stream",
     "text": [
      "Target: 1\n",
      "Currents: 0.0\n",
      "Training \n",
      "\n",
      "\n",
      "Drain 4 Only\n"
     ]
    },
    {
     "data": {
      "application/vnd.jupyter.widget-view+json": {
       "model_id": "d7e0856c35c84b60b1b8e4bbafc35c6a",
       "version_major": 2,
       "version_minor": 0
      },
      "text/plain": [
       "Running Simulation :   0%|          | 0/200 [00:00<?, ?it/s]"
      ]
     },
     "metadata": {},
     "output_type": "display_data"
    },
    {
     "name": "stdout",
     "output_type": "stream",
     "text": [
      "Target: 1\n",
      "Currents: 0.0\n",
      "Training \n",
      "\n",
      "\n",
      "Drain 3 Only\n"
     ]
    },
    {
     "data": {
      "application/vnd.jupyter.widget-view+json": {
       "model_id": "cceb7b3d755c4ec4b3f571047c431551",
       "version_major": 2,
       "version_minor": 0
      },
      "text/plain": [
       "Running Simulation :   0%|          | 0/200 [00:00<?, ?it/s]"
      ]
     },
     "metadata": {},
     "output_type": "display_data"
    },
    {
     "name": "stdout",
     "output_type": "stream",
     "text": [
      "Target: 1\n",
      "Currents: 0.0\n",
      "Training \n",
      "\n",
      "\n",
      "Drain 1 Only\n"
     ]
    },
    {
     "data": {
      "application/vnd.jupyter.widget-view+json": {
       "model_id": "98d9ab91ac14428d98ed83910d3343cb",
       "version_major": 2,
       "version_minor": 0
      },
      "text/plain": [
       "Running Simulation :   0%|          | 0/200 [00:00<?, ?it/s]"
      ]
     },
     "metadata": {},
     "output_type": "display_data"
    },
    {
     "name": "stdout",
     "output_type": "stream",
     "text": [
      "Target: 1\n",
      "Currents: 1.0024857543143035e-05\n",
      "Training \n",
      "\n",
      "\n",
      "Drain 7 Only\n"
     ]
    },
    {
     "data": {
      "application/vnd.jupyter.widget-view+json": {
       "model_id": "7e45d6ef392c4ab2a945668d3335e98f",
       "version_major": 2,
       "version_minor": 0
      },
      "text/plain": [
       "Running Simulation :   0%|          | 0/200 [00:00<?, ?it/s]"
      ]
     },
     "metadata": {},
     "output_type": "display_data"
    },
    {
     "name": "stdout",
     "output_type": "stream",
     "text": [
      "Target: 1\n",
      "Currents: 0.0\n",
      "Training \n",
      "\n",
      "\n",
      "Drain 9 Only\n"
     ]
    },
    {
     "data": {
      "application/vnd.jupyter.widget-view+json": {
       "model_id": "df396f20218b4e6ba4f33ba368d1da2f",
       "version_major": 2,
       "version_minor": 0
      },
      "text/plain": [
       "Running Simulation :   0%|          | 0/200 [00:00<?, ?it/s]"
      ]
     },
     "metadata": {},
     "output_type": "display_data"
    },
    {
     "name": "stdout",
     "output_type": "stream",
     "text": [
      "Target: 1\n",
      "Currents: 0.0\n",
      "Training \n",
      "\n",
      "\n",
      "Drain 2 Only\n"
     ]
    },
    {
     "data": {
      "application/vnd.jupyter.widget-view+json": {
       "model_id": "52d3219781bd434a846879d04a655fc9",
       "version_major": 2,
       "version_minor": 0
      },
      "text/plain": [
       "Running Simulation :   0%|          | 0/200 [00:00<?, ?it/s]"
      ]
     },
     "metadata": {},
     "output_type": "display_data"
    },
    {
     "name": "stdout",
     "output_type": "stream",
     "text": [
      "Target: 1\n",
      "Currents: 0.0\n",
      "Training \n",
      "\n",
      "\n",
      "Drain 5 Only\n"
     ]
    },
    {
     "data": {
      "application/vnd.jupyter.widget-view+json": {
       "model_id": "3d4011ddfdb049ceb3e6c298d9ad8972",
       "version_major": 2,
       "version_minor": 0
      },
      "text/plain": [
       "Running Simulation :   0%|          | 0/200 [00:00<?, ?it/s]"
      ]
     },
     "metadata": {},
     "output_type": "display_data"
    },
    {
     "name": "stdout",
     "output_type": "stream",
     "text": [
      "Target: 1\n",
      "Currents: 0.0\n",
      "\n",
      "All Drains\n"
     ]
    },
    {
     "data": {
      "application/vnd.jupyter.widget-view+json": {
       "model_id": "264b6315fcfd417f81e529968f8f9c53",
       "version_major": 2,
       "version_minor": 0
      },
      "text/plain": [
       "Running Simulation :   0%|          | 0/200 [00:00<?, ?it/s]"
      ]
     },
     "metadata": {},
     "output_type": "display_data"
    },
    {
     "name": "stdout",
     "output_type": "stream",
     "text": [
      "Target: 1\n",
      "Currents: 6.490299345234977e-07\n",
      "Testing \n",
      "\n",
      "Currents: [6.49029935e-07 7.30385239e-07 6.08212385e-09 6.89478729e-09\n",
      " 3.85582853e-09 9.29485385e-09 1.94838319e-09 4.12437336e-09\n",
      " 7.28876776e-10]\n",
      "Target: 1.0\n",
      "Accuracy: 0\n",
      "New Target Threshold:3.75e-05\n",
      "Training \n",
      "\n",
      "\n",
      "Drain 8 Only\n"
     ]
    },
    {
     "data": {
      "application/vnd.jupyter.widget-view+json": {
       "model_id": "67e5a1e7460d4759872aa69d934ac9c8",
       "version_major": 2,
       "version_minor": 0
      },
      "text/plain": [
       "Running Simulation :   0%|          | 0/200 [00:00<?, ?it/s]"
      ]
     },
     "metadata": {},
     "output_type": "display_data"
    },
    {
     "name": "stdout",
     "output_type": "stream",
     "text": [
      "Target: 1\n",
      "Currents: 0.0\n",
      "Training \n",
      "\n",
      "\n",
      "Drain 2 Only\n"
     ]
    },
    {
     "data": {
      "application/vnd.jupyter.widget-view+json": {
       "model_id": "d6d3e1f9977b43efbc4b0d20ae906688",
       "version_major": 2,
       "version_minor": 0
      },
      "text/plain": [
       "Running Simulation :   0%|          | 0/200 [00:00<?, ?it/s]"
      ]
     },
     "metadata": {},
     "output_type": "display_data"
    },
    {
     "name": "stdout",
     "output_type": "stream",
     "text": [
      "Target: 1\n",
      "Currents: 0.0\n",
      "Training \n",
      "\n",
      "\n",
      "Drain 7 Only\n"
     ]
    },
    {
     "data": {
      "application/vnd.jupyter.widget-view+json": {
       "model_id": "8595561dd2fa4351b6b6c794ef15fb3f",
       "version_major": 2,
       "version_minor": 0
      },
      "text/plain": [
       "Running Simulation :   0%|          | 0/200 [00:00<?, ?it/s]"
      ]
     },
     "metadata": {},
     "output_type": "display_data"
    },
    {
     "name": "stdout",
     "output_type": "stream",
     "text": [
      "Target: 1\n",
      "Currents: 0.0\n",
      "Training \n",
      "\n",
      "\n",
      "Drain 9 Only\n"
     ]
    },
    {
     "data": {
      "application/vnd.jupyter.widget-view+json": {
       "model_id": "f60c8b0bb87d4644bcfd2b709ef4f831",
       "version_major": 2,
       "version_minor": 0
      },
      "text/plain": [
       "Running Simulation :   0%|          | 0/200 [00:00<?, ?it/s]"
      ]
     },
     "metadata": {},
     "output_type": "display_data"
    },
    {
     "name": "stdout",
     "output_type": "stream",
     "text": [
      "Target: 1\n",
      "Currents: 0.0\n",
      "Training \n",
      "\n",
      "\n",
      "Drain 3 Only\n"
     ]
    },
    {
     "data": {
      "application/vnd.jupyter.widget-view+json": {
       "model_id": "c49611172cb04b86b69f17f9eff17bb3",
       "version_major": 2,
       "version_minor": 0
      },
      "text/plain": [
       "Running Simulation :   0%|          | 0/200 [00:00<?, ?it/s]"
      ]
     },
     "metadata": {},
     "output_type": "display_data"
    },
    {
     "name": "stdout",
     "output_type": "stream",
     "text": [
      "Target: 1\n",
      "Currents: 0.0\n",
      "Training \n",
      "\n",
      "\n",
      "Drain 6 Only\n"
     ]
    },
    {
     "data": {
      "application/vnd.jupyter.widget-view+json": {
       "model_id": "c848ac71be5e4239974849d942444863",
       "version_major": 2,
       "version_minor": 0
      },
      "text/plain": [
       "Running Simulation :   0%|          | 0/200 [00:00<?, ?it/s]"
      ]
     },
     "metadata": {},
     "output_type": "display_data"
    },
    {
     "name": "stdout",
     "output_type": "stream",
     "text": [
      "Target: 1\n",
      "Currents: 0.0\n",
      "Training \n",
      "\n",
      "\n",
      "Drain 1 Only\n"
     ]
    },
    {
     "data": {
      "application/vnd.jupyter.widget-view+json": {
       "model_id": "3e9a1c1638c14236b419c3af21191ec7",
       "version_major": 2,
       "version_minor": 0
      },
      "text/plain": [
       "Running Simulation :   0%|          | 0/200 [00:00<?, ?it/s]"
      ]
     },
     "metadata": {},
     "output_type": "display_data"
    },
    {
     "name": "stdout",
     "output_type": "stream",
     "text": [
      "Target: 1\n",
      "Currents: 1.0036993690085506e-05\n",
      "Training \n",
      "\n",
      "\n",
      "Drain 4 Only\n"
     ]
    },
    {
     "data": {
      "application/vnd.jupyter.widget-view+json": {
       "model_id": "eac84a0e39ee4a0dbd0b604162e11ffb",
       "version_major": 2,
       "version_minor": 0
      },
      "text/plain": [
       "Running Simulation :   0%|          | 0/200 [00:00<?, ?it/s]"
      ]
     },
     "metadata": {},
     "output_type": "display_data"
    },
    {
     "name": "stdout",
     "output_type": "stream",
     "text": [
      "Target: 1\n",
      "Currents: 0.0\n",
      "Training \n",
      "\n",
      "\n",
      "Drain 5 Only\n"
     ]
    },
    {
     "data": {
      "application/vnd.jupyter.widget-view+json": {
       "model_id": "59716954c8ff490e8c1fe84929509f80",
       "version_major": 2,
       "version_minor": 0
      },
      "text/plain": [
       "Running Simulation :   0%|          | 0/200 [00:00<?, ?it/s]"
      ]
     },
     "metadata": {},
     "output_type": "display_data"
    },
    {
     "name": "stdout",
     "output_type": "stream",
     "text": [
      "Target: 1\n",
      "Currents: 0.0\n",
      "\n",
      "All Drains\n"
     ]
    },
    {
     "data": {
      "application/vnd.jupyter.widget-view+json": {
       "model_id": "a42794bf62994af2ba457b0f52729cc7",
       "version_major": 2,
       "version_minor": 0
      },
      "text/plain": [
       "Running Simulation :   0%|          | 0/200 [00:00<?, ?it/s]"
      ]
     },
     "metadata": {},
     "output_type": "display_data"
    },
    {
     "name": "stdout",
     "output_type": "stream",
     "text": [
      "Target: 1\n",
      "Currents: 7.425745184790309e-07\n",
      "Testing \n",
      "\n",
      "Currents: [7.42574518e-07 7.94119759e-07 6.20000345e-09 7.28706736e-09\n",
      " 4.12756754e-09 9.71960416e-09 1.92342031e-09 4.03370097e-09\n",
      " 7.12768790e-10]\n",
      "Target: 1.0\n",
      "Accuracy: 0\n",
      "New Target Threshold:3.833333333333333e-05\n",
      "Training \n",
      "\n",
      "\n",
      "Drain 5 Only\n"
     ]
    },
    {
     "data": {
      "application/vnd.jupyter.widget-view+json": {
       "model_id": "499b0c5c67f04763a00f74e775f6e8bd",
       "version_major": 2,
       "version_minor": 0
      },
      "text/plain": [
       "Running Simulation :   0%|          | 0/200 [00:00<?, ?it/s]"
      ]
     },
     "metadata": {},
     "output_type": "display_data"
    },
    {
     "name": "stdout",
     "output_type": "stream",
     "text": [
      "Target: 1\n",
      "Currents: 0.0\n",
      "Training \n",
      "\n",
      "\n",
      "Drain 7 Only\n"
     ]
    },
    {
     "data": {
      "application/vnd.jupyter.widget-view+json": {
       "model_id": "5fe1e6f07ac64990b6f7b9473befccec",
       "version_major": 2,
       "version_minor": 0
      },
      "text/plain": [
       "Running Simulation :   0%|          | 0/200 [00:00<?, ?it/s]"
      ]
     },
     "metadata": {},
     "output_type": "display_data"
    },
    {
     "name": "stdout",
     "output_type": "stream",
     "text": [
      "Target: 1\n",
      "Currents: 0.0\n",
      "Training \n",
      "\n",
      "\n",
      "Drain 4 Only\n"
     ]
    },
    {
     "data": {
      "application/vnd.jupyter.widget-view+json": {
       "model_id": "126f9f76c0ae4a05a0420837ebcd655e",
       "version_major": 2,
       "version_minor": 0
      },
      "text/plain": [
       "Running Simulation :   0%|          | 0/200 [00:00<?, ?it/s]"
      ]
     },
     "metadata": {},
     "output_type": "display_data"
    },
    {
     "name": "stdout",
     "output_type": "stream",
     "text": [
      "Target: 1\n",
      "Currents: 0.0\n",
      "Training \n",
      "\n",
      "\n",
      "Drain 2 Only\n"
     ]
    },
    {
     "data": {
      "application/vnd.jupyter.widget-view+json": {
       "model_id": "6244344f72b94eb2885e35ad26e9ffa6",
       "version_major": 2,
       "version_minor": 0
      },
      "text/plain": [
       "Running Simulation :   0%|          | 0/200 [00:00<?, ?it/s]"
      ]
     },
     "metadata": {},
     "output_type": "display_data"
    },
    {
     "name": "stdout",
     "output_type": "stream",
     "text": [
      "Target: 1\n",
      "Currents: 0.0\n",
      "Training \n",
      "\n",
      "\n",
      "Drain 6 Only\n"
     ]
    },
    {
     "data": {
      "application/vnd.jupyter.widget-view+json": {
       "model_id": "b1c820f9d5b74d9c9ec56c5afe8b6bd3",
       "version_major": 2,
       "version_minor": 0
      },
      "text/plain": [
       "Running Simulation :   0%|          | 0/200 [00:00<?, ?it/s]"
      ]
     },
     "metadata": {},
     "output_type": "display_data"
    },
    {
     "name": "stdout",
     "output_type": "stream",
     "text": [
      "Target: 1\n",
      "Currents: 0.0\n",
      "Training \n",
      "\n",
      "\n",
      "Drain 8 Only\n"
     ]
    },
    {
     "data": {
      "application/vnd.jupyter.widget-view+json": {
       "model_id": "a2ba263a2ed74904bfbc1c97429f2051",
       "version_major": 2,
       "version_minor": 0
      },
      "text/plain": [
       "Running Simulation :   0%|          | 0/200 [00:00<?, ?it/s]"
      ]
     },
     "metadata": {},
     "output_type": "display_data"
    },
    {
     "name": "stdout",
     "output_type": "stream",
     "text": [
      "Target: 1\n",
      "Currents: 0.0\n",
      "Training \n",
      "\n",
      "\n",
      "Drain 3 Only\n"
     ]
    },
    {
     "data": {
      "application/vnd.jupyter.widget-view+json": {
       "model_id": "b887c4b331d145228869510c338f2e61",
       "version_major": 2,
       "version_minor": 0
      },
      "text/plain": [
       "Running Simulation :   0%|          | 0/200 [00:00<?, ?it/s]"
      ]
     },
     "metadata": {},
     "output_type": "display_data"
    },
    {
     "name": "stdout",
     "output_type": "stream",
     "text": [
      "Target: 1\n",
      "Currents: 0.0\n",
      "Training \n",
      "\n",
      "\n",
      "Drain 1 Only\n"
     ]
    },
    {
     "data": {
      "application/vnd.jupyter.widget-view+json": {
       "model_id": "24671aec4a034272a71a9960c4195c3d",
       "version_major": 2,
       "version_minor": 0
      },
      "text/plain": [
       "Running Simulation :   0%|          | 0/200 [00:00<?, ?it/s]"
      ]
     },
     "metadata": {},
     "output_type": "display_data"
    },
    {
     "name": "stdout",
     "output_type": "stream",
     "text": [
      "Target: 1\n",
      "Currents: 1.0035218119236334e-05\n",
      "Training \n",
      "\n",
      "\n",
      "Drain 9 Only\n"
     ]
    },
    {
     "data": {
      "application/vnd.jupyter.widget-view+json": {
       "model_id": "4b6ac849a0bf4cbaa3ed5df85c17ad71",
       "version_major": 2,
       "version_minor": 0
      },
      "text/plain": [
       "Running Simulation :   0%|          | 0/200 [00:00<?, ?it/s]"
      ]
     },
     "metadata": {},
     "output_type": "display_data"
    },
    {
     "name": "stdout",
     "output_type": "stream",
     "text": [
      "Target: 1\n",
      "Currents: 0.0\n",
      "\n",
      "All Drains\n"
     ]
    },
    {
     "data": {
      "application/vnd.jupyter.widget-view+json": {
       "model_id": "ca486fea8c1a40f9942bed9fe10c08d7",
       "version_major": 2,
       "version_minor": 0
      },
      "text/plain": [
       "Running Simulation :   0%|          | 0/200 [00:00<?, ?it/s]"
      ]
     },
     "metadata": {},
     "output_type": "display_data"
    },
    {
     "name": "stdout",
     "output_type": "stream",
     "text": [
      "Target: 1\n",
      "Currents: 8.042040706471599e-07\n",
      "Testing \n",
      "\n",
      "Currents: [8.04204071e-07 8.23943085e-07 6.27000173e-09 7.43414442e-09\n",
      " 4.22599617e-09 9.58912544e-09 1.88312040e-09 3.92397184e-09\n",
      " 6.93325786e-10]\n",
      "Target: 1.0\n",
      "Accuracy: 0\n",
      "New Target Threshold:3.916666666666666e-05\n",
      "Training \n",
      "\n",
      "\n",
      "Drain 1 Only\n"
     ]
    },
    {
     "data": {
      "application/vnd.jupyter.widget-view+json": {
       "model_id": "e8c0f4cf5c6e4516be6d239b8ce3523b",
       "version_major": 2,
       "version_minor": 0
      },
      "text/plain": [
       "Running Simulation :   0%|          | 0/200 [00:00<?, ?it/s]"
      ]
     },
     "metadata": {},
     "output_type": "display_data"
    },
    {
     "name": "stdout",
     "output_type": "stream",
     "text": [
      "Target: 1\n",
      "Currents: 1.0003916126411744e-05\n",
      "Training \n",
      "\n",
      "\n",
      "Drain 4 Only\n"
     ]
    },
    {
     "data": {
      "application/vnd.jupyter.widget-view+json": {
       "model_id": "a404725fe11a456fb983ebc19901e2c7",
       "version_major": 2,
       "version_minor": 0
      },
      "text/plain": [
       "Running Simulation :   0%|          | 0/200 [00:00<?, ?it/s]"
      ]
     },
     "metadata": {},
     "output_type": "display_data"
    },
    {
     "name": "stdout",
     "output_type": "stream",
     "text": [
      "Target: 1\n",
      "Currents: 0.0\n",
      "Training \n",
      "\n",
      "\n",
      "Drain 9 Only\n"
     ]
    },
    {
     "data": {
      "application/vnd.jupyter.widget-view+json": {
       "model_id": "f4ab5b4ad4594c99ada3fea13a768b44",
       "version_major": 2,
       "version_minor": 0
      },
      "text/plain": [
       "Running Simulation :   0%|          | 0/200 [00:00<?, ?it/s]"
      ]
     },
     "metadata": {},
     "output_type": "display_data"
    },
    {
     "name": "stdout",
     "output_type": "stream",
     "text": [
      "Target: 1\n",
      "Currents: 0.0\n",
      "Training \n",
      "\n",
      "\n",
      "Drain 8 Only\n"
     ]
    },
    {
     "data": {
      "application/vnd.jupyter.widget-view+json": {
       "model_id": "361d44df9c004fa4a1fce8fecdd4b155",
       "version_major": 2,
       "version_minor": 0
      },
      "text/plain": [
       "Running Simulation :   0%|          | 0/200 [00:00<?, ?it/s]"
      ]
     },
     "metadata": {},
     "output_type": "display_data"
    },
    {
     "name": "stdout",
     "output_type": "stream",
     "text": [
      "Target: 1\n",
      "Currents: 0.0\n",
      "Training \n",
      "\n",
      "\n",
      "Drain 6 Only\n"
     ]
    },
    {
     "data": {
      "application/vnd.jupyter.widget-view+json": {
       "model_id": "ed110cdef1424b5cb9c941e807cada2d",
       "version_major": 2,
       "version_minor": 0
      },
      "text/plain": [
       "Running Simulation :   0%|          | 0/200 [00:00<?, ?it/s]"
      ]
     },
     "metadata": {},
     "output_type": "display_data"
    },
    {
     "name": "stdout",
     "output_type": "stream",
     "text": [
      "Target: 1\n",
      "Currents: 0.0\n",
      "Training \n",
      "\n",
      "\n",
      "Drain 3 Only\n"
     ]
    },
    {
     "data": {
      "application/vnd.jupyter.widget-view+json": {
       "model_id": "5f18442af68e42368e0363f7d02df80c",
       "version_major": 2,
       "version_minor": 0
      },
      "text/plain": [
       "Running Simulation :   0%|          | 0/200 [00:00<?, ?it/s]"
      ]
     },
     "metadata": {},
     "output_type": "display_data"
    },
    {
     "name": "stdout",
     "output_type": "stream",
     "text": [
      "Target: 1\n",
      "Currents: 0.0\n",
      "Training \n",
      "\n",
      "\n",
      "Drain 5 Only\n"
     ]
    },
    {
     "data": {
      "application/vnd.jupyter.widget-view+json": {
       "model_id": "e4179263ca6049debc9017f8e49dcff4",
       "version_major": 2,
       "version_minor": 0
      },
      "text/plain": [
       "Running Simulation :   0%|          | 0/200 [00:00<?, ?it/s]"
      ]
     },
     "metadata": {},
     "output_type": "display_data"
    },
    {
     "name": "stdout",
     "output_type": "stream",
     "text": [
      "Target: 1\n",
      "Currents: 0.0\n",
      "Training \n",
      "\n",
      "\n",
      "Drain 2 Only\n"
     ]
    },
    {
     "data": {
      "application/vnd.jupyter.widget-view+json": {
       "model_id": "32fcc87d0baf4485b1706d2bc95a5796",
       "version_major": 2,
       "version_minor": 0
      },
      "text/plain": [
       "Running Simulation :   0%|          | 0/200 [00:00<?, ?it/s]"
      ]
     },
     "metadata": {},
     "output_type": "display_data"
    },
    {
     "name": "stdout",
     "output_type": "stream",
     "text": [
      "Target: 1\n",
      "Currents: 0.0\n",
      "Training \n",
      "\n",
      "\n",
      "Drain 7 Only\n"
     ]
    },
    {
     "data": {
      "application/vnd.jupyter.widget-view+json": {
       "model_id": "b0d82ea2e3fa431da47a8f2dfc4a02ca",
       "version_major": 2,
       "version_minor": 0
      },
      "text/plain": [
       "Running Simulation :   0%|          | 0/200 [00:00<?, ?it/s]"
      ]
     },
     "metadata": {},
     "output_type": "display_data"
    },
    {
     "name": "stdout",
     "output_type": "stream",
     "text": [
      "Target: 1\n",
      "Currents: 0.0\n",
      "\n",
      "All Drains\n"
     ]
    },
    {
     "data": {
      "application/vnd.jupyter.widget-view+json": {
       "model_id": "d060edad7a324f0ebca242544a188b4d",
       "version_major": 2,
       "version_minor": 0
      },
      "text/plain": [
       "Running Simulation :   0%|          | 0/200 [00:00<?, ?it/s]"
      ]
     },
     "metadata": {},
     "output_type": "display_data"
    },
    {
     "name": "stdout",
     "output_type": "stream",
     "text": [
      "Target: 1\n",
      "Currents: 5.20612886359209e-07\n",
      "Testing \n",
      "\n",
      "Currents: [5.20612886e-07 5.80979506e-07 4.80843195e-09 5.41590588e-09\n",
      " 3.02960873e-09 8.50667818e-09 2.12884990e-09 4.65076494e-09\n",
      " 8.22166769e-10]\n",
      "Target: 1.0\n",
      "Accuracy: 0\n",
      "New Target Threshold:3.999999999999999e-05\n",
      "Training \n",
      "\n",
      "\n",
      "Drain 1 Only\n"
     ]
    },
    {
     "data": {
      "application/vnd.jupyter.widget-view+json": {
       "model_id": "2a45a9150d044cdaa1c219c0f9c48d7d",
       "version_major": 2,
       "version_minor": 0
      },
      "text/plain": [
       "Running Simulation :   0%|          | 0/200 [00:00<?, ?it/s]"
      ]
     },
     "metadata": {},
     "output_type": "display_data"
    },
    {
     "name": "stdout",
     "output_type": "stream",
     "text": [
      "Target: 1\n",
      "Currents: 1.0023827415088771e-05\n",
      "Training \n",
      "\n",
      "\n",
      "Drain 5 Only\n"
     ]
    },
    {
     "data": {
      "application/vnd.jupyter.widget-view+json": {
       "model_id": "516f2c894e75469f967095e40dc56594",
       "version_major": 2,
       "version_minor": 0
      },
      "text/plain": [
       "Running Simulation :   0%|          | 0/200 [00:00<?, ?it/s]"
      ]
     },
     "metadata": {},
     "output_type": "display_data"
    },
    {
     "name": "stdout",
     "output_type": "stream",
     "text": [
      "Target: 1\n",
      "Currents: 0.0\n",
      "Training \n",
      "\n",
      "\n",
      "Drain 3 Only\n"
     ]
    },
    {
     "data": {
      "application/vnd.jupyter.widget-view+json": {
       "model_id": "abfe095912f14f63a3d52d0bac681c37",
       "version_major": 2,
       "version_minor": 0
      },
      "text/plain": [
       "Running Simulation :   0%|          | 0/200 [00:00<?, ?it/s]"
      ]
     },
     "metadata": {},
     "output_type": "display_data"
    },
    {
     "name": "stdout",
     "output_type": "stream",
     "text": [
      "Target: 1\n",
      "Currents: 0.0\n",
      "Training \n",
      "\n",
      "\n",
      "Drain 6 Only\n"
     ]
    },
    {
     "data": {
      "application/vnd.jupyter.widget-view+json": {
       "model_id": "ee0b090cc8cd4b45bb4b7c8b7e1f64ac",
       "version_major": 2,
       "version_minor": 0
      },
      "text/plain": [
       "Running Simulation :   0%|          | 0/200 [00:00<?, ?it/s]"
      ]
     },
     "metadata": {},
     "output_type": "display_data"
    },
    {
     "name": "stdout",
     "output_type": "stream",
     "text": [
      "Target: 1\n",
      "Currents: 0.0\n",
      "Training \n",
      "\n",
      "\n",
      "Drain 2 Only\n"
     ]
    },
    {
     "data": {
      "application/vnd.jupyter.widget-view+json": {
       "model_id": "e64c97220f3643a08d782e24af5fa760",
       "version_major": 2,
       "version_minor": 0
      },
      "text/plain": [
       "Running Simulation :   0%|          | 0/200 [00:00<?, ?it/s]"
      ]
     },
     "metadata": {},
     "output_type": "display_data"
    },
    {
     "name": "stdout",
     "output_type": "stream",
     "text": [
      "Target: 1\n",
      "Currents: 0.0\n",
      "Training \n",
      "\n",
      "\n",
      "Drain 8 Only\n"
     ]
    },
    {
     "data": {
      "application/vnd.jupyter.widget-view+json": {
       "model_id": "d8da53352d0a4ff59c8177a6d66930fe",
       "version_major": 2,
       "version_minor": 0
      },
      "text/plain": [
       "Running Simulation :   0%|          | 0/200 [00:00<?, ?it/s]"
      ]
     },
     "metadata": {},
     "output_type": "display_data"
    },
    {
     "name": "stdout",
     "output_type": "stream",
     "text": [
      "Target: 1\n",
      "Currents: 0.0\n",
      "Training \n",
      "\n",
      "\n",
      "Drain 4 Only\n"
     ]
    },
    {
     "data": {
      "application/vnd.jupyter.widget-view+json": {
       "model_id": "0687dec3ab914dc39ab1bc7353206737",
       "version_major": 2,
       "version_minor": 0
      },
      "text/plain": [
       "Running Simulation :   0%|          | 0/200 [00:00<?, ?it/s]"
      ]
     },
     "metadata": {},
     "output_type": "display_data"
    },
    {
     "name": "stdout",
     "output_type": "stream",
     "text": [
      "Target: 1\n",
      "Currents: 0.0\n",
      "Training \n",
      "\n",
      "\n",
      "Drain 9 Only\n"
     ]
    },
    {
     "data": {
      "application/vnd.jupyter.widget-view+json": {
       "model_id": "3d129dc182e440358a226ea134b7ec35",
       "version_major": 2,
       "version_minor": 0
      },
      "text/plain": [
       "Running Simulation :   0%|          | 0/200 [00:00<?, ?it/s]"
      ]
     },
     "metadata": {},
     "output_type": "display_data"
    },
    {
     "name": "stdout",
     "output_type": "stream",
     "text": [
      "Target: 1\n",
      "Currents: 0.0\n",
      "Training \n",
      "\n",
      "\n",
      "Drain 7 Only\n"
     ]
    },
    {
     "data": {
      "application/vnd.jupyter.widget-view+json": {
       "model_id": "bf83f6fbed214f31aa0b8fa238236565",
       "version_major": 2,
       "version_minor": 0
      },
      "text/plain": [
       "Running Simulation :   0%|          | 0/200 [00:00<?, ?it/s]"
      ]
     },
     "metadata": {},
     "output_type": "display_data"
    },
    {
     "name": "stdout",
     "output_type": "stream",
     "text": [
      "Target: 1\n",
      "Currents: 0.0\n",
      "\n",
      "All Drains\n"
     ]
    },
    {
     "data": {
      "application/vnd.jupyter.widget-view+json": {
       "model_id": "6ea2c26025c244b89e9583871a8f1827",
       "version_major": 2,
       "version_minor": 0
      },
      "text/plain": [
       "Running Simulation :   0%|          | 0/200 [00:00<?, ?it/s]"
      ]
     },
     "metadata": {},
     "output_type": "display_data"
    },
    {
     "name": "stdout",
     "output_type": "stream",
     "text": [
      "Target: 1\n",
      "Currents: 4.629539229803965e-07\n",
      "Testing \n",
      "\n",
      "Currents: [4.62953923e-07 5.09880812e-07 4.23086161e-09 4.90287250e-09\n",
      " 2.80535059e-09 8.76656286e-09 2.23793728e-09 4.92495184e-09\n",
      " 8.70674926e-10]\n",
      "Target: 1.0\n",
      "Accuracy: 0\n",
      "New Target Threshold:4.083333333333332e-05\n",
      "Training \n",
      "\n",
      "\n",
      "Drain 4 Only\n"
     ]
    },
    {
     "data": {
      "application/vnd.jupyter.widget-view+json": {
       "model_id": "82e710c3209d4458821d235e7e339cd8",
       "version_major": 2,
       "version_minor": 0
      },
      "text/plain": [
       "Running Simulation :   0%|          | 0/200 [00:00<?, ?it/s]"
      ]
     },
     "metadata": {},
     "output_type": "display_data"
    },
    {
     "name": "stdout",
     "output_type": "stream",
     "text": [
      "Target: 1\n",
      "Currents: 0.0\n",
      "Training \n",
      "\n",
      "\n",
      "Drain 8 Only\n"
     ]
    },
    {
     "data": {
      "application/vnd.jupyter.widget-view+json": {
       "model_id": "8b2c6ff530684a029582a39f123973e0",
       "version_major": 2,
       "version_minor": 0
      },
      "text/plain": [
       "Running Simulation :   0%|          | 0/200 [00:00<?, ?it/s]"
      ]
     },
     "metadata": {},
     "output_type": "display_data"
    },
    {
     "name": "stdout",
     "output_type": "stream",
     "text": [
      "Target: 1\n",
      "Currents: 0.0\n",
      "Training \n",
      "\n",
      "\n",
      "Drain 6 Only\n"
     ]
    },
    {
     "data": {
      "application/vnd.jupyter.widget-view+json": {
       "model_id": "9311d35d3c6e42c4877519cd647a077c",
       "version_major": 2,
       "version_minor": 0
      },
      "text/plain": [
       "Running Simulation :   0%|          | 0/200 [00:00<?, ?it/s]"
      ]
     },
     "metadata": {},
     "output_type": "display_data"
    },
    {
     "name": "stdout",
     "output_type": "stream",
     "text": [
      "Target: 1\n",
      "Currents: 0.0\n",
      "Training \n",
      "\n",
      "\n",
      "Drain 2 Only\n"
     ]
    },
    {
     "data": {
      "application/vnd.jupyter.widget-view+json": {
       "model_id": "de63020941fd42caa2f1781ad8347d9a",
       "version_major": 2,
       "version_minor": 0
      },
      "text/plain": [
       "Running Simulation :   0%|          | 0/200 [00:00<?, ?it/s]"
      ]
     },
     "metadata": {},
     "output_type": "display_data"
    },
    {
     "name": "stdout",
     "output_type": "stream",
     "text": [
      "Target: 1\n",
      "Currents: 0.0\n",
      "Training \n",
      "\n",
      "\n",
      "Drain 3 Only\n"
     ]
    },
    {
     "data": {
      "application/vnd.jupyter.widget-view+json": {
       "model_id": "3b88d4d019d74b60851df8deb8c836fd",
       "version_major": 2,
       "version_minor": 0
      },
      "text/plain": [
       "Running Simulation :   0%|          | 0/200 [00:00<?, ?it/s]"
      ]
     },
     "metadata": {},
     "output_type": "display_data"
    },
    {
     "name": "stdout",
     "output_type": "stream",
     "text": [
      "Target: 1\n",
      "Currents: 0.0\n",
      "Training \n",
      "\n",
      "\n",
      "Drain 7 Only\n"
     ]
    },
    {
     "data": {
      "application/vnd.jupyter.widget-view+json": {
       "model_id": "3e5c6d25f04b4775968c84a8a0b50df0",
       "version_major": 2,
       "version_minor": 0
      },
      "text/plain": [
       "Running Simulation :   0%|          | 0/200 [00:00<?, ?it/s]"
      ]
     },
     "metadata": {},
     "output_type": "display_data"
    },
    {
     "name": "stdout",
     "output_type": "stream",
     "text": [
      "Target: 1\n",
      "Currents: 0.0\n",
      "Training \n",
      "\n",
      "\n",
      "Drain 9 Only\n"
     ]
    },
    {
     "data": {
      "application/vnd.jupyter.widget-view+json": {
       "model_id": "1dbd653ff891423eb87107a6770b2675",
       "version_major": 2,
       "version_minor": 0
      },
      "text/plain": [
       "Running Simulation :   0%|          | 0/200 [00:00<?, ?it/s]"
      ]
     },
     "metadata": {},
     "output_type": "display_data"
    },
    {
     "name": "stdout",
     "output_type": "stream",
     "text": [
      "Target: 1\n",
      "Currents: 0.0\n",
      "Training \n",
      "\n",
      "\n",
      "Drain 1 Only\n"
     ]
    },
    {
     "data": {
      "application/vnd.jupyter.widget-view+json": {
       "model_id": "e3a3565b3c364e5eb9d3fa66a7028851",
       "version_major": 2,
       "version_minor": 0
      },
      "text/plain": [
       "Running Simulation :   0%|          | 0/200 [00:00<?, ?it/s]"
      ]
     },
     "metadata": {},
     "output_type": "display_data"
    },
    {
     "name": "stdout",
     "output_type": "stream",
     "text": [
      "Target: 1\n",
      "Currents: 1.0059962026081528e-05\n",
      "Training \n",
      "\n",
      "\n",
      "Drain 5 Only\n"
     ]
    },
    {
     "data": {
      "application/vnd.jupyter.widget-view+json": {
       "model_id": "225091e925ec45d5b253212a06e571c3",
       "version_major": 2,
       "version_minor": 0
      },
      "text/plain": [
       "Running Simulation :   0%|          | 0/200 [00:00<?, ?it/s]"
      ]
     },
     "metadata": {},
     "output_type": "display_data"
    },
    {
     "name": "stdout",
     "output_type": "stream",
     "text": [
      "Target: 1\n",
      "Currents: 0.0\n",
      "\n",
      "All Drains\n"
     ]
    },
    {
     "data": {
      "application/vnd.jupyter.widget-view+json": {
       "model_id": "3ae765deb8c94db6b8e05ed012a09c2c",
       "version_major": 2,
       "version_minor": 0
      },
      "text/plain": [
       "Running Simulation :   0%|          | 0/200 [00:00<?, ?it/s]"
      ]
     },
     "metadata": {},
     "output_type": "display_data"
    },
    {
     "name": "stdout",
     "output_type": "stream",
     "text": [
      "Target: 1\n",
      "Currents: 7.689765549005304e-07\n",
      "Testing \n",
      "\n",
      "Currents: [7.68976555e-07 8.01687959e-07 6.13785369e-09 7.29567477e-09\n",
      " 4.17089607e-09 9.80918523e-09 1.89874004e-09 3.95329765e-09\n",
      " 6.98490228e-10]\n",
      "Target: 1.0\n",
      "Accuracy: 0\n",
      "New Target Threshold:4.166666666666665e-05\n",
      "Training \n",
      "\n",
      "\n",
      "Drain 3 Only\n"
     ]
    },
    {
     "data": {
      "application/vnd.jupyter.widget-view+json": {
       "model_id": "f4e97053acea48c6926d8149dbb96ffd",
       "version_major": 2,
       "version_minor": 0
      },
      "text/plain": [
       "Running Simulation :   0%|          | 0/200 [00:00<?, ?it/s]"
      ]
     },
     "metadata": {},
     "output_type": "display_data"
    },
    {
     "name": "stdout",
     "output_type": "stream",
     "text": [
      "Target: 1\n",
      "Currents: 0.0\n",
      "Training \n",
      "\n",
      "\n",
      "Drain 7 Only\n"
     ]
    },
    {
     "data": {
      "application/vnd.jupyter.widget-view+json": {
       "model_id": "5673de9541be4a30b3b135ccf4ca3568",
       "version_major": 2,
       "version_minor": 0
      },
      "text/plain": [
       "Running Simulation :   0%|          | 0/200 [00:00<?, ?it/s]"
      ]
     },
     "metadata": {},
     "output_type": "display_data"
    },
    {
     "name": "stdout",
     "output_type": "stream",
     "text": [
      "Target: 1\n",
      "Currents: 0.0\n",
      "Training \n",
      "\n",
      "\n",
      "Drain 6 Only\n"
     ]
    },
    {
     "data": {
      "application/vnd.jupyter.widget-view+json": {
       "model_id": "7f66512dccd44904a679b816d8dd42e0",
       "version_major": 2,
       "version_minor": 0
      },
      "text/plain": [
       "Running Simulation :   0%|          | 0/200 [00:00<?, ?it/s]"
      ]
     },
     "metadata": {},
     "output_type": "display_data"
    },
    {
     "name": "stdout",
     "output_type": "stream",
     "text": [
      "Target: 1\n",
      "Currents: 0.0\n",
      "Training \n",
      "\n",
      "\n",
      "Drain 5 Only\n"
     ]
    },
    {
     "data": {
      "application/vnd.jupyter.widget-view+json": {
       "model_id": "2212efa8e3e7474287c13d44bf813c80",
       "version_major": 2,
       "version_minor": 0
      },
      "text/plain": [
       "Running Simulation :   0%|          | 0/200 [00:00<?, ?it/s]"
      ]
     },
     "metadata": {},
     "output_type": "display_data"
    },
    {
     "name": "stdout",
     "output_type": "stream",
     "text": [
      "Target: 1\n",
      "Currents: 0.0\n",
      "Training \n",
      "\n",
      "\n",
      "Drain 8 Only\n"
     ]
    },
    {
     "data": {
      "application/vnd.jupyter.widget-view+json": {
       "model_id": "48006fca11324d2dae2ddfec684b5a20",
       "version_major": 2,
       "version_minor": 0
      },
      "text/plain": [
       "Running Simulation :   0%|          | 0/200 [00:00<?, ?it/s]"
      ]
     },
     "metadata": {},
     "output_type": "display_data"
    },
    {
     "name": "stdout",
     "output_type": "stream",
     "text": [
      "Target: 1\n",
      "Currents: 0.0\n",
      "Training \n",
      "\n",
      "\n",
      "Drain 1 Only\n"
     ]
    },
    {
     "data": {
      "application/vnd.jupyter.widget-view+json": {
       "model_id": "2ad5823c93ed4473a92a46f07e0bfb0b",
       "version_major": 2,
       "version_minor": 0
      },
      "text/plain": [
       "Running Simulation :   0%|          | 0/200 [00:00<?, ?it/s]"
      ]
     },
     "metadata": {},
     "output_type": "display_data"
    },
    {
     "name": "stdout",
     "output_type": "stream",
     "text": [
      "Target: 1\n",
      "Currents: 1.0030527721552379e-05\n",
      "Training \n",
      "\n",
      "\n",
      "Drain 2 Only\n"
     ]
    },
    {
     "data": {
      "application/vnd.jupyter.widget-view+json": {
       "model_id": "438ed53a461c4e83b377f418d4f051f7",
       "version_major": 2,
       "version_minor": 0
      },
      "text/plain": [
       "Running Simulation :   0%|          | 0/200 [00:00<?, ?it/s]"
      ]
     },
     "metadata": {},
     "output_type": "display_data"
    },
    {
     "name": "stdout",
     "output_type": "stream",
     "text": [
      "Target: 1\n",
      "Currents: 0.0\n",
      "Training \n",
      "\n",
      "\n",
      "Drain 4 Only\n"
     ]
    },
    {
     "data": {
      "application/vnd.jupyter.widget-view+json": {
       "model_id": "2ea6e7473c8d436bab130a4260e6847a",
       "version_major": 2,
       "version_minor": 0
      },
      "text/plain": [
       "Running Simulation :   0%|          | 0/200 [00:00<?, ?it/s]"
      ]
     },
     "metadata": {},
     "output_type": "display_data"
    },
    {
     "name": "stdout",
     "output_type": "stream",
     "text": [
      "Target: 1\n",
      "Currents: 0.0\n",
      "Training \n",
      "\n",
      "\n",
      "Drain 9 Only\n"
     ]
    },
    {
     "data": {
      "application/vnd.jupyter.widget-view+json": {
       "model_id": "88432f06b01a4560a0d7ef6aefa560c6",
       "version_major": 2,
       "version_minor": 0
      },
      "text/plain": [
       "Running Simulation :   0%|          | 0/200 [00:00<?, ?it/s]"
      ]
     },
     "metadata": {},
     "output_type": "display_data"
    },
    {
     "name": "stdout",
     "output_type": "stream",
     "text": [
      "Target: 1\n",
      "Currents: 0.0\n",
      "\n",
      "All Drains\n"
     ]
    },
    {
     "data": {
      "application/vnd.jupyter.widget-view+json": {
       "model_id": "f9751ec2fc614cfd83b8b0494f427c22",
       "version_major": 2,
       "version_minor": 0
      },
      "text/plain": [
       "Running Simulation :   0%|          | 0/200 [00:00<?, ?it/s]"
      ]
     },
     "metadata": {},
     "output_type": "display_data"
    },
    {
     "name": "stdout",
     "output_type": "stream",
     "text": [
      "Target: 1\n",
      "Currents: 7.061497690003616e-07\n",
      "Testing \n",
      "\n",
      "Currents: [7.06149769e-07 7.68927230e-07 6.15044901e-09 7.15263190e-09\n",
      " 4.03610058e-09 9.65298210e-09 1.93778754e-09 4.07566521e-09\n",
      " 7.20210541e-10]\n",
      "Target: 1.0\n",
      "Accuracy: 0\n",
      "New Target Threshold:4.249999999999998e-05\n",
      "Training \n",
      "\n",
      "\n",
      "Drain 4 Only\n"
     ]
    },
    {
     "data": {
      "application/vnd.jupyter.widget-view+json": {
       "model_id": "6088a61fc91b4459a99b25618ddd38b6",
       "version_major": 2,
       "version_minor": 0
      },
      "text/plain": [
       "Running Simulation :   0%|          | 0/200 [00:00<?, ?it/s]"
      ]
     },
     "metadata": {},
     "output_type": "display_data"
    },
    {
     "name": "stdout",
     "output_type": "stream",
     "text": [
      "Target: 1\n",
      "Currents: 0.0\n",
      "Training \n",
      "\n",
      "\n",
      "Drain 1 Only\n"
     ]
    },
    {
     "data": {
      "application/vnd.jupyter.widget-view+json": {
       "model_id": "e0d2ac9f57bc442b9885bff86b95cee7",
       "version_major": 2,
       "version_minor": 0
      },
      "text/plain": [
       "Running Simulation :   0%|          | 0/200 [00:00<?, ?it/s]"
      ]
     },
     "metadata": {},
     "output_type": "display_data"
    },
    {
     "name": "stdout",
     "output_type": "stream",
     "text": [
      "Target: 1\n",
      "Currents: 1.001260942823289e-05\n",
      "Training \n",
      "\n",
      "\n",
      "Drain 8 Only\n"
     ]
    },
    {
     "data": {
      "application/vnd.jupyter.widget-view+json": {
       "model_id": "1427f7a74297490fa71da0665705a918",
       "version_major": 2,
       "version_minor": 0
      },
      "text/plain": [
       "Running Simulation :   0%|          | 0/200 [00:00<?, ?it/s]"
      ]
     },
     "metadata": {},
     "output_type": "display_data"
    },
    {
     "name": "stdout",
     "output_type": "stream",
     "text": [
      "Target: 1\n",
      "Currents: 0.0\n",
      "Training \n",
      "\n",
      "\n",
      "Drain 3 Only\n"
     ]
    },
    {
     "data": {
      "application/vnd.jupyter.widget-view+json": {
       "model_id": "970a09834a214661a8db2feec10cca9a",
       "version_major": 2,
       "version_minor": 0
      },
      "text/plain": [
       "Running Simulation :   0%|          | 0/200 [00:00<?, ?it/s]"
      ]
     },
     "metadata": {},
     "output_type": "display_data"
    },
    {
     "name": "stdout",
     "output_type": "stream",
     "text": [
      "Target: 1\n",
      "Currents: 0.0\n",
      "Training \n",
      "\n",
      "\n",
      "Drain 5 Only\n"
     ]
    },
    {
     "data": {
      "application/vnd.jupyter.widget-view+json": {
       "model_id": "41e2b8f20a404844ad2aa07217f9d44c",
       "version_major": 2,
       "version_minor": 0
      },
      "text/plain": [
       "Running Simulation :   0%|          | 0/200 [00:00<?, ?it/s]"
      ]
     },
     "metadata": {},
     "output_type": "display_data"
    },
    {
     "name": "stdout",
     "output_type": "stream",
     "text": [
      "Target: 1\n",
      "Currents: 0.0\n",
      "Training \n",
      "\n",
      "\n",
      "Drain 9 Only\n"
     ]
    },
    {
     "data": {
      "application/vnd.jupyter.widget-view+json": {
       "model_id": "0ff62f9f8a7b408e98744360b13cb6cc",
       "version_major": 2,
       "version_minor": 0
      },
      "text/plain": [
       "Running Simulation :   0%|          | 0/200 [00:00<?, ?it/s]"
      ]
     },
     "metadata": {},
     "output_type": "display_data"
    },
    {
     "name": "stdout",
     "output_type": "stream",
     "text": [
      "Target: 1\n",
      "Currents: 0.0\n",
      "Training \n",
      "\n",
      "\n",
      "Drain 7 Only\n"
     ]
    },
    {
     "data": {
      "application/vnd.jupyter.widget-view+json": {
       "model_id": "c7d5d844b43f4719a703a96cc7ca51c5",
       "version_major": 2,
       "version_minor": 0
      },
      "text/plain": [
       "Running Simulation :   0%|          | 0/200 [00:00<?, ?it/s]"
      ]
     },
     "metadata": {},
     "output_type": "display_data"
    },
    {
     "name": "stdout",
     "output_type": "stream",
     "text": [
      "Target: 1\n",
      "Currents: 0.0\n",
      "Training \n",
      "\n",
      "\n",
      "Drain 6 Only\n"
     ]
    },
    {
     "data": {
      "application/vnd.jupyter.widget-view+json": {
       "model_id": "11aa90d57f3c4a2d9f8f2b8b61c410b9",
       "version_major": 2,
       "version_minor": 0
      },
      "text/plain": [
       "Running Simulation :   0%|          | 0/200 [00:00<?, ?it/s]"
      ]
     },
     "metadata": {},
     "output_type": "display_data"
    },
    {
     "name": "stdout",
     "output_type": "stream",
     "text": [
      "Target: 1\n",
      "Currents: 0.0\n",
      "Training \n",
      "\n",
      "\n",
      "Drain 2 Only\n"
     ]
    },
    {
     "data": {
      "application/vnd.jupyter.widget-view+json": {
       "model_id": "2b1fb7c60b594895bcbe323a7dc7cff9",
       "version_major": 2,
       "version_minor": 0
      },
      "text/plain": [
       "Running Simulation :   0%|          | 0/200 [00:00<?, ?it/s]"
      ]
     },
     "metadata": {},
     "output_type": "display_data"
    },
    {
     "name": "stdout",
     "output_type": "stream",
     "text": [
      "Target: 1\n",
      "Currents: 0.0\n",
      "\n",
      "All Drains\n"
     ]
    },
    {
     "data": {
      "application/vnd.jupyter.widget-view+json": {
       "model_id": "44c7fc40aab349238dc38070879889fa",
       "version_major": 2,
       "version_minor": 0
      },
      "text/plain": [
       "Running Simulation :   0%|          | 0/200 [00:00<?, ?it/s]"
      ]
     },
     "metadata": {},
     "output_type": "display_data"
    },
    {
     "name": "stdout",
     "output_type": "stream",
     "text": [
      "Target: 1\n",
      "Currents: 5.22302482374718e-07\n",
      "Testing \n",
      "\n",
      "Currents: [5.22302482e-07 6.57156082e-07 5.68178190e-09 6.05699246e-09\n",
      " 3.35777026e-09 8.40841047e-09 1.96209738e-09 4.21087749e-09\n",
      " 7.44288667e-10]\n",
      "Target: 1.0\n",
      "Accuracy: 0\n",
      "New Target Threshold:4.3333333333333314e-05\n",
      "Training \n",
      "\n",
      "\n",
      "Drain 2 Only\n"
     ]
    },
    {
     "data": {
      "application/vnd.jupyter.widget-view+json": {
       "model_id": "410f6b1bb72846ec921b62bf8d3dc4b0",
       "version_major": 2,
       "version_minor": 0
      },
      "text/plain": [
       "Running Simulation :   0%|          | 0/200 [00:00<?, ?it/s]"
      ]
     },
     "metadata": {},
     "output_type": "display_data"
    },
    {
     "name": "stdout",
     "output_type": "stream",
     "text": [
      "Target: 1\n",
      "Currents: 0.0\n",
      "Training \n",
      "\n",
      "\n",
      "Drain 3 Only\n"
     ]
    },
    {
     "data": {
      "application/vnd.jupyter.widget-view+json": {
       "model_id": "709ebe30adbb45f1a0073a17d5a22225",
       "version_major": 2,
       "version_minor": 0
      },
      "text/plain": [
       "Running Simulation :   0%|          | 0/200 [00:00<?, ?it/s]"
      ]
     },
     "metadata": {},
     "output_type": "display_data"
    },
    {
     "name": "stdout",
     "output_type": "stream",
     "text": [
      "Target: 1\n",
      "Currents: 0.0\n",
      "Training \n",
      "\n",
      "\n",
      "Drain 5 Only\n"
     ]
    },
    {
     "data": {
      "application/vnd.jupyter.widget-view+json": {
       "model_id": "331174edf16444a9abc11b30973e6b7b",
       "version_major": 2,
       "version_minor": 0
      },
      "text/plain": [
       "Running Simulation :   0%|          | 0/200 [00:00<?, ?it/s]"
      ]
     },
     "metadata": {},
     "output_type": "display_data"
    },
    {
     "name": "stdout",
     "output_type": "stream",
     "text": [
      "Target: 1\n",
      "Currents: 0.0\n",
      "Training \n",
      "\n",
      "\n",
      "Drain 1 Only\n"
     ]
    },
    {
     "data": {
      "application/vnd.jupyter.widget-view+json": {
       "model_id": "1b3afc734ef142b0884bd78a71214561",
       "version_major": 2,
       "version_minor": 0
      },
      "text/plain": [
       "Running Simulation :   0%|          | 0/200 [00:00<?, ?it/s]"
      ]
     },
     "metadata": {},
     "output_type": "display_data"
    },
    {
     "name": "stdout",
     "output_type": "stream",
     "text": [
      "Target: 1\n",
      "Currents: 1.0037099691552064e-05\n",
      "Training \n",
      "\n",
      "\n",
      "Drain 8 Only\n"
     ]
    },
    {
     "data": {
      "application/vnd.jupyter.widget-view+json": {
       "model_id": "d3ea55ec1027432ba346c2ce96f058cf",
       "version_major": 2,
       "version_minor": 0
      },
      "text/plain": [
       "Running Simulation :   0%|          | 0/200 [00:00<?, ?it/s]"
      ]
     },
     "metadata": {},
     "output_type": "display_data"
    },
    {
     "name": "stdout",
     "output_type": "stream",
     "text": [
      "Target: 1\n",
      "Currents: 0.0\n",
      "Training \n",
      "\n",
      "\n",
      "Drain 9 Only\n"
     ]
    },
    {
     "data": {
      "application/vnd.jupyter.widget-view+json": {
       "model_id": "ae48aa24ad204a0f9264350b5744611c",
       "version_major": 2,
       "version_minor": 0
      },
      "text/plain": [
       "Running Simulation :   0%|          | 0/200 [00:00<?, ?it/s]"
      ]
     },
     "metadata": {},
     "output_type": "display_data"
    },
    {
     "name": "stdout",
     "output_type": "stream",
     "text": [
      "Target: 1\n",
      "Currents: 0.0\n",
      "Training \n",
      "\n",
      "\n",
      "Drain 4 Only\n"
     ]
    },
    {
     "data": {
      "application/vnd.jupyter.widget-view+json": {
       "model_id": "15e0db9ed951488487297c6ee1cca955",
       "version_major": 2,
       "version_minor": 0
      },
      "text/plain": [
       "Running Simulation :   0%|          | 0/200 [00:00<?, ?it/s]"
      ]
     },
     "metadata": {},
     "output_type": "display_data"
    },
    {
     "name": "stdout",
     "output_type": "stream",
     "text": [
      "Target: 1\n",
      "Currents: 0.0\n",
      "Training \n",
      "\n",
      "\n",
      "Drain 6 Only\n"
     ]
    },
    {
     "data": {
      "application/vnd.jupyter.widget-view+json": {
       "model_id": "9c9ddf99f1584c528062be7513f4d18a",
       "version_major": 2,
       "version_minor": 0
      },
      "text/plain": [
       "Running Simulation :   0%|          | 0/200 [00:00<?, ?it/s]"
      ]
     },
     "metadata": {},
     "output_type": "display_data"
    },
    {
     "name": "stdout",
     "output_type": "stream",
     "text": [
      "Target: 1\n",
      "Currents: 0.0\n",
      "Training \n",
      "\n",
      "\n",
      "Drain 7 Only\n"
     ]
    },
    {
     "data": {
      "application/vnd.jupyter.widget-view+json": {
       "model_id": "770b39fe26f14676b58888b6e7519552",
       "version_major": 2,
       "version_minor": 0
      },
      "text/plain": [
       "Running Simulation :   0%|          | 0/200 [00:00<?, ?it/s]"
      ]
     },
     "metadata": {},
     "output_type": "display_data"
    },
    {
     "name": "stdout",
     "output_type": "stream",
     "text": [
      "Target: 1\n",
      "Currents: 0.0\n",
      "\n",
      "All Drains\n"
     ]
    },
    {
     "data": {
      "application/vnd.jupyter.widget-view+json": {
       "model_id": "be205a5f02da46eebb2516e894f06887",
       "version_major": 2,
       "version_minor": 0
      },
      "text/plain": [
       "Running Simulation :   0%|          | 0/200 [00:00<?, ?it/s]"
      ]
     },
     "metadata": {},
     "output_type": "display_data"
    },
    {
     "name": "stdout",
     "output_type": "stream",
     "text": [
      "Target: 1\n",
      "Currents: 6.230081622044133e-07\n",
      "Testing \n",
      "\n",
      "Currents: [6.23008162e-07 7.21652019e-07 5.99661837e-09 6.53982495e-09\n",
      " 3.62726831e-09 8.76427708e-09 1.94716385e-09 4.14551086e-09\n",
      " 7.32666137e-10]\n",
      "Target: 1.0\n",
      "Accuracy: 0\n",
      "New Target Threshold:4.4166666666666645e-05\n",
      "Training \n",
      "\n",
      "\n",
      "Drain 8 Only\n"
     ]
    },
    {
     "data": {
      "application/vnd.jupyter.widget-view+json": {
       "model_id": "124db387b6c9426db4451d2d2f83ffe3",
       "version_major": 2,
       "version_minor": 0
      },
      "text/plain": [
       "Running Simulation :   0%|          | 0/200 [00:00<?, ?it/s]"
      ]
     },
     "metadata": {},
     "output_type": "display_data"
    },
    {
     "name": "stdout",
     "output_type": "stream",
     "text": [
      "Target: 1\n",
      "Currents: 0.0\n",
      "Training \n",
      "\n",
      "\n",
      "Drain 6 Only\n"
     ]
    },
    {
     "data": {
      "application/vnd.jupyter.widget-view+json": {
       "model_id": "dd528ad7d41b434592866d96d74a36d8",
       "version_major": 2,
       "version_minor": 0
      },
      "text/plain": [
       "Running Simulation :   0%|          | 0/200 [00:00<?, ?it/s]"
      ]
     },
     "metadata": {},
     "output_type": "display_data"
    },
    {
     "name": "stdout",
     "output_type": "stream",
     "text": [
      "Target: 1\n",
      "Currents: 0.0\n",
      "Training \n",
      "\n",
      "\n",
      "Drain 9 Only\n"
     ]
    },
    {
     "data": {
      "application/vnd.jupyter.widget-view+json": {
       "model_id": "b1ffe93316014367aba02fadc11ee60d",
       "version_major": 2,
       "version_minor": 0
      },
      "text/plain": [
       "Running Simulation :   0%|          | 0/200 [00:00<?, ?it/s]"
      ]
     },
     "metadata": {},
     "output_type": "display_data"
    },
    {
     "name": "stdout",
     "output_type": "stream",
     "text": [
      "Target: 1\n",
      "Currents: 0.0\n",
      "Training \n",
      "\n",
      "\n",
      "Drain 1 Only\n"
     ]
    },
    {
     "data": {
      "application/vnd.jupyter.widget-view+json": {
       "model_id": "7be390ee2a8149a88d04405a4384372f",
       "version_major": 2,
       "version_minor": 0
      },
      "text/plain": [
       "Running Simulation :   0%|          | 0/200 [00:00<?, ?it/s]"
      ]
     },
     "metadata": {},
     "output_type": "display_data"
    },
    {
     "name": "stdout",
     "output_type": "stream",
     "text": [
      "Target: 1\n",
      "Currents: 1.0032351130325563e-05\n",
      "Training \n",
      "\n",
      "\n",
      "Drain 2 Only\n"
     ]
    },
    {
     "data": {
      "application/vnd.jupyter.widget-view+json": {
       "model_id": "86802818c3094001a27bddfe991d1dad",
       "version_major": 2,
       "version_minor": 0
      },
      "text/plain": [
       "Running Simulation :   0%|          | 0/200 [00:00<?, ?it/s]"
      ]
     },
     "metadata": {},
     "output_type": "display_data"
    },
    {
     "name": "stdout",
     "output_type": "stream",
     "text": [
      "Target: 1\n",
      "Currents: 0.0\n",
      "Training \n",
      "\n",
      "\n",
      "Drain 7 Only\n"
     ]
    },
    {
     "data": {
      "application/vnd.jupyter.widget-view+json": {
       "model_id": "2caf76fdc7834ed295dc2eef49c1969e",
       "version_major": 2,
       "version_minor": 0
      },
      "text/plain": [
       "Running Simulation :   0%|          | 0/200 [00:00<?, ?it/s]"
      ]
     },
     "metadata": {},
     "output_type": "display_data"
    },
    {
     "name": "stdout",
     "output_type": "stream",
     "text": [
      "Target: 1\n",
      "Currents: 0.0\n",
      "Training \n",
      "\n",
      "\n",
      "Drain 5 Only\n"
     ]
    },
    {
     "data": {
      "application/vnd.jupyter.widget-view+json": {
       "model_id": "cf55899eeb734ceeac0e6dcc1402dd75",
       "version_major": 2,
       "version_minor": 0
      },
      "text/plain": [
       "Running Simulation :   0%|          | 0/200 [00:00<?, ?it/s]"
      ]
     },
     "metadata": {},
     "output_type": "display_data"
    },
    {
     "name": "stdout",
     "output_type": "stream",
     "text": [
      "Target: 1\n",
      "Currents: 0.0\n",
      "Training \n",
      "\n",
      "\n",
      "Drain 3 Only\n"
     ]
    },
    {
     "data": {
      "application/vnd.jupyter.widget-view+json": {
       "model_id": "c7427781f4d94d5d8c19e179f4103ade",
       "version_major": 2,
       "version_minor": 0
      },
      "text/plain": [
       "Running Simulation :   0%|          | 0/200 [00:00<?, ?it/s]"
      ]
     },
     "metadata": {},
     "output_type": "display_data"
    },
    {
     "name": "stdout",
     "output_type": "stream",
     "text": [
      "Target: 1\n",
      "Currents: 0.0\n",
      "Training \n",
      "\n",
      "\n",
      "Drain 4 Only\n"
     ]
    },
    {
     "data": {
      "application/vnd.jupyter.widget-view+json": {
       "model_id": "ff52f3499de24639b8c627874d593642",
       "version_major": 2,
       "version_minor": 0
      },
      "text/plain": [
       "Running Simulation :   0%|          | 0/200 [00:00<?, ?it/s]"
      ]
     },
     "metadata": {},
     "output_type": "display_data"
    },
    {
     "name": "stdout",
     "output_type": "stream",
     "text": [
      "Target: 1\n",
      "Currents: 0.0\n",
      "\n",
      "All Drains\n"
     ]
    },
    {
     "data": {
      "application/vnd.jupyter.widget-view+json": {
       "model_id": "f6074b18297843d58a8f993f5108f219",
       "version_major": 2,
       "version_minor": 0
      },
      "text/plain": [
       "Running Simulation :   0%|          | 0/200 [00:00<?, ?it/s]"
      ]
     },
     "metadata": {},
     "output_type": "display_data"
    },
    {
     "name": "stdout",
     "output_type": "stream",
     "text": [
      "Target: 1\n",
      "Currents: 6.185609278478001e-07\n",
      "Testing \n",
      "\n",
      "Currents: [6.18560928e-07 7.20845408e-07 5.99026936e-09 6.55583117e-09\n",
      " 3.64445235e-09 8.80057416e-09 1.94741159e-09 4.14326306e-09\n",
      " 7.32262033e-10]\n",
      "Target: 1.0\n",
      "Accuracy: 0\n",
      "New Target Threshold:4.4999999999999976e-05\n",
      "Training \n",
      "\n",
      "\n",
      "Drain 4 Only\n"
     ]
    },
    {
     "data": {
      "application/vnd.jupyter.widget-view+json": {
       "model_id": "33700fd740874194b99e1ddf004a0d3b",
       "version_major": 2,
       "version_minor": 0
      },
      "text/plain": [
       "Running Simulation :   0%|          | 0/200 [00:00<?, ?it/s]"
      ]
     },
     "metadata": {},
     "output_type": "display_data"
    },
    {
     "name": "stdout",
     "output_type": "stream",
     "text": [
      "Target: 1\n",
      "Currents: 0.0\n",
      "Training \n",
      "\n",
      "\n",
      "Drain 1 Only\n"
     ]
    },
    {
     "data": {
      "application/vnd.jupyter.widget-view+json": {
       "model_id": "fbd413e667e54cc8a6ab521a6c120113",
       "version_major": 2,
       "version_minor": 0
      },
      "text/plain": [
       "Running Simulation :   0%|          | 0/200 [00:00<?, ?it/s]"
      ]
     },
     "metadata": {},
     "output_type": "display_data"
    },
    {
     "name": "stdout",
     "output_type": "stream",
     "text": [
      "Target: 1\n",
      "Currents: 1.0020746307300883e-05\n",
      "Training \n",
      "\n",
      "\n",
      "Drain 7 Only\n"
     ]
    },
    {
     "data": {
      "application/vnd.jupyter.widget-view+json": {
       "model_id": "8b68d3eb76d34c8694e397324cd4a2a9",
       "version_major": 2,
       "version_minor": 0
      },
      "text/plain": [
       "Running Simulation :   0%|          | 0/200 [00:00<?, ?it/s]"
      ]
     },
     "metadata": {},
     "output_type": "display_data"
    },
    {
     "name": "stdout",
     "output_type": "stream",
     "text": [
      "Target: 1\n",
      "Currents: 0.0\n",
      "Training \n",
      "\n",
      "\n",
      "Drain 8 Only\n"
     ]
    },
    {
     "data": {
      "application/vnd.jupyter.widget-view+json": {
       "model_id": "9321d9896d4c47998259bf69267d5605",
       "version_major": 2,
       "version_minor": 0
      },
      "text/plain": [
       "Running Simulation :   0%|          | 0/200 [00:00<?, ?it/s]"
      ]
     },
     "metadata": {},
     "output_type": "display_data"
    },
    {
     "name": "stdout",
     "output_type": "stream",
     "text": [
      "Target: 1\n",
      "Currents: 0.0\n",
      "Training \n",
      "\n",
      "\n",
      "Drain 5 Only\n"
     ]
    },
    {
     "data": {
      "application/vnd.jupyter.widget-view+json": {
       "model_id": "f12b6cb8667146a185543e43490356ce",
       "version_major": 2,
       "version_minor": 0
      },
      "text/plain": [
       "Running Simulation :   0%|          | 0/200 [00:00<?, ?it/s]"
      ]
     },
     "metadata": {},
     "output_type": "display_data"
    },
    {
     "name": "stdout",
     "output_type": "stream",
     "text": [
      "Target: 1\n",
      "Currents: 0.0\n",
      "Training \n",
      "\n",
      "\n",
      "Drain 3 Only\n"
     ]
    },
    {
     "data": {
      "application/vnd.jupyter.widget-view+json": {
       "model_id": "af2271d74b03427890f777cf5e3d4f18",
       "version_major": 2,
       "version_minor": 0
      },
      "text/plain": [
       "Running Simulation :   0%|          | 0/200 [00:00<?, ?it/s]"
      ]
     },
     "metadata": {},
     "output_type": "display_data"
    },
    {
     "name": "stdout",
     "output_type": "stream",
     "text": [
      "Target: 1\n",
      "Currents: 0.0\n",
      "Training \n",
      "\n",
      "\n",
      "Drain 6 Only\n"
     ]
    },
    {
     "data": {
      "application/vnd.jupyter.widget-view+json": {
       "model_id": "293fe1c82a9a404d8e33f735520a3ea6",
       "version_major": 2,
       "version_minor": 0
      },
      "text/plain": [
       "Running Simulation :   0%|          | 0/200 [00:00<?, ?it/s]"
      ]
     },
     "metadata": {},
     "output_type": "display_data"
    },
    {
     "name": "stdout",
     "output_type": "stream",
     "text": [
      "Target: 1\n",
      "Currents: 0.0\n",
      "Training \n",
      "\n",
      "\n",
      "Drain 9 Only\n"
     ]
    },
    {
     "data": {
      "application/vnd.jupyter.widget-view+json": {
       "model_id": "423f51be1c2a4cfcb49ece9207fc46a9",
       "version_major": 2,
       "version_minor": 0
      },
      "text/plain": [
       "Running Simulation :   0%|          | 0/200 [00:00<?, ?it/s]"
      ]
     },
     "metadata": {},
     "output_type": "display_data"
    },
    {
     "name": "stdout",
     "output_type": "stream",
     "text": [
      "Target: 1\n",
      "Currents: 0.0\n",
      "Training \n",
      "\n",
      "\n",
      "Drain 2 Only\n"
     ]
    },
    {
     "data": {
      "application/vnd.jupyter.widget-view+json": {
       "model_id": "f5b3bbade9df454a801db95359d32668",
       "version_major": 2,
       "version_minor": 0
      },
      "text/plain": [
       "Running Simulation :   0%|          | 0/200 [00:00<?, ?it/s]"
      ]
     },
     "metadata": {},
     "output_type": "display_data"
    },
    {
     "name": "stdout",
     "output_type": "stream",
     "text": [
      "Target: 1\n",
      "Currents: 0.0\n",
      "\n",
      "All Drains\n"
     ]
    },
    {
     "data": {
      "application/vnd.jupyter.widget-view+json": {
       "model_id": "e45b99a1b18943668f6d46a28bbb99a2",
       "version_major": 2,
       "version_minor": 0
      },
      "text/plain": [
       "Running Simulation :   0%|          | 0/200 [00:00<?, ?it/s]"
      ]
     },
     "metadata": {},
     "output_type": "display_data"
    },
    {
     "name": "stdout",
     "output_type": "stream",
     "text": [
      "Target: 1\n",
      "Currents: 5.027956934091343e-07\n",
      "Testing \n",
      "\n",
      "Currents: [5.02795693e-07 6.07837918e-07 4.88297142e-09 5.39587896e-09\n",
      " 3.07054247e-09 8.52319430e-09 2.08792762e-09 4.53978115e-09\n",
      " 8.02508489e-10]\n",
      "Target: 1.0\n",
      "Accuracy: 0\n",
      "New Target Threshold:4.583333333333331e-05\n",
      "Training \n",
      "\n",
      "\n",
      "Drain 4 Only\n"
     ]
    },
    {
     "data": {
      "application/vnd.jupyter.widget-view+json": {
       "model_id": "e0e968478d4e4319aec00b72840ab413",
       "version_major": 2,
       "version_minor": 0
      },
      "text/plain": [
       "Running Simulation :   0%|          | 0/200 [00:00<?, ?it/s]"
      ]
     },
     "metadata": {},
     "output_type": "display_data"
    },
    {
     "name": "stdout",
     "output_type": "stream",
     "text": [
      "Target: 1\n",
      "Currents: 0.0\n",
      "Training \n",
      "\n",
      "\n",
      "Drain 7 Only\n"
     ]
    },
    {
     "data": {
      "application/vnd.jupyter.widget-view+json": {
       "model_id": "dc53fcca3af7493fa3ef0b617b7ff0af",
       "version_major": 2,
       "version_minor": 0
      },
      "text/plain": [
       "Running Simulation :   0%|          | 0/200 [00:00<?, ?it/s]"
      ]
     },
     "metadata": {},
     "output_type": "display_data"
    },
    {
     "name": "stdout",
     "output_type": "stream",
     "text": [
      "Target: 1\n",
      "Currents: 0.0\n",
      "Training \n",
      "\n",
      "\n",
      "Drain 5 Only\n"
     ]
    },
    {
     "data": {
      "application/vnd.jupyter.widget-view+json": {
       "model_id": "e6be384603e640de8051788b95fc7d0b",
       "version_major": 2,
       "version_minor": 0
      },
      "text/plain": [
       "Running Simulation :   0%|          | 0/200 [00:00<?, ?it/s]"
      ]
     },
     "metadata": {},
     "output_type": "display_data"
    },
    {
     "name": "stdout",
     "output_type": "stream",
     "text": [
      "Target: 1\n",
      "Currents: 0.0\n",
      "Training \n",
      "\n",
      "\n",
      "Drain 3 Only\n"
     ]
    },
    {
     "data": {
      "application/vnd.jupyter.widget-view+json": {
       "model_id": "bab6d578328e4b51950d571092c5e1b0",
       "version_major": 2,
       "version_minor": 0
      },
      "text/plain": [
       "Running Simulation :   0%|          | 0/200 [00:00<?, ?it/s]"
      ]
     },
     "metadata": {},
     "output_type": "display_data"
    },
    {
     "name": "stdout",
     "output_type": "stream",
     "text": [
      "Target: 1\n",
      "Currents: 0.0\n",
      "Training \n",
      "\n",
      "\n",
      "Drain 9 Only\n"
     ]
    },
    {
     "data": {
      "application/vnd.jupyter.widget-view+json": {
       "model_id": "ef52901b615c409680c986b611dcafab",
       "version_major": 2,
       "version_minor": 0
      },
      "text/plain": [
       "Running Simulation :   0%|          | 0/200 [00:00<?, ?it/s]"
      ]
     },
     "metadata": {},
     "output_type": "display_data"
    },
    {
     "name": "stdout",
     "output_type": "stream",
     "text": [
      "Target: 1\n",
      "Currents: 0.0\n",
      "Training \n",
      "\n",
      "\n",
      "Drain 8 Only\n"
     ]
    },
    {
     "data": {
      "application/vnd.jupyter.widget-view+json": {
       "model_id": "fc4fffa6f41d4012a96e4b311ec1c979",
       "version_major": 2,
       "version_minor": 0
      },
      "text/plain": [
       "Running Simulation :   0%|          | 0/200 [00:00<?, ?it/s]"
      ]
     },
     "metadata": {},
     "output_type": "display_data"
    },
    {
     "name": "stdout",
     "output_type": "stream",
     "text": [
      "Target: 1\n",
      "Currents: 0.0\n",
      "Training \n",
      "\n",
      "\n",
      "Drain 2 Only\n"
     ]
    },
    {
     "data": {
      "application/vnd.jupyter.widget-view+json": {
       "model_id": "33a45ed8a38e4469b6ba2fa23526e944",
       "version_major": 2,
       "version_minor": 0
      },
      "text/plain": [
       "Running Simulation :   0%|          | 0/200 [00:00<?, ?it/s]"
      ]
     },
     "metadata": {},
     "output_type": "display_data"
    },
    {
     "name": "stdout",
     "output_type": "stream",
     "text": [
      "Target: 1\n",
      "Currents: 0.0\n",
      "Training \n",
      "\n",
      "\n",
      "Drain 6 Only\n"
     ]
    },
    {
     "data": {
      "application/vnd.jupyter.widget-view+json": {
       "model_id": "442d1437515c4100a389ad719684badc",
       "version_major": 2,
       "version_minor": 0
      },
      "text/plain": [
       "Running Simulation :   0%|          | 0/200 [00:00<?, ?it/s]"
      ]
     },
     "metadata": {},
     "output_type": "display_data"
    },
    {
     "name": "stdout",
     "output_type": "stream",
     "text": [
      "Target: 1\n",
      "Currents: 0.0\n",
      "Training \n",
      "\n",
      "\n",
      "Drain 1 Only\n"
     ]
    },
    {
     "data": {
      "application/vnd.jupyter.widget-view+json": {
       "model_id": "bd6dc44f7d214e2c82277259980e224e",
       "version_major": 2,
       "version_minor": 0
      },
      "text/plain": [
       "Running Simulation :   0%|          | 0/200 [00:00<?, ?it/s]"
      ]
     },
     "metadata": {},
     "output_type": "display_data"
    },
    {
     "name": "stdout",
     "output_type": "stream",
     "text": [
      "Target: 1\n",
      "Currents: 1.0058264244495028e-05\n",
      "\n",
      "All Drains\n"
     ]
    },
    {
     "data": {
      "application/vnd.jupyter.widget-view+json": {
       "model_id": "e5f46f1ed3914a2ba73c0b75479a1731",
       "version_major": 2,
       "version_minor": 0
      },
      "text/plain": [
       "Running Simulation :   0%|          | 0/200 [00:00<?, ?it/s]"
      ]
     },
     "metadata": {},
     "output_type": "display_data"
    },
    {
     "name": "stdout",
     "output_type": "stream",
     "text": [
      "Target: 1\n",
      "Currents: 8.121835967704106e-07\n",
      "Testing \n",
      "\n",
      "Currents: [8.12183597e-07 8.27796884e-07 6.09883807e-09 7.31172311e-09\n",
      " 4.20108545e-09 9.40197007e-09 1.84048385e-09 3.81637763e-09\n",
      " 6.74273541e-10]\n",
      "Target: 1.0\n",
      "Accuracy: 0\n",
      "New Target Threshold:4.666666666666664e-05\n",
      "Training \n",
      "\n",
      "\n",
      "Drain 6 Only\n"
     ]
    },
    {
     "data": {
      "application/vnd.jupyter.widget-view+json": {
       "model_id": "e4629b324e3a4b75a96533ec1268db27",
       "version_major": 2,
       "version_minor": 0
      },
      "text/plain": [
       "Running Simulation :   0%|          | 0/200 [00:00<?, ?it/s]"
      ]
     },
     "metadata": {},
     "output_type": "display_data"
    },
    {
     "name": "stdout",
     "output_type": "stream",
     "text": [
      "Target: 1\n",
      "Currents: 0.0\n",
      "Training \n",
      "\n",
      "\n",
      "Drain 1 Only\n"
     ]
    },
    {
     "data": {
      "application/vnd.jupyter.widget-view+json": {
       "model_id": "fe55ecaf19cd45d7904a68271575bf30",
       "version_major": 2,
       "version_minor": 0
      },
      "text/plain": [
       "Running Simulation :   0%|          | 0/200 [00:00<?, ?it/s]"
      ]
     },
     "metadata": {},
     "output_type": "display_data"
    },
    {
     "name": "stdout",
     "output_type": "stream",
     "text": [
      "Target: 1\n",
      "Currents: 1.0008287289703804e-05\n",
      "Training \n",
      "\n",
      "\n",
      "Drain 3 Only\n"
     ]
    },
    {
     "data": {
      "application/vnd.jupyter.widget-view+json": {
       "model_id": "edd140c7872e4e63abb8469ff42a5318",
       "version_major": 2,
       "version_minor": 0
      },
      "text/plain": [
       "Running Simulation :   0%|          | 0/200 [00:00<?, ?it/s]"
      ]
     },
     "metadata": {},
     "output_type": "display_data"
    },
    {
     "name": "stdout",
     "output_type": "stream",
     "text": [
      "Target: 1\n",
      "Currents: 0.0\n",
      "Training \n",
      "\n",
      "\n",
      "Drain 8 Only\n"
     ]
    },
    {
     "data": {
      "application/vnd.jupyter.widget-view+json": {
       "model_id": "684cf370bc194852bfcae16267ef29e7",
       "version_major": 2,
       "version_minor": 0
      },
      "text/plain": [
       "Running Simulation :   0%|          | 0/200 [00:00<?, ?it/s]"
      ]
     },
     "metadata": {},
     "output_type": "display_data"
    },
    {
     "name": "stdout",
     "output_type": "stream",
     "text": [
      "Target: 1\n",
      "Currents: 0.0\n",
      "Training \n",
      "\n",
      "\n",
      "Drain 5 Only\n"
     ]
    },
    {
     "data": {
      "application/vnd.jupyter.widget-view+json": {
       "model_id": "6802caf135d3427b984648d59031d0de",
       "version_major": 2,
       "version_minor": 0
      },
      "text/plain": [
       "Running Simulation :   0%|          | 0/200 [00:00<?, ?it/s]"
      ]
     },
     "metadata": {},
     "output_type": "display_data"
    },
    {
     "name": "stdout",
     "output_type": "stream",
     "text": [
      "Target: 1\n",
      "Currents: 0.0\n",
      "Training \n",
      "\n",
      "\n",
      "Drain 7 Only\n"
     ]
    },
    {
     "data": {
      "application/vnd.jupyter.widget-view+json": {
       "model_id": "fcb1da6487a74ecd939f5d7f2881dd55",
       "version_major": 2,
       "version_minor": 0
      },
      "text/plain": [
       "Running Simulation :   0%|          | 0/200 [00:00<?, ?it/s]"
      ]
     },
     "metadata": {},
     "output_type": "display_data"
    },
    {
     "name": "stdout",
     "output_type": "stream",
     "text": [
      "Target: 1\n",
      "Currents: 0.0\n",
      "Training \n",
      "\n",
      "\n",
      "Drain 9 Only\n"
     ]
    },
    {
     "data": {
      "application/vnd.jupyter.widget-view+json": {
       "model_id": "c41eaaf1a50e40eb96a3414fae744c3e",
       "version_major": 2,
       "version_minor": 0
      },
      "text/plain": [
       "Running Simulation :   0%|          | 0/200 [00:00<?, ?it/s]"
      ]
     },
     "metadata": {},
     "output_type": "display_data"
    },
    {
     "name": "stdout",
     "output_type": "stream",
     "text": [
      "Target: 1\n",
      "Currents: 0.0\n",
      "Training \n",
      "\n",
      "\n",
      "Drain 2 Only\n"
     ]
    },
    {
     "data": {
      "application/vnd.jupyter.widget-view+json": {
       "model_id": "fa0f41821e954e02970cbac87a297fb7",
       "version_major": 2,
       "version_minor": 0
      },
      "text/plain": [
       "Running Simulation :   0%|          | 0/200 [00:00<?, ?it/s]"
      ]
     },
     "metadata": {},
     "output_type": "display_data"
    },
    {
     "name": "stdout",
     "output_type": "stream",
     "text": [
      "Target: 1\n",
      "Currents: 0.0\n",
      "Training \n",
      "\n",
      "\n",
      "Drain 4 Only\n"
     ]
    },
    {
     "data": {
      "application/vnd.jupyter.widget-view+json": {
       "model_id": "af70ba8a122e499faf6ff1ee7dab76e1",
       "version_major": 2,
       "version_minor": 0
      },
      "text/plain": [
       "Running Simulation :   0%|          | 0/200 [00:00<?, ?it/s]"
      ]
     },
     "metadata": {},
     "output_type": "display_data"
    },
    {
     "name": "stdout",
     "output_type": "stream",
     "text": [
      "Target: 1\n",
      "Currents: 0.0\n",
      "\n",
      "All Drains\n"
     ]
    },
    {
     "data": {
      "application/vnd.jupyter.widget-view+json": {
       "model_id": "086b8730d4c84178bbd41d464e74fb8b",
       "version_major": 2,
       "version_minor": 0
      },
      "text/plain": [
       "Running Simulation :   0%|          | 0/200 [00:00<?, ?it/s]"
      ]
     },
     "metadata": {},
     "output_type": "display_data"
    },
    {
     "name": "stdout",
     "output_type": "stream",
     "text": [
      "Target: 1\n",
      "Currents: 5.851835117847293e-07\n",
      "Testing \n",
      "\n",
      "Currents: [5.85183512e-07 7.12113931e-07 5.88540318e-09 6.24917407e-09\n",
      " 3.44192128e-09 8.32984214e-09 1.94381416e-09 4.15677417e-09\n",
      " 7.34699066e-10]\n",
      "Target: 1.0\n",
      "Accuracy: 0\n",
      "New Target Threshold:4.749999999999997e-05\n",
      "Training \n",
      "\n",
      "\n",
      "Drain 8 Only\n"
     ]
    },
    {
     "data": {
      "application/vnd.jupyter.widget-view+json": {
       "model_id": "e184c2f605804f15af2d84befd9232fc",
       "version_major": 2,
       "version_minor": 0
      },
      "text/plain": [
       "Running Simulation :   0%|          | 0/200 [00:00<?, ?it/s]"
      ]
     },
     "metadata": {},
     "output_type": "display_data"
    },
    {
     "name": "stdout",
     "output_type": "stream",
     "text": [
      "Target: 1\n",
      "Currents: 0.0\n",
      "Training \n",
      "\n",
      "\n",
      "Drain 1 Only\n"
     ]
    },
    {
     "data": {
      "application/vnd.jupyter.widget-view+json": {
       "model_id": "6530aa844aa44a83bffcfa5200cadf48",
       "version_major": 2,
       "version_minor": 0
      },
      "text/plain": [
       "Running Simulation :   0%|          | 0/200 [00:00<?, ?it/s]"
      ]
     },
     "metadata": {},
     "output_type": "display_data"
    },
    {
     "name": "stdout",
     "output_type": "stream",
     "text": [
      "Target: 1\n",
      "Currents: 1.0028300291245889e-05\n",
      "Training \n",
      "\n",
      "\n",
      "Drain 3 Only\n"
     ]
    },
    {
     "data": {
      "application/vnd.jupyter.widget-view+json": {
       "model_id": "17ee9147dc574e679171b9c1f5e8e1fc",
       "version_major": 2,
       "version_minor": 0
      },
      "text/plain": [
       "Running Simulation :   0%|          | 0/200 [00:00<?, ?it/s]"
      ]
     },
     "metadata": {},
     "output_type": "display_data"
    },
    {
     "name": "stdout",
     "output_type": "stream",
     "text": [
      "Target: 1\n",
      "Currents: 0.0\n",
      "Training \n",
      "\n",
      "\n",
      "Drain 6 Only\n"
     ]
    },
    {
     "data": {
      "application/vnd.jupyter.widget-view+json": {
       "model_id": "e128dba5f6224654bd22b28269a3e004",
       "version_major": 2,
       "version_minor": 0
      },
      "text/plain": [
       "Running Simulation :   0%|          | 0/200 [00:00<?, ?it/s]"
      ]
     },
     "metadata": {},
     "output_type": "display_data"
    },
    {
     "name": "stdout",
     "output_type": "stream",
     "text": [
      "Target: 1\n",
      "Currents: 0.0\n",
      "Training \n",
      "\n",
      "\n",
      "Drain 2 Only\n"
     ]
    },
    {
     "data": {
      "application/vnd.jupyter.widget-view+json": {
       "model_id": "a6a412581a184578919ab73f8a310f9d",
       "version_major": 2,
       "version_minor": 0
      },
      "text/plain": [
       "Running Simulation :   0%|          | 0/200 [00:00<?, ?it/s]"
      ]
     },
     "metadata": {},
     "output_type": "display_data"
    },
    {
     "name": "stdout",
     "output_type": "stream",
     "text": [
      "Target: 1\n",
      "Currents: 0.0\n",
      "Training \n",
      "\n",
      "\n",
      "Drain 9 Only\n"
     ]
    },
    {
     "data": {
      "application/vnd.jupyter.widget-view+json": {
       "model_id": "e1371332876849b9a15e6dd5e4900a01",
       "version_major": 2,
       "version_minor": 0
      },
      "text/plain": [
       "Running Simulation :   0%|          | 0/200 [00:00<?, ?it/s]"
      ]
     },
     "metadata": {},
     "output_type": "display_data"
    },
    {
     "name": "stdout",
     "output_type": "stream",
     "text": [
      "Target: 1\n",
      "Currents: 0.0\n",
      "Training \n",
      "\n",
      "\n",
      "Drain 7 Only\n"
     ]
    },
    {
     "data": {
      "application/vnd.jupyter.widget-view+json": {
       "model_id": "9623d716b62643f192b9d3a39f6a93d7",
       "version_major": 2,
       "version_minor": 0
      },
      "text/plain": [
       "Running Simulation :   0%|          | 0/200 [00:00<?, ?it/s]"
      ]
     },
     "metadata": {},
     "output_type": "display_data"
    },
    {
     "name": "stdout",
     "output_type": "stream",
     "text": [
      "Target: 1\n",
      "Currents: 0.0\n",
      "Training \n",
      "\n",
      "\n",
      "Drain 5 Only\n"
     ]
    },
    {
     "data": {
      "application/vnd.jupyter.widget-view+json": {
       "model_id": "ae9084f2d60a4bb8baa873c1e446a6b4",
       "version_major": 2,
       "version_minor": 0
      },
      "text/plain": [
       "Running Simulation :   0%|          | 0/200 [00:00<?, ?it/s]"
      ]
     },
     "metadata": {},
     "output_type": "display_data"
    },
    {
     "name": "stdout",
     "output_type": "stream",
     "text": [
      "Target: 1\n",
      "Currents: 0.0\n",
      "Training \n",
      "\n",
      "\n",
      "Drain 4 Only\n"
     ]
    },
    {
     "data": {
      "application/vnd.jupyter.widget-view+json": {
       "model_id": "1aea654d6bd340449f4446265e4334f4",
       "version_major": 2,
       "version_minor": 0
      },
      "text/plain": [
       "Running Simulation :   0%|          | 0/200 [00:00<?, ?it/s]"
      ]
     },
     "metadata": {},
     "output_type": "display_data"
    },
    {
     "name": "stdout",
     "output_type": "stream",
     "text": [
      "Target: 1\n",
      "Currents: 0.0\n",
      "\n",
      "All Drains\n"
     ]
    },
    {
     "data": {
      "application/vnd.jupyter.widget-view+json": {
       "model_id": "ce762f6b76f84b1c92047db1872cbfe7",
       "version_major": 2,
       "version_minor": 0
      },
      "text/plain": [
       "Running Simulation :   0%|          | 0/200 [00:00<?, ?it/s]"
      ]
     },
     "metadata": {},
     "output_type": "display_data"
    },
    {
     "name": "stdout",
     "output_type": "stream",
     "text": [
      "Target: 1\n",
      "Currents: 5.327368833301507e-07\n",
      "Testing \n",
      "\n",
      "Currents: [5.32736883e-07 6.68309002e-07 5.64806270e-09 5.95235476e-09\n",
      " 3.29612853e-09 8.12746369e-09 1.96326475e-09 4.21621266e-09\n",
      " 7.45234033e-10]\n",
      "Target: 1.0\n",
      "Accuracy: 0\n",
      "New Target Threshold:4.83333333333333e-05\n",
      "Training \n",
      "\n",
      "\n",
      "Drain 8 Only\n"
     ]
    },
    {
     "data": {
      "application/vnd.jupyter.widget-view+json": {
       "model_id": "23cb9a6973d8434293ae20364cfa2d7f",
       "version_major": 2,
       "version_minor": 0
      },
      "text/plain": [
       "Running Simulation :   0%|          | 0/200 [00:00<?, ?it/s]"
      ]
     },
     "metadata": {},
     "output_type": "display_data"
    },
    {
     "name": "stdout",
     "output_type": "stream",
     "text": [
      "Target: 1\n",
      "Currents: 0.0\n",
      "Training \n",
      "\n",
      "\n",
      "Drain 9 Only\n"
     ]
    },
    {
     "data": {
      "application/vnd.jupyter.widget-view+json": {
       "model_id": "7966a4f65ac34fab96a786e0e4b8066f",
       "version_major": 2,
       "version_minor": 0
      },
      "text/plain": [
       "Running Simulation :   0%|          | 0/200 [00:00<?, ?it/s]"
      ]
     },
     "metadata": {},
     "output_type": "display_data"
    },
    {
     "name": "stdout",
     "output_type": "stream",
     "text": [
      "Target: 1\n",
      "Currents: 0.0\n",
      "Training \n",
      "\n",
      "\n",
      "Drain 3 Only\n"
     ]
    },
    {
     "data": {
      "application/vnd.jupyter.widget-view+json": {
       "model_id": "c40c9e147b704176928ba66805f4201c",
       "version_major": 2,
       "version_minor": 0
      },
      "text/plain": [
       "Running Simulation :   0%|          | 0/200 [00:00<?, ?it/s]"
      ]
     },
     "metadata": {},
     "output_type": "display_data"
    },
    {
     "name": "stdout",
     "output_type": "stream",
     "text": [
      "Target: 1\n",
      "Currents: 0.0\n",
      "Training \n",
      "\n",
      "\n",
      "Drain 4 Only\n"
     ]
    },
    {
     "data": {
      "application/vnd.jupyter.widget-view+json": {
       "model_id": "0585d493a66a4c32b786d24a015fff1d",
       "version_major": 2,
       "version_minor": 0
      },
      "text/plain": [
       "Running Simulation :   0%|          | 0/200 [00:00<?, ?it/s]"
      ]
     },
     "metadata": {},
     "output_type": "display_data"
    },
    {
     "name": "stdout",
     "output_type": "stream",
     "text": [
      "Target: 1\n",
      "Currents: 0.0\n",
      "Training \n",
      "\n",
      "\n",
      "Drain 6 Only\n"
     ]
    },
    {
     "data": {
      "application/vnd.jupyter.widget-view+json": {
       "model_id": "e07a735d29ad4a949f45fa27f874af22",
       "version_major": 2,
       "version_minor": 0
      },
      "text/plain": [
       "Running Simulation :   0%|          | 0/200 [00:00<?, ?it/s]"
      ]
     },
     "metadata": {},
     "output_type": "display_data"
    },
    {
     "name": "stdout",
     "output_type": "stream",
     "text": [
      "Target: 1\n",
      "Currents: 0.0\n",
      "Training \n",
      "\n",
      "\n",
      "Drain 1 Only\n"
     ]
    },
    {
     "data": {
      "application/vnd.jupyter.widget-view+json": {
       "model_id": "fb065d576fa648f4a4024ed815a2a1c8",
       "version_major": 2,
       "version_minor": 0
      },
      "text/plain": [
       "Running Simulation :   0%|          | 0/200 [00:00<?, ?it/s]"
      ]
     },
     "metadata": {},
     "output_type": "display_data"
    },
    {
     "name": "stdout",
     "output_type": "stream",
     "text": [
      "Target: 1\n",
      "Currents: 1.0048332653719064e-05\n",
      "Training \n",
      "\n",
      "\n",
      "Drain 2 Only\n"
     ]
    },
    {
     "data": {
      "application/vnd.jupyter.widget-view+json": {
       "model_id": "9f2c632e26644cd89327ae481c65e392",
       "version_major": 2,
       "version_minor": 0
      },
      "text/plain": [
       "Running Simulation :   0%|          | 0/200 [00:00<?, ?it/s]"
      ]
     },
     "metadata": {},
     "output_type": "display_data"
    },
    {
     "name": "stdout",
     "output_type": "stream",
     "text": [
      "Target: 1\n",
      "Currents: 0.0\n",
      "Training \n",
      "\n",
      "\n",
      "Drain 5 Only\n"
     ]
    },
    {
     "data": {
      "application/vnd.jupyter.widget-view+json": {
       "model_id": "2230a4e638154737988734c4035c0129",
       "version_major": 2,
       "version_minor": 0
      },
      "text/plain": [
       "Running Simulation :   0%|          | 0/200 [00:00<?, ?it/s]"
      ]
     },
     "metadata": {},
     "output_type": "display_data"
    },
    {
     "name": "stdout",
     "output_type": "stream",
     "text": [
      "Target: 1\n",
      "Currents: 0.0\n",
      "Training \n",
      "\n",
      "\n",
      "Drain 7 Only\n"
     ]
    },
    {
     "data": {
      "application/vnd.jupyter.widget-view+json": {
       "model_id": "edf8fd6c38df49cdb31f89b01aa5bb84",
       "version_major": 2,
       "version_minor": 0
      },
      "text/plain": [
       "Running Simulation :   0%|          | 0/200 [00:00<?, ?it/s]"
      ]
     },
     "metadata": {},
     "output_type": "display_data"
    },
    {
     "name": "stdout",
     "output_type": "stream",
     "text": [
      "Target: 1\n",
      "Currents: 0.0\n",
      "\n",
      "All Drains\n"
     ]
    },
    {
     "data": {
      "application/vnd.jupyter.widget-view+json": {
       "model_id": "d38cf6c4aa7849588cee38bfdb0169cb",
       "version_major": 2,
       "version_minor": 0
      },
      "text/plain": [
       "Running Simulation :   0%|          | 0/200 [00:00<?, ?it/s]"
      ]
     },
     "metadata": {},
     "output_type": "display_data"
    },
    {
     "name": "stdout",
     "output_type": "stream",
     "text": [
      "Target: 1\n",
      "Currents: 6.990655412939864e-07\n",
      "Testing \n",
      "\n",
      "Currents: [6.99065541e-07 7.58536387e-07 6.10139565e-09 6.93811005e-09\n",
      " 3.89051837e-09 9.26522800e-09 1.94142584e-09 4.10197654e-09\n",
      " 7.24900634e-10]\n",
      "Target: 1.0\n",
      "Accuracy: 0\n",
      "New Target Threshold:4.916666666666663e-05\n",
      "Training \n",
      "\n",
      "\n",
      "Drain 5 Only\n"
     ]
    },
    {
     "data": {
      "application/vnd.jupyter.widget-view+json": {
       "model_id": "d000bdf1f85246bb937126fe945cb6c2",
       "version_major": 2,
       "version_minor": 0
      },
      "text/plain": [
       "Running Simulation :   0%|          | 0/200 [00:00<?, ?it/s]"
      ]
     },
     "metadata": {},
     "output_type": "display_data"
    },
    {
     "name": "stdout",
     "output_type": "stream",
     "text": [
      "Target: 1\n",
      "Currents: 0.0\n",
      "Training \n",
      "\n",
      "\n",
      "Drain 1 Only\n"
     ]
    },
    {
     "data": {
      "application/vnd.jupyter.widget-view+json": {
       "model_id": "028c855a227e49c9a9c6b3d1536360db",
       "version_major": 2,
       "version_minor": 0
      },
      "text/plain": [
       "Running Simulation :   0%|          | 0/200 [00:00<?, ?it/s]"
      ]
     },
     "metadata": {},
     "output_type": "display_data"
    },
    {
     "name": "stdout",
     "output_type": "stream",
     "text": [
      "Target: 1\n",
      "Currents: 1.0016676274094213e-05\n",
      "Training \n",
      "\n",
      "\n",
      "Drain 6 Only\n"
     ]
    },
    {
     "data": {
      "application/vnd.jupyter.widget-view+json": {
       "model_id": "c12ba07ec9474a81801ac066235a9a0d",
       "version_major": 2,
       "version_minor": 0
      },
      "text/plain": [
       "Running Simulation :   0%|          | 0/200 [00:00<?, ?it/s]"
      ]
     },
     "metadata": {},
     "output_type": "display_data"
    },
    {
     "name": "stdout",
     "output_type": "stream",
     "text": [
      "Target: 1\n",
      "Currents: 0.0\n",
      "Training \n",
      "\n",
      "\n",
      "Drain 4 Only\n"
     ]
    },
    {
     "data": {
      "application/vnd.jupyter.widget-view+json": {
       "model_id": "ac570df2971340c7a8dafa9e34d5f065",
       "version_major": 2,
       "version_minor": 0
      },
      "text/plain": [
       "Running Simulation :   0%|          | 0/200 [00:00<?, ?it/s]"
      ]
     },
     "metadata": {},
     "output_type": "display_data"
    },
    {
     "name": "stdout",
     "output_type": "stream",
     "text": [
      "Target: 1\n",
      "Currents: 0.0\n",
      "Training \n",
      "\n",
      "\n",
      "Drain 8 Only\n"
     ]
    },
    {
     "data": {
      "application/vnd.jupyter.widget-view+json": {
       "model_id": "fe8da3c3d1b74bdaab84d014d8562661",
       "version_major": 2,
       "version_minor": 0
      },
      "text/plain": [
       "Running Simulation :   0%|          | 0/200 [00:00<?, ?it/s]"
      ]
     },
     "metadata": {},
     "output_type": "display_data"
    },
    {
     "name": "stdout",
     "output_type": "stream",
     "text": [
      "Target: 1\n",
      "Currents: 0.0\n",
      "Training \n",
      "\n",
      "\n",
      "Drain 7 Only\n"
     ]
    },
    {
     "data": {
      "application/vnd.jupyter.widget-view+json": {
       "model_id": "6feec88a3d634c3d96144a6ff5b995a4",
       "version_major": 2,
       "version_minor": 0
      },
      "text/plain": [
       "Running Simulation :   0%|          | 0/200 [00:00<?, ?it/s]"
      ]
     },
     "metadata": {},
     "output_type": "display_data"
    },
    {
     "name": "stdout",
     "output_type": "stream",
     "text": [
      "Target: 1\n",
      "Currents: 0.0\n",
      "Training \n",
      "\n",
      "\n",
      "Drain 2 Only\n"
     ]
    },
    {
     "data": {
      "application/vnd.jupyter.widget-view+json": {
       "model_id": "fe37c90129c84ce58bc1f67727980bf8",
       "version_major": 2,
       "version_minor": 0
      },
      "text/plain": [
       "Running Simulation :   0%|          | 0/200 [00:00<?, ?it/s]"
      ]
     },
     "metadata": {},
     "output_type": "display_data"
    },
    {
     "name": "stdout",
     "output_type": "stream",
     "text": [
      "Target: 1\n",
      "Currents: 0.0\n",
      "Training \n",
      "\n",
      "\n",
      "Drain 3 Only\n"
     ]
    },
    {
     "data": {
      "application/vnd.jupyter.widget-view+json": {
       "model_id": "ca1144f994d14dedb115465ebf313c2f",
       "version_major": 2,
       "version_minor": 0
      },
      "text/plain": [
       "Running Simulation :   0%|          | 0/200 [00:00<?, ?it/s]"
      ]
     },
     "metadata": {},
     "output_type": "display_data"
    },
    {
     "name": "stdout",
     "output_type": "stream",
     "text": [
      "Target: 1\n",
      "Currents: 0.0\n",
      "Training \n",
      "\n",
      "\n",
      "Drain 9 Only\n"
     ]
    },
    {
     "data": {
      "application/vnd.jupyter.widget-view+json": {
       "model_id": "c95678a3d32a447bb40576336007d628",
       "version_major": 2,
       "version_minor": 0
      },
      "text/plain": [
       "Running Simulation :   0%|          | 0/200 [00:00<?, ?it/s]"
      ]
     },
     "metadata": {},
     "output_type": "display_data"
    },
    {
     "name": "stdout",
     "output_type": "stream",
     "text": [
      "Target: 1\n",
      "Currents: 0.0\n",
      "\n",
      "All Drains\n"
     ]
    },
    {
     "data": {
      "application/vnd.jupyter.widget-view+json": {
       "model_id": "66ee44698295493395914e974b7c1acb",
       "version_major": 2,
       "version_minor": 0
      },
      "text/plain": [
       "Running Simulation :   0%|          | 0/200 [00:00<?, ?it/s]"
      ]
     },
     "metadata": {},
     "output_type": "display_data"
    },
    {
     "name": "stdout",
     "output_type": "stream",
     "text": [
      "Target: 1\n",
      "Currents: 5.350650599819974e-07\n",
      "Testing \n",
      "\n",
      "Currents: [5.35065060e-07 6.83997759e-07 5.79401559e-09 6.09169903e-09\n",
      " 3.37185819e-09 8.23537457e-09 1.94087970e-09 4.15539366e-09\n",
      " 7.34465973e-10]\n",
      "Target: 1.0\n",
      "Accuracy: 0\n",
      "New Target Threshold:4.999999999999996e-05\n",
      "Training \n",
      "\n",
      "\n",
      "Drain 5 Only\n"
     ]
    },
    {
     "data": {
      "application/vnd.jupyter.widget-view+json": {
       "model_id": "341ef6369d7749fc8a5867effb287d6f",
       "version_major": 2,
       "version_minor": 0
      },
      "text/plain": [
       "Running Simulation :   0%|          | 0/200 [00:00<?, ?it/s]"
      ]
     },
     "metadata": {},
     "output_type": "display_data"
    },
    {
     "name": "stdout",
     "output_type": "stream",
     "text": [
      "Target: 1\n",
      "Currents: 0.0\n",
      "Training \n",
      "\n",
      "\n",
      "Drain 9 Only\n"
     ]
    },
    {
     "data": {
      "application/vnd.jupyter.widget-view+json": {
       "model_id": "8ccdc2a14dac42ec94acb3c6e1511169",
       "version_major": 2,
       "version_minor": 0
      },
      "text/plain": [
       "Running Simulation :   0%|          | 0/200 [00:00<?, ?it/s]"
      ]
     },
     "metadata": {},
     "output_type": "display_data"
    },
    {
     "name": "stdout",
     "output_type": "stream",
     "text": [
      "Target: 1\n",
      "Currents: 0.0\n",
      "Training \n",
      "\n",
      "\n",
      "Drain 6 Only\n"
     ]
    },
    {
     "data": {
      "application/vnd.jupyter.widget-view+json": {
       "model_id": "fe6635ada7024e80a864c4c9dd13ee9f",
       "version_major": 2,
       "version_minor": 0
      },
      "text/plain": [
       "Running Simulation :   0%|          | 0/200 [00:00<?, ?it/s]"
      ]
     },
     "metadata": {},
     "output_type": "display_data"
    },
    {
     "name": "stdout",
     "output_type": "stream",
     "text": [
      "Target: 1\n",
      "Currents: 0.0\n",
      "Training \n",
      "\n",
      "\n",
      "Drain 1 Only\n"
     ]
    },
    {
     "data": {
      "application/vnd.jupyter.widget-view+json": {
       "model_id": "3a6519c56363468bb19abe824710cb63",
       "version_major": 2,
       "version_minor": 0
      },
      "text/plain": [
       "Running Simulation :   0%|          | 0/200 [00:00<?, ?it/s]"
      ]
     },
     "metadata": {},
     "output_type": "display_data"
    },
    {
     "name": "stdout",
     "output_type": "stream",
     "text": [
      "Target: 1\n",
      "Currents: 1.003975472850004e-05\n",
      "Training \n",
      "\n",
      "\n",
      "Drain 7 Only\n"
     ]
    },
    {
     "data": {
      "application/vnd.jupyter.widget-view+json": {
       "model_id": "ea6ad05a83d748a69d7988b58cbac683",
       "version_major": 2,
       "version_minor": 0
      },
      "text/plain": [
       "Running Simulation :   0%|          | 0/200 [00:00<?, ?it/s]"
      ]
     },
     "metadata": {},
     "output_type": "display_data"
    },
    {
     "name": "stdout",
     "output_type": "stream",
     "text": [
      "Target: 1\n",
      "Currents: 0.0\n",
      "Training \n",
      "\n",
      "\n",
      "Drain 3 Only\n"
     ]
    },
    {
     "data": {
      "application/vnd.jupyter.widget-view+json": {
       "model_id": "a77f4051cc22476d985518fff0b8cd08",
       "version_major": 2,
       "version_minor": 0
      },
      "text/plain": [
       "Running Simulation :   0%|          | 0/200 [00:00<?, ?it/s]"
      ]
     },
     "metadata": {},
     "output_type": "display_data"
    },
    {
     "name": "stdout",
     "output_type": "stream",
     "text": [
      "Target: 1\n",
      "Currents: 0.0\n",
      "Training \n",
      "\n",
      "\n",
      "Drain 2 Only\n"
     ]
    },
    {
     "data": {
      "application/vnd.jupyter.widget-view+json": {
       "model_id": "1429086ff3744f69b0ea438ae29e8b5d",
       "version_major": 2,
       "version_minor": 0
      },
      "text/plain": [
       "Running Simulation :   0%|          | 0/200 [00:00<?, ?it/s]"
      ]
     },
     "metadata": {},
     "output_type": "display_data"
    },
    {
     "name": "stdout",
     "output_type": "stream",
     "text": [
      "Target: 1\n",
      "Currents: 0.0\n",
      "Training \n",
      "\n",
      "\n",
      "Drain 8 Only\n"
     ]
    },
    {
     "data": {
      "application/vnd.jupyter.widget-view+json": {
       "model_id": "b32650e71c9c446ea3e7588eec9a26cc",
       "version_major": 2,
       "version_minor": 0
      },
      "text/plain": [
       "Running Simulation :   0%|          | 0/200 [00:00<?, ?it/s]"
      ]
     },
     "metadata": {},
     "output_type": "display_data"
    },
    {
     "name": "stdout",
     "output_type": "stream",
     "text": [
      "Target: 1\n",
      "Currents: 0.0\n",
      "Training \n",
      "\n",
      "\n",
      "Drain 4 Only\n"
     ]
    },
    {
     "data": {
      "application/vnd.jupyter.widget-view+json": {
       "model_id": "b9001315c3a146548e01e401df2a1831",
       "version_major": 2,
       "version_minor": 0
      },
      "text/plain": [
       "Running Simulation :   0%|          | 0/200 [00:00<?, ?it/s]"
      ]
     },
     "metadata": {},
     "output_type": "display_data"
    },
    {
     "name": "stdout",
     "output_type": "stream",
     "text": [
      "Target: 1\n",
      "Currents: 0.0\n",
      "\n",
      "All Drains\n"
     ]
    },
    {
     "data": {
      "application/vnd.jupyter.widget-view+json": {
       "model_id": "860b552f196046f7853b289b4da01aed",
       "version_major": 2,
       "version_minor": 0
      },
      "text/plain": [
       "Running Simulation :   0%|          | 0/200 [00:00<?, ?it/s]"
      ]
     },
     "metadata": {},
     "output_type": "display_data"
    },
    {
     "name": "stdout",
     "output_type": "stream",
     "text": [
      "Target: 1\n",
      "Currents: 6.024779492078801e-07\n",
      "Testing \n",
      "\n",
      "Currents: [6.02477949e-07 7.20931257e-07 5.95559894e-09 6.46090847e-09\n",
      " 3.59556666e-09 8.68393359e-09 1.94828799e-09 4.14884440e-09\n",
      " 7.33257657e-10]\n",
      "Target: 1.0\n",
      "Accuracy: 0\n",
      "New Target Threshold:5.083333333333329e-05\n",
      "Training \n",
      "\n",
      "\n",
      "Drain 8 Only\n"
     ]
    },
    {
     "data": {
      "application/vnd.jupyter.widget-view+json": {
       "model_id": "725c25561a3042bbb37990c947e1ef4b",
       "version_major": 2,
       "version_minor": 0
      },
      "text/plain": [
       "Running Simulation :   0%|          | 0/200 [00:00<?, ?it/s]"
      ]
     },
     "metadata": {},
     "output_type": "display_data"
    },
    {
     "name": "stdout",
     "output_type": "stream",
     "text": [
      "Target: 1\n",
      "Currents: 0.0\n",
      "Training \n",
      "\n",
      "\n",
      "Drain 1 Only\n"
     ]
    },
    {
     "data": {
      "application/vnd.jupyter.widget-view+json": {
       "model_id": "a9bf7a376d8f41cd964c76fa033cda4a",
       "version_major": 2,
       "version_minor": 0
      },
      "text/plain": [
       "Running Simulation :   0%|          | 0/200 [00:00<?, ?it/s]"
      ]
     },
     "metadata": {},
     "output_type": "display_data"
    },
    {
     "name": "stdout",
     "output_type": "stream",
     "text": [
      "Target: 1\n",
      "Currents: 1.002241232824707e-05\n",
      "Training \n",
      "\n",
      "\n",
      "Drain 4 Only\n"
     ]
    },
    {
     "data": {
      "application/vnd.jupyter.widget-view+json": {
       "model_id": "9df9c1fab7fb41e691385bd420c013d3",
       "version_major": 2,
       "version_minor": 0
      },
      "text/plain": [
       "Running Simulation :   0%|          | 0/200 [00:00<?, ?it/s]"
      ]
     },
     "metadata": {},
     "output_type": "display_data"
    },
    {
     "name": "stdout",
     "output_type": "stream",
     "text": [
      "Target: 1\n",
      "Currents: 0.0\n",
      "Training \n",
      "\n",
      "\n",
      "Drain 7 Only\n"
     ]
    },
    {
     "data": {
      "application/vnd.jupyter.widget-view+json": {
       "model_id": "5f37c597c3b544d9ba836ee797d1757b",
       "version_major": 2,
       "version_minor": 0
      },
      "text/plain": [
       "Running Simulation :   0%|          | 0/200 [00:00<?, ?it/s]"
      ]
     },
     "metadata": {},
     "output_type": "display_data"
    },
    {
     "name": "stdout",
     "output_type": "stream",
     "text": [
      "Target: 1\n",
      "Currents: 0.0\n",
      "Training \n",
      "\n",
      "\n",
      "Drain 5 Only\n"
     ]
    },
    {
     "data": {
      "application/vnd.jupyter.widget-view+json": {
       "model_id": "eede3b1cd40449c380bf0d983504c874",
       "version_major": 2,
       "version_minor": 0
      },
      "text/plain": [
       "Running Simulation :   0%|          | 0/200 [00:00<?, ?it/s]"
      ]
     },
     "metadata": {},
     "output_type": "display_data"
    },
    {
     "name": "stdout",
     "output_type": "stream",
     "text": [
      "Target: 1\n",
      "Currents: 0.0\n",
      "Training \n",
      "\n",
      "\n",
      "Drain 2 Only\n"
     ]
    },
    {
     "data": {
      "application/vnd.jupyter.widget-view+json": {
       "model_id": "cfca9f665e6d49ba8a38fefbf205d4c5",
       "version_major": 2,
       "version_minor": 0
      },
      "text/plain": [
       "Running Simulation :   0%|          | 0/200 [00:00<?, ?it/s]"
      ]
     },
     "metadata": {},
     "output_type": "display_data"
    },
    {
     "name": "stdout",
     "output_type": "stream",
     "text": [
      "Target: 1\n",
      "Currents: 0.0\n",
      "Training \n",
      "\n",
      "\n",
      "Drain 9 Only\n"
     ]
    },
    {
     "data": {
      "application/vnd.jupyter.widget-view+json": {
       "model_id": "ff5a0e70d9dc4feca0536de2bcd0fb7d",
       "version_major": 2,
       "version_minor": 0
      },
      "text/plain": [
       "Running Simulation :   0%|          | 0/200 [00:00<?, ?it/s]"
      ]
     },
     "metadata": {},
     "output_type": "display_data"
    },
    {
     "name": "stdout",
     "output_type": "stream",
     "text": [
      "Target: 1\n",
      "Currents: 0.0\n",
      "Training \n",
      "\n",
      "\n",
      "Drain 6 Only\n"
     ]
    },
    {
     "data": {
      "application/vnd.jupyter.widget-view+json": {
       "model_id": "2623246abc66408abbb4b7ce8619d10e",
       "version_major": 2,
       "version_minor": 0
      },
      "text/plain": [
       "Running Simulation :   0%|          | 0/200 [00:00<?, ?it/s]"
      ]
     },
     "metadata": {},
     "output_type": "display_data"
    },
    {
     "name": "stdout",
     "output_type": "stream",
     "text": [
      "Target: 1\n",
      "Currents: 0.0\n",
      "Training \n",
      "\n",
      "\n",
      "Drain 3 Only\n"
     ]
    },
    {
     "data": {
      "application/vnd.jupyter.widget-view+json": {
       "model_id": "a9666295416a4e1ea449206f26ce7b28",
       "version_major": 2,
       "version_minor": 0
      },
      "text/plain": [
       "Running Simulation :   0%|          | 0/200 [00:00<?, ?it/s]"
      ]
     },
     "metadata": {},
     "output_type": "display_data"
    },
    {
     "name": "stdout",
     "output_type": "stream",
     "text": [
      "Target: 1\n",
      "Currents: 0.0\n",
      "\n",
      "All Drains\n"
     ]
    },
    {
     "data": {
      "application/vnd.jupyter.widget-view+json": {
       "model_id": "c56ec4cd7b72467e9811f2989b2bd2ce",
       "version_major": 2,
       "version_minor": 0
      },
      "text/plain": [
       "Running Simulation :   0%|          | 0/200 [00:00<?, ?it/s]"
      ]
     },
     "metadata": {},
     "output_type": "display_data"
    },
    {
     "name": "stdout",
     "output_type": "stream",
     "text": [
      "Target: 1\n",
      "Currents: 5.102624187814878e-07\n",
      "Testing \n",
      "\n",
      "Currents: [5.10262419e-07 6.45527138e-07 5.46322821e-09 5.82993269e-09\n",
      " 3.25189863e-09 8.29033744e-09 1.99135540e-09 4.28951337e-09\n",
      " 7.58211166e-10]\n",
      "Target: 1.0\n",
      "Accuracy: 0\n",
      "New Target Threshold:5.1666666666666624e-05\n",
      "Training \n",
      "\n",
      "\n",
      "Drain 2 Only\n"
     ]
    },
    {
     "data": {
      "application/vnd.jupyter.widget-view+json": {
       "model_id": "26857d22808f40e0b50a3296eeb09d85",
       "version_major": 2,
       "version_minor": 0
      },
      "text/plain": [
       "Running Simulation :   0%|          | 0/200 [00:00<?, ?it/s]"
      ]
     },
     "metadata": {},
     "output_type": "display_data"
    },
    {
     "name": "stdout",
     "output_type": "stream",
     "text": [
      "Target: 1\n",
      "Currents: 0.0\n",
      "Training \n",
      "\n",
      "\n",
      "Drain 3 Only\n"
     ]
    },
    {
     "data": {
      "application/vnd.jupyter.widget-view+json": {
       "model_id": "54a51025fc7441afb2dd8aacfeac1bbb",
       "version_major": 2,
       "version_minor": 0
      },
      "text/plain": [
       "Running Simulation :   0%|          | 0/200 [00:00<?, ?it/s]"
      ]
     },
     "metadata": {},
     "output_type": "display_data"
    },
    {
     "name": "stdout",
     "output_type": "stream",
     "text": [
      "Target: 1\n",
      "Currents: 0.0\n",
      "Training \n",
      "\n",
      "\n",
      "Drain 6 Only\n"
     ]
    },
    {
     "data": {
      "application/vnd.jupyter.widget-view+json": {
       "model_id": "e01a8c4074d7414cab70390d1807d505",
       "version_major": 2,
       "version_minor": 0
      },
      "text/plain": [
       "Running Simulation :   0%|          | 0/200 [00:00<?, ?it/s]"
      ]
     },
     "metadata": {},
     "output_type": "display_data"
    },
    {
     "name": "stdout",
     "output_type": "stream",
     "text": [
      "Target: 1\n",
      "Currents: 0.0\n",
      "Training \n",
      "\n",
      "\n",
      "Drain 7 Only\n"
     ]
    },
    {
     "data": {
      "application/vnd.jupyter.widget-view+json": {
       "model_id": "afb4b0c94c744717947420e32e441224",
       "version_major": 2,
       "version_minor": 0
      },
      "text/plain": [
       "Running Simulation :   0%|          | 0/200 [00:00<?, ?it/s]"
      ]
     },
     "metadata": {},
     "output_type": "display_data"
    },
    {
     "name": "stdout",
     "output_type": "stream",
     "text": [
      "Target: 1\n",
      "Currents: 0.0\n",
      "Training \n",
      "\n",
      "\n",
      "Drain 1 Only\n"
     ]
    },
    {
     "data": {
      "application/vnd.jupyter.widget-view+json": {
       "model_id": "6aee51eeb2ab4cc8aa4336d67a9f509e",
       "version_major": 2,
       "version_minor": 0
      },
      "text/plain": [
       "Running Simulation :   0%|          | 0/200 [00:00<?, ?it/s]"
      ]
     },
     "metadata": {},
     "output_type": "display_data"
    },
    {
     "name": "stdout",
     "output_type": "stream",
     "text": [
      "Target: 1\n",
      "Currents: 1.0043346485949178e-05\n",
      "Training \n",
      "\n",
      "\n",
      "Drain 8 Only\n"
     ]
    },
    {
     "data": {
      "application/vnd.jupyter.widget-view+json": {
       "model_id": "c6e9d854f35c4a74a5113d979e712ad2",
       "version_major": 2,
       "version_minor": 0
      },
      "text/plain": [
       "Running Simulation :   0%|          | 0/200 [00:00<?, ?it/s]"
      ]
     },
     "metadata": {},
     "output_type": "display_data"
    },
    {
     "name": "stdout",
     "output_type": "stream",
     "text": [
      "Target: 1\n",
      "Currents: 0.0\n",
      "Training \n",
      "\n",
      "\n",
      "Drain 5 Only\n"
     ]
    },
    {
     "data": {
      "application/vnd.jupyter.widget-view+json": {
       "model_id": "097e97da9030484aad48f8d3c8aa58ee",
       "version_major": 2,
       "version_minor": 0
      },
      "text/plain": [
       "Running Simulation :   0%|          | 0/200 [00:00<?, ?it/s]"
      ]
     },
     "metadata": {},
     "output_type": "display_data"
    },
    {
     "name": "stdout",
     "output_type": "stream",
     "text": [
      "Target: 1\n",
      "Currents: 0.0\n",
      "Training \n",
      "\n",
      "\n",
      "Drain 9 Only\n"
     ]
    },
    {
     "data": {
      "application/vnd.jupyter.widget-view+json": {
       "model_id": "fedbf27ce0e946e1bce659da08024cab",
       "version_major": 2,
       "version_minor": 0
      },
      "text/plain": [
       "Running Simulation :   0%|          | 0/200 [00:00<?, ?it/s]"
      ]
     },
     "metadata": {},
     "output_type": "display_data"
    },
    {
     "name": "stdout",
     "output_type": "stream",
     "text": [
      "Target: 1\n",
      "Currents: 0.0\n",
      "Training \n",
      "\n",
      "\n",
      "Drain 4 Only\n"
     ]
    },
    {
     "data": {
      "application/vnd.jupyter.widget-view+json": {
       "model_id": "874eb9b5ce4c4ffdb50fe257834db871",
       "version_major": 2,
       "version_minor": 0
      },
      "text/plain": [
       "Running Simulation :   0%|          | 0/200 [00:00<?, ?it/s]"
      ]
     },
     "metadata": {},
     "output_type": "display_data"
    },
    {
     "name": "stdout",
     "output_type": "stream",
     "text": [
      "Target: 1\n",
      "Currents: 0.0\n",
      "\n",
      "All Drains\n"
     ]
    },
    {
     "data": {
      "application/vnd.jupyter.widget-view+json": {
       "model_id": "3c2c7d4edf944b72b6b170c62a50cb9a",
       "version_major": 2,
       "version_minor": 0
      },
      "text/plain": [
       "Running Simulation :   0%|          | 0/200 [00:00<?, ?it/s]"
      ]
     },
     "metadata": {},
     "output_type": "display_data"
    },
    {
     "name": "stdout",
     "output_type": "stream",
     "text": [
      "Target: 1\n",
      "Currents: 6.271742760398071e-07\n",
      "Testing \n",
      "\n",
      "Currents: [6.27174276e-07 7.31203869e-07 6.02311649e-09 6.72027573e-09\n",
      " 3.76053228e-09 9.03936277e-09 1.94596566e-09 4.12616858e-09\n",
      " 7.29210413e-10]\n",
      "Target: 1.0\n",
      "Accuracy: 0\n",
      "New Target Threshold:5.2499999999999955e-05\n",
      "Training \n",
      "\n",
      "\n",
      "Drain 5 Only\n"
     ]
    },
    {
     "data": {
      "application/vnd.jupyter.widget-view+json": {
       "model_id": "940b8535f2f948879111d1da0a7d06c0",
       "version_major": 2,
       "version_minor": 0
      },
      "text/plain": [
       "Running Simulation :   0%|          | 0/200 [00:00<?, ?it/s]"
      ]
     },
     "metadata": {},
     "output_type": "display_data"
    },
    {
     "name": "stdout",
     "output_type": "stream",
     "text": [
      "Target: 1\n",
      "Currents: 0.0\n",
      "Training \n",
      "\n",
      "\n",
      "Drain 7 Only\n"
     ]
    },
    {
     "data": {
      "application/vnd.jupyter.widget-view+json": {
       "model_id": "75167eddceae4378b47db05a5f8f3e72",
       "version_major": 2,
       "version_minor": 0
      },
      "text/plain": [
       "Running Simulation :   0%|          | 0/200 [00:00<?, ?it/s]"
      ]
     },
     "metadata": {},
     "output_type": "display_data"
    },
    {
     "name": "stdout",
     "output_type": "stream",
     "text": [
      "Target: 1\n",
      "Currents: 0.0\n",
      "Training \n",
      "\n",
      "\n",
      "Drain 3 Only\n"
     ]
    },
    {
     "data": {
      "application/vnd.jupyter.widget-view+json": {
       "model_id": "5f917ad623c74d1b8c5db4aa34ea425b",
       "version_major": 2,
       "version_minor": 0
      },
      "text/plain": [
       "Running Simulation :   0%|          | 0/200 [00:00<?, ?it/s]"
      ]
     },
     "metadata": {},
     "output_type": "display_data"
    },
    {
     "name": "stdout",
     "output_type": "stream",
     "text": [
      "Target: 1\n",
      "Currents: 0.0\n",
      "Training \n",
      "\n",
      "\n",
      "Drain 2 Only\n"
     ]
    },
    {
     "data": {
      "application/vnd.jupyter.widget-view+json": {
       "model_id": "961210acae1441c5977ad9c59e7324b8",
       "version_major": 2,
       "version_minor": 0
      },
      "text/plain": [
       "Running Simulation :   0%|          | 0/200 [00:00<?, ?it/s]"
      ]
     },
     "metadata": {},
     "output_type": "display_data"
    },
    {
     "name": "stdout",
     "output_type": "stream",
     "text": [
      "Target: 1\n",
      "Currents: 0.0\n",
      "Training \n",
      "\n",
      "\n",
      "Drain 8 Only\n"
     ]
    },
    {
     "data": {
      "application/vnd.jupyter.widget-view+json": {
       "model_id": "274fec63d2064ae7a84ccc514c09aaf6",
       "version_major": 2,
       "version_minor": 0
      },
      "text/plain": [
       "Running Simulation :   0%|          | 0/200 [00:00<?, ?it/s]"
      ]
     },
     "metadata": {},
     "output_type": "display_data"
    },
    {
     "name": "stdout",
     "output_type": "stream",
     "text": [
      "Target: 1\n",
      "Currents: 0.0\n",
      "Training \n",
      "\n",
      "\n",
      "Drain 4 Only\n"
     ]
    },
    {
     "data": {
      "application/vnd.jupyter.widget-view+json": {
       "model_id": "15f1fae64a8a4c2a844f25d92d5b32df",
       "version_major": 2,
       "version_minor": 0
      },
      "text/plain": [
       "Running Simulation :   0%|          | 0/200 [00:00<?, ?it/s]"
      ]
     },
     "metadata": {},
     "output_type": "display_data"
    },
    {
     "name": "stdout",
     "output_type": "stream",
     "text": [
      "Target: 1\n",
      "Currents: 0.0\n",
      "Training \n",
      "\n",
      "\n",
      "Drain 6 Only\n"
     ]
    },
    {
     "data": {
      "application/vnd.jupyter.widget-view+json": {
       "model_id": "bfa3a894655b4c4f919e9c44ad2da8bc",
       "version_major": 2,
       "version_minor": 0
      },
      "text/plain": [
       "Running Simulation :   0%|          | 0/200 [00:00<?, ?it/s]"
      ]
     },
     "metadata": {},
     "output_type": "display_data"
    },
    {
     "name": "stdout",
     "output_type": "stream",
     "text": [
      "Target: 1\n",
      "Currents: 0.0\n",
      "Training \n",
      "\n",
      "\n",
      "Drain 1 Only\n"
     ]
    },
    {
     "data": {
      "application/vnd.jupyter.widget-view+json": {
       "model_id": "473332963c904cdaa2aa1f57fdc53c35",
       "version_major": 2,
       "version_minor": 0
      },
      "text/plain": [
       "Running Simulation :   0%|          | 0/200 [00:00<?, ?it/s]"
      ]
     },
     "metadata": {},
     "output_type": "display_data"
    },
    {
     "name": "stdout",
     "output_type": "stream",
     "text": [
      "Target: 1\n",
      "Currents: 1.0045901848313159e-05\n",
      "Training \n",
      "\n",
      "\n",
      "Drain 9 Only\n"
     ]
    },
    {
     "data": {
      "application/vnd.jupyter.widget-view+json": {
       "model_id": "3f1fdc0260884d8da2db7e1f4704454a",
       "version_major": 2,
       "version_minor": 0
      },
      "text/plain": [
       "Running Simulation :   0%|          | 0/200 [00:00<?, ?it/s]"
      ]
     },
     "metadata": {},
     "output_type": "display_data"
    },
    {
     "name": "stdout",
     "output_type": "stream",
     "text": [
      "Target: 1\n",
      "Currents: 0.0\n",
      "\n",
      "All Drains\n"
     ]
    },
    {
     "data": {
      "application/vnd.jupyter.widget-view+json": {
       "model_id": "18bc41ee99df4923ad00f2a8479838d9",
       "version_major": 2,
       "version_minor": 0
      },
      "text/plain": [
       "Running Simulation :   0%|          | 0/200 [00:00<?, ?it/s]"
      ]
     },
     "metadata": {},
     "output_type": "display_data"
    },
    {
     "name": "stdout",
     "output_type": "stream",
     "text": [
      "Target: 1\n",
      "Currents: 7.879692247073982e-07\n",
      "Testing \n",
      "\n",
      "Currents: [7.87969225e-07 8.05806169e-07 6.18938425e-09 7.36675273e-09\n",
      " 4.19817871e-09 9.61974749e-09 1.89543730e-09 3.95476096e-09\n",
      " 6.98776172e-10]\n",
      "Target: 1.0\n",
      "Accuracy: 0\n",
      "New Target Threshold:5.3333333333333286e-05\n",
      "Training \n",
      "\n",
      "\n",
      "Drain 5 Only\n"
     ]
    },
    {
     "data": {
      "application/vnd.jupyter.widget-view+json": {
       "model_id": "03ce40635e494ef1ac902fa6718eab9b",
       "version_major": 2,
       "version_minor": 0
      },
      "text/plain": [
       "Running Simulation :   0%|          | 0/200 [00:00<?, ?it/s]"
      ]
     },
     "metadata": {},
     "output_type": "display_data"
    },
    {
     "name": "stdout",
     "output_type": "stream",
     "text": [
      "Target: 1\n",
      "Currents: 0.0\n",
      "Training \n",
      "\n",
      "\n",
      "Drain 1 Only\n"
     ]
    },
    {
     "data": {
      "application/vnd.jupyter.widget-view+json": {
       "model_id": "79ba656819af48a09391d95bc6b6bea8",
       "version_major": 2,
       "version_minor": 0
      },
      "text/plain": [
       "Running Simulation :   0%|          | 0/200 [00:00<?, ?it/s]"
      ]
     },
     "metadata": {},
     "output_type": "display_data"
    },
    {
     "name": "stdout",
     "output_type": "stream",
     "text": [
      "Target: 1\n",
      "Currents: 1.000950902412696e-05\n",
      "Training \n",
      "\n",
      "\n",
      "Drain 4 Only\n"
     ]
    },
    {
     "data": {
      "application/vnd.jupyter.widget-view+json": {
       "model_id": "f0b81cc5ce924305a34d1a17ad769c48",
       "version_major": 2,
       "version_minor": 0
      },
      "text/plain": [
       "Running Simulation :   0%|          | 0/200 [00:00<?, ?it/s]"
      ]
     },
     "metadata": {},
     "output_type": "display_data"
    },
    {
     "name": "stdout",
     "output_type": "stream",
     "text": [
      "Target: 1\n",
      "Currents: 0.0\n",
      "Training \n",
      "\n",
      "\n",
      "Drain 8 Only\n"
     ]
    },
    {
     "data": {
      "application/vnd.jupyter.widget-view+json": {
       "model_id": "e918c38dd90c4af885a3d54bdf0266cd",
       "version_major": 2,
       "version_minor": 0
      },
      "text/plain": [
       "Running Simulation :   0%|          | 0/200 [00:00<?, ?it/s]"
      ]
     },
     "metadata": {},
     "output_type": "display_data"
    },
    {
     "name": "stdout",
     "output_type": "stream",
     "text": [
      "Target: 1\n",
      "Currents: 0.0\n",
      "Training \n",
      "\n",
      "\n",
      "Drain 2 Only\n"
     ]
    },
    {
     "data": {
      "application/vnd.jupyter.widget-view+json": {
       "model_id": "223e4f38303a4083859161e8094fb092",
       "version_major": 2,
       "version_minor": 0
      },
      "text/plain": [
       "Running Simulation :   0%|          | 0/200 [00:00<?, ?it/s]"
      ]
     },
     "metadata": {},
     "output_type": "display_data"
    },
    {
     "name": "stdout",
     "output_type": "stream",
     "text": [
      "Target: 1\n",
      "Currents: 0.0\n",
      "Training \n",
      "\n",
      "\n",
      "Drain 7 Only\n"
     ]
    },
    {
     "data": {
      "application/vnd.jupyter.widget-view+json": {
       "model_id": "729d482b95bc4c08a6bc73f7b005b4c6",
       "version_major": 2,
       "version_minor": 0
      },
      "text/plain": [
       "Running Simulation :   0%|          | 0/200 [00:00<?, ?it/s]"
      ]
     },
     "metadata": {},
     "output_type": "display_data"
    },
    {
     "name": "stdout",
     "output_type": "stream",
     "text": [
      "Target: 1\n",
      "Currents: 0.0\n",
      "Training \n",
      "\n",
      "\n",
      "Drain 6 Only\n"
     ]
    },
    {
     "data": {
      "application/vnd.jupyter.widget-view+json": {
       "model_id": "de9ed990a5644c9b85d161ca5b5d909c",
       "version_major": 2,
       "version_minor": 0
      },
      "text/plain": [
       "Running Simulation :   0%|          | 0/200 [00:00<?, ?it/s]"
      ]
     },
     "metadata": {},
     "output_type": "display_data"
    },
    {
     "name": "stdout",
     "output_type": "stream",
     "text": [
      "Target: 1\n",
      "Currents: 0.0\n",
      "Training \n",
      "\n",
      "\n",
      "Drain 3 Only\n"
     ]
    },
    {
     "data": {
      "application/vnd.jupyter.widget-view+json": {
       "model_id": "c8c468701e494a5bb5374cfb921eb736",
       "version_major": 2,
       "version_minor": 0
      },
      "text/plain": [
       "Running Simulation :   0%|          | 0/200 [00:00<?, ?it/s]"
      ]
     },
     "metadata": {},
     "output_type": "display_data"
    },
    {
     "name": "stdout",
     "output_type": "stream",
     "text": [
      "Target: 1\n",
      "Currents: 0.0\n",
      "Training \n",
      "\n",
      "\n",
      "Drain 9 Only\n"
     ]
    },
    {
     "data": {
      "application/vnd.jupyter.widget-view+json": {
       "model_id": "e1abbb528fcb497481f1c1fd687b6f59",
       "version_major": 2,
       "version_minor": 0
      },
      "text/plain": [
       "Running Simulation :   0%|          | 0/200 [00:00<?, ?it/s]"
      ]
     },
     "metadata": {},
     "output_type": "display_data"
    },
    {
     "name": "stdout",
     "output_type": "stream",
     "text": [
      "Target: 1\n",
      "Currents: 0.0\n",
      "\n",
      "All Drains\n"
     ]
    },
    {
     "data": {
      "application/vnd.jupyter.widget-view+json": {
       "model_id": "a40ebac96d5c4f6abc9601e0be215ea9",
       "version_major": 2,
       "version_minor": 0
      },
      "text/plain": [
       "Running Simulation :   0%|          | 0/200 [00:00<?, ?it/s]"
      ]
     },
     "metadata": {},
     "output_type": "display_data"
    },
    {
     "name": "stdout",
     "output_type": "stream",
     "text": [
      "Target: 1\n",
      "Currents: 5.427963264161732e-07\n",
      "Testing \n",
      "\n",
      "Currents: [5.42796326e-07 6.88353237e-07 5.82605667e-09 6.21138620e-09\n",
      " 3.42394229e-09 8.39475477e-09 1.94562600e-09 4.16522489e-09\n",
      " 7.36203921e-10]\n",
      "Target: 1.0\n",
      "Accuracy: 0\n",
      "New Target Threshold:5.416666666666662e-05\n",
      "Training \n",
      "\n",
      "\n",
      "Drain 7 Only\n"
     ]
    },
    {
     "data": {
      "application/vnd.jupyter.widget-view+json": {
       "model_id": "291c94ae93c749aaa8dcb16f15a22510",
       "version_major": 2,
       "version_minor": 0
      },
      "text/plain": [
       "Running Simulation :   0%|          | 0/200 [00:00<?, ?it/s]"
      ]
     },
     "metadata": {},
     "output_type": "display_data"
    },
    {
     "name": "stdout",
     "output_type": "stream",
     "text": [
      "Target: 1\n",
      "Currents: 0.0\n",
      "Training \n",
      "\n",
      "\n",
      "Drain 2 Only\n"
     ]
    },
    {
     "data": {
      "application/vnd.jupyter.widget-view+json": {
       "model_id": "1e7f5f0237614e67959119887542cd8f",
       "version_major": 2,
       "version_minor": 0
      },
      "text/plain": [
       "Running Simulation :   0%|          | 0/200 [00:00<?, ?it/s]"
      ]
     },
     "metadata": {},
     "output_type": "display_data"
    },
    {
     "name": "stdout",
     "output_type": "stream",
     "text": [
      "Target: 1\n",
      "Currents: 0.0\n",
      "Training \n",
      "\n",
      "\n",
      "Drain 3 Only\n"
     ]
    },
    {
     "data": {
      "application/vnd.jupyter.widget-view+json": {
       "model_id": "132de3b190d04f458930cb5332b2c44c",
       "version_major": 2,
       "version_minor": 0
      },
      "text/plain": [
       "Running Simulation :   0%|          | 0/200 [00:00<?, ?it/s]"
      ]
     },
     "metadata": {},
     "output_type": "display_data"
    },
    {
     "name": "stdout",
     "output_type": "stream",
     "text": [
      "Target: 1\n",
      "Currents: 0.0\n",
      "Training \n",
      "\n",
      "\n",
      "Drain 8 Only\n"
     ]
    },
    {
     "data": {
      "application/vnd.jupyter.widget-view+json": {
       "model_id": "ce69ecaf583441468e3c1f3b4b6821b9",
       "version_major": 2,
       "version_minor": 0
      },
      "text/plain": [
       "Running Simulation :   0%|          | 0/200 [00:00<?, ?it/s]"
      ]
     },
     "metadata": {},
     "output_type": "display_data"
    },
    {
     "name": "stdout",
     "output_type": "stream",
     "text": [
      "Target: 1\n",
      "Currents: 0.0\n",
      "Training \n",
      "\n",
      "\n",
      "Drain 9 Only\n"
     ]
    },
    {
     "data": {
      "application/vnd.jupyter.widget-view+json": {
       "model_id": "5ec3481694b0467fafc151e12b9ba9f5",
       "version_major": 2,
       "version_minor": 0
      },
      "text/plain": [
       "Running Simulation :   0%|          | 0/200 [00:00<?, ?it/s]"
      ]
     },
     "metadata": {},
     "output_type": "display_data"
    },
    {
     "name": "stdout",
     "output_type": "stream",
     "text": [
      "Target: 1\n",
      "Currents: 0.0\n",
      "Training \n",
      "\n",
      "\n",
      "Drain 4 Only\n"
     ]
    },
    {
     "data": {
      "application/vnd.jupyter.widget-view+json": {
       "model_id": "8c4670326fd54506b3c18fde83f01be4",
       "version_major": 2,
       "version_minor": 0
      },
      "text/plain": [
       "Running Simulation :   0%|          | 0/200 [00:00<?, ?it/s]"
      ]
     },
     "metadata": {},
     "output_type": "display_data"
    },
    {
     "name": "stdout",
     "output_type": "stream",
     "text": [
      "Target: 1\n",
      "Currents: 0.0\n",
      "Training \n",
      "\n",
      "\n",
      "Drain 5 Only\n"
     ]
    },
    {
     "data": {
      "application/vnd.jupyter.widget-view+json": {
       "model_id": "54340a11068747c9849389e52ffa2e85",
       "version_major": 2,
       "version_minor": 0
      },
      "text/plain": [
       "Running Simulation :   0%|          | 0/200 [00:00<?, ?it/s]"
      ]
     },
     "metadata": {},
     "output_type": "display_data"
    },
    {
     "name": "stdout",
     "output_type": "stream",
     "text": [
      "Target: 1\n",
      "Currents: 0.0\n",
      "Training \n",
      "\n",
      "\n",
      "Drain 1 Only\n"
     ]
    },
    {
     "data": {
      "application/vnd.jupyter.widget-view+json": {
       "model_id": "937dc26feeb9481ea9285676d317421a",
       "version_major": 2,
       "version_minor": 0
      },
      "text/plain": [
       "Running Simulation :   0%|          | 0/200 [00:00<?, ?it/s]"
      ]
     },
     "metadata": {},
     "output_type": "display_data"
    },
    {
     "name": "stdout",
     "output_type": "stream",
     "text": [
      "Target: 1\n",
      "Currents: 1.0050897513427954e-05\n",
      "Training \n",
      "\n",
      "\n",
      "Drain 6 Only\n"
     ]
    },
    {
     "data": {
      "application/vnd.jupyter.widget-view+json": {
       "model_id": "bf6ddc5c60d7439f9004f927db87ae85",
       "version_major": 2,
       "version_minor": 0
      },
      "text/plain": [
       "Running Simulation :   0%|          | 0/200 [00:00<?, ?it/s]"
      ]
     },
     "metadata": {},
     "output_type": "display_data"
    },
    {
     "name": "stdout",
     "output_type": "stream",
     "text": [
      "Target: 1\n",
      "Currents: 0.0\n",
      "\n",
      "All Drains\n"
     ]
    },
    {
     "data": {
      "application/vnd.jupyter.widget-view+json": {
       "model_id": "076809ea94ae4c14a24b120da77c039d",
       "version_major": 2,
       "version_minor": 0
      },
      "text/plain": [
       "Running Simulation :   0%|          | 0/200 [00:00<?, ?it/s]"
      ]
     },
     "metadata": {},
     "output_type": "display_data"
    },
    {
     "name": "stdout",
     "output_type": "stream",
     "text": [
      "Target: 1\n",
      "Currents: 7.77027085990166e-07\n",
      "Testing \n",
      "\n",
      "Currents: [7.77027086e-07 7.98606964e-07 6.10288134e-09 7.24966001e-09\n",
      " 4.12956683e-09 9.55906090e-09 1.90183267e-09 3.97870004e-09\n",
      " 7.03028969e-10]\n",
      "Target: 1.0\n",
      "Accuracy: 0\n",
      "New Target Threshold:5.499999999999995e-05\n",
      "Training \n",
      "\n",
      "\n",
      "Drain 3 Only\n"
     ]
    },
    {
     "data": {
      "application/vnd.jupyter.widget-view+json": {
       "model_id": "2a65f828c48543acb215615ada5d2c0f",
       "version_major": 2,
       "version_minor": 0
      },
      "text/plain": [
       "Running Simulation :   0%|          | 0/200 [00:00<?, ?it/s]"
      ]
     },
     "metadata": {},
     "output_type": "display_data"
    },
    {
     "name": "stdout",
     "output_type": "stream",
     "text": [
      "Target: 1\n",
      "Currents: 0.0\n",
      "Training \n",
      "\n",
      "\n",
      "Drain 9 Only\n"
     ]
    },
    {
     "data": {
      "application/vnd.jupyter.widget-view+json": {
       "model_id": "2ae6b083b0174ba894a3c9f22ea1311d",
       "version_major": 2,
       "version_minor": 0
      },
      "text/plain": [
       "Running Simulation :   0%|          | 0/200 [00:00<?, ?it/s]"
      ]
     },
     "metadata": {},
     "output_type": "display_data"
    },
    {
     "name": "stdout",
     "output_type": "stream",
     "text": [
      "Target: 1\n",
      "Currents: 0.0\n",
      "Training \n",
      "\n",
      "\n",
      "Drain 5 Only\n"
     ]
    },
    {
     "data": {
      "application/vnd.jupyter.widget-view+json": {
       "model_id": "948d93b34a9f4876806fd2433f1b9b07",
       "version_major": 2,
       "version_minor": 0
      },
      "text/plain": [
       "Running Simulation :   0%|          | 0/200 [00:00<?, ?it/s]"
      ]
     },
     "metadata": {},
     "output_type": "display_data"
    },
    {
     "name": "stdout",
     "output_type": "stream",
     "text": [
      "Target: 1\n",
      "Currents: 0.0\n",
      "Training \n",
      "\n",
      "\n",
      "Drain 6 Only\n"
     ]
    },
    {
     "data": {
      "application/vnd.jupyter.widget-view+json": {
       "model_id": "fb9738abe4ca4248ac951979540e8d4e",
       "version_major": 2,
       "version_minor": 0
      },
      "text/plain": [
       "Running Simulation :   0%|          | 0/200 [00:00<?, ?it/s]"
      ]
     },
     "metadata": {},
     "output_type": "display_data"
    },
    {
     "name": "stdout",
     "output_type": "stream",
     "text": [
      "Target: 1\n",
      "Currents: 0.0\n",
      "Training \n",
      "\n",
      "\n",
      "Drain 8 Only\n"
     ]
    },
    {
     "data": {
      "application/vnd.jupyter.widget-view+json": {
       "model_id": "1e8a9ca755464f27bd663ead482a2f37",
       "version_major": 2,
       "version_minor": 0
      },
      "text/plain": [
       "Running Simulation :   0%|          | 0/200 [00:00<?, ?it/s]"
      ]
     },
     "metadata": {},
     "output_type": "display_data"
    },
    {
     "name": "stdout",
     "output_type": "stream",
     "text": [
      "Target: 1\n",
      "Currents: 0.0\n",
      "Training \n",
      "\n",
      "\n",
      "Drain 7 Only\n"
     ]
    },
    {
     "data": {
      "application/vnd.jupyter.widget-view+json": {
       "model_id": "0093bffeaec14a46a0fc1dd93559fbe8",
       "version_major": 2,
       "version_minor": 0
      },
      "text/plain": [
       "Running Simulation :   0%|          | 0/200 [00:00<?, ?it/s]"
      ]
     },
     "metadata": {},
     "output_type": "display_data"
    },
    {
     "name": "stdout",
     "output_type": "stream",
     "text": [
      "Target: 1\n",
      "Currents: 0.0\n",
      "Training \n",
      "\n",
      "\n",
      "Drain 4 Only\n"
     ]
    },
    {
     "data": {
      "application/vnd.jupyter.widget-view+json": {
       "model_id": "856f4c1f0e604fe6bb20380906b13aaa",
       "version_major": 2,
       "version_minor": 0
      },
      "text/plain": [
       "Running Simulation :   0%|          | 0/200 [00:00<?, ?it/s]"
      ]
     },
     "metadata": {},
     "output_type": "display_data"
    },
    {
     "name": "stdout",
     "output_type": "stream",
     "text": [
      "Target: 1\n",
      "Currents: 0.0\n",
      "Training \n",
      "\n",
      "\n",
      "Drain 2 Only\n"
     ]
    },
    {
     "data": {
      "application/vnd.jupyter.widget-view+json": {
       "model_id": "6bf47cbd9624427f9be529b3def3beee",
       "version_major": 2,
       "version_minor": 0
      },
      "text/plain": [
       "Running Simulation :   0%|          | 0/200 [00:00<?, ?it/s]"
      ]
     },
     "metadata": {},
     "output_type": "display_data"
    },
    {
     "name": "stdout",
     "output_type": "stream",
     "text": [
      "Target: 1\n",
      "Currents: 0.0\n",
      "Training \n",
      "\n",
      "\n",
      "Drain 1 Only\n"
     ]
    },
    {
     "data": {
      "application/vnd.jupyter.widget-view+json": {
       "model_id": "7546e496326749e387cd810dbad2df0f",
       "version_major": 2,
       "version_minor": 0
      },
      "text/plain": [
       "Running Simulation :   0%|          | 0/200 [00:00<?, ?it/s]"
      ]
     },
     "metadata": {},
     "output_type": "display_data"
    },
    {
     "name": "stdout",
     "output_type": "stream",
     "text": [
      "Target: 1\n",
      "Currents: 1.0039661586179027e-05\n",
      "\n",
      "All Drains\n"
     ]
    },
    {
     "data": {
      "application/vnd.jupyter.widget-view+json": {
       "model_id": "af9675db04b7401988e2bf29a5933b7f",
       "version_major": 2,
       "version_minor": 0
      },
      "text/plain": [
       "Running Simulation :   0%|          | 0/200 [00:00<?, ?it/s]"
      ]
     },
     "metadata": {},
     "output_type": "display_data"
    },
    {
     "name": "stdout",
     "output_type": "stream",
     "text": [
      "Target: 1\n",
      "Currents: 8.386525604378358e-07\n",
      "Testing \n",
      "\n",
      "Currents: [8.38652560e-07 8.37894155e-07 6.18760189e-09 7.40858744e-09\n",
      " 4.24771142e-09 9.24435313e-09 1.84030344e-09 3.81059733e-09\n",
      " 6.73241994e-10]\n",
      "Target: 1.0\n",
      "Accuracy: 1\n",
      "New Target Threshold:5.499999999999995e-05\n",
      "Training \n",
      "\n",
      "\n",
      "Drain 5 Only\n"
     ]
    },
    {
     "data": {
      "application/vnd.jupyter.widget-view+json": {
       "model_id": "d227435dd84845d9949e897e6e10f580",
       "version_major": 2,
       "version_minor": 0
      },
      "text/plain": [
       "Running Simulation :   0%|          | 0/200 [00:00<?, ?it/s]"
      ]
     },
     "metadata": {},
     "output_type": "display_data"
    },
    {
     "name": "stdout",
     "output_type": "stream",
     "text": [
      "Target: 1\n",
      "Currents: 0.0\n",
      "Training \n",
      "\n",
      "\n",
      "Drain 9 Only\n"
     ]
    },
    {
     "data": {
      "application/vnd.jupyter.widget-view+json": {
       "model_id": "c6808d2b4ab740faafacb383da025935",
       "version_major": 2,
       "version_minor": 0
      },
      "text/plain": [
       "Running Simulation :   0%|          | 0/200 [00:00<?, ?it/s]"
      ]
     },
     "metadata": {},
     "output_type": "display_data"
    },
    {
     "name": "stdout",
     "output_type": "stream",
     "text": [
      "Target: 1\n",
      "Currents: 0.0\n",
      "Training \n",
      "\n",
      "\n",
      "Drain 4 Only\n"
     ]
    },
    {
     "data": {
      "application/vnd.jupyter.widget-view+json": {
       "model_id": "facb8574c1d640b9b65ea891c79dd07a",
       "version_major": 2,
       "version_minor": 0
      },
      "text/plain": [
       "Running Simulation :   0%|          | 0/200 [00:00<?, ?it/s]"
      ]
     },
     "metadata": {},
     "output_type": "display_data"
    },
    {
     "name": "stdout",
     "output_type": "stream",
     "text": [
      "Target: 1\n",
      "Currents: 0.0\n",
      "Training \n",
      "\n",
      "\n",
      "Drain 7 Only\n"
     ]
    },
    {
     "data": {
      "application/vnd.jupyter.widget-view+json": {
       "model_id": "1258e20b34f447b4bb1cdffa1dfedf2e",
       "version_major": 2,
       "version_minor": 0
      },
      "text/plain": [
       "Running Simulation :   0%|          | 0/200 [00:00<?, ?it/s]"
      ]
     },
     "metadata": {},
     "output_type": "display_data"
    },
    {
     "name": "stdout",
     "output_type": "stream",
     "text": [
      "Target: 1\n",
      "Currents: 0.0\n",
      "Training \n",
      "\n",
      "\n",
      "Drain 6 Only\n"
     ]
    },
    {
     "data": {
      "application/vnd.jupyter.widget-view+json": {
       "model_id": "f008c99dbab741eba79ded295f672180",
       "version_major": 2,
       "version_minor": 0
      },
      "text/plain": [
       "Running Simulation :   0%|          | 0/200 [00:00<?, ?it/s]"
      ]
     },
     "metadata": {},
     "output_type": "display_data"
    },
    {
     "name": "stdout",
     "output_type": "stream",
     "text": [
      "Target: 1\n",
      "Currents: 0.0\n",
      "Training \n",
      "\n",
      "\n",
      "Drain 2 Only\n"
     ]
    },
    {
     "data": {
      "application/vnd.jupyter.widget-view+json": {
       "model_id": "d9e094e1e5f04b4398dce082ff7d3a34",
       "version_major": 2,
       "version_minor": 0
      },
      "text/plain": [
       "Running Simulation :   0%|          | 0/200 [00:00<?, ?it/s]"
      ]
     },
     "metadata": {},
     "output_type": "display_data"
    },
    {
     "name": "stdout",
     "output_type": "stream",
     "text": [
      "Target: 1\n",
      "Currents: 0.0\n",
      "Training \n",
      "\n",
      "\n",
      "Drain 1 Only\n"
     ]
    },
    {
     "data": {
      "application/vnd.jupyter.widget-view+json": {
       "model_id": "025af733c74d451e8029c0ed3fbb9697",
       "version_major": 2,
       "version_minor": 0
      },
      "text/plain": [
       "Running Simulation :   0%|          | 0/200 [00:00<?, ?it/s]"
      ]
     },
     "metadata": {},
     "output_type": "display_data"
    },
    {
     "name": "stdout",
     "output_type": "stream",
     "text": [
      "Target: 1\n",
      "Currents: 1.0023920259814557e-05\n",
      "Training \n",
      "\n",
      "\n",
      "Drain 3 Only\n"
     ]
    },
    {
     "data": {
      "application/vnd.jupyter.widget-view+json": {
       "model_id": "c4ab1d4b57094e1abd7dfa6b473a6b4b",
       "version_major": 2,
       "version_minor": 0
      },
      "text/plain": [
       "Running Simulation :   0%|          | 0/200 [00:00<?, ?it/s]"
      ]
     },
     "metadata": {},
     "output_type": "display_data"
    },
    {
     "name": "stdout",
     "output_type": "stream",
     "text": [
      "Target: 1\n",
      "Currents: 0.0\n",
      "Training \n",
      "\n",
      "\n",
      "Drain 8 Only\n"
     ]
    },
    {
     "data": {
      "application/vnd.jupyter.widget-view+json": {
       "model_id": "e330d5b759004b158817a946f629937b",
       "version_major": 2,
       "version_minor": 0
      },
      "text/plain": [
       "Running Simulation :   0%|          | 0/200 [00:00<?, ?it/s]"
      ]
     },
     "metadata": {},
     "output_type": "display_data"
    },
    {
     "name": "stdout",
     "output_type": "stream",
     "text": [
      "Target: 1\n",
      "Currents: 0.0\n",
      "\n",
      "All Drains\n"
     ]
    },
    {
     "data": {
      "application/vnd.jupyter.widget-view+json": {
       "model_id": "c4a6bae8abbe4c1ebebfcd5b2ff7119f",
       "version_major": 2,
       "version_minor": 0
      },
      "text/plain": [
       "Running Simulation :   0%|          | 0/200 [00:00<?, ?it/s]"
      ]
     },
     "metadata": {},
     "output_type": "display_data"
    },
    {
     "name": "stdout",
     "output_type": "stream",
     "text": [
      "Target: 1\n",
      "Currents: 7.507035962890307e-07\n",
      "Testing \n",
      "\n",
      "Currents: [7.50703596e-07 7.93837290e-07 6.20640439e-09 7.33933196e-09\n",
      " 4.16011318e-09 9.66982902e-09 1.91580592e-09 4.01055707e-09\n",
      " 7.08670896e-10]\n",
      "Target: 1.0\n",
      "Accuracy: 0\n",
      "New Target Threshold:5.583333333333328e-05\n",
      "Training \n",
      "\n",
      "\n",
      "Drain 3 Only\n"
     ]
    },
    {
     "data": {
      "application/vnd.jupyter.widget-view+json": {
       "model_id": "591f97d74fce413c901f50596e90cc43",
       "version_major": 2,
       "version_minor": 0
      },
      "text/plain": [
       "Running Simulation :   0%|          | 0/200 [00:00<?, ?it/s]"
      ]
     },
     "metadata": {},
     "output_type": "display_data"
    },
    {
     "name": "stdout",
     "output_type": "stream",
     "text": [
      "Target: 1\n",
      "Currents: 0.0\n",
      "Training \n",
      "\n",
      "\n",
      "Drain 5 Only\n"
     ]
    },
    {
     "data": {
      "application/vnd.jupyter.widget-view+json": {
       "model_id": "68934f85b49e4d31bcb600a52d7d7214",
       "version_major": 2,
       "version_minor": 0
      },
      "text/plain": [
       "Running Simulation :   0%|          | 0/200 [00:00<?, ?it/s]"
      ]
     },
     "metadata": {},
     "output_type": "display_data"
    },
    {
     "name": "stdout",
     "output_type": "stream",
     "text": [
      "Target: 1\n",
      "Currents: 0.0\n",
      "Training \n",
      "\n",
      "\n",
      "Drain 4 Only\n"
     ]
    },
    {
     "data": {
      "application/vnd.jupyter.widget-view+json": {
       "model_id": "43dbd70a3d93483aa310eca6d854cb71",
       "version_major": 2,
       "version_minor": 0
      },
      "text/plain": [
       "Running Simulation :   0%|          | 0/200 [00:00<?, ?it/s]"
      ]
     },
     "metadata": {},
     "output_type": "display_data"
    },
    {
     "name": "stdout",
     "output_type": "stream",
     "text": [
      "Target: 1\n",
      "Currents: 0.0\n",
      "Training \n",
      "\n",
      "\n",
      "Drain 2 Only\n"
     ]
    },
    {
     "data": {
      "application/vnd.jupyter.widget-view+json": {
       "model_id": "4d237f416fc34f8db4fa572ce438d80a",
       "version_major": 2,
       "version_minor": 0
      },
      "text/plain": [
       "Running Simulation :   0%|          | 0/200 [00:00<?, ?it/s]"
      ]
     },
     "metadata": {},
     "output_type": "display_data"
    },
    {
     "name": "stdout",
     "output_type": "stream",
     "text": [
      "Target: 1\n",
      "Currents: 0.0\n",
      "Training \n",
      "\n",
      "\n",
      "Drain 6 Only\n"
     ]
    },
    {
     "data": {
      "application/vnd.jupyter.widget-view+json": {
       "model_id": "354ad2f0375d4a77839abbfa0f2b4387",
       "version_major": 2,
       "version_minor": 0
      },
      "text/plain": [
       "Running Simulation :   0%|          | 0/200 [00:00<?, ?it/s]"
      ]
     },
     "metadata": {},
     "output_type": "display_data"
    },
    {
     "name": "stdout",
     "output_type": "stream",
     "text": [
      "Target: 1\n",
      "Currents: 0.0\n",
      "Training \n",
      "\n",
      "\n",
      "Drain 7 Only\n"
     ]
    },
    {
     "data": {
      "application/vnd.jupyter.widget-view+json": {
       "model_id": "fd3310bdaeb444be9963e174ad904fd7",
       "version_major": 2,
       "version_minor": 0
      },
      "text/plain": [
       "Running Simulation :   0%|          | 0/200 [00:00<?, ?it/s]"
      ]
     },
     "metadata": {},
     "output_type": "display_data"
    },
    {
     "name": "stdout",
     "output_type": "stream",
     "text": [
      "Target: 1\n",
      "Currents: 0.0\n",
      "Training \n",
      "\n",
      "\n",
      "Drain 1 Only\n"
     ]
    },
    {
     "data": {
      "application/vnd.jupyter.widget-view+json": {
       "model_id": "7fe2c9164c2e4f3c928c24094224ca0e",
       "version_major": 2,
       "version_minor": 0
      },
      "text/plain": [
       "Running Simulation :   0%|          | 0/200 [00:00<?, ?it/s]"
      ]
     },
     "metadata": {},
     "output_type": "display_data"
    },
    {
     "name": "stdout",
     "output_type": "stream",
     "text": [
      "Target: 1\n",
      "Currents: 1.0027323067641298e-05\n",
      "Training \n",
      "\n",
      "\n",
      "Drain 8 Only\n"
     ]
    },
    {
     "data": {
      "application/vnd.jupyter.widget-view+json": {
       "model_id": "a990cc1287574b569bd638c719252ab8",
       "version_major": 2,
       "version_minor": 0
      },
      "text/plain": [
       "Running Simulation :   0%|          | 0/200 [00:00<?, ?it/s]"
      ]
     },
     "metadata": {},
     "output_type": "display_data"
    },
    {
     "name": "stdout",
     "output_type": "stream",
     "text": [
      "Target: 1\n",
      "Currents: 0.0\n",
      "Training \n",
      "\n",
      "\n",
      "Drain 9 Only\n"
     ]
    },
    {
     "data": {
      "application/vnd.jupyter.widget-view+json": {
       "model_id": "91e9d24f29364848943c1ff733923336",
       "version_major": 2,
       "version_minor": 0
      },
      "text/plain": [
       "Running Simulation :   0%|          | 0/200 [00:00<?, ?it/s]"
      ]
     },
     "metadata": {},
     "output_type": "display_data"
    },
    {
     "name": "stdout",
     "output_type": "stream",
     "text": [
      "Target: 1\n",
      "Currents: 0.0\n",
      "\n",
      "All Drains\n"
     ]
    },
    {
     "data": {
      "application/vnd.jupyter.widget-view+json": {
       "model_id": "695e6e7646ba4a58831ba1877b271733",
       "version_major": 2,
       "version_minor": 0
      },
      "text/plain": [
       "Running Simulation :   0%|          | 0/200 [00:00<?, ?it/s]"
      ]
     },
     "metadata": {},
     "output_type": "display_data"
    },
    {
     "name": "stdout",
     "output_type": "stream",
     "text": [
      "Target: 1\n",
      "Currents: 7.477161776235138e-07\n",
      "Testing \n",
      "\n",
      "Currents: [7.47716178e-07 7.90853816e-07 6.20155585e-09 7.31503298e-09\n",
      " 4.13913008e-09 9.68683094e-09 1.91802798e-09 4.02035314e-09\n",
      " 7.10414916e-10]\n",
      "Target: 1.0\n",
      "Accuracy: 0\n",
      "New Target Threshold:5.666666666666661e-05\n",
      "Training \n",
      "\n",
      "\n",
      "Drain 5 Only\n"
     ]
    },
    {
     "data": {
      "application/vnd.jupyter.widget-view+json": {
       "model_id": "b4110d3cdf08482581d4f209df8d9626",
       "version_major": 2,
       "version_minor": 0
      },
      "text/plain": [
       "Running Simulation :   0%|          | 0/200 [00:00<?, ?it/s]"
      ]
     },
     "metadata": {},
     "output_type": "display_data"
    },
    {
     "name": "stdout",
     "output_type": "stream",
     "text": [
      "Target: 1\n",
      "Currents: 0.0\n",
      "Training \n",
      "\n",
      "\n",
      "Drain 8 Only\n"
     ]
    },
    {
     "data": {
      "application/vnd.jupyter.widget-view+json": {
       "model_id": "fa644a550d2d4c1d93a3c8c39996a863",
       "version_major": 2,
       "version_minor": 0
      },
      "text/plain": [
       "Running Simulation :   0%|          | 0/200 [00:00<?, ?it/s]"
      ]
     },
     "metadata": {},
     "output_type": "display_data"
    }
   ],
   "source": [
    "num_drain_training=1\n",
    "num_drain_testing=9\n",
    "numSources=9\n",
    "numSamples=90\n",
    "nbacks         = [9]\n",
    "nback=nbacks[0]\n",
    "\n",
    "reinforcement=True #do we want to activate reinforcement?\n",
    "\n",
    "connectivity,sources,drain_pool,nwSize,nwJunctions=buildNetworks(fileName,True,num_drain_training,numSources)\n",
    "\n",
    "inputs,targets=generatePatterns(numSamples)\n",
    "\n",
    "# CHOOSE RANDOM ORDER TO PRESENT EACH SAMPLE:\n",
    "seed=69\n",
    "np.random.seed(seed)\n",
    "\n",
    "orderTraining=[]\n",
    "for n in range(numSamples):\n",
    "    orderTraining.append(np.random.choice(9,9,replace=False))\n",
    "orderTraining=np.array(orderTraining).reshape(-1)\n",
    "\n",
    "#CHOOSE PREDETERMINED ORDER TO PRESENT EACH SAMPLE:\n",
    "epochsPerSample=int(numSamples/nback)\n",
    "\n",
    "patternSize=3\n",
    "\n",
    "#Amplitude:\n",
    "onAmp = 0.3 #Voltage for Training\n",
    "onAmpTest = 0.1 #Voltage for Testing\n",
    "\n",
    "#Time Parameters\n",
    "dt=0.01\n",
    "Tlen = 200\n",
    "timesteps   = Tlen/dt\n",
    "numDT       = 200#int(timesteps/len(inputs)) #number of timesteps per sample\n",
    "restDur=0\n",
    "\n",
    "accThreshold=False #do we want to force a minimum (arbitrary) difference between target and non-target drain for accuracy to be counted?\n",
    "\n",
    "#Other Variables\n",
    "maxCurrent = [1e-5] #target\n",
    "threshCurrent = [5e-6]\n",
    "numRuns        = 1\n",
    "sim            = [None]*numRuns\n",
    "stimuli        = [None]*numRuns\n",
    "accuracy       = [None]*numRuns\n",
    "# trainingOrder = [None]*numRuns\n",
    "# testingOrder = [None]*numRuns\n",
    "# testingLabels  = [None]*numRuns\n",
    "# trainingLabels  = [None]*numRuns\n",
    "testTimes      = [None]*numRuns\n",
    "trainTimes      = [None]*numRuns\n",
    "# targets        = [None]*numRuns\n",
    "numTestingSamples = [None]*numRuns\n",
    "allLabels      = [None]*numRuns\n",
    "# seeds          =  np.array([4690])#np.random.choice(10000,size=numRuns,replace=False)\n",
    "\n",
    "limValues = [threshCurrent[0]]#[1e-6]#list(np.arange(0.05,1.05,0.05))  #if we want to loop through onAmp limit voltage percentage for drains\n",
    "increaseVal=threshCurrent[0]/6\n",
    "decreaseVal=threshCurrent[0]/12\n",
    "accThresh=0.7\n",
    "\n",
    "loadOnly=False\n",
    "\n",
    "\n",
    "if loadOnly == False:\n",
    "    print('Parameters:\\n')\n",
    "    print('Train V: ' + str(onAmp))\n",
    "    print('Test V: ' + str(onAmpTest))\n",
    "    print('Pattern: ' + str(patternSize)+'x'+str(patternSize))\n",
    "    meanAcc=[]\n",
    "    stdAcc=[]\n",
    "    outputs=[]\n",
    "    for val in tqdm(limValues):\n",
    "        print(val)\n",
    "        for i in tqdm(range(numRuns)):\n",
    "            outputs.append(runNBACK(onAmp,onAmpTest,dt,Tlen,timesteps,numDT,restDur,nbacks,maxCurrent,val,accThresh,increaseVal,decreaseVal,accThreshold=accThreshold,orderTraining=orderTraining))    "
   ]
  },
  {
   "cell_type": "code",
   "execution_count": 229,
   "metadata": {},
   "outputs": [],
   "source": [
    "#SAVE SIM DATA\n",
    "saveName='698nw_2582nj_working_memory_nback_noReinforcement_sim'\n",
    "\n",
    "#SAVE EACH SIM INDIVIDUALLY\n",
    "for i in range(len(outputs[0][2])):\n",
    "    with open(dataLoc+'/Sim Results/working memory nback/'+saveName+str(i)+'.pkl', 'wb') as f:\n",
    "        pickle.dump(outputs[0][2][i], f) "
   ]
  },
  {
   "cell_type": "code",
   "execution_count": 230,
   "metadata": {},
   "outputs": [],
   "source": [
    "dataNoSim=[outputs[0][0],outputs[0][1],outputs[0][3],outputs[0][4],outputs[0][5],outputs[0][6],outputs[0][7],outputs[0][8],outputs[0][9],outputs[0][10],outputs[0][11]]"
   ]
  },
  {
   "cell_type": "code",
   "execution_count": 231,
   "metadata": {},
   "outputs": [],
   "source": [
    "#SAVE ALL NONSIM DATA\n",
    "saveName='698nw_2582nj_working_memory_nback_noReinforcement_data'\n",
    "\n",
    "#SAVE ALL OTHER DATA TOGETHER\n",
    "with open(dataLoc+'/Sim Results/working memory nback/'+saveName+'.pkl', 'wb') as f:\n",
    "        pickle.dump(dataNoSim, f) "
   ]
  },
  {
   "cell_type": "code",
   "execution_count": 245,
   "metadata": {},
   "outputs": [],
   "source": [
    "#LOAD ALL NONSIM DATA\n",
    "saveName='698nw_2582nj_working_memory_nback_wReinforcement_data'\n",
    "\n",
    "#LOAD ALL OTHER DATA TOGETHER\n",
    "with open(dataLoc+'/Sim Results/working memory nback/'+saveName+'.pkl', 'rb') as f:\n",
    "        dataNoSim = pickle.load(f) "
   ]
  },
  {
   "cell_type": "code",
   "execution_count": 246,
   "metadata": {},
   "outputs": [
    {
     "data": {
      "application/vnd.jupyter.widget-view+json": {
       "model_id": "db29e703eac94c519a8869830f9c15ee",
       "version_major": 2,
       "version_minor": 0
      },
      "text/plain": [
       "  0%|          | 0/900 [00:00<?, ?it/s]"
      ]
     },
     "metadata": {},
     "output_type": "display_data"
    }
   ],
   "source": [
    "#LOAD SIM DATA\n",
    "saveName='698nw_2582nj_working_memory_nback_wReinforcement_sim'\n",
    "\n",
    "#LOAD EACH SIM INDIVIDUALLY\n",
    "for i in tqdm(range(len(outputs[0][2]))):\n",
    "    with open(dataLoc+'/Sim Results/working memory nback/'+saveName+str(i)+'.pkl', 'rb') as f:\n",
    "        sims = pickle.load(f)"
   ]
  },
  {
   "cell_type": "code",
   "execution_count": null,
   "metadata": {},
   "outputs": [],
   "source": [
    "# #CHOOSE PREDETERMINED ORDER TO PRESENT EACH SAMPLE:\n",
    "# seed=69\n",
    "# np.random.seed(seed)\n",
    "\n",
    "# orderTraining=[]\n",
    "# for n in range(numSamples):\n",
    "#     orderTraining.append(np.random.choice(9,9,replace=False))\n",
    "# orderTraining=np.array(orderTraining).reshape(-1)\n",
    "\n",
    "# epochsPerSample=int(numSamples/nback)\n",
    "# newOrderTrain=orderTraining.reshape(90,9)\n",
    "# val=[]\n",
    "# for order in newOrderTrain:\n",
    "#     val.append(np.where(order==0))"
   ]
  },
  {
   "cell_type": "code",
   "execution_count": 152,
   "metadata": {},
   "outputs": [
    {
     "data": {
      "text/plain": [
       "(array([ 9., 11.,  8., 10., 10., 11., 10., 12.,  9.]),\n",
       " array([0.        , 0.88888889, 1.77777778, 2.66666667, 3.55555556,\n",
       "        4.44444444, 5.33333333, 6.22222222, 7.11111111, 8.        ]),\n",
       " <BarContainer object of 9 artists>)"
      ]
     },
     "execution_count": 152,
     "metadata": {},
     "output_type": "execute_result"
    },
    {
     "data": {
      "image/png": "[encoded data removed]",
      "text/plain": [
       "<Figure size 432x288 with 1 Axes>"
      ]
     },
     "metadata": {
      "needs_background": "light"
     },
     "output_type": "display_data"
    }
   ],
   "source": [
    "# plt.hist(np.where(newOrderTrain==0)[1],bins=9)"
   ]
  },
  {
   "cell_type": "code",
   "execution_count": 232,
   "metadata": {},
   "outputs": [],
   "source": [
    "accuracy=outputs[0][4]"
   ]
  },
  {
   "cell_type": "code",
   "execution_count": 233,
   "metadata": {},
   "outputs": [
    {
     "data": {
      "text/plain": [
       "[<matplotlib.lines.Line2D at 0x7f934564e070>]"
      ]
     },
     "execution_count": 233,
     "metadata": {},
     "output_type": "execute_result"
    },
    {
     "data": {
      "image/png": "[encoded data removed]",
      "text/plain": [
       "<Figure size 432x288 with 1 Axes>"
      ]
     },
     "metadata": {
      "needs_background": "light"
     },
     "output_type": "display_data"
    }
   ],
   "source": [
    "plt.plot(accuracy)"
   ]
  },
  {
   "cell_type": "code",
   "execution_count": 234,
   "metadata": {},
   "outputs": [],
   "source": [
    "nbackVals=np.argwhere(np.array(outputs[0][8])==-1)-np.argwhere(np.array(outputs[0][8])==0)"
   ]
  },
  {
   "cell_type": "code",
   "execution_count": 235,
   "metadata": {},
   "outputs": [],
   "source": [
    "nbackVals=nbackVals.reshape(-1)"
   ]
  },
  {
   "cell_type": "code",
   "execution_count": 236,
   "metadata": {},
   "outputs": [],
   "source": [
    "import pandas as pd\n",
    "nbackAcc=pd.DataFrame({'nback':nbackVals,'Accuracy':accuracy})"
   ]
  },
  {
   "cell_type": "code",
   "execution_count": 237,
   "metadata": {},
   "outputs": [],
   "source": [
    "numVals=[]\n",
    "seAcc=[]\n",
    "meanAcc=[]\n",
    "for i in range(1,10):\n",
    "    \n",
    "    numVals.append((nbackAcc.where(nbackAcc['nback']==i)).count()[0])\n",
    "\n",
    "    meanAcc.append((nbackAcc.where(nbackAcc['nback']==i)).mean(skipna=True)[1])\n",
    "    seAcc.append((nbackAcc.where(nbackAcc['nback']==i)).std(skipna=True)[1]/np.sqrt(len(nbackAcc.where(nbackAcc['nback']==i))))"
   ]
  },
  {
   "cell_type": "code",
   "execution_count": 238,
   "metadata": {},
   "outputs": [
    {
     "data": {
      "text/plain": [
       "[]"
      ]
     },
     "execution_count": 238,
     "metadata": {},
     "output_type": "execute_result"
    }
   ],
   "source": [
    "stdAcc"
   ]
  },
  {
   "cell_type": "code",
   "execution_count": 239,
   "metadata": {},
   "outputs": [
    {
     "data": {
      "text/plain": [
       "[9, 12, 10, 11, 10, 10, 8, 11, 9]"
      ]
     },
     "execution_count": 239,
     "metadata": {},
     "output_type": "execute_result"
    }
   ],
   "source": [
    "numVals"
   ]
  },
  {
   "cell_type": "code",
   "execution_count": 240,
   "metadata": {},
   "outputs": [
    {
     "data": {
      "text/plain": [
       "[0.6666666666666666,\n",
       " 0.6666666666666666,\n",
       " 0.3,\n",
       " 0.09090909090909091,\n",
       " 0.0,\n",
       " 0.0,\n",
       " 0.0,\n",
       " 0.0,\n",
       " 0.0]"
      ]
     },
     "execution_count": 240,
     "metadata": {},
     "output_type": "execute_result"
    }
   ],
   "source": [
    "meanAcc"
   ]
  },
  {
   "cell_type": "code",
   "execution_count": 241,
   "metadata": {},
   "outputs": [],
   "source": [
    "nbacks=[1,2,3,4,5,6,7,8,9]"
   ]
  },
  {
   "cell_type": "code",
   "execution_count": 244,
   "metadata": {},
   "outputs": [
    {
     "data": {
      "image/png": "[encoded data removed]",
      "text/plain": [
       "<Figure size 432x288 with 1 Axes>"
      ]
     },
     "metadata": {
      "needs_background": "light"
     },
     "output_type": "display_data"
    }
   ],
   "source": [
    "plt.bar(nbacks,meanAcc,yerr=seAcc,alpha=0.8, ecolor='black', capsize=5)\n",
    "plt.xlabel('nback')\n",
    "plt.ylabel('Accuracy')\n",
    "ax=plt.gca()\n",
    "ax.set_xticks(range(10))\n",
    "ax.set_xticklabels(range(10))\n",
    "ax.set_ylim([0,1])\n",
    "plt.title('No Reinforcement')\n",
    "plt.savefig(saveFig+'698nw_2582nj_nback_working_memory_no_reinforcement.png',format='png')\n"
   ]
  },
  {
   "cell_type": "code",
   "execution_count": null,
   "metadata": {},
   "outputs": [],
   "source": []
  }
 ],
 "metadata": {
  "kernelspec": {
   "display_name": "Python [conda env:phd]",
   "language": "python",
   "name": "conda-env-phd-py"
  },
  "language_info": {
   "codemirror_mode": {
    "name": "ipython",
    "version": 3
   },
   "file_extension": ".py",
   "mimetype": "text/x-python",
   "name": "python",
   "nbconvert_exporter": "python",
   "pygments_lexer": "ipython3",
   "version": "3.8.12"
  }
 },
 "nbformat": 4,
 "nbformat_minor": 2
}
