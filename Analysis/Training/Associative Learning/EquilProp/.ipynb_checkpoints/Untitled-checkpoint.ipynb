{
 "cells": [
  {
   "cell_type": "code",
   "execution_count": 120,
   "id": "def6999d",
   "metadata": {
    "scrolled": true
   },
   "outputs": [
    {
     "name": "stdout",
     "output_type": "stream",
     "text": [
      "Loading Networks + Training Data\n"
     ]
    },
    {
     "data": {
      "application/vnd.jupyter.widget-view+json": {
       "model_id": "d4f93cd4f5cd479d9610eba8864da16e",
       "version_major": 2,
       "version_minor": 0
      },
      "text/plain": [
       "HBox(children=(FloatProgress(value=0.0, max=10.0), HTML(value='')))"
      ]
     },
     "metadata": {},
     "output_type": "display_data"
    },
    {
     "data": {
      "application/vnd.jupyter.widget-view+json": {
       "model_id": "3a73bfa27f15442195e20169d3e82b9f",
       "version_major": 2,
       "version_minor": 0
      },
      "text/plain": [
       "HBox(children=(FloatProgress(value=0.0, max=4.0), HTML(value='')))"
      ]
     },
     "metadata": {},
     "output_type": "display_data"
    },
    {
     "data": {
      "application/vnd.jupyter.widget-view+json": {
       "model_id": "3515bd5fc7644751997dea6f0f6e2ae9",
       "version_major": 2,
       "version_minor": 0
      },
      "text/plain": [
       "HBox(children=(FloatProgress(value=0.0, description='Running Simulation ', max=2000.0, style=ProgressStyle(des…"
      ]
     },
     "metadata": {},
     "output_type": "display_data"
    },
    {
     "name": "stdout",
     "output_type": "stream",
     "text": [
      "\n",
      "0.796\n"
     ]
    },
    {
     "data": {
      "application/vnd.jupyter.widget-view+json": {
       "model_id": "bf8d716f34f448f78c34ec57f681b962",
       "version_major": 2,
       "version_minor": 0
      },
      "text/plain": [
       "HBox(children=(FloatProgress(value=0.0, description='Running Simulation ', max=2000.0, style=ProgressStyle(des…"
      ]
     },
     "metadata": {},
     "output_type": "display_data"
    },
    {
     "name": "stdout",
     "output_type": "stream",
     "text": [
      "\n",
      "0.740909090909091\n"
     ]
    },
    {
     "data": {
      "application/vnd.jupyter.widget-view+json": {
       "model_id": "8d219252723c42ba838d603dd468dc20",
       "version_major": 2,
       "version_minor": 0
      },
      "text/plain": [
       "HBox(children=(FloatProgress(value=0.0, description='Running Simulation ', max=2000.0, style=ProgressStyle(des…"
      ]
     },
     "metadata": {},
     "output_type": "display_data"
    },
    {
     "name": "stdout",
     "output_type": "stream",
     "text": [
      "\n",
      "0.774\n"
     ]
    },
    {
     "data": {
      "application/vnd.jupyter.widget-view+json": {
       "model_id": "f96f505a3e1a4a86a05bcf85d2d670cc",
       "version_major": 2,
       "version_minor": 0
      },
      "text/plain": [
       "HBox(children=(FloatProgress(value=0.0, description='Running Simulation ', max=1980.0, style=ProgressStyle(des…"
      ]
     },
     "metadata": {},
     "output_type": "display_data"
    },
    {
     "name": "stdout",
     "output_type": "stream",
     "text": [
      "\n",
      "0.8868421052631579\n",
      "\n"
     ]
    },
    {
     "data": {
      "application/vnd.jupyter.widget-view+json": {
       "model_id": "3a1b88ec58b042c5b7fc2be7638adca8",
       "version_major": 2,
       "version_minor": 0
      },
      "text/plain": [
       "HBox(children=(FloatProgress(value=0.0, max=4.0), HTML(value='')))"
      ]
     },
     "metadata": {},
     "output_type": "display_data"
    },
    {
     "data": {
      "application/vnd.jupyter.widget-view+json": {
       "model_id": "3cfafe4c61664c9db9977ca45471d99f",
       "version_major": 2,
       "version_minor": 0
      },
      "text/plain": [
       "HBox(children=(FloatProgress(value=0.0, description='Running Simulation ', max=2000.0, style=ProgressStyle(des…"
      ]
     },
     "metadata": {},
     "output_type": "display_data"
    },
    {
     "name": "stdout",
     "output_type": "stream",
     "text": [
      "\n",
      "0.648\n"
     ]
    },
    {
     "data": {
      "application/vnd.jupyter.widget-view+json": {
       "model_id": "b233f871186c4b62b2b46950a4b49e35",
       "version_major": 2,
       "version_minor": 0
      },
      "text/plain": [
       "HBox(children=(FloatProgress(value=0.0, description='Running Simulation ', max=2000.0, style=ProgressStyle(des…"
      ]
     },
     "metadata": {},
     "output_type": "display_data"
    },
    {
     "name": "stdout",
     "output_type": "stream",
     "text": [
      "\n",
      "0.7833333333333333\n"
     ]
    },
    {
     "data": {
      "application/vnd.jupyter.widget-view+json": {
       "model_id": "b9481702653042f680b008df8791a12a",
       "version_major": 2,
       "version_minor": 0
      },
      "text/plain": [
       "HBox(children=(FloatProgress(value=0.0, description='Running Simulation ', max=2000.0, style=ProgressStyle(des…"
      ]
     },
     "metadata": {},
     "output_type": "display_data"
    },
    {
     "name": "stdout",
     "output_type": "stream",
     "text": [
      "\n",
      "0.708\n"
     ]
    },
    {
     "data": {
      "application/vnd.jupyter.widget-view+json": {
       "model_id": "e84da542f4a84b3cb0cc510dc1104198",
       "version_major": 2,
       "version_minor": 0
      },
      "text/plain": [
       "HBox(children=(FloatProgress(value=0.0, description='Running Simulation ', max=1980.0, style=ProgressStyle(des…"
      ]
     },
     "metadata": {},
     "output_type": "display_data"
    },
    {
     "name": "stdout",
     "output_type": "stream",
     "text": [
      "\n",
      "0.8552631578947368\n",
      "\n"
     ]
    },
    {
     "data": {
      "application/vnd.jupyter.widget-view+json": {
       "model_id": "e6b480e937674f32b51c4ef798040383",
       "version_major": 2,
       "version_minor": 0
      },
      "text/plain": [
       "HBox(children=(FloatProgress(value=0.0, max=4.0), HTML(value='')))"
      ]
     },
     "metadata": {},
     "output_type": "display_data"
    },
    {
     "data": {
      "application/vnd.jupyter.widget-view+json": {
       "model_id": "da0e543fd8b0401c9abf7d4264bc5777",
       "version_major": 2,
       "version_minor": 0
      },
      "text/plain": [
       "HBox(children=(FloatProgress(value=0.0, description='Running Simulation ', max=2000.0, style=ProgressStyle(des…"
      ]
     },
     "metadata": {},
     "output_type": "display_data"
    },
    {
     "name": "stdout",
     "output_type": "stream",
     "text": [
      "\n",
      "0.795\n"
     ]
    },
    {
     "data": {
      "application/vnd.jupyter.widget-view+json": {
       "model_id": "fc6993bda2984cb38043421341db539b",
       "version_major": 2,
       "version_minor": 0
      },
      "text/plain": [
       "HBox(children=(FloatProgress(value=0.0, description='Running Simulation ', max=2000.0, style=ProgressStyle(des…"
      ]
     },
     "metadata": {},
     "output_type": "display_data"
    },
    {
     "name": "stdout",
     "output_type": "stream",
     "text": [
      "\n",
      "0.7181818181818181\n"
     ]
    },
    {
     "data": {
      "application/vnd.jupyter.widget-view+json": {
       "model_id": "f40e062aa21a4bbda94d4cd4bc944ae1",
       "version_major": 2,
       "version_minor": 0
      },
      "text/plain": [
       "HBox(children=(FloatProgress(value=0.0, description='Running Simulation ', max=2000.0, style=ProgressStyle(des…"
      ]
     },
     "metadata": {},
     "output_type": "display_data"
    },
    {
     "name": "stdout",
     "output_type": "stream",
     "text": [
      "\n",
      "0.704\n"
     ]
    },
    {
     "data": {
      "application/vnd.jupyter.widget-view+json": {
       "model_id": "86ff05aea9d54b569067833ab849313c",
       "version_major": 2,
       "version_minor": 0
      },
      "text/plain": [
       "HBox(children=(FloatProgress(value=0.0, description='Running Simulation ', max=1980.0, style=ProgressStyle(des…"
      ]
     },
     "metadata": {},
     "output_type": "display_data"
    },
    {
     "name": "stdout",
     "output_type": "stream",
     "text": [
      "\n",
      "0.7078947368421052\n",
      "\n"
     ]
    },
    {
     "data": {
      "application/vnd.jupyter.widget-view+json": {
       "model_id": "78cc6f980a2d4acf8c23e214b333f1d6",
       "version_major": 2,
       "version_minor": 0
      },
      "text/plain": [
       "HBox(children=(FloatProgress(value=0.0, max=4.0), HTML(value='')))"
      ]
     },
     "metadata": {},
     "output_type": "display_data"
    },
    {
     "data": {
      "application/vnd.jupyter.widget-view+json": {
       "model_id": "6375e510888c4cb4bd38c262e608e211",
       "version_major": 2,
       "version_minor": 0
      },
      "text/plain": [
       "HBox(children=(FloatProgress(value=0.0, description='Running Simulation ', max=2000.0, style=ProgressStyle(des…"
      ]
     },
     "metadata": {},
     "output_type": "display_data"
    },
    {
     "name": "stdout",
     "output_type": "stream",
     "text": [
      "\n",
      "0.722\n"
     ]
    },
    {
     "data": {
      "application/vnd.jupyter.widget-view+json": {
       "model_id": "0477db137ce14f428533645451d940ad",
       "version_major": 2,
       "version_minor": 0
      },
      "text/plain": [
       "HBox(children=(FloatProgress(value=0.0, description='Running Simulation ', max=2000.0, style=ProgressStyle(des…"
      ]
     },
     "metadata": {},
     "output_type": "display_data"
    },
    {
     "name": "stdout",
     "output_type": "stream",
     "text": [
      "\n",
      "0.5666666666666667\n"
     ]
    },
    {
     "data": {
      "application/vnd.jupyter.widget-view+json": {
       "model_id": "467bf506c72042528bd47476efc59a06",
       "version_major": 2,
       "version_minor": 0
      },
      "text/plain": [
       "HBox(children=(FloatProgress(value=0.0, description='Running Simulation ', max=2000.0, style=ProgressStyle(des…"
      ]
     },
     "metadata": {},
     "output_type": "display_data"
    },
    {
     "name": "stdout",
     "output_type": "stream",
     "text": [
      "\n",
      "0.702\n"
     ]
    },
    {
     "data": {
      "application/vnd.jupyter.widget-view+json": {
       "model_id": "b6185fa1711e400cb70e434bb33290f5",
       "version_major": 2,
       "version_minor": 0
      },
      "text/plain": [
       "HBox(children=(FloatProgress(value=0.0, description='Running Simulation ', max=1980.0, style=ProgressStyle(des…"
      ]
     },
     "metadata": {},
     "output_type": "display_data"
    },
    {
     "name": "stdout",
     "output_type": "stream",
     "text": [
      "\n",
      "0.618421052631579\n",
      "\n"
     ]
    },
    {
     "data": {
      "application/vnd.jupyter.widget-view+json": {
       "model_id": "8f1e3290446c4730a381a110753fb55c",
       "version_major": 2,
       "version_minor": 0
      },
      "text/plain": [
       "HBox(children=(FloatProgress(value=0.0, max=4.0), HTML(value='')))"
      ]
     },
     "metadata": {},
     "output_type": "display_data"
    },
    {
     "data": {
      "application/vnd.jupyter.widget-view+json": {
       "model_id": "a08ca46a2825420d98cf2ee0d3c921ae",
       "version_major": 2,
       "version_minor": 0
      },
      "text/plain": [
       "HBox(children=(FloatProgress(value=0.0, description='Running Simulation ', max=2000.0, style=ProgressStyle(des…"
      ]
     },
     "metadata": {},
     "output_type": "display_data"
    },
    {
     "name": "stdout",
     "output_type": "stream",
     "text": [
      "\n",
      "0.74\n"
     ]
    },
    {
     "data": {
      "application/vnd.jupyter.widget-view+json": {
       "model_id": "602c5270e610492b9005af07f1e6e543",
       "version_major": 2,
       "version_minor": 0
      },
      "text/plain": [
       "HBox(children=(FloatProgress(value=0.0, description='Running Simulation ', max=2000.0, style=ProgressStyle(des…"
      ]
     },
     "metadata": {},
     "output_type": "display_data"
    },
    {
     "name": "stdout",
     "output_type": "stream",
     "text": [
      "\n",
      "0.7333333333333333\n"
     ]
    },
    {
     "data": {
      "application/vnd.jupyter.widget-view+json": {
       "model_id": "b8b49ba1513741f3bb74a967bb111b03",
       "version_major": 2,
       "version_minor": 0
      },
      "text/plain": [
       "HBox(children=(FloatProgress(value=0.0, description='Running Simulation ', max=2000.0, style=ProgressStyle(des…"
      ]
     },
     "metadata": {},
     "output_type": "display_data"
    },
    {
     "name": "stdout",
     "output_type": "stream",
     "text": [
      "\n",
      "0.764\n"
     ]
    },
    {
     "data": {
      "application/vnd.jupyter.widget-view+json": {
       "model_id": "d1759318c98d44109dea0fdacf83c36c",
       "version_major": 2,
       "version_minor": 0
      },
      "text/plain": [
       "HBox(children=(FloatProgress(value=0.0, description='Running Simulation ', max=1980.0, style=ProgressStyle(des…"
      ]
     },
     "metadata": {},
     "output_type": "display_data"
    },
    {
     "name": "stdout",
     "output_type": "stream",
     "text": [
      "\n",
      "0.7526315789473684\n",
      "\n"
     ]
    },
    {
     "data": {
      "application/vnd.jupyter.widget-view+json": {
       "model_id": "90edf0493e5145b18d34316fb57479d3",
       "version_major": 2,
       "version_minor": 0
      },
      "text/plain": [
       "HBox(children=(FloatProgress(value=0.0, max=4.0), HTML(value='')))"
      ]
     },
     "metadata": {},
     "output_type": "display_data"
    },
    {
     "data": {
      "application/vnd.jupyter.widget-view+json": {
       "model_id": "0a48f843fbd34be3a7f957244195c10d",
       "version_major": 2,
       "version_minor": 0
      },
      "text/plain": [
       "HBox(children=(FloatProgress(value=0.0, description='Running Simulation ', max=2000.0, style=ProgressStyle(des…"
      ]
     },
     "metadata": {},
     "output_type": "display_data"
    },
    {
     "name": "stdout",
     "output_type": "stream",
     "text": [
      "\n",
      "0.776\n"
     ]
    },
    {
     "data": {
      "application/vnd.jupyter.widget-view+json": {
       "model_id": "30f6be6efe964e36a4cae734dc4490a8",
       "version_major": 2,
       "version_minor": 0
      },
      "text/plain": [
       "HBox(children=(FloatProgress(value=0.0, description='Running Simulation ', max=2000.0, style=ProgressStyle(des…"
      ]
     },
     "metadata": {},
     "output_type": "display_data"
    },
    {
     "name": "stdout",
     "output_type": "stream",
     "text": [
      "\n",
      "0.8348484848484848\n"
     ]
    },
    {
     "data": {
      "application/vnd.jupyter.widget-view+json": {
       "model_id": "4d062c9fc8d34d9ba8bd35d9a9c033cd",
       "version_major": 2,
       "version_minor": 0
      },
      "text/plain": [
       "HBox(children=(FloatProgress(value=0.0, description='Running Simulation ', max=2000.0, style=ProgressStyle(des…"
      ]
     },
     "metadata": {},
     "output_type": "display_data"
    },
    {
     "name": "stdout",
     "output_type": "stream",
     "text": [
      "\n",
      "0.804\n"
     ]
    },
    {
     "data": {
      "application/vnd.jupyter.widget-view+json": {
       "model_id": "f17256b7d34144c0997a9e301b45b2de",
       "version_major": 2,
       "version_minor": 0
      },
      "text/plain": [
       "HBox(children=(FloatProgress(value=0.0, description='Running Simulation ', max=1980.0, style=ProgressStyle(des…"
      ]
     },
     "metadata": {},
     "output_type": "display_data"
    },
    {
     "name": "stdout",
     "output_type": "stream",
     "text": [
      "\n",
      "0.7894736842105263\n",
      "\n"
     ]
    },
    {
     "data": {
      "application/vnd.jupyter.widget-view+json": {
       "model_id": "2df19be2ddd346be8cb1627b7352df7e",
       "version_major": 2,
       "version_minor": 0
      },
      "text/plain": [
       "HBox(children=(FloatProgress(value=0.0, max=4.0), HTML(value='')))"
      ]
     },
     "metadata": {},
     "output_type": "display_data"
    },
    {
     "data": {
      "application/vnd.jupyter.widget-view+json": {
       "model_id": "c0cac585f8e84cb8a79cb9ef82790db4",
       "version_major": 2,
       "version_minor": 0
      },
      "text/plain": [
       "HBox(children=(FloatProgress(value=0.0, description='Running Simulation ', max=2000.0, style=ProgressStyle(des…"
      ]
     },
     "metadata": {},
     "output_type": "display_data"
    },
    {
     "name": "stdout",
     "output_type": "stream",
     "text": [
      "\n",
      "0.732\n"
     ]
    },
    {
     "data": {
      "application/vnd.jupyter.widget-view+json": {
       "model_id": "45daf0f2dd664134a3b888674f477be6",
       "version_major": 2,
       "version_minor": 0
      },
      "text/plain": [
       "HBox(children=(FloatProgress(value=0.0, description='Running Simulation ', max=2000.0, style=ProgressStyle(des…"
      ]
     },
     "metadata": {},
     "output_type": "display_data"
    },
    {
     "name": "stdout",
     "output_type": "stream",
     "text": [
      "\n",
      "0.7015151515151515\n"
     ]
    },
    {
     "data": {
      "application/vnd.jupyter.widget-view+json": {
       "model_id": "3151804ac4c142f1aca0ad4d344bd99a",
       "version_major": 2,
       "version_minor": 0
      },
      "text/plain": [
       "HBox(children=(FloatProgress(value=0.0, description='Running Simulation ', max=2000.0, style=ProgressStyle(des…"
      ]
     },
     "metadata": {},
     "output_type": "display_data"
    },
    {
     "name": "stdout",
     "output_type": "stream",
     "text": [
      "\n",
      "0.77\n"
     ]
    },
    {
     "data": {
      "application/vnd.jupyter.widget-view+json": {
       "model_id": "63f974d61774428592b9e02c6bb9b5e6",
       "version_major": 2,
       "version_minor": 0
      },
      "text/plain": [
       "HBox(children=(FloatProgress(value=0.0, description='Running Simulation ', max=1980.0, style=ProgressStyle(des…"
      ]
     },
     "metadata": {},
     "output_type": "display_data"
    },
    {
     "name": "stdout",
     "output_type": "stream",
     "text": [
      "\n",
      "0.7052631578947368\n",
      "\n"
     ]
    },
    {
     "data": {
      "application/vnd.jupyter.widget-view+json": {
       "model_id": "8f50440bad674a17a1f464baa8e52dcc",
       "version_major": 2,
       "version_minor": 0
      },
      "text/plain": [
       "HBox(children=(FloatProgress(value=0.0, max=4.0), HTML(value='')))"
      ]
     },
     "metadata": {},
     "output_type": "display_data"
    },
    {
     "data": {
      "application/vnd.jupyter.widget-view+json": {
       "model_id": "2365150392b1484f9dfd4ec1fa65f531",
       "version_major": 2,
       "version_minor": 0
      },
      "text/plain": [
       "HBox(children=(FloatProgress(value=0.0, description='Running Simulation ', max=2000.0, style=ProgressStyle(des…"
      ]
     },
     "metadata": {},
     "output_type": "display_data"
    },
    {
     "name": "stdout",
     "output_type": "stream",
     "text": [
      "\n",
      "0.804\n"
     ]
    },
    {
     "data": {
      "application/vnd.jupyter.widget-view+json": {
       "model_id": "6f965a87abaa4bc78cca37daafe85990",
       "version_major": 2,
       "version_minor": 0
      },
      "text/plain": [
       "HBox(children=(FloatProgress(value=0.0, description='Running Simulation ', max=2000.0, style=ProgressStyle(des…"
      ]
     },
     "metadata": {},
     "output_type": "display_data"
    },
    {
     "name": "stdout",
     "output_type": "stream",
     "text": [
      "\n",
      "0.7272727272727273\n"
     ]
    },
    {
     "data": {
      "application/vnd.jupyter.widget-view+json": {
       "model_id": "cedc37011c8a4928a90fc7fee2c943d3",
       "version_major": 2,
       "version_minor": 0
      },
      "text/plain": [
       "HBox(children=(FloatProgress(value=0.0, description='Running Simulation ', max=2000.0, style=ProgressStyle(des…"
      ]
     },
     "metadata": {},
     "output_type": "display_data"
    },
    {
     "name": "stdout",
     "output_type": "stream",
     "text": [
      "\n",
      "0.734\n"
     ]
    },
    {
     "data": {
      "application/vnd.jupyter.widget-view+json": {
       "model_id": "ae3da315bda949568f204393a90f1cbb",
       "version_major": 2,
       "version_minor": 0
      },
      "text/plain": [
       "HBox(children=(FloatProgress(value=0.0, description='Running Simulation ', max=1980.0, style=ProgressStyle(des…"
      ]
     },
     "metadata": {},
     "output_type": "display_data"
    },
    {
     "name": "stdout",
     "output_type": "stream",
     "text": [
      "\n",
      "0.7552631578947369\n",
      "\n"
     ]
    },
    {
     "data": {
      "application/vnd.jupyter.widget-view+json": {
       "model_id": "23498cc58f1c4137980b8a47140f012d",
       "version_major": 2,
       "version_minor": 0
      },
      "text/plain": [
       "HBox(children=(FloatProgress(value=0.0, max=4.0), HTML(value='')))"
      ]
     },
     "metadata": {},
     "output_type": "display_data"
    },
    {
     "data": {
      "application/vnd.jupyter.widget-view+json": {
       "model_id": "2479410bc2a54f3688d82330b6678bfe",
       "version_major": 2,
       "version_minor": 0
      },
      "text/plain": [
       "HBox(children=(FloatProgress(value=0.0, description='Running Simulation ', max=2000.0, style=ProgressStyle(des…"
      ]
     },
     "metadata": {},
     "output_type": "display_data"
    },
    {
     "name": "stdout",
     "output_type": "stream",
     "text": [
      "\n",
      "0.795\n"
     ]
    },
    {
     "data": {
      "application/vnd.jupyter.widget-view+json": {
       "model_id": "4d0050ebcc5e462bb798b2162c24f088",
       "version_major": 2,
       "version_minor": 0
      },
      "text/plain": [
       "HBox(children=(FloatProgress(value=0.0, description='Running Simulation ', max=2000.0, style=ProgressStyle(des…"
      ]
     },
     "metadata": {},
     "output_type": "display_data"
    },
    {
     "name": "stdout",
     "output_type": "stream",
     "text": [
      "\n",
      "0.6272727272727273\n"
     ]
    },
    {
     "data": {
      "application/vnd.jupyter.widget-view+json": {
       "model_id": "73eb0dce7a294512ac75ff9438dca10d",
       "version_major": 2,
       "version_minor": 0
      },
      "text/plain": [
       "HBox(children=(FloatProgress(value=0.0, description='Running Simulation ', max=2000.0, style=ProgressStyle(des…"
      ]
     },
     "metadata": {},
     "output_type": "display_data"
    },
    {
     "name": "stdout",
     "output_type": "stream",
     "text": [
      "\n",
      "0.75\n"
     ]
    },
    {
     "data": {
      "application/vnd.jupyter.widget-view+json": {
       "model_id": "4c85fb78c6ee4be1843e835c36eb081d",
       "version_major": 2,
       "version_minor": 0
      },
      "text/plain": [
       "HBox(children=(FloatProgress(value=0.0, description='Running Simulation ', max=1980.0, style=ProgressStyle(des…"
      ]
     },
     "metadata": {},
     "output_type": "display_data"
    },
    {
     "name": "stdout",
     "output_type": "stream",
     "text": [
      "\n",
      "0.6394736842105263\n",
      "\n"
     ]
    },
    {
     "data": {
      "application/vnd.jupyter.widget-view+json": {
       "model_id": "1f1427810198457aadd995ac404e12de",
       "version_major": 2,
       "version_minor": 0
      },
      "text/plain": [
       "HBox(children=(FloatProgress(value=0.0, max=4.0), HTML(value='')))"
      ]
     },
     "metadata": {},
     "output_type": "display_data"
    },
    {
     "data": {
      "application/vnd.jupyter.widget-view+json": {
       "model_id": "26f04982c2f541afafcf8069fefa8abb",
       "version_major": 2,
       "version_minor": 0
      },
      "text/plain": [
       "HBox(children=(FloatProgress(value=0.0, description='Running Simulation ', max=2000.0, style=ProgressStyle(des…"
      ]
     },
     "metadata": {},
     "output_type": "display_data"
    },
    {
     "name": "stdout",
     "output_type": "stream",
     "text": [
      "\n",
      "0.731\n"
     ]
    },
    {
     "data": {
      "application/vnd.jupyter.widget-view+json": {
       "model_id": "42260af11d78436e8a27022345c39f33",
       "version_major": 2,
       "version_minor": 0
      },
      "text/plain": [
       "HBox(children=(FloatProgress(value=0.0, description='Running Simulation ', max=2000.0, style=ProgressStyle(des…"
      ]
     },
     "metadata": {},
     "output_type": "display_data"
    },
    {
     "name": "stdout",
     "output_type": "stream",
     "text": [
      "\n",
      "0.7439393939393939\n"
     ]
    },
    {
     "data": {
      "application/vnd.jupyter.widget-view+json": {
       "model_id": "e174e943c295472d9d9b20b5ea9cf90a",
       "version_major": 2,
       "version_minor": 0
      },
      "text/plain": [
       "HBox(children=(FloatProgress(value=0.0, description='Running Simulation ', max=2000.0, style=ProgressStyle(des…"
      ]
     },
     "metadata": {},
     "output_type": "display_data"
    },
    {
     "name": "stdout",
     "output_type": "stream",
     "text": [
      "\n",
      "0.746\n"
     ]
    },
    {
     "data": {
      "application/vnd.jupyter.widget-view+json": {
       "model_id": "7c433460ae4c48b0a868809dfbb07694",
       "version_major": 2,
       "version_minor": 0
      },
      "text/plain": [
       "HBox(children=(FloatProgress(value=0.0, description='Running Simulation ', max=1980.0, style=ProgressStyle(des…"
      ]
     },
     "metadata": {},
     "output_type": "display_data"
    },
    {
     "name": "stdout",
     "output_type": "stream",
     "text": [
      "\n",
      "0.7605263157894737\n",
      "\n",
      "\n"
     ]
    }
   ],
   "source": [
    "\"\"\" \n",
    "\n",
    "Run Equilibrium Propagation / Backpropagation on Nanowire Networks for classification. \n",
    "\n",
    "Author: Alon Loeffler\n",
    "\n",
    "Required Files/Folders: learning_functions.py | edamame | asn_nw_01399_nj_06084_seed_1159_avl_10.00_disp_01.00_lx_100.00_ly_100.00.mat\n",
    "\n",
    "\"\"\"\n",
    "\n",
    "#IMPORTS:\n",
    "\n",
    "#Append path to Ruomin's Edamame Package (Nanowire Simulations)\n",
    "import sys\n",
    "import os\n",
    "\n",
    "sys.path.append('/import/silo2/aloe8475/Documents/edamame')\n",
    "saveFig='/import/silo2/aloe8475/Documents/Data/Figures/Equil Prop/'\n",
    "\n",
    "#import edamame (neuromorphic nanowire python package by Ruomin Zhu)\n",
    "from edamame import * \n",
    "import numpy as np\n",
    "import matplotlib.pyplot as plt\n",
    "import copy\n",
    "from scipy.io import loadmat, savemat\n",
    "import networkx as nx\n",
    "from tqdm.notebook import tqdm_notebook as tqdm\n",
    "from IPython.core.debugger import set_trace\n",
    "\n",
    "import pickle \n",
    "import _pickle as cPickle\n",
    "import gzip\n",
    "\n",
    "from learning_functions import genGridNW,point_on_line,dist,getWeightedGraph\n",
    "from learning_functions import calc_cost,setupStimulus,setupSourcesOnly,runTesting,getNWState,calcOutputs\n",
    "\n",
    "\" Create Inputs \"\n",
    "def createSimpleInputs(numSamples=10):\n",
    "    #SIMPLE ROW INPUTS:\n",
    "    np.random.seed(42)\n",
    "    orig_inputs=np.array((np.array([1,0,1,1,0,1,0]),np.array([0,1,0,1,1,0,1])))\n",
    "    orig_inputs=orig_inputs.astype('double')\n",
    "    samples=[[] for i in range(len(orig_inputs))]\n",
    "    new_inputs=np.array([orig_inputs]*numSamples)\n",
    "\n",
    "    #Pattern without Noise\n",
    "    NoNoiseInputs=[]\n",
    "    for targetClass in range(len(orig_inputs)):\n",
    "        NoNoiseInputs.append([int(i) for i in orig_inputs[targetClass]])\n",
    "\n",
    "    #Make Noisy variants of simple patterns:\n",
    "    for i in range(len(orig_inputs)):\n",
    "        for j in range(numSamples):\n",
    "            randVals=np.random.randint(1,3) #choose how many of the 3 sources will have noise\n",
    "            noiseVals=np.random.randint(3, size=randVals)\n",
    "            temp=orig_inputs[i][orig_inputs[i]==1].astype('double')\n",
    "            for val in noiseVals:\n",
    "                temp[val]=np.double(np.random.random(1))\n",
    "            new_inputs[j][i][new_inputs[j][i]==1]=temp\n",
    "    #         samples[i].append(temp)\n",
    "\n",
    "    #RESHAPE INPUTS INTO numSamplesx2\n",
    "    row1=[]\n",
    "    row2=[]\n",
    "    for i in range(len(new_inputs)):\n",
    "        row1.append(new_inputs[i][0])\n",
    "        row2.append(new_inputs[i][1])\n",
    "\n",
    "    inputs=np.array([row1,row2])\n",
    "    inputs=inputs.reshape(numSamples*2,orig_inputs.shape[1])\n",
    "    targets=np.zeros(numSamples*2)\n",
    "    targets[-numSamples:]=1\n",
    "\n",
    "    #change 0 volts to 0.05\n",
    "    minVoltage=0.005\n",
    "    inputs=inputs+minVoltage\n",
    "    \n",
    "    return inputs, targets,orig_inputs\n",
    "\n",
    "\" Load Networks \"\n",
    "def buildNetworks(fileName):\n",
    "    #load data\n",
    "    nw=loadmat(fileName)\n",
    "    nwSize = nw['number_of_wires'][0][0]\n",
    "    this_seed=8639\n",
    "    Network=nw\n",
    "    connectivity=connectivity__(wires_dict=Network) \n",
    "\n",
    "    #fixing file structure from Matlab:\n",
    "    connectivity.avg_length=connectivity.avg_length[0][0]\n",
    "    connectivity.number_of_junctions=connectivity.number_of_junctions[0][0]\n",
    "    connectivity.centroid_dispersion=connectivity.centroid_dispersion[0][0]\n",
    "    connectivity.dispersion=connectivity.dispersion[0][0]\n",
    "    # connectivity.generating_number_of_wires=connectivity.generating_number_of_wires[0][0]\n",
    "    connectivity.gennorm_shape=connectivity.gennorm_shape[0][0]\n",
    "    connectivity.length_x=connectivity.length_x[0][0]\n",
    "    connectivity.length_y=connectivity.length_y[0][0]\n",
    "    connectivity.number_of_wires=connectivity.number_of_wires[0][0]\n",
    "    connectivity.numOfWires=connectivity.numOfWires[0][0]\n",
    "    connectivity.numOfJunctions=connectivity.numOfJunctions[0][0]\n",
    "    connectivity.theta=connectivity.theta[0][0]\n",
    "    connectivity.this_seed=connectivity.this_seed[0][0]\n",
    "    \n",
    "    #find x and y values of each end of each wire \n",
    "    xa=connectivity.xa[0]\n",
    "    xb=connectivity.xb[0]\n",
    "    ya=connectivity.ya[0]\n",
    "    yb=connectivity.yb[0]\n",
    "\n",
    "    #Pick Electrode placement/distance apart:\n",
    "    \n",
    "    #DRAINS\n",
    "    numDrains=3\n",
    "    ex=np.ones(numDrains)*5#*15\n",
    "    if nwSize > 500:\n",
    "        eyVal=101\n",
    "    else:\n",
    "        eyVal= 51\n",
    "    ey=np.linspace(-1,eyVal,numDrains)#(-1,101,numDrains)\n",
    "\n",
    "    elecDrain=genGridNW(xa,xb,ya,yb,ex,ey) #generate drain locations in ex, ey coordinates\n",
    "\n",
    "    #SOURCES\n",
    "    numSources=9\n",
    "\n",
    "    #IN A LINE:\n",
    "    if nwSize > 500:\n",
    "        exVal=100\n",
    "        eyVal = 99\n",
    "    else:\n",
    "        exVal=50\n",
    "        eyVal=49\n",
    "    ex=np.ones(numSources)*exVal#50\n",
    "    ey=np.linspace(-2,eyVal,numSources)#(-2,99,numSources)\n",
    "    \n",
    "    #IN A 3X3 GRID:\n",
    "    # middleNWx=int(connectivity.length_x/2)+1\n",
    "    # middleNWy=int(connectivity.length_y/2)-1\n",
    "    # distBwElecs=10\n",
    "    # ex=[middleNWx-distBwElecs,middleNWx-distBwElecs,middleNWx-distBwElecs,middleNWx,middleNWx,middleNWx,middleNWx+distBwElecs,middleNWx+distBwElecs,middleNWx+distBwElecs]\n",
    "    # ey=[middleNWy-distBwElecs,middleNWy,middleNWy+distBwElecs]*3\n",
    "\n",
    "    elecSource=genGridNW(xa,xb,ya,yb,ex,ey) #generate source locations in ex, ey coordinates\n",
    "\n",
    "\n",
    "    #remove middle drain and sources for simple patterns:\n",
    "\n",
    "    elecSource=elecSource[[0,1,2,4,6,7,8]]\n",
    "    elecDrain=elecDrain[[0,-1]]\n",
    "\n",
    "    return connectivity,elecSource,elecDrain\n",
    "\n",
    "#This function changes the write voltage of the drain electrodes. This is where we tune the system so that \n",
    "#it prioritises/de-prioritises certain pathways based on targets and non-targets\n",
    "def change_voltage(stim,sim2,outputVals,target_index,th=0,th2=0,signalType='DC'):\n",
    "    import copy\n",
    "    stimulus=copy.deepcopy(stim)\n",
    "    \n",
    "    Vi        = np.zeros((int(run_time/dt)))\n",
    "    maxV      = onAmp*0.75\n",
    "    n         = len(outputVals)\n",
    "    cost      = np.zeros(n)\n",
    "    beta      = 0.1 #change the values here\n",
    "    grad      = np.zeros((n))\n",
    "    dsig    = np.array([stimulus[i].signal for i in range(len(stimulus))][:num_drain_training])\n",
    "    \n",
    "    #vectorised implementation\n",
    "    cost=calc_cost(outputVals,target_values) \n",
    "    \n",
    "#     if gradOff == False: #\n",
    "    grad=beta*(outputVals-target_values) \n",
    "#     elif gradOff == True: #if we have hit currents target\n",
    "#         grad=0\n",
    "    dsig2=dsig.T+(grad*onAmp)\n",
    "    for i in range(n): # for each drain:\n",
    "        if stimulus[i].signal[0] <= maxV and stimulus[i].signal[0] >= -maxV:\n",
    "            stimulus[i].signal=dsig2.T[i]\n",
    "        \n",
    "    print('Costs '+str(cost))\n",
    "    print('Sum Cost '+str((np.sum(cost))))\n",
    "    print('Gradients '+str(grad))\n",
    "    return outputVals,stimulus,cost\n",
    "\n",
    "#ADD BACKPROP\n",
    "#This function runs each training epoch and saves the network state at the last timestep of that epoch   \n",
    "def getNWState_backprop(training_stimulus,state,drains,sources,tmpTiming,tmpTargets,run_time=2,dt=0.01,disable_tqdm=False):\n",
    "    eles = np.append(drains, sources) #all drains\n",
    "    #     if len(eles) == num_drain_training + num_source_training:\n",
    "    training_sim,cost = runSim_backprop(connectivity, \n",
    "                       stimulus = training_stimulus,\n",
    "                       junctionMode = 'tunneling',\n",
    "                       dt = dt, T = run_time, \n",
    "                       contactMode = 'preSet',\n",
    "                       electrodes = eles,\n",
    "                       findFirst = False,\n",
    "                       start_state = state,\n",
    "                       disable_tqdm=disable_tqdm,\n",
    "                       collapse=True,tmpTiming=tmpTiming,tmpTargets=tmpTargets)  \n",
    "    #     JS1 = getJunctionState(training_sim, -1) #save state\n",
    "    #     else: \n",
    "    #         print('Bless you Joel :)')\n",
    "    return training_sim,cost   \n",
    "\n",
    "#Combine drain voltage change with runSim:\n",
    "def runSim_backprop(Connectivity, \n",
    "                    junctionMode='binary', collapse=False,\n",
    "                    criticalFlux=0.1, maxFlux=1.5e-1,\n",
    "                    contactMode='farthest', electrodes=None,\n",
    "                    dt=1e-3, T=10, \n",
    "                    stimulus = None,\n",
    "                    biasType = 'DC',\n",
    "                    onTime=0, offTime=50000000,\n",
    "                    onAmp=1, offAmp=0.005,\n",
    "                    f = 1, customSignal = None,\n",
    "                    start_state = None,\n",
    "                    lite_mode = False, save_steps = 1,\n",
    "                    findFirst = True,\n",
    "                    disable_tqdm = False,\n",
    "                    freeze_wire = None, freeze_junction = None, \n",
    "                    freeze_TimeStamp = None,tmpTiming=[],tmpTargets=[]):\n",
    "\n",
    "    \"\"\"\n",
    "    For the case of multi electrodes, stimulus should be in parameters.\n",
    "    See help(stimulus__) for how to generate stimulus__ objects.\n",
    "    \"\"\"\n",
    "\n",
    "    SimulationOptions = simulationOptions__(dt = dt, T = T,\n",
    "                                            connectivity = Connectivity, \n",
    "                                            contactMode = contactMode,\n",
    "                                            electrodes = electrodes)\n",
    "\n",
    "    if ((contactMode == 'preSet') and (len(electrodes) > 2)) or stimulus is not None:\n",
    "        from sys import exit\n",
    "        if stimulus == None:\n",
    "            logging.warning(f'Multiple electrodes detected. Please input stimulus in parameters!')\n",
    "            exit()\n",
    "        if len(stimulus) < len(SimulationOptions.electrodes):\n",
    "            diff = len(SimulationOptions.electrodes) - len(stimulus)\n",
    "            for _ in range(diff):\n",
    "                stimulus.append(stimulus__('Drain', T = T, dt = dt))\n",
    "\n",
    "        if len(stimulus) > len(SimulationOptions.electrodes):\n",
    "            logging.warning(f'More stimulus than electrodes. Current setup has {len(SimulationOptions.electrodes)} electrodes!')\n",
    "            exit()\n",
    "            \n",
    "        if len(stimulus[0].signal) < len(SimulationOptions.TimeVector):\n",
    "            logging.warning(f'Stimulus length not correct, current time vector has length {len(SimulationOptions.TimeVector)}!')\n",
    "            exit()\n",
    "        SimulationOptions.stimulus = stimulus\n",
    "            \n",
    "    elif contactMode == 'boundary':\n",
    "        SimulationOptions.stimulus[:int(len(SimulationOptions.electrodes)/2)] = [stimulus__(biasType = biasType, \n",
    "                                                                                        T = T, dt = dt,\n",
    "                                                                                        onTime = onTime, offTime = offTime,\n",
    "                                                                                        onAmp = onAmp, offAmp = offAmp,\n",
    "                                                                                        f = f, customSignal= customSignal)\n",
    "                                                                                        for i in range(int(len(SimulationOptions.electrodes)/2))]\n",
    "    else:\n",
    "        SimulationOptions.stimulus[0] = stimulus__(biasType = biasType, \n",
    "                                                T = T, dt = dt,\n",
    "                                                onTime = onTime, offTime = offTime,\n",
    "                                                onAmp = onAmp, offAmp = offAmp,\n",
    "                                                    f = f, customSignal= customSignal)\n",
    "    if start_state == None: \n",
    "        JunctionState = junctionState__(Connectivity.numOfJunctions, \n",
    "                                    mode = junctionMode, collapse = collapse, \n",
    "                                    criticalFlux=criticalFlux, maxFlux = maxFlux)\n",
    "    else:\n",
    "        from copy import deepcopy\n",
    "        JunctionState = deepcopy(start_state)\n",
    "    \n",
    "    kwdict = dict()\n",
    "    if (freeze_wire != None) or (freeze_junction != None):\n",
    "        kwdict = dict(freeze_wire = freeze_wire,\n",
    "                    freeze_junction = freeze_junction, \n",
    "                    freeze_TimeStamp = freeze_TimeStamp)\n",
    "        \n",
    "    this_realization,cost = simulateNetwork_backprop(SimulationOptions, Connectivity, JunctionState,tmpTiming,tmpTargets, lite_mode, disable_tqdm, save_steps, **kwdict)\n",
    "    \n",
    "    if findFirst:\n",
    "        from edamame.analysis.GraphTheory import findCurrent\n",
    "        try:\n",
    "            activation = findCurrent(this_realization, 1)\n",
    "            logging.info(f'First current path {activation[0][0]} formed at time = {activation[1][0]} s.')\n",
    "        except:\n",
    "            logging.info('Unfortunately, no current path is formed in simulation time.')\n",
    "\n",
    "    return this_realization,cost   \n",
    "\n",
    "def simulateNetwork_backprop(simulationOptions, connectivity, junctionState,tmpTiming,tmpTargets, lite_mode = False, disable_tqdm = False, save_steps = 1, **kwargs):\n",
    "    niterations = simulationOptions.NumOfIterations\n",
    "    electrodes = simulationOptions.electrodes\n",
    "    numOfElectrodes = len(electrodes)\n",
    "    E = connectivity.numOfJunctions\n",
    "    V = connectivity.numOfWires\n",
    "    edgeList = connectivity.edge_list\n",
    "    \n",
    "    maxV      = onAmp\n",
    "    n         = num_drain_training #num of drains\n",
    "    cost      = []\n",
    "    beta      = 1\n",
    "    grad      = np.zeros((n)) #set gradients to zero for each epoch  \n",
    "\n",
    "    Network = network__()\n",
    "    sampling = np.arange(0, niterations, save_steps)\n",
    "    if lite_mode:\n",
    "        Network.connectivity = connectivity__(adjMat = connectivity.adj_matrix)\n",
    "        Network.filamentState = np.zeros((int(niterations/save_steps), E))\n",
    "        Network.wireVoltage = np.zeros((int(niterations/save_steps), V))\n",
    "        Network.electrodeCurrent = np.zeros((int(niterations/save_steps), numOfElectrodes))\n",
    "        Network.TimeVector = np.zeros(int(niterations/save_steps))\n",
    "    else:        \n",
    "        Network.connectivity = connectivity\n",
    "        Network.TimeVector = simulationOptions.TimeVector\n",
    "        Network.filamentState = np.zeros((niterations, E))\n",
    "        Network.junctionVoltage = np.zeros((niterations, E))\n",
    "        # Network.junctionResistance = np.zeros((niterations, E))\n",
    "        Network.junctionConductance = np.zeros((niterations, E))\n",
    "        Network.junctionSwitch = np.zeros((niterations, E), dtype = bool)\n",
    "        Network.wireVoltage = np.zeros((niterations, V))\n",
    "        Network.electrodeCurrent = np.zeros((niterations, numOfElectrodes))\n",
    "\n",
    "    Network.sources = []\n",
    "    Network.drains = []\n",
    "    for i in range(numOfElectrodes):\n",
    "        if np.mean(simulationOptions.stimulus[i].signal) != 0:\n",
    "            Network.sources.append(electrodes[i])\n",
    "        else:\n",
    "            Network.drains.append(electrodes[i])\n",
    "\n",
    "    if len(Network.drains) == 0:\n",
    "        Network.drains.append(electrodes[1])\n",
    "\n",
    "    if 'freeze_wire' in kwargs:\n",
    "        freeze_wire = kwargs['freeze_wire']\n",
    "        freeze_TimeStamp = kwargs['freeze_TimeStamp']\n",
    "    else:\n",
    "        freeze_TimeStamp = niterations + 1\n",
    "    \n",
    "    #Simulation Run:\n",
    "    new_time=0\n",
    "    for this_time in tqdm(range(niterations), desc='Running Simulation ', disable = disable_tqdm): #each time step\n",
    "        \n",
    "        this_stimulus = np.array([i.signal[this_time] for i in simulationOptions.stimulus])\n",
    "        \n",
    "        if tmpTiming[this_time]=='Train':\n",
    "#             print('--------')\n",
    "#             print('Training')\n",
    "#             print('--------\\n')\n",
    "            trainTime=True\n",
    "        elif tmpTiming[this_time]=='Test':\n",
    "#             print('--------')\n",
    "#             print('Testing')\n",
    "#             print('--------\\n') \n",
    "            trainTime=False\n",
    "        \n",
    "        if trainTime and this_time > 0: #if we are training, change drain voltages, otherwise just use this_stimulus\n",
    "            this_stimulus[:num_drain_training]=new_stimulus \n",
    "            \n",
    "#             print('in training '+str(this_time))\n",
    "#         elif this_time > trainTime:\n",
    "            \n",
    "        sol = simCore(connectivity, junctionState, this_stimulus, electrodes, simulationOptions.dt)\n",
    "\n",
    "        if this_time >= freeze_TimeStamp:\n",
    "            others = np.setdiff1d(range(V), freeze_wire)\n",
    "            wireVoltage[others] = sol[others]\n",
    "        else:\n",
    "            wireVoltage = sol[0:V]\n",
    "            \n",
    "        if lite_mode:\n",
    "            if this_time%save_steps == 0:\n",
    "                Network.wireVoltage[this_time//save_steps,:] = wireVoltage\n",
    "                Network.electrodeCurrent[this_time//save_steps,:] = sol[V:]\n",
    "                Network.filamentState[this_time//save_steps,:] = junctionState.filamentState\n",
    "                Network.TimeVector[this_time//save_steps] = simulationOptions.TimeVector[this_time]\n",
    "        else:\n",
    "            Network.wireVoltage[this_time,:] = wireVoltage\n",
    "            Network.electrodeCurrent[this_time,:] = sol[V:]\n",
    "            Network.filamentState[this_time,:] = junctionState.filamentState\n",
    "            Network.junctionVoltage[this_time,:] = junctionState.voltage\n",
    "            Network.junctionConductance[this_time,:] = junctionState.conductance\n",
    "            Network.junctionSwitch[this_time,:] = junctionState.OnOrOff\n",
    "        \n",
    "        ## BackProp Implementation\n",
    "        y = Network.electrodeCurrent[this_time,:num_drain_training]\n",
    "        \n",
    "        if tmpTargets[this_time] != -1: #skip rest values\n",
    "            tarIdx=tmpTargets[this_time]\n",
    "            y = y/(maxCurrent[tarIdx]) # normalize  | | | how do we change max current to be not arbitrary? \n",
    "            \n",
    "        # current method - run simulation before with just that drain and use current as maxCurrent\n",
    "\n",
    "            # change to threshold \n",
    "            d = allTargets[tarIdx]\n",
    "            dsig = this_stimulus[:num_drain_training]\n",
    "\n",
    "\n",
    "            #vectorised implementation\n",
    "            cost.append(calc_cost(y,d))\n",
    "\n",
    "            if this_time < trainTime: #if we are training, update beta\n",
    "                #Gradient without considering other electrodes:\n",
    "        # \n",
    "                grad=beta*(y-d) #e.g. [y1 vs (d1 = 1), y2 vs (d2 = 0), y3vs (d3 = 0)]\n",
    "                #Gradient while considering other electrodes:\n",
    "        #         for i in range(n): #for each drain \n",
    "                    #y = normalised drain current\n",
    "                    #d = target (1 or 0) e.g. [1,0,0]\n",
    "\n",
    "        #             grad[i] = beta*(y[i]-d[i]) + sum([beta*(y[j]-d[j]) for j in range(n) if j != i])\n",
    "                    # i = 1, drain 1 is target, target = 1\n",
    "                    # i = 2, drain 2 is target, target = 0\n",
    "\n",
    "                #grad_i = (y_i - d_i) + SUM[ beta*(y_j - d_j) ], j \\neq (doesn't equal) i        \n",
    "                dsig2=np.array(dsig.T+(grad*onAmp))\n",
    "\n",
    "                dsig2[tmpTargets[this_time]]=0\n",
    "                new_stimulus=dsig2\n",
    "\n",
    "                for q in range(n): # for each drain:\n",
    "                    if dsig2[q] <= maxV and dsig2[q] >= -maxV:\n",
    "                        new_stimulus[q]=dsig2[q]\n",
    "                    elif dsig2[q] < -maxV:\n",
    "                        new_stimulus[q]=-maxV\n",
    "                    elif dsig2[q] > maxV:\n",
    "                        new_stimulus[q]=maxV  \n",
    "\n",
    "                tmp=range(0,niterations,numDT)\n",
    "             \n",
    "            else:\n",
    "                tmp=range(0,niterations,numDT)\n",
    "\n",
    "            new_time+=1\n",
    "            \n",
    "    Network.numOfWires = V\n",
    "    Network.numOfJunctions = E\n",
    "    Network.electrodes = simulationOptions.electrodes\n",
    "    if len(electrodes) <= 2:\n",
    "        Network.conductance = Network.electrodeCurrent[:,1]/simulationOptions.stimulus[0].signal[sampling]\n",
    "    if not lite_mode:\n",
    "        Network.stimulus = [simulationOptions.stimulus[i] for i in range(numOfElectrodes)]\n",
    "        Network.junctionResistance = 1/Network.junctionConductance\n",
    "        \n",
    "    return Network,cost\n",
    "\n",
    "\n",
    "\n",
    "def runNBACK(onAmp,onAmpTest,dt,Tlen,timesteps,numDT,restDur,nbacks=[],maxCurrent=[1e-5,1e-5],seed=42):\n",
    "    \"\"\"\n",
    "    n-back task:\n",
    "    input sample 1 with backprop, then sample 2 with backprop, then sample 1 again with reset drain voltages \n",
    "    n back here = 1, showing memory\n",
    "    \n",
    "    train sample x, test sample x + nback (e.g. nback = 2, sample = [s1 train,s2,s3,s1 test] )\n",
    "\n",
    "    increase n-back: \n",
    "    sample 1 with backprop, sample 2, sample 3... test sample 1 - n=2\n",
    "    \n",
    "    Things to test:\n",
    "    - if we increase input frequency (dt), do we see greater long term memory? (higher n-backs)\n",
    "    - if we decrease frequency, do we see greater short term memory? (lower n-backs)\n",
    "\n",
    "    \"\"\"\n",
    "    t           = [[] for i in range(len(nbacks))]\n",
    "    simVoltages = []\n",
    "    saveStim    = []\n",
    "    accuracy    = []\n",
    "    count=0\n",
    "    for nback in tqdm(nbacks): #how many samples to \"remember\" in the past before testing\n",
    "        np.random.seed(seed)\n",
    "        \n",
    "        numTestingSample = 20 #how many samples across all nback values\n",
    "        \n",
    "        orderTraining = np.random.choice(len(trainingInputs),size=len(trainingInputs),replace=False)\n",
    "        orderTrainingLabels=traininglabels[orderTraining]\n",
    "        orderTrainingLabelsNBACK=orderTrainingLabels[::nback]\n",
    "        orderTesting=[]\n",
    "        for label in orderTrainingLabelsNBACK: #for each training label in the random order:\n",
    "            orderTesting.append(np.random.choice(np.where(testinglabels==label)[0]))\n",
    "        orderTestingLabels=testinglabels[orderTesting]    \n",
    "        orderTestingNBACK=np.array(orderTesting)+len(orderTraining) #number of test per nback\n",
    "\n",
    "         #choose how many samples between testing samples:\n",
    "        i = nback\n",
    "        temp=[]\n",
    "        j=0\n",
    "        order=[None]*(len(orderTraining))\n",
    "        order[:len(orderTraining)]=orderTraining\n",
    "        while j<numTestingSample: #for each training sample\n",
    "            if i < len(order):\n",
    "                order.insert(i, orderTesting[j]+len(orderTraining)) #insert training sample at ith position\n",
    "            temp.append(i) #number of inserts we made\n",
    "            i += nback+1\n",
    "            j +=1\n",
    "#         order=np.array(order)[:temp[numTrainingSamples]]#first x samples only\n",
    "#         print()\n",
    "\n",
    "        #RUN SIM\n",
    "        N                   = orig_inputs.shape[1]\n",
    "        numClasses          = 2\n",
    "        signalType          ='DC'\n",
    "        num_drain_training  = 2\n",
    "        num_source_training = N\n",
    "        tmpSources          = [[] for i in range(len(order))]\n",
    "        tmpTargets          = [None]*len(order)\n",
    "        sim                 = [None]*len(order)\n",
    "        numTrainingSamples  = len(trainingInputs)\n",
    "        numTestingSamples   = len(testingInputs)\n",
    "        timing=[]\n",
    "        i=0\n",
    "        for val in order: #this method loops through samples in the randomised training order\n",
    "\n",
    "            #are we training or testing?\n",
    "            if val in orderTestingNBACK:\n",
    "                test=True\n",
    "                train=False\n",
    "            elif val in orderTraining:\n",
    "                test=False\n",
    "                train=True\n",
    "            #define samples\n",
    "            if train: #if we're training\n",
    "                this_sample = trainingInputs[val].copy() #xs\n",
    "                this_label  = traininglabels[val] #ys\n",
    "                this_sample[this_sample>0.005]=this_sample[this_sample>0.005]*onAmp\n",
    "                timing.append('Train')\n",
    "\n",
    "            elif test: #if we're testing\n",
    "                this_sample = testingInputs[val-len(orderTraining)].copy() #xs\n",
    "                this_label  = testinglabels[val-len(orderTraining)] #ys\n",
    "                this_sample[this_sample>0.005]=this_sample[this_sample>0.005]*onAmpTest\n",
    "                timing.append('Test')\n",
    "\n",
    "            targetClassVals=[0,1] \n",
    "\n",
    "            targetTmp = signal_expand(this_label,numDT) #number of timesteps per target\n",
    "            timing[i] = signal_expand(timing[i],numDT)\n",
    "        #     #array of nans:\n",
    "            tmpArray=np.empty(restDur)\n",
    "            tmpArray[:]=-1\n",
    "            targetTmp = np.append(targetTmp,tmpArray) #add rest #need to remove targets from rest\n",
    "            tmpTargets[i]=targetTmp \n",
    "\n",
    "            for j in range(len(this_sample)): #for each source electrode\n",
    "                tmp = signal_expand(this_sample[j],numDT)\n",
    "                tmp = np.append(tmp,np.zeros(restDur)) #add rest\n",
    "                tmpSources[i].append(tmp)\n",
    "            i += 1\n",
    "\n",
    "        #reshape inputs into 1d:\n",
    "        tmpSources = np.hstack(np.array(tmpSources))\n",
    "        tmpTargets = np.hstack(np.array(tmpTargets)).astype(int)\n",
    "        tmpTiming = np.hstack(np.array(timing))\n",
    "        # Change voltages\n",
    "        newSources=tmpSources.copy()\n",
    "\n",
    "        tmpDrain=[]\n",
    "        stimulus=[]\n",
    "        for j in range(num_drain_training): #create stimulus for each drain electrode\n",
    "            stimulus.append(stimulus__(biasType='Drain',T=dt*len(newSources[j]),dt=dt))\n",
    "\n",
    "        for j in range(len(tmpSources)): #create stimulus for each source electrode\n",
    "            stimulus.append(stimulus__(biasType='Custom',T=dt*len(newSources[j]),dt=dt,customSignal=newSources[j]))\n",
    "\n",
    "        # set_trace()\n",
    "        signalLen=len(stimulus[0].signal) \n",
    "        \n",
    "        saveStim = stimulus\n",
    "        #Run simulation\n",
    "        sim,cost = getNWState_backprop(stimulus,None,drain_pool,sources,tmpTiming,tmpTargets,run_time=int(signalLen*dt),dt=dt,disable_tqdm=False)\n",
    "        #Calculate electrode currents\n",
    "        simVoltages.append(sim.wireVoltage)\n",
    "        t[count].append(calcOutputs(sim,sources,drain_pool))\n",
    "    \n",
    "    \n",
    "        #TESTING\n",
    "        tmp=numDT*nback\n",
    "\n",
    "        A=np.array(range(tmp,signalLen+1,int(tmp+numDT)))\n",
    "        B=np.array(range(tmp+numDT,signalLen+1,int(tmp+numDT)))\n",
    "        c=[]\n",
    "        for k in range(len(B)):\n",
    "            c.append(range(A[k],B[k]))\n",
    "        testTimes=np.array(np.hstack(c))\n",
    "        l=range(signalLen)\n",
    "        trainTimes=np.array(np.hstack([m for m in l if m not in testTimes]))\n",
    "#         set_trace()\n",
    "        accuracy.append(np.sum(np.argmax([t[count][0][0][testTimes],t[count][0][1][testTimes]],axis=0)==tmpTargets[testTimes])/len(tmpTargets[testTimes]))\n",
    "        print(accuracy[count])\n",
    "        \n",
    "        #Draw:\n",
    "        #Plot Test labels vs test argmax\n",
    "#         plt.figure()\n",
    "#         plt.plot(tmpTargets[testTimes],c='b')\n",
    "#         plt.plot(np.argmax([t[count][0][0][testTimes],t[count][0][1][testTimes]],axis=0),alpha=0.5,c='r')\n",
    "#         plt.legend(['Target','Argmax'])\n",
    "\n",
    "#         plt.yticks([0,1])\n",
    "#         ax=plt.gca()\n",
    "#         ax.set_yticklabels(['Drain 1','Drain 2'])      \n",
    "        \n",
    "        count+=1\n",
    "    return t,simVoltages,saveStim,accuracy\n",
    "\n",
    "def trainTestSplit(inputs,targets,targetClassVals=[0,1],numTestingPerClass=3,orig_inputs=[]):\n",
    "    trainingInputs  = np.array([inputs[targets==targetClassVals[0]][:-numTestingPerClass],inputs[targets==targetClassVals[1]][:-numTestingPerClass]]).reshape(-1,orig_inputs.shape[1])\n",
    "    testingInputs   = np.array([inputs[targets==targetClassVals[0]][-numTestingPerClass:],inputs[targets==targetClassVals[1]][-numTestingPerClass:]]).reshape(-1,orig_inputs.shape[1])\n",
    "    #Define Training and Testing labels\n",
    "    traininglabels=np.zeros(len(trainingInputs))\n",
    "    traininglabels[:int(len(trainingInputs)/2)]=0\n",
    "    traininglabels[int(len(trainingInputs)/2):int(len(trainingInputs)/2)*2]=1\n",
    "    # traininglabels[int(len(trainingInputs)/3)*2:]=2\n",
    "    traininglabels=traininglabels.astype(int)\n",
    "\n",
    "    testinglabels=np.zeros(len(testingInputs))\n",
    "    testinglabels[:int(len(testingInputs)/2)]=0\n",
    "    testinglabels[int(len(testingInputs)/2):int(len(testingInputs)/2)*2]=1\n",
    "    # testinglabels[int(len(testingInputs)/3)*2:]=2\n",
    "    testinglabels=testinglabels.astype(int)\n",
    "    \n",
    "    return trainingInputs,testingInputs,traininglabels,testinglabels \n",
    "\n",
    "\n",
    "    \n",
    "\"RUN SIMULATION\"\n",
    "print('Loading Networks + Training Data')\n",
    "numSamples=50\n",
    "inputs,targets,orig_inputs=createSimpleInputs(numSamples)\n",
    "allTargets=[[1,0],[0,1]]\n",
    "\n",
    "fileName='/import/silo2/aloe8475/Documents/Data/Associative Learning/Sparse Networks/asn_nw_00350_nj_01350_seed_1581_avl_10.00_disp_01.00_lx_50.00_ly_50.00'\n",
    "connectivity,sources,drain_pool=buildNetworks(fileName)\n",
    "\n",
    "targetClassVals=[0,1]\n",
    "numTestingPerClass=10\n",
    "trainingInputs,testingInputs,traininglabels,testinglabels = trainTestSplit(inputs,targets,targetClassVals,numTestingPerClass,orig_inputs=orig_inputs)\n",
    "\n",
    "\"Run n-back Task\"\n",
    "# DEFINE PARAMETERS\n",
    "#Time:\n",
    "dt      = 0.1\n",
    "Tlen    = 200 #seconds\n",
    "timesteps   = int(Tlen/dt)\n",
    "numDT       = int(timesteps/len(inputs)) #number of timesteps per sample\n",
    "restDur=0\n",
    "\n",
    "#Amplitude:\n",
    "allAmpsTraining = [0.5,1,2,5] #Input voltage training\n",
    "allAmpsTesting  = [0.1,0.2,0.3,0.5] #Input voltage testing\n",
    "onAmp = allAmpsTraining[2]\n",
    "onAmpTest = allAmpsTesting[3]\n",
    "\n",
    "#Other global variables:\n",
    "num_drain_training = 2\n",
    "maxCurrent          = [1e-5,1e-5]\n",
    "\n",
    "#RUN NBACKS\n",
    "nbacks      = range(1,5)\n",
    "numRuns     = 10\n",
    "t           = [None]*numRuns\n",
    "simVoltages = [None]*numRuns\n",
    "saveStim    = [None]*numRuns\n",
    "accuracy    = [None]*numRuns\n",
    "seeds       =  np.random.choice(10000,size=numRuns,replace=False)\n",
    "\n",
    "for i in tqdm(range(numRuns)):\n",
    "    t[i],simVoltages[i],saveStim,accuracy[i]=runNBACK(onAmp,onAmpTest,dt,Tlen,timesteps,numDT,restDur,nbacks,maxCurrent,seed=seeds[i])\n"
   ]
  },
  {
   "cell_type": "raw",
   "id": "5c819091",
   "metadata": {},
   "source": []
  },
  {
   "cell_type": "code",
   "execution_count": null,
   "id": "22b8ebe5",
   "metadata": {},
   "outputs": [],
   "source": []
  },
  {
   "cell_type": "code",
   "execution_count": 121,
   "id": "95672aac",
   "metadata": {},
   "outputs": [
    {
     "data": {
      "text/plain": [
       "Text(0, 0.5, 'Accuracy')"
      ]
     },
     "execution_count": 121,
     "metadata": {},
     "output_type": "execute_result"
    },
    {
     "data": {
      "image/png": "[encoded data removed]",
      "text/plain": [
       "<Figure size 432x288 with 1 Axes>"
      ]
     },
     "metadata": {},
     "output_type": "display_data"
    }
   ],
   "source": [
    "import pandas as pd\n",
    "plt.style.use('ggplot')\n",
    "\n",
    "y=np.mean(accuracy,axis=0)\n",
    "yerr=np.std(accuracy,axis=0)\n",
    "\n",
    "df=pd.DataFrame({'Mean':y,'STD':yerr})\n",
    "meansum =df['Mean']\n",
    "stdsum=df['STD']\n",
    "\n",
    "fig,ax=plt.subplots(1)\n",
    "my_colors = ['r','g','b','m']\n",
    "plot = meansum.plot(kind='bar',yerr=stdsum,color=my_colors,edgecolor='black',grid=False,ax=ax,error_kw=dict(ecolor='k',elinewidth=2,capsize=5),width=0.8,rot=0)\n",
    "ax.set_ylim([0,1.02])\n",
    "ax.set_facecolor('white')\n",
    "ax.set_xticklabels([1,2,3,4])\n",
    "ax.set_xlabel('n-back')\n",
    "ax.set_ylabel('Accuracy')"
   ]
  },
  {
   "cell_type": "code",
   "execution_count": null,
   "id": "e70886f4",
   "metadata": {},
   "outputs": [],
   "source": []
  }
 ],
 "metadata": {
  "kernelspec": {
   "display_name": "Python 3 (ipykernel)",
   "language": "python",
   "name": "python3"
  },
  "language_info": {
   "codemirror_mode": {
    "name": "ipython",
    "version": 3
   },
   "file_extension": ".py",
   "mimetype": "text/x-python",
   "name": "python",
   "nbconvert_exporter": "python",
   "pygments_lexer": "ipython3",
   "version": "3.8.12"
  }
 },
 "nbformat": 4,
 "nbformat_minor": 5
}
