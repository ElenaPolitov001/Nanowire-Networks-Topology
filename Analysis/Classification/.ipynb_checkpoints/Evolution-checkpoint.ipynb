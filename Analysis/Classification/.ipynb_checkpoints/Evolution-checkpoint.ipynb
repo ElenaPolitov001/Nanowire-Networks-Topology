{
 "cells": [
  {
   "cell_type": "code",
   "execution_count": 8,
   "metadata": {},
   "outputs": [
    {
     "name": "stdout",
     "output_type": "stream",
     "text": [
      "C:\\Users\\aloe8475\\Dropbox (Sydney Uni)\\Data\\ASN_simulation\\Python\\ASN\n"
     ]
    }
   ],
   "source": [
    "cd \"C:/Users/aloe8475/Dropbox (Sydney Uni)/Data/ASN_simulation/Python/ASN\""
   ]
  },
  {
   "cell_type": "code",
   "execution_count": 10,
   "metadata": {},
   "outputs": [],
   "source": [
    "from scipy.io import loadmat, savemat\n",
    "from edamame import * \n",
    "import numpy as np\n",
    "import matplotlib.pyplot as plt\n",
    "from matplotlib import colors\n",
    "import networkx as nx\n",
    "from draw.draw_graph import draw_graph\n",
    "from tqdm import tqdm_notebook\n",
    "import os"
   ]
  },
  {
   "cell_type": "markdown",
   "metadata": {},
   "source": [
    "# ANN Evolution\n",
    "\n",
    "The current notebook creates new nanowire networks and tests their performance on a task. We take random parts of a network that performs well on a task and perform noisy recombination to test it on a new generation of networks. We do this until we get a network that performs very well on the specific task.\n",
    "\n",
    "We will then train a seperate set of networks for another task, and see if either network can generalize their performance."
   ]
  },
  {
   "cell_type": "markdown",
   "metadata": {},
   "source": [
    "## Step 1: Generating Networks "
   ]
  },
  {
   "cell_type": "code",
   "execution_count": 11,
   "metadata": {},
   "outputs": [],
   "source": [
    "#Generate 100 different networks (with varying parameters)"
   ]
  },
  {
   "cell_type": "markdown",
   "metadata": {},
   "source": [
    "## Step 2: Training + Testing"
   ]
  },
  {
   "cell_type": "markdown",
   "metadata": {},
   "source": [
    "### Task 1: Associative Learning "
   ]
  },
  {
   "cell_type": "markdown",
   "metadata": {},
   "source": [
    "#### Training\n",
    "Choose a target pattern (e.g. 3 channels out of 9), and then train each network on those channels while shutting off all other channels.\n",
    "\n",
    "Can repeat this with a few different patterns to see if the same networks perform best"
   ]
  },
  {
   "cell_type": "code",
   "execution_count": 12,
   "metadata": {},
   "outputs": [],
   "source": [
    "#Train each network on Associative Learning Task"
   ]
  },
  {
   "cell_type": "markdown",
   "metadata": {},
   "source": [
    "#### Testing\n",
    "Open all channels and see if the networks still preference the trained channels"
   ]
  },
  {
   "cell_type": "code",
   "execution_count": 13,
   "metadata": {},
   "outputs": [],
   "source": [
    "#See which one performs "
   ]
  },
  {
   "cell_type": "markdown",
   "metadata": {},
   "source": [
    "#### Cross-Correlation\n",
    "Test to see which networks performed this task best:\n",
    "\n",
    "Taken from Adrian's Cross-Correlation code (Matlab)"
   ]
  },
  {
   "cell_type": "code",
   "execution_count": 14,
   "metadata": {},
   "outputs": [
    {
     "ename": "SyntaxError",
     "evalue": "invalid syntax (<ipython-input-14-0ecb77e24ce0>, line 6)",
     "output_type": "error",
     "traceback": [
      "\u001b[1;36m  File \u001b[1;32m\"<ipython-input-14-0ecb77e24ce0>\"\u001b[1;36m, line \u001b[1;32m6\u001b[0m\n\u001b[1;33m    avecurr(SelChan)=mean(currData(1:TimeIndex,SelChan),1);\u001b[0m\n\u001b[1;37m                                    ^\u001b[0m\n\u001b[1;31mSyntaxError\u001b[0m\u001b[1;31m:\u001b[0m invalid syntax\n"
     ]
    }
   ],
   "source": [
    "# Take average current across all times for each channel:\n",
    "TimeIndex=round(sliderT.Value); #find the rounded time\n",
    "\n",
    "avecurr=zeros(1,numElec);\n",
    "\n",
    "avecurr(SelChan)=mean(currData(1:TimeIndex,SelChan),1);\n",
    "\n",
    "#sclist=zeros(1,length(avecurr));\n",
    "for i=1:length(avecurr)\n",
    "    I_ave=avecurr{i}; #average current at the ith channel\n",
    "    I_tar=boolTargets(i,:); #logical of which channels were used;\n",
    "    \n",
    "    un=(I_ave-mean(I_ave));\n",
    "    dos=(I_tar-mean(I_tar));\n",
    "\n",
    "    u=sum(un.*dos);\n",
    "    d=sqrt(sum(un.^2)*sum(dos.^2));\n",
    "    \n",
    "    sclist(i)=u/d;"
   ]
  },
  {
   "cell_type": "markdown",
   "metadata": {},
   "source": [
    "### Noisy Recombination (Optional)\n",
    "Pick 100 networks with varying topology, see which ones learn the best, and then make a new 'hybrid' population of 100 networks based on noisy** recombinations of the top 10 from the first round. Then, repeat this again a few times, each time measuring the topology of the networks. In other words, evolve the networks by natural section.\n",
    "\n",
    "https://towardsdatascience.com/evolution-of-a-salesman-a-complete-genetic-algorithm-tutorial-for-python-6fe5d2b3ca35"
   ]
  },
  {
   "cell_type": "code",
   "execution_count": 15,
   "metadata": {},
   "outputs": [],
   "source": [
    "#Perform Noisy Recombination"
   ]
  },
  {
   "cell_type": "markdown",
   "metadata": {},
   "source": [
    "### Task 2: ????"
   ]
  },
  {
   "cell_type": "markdown",
   "metadata": {},
   "source": [
    "#### Training"
   ]
  },
  {
   "cell_type": "markdown",
   "metadata": {},
   "source": [
    "#### Testing"
   ]
  },
  {
   "cell_type": "markdown",
   "metadata": {},
   "source": [
    "### Noisy Recombination (Optional)\n"
   ]
  },
  {
   "cell_type": "markdown",
   "metadata": {},
   "source": [
    "## Step 3: Structural + Functional Connectivity"
   ]
  },
  {
   "cell_type": "code",
   "execution_count": null,
   "metadata": {},
   "outputs": [],
   "source": []
  }
 ],
 "metadata": {
  "kernelspec": {
   "display_name": "Python 3",
   "language": "python",
   "name": "python3"
  },
  "language_info": {
   "codemirror_mode": {
    "name": "ipython",
    "version": 3
   },
   "file_extension": ".py",
   "mimetype": "text/x-python",
   "name": "python",
   "nbconvert_exporter": "python",
   "pygments_lexer": "ipython3",
   "version": "3.7.3"
  }
 },
 "nbformat": 4,
 "nbformat_minor": 2
}
