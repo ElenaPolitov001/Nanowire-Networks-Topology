{
 "cells": [
  {
   "cell_type": "code",
   "execution_count": 1,
   "metadata": {},
   "outputs": [],
   "source": [
    "from scipy.io import *\n",
    "import numpy as np\n",
    "import matplotlib.pyplot as plt\n",
    "import seaborn as sns\n",
    "import datetime\n",
    "import math, time \n",
    "import pandas as pd\n",
    "\n",
    "from sklearn.model_selection import train_test_split, GridSearchCV\n",
    "from sklearn import pipeline\n",
    "from sklearn.svm import SVC\n",
    "from sklearn.discriminant_analysis import LinearDiscriminantAnalysis\n",
    "from sklearn.linear_model import LogisticRegression\n",
    "from sklearn.tree import DecisionTreeClassifier\n",
    "from sklearn.neighbors import KNeighborsClassifier\n",
    "from sklearn.ensemble import RandomForestClassifier\n",
    "from sklearn.preprocessing import StandardScaler, Normalizer"
   ]
  },
  {
   "cell_type": "markdown",
   "metadata": {},
   "source": [
    "# LDA & SVM mnist Classification"
   ]
  },
  {
   "cell_type": "code",
   "execution_count": 2,
   "metadata": {},
   "outputs": [],
   "source": [
    "# Define Paths\n",
    "\n",
    "# train_num='1'\n",
    "# test_num='7'\n",
    "# num_nanowires='100'\n",
    "# Time = '30'\n",
    "test_type='LDA' #LDA\n",
    "kernel_type='linear' #linear, rbf - kernel options for SVM\n",
    "# date_of_training='14'\n",
    "# date_of_testing='14'\n",
    "\n",
    "path=\"C:/Users/aloe8475/Documents/PhD/GitHub/CODE/Analysis/Classification/Kevin Data/\"\n",
    "\n",
    "#Train with a testing file:\n",
    "# filename_train = path + 'Net_Sx_20_NoW100_03_25-2019_11_23_38_Zdenka_Square_1SimsOnly_10_Sec_4Electrodes_Vmax_0.5_Testing Simulation_' + train_num + '_' + date_of_training + '-Jun-2019_ForPython.mat'\n",
    "\n",
    "#Train with normal file:\n",
    "filename_train = path + '60000hwdata.mat'\n",
    "# filename_train_save= test_type+'_Training Simulation_'+ train_num + '_' + Time + '_Sec_' + num_nanowires +'nw_' + date_of_training + '-Jun-2019_KEVIN' \n",
    "\n",
    "#Test with training file:\n",
    "# filename_test = path + 'Net_Sx_20_NoW100_03_25-2019_11_23_38_Zdenka_Square_1SimsOnly_10_Sec_4Electrodes_Vmax_0.5_Training Simulation_' + test_num + '_' + date_of_testing + '-Jun-2019_ForPython.mat'\n",
    "\n",
    "#Test with normal file\n",
    "filename_test = path+ '60000hwresult.mat'\n",
    "\n",
    "# if test_type == 'SVM':\n",
    "#     filename_test_save= test_type+'_'+kernel_type+'_kernel'+'_Testing Simulation_' + test_num +'_' + Time + '_Sec_' + num_nanowires + 'nw_' + date_of_testing + '-Jun-2019' \n",
    "# else:\n",
    "# #     filename_test_save= test_type+'_Testing Simulation_' + test_num +'_' + Time + '_Sec_' + num_nanowires + 'nw_' + date_of_testing + '-Jun-2019_KEVIN' \n",
    "\n",
    "# filename = 'Alon_Code/Data/Testing/Extracted_test_2.mat'"
   ]
  },
  {
   "cell_type": "code",
   "execution_count": 3,
   "metadata": {},
   "outputs": [],
   "source": [
    "# Load the Training data\n",
    "\n",
    "data1 = loadmat(filename_train)\n",
    "data2= loadmat(filename_test)\n",
    "\n",
    "IPattern = data1['recurrent']#.todense()\n",
    "TargetPattern = data2['result']"
   ]
  },
  {
   "cell_type": "code",
   "execution_count": 4,
   "metadata": {},
   "outputs": [
    {
     "data": {
      "text/plain": [
       "(60000, 168)"
      ]
     },
     "execution_count": 4,
     "metadata": {},
     "output_type": "execute_result"
    }
   ],
   "source": [
    "IPattern.shape"
   ]
  },
  {
   "cell_type": "code",
   "execution_count": 5,
   "metadata": {},
   "outputs": [],
   "source": [
    "\n",
    "# SPLIT INTO TRAIN AND TEST:\n",
    "\n",
    "X_train, X_test, y_train, y_test = train_test_split(IPattern, TargetPattern, test_size = 20000, random_state = 10)\n",
    "\n",
    "# IPattern_Train=IPattern[list(range(int(len(IPattern)/2))),:]\n",
    "# IPattern_Test=IPattern[int(len(IPattern)/2):len(IPattern),:]\n",
    "\n",
    "# TargetPattern_Train=TargetPattern[list(range(int(len(IPattern)/2))),:]\n",
    "# TargetPattern_Test=TargetPattern[int(len(IPattern)/2):len(IPattern),:]\n",
    "# for i in range(len(IPattern)):\n",
    "#     IPattern[i]=IPattern[i,:]\n",
    "\n",
    "# IDrain2_Train=IDrain[:,1].todense()\n",
    "# VSource1_Train=VSource[:,0]\n",
    "# VSource2_Train=VSource[:,1]"
   ]
  },
  {
   "cell_type": "code",
   "execution_count": null,
   "metadata": {},
   "outputs": [],
   "source": []
  },
  {
   "cell_type": "code",
   "execution_count": 6,
   "metadata": {},
   "outputs": [
    {
     "data": {
      "text/plain": [
       "(40000, 10)"
      ]
     },
     "execution_count": 6,
     "metadata": {},
     "output_type": "execute_result"
    }
   ],
   "source": [
    "y_train.shape"
   ]
  },
  {
   "cell_type": "code",
   "execution_count": 7,
   "metadata": {},
   "outputs": [
    {
     "data": {
      "text/plain": [
       "<matplotlib.image.AxesImage at 0x2920c8b4438>"
      ]
     },
     "execution_count": 7,
     "metadata": {},
     "output_type": "execute_result"
    },
    {
     "data": {
      "image/png": "[encoded data removed]",
      "text/plain": [
       "<Figure size 432x288 with 1 Axes>"
      ]
     },
     "metadata": {
      "needs_background": "light"
     },
     "output_type": "display_data"
    }
   ],
   "source": [
    "plt.imshow(X_train)"
   ]
  },
  {
   "cell_type": "code",
   "execution_count": 8,
   "metadata": {},
   "outputs": [
    {
     "data": {
      "text/plain": [
       "array([[0, 0, 0, ..., 0, 0, 1],\n",
       "       [0, 0, 0, ..., 0, 0, 0],\n",
       "       [0, 0, 0, ..., 1, 0, 0],\n",
       "       ...,\n",
       "       [1, 0, 0, ..., 0, 0, 0],\n",
       "       [0, 0, 0, ..., 1, 0, 0],\n",
       "       [0, 0, 0, ..., 0, 0, 0]], dtype=uint8)"
      ]
     },
     "execution_count": 8,
     "metadata": {},
     "output_type": "execute_result"
    }
   ],
   "source": [
    "y_train"
   ]
  },
  {
   "cell_type": "code",
   "execution_count": 9,
   "metadata": {},
   "outputs": [],
   "source": [
    "# Split the data\n",
    "X = np.vstack([X_train])\n",
    "y = np.vstack([y_train])\n",
    "y = np.argmax(y,axis=1)\n",
    "\n",
    "\n",
    "X_Test=np.vstack([X_test])\n",
    "y_Test=np.vstack([y_test])\n",
    "y_Test = np.argmax(y_Test,axis=1)\n",
    "# y2 = VSource2_Train[start_time:].ravel()\n",
    "# y2 = (y2 == np.nanmax(y2)) * 2\n",
    "# if multi_class:\n",
    "#     y = y + y2\n",
    "\n",
    "# X[:,1] = X[:,1] / X[:,0]\n",
    "# scalar = StandardScaler()\n",
    "# scalar = Normalizer(norm = 'l2')\n",
    "# X = scalar.fit_transform(X)\n",
    "# # X = (X - X.mean(axis = 0)) / X.std(axis = 0)\n",
    "# # X = (X - X.mean(axis = 0)) / X.std(axis = 0)\n",
    "# # X = (X - X.mean(axis = 1)) / X.std(axis = 1)\n",
    "# X = np.asarray(X) * 1\n",
    "\n",
    "# sns.kdeplot(X[:,0][y], X[:,1][y])\n",
    "# sns.kdeplot(X[:,0][~y], X[:,1][~y])\n",
    "# fig, axes = plt.subplots(1, 2, figsize=(16, 4))\n",
    "\n",
    "# axes[0].scatter(X[:,0], X[:,1], c = y, marker = 'x', cmap = 'Set1', alpha = 0.1);\n",
    "\n",
    "# axes[1].plot(X[:,0], label = 'IDrain1'); axes[1].plot(X[:,1], label = 'IDrain2')\n",
    "# axes[1].set_title(\"Output of device - Features for learning (X)\"); axes[1].set_xlabel('Time'); axes[1].set_ylabel('A')\n",
    "# axes[1].legend()"
   ]
  },
  {
   "cell_type": "code",
   "execution_count": 10,
   "metadata": {},
   "outputs": [
    {
     "data": {
      "text/plain": [
       "(20000, 168)"
      ]
     },
     "execution_count": 10,
     "metadata": {},
     "output_type": "execute_result"
    }
   ],
   "source": [
    "X_Test.shape"
   ]
  },
  {
   "cell_type": "code",
   "execution_count": 11,
   "metadata": {},
   "outputs": [
    {
     "data": {
      "text/plain": [
       "(40000, 168)"
      ]
     },
     "execution_count": 11,
     "metadata": {},
     "output_type": "execute_result"
    }
   ],
   "source": [
    "X.shape"
   ]
  },
  {
   "cell_type": "code",
   "execution_count": 12,
   "metadata": {},
   "outputs": [
    {
     "data": {
      "text/plain": [
       "(40000,)"
      ]
     },
     "execution_count": 12,
     "metadata": {},
     "output_type": "execute_result"
    }
   ],
   "source": [
    "y.shape"
   ]
  },
  {
   "cell_type": "code",
   "execution_count": 13,
   "metadata": {},
   "outputs": [
    {
     "data": {
      "text/plain": [
       "(20000,)"
      ]
     },
     "execution_count": 13,
     "metadata": {},
     "output_type": "execute_result"
    }
   ],
   "source": [
    "y_Test.shape"
   ]
  },
  {
   "cell_type": "code",
   "execution_count": null,
   "metadata": {},
   "outputs": [],
   "source": [
    "# # Training\n",
    "# X_train, X_test, y_train, y_test = train_test_split(X, y, test_size = 0, random_state = 0)\n",
    "\n",
    "\n",
    "\n",
    "# if test_type=='SVM':\n",
    "\n",
    "# grid.fit(X, y)\n",
    "# print (grid.score(X_test, y_Test))\n",
    "# print ('best parameters from train data: ', grid.best_params_)\n",
    "\n",
    "# y_pred = grid.predict(X_Test)\n",
    "\n",
    "# clf = SVC(C=10,kernel='linear',gamma=1,probability=False).fit(X, y) #change kernel here\n",
    "# elif test_type=='LDA':\n",
    "# clf = LinearDiscriminantAnalysis().fit(X, y)\n",
    "# clf = RandomForestClassifier().fit(X, y)\n",
    "\n",
    "predictedValues = clf.predict(X_Test)\n",
    "print(X.shape)\n",
    "print('Train accuracy:', clf.score(X, y))\n",
    "print('Test accuracy:', clf.score(X_Test, y_Test))\n"
   ]
  },
  {
   "cell_type": "code",
   "execution_count": null,
   "metadata": {},
   "outputs": [],
   "source": [
    "predictedValues==y_Test"
   ]
  },
  {
   "cell_type": "code",
   "execution_count": 30,
   "metadata": {},
   "outputs": [
    {
     "data": {
      "image/png": "[encoded data removed]",
      "text/plain": [
       "<Figure size 1080x720 with 16 Axes>"
      ]
     },
     "metadata": {
      "needs_background": "light"
     },
     "output_type": "display_data"
    }
   ],
   "source": [
    "fig, axes = plt.subplots(2,8, figsize=(15,10))\n",
    "\n",
    "for i, ax in enumerate(axes.flatten()):\n",
    "    ax.imshow(X[i].reshape((28,6)))\n",
    "    ax.set_title(y[i])"
   ]
  },
  {
   "cell_type": "code",
   "execution_count": 22,
   "metadata": {},
   "outputs": [
    {
     "data": {
      "text/plain": [
       "9"
      ]
     },
     "execution_count": 22,
     "metadata": {},
     "output_type": "execute_result"
    }
   ],
   "source": []
  },
  {
   "cell_type": "code",
   "execution_count": null,
   "metadata": {},
   "outputs": [],
   "source": []
  }
 ],
 "metadata": {
  "kernelspec": {
   "display_name": "Python 3",
   "language": "python",
   "name": "python3"
  },
  "language_info": {
   "codemirror_mode": {
    "name": "ipython",
    "version": 3
   },
   "file_extension": ".py",
   "mimetype": "text/x-python",
   "name": "python",
   "nbconvert_exporter": "python",
   "pygments_lexer": "ipython3",
   "version": "3.7.3"
  }
 },
 "nbformat": 4,
 "nbformat_minor": 2
}
