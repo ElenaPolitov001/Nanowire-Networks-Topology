{
 "cells": [
  {
   "cell_type": "code",
   "execution_count": 4,
   "metadata": {},
   "outputs": [],
   "source": [
    "from scipy.io import loadmat\n",
    "import numpy as np\n",
    "import matplotlib.pyplot as plt\n",
    "import seaborn as sns\n",
    "import datetime\n",
    "\n",
    "from sklearn.model_selection import train_test_split, GridSearchCV\n",
    "from sklearn.svm import SVC\n",
    "from sklearn.discriminant_analysis import LinearDiscriminantAnalysis\n",
    "from sklearn.linear_model import LogisticRegression\n",
    "from sklearn.tree import DecisionTreeClassifier\n",
    "from sklearn.neighbors import KNeighborsClassifier\n",
    "from sklearn.ensemble import RandomForestClassifier\n",
    "from sklearn.preprocessing import StandardScaler, Normalizer"
   ]
  },
  {
   "cell_type": "code",
   "execution_count": 140,
   "metadata": {},
   "outputs": [],
   "source": [
    "# # Define Paths\n",
    "\n",
    "# train_num='1'\n",
    "# test_num='7'\n",
    "# num_nanowires='100'\n",
    "# Time = '30'\n",
    "# test_type='LDA' #LDA\n",
    "# kernel_type='linear' #linear, rbf - kernel options for SVM\n",
    "# date_of_training='14'\n",
    "# date_of_testing='14'\n",
    "\n",
    "# multi_class=1 #CHANGE HERE FOR MULTI-CLASS LDA/SVM (1 = yes, 0 = no)\n",
    "# if multi_class:\n",
    "#     m='_multi-class_YES'\n",
    "# else:\n",
    "#     m='_multi-class_NO'\n",
    "\n",
    "# # path=\"C:/Users/aloe8475/Documents/PhD/GitHub/CODE/Adrian's Code/NETWORK_sims_2/Saved Networks/Simulations Only/Python Data/\"\n",
    "\n",
    "# #     save_path='C:/Users/aloe8475/Documents/PhD/GitHub/CODE/Data/Figures/' + test_type + '/Python LDA/'\n",
    "# else:\n",
    "#     save_path='C:/Users/aloe8475/Documents/PhD/GitHub/CODE/Data/Figures/' + test_type + '/'\n",
    "\n",
    "# #Train with a testing file:\n",
    "# # filename_train = path + 'Net_Sx_20_NoW100_03_25-2019_11_23_38_Zdenka_Square_1SimsOnly_10_Sec_4Electrodes_Vmax_0.5_Testing Simulation_' + train_num + '_' + date_of_training + '-Jun-2019_ForPython.mat'\n",
    "\n",
    "# #Train with normal file:\n",
    "# filename_train = path + 'Net_Sx_20_NoW100_03_25-2019_11_23_38_Zdenka_Square_1SimsOnly_10_Sec_4Electrodes_Vmax_0.5_Training Simulation_' + train_num + '_' + date_of_training + '-Jun-2019_ForPython.mat'\n",
    "# filename_train_save= test_type+'_Training Simulation_'+ train_num + '_' + Time + '_Sec_' + num_nanowires +'nw_' + date_of_training + '-Jun-2019' \n",
    "\n",
    "# #Test with training file:\n",
    "# # filename_test = path + 'Net_Sx_20_NoW100_03_25-2019_11_23_38_Zdenka_Square_1SimsOnly_10_Sec_4Electrodes_Vmax_0.5_Training Simulation_' + test_num + '_' + date_of_testing + '-Jun-2019_ForPython.mat'\n",
    "\n",
    "# #Test with normal file\n",
    "# filename_test = path+ 'Net_Sx_20_NoW100_03_25-2019_11_23_38_Zdenka_Square_1SimsOnly_10_Sec_4Electrodes_Vmax_0.5_Testing Simulation_' + test_num +'_14-Jun-2019_ForPython.mat'\n",
    "\n",
    "# if test_type == 'SVM':\n",
    "#     filename_test_save= test_type+'_'+kernel_type+'_kernel'+'_Testing Simulation_' + test_num +'_' + Time + '_Sec_' + num_nanowires + 'nw_' + date_of_testing + '-Jun-2019' \n",
    "# else:\n",
    "#     filename_test_save= test_type+'_Testing Simulation_' + test_num +'_' + Time + '_Sec_' + num_nanowires + 'nw_' + date_of_testing + '-Jun-2019' \n",
    "\n",
    "# # filename = 'Alon_Code/Data/Testing/Extracted_test_2.mat'"
   ]
  },
  {
   "cell_type": "code",
   "execution_count": 16,
   "metadata": {},
   "outputs": [],
   "source": [
    "# Load Samples for Early/Mid/Late/Never\n",
    "\n",
    "path= r\"C:/Users/aloe8475/Dropbox (Sydney Uni)/Data/ASN_simulation/Python/ASN/data/\"\n",
    "\n",
    "classifier = loadmat(path+'emln.mat')['bang']\n",
    "pairinglist=loadmat(path+'ElecPos.mat')['elecPos']-1"
   ]
  },
  {
   "cell_type": "code",
   "execution_count": 214,
   "metadata": {},
   "outputs": [
    {
     "data": {
      "text/plain": [
       "array([[ 4, 17],\n",
       "       [49, 22],\n",
       "       [26, 99],\n",
       "       [ 3, 76],\n",
       "       [80, 54],\n",
       "       [57, 31],\n",
       "       [33,  8],\n",
       "       [10, 85],\n",
       "       [87, 62],\n",
       "       [64, 40],\n",
       "       [41, 17],\n",
       "       [18, 94],\n",
       "       [95, 71],\n",
       "       [71, 48],\n",
       "       [48, 26],\n",
       "       [25,  3],\n",
       "       [ 2, 80],\n",
       "       [79, 57],\n",
       "       [56, 35],\n",
       "       [33, 12],\n",
       "       [10, 89],\n",
       "       [86, 66],\n",
       "       [63, 43],\n",
       "       [40, 21],\n",
       "       [17, 98],\n",
       "       [94, 75],\n",
       "       [71, 52],\n",
       "       [48, 29],\n",
       "       [25,  7],\n",
       "       [ 1, 84],\n",
       "       [78, 61],\n",
       "       [55, 38],\n",
       "       [32, 16],\n",
       "       [ 9, 93],\n",
       "       [86, 70],\n",
       "       [63, 47],\n",
       "       [39, 24],\n",
       "       [16,  2],\n",
       "       [93, 79],\n",
       "       [70, 56],\n",
       "       [47, 33],\n",
       "       [24, 10],\n",
       "       [ 1, 88],\n",
       "       [78, 65],\n",
       "       [54, 42],\n",
       "       [31, 19],\n",
       "       [ 8, 96],\n",
       "       [85, 74],\n",
       "       [62, 51],\n",
       "       [39, 28],\n",
       "       [16,  5],\n",
       "       [92, 83],\n",
       "       [69, 60],\n",
       "       [46, 37],\n",
       "       [23, 14],\n",
       "       [ 0, 91],\n",
       "       [77, 69],\n",
       "       [54, 46],\n",
       "       [31, 23],\n",
       "       [ 7,  0],\n",
       "       [84, 77],\n",
       "       [61, 55],\n",
       "       [38, 32],\n",
       "       [15,  9],\n",
       "       [92, 86],\n",
       "       [69, 64],\n",
       "       [46, 41],\n",
       "       [22, 18],\n",
       "       [99, 95],\n",
       "       [76, 72],\n",
       "       [53, 50],\n",
       "       [30, 27],\n",
       "       [ 7,  4],\n",
       "       [84, 81],\n",
       "       [60, 58],\n",
       "       [37, 36],\n",
       "       [14, 13],\n",
       "       [91, 90],\n",
       "       [68, 67],\n",
       "       [45, 44],\n",
       "       [22, 80],\n",
       "       [99, 81]], dtype=uint8)"
      ]
     },
     "execution_count": 214,
     "metadata": {},
     "output_type": "execute_result"
    }
   ],
   "source": [
    "    pairinglist[0,:] = np.array([4,17])\n",
    "    pairinglist[80,:] = np.array([22, 80])\n",
    "    pairinglist[81,:] = np.array([99, 81])\n"
   ]
  },
  {
   "cell_type": "code",
   "execution_count": 198,
   "metadata": {},
   "outputs": [],
   "source": [
    "file_train=[]\n",
    "for i in range(100):\n",
    "    file_train.append(loadmat(path+'source_'+str(pairinglist[i,0])+'_drain_'+str(pairinglist[i,1]))['sep_495'])"
   ]
  },
  {
   "cell_type": "code",
   "execution_count": 203,
   "metadata": {},
   "outputs": [],
   "source": [
    "# Load the Training data\n",
    "# Load Early/Mid/Late/Never\n",
    "IDrain1_Train=file_train[16]['IDrain1'][0][0]\n",
    "VSource1_Train=file_train[16]['VSource1'][0][0]\n",
    "# Load other combo\n",
    "IDrain1_Test=file_train[0]['IDrain1'][0][0]\n",
    "VSource1_Test=file_train[0]['VSource1'][0][0]\n",
    "\n",
    "# IDrain = data['IDrain']#.todense()\n",
    "# VSource = data['VSource']\n",
    "# IDrain1_Train=IDrain[:,0].todense()\n",
    "# IDrain2_Train=IDrain[:,1].todense()\n",
    "# VSource1_Train=VSource[:,0]\n",
    "# VSource2_Train=VSource[:,1]"
   ]
  },
  {
   "cell_type": "code",
   "execution_count": 204,
   "metadata": {
    "scrolled": true
   },
   "outputs": [
    {
     "data": {
      "text/plain": [
       "<matplotlib.legend.Legend at 0x2c415593518>"
      ]
     },
     "execution_count": 204,
     "metadata": {},
     "output_type": "execute_result"
    },
    {
     "data": {
      "image/png": "[encoded data removed]",
      "text/plain": [
       "<Figure size 1152x288 with 2 Axes>"
      ]
     },
     "metadata": {
      "needs_background": "light"
     },
     "output_type": "display_data"
    }
   ],
   "source": [
    "# Explore\n",
    "fig, axes = plt.subplots(1, 2, figsize=(16, 4))\n",
    "\n",
    "axes[0].plot(VSource1_Train.ravel(), label = 'VSource1'); axes[0].plot(VSource1_Test.ravel(), label = 'VSource2')\n",
    "axes[0].set_title(\"Input to device - Target for learning (y)\"); axes[0].set_xlabel('Time'); axes[0].set_ylabel('V')\n",
    "axes[0].legend()\n",
    "axes[1].plot(IDrain1_Train.ravel(), label = 'IDrain Train'); axes[1].plot(IDrain1_Test.ravel(), label = 'IDrain Test')\n",
    "axes[1].set_title(\"Output of device - Features for learning (X)\"); axes[1].set_xlabel('Time'); axes[1].set_ylabel('A')\n",
    "axes[1].legend()\n",
    "\n",
    "# fig.savefig(save_path + filename_train_save + m + '_Training_Parameters_'+datetime.datetime.now().strftime(\"%Y-%m-%d\") +'.jpg')\n",
    "# fig.savefig(save_path + filename_train_save + m +'_Training_Parameters_'+datetime.datetime.now().strftime(\"%Y-%m-%d\") +'.eps')"
   ]
  },
  {
   "cell_type": "code",
   "execution_count": 205,
   "metadata": {},
   "outputs": [],
   "source": [
    "# Split the data\n",
    "start_time = 0\n",
    "# X = np.hstack([IDrain1_Train, IDrain2_Train])[start_time:]\n",
    "X = IDrain1_Train[start_time:].reshape(-1,1)\n",
    "\n",
    "y = VSource1_Train[start_time:].reshape(-1,1)\n",
    "y = (y == np.nanmax(y))\n",
    "\n",
    "X_Test=IDrain1_Test[start_time:].reshape(-1,1)\n",
    "y_Test=VSource1_Test[start_time:].reshape(-1,1)\n",
    "y_Test = (y_Test == np.nanmax(y_Test))\n",
    "# y2 = VSource2_Train[start_time:].ravel()\n",
    "# y2 = (y2 == np.nanmax(y2)) * 2\n",
    "# if multi_class:\n",
    "#     y = y + y2\n",
    "\n",
    "# # X[:,1] = X[:,1] / X[:,0]\n",
    "# scalar = StandardScaler()\n",
    "# # scalar = Normalizer(norm = 'l2')\n",
    "# X = scalar.fit_transform(X)\n",
    "# # # X = (X - X.mean(axis = 0)) / X.std(axis = 0)\n",
    "# # # X = (X - X.mean(axis = 0)) / X.std(axis = 0)\n",
    "# # # X = (X - X.mean(axis = 1)) / X.std(axis = 1)\n",
    "# # X = np.asarray(X) * 1\n",
    "\n",
    "# # sns.kdeplot(X[:,0][y], X[:,1][y])\n",
    "# # sns.kdeplot(X[:,0][~y], X[:,1][~y])\n",
    "# fig, axes = plt.subplots(1, 2, figsize=(16, 4))\n",
    "\n",
    "# axes[0].scatter(X[:,0], X[:,1], c = y, marker = 'x', cmap = 'Set1', alpha = 0.1);\n",
    "\n",
    "# axes[1].plot(X[:,0], label = 'IDrain1'); axes[1].plot(X[:,1], label = 'IDrain2')\n",
    "# axes[1].set_title(\"Output of device - Features for learning (X)\"); axes[1].set_xlabel('Time'); axes[1].set_ylabel('A')\n",
    "# axes[1].legend()"
   ]
  },
  {
   "cell_type": "code",
   "execution_count": 206,
   "metadata": {},
   "outputs": [
    {
     "data": {
      "text/plain": [
       "[(0, 0.0),\n",
       " (1, 0.0),\n",
       " (2, 1.0),\n",
       " (3, 3.0),\n",
       " (4, 0.0),\n",
       " (5, 1.0),\n",
       " (6, 0.0),\n",
       " (7, 3.0),\n",
       " (8, 3.0),\n",
       " (9, 1.0),\n",
       " (10, 1.0),\n",
       " (11, 3.0),\n",
       " (12, 3.0),\n",
       " (13, 0.0),\n",
       " (14, 0.0),\n",
       " (15, 0.0),\n",
       " (16, 2.0),\n",
       " (17, 3.0),\n",
       " (18, 3.0),\n",
       " (19, 0.0),\n",
       " (20, 3.0),\n",
       " (21, 1.0),\n",
       " (22, 0.0),\n",
       " (23, 0.0),\n",
       " (24, 2.0),\n",
       " (25, 3.0),\n",
       " (26, 3.0),\n",
       " (27, 1.0),\n",
       " (28, 3.0),\n",
       " (29, 3.0),\n",
       " (30, 3.0),\n",
       " (31, 0.0),\n",
       " (32, 0.0),\n",
       " (33, 3.0),\n",
       " (34, 2.0),\n",
       " (35, 1.0),\n",
       " (36, 0.0),\n",
       " (37, 3.0),\n",
       " (38, 3.0),\n",
       " (39, 0.0),\n",
       " (40, 1.0),\n",
       " (41, 2.0),\n",
       " (42, 2.0),\n",
       " (43, 3.0),\n",
       " (44, 0.0),\n",
       " (45, 0.0),\n",
       " (46, 3.0),\n",
       " (47, 1.0),\n",
       " (48, 3.0),\n",
       " (49, 3.0),\n",
       " (50, 3.0),\n",
       " (51, 1.0),\n",
       " (52, 1.0),\n",
       " (53, 3.0),\n",
       " (54, 3.0),\n",
       " (55, 3.0),\n",
       " (56, 0.0),\n",
       " (57, 1.0),\n",
       " (58, 3.0),\n",
       " (59, 3.0),\n",
       " (60, 3.0),\n",
       " (61, 1.0),\n",
       " (62, 0.0),\n",
       " (63, 3.0),\n",
       " (64, 0.0),\n",
       " (65, 0.0),\n",
       " (66, 0.0),\n",
       " (67, 3.0),\n",
       " (68, 0.0),\n",
       " (69, 3.0),\n",
       " (70, 0.0),\n",
       " (71, 1.0),\n",
       " (72, 3.0),\n",
       " (73, 3.0),\n",
       " (74, 1.0),\n",
       " (75, 3.0),\n",
       " (76, 0.0),\n",
       " (77, 3.0),\n",
       " (78, 0.0),\n",
       " (79, 1.0),\n",
       " (80, 1.0),\n",
       " (81, 3.0),\n",
       " (82, 3.0),\n",
       " (83, 0.0),\n",
       " (84, 0.0),\n",
       " (85, 0.0),\n",
       " (86, 1.0),\n",
       " (87, 3.0),\n",
       " (88, 1.0),\n",
       " (89, 0.0),\n",
       " (90, 0.0),\n",
       " (91, 3.0),\n",
       " (92, 0.0),\n",
       " (93, 3.0),\n",
       " (94, 3.0),\n",
       " (95, 1.0),\n",
       " (96, 1.0),\n",
       " (97, 1.0),\n",
       " (98, 0.0),\n",
       " (99, 1.0)]"
      ]
     },
     "execution_count": 206,
     "metadata": {},
     "output_type": "execute_result"
    }
   ],
   "source": [
    "list(zip(range(len(classifier[0])), classifier[0]))"
   ]
  },
  {
   "cell_type": "code",
   "execution_count": 207,
   "metadata": {},
   "outputs": [
    {
     "name": "stdout",
     "output_type": "stream",
     "text": [
      "Test accuracy: 0.9866666666666667\n"
     ]
    },
    {
     "name": "stderr",
     "output_type": "stream",
     "text": [
      "C:\\Users\\aloe8475\\AppData\\Local\\Continuum\\anaconda3\\lib\\site-packages\\sklearn\\utils\\validation.py:761: DataConversionWarning: A column-vector y was passed when a 1d array was expected. Please change the shape of y to (n_samples, ), for example using ravel().\n",
      "  y = column_or_1d(y, warn=True)\n"
     ]
    }
   ],
   "source": [
    "# Training\n",
    "# X_train, X_test, y_train, y_test = train_test_split(X, y, test_size = 0, random_state = 0)\n",
    "\n",
    "# if test_type=='SVM':\n",
    "#  clf = SVC(kernel = kernel_type, C = 1, probability = True).fit(X_train, y_train) #change kernel here\n",
    "# elif test_type=='LDA':\n",
    "clf = LinearDiscriminantAnalysis().fit(X, y)\n",
    "# clf = RandomForestClassifier().fit(X_train, y_train)\n",
    "\n",
    "y_pred = clf.predict(X_Test)\n",
    "\n",
    "print('Test accuracy:', clf.score(X_Test, y_Test))"
   ]
  },
  {
   "cell_type": "code",
   "execution_count": 136,
   "metadata": {},
   "outputs": [],
   "source": [
    "# y_pred"
   ]
  },
  {
   "cell_type": "code",
   "execution_count": 146,
   "metadata": {},
   "outputs": [],
   "source": [
    "# clf.predict_proba(X_test)"
   ]
  },
  {
   "cell_type": "code",
   "execution_count": 147,
   "metadata": {},
   "outputs": [],
   "source": [
    "# Plot\n",
    "def make_meshgrid(x, y, h=.02):\n",
    "    x_min, x_max = x.min() - 1, x.max() + 1\n",
    "    y_min, y_max = y.min() - 1, y.max() + 1\n",
    "    xx, yy = np.meshgrid(np.arange(x_min, x_max, h), np.arange(y_min, y_max, h))\n",
    "    return xx, yy\n",
    "\n",
    "def plot_contours(ax, clf, xx, yy, **params):\n",
    "    Z = clf.predict(np.c_[xx.ravel(), yy.ravel()])\n",
    "    Z = Z.reshape(xx.shape)\n",
    "    out = ax.contourf(xx, yy, Z, **params)\n",
    "    return out"
   ]
  },
  {
   "cell_type": "code",
   "execution_count": 148,
   "metadata": {},
   "outputs": [
    {
     "data": {
      "image/png": "[encoded data removed]",
      "text/plain": [
       "<Figure size 432x288 with 1 Axes>"
      ]
     },
     "metadata": {
      "needs_background": "light"
     },
     "output_type": "display_data"
    }
   ],
   "source": [
    "X0, X1 = X[:, 0], X[:, 1]\n",
    "xx, yy = make_meshgrid(X0, X1)\n",
    "\n",
    "fig, ax = plt.subplots()\n",
    "plot_contours(ax, clf, xx, yy, cmap=plt.cm.coolwarm, alpha=0.8)\n",
    "ax.scatter(X0, X1, c=y, cmap=plt.cm.coolwarm, s=20, edgecolors='k')\n",
    "\n",
    "fig.savefig(save_path + filename_train_save + m + '_Training_Classification_' +datetime.datetime.now().strftime(\"%Y-%m-%d\") +'.jpg')\n",
    "fig.savefig(save_path + filename_train_save + m + '_Training_Classification_' +datetime.datetime.now().strftime(\"%Y-%m-%d\") +'.eps')\n"
   ]
  },
  {
   "cell_type": "code",
   "execution_count": 149,
   "metadata": {},
   "outputs": [],
   "source": [
    "# Load the test data\n",
    "data_test = loadmat(filename_test)"
   ]
  },
  {
   "cell_type": "code",
   "execution_count": 150,
   "metadata": {},
   "outputs": [],
   "source": [
    "IDrain = data_test['IDrain']#.todense()\n",
    "VSource = data_test['VSource']\n",
    "IDrain1_Test=IDrain[:,0].todense()\n",
    "IDrain2_Test=IDrain[:,1].todense()\n",
    "VSource1_Test=VSource[:,0]\n",
    "VSource2_Test=VSource[:,1]"
   ]
  },
  {
   "cell_type": "code",
   "execution_count": 151,
   "metadata": {},
   "outputs": [],
   "source": [
    "new_start_time = 0\n",
    "X_test = np.hstack([IDrain1_Test, IDrain2_Test])[new_start_time:]\n",
    "\n",
    "# X[:,1] = X[:,1] / X[:,0]\n",
    "X_test = scalar.transform(X_test)\n",
    "# scalar = Normalizer(norm = 'l1')\n",
    "# X_test = scalar.transform(X_test)\n",
    "# X_test = (X_test - X_test[start_time:].mean(axis = 0)) / X_test[start_time:].std(axis = 0)\n",
    "# X_test = (X_test - X_test.mean(axis = 1)) / X_test.std(axis = 1)\n",
    "\n",
    "# X_test = (X_test - X_test.mean(axis = 0)) / X_test.std(axis = 0)\n",
    "# X = (X - X.mean(axis = 1)) / X.std(axis = 1)\n",
    "X_test = np.asarray(X_test) * 1\n",
    "\n",
    "y = VSource1_Test[new_start_time:].ravel()\n",
    "y = (y == y.max())\n",
    "y2 = VSource2_Test[new_start_time:].ravel()\n",
    "y2 = (y2 == np.nanmax(y2)) * 2\n",
    "if multi_class:\n",
    "    y_test = y + y2\n",
    "\n",
    "y_pred = clf.predict(X_test)"
   ]
  },
  {
   "cell_type": "code",
   "execution_count": 152,
   "metadata": {},
   "outputs": [
    {
     "data": {
      "image/png": "[encoded data removed]",
      "text/plain": [
       "<Figure size 432x288 with 1 Axes>"
      ]
     },
     "metadata": {
      "needs_background": "light"
     },
     "output_type": "display_data"
    }
   ],
   "source": [
    "X0, X1 = X_test[:, 0], X_test[:, 1]\n",
    "xx, yy = make_meshgrid(X0, X1)\n",
    "\n",
    "fig, ax = plt.subplots()\n",
    "plot_contours(ax, clf, xx, yy, cmap=plt.cm.coolwarm, alpha=0.8)\n",
    "ax.scatter(X0, X1, c=y_test, cmap=plt.cm.coolwarm, s=20, edgecolors='k')\n",
    "\n",
    "fig.savefig(save_path + filename_train_save + '_' + filename_test_save + m +  '_Testing_Classification_' +datetime.datetime.now().strftime(\"%Y-%m-%d\") +'.jpg')\n",
    "fig.savefig(save_path + filename_train_save + '_' + filename_test_save + m + '_Testing_Classification_' +datetime.datetime.now().strftime(\"%Y-%m-%d\") +'.eps')"
   ]
  },
  {
   "cell_type": "code",
   "execution_count": 153,
   "metadata": {
    "scrolled": true
   },
   "outputs": [
    {
     "data": {
      "image/png": "[encoded data removed]",
      "text/plain": [
       "<Figure size 1152x288 with 2 Axes>"
      ]
     },
     "metadata": {
      "needs_background": "light"
     },
     "output_type": "display_data"
    }
   ],
   "source": [
    "# Explore\n",
    "fig, axes = plt.subplots(1, 2, figsize=(16, 4))\n",
    "\n",
    "axes[0].plot(VSource1_Test, label = 'VSource1'); axes[0].plot(VSource2_Test, label = 'VSource2')\n",
    "axes[0].set_title(\"Input to device - Target for learning (y)\"); axes[0].set_xlabel('Time'); axes[0].set_ylabel('V')\n",
    "axes[0].legend()\n",
    "axes[1].plot(IDrain1_Test, label = 'IDrain1'); axes[1].plot(IDrain2_Test, label = 'IDrain2')\n",
    "axes[1].set_title(\"Output of device - Features for learning (X)\"); axes[1].set_xlabel('Time'); axes[1].set_ylabel('A')\n",
    "axes[1].legend()\n",
    "\n",
    "fig.savefig(save_path + filename_train_save + '_' + filename_test_save + m + '_Testing_Parameters_' +datetime.datetime.now().strftime(\"%Y-%m-%d\") +'.jpg')\n",
    "fig.savefig(save_path + filename_train_save + '_' + filename_test_save + m + '_Testing_Parameters_' +datetime.datetime.now().strftime(\"%Y-%m-%d\") +'.eps')"
   ]
  },
  {
   "cell_type": "code",
   "execution_count": 154,
   "metadata": {},
   "outputs": [
    {
     "data": {
      "image/png": "[encoded data removed]",
      "text/plain": [
       "<Figure size 432x288 with 1 Axes>"
      ]
     },
     "metadata": {
      "needs_background": "light"
     },
     "output_type": "display_data"
    }
   ],
   "source": [
    "plt.plot(y_pred == 1, label = 'VSource1')\n",
    "plt.plot(y_pred == 2, label = 'VSource2')\n",
    "plt.plot(VSource1_Test, label = 'VSource1_actual')\n",
    "plt.plot(VSource2_Test, label = 'VSource2_actual')\n",
    "plt.legend()\n",
    "plt.savefig(save_path + filename_train_save + '_' + filename_test_save + '_' + test_type + m +  '_Prediction_' +datetime.datetime.now().strftime(\"%Y-%m-%d\") +'.jpg')\n",
    "plt.savefig(save_path + filename_train_save + '_' + filename_test_save + '_' + test_type + m + '_Prediction_' +datetime.datetime.now().strftime(\"%Y-%m-%d\") +'.eps')"
   ]
  },
  {
   "cell_type": "code",
   "execution_count": null,
   "metadata": {},
   "outputs": [],
   "source": []
  },
  {
   "cell_type": "code",
   "execution_count": null,
   "metadata": {},
   "outputs": [],
   "source": []
  },
  {
   "cell_type": "code",
   "execution_count": null,
   "metadata": {},
   "outputs": [],
   "source": []
  },
  {
   "cell_type": "code",
   "execution_count": null,
   "metadata": {},
   "outputs": [],
   "source": []
  }
 ],
 "metadata": {
  "kernelspec": {
   "display_name": "Python 3",
   "language": "python",
   "name": "python3"
  },
  "language_info": {
   "codemirror_mode": {
    "name": "ipython",
    "version": 3
   },
   "file_extension": ".py",
   "mimetype": "text/x-python",
   "name": "python",
   "nbconvert_exporter": "python",
   "pygments_lexer": "ipython3",
   "version": "3.7.3"
  }
 },
 "nbformat": 4,
 "nbformat_minor": 2
}
