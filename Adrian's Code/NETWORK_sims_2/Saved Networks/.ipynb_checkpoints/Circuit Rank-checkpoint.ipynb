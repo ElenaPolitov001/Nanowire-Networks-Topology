{
 "cells": [
  {
   "cell_type": "code",
   "execution_count": 24,
   "metadata": {},
   "outputs": [],
   "source": [
    "import networkx as nx \n",
    "import scipy.io\n",
    "from scipy.io import loadmat\n",
    "import numpy as np\n",
    "import matplotlib.pyplot as plt\n",
    "import seaborn as sns\n",
    "\n",
    "import hdf5storage"
   ]
  },
  {
   "cell_type": "code",
   "execution_count": 25,
   "metadata": {},
   "outputs": [],
   "source": [
    "#Define file name\n",
    "path=\"C:/Users/aloe8475/Documents/GitHub/CODE/Adrian's Code/NETWORK_sims_2/Saved Networks/Simulations Only/Python Data/\"\n",
    "file_name=path + 'Net_Sx_20_NoW500_03_30-2019_11_16_59_Zdenka_Square_1SimsOnly_20_Sec_4Electrodes_Vmax_0.25_Training Simulation_1_11-Jun-2019_ForPython'\n"
   ]
  },
  {
   "cell_type": "code",
   "execution_count": 26,
   "metadata": {},
   "outputs": [],
   "source": [
    "# Define function\n",
    "def analyse_network(file_name):\n",
    "    wires_dict = hdf5storage.loadmat(file_name)\n",
    "    graph =nx.Graph(wires_dict['AdjMat'])\n",
    "        \n",
    "    diameter = nx.diameter(graph)\n",
    "    print('diameter: ' + str(diameter))\n",
    "    \n",
    "    charpath = nx.average_shortest_path_length(graph)\n",
    "    print('characteristic path length: ' + str(charpath))\n",
    "    \n",
    "    density = nx.density(graph)\n",
    "    print('density: ' + str(density))\n",
    "    \n",
    "    circuit_rank = nx.number_of_edges(graph) - nx.number_of_nodes(graph) + nx.number_connected_components(graph)\n",
    "    print('circuit rank: ' + str(circuit_rank))\n",
    "    \n",
    "    avg_nd = nx.number_of_edges(graph)*2.0/nx.number_of_nodes(graph)\n",
    "    print('average node degree: ' + str(avg_nd))\n",
    "    \n",
    "    return dict(number_of_wires = nx.number_of_nodes(graph),\n",
    "                number_of_junctions = nx.number_of_edges(graph),\n",
    "                diameter = diameter,\n",
    "                charpath = charpath,\n",
    "                curcuit_rank = circuit_rank,\n",
    "                avg_nd = avg_nd)"
   ]
  },
  {
   "cell_type": "code",
   "execution_count": 28,
   "metadata": {},
   "outputs": [
    {
     "name": "stdout",
     "output_type": "stream",
     "text": [
      "diameter: 9\n",
      "characteristic path length: 3.608542823204286\n",
      "density: 0.04900891291524246\n",
      "circuit rank: 5568\n",
      "average node degree: 24.3574297188755\n"
     ]
    }
   ],
   "source": [
    "# Call function\n",
    "output=analyse_network(file_name)"
   ]
  },
  {
   "cell_type": "code",
   "execution_count": 29,
   "metadata": {},
   "outputs": [
    {
     "data": {
      "text/plain": [
       "{'number_of_wires': 498,\n",
       " 'number_of_junctions': 6065,\n",
       " 'diameter': 9,\n",
       " 'charpath': 3.608542823204286,\n",
       " 'curcuit_rank': 5568,\n",
       " 'avg_nd': 24.3574297188755}"
      ]
     },
     "execution_count": 29,
     "metadata": {},
     "output_type": "execute_result"
    }
   ],
   "source": [
    "output"
   ]
  },
  {
   "cell_type": "code",
   "execution_count": null,
   "metadata": {},
   "outputs": [],
   "source": []
  }
 ],
 "metadata": {
  "kernelspec": {
   "display_name": "Python 3",
   "language": "python",
   "name": "python3"
  },
  "language_info": {
   "codemirror_mode": {
    "name": "ipython",
    "version": 3
   },
   "file_extension": ".py",
   "mimetype": "text/x-python",
   "name": "python",
   "nbconvert_exporter": "python",
   "pygments_lexer": "ipython3",
   "version": "3.7.3"
  }
 },
 "nbformat": 4,
 "nbformat_minor": 2
}
